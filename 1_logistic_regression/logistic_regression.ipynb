{
 "metadata": {
  "language_info": {
   "codemirror_mode": {
    "name": "ipython",
    "version": 3
   },
   "file_extension": ".py",
   "mimetype": "text/x-python",
   "name": "python",
   "nbconvert_exporter": "python",
   "pygments_lexer": "ipython3",
   "version": "3.8.9"
  },
  "orig_nbformat": 2,
  "kernelspec": {
   "name": "python389jvsc74a57bd0082a18f759f8afdec9b7eec773590a36e4c3be1cd97bea91855dea5176a8175a",
   "display_name": "Python 3.8.9 64-bit ('fcapy': virtualenvwrapper)"
  }
 },
 "nbformat": 4,
 "nbformat_minor": 2,
 "cells": [
  {
   "cell_type": "code",
   "execution_count": 30,
   "metadata": {},
   "outputs": [],
   "source": [
    "import os\n",
    "import pandas as pd\n",
    "import numpy as np\n",
    "import plotly.express as px\n",
    "import seaborn as sns\n",
    "\n",
    "from sklearn.model_selection import train_test_split\n",
    "from sklearn.linear_model import LogisticRegression\n",
    "from sklearn.metrics import classification_report, confusion_matrix\n",
    "from sklearn.model_selection import train_test_split\n",
    "from sklearn.preprocessing import StandardScaler"
   ]
  },
  {
   "source": [
    "# CS:GO Round Winner Classification\n",
    "\n",
    "\n",
    "URL: https://www.kaggle.com/christianlillelund/csgo-round-winner-classification"
   ],
   "cell_type": "markdown",
   "metadata": {}
  },
  {
   "cell_type": "code",
   "execution_count": 31,
   "metadata": {},
   "outputs": [
    {
     "output_type": "execute_result",
     "data": {
      "text/plain": [
       "(122410, 97)"
      ]
     },
     "metadata": {},
     "execution_count": 31
    }
   ],
   "source": [
    "df_cs = pd.read_csv(os.path.join('dataset', 'csgo_round_snapshots.csv'))\n",
    "df_cs.shape"
   ]
  },
  {
   "cell_type": "code",
   "execution_count": 32,
   "metadata": {},
   "outputs": [
    {
     "output_type": "execute_result",
     "data": {
      "text/plain": [
       "   time_left  ct_score  t_score       map  bomb_planted  ct_health  t_health  \\\n",
       "0     175.00       0.0      0.0  de_dust2         False      500.0     500.0   \n",
       "1     156.03       0.0      0.0  de_dust2         False      500.0     500.0   \n",
       "2      96.03       0.0      0.0  de_dust2         False      391.0     400.0   \n",
       "3      76.03       0.0      0.0  de_dust2         False      391.0     400.0   \n",
       "4     174.97       1.0      0.0  de_dust2         False      500.0     500.0   \n",
       "\n",
       "   ct_armor  t_armor  ct_money  ...  t_grenade_flashbang  \\\n",
       "0       0.0      0.0    4000.0  ...                  0.0   \n",
       "1     400.0    300.0     600.0  ...                  0.0   \n",
       "2     294.0    200.0     750.0  ...                  0.0   \n",
       "3     294.0    200.0     750.0  ...                  0.0   \n",
       "4     192.0      0.0   18350.0  ...                  0.0   \n",
       "\n",
       "   ct_grenade_smokegrenade  t_grenade_smokegrenade  \\\n",
       "0                      0.0                     0.0   \n",
       "1                      0.0                     2.0   \n",
       "2                      0.0                     2.0   \n",
       "3                      0.0                     0.0   \n",
       "4                      0.0                     0.0   \n",
       "\n",
       "   ct_grenade_incendiarygrenade  t_grenade_incendiarygrenade  \\\n",
       "0                           0.0                          0.0   \n",
       "1                           0.0                          0.0   \n",
       "2                           0.0                          0.0   \n",
       "3                           0.0                          0.0   \n",
       "4                           0.0                          0.0   \n",
       "\n",
       "   ct_grenade_molotovgrenade  t_grenade_molotovgrenade  \\\n",
       "0                        0.0                       0.0   \n",
       "1                        0.0                       0.0   \n",
       "2                        0.0                       0.0   \n",
       "3                        0.0                       0.0   \n",
       "4                        0.0                       0.0   \n",
       "\n",
       "   ct_grenade_decoygrenade  t_grenade_decoygrenade  round_winner  \n",
       "0                      0.0                     0.0            CT  \n",
       "1                      0.0                     0.0            CT  \n",
       "2                      0.0                     0.0            CT  \n",
       "3                      0.0                     0.0            CT  \n",
       "4                      0.0                     0.0            CT  \n",
       "\n",
       "[5 rows x 97 columns]"
      ],
      "text/html": "<div>\n<style scoped>\n    .dataframe tbody tr th:only-of-type {\n        vertical-align: middle;\n    }\n\n    .dataframe tbody tr th {\n        vertical-align: top;\n    }\n\n    .dataframe thead th {\n        text-align: right;\n    }\n</style>\n<table border=\"1\" class=\"dataframe\">\n  <thead>\n    <tr style=\"text-align: right;\">\n      <th></th>\n      <th>time_left</th>\n      <th>ct_score</th>\n      <th>t_score</th>\n      <th>map</th>\n      <th>bomb_planted</th>\n      <th>ct_health</th>\n      <th>t_health</th>\n      <th>ct_armor</th>\n      <th>t_armor</th>\n      <th>ct_money</th>\n      <th>...</th>\n      <th>t_grenade_flashbang</th>\n      <th>ct_grenade_smokegrenade</th>\n      <th>t_grenade_smokegrenade</th>\n      <th>ct_grenade_incendiarygrenade</th>\n      <th>t_grenade_incendiarygrenade</th>\n      <th>ct_grenade_molotovgrenade</th>\n      <th>t_grenade_molotovgrenade</th>\n      <th>ct_grenade_decoygrenade</th>\n      <th>t_grenade_decoygrenade</th>\n      <th>round_winner</th>\n    </tr>\n  </thead>\n  <tbody>\n    <tr>\n      <th>0</th>\n      <td>175.00</td>\n      <td>0.0</td>\n      <td>0.0</td>\n      <td>de_dust2</td>\n      <td>False</td>\n      <td>500.0</td>\n      <td>500.0</td>\n      <td>0.0</td>\n      <td>0.0</td>\n      <td>4000.0</td>\n      <td>...</td>\n      <td>0.0</td>\n      <td>0.0</td>\n      <td>0.0</td>\n      <td>0.0</td>\n      <td>0.0</td>\n      <td>0.0</td>\n      <td>0.0</td>\n      <td>0.0</td>\n      <td>0.0</td>\n      <td>CT</td>\n    </tr>\n    <tr>\n      <th>1</th>\n      <td>156.03</td>\n      <td>0.0</td>\n      <td>0.0</td>\n      <td>de_dust2</td>\n      <td>False</td>\n      <td>500.0</td>\n      <td>500.0</td>\n      <td>400.0</td>\n      <td>300.0</td>\n      <td>600.0</td>\n      <td>...</td>\n      <td>0.0</td>\n      <td>0.0</td>\n      <td>2.0</td>\n      <td>0.0</td>\n      <td>0.0</td>\n      <td>0.0</td>\n      <td>0.0</td>\n      <td>0.0</td>\n      <td>0.0</td>\n      <td>CT</td>\n    </tr>\n    <tr>\n      <th>2</th>\n      <td>96.03</td>\n      <td>0.0</td>\n      <td>0.0</td>\n      <td>de_dust2</td>\n      <td>False</td>\n      <td>391.0</td>\n      <td>400.0</td>\n      <td>294.0</td>\n      <td>200.0</td>\n      <td>750.0</td>\n      <td>...</td>\n      <td>0.0</td>\n      <td>0.0</td>\n      <td>2.0</td>\n      <td>0.0</td>\n      <td>0.0</td>\n      <td>0.0</td>\n      <td>0.0</td>\n      <td>0.0</td>\n      <td>0.0</td>\n      <td>CT</td>\n    </tr>\n    <tr>\n      <th>3</th>\n      <td>76.03</td>\n      <td>0.0</td>\n      <td>0.0</td>\n      <td>de_dust2</td>\n      <td>False</td>\n      <td>391.0</td>\n      <td>400.0</td>\n      <td>294.0</td>\n      <td>200.0</td>\n      <td>750.0</td>\n      <td>...</td>\n      <td>0.0</td>\n      <td>0.0</td>\n      <td>0.0</td>\n      <td>0.0</td>\n      <td>0.0</td>\n      <td>0.0</td>\n      <td>0.0</td>\n      <td>0.0</td>\n      <td>0.0</td>\n      <td>CT</td>\n    </tr>\n    <tr>\n      <th>4</th>\n      <td>174.97</td>\n      <td>1.0</td>\n      <td>0.0</td>\n      <td>de_dust2</td>\n      <td>False</td>\n      <td>500.0</td>\n      <td>500.0</td>\n      <td>192.0</td>\n      <td>0.0</td>\n      <td>18350.0</td>\n      <td>...</td>\n      <td>0.0</td>\n      <td>0.0</td>\n      <td>0.0</td>\n      <td>0.0</td>\n      <td>0.0</td>\n      <td>0.0</td>\n      <td>0.0</td>\n      <td>0.0</td>\n      <td>0.0</td>\n      <td>CT</td>\n    </tr>\n  </tbody>\n</table>\n<p>5 rows × 97 columns</p>\n</div>"
     },
     "metadata": {},
     "execution_count": 32
    }
   ],
   "source": [
    "df_cs.head()"
   ]
  },
  {
   "cell_type": "code",
   "execution_count": 33,
   "metadata": {},
   "outputs": [
    {
     "output_type": "execute_result",
     "data": {
      "text/plain": [
       "           time_left       ct_score        t_score      ct_health  \\\n",
       "count  122410.000000  122410.000000  122410.000000  122410.000000   \n",
       "mean       97.886922       6.709239       6.780435     412.106568   \n",
       "std        54.465238       4.790362       4.823543     132.293290   \n",
       "min         0.010000       0.000000       0.000000       0.000000   \n",
       "25%        54.920000       3.000000       3.000000     350.000000   \n",
       "50%        94.910000       6.000000       6.000000     500.000000   \n",
       "75%       166.917500      10.000000      10.000000     500.000000   \n",
       "max       175.000000      32.000000      33.000000     500.000000   \n",
       "\n",
       "            t_health       ct_armor        t_armor       ct_money  \\\n",
       "count  122410.000000  122410.000000  122410.000000  122410.000000   \n",
       "mean      402.714500     314.142121     298.444670    9789.023773   \n",
       "std       139.919033     171.029736     174.576545   11215.042286   \n",
       "min         0.000000       0.000000       0.000000       0.000000   \n",
       "25%       322.000000     194.000000     174.000000    1300.000000   \n",
       "50%       500.000000     377.000000     334.000000    5500.000000   \n",
       "75%       500.000000     486.000000     468.000000   14600.000000   \n",
       "max       600.000000     500.000000     500.000000   80000.000000   \n",
       "\n",
       "             t_money     ct_helmets  ...  ct_grenade_flashbang  \\\n",
       "count  122410.000000  122410.000000  ...         122410.000000   \n",
       "mean    11241.036680       2.053901  ...              1.853157   \n",
       "std     12162.806759       1.841470  ...              1.772791   \n",
       "min         0.000000       0.000000  ...              0.000000   \n",
       "25%      1550.000000       0.000000  ...              0.000000   \n",
       "50%      7150.000000       2.000000  ...              1.000000   \n",
       "75%     18000.000000       4.000000  ...              3.000000   \n",
       "max     80000.000000       5.000000  ...              7.000000   \n",
       "\n",
       "       t_grenade_flashbang  ct_grenade_smokegrenade  t_grenade_smokegrenade  \\\n",
       "count        122410.000000            122410.000000           122410.000000   \n",
       "mean              1.858100                 1.540814                1.627146   \n",
       "std               1.794473                 1.737804                1.829147   \n",
       "min               0.000000                 0.000000                0.000000   \n",
       "25%               0.000000                 0.000000                0.000000   \n",
       "50%               1.000000                 1.000000                1.000000   \n",
       "75%               3.000000                 3.000000                3.000000   \n",
       "max               7.000000                 6.000000                9.000000   \n",
       "\n",
       "       ct_grenade_incendiarygrenade  t_grenade_incendiarygrenade  \\\n",
       "count                 122410.000000                122410.000000   \n",
       "mean                       1.001969                     0.019819   \n",
       "std                        1.458084                     0.143933   \n",
       "min                        0.000000                     0.000000   \n",
       "25%                        0.000000                     0.000000   \n",
       "50%                        0.000000                     0.000000   \n",
       "75%                        2.000000                     0.000000   \n",
       "max                        5.000000                     3.000000   \n",
       "\n",
       "       ct_grenade_molotovgrenade  t_grenade_molotovgrenade  \\\n",
       "count              122410.000000             122410.000000   \n",
       "mean                    0.048011                  1.352095   \n",
       "std                     0.227669                  1.663246   \n",
       "min                     0.000000                  0.000000   \n",
       "25%                     0.000000                  0.000000   \n",
       "50%                     0.000000                  1.000000   \n",
       "75%                     0.000000                  2.000000   \n",
       "max                     3.000000                  5.000000   \n",
       "\n",
       "       ct_grenade_decoygrenade  t_grenade_decoygrenade  \n",
       "count            122410.000000           122410.000000  \n",
       "mean                  0.027694                0.025750  \n",
       "std                   0.169531                0.164162  \n",
       "min                   0.000000                0.000000  \n",
       "25%                   0.000000                0.000000  \n",
       "50%                   0.000000                0.000000  \n",
       "75%                   0.000000                0.000000  \n",
       "max                   3.000000                2.000000  \n",
       "\n",
       "[8 rows x 94 columns]"
      ],
      "text/html": "<div>\n<style scoped>\n    .dataframe tbody tr th:only-of-type {\n        vertical-align: middle;\n    }\n\n    .dataframe tbody tr th {\n        vertical-align: top;\n    }\n\n    .dataframe thead th {\n        text-align: right;\n    }\n</style>\n<table border=\"1\" class=\"dataframe\">\n  <thead>\n    <tr style=\"text-align: right;\">\n      <th></th>\n      <th>time_left</th>\n      <th>ct_score</th>\n      <th>t_score</th>\n      <th>ct_health</th>\n      <th>t_health</th>\n      <th>ct_armor</th>\n      <th>t_armor</th>\n      <th>ct_money</th>\n      <th>t_money</th>\n      <th>ct_helmets</th>\n      <th>...</th>\n      <th>ct_grenade_flashbang</th>\n      <th>t_grenade_flashbang</th>\n      <th>ct_grenade_smokegrenade</th>\n      <th>t_grenade_smokegrenade</th>\n      <th>ct_grenade_incendiarygrenade</th>\n      <th>t_grenade_incendiarygrenade</th>\n      <th>ct_grenade_molotovgrenade</th>\n      <th>t_grenade_molotovgrenade</th>\n      <th>ct_grenade_decoygrenade</th>\n      <th>t_grenade_decoygrenade</th>\n    </tr>\n  </thead>\n  <tbody>\n    <tr>\n      <th>count</th>\n      <td>122410.000000</td>\n      <td>122410.000000</td>\n      <td>122410.000000</td>\n      <td>122410.000000</td>\n      <td>122410.000000</td>\n      <td>122410.000000</td>\n      <td>122410.000000</td>\n      <td>122410.000000</td>\n      <td>122410.000000</td>\n      <td>122410.000000</td>\n      <td>...</td>\n      <td>122410.000000</td>\n      <td>122410.000000</td>\n      <td>122410.000000</td>\n      <td>122410.000000</td>\n      <td>122410.000000</td>\n      <td>122410.000000</td>\n      <td>122410.000000</td>\n      <td>122410.000000</td>\n      <td>122410.000000</td>\n      <td>122410.000000</td>\n    </tr>\n    <tr>\n      <th>mean</th>\n      <td>97.886922</td>\n      <td>6.709239</td>\n      <td>6.780435</td>\n      <td>412.106568</td>\n      <td>402.714500</td>\n      <td>314.142121</td>\n      <td>298.444670</td>\n      <td>9789.023773</td>\n      <td>11241.036680</td>\n      <td>2.053901</td>\n      <td>...</td>\n      <td>1.853157</td>\n      <td>1.858100</td>\n      <td>1.540814</td>\n      <td>1.627146</td>\n      <td>1.001969</td>\n      <td>0.019819</td>\n      <td>0.048011</td>\n      <td>1.352095</td>\n      <td>0.027694</td>\n      <td>0.025750</td>\n    </tr>\n    <tr>\n      <th>std</th>\n      <td>54.465238</td>\n      <td>4.790362</td>\n      <td>4.823543</td>\n      <td>132.293290</td>\n      <td>139.919033</td>\n      <td>171.029736</td>\n      <td>174.576545</td>\n      <td>11215.042286</td>\n      <td>12162.806759</td>\n      <td>1.841470</td>\n      <td>...</td>\n      <td>1.772791</td>\n      <td>1.794473</td>\n      <td>1.737804</td>\n      <td>1.829147</td>\n      <td>1.458084</td>\n      <td>0.143933</td>\n      <td>0.227669</td>\n      <td>1.663246</td>\n      <td>0.169531</td>\n      <td>0.164162</td>\n    </tr>\n    <tr>\n      <th>min</th>\n      <td>0.010000</td>\n      <td>0.000000</td>\n      <td>0.000000</td>\n      <td>0.000000</td>\n      <td>0.000000</td>\n      <td>0.000000</td>\n      <td>0.000000</td>\n      <td>0.000000</td>\n      <td>0.000000</td>\n      <td>0.000000</td>\n      <td>...</td>\n      <td>0.000000</td>\n      <td>0.000000</td>\n      <td>0.000000</td>\n      <td>0.000000</td>\n      <td>0.000000</td>\n      <td>0.000000</td>\n      <td>0.000000</td>\n      <td>0.000000</td>\n      <td>0.000000</td>\n      <td>0.000000</td>\n    </tr>\n    <tr>\n      <th>25%</th>\n      <td>54.920000</td>\n      <td>3.000000</td>\n      <td>3.000000</td>\n      <td>350.000000</td>\n      <td>322.000000</td>\n      <td>194.000000</td>\n      <td>174.000000</td>\n      <td>1300.000000</td>\n      <td>1550.000000</td>\n      <td>0.000000</td>\n      <td>...</td>\n      <td>0.000000</td>\n      <td>0.000000</td>\n      <td>0.000000</td>\n      <td>0.000000</td>\n      <td>0.000000</td>\n      <td>0.000000</td>\n      <td>0.000000</td>\n      <td>0.000000</td>\n      <td>0.000000</td>\n      <td>0.000000</td>\n    </tr>\n    <tr>\n      <th>50%</th>\n      <td>94.910000</td>\n      <td>6.000000</td>\n      <td>6.000000</td>\n      <td>500.000000</td>\n      <td>500.000000</td>\n      <td>377.000000</td>\n      <td>334.000000</td>\n      <td>5500.000000</td>\n      <td>7150.000000</td>\n      <td>2.000000</td>\n      <td>...</td>\n      <td>1.000000</td>\n      <td>1.000000</td>\n      <td>1.000000</td>\n      <td>1.000000</td>\n      <td>0.000000</td>\n      <td>0.000000</td>\n      <td>0.000000</td>\n      <td>1.000000</td>\n      <td>0.000000</td>\n      <td>0.000000</td>\n    </tr>\n    <tr>\n      <th>75%</th>\n      <td>166.917500</td>\n      <td>10.000000</td>\n      <td>10.000000</td>\n      <td>500.000000</td>\n      <td>500.000000</td>\n      <td>486.000000</td>\n      <td>468.000000</td>\n      <td>14600.000000</td>\n      <td>18000.000000</td>\n      <td>4.000000</td>\n      <td>...</td>\n      <td>3.000000</td>\n      <td>3.000000</td>\n      <td>3.000000</td>\n      <td>3.000000</td>\n      <td>2.000000</td>\n      <td>0.000000</td>\n      <td>0.000000</td>\n      <td>2.000000</td>\n      <td>0.000000</td>\n      <td>0.000000</td>\n    </tr>\n    <tr>\n      <th>max</th>\n      <td>175.000000</td>\n      <td>32.000000</td>\n      <td>33.000000</td>\n      <td>500.000000</td>\n      <td>600.000000</td>\n      <td>500.000000</td>\n      <td>500.000000</td>\n      <td>80000.000000</td>\n      <td>80000.000000</td>\n      <td>5.000000</td>\n      <td>...</td>\n      <td>7.000000</td>\n      <td>7.000000</td>\n      <td>6.000000</td>\n      <td>9.000000</td>\n      <td>5.000000</td>\n      <td>3.000000</td>\n      <td>3.000000</td>\n      <td>5.000000</td>\n      <td>3.000000</td>\n      <td>2.000000</td>\n    </tr>\n  </tbody>\n</table>\n<p>8 rows × 94 columns</p>\n</div>"
     },
     "metadata": {},
     "execution_count": 33
    }
   ],
   "source": [
    "df_cs.describe()"
   ]
  },
  {
   "cell_type": "code",
   "execution_count": 34,
   "metadata": {},
   "outputs": [],
   "source": [
    "df_cs.replace('CT', 1, inplace=True)\n",
    "df_cs.replace('T', 0, inplace=True)\n",
    "df_cs['bomb_planted'] = df_cs['bomb_planted'].astype(int)"
   ]
  },
  {
   "cell_type": "code",
   "execution_count": 35,
   "metadata": {},
   "outputs": [],
   "source": [
    "# default 0.25 test\n",
    "train, test = train_test_split(df_cs, train_size=0.2)"
   ]
  },
  {
   "source": [
    "# p = 1"
   ],
   "cell_type": "markdown",
   "metadata": {}
  },
  {
   "cell_type": "code",
   "execution_count": 7,
   "metadata": {},
   "outputs": [],
   "source": [
    "train_input_var = train['time_left'].values.reshape(-1, 1)\n",
    "train_input_target = train['round_winner'].astype(int)\n",
    "\n",
    "test_input_var = test['time_left'].values.reshape(-1, 1)\n",
    "test_input_target = test['round_winner'].astype(int)\n",
    "\n",
    "scaler = StandardScaler()\n",
    "train_input_var = scaler.fit_transform(train_input_var)\n",
    "test_input_var = scaler.transform(test_input_var)"
   ]
  },
  {
   "cell_type": "code",
   "execution_count": 8,
   "metadata": {},
   "outputs": [],
   "source": [
    "model = LogisticRegression()\n",
    "model = model.fit(train_input_var, train_input_target)"
   ]
  },
  {
   "cell_type": "code",
   "execution_count": 20,
   "metadata": {},
   "outputs": [
    {
     "output_type": "execute_result",
     "data": {
      "text/plain": [
       "'bomb_planted'"
      ]
     },
     "metadata": {},
     "execution_count": 20
    }
   ],
   "source": [
    "train.columns[np.argmax(model.coef_)]"
   ]
  },
  {
   "source": [
    "## Train eval"
   ],
   "cell_type": "markdown",
   "metadata": {}
  },
  {
   "cell_type": "code",
   "execution_count": 9,
   "metadata": {},
   "outputs": [
    {
     "output_type": "execute_result",
     "data": {
      "text/plain": [
       "0.5206792510375026"
      ]
     },
     "metadata": {},
     "execution_count": 9
    }
   ],
   "source": [
    "model.score(train_input_var, train_input_target)"
   ]
  },
  {
   "cell_type": "code",
   "execution_count": 10,
   "metadata": {},
   "outputs": [
    {
     "output_type": "execute_result",
     "data": {
      "text/plain": [
       "array([[29827, 16941],\n",
       "       [27064, 17975]])"
      ]
     },
     "metadata": {},
     "execution_count": 10
    }
   ],
   "source": [
    "confusion_matrix(train_input_target, model.predict(train_input_var).astype(float))"
   ]
  },
  {
   "source": [
    "## Test eval"
   ],
   "cell_type": "markdown",
   "metadata": {}
  },
  {
   "cell_type": "code",
   "execution_count": 11,
   "metadata": {},
   "outputs": [
    {
     "output_type": "execute_result",
     "data": {
      "text/plain": [
       "0.5188706989510832"
      ]
     },
     "metadata": {},
     "execution_count": 11
    }
   ],
   "source": [
    "model.score(test_input_var, test_input_target)"
   ]
  },
  {
   "cell_type": "code",
   "execution_count": 12,
   "metadata": {},
   "outputs": [
    {
     "output_type": "execute_result",
     "data": {
      "text/plain": [
       "array([[9972, 5666],\n",
       "       [9058, 5907]])"
      ]
     },
     "metadata": {},
     "execution_count": 12
    }
   ],
   "source": [
    "confusion_matrix(test_input_target, model.predict(test_input_var).astype(float))"
   ]
  },
  {
   "source": [
    "# p > 1"
   ],
   "cell_type": "markdown",
   "metadata": {}
  },
  {
   "cell_type": "code",
   "execution_count": 13,
   "metadata": {},
   "outputs": [],
   "source": [
    "train_input_var = train.drop(['round_winner', 'map'], axis=1)\n",
    "train_input_target = train['round_winner'].astype(int)\n",
    "\n",
    "test_input_var = test.drop(['round_winner', 'map'], axis=1)\n",
    "test_input_target = test['round_winner'].astype(int)\n",
    "\n",
    "scaler = StandardScaler()\n",
    "train_input_var = scaler.fit_transform(train_input_var)\n",
    "test_input_var = scaler.transform(test_input_var)"
   ]
  },
  {
   "cell_type": "code",
   "execution_count": 14,
   "metadata": {
    "tags": []
   },
   "outputs": [],
   "source": [
    "model = LogisticRegression()\n",
    "model = model.fit(train_input_var, train_input_target)"
   ]
  },
  {
   "cell_type": "code",
   "execution_count": 19,
   "metadata": {},
   "outputs": [
    {
     "output_type": "execute_result",
     "data": {
      "text/plain": [
       "'bomb_planted'"
      ]
     },
     "metadata": {},
     "execution_count": 19
    }
   ],
   "source": [
    "train.columns[np.argmax(model.coef_)]"
   ]
  },
  {
   "source": [
    "## Train eval"
   ],
   "cell_type": "markdown",
   "metadata": {}
  },
  {
   "cell_type": "code",
   "execution_count": 15,
   "metadata": {},
   "outputs": [
    {
     "output_type": "execute_result",
     "data": {
      "text/plain": [
       "0.7476662999553411"
      ]
     },
     "metadata": {},
     "execution_count": 15
    }
   ],
   "source": [
    "model.score(train_input_var, train_input_target)"
   ]
  },
  {
   "cell_type": "code",
   "execution_count": 16,
   "metadata": {},
   "outputs": [
    {
     "output_type": "execute_result",
     "data": {
      "text/plain": [
       "array([[34583, 12185],\n",
       "       [10981, 34058]])"
      ]
     },
     "metadata": {},
     "execution_count": 16
    }
   ],
   "source": [
    "confusion_matrix(train_input_target, model.predict(train_input_var).astype(float))"
   ]
  },
  {
   "source": [
    "## Test eval"
   ],
   "cell_type": "markdown",
   "metadata": {}
  },
  {
   "cell_type": "code",
   "execution_count": 17,
   "metadata": {},
   "outputs": [
    {
     "output_type": "execute_result",
     "data": {
      "text/plain": [
       "0.7495997124464922"
      ]
     },
     "metadata": {},
     "execution_count": 17
    }
   ],
   "source": [
    "model.score(test_input_var, test_input_target)"
   ]
  },
  {
   "cell_type": "code",
   "execution_count": 18,
   "metadata": {},
   "outputs": [
    {
     "output_type": "execute_result",
     "data": {
      "text/plain": [
       "array([[11584,  4054],\n",
       "       [ 3609, 11356]])"
      ]
     },
     "metadata": {},
     "execution_count": 18
    }
   ],
   "source": [
    "confusion_matrix(test_input_target, model.predict(test_input_var).astype(float))"
   ]
  },
  {
   "cell_type": "code",
   "execution_count": null,
   "metadata": {},
   "outputs": [],
   "source": []
  },
  {
   "cell_type": "code",
   "execution_count": 36,
   "metadata": {},
   "outputs": [],
   "source": [
    "from sklearn.feature_selection import SequentialFeatureSelector"
   ]
  },
  {
   "cell_type": "code",
   "execution_count": 37,
   "metadata": {},
   "outputs": [],
   "source": [
    "train_input_var = train.drop(['round_winner', 'map'], axis=1)\n",
    "train_input_target = train['round_winner'].astype(int)\n",
    "\n",
    "test_input_var = test.drop(['round_winner', 'map'], axis=1)\n",
    "test_input_target = test['round_winner'].astype(int)\n",
    "\n",
    "scaler = StandardScaler()\n",
    "train_input_var = scaler.fit_transform(train_input_var)\n",
    "test_input_var = scaler.transform(test_input_var)"
   ]
  },
  {
   "cell_type": "code",
   "execution_count": 38,
   "metadata": {},
   "outputs": [
    {
     "output_type": "execute_result",
     "data": {
      "text/plain": [
       "(24482, 95)"
      ]
     },
     "metadata": {},
     "execution_count": 38
    }
   ],
   "source": [
    "train_input_var.shape"
   ]
  },
  {
   "cell_type": "code",
   "execution_count": 39,
   "metadata": {},
   "outputs": [],
   "source": [
    "model = LogisticRegression()\n",
    "# model = model.fit(train_input_var, train_input_target)"
   ]
  },
  {
   "cell_type": "code",
   "execution_count": 42,
   "metadata": {},
   "outputs": [],
   "source": [
    "forward = SequentialFeatureSelector(model, n_features_to_select=20, direction='forward')"
   ]
  },
  {
   "cell_type": "code",
   "execution_count": 43,
   "metadata": {},
   "outputs": [],
   "source": [
    "forward = forward.fit(train_input_var, train_input_target)"
   ]
  },
  {
   "cell_type": "code",
   "execution_count": 56,
   "metadata": {},
   "outputs": [
    {
     "output_type": "execute_result",
     "data": {
      "text/plain": [
       "Index(['ct_armor', 't_armor', 't_helmets', 'ct_defuse_kits', 'ct_weapon_aug',\n",
       "       'ct_weapon_bizon', 't_weapon_elite', 'ct_weapon_g3sg1',\n",
       "       'ct_weapon_galilar', 'ct_weapon_m249', 't_weapon_m249',\n",
       "       't_weapon_m4a1s', 'ct_weapon_mag7', 'ct_weapon_mp7', 'ct_weapon_negev',\n",
       "       't_weapon_negev', 't_weapon_p90', 'ct_weapon_fiveseven',\n",
       "       'ct_weapon_p250', 't_grenade_flashbang'],\n",
       "      dtype='object')"
      ]
     },
     "metadata": {},
     "execution_count": 56
    }
   ],
   "source": [
    "selected = df_cs.drop(['round_winner', 'map'], axis=1).columns[forward.get_support()]\n",
    "selected"
   ]
  },
  {
   "cell_type": "code",
   "execution_count": 59,
   "metadata": {},
   "outputs": [],
   "source": [
    "train_input_var = train[selected]\n",
    "train_input_target = train['round_winner'].astype(int)\n",
    "\n",
    "test_input_var = test[selected]\n",
    "test_input_target = test['round_winner'].astype(int)\n",
    "\n",
    "scaler = StandardScaler()\n",
    "train_input_var = scaler.fit_transform(train_input_var)\n",
    "test_input_var = scaler.transform(test_input_var)"
   ]
  },
  {
   "cell_type": "code",
   "execution_count": 60,
   "metadata": {},
   "outputs": [],
   "source": [
    "model = LogisticRegression()\n",
    "model = model.fit(train_input_var, train_input_target)"
   ]
  },
  {
   "cell_type": "code",
   "execution_count": 61,
   "metadata": {},
   "outputs": [
    {
     "output_type": "execute_result",
     "data": {
      "text/plain": [
       "0.74127930724614"
      ]
     },
     "metadata": {},
     "execution_count": 61
    }
   ],
   "source": [
    "model.score(train_input_var, train_input_target)"
   ]
  },
  {
   "cell_type": "code",
   "execution_count": 62,
   "metadata": {},
   "outputs": [
    {
     "output_type": "execute_result",
     "data": {
      "text/plain": [
       "0.7366432481006454"
      ]
     },
     "metadata": {},
     "execution_count": 62
    }
   ],
   "source": [
    "model.score(test_input_var, test_input_target)"
   ]
  },
  {
   "cell_type": "code",
   "execution_count": null,
   "metadata": {},
   "outputs": [],
   "source": []
  }
 ]
}