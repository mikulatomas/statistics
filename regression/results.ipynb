{
 "metadata": {
  "language_info": {
   "codemirror_mode": {
    "name": "ipython",
    "version": 3
   },
   "file_extension": ".py",
   "mimetype": "text/x-python",
   "name": "python",
   "nbconvert_exporter": "python",
   "pygments_lexer": "ipython3",
   "version": "3.8.9"
  },
  "orig_nbformat": 2,
  "kernelspec": {
   "name": "python389jvsc74a57bd0082a18f759f8afdec9b7eec773590a36e4c3be1cd97bea91855dea5176a8175a",
   "display_name": "Python 3.8.9 64-bit ('fcapy': virtualenvwrapper)"
  }
 },
 "nbformat": 4,
 "nbformat_minor": 2,
 "cells": [
  {
   "cell_type": "code",
   "execution_count": 38,
   "metadata": {},
   "outputs": [],
   "source": [
    "from datasets import diabetes_data\n",
    "\n",
    "from sklearn.linear_model import LinearRegression\n",
    "from sklearn.neighbors import KNeighborsRegressor\n",
    "from sklearn.cross_decomposition import PLSRegression\n",
    "from sklearn.linear_model import Ridge\n",
    "from sklearn.linear_model import Lasso\n",
    "from sklearn.decomposition import PCA\n",
    "from pygam import LinearGAM, s, f\n",
    "\n",
    "import numpy as np\n",
    "import pandas as pd\n",
    "\n",
    "from sklearn.metrics import mean_squared_error\n",
    "from sklearn.model_selection import cross_val_score\n",
    "\n",
    "from sklearn.preprocessing import StandardScaler\n",
    "\n",
    "from tools import polynomial_features"
   ]
  },
  {
   "source": [
    "# Data preparation"
   ],
   "cell_type": "markdown",
   "metadata": {}
  },
  {
   "cell_type": "code",
   "execution_count": 25,
   "metadata": {},
   "outputs": [],
   "source": [
    "original_X, original_y, train_X, train_y, test_X, test_y = diabetes_data()"
   ]
  },
  {
   "source": [
    "## Polynomial features"
   ],
   "cell_type": "markdown",
   "metadata": {}
  },
  {
   "cell_type": "code",
   "execution_count": 26,
   "metadata": {},
   "outputs": [],
   "source": [
    "original_X_2 = polynomial_features(original_X, 2)\n",
    "train_X_2 = polynomial_features(train_X, 2)\n",
    "test_X_2 = polynomial_features(test_X, 2)\n",
    "\n",
    "scaler = StandardScaler().fit(original_X_2)\n",
    "\n",
    "original_X_2 = scaler.transform(original_X_2)\n",
    "train_X_2 = scaler.transform(train_X_2)\n",
    "test_X_2 = scaler.transform(test_X_2)"
   ]
  },
  {
   "source": [
    "## Feature subset"
   ],
   "cell_type": "markdown",
   "metadata": {}
  },
  {
   "cell_type": "code",
   "execution_count": 27,
   "metadata": {},
   "outputs": [],
   "source": [
    "feature_subset = ['sex', 'bmi', 'bp', 's1', 's3', 's5']"
   ]
  },
  {
   "source": [
    "## PCA"
   ],
   "cell_type": "markdown",
   "metadata": {}
  },
  {
   "cell_type": "code",
   "execution_count": 28,
   "metadata": {},
   "outputs": [],
   "source": [
    "pca = PCA(n_components=6)\n",
    "pca = pca.fit(original_X)\n",
    "\n",
    "transformed_train_X = pca.transform(train_X)\n",
    "transformed_test_X = pca.transform(test_X)"
   ]
  },
  {
   "source": [
    "# Models"
   ],
   "cell_type": "markdown",
   "metadata": {}
  },
  {
   "cell_type": "code",
   "execution_count": 43,
   "metadata": {},
   "outputs": [],
   "source": [
    "experiments = {\n",
    "    \"LinearRegression\": {\n",
    "        \"model\": LinearRegression(),\n",
    "        \"train_X\": train_X,\n",
    "        \"test_X\": test_X,\n",
    "    },\n",
    "    \"PolynomialRegression\": {\n",
    "        \"model\": LinearRegression(),\n",
    "        \"train_X\": train_X_2,\n",
    "        \"test_X\": test_X_2,\n",
    "    },\n",
    "    \"KNNRegression\": {\n",
    "        \"model\": KNeighborsRegressor(n_neighbors=19),\n",
    "        \"train_X\": train_X,\n",
    "        \"test_X\": test_X,\n",
    "    },\n",
    "    \"SubsetLinearRegression\": {\n",
    "        \"model\": LinearRegression(),\n",
    "        \"train_X\": train_X[feature_subset],\n",
    "        \"test_X\": test_X[feature_subset],\n",
    "    },\n",
    "    \"RidgeRegression\": {\n",
    "        \"model\": Ridge(alpha=0.17),\n",
    "        \"train_X\": train_X,\n",
    "        \"test_X\": test_X,\n",
    "    },\n",
    "    \"LassoRegression\": {\n",
    "        \"model\": Lasso(alpha=0.08),\n",
    "        \"train_X\": train_X,\n",
    "        \"test_X\": test_X,\n",
    "    },\n",
    "    \"PCARegression\": {\n",
    "        \"model\": LinearRegression(),\n",
    "        \"train_X\": transformed_train_X,\n",
    "        \"test_X\": transformed_test_X,\n",
    "    },\n",
    "    \"PartialLeastSquares\": {\n",
    "        \"model\": PLSRegression(n_components=3, scale=False),\n",
    "        \"train_X\": train_X,\n",
    "        \"test_X\": test_X,\n",
    "    },\n",
    "    \"GeneralAdditiveModel\": {\n",
    "        \"model\": LinearGAM(\n",
    "            s(0) + s(1) + s(2) + s(3) + s(4) + s(5) + s(6) + s(7) + s(8) + s(9)\n",
    "        ),\n",
    "        \"train_X\": train_X,\n",
    "        \"test_X\": test_X,\n",
    "    },\n",
    "}"
   ]
  },
  {
   "cell_type": "code",
   "execution_count": 44,
   "metadata": {},
   "outputs": [],
   "source": [
    "columns = ['train_mse', 'test_mse', 'cross_val_r2']\n",
    "model_names = []\n",
    "results = []\n",
    "\n",
    "for model_name, experiment in experiments.items():\n",
    "    train_X = experiment['train_X']\n",
    "    test_X = experiment['test_X']\n",
    "    \n",
    "    model = experiment['model'].fit(train_X, train_y)\n",
    "\n",
    "    train_error = mean_squared_error(train_y, model.predict(train_X))\n",
    "    test_error = mean_squared_error(test_y, model.predict(test_X))\n",
    "\n",
    "    try:\n",
    "        cross_val = cross_val_score(model, train_X, train_y).mean()\n",
    "    except:\n",
    "        cross_val = np.NaN\n",
    "\n",
    "    model_names.append(model_name)\n",
    "    results.append([train_error, test_error, cross_val])\n",
    "\n",
    "result_df = pd.DataFrame(results, columns = columns, index=model_names)"
   ]
  },
  {
   "cell_type": "code",
   "execution_count": 45,
   "metadata": {},
   "outputs": [
    {
     "output_type": "execute_result",
     "data": {
      "text/plain": [
       "                          train_mse     test_mse  cross_val_r2\n",
       "PartialLeastSquares     2880.383810  2944.668885      0.450786\n",
       "LassoRegression         2890.518725  2945.684103      0.449610\n",
       "PolynomialRegression    2674.453037  2951.387782      0.455072\n",
       "LinearRegression        2859.858150  2972.251895      0.449792\n",
       "RidgeRegression         2931.753568  2976.831589      0.445280\n",
       "SubsetLinearRegression  2880.171026  2990.036674      0.456047\n",
       "PCARegression           2911.425866  2997.235609      0.450161\n",
       "KNNRegression           2893.306152  3391.859163      0.414914\n",
       "GeneralAdditiveModel    2017.605344  3585.220380           NaN"
      ],
      "text/html": "<div>\n<style scoped>\n    .dataframe tbody tr th:only-of-type {\n        vertical-align: middle;\n    }\n\n    .dataframe tbody tr th {\n        vertical-align: top;\n    }\n\n    .dataframe thead th {\n        text-align: right;\n    }\n</style>\n<table border=\"1\" class=\"dataframe\">\n  <thead>\n    <tr style=\"text-align: right;\">\n      <th></th>\n      <th>train_mse</th>\n      <th>test_mse</th>\n      <th>cross_val_r2</th>\n    </tr>\n  </thead>\n  <tbody>\n    <tr>\n      <th>PartialLeastSquares</th>\n      <td>2880.383810</td>\n      <td>2944.668885</td>\n      <td>0.450786</td>\n    </tr>\n    <tr>\n      <th>LassoRegression</th>\n      <td>2890.518725</td>\n      <td>2945.684103</td>\n      <td>0.449610</td>\n    </tr>\n    <tr>\n      <th>PolynomialRegression</th>\n      <td>2674.453037</td>\n      <td>2951.387782</td>\n      <td>0.455072</td>\n    </tr>\n    <tr>\n      <th>LinearRegression</th>\n      <td>2859.858150</td>\n      <td>2972.251895</td>\n      <td>0.449792</td>\n    </tr>\n    <tr>\n      <th>RidgeRegression</th>\n      <td>2931.753568</td>\n      <td>2976.831589</td>\n      <td>0.445280</td>\n    </tr>\n    <tr>\n      <th>SubsetLinearRegression</th>\n      <td>2880.171026</td>\n      <td>2990.036674</td>\n      <td>0.456047</td>\n    </tr>\n    <tr>\n      <th>PCARegression</th>\n      <td>2911.425866</td>\n      <td>2997.235609</td>\n      <td>0.450161</td>\n    </tr>\n    <tr>\n      <th>KNNRegression</th>\n      <td>2893.306152</td>\n      <td>3391.859163</td>\n      <td>0.414914</td>\n    </tr>\n    <tr>\n      <th>GeneralAdditiveModel</th>\n      <td>2017.605344</td>\n      <td>3585.220380</td>\n      <td>NaN</td>\n    </tr>\n  </tbody>\n</table>\n</div>"
     },
     "metadata": {},
     "execution_count": 45
    }
   ],
   "source": [
    "result_df.sort_values('test_mse')"
   ]
  },
  {
   "cell_type": "code",
   "execution_count": null,
   "metadata": {},
   "outputs": [],
   "source": []
  }
 ]
}