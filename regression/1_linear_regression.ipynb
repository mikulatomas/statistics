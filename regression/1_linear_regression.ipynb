{
 "metadata": {
  "language_info": {
   "codemirror_mode": {
    "name": "ipython",
    "version": 3
   },
   "file_extension": ".py",
   "mimetype": "text/x-python",
   "name": "python",
   "nbconvert_exporter": "python",
   "pygments_lexer": "ipython3",
   "version": "3.8.9"
  },
  "orig_nbformat": 2,
  "kernelspec": {
   "name": "python389jvsc74a57bd0082a18f759f8afdec9b7eec773590a36e4c3be1cd97bea91855dea5176a8175a",
   "display_name": "Python 3.8.9 64-bit ('fcapy': virtualenvwrapper)"
  }
 },
 "nbformat": 4,
 "nbformat_minor": 2,
 "cells": [
  {
   "cell_type": "code",
   "execution_count": 53,
   "metadata": {},
   "outputs": [],
   "source": [
    "from datasets import load_happines\n",
    "from sklearn.linear_model import LinearRegression\n",
    "from tools import *\n",
    "import seaborn as sns\n",
    "import matplotlib.pyplot as plt\n",
    "import pandas as pd\n",
    "from sklearn.model_selection import cross_val_score\n",
    "from sklearn.preprocessing import StandardScaler"
   ]
  },
  {
   "cell_type": "code",
   "execution_count": 54,
   "metadata": {},
   "outputs": [
    {
     "output_type": "execute_result",
     "data": {
      "text/plain": [
       "Index(['region', 'economy', 'family', 'health', 'freedom', 'trust',\n",
       "       'generosity', 'target'],\n",
       "      dtype='object')"
      ]
     },
     "metadata": {},
     "execution_count": 54
    }
   ],
   "source": [
    "df_train, df_test = load_happines()\n",
    "df_train.columns"
   ]
  },
  {
   "cell_type": "code",
   "execution_count": 55,
   "metadata": {},
   "outputs": [],
   "source": [
    "train_X = df_train.drop(['region', 'target'], axis=1)\n",
    "train_y = df_train['target']\n",
    "test_X = df_test.drop(['region', 'target'], axis=1)\n",
    "test_y = df_test['target']\n",
    "features = train_X.columns"
   ]
  },
  {
   "cell_type": "code",
   "execution_count": 56,
   "metadata": {},
   "outputs": [],
   "source": [
    "scaler = StandardScaler().fit(train_X)\n",
    "train_X = scaler.transform(train_X)\n",
    "test_X = scaler.transform(test_X)\n",
    "\n",
    "train_X = pd.DataFrame(train_X, columns=features)\n",
    "test_X = pd.DataFrame(test_X, columns=features)"
   ]
  },
  {
   "cell_type": "code",
   "execution_count": 57,
   "metadata": {},
   "outputs": [
    {
     "output_type": "execute_result",
     "data": {
      "text/plain": [
       "0.7427873679459289"
      ]
     },
     "metadata": {},
     "execution_count": 57
    }
   ],
   "source": [
    "# 5-fold\n",
    "cross_val_score(LinearRegression(), train_X, train_y).mean()"
   ]
  },
  {
   "cell_type": "code",
   "execution_count": 58,
   "metadata": {},
   "outputs": [],
   "source": [
    "model = LinearRegression().fit(train_X, train_y)"
   ]
  },
  {
   "cell_type": "code",
   "execution_count": 59,
   "metadata": {},
   "outputs": [
    {
     "output_type": "stream",
     "name": "stdout",
     "text": [
      "Train score\n0.7772384894312989\nTest score\n0.6933205254506976\n"
     ]
    }
   ],
   "source": [
    "model_performance(model, train_X, train_y, test_X, test_y)"
   ]
  },
  {
   "cell_type": "code",
   "execution_count": 60,
   "metadata": {},
   "outputs": [
    {
     "output_type": "execute_result",
     "data": {
      "text/plain": [
       "      feature      coef\n",
       "1      family  0.382522\n",
       "0     economy  0.345849\n",
       "2      health  0.240213\n",
       "3     freedom  0.200302\n",
       "4       trust  0.093873\n",
       "5  generosity  0.049116"
      ],
      "text/html": "<div>\n<style scoped>\n    .dataframe tbody tr th:only-of-type {\n        vertical-align: middle;\n    }\n\n    .dataframe tbody tr th {\n        vertical-align: top;\n    }\n\n    .dataframe thead th {\n        text-align: right;\n    }\n</style>\n<table border=\"1\" class=\"dataframe\">\n  <thead>\n    <tr style=\"text-align: right;\">\n      <th></th>\n      <th>feature</th>\n      <th>coef</th>\n    </tr>\n  </thead>\n  <tbody>\n    <tr>\n      <th>1</th>\n      <td>family</td>\n      <td>0.382522</td>\n    </tr>\n    <tr>\n      <th>0</th>\n      <td>economy</td>\n      <td>0.345849</td>\n    </tr>\n    <tr>\n      <th>2</th>\n      <td>health</td>\n      <td>0.240213</td>\n    </tr>\n    <tr>\n      <th>3</th>\n      <td>freedom</td>\n      <td>0.200302</td>\n    </tr>\n    <tr>\n      <th>4</th>\n      <td>trust</td>\n      <td>0.093873</td>\n    </tr>\n    <tr>\n      <th>5</th>\n      <td>generosity</td>\n      <td>0.049116</td>\n    </tr>\n  </tbody>\n</table>\n</div>"
     },
     "metadata": {},
     "execution_count": 60
    }
   ],
   "source": [
    "coef_table(model.coef_, features)"
   ]
  },
  {
   "cell_type": "code",
   "execution_count": null,
   "metadata": {},
   "outputs": [],
   "source": []
  }
 ]
}