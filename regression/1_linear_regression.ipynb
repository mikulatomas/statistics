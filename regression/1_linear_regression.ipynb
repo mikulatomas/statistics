{
 "metadata": {
  "language_info": {
   "codemirror_mode": {
    "name": "ipython",
    "version": 3
   },
   "file_extension": ".py",
   "mimetype": "text/x-python",
   "name": "python",
   "nbconvert_exporter": "python",
   "pygments_lexer": "ipython3",
   "version": "3.8.9"
  },
  "orig_nbformat": 2,
  "kernelspec": {
   "name": "python389jvsc74a57bd0082a18f759f8afdec9b7eec773590a36e4c3be1cd97bea91855dea5176a8175a",
   "display_name": "Python 3.8.9 64-bit ('fcapy': virtualenvwrapper)"
  }
 },
 "nbformat": 4,
 "nbformat_minor": 2,
 "cells": [
  {
   "cell_type": "code",
   "execution_count": 3,
   "metadata": {},
   "outputs": [],
   "source": [
    "from datasets import load_diabetes\n",
    "from sklearn.linear_model import LinearRegression\n",
    "from tools import *\n",
    "import seaborn as sns\n",
    "import matplotlib.pyplot as plt\n",
    "import pandas as pd\n",
    "from sklearn.model_selection import cross_val_score\n",
    "from sklearn.preprocessing import StandardScaler"
   ]
  },
  {
   "cell_type": "code",
   "execution_count": 6,
   "metadata": {},
   "outputs": [],
   "source": [
    "from datasets import diabetes_data\n",
    "\n",
    "import statsmodels.api as sm\n",
    "\n",
    "from sklearn.linear_model import LinearRegression\n",
    "from sklearn.model_selection import cross_val_score"
   ]
  },
  {
   "cell_type": "code",
   "execution_count": 7,
   "metadata": {},
   "outputs": [],
   "source": [
    "original_X, original_y, train_X, train_y, test_X, test_y = diabetes_data()"
   ]
  },
  {
   "source": [
    "## Estimate test error by 5-fold cross validation"
   ],
   "cell_type": "markdown",
   "metadata": {}
  },
  {
   "cell_type": "code",
   "execution_count": 8,
   "metadata": {},
   "outputs": [
    {
     "output_type": "execute_result",
     "data": {
      "text/plain": [
       "0.48231812211149394"
      ]
     },
     "metadata": {},
     "execution_count": 8
    }
   ],
   "source": [
    "model = LinearRegression()\n",
    "cross_val_score(model, original_X, original_y).mean()"
   ]
  },
  {
   "source": [
    "## Fit Linear Regression model"
   ],
   "cell_type": "markdown",
   "metadata": {}
  },
  {
   "cell_type": "code",
   "execution_count": 11,
   "metadata": {},
   "outputs": [],
   "source": [
    "# add constant, since statsmodels does not add it by defaul\n",
    "train_X_const = sm.add_constant(train_X)\n",
    "model = sm.OLS(train_y, train_X)\n",
    "\n",
    "# fit model\n",
    "result = model.fit()"
   ]
  },
  {
   "cell_type": "code",
   "execution_count": 12,
   "metadata": {},
   "outputs": [
    {
     "output_type": "execute_result",
     "data": {
      "text/plain": [
       "<class 'statsmodels.iolib.summary.Summary'>\n",
       "\"\"\"\n",
       "                                 OLS Regression Results                                \n",
       "=======================================================================================\n",
       "Dep. Variable:                 target   R-squared (uncentered):                   0.127\n",
       "Model:                            OLS   Adj. R-squared (uncentered):              0.098\n",
       "Method:                 Least Squares   F-statistic:                              4.344\n",
       "Date:                Tue, 15 Jun 2021   Prob (F-statistic):                    1.09e-05\n",
       "Time:                        15:08:56   Log-Likelihood:                         -2004.7\n",
       "No. Observations:                 309   AIC:                                      4029.\n",
       "Df Residuals:                     299   BIC:                                      4067.\n",
       "Df Model:                          10                                                  \n",
       "Covariance Type:            nonrobust                                                  \n",
       "==============================================================================\n",
       "                 coef    std err          t      P>|t|      [0.025      0.975]\n",
       "------------------------------------------------------------------------------\n",
       "age          113.6853    212.552      0.535      0.593    -304.603     531.973\n",
       "sex         -273.2899    218.668     -1.250      0.212    -703.613     157.033\n",
       "bmi          494.3997    234.171      2.111      0.036      33.568     955.232\n",
       "bp            70.2195    238.684      0.294      0.769    -399.494     539.933\n",
       "s1           218.2610   1549.490      0.141      0.888   -2831.026    3267.548\n",
       "s2            12.3311   1232.285      0.010      0.992   -2412.718    2437.381\n",
       "s3         -1032.7297    859.890     -1.201      0.231   -2724.932     659.473\n",
       "s4          -796.8098    624.646     -1.276      0.203   -2026.069     432.450\n",
       "s5           655.4292    628.449      1.043      0.298    -581.313    1892.172\n",
       "s6           227.5563    237.668      0.957      0.339    -240.157     695.269\n",
       "==============================================================================\n",
       "Omnibus:                        2.756   Durbin-Watson:                   0.243\n",
       "Prob(Omnibus):                  0.252   Jarque-Bera (JB):                2.134\n",
       "Skew:                          -0.034   Prob(JB):                        0.344\n",
       "Kurtosis:                       2.599   Cond. No.                         22.3\n",
       "==============================================================================\n",
       "\n",
       "Notes:\n",
       "[1] R² is computed without centering (uncentered) since the model does not contain a constant.\n",
       "[2] Standard Errors assume that the covariance matrix of the errors is correctly specified.\n",
       "\"\"\""
      ],
      "text/html": "<table class=\"simpletable\">\n<caption>OLS Regression Results</caption>\n<tr>\n  <th>Dep. Variable:</th>         <td>target</td>      <th>  R-squared (uncentered):</th>      <td>   0.127</td>\n</tr>\n<tr>\n  <th>Model:</th>                   <td>OLS</td>       <th>  Adj. R-squared (uncentered):</th> <td>   0.098</td>\n</tr>\n<tr>\n  <th>Method:</th>             <td>Least Squares</td>  <th>  F-statistic:       </th>          <td>   4.344</td>\n</tr>\n<tr>\n  <th>Date:</th>             <td>Tue, 15 Jun 2021</td> <th>  Prob (F-statistic):</th>          <td>1.09e-05</td>\n</tr>\n<tr>\n  <th>Time:</th>                 <td>15:08:56</td>     <th>  Log-Likelihood:    </th>          <td> -2004.7</td>\n</tr>\n<tr>\n  <th>No. Observations:</th>      <td>   309</td>      <th>  AIC:               </th>          <td>   4029.</td>\n</tr>\n<tr>\n  <th>Df Residuals:</th>          <td>   299</td>      <th>  BIC:               </th>          <td>   4067.</td>\n</tr>\n<tr>\n  <th>Df Model:</th>              <td>    10</td>      <th>                     </th>              <td> </td>   \n</tr>\n<tr>\n  <th>Covariance Type:</th>      <td>nonrobust</td>    <th>                     </th>              <td> </td>   \n</tr>\n</table>\n<table class=\"simpletable\">\n<tr>\n   <td></td>      <th>coef</th>     <th>std err</th>      <th>t</th>      <th>P>|t|</th>  <th>[0.025</th>    <th>0.975]</th>  \n</tr>\n<tr>\n  <th>age</th> <td>  113.6853</td> <td>  212.552</td> <td>    0.535</td> <td> 0.593</td> <td> -304.603</td> <td>  531.973</td>\n</tr>\n<tr>\n  <th>sex</th> <td> -273.2899</td> <td>  218.668</td> <td>   -1.250</td> <td> 0.212</td> <td> -703.613</td> <td>  157.033</td>\n</tr>\n<tr>\n  <th>bmi</th> <td>  494.3997</td> <td>  234.171</td> <td>    2.111</td> <td> 0.036</td> <td>   33.568</td> <td>  955.232</td>\n</tr>\n<tr>\n  <th>bp</th>  <td>   70.2195</td> <td>  238.684</td> <td>    0.294</td> <td> 0.769</td> <td> -399.494</td> <td>  539.933</td>\n</tr>\n<tr>\n  <th>s1</th>  <td>  218.2610</td> <td> 1549.490</td> <td>    0.141</td> <td> 0.888</td> <td>-2831.026</td> <td> 3267.548</td>\n</tr>\n<tr>\n  <th>s2</th>  <td>   12.3311</td> <td> 1232.285</td> <td>    0.010</td> <td> 0.992</td> <td>-2412.718</td> <td> 2437.381</td>\n</tr>\n<tr>\n  <th>s3</th>  <td>-1032.7297</td> <td>  859.890</td> <td>   -1.201</td> <td> 0.231</td> <td>-2724.932</td> <td>  659.473</td>\n</tr>\n<tr>\n  <th>s4</th>  <td> -796.8098</td> <td>  624.646</td> <td>   -1.276</td> <td> 0.203</td> <td>-2026.069</td> <td>  432.450</td>\n</tr>\n<tr>\n  <th>s5</th>  <td>  655.4292</td> <td>  628.449</td> <td>    1.043</td> <td> 0.298</td> <td> -581.313</td> <td> 1892.172</td>\n</tr>\n<tr>\n  <th>s6</th>  <td>  227.5563</td> <td>  237.668</td> <td>    0.957</td> <td> 0.339</td> <td> -240.157</td> <td>  695.269</td>\n</tr>\n</table>\n<table class=\"simpletable\">\n<tr>\n  <th>Omnibus:</th>       <td> 2.756</td> <th>  Durbin-Watson:     </th> <td>   0.243</td>\n</tr>\n<tr>\n  <th>Prob(Omnibus):</th> <td> 0.252</td> <th>  Jarque-Bera (JB):  </th> <td>   2.134</td>\n</tr>\n<tr>\n  <th>Skew:</th>          <td>-0.034</td> <th>  Prob(JB):          </th> <td>   0.344</td>\n</tr>\n<tr>\n  <th>Kurtosis:</th>      <td> 2.599</td> <th>  Cond. No.          </th> <td>    22.3</td>\n</tr>\n</table><br/><br/>Notes:<br/>[1] R² is computed without centering (uncentered) since the model does not contain a constant.<br/>[2] Standard Errors assume that the covariance matrix of the errors is correctly specified."
     },
     "metadata": {},
     "execution_count": 12
    }
   ],
   "source": [
    "result.summary()"
   ]
  }
 ]
}