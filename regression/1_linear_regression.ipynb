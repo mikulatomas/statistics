{
 "metadata": {
  "language_info": {
   "codemirror_mode": {
    "name": "ipython",
    "version": 3
   },
   "file_extension": ".py",
   "mimetype": "text/x-python",
   "name": "python",
   "nbconvert_exporter": "python",
   "pygments_lexer": "ipython3",
   "version": "3.8.9"
  },
  "orig_nbformat": 2,
  "kernelspec": {
   "name": "python389jvsc74a57bd0082a18f759f8afdec9b7eec773590a36e4c3be1cd97bea91855dea5176a8175a",
   "display_name": "Python 3.8.9 64-bit ('fcapy': virtualenvwrapper)"
  }
 },
 "nbformat": 4,
 "nbformat_minor": 2,
 "cells": [
  {
   "cell_type": "code",
   "execution_count": 22,
   "metadata": {},
   "outputs": [],
   "source": [
    "from datasets import load_diabetes\n",
    "from sklearn.linear_model import LinearRegression\n",
    "from tools import *\n",
    "import seaborn as sns\n",
    "import matplotlib.pyplot as plt\n",
    "import pandas as pd\n",
    "from sklearn.model_selection import cross_val_score\n",
    "from sklearn.preprocessing import StandardScaler"
   ]
  },
  {
   "cell_type": "code",
   "execution_count": 23,
   "metadata": {},
   "outputs": [],
   "source": [
    "df_original, df_train, df_test = load_diabetes()"
   ]
  },
  {
   "cell_type": "code",
   "execution_count": 24,
   "metadata": {},
   "outputs": [],
   "source": [
    "train_X = df_train.drop(['target'], axis=1)\n",
    "train_y = df_train['target']\n",
    "test_X = df_test.drop(['target'], axis=1)\n",
    "test_y = df_test['target']\n",
    "original_X = df_original.drop(['target'], axis=1)\n",
    "original_y = df_original['target']\n",
    "features = train_X.columns"
   ]
  },
  {
   "cell_type": "code",
   "execution_count": 25,
   "metadata": {},
   "outputs": [],
   "source": [
    "LinearRegression = SMWrapper(sm.OLS)"
   ]
  },
  {
   "cell_type": "code",
   "execution_count": 26,
   "metadata": {},
   "outputs": [
    {
     "output_type": "execute_result",
     "data": {
      "text/plain": [
       "0.4823181221114937"
      ]
     },
     "metadata": {},
     "execution_count": 26
    }
   ],
   "source": [
    "# 5-fold\n",
    "cross_val_score(LinearRegression, original_X, original_y).mean()"
   ]
  },
  {
   "cell_type": "code",
   "execution_count": 27,
   "metadata": {},
   "outputs": [],
   "source": [
    "model = LinearRegression.fit(train_X, train_y)"
   ]
  },
  {
   "cell_type": "code",
   "execution_count": 28,
   "metadata": {},
   "outputs": [
    {
     "output_type": "execute_result",
     "data": {
      "text/plain": [
       "<class 'statsmodels.iolib.summary.Summary'>\n",
       "\"\"\"\n",
       "                            OLS Regression Results                            \n",
       "==============================================================================\n",
       "Dep. Variable:                 target   R-squared:                       0.509\n",
       "Model:                            OLS   Adj. R-squared:                  0.492\n",
       "Method:                 Least Squares   F-statistic:                     30.87\n",
       "Date:                Mon, 14 Jun 2021   Prob (F-statistic):           1.48e-40\n",
       "Time:                        10:48:11   Log-Likelihood:                -1668.0\n",
       "No. Observations:                 309   AIC:                             3358.\n",
       "Df Residuals:                     298   BIC:                             3399.\n",
       "Df Model:                          10                                         \n",
       "Covariance Type:            nonrobust                                         \n",
       "==============================================================================\n",
       "                 coef    std err          t      P>|t|      [0.025      0.975]\n",
       "------------------------------------------------------------------------------\n",
       "const        150.6102      3.117     48.323      0.000     144.477     156.744\n",
       "age           19.3740     71.652      0.270      0.787    -121.634     160.382\n",
       "sex         -275.9505     73.686     -3.745      0.000    -420.962    -130.939\n",
       "bmi          473.2759     78.912      5.998      0.000     317.981     628.570\n",
       "bp           317.6705     80.594      3.942      0.000     159.065     476.276\n",
       "s1          -530.3157    522.373     -1.015      0.311   -1558.323     497.691\n",
       "s2           305.8377    415.297      0.736      0.462    -511.448    1123.123\n",
       "s3          -192.9965    290.284     -0.665      0.507    -764.263     378.270\n",
       "s4            37.7243    211.199      0.179      0.858    -377.906     453.355\n",
       "s5           663.9624    211.773      3.135      0.002     247.202    1080.723\n",
       "s6            93.7672     80.136      1.170      0.243     -63.938     251.472\n",
       "==============================================================================\n",
       "Omnibus:                        5.026   Durbin-Watson:                   1.973\n",
       "Prob(Omnibus):                  0.081   Jarque-Bera (JB):                3.301\n",
       "Skew:                           0.057   Prob(JB):                        0.192\n",
       "Kurtosis:                       2.507   Cond. No.                         238.\n",
       "==============================================================================\n",
       "\n",
       "Notes:\n",
       "[1] Standard Errors assume that the covariance matrix of the errors is correctly specified.\n",
       "\"\"\""
      ],
      "text/html": "<table class=\"simpletable\">\n<caption>OLS Regression Results</caption>\n<tr>\n  <th>Dep. Variable:</th>         <td>target</td>      <th>  R-squared:         </th> <td>   0.509</td>\n</tr>\n<tr>\n  <th>Model:</th>                   <td>OLS</td>       <th>  Adj. R-squared:    </th> <td>   0.492</td>\n</tr>\n<tr>\n  <th>Method:</th>             <td>Least Squares</td>  <th>  F-statistic:       </th> <td>   30.87</td>\n</tr>\n<tr>\n  <th>Date:</th>             <td>Mon, 14 Jun 2021</td> <th>  Prob (F-statistic):</th> <td>1.48e-40</td>\n</tr>\n<tr>\n  <th>Time:</th>                 <td>10:48:11</td>     <th>  Log-Likelihood:    </th> <td> -1668.0</td>\n</tr>\n<tr>\n  <th>No. Observations:</th>      <td>   309</td>      <th>  AIC:               </th> <td>   3358.</td>\n</tr>\n<tr>\n  <th>Df Residuals:</th>          <td>   298</td>      <th>  BIC:               </th> <td>   3399.</td>\n</tr>\n<tr>\n  <th>Df Model:</th>              <td>    10</td>      <th>                     </th>     <td> </td>   \n</tr>\n<tr>\n  <th>Covariance Type:</th>      <td>nonrobust</td>    <th>                     </th>     <td> </td>   \n</tr>\n</table>\n<table class=\"simpletable\">\n<tr>\n    <td></td>       <th>coef</th>     <th>std err</th>      <th>t</th>      <th>P>|t|</th>  <th>[0.025</th>    <th>0.975]</th>  \n</tr>\n<tr>\n  <th>const</th> <td>  150.6102</td> <td>    3.117</td> <td>   48.323</td> <td> 0.000</td> <td>  144.477</td> <td>  156.744</td>\n</tr>\n<tr>\n  <th>age</th>   <td>   19.3740</td> <td>   71.652</td> <td>    0.270</td> <td> 0.787</td> <td> -121.634</td> <td>  160.382</td>\n</tr>\n<tr>\n  <th>sex</th>   <td> -275.9505</td> <td>   73.686</td> <td>   -3.745</td> <td> 0.000</td> <td> -420.962</td> <td> -130.939</td>\n</tr>\n<tr>\n  <th>bmi</th>   <td>  473.2759</td> <td>   78.912</td> <td>    5.998</td> <td> 0.000</td> <td>  317.981</td> <td>  628.570</td>\n</tr>\n<tr>\n  <th>bp</th>    <td>  317.6705</td> <td>   80.594</td> <td>    3.942</td> <td> 0.000</td> <td>  159.065</td> <td>  476.276</td>\n</tr>\n<tr>\n  <th>s1</th>    <td> -530.3157</td> <td>  522.373</td> <td>   -1.015</td> <td> 0.311</td> <td>-1558.323</td> <td>  497.691</td>\n</tr>\n<tr>\n  <th>s2</th>    <td>  305.8377</td> <td>  415.297</td> <td>    0.736</td> <td> 0.462</td> <td> -511.448</td> <td> 1123.123</td>\n</tr>\n<tr>\n  <th>s3</th>    <td> -192.9965</td> <td>  290.284</td> <td>   -0.665</td> <td> 0.507</td> <td> -764.263</td> <td>  378.270</td>\n</tr>\n<tr>\n  <th>s4</th>    <td>   37.7243</td> <td>  211.199</td> <td>    0.179</td> <td> 0.858</td> <td> -377.906</td> <td>  453.355</td>\n</tr>\n<tr>\n  <th>s5</th>    <td>  663.9624</td> <td>  211.773</td> <td>    3.135</td> <td> 0.002</td> <td>  247.202</td> <td> 1080.723</td>\n</tr>\n<tr>\n  <th>s6</th>    <td>   93.7672</td> <td>   80.136</td> <td>    1.170</td> <td> 0.243</td> <td>  -63.938</td> <td>  251.472</td>\n</tr>\n</table>\n<table class=\"simpletable\">\n<tr>\n  <th>Omnibus:</th>       <td> 5.026</td> <th>  Durbin-Watson:     </th> <td>   1.973</td>\n</tr>\n<tr>\n  <th>Prob(Omnibus):</th> <td> 0.081</td> <th>  Jarque-Bera (JB):  </th> <td>   3.301</td>\n</tr>\n<tr>\n  <th>Skew:</th>          <td> 0.057</td> <th>  Prob(JB):          </th> <td>   0.192</td>\n</tr>\n<tr>\n  <th>Kurtosis:</th>      <td> 2.507</td> <th>  Cond. No.          </th> <td>    238.</td>\n</tr>\n</table><br/><br/>Notes:<br/>[1] Standard Errors assume that the covariance matrix of the errors is correctly specified."
     },
     "metadata": {},
     "execution_count": 28
    }
   ],
   "source": [
    "model.summary()"
   ]
  },
  {
   "cell_type": "code",
   "execution_count": 29,
   "metadata": {},
   "outputs": [
    {
     "output_type": "stream",
     "name": "stdout",
     "text": [
      "R-squared:\nTrain score\n0.5088430393815073\nTest score\n0.5189640022043547\nMSE:\nTrain score\n2859.858149512344\nTest score\n2972.2518951287775\n"
     ]
    }
   ],
   "source": [
    "model_performance(model, train_X, train_y, test_X, test_y)"
   ]
  },
  {
   "cell_type": "code",
   "execution_count": null,
   "metadata": {},
   "outputs": [],
   "source": []
  }
 ]
}