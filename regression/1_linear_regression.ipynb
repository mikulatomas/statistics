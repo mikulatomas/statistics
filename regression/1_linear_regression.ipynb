{
 "metadata": {
  "language_info": {
   "codemirror_mode": {
    "name": "ipython",
    "version": 3
   },
   "file_extension": ".py",
   "mimetype": "text/x-python",
   "name": "python",
   "nbconvert_exporter": "python",
   "pygments_lexer": "ipython3",
   "version": "3.8.9"
  },
  "orig_nbformat": 2,
  "kernelspec": {
   "name": "python389jvsc74a57bd0082a18f759f8afdec9b7eec773590a36e4c3be1cd97bea91855dea5176a8175a",
   "display_name": "Python 3.8.9 64-bit ('fcapy': virtualenvwrapper)"
  }
 },
 "nbformat": 4,
 "nbformat_minor": 2,
 "cells": [
  {
   "cell_type": "code",
   "execution_count": 1,
   "metadata": {},
   "outputs": [],
   "source": [
    "from datasets import load_diabetes\n",
    "from sklearn.linear_model import LinearRegression\n",
    "from tools import *\n",
    "import seaborn as sns\n",
    "import matplotlib.pyplot as plt\n",
    "import pandas as pd\n",
    "from sklearn.model_selection import cross_val_score\n",
    "from sklearn.preprocessing import StandardScaler\n"
   ]
  },
  {
   "cell_type": "code",
   "execution_count": 2,
   "metadata": {},
   "outputs": [],
   "source": [
    "df_original, df_train, df_test = load_diabetes()"
   ]
  },
  {
   "cell_type": "code",
   "execution_count": 3,
   "metadata": {},
   "outputs": [],
   "source": [
    "train_X = df_train.drop(['target'], axis=1)\n",
    "train_y = df_train['target']\n",
    "test_X = df_test.drop(['target'], axis=1)\n",
    "test_y = df_test['target']\n",
    "original_X = df_original.drop(['target'], axis=1)\n",
    "original_y = df_original['target']\n",
    "features = train_X.columns"
   ]
  },
  {
   "cell_type": "code",
   "execution_count": 4,
   "metadata": {},
   "outputs": [
    {
     "output_type": "execute_result",
     "data": {
      "text/plain": [
       "0.48231812211149394"
      ]
     },
     "metadata": {},
     "execution_count": 4
    }
   ],
   "source": [
    "# 5-fold\n",
    "cross_val_score(LinearRegression(), original_X, original_y).mean()"
   ]
  },
  {
   "cell_type": "code",
   "execution_count": 5,
   "metadata": {},
   "outputs": [],
   "source": [
    "model = LinearRegression().fit(train_X, train_y)"
   ]
  },
  {
   "cell_type": "code",
   "execution_count": 6,
   "metadata": {},
   "outputs": [
    {
     "output_type": "stream",
     "name": "stdout",
     "text": [
      "Train score\n0.5088430393815073\nTest score\n0.5189640022043543\n"
     ]
    }
   ],
   "source": [
    "model_performance(model, train_X, train_y, test_X, test_y)"
   ]
  },
  {
   "cell_type": "code",
   "execution_count": 7,
   "metadata": {},
   "outputs": [
    {
     "output_type": "execute_result",
     "data": {
      "text/plain": [
       "  feature        coef\n",
       "8      s5  663.962421\n",
       "2     bmi  473.275877\n",
       "3      bp  317.670549\n",
       "5      s2  305.837750\n",
       "9      s6   93.767153\n",
       "7      s4   37.724292\n",
       "0     age   19.373997\n",
       "6      s3 -192.996494\n",
       "1     sex -275.950529\n",
       "4      s1 -530.315746"
      ],
      "text/html": "<div>\n<style scoped>\n    .dataframe tbody tr th:only-of-type {\n        vertical-align: middle;\n    }\n\n    .dataframe tbody tr th {\n        vertical-align: top;\n    }\n\n    .dataframe thead th {\n        text-align: right;\n    }\n</style>\n<table border=\"1\" class=\"dataframe\">\n  <thead>\n    <tr style=\"text-align: right;\">\n      <th></th>\n      <th>feature</th>\n      <th>coef</th>\n    </tr>\n  </thead>\n  <tbody>\n    <tr>\n      <th>8</th>\n      <td>s5</td>\n      <td>663.962421</td>\n    </tr>\n    <tr>\n      <th>2</th>\n      <td>bmi</td>\n      <td>473.275877</td>\n    </tr>\n    <tr>\n      <th>3</th>\n      <td>bp</td>\n      <td>317.670549</td>\n    </tr>\n    <tr>\n      <th>5</th>\n      <td>s2</td>\n      <td>305.837750</td>\n    </tr>\n    <tr>\n      <th>9</th>\n      <td>s6</td>\n      <td>93.767153</td>\n    </tr>\n    <tr>\n      <th>7</th>\n      <td>s4</td>\n      <td>37.724292</td>\n    </tr>\n    <tr>\n      <th>0</th>\n      <td>age</td>\n      <td>19.373997</td>\n    </tr>\n    <tr>\n      <th>6</th>\n      <td>s3</td>\n      <td>-192.996494</td>\n    </tr>\n    <tr>\n      <th>1</th>\n      <td>sex</td>\n      <td>-275.950529</td>\n    </tr>\n    <tr>\n      <th>4</th>\n      <td>s1</td>\n      <td>-530.315746</td>\n    </tr>\n  </tbody>\n</table>\n</div>"
     },
     "metadata": {},
     "execution_count": 7
    }
   ],
   "source": [
    "coef_table(model.coef_, features)"
   ]
  },
  {
   "cell_type": "code",
   "execution_count": null,
   "metadata": {},
   "outputs": [],
   "source": []
  }
 ]
}