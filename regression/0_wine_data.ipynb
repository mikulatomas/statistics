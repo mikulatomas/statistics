{
 "metadata": {
  "language_info": {
   "codemirror_mode": {
    "name": "ipython",
    "version": 3
   },
   "file_extension": ".py",
   "mimetype": "text/x-python",
   "name": "python",
   "nbconvert_exporter": "python",
   "pygments_lexer": "ipython3",
   "version": "3.8.9"
  },
  "orig_nbformat": 2,
  "kernelspec": {
   "name": "python389jvsc74a57bd0082a18f759f8afdec9b7eec773590a36e4c3be1cd97bea91855dea5176a8175a",
   "display_name": "Python 3.8.9 64-bit ('fcapy': virtualenvwrapper)"
  }
 },
 "nbformat": 4,
 "nbformat_minor": 2,
 "cells": [
  {
   "cell_type": "code",
   "execution_count": 1,
   "metadata": {},
   "outputs": [],
   "source": [
    "import seaborn as sns\n",
    "from datasets import load_wine\n",
    "import pandas as pd"
   ]
  },
  {
   "cell_type": "code",
   "execution_count": 2,
   "metadata": {},
   "outputs": [
    {
     "output_type": "execute_result",
     "data": {
      "text/plain": [
       "      fixed acidity  volatile acidity  citric acid  residual sugar  chlorides  \\\n",
       "779             7.1              0.52         0.03             2.6      0.076   \n",
       "185             8.9              0.31         0.57             2.0      0.111   \n",
       "309             7.4              0.29         0.38             1.7      0.062   \n",
       "1513            6.4              0.56         0.15             1.8      0.078   \n",
       "1185            7.0              0.43         0.30             2.0      0.085   \n",
       "\n",
       "      free sulfur dioxide  total sulfur dioxide  density    pH  sulphates  \\\n",
       "779                  21.0                  92.0  0.99745  3.50       0.60   \n",
       "185                  26.0                  85.0  0.99710  3.26       0.53   \n",
       "309                   9.0                  30.0  0.99680  3.41       0.53   \n",
       "1513                 17.0                  65.0  0.99294  3.33       0.60   \n",
       "1185                  6.0                  39.0  0.99346  3.33       0.46   \n",
       "\n",
       "      alcohol  target  \n",
       "779       9.8       5  \n",
       "185       9.7       5  \n",
       "309       9.5       6  \n",
       "1513     10.5       6  \n",
       "1185     11.9       6  "
      ],
      "text/html": "<div>\n<style scoped>\n    .dataframe tbody tr th:only-of-type {\n        vertical-align: middle;\n    }\n\n    .dataframe tbody tr th {\n        vertical-align: top;\n    }\n\n    .dataframe thead th {\n        text-align: right;\n    }\n</style>\n<table border=\"1\" class=\"dataframe\">\n  <thead>\n    <tr style=\"text-align: right;\">\n      <th></th>\n      <th>fixed acidity</th>\n      <th>volatile acidity</th>\n      <th>citric acid</th>\n      <th>residual sugar</th>\n      <th>chlorides</th>\n      <th>free sulfur dioxide</th>\n      <th>total sulfur dioxide</th>\n      <th>density</th>\n      <th>pH</th>\n      <th>sulphates</th>\n      <th>alcohol</th>\n      <th>target</th>\n    </tr>\n  </thead>\n  <tbody>\n    <tr>\n      <th>779</th>\n      <td>7.1</td>\n      <td>0.52</td>\n      <td>0.03</td>\n      <td>2.6</td>\n      <td>0.076</td>\n      <td>21.0</td>\n      <td>92.0</td>\n      <td>0.99745</td>\n      <td>3.50</td>\n      <td>0.60</td>\n      <td>9.8</td>\n      <td>5</td>\n    </tr>\n    <tr>\n      <th>185</th>\n      <td>8.9</td>\n      <td>0.31</td>\n      <td>0.57</td>\n      <td>2.0</td>\n      <td>0.111</td>\n      <td>26.0</td>\n      <td>85.0</td>\n      <td>0.99710</td>\n      <td>3.26</td>\n      <td>0.53</td>\n      <td>9.7</td>\n      <td>5</td>\n    </tr>\n    <tr>\n      <th>309</th>\n      <td>7.4</td>\n      <td>0.29</td>\n      <td>0.38</td>\n      <td>1.7</td>\n      <td>0.062</td>\n      <td>9.0</td>\n      <td>30.0</td>\n      <td>0.99680</td>\n      <td>3.41</td>\n      <td>0.53</td>\n      <td>9.5</td>\n      <td>6</td>\n    </tr>\n    <tr>\n      <th>1513</th>\n      <td>6.4</td>\n      <td>0.56</td>\n      <td>0.15</td>\n      <td>1.8</td>\n      <td>0.078</td>\n      <td>17.0</td>\n      <td>65.0</td>\n      <td>0.99294</td>\n      <td>3.33</td>\n      <td>0.60</td>\n      <td>10.5</td>\n      <td>6</td>\n    </tr>\n    <tr>\n      <th>1185</th>\n      <td>7.0</td>\n      <td>0.43</td>\n      <td>0.30</td>\n      <td>2.0</td>\n      <td>0.085</td>\n      <td>6.0</td>\n      <td>39.0</td>\n      <td>0.99346</td>\n      <td>3.33</td>\n      <td>0.46</td>\n      <td>11.9</td>\n      <td>6</td>\n    </tr>\n  </tbody>\n</table>\n</div>"
     },
     "metadata": {},
     "execution_count": 2
    }
   ],
   "source": [
    "df, train, test = load_wine()\n",
    "train.head()"
   ]
  },
  {
   "cell_type": "code",
   "execution_count": null,
   "metadata": {},
   "outputs": [],
   "source": []
  }
 ]
}