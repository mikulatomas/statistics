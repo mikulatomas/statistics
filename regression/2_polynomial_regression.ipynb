{
 "metadata": {
  "language_info": {
   "codemirror_mode": {
    "name": "ipython",
    "version": 3
   },
   "file_extension": ".py",
   "mimetype": "text/x-python",
   "name": "python",
   "nbconvert_exporter": "python",
   "pygments_lexer": "ipython3",
   "version": "3.8.9"
  },
  "orig_nbformat": 2,
  "kernelspec": {
   "name": "python389jvsc74a57bd0082a18f759f8afdec9b7eec773590a36e4c3be1cd97bea91855dea5176a8175a",
   "display_name": "Python 3.8.9 64-bit ('fcapy': virtualenvwrapper)"
  }
 },
 "nbformat": 4,
 "nbformat_minor": 2,
 "cells": [
  {
   "cell_type": "code",
   "execution_count": 18,
   "metadata": {},
   "outputs": [],
   "source": [
    "import statsmodels.api as sm\n",
    "\n",
    "from sklearn.linear_model import LinearRegression\n",
    "from sklearn.model_selection import cross_val_score\n",
    "from sklearn.preprocessing import StandardScaler\n",
    "\n",
    "import pandas as pd\n",
    "\n",
    "from datasets import diabetes_data\n",
    "from tools import polynomial_features"
   ]
  },
  {
   "cell_type": "code",
   "execution_count": 19,
   "metadata": {},
   "outputs": [],
   "source": [
    "original_X, original_y, train_X, train_y, test_X, test_y = diabetes_data()"
   ]
  },
  {
   "source": [
    "## Degree 2"
   ],
   "cell_type": "markdown",
   "metadata": {}
  },
  {
   "cell_type": "code",
   "execution_count": 20,
   "metadata": {},
   "outputs": [],
   "source": [
    "original_X_2 = polynomial_features(original_X, 2)"
   ]
  },
  {
   "cell_type": "code",
   "execution_count": 21,
   "metadata": {},
   "outputs": [],
   "source": [
    "original_X_2 = pd.DataFrame(StandardScaler().fit_transform(original_X_2), columns=original_X_2.columns)"
   ]
  },
  {
   "cell_type": "code",
   "execution_count": 22,
   "metadata": {},
   "outputs": [
    {
     "output_type": "execute_result",
     "data": {
      "text/plain": [
       "        age       sex       bmi        bp        s1        s2        s3  \\\n",
       "0  0.800500  1.065488  1.297088  0.459840 -0.929746 -0.732065 -0.912451   \n",
       "1 -0.039567 -0.938537 -1.082180 -0.553511 -0.177624 -0.402886  1.564414   \n",
       "2  1.793307  1.065488  0.934533 -0.119218 -0.958674 -0.718897 -0.680245   \n",
       "3 -1.872441 -0.938537 -0.243771 -0.770658  0.256292  0.525397 -0.757647   \n",
       "4  0.113172 -0.938537 -0.764944  0.459840  0.082726  0.327890  0.171178   \n",
       "\n",
       "         s4        s5        s6     age^2     sex^2     bmi^2      bp^2  \\\n",
       "0 -0.054499  0.418551 -0.370989 -0.312312  1.065488  0.473132 -0.652677   \n",
       "1 -0.830301 -1.436551 -1.938479 -0.868105 -0.938537  0.118633 -0.574111   \n",
       "2 -0.054499  0.060207 -0.545154  1.926693  1.065488 -0.087804 -0.815932   \n",
       "3  0.721302  0.477072 -0.196823  2.178913 -0.938537 -0.652097 -0.336116   \n",
       "4 -0.054499 -0.672582 -0.980568 -0.858330 -0.938537 -0.287621 -0.652677   \n",
       "\n",
       "       s1^2      s2^2      s3^2      s4^2      s5^2      s6^2  \n",
       "0 -0.091057 -0.288865 -0.097370 -0.640142 -0.605826 -0.578692  \n",
       "1 -0.650453 -0.521412  0.841720 -0.199421  0.781270  1.850556  \n",
       "2 -0.054366 -0.300757 -0.312444 -0.640142 -0.731837 -0.471619  \n",
       "3 -0.627526 -0.450624 -0.247721 -0.308006 -0.567329 -0.645054  \n",
       "4 -0.667047 -0.555525 -0.564503 -0.640142 -0.402237 -0.025826  "
      ],
      "text/html": "<div>\n<style scoped>\n    .dataframe tbody tr th:only-of-type {\n        vertical-align: middle;\n    }\n\n    .dataframe tbody tr th {\n        vertical-align: top;\n    }\n\n    .dataframe thead th {\n        text-align: right;\n    }\n</style>\n<table border=\"1\" class=\"dataframe\">\n  <thead>\n    <tr style=\"text-align: right;\">\n      <th></th>\n      <th>age</th>\n      <th>sex</th>\n      <th>bmi</th>\n      <th>bp</th>\n      <th>s1</th>\n      <th>s2</th>\n      <th>s3</th>\n      <th>s4</th>\n      <th>s5</th>\n      <th>s6</th>\n      <th>age^2</th>\n      <th>sex^2</th>\n      <th>bmi^2</th>\n      <th>bp^2</th>\n      <th>s1^2</th>\n      <th>s2^2</th>\n      <th>s3^2</th>\n      <th>s4^2</th>\n      <th>s5^2</th>\n      <th>s6^2</th>\n    </tr>\n  </thead>\n  <tbody>\n    <tr>\n      <th>0</th>\n      <td>0.800500</td>\n      <td>1.065488</td>\n      <td>1.297088</td>\n      <td>0.459840</td>\n      <td>-0.929746</td>\n      <td>-0.732065</td>\n      <td>-0.912451</td>\n      <td>-0.054499</td>\n      <td>0.418551</td>\n      <td>-0.370989</td>\n      <td>-0.312312</td>\n      <td>1.065488</td>\n      <td>0.473132</td>\n      <td>-0.652677</td>\n      <td>-0.091057</td>\n      <td>-0.288865</td>\n      <td>-0.097370</td>\n      <td>-0.640142</td>\n      <td>-0.605826</td>\n      <td>-0.578692</td>\n    </tr>\n    <tr>\n      <th>1</th>\n      <td>-0.039567</td>\n      <td>-0.938537</td>\n      <td>-1.082180</td>\n      <td>-0.553511</td>\n      <td>-0.177624</td>\n      <td>-0.402886</td>\n      <td>1.564414</td>\n      <td>-0.830301</td>\n      <td>-1.436551</td>\n      <td>-1.938479</td>\n      <td>-0.868105</td>\n      <td>-0.938537</td>\n      <td>0.118633</td>\n      <td>-0.574111</td>\n      <td>-0.650453</td>\n      <td>-0.521412</td>\n      <td>0.841720</td>\n      <td>-0.199421</td>\n      <td>0.781270</td>\n      <td>1.850556</td>\n    </tr>\n    <tr>\n      <th>2</th>\n      <td>1.793307</td>\n      <td>1.065488</td>\n      <td>0.934533</td>\n      <td>-0.119218</td>\n      <td>-0.958674</td>\n      <td>-0.718897</td>\n      <td>-0.680245</td>\n      <td>-0.054499</td>\n      <td>0.060207</td>\n      <td>-0.545154</td>\n      <td>1.926693</td>\n      <td>1.065488</td>\n      <td>-0.087804</td>\n      <td>-0.815932</td>\n      <td>-0.054366</td>\n      <td>-0.300757</td>\n      <td>-0.312444</td>\n      <td>-0.640142</td>\n      <td>-0.731837</td>\n      <td>-0.471619</td>\n    </tr>\n    <tr>\n      <th>3</th>\n      <td>-1.872441</td>\n      <td>-0.938537</td>\n      <td>-0.243771</td>\n      <td>-0.770658</td>\n      <td>0.256292</td>\n      <td>0.525397</td>\n      <td>-0.757647</td>\n      <td>0.721302</td>\n      <td>0.477072</td>\n      <td>-0.196823</td>\n      <td>2.178913</td>\n      <td>-0.938537</td>\n      <td>-0.652097</td>\n      <td>-0.336116</td>\n      <td>-0.627526</td>\n      <td>-0.450624</td>\n      <td>-0.247721</td>\n      <td>-0.308006</td>\n      <td>-0.567329</td>\n      <td>-0.645054</td>\n    </tr>\n    <tr>\n      <th>4</th>\n      <td>0.113172</td>\n      <td>-0.938537</td>\n      <td>-0.764944</td>\n      <td>0.459840</td>\n      <td>0.082726</td>\n      <td>0.327890</td>\n      <td>0.171178</td>\n      <td>-0.054499</td>\n      <td>-0.672582</td>\n      <td>-0.980568</td>\n      <td>-0.858330</td>\n      <td>-0.938537</td>\n      <td>-0.287621</td>\n      <td>-0.652677</td>\n      <td>-0.667047</td>\n      <td>-0.555525</td>\n      <td>-0.564503</td>\n      <td>-0.640142</td>\n      <td>-0.402237</td>\n      <td>-0.025826</td>\n    </tr>\n  </tbody>\n</table>\n</div>"
     },
     "metadata": {},
     "execution_count": 22
    }
   ],
   "source": [
    "original_X_2.head()"
   ]
  },
  {
   "source": [
    "### Estimate test error by 5-fold cross validation"
   ],
   "cell_type": "markdown",
   "metadata": {}
  },
  {
   "cell_type": "code",
   "execution_count": 23,
   "metadata": {},
   "outputs": [
    {
     "output_type": "execute_result",
     "data": {
      "text/plain": [
       "0.4890330444830031"
      ]
     },
     "metadata": {},
     "execution_count": 23
    }
   ],
   "source": [
    "model = LinearRegression()\n",
    "cross_val_score(model, original_X_2, original_y).mean()"
   ]
  },
  {
   "source": [
    "### Fit Polynomial Regression Model"
   ],
   "cell_type": "markdown",
   "metadata": {}
  },
  {
   "cell_type": "code",
   "execution_count": 24,
   "metadata": {},
   "outputs": [],
   "source": [
    "# add constant, since statsmodels does not add it by defaul\n",
    "original_X_2_const = sm.add_constant(original_X_2)\n",
    "model = sm.OLS(original_y, original_X_2_const)\n",
    "\n",
    "# fit model\n",
    "result = model.fit()"
   ]
  },
  {
   "cell_type": "code",
   "execution_count": 25,
   "metadata": {},
   "outputs": [
    {
     "output_type": "execute_result",
     "data": {
      "text/plain": [
       "<class 'statsmodels.iolib.summary.Summary'>\n",
       "\"\"\"\n",
       "                            OLS Regression Results                            \n",
       "==============================================================================\n",
       "Dep. Variable:                 target   R-squared:                       0.546\n",
       "Model:                            OLS   Adj. R-squared:                  0.526\n",
       "Method:                 Least Squares   F-statistic:                     26.73\n",
       "Date:                Wed, 16 Jun 2021   Prob (F-statistic):           1.41e-60\n",
       "Time:                        10:53:00   Log-Likelihood:                -2372.6\n",
       "No. Observations:                 442   AIC:                             4785.\n",
       "Df Residuals:                     422   BIC:                             4867.\n",
       "Df Model:                          19                                         \n",
       "Covariance Type:            nonrobust                                         \n",
       "==============================================================================\n",
       "                 coef    std err          t      P>|t|      [0.025      0.975]\n",
       "------------------------------------------------------------------------------\n",
       "const        152.1335      2.525     60.243      0.000     147.170     157.097\n",
       "age            1.9922      2.912      0.684      0.494      -3.732       7.716\n",
       "sex           -5.7646      1.460     -3.949      0.000      -8.634      -2.895\n",
       "bmi           21.6111      3.553      6.082      0.000      14.627      28.596\n",
       "bp            15.6161      3.164      4.936      0.000       9.397      21.835\n",
       "s1          -228.4282     73.046     -3.127      0.002    -372.008     -84.848\n",
       "s2           192.1655     63.850      3.010      0.003      66.662     317.669\n",
       "s3            74.8495     28.971      2.584      0.010      17.905     131.794\n",
       "s4             5.9565     12.186      0.489      0.625     -17.997      29.910\n",
       "s5           104.1202     26.458      3.935      0.000      52.113     156.127\n",
       "s6             2.7715      3.137      0.883      0.378      -3.395       8.938\n",
       "age^2          6.0973      2.622      2.325      0.021       0.944      11.251\n",
       "sex^2         -5.7646      1.460     -3.949      0.000      -8.634      -2.895\n",
       "bmi^2          4.9912      3.000      1.664      0.097      -0.905      10.887\n",
       "bp^2           1.4818      2.695      0.550      0.583      -3.816       6.780\n",
       "s1^2           5.0771      5.457      0.930      0.353      -5.649      15.803\n",
       "s2^2          -6.1127      5.910     -1.034      0.302     -17.729       5.504\n",
       "s3^2           0.6853      3.946      0.174      0.862      -7.072       8.442\n",
       "s4^2           1.0701      4.435      0.241      0.809      -7.647       9.787\n",
       "s5^2          26.6028     10.616      2.506      0.013       5.736      47.470\n",
       "s6^2           6.7567      2.638      2.561      0.011       1.572      11.942\n",
       "==============================================================================\n",
       "Omnibus:                        1.909   Durbin-Watson:                   1.991\n",
       "Prob(Omnibus):                  0.385   Jarque-Bera (JB):                1.995\n",
       "Skew:                           0.147   Prob(JB):                        0.369\n",
       "Kurtosis:                       2.853   Cond. No.                     6.36e+15\n",
       "==============================================================================\n",
       "\n",
       "Notes:\n",
       "[1] Standard Errors assume that the covariance matrix of the errors is correctly specified.\n",
       "[2] The smallest eigenvalue is 4.9e-29. This might indicate that there are\n",
       "strong multicollinearity problems or that the design matrix is singular.\n",
       "\"\"\""
      ],
      "text/html": "<table class=\"simpletable\">\n<caption>OLS Regression Results</caption>\n<tr>\n  <th>Dep. Variable:</th>         <td>target</td>      <th>  R-squared:         </th> <td>   0.546</td>\n</tr>\n<tr>\n  <th>Model:</th>                   <td>OLS</td>       <th>  Adj. R-squared:    </th> <td>   0.526</td>\n</tr>\n<tr>\n  <th>Method:</th>             <td>Least Squares</td>  <th>  F-statistic:       </th> <td>   26.73</td>\n</tr>\n<tr>\n  <th>Date:</th>             <td>Wed, 16 Jun 2021</td> <th>  Prob (F-statistic):</th> <td>1.41e-60</td>\n</tr>\n<tr>\n  <th>Time:</th>                 <td>10:53:00</td>     <th>  Log-Likelihood:    </th> <td> -2372.6</td>\n</tr>\n<tr>\n  <th>No. Observations:</th>      <td>   442</td>      <th>  AIC:               </th> <td>   4785.</td>\n</tr>\n<tr>\n  <th>Df Residuals:</th>          <td>   422</td>      <th>  BIC:               </th> <td>   4867.</td>\n</tr>\n<tr>\n  <th>Df Model:</th>              <td>    19</td>      <th>                     </th>     <td> </td>   \n</tr>\n<tr>\n  <th>Covariance Type:</th>      <td>nonrobust</td>    <th>                     </th>     <td> </td>   \n</tr>\n</table>\n<table class=\"simpletable\">\n<tr>\n    <td></td>       <th>coef</th>     <th>std err</th>      <th>t</th>      <th>P>|t|</th>  <th>[0.025</th>    <th>0.975]</th>  \n</tr>\n<tr>\n  <th>const</th> <td>  152.1335</td> <td>    2.525</td> <td>   60.243</td> <td> 0.000</td> <td>  147.170</td> <td>  157.097</td>\n</tr>\n<tr>\n  <th>age</th>   <td>    1.9922</td> <td>    2.912</td> <td>    0.684</td> <td> 0.494</td> <td>   -3.732</td> <td>    7.716</td>\n</tr>\n<tr>\n  <th>sex</th>   <td>   -5.7646</td> <td>    1.460</td> <td>   -3.949</td> <td> 0.000</td> <td>   -8.634</td> <td>   -2.895</td>\n</tr>\n<tr>\n  <th>bmi</th>   <td>   21.6111</td> <td>    3.553</td> <td>    6.082</td> <td> 0.000</td> <td>   14.627</td> <td>   28.596</td>\n</tr>\n<tr>\n  <th>bp</th>    <td>   15.6161</td> <td>    3.164</td> <td>    4.936</td> <td> 0.000</td> <td>    9.397</td> <td>   21.835</td>\n</tr>\n<tr>\n  <th>s1</th>    <td> -228.4282</td> <td>   73.046</td> <td>   -3.127</td> <td> 0.002</td> <td> -372.008</td> <td>  -84.848</td>\n</tr>\n<tr>\n  <th>s2</th>    <td>  192.1655</td> <td>   63.850</td> <td>    3.010</td> <td> 0.003</td> <td>   66.662</td> <td>  317.669</td>\n</tr>\n<tr>\n  <th>s3</th>    <td>   74.8495</td> <td>   28.971</td> <td>    2.584</td> <td> 0.010</td> <td>   17.905</td> <td>  131.794</td>\n</tr>\n<tr>\n  <th>s4</th>    <td>    5.9565</td> <td>   12.186</td> <td>    0.489</td> <td> 0.625</td> <td>  -17.997</td> <td>   29.910</td>\n</tr>\n<tr>\n  <th>s5</th>    <td>  104.1202</td> <td>   26.458</td> <td>    3.935</td> <td> 0.000</td> <td>   52.113</td> <td>  156.127</td>\n</tr>\n<tr>\n  <th>s6</th>    <td>    2.7715</td> <td>    3.137</td> <td>    0.883</td> <td> 0.378</td> <td>   -3.395</td> <td>    8.938</td>\n</tr>\n<tr>\n  <th>age^2</th> <td>    6.0973</td> <td>    2.622</td> <td>    2.325</td> <td> 0.021</td> <td>    0.944</td> <td>   11.251</td>\n</tr>\n<tr>\n  <th>sex^2</th> <td>   -5.7646</td> <td>    1.460</td> <td>   -3.949</td> <td> 0.000</td> <td>   -8.634</td> <td>   -2.895</td>\n</tr>\n<tr>\n  <th>bmi^2</th> <td>    4.9912</td> <td>    3.000</td> <td>    1.664</td> <td> 0.097</td> <td>   -0.905</td> <td>   10.887</td>\n</tr>\n<tr>\n  <th>bp^2</th>  <td>    1.4818</td> <td>    2.695</td> <td>    0.550</td> <td> 0.583</td> <td>   -3.816</td> <td>    6.780</td>\n</tr>\n<tr>\n  <th>s1^2</th>  <td>    5.0771</td> <td>    5.457</td> <td>    0.930</td> <td> 0.353</td> <td>   -5.649</td> <td>   15.803</td>\n</tr>\n<tr>\n  <th>s2^2</th>  <td>   -6.1127</td> <td>    5.910</td> <td>   -1.034</td> <td> 0.302</td> <td>  -17.729</td> <td>    5.504</td>\n</tr>\n<tr>\n  <th>s3^2</th>  <td>    0.6853</td> <td>    3.946</td> <td>    0.174</td> <td> 0.862</td> <td>   -7.072</td> <td>    8.442</td>\n</tr>\n<tr>\n  <th>s4^2</th>  <td>    1.0701</td> <td>    4.435</td> <td>    0.241</td> <td> 0.809</td> <td>   -7.647</td> <td>    9.787</td>\n</tr>\n<tr>\n  <th>s5^2</th>  <td>   26.6028</td> <td>   10.616</td> <td>    2.506</td> <td> 0.013</td> <td>    5.736</td> <td>   47.470</td>\n</tr>\n<tr>\n  <th>s6^2</th>  <td>    6.7567</td> <td>    2.638</td> <td>    2.561</td> <td> 0.011</td> <td>    1.572</td> <td>   11.942</td>\n</tr>\n</table>\n<table class=\"simpletable\">\n<tr>\n  <th>Omnibus:</th>       <td> 1.909</td> <th>  Durbin-Watson:     </th> <td>   1.991</td>\n</tr>\n<tr>\n  <th>Prob(Omnibus):</th> <td> 0.385</td> <th>  Jarque-Bera (JB):  </th> <td>   1.995</td>\n</tr>\n<tr>\n  <th>Skew:</th>          <td> 0.147</td> <th>  Prob(JB):          </th> <td>   0.369</td>\n</tr>\n<tr>\n  <th>Kurtosis:</th>      <td> 2.853</td> <th>  Cond. No.          </th> <td>6.36e+15</td>\n</tr>\n</table><br/><br/>Notes:<br/>[1] Standard Errors assume that the covariance matrix of the errors is correctly specified.<br/>[2] The smallest eigenvalue is 4.9e-29. This might indicate that there are<br/>strong multicollinearity problems or that the design matrix is singular."
     },
     "metadata": {},
     "execution_count": 25
    }
   ],
   "source": [
    "result.summary()"
   ]
  },
  {
   "source": [
    "## Degree 3"
   ],
   "cell_type": "markdown",
   "metadata": {}
  },
  {
   "cell_type": "code",
   "execution_count": 26,
   "metadata": {},
   "outputs": [],
   "source": [
    "original_X_3 = polynomial_features(original_X, 3)"
   ]
  },
  {
   "cell_type": "code",
   "execution_count": 27,
   "metadata": {},
   "outputs": [],
   "source": [
    "original_X_3 = pd.DataFrame(StandardScaler().fit_transform(original_X_3), columns=original_X_3.columns)"
   ]
  },
  {
   "cell_type": "code",
   "execution_count": 28,
   "metadata": {},
   "outputs": [
    {
     "output_type": "execute_result",
     "data": {
      "text/plain": [
       "        age       sex       bmi        bp        s1        s2        s3  \\\n",
       "0  0.800500  1.065488  1.297088  0.459840 -0.929746 -0.732065 -0.912451   \n",
       "1 -0.039567 -0.938537 -1.082180 -0.553511 -0.177624 -0.402886  1.564414   \n",
       "2  1.793307  1.065488  0.934533 -0.119218 -0.958674 -0.718897 -0.680245   \n",
       "3 -1.872441 -0.938537 -0.243771 -0.770658  0.256292  0.525397 -0.757647   \n",
       "4  0.113172 -0.938537 -0.764944  0.459840  0.082726  0.327890  0.171178   \n",
       "\n",
       "         s4        s5        s6  ...     age^3     sex^3     bmi^3      bp^3  \\\n",
       "0 -0.054499  0.418551 -0.370989  ...  0.275032  1.065488  0.377399 -0.064821   \n",
       "1 -0.830301 -1.436551 -1.938479  ...  0.085271 -0.938537 -0.443382 -0.154693   \n",
       "2 -0.054499  0.060207 -0.545154  ...  2.218500  1.065488  0.052360 -0.098143   \n",
       "3  0.721302  0.477072 -0.196823  ... -2.342956 -0.938537 -0.145283 -0.251742   \n",
       "4 -0.054499 -0.672582 -0.980568  ...  0.085830 -0.938537 -0.248335 -0.064821   \n",
       "\n",
       "       s1^3      s2^3      s3^3      s4^3      s5^3      s6^3  \n",
       "0 -0.286006 -0.161870 -0.273916 -0.153371 -0.060035 -0.063947  \n",
       "1 -0.092651 -0.097913  0.533708 -0.273101 -0.898721 -1.854866  \n",
       "2 -0.304752 -0.157803 -0.195606 -0.153371 -0.080217 -0.091420  \n",
       "3 -0.087215 -0.056747 -0.216753 -0.074819 -0.050301 -0.053193  \n",
       "4 -0.091156 -0.078224 -0.139319 -0.153371 -0.164274 -0.284748  \n",
       "\n",
       "[5 rows x 30 columns]"
      ],
      "text/html": "<div>\n<style scoped>\n    .dataframe tbody tr th:only-of-type {\n        vertical-align: middle;\n    }\n\n    .dataframe tbody tr th {\n        vertical-align: top;\n    }\n\n    .dataframe thead th {\n        text-align: right;\n    }\n</style>\n<table border=\"1\" class=\"dataframe\">\n  <thead>\n    <tr style=\"text-align: right;\">\n      <th></th>\n      <th>age</th>\n      <th>sex</th>\n      <th>bmi</th>\n      <th>bp</th>\n      <th>s1</th>\n      <th>s2</th>\n      <th>s3</th>\n      <th>s4</th>\n      <th>s5</th>\n      <th>s6</th>\n      <th>...</th>\n      <th>age^3</th>\n      <th>sex^3</th>\n      <th>bmi^3</th>\n      <th>bp^3</th>\n      <th>s1^3</th>\n      <th>s2^3</th>\n      <th>s3^3</th>\n      <th>s4^3</th>\n      <th>s5^3</th>\n      <th>s6^3</th>\n    </tr>\n  </thead>\n  <tbody>\n    <tr>\n      <th>0</th>\n      <td>0.800500</td>\n      <td>1.065488</td>\n      <td>1.297088</td>\n      <td>0.459840</td>\n      <td>-0.929746</td>\n      <td>-0.732065</td>\n      <td>-0.912451</td>\n      <td>-0.054499</td>\n      <td>0.418551</td>\n      <td>-0.370989</td>\n      <td>...</td>\n      <td>0.275032</td>\n      <td>1.065488</td>\n      <td>0.377399</td>\n      <td>-0.064821</td>\n      <td>-0.286006</td>\n      <td>-0.161870</td>\n      <td>-0.273916</td>\n      <td>-0.153371</td>\n      <td>-0.060035</td>\n      <td>-0.063947</td>\n    </tr>\n    <tr>\n      <th>1</th>\n      <td>-0.039567</td>\n      <td>-0.938537</td>\n      <td>-1.082180</td>\n      <td>-0.553511</td>\n      <td>-0.177624</td>\n      <td>-0.402886</td>\n      <td>1.564414</td>\n      <td>-0.830301</td>\n      <td>-1.436551</td>\n      <td>-1.938479</td>\n      <td>...</td>\n      <td>0.085271</td>\n      <td>-0.938537</td>\n      <td>-0.443382</td>\n      <td>-0.154693</td>\n      <td>-0.092651</td>\n      <td>-0.097913</td>\n      <td>0.533708</td>\n      <td>-0.273101</td>\n      <td>-0.898721</td>\n      <td>-1.854866</td>\n    </tr>\n    <tr>\n      <th>2</th>\n      <td>1.793307</td>\n      <td>1.065488</td>\n      <td>0.934533</td>\n      <td>-0.119218</td>\n      <td>-0.958674</td>\n      <td>-0.718897</td>\n      <td>-0.680245</td>\n      <td>-0.054499</td>\n      <td>0.060207</td>\n      <td>-0.545154</td>\n      <td>...</td>\n      <td>2.218500</td>\n      <td>1.065488</td>\n      <td>0.052360</td>\n      <td>-0.098143</td>\n      <td>-0.304752</td>\n      <td>-0.157803</td>\n      <td>-0.195606</td>\n      <td>-0.153371</td>\n      <td>-0.080217</td>\n      <td>-0.091420</td>\n    </tr>\n    <tr>\n      <th>3</th>\n      <td>-1.872441</td>\n      <td>-0.938537</td>\n      <td>-0.243771</td>\n      <td>-0.770658</td>\n      <td>0.256292</td>\n      <td>0.525397</td>\n      <td>-0.757647</td>\n      <td>0.721302</td>\n      <td>0.477072</td>\n      <td>-0.196823</td>\n      <td>...</td>\n      <td>-2.342956</td>\n      <td>-0.938537</td>\n      <td>-0.145283</td>\n      <td>-0.251742</td>\n      <td>-0.087215</td>\n      <td>-0.056747</td>\n      <td>-0.216753</td>\n      <td>-0.074819</td>\n      <td>-0.050301</td>\n      <td>-0.053193</td>\n    </tr>\n    <tr>\n      <th>4</th>\n      <td>0.113172</td>\n      <td>-0.938537</td>\n      <td>-0.764944</td>\n      <td>0.459840</td>\n      <td>0.082726</td>\n      <td>0.327890</td>\n      <td>0.171178</td>\n      <td>-0.054499</td>\n      <td>-0.672582</td>\n      <td>-0.980568</td>\n      <td>...</td>\n      <td>0.085830</td>\n      <td>-0.938537</td>\n      <td>-0.248335</td>\n      <td>-0.064821</td>\n      <td>-0.091156</td>\n      <td>-0.078224</td>\n      <td>-0.139319</td>\n      <td>-0.153371</td>\n      <td>-0.164274</td>\n      <td>-0.284748</td>\n    </tr>\n  </tbody>\n</table>\n<p>5 rows × 30 columns</p>\n</div>"
     },
     "metadata": {},
     "execution_count": 28
    }
   ],
   "source": [
    "original_X_3.head()"
   ]
  },
  {
   "source": [
    "### Estimate test error by 5-fold cross validation"
   ],
   "cell_type": "markdown",
   "metadata": {}
  },
  {
   "cell_type": "code",
   "execution_count": 29,
   "metadata": {},
   "outputs": [
    {
     "output_type": "execute_result",
     "data": {
      "text/plain": [
       "0.47460105616499604"
      ]
     },
     "metadata": {},
     "execution_count": 29
    }
   ],
   "source": [
    "model = LinearRegression()\n",
    "cross_val_score(model, original_X_3, original_y).mean()"
   ]
  },
  {
   "source": [
    "### Fit Polynomial Regression Model"
   ],
   "cell_type": "markdown",
   "metadata": {}
  },
  {
   "cell_type": "code",
   "execution_count": 30,
   "metadata": {},
   "outputs": [],
   "source": [
    "# add constant, since statsmodels does not add it by defaul\n",
    "original_X_3_const = sm.add_constant(original_X_3)\n",
    "model = sm.OLS(original_y, original_X_3_const)\n",
    "\n",
    "# fit model\n",
    "result = model.fit()"
   ]
  },
  {
   "cell_type": "code",
   "execution_count": 31,
   "metadata": {},
   "outputs": [
    {
     "output_type": "execute_result",
     "data": {
      "text/plain": [
       "<class 'statsmodels.iolib.summary.Summary'>\n",
       "\"\"\"\n",
       "                            OLS Regression Results                            \n",
       "==============================================================================\n",
       "Dep. Variable:                 target   R-squared:                       0.559\n",
       "Model:                            OLS   Adj. R-squared:                  0.529\n",
       "Method:                 Least Squares   F-statistic:                     18.69\n",
       "Date:                Wed, 16 Jun 2021   Prob (F-statistic):           6.74e-57\n",
       "Time:                        10:53:00   Log-Likelihood:                -2366.3\n",
       "No. Observations:                 442   AIC:                             4791.\n",
       "Df Residuals:                     413   BIC:                             4909.\n",
       "Df Model:                          28                                         \n",
       "Covariance Type:            nonrobust                                         \n",
       "==============================================================================\n",
       "                 coef    std err          t      P>|t|      [0.025      0.975]\n",
       "------------------------------------------------------------------------------\n",
       "const        152.1335      2.517     60.449      0.000     147.186     157.081\n",
       "age           11.6248      5.311      2.189      0.029       1.185      22.064\n",
       "sex           -4.0250      0.985     -4.084      0.000      -5.962      -2.088\n",
       "bmi           21.5376      4.569      4.714      0.000      12.556      30.519\n",
       "bp            12.8157      5.166      2.481      0.013       2.662      22.970\n",
       "s1           501.9499    410.838      1.222      0.222    -305.644    1309.544\n",
       "s2          -450.5106    360.604     -1.249      0.212   -1159.358     258.337\n",
       "s3          -202.3068    154.041     -1.313      0.190    -505.109     100.495\n",
       "s4             5.8613     13.074      0.448      0.654     -19.839      31.561\n",
       "s5          -123.4327    126.422     -0.976      0.329    -371.943     125.078\n",
       "s6             3.7323      4.687      0.796      0.426      -5.481      12.946\n",
       "age^2          4.8617      2.696      1.804      0.072      -0.437      10.160\n",
       "sex^2         -4.0250      0.985     -4.084      0.000      -5.962      -2.088\n",
       "bmi^2          4.5694      4.367      1.046      0.296      -4.014      13.153\n",
       "bp^2           1.0406      2.831      0.368      0.713      -4.524       6.605\n",
       "s1^2           4.8001      5.932      0.809      0.419      -6.861      16.462\n",
       "s2^2          -5.9402      7.104     -0.836      0.404     -19.905       8.024\n",
       "s3^2          -2.6021      6.618     -0.393      0.694     -15.610      10.406\n",
       "s4^2           5.1943      6.856      0.758      0.449      -8.283      18.672\n",
       "s5^2         -65.7595     51.341     -1.281      0.201    -166.682      35.163\n",
       "s6^2           7.5584      2.742      2.757      0.006       2.169      12.948\n",
       "age^3        -11.2467      5.204     -2.161      0.031     -21.477      -1.017\n",
       "sex^3         -4.0250      0.985     -4.084      0.000      -5.962      -2.088\n",
       "bmi^3          1.1434      5.587      0.205      0.838      -9.839      12.125\n",
       "bp^3           3.5602      4.879      0.730      0.466      -6.031      13.151\n",
       "s1^3          13.4873      7.729      1.745      0.082      -1.706      28.681\n",
       "s2^3         -12.6174      8.485     -1.487      0.138     -29.296       4.061\n",
       "s3^3           3.3267      6.470      0.514      0.607      -9.391      16.044\n",
       "s4^3          -1.1809      7.664     -0.154      0.878     -16.246      13.884\n",
       "s5^3         -47.1159     26.621     -1.770      0.077     -99.446       5.214\n",
       "s6^3          -1.2908      4.421     -0.292      0.770      -9.980       7.399\n",
       "==============================================================================\n",
       "Omnibus:                        2.228   Durbin-Watson:                   2.012\n",
       "Prob(Omnibus):                  0.328   Jarque-Bera (JB):                2.309\n",
       "Skew:                           0.163   Prob(JB):                        0.315\n",
       "Kurtosis:                       2.860   Cond. No.                     1.41e+16\n",
       "==============================================================================\n",
       "\n",
       "Notes:\n",
       "[1] Standard Errors assume that the covariance matrix of the errors is correctly specified.\n",
       "[2] The smallest eigenvalue is 1.51e-29. This might indicate that there are\n",
       "strong multicollinearity problems or that the design matrix is singular.\n",
       "\"\"\""
      ],
      "text/html": "<table class=\"simpletable\">\n<caption>OLS Regression Results</caption>\n<tr>\n  <th>Dep. Variable:</th>         <td>target</td>      <th>  R-squared:         </th> <td>   0.559</td>\n</tr>\n<tr>\n  <th>Model:</th>                   <td>OLS</td>       <th>  Adj. R-squared:    </th> <td>   0.529</td>\n</tr>\n<tr>\n  <th>Method:</th>             <td>Least Squares</td>  <th>  F-statistic:       </th> <td>   18.69</td>\n</tr>\n<tr>\n  <th>Date:</th>             <td>Wed, 16 Jun 2021</td> <th>  Prob (F-statistic):</th> <td>6.74e-57</td>\n</tr>\n<tr>\n  <th>Time:</th>                 <td>10:53:00</td>     <th>  Log-Likelihood:    </th> <td> -2366.3</td>\n</tr>\n<tr>\n  <th>No. Observations:</th>      <td>   442</td>      <th>  AIC:               </th> <td>   4791.</td>\n</tr>\n<tr>\n  <th>Df Residuals:</th>          <td>   413</td>      <th>  BIC:               </th> <td>   4909.</td>\n</tr>\n<tr>\n  <th>Df Model:</th>              <td>    28</td>      <th>                     </th>     <td> </td>   \n</tr>\n<tr>\n  <th>Covariance Type:</th>      <td>nonrobust</td>    <th>                     </th>     <td> </td>   \n</tr>\n</table>\n<table class=\"simpletable\">\n<tr>\n    <td></td>       <th>coef</th>     <th>std err</th>      <th>t</th>      <th>P>|t|</th>  <th>[0.025</th>    <th>0.975]</th>  \n</tr>\n<tr>\n  <th>const</th> <td>  152.1335</td> <td>    2.517</td> <td>   60.449</td> <td> 0.000</td> <td>  147.186</td> <td>  157.081</td>\n</tr>\n<tr>\n  <th>age</th>   <td>   11.6248</td> <td>    5.311</td> <td>    2.189</td> <td> 0.029</td> <td>    1.185</td> <td>   22.064</td>\n</tr>\n<tr>\n  <th>sex</th>   <td>   -4.0250</td> <td>    0.985</td> <td>   -4.084</td> <td> 0.000</td> <td>   -5.962</td> <td>   -2.088</td>\n</tr>\n<tr>\n  <th>bmi</th>   <td>   21.5376</td> <td>    4.569</td> <td>    4.714</td> <td> 0.000</td> <td>   12.556</td> <td>   30.519</td>\n</tr>\n<tr>\n  <th>bp</th>    <td>   12.8157</td> <td>    5.166</td> <td>    2.481</td> <td> 0.013</td> <td>    2.662</td> <td>   22.970</td>\n</tr>\n<tr>\n  <th>s1</th>    <td>  501.9499</td> <td>  410.838</td> <td>    1.222</td> <td> 0.222</td> <td> -305.644</td> <td> 1309.544</td>\n</tr>\n<tr>\n  <th>s2</th>    <td> -450.5106</td> <td>  360.604</td> <td>   -1.249</td> <td> 0.212</td> <td>-1159.358</td> <td>  258.337</td>\n</tr>\n<tr>\n  <th>s3</th>    <td> -202.3068</td> <td>  154.041</td> <td>   -1.313</td> <td> 0.190</td> <td> -505.109</td> <td>  100.495</td>\n</tr>\n<tr>\n  <th>s4</th>    <td>    5.8613</td> <td>   13.074</td> <td>    0.448</td> <td> 0.654</td> <td>  -19.839</td> <td>   31.561</td>\n</tr>\n<tr>\n  <th>s5</th>    <td> -123.4327</td> <td>  126.422</td> <td>   -0.976</td> <td> 0.329</td> <td> -371.943</td> <td>  125.078</td>\n</tr>\n<tr>\n  <th>s6</th>    <td>    3.7323</td> <td>    4.687</td> <td>    0.796</td> <td> 0.426</td> <td>   -5.481</td> <td>   12.946</td>\n</tr>\n<tr>\n  <th>age^2</th> <td>    4.8617</td> <td>    2.696</td> <td>    1.804</td> <td> 0.072</td> <td>   -0.437</td> <td>   10.160</td>\n</tr>\n<tr>\n  <th>sex^2</th> <td>   -4.0250</td> <td>    0.985</td> <td>   -4.084</td> <td> 0.000</td> <td>   -5.962</td> <td>   -2.088</td>\n</tr>\n<tr>\n  <th>bmi^2</th> <td>    4.5694</td> <td>    4.367</td> <td>    1.046</td> <td> 0.296</td> <td>   -4.014</td> <td>   13.153</td>\n</tr>\n<tr>\n  <th>bp^2</th>  <td>    1.0406</td> <td>    2.831</td> <td>    0.368</td> <td> 0.713</td> <td>   -4.524</td> <td>    6.605</td>\n</tr>\n<tr>\n  <th>s1^2</th>  <td>    4.8001</td> <td>    5.932</td> <td>    0.809</td> <td> 0.419</td> <td>   -6.861</td> <td>   16.462</td>\n</tr>\n<tr>\n  <th>s2^2</th>  <td>   -5.9402</td> <td>    7.104</td> <td>   -0.836</td> <td> 0.404</td> <td>  -19.905</td> <td>    8.024</td>\n</tr>\n<tr>\n  <th>s3^2</th>  <td>   -2.6021</td> <td>    6.618</td> <td>   -0.393</td> <td> 0.694</td> <td>  -15.610</td> <td>   10.406</td>\n</tr>\n<tr>\n  <th>s4^2</th>  <td>    5.1943</td> <td>    6.856</td> <td>    0.758</td> <td> 0.449</td> <td>   -8.283</td> <td>   18.672</td>\n</tr>\n<tr>\n  <th>s5^2</th>  <td>  -65.7595</td> <td>   51.341</td> <td>   -1.281</td> <td> 0.201</td> <td> -166.682</td> <td>   35.163</td>\n</tr>\n<tr>\n  <th>s6^2</th>  <td>    7.5584</td> <td>    2.742</td> <td>    2.757</td> <td> 0.006</td> <td>    2.169</td> <td>   12.948</td>\n</tr>\n<tr>\n  <th>age^3</th> <td>  -11.2467</td> <td>    5.204</td> <td>   -2.161</td> <td> 0.031</td> <td>  -21.477</td> <td>   -1.017</td>\n</tr>\n<tr>\n  <th>sex^3</th> <td>   -4.0250</td> <td>    0.985</td> <td>   -4.084</td> <td> 0.000</td> <td>   -5.962</td> <td>   -2.088</td>\n</tr>\n<tr>\n  <th>bmi^3</th> <td>    1.1434</td> <td>    5.587</td> <td>    0.205</td> <td> 0.838</td> <td>   -9.839</td> <td>   12.125</td>\n</tr>\n<tr>\n  <th>bp^3</th>  <td>    3.5602</td> <td>    4.879</td> <td>    0.730</td> <td> 0.466</td> <td>   -6.031</td> <td>   13.151</td>\n</tr>\n<tr>\n  <th>s1^3</th>  <td>   13.4873</td> <td>    7.729</td> <td>    1.745</td> <td> 0.082</td> <td>   -1.706</td> <td>   28.681</td>\n</tr>\n<tr>\n  <th>s2^3</th>  <td>  -12.6174</td> <td>    8.485</td> <td>   -1.487</td> <td> 0.138</td> <td>  -29.296</td> <td>    4.061</td>\n</tr>\n<tr>\n  <th>s3^3</th>  <td>    3.3267</td> <td>    6.470</td> <td>    0.514</td> <td> 0.607</td> <td>   -9.391</td> <td>   16.044</td>\n</tr>\n<tr>\n  <th>s4^3</th>  <td>   -1.1809</td> <td>    7.664</td> <td>   -0.154</td> <td> 0.878</td> <td>  -16.246</td> <td>   13.884</td>\n</tr>\n<tr>\n  <th>s5^3</th>  <td>  -47.1159</td> <td>   26.621</td> <td>   -1.770</td> <td> 0.077</td> <td>  -99.446</td> <td>    5.214</td>\n</tr>\n<tr>\n  <th>s6^3</th>  <td>   -1.2908</td> <td>    4.421</td> <td>   -0.292</td> <td> 0.770</td> <td>   -9.980</td> <td>    7.399</td>\n</tr>\n</table>\n<table class=\"simpletable\">\n<tr>\n  <th>Omnibus:</th>       <td> 2.228</td> <th>  Durbin-Watson:     </th> <td>   2.012</td>\n</tr>\n<tr>\n  <th>Prob(Omnibus):</th> <td> 0.328</td> <th>  Jarque-Bera (JB):  </th> <td>   2.309</td>\n</tr>\n<tr>\n  <th>Skew:</th>          <td> 0.163</td> <th>  Prob(JB):          </th> <td>   0.315</td>\n</tr>\n<tr>\n  <th>Kurtosis:</th>      <td> 2.860</td> <th>  Cond. No.          </th> <td>1.41e+16</td>\n</tr>\n</table><br/><br/>Notes:<br/>[1] Standard Errors assume that the covariance matrix of the errors is correctly specified.<br/>[2] The smallest eigenvalue is 1.51e-29. This might indicate that there are<br/>strong multicollinearity problems or that the design matrix is singular."
     },
     "metadata": {},
     "execution_count": 31
    }
   ],
   "source": [
    "result.summary()"
   ]
  }
 ]
}