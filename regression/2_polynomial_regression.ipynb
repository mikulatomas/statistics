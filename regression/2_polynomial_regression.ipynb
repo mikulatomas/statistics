{
 "metadata": {
  "language_info": {
   "codemirror_mode": {
    "name": "ipython",
    "version": 3
   },
   "file_extension": ".py",
   "mimetype": "text/x-python",
   "name": "python",
   "nbconvert_exporter": "python",
   "pygments_lexer": "ipython3",
   "version": "3.8.9"
  },
  "orig_nbformat": 2,
  "kernelspec": {
   "name": "python389jvsc74a57bd0082a18f759f8afdec9b7eec773590a36e4c3be1cd97bea91855dea5176a8175a",
   "display_name": "Python 3.8.9 64-bit ('fcapy': virtualenvwrapper)"
  }
 },
 "nbformat": 4,
 "nbformat_minor": 2,
 "cells": [
  {
   "cell_type": "code",
   "execution_count": 1,
   "metadata": {},
   "outputs": [],
   "source": [
    "import statsmodels.api as sm\n",
    "\n",
    "from sklearn.linear_model import LinearRegression\n",
    "from sklearn.model_selection import cross_val_score\n",
    "\n",
    "from datasets import diabetes_data\n",
    "from tools import polynomial_features"
   ]
  },
  {
   "cell_type": "code",
   "execution_count": 2,
   "metadata": {},
   "outputs": [],
   "source": [
    "original_X, original_y, train_X, train_y, test_X, test_y = diabetes_data()"
   ]
  },
  {
   "source": [
    "## Degree 2"
   ],
   "cell_type": "markdown",
   "metadata": {}
  },
  {
   "cell_type": "code",
   "execution_count": 4,
   "metadata": {},
   "outputs": [],
   "source": [
    "original_X_2 = polynomial_features(original_X, 2)"
   ]
  },
  {
   "cell_type": "code",
   "execution_count": 5,
   "metadata": {},
   "outputs": [
    {
     "output_type": "execute_result",
     "data": {
      "text/plain": [
       "        age       sex       bmi        bp        s1        s2        s3  \\\n",
       "0  0.038076  0.050680  0.061696  0.021872 -0.044223 -0.034821 -0.043401   \n",
       "1 -0.001882 -0.044642 -0.051474 -0.026328 -0.008449 -0.019163  0.074412   \n",
       "2  0.085299  0.050680  0.044451 -0.005671 -0.045599 -0.034194 -0.032356   \n",
       "3 -0.089063 -0.044642 -0.011595 -0.036656  0.012191  0.024991 -0.036038   \n",
       "4  0.005383 -0.044642 -0.036385  0.021872  0.003935  0.015596  0.008142   \n",
       "\n",
       "         s4        s5        s6     age^2     sex^2     bmi^2      bp^2  \\\n",
       "0 -0.002592  0.019908 -0.017646  0.001450  0.002568  0.003806  0.000478   \n",
       "1 -0.039493 -0.068330 -0.092204  0.000004  0.001993  0.002650  0.000693   \n",
       "2 -0.002592  0.002864 -0.025930  0.007276  0.002568  0.001976  0.000032   \n",
       "3  0.034309  0.022692 -0.009362  0.007932  0.001993  0.000134  0.001344   \n",
       "4 -0.002592 -0.031991 -0.046641  0.000029  0.001993  0.001324  0.000478   \n",
       "\n",
       "       s1^2      s2^2      s3^2      s4^2      s5^2      s6^2  \n",
       "0  0.001956  0.001212  0.001884  0.000007  0.000396  0.000311  \n",
       "1  0.000071  0.000367  0.005537  0.001560  0.004669  0.008502  \n",
       "2  0.002079  0.001169  0.001047  0.000007  0.000008  0.000672  \n",
       "3  0.000149  0.000625  0.001299  0.001177  0.000515  0.000088  \n",
       "4  0.000015  0.000243  0.000066  0.000007  0.001023  0.002175  "
      ],
      "text/html": "<div>\n<style scoped>\n    .dataframe tbody tr th:only-of-type {\n        vertical-align: middle;\n    }\n\n    .dataframe tbody tr th {\n        vertical-align: top;\n    }\n\n    .dataframe thead th {\n        text-align: right;\n    }\n</style>\n<table border=\"1\" class=\"dataframe\">\n  <thead>\n    <tr style=\"text-align: right;\">\n      <th></th>\n      <th>age</th>\n      <th>sex</th>\n      <th>bmi</th>\n      <th>bp</th>\n      <th>s1</th>\n      <th>s2</th>\n      <th>s3</th>\n      <th>s4</th>\n      <th>s5</th>\n      <th>s6</th>\n      <th>age^2</th>\n      <th>sex^2</th>\n      <th>bmi^2</th>\n      <th>bp^2</th>\n      <th>s1^2</th>\n      <th>s2^2</th>\n      <th>s3^2</th>\n      <th>s4^2</th>\n      <th>s5^2</th>\n      <th>s6^2</th>\n    </tr>\n  </thead>\n  <tbody>\n    <tr>\n      <th>0</th>\n      <td>0.038076</td>\n      <td>0.050680</td>\n      <td>0.061696</td>\n      <td>0.021872</td>\n      <td>-0.044223</td>\n      <td>-0.034821</td>\n      <td>-0.043401</td>\n      <td>-0.002592</td>\n      <td>0.019908</td>\n      <td>-0.017646</td>\n      <td>0.001450</td>\n      <td>0.002568</td>\n      <td>0.003806</td>\n      <td>0.000478</td>\n      <td>0.001956</td>\n      <td>0.001212</td>\n      <td>0.001884</td>\n      <td>0.000007</td>\n      <td>0.000396</td>\n      <td>0.000311</td>\n    </tr>\n    <tr>\n      <th>1</th>\n      <td>-0.001882</td>\n      <td>-0.044642</td>\n      <td>-0.051474</td>\n      <td>-0.026328</td>\n      <td>-0.008449</td>\n      <td>-0.019163</td>\n      <td>0.074412</td>\n      <td>-0.039493</td>\n      <td>-0.068330</td>\n      <td>-0.092204</td>\n      <td>0.000004</td>\n      <td>0.001993</td>\n      <td>0.002650</td>\n      <td>0.000693</td>\n      <td>0.000071</td>\n      <td>0.000367</td>\n      <td>0.005537</td>\n      <td>0.001560</td>\n      <td>0.004669</td>\n      <td>0.008502</td>\n    </tr>\n    <tr>\n      <th>2</th>\n      <td>0.085299</td>\n      <td>0.050680</td>\n      <td>0.044451</td>\n      <td>-0.005671</td>\n      <td>-0.045599</td>\n      <td>-0.034194</td>\n      <td>-0.032356</td>\n      <td>-0.002592</td>\n      <td>0.002864</td>\n      <td>-0.025930</td>\n      <td>0.007276</td>\n      <td>0.002568</td>\n      <td>0.001976</td>\n      <td>0.000032</td>\n      <td>0.002079</td>\n      <td>0.001169</td>\n      <td>0.001047</td>\n      <td>0.000007</td>\n      <td>0.000008</td>\n      <td>0.000672</td>\n    </tr>\n    <tr>\n      <th>3</th>\n      <td>-0.089063</td>\n      <td>-0.044642</td>\n      <td>-0.011595</td>\n      <td>-0.036656</td>\n      <td>0.012191</td>\n      <td>0.024991</td>\n      <td>-0.036038</td>\n      <td>0.034309</td>\n      <td>0.022692</td>\n      <td>-0.009362</td>\n      <td>0.007932</td>\n      <td>0.001993</td>\n      <td>0.000134</td>\n      <td>0.001344</td>\n      <td>0.000149</td>\n      <td>0.000625</td>\n      <td>0.001299</td>\n      <td>0.001177</td>\n      <td>0.000515</td>\n      <td>0.000088</td>\n    </tr>\n    <tr>\n      <th>4</th>\n      <td>0.005383</td>\n      <td>-0.044642</td>\n      <td>-0.036385</td>\n      <td>0.021872</td>\n      <td>0.003935</td>\n      <td>0.015596</td>\n      <td>0.008142</td>\n      <td>-0.002592</td>\n      <td>-0.031991</td>\n      <td>-0.046641</td>\n      <td>0.000029</td>\n      <td>0.001993</td>\n      <td>0.001324</td>\n      <td>0.000478</td>\n      <td>0.000015</td>\n      <td>0.000243</td>\n      <td>0.000066</td>\n      <td>0.000007</td>\n      <td>0.001023</td>\n      <td>0.002175</td>\n    </tr>\n  </tbody>\n</table>\n</div>"
     },
     "metadata": {},
     "execution_count": 5
    }
   ],
   "source": [
    "original_X_2.head()"
   ]
  },
  {
   "source": [
    "### Estimate test error by 5-fold cross validation"
   ],
   "cell_type": "markdown",
   "metadata": {}
  },
  {
   "cell_type": "code",
   "execution_count": 6,
   "metadata": {},
   "outputs": [
    {
     "output_type": "execute_result",
     "data": {
      "text/plain": [
       "0.48942715735968073"
      ]
     },
     "metadata": {},
     "execution_count": 6
    }
   ],
   "source": [
    "model = LinearRegression()\n",
    "cross_val_score(model, original_X_2, original_y).mean()"
   ]
  },
  {
   "source": [
    "### Fit Polynomial Regression Model"
   ],
   "cell_type": "markdown",
   "metadata": {}
  },
  {
   "cell_type": "code",
   "execution_count": 7,
   "metadata": {},
   "outputs": [],
   "source": [
    "# add constant, since statsmodels does not add it by defaul\n",
    "original_X_2_const = sm.add_constant(original_X_2)\n",
    "model = sm.OLS(original_y, original_X_2_const)\n",
    "\n",
    "# fit model\n",
    "result = model.fit()"
   ]
  },
  {
   "cell_type": "code",
   "execution_count": 8,
   "metadata": {},
   "outputs": [
    {
     "output_type": "execute_result",
     "data": {
      "text/plain": [
       "<class 'statsmodels.iolib.summary.Summary'>\n",
       "\"\"\"\n",
       "                            OLS Regression Results                            \n",
       "==============================================================================\n",
       "Dep. Variable:                 target   R-squared:                       0.546\n",
       "Model:                            OLS   Adj. R-squared:                  0.526\n",
       "Method:                 Least Squares   F-statistic:                     26.73\n",
       "Date:                Tue, 15 Jun 2021   Prob (F-statistic):           1.41e-60\n",
       "Time:                        15:25:41   Log-Likelihood:                -2372.6\n",
       "No. Observations:                 442   AIC:                             4785.\n",
       "Df Residuals:                     422   BIC:                             4867.\n",
       "Df Model:                          19                                         \n",
       "Covariance Type:            nonrobust                                         \n",
       "==============================================================================\n",
       "                 coef    std err          t      P>|t|      [0.025      0.975]\n",
       "------------------------------------------------------------------------------\n",
       "const        117.3834      9.360     12.541      0.000      98.985     135.782\n",
       "age           41.8841     61.220      0.684      0.494     -78.451     162.219\n",
       "sex         -242.3814     61.384     -3.949      0.000    -363.039    -121.724\n",
       "bmi          454.3481     74.705      6.082      0.000     307.509     601.187\n",
       "bp           328.3099     66.519      4.936      0.000     197.560     459.060\n",
       "s1         -4802.4272   1535.710     -3.127      0.002   -7821.021   -1783.833\n",
       "s2          4040.0481   1342.369      3.010      0.003    1401.486    6678.611\n",
       "s3          1573.6215    609.074      2.584      0.010     376.425    2770.818\n",
       "s4           125.2278    256.206      0.489      0.625    -378.372     628.827\n",
       "s5          2189.0012    556.257      3.935      0.000    1095.621    3282.381\n",
       "s6            58.2679     65.961      0.883      0.378     -71.384     187.920\n",
       "age^2       2343.2281   1007.626      2.325      0.021     362.637    4323.820\n",
       "sex^2         -1.1980      0.372     -3.221      0.001      -1.929      -0.467\n",
       "bmi^2       1529.4864    919.176      1.664      0.097    -277.246    3336.219\n",
       "bp^2         542.1012    986.040      0.550      0.583   -1396.060    2480.263\n",
       "s1^2        1507.2161   1620.014      0.930      0.353   -1677.086    4691.519\n",
       "s2^2       -1681.7417   1625.902     -1.034      0.302   -4877.618    1514.134\n",
       "s3^2         176.1477   1014.390      0.174      0.862   -1817.739    2170.034\n",
       "s4^2         303.6833   1258.515      0.241      0.809   -2170.055    2777.421\n",
       "s5^2        8636.5623   3446.492      2.506      0.013    1862.134    1.54e+04\n",
       "s6^2        2004.0578    782.419      2.561      0.011     466.134    3541.981\n",
       "==============================================================================\n",
       "Omnibus:                        1.909   Durbin-Watson:                   1.991\n",
       "Prob(Omnibus):                  0.385   Jarque-Bera (JB):                1.995\n",
       "Skew:                           0.147   Prob(JB):                        0.369\n",
       "Kurtosis:                       2.853   Cond. No.                     1.45e+18\n",
       "==============================================================================\n",
       "\n",
       "Notes:\n",
       "[1] Standard Errors assume that the covariance matrix of the errors is correctly specified.\n",
       "[2] The smallest eigenvalue is 2.09e-34. This might indicate that there are\n",
       "strong multicollinearity problems or that the design matrix is singular.\n",
       "\"\"\""
      ],
      "text/html": "<table class=\"simpletable\">\n<caption>OLS Regression Results</caption>\n<tr>\n  <th>Dep. Variable:</th>         <td>target</td>      <th>  R-squared:         </th> <td>   0.546</td>\n</tr>\n<tr>\n  <th>Model:</th>                   <td>OLS</td>       <th>  Adj. R-squared:    </th> <td>   0.526</td>\n</tr>\n<tr>\n  <th>Method:</th>             <td>Least Squares</td>  <th>  F-statistic:       </th> <td>   26.73</td>\n</tr>\n<tr>\n  <th>Date:</th>             <td>Tue, 15 Jun 2021</td> <th>  Prob (F-statistic):</th> <td>1.41e-60</td>\n</tr>\n<tr>\n  <th>Time:</th>                 <td>15:25:41</td>     <th>  Log-Likelihood:    </th> <td> -2372.6</td>\n</tr>\n<tr>\n  <th>No. Observations:</th>      <td>   442</td>      <th>  AIC:               </th> <td>   4785.</td>\n</tr>\n<tr>\n  <th>Df Residuals:</th>          <td>   422</td>      <th>  BIC:               </th> <td>   4867.</td>\n</tr>\n<tr>\n  <th>Df Model:</th>              <td>    19</td>      <th>                     </th>     <td> </td>   \n</tr>\n<tr>\n  <th>Covariance Type:</th>      <td>nonrobust</td>    <th>                     </th>     <td> </td>   \n</tr>\n</table>\n<table class=\"simpletable\">\n<tr>\n    <td></td>       <th>coef</th>     <th>std err</th>      <th>t</th>      <th>P>|t|</th>  <th>[0.025</th>    <th>0.975]</th>  \n</tr>\n<tr>\n  <th>const</th> <td>  117.3834</td> <td>    9.360</td> <td>   12.541</td> <td> 0.000</td> <td>   98.985</td> <td>  135.782</td>\n</tr>\n<tr>\n  <th>age</th>   <td>   41.8841</td> <td>   61.220</td> <td>    0.684</td> <td> 0.494</td> <td>  -78.451</td> <td>  162.219</td>\n</tr>\n<tr>\n  <th>sex</th>   <td> -242.3814</td> <td>   61.384</td> <td>   -3.949</td> <td> 0.000</td> <td> -363.039</td> <td> -121.724</td>\n</tr>\n<tr>\n  <th>bmi</th>   <td>  454.3481</td> <td>   74.705</td> <td>    6.082</td> <td> 0.000</td> <td>  307.509</td> <td>  601.187</td>\n</tr>\n<tr>\n  <th>bp</th>    <td>  328.3099</td> <td>   66.519</td> <td>    4.936</td> <td> 0.000</td> <td>  197.560</td> <td>  459.060</td>\n</tr>\n<tr>\n  <th>s1</th>    <td>-4802.4272</td> <td> 1535.710</td> <td>   -3.127</td> <td> 0.002</td> <td>-7821.021</td> <td>-1783.833</td>\n</tr>\n<tr>\n  <th>s2</th>    <td> 4040.0481</td> <td> 1342.369</td> <td>    3.010</td> <td> 0.003</td> <td> 1401.486</td> <td> 6678.611</td>\n</tr>\n<tr>\n  <th>s3</th>    <td> 1573.6215</td> <td>  609.074</td> <td>    2.584</td> <td> 0.010</td> <td>  376.425</td> <td> 2770.818</td>\n</tr>\n<tr>\n  <th>s4</th>    <td>  125.2278</td> <td>  256.206</td> <td>    0.489</td> <td> 0.625</td> <td> -378.372</td> <td>  628.827</td>\n</tr>\n<tr>\n  <th>s5</th>    <td> 2189.0012</td> <td>  556.257</td> <td>    3.935</td> <td> 0.000</td> <td> 1095.621</td> <td> 3282.381</td>\n</tr>\n<tr>\n  <th>s6</th>    <td>   58.2679</td> <td>   65.961</td> <td>    0.883</td> <td> 0.378</td> <td>  -71.384</td> <td>  187.920</td>\n</tr>\n<tr>\n  <th>age^2</th> <td> 2343.2281</td> <td> 1007.626</td> <td>    2.325</td> <td> 0.021</td> <td>  362.637</td> <td> 4323.820</td>\n</tr>\n<tr>\n  <th>sex^2</th> <td>   -1.1980</td> <td>    0.372</td> <td>   -3.221</td> <td> 0.001</td> <td>   -1.929</td> <td>   -0.467</td>\n</tr>\n<tr>\n  <th>bmi^2</th> <td> 1529.4864</td> <td>  919.176</td> <td>    1.664</td> <td> 0.097</td> <td> -277.246</td> <td> 3336.219</td>\n</tr>\n<tr>\n  <th>bp^2</th>  <td>  542.1012</td> <td>  986.040</td> <td>    0.550</td> <td> 0.583</td> <td>-1396.060</td> <td> 2480.263</td>\n</tr>\n<tr>\n  <th>s1^2</th>  <td> 1507.2161</td> <td> 1620.014</td> <td>    0.930</td> <td> 0.353</td> <td>-1677.086</td> <td> 4691.519</td>\n</tr>\n<tr>\n  <th>s2^2</th>  <td>-1681.7417</td> <td> 1625.902</td> <td>   -1.034</td> <td> 0.302</td> <td>-4877.618</td> <td> 1514.134</td>\n</tr>\n<tr>\n  <th>s3^2</th>  <td>  176.1477</td> <td> 1014.390</td> <td>    0.174</td> <td> 0.862</td> <td>-1817.739</td> <td> 2170.034</td>\n</tr>\n<tr>\n  <th>s4^2</th>  <td>  303.6833</td> <td> 1258.515</td> <td>    0.241</td> <td> 0.809</td> <td>-2170.055</td> <td> 2777.421</td>\n</tr>\n<tr>\n  <th>s5^2</th>  <td> 8636.5623</td> <td> 3446.492</td> <td>    2.506</td> <td> 0.013</td> <td> 1862.134</td> <td> 1.54e+04</td>\n</tr>\n<tr>\n  <th>s6^2</th>  <td> 2004.0578</td> <td>  782.419</td> <td>    2.561</td> <td> 0.011</td> <td>  466.134</td> <td> 3541.981</td>\n</tr>\n</table>\n<table class=\"simpletable\">\n<tr>\n  <th>Omnibus:</th>       <td> 1.909</td> <th>  Durbin-Watson:     </th> <td>   1.991</td>\n</tr>\n<tr>\n  <th>Prob(Omnibus):</th> <td> 0.385</td> <th>  Jarque-Bera (JB):  </th> <td>   1.995</td>\n</tr>\n<tr>\n  <th>Skew:</th>          <td> 0.147</td> <th>  Prob(JB):          </th> <td>   0.369</td>\n</tr>\n<tr>\n  <th>Kurtosis:</th>      <td> 2.853</td> <th>  Cond. No.          </th> <td>1.45e+18</td>\n</tr>\n</table><br/><br/>Notes:<br/>[1] Standard Errors assume that the covariance matrix of the errors is correctly specified.<br/>[2] The smallest eigenvalue is 2.09e-34. This might indicate that there are<br/>strong multicollinearity problems or that the design matrix is singular."
     },
     "metadata": {},
     "execution_count": 8
    }
   ],
   "source": [
    "result.summary()"
   ]
  },
  {
   "source": [
    "## Degree 3"
   ],
   "cell_type": "markdown",
   "metadata": {}
  },
  {
   "cell_type": "code",
   "execution_count": 11,
   "metadata": {},
   "outputs": [],
   "source": [
    "original_X_3 = polynomial_features(original_X, 3)"
   ]
  },
  {
   "cell_type": "code",
   "execution_count": 12,
   "metadata": {},
   "outputs": [
    {
     "output_type": "execute_result",
     "data": {
      "text/plain": [
       "        age       sex       bmi        bp        s1        s2        s3  \\\n",
       "0  0.038076  0.050680  0.061696  0.021872 -0.044223 -0.034821 -0.043401   \n",
       "1 -0.001882 -0.044642 -0.051474 -0.026328 -0.008449 -0.019163  0.074412   \n",
       "2  0.085299  0.050680  0.044451 -0.005671 -0.045599 -0.034194 -0.032356   \n",
       "3 -0.089063 -0.044642 -0.011595 -0.036656  0.012191  0.024991 -0.036038   \n",
       "4  0.005383 -0.044642 -0.036385  0.021872  0.003935  0.015596  0.008142   \n",
       "\n",
       "         s4        s5        s6  ...         age^3     sex^3     bmi^3  \\\n",
       "0 -0.002592  0.019908 -0.017646  ...  5.520148e-05  0.000130  0.000235   \n",
       "1 -0.039493 -0.068330 -0.092204  ... -6.666077e-09 -0.000089 -0.000136   \n",
       "2 -0.002592  0.002864 -0.025930  ...  6.206266e-04  0.000130  0.000088   \n",
       "3  0.034309  0.022692 -0.009362  ... -7.064657e-04 -0.000089 -0.000002   \n",
       "4 -0.002592 -0.031991 -0.046641  ...  1.559868e-07 -0.000089 -0.000048   \n",
       "\n",
       "           bp^3          s1^3      s2^3          s3^3          s4^3  \\\n",
       "0  1.046373e-05 -8.648868e-05 -0.000042 -8.175128e-05 -1.741954e-08   \n",
       "1 -1.824927e-05 -6.030779e-07 -0.000007  4.120228e-04 -6.159891e-05   \n",
       "2 -1.823432e-07 -9.481539e-05 -0.000040 -3.387363e-05 -1.741954e-08   \n",
       "3 -4.925509e-05  1.811640e-06  0.000016 -4.680222e-05  4.038488e-05   \n",
       "4  1.046373e-05  6.092353e-08  0.000004  5.397674e-07 -1.741954e-08   \n",
       "\n",
       "           s5^3          s6^3  \n",
       "0  7.890607e-06 -5.494752e-06  \n",
       "1 -3.190284e-04 -7.838807e-04  \n",
       "2  2.348630e-08 -1.743511e-05  \n",
       "3  1.168476e-05 -8.205283e-07  \n",
       "4 -3.274173e-05 -1.014612e-04  \n",
       "\n",
       "[5 rows x 30 columns]"
      ],
      "text/html": "<div>\n<style scoped>\n    .dataframe tbody tr th:only-of-type {\n        vertical-align: middle;\n    }\n\n    .dataframe tbody tr th {\n        vertical-align: top;\n    }\n\n    .dataframe thead th {\n        text-align: right;\n    }\n</style>\n<table border=\"1\" class=\"dataframe\">\n  <thead>\n    <tr style=\"text-align: right;\">\n      <th></th>\n      <th>age</th>\n      <th>sex</th>\n      <th>bmi</th>\n      <th>bp</th>\n      <th>s1</th>\n      <th>s2</th>\n      <th>s3</th>\n      <th>s4</th>\n      <th>s5</th>\n      <th>s6</th>\n      <th>...</th>\n      <th>age^3</th>\n      <th>sex^3</th>\n      <th>bmi^3</th>\n      <th>bp^3</th>\n      <th>s1^3</th>\n      <th>s2^3</th>\n      <th>s3^3</th>\n      <th>s4^3</th>\n      <th>s5^3</th>\n      <th>s6^3</th>\n    </tr>\n  </thead>\n  <tbody>\n    <tr>\n      <th>0</th>\n      <td>0.038076</td>\n      <td>0.050680</td>\n      <td>0.061696</td>\n      <td>0.021872</td>\n      <td>-0.044223</td>\n      <td>-0.034821</td>\n      <td>-0.043401</td>\n      <td>-0.002592</td>\n      <td>0.019908</td>\n      <td>-0.017646</td>\n      <td>...</td>\n      <td>5.520148e-05</td>\n      <td>0.000130</td>\n      <td>0.000235</td>\n      <td>1.046373e-05</td>\n      <td>-8.648868e-05</td>\n      <td>-0.000042</td>\n      <td>-8.175128e-05</td>\n      <td>-1.741954e-08</td>\n      <td>7.890607e-06</td>\n      <td>-5.494752e-06</td>\n    </tr>\n    <tr>\n      <th>1</th>\n      <td>-0.001882</td>\n      <td>-0.044642</td>\n      <td>-0.051474</td>\n      <td>-0.026328</td>\n      <td>-0.008449</td>\n      <td>-0.019163</td>\n      <td>0.074412</td>\n      <td>-0.039493</td>\n      <td>-0.068330</td>\n      <td>-0.092204</td>\n      <td>...</td>\n      <td>-6.666077e-09</td>\n      <td>-0.000089</td>\n      <td>-0.000136</td>\n      <td>-1.824927e-05</td>\n      <td>-6.030779e-07</td>\n      <td>-0.000007</td>\n      <td>4.120228e-04</td>\n      <td>-6.159891e-05</td>\n      <td>-3.190284e-04</td>\n      <td>-7.838807e-04</td>\n    </tr>\n    <tr>\n      <th>2</th>\n      <td>0.085299</td>\n      <td>0.050680</td>\n      <td>0.044451</td>\n      <td>-0.005671</td>\n      <td>-0.045599</td>\n      <td>-0.034194</td>\n      <td>-0.032356</td>\n      <td>-0.002592</td>\n      <td>0.002864</td>\n      <td>-0.025930</td>\n      <td>...</td>\n      <td>6.206266e-04</td>\n      <td>0.000130</td>\n      <td>0.000088</td>\n      <td>-1.823432e-07</td>\n      <td>-9.481539e-05</td>\n      <td>-0.000040</td>\n      <td>-3.387363e-05</td>\n      <td>-1.741954e-08</td>\n      <td>2.348630e-08</td>\n      <td>-1.743511e-05</td>\n    </tr>\n    <tr>\n      <th>3</th>\n      <td>-0.089063</td>\n      <td>-0.044642</td>\n      <td>-0.011595</td>\n      <td>-0.036656</td>\n      <td>0.012191</td>\n      <td>0.024991</td>\n      <td>-0.036038</td>\n      <td>0.034309</td>\n      <td>0.022692</td>\n      <td>-0.009362</td>\n      <td>...</td>\n      <td>-7.064657e-04</td>\n      <td>-0.000089</td>\n      <td>-0.000002</td>\n      <td>-4.925509e-05</td>\n      <td>1.811640e-06</td>\n      <td>0.000016</td>\n      <td>-4.680222e-05</td>\n      <td>4.038488e-05</td>\n      <td>1.168476e-05</td>\n      <td>-8.205283e-07</td>\n    </tr>\n    <tr>\n      <th>4</th>\n      <td>0.005383</td>\n      <td>-0.044642</td>\n      <td>-0.036385</td>\n      <td>0.021872</td>\n      <td>0.003935</td>\n      <td>0.015596</td>\n      <td>0.008142</td>\n      <td>-0.002592</td>\n      <td>-0.031991</td>\n      <td>-0.046641</td>\n      <td>...</td>\n      <td>1.559868e-07</td>\n      <td>-0.000089</td>\n      <td>-0.000048</td>\n      <td>1.046373e-05</td>\n      <td>6.092353e-08</td>\n      <td>0.000004</td>\n      <td>5.397674e-07</td>\n      <td>-1.741954e-08</td>\n      <td>-3.274173e-05</td>\n      <td>-1.014612e-04</td>\n    </tr>\n  </tbody>\n</table>\n<p>5 rows × 30 columns</p>\n</div>"
     },
     "metadata": {},
     "execution_count": 12
    }
   ],
   "source": [
    "original_X_3.head()"
   ]
  },
  {
   "source": [
    "### Estimate test error by 5-fold cross validation"
   ],
   "cell_type": "markdown",
   "metadata": {}
  },
  {
   "cell_type": "code",
   "execution_count": 13,
   "metadata": {},
   "outputs": [
    {
     "output_type": "execute_result",
     "data": {
      "text/plain": [
       "0.47493785417180695"
      ]
     },
     "metadata": {},
     "execution_count": 13
    }
   ],
   "source": [
    "model = LinearRegression()\n",
    "cross_val_score(model, original_X_3, original_y).mean()"
   ]
  },
  {
   "source": [
    "### Fit Polynomial Regression Model"
   ],
   "cell_type": "markdown",
   "metadata": {}
  },
  {
   "cell_type": "code",
   "execution_count": 15,
   "metadata": {},
   "outputs": [],
   "source": [
    "# add constant, since statsmodels does not add it by defaul\n",
    "original_X_3_const = sm.add_constant(original_X_3)\n",
    "model = sm.OLS(original_y, original_X_3_const)\n",
    "\n",
    "# fit model\n",
    "result = model.fit()"
   ]
  },
  {
   "cell_type": "code",
   "execution_count": 17,
   "metadata": {},
   "outputs": [
    {
     "output_type": "execute_result",
     "data": {
      "text/plain": [
       "<class 'statsmodels.iolib.summary.Summary'>\n",
       "\"\"\"\n",
       "                            OLS Regression Results                            \n",
       "==============================================================================\n",
       "Dep. Variable:                 target   R-squared:                       0.559\n",
       "Model:                            OLS   Adj. R-squared:                  0.529\n",
       "Method:                 Least Squares   F-statistic:                     18.69\n",
       "Date:                Tue, 15 Jun 2021   Prob (F-statistic):           6.74e-57\n",
       "Time:                        15:27:01   Log-Likelihood:                -2366.3\n",
       "No. Observations:                 442   AIC:                             4791.\n",
       "Df Residuals:                     413   BIC:                             4909.\n",
       "Df Model:                          28                                         \n",
       "Covariance Type:            nonrobust                                         \n",
       "==============================================================================\n",
       "                 coef    std err          t      P>|t|      [0.025      0.975]\n",
       "------------------------------------------------------------------------------\n",
       "const        187.6968     39.393      4.765      0.000     110.261     265.132\n",
       "age          244.3978    111.653      2.189      0.029      24.919     463.876\n",
       "sex         -253.8569     62.152     -4.084      0.000    -376.030    -131.684\n",
       "bmi          452.8019     96.063      4.714      0.000     263.968     641.635\n",
       "bp           269.4348    108.599      2.481      0.013      55.958     482.911\n",
       "s1          1.055e+04   8637.370      1.222      0.222   -6425.799    2.75e+04\n",
       "s2         -9471.4426   7581.255     -1.249      0.212   -2.44e+04    5431.216\n",
       "s3         -4253.2564   3238.525     -1.313      0.190   -1.06e+04    2112.793\n",
       "s4           123.2270    274.865      0.448      0.654    -417.081     663.535\n",
       "s5         -2595.0233   2657.868     -0.976      0.329   -7819.660    2629.613\n",
       "s6            78.4672     98.539      0.796      0.426    -115.233     272.167\n",
       "age^2       1868.3733   1035.905      1.804      0.072    -167.931    3904.678\n",
       "sex^2         -1.1083      0.379     -2.920      0.004      -1.854      -0.362\n",
       "bmi^2       1400.2229   1338.109      1.046      0.296   -1230.131    4030.576\n",
       "bp^2         380.6961   1035.611      0.368      0.713   -1655.030    2416.422\n",
       "s1^2        1424.9879   1761.143      0.809      0.419   -2036.934    4886.910\n",
       "s2^2       -1634.2691   1954.451     -0.836      0.404   -5476.182    2207.644\n",
       "s3^2        -668.8616   1700.986     -0.393      0.694   -4012.531    2674.807\n",
       "s4^2        1474.0667   1945.677      0.758      0.449   -2350.599    5298.732\n",
       "s5^2       -2.135e+04   1.67e+04     -1.281      0.201   -5.41e+04    1.14e+04\n",
       "s6^2        2241.8462    813.259      2.757      0.006     643.204    3840.489\n",
       "age^3      -3.866e+04   1.79e+04     -2.161      0.031   -7.38e+04   -3495.035\n",
       "sex^3         -0.5810      0.143     -4.068      0.000      -0.862      -0.300\n",
       "bmi^3       2528.0621   1.24e+04      0.205      0.838   -2.18e+04    2.68e+04\n",
       "bp^3        1.114e+04   1.53e+04      0.730      0.466   -1.89e+04    4.12e+04\n",
       "s1^3        3.036e+04   1.74e+04      1.745      0.082   -3840.554    6.46e+04\n",
       "s2^3       -2.294e+04   1.54e+04     -1.487      0.138   -5.33e+04    7382.605\n",
       "s3^3        5441.2024   1.06e+04      0.514      0.607   -1.54e+04    2.62e+04\n",
       "s4^3       -2295.8790   1.49e+04     -0.154      0.878   -3.16e+04     2.7e+04\n",
       "s5^3       -1.209e+05   6.83e+04     -1.770      0.077   -2.55e+05    1.34e+04\n",
       "s6^3       -2969.7785   1.02e+04     -0.292      0.770    -2.3e+04     1.7e+04\n",
       "==============================================================================\n",
       "Omnibus:                        2.228   Durbin-Watson:                   2.012\n",
       "Prob(Omnibus):                  0.328   Jarque-Bera (JB):                2.309\n",
       "Skew:                           0.163   Prob(JB):                        0.315\n",
       "Kurtosis:                       2.860   Cond. No.                     1.00e+16\n",
       "==============================================================================\n",
       "\n",
       "Notes:\n",
       "[1] Standard Errors assume that the covariance matrix of the errors is correctly specified.\n",
       "[2] The smallest eigenvalue is 4.41e-30. This might indicate that there are\n",
       "strong multicollinearity problems or that the design matrix is singular.\n",
       "\"\"\""
      ],
      "text/html": "<table class=\"simpletable\">\n<caption>OLS Regression Results</caption>\n<tr>\n  <th>Dep. Variable:</th>         <td>target</td>      <th>  R-squared:         </th> <td>   0.559</td>\n</tr>\n<tr>\n  <th>Model:</th>                   <td>OLS</td>       <th>  Adj. R-squared:    </th> <td>   0.529</td>\n</tr>\n<tr>\n  <th>Method:</th>             <td>Least Squares</td>  <th>  F-statistic:       </th> <td>   18.69</td>\n</tr>\n<tr>\n  <th>Date:</th>             <td>Tue, 15 Jun 2021</td> <th>  Prob (F-statistic):</th> <td>6.74e-57</td>\n</tr>\n<tr>\n  <th>Time:</th>                 <td>15:27:01</td>     <th>  Log-Likelihood:    </th> <td> -2366.3</td>\n</tr>\n<tr>\n  <th>No. Observations:</th>      <td>   442</td>      <th>  AIC:               </th> <td>   4791.</td>\n</tr>\n<tr>\n  <th>Df Residuals:</th>          <td>   413</td>      <th>  BIC:               </th> <td>   4909.</td>\n</tr>\n<tr>\n  <th>Df Model:</th>              <td>    28</td>      <th>                     </th>     <td> </td>   \n</tr>\n<tr>\n  <th>Covariance Type:</th>      <td>nonrobust</td>    <th>                     </th>     <td> </td>   \n</tr>\n</table>\n<table class=\"simpletable\">\n<tr>\n    <td></td>       <th>coef</th>     <th>std err</th>      <th>t</th>      <th>P>|t|</th>  <th>[0.025</th>    <th>0.975]</th>  \n</tr>\n<tr>\n  <th>const</th> <td>  187.6968</td> <td>   39.393</td> <td>    4.765</td> <td> 0.000</td> <td>  110.261</td> <td>  265.132</td>\n</tr>\n<tr>\n  <th>age</th>   <td>  244.3978</td> <td>  111.653</td> <td>    2.189</td> <td> 0.029</td> <td>   24.919</td> <td>  463.876</td>\n</tr>\n<tr>\n  <th>sex</th>   <td> -253.8569</td> <td>   62.152</td> <td>   -4.084</td> <td> 0.000</td> <td> -376.030</td> <td> -131.684</td>\n</tr>\n<tr>\n  <th>bmi</th>   <td>  452.8019</td> <td>   96.063</td> <td>    4.714</td> <td> 0.000</td> <td>  263.968</td> <td>  641.635</td>\n</tr>\n<tr>\n  <th>bp</th>    <td>  269.4348</td> <td>  108.599</td> <td>    2.481</td> <td> 0.013</td> <td>   55.958</td> <td>  482.911</td>\n</tr>\n<tr>\n  <th>s1</th>    <td> 1.055e+04</td> <td> 8637.370</td> <td>    1.222</td> <td> 0.222</td> <td>-6425.799</td> <td> 2.75e+04</td>\n</tr>\n<tr>\n  <th>s2</th>    <td>-9471.4426</td> <td> 7581.255</td> <td>   -1.249</td> <td> 0.212</td> <td>-2.44e+04</td> <td> 5431.216</td>\n</tr>\n<tr>\n  <th>s3</th>    <td>-4253.2564</td> <td> 3238.525</td> <td>   -1.313</td> <td> 0.190</td> <td>-1.06e+04</td> <td> 2112.793</td>\n</tr>\n<tr>\n  <th>s4</th>    <td>  123.2270</td> <td>  274.865</td> <td>    0.448</td> <td> 0.654</td> <td> -417.081</td> <td>  663.535</td>\n</tr>\n<tr>\n  <th>s5</th>    <td>-2595.0233</td> <td> 2657.868</td> <td>   -0.976</td> <td> 0.329</td> <td>-7819.660</td> <td> 2629.613</td>\n</tr>\n<tr>\n  <th>s6</th>    <td>   78.4672</td> <td>   98.539</td> <td>    0.796</td> <td> 0.426</td> <td> -115.233</td> <td>  272.167</td>\n</tr>\n<tr>\n  <th>age^2</th> <td> 1868.3733</td> <td> 1035.905</td> <td>    1.804</td> <td> 0.072</td> <td> -167.931</td> <td> 3904.678</td>\n</tr>\n<tr>\n  <th>sex^2</th> <td>   -1.1083</td> <td>    0.379</td> <td>   -2.920</td> <td> 0.004</td> <td>   -1.854</td> <td>   -0.362</td>\n</tr>\n<tr>\n  <th>bmi^2</th> <td> 1400.2229</td> <td> 1338.109</td> <td>    1.046</td> <td> 0.296</td> <td>-1230.131</td> <td> 4030.576</td>\n</tr>\n<tr>\n  <th>bp^2</th>  <td>  380.6961</td> <td> 1035.611</td> <td>    0.368</td> <td> 0.713</td> <td>-1655.030</td> <td> 2416.422</td>\n</tr>\n<tr>\n  <th>s1^2</th>  <td> 1424.9879</td> <td> 1761.143</td> <td>    0.809</td> <td> 0.419</td> <td>-2036.934</td> <td> 4886.910</td>\n</tr>\n<tr>\n  <th>s2^2</th>  <td>-1634.2691</td> <td> 1954.451</td> <td>   -0.836</td> <td> 0.404</td> <td>-5476.182</td> <td> 2207.644</td>\n</tr>\n<tr>\n  <th>s3^2</th>  <td> -668.8616</td> <td> 1700.986</td> <td>   -0.393</td> <td> 0.694</td> <td>-4012.531</td> <td> 2674.807</td>\n</tr>\n<tr>\n  <th>s4^2</th>  <td> 1474.0667</td> <td> 1945.677</td> <td>    0.758</td> <td> 0.449</td> <td>-2350.599</td> <td> 5298.732</td>\n</tr>\n<tr>\n  <th>s5^2</th>  <td>-2.135e+04</td> <td> 1.67e+04</td> <td>   -1.281</td> <td> 0.201</td> <td>-5.41e+04</td> <td> 1.14e+04</td>\n</tr>\n<tr>\n  <th>s6^2</th>  <td> 2241.8462</td> <td>  813.259</td> <td>    2.757</td> <td> 0.006</td> <td>  643.204</td> <td> 3840.489</td>\n</tr>\n<tr>\n  <th>age^3</th> <td>-3.866e+04</td> <td> 1.79e+04</td> <td>   -2.161</td> <td> 0.031</td> <td>-7.38e+04</td> <td>-3495.035</td>\n</tr>\n<tr>\n  <th>sex^3</th> <td>   -0.5810</td> <td>    0.143</td> <td>   -4.068</td> <td> 0.000</td> <td>   -0.862</td> <td>   -0.300</td>\n</tr>\n<tr>\n  <th>bmi^3</th> <td> 2528.0621</td> <td> 1.24e+04</td> <td>    0.205</td> <td> 0.838</td> <td>-2.18e+04</td> <td> 2.68e+04</td>\n</tr>\n<tr>\n  <th>bp^3</th>  <td> 1.114e+04</td> <td> 1.53e+04</td> <td>    0.730</td> <td> 0.466</td> <td>-1.89e+04</td> <td> 4.12e+04</td>\n</tr>\n<tr>\n  <th>s1^3</th>  <td> 3.036e+04</td> <td> 1.74e+04</td> <td>    1.745</td> <td> 0.082</td> <td>-3840.554</td> <td> 6.46e+04</td>\n</tr>\n<tr>\n  <th>s2^3</th>  <td>-2.294e+04</td> <td> 1.54e+04</td> <td>   -1.487</td> <td> 0.138</td> <td>-5.33e+04</td> <td> 7382.605</td>\n</tr>\n<tr>\n  <th>s3^3</th>  <td> 5441.2024</td> <td> 1.06e+04</td> <td>    0.514</td> <td> 0.607</td> <td>-1.54e+04</td> <td> 2.62e+04</td>\n</tr>\n<tr>\n  <th>s4^3</th>  <td>-2295.8790</td> <td> 1.49e+04</td> <td>   -0.154</td> <td> 0.878</td> <td>-3.16e+04</td> <td>  2.7e+04</td>\n</tr>\n<tr>\n  <th>s5^3</th>  <td>-1.209e+05</td> <td> 6.83e+04</td> <td>   -1.770</td> <td> 0.077</td> <td>-2.55e+05</td> <td> 1.34e+04</td>\n</tr>\n<tr>\n  <th>s6^3</th>  <td>-2969.7785</td> <td> 1.02e+04</td> <td>   -0.292</td> <td> 0.770</td> <td> -2.3e+04</td> <td>  1.7e+04</td>\n</tr>\n</table>\n<table class=\"simpletable\">\n<tr>\n  <th>Omnibus:</th>       <td> 2.228</td> <th>  Durbin-Watson:     </th> <td>   2.012</td>\n</tr>\n<tr>\n  <th>Prob(Omnibus):</th> <td> 0.328</td> <th>  Jarque-Bera (JB):  </th> <td>   2.309</td>\n</tr>\n<tr>\n  <th>Skew:</th>          <td> 0.163</td> <th>  Prob(JB):          </th> <td>   0.315</td>\n</tr>\n<tr>\n  <th>Kurtosis:</th>      <td> 2.860</td> <th>  Cond. No.          </th> <td>1.00e+16</td>\n</tr>\n</table><br/><br/>Notes:<br/>[1] Standard Errors assume that the covariance matrix of the errors is correctly specified.<br/>[2] The smallest eigenvalue is 4.41e-30. This might indicate that there are<br/>strong multicollinearity problems or that the design matrix is singular."
     },
     "metadata": {},
     "execution_count": 17
    }
   ],
   "source": [
    "result.summary()"
   ]
  }
 ]
}