{
 "metadata": {
  "language_info": {
   "codemirror_mode": {
    "name": "ipython",
    "version": 3
   },
   "file_extension": ".py",
   "mimetype": "text/x-python",
   "name": "python",
   "nbconvert_exporter": "python",
   "pygments_lexer": "ipython3",
   "version": "3.8.9"
  },
  "orig_nbformat": 2,
  "kernelspec": {
   "name": "python389jvsc74a57bd0082a18f759f8afdec9b7eec773590a36e4c3be1cd97bea91855dea5176a8175a",
   "display_name": "Python 3.8.9 64-bit ('fcapy': virtualenvwrapper)"
  }
 },
 "nbformat": 4,
 "nbformat_minor": 2,
 "cells": [
  {
   "cell_type": "code",
   "execution_count": 1,
   "metadata": {},
   "outputs": [],
   "source": [
    "from datasets import load_diabetes\n",
    "from tools import *\n",
    "from sklearn.linear_model import LinearRegression\n",
    "from sklearn.preprocessing import PolynomialFeatures\n",
    "import seaborn as sns\n",
    "import matplotlib.pyplot as plt\n",
    "import pandas as pd\n",
    "from sklearn.model_selection import cross_val_score"
   ]
  },
  {
   "cell_type": "code",
   "execution_count": 2,
   "metadata": {},
   "outputs": [],
   "source": [
    "df_original, df_train, df_test = load_diabetes()"
   ]
  },
  {
   "cell_type": "code",
   "execution_count": 3,
   "metadata": {},
   "outputs": [],
   "source": [
    "train_X = df_train.drop(['target'], axis=1)\n",
    "train_y = df_train['target']\n",
    "test_X = df_test.drop(['target'], axis=1)\n",
    "test_y = df_test['target']\n",
    "original_X = df_original.drop(['target'], axis=1)\n",
    "original_y = df_original['target']\n",
    "features = train_X.columns"
   ]
  },
  {
   "cell_type": "code",
   "execution_count": 4,
   "metadata": {},
   "outputs": [],
   "source": [
    "LinearRegression = SMWrapper(sm.OLS)"
   ]
  },
  {
   "source": [
    "## Degree 2"
   ],
   "cell_type": "markdown",
   "metadata": {}
  },
  {
   "cell_type": "code",
   "execution_count": 14,
   "metadata": {},
   "outputs": [
    {
     "output_type": "execute_result",
     "data": {
      "text/plain": [
       "(309, 20)"
      ]
     },
     "metadata": {},
     "execution_count": 14
    }
   ],
   "source": [
    "train_X_2 = polynomial_features(train_X, 2)\n",
    "test_X_2 = polynomial_features(test_X, 2)\n",
    "train_X_2.index = train_y.index\n",
    "train_X_2.shape"
   ]
  },
  {
   "cell_type": "code",
   "execution_count": 15,
   "metadata": {},
   "outputs": [
    {
     "output_type": "execute_result",
     "data": {
      "text/plain": [
       "0.4572575280030099"
      ]
     },
     "metadata": {},
     "execution_count": 15
    }
   ],
   "source": [
    "# 5-fold\n",
    "cross_val_score(LinearRegression, train_X_2, train_y).mean()"
   ]
  },
  {
   "cell_type": "code",
   "execution_count": 16,
   "metadata": {},
   "outputs": [],
   "source": [
    "model = LinearRegression\n",
    "model = model.fit(train_X_2, train_y)"
   ]
  },
  {
   "cell_type": "code",
   "execution_count": 17,
   "metadata": {},
   "outputs": [
    {
     "output_type": "execute_result",
     "data": {
      "text/plain": [
       "<class 'statsmodels.iolib.summary.Summary'>\n",
       "\"\"\"\n",
       "                            OLS Regression Results                            \n",
       "==============================================================================\n",
       "Dep. Variable:                 target   R-squared:                       0.541\n",
       "Model:                            OLS   Adj. R-squared:                  0.510\n",
       "Method:                 Least Squares   F-statistic:                     17.91\n",
       "Date:                Mon, 14 Jun 2021   Prob (F-statistic):           2.13e-38\n",
       "Time:                        10:56:42   Log-Likelihood:                -1657.7\n",
       "No. Observations:                 309   AIC:                             3355.\n",
       "Df Residuals:                     289   BIC:                             3430.\n",
       "Df Model:                          19                                         \n",
       "Covariance Type:            nonrobust                                         \n",
       "==============================================================================\n",
       "                 coef    std err          t      P>|t|      [0.025      0.975]\n",
       "------------------------------------------------------------------------------\n",
       "const        115.1285     11.322     10.169      0.000      92.844     137.413\n",
       "age           91.3571     75.041      1.217      0.224     -56.339     239.054\n",
       "sex         -269.2687     73.939     -3.642      0.000    -414.795    -123.742\n",
       "bmi          436.9789     87.733      4.981      0.000     264.303     609.655\n",
       "bp           316.3435     82.395      3.839      0.000     154.173     478.513\n",
       "s1         -4340.6197   1828.399     -2.374      0.018   -7939.287    -741.952\n",
       "s2          3619.2756   1600.299      2.262      0.024     469.556    6768.995\n",
       "s3          1226.4082    731.759      1.676      0.095    -213.844    2666.661\n",
       "s4            74.3647    311.521      0.239      0.811    -538.772     687.502\n",
       "s5          1985.6295    662.383      2.998      0.003     681.923    3289.336\n",
       "s6            64.4723     81.553      0.791      0.430     -96.042     224.986\n",
       "age^2       1338.4586   1290.512      1.037      0.301   -1201.535    3878.452\n",
       "sex^2         -1.3655      0.447     -3.054      0.002      -2.245      -0.486\n",
       "bmi^2       1249.1775   1083.546      1.153      0.250    -883.466    3381.821\n",
       "bp^2         772.8627   1275.760      0.606      0.545   -1738.096    3283.821\n",
       "s1^2        2253.8850   2058.144      1.095      0.274   -1796.968    6304.738\n",
       "s2^2        -582.7257   2086.541     -0.279      0.780   -4689.468    3524.017\n",
       "s3^2         855.3247   1636.716      0.523      0.602   -2366.070    4076.719\n",
       "s4^2        -713.9787   1647.674     -0.433      0.665   -3956.942    2528.985\n",
       "s5^2        7959.6040   4096.063      1.943      0.053    -102.294     1.6e+04\n",
       "s6^2        2824.4103    976.732      2.892      0.004     901.999    4746.821\n",
       "==============================================================================\n",
       "Omnibus:                        3.906   Durbin-Watson:                   1.921\n",
       "Prob(Omnibus):                  0.142   Jarque-Bera (JB):                3.719\n",
       "Skew:                           0.215   Prob(JB):                        0.156\n",
       "Kurtosis:                       2.678   Cond. No.                     5.03e+17\n",
       "==============================================================================\n",
       "\n",
       "Notes:\n",
       "[1] Standard Errors assume that the covariance matrix of the errors is correctly specified.\n",
       "[2] The smallest eigenvalue is 1.22e-33. This might indicate that there are\n",
       "strong multicollinearity problems or that the design matrix is singular.\n",
       "\"\"\""
      ],
      "text/html": "<table class=\"simpletable\">\n<caption>OLS Regression Results</caption>\n<tr>\n  <th>Dep. Variable:</th>         <td>target</td>      <th>  R-squared:         </th> <td>   0.541</td>\n</tr>\n<tr>\n  <th>Model:</th>                   <td>OLS</td>       <th>  Adj. R-squared:    </th> <td>   0.510</td>\n</tr>\n<tr>\n  <th>Method:</th>             <td>Least Squares</td>  <th>  F-statistic:       </th> <td>   17.91</td>\n</tr>\n<tr>\n  <th>Date:</th>             <td>Mon, 14 Jun 2021</td> <th>  Prob (F-statistic):</th> <td>2.13e-38</td>\n</tr>\n<tr>\n  <th>Time:</th>                 <td>10:56:42</td>     <th>  Log-Likelihood:    </th> <td> -1657.7</td>\n</tr>\n<tr>\n  <th>No. Observations:</th>      <td>   309</td>      <th>  AIC:               </th> <td>   3355.</td>\n</tr>\n<tr>\n  <th>Df Residuals:</th>          <td>   289</td>      <th>  BIC:               </th> <td>   3430.</td>\n</tr>\n<tr>\n  <th>Df Model:</th>              <td>    19</td>      <th>                     </th>     <td> </td>   \n</tr>\n<tr>\n  <th>Covariance Type:</th>      <td>nonrobust</td>    <th>                     </th>     <td> </td>   \n</tr>\n</table>\n<table class=\"simpletable\">\n<tr>\n    <td></td>       <th>coef</th>     <th>std err</th>      <th>t</th>      <th>P>|t|</th>  <th>[0.025</th>    <th>0.975]</th>  \n</tr>\n<tr>\n  <th>const</th> <td>  115.1285</td> <td>   11.322</td> <td>   10.169</td> <td> 0.000</td> <td>   92.844</td> <td>  137.413</td>\n</tr>\n<tr>\n  <th>age</th>   <td>   91.3571</td> <td>   75.041</td> <td>    1.217</td> <td> 0.224</td> <td>  -56.339</td> <td>  239.054</td>\n</tr>\n<tr>\n  <th>sex</th>   <td> -269.2687</td> <td>   73.939</td> <td>   -3.642</td> <td> 0.000</td> <td> -414.795</td> <td> -123.742</td>\n</tr>\n<tr>\n  <th>bmi</th>   <td>  436.9789</td> <td>   87.733</td> <td>    4.981</td> <td> 0.000</td> <td>  264.303</td> <td>  609.655</td>\n</tr>\n<tr>\n  <th>bp</th>    <td>  316.3435</td> <td>   82.395</td> <td>    3.839</td> <td> 0.000</td> <td>  154.173</td> <td>  478.513</td>\n</tr>\n<tr>\n  <th>s1</th>    <td>-4340.6197</td> <td> 1828.399</td> <td>   -2.374</td> <td> 0.018</td> <td>-7939.287</td> <td> -741.952</td>\n</tr>\n<tr>\n  <th>s2</th>    <td> 3619.2756</td> <td> 1600.299</td> <td>    2.262</td> <td> 0.024</td> <td>  469.556</td> <td> 6768.995</td>\n</tr>\n<tr>\n  <th>s3</th>    <td> 1226.4082</td> <td>  731.759</td> <td>    1.676</td> <td> 0.095</td> <td> -213.844</td> <td> 2666.661</td>\n</tr>\n<tr>\n  <th>s4</th>    <td>   74.3647</td> <td>  311.521</td> <td>    0.239</td> <td> 0.811</td> <td> -538.772</td> <td>  687.502</td>\n</tr>\n<tr>\n  <th>s5</th>    <td> 1985.6295</td> <td>  662.383</td> <td>    2.998</td> <td> 0.003</td> <td>  681.923</td> <td> 3289.336</td>\n</tr>\n<tr>\n  <th>s6</th>    <td>   64.4723</td> <td>   81.553</td> <td>    0.791</td> <td> 0.430</td> <td>  -96.042</td> <td>  224.986</td>\n</tr>\n<tr>\n  <th>age^2</th> <td> 1338.4586</td> <td> 1290.512</td> <td>    1.037</td> <td> 0.301</td> <td>-1201.535</td> <td> 3878.452</td>\n</tr>\n<tr>\n  <th>sex^2</th> <td>   -1.3655</td> <td>    0.447</td> <td>   -3.054</td> <td> 0.002</td> <td>   -2.245</td> <td>   -0.486</td>\n</tr>\n<tr>\n  <th>bmi^2</th> <td> 1249.1775</td> <td> 1083.546</td> <td>    1.153</td> <td> 0.250</td> <td> -883.466</td> <td> 3381.821</td>\n</tr>\n<tr>\n  <th>bp^2</th>  <td>  772.8627</td> <td> 1275.760</td> <td>    0.606</td> <td> 0.545</td> <td>-1738.096</td> <td> 3283.821</td>\n</tr>\n<tr>\n  <th>s1^2</th>  <td> 2253.8850</td> <td> 2058.144</td> <td>    1.095</td> <td> 0.274</td> <td>-1796.968</td> <td> 6304.738</td>\n</tr>\n<tr>\n  <th>s2^2</th>  <td> -582.7257</td> <td> 2086.541</td> <td>   -0.279</td> <td> 0.780</td> <td>-4689.468</td> <td> 3524.017</td>\n</tr>\n<tr>\n  <th>s3^2</th>  <td>  855.3247</td> <td> 1636.716</td> <td>    0.523</td> <td> 0.602</td> <td>-2366.070</td> <td> 4076.719</td>\n</tr>\n<tr>\n  <th>s4^2</th>  <td> -713.9787</td> <td> 1647.674</td> <td>   -0.433</td> <td> 0.665</td> <td>-3956.942</td> <td> 2528.985</td>\n</tr>\n<tr>\n  <th>s5^2</th>  <td> 7959.6040</td> <td> 4096.063</td> <td>    1.943</td> <td> 0.053</td> <td> -102.294</td> <td>  1.6e+04</td>\n</tr>\n<tr>\n  <th>s6^2</th>  <td> 2824.4103</td> <td>  976.732</td> <td>    2.892</td> <td> 0.004</td> <td>  901.999</td> <td> 4746.821</td>\n</tr>\n</table>\n<table class=\"simpletable\">\n<tr>\n  <th>Omnibus:</th>       <td> 3.906</td> <th>  Durbin-Watson:     </th> <td>   1.921</td>\n</tr>\n<tr>\n  <th>Prob(Omnibus):</th> <td> 0.142</td> <th>  Jarque-Bera (JB):  </th> <td>   3.719</td>\n</tr>\n<tr>\n  <th>Skew:</th>          <td> 0.215</td> <th>  Prob(JB):          </th> <td>   0.156</td>\n</tr>\n<tr>\n  <th>Kurtosis:</th>      <td> 2.678</td> <th>  Cond. No.          </th> <td>5.03e+17</td>\n</tr>\n</table><br/><br/>Notes:<br/>[1] Standard Errors assume that the covariance matrix of the errors is correctly specified.<br/>[2] The smallest eigenvalue is 1.22e-33. This might indicate that there are<br/>strong multicollinearity problems or that the design matrix is singular."
     },
     "metadata": {},
     "execution_count": 17
    }
   ],
   "source": [
    "model.summary()"
   ]
  },
  {
   "cell_type": "code",
   "execution_count": 18,
   "metadata": {},
   "outputs": [
    {
     "output_type": "stream",
     "name": "stdout",
     "text": [
      "R-squared:\nTrain score\n0.540684832570697\nTest score\n0.5223406976059055\nMSE:\nTrain score\n2674.453036587711\nTest score\n2951.3877823544235\n"
     ]
    }
   ],
   "source": [
    "# polynomicke features maji lepsi fit ale generalizace je obdobna\n",
    "# mozny overfitting\n",
    "model_performance(model, train_X_2, train_y, test_X_2, test_y)"
   ]
  },
  {
   "source": [
    "## Degree 3"
   ],
   "cell_type": "markdown",
   "metadata": {}
  },
  {
   "cell_type": "code",
   "execution_count": 19,
   "metadata": {},
   "outputs": [
    {
     "output_type": "execute_result",
     "data": {
      "text/plain": [
       "(309, 30)"
      ]
     },
     "metadata": {},
     "execution_count": 19
    }
   ],
   "source": [
    "train_X_3 = polynomial_features(train_X, 3)\n",
    "test_X_3 = polynomial_features(test_X, 3)\n",
    "train_X_3.index = train_y.index\n",
    "train_X_3.shape"
   ]
  },
  {
   "cell_type": "code",
   "execution_count": 21,
   "metadata": {},
   "outputs": [
    {
     "output_type": "execute_result",
     "data": {
      "text/plain": [
       "0.4200992052673783"
      ]
     },
     "metadata": {},
     "execution_count": 21
    }
   ],
   "source": [
    "# 5-fold\n",
    "cross_val_score(LinearRegression, train_X_3, train_y).mean()"
   ]
  },
  {
   "cell_type": "code",
   "execution_count": 23,
   "metadata": {},
   "outputs": [],
   "source": [
    "model = LinearRegression\n",
    "model = model.fit(train_X_3, train_y)"
   ]
  },
  {
   "cell_type": "code",
   "execution_count": 25,
   "metadata": {},
   "outputs": [
    {
     "output_type": "execute_result",
     "data": {
      "text/plain": [
       "<class 'statsmodels.iolib.summary.Summary'>\n",
       "\"\"\"\n",
       "                            OLS Regression Results                            \n",
       "==============================================================================\n",
       "Dep. Variable:                 target   R-squared:                       0.550\n",
       "Model:                            OLS   Adj. R-squared:                  0.506\n",
       "Method:                 Least Squares   F-statistic:                     12.25\n",
       "Date:                Mon, 14 Jun 2021   Prob (F-statistic):           2.69e-34\n",
       "Time:                        10:57:05   Log-Likelihood:                -1654.4\n",
       "No. Observations:                 309   AIC:                             3367.\n",
       "Df Residuals:                     280   BIC:                             3475.\n",
       "Df Model:                          28                                         \n",
       "Covariance Type:            nonrobust                                         \n",
       "==============================================================================\n",
       "                 coef    std err          t      P>|t|      [0.025      0.975]\n",
       "------------------------------------------------------------------------------\n",
       "const        157.3015     48.233      3.261      0.001      62.357     252.246\n",
       "age          314.4305    145.157      2.166      0.031      28.692     600.169\n",
       "sex         -292.4066     76.178     -3.838      0.000    -442.362    -142.451\n",
       "bmi          421.9612    112.363      3.755      0.000     200.777     643.145\n",
       "bp           294.0965    136.739      2.151      0.032      24.929     563.264\n",
       "s1          4669.6958   1.05e+04      0.444      0.657    -1.6e+04    2.54e+04\n",
       "s2         -4315.6006   9232.695     -0.467      0.641   -2.25e+04    1.39e+04\n",
       "s3         -2199.2112   3952.551     -0.556      0.578   -9979.699    5581.277\n",
       "s4           101.7207    336.163      0.303      0.762    -560.006     763.447\n",
       "s5          -828.6970   3237.078     -0.256      0.798   -7200.795    5543.401\n",
       "s6            84.2699    120.452      0.700      0.485    -152.837     321.377\n",
       "age^2        697.0165   1366.577      0.510      0.610   -1993.053    3387.086\n",
       "sex^2         -1.4098      0.462     -3.053      0.002      -2.319      -0.501\n",
       "bmi^2        672.6561   1627.455      0.413      0.680   -2530.944    3876.256\n",
       "bp^2         908.1461   1421.289      0.639      0.523   -1889.622    3705.914\n",
       "s1^2        2698.0524   2181.992      1.237      0.217   -1597.140    6993.245\n",
       "s2^2       -1638.7404   2461.607     -0.666      0.506   -6484.347    3206.866\n",
       "s3^2         177.2200   2335.022      0.076      0.940   -4419.206    4773.646\n",
       "s4^2        1171.7149   2468.683      0.475      0.635   -3687.820    6031.250\n",
       "s5^2       -9870.9785   2.04e+04     -0.485      0.628   -4.99e+04    3.02e+04\n",
       "s6^2        2773.8923   1056.569      2.625      0.009     694.064    4853.720\n",
       "age^3      -4.641e+04   2.47e+04     -1.878      0.061   -9.51e+04    2232.112\n",
       "sex^3         -0.6701      0.175     -3.828      0.000      -1.015      -0.325\n",
       "bmi^3       7248.6502    1.4e+04      0.519      0.604   -2.03e+04    3.47e+04\n",
       "bp^3        3953.9454   2.12e+04      0.186      0.852   -3.78e+04    4.58e+04\n",
       "s1^3        1.798e+04   2.38e+04      0.755      0.451   -2.89e+04    6.49e+04\n",
       "s2^3       -1.047e+04    2.5e+04     -0.419      0.676   -5.97e+04    3.87e+04\n",
       "s3^3        3827.6167   1.99e+04      0.192      0.848   -3.54e+04     4.3e+04\n",
       "s4^3       -1.352e+04   2.05e+04     -0.658      0.511   -5.39e+04    2.69e+04\n",
       "s5^3       -6.785e+04   8.26e+04     -0.822      0.412    -2.3e+05    9.47e+04\n",
       "s6^3       -1529.2344   1.28e+04     -0.120      0.905   -2.67e+04    2.37e+04\n",
       "==============================================================================\n",
       "Omnibus:                        4.212   Durbin-Watson:                   1.943\n",
       "Prob(Omnibus):                  0.122   Jarque-Bera (JB):                3.974\n",
       "Skew:                           0.222   Prob(JB):                        0.137\n",
       "Kurtosis:                       2.666   Cond. No.                     1.00e+16\n",
       "==============================================================================\n",
       "\n",
       "Notes:\n",
       "[1] Standard Errors assume that the covariance matrix of the errors is correctly specified.\n",
       "[2] The smallest eigenvalue is 3.09e-30. This might indicate that there are\n",
       "strong multicollinearity problems or that the design matrix is singular.\n",
       "\"\"\""
      ],
      "text/html": "<table class=\"simpletable\">\n<caption>OLS Regression Results</caption>\n<tr>\n  <th>Dep. Variable:</th>         <td>target</td>      <th>  R-squared:         </th> <td>   0.550</td>\n</tr>\n<tr>\n  <th>Model:</th>                   <td>OLS</td>       <th>  Adj. R-squared:    </th> <td>   0.506</td>\n</tr>\n<tr>\n  <th>Method:</th>             <td>Least Squares</td>  <th>  F-statistic:       </th> <td>   12.25</td>\n</tr>\n<tr>\n  <th>Date:</th>             <td>Mon, 14 Jun 2021</td> <th>  Prob (F-statistic):</th> <td>2.69e-34</td>\n</tr>\n<tr>\n  <th>Time:</th>                 <td>10:57:05</td>     <th>  Log-Likelihood:    </th> <td> -1654.4</td>\n</tr>\n<tr>\n  <th>No. Observations:</th>      <td>   309</td>      <th>  AIC:               </th> <td>   3367.</td>\n</tr>\n<tr>\n  <th>Df Residuals:</th>          <td>   280</td>      <th>  BIC:               </th> <td>   3475.</td>\n</tr>\n<tr>\n  <th>Df Model:</th>              <td>    28</td>      <th>                     </th>     <td> </td>   \n</tr>\n<tr>\n  <th>Covariance Type:</th>      <td>nonrobust</td>    <th>                     </th>     <td> </td>   \n</tr>\n</table>\n<table class=\"simpletable\">\n<tr>\n    <td></td>       <th>coef</th>     <th>std err</th>      <th>t</th>      <th>P>|t|</th>  <th>[0.025</th>    <th>0.975]</th>  \n</tr>\n<tr>\n  <th>const</th> <td>  157.3015</td> <td>   48.233</td> <td>    3.261</td> <td> 0.001</td> <td>   62.357</td> <td>  252.246</td>\n</tr>\n<tr>\n  <th>age</th>   <td>  314.4305</td> <td>  145.157</td> <td>    2.166</td> <td> 0.031</td> <td>   28.692</td> <td>  600.169</td>\n</tr>\n<tr>\n  <th>sex</th>   <td> -292.4066</td> <td>   76.178</td> <td>   -3.838</td> <td> 0.000</td> <td> -442.362</td> <td> -142.451</td>\n</tr>\n<tr>\n  <th>bmi</th>   <td>  421.9612</td> <td>  112.363</td> <td>    3.755</td> <td> 0.000</td> <td>  200.777</td> <td>  643.145</td>\n</tr>\n<tr>\n  <th>bp</th>    <td>  294.0965</td> <td>  136.739</td> <td>    2.151</td> <td> 0.032</td> <td>   24.929</td> <td>  563.264</td>\n</tr>\n<tr>\n  <th>s1</th>    <td> 4669.6958</td> <td> 1.05e+04</td> <td>    0.444</td> <td> 0.657</td> <td> -1.6e+04</td> <td> 2.54e+04</td>\n</tr>\n<tr>\n  <th>s2</th>    <td>-4315.6006</td> <td> 9232.695</td> <td>   -0.467</td> <td> 0.641</td> <td>-2.25e+04</td> <td> 1.39e+04</td>\n</tr>\n<tr>\n  <th>s3</th>    <td>-2199.2112</td> <td> 3952.551</td> <td>   -0.556</td> <td> 0.578</td> <td>-9979.699</td> <td> 5581.277</td>\n</tr>\n<tr>\n  <th>s4</th>    <td>  101.7207</td> <td>  336.163</td> <td>    0.303</td> <td> 0.762</td> <td> -560.006</td> <td>  763.447</td>\n</tr>\n<tr>\n  <th>s5</th>    <td> -828.6970</td> <td> 3237.078</td> <td>   -0.256</td> <td> 0.798</td> <td>-7200.795</td> <td> 5543.401</td>\n</tr>\n<tr>\n  <th>s6</th>    <td>   84.2699</td> <td>  120.452</td> <td>    0.700</td> <td> 0.485</td> <td> -152.837</td> <td>  321.377</td>\n</tr>\n<tr>\n  <th>age^2</th> <td>  697.0165</td> <td> 1366.577</td> <td>    0.510</td> <td> 0.610</td> <td>-1993.053</td> <td> 3387.086</td>\n</tr>\n<tr>\n  <th>sex^2</th> <td>   -1.4098</td> <td>    0.462</td> <td>   -3.053</td> <td> 0.002</td> <td>   -2.319</td> <td>   -0.501</td>\n</tr>\n<tr>\n  <th>bmi^2</th> <td>  672.6561</td> <td> 1627.455</td> <td>    0.413</td> <td> 0.680</td> <td>-2530.944</td> <td> 3876.256</td>\n</tr>\n<tr>\n  <th>bp^2</th>  <td>  908.1461</td> <td> 1421.289</td> <td>    0.639</td> <td> 0.523</td> <td>-1889.622</td> <td> 3705.914</td>\n</tr>\n<tr>\n  <th>s1^2</th>  <td> 2698.0524</td> <td> 2181.992</td> <td>    1.237</td> <td> 0.217</td> <td>-1597.140</td> <td> 6993.245</td>\n</tr>\n<tr>\n  <th>s2^2</th>  <td>-1638.7404</td> <td> 2461.607</td> <td>   -0.666</td> <td> 0.506</td> <td>-6484.347</td> <td> 3206.866</td>\n</tr>\n<tr>\n  <th>s3^2</th>  <td>  177.2200</td> <td> 2335.022</td> <td>    0.076</td> <td> 0.940</td> <td>-4419.206</td> <td> 4773.646</td>\n</tr>\n<tr>\n  <th>s4^2</th>  <td> 1171.7149</td> <td> 2468.683</td> <td>    0.475</td> <td> 0.635</td> <td>-3687.820</td> <td> 6031.250</td>\n</tr>\n<tr>\n  <th>s5^2</th>  <td>-9870.9785</td> <td> 2.04e+04</td> <td>   -0.485</td> <td> 0.628</td> <td>-4.99e+04</td> <td> 3.02e+04</td>\n</tr>\n<tr>\n  <th>s6^2</th>  <td> 2773.8923</td> <td> 1056.569</td> <td>    2.625</td> <td> 0.009</td> <td>  694.064</td> <td> 4853.720</td>\n</tr>\n<tr>\n  <th>age^3</th> <td>-4.641e+04</td> <td> 2.47e+04</td> <td>   -1.878</td> <td> 0.061</td> <td>-9.51e+04</td> <td> 2232.112</td>\n</tr>\n<tr>\n  <th>sex^3</th> <td>   -0.6701</td> <td>    0.175</td> <td>   -3.828</td> <td> 0.000</td> <td>   -1.015</td> <td>   -0.325</td>\n</tr>\n<tr>\n  <th>bmi^3</th> <td> 7248.6502</td> <td>  1.4e+04</td> <td>    0.519</td> <td> 0.604</td> <td>-2.03e+04</td> <td> 3.47e+04</td>\n</tr>\n<tr>\n  <th>bp^3</th>  <td> 3953.9454</td> <td> 2.12e+04</td> <td>    0.186</td> <td> 0.852</td> <td>-3.78e+04</td> <td> 4.58e+04</td>\n</tr>\n<tr>\n  <th>s1^3</th>  <td> 1.798e+04</td> <td> 2.38e+04</td> <td>    0.755</td> <td> 0.451</td> <td>-2.89e+04</td> <td> 6.49e+04</td>\n</tr>\n<tr>\n  <th>s2^3</th>  <td>-1.047e+04</td> <td>  2.5e+04</td> <td>   -0.419</td> <td> 0.676</td> <td>-5.97e+04</td> <td> 3.87e+04</td>\n</tr>\n<tr>\n  <th>s3^3</th>  <td> 3827.6167</td> <td> 1.99e+04</td> <td>    0.192</td> <td> 0.848</td> <td>-3.54e+04</td> <td>  4.3e+04</td>\n</tr>\n<tr>\n  <th>s4^3</th>  <td>-1.352e+04</td> <td> 2.05e+04</td> <td>   -0.658</td> <td> 0.511</td> <td>-5.39e+04</td> <td> 2.69e+04</td>\n</tr>\n<tr>\n  <th>s5^3</th>  <td>-6.785e+04</td> <td> 8.26e+04</td> <td>   -0.822</td> <td> 0.412</td> <td> -2.3e+05</td> <td> 9.47e+04</td>\n</tr>\n<tr>\n  <th>s6^3</th>  <td>-1529.2344</td> <td> 1.28e+04</td> <td>   -0.120</td> <td> 0.905</td> <td>-2.67e+04</td> <td> 2.37e+04</td>\n</tr>\n</table>\n<table class=\"simpletable\">\n<tr>\n  <th>Omnibus:</th>       <td> 4.212</td> <th>  Durbin-Watson:     </th> <td>   1.943</td>\n</tr>\n<tr>\n  <th>Prob(Omnibus):</th> <td> 0.122</td> <th>  Jarque-Bera (JB):  </th> <td>   3.974</td>\n</tr>\n<tr>\n  <th>Skew:</th>          <td> 0.222</td> <th>  Prob(JB):          </th> <td>   0.137</td>\n</tr>\n<tr>\n  <th>Kurtosis:</th>      <td> 2.666</td> <th>  Cond. No.          </th> <td>1.00e+16</td>\n</tr>\n</table><br/><br/>Notes:<br/>[1] Standard Errors assume that the covariance matrix of the errors is correctly specified.<br/>[2] The smallest eigenvalue is 3.09e-30. This might indicate that there are<br/>strong multicollinearity problems or that the design matrix is singular."
     },
     "metadata": {},
     "execution_count": 25
    }
   ],
   "source": [
    "model.summary()"
   ]
  },
  {
   "cell_type": "code",
   "execution_count": 24,
   "metadata": {},
   "outputs": [
    {
     "output_type": "stream",
     "name": "stdout",
     "text": [
      "R-squared:\nTrain score\n0.5504637396571953\nTest score\n0.5388223411976648\nMSE:\nTrain score\n2617.513423863035\nTest score\n2849.5500890738163\n"
     ]
    }
   ],
   "source": [
    "# overfitting\n",
    "model_performance(model, train_X_3, train_y, test_X_3, test_y)"
   ]
  },
  {
   "cell_type": "code",
   "execution_count": null,
   "metadata": {},
   "outputs": [],
   "source": []
  }
 ]
}