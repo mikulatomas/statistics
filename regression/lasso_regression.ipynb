{
 "metadata": {
  "language_info": {
   "codemirror_mode": {
    "name": "ipython",
    "version": 3
   },
   "file_extension": ".py",
   "mimetype": "text/x-python",
   "name": "python",
   "nbconvert_exporter": "python",
   "pygments_lexer": "ipython3",
   "version": "3.8.9"
  },
  "orig_nbformat": 2,
  "kernelspec": {
   "name": "python389jvsc74a57bd0082a18f759f8afdec9b7eec773590a36e4c3be1cd97bea91855dea5176a8175a",
   "display_name": "Python 3.8.9 64-bit ('fcapy': virtualenvwrapper)"
  }
 },
 "nbformat": 4,
 "nbformat_minor": 2,
 "cells": [
  {
   "cell_type": "code",
   "execution_count": 7,
   "metadata": {},
   "outputs": [],
   "source": [
    "from datasets import load_happines\n",
    "from tools import *\n",
    "from sklearn.linear_model import Lasso\n",
    "import pandas as pd\n",
    "import numpy as np\n",
    "from sklearn.model_selection import cross_val_score"
   ]
  },
  {
   "cell_type": "code",
   "execution_count": 2,
   "metadata": {},
   "outputs": [
    {
     "output_type": "execute_result",
     "data": {
      "text/plain": [
       "Index(['region', 'economy', 'family', 'health', 'freedom', 'trust',\n",
       "       'generosity', 'target'],\n",
       "      dtype='object')"
      ]
     },
     "metadata": {},
     "execution_count": 2
    }
   ],
   "source": [
    "df_train, df_test = load_happines()\n",
    "df_train.columns"
   ]
  },
  {
   "cell_type": "code",
   "execution_count": 3,
   "metadata": {},
   "outputs": [],
   "source": [
    "train_X = df_train.drop(['region', 'target'], axis=1)\n",
    "train_y = df_train['target']\n",
    "test_X = df_test.drop(['region', 'target'], axis=1)\n",
    "test_y = df_test['target']"
   ]
  },
  {
   "cell_type": "code",
   "execution_count": 11,
   "metadata": {},
   "outputs": [
    {
     "output_type": "execute_result",
     "data": {
      "text/plain": [
       "array([0.001, 0.021, 0.041, 0.061, 0.081, 0.101, 0.121, 0.141, 0.161,\n",
       "       0.181])"
      ]
     },
     "metadata": {},
     "execution_count": 11
    }
   ],
   "source": []
  },
  {
   "cell_type": "code",
   "execution_count": 18,
   "metadata": {},
   "outputs": [
    {
     "output_type": "execute_result",
     "data": {
      "text/plain": [
       "    alpha     score\n",
       "0   0.001  0.742831\n",
       "1   0.021  0.729110\n",
       "2   0.041  0.680350\n",
       "3   0.061  0.648795\n",
       "4   0.081  0.617350\n",
       "5   0.101  0.576831\n",
       "6   0.121  0.527405\n",
       "7   0.141  0.491684\n",
       "8   0.161  0.461913\n",
       "9   0.181  0.428131\n",
       "10  0.201  0.390338\n",
       "11  0.221  0.348535\n",
       "12  0.241  0.302720\n",
       "13  0.261  0.252895\n",
       "14  0.281  0.199059"
      ],
      "text/html": "<div>\n<style scoped>\n    .dataframe tbody tr th:only-of-type {\n        vertical-align: middle;\n    }\n\n    .dataframe tbody tr th {\n        vertical-align: top;\n    }\n\n    .dataframe thead th {\n        text-align: right;\n    }\n</style>\n<table border=\"1\" class=\"dataframe\">\n  <thead>\n    <tr style=\"text-align: right;\">\n      <th></th>\n      <th>alpha</th>\n      <th>score</th>\n    </tr>\n  </thead>\n  <tbody>\n    <tr>\n      <th>0</th>\n      <td>0.001</td>\n      <td>0.742831</td>\n    </tr>\n    <tr>\n      <th>1</th>\n      <td>0.021</td>\n      <td>0.729110</td>\n    </tr>\n    <tr>\n      <th>2</th>\n      <td>0.041</td>\n      <td>0.680350</td>\n    </tr>\n    <tr>\n      <th>3</th>\n      <td>0.061</td>\n      <td>0.648795</td>\n    </tr>\n    <tr>\n      <th>4</th>\n      <td>0.081</td>\n      <td>0.617350</td>\n    </tr>\n    <tr>\n      <th>5</th>\n      <td>0.101</td>\n      <td>0.576831</td>\n    </tr>\n    <tr>\n      <th>6</th>\n      <td>0.121</td>\n      <td>0.527405</td>\n    </tr>\n    <tr>\n      <th>7</th>\n      <td>0.141</td>\n      <td>0.491684</td>\n    </tr>\n    <tr>\n      <th>8</th>\n      <td>0.161</td>\n      <td>0.461913</td>\n    </tr>\n    <tr>\n      <th>9</th>\n      <td>0.181</td>\n      <td>0.428131</td>\n    </tr>\n    <tr>\n      <th>10</th>\n      <td>0.201</td>\n      <td>0.390338</td>\n    </tr>\n    <tr>\n      <th>11</th>\n      <td>0.221</td>\n      <td>0.348535</td>\n    </tr>\n    <tr>\n      <th>12</th>\n      <td>0.241</td>\n      <td>0.302720</td>\n    </tr>\n    <tr>\n      <th>13</th>\n      <td>0.261</td>\n      <td>0.252895</td>\n    </tr>\n    <tr>\n      <th>14</th>\n      <td>0.281</td>\n      <td>0.199059</td>\n    </tr>\n  </tbody>\n</table>\n</div>"
     },
     "metadata": {},
     "execution_count": 18
    }
   ],
   "source": [
    "scores = []\n",
    "alphas = []\n",
    "for i in np.arange(0.001, 0.3, 0.02):\n",
    "    alphas.append(i)\n",
    "    scores.append(cross_val_score(Lasso(alpha=i), train_X, train_y).mean())\n",
    "pd.DataFrame(zip(alphas, scores), columns=['alpha', 'score'])"
   ]
  },
  {
   "cell_type": "code",
   "execution_count": 19,
   "metadata": {},
   "outputs": [],
   "source": [
    "model = Lasso(alpha=0.001)"
   ]
  },
  {
   "cell_type": "code",
   "execution_count": 20,
   "metadata": {},
   "outputs": [],
   "source": [
    "model = model.fit(train_X, train_y)"
   ]
  },
  {
   "cell_type": "code",
   "execution_count": 21,
   "metadata": {},
   "outputs": [
    {
     "output_type": "execute_result",
     "data": {
      "text/plain": [
       "      feature      coef\n",
       "1      family  1.400135\n",
       "3     freedom  1.328788\n",
       "2      health  0.958057\n",
       "0     economy  0.872483\n",
       "4       trust  0.730093\n",
       "5  generosity  0.348224"
      ],
      "text/html": "<div>\n<style scoped>\n    .dataframe tbody tr th:only-of-type {\n        vertical-align: middle;\n    }\n\n    .dataframe tbody tr th {\n        vertical-align: top;\n    }\n\n    .dataframe thead th {\n        text-align: right;\n    }\n</style>\n<table border=\"1\" class=\"dataframe\">\n  <thead>\n    <tr style=\"text-align: right;\">\n      <th></th>\n      <th>feature</th>\n      <th>coef</th>\n    </tr>\n  </thead>\n  <tbody>\n    <tr>\n      <th>1</th>\n      <td>family</td>\n      <td>1.400135</td>\n    </tr>\n    <tr>\n      <th>3</th>\n      <td>freedom</td>\n      <td>1.328788</td>\n    </tr>\n    <tr>\n      <th>2</th>\n      <td>health</td>\n      <td>0.958057</td>\n    </tr>\n    <tr>\n      <th>0</th>\n      <td>economy</td>\n      <td>0.872483</td>\n    </tr>\n    <tr>\n      <th>4</th>\n      <td>trust</td>\n      <td>0.730093</td>\n    </tr>\n    <tr>\n      <th>5</th>\n      <td>generosity</td>\n      <td>0.348224</td>\n    </tr>\n  </tbody>\n</table>\n</div>"
     },
     "metadata": {},
     "execution_count": 21
    }
   ],
   "source": [
    "# health je podle lassa mene dulezite nez podle klasicke regrese\n",
    "# to je v korespondenci se zaverem feature forward/backward selection\n",
    "coef_table(model.coef_, train_X.columns)"
   ]
  },
  {
   "cell_type": "code",
   "execution_count": 22,
   "metadata": {},
   "outputs": [
    {
     "output_type": "stream",
     "name": "stdout",
     "text": [
      "Train score\n0.7771509296164518\nTest score\n0.6954749162115925\n"
     ]
    }
   ],
   "source": [
    "model_performance(model, train_X, train_y, test_X, test_y)"
   ]
  },
  {
   "cell_type": "code",
   "execution_count": null,
   "metadata": {},
   "outputs": [],
   "source": []
  }
 ]
}