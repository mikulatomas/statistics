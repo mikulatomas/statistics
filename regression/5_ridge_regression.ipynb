{
 "metadata": {
  "language_info": {
   "codemirror_mode": {
    "name": "ipython",
    "version": 3
   },
   "file_extension": ".py",
   "mimetype": "text/x-python",
   "name": "python",
   "nbconvert_exporter": "python",
   "pygments_lexer": "ipython3",
   "version": "3.8.9"
  },
  "orig_nbformat": 2,
  "kernelspec": {
   "name": "python389jvsc74a57bd0082a18f759f8afdec9b7eec773590a36e4c3be1cd97bea91855dea5176a8175a",
   "display_name": "Python 3.8.9 64-bit ('fcapy': virtualenvwrapper)"
  }
 },
 "nbformat": 4,
 "nbformat_minor": 2,
 "cells": [
  {
   "cell_type": "code",
   "execution_count": 43,
   "metadata": {},
   "outputs": [
    {
     "output_type": "display_data",
     "data": {
      "text/html": "        <script type=\"text/javascript\">\n        window.PlotlyConfig = {MathJaxConfig: 'local'};\n        if (window.MathJax) {MathJax.Hub.Config({SVG: {font: \"STIX-Web\"}});}\n        if (typeof require !== 'undefined') {\n        require.undef(\"plotly\");\n        requirejs.config({\n            paths: {\n                'plotly': ['https://cdn.plot.ly/plotly-latest.min']\n            }\n        });\n        require(['plotly'], function(Plotly) {\n            window._Plotly = Plotly;\n        });\n        }\n        </script>\n        "
     },
     "metadata": {}
    }
   ],
   "source": [
    "from datasets import diabetes_data\n",
    "\n",
    "import statsmodels.api as sm\n",
    "\n",
    "from sklearn.linear_model import Ridge\n",
    "from sklearn.model_selection import cross_val_score\n",
    "\n",
    "import numpy as np\n",
    "import pandas as pd\n",
    "\n",
    "from tools import polynomial_features\n",
    "\n",
    "import plotly.express as px\n",
    "from plotly.offline import init_notebook_mode\n",
    "init_notebook_mode(connected=True)"
   ]
  },
  {
   "cell_type": "code",
   "execution_count": 30,
   "metadata": {},
   "outputs": [],
   "source": [
    "original_X, original_y, train_X, train_y, test_X, test_y = diabetes_data()"
   ]
  },
  {
   "source": [
    "# Ridge Regression"
   ],
   "cell_type": "markdown",
   "metadata": {}
  },
  {
   "source": [
    "## Alpha selection"
   ],
   "cell_type": "markdown",
   "metadata": {}
  },
  {
   "cell_type": "code",
   "execution_count": 31,
   "metadata": {},
   "outputs": [],
   "source": [
    "n_alphas = 80\n",
    "alphas = np.logspace(-2, 5, n_alphas)"
   ]
  },
  {
   "cell_type": "code",
   "execution_count": 32,
   "metadata": {},
   "outputs": [
    {
     "output_type": "display_data",
     "data": {
      "application/vnd.plotly.v1+json": {
       "config": {
        "plotlyServerURL": "https://plot.ly"
       },
       "data": [
        {
         "hovertemplate": "alpha=%{x}<br>R^2 (mean)=%{y}<extra></extra>",
         "legendgroup": "",
         "line": {
          "color": "#636efa",
          "dash": "solid"
         },
         "mode": "lines",
         "name": "",
         "orientation": "v",
         "showlegend": false,
         "type": "scatter",
         "x": [
          0.01,
          0.012263306841775632,
          0.015038869469554102,
          0.018442627085855347,
          0.022616759492228647,
          0.02773562614198415,
          0.03401304938279251,
          0.04171124612056518,
          0.051151780992931425,
          0.06272899858196247,
          0.07692649574879142,
          0.09433732216299774,
          0.1156887528316282,
          0.1418726674116596,
          0.1739828052930364,
          0.21336045265014109,
          0.2616504698748821,
          0.320869999737045,
          0.39349272630958493,
          0.48255220427412787,
          0.5917685748188825,
          0.7257039612324212,
          0.8899530352885229,
          1.0913767146512738,
          1.3383887531737564,
          1.6413071953751284,
          2.0127853758499383,
          2.4683404670686486,
          3.0270016537634614,
          3.7121050090663608,
          4.55226827550731,
          5.582586268862695,
          6.846096838574658,
          8.395578619995112,
          10.295755673125127,
          12.626001098748565,
          15.48365256585499,
          18.988078244652634,
          23.285662984981965,
          28.55592301990109,
          35.019004614317126,
          42.944879887892725,
          52.66462393484275,
          64.58424430196978,
          79.20164050192548,
          97.12740198471168,
          119.11031332830079,
          146.06863203649888,
          179.1284454622002,
          219.67070907932353,
          269.388930959017,
          330.35991201283395,
          405.1304969235378,
          496.8239594734388,
          609.2704661368674,
          747.1670675868082,
          916.2739011886731,
          1123.6548001387516,
          1377.9723598335568,
          1689.8497868124587,
          2072.3146452190294,
          2541.343036702639,
          3116.52694492943,
          3821.8926206331225,
          4686.904192314192,
          5747.694424835347,
          7048.574036451903,
          8643.882620598262,
          10600.258488068825,
          12999.42224413245,
          15941.590374559995,
          19549.661430912594,
          23974.349678010785,
          29400.480643347077,
          36054.71154250506,
          44214.99907374487,
          54222.21006501592,
          66494.35996665046,
          81544.07395185171,
          100000
         ],
         "xaxis": "x",
         "y": [
          0.48144417772216797,
          0.4813158815207716,
          0.4811997917154634,
          0.4811014321239851,
          0.48102369448536086,
          0.4809655116042048,
          0.48092043302339194,
          0.4808749831550438,
          0.4808066316318117,
          0.48068119942229226,
          0.48044957672172595,
          0.4800437553733386,
          0.4793723924965783,
          0.47831642164417704,
          0.47672557957368866,
          0.4744170366290765,
          0.47117746560474527,
          0.46676968291062976,
          0.4609443109325202,
          0.4534557640871514,
          0.4440805481552047,
          0.43263495227659926,
          0.41898933204199656,
          0.40307759487561834,
          0.38490271980030333,
          0.3645409478701705,
          0.3421473159870104,
          0.3179629609764179,
          0.29232105821579446,
          0.265645522256073,
          0.2384367404599284,
          0.21124215886512046,
          0.1846149577495678,
          0.15906863588335038,
          0.1350368761950107,
          0.11284615249753945,
          0.09270444459680027,
          0.07470513460920865,
          0.058842184453486435,
          0.045031575131120126,
          0.03313440612900054,
          0.022978312490371033,
          0.014375301866543056,
          0.007135330323300248,
          0.0010757635646268637,
          -0.0039726785070223645,
          -0.008162729741794283,
          -0.011629386891122206,
          -0.014490073017321237,
          -0.016845644455937125,
          -0.018781864118470316,
          -0.020371078279980925,
          -0.021673924110137733,
          -0.02274096203688609,
          -0.023614174184936033,
          -0.024328301897386505,
          -0.02491201572573225,
          -0.025388923578703905,
          -0.0257784295198489,
          -0.026096458887055453,
          -0.026356066313927128,
          -0.026567942782386767,
          -0.026740836640076936,
          -0.026881901969529266,
          -0.02699698604351015,
          -0.027090865986853306,
          -0.027167443268223623,
          -0.02722990330262993,
          -0.027280846268504265,
          -0.027322394228201884,
          -0.027356278776117814,
          -0.0273839127087633,
          -0.027406448599432486,
          -0.027424826650203783,
          -0.027439813770860244,
          -0.027452035484322755,
          -0.02746200196951145,
          -0.02747012931496857,
          -0.02747675686137483,
          -0.02748216135095962
         ],
         "yaxis": "y"
        }
       ],
       "layout": {
        "legend": {
         "tracegroupgap": 0
        },
        "margin": {
         "t": 60
        },
        "template": {
         "data": {
          "bar": [
           {
            "error_x": {
             "color": "#2a3f5f"
            },
            "error_y": {
             "color": "#2a3f5f"
            },
            "marker": {
             "line": {
              "color": "#E5ECF6",
              "width": 0.5
             }
            },
            "type": "bar"
           }
          ],
          "barpolar": [
           {
            "marker": {
             "line": {
              "color": "#E5ECF6",
              "width": 0.5
             }
            },
            "type": "barpolar"
           }
          ],
          "carpet": [
           {
            "aaxis": {
             "endlinecolor": "#2a3f5f",
             "gridcolor": "white",
             "linecolor": "white",
             "minorgridcolor": "white",
             "startlinecolor": "#2a3f5f"
            },
            "baxis": {
             "endlinecolor": "#2a3f5f",
             "gridcolor": "white",
             "linecolor": "white",
             "minorgridcolor": "white",
             "startlinecolor": "#2a3f5f"
            },
            "type": "carpet"
           }
          ],
          "choropleth": [
           {
            "colorbar": {
             "outlinewidth": 0,
             "ticks": ""
            },
            "type": "choropleth"
           }
          ],
          "contour": [
           {
            "colorbar": {
             "outlinewidth": 0,
             "ticks": ""
            },
            "colorscale": [
             [
              0,
              "#0d0887"
             ],
             [
              0.1111111111111111,
              "#46039f"
             ],
             [
              0.2222222222222222,
              "#7201a8"
             ],
             [
              0.3333333333333333,
              "#9c179e"
             ],
             [
              0.4444444444444444,
              "#bd3786"
             ],
             [
              0.5555555555555556,
              "#d8576b"
             ],
             [
              0.6666666666666666,
              "#ed7953"
             ],
             [
              0.7777777777777778,
              "#fb9f3a"
             ],
             [
              0.8888888888888888,
              "#fdca26"
             ],
             [
              1,
              "#f0f921"
             ]
            ],
            "type": "contour"
           }
          ],
          "contourcarpet": [
           {
            "colorbar": {
             "outlinewidth": 0,
             "ticks": ""
            },
            "type": "contourcarpet"
           }
          ],
          "heatmap": [
           {
            "colorbar": {
             "outlinewidth": 0,
             "ticks": ""
            },
            "colorscale": [
             [
              0,
              "#0d0887"
             ],
             [
              0.1111111111111111,
              "#46039f"
             ],
             [
              0.2222222222222222,
              "#7201a8"
             ],
             [
              0.3333333333333333,
              "#9c179e"
             ],
             [
              0.4444444444444444,
              "#bd3786"
             ],
             [
              0.5555555555555556,
              "#d8576b"
             ],
             [
              0.6666666666666666,
              "#ed7953"
             ],
             [
              0.7777777777777778,
              "#fb9f3a"
             ],
             [
              0.8888888888888888,
              "#fdca26"
             ],
             [
              1,
              "#f0f921"
             ]
            ],
            "type": "heatmap"
           }
          ],
          "heatmapgl": [
           {
            "colorbar": {
             "outlinewidth": 0,
             "ticks": ""
            },
            "colorscale": [
             [
              0,
              "#0d0887"
             ],
             [
              0.1111111111111111,
              "#46039f"
             ],
             [
              0.2222222222222222,
              "#7201a8"
             ],
             [
              0.3333333333333333,
              "#9c179e"
             ],
             [
              0.4444444444444444,
              "#bd3786"
             ],
             [
              0.5555555555555556,
              "#d8576b"
             ],
             [
              0.6666666666666666,
              "#ed7953"
             ],
             [
              0.7777777777777778,
              "#fb9f3a"
             ],
             [
              0.8888888888888888,
              "#fdca26"
             ],
             [
              1,
              "#f0f921"
             ]
            ],
            "type": "heatmapgl"
           }
          ],
          "histogram": [
           {
            "marker": {
             "colorbar": {
              "outlinewidth": 0,
              "ticks": ""
             }
            },
            "type": "histogram"
           }
          ],
          "histogram2d": [
           {
            "colorbar": {
             "outlinewidth": 0,
             "ticks": ""
            },
            "colorscale": [
             [
              0,
              "#0d0887"
             ],
             [
              0.1111111111111111,
              "#46039f"
             ],
             [
              0.2222222222222222,
              "#7201a8"
             ],
             [
              0.3333333333333333,
              "#9c179e"
             ],
             [
              0.4444444444444444,
              "#bd3786"
             ],
             [
              0.5555555555555556,
              "#d8576b"
             ],
             [
              0.6666666666666666,
              "#ed7953"
             ],
             [
              0.7777777777777778,
              "#fb9f3a"
             ],
             [
              0.8888888888888888,
              "#fdca26"
             ],
             [
              1,
              "#f0f921"
             ]
            ],
            "type": "histogram2d"
           }
          ],
          "histogram2dcontour": [
           {
            "colorbar": {
             "outlinewidth": 0,
             "ticks": ""
            },
            "colorscale": [
             [
              0,
              "#0d0887"
             ],
             [
              0.1111111111111111,
              "#46039f"
             ],
             [
              0.2222222222222222,
              "#7201a8"
             ],
             [
              0.3333333333333333,
              "#9c179e"
             ],
             [
              0.4444444444444444,
              "#bd3786"
             ],
             [
              0.5555555555555556,
              "#d8576b"
             ],
             [
              0.6666666666666666,
              "#ed7953"
             ],
             [
              0.7777777777777778,
              "#fb9f3a"
             ],
             [
              0.8888888888888888,
              "#fdca26"
             ],
             [
              1,
              "#f0f921"
             ]
            ],
            "type": "histogram2dcontour"
           }
          ],
          "mesh3d": [
           {
            "colorbar": {
             "outlinewidth": 0,
             "ticks": ""
            },
            "type": "mesh3d"
           }
          ],
          "parcoords": [
           {
            "line": {
             "colorbar": {
              "outlinewidth": 0,
              "ticks": ""
             }
            },
            "type": "parcoords"
           }
          ],
          "pie": [
           {
            "automargin": true,
            "type": "pie"
           }
          ],
          "scatter": [
           {
            "marker": {
             "colorbar": {
              "outlinewidth": 0,
              "ticks": ""
             }
            },
            "type": "scatter"
           }
          ],
          "scatter3d": [
           {
            "line": {
             "colorbar": {
              "outlinewidth": 0,
              "ticks": ""
             }
            },
            "marker": {
             "colorbar": {
              "outlinewidth": 0,
              "ticks": ""
             }
            },
            "type": "scatter3d"
           }
          ],
          "scattercarpet": [
           {
            "marker": {
             "colorbar": {
              "outlinewidth": 0,
              "ticks": ""
             }
            },
            "type": "scattercarpet"
           }
          ],
          "scattergeo": [
           {
            "marker": {
             "colorbar": {
              "outlinewidth": 0,
              "ticks": ""
             }
            },
            "type": "scattergeo"
           }
          ],
          "scattergl": [
           {
            "marker": {
             "colorbar": {
              "outlinewidth": 0,
              "ticks": ""
             }
            },
            "type": "scattergl"
           }
          ],
          "scattermapbox": [
           {
            "marker": {
             "colorbar": {
              "outlinewidth": 0,
              "ticks": ""
             }
            },
            "type": "scattermapbox"
           }
          ],
          "scatterpolar": [
           {
            "marker": {
             "colorbar": {
              "outlinewidth": 0,
              "ticks": ""
             }
            },
            "type": "scatterpolar"
           }
          ],
          "scatterpolargl": [
           {
            "marker": {
             "colorbar": {
              "outlinewidth": 0,
              "ticks": ""
             }
            },
            "type": "scatterpolargl"
           }
          ],
          "scatterternary": [
           {
            "marker": {
             "colorbar": {
              "outlinewidth": 0,
              "ticks": ""
             }
            },
            "type": "scatterternary"
           }
          ],
          "surface": [
           {
            "colorbar": {
             "outlinewidth": 0,
             "ticks": ""
            },
            "colorscale": [
             [
              0,
              "#0d0887"
             ],
             [
              0.1111111111111111,
              "#46039f"
             ],
             [
              0.2222222222222222,
              "#7201a8"
             ],
             [
              0.3333333333333333,
              "#9c179e"
             ],
             [
              0.4444444444444444,
              "#bd3786"
             ],
             [
              0.5555555555555556,
              "#d8576b"
             ],
             [
              0.6666666666666666,
              "#ed7953"
             ],
             [
              0.7777777777777778,
              "#fb9f3a"
             ],
             [
              0.8888888888888888,
              "#fdca26"
             ],
             [
              1,
              "#f0f921"
             ]
            ],
            "type": "surface"
           }
          ],
          "table": [
           {
            "cells": {
             "fill": {
              "color": "#EBF0F8"
             },
             "line": {
              "color": "white"
             }
            },
            "header": {
             "fill": {
              "color": "#C8D4E3"
             },
             "line": {
              "color": "white"
             }
            },
            "type": "table"
           }
          ]
         },
         "layout": {
          "annotationdefaults": {
           "arrowcolor": "#2a3f5f",
           "arrowhead": 0,
           "arrowwidth": 1
          },
          "coloraxis": {
           "colorbar": {
            "outlinewidth": 0,
            "ticks": ""
           }
          },
          "colorscale": {
           "diverging": [
            [
             0,
             "#8e0152"
            ],
            [
             0.1,
             "#c51b7d"
            ],
            [
             0.2,
             "#de77ae"
            ],
            [
             0.3,
             "#f1b6da"
            ],
            [
             0.4,
             "#fde0ef"
            ],
            [
             0.5,
             "#f7f7f7"
            ],
            [
             0.6,
             "#e6f5d0"
            ],
            [
             0.7,
             "#b8e186"
            ],
            [
             0.8,
             "#7fbc41"
            ],
            [
             0.9,
             "#4d9221"
            ],
            [
             1,
             "#276419"
            ]
           ],
           "sequential": [
            [
             0,
             "#0d0887"
            ],
            [
             0.1111111111111111,
             "#46039f"
            ],
            [
             0.2222222222222222,
             "#7201a8"
            ],
            [
             0.3333333333333333,
             "#9c179e"
            ],
            [
             0.4444444444444444,
             "#bd3786"
            ],
            [
             0.5555555555555556,
             "#d8576b"
            ],
            [
             0.6666666666666666,
             "#ed7953"
            ],
            [
             0.7777777777777778,
             "#fb9f3a"
            ],
            [
             0.8888888888888888,
             "#fdca26"
            ],
            [
             1,
             "#f0f921"
            ]
           ],
           "sequentialminus": [
            [
             0,
             "#0d0887"
            ],
            [
             0.1111111111111111,
             "#46039f"
            ],
            [
             0.2222222222222222,
             "#7201a8"
            ],
            [
             0.3333333333333333,
             "#9c179e"
            ],
            [
             0.4444444444444444,
             "#bd3786"
            ],
            [
             0.5555555555555556,
             "#d8576b"
            ],
            [
             0.6666666666666666,
             "#ed7953"
            ],
            [
             0.7777777777777778,
             "#fb9f3a"
            ],
            [
             0.8888888888888888,
             "#fdca26"
            ],
            [
             1,
             "#f0f921"
            ]
           ]
          },
          "colorway": [
           "#636efa",
           "#EF553B",
           "#00cc96",
           "#ab63fa",
           "#FFA15A",
           "#19d3f3",
           "#FF6692",
           "#B6E880",
           "#FF97FF",
           "#FECB52"
          ],
          "font": {
           "color": "#2a3f5f"
          },
          "geo": {
           "bgcolor": "white",
           "lakecolor": "white",
           "landcolor": "#E5ECF6",
           "showlakes": true,
           "showland": true,
           "subunitcolor": "white"
          },
          "hoverlabel": {
           "align": "left"
          },
          "hovermode": "closest",
          "mapbox": {
           "style": "light"
          },
          "paper_bgcolor": "white",
          "plot_bgcolor": "#E5ECF6",
          "polar": {
           "angularaxis": {
            "gridcolor": "white",
            "linecolor": "white",
            "ticks": ""
           },
           "bgcolor": "#E5ECF6",
           "radialaxis": {
            "gridcolor": "white",
            "linecolor": "white",
            "ticks": ""
           }
          },
          "scene": {
           "xaxis": {
            "backgroundcolor": "#E5ECF6",
            "gridcolor": "white",
            "gridwidth": 2,
            "linecolor": "white",
            "showbackground": true,
            "ticks": "",
            "zerolinecolor": "white"
           },
           "yaxis": {
            "backgroundcolor": "#E5ECF6",
            "gridcolor": "white",
            "gridwidth": 2,
            "linecolor": "white",
            "showbackground": true,
            "ticks": "",
            "zerolinecolor": "white"
           },
           "zaxis": {
            "backgroundcolor": "#E5ECF6",
            "gridcolor": "white",
            "gridwidth": 2,
            "linecolor": "white",
            "showbackground": true,
            "ticks": "",
            "zerolinecolor": "white"
           }
          },
          "shapedefaults": {
           "line": {
            "color": "#2a3f5f"
           }
          },
          "ternary": {
           "aaxis": {
            "gridcolor": "white",
            "linecolor": "white",
            "ticks": ""
           },
           "baxis": {
            "gridcolor": "white",
            "linecolor": "white",
            "ticks": ""
           },
           "bgcolor": "#E5ECF6",
           "caxis": {
            "gridcolor": "white",
            "linecolor": "white",
            "ticks": ""
           }
          },
          "title": {
           "x": 0.05
          },
          "xaxis": {
           "automargin": true,
           "gridcolor": "white",
           "linecolor": "white",
           "ticks": "",
           "title": {
            "standoff": 15
           },
           "zerolinecolor": "white",
           "zerolinewidth": 2
          },
          "yaxis": {
           "automargin": true,
           "gridcolor": "white",
           "linecolor": "white",
           "ticks": "",
           "title": {
            "standoff": 15
           },
           "zerolinecolor": "white",
           "zerolinewidth": 2
          }
         }
        },
        "xaxis": {
         "anchor": "y",
         "domain": [
          0,
          1
         ],
         "title": {
          "text": "alpha"
         },
         "type": "log"
        },
        "yaxis": {
         "anchor": "x",
         "domain": [
          0,
          1
         ],
         "title": {
          "text": "R^2 (mean)"
         }
        }
       }
      },
      "text/html": "<div>                            <div id=\"e7e14c6a-c97a-4ea7-b050-ade5c0fe92ff\" class=\"plotly-graph-div\" style=\"height:525px; width:100%;\"></div>            <script type=\"text/javascript\">                require([\"plotly\"], function(Plotly) {                    window.PLOTLYENV=window.PLOTLYENV || {};                                    if (document.getElementById(\"e7e14c6a-c97a-4ea7-b050-ade5c0fe92ff\")) {                    Plotly.newPlot(                        \"e7e14c6a-c97a-4ea7-b050-ade5c0fe92ff\",                        [{\"hovertemplate\": \"alpha=%{x}<br>R^2 (mean)=%{y}<extra></extra>\", \"legendgroup\": \"\", \"line\": {\"color\": \"#636efa\", \"dash\": \"solid\"}, \"mode\": \"lines\", \"name\": \"\", \"orientation\": \"v\", \"showlegend\": false, \"type\": \"scatter\", \"x\": [0.01, 0.012263306841775632, 0.015038869469554102, 0.018442627085855347, 0.022616759492228647, 0.02773562614198415, 0.03401304938279251, 0.04171124612056518, 0.051151780992931425, 0.06272899858196247, 0.07692649574879142, 0.09433732216299774, 0.1156887528316282, 0.1418726674116596, 0.1739828052930364, 0.21336045265014109, 0.2616504698748821, 0.320869999737045, 0.39349272630958493, 0.48255220427412787, 0.5917685748188825, 0.7257039612324212, 0.8899530352885229, 1.0913767146512738, 1.3383887531737564, 1.6413071953751284, 2.0127853758499383, 2.4683404670686486, 3.0270016537634614, 3.7121050090663608, 4.55226827550731, 5.582586268862695, 6.846096838574658, 8.395578619995112, 10.295755673125127, 12.626001098748565, 15.48365256585499, 18.988078244652634, 23.285662984981965, 28.55592301990109, 35.019004614317126, 42.944879887892725, 52.66462393484275, 64.58424430196978, 79.20164050192548, 97.12740198471168, 119.11031332830079, 146.06863203649888, 179.1284454622002, 219.67070907932353, 269.388930959017, 330.35991201283395, 405.1304969235378, 496.8239594734388, 609.2704661368674, 747.1670675868082, 916.2739011886731, 1123.6548001387516, 1377.9723598335568, 1689.8497868124587, 2072.3146452190294, 2541.343036702639, 3116.52694492943, 3821.8926206331225, 4686.904192314192, 5747.694424835347, 7048.574036451903, 8643.882620598262, 10600.258488068825, 12999.42224413245, 15941.590374559995, 19549.661430912594, 23974.349678010785, 29400.480643347077, 36054.71154250506, 44214.99907374487, 54222.21006501592, 66494.35996665046, 81544.07395185171, 100000.0], \"xaxis\": \"x\", \"y\": [0.48144417772216797, 0.4813158815207716, 0.4811997917154634, 0.4811014321239851, 0.48102369448536086, 0.4809655116042048, 0.48092043302339194, 0.4808749831550438, 0.4808066316318117, 0.48068119942229226, 0.48044957672172595, 0.4800437553733386, 0.4793723924965783, 0.47831642164417704, 0.47672557957368866, 0.4744170366290765, 0.47117746560474527, 0.46676968291062976, 0.4609443109325202, 0.4534557640871514, 0.4440805481552047, 0.43263495227659926, 0.41898933204199656, 0.40307759487561834, 0.38490271980030333, 0.3645409478701705, 0.3421473159870104, 0.3179629609764179, 0.29232105821579446, 0.265645522256073, 0.2384367404599284, 0.21124215886512046, 0.1846149577495678, 0.15906863588335038, 0.1350368761950107, 0.11284615249753945, 0.09270444459680027, 0.07470513460920865, 0.058842184453486435, 0.045031575131120126, 0.03313440612900054, 0.022978312490371033, 0.014375301866543056, 0.007135330323300248, 0.0010757635646268637, -0.0039726785070223645, -0.008162729741794283, -0.011629386891122206, -0.014490073017321237, -0.016845644455937125, -0.018781864118470316, -0.020371078279980925, -0.021673924110137733, -0.02274096203688609, -0.023614174184936033, -0.024328301897386505, -0.02491201572573225, -0.025388923578703905, -0.0257784295198489, -0.026096458887055453, -0.026356066313927128, -0.026567942782386767, -0.026740836640076936, -0.026881901969529266, -0.02699698604351015, -0.027090865986853306, -0.027167443268223623, -0.02722990330262993, -0.027280846268504265, -0.027322394228201884, -0.027356278776117814, -0.0273839127087633, -0.027406448599432486, -0.027424826650203783, -0.027439813770860244, -0.027452035484322755, -0.02746200196951145, -0.02747012931496857, -0.02747675686137483, -0.02748216135095962], \"yaxis\": \"y\"}],                        {\"legend\": {\"tracegroupgap\": 0}, \"margin\": {\"t\": 60}, \"template\": {\"data\": {\"bar\": [{\"error_x\": {\"color\": \"#2a3f5f\"}, \"error_y\": {\"color\": \"#2a3f5f\"}, \"marker\": {\"line\": {\"color\": \"#E5ECF6\", \"width\": 0.5}}, \"type\": \"bar\"}], \"barpolar\": [{\"marker\": {\"line\": {\"color\": \"#E5ECF6\", \"width\": 0.5}}, \"type\": \"barpolar\"}], \"carpet\": [{\"aaxis\": {\"endlinecolor\": \"#2a3f5f\", \"gridcolor\": \"white\", \"linecolor\": \"white\", \"minorgridcolor\": \"white\", \"startlinecolor\": \"#2a3f5f\"}, \"baxis\": {\"endlinecolor\": \"#2a3f5f\", \"gridcolor\": \"white\", \"linecolor\": \"white\", \"minorgridcolor\": \"white\", \"startlinecolor\": \"#2a3f5f\"}, \"type\": \"carpet\"}], \"choropleth\": [{\"colorbar\": {\"outlinewidth\": 0, \"ticks\": \"\"}, \"type\": \"choropleth\"}], \"contour\": [{\"colorbar\": {\"outlinewidth\": 0, \"ticks\": \"\"}, \"colorscale\": [[0.0, \"#0d0887\"], [0.1111111111111111, \"#46039f\"], [0.2222222222222222, \"#7201a8\"], [0.3333333333333333, \"#9c179e\"], [0.4444444444444444, \"#bd3786\"], [0.5555555555555556, \"#d8576b\"], [0.6666666666666666, \"#ed7953\"], [0.7777777777777778, \"#fb9f3a\"], [0.8888888888888888, \"#fdca26\"], [1.0, \"#f0f921\"]], \"type\": \"contour\"}], \"contourcarpet\": [{\"colorbar\": {\"outlinewidth\": 0, \"ticks\": \"\"}, \"type\": \"contourcarpet\"}], \"heatmap\": [{\"colorbar\": {\"outlinewidth\": 0, \"ticks\": \"\"}, \"colorscale\": [[0.0, \"#0d0887\"], [0.1111111111111111, \"#46039f\"], [0.2222222222222222, \"#7201a8\"], [0.3333333333333333, \"#9c179e\"], [0.4444444444444444, \"#bd3786\"], [0.5555555555555556, \"#d8576b\"], [0.6666666666666666, \"#ed7953\"], [0.7777777777777778, \"#fb9f3a\"], [0.8888888888888888, \"#fdca26\"], [1.0, \"#f0f921\"]], \"type\": \"heatmap\"}], \"heatmapgl\": [{\"colorbar\": {\"outlinewidth\": 0, \"ticks\": \"\"}, \"colorscale\": [[0.0, \"#0d0887\"], [0.1111111111111111, \"#46039f\"], [0.2222222222222222, \"#7201a8\"], [0.3333333333333333, \"#9c179e\"], [0.4444444444444444, \"#bd3786\"], [0.5555555555555556, \"#d8576b\"], [0.6666666666666666, \"#ed7953\"], [0.7777777777777778, \"#fb9f3a\"], [0.8888888888888888, \"#fdca26\"], [1.0, \"#f0f921\"]], \"type\": \"heatmapgl\"}], \"histogram\": [{\"marker\": {\"colorbar\": {\"outlinewidth\": 0, \"ticks\": \"\"}}, \"type\": \"histogram\"}], \"histogram2d\": [{\"colorbar\": {\"outlinewidth\": 0, \"ticks\": \"\"}, \"colorscale\": [[0.0, \"#0d0887\"], [0.1111111111111111, \"#46039f\"], [0.2222222222222222, \"#7201a8\"], [0.3333333333333333, \"#9c179e\"], [0.4444444444444444, \"#bd3786\"], [0.5555555555555556, \"#d8576b\"], [0.6666666666666666, \"#ed7953\"], [0.7777777777777778, \"#fb9f3a\"], [0.8888888888888888, \"#fdca26\"], [1.0, \"#f0f921\"]], \"type\": \"histogram2d\"}], \"histogram2dcontour\": [{\"colorbar\": {\"outlinewidth\": 0, \"ticks\": \"\"}, \"colorscale\": [[0.0, \"#0d0887\"], [0.1111111111111111, \"#46039f\"], [0.2222222222222222, \"#7201a8\"], [0.3333333333333333, \"#9c179e\"], [0.4444444444444444, \"#bd3786\"], [0.5555555555555556, \"#d8576b\"], [0.6666666666666666, \"#ed7953\"], [0.7777777777777778, \"#fb9f3a\"], [0.8888888888888888, \"#fdca26\"], [1.0, \"#f0f921\"]], \"type\": \"histogram2dcontour\"}], \"mesh3d\": [{\"colorbar\": {\"outlinewidth\": 0, \"ticks\": \"\"}, \"type\": \"mesh3d\"}], \"parcoords\": [{\"line\": {\"colorbar\": {\"outlinewidth\": 0, \"ticks\": \"\"}}, \"type\": \"parcoords\"}], \"pie\": [{\"automargin\": true, \"type\": \"pie\"}], \"scatter\": [{\"marker\": {\"colorbar\": {\"outlinewidth\": 0, \"ticks\": \"\"}}, \"type\": \"scatter\"}], \"scatter3d\": [{\"line\": {\"colorbar\": {\"outlinewidth\": 0, \"ticks\": \"\"}}, \"marker\": {\"colorbar\": {\"outlinewidth\": 0, \"ticks\": \"\"}}, \"type\": \"scatter3d\"}], \"scattercarpet\": [{\"marker\": {\"colorbar\": {\"outlinewidth\": 0, \"ticks\": \"\"}}, \"type\": \"scattercarpet\"}], \"scattergeo\": [{\"marker\": {\"colorbar\": {\"outlinewidth\": 0, \"ticks\": \"\"}}, \"type\": \"scattergeo\"}], \"scattergl\": [{\"marker\": {\"colorbar\": {\"outlinewidth\": 0, \"ticks\": \"\"}}, \"type\": \"scattergl\"}], \"scattermapbox\": [{\"marker\": {\"colorbar\": {\"outlinewidth\": 0, \"ticks\": \"\"}}, \"type\": \"scattermapbox\"}], \"scatterpolar\": [{\"marker\": {\"colorbar\": {\"outlinewidth\": 0, \"ticks\": \"\"}}, \"type\": \"scatterpolar\"}], \"scatterpolargl\": [{\"marker\": {\"colorbar\": {\"outlinewidth\": 0, \"ticks\": \"\"}}, \"type\": \"scatterpolargl\"}], \"scatterternary\": [{\"marker\": {\"colorbar\": {\"outlinewidth\": 0, \"ticks\": \"\"}}, \"type\": \"scatterternary\"}], \"surface\": [{\"colorbar\": {\"outlinewidth\": 0, \"ticks\": \"\"}, \"colorscale\": [[0.0, \"#0d0887\"], [0.1111111111111111, \"#46039f\"], [0.2222222222222222, \"#7201a8\"], [0.3333333333333333, \"#9c179e\"], [0.4444444444444444, \"#bd3786\"], [0.5555555555555556, \"#d8576b\"], [0.6666666666666666, \"#ed7953\"], [0.7777777777777778, \"#fb9f3a\"], [0.8888888888888888, \"#fdca26\"], [1.0, \"#f0f921\"]], \"type\": \"surface\"}], \"table\": [{\"cells\": {\"fill\": {\"color\": \"#EBF0F8\"}, \"line\": {\"color\": \"white\"}}, \"header\": {\"fill\": {\"color\": \"#C8D4E3\"}, \"line\": {\"color\": \"white\"}}, \"type\": \"table\"}]}, \"layout\": {\"annotationdefaults\": {\"arrowcolor\": \"#2a3f5f\", \"arrowhead\": 0, \"arrowwidth\": 1}, \"coloraxis\": {\"colorbar\": {\"outlinewidth\": 0, \"ticks\": \"\"}}, \"colorscale\": {\"diverging\": [[0, \"#8e0152\"], [0.1, \"#c51b7d\"], [0.2, \"#de77ae\"], [0.3, \"#f1b6da\"], [0.4, \"#fde0ef\"], [0.5, \"#f7f7f7\"], [0.6, \"#e6f5d0\"], [0.7, \"#b8e186\"], [0.8, \"#7fbc41\"], [0.9, \"#4d9221\"], [1, \"#276419\"]], \"sequential\": [[0.0, \"#0d0887\"], [0.1111111111111111, \"#46039f\"], [0.2222222222222222, \"#7201a8\"], [0.3333333333333333, \"#9c179e\"], [0.4444444444444444, \"#bd3786\"], [0.5555555555555556, \"#d8576b\"], [0.6666666666666666, \"#ed7953\"], [0.7777777777777778, \"#fb9f3a\"], [0.8888888888888888, \"#fdca26\"], [1.0, \"#f0f921\"]], \"sequentialminus\": [[0.0, \"#0d0887\"], [0.1111111111111111, \"#46039f\"], [0.2222222222222222, \"#7201a8\"], [0.3333333333333333, \"#9c179e\"], [0.4444444444444444, \"#bd3786\"], [0.5555555555555556, \"#d8576b\"], [0.6666666666666666, \"#ed7953\"], [0.7777777777777778, \"#fb9f3a\"], [0.8888888888888888, \"#fdca26\"], [1.0, \"#f0f921\"]]}, \"colorway\": [\"#636efa\", \"#EF553B\", \"#00cc96\", \"#ab63fa\", \"#FFA15A\", \"#19d3f3\", \"#FF6692\", \"#B6E880\", \"#FF97FF\", \"#FECB52\"], \"font\": {\"color\": \"#2a3f5f\"}, \"geo\": {\"bgcolor\": \"white\", \"lakecolor\": \"white\", \"landcolor\": \"#E5ECF6\", \"showlakes\": true, \"showland\": true, \"subunitcolor\": \"white\"}, \"hoverlabel\": {\"align\": \"left\"}, \"hovermode\": \"closest\", \"mapbox\": {\"style\": \"light\"}, \"paper_bgcolor\": \"white\", \"plot_bgcolor\": \"#E5ECF6\", \"polar\": {\"angularaxis\": {\"gridcolor\": \"white\", \"linecolor\": \"white\", \"ticks\": \"\"}, \"bgcolor\": \"#E5ECF6\", \"radialaxis\": {\"gridcolor\": \"white\", \"linecolor\": \"white\", \"ticks\": \"\"}}, \"scene\": {\"xaxis\": {\"backgroundcolor\": \"#E5ECF6\", \"gridcolor\": \"white\", \"gridwidth\": 2, \"linecolor\": \"white\", \"showbackground\": true, \"ticks\": \"\", \"zerolinecolor\": \"white\"}, \"yaxis\": {\"backgroundcolor\": \"#E5ECF6\", \"gridcolor\": \"white\", \"gridwidth\": 2, \"linecolor\": \"white\", \"showbackground\": true, \"ticks\": \"\", \"zerolinecolor\": \"white\"}, \"zaxis\": {\"backgroundcolor\": \"#E5ECF6\", \"gridcolor\": \"white\", \"gridwidth\": 2, \"linecolor\": \"white\", \"showbackground\": true, \"ticks\": \"\", \"zerolinecolor\": \"white\"}}, \"shapedefaults\": {\"line\": {\"color\": \"#2a3f5f\"}}, \"ternary\": {\"aaxis\": {\"gridcolor\": \"white\", \"linecolor\": \"white\", \"ticks\": \"\"}, \"baxis\": {\"gridcolor\": \"white\", \"linecolor\": \"white\", \"ticks\": \"\"}, \"bgcolor\": \"#E5ECF6\", \"caxis\": {\"gridcolor\": \"white\", \"linecolor\": \"white\", \"ticks\": \"\"}}, \"title\": {\"x\": 0.05}, \"xaxis\": {\"automargin\": true, \"gridcolor\": \"white\", \"linecolor\": \"white\", \"ticks\": \"\", \"title\": {\"standoff\": 15}, \"zerolinecolor\": \"white\", \"zerolinewidth\": 2}, \"yaxis\": {\"automargin\": true, \"gridcolor\": \"white\", \"linecolor\": \"white\", \"ticks\": \"\", \"title\": {\"standoff\": 15}, \"zerolinecolor\": \"white\", \"zerolinewidth\": 2}}}, \"xaxis\": {\"anchor\": \"y\", \"domain\": [0.0, 1.0], \"title\": {\"text\": \"alpha\"}, \"type\": \"log\"}, \"yaxis\": {\"anchor\": \"x\", \"domain\": [0.0, 1.0], \"title\": {\"text\": \"R^2 (mean)\"}}},                        {\"responsive\": true}                    ).then(function(){\n                            \nvar gd = document.getElementById('e7e14c6a-c97a-4ea7-b050-ade5c0fe92ff');\nvar x = new MutationObserver(function (mutations, observer) {{\n        var display = window.getComputedStyle(gd).display;\n        if (!display || display === 'none') {{\n            console.log([gd, 'removed!']);\n            Plotly.purge(gd);\n            observer.disconnect();\n        }}\n}});\n\n// Listen for the removal of the full notebook cells\nvar notebookContainer = gd.closest('#notebook-container');\nif (notebookContainer) {{\n    x.observe(notebookContainer, {childList: true});\n}}\n\n// Listen for the clearing of the current output cell\nvar outputEl = gd.closest('.output');\nif (outputEl) {{\n    x.observe(outputEl, {childList: true});\n}}\n\n                        })                };                });            </script>        </div>"
     },
     "metadata": {}
    }
   ],
   "source": [
    "# we pick alpha before the drop of the R^2 value\n",
    "r2_means = []\n",
    "\n",
    "for i in alphas:\n",
    "    r2_means.append(cross_val_score(Ridge(alpha=i), original_X, original_y).mean())\n",
    "\n",
    "result = pd.DataFrame(zip(alphas, r2_means), columns=['alpha', 'R^2 (mean)'])\n",
    "fig = px.line(result, x='alpha', y='R^2 (mean)')\n",
    "fig.update_xaxes(type='log')\n",
    "fig.show()"
   ]
  },
  {
   "source": [
    "## Coefficients"
   ],
   "cell_type": "markdown",
   "metadata": {}
  },
  {
   "cell_type": "code",
   "execution_count": 40,
   "metadata": {},
   "outputs": [
    {
     "output_type": "display_data",
     "data": {
      "application/vnd.plotly.v1+json": {
       "config": {
        "plotlyServerURL": "https://plot.ly"
       },
       "data": [
        {
         "hovertemplate": "variable=age<br>alphas=%{x}<br>value=%{y}<extra></extra>",
         "legendgroup": "age",
         "line": {
          "color": "#636efa",
          "dash": "solid"
         },
         "mode": "lines",
         "name": "age",
         "orientation": "v",
         "showlegend": true,
         "type": "scatter",
         "x": [
          0.01,
          0.012263306841775632,
          0.015038869469554102,
          0.018442627085855347,
          0.022616759492228647,
          0.02773562614198415,
          0.03401304938279251,
          0.04171124612056518,
          0.051151780992931425,
          0.06272899858196247,
          0.07692649574879142,
          0.09433732216299774,
          0.1156887528316282,
          0.1418726674116596,
          0.1739828052930364,
          0.21336045265014109,
          0.2616504698748821,
          0.320869999737045,
          0.39349272630958493,
          0.48255220427412787,
          0.5917685748188825,
          0.7257039612324212,
          0.8899530352885229,
          1.0913767146512738,
          1.3383887531737564,
          1.6413071953751284,
          2.0127853758499383,
          2.4683404670686486,
          3.0270016537634614,
          3.7121050090663608,
          4.55226827550731,
          5.582586268862695,
          6.846096838574658,
          8.395578619995112,
          10.295755673125127,
          12.626001098748565,
          15.48365256585499,
          18.988078244652634,
          23.285662984981965,
          28.55592301990109,
          35.019004614317126,
          42.944879887892725,
          52.66462393484275,
          64.58424430196978,
          79.20164050192548,
          97.12740198471168,
          119.11031332830079,
          146.06863203649888,
          179.1284454622002,
          219.67070907932353,
          269.388930959017,
          330.35991201283395,
          405.1304969235378,
          496.8239594734388,
          609.2704661368674,
          747.1670675868082,
          916.2739011886731,
          1123.6548001387516,
          1377.9723598335568,
          1689.8497868124587,
          2072.3146452190294,
          2541.343036702639,
          3116.52694492943,
          3821.8926206331225,
          4686.904192314192,
          5747.694424835347,
          7048.574036451903,
          8643.882620598262,
          10600.258488068825,
          12999.42224413245,
          15941.590374559995,
          19549.661430912594,
          23974.349678010785,
          29400.480643347077,
          36054.71154250506,
          44214.99907374487,
          54222.21006501592,
          66494.35996665046,
          81544.07395185171,
          100000
         ],
         "xaxis": "x",
         "y": [
          -7.199456785345529,
          -6.819371685980138,
          -6.401462489935149,
          -5.939689643693061,
          -5.4257225087159675,
          -4.848652570606075,
          -4.194819167034302,
          -3.447757490051638,
          -2.5882869760484373,
          -1.594781101644961,
          -0.443693758328258,
          0.8895438518885981,
          2.4291086451735437,
          4.196693296556708,
          6.208603342855545,
          8.472002979669307,
          10.980448052307526,
          13.70911891576466,
          16.610506555094283,
          19.61162752063603,
          22.614002794569696,
          25.497468271641047,
          28.128290414719384,
          30.37110145797533,
          32.103103273772575,
          33.228191696477424,
          33.68843611229703,
          33.47080463489478,
          32.60799506975238,
          31.173412423923832,
          29.271417928878645,
          27.02473684497438,
          24.561226157183278,
          22.002040689599983,
          19.452675938646028,
          16.997586181085165,
          14.698302865894183,
          12.594402297016003,
          10.70638596936986,
          9.039524909126499,
          7.587892236087225,
          6.338059083474127,
          5.272173405585138,
          4.370332201443703,
          3.612281962985334,
          2.978547351414388,
          2.451110457405338,
          2.0137591410798055,
          1.6522060150071176,
          1.3540583855357082,
          1.1086989019886133,
          0.9071191109868973,
          0.7417342673023922,
          0.6061974349598582,
          0.4952235690849984,
          0.40442925390080997,
          0.33019048658511785,
          0.2695188442472439,
          0.219955167893672,
          0.1794792592216905,
          0.14643381134517605,
          0.11946074350341845,
          0.097448188604673,
          0.07948652979548103,
          0.06483205929613559,
          0.05287701586555532,
          0.04312493285192685,
          0.03517038971172528,
          0.028682403051911505,
          0.023390818024031652,
          0.01907516802578478,
          0.015555561623651348,
          0.012685232189676904,
          0.010344449800348526,
          0.00843554825208897,
          0.006878864232307703,
          0.00560942219200053,
          0.004574228553223162,
          0.0037300636309862485,
          0.0030416799692098368
         ],
         "yaxis": "y"
        },
        {
         "hovertemplate": "variable=sex<br>alphas=%{x}<br>value=%{y}<extra></extra>",
         "legendgroup": "sex",
         "line": {
          "color": "#EF553B",
          "dash": "solid"
         },
         "mode": "lines",
         "name": "sex",
         "orientation": "v",
         "showlegend": true,
         "type": "scatter",
         "x": [
          0.01,
          0.012263306841775632,
          0.015038869469554102,
          0.018442627085855347,
          0.022616759492228647,
          0.02773562614198415,
          0.03401304938279251,
          0.04171124612056518,
          0.051151780992931425,
          0.06272899858196247,
          0.07692649574879142,
          0.09433732216299774,
          0.1156887528316282,
          0.1418726674116596,
          0.1739828052930364,
          0.21336045265014109,
          0.2616504698748821,
          0.320869999737045,
          0.39349272630958493,
          0.48255220427412787,
          0.5917685748188825,
          0.7257039612324212,
          0.8899530352885229,
          1.0913767146512738,
          1.3383887531737564,
          1.6413071953751284,
          2.0127853758499383,
          2.4683404670686486,
          3.0270016537634614,
          3.7121050090663608,
          4.55226827550731,
          5.582586268862695,
          6.846096838574658,
          8.395578619995112,
          10.295755673125127,
          12.626001098748565,
          15.48365256585499,
          18.988078244652634,
          23.285662984981965,
          28.55592301990109,
          35.019004614317126,
          42.944879887892725,
          52.66462393484275,
          64.58424430196978,
          79.20164050192548,
          97.12740198471168,
          119.11031332830079,
          146.06863203649888,
          179.1284454622002,
          219.67070907932353,
          269.388930959017,
          330.35991201283395,
          405.1304969235378,
          496.8239594734388,
          609.2704661368674,
          747.1670675868082,
          916.2739011886731,
          1123.6548001387516,
          1377.9723598335568,
          1689.8497868124587,
          2072.3146452190294,
          2541.343036702639,
          3116.52694492943,
          3821.8926206331225,
          4686.904192314192,
          5747.694424835347,
          7048.574036451903,
          8643.882620598262,
          10600.258488068825,
          12999.42224413245,
          15941.590374559995,
          19549.661430912594,
          23974.349678010785,
          29400.480643347077,
          36054.71154250506,
          44214.99907374487,
          54222.21006501592,
          66494.35996665046,
          81544.07395185171,
          100000
         ],
         "xaxis": "x",
         "y": [
          -234.55293000528698,
          -233.6514285836921,
          -232.60146835957937,
          -231.37316143032828,
          -229.9293379739335,
          -228.22445273967753,
          -226.20359688069144,
          -223.8016899624381,
          -220.94297341221275,
          -217.54100043843093,
          -213.49941407859785,
          -208.71391225911984,
          -203.07589261980533,
          -196.4783092412031,
          -188.82419644757755,
          -180.0380442472702,
          -170.0796760656099,
          -158.95946679136222,
          -146.752749331776,
          -133.61035763958517,
          -119.76185695670912,
          -105.50854569988967,
          -91.20498553863207,
          -77.23038482518494,
          -63.95388536318645,
          -51.69969390284672,
          -40.7182873253808,
          -31.16846445575277,
          -23.112380320176108,
          -16.522829713561272,
          -11.299811738828986,
          -7.2922657951580545,
          -4.320835737230263,
          -2.1983108458138525,
          -0.7456181986630952,
          0.19747095682736476,
          0.7666889495668862,
          1.0717456523647837,
          1.1977025181073784,
          1.2080440564821424,
          1.148464659425525,
          1.0506836890819864,
          0.9358827082401178,
          0.8175794790871926,
          0.7039020540080142,
          0.5993115862527963,
          0.5058611662348419,
          0.4240869934546518,
          0.35362099782658735,
          0.29359980426089133,
          0.24292916906541642,
          0.2004485257760133,
          0.16502820202750115,
          0.13562240856778637,
          0.11129400327448077,
          0.09122187679387452,
          0.07469815577228359,
          0.061119889924296227,
          0.04997816936061887,
          0.040846470408511824,
          0.033369275718807524,
          0.02725153143786515,
          0.022249201798261526,
          0.018160998250949956,
          0.014821254411263404,
          0.01209386152600043,
          0.009867153254465954,
          0.008049621099137394,
          0.006566344962006088,
          0.005356032065241475,
          0.0043685687823091365,
          0.0035630019346582003,
          0.002905877767174342,
          0.0023698775686651755,
          0.0019326985044029867,
          0.0015761366118310024,
          0.0012853361174463825,
          0.0010481753563690293,
          0.0008547647337790085,
          0.0006970364826088119
         ],
         "yaxis": "y"
        },
        {
         "hovertemplate": "variable=bmi<br>alphas=%{x}<br>value=%{y}<extra></extra>",
         "legendgroup": "bmi",
         "line": {
          "color": "#00cc96",
          "dash": "solid"
         },
         "mode": "lines",
         "name": "bmi",
         "orientation": "v",
         "showlegend": true,
         "type": "scatter",
         "x": [
          0.01,
          0.012263306841775632,
          0.015038869469554102,
          0.018442627085855347,
          0.022616759492228647,
          0.02773562614198415,
          0.03401304938279251,
          0.04171124612056518,
          0.051151780992931425,
          0.06272899858196247,
          0.07692649574879142,
          0.09433732216299774,
          0.1156887528316282,
          0.1418726674116596,
          0.1739828052930364,
          0.21336045265014109,
          0.2616504698748821,
          0.320869999737045,
          0.39349272630958493,
          0.48255220427412787,
          0.5917685748188825,
          0.7257039612324212,
          0.8899530352885229,
          1.0913767146512738,
          1.3383887531737564,
          1.6413071953751284,
          2.0127853758499383,
          2.4683404670686486,
          3.0270016537634614,
          3.7121050090663608,
          4.55226827550731,
          5.582586268862695,
          6.846096838574658,
          8.395578619995112,
          10.295755673125127,
          12.626001098748565,
          15.48365256585499,
          18.988078244652634,
          23.285662984981965,
          28.55592301990109,
          35.019004614317126,
          42.944879887892725,
          52.66462393484275,
          64.58424430196978,
          79.20164050192548,
          97.12740198471168,
          119.11031332830079,
          146.06863203649888,
          179.1284454622002,
          219.67070907932353,
          269.388930959017,
          330.35991201283395,
          405.1304969235378,
          496.8239594734388,
          609.2704661368674,
          747.1670675868082,
          916.2739011886731,
          1123.6548001387516,
          1377.9723598335568,
          1689.8497868124587,
          2072.3146452190294,
          2541.343036702639,
          3116.52694492943,
          3821.8926206331225,
          4686.904192314192,
          5747.694424835347,
          7048.574036451903,
          8643.882620598262,
          10600.258488068825,
          12999.42224413245,
          15941.590374559995,
          19549.661430912594,
          23974.349678010785,
          29400.480643347077,
          36054.71154250506,
          44214.99907374487,
          54222.21006501592,
          66494.35996665046,
          81544.07395185171,
          100000
         ],
         "xaxis": "x",
         "y": [
          520.5831362163512,
          520.1173020769791,
          519.4316668895137,
          518.4740176541519,
          517.1846914475515,
          515.4953286823549,
          513.3273765851895,
          510.5905195270559,
          507.1812922732509,
          502.9821990317527,
          497.8617184681272,
          491.67562406687017,
          484.2700835473583,
          475.4869994629301,
          465.17197691553883,
          453.1851001602439,
          439.41431467174374,
          423.7906224516276,
          406.3035562607989,
          387.0146643796082,
          366.06628618307184,
          343.68304858967065,
          320.1644741515276,
          295.8687855150868,
          271.18996809266554,
          246.5317138579588,
          222.28238979487358,
          198.79445415746292,
          176.3701409800647,
          155.2534743535399,
          135.62745088756665,
          117.61485076642299,
          101.2814460403321,
          86.64093469041066,
          73.66133357876707,
          62.27264154534706,
          52.37541427335659,
          43.84967248682076,
          36.56345985956229,
          30.38043333936227,
          25.166065402909304,
          20.792281795175562,
          17.14057549471233,
          14.103787526247663,
          11.5868206134182,
          9.506566185790552,
          7.791300146137819,
          6.379757939159161,
          5.220049425289614,
          4.268527641601975,
          3.48868687142122,
          2.85013561709267,
          2.3276684390581384,
          1.9004458042045729,
          1.5512815261455986,
          1.2660316609129576,
          1.0330756763360924,
          0.842879445559813,
          0.6876294697544241,
          0.5609282530585656,
          0.45754162430400397,
          0.3731898238634526,
          0.30437522508466186,
          0.24824056518651014,
          0.20245248141537114,
          0.16510596777931325,
          0.13464608228124464,
          0.10980384850595733,
          0.08954381702295514,
          0.07302119147868717,
          0.05954679198943763,
          0.0485584346165033,
          0.03959755957922553,
          0.03229015069080036,
          0.02633116147959162,
          0.021471805761358598,
          0.017509187299782365,
          0.014277839049394303,
          0.01164282100972292,
          0.009494090005683693
         ],
         "yaxis": "y"
        },
        {
         "hovertemplate": "variable=bp<br>alphas=%{x}<br>value=%{y}<extra></extra>",
         "legendgroup": "bp",
         "line": {
          "color": "#ab63fa",
          "dash": "solid"
         },
         "mode": "lines",
         "name": "bp",
         "orientation": "v",
         "showlegend": true,
         "type": "scatter",
         "x": [
          0.01,
          0.012263306841775632,
          0.015038869469554102,
          0.018442627085855347,
          0.022616759492228647,
          0.02773562614198415,
          0.03401304938279251,
          0.04171124612056518,
          0.051151780992931425,
          0.06272899858196247,
          0.07692649574879142,
          0.09433732216299774,
          0.1156887528316282,
          0.1418726674116596,
          0.1739828052930364,
          0.21336045265014109,
          0.2616504698748821,
          0.320869999737045,
          0.39349272630958493,
          0.48255220427412787,
          0.5917685748188825,
          0.7257039612324212,
          0.8899530352885229,
          1.0913767146512738,
          1.3383887531737564,
          1.6413071953751284,
          2.0127853758499383,
          2.4683404670686486,
          3.0270016537634614,
          3.7121050090663608,
          4.55226827550731,
          5.582586268862695,
          6.846096838574658,
          8.395578619995112,
          10.295755673125127,
          12.626001098748565,
          15.48365256585499,
          18.988078244652634,
          23.285662984981965,
          28.55592301990109,
          35.019004614317126,
          42.944879887892725,
          52.66462393484275,
          64.58424430196978,
          79.20164050192548,
          97.12740198471168,
          119.11031332830079,
          146.06863203649888,
          179.1284454622002,
          219.67070907932353,
          269.388930959017,
          330.35991201283395,
          405.1304969235378,
          496.8239594734388,
          609.2704661368674,
          747.1670675868082,
          916.2739011886731,
          1123.6548001387516,
          1377.9723598335568,
          1689.8497868124587,
          2072.3146452190294,
          2541.343036702639,
          3116.52694492943,
          3821.8926206331225,
          4686.904192314192,
          5747.694424835347,
          7048.574036451903,
          8643.882620598262,
          10600.258488068825,
          12999.42224413245,
          15941.590374559995,
          19549.661430912594,
          23974.349678010785,
          29400.480643347077,
          36054.71154250506,
          44214.99907374487,
          54222.21006501592,
          66494.35996665046,
          81544.07395185171,
          100000
         ],
         "xaxis": "x",
         "y": [
          320.5233558209227,
          319.89594830588584,
          319.1720280769228,
          318.33161199342305,
          317.34922413452585,
          316.19298168950985,
          314.8237415289435,
          313.19434857650856,
          311.2490491433618,
          308.9231676878353,
          306.1431893589393,
          302.82743608475204,
          298.8875608131109,
          294.23109765071956,
          288.7652734391518,
          282.4021837521931,
          275.06524563438757,
          266.6965667522586,
          257.26456067214565,
          246.77087417934953,
          235.25557458470422,
          222.79964863066334,
          209.52420401852888,
          195.5862769629153,
          181.171707893169,
          166.48599582859333,
          151.74424308356026,
          137.16119988322455,
          122.94208600189674,
          109.27449096456293,
          96.32143838368015,
          84.21573012846159,
          73.05587073246517,
          62.90400930520301,
          53.7862592208381,
          45.69544713701679,
          38.59593021664305,
          32.42978073459141,
          27.123490796473867,
          22.594413731152372,
          18.756368037784725,
          15.524090963427408,
          12.816464651877851,
          10.558607103360089,
          8.68301504592755,
          7.129978917443355,
          5.847481711923063,
          4.790762633476819,
          3.9216876394562554,
          3.2080309338035753,
          2.622738782683421,
          2.1432211930827134,
          1.7506978471369046,
          1.4296112498630997,
          1.1671111143243647,
          0.9526084189999798,
          0.7773943518789188,
          0.6343177422876666,
          0.5175140100288265,
          0.4221787308884091,
          0.3443793531797481,
          0.28089922002723167,
          0.22910874093857758,
          0.18685924373739804,
          0.15239568440688298,
          0.12428497784624429,
          0.10135722935898633,
          0.0826575946975365,
          0.06740687967682644,
          0.05496931482432213,
          0.044826213137681224,
          0.03655444668482684,
          0.029808867016511788,
          0.02430795106764805,
          0.01982208360664927,
          0.016163993861809528,
          0.01318095156516181,
          0.010748399569183503,
          0.008764759149031912,
          0.007147192388868874
         ],
         "yaxis": "y"
        },
        {
         "hovertemplate": "variable=s1<br>alphas=%{x}<br>value=%{y}<extra></extra>",
         "legendgroup": "s1",
         "line": {
          "color": "#FFA15A",
          "dash": "solid"
         },
         "mode": "lines",
         "name": "s1",
         "orientation": "v",
         "showlegend": true,
         "type": "scatter",
         "x": [
          0.01,
          0.012263306841775632,
          0.015038869469554102,
          0.018442627085855347,
          0.022616759492228647,
          0.02773562614198415,
          0.03401304938279251,
          0.04171124612056518,
          0.051151780992931425,
          0.06272899858196247,
          0.07692649574879142,
          0.09433732216299774,
          0.1156887528316282,
          0.1418726674116596,
          0.1739828052930364,
          0.21336045265014109,
          0.2616504698748821,
          0.320869999737045,
          0.39349272630958493,
          0.48255220427412787,
          0.5917685748188825,
          0.7257039612324212,
          0.8899530352885229,
          1.0913767146512738,
          1.3383887531737564,
          1.6413071953751284,
          2.0127853758499383,
          2.4683404670686486,
          3.0270016537634614,
          3.7121050090663608,
          4.55226827550731,
          5.582586268862695,
          6.846096838574658,
          8.395578619995112,
          10.295755673125127,
          12.626001098748565,
          15.48365256585499,
          18.988078244652634,
          23.285662984981965,
          28.55592301990109,
          35.019004614317126,
          42.944879887892725,
          52.66462393484275,
          64.58424430196978,
          79.20164050192548,
          97.12740198471168,
          119.11031332830079,
          146.06863203649888,
          179.1284454622002,
          219.67070907932353,
          269.388930959017,
          330.35991201283395,
          405.1304969235378,
          496.8239594734388,
          609.2704661368674,
          747.1670675868082,
          916.2739011886731,
          1123.6548001387516,
          1377.9723598335568,
          1689.8497868124587,
          2072.3146452190294,
          2541.343036702639,
          3116.52694492943,
          3821.8926206331225,
          4686.904192314192,
          5747.694424835347,
          7048.574036451903,
          8643.882620598262,
          10600.258488068825,
          12999.42224413245,
          15941.590374559995,
          19549.661430912594,
          23974.349678010785,
          29400.480643347077,
          36054.71154250506,
          44214.99907374487,
          54222.21006501592,
          66494.35996665046,
          81544.07395185171,
          100000
         ],
         "xaxis": "x",
         "y": [
          -380.6070656879188,
          -342.2429999837001,
          -305.20831585882274,
          -270.14008808312553,
          -237.5281185102883,
          -207.69574123484446,
          -180.80093380034785,
          -156.85345310027515,
          -135.74192082015432,
          -117.2648338708119,
          -101.16076158447227,
          -87.1347694549328,
          -74.8798000936356,
          -64.09303567289646,
          -54.48807757901558,
          -45.80414882068275,
          -37.81353082728676,
          -30.32815839401803,
          -23.205774858420963,
          -16.355372672961163,
          -9.74094348955132,
          -3.382033627612426,
          2.6505227594767775,
          8.244853381701787,
          13.26435051524407,
          17.568585837954895,
          21.035898543835163,
          23.58377381278028,
          25.183172539707705,
          25.86412092682309,
          25.711824684770097,
          24.85472144903765,
          23.447537128848634,
          21.653089318279584,
          19.62619833000866,
          17.501920967241084,
          15.388912987252093,
          13.367518169512723,
          11.49144062700663,
          9.791615905288873,
          8.281028702050245,
          6.959549677456753,
          5.81822621883933,
          4.842768262708603,
          4.016184498886301,
          3.320649142261252,
          2.7387355174965373,
          2.2541640116465476,
          1.8521987193006257,
          1.51980346523002,
          1.245642362715359,
          1.0199870181642567,
          0.8345736303628593,
          0.6824387693175905,
          0.5577520571083078,
          0.45565656471312843,
          0.3721227314441959,
          0.3038183553641333,
          0.24799517443629543,
          0.20239136743994549,
          0.16514866681884918,
          0.13474249302199773,
          0.1099234549696244,
          0.08966862290995252,
          0.07314110886811735,
          0.059656648717621476,
          0.04865604587427388,
          0.0396824966035981,
          0.03236296401430119,
          0.026392898920239778,
          0.021523720162571928,
          0.017552565299396843,
          0.014313906099758428,
          0.01167269363670557,
          0.00951875664500808,
          0.007762225814339415,
          0.006329797315908035,
          0.005161682433588049,
          0.004209117843201211,
          0.0034323338459105544
         ],
         "yaxis": "y"
        },
        {
         "hovertemplate": "variable=s2<br>alphas=%{x}<br>value=%{y}<extra></extra>",
         "legendgroup": "s2",
         "line": {
          "color": "#19d3f3",
          "dash": "solid"
         },
         "mode": "lines",
         "name": "s2",
         "orientation": "v",
         "showlegend": true,
         "type": "scatter",
         "x": [
          0.01,
          0.012263306841775632,
          0.015038869469554102,
          0.018442627085855347,
          0.022616759492228647,
          0.02773562614198415,
          0.03401304938279251,
          0.04171124612056518,
          0.051151780992931425,
          0.06272899858196247,
          0.07692649574879142,
          0.09433732216299774,
          0.1156887528316282,
          0.1418726674116596,
          0.1739828052930364,
          0.21336045265014109,
          0.2616504698748821,
          0.320869999737045,
          0.39349272630958493,
          0.48255220427412787,
          0.5917685748188825,
          0.7257039612324212,
          0.8899530352885229,
          1.0913767146512738,
          1.3383887531737564,
          1.6413071953751284,
          2.0127853758499383,
          2.4683404670686486,
          3.0270016537634614,
          3.7121050090663608,
          4.55226827550731,
          5.582586268862695,
          6.846096838574658,
          8.395578619995112,
          10.295755673125127,
          12.626001098748565,
          15.48365256585499,
          18.988078244652634,
          23.285662984981965,
          28.55592301990109,
          35.019004614317126,
          42.944879887892725,
          52.66462393484275,
          64.58424430196978,
          79.20164050192548,
          97.12740198471168,
          119.11031332830079,
          146.06863203649888,
          179.1284454622002,
          219.67070907932353,
          269.388930959017,
          330.35991201283395,
          405.1304969235378,
          496.8239594734388,
          609.2704661368674,
          747.1670675868082,
          916.2739011886731,
          1123.6548001387516,
          1377.9723598335568,
          1689.8497868124587,
          2072.3146452190294,
          2541.343036702639,
          3116.52694492943,
          3821.8926206331225,
          4686.904192314192,
          5747.694424835347,
          7048.574036451903,
          8643.882620598262,
          10600.258488068825,
          12999.42224413245,
          15941.590374559995,
          19549.661430912594,
          23974.349678010785,
          29400.480643347077,
          36054.71154250506,
          44214.99907374487,
          54222.21006501592,
          66494.35996665046,
          81544.07395185171,
          100000
         ],
         "xaxis": "x",
         "y": [
          150.48375153704194,
          120.1925878835768,
          91.02256531571442,
          63.50567611252348,
          38.06589870746023,
          15.005919304883879,
          -5.49012474986676,
          -23.341562745934255,
          -38.54894069906295,
          -51.169756532093984,
          -61.29627964616376,
          -69.03806603438481,
          -74.51034665349688,
          -77.82836607880638,
          -79.10705276562524,
          -78.46503634917231,
          -76.03184395086679,
          -71.95695951949628,
          -66.41922859343453,
          -59.634837088973164,
          -51.86188553875634,
          -43.39959419436506,
          -34.58060562691861,
          -25.755826998118145,
          -17.272725707659934,
          -9.449669365127427,
          -2.550291704583442,
          3.237556770146406,
          7.814280284657093,
          11.170100724013128,
          13.375696367253852,
          14.564179608138415,
          14.908247642242886,
          14.596803251390321,
          13.814704878769552,
          12.727933666641363,
          11.474895489621606,
          10.163279578270659,
          8.871125629259952,
          7.650522167854053,
          6.5325243615459305,
          5.532243736662639,
          4.653461611910772,
          3.892454338397876,
          3.2409547884245224,
          2.6883144624959514,
          2.222996188154241,
          1.833544300862445,
          1.5091689613786383,
          1.2400589915506577,
          1.0175124989888322,
          0.8339514123589669,
          0.6828668349700792,
          0.5587272124842715,
          0.45687028690746073,
          0.37339196882094833,
          0.30503986819665996,
          0.2491156339522947,
          0.20338794249668601,
          0.16601654933502977,
          0.1354869854554778,
          0.11055503620409142,
          0.09019994266348046,
          0.07358521825445465,
          0.06002601300410474,
          0.048962043778465726,
          0.039935215107052495,
          0.03257116650420938,
          0.026564089502671355,
          0.021664256264221447,
          0.017667789554063493,
          0.014408280570979697,
          0.011749927026130908,
          0.009581919841544545,
          0.007813853981714195,
          0.006371978371240401,
          0.005196132677199103,
          0.004237245945658365,
          0.003455294565777042,
          0.0028176355659257487
         ],
         "yaxis": "y"
        },
        {
         "hovertemplate": "variable=s3<br>alphas=%{x}<br>value=%{y}<extra></extra>",
         "legendgroup": "s3",
         "line": {
          "color": "#FF6692",
          "dash": "solid"
         },
         "mode": "lines",
         "name": "s3",
         "orientation": "v",
         "showlegend": true,
         "type": "scatter",
         "x": [
          0.01,
          0.012263306841775632,
          0.015038869469554102,
          0.018442627085855347,
          0.022616759492228647,
          0.02773562614198415,
          0.03401304938279251,
          0.04171124612056518,
          0.051151780992931425,
          0.06272899858196247,
          0.07692649574879142,
          0.09433732216299774,
          0.1156887528316282,
          0.1418726674116596,
          0.1739828052930364,
          0.21336045265014109,
          0.2616504698748821,
          0.320869999737045,
          0.39349272630958493,
          0.48255220427412787,
          0.5917685748188825,
          0.7257039612324212,
          0.8899530352885229,
          1.0913767146512738,
          1.3383887531737564,
          1.6413071953751284,
          2.0127853758499383,
          2.4683404670686486,
          3.0270016537634614,
          3.7121050090663608,
          4.55226827550731,
          5.582586268862695,
          6.846096838574658,
          8.395578619995112,
          10.295755673125127,
          12.626001098748565,
          15.48365256585499,
          18.988078244652634,
          23.285662984981965,
          28.55592301990109,
          35.019004614317126,
          42.944879887892725,
          52.66462393484275,
          64.58424430196978,
          79.20164050192548,
          97.12740198471168,
          119.11031332830079,
          146.06863203649888,
          179.1284454622002,
          219.67070907932353,
          269.388930959017,
          330.35991201283395,
          405.1304969235378,
          496.8239594734388,
          609.2704661368674,
          747.1670675868082,
          916.2739011886731,
          1123.6548001387516,
          1377.9723598335568,
          1689.8497868124587,
          2072.3146452190294,
          2541.343036702639,
          3116.52694492943,
          3821.8926206331225,
          4686.904192314192,
          5747.694424835347,
          7048.574036451903,
          8643.882620598262,
          10600.258488068825,
          12999.42224413245,
          15941.590374559995,
          19549.661430912594,
          23974.349678010785,
          29400.480643347077,
          36054.71154250506,
          44214.99907374487,
          54222.21006501592,
          66494.35996665046,
          81544.07395185171,
          100000
         ],
         "xaxis": "x",
         "y": [
          -78.59123221330175,
          -94.84784814206907,
          -110.34962707510603,
          -124.79171714150408,
          -137.93536688695485,
          -149.61716493926147,
          -159.74902095268524,
          -168.31057809363165,
          -175.33654372301268,
          -180.90147206567727,
          -185.10411714548752,
          -188.05291149356816,
          -189.85362184515498,
          -190.59985186990255,
          -190.36677484935853,
          -189.2082322191055,
          -187.15709350905962,
          -184.22853588810878,
          -180.42568305375192,
          -175.74686739372328,
          -170.19367122514575,
          -163.7788807030504,
          -156.53354987349667,
          -148.5124995523305,
          -139.79773106182023,
          -130.49939146009143,
          -120.75408062102595,
          -110.72045927140492,
          -100.57232976804633,
          -90.48964116548409,
          -80.64820863764733,
          -71.20926667843982,
          -62.31016883398827,
          -54.057473805780035,
          -46.52327267899736,
          -39.74500459583619,
          -33.72837023254927,
          -28.45247989315064,
          -23.876174617445116,
          -19.944526512288427,
          -16.594767999961658,
          -13.76120529098274,
          -11.378949569092983,
          -9.386503063502198,
          -7.727357101466838,
          -6.350809034449299,
          -5.21220671590638,
          -4.272804086881764,
          -3.499375309431746,
          -2.863697840062838,
          -2.3419821336713675,
          -1.9142993331733669,
          -1.5640384486368135,
          -1.277410352391579,
          -1.0430062828993232,
          -0.8514123381178496,
          -0.6948776832175841,
          -0.567032132829316,
          -0.462647821457924,
          -0.3774394358763307,
          -0.3078976652104738,
          -0.25115093701799907,
          -0.20485102722822382,
          -0.16707868135079113,
          -0.1362659184349912,
          -0.11113218316994979,
          -0.09063195378630513,
          -0.07391180071627584,
          -0.06027522471206125,
          -0.04915388730144215,
          -0.040084086251417454,
          -0.03268752964003714,
          -0.026655629586698783,
          -0.021736675643189065,
          -0.01772536276029708,
          -0.014454243519610251,
          -0.011786752316647515,
          -0.009611513258226666,
          -0.007837696104172936,
          -0.0063912276595829995
         ],
         "yaxis": "y"
        },
        {
         "hovertemplate": "variable=s4<br>alphas=%{x}<br>value=%{y}<extra></extra>",
         "legendgroup": "s4",
         "line": {
          "color": "#B6E880",
          "dash": "solid"
         },
         "mode": "lines",
         "name": "s4",
         "orientation": "v",
         "showlegend": true,
         "type": "scatter",
         "x": [
          0.01,
          0.012263306841775632,
          0.015038869469554102,
          0.018442627085855347,
          0.022616759492228647,
          0.02773562614198415,
          0.03401304938279251,
          0.04171124612056518,
          0.051151780992931425,
          0.06272899858196247,
          0.07692649574879142,
          0.09433732216299774,
          0.1156887528316282,
          0.1418726674116596,
          0.1739828052930364,
          0.21336045265014109,
          0.2616504698748821,
          0.320869999737045,
          0.39349272630958493,
          0.48255220427412787,
          0.5917685748188825,
          0.7257039612324212,
          0.8899530352885229,
          1.0913767146512738,
          1.3383887531737564,
          1.6413071953751284,
          2.0127853758499383,
          2.4683404670686486,
          3.0270016537634614,
          3.7121050090663608,
          4.55226827550731,
          5.582586268862695,
          6.846096838574658,
          8.395578619995112,
          10.295755673125127,
          12.626001098748565,
          15.48365256585499,
          18.988078244652634,
          23.285662984981965,
          28.55592301990109,
          35.019004614317126,
          42.944879887892725,
          52.66462393484275,
          64.58424430196978,
          79.20164050192548,
          97.12740198471168,
          119.11031332830079,
          146.06863203649888,
          179.1284454622002,
          219.67070907932353,
          269.388930959017,
          330.35991201283395,
          405.1304969235378,
          496.8239594734388,
          609.2704661368674,
          747.1670675868082,
          916.2739011886731,
          1123.6548001387516,
          1377.9723598335568,
          1689.8497868124587,
          2072.3146452190294,
          2541.343036702639,
          3116.52694492943,
          3821.8926206331225,
          4686.904192314192,
          5747.694424835347,
          7048.574036451903,
          8643.882620598262,
          10600.258488068825,
          12999.42224413245,
          15941.590374559995,
          19549.661430912594,
          23974.349678010785,
          29400.480643347077,
          36054.71154250506,
          44214.99907374487,
          54222.21006501592,
          66494.35996665046,
          81544.07395185171,
          100000
         ],
         "xaxis": "x",
         "y": [
          130.3130586809627,
          126.5517117972733,
          123.14368060337776,
          120.18443323590415,
          117.74589253523006,
          115.87191121932965,
          114.57643440992715,
          113.84415888653052,
          113.6332961963719,
          113.87996936528602,
          114.50372507295087,
          115.41356396288992,
          116.51379645148428,
          117.70899444432762,
          118.9074066769932,
          120.02245884879139,
          120.97232244154047,
          121.6779235863286,
          122.06010031917882,
          122.03686164572962,
          121.52183400023333,
          120.42496557522115,
          118.65633175998349,
          116.13337796737713,
          112.79114679121,
          108.59409189910484,
          103.54724556612247,
          97.704105120654,
          91.1688869048347,
          84.09181208964186,
          76.6576179391724,
          69.06908863990239,
          61.52855651463104,
          54.220658925289875,
          47.299076025384466,
          40.87878116185204,
          35.033966821881705,
          29.800699937489522,
          25.182755060736827,
          21.158983834918487,
          17.690854449500613,
          14.729235421644468,
          12.219939596630374,
          10.107892692258607,
          8.340017016660536,
          6.8670375575268086,
          5.644454367777109,
          4.632913287993262,
          3.7981713665195707,
          3.1108103952376656,
          2.5458111382658335,
          2.0820663711149923,
          1.701883931884355,
          1.390511135037143,
          1.1356979429371348,
          0.9273069113431407,
          0.7569719177986675,
          0.617804056896988,
          0.5041410830665176,
          0.4113358417824163,
          0.3355788593862653,
          0.2737503896608147,
          0.22329756223984598,
          0.18213272807812272,
          0.148549578758052,
          0.12115408701719746,
          0.09880775244346589,
          0.08058102793391375,
          0.06571514588696248,
          0.05359085922408771,
          0.04370286462106385,
          0.03563888828801686,
          0.029062593131103154,
          0.023699614910784945,
          0.019326158490990515,
          0.015759687401540445,
          0.012851324174100029,
          0.010479648241495547,
          0.008545635149675355,
          0.0069685275618075245
         ],
         "yaxis": "y"
        },
        {
         "hovertemplate": "variable=s5<br>alphas=%{x}<br>value=%{y}<extra></extra>",
         "legendgroup": "s5",
         "line": {
          "color": "#FF97FF",
          "dash": "solid"
         },
         "mode": "lines",
         "name": "s5",
         "orientation": "v",
         "showlegend": true,
         "type": "scatter",
         "x": [
          0.01,
          0.012263306841775632,
          0.015038869469554102,
          0.018442627085855347,
          0.022616759492228647,
          0.02773562614198415,
          0.03401304938279251,
          0.04171124612056518,
          0.051151780992931425,
          0.06272899858196247,
          0.07692649574879142,
          0.09433732216299774,
          0.1156887528316282,
          0.1418726674116596,
          0.1739828052930364,
          0.21336045265014109,
          0.2616504698748821,
          0.320869999737045,
          0.39349272630958493,
          0.48255220427412787,
          0.5917685748188825,
          0.7257039612324212,
          0.8899530352885229,
          1.0913767146512738,
          1.3383887531737564,
          1.6413071953751284,
          2.0127853758499383,
          2.4683404670686486,
          3.0270016537634614,
          3.7121050090663608,
          4.55226827550731,
          5.582586268862695,
          6.846096838574658,
          8.395578619995112,
          10.295755673125127,
          12.626001098748565,
          15.48365256585499,
          18.988078244652634,
          23.285662984981965,
          28.55592301990109,
          35.019004614317126,
          42.944879887892725,
          52.66462393484275,
          64.58424430196978,
          79.20164050192548,
          97.12740198471168,
          119.11031332830079,
          146.06863203649888,
          179.1284454622002,
          219.67070907932353,
          269.388930959017,
          330.35991201283395,
          405.1304969235378,
          496.8239594734388,
          609.2704661368674,
          747.1670675868082,
          916.2739011886731,
          1123.6548001387516,
          1377.9723598335568,
          1689.8497868124587,
          2072.3146452190294,
          2541.343036702639,
          3116.52694492943,
          3821.8926206331225,
          4686.904192314192,
          5747.694424835347,
          7048.574036451903,
          8643.882620598262,
          10600.258488068825,
          12999.42224413245,
          15941.590374559995,
          19549.661430912594,
          23974.349678010785,
          29400.480643347077,
          36054.71154250506,
          44214.99907374487,
          54222.21006501592,
          66494.35996665046,
          81544.07395185171,
          100000
         ],
         "xaxis": "x",
         "y": [
          592.3495866188401,
          576.8564043420384,
          561.6150579061783,
          546.8190629279314,
          532.6010899899202,
          519.0255390587781,
          506.0887904457389,
          493.72557552331705,
          481.81927888696976,
          470.214066160439,
          458.72729330320254,
          447.16138837936677,
          435.31504150972586,
          422.9939238194487,
          410.02121641756173,
          396.2479955196018,
          381.56309769508806,
          365.9016413027746,
          349.25108448918354,
          331.6537030366167,
          313.2047381877038,
          294.0461468908125,
          274.3567216561242,
          254.3400916128707,
          234.21251314885464,
          214.19222437286237,
          194.49145799676245,
          175.3111930895564,
          156.8377718117922,
          139.24002667337888,
          122.66577306869783,
          107.2373017770867,
          93.0464520356665,
          80.15048818998889,
          68.57006175859804,
          58.290050740278375,
          49.263310846311754,
          41.41668937174679,
          34.658267990195476,
          28.88476304752784,
          23.98823003201075,
          19.861550392718932,
          16.402501809016545,
          13.516457767070085,
          11.11790940005601,
          9.131064542441289,
          7.489781409569404,
          6.137062969408112,
          5.024292772025204,
          4.11034646078038,
          3.360672135077457,
          2.7463997626626218,
          2.243515110898877,
          1.832116148898288,
          1.4957581185929543,
          1.220886044653238,
          0.9963491134594162,
          0.8129891211986732,
          0.6632943390803284,
          0.5411101464639823,
          0.44139827994039404,
          0.36003729843101256,
          0.293657717757153,
          0.23950612908810825,
          0.19533343047615587,
          0.15930304170703674,
          0.12991562878591492,
          0.10594743434005396,
          0.08639979850256801,
          0.07045786878933072,
          0.057456845604852,
          0.04685440096180027,
          0.0382081499782569,
          0.031157255193322346,
          0.025407409324398302,
          0.020718578516533394,
          0.01689500031814837,
          0.013777022720158396,
          0.011234446114894372,
          0.009161091889161989
         ],
         "yaxis": "y"
        },
        {
         "hovertemplate": "variable=s6<br>alphas=%{x}<br>value=%{y}<extra></extra>",
         "legendgroup": "s6",
         "line": {
          "color": "#FECB52",
          "dash": "solid"
         },
         "mode": "lines",
         "name": "s6",
         "orientation": "v",
         "showlegend": true,
         "type": "scatter",
         "x": [
          0.01,
          0.012263306841775632,
          0.015038869469554102,
          0.018442627085855347,
          0.022616759492228647,
          0.02773562614198415,
          0.03401304938279251,
          0.04171124612056518,
          0.051151780992931425,
          0.06272899858196247,
          0.07692649574879142,
          0.09433732216299774,
          0.1156887528316282,
          0.1418726674116596,
          0.1739828052930364,
          0.21336045265014109,
          0.2616504698748821,
          0.320869999737045,
          0.39349272630958493,
          0.48255220427412787,
          0.5917685748188825,
          0.7257039612324212,
          0.8899530352885229,
          1.0913767146512738,
          1.3383887531737564,
          1.6413071953751284,
          2.0127853758499383,
          2.4683404670686486,
          3.0270016537634614,
          3.7121050090663608,
          4.55226827550731,
          5.582586268862695,
          6.846096838574658,
          8.395578619995112,
          10.295755673125127,
          12.626001098748565,
          15.48365256585499,
          18.988078244652634,
          23.285662984981965,
          28.55592301990109,
          35.019004614317126,
          42.944879887892725,
          52.66462393484275,
          64.58424430196978,
          79.20164050192548,
          97.12740198471168,
          119.11031332830079,
          146.06863203649888,
          179.1284454622002,
          219.67070907932353,
          269.388930959017,
          330.35991201283395,
          405.1304969235378,
          496.8239594734388,
          609.2704661368674,
          747.1670675868082,
          916.2739011886731,
          1123.6548001387516,
          1377.9723598335568,
          1689.8497868124587,
          2072.3146452190294,
          2541.343036702639,
          3116.52694492943,
          3821.8926206331225,
          4686.904192314192,
          5747.694424835347,
          7048.574036451903,
          8643.882620598262,
          10600.258488068825,
          12999.42224413245,
          15941.590374559995,
          19549.661430912594,
          23974.349678010785,
          29400.480643347077,
          36054.71154250506,
          44214.99907374487,
          54222.21006501592,
          66494.35996665046,
          81544.07395185171,
          100000
         ],
         "xaxis": "x",
         "y": [
          71.13376810337851,
          71.71525871413414,
          72.38591001478892,
          73.16181924372701,
          74.06238836199886,
          75.11035831623691,
          76.33148723717386,
          77.75374331638352,
          79.40585648823064,
          81.31505220044859,
          83.50379438196417,
          85.98541898284456,
          88.7586733329537,
          91.80141468973667,
          95.06406878174145,
          98.46386911161667,
          101.8812895970673,
          105.16027845656407,
          108.11370201138628,
          110.53467645295859,
          112.21324606841975,
          112.9564521416374,
          112.60871588193264,
          111.06910342718682,
          108.30264354478588,
          104.34420273550694,
          99.29495215466392,
          93.31264411475495,
          86.59749399441635,
          79.37553605429524,
          71.88118031665245,
          64.34056835267627,
          56.957224223947655,
          49.901281988061186,
          43.30311854513128,
          37.251556347900056,
          31.796099226314183,
          26.95213754395716,
          22.70783475280226,
          19.03148516871545,
          15.878414184220784,
          13.196848778492006,
          10.932514643761122,
          9.031960838277133,
          7.444761308166748,
          6.124809418415468,
          5.030931590167046,
          4.127023358844856,
          3.3818740615287965,
          2.7688067680513226,
          2.265224365456994,
          1.8521235040861066,
          1.5136157968319979,
          1.2364794928027862,
          1.0097536659752595,
          0.8243795795470588,
          0.672889265965745,
          0.5491386657699947,
          0.44808126360802136,
          0.3655775893813413,
          0.29823589623461966,
          0.24327956803572384,
          0.1984372044235715,
          0.1618517908547551,
          0.13200582922334841,
          0.10765974998444451,
          0.08780133293851551,
          0.07160422414238266,
          0.05839394977216492,
          0.04762009641390124,
          0.03883355512094729,
          0.03166791827167244,
          0.025824278510002026,
          0.021058812351544186,
          0.01717264148894895,
          0.014003556064891716,
          0.011419259356382527,
          0.009311855133926725,
          0.007593349714957267,
          0.006191982349404987
         ],
         "yaxis": "y"
        }
       ],
       "layout": {
        "legend": {
         "title": {
          "text": "variable"
         },
         "tracegroupgap": 0
        },
        "margin": {
         "t": 60
        },
        "template": {
         "data": {
          "bar": [
           {
            "error_x": {
             "color": "#2a3f5f"
            },
            "error_y": {
             "color": "#2a3f5f"
            },
            "marker": {
             "line": {
              "color": "#E5ECF6",
              "width": 0.5
             }
            },
            "type": "bar"
           }
          ],
          "barpolar": [
           {
            "marker": {
             "line": {
              "color": "#E5ECF6",
              "width": 0.5
             }
            },
            "type": "barpolar"
           }
          ],
          "carpet": [
           {
            "aaxis": {
             "endlinecolor": "#2a3f5f",
             "gridcolor": "white",
             "linecolor": "white",
             "minorgridcolor": "white",
             "startlinecolor": "#2a3f5f"
            },
            "baxis": {
             "endlinecolor": "#2a3f5f",
             "gridcolor": "white",
             "linecolor": "white",
             "minorgridcolor": "white",
             "startlinecolor": "#2a3f5f"
            },
            "type": "carpet"
           }
          ],
          "choropleth": [
           {
            "colorbar": {
             "outlinewidth": 0,
             "ticks": ""
            },
            "type": "choropleth"
           }
          ],
          "contour": [
           {
            "colorbar": {
             "outlinewidth": 0,
             "ticks": ""
            },
            "colorscale": [
             [
              0,
              "#0d0887"
             ],
             [
              0.1111111111111111,
              "#46039f"
             ],
             [
              0.2222222222222222,
              "#7201a8"
             ],
             [
              0.3333333333333333,
              "#9c179e"
             ],
             [
              0.4444444444444444,
              "#bd3786"
             ],
             [
              0.5555555555555556,
              "#d8576b"
             ],
             [
              0.6666666666666666,
              "#ed7953"
             ],
             [
              0.7777777777777778,
              "#fb9f3a"
             ],
             [
              0.8888888888888888,
              "#fdca26"
             ],
             [
              1,
              "#f0f921"
             ]
            ],
            "type": "contour"
           }
          ],
          "contourcarpet": [
           {
            "colorbar": {
             "outlinewidth": 0,
             "ticks": ""
            },
            "type": "contourcarpet"
           }
          ],
          "heatmap": [
           {
            "colorbar": {
             "outlinewidth": 0,
             "ticks": ""
            },
            "colorscale": [
             [
              0,
              "#0d0887"
             ],
             [
              0.1111111111111111,
              "#46039f"
             ],
             [
              0.2222222222222222,
              "#7201a8"
             ],
             [
              0.3333333333333333,
              "#9c179e"
             ],
             [
              0.4444444444444444,
              "#bd3786"
             ],
             [
              0.5555555555555556,
              "#d8576b"
             ],
             [
              0.6666666666666666,
              "#ed7953"
             ],
             [
              0.7777777777777778,
              "#fb9f3a"
             ],
             [
              0.8888888888888888,
              "#fdca26"
             ],
             [
              1,
              "#f0f921"
             ]
            ],
            "type": "heatmap"
           }
          ],
          "heatmapgl": [
           {
            "colorbar": {
             "outlinewidth": 0,
             "ticks": ""
            },
            "colorscale": [
             [
              0,
              "#0d0887"
             ],
             [
              0.1111111111111111,
              "#46039f"
             ],
             [
              0.2222222222222222,
              "#7201a8"
             ],
             [
              0.3333333333333333,
              "#9c179e"
             ],
             [
              0.4444444444444444,
              "#bd3786"
             ],
             [
              0.5555555555555556,
              "#d8576b"
             ],
             [
              0.6666666666666666,
              "#ed7953"
             ],
             [
              0.7777777777777778,
              "#fb9f3a"
             ],
             [
              0.8888888888888888,
              "#fdca26"
             ],
             [
              1,
              "#f0f921"
             ]
            ],
            "type": "heatmapgl"
           }
          ],
          "histogram": [
           {
            "marker": {
             "colorbar": {
              "outlinewidth": 0,
              "ticks": ""
             }
            },
            "type": "histogram"
           }
          ],
          "histogram2d": [
           {
            "colorbar": {
             "outlinewidth": 0,
             "ticks": ""
            },
            "colorscale": [
             [
              0,
              "#0d0887"
             ],
             [
              0.1111111111111111,
              "#46039f"
             ],
             [
              0.2222222222222222,
              "#7201a8"
             ],
             [
              0.3333333333333333,
              "#9c179e"
             ],
             [
              0.4444444444444444,
              "#bd3786"
             ],
             [
              0.5555555555555556,
              "#d8576b"
             ],
             [
              0.6666666666666666,
              "#ed7953"
             ],
             [
              0.7777777777777778,
              "#fb9f3a"
             ],
             [
              0.8888888888888888,
              "#fdca26"
             ],
             [
              1,
              "#f0f921"
             ]
            ],
            "type": "histogram2d"
           }
          ],
          "histogram2dcontour": [
           {
            "colorbar": {
             "outlinewidth": 0,
             "ticks": ""
            },
            "colorscale": [
             [
              0,
              "#0d0887"
             ],
             [
              0.1111111111111111,
              "#46039f"
             ],
             [
              0.2222222222222222,
              "#7201a8"
             ],
             [
              0.3333333333333333,
              "#9c179e"
             ],
             [
              0.4444444444444444,
              "#bd3786"
             ],
             [
              0.5555555555555556,
              "#d8576b"
             ],
             [
              0.6666666666666666,
              "#ed7953"
             ],
             [
              0.7777777777777778,
              "#fb9f3a"
             ],
             [
              0.8888888888888888,
              "#fdca26"
             ],
             [
              1,
              "#f0f921"
             ]
            ],
            "type": "histogram2dcontour"
           }
          ],
          "mesh3d": [
           {
            "colorbar": {
             "outlinewidth": 0,
             "ticks": ""
            },
            "type": "mesh3d"
           }
          ],
          "parcoords": [
           {
            "line": {
             "colorbar": {
              "outlinewidth": 0,
              "ticks": ""
             }
            },
            "type": "parcoords"
           }
          ],
          "pie": [
           {
            "automargin": true,
            "type": "pie"
           }
          ],
          "scatter": [
           {
            "marker": {
             "colorbar": {
              "outlinewidth": 0,
              "ticks": ""
             }
            },
            "type": "scatter"
           }
          ],
          "scatter3d": [
           {
            "line": {
             "colorbar": {
              "outlinewidth": 0,
              "ticks": ""
             }
            },
            "marker": {
             "colorbar": {
              "outlinewidth": 0,
              "ticks": ""
             }
            },
            "type": "scatter3d"
           }
          ],
          "scattercarpet": [
           {
            "marker": {
             "colorbar": {
              "outlinewidth": 0,
              "ticks": ""
             }
            },
            "type": "scattercarpet"
           }
          ],
          "scattergeo": [
           {
            "marker": {
             "colorbar": {
              "outlinewidth": 0,
              "ticks": ""
             }
            },
            "type": "scattergeo"
           }
          ],
          "scattergl": [
           {
            "marker": {
             "colorbar": {
              "outlinewidth": 0,
              "ticks": ""
             }
            },
            "type": "scattergl"
           }
          ],
          "scattermapbox": [
           {
            "marker": {
             "colorbar": {
              "outlinewidth": 0,
              "ticks": ""
             }
            },
            "type": "scattermapbox"
           }
          ],
          "scatterpolar": [
           {
            "marker": {
             "colorbar": {
              "outlinewidth": 0,
              "ticks": ""
             }
            },
            "type": "scatterpolar"
           }
          ],
          "scatterpolargl": [
           {
            "marker": {
             "colorbar": {
              "outlinewidth": 0,
              "ticks": ""
             }
            },
            "type": "scatterpolargl"
           }
          ],
          "scatterternary": [
           {
            "marker": {
             "colorbar": {
              "outlinewidth": 0,
              "ticks": ""
             }
            },
            "type": "scatterternary"
           }
          ],
          "surface": [
           {
            "colorbar": {
             "outlinewidth": 0,
             "ticks": ""
            },
            "colorscale": [
             [
              0,
              "#0d0887"
             ],
             [
              0.1111111111111111,
              "#46039f"
             ],
             [
              0.2222222222222222,
              "#7201a8"
             ],
             [
              0.3333333333333333,
              "#9c179e"
             ],
             [
              0.4444444444444444,
              "#bd3786"
             ],
             [
              0.5555555555555556,
              "#d8576b"
             ],
             [
              0.6666666666666666,
              "#ed7953"
             ],
             [
              0.7777777777777778,
              "#fb9f3a"
             ],
             [
              0.8888888888888888,
              "#fdca26"
             ],
             [
              1,
              "#f0f921"
             ]
            ],
            "type": "surface"
           }
          ],
          "table": [
           {
            "cells": {
             "fill": {
              "color": "#EBF0F8"
             },
             "line": {
              "color": "white"
             }
            },
            "header": {
             "fill": {
              "color": "#C8D4E3"
             },
             "line": {
              "color": "white"
             }
            },
            "type": "table"
           }
          ]
         },
         "layout": {
          "annotationdefaults": {
           "arrowcolor": "#2a3f5f",
           "arrowhead": 0,
           "arrowwidth": 1
          },
          "coloraxis": {
           "colorbar": {
            "outlinewidth": 0,
            "ticks": ""
           }
          },
          "colorscale": {
           "diverging": [
            [
             0,
             "#8e0152"
            ],
            [
             0.1,
             "#c51b7d"
            ],
            [
             0.2,
             "#de77ae"
            ],
            [
             0.3,
             "#f1b6da"
            ],
            [
             0.4,
             "#fde0ef"
            ],
            [
             0.5,
             "#f7f7f7"
            ],
            [
             0.6,
             "#e6f5d0"
            ],
            [
             0.7,
             "#b8e186"
            ],
            [
             0.8,
             "#7fbc41"
            ],
            [
             0.9,
             "#4d9221"
            ],
            [
             1,
             "#276419"
            ]
           ],
           "sequential": [
            [
             0,
             "#0d0887"
            ],
            [
             0.1111111111111111,
             "#46039f"
            ],
            [
             0.2222222222222222,
             "#7201a8"
            ],
            [
             0.3333333333333333,
             "#9c179e"
            ],
            [
             0.4444444444444444,
             "#bd3786"
            ],
            [
             0.5555555555555556,
             "#d8576b"
            ],
            [
             0.6666666666666666,
             "#ed7953"
            ],
            [
             0.7777777777777778,
             "#fb9f3a"
            ],
            [
             0.8888888888888888,
             "#fdca26"
            ],
            [
             1,
             "#f0f921"
            ]
           ],
           "sequentialminus": [
            [
             0,
             "#0d0887"
            ],
            [
             0.1111111111111111,
             "#46039f"
            ],
            [
             0.2222222222222222,
             "#7201a8"
            ],
            [
             0.3333333333333333,
             "#9c179e"
            ],
            [
             0.4444444444444444,
             "#bd3786"
            ],
            [
             0.5555555555555556,
             "#d8576b"
            ],
            [
             0.6666666666666666,
             "#ed7953"
            ],
            [
             0.7777777777777778,
             "#fb9f3a"
            ],
            [
             0.8888888888888888,
             "#fdca26"
            ],
            [
             1,
             "#f0f921"
            ]
           ]
          },
          "colorway": [
           "#636efa",
           "#EF553B",
           "#00cc96",
           "#ab63fa",
           "#FFA15A",
           "#19d3f3",
           "#FF6692",
           "#B6E880",
           "#FF97FF",
           "#FECB52"
          ],
          "font": {
           "color": "#2a3f5f"
          },
          "geo": {
           "bgcolor": "white",
           "lakecolor": "white",
           "landcolor": "#E5ECF6",
           "showlakes": true,
           "showland": true,
           "subunitcolor": "white"
          },
          "hoverlabel": {
           "align": "left"
          },
          "hovermode": "closest",
          "mapbox": {
           "style": "light"
          },
          "paper_bgcolor": "white",
          "plot_bgcolor": "#E5ECF6",
          "polar": {
           "angularaxis": {
            "gridcolor": "white",
            "linecolor": "white",
            "ticks": ""
           },
           "bgcolor": "#E5ECF6",
           "radialaxis": {
            "gridcolor": "white",
            "linecolor": "white",
            "ticks": ""
           }
          },
          "scene": {
           "xaxis": {
            "backgroundcolor": "#E5ECF6",
            "gridcolor": "white",
            "gridwidth": 2,
            "linecolor": "white",
            "showbackground": true,
            "ticks": "",
            "zerolinecolor": "white"
           },
           "yaxis": {
            "backgroundcolor": "#E5ECF6",
            "gridcolor": "white",
            "gridwidth": 2,
            "linecolor": "white",
            "showbackground": true,
            "ticks": "",
            "zerolinecolor": "white"
           },
           "zaxis": {
            "backgroundcolor": "#E5ECF6",
            "gridcolor": "white",
            "gridwidth": 2,
            "linecolor": "white",
            "showbackground": true,
            "ticks": "",
            "zerolinecolor": "white"
           }
          },
          "shapedefaults": {
           "line": {
            "color": "#2a3f5f"
           }
          },
          "ternary": {
           "aaxis": {
            "gridcolor": "white",
            "linecolor": "white",
            "ticks": ""
           },
           "baxis": {
            "gridcolor": "white",
            "linecolor": "white",
            "ticks": ""
           },
           "bgcolor": "#E5ECF6",
           "caxis": {
            "gridcolor": "white",
            "linecolor": "white",
            "ticks": ""
           }
          },
          "title": {
           "x": 0.05
          },
          "xaxis": {
           "automargin": true,
           "gridcolor": "white",
           "linecolor": "white",
           "ticks": "",
           "title": {
            "standoff": 15
           },
           "zerolinecolor": "white",
           "zerolinewidth": 2
          },
          "yaxis": {
           "automargin": true,
           "gridcolor": "white",
           "linecolor": "white",
           "ticks": "",
           "title": {
            "standoff": 15
           },
           "zerolinecolor": "white",
           "zerolinewidth": 2
          }
         }
        },
        "xaxis": {
         "anchor": "y",
         "domain": [
          0,
          1
         ],
         "title": {
          "text": "alphas"
         },
         "type": "log"
        },
        "yaxis": {
         "anchor": "x",
         "domain": [
          0,
          1
         ],
         "title": {
          "text": "value"
         }
        }
       }
      },
      "text/html": "<div>                            <div id=\"27f44629-c5c4-4ae1-9e13-fe40c7489f36\" class=\"plotly-graph-div\" style=\"height:525px; width:100%;\"></div>            <script type=\"text/javascript\">                require([\"plotly\"], function(Plotly) {                    window.PLOTLYENV=window.PLOTLYENV || {};                                    if (document.getElementById(\"27f44629-c5c4-4ae1-9e13-fe40c7489f36\")) {                    Plotly.newPlot(                        \"27f44629-c5c4-4ae1-9e13-fe40c7489f36\",                        [{\"hovertemplate\": \"variable=age<br>alphas=%{x}<br>value=%{y}<extra></extra>\", \"legendgroup\": \"age\", \"line\": {\"color\": \"#636efa\", \"dash\": \"solid\"}, \"mode\": \"lines\", \"name\": \"age\", \"orientation\": \"v\", \"showlegend\": true, \"type\": \"scatter\", \"x\": [0.01, 0.012263306841775632, 0.015038869469554102, 0.018442627085855347, 0.022616759492228647, 0.02773562614198415, 0.03401304938279251, 0.04171124612056518, 0.051151780992931425, 0.06272899858196247, 0.07692649574879142, 0.09433732216299774, 0.1156887528316282, 0.1418726674116596, 0.1739828052930364, 0.21336045265014109, 0.2616504698748821, 0.320869999737045, 0.39349272630958493, 0.48255220427412787, 0.5917685748188825, 0.7257039612324212, 0.8899530352885229, 1.0913767146512738, 1.3383887531737564, 1.6413071953751284, 2.0127853758499383, 2.4683404670686486, 3.0270016537634614, 3.7121050090663608, 4.55226827550731, 5.582586268862695, 6.846096838574658, 8.395578619995112, 10.295755673125127, 12.626001098748565, 15.48365256585499, 18.988078244652634, 23.285662984981965, 28.55592301990109, 35.019004614317126, 42.944879887892725, 52.66462393484275, 64.58424430196978, 79.20164050192548, 97.12740198471168, 119.11031332830079, 146.06863203649888, 179.1284454622002, 219.67070907932353, 269.388930959017, 330.35991201283395, 405.1304969235378, 496.8239594734388, 609.2704661368674, 747.1670675868082, 916.2739011886731, 1123.6548001387516, 1377.9723598335568, 1689.8497868124587, 2072.3146452190294, 2541.343036702639, 3116.52694492943, 3821.8926206331225, 4686.904192314192, 5747.694424835347, 7048.574036451903, 8643.882620598262, 10600.258488068825, 12999.42224413245, 15941.590374559995, 19549.661430912594, 23974.349678010785, 29400.480643347077, 36054.71154250506, 44214.99907374487, 54222.21006501592, 66494.35996665046, 81544.07395185171, 100000.0], \"xaxis\": \"x\", \"y\": [-7.199456785345529, -6.819371685980138, -6.401462489935149, -5.939689643693061, -5.4257225087159675, -4.848652570606075, -4.194819167034302, -3.447757490051638, -2.5882869760484373, -1.594781101644961, -0.443693758328258, 0.8895438518885981, 2.4291086451735437, 4.196693296556708, 6.208603342855545, 8.472002979669307, 10.980448052307526, 13.70911891576466, 16.610506555094283, 19.61162752063603, 22.614002794569696, 25.497468271641047, 28.128290414719384, 30.37110145797533, 32.103103273772575, 33.228191696477424, 33.68843611229703, 33.47080463489478, 32.60799506975238, 31.173412423923832, 29.271417928878645, 27.02473684497438, 24.561226157183278, 22.002040689599983, 19.452675938646028, 16.997586181085165, 14.698302865894183, 12.594402297016003, 10.70638596936986, 9.039524909126499, 7.587892236087225, 6.338059083474127, 5.272173405585138, 4.370332201443703, 3.612281962985334, 2.978547351414388, 2.451110457405338, 2.0137591410798055, 1.6522060150071176, 1.3540583855357082, 1.1086989019886133, 0.9071191109868973, 0.7417342673023922, 0.6061974349598582, 0.4952235690849984, 0.40442925390080997, 0.33019048658511785, 0.2695188442472439, 0.219955167893672, 0.1794792592216905, 0.14643381134517605, 0.11946074350341845, 0.097448188604673, 0.07948652979548103, 0.06483205929613559, 0.05287701586555532, 0.04312493285192685, 0.03517038971172528, 0.028682403051911505, 0.023390818024031652, 0.01907516802578478, 0.015555561623651348, 0.012685232189676904, 0.010344449800348526, 0.00843554825208897, 0.006878864232307703, 0.00560942219200053, 0.004574228553223162, 0.0037300636309862485, 0.0030416799692098368], \"yaxis\": \"y\"}, {\"hovertemplate\": \"variable=sex<br>alphas=%{x}<br>value=%{y}<extra></extra>\", \"legendgroup\": \"sex\", \"line\": {\"color\": \"#EF553B\", \"dash\": \"solid\"}, \"mode\": \"lines\", \"name\": \"sex\", \"orientation\": \"v\", \"showlegend\": true, \"type\": \"scatter\", \"x\": [0.01, 0.012263306841775632, 0.015038869469554102, 0.018442627085855347, 0.022616759492228647, 0.02773562614198415, 0.03401304938279251, 0.04171124612056518, 0.051151780992931425, 0.06272899858196247, 0.07692649574879142, 0.09433732216299774, 0.1156887528316282, 0.1418726674116596, 0.1739828052930364, 0.21336045265014109, 0.2616504698748821, 0.320869999737045, 0.39349272630958493, 0.48255220427412787, 0.5917685748188825, 0.7257039612324212, 0.8899530352885229, 1.0913767146512738, 1.3383887531737564, 1.6413071953751284, 2.0127853758499383, 2.4683404670686486, 3.0270016537634614, 3.7121050090663608, 4.55226827550731, 5.582586268862695, 6.846096838574658, 8.395578619995112, 10.295755673125127, 12.626001098748565, 15.48365256585499, 18.988078244652634, 23.285662984981965, 28.55592301990109, 35.019004614317126, 42.944879887892725, 52.66462393484275, 64.58424430196978, 79.20164050192548, 97.12740198471168, 119.11031332830079, 146.06863203649888, 179.1284454622002, 219.67070907932353, 269.388930959017, 330.35991201283395, 405.1304969235378, 496.8239594734388, 609.2704661368674, 747.1670675868082, 916.2739011886731, 1123.6548001387516, 1377.9723598335568, 1689.8497868124587, 2072.3146452190294, 2541.343036702639, 3116.52694492943, 3821.8926206331225, 4686.904192314192, 5747.694424835347, 7048.574036451903, 8643.882620598262, 10600.258488068825, 12999.42224413245, 15941.590374559995, 19549.661430912594, 23974.349678010785, 29400.480643347077, 36054.71154250506, 44214.99907374487, 54222.21006501592, 66494.35996665046, 81544.07395185171, 100000.0], \"xaxis\": \"x\", \"y\": [-234.55293000528698, -233.6514285836921, -232.60146835957937, -231.37316143032828, -229.9293379739335, -228.22445273967753, -226.20359688069144, -223.8016899624381, -220.94297341221275, -217.54100043843093, -213.49941407859785, -208.71391225911984, -203.07589261980533, -196.4783092412031, -188.82419644757755, -180.0380442472702, -170.0796760656099, -158.95946679136222, -146.752749331776, -133.61035763958517, -119.76185695670912, -105.50854569988967, -91.20498553863207, -77.23038482518494, -63.95388536318645, -51.69969390284672, -40.7182873253808, -31.16846445575277, -23.112380320176108, -16.522829713561272, -11.299811738828986, -7.2922657951580545, -4.320835737230263, -2.1983108458138525, -0.7456181986630952, 0.19747095682736476, 0.7666889495668862, 1.0717456523647837, 1.1977025181073784, 1.2080440564821424, 1.148464659425525, 1.0506836890819864, 0.9358827082401178, 0.8175794790871926, 0.7039020540080142, 0.5993115862527963, 0.5058611662348419, 0.4240869934546518, 0.35362099782658735, 0.29359980426089133, 0.24292916906541642, 0.2004485257760133, 0.16502820202750115, 0.13562240856778637, 0.11129400327448077, 0.09122187679387452, 0.07469815577228359, 0.061119889924296227, 0.04997816936061887, 0.040846470408511824, 0.033369275718807524, 0.02725153143786515, 0.022249201798261526, 0.018160998250949956, 0.014821254411263404, 0.01209386152600043, 0.009867153254465954, 0.008049621099137394, 0.006566344962006088, 0.005356032065241475, 0.0043685687823091365, 0.0035630019346582003, 0.002905877767174342, 0.0023698775686651755, 0.0019326985044029867, 0.0015761366118310024, 0.0012853361174463825, 0.0010481753563690293, 0.0008547647337790085, 0.0006970364826088119], \"yaxis\": \"y\"}, {\"hovertemplate\": \"variable=bmi<br>alphas=%{x}<br>value=%{y}<extra></extra>\", \"legendgroup\": \"bmi\", \"line\": {\"color\": \"#00cc96\", \"dash\": \"solid\"}, \"mode\": \"lines\", \"name\": \"bmi\", \"orientation\": \"v\", \"showlegend\": true, \"type\": \"scatter\", \"x\": [0.01, 0.012263306841775632, 0.015038869469554102, 0.018442627085855347, 0.022616759492228647, 0.02773562614198415, 0.03401304938279251, 0.04171124612056518, 0.051151780992931425, 0.06272899858196247, 0.07692649574879142, 0.09433732216299774, 0.1156887528316282, 0.1418726674116596, 0.1739828052930364, 0.21336045265014109, 0.2616504698748821, 0.320869999737045, 0.39349272630958493, 0.48255220427412787, 0.5917685748188825, 0.7257039612324212, 0.8899530352885229, 1.0913767146512738, 1.3383887531737564, 1.6413071953751284, 2.0127853758499383, 2.4683404670686486, 3.0270016537634614, 3.7121050090663608, 4.55226827550731, 5.582586268862695, 6.846096838574658, 8.395578619995112, 10.295755673125127, 12.626001098748565, 15.48365256585499, 18.988078244652634, 23.285662984981965, 28.55592301990109, 35.019004614317126, 42.944879887892725, 52.66462393484275, 64.58424430196978, 79.20164050192548, 97.12740198471168, 119.11031332830079, 146.06863203649888, 179.1284454622002, 219.67070907932353, 269.388930959017, 330.35991201283395, 405.1304969235378, 496.8239594734388, 609.2704661368674, 747.1670675868082, 916.2739011886731, 1123.6548001387516, 1377.9723598335568, 1689.8497868124587, 2072.3146452190294, 2541.343036702639, 3116.52694492943, 3821.8926206331225, 4686.904192314192, 5747.694424835347, 7048.574036451903, 8643.882620598262, 10600.258488068825, 12999.42224413245, 15941.590374559995, 19549.661430912594, 23974.349678010785, 29400.480643347077, 36054.71154250506, 44214.99907374487, 54222.21006501592, 66494.35996665046, 81544.07395185171, 100000.0], \"xaxis\": \"x\", \"y\": [520.5831362163512, 520.1173020769791, 519.4316668895137, 518.4740176541519, 517.1846914475515, 515.4953286823549, 513.3273765851895, 510.5905195270559, 507.1812922732509, 502.9821990317527, 497.8617184681272, 491.67562406687017, 484.2700835473583, 475.4869994629301, 465.17197691553883, 453.1851001602439, 439.41431467174374, 423.7906224516276, 406.3035562607989, 387.0146643796082, 366.06628618307184, 343.68304858967065, 320.1644741515276, 295.8687855150868, 271.18996809266554, 246.5317138579588, 222.28238979487358, 198.79445415746292, 176.3701409800647, 155.2534743535399, 135.62745088756665, 117.61485076642299, 101.2814460403321, 86.64093469041066, 73.66133357876707, 62.27264154534706, 52.37541427335659, 43.84967248682076, 36.56345985956229, 30.38043333936227, 25.166065402909304, 20.792281795175562, 17.14057549471233, 14.103787526247663, 11.5868206134182, 9.506566185790552, 7.791300146137819, 6.379757939159161, 5.220049425289614, 4.268527641601975, 3.48868687142122, 2.85013561709267, 2.3276684390581384, 1.9004458042045729, 1.5512815261455986, 1.2660316609129576, 1.0330756763360924, 0.842879445559813, 0.6876294697544241, 0.5609282530585656, 0.45754162430400397, 0.3731898238634526, 0.30437522508466186, 0.24824056518651014, 0.20245248141537114, 0.16510596777931325, 0.13464608228124464, 0.10980384850595733, 0.08954381702295514, 0.07302119147868717, 0.05954679198943763, 0.0485584346165033, 0.03959755957922553, 0.03229015069080036, 0.02633116147959162, 0.021471805761358598, 0.017509187299782365, 0.014277839049394303, 0.01164282100972292, 0.009494090005683693], \"yaxis\": \"y\"}, {\"hovertemplate\": \"variable=bp<br>alphas=%{x}<br>value=%{y}<extra></extra>\", \"legendgroup\": \"bp\", \"line\": {\"color\": \"#ab63fa\", \"dash\": \"solid\"}, \"mode\": \"lines\", \"name\": \"bp\", \"orientation\": \"v\", \"showlegend\": true, \"type\": \"scatter\", \"x\": [0.01, 0.012263306841775632, 0.015038869469554102, 0.018442627085855347, 0.022616759492228647, 0.02773562614198415, 0.03401304938279251, 0.04171124612056518, 0.051151780992931425, 0.06272899858196247, 0.07692649574879142, 0.09433732216299774, 0.1156887528316282, 0.1418726674116596, 0.1739828052930364, 0.21336045265014109, 0.2616504698748821, 0.320869999737045, 0.39349272630958493, 0.48255220427412787, 0.5917685748188825, 0.7257039612324212, 0.8899530352885229, 1.0913767146512738, 1.3383887531737564, 1.6413071953751284, 2.0127853758499383, 2.4683404670686486, 3.0270016537634614, 3.7121050090663608, 4.55226827550731, 5.582586268862695, 6.846096838574658, 8.395578619995112, 10.295755673125127, 12.626001098748565, 15.48365256585499, 18.988078244652634, 23.285662984981965, 28.55592301990109, 35.019004614317126, 42.944879887892725, 52.66462393484275, 64.58424430196978, 79.20164050192548, 97.12740198471168, 119.11031332830079, 146.06863203649888, 179.1284454622002, 219.67070907932353, 269.388930959017, 330.35991201283395, 405.1304969235378, 496.8239594734388, 609.2704661368674, 747.1670675868082, 916.2739011886731, 1123.6548001387516, 1377.9723598335568, 1689.8497868124587, 2072.3146452190294, 2541.343036702639, 3116.52694492943, 3821.8926206331225, 4686.904192314192, 5747.694424835347, 7048.574036451903, 8643.882620598262, 10600.258488068825, 12999.42224413245, 15941.590374559995, 19549.661430912594, 23974.349678010785, 29400.480643347077, 36054.71154250506, 44214.99907374487, 54222.21006501592, 66494.35996665046, 81544.07395185171, 100000.0], \"xaxis\": \"x\", \"y\": [320.5233558209227, 319.89594830588584, 319.1720280769228, 318.33161199342305, 317.34922413452585, 316.19298168950985, 314.8237415289435, 313.19434857650856, 311.2490491433618, 308.9231676878353, 306.1431893589393, 302.82743608475204, 298.8875608131109, 294.23109765071956, 288.7652734391518, 282.4021837521931, 275.06524563438757, 266.6965667522586, 257.26456067214565, 246.77087417934953, 235.25557458470422, 222.79964863066334, 209.52420401852888, 195.5862769629153, 181.171707893169, 166.48599582859333, 151.74424308356026, 137.16119988322455, 122.94208600189674, 109.27449096456293, 96.32143838368015, 84.21573012846159, 73.05587073246517, 62.90400930520301, 53.7862592208381, 45.69544713701679, 38.59593021664305, 32.42978073459141, 27.123490796473867, 22.594413731152372, 18.756368037784725, 15.524090963427408, 12.816464651877851, 10.558607103360089, 8.68301504592755, 7.129978917443355, 5.847481711923063, 4.790762633476819, 3.9216876394562554, 3.2080309338035753, 2.622738782683421, 2.1432211930827134, 1.7506978471369046, 1.4296112498630997, 1.1671111143243647, 0.9526084189999798, 0.7773943518789188, 0.6343177422876666, 0.5175140100288265, 0.4221787308884091, 0.3443793531797481, 0.28089922002723167, 0.22910874093857758, 0.18685924373739804, 0.15239568440688298, 0.12428497784624429, 0.10135722935898633, 0.0826575946975365, 0.06740687967682644, 0.05496931482432213, 0.044826213137681224, 0.03655444668482684, 0.029808867016511788, 0.02430795106764805, 0.01982208360664927, 0.016163993861809528, 0.01318095156516181, 0.010748399569183503, 0.008764759149031912, 0.007147192388868874], \"yaxis\": \"y\"}, {\"hovertemplate\": \"variable=s1<br>alphas=%{x}<br>value=%{y}<extra></extra>\", \"legendgroup\": \"s1\", \"line\": {\"color\": \"#FFA15A\", \"dash\": \"solid\"}, \"mode\": \"lines\", \"name\": \"s1\", \"orientation\": \"v\", \"showlegend\": true, \"type\": \"scatter\", \"x\": [0.01, 0.012263306841775632, 0.015038869469554102, 0.018442627085855347, 0.022616759492228647, 0.02773562614198415, 0.03401304938279251, 0.04171124612056518, 0.051151780992931425, 0.06272899858196247, 0.07692649574879142, 0.09433732216299774, 0.1156887528316282, 0.1418726674116596, 0.1739828052930364, 0.21336045265014109, 0.2616504698748821, 0.320869999737045, 0.39349272630958493, 0.48255220427412787, 0.5917685748188825, 0.7257039612324212, 0.8899530352885229, 1.0913767146512738, 1.3383887531737564, 1.6413071953751284, 2.0127853758499383, 2.4683404670686486, 3.0270016537634614, 3.7121050090663608, 4.55226827550731, 5.582586268862695, 6.846096838574658, 8.395578619995112, 10.295755673125127, 12.626001098748565, 15.48365256585499, 18.988078244652634, 23.285662984981965, 28.55592301990109, 35.019004614317126, 42.944879887892725, 52.66462393484275, 64.58424430196978, 79.20164050192548, 97.12740198471168, 119.11031332830079, 146.06863203649888, 179.1284454622002, 219.67070907932353, 269.388930959017, 330.35991201283395, 405.1304969235378, 496.8239594734388, 609.2704661368674, 747.1670675868082, 916.2739011886731, 1123.6548001387516, 1377.9723598335568, 1689.8497868124587, 2072.3146452190294, 2541.343036702639, 3116.52694492943, 3821.8926206331225, 4686.904192314192, 5747.694424835347, 7048.574036451903, 8643.882620598262, 10600.258488068825, 12999.42224413245, 15941.590374559995, 19549.661430912594, 23974.349678010785, 29400.480643347077, 36054.71154250506, 44214.99907374487, 54222.21006501592, 66494.35996665046, 81544.07395185171, 100000.0], \"xaxis\": \"x\", \"y\": [-380.6070656879188, -342.2429999837001, -305.20831585882274, -270.14008808312553, -237.5281185102883, -207.69574123484446, -180.80093380034785, -156.85345310027515, -135.74192082015432, -117.2648338708119, -101.16076158447227, -87.1347694549328, -74.8798000936356, -64.09303567289646, -54.48807757901558, -45.80414882068275, -37.81353082728676, -30.32815839401803, -23.205774858420963, -16.355372672961163, -9.74094348955132, -3.382033627612426, 2.6505227594767775, 8.244853381701787, 13.26435051524407, 17.568585837954895, 21.035898543835163, 23.58377381278028, 25.183172539707705, 25.86412092682309, 25.711824684770097, 24.85472144903765, 23.447537128848634, 21.653089318279584, 19.62619833000866, 17.501920967241084, 15.388912987252093, 13.367518169512723, 11.49144062700663, 9.791615905288873, 8.281028702050245, 6.959549677456753, 5.81822621883933, 4.842768262708603, 4.016184498886301, 3.320649142261252, 2.7387355174965373, 2.2541640116465476, 1.8521987193006257, 1.51980346523002, 1.245642362715359, 1.0199870181642567, 0.8345736303628593, 0.6824387693175905, 0.5577520571083078, 0.45565656471312843, 0.3721227314441959, 0.3038183553641333, 0.24799517443629543, 0.20239136743994549, 0.16514866681884918, 0.13474249302199773, 0.1099234549696244, 0.08966862290995252, 0.07314110886811735, 0.059656648717621476, 0.04865604587427388, 0.0396824966035981, 0.03236296401430119, 0.026392898920239778, 0.021523720162571928, 0.017552565299396843, 0.014313906099758428, 0.01167269363670557, 0.00951875664500808, 0.007762225814339415, 0.006329797315908035, 0.005161682433588049, 0.004209117843201211, 0.0034323338459105544], \"yaxis\": \"y\"}, {\"hovertemplate\": \"variable=s2<br>alphas=%{x}<br>value=%{y}<extra></extra>\", \"legendgroup\": \"s2\", \"line\": {\"color\": \"#19d3f3\", \"dash\": \"solid\"}, \"mode\": \"lines\", \"name\": \"s2\", \"orientation\": \"v\", \"showlegend\": true, \"type\": \"scatter\", \"x\": [0.01, 0.012263306841775632, 0.015038869469554102, 0.018442627085855347, 0.022616759492228647, 0.02773562614198415, 0.03401304938279251, 0.04171124612056518, 0.051151780992931425, 0.06272899858196247, 0.07692649574879142, 0.09433732216299774, 0.1156887528316282, 0.1418726674116596, 0.1739828052930364, 0.21336045265014109, 0.2616504698748821, 0.320869999737045, 0.39349272630958493, 0.48255220427412787, 0.5917685748188825, 0.7257039612324212, 0.8899530352885229, 1.0913767146512738, 1.3383887531737564, 1.6413071953751284, 2.0127853758499383, 2.4683404670686486, 3.0270016537634614, 3.7121050090663608, 4.55226827550731, 5.582586268862695, 6.846096838574658, 8.395578619995112, 10.295755673125127, 12.626001098748565, 15.48365256585499, 18.988078244652634, 23.285662984981965, 28.55592301990109, 35.019004614317126, 42.944879887892725, 52.66462393484275, 64.58424430196978, 79.20164050192548, 97.12740198471168, 119.11031332830079, 146.06863203649888, 179.1284454622002, 219.67070907932353, 269.388930959017, 330.35991201283395, 405.1304969235378, 496.8239594734388, 609.2704661368674, 747.1670675868082, 916.2739011886731, 1123.6548001387516, 1377.9723598335568, 1689.8497868124587, 2072.3146452190294, 2541.343036702639, 3116.52694492943, 3821.8926206331225, 4686.904192314192, 5747.694424835347, 7048.574036451903, 8643.882620598262, 10600.258488068825, 12999.42224413245, 15941.590374559995, 19549.661430912594, 23974.349678010785, 29400.480643347077, 36054.71154250506, 44214.99907374487, 54222.21006501592, 66494.35996665046, 81544.07395185171, 100000.0], \"xaxis\": \"x\", \"y\": [150.48375153704194, 120.1925878835768, 91.02256531571442, 63.50567611252348, 38.06589870746023, 15.005919304883879, -5.49012474986676, -23.341562745934255, -38.54894069906295, -51.169756532093984, -61.29627964616376, -69.03806603438481, -74.51034665349688, -77.82836607880638, -79.10705276562524, -78.46503634917231, -76.03184395086679, -71.95695951949628, -66.41922859343453, -59.634837088973164, -51.86188553875634, -43.39959419436506, -34.58060562691861, -25.755826998118145, -17.272725707659934, -9.449669365127427, -2.550291704583442, 3.237556770146406, 7.814280284657093, 11.170100724013128, 13.375696367253852, 14.564179608138415, 14.908247642242886, 14.596803251390321, 13.814704878769552, 12.727933666641363, 11.474895489621606, 10.163279578270659, 8.871125629259952, 7.650522167854053, 6.5325243615459305, 5.532243736662639, 4.653461611910772, 3.892454338397876, 3.2409547884245224, 2.6883144624959514, 2.222996188154241, 1.833544300862445, 1.5091689613786383, 1.2400589915506577, 1.0175124989888322, 0.8339514123589669, 0.6828668349700792, 0.5587272124842715, 0.45687028690746073, 0.37339196882094833, 0.30503986819665996, 0.2491156339522947, 0.20338794249668601, 0.16601654933502977, 0.1354869854554778, 0.11055503620409142, 0.09019994266348046, 0.07358521825445465, 0.06002601300410474, 0.048962043778465726, 0.039935215107052495, 0.03257116650420938, 0.026564089502671355, 0.021664256264221447, 0.017667789554063493, 0.014408280570979697, 0.011749927026130908, 0.009581919841544545, 0.007813853981714195, 0.006371978371240401, 0.005196132677199103, 0.004237245945658365, 0.003455294565777042, 0.0028176355659257487], \"yaxis\": \"y\"}, {\"hovertemplate\": \"variable=s3<br>alphas=%{x}<br>value=%{y}<extra></extra>\", \"legendgroup\": \"s3\", \"line\": {\"color\": \"#FF6692\", \"dash\": \"solid\"}, \"mode\": \"lines\", \"name\": \"s3\", \"orientation\": \"v\", \"showlegend\": true, \"type\": \"scatter\", \"x\": [0.01, 0.012263306841775632, 0.015038869469554102, 0.018442627085855347, 0.022616759492228647, 0.02773562614198415, 0.03401304938279251, 0.04171124612056518, 0.051151780992931425, 0.06272899858196247, 0.07692649574879142, 0.09433732216299774, 0.1156887528316282, 0.1418726674116596, 0.1739828052930364, 0.21336045265014109, 0.2616504698748821, 0.320869999737045, 0.39349272630958493, 0.48255220427412787, 0.5917685748188825, 0.7257039612324212, 0.8899530352885229, 1.0913767146512738, 1.3383887531737564, 1.6413071953751284, 2.0127853758499383, 2.4683404670686486, 3.0270016537634614, 3.7121050090663608, 4.55226827550731, 5.582586268862695, 6.846096838574658, 8.395578619995112, 10.295755673125127, 12.626001098748565, 15.48365256585499, 18.988078244652634, 23.285662984981965, 28.55592301990109, 35.019004614317126, 42.944879887892725, 52.66462393484275, 64.58424430196978, 79.20164050192548, 97.12740198471168, 119.11031332830079, 146.06863203649888, 179.1284454622002, 219.67070907932353, 269.388930959017, 330.35991201283395, 405.1304969235378, 496.8239594734388, 609.2704661368674, 747.1670675868082, 916.2739011886731, 1123.6548001387516, 1377.9723598335568, 1689.8497868124587, 2072.3146452190294, 2541.343036702639, 3116.52694492943, 3821.8926206331225, 4686.904192314192, 5747.694424835347, 7048.574036451903, 8643.882620598262, 10600.258488068825, 12999.42224413245, 15941.590374559995, 19549.661430912594, 23974.349678010785, 29400.480643347077, 36054.71154250506, 44214.99907374487, 54222.21006501592, 66494.35996665046, 81544.07395185171, 100000.0], \"xaxis\": \"x\", \"y\": [-78.59123221330175, -94.84784814206907, -110.34962707510603, -124.79171714150408, -137.93536688695485, -149.61716493926147, -159.74902095268524, -168.31057809363165, -175.33654372301268, -180.90147206567727, -185.10411714548752, -188.05291149356816, -189.85362184515498, -190.59985186990255, -190.36677484935853, -189.2082322191055, -187.15709350905962, -184.22853588810878, -180.42568305375192, -175.74686739372328, -170.19367122514575, -163.7788807030504, -156.53354987349667, -148.5124995523305, -139.79773106182023, -130.49939146009143, -120.75408062102595, -110.72045927140492, -100.57232976804633, -90.48964116548409, -80.64820863764733, -71.20926667843982, -62.31016883398827, -54.057473805780035, -46.52327267899736, -39.74500459583619, -33.72837023254927, -28.45247989315064, -23.876174617445116, -19.944526512288427, -16.594767999961658, -13.76120529098274, -11.378949569092983, -9.386503063502198, -7.727357101466838, -6.350809034449299, -5.21220671590638, -4.272804086881764, -3.499375309431746, -2.863697840062838, -2.3419821336713675, -1.9142993331733669, -1.5640384486368135, -1.277410352391579, -1.0430062828993232, -0.8514123381178496, -0.6948776832175841, -0.567032132829316, -0.462647821457924, -0.3774394358763307, -0.3078976652104738, -0.25115093701799907, -0.20485102722822382, -0.16707868135079113, -0.1362659184349912, -0.11113218316994979, -0.09063195378630513, -0.07391180071627584, -0.06027522471206125, -0.04915388730144215, -0.040084086251417454, -0.03268752964003714, -0.026655629586698783, -0.021736675643189065, -0.01772536276029708, -0.014454243519610251, -0.011786752316647515, -0.009611513258226666, -0.007837696104172936, -0.0063912276595829995], \"yaxis\": \"y\"}, {\"hovertemplate\": \"variable=s4<br>alphas=%{x}<br>value=%{y}<extra></extra>\", \"legendgroup\": \"s4\", \"line\": {\"color\": \"#B6E880\", \"dash\": \"solid\"}, \"mode\": \"lines\", \"name\": \"s4\", \"orientation\": \"v\", \"showlegend\": true, \"type\": \"scatter\", \"x\": [0.01, 0.012263306841775632, 0.015038869469554102, 0.018442627085855347, 0.022616759492228647, 0.02773562614198415, 0.03401304938279251, 0.04171124612056518, 0.051151780992931425, 0.06272899858196247, 0.07692649574879142, 0.09433732216299774, 0.1156887528316282, 0.1418726674116596, 0.1739828052930364, 0.21336045265014109, 0.2616504698748821, 0.320869999737045, 0.39349272630958493, 0.48255220427412787, 0.5917685748188825, 0.7257039612324212, 0.8899530352885229, 1.0913767146512738, 1.3383887531737564, 1.6413071953751284, 2.0127853758499383, 2.4683404670686486, 3.0270016537634614, 3.7121050090663608, 4.55226827550731, 5.582586268862695, 6.846096838574658, 8.395578619995112, 10.295755673125127, 12.626001098748565, 15.48365256585499, 18.988078244652634, 23.285662984981965, 28.55592301990109, 35.019004614317126, 42.944879887892725, 52.66462393484275, 64.58424430196978, 79.20164050192548, 97.12740198471168, 119.11031332830079, 146.06863203649888, 179.1284454622002, 219.67070907932353, 269.388930959017, 330.35991201283395, 405.1304969235378, 496.8239594734388, 609.2704661368674, 747.1670675868082, 916.2739011886731, 1123.6548001387516, 1377.9723598335568, 1689.8497868124587, 2072.3146452190294, 2541.343036702639, 3116.52694492943, 3821.8926206331225, 4686.904192314192, 5747.694424835347, 7048.574036451903, 8643.882620598262, 10600.258488068825, 12999.42224413245, 15941.590374559995, 19549.661430912594, 23974.349678010785, 29400.480643347077, 36054.71154250506, 44214.99907374487, 54222.21006501592, 66494.35996665046, 81544.07395185171, 100000.0], \"xaxis\": \"x\", \"y\": [130.3130586809627, 126.5517117972733, 123.14368060337776, 120.18443323590415, 117.74589253523006, 115.87191121932965, 114.57643440992715, 113.84415888653052, 113.6332961963719, 113.87996936528602, 114.50372507295087, 115.41356396288992, 116.51379645148428, 117.70899444432762, 118.9074066769932, 120.02245884879139, 120.97232244154047, 121.6779235863286, 122.06010031917882, 122.03686164572962, 121.52183400023333, 120.42496557522115, 118.65633175998349, 116.13337796737713, 112.79114679121, 108.59409189910484, 103.54724556612247, 97.704105120654, 91.1688869048347, 84.09181208964186, 76.6576179391724, 69.06908863990239, 61.52855651463104, 54.220658925289875, 47.299076025384466, 40.87878116185204, 35.033966821881705, 29.800699937489522, 25.182755060736827, 21.158983834918487, 17.690854449500613, 14.729235421644468, 12.219939596630374, 10.107892692258607, 8.340017016660536, 6.8670375575268086, 5.644454367777109, 4.632913287993262, 3.7981713665195707, 3.1108103952376656, 2.5458111382658335, 2.0820663711149923, 1.701883931884355, 1.390511135037143, 1.1356979429371348, 0.9273069113431407, 0.7569719177986675, 0.617804056896988, 0.5041410830665176, 0.4113358417824163, 0.3355788593862653, 0.2737503896608147, 0.22329756223984598, 0.18213272807812272, 0.148549578758052, 0.12115408701719746, 0.09880775244346589, 0.08058102793391375, 0.06571514588696248, 0.05359085922408771, 0.04370286462106385, 0.03563888828801686, 0.029062593131103154, 0.023699614910784945, 0.019326158490990515, 0.015759687401540445, 0.012851324174100029, 0.010479648241495547, 0.008545635149675355, 0.0069685275618075245], \"yaxis\": \"y\"}, {\"hovertemplate\": \"variable=s5<br>alphas=%{x}<br>value=%{y}<extra></extra>\", \"legendgroup\": \"s5\", \"line\": {\"color\": \"#FF97FF\", \"dash\": \"solid\"}, \"mode\": \"lines\", \"name\": \"s5\", \"orientation\": \"v\", \"showlegend\": true, \"type\": \"scatter\", \"x\": [0.01, 0.012263306841775632, 0.015038869469554102, 0.018442627085855347, 0.022616759492228647, 0.02773562614198415, 0.03401304938279251, 0.04171124612056518, 0.051151780992931425, 0.06272899858196247, 0.07692649574879142, 0.09433732216299774, 0.1156887528316282, 0.1418726674116596, 0.1739828052930364, 0.21336045265014109, 0.2616504698748821, 0.320869999737045, 0.39349272630958493, 0.48255220427412787, 0.5917685748188825, 0.7257039612324212, 0.8899530352885229, 1.0913767146512738, 1.3383887531737564, 1.6413071953751284, 2.0127853758499383, 2.4683404670686486, 3.0270016537634614, 3.7121050090663608, 4.55226827550731, 5.582586268862695, 6.846096838574658, 8.395578619995112, 10.295755673125127, 12.626001098748565, 15.48365256585499, 18.988078244652634, 23.285662984981965, 28.55592301990109, 35.019004614317126, 42.944879887892725, 52.66462393484275, 64.58424430196978, 79.20164050192548, 97.12740198471168, 119.11031332830079, 146.06863203649888, 179.1284454622002, 219.67070907932353, 269.388930959017, 330.35991201283395, 405.1304969235378, 496.8239594734388, 609.2704661368674, 747.1670675868082, 916.2739011886731, 1123.6548001387516, 1377.9723598335568, 1689.8497868124587, 2072.3146452190294, 2541.343036702639, 3116.52694492943, 3821.8926206331225, 4686.904192314192, 5747.694424835347, 7048.574036451903, 8643.882620598262, 10600.258488068825, 12999.42224413245, 15941.590374559995, 19549.661430912594, 23974.349678010785, 29400.480643347077, 36054.71154250506, 44214.99907374487, 54222.21006501592, 66494.35996665046, 81544.07395185171, 100000.0], \"xaxis\": \"x\", \"y\": [592.3495866188401, 576.8564043420384, 561.6150579061783, 546.8190629279314, 532.6010899899202, 519.0255390587781, 506.0887904457389, 493.72557552331705, 481.81927888696976, 470.214066160439, 458.72729330320254, 447.16138837936677, 435.31504150972586, 422.9939238194487, 410.02121641756173, 396.2479955196018, 381.56309769508806, 365.9016413027746, 349.25108448918354, 331.6537030366167, 313.2047381877038, 294.0461468908125, 274.3567216561242, 254.3400916128707, 234.21251314885464, 214.19222437286237, 194.49145799676245, 175.3111930895564, 156.8377718117922, 139.24002667337888, 122.66577306869783, 107.2373017770867, 93.0464520356665, 80.15048818998889, 68.57006175859804, 58.290050740278375, 49.263310846311754, 41.41668937174679, 34.658267990195476, 28.88476304752784, 23.98823003201075, 19.861550392718932, 16.402501809016545, 13.516457767070085, 11.11790940005601, 9.131064542441289, 7.489781409569404, 6.137062969408112, 5.024292772025204, 4.11034646078038, 3.360672135077457, 2.7463997626626218, 2.243515110898877, 1.832116148898288, 1.4957581185929543, 1.220886044653238, 0.9963491134594162, 0.8129891211986732, 0.6632943390803284, 0.5411101464639823, 0.44139827994039404, 0.36003729843101256, 0.293657717757153, 0.23950612908810825, 0.19533343047615587, 0.15930304170703674, 0.12991562878591492, 0.10594743434005396, 0.08639979850256801, 0.07045786878933072, 0.057456845604852, 0.04685440096180027, 0.0382081499782569, 0.031157255193322346, 0.025407409324398302, 0.020718578516533394, 0.01689500031814837, 0.013777022720158396, 0.011234446114894372, 0.009161091889161989], \"yaxis\": \"y\"}, {\"hovertemplate\": \"variable=s6<br>alphas=%{x}<br>value=%{y}<extra></extra>\", \"legendgroup\": \"s6\", \"line\": {\"color\": \"#FECB52\", \"dash\": \"solid\"}, \"mode\": \"lines\", \"name\": \"s6\", \"orientation\": \"v\", \"showlegend\": true, \"type\": \"scatter\", \"x\": [0.01, 0.012263306841775632, 0.015038869469554102, 0.018442627085855347, 0.022616759492228647, 0.02773562614198415, 0.03401304938279251, 0.04171124612056518, 0.051151780992931425, 0.06272899858196247, 0.07692649574879142, 0.09433732216299774, 0.1156887528316282, 0.1418726674116596, 0.1739828052930364, 0.21336045265014109, 0.2616504698748821, 0.320869999737045, 0.39349272630958493, 0.48255220427412787, 0.5917685748188825, 0.7257039612324212, 0.8899530352885229, 1.0913767146512738, 1.3383887531737564, 1.6413071953751284, 2.0127853758499383, 2.4683404670686486, 3.0270016537634614, 3.7121050090663608, 4.55226827550731, 5.582586268862695, 6.846096838574658, 8.395578619995112, 10.295755673125127, 12.626001098748565, 15.48365256585499, 18.988078244652634, 23.285662984981965, 28.55592301990109, 35.019004614317126, 42.944879887892725, 52.66462393484275, 64.58424430196978, 79.20164050192548, 97.12740198471168, 119.11031332830079, 146.06863203649888, 179.1284454622002, 219.67070907932353, 269.388930959017, 330.35991201283395, 405.1304969235378, 496.8239594734388, 609.2704661368674, 747.1670675868082, 916.2739011886731, 1123.6548001387516, 1377.9723598335568, 1689.8497868124587, 2072.3146452190294, 2541.343036702639, 3116.52694492943, 3821.8926206331225, 4686.904192314192, 5747.694424835347, 7048.574036451903, 8643.882620598262, 10600.258488068825, 12999.42224413245, 15941.590374559995, 19549.661430912594, 23974.349678010785, 29400.480643347077, 36054.71154250506, 44214.99907374487, 54222.21006501592, 66494.35996665046, 81544.07395185171, 100000.0], \"xaxis\": \"x\", \"y\": [71.13376810337851, 71.71525871413414, 72.38591001478892, 73.16181924372701, 74.06238836199886, 75.11035831623691, 76.33148723717386, 77.75374331638352, 79.40585648823064, 81.31505220044859, 83.50379438196417, 85.98541898284456, 88.7586733329537, 91.80141468973667, 95.06406878174145, 98.46386911161667, 101.8812895970673, 105.16027845656407, 108.11370201138628, 110.53467645295859, 112.21324606841975, 112.9564521416374, 112.60871588193264, 111.06910342718682, 108.30264354478588, 104.34420273550694, 99.29495215466392, 93.31264411475495, 86.59749399441635, 79.37553605429524, 71.88118031665245, 64.34056835267627, 56.957224223947655, 49.901281988061186, 43.30311854513128, 37.251556347900056, 31.796099226314183, 26.95213754395716, 22.70783475280226, 19.03148516871545, 15.878414184220784, 13.196848778492006, 10.932514643761122, 9.031960838277133, 7.444761308166748, 6.124809418415468, 5.030931590167046, 4.127023358844856, 3.3818740615287965, 2.7688067680513226, 2.265224365456994, 1.8521235040861066, 1.5136157968319979, 1.2364794928027862, 1.0097536659752595, 0.8243795795470588, 0.672889265965745, 0.5491386657699947, 0.44808126360802136, 0.3655775893813413, 0.29823589623461966, 0.24327956803572384, 0.1984372044235715, 0.1618517908547551, 0.13200582922334841, 0.10765974998444451, 0.08780133293851551, 0.07160422414238266, 0.05839394977216492, 0.04762009641390124, 0.03883355512094729, 0.03166791827167244, 0.025824278510002026, 0.021058812351544186, 0.01717264148894895, 0.014003556064891716, 0.011419259356382527, 0.009311855133926725, 0.007593349714957267, 0.006191982349404987], \"yaxis\": \"y\"}],                        {\"legend\": {\"title\": {\"text\": \"variable\"}, \"tracegroupgap\": 0}, \"margin\": {\"t\": 60}, \"template\": {\"data\": {\"bar\": [{\"error_x\": {\"color\": \"#2a3f5f\"}, \"error_y\": {\"color\": \"#2a3f5f\"}, \"marker\": {\"line\": {\"color\": \"#E5ECF6\", \"width\": 0.5}}, \"type\": \"bar\"}], \"barpolar\": [{\"marker\": {\"line\": {\"color\": \"#E5ECF6\", \"width\": 0.5}}, \"type\": \"barpolar\"}], \"carpet\": [{\"aaxis\": {\"endlinecolor\": \"#2a3f5f\", \"gridcolor\": \"white\", \"linecolor\": \"white\", \"minorgridcolor\": \"white\", \"startlinecolor\": \"#2a3f5f\"}, \"baxis\": {\"endlinecolor\": \"#2a3f5f\", \"gridcolor\": \"white\", \"linecolor\": \"white\", \"minorgridcolor\": \"white\", \"startlinecolor\": \"#2a3f5f\"}, \"type\": \"carpet\"}], \"choropleth\": [{\"colorbar\": {\"outlinewidth\": 0, \"ticks\": \"\"}, \"type\": \"choropleth\"}], \"contour\": [{\"colorbar\": {\"outlinewidth\": 0, \"ticks\": \"\"}, \"colorscale\": [[0.0, \"#0d0887\"], [0.1111111111111111, \"#46039f\"], [0.2222222222222222, \"#7201a8\"], [0.3333333333333333, \"#9c179e\"], [0.4444444444444444, \"#bd3786\"], [0.5555555555555556, \"#d8576b\"], [0.6666666666666666, \"#ed7953\"], [0.7777777777777778, \"#fb9f3a\"], [0.8888888888888888, \"#fdca26\"], [1.0, \"#f0f921\"]], \"type\": \"contour\"}], \"contourcarpet\": [{\"colorbar\": {\"outlinewidth\": 0, \"ticks\": \"\"}, \"type\": \"contourcarpet\"}], \"heatmap\": [{\"colorbar\": {\"outlinewidth\": 0, \"ticks\": \"\"}, \"colorscale\": [[0.0, \"#0d0887\"], [0.1111111111111111, \"#46039f\"], [0.2222222222222222, \"#7201a8\"], [0.3333333333333333, \"#9c179e\"], [0.4444444444444444, \"#bd3786\"], [0.5555555555555556, \"#d8576b\"], [0.6666666666666666, \"#ed7953\"], [0.7777777777777778, \"#fb9f3a\"], [0.8888888888888888, \"#fdca26\"], [1.0, \"#f0f921\"]], \"type\": \"heatmap\"}], \"heatmapgl\": [{\"colorbar\": {\"outlinewidth\": 0, \"ticks\": \"\"}, \"colorscale\": [[0.0, \"#0d0887\"], [0.1111111111111111, \"#46039f\"], [0.2222222222222222, \"#7201a8\"], [0.3333333333333333, \"#9c179e\"], [0.4444444444444444, \"#bd3786\"], [0.5555555555555556, \"#d8576b\"], [0.6666666666666666, \"#ed7953\"], [0.7777777777777778, \"#fb9f3a\"], [0.8888888888888888, \"#fdca26\"], [1.0, \"#f0f921\"]], \"type\": \"heatmapgl\"}], \"histogram\": [{\"marker\": {\"colorbar\": {\"outlinewidth\": 0, \"ticks\": \"\"}}, \"type\": \"histogram\"}], \"histogram2d\": [{\"colorbar\": {\"outlinewidth\": 0, \"ticks\": \"\"}, \"colorscale\": [[0.0, \"#0d0887\"], [0.1111111111111111, \"#46039f\"], [0.2222222222222222, \"#7201a8\"], [0.3333333333333333, \"#9c179e\"], [0.4444444444444444, \"#bd3786\"], [0.5555555555555556, \"#d8576b\"], [0.6666666666666666, \"#ed7953\"], [0.7777777777777778, \"#fb9f3a\"], [0.8888888888888888, \"#fdca26\"], [1.0, \"#f0f921\"]], \"type\": \"histogram2d\"}], \"histogram2dcontour\": [{\"colorbar\": {\"outlinewidth\": 0, \"ticks\": \"\"}, \"colorscale\": [[0.0, \"#0d0887\"], [0.1111111111111111, \"#46039f\"], [0.2222222222222222, \"#7201a8\"], [0.3333333333333333, \"#9c179e\"], [0.4444444444444444, \"#bd3786\"], [0.5555555555555556, \"#d8576b\"], [0.6666666666666666, \"#ed7953\"], [0.7777777777777778, \"#fb9f3a\"], [0.8888888888888888, \"#fdca26\"], [1.0, \"#f0f921\"]], \"type\": \"histogram2dcontour\"}], \"mesh3d\": [{\"colorbar\": {\"outlinewidth\": 0, \"ticks\": \"\"}, \"type\": \"mesh3d\"}], \"parcoords\": [{\"line\": {\"colorbar\": {\"outlinewidth\": 0, \"ticks\": \"\"}}, \"type\": \"parcoords\"}], \"pie\": [{\"automargin\": true, \"type\": \"pie\"}], \"scatter\": [{\"marker\": {\"colorbar\": {\"outlinewidth\": 0, \"ticks\": \"\"}}, \"type\": \"scatter\"}], \"scatter3d\": [{\"line\": {\"colorbar\": {\"outlinewidth\": 0, \"ticks\": \"\"}}, \"marker\": {\"colorbar\": {\"outlinewidth\": 0, \"ticks\": \"\"}}, \"type\": \"scatter3d\"}], \"scattercarpet\": [{\"marker\": {\"colorbar\": {\"outlinewidth\": 0, \"ticks\": \"\"}}, \"type\": \"scattercarpet\"}], \"scattergeo\": [{\"marker\": {\"colorbar\": {\"outlinewidth\": 0, \"ticks\": \"\"}}, \"type\": \"scattergeo\"}], \"scattergl\": [{\"marker\": {\"colorbar\": {\"outlinewidth\": 0, \"ticks\": \"\"}}, \"type\": \"scattergl\"}], \"scattermapbox\": [{\"marker\": {\"colorbar\": {\"outlinewidth\": 0, \"ticks\": \"\"}}, \"type\": \"scattermapbox\"}], \"scatterpolar\": [{\"marker\": {\"colorbar\": {\"outlinewidth\": 0, \"ticks\": \"\"}}, \"type\": \"scatterpolar\"}], \"scatterpolargl\": [{\"marker\": {\"colorbar\": {\"outlinewidth\": 0, \"ticks\": \"\"}}, \"type\": \"scatterpolargl\"}], \"scatterternary\": [{\"marker\": {\"colorbar\": {\"outlinewidth\": 0, \"ticks\": \"\"}}, \"type\": \"scatterternary\"}], \"surface\": [{\"colorbar\": {\"outlinewidth\": 0, \"ticks\": \"\"}, \"colorscale\": [[0.0, \"#0d0887\"], [0.1111111111111111, \"#46039f\"], [0.2222222222222222, \"#7201a8\"], [0.3333333333333333, \"#9c179e\"], [0.4444444444444444, \"#bd3786\"], [0.5555555555555556, \"#d8576b\"], [0.6666666666666666, \"#ed7953\"], [0.7777777777777778, \"#fb9f3a\"], [0.8888888888888888, \"#fdca26\"], [1.0, \"#f0f921\"]], \"type\": \"surface\"}], \"table\": [{\"cells\": {\"fill\": {\"color\": \"#EBF0F8\"}, \"line\": {\"color\": \"white\"}}, \"header\": {\"fill\": {\"color\": \"#C8D4E3\"}, \"line\": {\"color\": \"white\"}}, \"type\": \"table\"}]}, \"layout\": {\"annotationdefaults\": {\"arrowcolor\": \"#2a3f5f\", \"arrowhead\": 0, \"arrowwidth\": 1}, \"coloraxis\": {\"colorbar\": {\"outlinewidth\": 0, \"ticks\": \"\"}}, \"colorscale\": {\"diverging\": [[0, \"#8e0152\"], [0.1, \"#c51b7d\"], [0.2, \"#de77ae\"], [0.3, \"#f1b6da\"], [0.4, \"#fde0ef\"], [0.5, \"#f7f7f7\"], [0.6, \"#e6f5d0\"], [0.7, \"#b8e186\"], [0.8, \"#7fbc41\"], [0.9, \"#4d9221\"], [1, \"#276419\"]], \"sequential\": [[0.0, \"#0d0887\"], [0.1111111111111111, \"#46039f\"], [0.2222222222222222, \"#7201a8\"], [0.3333333333333333, \"#9c179e\"], [0.4444444444444444, \"#bd3786\"], [0.5555555555555556, \"#d8576b\"], [0.6666666666666666, \"#ed7953\"], [0.7777777777777778, \"#fb9f3a\"], [0.8888888888888888, \"#fdca26\"], [1.0, \"#f0f921\"]], \"sequentialminus\": [[0.0, \"#0d0887\"], [0.1111111111111111, \"#46039f\"], [0.2222222222222222, \"#7201a8\"], [0.3333333333333333, \"#9c179e\"], [0.4444444444444444, \"#bd3786\"], [0.5555555555555556, \"#d8576b\"], [0.6666666666666666, \"#ed7953\"], [0.7777777777777778, \"#fb9f3a\"], [0.8888888888888888, \"#fdca26\"], [1.0, \"#f0f921\"]]}, \"colorway\": [\"#636efa\", \"#EF553B\", \"#00cc96\", \"#ab63fa\", \"#FFA15A\", \"#19d3f3\", \"#FF6692\", \"#B6E880\", \"#FF97FF\", \"#FECB52\"], \"font\": {\"color\": \"#2a3f5f\"}, \"geo\": {\"bgcolor\": \"white\", \"lakecolor\": \"white\", \"landcolor\": \"#E5ECF6\", \"showlakes\": true, \"showland\": true, \"subunitcolor\": \"white\"}, \"hoverlabel\": {\"align\": \"left\"}, \"hovermode\": \"closest\", \"mapbox\": {\"style\": \"light\"}, \"paper_bgcolor\": \"white\", \"plot_bgcolor\": \"#E5ECF6\", \"polar\": {\"angularaxis\": {\"gridcolor\": \"white\", \"linecolor\": \"white\", \"ticks\": \"\"}, \"bgcolor\": \"#E5ECF6\", \"radialaxis\": {\"gridcolor\": \"white\", \"linecolor\": \"white\", \"ticks\": \"\"}}, \"scene\": {\"xaxis\": {\"backgroundcolor\": \"#E5ECF6\", \"gridcolor\": \"white\", \"gridwidth\": 2, \"linecolor\": \"white\", \"showbackground\": true, \"ticks\": \"\", \"zerolinecolor\": \"white\"}, \"yaxis\": {\"backgroundcolor\": \"#E5ECF6\", \"gridcolor\": \"white\", \"gridwidth\": 2, \"linecolor\": \"white\", \"showbackground\": true, \"ticks\": \"\", \"zerolinecolor\": \"white\"}, \"zaxis\": {\"backgroundcolor\": \"#E5ECF6\", \"gridcolor\": \"white\", \"gridwidth\": 2, \"linecolor\": \"white\", \"showbackground\": true, \"ticks\": \"\", \"zerolinecolor\": \"white\"}}, \"shapedefaults\": {\"line\": {\"color\": \"#2a3f5f\"}}, \"ternary\": {\"aaxis\": {\"gridcolor\": \"white\", \"linecolor\": \"white\", \"ticks\": \"\"}, \"baxis\": {\"gridcolor\": \"white\", \"linecolor\": \"white\", \"ticks\": \"\"}, \"bgcolor\": \"#E5ECF6\", \"caxis\": {\"gridcolor\": \"white\", \"linecolor\": \"white\", \"ticks\": \"\"}}, \"title\": {\"x\": 0.05}, \"xaxis\": {\"automargin\": true, \"gridcolor\": \"white\", \"linecolor\": \"white\", \"ticks\": \"\", \"title\": {\"standoff\": 15}, \"zerolinecolor\": \"white\", \"zerolinewidth\": 2}, \"yaxis\": {\"automargin\": true, \"gridcolor\": \"white\", \"linecolor\": \"white\", \"ticks\": \"\", \"title\": {\"standoff\": 15}, \"zerolinecolor\": \"white\", \"zerolinewidth\": 2}}}, \"xaxis\": {\"anchor\": \"y\", \"domain\": [0.0, 1.0], \"title\": {\"text\": \"alphas\"}, \"type\": \"log\"}, \"yaxis\": {\"anchor\": \"x\", \"domain\": [0.0, 1.0], \"title\": {\"text\": \"value\"}}},                        {\"responsive\": true}                    ).then(function(){\n                            \nvar gd = document.getElementById('27f44629-c5c4-4ae1-9e13-fe40c7489f36');\nvar x = new MutationObserver(function (mutations, observer) {{\n        var display = window.getComputedStyle(gd).display;\n        if (!display || display === 'none') {{\n            console.log([gd, 'removed!']);\n            Plotly.purge(gd);\n            observer.disconnect();\n        }}\n}});\n\n// Listen for the removal of the full notebook cells\nvar notebookContainer = gd.closest('#notebook-container');\nif (notebookContainer) {{\n    x.observe(notebookContainer, {childList: true});\n}}\n\n// Listen for the clearing of the current output cell\nvar outputEl = gd.closest('.output');\nif (outputEl) {{\n    x.observe(outputEl, {childList: true});\n}}\n\n                        })                };                });            </script>        </div>"
     },
     "metadata": {}
    }
   ],
   "source": [
    "coefs = []\n",
    "for a in alphas:\n",
    "    ridge = Ridge(alpha=a)\n",
    "    ridge.fit(original_X, original_y)\n",
    "    coefs.append(ridge.coef_)\n",
    "\n",
    "features = original_X.columns\n",
    "\n",
    "df_coefs = pd.DataFrame(coefs, columns=features)\n",
    "df_coefs['alphas'] = alphas\n",
    "fig = px.line(df_coefs, x='alphas', y=features)\n",
    "fig.update_xaxes(type='log').show()"
   ]
  },
  {
   "source": [
    "## Fit Ridge Regression"
   ],
   "cell_type": "markdown",
   "metadata": {}
  },
  {
   "cell_type": "code",
   "execution_count": 38,
   "metadata": {},
   "outputs": [],
   "source": [
    "model = Ridge(alpha=0.17)\n",
    "model = model.fit(original_X, original_y)"
   ]
  },
  {
   "cell_type": "code",
   "execution_count": 39,
   "metadata": {},
   "outputs": [
    {
     "output_type": "execute_result",
     "data": {
      "text/plain": [
       "0.5093131467978795"
      ]
     },
     "metadata": {},
     "execution_count": 39
    }
   ],
   "source": [
    "model.score(original_X, original_y)"
   ]
  },
  {
   "source": [
    "# Polynomial Ridge Regression"
   ],
   "cell_type": "markdown",
   "metadata": {}
  },
  {
   "cell_type": "code",
   "execution_count": 44,
   "metadata": {},
   "outputs": [],
   "source": [
    "original_X_3 = polynomial_features(original_X, 3)"
   ]
  },
  {
   "cell_type": "code",
   "execution_count": 45,
   "metadata": {},
   "outputs": [
    {
     "output_type": "execute_result",
     "data": {
      "text/plain": [
       "        age       sex       bmi        bp        s1        s2        s3  \\\n",
       "0  0.038076  0.050680  0.061696  0.021872 -0.044223 -0.034821 -0.043401   \n",
       "1 -0.001882 -0.044642 -0.051474 -0.026328 -0.008449 -0.019163  0.074412   \n",
       "2  0.085299  0.050680  0.044451 -0.005671 -0.045599 -0.034194 -0.032356   \n",
       "3 -0.089063 -0.044642 -0.011595 -0.036656  0.012191  0.024991 -0.036038   \n",
       "4  0.005383 -0.044642 -0.036385  0.021872  0.003935  0.015596  0.008142   \n",
       "\n",
       "         s4        s5        s6  ...         age^3     sex^3     bmi^3  \\\n",
       "0 -0.002592  0.019908 -0.017646  ...  5.520148e-05  0.000130  0.000235   \n",
       "1 -0.039493 -0.068330 -0.092204  ... -6.666077e-09 -0.000089 -0.000136   \n",
       "2 -0.002592  0.002864 -0.025930  ...  6.206266e-04  0.000130  0.000088   \n",
       "3  0.034309  0.022692 -0.009362  ... -7.064657e-04 -0.000089 -0.000002   \n",
       "4 -0.002592 -0.031991 -0.046641  ...  1.559868e-07 -0.000089 -0.000048   \n",
       "\n",
       "           bp^3          s1^3      s2^3          s3^3          s4^3  \\\n",
       "0  1.046373e-05 -8.648868e-05 -0.000042 -8.175128e-05 -1.741954e-08   \n",
       "1 -1.824927e-05 -6.030779e-07 -0.000007  4.120228e-04 -6.159891e-05   \n",
       "2 -1.823432e-07 -9.481539e-05 -0.000040 -3.387363e-05 -1.741954e-08   \n",
       "3 -4.925509e-05  1.811640e-06  0.000016 -4.680222e-05  4.038488e-05   \n",
       "4  1.046373e-05  6.092353e-08  0.000004  5.397674e-07 -1.741954e-08   \n",
       "\n",
       "           s5^3          s6^3  \n",
       "0  7.890607e-06 -5.494752e-06  \n",
       "1 -3.190284e-04 -7.838807e-04  \n",
       "2  2.348630e-08 -1.743511e-05  \n",
       "3  1.168476e-05 -8.205283e-07  \n",
       "4 -3.274173e-05 -1.014612e-04  \n",
       "\n",
       "[5 rows x 30 columns]"
      ],
      "text/html": "<div>\n<style scoped>\n    .dataframe tbody tr th:only-of-type {\n        vertical-align: middle;\n    }\n\n    .dataframe tbody tr th {\n        vertical-align: top;\n    }\n\n    .dataframe thead th {\n        text-align: right;\n    }\n</style>\n<table border=\"1\" class=\"dataframe\">\n  <thead>\n    <tr style=\"text-align: right;\">\n      <th></th>\n      <th>age</th>\n      <th>sex</th>\n      <th>bmi</th>\n      <th>bp</th>\n      <th>s1</th>\n      <th>s2</th>\n      <th>s3</th>\n      <th>s4</th>\n      <th>s5</th>\n      <th>s6</th>\n      <th>...</th>\n      <th>age^3</th>\n      <th>sex^3</th>\n      <th>bmi^3</th>\n      <th>bp^3</th>\n      <th>s1^3</th>\n      <th>s2^3</th>\n      <th>s3^3</th>\n      <th>s4^3</th>\n      <th>s5^3</th>\n      <th>s6^3</th>\n    </tr>\n  </thead>\n  <tbody>\n    <tr>\n      <th>0</th>\n      <td>0.038076</td>\n      <td>0.050680</td>\n      <td>0.061696</td>\n      <td>0.021872</td>\n      <td>-0.044223</td>\n      <td>-0.034821</td>\n      <td>-0.043401</td>\n      <td>-0.002592</td>\n      <td>0.019908</td>\n      <td>-0.017646</td>\n      <td>...</td>\n      <td>5.520148e-05</td>\n      <td>0.000130</td>\n      <td>0.000235</td>\n      <td>1.046373e-05</td>\n      <td>-8.648868e-05</td>\n      <td>-0.000042</td>\n      <td>-8.175128e-05</td>\n      <td>-1.741954e-08</td>\n      <td>7.890607e-06</td>\n      <td>-5.494752e-06</td>\n    </tr>\n    <tr>\n      <th>1</th>\n      <td>-0.001882</td>\n      <td>-0.044642</td>\n      <td>-0.051474</td>\n      <td>-0.026328</td>\n      <td>-0.008449</td>\n      <td>-0.019163</td>\n      <td>0.074412</td>\n      <td>-0.039493</td>\n      <td>-0.068330</td>\n      <td>-0.092204</td>\n      <td>...</td>\n      <td>-6.666077e-09</td>\n      <td>-0.000089</td>\n      <td>-0.000136</td>\n      <td>-1.824927e-05</td>\n      <td>-6.030779e-07</td>\n      <td>-0.000007</td>\n      <td>4.120228e-04</td>\n      <td>-6.159891e-05</td>\n      <td>-3.190284e-04</td>\n      <td>-7.838807e-04</td>\n    </tr>\n    <tr>\n      <th>2</th>\n      <td>0.085299</td>\n      <td>0.050680</td>\n      <td>0.044451</td>\n      <td>-0.005671</td>\n      <td>-0.045599</td>\n      <td>-0.034194</td>\n      <td>-0.032356</td>\n      <td>-0.002592</td>\n      <td>0.002864</td>\n      <td>-0.025930</td>\n      <td>...</td>\n      <td>6.206266e-04</td>\n      <td>0.000130</td>\n      <td>0.000088</td>\n      <td>-1.823432e-07</td>\n      <td>-9.481539e-05</td>\n      <td>-0.000040</td>\n      <td>-3.387363e-05</td>\n      <td>-1.741954e-08</td>\n      <td>2.348630e-08</td>\n      <td>-1.743511e-05</td>\n    </tr>\n    <tr>\n      <th>3</th>\n      <td>-0.089063</td>\n      <td>-0.044642</td>\n      <td>-0.011595</td>\n      <td>-0.036656</td>\n      <td>0.012191</td>\n      <td>0.024991</td>\n      <td>-0.036038</td>\n      <td>0.034309</td>\n      <td>0.022692</td>\n      <td>-0.009362</td>\n      <td>...</td>\n      <td>-7.064657e-04</td>\n      <td>-0.000089</td>\n      <td>-0.000002</td>\n      <td>-4.925509e-05</td>\n      <td>1.811640e-06</td>\n      <td>0.000016</td>\n      <td>-4.680222e-05</td>\n      <td>4.038488e-05</td>\n      <td>1.168476e-05</td>\n      <td>-8.205283e-07</td>\n    </tr>\n    <tr>\n      <th>4</th>\n      <td>0.005383</td>\n      <td>-0.044642</td>\n      <td>-0.036385</td>\n      <td>0.021872</td>\n      <td>0.003935</td>\n      <td>0.015596</td>\n      <td>0.008142</td>\n      <td>-0.002592</td>\n      <td>-0.031991</td>\n      <td>-0.046641</td>\n      <td>...</td>\n      <td>1.559868e-07</td>\n      <td>-0.000089</td>\n      <td>-0.000048</td>\n      <td>1.046373e-05</td>\n      <td>6.092353e-08</td>\n      <td>0.000004</td>\n      <td>5.397674e-07</td>\n      <td>-1.741954e-08</td>\n      <td>-3.274173e-05</td>\n      <td>-1.014612e-04</td>\n    </tr>\n  </tbody>\n</table>\n<p>5 rows × 30 columns</p>\n</div>"
     },
     "metadata": {},
     "execution_count": 45
    }
   ],
   "source": [
    "original_X_3.head()"
   ]
  },
  {
   "source": [
    "## Alpha selection"
   ],
   "cell_type": "markdown",
   "metadata": {}
  },
  {
   "cell_type": "code",
   "execution_count": 47,
   "metadata": {},
   "outputs": [],
   "source": [
    "n_alphas = 80\n",
    "alphas = np.logspace(-2, 5, n_alphas)"
   ]
  },
  {
   "cell_type": "code",
   "execution_count": 48,
   "metadata": {},
   "outputs": [
    {
     "output_type": "display_data",
     "data": {
      "application/vnd.plotly.v1+json": {
       "config": {
        "plotlyServerURL": "https://plot.ly"
       },
       "data": [
        {
         "hovertemplate": "alpha=%{x}<br>R^2 (mean)=%{y}<extra></extra>",
         "legendgroup": "",
         "line": {
          "color": "#636efa",
          "dash": "solid"
         },
         "mode": "lines",
         "name": "",
         "orientation": "v",
         "showlegend": false,
         "type": "scatter",
         "x": [
          0.01,
          0.012263306841775632,
          0.015038869469554102,
          0.018442627085855347,
          0.022616759492228647,
          0.02773562614198415,
          0.03401304938279251,
          0.04171124612056518,
          0.051151780992931425,
          0.06272899858196247,
          0.07692649574879142,
          0.09433732216299774,
          0.1156887528316282,
          0.1418726674116596,
          0.1739828052930364,
          0.21336045265014109,
          0.2616504698748821,
          0.320869999737045,
          0.39349272630958493,
          0.48255220427412787,
          0.5917685748188825,
          0.7257039612324212,
          0.8899530352885229,
          1.0913767146512738,
          1.3383887531737564,
          1.6413071953751284,
          2.0127853758499383,
          2.4683404670686486,
          3.0270016537634614,
          3.7121050090663608,
          4.55226827550731,
          5.582586268862695,
          6.846096838574658,
          8.395578619995112,
          10.295755673125127,
          12.626001098748565,
          15.48365256585499,
          18.988078244652634,
          23.285662984981965,
          28.55592301990109,
          35.019004614317126,
          42.944879887892725,
          52.66462393484275,
          64.58424430196978,
          79.20164050192548,
          97.12740198471168,
          119.11031332830079,
          146.06863203649888,
          179.1284454622002,
          219.67070907932353,
          269.388930959017,
          330.35991201283395,
          405.1304969235378,
          496.8239594734388,
          609.2704661368674,
          747.1670675868082,
          916.2739011886731,
          1123.6548001387516,
          1377.9723598335568,
          1689.8497868124587,
          2072.3146452190294,
          2541.343036702639,
          3116.52694492943,
          3821.8926206331225,
          4686.904192314192,
          5747.694424835347,
          7048.574036451903,
          8643.882620598262,
          10600.258488068825,
          12999.42224413245,
          15941.590374559995,
          19549.661430912594,
          23974.349678010785,
          29400.480643347077,
          36054.71154250506,
          44214.99907374487,
          54222.21006501592,
          66494.35996665046,
          81544.07395185171,
          100000
         ],
         "xaxis": "x",
         "y": [
          0.485429381018767,
          0.48476625063749823,
          0.4841586278053779,
          0.4836179731630007,
          0.48314927108105954,
          0.48275066648361237,
          0.48241297182880133,
          0.4821188010407753,
          0.48184112501594367,
          0.4815410896447273,
          0.4811650100446876,
          0.4806405811073079,
          0.47987254902910725,
          0.4787383777929657,
          0.47708478899745244,
          0.4747263700326531,
          0.47144759253801843,
          0.46700938424670924,
          0.4611607154752496,
          0.45365451750426156,
          0.4442659369032899,
          0.4328100149087771,
          0.4191559905461009,
          0.4032368273540367,
          0.38505477582217373,
          0.3646855870549268,
          0.34228403793571716,
          0.318091195803727,
          0.2924402999326602,
          0.2657554046635166,
          0.2385370685504542,
          0.21133291327480402,
          0.18469628639837452,
          0.15914084008973076,
          0.13510039286863332,
          0.11290153169451304,
          0.09275232229379426,
          0.07474620225000936,
          0.05887715808765981,
          0.04506116715767132,
          0.0331593019377878,
          0.022999153164405307,
          0.01439267303172922,
          0.0071497564642091895,
          0.001087706721872994,
          -0.003962816843971639,
          -0.008154604638391239,
          -0.011622704768203884,
          -0.014484585929650896,
          -0.016841144326667612,
          -0.018778177238471527,
          -0.020368060251585617,
          -0.0216714553219723,
          -0.02273894369369689,
          -0.023612524876653284,
          -0.024326954668714974,
          -0.024910915596110784,
          -0.025388025458590292,
          -0.025777696470071932,
          -0.02609586067144811,
          -0.026355578200281005,
          -0.026567544552084654,
          -0.02674051177205685,
          -0.026881636969204113,
          -0.026996769891762584,
          -0.027090689688204474,
          -0.027167299480708795,
          -0.027229786034862834,
          -0.027280750631903317,
          -0.027322316234449095,
          -0.02735621517166522,
          -0.02738386083966384,
          -0.027406406300969355,
          -0.027424792156793654,
          -0.027439785642517433,
          -0.027452012546653793,
          -0.02746198326475464,
          -0.027470114062050487,
          -0.02747674442332646,
          -0.02748215120833688
         ],
         "yaxis": "y"
        }
       ],
       "layout": {
        "legend": {
         "tracegroupgap": 0
        },
        "margin": {
         "t": 60
        },
        "template": {
         "data": {
          "bar": [
           {
            "error_x": {
             "color": "#2a3f5f"
            },
            "error_y": {
             "color": "#2a3f5f"
            },
            "marker": {
             "line": {
              "color": "#E5ECF6",
              "width": 0.5
             }
            },
            "type": "bar"
           }
          ],
          "barpolar": [
           {
            "marker": {
             "line": {
              "color": "#E5ECF6",
              "width": 0.5
             }
            },
            "type": "barpolar"
           }
          ],
          "carpet": [
           {
            "aaxis": {
             "endlinecolor": "#2a3f5f",
             "gridcolor": "white",
             "linecolor": "white",
             "minorgridcolor": "white",
             "startlinecolor": "#2a3f5f"
            },
            "baxis": {
             "endlinecolor": "#2a3f5f",
             "gridcolor": "white",
             "linecolor": "white",
             "minorgridcolor": "white",
             "startlinecolor": "#2a3f5f"
            },
            "type": "carpet"
           }
          ],
          "choropleth": [
           {
            "colorbar": {
             "outlinewidth": 0,
             "ticks": ""
            },
            "type": "choropleth"
           }
          ],
          "contour": [
           {
            "colorbar": {
             "outlinewidth": 0,
             "ticks": ""
            },
            "colorscale": [
             [
              0,
              "#0d0887"
             ],
             [
              0.1111111111111111,
              "#46039f"
             ],
             [
              0.2222222222222222,
              "#7201a8"
             ],
             [
              0.3333333333333333,
              "#9c179e"
             ],
             [
              0.4444444444444444,
              "#bd3786"
             ],
             [
              0.5555555555555556,
              "#d8576b"
             ],
             [
              0.6666666666666666,
              "#ed7953"
             ],
             [
              0.7777777777777778,
              "#fb9f3a"
             ],
             [
              0.8888888888888888,
              "#fdca26"
             ],
             [
              1,
              "#f0f921"
             ]
            ],
            "type": "contour"
           }
          ],
          "contourcarpet": [
           {
            "colorbar": {
             "outlinewidth": 0,
             "ticks": ""
            },
            "type": "contourcarpet"
           }
          ],
          "heatmap": [
           {
            "colorbar": {
             "outlinewidth": 0,
             "ticks": ""
            },
            "colorscale": [
             [
              0,
              "#0d0887"
             ],
             [
              0.1111111111111111,
              "#46039f"
             ],
             [
              0.2222222222222222,
              "#7201a8"
             ],
             [
              0.3333333333333333,
              "#9c179e"
             ],
             [
              0.4444444444444444,
              "#bd3786"
             ],
             [
              0.5555555555555556,
              "#d8576b"
             ],
             [
              0.6666666666666666,
              "#ed7953"
             ],
             [
              0.7777777777777778,
              "#fb9f3a"
             ],
             [
              0.8888888888888888,
              "#fdca26"
             ],
             [
              1,
              "#f0f921"
             ]
            ],
            "type": "heatmap"
           }
          ],
          "heatmapgl": [
           {
            "colorbar": {
             "outlinewidth": 0,
             "ticks": ""
            },
            "colorscale": [
             [
              0,
              "#0d0887"
             ],
             [
              0.1111111111111111,
              "#46039f"
             ],
             [
              0.2222222222222222,
              "#7201a8"
             ],
             [
              0.3333333333333333,
              "#9c179e"
             ],
             [
              0.4444444444444444,
              "#bd3786"
             ],
             [
              0.5555555555555556,
              "#d8576b"
             ],
             [
              0.6666666666666666,
              "#ed7953"
             ],
             [
              0.7777777777777778,
              "#fb9f3a"
             ],
             [
              0.8888888888888888,
              "#fdca26"
             ],
             [
              1,
              "#f0f921"
             ]
            ],
            "type": "heatmapgl"
           }
          ],
          "histogram": [
           {
            "marker": {
             "colorbar": {
              "outlinewidth": 0,
              "ticks": ""
             }
            },
            "type": "histogram"
           }
          ],
          "histogram2d": [
           {
            "colorbar": {
             "outlinewidth": 0,
             "ticks": ""
            },
            "colorscale": [
             [
              0,
              "#0d0887"
             ],
             [
              0.1111111111111111,
              "#46039f"
             ],
             [
              0.2222222222222222,
              "#7201a8"
             ],
             [
              0.3333333333333333,
              "#9c179e"
             ],
             [
              0.4444444444444444,
              "#bd3786"
             ],
             [
              0.5555555555555556,
              "#d8576b"
             ],
             [
              0.6666666666666666,
              "#ed7953"
             ],
             [
              0.7777777777777778,
              "#fb9f3a"
             ],
             [
              0.8888888888888888,
              "#fdca26"
             ],
             [
              1,
              "#f0f921"
             ]
            ],
            "type": "histogram2d"
           }
          ],
          "histogram2dcontour": [
           {
            "colorbar": {
             "outlinewidth": 0,
             "ticks": ""
            },
            "colorscale": [
             [
              0,
              "#0d0887"
             ],
             [
              0.1111111111111111,
              "#46039f"
             ],
             [
              0.2222222222222222,
              "#7201a8"
             ],
             [
              0.3333333333333333,
              "#9c179e"
             ],
             [
              0.4444444444444444,
              "#bd3786"
             ],
             [
              0.5555555555555556,
              "#d8576b"
             ],
             [
              0.6666666666666666,
              "#ed7953"
             ],
             [
              0.7777777777777778,
              "#fb9f3a"
             ],
             [
              0.8888888888888888,
              "#fdca26"
             ],
             [
              1,
              "#f0f921"
             ]
            ],
            "type": "histogram2dcontour"
           }
          ],
          "mesh3d": [
           {
            "colorbar": {
             "outlinewidth": 0,
             "ticks": ""
            },
            "type": "mesh3d"
           }
          ],
          "parcoords": [
           {
            "line": {
             "colorbar": {
              "outlinewidth": 0,
              "ticks": ""
             }
            },
            "type": "parcoords"
           }
          ],
          "pie": [
           {
            "automargin": true,
            "type": "pie"
           }
          ],
          "scatter": [
           {
            "marker": {
             "colorbar": {
              "outlinewidth": 0,
              "ticks": ""
             }
            },
            "type": "scatter"
           }
          ],
          "scatter3d": [
           {
            "line": {
             "colorbar": {
              "outlinewidth": 0,
              "ticks": ""
             }
            },
            "marker": {
             "colorbar": {
              "outlinewidth": 0,
              "ticks": ""
             }
            },
            "type": "scatter3d"
           }
          ],
          "scattercarpet": [
           {
            "marker": {
             "colorbar": {
              "outlinewidth": 0,
              "ticks": ""
             }
            },
            "type": "scattercarpet"
           }
          ],
          "scattergeo": [
           {
            "marker": {
             "colorbar": {
              "outlinewidth": 0,
              "ticks": ""
             }
            },
            "type": "scattergeo"
           }
          ],
          "scattergl": [
           {
            "marker": {
             "colorbar": {
              "outlinewidth": 0,
              "ticks": ""
             }
            },
            "type": "scattergl"
           }
          ],
          "scattermapbox": [
           {
            "marker": {
             "colorbar": {
              "outlinewidth": 0,
              "ticks": ""
             }
            },
            "type": "scattermapbox"
           }
          ],
          "scatterpolar": [
           {
            "marker": {
             "colorbar": {
              "outlinewidth": 0,
              "ticks": ""
             }
            },
            "type": "scatterpolar"
           }
          ],
          "scatterpolargl": [
           {
            "marker": {
             "colorbar": {
              "outlinewidth": 0,
              "ticks": ""
             }
            },
            "type": "scatterpolargl"
           }
          ],
          "scatterternary": [
           {
            "marker": {
             "colorbar": {
              "outlinewidth": 0,
              "ticks": ""
             }
            },
            "type": "scatterternary"
           }
          ],
          "surface": [
           {
            "colorbar": {
             "outlinewidth": 0,
             "ticks": ""
            },
            "colorscale": [
             [
              0,
              "#0d0887"
             ],
             [
              0.1111111111111111,
              "#46039f"
             ],
             [
              0.2222222222222222,
              "#7201a8"
             ],
             [
              0.3333333333333333,
              "#9c179e"
             ],
             [
              0.4444444444444444,
              "#bd3786"
             ],
             [
              0.5555555555555556,
              "#d8576b"
             ],
             [
              0.6666666666666666,
              "#ed7953"
             ],
             [
              0.7777777777777778,
              "#fb9f3a"
             ],
             [
              0.8888888888888888,
              "#fdca26"
             ],
             [
              1,
              "#f0f921"
             ]
            ],
            "type": "surface"
           }
          ],
          "table": [
           {
            "cells": {
             "fill": {
              "color": "#EBF0F8"
             },
             "line": {
              "color": "white"
             }
            },
            "header": {
             "fill": {
              "color": "#C8D4E3"
             },
             "line": {
              "color": "white"
             }
            },
            "type": "table"
           }
          ]
         },
         "layout": {
          "annotationdefaults": {
           "arrowcolor": "#2a3f5f",
           "arrowhead": 0,
           "arrowwidth": 1
          },
          "coloraxis": {
           "colorbar": {
            "outlinewidth": 0,
            "ticks": ""
           }
          },
          "colorscale": {
           "diverging": [
            [
             0,
             "#8e0152"
            ],
            [
             0.1,
             "#c51b7d"
            ],
            [
             0.2,
             "#de77ae"
            ],
            [
             0.3,
             "#f1b6da"
            ],
            [
             0.4,
             "#fde0ef"
            ],
            [
             0.5,
             "#f7f7f7"
            ],
            [
             0.6,
             "#e6f5d0"
            ],
            [
             0.7,
             "#b8e186"
            ],
            [
             0.8,
             "#7fbc41"
            ],
            [
             0.9,
             "#4d9221"
            ],
            [
             1,
             "#276419"
            ]
           ],
           "sequential": [
            [
             0,
             "#0d0887"
            ],
            [
             0.1111111111111111,
             "#46039f"
            ],
            [
             0.2222222222222222,
             "#7201a8"
            ],
            [
             0.3333333333333333,
             "#9c179e"
            ],
            [
             0.4444444444444444,
             "#bd3786"
            ],
            [
             0.5555555555555556,
             "#d8576b"
            ],
            [
             0.6666666666666666,
             "#ed7953"
            ],
            [
             0.7777777777777778,
             "#fb9f3a"
            ],
            [
             0.8888888888888888,
             "#fdca26"
            ],
            [
             1,
             "#f0f921"
            ]
           ],
           "sequentialminus": [
            [
             0,
             "#0d0887"
            ],
            [
             0.1111111111111111,
             "#46039f"
            ],
            [
             0.2222222222222222,
             "#7201a8"
            ],
            [
             0.3333333333333333,
             "#9c179e"
            ],
            [
             0.4444444444444444,
             "#bd3786"
            ],
            [
             0.5555555555555556,
             "#d8576b"
            ],
            [
             0.6666666666666666,
             "#ed7953"
            ],
            [
             0.7777777777777778,
             "#fb9f3a"
            ],
            [
             0.8888888888888888,
             "#fdca26"
            ],
            [
             1,
             "#f0f921"
            ]
           ]
          },
          "colorway": [
           "#636efa",
           "#EF553B",
           "#00cc96",
           "#ab63fa",
           "#FFA15A",
           "#19d3f3",
           "#FF6692",
           "#B6E880",
           "#FF97FF",
           "#FECB52"
          ],
          "font": {
           "color": "#2a3f5f"
          },
          "geo": {
           "bgcolor": "white",
           "lakecolor": "white",
           "landcolor": "#E5ECF6",
           "showlakes": true,
           "showland": true,
           "subunitcolor": "white"
          },
          "hoverlabel": {
           "align": "left"
          },
          "hovermode": "closest",
          "mapbox": {
           "style": "light"
          },
          "paper_bgcolor": "white",
          "plot_bgcolor": "#E5ECF6",
          "polar": {
           "angularaxis": {
            "gridcolor": "white",
            "linecolor": "white",
            "ticks": ""
           },
           "bgcolor": "#E5ECF6",
           "radialaxis": {
            "gridcolor": "white",
            "linecolor": "white",
            "ticks": ""
           }
          },
          "scene": {
           "xaxis": {
            "backgroundcolor": "#E5ECF6",
            "gridcolor": "white",
            "gridwidth": 2,
            "linecolor": "white",
            "showbackground": true,
            "ticks": "",
            "zerolinecolor": "white"
           },
           "yaxis": {
            "backgroundcolor": "#E5ECF6",
            "gridcolor": "white",
            "gridwidth": 2,
            "linecolor": "white",
            "showbackground": true,
            "ticks": "",
            "zerolinecolor": "white"
           },
           "zaxis": {
            "backgroundcolor": "#E5ECF6",
            "gridcolor": "white",
            "gridwidth": 2,
            "linecolor": "white",
            "showbackground": true,
            "ticks": "",
            "zerolinecolor": "white"
           }
          },
          "shapedefaults": {
           "line": {
            "color": "#2a3f5f"
           }
          },
          "ternary": {
           "aaxis": {
            "gridcolor": "white",
            "linecolor": "white",
            "ticks": ""
           },
           "baxis": {
            "gridcolor": "white",
            "linecolor": "white",
            "ticks": ""
           },
           "bgcolor": "#E5ECF6",
           "caxis": {
            "gridcolor": "white",
            "linecolor": "white",
            "ticks": ""
           }
          },
          "title": {
           "x": 0.05
          },
          "xaxis": {
           "automargin": true,
           "gridcolor": "white",
           "linecolor": "white",
           "ticks": "",
           "title": {
            "standoff": 15
           },
           "zerolinecolor": "white",
           "zerolinewidth": 2
          },
          "yaxis": {
           "automargin": true,
           "gridcolor": "white",
           "linecolor": "white",
           "ticks": "",
           "title": {
            "standoff": 15
           },
           "zerolinecolor": "white",
           "zerolinewidth": 2
          }
         }
        },
        "xaxis": {
         "anchor": "y",
         "domain": [
          0,
          1
         ],
         "title": {
          "text": "alpha"
         },
         "type": "log"
        },
        "yaxis": {
         "anchor": "x",
         "domain": [
          0,
          1
         ],
         "title": {
          "text": "R^2 (mean)"
         }
        }
       }
      },
      "text/html": "<div>                            <div id=\"3f075252-1843-481c-b5cc-c71f003a0bb3\" class=\"plotly-graph-div\" style=\"height:525px; width:100%;\"></div>            <script type=\"text/javascript\">                require([\"plotly\"], function(Plotly) {                    window.PLOTLYENV=window.PLOTLYENV || {};                                    if (document.getElementById(\"3f075252-1843-481c-b5cc-c71f003a0bb3\")) {                    Plotly.newPlot(                        \"3f075252-1843-481c-b5cc-c71f003a0bb3\",                        [{\"hovertemplate\": \"alpha=%{x}<br>R^2 (mean)=%{y}<extra></extra>\", \"legendgroup\": \"\", \"line\": {\"color\": \"#636efa\", \"dash\": \"solid\"}, \"mode\": \"lines\", \"name\": \"\", \"orientation\": \"v\", \"showlegend\": false, \"type\": \"scatter\", \"x\": [0.01, 0.012263306841775632, 0.015038869469554102, 0.018442627085855347, 0.022616759492228647, 0.02773562614198415, 0.03401304938279251, 0.04171124612056518, 0.051151780992931425, 0.06272899858196247, 0.07692649574879142, 0.09433732216299774, 0.1156887528316282, 0.1418726674116596, 0.1739828052930364, 0.21336045265014109, 0.2616504698748821, 0.320869999737045, 0.39349272630958493, 0.48255220427412787, 0.5917685748188825, 0.7257039612324212, 0.8899530352885229, 1.0913767146512738, 1.3383887531737564, 1.6413071953751284, 2.0127853758499383, 2.4683404670686486, 3.0270016537634614, 3.7121050090663608, 4.55226827550731, 5.582586268862695, 6.846096838574658, 8.395578619995112, 10.295755673125127, 12.626001098748565, 15.48365256585499, 18.988078244652634, 23.285662984981965, 28.55592301990109, 35.019004614317126, 42.944879887892725, 52.66462393484275, 64.58424430196978, 79.20164050192548, 97.12740198471168, 119.11031332830079, 146.06863203649888, 179.1284454622002, 219.67070907932353, 269.388930959017, 330.35991201283395, 405.1304969235378, 496.8239594734388, 609.2704661368674, 747.1670675868082, 916.2739011886731, 1123.6548001387516, 1377.9723598335568, 1689.8497868124587, 2072.3146452190294, 2541.343036702639, 3116.52694492943, 3821.8926206331225, 4686.904192314192, 5747.694424835347, 7048.574036451903, 8643.882620598262, 10600.258488068825, 12999.42224413245, 15941.590374559995, 19549.661430912594, 23974.349678010785, 29400.480643347077, 36054.71154250506, 44214.99907374487, 54222.21006501592, 66494.35996665046, 81544.07395185171, 100000.0], \"xaxis\": \"x\", \"y\": [0.485429381018767, 0.48476625063749823, 0.4841586278053779, 0.4836179731630007, 0.48314927108105954, 0.48275066648361237, 0.48241297182880133, 0.4821188010407753, 0.48184112501594367, 0.4815410896447273, 0.4811650100446876, 0.4806405811073079, 0.47987254902910725, 0.4787383777929657, 0.47708478899745244, 0.4747263700326531, 0.47144759253801843, 0.46700938424670924, 0.4611607154752496, 0.45365451750426156, 0.4442659369032899, 0.4328100149087771, 0.4191559905461009, 0.4032368273540367, 0.38505477582217373, 0.3646855870549268, 0.34228403793571716, 0.318091195803727, 0.2924402999326602, 0.2657554046635166, 0.2385370685504542, 0.21133291327480402, 0.18469628639837452, 0.15914084008973076, 0.13510039286863332, 0.11290153169451304, 0.09275232229379426, 0.07474620225000936, 0.05887715808765981, 0.04506116715767132, 0.0331593019377878, 0.022999153164405307, 0.01439267303172922, 0.0071497564642091895, 0.001087706721872994, -0.003962816843971639, -0.008154604638391239, -0.011622704768203884, -0.014484585929650896, -0.016841144326667612, -0.018778177238471527, -0.020368060251585617, -0.0216714553219723, -0.02273894369369689, -0.023612524876653284, -0.024326954668714974, -0.024910915596110784, -0.025388025458590292, -0.025777696470071932, -0.02609586067144811, -0.026355578200281005, -0.026567544552084654, -0.02674051177205685, -0.026881636969204113, -0.026996769891762584, -0.027090689688204474, -0.027167299480708795, -0.027229786034862834, -0.027280750631903317, -0.027322316234449095, -0.02735621517166522, -0.02738386083966384, -0.027406406300969355, -0.027424792156793654, -0.027439785642517433, -0.027452012546653793, -0.02746198326475464, -0.027470114062050487, -0.02747674442332646, -0.02748215120833688], \"yaxis\": \"y\"}],                        {\"legend\": {\"tracegroupgap\": 0}, \"margin\": {\"t\": 60}, \"template\": {\"data\": {\"bar\": [{\"error_x\": {\"color\": \"#2a3f5f\"}, \"error_y\": {\"color\": \"#2a3f5f\"}, \"marker\": {\"line\": {\"color\": \"#E5ECF6\", \"width\": 0.5}}, \"type\": \"bar\"}], \"barpolar\": [{\"marker\": {\"line\": {\"color\": \"#E5ECF6\", \"width\": 0.5}}, \"type\": \"barpolar\"}], \"carpet\": [{\"aaxis\": {\"endlinecolor\": \"#2a3f5f\", \"gridcolor\": \"white\", \"linecolor\": \"white\", \"minorgridcolor\": \"white\", \"startlinecolor\": \"#2a3f5f\"}, \"baxis\": {\"endlinecolor\": \"#2a3f5f\", \"gridcolor\": \"white\", \"linecolor\": \"white\", \"minorgridcolor\": \"white\", \"startlinecolor\": \"#2a3f5f\"}, \"type\": \"carpet\"}], \"choropleth\": [{\"colorbar\": {\"outlinewidth\": 0, \"ticks\": \"\"}, \"type\": \"choropleth\"}], \"contour\": [{\"colorbar\": {\"outlinewidth\": 0, \"ticks\": \"\"}, \"colorscale\": [[0.0, \"#0d0887\"], [0.1111111111111111, \"#46039f\"], [0.2222222222222222, \"#7201a8\"], [0.3333333333333333, \"#9c179e\"], [0.4444444444444444, \"#bd3786\"], [0.5555555555555556, \"#d8576b\"], [0.6666666666666666, \"#ed7953\"], [0.7777777777777778, \"#fb9f3a\"], [0.8888888888888888, \"#fdca26\"], [1.0, \"#f0f921\"]], \"type\": \"contour\"}], \"contourcarpet\": [{\"colorbar\": {\"outlinewidth\": 0, \"ticks\": \"\"}, \"type\": \"contourcarpet\"}], \"heatmap\": [{\"colorbar\": {\"outlinewidth\": 0, \"ticks\": \"\"}, \"colorscale\": [[0.0, \"#0d0887\"], [0.1111111111111111, \"#46039f\"], [0.2222222222222222, \"#7201a8\"], [0.3333333333333333, \"#9c179e\"], [0.4444444444444444, \"#bd3786\"], [0.5555555555555556, \"#d8576b\"], [0.6666666666666666, \"#ed7953\"], [0.7777777777777778, \"#fb9f3a\"], [0.8888888888888888, \"#fdca26\"], [1.0, \"#f0f921\"]], \"type\": \"heatmap\"}], \"heatmapgl\": [{\"colorbar\": {\"outlinewidth\": 0, \"ticks\": \"\"}, \"colorscale\": [[0.0, \"#0d0887\"], [0.1111111111111111, \"#46039f\"], [0.2222222222222222, \"#7201a8\"], [0.3333333333333333, \"#9c179e\"], [0.4444444444444444, \"#bd3786\"], [0.5555555555555556, \"#d8576b\"], [0.6666666666666666, \"#ed7953\"], [0.7777777777777778, \"#fb9f3a\"], [0.8888888888888888, \"#fdca26\"], [1.0, \"#f0f921\"]], \"type\": \"heatmapgl\"}], \"histogram\": [{\"marker\": {\"colorbar\": {\"outlinewidth\": 0, \"ticks\": \"\"}}, \"type\": \"histogram\"}], \"histogram2d\": [{\"colorbar\": {\"outlinewidth\": 0, \"ticks\": \"\"}, \"colorscale\": [[0.0, \"#0d0887\"], [0.1111111111111111, \"#46039f\"], [0.2222222222222222, \"#7201a8\"], [0.3333333333333333, \"#9c179e\"], [0.4444444444444444, \"#bd3786\"], [0.5555555555555556, \"#d8576b\"], [0.6666666666666666, \"#ed7953\"], [0.7777777777777778, \"#fb9f3a\"], [0.8888888888888888, \"#fdca26\"], [1.0, \"#f0f921\"]], \"type\": \"histogram2d\"}], \"histogram2dcontour\": [{\"colorbar\": {\"outlinewidth\": 0, \"ticks\": \"\"}, \"colorscale\": [[0.0, \"#0d0887\"], [0.1111111111111111, \"#46039f\"], [0.2222222222222222, \"#7201a8\"], [0.3333333333333333, \"#9c179e\"], [0.4444444444444444, \"#bd3786\"], [0.5555555555555556, \"#d8576b\"], [0.6666666666666666, \"#ed7953\"], [0.7777777777777778, \"#fb9f3a\"], [0.8888888888888888, \"#fdca26\"], [1.0, \"#f0f921\"]], \"type\": \"histogram2dcontour\"}], \"mesh3d\": [{\"colorbar\": {\"outlinewidth\": 0, \"ticks\": \"\"}, \"type\": \"mesh3d\"}], \"parcoords\": [{\"line\": {\"colorbar\": {\"outlinewidth\": 0, \"ticks\": \"\"}}, \"type\": \"parcoords\"}], \"pie\": [{\"automargin\": true, \"type\": \"pie\"}], \"scatter\": [{\"marker\": {\"colorbar\": {\"outlinewidth\": 0, \"ticks\": \"\"}}, \"type\": \"scatter\"}], \"scatter3d\": [{\"line\": {\"colorbar\": {\"outlinewidth\": 0, \"ticks\": \"\"}}, \"marker\": {\"colorbar\": {\"outlinewidth\": 0, \"ticks\": \"\"}}, \"type\": \"scatter3d\"}], \"scattercarpet\": [{\"marker\": {\"colorbar\": {\"outlinewidth\": 0, \"ticks\": \"\"}}, \"type\": \"scattercarpet\"}], \"scattergeo\": [{\"marker\": {\"colorbar\": {\"outlinewidth\": 0, \"ticks\": \"\"}}, \"type\": \"scattergeo\"}], \"scattergl\": [{\"marker\": {\"colorbar\": {\"outlinewidth\": 0, \"ticks\": \"\"}}, \"type\": \"scattergl\"}], \"scattermapbox\": [{\"marker\": {\"colorbar\": {\"outlinewidth\": 0, \"ticks\": \"\"}}, \"type\": \"scattermapbox\"}], \"scatterpolar\": [{\"marker\": {\"colorbar\": {\"outlinewidth\": 0, \"ticks\": \"\"}}, \"type\": \"scatterpolar\"}], \"scatterpolargl\": [{\"marker\": {\"colorbar\": {\"outlinewidth\": 0, \"ticks\": \"\"}}, \"type\": \"scatterpolargl\"}], \"scatterternary\": [{\"marker\": {\"colorbar\": {\"outlinewidth\": 0, \"ticks\": \"\"}}, \"type\": \"scatterternary\"}], \"surface\": [{\"colorbar\": {\"outlinewidth\": 0, \"ticks\": \"\"}, \"colorscale\": [[0.0, \"#0d0887\"], [0.1111111111111111, \"#46039f\"], [0.2222222222222222, \"#7201a8\"], [0.3333333333333333, \"#9c179e\"], [0.4444444444444444, \"#bd3786\"], [0.5555555555555556, \"#d8576b\"], [0.6666666666666666, \"#ed7953\"], [0.7777777777777778, \"#fb9f3a\"], [0.8888888888888888, \"#fdca26\"], [1.0, \"#f0f921\"]], \"type\": \"surface\"}], \"table\": [{\"cells\": {\"fill\": {\"color\": \"#EBF0F8\"}, \"line\": {\"color\": \"white\"}}, \"header\": {\"fill\": {\"color\": \"#C8D4E3\"}, \"line\": {\"color\": \"white\"}}, \"type\": \"table\"}]}, \"layout\": {\"annotationdefaults\": {\"arrowcolor\": \"#2a3f5f\", \"arrowhead\": 0, \"arrowwidth\": 1}, \"coloraxis\": {\"colorbar\": {\"outlinewidth\": 0, \"ticks\": \"\"}}, \"colorscale\": {\"diverging\": [[0, \"#8e0152\"], [0.1, \"#c51b7d\"], [0.2, \"#de77ae\"], [0.3, \"#f1b6da\"], [0.4, \"#fde0ef\"], [0.5, \"#f7f7f7\"], [0.6, \"#e6f5d0\"], [0.7, \"#b8e186\"], [0.8, \"#7fbc41\"], [0.9, \"#4d9221\"], [1, \"#276419\"]], \"sequential\": [[0.0, \"#0d0887\"], [0.1111111111111111, \"#46039f\"], [0.2222222222222222, \"#7201a8\"], [0.3333333333333333, \"#9c179e\"], [0.4444444444444444, \"#bd3786\"], [0.5555555555555556, \"#d8576b\"], [0.6666666666666666, \"#ed7953\"], [0.7777777777777778, \"#fb9f3a\"], [0.8888888888888888, \"#fdca26\"], [1.0, \"#f0f921\"]], \"sequentialminus\": [[0.0, \"#0d0887\"], [0.1111111111111111, \"#46039f\"], [0.2222222222222222, \"#7201a8\"], [0.3333333333333333, \"#9c179e\"], [0.4444444444444444, \"#bd3786\"], [0.5555555555555556, \"#d8576b\"], [0.6666666666666666, \"#ed7953\"], [0.7777777777777778, \"#fb9f3a\"], [0.8888888888888888, \"#fdca26\"], [1.0, \"#f0f921\"]]}, \"colorway\": [\"#636efa\", \"#EF553B\", \"#00cc96\", \"#ab63fa\", \"#FFA15A\", \"#19d3f3\", \"#FF6692\", \"#B6E880\", \"#FF97FF\", \"#FECB52\"], \"font\": {\"color\": \"#2a3f5f\"}, \"geo\": {\"bgcolor\": \"white\", \"lakecolor\": \"white\", \"landcolor\": \"#E5ECF6\", \"showlakes\": true, \"showland\": true, \"subunitcolor\": \"white\"}, \"hoverlabel\": {\"align\": \"left\"}, \"hovermode\": \"closest\", \"mapbox\": {\"style\": \"light\"}, \"paper_bgcolor\": \"white\", \"plot_bgcolor\": \"#E5ECF6\", \"polar\": {\"angularaxis\": {\"gridcolor\": \"white\", \"linecolor\": \"white\", \"ticks\": \"\"}, \"bgcolor\": \"#E5ECF6\", \"radialaxis\": {\"gridcolor\": \"white\", \"linecolor\": \"white\", \"ticks\": \"\"}}, \"scene\": {\"xaxis\": {\"backgroundcolor\": \"#E5ECF6\", \"gridcolor\": \"white\", \"gridwidth\": 2, \"linecolor\": \"white\", \"showbackground\": true, \"ticks\": \"\", \"zerolinecolor\": \"white\"}, \"yaxis\": {\"backgroundcolor\": \"#E5ECF6\", \"gridcolor\": \"white\", \"gridwidth\": 2, \"linecolor\": \"white\", \"showbackground\": true, \"ticks\": \"\", \"zerolinecolor\": \"white\"}, \"zaxis\": {\"backgroundcolor\": \"#E5ECF6\", \"gridcolor\": \"white\", \"gridwidth\": 2, \"linecolor\": \"white\", \"showbackground\": true, \"ticks\": \"\", \"zerolinecolor\": \"white\"}}, \"shapedefaults\": {\"line\": {\"color\": \"#2a3f5f\"}}, \"ternary\": {\"aaxis\": {\"gridcolor\": \"white\", \"linecolor\": \"white\", \"ticks\": \"\"}, \"baxis\": {\"gridcolor\": \"white\", \"linecolor\": \"white\", \"ticks\": \"\"}, \"bgcolor\": \"#E5ECF6\", \"caxis\": {\"gridcolor\": \"white\", \"linecolor\": \"white\", \"ticks\": \"\"}}, \"title\": {\"x\": 0.05}, \"xaxis\": {\"automargin\": true, \"gridcolor\": \"white\", \"linecolor\": \"white\", \"ticks\": \"\", \"title\": {\"standoff\": 15}, \"zerolinecolor\": \"white\", \"zerolinewidth\": 2}, \"yaxis\": {\"automargin\": true, \"gridcolor\": \"white\", \"linecolor\": \"white\", \"ticks\": \"\", \"title\": {\"standoff\": 15}, \"zerolinecolor\": \"white\", \"zerolinewidth\": 2}}}, \"xaxis\": {\"anchor\": \"y\", \"domain\": [0.0, 1.0], \"title\": {\"text\": \"alpha\"}, \"type\": \"log\"}, \"yaxis\": {\"anchor\": \"x\", \"domain\": [0.0, 1.0], \"title\": {\"text\": \"R^2 (mean)\"}}},                        {\"responsive\": true}                    ).then(function(){\n                            \nvar gd = document.getElementById('3f075252-1843-481c-b5cc-c71f003a0bb3');\nvar x = new MutationObserver(function (mutations, observer) {{\n        var display = window.getComputedStyle(gd).display;\n        if (!display || display === 'none') {{\n            console.log([gd, 'removed!']);\n            Plotly.purge(gd);\n            observer.disconnect();\n        }}\n}});\n\n// Listen for the removal of the full notebook cells\nvar notebookContainer = gd.closest('#notebook-container');\nif (notebookContainer) {{\n    x.observe(notebookContainer, {childList: true});\n}}\n\n// Listen for the clearing of the current output cell\nvar outputEl = gd.closest('.output');\nif (outputEl) {{\n    x.observe(outputEl, {childList: true});\n}}\n\n                        })                };                });            </script>        </div>"
     },
     "metadata": {}
    }
   ],
   "source": [
    "# we pick alpha before the drop of the R^2 value\n",
    "r2_means = []\n",
    "\n",
    "for i in alphas:\n",
    "    r2_means.append(cross_val_score(Ridge(alpha=i), original_X_3, original_y).mean())\n",
    "\n",
    "result = pd.DataFrame(zip(alphas, r2_means), columns=['alpha', 'R^2 (mean)'])\n",
    "fig = px.line(result, x='alpha', y='R^2 (mean)')\n",
    "fig.update_xaxes(type='log')\n",
    "fig.show()"
   ]
  },
  {
   "source": [
    "## Coefficients"
   ],
   "cell_type": "markdown",
   "metadata": {}
  },
  {
   "cell_type": "code",
   "execution_count": 50,
   "metadata": {},
   "outputs": [
    {
     "output_type": "display_data",
     "data": {
      "application/vnd.plotly.v1+json": {
       "config": {
        "plotlyServerURL": "https://plot.ly"
       },
       "data": [
        {
         "hovertemplate": "variable=age<br>alphas=%{x}<br>value=%{y}<extra></extra>",
         "legendgroup": "age",
         "line": {
          "color": "#636efa",
          "dash": "solid"
         },
         "mode": "lines",
         "name": "age",
         "showlegend": true,
         "type": "scattergl",
         "x": [
          0.01,
          0.012263306841775632,
          0.015038869469554102,
          0.018442627085855347,
          0.022616759492228647,
          0.02773562614198415,
          0.03401304938279251,
          0.04171124612056518,
          0.051151780992931425,
          0.06272899858196247,
          0.07692649574879142,
          0.09433732216299774,
          0.1156887528316282,
          0.1418726674116596,
          0.1739828052930364,
          0.21336045265014109,
          0.2616504698748821,
          0.320869999737045,
          0.39349272630958493,
          0.48255220427412787,
          0.5917685748188825,
          0.7257039612324212,
          0.8899530352885229,
          1.0913767146512738,
          1.3383887531737564,
          1.6413071953751284,
          2.0127853758499383,
          2.4683404670686486,
          3.0270016537634614,
          3.7121050090663608,
          4.55226827550731,
          5.582586268862695,
          6.846096838574658,
          8.395578619995112,
          10.295755673125127,
          12.626001098748565,
          15.48365256585499,
          18.988078244652634,
          23.285662984981965,
          28.55592301990109,
          35.019004614317126,
          42.944879887892725,
          52.66462393484275,
          64.58424430196978,
          79.20164050192548,
          97.12740198471168,
          119.11031332830079,
          146.06863203649888,
          179.1284454622002,
          219.67070907932353,
          269.388930959017,
          330.35991201283395,
          405.1304969235378,
          496.8239594734388,
          609.2704661368674,
          747.1670675868082,
          916.2739011886731,
          1123.6548001387516,
          1377.9723598335568,
          1689.8497868124587,
          2072.3146452190294,
          2541.343036702639,
          3116.52694492943,
          3821.8926206331225,
          4686.904192314192,
          5747.694424835347,
          7048.574036451903,
          8643.882620598262,
          10600.258488068825,
          12999.42224413245,
          15941.590374559995,
          19549.661430912594,
          23974.349678010785,
          29400.480643347077,
          36054.71154250506,
          44214.99907374487,
          54222.21006501592,
          66494.35996665046,
          81544.07395185171,
          100000
         ],
         "xaxis": "x",
         "y": [
          5.549282967740788,
          4.105244265580391,
          2.889736189326202,
          1.9096768038003682,
          1.167175010168727,
          0.6615876361736737,
          0.39153034556168975,
          0.3565930752174751,
          0.5586017116993928,
          1.0023365746393555,
          1.6956516230774406,
          2.6489381834348547,
          3.873857587932906,
          5.381250992529646,
          7.178149889906028,
          9.263887878148932,
          11.62547952004039,
          14.232695031742548,
          17.03359221590702,
          19.951584297050417,
          22.88527971115627,
          25.712162469145934,
          28.296588848642436,
          30.501618281673103,
          32.20313125916468,
          33.30388837140366,
          33.74496508708233,
          33.512449764781586,
          32.63826055936588,
          31.19511700114481,
          29.286786818796266,
          27.03549198019965,
          24.568672995780812,
          22.007149099310443,
          19.45615265654656,
          16.999937083042553,
          14.69988432480253,
          12.595461934073812,
          10.707093874771738,
          9.03999683688523,
          7.588206391362446,
          6.33826801261051,
          5.272312272395654,
          4.370424470239168,
          3.6123432606972123,
          2.9785880721920934,
          2.451137509475519,
          2.013777113833883,
          1.6522179567214585,
          1.3540663207606551,
          1.1087041753981584,
          0.907122615766443,
          0.7417365968048252,
          0.6061989834016387,
          0.49522459840849864,
          0.40442993817552986,
          0.33019094149709655,
          0.26951914668749377,
          0.21995536897169501,
          0.1794793929121029,
          0.14643390023350178,
          0.1194608026046402,
          0.09744822790120083,
          0.0794865559241219,
          0.06483207666948282,
          0.052877027417457215,
          0.04312494053307595,
          0.03517039481913992,
          0.028682406447991048,
          0.023390820282198747,
          0.019075169527319944,
          0.015555562622077452,
          0.01268523285356848,
          0.01034445024179601,
          0.00843554854562504,
          0.006878864427491759,
          0.005609422321786445,
          0.00457422863952322,
          0.0037300636883707797,
          0.003041680007367238
         ],
         "yaxis": "y"
        },
        {
         "hovertemplate": "variable=sex<br>alphas=%{x}<br>value=%{y}<extra></extra>",
         "legendgroup": "sex",
         "line": {
          "color": "#EF553B",
          "dash": "solid"
         },
         "mode": "lines",
         "name": "sex",
         "showlegend": true,
         "type": "scattergl",
         "x": [
          0.01,
          0.012263306841775632,
          0.015038869469554102,
          0.018442627085855347,
          0.022616759492228647,
          0.02773562614198415,
          0.03401304938279251,
          0.04171124612056518,
          0.051151780992931425,
          0.06272899858196247,
          0.07692649574879142,
          0.09433732216299774,
          0.1156887528316282,
          0.1418726674116596,
          0.1739828052930364,
          0.21336045265014109,
          0.2616504698748821,
          0.320869999737045,
          0.39349272630958493,
          0.48255220427412787,
          0.5917685748188825,
          0.7257039612324212,
          0.8899530352885229,
          1.0913767146512738,
          1.3383887531737564,
          1.6413071953751284,
          2.0127853758499383,
          2.4683404670686486,
          3.0270016537634614,
          3.7121050090663608,
          4.55226827550731,
          5.582586268862695,
          6.846096838574658,
          8.395578619995112,
          10.295755673125127,
          12.626001098748565,
          15.48365256585499,
          18.988078244652634,
          23.285662984981965,
          28.55592301990109,
          35.019004614317126,
          42.944879887892725,
          52.66462393484275,
          64.58424430196978,
          79.20164050192548,
          97.12740198471168,
          119.11031332830079,
          146.06863203649888,
          179.1284454622002,
          219.67070907932353,
          269.388930959017,
          330.35991201283395,
          405.1304969235378,
          496.8239594734388,
          609.2704661368674,
          747.1670675868082,
          916.2739011886731,
          1123.6548001387516,
          1377.9723598335568,
          1689.8497868124587,
          2072.3146452190294,
          2541.343036702639,
          3116.52694492943,
          3821.8926206331225,
          4686.904192314192,
          5747.694424835347,
          7048.574036451903,
          8643.882620598262,
          10600.258488068825,
          12999.42224413245,
          15941.590374559995,
          19549.661430912594,
          23974.349678010785,
          29400.480643347077,
          36054.71154250506,
          44214.99907374487,
          54222.21006501592,
          66494.35996665046,
          81544.07395185171,
          100000
         ],
         "xaxis": "x",
         "y": [
          -230.84628493683448,
          -230.39251765531884,
          -229.76385805963892,
          -228.92236230213683,
          -227.82631807290136,
          -226.42866464214458,
          -224.6753290240817,
          -222.5037045428435,
          -219.84149949695666,
          -216.60620692180893,
          -212.70550152349705,
          -208.0389501629641,
          -202.50150315803296,
          -195.98927024861243,
          -188.40801132134828,
          -179.68450742675086,
          -169.7804505738152,
          -158.70768458749993,
          -146.54264455773117,
          -133.43694497974164,
          -119.6206692993969,
          -105.39544411659551,
          -91.11604849785408,
          -77.16187305799873,
          -63.9022669268664,
          -51.66170503314879,
          -40.691001984440135,
          -31.149349732592267,
          -23.09932382493127,
          -16.514135198851726,
          -11.294167234900057,
          -7.28869304027579,
          -4.318630732200587,
          -2.196984005241329,
          -0.7448400476521058,
          0.1979152917725724,
          0.76693547008372,
          1.0718780151605407,
          1.1977707889977989,
          1.2080774068355937,
          1.148479636065631,
          1.0506894178239794,
          0.9358840673554017,
          0.8175789801140915,
          0.7039009269355987,
          0.5993103895150816,
          0.5058601205494796,
          0.42408615924836257,
          0.3536203662905342,
          0.29359934197203247,
          0.2429288383938363,
          0.20044829313813475,
          0.16502804035535884,
          0.1356222972518018,
          0.11129392717566323,
          0.09122182505913007,
          0.07469812075463074,
          0.061119866303910475,
          0.04997815347192984,
          0.040846459744279064,
          0.03336926857383757,
          0.027251526657618777,
          0.022249198603791744,
          0.01816099611819141,
          0.014821252988423645,
          0.012093860577355406,
          0.009867152622294274,
          0.008049620678032337,
          0.006566344681590043,
          0.005356031878560993,
          0.004368568658058032,
          0.0035630018519736263,
          0.002905877712158732,
          0.0023698775320639006,
          0.0019326984800549013,
          0.0015761365956353122,
          0.0012853361066741328,
          0.001048175349204448,
          0.0008547647290140755,
          0.0006970364794399172
         ],
         "yaxis": "y"
        },
        {
         "hovertemplate": "variable=bmi<br>alphas=%{x}<br>value=%{y}<extra></extra>",
         "legendgroup": "bmi",
         "line": {
          "color": "#00cc96",
          "dash": "solid"
         },
         "mode": "lines",
         "name": "bmi",
         "showlegend": true,
         "type": "scattergl",
         "x": [
          0.01,
          0.012263306841775632,
          0.015038869469554102,
          0.018442627085855347,
          0.022616759492228647,
          0.02773562614198415,
          0.03401304938279251,
          0.04171124612056518,
          0.051151780992931425,
          0.06272899858196247,
          0.07692649574879142,
          0.09433732216299774,
          0.1156887528316282,
          0.1418726674116596,
          0.1739828052930364,
          0.21336045265014109,
          0.2616504698748821,
          0.320869999737045,
          0.39349272630958493,
          0.48255220427412787,
          0.5917685748188825,
          0.7257039612324212,
          0.8899530352885229,
          1.0913767146512738,
          1.3383887531737564,
          1.6413071953751284,
          2.0127853758499383,
          2.4683404670686486,
          3.0270016537634614,
          3.7121050090663608,
          4.55226827550731,
          5.582586268862695,
          6.846096838574658,
          8.395578619995112,
          10.295755673125127,
          12.626001098748565,
          15.48365256585499,
          18.988078244652634,
          23.285662984981965,
          28.55592301990109,
          35.019004614317126,
          42.944879887892725,
          52.66462393484275,
          64.58424430196978,
          79.20164050192548,
          97.12740198471168,
          119.11031332830079,
          146.06863203649888,
          179.1284454622002,
          219.67070907932353,
          269.388930959017,
          330.35991201283395,
          405.1304969235378,
          496.8239594734388,
          609.2704661368674,
          747.1670675868082,
          916.2739011886731,
          1123.6548001387516,
          1377.9723598335568,
          1689.8497868124587,
          2072.3146452190294,
          2541.343036702639,
          3116.52694492943,
          3821.8926206331225,
          4686.904192314192,
          5747.694424835347,
          7048.574036451903,
          8643.882620598262,
          10600.258488068825,
          12999.42224413245,
          15941.590374559995,
          19549.661430912594,
          23974.349678010785,
          29400.480643347077,
          36054.71154250506,
          44214.99907374487,
          54222.21006501592,
          66494.35996665046,
          81544.07395185171,
          100000
         ],
         "xaxis": "x",
         "y": [
          506.62272194193883,
          508.0119289097894,
          509.00607226229477,
          509.5481725340747,
          509.581047565974,
          509.0444335947765,
          507.87181149070136,
          505.98731733539506,
          503.3030924286525,
          499.71742069520974,
          495.1140163210885,
          489.3628547182974,
          482.32296903671073,
          473.84763409041534,
          463.7922871877468,
          452.0253363810213,
          438.4416278808279,
          422.97776289475837,
          405.6277190234327,
          386.45650209768365,
          365.60910423242444,
          343.31219101254464,
          319.86689656897323,
          295.63279521363734,
          271.00509531595145,
          246.38866748311713,
          222.17304913326333,
          198.71185716273195,
          176.30844440296102,
          155.20787797591836,
          135.59409101798764,
          117.59067519728112,
          101.26408389178623,
          86.62857199695003,
          73.65260147053345,
          62.266520159314844,
          52.37115287507437,
          43.846724740790755,
          36.561432466561435,
          30.3790460337878,
          25.165120336332098,
          20.79164049014665,
          17.140141768651297,
          14.103495023984218,
          11.58662382652649,
          9.506434061409074,
          7.791211586941689,
          6.37969866417449,
          5.220009797415194,
          4.268501174304689,
          3.488669208134523,
          2.8501238370226485,
          2.3276605868908167,
          1.9004405725551843,
          1.5512780417307597,
          1.2660293408925591,
          1.033074131978136,
          0.8428784177384673,
          0.6876287858166451,
          0.5609277980099552,
          0.4575413215765439,
          0.3731896224876308,
          0.3043750911381545,
          0.2482404760963368,
          0.20245242216278964,
          0.16510592837283117,
          0.13464605607443708,
          0.10980383107789099,
          0.08954380543317986,
          0.0730211837715469,
          0.05954678686430223,
          0.04855843120840281,
          0.0395975573129363,
          0.03229014918379452,
          0.026331160477489905,
          0.021471805095002384,
          0.017509186856684886,
          0.014277838754755034,
          0.011642820813802019,
          0.00949408987540604
         ],
         "yaxis": "y"
        },
        {
         "hovertemplate": "variable=bp<br>alphas=%{x}<br>value=%{y}<extra></extra>",
         "legendgroup": "bp",
         "line": {
          "color": "#ab63fa",
          "dash": "solid"
         },
         "mode": "lines",
         "name": "bp",
         "showlegend": true,
         "type": "scattergl",
         "x": [
          0.01,
          0.012263306841775632,
          0.015038869469554102,
          0.018442627085855347,
          0.022616759492228647,
          0.02773562614198415,
          0.03401304938279251,
          0.04171124612056518,
          0.051151780992931425,
          0.06272899858196247,
          0.07692649574879142,
          0.09433732216299774,
          0.1156887528316282,
          0.1418726674116596,
          0.1739828052930364,
          0.21336045265014109,
          0.2616504698748821,
          0.320869999737045,
          0.39349272630958493,
          0.48255220427412787,
          0.5917685748188825,
          0.7257039612324212,
          0.8899530352885229,
          1.0913767146512738,
          1.3383887531737564,
          1.6413071953751284,
          2.0127853758499383,
          2.4683404670686486,
          3.0270016537634614,
          3.7121050090663608,
          4.55226827550731,
          5.582586268862695,
          6.846096838574658,
          8.395578619995112,
          10.295755673125127,
          12.626001098748565,
          15.48365256585499,
          18.988078244652634,
          23.285662984981965,
          28.55592301990109,
          35.019004614317126,
          42.944879887892725,
          52.66462393484275,
          64.58424430196978,
          79.20164050192548,
          97.12740198471168,
          119.11031332830079,
          146.06863203649888,
          179.1284454622002,
          219.67070907932353,
          269.388930959017,
          330.35991201283395,
          405.1304969235378,
          496.8239594734388,
          609.2704661368674,
          747.1670675868082,
          916.2739011886731,
          1123.6548001387516,
          1377.9723598335568,
          1689.8497868124587,
          2072.3146452190294,
          2541.343036702639,
          3116.52694492943,
          3821.8926206331225,
          4686.904192314192,
          5747.694424835347,
          7048.574036451903,
          8643.882620598262,
          10600.258488068825,
          12999.42224413245,
          15941.590374559995,
          19549.661430912594,
          23974.349678010785,
          29400.480643347077,
          36054.71154250506,
          44214.99907374487,
          54222.21006501592,
          66494.35996665046,
          81544.07395185171,
          100000
         ],
         "xaxis": "x",
         "y": [
          320.42116437887086,
          319.76844874503786,
          319.03124341412575,
          318.1854763026389,
          317.20240509677814,
          316.04778713183896,
          314.6809597022478,
          313.05393878678433,
          311.11065426774013,
          308.7864562967767,
          306.00805399555713,
          302.69408075021653,
          298.7565099470628,
          294.1031543760976,
          288.64144858309345,
          282.28361050949695,
          274.9530889628421,
          266.59193280942134,
          257.16841039331763,
          246.68394608755278,
          235.17832380729584,
          222.73221009233114,
          209.466386396754,
          195.5375897737197,
          181.13141795662915,
          166.45320338410835,
          151.71796423060852,
          137.14044216403332,
          122.92590758116849,
          109.26203934010644,
          96.31196972447586,
          84.20861360813336,
          73.05058319188193,
          62.90012483196206,
          53.78343676992109,
          45.693417944702354,
          38.59448584476415,
          32.42876211655609,
          27.12277846674242,
          22.593919339020868,
          18.756027183141317,
          15.52385732317024,
          12.816305300270539,
          10.558498881743006,
          8.682941813312745,
          7.129929511719317,
          5.847448465275193,
          4.7907403079935555,
          3.9216726739028864,
          3.2080209163959106,
          2.622732085397611,
          2.143216719916172,
          1.7506948618901315,
          1.4296092589268914,
          1.1671097872405383,
          0.9526075348090747,
          0.7773937629870595,
          0.6343173501886852,
          0.5175137490230214,
          0.4221785571810333,
          0.3443792375909296,
          0.2808991431220134,
          0.229108689776427,
          0.18685920970414863,
          0.15239566176947272,
          0.12428496278972688,
          0.101357219345127,
          0.0826575880377325,
          0.0674068752478074,
          0.05496931187893529,
          0.04482621117898127,
          0.036554445382302146,
          0.029808866150352272,
          0.02430795049167151,
          0.019822083223641453,
          0.016163993607122312,
          0.0131809513958045,
          0.010748399456567909,
          0.008764759074147518,
          0.007147192339074231
         ],
         "yaxis": "y"
        },
        {
         "hovertemplate": "variable=s1<br>alphas=%{x}<br>value=%{y}<extra></extra>",
         "legendgroup": "s1",
         "line": {
          "color": "#FFA15A",
          "dash": "solid"
         },
         "mode": "lines",
         "name": "s1",
         "showlegend": true,
         "type": "scattergl",
         "x": [
          0.01,
          0.012263306841775632,
          0.015038869469554102,
          0.018442627085855347,
          0.022616759492228647,
          0.02773562614198415,
          0.03401304938279251,
          0.04171124612056518,
          0.051151780992931425,
          0.06272899858196247,
          0.07692649574879142,
          0.09433732216299774,
          0.1156887528316282,
          0.1418726674116596,
          0.1739828052930364,
          0.21336045265014109,
          0.2616504698748821,
          0.320869999737045,
          0.39349272630958493,
          0.48255220427412787,
          0.5917685748188825,
          0.7257039612324212,
          0.8899530352885229,
          1.0913767146512738,
          1.3383887531737564,
          1.6413071953751284,
          2.0127853758499383,
          2.4683404670686486,
          3.0270016537634614,
          3.7121050090663608,
          4.55226827550731,
          5.582586268862695,
          6.846096838574658,
          8.395578619995112,
          10.295755673125127,
          12.626001098748565,
          15.48365256585499,
          18.988078244652634,
          23.285662984981965,
          28.55592301990109,
          35.019004614317126,
          42.944879887892725,
          52.66462393484275,
          64.58424430196978,
          79.20164050192548,
          97.12740198471168,
          119.11031332830079,
          146.06863203649888,
          179.1284454622002,
          219.67070907932353,
          269.388930959017,
          330.35991201283395,
          405.1304969235378,
          496.8239594734388,
          609.2704661368674,
          747.1670675868082,
          916.2739011886731,
          1123.6548001387516,
          1377.9723598335568,
          1689.8497868124587,
          2072.3146452190294,
          2541.343036702639,
          3116.52694492943,
          3821.8926206331225,
          4686.904192314192,
          5747.694424835347,
          7048.574036451903,
          8643.882620598262,
          10600.258488068825,
          12999.42224413245,
          15941.590374559995,
          19549.661430912594,
          23974.349678010785,
          29400.480643347077,
          36054.71154250506,
          44214.99907374487,
          54222.21006501592,
          66494.35996665046,
          81544.07395185171,
          100000
         ],
         "xaxis": "x",
         "y": [
          -385.84711609949255,
          -343.15055855130703,
          -303.6883526060125,
          -267.47646672348725,
          -234.5255190198694,
          -204.81125901148818,
          -178.25623580507533,
          -154.72295886563126,
          -134.0168944381556,
          -115.896404125171,
          -100.08640688911643,
          -86.29298362564906,
          -74.21701430437221,
          -63.56590300568341,
          -54.06326345412835,
          -45.45697950600806,
          -37.5262783655952,
          -30.088363099114165,
          -23.00478070479499,
          -16.18712935051522,
          -9.60107236807585,
          -3.2671341964606078,
          2.7433541234050876,
          8.318321224098783,
          13.321105920663456,
          17.611255475413287,
          21.067036714315726,
          23.60577737586031,
          25.198193444357514,
          25.874001024460625,
          25.718065109463154,
          24.85848732949142,
          23.449690247205496,
          21.654237545427815,
          19.62675075393187,
          17.502140190930533,
          15.388959530700665,
          13.367485061257579,
          11.491378496872269,
          9.791550092836914,
          8.280970285771103,
          6.959502217873156,
          5.8181896671346,
          4.842741097650318,
          4.016164813387311,
          3.3206351398063423,
          2.7387256965614433,
          2.25415719775729,
          1.8521940315685606,
          1.5198002616666764,
          1.2456401849919931,
          1.0199855440398473,
          0.8345726358939337,
          0.6824381002628105,
          0.5577516079756916,
          0.45565626375004714,
          0.372122530060306,
          0.30381822076953713,
          0.24799508456570105,
          0.2023913074784988,
          0.1651486268378354,
          0.13474246637712928,
          0.10992343721985394,
          0.08966861108975194,
          0.07314110099879764,
          0.059656643479784534,
          0.04865604238859583,
          0.039682494284293476,
          0.032362962471267076,
          0.02639289789376038,
          0.02152371947977765,
          0.017552564845245172,
          0.014313905797701604,
          0.011672693435816003,
          0.009518756511406799,
          0.007762225725490684,
          0.006329797256822451,
          0.005161682394296113,
          0.00420911781707247,
          0.0034323338285354283
         ],
         "yaxis": "y"
        },
        {
         "hovertemplate": "variable=s2<br>alphas=%{x}<br>value=%{y}<extra></extra>",
         "legendgroup": "s2",
         "line": {
          "color": "#19d3f3",
          "dash": "solid"
         },
         "mode": "lines",
         "name": "s2",
         "showlegend": true,
         "type": "scattergl",
         "x": [
          0.01,
          0.012263306841775632,
          0.015038869469554102,
          0.018442627085855347,
          0.022616759492228647,
          0.02773562614198415,
          0.03401304938279251,
          0.04171124612056518,
          0.051151780992931425,
          0.06272899858196247,
          0.07692649574879142,
          0.09433732216299774,
          0.1156887528316282,
          0.1418726674116596,
          0.1739828052930364,
          0.21336045265014109,
          0.2616504698748821,
          0.320869999737045,
          0.39349272630958493,
          0.48255220427412787,
          0.5917685748188825,
          0.7257039612324212,
          0.8899530352885229,
          1.0913767146512738,
          1.3383887531737564,
          1.6413071953751284,
          2.0127853758499383,
          2.4683404670686486,
          3.0270016537634614,
          3.7121050090663608,
          4.55226827550731,
          5.582586268862695,
          6.846096838574658,
          8.395578619995112,
          10.295755673125127,
          12.626001098748565,
          15.48365256585499,
          18.988078244652634,
          23.285662984981965,
          28.55592301990109,
          35.019004614317126,
          42.944879887892725,
          52.66462393484275,
          64.58424430196978,
          79.20164050192548,
          97.12740198471168,
          119.11031332830079,
          146.06863203649888,
          179.1284454622002,
          219.67070907932353,
          269.388930959017,
          330.35991201283395,
          405.1304969235378,
          496.8239594734388,
          609.2704661368674,
          747.1670675868082,
          916.2739011886731,
          1123.6548001387516,
          1377.9723598335568,
          1689.8497868124587,
          2072.3146452190294,
          2541.343036702639,
          3116.52694492943,
          3821.8926206331225,
          4686.904192314192,
          5747.694424835347,
          7048.574036451903,
          8643.882620598262,
          10600.258488068825,
          12999.42224413245,
          15941.590374559995,
          19549.661430912594,
          23974.349678010785,
          29400.480643347077,
          36054.71154250506,
          44214.99907374487,
          54222.21006501592,
          66494.35996665046,
          81544.07395185171,
          100000
         ],
         "xaxis": "x",
         "y": [
          171.4489199991278,
          134.838593635384,
          101.2540299100288,
          70.70888643849064,
          43.216528868779484,
          18.76994177141526,
          -2.6693145797873896,
          -21.173464173941397,
          -36.84403098377496,
          -49.80323698443791,
          -60.18417078495516,
          -68.12217151719709,
          -73.74909297488402,
          -77.19127566553945,
          -78.57134614300013,
          -78.01344468611063,
          -75.65111302163405,
          -71.63676741138585,
          -66.15137128747944,
          -59.412603804621526,
          -51.679580926651354,
          -43.252184021172226,
          -34.46347320205677,
          -25.664630948019127,
          -17.203346756339997,
          -9.39822693608173,
          -2.5132043162366786,
          3.2634963173870393,
          7.831841004179083,
          11.181578703789095,
          13.382916342875783,
          14.568530036396027,
          14.910739749831704,
          14.598141957800708,
          13.815360476100127,
          12.728206259946644,
          11.474967925669048,
          10.163257791615038,
          8.871067479612138,
          7.650456904378696,
          6.532465087992692,
          5.532195003607594,
          4.653423812767313,
          3.8924261176261803,
          3.240934274099342,
          2.688299838231253,
          2.2229859145493633,
          1.8335371643212368,
          1.509164047182023,
          1.240055630857782,
          1.0175102131991076,
          0.8339498644169983,
          0.6828657903469293,
          0.5587265094965258,
          0.45686981489366296,
          0.3733916524702867,
          0.3050396564868726,
          0.24911549244045167,
          0.2033878479987456,
          0.1660164862815783,
          0.13548694341026737,
          0.11055500818220411,
          0.09019992399565811,
          0.0735852058224925,
          0.06002600472728802,
          0.04896203826928105,
          0.03993521144073456,
          0.03257116406467608,
          0.02656408787963048,
          0.02166425518450874,
          0.017667788835853987,
          0.014408280093269091,
          0.011749926708403404,
          0.009581919630231977,
          0.007813853841180647,
          0.006371978277781252,
          0.005196132615047392,
          0.0042372459043273775,
          0.0034552945382923107,
          0.0028176355476488926
         ],
         "yaxis": "y"
        },
        {
         "hovertemplate": "variable=s3<br>alphas=%{x}<br>value=%{y}<extra></extra>",
         "legendgroup": "s3",
         "line": {
          "color": "#FF6692",
          "dash": "solid"
         },
         "mode": "lines",
         "name": "s3",
         "showlegend": true,
         "type": "scattergl",
         "x": [
          0.01,
          0.012263306841775632,
          0.015038869469554102,
          0.018442627085855347,
          0.022616759492228647,
          0.02773562614198415,
          0.03401304938279251,
          0.04171124612056518,
          0.051151780992931425,
          0.06272899858196247,
          0.07692649574879142,
          0.09433732216299774,
          0.1156887528316282,
          0.1418726674116596,
          0.1739828052930364,
          0.21336045265014109,
          0.2616504698748821,
          0.320869999737045,
          0.39349272630958493,
          0.48255220427412787,
          0.5917685748188825,
          0.7257039612324212,
          0.8899530352885229,
          1.0913767146512738,
          1.3383887531737564,
          1.6413071953751284,
          2.0127853758499383,
          2.4683404670686486,
          3.0270016537634614,
          3.7121050090663608,
          4.55226827550731,
          5.582586268862695,
          6.846096838574658,
          8.395578619995112,
          10.295755673125127,
          12.626001098748565,
          15.48365256585499,
          18.988078244652634,
          23.285662984981965,
          28.55592301990109,
          35.019004614317126,
          42.944879887892725,
          52.66462393484275,
          64.58424430196978,
          79.20164050192548,
          97.12740198471168,
          119.11031332830079,
          146.06863203649888,
          179.1284454622002,
          219.67070907932353,
          269.388930959017,
          330.35991201283395,
          405.1304969235378,
          496.8239594734388,
          609.2704661368674,
          747.1670675868082,
          916.2739011886731,
          1123.6548001387516,
          1377.9723598335568,
          1689.8497868124587,
          2072.3146452190294,
          2541.343036702639,
          3116.52694492943,
          3821.8926206331225,
          4686.904192314192,
          5747.694424835347,
          7048.574036451903,
          8643.882620598262,
          10600.258488068825,
          12999.42224413245,
          15941.590374559995,
          19549.661430912594,
          23974.349678010785,
          29400.480643347077,
          36054.71154250506,
          44214.99907374487,
          54222.21006501592,
          66494.35996665046,
          81544.07395185171,
          100000
         ],
         "xaxis": "x",
         "y": [
          -87.17597646518526,
          -103.34685110968066,
          -118.17685786184443,
          -131.62340667995576,
          -143.64494248985974,
          -154.21449299375098,
          -163.32847830285527,
          -171.01029980008713,
          -177.30910778634743,
          -182.2947836157377,
          -186.05048399032316,
          -188.664132965843,
          -190.22011541802596,
          -190.7922116045128,
          -190.438559127611,
          -189.1991482897001,
          -187.09605615310863,
          -184.1363188649365,
          -180.3170557047634,
          -175.63222162276966,
          -170.08020714945698,
          -163.67144555441547,
          -156.43522644618378,
          -148.42502758945838,
          -139.7218249491623,
          -130.4349960439441,
          -120.7005879821255,
          -110.67689545999923,
          -100.53751270128318,
          -90.46230830839933,
          -80.62711386001847,
          -71.19324776362242,
          -62.29818905838728,
          -54.04864218370019,
          -46.5168478631723,
          -39.74038726215619,
          -33.72508826691395,
          -28.450169972131818,
          -23.87456293082724,
          -19.94341051460437,
          -16.594000298099754,
          -13.760680148127568,
          -11.378592061939202,
          -9.386260660376218,
          -7.7271932992297385,
          -6.350698659058077,
          -5.212132516161963,
          -4.272754303395192,
          -3.4993419615671058,
          -2.8636755314022433,
          -2.3419672261998388,
          -1.9142893803957441,
          -1.5640318086912848,
          -1.2774059252600936,
          -1.043003332603535,
          -0.8514103727991317,
          -0.6948763744674001,
          -0.5670312615385488,
          -0.4626472415306212,
          -0.37743904994887734,
          -0.3078974084229938,
          -0.25115076617789733,
          -0.20485091357985652,
          -0.1670786057542677,
          -0.1362658681530439,
          -0.11113214972741256,
          -0.09063193154463073,
          -0.073911785924499,
          -0.06027521487510684,
          -0.049153880759740524,
          -0.040084081901185106,
          -0.032687526747177495,
          -0.026655627663001547,
          -0.02173667436397994,
          -0.017725361909663187,
          -0.014454242953969352,
          -0.011786751940518819,
          -0.0096115130081172,
          -0.007837695937861482,
          -0.006391227548993764
         ],
         "yaxis": "y"
        },
        {
         "hovertemplate": "variable=s4<br>alphas=%{x}<br>value=%{y}<extra></extra>",
         "legendgroup": "s4",
         "line": {
          "color": "#B6E880",
          "dash": "solid"
         },
         "mode": "lines",
         "name": "s4",
         "showlegend": true,
         "type": "scattergl",
         "x": [
          0.01,
          0.012263306841775632,
          0.015038869469554102,
          0.018442627085855347,
          0.022616759492228647,
          0.02773562614198415,
          0.03401304938279251,
          0.04171124612056518,
          0.051151780992931425,
          0.06272899858196247,
          0.07692649574879142,
          0.09433732216299774,
          0.1156887528316282,
          0.1418726674116596,
          0.1739828052930364,
          0.21336045265014109,
          0.2616504698748821,
          0.320869999737045,
          0.39349272630958493,
          0.48255220427412787,
          0.5917685748188825,
          0.7257039612324212,
          0.8899530352885229,
          1.0913767146512738,
          1.3383887531737564,
          1.6413071953751284,
          2.0127853758499383,
          2.4683404670686486,
          3.0270016537634614,
          3.7121050090663608,
          4.55226827550731,
          5.582586268862695,
          6.846096838574658,
          8.395578619995112,
          10.295755673125127,
          12.626001098748565,
          15.48365256585499,
          18.988078244652634,
          23.285662984981965,
          28.55592301990109,
          35.019004614317126,
          42.944879887892725,
          52.66462393484275,
          64.58424430196978,
          79.20164050192548,
          97.12740198471168,
          119.11031332830079,
          146.06863203649888,
          179.1284454622002,
          219.67070907932353,
          269.388930959017,
          330.35991201283395,
          405.1304969235378,
          496.8239594734388,
          609.2704661368674,
          747.1670675868082,
          916.2739011886731,
          1123.6548001387516,
          1377.9723598335568,
          1689.8497868124587,
          2072.3146452190294,
          2541.343036702639,
          3116.52694492943,
          3821.8926206331225,
          4686.904192314192,
          5747.694424835347,
          7048.574036451903,
          8643.882620598262,
          10600.258488068825,
          12999.42224413245,
          15941.590374559995,
          19549.661430912594,
          23974.349678010785,
          29400.480643347077,
          36054.71154250506,
          44214.99907374487,
          54222.21006501592,
          66494.35996665046,
          81544.07395185171,
          100000
         ],
         "xaxis": "x",
         "y": [
          114.37753153174958,
          113.21258384742579,
          112.20873757656852,
          111.40861605106966,
          110.85302909202973,
          110.57533392109104,
          110.59641099741685,
          110.92104617965121,
          111.53619223162879,
          112.4112399173834,
          113.50010703459573,
          114.74467192343292,
          116.0788617154578,
          117.43260020128702,
          118.73487107103618,
          119.91536986934341,
          120.90456079616456,
          121.63234605364073,
          122.02592040665289,
          122.00767112861797,
          121.4941596860754,
          120.3972421279302,
          118.62818112843583,
          116.10510702050802,
          112.76339837730592,
          108.56760543038845,
          103.52269894489194,
          97.68201991734195,
          91.14958395773353,
          84.07540656591173,
          76.64404301566199,
          69.05813679181965,
          61.519927954625,
          54.21400843054133,
          47.29405204707037,
          40.87505414208058,
          35.031246360501804,
          29.7987423610711,
          25.181363891683905,
          21.15800578354066,
          17.690173154677975,
          14.728764551143739,
          12.219616307312794,
          10.107671959614503,
          8.33986700509546,
          6.866936001665044,
          5.6443858356411365,
          4.632867163270387,
          3.7981403905311577,
          3.110789630027282,
          2.5457972385329493,
          2.082057078229,
          1.7018777251422186,
          1.3905069929060654,
          1.1356951804823114,
          0.9273050700183918,
          0.7569706910019534,
          0.6178032398309591,
          0.5041405390489229,
          0.41133547965315864,
          0.33557861837992115,
          0.273750229290749,
          0.2232974555406866,
          0.18213265709549586,
          0.14854953154032213,
          0.1211540556101498,
          0.09880773155416925,
          0.08058101404079078,
          0.06571513664723616,
          0.05359085307933224,
          0.04370286053468239,
          0.03563888557055114,
          0.029062591324004787,
          0.023699613709092193,
          0.019326157691892342,
          0.015759686870163398,
          0.012851323820752419,
          0.010479648006532897,
          0.008545634993434963,
          0.006968527457914588
         ],
         "yaxis": "y"
        },
        {
         "hovertemplate": "variable=s5<br>alphas=%{x}<br>value=%{y}<extra></extra>",
         "legendgroup": "s5",
         "line": {
          "color": "#FF97FF",
          "dash": "solid"
         },
         "mode": "lines",
         "name": "s5",
         "showlegend": true,
         "type": "scattergl",
         "x": [
          0.01,
          0.012263306841775632,
          0.015038869469554102,
          0.018442627085855347,
          0.022616759492228647,
          0.02773562614198415,
          0.03401304938279251,
          0.04171124612056518,
          0.051151780992931425,
          0.06272899858196247,
          0.07692649574879142,
          0.09433732216299774,
          0.1156887528316282,
          0.1418726674116596,
          0.1739828052930364,
          0.21336045265014109,
          0.2616504698748821,
          0.320869999737045,
          0.39349272630958493,
          0.48255220427412787,
          0.5917685748188825,
          0.7257039612324212,
          0.8899530352885229,
          1.0913767146512738,
          1.3383887531737564,
          1.6413071953751284,
          2.0127853758499383,
          2.4683404670686486,
          3.0270016537634614,
          3.7121050090663608,
          4.55226827550731,
          5.582586268862695,
          6.846096838574658,
          8.395578619995112,
          10.295755673125127,
          12.626001098748565,
          15.48365256585499,
          18.988078244652634,
          23.285662984981965,
          28.55592301990109,
          35.019004614317126,
          42.944879887892725,
          52.66462393484275,
          64.58424430196978,
          79.20164050192548,
          97.12740198471168,
          119.11031332830079,
          146.06863203649888,
          179.1284454622002,
          219.67070907932353,
          269.388930959017,
          330.35991201283395,
          405.1304969235378,
          496.8239594734388,
          609.2704661368674,
          747.1670675868082,
          916.2739011886731,
          1123.6548001387516,
          1377.9723598335568,
          1689.8497868124587,
          2072.3146452190294,
          2541.343036702639,
          3116.52694492943,
          3821.8926206331225,
          4686.904192314192,
          5747.694424835347,
          7048.574036451903,
          8643.882620598262,
          10600.258488068825,
          12999.42224413245,
          15941.590374559995,
          19549.661430912594,
          23974.349678010785,
          29400.480643347077,
          36054.71154250506,
          44214.99907374487,
          54222.21006501592,
          66494.35996665046,
          81544.07395185171,
          100000
         ],
         "xaxis": "x",
         "y": [
          598.449039210453,
          580.8710441841891,
          564.25034284299,
          548.5684786842181,
          533.7941771674559,
          519.8721769109646,
          506.7166571030305,
          494.20931365791284,
          482.2014500602562,
          470.51906242929476,
          458.969869854856,
          447.3514877742075,
          435.4602958779541,
          423.100834700817,
          410.0956510237063,
          396.2953635192726,
          381.58839375057414,
          365.90943747670434,
          349.2455070876103,
          331.63840769764096,
          313.1828898631985,
          294.0204094309744,
          274.3292609671377,
          254.31259505046344,
          234.18622545228055,
          214.16799753476812,
          194.4698101039825,
          175.29237033055384,
          156.82180870159422,
          139.22680138130698,
          122.65505648857936,
          107.2287999538683,
          93.03984174254103,
          80.14544530801003,
          68.56628214513219,
          58.287263675508505,
          49.26128577632055,
          41.41523723905951,
          34.657238743572954,
          28.884040900058906,
          23.9877277712978,
          19.861203671789657,
          16.402263976560437,
          13.516295497876962,
          11.117799182308536,
          9.13098995926491,
          7.489731096682207,
          6.137029116271576,
          5.0242700422689,
          4.110331226234887,
          3.3606619388791885,
          2.746392946608046,
          2.2435105588560718,
          1.832113111272296,
          1.4957560928720546,
          1.2208846944668854,
          0.9963482139228783,
          0.8129885221122777,
          0.6632939402079596,
          0.541109880957313,
          0.4413981032419106,
          0.36003718085423,
          0.2936576395305791,
          0.239506077047622,
          0.1953333958590229,
          0.15930301868146465,
          0.1299156134713398,
          0.10594742415462706,
          0.08639979172869558,
          0.0704578642844704,
          0.057456842609039244,
          0.04685439896957221,
          0.03820814865343918,
          0.031157254312339903,
          0.025407408738565722,
          0.02071857812697207,
          0.01689500005910355,
          0.013777022547903589,
          0.011234446000352137,
          0.009161091812996508
         ],
         "yaxis": "y"
        },
        {
         "hovertemplate": "variable=s6<br>alphas=%{x}<br>value=%{y}<extra></extra>",
         "legendgroup": "s6",
         "line": {
          "color": "#FECB52",
          "dash": "solid"
         },
         "mode": "lines",
         "name": "s6",
         "showlegend": true,
         "type": "scattergl",
         "x": [
          0.01,
          0.012263306841775632,
          0.015038869469554102,
          0.018442627085855347,
          0.022616759492228647,
          0.02773562614198415,
          0.03401304938279251,
          0.04171124612056518,
          0.051151780992931425,
          0.06272899858196247,
          0.07692649574879142,
          0.09433732216299774,
          0.1156887528316282,
          0.1418726674116596,
          0.1739828052930364,
          0.21336045265014109,
          0.2616504698748821,
          0.320869999737045,
          0.39349272630958493,
          0.48255220427412787,
          0.5917685748188825,
          0.7257039612324212,
          0.8899530352885229,
          1.0913767146512738,
          1.3383887531737564,
          1.6413071953751284,
          2.0127853758499383,
          2.4683404670686486,
          3.0270016537634614,
          3.7121050090663608,
          4.55226827550731,
          5.582586268862695,
          6.846096838574658,
          8.395578619995112,
          10.295755673125127,
          12.626001098748565,
          15.48365256585499,
          18.988078244652634,
          23.285662984981965,
          28.55592301990109,
          35.019004614317126,
          42.944879887892725,
          52.66462393484275,
          64.58424430196978,
          79.20164050192548,
          97.12740198471168,
          119.11031332830079,
          146.06863203649888,
          179.1284454622002,
          219.67070907932353,
          269.388930959017,
          330.35991201283395,
          405.1304969235378,
          496.8239594734388,
          609.2704661368674,
          747.1670675868082,
          916.2739011886731,
          1123.6548001387516,
          1377.9723598335568,
          1689.8497868124587,
          2072.3146452190294,
          2541.343036702639,
          3116.52694492943,
          3821.8926206331225,
          4686.904192314192,
          5747.694424835347,
          7048.574036451903,
          8643.882620598262,
          10600.258488068825,
          12999.42224413245,
          15941.590374559995,
          19549.661430912594,
          23974.349678010785,
          29400.480643347077,
          36054.71154250506,
          44214.99907374487,
          54222.21006501592,
          66494.35996665046,
          81544.07395185171,
          100000
         ],
         "xaxis": "x",
         "y": [
          64.26834243634129,
          65.70532596484358,
          67.17772306678947,
          68.68999718349285,
          70.25495620982419,
          71.89310923030094,
          73.6314314753998,
          75.50159560579611,
          77.53764261170367,
          79.7729852313905,
          82.2365931883056,
          84.94823259636102,
          87.91274925665621,
          91.1136181106754,
          94.50632977435386,
          98.01260963145938,
          101.5168624088232,
          104.86643592285535,
          107.87710329434336,
          110.3444364718726,
          112.06052765239781,
          112.83410295528205,
          112.5109522796171,
          110.9912429417276,
          108.24088559157192,
          104.29545384667726,
          99.25668903042532,
          93.28280632413603,
          86.57439872081875,
          79.35780922703593,
          71.86770061907751,
          64.33042201715546,
          56.949668986934384,
          49.89571846453801,
          43.2990671402473,
          37.24863798361823,
          31.79401862163852,
          26.950668348939534,
          22.706806292904204,
          19.030770808112226,
          15.877921377907269,
          13.196510826785083,
          10.932284066554383,
          9.031804202430862,
          7.444655292072947,
          6.124737884150728,
          5.030883446548965,
          4.126991026747862,
          3.3818523865420507,
          2.768792258717639,
          2.2652146645666535,
          1.852117024544996,
          1.5136114724651388,
          1.2364766087039334,
          1.009751743505165,
          0.8243782986504449,
          0.6728884128478113,
          0.549138097736858,
          0.44808088548622155,
          0.365577337727988,
          0.2982357287778724,
          0.24327945662049535,
          0.1984371303029421,
          0.16185174154929757,
          0.13200579642746368,
          0.10765972817131488,
          0.0878013184309139,
          0.071604214493964,
          0.05839394335559851,
          0.04762009214675175,
          0.03883355228326525,
          0.03166791638462843,
          0.025824277255145286,
          0.021058811517092445,
          0.017172640934062403,
          0.014003555695910878,
          0.011419259111024257,
          0.009311854970773614,
          0.007593349606467645,
          0.006191982277264419
         ],
         "yaxis": "y"
        },
        {
         "hovertemplate": "variable=age^2<br>alphas=%{x}<br>value=%{y}<extra></extra>",
         "legendgroup": "age^2",
         "line": {
          "color": "#636efa",
          "dash": "solid"
         },
         "mode": "lines",
         "name": "age^2",
         "showlegend": true,
         "type": "scattergl",
         "x": [
          0.01,
          0.012263306841775632,
          0.015038869469554102,
          0.018442627085855347,
          0.022616759492228647,
          0.02773562614198415,
          0.03401304938279251,
          0.04171124612056518,
          0.051151780992931425,
          0.06272899858196247,
          0.07692649574879142,
          0.09433732216299774,
          0.1156887528316282,
          0.1418726674116596,
          0.1739828052930364,
          0.21336045265014109,
          0.2616504698748821,
          0.320869999737045,
          0.39349272630958493,
          0.48255220427412787,
          0.5917685748188825,
          0.7257039612324212,
          0.8899530352885229,
          1.0913767146512738,
          1.3383887531737564,
          1.6413071953751284,
          2.0127853758499383,
          2.4683404670686486,
          3.0270016537634614,
          3.7121050090663608,
          4.55226827550731,
          5.582586268862695,
          6.846096838574658,
          8.395578619995112,
          10.295755673125127,
          12.626001098748565,
          15.48365256585499,
          18.988078244652634,
          23.285662984981965,
          28.55592301990109,
          35.019004614317126,
          42.944879887892725,
          52.66462393484275,
          64.58424430196978,
          79.20164050192548,
          97.12740198471168,
          119.11031332830079,
          146.06863203649888,
          179.1284454622002,
          219.67070907932353,
          269.388930959017,
          330.35991201283395,
          405.1304969235378,
          496.8239594734388,
          609.2704661368674,
          747.1670675868082,
          916.2739011886731,
          1123.6548001387516,
          1377.9723598335568,
          1689.8497868124587,
          2072.3146452190294,
          2541.343036702639,
          3116.52694492943,
          3821.8926206331225,
          4686.904192314192,
          5747.694424835347,
          7048.574036451903,
          8643.882620598262,
          10600.258488068825,
          12999.42224413245,
          15941.590374559995,
          19549.661430912594,
          23974.349678010785,
          29400.480643347077,
          36054.71154250506,
          44214.99907374487,
          54222.21006501592,
          66494.35996665046,
          81544.07395185171,
          100000
         ],
         "xaxis": "x",
         "y": [
          528.0830174778343,
          448.0264322394551,
          377.6371179515916,
          316.49256774849664,
          263.9331256803356,
          219.15758957869087,
          181.30240665682973,
          149.50165925205528,
          122.92853738986507,
          100.82098051617217,
          82.49494527918976,
          67.34872767444934,
          54.86130541094884,
          44.58704025949057,
          36.1484564556142,
          29.228273218865073,
          23.561445711570826,
          18.92765731427267,
          15.144490959163894,
          12.061368078961893,
          9.554260543158728,
          7.5211362438372475,
          5.87807845138302,
          4.556011967864032,
          3.4979684880393465,
          2.656825884910693,
          1.99346017692025,
          1.4752542663664998,
          1.0749131421471685,
          0.7695393652360148,
          0.5399239725330243,
          0.37000694253742855,
          0.2464606349827234,
          0.15835235283240603,
          0.0968500818087819,
          0.05494753336286005,
          0.02719772550271138,
          0.009455045331101072,
          -0.0013680258857232674,
          -0.007521708848002979,
          -0.010611088544337469,
          -0.011756668292029,
          -0.0117235676296431,
          -0.011022048836328808,
          -0.009983444302589004,
          -0.008816022081912036,
          -0.007645147245340247,
          -0.006541556307939658,
          -0.005540881885358958,
          -0.00465688700001497,
          -0.0038902684036469224,
          -0.0032343947613041675,
          -0.0026789597944978094,
          -0.002212240044129587,
          -0.0018224344132744632,
          -0.0014984106576347897,
          -0.001230077271293236,
          -0.001008525443161037,
          -0.0008260354562662797,
          -0.0006760080300582943,
          -0.0005528585745632575,
          -0.0004518975251915047,
          -0.0003692103395375004,
          -0.00030154462768027727,
          -0.0002462080733649194,
          -0.0002009784877008962,
          -0.00016402598666257395,
          -0.00013384654561937633,
          -0.00010920582661806936,
          -0.00008909204667664239,
          -0.00007267666136912074,
          -0.00005928171647781322,
          -0.000048352833688228635,
          -0.000039436921456379684,
          -0.000032163826151962024,
          -0.000026231254289480186,
          -0.0000213924007536201,
          -0.000017445809297068013,
          -0.000014227070418895763,
          -0.000011602028889945363
         ],
         "yaxis": "y"
        },
        {
         "hovertemplate": "variable=sex^2<br>alphas=%{x}<br>value=%{y}<extra></extra>",
         "legendgroup": "sex^2",
         "line": {
          "color": "#EF553B",
          "dash": "solid"
         },
         "mode": "lines",
         "name": "sex^2",
         "showlegend": true,
         "type": "scattergl",
         "x": [
          0.01,
          0.012263306841775632,
          0.015038869469554102,
          0.018442627085855347,
          0.022616759492228647,
          0.02773562614198415,
          0.03401304938279251,
          0.04171124612056518,
          0.051151780992931425,
          0.06272899858196247,
          0.07692649574879142,
          0.09433732216299774,
          0.1156887528316282,
          0.1418726674116596,
          0.1739828052930364,
          0.21336045265014109,
          0.2616504698748821,
          0.320869999737045,
          0.39349272630958493,
          0.48255220427412787,
          0.5917685748188825,
          0.7257039612324212,
          0.8899530352885229,
          1.0913767146512738,
          1.3383887531737564,
          1.6413071953751284,
          2.0127853758499383,
          2.4683404670686486,
          3.0270016537634614,
          3.7121050090663608,
          4.55226827550731,
          5.582586268862695,
          6.846096838574658,
          8.395578619995112,
          10.295755673125127,
          12.626001098748565,
          15.48365256585499,
          18.988078244652634,
          23.285662984981965,
          28.55592301990109,
          35.019004614317126,
          42.944879887892725,
          52.66462393484275,
          64.58424430196978,
          79.20164050192548,
          97.12740198471168,
          119.11031332830079,
          146.06863203649888,
          179.1284454622002,
          219.67070907932353,
          269.388930959017,
          330.35991201283395,
          405.1304969235378,
          496.8239594734388,
          609.2704661368674,
          747.1670675868082,
          916.2739011886731,
          1123.6548001387516,
          1377.9723598335568,
          1689.8497868124587,
          2072.3146452190294,
          2541.343036702639,
          3116.52694492943,
          3821.8926206331225,
          4686.904192314192,
          5747.694424835347,
          7048.574036451903,
          8643.882620598262,
          10600.258488068825,
          12999.42224413245,
          15941.590374559995,
          19549.661430912594,
          23974.349678010785,
          29400.480643347077,
          36054.71154250506,
          44214.99907374487,
          54222.21006501592,
          66494.35996665046,
          81544.07395185171,
          100000
         ],
         "xaxis": "x",
         "y": [
          -1.3939611901058553,
          -1.3912211244385788,
          -1.3874249746395209,
          -1.3823436174588526,
          -1.3757251738542293,
          -1.3672854684449414,
          -1.3566979824670926,
          -1.34358466662075,
          -1.3275089887510139,
          -1.3079727320179808,
          -1.284418391774763,
          -1.2562395042956038,
          -1.2228017289410864,
          -1.1834777262215044,
          -1.1376984288867364,
          -1.0850217056111922,
          -1.025216234271804,
          -0.9583535335951596,
          -0.8848951555137378,
          -0.8057566214632448,
          -0.7223272862436054,
          -0.636428516719258,
          -0.550202639979941,
          -0.46594059951258643,
          -0.38587270347542396,
          -0.31195828796035785,
          -0.24571189251907985,
          -0.188094794924457,
          -0.1394848565072273,
          -0.09972031198881375,
          -0.06819962818255132,
          -0.04401264342425488,
          -0.026077974946545554,
          -0.013266448881460804,
          -0.004497703394047268,
          0.001195107972973988,
          0.004631126209827441,
          0.006472516350307695,
          0.0072327176283656265,
          0.007294953957059716,
          0.00693507387714904,
          0.006344569381752287,
          0.00565131931271399,
          0.004936936145353973,
          0.004250493240972972,
          0.0036189251390370686,
          0.003054627350235124,
          0.0025608367378102256,
          0.0021353302990121223,
          0.0017728944100686118,
          0.0014669214744831387,
          0.0012104034567156667,
          0.0009965188896045377,
          0.0008189528323305538,
          0.0006720464018720857,
          0.0005508413698658563,
          0.00045106327500260557,
          0.0003690712267490902,
          0.0003017921917698847,
          0.000246650621439823,
          0.0002014997354056407,
          0.000164557859539516,
          0.0001343513904636959,
          0.00010966485239018805,
          0.00008949787283887031,
          0.0000730285622226802,
          0.00005958262579834299,
          0.00004860749144531688,
          0.00003965075569441728,
          0.00003234230333716009,
          0.00002637952422458013,
          0.000021515123378682067,
          0.000017547090935646332,
          0.00001431046337135017,
          0.000011670565433228495,
          0.000009517472829256528,
          0.000007761479243366257,
          0.00000632938822306113,
          0.00000516148162940099,
          0.000004209042396732107
         ],
         "yaxis": "y"
        },
        {
         "hovertemplate": "variable=bmi^2<br>alphas=%{x}<br>value=%{y}<extra></extra>",
         "legendgroup": "bmi^2",
         "line": {
          "color": "#00cc96",
          "dash": "solid"
         },
         "mode": "lines",
         "name": "bmi^2",
         "showlegend": true,
         "type": "scattergl",
         "x": [
          0.01,
          0.012263306841775632,
          0.015038869469554102,
          0.018442627085855347,
          0.022616759492228647,
          0.02773562614198415,
          0.03401304938279251,
          0.04171124612056518,
          0.051151780992931425,
          0.06272899858196247,
          0.07692649574879142,
          0.09433732216299774,
          0.1156887528316282,
          0.1418726674116596,
          0.1739828052930364,
          0.21336045265014109,
          0.2616504698748821,
          0.320869999737045,
          0.39349272630958493,
          0.48255220427412787,
          0.5917685748188825,
          0.7257039612324212,
          0.8899530352885229,
          1.0913767146512738,
          1.3383887531737564,
          1.6413071953751284,
          2.0127853758499383,
          2.4683404670686486,
          3.0270016537634614,
          3.7121050090663608,
          4.55226827550731,
          5.582586268862695,
          6.846096838574658,
          8.395578619995112,
          10.295755673125127,
          12.626001098748565,
          15.48365256585499,
          18.988078244652634,
          23.285662984981965,
          28.55592301990109,
          35.019004614317126,
          42.944879887892725,
          52.66462393484275,
          64.58424430196978,
          79.20164050192548,
          97.12740198471168,
          119.11031332830079,
          146.06863203649888,
          179.1284454622002,
          219.67070907932353,
          269.388930959017,
          330.35991201283395,
          405.1304969235378,
          496.8239594734388,
          609.2704661368674,
          747.1670675868082,
          916.2739011886731,
          1123.6548001387516,
          1377.9723598335568,
          1689.8497868124587,
          2072.3146452190294,
          2541.343036702639,
          3116.52694492943,
          3821.8926206331225,
          4686.904192314192,
          5747.694424835347,
          7048.574036451903,
          8643.882620598262,
          10600.258488068825,
          12999.42224413245,
          15941.590374559995,
          19549.661430912594,
          23974.349678010785,
          29400.480643347077,
          36054.71154250506,
          44214.99907374487,
          54222.21006501592,
          66494.35996665046,
          81544.07395185171,
          100000
         ],
         "xaxis": "x",
         "y": [
          469.1830880526512,
          406.9574247473601,
          350.620085243616,
          300.37629229050435,
          256.1635341278576,
          217.71226008119217,
          184.60898904638032,
          156.35388391980047,
          132.40833641944485,
          112.23105536542523,
          95.30318340499353,
          81.14408778564548,
          69.31988261467598,
          59.44669598157672,
          51.190413720110946,
          44.26426446850478,
          38.425245263509936,
          33.47006272840703,
          29.2309945784614,
          25.57186260153264,
          22.38415508251504,
          19.583250118983226,
          17.104674914341636,
          14.900381609946418,
          12.935101778407905,
          11.182920449290247,
          9.624249068150775,
          8.243356288567822,
          7.026544046674915,
          5.960962762496185,
          5.033977123166994,
          4.232945185147631,
          3.5452634410721044,
          2.958549812439105,
          2.460870262691108,
          2.0409497369110325,
          1.6883367789594093,
          1.393511119505354,
          1.1479356746487555,
          0.9440608015985775,
          0.7752912937614976,
          0.635926927925244,
          0.5210863908302713,
          0.4266227696255942,
          0.3490369305732185,
          0.2853933173770146,
          0.23324113893356396,
          0.19054265838862852,
          0.15560934895598713,
          0.12704601595679066,
          0.10370254963639203,
          0.08463271619573179,
          0.06905926620476549,
          0.05634459944425355,
          0.0459662416764536,
          0.03749643870776496,
          0.030585240193276304,
          0.024946519175576044,
          0.020346446566101344,
          0.0165940086957687,
          0.0135332186163467,
          0.011036727197032362,
          0.009000588171119525,
          0.007339972529407165,
          0.00598566264551671,
          0.004881185964286108,
          0.003980472710687086,
          0.0032459425703068,
          0.0026469422798386564,
          0.0021584701028773638,
          0.001760134735869559,
          0.0014353057056814107,
          0.0011704201353832692,
          0.0009544171642364328,
          0.0007782765587283404,
          0.0006346423495126582,
          0.0005175158446987422,
          0.00042200524388876913,
          0.0003441214256913768,
          0.00028061139955388537
         ],
         "yaxis": "y"
        },
        {
         "hovertemplate": "variable=bp^2<br>alphas=%{x}<br>value=%{y}<extra></extra>",
         "legendgroup": "bp^2",
         "line": {
          "color": "#ab63fa",
          "dash": "solid"
         },
         "mode": "lines",
         "name": "bp^2",
         "showlegend": true,
         "type": "scattergl",
         "x": [
          0.01,
          0.012263306841775632,
          0.015038869469554102,
          0.018442627085855347,
          0.022616759492228647,
          0.02773562614198415,
          0.03401304938279251,
          0.04171124612056518,
          0.051151780992931425,
          0.06272899858196247,
          0.07692649574879142,
          0.09433732216299774,
          0.1156887528316282,
          0.1418726674116596,
          0.1739828052930364,
          0.21336045265014109,
          0.2616504698748821,
          0.320869999737045,
          0.39349272630958493,
          0.48255220427412787,
          0.5917685748188825,
          0.7257039612324212,
          0.8899530352885229,
          1.0913767146512738,
          1.3383887531737564,
          1.6413071953751284,
          2.0127853758499383,
          2.4683404670686486,
          3.0270016537634614,
          3.7121050090663608,
          4.55226827550731,
          5.582586268862695,
          6.846096838574658,
          8.395578619995112,
          10.295755673125127,
          12.626001098748565,
          15.48365256585499,
          18.988078244652634,
          23.285662984981965,
          28.55592301990109,
          35.019004614317126,
          42.944879887892725,
          52.66462393484275,
          64.58424430196978,
          79.20164050192548,
          97.12740198471168,
          119.11031332830079,
          146.06863203649888,
          179.1284454622002,
          219.67070907932353,
          269.388930959017,
          330.35991201283395,
          405.1304969235378,
          496.8239594734388,
          609.2704661368674,
          747.1670675868082,
          916.2739011886731,
          1123.6548001387516,
          1377.9723598335568,
          1689.8497868124587,
          2072.3146452190294,
          2541.343036702639,
          3116.52694492943,
          3821.8926206331225,
          4686.904192314192,
          5747.694424835347,
          7048.574036451903,
          8643.882620598262,
          10600.258488068825,
          12999.42224413245,
          15941.590374559995,
          19549.661430912594,
          23974.349678010785,
          29400.480643347077,
          36054.71154250506,
          44214.99907374487,
          54222.21006501592,
          66494.35996665046,
          81544.07395185171,
          100000
         ],
         "xaxis": "x",
         "y": [
          237.37362497949078,
          208.57204013592033,
          181.71635410446584,
          157.1537098067668,
          135.06990066947503,
          115.51044779148255,
          98.40996984011566,
          83.62359575317777,
          70.95601590556083,
          60.185723084007726,
          51.08359065786488,
          43.426006126939576,
          37.00335795870125,
          31.62488606337381,
          27.12088795967279,
          23.343134591520556,
          20.164166652076727,
          17.475957402014487,
          15.18826314399532,
          13.22684791856613,
          11.531669826393431,
          10.055055471385401,
          8.759865891414474,
          7.617665836605167,
          6.606935329160086,
          5.711390476322654,
          4.9184931889152015,
          4.218218432120378,
          3.6021158791591765,
          3.062662286496103,
          2.59286574017857,
          2.1860627081436226,
          1.8358453777540988,
          1.5360655249375794,
          1.2808752510648198,
          1.064778705152824,
          0.8826795933526069,
          0.7299165153275852,
          0.6022827892280663,
          0.49603038396040333,
          0.4078594825586199,
          0.3348963414187182,
          0.27466262447937645,
          0.22503940104738346,
          0.18422864931801983,
          0.15071456268770608,
          0.12322634957916848,
          0.10070364661108226,
          0.08226518385643522,
          0.06718096940211396,
          0.054847995358502794,
          0.044769293660049066,
          0.03653606789920949,
          0.029812577890844152,
          0.024323440235632227,
          0.019843017885906245,
          0.016186595034473675,
          0.01320306383111306,
          0.010768882013968637,
          0.00878309271852434,
          0.007163227864799078,
          0.005841943789513224,
          0.0047642618664999175,
          0.003885307746535127,
          0.00316846073141721,
          0.002583839954914179,
          0.0021070667905612166,
          0.0017182535610940786,
          0.0014011774870770046,
          0.0011426061561264382,
          0.000931746860686706,
          0.000759797151391473,
          0.0006195780643095772,
          0.0005052348560864481,
          0.0004119928491634554,
          0.00033595825684992395,
          0.0002739557139781962,
          0.00022339575686745913,
          0.0001821667372015138,
          0.00014854666831555188
         ],
         "yaxis": "y"
        },
        {
         "hovertemplate": "variable=s1^2<br>alphas=%{x}<br>value=%{y}<extra></extra>",
         "legendgroup": "s1^2",
         "line": {
          "color": "#FFA15A",
          "dash": "solid"
         },
         "mode": "lines",
         "name": "s1^2",
         "showlegend": true,
         "type": "scattergl",
         "x": [
          0.01,
          0.012263306841775632,
          0.015038869469554102,
          0.018442627085855347,
          0.022616759492228647,
          0.02773562614198415,
          0.03401304938279251,
          0.04171124612056518,
          0.051151780992931425,
          0.06272899858196247,
          0.07692649574879142,
          0.09433732216299774,
          0.1156887528316282,
          0.1418726674116596,
          0.1739828052930364,
          0.21336045265014109,
          0.2616504698748821,
          0.320869999737045,
          0.39349272630958493,
          0.48255220427412787,
          0.5917685748188825,
          0.7257039612324212,
          0.8899530352885229,
          1.0913767146512738,
          1.3383887531737564,
          1.6413071953751284,
          2.0127853758499383,
          2.4683404670686486,
          3.0270016537634614,
          3.7121050090663608,
          4.55226827550731,
          5.582586268862695,
          6.846096838574658,
          8.395578619995112,
          10.295755673125127,
          12.626001098748565,
          15.48365256585499,
          18.988078244652634,
          23.285662984981965,
          28.55592301990109,
          35.019004614317126,
          42.944879887892725,
          52.66462393484275,
          64.58424430196978,
          79.20164050192548,
          97.12740198471168,
          119.11031332830079,
          146.06863203649888,
          179.1284454622002,
          219.67070907932353,
          269.388930959017,
          330.35991201283395,
          405.1304969235378,
          496.8239594734388,
          609.2704661368674,
          747.1670675868082,
          916.2739011886731,
          1123.6548001387516,
          1377.9723598335568,
          1689.8497868124587,
          2072.3146452190294,
          2541.343036702639,
          3116.52694492943,
          3821.8926206331225,
          4686.904192314192,
          5747.694424835347,
          7048.574036451903,
          8643.882620598262,
          10600.258488068825,
          12999.42224413245,
          15941.590374559995,
          19549.661430912594,
          23974.349678010785,
          29400.480643347077,
          36054.71154250506,
          44214.99907374487,
          54222.21006501592,
          66494.35996665046,
          81544.07395185171,
          100000
         ],
         "xaxis": "x",
         "y": [
          127.97111304418192,
          105.94993464121443,
          87.33873416864951,
          71.69705589291306,
          58.61904807011004,
          47.73614029058409,
          38.71804783823842,
          31.272670360784968,
          25.14507396403658,
          20.11562993084459,
          15.997423770624101,
          12.633127862119736,
          9.89157716289727,
          7.664280176254421,
          5.862049314121917,
          4.4118695690968,
          3.2540630072773746,
          2.3397625038798253,
          1.6286869472987053,
          1.0872103661035613,
          0.6867315981721053,
          0.40236742737365383,
          0.21199771988051966,
          0.09567684076564796,
          0.03539060201513947,
          0.015091276259484827,
          0.020901069898593964,
          0.04135351685943806,
          0.06755199473098433,
          0.09316297337354587,
          0.11421629092470822,
          0.12873850289484148,
          0.13628311607483934,
          0.13743557281062474,
          0.13336230609549077,
          0.1254498855139675,
          0.11505256241874401,
          0.10334305894406812,
          0.09124680303230473,
          0.07943437279636581,
          0.06834834608077431,
          0.058245865250566645,
          0.04924431519862631,
          0.041362897494862695,
          0.03455686797843037,
          0.028743749450042804,
          0.02382221636782202,
          0.01968493730543844,
          0.01622677262905377,
          0.013349592159708035,
          0.010964748765860012,
          0.008994002061213506,
          0.007369471482053749,
          0.006033024067992312,
          0.0049353698143034235,
          0.0040350410344678475,
          0.0032973644754411622,
          0.002693488916018348,
          0.002199500685708357,
          0.0017956402859018537,
          0.0014656215786463247,
          0.0011960483089659098,
          0.0009759192762925401,
          0.0007962120587776888,
          0.0006495350102506746,
          0.0005298377620571863,
          0.00043217133106467277,
          0.0003524899496086313,
          0.0002874877669520765,
          0.00023446455391173612,
          0.0001912154365627181,
          0.00015594047679010919,
          0.00012717060510287364,
          0.00010370699989805571,
          0.00008457150619880289,
          0.00006896610615775852,
          0.00005623980384002338,
          0.00004586157794101749,
          0.00003739829720406443,
          0.000030496692378043673
         ],
         "yaxis": "y"
        },
        {
         "hovertemplate": "variable=s2^2<br>alphas=%{x}<br>value=%{y}<extra></extra>",
         "legendgroup": "s2^2",
         "line": {
          "color": "#19d3f3",
          "dash": "solid"
         },
         "mode": "lines",
         "name": "s2^2",
         "showlegend": true,
         "type": "scattergl",
         "x": [
          0.01,
          0.012263306841775632,
          0.015038869469554102,
          0.018442627085855347,
          0.022616759492228647,
          0.02773562614198415,
          0.03401304938279251,
          0.04171124612056518,
          0.051151780992931425,
          0.06272899858196247,
          0.07692649574879142,
          0.09433732216299774,
          0.1156887528316282,
          0.1418726674116596,
          0.1739828052930364,
          0.21336045265014109,
          0.2616504698748821,
          0.320869999737045,
          0.39349272630958493,
          0.48255220427412787,
          0.5917685748188825,
          0.7257039612324212,
          0.8899530352885229,
          1.0913767146512738,
          1.3383887531737564,
          1.6413071953751284,
          2.0127853758499383,
          2.4683404670686486,
          3.0270016537634614,
          3.7121050090663608,
          4.55226827550731,
          5.582586268862695,
          6.846096838574658,
          8.395578619995112,
          10.295755673125127,
          12.626001098748565,
          15.48365256585499,
          18.988078244652634,
          23.285662984981965,
          28.55592301990109,
          35.019004614317126,
          42.944879887892725,
          52.66462393484275,
          64.58424430196978,
          79.20164050192548,
          97.12740198471168,
          119.11031332830079,
          146.06863203649888,
          179.1284454622002,
          219.67070907932353,
          269.388930959017,
          330.35991201283395,
          405.1304969235378,
          496.8239594734388,
          609.2704661368674,
          747.1670675868082,
          916.2739011886731,
          1123.6548001387516,
          1377.9723598335568,
          1689.8497868124587,
          2072.3146452190294,
          2541.343036702639,
          3116.52694492943,
          3821.8926206331225,
          4686.904192314192,
          5747.694424835347,
          7048.574036451903,
          8643.882620598262,
          10600.258488068825,
          12999.42224413245,
          15941.590374559995,
          19549.661430912594,
          23974.349678010785,
          29400.480643347077,
          36054.71154250506,
          44214.99907374487,
          54222.21006501592,
          66494.35996665046,
          81544.07395185171,
          100000
         ],
         "xaxis": "x",
         "y": [
          -73.55019976564513,
          -58.4103153251709,
          -46.45981544086486,
          -37.12329158135488,
          -29.888223721399598,
          -24.31314390295656,
          -20.029192483647456,
          -16.736367138084972,
          -14.19621997346722,
          -12.222761039963212,
          -10.673005765039658,
          -9.438147325210851,
          -8.435896011070094,
          -7.604188102351406,
          -6.896245144077223,
          -6.276842291645325,
          -5.719590570514988,
          -5.205023841089479,
          -4.719286630357898,
          -4.253232438008047,
          -3.8017598442225076,
          -3.3632372539083586,
          -2.9389003254782073,
          -2.5321517605582278,
          -2.1477491281741363,
          -1.790924150665308,
          -1.4665227821380382,
          -1.1782759370617237,
          -0.9282987903497755,
          -0.7168756296585787,
          -0.5425306329559284,
          -0.402330703006062,
          -0.2923303561484839,
          -0.2080586105603351,
          -0.14496227539762857,
          -0.09875005826878476,
          -0.06561580112878751,
          -0.042347210966596334,
          -0.026343662668889677,
          -0.015572824494792512,
          -0.008493896043100219,
          -0.003968994964473176,
          -0.0011769043923198698,
          0.0004630248427310123,
          0.00135372704164104,
          0.0017699019758831377,
          0.001895565744113479,
          0.00185173527254905,
          0.001716365296709047,
          0.0015384282594884807,
          0.0013476928790528782,
          0.0011614154178192706,
          0.0009888558917227495,
          0.0008342856142165227,
          0.0006989623523793618,
          0.0005824075996950824,
          0.000483217541339728,
          0.00039956607574476334,
          0.00032950701720021124,
          0.00027114721301756443,
          0.00022273813328802403,
          0.0001827171365077504,
          0.0001497186479950889,
          0.00012256819736637222,
          0.00010026745649317787,
          0.00008197528261026058,
          0.00006698774562723139,
          0.00005471882777892643,
          0.00004468267483213595,
          0.000036477782599250754,
          0.000029773208773081357,
          0.000024296734524727438,
          0.000019824814801734322,
          0.00001617411964371518,
          0.000013194461082633684,
          0.000010762908632151746,
          0.000008778913092261502,
          0.000007160278591207937,
          0.000005839843625927931,
          0.0000047627517663745056
         ],
         "yaxis": "y"
        },
        {
         "hovertemplate": "variable=s3^2<br>alphas=%{x}<br>value=%{y}<extra></extra>",
         "legendgroup": "s3^2",
         "line": {
          "color": "#FF6692",
          "dash": "solid"
         },
         "mode": "lines",
         "name": "s3^2",
         "showlegend": true,
         "type": "scattergl",
         "x": [
          0.01,
          0.012263306841775632,
          0.015038869469554102,
          0.018442627085855347,
          0.022616759492228647,
          0.02773562614198415,
          0.03401304938279251,
          0.04171124612056518,
          0.051151780992931425,
          0.06272899858196247,
          0.07692649574879142,
          0.09433732216299774,
          0.1156887528316282,
          0.1418726674116596,
          0.1739828052930364,
          0.21336045265014109,
          0.2616504698748821,
          0.320869999737045,
          0.39349272630958493,
          0.48255220427412787,
          0.5917685748188825,
          0.7257039612324212,
          0.8899530352885229,
          1.0913767146512738,
          1.3383887531737564,
          1.6413071953751284,
          2.0127853758499383,
          2.4683404670686486,
          3.0270016537634614,
          3.7121050090663608,
          4.55226827550731,
          5.582586268862695,
          6.846096838574658,
          8.395578619995112,
          10.295755673125127,
          12.626001098748565,
          15.48365256585499,
          18.988078244652634,
          23.285662984981965,
          28.55592301990109,
          35.019004614317126,
          42.944879887892725,
          52.66462393484275,
          64.58424430196978,
          79.20164050192548,
          97.12740198471168,
          119.11031332830079,
          146.06863203649888,
          179.1284454622002,
          219.67070907932353,
          269.388930959017,
          330.35991201283395,
          405.1304969235378,
          496.8239594734388,
          609.2704661368674,
          747.1670675868082,
          916.2739011886731,
          1123.6548001387516,
          1377.9723598335568,
          1689.8497868124587,
          2072.3146452190294,
          2541.343036702639,
          3116.52694492943,
          3821.8926206331225,
          4686.904192314192,
          5747.694424835347,
          7048.574036451903,
          8643.882620598262,
          10600.258488068825,
          12999.42224413245,
          15941.590374559995,
          19549.661430912594,
          23974.349678010785,
          29400.480643347077,
          36054.71154250506,
          44214.99907374487,
          54222.21006501592,
          66494.35996665046,
          81544.07395185171,
          100000
         ],
         "xaxis": "x",
         "y": [
          82.38813122910508,
          71.09562555316421,
          60.642596002914594,
          51.08268850649141,
          42.446252207136865,
          34.74202971897953,
          27.957885498639914,
          22.061933066798137,
          17.00478343539171,
          12.722995233169085,
          9.14337073762026,
          6.187555713065745,
          3.7764076523461907,
          1.8337126248599034,
          0.28898839566115214,
          -0.9207296257928879,
          -1.8500846419684083,
          -2.5454362642159696,
          -3.045532106008324,
          -3.3825771259783064,
          -3.5834708107256317,
          -3.6710161235517935,
          -3.6649576525232144,
          -3.582769888172442,
          -3.4401785869785186,
          -3.251447376535327,
          -3.0294904024253704,
          -2.7858786404318017,
          -2.5307977799505594,
          -2.2729983061413983,
          -2.019762082777584,
          -1.776899044743366,
          -1.5487824070131424,
          -1.3384278046412077,
          -1.1476176641730453,
          -0.977065869830712,
          -0.8266110072450289,
          -0.6954217276932789,
          -0.5821967886342384,
          -0.4853450675910271,
          -0.40313592316098357,
          -0.33381588403718626,
          -0.275692377070114,
          -0.22718837751894963,
          -0.18687343962809358,
          -0.15347687978450048,
          -0.12588839170973123,
          -0.10315048092644577,
          -0.08444610732689904,
          -0.06908399502390036,
          -0.05648329009953778,
          -0.04615864105325125,
          -0.03770633179982143,
          -0.030791786401107978,
          -0.025138558395937642,
          -0.020518788141495367,
          -0.016745036304943492,
          -0.013663363028828694,
          -0.01114750746015138,
          -0.009094022175310622,
          -0.007418225330550058,
          -0.006050846009545697,
          -0.004935252607875168,
          -0.004025168593889035,
          -0.0032827937065479924,
          -0.0026772611266718477,
          -0.002183372201321432,
          -0.0017805598923022535,
          -0.0014520403348288898,
          -0.0011841188555117698,
          -0.0009656226537908387,
          -0.0007874372436566918,
          -0.0006421278212785352,
          -0.0005236300947774336,
          -0.0004269978961219037,
          -0.0003481971885614927,
          -0.00028393796881182124,
          -0.00023153711137481324,
          -0.00018880647175284213,
          -0.00015396160503158303
         ],
         "yaxis": "y"
        },
        {
         "hovertemplate": "variable=s4^2<br>alphas=%{x}<br>value=%{y}<extra></extra>",
         "legendgroup": "s4^2",
         "line": {
          "color": "#B6E880",
          "dash": "solid"
         },
         "mode": "lines",
         "name": "s4^2",
         "showlegend": true,
         "type": "scattergl",
         "x": [
          0.01,
          0.012263306841775632,
          0.015038869469554102,
          0.018442627085855347,
          0.022616759492228647,
          0.02773562614198415,
          0.03401304938279251,
          0.04171124612056518,
          0.051151780992931425,
          0.06272899858196247,
          0.07692649574879142,
          0.09433732216299774,
          0.1156887528316282,
          0.1418726674116596,
          0.1739828052930364,
          0.21336045265014109,
          0.2616504698748821,
          0.320869999737045,
          0.39349272630958493,
          0.48255220427412787,
          0.5917685748188825,
          0.7257039612324212,
          0.8899530352885229,
          1.0913767146512738,
          1.3383887531737564,
          1.6413071953751284,
          2.0127853758499383,
          2.4683404670686486,
          3.0270016537634614,
          3.7121050090663608,
          4.55226827550731,
          5.582586268862695,
          6.846096838574658,
          8.395578619995112,
          10.295755673125127,
          12.626001098748565,
          15.48365256585499,
          18.988078244652634,
          23.285662984981965,
          28.55592301990109,
          35.019004614317126,
          42.944879887892725,
          52.66462393484275,
          64.58424430196978,
          79.20164050192548,
          97.12740198471168,
          119.11031332830079,
          146.06863203649888,
          179.1284454622002,
          219.67070907932353,
          269.388930959017,
          330.35991201283395,
          405.1304969235378,
          496.8239594734388,
          609.2704661368674,
          747.1670675868082,
          916.2739011886731,
          1123.6548001387516,
          1377.9723598335568,
          1689.8497868124587,
          2072.3146452190294,
          2541.343036702639,
          3116.52694492943,
          3821.8926206331225,
          4686.904192314192,
          5747.694424835347,
          7048.574036451903,
          8643.882620598262,
          10600.258488068825,
          12999.42224413245,
          15941.590374559995,
          19549.661430912594,
          23974.349678010785,
          29400.480643347077,
          36054.71154250506,
          44214.99907374487,
          54222.21006501592,
          66494.35996665046,
          81544.07395185171,
          100000
         ],
         "xaxis": "x",
         "y": [
          -30.446627473865604,
          -26.256881083132836,
          -22.58675569623686,
          -19.41728838627135,
          -16.699826747464456,
          -14.372513312719233,
          -12.37170474615293,
          -10.638933904742801,
          -9.124414919246169,
          -7.788129144163266,
          -6.599374052271193,
          -5.53544658878032,
          -4.579946211159114,
          -3.721041659829331,
          -2.9499367722169194,
          -2.259676010433085,
          -1.6443423263612955,
          -1.0986235047938502,
          -0.6176677750960005,
          -0.19712093124192356,
          0.1667661136691175,
          0.4770550964691062,
          0.7361325926458424,
          0.9458527340071426,
          1.1078101559110491,
          1.2237062646849879,
          1.2957409573181595,
          1.3269449136203442,
          1.3213719568439934,
          1.2840987359410745,
          1.2210238246178118,
          1.1385067791077859,
          1.0429240842735836,
          0.9402319706054013,
          0.8356136517042876,
          0.733257897341919,
          0.6362795790208582,
          0.5467627293290859,
          0.4658894161612881,
          0.3941138818882704,
          0.33134722871739297,
          0.27712837703813037,
          0.23076785776204786,
          0.19145975180785574,
          0.15836292830533008,
          0.13065588586457016,
          0.10757066091561879,
          0.08841118331040085,
          0.07256073922895578,
          0.059482256492855975,
          0.04871419640107558,
          0.03986403336917637,
          0.03260066562732403,
          0.026646621813979067,
          0.021770585753532152,
          0.017780526220140907,
          0.01451756296294047,
          0.011850602040943695,
          0.009671714940414454,
          0.00789220392848648,
          0.006439281269489652,
          0.0052532857977825856,
          0.00428536251703917,
          0.00349553649942793,
          0.00285111955145805,
          0.0023253957667494856,
          0.001896539539260472,
          0.001546726507233986,
          0.0012614040736578017,
          0.0010286935554871322,
          0.0008389006710977613,
          0.0006841150395562923,
          0.000557882709087952,
          0.00045493853312849225,
          0.00037098754601683583,
          0.0003025264264466309,
          0.0002466977375965247,
          0.00020117095291494414,
          0.0001640453627512041,
          0.00013377084928721316
         ],
         "yaxis": "y"
        },
        {
         "hovertemplate": "variable=s5^2<br>alphas=%{x}<br>value=%{y}<extra></extra>",
         "legendgroup": "s5^2",
         "line": {
          "color": "#FF97FF",
          "dash": "solid"
         },
         "mode": "lines",
         "name": "s5^2",
         "showlegend": true,
         "type": "scattergl",
         "x": [
          0.01,
          0.012263306841775632,
          0.015038869469554102,
          0.018442627085855347,
          0.022616759492228647,
          0.02773562614198415,
          0.03401304938279251,
          0.04171124612056518,
          0.051151780992931425,
          0.06272899858196247,
          0.07692649574879142,
          0.09433732216299774,
          0.1156887528316282,
          0.1418726674116596,
          0.1739828052930364,
          0.21336045265014109,
          0.2616504698748821,
          0.320869999737045,
          0.39349272630958493,
          0.48255220427412787,
          0.5917685748188825,
          0.7257039612324212,
          0.8899530352885229,
          1.0913767146512738,
          1.3383887531737564,
          1.6413071953751284,
          2.0127853758499383,
          2.4683404670686486,
          3.0270016537634614,
          3.7121050090663608,
          4.55226827550731,
          5.582586268862695,
          6.846096838574658,
          8.395578619995112,
          10.295755673125127,
          12.626001098748565,
          15.48365256585499,
          18.988078244652634,
          23.285662984981965,
          28.55592301990109,
          35.019004614317126,
          42.944879887892725,
          52.66462393484275,
          64.58424430196978,
          79.20164050192548,
          97.12740198471168,
          119.11031332830079,
          146.06863203649888,
          179.1284454622002,
          219.67070907932353,
          269.388930959017,
          330.35991201283395,
          405.1304969235378,
          496.8239594734388,
          609.2704661368674,
          747.1670675868082,
          916.2739011886731,
          1123.6548001387516,
          1377.9723598335568,
          1689.8497868124587,
          2072.3146452190294,
          2541.343036702639,
          3116.52694492943,
          3821.8926206331225,
          4686.904192314192,
          5747.694424835347,
          7048.574036451903,
          8643.882620598262,
          10600.258488068825,
          12999.42224413245,
          15941.590374559995,
          19549.661430912594,
          23974.349678010785,
          29400.480643347077,
          36054.71154250506,
          44214.99907374487,
          54222.21006501592,
          66494.35996665046,
          81544.07395185171,
          100000
         ],
         "xaxis": "x",
         "y": [
          -75.84349647024538,
          -80.15833987294718,
          -79.98757086917831,
          -76.60298665670177,
          -71.07200084030353,
          -64.26165217510905,
          -56.849241861099905,
          -49.33975232733311,
          -42.088678756764864,
          -35.32791297708878,
          -29.19206460195649,
          -23.74298428548453,
          -18.990991645998054,
          -14.912113749667832,
          -11.461305334249639,
          -8.582061736523864,
          -6.2130541684632385,
          -4.2924677751296665,
          -2.760670110080352,
          -1.5617345364746138,
          -0.6442248190377431,
          0.03846651740335281,
          0.528032808841829,
          0.861307756814847,
          1.0704053084422596,
          1.182926728726263,
          1.2222323088418379,
          1.2077746513843282,
          1.1554812116586728,
          1.078164060615261,
          0.9859309678785984,
          0.8865758498067376,
          0.7859358923902753,
          0.6882124615575395,
          0.5962592138868912,
          0.511842285568445,
          0.4358754087050357,
          0.3686298023776725,
          0.30991676119123784,
          0.25924078120756217,
          0.2159224509973006,
          0.17919231819838308,
          0.14825872070935475,
          0.12235370393102812,
          0.10076154718343612,
          0.08283423502219495,
          0.06799765551328471,
          0.05575159518839746,
          0.04566587927116516,
          0.03737436300452236,
          0.030567952939441756,
          0.024987430876138698,
          0.02041655531394639,
          0.016675706241591624,
          0.013616198504978456,
          0.011115298685213656,
          0.009071925647927553,
          0.0074029843757731145,
          0.0060402680747909995,
          0.004927858980503901,
          0.004019959751001743,
          0.003279092135971277,
          0.0026746060173967693,
          0.0021814488488776144,
          0.0017791523352513675,
          0.0014509995396584303,
          0.0011833413121603742,
          0.000965035946483834,
          0.0007869902998866689,
          0.0006417843023756588,
          0.0005233638997252224,
          0.0004267900898490693,
          0.0003480338928858492,
          0.00028380890594954604,
          0.00023143459144599237,
          0.00018872468369345832,
          0.00015389611589548602,
          0.00012549470543694633,
          0.00010233452135879437,
          0.00008344841998701826
         ],
         "yaxis": "y"
        },
        {
         "hovertemplate": "variable=s6^2<br>alphas=%{x}<br>value=%{y}<extra></extra>",
         "legendgroup": "s6^2",
         "line": {
          "color": "#FECB52",
          "dash": "solid"
         },
         "mode": "lines",
         "name": "s6^2",
         "showlegend": true,
         "type": "scattergl",
         "x": [
          0.01,
          0.012263306841775632,
          0.015038869469554102,
          0.018442627085855347,
          0.022616759492228647,
          0.02773562614198415,
          0.03401304938279251,
          0.04171124612056518,
          0.051151780992931425,
          0.06272899858196247,
          0.07692649574879142,
          0.09433732216299774,
          0.1156887528316282,
          0.1418726674116596,
          0.1739828052930364,
          0.21336045265014109,
          0.2616504698748821,
          0.320869999737045,
          0.39349272630958493,
          0.48255220427412787,
          0.5917685748188825,
          0.7257039612324212,
          0.8899530352885229,
          1.0913767146512738,
          1.3383887531737564,
          1.6413071953751284,
          2.0127853758499383,
          2.4683404670686486,
          3.0270016537634614,
          3.7121050090663608,
          4.55226827550731,
          5.582586268862695,
          6.846096838574658,
          8.395578619995112,
          10.295755673125127,
          12.626001098748565,
          15.48365256585499,
          18.988078244652634,
          23.285662984981965,
          28.55592301990109,
          35.019004614317126,
          42.944879887892725,
          52.66462393484275,
          64.58424430196978,
          79.20164050192548,
          97.12740198471168,
          119.11031332830079,
          146.06863203649888,
          179.1284454622002,
          219.67070907932353,
          269.388930959017,
          330.35991201283395,
          405.1304969235378,
          496.8239594734388,
          609.2704661368674,
          747.1670675868082,
          916.2739011886731,
          1123.6548001387516,
          1377.9723598335568,
          1689.8497868124587,
          2072.3146452190294,
          2541.343036702639,
          3116.52694492943,
          3821.8926206331225,
          4686.904192314192,
          5747.694424835347,
          7048.574036451903,
          8643.882620598262,
          10600.258488068825,
          12999.42224413245,
          15941.590374559995,
          19549.661430912594,
          23974.349678010785,
          29400.480643347077,
          36054.71154250506,
          44214.99907374487,
          54222.21006501592,
          66494.35996665046,
          81544.07395185171,
          100000
         ],
         "xaxis": "x",
         "y": [
          672.9207223272896,
          582.63070024713,
          500.21882787514886,
          426.2152468525795,
          360.7307338377018,
          303.53319068321,
          254.1377524530934,
          211.89545638989256,
          176.0705047169348,
          145.90130422394506,
          120.64449190277207,
          99.60368002684625,
          82.14583737258555,
          67.70845933606574,
          55.80037455024615,
          45.998500993078956,
          37.94229480952002,
          31.327127347299733,
          25.897413750540185,
          21.439999959422668,
          17.77808183477548,
          14.765767069559859,
          12.283286791764596,
          10.232809527744985,
          8.534793691688185,
          7.124821154188213,
          5.95086831227731,
          4.970980983371424,
          4.151321087850926,
          3.4645488400287237,
          2.8884993578462326,
          2.405111308054549,
          1.9995681584426448,
          1.6596178364541132,
          1.3750415386257608,
          1.1372457446784878,
          0.9389534212825768,
          0.7739720678852489,
          0.6370186168675619,
          0.5235845068431452,
          0.4298281207031872,
          0.3524855901414339,
          0.28879419574947307,
          0.23642498668283404,
          0.19342281020988636,
          0.15815283547772693,
          0.12925308293598312,
          0.105592617761203,
          0.08623507140495787,
          0.07040710893968018,
          0.05747140988882443,
          0.0469036981902411,
          0.03827334837394206,
          0.031227107483293097,
          0.025475500248364556,
          0.02078152269544096,
          0.016951271773892402,
          0.013826201968928552,
          0.011276741716885873,
          0.009197041211531162,
          0.007500658091569646,
          0.006117018254076083,
          0.0049885157036318635,
          0.004068138179512877,
          0.0033175246645152146,
          0.0027053771710264995,
          0.0022061628259430143,
          0.0017990536169250726,
          0.001467060564733835,
          0.0011963268569736012,
          0.000975550884402523,
          0.0007955153909707653,
          0.0006487032771252065,
          0.0005289841461587669,
          0.0004313585922006524,
          0.0003517496096189191,
          0.00028683245144819544,
          0.0002338958568908623,
          0.00019072886919744767,
          0.00015552852814167923
         ],
         "yaxis": "y"
        },
        {
         "hovertemplate": "variable=age^3<br>alphas=%{x}<br>value=%{y}<extra></extra>",
         "legendgroup": "age^3",
         "line": {
          "color": "#636efa",
          "dash": "solid"
         },
         "mode": "lines",
         "name": "age^3",
         "showlegend": true,
         "type": "scattergl",
         "x": [
          0.01,
          0.012263306841775632,
          0.015038869469554102,
          0.018442627085855347,
          0.022616759492228647,
          0.02773562614198415,
          0.03401304938279251,
          0.04171124612056518,
          0.051151780992931425,
          0.06272899858196247,
          0.07692649574879142,
          0.09433732216299774,
          0.1156887528316282,
          0.1418726674116596,
          0.1739828052930364,
          0.21336045265014109,
          0.2616504698748821,
          0.320869999737045,
          0.39349272630958493,
          0.48255220427412787,
          0.5917685748188825,
          0.7257039612324212,
          0.8899530352885229,
          1.0913767146512738,
          1.3383887531737564,
          1.6413071953751284,
          2.0127853758499383,
          2.4683404670686486,
          3.0270016537634614,
          3.7121050090663608,
          4.55226827550731,
          5.582586268862695,
          6.846096838574658,
          8.395578619995112,
          10.295755673125127,
          12.626001098748565,
          15.48365256585499,
          18.988078244652634,
          23.285662984981965,
          28.55592301990109,
          35.019004614317126,
          42.944879887892725,
          52.66462393484275,
          64.58424430196978,
          79.20164050192548,
          97.12740198471168,
          119.11031332830079,
          146.06863203649888,
          179.1284454622002,
          219.67070907932353,
          269.388930959017,
          330.35991201283395,
          405.1304969235378,
          496.8239594734388,
          609.2704661368674,
          747.1670675868082,
          916.2739011886731,
          1123.6548001387516,
          1377.9723598335568,
          1689.8497868124587,
          2072.3146452190294,
          2541.343036702639,
          3116.52694492943,
          3821.8926206331225,
          4686.904192314192,
          5747.694424835347,
          7048.574036451903,
          8643.882620598262,
          10600.258488068825,
          12999.42224413245,
          15941.590374559995,
          19549.661430912594,
          23974.349678010785,
          29400.480643347077,
          36054.71154250506,
          44214.99907374487,
          54222.21006501592,
          66494.35996665046,
          81544.07395185171,
          100000
         ],
         "xaxis": "x",
         "y": [
          -37.7416416569136,
          -30.94324591841981,
          -25.34723048606435,
          -20.746125555802795,
          -16.967189224315163,
          -13.866606345733803,
          -11.324773375611189,
          -9.242396785249522,
          -7.537219380202803,
          -6.141249928944635,
          -4.998411119487946,
          -4.062544783796701,
          -3.295727034769827,
          -2.6668536854441927,
          -2.150460853878374,
          -1.7257485745663095,
          -1.3757773063171364,
          -1.0868088095924937,
          -0.8477642373834524,
          -0.6497738396335846,
          -0.4857950070656084,
          -0.3502791082805974,
          -0.23887303163295923,
          -0.1481481502969587,
          -0.07535635649281007,
          -0.01821815175410275,
          0.025249880578336825,
          0.05686199260784553,
          0.07834220911094018,
          0.0913581721652216,
          0.0975179658371999,
          0.09834187129296557,
          0.0952226979621753,
          0.08938746077303432,
          0.08186999713151906,
          0.07349958317943239,
          0.06490602198487026,
          0.056538186210944655,
          0.048691186679342024,
          0.04153713663313934,
          0.03515538326764266,
          0.029559460073663057,
          0.02471937726560845,
          0.02057893388179023,
          0.017068421971167373,
          0.014113442379039375,
          0.01164065617855455,
          0.009581251855173827,
          0.00787279194663404,
          0.006459964529312546,
          0.005294633384794424,
          0.004335469017811082,
          0.0035473545522401225,
          0.0029006944996221116,
          0.0023707069348481,
          0.0019367467012876456,
          0.0015816852048689328,
          0.0012913580862547486,
          0.0010540832132035244,
          0.0008602462563179273,
          0.0007019483438182478,
          0.0005727090593342702,
          0.0004672177559960929,
          0.0003811264152867652,
          0.00031087782430936256,
          0.0002535635192343561,
          0.00020680664798379794,
          0.00016866558541057906,
          0.00013755475965228307,
          0.00011217970586583724,
          0.00009148385004905306,
          0.00007460494370224285,
          0.00006083942524044955,
          0.000049613283204360835,
          0.000040458246605349684,
          0.000032992336075185224,
          0.000026903982202407013,
          0.000021939060156509,
          0.000017890307334296528,
          0.000014588687520779836
         ],
         "yaxis": "y"
        },
        {
         "hovertemplate": "variable=sex^3<br>alphas=%{x}<br>value=%{y}<extra></extra>",
         "legendgroup": "sex^3",
         "line": {
          "color": "#EF553B",
          "dash": "solid"
         },
         "mode": "lines",
         "name": "sex^3",
         "showlegend": true,
         "type": "scattergl",
         "x": [
          0.01,
          0.012263306841775632,
          0.015038869469554102,
          0.018442627085855347,
          0.022616759492228647,
          0.02773562614198415,
          0.03401304938279251,
          0.04171124612056518,
          0.051151780992931425,
          0.06272899858196247,
          0.07692649574879142,
          0.09433732216299774,
          0.1156887528316282,
          0.1418726674116596,
          0.1739828052930364,
          0.21336045265014109,
          0.2616504698748821,
          0.320869999737045,
          0.39349272630958493,
          0.48255220427412787,
          0.5917685748188825,
          0.7257039612324212,
          0.8899530352885229,
          1.0913767146512738,
          1.3383887531737564,
          1.6413071953751284,
          2.0127853758499383,
          2.4683404670686486,
          3.0270016537634614,
          3.7121050090663608,
          4.55226827550731,
          5.582586268862695,
          6.846096838574658,
          8.395578619995112,
          10.295755673125127,
          12.626001098748565,
          15.48365256585499,
          18.988078244652634,
          23.285662984981965,
          28.55592301990109,
          35.019004614317126,
          42.944879887892725,
          52.66462393484275,
          64.58424430196978,
          79.20164050192548,
          97.12740198471168,
          119.11031332830079,
          146.06863203649888,
          179.1284454622002,
          219.67070907932353,
          269.388930959017,
          330.35991201283395,
          405.1304969235378,
          496.8239594734388,
          609.2704661368674,
          747.1670675868082,
          916.2739011886731,
          1123.6548001387516,
          1377.9723598335568,
          1689.8497868124587,
          2072.3146452190294,
          2541.343036702639,
          3116.52694492943,
          3821.8926206331225,
          4686.904192314192,
          5747.694424835347,
          7048.574036451903,
          8643.882620598262,
          10600.258488068825,
          12999.42224413245,
          15941.590374559995,
          19549.661430912594,
          23974.349678010785,
          29400.480643347077,
          36054.71154250506,
          44214.99907374487,
          54222.21006501592,
          66494.35996665046,
          81544.07395185171,
          100000
         ],
         "xaxis": "x",
         "y": [
          -0.5306940726325847,
          -0.5296509039858907,
          -0.5282056742252388,
          -0.5262711539847746,
          -0.5237514505554874,
          -0.5205383757100409,
          -0.5165076206987881,
          -0.5115152586146794,
          -0.5053950975803778,
          -0.4979574617815951,
          -0.4889901039809849,
          -0.4782621377616154,
          -0.4655320637045913,
          -0.4505610477942503,
          -0.43313244080196694,
          -0.413077919193713,
          -0.39030941647205,
          -0.36485416048560704,
          -0.33688786837523366,
          -0.30675908772083754,
          -0.27499675889919384,
          -0.24229429332369604,
          -0.20946729496971633,
          -0.17738794746609665,
          -0.14690535000449167,
          -0.11876544017459169,
          -0.09354481735990554,
          -0.07160944900618071,
          -0.05310319045883382,
          -0.037964456162177904,
          -0.025964236801663303,
          -0.016756025312567497,
          -0.00992812915354257,
          -0.005050661263920735,
          -0.0017123177808843972,
          0.00045498879159273903,
          0.001763113095697401,
          0.0024641475576991966,
          0.002753563299784915,
          0.0027772572526544833,
          0.0026402475377335886,
          0.002415436949178932,
          0.002151510159034276,
          0.0018795378005514866,
          0.0016182025617073278,
          0.0013777586737854244,
          0.001162925223727741,
          0.0009749345156681537,
          0.0008129402316522028,
          0.0006749574963099844,
          0.0005584707358077648,
          0.0004608119254198224,
          0.00037938406874837757,
          0.000311783008715341,
          0.0002558543555868969,
          0.00020971046541583475,
          0.00017172401077250748,
          0.00014050887055195796,
          0.00011489511219961527,
          0.00009390220024659102,
          0.00007671283531840576,
          0.00006264871739802224,
          0.000051148831886514846,
          0.00004175043577446938,
          0.0000340726778951576,
          0.00002780265718984953,
          0.000022683663338341683,
          0.000018505326962235942,
          0.000015095413826290435,
          0.00001231301760633494,
          0.000010042931786209493,
          0.000008191008853095582,
          0.000006680341761012785,
          0.000005448127352259205,
          0.000004443093497614956,
          0.0000036233909902083125,
          0.0000029548677958557396,
          0.0000024096573399686613,
          0.0000019650243680872377,
          0.0000016024218373224684
         ],
         "yaxis": "y"
        },
        {
         "hovertemplate": "variable=bmi^3<br>alphas=%{x}<br>value=%{y}<extra></extra>",
         "legendgroup": "bmi^3",
         "line": {
          "color": "#00cc96",
          "dash": "solid"
         },
         "mode": "lines",
         "name": "bmi^3",
         "showlegend": true,
         "type": "scattergl",
         "x": [
          0.01,
          0.012263306841775632,
          0.015038869469554102,
          0.018442627085855347,
          0.022616759492228647,
          0.02773562614198415,
          0.03401304938279251,
          0.04171124612056518,
          0.051151780992931425,
          0.06272899858196247,
          0.07692649574879142,
          0.09433732216299774,
          0.1156887528316282,
          0.1418726674116596,
          0.1739828052930364,
          0.21336045265014109,
          0.2616504698748821,
          0.320869999737045,
          0.39349272630958493,
          0.48255220427412787,
          0.5917685748188825,
          0.7257039612324212,
          0.8899530352885229,
          1.0913767146512738,
          1.3383887531737564,
          1.6413071953751284,
          2.0127853758499383,
          2.4683404670686486,
          3.0270016537634614,
          3.7121050090663608,
          4.55226827550731,
          5.582586268862695,
          6.846096838574658,
          8.395578619995112,
          10.295755673125127,
          12.626001098748565,
          15.48365256585499,
          18.988078244652634,
          23.285662984981965,
          28.55592301990109,
          35.019004614317126,
          42.944879887892725,
          52.66462393484275,
          64.58424430196978,
          79.20164050192548,
          97.12740198471168,
          119.11031332830079,
          146.06863203649888,
          179.1284454622002,
          219.67070907932353,
          269.388930959017,
          330.35991201283395,
          405.1304969235378,
          496.8239594734388,
          609.2704661368674,
          747.1670675868082,
          916.2739011886731,
          1123.6548001387516,
          1377.9723598335568,
          1689.8497868124587,
          2072.3146452190294,
          2541.343036702639,
          3116.52694492943,
          3821.8926206331225,
          4686.904192314192,
          5747.694424835347,
          7048.574036451903,
          8643.882620598262,
          10600.258488068825,
          12999.42224413245,
          15941.590374559995,
          19549.661430912594,
          23974.349678010785,
          29400.480643347077,
          36054.71154250506,
          44214.99907374487,
          54222.21006501592,
          66494.35996665046,
          81544.07395185171,
          100000
         ],
         "xaxis": "x",
         "y": [
          36.12041550003696,
          31.449196876062015,
          27.288367068134196,
          23.622157657542562,
          20.424116879188855,
          17.65960234949965,
          15.288639990746812,
          13.268644666352113,
          11.556709392128331,
          10.111345384479652,
          8.893676429047897,
          7.868160262931908,
          7.0029387213350756,
          6.269921137724663,
          5.644693586840184,
          5.10632813300107,
          4.637146023614597,
          4.2224690898057755,
          3.8503756633806225,
          3.511462179765184,
          3.198600871227324,
          2.9066794158989198,
          2.63231129672874,
          2.3735152253995717,
          2.12937497845461,
          1.8997021953488946,
          1.6847292641599045,
          1.4848553711671666,
          1.3004580630921891,
          1.131770025833639,
          0.978811127411263,
          0.841361703846546,
          0.7189640854301877,
          0.6109429273873409,
          0.5164383329065949,
          0.43444760633896895,
          0.36387182705534493,
          0.30356320321465846,
          0.25236923188770416,
          0.20917042230325927,
          0.17290958567266118,
          0.14261207384317615,
          0.11739750937349577,
          0.09648430803155603,
          0.07918863588207907,
          0.06491945565419836,
          0.053171123812183786,
          0.04351471156142995,
          0.03558891913485378,
          0.029091179307480012,
          0.023769323519478313,
          0.019414015853153506,
          0.015852040988367632,
          0.012940453055554853,
          0.010561543403222224,
          0.008618558146513832,
          0.007032084055740634,
          0.00573701864636446,
          0.004680043474091548,
          0.0038175260160884013,
          0.0031137834050428853,
          0.0025396495819167983,
          0.0020712954896354332,
          0.0016892593822118748,
          0.0013776510017996066,
          0.0011234992291748306,
          0.000916217861164976,
          0.0007471684702483472,
          0.0006093029338637749,
          0.0004968712664048944,
          0.00040518292614776885,
          0.0003304118773665687,
          0.00026943743181274786,
          0.00021971433246003843,
          0.0001791667267270097,
          0.00014610164953075616,
          0.00011913843500011457,
          0.0000971511300728855,
          0.00007922151901132893,
          0.0000646008062482562
         ],
         "yaxis": "y"
        },
        {
         "hovertemplate": "variable=bp^3<br>alphas=%{x}<br>value=%{y}<extra></extra>",
         "legendgroup": "bp^3",
         "line": {
          "color": "#ab63fa",
          "dash": "solid"
         },
         "mode": "lines",
         "name": "bp^3",
         "showlegend": true,
         "type": "scattergl",
         "x": [
          0.01,
          0.012263306841775632,
          0.015038869469554102,
          0.018442627085855347,
          0.022616759492228647,
          0.02773562614198415,
          0.03401304938279251,
          0.04171124612056518,
          0.051151780992931425,
          0.06272899858196247,
          0.07692649574879142,
          0.09433732216299774,
          0.1156887528316282,
          0.1418726674116596,
          0.1739828052930364,
          0.21336045265014109,
          0.2616504698748821,
          0.320869999737045,
          0.39349272630958493,
          0.48255220427412787,
          0.5917685748188825,
          0.7257039612324212,
          0.8899530352885229,
          1.0913767146512738,
          1.3383887531737564,
          1.6413071953751284,
          2.0127853758499383,
          2.4683404670686486,
          3.0270016537634614,
          3.7121050090663608,
          4.55226827550731,
          5.582586268862695,
          6.846096838574658,
          8.395578619995112,
          10.295755673125127,
          12.626001098748565,
          15.48365256585499,
          18.988078244652634,
          23.285662984981965,
          28.55592301990109,
          35.019004614317126,
          42.944879887892725,
          52.66462393484275,
          64.58424430196978,
          79.20164050192548,
          97.12740198471168,
          119.11031332830079,
          146.06863203649888,
          179.1284454622002,
          219.67070907932353,
          269.388930959017,
          330.35991201283395,
          405.1304969235378,
          496.8239594734388,
          609.2704661368674,
          747.1670675868082,
          916.2739011886731,
          1123.6548001387516,
          1377.9723598335568,
          1689.8497868124587,
          2072.3146452190294,
          2541.343036702639,
          3116.52694492943,
          3821.8926206331225,
          4686.904192314192,
          5747.694424835347,
          7048.574036451903,
          8643.882620598262,
          10600.258488068825,
          12999.42224413245,
          15941.590374559995,
          19549.661430912594,
          23974.349678010785,
          29400.480643347077,
          36054.71154250506,
          44214.99907374487,
          54222.21006501592,
          66494.35996665046,
          81544.07395185171,
          100000
         ],
         "xaxis": "x",
         "y": [
          20.45037046406625,
          17.2798725000675,
          14.62922929544533,
          12.415812941590335,
          10.570192587189656,
          9.033645039877596,
          7.756284992942575,
          6.695642671749188,
          5.815551084372076,
          5.085244023648948,
          4.478600283588939,
          3.973495418806153,
          3.551239634585218,
          3.1960906260431647,
          2.89483535113045,
          2.636436480680068,
          2.4117387902431626,
          2.213228864413732,
          2.034838905775755,
          1.871783019478396,
          1.720413038963587,
          1.5780816153642352,
          1.4430032884609056,
          1.3141092026079382,
          1.1908968398824729,
          1.0732809489739903,
          0.9614542333149787,
          0.8557656649177072,
          0.7566211231747523,
          0.664407073235697,
          0.5794350191011026,
          0.5019034792721877,
          0.431874936264943,
          0.3692664193709962,
          0.3138529308684254,
          0.26528240183819185,
          0.22309967249196228,
          0.18677590844791203,
          0.15573948086275394,
          0.12940479208035913,
          0.1071965696905687,
          0.08856838131706561,
          0.07301520389784644,
          0.060080637468622286,
          0.04935975752950254,
          0.040498717287491985,
          0.03319213932673794,
          0.02717916662650334,
          0.022238842301874576,
          0.018185296813559966,
          0.014863060568133095,
          0.01214269476960666,
          0.009916842209504643,
          0.00809673698060908,
          0.006609171531372379,
          0.00539389514497773,
          0.004401404932050447,
          0.0035910849859481313,
          0.0029296486906515962,
          0.0023898413441829224,
          0.0019493639466495278,
          0.0015899833436220194,
          0.0012967983790859838,
          0.0010576359852312671,
          0.0008625550525391743,
          0.0007034394100645715,
          0.0005736642868583281,
          0.0004678232387410002,
          0.0003815047453187502,
          0.00031110955314941766,
          0.00025370140697625885,
          0.00020688511489286575,
          0.00016870697460392918,
          0.00013757348170593362,
          0.000112184977738941,
          0.00009148150194555718,
          0.00007459860854325953,
          0.00006083131967257251,
          0.00004960471875383596,
          0.00004044996285928565
         ],
         "yaxis": "y"
        },
        {
         "hovertemplate": "variable=s1^3<br>alphas=%{x}<br>value=%{y}<extra></extra>",
         "legendgroup": "s1^3",
         "line": {
          "color": "#FFA15A",
          "dash": "solid"
         },
         "mode": "lines",
         "name": "s1^3",
         "showlegend": true,
         "type": "scattergl",
         "x": [
          0.01,
          0.012263306841775632,
          0.015038869469554102,
          0.018442627085855347,
          0.022616759492228647,
          0.02773562614198415,
          0.03401304938279251,
          0.04171124612056518,
          0.051151780992931425,
          0.06272899858196247,
          0.07692649574879142,
          0.09433732216299774,
          0.1156887528316282,
          0.1418726674116596,
          0.1739828052930364,
          0.21336045265014109,
          0.2616504698748821,
          0.320869999737045,
          0.39349272630958493,
          0.48255220427412787,
          0.5917685748188825,
          0.7257039612324212,
          0.8899530352885229,
          1.0913767146512738,
          1.3383887531737564,
          1.6413071953751284,
          2.0127853758499383,
          2.4683404670686486,
          3.0270016537634614,
          3.7121050090663608,
          4.55226827550731,
          5.582586268862695,
          6.846096838574658,
          8.395578619995112,
          10.295755673125127,
          12.626001098748565,
          15.48365256585499,
          18.988078244652634,
          23.285662984981965,
          28.55592301990109,
          35.019004614317126,
          42.944879887892725,
          52.66462393484275,
          64.58424430196978,
          79.20164050192548,
          97.12740198471168,
          119.11031332830079,
          146.06863203649888,
          179.1284454622002,
          219.67070907932353,
          269.388930959017,
          330.35991201283395,
          405.1304969235378,
          496.8239594734388,
          609.2704661368674,
          747.1670675868082,
          916.2739011886731,
          1123.6548001387516,
          1377.9723598335568,
          1689.8497868124587,
          2072.3146452190294,
          2541.343036702639,
          3116.52694492943,
          3821.8926206331225,
          4686.904192314192,
          5747.694424835347,
          7048.574036451903,
          8643.882620598262,
          10600.258488068825,
          12999.42224413245,
          15941.590374559995,
          19549.661430912594,
          23974.349678010785,
          29400.480643347077,
          36054.71154250506,
          44214.99907374487,
          54222.21006501592,
          66494.35996665046,
          81544.07395185171,
          100000
         ],
         "xaxis": "x",
         "y": [
          7.376611899298345,
          5.568988154101724,
          4.178928002952138,
          3.1109147164682476,
          2.2906212441859073,
          1.6605593859127497,
          1.176495347600356,
          0.8045531826801209,
          0.5189062680922779,
          0.29995362813520915,
          0.13288702483514847,
          0.006569006757855152,
          -0.08734359263002103,
          -0.15508413025540552,
          -0.2013123565719855,
          -0.22953812147856667,
          -0.2424611437186572,
          -0.24224819589944055,
          -0.23076146144489149,
          -0.20974398114401613,
          -0.18096083314295863,
          -0.14628940955104625,
          -0.10775056538356934,
          -0.0674758058548097,
          -0.0276140682470202,
          0.009806795902143122,
          0.043037606215232255,
          0.0707518227343084,
          0.09214463268284494,
          0.10696573909945464,
          0.11548011948663639,
          0.1183676780963874,
          0.11658518756915884,
          0.11121883671752802,
          0.10335267915112291,
          0.09396967149664526,
          0.08389152500614482,
          0.07375465559764899,
          0.06401400609949458,
          0.05496465144801561,
          0.04677195965101371,
          0.039503363168325714,
          0.0331573830283054,
          0.027687760871401887,
          0.023022125816956875,
          0.01907556322907108,
          0.0157599007418499,
          0.012989650462731058,
          0.010685487229274551,
          0.008776001622649751,
          0.007198304640659368,
          0.005897910842253759,
          0.0048282018626979095,
          0.003949675182426577,
          0.0032291113586906876,
          0.0026387420512404875,
          0.0021554663024557458,
          0.0017601394337483198,
          0.001436944177057075,
          0.001172844671284408,
          0.0009571188171466084,
          0.000780961853484596,
          0.0006371529645748466,
          0.0005197766254609632,
          0.00042399082881857325,
          0.0003458350480070655,
          0.00028207161219716894,
          0.00023005500243206448,
          0.00018762436684410772,
          0.00015301527099999734,
          0.00012478733434251142,
          0.00010176495480387314,
          0.00008298879534345177,
          0.00006767610567843238,
          0.00005518828819934941,
          0.00004500439745738251,
          0.000036699495677948044,
          0.000029926979754902304,
          0.000024404154522585268,
          0.000019900458344853556
         ],
         "yaxis": "y"
        },
        {
         "hovertemplate": "variable=s2^3<br>alphas=%{x}<br>value=%{y}<extra></extra>",
         "legendgroup": "s2^3",
         "line": {
          "color": "#19d3f3",
          "dash": "solid"
         },
         "mode": "lines",
         "name": "s2^3",
         "showlegend": true,
         "type": "scattergl",
         "x": [
          0.01,
          0.012263306841775632,
          0.015038869469554102,
          0.018442627085855347,
          0.022616759492228647,
          0.02773562614198415,
          0.03401304938279251,
          0.04171124612056518,
          0.051151780992931425,
          0.06272899858196247,
          0.07692649574879142,
          0.09433732216299774,
          0.1156887528316282,
          0.1418726674116596,
          0.1739828052930364,
          0.21336045265014109,
          0.2616504698748821,
          0.320869999737045,
          0.39349272630958493,
          0.48255220427412787,
          0.5917685748188825,
          0.7257039612324212,
          0.8899530352885229,
          1.0913767146512738,
          1.3383887531737564,
          1.6413071953751284,
          2.0127853758499383,
          2.4683404670686486,
          3.0270016537634614,
          3.7121050090663608,
          4.55226827550731,
          5.582586268862695,
          6.846096838574658,
          8.395578619995112,
          10.295755673125127,
          12.626001098748565,
          15.48365256585499,
          18.988078244652634,
          23.285662984981965,
          28.55592301990109,
          35.019004614317126,
          42.944879887892725,
          52.66462393484275,
          64.58424430196978,
          79.20164050192548,
          97.12740198471168,
          119.11031332830079,
          146.06863203649888,
          179.1284454622002,
          219.67070907932353,
          269.388930959017,
          330.35991201283395,
          405.1304969235378,
          496.8239594734388,
          609.2704661368674,
          747.1670675868082,
          916.2739011886731,
          1123.6548001387516,
          1377.9723598335568,
          1689.8497868124587,
          2072.3146452190294,
          2541.343036702639,
          3116.52694492943,
          3821.8926206331225,
          4686.904192314192,
          5747.694424835347,
          7048.574036451903,
          8643.882620598262,
          10600.258488068825,
          12999.42224413245,
          15941.590374559995,
          19549.661430912594,
          23974.349678010785,
          29400.480643347077,
          36054.71154250506,
          44214.99907374487,
          54222.21006501592,
          66494.35996665046,
          81544.07395185171,
          100000
         ],
         "xaxis": "x",
         "y": [
          -43.30793511462238,
          -35.761884524259756,
          -29.534695177967347,
          -24.40928601829951,
          -20.199593833849974,
          -16.747348065440082,
          -13.918960833226416,
          -11.60249158174971,
          -9.70472480171545,
          -8.148429603193605,
          -6.869865069045994,
          -5.816572915816393,
          -4.945473059888504,
          -4.221256056323015,
          -3.6150515351846835,
          -3.1033430136106603,
          -2.667094912369168,
          -2.2910554042750153,
          -1.9631976685503718,
          -1.6742618549281059,
          -1.417361012768287,
          -1.1876174659743002,
          -0.9818028653150235,
          -0.7979661739918602,
          -0.635048534048857,
          -0.4924998121360235,
          -0.3699245386884454,
          -0.2667906315633204,
          -0.1822301460709498,
          -0.11494789853696472,
          -0.06323503647511398,
          -0.025066269826769655,
          0.0017529536241872184,
          0.019426379808788006,
          0.030025449557935267,
          0.035386382236252616,
          0.037052892593600825,
          0.03626089715984585,
          0.033955150625253165,
          0.03082570872567433,
          0.027353266863844067,
          0.023855206449394897,
          0.02052728348148775,
          0.017478526566518254,
          0.014758772218288809,
          0.012379373188177967,
          0.010328139618750594,
          0.00857971211587338,
          0.007102488860031548,
          0.005863054547801635,
          0.00482886010123817,
          0.003969717107866483,
          0.003258515972304361,
          0.0026714551611528746,
          0.0021879778178966838,
          0.0017905461204786152,
          0.0014643374222823784,
          0.0011969144457706746,
          0.0009779005153059198,
          0.00079867689681049,
          0.0006521104510232472,
          0.0005323143516002307,
          0.0004344414117878735,
          0.00035450780875177947,
          0.0002892441559714561,
          0.00023597059480429388,
          0.00019249262354205,
          0.00015701460689543996,
          0.0001280682175352698,
          0.00010445339748664552,
          0.00008518975798169736,
          0.00006947664411209923,
          0.000056660366975433294,
          0.00004620734834225004,
          0.000037682131818271145,
          0.00003072939242604798,
          0.000025059226682278422,
          0.000020435131048623488,
          0.00001666418145699225,
          0.000013589013578563177
         ],
         "yaxis": "y"
        },
        {
         "hovertemplate": "variable=s3^3<br>alphas=%{x}<br>value=%{y}<extra></extra>",
         "legendgroup": "s3^3",
         "line": {
          "color": "#FF6692",
          "dash": "solid"
         },
         "mode": "lines",
         "name": "s3^3",
         "showlegend": true,
         "type": "scattergl",
         "x": [
          0.01,
          0.012263306841775632,
          0.015038869469554102,
          0.018442627085855347,
          0.022616759492228647,
          0.02773562614198415,
          0.03401304938279251,
          0.04171124612056518,
          0.051151780992931425,
          0.06272899858196247,
          0.07692649574879142,
          0.09433732216299774,
          0.1156887528316282,
          0.1418726674116596,
          0.1739828052930364,
          0.21336045265014109,
          0.2616504698748821,
          0.320869999737045,
          0.39349272630958493,
          0.48255220427412787,
          0.5917685748188825,
          0.7257039612324212,
          0.8899530352885229,
          1.0913767146512738,
          1.3383887531737564,
          1.6413071953751284,
          2.0127853758499383,
          2.4683404670686486,
          3.0270016537634614,
          3.7121050090663608,
          4.55226827550731,
          5.582586268862695,
          6.846096838574658,
          8.395578619995112,
          10.295755673125127,
          12.626001098748565,
          15.48365256585499,
          18.988078244652634,
          23.285662984981965,
          28.55592301990109,
          35.019004614317126,
          42.944879887892725,
          52.66462393484275,
          64.58424430196978,
          79.20164050192548,
          97.12740198471168,
          119.11031332830079,
          146.06863203649888,
          179.1284454622002,
          219.67070907932353,
          269.388930959017,
          330.35991201283395,
          405.1304969235378,
          496.8239594734388,
          609.2704661368674,
          747.1670675868082,
          916.2739011886731,
          1123.6548001387516,
          1377.9723598335568,
          1689.8497868124587,
          2072.3146452190294,
          2541.343036702639,
          3116.52694492943,
          3821.8926206331225,
          4686.904192314192,
          5747.694424835347,
          7048.574036451903,
          8643.882620598262,
          10600.258488068825,
          12999.42224413245,
          15941.590374559995,
          19549.661430912594,
          23974.349678010785,
          29400.480643347077,
          36054.71154250506,
          44214.99907374487,
          54222.21006501592,
          66494.35996665046,
          81544.07395185171,
          100000
         ],
         "xaxis": "x",
         "y": [
          21.132720011366644,
          17.8295591281452,
          14.927356726406654,
          12.389419327529835,
          10.182219322836028,
          8.274539527646125,
          6.636866883379053,
          5.241039179094647,
          4.060131448275998,
          3.0685344142906956,
          2.2421535431640613,
          1.558652898778975,
          0.9976794036118001,
          0.541022342288954,
          0.17268336113705346,
          -0.12114988471364116,
          -0.3522193369393312,
          -0.5303845729778207,
          -0.6638607645956742,
          -0.7594819605487212,
          -0.8229661263446905,
          -0.8591619453135834,
          -0.872262770306651,
          -0.8659793254028063,
          -0.8436686429899577,
          -0.8084213085442947,
          -0.7631119217209684,
          -0.7104189507726552,
          -0.6528204974083999,
          -0.5925726550063056,
          -0.5316776258603886,
          -0.4718494982728944,
          -0.41448592842669507,
          -0.36065308720886496,
          -0.31108870910597985,
          -0.2662243426370242,
          -0.22622404924850278,
          -0.19103400362690143,
          -0.16043636992200044,
          -0.13410140103709148,
          -0.11163335065697869,
          -0.09260777788918506,
          -0.07659959794744997,
          -0.06320249966099735,
          -0.052041064647088235,
          -0.04277718188886681,
          -0.03511230465312925,
          -0.028786884140268428,
          -0.023578040040076954,
          -0.019296256997587705,
          -0.015781660852259932,
          -0.012900241016014766,
          -0.010540244824278533,
          -0.008608869628436875,
          -0.007029310456049176,
          -0.005738177190617281,
          -0.004683268574404181,
          -0.0038216755356344145,
          -0.0031181793730804272,
          -0.0025439083237899056,
          -0.002075217006173308,
          -0.0016927558392284315,
          -0.001380700926133757,
          -0.001126118518370361,
          -0.0009184417257484151,
          -0.0007490404331586212,
          -0.0006108683435297294,
          -0.0004981736620833365,
          -0.0004062621766024207,
          -0.00033130339728998696,
          -0.00027017203167528794,
          -0.00022031842142558757,
          -0.00017966269463708082,
          -0.00014650832245764286,
          -0.00011947154257212037,
          -0.00009742375031232394,
          -0.00007944448348687426,
          -0.00006478305866339208,
          -0.00005282727078058673,
          -0.00004307785819703029
         ],
         "yaxis": "y"
        },
        {
         "hovertemplate": "variable=s4^3<br>alphas=%{x}<br>value=%{y}<extra></extra>",
         "legendgroup": "s4^3",
         "line": {
          "color": "#B6E880",
          "dash": "solid"
         },
         "mode": "lines",
         "name": "s4^3",
         "showlegend": true,
         "type": "scattergl",
         "x": [
          0.01,
          0.012263306841775632,
          0.015038869469554102,
          0.018442627085855347,
          0.022616759492228647,
          0.02773562614198415,
          0.03401304938279251,
          0.04171124612056518,
          0.051151780992931425,
          0.06272899858196247,
          0.07692649574879142,
          0.09433732216299774,
          0.1156887528316282,
          0.1418726674116596,
          0.1739828052930364,
          0.21336045265014109,
          0.2616504698748821,
          0.320869999737045,
          0.39349272630958493,
          0.48255220427412787,
          0.5917685748188825,
          0.7257039612324212,
          0.8899530352885229,
          1.0913767146512738,
          1.3383887531737564,
          1.6413071953751284,
          2.0127853758499383,
          2.4683404670686486,
          3.0270016537634614,
          3.7121050090663608,
          4.55226827550731,
          5.582586268862695,
          6.846096838574658,
          8.395578619995112,
          10.295755673125127,
          12.626001098748565,
          15.48365256585499,
          18.988078244652634,
          23.285662984981965,
          28.55592301990109,
          35.019004614317126,
          42.944879887892725,
          52.66462393484275,
          64.58424430196978,
          79.20164050192548,
          97.12740198471168,
          119.11031332830079,
          146.06863203649888,
          179.1284454622002,
          219.67070907932353,
          269.388930959017,
          330.35991201283395,
          405.1304969235378,
          496.8239594734388,
          609.2704661368674,
          747.1670675868082,
          916.2739011886731,
          1123.6548001387516,
          1377.9723598335568,
          1689.8497868124587,
          2072.3146452190294,
          2541.343036702639,
          3116.52694492943,
          3821.8926206331225,
          4686.904192314192,
          5747.694424835347,
          7048.574036451903,
          8643.882620598262,
          10600.258488068825,
          12999.42224413245,
          15941.590374559995,
          19549.661430912594,
          23974.349678010785,
          29400.480643347077,
          36054.71154250506,
          44214.99907374487,
          54222.21006501592,
          66494.35996665046,
          81544.07395185171,
          100000
         ],
         "xaxis": "x",
         "y": [
          -32.871811518425005,
          -27.020485784719124,
          -22.17354121292273,
          -18.166346795515675,
          -14.858274082472356,
          -12.129973891673465,
          -9.880874815978371,
          -8.026822423398738,
          -6.497854442351612,
          -5.236136238645247,
          -4.194082181041685,
          -3.332678993303781,
          -2.620016869025306,
          -2.0300263094295308,
          -1.5414128012522437,
          -1.1367761749847964,
          -0.8018962530720741,
          -0.5251617985330086,
          -0.29711676615352395,
          -0.11009699801624051,
          0.04206828008514596,
          0.16431289018783848,
          0.26056638959265255,
          0.3339753702831407,
          0.3871181664393963,
          0.4222092846791333,
          0.4412821633787601,
          0.44633431051955974,
          0.43941952579116283,
          0.42267837504897504,
          0.3983088290854804,
          0.36849065067637493,
          0.3352857495508651,
          0.30053940437546917,
          0.26580337095424456,
          0.2322933353925656,
          0.20088324533931542,
          0.17213091477983689,
          0.1463247250900803,
          0.12354034913775812,
          0.10369816296825336,
          0.08661497270125154,
          0.0720467063531053,
          0.05972112743645589,
          0.0493612023175845,
          0.04070057243613256,
          0.033492847555896495,
          0.027516361468845913,
          0.02257578857143426,
          0.018501723454489884,
          0.015149041723704515,
          0.012394619088673873,
          0.010134796007071095,
          0.008282834001323253,
          0.006766509404100508,
          0.005525921803182242,
          0.0045115496180786726,
          0.003682557250868628,
          0.0030053418560653257,
          0.00245229909132976,
          0.0020007834827813213,
          0.0016322383596645356,
          0.0013314714029528062,
          0.0010860538747857747,
          0.0008858240210520824,
          0.0007224776458353099,
          0.0005892312585807122,
          0.0004805453956303497,
          0.0003918976753344565,
          0.00031959685168400637,
          0.00026063059572989134,
          0.0002125409772533446,
          0.00017332266575752472,
          0.0001413397452360667,
          0.00011525776564243629,
          0.00009398825777199478,
          0.00007664343713119053,
          0.00006249923349789448,
          0.00005096512101700251,
          0.00004155950133173319
         ],
         "yaxis": "y"
        },
        {
         "hovertemplate": "variable=s5^3<br>alphas=%{x}<br>value=%{y}<extra></extra>",
         "legendgroup": "s5^3",
         "line": {
          "color": "#FF97FF",
          "dash": "solid"
         },
         "mode": "lines",
         "name": "s5^3",
         "showlegend": true,
         "type": "scattergl",
         "x": [
          0.01,
          0.012263306841775632,
          0.015038869469554102,
          0.018442627085855347,
          0.022616759492228647,
          0.02773562614198415,
          0.03401304938279251,
          0.04171124612056518,
          0.051151780992931425,
          0.06272899858196247,
          0.07692649574879142,
          0.09433732216299774,
          0.1156887528316282,
          0.1418726674116596,
          0.1739828052930364,
          0.21336045265014109,
          0.2616504698748821,
          0.320869999737045,
          0.39349272630958493,
          0.48255220427412787,
          0.5917685748188825,
          0.7257039612324212,
          0.8899530352885229,
          1.0913767146512738,
          1.3383887531737564,
          1.6413071953751284,
          2.0127853758499383,
          2.4683404670686486,
          3.0270016537634614,
          3.7121050090663608,
          4.55226827550731,
          5.582586268862695,
          6.846096838574658,
          8.395578619995112,
          10.295755673125127,
          12.626001098748565,
          15.48365256585499,
          18.988078244652634,
          23.285662984981965,
          28.55592301990109,
          35.019004614317126,
          42.944879887892725,
          52.66462393484275,
          64.58424430196978,
          79.20164050192548,
          97.12740198471168,
          119.11031332830079,
          146.06863203649888,
          179.1284454622002,
          219.67070907932353,
          269.388930959017,
          330.35991201283395,
          405.1304969235378,
          496.8239594734388,
          609.2704661368674,
          747.1670675868082,
          916.2739011886731,
          1123.6548001387516,
          1377.9723598335568,
          1689.8497868124587,
          2072.3146452190294,
          2541.343036702639,
          3116.52694492943,
          3821.8926206331225,
          4686.904192314192,
          5747.694424835347,
          7048.574036451903,
          8643.882620598262,
          10600.258488068825,
          12999.42224413245,
          15941.590374559995,
          19549.661430912594,
          23974.349678010785,
          29400.480643347077,
          36054.71154250506,
          44214.99907374487,
          54222.21006501592,
          66494.35996665046,
          81544.07395185171,
          100000
         ],
         "xaxis": "x",
         "y": [
          -72.93980309416555,
          -60.10246565544404,
          -49.376717612066436,
          -40.422215806665555,
          -32.95448930536736,
          -26.735448286372858,
          -21.565361712445288,
          -17.276256527998104,
          -13.726583343585084,
          -10.796935412648866,
          -8.386595727211892,
          -6.410709296979586,
          -4.797918251987671,
          -3.488342070047456,
          -2.4318246474232597,
          -1.586400076942836,
          -0.9169496338491002,
          -0.39403514491036923,
          0.007099548580050103,
          0.307365504337411,
          0.5245122679356532,
          0.6736708347880002,
          0.767774267287711,
          0.8178792880146099,
          0.8334148462390756,
          0.8223825754644758,
          0.7915288983554511,
          0.7465004948950076,
          0.6919864896531068,
          0.6318449382139071,
          0.569209801880647,
          0.5065772975446085,
          0.44587508065683845,
          0.38852132309154647,
          0.3354814870749864,
          0.28732835900303805,
          0.24430706582340195,
          0.20640316952994597,
          0.17340979112842644,
          0.1449893680746614,
          0.12072665243372241,
          0.10017116768631333,
          0.08286891447907524,
          0.06838427997049518,
          0.056313759924210983,
          0.04629331684524723,
          0.0380011097615503,
          0.03115707983194499,
          0.02552056619860357,
          0.020886824692041197,
          0.017083061904847905,
          0.013964390333230936,
          0.011409955443590225,
          0.009319375273247513,
          0.007609558262796749,
          0.006211916562520174,
          0.005069962536607595,
          0.004137259699074727,
          0.0033756914504106004,
          0.002754008590744931,
          0.0022466174813507377,
          0.0018325734482339292,
          0.0014947476197299456,
          0.0012191392710158054,
          0.0009943095594728746,
          0.0008109160814382797,
          0.00066133086983061,
          0.0005393272527136555,
          0.00043982341118289155,
          0.000358672537290561,
          0.00029249123494892466,
          0.00023851926791463432,
          0.0001945049775009348,
          0.00015861170437477968,
          0.000129341385833901,
          0.00010547219054643796,
          0.00008600762122176095,
          0.00007013498281346412,
          0.00005719149714854791,
          0.000046636659010272295
         ],
         "yaxis": "y"
        },
        {
         "hovertemplate": "variable=s6^3<br>alphas=%{x}<br>value=%{y}<extra></extra>",
         "legendgroup": "s6^3",
         "line": {
          "color": "#FECB52",
          "dash": "solid"
         },
         "mode": "lines",
         "name": "s6^3",
         "showlegend": true,
         "type": "scattergl",
         "x": [
          0.01,
          0.012263306841775632,
          0.015038869469554102,
          0.018442627085855347,
          0.022616759492228647,
          0.02773562614198415,
          0.03401304938279251,
          0.04171124612056518,
          0.051151780992931425,
          0.06272899858196247,
          0.07692649574879142,
          0.09433732216299774,
          0.1156887528316282,
          0.1418726674116596,
          0.1739828052930364,
          0.21336045265014109,
          0.2616504698748821,
          0.320869999737045,
          0.39349272630958493,
          0.48255220427412787,
          0.5917685748188825,
          0.7257039612324212,
          0.8899530352885229,
          1.0913767146512738,
          1.3383887531737564,
          1.6413071953751284,
          2.0127853758499383,
          2.4683404670686486,
          3.0270016537634614,
          3.7121050090663608,
          4.55226827550731,
          5.582586268862695,
          6.846096838574658,
          8.395578619995112,
          10.295755673125127,
          12.626001098748565,
          15.48365256585499,
          18.988078244652634,
          23.285662984981965,
          28.55592301990109,
          35.019004614317126,
          42.944879887892725,
          52.66462393484275,
          64.58424430196978,
          79.20164050192548,
          97.12740198471168,
          119.11031332830079,
          146.06863203649888,
          179.1284454622002,
          219.67070907932353,
          269.388930959017,
          330.35991201283395,
          405.1304969235378,
          496.8239594734388,
          609.2704661368674,
          747.1670675868082,
          916.2739011886731,
          1123.6548001387516,
          1377.9723598335568,
          1689.8497868124587,
          2072.3146452190294,
          2541.343036702639,
          3116.52694492943,
          3821.8926206331225,
          4686.904192314192,
          5747.694424835347,
          7048.574036451903,
          8643.882620598262,
          10600.258488068825,
          12999.42224413245,
          15941.590374559995,
          19549.661430912594,
          23974.349678010785,
          29400.480643347077,
          36054.71154250506,
          44214.99907374487,
          54222.21006501592,
          66494.35996665046,
          81544.07395185171,
          100000
         ],
         "xaxis": "x",
         "y": [
          10.671495710799478,
          9.308570958793128,
          8.062310875121177,
          6.944700005154521,
          5.9593212409341545,
          5.103258941561074,
          4.3690355037828486,
          3.7463563771404718,
          3.223532779825534,
          2.788538793776781,
          2.4297225844468384,
          2.1362266549004953,
          1.8981845804164807,
          1.706759994144617,
          1.5540853446743397,
          1.4331481913481985,
          1.3376637795381325,
          1.2619643297047027,
          1.200926625086695,
          1.1499488433635627,
          1.1049751120688411,
          1.0625538216894892,
          1.0199066039420415,
          0.9749822305830258,
          0.9264745483811332,
          0.8737938757479357,
          0.8169927821109875,
          0.7566557141116176,
          0.6937656644482685,
          0.6295609195746555,
          0.5653932369840532,
          0.5025974277791898,
          0.4423814551011808,
          0.38574475934157043,
          0.33342959043021203,
          0.28590573708187633,
          0.24338435382282234,
          0.20585306397253633,
          0.17312307134616156,
          0.14487965196674005,
          0.12072943942368292,
          0.10024046749037006,
          0.0829732681642227,
          0.06850305464874067,
          0.05643406445059286,
          0.04640760360397147,
          0.038105396516560704,
          0.03124967873337431,
          0.025601202831649204,
          0.020956044491428856,
          0.017141841469607875,
          0.014013890953231594,
          0.011451372982269479,
          0.009353853828411194,
          0.007638145002925147,
          0.006235542378469929,
          0.005089438272236309,
          0.004153281274089348,
          0.003388849604346664,
          0.0027648005938232787,
          0.0022554592225005514,
          0.0018398109991564257,
          0.0015006678101397402,
          0.0012239790794233527,
          0.0009982642840980116,
          0.0008141463460857541,
          0.0006639685657378909,
          0.000541480536522879,
          0.0004415808823273714,
          0.0003601067122671948,
          0.00029366142558444585,
          0.00023947395852152978,
          0.00019528378334555062,
          0.00015924698202899318,
          0.00012985955519668034,
          0.00010589481877930618,
          0.00008635231056259141,
          0.0000704160971494484,
          0.000057420756231771,
          0.00004682362416154492
         ],
         "yaxis": "y"
        }
       ],
       "layout": {
        "legend": {
         "title": {
          "text": "variable"
         },
         "tracegroupgap": 0
        },
        "margin": {
         "t": 60
        },
        "template": {
         "data": {
          "bar": [
           {
            "error_x": {
             "color": "#2a3f5f"
            },
            "error_y": {
             "color": "#2a3f5f"
            },
            "marker": {
             "line": {
              "color": "#E5ECF6",
              "width": 0.5
             }
            },
            "type": "bar"
           }
          ],
          "barpolar": [
           {
            "marker": {
             "line": {
              "color": "#E5ECF6",
              "width": 0.5
             }
            },
            "type": "barpolar"
           }
          ],
          "carpet": [
           {
            "aaxis": {
             "endlinecolor": "#2a3f5f",
             "gridcolor": "white",
             "linecolor": "white",
             "minorgridcolor": "white",
             "startlinecolor": "#2a3f5f"
            },
            "baxis": {
             "endlinecolor": "#2a3f5f",
             "gridcolor": "white",
             "linecolor": "white",
             "minorgridcolor": "white",
             "startlinecolor": "#2a3f5f"
            },
            "type": "carpet"
           }
          ],
          "choropleth": [
           {
            "colorbar": {
             "outlinewidth": 0,
             "ticks": ""
            },
            "type": "choropleth"
           }
          ],
          "contour": [
           {
            "colorbar": {
             "outlinewidth": 0,
             "ticks": ""
            },
            "colorscale": [
             [
              0,
              "#0d0887"
             ],
             [
              0.1111111111111111,
              "#46039f"
             ],
             [
              0.2222222222222222,
              "#7201a8"
             ],
             [
              0.3333333333333333,
              "#9c179e"
             ],
             [
              0.4444444444444444,
              "#bd3786"
             ],
             [
              0.5555555555555556,
              "#d8576b"
             ],
             [
              0.6666666666666666,
              "#ed7953"
             ],
             [
              0.7777777777777778,
              "#fb9f3a"
             ],
             [
              0.8888888888888888,
              "#fdca26"
             ],
             [
              1,
              "#f0f921"
             ]
            ],
            "type": "contour"
           }
          ],
          "contourcarpet": [
           {
            "colorbar": {
             "outlinewidth": 0,
             "ticks": ""
            },
            "type": "contourcarpet"
           }
          ],
          "heatmap": [
           {
            "colorbar": {
             "outlinewidth": 0,
             "ticks": ""
            },
            "colorscale": [
             [
              0,
              "#0d0887"
             ],
             [
              0.1111111111111111,
              "#46039f"
             ],
             [
              0.2222222222222222,
              "#7201a8"
             ],
             [
              0.3333333333333333,
              "#9c179e"
             ],
             [
              0.4444444444444444,
              "#bd3786"
             ],
             [
              0.5555555555555556,
              "#d8576b"
             ],
             [
              0.6666666666666666,
              "#ed7953"
             ],
             [
              0.7777777777777778,
              "#fb9f3a"
             ],
             [
              0.8888888888888888,
              "#fdca26"
             ],
             [
              1,
              "#f0f921"
             ]
            ],
            "type": "heatmap"
           }
          ],
          "heatmapgl": [
           {
            "colorbar": {
             "outlinewidth": 0,
             "ticks": ""
            },
            "colorscale": [
             [
              0,
              "#0d0887"
             ],
             [
              0.1111111111111111,
              "#46039f"
             ],
             [
              0.2222222222222222,
              "#7201a8"
             ],
             [
              0.3333333333333333,
              "#9c179e"
             ],
             [
              0.4444444444444444,
              "#bd3786"
             ],
             [
              0.5555555555555556,
              "#d8576b"
             ],
             [
              0.6666666666666666,
              "#ed7953"
             ],
             [
              0.7777777777777778,
              "#fb9f3a"
             ],
             [
              0.8888888888888888,
              "#fdca26"
             ],
             [
              1,
              "#f0f921"
             ]
            ],
            "type": "heatmapgl"
           }
          ],
          "histogram": [
           {
            "marker": {
             "colorbar": {
              "outlinewidth": 0,
              "ticks": ""
             }
            },
            "type": "histogram"
           }
          ],
          "histogram2d": [
           {
            "colorbar": {
             "outlinewidth": 0,
             "ticks": ""
            },
            "colorscale": [
             [
              0,
              "#0d0887"
             ],
             [
              0.1111111111111111,
              "#46039f"
             ],
             [
              0.2222222222222222,
              "#7201a8"
             ],
             [
              0.3333333333333333,
              "#9c179e"
             ],
             [
              0.4444444444444444,
              "#bd3786"
             ],
             [
              0.5555555555555556,
              "#d8576b"
             ],
             [
              0.6666666666666666,
              "#ed7953"
             ],
             [
              0.7777777777777778,
              "#fb9f3a"
             ],
             [
              0.8888888888888888,
              "#fdca26"
             ],
             [
              1,
              "#f0f921"
             ]
            ],
            "type": "histogram2d"
           }
          ],
          "histogram2dcontour": [
           {
            "colorbar": {
             "outlinewidth": 0,
             "ticks": ""
            },
            "colorscale": [
             [
              0,
              "#0d0887"
             ],
             [
              0.1111111111111111,
              "#46039f"
             ],
             [
              0.2222222222222222,
              "#7201a8"
             ],
             [
              0.3333333333333333,
              "#9c179e"
             ],
             [
              0.4444444444444444,
              "#bd3786"
             ],
             [
              0.5555555555555556,
              "#d8576b"
             ],
             [
              0.6666666666666666,
              "#ed7953"
             ],
             [
              0.7777777777777778,
              "#fb9f3a"
             ],
             [
              0.8888888888888888,
              "#fdca26"
             ],
             [
              1,
              "#f0f921"
             ]
            ],
            "type": "histogram2dcontour"
           }
          ],
          "mesh3d": [
           {
            "colorbar": {
             "outlinewidth": 0,
             "ticks": ""
            },
            "type": "mesh3d"
           }
          ],
          "parcoords": [
           {
            "line": {
             "colorbar": {
              "outlinewidth": 0,
              "ticks": ""
             }
            },
            "type": "parcoords"
           }
          ],
          "pie": [
           {
            "automargin": true,
            "type": "pie"
           }
          ],
          "scatter": [
           {
            "marker": {
             "colorbar": {
              "outlinewidth": 0,
              "ticks": ""
             }
            },
            "type": "scatter"
           }
          ],
          "scatter3d": [
           {
            "line": {
             "colorbar": {
              "outlinewidth": 0,
              "ticks": ""
             }
            },
            "marker": {
             "colorbar": {
              "outlinewidth": 0,
              "ticks": ""
             }
            },
            "type": "scatter3d"
           }
          ],
          "scattercarpet": [
           {
            "marker": {
             "colorbar": {
              "outlinewidth": 0,
              "ticks": ""
             }
            },
            "type": "scattercarpet"
           }
          ],
          "scattergeo": [
           {
            "marker": {
             "colorbar": {
              "outlinewidth": 0,
              "ticks": ""
             }
            },
            "type": "scattergeo"
           }
          ],
          "scattergl": [
           {
            "marker": {
             "colorbar": {
              "outlinewidth": 0,
              "ticks": ""
             }
            },
            "type": "scattergl"
           }
          ],
          "scattermapbox": [
           {
            "marker": {
             "colorbar": {
              "outlinewidth": 0,
              "ticks": ""
             }
            },
            "type": "scattermapbox"
           }
          ],
          "scatterpolar": [
           {
            "marker": {
             "colorbar": {
              "outlinewidth": 0,
              "ticks": ""
             }
            },
            "type": "scatterpolar"
           }
          ],
          "scatterpolargl": [
           {
            "marker": {
             "colorbar": {
              "outlinewidth": 0,
              "ticks": ""
             }
            },
            "type": "scatterpolargl"
           }
          ],
          "scatterternary": [
           {
            "marker": {
             "colorbar": {
              "outlinewidth": 0,
              "ticks": ""
             }
            },
            "type": "scatterternary"
           }
          ],
          "surface": [
           {
            "colorbar": {
             "outlinewidth": 0,
             "ticks": ""
            },
            "colorscale": [
             [
              0,
              "#0d0887"
             ],
             [
              0.1111111111111111,
              "#46039f"
             ],
             [
              0.2222222222222222,
              "#7201a8"
             ],
             [
              0.3333333333333333,
              "#9c179e"
             ],
             [
              0.4444444444444444,
              "#bd3786"
             ],
             [
              0.5555555555555556,
              "#d8576b"
             ],
             [
              0.6666666666666666,
              "#ed7953"
             ],
             [
              0.7777777777777778,
              "#fb9f3a"
             ],
             [
              0.8888888888888888,
              "#fdca26"
             ],
             [
              1,
              "#f0f921"
             ]
            ],
            "type": "surface"
           }
          ],
          "table": [
           {
            "cells": {
             "fill": {
              "color": "#EBF0F8"
             },
             "line": {
              "color": "white"
             }
            },
            "header": {
             "fill": {
              "color": "#C8D4E3"
             },
             "line": {
              "color": "white"
             }
            },
            "type": "table"
           }
          ]
         },
         "layout": {
          "annotationdefaults": {
           "arrowcolor": "#2a3f5f",
           "arrowhead": 0,
           "arrowwidth": 1
          },
          "coloraxis": {
           "colorbar": {
            "outlinewidth": 0,
            "ticks": ""
           }
          },
          "colorscale": {
           "diverging": [
            [
             0,
             "#8e0152"
            ],
            [
             0.1,
             "#c51b7d"
            ],
            [
             0.2,
             "#de77ae"
            ],
            [
             0.3,
             "#f1b6da"
            ],
            [
             0.4,
             "#fde0ef"
            ],
            [
             0.5,
             "#f7f7f7"
            ],
            [
             0.6,
             "#e6f5d0"
            ],
            [
             0.7,
             "#b8e186"
            ],
            [
             0.8,
             "#7fbc41"
            ],
            [
             0.9,
             "#4d9221"
            ],
            [
             1,
             "#276419"
            ]
           ],
           "sequential": [
            [
             0,
             "#0d0887"
            ],
            [
             0.1111111111111111,
             "#46039f"
            ],
            [
             0.2222222222222222,
             "#7201a8"
            ],
            [
             0.3333333333333333,
             "#9c179e"
            ],
            [
             0.4444444444444444,
             "#bd3786"
            ],
            [
             0.5555555555555556,
             "#d8576b"
            ],
            [
             0.6666666666666666,
             "#ed7953"
            ],
            [
             0.7777777777777778,
             "#fb9f3a"
            ],
            [
             0.8888888888888888,
             "#fdca26"
            ],
            [
             1,
             "#f0f921"
            ]
           ],
           "sequentialminus": [
            [
             0,
             "#0d0887"
            ],
            [
             0.1111111111111111,
             "#46039f"
            ],
            [
             0.2222222222222222,
             "#7201a8"
            ],
            [
             0.3333333333333333,
             "#9c179e"
            ],
            [
             0.4444444444444444,
             "#bd3786"
            ],
            [
             0.5555555555555556,
             "#d8576b"
            ],
            [
             0.6666666666666666,
             "#ed7953"
            ],
            [
             0.7777777777777778,
             "#fb9f3a"
            ],
            [
             0.8888888888888888,
             "#fdca26"
            ],
            [
             1,
             "#f0f921"
            ]
           ]
          },
          "colorway": [
           "#636efa",
           "#EF553B",
           "#00cc96",
           "#ab63fa",
           "#FFA15A",
           "#19d3f3",
           "#FF6692",
           "#B6E880",
           "#FF97FF",
           "#FECB52"
          ],
          "font": {
           "color": "#2a3f5f"
          },
          "geo": {
           "bgcolor": "white",
           "lakecolor": "white",
           "landcolor": "#E5ECF6",
           "showlakes": true,
           "showland": true,
           "subunitcolor": "white"
          },
          "hoverlabel": {
           "align": "left"
          },
          "hovermode": "closest",
          "mapbox": {
           "style": "light"
          },
          "paper_bgcolor": "white",
          "plot_bgcolor": "#E5ECF6",
          "polar": {
           "angularaxis": {
            "gridcolor": "white",
            "linecolor": "white",
            "ticks": ""
           },
           "bgcolor": "#E5ECF6",
           "radialaxis": {
            "gridcolor": "white",
            "linecolor": "white",
            "ticks": ""
           }
          },
          "scene": {
           "xaxis": {
            "backgroundcolor": "#E5ECF6",
            "gridcolor": "white",
            "gridwidth": 2,
            "linecolor": "white",
            "showbackground": true,
            "ticks": "",
            "zerolinecolor": "white"
           },
           "yaxis": {
            "backgroundcolor": "#E5ECF6",
            "gridcolor": "white",
            "gridwidth": 2,
            "linecolor": "white",
            "showbackground": true,
            "ticks": "",
            "zerolinecolor": "white"
           },
           "zaxis": {
            "backgroundcolor": "#E5ECF6",
            "gridcolor": "white",
            "gridwidth": 2,
            "linecolor": "white",
            "showbackground": true,
            "ticks": "",
            "zerolinecolor": "white"
           }
          },
          "shapedefaults": {
           "line": {
            "color": "#2a3f5f"
           }
          },
          "ternary": {
           "aaxis": {
            "gridcolor": "white",
            "linecolor": "white",
            "ticks": ""
           },
           "baxis": {
            "gridcolor": "white",
            "linecolor": "white",
            "ticks": ""
           },
           "bgcolor": "#E5ECF6",
           "caxis": {
            "gridcolor": "white",
            "linecolor": "white",
            "ticks": ""
           }
          },
          "title": {
           "x": 0.05
          },
          "xaxis": {
           "automargin": true,
           "gridcolor": "white",
           "linecolor": "white",
           "ticks": "",
           "title": {
            "standoff": 15
           },
           "zerolinecolor": "white",
           "zerolinewidth": 2
          },
          "yaxis": {
           "automargin": true,
           "gridcolor": "white",
           "linecolor": "white",
           "ticks": "",
           "title": {
            "standoff": 15
           },
           "zerolinecolor": "white",
           "zerolinewidth": 2
          }
         }
        },
        "xaxis": {
         "anchor": "y",
         "domain": [
          0,
          1
         ],
         "title": {
          "text": "alphas"
         },
         "type": "log"
        },
        "yaxis": {
         "anchor": "x",
         "domain": [
          0,
          1
         ],
         "title": {
          "text": "value"
         }
        }
       }
      },
      "text/html": "<div>                            <div id=\"4017f1ca-d504-4f9a-8753-364e1ef41fc6\" class=\"plotly-graph-div\" style=\"height:525px; width:100%;\"></div>            <script type=\"text/javascript\">                require([\"plotly\"], function(Plotly) {                    window.PLOTLYENV=window.PLOTLYENV || {};                                    if (document.getElementById(\"4017f1ca-d504-4f9a-8753-364e1ef41fc6\")) {                    Plotly.newPlot(                        \"4017f1ca-d504-4f9a-8753-364e1ef41fc6\",                        [{\"hovertemplate\": \"variable=age<br>alphas=%{x}<br>value=%{y}<extra></extra>\", \"legendgroup\": \"age\", \"line\": {\"color\": \"#636efa\", \"dash\": \"solid\"}, \"mode\": \"lines\", \"name\": \"age\", \"showlegend\": true, \"type\": \"scattergl\", \"x\": [0.01, 0.012263306841775632, 0.015038869469554102, 0.018442627085855347, 0.022616759492228647, 0.02773562614198415, 0.03401304938279251, 0.04171124612056518, 0.051151780992931425, 0.06272899858196247, 0.07692649574879142, 0.09433732216299774, 0.1156887528316282, 0.1418726674116596, 0.1739828052930364, 0.21336045265014109, 0.2616504698748821, 0.320869999737045, 0.39349272630958493, 0.48255220427412787, 0.5917685748188825, 0.7257039612324212, 0.8899530352885229, 1.0913767146512738, 1.3383887531737564, 1.6413071953751284, 2.0127853758499383, 2.4683404670686486, 3.0270016537634614, 3.7121050090663608, 4.55226827550731, 5.582586268862695, 6.846096838574658, 8.395578619995112, 10.295755673125127, 12.626001098748565, 15.48365256585499, 18.988078244652634, 23.285662984981965, 28.55592301990109, 35.019004614317126, 42.944879887892725, 52.66462393484275, 64.58424430196978, 79.20164050192548, 97.12740198471168, 119.11031332830079, 146.06863203649888, 179.1284454622002, 219.67070907932353, 269.388930959017, 330.35991201283395, 405.1304969235378, 496.8239594734388, 609.2704661368674, 747.1670675868082, 916.2739011886731, 1123.6548001387516, 1377.9723598335568, 1689.8497868124587, 2072.3146452190294, 2541.343036702639, 3116.52694492943, 3821.8926206331225, 4686.904192314192, 5747.694424835347, 7048.574036451903, 8643.882620598262, 10600.258488068825, 12999.42224413245, 15941.590374559995, 19549.661430912594, 23974.349678010785, 29400.480643347077, 36054.71154250506, 44214.99907374487, 54222.21006501592, 66494.35996665046, 81544.07395185171, 100000.0], \"xaxis\": \"x\", \"y\": [5.549282967740788, 4.105244265580391, 2.889736189326202, 1.9096768038003682, 1.167175010168727, 0.6615876361736737, 0.39153034556168975, 0.3565930752174751, 0.5586017116993928, 1.0023365746393555, 1.6956516230774406, 2.6489381834348547, 3.873857587932906, 5.381250992529646, 7.178149889906028, 9.263887878148932, 11.62547952004039, 14.232695031742548, 17.03359221590702, 19.951584297050417, 22.88527971115627, 25.712162469145934, 28.296588848642436, 30.501618281673103, 32.20313125916468, 33.30388837140366, 33.74496508708233, 33.512449764781586, 32.63826055936588, 31.19511700114481, 29.286786818796266, 27.03549198019965, 24.568672995780812, 22.007149099310443, 19.45615265654656, 16.999937083042553, 14.69988432480253, 12.595461934073812, 10.707093874771738, 9.03999683688523, 7.588206391362446, 6.33826801261051, 5.272312272395654, 4.370424470239168, 3.6123432606972123, 2.9785880721920934, 2.451137509475519, 2.013777113833883, 1.6522179567214585, 1.3540663207606551, 1.1087041753981584, 0.907122615766443, 0.7417365968048252, 0.6061989834016387, 0.49522459840849864, 0.40442993817552986, 0.33019094149709655, 0.26951914668749377, 0.21995536897169501, 0.1794793929121029, 0.14643390023350178, 0.1194608026046402, 0.09744822790120083, 0.0794865559241219, 0.06483207666948282, 0.052877027417457215, 0.04312494053307595, 0.03517039481913992, 0.028682406447991048, 0.023390820282198747, 0.019075169527319944, 0.015555562622077452, 0.01268523285356848, 0.01034445024179601, 0.00843554854562504, 0.006878864427491759, 0.005609422321786445, 0.00457422863952322, 0.0037300636883707797, 0.003041680007367238], \"yaxis\": \"y\"}, {\"hovertemplate\": \"variable=sex<br>alphas=%{x}<br>value=%{y}<extra></extra>\", \"legendgroup\": \"sex\", \"line\": {\"color\": \"#EF553B\", \"dash\": \"solid\"}, \"mode\": \"lines\", \"name\": \"sex\", \"showlegend\": true, \"type\": \"scattergl\", \"x\": [0.01, 0.012263306841775632, 0.015038869469554102, 0.018442627085855347, 0.022616759492228647, 0.02773562614198415, 0.03401304938279251, 0.04171124612056518, 0.051151780992931425, 0.06272899858196247, 0.07692649574879142, 0.09433732216299774, 0.1156887528316282, 0.1418726674116596, 0.1739828052930364, 0.21336045265014109, 0.2616504698748821, 0.320869999737045, 0.39349272630958493, 0.48255220427412787, 0.5917685748188825, 0.7257039612324212, 0.8899530352885229, 1.0913767146512738, 1.3383887531737564, 1.6413071953751284, 2.0127853758499383, 2.4683404670686486, 3.0270016537634614, 3.7121050090663608, 4.55226827550731, 5.582586268862695, 6.846096838574658, 8.395578619995112, 10.295755673125127, 12.626001098748565, 15.48365256585499, 18.988078244652634, 23.285662984981965, 28.55592301990109, 35.019004614317126, 42.944879887892725, 52.66462393484275, 64.58424430196978, 79.20164050192548, 97.12740198471168, 119.11031332830079, 146.06863203649888, 179.1284454622002, 219.67070907932353, 269.388930959017, 330.35991201283395, 405.1304969235378, 496.8239594734388, 609.2704661368674, 747.1670675868082, 916.2739011886731, 1123.6548001387516, 1377.9723598335568, 1689.8497868124587, 2072.3146452190294, 2541.343036702639, 3116.52694492943, 3821.8926206331225, 4686.904192314192, 5747.694424835347, 7048.574036451903, 8643.882620598262, 10600.258488068825, 12999.42224413245, 15941.590374559995, 19549.661430912594, 23974.349678010785, 29400.480643347077, 36054.71154250506, 44214.99907374487, 54222.21006501592, 66494.35996665046, 81544.07395185171, 100000.0], \"xaxis\": \"x\", \"y\": [-230.84628493683448, -230.39251765531884, -229.76385805963892, -228.92236230213683, -227.82631807290136, -226.42866464214458, -224.6753290240817, -222.5037045428435, -219.84149949695666, -216.60620692180893, -212.70550152349705, -208.0389501629641, -202.50150315803296, -195.98927024861243, -188.40801132134828, -179.68450742675086, -169.7804505738152, -158.70768458749993, -146.54264455773117, -133.43694497974164, -119.6206692993969, -105.39544411659551, -91.11604849785408, -77.16187305799873, -63.9022669268664, -51.66170503314879, -40.691001984440135, -31.149349732592267, -23.09932382493127, -16.514135198851726, -11.294167234900057, -7.28869304027579, -4.318630732200587, -2.196984005241329, -0.7448400476521058, 0.1979152917725724, 0.76693547008372, 1.0718780151605407, 1.1977707889977989, 1.2080774068355937, 1.148479636065631, 1.0506894178239794, 0.9358840673554017, 0.8175789801140915, 0.7039009269355987, 0.5993103895150816, 0.5058601205494796, 0.42408615924836257, 0.3536203662905342, 0.29359934197203247, 0.2429288383938363, 0.20044829313813475, 0.16502804035535884, 0.1356222972518018, 0.11129392717566323, 0.09122182505913007, 0.07469812075463074, 0.061119866303910475, 0.04997815347192984, 0.040846459744279064, 0.03336926857383757, 0.027251526657618777, 0.022249198603791744, 0.01816099611819141, 0.014821252988423645, 0.012093860577355406, 0.009867152622294274, 0.008049620678032337, 0.006566344681590043, 0.005356031878560993, 0.004368568658058032, 0.0035630018519736263, 0.002905877712158732, 0.0023698775320639006, 0.0019326984800549013, 0.0015761365956353122, 0.0012853361066741328, 0.001048175349204448, 0.0008547647290140755, 0.0006970364794399172], \"yaxis\": \"y\"}, {\"hovertemplate\": \"variable=bmi<br>alphas=%{x}<br>value=%{y}<extra></extra>\", \"legendgroup\": \"bmi\", \"line\": {\"color\": \"#00cc96\", \"dash\": \"solid\"}, \"mode\": \"lines\", \"name\": \"bmi\", \"showlegend\": true, \"type\": \"scattergl\", \"x\": [0.01, 0.012263306841775632, 0.015038869469554102, 0.018442627085855347, 0.022616759492228647, 0.02773562614198415, 0.03401304938279251, 0.04171124612056518, 0.051151780992931425, 0.06272899858196247, 0.07692649574879142, 0.09433732216299774, 0.1156887528316282, 0.1418726674116596, 0.1739828052930364, 0.21336045265014109, 0.2616504698748821, 0.320869999737045, 0.39349272630958493, 0.48255220427412787, 0.5917685748188825, 0.7257039612324212, 0.8899530352885229, 1.0913767146512738, 1.3383887531737564, 1.6413071953751284, 2.0127853758499383, 2.4683404670686486, 3.0270016537634614, 3.7121050090663608, 4.55226827550731, 5.582586268862695, 6.846096838574658, 8.395578619995112, 10.295755673125127, 12.626001098748565, 15.48365256585499, 18.988078244652634, 23.285662984981965, 28.55592301990109, 35.019004614317126, 42.944879887892725, 52.66462393484275, 64.58424430196978, 79.20164050192548, 97.12740198471168, 119.11031332830079, 146.06863203649888, 179.1284454622002, 219.67070907932353, 269.388930959017, 330.35991201283395, 405.1304969235378, 496.8239594734388, 609.2704661368674, 747.1670675868082, 916.2739011886731, 1123.6548001387516, 1377.9723598335568, 1689.8497868124587, 2072.3146452190294, 2541.343036702639, 3116.52694492943, 3821.8926206331225, 4686.904192314192, 5747.694424835347, 7048.574036451903, 8643.882620598262, 10600.258488068825, 12999.42224413245, 15941.590374559995, 19549.661430912594, 23974.349678010785, 29400.480643347077, 36054.71154250506, 44214.99907374487, 54222.21006501592, 66494.35996665046, 81544.07395185171, 100000.0], \"xaxis\": \"x\", \"y\": [506.62272194193883, 508.0119289097894, 509.00607226229477, 509.5481725340747, 509.581047565974, 509.0444335947765, 507.87181149070136, 505.98731733539506, 503.3030924286525, 499.71742069520974, 495.1140163210885, 489.3628547182974, 482.32296903671073, 473.84763409041534, 463.7922871877468, 452.0253363810213, 438.4416278808279, 422.97776289475837, 405.6277190234327, 386.45650209768365, 365.60910423242444, 343.31219101254464, 319.86689656897323, 295.63279521363734, 271.00509531595145, 246.38866748311713, 222.17304913326333, 198.71185716273195, 176.30844440296102, 155.20787797591836, 135.59409101798764, 117.59067519728112, 101.26408389178623, 86.62857199695003, 73.65260147053345, 62.266520159314844, 52.37115287507437, 43.846724740790755, 36.561432466561435, 30.3790460337878, 25.165120336332098, 20.79164049014665, 17.140141768651297, 14.103495023984218, 11.58662382652649, 9.506434061409074, 7.791211586941689, 6.37969866417449, 5.220009797415194, 4.268501174304689, 3.488669208134523, 2.8501238370226485, 2.3276605868908167, 1.9004405725551843, 1.5512780417307597, 1.2660293408925591, 1.033074131978136, 0.8428784177384673, 0.6876287858166451, 0.5609277980099552, 0.4575413215765439, 0.3731896224876308, 0.3043750911381545, 0.2482404760963368, 0.20245242216278964, 0.16510592837283117, 0.13464605607443708, 0.10980383107789099, 0.08954380543317986, 0.0730211837715469, 0.05954678686430223, 0.04855843120840281, 0.0395975573129363, 0.03229014918379452, 0.026331160477489905, 0.021471805095002384, 0.017509186856684886, 0.014277838754755034, 0.011642820813802019, 0.00949408987540604], \"yaxis\": \"y\"}, {\"hovertemplate\": \"variable=bp<br>alphas=%{x}<br>value=%{y}<extra></extra>\", \"legendgroup\": \"bp\", \"line\": {\"color\": \"#ab63fa\", \"dash\": \"solid\"}, \"mode\": \"lines\", \"name\": \"bp\", \"showlegend\": true, \"type\": \"scattergl\", \"x\": [0.01, 0.012263306841775632, 0.015038869469554102, 0.018442627085855347, 0.022616759492228647, 0.02773562614198415, 0.03401304938279251, 0.04171124612056518, 0.051151780992931425, 0.06272899858196247, 0.07692649574879142, 0.09433732216299774, 0.1156887528316282, 0.1418726674116596, 0.1739828052930364, 0.21336045265014109, 0.2616504698748821, 0.320869999737045, 0.39349272630958493, 0.48255220427412787, 0.5917685748188825, 0.7257039612324212, 0.8899530352885229, 1.0913767146512738, 1.3383887531737564, 1.6413071953751284, 2.0127853758499383, 2.4683404670686486, 3.0270016537634614, 3.7121050090663608, 4.55226827550731, 5.582586268862695, 6.846096838574658, 8.395578619995112, 10.295755673125127, 12.626001098748565, 15.48365256585499, 18.988078244652634, 23.285662984981965, 28.55592301990109, 35.019004614317126, 42.944879887892725, 52.66462393484275, 64.58424430196978, 79.20164050192548, 97.12740198471168, 119.11031332830079, 146.06863203649888, 179.1284454622002, 219.67070907932353, 269.388930959017, 330.35991201283395, 405.1304969235378, 496.8239594734388, 609.2704661368674, 747.1670675868082, 916.2739011886731, 1123.6548001387516, 1377.9723598335568, 1689.8497868124587, 2072.3146452190294, 2541.343036702639, 3116.52694492943, 3821.8926206331225, 4686.904192314192, 5747.694424835347, 7048.574036451903, 8643.882620598262, 10600.258488068825, 12999.42224413245, 15941.590374559995, 19549.661430912594, 23974.349678010785, 29400.480643347077, 36054.71154250506, 44214.99907374487, 54222.21006501592, 66494.35996665046, 81544.07395185171, 100000.0], \"xaxis\": \"x\", \"y\": [320.42116437887086, 319.76844874503786, 319.03124341412575, 318.1854763026389, 317.20240509677814, 316.04778713183896, 314.6809597022478, 313.05393878678433, 311.11065426774013, 308.7864562967767, 306.00805399555713, 302.69408075021653, 298.7565099470628, 294.1031543760976, 288.64144858309345, 282.28361050949695, 274.9530889628421, 266.59193280942134, 257.16841039331763, 246.68394608755278, 235.17832380729584, 222.73221009233114, 209.466386396754, 195.5375897737197, 181.13141795662915, 166.45320338410835, 151.71796423060852, 137.14044216403332, 122.92590758116849, 109.26203934010644, 96.31196972447586, 84.20861360813336, 73.05058319188193, 62.90012483196206, 53.78343676992109, 45.693417944702354, 38.59448584476415, 32.42876211655609, 27.12277846674242, 22.593919339020868, 18.756027183141317, 15.52385732317024, 12.816305300270539, 10.558498881743006, 8.682941813312745, 7.129929511719317, 5.847448465275193, 4.7907403079935555, 3.9216726739028864, 3.2080209163959106, 2.622732085397611, 2.143216719916172, 1.7506948618901315, 1.4296092589268914, 1.1671097872405383, 0.9526075348090747, 0.7773937629870595, 0.6343173501886852, 0.5175137490230214, 0.4221785571810333, 0.3443792375909296, 0.2808991431220134, 0.229108689776427, 0.18685920970414863, 0.15239566176947272, 0.12428496278972688, 0.101357219345127, 0.0826575880377325, 0.0674068752478074, 0.05496931187893529, 0.04482621117898127, 0.036554445382302146, 0.029808866150352272, 0.02430795049167151, 0.019822083223641453, 0.016163993607122312, 0.0131809513958045, 0.010748399456567909, 0.008764759074147518, 0.007147192339074231], \"yaxis\": \"y\"}, {\"hovertemplate\": \"variable=s1<br>alphas=%{x}<br>value=%{y}<extra></extra>\", \"legendgroup\": \"s1\", \"line\": {\"color\": \"#FFA15A\", \"dash\": \"solid\"}, \"mode\": \"lines\", \"name\": \"s1\", \"showlegend\": true, \"type\": \"scattergl\", \"x\": [0.01, 0.012263306841775632, 0.015038869469554102, 0.018442627085855347, 0.022616759492228647, 0.02773562614198415, 0.03401304938279251, 0.04171124612056518, 0.051151780992931425, 0.06272899858196247, 0.07692649574879142, 0.09433732216299774, 0.1156887528316282, 0.1418726674116596, 0.1739828052930364, 0.21336045265014109, 0.2616504698748821, 0.320869999737045, 0.39349272630958493, 0.48255220427412787, 0.5917685748188825, 0.7257039612324212, 0.8899530352885229, 1.0913767146512738, 1.3383887531737564, 1.6413071953751284, 2.0127853758499383, 2.4683404670686486, 3.0270016537634614, 3.7121050090663608, 4.55226827550731, 5.582586268862695, 6.846096838574658, 8.395578619995112, 10.295755673125127, 12.626001098748565, 15.48365256585499, 18.988078244652634, 23.285662984981965, 28.55592301990109, 35.019004614317126, 42.944879887892725, 52.66462393484275, 64.58424430196978, 79.20164050192548, 97.12740198471168, 119.11031332830079, 146.06863203649888, 179.1284454622002, 219.67070907932353, 269.388930959017, 330.35991201283395, 405.1304969235378, 496.8239594734388, 609.2704661368674, 747.1670675868082, 916.2739011886731, 1123.6548001387516, 1377.9723598335568, 1689.8497868124587, 2072.3146452190294, 2541.343036702639, 3116.52694492943, 3821.8926206331225, 4686.904192314192, 5747.694424835347, 7048.574036451903, 8643.882620598262, 10600.258488068825, 12999.42224413245, 15941.590374559995, 19549.661430912594, 23974.349678010785, 29400.480643347077, 36054.71154250506, 44214.99907374487, 54222.21006501592, 66494.35996665046, 81544.07395185171, 100000.0], \"xaxis\": \"x\", \"y\": [-385.84711609949255, -343.15055855130703, -303.6883526060125, -267.47646672348725, -234.5255190198694, -204.81125901148818, -178.25623580507533, -154.72295886563126, -134.0168944381556, -115.896404125171, -100.08640688911643, -86.29298362564906, -74.21701430437221, -63.56590300568341, -54.06326345412835, -45.45697950600806, -37.5262783655952, -30.088363099114165, -23.00478070479499, -16.18712935051522, -9.60107236807585, -3.2671341964606078, 2.7433541234050876, 8.318321224098783, 13.321105920663456, 17.611255475413287, 21.067036714315726, 23.60577737586031, 25.198193444357514, 25.874001024460625, 25.718065109463154, 24.85848732949142, 23.449690247205496, 21.654237545427815, 19.62675075393187, 17.502140190930533, 15.388959530700665, 13.367485061257579, 11.491378496872269, 9.791550092836914, 8.280970285771103, 6.959502217873156, 5.8181896671346, 4.842741097650318, 4.016164813387311, 3.3206351398063423, 2.7387256965614433, 2.25415719775729, 1.8521940315685606, 1.5198002616666764, 1.2456401849919931, 1.0199855440398473, 0.8345726358939337, 0.6824381002628105, 0.5577516079756916, 0.45565626375004714, 0.372122530060306, 0.30381822076953713, 0.24799508456570105, 0.2023913074784988, 0.1651486268378354, 0.13474246637712928, 0.10992343721985394, 0.08966861108975194, 0.07314110099879764, 0.059656643479784534, 0.04865604238859583, 0.039682494284293476, 0.032362962471267076, 0.02639289789376038, 0.02152371947977765, 0.017552564845245172, 0.014313905797701604, 0.011672693435816003, 0.009518756511406799, 0.007762225725490684, 0.006329797256822451, 0.005161682394296113, 0.00420911781707247, 0.0034323338285354283], \"yaxis\": \"y\"}, {\"hovertemplate\": \"variable=s2<br>alphas=%{x}<br>value=%{y}<extra></extra>\", \"legendgroup\": \"s2\", \"line\": {\"color\": \"#19d3f3\", \"dash\": \"solid\"}, \"mode\": \"lines\", \"name\": \"s2\", \"showlegend\": true, \"type\": \"scattergl\", \"x\": [0.01, 0.012263306841775632, 0.015038869469554102, 0.018442627085855347, 0.022616759492228647, 0.02773562614198415, 0.03401304938279251, 0.04171124612056518, 0.051151780992931425, 0.06272899858196247, 0.07692649574879142, 0.09433732216299774, 0.1156887528316282, 0.1418726674116596, 0.1739828052930364, 0.21336045265014109, 0.2616504698748821, 0.320869999737045, 0.39349272630958493, 0.48255220427412787, 0.5917685748188825, 0.7257039612324212, 0.8899530352885229, 1.0913767146512738, 1.3383887531737564, 1.6413071953751284, 2.0127853758499383, 2.4683404670686486, 3.0270016537634614, 3.7121050090663608, 4.55226827550731, 5.582586268862695, 6.846096838574658, 8.395578619995112, 10.295755673125127, 12.626001098748565, 15.48365256585499, 18.988078244652634, 23.285662984981965, 28.55592301990109, 35.019004614317126, 42.944879887892725, 52.66462393484275, 64.58424430196978, 79.20164050192548, 97.12740198471168, 119.11031332830079, 146.06863203649888, 179.1284454622002, 219.67070907932353, 269.388930959017, 330.35991201283395, 405.1304969235378, 496.8239594734388, 609.2704661368674, 747.1670675868082, 916.2739011886731, 1123.6548001387516, 1377.9723598335568, 1689.8497868124587, 2072.3146452190294, 2541.343036702639, 3116.52694492943, 3821.8926206331225, 4686.904192314192, 5747.694424835347, 7048.574036451903, 8643.882620598262, 10600.258488068825, 12999.42224413245, 15941.590374559995, 19549.661430912594, 23974.349678010785, 29400.480643347077, 36054.71154250506, 44214.99907374487, 54222.21006501592, 66494.35996665046, 81544.07395185171, 100000.0], \"xaxis\": \"x\", \"y\": [171.4489199991278, 134.838593635384, 101.2540299100288, 70.70888643849064, 43.216528868779484, 18.76994177141526, -2.6693145797873896, -21.173464173941397, -36.84403098377496, -49.80323698443791, -60.18417078495516, -68.12217151719709, -73.74909297488402, -77.19127566553945, -78.57134614300013, -78.01344468611063, -75.65111302163405, -71.63676741138585, -66.15137128747944, -59.412603804621526, -51.679580926651354, -43.252184021172226, -34.46347320205677, -25.664630948019127, -17.203346756339997, -9.39822693608173, -2.5132043162366786, 3.2634963173870393, 7.831841004179083, 11.181578703789095, 13.382916342875783, 14.568530036396027, 14.910739749831704, 14.598141957800708, 13.815360476100127, 12.728206259946644, 11.474967925669048, 10.163257791615038, 8.871067479612138, 7.650456904378696, 6.532465087992692, 5.532195003607594, 4.653423812767313, 3.8924261176261803, 3.240934274099342, 2.688299838231253, 2.2229859145493633, 1.8335371643212368, 1.509164047182023, 1.240055630857782, 1.0175102131991076, 0.8339498644169983, 0.6828657903469293, 0.5587265094965258, 0.45686981489366296, 0.3733916524702867, 0.3050396564868726, 0.24911549244045167, 0.2033878479987456, 0.1660164862815783, 0.13548694341026737, 0.11055500818220411, 0.09019992399565811, 0.0735852058224925, 0.06002600472728802, 0.04896203826928105, 0.03993521144073456, 0.03257116406467608, 0.02656408787963048, 0.02166425518450874, 0.017667788835853987, 0.014408280093269091, 0.011749926708403404, 0.009581919630231977, 0.007813853841180647, 0.006371978277781252, 0.005196132615047392, 0.0042372459043273775, 0.0034552945382923107, 0.0028176355476488926], \"yaxis\": \"y\"}, {\"hovertemplate\": \"variable=s3<br>alphas=%{x}<br>value=%{y}<extra></extra>\", \"legendgroup\": \"s3\", \"line\": {\"color\": \"#FF6692\", \"dash\": \"solid\"}, \"mode\": \"lines\", \"name\": \"s3\", \"showlegend\": true, \"type\": \"scattergl\", \"x\": [0.01, 0.012263306841775632, 0.015038869469554102, 0.018442627085855347, 0.022616759492228647, 0.02773562614198415, 0.03401304938279251, 0.04171124612056518, 0.051151780992931425, 0.06272899858196247, 0.07692649574879142, 0.09433732216299774, 0.1156887528316282, 0.1418726674116596, 0.1739828052930364, 0.21336045265014109, 0.2616504698748821, 0.320869999737045, 0.39349272630958493, 0.48255220427412787, 0.5917685748188825, 0.7257039612324212, 0.8899530352885229, 1.0913767146512738, 1.3383887531737564, 1.6413071953751284, 2.0127853758499383, 2.4683404670686486, 3.0270016537634614, 3.7121050090663608, 4.55226827550731, 5.582586268862695, 6.846096838574658, 8.395578619995112, 10.295755673125127, 12.626001098748565, 15.48365256585499, 18.988078244652634, 23.285662984981965, 28.55592301990109, 35.019004614317126, 42.944879887892725, 52.66462393484275, 64.58424430196978, 79.20164050192548, 97.12740198471168, 119.11031332830079, 146.06863203649888, 179.1284454622002, 219.67070907932353, 269.388930959017, 330.35991201283395, 405.1304969235378, 496.8239594734388, 609.2704661368674, 747.1670675868082, 916.2739011886731, 1123.6548001387516, 1377.9723598335568, 1689.8497868124587, 2072.3146452190294, 2541.343036702639, 3116.52694492943, 3821.8926206331225, 4686.904192314192, 5747.694424835347, 7048.574036451903, 8643.882620598262, 10600.258488068825, 12999.42224413245, 15941.590374559995, 19549.661430912594, 23974.349678010785, 29400.480643347077, 36054.71154250506, 44214.99907374487, 54222.21006501592, 66494.35996665046, 81544.07395185171, 100000.0], \"xaxis\": \"x\", \"y\": [-87.17597646518526, -103.34685110968066, -118.17685786184443, -131.62340667995576, -143.64494248985974, -154.21449299375098, -163.32847830285527, -171.01029980008713, -177.30910778634743, -182.2947836157377, -186.05048399032316, -188.664132965843, -190.22011541802596, -190.7922116045128, -190.438559127611, -189.1991482897001, -187.09605615310863, -184.1363188649365, -180.3170557047634, -175.63222162276966, -170.08020714945698, -163.67144555441547, -156.43522644618378, -148.42502758945838, -139.7218249491623, -130.4349960439441, -120.7005879821255, -110.67689545999923, -100.53751270128318, -90.46230830839933, -80.62711386001847, -71.19324776362242, -62.29818905838728, -54.04864218370019, -46.5168478631723, -39.74038726215619, -33.72508826691395, -28.450169972131818, -23.87456293082724, -19.94341051460437, -16.594000298099754, -13.760680148127568, -11.378592061939202, -9.386260660376218, -7.7271932992297385, -6.350698659058077, -5.212132516161963, -4.272754303395192, -3.4993419615671058, -2.8636755314022433, -2.3419672261998388, -1.9142893803957441, -1.5640318086912848, -1.2774059252600936, -1.043003332603535, -0.8514103727991317, -0.6948763744674001, -0.5670312615385488, -0.4626472415306212, -0.37743904994887734, -0.3078974084229938, -0.25115076617789733, -0.20485091357985652, -0.1670786057542677, -0.1362658681530439, -0.11113214972741256, -0.09063193154463073, -0.073911785924499, -0.06027521487510684, -0.049153880759740524, -0.040084081901185106, -0.032687526747177495, -0.026655627663001547, -0.02173667436397994, -0.017725361909663187, -0.014454242953969352, -0.011786751940518819, -0.0096115130081172, -0.007837695937861482, -0.006391227548993764], \"yaxis\": \"y\"}, {\"hovertemplate\": \"variable=s4<br>alphas=%{x}<br>value=%{y}<extra></extra>\", \"legendgroup\": \"s4\", \"line\": {\"color\": \"#B6E880\", \"dash\": \"solid\"}, \"mode\": \"lines\", \"name\": \"s4\", \"showlegend\": true, \"type\": \"scattergl\", \"x\": [0.01, 0.012263306841775632, 0.015038869469554102, 0.018442627085855347, 0.022616759492228647, 0.02773562614198415, 0.03401304938279251, 0.04171124612056518, 0.051151780992931425, 0.06272899858196247, 0.07692649574879142, 0.09433732216299774, 0.1156887528316282, 0.1418726674116596, 0.1739828052930364, 0.21336045265014109, 0.2616504698748821, 0.320869999737045, 0.39349272630958493, 0.48255220427412787, 0.5917685748188825, 0.7257039612324212, 0.8899530352885229, 1.0913767146512738, 1.3383887531737564, 1.6413071953751284, 2.0127853758499383, 2.4683404670686486, 3.0270016537634614, 3.7121050090663608, 4.55226827550731, 5.582586268862695, 6.846096838574658, 8.395578619995112, 10.295755673125127, 12.626001098748565, 15.48365256585499, 18.988078244652634, 23.285662984981965, 28.55592301990109, 35.019004614317126, 42.944879887892725, 52.66462393484275, 64.58424430196978, 79.20164050192548, 97.12740198471168, 119.11031332830079, 146.06863203649888, 179.1284454622002, 219.67070907932353, 269.388930959017, 330.35991201283395, 405.1304969235378, 496.8239594734388, 609.2704661368674, 747.1670675868082, 916.2739011886731, 1123.6548001387516, 1377.9723598335568, 1689.8497868124587, 2072.3146452190294, 2541.343036702639, 3116.52694492943, 3821.8926206331225, 4686.904192314192, 5747.694424835347, 7048.574036451903, 8643.882620598262, 10600.258488068825, 12999.42224413245, 15941.590374559995, 19549.661430912594, 23974.349678010785, 29400.480643347077, 36054.71154250506, 44214.99907374487, 54222.21006501592, 66494.35996665046, 81544.07395185171, 100000.0], \"xaxis\": \"x\", \"y\": [114.37753153174958, 113.21258384742579, 112.20873757656852, 111.40861605106966, 110.85302909202973, 110.57533392109104, 110.59641099741685, 110.92104617965121, 111.53619223162879, 112.4112399173834, 113.50010703459573, 114.74467192343292, 116.0788617154578, 117.43260020128702, 118.73487107103618, 119.91536986934341, 120.90456079616456, 121.63234605364073, 122.02592040665289, 122.00767112861797, 121.4941596860754, 120.3972421279302, 118.62818112843583, 116.10510702050802, 112.76339837730592, 108.56760543038845, 103.52269894489194, 97.68201991734195, 91.14958395773353, 84.07540656591173, 76.64404301566199, 69.05813679181965, 61.519927954625, 54.21400843054133, 47.29405204707037, 40.87505414208058, 35.031246360501804, 29.7987423610711, 25.181363891683905, 21.15800578354066, 17.690173154677975, 14.728764551143739, 12.219616307312794, 10.107671959614503, 8.33986700509546, 6.866936001665044, 5.6443858356411365, 4.632867163270387, 3.7981403905311577, 3.110789630027282, 2.5457972385329493, 2.082057078229, 1.7018777251422186, 1.3905069929060654, 1.1356951804823114, 0.9273050700183918, 0.7569706910019534, 0.6178032398309591, 0.5041405390489229, 0.41133547965315864, 0.33557861837992115, 0.273750229290749, 0.2232974555406866, 0.18213265709549586, 0.14854953154032213, 0.1211540556101498, 0.09880773155416925, 0.08058101404079078, 0.06571513664723616, 0.05359085307933224, 0.04370286053468239, 0.03563888557055114, 0.029062591324004787, 0.023699613709092193, 0.019326157691892342, 0.015759686870163398, 0.012851323820752419, 0.010479648006532897, 0.008545634993434963, 0.006968527457914588], \"yaxis\": \"y\"}, {\"hovertemplate\": \"variable=s5<br>alphas=%{x}<br>value=%{y}<extra></extra>\", \"legendgroup\": \"s5\", \"line\": {\"color\": \"#FF97FF\", \"dash\": \"solid\"}, \"mode\": \"lines\", \"name\": \"s5\", \"showlegend\": true, \"type\": \"scattergl\", \"x\": [0.01, 0.012263306841775632, 0.015038869469554102, 0.018442627085855347, 0.022616759492228647, 0.02773562614198415, 0.03401304938279251, 0.04171124612056518, 0.051151780992931425, 0.06272899858196247, 0.07692649574879142, 0.09433732216299774, 0.1156887528316282, 0.1418726674116596, 0.1739828052930364, 0.21336045265014109, 0.2616504698748821, 0.320869999737045, 0.39349272630958493, 0.48255220427412787, 0.5917685748188825, 0.7257039612324212, 0.8899530352885229, 1.0913767146512738, 1.3383887531737564, 1.6413071953751284, 2.0127853758499383, 2.4683404670686486, 3.0270016537634614, 3.7121050090663608, 4.55226827550731, 5.582586268862695, 6.846096838574658, 8.395578619995112, 10.295755673125127, 12.626001098748565, 15.48365256585499, 18.988078244652634, 23.285662984981965, 28.55592301990109, 35.019004614317126, 42.944879887892725, 52.66462393484275, 64.58424430196978, 79.20164050192548, 97.12740198471168, 119.11031332830079, 146.06863203649888, 179.1284454622002, 219.67070907932353, 269.388930959017, 330.35991201283395, 405.1304969235378, 496.8239594734388, 609.2704661368674, 747.1670675868082, 916.2739011886731, 1123.6548001387516, 1377.9723598335568, 1689.8497868124587, 2072.3146452190294, 2541.343036702639, 3116.52694492943, 3821.8926206331225, 4686.904192314192, 5747.694424835347, 7048.574036451903, 8643.882620598262, 10600.258488068825, 12999.42224413245, 15941.590374559995, 19549.661430912594, 23974.349678010785, 29400.480643347077, 36054.71154250506, 44214.99907374487, 54222.21006501592, 66494.35996665046, 81544.07395185171, 100000.0], \"xaxis\": \"x\", \"y\": [598.449039210453, 580.8710441841891, 564.25034284299, 548.5684786842181, 533.7941771674559, 519.8721769109646, 506.7166571030305, 494.20931365791284, 482.2014500602562, 470.51906242929476, 458.969869854856, 447.3514877742075, 435.4602958779541, 423.100834700817, 410.0956510237063, 396.2953635192726, 381.58839375057414, 365.90943747670434, 349.2455070876103, 331.63840769764096, 313.1828898631985, 294.0204094309744, 274.3292609671377, 254.31259505046344, 234.18622545228055, 214.16799753476812, 194.4698101039825, 175.29237033055384, 156.82180870159422, 139.22680138130698, 122.65505648857936, 107.2287999538683, 93.03984174254103, 80.14544530801003, 68.56628214513219, 58.287263675508505, 49.26128577632055, 41.41523723905951, 34.657238743572954, 28.884040900058906, 23.9877277712978, 19.861203671789657, 16.402263976560437, 13.516295497876962, 11.117799182308536, 9.13098995926491, 7.489731096682207, 6.137029116271576, 5.0242700422689, 4.110331226234887, 3.3606619388791885, 2.746392946608046, 2.2435105588560718, 1.832113111272296, 1.4957560928720546, 1.2208846944668854, 0.9963482139228783, 0.8129885221122777, 0.6632939402079596, 0.541109880957313, 0.4413981032419106, 0.36003718085423, 0.2936576395305791, 0.239506077047622, 0.1953333958590229, 0.15930301868146465, 0.1299156134713398, 0.10594742415462706, 0.08639979172869558, 0.0704578642844704, 0.057456842609039244, 0.04685439896957221, 0.03820814865343918, 0.031157254312339903, 0.025407408738565722, 0.02071857812697207, 0.01689500005910355, 0.013777022547903589, 0.011234446000352137, 0.009161091812996508], \"yaxis\": \"y\"}, {\"hovertemplate\": \"variable=s6<br>alphas=%{x}<br>value=%{y}<extra></extra>\", \"legendgroup\": \"s6\", \"line\": {\"color\": \"#FECB52\", \"dash\": \"solid\"}, \"mode\": \"lines\", \"name\": \"s6\", \"showlegend\": true, \"type\": \"scattergl\", \"x\": [0.01, 0.012263306841775632, 0.015038869469554102, 0.018442627085855347, 0.022616759492228647, 0.02773562614198415, 0.03401304938279251, 0.04171124612056518, 0.051151780992931425, 0.06272899858196247, 0.07692649574879142, 0.09433732216299774, 0.1156887528316282, 0.1418726674116596, 0.1739828052930364, 0.21336045265014109, 0.2616504698748821, 0.320869999737045, 0.39349272630958493, 0.48255220427412787, 0.5917685748188825, 0.7257039612324212, 0.8899530352885229, 1.0913767146512738, 1.3383887531737564, 1.6413071953751284, 2.0127853758499383, 2.4683404670686486, 3.0270016537634614, 3.7121050090663608, 4.55226827550731, 5.582586268862695, 6.846096838574658, 8.395578619995112, 10.295755673125127, 12.626001098748565, 15.48365256585499, 18.988078244652634, 23.285662984981965, 28.55592301990109, 35.019004614317126, 42.944879887892725, 52.66462393484275, 64.58424430196978, 79.20164050192548, 97.12740198471168, 119.11031332830079, 146.06863203649888, 179.1284454622002, 219.67070907932353, 269.388930959017, 330.35991201283395, 405.1304969235378, 496.8239594734388, 609.2704661368674, 747.1670675868082, 916.2739011886731, 1123.6548001387516, 1377.9723598335568, 1689.8497868124587, 2072.3146452190294, 2541.343036702639, 3116.52694492943, 3821.8926206331225, 4686.904192314192, 5747.694424835347, 7048.574036451903, 8643.882620598262, 10600.258488068825, 12999.42224413245, 15941.590374559995, 19549.661430912594, 23974.349678010785, 29400.480643347077, 36054.71154250506, 44214.99907374487, 54222.21006501592, 66494.35996665046, 81544.07395185171, 100000.0], \"xaxis\": \"x\", \"y\": [64.26834243634129, 65.70532596484358, 67.17772306678947, 68.68999718349285, 70.25495620982419, 71.89310923030094, 73.6314314753998, 75.50159560579611, 77.53764261170367, 79.7729852313905, 82.2365931883056, 84.94823259636102, 87.91274925665621, 91.1136181106754, 94.50632977435386, 98.01260963145938, 101.5168624088232, 104.86643592285535, 107.87710329434336, 110.3444364718726, 112.06052765239781, 112.83410295528205, 112.5109522796171, 110.9912429417276, 108.24088559157192, 104.29545384667726, 99.25668903042532, 93.28280632413603, 86.57439872081875, 79.35780922703593, 71.86770061907751, 64.33042201715546, 56.949668986934384, 49.89571846453801, 43.2990671402473, 37.24863798361823, 31.79401862163852, 26.950668348939534, 22.706806292904204, 19.030770808112226, 15.877921377907269, 13.196510826785083, 10.932284066554383, 9.031804202430862, 7.444655292072947, 6.124737884150728, 5.030883446548965, 4.126991026747862, 3.3818523865420507, 2.768792258717639, 2.2652146645666535, 1.852117024544996, 1.5136114724651388, 1.2364766087039334, 1.009751743505165, 0.8243782986504449, 0.6728884128478113, 0.549138097736858, 0.44808088548622155, 0.365577337727988, 0.2982357287778724, 0.24327945662049535, 0.1984371303029421, 0.16185174154929757, 0.13200579642746368, 0.10765972817131488, 0.0878013184309139, 0.071604214493964, 0.05839394335559851, 0.04762009214675175, 0.03883355228326525, 0.03166791638462843, 0.025824277255145286, 0.021058811517092445, 0.017172640934062403, 0.014003555695910878, 0.011419259111024257, 0.009311854970773614, 0.007593349606467645, 0.006191982277264419], \"yaxis\": \"y\"}, {\"hovertemplate\": \"variable=age^2<br>alphas=%{x}<br>value=%{y}<extra></extra>\", \"legendgroup\": \"age^2\", \"line\": {\"color\": \"#636efa\", \"dash\": \"solid\"}, \"mode\": \"lines\", \"name\": \"age^2\", \"showlegend\": true, \"type\": \"scattergl\", \"x\": [0.01, 0.012263306841775632, 0.015038869469554102, 0.018442627085855347, 0.022616759492228647, 0.02773562614198415, 0.03401304938279251, 0.04171124612056518, 0.051151780992931425, 0.06272899858196247, 0.07692649574879142, 0.09433732216299774, 0.1156887528316282, 0.1418726674116596, 0.1739828052930364, 0.21336045265014109, 0.2616504698748821, 0.320869999737045, 0.39349272630958493, 0.48255220427412787, 0.5917685748188825, 0.7257039612324212, 0.8899530352885229, 1.0913767146512738, 1.3383887531737564, 1.6413071953751284, 2.0127853758499383, 2.4683404670686486, 3.0270016537634614, 3.7121050090663608, 4.55226827550731, 5.582586268862695, 6.846096838574658, 8.395578619995112, 10.295755673125127, 12.626001098748565, 15.48365256585499, 18.988078244652634, 23.285662984981965, 28.55592301990109, 35.019004614317126, 42.944879887892725, 52.66462393484275, 64.58424430196978, 79.20164050192548, 97.12740198471168, 119.11031332830079, 146.06863203649888, 179.1284454622002, 219.67070907932353, 269.388930959017, 330.35991201283395, 405.1304969235378, 496.8239594734388, 609.2704661368674, 747.1670675868082, 916.2739011886731, 1123.6548001387516, 1377.9723598335568, 1689.8497868124587, 2072.3146452190294, 2541.343036702639, 3116.52694492943, 3821.8926206331225, 4686.904192314192, 5747.694424835347, 7048.574036451903, 8643.882620598262, 10600.258488068825, 12999.42224413245, 15941.590374559995, 19549.661430912594, 23974.349678010785, 29400.480643347077, 36054.71154250506, 44214.99907374487, 54222.21006501592, 66494.35996665046, 81544.07395185171, 100000.0], \"xaxis\": \"x\", \"y\": [528.0830174778343, 448.0264322394551, 377.6371179515916, 316.49256774849664, 263.9331256803356, 219.15758957869087, 181.30240665682973, 149.50165925205528, 122.92853738986507, 100.82098051617217, 82.49494527918976, 67.34872767444934, 54.86130541094884, 44.58704025949057, 36.1484564556142, 29.228273218865073, 23.561445711570826, 18.92765731427267, 15.144490959163894, 12.061368078961893, 9.554260543158728, 7.5211362438372475, 5.87807845138302, 4.556011967864032, 3.4979684880393465, 2.656825884910693, 1.99346017692025, 1.4752542663664998, 1.0749131421471685, 0.7695393652360148, 0.5399239725330243, 0.37000694253742855, 0.2464606349827234, 0.15835235283240603, 0.0968500818087819, 0.05494753336286005, 0.02719772550271138, 0.009455045331101072, -0.0013680258857232674, -0.007521708848002979, -0.010611088544337469, -0.011756668292029, -0.0117235676296431, -0.011022048836328808, -0.009983444302589004, -0.008816022081912036, -0.007645147245340247, -0.006541556307939658, -0.005540881885358958, -0.00465688700001497, -0.0038902684036469224, -0.0032343947613041675, -0.0026789597944978094, -0.002212240044129587, -0.0018224344132744632, -0.0014984106576347897, -0.001230077271293236, -0.001008525443161037, -0.0008260354562662797, -0.0006760080300582943, -0.0005528585745632575, -0.0004518975251915047, -0.0003692103395375004, -0.00030154462768027727, -0.0002462080733649194, -0.0002009784877008962, -0.00016402598666257395, -0.00013384654561937633, -0.00010920582661806936, -8.909204667664239e-05, -7.267666136912074e-05, -5.928171647781322e-05, -4.8352833688228635e-05, -3.9436921456379684e-05, -3.2163826151962024e-05, -2.6231254289480186e-05, -2.13924007536201e-05, -1.7445809297068013e-05, -1.4227070418895763e-05, -1.1602028889945363e-05], \"yaxis\": \"y\"}, {\"hovertemplate\": \"variable=sex^2<br>alphas=%{x}<br>value=%{y}<extra></extra>\", \"legendgroup\": \"sex^2\", \"line\": {\"color\": \"#EF553B\", \"dash\": \"solid\"}, \"mode\": \"lines\", \"name\": \"sex^2\", \"showlegend\": true, \"type\": \"scattergl\", \"x\": [0.01, 0.012263306841775632, 0.015038869469554102, 0.018442627085855347, 0.022616759492228647, 0.02773562614198415, 0.03401304938279251, 0.04171124612056518, 0.051151780992931425, 0.06272899858196247, 0.07692649574879142, 0.09433732216299774, 0.1156887528316282, 0.1418726674116596, 0.1739828052930364, 0.21336045265014109, 0.2616504698748821, 0.320869999737045, 0.39349272630958493, 0.48255220427412787, 0.5917685748188825, 0.7257039612324212, 0.8899530352885229, 1.0913767146512738, 1.3383887531737564, 1.6413071953751284, 2.0127853758499383, 2.4683404670686486, 3.0270016537634614, 3.7121050090663608, 4.55226827550731, 5.582586268862695, 6.846096838574658, 8.395578619995112, 10.295755673125127, 12.626001098748565, 15.48365256585499, 18.988078244652634, 23.285662984981965, 28.55592301990109, 35.019004614317126, 42.944879887892725, 52.66462393484275, 64.58424430196978, 79.20164050192548, 97.12740198471168, 119.11031332830079, 146.06863203649888, 179.1284454622002, 219.67070907932353, 269.388930959017, 330.35991201283395, 405.1304969235378, 496.8239594734388, 609.2704661368674, 747.1670675868082, 916.2739011886731, 1123.6548001387516, 1377.9723598335568, 1689.8497868124587, 2072.3146452190294, 2541.343036702639, 3116.52694492943, 3821.8926206331225, 4686.904192314192, 5747.694424835347, 7048.574036451903, 8643.882620598262, 10600.258488068825, 12999.42224413245, 15941.590374559995, 19549.661430912594, 23974.349678010785, 29400.480643347077, 36054.71154250506, 44214.99907374487, 54222.21006501592, 66494.35996665046, 81544.07395185171, 100000.0], \"xaxis\": \"x\", \"y\": [-1.3939611901058553, -1.3912211244385788, -1.3874249746395209, -1.3823436174588526, -1.3757251738542293, -1.3672854684449414, -1.3566979824670926, -1.34358466662075, -1.3275089887510139, -1.3079727320179808, -1.284418391774763, -1.2562395042956038, -1.2228017289410864, -1.1834777262215044, -1.1376984288867364, -1.0850217056111922, -1.025216234271804, -0.9583535335951596, -0.8848951555137378, -0.8057566214632448, -0.7223272862436054, -0.636428516719258, -0.550202639979941, -0.46594059951258643, -0.38587270347542396, -0.31195828796035785, -0.24571189251907985, -0.188094794924457, -0.1394848565072273, -0.09972031198881375, -0.06819962818255132, -0.04401264342425488, -0.026077974946545554, -0.013266448881460804, -0.004497703394047268, 0.001195107972973988, 0.004631126209827441, 0.006472516350307695, 0.0072327176283656265, 0.007294953957059716, 0.00693507387714904, 0.006344569381752287, 0.00565131931271399, 0.004936936145353973, 0.004250493240972972, 0.0036189251390370686, 0.003054627350235124, 0.0025608367378102256, 0.0021353302990121223, 0.0017728944100686118, 0.0014669214744831387, 0.0012104034567156667, 0.0009965188896045377, 0.0008189528323305538, 0.0006720464018720857, 0.0005508413698658563, 0.00045106327500260557, 0.0003690712267490902, 0.0003017921917698847, 0.000246650621439823, 0.0002014997354056407, 0.000164557859539516, 0.0001343513904636959, 0.00010966485239018805, 8.949787283887031e-05, 7.30285622226802e-05, 5.958262579834299e-05, 4.860749144531688e-05, 3.965075569441728e-05, 3.234230333716009e-05, 2.637952422458013e-05, 2.1515123378682067e-05, 1.7547090935646332e-05, 1.431046337135017e-05, 1.1670565433228495e-05, 9.517472829256528e-06, 7.761479243366257e-06, 6.32938822306113e-06, 5.16148162940099e-06, 4.209042396732107e-06], \"yaxis\": \"y\"}, {\"hovertemplate\": \"variable=bmi^2<br>alphas=%{x}<br>value=%{y}<extra></extra>\", \"legendgroup\": \"bmi^2\", \"line\": {\"color\": \"#00cc96\", \"dash\": \"solid\"}, \"mode\": \"lines\", \"name\": \"bmi^2\", \"showlegend\": true, \"type\": \"scattergl\", \"x\": [0.01, 0.012263306841775632, 0.015038869469554102, 0.018442627085855347, 0.022616759492228647, 0.02773562614198415, 0.03401304938279251, 0.04171124612056518, 0.051151780992931425, 0.06272899858196247, 0.07692649574879142, 0.09433732216299774, 0.1156887528316282, 0.1418726674116596, 0.1739828052930364, 0.21336045265014109, 0.2616504698748821, 0.320869999737045, 0.39349272630958493, 0.48255220427412787, 0.5917685748188825, 0.7257039612324212, 0.8899530352885229, 1.0913767146512738, 1.3383887531737564, 1.6413071953751284, 2.0127853758499383, 2.4683404670686486, 3.0270016537634614, 3.7121050090663608, 4.55226827550731, 5.582586268862695, 6.846096838574658, 8.395578619995112, 10.295755673125127, 12.626001098748565, 15.48365256585499, 18.988078244652634, 23.285662984981965, 28.55592301990109, 35.019004614317126, 42.944879887892725, 52.66462393484275, 64.58424430196978, 79.20164050192548, 97.12740198471168, 119.11031332830079, 146.06863203649888, 179.1284454622002, 219.67070907932353, 269.388930959017, 330.35991201283395, 405.1304969235378, 496.8239594734388, 609.2704661368674, 747.1670675868082, 916.2739011886731, 1123.6548001387516, 1377.9723598335568, 1689.8497868124587, 2072.3146452190294, 2541.343036702639, 3116.52694492943, 3821.8926206331225, 4686.904192314192, 5747.694424835347, 7048.574036451903, 8643.882620598262, 10600.258488068825, 12999.42224413245, 15941.590374559995, 19549.661430912594, 23974.349678010785, 29400.480643347077, 36054.71154250506, 44214.99907374487, 54222.21006501592, 66494.35996665046, 81544.07395185171, 100000.0], \"xaxis\": \"x\", \"y\": [469.1830880526512, 406.9574247473601, 350.620085243616, 300.37629229050435, 256.1635341278576, 217.71226008119217, 184.60898904638032, 156.35388391980047, 132.40833641944485, 112.23105536542523, 95.30318340499353, 81.14408778564548, 69.31988261467598, 59.44669598157672, 51.190413720110946, 44.26426446850478, 38.425245263509936, 33.47006272840703, 29.2309945784614, 25.57186260153264, 22.38415508251504, 19.583250118983226, 17.104674914341636, 14.900381609946418, 12.935101778407905, 11.182920449290247, 9.624249068150775, 8.243356288567822, 7.026544046674915, 5.960962762496185, 5.033977123166994, 4.232945185147631, 3.5452634410721044, 2.958549812439105, 2.460870262691108, 2.0409497369110325, 1.6883367789594093, 1.393511119505354, 1.1479356746487555, 0.9440608015985775, 0.7752912937614976, 0.635926927925244, 0.5210863908302713, 0.4266227696255942, 0.3490369305732185, 0.2853933173770146, 0.23324113893356396, 0.19054265838862852, 0.15560934895598713, 0.12704601595679066, 0.10370254963639203, 0.08463271619573179, 0.06905926620476549, 0.05634459944425355, 0.0459662416764536, 0.03749643870776496, 0.030585240193276304, 0.024946519175576044, 0.020346446566101344, 0.0165940086957687, 0.0135332186163467, 0.011036727197032362, 0.009000588171119525, 0.007339972529407165, 0.00598566264551671, 0.004881185964286108, 0.003980472710687086, 0.0032459425703068, 0.0026469422798386564, 0.0021584701028773638, 0.001760134735869559, 0.0014353057056814107, 0.0011704201353832692, 0.0009544171642364328, 0.0007782765587283404, 0.0006346423495126582, 0.0005175158446987422, 0.00042200524388876913, 0.0003441214256913768, 0.00028061139955388537], \"yaxis\": \"y\"}, {\"hovertemplate\": \"variable=bp^2<br>alphas=%{x}<br>value=%{y}<extra></extra>\", \"legendgroup\": \"bp^2\", \"line\": {\"color\": \"#ab63fa\", \"dash\": \"solid\"}, \"mode\": \"lines\", \"name\": \"bp^2\", \"showlegend\": true, \"type\": \"scattergl\", \"x\": [0.01, 0.012263306841775632, 0.015038869469554102, 0.018442627085855347, 0.022616759492228647, 0.02773562614198415, 0.03401304938279251, 0.04171124612056518, 0.051151780992931425, 0.06272899858196247, 0.07692649574879142, 0.09433732216299774, 0.1156887528316282, 0.1418726674116596, 0.1739828052930364, 0.21336045265014109, 0.2616504698748821, 0.320869999737045, 0.39349272630958493, 0.48255220427412787, 0.5917685748188825, 0.7257039612324212, 0.8899530352885229, 1.0913767146512738, 1.3383887531737564, 1.6413071953751284, 2.0127853758499383, 2.4683404670686486, 3.0270016537634614, 3.7121050090663608, 4.55226827550731, 5.582586268862695, 6.846096838574658, 8.395578619995112, 10.295755673125127, 12.626001098748565, 15.48365256585499, 18.988078244652634, 23.285662984981965, 28.55592301990109, 35.019004614317126, 42.944879887892725, 52.66462393484275, 64.58424430196978, 79.20164050192548, 97.12740198471168, 119.11031332830079, 146.06863203649888, 179.1284454622002, 219.67070907932353, 269.388930959017, 330.35991201283395, 405.1304969235378, 496.8239594734388, 609.2704661368674, 747.1670675868082, 916.2739011886731, 1123.6548001387516, 1377.9723598335568, 1689.8497868124587, 2072.3146452190294, 2541.343036702639, 3116.52694492943, 3821.8926206331225, 4686.904192314192, 5747.694424835347, 7048.574036451903, 8643.882620598262, 10600.258488068825, 12999.42224413245, 15941.590374559995, 19549.661430912594, 23974.349678010785, 29400.480643347077, 36054.71154250506, 44214.99907374487, 54222.21006501592, 66494.35996665046, 81544.07395185171, 100000.0], \"xaxis\": \"x\", \"y\": [237.37362497949078, 208.57204013592033, 181.71635410446584, 157.1537098067668, 135.06990066947503, 115.51044779148255, 98.40996984011566, 83.62359575317777, 70.95601590556083, 60.185723084007726, 51.08359065786488, 43.426006126939576, 37.00335795870125, 31.62488606337381, 27.12088795967279, 23.343134591520556, 20.164166652076727, 17.475957402014487, 15.18826314399532, 13.22684791856613, 11.531669826393431, 10.055055471385401, 8.759865891414474, 7.617665836605167, 6.606935329160086, 5.711390476322654, 4.9184931889152015, 4.218218432120378, 3.6021158791591765, 3.062662286496103, 2.59286574017857, 2.1860627081436226, 1.8358453777540988, 1.5360655249375794, 1.2808752510648198, 1.064778705152824, 0.8826795933526069, 0.7299165153275852, 0.6022827892280663, 0.49603038396040333, 0.4078594825586199, 0.3348963414187182, 0.27466262447937645, 0.22503940104738346, 0.18422864931801983, 0.15071456268770608, 0.12322634957916848, 0.10070364661108226, 0.08226518385643522, 0.06718096940211396, 0.054847995358502794, 0.044769293660049066, 0.03653606789920949, 0.029812577890844152, 0.024323440235632227, 0.019843017885906245, 0.016186595034473675, 0.01320306383111306, 0.010768882013968637, 0.00878309271852434, 0.007163227864799078, 0.005841943789513224, 0.0047642618664999175, 0.003885307746535127, 0.00316846073141721, 0.002583839954914179, 0.0021070667905612166, 0.0017182535610940786, 0.0014011774870770046, 0.0011426061561264382, 0.000931746860686706, 0.000759797151391473, 0.0006195780643095772, 0.0005052348560864481, 0.0004119928491634554, 0.00033595825684992395, 0.0002739557139781962, 0.00022339575686745913, 0.0001821667372015138, 0.00014854666831555188], \"yaxis\": \"y\"}, {\"hovertemplate\": \"variable=s1^2<br>alphas=%{x}<br>value=%{y}<extra></extra>\", \"legendgroup\": \"s1^2\", \"line\": {\"color\": \"#FFA15A\", \"dash\": \"solid\"}, \"mode\": \"lines\", \"name\": \"s1^2\", \"showlegend\": true, \"type\": \"scattergl\", \"x\": [0.01, 0.012263306841775632, 0.015038869469554102, 0.018442627085855347, 0.022616759492228647, 0.02773562614198415, 0.03401304938279251, 0.04171124612056518, 0.051151780992931425, 0.06272899858196247, 0.07692649574879142, 0.09433732216299774, 0.1156887528316282, 0.1418726674116596, 0.1739828052930364, 0.21336045265014109, 0.2616504698748821, 0.320869999737045, 0.39349272630958493, 0.48255220427412787, 0.5917685748188825, 0.7257039612324212, 0.8899530352885229, 1.0913767146512738, 1.3383887531737564, 1.6413071953751284, 2.0127853758499383, 2.4683404670686486, 3.0270016537634614, 3.7121050090663608, 4.55226827550731, 5.582586268862695, 6.846096838574658, 8.395578619995112, 10.295755673125127, 12.626001098748565, 15.48365256585499, 18.988078244652634, 23.285662984981965, 28.55592301990109, 35.019004614317126, 42.944879887892725, 52.66462393484275, 64.58424430196978, 79.20164050192548, 97.12740198471168, 119.11031332830079, 146.06863203649888, 179.1284454622002, 219.67070907932353, 269.388930959017, 330.35991201283395, 405.1304969235378, 496.8239594734388, 609.2704661368674, 747.1670675868082, 916.2739011886731, 1123.6548001387516, 1377.9723598335568, 1689.8497868124587, 2072.3146452190294, 2541.343036702639, 3116.52694492943, 3821.8926206331225, 4686.904192314192, 5747.694424835347, 7048.574036451903, 8643.882620598262, 10600.258488068825, 12999.42224413245, 15941.590374559995, 19549.661430912594, 23974.349678010785, 29400.480643347077, 36054.71154250506, 44214.99907374487, 54222.21006501592, 66494.35996665046, 81544.07395185171, 100000.0], \"xaxis\": \"x\", \"y\": [127.97111304418192, 105.94993464121443, 87.33873416864951, 71.69705589291306, 58.61904807011004, 47.73614029058409, 38.71804783823842, 31.272670360784968, 25.14507396403658, 20.11562993084459, 15.997423770624101, 12.633127862119736, 9.89157716289727, 7.664280176254421, 5.862049314121917, 4.4118695690968, 3.2540630072773746, 2.3397625038798253, 1.6286869472987053, 1.0872103661035613, 0.6867315981721053, 0.40236742737365383, 0.21199771988051966, 0.09567684076564796, 0.03539060201513947, 0.015091276259484827, 0.020901069898593964, 0.04135351685943806, 0.06755199473098433, 0.09316297337354587, 0.11421629092470822, 0.12873850289484148, 0.13628311607483934, 0.13743557281062474, 0.13336230609549077, 0.1254498855139675, 0.11505256241874401, 0.10334305894406812, 0.09124680303230473, 0.07943437279636581, 0.06834834608077431, 0.058245865250566645, 0.04924431519862631, 0.041362897494862695, 0.03455686797843037, 0.028743749450042804, 0.02382221636782202, 0.01968493730543844, 0.01622677262905377, 0.013349592159708035, 0.010964748765860012, 0.008994002061213506, 0.007369471482053749, 0.006033024067992312, 0.0049353698143034235, 0.0040350410344678475, 0.0032973644754411622, 0.002693488916018348, 0.002199500685708357, 0.0017956402859018537, 0.0014656215786463247, 0.0011960483089659098, 0.0009759192762925401, 0.0007962120587776888, 0.0006495350102506746, 0.0005298377620571863, 0.00043217133106467277, 0.0003524899496086313, 0.0002874877669520765, 0.00023446455391173612, 0.0001912154365627181, 0.00015594047679010919, 0.00012717060510287364, 0.00010370699989805571, 8.457150619880289e-05, 6.896610615775852e-05, 5.623980384002338e-05, 4.586157794101749e-05, 3.739829720406443e-05, 3.0496692378043673e-05], \"yaxis\": \"y\"}, {\"hovertemplate\": \"variable=s2^2<br>alphas=%{x}<br>value=%{y}<extra></extra>\", \"legendgroup\": \"s2^2\", \"line\": {\"color\": \"#19d3f3\", \"dash\": \"solid\"}, \"mode\": \"lines\", \"name\": \"s2^2\", \"showlegend\": true, \"type\": \"scattergl\", \"x\": [0.01, 0.012263306841775632, 0.015038869469554102, 0.018442627085855347, 0.022616759492228647, 0.02773562614198415, 0.03401304938279251, 0.04171124612056518, 0.051151780992931425, 0.06272899858196247, 0.07692649574879142, 0.09433732216299774, 0.1156887528316282, 0.1418726674116596, 0.1739828052930364, 0.21336045265014109, 0.2616504698748821, 0.320869999737045, 0.39349272630958493, 0.48255220427412787, 0.5917685748188825, 0.7257039612324212, 0.8899530352885229, 1.0913767146512738, 1.3383887531737564, 1.6413071953751284, 2.0127853758499383, 2.4683404670686486, 3.0270016537634614, 3.7121050090663608, 4.55226827550731, 5.582586268862695, 6.846096838574658, 8.395578619995112, 10.295755673125127, 12.626001098748565, 15.48365256585499, 18.988078244652634, 23.285662984981965, 28.55592301990109, 35.019004614317126, 42.944879887892725, 52.66462393484275, 64.58424430196978, 79.20164050192548, 97.12740198471168, 119.11031332830079, 146.06863203649888, 179.1284454622002, 219.67070907932353, 269.388930959017, 330.35991201283395, 405.1304969235378, 496.8239594734388, 609.2704661368674, 747.1670675868082, 916.2739011886731, 1123.6548001387516, 1377.9723598335568, 1689.8497868124587, 2072.3146452190294, 2541.343036702639, 3116.52694492943, 3821.8926206331225, 4686.904192314192, 5747.694424835347, 7048.574036451903, 8643.882620598262, 10600.258488068825, 12999.42224413245, 15941.590374559995, 19549.661430912594, 23974.349678010785, 29400.480643347077, 36054.71154250506, 44214.99907374487, 54222.21006501592, 66494.35996665046, 81544.07395185171, 100000.0], \"xaxis\": \"x\", \"y\": [-73.55019976564513, -58.4103153251709, -46.45981544086486, -37.12329158135488, -29.888223721399598, -24.31314390295656, -20.029192483647456, -16.736367138084972, -14.19621997346722, -12.222761039963212, -10.673005765039658, -9.438147325210851, -8.435896011070094, -7.604188102351406, -6.896245144077223, -6.276842291645325, -5.719590570514988, -5.205023841089479, -4.719286630357898, -4.253232438008047, -3.8017598442225076, -3.3632372539083586, -2.9389003254782073, -2.5321517605582278, -2.1477491281741363, -1.790924150665308, -1.4665227821380382, -1.1782759370617237, -0.9282987903497755, -0.7168756296585787, -0.5425306329559284, -0.402330703006062, -0.2923303561484839, -0.2080586105603351, -0.14496227539762857, -0.09875005826878476, -0.06561580112878751, -0.042347210966596334, -0.026343662668889677, -0.015572824494792512, -0.008493896043100219, -0.003968994964473176, -0.0011769043923198698, 0.0004630248427310123, 0.00135372704164104, 0.0017699019758831377, 0.001895565744113479, 0.00185173527254905, 0.001716365296709047, 0.0015384282594884807, 0.0013476928790528782, 0.0011614154178192706, 0.0009888558917227495, 0.0008342856142165227, 0.0006989623523793618, 0.0005824075996950824, 0.000483217541339728, 0.00039956607574476334, 0.00032950701720021124, 0.00027114721301756443, 0.00022273813328802403, 0.0001827171365077504, 0.0001497186479950889, 0.00012256819736637222, 0.00010026745649317787, 8.197528261026058e-05, 6.698774562723139e-05, 5.471882777892643e-05, 4.468267483213595e-05, 3.6477782599250754e-05, 2.9773208773081357e-05, 2.4296734524727438e-05, 1.9824814801734322e-05, 1.617411964371518e-05, 1.3194461082633684e-05, 1.0762908632151746e-05, 8.778913092261502e-06, 7.160278591207937e-06, 5.839843625927931e-06, 4.7627517663745056e-06], \"yaxis\": \"y\"}, {\"hovertemplate\": \"variable=s3^2<br>alphas=%{x}<br>value=%{y}<extra></extra>\", \"legendgroup\": \"s3^2\", \"line\": {\"color\": \"#FF6692\", \"dash\": \"solid\"}, \"mode\": \"lines\", \"name\": \"s3^2\", \"showlegend\": true, \"type\": \"scattergl\", \"x\": [0.01, 0.012263306841775632, 0.015038869469554102, 0.018442627085855347, 0.022616759492228647, 0.02773562614198415, 0.03401304938279251, 0.04171124612056518, 0.051151780992931425, 0.06272899858196247, 0.07692649574879142, 0.09433732216299774, 0.1156887528316282, 0.1418726674116596, 0.1739828052930364, 0.21336045265014109, 0.2616504698748821, 0.320869999737045, 0.39349272630958493, 0.48255220427412787, 0.5917685748188825, 0.7257039612324212, 0.8899530352885229, 1.0913767146512738, 1.3383887531737564, 1.6413071953751284, 2.0127853758499383, 2.4683404670686486, 3.0270016537634614, 3.7121050090663608, 4.55226827550731, 5.582586268862695, 6.846096838574658, 8.395578619995112, 10.295755673125127, 12.626001098748565, 15.48365256585499, 18.988078244652634, 23.285662984981965, 28.55592301990109, 35.019004614317126, 42.944879887892725, 52.66462393484275, 64.58424430196978, 79.20164050192548, 97.12740198471168, 119.11031332830079, 146.06863203649888, 179.1284454622002, 219.67070907932353, 269.388930959017, 330.35991201283395, 405.1304969235378, 496.8239594734388, 609.2704661368674, 747.1670675868082, 916.2739011886731, 1123.6548001387516, 1377.9723598335568, 1689.8497868124587, 2072.3146452190294, 2541.343036702639, 3116.52694492943, 3821.8926206331225, 4686.904192314192, 5747.694424835347, 7048.574036451903, 8643.882620598262, 10600.258488068825, 12999.42224413245, 15941.590374559995, 19549.661430912594, 23974.349678010785, 29400.480643347077, 36054.71154250506, 44214.99907374487, 54222.21006501592, 66494.35996665046, 81544.07395185171, 100000.0], \"xaxis\": \"x\", \"y\": [82.38813122910508, 71.09562555316421, 60.642596002914594, 51.08268850649141, 42.446252207136865, 34.74202971897953, 27.957885498639914, 22.061933066798137, 17.00478343539171, 12.722995233169085, 9.14337073762026, 6.187555713065745, 3.7764076523461907, 1.8337126248599034, 0.28898839566115214, -0.9207296257928879, -1.8500846419684083, -2.5454362642159696, -3.045532106008324, -3.3825771259783064, -3.5834708107256317, -3.6710161235517935, -3.6649576525232144, -3.582769888172442, -3.4401785869785186, -3.251447376535327, -3.0294904024253704, -2.7858786404318017, -2.5307977799505594, -2.2729983061413983, -2.019762082777584, -1.776899044743366, -1.5487824070131424, -1.3384278046412077, -1.1476176641730453, -0.977065869830712, -0.8266110072450289, -0.6954217276932789, -0.5821967886342384, -0.4853450675910271, -0.40313592316098357, -0.33381588403718626, -0.275692377070114, -0.22718837751894963, -0.18687343962809358, -0.15347687978450048, -0.12588839170973123, -0.10315048092644577, -0.08444610732689904, -0.06908399502390036, -0.05648329009953778, -0.04615864105325125, -0.03770633179982143, -0.030791786401107978, -0.025138558395937642, -0.020518788141495367, -0.016745036304943492, -0.013663363028828694, -0.01114750746015138, -0.009094022175310622, -0.007418225330550058, -0.006050846009545697, -0.004935252607875168, -0.004025168593889035, -0.0032827937065479924, -0.0026772611266718477, -0.002183372201321432, -0.0017805598923022535, -0.0014520403348288898, -0.0011841188555117698, -0.0009656226537908387, -0.0007874372436566918, -0.0006421278212785352, -0.0005236300947774336, -0.0004269978961219037, -0.0003481971885614927, -0.00028393796881182124, -0.00023153711137481324, -0.00018880647175284213, -0.00015396160503158303], \"yaxis\": \"y\"}, {\"hovertemplate\": \"variable=s4^2<br>alphas=%{x}<br>value=%{y}<extra></extra>\", \"legendgroup\": \"s4^2\", \"line\": {\"color\": \"#B6E880\", \"dash\": \"solid\"}, \"mode\": \"lines\", \"name\": \"s4^2\", \"showlegend\": true, \"type\": \"scattergl\", \"x\": [0.01, 0.012263306841775632, 0.015038869469554102, 0.018442627085855347, 0.022616759492228647, 0.02773562614198415, 0.03401304938279251, 0.04171124612056518, 0.051151780992931425, 0.06272899858196247, 0.07692649574879142, 0.09433732216299774, 0.1156887528316282, 0.1418726674116596, 0.1739828052930364, 0.21336045265014109, 0.2616504698748821, 0.320869999737045, 0.39349272630958493, 0.48255220427412787, 0.5917685748188825, 0.7257039612324212, 0.8899530352885229, 1.0913767146512738, 1.3383887531737564, 1.6413071953751284, 2.0127853758499383, 2.4683404670686486, 3.0270016537634614, 3.7121050090663608, 4.55226827550731, 5.582586268862695, 6.846096838574658, 8.395578619995112, 10.295755673125127, 12.626001098748565, 15.48365256585499, 18.988078244652634, 23.285662984981965, 28.55592301990109, 35.019004614317126, 42.944879887892725, 52.66462393484275, 64.58424430196978, 79.20164050192548, 97.12740198471168, 119.11031332830079, 146.06863203649888, 179.1284454622002, 219.67070907932353, 269.388930959017, 330.35991201283395, 405.1304969235378, 496.8239594734388, 609.2704661368674, 747.1670675868082, 916.2739011886731, 1123.6548001387516, 1377.9723598335568, 1689.8497868124587, 2072.3146452190294, 2541.343036702639, 3116.52694492943, 3821.8926206331225, 4686.904192314192, 5747.694424835347, 7048.574036451903, 8643.882620598262, 10600.258488068825, 12999.42224413245, 15941.590374559995, 19549.661430912594, 23974.349678010785, 29400.480643347077, 36054.71154250506, 44214.99907374487, 54222.21006501592, 66494.35996665046, 81544.07395185171, 100000.0], \"xaxis\": \"x\", \"y\": [-30.446627473865604, -26.256881083132836, -22.58675569623686, -19.41728838627135, -16.699826747464456, -14.372513312719233, -12.37170474615293, -10.638933904742801, -9.124414919246169, -7.788129144163266, -6.599374052271193, -5.53544658878032, -4.579946211159114, -3.721041659829331, -2.9499367722169194, -2.259676010433085, -1.6443423263612955, -1.0986235047938502, -0.6176677750960005, -0.19712093124192356, 0.1667661136691175, 0.4770550964691062, 0.7361325926458424, 0.9458527340071426, 1.1078101559110491, 1.2237062646849879, 1.2957409573181595, 1.3269449136203442, 1.3213719568439934, 1.2840987359410745, 1.2210238246178118, 1.1385067791077859, 1.0429240842735836, 0.9402319706054013, 0.8356136517042876, 0.733257897341919, 0.6362795790208582, 0.5467627293290859, 0.4658894161612881, 0.3941138818882704, 0.33134722871739297, 0.27712837703813037, 0.23076785776204786, 0.19145975180785574, 0.15836292830533008, 0.13065588586457016, 0.10757066091561879, 0.08841118331040085, 0.07256073922895578, 0.059482256492855975, 0.04871419640107558, 0.03986403336917637, 0.03260066562732403, 0.026646621813979067, 0.021770585753532152, 0.017780526220140907, 0.01451756296294047, 0.011850602040943695, 0.009671714940414454, 0.00789220392848648, 0.006439281269489652, 0.0052532857977825856, 0.00428536251703917, 0.00349553649942793, 0.00285111955145805, 0.0023253957667494856, 0.001896539539260472, 0.001546726507233986, 0.0012614040736578017, 0.0010286935554871322, 0.0008389006710977613, 0.0006841150395562923, 0.000557882709087952, 0.00045493853312849225, 0.00037098754601683583, 0.0003025264264466309, 0.0002466977375965247, 0.00020117095291494414, 0.0001640453627512041, 0.00013377084928721316], \"yaxis\": \"y\"}, {\"hovertemplate\": \"variable=s5^2<br>alphas=%{x}<br>value=%{y}<extra></extra>\", \"legendgroup\": \"s5^2\", \"line\": {\"color\": \"#FF97FF\", \"dash\": \"solid\"}, \"mode\": \"lines\", \"name\": \"s5^2\", \"showlegend\": true, \"type\": \"scattergl\", \"x\": [0.01, 0.012263306841775632, 0.015038869469554102, 0.018442627085855347, 0.022616759492228647, 0.02773562614198415, 0.03401304938279251, 0.04171124612056518, 0.051151780992931425, 0.06272899858196247, 0.07692649574879142, 0.09433732216299774, 0.1156887528316282, 0.1418726674116596, 0.1739828052930364, 0.21336045265014109, 0.2616504698748821, 0.320869999737045, 0.39349272630958493, 0.48255220427412787, 0.5917685748188825, 0.7257039612324212, 0.8899530352885229, 1.0913767146512738, 1.3383887531737564, 1.6413071953751284, 2.0127853758499383, 2.4683404670686486, 3.0270016537634614, 3.7121050090663608, 4.55226827550731, 5.582586268862695, 6.846096838574658, 8.395578619995112, 10.295755673125127, 12.626001098748565, 15.48365256585499, 18.988078244652634, 23.285662984981965, 28.55592301990109, 35.019004614317126, 42.944879887892725, 52.66462393484275, 64.58424430196978, 79.20164050192548, 97.12740198471168, 119.11031332830079, 146.06863203649888, 179.1284454622002, 219.67070907932353, 269.388930959017, 330.35991201283395, 405.1304969235378, 496.8239594734388, 609.2704661368674, 747.1670675868082, 916.2739011886731, 1123.6548001387516, 1377.9723598335568, 1689.8497868124587, 2072.3146452190294, 2541.343036702639, 3116.52694492943, 3821.8926206331225, 4686.904192314192, 5747.694424835347, 7048.574036451903, 8643.882620598262, 10600.258488068825, 12999.42224413245, 15941.590374559995, 19549.661430912594, 23974.349678010785, 29400.480643347077, 36054.71154250506, 44214.99907374487, 54222.21006501592, 66494.35996665046, 81544.07395185171, 100000.0], \"xaxis\": \"x\", \"y\": [-75.84349647024538, -80.15833987294718, -79.98757086917831, -76.60298665670177, -71.07200084030353, -64.26165217510905, -56.849241861099905, -49.33975232733311, -42.088678756764864, -35.32791297708878, -29.19206460195649, -23.74298428548453, -18.990991645998054, -14.912113749667832, -11.461305334249639, -8.582061736523864, -6.2130541684632385, -4.2924677751296665, -2.760670110080352, -1.5617345364746138, -0.6442248190377431, 0.03846651740335281, 0.528032808841829, 0.861307756814847, 1.0704053084422596, 1.182926728726263, 1.2222323088418379, 1.2077746513843282, 1.1554812116586728, 1.078164060615261, 0.9859309678785984, 0.8865758498067376, 0.7859358923902753, 0.6882124615575395, 0.5962592138868912, 0.511842285568445, 0.4358754087050357, 0.3686298023776725, 0.30991676119123784, 0.25924078120756217, 0.2159224509973006, 0.17919231819838308, 0.14825872070935475, 0.12235370393102812, 0.10076154718343612, 0.08283423502219495, 0.06799765551328471, 0.05575159518839746, 0.04566587927116516, 0.03737436300452236, 0.030567952939441756, 0.024987430876138698, 0.02041655531394639, 0.016675706241591624, 0.013616198504978456, 0.011115298685213656, 0.009071925647927553, 0.0074029843757731145, 0.0060402680747909995, 0.004927858980503901, 0.004019959751001743, 0.003279092135971277, 0.0026746060173967693, 0.0021814488488776144, 0.0017791523352513675, 0.0014509995396584303, 0.0011833413121603742, 0.000965035946483834, 0.0007869902998866689, 0.0006417843023756588, 0.0005233638997252224, 0.0004267900898490693, 0.0003480338928858492, 0.00028380890594954604, 0.00023143459144599237, 0.00018872468369345832, 0.00015389611589548602, 0.00012549470543694633, 0.00010233452135879437, 8.344841998701826e-05], \"yaxis\": \"y\"}, {\"hovertemplate\": \"variable=s6^2<br>alphas=%{x}<br>value=%{y}<extra></extra>\", \"legendgroup\": \"s6^2\", \"line\": {\"color\": \"#FECB52\", \"dash\": \"solid\"}, \"mode\": \"lines\", \"name\": \"s6^2\", \"showlegend\": true, \"type\": \"scattergl\", \"x\": [0.01, 0.012263306841775632, 0.015038869469554102, 0.018442627085855347, 0.022616759492228647, 0.02773562614198415, 0.03401304938279251, 0.04171124612056518, 0.051151780992931425, 0.06272899858196247, 0.07692649574879142, 0.09433732216299774, 0.1156887528316282, 0.1418726674116596, 0.1739828052930364, 0.21336045265014109, 0.2616504698748821, 0.320869999737045, 0.39349272630958493, 0.48255220427412787, 0.5917685748188825, 0.7257039612324212, 0.8899530352885229, 1.0913767146512738, 1.3383887531737564, 1.6413071953751284, 2.0127853758499383, 2.4683404670686486, 3.0270016537634614, 3.7121050090663608, 4.55226827550731, 5.582586268862695, 6.846096838574658, 8.395578619995112, 10.295755673125127, 12.626001098748565, 15.48365256585499, 18.988078244652634, 23.285662984981965, 28.55592301990109, 35.019004614317126, 42.944879887892725, 52.66462393484275, 64.58424430196978, 79.20164050192548, 97.12740198471168, 119.11031332830079, 146.06863203649888, 179.1284454622002, 219.67070907932353, 269.388930959017, 330.35991201283395, 405.1304969235378, 496.8239594734388, 609.2704661368674, 747.1670675868082, 916.2739011886731, 1123.6548001387516, 1377.9723598335568, 1689.8497868124587, 2072.3146452190294, 2541.343036702639, 3116.52694492943, 3821.8926206331225, 4686.904192314192, 5747.694424835347, 7048.574036451903, 8643.882620598262, 10600.258488068825, 12999.42224413245, 15941.590374559995, 19549.661430912594, 23974.349678010785, 29400.480643347077, 36054.71154250506, 44214.99907374487, 54222.21006501592, 66494.35996665046, 81544.07395185171, 100000.0], \"xaxis\": \"x\", \"y\": [672.9207223272896, 582.63070024713, 500.21882787514886, 426.2152468525795, 360.7307338377018, 303.53319068321, 254.1377524530934, 211.89545638989256, 176.0705047169348, 145.90130422394506, 120.64449190277207, 99.60368002684625, 82.14583737258555, 67.70845933606574, 55.80037455024615, 45.998500993078956, 37.94229480952002, 31.327127347299733, 25.897413750540185, 21.439999959422668, 17.77808183477548, 14.765767069559859, 12.283286791764596, 10.232809527744985, 8.534793691688185, 7.124821154188213, 5.95086831227731, 4.970980983371424, 4.151321087850926, 3.4645488400287237, 2.8884993578462326, 2.405111308054549, 1.9995681584426448, 1.6596178364541132, 1.3750415386257608, 1.1372457446784878, 0.9389534212825768, 0.7739720678852489, 0.6370186168675619, 0.5235845068431452, 0.4298281207031872, 0.3524855901414339, 0.28879419574947307, 0.23642498668283404, 0.19342281020988636, 0.15815283547772693, 0.12925308293598312, 0.105592617761203, 0.08623507140495787, 0.07040710893968018, 0.05747140988882443, 0.0469036981902411, 0.03827334837394206, 0.031227107483293097, 0.025475500248364556, 0.02078152269544096, 0.016951271773892402, 0.013826201968928552, 0.011276741716885873, 0.009197041211531162, 0.007500658091569646, 0.006117018254076083, 0.0049885157036318635, 0.004068138179512877, 0.0033175246645152146, 0.0027053771710264995, 0.0022061628259430143, 0.0017990536169250726, 0.001467060564733835, 0.0011963268569736012, 0.000975550884402523, 0.0007955153909707653, 0.0006487032771252065, 0.0005289841461587669, 0.0004313585922006524, 0.0003517496096189191, 0.00028683245144819544, 0.0002338958568908623, 0.00019072886919744767, 0.00015552852814167923], \"yaxis\": \"y\"}, {\"hovertemplate\": \"variable=age^3<br>alphas=%{x}<br>value=%{y}<extra></extra>\", \"legendgroup\": \"age^3\", \"line\": {\"color\": \"#636efa\", \"dash\": \"solid\"}, \"mode\": \"lines\", \"name\": \"age^3\", \"showlegend\": true, \"type\": \"scattergl\", \"x\": [0.01, 0.012263306841775632, 0.015038869469554102, 0.018442627085855347, 0.022616759492228647, 0.02773562614198415, 0.03401304938279251, 0.04171124612056518, 0.051151780992931425, 0.06272899858196247, 0.07692649574879142, 0.09433732216299774, 0.1156887528316282, 0.1418726674116596, 0.1739828052930364, 0.21336045265014109, 0.2616504698748821, 0.320869999737045, 0.39349272630958493, 0.48255220427412787, 0.5917685748188825, 0.7257039612324212, 0.8899530352885229, 1.0913767146512738, 1.3383887531737564, 1.6413071953751284, 2.0127853758499383, 2.4683404670686486, 3.0270016537634614, 3.7121050090663608, 4.55226827550731, 5.582586268862695, 6.846096838574658, 8.395578619995112, 10.295755673125127, 12.626001098748565, 15.48365256585499, 18.988078244652634, 23.285662984981965, 28.55592301990109, 35.019004614317126, 42.944879887892725, 52.66462393484275, 64.58424430196978, 79.20164050192548, 97.12740198471168, 119.11031332830079, 146.06863203649888, 179.1284454622002, 219.67070907932353, 269.388930959017, 330.35991201283395, 405.1304969235378, 496.8239594734388, 609.2704661368674, 747.1670675868082, 916.2739011886731, 1123.6548001387516, 1377.9723598335568, 1689.8497868124587, 2072.3146452190294, 2541.343036702639, 3116.52694492943, 3821.8926206331225, 4686.904192314192, 5747.694424835347, 7048.574036451903, 8643.882620598262, 10600.258488068825, 12999.42224413245, 15941.590374559995, 19549.661430912594, 23974.349678010785, 29400.480643347077, 36054.71154250506, 44214.99907374487, 54222.21006501592, 66494.35996665046, 81544.07395185171, 100000.0], \"xaxis\": \"x\", \"y\": [-37.7416416569136, -30.94324591841981, -25.34723048606435, -20.746125555802795, -16.967189224315163, -13.866606345733803, -11.324773375611189, -9.242396785249522, -7.537219380202803, -6.141249928944635, -4.998411119487946, -4.062544783796701, -3.295727034769827, -2.6668536854441927, -2.150460853878374, -1.7257485745663095, -1.3757773063171364, -1.0868088095924937, -0.8477642373834524, -0.6497738396335846, -0.4857950070656084, -0.3502791082805974, -0.23887303163295923, -0.1481481502969587, -0.07535635649281007, -0.01821815175410275, 0.025249880578336825, 0.05686199260784553, 0.07834220911094018, 0.0913581721652216, 0.0975179658371999, 0.09834187129296557, 0.0952226979621753, 0.08938746077303432, 0.08186999713151906, 0.07349958317943239, 0.06490602198487026, 0.056538186210944655, 0.048691186679342024, 0.04153713663313934, 0.03515538326764266, 0.029559460073663057, 0.02471937726560845, 0.02057893388179023, 0.017068421971167373, 0.014113442379039375, 0.01164065617855455, 0.009581251855173827, 0.00787279194663404, 0.006459964529312546, 0.005294633384794424, 0.004335469017811082, 0.0035473545522401225, 0.0029006944996221116, 0.0023707069348481, 0.0019367467012876456, 0.0015816852048689328, 0.0012913580862547486, 0.0010540832132035244, 0.0008602462563179273, 0.0007019483438182478, 0.0005727090593342702, 0.0004672177559960929, 0.0003811264152867652, 0.00031087782430936256, 0.0002535635192343561, 0.00020680664798379794, 0.00016866558541057906, 0.00013755475965228307, 0.00011217970586583724, 9.148385004905306e-05, 7.460494370224285e-05, 6.083942524044955e-05, 4.9613283204360835e-05, 4.0458246605349684e-05, 3.2992336075185224e-05, 2.6903982202407013e-05, 2.1939060156509e-05, 1.7890307334296528e-05, 1.4588687520779836e-05], \"yaxis\": \"y\"}, {\"hovertemplate\": \"variable=sex^3<br>alphas=%{x}<br>value=%{y}<extra></extra>\", \"legendgroup\": \"sex^3\", \"line\": {\"color\": \"#EF553B\", \"dash\": \"solid\"}, \"mode\": \"lines\", \"name\": \"sex^3\", \"showlegend\": true, \"type\": \"scattergl\", \"x\": [0.01, 0.012263306841775632, 0.015038869469554102, 0.018442627085855347, 0.022616759492228647, 0.02773562614198415, 0.03401304938279251, 0.04171124612056518, 0.051151780992931425, 0.06272899858196247, 0.07692649574879142, 0.09433732216299774, 0.1156887528316282, 0.1418726674116596, 0.1739828052930364, 0.21336045265014109, 0.2616504698748821, 0.320869999737045, 0.39349272630958493, 0.48255220427412787, 0.5917685748188825, 0.7257039612324212, 0.8899530352885229, 1.0913767146512738, 1.3383887531737564, 1.6413071953751284, 2.0127853758499383, 2.4683404670686486, 3.0270016537634614, 3.7121050090663608, 4.55226827550731, 5.582586268862695, 6.846096838574658, 8.395578619995112, 10.295755673125127, 12.626001098748565, 15.48365256585499, 18.988078244652634, 23.285662984981965, 28.55592301990109, 35.019004614317126, 42.944879887892725, 52.66462393484275, 64.58424430196978, 79.20164050192548, 97.12740198471168, 119.11031332830079, 146.06863203649888, 179.1284454622002, 219.67070907932353, 269.388930959017, 330.35991201283395, 405.1304969235378, 496.8239594734388, 609.2704661368674, 747.1670675868082, 916.2739011886731, 1123.6548001387516, 1377.9723598335568, 1689.8497868124587, 2072.3146452190294, 2541.343036702639, 3116.52694492943, 3821.8926206331225, 4686.904192314192, 5747.694424835347, 7048.574036451903, 8643.882620598262, 10600.258488068825, 12999.42224413245, 15941.590374559995, 19549.661430912594, 23974.349678010785, 29400.480643347077, 36054.71154250506, 44214.99907374487, 54222.21006501592, 66494.35996665046, 81544.07395185171, 100000.0], \"xaxis\": \"x\", \"y\": [-0.5306940726325847, -0.5296509039858907, -0.5282056742252388, -0.5262711539847746, -0.5237514505554874, -0.5205383757100409, -0.5165076206987881, -0.5115152586146794, -0.5053950975803778, -0.4979574617815951, -0.4889901039809849, -0.4782621377616154, -0.4655320637045913, -0.4505610477942503, -0.43313244080196694, -0.413077919193713, -0.39030941647205, -0.36485416048560704, -0.33688786837523366, -0.30675908772083754, -0.27499675889919384, -0.24229429332369604, -0.20946729496971633, -0.17738794746609665, -0.14690535000449167, -0.11876544017459169, -0.09354481735990554, -0.07160944900618071, -0.05310319045883382, -0.037964456162177904, -0.025964236801663303, -0.016756025312567497, -0.00992812915354257, -0.005050661263920735, -0.0017123177808843972, 0.00045498879159273903, 0.001763113095697401, 0.0024641475576991966, 0.002753563299784915, 0.0027772572526544833, 0.0026402475377335886, 0.002415436949178932, 0.002151510159034276, 0.0018795378005514866, 0.0016182025617073278, 0.0013777586737854244, 0.001162925223727741, 0.0009749345156681537, 0.0008129402316522028, 0.0006749574963099844, 0.0005584707358077648, 0.0004608119254198224, 0.00037938406874837757, 0.000311783008715341, 0.0002558543555868969, 0.00020971046541583475, 0.00017172401077250748, 0.00014050887055195796, 0.00011489511219961527, 9.390220024659102e-05, 7.671283531840576e-05, 6.264871739802224e-05, 5.1148831886514846e-05, 4.175043577446938e-05, 3.40726778951576e-05, 2.780265718984953e-05, 2.2683663338341683e-05, 1.8505326962235942e-05, 1.5095413826290435e-05, 1.231301760633494e-05, 1.0042931786209493e-05, 8.191008853095582e-06, 6.680341761012785e-06, 5.448127352259205e-06, 4.443093497614956e-06, 3.6233909902083125e-06, 2.9548677958557396e-06, 2.4096573399686613e-06, 1.9650243680872377e-06, 1.6024218373224684e-06], \"yaxis\": \"y\"}, {\"hovertemplate\": \"variable=bmi^3<br>alphas=%{x}<br>value=%{y}<extra></extra>\", \"legendgroup\": \"bmi^3\", \"line\": {\"color\": \"#00cc96\", \"dash\": \"solid\"}, \"mode\": \"lines\", \"name\": \"bmi^3\", \"showlegend\": true, \"type\": \"scattergl\", \"x\": [0.01, 0.012263306841775632, 0.015038869469554102, 0.018442627085855347, 0.022616759492228647, 0.02773562614198415, 0.03401304938279251, 0.04171124612056518, 0.051151780992931425, 0.06272899858196247, 0.07692649574879142, 0.09433732216299774, 0.1156887528316282, 0.1418726674116596, 0.1739828052930364, 0.21336045265014109, 0.2616504698748821, 0.320869999737045, 0.39349272630958493, 0.48255220427412787, 0.5917685748188825, 0.7257039612324212, 0.8899530352885229, 1.0913767146512738, 1.3383887531737564, 1.6413071953751284, 2.0127853758499383, 2.4683404670686486, 3.0270016537634614, 3.7121050090663608, 4.55226827550731, 5.582586268862695, 6.846096838574658, 8.395578619995112, 10.295755673125127, 12.626001098748565, 15.48365256585499, 18.988078244652634, 23.285662984981965, 28.55592301990109, 35.019004614317126, 42.944879887892725, 52.66462393484275, 64.58424430196978, 79.20164050192548, 97.12740198471168, 119.11031332830079, 146.06863203649888, 179.1284454622002, 219.67070907932353, 269.388930959017, 330.35991201283395, 405.1304969235378, 496.8239594734388, 609.2704661368674, 747.1670675868082, 916.2739011886731, 1123.6548001387516, 1377.9723598335568, 1689.8497868124587, 2072.3146452190294, 2541.343036702639, 3116.52694492943, 3821.8926206331225, 4686.904192314192, 5747.694424835347, 7048.574036451903, 8643.882620598262, 10600.258488068825, 12999.42224413245, 15941.590374559995, 19549.661430912594, 23974.349678010785, 29400.480643347077, 36054.71154250506, 44214.99907374487, 54222.21006501592, 66494.35996665046, 81544.07395185171, 100000.0], \"xaxis\": \"x\", \"y\": [36.12041550003696, 31.449196876062015, 27.288367068134196, 23.622157657542562, 20.424116879188855, 17.65960234949965, 15.288639990746812, 13.268644666352113, 11.556709392128331, 10.111345384479652, 8.893676429047897, 7.868160262931908, 7.0029387213350756, 6.269921137724663, 5.644693586840184, 5.10632813300107, 4.637146023614597, 4.2224690898057755, 3.8503756633806225, 3.511462179765184, 3.198600871227324, 2.9066794158989198, 2.63231129672874, 2.3735152253995717, 2.12937497845461, 1.8997021953488946, 1.6847292641599045, 1.4848553711671666, 1.3004580630921891, 1.131770025833639, 0.978811127411263, 0.841361703846546, 0.7189640854301877, 0.6109429273873409, 0.5164383329065949, 0.43444760633896895, 0.36387182705534493, 0.30356320321465846, 0.25236923188770416, 0.20917042230325927, 0.17290958567266118, 0.14261207384317615, 0.11739750937349577, 0.09648430803155603, 0.07918863588207907, 0.06491945565419836, 0.053171123812183786, 0.04351471156142995, 0.03558891913485378, 0.029091179307480012, 0.023769323519478313, 0.019414015853153506, 0.015852040988367632, 0.012940453055554853, 0.010561543403222224, 0.008618558146513832, 0.007032084055740634, 0.00573701864636446, 0.004680043474091548, 0.0038175260160884013, 0.0031137834050428853, 0.0025396495819167983, 0.0020712954896354332, 0.0016892593822118748, 0.0013776510017996066, 0.0011234992291748306, 0.000916217861164976, 0.0007471684702483472, 0.0006093029338637749, 0.0004968712664048944, 0.00040518292614776885, 0.0003304118773665687, 0.00026943743181274786, 0.00021971433246003843, 0.0001791667267270097, 0.00014610164953075616, 0.00011913843500011457, 9.71511300728855e-05, 7.922151901132893e-05, 6.46008062482562e-05], \"yaxis\": \"y\"}, {\"hovertemplate\": \"variable=bp^3<br>alphas=%{x}<br>value=%{y}<extra></extra>\", \"legendgroup\": \"bp^3\", \"line\": {\"color\": \"#ab63fa\", \"dash\": \"solid\"}, \"mode\": \"lines\", \"name\": \"bp^3\", \"showlegend\": true, \"type\": \"scattergl\", \"x\": [0.01, 0.012263306841775632, 0.015038869469554102, 0.018442627085855347, 0.022616759492228647, 0.02773562614198415, 0.03401304938279251, 0.04171124612056518, 0.051151780992931425, 0.06272899858196247, 0.07692649574879142, 0.09433732216299774, 0.1156887528316282, 0.1418726674116596, 0.1739828052930364, 0.21336045265014109, 0.2616504698748821, 0.320869999737045, 0.39349272630958493, 0.48255220427412787, 0.5917685748188825, 0.7257039612324212, 0.8899530352885229, 1.0913767146512738, 1.3383887531737564, 1.6413071953751284, 2.0127853758499383, 2.4683404670686486, 3.0270016537634614, 3.7121050090663608, 4.55226827550731, 5.582586268862695, 6.846096838574658, 8.395578619995112, 10.295755673125127, 12.626001098748565, 15.48365256585499, 18.988078244652634, 23.285662984981965, 28.55592301990109, 35.019004614317126, 42.944879887892725, 52.66462393484275, 64.58424430196978, 79.20164050192548, 97.12740198471168, 119.11031332830079, 146.06863203649888, 179.1284454622002, 219.67070907932353, 269.388930959017, 330.35991201283395, 405.1304969235378, 496.8239594734388, 609.2704661368674, 747.1670675868082, 916.2739011886731, 1123.6548001387516, 1377.9723598335568, 1689.8497868124587, 2072.3146452190294, 2541.343036702639, 3116.52694492943, 3821.8926206331225, 4686.904192314192, 5747.694424835347, 7048.574036451903, 8643.882620598262, 10600.258488068825, 12999.42224413245, 15941.590374559995, 19549.661430912594, 23974.349678010785, 29400.480643347077, 36054.71154250506, 44214.99907374487, 54222.21006501592, 66494.35996665046, 81544.07395185171, 100000.0], \"xaxis\": \"x\", \"y\": [20.45037046406625, 17.2798725000675, 14.62922929544533, 12.415812941590335, 10.570192587189656, 9.033645039877596, 7.756284992942575, 6.695642671749188, 5.815551084372076, 5.085244023648948, 4.478600283588939, 3.973495418806153, 3.551239634585218, 3.1960906260431647, 2.89483535113045, 2.636436480680068, 2.4117387902431626, 2.213228864413732, 2.034838905775755, 1.871783019478396, 1.720413038963587, 1.5780816153642352, 1.4430032884609056, 1.3141092026079382, 1.1908968398824729, 1.0732809489739903, 0.9614542333149787, 0.8557656649177072, 0.7566211231747523, 0.664407073235697, 0.5794350191011026, 0.5019034792721877, 0.431874936264943, 0.3692664193709962, 0.3138529308684254, 0.26528240183819185, 0.22309967249196228, 0.18677590844791203, 0.15573948086275394, 0.12940479208035913, 0.1071965696905687, 0.08856838131706561, 0.07301520389784644, 0.060080637468622286, 0.04935975752950254, 0.040498717287491985, 0.03319213932673794, 0.02717916662650334, 0.022238842301874576, 0.018185296813559966, 0.014863060568133095, 0.01214269476960666, 0.009916842209504643, 0.00809673698060908, 0.006609171531372379, 0.00539389514497773, 0.004401404932050447, 0.0035910849859481313, 0.0029296486906515962, 0.0023898413441829224, 0.0019493639466495278, 0.0015899833436220194, 0.0012967983790859838, 0.0010576359852312671, 0.0008625550525391743, 0.0007034394100645715, 0.0005736642868583281, 0.0004678232387410002, 0.0003815047453187502, 0.00031110955314941766, 0.00025370140697625885, 0.00020688511489286575, 0.00016870697460392918, 0.00013757348170593362, 0.000112184977738941, 9.148150194555718e-05, 7.459860854325953e-05, 6.083131967257251e-05, 4.960471875383596e-05, 4.044996285928565e-05], \"yaxis\": \"y\"}, {\"hovertemplate\": \"variable=s1^3<br>alphas=%{x}<br>value=%{y}<extra></extra>\", \"legendgroup\": \"s1^3\", \"line\": {\"color\": \"#FFA15A\", \"dash\": \"solid\"}, \"mode\": \"lines\", \"name\": \"s1^3\", \"showlegend\": true, \"type\": \"scattergl\", \"x\": [0.01, 0.012263306841775632, 0.015038869469554102, 0.018442627085855347, 0.022616759492228647, 0.02773562614198415, 0.03401304938279251, 0.04171124612056518, 0.051151780992931425, 0.06272899858196247, 0.07692649574879142, 0.09433732216299774, 0.1156887528316282, 0.1418726674116596, 0.1739828052930364, 0.21336045265014109, 0.2616504698748821, 0.320869999737045, 0.39349272630958493, 0.48255220427412787, 0.5917685748188825, 0.7257039612324212, 0.8899530352885229, 1.0913767146512738, 1.3383887531737564, 1.6413071953751284, 2.0127853758499383, 2.4683404670686486, 3.0270016537634614, 3.7121050090663608, 4.55226827550731, 5.582586268862695, 6.846096838574658, 8.395578619995112, 10.295755673125127, 12.626001098748565, 15.48365256585499, 18.988078244652634, 23.285662984981965, 28.55592301990109, 35.019004614317126, 42.944879887892725, 52.66462393484275, 64.58424430196978, 79.20164050192548, 97.12740198471168, 119.11031332830079, 146.06863203649888, 179.1284454622002, 219.67070907932353, 269.388930959017, 330.35991201283395, 405.1304969235378, 496.8239594734388, 609.2704661368674, 747.1670675868082, 916.2739011886731, 1123.6548001387516, 1377.9723598335568, 1689.8497868124587, 2072.3146452190294, 2541.343036702639, 3116.52694492943, 3821.8926206331225, 4686.904192314192, 5747.694424835347, 7048.574036451903, 8643.882620598262, 10600.258488068825, 12999.42224413245, 15941.590374559995, 19549.661430912594, 23974.349678010785, 29400.480643347077, 36054.71154250506, 44214.99907374487, 54222.21006501592, 66494.35996665046, 81544.07395185171, 100000.0], \"xaxis\": \"x\", \"y\": [7.376611899298345, 5.568988154101724, 4.178928002952138, 3.1109147164682476, 2.2906212441859073, 1.6605593859127497, 1.176495347600356, 0.8045531826801209, 0.5189062680922779, 0.29995362813520915, 0.13288702483514847, 0.006569006757855152, -0.08734359263002103, -0.15508413025540552, -0.2013123565719855, -0.22953812147856667, -0.2424611437186572, -0.24224819589944055, -0.23076146144489149, -0.20974398114401613, -0.18096083314295863, -0.14628940955104625, -0.10775056538356934, -0.0674758058548097, -0.0276140682470202, 0.009806795902143122, 0.043037606215232255, 0.0707518227343084, 0.09214463268284494, 0.10696573909945464, 0.11548011948663639, 0.1183676780963874, 0.11658518756915884, 0.11121883671752802, 0.10335267915112291, 0.09396967149664526, 0.08389152500614482, 0.07375465559764899, 0.06401400609949458, 0.05496465144801561, 0.04677195965101371, 0.039503363168325714, 0.0331573830283054, 0.027687760871401887, 0.023022125816956875, 0.01907556322907108, 0.0157599007418499, 0.012989650462731058, 0.010685487229274551, 0.008776001622649751, 0.007198304640659368, 0.005897910842253759, 0.0048282018626979095, 0.003949675182426577, 0.0032291113586906876, 0.0026387420512404875, 0.0021554663024557458, 0.0017601394337483198, 0.001436944177057075, 0.001172844671284408, 0.0009571188171466084, 0.000780961853484596, 0.0006371529645748466, 0.0005197766254609632, 0.00042399082881857325, 0.0003458350480070655, 0.00028207161219716894, 0.00023005500243206448, 0.00018762436684410772, 0.00015301527099999734, 0.00012478733434251142, 0.00010176495480387314, 8.298879534345177e-05, 6.767610567843238e-05, 5.518828819934941e-05, 4.500439745738251e-05, 3.6699495677948044e-05, 2.9926979754902304e-05, 2.4404154522585268e-05, 1.9900458344853556e-05], \"yaxis\": \"y\"}, {\"hovertemplate\": \"variable=s2^3<br>alphas=%{x}<br>value=%{y}<extra></extra>\", \"legendgroup\": \"s2^3\", \"line\": {\"color\": \"#19d3f3\", \"dash\": \"solid\"}, \"mode\": \"lines\", \"name\": \"s2^3\", \"showlegend\": true, \"type\": \"scattergl\", \"x\": [0.01, 0.012263306841775632, 0.015038869469554102, 0.018442627085855347, 0.022616759492228647, 0.02773562614198415, 0.03401304938279251, 0.04171124612056518, 0.051151780992931425, 0.06272899858196247, 0.07692649574879142, 0.09433732216299774, 0.1156887528316282, 0.1418726674116596, 0.1739828052930364, 0.21336045265014109, 0.2616504698748821, 0.320869999737045, 0.39349272630958493, 0.48255220427412787, 0.5917685748188825, 0.7257039612324212, 0.8899530352885229, 1.0913767146512738, 1.3383887531737564, 1.6413071953751284, 2.0127853758499383, 2.4683404670686486, 3.0270016537634614, 3.7121050090663608, 4.55226827550731, 5.582586268862695, 6.846096838574658, 8.395578619995112, 10.295755673125127, 12.626001098748565, 15.48365256585499, 18.988078244652634, 23.285662984981965, 28.55592301990109, 35.019004614317126, 42.944879887892725, 52.66462393484275, 64.58424430196978, 79.20164050192548, 97.12740198471168, 119.11031332830079, 146.06863203649888, 179.1284454622002, 219.67070907932353, 269.388930959017, 330.35991201283395, 405.1304969235378, 496.8239594734388, 609.2704661368674, 747.1670675868082, 916.2739011886731, 1123.6548001387516, 1377.9723598335568, 1689.8497868124587, 2072.3146452190294, 2541.343036702639, 3116.52694492943, 3821.8926206331225, 4686.904192314192, 5747.694424835347, 7048.574036451903, 8643.882620598262, 10600.258488068825, 12999.42224413245, 15941.590374559995, 19549.661430912594, 23974.349678010785, 29400.480643347077, 36054.71154250506, 44214.99907374487, 54222.21006501592, 66494.35996665046, 81544.07395185171, 100000.0], \"xaxis\": \"x\", \"y\": [-43.30793511462238, -35.761884524259756, -29.534695177967347, -24.40928601829951, -20.199593833849974, -16.747348065440082, -13.918960833226416, -11.60249158174971, -9.70472480171545, -8.148429603193605, -6.869865069045994, -5.816572915816393, -4.945473059888504, -4.221256056323015, -3.6150515351846835, -3.1033430136106603, -2.667094912369168, -2.2910554042750153, -1.9631976685503718, -1.6742618549281059, -1.417361012768287, -1.1876174659743002, -0.9818028653150235, -0.7979661739918602, -0.635048534048857, -0.4924998121360235, -0.3699245386884454, -0.2667906315633204, -0.1822301460709498, -0.11494789853696472, -0.06323503647511398, -0.025066269826769655, 0.0017529536241872184, 0.019426379808788006, 0.030025449557935267, 0.035386382236252616, 0.037052892593600825, 0.03626089715984585, 0.033955150625253165, 0.03082570872567433, 0.027353266863844067, 0.023855206449394897, 0.02052728348148775, 0.017478526566518254, 0.014758772218288809, 0.012379373188177967, 0.010328139618750594, 0.00857971211587338, 0.007102488860031548, 0.005863054547801635, 0.00482886010123817, 0.003969717107866483, 0.003258515972304361, 0.0026714551611528746, 0.0021879778178966838, 0.0017905461204786152, 0.0014643374222823784, 0.0011969144457706746, 0.0009779005153059198, 0.00079867689681049, 0.0006521104510232472, 0.0005323143516002307, 0.0004344414117878735, 0.00035450780875177947, 0.0002892441559714561, 0.00023597059480429388, 0.00019249262354205, 0.00015701460689543996, 0.0001280682175352698, 0.00010445339748664552, 8.518975798169736e-05, 6.947664411209923e-05, 5.6660366975433294e-05, 4.620734834225004e-05, 3.7682131818271145e-05, 3.072939242604798e-05, 2.5059226682278422e-05, 2.0435131048623488e-05, 1.666418145699225e-05, 1.3589013578563177e-05], \"yaxis\": \"y\"}, {\"hovertemplate\": \"variable=s3^3<br>alphas=%{x}<br>value=%{y}<extra></extra>\", \"legendgroup\": \"s3^3\", \"line\": {\"color\": \"#FF6692\", \"dash\": \"solid\"}, \"mode\": \"lines\", \"name\": \"s3^3\", \"showlegend\": true, \"type\": \"scattergl\", \"x\": [0.01, 0.012263306841775632, 0.015038869469554102, 0.018442627085855347, 0.022616759492228647, 0.02773562614198415, 0.03401304938279251, 0.04171124612056518, 0.051151780992931425, 0.06272899858196247, 0.07692649574879142, 0.09433732216299774, 0.1156887528316282, 0.1418726674116596, 0.1739828052930364, 0.21336045265014109, 0.2616504698748821, 0.320869999737045, 0.39349272630958493, 0.48255220427412787, 0.5917685748188825, 0.7257039612324212, 0.8899530352885229, 1.0913767146512738, 1.3383887531737564, 1.6413071953751284, 2.0127853758499383, 2.4683404670686486, 3.0270016537634614, 3.7121050090663608, 4.55226827550731, 5.582586268862695, 6.846096838574658, 8.395578619995112, 10.295755673125127, 12.626001098748565, 15.48365256585499, 18.988078244652634, 23.285662984981965, 28.55592301990109, 35.019004614317126, 42.944879887892725, 52.66462393484275, 64.58424430196978, 79.20164050192548, 97.12740198471168, 119.11031332830079, 146.06863203649888, 179.1284454622002, 219.67070907932353, 269.388930959017, 330.35991201283395, 405.1304969235378, 496.8239594734388, 609.2704661368674, 747.1670675868082, 916.2739011886731, 1123.6548001387516, 1377.9723598335568, 1689.8497868124587, 2072.3146452190294, 2541.343036702639, 3116.52694492943, 3821.8926206331225, 4686.904192314192, 5747.694424835347, 7048.574036451903, 8643.882620598262, 10600.258488068825, 12999.42224413245, 15941.590374559995, 19549.661430912594, 23974.349678010785, 29400.480643347077, 36054.71154250506, 44214.99907374487, 54222.21006501592, 66494.35996665046, 81544.07395185171, 100000.0], \"xaxis\": \"x\", \"y\": [21.132720011366644, 17.8295591281452, 14.927356726406654, 12.389419327529835, 10.182219322836028, 8.274539527646125, 6.636866883379053, 5.241039179094647, 4.060131448275998, 3.0685344142906956, 2.2421535431640613, 1.558652898778975, 0.9976794036118001, 0.541022342288954, 0.17268336113705346, -0.12114988471364116, -0.3522193369393312, -0.5303845729778207, -0.6638607645956742, -0.7594819605487212, -0.8229661263446905, -0.8591619453135834, -0.872262770306651, -0.8659793254028063, -0.8436686429899577, -0.8084213085442947, -0.7631119217209684, -0.7104189507726552, -0.6528204974083999, -0.5925726550063056, -0.5316776258603886, -0.4718494982728944, -0.41448592842669507, -0.36065308720886496, -0.31108870910597985, -0.2662243426370242, -0.22622404924850278, -0.19103400362690143, -0.16043636992200044, -0.13410140103709148, -0.11163335065697869, -0.09260777788918506, -0.07659959794744997, -0.06320249966099735, -0.052041064647088235, -0.04277718188886681, -0.03511230465312925, -0.028786884140268428, -0.023578040040076954, -0.019296256997587705, -0.015781660852259932, -0.012900241016014766, -0.010540244824278533, -0.008608869628436875, -0.007029310456049176, -0.005738177190617281, -0.004683268574404181, -0.0038216755356344145, -0.0031181793730804272, -0.0025439083237899056, -0.002075217006173308, -0.0016927558392284315, -0.001380700926133757, -0.001126118518370361, -0.0009184417257484151, -0.0007490404331586212, -0.0006108683435297294, -0.0004981736620833365, -0.0004062621766024207, -0.00033130339728998696, -0.00027017203167528794, -0.00022031842142558757, -0.00017966269463708082, -0.00014650832245764286, -0.00011947154257212037, -9.742375031232394e-05, -7.944448348687426e-05, -6.478305866339208e-05, -5.282727078058673e-05, -4.307785819703029e-05], \"yaxis\": \"y\"}, {\"hovertemplate\": \"variable=s4^3<br>alphas=%{x}<br>value=%{y}<extra></extra>\", \"legendgroup\": \"s4^3\", \"line\": {\"color\": \"#B6E880\", \"dash\": \"solid\"}, \"mode\": \"lines\", \"name\": \"s4^3\", \"showlegend\": true, \"type\": \"scattergl\", \"x\": [0.01, 0.012263306841775632, 0.015038869469554102, 0.018442627085855347, 0.022616759492228647, 0.02773562614198415, 0.03401304938279251, 0.04171124612056518, 0.051151780992931425, 0.06272899858196247, 0.07692649574879142, 0.09433732216299774, 0.1156887528316282, 0.1418726674116596, 0.1739828052930364, 0.21336045265014109, 0.2616504698748821, 0.320869999737045, 0.39349272630958493, 0.48255220427412787, 0.5917685748188825, 0.7257039612324212, 0.8899530352885229, 1.0913767146512738, 1.3383887531737564, 1.6413071953751284, 2.0127853758499383, 2.4683404670686486, 3.0270016537634614, 3.7121050090663608, 4.55226827550731, 5.582586268862695, 6.846096838574658, 8.395578619995112, 10.295755673125127, 12.626001098748565, 15.48365256585499, 18.988078244652634, 23.285662984981965, 28.55592301990109, 35.019004614317126, 42.944879887892725, 52.66462393484275, 64.58424430196978, 79.20164050192548, 97.12740198471168, 119.11031332830079, 146.06863203649888, 179.1284454622002, 219.67070907932353, 269.388930959017, 330.35991201283395, 405.1304969235378, 496.8239594734388, 609.2704661368674, 747.1670675868082, 916.2739011886731, 1123.6548001387516, 1377.9723598335568, 1689.8497868124587, 2072.3146452190294, 2541.343036702639, 3116.52694492943, 3821.8926206331225, 4686.904192314192, 5747.694424835347, 7048.574036451903, 8643.882620598262, 10600.258488068825, 12999.42224413245, 15941.590374559995, 19549.661430912594, 23974.349678010785, 29400.480643347077, 36054.71154250506, 44214.99907374487, 54222.21006501592, 66494.35996665046, 81544.07395185171, 100000.0], \"xaxis\": \"x\", \"y\": [-32.871811518425005, -27.020485784719124, -22.17354121292273, -18.166346795515675, -14.858274082472356, -12.129973891673465, -9.880874815978371, -8.026822423398738, -6.497854442351612, -5.236136238645247, -4.194082181041685, -3.332678993303781, -2.620016869025306, -2.0300263094295308, -1.5414128012522437, -1.1367761749847964, -0.8018962530720741, -0.5251617985330086, -0.29711676615352395, -0.11009699801624051, 0.04206828008514596, 0.16431289018783848, 0.26056638959265255, 0.3339753702831407, 0.3871181664393963, 0.4222092846791333, 0.4412821633787601, 0.44633431051955974, 0.43941952579116283, 0.42267837504897504, 0.3983088290854804, 0.36849065067637493, 0.3352857495508651, 0.30053940437546917, 0.26580337095424456, 0.2322933353925656, 0.20088324533931542, 0.17213091477983689, 0.1463247250900803, 0.12354034913775812, 0.10369816296825336, 0.08661497270125154, 0.0720467063531053, 0.05972112743645589, 0.0493612023175845, 0.04070057243613256, 0.033492847555896495, 0.027516361468845913, 0.02257578857143426, 0.018501723454489884, 0.015149041723704515, 0.012394619088673873, 0.010134796007071095, 0.008282834001323253, 0.006766509404100508, 0.005525921803182242, 0.0045115496180786726, 0.003682557250868628, 0.0030053418560653257, 0.00245229909132976, 0.0020007834827813213, 0.0016322383596645356, 0.0013314714029528062, 0.0010860538747857747, 0.0008858240210520824, 0.0007224776458353099, 0.0005892312585807122, 0.0004805453956303497, 0.0003918976753344565, 0.00031959685168400637, 0.00026063059572989134, 0.0002125409772533446, 0.00017332266575752472, 0.0001413397452360667, 0.00011525776564243629, 9.398825777199478e-05, 7.664343713119053e-05, 6.249923349789448e-05, 5.096512101700251e-05, 4.155950133173319e-05], \"yaxis\": \"y\"}, {\"hovertemplate\": \"variable=s5^3<br>alphas=%{x}<br>value=%{y}<extra></extra>\", \"legendgroup\": \"s5^3\", \"line\": {\"color\": \"#FF97FF\", \"dash\": \"solid\"}, \"mode\": \"lines\", \"name\": \"s5^3\", \"showlegend\": true, \"type\": \"scattergl\", \"x\": [0.01, 0.012263306841775632, 0.015038869469554102, 0.018442627085855347, 0.022616759492228647, 0.02773562614198415, 0.03401304938279251, 0.04171124612056518, 0.051151780992931425, 0.06272899858196247, 0.07692649574879142, 0.09433732216299774, 0.1156887528316282, 0.1418726674116596, 0.1739828052930364, 0.21336045265014109, 0.2616504698748821, 0.320869999737045, 0.39349272630958493, 0.48255220427412787, 0.5917685748188825, 0.7257039612324212, 0.8899530352885229, 1.0913767146512738, 1.3383887531737564, 1.6413071953751284, 2.0127853758499383, 2.4683404670686486, 3.0270016537634614, 3.7121050090663608, 4.55226827550731, 5.582586268862695, 6.846096838574658, 8.395578619995112, 10.295755673125127, 12.626001098748565, 15.48365256585499, 18.988078244652634, 23.285662984981965, 28.55592301990109, 35.019004614317126, 42.944879887892725, 52.66462393484275, 64.58424430196978, 79.20164050192548, 97.12740198471168, 119.11031332830079, 146.06863203649888, 179.1284454622002, 219.67070907932353, 269.388930959017, 330.35991201283395, 405.1304969235378, 496.8239594734388, 609.2704661368674, 747.1670675868082, 916.2739011886731, 1123.6548001387516, 1377.9723598335568, 1689.8497868124587, 2072.3146452190294, 2541.343036702639, 3116.52694492943, 3821.8926206331225, 4686.904192314192, 5747.694424835347, 7048.574036451903, 8643.882620598262, 10600.258488068825, 12999.42224413245, 15941.590374559995, 19549.661430912594, 23974.349678010785, 29400.480643347077, 36054.71154250506, 44214.99907374487, 54222.21006501592, 66494.35996665046, 81544.07395185171, 100000.0], \"xaxis\": \"x\", \"y\": [-72.93980309416555, -60.10246565544404, -49.376717612066436, -40.422215806665555, -32.95448930536736, -26.735448286372858, -21.565361712445288, -17.276256527998104, -13.726583343585084, -10.796935412648866, -8.386595727211892, -6.410709296979586, -4.797918251987671, -3.488342070047456, -2.4318246474232597, -1.586400076942836, -0.9169496338491002, -0.39403514491036923, 0.007099548580050103, 0.307365504337411, 0.5245122679356532, 0.6736708347880002, 0.767774267287711, 0.8178792880146099, 0.8334148462390756, 0.8223825754644758, 0.7915288983554511, 0.7465004948950076, 0.6919864896531068, 0.6318449382139071, 0.569209801880647, 0.5065772975446085, 0.44587508065683845, 0.38852132309154647, 0.3354814870749864, 0.28732835900303805, 0.24430706582340195, 0.20640316952994597, 0.17340979112842644, 0.1449893680746614, 0.12072665243372241, 0.10017116768631333, 0.08286891447907524, 0.06838427997049518, 0.056313759924210983, 0.04629331684524723, 0.0380011097615503, 0.03115707983194499, 0.02552056619860357, 0.020886824692041197, 0.017083061904847905, 0.013964390333230936, 0.011409955443590225, 0.009319375273247513, 0.007609558262796749, 0.006211916562520174, 0.005069962536607595, 0.004137259699074727, 0.0033756914504106004, 0.002754008590744931, 0.0022466174813507377, 0.0018325734482339292, 0.0014947476197299456, 0.0012191392710158054, 0.0009943095594728746, 0.0008109160814382797, 0.00066133086983061, 0.0005393272527136555, 0.00043982341118289155, 0.000358672537290561, 0.00029249123494892466, 0.00023851926791463432, 0.0001945049775009348, 0.00015861170437477968, 0.000129341385833901, 0.00010547219054643796, 8.600762122176095e-05, 7.013498281346412e-05, 5.719149714854791e-05, 4.6636659010272295e-05], \"yaxis\": \"y\"}, {\"hovertemplate\": \"variable=s6^3<br>alphas=%{x}<br>value=%{y}<extra></extra>\", \"legendgroup\": \"s6^3\", \"line\": {\"color\": \"#FECB52\", \"dash\": \"solid\"}, \"mode\": \"lines\", \"name\": \"s6^3\", \"showlegend\": true, \"type\": \"scattergl\", \"x\": [0.01, 0.012263306841775632, 0.015038869469554102, 0.018442627085855347, 0.022616759492228647, 0.02773562614198415, 0.03401304938279251, 0.04171124612056518, 0.051151780992931425, 0.06272899858196247, 0.07692649574879142, 0.09433732216299774, 0.1156887528316282, 0.1418726674116596, 0.1739828052930364, 0.21336045265014109, 0.2616504698748821, 0.320869999737045, 0.39349272630958493, 0.48255220427412787, 0.5917685748188825, 0.7257039612324212, 0.8899530352885229, 1.0913767146512738, 1.3383887531737564, 1.6413071953751284, 2.0127853758499383, 2.4683404670686486, 3.0270016537634614, 3.7121050090663608, 4.55226827550731, 5.582586268862695, 6.846096838574658, 8.395578619995112, 10.295755673125127, 12.626001098748565, 15.48365256585499, 18.988078244652634, 23.285662984981965, 28.55592301990109, 35.019004614317126, 42.944879887892725, 52.66462393484275, 64.58424430196978, 79.20164050192548, 97.12740198471168, 119.11031332830079, 146.06863203649888, 179.1284454622002, 219.67070907932353, 269.388930959017, 330.35991201283395, 405.1304969235378, 496.8239594734388, 609.2704661368674, 747.1670675868082, 916.2739011886731, 1123.6548001387516, 1377.9723598335568, 1689.8497868124587, 2072.3146452190294, 2541.343036702639, 3116.52694492943, 3821.8926206331225, 4686.904192314192, 5747.694424835347, 7048.574036451903, 8643.882620598262, 10600.258488068825, 12999.42224413245, 15941.590374559995, 19549.661430912594, 23974.349678010785, 29400.480643347077, 36054.71154250506, 44214.99907374487, 54222.21006501592, 66494.35996665046, 81544.07395185171, 100000.0], \"xaxis\": \"x\", \"y\": [10.671495710799478, 9.308570958793128, 8.062310875121177, 6.944700005154521, 5.9593212409341545, 5.103258941561074, 4.3690355037828486, 3.7463563771404718, 3.223532779825534, 2.788538793776781, 2.4297225844468384, 2.1362266549004953, 1.8981845804164807, 1.706759994144617, 1.5540853446743397, 1.4331481913481985, 1.3376637795381325, 1.2619643297047027, 1.200926625086695, 1.1499488433635627, 1.1049751120688411, 1.0625538216894892, 1.0199066039420415, 0.9749822305830258, 0.9264745483811332, 0.8737938757479357, 0.8169927821109875, 0.7566557141116176, 0.6937656644482685, 0.6295609195746555, 0.5653932369840532, 0.5025974277791898, 0.4423814551011808, 0.38574475934157043, 0.33342959043021203, 0.28590573708187633, 0.24338435382282234, 0.20585306397253633, 0.17312307134616156, 0.14487965196674005, 0.12072943942368292, 0.10024046749037006, 0.0829732681642227, 0.06850305464874067, 0.05643406445059286, 0.04640760360397147, 0.038105396516560704, 0.03124967873337431, 0.025601202831649204, 0.020956044491428856, 0.017141841469607875, 0.014013890953231594, 0.011451372982269479, 0.009353853828411194, 0.007638145002925147, 0.006235542378469929, 0.005089438272236309, 0.004153281274089348, 0.003388849604346664, 0.0027648005938232787, 0.0022554592225005514, 0.0018398109991564257, 0.0015006678101397402, 0.0012239790794233527, 0.0009982642840980116, 0.0008141463460857541, 0.0006639685657378909, 0.000541480536522879, 0.0004415808823273714, 0.0003601067122671948, 0.00029366142558444585, 0.00023947395852152978, 0.00019528378334555062, 0.00015924698202899318, 0.00012985955519668034, 0.00010589481877930618, 8.635231056259141e-05, 7.04160971494484e-05, 5.7420756231771e-05, 4.682362416154492e-05], \"yaxis\": \"y\"}],                        {\"legend\": {\"title\": {\"text\": \"variable\"}, \"tracegroupgap\": 0}, \"margin\": {\"t\": 60}, \"template\": {\"data\": {\"bar\": [{\"error_x\": {\"color\": \"#2a3f5f\"}, \"error_y\": {\"color\": \"#2a3f5f\"}, \"marker\": {\"line\": {\"color\": \"#E5ECF6\", \"width\": 0.5}}, \"type\": \"bar\"}], \"barpolar\": [{\"marker\": {\"line\": {\"color\": \"#E5ECF6\", \"width\": 0.5}}, \"type\": \"barpolar\"}], \"carpet\": [{\"aaxis\": {\"endlinecolor\": \"#2a3f5f\", \"gridcolor\": \"white\", \"linecolor\": \"white\", \"minorgridcolor\": \"white\", \"startlinecolor\": \"#2a3f5f\"}, \"baxis\": {\"endlinecolor\": \"#2a3f5f\", \"gridcolor\": \"white\", \"linecolor\": \"white\", \"minorgridcolor\": \"white\", \"startlinecolor\": \"#2a3f5f\"}, \"type\": \"carpet\"}], \"choropleth\": [{\"colorbar\": {\"outlinewidth\": 0, \"ticks\": \"\"}, \"type\": \"choropleth\"}], \"contour\": [{\"colorbar\": {\"outlinewidth\": 0, \"ticks\": \"\"}, \"colorscale\": [[0.0, \"#0d0887\"], [0.1111111111111111, \"#46039f\"], [0.2222222222222222, \"#7201a8\"], [0.3333333333333333, \"#9c179e\"], [0.4444444444444444, \"#bd3786\"], [0.5555555555555556, \"#d8576b\"], [0.6666666666666666, \"#ed7953\"], [0.7777777777777778, \"#fb9f3a\"], [0.8888888888888888, \"#fdca26\"], [1.0, \"#f0f921\"]], \"type\": \"contour\"}], \"contourcarpet\": [{\"colorbar\": {\"outlinewidth\": 0, \"ticks\": \"\"}, \"type\": \"contourcarpet\"}], \"heatmap\": [{\"colorbar\": {\"outlinewidth\": 0, \"ticks\": \"\"}, \"colorscale\": [[0.0, \"#0d0887\"], [0.1111111111111111, \"#46039f\"], [0.2222222222222222, \"#7201a8\"], [0.3333333333333333, \"#9c179e\"], [0.4444444444444444, \"#bd3786\"], [0.5555555555555556, \"#d8576b\"], [0.6666666666666666, \"#ed7953\"], [0.7777777777777778, \"#fb9f3a\"], [0.8888888888888888, \"#fdca26\"], [1.0, \"#f0f921\"]], \"type\": \"heatmap\"}], \"heatmapgl\": [{\"colorbar\": {\"outlinewidth\": 0, \"ticks\": \"\"}, \"colorscale\": [[0.0, \"#0d0887\"], [0.1111111111111111, \"#46039f\"], [0.2222222222222222, \"#7201a8\"], [0.3333333333333333, \"#9c179e\"], [0.4444444444444444, \"#bd3786\"], [0.5555555555555556, \"#d8576b\"], [0.6666666666666666, \"#ed7953\"], [0.7777777777777778, \"#fb9f3a\"], [0.8888888888888888, \"#fdca26\"], [1.0, \"#f0f921\"]], \"type\": \"heatmapgl\"}], \"histogram\": [{\"marker\": {\"colorbar\": {\"outlinewidth\": 0, \"ticks\": \"\"}}, \"type\": \"histogram\"}], \"histogram2d\": [{\"colorbar\": {\"outlinewidth\": 0, \"ticks\": \"\"}, \"colorscale\": [[0.0, \"#0d0887\"], [0.1111111111111111, \"#46039f\"], [0.2222222222222222, \"#7201a8\"], [0.3333333333333333, \"#9c179e\"], [0.4444444444444444, \"#bd3786\"], [0.5555555555555556, \"#d8576b\"], [0.6666666666666666, \"#ed7953\"], [0.7777777777777778, \"#fb9f3a\"], [0.8888888888888888, \"#fdca26\"], [1.0, \"#f0f921\"]], \"type\": \"histogram2d\"}], \"histogram2dcontour\": [{\"colorbar\": {\"outlinewidth\": 0, \"ticks\": \"\"}, \"colorscale\": [[0.0, \"#0d0887\"], [0.1111111111111111, \"#46039f\"], [0.2222222222222222, \"#7201a8\"], [0.3333333333333333, \"#9c179e\"], [0.4444444444444444, \"#bd3786\"], [0.5555555555555556, \"#d8576b\"], [0.6666666666666666, \"#ed7953\"], [0.7777777777777778, \"#fb9f3a\"], [0.8888888888888888, \"#fdca26\"], [1.0, \"#f0f921\"]], \"type\": \"histogram2dcontour\"}], \"mesh3d\": [{\"colorbar\": {\"outlinewidth\": 0, \"ticks\": \"\"}, \"type\": \"mesh3d\"}], \"parcoords\": [{\"line\": {\"colorbar\": {\"outlinewidth\": 0, \"ticks\": \"\"}}, \"type\": \"parcoords\"}], \"pie\": [{\"automargin\": true, \"type\": \"pie\"}], \"scatter\": [{\"marker\": {\"colorbar\": {\"outlinewidth\": 0, \"ticks\": \"\"}}, \"type\": \"scatter\"}], \"scatter3d\": [{\"line\": {\"colorbar\": {\"outlinewidth\": 0, \"ticks\": \"\"}}, \"marker\": {\"colorbar\": {\"outlinewidth\": 0, \"ticks\": \"\"}}, \"type\": \"scatter3d\"}], \"scattercarpet\": [{\"marker\": {\"colorbar\": {\"outlinewidth\": 0, \"ticks\": \"\"}}, \"type\": \"scattercarpet\"}], \"scattergeo\": [{\"marker\": {\"colorbar\": {\"outlinewidth\": 0, \"ticks\": \"\"}}, \"type\": \"scattergeo\"}], \"scattergl\": [{\"marker\": {\"colorbar\": {\"outlinewidth\": 0, \"ticks\": \"\"}}, \"type\": \"scattergl\"}], \"scattermapbox\": [{\"marker\": {\"colorbar\": {\"outlinewidth\": 0, \"ticks\": \"\"}}, \"type\": \"scattermapbox\"}], \"scatterpolar\": [{\"marker\": {\"colorbar\": {\"outlinewidth\": 0, \"ticks\": \"\"}}, \"type\": \"scatterpolar\"}], \"scatterpolargl\": [{\"marker\": {\"colorbar\": {\"outlinewidth\": 0, \"ticks\": \"\"}}, \"type\": \"scatterpolargl\"}], \"scatterternary\": [{\"marker\": {\"colorbar\": {\"outlinewidth\": 0, \"ticks\": \"\"}}, \"type\": \"scatterternary\"}], \"surface\": [{\"colorbar\": {\"outlinewidth\": 0, \"ticks\": \"\"}, \"colorscale\": [[0.0, \"#0d0887\"], [0.1111111111111111, \"#46039f\"], [0.2222222222222222, \"#7201a8\"], [0.3333333333333333, \"#9c179e\"], [0.4444444444444444, \"#bd3786\"], [0.5555555555555556, \"#d8576b\"], [0.6666666666666666, \"#ed7953\"], [0.7777777777777778, \"#fb9f3a\"], [0.8888888888888888, \"#fdca26\"], [1.0, \"#f0f921\"]], \"type\": \"surface\"}], \"table\": [{\"cells\": {\"fill\": {\"color\": \"#EBF0F8\"}, \"line\": {\"color\": \"white\"}}, \"header\": {\"fill\": {\"color\": \"#C8D4E3\"}, \"line\": {\"color\": \"white\"}}, \"type\": \"table\"}]}, \"layout\": {\"annotationdefaults\": {\"arrowcolor\": \"#2a3f5f\", \"arrowhead\": 0, \"arrowwidth\": 1}, \"coloraxis\": {\"colorbar\": {\"outlinewidth\": 0, \"ticks\": \"\"}}, \"colorscale\": {\"diverging\": [[0, \"#8e0152\"], [0.1, \"#c51b7d\"], [0.2, \"#de77ae\"], [0.3, \"#f1b6da\"], [0.4, \"#fde0ef\"], [0.5, \"#f7f7f7\"], [0.6, \"#e6f5d0\"], [0.7, \"#b8e186\"], [0.8, \"#7fbc41\"], [0.9, \"#4d9221\"], [1, \"#276419\"]], \"sequential\": [[0.0, \"#0d0887\"], [0.1111111111111111, \"#46039f\"], [0.2222222222222222, \"#7201a8\"], [0.3333333333333333, \"#9c179e\"], [0.4444444444444444, \"#bd3786\"], [0.5555555555555556, \"#d8576b\"], [0.6666666666666666, \"#ed7953\"], [0.7777777777777778, \"#fb9f3a\"], [0.8888888888888888, \"#fdca26\"], [1.0, \"#f0f921\"]], \"sequentialminus\": [[0.0, \"#0d0887\"], [0.1111111111111111, \"#46039f\"], [0.2222222222222222, \"#7201a8\"], [0.3333333333333333, \"#9c179e\"], [0.4444444444444444, \"#bd3786\"], [0.5555555555555556, \"#d8576b\"], [0.6666666666666666, \"#ed7953\"], [0.7777777777777778, \"#fb9f3a\"], [0.8888888888888888, \"#fdca26\"], [1.0, \"#f0f921\"]]}, \"colorway\": [\"#636efa\", \"#EF553B\", \"#00cc96\", \"#ab63fa\", \"#FFA15A\", \"#19d3f3\", \"#FF6692\", \"#B6E880\", \"#FF97FF\", \"#FECB52\"], \"font\": {\"color\": \"#2a3f5f\"}, \"geo\": {\"bgcolor\": \"white\", \"lakecolor\": \"white\", \"landcolor\": \"#E5ECF6\", \"showlakes\": true, \"showland\": true, \"subunitcolor\": \"white\"}, \"hoverlabel\": {\"align\": \"left\"}, \"hovermode\": \"closest\", \"mapbox\": {\"style\": \"light\"}, \"paper_bgcolor\": \"white\", \"plot_bgcolor\": \"#E5ECF6\", \"polar\": {\"angularaxis\": {\"gridcolor\": \"white\", \"linecolor\": \"white\", \"ticks\": \"\"}, \"bgcolor\": \"#E5ECF6\", \"radialaxis\": {\"gridcolor\": \"white\", \"linecolor\": \"white\", \"ticks\": \"\"}}, \"scene\": {\"xaxis\": {\"backgroundcolor\": \"#E5ECF6\", \"gridcolor\": \"white\", \"gridwidth\": 2, \"linecolor\": \"white\", \"showbackground\": true, \"ticks\": \"\", \"zerolinecolor\": \"white\"}, \"yaxis\": {\"backgroundcolor\": \"#E5ECF6\", \"gridcolor\": \"white\", \"gridwidth\": 2, \"linecolor\": \"white\", \"showbackground\": true, \"ticks\": \"\", \"zerolinecolor\": \"white\"}, \"zaxis\": {\"backgroundcolor\": \"#E5ECF6\", \"gridcolor\": \"white\", \"gridwidth\": 2, \"linecolor\": \"white\", \"showbackground\": true, \"ticks\": \"\", \"zerolinecolor\": \"white\"}}, \"shapedefaults\": {\"line\": {\"color\": \"#2a3f5f\"}}, \"ternary\": {\"aaxis\": {\"gridcolor\": \"white\", \"linecolor\": \"white\", \"ticks\": \"\"}, \"baxis\": {\"gridcolor\": \"white\", \"linecolor\": \"white\", \"ticks\": \"\"}, \"bgcolor\": \"#E5ECF6\", \"caxis\": {\"gridcolor\": \"white\", \"linecolor\": \"white\", \"ticks\": \"\"}}, \"title\": {\"x\": 0.05}, \"xaxis\": {\"automargin\": true, \"gridcolor\": \"white\", \"linecolor\": \"white\", \"ticks\": \"\", \"title\": {\"standoff\": 15}, \"zerolinecolor\": \"white\", \"zerolinewidth\": 2}, \"yaxis\": {\"automargin\": true, \"gridcolor\": \"white\", \"linecolor\": \"white\", \"ticks\": \"\", \"title\": {\"standoff\": 15}, \"zerolinecolor\": \"white\", \"zerolinewidth\": 2}}}, \"xaxis\": {\"anchor\": \"y\", \"domain\": [0.0, 1.0], \"title\": {\"text\": \"alphas\"}, \"type\": \"log\"}, \"yaxis\": {\"anchor\": \"x\", \"domain\": [0.0, 1.0], \"title\": {\"text\": \"value\"}}},                        {\"responsive\": true}                    ).then(function(){\n                            \nvar gd = document.getElementById('4017f1ca-d504-4f9a-8753-364e1ef41fc6');\nvar x = new MutationObserver(function (mutations, observer) {{\n        var display = window.getComputedStyle(gd).display;\n        if (!display || display === 'none') {{\n            console.log([gd, 'removed!']);\n            Plotly.purge(gd);\n            observer.disconnect();\n        }}\n}});\n\n// Listen for the removal of the full notebook cells\nvar notebookContainer = gd.closest('#notebook-container');\nif (notebookContainer) {{\n    x.observe(notebookContainer, {childList: true});\n}}\n\n// Listen for the clearing of the current output cell\nvar outputEl = gd.closest('.output');\nif (outputEl) {{\n    x.observe(outputEl, {childList: true});\n}}\n\n                        })                };                });            </script>        </div>"
     },
     "metadata": {}
    }
   ],
   "source": [
    "coefs = []\n",
    "for a in alphas:\n",
    "    ridge = Ridge(alpha=a)\n",
    "    ridge.fit(original_X_3, original_y)\n",
    "    coefs.append(ridge.coef_)\n",
    "\n",
    "features = original_X_3.columns\n",
    "\n",
    "df_coefs = pd.DataFrame(coefs, columns=features)\n",
    "df_coefs['alphas'] = alphas\n",
    "fig = px.line(df_coefs, x='alphas', y=features)\n",
    "fig.update_xaxes(type='log').show()"
   ]
  },
  {
   "source": [
    "## Fit Polynomial Ridge Regression"
   ],
   "cell_type": "markdown",
   "metadata": {}
  },
  {
   "cell_type": "code",
   "execution_count": 52,
   "metadata": {},
   "outputs": [],
   "source": [
    "model = Ridge(alpha=0.11)\n",
    "model = model.fit(original_X_3, original_y)"
   ]
  },
  {
   "cell_type": "code",
   "execution_count": 54,
   "metadata": {},
   "outputs": [
    {
     "output_type": "execute_result",
     "data": {
      "text/plain": [
       "0.5136018216214185"
      ]
     },
     "metadata": {},
     "execution_count": 54
    }
   ],
   "source": [
    "model.score(original_X_3, original_y)"
   ]
  }
 ]
}