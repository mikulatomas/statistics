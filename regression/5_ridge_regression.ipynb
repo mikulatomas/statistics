{
 "metadata": {
  "language_info": {
   "codemirror_mode": {
    "name": "ipython",
    "version": 3
   },
   "file_extension": ".py",
   "mimetype": "text/x-python",
   "name": "python",
   "nbconvert_exporter": "python",
   "pygments_lexer": "ipython3",
   "version": "3.8.9"
  },
  "orig_nbformat": 2,
  "kernelspec": {
   "name": "python389jvsc74a57bd0082a18f759f8afdec9b7eec773590a36e4c3be1cd97bea91855dea5176a8175a",
   "display_name": "Python 3.8.9 64-bit ('fcapy': virtualenvwrapper)"
  }
 },
 "nbformat": 4,
 "nbformat_minor": 2,
 "cells": [
  {
   "cell_type": "code",
   "execution_count": 50,
   "metadata": {},
   "outputs": [
    {
     "output_type": "display_data",
     "data": {
      "text/html": "        <script type=\"text/javascript\">\n        window.PlotlyConfig = {MathJaxConfig: 'local'};\n        if (window.MathJax) {MathJax.Hub.Config({SVG: {font: \"STIX-Web\"}});}\n        if (typeof require !== 'undefined') {\n        require.undef(\"plotly\");\n        requirejs.config({\n            paths: {\n                'plotly': ['https://cdn.plot.ly/plotly-latest.min']\n            }\n        });\n        require(['plotly'], function(Plotly) {\n            window._Plotly = Plotly;\n        });\n        }\n        </script>\n        "
     },
     "metadata": {}
    }
   ],
   "source": [
    "from datasets import diabetes_data\n",
    "\n",
    "import statsmodels.api as sm\n",
    "\n",
    "from sklearn.linear_model import Ridge\n",
    "from sklearn.model_selection import cross_val_score\n",
    "from sklearn.preprocessing import StandardScaler\n",
    "\n",
    "import numpy as np\n",
    "import pandas as pd\n",
    "\n",
    "from tools import polynomial_features\n",
    "\n",
    "import plotly.express as px\n",
    "from plotly.offline import init_notebook_mode\n",
    "init_notebook_mode(connected=True)"
   ]
  },
  {
   "cell_type": "code",
   "execution_count": 51,
   "metadata": {},
   "outputs": [],
   "source": [
    "original_X, original_y, train_X, train_y, test_X, test_y = diabetes_data()"
   ]
  },
  {
   "source": [
    "# Ridge Regression"
   ],
   "cell_type": "markdown",
   "metadata": {}
  },
  {
   "source": [
    "## Alpha selection"
   ],
   "cell_type": "markdown",
   "metadata": {}
  },
  {
   "cell_type": "code",
   "execution_count": 52,
   "metadata": {},
   "outputs": [],
   "source": [
    "n_alphas = 80\n",
    "alphas = np.logspace(-2, 5, n_alphas)"
   ]
  },
  {
   "cell_type": "code",
   "execution_count": 53,
   "metadata": {},
   "outputs": [
    {
     "output_type": "display_data",
     "data": {
      "application/vnd.plotly.v1+json": {
       "config": {
        "plotlyServerURL": "https://plot.ly"
       },
       "data": [
        {
         "hovertemplate": "alpha=%{x}<br>R^2 (mean)=%{y}<extra></extra>",
         "legendgroup": "",
         "line": {
          "color": "#636efa",
          "dash": "solid"
         },
         "mode": "lines",
         "name": "",
         "orientation": "v",
         "showlegend": false,
         "type": "scatter",
         "x": [
          0.01,
          0.012263306841775632,
          0.015038869469554102,
          0.018442627085855347,
          0.022616759492228647,
          0.02773562614198415,
          0.03401304938279251,
          0.04171124612056518,
          0.051151780992931425,
          0.06272899858196247,
          0.07692649574879142,
          0.09433732216299774,
          0.1156887528316282,
          0.1418726674116596,
          0.1739828052930364,
          0.21336045265014109,
          0.2616504698748821,
          0.320869999737045,
          0.39349272630958493,
          0.48255220427412787,
          0.5917685748188825,
          0.7257039612324212,
          0.8899530352885229,
          1.0913767146512738,
          1.3383887531737564,
          1.6413071953751284,
          2.0127853758499383,
          2.4683404670686486,
          3.0270016537634614,
          3.7121050090663608,
          4.55226827550731,
          5.582586268862695,
          6.846096838574658,
          8.395578619995112,
          10.295755673125127,
          12.626001098748565,
          15.48365256585499,
          18.988078244652634,
          23.285662984981965,
          28.55592301990109,
          35.019004614317126,
          42.944879887892725,
          52.66462393484275,
          64.58424430196978,
          79.20164050192548,
          97.12740198471168,
          119.11031332830079,
          146.06863203649888,
          179.1284454622002,
          219.67070907932353,
          269.388930959017,
          330.35991201283395,
          405.1304969235378,
          496.8239594734388,
          609.2704661368674,
          747.1670675868082,
          916.2739011886731,
          1123.6548001387516,
          1377.9723598335568,
          1689.8497868124587,
          2072.3146452190294,
          2541.343036702639,
          3116.52694492943,
          3821.8926206331225,
          4686.904192314192,
          5747.694424835347,
          7048.574036451903,
          8643.882620598262,
          10600.258488068825,
          12999.42224413245,
          15941.590374559995,
          19549.661430912594,
          23974.349678010785,
          29400.480643347077,
          36054.71154250506,
          44214.99907374487,
          54222.21006501592,
          66494.35996665046,
          81544.07395185171,
          100000
         ],
         "xaxis": "x",
         "y": [
          0.48144417772216797,
          0.4813158815207716,
          0.4811997917154634,
          0.4811014321239851,
          0.48102369448536086,
          0.4809655116042048,
          0.48092043302339194,
          0.4808749831550438,
          0.4808066316318117,
          0.48068119942229226,
          0.48044957672172595,
          0.4800437553733386,
          0.4793723924965783,
          0.47831642164417704,
          0.47672557957368866,
          0.4744170366290765,
          0.47117746560474527,
          0.46676968291062976,
          0.4609443109325202,
          0.4534557640871514,
          0.4440805481552047,
          0.43263495227659926,
          0.41898933204199656,
          0.40307759487561834,
          0.38490271980030333,
          0.3645409478701705,
          0.3421473159870104,
          0.3179629609764179,
          0.29232105821579446,
          0.265645522256073,
          0.2384367404599284,
          0.21124215886512046,
          0.1846149577495678,
          0.15906863588335038,
          0.1350368761950107,
          0.11284615249753945,
          0.09270444459680027,
          0.07470513460920865,
          0.058842184453486435,
          0.045031575131120126,
          0.03313440612900054,
          0.022978312490371033,
          0.014375301866543056,
          0.007135330323300248,
          0.0010757635646268637,
          -0.0039726785070223645,
          -0.008162729741794283,
          -0.011629386891122206,
          -0.014490073017321237,
          -0.016845644455937125,
          -0.018781864118470316,
          -0.020371078279980925,
          -0.021673924110137733,
          -0.02274096203688609,
          -0.023614174184936033,
          -0.024328301897386505,
          -0.02491201572573225,
          -0.025388923578703905,
          -0.0257784295198489,
          -0.026096458887055453,
          -0.026356066313927128,
          -0.026567942782386767,
          -0.026740836640076936,
          -0.026881901969529266,
          -0.02699698604351015,
          -0.027090865986853306,
          -0.027167443268223623,
          -0.02722990330262993,
          -0.027280846268504265,
          -0.027322394228201884,
          -0.027356278776117814,
          -0.0273839127087633,
          -0.027406448599432486,
          -0.027424826650203783,
          -0.027439813770860244,
          -0.027452035484322755,
          -0.02746200196951145,
          -0.02747012931496857,
          -0.02747675686137483,
          -0.02748216135095962
         ],
         "yaxis": "y"
        }
       ],
       "layout": {
        "legend": {
         "tracegroupgap": 0
        },
        "margin": {
         "t": 60
        },
        "template": {
         "data": {
          "bar": [
           {
            "error_x": {
             "color": "#2a3f5f"
            },
            "error_y": {
             "color": "#2a3f5f"
            },
            "marker": {
             "line": {
              "color": "#E5ECF6",
              "width": 0.5
             }
            },
            "type": "bar"
           }
          ],
          "barpolar": [
           {
            "marker": {
             "line": {
              "color": "#E5ECF6",
              "width": 0.5
             }
            },
            "type": "barpolar"
           }
          ],
          "carpet": [
           {
            "aaxis": {
             "endlinecolor": "#2a3f5f",
             "gridcolor": "white",
             "linecolor": "white",
             "minorgridcolor": "white",
             "startlinecolor": "#2a3f5f"
            },
            "baxis": {
             "endlinecolor": "#2a3f5f",
             "gridcolor": "white",
             "linecolor": "white",
             "minorgridcolor": "white",
             "startlinecolor": "#2a3f5f"
            },
            "type": "carpet"
           }
          ],
          "choropleth": [
           {
            "colorbar": {
             "outlinewidth": 0,
             "ticks": ""
            },
            "type": "choropleth"
           }
          ],
          "contour": [
           {
            "colorbar": {
             "outlinewidth": 0,
             "ticks": ""
            },
            "colorscale": [
             [
              0,
              "#0d0887"
             ],
             [
              0.1111111111111111,
              "#46039f"
             ],
             [
              0.2222222222222222,
              "#7201a8"
             ],
             [
              0.3333333333333333,
              "#9c179e"
             ],
             [
              0.4444444444444444,
              "#bd3786"
             ],
             [
              0.5555555555555556,
              "#d8576b"
             ],
             [
              0.6666666666666666,
              "#ed7953"
             ],
             [
              0.7777777777777778,
              "#fb9f3a"
             ],
             [
              0.8888888888888888,
              "#fdca26"
             ],
             [
              1,
              "#f0f921"
             ]
            ],
            "type": "contour"
           }
          ],
          "contourcarpet": [
           {
            "colorbar": {
             "outlinewidth": 0,
             "ticks": ""
            },
            "type": "contourcarpet"
           }
          ],
          "heatmap": [
           {
            "colorbar": {
             "outlinewidth": 0,
             "ticks": ""
            },
            "colorscale": [
             [
              0,
              "#0d0887"
             ],
             [
              0.1111111111111111,
              "#46039f"
             ],
             [
              0.2222222222222222,
              "#7201a8"
             ],
             [
              0.3333333333333333,
              "#9c179e"
             ],
             [
              0.4444444444444444,
              "#bd3786"
             ],
             [
              0.5555555555555556,
              "#d8576b"
             ],
             [
              0.6666666666666666,
              "#ed7953"
             ],
             [
              0.7777777777777778,
              "#fb9f3a"
             ],
             [
              0.8888888888888888,
              "#fdca26"
             ],
             [
              1,
              "#f0f921"
             ]
            ],
            "type": "heatmap"
           }
          ],
          "heatmapgl": [
           {
            "colorbar": {
             "outlinewidth": 0,
             "ticks": ""
            },
            "colorscale": [
             [
              0,
              "#0d0887"
             ],
             [
              0.1111111111111111,
              "#46039f"
             ],
             [
              0.2222222222222222,
              "#7201a8"
             ],
             [
              0.3333333333333333,
              "#9c179e"
             ],
             [
              0.4444444444444444,
              "#bd3786"
             ],
             [
              0.5555555555555556,
              "#d8576b"
             ],
             [
              0.6666666666666666,
              "#ed7953"
             ],
             [
              0.7777777777777778,
              "#fb9f3a"
             ],
             [
              0.8888888888888888,
              "#fdca26"
             ],
             [
              1,
              "#f0f921"
             ]
            ],
            "type": "heatmapgl"
           }
          ],
          "histogram": [
           {
            "marker": {
             "colorbar": {
              "outlinewidth": 0,
              "ticks": ""
             }
            },
            "type": "histogram"
           }
          ],
          "histogram2d": [
           {
            "colorbar": {
             "outlinewidth": 0,
             "ticks": ""
            },
            "colorscale": [
             [
              0,
              "#0d0887"
             ],
             [
              0.1111111111111111,
              "#46039f"
             ],
             [
              0.2222222222222222,
              "#7201a8"
             ],
             [
              0.3333333333333333,
              "#9c179e"
             ],
             [
              0.4444444444444444,
              "#bd3786"
             ],
             [
              0.5555555555555556,
              "#d8576b"
             ],
             [
              0.6666666666666666,
              "#ed7953"
             ],
             [
              0.7777777777777778,
              "#fb9f3a"
             ],
             [
              0.8888888888888888,
              "#fdca26"
             ],
             [
              1,
              "#f0f921"
             ]
            ],
            "type": "histogram2d"
           }
          ],
          "histogram2dcontour": [
           {
            "colorbar": {
             "outlinewidth": 0,
             "ticks": ""
            },
            "colorscale": [
             [
              0,
              "#0d0887"
             ],
             [
              0.1111111111111111,
              "#46039f"
             ],
             [
              0.2222222222222222,
              "#7201a8"
             ],
             [
              0.3333333333333333,
              "#9c179e"
             ],
             [
              0.4444444444444444,
              "#bd3786"
             ],
             [
              0.5555555555555556,
              "#d8576b"
             ],
             [
              0.6666666666666666,
              "#ed7953"
             ],
             [
              0.7777777777777778,
              "#fb9f3a"
             ],
             [
              0.8888888888888888,
              "#fdca26"
             ],
             [
              1,
              "#f0f921"
             ]
            ],
            "type": "histogram2dcontour"
           }
          ],
          "mesh3d": [
           {
            "colorbar": {
             "outlinewidth": 0,
             "ticks": ""
            },
            "type": "mesh3d"
           }
          ],
          "parcoords": [
           {
            "line": {
             "colorbar": {
              "outlinewidth": 0,
              "ticks": ""
             }
            },
            "type": "parcoords"
           }
          ],
          "pie": [
           {
            "automargin": true,
            "type": "pie"
           }
          ],
          "scatter": [
           {
            "marker": {
             "colorbar": {
              "outlinewidth": 0,
              "ticks": ""
             }
            },
            "type": "scatter"
           }
          ],
          "scatter3d": [
           {
            "line": {
             "colorbar": {
              "outlinewidth": 0,
              "ticks": ""
             }
            },
            "marker": {
             "colorbar": {
              "outlinewidth": 0,
              "ticks": ""
             }
            },
            "type": "scatter3d"
           }
          ],
          "scattercarpet": [
           {
            "marker": {
             "colorbar": {
              "outlinewidth": 0,
              "ticks": ""
             }
            },
            "type": "scattercarpet"
           }
          ],
          "scattergeo": [
           {
            "marker": {
             "colorbar": {
              "outlinewidth": 0,
              "ticks": ""
             }
            },
            "type": "scattergeo"
           }
          ],
          "scattergl": [
           {
            "marker": {
             "colorbar": {
              "outlinewidth": 0,
              "ticks": ""
             }
            },
            "type": "scattergl"
           }
          ],
          "scattermapbox": [
           {
            "marker": {
             "colorbar": {
              "outlinewidth": 0,
              "ticks": ""
             }
            },
            "type": "scattermapbox"
           }
          ],
          "scatterpolar": [
           {
            "marker": {
             "colorbar": {
              "outlinewidth": 0,
              "ticks": ""
             }
            },
            "type": "scatterpolar"
           }
          ],
          "scatterpolargl": [
           {
            "marker": {
             "colorbar": {
              "outlinewidth": 0,
              "ticks": ""
             }
            },
            "type": "scatterpolargl"
           }
          ],
          "scatterternary": [
           {
            "marker": {
             "colorbar": {
              "outlinewidth": 0,
              "ticks": ""
             }
            },
            "type": "scatterternary"
           }
          ],
          "surface": [
           {
            "colorbar": {
             "outlinewidth": 0,
             "ticks": ""
            },
            "colorscale": [
             [
              0,
              "#0d0887"
             ],
             [
              0.1111111111111111,
              "#46039f"
             ],
             [
              0.2222222222222222,
              "#7201a8"
             ],
             [
              0.3333333333333333,
              "#9c179e"
             ],
             [
              0.4444444444444444,
              "#bd3786"
             ],
             [
              0.5555555555555556,
              "#d8576b"
             ],
             [
              0.6666666666666666,
              "#ed7953"
             ],
             [
              0.7777777777777778,
              "#fb9f3a"
             ],
             [
              0.8888888888888888,
              "#fdca26"
             ],
             [
              1,
              "#f0f921"
             ]
            ],
            "type": "surface"
           }
          ],
          "table": [
           {
            "cells": {
             "fill": {
              "color": "#EBF0F8"
             },
             "line": {
              "color": "white"
             }
            },
            "header": {
             "fill": {
              "color": "#C8D4E3"
             },
             "line": {
              "color": "white"
             }
            },
            "type": "table"
           }
          ]
         },
         "layout": {
          "annotationdefaults": {
           "arrowcolor": "#2a3f5f",
           "arrowhead": 0,
           "arrowwidth": 1
          },
          "coloraxis": {
           "colorbar": {
            "outlinewidth": 0,
            "ticks": ""
           }
          },
          "colorscale": {
           "diverging": [
            [
             0,
             "#8e0152"
            ],
            [
             0.1,
             "#c51b7d"
            ],
            [
             0.2,
             "#de77ae"
            ],
            [
             0.3,
             "#f1b6da"
            ],
            [
             0.4,
             "#fde0ef"
            ],
            [
             0.5,
             "#f7f7f7"
            ],
            [
             0.6,
             "#e6f5d0"
            ],
            [
             0.7,
             "#b8e186"
            ],
            [
             0.8,
             "#7fbc41"
            ],
            [
             0.9,
             "#4d9221"
            ],
            [
             1,
             "#276419"
            ]
           ],
           "sequential": [
            [
             0,
             "#0d0887"
            ],
            [
             0.1111111111111111,
             "#46039f"
            ],
            [
             0.2222222222222222,
             "#7201a8"
            ],
            [
             0.3333333333333333,
             "#9c179e"
            ],
            [
             0.4444444444444444,
             "#bd3786"
            ],
            [
             0.5555555555555556,
             "#d8576b"
            ],
            [
             0.6666666666666666,
             "#ed7953"
            ],
            [
             0.7777777777777778,
             "#fb9f3a"
            ],
            [
             0.8888888888888888,
             "#fdca26"
            ],
            [
             1,
             "#f0f921"
            ]
           ],
           "sequentialminus": [
            [
             0,
             "#0d0887"
            ],
            [
             0.1111111111111111,
             "#46039f"
            ],
            [
             0.2222222222222222,
             "#7201a8"
            ],
            [
             0.3333333333333333,
             "#9c179e"
            ],
            [
             0.4444444444444444,
             "#bd3786"
            ],
            [
             0.5555555555555556,
             "#d8576b"
            ],
            [
             0.6666666666666666,
             "#ed7953"
            ],
            [
             0.7777777777777778,
             "#fb9f3a"
            ],
            [
             0.8888888888888888,
             "#fdca26"
            ],
            [
             1,
             "#f0f921"
            ]
           ]
          },
          "colorway": [
           "#636efa",
           "#EF553B",
           "#00cc96",
           "#ab63fa",
           "#FFA15A",
           "#19d3f3",
           "#FF6692",
           "#B6E880",
           "#FF97FF",
           "#FECB52"
          ],
          "font": {
           "color": "#2a3f5f"
          },
          "geo": {
           "bgcolor": "white",
           "lakecolor": "white",
           "landcolor": "#E5ECF6",
           "showlakes": true,
           "showland": true,
           "subunitcolor": "white"
          },
          "hoverlabel": {
           "align": "left"
          },
          "hovermode": "closest",
          "mapbox": {
           "style": "light"
          },
          "paper_bgcolor": "white",
          "plot_bgcolor": "#E5ECF6",
          "polar": {
           "angularaxis": {
            "gridcolor": "white",
            "linecolor": "white",
            "ticks": ""
           },
           "bgcolor": "#E5ECF6",
           "radialaxis": {
            "gridcolor": "white",
            "linecolor": "white",
            "ticks": ""
           }
          },
          "scene": {
           "xaxis": {
            "backgroundcolor": "#E5ECF6",
            "gridcolor": "white",
            "gridwidth": 2,
            "linecolor": "white",
            "showbackground": true,
            "ticks": "",
            "zerolinecolor": "white"
           },
           "yaxis": {
            "backgroundcolor": "#E5ECF6",
            "gridcolor": "white",
            "gridwidth": 2,
            "linecolor": "white",
            "showbackground": true,
            "ticks": "",
            "zerolinecolor": "white"
           },
           "zaxis": {
            "backgroundcolor": "#E5ECF6",
            "gridcolor": "white",
            "gridwidth": 2,
            "linecolor": "white",
            "showbackground": true,
            "ticks": "",
            "zerolinecolor": "white"
           }
          },
          "shapedefaults": {
           "line": {
            "color": "#2a3f5f"
           }
          },
          "ternary": {
           "aaxis": {
            "gridcolor": "white",
            "linecolor": "white",
            "ticks": ""
           },
           "baxis": {
            "gridcolor": "white",
            "linecolor": "white",
            "ticks": ""
           },
           "bgcolor": "#E5ECF6",
           "caxis": {
            "gridcolor": "white",
            "linecolor": "white",
            "ticks": ""
           }
          },
          "title": {
           "x": 0.05
          },
          "xaxis": {
           "automargin": true,
           "gridcolor": "white",
           "linecolor": "white",
           "ticks": "",
           "title": {
            "standoff": 15
           },
           "zerolinecolor": "white",
           "zerolinewidth": 2
          },
          "yaxis": {
           "automargin": true,
           "gridcolor": "white",
           "linecolor": "white",
           "ticks": "",
           "title": {
            "standoff": 15
           },
           "zerolinecolor": "white",
           "zerolinewidth": 2
          }
         }
        },
        "xaxis": {
         "anchor": "y",
         "domain": [
          0,
          1
         ],
         "title": {
          "text": "alpha"
         },
         "type": "log"
        },
        "yaxis": {
         "anchor": "x",
         "domain": [
          0,
          1
         ],
         "title": {
          "text": "R^2 (mean)"
         }
        }
       }
      },
      "text/html": "<div>                            <div id=\"1b314a63-b14f-4400-b070-cca6086d5316\" class=\"plotly-graph-div\" style=\"height:525px; width:100%;\"></div>            <script type=\"text/javascript\">                require([\"plotly\"], function(Plotly) {                    window.PLOTLYENV=window.PLOTLYENV || {};                                    if (document.getElementById(\"1b314a63-b14f-4400-b070-cca6086d5316\")) {                    Plotly.newPlot(                        \"1b314a63-b14f-4400-b070-cca6086d5316\",                        [{\"hovertemplate\": \"alpha=%{x}<br>R^2 (mean)=%{y}<extra></extra>\", \"legendgroup\": \"\", \"line\": {\"color\": \"#636efa\", \"dash\": \"solid\"}, \"mode\": \"lines\", \"name\": \"\", \"orientation\": \"v\", \"showlegend\": false, \"type\": \"scatter\", \"x\": [0.01, 0.012263306841775632, 0.015038869469554102, 0.018442627085855347, 0.022616759492228647, 0.02773562614198415, 0.03401304938279251, 0.04171124612056518, 0.051151780992931425, 0.06272899858196247, 0.07692649574879142, 0.09433732216299774, 0.1156887528316282, 0.1418726674116596, 0.1739828052930364, 0.21336045265014109, 0.2616504698748821, 0.320869999737045, 0.39349272630958493, 0.48255220427412787, 0.5917685748188825, 0.7257039612324212, 0.8899530352885229, 1.0913767146512738, 1.3383887531737564, 1.6413071953751284, 2.0127853758499383, 2.4683404670686486, 3.0270016537634614, 3.7121050090663608, 4.55226827550731, 5.582586268862695, 6.846096838574658, 8.395578619995112, 10.295755673125127, 12.626001098748565, 15.48365256585499, 18.988078244652634, 23.285662984981965, 28.55592301990109, 35.019004614317126, 42.944879887892725, 52.66462393484275, 64.58424430196978, 79.20164050192548, 97.12740198471168, 119.11031332830079, 146.06863203649888, 179.1284454622002, 219.67070907932353, 269.388930959017, 330.35991201283395, 405.1304969235378, 496.8239594734388, 609.2704661368674, 747.1670675868082, 916.2739011886731, 1123.6548001387516, 1377.9723598335568, 1689.8497868124587, 2072.3146452190294, 2541.343036702639, 3116.52694492943, 3821.8926206331225, 4686.904192314192, 5747.694424835347, 7048.574036451903, 8643.882620598262, 10600.258488068825, 12999.42224413245, 15941.590374559995, 19549.661430912594, 23974.349678010785, 29400.480643347077, 36054.71154250506, 44214.99907374487, 54222.21006501592, 66494.35996665046, 81544.07395185171, 100000.0], \"xaxis\": \"x\", \"y\": [0.48144417772216797, 0.4813158815207716, 0.4811997917154634, 0.4811014321239851, 0.48102369448536086, 0.4809655116042048, 0.48092043302339194, 0.4808749831550438, 0.4808066316318117, 0.48068119942229226, 0.48044957672172595, 0.4800437553733386, 0.4793723924965783, 0.47831642164417704, 0.47672557957368866, 0.4744170366290765, 0.47117746560474527, 0.46676968291062976, 0.4609443109325202, 0.4534557640871514, 0.4440805481552047, 0.43263495227659926, 0.41898933204199656, 0.40307759487561834, 0.38490271980030333, 0.3645409478701705, 0.3421473159870104, 0.3179629609764179, 0.29232105821579446, 0.265645522256073, 0.2384367404599284, 0.21124215886512046, 0.1846149577495678, 0.15906863588335038, 0.1350368761950107, 0.11284615249753945, 0.09270444459680027, 0.07470513460920865, 0.058842184453486435, 0.045031575131120126, 0.03313440612900054, 0.022978312490371033, 0.014375301866543056, 0.007135330323300248, 0.0010757635646268637, -0.0039726785070223645, -0.008162729741794283, -0.011629386891122206, -0.014490073017321237, -0.016845644455937125, -0.018781864118470316, -0.020371078279980925, -0.021673924110137733, -0.02274096203688609, -0.023614174184936033, -0.024328301897386505, -0.02491201572573225, -0.025388923578703905, -0.0257784295198489, -0.026096458887055453, -0.026356066313927128, -0.026567942782386767, -0.026740836640076936, -0.026881901969529266, -0.02699698604351015, -0.027090865986853306, -0.027167443268223623, -0.02722990330262993, -0.027280846268504265, -0.027322394228201884, -0.027356278776117814, -0.0273839127087633, -0.027406448599432486, -0.027424826650203783, -0.027439813770860244, -0.027452035484322755, -0.02746200196951145, -0.02747012931496857, -0.02747675686137483, -0.02748216135095962], \"yaxis\": \"y\"}],                        {\"legend\": {\"tracegroupgap\": 0}, \"margin\": {\"t\": 60}, \"template\": {\"data\": {\"bar\": [{\"error_x\": {\"color\": \"#2a3f5f\"}, \"error_y\": {\"color\": \"#2a3f5f\"}, \"marker\": {\"line\": {\"color\": \"#E5ECF6\", \"width\": 0.5}}, \"type\": \"bar\"}], \"barpolar\": [{\"marker\": {\"line\": {\"color\": \"#E5ECF6\", \"width\": 0.5}}, \"type\": \"barpolar\"}], \"carpet\": [{\"aaxis\": {\"endlinecolor\": \"#2a3f5f\", \"gridcolor\": \"white\", \"linecolor\": \"white\", \"minorgridcolor\": \"white\", \"startlinecolor\": \"#2a3f5f\"}, \"baxis\": {\"endlinecolor\": \"#2a3f5f\", \"gridcolor\": \"white\", \"linecolor\": \"white\", \"minorgridcolor\": \"white\", \"startlinecolor\": \"#2a3f5f\"}, \"type\": \"carpet\"}], \"choropleth\": [{\"colorbar\": {\"outlinewidth\": 0, \"ticks\": \"\"}, \"type\": \"choropleth\"}], \"contour\": [{\"colorbar\": {\"outlinewidth\": 0, \"ticks\": \"\"}, \"colorscale\": [[0.0, \"#0d0887\"], [0.1111111111111111, \"#46039f\"], [0.2222222222222222, \"#7201a8\"], [0.3333333333333333, \"#9c179e\"], [0.4444444444444444, \"#bd3786\"], [0.5555555555555556, \"#d8576b\"], [0.6666666666666666, \"#ed7953\"], [0.7777777777777778, \"#fb9f3a\"], [0.8888888888888888, \"#fdca26\"], [1.0, \"#f0f921\"]], \"type\": \"contour\"}], \"contourcarpet\": [{\"colorbar\": {\"outlinewidth\": 0, \"ticks\": \"\"}, \"type\": \"contourcarpet\"}], \"heatmap\": [{\"colorbar\": {\"outlinewidth\": 0, \"ticks\": \"\"}, \"colorscale\": [[0.0, \"#0d0887\"], [0.1111111111111111, \"#46039f\"], [0.2222222222222222, \"#7201a8\"], [0.3333333333333333, \"#9c179e\"], [0.4444444444444444, \"#bd3786\"], [0.5555555555555556, \"#d8576b\"], [0.6666666666666666, \"#ed7953\"], [0.7777777777777778, \"#fb9f3a\"], [0.8888888888888888, \"#fdca26\"], [1.0, \"#f0f921\"]], \"type\": \"heatmap\"}], \"heatmapgl\": [{\"colorbar\": {\"outlinewidth\": 0, \"ticks\": \"\"}, \"colorscale\": [[0.0, \"#0d0887\"], [0.1111111111111111, \"#46039f\"], [0.2222222222222222, \"#7201a8\"], [0.3333333333333333, \"#9c179e\"], [0.4444444444444444, \"#bd3786\"], [0.5555555555555556, \"#d8576b\"], [0.6666666666666666, \"#ed7953\"], [0.7777777777777778, \"#fb9f3a\"], [0.8888888888888888, \"#fdca26\"], [1.0, \"#f0f921\"]], \"type\": \"heatmapgl\"}], \"histogram\": [{\"marker\": {\"colorbar\": {\"outlinewidth\": 0, \"ticks\": \"\"}}, \"type\": \"histogram\"}], \"histogram2d\": [{\"colorbar\": {\"outlinewidth\": 0, \"ticks\": \"\"}, \"colorscale\": [[0.0, \"#0d0887\"], [0.1111111111111111, \"#46039f\"], [0.2222222222222222, \"#7201a8\"], [0.3333333333333333, \"#9c179e\"], [0.4444444444444444, \"#bd3786\"], [0.5555555555555556, \"#d8576b\"], [0.6666666666666666, \"#ed7953\"], [0.7777777777777778, \"#fb9f3a\"], [0.8888888888888888, \"#fdca26\"], [1.0, \"#f0f921\"]], \"type\": \"histogram2d\"}], \"histogram2dcontour\": [{\"colorbar\": {\"outlinewidth\": 0, \"ticks\": \"\"}, \"colorscale\": [[0.0, \"#0d0887\"], [0.1111111111111111, \"#46039f\"], [0.2222222222222222, \"#7201a8\"], [0.3333333333333333, \"#9c179e\"], [0.4444444444444444, \"#bd3786\"], [0.5555555555555556, \"#d8576b\"], [0.6666666666666666, \"#ed7953\"], [0.7777777777777778, \"#fb9f3a\"], [0.8888888888888888, \"#fdca26\"], [1.0, \"#f0f921\"]], \"type\": \"histogram2dcontour\"}], \"mesh3d\": [{\"colorbar\": {\"outlinewidth\": 0, \"ticks\": \"\"}, \"type\": \"mesh3d\"}], \"parcoords\": [{\"line\": {\"colorbar\": {\"outlinewidth\": 0, \"ticks\": \"\"}}, \"type\": \"parcoords\"}], \"pie\": [{\"automargin\": true, \"type\": \"pie\"}], \"scatter\": [{\"marker\": {\"colorbar\": {\"outlinewidth\": 0, \"ticks\": \"\"}}, \"type\": \"scatter\"}], \"scatter3d\": [{\"line\": {\"colorbar\": {\"outlinewidth\": 0, \"ticks\": \"\"}}, \"marker\": {\"colorbar\": {\"outlinewidth\": 0, \"ticks\": \"\"}}, \"type\": \"scatter3d\"}], \"scattercarpet\": [{\"marker\": {\"colorbar\": {\"outlinewidth\": 0, \"ticks\": \"\"}}, \"type\": \"scattercarpet\"}], \"scattergeo\": [{\"marker\": {\"colorbar\": {\"outlinewidth\": 0, \"ticks\": \"\"}}, \"type\": \"scattergeo\"}], \"scattergl\": [{\"marker\": {\"colorbar\": {\"outlinewidth\": 0, \"ticks\": \"\"}}, \"type\": \"scattergl\"}], \"scattermapbox\": [{\"marker\": {\"colorbar\": {\"outlinewidth\": 0, \"ticks\": \"\"}}, \"type\": \"scattermapbox\"}], \"scatterpolar\": [{\"marker\": {\"colorbar\": {\"outlinewidth\": 0, \"ticks\": \"\"}}, \"type\": \"scatterpolar\"}], \"scatterpolargl\": [{\"marker\": {\"colorbar\": {\"outlinewidth\": 0, \"ticks\": \"\"}}, \"type\": \"scatterpolargl\"}], \"scatterternary\": [{\"marker\": {\"colorbar\": {\"outlinewidth\": 0, \"ticks\": \"\"}}, \"type\": \"scatterternary\"}], \"surface\": [{\"colorbar\": {\"outlinewidth\": 0, \"ticks\": \"\"}, \"colorscale\": [[0.0, \"#0d0887\"], [0.1111111111111111, \"#46039f\"], [0.2222222222222222, \"#7201a8\"], [0.3333333333333333, \"#9c179e\"], [0.4444444444444444, \"#bd3786\"], [0.5555555555555556, \"#d8576b\"], [0.6666666666666666, \"#ed7953\"], [0.7777777777777778, \"#fb9f3a\"], [0.8888888888888888, \"#fdca26\"], [1.0, \"#f0f921\"]], \"type\": \"surface\"}], \"table\": [{\"cells\": {\"fill\": {\"color\": \"#EBF0F8\"}, \"line\": {\"color\": \"white\"}}, \"header\": {\"fill\": {\"color\": \"#C8D4E3\"}, \"line\": {\"color\": \"white\"}}, \"type\": \"table\"}]}, \"layout\": {\"annotationdefaults\": {\"arrowcolor\": \"#2a3f5f\", \"arrowhead\": 0, \"arrowwidth\": 1}, \"coloraxis\": {\"colorbar\": {\"outlinewidth\": 0, \"ticks\": \"\"}}, \"colorscale\": {\"diverging\": [[0, \"#8e0152\"], [0.1, \"#c51b7d\"], [0.2, \"#de77ae\"], [0.3, \"#f1b6da\"], [0.4, \"#fde0ef\"], [0.5, \"#f7f7f7\"], [0.6, \"#e6f5d0\"], [0.7, \"#b8e186\"], [0.8, \"#7fbc41\"], [0.9, \"#4d9221\"], [1, \"#276419\"]], \"sequential\": [[0.0, \"#0d0887\"], [0.1111111111111111, \"#46039f\"], [0.2222222222222222, \"#7201a8\"], [0.3333333333333333, \"#9c179e\"], [0.4444444444444444, \"#bd3786\"], [0.5555555555555556, \"#d8576b\"], [0.6666666666666666, \"#ed7953\"], [0.7777777777777778, \"#fb9f3a\"], [0.8888888888888888, \"#fdca26\"], [1.0, \"#f0f921\"]], \"sequentialminus\": [[0.0, \"#0d0887\"], [0.1111111111111111, \"#46039f\"], [0.2222222222222222, \"#7201a8\"], [0.3333333333333333, \"#9c179e\"], [0.4444444444444444, \"#bd3786\"], [0.5555555555555556, \"#d8576b\"], [0.6666666666666666, \"#ed7953\"], [0.7777777777777778, \"#fb9f3a\"], [0.8888888888888888, \"#fdca26\"], [1.0, \"#f0f921\"]]}, \"colorway\": [\"#636efa\", \"#EF553B\", \"#00cc96\", \"#ab63fa\", \"#FFA15A\", \"#19d3f3\", \"#FF6692\", \"#B6E880\", \"#FF97FF\", \"#FECB52\"], \"font\": {\"color\": \"#2a3f5f\"}, \"geo\": {\"bgcolor\": \"white\", \"lakecolor\": \"white\", \"landcolor\": \"#E5ECF6\", \"showlakes\": true, \"showland\": true, \"subunitcolor\": \"white\"}, \"hoverlabel\": {\"align\": \"left\"}, \"hovermode\": \"closest\", \"mapbox\": {\"style\": \"light\"}, \"paper_bgcolor\": \"white\", \"plot_bgcolor\": \"#E5ECF6\", \"polar\": {\"angularaxis\": {\"gridcolor\": \"white\", \"linecolor\": \"white\", \"ticks\": \"\"}, \"bgcolor\": \"#E5ECF6\", \"radialaxis\": {\"gridcolor\": \"white\", \"linecolor\": \"white\", \"ticks\": \"\"}}, \"scene\": {\"xaxis\": {\"backgroundcolor\": \"#E5ECF6\", \"gridcolor\": \"white\", \"gridwidth\": 2, \"linecolor\": \"white\", \"showbackground\": true, \"ticks\": \"\", \"zerolinecolor\": \"white\"}, \"yaxis\": {\"backgroundcolor\": \"#E5ECF6\", \"gridcolor\": \"white\", \"gridwidth\": 2, \"linecolor\": \"white\", \"showbackground\": true, \"ticks\": \"\", \"zerolinecolor\": \"white\"}, \"zaxis\": {\"backgroundcolor\": \"#E5ECF6\", \"gridcolor\": \"white\", \"gridwidth\": 2, \"linecolor\": \"white\", \"showbackground\": true, \"ticks\": \"\", \"zerolinecolor\": \"white\"}}, \"shapedefaults\": {\"line\": {\"color\": \"#2a3f5f\"}}, \"ternary\": {\"aaxis\": {\"gridcolor\": \"white\", \"linecolor\": \"white\", \"ticks\": \"\"}, \"baxis\": {\"gridcolor\": \"white\", \"linecolor\": \"white\", \"ticks\": \"\"}, \"bgcolor\": \"#E5ECF6\", \"caxis\": {\"gridcolor\": \"white\", \"linecolor\": \"white\", \"ticks\": \"\"}}, \"title\": {\"x\": 0.05}, \"xaxis\": {\"automargin\": true, \"gridcolor\": \"white\", \"linecolor\": \"white\", \"ticks\": \"\", \"title\": {\"standoff\": 15}, \"zerolinecolor\": \"white\", \"zerolinewidth\": 2}, \"yaxis\": {\"automargin\": true, \"gridcolor\": \"white\", \"linecolor\": \"white\", \"ticks\": \"\", \"title\": {\"standoff\": 15}, \"zerolinecolor\": \"white\", \"zerolinewidth\": 2}}}, \"xaxis\": {\"anchor\": \"y\", \"domain\": [0.0, 1.0], \"title\": {\"text\": \"alpha\"}, \"type\": \"log\"}, \"yaxis\": {\"anchor\": \"x\", \"domain\": [0.0, 1.0], \"title\": {\"text\": \"R^2 (mean)\"}}},                        {\"responsive\": true}                    ).then(function(){\n                            \nvar gd = document.getElementById('1b314a63-b14f-4400-b070-cca6086d5316');\nvar x = new MutationObserver(function (mutations, observer) {{\n        var display = window.getComputedStyle(gd).display;\n        if (!display || display === 'none') {{\n            console.log([gd, 'removed!']);\n            Plotly.purge(gd);\n            observer.disconnect();\n        }}\n}});\n\n// Listen for the removal of the full notebook cells\nvar notebookContainer = gd.closest('#notebook-container');\nif (notebookContainer) {{\n    x.observe(notebookContainer, {childList: true});\n}}\n\n// Listen for the clearing of the current output cell\nvar outputEl = gd.closest('.output');\nif (outputEl) {{\n    x.observe(outputEl, {childList: true});\n}}\n\n                        })                };                });            </script>        </div>"
     },
     "metadata": {}
    }
   ],
   "source": [
    "# we pick alpha before the drop of the R^2 value\n",
    "r2_means = []\n",
    "\n",
    "for i in alphas:\n",
    "    r2_means.append(cross_val_score(Ridge(alpha=i), original_X, original_y).mean())\n",
    "\n",
    "result = pd.DataFrame(zip(alphas, r2_means), columns=['alpha', 'R^2 (mean)'])\n",
    "fig = px.line(result, x='alpha', y='R^2 (mean)')\n",
    "fig.update_xaxes(type='log')\n",
    "fig.show()"
   ]
  },
  {
   "source": [
    "## Coefficients"
   ],
   "cell_type": "markdown",
   "metadata": {}
  },
  {
   "cell_type": "code",
   "execution_count": 54,
   "metadata": {},
   "outputs": [
    {
     "output_type": "display_data",
     "data": {
      "application/vnd.plotly.v1+json": {
       "config": {
        "plotlyServerURL": "https://plot.ly"
       },
       "data": [
        {
         "hovertemplate": "variable=age<br>alphas=%{x}<br>value=%{y}<extra></extra>",
         "legendgroup": "age",
         "line": {
          "color": "#636efa",
          "dash": "solid"
         },
         "mode": "lines",
         "name": "age",
         "orientation": "v",
         "showlegend": true,
         "type": "scatter",
         "x": [
          0.01,
          0.012263306841775632,
          0.015038869469554102,
          0.018442627085855347,
          0.022616759492228647,
          0.02773562614198415,
          0.03401304938279251,
          0.04171124612056518,
          0.051151780992931425,
          0.06272899858196247,
          0.07692649574879142,
          0.09433732216299774,
          0.1156887528316282,
          0.1418726674116596,
          0.1739828052930364,
          0.21336045265014109,
          0.2616504698748821,
          0.320869999737045,
          0.39349272630958493,
          0.48255220427412787,
          0.5917685748188825,
          0.7257039612324212,
          0.8899530352885229,
          1.0913767146512738,
          1.3383887531737564,
          1.6413071953751284,
          2.0127853758499383,
          2.4683404670686486,
          3.0270016537634614,
          3.7121050090663608,
          4.55226827550731,
          5.582586268862695,
          6.846096838574658,
          8.395578619995112,
          10.295755673125127,
          12.626001098748565,
          15.48365256585499,
          18.988078244652634,
          23.285662984981965,
          28.55592301990109,
          35.019004614317126,
          42.944879887892725,
          52.66462393484275,
          64.58424430196978,
          79.20164050192548,
          97.12740198471168,
          119.11031332830079,
          146.06863203649888,
          179.1284454622002,
          219.67070907932353,
          269.388930959017,
          330.35991201283395,
          405.1304969235378,
          496.8239594734388,
          609.2704661368674,
          747.1670675868082,
          916.2739011886731,
          1123.6548001387516,
          1377.9723598335568,
          1689.8497868124587,
          2072.3146452190294,
          2541.343036702639,
          3116.52694492943,
          3821.8926206331225,
          4686.904192314192,
          5747.694424835347,
          7048.574036451903,
          8643.882620598262,
          10600.258488068825,
          12999.42224413245,
          15941.590374559995,
          19549.661430912594,
          23974.349678010785,
          29400.480643347077,
          36054.71154250506,
          44214.99907374487,
          54222.21006501592,
          66494.35996665046,
          81544.07395185171,
          100000
         ],
         "xaxis": "x",
         "y": [
          -7.199456785345529,
          -6.819371685980138,
          -6.401462489935149,
          -5.939689643693061,
          -5.4257225087159675,
          -4.848652570606075,
          -4.194819167034302,
          -3.447757490051638,
          -2.5882869760484373,
          -1.594781101644961,
          -0.443693758328258,
          0.8895438518885981,
          2.4291086451735437,
          4.196693296556708,
          6.208603342855545,
          8.472002979669307,
          10.980448052307526,
          13.70911891576466,
          16.610506555094283,
          19.61162752063603,
          22.614002794569696,
          25.497468271641047,
          28.128290414719384,
          30.37110145797533,
          32.103103273772575,
          33.228191696477424,
          33.68843611229703,
          33.47080463489478,
          32.60799506975238,
          31.173412423923832,
          29.271417928878645,
          27.02473684497438,
          24.561226157183278,
          22.002040689599983,
          19.452675938646028,
          16.997586181085165,
          14.698302865894183,
          12.594402297016003,
          10.70638596936986,
          9.039524909126499,
          7.587892236087225,
          6.338059083474127,
          5.272173405585138,
          4.370332201443703,
          3.612281962985334,
          2.978547351414388,
          2.451110457405338,
          2.0137591410798055,
          1.6522060150071176,
          1.3540583855357082,
          1.1086989019886133,
          0.9071191109868973,
          0.7417342673023922,
          0.6061974349598582,
          0.4952235690849984,
          0.40442925390080997,
          0.33019048658511785,
          0.2695188442472439,
          0.219955167893672,
          0.1794792592216905,
          0.14643381134517605,
          0.11946074350341845,
          0.097448188604673,
          0.07948652979548103,
          0.06483205929613559,
          0.05287701586555532,
          0.04312493285192685,
          0.03517038971172528,
          0.028682403051911505,
          0.023390818024031652,
          0.01907516802578478,
          0.015555561623651348,
          0.012685232189676904,
          0.010344449800348526,
          0.00843554825208897,
          0.006878864232307703,
          0.00560942219200053,
          0.004574228553223162,
          0.0037300636309862485,
          0.0030416799692098368
         ],
         "yaxis": "y"
        },
        {
         "hovertemplate": "variable=sex<br>alphas=%{x}<br>value=%{y}<extra></extra>",
         "legendgroup": "sex",
         "line": {
          "color": "#EF553B",
          "dash": "solid"
         },
         "mode": "lines",
         "name": "sex",
         "orientation": "v",
         "showlegend": true,
         "type": "scatter",
         "x": [
          0.01,
          0.012263306841775632,
          0.015038869469554102,
          0.018442627085855347,
          0.022616759492228647,
          0.02773562614198415,
          0.03401304938279251,
          0.04171124612056518,
          0.051151780992931425,
          0.06272899858196247,
          0.07692649574879142,
          0.09433732216299774,
          0.1156887528316282,
          0.1418726674116596,
          0.1739828052930364,
          0.21336045265014109,
          0.2616504698748821,
          0.320869999737045,
          0.39349272630958493,
          0.48255220427412787,
          0.5917685748188825,
          0.7257039612324212,
          0.8899530352885229,
          1.0913767146512738,
          1.3383887531737564,
          1.6413071953751284,
          2.0127853758499383,
          2.4683404670686486,
          3.0270016537634614,
          3.7121050090663608,
          4.55226827550731,
          5.582586268862695,
          6.846096838574658,
          8.395578619995112,
          10.295755673125127,
          12.626001098748565,
          15.48365256585499,
          18.988078244652634,
          23.285662984981965,
          28.55592301990109,
          35.019004614317126,
          42.944879887892725,
          52.66462393484275,
          64.58424430196978,
          79.20164050192548,
          97.12740198471168,
          119.11031332830079,
          146.06863203649888,
          179.1284454622002,
          219.67070907932353,
          269.388930959017,
          330.35991201283395,
          405.1304969235378,
          496.8239594734388,
          609.2704661368674,
          747.1670675868082,
          916.2739011886731,
          1123.6548001387516,
          1377.9723598335568,
          1689.8497868124587,
          2072.3146452190294,
          2541.343036702639,
          3116.52694492943,
          3821.8926206331225,
          4686.904192314192,
          5747.694424835347,
          7048.574036451903,
          8643.882620598262,
          10600.258488068825,
          12999.42224413245,
          15941.590374559995,
          19549.661430912594,
          23974.349678010785,
          29400.480643347077,
          36054.71154250506,
          44214.99907374487,
          54222.21006501592,
          66494.35996665046,
          81544.07395185171,
          100000
         ],
         "xaxis": "x",
         "y": [
          -234.55293000528698,
          -233.6514285836921,
          -232.60146835957937,
          -231.37316143032828,
          -229.9293379739335,
          -228.22445273967753,
          -226.20359688069144,
          -223.8016899624381,
          -220.94297341221275,
          -217.54100043843093,
          -213.49941407859785,
          -208.71391225911984,
          -203.07589261980533,
          -196.4783092412031,
          -188.82419644757755,
          -180.0380442472702,
          -170.0796760656099,
          -158.95946679136222,
          -146.752749331776,
          -133.61035763958517,
          -119.76185695670912,
          -105.50854569988967,
          -91.20498553863207,
          -77.23038482518494,
          -63.95388536318645,
          -51.69969390284672,
          -40.7182873253808,
          -31.16846445575277,
          -23.112380320176108,
          -16.522829713561272,
          -11.299811738828986,
          -7.2922657951580545,
          -4.320835737230263,
          -2.1983108458138525,
          -0.7456181986630952,
          0.19747095682736476,
          0.7666889495668862,
          1.0717456523647837,
          1.1977025181073784,
          1.2080440564821424,
          1.148464659425525,
          1.0506836890819864,
          0.9358827082401178,
          0.8175794790871926,
          0.7039020540080142,
          0.5993115862527963,
          0.5058611662348419,
          0.4240869934546518,
          0.35362099782658735,
          0.29359980426089133,
          0.24292916906541642,
          0.2004485257760133,
          0.16502820202750115,
          0.13562240856778637,
          0.11129400327448077,
          0.09122187679387452,
          0.07469815577228359,
          0.061119889924296227,
          0.04997816936061887,
          0.040846470408511824,
          0.033369275718807524,
          0.02725153143786515,
          0.022249201798261526,
          0.018160998250949956,
          0.014821254411263404,
          0.01209386152600043,
          0.009867153254465954,
          0.008049621099137394,
          0.006566344962006088,
          0.005356032065241475,
          0.0043685687823091365,
          0.0035630019346582003,
          0.002905877767174342,
          0.0023698775686651755,
          0.0019326985044029867,
          0.0015761366118310024,
          0.0012853361174463825,
          0.0010481753563690293,
          0.0008547647337790085,
          0.0006970364826088119
         ],
         "yaxis": "y"
        },
        {
         "hovertemplate": "variable=bmi<br>alphas=%{x}<br>value=%{y}<extra></extra>",
         "legendgroup": "bmi",
         "line": {
          "color": "#00cc96",
          "dash": "solid"
         },
         "mode": "lines",
         "name": "bmi",
         "orientation": "v",
         "showlegend": true,
         "type": "scatter",
         "x": [
          0.01,
          0.012263306841775632,
          0.015038869469554102,
          0.018442627085855347,
          0.022616759492228647,
          0.02773562614198415,
          0.03401304938279251,
          0.04171124612056518,
          0.051151780992931425,
          0.06272899858196247,
          0.07692649574879142,
          0.09433732216299774,
          0.1156887528316282,
          0.1418726674116596,
          0.1739828052930364,
          0.21336045265014109,
          0.2616504698748821,
          0.320869999737045,
          0.39349272630958493,
          0.48255220427412787,
          0.5917685748188825,
          0.7257039612324212,
          0.8899530352885229,
          1.0913767146512738,
          1.3383887531737564,
          1.6413071953751284,
          2.0127853758499383,
          2.4683404670686486,
          3.0270016537634614,
          3.7121050090663608,
          4.55226827550731,
          5.582586268862695,
          6.846096838574658,
          8.395578619995112,
          10.295755673125127,
          12.626001098748565,
          15.48365256585499,
          18.988078244652634,
          23.285662984981965,
          28.55592301990109,
          35.019004614317126,
          42.944879887892725,
          52.66462393484275,
          64.58424430196978,
          79.20164050192548,
          97.12740198471168,
          119.11031332830079,
          146.06863203649888,
          179.1284454622002,
          219.67070907932353,
          269.388930959017,
          330.35991201283395,
          405.1304969235378,
          496.8239594734388,
          609.2704661368674,
          747.1670675868082,
          916.2739011886731,
          1123.6548001387516,
          1377.9723598335568,
          1689.8497868124587,
          2072.3146452190294,
          2541.343036702639,
          3116.52694492943,
          3821.8926206331225,
          4686.904192314192,
          5747.694424835347,
          7048.574036451903,
          8643.882620598262,
          10600.258488068825,
          12999.42224413245,
          15941.590374559995,
          19549.661430912594,
          23974.349678010785,
          29400.480643347077,
          36054.71154250506,
          44214.99907374487,
          54222.21006501592,
          66494.35996665046,
          81544.07395185171,
          100000
         ],
         "xaxis": "x",
         "y": [
          520.5831362163512,
          520.1173020769791,
          519.4316668895137,
          518.4740176541519,
          517.1846914475515,
          515.4953286823549,
          513.3273765851895,
          510.5905195270559,
          507.1812922732509,
          502.9821990317527,
          497.8617184681272,
          491.67562406687017,
          484.2700835473583,
          475.4869994629301,
          465.17197691553883,
          453.1851001602439,
          439.41431467174374,
          423.7906224516276,
          406.3035562607989,
          387.0146643796082,
          366.06628618307184,
          343.68304858967065,
          320.1644741515276,
          295.8687855150868,
          271.18996809266554,
          246.5317138579588,
          222.28238979487358,
          198.79445415746292,
          176.3701409800647,
          155.2534743535399,
          135.62745088756665,
          117.61485076642299,
          101.2814460403321,
          86.64093469041066,
          73.66133357876707,
          62.27264154534706,
          52.37541427335659,
          43.84967248682076,
          36.56345985956229,
          30.38043333936227,
          25.166065402909304,
          20.792281795175562,
          17.14057549471233,
          14.103787526247663,
          11.5868206134182,
          9.506566185790552,
          7.791300146137819,
          6.379757939159161,
          5.220049425289614,
          4.268527641601975,
          3.48868687142122,
          2.85013561709267,
          2.3276684390581384,
          1.9004458042045729,
          1.5512815261455986,
          1.2660316609129576,
          1.0330756763360924,
          0.842879445559813,
          0.6876294697544241,
          0.5609282530585656,
          0.45754162430400397,
          0.3731898238634526,
          0.30437522508466186,
          0.24824056518651014,
          0.20245248141537114,
          0.16510596777931325,
          0.13464608228124464,
          0.10980384850595733,
          0.08954381702295514,
          0.07302119147868717,
          0.05954679198943763,
          0.0485584346165033,
          0.03959755957922553,
          0.03229015069080036,
          0.02633116147959162,
          0.021471805761358598,
          0.017509187299782365,
          0.014277839049394303,
          0.01164282100972292,
          0.009494090005683693
         ],
         "yaxis": "y"
        },
        {
         "hovertemplate": "variable=bp<br>alphas=%{x}<br>value=%{y}<extra></extra>",
         "legendgroup": "bp",
         "line": {
          "color": "#ab63fa",
          "dash": "solid"
         },
         "mode": "lines",
         "name": "bp",
         "orientation": "v",
         "showlegend": true,
         "type": "scatter",
         "x": [
          0.01,
          0.012263306841775632,
          0.015038869469554102,
          0.018442627085855347,
          0.022616759492228647,
          0.02773562614198415,
          0.03401304938279251,
          0.04171124612056518,
          0.051151780992931425,
          0.06272899858196247,
          0.07692649574879142,
          0.09433732216299774,
          0.1156887528316282,
          0.1418726674116596,
          0.1739828052930364,
          0.21336045265014109,
          0.2616504698748821,
          0.320869999737045,
          0.39349272630958493,
          0.48255220427412787,
          0.5917685748188825,
          0.7257039612324212,
          0.8899530352885229,
          1.0913767146512738,
          1.3383887531737564,
          1.6413071953751284,
          2.0127853758499383,
          2.4683404670686486,
          3.0270016537634614,
          3.7121050090663608,
          4.55226827550731,
          5.582586268862695,
          6.846096838574658,
          8.395578619995112,
          10.295755673125127,
          12.626001098748565,
          15.48365256585499,
          18.988078244652634,
          23.285662984981965,
          28.55592301990109,
          35.019004614317126,
          42.944879887892725,
          52.66462393484275,
          64.58424430196978,
          79.20164050192548,
          97.12740198471168,
          119.11031332830079,
          146.06863203649888,
          179.1284454622002,
          219.67070907932353,
          269.388930959017,
          330.35991201283395,
          405.1304969235378,
          496.8239594734388,
          609.2704661368674,
          747.1670675868082,
          916.2739011886731,
          1123.6548001387516,
          1377.9723598335568,
          1689.8497868124587,
          2072.3146452190294,
          2541.343036702639,
          3116.52694492943,
          3821.8926206331225,
          4686.904192314192,
          5747.694424835347,
          7048.574036451903,
          8643.882620598262,
          10600.258488068825,
          12999.42224413245,
          15941.590374559995,
          19549.661430912594,
          23974.349678010785,
          29400.480643347077,
          36054.71154250506,
          44214.99907374487,
          54222.21006501592,
          66494.35996665046,
          81544.07395185171,
          100000
         ],
         "xaxis": "x",
         "y": [
          320.5233558209227,
          319.89594830588584,
          319.1720280769228,
          318.33161199342305,
          317.34922413452585,
          316.19298168950985,
          314.8237415289435,
          313.19434857650856,
          311.2490491433618,
          308.9231676878353,
          306.1431893589393,
          302.82743608475204,
          298.8875608131109,
          294.23109765071956,
          288.7652734391518,
          282.4021837521931,
          275.06524563438757,
          266.6965667522586,
          257.26456067214565,
          246.77087417934953,
          235.25557458470422,
          222.79964863066334,
          209.52420401852888,
          195.5862769629153,
          181.171707893169,
          166.48599582859333,
          151.74424308356026,
          137.16119988322455,
          122.94208600189674,
          109.27449096456293,
          96.32143838368015,
          84.21573012846159,
          73.05587073246517,
          62.90400930520301,
          53.7862592208381,
          45.69544713701679,
          38.59593021664305,
          32.42978073459141,
          27.123490796473867,
          22.594413731152372,
          18.756368037784725,
          15.524090963427408,
          12.816464651877851,
          10.558607103360089,
          8.68301504592755,
          7.129978917443355,
          5.847481711923063,
          4.790762633476819,
          3.9216876394562554,
          3.2080309338035753,
          2.622738782683421,
          2.1432211930827134,
          1.7506978471369046,
          1.4296112498630997,
          1.1671111143243647,
          0.9526084189999798,
          0.7773943518789188,
          0.6343177422876666,
          0.5175140100288265,
          0.4221787308884091,
          0.3443793531797481,
          0.28089922002723167,
          0.22910874093857758,
          0.18685924373739804,
          0.15239568440688298,
          0.12428497784624429,
          0.10135722935898633,
          0.0826575946975365,
          0.06740687967682644,
          0.05496931482432213,
          0.044826213137681224,
          0.03655444668482684,
          0.029808867016511788,
          0.02430795106764805,
          0.01982208360664927,
          0.016163993861809528,
          0.01318095156516181,
          0.010748399569183503,
          0.008764759149031912,
          0.007147192388868874
         ],
         "yaxis": "y"
        },
        {
         "hovertemplate": "variable=s1<br>alphas=%{x}<br>value=%{y}<extra></extra>",
         "legendgroup": "s1",
         "line": {
          "color": "#FFA15A",
          "dash": "solid"
         },
         "mode": "lines",
         "name": "s1",
         "orientation": "v",
         "showlegend": true,
         "type": "scatter",
         "x": [
          0.01,
          0.012263306841775632,
          0.015038869469554102,
          0.018442627085855347,
          0.022616759492228647,
          0.02773562614198415,
          0.03401304938279251,
          0.04171124612056518,
          0.051151780992931425,
          0.06272899858196247,
          0.07692649574879142,
          0.09433732216299774,
          0.1156887528316282,
          0.1418726674116596,
          0.1739828052930364,
          0.21336045265014109,
          0.2616504698748821,
          0.320869999737045,
          0.39349272630958493,
          0.48255220427412787,
          0.5917685748188825,
          0.7257039612324212,
          0.8899530352885229,
          1.0913767146512738,
          1.3383887531737564,
          1.6413071953751284,
          2.0127853758499383,
          2.4683404670686486,
          3.0270016537634614,
          3.7121050090663608,
          4.55226827550731,
          5.582586268862695,
          6.846096838574658,
          8.395578619995112,
          10.295755673125127,
          12.626001098748565,
          15.48365256585499,
          18.988078244652634,
          23.285662984981965,
          28.55592301990109,
          35.019004614317126,
          42.944879887892725,
          52.66462393484275,
          64.58424430196978,
          79.20164050192548,
          97.12740198471168,
          119.11031332830079,
          146.06863203649888,
          179.1284454622002,
          219.67070907932353,
          269.388930959017,
          330.35991201283395,
          405.1304969235378,
          496.8239594734388,
          609.2704661368674,
          747.1670675868082,
          916.2739011886731,
          1123.6548001387516,
          1377.9723598335568,
          1689.8497868124587,
          2072.3146452190294,
          2541.343036702639,
          3116.52694492943,
          3821.8926206331225,
          4686.904192314192,
          5747.694424835347,
          7048.574036451903,
          8643.882620598262,
          10600.258488068825,
          12999.42224413245,
          15941.590374559995,
          19549.661430912594,
          23974.349678010785,
          29400.480643347077,
          36054.71154250506,
          44214.99907374487,
          54222.21006501592,
          66494.35996665046,
          81544.07395185171,
          100000
         ],
         "xaxis": "x",
         "y": [
          -380.6070656879188,
          -342.2429999837001,
          -305.20831585882274,
          -270.14008808312553,
          -237.5281185102883,
          -207.69574123484446,
          -180.80093380034785,
          -156.85345310027515,
          -135.74192082015432,
          -117.2648338708119,
          -101.16076158447227,
          -87.1347694549328,
          -74.8798000936356,
          -64.09303567289646,
          -54.48807757901558,
          -45.80414882068275,
          -37.81353082728676,
          -30.32815839401803,
          -23.205774858420963,
          -16.355372672961163,
          -9.74094348955132,
          -3.382033627612426,
          2.6505227594767775,
          8.244853381701787,
          13.26435051524407,
          17.568585837954895,
          21.035898543835163,
          23.58377381278028,
          25.183172539707705,
          25.86412092682309,
          25.711824684770097,
          24.85472144903765,
          23.447537128848634,
          21.653089318279584,
          19.62619833000866,
          17.501920967241084,
          15.388912987252093,
          13.367518169512723,
          11.49144062700663,
          9.791615905288873,
          8.281028702050245,
          6.959549677456753,
          5.81822621883933,
          4.842768262708603,
          4.016184498886301,
          3.320649142261252,
          2.7387355174965373,
          2.2541640116465476,
          1.8521987193006257,
          1.51980346523002,
          1.245642362715359,
          1.0199870181642567,
          0.8345736303628593,
          0.6824387693175905,
          0.5577520571083078,
          0.45565656471312843,
          0.3721227314441959,
          0.3038183553641333,
          0.24799517443629543,
          0.20239136743994549,
          0.16514866681884918,
          0.13474249302199773,
          0.1099234549696244,
          0.08966862290995252,
          0.07314110886811735,
          0.059656648717621476,
          0.04865604587427388,
          0.0396824966035981,
          0.03236296401430119,
          0.026392898920239778,
          0.021523720162571928,
          0.017552565299396843,
          0.014313906099758428,
          0.01167269363670557,
          0.00951875664500808,
          0.007762225814339415,
          0.006329797315908035,
          0.005161682433588049,
          0.004209117843201211,
          0.0034323338459105544
         ],
         "yaxis": "y"
        },
        {
         "hovertemplate": "variable=s2<br>alphas=%{x}<br>value=%{y}<extra></extra>",
         "legendgroup": "s2",
         "line": {
          "color": "#19d3f3",
          "dash": "solid"
         },
         "mode": "lines",
         "name": "s2",
         "orientation": "v",
         "showlegend": true,
         "type": "scatter",
         "x": [
          0.01,
          0.012263306841775632,
          0.015038869469554102,
          0.018442627085855347,
          0.022616759492228647,
          0.02773562614198415,
          0.03401304938279251,
          0.04171124612056518,
          0.051151780992931425,
          0.06272899858196247,
          0.07692649574879142,
          0.09433732216299774,
          0.1156887528316282,
          0.1418726674116596,
          0.1739828052930364,
          0.21336045265014109,
          0.2616504698748821,
          0.320869999737045,
          0.39349272630958493,
          0.48255220427412787,
          0.5917685748188825,
          0.7257039612324212,
          0.8899530352885229,
          1.0913767146512738,
          1.3383887531737564,
          1.6413071953751284,
          2.0127853758499383,
          2.4683404670686486,
          3.0270016537634614,
          3.7121050090663608,
          4.55226827550731,
          5.582586268862695,
          6.846096838574658,
          8.395578619995112,
          10.295755673125127,
          12.626001098748565,
          15.48365256585499,
          18.988078244652634,
          23.285662984981965,
          28.55592301990109,
          35.019004614317126,
          42.944879887892725,
          52.66462393484275,
          64.58424430196978,
          79.20164050192548,
          97.12740198471168,
          119.11031332830079,
          146.06863203649888,
          179.1284454622002,
          219.67070907932353,
          269.388930959017,
          330.35991201283395,
          405.1304969235378,
          496.8239594734388,
          609.2704661368674,
          747.1670675868082,
          916.2739011886731,
          1123.6548001387516,
          1377.9723598335568,
          1689.8497868124587,
          2072.3146452190294,
          2541.343036702639,
          3116.52694492943,
          3821.8926206331225,
          4686.904192314192,
          5747.694424835347,
          7048.574036451903,
          8643.882620598262,
          10600.258488068825,
          12999.42224413245,
          15941.590374559995,
          19549.661430912594,
          23974.349678010785,
          29400.480643347077,
          36054.71154250506,
          44214.99907374487,
          54222.21006501592,
          66494.35996665046,
          81544.07395185171,
          100000
         ],
         "xaxis": "x",
         "y": [
          150.48375153704194,
          120.1925878835768,
          91.02256531571442,
          63.50567611252348,
          38.06589870746023,
          15.005919304883879,
          -5.49012474986676,
          -23.341562745934255,
          -38.54894069906295,
          -51.169756532093984,
          -61.29627964616376,
          -69.03806603438481,
          -74.51034665349688,
          -77.82836607880638,
          -79.10705276562524,
          -78.46503634917231,
          -76.03184395086679,
          -71.95695951949628,
          -66.41922859343453,
          -59.634837088973164,
          -51.86188553875634,
          -43.39959419436506,
          -34.58060562691861,
          -25.755826998118145,
          -17.272725707659934,
          -9.449669365127427,
          -2.550291704583442,
          3.237556770146406,
          7.814280284657093,
          11.170100724013128,
          13.375696367253852,
          14.564179608138415,
          14.908247642242886,
          14.596803251390321,
          13.814704878769552,
          12.727933666641363,
          11.474895489621606,
          10.163279578270659,
          8.871125629259952,
          7.650522167854053,
          6.5325243615459305,
          5.532243736662639,
          4.653461611910772,
          3.892454338397876,
          3.2409547884245224,
          2.6883144624959514,
          2.222996188154241,
          1.833544300862445,
          1.5091689613786383,
          1.2400589915506577,
          1.0175124989888322,
          0.8339514123589669,
          0.6828668349700792,
          0.5587272124842715,
          0.45687028690746073,
          0.37339196882094833,
          0.30503986819665996,
          0.2491156339522947,
          0.20338794249668601,
          0.16601654933502977,
          0.1354869854554778,
          0.11055503620409142,
          0.09019994266348046,
          0.07358521825445465,
          0.06002601300410474,
          0.048962043778465726,
          0.039935215107052495,
          0.03257116650420938,
          0.026564089502671355,
          0.021664256264221447,
          0.017667789554063493,
          0.014408280570979697,
          0.011749927026130908,
          0.009581919841544545,
          0.007813853981714195,
          0.006371978371240401,
          0.005196132677199103,
          0.004237245945658365,
          0.003455294565777042,
          0.0028176355659257487
         ],
         "yaxis": "y"
        },
        {
         "hovertemplate": "variable=s3<br>alphas=%{x}<br>value=%{y}<extra></extra>",
         "legendgroup": "s3",
         "line": {
          "color": "#FF6692",
          "dash": "solid"
         },
         "mode": "lines",
         "name": "s3",
         "orientation": "v",
         "showlegend": true,
         "type": "scatter",
         "x": [
          0.01,
          0.012263306841775632,
          0.015038869469554102,
          0.018442627085855347,
          0.022616759492228647,
          0.02773562614198415,
          0.03401304938279251,
          0.04171124612056518,
          0.051151780992931425,
          0.06272899858196247,
          0.07692649574879142,
          0.09433732216299774,
          0.1156887528316282,
          0.1418726674116596,
          0.1739828052930364,
          0.21336045265014109,
          0.2616504698748821,
          0.320869999737045,
          0.39349272630958493,
          0.48255220427412787,
          0.5917685748188825,
          0.7257039612324212,
          0.8899530352885229,
          1.0913767146512738,
          1.3383887531737564,
          1.6413071953751284,
          2.0127853758499383,
          2.4683404670686486,
          3.0270016537634614,
          3.7121050090663608,
          4.55226827550731,
          5.582586268862695,
          6.846096838574658,
          8.395578619995112,
          10.295755673125127,
          12.626001098748565,
          15.48365256585499,
          18.988078244652634,
          23.285662984981965,
          28.55592301990109,
          35.019004614317126,
          42.944879887892725,
          52.66462393484275,
          64.58424430196978,
          79.20164050192548,
          97.12740198471168,
          119.11031332830079,
          146.06863203649888,
          179.1284454622002,
          219.67070907932353,
          269.388930959017,
          330.35991201283395,
          405.1304969235378,
          496.8239594734388,
          609.2704661368674,
          747.1670675868082,
          916.2739011886731,
          1123.6548001387516,
          1377.9723598335568,
          1689.8497868124587,
          2072.3146452190294,
          2541.343036702639,
          3116.52694492943,
          3821.8926206331225,
          4686.904192314192,
          5747.694424835347,
          7048.574036451903,
          8643.882620598262,
          10600.258488068825,
          12999.42224413245,
          15941.590374559995,
          19549.661430912594,
          23974.349678010785,
          29400.480643347077,
          36054.71154250506,
          44214.99907374487,
          54222.21006501592,
          66494.35996665046,
          81544.07395185171,
          100000
         ],
         "xaxis": "x",
         "y": [
          -78.59123221330175,
          -94.84784814206907,
          -110.34962707510603,
          -124.79171714150408,
          -137.93536688695485,
          -149.61716493926147,
          -159.74902095268524,
          -168.31057809363165,
          -175.33654372301268,
          -180.90147206567727,
          -185.10411714548752,
          -188.05291149356816,
          -189.85362184515498,
          -190.59985186990255,
          -190.36677484935853,
          -189.2082322191055,
          -187.15709350905962,
          -184.22853588810878,
          -180.42568305375192,
          -175.74686739372328,
          -170.19367122514575,
          -163.7788807030504,
          -156.53354987349667,
          -148.5124995523305,
          -139.79773106182023,
          -130.49939146009143,
          -120.75408062102595,
          -110.72045927140492,
          -100.57232976804633,
          -90.48964116548409,
          -80.64820863764733,
          -71.20926667843982,
          -62.31016883398827,
          -54.057473805780035,
          -46.52327267899736,
          -39.74500459583619,
          -33.72837023254927,
          -28.45247989315064,
          -23.876174617445116,
          -19.944526512288427,
          -16.594767999961658,
          -13.76120529098274,
          -11.378949569092983,
          -9.386503063502198,
          -7.727357101466838,
          -6.350809034449299,
          -5.21220671590638,
          -4.272804086881764,
          -3.499375309431746,
          -2.863697840062838,
          -2.3419821336713675,
          -1.9142993331733669,
          -1.5640384486368135,
          -1.277410352391579,
          -1.0430062828993232,
          -0.8514123381178496,
          -0.6948776832175841,
          -0.567032132829316,
          -0.462647821457924,
          -0.3774394358763307,
          -0.3078976652104738,
          -0.25115093701799907,
          -0.20485102722822382,
          -0.16707868135079113,
          -0.1362659184349912,
          -0.11113218316994979,
          -0.09063195378630513,
          -0.07391180071627584,
          -0.06027522471206125,
          -0.04915388730144215,
          -0.040084086251417454,
          -0.03268752964003714,
          -0.026655629586698783,
          -0.021736675643189065,
          -0.01772536276029708,
          -0.014454243519610251,
          -0.011786752316647515,
          -0.009611513258226666,
          -0.007837696104172936,
          -0.0063912276595829995
         ],
         "yaxis": "y"
        },
        {
         "hovertemplate": "variable=s4<br>alphas=%{x}<br>value=%{y}<extra></extra>",
         "legendgroup": "s4",
         "line": {
          "color": "#B6E880",
          "dash": "solid"
         },
         "mode": "lines",
         "name": "s4",
         "orientation": "v",
         "showlegend": true,
         "type": "scatter",
         "x": [
          0.01,
          0.012263306841775632,
          0.015038869469554102,
          0.018442627085855347,
          0.022616759492228647,
          0.02773562614198415,
          0.03401304938279251,
          0.04171124612056518,
          0.051151780992931425,
          0.06272899858196247,
          0.07692649574879142,
          0.09433732216299774,
          0.1156887528316282,
          0.1418726674116596,
          0.1739828052930364,
          0.21336045265014109,
          0.2616504698748821,
          0.320869999737045,
          0.39349272630958493,
          0.48255220427412787,
          0.5917685748188825,
          0.7257039612324212,
          0.8899530352885229,
          1.0913767146512738,
          1.3383887531737564,
          1.6413071953751284,
          2.0127853758499383,
          2.4683404670686486,
          3.0270016537634614,
          3.7121050090663608,
          4.55226827550731,
          5.582586268862695,
          6.846096838574658,
          8.395578619995112,
          10.295755673125127,
          12.626001098748565,
          15.48365256585499,
          18.988078244652634,
          23.285662984981965,
          28.55592301990109,
          35.019004614317126,
          42.944879887892725,
          52.66462393484275,
          64.58424430196978,
          79.20164050192548,
          97.12740198471168,
          119.11031332830079,
          146.06863203649888,
          179.1284454622002,
          219.67070907932353,
          269.388930959017,
          330.35991201283395,
          405.1304969235378,
          496.8239594734388,
          609.2704661368674,
          747.1670675868082,
          916.2739011886731,
          1123.6548001387516,
          1377.9723598335568,
          1689.8497868124587,
          2072.3146452190294,
          2541.343036702639,
          3116.52694492943,
          3821.8926206331225,
          4686.904192314192,
          5747.694424835347,
          7048.574036451903,
          8643.882620598262,
          10600.258488068825,
          12999.42224413245,
          15941.590374559995,
          19549.661430912594,
          23974.349678010785,
          29400.480643347077,
          36054.71154250506,
          44214.99907374487,
          54222.21006501592,
          66494.35996665046,
          81544.07395185171,
          100000
         ],
         "xaxis": "x",
         "y": [
          130.3130586809627,
          126.5517117972733,
          123.14368060337776,
          120.18443323590415,
          117.74589253523006,
          115.87191121932965,
          114.57643440992715,
          113.84415888653052,
          113.6332961963719,
          113.87996936528602,
          114.50372507295087,
          115.41356396288992,
          116.51379645148428,
          117.70899444432762,
          118.9074066769932,
          120.02245884879139,
          120.97232244154047,
          121.6779235863286,
          122.06010031917882,
          122.03686164572962,
          121.52183400023333,
          120.42496557522115,
          118.65633175998349,
          116.13337796737713,
          112.79114679121,
          108.59409189910484,
          103.54724556612247,
          97.704105120654,
          91.1688869048347,
          84.09181208964186,
          76.6576179391724,
          69.06908863990239,
          61.52855651463104,
          54.220658925289875,
          47.299076025384466,
          40.87878116185204,
          35.033966821881705,
          29.800699937489522,
          25.182755060736827,
          21.158983834918487,
          17.690854449500613,
          14.729235421644468,
          12.219939596630374,
          10.107892692258607,
          8.340017016660536,
          6.8670375575268086,
          5.644454367777109,
          4.632913287993262,
          3.7981713665195707,
          3.1108103952376656,
          2.5458111382658335,
          2.0820663711149923,
          1.701883931884355,
          1.390511135037143,
          1.1356979429371348,
          0.9273069113431407,
          0.7569719177986675,
          0.617804056896988,
          0.5041410830665176,
          0.4113358417824163,
          0.3355788593862653,
          0.2737503896608147,
          0.22329756223984598,
          0.18213272807812272,
          0.148549578758052,
          0.12115408701719746,
          0.09880775244346589,
          0.08058102793391375,
          0.06571514588696248,
          0.05359085922408771,
          0.04370286462106385,
          0.03563888828801686,
          0.029062593131103154,
          0.023699614910784945,
          0.019326158490990515,
          0.015759687401540445,
          0.012851324174100029,
          0.010479648241495547,
          0.008545635149675355,
          0.0069685275618075245
         ],
         "yaxis": "y"
        },
        {
         "hovertemplate": "variable=s5<br>alphas=%{x}<br>value=%{y}<extra></extra>",
         "legendgroup": "s5",
         "line": {
          "color": "#FF97FF",
          "dash": "solid"
         },
         "mode": "lines",
         "name": "s5",
         "orientation": "v",
         "showlegend": true,
         "type": "scatter",
         "x": [
          0.01,
          0.012263306841775632,
          0.015038869469554102,
          0.018442627085855347,
          0.022616759492228647,
          0.02773562614198415,
          0.03401304938279251,
          0.04171124612056518,
          0.051151780992931425,
          0.06272899858196247,
          0.07692649574879142,
          0.09433732216299774,
          0.1156887528316282,
          0.1418726674116596,
          0.1739828052930364,
          0.21336045265014109,
          0.2616504698748821,
          0.320869999737045,
          0.39349272630958493,
          0.48255220427412787,
          0.5917685748188825,
          0.7257039612324212,
          0.8899530352885229,
          1.0913767146512738,
          1.3383887531737564,
          1.6413071953751284,
          2.0127853758499383,
          2.4683404670686486,
          3.0270016537634614,
          3.7121050090663608,
          4.55226827550731,
          5.582586268862695,
          6.846096838574658,
          8.395578619995112,
          10.295755673125127,
          12.626001098748565,
          15.48365256585499,
          18.988078244652634,
          23.285662984981965,
          28.55592301990109,
          35.019004614317126,
          42.944879887892725,
          52.66462393484275,
          64.58424430196978,
          79.20164050192548,
          97.12740198471168,
          119.11031332830079,
          146.06863203649888,
          179.1284454622002,
          219.67070907932353,
          269.388930959017,
          330.35991201283395,
          405.1304969235378,
          496.8239594734388,
          609.2704661368674,
          747.1670675868082,
          916.2739011886731,
          1123.6548001387516,
          1377.9723598335568,
          1689.8497868124587,
          2072.3146452190294,
          2541.343036702639,
          3116.52694492943,
          3821.8926206331225,
          4686.904192314192,
          5747.694424835347,
          7048.574036451903,
          8643.882620598262,
          10600.258488068825,
          12999.42224413245,
          15941.590374559995,
          19549.661430912594,
          23974.349678010785,
          29400.480643347077,
          36054.71154250506,
          44214.99907374487,
          54222.21006501592,
          66494.35996665046,
          81544.07395185171,
          100000
         ],
         "xaxis": "x",
         "y": [
          592.3495866188401,
          576.8564043420384,
          561.6150579061783,
          546.8190629279314,
          532.6010899899202,
          519.0255390587781,
          506.0887904457389,
          493.72557552331705,
          481.81927888696976,
          470.214066160439,
          458.72729330320254,
          447.16138837936677,
          435.31504150972586,
          422.9939238194487,
          410.02121641756173,
          396.2479955196018,
          381.56309769508806,
          365.9016413027746,
          349.25108448918354,
          331.6537030366167,
          313.2047381877038,
          294.0461468908125,
          274.3567216561242,
          254.3400916128707,
          234.21251314885464,
          214.19222437286237,
          194.49145799676245,
          175.3111930895564,
          156.8377718117922,
          139.24002667337888,
          122.66577306869783,
          107.2373017770867,
          93.0464520356665,
          80.15048818998889,
          68.57006175859804,
          58.290050740278375,
          49.263310846311754,
          41.41668937174679,
          34.658267990195476,
          28.88476304752784,
          23.98823003201075,
          19.861550392718932,
          16.402501809016545,
          13.516457767070085,
          11.11790940005601,
          9.131064542441289,
          7.489781409569404,
          6.137062969408112,
          5.024292772025204,
          4.11034646078038,
          3.360672135077457,
          2.7463997626626218,
          2.243515110898877,
          1.832116148898288,
          1.4957581185929543,
          1.220886044653238,
          0.9963491134594162,
          0.8129891211986732,
          0.6632943390803284,
          0.5411101464639823,
          0.44139827994039404,
          0.36003729843101256,
          0.293657717757153,
          0.23950612908810825,
          0.19533343047615587,
          0.15930304170703674,
          0.12991562878591492,
          0.10594743434005396,
          0.08639979850256801,
          0.07045786878933072,
          0.057456845604852,
          0.04685440096180027,
          0.0382081499782569,
          0.031157255193322346,
          0.025407409324398302,
          0.020718578516533394,
          0.01689500031814837,
          0.013777022720158396,
          0.011234446114894372,
          0.009161091889161989
         ],
         "yaxis": "y"
        },
        {
         "hovertemplate": "variable=s6<br>alphas=%{x}<br>value=%{y}<extra></extra>",
         "legendgroup": "s6",
         "line": {
          "color": "#FECB52",
          "dash": "solid"
         },
         "mode": "lines",
         "name": "s6",
         "orientation": "v",
         "showlegend": true,
         "type": "scatter",
         "x": [
          0.01,
          0.012263306841775632,
          0.015038869469554102,
          0.018442627085855347,
          0.022616759492228647,
          0.02773562614198415,
          0.03401304938279251,
          0.04171124612056518,
          0.051151780992931425,
          0.06272899858196247,
          0.07692649574879142,
          0.09433732216299774,
          0.1156887528316282,
          0.1418726674116596,
          0.1739828052930364,
          0.21336045265014109,
          0.2616504698748821,
          0.320869999737045,
          0.39349272630958493,
          0.48255220427412787,
          0.5917685748188825,
          0.7257039612324212,
          0.8899530352885229,
          1.0913767146512738,
          1.3383887531737564,
          1.6413071953751284,
          2.0127853758499383,
          2.4683404670686486,
          3.0270016537634614,
          3.7121050090663608,
          4.55226827550731,
          5.582586268862695,
          6.846096838574658,
          8.395578619995112,
          10.295755673125127,
          12.626001098748565,
          15.48365256585499,
          18.988078244652634,
          23.285662984981965,
          28.55592301990109,
          35.019004614317126,
          42.944879887892725,
          52.66462393484275,
          64.58424430196978,
          79.20164050192548,
          97.12740198471168,
          119.11031332830079,
          146.06863203649888,
          179.1284454622002,
          219.67070907932353,
          269.388930959017,
          330.35991201283395,
          405.1304969235378,
          496.8239594734388,
          609.2704661368674,
          747.1670675868082,
          916.2739011886731,
          1123.6548001387516,
          1377.9723598335568,
          1689.8497868124587,
          2072.3146452190294,
          2541.343036702639,
          3116.52694492943,
          3821.8926206331225,
          4686.904192314192,
          5747.694424835347,
          7048.574036451903,
          8643.882620598262,
          10600.258488068825,
          12999.42224413245,
          15941.590374559995,
          19549.661430912594,
          23974.349678010785,
          29400.480643347077,
          36054.71154250506,
          44214.99907374487,
          54222.21006501592,
          66494.35996665046,
          81544.07395185171,
          100000
         ],
         "xaxis": "x",
         "y": [
          71.13376810337851,
          71.71525871413414,
          72.38591001478892,
          73.16181924372701,
          74.06238836199886,
          75.11035831623691,
          76.33148723717386,
          77.75374331638352,
          79.40585648823064,
          81.31505220044859,
          83.50379438196417,
          85.98541898284456,
          88.7586733329537,
          91.80141468973667,
          95.06406878174145,
          98.46386911161667,
          101.8812895970673,
          105.16027845656407,
          108.11370201138628,
          110.53467645295859,
          112.21324606841975,
          112.9564521416374,
          112.60871588193264,
          111.06910342718682,
          108.30264354478588,
          104.34420273550694,
          99.29495215466392,
          93.31264411475495,
          86.59749399441635,
          79.37553605429524,
          71.88118031665245,
          64.34056835267627,
          56.957224223947655,
          49.901281988061186,
          43.30311854513128,
          37.251556347900056,
          31.796099226314183,
          26.95213754395716,
          22.70783475280226,
          19.03148516871545,
          15.878414184220784,
          13.196848778492006,
          10.932514643761122,
          9.031960838277133,
          7.444761308166748,
          6.124809418415468,
          5.030931590167046,
          4.127023358844856,
          3.3818740615287965,
          2.7688067680513226,
          2.265224365456994,
          1.8521235040861066,
          1.5136157968319979,
          1.2364794928027862,
          1.0097536659752595,
          0.8243795795470588,
          0.672889265965745,
          0.5491386657699947,
          0.44808126360802136,
          0.3655775893813413,
          0.29823589623461966,
          0.24327956803572384,
          0.1984372044235715,
          0.1618517908547551,
          0.13200582922334841,
          0.10765974998444451,
          0.08780133293851551,
          0.07160422414238266,
          0.05839394977216492,
          0.04762009641390124,
          0.03883355512094729,
          0.03166791827167244,
          0.025824278510002026,
          0.021058812351544186,
          0.01717264148894895,
          0.014003556064891716,
          0.011419259356382527,
          0.009311855133926725,
          0.007593349714957267,
          0.006191982349404987
         ],
         "yaxis": "y"
        }
       ],
       "layout": {
        "legend": {
         "title": {
          "text": "variable"
         },
         "tracegroupgap": 0
        },
        "margin": {
         "t": 60
        },
        "template": {
         "data": {
          "bar": [
           {
            "error_x": {
             "color": "#2a3f5f"
            },
            "error_y": {
             "color": "#2a3f5f"
            },
            "marker": {
             "line": {
              "color": "#E5ECF6",
              "width": 0.5
             }
            },
            "type": "bar"
           }
          ],
          "barpolar": [
           {
            "marker": {
             "line": {
              "color": "#E5ECF6",
              "width": 0.5
             }
            },
            "type": "barpolar"
           }
          ],
          "carpet": [
           {
            "aaxis": {
             "endlinecolor": "#2a3f5f",
             "gridcolor": "white",
             "linecolor": "white",
             "minorgridcolor": "white",
             "startlinecolor": "#2a3f5f"
            },
            "baxis": {
             "endlinecolor": "#2a3f5f",
             "gridcolor": "white",
             "linecolor": "white",
             "minorgridcolor": "white",
             "startlinecolor": "#2a3f5f"
            },
            "type": "carpet"
           }
          ],
          "choropleth": [
           {
            "colorbar": {
             "outlinewidth": 0,
             "ticks": ""
            },
            "type": "choropleth"
           }
          ],
          "contour": [
           {
            "colorbar": {
             "outlinewidth": 0,
             "ticks": ""
            },
            "colorscale": [
             [
              0,
              "#0d0887"
             ],
             [
              0.1111111111111111,
              "#46039f"
             ],
             [
              0.2222222222222222,
              "#7201a8"
             ],
             [
              0.3333333333333333,
              "#9c179e"
             ],
             [
              0.4444444444444444,
              "#bd3786"
             ],
             [
              0.5555555555555556,
              "#d8576b"
             ],
             [
              0.6666666666666666,
              "#ed7953"
             ],
             [
              0.7777777777777778,
              "#fb9f3a"
             ],
             [
              0.8888888888888888,
              "#fdca26"
             ],
             [
              1,
              "#f0f921"
             ]
            ],
            "type": "contour"
           }
          ],
          "contourcarpet": [
           {
            "colorbar": {
             "outlinewidth": 0,
             "ticks": ""
            },
            "type": "contourcarpet"
           }
          ],
          "heatmap": [
           {
            "colorbar": {
             "outlinewidth": 0,
             "ticks": ""
            },
            "colorscale": [
             [
              0,
              "#0d0887"
             ],
             [
              0.1111111111111111,
              "#46039f"
             ],
             [
              0.2222222222222222,
              "#7201a8"
             ],
             [
              0.3333333333333333,
              "#9c179e"
             ],
             [
              0.4444444444444444,
              "#bd3786"
             ],
             [
              0.5555555555555556,
              "#d8576b"
             ],
             [
              0.6666666666666666,
              "#ed7953"
             ],
             [
              0.7777777777777778,
              "#fb9f3a"
             ],
             [
              0.8888888888888888,
              "#fdca26"
             ],
             [
              1,
              "#f0f921"
             ]
            ],
            "type": "heatmap"
           }
          ],
          "heatmapgl": [
           {
            "colorbar": {
             "outlinewidth": 0,
             "ticks": ""
            },
            "colorscale": [
             [
              0,
              "#0d0887"
             ],
             [
              0.1111111111111111,
              "#46039f"
             ],
             [
              0.2222222222222222,
              "#7201a8"
             ],
             [
              0.3333333333333333,
              "#9c179e"
             ],
             [
              0.4444444444444444,
              "#bd3786"
             ],
             [
              0.5555555555555556,
              "#d8576b"
             ],
             [
              0.6666666666666666,
              "#ed7953"
             ],
             [
              0.7777777777777778,
              "#fb9f3a"
             ],
             [
              0.8888888888888888,
              "#fdca26"
             ],
             [
              1,
              "#f0f921"
             ]
            ],
            "type": "heatmapgl"
           }
          ],
          "histogram": [
           {
            "marker": {
             "colorbar": {
              "outlinewidth": 0,
              "ticks": ""
             }
            },
            "type": "histogram"
           }
          ],
          "histogram2d": [
           {
            "colorbar": {
             "outlinewidth": 0,
             "ticks": ""
            },
            "colorscale": [
             [
              0,
              "#0d0887"
             ],
             [
              0.1111111111111111,
              "#46039f"
             ],
             [
              0.2222222222222222,
              "#7201a8"
             ],
             [
              0.3333333333333333,
              "#9c179e"
             ],
             [
              0.4444444444444444,
              "#bd3786"
             ],
             [
              0.5555555555555556,
              "#d8576b"
             ],
             [
              0.6666666666666666,
              "#ed7953"
             ],
             [
              0.7777777777777778,
              "#fb9f3a"
             ],
             [
              0.8888888888888888,
              "#fdca26"
             ],
             [
              1,
              "#f0f921"
             ]
            ],
            "type": "histogram2d"
           }
          ],
          "histogram2dcontour": [
           {
            "colorbar": {
             "outlinewidth": 0,
             "ticks": ""
            },
            "colorscale": [
             [
              0,
              "#0d0887"
             ],
             [
              0.1111111111111111,
              "#46039f"
             ],
             [
              0.2222222222222222,
              "#7201a8"
             ],
             [
              0.3333333333333333,
              "#9c179e"
             ],
             [
              0.4444444444444444,
              "#bd3786"
             ],
             [
              0.5555555555555556,
              "#d8576b"
             ],
             [
              0.6666666666666666,
              "#ed7953"
             ],
             [
              0.7777777777777778,
              "#fb9f3a"
             ],
             [
              0.8888888888888888,
              "#fdca26"
             ],
             [
              1,
              "#f0f921"
             ]
            ],
            "type": "histogram2dcontour"
           }
          ],
          "mesh3d": [
           {
            "colorbar": {
             "outlinewidth": 0,
             "ticks": ""
            },
            "type": "mesh3d"
           }
          ],
          "parcoords": [
           {
            "line": {
             "colorbar": {
              "outlinewidth": 0,
              "ticks": ""
             }
            },
            "type": "parcoords"
           }
          ],
          "pie": [
           {
            "automargin": true,
            "type": "pie"
           }
          ],
          "scatter": [
           {
            "marker": {
             "colorbar": {
              "outlinewidth": 0,
              "ticks": ""
             }
            },
            "type": "scatter"
           }
          ],
          "scatter3d": [
           {
            "line": {
             "colorbar": {
              "outlinewidth": 0,
              "ticks": ""
             }
            },
            "marker": {
             "colorbar": {
              "outlinewidth": 0,
              "ticks": ""
             }
            },
            "type": "scatter3d"
           }
          ],
          "scattercarpet": [
           {
            "marker": {
             "colorbar": {
              "outlinewidth": 0,
              "ticks": ""
             }
            },
            "type": "scattercarpet"
           }
          ],
          "scattergeo": [
           {
            "marker": {
             "colorbar": {
              "outlinewidth": 0,
              "ticks": ""
             }
            },
            "type": "scattergeo"
           }
          ],
          "scattergl": [
           {
            "marker": {
             "colorbar": {
              "outlinewidth": 0,
              "ticks": ""
             }
            },
            "type": "scattergl"
           }
          ],
          "scattermapbox": [
           {
            "marker": {
             "colorbar": {
              "outlinewidth": 0,
              "ticks": ""
             }
            },
            "type": "scattermapbox"
           }
          ],
          "scatterpolar": [
           {
            "marker": {
             "colorbar": {
              "outlinewidth": 0,
              "ticks": ""
             }
            },
            "type": "scatterpolar"
           }
          ],
          "scatterpolargl": [
           {
            "marker": {
             "colorbar": {
              "outlinewidth": 0,
              "ticks": ""
             }
            },
            "type": "scatterpolargl"
           }
          ],
          "scatterternary": [
           {
            "marker": {
             "colorbar": {
              "outlinewidth": 0,
              "ticks": ""
             }
            },
            "type": "scatterternary"
           }
          ],
          "surface": [
           {
            "colorbar": {
             "outlinewidth": 0,
             "ticks": ""
            },
            "colorscale": [
             [
              0,
              "#0d0887"
             ],
             [
              0.1111111111111111,
              "#46039f"
             ],
             [
              0.2222222222222222,
              "#7201a8"
             ],
             [
              0.3333333333333333,
              "#9c179e"
             ],
             [
              0.4444444444444444,
              "#bd3786"
             ],
             [
              0.5555555555555556,
              "#d8576b"
             ],
             [
              0.6666666666666666,
              "#ed7953"
             ],
             [
              0.7777777777777778,
              "#fb9f3a"
             ],
             [
              0.8888888888888888,
              "#fdca26"
             ],
             [
              1,
              "#f0f921"
             ]
            ],
            "type": "surface"
           }
          ],
          "table": [
           {
            "cells": {
             "fill": {
              "color": "#EBF0F8"
             },
             "line": {
              "color": "white"
             }
            },
            "header": {
             "fill": {
              "color": "#C8D4E3"
             },
             "line": {
              "color": "white"
             }
            },
            "type": "table"
           }
          ]
         },
         "layout": {
          "annotationdefaults": {
           "arrowcolor": "#2a3f5f",
           "arrowhead": 0,
           "arrowwidth": 1
          },
          "coloraxis": {
           "colorbar": {
            "outlinewidth": 0,
            "ticks": ""
           }
          },
          "colorscale": {
           "diverging": [
            [
             0,
             "#8e0152"
            ],
            [
             0.1,
             "#c51b7d"
            ],
            [
             0.2,
             "#de77ae"
            ],
            [
             0.3,
             "#f1b6da"
            ],
            [
             0.4,
             "#fde0ef"
            ],
            [
             0.5,
             "#f7f7f7"
            ],
            [
             0.6,
             "#e6f5d0"
            ],
            [
             0.7,
             "#b8e186"
            ],
            [
             0.8,
             "#7fbc41"
            ],
            [
             0.9,
             "#4d9221"
            ],
            [
             1,
             "#276419"
            ]
           ],
           "sequential": [
            [
             0,
             "#0d0887"
            ],
            [
             0.1111111111111111,
             "#46039f"
            ],
            [
             0.2222222222222222,
             "#7201a8"
            ],
            [
             0.3333333333333333,
             "#9c179e"
            ],
            [
             0.4444444444444444,
             "#bd3786"
            ],
            [
             0.5555555555555556,
             "#d8576b"
            ],
            [
             0.6666666666666666,
             "#ed7953"
            ],
            [
             0.7777777777777778,
             "#fb9f3a"
            ],
            [
             0.8888888888888888,
             "#fdca26"
            ],
            [
             1,
             "#f0f921"
            ]
           ],
           "sequentialminus": [
            [
             0,
             "#0d0887"
            ],
            [
             0.1111111111111111,
             "#46039f"
            ],
            [
             0.2222222222222222,
             "#7201a8"
            ],
            [
             0.3333333333333333,
             "#9c179e"
            ],
            [
             0.4444444444444444,
             "#bd3786"
            ],
            [
             0.5555555555555556,
             "#d8576b"
            ],
            [
             0.6666666666666666,
             "#ed7953"
            ],
            [
             0.7777777777777778,
             "#fb9f3a"
            ],
            [
             0.8888888888888888,
             "#fdca26"
            ],
            [
             1,
             "#f0f921"
            ]
           ]
          },
          "colorway": [
           "#636efa",
           "#EF553B",
           "#00cc96",
           "#ab63fa",
           "#FFA15A",
           "#19d3f3",
           "#FF6692",
           "#B6E880",
           "#FF97FF",
           "#FECB52"
          ],
          "font": {
           "color": "#2a3f5f"
          },
          "geo": {
           "bgcolor": "white",
           "lakecolor": "white",
           "landcolor": "#E5ECF6",
           "showlakes": true,
           "showland": true,
           "subunitcolor": "white"
          },
          "hoverlabel": {
           "align": "left"
          },
          "hovermode": "closest",
          "mapbox": {
           "style": "light"
          },
          "paper_bgcolor": "white",
          "plot_bgcolor": "#E5ECF6",
          "polar": {
           "angularaxis": {
            "gridcolor": "white",
            "linecolor": "white",
            "ticks": ""
           },
           "bgcolor": "#E5ECF6",
           "radialaxis": {
            "gridcolor": "white",
            "linecolor": "white",
            "ticks": ""
           }
          },
          "scene": {
           "xaxis": {
            "backgroundcolor": "#E5ECF6",
            "gridcolor": "white",
            "gridwidth": 2,
            "linecolor": "white",
            "showbackground": true,
            "ticks": "",
            "zerolinecolor": "white"
           },
           "yaxis": {
            "backgroundcolor": "#E5ECF6",
            "gridcolor": "white",
            "gridwidth": 2,
            "linecolor": "white",
            "showbackground": true,
            "ticks": "",
            "zerolinecolor": "white"
           },
           "zaxis": {
            "backgroundcolor": "#E5ECF6",
            "gridcolor": "white",
            "gridwidth": 2,
            "linecolor": "white",
            "showbackground": true,
            "ticks": "",
            "zerolinecolor": "white"
           }
          },
          "shapedefaults": {
           "line": {
            "color": "#2a3f5f"
           }
          },
          "ternary": {
           "aaxis": {
            "gridcolor": "white",
            "linecolor": "white",
            "ticks": ""
           },
           "baxis": {
            "gridcolor": "white",
            "linecolor": "white",
            "ticks": ""
           },
           "bgcolor": "#E5ECF6",
           "caxis": {
            "gridcolor": "white",
            "linecolor": "white",
            "ticks": ""
           }
          },
          "title": {
           "x": 0.05
          },
          "xaxis": {
           "automargin": true,
           "gridcolor": "white",
           "linecolor": "white",
           "ticks": "",
           "title": {
            "standoff": 15
           },
           "zerolinecolor": "white",
           "zerolinewidth": 2
          },
          "yaxis": {
           "automargin": true,
           "gridcolor": "white",
           "linecolor": "white",
           "ticks": "",
           "title": {
            "standoff": 15
           },
           "zerolinecolor": "white",
           "zerolinewidth": 2
          }
         }
        },
        "xaxis": {
         "anchor": "y",
         "domain": [
          0,
          1
         ],
         "title": {
          "text": "alphas"
         },
         "type": "log"
        },
        "yaxis": {
         "anchor": "x",
         "domain": [
          0,
          1
         ],
         "title": {
          "text": "value"
         }
        }
       }
      },
      "text/html": "<div>                            <div id=\"e66bbfd7-2a47-48f5-8cfe-95f725defa22\" class=\"plotly-graph-div\" style=\"height:525px; width:100%;\"></div>            <script type=\"text/javascript\">                require([\"plotly\"], function(Plotly) {                    window.PLOTLYENV=window.PLOTLYENV || {};                                    if (document.getElementById(\"e66bbfd7-2a47-48f5-8cfe-95f725defa22\")) {                    Plotly.newPlot(                        \"e66bbfd7-2a47-48f5-8cfe-95f725defa22\",                        [{\"hovertemplate\": \"variable=age<br>alphas=%{x}<br>value=%{y}<extra></extra>\", \"legendgroup\": \"age\", \"line\": {\"color\": \"#636efa\", \"dash\": \"solid\"}, \"mode\": \"lines\", \"name\": \"age\", \"orientation\": \"v\", \"showlegend\": true, \"type\": \"scatter\", \"x\": [0.01, 0.012263306841775632, 0.015038869469554102, 0.018442627085855347, 0.022616759492228647, 0.02773562614198415, 0.03401304938279251, 0.04171124612056518, 0.051151780992931425, 0.06272899858196247, 0.07692649574879142, 0.09433732216299774, 0.1156887528316282, 0.1418726674116596, 0.1739828052930364, 0.21336045265014109, 0.2616504698748821, 0.320869999737045, 0.39349272630958493, 0.48255220427412787, 0.5917685748188825, 0.7257039612324212, 0.8899530352885229, 1.0913767146512738, 1.3383887531737564, 1.6413071953751284, 2.0127853758499383, 2.4683404670686486, 3.0270016537634614, 3.7121050090663608, 4.55226827550731, 5.582586268862695, 6.846096838574658, 8.395578619995112, 10.295755673125127, 12.626001098748565, 15.48365256585499, 18.988078244652634, 23.285662984981965, 28.55592301990109, 35.019004614317126, 42.944879887892725, 52.66462393484275, 64.58424430196978, 79.20164050192548, 97.12740198471168, 119.11031332830079, 146.06863203649888, 179.1284454622002, 219.67070907932353, 269.388930959017, 330.35991201283395, 405.1304969235378, 496.8239594734388, 609.2704661368674, 747.1670675868082, 916.2739011886731, 1123.6548001387516, 1377.9723598335568, 1689.8497868124587, 2072.3146452190294, 2541.343036702639, 3116.52694492943, 3821.8926206331225, 4686.904192314192, 5747.694424835347, 7048.574036451903, 8643.882620598262, 10600.258488068825, 12999.42224413245, 15941.590374559995, 19549.661430912594, 23974.349678010785, 29400.480643347077, 36054.71154250506, 44214.99907374487, 54222.21006501592, 66494.35996665046, 81544.07395185171, 100000.0], \"xaxis\": \"x\", \"y\": [-7.199456785345529, -6.819371685980138, -6.401462489935149, -5.939689643693061, -5.4257225087159675, -4.848652570606075, -4.194819167034302, -3.447757490051638, -2.5882869760484373, -1.594781101644961, -0.443693758328258, 0.8895438518885981, 2.4291086451735437, 4.196693296556708, 6.208603342855545, 8.472002979669307, 10.980448052307526, 13.70911891576466, 16.610506555094283, 19.61162752063603, 22.614002794569696, 25.497468271641047, 28.128290414719384, 30.37110145797533, 32.103103273772575, 33.228191696477424, 33.68843611229703, 33.47080463489478, 32.60799506975238, 31.173412423923832, 29.271417928878645, 27.02473684497438, 24.561226157183278, 22.002040689599983, 19.452675938646028, 16.997586181085165, 14.698302865894183, 12.594402297016003, 10.70638596936986, 9.039524909126499, 7.587892236087225, 6.338059083474127, 5.272173405585138, 4.370332201443703, 3.612281962985334, 2.978547351414388, 2.451110457405338, 2.0137591410798055, 1.6522060150071176, 1.3540583855357082, 1.1086989019886133, 0.9071191109868973, 0.7417342673023922, 0.6061974349598582, 0.4952235690849984, 0.40442925390080997, 0.33019048658511785, 0.2695188442472439, 0.219955167893672, 0.1794792592216905, 0.14643381134517605, 0.11946074350341845, 0.097448188604673, 0.07948652979548103, 0.06483205929613559, 0.05287701586555532, 0.04312493285192685, 0.03517038971172528, 0.028682403051911505, 0.023390818024031652, 0.01907516802578478, 0.015555561623651348, 0.012685232189676904, 0.010344449800348526, 0.00843554825208897, 0.006878864232307703, 0.00560942219200053, 0.004574228553223162, 0.0037300636309862485, 0.0030416799692098368], \"yaxis\": \"y\"}, {\"hovertemplate\": \"variable=sex<br>alphas=%{x}<br>value=%{y}<extra></extra>\", \"legendgroup\": \"sex\", \"line\": {\"color\": \"#EF553B\", \"dash\": \"solid\"}, \"mode\": \"lines\", \"name\": \"sex\", \"orientation\": \"v\", \"showlegend\": true, \"type\": \"scatter\", \"x\": [0.01, 0.012263306841775632, 0.015038869469554102, 0.018442627085855347, 0.022616759492228647, 0.02773562614198415, 0.03401304938279251, 0.04171124612056518, 0.051151780992931425, 0.06272899858196247, 0.07692649574879142, 0.09433732216299774, 0.1156887528316282, 0.1418726674116596, 0.1739828052930364, 0.21336045265014109, 0.2616504698748821, 0.320869999737045, 0.39349272630958493, 0.48255220427412787, 0.5917685748188825, 0.7257039612324212, 0.8899530352885229, 1.0913767146512738, 1.3383887531737564, 1.6413071953751284, 2.0127853758499383, 2.4683404670686486, 3.0270016537634614, 3.7121050090663608, 4.55226827550731, 5.582586268862695, 6.846096838574658, 8.395578619995112, 10.295755673125127, 12.626001098748565, 15.48365256585499, 18.988078244652634, 23.285662984981965, 28.55592301990109, 35.019004614317126, 42.944879887892725, 52.66462393484275, 64.58424430196978, 79.20164050192548, 97.12740198471168, 119.11031332830079, 146.06863203649888, 179.1284454622002, 219.67070907932353, 269.388930959017, 330.35991201283395, 405.1304969235378, 496.8239594734388, 609.2704661368674, 747.1670675868082, 916.2739011886731, 1123.6548001387516, 1377.9723598335568, 1689.8497868124587, 2072.3146452190294, 2541.343036702639, 3116.52694492943, 3821.8926206331225, 4686.904192314192, 5747.694424835347, 7048.574036451903, 8643.882620598262, 10600.258488068825, 12999.42224413245, 15941.590374559995, 19549.661430912594, 23974.349678010785, 29400.480643347077, 36054.71154250506, 44214.99907374487, 54222.21006501592, 66494.35996665046, 81544.07395185171, 100000.0], \"xaxis\": \"x\", \"y\": [-234.55293000528698, -233.6514285836921, -232.60146835957937, -231.37316143032828, -229.9293379739335, -228.22445273967753, -226.20359688069144, -223.8016899624381, -220.94297341221275, -217.54100043843093, -213.49941407859785, -208.71391225911984, -203.07589261980533, -196.4783092412031, -188.82419644757755, -180.0380442472702, -170.0796760656099, -158.95946679136222, -146.752749331776, -133.61035763958517, -119.76185695670912, -105.50854569988967, -91.20498553863207, -77.23038482518494, -63.95388536318645, -51.69969390284672, -40.7182873253808, -31.16846445575277, -23.112380320176108, -16.522829713561272, -11.299811738828986, -7.2922657951580545, -4.320835737230263, -2.1983108458138525, -0.7456181986630952, 0.19747095682736476, 0.7666889495668862, 1.0717456523647837, 1.1977025181073784, 1.2080440564821424, 1.148464659425525, 1.0506836890819864, 0.9358827082401178, 0.8175794790871926, 0.7039020540080142, 0.5993115862527963, 0.5058611662348419, 0.4240869934546518, 0.35362099782658735, 0.29359980426089133, 0.24292916906541642, 0.2004485257760133, 0.16502820202750115, 0.13562240856778637, 0.11129400327448077, 0.09122187679387452, 0.07469815577228359, 0.061119889924296227, 0.04997816936061887, 0.040846470408511824, 0.033369275718807524, 0.02725153143786515, 0.022249201798261526, 0.018160998250949956, 0.014821254411263404, 0.01209386152600043, 0.009867153254465954, 0.008049621099137394, 0.006566344962006088, 0.005356032065241475, 0.0043685687823091365, 0.0035630019346582003, 0.002905877767174342, 0.0023698775686651755, 0.0019326985044029867, 0.0015761366118310024, 0.0012853361174463825, 0.0010481753563690293, 0.0008547647337790085, 0.0006970364826088119], \"yaxis\": \"y\"}, {\"hovertemplate\": \"variable=bmi<br>alphas=%{x}<br>value=%{y}<extra></extra>\", \"legendgroup\": \"bmi\", \"line\": {\"color\": \"#00cc96\", \"dash\": \"solid\"}, \"mode\": \"lines\", \"name\": \"bmi\", \"orientation\": \"v\", \"showlegend\": true, \"type\": \"scatter\", \"x\": [0.01, 0.012263306841775632, 0.015038869469554102, 0.018442627085855347, 0.022616759492228647, 0.02773562614198415, 0.03401304938279251, 0.04171124612056518, 0.051151780992931425, 0.06272899858196247, 0.07692649574879142, 0.09433732216299774, 0.1156887528316282, 0.1418726674116596, 0.1739828052930364, 0.21336045265014109, 0.2616504698748821, 0.320869999737045, 0.39349272630958493, 0.48255220427412787, 0.5917685748188825, 0.7257039612324212, 0.8899530352885229, 1.0913767146512738, 1.3383887531737564, 1.6413071953751284, 2.0127853758499383, 2.4683404670686486, 3.0270016537634614, 3.7121050090663608, 4.55226827550731, 5.582586268862695, 6.846096838574658, 8.395578619995112, 10.295755673125127, 12.626001098748565, 15.48365256585499, 18.988078244652634, 23.285662984981965, 28.55592301990109, 35.019004614317126, 42.944879887892725, 52.66462393484275, 64.58424430196978, 79.20164050192548, 97.12740198471168, 119.11031332830079, 146.06863203649888, 179.1284454622002, 219.67070907932353, 269.388930959017, 330.35991201283395, 405.1304969235378, 496.8239594734388, 609.2704661368674, 747.1670675868082, 916.2739011886731, 1123.6548001387516, 1377.9723598335568, 1689.8497868124587, 2072.3146452190294, 2541.343036702639, 3116.52694492943, 3821.8926206331225, 4686.904192314192, 5747.694424835347, 7048.574036451903, 8643.882620598262, 10600.258488068825, 12999.42224413245, 15941.590374559995, 19549.661430912594, 23974.349678010785, 29400.480643347077, 36054.71154250506, 44214.99907374487, 54222.21006501592, 66494.35996665046, 81544.07395185171, 100000.0], \"xaxis\": \"x\", \"y\": [520.5831362163512, 520.1173020769791, 519.4316668895137, 518.4740176541519, 517.1846914475515, 515.4953286823549, 513.3273765851895, 510.5905195270559, 507.1812922732509, 502.9821990317527, 497.8617184681272, 491.67562406687017, 484.2700835473583, 475.4869994629301, 465.17197691553883, 453.1851001602439, 439.41431467174374, 423.7906224516276, 406.3035562607989, 387.0146643796082, 366.06628618307184, 343.68304858967065, 320.1644741515276, 295.8687855150868, 271.18996809266554, 246.5317138579588, 222.28238979487358, 198.79445415746292, 176.3701409800647, 155.2534743535399, 135.62745088756665, 117.61485076642299, 101.2814460403321, 86.64093469041066, 73.66133357876707, 62.27264154534706, 52.37541427335659, 43.84967248682076, 36.56345985956229, 30.38043333936227, 25.166065402909304, 20.792281795175562, 17.14057549471233, 14.103787526247663, 11.5868206134182, 9.506566185790552, 7.791300146137819, 6.379757939159161, 5.220049425289614, 4.268527641601975, 3.48868687142122, 2.85013561709267, 2.3276684390581384, 1.9004458042045729, 1.5512815261455986, 1.2660316609129576, 1.0330756763360924, 0.842879445559813, 0.6876294697544241, 0.5609282530585656, 0.45754162430400397, 0.3731898238634526, 0.30437522508466186, 0.24824056518651014, 0.20245248141537114, 0.16510596777931325, 0.13464608228124464, 0.10980384850595733, 0.08954381702295514, 0.07302119147868717, 0.05954679198943763, 0.0485584346165033, 0.03959755957922553, 0.03229015069080036, 0.02633116147959162, 0.021471805761358598, 0.017509187299782365, 0.014277839049394303, 0.01164282100972292, 0.009494090005683693], \"yaxis\": \"y\"}, {\"hovertemplate\": \"variable=bp<br>alphas=%{x}<br>value=%{y}<extra></extra>\", \"legendgroup\": \"bp\", \"line\": {\"color\": \"#ab63fa\", \"dash\": \"solid\"}, \"mode\": \"lines\", \"name\": \"bp\", \"orientation\": \"v\", \"showlegend\": true, \"type\": \"scatter\", \"x\": [0.01, 0.012263306841775632, 0.015038869469554102, 0.018442627085855347, 0.022616759492228647, 0.02773562614198415, 0.03401304938279251, 0.04171124612056518, 0.051151780992931425, 0.06272899858196247, 0.07692649574879142, 0.09433732216299774, 0.1156887528316282, 0.1418726674116596, 0.1739828052930364, 0.21336045265014109, 0.2616504698748821, 0.320869999737045, 0.39349272630958493, 0.48255220427412787, 0.5917685748188825, 0.7257039612324212, 0.8899530352885229, 1.0913767146512738, 1.3383887531737564, 1.6413071953751284, 2.0127853758499383, 2.4683404670686486, 3.0270016537634614, 3.7121050090663608, 4.55226827550731, 5.582586268862695, 6.846096838574658, 8.395578619995112, 10.295755673125127, 12.626001098748565, 15.48365256585499, 18.988078244652634, 23.285662984981965, 28.55592301990109, 35.019004614317126, 42.944879887892725, 52.66462393484275, 64.58424430196978, 79.20164050192548, 97.12740198471168, 119.11031332830079, 146.06863203649888, 179.1284454622002, 219.67070907932353, 269.388930959017, 330.35991201283395, 405.1304969235378, 496.8239594734388, 609.2704661368674, 747.1670675868082, 916.2739011886731, 1123.6548001387516, 1377.9723598335568, 1689.8497868124587, 2072.3146452190294, 2541.343036702639, 3116.52694492943, 3821.8926206331225, 4686.904192314192, 5747.694424835347, 7048.574036451903, 8643.882620598262, 10600.258488068825, 12999.42224413245, 15941.590374559995, 19549.661430912594, 23974.349678010785, 29400.480643347077, 36054.71154250506, 44214.99907374487, 54222.21006501592, 66494.35996665046, 81544.07395185171, 100000.0], \"xaxis\": \"x\", \"y\": [320.5233558209227, 319.89594830588584, 319.1720280769228, 318.33161199342305, 317.34922413452585, 316.19298168950985, 314.8237415289435, 313.19434857650856, 311.2490491433618, 308.9231676878353, 306.1431893589393, 302.82743608475204, 298.8875608131109, 294.23109765071956, 288.7652734391518, 282.4021837521931, 275.06524563438757, 266.6965667522586, 257.26456067214565, 246.77087417934953, 235.25557458470422, 222.79964863066334, 209.52420401852888, 195.5862769629153, 181.171707893169, 166.48599582859333, 151.74424308356026, 137.16119988322455, 122.94208600189674, 109.27449096456293, 96.32143838368015, 84.21573012846159, 73.05587073246517, 62.90400930520301, 53.7862592208381, 45.69544713701679, 38.59593021664305, 32.42978073459141, 27.123490796473867, 22.594413731152372, 18.756368037784725, 15.524090963427408, 12.816464651877851, 10.558607103360089, 8.68301504592755, 7.129978917443355, 5.847481711923063, 4.790762633476819, 3.9216876394562554, 3.2080309338035753, 2.622738782683421, 2.1432211930827134, 1.7506978471369046, 1.4296112498630997, 1.1671111143243647, 0.9526084189999798, 0.7773943518789188, 0.6343177422876666, 0.5175140100288265, 0.4221787308884091, 0.3443793531797481, 0.28089922002723167, 0.22910874093857758, 0.18685924373739804, 0.15239568440688298, 0.12428497784624429, 0.10135722935898633, 0.0826575946975365, 0.06740687967682644, 0.05496931482432213, 0.044826213137681224, 0.03655444668482684, 0.029808867016511788, 0.02430795106764805, 0.01982208360664927, 0.016163993861809528, 0.01318095156516181, 0.010748399569183503, 0.008764759149031912, 0.007147192388868874], \"yaxis\": \"y\"}, {\"hovertemplate\": \"variable=s1<br>alphas=%{x}<br>value=%{y}<extra></extra>\", \"legendgroup\": \"s1\", \"line\": {\"color\": \"#FFA15A\", \"dash\": \"solid\"}, \"mode\": \"lines\", \"name\": \"s1\", \"orientation\": \"v\", \"showlegend\": true, \"type\": \"scatter\", \"x\": [0.01, 0.012263306841775632, 0.015038869469554102, 0.018442627085855347, 0.022616759492228647, 0.02773562614198415, 0.03401304938279251, 0.04171124612056518, 0.051151780992931425, 0.06272899858196247, 0.07692649574879142, 0.09433732216299774, 0.1156887528316282, 0.1418726674116596, 0.1739828052930364, 0.21336045265014109, 0.2616504698748821, 0.320869999737045, 0.39349272630958493, 0.48255220427412787, 0.5917685748188825, 0.7257039612324212, 0.8899530352885229, 1.0913767146512738, 1.3383887531737564, 1.6413071953751284, 2.0127853758499383, 2.4683404670686486, 3.0270016537634614, 3.7121050090663608, 4.55226827550731, 5.582586268862695, 6.846096838574658, 8.395578619995112, 10.295755673125127, 12.626001098748565, 15.48365256585499, 18.988078244652634, 23.285662984981965, 28.55592301990109, 35.019004614317126, 42.944879887892725, 52.66462393484275, 64.58424430196978, 79.20164050192548, 97.12740198471168, 119.11031332830079, 146.06863203649888, 179.1284454622002, 219.67070907932353, 269.388930959017, 330.35991201283395, 405.1304969235378, 496.8239594734388, 609.2704661368674, 747.1670675868082, 916.2739011886731, 1123.6548001387516, 1377.9723598335568, 1689.8497868124587, 2072.3146452190294, 2541.343036702639, 3116.52694492943, 3821.8926206331225, 4686.904192314192, 5747.694424835347, 7048.574036451903, 8643.882620598262, 10600.258488068825, 12999.42224413245, 15941.590374559995, 19549.661430912594, 23974.349678010785, 29400.480643347077, 36054.71154250506, 44214.99907374487, 54222.21006501592, 66494.35996665046, 81544.07395185171, 100000.0], \"xaxis\": \"x\", \"y\": [-380.6070656879188, -342.2429999837001, -305.20831585882274, -270.14008808312553, -237.5281185102883, -207.69574123484446, -180.80093380034785, -156.85345310027515, -135.74192082015432, -117.2648338708119, -101.16076158447227, -87.1347694549328, -74.8798000936356, -64.09303567289646, -54.48807757901558, -45.80414882068275, -37.81353082728676, -30.32815839401803, -23.205774858420963, -16.355372672961163, -9.74094348955132, -3.382033627612426, 2.6505227594767775, 8.244853381701787, 13.26435051524407, 17.568585837954895, 21.035898543835163, 23.58377381278028, 25.183172539707705, 25.86412092682309, 25.711824684770097, 24.85472144903765, 23.447537128848634, 21.653089318279584, 19.62619833000866, 17.501920967241084, 15.388912987252093, 13.367518169512723, 11.49144062700663, 9.791615905288873, 8.281028702050245, 6.959549677456753, 5.81822621883933, 4.842768262708603, 4.016184498886301, 3.320649142261252, 2.7387355174965373, 2.2541640116465476, 1.8521987193006257, 1.51980346523002, 1.245642362715359, 1.0199870181642567, 0.8345736303628593, 0.6824387693175905, 0.5577520571083078, 0.45565656471312843, 0.3721227314441959, 0.3038183553641333, 0.24799517443629543, 0.20239136743994549, 0.16514866681884918, 0.13474249302199773, 0.1099234549696244, 0.08966862290995252, 0.07314110886811735, 0.059656648717621476, 0.04865604587427388, 0.0396824966035981, 0.03236296401430119, 0.026392898920239778, 0.021523720162571928, 0.017552565299396843, 0.014313906099758428, 0.01167269363670557, 0.00951875664500808, 0.007762225814339415, 0.006329797315908035, 0.005161682433588049, 0.004209117843201211, 0.0034323338459105544], \"yaxis\": \"y\"}, {\"hovertemplate\": \"variable=s2<br>alphas=%{x}<br>value=%{y}<extra></extra>\", \"legendgroup\": \"s2\", \"line\": {\"color\": \"#19d3f3\", \"dash\": \"solid\"}, \"mode\": \"lines\", \"name\": \"s2\", \"orientation\": \"v\", \"showlegend\": true, \"type\": \"scatter\", \"x\": [0.01, 0.012263306841775632, 0.015038869469554102, 0.018442627085855347, 0.022616759492228647, 0.02773562614198415, 0.03401304938279251, 0.04171124612056518, 0.051151780992931425, 0.06272899858196247, 0.07692649574879142, 0.09433732216299774, 0.1156887528316282, 0.1418726674116596, 0.1739828052930364, 0.21336045265014109, 0.2616504698748821, 0.320869999737045, 0.39349272630958493, 0.48255220427412787, 0.5917685748188825, 0.7257039612324212, 0.8899530352885229, 1.0913767146512738, 1.3383887531737564, 1.6413071953751284, 2.0127853758499383, 2.4683404670686486, 3.0270016537634614, 3.7121050090663608, 4.55226827550731, 5.582586268862695, 6.846096838574658, 8.395578619995112, 10.295755673125127, 12.626001098748565, 15.48365256585499, 18.988078244652634, 23.285662984981965, 28.55592301990109, 35.019004614317126, 42.944879887892725, 52.66462393484275, 64.58424430196978, 79.20164050192548, 97.12740198471168, 119.11031332830079, 146.06863203649888, 179.1284454622002, 219.67070907932353, 269.388930959017, 330.35991201283395, 405.1304969235378, 496.8239594734388, 609.2704661368674, 747.1670675868082, 916.2739011886731, 1123.6548001387516, 1377.9723598335568, 1689.8497868124587, 2072.3146452190294, 2541.343036702639, 3116.52694492943, 3821.8926206331225, 4686.904192314192, 5747.694424835347, 7048.574036451903, 8643.882620598262, 10600.258488068825, 12999.42224413245, 15941.590374559995, 19549.661430912594, 23974.349678010785, 29400.480643347077, 36054.71154250506, 44214.99907374487, 54222.21006501592, 66494.35996665046, 81544.07395185171, 100000.0], \"xaxis\": \"x\", \"y\": [150.48375153704194, 120.1925878835768, 91.02256531571442, 63.50567611252348, 38.06589870746023, 15.005919304883879, -5.49012474986676, -23.341562745934255, -38.54894069906295, -51.169756532093984, -61.29627964616376, -69.03806603438481, -74.51034665349688, -77.82836607880638, -79.10705276562524, -78.46503634917231, -76.03184395086679, -71.95695951949628, -66.41922859343453, -59.634837088973164, -51.86188553875634, -43.39959419436506, -34.58060562691861, -25.755826998118145, -17.272725707659934, -9.449669365127427, -2.550291704583442, 3.237556770146406, 7.814280284657093, 11.170100724013128, 13.375696367253852, 14.564179608138415, 14.908247642242886, 14.596803251390321, 13.814704878769552, 12.727933666641363, 11.474895489621606, 10.163279578270659, 8.871125629259952, 7.650522167854053, 6.5325243615459305, 5.532243736662639, 4.653461611910772, 3.892454338397876, 3.2409547884245224, 2.6883144624959514, 2.222996188154241, 1.833544300862445, 1.5091689613786383, 1.2400589915506577, 1.0175124989888322, 0.8339514123589669, 0.6828668349700792, 0.5587272124842715, 0.45687028690746073, 0.37339196882094833, 0.30503986819665996, 0.2491156339522947, 0.20338794249668601, 0.16601654933502977, 0.1354869854554778, 0.11055503620409142, 0.09019994266348046, 0.07358521825445465, 0.06002601300410474, 0.048962043778465726, 0.039935215107052495, 0.03257116650420938, 0.026564089502671355, 0.021664256264221447, 0.017667789554063493, 0.014408280570979697, 0.011749927026130908, 0.009581919841544545, 0.007813853981714195, 0.006371978371240401, 0.005196132677199103, 0.004237245945658365, 0.003455294565777042, 0.0028176355659257487], \"yaxis\": \"y\"}, {\"hovertemplate\": \"variable=s3<br>alphas=%{x}<br>value=%{y}<extra></extra>\", \"legendgroup\": \"s3\", \"line\": {\"color\": \"#FF6692\", \"dash\": \"solid\"}, \"mode\": \"lines\", \"name\": \"s3\", \"orientation\": \"v\", \"showlegend\": true, \"type\": \"scatter\", \"x\": [0.01, 0.012263306841775632, 0.015038869469554102, 0.018442627085855347, 0.022616759492228647, 0.02773562614198415, 0.03401304938279251, 0.04171124612056518, 0.051151780992931425, 0.06272899858196247, 0.07692649574879142, 0.09433732216299774, 0.1156887528316282, 0.1418726674116596, 0.1739828052930364, 0.21336045265014109, 0.2616504698748821, 0.320869999737045, 0.39349272630958493, 0.48255220427412787, 0.5917685748188825, 0.7257039612324212, 0.8899530352885229, 1.0913767146512738, 1.3383887531737564, 1.6413071953751284, 2.0127853758499383, 2.4683404670686486, 3.0270016537634614, 3.7121050090663608, 4.55226827550731, 5.582586268862695, 6.846096838574658, 8.395578619995112, 10.295755673125127, 12.626001098748565, 15.48365256585499, 18.988078244652634, 23.285662984981965, 28.55592301990109, 35.019004614317126, 42.944879887892725, 52.66462393484275, 64.58424430196978, 79.20164050192548, 97.12740198471168, 119.11031332830079, 146.06863203649888, 179.1284454622002, 219.67070907932353, 269.388930959017, 330.35991201283395, 405.1304969235378, 496.8239594734388, 609.2704661368674, 747.1670675868082, 916.2739011886731, 1123.6548001387516, 1377.9723598335568, 1689.8497868124587, 2072.3146452190294, 2541.343036702639, 3116.52694492943, 3821.8926206331225, 4686.904192314192, 5747.694424835347, 7048.574036451903, 8643.882620598262, 10600.258488068825, 12999.42224413245, 15941.590374559995, 19549.661430912594, 23974.349678010785, 29400.480643347077, 36054.71154250506, 44214.99907374487, 54222.21006501592, 66494.35996665046, 81544.07395185171, 100000.0], \"xaxis\": \"x\", \"y\": [-78.59123221330175, -94.84784814206907, -110.34962707510603, -124.79171714150408, -137.93536688695485, -149.61716493926147, -159.74902095268524, -168.31057809363165, -175.33654372301268, -180.90147206567727, -185.10411714548752, -188.05291149356816, -189.85362184515498, -190.59985186990255, -190.36677484935853, -189.2082322191055, -187.15709350905962, -184.22853588810878, -180.42568305375192, -175.74686739372328, -170.19367122514575, -163.7788807030504, -156.53354987349667, -148.5124995523305, -139.79773106182023, -130.49939146009143, -120.75408062102595, -110.72045927140492, -100.57232976804633, -90.48964116548409, -80.64820863764733, -71.20926667843982, -62.31016883398827, -54.057473805780035, -46.52327267899736, -39.74500459583619, -33.72837023254927, -28.45247989315064, -23.876174617445116, -19.944526512288427, -16.594767999961658, -13.76120529098274, -11.378949569092983, -9.386503063502198, -7.727357101466838, -6.350809034449299, -5.21220671590638, -4.272804086881764, -3.499375309431746, -2.863697840062838, -2.3419821336713675, -1.9142993331733669, -1.5640384486368135, -1.277410352391579, -1.0430062828993232, -0.8514123381178496, -0.6948776832175841, -0.567032132829316, -0.462647821457924, -0.3774394358763307, -0.3078976652104738, -0.25115093701799907, -0.20485102722822382, -0.16707868135079113, -0.1362659184349912, -0.11113218316994979, -0.09063195378630513, -0.07391180071627584, -0.06027522471206125, -0.04915388730144215, -0.040084086251417454, -0.03268752964003714, -0.026655629586698783, -0.021736675643189065, -0.01772536276029708, -0.014454243519610251, -0.011786752316647515, -0.009611513258226666, -0.007837696104172936, -0.0063912276595829995], \"yaxis\": \"y\"}, {\"hovertemplate\": \"variable=s4<br>alphas=%{x}<br>value=%{y}<extra></extra>\", \"legendgroup\": \"s4\", \"line\": {\"color\": \"#B6E880\", \"dash\": \"solid\"}, \"mode\": \"lines\", \"name\": \"s4\", \"orientation\": \"v\", \"showlegend\": true, \"type\": \"scatter\", \"x\": [0.01, 0.012263306841775632, 0.015038869469554102, 0.018442627085855347, 0.022616759492228647, 0.02773562614198415, 0.03401304938279251, 0.04171124612056518, 0.051151780992931425, 0.06272899858196247, 0.07692649574879142, 0.09433732216299774, 0.1156887528316282, 0.1418726674116596, 0.1739828052930364, 0.21336045265014109, 0.2616504698748821, 0.320869999737045, 0.39349272630958493, 0.48255220427412787, 0.5917685748188825, 0.7257039612324212, 0.8899530352885229, 1.0913767146512738, 1.3383887531737564, 1.6413071953751284, 2.0127853758499383, 2.4683404670686486, 3.0270016537634614, 3.7121050090663608, 4.55226827550731, 5.582586268862695, 6.846096838574658, 8.395578619995112, 10.295755673125127, 12.626001098748565, 15.48365256585499, 18.988078244652634, 23.285662984981965, 28.55592301990109, 35.019004614317126, 42.944879887892725, 52.66462393484275, 64.58424430196978, 79.20164050192548, 97.12740198471168, 119.11031332830079, 146.06863203649888, 179.1284454622002, 219.67070907932353, 269.388930959017, 330.35991201283395, 405.1304969235378, 496.8239594734388, 609.2704661368674, 747.1670675868082, 916.2739011886731, 1123.6548001387516, 1377.9723598335568, 1689.8497868124587, 2072.3146452190294, 2541.343036702639, 3116.52694492943, 3821.8926206331225, 4686.904192314192, 5747.694424835347, 7048.574036451903, 8643.882620598262, 10600.258488068825, 12999.42224413245, 15941.590374559995, 19549.661430912594, 23974.349678010785, 29400.480643347077, 36054.71154250506, 44214.99907374487, 54222.21006501592, 66494.35996665046, 81544.07395185171, 100000.0], \"xaxis\": \"x\", \"y\": [130.3130586809627, 126.5517117972733, 123.14368060337776, 120.18443323590415, 117.74589253523006, 115.87191121932965, 114.57643440992715, 113.84415888653052, 113.6332961963719, 113.87996936528602, 114.50372507295087, 115.41356396288992, 116.51379645148428, 117.70899444432762, 118.9074066769932, 120.02245884879139, 120.97232244154047, 121.6779235863286, 122.06010031917882, 122.03686164572962, 121.52183400023333, 120.42496557522115, 118.65633175998349, 116.13337796737713, 112.79114679121, 108.59409189910484, 103.54724556612247, 97.704105120654, 91.1688869048347, 84.09181208964186, 76.6576179391724, 69.06908863990239, 61.52855651463104, 54.220658925289875, 47.299076025384466, 40.87878116185204, 35.033966821881705, 29.800699937489522, 25.182755060736827, 21.158983834918487, 17.690854449500613, 14.729235421644468, 12.219939596630374, 10.107892692258607, 8.340017016660536, 6.8670375575268086, 5.644454367777109, 4.632913287993262, 3.7981713665195707, 3.1108103952376656, 2.5458111382658335, 2.0820663711149923, 1.701883931884355, 1.390511135037143, 1.1356979429371348, 0.9273069113431407, 0.7569719177986675, 0.617804056896988, 0.5041410830665176, 0.4113358417824163, 0.3355788593862653, 0.2737503896608147, 0.22329756223984598, 0.18213272807812272, 0.148549578758052, 0.12115408701719746, 0.09880775244346589, 0.08058102793391375, 0.06571514588696248, 0.05359085922408771, 0.04370286462106385, 0.03563888828801686, 0.029062593131103154, 0.023699614910784945, 0.019326158490990515, 0.015759687401540445, 0.012851324174100029, 0.010479648241495547, 0.008545635149675355, 0.0069685275618075245], \"yaxis\": \"y\"}, {\"hovertemplate\": \"variable=s5<br>alphas=%{x}<br>value=%{y}<extra></extra>\", \"legendgroup\": \"s5\", \"line\": {\"color\": \"#FF97FF\", \"dash\": \"solid\"}, \"mode\": \"lines\", \"name\": \"s5\", \"orientation\": \"v\", \"showlegend\": true, \"type\": \"scatter\", \"x\": [0.01, 0.012263306841775632, 0.015038869469554102, 0.018442627085855347, 0.022616759492228647, 0.02773562614198415, 0.03401304938279251, 0.04171124612056518, 0.051151780992931425, 0.06272899858196247, 0.07692649574879142, 0.09433732216299774, 0.1156887528316282, 0.1418726674116596, 0.1739828052930364, 0.21336045265014109, 0.2616504698748821, 0.320869999737045, 0.39349272630958493, 0.48255220427412787, 0.5917685748188825, 0.7257039612324212, 0.8899530352885229, 1.0913767146512738, 1.3383887531737564, 1.6413071953751284, 2.0127853758499383, 2.4683404670686486, 3.0270016537634614, 3.7121050090663608, 4.55226827550731, 5.582586268862695, 6.846096838574658, 8.395578619995112, 10.295755673125127, 12.626001098748565, 15.48365256585499, 18.988078244652634, 23.285662984981965, 28.55592301990109, 35.019004614317126, 42.944879887892725, 52.66462393484275, 64.58424430196978, 79.20164050192548, 97.12740198471168, 119.11031332830079, 146.06863203649888, 179.1284454622002, 219.67070907932353, 269.388930959017, 330.35991201283395, 405.1304969235378, 496.8239594734388, 609.2704661368674, 747.1670675868082, 916.2739011886731, 1123.6548001387516, 1377.9723598335568, 1689.8497868124587, 2072.3146452190294, 2541.343036702639, 3116.52694492943, 3821.8926206331225, 4686.904192314192, 5747.694424835347, 7048.574036451903, 8643.882620598262, 10600.258488068825, 12999.42224413245, 15941.590374559995, 19549.661430912594, 23974.349678010785, 29400.480643347077, 36054.71154250506, 44214.99907374487, 54222.21006501592, 66494.35996665046, 81544.07395185171, 100000.0], \"xaxis\": \"x\", \"y\": [592.3495866188401, 576.8564043420384, 561.6150579061783, 546.8190629279314, 532.6010899899202, 519.0255390587781, 506.0887904457389, 493.72557552331705, 481.81927888696976, 470.214066160439, 458.72729330320254, 447.16138837936677, 435.31504150972586, 422.9939238194487, 410.02121641756173, 396.2479955196018, 381.56309769508806, 365.9016413027746, 349.25108448918354, 331.6537030366167, 313.2047381877038, 294.0461468908125, 274.3567216561242, 254.3400916128707, 234.21251314885464, 214.19222437286237, 194.49145799676245, 175.3111930895564, 156.8377718117922, 139.24002667337888, 122.66577306869783, 107.2373017770867, 93.0464520356665, 80.15048818998889, 68.57006175859804, 58.290050740278375, 49.263310846311754, 41.41668937174679, 34.658267990195476, 28.88476304752784, 23.98823003201075, 19.861550392718932, 16.402501809016545, 13.516457767070085, 11.11790940005601, 9.131064542441289, 7.489781409569404, 6.137062969408112, 5.024292772025204, 4.11034646078038, 3.360672135077457, 2.7463997626626218, 2.243515110898877, 1.832116148898288, 1.4957581185929543, 1.220886044653238, 0.9963491134594162, 0.8129891211986732, 0.6632943390803284, 0.5411101464639823, 0.44139827994039404, 0.36003729843101256, 0.293657717757153, 0.23950612908810825, 0.19533343047615587, 0.15930304170703674, 0.12991562878591492, 0.10594743434005396, 0.08639979850256801, 0.07045786878933072, 0.057456845604852, 0.04685440096180027, 0.0382081499782569, 0.031157255193322346, 0.025407409324398302, 0.020718578516533394, 0.01689500031814837, 0.013777022720158396, 0.011234446114894372, 0.009161091889161989], \"yaxis\": \"y\"}, {\"hovertemplate\": \"variable=s6<br>alphas=%{x}<br>value=%{y}<extra></extra>\", \"legendgroup\": \"s6\", \"line\": {\"color\": \"#FECB52\", \"dash\": \"solid\"}, \"mode\": \"lines\", \"name\": \"s6\", \"orientation\": \"v\", \"showlegend\": true, \"type\": \"scatter\", \"x\": [0.01, 0.012263306841775632, 0.015038869469554102, 0.018442627085855347, 0.022616759492228647, 0.02773562614198415, 0.03401304938279251, 0.04171124612056518, 0.051151780992931425, 0.06272899858196247, 0.07692649574879142, 0.09433732216299774, 0.1156887528316282, 0.1418726674116596, 0.1739828052930364, 0.21336045265014109, 0.2616504698748821, 0.320869999737045, 0.39349272630958493, 0.48255220427412787, 0.5917685748188825, 0.7257039612324212, 0.8899530352885229, 1.0913767146512738, 1.3383887531737564, 1.6413071953751284, 2.0127853758499383, 2.4683404670686486, 3.0270016537634614, 3.7121050090663608, 4.55226827550731, 5.582586268862695, 6.846096838574658, 8.395578619995112, 10.295755673125127, 12.626001098748565, 15.48365256585499, 18.988078244652634, 23.285662984981965, 28.55592301990109, 35.019004614317126, 42.944879887892725, 52.66462393484275, 64.58424430196978, 79.20164050192548, 97.12740198471168, 119.11031332830079, 146.06863203649888, 179.1284454622002, 219.67070907932353, 269.388930959017, 330.35991201283395, 405.1304969235378, 496.8239594734388, 609.2704661368674, 747.1670675868082, 916.2739011886731, 1123.6548001387516, 1377.9723598335568, 1689.8497868124587, 2072.3146452190294, 2541.343036702639, 3116.52694492943, 3821.8926206331225, 4686.904192314192, 5747.694424835347, 7048.574036451903, 8643.882620598262, 10600.258488068825, 12999.42224413245, 15941.590374559995, 19549.661430912594, 23974.349678010785, 29400.480643347077, 36054.71154250506, 44214.99907374487, 54222.21006501592, 66494.35996665046, 81544.07395185171, 100000.0], \"xaxis\": \"x\", \"y\": [71.13376810337851, 71.71525871413414, 72.38591001478892, 73.16181924372701, 74.06238836199886, 75.11035831623691, 76.33148723717386, 77.75374331638352, 79.40585648823064, 81.31505220044859, 83.50379438196417, 85.98541898284456, 88.7586733329537, 91.80141468973667, 95.06406878174145, 98.46386911161667, 101.8812895970673, 105.16027845656407, 108.11370201138628, 110.53467645295859, 112.21324606841975, 112.9564521416374, 112.60871588193264, 111.06910342718682, 108.30264354478588, 104.34420273550694, 99.29495215466392, 93.31264411475495, 86.59749399441635, 79.37553605429524, 71.88118031665245, 64.34056835267627, 56.957224223947655, 49.901281988061186, 43.30311854513128, 37.251556347900056, 31.796099226314183, 26.95213754395716, 22.70783475280226, 19.03148516871545, 15.878414184220784, 13.196848778492006, 10.932514643761122, 9.031960838277133, 7.444761308166748, 6.124809418415468, 5.030931590167046, 4.127023358844856, 3.3818740615287965, 2.7688067680513226, 2.265224365456994, 1.8521235040861066, 1.5136157968319979, 1.2364794928027862, 1.0097536659752595, 0.8243795795470588, 0.672889265965745, 0.5491386657699947, 0.44808126360802136, 0.3655775893813413, 0.29823589623461966, 0.24327956803572384, 0.1984372044235715, 0.1618517908547551, 0.13200582922334841, 0.10765974998444451, 0.08780133293851551, 0.07160422414238266, 0.05839394977216492, 0.04762009641390124, 0.03883355512094729, 0.03166791827167244, 0.025824278510002026, 0.021058812351544186, 0.01717264148894895, 0.014003556064891716, 0.011419259356382527, 0.009311855133926725, 0.007593349714957267, 0.006191982349404987], \"yaxis\": \"y\"}],                        {\"legend\": {\"title\": {\"text\": \"variable\"}, \"tracegroupgap\": 0}, \"margin\": {\"t\": 60}, \"template\": {\"data\": {\"bar\": [{\"error_x\": {\"color\": \"#2a3f5f\"}, \"error_y\": {\"color\": \"#2a3f5f\"}, \"marker\": {\"line\": {\"color\": \"#E5ECF6\", \"width\": 0.5}}, \"type\": \"bar\"}], \"barpolar\": [{\"marker\": {\"line\": {\"color\": \"#E5ECF6\", \"width\": 0.5}}, \"type\": \"barpolar\"}], \"carpet\": [{\"aaxis\": {\"endlinecolor\": \"#2a3f5f\", \"gridcolor\": \"white\", \"linecolor\": \"white\", \"minorgridcolor\": \"white\", \"startlinecolor\": \"#2a3f5f\"}, \"baxis\": {\"endlinecolor\": \"#2a3f5f\", \"gridcolor\": \"white\", \"linecolor\": \"white\", \"minorgridcolor\": \"white\", \"startlinecolor\": \"#2a3f5f\"}, \"type\": \"carpet\"}], \"choropleth\": [{\"colorbar\": {\"outlinewidth\": 0, \"ticks\": \"\"}, \"type\": \"choropleth\"}], \"contour\": [{\"colorbar\": {\"outlinewidth\": 0, \"ticks\": \"\"}, \"colorscale\": [[0.0, \"#0d0887\"], [0.1111111111111111, \"#46039f\"], [0.2222222222222222, \"#7201a8\"], [0.3333333333333333, \"#9c179e\"], [0.4444444444444444, \"#bd3786\"], [0.5555555555555556, \"#d8576b\"], [0.6666666666666666, \"#ed7953\"], [0.7777777777777778, \"#fb9f3a\"], [0.8888888888888888, \"#fdca26\"], [1.0, \"#f0f921\"]], \"type\": \"contour\"}], \"contourcarpet\": [{\"colorbar\": {\"outlinewidth\": 0, \"ticks\": \"\"}, \"type\": \"contourcarpet\"}], \"heatmap\": [{\"colorbar\": {\"outlinewidth\": 0, \"ticks\": \"\"}, \"colorscale\": [[0.0, \"#0d0887\"], [0.1111111111111111, \"#46039f\"], [0.2222222222222222, \"#7201a8\"], [0.3333333333333333, \"#9c179e\"], [0.4444444444444444, \"#bd3786\"], [0.5555555555555556, \"#d8576b\"], [0.6666666666666666, \"#ed7953\"], [0.7777777777777778, \"#fb9f3a\"], [0.8888888888888888, \"#fdca26\"], [1.0, \"#f0f921\"]], \"type\": \"heatmap\"}], \"heatmapgl\": [{\"colorbar\": {\"outlinewidth\": 0, \"ticks\": \"\"}, \"colorscale\": [[0.0, \"#0d0887\"], [0.1111111111111111, \"#46039f\"], [0.2222222222222222, \"#7201a8\"], [0.3333333333333333, \"#9c179e\"], [0.4444444444444444, \"#bd3786\"], [0.5555555555555556, \"#d8576b\"], [0.6666666666666666, \"#ed7953\"], [0.7777777777777778, \"#fb9f3a\"], [0.8888888888888888, \"#fdca26\"], [1.0, \"#f0f921\"]], \"type\": \"heatmapgl\"}], \"histogram\": [{\"marker\": {\"colorbar\": {\"outlinewidth\": 0, \"ticks\": \"\"}}, \"type\": \"histogram\"}], \"histogram2d\": [{\"colorbar\": {\"outlinewidth\": 0, \"ticks\": \"\"}, \"colorscale\": [[0.0, \"#0d0887\"], [0.1111111111111111, \"#46039f\"], [0.2222222222222222, \"#7201a8\"], [0.3333333333333333, \"#9c179e\"], [0.4444444444444444, \"#bd3786\"], [0.5555555555555556, \"#d8576b\"], [0.6666666666666666, \"#ed7953\"], [0.7777777777777778, \"#fb9f3a\"], [0.8888888888888888, \"#fdca26\"], [1.0, \"#f0f921\"]], \"type\": \"histogram2d\"}], \"histogram2dcontour\": [{\"colorbar\": {\"outlinewidth\": 0, \"ticks\": \"\"}, \"colorscale\": [[0.0, \"#0d0887\"], [0.1111111111111111, \"#46039f\"], [0.2222222222222222, \"#7201a8\"], [0.3333333333333333, \"#9c179e\"], [0.4444444444444444, \"#bd3786\"], [0.5555555555555556, \"#d8576b\"], [0.6666666666666666, \"#ed7953\"], [0.7777777777777778, \"#fb9f3a\"], [0.8888888888888888, \"#fdca26\"], [1.0, \"#f0f921\"]], \"type\": \"histogram2dcontour\"}], \"mesh3d\": [{\"colorbar\": {\"outlinewidth\": 0, \"ticks\": \"\"}, \"type\": \"mesh3d\"}], \"parcoords\": [{\"line\": {\"colorbar\": {\"outlinewidth\": 0, \"ticks\": \"\"}}, \"type\": \"parcoords\"}], \"pie\": [{\"automargin\": true, \"type\": \"pie\"}], \"scatter\": [{\"marker\": {\"colorbar\": {\"outlinewidth\": 0, \"ticks\": \"\"}}, \"type\": \"scatter\"}], \"scatter3d\": [{\"line\": {\"colorbar\": {\"outlinewidth\": 0, \"ticks\": \"\"}}, \"marker\": {\"colorbar\": {\"outlinewidth\": 0, \"ticks\": \"\"}}, \"type\": \"scatter3d\"}], \"scattercarpet\": [{\"marker\": {\"colorbar\": {\"outlinewidth\": 0, \"ticks\": \"\"}}, \"type\": \"scattercarpet\"}], \"scattergeo\": [{\"marker\": {\"colorbar\": {\"outlinewidth\": 0, \"ticks\": \"\"}}, \"type\": \"scattergeo\"}], \"scattergl\": [{\"marker\": {\"colorbar\": {\"outlinewidth\": 0, \"ticks\": \"\"}}, \"type\": \"scattergl\"}], \"scattermapbox\": [{\"marker\": {\"colorbar\": {\"outlinewidth\": 0, \"ticks\": \"\"}}, \"type\": \"scattermapbox\"}], \"scatterpolar\": [{\"marker\": {\"colorbar\": {\"outlinewidth\": 0, \"ticks\": \"\"}}, \"type\": \"scatterpolar\"}], \"scatterpolargl\": [{\"marker\": {\"colorbar\": {\"outlinewidth\": 0, \"ticks\": \"\"}}, \"type\": \"scatterpolargl\"}], \"scatterternary\": [{\"marker\": {\"colorbar\": {\"outlinewidth\": 0, \"ticks\": \"\"}}, \"type\": \"scatterternary\"}], \"surface\": [{\"colorbar\": {\"outlinewidth\": 0, \"ticks\": \"\"}, \"colorscale\": [[0.0, \"#0d0887\"], [0.1111111111111111, \"#46039f\"], [0.2222222222222222, \"#7201a8\"], [0.3333333333333333, \"#9c179e\"], [0.4444444444444444, \"#bd3786\"], [0.5555555555555556, \"#d8576b\"], [0.6666666666666666, \"#ed7953\"], [0.7777777777777778, \"#fb9f3a\"], [0.8888888888888888, \"#fdca26\"], [1.0, \"#f0f921\"]], \"type\": \"surface\"}], \"table\": [{\"cells\": {\"fill\": {\"color\": \"#EBF0F8\"}, \"line\": {\"color\": \"white\"}}, \"header\": {\"fill\": {\"color\": \"#C8D4E3\"}, \"line\": {\"color\": \"white\"}}, \"type\": \"table\"}]}, \"layout\": {\"annotationdefaults\": {\"arrowcolor\": \"#2a3f5f\", \"arrowhead\": 0, \"arrowwidth\": 1}, \"coloraxis\": {\"colorbar\": {\"outlinewidth\": 0, \"ticks\": \"\"}}, \"colorscale\": {\"diverging\": [[0, \"#8e0152\"], [0.1, \"#c51b7d\"], [0.2, \"#de77ae\"], [0.3, \"#f1b6da\"], [0.4, \"#fde0ef\"], [0.5, \"#f7f7f7\"], [0.6, \"#e6f5d0\"], [0.7, \"#b8e186\"], [0.8, \"#7fbc41\"], [0.9, \"#4d9221\"], [1, \"#276419\"]], \"sequential\": [[0.0, \"#0d0887\"], [0.1111111111111111, \"#46039f\"], [0.2222222222222222, \"#7201a8\"], [0.3333333333333333, \"#9c179e\"], [0.4444444444444444, \"#bd3786\"], [0.5555555555555556, \"#d8576b\"], [0.6666666666666666, \"#ed7953\"], [0.7777777777777778, \"#fb9f3a\"], [0.8888888888888888, \"#fdca26\"], [1.0, \"#f0f921\"]], \"sequentialminus\": [[0.0, \"#0d0887\"], [0.1111111111111111, \"#46039f\"], [0.2222222222222222, \"#7201a8\"], [0.3333333333333333, \"#9c179e\"], [0.4444444444444444, \"#bd3786\"], [0.5555555555555556, \"#d8576b\"], [0.6666666666666666, \"#ed7953\"], [0.7777777777777778, \"#fb9f3a\"], [0.8888888888888888, \"#fdca26\"], [1.0, \"#f0f921\"]]}, \"colorway\": [\"#636efa\", \"#EF553B\", \"#00cc96\", \"#ab63fa\", \"#FFA15A\", \"#19d3f3\", \"#FF6692\", \"#B6E880\", \"#FF97FF\", \"#FECB52\"], \"font\": {\"color\": \"#2a3f5f\"}, \"geo\": {\"bgcolor\": \"white\", \"lakecolor\": \"white\", \"landcolor\": \"#E5ECF6\", \"showlakes\": true, \"showland\": true, \"subunitcolor\": \"white\"}, \"hoverlabel\": {\"align\": \"left\"}, \"hovermode\": \"closest\", \"mapbox\": {\"style\": \"light\"}, \"paper_bgcolor\": \"white\", \"plot_bgcolor\": \"#E5ECF6\", \"polar\": {\"angularaxis\": {\"gridcolor\": \"white\", \"linecolor\": \"white\", \"ticks\": \"\"}, \"bgcolor\": \"#E5ECF6\", \"radialaxis\": {\"gridcolor\": \"white\", \"linecolor\": \"white\", \"ticks\": \"\"}}, \"scene\": {\"xaxis\": {\"backgroundcolor\": \"#E5ECF6\", \"gridcolor\": \"white\", \"gridwidth\": 2, \"linecolor\": \"white\", \"showbackground\": true, \"ticks\": \"\", \"zerolinecolor\": \"white\"}, \"yaxis\": {\"backgroundcolor\": \"#E5ECF6\", \"gridcolor\": \"white\", \"gridwidth\": 2, \"linecolor\": \"white\", \"showbackground\": true, \"ticks\": \"\", \"zerolinecolor\": \"white\"}, \"zaxis\": {\"backgroundcolor\": \"#E5ECF6\", \"gridcolor\": \"white\", \"gridwidth\": 2, \"linecolor\": \"white\", \"showbackground\": true, \"ticks\": \"\", \"zerolinecolor\": \"white\"}}, \"shapedefaults\": {\"line\": {\"color\": \"#2a3f5f\"}}, \"ternary\": {\"aaxis\": {\"gridcolor\": \"white\", \"linecolor\": \"white\", \"ticks\": \"\"}, \"baxis\": {\"gridcolor\": \"white\", \"linecolor\": \"white\", \"ticks\": \"\"}, \"bgcolor\": \"#E5ECF6\", \"caxis\": {\"gridcolor\": \"white\", \"linecolor\": \"white\", \"ticks\": \"\"}}, \"title\": {\"x\": 0.05}, \"xaxis\": {\"automargin\": true, \"gridcolor\": \"white\", \"linecolor\": \"white\", \"ticks\": \"\", \"title\": {\"standoff\": 15}, \"zerolinecolor\": \"white\", \"zerolinewidth\": 2}, \"yaxis\": {\"automargin\": true, \"gridcolor\": \"white\", \"linecolor\": \"white\", \"ticks\": \"\", \"title\": {\"standoff\": 15}, \"zerolinecolor\": \"white\", \"zerolinewidth\": 2}}}, \"xaxis\": {\"anchor\": \"y\", \"domain\": [0.0, 1.0], \"title\": {\"text\": \"alphas\"}, \"type\": \"log\"}, \"yaxis\": {\"anchor\": \"x\", \"domain\": [0.0, 1.0], \"title\": {\"text\": \"value\"}}},                        {\"responsive\": true}                    ).then(function(){\n                            \nvar gd = document.getElementById('e66bbfd7-2a47-48f5-8cfe-95f725defa22');\nvar x = new MutationObserver(function (mutations, observer) {{\n        var display = window.getComputedStyle(gd).display;\n        if (!display || display === 'none') {{\n            console.log([gd, 'removed!']);\n            Plotly.purge(gd);\n            observer.disconnect();\n        }}\n}});\n\n// Listen for the removal of the full notebook cells\nvar notebookContainer = gd.closest('#notebook-container');\nif (notebookContainer) {{\n    x.observe(notebookContainer, {childList: true});\n}}\n\n// Listen for the clearing of the current output cell\nvar outputEl = gd.closest('.output');\nif (outputEl) {{\n    x.observe(outputEl, {childList: true});\n}}\n\n                        })                };                });            </script>        </div>"
     },
     "metadata": {}
    }
   ],
   "source": [
    "coefs = []\n",
    "for a in alphas:\n",
    "    ridge = Ridge(alpha=a)\n",
    "    ridge.fit(original_X, original_y)\n",
    "    coefs.append(ridge.coef_)\n",
    "\n",
    "features = original_X.columns\n",
    "\n",
    "df_coefs = pd.DataFrame(coefs, columns=features)\n",
    "df_coefs['alphas'] = alphas\n",
    "fig = px.line(df_coefs, x='alphas', y=features)\n",
    "fig.update_xaxes(type='log').show()"
   ]
  },
  {
   "source": [
    "## Fit Ridge Regression"
   ],
   "cell_type": "markdown",
   "metadata": {}
  },
  {
   "cell_type": "code",
   "execution_count": 55,
   "metadata": {},
   "outputs": [],
   "source": [
    "model = Ridge(alpha=0.17)\n",
    "model = model.fit(original_X, original_y)"
   ]
  },
  {
   "cell_type": "code",
   "execution_count": 56,
   "metadata": {},
   "outputs": [
    {
     "output_type": "execute_result",
     "data": {
      "text/plain": [
       "0.5093131467978795"
      ]
     },
     "metadata": {},
     "execution_count": 56
    }
   ],
   "source": [
    "model.score(original_X, original_y)"
   ]
  },
  {
   "source": [
    "# Polynomial Ridge Regression"
   ],
   "cell_type": "markdown",
   "metadata": {}
  },
  {
   "cell_type": "code",
   "execution_count": 57,
   "metadata": {},
   "outputs": [],
   "source": [
    "original_X_3 = polynomial_features(original_X, 3)"
   ]
  },
  {
   "cell_type": "code",
   "execution_count": 58,
   "metadata": {},
   "outputs": [],
   "source": [
    "original_X_3 = pd.DataFrame(StandardScaler().fit_transform(original_X_3), columns=original_X_3.columns)"
   ]
  },
  {
   "cell_type": "code",
   "execution_count": 59,
   "metadata": {},
   "outputs": [
    {
     "output_type": "execute_result",
     "data": {
      "text/plain": [
       "        age       sex       bmi        bp        s1        s2        s3  \\\n",
       "0  0.800500  1.065488  1.297088  0.459840 -0.929746 -0.732065 -0.912451   \n",
       "1 -0.039567 -0.938537 -1.082180 -0.553511 -0.177624 -0.402886  1.564414   \n",
       "2  1.793307  1.065488  0.934533 -0.119218 -0.958674 -0.718897 -0.680245   \n",
       "3 -1.872441 -0.938537 -0.243771 -0.770658  0.256292  0.525397 -0.757647   \n",
       "4  0.113172 -0.938537 -0.764944  0.459840  0.082726  0.327890  0.171178   \n",
       "\n",
       "         s4        s5        s6  ...     age^3     sex^3     bmi^3      bp^3  \\\n",
       "0 -0.054499  0.418551 -0.370989  ...  0.275032  1.065488  0.377399 -0.064821   \n",
       "1 -0.830301 -1.436551 -1.938479  ...  0.085271 -0.938537 -0.443382 -0.154693   \n",
       "2 -0.054499  0.060207 -0.545154  ...  2.218500  1.065488  0.052360 -0.098143   \n",
       "3  0.721302  0.477072 -0.196823  ... -2.342956 -0.938537 -0.145283 -0.251742   \n",
       "4 -0.054499 -0.672582 -0.980568  ...  0.085830 -0.938537 -0.248335 -0.064821   \n",
       "\n",
       "       s1^3      s2^3      s3^3      s4^3      s5^3      s6^3  \n",
       "0 -0.286006 -0.161870 -0.273916 -0.153371 -0.060035 -0.063947  \n",
       "1 -0.092651 -0.097913  0.533708 -0.273101 -0.898721 -1.854866  \n",
       "2 -0.304752 -0.157803 -0.195606 -0.153371 -0.080217 -0.091420  \n",
       "3 -0.087215 -0.056747 -0.216753 -0.074819 -0.050301 -0.053193  \n",
       "4 -0.091156 -0.078224 -0.139319 -0.153371 -0.164274 -0.284748  \n",
       "\n",
       "[5 rows x 30 columns]"
      ],
      "text/html": "<div>\n<style scoped>\n    .dataframe tbody tr th:only-of-type {\n        vertical-align: middle;\n    }\n\n    .dataframe tbody tr th {\n        vertical-align: top;\n    }\n\n    .dataframe thead th {\n        text-align: right;\n    }\n</style>\n<table border=\"1\" class=\"dataframe\">\n  <thead>\n    <tr style=\"text-align: right;\">\n      <th></th>\n      <th>age</th>\n      <th>sex</th>\n      <th>bmi</th>\n      <th>bp</th>\n      <th>s1</th>\n      <th>s2</th>\n      <th>s3</th>\n      <th>s4</th>\n      <th>s5</th>\n      <th>s6</th>\n      <th>...</th>\n      <th>age^3</th>\n      <th>sex^3</th>\n      <th>bmi^3</th>\n      <th>bp^3</th>\n      <th>s1^3</th>\n      <th>s2^3</th>\n      <th>s3^3</th>\n      <th>s4^3</th>\n      <th>s5^3</th>\n      <th>s6^3</th>\n    </tr>\n  </thead>\n  <tbody>\n    <tr>\n      <th>0</th>\n      <td>0.800500</td>\n      <td>1.065488</td>\n      <td>1.297088</td>\n      <td>0.459840</td>\n      <td>-0.929746</td>\n      <td>-0.732065</td>\n      <td>-0.912451</td>\n      <td>-0.054499</td>\n      <td>0.418551</td>\n      <td>-0.370989</td>\n      <td>...</td>\n      <td>0.275032</td>\n      <td>1.065488</td>\n      <td>0.377399</td>\n      <td>-0.064821</td>\n      <td>-0.286006</td>\n      <td>-0.161870</td>\n      <td>-0.273916</td>\n      <td>-0.153371</td>\n      <td>-0.060035</td>\n      <td>-0.063947</td>\n    </tr>\n    <tr>\n      <th>1</th>\n      <td>-0.039567</td>\n      <td>-0.938537</td>\n      <td>-1.082180</td>\n      <td>-0.553511</td>\n      <td>-0.177624</td>\n      <td>-0.402886</td>\n      <td>1.564414</td>\n      <td>-0.830301</td>\n      <td>-1.436551</td>\n      <td>-1.938479</td>\n      <td>...</td>\n      <td>0.085271</td>\n      <td>-0.938537</td>\n      <td>-0.443382</td>\n      <td>-0.154693</td>\n      <td>-0.092651</td>\n      <td>-0.097913</td>\n      <td>0.533708</td>\n      <td>-0.273101</td>\n      <td>-0.898721</td>\n      <td>-1.854866</td>\n    </tr>\n    <tr>\n      <th>2</th>\n      <td>1.793307</td>\n      <td>1.065488</td>\n      <td>0.934533</td>\n      <td>-0.119218</td>\n      <td>-0.958674</td>\n      <td>-0.718897</td>\n      <td>-0.680245</td>\n      <td>-0.054499</td>\n      <td>0.060207</td>\n      <td>-0.545154</td>\n      <td>...</td>\n      <td>2.218500</td>\n      <td>1.065488</td>\n      <td>0.052360</td>\n      <td>-0.098143</td>\n      <td>-0.304752</td>\n      <td>-0.157803</td>\n      <td>-0.195606</td>\n      <td>-0.153371</td>\n      <td>-0.080217</td>\n      <td>-0.091420</td>\n    </tr>\n    <tr>\n      <th>3</th>\n      <td>-1.872441</td>\n      <td>-0.938537</td>\n      <td>-0.243771</td>\n      <td>-0.770658</td>\n      <td>0.256292</td>\n      <td>0.525397</td>\n      <td>-0.757647</td>\n      <td>0.721302</td>\n      <td>0.477072</td>\n      <td>-0.196823</td>\n      <td>...</td>\n      <td>-2.342956</td>\n      <td>-0.938537</td>\n      <td>-0.145283</td>\n      <td>-0.251742</td>\n      <td>-0.087215</td>\n      <td>-0.056747</td>\n      <td>-0.216753</td>\n      <td>-0.074819</td>\n      <td>-0.050301</td>\n      <td>-0.053193</td>\n    </tr>\n    <tr>\n      <th>4</th>\n      <td>0.113172</td>\n      <td>-0.938537</td>\n      <td>-0.764944</td>\n      <td>0.459840</td>\n      <td>0.082726</td>\n      <td>0.327890</td>\n      <td>0.171178</td>\n      <td>-0.054499</td>\n      <td>-0.672582</td>\n      <td>-0.980568</td>\n      <td>...</td>\n      <td>0.085830</td>\n      <td>-0.938537</td>\n      <td>-0.248335</td>\n      <td>-0.064821</td>\n      <td>-0.091156</td>\n      <td>-0.078224</td>\n      <td>-0.139319</td>\n      <td>-0.153371</td>\n      <td>-0.164274</td>\n      <td>-0.284748</td>\n    </tr>\n  </tbody>\n</table>\n<p>5 rows × 30 columns</p>\n</div>"
     },
     "metadata": {},
     "execution_count": 59
    }
   ],
   "source": [
    "original_X_3.head()"
   ]
  },
  {
   "source": [
    "## Alpha selection"
   ],
   "cell_type": "markdown",
   "metadata": {}
  },
  {
   "cell_type": "code",
   "execution_count": 60,
   "metadata": {},
   "outputs": [],
   "source": [
    "n_alphas = 80\n",
    "alphas = np.logspace(-2, 5, n_alphas)"
   ]
  },
  {
   "cell_type": "code",
   "execution_count": 61,
   "metadata": {},
   "outputs": [
    {
     "output_type": "display_data",
     "data": {
      "application/vnd.plotly.v1+json": {
       "config": {
        "plotlyServerURL": "https://plot.ly"
       },
       "data": [
        {
         "hovertemplate": "alpha=%{x}<br>R^2 (mean)=%{y}<extra></extra>",
         "legendgroup": "",
         "line": {
          "color": "#636efa",
          "dash": "solid"
         },
         "mode": "lines",
         "name": "",
         "orientation": "v",
         "showlegend": false,
         "type": "scatter",
         "x": [
          0.01,
          0.012263306841775632,
          0.015038869469554102,
          0.018442627085855347,
          0.022616759492228647,
          0.02773562614198415,
          0.03401304938279251,
          0.04171124612056518,
          0.051151780992931425,
          0.06272899858196247,
          0.07692649574879142,
          0.09433732216299774,
          0.1156887528316282,
          0.1418726674116596,
          0.1739828052930364,
          0.21336045265014109,
          0.2616504698748821,
          0.320869999737045,
          0.39349272630958493,
          0.48255220427412787,
          0.5917685748188825,
          0.7257039612324212,
          0.8899530352885229,
          1.0913767146512738,
          1.3383887531737564,
          1.6413071953751284,
          2.0127853758499383,
          2.4683404670686486,
          3.0270016537634614,
          3.7121050090663608,
          4.55226827550731,
          5.582586268862695,
          6.846096838574658,
          8.395578619995112,
          10.295755673125127,
          12.626001098748565,
          15.48365256585499,
          18.988078244652634,
          23.285662984981965,
          28.55592301990109,
          35.019004614317126,
          42.944879887892725,
          52.66462393484275,
          64.58424430196978,
          79.20164050192548,
          97.12740198471168,
          119.11031332830079,
          146.06863203649888,
          179.1284454622002,
          219.67070907932353,
          269.388930959017,
          330.35991201283395,
          405.1304969235378,
          496.8239594734388,
          609.2704661368674,
          747.1670675868082,
          916.2739011886731,
          1123.6548001387516,
          1377.9723598335568,
          1689.8497868124587,
          2072.3146452190294,
          2541.343036702639,
          3116.52694492943,
          3821.8926206331225,
          4686.904192314192,
          5747.694424835347,
          7048.574036451903,
          8643.882620598262,
          10600.258488068825,
          12999.42224413245,
          15941.590374559995,
          19549.661430912594,
          23974.349678010785,
          29400.480643347077,
          36054.71154250506,
          44214.99907374487,
          54222.21006501592,
          66494.35996665046,
          81544.07395185171,
          100000
         ],
         "xaxis": "x",
         "y": [
          0.48026324071218063,
          0.48053755145805443,
          0.48077978422515316,
          0.4809906164819286,
          0.48117205145616315,
          0.48132696932829744,
          0.48145872241035936,
          0.4815708182522679,
          0.48166670335078887,
          0.48174963886827615,
          0.4818226494370787,
          0.48188852409281857,
          0.48194985106546523,
          0.48200907260690384,
          0.4820685504094985,
          0.4821306356062026,
          0.48219773959243034,
          0.48227240302537666,
          0.4823573604795802,
          0.48245559749634587,
          0.4825703952443102,
          0.4827053557678093,
          0.4828643979151222,
          0.48305171066276725,
          0.4832716469751519,
          0.48352853803551604,
          0.48382640532636234,
          0.4841685474702616,
          0.48455698095471655,
          0.4849917200447115,
          0.4854698929317716,
          0.4859847107892422,
          0.4865243368964281,
          0.48707074691996094,
          0.4875987279950289,
          0.488075224658549,
          0.4884592826604437,
          0.4887028324923707,
          0.4887524525607949,
          0.4885520310339196,
          0.4880459239998764,
          0.48718187371544774,
          0.48591275198892364,
          0.48419627178832203,
          0.4819922024589077,
          0.4792572065865265,
          0.4759379586793228,
          0.4719635208145334,
          0.4672380300077901,
          0.4616347631298819,
          0.45499277582264613,
          0.447117581736018,
          0.43778752286963246,
          0.42676722143810986,
          0.41382854323273766,
          0.3987779080880321,
          0.38148698216864296,
          0.3619223757694246,
          0.3401694016700182,
          0.3164453281855328,
          0.29109872010121823,
          0.2645932197834819,
          0.23747642202337924,
          0.2103372063416061,
          0.18375747935040623,
          0.15826582781697993,
          0.13430028281319145,
          0.11218515937053793,
          0.09212355466498061,
          0.0742037897616193,
          0.058415869888184105,
          0.044673289208670176,
          0.0328359848559326,
          0.022731410345614832,
          0.014172015069533339,
          0.006968530404208662,
          0.0009392283262430468,
          -0.004084259998488049,
          -0.00825382130556047,
          -0.011703700846744436
         ],
         "yaxis": "y"
        }
       ],
       "layout": {
        "legend": {
         "tracegroupgap": 0
        },
        "margin": {
         "t": 60
        },
        "template": {
         "data": {
          "bar": [
           {
            "error_x": {
             "color": "#2a3f5f"
            },
            "error_y": {
             "color": "#2a3f5f"
            },
            "marker": {
             "line": {
              "color": "#E5ECF6",
              "width": 0.5
             }
            },
            "type": "bar"
           }
          ],
          "barpolar": [
           {
            "marker": {
             "line": {
              "color": "#E5ECF6",
              "width": 0.5
             }
            },
            "type": "barpolar"
           }
          ],
          "carpet": [
           {
            "aaxis": {
             "endlinecolor": "#2a3f5f",
             "gridcolor": "white",
             "linecolor": "white",
             "minorgridcolor": "white",
             "startlinecolor": "#2a3f5f"
            },
            "baxis": {
             "endlinecolor": "#2a3f5f",
             "gridcolor": "white",
             "linecolor": "white",
             "minorgridcolor": "white",
             "startlinecolor": "#2a3f5f"
            },
            "type": "carpet"
           }
          ],
          "choropleth": [
           {
            "colorbar": {
             "outlinewidth": 0,
             "ticks": ""
            },
            "type": "choropleth"
           }
          ],
          "contour": [
           {
            "colorbar": {
             "outlinewidth": 0,
             "ticks": ""
            },
            "colorscale": [
             [
              0,
              "#0d0887"
             ],
             [
              0.1111111111111111,
              "#46039f"
             ],
             [
              0.2222222222222222,
              "#7201a8"
             ],
             [
              0.3333333333333333,
              "#9c179e"
             ],
             [
              0.4444444444444444,
              "#bd3786"
             ],
             [
              0.5555555555555556,
              "#d8576b"
             ],
             [
              0.6666666666666666,
              "#ed7953"
             ],
             [
              0.7777777777777778,
              "#fb9f3a"
             ],
             [
              0.8888888888888888,
              "#fdca26"
             ],
             [
              1,
              "#f0f921"
             ]
            ],
            "type": "contour"
           }
          ],
          "contourcarpet": [
           {
            "colorbar": {
             "outlinewidth": 0,
             "ticks": ""
            },
            "type": "contourcarpet"
           }
          ],
          "heatmap": [
           {
            "colorbar": {
             "outlinewidth": 0,
             "ticks": ""
            },
            "colorscale": [
             [
              0,
              "#0d0887"
             ],
             [
              0.1111111111111111,
              "#46039f"
             ],
             [
              0.2222222222222222,
              "#7201a8"
             ],
             [
              0.3333333333333333,
              "#9c179e"
             ],
             [
              0.4444444444444444,
              "#bd3786"
             ],
             [
              0.5555555555555556,
              "#d8576b"
             ],
             [
              0.6666666666666666,
              "#ed7953"
             ],
             [
              0.7777777777777778,
              "#fb9f3a"
             ],
             [
              0.8888888888888888,
              "#fdca26"
             ],
             [
              1,
              "#f0f921"
             ]
            ],
            "type": "heatmap"
           }
          ],
          "heatmapgl": [
           {
            "colorbar": {
             "outlinewidth": 0,
             "ticks": ""
            },
            "colorscale": [
             [
              0,
              "#0d0887"
             ],
             [
              0.1111111111111111,
              "#46039f"
             ],
             [
              0.2222222222222222,
              "#7201a8"
             ],
             [
              0.3333333333333333,
              "#9c179e"
             ],
             [
              0.4444444444444444,
              "#bd3786"
             ],
             [
              0.5555555555555556,
              "#d8576b"
             ],
             [
              0.6666666666666666,
              "#ed7953"
             ],
             [
              0.7777777777777778,
              "#fb9f3a"
             ],
             [
              0.8888888888888888,
              "#fdca26"
             ],
             [
              1,
              "#f0f921"
             ]
            ],
            "type": "heatmapgl"
           }
          ],
          "histogram": [
           {
            "marker": {
             "colorbar": {
              "outlinewidth": 0,
              "ticks": ""
             }
            },
            "type": "histogram"
           }
          ],
          "histogram2d": [
           {
            "colorbar": {
             "outlinewidth": 0,
             "ticks": ""
            },
            "colorscale": [
             [
              0,
              "#0d0887"
             ],
             [
              0.1111111111111111,
              "#46039f"
             ],
             [
              0.2222222222222222,
              "#7201a8"
             ],
             [
              0.3333333333333333,
              "#9c179e"
             ],
             [
              0.4444444444444444,
              "#bd3786"
             ],
             [
              0.5555555555555556,
              "#d8576b"
             ],
             [
              0.6666666666666666,
              "#ed7953"
             ],
             [
              0.7777777777777778,
              "#fb9f3a"
             ],
             [
              0.8888888888888888,
              "#fdca26"
             ],
             [
              1,
              "#f0f921"
             ]
            ],
            "type": "histogram2d"
           }
          ],
          "histogram2dcontour": [
           {
            "colorbar": {
             "outlinewidth": 0,
             "ticks": ""
            },
            "colorscale": [
             [
              0,
              "#0d0887"
             ],
             [
              0.1111111111111111,
              "#46039f"
             ],
             [
              0.2222222222222222,
              "#7201a8"
             ],
             [
              0.3333333333333333,
              "#9c179e"
             ],
             [
              0.4444444444444444,
              "#bd3786"
             ],
             [
              0.5555555555555556,
              "#d8576b"
             ],
             [
              0.6666666666666666,
              "#ed7953"
             ],
             [
              0.7777777777777778,
              "#fb9f3a"
             ],
             [
              0.8888888888888888,
              "#fdca26"
             ],
             [
              1,
              "#f0f921"
             ]
            ],
            "type": "histogram2dcontour"
           }
          ],
          "mesh3d": [
           {
            "colorbar": {
             "outlinewidth": 0,
             "ticks": ""
            },
            "type": "mesh3d"
           }
          ],
          "parcoords": [
           {
            "line": {
             "colorbar": {
              "outlinewidth": 0,
              "ticks": ""
             }
            },
            "type": "parcoords"
           }
          ],
          "pie": [
           {
            "automargin": true,
            "type": "pie"
           }
          ],
          "scatter": [
           {
            "marker": {
             "colorbar": {
              "outlinewidth": 0,
              "ticks": ""
             }
            },
            "type": "scatter"
           }
          ],
          "scatter3d": [
           {
            "line": {
             "colorbar": {
              "outlinewidth": 0,
              "ticks": ""
             }
            },
            "marker": {
             "colorbar": {
              "outlinewidth": 0,
              "ticks": ""
             }
            },
            "type": "scatter3d"
           }
          ],
          "scattercarpet": [
           {
            "marker": {
             "colorbar": {
              "outlinewidth": 0,
              "ticks": ""
             }
            },
            "type": "scattercarpet"
           }
          ],
          "scattergeo": [
           {
            "marker": {
             "colorbar": {
              "outlinewidth": 0,
              "ticks": ""
             }
            },
            "type": "scattergeo"
           }
          ],
          "scattergl": [
           {
            "marker": {
             "colorbar": {
              "outlinewidth": 0,
              "ticks": ""
             }
            },
            "type": "scattergl"
           }
          ],
          "scattermapbox": [
           {
            "marker": {
             "colorbar": {
              "outlinewidth": 0,
              "ticks": ""
             }
            },
            "type": "scattermapbox"
           }
          ],
          "scatterpolar": [
           {
            "marker": {
             "colorbar": {
              "outlinewidth": 0,
              "ticks": ""
             }
            },
            "type": "scatterpolar"
           }
          ],
          "scatterpolargl": [
           {
            "marker": {
             "colorbar": {
              "outlinewidth": 0,
              "ticks": ""
             }
            },
            "type": "scatterpolargl"
           }
          ],
          "scatterternary": [
           {
            "marker": {
             "colorbar": {
              "outlinewidth": 0,
              "ticks": ""
             }
            },
            "type": "scatterternary"
           }
          ],
          "surface": [
           {
            "colorbar": {
             "outlinewidth": 0,
             "ticks": ""
            },
            "colorscale": [
             [
              0,
              "#0d0887"
             ],
             [
              0.1111111111111111,
              "#46039f"
             ],
             [
              0.2222222222222222,
              "#7201a8"
             ],
             [
              0.3333333333333333,
              "#9c179e"
             ],
             [
              0.4444444444444444,
              "#bd3786"
             ],
             [
              0.5555555555555556,
              "#d8576b"
             ],
             [
              0.6666666666666666,
              "#ed7953"
             ],
             [
              0.7777777777777778,
              "#fb9f3a"
             ],
             [
              0.8888888888888888,
              "#fdca26"
             ],
             [
              1,
              "#f0f921"
             ]
            ],
            "type": "surface"
           }
          ],
          "table": [
           {
            "cells": {
             "fill": {
              "color": "#EBF0F8"
             },
             "line": {
              "color": "white"
             }
            },
            "header": {
             "fill": {
              "color": "#C8D4E3"
             },
             "line": {
              "color": "white"
             }
            },
            "type": "table"
           }
          ]
         },
         "layout": {
          "annotationdefaults": {
           "arrowcolor": "#2a3f5f",
           "arrowhead": 0,
           "arrowwidth": 1
          },
          "coloraxis": {
           "colorbar": {
            "outlinewidth": 0,
            "ticks": ""
           }
          },
          "colorscale": {
           "diverging": [
            [
             0,
             "#8e0152"
            ],
            [
             0.1,
             "#c51b7d"
            ],
            [
             0.2,
             "#de77ae"
            ],
            [
             0.3,
             "#f1b6da"
            ],
            [
             0.4,
             "#fde0ef"
            ],
            [
             0.5,
             "#f7f7f7"
            ],
            [
             0.6,
             "#e6f5d0"
            ],
            [
             0.7,
             "#b8e186"
            ],
            [
             0.8,
             "#7fbc41"
            ],
            [
             0.9,
             "#4d9221"
            ],
            [
             1,
             "#276419"
            ]
           ],
           "sequential": [
            [
             0,
             "#0d0887"
            ],
            [
             0.1111111111111111,
             "#46039f"
            ],
            [
             0.2222222222222222,
             "#7201a8"
            ],
            [
             0.3333333333333333,
             "#9c179e"
            ],
            [
             0.4444444444444444,
             "#bd3786"
            ],
            [
             0.5555555555555556,
             "#d8576b"
            ],
            [
             0.6666666666666666,
             "#ed7953"
            ],
            [
             0.7777777777777778,
             "#fb9f3a"
            ],
            [
             0.8888888888888888,
             "#fdca26"
            ],
            [
             1,
             "#f0f921"
            ]
           ],
           "sequentialminus": [
            [
             0,
             "#0d0887"
            ],
            [
             0.1111111111111111,
             "#46039f"
            ],
            [
             0.2222222222222222,
             "#7201a8"
            ],
            [
             0.3333333333333333,
             "#9c179e"
            ],
            [
             0.4444444444444444,
             "#bd3786"
            ],
            [
             0.5555555555555556,
             "#d8576b"
            ],
            [
             0.6666666666666666,
             "#ed7953"
            ],
            [
             0.7777777777777778,
             "#fb9f3a"
            ],
            [
             0.8888888888888888,
             "#fdca26"
            ],
            [
             1,
             "#f0f921"
            ]
           ]
          },
          "colorway": [
           "#636efa",
           "#EF553B",
           "#00cc96",
           "#ab63fa",
           "#FFA15A",
           "#19d3f3",
           "#FF6692",
           "#B6E880",
           "#FF97FF",
           "#FECB52"
          ],
          "font": {
           "color": "#2a3f5f"
          },
          "geo": {
           "bgcolor": "white",
           "lakecolor": "white",
           "landcolor": "#E5ECF6",
           "showlakes": true,
           "showland": true,
           "subunitcolor": "white"
          },
          "hoverlabel": {
           "align": "left"
          },
          "hovermode": "closest",
          "mapbox": {
           "style": "light"
          },
          "paper_bgcolor": "white",
          "plot_bgcolor": "#E5ECF6",
          "polar": {
           "angularaxis": {
            "gridcolor": "white",
            "linecolor": "white",
            "ticks": ""
           },
           "bgcolor": "#E5ECF6",
           "radialaxis": {
            "gridcolor": "white",
            "linecolor": "white",
            "ticks": ""
           }
          },
          "scene": {
           "xaxis": {
            "backgroundcolor": "#E5ECF6",
            "gridcolor": "white",
            "gridwidth": 2,
            "linecolor": "white",
            "showbackground": true,
            "ticks": "",
            "zerolinecolor": "white"
           },
           "yaxis": {
            "backgroundcolor": "#E5ECF6",
            "gridcolor": "white",
            "gridwidth": 2,
            "linecolor": "white",
            "showbackground": true,
            "ticks": "",
            "zerolinecolor": "white"
           },
           "zaxis": {
            "backgroundcolor": "#E5ECF6",
            "gridcolor": "white",
            "gridwidth": 2,
            "linecolor": "white",
            "showbackground": true,
            "ticks": "",
            "zerolinecolor": "white"
           }
          },
          "shapedefaults": {
           "line": {
            "color": "#2a3f5f"
           }
          },
          "ternary": {
           "aaxis": {
            "gridcolor": "white",
            "linecolor": "white",
            "ticks": ""
           },
           "baxis": {
            "gridcolor": "white",
            "linecolor": "white",
            "ticks": ""
           },
           "bgcolor": "#E5ECF6",
           "caxis": {
            "gridcolor": "white",
            "linecolor": "white",
            "ticks": ""
           }
          },
          "title": {
           "x": 0.05
          },
          "xaxis": {
           "automargin": true,
           "gridcolor": "white",
           "linecolor": "white",
           "ticks": "",
           "title": {
            "standoff": 15
           },
           "zerolinecolor": "white",
           "zerolinewidth": 2
          },
          "yaxis": {
           "automargin": true,
           "gridcolor": "white",
           "linecolor": "white",
           "ticks": "",
           "title": {
            "standoff": 15
           },
           "zerolinecolor": "white",
           "zerolinewidth": 2
          }
         }
        },
        "xaxis": {
         "anchor": "y",
         "domain": [
          0,
          1
         ],
         "title": {
          "text": "alpha"
         },
         "type": "log"
        },
        "yaxis": {
         "anchor": "x",
         "domain": [
          0,
          1
         ],
         "title": {
          "text": "R^2 (mean)"
         }
        }
       }
      },
      "text/html": "<div>                            <div id=\"f4097629-3486-494e-bef1-ac6b6662ad69\" class=\"plotly-graph-div\" style=\"height:525px; width:100%;\"></div>            <script type=\"text/javascript\">                require([\"plotly\"], function(Plotly) {                    window.PLOTLYENV=window.PLOTLYENV || {};                                    if (document.getElementById(\"f4097629-3486-494e-bef1-ac6b6662ad69\")) {                    Plotly.newPlot(                        \"f4097629-3486-494e-bef1-ac6b6662ad69\",                        [{\"hovertemplate\": \"alpha=%{x}<br>R^2 (mean)=%{y}<extra></extra>\", \"legendgroup\": \"\", \"line\": {\"color\": \"#636efa\", \"dash\": \"solid\"}, \"mode\": \"lines\", \"name\": \"\", \"orientation\": \"v\", \"showlegend\": false, \"type\": \"scatter\", \"x\": [0.01, 0.012263306841775632, 0.015038869469554102, 0.018442627085855347, 0.022616759492228647, 0.02773562614198415, 0.03401304938279251, 0.04171124612056518, 0.051151780992931425, 0.06272899858196247, 0.07692649574879142, 0.09433732216299774, 0.1156887528316282, 0.1418726674116596, 0.1739828052930364, 0.21336045265014109, 0.2616504698748821, 0.320869999737045, 0.39349272630958493, 0.48255220427412787, 0.5917685748188825, 0.7257039612324212, 0.8899530352885229, 1.0913767146512738, 1.3383887531737564, 1.6413071953751284, 2.0127853758499383, 2.4683404670686486, 3.0270016537634614, 3.7121050090663608, 4.55226827550731, 5.582586268862695, 6.846096838574658, 8.395578619995112, 10.295755673125127, 12.626001098748565, 15.48365256585499, 18.988078244652634, 23.285662984981965, 28.55592301990109, 35.019004614317126, 42.944879887892725, 52.66462393484275, 64.58424430196978, 79.20164050192548, 97.12740198471168, 119.11031332830079, 146.06863203649888, 179.1284454622002, 219.67070907932353, 269.388930959017, 330.35991201283395, 405.1304969235378, 496.8239594734388, 609.2704661368674, 747.1670675868082, 916.2739011886731, 1123.6548001387516, 1377.9723598335568, 1689.8497868124587, 2072.3146452190294, 2541.343036702639, 3116.52694492943, 3821.8926206331225, 4686.904192314192, 5747.694424835347, 7048.574036451903, 8643.882620598262, 10600.258488068825, 12999.42224413245, 15941.590374559995, 19549.661430912594, 23974.349678010785, 29400.480643347077, 36054.71154250506, 44214.99907374487, 54222.21006501592, 66494.35996665046, 81544.07395185171, 100000.0], \"xaxis\": \"x\", \"y\": [0.48026324071218063, 0.48053755145805443, 0.48077978422515316, 0.4809906164819286, 0.48117205145616315, 0.48132696932829744, 0.48145872241035936, 0.4815708182522679, 0.48166670335078887, 0.48174963886827615, 0.4818226494370787, 0.48188852409281857, 0.48194985106546523, 0.48200907260690384, 0.4820685504094985, 0.4821306356062026, 0.48219773959243034, 0.48227240302537666, 0.4823573604795802, 0.48245559749634587, 0.4825703952443102, 0.4827053557678093, 0.4828643979151222, 0.48305171066276725, 0.4832716469751519, 0.48352853803551604, 0.48382640532636234, 0.4841685474702616, 0.48455698095471655, 0.4849917200447115, 0.4854698929317716, 0.4859847107892422, 0.4865243368964281, 0.48707074691996094, 0.4875987279950289, 0.488075224658549, 0.4884592826604437, 0.4887028324923707, 0.4887524525607949, 0.4885520310339196, 0.4880459239998764, 0.48718187371544774, 0.48591275198892364, 0.48419627178832203, 0.4819922024589077, 0.4792572065865265, 0.4759379586793228, 0.4719635208145334, 0.4672380300077901, 0.4616347631298819, 0.45499277582264613, 0.447117581736018, 0.43778752286963246, 0.42676722143810986, 0.41382854323273766, 0.3987779080880321, 0.38148698216864296, 0.3619223757694246, 0.3401694016700182, 0.3164453281855328, 0.29109872010121823, 0.2645932197834819, 0.23747642202337924, 0.2103372063416061, 0.18375747935040623, 0.15826582781697993, 0.13430028281319145, 0.11218515937053793, 0.09212355466498061, 0.0742037897616193, 0.058415869888184105, 0.044673289208670176, 0.0328359848559326, 0.022731410345614832, 0.014172015069533339, 0.006968530404208662, 0.0009392283262430468, -0.004084259998488049, -0.00825382130556047, -0.011703700846744436], \"yaxis\": \"y\"}],                        {\"legend\": {\"tracegroupgap\": 0}, \"margin\": {\"t\": 60}, \"template\": {\"data\": {\"bar\": [{\"error_x\": {\"color\": \"#2a3f5f\"}, \"error_y\": {\"color\": \"#2a3f5f\"}, \"marker\": {\"line\": {\"color\": \"#E5ECF6\", \"width\": 0.5}}, \"type\": \"bar\"}], \"barpolar\": [{\"marker\": {\"line\": {\"color\": \"#E5ECF6\", \"width\": 0.5}}, \"type\": \"barpolar\"}], \"carpet\": [{\"aaxis\": {\"endlinecolor\": \"#2a3f5f\", \"gridcolor\": \"white\", \"linecolor\": \"white\", \"minorgridcolor\": \"white\", \"startlinecolor\": \"#2a3f5f\"}, \"baxis\": {\"endlinecolor\": \"#2a3f5f\", \"gridcolor\": \"white\", \"linecolor\": \"white\", \"minorgridcolor\": \"white\", \"startlinecolor\": \"#2a3f5f\"}, \"type\": \"carpet\"}], \"choropleth\": [{\"colorbar\": {\"outlinewidth\": 0, \"ticks\": \"\"}, \"type\": \"choropleth\"}], \"contour\": [{\"colorbar\": {\"outlinewidth\": 0, \"ticks\": \"\"}, \"colorscale\": [[0.0, \"#0d0887\"], [0.1111111111111111, \"#46039f\"], [0.2222222222222222, \"#7201a8\"], [0.3333333333333333, \"#9c179e\"], [0.4444444444444444, \"#bd3786\"], [0.5555555555555556, \"#d8576b\"], [0.6666666666666666, \"#ed7953\"], [0.7777777777777778, \"#fb9f3a\"], [0.8888888888888888, \"#fdca26\"], [1.0, \"#f0f921\"]], \"type\": \"contour\"}], \"contourcarpet\": [{\"colorbar\": {\"outlinewidth\": 0, \"ticks\": \"\"}, \"type\": \"contourcarpet\"}], \"heatmap\": [{\"colorbar\": {\"outlinewidth\": 0, \"ticks\": \"\"}, \"colorscale\": [[0.0, \"#0d0887\"], [0.1111111111111111, \"#46039f\"], [0.2222222222222222, \"#7201a8\"], [0.3333333333333333, \"#9c179e\"], [0.4444444444444444, \"#bd3786\"], [0.5555555555555556, \"#d8576b\"], [0.6666666666666666, \"#ed7953\"], [0.7777777777777778, \"#fb9f3a\"], [0.8888888888888888, \"#fdca26\"], [1.0, \"#f0f921\"]], \"type\": \"heatmap\"}], \"heatmapgl\": [{\"colorbar\": {\"outlinewidth\": 0, \"ticks\": \"\"}, \"colorscale\": [[0.0, \"#0d0887\"], [0.1111111111111111, \"#46039f\"], [0.2222222222222222, \"#7201a8\"], [0.3333333333333333, \"#9c179e\"], [0.4444444444444444, \"#bd3786\"], [0.5555555555555556, \"#d8576b\"], [0.6666666666666666, \"#ed7953\"], [0.7777777777777778, \"#fb9f3a\"], [0.8888888888888888, \"#fdca26\"], [1.0, \"#f0f921\"]], \"type\": \"heatmapgl\"}], \"histogram\": [{\"marker\": {\"colorbar\": {\"outlinewidth\": 0, \"ticks\": \"\"}}, \"type\": \"histogram\"}], \"histogram2d\": [{\"colorbar\": {\"outlinewidth\": 0, \"ticks\": \"\"}, \"colorscale\": [[0.0, \"#0d0887\"], [0.1111111111111111, \"#46039f\"], [0.2222222222222222, \"#7201a8\"], [0.3333333333333333, \"#9c179e\"], [0.4444444444444444, \"#bd3786\"], [0.5555555555555556, \"#d8576b\"], [0.6666666666666666, \"#ed7953\"], [0.7777777777777778, \"#fb9f3a\"], [0.8888888888888888, \"#fdca26\"], [1.0, \"#f0f921\"]], \"type\": \"histogram2d\"}], \"histogram2dcontour\": [{\"colorbar\": {\"outlinewidth\": 0, \"ticks\": \"\"}, \"colorscale\": [[0.0, \"#0d0887\"], [0.1111111111111111, \"#46039f\"], [0.2222222222222222, \"#7201a8\"], [0.3333333333333333, \"#9c179e\"], [0.4444444444444444, \"#bd3786\"], [0.5555555555555556, \"#d8576b\"], [0.6666666666666666, \"#ed7953\"], [0.7777777777777778, \"#fb9f3a\"], [0.8888888888888888, \"#fdca26\"], [1.0, \"#f0f921\"]], \"type\": \"histogram2dcontour\"}], \"mesh3d\": [{\"colorbar\": {\"outlinewidth\": 0, \"ticks\": \"\"}, \"type\": \"mesh3d\"}], \"parcoords\": [{\"line\": {\"colorbar\": {\"outlinewidth\": 0, \"ticks\": \"\"}}, \"type\": \"parcoords\"}], \"pie\": [{\"automargin\": true, \"type\": \"pie\"}], \"scatter\": [{\"marker\": {\"colorbar\": {\"outlinewidth\": 0, \"ticks\": \"\"}}, \"type\": \"scatter\"}], \"scatter3d\": [{\"line\": {\"colorbar\": {\"outlinewidth\": 0, \"ticks\": \"\"}}, \"marker\": {\"colorbar\": {\"outlinewidth\": 0, \"ticks\": \"\"}}, \"type\": \"scatter3d\"}], \"scattercarpet\": [{\"marker\": {\"colorbar\": {\"outlinewidth\": 0, \"ticks\": \"\"}}, \"type\": \"scattercarpet\"}], \"scattergeo\": [{\"marker\": {\"colorbar\": {\"outlinewidth\": 0, \"ticks\": \"\"}}, \"type\": \"scattergeo\"}], \"scattergl\": [{\"marker\": {\"colorbar\": {\"outlinewidth\": 0, \"ticks\": \"\"}}, \"type\": \"scattergl\"}], \"scattermapbox\": [{\"marker\": {\"colorbar\": {\"outlinewidth\": 0, \"ticks\": \"\"}}, \"type\": \"scattermapbox\"}], \"scatterpolar\": [{\"marker\": {\"colorbar\": {\"outlinewidth\": 0, \"ticks\": \"\"}}, \"type\": \"scatterpolar\"}], \"scatterpolargl\": [{\"marker\": {\"colorbar\": {\"outlinewidth\": 0, \"ticks\": \"\"}}, \"type\": \"scatterpolargl\"}], \"scatterternary\": [{\"marker\": {\"colorbar\": {\"outlinewidth\": 0, \"ticks\": \"\"}}, \"type\": \"scatterternary\"}], \"surface\": [{\"colorbar\": {\"outlinewidth\": 0, \"ticks\": \"\"}, \"colorscale\": [[0.0, \"#0d0887\"], [0.1111111111111111, \"#46039f\"], [0.2222222222222222, \"#7201a8\"], [0.3333333333333333, \"#9c179e\"], [0.4444444444444444, \"#bd3786\"], [0.5555555555555556, \"#d8576b\"], [0.6666666666666666, \"#ed7953\"], [0.7777777777777778, \"#fb9f3a\"], [0.8888888888888888, \"#fdca26\"], [1.0, \"#f0f921\"]], \"type\": \"surface\"}], \"table\": [{\"cells\": {\"fill\": {\"color\": \"#EBF0F8\"}, \"line\": {\"color\": \"white\"}}, \"header\": {\"fill\": {\"color\": \"#C8D4E3\"}, \"line\": {\"color\": \"white\"}}, \"type\": \"table\"}]}, \"layout\": {\"annotationdefaults\": {\"arrowcolor\": \"#2a3f5f\", \"arrowhead\": 0, \"arrowwidth\": 1}, \"coloraxis\": {\"colorbar\": {\"outlinewidth\": 0, \"ticks\": \"\"}}, \"colorscale\": {\"diverging\": [[0, \"#8e0152\"], [0.1, \"#c51b7d\"], [0.2, \"#de77ae\"], [0.3, \"#f1b6da\"], [0.4, \"#fde0ef\"], [0.5, \"#f7f7f7\"], [0.6, \"#e6f5d0\"], [0.7, \"#b8e186\"], [0.8, \"#7fbc41\"], [0.9, \"#4d9221\"], [1, \"#276419\"]], \"sequential\": [[0.0, \"#0d0887\"], [0.1111111111111111, \"#46039f\"], [0.2222222222222222, \"#7201a8\"], [0.3333333333333333, \"#9c179e\"], [0.4444444444444444, \"#bd3786\"], [0.5555555555555556, \"#d8576b\"], [0.6666666666666666, \"#ed7953\"], [0.7777777777777778, \"#fb9f3a\"], [0.8888888888888888, \"#fdca26\"], [1.0, \"#f0f921\"]], \"sequentialminus\": [[0.0, \"#0d0887\"], [0.1111111111111111, \"#46039f\"], [0.2222222222222222, \"#7201a8\"], [0.3333333333333333, \"#9c179e\"], [0.4444444444444444, \"#bd3786\"], [0.5555555555555556, \"#d8576b\"], [0.6666666666666666, \"#ed7953\"], [0.7777777777777778, \"#fb9f3a\"], [0.8888888888888888, \"#fdca26\"], [1.0, \"#f0f921\"]]}, \"colorway\": [\"#636efa\", \"#EF553B\", \"#00cc96\", \"#ab63fa\", \"#FFA15A\", \"#19d3f3\", \"#FF6692\", \"#B6E880\", \"#FF97FF\", \"#FECB52\"], \"font\": {\"color\": \"#2a3f5f\"}, \"geo\": {\"bgcolor\": \"white\", \"lakecolor\": \"white\", \"landcolor\": \"#E5ECF6\", \"showlakes\": true, \"showland\": true, \"subunitcolor\": \"white\"}, \"hoverlabel\": {\"align\": \"left\"}, \"hovermode\": \"closest\", \"mapbox\": {\"style\": \"light\"}, \"paper_bgcolor\": \"white\", \"plot_bgcolor\": \"#E5ECF6\", \"polar\": {\"angularaxis\": {\"gridcolor\": \"white\", \"linecolor\": \"white\", \"ticks\": \"\"}, \"bgcolor\": \"#E5ECF6\", \"radialaxis\": {\"gridcolor\": \"white\", \"linecolor\": \"white\", \"ticks\": \"\"}}, \"scene\": {\"xaxis\": {\"backgroundcolor\": \"#E5ECF6\", \"gridcolor\": \"white\", \"gridwidth\": 2, \"linecolor\": \"white\", \"showbackground\": true, \"ticks\": \"\", \"zerolinecolor\": \"white\"}, \"yaxis\": {\"backgroundcolor\": \"#E5ECF6\", \"gridcolor\": \"white\", \"gridwidth\": 2, \"linecolor\": \"white\", \"showbackground\": true, \"ticks\": \"\", \"zerolinecolor\": \"white\"}, \"zaxis\": {\"backgroundcolor\": \"#E5ECF6\", \"gridcolor\": \"white\", \"gridwidth\": 2, \"linecolor\": \"white\", \"showbackground\": true, \"ticks\": \"\", \"zerolinecolor\": \"white\"}}, \"shapedefaults\": {\"line\": {\"color\": \"#2a3f5f\"}}, \"ternary\": {\"aaxis\": {\"gridcolor\": \"white\", \"linecolor\": \"white\", \"ticks\": \"\"}, \"baxis\": {\"gridcolor\": \"white\", \"linecolor\": \"white\", \"ticks\": \"\"}, \"bgcolor\": \"#E5ECF6\", \"caxis\": {\"gridcolor\": \"white\", \"linecolor\": \"white\", \"ticks\": \"\"}}, \"title\": {\"x\": 0.05}, \"xaxis\": {\"automargin\": true, \"gridcolor\": \"white\", \"linecolor\": \"white\", \"ticks\": \"\", \"title\": {\"standoff\": 15}, \"zerolinecolor\": \"white\", \"zerolinewidth\": 2}, \"yaxis\": {\"automargin\": true, \"gridcolor\": \"white\", \"linecolor\": \"white\", \"ticks\": \"\", \"title\": {\"standoff\": 15}, \"zerolinecolor\": \"white\", \"zerolinewidth\": 2}}}, \"xaxis\": {\"anchor\": \"y\", \"domain\": [0.0, 1.0], \"title\": {\"text\": \"alpha\"}, \"type\": \"log\"}, \"yaxis\": {\"anchor\": \"x\", \"domain\": [0.0, 1.0], \"title\": {\"text\": \"R^2 (mean)\"}}},                        {\"responsive\": true}                    ).then(function(){\n                            \nvar gd = document.getElementById('f4097629-3486-494e-bef1-ac6b6662ad69');\nvar x = new MutationObserver(function (mutations, observer) {{\n        var display = window.getComputedStyle(gd).display;\n        if (!display || display === 'none') {{\n            console.log([gd, 'removed!']);\n            Plotly.purge(gd);\n            observer.disconnect();\n        }}\n}});\n\n// Listen for the removal of the full notebook cells\nvar notebookContainer = gd.closest('#notebook-container');\nif (notebookContainer) {{\n    x.observe(notebookContainer, {childList: true});\n}}\n\n// Listen for the clearing of the current output cell\nvar outputEl = gd.closest('.output');\nif (outputEl) {{\n    x.observe(outputEl, {childList: true});\n}}\n\n                        })                };                });            </script>        </div>"
     },
     "metadata": {}
    }
   ],
   "source": [
    "# we pick alpha before the drop of the R^2 value\n",
    "r2_means = []\n",
    "\n",
    "for i in alphas:\n",
    "    r2_means.append(cross_val_score(Ridge(alpha=i), original_X_3, original_y).mean())\n",
    "\n",
    "result = pd.DataFrame(zip(alphas, r2_means), columns=['alpha', 'R^2 (mean)'])\n",
    "fig = px.line(result, x='alpha', y='R^2 (mean)')\n",
    "fig.update_xaxes(type='log')\n",
    "fig.show()"
   ]
  },
  {
   "source": [
    "## Coefficients"
   ],
   "cell_type": "markdown",
   "metadata": {}
  },
  {
   "cell_type": "code",
   "execution_count": 62,
   "metadata": {},
   "outputs": [
    {
     "output_type": "display_data",
     "data": {
      "application/vnd.plotly.v1+json": {
       "config": {
        "plotlyServerURL": "https://plot.ly"
       },
       "data": [
        {
         "hovertemplate": "variable=age<br>alphas=%{x}<br>value=%{y}<extra></extra>",
         "legendgroup": "age",
         "line": {
          "color": "#636efa",
          "dash": "solid"
         },
         "mode": "lines",
         "name": "age",
         "showlegend": true,
         "type": "scattergl",
         "x": [
          0.01,
          0.012263306841775632,
          0.015038869469554102,
          0.018442627085855347,
          0.022616759492228647,
          0.02773562614198415,
          0.03401304938279251,
          0.04171124612056518,
          0.051151780992931425,
          0.06272899858196247,
          0.07692649574879142,
          0.09433732216299774,
          0.1156887528316282,
          0.1418726674116596,
          0.1739828052930364,
          0.21336045265014109,
          0.2616504698748821,
          0.320869999737045,
          0.39349272630958493,
          0.48255220427412787,
          0.5917685748188825,
          0.7257039612324212,
          0.8899530352885229,
          1.0913767146512738,
          1.3383887531737564,
          1.6413071953751284,
          2.0127853758499383,
          2.4683404670686486,
          3.0270016537634614,
          3.7121050090663608,
          4.55226827550731,
          5.582586268862695,
          6.846096838574658,
          8.395578619995112,
          10.295755673125127,
          12.626001098748565,
          15.48365256585499,
          18.988078244652634,
          23.285662984981965,
          28.55592301990109,
          35.019004614317126,
          42.944879887892725,
          52.66462393484275,
          64.58424430196978,
          79.20164050192548,
          97.12740198471168,
          119.11031332830079,
          146.06863203649888,
          179.1284454622002,
          219.67070907932353,
          269.388930959017,
          330.35991201283395,
          405.1304969235378,
          496.8239594734388,
          609.2704661368674,
          747.1670675868082,
          916.2739011886731,
          1123.6548001387516,
          1377.9723598335568,
          1689.8497868124587,
          2072.3146452190294,
          2541.343036702639,
          3116.52694492943,
          3821.8926206331225,
          4686.904192314192,
          5747.694424835347,
          7048.574036451903,
          8643.882620598262,
          10600.258488068825,
          12999.42224413245,
          15941.590374559995,
          19549.661430912594,
          23974.349678010785,
          29400.480643347077,
          36054.71154250506,
          44214.99907374487,
          54222.21006501592,
          66494.35996665046,
          81544.07395185171,
          100000
         ],
         "xaxis": "x",
         "y": [
          11.752556744597726,
          11.763835233444674,
          11.774532980843338,
          11.784433320135461,
          11.793360588836194,
          11.801183215083588,
          11.807810420094082,
          11.8131839829694,
          11.817266929624925,
          11.820030880144543,
          11.821443326932883,
          11.821455545778903,
          11.819991326364361,
          11.81693632599613,
          11.812127611334441,
          11.805342831717004,
          11.79628842772132,
          11.784586288444668,
          11.769758311451055,
          11.75120838520435,
          11.728201413411638,
          11.699839155472702,
          11.66503290192696,
          11.6224733871417,
          11.57059892599564,
          11.50756361990732,
          11.431208683194782,
          11.339041543902603,
          11.228229361576755,
          11.095615841633547,
          10.937772373601916,
          10.751095962703834,
          10.53196623371011,
          10.276970791860496,
          9.983201249316274,
          9.64861052811704,
          9.272405960530671,
          8.85543427013626,
          8.400497847851263,
          7.912532673506136,
          7.398582963281097,
          6.867530327667565,
          6.329575336609369,
          5.795519685345227,
          5.275944234576276,
          4.780406369238087,
          4.316777931888459,
          3.8908113107867206,
          3.505966992896466,
          3.1634795803790814,
          2.8625989668670844,
          2.6009292842362295,
          2.374799706288471,
          2.179628496068815,
          2.01027080496742,
          1.8613590351565685,
          1.7276454667144117,
          1.6043421061031562,
          1.48743147602532,
          1.3739065452342805,
          1.261897597761057,
          1.1506606746608532,
          1.0404304057414426,
          0.9321690122649758,
          0.8272628857064142,
          0.7272228952687454,
          0.6334349100848057,
          0.5469881296579412,
          0.4685877939430992,
          0.39854178333903884,
          0.3368007737983135,
          0.28302913502090543,
          0.23668667072740776,
          0.19710689855448468,
          0.16356354643922838,
          0.13532189479185694,
          0.11167499146099447,
          0.09196667893687127,
          0.07560415230275021,
          0.062062818116352524
         ],
         "yaxis": "y"
        },
        {
         "hovertemplate": "variable=sex<br>alphas=%{x}<br>value=%{y}<extra></extra>",
         "legendgroup": "sex",
         "line": {
          "color": "#EF553B",
          "dash": "solid"
         },
         "mode": "lines",
         "name": "sex",
         "showlegend": true,
         "type": "scattergl",
         "x": [
          0.01,
          0.012263306841775632,
          0.015038869469554102,
          0.018442627085855347,
          0.022616759492228647,
          0.02773562614198415,
          0.03401304938279251,
          0.04171124612056518,
          0.051151780992931425,
          0.06272899858196247,
          0.07692649574879142,
          0.09433732216299774,
          0.1156887528316282,
          0.1418726674116596,
          0.1739828052930364,
          0.21336045265014109,
          0.2616504698748821,
          0.320869999737045,
          0.39349272630958493,
          0.48255220427412787,
          0.5917685748188825,
          0.7257039612324212,
          0.8899530352885229,
          1.0913767146512738,
          1.3383887531737564,
          1.6413071953751284,
          2.0127853758499383,
          2.4683404670686486,
          3.0270016537634614,
          3.7121050090663608,
          4.55226827550731,
          5.582586268862695,
          6.846096838574658,
          8.395578619995112,
          10.295755673125127,
          12.626001098748565,
          15.48365256585499,
          18.988078244652634,
          23.285662984981965,
          28.55592301990109,
          35.019004614317126,
          42.944879887892725,
          52.66462393484275,
          64.58424430196978,
          79.20164050192548,
          97.12740198471168,
          119.11031332830079,
          146.06863203649888,
          179.1284454622002,
          219.67070907932353,
          269.388930959017,
          330.35991201283395,
          405.1304969235378,
          496.8239594734388,
          609.2704661368674,
          747.1670675868082,
          916.2739011886731,
          1123.6548001387516,
          1377.9723598335568,
          1689.8497868124587,
          2072.3146452190294,
          2541.343036702639,
          3116.52694492943,
          3821.8926206331225,
          4686.904192314192,
          5747.694424835347,
          7048.574036451903,
          8643.882620598262,
          10600.258488068825,
          12999.42224413245,
          15941.590374559995,
          19549.661430912594,
          23974.349678010785,
          29400.480643347077,
          36054.71154250506,
          44214.99907374487,
          54222.21006501592,
          66494.35996665046,
          81544.07395185171,
          100000
         ],
         "xaxis": "x",
         "y": [
          -3.9803343839405185,
          -3.976266398215988,
          -3.972352904313154,
          -3.9686581247416925,
          -3.9652299254038526,
          -3.962098244038859,
          -3.9592755912939444,
          -3.956759107046152,
          -3.9545335012098253,
          -3.952574246645732,
          -3.9508505435412307,
          -3.949327760383758,
          -3.9479692244051727,
          -3.9467373528881065,
          -3.9455941870250912,
          -3.9445014167089725,
          -3.9434199854797214,
          -3.942309347980461,
          -3.941126430140391,
          -3.9398243177821684,
          -3.9383506771357237,
          -3.9366458911005067,
          -3.934640878949283,
          -3.9322545542970393,
          -3.929390866960498,
          -3.92593536932835,
          -3.9217512482032695,
          -3.9166747705665284,
          -3.9105101087932086,
          -3.9030235405768074,
          -3.8939370648485445,
          -3.8829215412388076,
          -3.869589551094731,
          -3.8534882959290178,
          -3.8340929949907263,
          -3.8108014119797007,
          -3.782930315209892,
          -3.7497148227874524,
          -3.7103116541669876,
          -3.6638072430183155,
          -3.6092314212837096,
          -3.545576972253456,
          -3.471824872574008,
          -3.386974696986755,
          -3.290079694023756,
          -3.1802866551316913,
          -3.0568819145853214,
          -2.919346361353311,
          -2.767423591458324,
          -2.6012053222234788,
          -2.421235781461163,
          -2.228630979508315,
          -2.0251993263690724,
          -1.8135382832993838,
          -1.597071175741843,
          -1.3799845492180303,
          -1.1670354679635138,
          -0.9632228577200577,
          -0.7733536937793533,
          -0.601572180721988,
          -0.4509426829205026,
          -0.3231731639077519,
          -0.21853398214737554,
          -0.13597804757672485,
          -0.073420577595071,
          -0.028106177497119342,
          0.003014971245942271,
          0.022964508702593586,
          0.034502519568460475,
          0.039991482744258254,
          0.04134530833573685,
          0.04004080899537096,
          0.03716720027700376,
          0.03349295549978844,
          0.029535313700254705,
          0.025623651462302513,
          0.021952608716267415,
          0.01862400239652282,
          0.015678356971384897,
          0.013117694868564478
         ],
         "yaxis": "y"
        },
        {
         "hovertemplate": "variable=bmi<br>alphas=%{x}<br>value=%{y}<extra></extra>",
         "legendgroup": "bmi",
         "line": {
          "color": "#00cc96",
          "dash": "solid"
         },
         "mode": "lines",
         "name": "bmi",
         "showlegend": true,
         "type": "scattergl",
         "x": [
          0.01,
          0.012263306841775632,
          0.015038869469554102,
          0.018442627085855347,
          0.022616759492228647,
          0.02773562614198415,
          0.03401304938279251,
          0.04171124612056518,
          0.051151780992931425,
          0.06272899858196247,
          0.07692649574879142,
          0.09433732216299774,
          0.1156887528316282,
          0.1418726674116596,
          0.1739828052930364,
          0.21336045265014109,
          0.2616504698748821,
          0.320869999737045,
          0.39349272630958493,
          0.48255220427412787,
          0.5917685748188825,
          0.7257039612324212,
          0.8899530352885229,
          1.0913767146512738,
          1.3383887531737564,
          1.6413071953751284,
          2.0127853758499383,
          2.4683404670686486,
          3.0270016537634614,
          3.7121050090663608,
          4.55226827550731,
          5.582586268862695,
          6.846096838574658,
          8.395578619995112,
          10.295755673125127,
          12.626001098748565,
          15.48365256585499,
          18.988078244652634,
          23.285662984981965,
          28.55592301990109,
          35.019004614317126,
          42.944879887892725,
          52.66462393484275,
          64.58424430196978,
          79.20164050192548,
          97.12740198471168,
          119.11031332830079,
          146.06863203649888,
          179.1284454622002,
          219.67070907932353,
          269.388930959017,
          330.35991201283395,
          405.1304969235378,
          496.8239594734388,
          609.2704661368674,
          747.1670675868082,
          916.2739011886731,
          1123.6548001387516,
          1377.9723598335568,
          1689.8497868124587,
          2072.3146452190294,
          2541.343036702639,
          3116.52694492943,
          3821.8926206331225,
          4686.904192314192,
          5747.694424835347,
          7048.574036451903,
          8643.882620598262,
          10600.258488068825,
          12999.42224413245,
          15941.590374559995,
          19549.661430912594,
          23974.349678010785,
          29400.480643347077,
          36054.71154250506,
          44214.99907374487,
          54222.21006501592,
          66494.35996665046,
          81544.07395185171,
          100000
         ],
         "xaxis": "x",
         "y": [
          21.25970827438217,
          21.234443601324397,
          21.210147518916244,
          21.187221184546882,
          21.165964432446973,
          21.146566075059663,
          21.129107131366037,
          21.113573742124725,
          21.09987561275469,
          21.087866057494363,
          21.077360657821956,
          21.068152710439076,
          21.060024676878246,
          21.052755590961826,
          21.046124809132976,
          21.039912659339475,
          21.033898539083697,
          21.027856907492637,
          21.021551464462643,
          21.014727645743132,
          21.007103403692213,
          20.998358096863402,
          20.988119180754605,
          20.975946280528827,
          20.961312141859313,
          20.943579912482885,
          20.921976226786843,
          20.89555967826766,
          20.863184503394596,
          20.823459697311094,
          20.774704363321963,
          20.714900886886134,
          20.641648551450373,
          20.55212153249487,
          20.443036896235853,
          20.310640346435108,
          20.15071992787649,
          19.95866033786039,
          19.729552118600196,
          19.458369540194315,
          19.140226839878256,
          18.77071309267097,
          18.346290491473496,
          17.864720081460696,
          17.325456761289754,
          16.729938756842422,
          16.08169512454326,
          15.386216113550566,
          14.650576798164984,
          13.882865023892247,
          13.091521136918697,
          12.284726945688192,
          11.469970304689397,
          10.653860762337432,
          9.842198083567446,
          9.04022478427832,
          8.25294925387719,
          7.485419654607795,
          6.742858391093745,
          6.030618609488226,
          5.353978705942001,
          4.717831444423436,
          4.126342393819244,
          3.582648729975931,
          3.088650946767652,
          2.6449250896028733,
          2.250758427657892,
          1.904291232557515,
          1.6027339170353385,
          1.3426231998415814,
          1.1200827307467969,
          0.9310608226436821,
          0.7715278280865981,
          0.637625561834796,
          0.5257691225129091,
          0.4327066973219793,
          0.35554553098684055,
          0.2917528000057644,
          0.23913939692218986,
          0.1958332497611311
         ],
         "yaxis": "y"
        },
        {
         "hovertemplate": "variable=bp<br>alphas=%{x}<br>value=%{y}<extra></extra>",
         "legendgroup": "bp",
         "line": {
          "color": "#ab63fa",
          "dash": "solid"
         },
         "mode": "lines",
         "name": "bp",
         "showlegend": true,
         "type": "scattergl",
         "x": [
          0.01,
          0.012263306841775632,
          0.015038869469554102,
          0.018442627085855347,
          0.022616759492228647,
          0.02773562614198415,
          0.03401304938279251,
          0.04171124612056518,
          0.051151780992931425,
          0.06272899858196247,
          0.07692649574879142,
          0.09433732216299774,
          0.1156887528316282,
          0.1418726674116596,
          0.1739828052930364,
          0.21336045265014109,
          0.2616504698748821,
          0.320869999737045,
          0.39349272630958493,
          0.48255220427412787,
          0.5917685748188825,
          0.7257039612324212,
          0.8899530352885229,
          1.0913767146512738,
          1.3383887531737564,
          1.6413071953751284,
          2.0127853758499383,
          2.4683404670686486,
          3.0270016537634614,
          3.7121050090663608,
          4.55226827550731,
          5.582586268862695,
          6.846096838574658,
          8.395578619995112,
          10.295755673125127,
          12.626001098748565,
          15.48365256585499,
          18.988078244652634,
          23.285662984981965,
          28.55592301990109,
          35.019004614317126,
          42.944879887892725,
          52.66462393484275,
          64.58424430196978,
          79.20164050192548,
          97.12740198471168,
          119.11031332830079,
          146.06863203649888,
          179.1284454622002,
          219.67070907932353,
          269.388930959017,
          330.35991201283395,
          405.1304969235378,
          496.8239594734388,
          609.2704661368674,
          747.1670675868082,
          916.2739011886731,
          1123.6548001387516,
          1377.9723598335568,
          1689.8497868124587,
          2072.3146452190294,
          2541.343036702639,
          3116.52694492943,
          3821.8926206331225,
          4686.904192314192,
          5747.694424835347,
          7048.574036451903,
          8643.882620598262,
          10600.258488068825,
          12999.42224413245,
          15941.590374559995,
          19549.661430912594,
          23974.349678010785,
          29400.480643347077,
          36054.71154250506,
          44214.99907374487,
          54222.21006501592,
          66494.35996665046,
          81544.07395185171,
          100000
         ],
         "xaxis": "x",
         "y": [
          12.782416139060388,
          12.779331756720872,
          12.776340173335152,
          12.773483913378247,
          12.770792404322364,
          12.768280578293218,
          12.765948946145265,
          12.763784748104928,
          12.761763673633531,
          12.75985166734371,
          12.758006444840207,
          12.756178474937203,
          12.754311301457857,
          12.752341158842983,
          12.750195878219358,
          12.747793091031665,
          12.745037725435706,
          12.74181876520273,
          12.738005208408747,
          12.733441127911458,
          12.727939700199496,
          12.721276035643209,
          12.713178613854314,
          12.703319106596862,
          12.69130036408104,
          12.676642359621074,
          12.658765950557092,
          12.636974448067702,
          12.6104332366753,
          12.578148103988331,
          12.53894360610445,
          12.491443781980221,
          12.434058891212747,
          12.364983541176697,
          12.282213348336397,
          12.1835885701662,
          12.066872953904655,
          11.929873054122403,
          11.770596267580135,
          11.587434605419576,
          11.379347610276389,
          11.146006306567134,
          10.887856925617202,
          10.606073739561587,
          10.302395375927633,
          9.978872059312259,
          9.637580122820182,
          9.28037232888978,
          8.908722090326082,
          8.523690949857336,
          8.126014091352086,
          7.716271804874278,
          7.295103439669354,
          6.863423571725127,
          6.422610921455872,
          5.974651181554472,
          5.522221014905612,
          5.068702452820394,
          4.618118374127148,
          4.174984655611973,
          3.7440847176665306,
          3.3301859563036227,
          2.93773077489756,
          2.5705429026510016,
          2.2315892736727583,
          1.9228285050940694,
          1.645161244600813,
          1.3984795519255269,
          1.1817967382033616,
          0.9934293258083747,
          0.8312003840692793,
          0.6926374365155618,
          0.5751458836185018,
          0.47614761713711823,
          0.3931820826595088,
          0.3239724070073794,
          0.26646221220142224,
          0.21882981801225537,
          0.17948632214094926,
          0.14706313154567496
         ],
         "yaxis": "y"
        },
        {
         "hovertemplate": "variable=s1<br>alphas=%{x}<br>value=%{y}<extra></extra>",
         "legendgroup": "s1",
         "line": {
          "color": "#FFA15A",
          "dash": "solid"
         },
         "mode": "lines",
         "name": "s1",
         "showlegend": true,
         "type": "scattergl",
         "x": [
          0.01,
          0.012263306841775632,
          0.015038869469554102,
          0.018442627085855347,
          0.022616759492228647,
          0.02773562614198415,
          0.03401304938279251,
          0.04171124612056518,
          0.051151780992931425,
          0.06272899858196247,
          0.07692649574879142,
          0.09433732216299774,
          0.1156887528316282,
          0.1418726674116596,
          0.1739828052930364,
          0.21336045265014109,
          0.2616504698748821,
          0.320869999737045,
          0.39349272630958493,
          0.48255220427412787,
          0.5917685748188825,
          0.7257039612324212,
          0.8899530352885229,
          1.0913767146512738,
          1.3383887531737564,
          1.6413071953751284,
          2.0127853758499383,
          2.4683404670686486,
          3.0270016537634614,
          3.7121050090663608,
          4.55226827550731,
          5.582586268862695,
          6.846096838574658,
          8.395578619995112,
          10.295755673125127,
          12.626001098748565,
          15.48365256585499,
          18.988078244652634,
          23.285662984981965,
          28.55592301990109,
          35.019004614317126,
          42.944879887892725,
          52.66462393484275,
          64.58424430196978,
          79.20164050192548,
          97.12740198471168,
          119.11031332830079,
          146.06863203649888,
          179.1284454622002,
          219.67070907932353,
          269.388930959017,
          330.35991201283395,
          405.1304969235378,
          496.8239594734388,
          609.2704661368674,
          747.1670675868082,
          916.2739011886731,
          1123.6548001387516,
          1377.9723598335568,
          1689.8497868124587,
          2072.3146452190294,
          2541.343036702639,
          3116.52694492943,
          3821.8926206331225,
          4686.904192314192,
          5747.694424835347,
          7048.574036451903,
          8643.882620598262,
          10600.258488068825,
          12999.42224413245,
          15941.590374559995,
          19549.661430912594,
          23974.349678010785,
          29400.480643347077,
          36054.71154250506,
          44214.99907374487,
          54222.21006501592,
          66494.35996665046,
          81544.07395185171,
          100000
         ],
         "xaxis": "x",
         "y": [
          224.40431788443206,
          199.24484202438245,
          175.08298793210298,
          152.32663057115445,
          131.2836949846191,
          112.152780071177,
          95.02679470812615,
          79.90638101429546,
          66.71898367468435,
          55.339662407576164,
          45.61069104975107,
          37.358157843932524,
          30.40482893831874,
          24.579294199327634,
          19.721859047034602,
          15.687836204626034,
          12.34891042442035,
          9.593173560383487,
          7.324312602039144,
          5.460314099776869,
          3.9319427228498665,
          2.6811663379713138,
          1.659635441747804,
          0.8272784245361525,
          0.15104233357547425,
          -0.39621208477730235,
          -0.836665360342324,
          -1.188356294713771,
          -1.4658770911878982,
          -1.6809644282833176,
          -1.843004241397384,
          -1.959466488008221,
          -2.0362833264799867,
          -2.0781800561142476,
          -2.088963269937442,
          -2.071765899053254,
          -2.0292456239990244,
          -1.9637330893531015,
          -1.877330490795737,
          -1.7719689245626757,
          -1.6494418349809277,
          -1.5114376958210891,
          -1.3595934256685025,
          -1.195579198578803,
          -1.0212079824398377,
          -0.8385462363031307,
          -0.6499937972746819,
          -0.458305897921443,
          -0.266546945375471,
          -0.07798672070912929,
          0.10403443845948962,
          0.27624064644843405,
          0.43553284422872307,
          0.5790712432817099,
          0.7043365248390067,
          0.8091887036364439,
          0.8919434393755536,
          0.9514765605906976,
          0.9873510943330451,
          0.9999424056986802,
          0.9905233044595974,
          0.9612690532453769,
          0.9151554881792934,
          0.8557491904180163,
          0.7869180313798048,
          0.7125122188905232,
          0.6360720049389679,
          0.5606073376921977,
          0.4884728275238461,
          0.4213375965838272,
          0.3602316238908138,
          0.3056415885438869,
          0.25762923281571587,
          0.2159507902437796,
          0.18016358020246181,
          0.14971292247244838,
          0.12399781038811801,
          0.10241705363796047,
          0.08439918762075982,
          0.06941986562483261
         ],
         "yaxis": "y"
        },
        {
         "hovertemplate": "variable=s2<br>alphas=%{x}<br>value=%{y}<extra></extra>",
         "legendgroup": "s2",
         "line": {
          "color": "#19d3f3",
          "dash": "solid"
         },
         "mode": "lines",
         "name": "s2",
         "showlegend": true,
         "type": "scattergl",
         "x": [
          0.01,
          0.012263306841775632,
          0.015038869469554102,
          0.018442627085855347,
          0.022616759492228647,
          0.02773562614198415,
          0.03401304938279251,
          0.04171124612056518,
          0.051151780992931425,
          0.06272899858196247,
          0.07692649574879142,
          0.09433732216299774,
          0.1156887528316282,
          0.1418726674116596,
          0.1739828052930364,
          0.21336045265014109,
          0.2616504698748821,
          0.320869999737045,
          0.39349272630958493,
          0.48255220427412787,
          0.5917685748188825,
          0.7257039612324212,
          0.8899530352885229,
          1.0913767146512738,
          1.3383887531737564,
          1.6413071953751284,
          2.0127853758499383,
          2.4683404670686486,
          3.0270016537634614,
          3.7121050090663608,
          4.55226827550731,
          5.582586268862695,
          6.846096838574658,
          8.395578619995112,
          10.295755673125127,
          12.626001098748565,
          15.48365256585499,
          18.988078244652634,
          23.285662984981965,
          28.55592301990109,
          35.019004614317126,
          42.944879887892725,
          52.66462393484275,
          64.58424430196978,
          79.20164050192548,
          97.12740198471168,
          119.11031332830079,
          146.06863203649888,
          179.1284454622002,
          219.67070907932353,
          269.388930959017,
          330.35991201283395,
          405.1304969235378,
          496.8239594734388,
          609.2704661368674,
          747.1670675868082,
          916.2739011886731,
          1123.6548001387516,
          1377.9723598335568,
          1689.8497868124587,
          2072.3146452190294,
          2541.343036702639,
          3116.52694492943,
          3821.8926206331225,
          4686.904192314192,
          5747.694424835347,
          7048.574036451903,
          8643.882620598262,
          10600.258488068825,
          12999.42224413245,
          15941.590374559995,
          19549.661430912594,
          23974.349678010785,
          29400.480643347077,
          36054.71154250506,
          44214.99907374487,
          54222.21006501592,
          66494.35996665046,
          81544.07395185171,
          100000
         ],
         "xaxis": "x",
         "y": [
          -206.9225866857987,
          -184.84120712470136,
          -163.6353281181812,
          -143.66290636192045,
          -125.19417486131485,
          -108.40341323686765,
          -93.37213811024621,
          -80.10088294313097,
          -68.5259328812304,
          -58.53758916404984,
          -49.99736824708844,
          -42.752568584758436,
          -36.64755726971452,
          -31.531793155151398,
          -27.264993261134546,
          -23.720016135812976,
          -20.784052615835815,
          -18.358647936733743,
          -16.358978358258316,
          -14.712700790725936,
          -13.358601078613926,
          -12.245191638407022,
          -11.329352499421736,
          -10.57506923173272,
          -9.952293637559835,
          -9.435935353511816,
          -9.004982042467075,
          -8.641740585060353,
          -8.331190040869389,
          -8.060437911838385,
          -7.818273371649671,
          -7.594813686930889,
          -7.381242208499053,
          -7.169637398862472,
          -6.952892000963414,
          -6.7247194625187365,
          -6.479740877955301,
          -6.213639471705287,
          -5.923360414396744,
          -5.607321784419674,
          -5.265590181462101,
          -4.899967046212477,
          -4.513935724699062,
          -4.112439271575813,
          -3.7014935263228144,
          -3.28768032680062,
          -2.8775984279790148,
          -2.47736277947784,
          -2.0922314686553865,
          -1.7264081572087213,
          -1.3830270099685322,
          -1.0642891184663572,
          -0.7716932948633032,
          -0.5062935746069585,
          -0.26891970592324976,
          -0.06031160847760811,
          0.1188596187493912,
          0.26808596577606153,
          0.38720695602232436,
          0.4766350307598785,
          0.537557552313657,
          0.5720516723076657,
          0.5830676075185407,
          0.574270011016844,
          0.5497652690731626,
          0.5137712428104826,
          0.47029563373081507,
          0.42287856907110877,
          0.37443102878843704,
          0.32717387652735547,
          0.2826613761177166,
          0.24186230459309774,
          0.20527053806973763,
          0.17302201112907317,
          0.1450025030526495,
          0.1209380069864032,
          0.10046505739053353,
          0.08318198373018923,
          0.06868390738379782,
          0.05658491479768773
         ],
         "yaxis": "y"
        },
        {
         "hovertemplate": "variable=s3<br>alphas=%{x}<br>value=%{y}<extra></extra>",
         "legendgroup": "s3",
         "line": {
          "color": "#FF6692",
          "dash": "solid"
         },
         "mode": "lines",
         "name": "s3",
         "showlegend": true,
         "type": "scattergl",
         "x": [
          0.01,
          0.012263306841775632,
          0.015038869469554102,
          0.018442627085855347,
          0.022616759492228647,
          0.02773562614198415,
          0.03401304938279251,
          0.04171124612056518,
          0.051151780992931425,
          0.06272899858196247,
          0.07692649574879142,
          0.09433732216299774,
          0.1156887528316282,
          0.1418726674116596,
          0.1739828052930364,
          0.21336045265014109,
          0.2616504698748821,
          0.320869999737045,
          0.39349272630958493,
          0.48255220427412787,
          0.5917685748188825,
          0.7257039612324212,
          0.8899530352885229,
          1.0913767146512738,
          1.3383887531737564,
          1.6413071953751284,
          2.0127853758499383,
          2.4683404670686486,
          3.0270016537634614,
          3.7121050090663608,
          4.55226827550731,
          5.582586268862695,
          6.846096838574658,
          8.395578619995112,
          10.295755673125127,
          12.626001098748565,
          15.48365256585499,
          18.988078244652634,
          23.285662984981965,
          28.55592301990109,
          35.019004614317126,
          42.944879887892725,
          52.66462393484275,
          64.58424430196978,
          79.20164050192548,
          97.12740198471168,
          119.11031332830079,
          146.06863203649888,
          179.1284454622002,
          219.67070907932353,
          269.388930959017,
          330.35991201283395,
          405.1304969235378,
          496.8239594734388,
          609.2704661368674,
          747.1670675868082,
          916.2739011886731,
          1123.6548001387516,
          1377.9723598335568,
          1689.8497868124587,
          2072.3146452190294,
          2541.343036702639,
          3116.52694492943,
          3821.8926206331225,
          4686.904192314192,
          5747.694424835347,
          7048.574036451903,
          8643.882620598262,
          10600.258488068825,
          12999.42224413245,
          15941.590374559995,
          19549.661430912594,
          23974.349678010785,
          29400.480643347077,
          36054.71154250506,
          44214.99907374487,
          54222.21006501592,
          66494.35996665046,
          81544.07395185171,
          100000
         ],
         "xaxis": "x",
         "y": [
          -98.42574222361807,
          -89.00869069101125,
          -79.9649336881165,
          -71.44710879073439,
          -63.57043979247966,
          -56.40922634038988,
          -49.99820357784047,
          -44.33756462393168,
          -39.40009591986658,
          -35.13896460150707,
          -31.495051262705612,
          -28.403159785039,
          -25.796827930212476,
          -23.611745749297814,
          -21.787955271101538,
          -20.271076123327898,
          -19.01280894083454,
          -17.97094013219924,
          -17.109028702838835,
          -16.395911341898817,
          -15.805122589429239,
          -15.314295175117714,
          -14.904581730023983,
          -14.560122025767694,
          -14.267568280256265,
          -14.01567345474785,
          -13.794942588060596,
          -13.597344045877906,
          -13.41607536195432,
          -13.245376674644836,
          -13.080383481242768,
          -12.917009634390327,
          -12.751851316321574,
          -12.582103069000228,
          -12.405477449866684,
          -12.220120139634165,
          -12.024512674815412,
          -11.8173570607673,
          -11.597442916988328,
          -11.363510074819946,
          -11.11413552675273,
          -10.847686175483775,
          -10.562378165816838,
          -10.256463058082176,
          -9.928523122089354,
          -9.577815537162587,
          -9.204576658796261,
          -8.81019731081193,
          -8.397211132098057,
          -7.969089759363602,
          -7.529892203236262,
          -7.083852762676945,
          -6.635001660578753,
          -6.186895363666554,
          -5.742497988382792,
          -5.304213908798862,
          -4.874036412992533,
          -4.453755687582012,
          -4.045164061902054,
          -3.650205357960881,
          -3.271033814203463,
          -2.909971237746331,
          -2.569374197439844,
          -2.2514422011894206,
          -1.9580093132238925,
          -1.6903629637276143,
          -1.4491245206951626,
          -1.2342094749600716,
          -1.0448662319088298,
          -0.879777134762801,
          -0.7371970180433852,
          -0.6151037892699428,
          -0.5113402864519386,
          -0.42373399603052647,
          -0.3501885369003643,
          -0.2887465508944566,
          -0.23762727007704226,
          -0.1952437530996496,
          -0.1602051168511995,
          -0.13130859329472908
         ],
         "yaxis": "y"
        },
        {
         "hovertemplate": "variable=s4<br>alphas=%{x}<br>value=%{y}<extra></extra>",
         "legendgroup": "s4",
         "line": {
          "color": "#B6E880",
          "dash": "solid"
         },
         "mode": "lines",
         "name": "s4",
         "showlegend": true,
         "type": "scattergl",
         "x": [
          0.01,
          0.012263306841775632,
          0.015038869469554102,
          0.018442627085855347,
          0.022616759492228647,
          0.02773562614198415,
          0.03401304938279251,
          0.04171124612056518,
          0.051151780992931425,
          0.06272899858196247,
          0.07692649574879142,
          0.09433732216299774,
          0.1156887528316282,
          0.1418726674116596,
          0.1739828052930364,
          0.21336045265014109,
          0.2616504698748821,
          0.320869999737045,
          0.39349272630958493,
          0.48255220427412787,
          0.5917685748188825,
          0.7257039612324212,
          0.8899530352885229,
          1.0913767146512738,
          1.3383887531737564,
          1.6413071953751284,
          2.0127853758499383,
          2.4683404670686486,
          3.0270016537634614,
          3.7121050090663608,
          4.55226827550731,
          5.582586268862695,
          6.846096838574658,
          8.395578619995112,
          10.295755673125127,
          12.626001098748565,
          15.48365256585499,
          18.988078244652634,
          23.285662984981965,
          28.55592301990109,
          35.019004614317126,
          42.944879887892725,
          52.66462393484275,
          64.58424430196978,
          79.20164050192548,
          97.12740198471168,
          119.11031332830079,
          146.06863203649888,
          179.1284454622002,
          219.67070907932353,
          269.388930959017,
          330.35991201283395,
          405.1304969235378,
          496.8239594734388,
          609.2704661368674,
          747.1670675868082,
          916.2739011886731,
          1123.6548001387516,
          1377.9723598335568,
          1689.8497868124587,
          2072.3146452190294,
          2541.343036702639,
          3116.52694492943,
          3821.8926206331225,
          4686.904192314192,
          5747.694424835347,
          7048.574036451903,
          8643.882620598262,
          10600.258488068825,
          12999.42224413245,
          15941.590374559995,
          19549.661430912594,
          23974.349678010785,
          29400.480643347077,
          36054.71154250506,
          44214.99907374487,
          54222.21006501592,
          66494.35996665046,
          81544.07395185171,
          100000
         ],
         "xaxis": "x",
         "y": [
          6.470072852301139,
          6.5253647245041,
          6.578511874497709,
          6.628629952739576,
          6.675055569806659,
          6.717367271902012,
          6.755378101601951,
          6.789106823839231,
          6.818736904377183,
          6.844571806497333,
          6.866993097124326,
          6.8864252842542335,
          6.903309004923861,
          6.918082509975876,
          6.931170393953647,
          6.942978064462747,
          6.953890347489403,
          6.964272710866391,
          6.974473729426411,
          6.984827532696244,
          6.995655031654445,
          7.007262712805581,
          7.0199377465503945,
          7.033938149138417,
          7.049476869099112,
          7.066699080680168,
          7.085652809284138,
          7.106254386744823,
          7.128252081079562,
          7.151193226614996,
          7.174401595636025,
          7.196971632994333,
          7.217783657127893,
          7.235539084958072,
          7.248808357421641,
          7.256079085515095,
          7.255791031970856,
          7.246349742417647,
          7.226121115030264,
          7.193421179246141,
          7.146523533517863,
          7.083706841080338,
          7.003355084369655,
          6.904106307457764,
          6.785026671041524,
          6.645772169228774,
          6.4866954911187165,
          6.308862588810357,
          6.113961391792797,
          5.904109553252044,
          5.681592942531656,
          5.44858526054015,
          5.20690652002326,
          4.957872027818129,
          4.702265391578392,
          4.440443456327371,
          4.172553905570884,
          3.8988230989834767,
          3.6198565626952846,
          3.33688972331487,
          3.051933171488365,
          2.767775152729,
          2.48783233746905,
          2.2158730092294054,
          1.955665948100786,
          1.710624093067723,
          1.4835090251920988,
          1.2762420423513354,
          1.0898382279969703,
          0.924451908604608,
          0.779503159042112,
          0.6538482953615156,
          0.5459606317217515,
          0.45409684434213804,
          0.3764347801710878,
          0.31117756945548497,
          0.256625192780937,
          0.21121818027032108,
          0.1735594801738722,
          0.14242048586910933
         ],
         "yaxis": "y"
        },
        {
         "hovertemplate": "variable=s5<br>alphas=%{x}<br>value=%{y}<extra></extra>",
         "legendgroup": "s5",
         "line": {
          "color": "#FF97FF",
          "dash": "solid"
         },
         "mode": "lines",
         "name": "s5",
         "showlegend": true,
         "type": "scattergl",
         "x": [
          0.01,
          0.012263306841775632,
          0.015038869469554102,
          0.018442627085855347,
          0.022616759492228647,
          0.02773562614198415,
          0.03401304938279251,
          0.04171124612056518,
          0.051151780992931425,
          0.06272899858196247,
          0.07692649574879142,
          0.09433732216299774,
          0.1156887528316282,
          0.1418726674116596,
          0.1739828052930364,
          0.21336045265014109,
          0.2616504698748821,
          0.320869999737045,
          0.39349272630958493,
          0.48255220427412787,
          0.5917685748188825,
          0.7257039612324212,
          0.8899530352885229,
          1.0913767146512738,
          1.3383887531737564,
          1.6413071953751284,
          2.0127853758499383,
          2.4683404670686486,
          3.0270016537634614,
          3.7121050090663608,
          4.55226827550731,
          5.582586268862695,
          6.846096838574658,
          8.395578619995112,
          10.295755673125127,
          12.626001098748565,
          15.48365256585499,
          18.988078244652634,
          23.285662984981965,
          28.55592301990109,
          35.019004614317126,
          42.944879887892725,
          52.66462393484275,
          64.58424430196978,
          79.20164050192548,
          97.12740198471168,
          119.11031332830079,
          146.06863203649888,
          179.1284454622002,
          219.67070907932353,
          269.388930959017,
          330.35991201283395,
          405.1304969235378,
          496.8239594734388,
          609.2704661368674,
          747.1670675868082,
          916.2739011886731,
          1123.6548001387516,
          1377.9723598335568,
          1689.8497868124587,
          2072.3146452190294,
          2541.343036702639,
          3116.52694492943,
          3821.8926206331225,
          4686.904192314192,
          5747.694424835347,
          7048.574036451903,
          8643.882620598262,
          10600.258488068825,
          12999.42224413245,
          15941.590374559995,
          19549.661430912594,
          23974.349678010785,
          29400.480643347077,
          36054.71154250506,
          44214.99907374487,
          54222.21006501592,
          66494.35996665046,
          81544.07395185171,
          100000
         ],
         "xaxis": "x",
         "y": [
          -38.10769940407457,
          -30.37332355624398,
          -22.945774128532605,
          -15.950473973255944,
          -9.482124034376247,
          -3.6018221726747215,
          1.6618172350696696,
          6.308534395228938,
          10.36055892288692,
          13.856208184623542,
          16.843857971306083,
          19.376834246112573,
          21.509452664577676,
          23.294199767923253,
          24.779913016728713,
          26.010758309739018,
          27.025797676752017,
          27.858963034748186,
          28.53928709805693,
          29.091279091202562,
          29.535365320406605,
          29.888340822241013,
          30.16379809791215,
          30.372513183993934,
          30.52277917184117,
          30.620683955689756,
          30.670333538796765,
          30.674025594423316,
          30.63238098184503,
          30.54444427713379,
          30.40776869269206,
          30.218506386782497,
          29.971531967990348,
          29.660633956594758,
          29.27881373716157,
          28.81873026284623,
          28.273316497773713,
          27.636565792516365,
          26.90444181243819,
          26.075809770373134,
          25.1532342064672,
          24.14346174551211,
          23.057428609668776,
          21.909712220413635,
          20.717470257836318,
          19.49904042438135,
          18.272460634009338,
          17.054176986798563,
          15.858133981887208,
          14.695321506822616,
          13.573736513027983,
          12.49864463359038,
          11.473011590325967,
          10.49800156450909,
          9.573481473807982,
          8.698501789700218,
          7.871736238716665,
          7.091859277838924,
          6.357833599647853,
          5.669080419522236,
          5.0255166376808,
          4.427462474873427,
          3.875444945476526,
          3.3699404835445423,
          2.9111094860778377,
          2.498573830761773,
          2.1312756751685447,
          1.8074354549581655,
          1.524604908322714,
          1.2797933663894092,
          1.0696364010118795,
          0.8905756722774212,
          0.7390250745123284,
          0.6115074840148561,
          0.5047554397384698,
          0.4157760668344563,
          0.34188488793745164,
          0.28071513340909615,
          0.23020942333070807,
          0.1885999521990509
         ],
         "yaxis": "y"
        },
        {
         "hovertemplate": "variable=s6<br>alphas=%{x}<br>value=%{y}<extra></extra>",
         "legendgroup": "s6",
         "line": {
          "color": "#FECB52",
          "dash": "solid"
         },
         "mode": "lines",
         "name": "s6",
         "showlegend": true,
         "type": "scattergl",
         "x": [
          0.01,
          0.012263306841775632,
          0.015038869469554102,
          0.018442627085855347,
          0.022616759492228647,
          0.02773562614198415,
          0.03401304938279251,
          0.04171124612056518,
          0.051151780992931425,
          0.06272899858196247,
          0.07692649574879142,
          0.09433732216299774,
          0.1156887528316282,
          0.1418726674116596,
          0.1739828052930364,
          0.21336045265014109,
          0.2616504698748821,
          0.320869999737045,
          0.39349272630958493,
          0.48255220427412787,
          0.5917685748188825,
          0.7257039612324212,
          0.8899530352885229,
          1.0913767146512738,
          1.3383887531737564,
          1.6413071953751284,
          2.0127853758499383,
          2.4683404670686486,
          3.0270016537634614,
          3.7121050090663608,
          4.55226827550731,
          5.582586268862695,
          6.846096838574658,
          8.395578619995112,
          10.295755673125127,
          12.626001098748565,
          15.48365256585499,
          18.988078244652634,
          23.285662984981965,
          28.55592301990109,
          35.019004614317126,
          42.944879887892725,
          52.66462393484275,
          64.58424430196978,
          79.20164050192548,
          97.12740198471168,
          119.11031332830079,
          146.06863203649888,
          179.1284454622002,
          219.67070907932353,
          269.388930959017,
          330.35991201283395,
          405.1304969235378,
          496.8239594734388,
          609.2704661368674,
          747.1670675868082,
          916.2739011886731,
          1123.6548001387516,
          1377.9723598335568,
          1689.8497868124587,
          2072.3146452190294,
          2541.343036702639,
          3116.52694492943,
          3821.8926206331225,
          4686.904192314192,
          5747.694424835347,
          7048.574036451903,
          8643.882620598262,
          10600.258488068825,
          12999.42224413245,
          15941.590374559995,
          19549.661430912594,
          23974.349678010785,
          29400.480643347077,
          36054.71154250506,
          44214.99907374487,
          54222.21006501592,
          66494.35996665046,
          81544.07395185171,
          100000
         ],
         "xaxis": "x",
         "y": [
          3.782131086682536,
          3.7866437945411424,
          3.7909757268789814,
          3.795053260576878,
          3.7988206481145186,
          3.8022416842247404,
          3.805299031151639,
          3.8079917810771304,
          3.810331998652525,
          3.8123409436181914,
          3.8140455032965064,
          3.8154751541605454,
          3.8166595833203125,
          3.8176269645627547,
          3.818402803552678,
          3.8190092325266365,
          3.8194646313564315,
          3.819783465561294,
          3.8199762527016263,
          3.820049590325163,
          3.8200061978854345,
          3.8198449402341734,
          3.8195608106576864,
          3.819144856348087,
          3.818584027765994,
          3.81786092437803,
          3.816953391945983,
          3.8158339021612373,
          3.81446862025758,
          3.8128160559884927,
          3.8108252279877934,
          3.808433398566538,
          3.805563718578848,
          3.8021236268140175,
          3.7980056169875764,
          3.7930929799709747,
          3.7872741425953484,
          3.7804697593890837,
          3.7726758791038857,
          3.764023086440032,
          3.7548444409978154,
          3.7457344214244093,
          3.7375695847282073,
          3.731455068609783,
          3.728566807100788,
          3.7298821869252743,
          3.7358289857127476,
          3.745921482742234,
          3.7584762790175916,
          3.770495442751391,
          3.7777701190277164,
          3.775205951088044,
          3.757321421182979,
          3.7188373600677505,
          3.6552665418067294,
          3.563422596034852,
          3.4417884207094565,
          3.2907077887112,
          3.1123860638657215,
          2.91070657311898,
          2.6908886734236845,
          2.4590310035191036,
          2.2215964287737187,
          1.9849010284184863,
          1.7546662453104012,
          1.5356807697155235,
          1.3315987605594557,
          1.1448776984440923,
          0.9768378306030875,
          0.8278105185952745,
          0.6973371654300478,
          0.5843831265681095,
          0.4875392686418518,
          0.40519414775554224,
          0.3356693111310907,
          0.27731741026392087,
          0.22858725800748333,
          0.18806203598424645,
          0.15447724884988395,
          0.12672441835160306
         ],
         "yaxis": "y"
        },
        {
         "hovertemplate": "variable=age^2<br>alphas=%{x}<br>value=%{y}<extra></extra>",
         "legendgroup": "age^2",
         "line": {
          "color": "#636efa",
          "dash": "solid"
         },
         "mode": "lines",
         "name": "age^2",
         "showlegend": true,
         "type": "scattergl",
         "x": [
          0.01,
          0.012263306841775632,
          0.015038869469554102,
          0.018442627085855347,
          0.022616759492228647,
          0.02773562614198415,
          0.03401304938279251,
          0.04171124612056518,
          0.051151780992931425,
          0.06272899858196247,
          0.07692649574879142,
          0.09433732216299774,
          0.1156887528316282,
          0.1418726674116596,
          0.1739828052930364,
          0.21336045265014109,
          0.2616504698748821,
          0.320869999737045,
          0.39349272630958493,
          0.48255220427412787,
          0.5917685748188825,
          0.7257039612324212,
          0.8899530352885229,
          1.0913767146512738,
          1.3383887531737564,
          1.6413071953751284,
          2.0127853758499383,
          2.4683404670686486,
          3.0270016537634614,
          3.7121050090663608,
          4.55226827550731,
          5.582586268862695,
          6.846096838574658,
          8.395578619995112,
          10.295755673125127,
          12.626001098748565,
          15.48365256585499,
          18.988078244652634,
          23.285662984981965,
          28.55592301990109,
          35.019004614317126,
          42.944879887892725,
          52.66462393484275,
          64.58424430196978,
          79.20164050192548,
          97.12740198471168,
          119.11031332830079,
          146.06863203649888,
          179.1284454622002,
          219.67070907932353,
          269.388930959017,
          330.35991201283395,
          405.1304969235378,
          496.8239594734388,
          609.2704661368674,
          747.1670675868082,
          916.2739011886731,
          1123.6548001387516,
          1377.9723598335568,
          1689.8497868124587,
          2072.3146452190294,
          2541.343036702639,
          3116.52694492943,
          3821.8926206331225,
          4686.904192314192,
          5747.694424835347,
          7048.574036451903,
          8643.882620598262,
          10600.258488068825,
          12999.42224413245,
          15941.590374559995,
          19549.661430912594,
          23974.349678010785,
          29400.480643347077,
          36054.71154250506,
          44214.99907374487,
          54222.21006501592,
          66494.35996665046,
          81544.07395185171,
          100000
         ],
         "xaxis": "x",
         "y": [
          4.836910695373724,
          4.834682366222184,
          4.832550977871193,
          4.830554826562975,
          4.828723598246779,
          4.827077608685568,
          4.825628230809552,
          4.824379223292886,
          4.823328592731125,
          4.822470643966378,
          4.821797958969711,
          4.821303150752085,
          4.820980333647638,
          4.820826319874633,
          4.820841592297447,
          4.821031119617372,
          4.821405079700422,
          4.821979545324592,
          4.822777167920522,
          4.823827869948653,
          4.825169524053129,
          4.826848553498332,
          4.828920327984625,
          4.831449144111822,
          4.834507461165588,
          4.838173900412247,
          4.842529301019777,
          4.847649855289823,
          4.853596030859652,
          4.860395663670519,
          4.868019347890798,
          4.876346185563739,
          4.885118274950968,
          4.893883238600563,
          4.9019258353155255,
          4.9081923748943534,
          4.911215143559477,
          4.909047897867443,
          4.8992268800867596,
          4.878773689843308,
          4.844255681468834,
          4.791915674397583,
          4.717875642534822,
          4.618409425072267,
          4.490268751128666,
          4.331036640304568,
          4.139473942835051,
          3.9158192561041862,
          3.662000168575429,
          3.381715585555981,
          3.080356609137297,
          2.7647493122259834,
          2.4427273793486672,
          2.1225726983156923,
          1.8123899815661604,
          1.5194981375031593,
          1.2499200416869718,
          1.0080334566260172,
          0.7964151443367552,
          0.615876681432309,
          0.46566216212024636,
          0.34375963309163876,
          0.24727098139616618,
          0.17278775356332463,
          0.11673031645410857,
          0.07562174252533668,
          0.046282819555148166,
          0.02594811142513489,
          0.012313189901093789,
          0.0035290845414927183,
          -0.0018382702019989281,
          -0.004867362499788093,
          -0.006346461048576153,
          -0.0068363549782862595,
          -0.006725570269089439,
          -0.0062760445118995685,
          -0.005659160990629343,
          -0.004983121540051502,
          -0.004313099989161997,
          -0.0036856895483107248
         ],
         "yaxis": "y"
        },
        {
         "hovertemplate": "variable=sex^2<br>alphas=%{x}<br>value=%{y}<extra></extra>",
         "legendgroup": "sex^2",
         "line": {
          "color": "#EF553B",
          "dash": "solid"
         },
         "mode": "lines",
         "name": "sex^2",
         "showlegend": true,
         "type": "scattergl",
         "x": [
          0.01,
          0.012263306841775632,
          0.015038869469554102,
          0.018442627085855347,
          0.022616759492228647,
          0.02773562614198415,
          0.03401304938279251,
          0.04171124612056518,
          0.051151780992931425,
          0.06272899858196247,
          0.07692649574879142,
          0.09433732216299774,
          0.1156887528316282,
          0.1418726674116596,
          0.1739828052930364,
          0.21336045265014109,
          0.2616504698748821,
          0.320869999737045,
          0.39349272630958493,
          0.48255220427412787,
          0.5917685748188825,
          0.7257039612324212,
          0.8899530352885229,
          1.0913767146512738,
          1.3383887531737564,
          1.6413071953751284,
          2.0127853758499383,
          2.4683404670686486,
          3.0270016537634614,
          3.7121050090663608,
          4.55226827550731,
          5.582586268862695,
          6.846096838574658,
          8.395578619995112,
          10.295755673125127,
          12.626001098748565,
          15.48365256585499,
          18.988078244652634,
          23.285662984981965,
          28.55592301990109,
          35.019004614317126,
          42.944879887892725,
          52.66462393484275,
          64.58424430196978,
          79.20164050192548,
          97.12740198471168,
          119.11031332830079,
          146.06863203649888,
          179.1284454622002,
          219.67070907932353,
          269.388930959017,
          330.35991201283395,
          405.1304969235378,
          496.8239594734388,
          609.2704661368674,
          747.1670675868082,
          916.2739011886731,
          1123.6548001387516,
          1377.9723598335568,
          1689.8497868124587,
          2072.3146452190294,
          2541.343036702639,
          3116.52694492943,
          3821.8926206331225,
          4686.904192314192,
          5747.694424835347,
          7048.574036451903,
          8643.882620598262,
          10600.258488068825,
          12999.42224413245,
          15941.590374559995,
          19549.661430912594,
          23974.349678010785,
          29400.480643347077,
          36054.71154250506,
          44214.99907374487,
          54222.21006501592,
          66494.35996665046,
          81544.07395185171,
          100000
         ],
         "xaxis": "x",
         "y": [
          -3.9803343834253218,
          -3.9762663977399666,
          -3.972352904234858,
          -3.968658124488651,
          -3.965229925251218,
          -3.9620982438931405,
          -3.959275591143271,
          -3.956759106957819,
          -3.954533501150295,
          -3.9525742466326967,
          -3.9508505435206045,
          -3.949327760367431,
          -3.9479692243820024,
          -3.946737352879308,
          -3.9455941870088806,
          -3.9445014167032064,
          -3.943419985473072,
          -3.9423093479770253,
          -3.9411264301374604,
          -3.9398243177805727,
          -3.938350677133851,
          -3.936645891098781,
          -3.9346408789481786,
          -3.9322545542961365,
          -3.929390866960022,
          -3.925935369328212,
          -3.921751248202545,
          -3.9166747705657814,
          -3.9105101087927494,
          -3.9030235405764095,
          -3.8939370648483407,
          -3.8829215412387406,
          -3.8695895510944807,
          -3.853488295928913,
          -3.8340929949906055,
          -3.810801411979651,
          -3.7829303152098004,
          -3.749714822787375,
          -3.710311654166943,
          -3.663807243018273,
          -3.6092314212836847,
          -3.545576972253482,
          -3.4718248725739898,
          -3.3869746969867354,
          -3.29007969402376,
          -3.1802866551316855,
          -3.056881914585321,
          -2.919346361353312,
          -2.767423591458324,
          -2.6012053222234774,
          -2.4212357814611654,
          -2.228630979508314,
          -2.025199326369074,
          -1.8135382832993836,
          -1.5970711757418414,
          -1.3799845492180294,
          -1.167035467963514,
          -0.9632228577200579,
          -0.773353693779353,
          -0.6015721807219875,
          -0.4509426829205026,
          -0.3231731639077519,
          -0.21853398214737557,
          -0.13597804757672477,
          -0.07342057759507095,
          -0.028106177497119328,
          0.003014971245942266,
          0.022964508702593586,
          0.03450251956846048,
          0.03999148274425827,
          0.04134530833573686,
          0.04004080899537097,
          0.03716720027700375,
          0.03349295549978845,
          0.029535313700254702,
          0.025623651462302516,
          0.021952608716267422,
          0.018624002396522826,
          0.015678356971384897,
          0.013117694868564475
         ],
         "yaxis": "y"
        },
        {
         "hovertemplate": "variable=bmi^2<br>alphas=%{x}<br>value=%{y}<extra></extra>",
         "legendgroup": "bmi^2",
         "line": {
          "color": "#00cc96",
          "dash": "solid"
         },
         "mode": "lines",
         "name": "bmi^2",
         "showlegend": true,
         "type": "scattergl",
         "x": [
          0.01,
          0.012263306841775632,
          0.015038869469554102,
          0.018442627085855347,
          0.022616759492228647,
          0.02773562614198415,
          0.03401304938279251,
          0.04171124612056518,
          0.051151780992931425,
          0.06272899858196247,
          0.07692649574879142,
          0.09433732216299774,
          0.1156887528316282,
          0.1418726674116596,
          0.1739828052930364,
          0.21336045265014109,
          0.2616504698748821,
          0.320869999737045,
          0.39349272630958493,
          0.48255220427412787,
          0.5917685748188825,
          0.7257039612324212,
          0.8899530352885229,
          1.0913767146512738,
          1.3383887531737564,
          1.6413071953751284,
          2.0127853758499383,
          2.4683404670686486,
          3.0270016537634614,
          3.7121050090663608,
          4.55226827550731,
          5.582586268862695,
          6.846096838574658,
          8.395578619995112,
          10.295755673125127,
          12.626001098748565,
          15.48365256585499,
          18.988078244652634,
          23.285662984981965,
          28.55592301990109,
          35.019004614317126,
          42.944879887892725,
          52.66462393484275,
          64.58424430196978,
          79.20164050192548,
          97.12740198471168,
          119.11031332830079,
          146.06863203649888,
          179.1284454622002,
          219.67070907932353,
          269.388930959017,
          330.35991201283395,
          405.1304969235378,
          496.8239594734388,
          609.2704661368674,
          747.1670675868082,
          916.2739011886731,
          1123.6548001387516,
          1377.9723598335568,
          1689.8497868124587,
          2072.3146452190294,
          2541.343036702639,
          3116.52694492943,
          3821.8926206331225,
          4686.904192314192,
          5747.694424835347,
          7048.574036451903,
          8643.882620598262,
          10600.258488068825,
          12999.42224413245,
          15941.590374559995,
          19549.661430912594,
          23974.349678010785,
          29400.480643347077,
          36054.71154250506,
          44214.99907374487,
          54222.21006501592,
          66494.35996665046,
          81544.07395185171,
          100000
         ],
         "xaxis": "x",
         "y": [
          4.304487444879992,
          4.280428560741089,
          4.257302733947001,
          4.235494695978741,
          4.215293004309576,
          4.196880900976979,
          4.180339527777863,
          4.165660413951802,
          4.152763277124455,
          4.141515402706451,
          4.131749765929326,
          4.123280173326789,
          4.115912694636301,
          4.109453372944238,
          4.103712619365477,
          4.0985068741193205,
          4.093658128363177,
          4.088991823752565,
          4.084333533643662,
          4.079504715902497,
          4.074317732329589,
          4.068570264703609,
          4.062039229600329,
          4.054474311090103,
          4.045591303284913,
          4.035065600339047,
          4.022526413637542,
          4.00755266450527,
          3.9896720278737865,
          3.9683653113786503,
          3.943079238523383,
          3.913251688984969,
          3.8783543330918353,
          3.8379579799582157,
          3.7918251699867374,
          3.7400316381631677,
          3.6831121930021613,
          3.6222165599878404,
          3.559247200607798,
          3.496936490114043,
          3.438810079590605,
          3.3889841089947144,
          3.351763256452858,
          3.3310471455415622,
          3.3296087295220853,
          3.348364663989003,
          3.385793373611965,
          3.437653330453482,
          3.497105967531358,
          3.555265521895179,
          3.602106307025077,
          3.6275839799125125,
          3.6227902916069854,
          3.580964648309532,
          3.498221622060237,
          3.373907133571035,
          3.21055540025267,
          3.013476608351797,
          2.790056503562849,
          2.54888729559887,
          2.2988666397559903,
          2.048392667302233,
          1.80474976327435,
          1.5737317374403847,
          1.3595001840071679,
          1.1646384454937728,
          0.990341855914802,
          0.8366822290932628,
          0.7028938275108051,
          0.5876430167225005,
          0.48925932099881364,
          0.40591853518321813,
          0.3357777077067321,
          0.2770672757705032,
          0.22814814605431907,
          0.18754199712756564,
          0.15394236986067675,
          0.1262128450574314,
          0.10337720282851749,
          0.08460515477096037
         ],
         "yaxis": "y"
        },
        {
         "hovertemplate": "variable=bp^2<br>alphas=%{x}<br>value=%{y}<extra></extra>",
         "legendgroup": "bp^2",
         "line": {
          "color": "#ab63fa",
          "dash": "solid"
         },
         "mode": "lines",
         "name": "bp^2",
         "showlegend": true,
         "type": "scattergl",
         "x": [
          0.01,
          0.012263306841775632,
          0.015038869469554102,
          0.018442627085855347,
          0.022616759492228647,
          0.02773562614198415,
          0.03401304938279251,
          0.04171124612056518,
          0.051151780992931425,
          0.06272899858196247,
          0.07692649574879142,
          0.09433732216299774,
          0.1156887528316282,
          0.1418726674116596,
          0.1739828052930364,
          0.21336045265014109,
          0.2616504698748821,
          0.320869999737045,
          0.39349272630958493,
          0.48255220427412787,
          0.5917685748188825,
          0.7257039612324212,
          0.8899530352885229,
          1.0913767146512738,
          1.3383887531737564,
          1.6413071953751284,
          2.0127853758499383,
          2.4683404670686486,
          3.0270016537634614,
          3.7121050090663608,
          4.55226827550731,
          5.582586268862695,
          6.846096838574658,
          8.395578619995112,
          10.295755673125127,
          12.626001098748565,
          15.48365256585499,
          18.988078244652634,
          23.285662984981965,
          28.55592301990109,
          35.019004614317126,
          42.944879887892725,
          52.66462393484275,
          64.58424430196978,
          79.20164050192548,
          97.12740198471168,
          119.11031332830079,
          146.06863203649888,
          179.1284454622002,
          219.67070907932353,
          269.388930959017,
          330.35991201283395,
          405.1304969235378,
          496.8239594734388,
          609.2704661368674,
          747.1670675868082,
          916.2739011886731,
          1123.6548001387516,
          1377.9723598335568,
          1689.8497868124587,
          2072.3146452190294,
          2541.343036702639,
          3116.52694492943,
          3821.8926206331225,
          4686.904192314192,
          5747.694424835347,
          7048.574036451903,
          8643.882620598262,
          10600.258488068825,
          12999.42224413245,
          15941.590374559995,
          19549.661430912594,
          23974.349678010785,
          29400.480643347077,
          36054.71154250506,
          44214.99907374487,
          54222.21006501592,
          66494.35996665046,
          81544.07395185171,
          100000
         ],
         "xaxis": "x",
         "y": [
          1.027501659434605,
          1.026337471058357,
          1.025229895212167,
          1.024200452346775,
          1.0232663354352938,
          1.0224400634764383,
          1.0217297802009955,
          1.0211400486921016,
          1.0206729498658347,
          1.0203293053938762,
          1.020109892382785,
          1.020016574847643,
          1.020053329073147,
          1.0202271783649774,
          1.0205490763543605,
          1.0210347896136795,
          1.0217058336793858,
          1.022590514996665,
          1.02372512697131,
          1.0251553421315176,
          1.0269378340972946,
          1.0291421513607586,
          1.031852847679465,
          1.0351718483719372,
          1.0392209947960411,
          1.0441446578876603,
          1.0501122445376805,
          1.0573203403572997,
          1.0659941488462052,
          1.0763878212912428,
          1.0887832595393667,
          1.1034870639738616,
          1.1208255422752527,
          1.1411381156774527,
          1.1647700110255284,
          1.1920656344549545,
          1.2233641520546312,
          1.258998104941685,
          1.2992939677552306,
          1.344570383474766,
          1.3951260055994976,
          1.451205857715377,
          1.5129347559124815,
          1.5802102733871302,
          1.6525565812863003,
          1.7289534137733358,
          1.8076690235423474,
          1.886138689971513,
          1.9609365119744193,
          2.0278830389561207,
          2.082311590543403,
          2.1194830906627375,
          2.1351002585655925,
          2.125839195597203,
          2.089801832308033,
          2.0268026314236267,
          1.9384350025669024,
          1.8279075329535301,
          1.6996849560377008,
          1.5590027684447263,
          1.4113406461398084,
          1.2619365047479794,
          1.115403420475639,
          0.9754827207959393,
          0.8449368708508084,
          0.725562445553221,
          0.6182902000081751,
          0.5233359976326711,
          0.4403705130297306,
          0.3686837051547929,
          0.30732901756412395,
          0.25524012504608407,
          0.21131889695674586,
          0.17449696130025522,
          0.1437751528809751,
          0.11824571038393675,
          0.09710184384953074,
          0.0796386250120891,
          0.0652483375547936,
          0.05341263174028126
         ],
         "yaxis": "y"
        },
        {
         "hovertemplate": "variable=s1^2<br>alphas=%{x}<br>value=%{y}<extra></extra>",
         "legendgroup": "s1^2",
         "line": {
          "color": "#FFA15A",
          "dash": "solid"
         },
         "mode": "lines",
         "name": "s1^2",
         "showlegend": true,
         "type": "scattergl",
         "x": [
          0.01,
          0.012263306841775632,
          0.015038869469554102,
          0.018442627085855347,
          0.022616759492228647,
          0.02773562614198415,
          0.03401304938279251,
          0.04171124612056518,
          0.051151780992931425,
          0.06272899858196247,
          0.07692649574879142,
          0.09433732216299774,
          0.1156887528316282,
          0.1418726674116596,
          0.1739828052930364,
          0.21336045265014109,
          0.2616504698748821,
          0.320869999737045,
          0.39349272630958493,
          0.48255220427412787,
          0.5917685748188825,
          0.7257039612324212,
          0.8899530352885229,
          1.0913767146512738,
          1.3383887531737564,
          1.6413071953751284,
          2.0127853758499383,
          2.4683404670686486,
          3.0270016537634614,
          3.7121050090663608,
          4.55226827550731,
          5.582586268862695,
          6.846096838574658,
          8.395578619995112,
          10.295755673125127,
          12.626001098748565,
          15.48365256585499,
          18.988078244652634,
          23.285662984981965,
          28.55592301990109,
          35.019004614317126,
          42.944879887892725,
          52.66462393484275,
          64.58424430196978,
          79.20164050192548,
          97.12740198471168,
          119.11031332830079,
          146.06863203649888,
          179.1284454622002,
          219.67070907932353,
          269.388930959017,
          330.35991201283395,
          405.1304969235378,
          496.8239594734388,
          609.2704661368674,
          747.1670675868082,
          916.2739011886731,
          1123.6548001387516,
          1377.9723598335568,
          1689.8497868124587,
          2072.3146452190294,
          2541.343036702639,
          3116.52694492943,
          3821.8926206331225,
          4686.904192314192,
          5747.694424835347,
          7048.574036451903,
          8643.882620598262,
          10600.258488068825,
          12999.42224413245,
          15941.590374559995,
          19549.661430912594,
          23974.349678010785,
          29400.480643347077,
          36054.71154250506,
          44214.99907374487,
          54222.21006501592,
          66494.35996665046,
          81544.07395185171,
          100000
         ],
         "xaxis": "x",
         "y": [
          4.400075914356274,
          4.3637599607259085,
          4.328859942726701,
          4.2959584879296395,
          4.265493254805906,
          4.23774319030216,
          4.212833466866241,
          4.19075444174311,
          4.171388659294416,
          4.154540255748877,
          4.13996248302608,
          4.127380747563778,
          4.11651005935489,
          4.107066865190552,
          4.098775865879354,
          4.0913726728734305,
          4.084603164715148,
          4.078220267249333,
          4.071978684261582,
          4.065627898731227,
          4.058903579634595,
          4.051517384514655,
          4.043145061763462,
          4.033412753512219,
          4.021881517837022,
          4.008030380143858,
          3.9912387495043187,
          3.97076984724903,
          3.945757893670454,
          3.9152030767121024,
          3.877979499409725,
          3.8328618643170644,
          3.7785759070912155,
          3.7138748176760847,
          3.637638669971459,
          3.5489865545763397,
          3.4473831753562854,
          3.3327159076645607,
          3.20531825287722,
          3.06592417514084,
          2.9155553326025485,
          2.7553659439724507,
          2.5864901440825014,
          2.409944860698467,
          2.2266310237434515,
          2.037447698842904,
          1.8434959353376195,
          1.646315233710254,
          1.4480783129222679,
          1.2516755980437062,
          1.0606469651540182,
          0.878955236359282,
          0.7106321411087344,
          0.5593542465044197,
          0.4280201111484076,
          0.31840102590111463,
          0.23092768414889578,
          0.1646546834982555,
          0.11741455717755746,
          0.08613640763954024,
          0.06726913190636115,
          0.057226726951160246,
          0.05277222589862751,
          0.051278813384935014,
          0.050843563411553334,
          0.0502672741822535,
          0.04894041989455561,
          0.04668438006317114,
          0.04359079060771017,
          0.03988695230502372,
          0.0358391633490252,
          0.03169354953992087,
          0.02764710741992101,
          0.023839523902787936,
          0.020357161379907954,
          0.01724272509295519,
          0.014506417404566582,
          0.01213626073566675,
          0.01010657554401909,
          0.008384388486607754
         ],
         "yaxis": "y"
        },
        {
         "hovertemplate": "variable=s2^2<br>alphas=%{x}<br>value=%{y}<extra></extra>",
         "legendgroup": "s2^2",
         "line": {
          "color": "#19d3f3",
          "dash": "solid"
         },
         "mode": "lines",
         "name": "s2^2",
         "showlegend": true,
         "type": "scattergl",
         "x": [
          0.01,
          0.012263306841775632,
          0.015038869469554102,
          0.018442627085855347,
          0.022616759492228647,
          0.02773562614198415,
          0.03401304938279251,
          0.04171124612056518,
          0.051151780992931425,
          0.06272899858196247,
          0.07692649574879142,
          0.09433732216299774,
          0.1156887528316282,
          0.1418726674116596,
          0.1739828052930364,
          0.21336045265014109,
          0.2616504698748821,
          0.320869999737045,
          0.39349272630958493,
          0.48255220427412787,
          0.5917685748188825,
          0.7257039612324212,
          0.8899530352885229,
          1.0913767146512738,
          1.3383887531737564,
          1.6413071953751284,
          2.0127853758499383,
          2.4683404670686486,
          3.0270016537634614,
          3.7121050090663608,
          4.55226827550731,
          5.582586268862695,
          6.846096838574658,
          8.395578619995112,
          10.295755673125127,
          12.626001098748565,
          15.48365256585499,
          18.988078244652634,
          23.285662984981965,
          28.55592301990109,
          35.019004614317126,
          42.944879887892725,
          52.66462393484275,
          64.58424430196978,
          79.20164050192548,
          97.12740198471168,
          119.11031332830079,
          146.06863203649888,
          179.1284454622002,
          219.67070907932353,
          269.388930959017,
          330.35991201283395,
          405.1304969235378,
          496.8239594734388,
          609.2704661368674,
          747.1670675868082,
          916.2739011886731,
          1123.6548001387516,
          1377.9723598335568,
          1689.8497868124587,
          2072.3146452190294,
          2541.343036702639,
          3116.52694492943,
          3821.8926206331225,
          4686.904192314192,
          5747.694424835347,
          7048.574036451903,
          8643.882620598262,
          10600.258488068825,
          12999.42224413245,
          15941.590374559995,
          19549.661430912594,
          23974.349678010785,
          29400.480643347077,
          36054.71154250506,
          44214.99907374487,
          54222.21006501592,
          66494.35996665046,
          81544.07395185171,
          100000
         ],
         "xaxis": "x",
         "y": [
          -5.615878251380058,
          -5.586325730743544,
          -5.557876638695162,
          -5.5309927277375,
          -5.5060163872154675,
          -5.483159050198496,
          -5.462504598684049,
          -5.444023976992621,
          -5.427596148906382,
          -5.413030801765611,
          -5.400089290905296,
          -5.388501667044901,
          -5.3779788313709105,
          -5.368219723505818,
          -5.358913940062424,
          -5.349740373335726,
          -5.340362448135921,
          -5.330420409507562,
          -5.3195209428318035,
          -5.307224236693211,
          -5.293028459763695,
          -5.276351543084639,
          -5.2565101709834465,
          -5.232696034067661,
          -5.203949753979878,
          -5.169133542674101,
          -5.126904714369904,
          -5.075693718646999,
          -5.013692431258761,
          -4.938860887052347,
          -4.84896305172787,
          -4.741643811408558,
          -4.614558922067408,
          -4.4655657928312165,
          -4.292974486136382,
          -4.095844945484014,
          -3.874299692847249,
          -3.6298047929001647,
          -3.3653613243268015,
          -3.0855506773635044,
          -2.7963930296168575,
          -2.5050079021162306,
          -2.219102118128786,
          -1.9463440603078963,
          -1.6937048771250163,
          -1.4668524871382103,
          -1.2696737292954312,
          -1.1039790056633754,
          -0.9694187597962706,
          -0.863616888243624,
          -0.7825043898127453,
          -0.7208168258650017,
          -0.6727012048567104,
          -0.6323630606934917,
          -0.5946756289397419,
          -0.5556733160517049,
          -0.5128634974803666,
          -0.4653150080341743,
          -0.4135170914650201,
          -0.35904391100975813,
          -0.30409749701942645,
          -0.2510245036338041,
          -0.2019005400823471,
          -0.1582495769150663,
          -0.12092428051036495,
          -0.09013116501959277,
          -0.0655557048030394,
          -0.04653315015859619,
          -0.03221831464320107,
          -0.021724367332953458,
          -0.01421847361164916,
          -0.008975603233855845,
          -0.005399212502242936,
          -0.003019677593142486,
          -0.0014802584349091327,
          -0.0005178753488003985,
          0.00005665103914708588,
          0.0003763868824538748,
          0.0005330687561828661,
          0.0005887422111515772
         ],
         "yaxis": "y"
        },
        {
         "hovertemplate": "variable=s3^2<br>alphas=%{x}<br>value=%{y}<extra></extra>",
         "legendgroup": "s3^2",
         "line": {
          "color": "#FF6692",
          "dash": "solid"
         },
         "mode": "lines",
         "name": "s3^2",
         "showlegend": true,
         "type": "scattergl",
         "x": [
          0.01,
          0.012263306841775632,
          0.015038869469554102,
          0.018442627085855347,
          0.022616759492228647,
          0.02773562614198415,
          0.03401304938279251,
          0.04171124612056518,
          0.051151780992931425,
          0.06272899858196247,
          0.07692649574879142,
          0.09433732216299774,
          0.1156887528316282,
          0.1418726674116596,
          0.1739828052930364,
          0.21336045265014109,
          0.2616504698748821,
          0.320869999737045,
          0.39349272630958493,
          0.48255220427412787,
          0.5917685748188825,
          0.7257039612324212,
          0.8899530352885229,
          1.0913767146512738,
          1.3383887531737564,
          1.6413071953751284,
          2.0127853758499383,
          2.4683404670686486,
          3.0270016537634614,
          3.7121050090663608,
          4.55226827550731,
          5.582586268862695,
          6.846096838574658,
          8.395578619995112,
          10.295755673125127,
          12.626001098748565,
          15.48365256585499,
          18.988078244652634,
          23.285662984981965,
          28.55592301990109,
          35.019004614317126,
          42.944879887892725,
          52.66462393484275,
          64.58424430196978,
          79.20164050192548,
          97.12740198471168,
          119.11031332830079,
          146.06863203649888,
          179.1284454622002,
          219.67070907932353,
          269.388930959017,
          330.35991201283395,
          405.1304969235378,
          496.8239594734388,
          609.2704661368674,
          747.1670675868082,
          916.2739011886731,
          1123.6548001387516,
          1377.9723598335568,
          1689.8497868124587,
          2072.3146452190294,
          2541.343036702639,
          3116.52694492943,
          3821.8926206331225,
          4686.904192314192,
          5747.694424835347,
          7048.574036451903,
          8643.882620598262,
          10600.258488068825,
          12999.42224413245,
          15941.590374559995,
          19549.661430912594,
          23974.349678010785,
          29400.480643347077,
          36054.71154250506,
          44214.99907374487,
          54222.21006501592,
          66494.35996665046,
          81544.07395185171,
          100000
         ],
         "xaxis": "x",
         "y": [
          -2.5391865940771314,
          -2.5332806424425853,
          -2.5275208218478626,
          -2.521980573403072,
          -2.5167073700089757,
          -2.511719779465389,
          -2.507007219159614,
          -2.5025316457858553,
          -2.498230211859957,
          -2.4940179632313675,
          -2.489789849401693,
          -2.4854215640260953,
          -2.480768949359015,
          -2.4756658490245096,
          -2.469920374243053,
          -2.463309574014455,
          -2.455572491143712,
          -2.446401565291063,
          -2.4354323320995475,
          -2.4222313848438106,
          -2.4062826365262184,
          -2.3869720782950408,
          -2.363571518794553,
          -2.335222267646157,
          -2.300920467172722,
          -2.25950685526557,
          -2.2096652104552064,
          -2.1499355622145804,
          -2.07875025739402,
          -1.994502696966291,
          -1.8956591627997461,
          -1.78092242284885,
          -1.6494503153119005,
          -1.501122137480031,
          -1.3368303665179355,
          -1.1587570011927657,
          -0.9705772234013279,
          -0.7775248987526882,
          -0.586261610571798,
          -0.40451717783649926,
          -0.24051205858427022,
          -0.10222021157827961,
          0.003429916995282875,
          0.07130108452881395,
          0.09863256045919729,
          0.0853862777964497,
          0.03431273709643051,
          -0.049266907774000675,
          -0.15793350105409676,
          -0.2828411623583632,
          -0.4145098185343939,
          -0.5436479880620657,
          -0.6619119872686648,
          -0.7625180184821851,
          -0.8406465405684055,
          -0.8936102022151827,
          -0.9207914427678333,
          -0.9233869784343278,
          -0.9040181348981766,
          -0.8662750601558091,
          -0.8142591180023331,
          -0.7521741792830521,
          -0.6839990111595325,
          -0.6132545503573466,
          -0.5428650249472767,
          -0.4751019500609906,
          -0.41159454756814096,
          -0.3533880320517235,
          -0.30103148228461113,
          -0.2546790180494914,
          -0.2141912077261626,
          -0.1792274721365447,
          -0.14932409859865417,
          -0.1239557930125412,
          -0.10258115107783682,
          -0.08467394955289255,
          -0.06974286690033214,
          -0.057342358987023716,
          -0.047077169836252375,
          -0.03860253914108944
         ],
         "yaxis": "y"
        },
        {
         "hovertemplate": "variable=s4^2<br>alphas=%{x}<br>value=%{y}<extra></extra>",
         "legendgroup": "s4^2",
         "line": {
          "color": "#B6E880",
          "dash": "solid"
         },
         "mode": "lines",
         "name": "s4^2",
         "showlegend": true,
         "type": "scattergl",
         "x": [
          0.01,
          0.012263306841775632,
          0.015038869469554102,
          0.018442627085855347,
          0.022616759492228647,
          0.02773562614198415,
          0.03401304938279251,
          0.04171124612056518,
          0.051151780992931425,
          0.06272899858196247,
          0.07692649574879142,
          0.09433732216299774,
          0.1156887528316282,
          0.1418726674116596,
          0.1739828052930364,
          0.21336045265014109,
          0.2616504698748821,
          0.320869999737045,
          0.39349272630958493,
          0.48255220427412787,
          0.5917685748188825,
          0.7257039612324212,
          0.8899530352885229,
          1.0913767146512738,
          1.3383887531737564,
          1.6413071953751284,
          2.0127853758499383,
          2.4683404670686486,
          3.0270016537634614,
          3.7121050090663608,
          4.55226827550731,
          5.582586268862695,
          6.846096838574658,
          8.395578619995112,
          10.295755673125127,
          12.626001098748565,
          15.48365256585499,
          18.988078244652634,
          23.285662984981965,
          28.55592301990109,
          35.019004614317126,
          42.944879887892725,
          52.66462393484275,
          64.58424430196978,
          79.20164050192548,
          97.12740198471168,
          119.11031332830079,
          146.06863203649888,
          179.1284454622002,
          219.67070907932353,
          269.388930959017,
          330.35991201283395,
          405.1304969235378,
          496.8239594734388,
          609.2704661368674,
          747.1670675868082,
          916.2739011886731,
          1123.6548001387516,
          1377.9723598335568,
          1689.8497868124587,
          2072.3146452190294,
          2541.343036702639,
          3116.52694492943,
          3821.8926206331225,
          4686.904192314192,
          5747.694424835347,
          7048.574036451903,
          8643.882620598262,
          10600.258488068825,
          12999.42224413245,
          15941.590374559995,
          19549.661430912594,
          23974.349678010785,
          29400.480643347077,
          36054.71154250506,
          44214.99907374487,
          54222.21006501592,
          66494.35996665046,
          81544.07395185171,
          100000
         ],
         "xaxis": "x",
         "y": [
          4.6278328550368135,
          4.576303833381729,
          4.526738459204475,
          4.479951937319614,
          4.436552496699924,
          4.39692151973618,
          4.361219992844659,
          4.329414672751935,
          4.30131548965282,
          4.2766161835526395,
          4.254932085473533,
          4.235831326086676,
          4.218857871158509,
          4.203546306603651,
          4.189429181049855,
          4.176038079522599,
          4.162899619417115,
          4.149527387076216,
          4.13541058832146,
          4.119999947544063,
          4.10269120654927,
          4.082806479859338,
          4.059573748117477,
          4.032104952856186,
          3.9993735444676735,
          3.960192995131961,
          3.913198790172823,
          3.856837807842055,
          3.7893707769694007,
          3.7088955096257785,
          3.6134004406663642,
          3.5008589187649353,
          3.369373558493372,
          3.2173754317642356,
          3.043873835648407,
          2.8487387304476686,
          2.632981531570925,
          2.3989849903760714,
          2.1506253463665423,
          1.8932352435459587,
          1.6333761779790215,
          1.3784213809932506,
          1.135986539869141,
          0.9132778076713426,
          0.7164471295126358,
          0.550049792113796,
          0.41668629660884765,
          0.3168804914473475,
          0.2492026991806331,
          0.2105998696921097,
          0.1968574679326525,
          0.20310097690343712,
          0.2242527280887007,
          0.25538761913915936,
          0.2919682009082205,
          0.3299733313597302,
          0.36595595108147616,
          0.39707064794632474,
          0.4211018011495916,
          0.43650344994587076,
          0.44244042734847505,
          0.438805255602382,
          0.4261831850003738,
          0.40574968393999405,
          0.3791053436818907,
          0.3480731565187045,
          0.3144938969846726,
          0.28005344463649395,
          0.24616398319272878,
          0.21390533007494125,
          0.18401926708817296,
          0.15694202034317012,
          0.13285822612315906,
          0.11176207975399281,
          0.09351563120846376,
          0.07789856619691997,
          0.06464730213057497,
          0.05348353657628497,
          0.04413363317311193,
          0.03634070554338115
         ],
         "yaxis": "y"
        },
        {
         "hovertemplate": "variable=s5^2<br>alphas=%{x}<br>value=%{y}<extra></extra>",
         "legendgroup": "s5^2",
         "line": {
          "color": "#FF97FF",
          "dash": "solid"
         },
         "mode": "lines",
         "name": "s5^2",
         "showlegend": true,
         "type": "scattergl",
         "x": [
          0.01,
          0.012263306841775632,
          0.015038869469554102,
          0.018442627085855347,
          0.022616759492228647,
          0.02773562614198415,
          0.03401304938279251,
          0.04171124612056518,
          0.051151780992931425,
          0.06272899858196247,
          0.07692649574879142,
          0.09433732216299774,
          0.1156887528316282,
          0.1418726674116596,
          0.1739828052930364,
          0.21336045265014109,
          0.2616504698748821,
          0.320869999737045,
          0.39349272630958493,
          0.48255220427412787,
          0.5917685748188825,
          0.7257039612324212,
          0.8899530352885229,
          1.0913767146512738,
          1.3383887531737564,
          1.6413071953751284,
          2.0127853758499383,
          2.4683404670686486,
          3.0270016537634614,
          3.7121050090663608,
          4.55226827550731,
          5.582586268862695,
          6.846096838574658,
          8.395578619995112,
          10.295755673125127,
          12.626001098748565,
          15.48365256585499,
          18.988078244652634,
          23.285662984981965,
          28.55592301990109,
          35.019004614317126,
          42.944879887892725,
          52.66462393484275,
          64.58424430196978,
          79.20164050192548,
          97.12740198471168,
          119.11031332830079,
          146.06863203649888,
          179.1284454622002,
          219.67070907932353,
          269.388930959017,
          330.35991201283395,
          405.1304969235378,
          496.8239594734388,
          609.2704661368674,
          747.1670675868082,
          916.2739011886731,
          1123.6548001387516,
          1377.9723598335568,
          1689.8497868124587,
          2072.3146452190294,
          2541.343036702639,
          3116.52694492943,
          3821.8926206331225,
          4686.904192314192,
          5747.694424835347,
          7048.574036451903,
          8643.882620598262,
          10600.258488068825,
          12999.42224413245,
          15941.590374559995,
          19549.661430912594,
          23974.349678010785,
          29400.480643347077,
          36054.71154250506,
          44214.99907374487,
          54222.21006501592,
          66494.35996665046,
          81544.07395185171,
          100000
         ],
         "xaxis": "x",
         "y": [
          -31.146413099219174,
          -28.008712609068898,
          -24.995416090348254,
          -22.15738761921672,
          -19.533025928164207,
          -17.147094972836072,
          -15.01117725096199,
          -13.125347649496648,
          -11.480551375774041,
          -10.06119922774756,
          -8.847611481883527,
          -7.8180877245210425,
          -6.950510574665814,
          -6.223485659949661,
          -5.617075650666094,
          -5.113209869688139,
          -4.6958533817335875,
          -4.351010020665291,
          -4.066619498340197,
          -3.8323938738637353,
          -3.639625486796993,
          -3.48098783014557,
          -3.3503428247816838,
          -3.2425622435864643,
          -3.1533671797637055,
          -3.0791870216556423,
          -3.017038004670231,
          -2.9644207396568567,
          -2.9192358848093303,
          -2.879717056543467,
          -2.8443798581791495,
          -2.811985209946163,
          -2.781513685907071,
          -2.752145166756144,
          -2.7232350417716686,
          -2.694275265405338,
          -2.664827292762543,
          -2.634416241240069,
          -2.6023833255816533,
          -2.5677072375186865,
          -2.528822918345867,
          -2.483483531450149,
          -2.428721790360531,
          -2.360963663649105,
          -2.2763271967209824,
          -2.171102841064089,
          -2.042365440351146,
          -1.888622183908467,
          -1.7103682076248172,
          -1.5104151122131055,
          -1.2938867092652735,
          -1.067840592003844,
          -0.8405597103508022,
          -0.6206391489990594,
          -0.41604185531051724,
          -0.23329649785928583,
          -0.07696378369196079,
          0.050575651874046654,
          0.14903200375627138,
          0.21988861103379734,
          0.26595192402606743,
          0.2908616482567005,
          0.2986329057108176,
          0.29327547325327874,
          0.27851056598264673,
          0.2575872129433151,
          0.23318841937711982,
          0.2074106801678398,
          0.1817975309286295,
          0.15740772742014858,
          0.13490069351050155,
          0.11462540791488668,
          0.09670310246467505,
          0.0810982173221254,
          0.06767541458960942,
          0.056242822827964445,
          0.04658308670721201,
          0.038474417087313924,
          0.031703924313298944,
          0.02607529830126032
         ],
         "yaxis": "y"
        },
        {
         "hovertemplate": "variable=s6^2<br>alphas=%{x}<br>value=%{y}<extra></extra>",
         "legendgroup": "s6^2",
         "line": {
          "color": "#FECB52",
          "dash": "solid"
         },
         "mode": "lines",
         "name": "s6^2",
         "showlegend": true,
         "type": "scattergl",
         "x": [
          0.01,
          0.012263306841775632,
          0.015038869469554102,
          0.018442627085855347,
          0.022616759492228647,
          0.02773562614198415,
          0.03401304938279251,
          0.04171124612056518,
          0.051151780992931425,
          0.06272899858196247,
          0.07692649574879142,
          0.09433732216299774,
          0.1156887528316282,
          0.1418726674116596,
          0.1739828052930364,
          0.21336045265014109,
          0.2616504698748821,
          0.320869999737045,
          0.39349272630958493,
          0.48255220427412787,
          0.5917685748188825,
          0.7257039612324212,
          0.8899530352885229,
          1.0913767146512738,
          1.3383887531737564,
          1.6413071953751284,
          2.0127853758499383,
          2.4683404670686486,
          3.0270016537634614,
          3.7121050090663608,
          4.55226827550731,
          5.582586268862695,
          6.846096838574658,
          8.395578619995112,
          10.295755673125127,
          12.626001098748565,
          15.48365256585499,
          18.988078244652634,
          23.285662984981965,
          28.55592301990109,
          35.019004614317126,
          42.944879887892725,
          52.66462393484275,
          64.58424430196978,
          79.20164050192548,
          97.12740198471168,
          119.11031332830079,
          146.06863203649888,
          179.1284454622002,
          219.67070907932353,
          269.388930959017,
          330.35991201283395,
          405.1304969235378,
          496.8239594734388,
          609.2704661368674,
          747.1670675868082,
          916.2739011886731,
          1123.6548001387516,
          1377.9723598335568,
          1689.8497868124587,
          2072.3146452190294,
          2541.343036702639,
          3116.52694492943,
          3821.8926206331225,
          4686.904192314192,
          5747.694424835347,
          7048.574036451903,
          8643.882620598262,
          10600.258488068825,
          12999.42224413245,
          15941.590374559995,
          19549.661430912594,
          23974.349678010785,
          29400.480643347077,
          36054.71154250506,
          44214.99907374487,
          54222.21006501592,
          66494.35996665046,
          81544.07395185171,
          100000
         ],
         "xaxis": "x",
         "y": [
          7.423085282546549,
          7.410779510567599,
          7.398943275288902,
          7.387771407865011,
          7.377409327776974,
          7.367948302320755,
          7.359426994354485,
          7.351837720749624,
          7.345135396622476,
          7.33924725393758,
          7.334081880593051,
          7.32953669238404,
          7.325503455779391,
          7.321871843116755,
          7.318531212800771,
          7.315370893582624,
          7.3122792545935935,
          7.309141798610771,
          7.3058384523512,
          7.30224016153268,
          7.298204839103119,
          7.293572666225228,
          7.288160708039222,
          7.281756779054593,
          7.27411247458583,
          7.264935272800169,
          7.2538796041613605,
          7.240536778697678,
          7.224423654698983,
          7.204969925920326,
          7.18150390508461,
          7.153236708376636,
          7.119244838747042,
          7.078451399678624,
          7.02960667040171,
          6.971269721405942,
          6.901794360020729,
          6.8193251135401605,
          6.721812048486031,
          6.607056308045875,
          6.472799918257483,
          6.316871692090662,
          6.137394074363983,
          5.933042803347164,
          5.703333729505793,
          5.448892870989983,
          5.171652458165212,
          4.8749134891642365,
          4.563229131220818,
          4.242094731762774,
          3.9174749831697055,
          3.595245346398363,
          3.2806563034930716,
          2.977929980913064,
          2.6900642678135904,
          2.4188604846942336,
          2.165129598564694,
          1.928992155650538,
          1.7101805525889344,
          1.5082752566240394,
          1.3228441425214192,
          1.1534894131525015,
          0.999828785466505,
          0.8614444706062325,
          0.7378288922241866,
          0.6283460613439386,
          0.5322169601160812,
          0.44852890335591444,
          0.376263556924703,
          0.3143359579703322,
          0.26163687273648917,
          0.2170723180442627,
          0.1795962346953348,
          0.14823445977802233,
          0.12209987460330618,
          0.10039973879163322,
          0.08243678738264829,
          0.06760580015882113,
          0.055387210727628367,
          0.045339046029790005
         ],
         "yaxis": "y"
        },
        {
         "hovertemplate": "variable=age^3<br>alphas=%{x}<br>value=%{y}<extra></extra>",
         "legendgroup": "age^3",
         "line": {
          "color": "#636efa",
          "dash": "solid"
         },
         "mode": "lines",
         "name": "age^3",
         "showlegend": true,
         "type": "scattergl",
         "x": [
          0.01,
          0.012263306841775632,
          0.015038869469554102,
          0.018442627085855347,
          0.022616759492228647,
          0.02773562614198415,
          0.03401304938279251,
          0.04171124612056518,
          0.051151780992931425,
          0.06272899858196247,
          0.07692649574879142,
          0.09433732216299774,
          0.1156887528316282,
          0.1418726674116596,
          0.1739828052930364,
          0.21336045265014109,
          0.2616504698748821,
          0.320869999737045,
          0.39349272630958493,
          0.48255220427412787,
          0.5917685748188825,
          0.7257039612324212,
          0.8899530352885229,
          1.0913767146512738,
          1.3383887531737564,
          1.6413071953751284,
          2.0127853758499383,
          2.4683404670686486,
          3.0270016537634614,
          3.7121050090663608,
          4.55226827550731,
          5.582586268862695,
          6.846096838574658,
          8.395578619995112,
          10.295755673125127,
          12.626001098748565,
          15.48365256585499,
          18.988078244652634,
          23.285662984981965,
          28.55592301990109,
          35.019004614317126,
          42.944879887892725,
          52.66462393484275,
          64.58424430196978,
          79.20164050192548,
          97.12740198471168,
          119.11031332830079,
          146.06863203649888,
          179.1284454622002,
          219.67070907932353,
          269.388930959017,
          330.35991201283395,
          405.1304969235378,
          496.8239594734388,
          609.2704661368674,
          747.1670675868082,
          916.2739011886731,
          1123.6548001387516,
          1377.9723598335568,
          1689.8497868124587,
          2072.3146452190294,
          2541.343036702639,
          3116.52694492943,
          3821.8926206331225,
          4686.904192314192,
          5747.694424835347,
          7048.574036451903,
          8643.882620598262,
          10600.258488068825,
          12999.42224413245,
          15941.590374559995,
          19549.661430912594,
          23974.349678010785,
          29400.480643347077,
          36054.71154250506,
          44214.99907374487,
          54222.21006501592,
          66494.35996665046,
          81544.07395185171,
          100000
         ],
         "xaxis": "x",
         "y": [
          -11.335817901101024,
          -11.343596660132778,
          -11.350934824959069,
          -11.357672812456602,
          -11.363678178615853,
          -11.36884741168899,
          -11.373103156771016,
          -11.376387869367019,
          -11.378655183392976,
          -11.379860184815316,
          -11.379949452050802,
          -11.378851317085136,
          -11.37646643143911,
          -11.372658443473052,
          -11.367244415784992,
          -11.359984515607335,
          -11.35057047183763,
          -11.338612288371476,
          -11.323622722632704,
          -11.304999079125382,
          -11.282001939684672,
          -11.253730574934181,
          -11.219094986848345,
          -11.176784864385635,
          -11.125236249827742,
          -11.062597480129229,
          -10.986697054913494,
          -10.895017544279439,
          -10.784681489115949,
          -10.652457366044658,
          -10.49479581978686,
          -10.307907997252194,
          -10.087898154649922,
          -9.83096070583565,
          -9.533646414082227,
          -9.193192660996136,
          -8.807898644871534,
          -8.37750940778677,
          -7.903556106420993,
          -7.389589059191806,
          -6.8412407233411106,
          -6.266072491502016,
          -5.673192697837088,
          -5.072678017520532,
          -4.474874911333786,
          -3.889687463665107,
          -3.3259616924912314,
          -2.7910520455363725,
          -2.290611918201151,
          -1.8286017553973302,
          -1.4074697980636626,
          -1.0284391209052006,
          -0.6918298446001939,
          -0.3973526499317052,
          -0.14432459682722223,
          0.06822132134528966,
          0.24153652011578555,
          0.37724396163152657,
          0.4774662183054873,
          0.5449370365309651,
          0.5830436507643669,
          0.5957674949057158,
          0.5875205212905057,
          0.5629031807926841,
          0.5264292409059727,
          0.48226729834519394,
          0.4340397784498308,
          0.384702401564276,
          0.3365073045812962,
          0.29103707464187406,
          0.24928802428451272,
          0.21177925215034535,
          0.17866744057436154,
          0.149853276562135,
          0.1250715710820096,
          0.10396221379014076,
          0.08612253435573403,
          0.07114354048779742,
          0.05863323839465819,
          0.04823023503283875
         ],
         "yaxis": "y"
        },
        {
         "hovertemplate": "variable=sex^3<br>alphas=%{x}<br>value=%{y}<extra></extra>",
         "legendgroup": "sex^3",
         "line": {
          "color": "#EF553B",
          "dash": "solid"
         },
         "mode": "lines",
         "name": "sex^3",
         "showlegend": true,
         "type": "scattergl",
         "x": [
          0.01,
          0.012263306841775632,
          0.015038869469554102,
          0.018442627085855347,
          0.022616759492228647,
          0.02773562614198415,
          0.03401304938279251,
          0.04171124612056518,
          0.051151780992931425,
          0.06272899858196247,
          0.07692649574879142,
          0.09433732216299774,
          0.1156887528316282,
          0.1418726674116596,
          0.1739828052930364,
          0.21336045265014109,
          0.2616504698748821,
          0.320869999737045,
          0.39349272630958493,
          0.48255220427412787,
          0.5917685748188825,
          0.7257039612324212,
          0.8899530352885229,
          1.0913767146512738,
          1.3383887531737564,
          1.6413071953751284,
          2.0127853758499383,
          2.4683404670686486,
          3.0270016537634614,
          3.7121050090663608,
          4.55226827550731,
          5.582586268862695,
          6.846096838574658,
          8.395578619995112,
          10.295755673125127,
          12.626001098748565,
          15.48365256585499,
          18.988078244652634,
          23.285662984981965,
          28.55592301990109,
          35.019004614317126,
          42.944879887892725,
          52.66462393484275,
          64.58424430196978,
          79.20164050192548,
          97.12740198471168,
          119.11031332830079,
          146.06863203649888,
          179.1284454622002,
          219.67070907932353,
          269.388930959017,
          330.35991201283395,
          405.1304969235378,
          496.8239594734388,
          609.2704661368674,
          747.1670675868082,
          916.2739011886731,
          1123.6548001387516,
          1377.9723598335568,
          1689.8497868124587,
          2072.3146452190294,
          2541.343036702639,
          3116.52694492943,
          3821.8926206331225,
          4686.904192314192,
          5747.694424835347,
          7048.574036451903,
          8643.882620598262,
          10600.258488068825,
          12999.42224413245,
          15941.590374559995,
          19549.661430912594,
          23974.349678010785,
          29400.480643347077,
          36054.71154250506,
          44214.99907374487,
          54222.21006501592,
          66494.35996665046,
          81544.07395185171,
          100000
         ],
         "xaxis": "x",
         "y": [
          -3.9803343839260603,
          -3.976266398197699,
          -3.9723529044751626,
          -3.9686581245831762,
          -3.9652299252843757,
          -3.9620982439691566,
          -3.959275591210188,
          -3.9567591069716577,
          -3.954533501155594,
          -3.9525742466208844,
          -3.9508505435041297,
          -3.9493277603684653,
          -3.9479692243787072,
          -3.9467373528824625,
          -3.945594187010621,
          -3.9445014167002963,
          -3.9434199854730028,
          -3.9423093479764635,
          -3.941126430136285,
          -3.939824317779474,
          -3.9383506771331462,
          -3.9366458910978066,
          -3.934640878946817,
          -3.9322545542949996,
          -3.9293908669592112,
          -3.9259353693276866,
          -3.921751248202502,
          -3.9166747705656233,
          -3.9105101087924297,
          -3.9030235405760854,
          -3.8939370648482083,
          -3.8829215412386415,
          -3.86958955109441,
          -3.8534882959287593,
          -3.8340929949904816,
          -3.8108014119794906,
          -3.7829303152097227,
          -3.7497148227873005,
          -3.7103116541668966,
          -3.6638072430182302,
          -3.6092314212836616,
          -3.545576972253457,
          -3.471824872573978,
          -3.3869746969867265,
          -3.2900796940237416,
          -3.1802866551316793,
          -3.0568819145853054,
          -2.9193463613533024,
          -2.7674235914583147,
          -2.6012053222234734,
          -2.4212357814611596,
          -2.2286309795083086,
          -2.0251993263690706,
          -1.8135382832993818,
          -1.5970711757418397,
          -1.3799845492180278,
          -1.1670354679635122,
          -0.963222857720056,
          -0.7733536937793519,
          -0.6015721807219864,
          -0.4509426829205018,
          -0.3231731639077513,
          -0.21853398214737485,
          -0.13597804757672433,
          -0.07342057759507055,
          -0.02810617749711901,
          0.003014971245942508,
          0.0229645087025938,
          0.03450251956846064,
          0.0399914827442584,
          0.04134530833573696,
          0.04004080899537106,
          0.037167200277003834,
          0.033492955499788514,
          0.029535313700254757,
          0.025623651462302558,
          0.021952608716267457,
          0.018624002396522853,
          0.015678356971384918,
          0.013117694868564489
         ],
         "yaxis": "y"
        },
        {
         "hovertemplate": "variable=bmi^3<br>alphas=%{x}<br>value=%{y}<extra></extra>",
         "legendgroup": "bmi^3",
         "line": {
          "color": "#00cc96",
          "dash": "solid"
         },
         "mode": "lines",
         "name": "bmi^3",
         "showlegend": true,
         "type": "scattergl",
         "x": [
          0.01,
          0.012263306841775632,
          0.015038869469554102,
          0.018442627085855347,
          0.022616759492228647,
          0.02773562614198415,
          0.03401304938279251,
          0.04171124612056518,
          0.051151780992931425,
          0.06272899858196247,
          0.07692649574879142,
          0.09433732216299774,
          0.1156887528316282,
          0.1418726674116596,
          0.1739828052930364,
          0.21336045265014109,
          0.2616504698748821,
          0.320869999737045,
          0.39349272630958493,
          0.48255220427412787,
          0.5917685748188825,
          0.7257039612324212,
          0.8899530352885229,
          1.0913767146512738,
          1.3383887531737564,
          1.6413071953751284,
          2.0127853758499383,
          2.4683404670686486,
          3.0270016537634614,
          3.7121050090663608,
          4.55226827550731,
          5.582586268862695,
          6.846096838574658,
          8.395578619995112,
          10.295755673125127,
          12.626001098748565,
          15.48365256585499,
          18.988078244652634,
          23.285662984981965,
          28.55592301990109,
          35.019004614317126,
          42.944879887892725,
          52.66462393484275,
          64.58424430196978,
          79.20164050192548,
          97.12740198471168,
          119.11031332830079,
          146.06863203649888,
          179.1284454622002,
          219.67070907932353,
          269.388930959017,
          330.35991201283395,
          405.1304969235378,
          496.8239594734388,
          609.2704661368674,
          747.1670675868082,
          916.2739011886731,
          1123.6548001387516,
          1377.9723598335568,
          1689.8497868124587,
          2072.3146452190294,
          2541.343036702639,
          3116.52694492943,
          3821.8926206331225,
          4686.904192314192,
          5747.694424835347,
          7048.574036451903,
          8643.882620598262,
          10600.258488068825,
          12999.42224413245,
          15941.590374559995,
          19549.661430912594,
          23974.349678010785,
          29400.480643347077,
          36054.71154250506,
          44214.99907374487,
          54222.21006501592,
          66494.35996665046,
          81544.07395185171,
          100000
         ],
         "xaxis": "x",
         "y": [
          1.4654852671641523,
          1.494792533506484,
          1.5229867421026624,
          1.5496052058074177,
          1.5743030688481037,
          1.596864643160948,
          1.6171997916256877,
          1.6353291160617804,
          1.6513627734961227,
          1.665477475244924,
          1.6778951360281296,
          1.688865294654454,
          1.6986522273795384,
          1.7075268131247552,
          1.7157627123725896,
          1.7236362218631953,
          1.7314291688861385,
          1.7394343237990904,
          1.7479629722241454,
          1.757354457471795,
          1.7679876550263387,
          1.7802944602156867,
          1.7947754461577725,
          1.8120178670887803,
          1.8327161192084,
          1.8576945916564456,
          1.8879324935127355,
          1.9245896636504811,
          1.9690314853338307,
          2.022849769386964,
          2.0878748040631447,
          2.1661717361417536,
          2.2600122205935453,
          2.371810247143447,
          2.5040099300206187,
          2.6589139356098572,
          2.8384455710109933,
          3.0438468131159624,
          3.2753293766155043,
          3.5317150007023943,
          3.8101202270047407,
          4.105752948285955,
          4.4118850449108695,
          4.720042713817941,
          5.020415965906578,
          5.302442014627254,
          5.555479839854229,
          5.76947903254859,
          5.935559962552434,
          6.046457505132745,
          6.096821920675051,
          6.083401935048288,
          6.00514635370465,
          5.863250525829866,
          5.661150035253517,
          5.404438649395801,
          5.100673692372158,
          4.759037908356457,
          4.389852543028313,
          4.003972931912836,
          3.6121312129228533,
          3.2243079957624117,
          2.8492102434019904,
          2.493909630820362,
          2.163663684171658,
          1.8619112557566455,
          1.5904112128455434,
          1.3494810502768744,
          1.1382896577724826,
          0.9551632810260674,
          0.7978729715407981,
          0.6638828228061869,
          0.5505488144273314,
          0.45526662977039634,
          0.37557269697898754,
          0.3092059632820224,
          0.2541390444674054,
          0.20858707040846172,
          0.17100141455308684,
          0.1400540452153623
         ],
         "yaxis": "y"
        },
        {
         "hovertemplate": "variable=bp^3<br>alphas=%{x}<br>value=%{y}<extra></extra>",
         "legendgroup": "bp^3",
         "line": {
          "color": "#ab63fa",
          "dash": "solid"
         },
         "mode": "lines",
         "name": "bp^3",
         "showlegend": true,
         "type": "scattergl",
         "x": [
          0.01,
          0.012263306841775632,
          0.015038869469554102,
          0.018442627085855347,
          0.022616759492228647,
          0.02773562614198415,
          0.03401304938279251,
          0.04171124612056518,
          0.051151780992931425,
          0.06272899858196247,
          0.07692649574879142,
          0.09433732216299774,
          0.1156887528316282,
          0.1418726674116596,
          0.1739828052930364,
          0.21336045265014109,
          0.2616504698748821,
          0.320869999737045,
          0.39349272630958493,
          0.48255220427412787,
          0.5917685748188825,
          0.7257039612324212,
          0.8899530352885229,
          1.0913767146512738,
          1.3383887531737564,
          1.6413071953751284,
          2.0127853758499383,
          2.4683404670686486,
          3.0270016537634614,
          3.7121050090663608,
          4.55226827550731,
          5.582586268862695,
          6.846096838574658,
          8.395578619995112,
          10.295755673125127,
          12.626001098748565,
          15.48365256585499,
          18.988078244652634,
          23.285662984981965,
          28.55592301990109,
          35.019004614317126,
          42.944879887892725,
          52.66462393484275,
          64.58424430196978,
          79.20164050192548,
          97.12740198471168,
          119.11031332830079,
          146.06863203649888,
          179.1284454622002,
          219.67070907932353,
          269.388930959017,
          330.35991201283395,
          405.1304969235378,
          496.8239594734388,
          609.2704661368674,
          747.1670675868082,
          916.2739011886731,
          1123.6548001387516,
          1377.9723598335568,
          1689.8497868124587,
          2072.3146452190294,
          2541.343036702639,
          3116.52694492943,
          3821.8926206331225,
          4686.904192314192,
          5747.694424835347,
          7048.574036451903,
          8643.882620598262,
          10600.258488068825,
          12999.42224413245,
          15941.590374559995,
          19549.661430912594,
          23974.349678010785,
          29400.480643347077,
          36054.71154250506,
          44214.99907374487,
          54222.21006501592,
          66494.35996665046,
          81544.07395185171,
          100000
         ],
         "xaxis": "x",
         "y": [
          3.563443157708031,
          3.5637956630443814,
          3.5641592172351046,
          3.5645344492160436,
          3.5649241041016944,
          3.565333385678852,
          3.565770220762733,
          3.566245490995705,
          3.56677328983824,
          3.5673712634170758,
          3.568061088256263,
          3.5688691318258434,
          3.569827337045658,
          3.570974371260645,
          3.5723570841914865,
          3.5740323275430144,
          3.57606920064998,
          3.5785518010689357,
          3.5815825757772806,
          3.5852863869457186,
          3.5898154251104133,
          3.5953551202298515,
          3.6021312143857176,
          3.6104181631311953,
          3.620549015981366,
          3.6329268740646943,
          3.6480379083538814,
          3.666465704665927,
          3.6889063224134553,
          3.7161828325587463,
          3.749257140756061,
          3.789235516411843,
          3.837362410778378,
          3.8949949879371975,
          3.9635487366071858,
          4.044403438182204,
          4.13875997965124,
          4.247443635826855,
          4.3706597650909425,
          4.5077232091336565,
          4.656800343936122,
          4.814717022518923,
          4.976889235287375,
          5.137420413459274,
          5.289379654541229,
          5.425236105696967,
          5.537389262535149,
          5.618715784947576,
          5.6630568005862845,
          5.66559237133978,
          5.623081546697102,
          5.533975306350208,
          5.398427301752948,
          5.218231150670702,
          4.996705992702228,
          4.738539997249993,
          4.449590793161457,
          4.136636899951961,
          3.8070769809485325,
          3.468583064253926,
          3.128726431878921,
          2.7946060986427477,
          2.472515538682949,
          2.1676813831934028,
          1.8840986386042304,
          1.6244730690901954,
          1.3902661824456726,
          1.1818250592615618,
          0.99857054972625,
          0.8392143230721751,
          0.7019776037154221,
          0.5847906251572214,
          0.4854597281045835,
          0.4017966260483545,
          0.33171034193122434,
          0.27326617999220504,
          0.22471797359424664,
          0.18452022276646127,
          0.1513261656305763,
          0.1239767976856656
         ],
         "yaxis": "y"
        },
        {
         "hovertemplate": "variable=s1^3<br>alphas=%{x}<br>value=%{y}<extra></extra>",
         "legendgroup": "s1^3",
         "line": {
          "color": "#FFA15A",
          "dash": "solid"
         },
         "mode": "lines",
         "name": "s1^3",
         "showlegend": true,
         "type": "scattergl",
         "x": [
          0.01,
          0.012263306841775632,
          0.015038869469554102,
          0.018442627085855347,
          0.022616759492228647,
          0.02773562614198415,
          0.03401304938279251,
          0.04171124612056518,
          0.051151780992931425,
          0.06272899858196247,
          0.07692649574879142,
          0.09433732216299774,
          0.1156887528316282,
          0.1418726674116596,
          0.1739828052930364,
          0.21336045265014109,
          0.2616504698748821,
          0.320869999737045,
          0.39349272630958493,
          0.48255220427412787,
          0.5917685748188825,
          0.7257039612324212,
          0.8899530352885229,
          1.0913767146512738,
          1.3383887531737564,
          1.6413071953751284,
          2.0127853758499383,
          2.4683404670686486,
          3.0270016537634614,
          3.7121050090663608,
          4.55226827550731,
          5.582586268862695,
          6.846096838574658,
          8.395578619995112,
          10.295755673125127,
          12.626001098748565,
          15.48365256585499,
          18.988078244652634,
          23.285662984981965,
          28.55592301990109,
          35.019004614317126,
          42.944879887892725,
          52.66462393484275,
          64.58424430196978,
          79.20164050192548,
          97.12740198471168,
          119.11031332830079,
          146.06863203649888,
          179.1284454622002,
          219.67070907932353,
          269.388930959017,
          330.35991201283395,
          405.1304969235378,
          496.8239594734388,
          609.2704661368674,
          747.1670675868082,
          916.2739011886731,
          1123.6548001387516,
          1377.9723598335568,
          1689.8497868124587,
          2072.3146452190294,
          2541.343036702639,
          3116.52694492943,
          3821.8926206331225,
          4686.904192314192,
          5747.694424835347,
          7048.574036451903,
          8643.882620598262,
          10600.258488068825,
          12999.42224413245,
          15941.590374559995,
          19549.661430912594,
          23974.349678010785,
          29400.480643347077,
          36054.71154250506,
          44214.99907374487,
          54222.21006501592,
          66494.35996665046,
          81544.07395185171,
          100000
         ],
         "xaxis": "x",
         "y": [
          13.234175099688121,
          13.210714468579127,
          13.187957107751574,
          13.166225890424549,
          13.145744058450449,
          13.126624598158111,
          13.108870822411063,
          13.092385156984806,
          13.076982285877255,
          13.062403000395573,
          13.048325920229969,
          13.03437527706211,
          13.02012386031947,
          13.005090872367054,
          12.988734809755247,
          12.970441635042745,
          12.949508512649864,
          12.925123331826896,
          12.896340196495073,
          12.862051079139588,
          12.820953960241233,
          12.771518050084696,
          12.711947161436617,
          12.640143015015418,
          12.553671254001571,
          12.449734238347432,
          12.325156262306455,
          12.176388596588877,
          11.999543500635347,
          11.790467737654774,
          11.54486663799482,
          11.258488697864557,
          10.927377247058685,
          10.548189091010366,
          10.118569832460881,
          9.637562290353118,
          9.106009898527354,
          8.526904465473796,
          7.905621248906428,
          7.249987299909294,
          6.570142588548452,
          5.878175850493984,
          5.187544788792389,
          4.512319319585242,
          3.8663135482772466,
          3.2621935283817134,
          2.710659038096761,
          2.219793907068301,
          1.7946585108362934,
          1.4371622516364477,
          1.1462103406050959,
          0.9180780722721272,
          0.7469370686074379,
          0.625448615548591,
          0.545350564007189,
          0.4979908881771468,
          0.474791919430195,
          0.467651970488197,
          0.46929689523708473,
          0.47358275522303744,
          0.4757308483022319,
          0.47246150538597054,
          0.4619946020525592,
          0.44390522206892746,
          0.41885446523558423,
          0.3882441220481452,
          0.35385773778676,
          0.3175452613977997,
          0.280988633522975,
          0.2455607857187843,
          0.2122694967002957,
          0.18176517747543658,
          0.15438819803259501,
          0.13023423587224042,
          0.10922199567049976,
          0.09115387347285384,
          0.0757652304325231,
          0.06276141511216166,
          0.051843657289671614,
          0.042725831728814924
         ],
         "yaxis": "y"
        },
        {
         "hovertemplate": "variable=s2^3<br>alphas=%{x}<br>value=%{y}<extra></extra>",
         "legendgroup": "s2^3",
         "line": {
          "color": "#19d3f3",
          "dash": "solid"
         },
         "mode": "lines",
         "name": "s2^3",
         "showlegend": true,
         "type": "scattergl",
         "x": [
          0.01,
          0.012263306841775632,
          0.015038869469554102,
          0.018442627085855347,
          0.022616759492228647,
          0.02773562614198415,
          0.03401304938279251,
          0.04171124612056518,
          0.051151780992931425,
          0.06272899858196247,
          0.07692649574879142,
          0.09433732216299774,
          0.1156887528316282,
          0.1418726674116596,
          0.1739828052930364,
          0.21336045265014109,
          0.2616504698748821,
          0.320869999737045,
          0.39349272630958493,
          0.48255220427412787,
          0.5917685748188825,
          0.7257039612324212,
          0.8899530352885229,
          1.0913767146512738,
          1.3383887531737564,
          1.6413071953751284,
          2.0127853758499383,
          2.4683404670686486,
          3.0270016537634614,
          3.7121050090663608,
          4.55226827550731,
          5.582586268862695,
          6.846096838574658,
          8.395578619995112,
          10.295755673125127,
          12.626001098748565,
          15.48365256585499,
          18.988078244652634,
          23.285662984981965,
          28.55592301990109,
          35.019004614317126,
          42.944879887892725,
          52.66462393484275,
          64.58424430196978,
          79.20164050192548,
          97.12740198471168,
          119.11031332830079,
          146.06863203649888,
          179.1284454622002,
          219.67070907932353,
          269.388930959017,
          330.35991201283395,
          405.1304969235378,
          496.8239594734388,
          609.2704661368674,
          747.1670675868082,
          916.2739011886731,
          1123.6548001387516,
          1377.9723598335568,
          1689.8497868124587,
          2072.3146452190294,
          2541.343036702639,
          3116.52694492943,
          3821.8926206331225,
          4686.904192314192,
          5747.694424835347,
          7048.574036451903,
          8643.882620598262,
          10600.258488068825,
          12999.42224413245,
          15941.590374559995,
          19549.661430912594,
          23974.349678010785,
          29400.480643347077,
          36054.71154250506,
          44214.99907374487,
          54222.21006501592,
          66494.35996665046,
          81544.07395185171,
          100000
         ],
         "xaxis": "x",
         "y": [
          -12.379883657357059,
          -12.357939219917498,
          -12.336679723249702,
          -12.316414056961365,
          -12.297358700625306,
          -12.279628018692984,
          -12.263235152160222,
          -12.248100700479574,
          -12.234065597989815,
          -12.220904772359948,
          -12.208338951958284,
          -12.196042956874505,
          -12.183649671427837,
          -12.170749515617093,
          -12.1568855936578,
          -12.14154485356483,
          -12.124145620700475,
          -12.104021845512046,
          -12.080404393509623,
          -12.052399753084996,
          -12.018966684073687,
          -11.97889161157239,
          -11.930764015188466,
          -11.872953694777157,
          -11.803592613066739,
          -11.720564993843498,
          -11.621510410312728,
          -11.503845579645512,
          -11.364811249930995,
          -11.201550602739538,
          -11.011224607200102,
          -10.791167327536389,
          -10.539079920556402,
          -10.253255742717487,
          -9.932820786695066,
          -9.577964459653602,
          -9.190127363631564,
          -8.77210806082086,
          -8.328052930696066,
          -7.863304341959896,
          -7.384102389758379,
          -6.897161426600354,
          -6.409169274276586,
          -5.926278139765801,
          -5.453666052532414,
          -4.99524164447382,
          -4.553541550087041,
          -4.129831620314913,
          -3.724379705581294,
          -3.336832537585463,
          -2.966614405429469,
          -2.613274961647116,
          -2.27674082311671,
          -1.957456675435813,
          -1.6564230993224567,
          -1.3751448468316065,
          -1.1154991528916227,
          -0.8795293230442882,
          -0.6691738428747408,
          -0.4859579257868193,
          -0.33069569998275383,
          -0.20326428533306515,
          -0.1025048310548443,
          -0.026278269802474268,
          0.02833568699488838,
          0.06474336788625343,
          0.08651135100672631,
          0.09707247557807384,
          0.09950625298354336,
          0.09641016645715875,
          0.0898557145283515,
          0.08140927688859882,
          0.07219347404017434,
          0.06296706895195198,
          0.05420717773792216,
          0.04618383115491753,
          0.03902215928015786,
          0.03275110103002707,
          0.027339658947431303,
          0.022722696431781802
         ],
         "yaxis": "y"
        },
        {
         "hovertemplate": "variable=s3^3<br>alphas=%{x}<br>value=%{y}<extra></extra>",
         "legendgroup": "s3^3",
         "line": {
          "color": "#FF6692",
          "dash": "solid"
         },
         "mode": "lines",
         "name": "s3^3",
         "showlegend": true,
         "type": "scattergl",
         "x": [
          0.01,
          0.012263306841775632,
          0.015038869469554102,
          0.018442627085855347,
          0.022616759492228647,
          0.02773562614198415,
          0.03401304938279251,
          0.04171124612056518,
          0.051151780992931425,
          0.06272899858196247,
          0.07692649574879142,
          0.09433732216299774,
          0.1156887528316282,
          0.1418726674116596,
          0.1739828052930364,
          0.21336045265014109,
          0.2616504698748821,
          0.320869999737045,
          0.39349272630958493,
          0.48255220427412787,
          0.5917685748188825,
          0.7257039612324212,
          0.8899530352885229,
          1.0913767146512738,
          1.3383887531737564,
          1.6413071953751284,
          2.0127853758499383,
          2.4683404670686486,
          3.0270016537634614,
          3.7121050090663608,
          4.55226827550731,
          5.582586268862695,
          6.846096838574658,
          8.395578619995112,
          10.295755673125127,
          12.626001098748565,
          15.48365256585499,
          18.988078244652634,
          23.285662984981965,
          28.55592301990109,
          35.019004614317126,
          42.944879887892725,
          52.66462393484275,
          64.58424430196978,
          79.20164050192548,
          97.12740198471168,
          119.11031332830079,
          146.06863203649888,
          179.1284454622002,
          219.67070907932353,
          269.388930959017,
          330.35991201283395,
          405.1304969235378,
          496.8239594734388,
          609.2704661368674,
          747.1670675868082,
          916.2739011886731,
          1123.6548001387516,
          1377.9723598335568,
          1689.8497868124587,
          2072.3146452190294,
          2541.343036702639,
          3116.52694492943,
          3821.8926206331225,
          4686.904192314192,
          5747.694424835347,
          7048.574036451903,
          8643.882620598262,
          10600.258488068825,
          12999.42224413245,
          15941.590374559995,
          19549.661430912594,
          23974.349678010785,
          29400.480643347077,
          36054.71154250506,
          44214.99907374487,
          54222.21006501592,
          66494.35996665046,
          81544.07395185171,
          100000
         ],
         "xaxis": "x",
         "y": [
          3.458682721546833,
          3.4703979500909505,
          3.4815384487254004,
          3.491886395654322,
          3.5012673851083207,
          3.5095538786070564,
          3.516662146155712,
          3.522544201485481,
          3.5271766668583253,
          3.5305483763727383,
          3.5326480570087955,
          3.533452847075591,
          3.532917890623405,
          3.5309668649000043,
          3.527483068241123,
          3.522300592423953,
          3.515195090368384,
          3.50587369682875,
          3.4939637491703057,
          3.4790000849895275,
          3.460410874779542,
          3.43750220538451,
          3.4094419992208236,
          3.3752443794387776,
          3.3337563192931,
          3.283649381608472,
          3.223420562506541,
          3.1514076255962356,
          3.0658256308680074,
          2.9648321920581915,
          2.846628623982403,
          2.7096015866666434,
          2.5525040270678097,
          2.3746644551084666,
          2.1762002841055588,
          1.9581965619064505,
          1.7228009536513582,
          1.4731863320783345,
          1.2133502823649895,
          0.9477579426583234,
          0.680883669995966,
          0.4167512727262539,
          0.15859113675163816,
          -0.09128888651156382,
          -0.33138154974407036,
          -0.5606474772189991,
          -0.7780774837264406,
          -0.9822846265384245,
          -1.1712444591507996,
          -1.3422511454252959,
          -1.4920934225335087,
          -1.617399721174885,
          -1.7150696184585557,
          -1.782702085254947,
          -1.8189445870624912,
          -1.8237125391116218,
          -1.798257765436349,
          -1.7450913118277676,
          -1.6677862052772328,
          -1.5706974853896583,
          -1.458640008065863,
          -1.3365610626630848,
          -1.209237888387955,
          -1.0810225855012323,
          -0.9556499827636568,
          -0.8361173801894828,
          -0.7246378734348745,
          -0.6226611691044731,
          -0.5309486568018714,
          -0.4496847634513625,
          -0.37860541028486056,
          -0.31712661447194057,
          -0.26446076572561256,
          -0.21971332472847788,
          -0.18195735983203692,
          -0.15028676146936654,
          -0.12385100532531172,
          -0.10187518980506952,
          -0.08366910887781738,
          -0.06862868867418084
         ],
         "yaxis": "y"
        },
        {
         "hovertemplate": "variable=s4^3<br>alphas=%{x}<br>value=%{y}<extra></extra>",
         "legendgroup": "s4^3",
         "line": {
          "color": "#B6E880",
          "dash": "solid"
         },
         "mode": "lines",
         "name": "s4^3",
         "showlegend": true,
         "type": "scattergl",
         "x": [
          0.01,
          0.012263306841775632,
          0.015038869469554102,
          0.018442627085855347,
          0.022616759492228647,
          0.02773562614198415,
          0.03401304938279251,
          0.04171124612056518,
          0.051151780992931425,
          0.06272899858196247,
          0.07692649574879142,
          0.09433732216299774,
          0.1156887528316282,
          0.1418726674116596,
          0.1739828052930364,
          0.21336045265014109,
          0.2616504698748821,
          0.320869999737045,
          0.39349272630958493,
          0.48255220427412787,
          0.5917685748188825,
          0.7257039612324212,
          0.8899530352885229,
          1.0913767146512738,
          1.3383887531737564,
          1.6413071953751284,
          2.0127853758499383,
          2.4683404670686486,
          3.0270016537634614,
          3.7121050090663608,
          4.55226827550731,
          5.582586268862695,
          6.846096838574658,
          8.395578619995112,
          10.295755673125127,
          12.626001098748565,
          15.48365256585499,
          18.988078244652634,
          23.285662984981965,
          28.55592301990109,
          35.019004614317126,
          42.944879887892725,
          52.66462393484275,
          64.58424430196978,
          79.20164050192548,
          97.12740198471168,
          119.11031332830079,
          146.06863203649888,
          179.1284454622002,
          219.67070907932353,
          269.388930959017,
          330.35991201283395,
          405.1304969235378,
          496.8239594734388,
          609.2704661368674,
          747.1670675868082,
          916.2739011886731,
          1123.6548001387516,
          1377.9723598335568,
          1689.8497868124587,
          2072.3146452190294,
          2541.343036702639,
          3116.52694492943,
          3821.8926206331225,
          4686.904192314192,
          5747.694424835347,
          7048.574036451903,
          8643.882620598262,
          10600.258488068825,
          12999.42224413245,
          15941.590374559995,
          19549.661430912594,
          23974.349678010785,
          29400.480643347077,
          36054.71154250506,
          44214.99907374487,
          54222.21006501592,
          66494.35996665046,
          81544.07395185171,
          100000
         ],
         "xaxis": "x",
         "y": [
          -0.8507505637106173,
          -0.8208919417535677,
          -0.7922463536614606,
          -0.7653051899279624,
          -0.7404420248740525,
          -0.7179017181725067,
          -0.6978050717808629,
          -0.6801652107989475,
          -0.6649107669051088,
          -0.6519112274464844,
          -0.6410009405860277,
          -0.6319996606968132,
          -0.6247287626374943,
          -0.619023148977093,
          -0.6147393925871506,
          -0.611760865132134,
          -0.6100005961145407,
          -0.6094024740695653,
          -0.6099412031322979,
          -0.6116212010461515,
          -0.6144743864494515,
          -0.6185565618459554,
          -0.6239418614526454,
          -0.6307145164170621,
          -0.6389570277084896,
          -0.6487337877542619,
          -0.6600693391196573,
          -0.6729208989403505,
          -0.6871455897721085,
          -0.7024640072705043,
          -0.7184231915322267,
          -0.7343634377639151,
          -0.7493942083115734,
          -0.7623841913068251,
          -0.7719690144350145,
          -0.7765775019446217,
          -0.7744745766671495,
          -0.7638173904429176,
          -0.7427223128683773,
          -0.7093441460358183,
          -0.6619734804869912,
          -0.5991598488444602,
          -0.5198638114588973,
          -0.42362973375016183,
          -0.31075654794407526,
          -0.18243294298317486,
          -0.04080214454392482,
          0.11106846547016756,
          0.26931924507867505,
          0.4295173442121035,
          0.5869317207897689,
          0.7368244830606464,
          0.874720732245013,
          0.9966300314264815,
          1.099208851185135,
          1.1798693481072353,
          1.2368502996946935,
          1.2692675313496269,
          1.2771533234426191,
          1.261480117854098,
          1.2241494833990627,
          1.167920264889871,
          1.0962557129561916,
          1.0130881788010226,
          0.9225248219599501,
          0.8285379347860812,
          0.7346899830419071,
          0.6439340054877037,
          0.558509608951143,
          0.4799321962568081,
          0.40905596118826754,
          0.3461831730984466,
          0.2911927188360011,
          0.24366668937363603,
          0.20300153829908038,
          0.16849747524083777,
          0.13942504700304914,
          0.11507108268280172,
          0.09476768741369485,
          0.07790830295291067
         ],
         "yaxis": "y"
        },
        {
         "hovertemplate": "variable=s5^3<br>alphas=%{x}<br>value=%{y}<extra></extra>",
         "legendgroup": "s5^3",
         "line": {
          "color": "#FF97FF",
          "dash": "solid"
         },
         "mode": "lines",
         "name": "s5^3",
         "showlegend": true,
         "type": "scattergl",
         "x": [
          0.01,
          0.012263306841775632,
          0.015038869469554102,
          0.018442627085855347,
          0.022616759492228647,
          0.02773562614198415,
          0.03401304938279251,
          0.04171124612056518,
          0.051151780992931425,
          0.06272899858196247,
          0.07692649574879142,
          0.09433732216299774,
          0.1156887528316282,
          0.1418726674116596,
          0.1739828052930364,
          0.21336045265014109,
          0.2616504698748821,
          0.320869999737045,
          0.39349272630958493,
          0.48255220427412787,
          0.5917685748188825,
          0.7257039612324212,
          0.8899530352885229,
          1.0913767146512738,
          1.3383887531737564,
          1.6413071953751284,
          2.0127853758499383,
          2.4683404670686486,
          3.0270016537634614,
          3.7121050090663608,
          4.55226827550731,
          5.582586268862695,
          6.846096838574658,
          8.395578619995112,
          10.295755673125127,
          12.626001098748565,
          15.48365256585499,
          18.988078244652634,
          23.285662984981965,
          28.55592301990109,
          35.019004614317126,
          42.944879887892725,
          52.66462393484275,
          64.58424430196978,
          79.20164050192548,
          97.12740198471168,
          119.11031332830079,
          146.06863203649888,
          179.1284454622002,
          219.67070907932353,
          269.388930959017,
          330.35991201283395,
          405.1304969235378,
          496.8239594734388,
          609.2704661368674,
          747.1670675868082,
          916.2739011886731,
          1123.6548001387516,
          1377.9723598335568,
          1689.8497868124587,
          2072.3146452190294,
          2541.343036702639,
          3116.52694492943,
          3821.8926206331225,
          4686.904192314192,
          5747.694424835347,
          7048.574036451903,
          8643.882620598262,
          10600.258488068825,
          12999.42224413245,
          15941.590374559995,
          19549.661430912594,
          23974.349678010785,
          29400.480643347077,
          36054.71154250506,
          44214.99907374487,
          54222.21006501592,
          66494.35996665046,
          81544.07395185171,
          100000
         ],
         "xaxis": "x",
         "y": [
          -29.421900365518578,
          -27.817526499333592,
          -26.27658649941385,
          -24.82504352435686,
          -23.482481896680053,
          -22.26150766391468,
          -21.167978176423397,
          -20.201855015320508,
          -19.358416206175026,
          -18.62957881145344,
          -18.005143290941604,
          -17.473845633836593,
          -17.02416999104672,
          -16.64492274834813,
          -16.325597268298417,
          -16.056570591849948,
          -15.829174547353308,
          -15.635678821034427,
          -15.46921616039152,
          -15.323672225756177,
          -15.193555831318792,
          -15.073859882223468,
          -14.959919280786217,
          -14.847269325144609,
          -14.731506494825462,
          -14.608152876710205,
          -14.472525764488609,
          -14.31961517453285,
          -14.143974237643025,
          -13.939630756568748,
          -13.700032725461107,
          -13.418046168059664,
          -13.086029742794352,
          -12.69601596248314,
          -12.240031353578726,
          -11.710584054249999,
          -11.101333037210702,
          -10.407924596551327,
          -9.628938035527115,
          -8.766828666798045,
          -7.828705637697669,
          -6.8267554289988785,
          -5.778140713364174,
          -4.704279637757206,
          -3.629532136695032,
          -2.579453766465818,
          -1.5788784109056413,
          -0.6501235439429128,
          0.18843233379314162,
          0.9232490755761631,
          1.5459657063917422,
          2.053245875386312,
          2.446253692321139,
          2.729908741591759,
          2.9120588545854855,
          3.002676398736438,
          3.0131407348798387,
          2.955628332348395,
          2.8426024633769313,
          2.686380900051897,
          2.4987610788696952,
          2.2906920677786577,
          2.071994757303591,
          1.8511410425435384,
          1.6351067335502307,
          1.4293107197001178,
          1.237645169680337,
          1.0625904321399222,
          0.9053971795483694,
          0.7663106313405165,
          0.6448094383466182,
          0.5398349338520081,
          0.4499931723558194,
          0.3737200762782707,
          0.30940708312250204,
          0.25548982157202,
          0.2105053122640255,
          0.17312432535425842,
          0.14216539954570281,
          0.1165961911154559
         ],
         "yaxis": "y"
        },
        {
         "hovertemplate": "variable=s6^3<br>alphas=%{x}<br>value=%{y}<extra></extra>",
         "legendgroup": "s6^3",
         "line": {
          "color": "#FECB52",
          "dash": "solid"
         },
         "mode": "lines",
         "name": "s6^3",
         "showlegend": true,
         "type": "scattergl",
         "x": [
          0.01,
          0.012263306841775632,
          0.015038869469554102,
          0.018442627085855347,
          0.022616759492228647,
          0.02773562614198415,
          0.03401304938279251,
          0.04171124612056518,
          0.051151780992931425,
          0.06272899858196247,
          0.07692649574879142,
          0.09433732216299774,
          0.1156887528316282,
          0.1418726674116596,
          0.1739828052930364,
          0.21336045265014109,
          0.2616504698748821,
          0.320869999737045,
          0.39349272630958493,
          0.48255220427412787,
          0.5917685748188825,
          0.7257039612324212,
          0.8899530352885229,
          1.0913767146512738,
          1.3383887531737564,
          1.6413071953751284,
          2.0127853758499383,
          2.4683404670686486,
          3.0270016537634614,
          3.7121050090663608,
          4.55226827550731,
          5.582586268862695,
          6.846096838574658,
          8.395578619995112,
          10.295755673125127,
          12.626001098748565,
          15.48365256585499,
          18.988078244652634,
          23.285662984981965,
          28.55592301990109,
          35.019004614317126,
          42.944879887892725,
          52.66462393484275,
          64.58424430196978,
          79.20164050192548,
          97.12740198471168,
          119.11031332830079,
          146.06863203649888,
          179.1284454622002,
          219.67070907932353,
          269.388930959017,
          330.35991201283395,
          405.1304969235378,
          496.8239594734388,
          609.2704661368674,
          747.1670675868082,
          916.2739011886731,
          1123.6548001387516,
          1377.9723598335568,
          1689.8497868124587,
          2072.3146452190294,
          2541.343036702639,
          3116.52694492943,
          3821.8926206331225,
          4686.904192314192,
          5747.694424835347,
          7048.574036451903,
          8643.882620598262,
          10600.258488068825,
          12999.42224413245,
          15941.590374559995,
          19549.661430912594,
          23974.349678010785,
          29400.480643347077,
          36054.71154250506,
          44214.99907374487,
          54222.21006501592,
          66494.35996665046,
          81544.07395185171,
          100000
         ],
         "xaxis": "x",
         "y": [
          -1.268830070288804,
          -1.266782498013748,
          -1.264789376775428,
          -1.2628771257031848,
          -1.2610632668824882,
          -1.2593554378239347,
          -1.2577513521893535,
          -1.256239446176859,
          -1.2547998742811375,
          -1.2534055332039686,
          -1.2520228618944305,
          -1.25061225152448,
          -1.249127974604317,
          -1.24751759440384,
          -1.2457208426131083,
          -1.243667959198647,
          -1.2412774802319004,
          -1.2384534431629473,
          -1.235081959315614,
          -1.231027083666592,
          -1.2261258947373064,
          -1.2201826848724469,
          -1.2129621557371522,
          -1.2041815186867368,
          -1.1935014190600897,
          -1.1805156433837452,
          -1.1647396372032257,
          -1.1455979702306007,
          -1.1224110504812845,
          -1.0943816312197878,
          -1.0605820007250486,
          -1.0199432262875838,
          -0.9712484718266591,
          -0.913133247265861,
          -0.8440964814969328,
          -0.7625274961875843,
          -0.6667551419561711,
          -0.5551261600680332,
          -0.42611948787408493,
          -0.2785005341281199,
          -0.11151308645807564,
          0.07490405686080595,
          0.2799018325150792,
          0.5015444590203922,
          0.7367123488714433,
          0.981115246460767,
          1.2294249554088006,
          1.4755116733845348,
          1.7127497363815372,
          1.9343546566058862,
          2.1337225272516798,
          2.304757040920282,
          2.44217939143652,
          2.541817478143942,
          2.600864163071053,
          2.618084516287327,
          2.5939444210378064,
          2.5306318907086838,
          2.431950197341909,
          2.303077863661531,
          2.150211216036534,
          1.9801251381705591,
          1.7997016743945429,
          1.6154809551822433,
          1.4332838844495295,
          1.2579426285221647,
          1.0931562015041674,
          0.9414683800382904,
          0.8043480793267999,
          0.6823415302179643,
          0.5752624477077463,
          0.48238992311947126,
          0.40265149035396,
          0.33477783446928183,
          0.27742368589908933,
          0.22925538853038235,
          0.1890092129361043,
          0.15552607561872087,
          0.12776852390958715,
          0.10482524076002786
         ],
         "yaxis": "y"
        }
       ],
       "layout": {
        "legend": {
         "title": {
          "text": "variable"
         },
         "tracegroupgap": 0
        },
        "margin": {
         "t": 60
        },
        "template": {
         "data": {
          "bar": [
           {
            "error_x": {
             "color": "#2a3f5f"
            },
            "error_y": {
             "color": "#2a3f5f"
            },
            "marker": {
             "line": {
              "color": "#E5ECF6",
              "width": 0.5
             }
            },
            "type": "bar"
           }
          ],
          "barpolar": [
           {
            "marker": {
             "line": {
              "color": "#E5ECF6",
              "width": 0.5
             }
            },
            "type": "barpolar"
           }
          ],
          "carpet": [
           {
            "aaxis": {
             "endlinecolor": "#2a3f5f",
             "gridcolor": "white",
             "linecolor": "white",
             "minorgridcolor": "white",
             "startlinecolor": "#2a3f5f"
            },
            "baxis": {
             "endlinecolor": "#2a3f5f",
             "gridcolor": "white",
             "linecolor": "white",
             "minorgridcolor": "white",
             "startlinecolor": "#2a3f5f"
            },
            "type": "carpet"
           }
          ],
          "choropleth": [
           {
            "colorbar": {
             "outlinewidth": 0,
             "ticks": ""
            },
            "type": "choropleth"
           }
          ],
          "contour": [
           {
            "colorbar": {
             "outlinewidth": 0,
             "ticks": ""
            },
            "colorscale": [
             [
              0,
              "#0d0887"
             ],
             [
              0.1111111111111111,
              "#46039f"
             ],
             [
              0.2222222222222222,
              "#7201a8"
             ],
             [
              0.3333333333333333,
              "#9c179e"
             ],
             [
              0.4444444444444444,
              "#bd3786"
             ],
             [
              0.5555555555555556,
              "#d8576b"
             ],
             [
              0.6666666666666666,
              "#ed7953"
             ],
             [
              0.7777777777777778,
              "#fb9f3a"
             ],
             [
              0.8888888888888888,
              "#fdca26"
             ],
             [
              1,
              "#f0f921"
             ]
            ],
            "type": "contour"
           }
          ],
          "contourcarpet": [
           {
            "colorbar": {
             "outlinewidth": 0,
             "ticks": ""
            },
            "type": "contourcarpet"
           }
          ],
          "heatmap": [
           {
            "colorbar": {
             "outlinewidth": 0,
             "ticks": ""
            },
            "colorscale": [
             [
              0,
              "#0d0887"
             ],
             [
              0.1111111111111111,
              "#46039f"
             ],
             [
              0.2222222222222222,
              "#7201a8"
             ],
             [
              0.3333333333333333,
              "#9c179e"
             ],
             [
              0.4444444444444444,
              "#bd3786"
             ],
             [
              0.5555555555555556,
              "#d8576b"
             ],
             [
              0.6666666666666666,
              "#ed7953"
             ],
             [
              0.7777777777777778,
              "#fb9f3a"
             ],
             [
              0.8888888888888888,
              "#fdca26"
             ],
             [
              1,
              "#f0f921"
             ]
            ],
            "type": "heatmap"
           }
          ],
          "heatmapgl": [
           {
            "colorbar": {
             "outlinewidth": 0,
             "ticks": ""
            },
            "colorscale": [
             [
              0,
              "#0d0887"
             ],
             [
              0.1111111111111111,
              "#46039f"
             ],
             [
              0.2222222222222222,
              "#7201a8"
             ],
             [
              0.3333333333333333,
              "#9c179e"
             ],
             [
              0.4444444444444444,
              "#bd3786"
             ],
             [
              0.5555555555555556,
              "#d8576b"
             ],
             [
              0.6666666666666666,
              "#ed7953"
             ],
             [
              0.7777777777777778,
              "#fb9f3a"
             ],
             [
              0.8888888888888888,
              "#fdca26"
             ],
             [
              1,
              "#f0f921"
             ]
            ],
            "type": "heatmapgl"
           }
          ],
          "histogram": [
           {
            "marker": {
             "colorbar": {
              "outlinewidth": 0,
              "ticks": ""
             }
            },
            "type": "histogram"
           }
          ],
          "histogram2d": [
           {
            "colorbar": {
             "outlinewidth": 0,
             "ticks": ""
            },
            "colorscale": [
             [
              0,
              "#0d0887"
             ],
             [
              0.1111111111111111,
              "#46039f"
             ],
             [
              0.2222222222222222,
              "#7201a8"
             ],
             [
              0.3333333333333333,
              "#9c179e"
             ],
             [
              0.4444444444444444,
              "#bd3786"
             ],
             [
              0.5555555555555556,
              "#d8576b"
             ],
             [
              0.6666666666666666,
              "#ed7953"
             ],
             [
              0.7777777777777778,
              "#fb9f3a"
             ],
             [
              0.8888888888888888,
              "#fdca26"
             ],
             [
              1,
              "#f0f921"
             ]
            ],
            "type": "histogram2d"
           }
          ],
          "histogram2dcontour": [
           {
            "colorbar": {
             "outlinewidth": 0,
             "ticks": ""
            },
            "colorscale": [
             [
              0,
              "#0d0887"
             ],
             [
              0.1111111111111111,
              "#46039f"
             ],
             [
              0.2222222222222222,
              "#7201a8"
             ],
             [
              0.3333333333333333,
              "#9c179e"
             ],
             [
              0.4444444444444444,
              "#bd3786"
             ],
             [
              0.5555555555555556,
              "#d8576b"
             ],
             [
              0.6666666666666666,
              "#ed7953"
             ],
             [
              0.7777777777777778,
              "#fb9f3a"
             ],
             [
              0.8888888888888888,
              "#fdca26"
             ],
             [
              1,
              "#f0f921"
             ]
            ],
            "type": "histogram2dcontour"
           }
          ],
          "mesh3d": [
           {
            "colorbar": {
             "outlinewidth": 0,
             "ticks": ""
            },
            "type": "mesh3d"
           }
          ],
          "parcoords": [
           {
            "line": {
             "colorbar": {
              "outlinewidth": 0,
              "ticks": ""
             }
            },
            "type": "parcoords"
           }
          ],
          "pie": [
           {
            "automargin": true,
            "type": "pie"
           }
          ],
          "scatter": [
           {
            "marker": {
             "colorbar": {
              "outlinewidth": 0,
              "ticks": ""
             }
            },
            "type": "scatter"
           }
          ],
          "scatter3d": [
           {
            "line": {
             "colorbar": {
              "outlinewidth": 0,
              "ticks": ""
             }
            },
            "marker": {
             "colorbar": {
              "outlinewidth": 0,
              "ticks": ""
             }
            },
            "type": "scatter3d"
           }
          ],
          "scattercarpet": [
           {
            "marker": {
             "colorbar": {
              "outlinewidth": 0,
              "ticks": ""
             }
            },
            "type": "scattercarpet"
           }
          ],
          "scattergeo": [
           {
            "marker": {
             "colorbar": {
              "outlinewidth": 0,
              "ticks": ""
             }
            },
            "type": "scattergeo"
           }
          ],
          "scattergl": [
           {
            "marker": {
             "colorbar": {
              "outlinewidth": 0,
              "ticks": ""
             }
            },
            "type": "scattergl"
           }
          ],
          "scattermapbox": [
           {
            "marker": {
             "colorbar": {
              "outlinewidth": 0,
              "ticks": ""
             }
            },
            "type": "scattermapbox"
           }
          ],
          "scatterpolar": [
           {
            "marker": {
             "colorbar": {
              "outlinewidth": 0,
              "ticks": ""
             }
            },
            "type": "scatterpolar"
           }
          ],
          "scatterpolargl": [
           {
            "marker": {
             "colorbar": {
              "outlinewidth": 0,
              "ticks": ""
             }
            },
            "type": "scatterpolargl"
           }
          ],
          "scatterternary": [
           {
            "marker": {
             "colorbar": {
              "outlinewidth": 0,
              "ticks": ""
             }
            },
            "type": "scatterternary"
           }
          ],
          "surface": [
           {
            "colorbar": {
             "outlinewidth": 0,
             "ticks": ""
            },
            "colorscale": [
             [
              0,
              "#0d0887"
             ],
             [
              0.1111111111111111,
              "#46039f"
             ],
             [
              0.2222222222222222,
              "#7201a8"
             ],
             [
              0.3333333333333333,
              "#9c179e"
             ],
             [
              0.4444444444444444,
              "#bd3786"
             ],
             [
              0.5555555555555556,
              "#d8576b"
             ],
             [
              0.6666666666666666,
              "#ed7953"
             ],
             [
              0.7777777777777778,
              "#fb9f3a"
             ],
             [
              0.8888888888888888,
              "#fdca26"
             ],
             [
              1,
              "#f0f921"
             ]
            ],
            "type": "surface"
           }
          ],
          "table": [
           {
            "cells": {
             "fill": {
              "color": "#EBF0F8"
             },
             "line": {
              "color": "white"
             }
            },
            "header": {
             "fill": {
              "color": "#C8D4E3"
             },
             "line": {
              "color": "white"
             }
            },
            "type": "table"
           }
          ]
         },
         "layout": {
          "annotationdefaults": {
           "arrowcolor": "#2a3f5f",
           "arrowhead": 0,
           "arrowwidth": 1
          },
          "coloraxis": {
           "colorbar": {
            "outlinewidth": 0,
            "ticks": ""
           }
          },
          "colorscale": {
           "diverging": [
            [
             0,
             "#8e0152"
            ],
            [
             0.1,
             "#c51b7d"
            ],
            [
             0.2,
             "#de77ae"
            ],
            [
             0.3,
             "#f1b6da"
            ],
            [
             0.4,
             "#fde0ef"
            ],
            [
             0.5,
             "#f7f7f7"
            ],
            [
             0.6,
             "#e6f5d0"
            ],
            [
             0.7,
             "#b8e186"
            ],
            [
             0.8,
             "#7fbc41"
            ],
            [
             0.9,
             "#4d9221"
            ],
            [
             1,
             "#276419"
            ]
           ],
           "sequential": [
            [
             0,
             "#0d0887"
            ],
            [
             0.1111111111111111,
             "#46039f"
            ],
            [
             0.2222222222222222,
             "#7201a8"
            ],
            [
             0.3333333333333333,
             "#9c179e"
            ],
            [
             0.4444444444444444,
             "#bd3786"
            ],
            [
             0.5555555555555556,
             "#d8576b"
            ],
            [
             0.6666666666666666,
             "#ed7953"
            ],
            [
             0.7777777777777778,
             "#fb9f3a"
            ],
            [
             0.8888888888888888,
             "#fdca26"
            ],
            [
             1,
             "#f0f921"
            ]
           ],
           "sequentialminus": [
            [
             0,
             "#0d0887"
            ],
            [
             0.1111111111111111,
             "#46039f"
            ],
            [
             0.2222222222222222,
             "#7201a8"
            ],
            [
             0.3333333333333333,
             "#9c179e"
            ],
            [
             0.4444444444444444,
             "#bd3786"
            ],
            [
             0.5555555555555556,
             "#d8576b"
            ],
            [
             0.6666666666666666,
             "#ed7953"
            ],
            [
             0.7777777777777778,
             "#fb9f3a"
            ],
            [
             0.8888888888888888,
             "#fdca26"
            ],
            [
             1,
             "#f0f921"
            ]
           ]
          },
          "colorway": [
           "#636efa",
           "#EF553B",
           "#00cc96",
           "#ab63fa",
           "#FFA15A",
           "#19d3f3",
           "#FF6692",
           "#B6E880",
           "#FF97FF",
           "#FECB52"
          ],
          "font": {
           "color": "#2a3f5f"
          },
          "geo": {
           "bgcolor": "white",
           "lakecolor": "white",
           "landcolor": "#E5ECF6",
           "showlakes": true,
           "showland": true,
           "subunitcolor": "white"
          },
          "hoverlabel": {
           "align": "left"
          },
          "hovermode": "closest",
          "mapbox": {
           "style": "light"
          },
          "paper_bgcolor": "white",
          "plot_bgcolor": "#E5ECF6",
          "polar": {
           "angularaxis": {
            "gridcolor": "white",
            "linecolor": "white",
            "ticks": ""
           },
           "bgcolor": "#E5ECF6",
           "radialaxis": {
            "gridcolor": "white",
            "linecolor": "white",
            "ticks": ""
           }
          },
          "scene": {
           "xaxis": {
            "backgroundcolor": "#E5ECF6",
            "gridcolor": "white",
            "gridwidth": 2,
            "linecolor": "white",
            "showbackground": true,
            "ticks": "",
            "zerolinecolor": "white"
           },
           "yaxis": {
            "backgroundcolor": "#E5ECF6",
            "gridcolor": "white",
            "gridwidth": 2,
            "linecolor": "white",
            "showbackground": true,
            "ticks": "",
            "zerolinecolor": "white"
           },
           "zaxis": {
            "backgroundcolor": "#E5ECF6",
            "gridcolor": "white",
            "gridwidth": 2,
            "linecolor": "white",
            "showbackground": true,
            "ticks": "",
            "zerolinecolor": "white"
           }
          },
          "shapedefaults": {
           "line": {
            "color": "#2a3f5f"
           }
          },
          "ternary": {
           "aaxis": {
            "gridcolor": "white",
            "linecolor": "white",
            "ticks": ""
           },
           "baxis": {
            "gridcolor": "white",
            "linecolor": "white",
            "ticks": ""
           },
           "bgcolor": "#E5ECF6",
           "caxis": {
            "gridcolor": "white",
            "linecolor": "white",
            "ticks": ""
           }
          },
          "title": {
           "x": 0.05
          },
          "xaxis": {
           "automargin": true,
           "gridcolor": "white",
           "linecolor": "white",
           "ticks": "",
           "title": {
            "standoff": 15
           },
           "zerolinecolor": "white",
           "zerolinewidth": 2
          },
          "yaxis": {
           "automargin": true,
           "gridcolor": "white",
           "linecolor": "white",
           "ticks": "",
           "title": {
            "standoff": 15
           },
           "zerolinecolor": "white",
           "zerolinewidth": 2
          }
         }
        },
        "xaxis": {
         "anchor": "y",
         "domain": [
          0,
          1
         ],
         "title": {
          "text": "alphas"
         },
         "type": "log"
        },
        "yaxis": {
         "anchor": "x",
         "domain": [
          0,
          1
         ],
         "title": {
          "text": "value"
         }
        }
       }
      },
      "text/html": "<div>                            <div id=\"a4a605e1-08d1-4a76-ae60-a78f8b1f9623\" class=\"plotly-graph-div\" style=\"height:525px; width:100%;\"></div>            <script type=\"text/javascript\">                require([\"plotly\"], function(Plotly) {                    window.PLOTLYENV=window.PLOTLYENV || {};                                    if (document.getElementById(\"a4a605e1-08d1-4a76-ae60-a78f8b1f9623\")) {                    Plotly.newPlot(                        \"a4a605e1-08d1-4a76-ae60-a78f8b1f9623\",                        [{\"hovertemplate\": \"variable=age<br>alphas=%{x}<br>value=%{y}<extra></extra>\", \"legendgroup\": \"age\", \"line\": {\"color\": \"#636efa\", \"dash\": \"solid\"}, \"mode\": \"lines\", \"name\": \"age\", \"showlegend\": true, \"type\": \"scattergl\", \"x\": [0.01, 0.012263306841775632, 0.015038869469554102, 0.018442627085855347, 0.022616759492228647, 0.02773562614198415, 0.03401304938279251, 0.04171124612056518, 0.051151780992931425, 0.06272899858196247, 0.07692649574879142, 0.09433732216299774, 0.1156887528316282, 0.1418726674116596, 0.1739828052930364, 0.21336045265014109, 0.2616504698748821, 0.320869999737045, 0.39349272630958493, 0.48255220427412787, 0.5917685748188825, 0.7257039612324212, 0.8899530352885229, 1.0913767146512738, 1.3383887531737564, 1.6413071953751284, 2.0127853758499383, 2.4683404670686486, 3.0270016537634614, 3.7121050090663608, 4.55226827550731, 5.582586268862695, 6.846096838574658, 8.395578619995112, 10.295755673125127, 12.626001098748565, 15.48365256585499, 18.988078244652634, 23.285662984981965, 28.55592301990109, 35.019004614317126, 42.944879887892725, 52.66462393484275, 64.58424430196978, 79.20164050192548, 97.12740198471168, 119.11031332830079, 146.06863203649888, 179.1284454622002, 219.67070907932353, 269.388930959017, 330.35991201283395, 405.1304969235378, 496.8239594734388, 609.2704661368674, 747.1670675868082, 916.2739011886731, 1123.6548001387516, 1377.9723598335568, 1689.8497868124587, 2072.3146452190294, 2541.343036702639, 3116.52694492943, 3821.8926206331225, 4686.904192314192, 5747.694424835347, 7048.574036451903, 8643.882620598262, 10600.258488068825, 12999.42224413245, 15941.590374559995, 19549.661430912594, 23974.349678010785, 29400.480643347077, 36054.71154250506, 44214.99907374487, 54222.21006501592, 66494.35996665046, 81544.07395185171, 100000.0], \"xaxis\": \"x\", \"y\": [11.752556744597726, 11.763835233444674, 11.774532980843338, 11.784433320135461, 11.793360588836194, 11.801183215083588, 11.807810420094082, 11.8131839829694, 11.817266929624925, 11.820030880144543, 11.821443326932883, 11.821455545778903, 11.819991326364361, 11.81693632599613, 11.812127611334441, 11.805342831717004, 11.79628842772132, 11.784586288444668, 11.769758311451055, 11.75120838520435, 11.728201413411638, 11.699839155472702, 11.66503290192696, 11.6224733871417, 11.57059892599564, 11.50756361990732, 11.431208683194782, 11.339041543902603, 11.228229361576755, 11.095615841633547, 10.937772373601916, 10.751095962703834, 10.53196623371011, 10.276970791860496, 9.983201249316274, 9.64861052811704, 9.272405960530671, 8.85543427013626, 8.400497847851263, 7.912532673506136, 7.398582963281097, 6.867530327667565, 6.329575336609369, 5.795519685345227, 5.275944234576276, 4.780406369238087, 4.316777931888459, 3.8908113107867206, 3.505966992896466, 3.1634795803790814, 2.8625989668670844, 2.6009292842362295, 2.374799706288471, 2.179628496068815, 2.01027080496742, 1.8613590351565685, 1.7276454667144117, 1.6043421061031562, 1.48743147602532, 1.3739065452342805, 1.261897597761057, 1.1506606746608532, 1.0404304057414426, 0.9321690122649758, 0.8272628857064142, 0.7272228952687454, 0.6334349100848057, 0.5469881296579412, 0.4685877939430992, 0.39854178333903884, 0.3368007737983135, 0.28302913502090543, 0.23668667072740776, 0.19710689855448468, 0.16356354643922838, 0.13532189479185694, 0.11167499146099447, 0.09196667893687127, 0.07560415230275021, 0.062062818116352524], \"yaxis\": \"y\"}, {\"hovertemplate\": \"variable=sex<br>alphas=%{x}<br>value=%{y}<extra></extra>\", \"legendgroup\": \"sex\", \"line\": {\"color\": \"#EF553B\", \"dash\": \"solid\"}, \"mode\": \"lines\", \"name\": \"sex\", \"showlegend\": true, \"type\": \"scattergl\", \"x\": [0.01, 0.012263306841775632, 0.015038869469554102, 0.018442627085855347, 0.022616759492228647, 0.02773562614198415, 0.03401304938279251, 0.04171124612056518, 0.051151780992931425, 0.06272899858196247, 0.07692649574879142, 0.09433732216299774, 0.1156887528316282, 0.1418726674116596, 0.1739828052930364, 0.21336045265014109, 0.2616504698748821, 0.320869999737045, 0.39349272630958493, 0.48255220427412787, 0.5917685748188825, 0.7257039612324212, 0.8899530352885229, 1.0913767146512738, 1.3383887531737564, 1.6413071953751284, 2.0127853758499383, 2.4683404670686486, 3.0270016537634614, 3.7121050090663608, 4.55226827550731, 5.582586268862695, 6.846096838574658, 8.395578619995112, 10.295755673125127, 12.626001098748565, 15.48365256585499, 18.988078244652634, 23.285662984981965, 28.55592301990109, 35.019004614317126, 42.944879887892725, 52.66462393484275, 64.58424430196978, 79.20164050192548, 97.12740198471168, 119.11031332830079, 146.06863203649888, 179.1284454622002, 219.67070907932353, 269.388930959017, 330.35991201283395, 405.1304969235378, 496.8239594734388, 609.2704661368674, 747.1670675868082, 916.2739011886731, 1123.6548001387516, 1377.9723598335568, 1689.8497868124587, 2072.3146452190294, 2541.343036702639, 3116.52694492943, 3821.8926206331225, 4686.904192314192, 5747.694424835347, 7048.574036451903, 8643.882620598262, 10600.258488068825, 12999.42224413245, 15941.590374559995, 19549.661430912594, 23974.349678010785, 29400.480643347077, 36054.71154250506, 44214.99907374487, 54222.21006501592, 66494.35996665046, 81544.07395185171, 100000.0], \"xaxis\": \"x\", \"y\": [-3.9803343839405185, -3.976266398215988, -3.972352904313154, -3.9686581247416925, -3.9652299254038526, -3.962098244038859, -3.9592755912939444, -3.956759107046152, -3.9545335012098253, -3.952574246645732, -3.9508505435412307, -3.949327760383758, -3.9479692244051727, -3.9467373528881065, -3.9455941870250912, -3.9445014167089725, -3.9434199854797214, -3.942309347980461, -3.941126430140391, -3.9398243177821684, -3.9383506771357237, -3.9366458911005067, -3.934640878949283, -3.9322545542970393, -3.929390866960498, -3.92593536932835, -3.9217512482032695, -3.9166747705665284, -3.9105101087932086, -3.9030235405768074, -3.8939370648485445, -3.8829215412388076, -3.869589551094731, -3.8534882959290178, -3.8340929949907263, -3.8108014119797007, -3.782930315209892, -3.7497148227874524, -3.7103116541669876, -3.6638072430183155, -3.6092314212837096, -3.545576972253456, -3.471824872574008, -3.386974696986755, -3.290079694023756, -3.1802866551316913, -3.0568819145853214, -2.919346361353311, -2.767423591458324, -2.6012053222234788, -2.421235781461163, -2.228630979508315, -2.0251993263690724, -1.8135382832993838, -1.597071175741843, -1.3799845492180303, -1.1670354679635138, -0.9632228577200577, -0.7733536937793533, -0.601572180721988, -0.4509426829205026, -0.3231731639077519, -0.21853398214737554, -0.13597804757672485, -0.073420577595071, -0.028106177497119342, 0.003014971245942271, 0.022964508702593586, 0.034502519568460475, 0.039991482744258254, 0.04134530833573685, 0.04004080899537096, 0.03716720027700376, 0.03349295549978844, 0.029535313700254705, 0.025623651462302513, 0.021952608716267415, 0.01862400239652282, 0.015678356971384897, 0.013117694868564478], \"yaxis\": \"y\"}, {\"hovertemplate\": \"variable=bmi<br>alphas=%{x}<br>value=%{y}<extra></extra>\", \"legendgroup\": \"bmi\", \"line\": {\"color\": \"#00cc96\", \"dash\": \"solid\"}, \"mode\": \"lines\", \"name\": \"bmi\", \"showlegend\": true, \"type\": \"scattergl\", \"x\": [0.01, 0.012263306841775632, 0.015038869469554102, 0.018442627085855347, 0.022616759492228647, 0.02773562614198415, 0.03401304938279251, 0.04171124612056518, 0.051151780992931425, 0.06272899858196247, 0.07692649574879142, 0.09433732216299774, 0.1156887528316282, 0.1418726674116596, 0.1739828052930364, 0.21336045265014109, 0.2616504698748821, 0.320869999737045, 0.39349272630958493, 0.48255220427412787, 0.5917685748188825, 0.7257039612324212, 0.8899530352885229, 1.0913767146512738, 1.3383887531737564, 1.6413071953751284, 2.0127853758499383, 2.4683404670686486, 3.0270016537634614, 3.7121050090663608, 4.55226827550731, 5.582586268862695, 6.846096838574658, 8.395578619995112, 10.295755673125127, 12.626001098748565, 15.48365256585499, 18.988078244652634, 23.285662984981965, 28.55592301990109, 35.019004614317126, 42.944879887892725, 52.66462393484275, 64.58424430196978, 79.20164050192548, 97.12740198471168, 119.11031332830079, 146.06863203649888, 179.1284454622002, 219.67070907932353, 269.388930959017, 330.35991201283395, 405.1304969235378, 496.8239594734388, 609.2704661368674, 747.1670675868082, 916.2739011886731, 1123.6548001387516, 1377.9723598335568, 1689.8497868124587, 2072.3146452190294, 2541.343036702639, 3116.52694492943, 3821.8926206331225, 4686.904192314192, 5747.694424835347, 7048.574036451903, 8643.882620598262, 10600.258488068825, 12999.42224413245, 15941.590374559995, 19549.661430912594, 23974.349678010785, 29400.480643347077, 36054.71154250506, 44214.99907374487, 54222.21006501592, 66494.35996665046, 81544.07395185171, 100000.0], \"xaxis\": \"x\", \"y\": [21.25970827438217, 21.234443601324397, 21.210147518916244, 21.187221184546882, 21.165964432446973, 21.146566075059663, 21.129107131366037, 21.113573742124725, 21.09987561275469, 21.087866057494363, 21.077360657821956, 21.068152710439076, 21.060024676878246, 21.052755590961826, 21.046124809132976, 21.039912659339475, 21.033898539083697, 21.027856907492637, 21.021551464462643, 21.014727645743132, 21.007103403692213, 20.998358096863402, 20.988119180754605, 20.975946280528827, 20.961312141859313, 20.943579912482885, 20.921976226786843, 20.89555967826766, 20.863184503394596, 20.823459697311094, 20.774704363321963, 20.714900886886134, 20.641648551450373, 20.55212153249487, 20.443036896235853, 20.310640346435108, 20.15071992787649, 19.95866033786039, 19.729552118600196, 19.458369540194315, 19.140226839878256, 18.77071309267097, 18.346290491473496, 17.864720081460696, 17.325456761289754, 16.729938756842422, 16.08169512454326, 15.386216113550566, 14.650576798164984, 13.882865023892247, 13.091521136918697, 12.284726945688192, 11.469970304689397, 10.653860762337432, 9.842198083567446, 9.04022478427832, 8.25294925387719, 7.485419654607795, 6.742858391093745, 6.030618609488226, 5.353978705942001, 4.717831444423436, 4.126342393819244, 3.582648729975931, 3.088650946767652, 2.6449250896028733, 2.250758427657892, 1.904291232557515, 1.6027339170353385, 1.3426231998415814, 1.1200827307467969, 0.9310608226436821, 0.7715278280865981, 0.637625561834796, 0.5257691225129091, 0.4327066973219793, 0.35554553098684055, 0.2917528000057644, 0.23913939692218986, 0.1958332497611311], \"yaxis\": \"y\"}, {\"hovertemplate\": \"variable=bp<br>alphas=%{x}<br>value=%{y}<extra></extra>\", \"legendgroup\": \"bp\", \"line\": {\"color\": \"#ab63fa\", \"dash\": \"solid\"}, \"mode\": \"lines\", \"name\": \"bp\", \"showlegend\": true, \"type\": \"scattergl\", \"x\": [0.01, 0.012263306841775632, 0.015038869469554102, 0.018442627085855347, 0.022616759492228647, 0.02773562614198415, 0.03401304938279251, 0.04171124612056518, 0.051151780992931425, 0.06272899858196247, 0.07692649574879142, 0.09433732216299774, 0.1156887528316282, 0.1418726674116596, 0.1739828052930364, 0.21336045265014109, 0.2616504698748821, 0.320869999737045, 0.39349272630958493, 0.48255220427412787, 0.5917685748188825, 0.7257039612324212, 0.8899530352885229, 1.0913767146512738, 1.3383887531737564, 1.6413071953751284, 2.0127853758499383, 2.4683404670686486, 3.0270016537634614, 3.7121050090663608, 4.55226827550731, 5.582586268862695, 6.846096838574658, 8.395578619995112, 10.295755673125127, 12.626001098748565, 15.48365256585499, 18.988078244652634, 23.285662984981965, 28.55592301990109, 35.019004614317126, 42.944879887892725, 52.66462393484275, 64.58424430196978, 79.20164050192548, 97.12740198471168, 119.11031332830079, 146.06863203649888, 179.1284454622002, 219.67070907932353, 269.388930959017, 330.35991201283395, 405.1304969235378, 496.8239594734388, 609.2704661368674, 747.1670675868082, 916.2739011886731, 1123.6548001387516, 1377.9723598335568, 1689.8497868124587, 2072.3146452190294, 2541.343036702639, 3116.52694492943, 3821.8926206331225, 4686.904192314192, 5747.694424835347, 7048.574036451903, 8643.882620598262, 10600.258488068825, 12999.42224413245, 15941.590374559995, 19549.661430912594, 23974.349678010785, 29400.480643347077, 36054.71154250506, 44214.99907374487, 54222.21006501592, 66494.35996665046, 81544.07395185171, 100000.0], \"xaxis\": \"x\", \"y\": [12.782416139060388, 12.779331756720872, 12.776340173335152, 12.773483913378247, 12.770792404322364, 12.768280578293218, 12.765948946145265, 12.763784748104928, 12.761763673633531, 12.75985166734371, 12.758006444840207, 12.756178474937203, 12.754311301457857, 12.752341158842983, 12.750195878219358, 12.747793091031665, 12.745037725435706, 12.74181876520273, 12.738005208408747, 12.733441127911458, 12.727939700199496, 12.721276035643209, 12.713178613854314, 12.703319106596862, 12.69130036408104, 12.676642359621074, 12.658765950557092, 12.636974448067702, 12.6104332366753, 12.578148103988331, 12.53894360610445, 12.491443781980221, 12.434058891212747, 12.364983541176697, 12.282213348336397, 12.1835885701662, 12.066872953904655, 11.929873054122403, 11.770596267580135, 11.587434605419576, 11.379347610276389, 11.146006306567134, 10.887856925617202, 10.606073739561587, 10.302395375927633, 9.978872059312259, 9.637580122820182, 9.28037232888978, 8.908722090326082, 8.523690949857336, 8.126014091352086, 7.716271804874278, 7.295103439669354, 6.863423571725127, 6.422610921455872, 5.974651181554472, 5.522221014905612, 5.068702452820394, 4.618118374127148, 4.174984655611973, 3.7440847176665306, 3.3301859563036227, 2.93773077489756, 2.5705429026510016, 2.2315892736727583, 1.9228285050940694, 1.645161244600813, 1.3984795519255269, 1.1817967382033616, 0.9934293258083747, 0.8312003840692793, 0.6926374365155618, 0.5751458836185018, 0.47614761713711823, 0.3931820826595088, 0.3239724070073794, 0.26646221220142224, 0.21882981801225537, 0.17948632214094926, 0.14706313154567496], \"yaxis\": \"y\"}, {\"hovertemplate\": \"variable=s1<br>alphas=%{x}<br>value=%{y}<extra></extra>\", \"legendgroup\": \"s1\", \"line\": {\"color\": \"#FFA15A\", \"dash\": \"solid\"}, \"mode\": \"lines\", \"name\": \"s1\", \"showlegend\": true, \"type\": \"scattergl\", \"x\": [0.01, 0.012263306841775632, 0.015038869469554102, 0.018442627085855347, 0.022616759492228647, 0.02773562614198415, 0.03401304938279251, 0.04171124612056518, 0.051151780992931425, 0.06272899858196247, 0.07692649574879142, 0.09433732216299774, 0.1156887528316282, 0.1418726674116596, 0.1739828052930364, 0.21336045265014109, 0.2616504698748821, 0.320869999737045, 0.39349272630958493, 0.48255220427412787, 0.5917685748188825, 0.7257039612324212, 0.8899530352885229, 1.0913767146512738, 1.3383887531737564, 1.6413071953751284, 2.0127853758499383, 2.4683404670686486, 3.0270016537634614, 3.7121050090663608, 4.55226827550731, 5.582586268862695, 6.846096838574658, 8.395578619995112, 10.295755673125127, 12.626001098748565, 15.48365256585499, 18.988078244652634, 23.285662984981965, 28.55592301990109, 35.019004614317126, 42.944879887892725, 52.66462393484275, 64.58424430196978, 79.20164050192548, 97.12740198471168, 119.11031332830079, 146.06863203649888, 179.1284454622002, 219.67070907932353, 269.388930959017, 330.35991201283395, 405.1304969235378, 496.8239594734388, 609.2704661368674, 747.1670675868082, 916.2739011886731, 1123.6548001387516, 1377.9723598335568, 1689.8497868124587, 2072.3146452190294, 2541.343036702639, 3116.52694492943, 3821.8926206331225, 4686.904192314192, 5747.694424835347, 7048.574036451903, 8643.882620598262, 10600.258488068825, 12999.42224413245, 15941.590374559995, 19549.661430912594, 23974.349678010785, 29400.480643347077, 36054.71154250506, 44214.99907374487, 54222.21006501592, 66494.35996665046, 81544.07395185171, 100000.0], \"xaxis\": \"x\", \"y\": [224.40431788443206, 199.24484202438245, 175.08298793210298, 152.32663057115445, 131.2836949846191, 112.152780071177, 95.02679470812615, 79.90638101429546, 66.71898367468435, 55.339662407576164, 45.61069104975107, 37.358157843932524, 30.40482893831874, 24.579294199327634, 19.721859047034602, 15.687836204626034, 12.34891042442035, 9.593173560383487, 7.324312602039144, 5.460314099776869, 3.9319427228498665, 2.6811663379713138, 1.659635441747804, 0.8272784245361525, 0.15104233357547425, -0.39621208477730235, -0.836665360342324, -1.188356294713771, -1.4658770911878982, -1.6809644282833176, -1.843004241397384, -1.959466488008221, -2.0362833264799867, -2.0781800561142476, -2.088963269937442, -2.071765899053254, -2.0292456239990244, -1.9637330893531015, -1.877330490795737, -1.7719689245626757, -1.6494418349809277, -1.5114376958210891, -1.3595934256685025, -1.195579198578803, -1.0212079824398377, -0.8385462363031307, -0.6499937972746819, -0.458305897921443, -0.266546945375471, -0.07798672070912929, 0.10403443845948962, 0.27624064644843405, 0.43553284422872307, 0.5790712432817099, 0.7043365248390067, 0.8091887036364439, 0.8919434393755536, 0.9514765605906976, 0.9873510943330451, 0.9999424056986802, 0.9905233044595974, 0.9612690532453769, 0.9151554881792934, 0.8557491904180163, 0.7869180313798048, 0.7125122188905232, 0.6360720049389679, 0.5606073376921977, 0.4884728275238461, 0.4213375965838272, 0.3602316238908138, 0.3056415885438869, 0.25762923281571587, 0.2159507902437796, 0.18016358020246181, 0.14971292247244838, 0.12399781038811801, 0.10241705363796047, 0.08439918762075982, 0.06941986562483261], \"yaxis\": \"y\"}, {\"hovertemplate\": \"variable=s2<br>alphas=%{x}<br>value=%{y}<extra></extra>\", \"legendgroup\": \"s2\", \"line\": {\"color\": \"#19d3f3\", \"dash\": \"solid\"}, \"mode\": \"lines\", \"name\": \"s2\", \"showlegend\": true, \"type\": \"scattergl\", \"x\": [0.01, 0.012263306841775632, 0.015038869469554102, 0.018442627085855347, 0.022616759492228647, 0.02773562614198415, 0.03401304938279251, 0.04171124612056518, 0.051151780992931425, 0.06272899858196247, 0.07692649574879142, 0.09433732216299774, 0.1156887528316282, 0.1418726674116596, 0.1739828052930364, 0.21336045265014109, 0.2616504698748821, 0.320869999737045, 0.39349272630958493, 0.48255220427412787, 0.5917685748188825, 0.7257039612324212, 0.8899530352885229, 1.0913767146512738, 1.3383887531737564, 1.6413071953751284, 2.0127853758499383, 2.4683404670686486, 3.0270016537634614, 3.7121050090663608, 4.55226827550731, 5.582586268862695, 6.846096838574658, 8.395578619995112, 10.295755673125127, 12.626001098748565, 15.48365256585499, 18.988078244652634, 23.285662984981965, 28.55592301990109, 35.019004614317126, 42.944879887892725, 52.66462393484275, 64.58424430196978, 79.20164050192548, 97.12740198471168, 119.11031332830079, 146.06863203649888, 179.1284454622002, 219.67070907932353, 269.388930959017, 330.35991201283395, 405.1304969235378, 496.8239594734388, 609.2704661368674, 747.1670675868082, 916.2739011886731, 1123.6548001387516, 1377.9723598335568, 1689.8497868124587, 2072.3146452190294, 2541.343036702639, 3116.52694492943, 3821.8926206331225, 4686.904192314192, 5747.694424835347, 7048.574036451903, 8643.882620598262, 10600.258488068825, 12999.42224413245, 15941.590374559995, 19549.661430912594, 23974.349678010785, 29400.480643347077, 36054.71154250506, 44214.99907374487, 54222.21006501592, 66494.35996665046, 81544.07395185171, 100000.0], \"xaxis\": \"x\", \"y\": [-206.9225866857987, -184.84120712470136, -163.6353281181812, -143.66290636192045, -125.19417486131485, -108.40341323686765, -93.37213811024621, -80.10088294313097, -68.5259328812304, -58.53758916404984, -49.99736824708844, -42.752568584758436, -36.64755726971452, -31.531793155151398, -27.264993261134546, -23.720016135812976, -20.784052615835815, -18.358647936733743, -16.358978358258316, -14.712700790725936, -13.358601078613926, -12.245191638407022, -11.329352499421736, -10.57506923173272, -9.952293637559835, -9.435935353511816, -9.004982042467075, -8.641740585060353, -8.331190040869389, -8.060437911838385, -7.818273371649671, -7.594813686930889, -7.381242208499053, -7.169637398862472, -6.952892000963414, -6.7247194625187365, -6.479740877955301, -6.213639471705287, -5.923360414396744, -5.607321784419674, -5.265590181462101, -4.899967046212477, -4.513935724699062, -4.112439271575813, -3.7014935263228144, -3.28768032680062, -2.8775984279790148, -2.47736277947784, -2.0922314686553865, -1.7264081572087213, -1.3830270099685322, -1.0642891184663572, -0.7716932948633032, -0.5062935746069585, -0.26891970592324976, -0.06031160847760811, 0.1188596187493912, 0.26808596577606153, 0.38720695602232436, 0.4766350307598785, 0.537557552313657, 0.5720516723076657, 0.5830676075185407, 0.574270011016844, 0.5497652690731626, 0.5137712428104826, 0.47029563373081507, 0.42287856907110877, 0.37443102878843704, 0.32717387652735547, 0.2826613761177166, 0.24186230459309774, 0.20527053806973763, 0.17302201112907317, 0.1450025030526495, 0.1209380069864032, 0.10046505739053353, 0.08318198373018923, 0.06868390738379782, 0.05658491479768773], \"yaxis\": \"y\"}, {\"hovertemplate\": \"variable=s3<br>alphas=%{x}<br>value=%{y}<extra></extra>\", \"legendgroup\": \"s3\", \"line\": {\"color\": \"#FF6692\", \"dash\": \"solid\"}, \"mode\": \"lines\", \"name\": \"s3\", \"showlegend\": true, \"type\": \"scattergl\", \"x\": [0.01, 0.012263306841775632, 0.015038869469554102, 0.018442627085855347, 0.022616759492228647, 0.02773562614198415, 0.03401304938279251, 0.04171124612056518, 0.051151780992931425, 0.06272899858196247, 0.07692649574879142, 0.09433732216299774, 0.1156887528316282, 0.1418726674116596, 0.1739828052930364, 0.21336045265014109, 0.2616504698748821, 0.320869999737045, 0.39349272630958493, 0.48255220427412787, 0.5917685748188825, 0.7257039612324212, 0.8899530352885229, 1.0913767146512738, 1.3383887531737564, 1.6413071953751284, 2.0127853758499383, 2.4683404670686486, 3.0270016537634614, 3.7121050090663608, 4.55226827550731, 5.582586268862695, 6.846096838574658, 8.395578619995112, 10.295755673125127, 12.626001098748565, 15.48365256585499, 18.988078244652634, 23.285662984981965, 28.55592301990109, 35.019004614317126, 42.944879887892725, 52.66462393484275, 64.58424430196978, 79.20164050192548, 97.12740198471168, 119.11031332830079, 146.06863203649888, 179.1284454622002, 219.67070907932353, 269.388930959017, 330.35991201283395, 405.1304969235378, 496.8239594734388, 609.2704661368674, 747.1670675868082, 916.2739011886731, 1123.6548001387516, 1377.9723598335568, 1689.8497868124587, 2072.3146452190294, 2541.343036702639, 3116.52694492943, 3821.8926206331225, 4686.904192314192, 5747.694424835347, 7048.574036451903, 8643.882620598262, 10600.258488068825, 12999.42224413245, 15941.590374559995, 19549.661430912594, 23974.349678010785, 29400.480643347077, 36054.71154250506, 44214.99907374487, 54222.21006501592, 66494.35996665046, 81544.07395185171, 100000.0], \"xaxis\": \"x\", \"y\": [-98.42574222361807, -89.00869069101125, -79.9649336881165, -71.44710879073439, -63.57043979247966, -56.40922634038988, -49.99820357784047, -44.33756462393168, -39.40009591986658, -35.13896460150707, -31.495051262705612, -28.403159785039, -25.796827930212476, -23.611745749297814, -21.787955271101538, -20.271076123327898, -19.01280894083454, -17.97094013219924, -17.109028702838835, -16.395911341898817, -15.805122589429239, -15.314295175117714, -14.904581730023983, -14.560122025767694, -14.267568280256265, -14.01567345474785, -13.794942588060596, -13.597344045877906, -13.41607536195432, -13.245376674644836, -13.080383481242768, -12.917009634390327, -12.751851316321574, -12.582103069000228, -12.405477449866684, -12.220120139634165, -12.024512674815412, -11.8173570607673, -11.597442916988328, -11.363510074819946, -11.11413552675273, -10.847686175483775, -10.562378165816838, -10.256463058082176, -9.928523122089354, -9.577815537162587, -9.204576658796261, -8.81019731081193, -8.397211132098057, -7.969089759363602, -7.529892203236262, -7.083852762676945, -6.635001660578753, -6.186895363666554, -5.742497988382792, -5.304213908798862, -4.874036412992533, -4.453755687582012, -4.045164061902054, -3.650205357960881, -3.271033814203463, -2.909971237746331, -2.569374197439844, -2.2514422011894206, -1.9580093132238925, -1.6903629637276143, -1.4491245206951626, -1.2342094749600716, -1.0448662319088298, -0.879777134762801, -0.7371970180433852, -0.6151037892699428, -0.5113402864519386, -0.42373399603052647, -0.3501885369003643, -0.2887465508944566, -0.23762727007704226, -0.1952437530996496, -0.1602051168511995, -0.13130859329472908], \"yaxis\": \"y\"}, {\"hovertemplate\": \"variable=s4<br>alphas=%{x}<br>value=%{y}<extra></extra>\", \"legendgroup\": \"s4\", \"line\": {\"color\": \"#B6E880\", \"dash\": \"solid\"}, \"mode\": \"lines\", \"name\": \"s4\", \"showlegend\": true, \"type\": \"scattergl\", \"x\": [0.01, 0.012263306841775632, 0.015038869469554102, 0.018442627085855347, 0.022616759492228647, 0.02773562614198415, 0.03401304938279251, 0.04171124612056518, 0.051151780992931425, 0.06272899858196247, 0.07692649574879142, 0.09433732216299774, 0.1156887528316282, 0.1418726674116596, 0.1739828052930364, 0.21336045265014109, 0.2616504698748821, 0.320869999737045, 0.39349272630958493, 0.48255220427412787, 0.5917685748188825, 0.7257039612324212, 0.8899530352885229, 1.0913767146512738, 1.3383887531737564, 1.6413071953751284, 2.0127853758499383, 2.4683404670686486, 3.0270016537634614, 3.7121050090663608, 4.55226827550731, 5.582586268862695, 6.846096838574658, 8.395578619995112, 10.295755673125127, 12.626001098748565, 15.48365256585499, 18.988078244652634, 23.285662984981965, 28.55592301990109, 35.019004614317126, 42.944879887892725, 52.66462393484275, 64.58424430196978, 79.20164050192548, 97.12740198471168, 119.11031332830079, 146.06863203649888, 179.1284454622002, 219.67070907932353, 269.388930959017, 330.35991201283395, 405.1304969235378, 496.8239594734388, 609.2704661368674, 747.1670675868082, 916.2739011886731, 1123.6548001387516, 1377.9723598335568, 1689.8497868124587, 2072.3146452190294, 2541.343036702639, 3116.52694492943, 3821.8926206331225, 4686.904192314192, 5747.694424835347, 7048.574036451903, 8643.882620598262, 10600.258488068825, 12999.42224413245, 15941.590374559995, 19549.661430912594, 23974.349678010785, 29400.480643347077, 36054.71154250506, 44214.99907374487, 54222.21006501592, 66494.35996665046, 81544.07395185171, 100000.0], \"xaxis\": \"x\", \"y\": [6.470072852301139, 6.5253647245041, 6.578511874497709, 6.628629952739576, 6.675055569806659, 6.717367271902012, 6.755378101601951, 6.789106823839231, 6.818736904377183, 6.844571806497333, 6.866993097124326, 6.8864252842542335, 6.903309004923861, 6.918082509975876, 6.931170393953647, 6.942978064462747, 6.953890347489403, 6.964272710866391, 6.974473729426411, 6.984827532696244, 6.995655031654445, 7.007262712805581, 7.0199377465503945, 7.033938149138417, 7.049476869099112, 7.066699080680168, 7.085652809284138, 7.106254386744823, 7.128252081079562, 7.151193226614996, 7.174401595636025, 7.196971632994333, 7.217783657127893, 7.235539084958072, 7.248808357421641, 7.256079085515095, 7.255791031970856, 7.246349742417647, 7.226121115030264, 7.193421179246141, 7.146523533517863, 7.083706841080338, 7.003355084369655, 6.904106307457764, 6.785026671041524, 6.645772169228774, 6.4866954911187165, 6.308862588810357, 6.113961391792797, 5.904109553252044, 5.681592942531656, 5.44858526054015, 5.20690652002326, 4.957872027818129, 4.702265391578392, 4.440443456327371, 4.172553905570884, 3.8988230989834767, 3.6198565626952846, 3.33688972331487, 3.051933171488365, 2.767775152729, 2.48783233746905, 2.2158730092294054, 1.955665948100786, 1.710624093067723, 1.4835090251920988, 1.2762420423513354, 1.0898382279969703, 0.924451908604608, 0.779503159042112, 0.6538482953615156, 0.5459606317217515, 0.45409684434213804, 0.3764347801710878, 0.31117756945548497, 0.256625192780937, 0.21121818027032108, 0.1735594801738722, 0.14242048586910933], \"yaxis\": \"y\"}, {\"hovertemplate\": \"variable=s5<br>alphas=%{x}<br>value=%{y}<extra></extra>\", \"legendgroup\": \"s5\", \"line\": {\"color\": \"#FF97FF\", \"dash\": \"solid\"}, \"mode\": \"lines\", \"name\": \"s5\", \"showlegend\": true, \"type\": \"scattergl\", \"x\": [0.01, 0.012263306841775632, 0.015038869469554102, 0.018442627085855347, 0.022616759492228647, 0.02773562614198415, 0.03401304938279251, 0.04171124612056518, 0.051151780992931425, 0.06272899858196247, 0.07692649574879142, 0.09433732216299774, 0.1156887528316282, 0.1418726674116596, 0.1739828052930364, 0.21336045265014109, 0.2616504698748821, 0.320869999737045, 0.39349272630958493, 0.48255220427412787, 0.5917685748188825, 0.7257039612324212, 0.8899530352885229, 1.0913767146512738, 1.3383887531737564, 1.6413071953751284, 2.0127853758499383, 2.4683404670686486, 3.0270016537634614, 3.7121050090663608, 4.55226827550731, 5.582586268862695, 6.846096838574658, 8.395578619995112, 10.295755673125127, 12.626001098748565, 15.48365256585499, 18.988078244652634, 23.285662984981965, 28.55592301990109, 35.019004614317126, 42.944879887892725, 52.66462393484275, 64.58424430196978, 79.20164050192548, 97.12740198471168, 119.11031332830079, 146.06863203649888, 179.1284454622002, 219.67070907932353, 269.388930959017, 330.35991201283395, 405.1304969235378, 496.8239594734388, 609.2704661368674, 747.1670675868082, 916.2739011886731, 1123.6548001387516, 1377.9723598335568, 1689.8497868124587, 2072.3146452190294, 2541.343036702639, 3116.52694492943, 3821.8926206331225, 4686.904192314192, 5747.694424835347, 7048.574036451903, 8643.882620598262, 10600.258488068825, 12999.42224413245, 15941.590374559995, 19549.661430912594, 23974.349678010785, 29400.480643347077, 36054.71154250506, 44214.99907374487, 54222.21006501592, 66494.35996665046, 81544.07395185171, 100000.0], \"xaxis\": \"x\", \"y\": [-38.10769940407457, -30.37332355624398, -22.945774128532605, -15.950473973255944, -9.482124034376247, -3.6018221726747215, 1.6618172350696696, 6.308534395228938, 10.36055892288692, 13.856208184623542, 16.843857971306083, 19.376834246112573, 21.509452664577676, 23.294199767923253, 24.779913016728713, 26.010758309739018, 27.025797676752017, 27.858963034748186, 28.53928709805693, 29.091279091202562, 29.535365320406605, 29.888340822241013, 30.16379809791215, 30.372513183993934, 30.52277917184117, 30.620683955689756, 30.670333538796765, 30.674025594423316, 30.63238098184503, 30.54444427713379, 30.40776869269206, 30.218506386782497, 29.971531967990348, 29.660633956594758, 29.27881373716157, 28.81873026284623, 28.273316497773713, 27.636565792516365, 26.90444181243819, 26.075809770373134, 25.1532342064672, 24.14346174551211, 23.057428609668776, 21.909712220413635, 20.717470257836318, 19.49904042438135, 18.272460634009338, 17.054176986798563, 15.858133981887208, 14.695321506822616, 13.573736513027983, 12.49864463359038, 11.473011590325967, 10.49800156450909, 9.573481473807982, 8.698501789700218, 7.871736238716665, 7.091859277838924, 6.357833599647853, 5.669080419522236, 5.0255166376808, 4.427462474873427, 3.875444945476526, 3.3699404835445423, 2.9111094860778377, 2.498573830761773, 2.1312756751685447, 1.8074354549581655, 1.524604908322714, 1.2797933663894092, 1.0696364010118795, 0.8905756722774212, 0.7390250745123284, 0.6115074840148561, 0.5047554397384698, 0.4157760668344563, 0.34188488793745164, 0.28071513340909615, 0.23020942333070807, 0.1885999521990509], \"yaxis\": \"y\"}, {\"hovertemplate\": \"variable=s6<br>alphas=%{x}<br>value=%{y}<extra></extra>\", \"legendgroup\": \"s6\", \"line\": {\"color\": \"#FECB52\", \"dash\": \"solid\"}, \"mode\": \"lines\", \"name\": \"s6\", \"showlegend\": true, \"type\": \"scattergl\", \"x\": [0.01, 0.012263306841775632, 0.015038869469554102, 0.018442627085855347, 0.022616759492228647, 0.02773562614198415, 0.03401304938279251, 0.04171124612056518, 0.051151780992931425, 0.06272899858196247, 0.07692649574879142, 0.09433732216299774, 0.1156887528316282, 0.1418726674116596, 0.1739828052930364, 0.21336045265014109, 0.2616504698748821, 0.320869999737045, 0.39349272630958493, 0.48255220427412787, 0.5917685748188825, 0.7257039612324212, 0.8899530352885229, 1.0913767146512738, 1.3383887531737564, 1.6413071953751284, 2.0127853758499383, 2.4683404670686486, 3.0270016537634614, 3.7121050090663608, 4.55226827550731, 5.582586268862695, 6.846096838574658, 8.395578619995112, 10.295755673125127, 12.626001098748565, 15.48365256585499, 18.988078244652634, 23.285662984981965, 28.55592301990109, 35.019004614317126, 42.944879887892725, 52.66462393484275, 64.58424430196978, 79.20164050192548, 97.12740198471168, 119.11031332830079, 146.06863203649888, 179.1284454622002, 219.67070907932353, 269.388930959017, 330.35991201283395, 405.1304969235378, 496.8239594734388, 609.2704661368674, 747.1670675868082, 916.2739011886731, 1123.6548001387516, 1377.9723598335568, 1689.8497868124587, 2072.3146452190294, 2541.343036702639, 3116.52694492943, 3821.8926206331225, 4686.904192314192, 5747.694424835347, 7048.574036451903, 8643.882620598262, 10600.258488068825, 12999.42224413245, 15941.590374559995, 19549.661430912594, 23974.349678010785, 29400.480643347077, 36054.71154250506, 44214.99907374487, 54222.21006501592, 66494.35996665046, 81544.07395185171, 100000.0], \"xaxis\": \"x\", \"y\": [3.782131086682536, 3.7866437945411424, 3.7909757268789814, 3.795053260576878, 3.7988206481145186, 3.8022416842247404, 3.805299031151639, 3.8079917810771304, 3.810331998652525, 3.8123409436181914, 3.8140455032965064, 3.8154751541605454, 3.8166595833203125, 3.8176269645627547, 3.818402803552678, 3.8190092325266365, 3.8194646313564315, 3.819783465561294, 3.8199762527016263, 3.820049590325163, 3.8200061978854345, 3.8198449402341734, 3.8195608106576864, 3.819144856348087, 3.818584027765994, 3.81786092437803, 3.816953391945983, 3.8158339021612373, 3.81446862025758, 3.8128160559884927, 3.8108252279877934, 3.808433398566538, 3.805563718578848, 3.8021236268140175, 3.7980056169875764, 3.7930929799709747, 3.7872741425953484, 3.7804697593890837, 3.7726758791038857, 3.764023086440032, 3.7548444409978154, 3.7457344214244093, 3.7375695847282073, 3.731455068609783, 3.728566807100788, 3.7298821869252743, 3.7358289857127476, 3.745921482742234, 3.7584762790175916, 3.770495442751391, 3.7777701190277164, 3.775205951088044, 3.757321421182979, 3.7188373600677505, 3.6552665418067294, 3.563422596034852, 3.4417884207094565, 3.2907077887112, 3.1123860638657215, 2.91070657311898, 2.6908886734236845, 2.4590310035191036, 2.2215964287737187, 1.9849010284184863, 1.7546662453104012, 1.5356807697155235, 1.3315987605594557, 1.1448776984440923, 0.9768378306030875, 0.8278105185952745, 0.6973371654300478, 0.5843831265681095, 0.4875392686418518, 0.40519414775554224, 0.3356693111310907, 0.27731741026392087, 0.22858725800748333, 0.18806203598424645, 0.15447724884988395, 0.12672441835160306], \"yaxis\": \"y\"}, {\"hovertemplate\": \"variable=age^2<br>alphas=%{x}<br>value=%{y}<extra></extra>\", \"legendgroup\": \"age^2\", \"line\": {\"color\": \"#636efa\", \"dash\": \"solid\"}, \"mode\": \"lines\", \"name\": \"age^2\", \"showlegend\": true, \"type\": \"scattergl\", \"x\": [0.01, 0.012263306841775632, 0.015038869469554102, 0.018442627085855347, 0.022616759492228647, 0.02773562614198415, 0.03401304938279251, 0.04171124612056518, 0.051151780992931425, 0.06272899858196247, 0.07692649574879142, 0.09433732216299774, 0.1156887528316282, 0.1418726674116596, 0.1739828052930364, 0.21336045265014109, 0.2616504698748821, 0.320869999737045, 0.39349272630958493, 0.48255220427412787, 0.5917685748188825, 0.7257039612324212, 0.8899530352885229, 1.0913767146512738, 1.3383887531737564, 1.6413071953751284, 2.0127853758499383, 2.4683404670686486, 3.0270016537634614, 3.7121050090663608, 4.55226827550731, 5.582586268862695, 6.846096838574658, 8.395578619995112, 10.295755673125127, 12.626001098748565, 15.48365256585499, 18.988078244652634, 23.285662984981965, 28.55592301990109, 35.019004614317126, 42.944879887892725, 52.66462393484275, 64.58424430196978, 79.20164050192548, 97.12740198471168, 119.11031332830079, 146.06863203649888, 179.1284454622002, 219.67070907932353, 269.388930959017, 330.35991201283395, 405.1304969235378, 496.8239594734388, 609.2704661368674, 747.1670675868082, 916.2739011886731, 1123.6548001387516, 1377.9723598335568, 1689.8497868124587, 2072.3146452190294, 2541.343036702639, 3116.52694492943, 3821.8926206331225, 4686.904192314192, 5747.694424835347, 7048.574036451903, 8643.882620598262, 10600.258488068825, 12999.42224413245, 15941.590374559995, 19549.661430912594, 23974.349678010785, 29400.480643347077, 36054.71154250506, 44214.99907374487, 54222.21006501592, 66494.35996665046, 81544.07395185171, 100000.0], \"xaxis\": \"x\", \"y\": [4.836910695373724, 4.834682366222184, 4.832550977871193, 4.830554826562975, 4.828723598246779, 4.827077608685568, 4.825628230809552, 4.824379223292886, 4.823328592731125, 4.822470643966378, 4.821797958969711, 4.821303150752085, 4.820980333647638, 4.820826319874633, 4.820841592297447, 4.821031119617372, 4.821405079700422, 4.821979545324592, 4.822777167920522, 4.823827869948653, 4.825169524053129, 4.826848553498332, 4.828920327984625, 4.831449144111822, 4.834507461165588, 4.838173900412247, 4.842529301019777, 4.847649855289823, 4.853596030859652, 4.860395663670519, 4.868019347890798, 4.876346185563739, 4.885118274950968, 4.893883238600563, 4.9019258353155255, 4.9081923748943534, 4.911215143559477, 4.909047897867443, 4.8992268800867596, 4.878773689843308, 4.844255681468834, 4.791915674397583, 4.717875642534822, 4.618409425072267, 4.490268751128666, 4.331036640304568, 4.139473942835051, 3.9158192561041862, 3.662000168575429, 3.381715585555981, 3.080356609137297, 2.7647493122259834, 2.4427273793486672, 2.1225726983156923, 1.8123899815661604, 1.5194981375031593, 1.2499200416869718, 1.0080334566260172, 0.7964151443367552, 0.615876681432309, 0.46566216212024636, 0.34375963309163876, 0.24727098139616618, 0.17278775356332463, 0.11673031645410857, 0.07562174252533668, 0.046282819555148166, 0.02594811142513489, 0.012313189901093789, 0.0035290845414927183, -0.0018382702019989281, -0.004867362499788093, -0.006346461048576153, -0.0068363549782862595, -0.006725570269089439, -0.0062760445118995685, -0.005659160990629343, -0.004983121540051502, -0.004313099989161997, -0.0036856895483107248], \"yaxis\": \"y\"}, {\"hovertemplate\": \"variable=sex^2<br>alphas=%{x}<br>value=%{y}<extra></extra>\", \"legendgroup\": \"sex^2\", \"line\": {\"color\": \"#EF553B\", \"dash\": \"solid\"}, \"mode\": \"lines\", \"name\": \"sex^2\", \"showlegend\": true, \"type\": \"scattergl\", \"x\": [0.01, 0.012263306841775632, 0.015038869469554102, 0.018442627085855347, 0.022616759492228647, 0.02773562614198415, 0.03401304938279251, 0.04171124612056518, 0.051151780992931425, 0.06272899858196247, 0.07692649574879142, 0.09433732216299774, 0.1156887528316282, 0.1418726674116596, 0.1739828052930364, 0.21336045265014109, 0.2616504698748821, 0.320869999737045, 0.39349272630958493, 0.48255220427412787, 0.5917685748188825, 0.7257039612324212, 0.8899530352885229, 1.0913767146512738, 1.3383887531737564, 1.6413071953751284, 2.0127853758499383, 2.4683404670686486, 3.0270016537634614, 3.7121050090663608, 4.55226827550731, 5.582586268862695, 6.846096838574658, 8.395578619995112, 10.295755673125127, 12.626001098748565, 15.48365256585499, 18.988078244652634, 23.285662984981965, 28.55592301990109, 35.019004614317126, 42.944879887892725, 52.66462393484275, 64.58424430196978, 79.20164050192548, 97.12740198471168, 119.11031332830079, 146.06863203649888, 179.1284454622002, 219.67070907932353, 269.388930959017, 330.35991201283395, 405.1304969235378, 496.8239594734388, 609.2704661368674, 747.1670675868082, 916.2739011886731, 1123.6548001387516, 1377.9723598335568, 1689.8497868124587, 2072.3146452190294, 2541.343036702639, 3116.52694492943, 3821.8926206331225, 4686.904192314192, 5747.694424835347, 7048.574036451903, 8643.882620598262, 10600.258488068825, 12999.42224413245, 15941.590374559995, 19549.661430912594, 23974.349678010785, 29400.480643347077, 36054.71154250506, 44214.99907374487, 54222.21006501592, 66494.35996665046, 81544.07395185171, 100000.0], \"xaxis\": \"x\", \"y\": [-3.9803343834253218, -3.9762663977399666, -3.972352904234858, -3.968658124488651, -3.965229925251218, -3.9620982438931405, -3.959275591143271, -3.956759106957819, -3.954533501150295, -3.9525742466326967, -3.9508505435206045, -3.949327760367431, -3.9479692243820024, -3.946737352879308, -3.9455941870088806, -3.9445014167032064, -3.943419985473072, -3.9423093479770253, -3.9411264301374604, -3.9398243177805727, -3.938350677133851, -3.936645891098781, -3.9346408789481786, -3.9322545542961365, -3.929390866960022, -3.925935369328212, -3.921751248202545, -3.9166747705657814, -3.9105101087927494, -3.9030235405764095, -3.8939370648483407, -3.8829215412387406, -3.8695895510944807, -3.853488295928913, -3.8340929949906055, -3.810801411979651, -3.7829303152098004, -3.749714822787375, -3.710311654166943, -3.663807243018273, -3.6092314212836847, -3.545576972253482, -3.4718248725739898, -3.3869746969867354, -3.29007969402376, -3.1802866551316855, -3.056881914585321, -2.919346361353312, -2.767423591458324, -2.6012053222234774, -2.4212357814611654, -2.228630979508314, -2.025199326369074, -1.8135382832993836, -1.5970711757418414, -1.3799845492180294, -1.167035467963514, -0.9632228577200579, -0.773353693779353, -0.6015721807219875, -0.4509426829205026, -0.3231731639077519, -0.21853398214737557, -0.13597804757672477, -0.07342057759507095, -0.028106177497119328, 0.003014971245942266, 0.022964508702593586, 0.03450251956846048, 0.03999148274425827, 0.04134530833573686, 0.04004080899537097, 0.03716720027700375, 0.03349295549978845, 0.029535313700254702, 0.025623651462302516, 0.021952608716267422, 0.018624002396522826, 0.015678356971384897, 0.013117694868564475], \"yaxis\": \"y\"}, {\"hovertemplate\": \"variable=bmi^2<br>alphas=%{x}<br>value=%{y}<extra></extra>\", \"legendgroup\": \"bmi^2\", \"line\": {\"color\": \"#00cc96\", \"dash\": \"solid\"}, \"mode\": \"lines\", \"name\": \"bmi^2\", \"showlegend\": true, \"type\": \"scattergl\", \"x\": [0.01, 0.012263306841775632, 0.015038869469554102, 0.018442627085855347, 0.022616759492228647, 0.02773562614198415, 0.03401304938279251, 0.04171124612056518, 0.051151780992931425, 0.06272899858196247, 0.07692649574879142, 0.09433732216299774, 0.1156887528316282, 0.1418726674116596, 0.1739828052930364, 0.21336045265014109, 0.2616504698748821, 0.320869999737045, 0.39349272630958493, 0.48255220427412787, 0.5917685748188825, 0.7257039612324212, 0.8899530352885229, 1.0913767146512738, 1.3383887531737564, 1.6413071953751284, 2.0127853758499383, 2.4683404670686486, 3.0270016537634614, 3.7121050090663608, 4.55226827550731, 5.582586268862695, 6.846096838574658, 8.395578619995112, 10.295755673125127, 12.626001098748565, 15.48365256585499, 18.988078244652634, 23.285662984981965, 28.55592301990109, 35.019004614317126, 42.944879887892725, 52.66462393484275, 64.58424430196978, 79.20164050192548, 97.12740198471168, 119.11031332830079, 146.06863203649888, 179.1284454622002, 219.67070907932353, 269.388930959017, 330.35991201283395, 405.1304969235378, 496.8239594734388, 609.2704661368674, 747.1670675868082, 916.2739011886731, 1123.6548001387516, 1377.9723598335568, 1689.8497868124587, 2072.3146452190294, 2541.343036702639, 3116.52694492943, 3821.8926206331225, 4686.904192314192, 5747.694424835347, 7048.574036451903, 8643.882620598262, 10600.258488068825, 12999.42224413245, 15941.590374559995, 19549.661430912594, 23974.349678010785, 29400.480643347077, 36054.71154250506, 44214.99907374487, 54222.21006501592, 66494.35996665046, 81544.07395185171, 100000.0], \"xaxis\": \"x\", \"y\": [4.304487444879992, 4.280428560741089, 4.257302733947001, 4.235494695978741, 4.215293004309576, 4.196880900976979, 4.180339527777863, 4.165660413951802, 4.152763277124455, 4.141515402706451, 4.131749765929326, 4.123280173326789, 4.115912694636301, 4.109453372944238, 4.103712619365477, 4.0985068741193205, 4.093658128363177, 4.088991823752565, 4.084333533643662, 4.079504715902497, 4.074317732329589, 4.068570264703609, 4.062039229600329, 4.054474311090103, 4.045591303284913, 4.035065600339047, 4.022526413637542, 4.00755266450527, 3.9896720278737865, 3.9683653113786503, 3.943079238523383, 3.913251688984969, 3.8783543330918353, 3.8379579799582157, 3.7918251699867374, 3.7400316381631677, 3.6831121930021613, 3.6222165599878404, 3.559247200607798, 3.496936490114043, 3.438810079590605, 3.3889841089947144, 3.351763256452858, 3.3310471455415622, 3.3296087295220853, 3.348364663989003, 3.385793373611965, 3.437653330453482, 3.497105967531358, 3.555265521895179, 3.602106307025077, 3.6275839799125125, 3.6227902916069854, 3.580964648309532, 3.498221622060237, 3.373907133571035, 3.21055540025267, 3.013476608351797, 2.790056503562849, 2.54888729559887, 2.2988666397559903, 2.048392667302233, 1.80474976327435, 1.5737317374403847, 1.3595001840071679, 1.1646384454937728, 0.990341855914802, 0.8366822290932628, 0.7028938275108051, 0.5876430167225005, 0.48925932099881364, 0.40591853518321813, 0.3357777077067321, 0.2770672757705032, 0.22814814605431907, 0.18754199712756564, 0.15394236986067675, 0.1262128450574314, 0.10337720282851749, 0.08460515477096037], \"yaxis\": \"y\"}, {\"hovertemplate\": \"variable=bp^2<br>alphas=%{x}<br>value=%{y}<extra></extra>\", \"legendgroup\": \"bp^2\", \"line\": {\"color\": \"#ab63fa\", \"dash\": \"solid\"}, \"mode\": \"lines\", \"name\": \"bp^2\", \"showlegend\": true, \"type\": \"scattergl\", \"x\": [0.01, 0.012263306841775632, 0.015038869469554102, 0.018442627085855347, 0.022616759492228647, 0.02773562614198415, 0.03401304938279251, 0.04171124612056518, 0.051151780992931425, 0.06272899858196247, 0.07692649574879142, 0.09433732216299774, 0.1156887528316282, 0.1418726674116596, 0.1739828052930364, 0.21336045265014109, 0.2616504698748821, 0.320869999737045, 0.39349272630958493, 0.48255220427412787, 0.5917685748188825, 0.7257039612324212, 0.8899530352885229, 1.0913767146512738, 1.3383887531737564, 1.6413071953751284, 2.0127853758499383, 2.4683404670686486, 3.0270016537634614, 3.7121050090663608, 4.55226827550731, 5.582586268862695, 6.846096838574658, 8.395578619995112, 10.295755673125127, 12.626001098748565, 15.48365256585499, 18.988078244652634, 23.285662984981965, 28.55592301990109, 35.019004614317126, 42.944879887892725, 52.66462393484275, 64.58424430196978, 79.20164050192548, 97.12740198471168, 119.11031332830079, 146.06863203649888, 179.1284454622002, 219.67070907932353, 269.388930959017, 330.35991201283395, 405.1304969235378, 496.8239594734388, 609.2704661368674, 747.1670675868082, 916.2739011886731, 1123.6548001387516, 1377.9723598335568, 1689.8497868124587, 2072.3146452190294, 2541.343036702639, 3116.52694492943, 3821.8926206331225, 4686.904192314192, 5747.694424835347, 7048.574036451903, 8643.882620598262, 10600.258488068825, 12999.42224413245, 15941.590374559995, 19549.661430912594, 23974.349678010785, 29400.480643347077, 36054.71154250506, 44214.99907374487, 54222.21006501592, 66494.35996665046, 81544.07395185171, 100000.0], \"xaxis\": \"x\", \"y\": [1.027501659434605, 1.026337471058357, 1.025229895212167, 1.024200452346775, 1.0232663354352938, 1.0224400634764383, 1.0217297802009955, 1.0211400486921016, 1.0206729498658347, 1.0203293053938762, 1.020109892382785, 1.020016574847643, 1.020053329073147, 1.0202271783649774, 1.0205490763543605, 1.0210347896136795, 1.0217058336793858, 1.022590514996665, 1.02372512697131, 1.0251553421315176, 1.0269378340972946, 1.0291421513607586, 1.031852847679465, 1.0351718483719372, 1.0392209947960411, 1.0441446578876603, 1.0501122445376805, 1.0573203403572997, 1.0659941488462052, 1.0763878212912428, 1.0887832595393667, 1.1034870639738616, 1.1208255422752527, 1.1411381156774527, 1.1647700110255284, 1.1920656344549545, 1.2233641520546312, 1.258998104941685, 1.2992939677552306, 1.344570383474766, 1.3951260055994976, 1.451205857715377, 1.5129347559124815, 1.5802102733871302, 1.6525565812863003, 1.7289534137733358, 1.8076690235423474, 1.886138689971513, 1.9609365119744193, 2.0278830389561207, 2.082311590543403, 2.1194830906627375, 2.1351002585655925, 2.125839195597203, 2.089801832308033, 2.0268026314236267, 1.9384350025669024, 1.8279075329535301, 1.6996849560377008, 1.5590027684447263, 1.4113406461398084, 1.2619365047479794, 1.115403420475639, 0.9754827207959393, 0.8449368708508084, 0.725562445553221, 0.6182902000081751, 0.5233359976326711, 0.4403705130297306, 0.3686837051547929, 0.30732901756412395, 0.25524012504608407, 0.21131889695674586, 0.17449696130025522, 0.1437751528809751, 0.11824571038393675, 0.09710184384953074, 0.0796386250120891, 0.0652483375547936, 0.05341263174028126], \"yaxis\": \"y\"}, {\"hovertemplate\": \"variable=s1^2<br>alphas=%{x}<br>value=%{y}<extra></extra>\", \"legendgroup\": \"s1^2\", \"line\": {\"color\": \"#FFA15A\", \"dash\": \"solid\"}, \"mode\": \"lines\", \"name\": \"s1^2\", \"showlegend\": true, \"type\": \"scattergl\", \"x\": [0.01, 0.012263306841775632, 0.015038869469554102, 0.018442627085855347, 0.022616759492228647, 0.02773562614198415, 0.03401304938279251, 0.04171124612056518, 0.051151780992931425, 0.06272899858196247, 0.07692649574879142, 0.09433732216299774, 0.1156887528316282, 0.1418726674116596, 0.1739828052930364, 0.21336045265014109, 0.2616504698748821, 0.320869999737045, 0.39349272630958493, 0.48255220427412787, 0.5917685748188825, 0.7257039612324212, 0.8899530352885229, 1.0913767146512738, 1.3383887531737564, 1.6413071953751284, 2.0127853758499383, 2.4683404670686486, 3.0270016537634614, 3.7121050090663608, 4.55226827550731, 5.582586268862695, 6.846096838574658, 8.395578619995112, 10.295755673125127, 12.626001098748565, 15.48365256585499, 18.988078244652634, 23.285662984981965, 28.55592301990109, 35.019004614317126, 42.944879887892725, 52.66462393484275, 64.58424430196978, 79.20164050192548, 97.12740198471168, 119.11031332830079, 146.06863203649888, 179.1284454622002, 219.67070907932353, 269.388930959017, 330.35991201283395, 405.1304969235378, 496.8239594734388, 609.2704661368674, 747.1670675868082, 916.2739011886731, 1123.6548001387516, 1377.9723598335568, 1689.8497868124587, 2072.3146452190294, 2541.343036702639, 3116.52694492943, 3821.8926206331225, 4686.904192314192, 5747.694424835347, 7048.574036451903, 8643.882620598262, 10600.258488068825, 12999.42224413245, 15941.590374559995, 19549.661430912594, 23974.349678010785, 29400.480643347077, 36054.71154250506, 44214.99907374487, 54222.21006501592, 66494.35996665046, 81544.07395185171, 100000.0], \"xaxis\": \"x\", \"y\": [4.400075914356274, 4.3637599607259085, 4.328859942726701, 4.2959584879296395, 4.265493254805906, 4.23774319030216, 4.212833466866241, 4.19075444174311, 4.171388659294416, 4.154540255748877, 4.13996248302608, 4.127380747563778, 4.11651005935489, 4.107066865190552, 4.098775865879354, 4.0913726728734305, 4.084603164715148, 4.078220267249333, 4.071978684261582, 4.065627898731227, 4.058903579634595, 4.051517384514655, 4.043145061763462, 4.033412753512219, 4.021881517837022, 4.008030380143858, 3.9912387495043187, 3.97076984724903, 3.945757893670454, 3.9152030767121024, 3.877979499409725, 3.8328618643170644, 3.7785759070912155, 3.7138748176760847, 3.637638669971459, 3.5489865545763397, 3.4473831753562854, 3.3327159076645607, 3.20531825287722, 3.06592417514084, 2.9155553326025485, 2.7553659439724507, 2.5864901440825014, 2.409944860698467, 2.2266310237434515, 2.037447698842904, 1.8434959353376195, 1.646315233710254, 1.4480783129222679, 1.2516755980437062, 1.0606469651540182, 0.878955236359282, 0.7106321411087344, 0.5593542465044197, 0.4280201111484076, 0.31840102590111463, 0.23092768414889578, 0.1646546834982555, 0.11741455717755746, 0.08613640763954024, 0.06726913190636115, 0.057226726951160246, 0.05277222589862751, 0.051278813384935014, 0.050843563411553334, 0.0502672741822535, 0.04894041989455561, 0.04668438006317114, 0.04359079060771017, 0.03988695230502372, 0.0358391633490252, 0.03169354953992087, 0.02764710741992101, 0.023839523902787936, 0.020357161379907954, 0.01724272509295519, 0.014506417404566582, 0.01213626073566675, 0.01010657554401909, 0.008384388486607754], \"yaxis\": \"y\"}, {\"hovertemplate\": \"variable=s2^2<br>alphas=%{x}<br>value=%{y}<extra></extra>\", \"legendgroup\": \"s2^2\", \"line\": {\"color\": \"#19d3f3\", \"dash\": \"solid\"}, \"mode\": \"lines\", \"name\": \"s2^2\", \"showlegend\": true, \"type\": \"scattergl\", \"x\": [0.01, 0.012263306841775632, 0.015038869469554102, 0.018442627085855347, 0.022616759492228647, 0.02773562614198415, 0.03401304938279251, 0.04171124612056518, 0.051151780992931425, 0.06272899858196247, 0.07692649574879142, 0.09433732216299774, 0.1156887528316282, 0.1418726674116596, 0.1739828052930364, 0.21336045265014109, 0.2616504698748821, 0.320869999737045, 0.39349272630958493, 0.48255220427412787, 0.5917685748188825, 0.7257039612324212, 0.8899530352885229, 1.0913767146512738, 1.3383887531737564, 1.6413071953751284, 2.0127853758499383, 2.4683404670686486, 3.0270016537634614, 3.7121050090663608, 4.55226827550731, 5.582586268862695, 6.846096838574658, 8.395578619995112, 10.295755673125127, 12.626001098748565, 15.48365256585499, 18.988078244652634, 23.285662984981965, 28.55592301990109, 35.019004614317126, 42.944879887892725, 52.66462393484275, 64.58424430196978, 79.20164050192548, 97.12740198471168, 119.11031332830079, 146.06863203649888, 179.1284454622002, 219.67070907932353, 269.388930959017, 330.35991201283395, 405.1304969235378, 496.8239594734388, 609.2704661368674, 747.1670675868082, 916.2739011886731, 1123.6548001387516, 1377.9723598335568, 1689.8497868124587, 2072.3146452190294, 2541.343036702639, 3116.52694492943, 3821.8926206331225, 4686.904192314192, 5747.694424835347, 7048.574036451903, 8643.882620598262, 10600.258488068825, 12999.42224413245, 15941.590374559995, 19549.661430912594, 23974.349678010785, 29400.480643347077, 36054.71154250506, 44214.99907374487, 54222.21006501592, 66494.35996665046, 81544.07395185171, 100000.0], \"xaxis\": \"x\", \"y\": [-5.615878251380058, -5.586325730743544, -5.557876638695162, -5.5309927277375, -5.5060163872154675, -5.483159050198496, -5.462504598684049, -5.444023976992621, -5.427596148906382, -5.413030801765611, -5.400089290905296, -5.388501667044901, -5.3779788313709105, -5.368219723505818, -5.358913940062424, -5.349740373335726, -5.340362448135921, -5.330420409507562, -5.3195209428318035, -5.307224236693211, -5.293028459763695, -5.276351543084639, -5.2565101709834465, -5.232696034067661, -5.203949753979878, -5.169133542674101, -5.126904714369904, -5.075693718646999, -5.013692431258761, -4.938860887052347, -4.84896305172787, -4.741643811408558, -4.614558922067408, -4.4655657928312165, -4.292974486136382, -4.095844945484014, -3.874299692847249, -3.6298047929001647, -3.3653613243268015, -3.0855506773635044, -2.7963930296168575, -2.5050079021162306, -2.219102118128786, -1.9463440603078963, -1.6937048771250163, -1.4668524871382103, -1.2696737292954312, -1.1039790056633754, -0.9694187597962706, -0.863616888243624, -0.7825043898127453, -0.7208168258650017, -0.6727012048567104, -0.6323630606934917, -0.5946756289397419, -0.5556733160517049, -0.5128634974803666, -0.4653150080341743, -0.4135170914650201, -0.35904391100975813, -0.30409749701942645, -0.2510245036338041, -0.2019005400823471, -0.1582495769150663, -0.12092428051036495, -0.09013116501959277, -0.0655557048030394, -0.04653315015859619, -0.03221831464320107, -0.021724367332953458, -0.01421847361164916, -0.008975603233855845, -0.005399212502242936, -0.003019677593142486, -0.0014802584349091327, -0.0005178753488003985, 5.665103914708588e-05, 0.0003763868824538748, 0.0005330687561828661, 0.0005887422111515772], \"yaxis\": \"y\"}, {\"hovertemplate\": \"variable=s3^2<br>alphas=%{x}<br>value=%{y}<extra></extra>\", \"legendgroup\": \"s3^2\", \"line\": {\"color\": \"#FF6692\", \"dash\": \"solid\"}, \"mode\": \"lines\", \"name\": \"s3^2\", \"showlegend\": true, \"type\": \"scattergl\", \"x\": [0.01, 0.012263306841775632, 0.015038869469554102, 0.018442627085855347, 0.022616759492228647, 0.02773562614198415, 0.03401304938279251, 0.04171124612056518, 0.051151780992931425, 0.06272899858196247, 0.07692649574879142, 0.09433732216299774, 0.1156887528316282, 0.1418726674116596, 0.1739828052930364, 0.21336045265014109, 0.2616504698748821, 0.320869999737045, 0.39349272630958493, 0.48255220427412787, 0.5917685748188825, 0.7257039612324212, 0.8899530352885229, 1.0913767146512738, 1.3383887531737564, 1.6413071953751284, 2.0127853758499383, 2.4683404670686486, 3.0270016537634614, 3.7121050090663608, 4.55226827550731, 5.582586268862695, 6.846096838574658, 8.395578619995112, 10.295755673125127, 12.626001098748565, 15.48365256585499, 18.988078244652634, 23.285662984981965, 28.55592301990109, 35.019004614317126, 42.944879887892725, 52.66462393484275, 64.58424430196978, 79.20164050192548, 97.12740198471168, 119.11031332830079, 146.06863203649888, 179.1284454622002, 219.67070907932353, 269.388930959017, 330.35991201283395, 405.1304969235378, 496.8239594734388, 609.2704661368674, 747.1670675868082, 916.2739011886731, 1123.6548001387516, 1377.9723598335568, 1689.8497868124587, 2072.3146452190294, 2541.343036702639, 3116.52694492943, 3821.8926206331225, 4686.904192314192, 5747.694424835347, 7048.574036451903, 8643.882620598262, 10600.258488068825, 12999.42224413245, 15941.590374559995, 19549.661430912594, 23974.349678010785, 29400.480643347077, 36054.71154250506, 44214.99907374487, 54222.21006501592, 66494.35996665046, 81544.07395185171, 100000.0], \"xaxis\": \"x\", \"y\": [-2.5391865940771314, -2.5332806424425853, -2.5275208218478626, -2.521980573403072, -2.5167073700089757, -2.511719779465389, -2.507007219159614, -2.5025316457858553, -2.498230211859957, -2.4940179632313675, -2.489789849401693, -2.4854215640260953, -2.480768949359015, -2.4756658490245096, -2.469920374243053, -2.463309574014455, -2.455572491143712, -2.446401565291063, -2.4354323320995475, -2.4222313848438106, -2.4062826365262184, -2.3869720782950408, -2.363571518794553, -2.335222267646157, -2.300920467172722, -2.25950685526557, -2.2096652104552064, -2.1499355622145804, -2.07875025739402, -1.994502696966291, -1.8956591627997461, -1.78092242284885, -1.6494503153119005, -1.501122137480031, -1.3368303665179355, -1.1587570011927657, -0.9705772234013279, -0.7775248987526882, -0.586261610571798, -0.40451717783649926, -0.24051205858427022, -0.10222021157827961, 0.003429916995282875, 0.07130108452881395, 0.09863256045919729, 0.0853862777964497, 0.03431273709643051, -0.049266907774000675, -0.15793350105409676, -0.2828411623583632, -0.4145098185343939, -0.5436479880620657, -0.6619119872686648, -0.7625180184821851, -0.8406465405684055, -0.8936102022151827, -0.9207914427678333, -0.9233869784343278, -0.9040181348981766, -0.8662750601558091, -0.8142591180023331, -0.7521741792830521, -0.6839990111595325, -0.6132545503573466, -0.5428650249472767, -0.4751019500609906, -0.41159454756814096, -0.3533880320517235, -0.30103148228461113, -0.2546790180494914, -0.2141912077261626, -0.1792274721365447, -0.14932409859865417, -0.1239557930125412, -0.10258115107783682, -0.08467394955289255, -0.06974286690033214, -0.057342358987023716, -0.047077169836252375, -0.03860253914108944], \"yaxis\": \"y\"}, {\"hovertemplate\": \"variable=s4^2<br>alphas=%{x}<br>value=%{y}<extra></extra>\", \"legendgroup\": \"s4^2\", \"line\": {\"color\": \"#B6E880\", \"dash\": \"solid\"}, \"mode\": \"lines\", \"name\": \"s4^2\", \"showlegend\": true, \"type\": \"scattergl\", \"x\": [0.01, 0.012263306841775632, 0.015038869469554102, 0.018442627085855347, 0.022616759492228647, 0.02773562614198415, 0.03401304938279251, 0.04171124612056518, 0.051151780992931425, 0.06272899858196247, 0.07692649574879142, 0.09433732216299774, 0.1156887528316282, 0.1418726674116596, 0.1739828052930364, 0.21336045265014109, 0.2616504698748821, 0.320869999737045, 0.39349272630958493, 0.48255220427412787, 0.5917685748188825, 0.7257039612324212, 0.8899530352885229, 1.0913767146512738, 1.3383887531737564, 1.6413071953751284, 2.0127853758499383, 2.4683404670686486, 3.0270016537634614, 3.7121050090663608, 4.55226827550731, 5.582586268862695, 6.846096838574658, 8.395578619995112, 10.295755673125127, 12.626001098748565, 15.48365256585499, 18.988078244652634, 23.285662984981965, 28.55592301990109, 35.019004614317126, 42.944879887892725, 52.66462393484275, 64.58424430196978, 79.20164050192548, 97.12740198471168, 119.11031332830079, 146.06863203649888, 179.1284454622002, 219.67070907932353, 269.388930959017, 330.35991201283395, 405.1304969235378, 496.8239594734388, 609.2704661368674, 747.1670675868082, 916.2739011886731, 1123.6548001387516, 1377.9723598335568, 1689.8497868124587, 2072.3146452190294, 2541.343036702639, 3116.52694492943, 3821.8926206331225, 4686.904192314192, 5747.694424835347, 7048.574036451903, 8643.882620598262, 10600.258488068825, 12999.42224413245, 15941.590374559995, 19549.661430912594, 23974.349678010785, 29400.480643347077, 36054.71154250506, 44214.99907374487, 54222.21006501592, 66494.35996665046, 81544.07395185171, 100000.0], \"xaxis\": \"x\", \"y\": [4.6278328550368135, 4.576303833381729, 4.526738459204475, 4.479951937319614, 4.436552496699924, 4.39692151973618, 4.361219992844659, 4.329414672751935, 4.30131548965282, 4.2766161835526395, 4.254932085473533, 4.235831326086676, 4.218857871158509, 4.203546306603651, 4.189429181049855, 4.176038079522599, 4.162899619417115, 4.149527387076216, 4.13541058832146, 4.119999947544063, 4.10269120654927, 4.082806479859338, 4.059573748117477, 4.032104952856186, 3.9993735444676735, 3.960192995131961, 3.913198790172823, 3.856837807842055, 3.7893707769694007, 3.7088955096257785, 3.6134004406663642, 3.5008589187649353, 3.369373558493372, 3.2173754317642356, 3.043873835648407, 2.8487387304476686, 2.632981531570925, 2.3989849903760714, 2.1506253463665423, 1.8932352435459587, 1.6333761779790215, 1.3784213809932506, 1.135986539869141, 0.9132778076713426, 0.7164471295126358, 0.550049792113796, 0.41668629660884765, 0.3168804914473475, 0.2492026991806331, 0.2105998696921097, 0.1968574679326525, 0.20310097690343712, 0.2242527280887007, 0.25538761913915936, 0.2919682009082205, 0.3299733313597302, 0.36595595108147616, 0.39707064794632474, 0.4211018011495916, 0.43650344994587076, 0.44244042734847505, 0.438805255602382, 0.4261831850003738, 0.40574968393999405, 0.3791053436818907, 0.3480731565187045, 0.3144938969846726, 0.28005344463649395, 0.24616398319272878, 0.21390533007494125, 0.18401926708817296, 0.15694202034317012, 0.13285822612315906, 0.11176207975399281, 0.09351563120846376, 0.07789856619691997, 0.06464730213057497, 0.05348353657628497, 0.04413363317311193, 0.03634070554338115], \"yaxis\": \"y\"}, {\"hovertemplate\": \"variable=s5^2<br>alphas=%{x}<br>value=%{y}<extra></extra>\", \"legendgroup\": \"s5^2\", \"line\": {\"color\": \"#FF97FF\", \"dash\": \"solid\"}, \"mode\": \"lines\", \"name\": \"s5^2\", \"showlegend\": true, \"type\": \"scattergl\", \"x\": [0.01, 0.012263306841775632, 0.015038869469554102, 0.018442627085855347, 0.022616759492228647, 0.02773562614198415, 0.03401304938279251, 0.04171124612056518, 0.051151780992931425, 0.06272899858196247, 0.07692649574879142, 0.09433732216299774, 0.1156887528316282, 0.1418726674116596, 0.1739828052930364, 0.21336045265014109, 0.2616504698748821, 0.320869999737045, 0.39349272630958493, 0.48255220427412787, 0.5917685748188825, 0.7257039612324212, 0.8899530352885229, 1.0913767146512738, 1.3383887531737564, 1.6413071953751284, 2.0127853758499383, 2.4683404670686486, 3.0270016537634614, 3.7121050090663608, 4.55226827550731, 5.582586268862695, 6.846096838574658, 8.395578619995112, 10.295755673125127, 12.626001098748565, 15.48365256585499, 18.988078244652634, 23.285662984981965, 28.55592301990109, 35.019004614317126, 42.944879887892725, 52.66462393484275, 64.58424430196978, 79.20164050192548, 97.12740198471168, 119.11031332830079, 146.06863203649888, 179.1284454622002, 219.67070907932353, 269.388930959017, 330.35991201283395, 405.1304969235378, 496.8239594734388, 609.2704661368674, 747.1670675868082, 916.2739011886731, 1123.6548001387516, 1377.9723598335568, 1689.8497868124587, 2072.3146452190294, 2541.343036702639, 3116.52694492943, 3821.8926206331225, 4686.904192314192, 5747.694424835347, 7048.574036451903, 8643.882620598262, 10600.258488068825, 12999.42224413245, 15941.590374559995, 19549.661430912594, 23974.349678010785, 29400.480643347077, 36054.71154250506, 44214.99907374487, 54222.21006501592, 66494.35996665046, 81544.07395185171, 100000.0], \"xaxis\": \"x\", \"y\": [-31.146413099219174, -28.008712609068898, -24.995416090348254, -22.15738761921672, -19.533025928164207, -17.147094972836072, -15.01117725096199, -13.125347649496648, -11.480551375774041, -10.06119922774756, -8.847611481883527, -7.8180877245210425, -6.950510574665814, -6.223485659949661, -5.617075650666094, -5.113209869688139, -4.6958533817335875, -4.351010020665291, -4.066619498340197, -3.8323938738637353, -3.639625486796993, -3.48098783014557, -3.3503428247816838, -3.2425622435864643, -3.1533671797637055, -3.0791870216556423, -3.017038004670231, -2.9644207396568567, -2.9192358848093303, -2.879717056543467, -2.8443798581791495, -2.811985209946163, -2.781513685907071, -2.752145166756144, -2.7232350417716686, -2.694275265405338, -2.664827292762543, -2.634416241240069, -2.6023833255816533, -2.5677072375186865, -2.528822918345867, -2.483483531450149, -2.428721790360531, -2.360963663649105, -2.2763271967209824, -2.171102841064089, -2.042365440351146, -1.888622183908467, -1.7103682076248172, -1.5104151122131055, -1.2938867092652735, -1.067840592003844, -0.8405597103508022, -0.6206391489990594, -0.41604185531051724, -0.23329649785928583, -0.07696378369196079, 0.050575651874046654, 0.14903200375627138, 0.21988861103379734, 0.26595192402606743, 0.2908616482567005, 0.2986329057108176, 0.29327547325327874, 0.27851056598264673, 0.2575872129433151, 0.23318841937711982, 0.2074106801678398, 0.1817975309286295, 0.15740772742014858, 0.13490069351050155, 0.11462540791488668, 0.09670310246467505, 0.0810982173221254, 0.06767541458960942, 0.056242822827964445, 0.04658308670721201, 0.038474417087313924, 0.031703924313298944, 0.02607529830126032], \"yaxis\": \"y\"}, {\"hovertemplate\": \"variable=s6^2<br>alphas=%{x}<br>value=%{y}<extra></extra>\", \"legendgroup\": \"s6^2\", \"line\": {\"color\": \"#FECB52\", \"dash\": \"solid\"}, \"mode\": \"lines\", \"name\": \"s6^2\", \"showlegend\": true, \"type\": \"scattergl\", \"x\": [0.01, 0.012263306841775632, 0.015038869469554102, 0.018442627085855347, 0.022616759492228647, 0.02773562614198415, 0.03401304938279251, 0.04171124612056518, 0.051151780992931425, 0.06272899858196247, 0.07692649574879142, 0.09433732216299774, 0.1156887528316282, 0.1418726674116596, 0.1739828052930364, 0.21336045265014109, 0.2616504698748821, 0.320869999737045, 0.39349272630958493, 0.48255220427412787, 0.5917685748188825, 0.7257039612324212, 0.8899530352885229, 1.0913767146512738, 1.3383887531737564, 1.6413071953751284, 2.0127853758499383, 2.4683404670686486, 3.0270016537634614, 3.7121050090663608, 4.55226827550731, 5.582586268862695, 6.846096838574658, 8.395578619995112, 10.295755673125127, 12.626001098748565, 15.48365256585499, 18.988078244652634, 23.285662984981965, 28.55592301990109, 35.019004614317126, 42.944879887892725, 52.66462393484275, 64.58424430196978, 79.20164050192548, 97.12740198471168, 119.11031332830079, 146.06863203649888, 179.1284454622002, 219.67070907932353, 269.388930959017, 330.35991201283395, 405.1304969235378, 496.8239594734388, 609.2704661368674, 747.1670675868082, 916.2739011886731, 1123.6548001387516, 1377.9723598335568, 1689.8497868124587, 2072.3146452190294, 2541.343036702639, 3116.52694492943, 3821.8926206331225, 4686.904192314192, 5747.694424835347, 7048.574036451903, 8643.882620598262, 10600.258488068825, 12999.42224413245, 15941.590374559995, 19549.661430912594, 23974.349678010785, 29400.480643347077, 36054.71154250506, 44214.99907374487, 54222.21006501592, 66494.35996665046, 81544.07395185171, 100000.0], \"xaxis\": \"x\", \"y\": [7.423085282546549, 7.410779510567599, 7.398943275288902, 7.387771407865011, 7.377409327776974, 7.367948302320755, 7.359426994354485, 7.351837720749624, 7.345135396622476, 7.33924725393758, 7.334081880593051, 7.32953669238404, 7.325503455779391, 7.321871843116755, 7.318531212800771, 7.315370893582624, 7.3122792545935935, 7.309141798610771, 7.3058384523512, 7.30224016153268, 7.298204839103119, 7.293572666225228, 7.288160708039222, 7.281756779054593, 7.27411247458583, 7.264935272800169, 7.2538796041613605, 7.240536778697678, 7.224423654698983, 7.204969925920326, 7.18150390508461, 7.153236708376636, 7.119244838747042, 7.078451399678624, 7.02960667040171, 6.971269721405942, 6.901794360020729, 6.8193251135401605, 6.721812048486031, 6.607056308045875, 6.472799918257483, 6.316871692090662, 6.137394074363983, 5.933042803347164, 5.703333729505793, 5.448892870989983, 5.171652458165212, 4.8749134891642365, 4.563229131220818, 4.242094731762774, 3.9174749831697055, 3.595245346398363, 3.2806563034930716, 2.977929980913064, 2.6900642678135904, 2.4188604846942336, 2.165129598564694, 1.928992155650538, 1.7101805525889344, 1.5082752566240394, 1.3228441425214192, 1.1534894131525015, 0.999828785466505, 0.8614444706062325, 0.7378288922241866, 0.6283460613439386, 0.5322169601160812, 0.44852890335591444, 0.376263556924703, 0.3143359579703322, 0.26163687273648917, 0.2170723180442627, 0.1795962346953348, 0.14823445977802233, 0.12209987460330618, 0.10039973879163322, 0.08243678738264829, 0.06760580015882113, 0.055387210727628367, 0.045339046029790005], \"yaxis\": \"y\"}, {\"hovertemplate\": \"variable=age^3<br>alphas=%{x}<br>value=%{y}<extra></extra>\", \"legendgroup\": \"age^3\", \"line\": {\"color\": \"#636efa\", \"dash\": \"solid\"}, \"mode\": \"lines\", \"name\": \"age^3\", \"showlegend\": true, \"type\": \"scattergl\", \"x\": [0.01, 0.012263306841775632, 0.015038869469554102, 0.018442627085855347, 0.022616759492228647, 0.02773562614198415, 0.03401304938279251, 0.04171124612056518, 0.051151780992931425, 0.06272899858196247, 0.07692649574879142, 0.09433732216299774, 0.1156887528316282, 0.1418726674116596, 0.1739828052930364, 0.21336045265014109, 0.2616504698748821, 0.320869999737045, 0.39349272630958493, 0.48255220427412787, 0.5917685748188825, 0.7257039612324212, 0.8899530352885229, 1.0913767146512738, 1.3383887531737564, 1.6413071953751284, 2.0127853758499383, 2.4683404670686486, 3.0270016537634614, 3.7121050090663608, 4.55226827550731, 5.582586268862695, 6.846096838574658, 8.395578619995112, 10.295755673125127, 12.626001098748565, 15.48365256585499, 18.988078244652634, 23.285662984981965, 28.55592301990109, 35.019004614317126, 42.944879887892725, 52.66462393484275, 64.58424430196978, 79.20164050192548, 97.12740198471168, 119.11031332830079, 146.06863203649888, 179.1284454622002, 219.67070907932353, 269.388930959017, 330.35991201283395, 405.1304969235378, 496.8239594734388, 609.2704661368674, 747.1670675868082, 916.2739011886731, 1123.6548001387516, 1377.9723598335568, 1689.8497868124587, 2072.3146452190294, 2541.343036702639, 3116.52694492943, 3821.8926206331225, 4686.904192314192, 5747.694424835347, 7048.574036451903, 8643.882620598262, 10600.258488068825, 12999.42224413245, 15941.590374559995, 19549.661430912594, 23974.349678010785, 29400.480643347077, 36054.71154250506, 44214.99907374487, 54222.21006501592, 66494.35996665046, 81544.07395185171, 100000.0], \"xaxis\": \"x\", \"y\": [-11.335817901101024, -11.343596660132778, -11.350934824959069, -11.357672812456602, -11.363678178615853, -11.36884741168899, -11.373103156771016, -11.376387869367019, -11.378655183392976, -11.379860184815316, -11.379949452050802, -11.378851317085136, -11.37646643143911, -11.372658443473052, -11.367244415784992, -11.359984515607335, -11.35057047183763, -11.338612288371476, -11.323622722632704, -11.304999079125382, -11.282001939684672, -11.253730574934181, -11.219094986848345, -11.176784864385635, -11.125236249827742, -11.062597480129229, -10.986697054913494, -10.895017544279439, -10.784681489115949, -10.652457366044658, -10.49479581978686, -10.307907997252194, -10.087898154649922, -9.83096070583565, -9.533646414082227, -9.193192660996136, -8.807898644871534, -8.37750940778677, -7.903556106420993, -7.389589059191806, -6.8412407233411106, -6.266072491502016, -5.673192697837088, -5.072678017520532, -4.474874911333786, -3.889687463665107, -3.3259616924912314, -2.7910520455363725, -2.290611918201151, -1.8286017553973302, -1.4074697980636626, -1.0284391209052006, -0.6918298446001939, -0.3973526499317052, -0.14432459682722223, 0.06822132134528966, 0.24153652011578555, 0.37724396163152657, 0.4774662183054873, 0.5449370365309651, 0.5830436507643669, 0.5957674949057158, 0.5875205212905057, 0.5629031807926841, 0.5264292409059727, 0.48226729834519394, 0.4340397784498308, 0.384702401564276, 0.3365073045812962, 0.29103707464187406, 0.24928802428451272, 0.21177925215034535, 0.17866744057436154, 0.149853276562135, 0.1250715710820096, 0.10396221379014076, 0.08612253435573403, 0.07114354048779742, 0.05863323839465819, 0.04823023503283875], \"yaxis\": \"y\"}, {\"hovertemplate\": \"variable=sex^3<br>alphas=%{x}<br>value=%{y}<extra></extra>\", \"legendgroup\": \"sex^3\", \"line\": {\"color\": \"#EF553B\", \"dash\": \"solid\"}, \"mode\": \"lines\", \"name\": \"sex^3\", \"showlegend\": true, \"type\": \"scattergl\", \"x\": [0.01, 0.012263306841775632, 0.015038869469554102, 0.018442627085855347, 0.022616759492228647, 0.02773562614198415, 0.03401304938279251, 0.04171124612056518, 0.051151780992931425, 0.06272899858196247, 0.07692649574879142, 0.09433732216299774, 0.1156887528316282, 0.1418726674116596, 0.1739828052930364, 0.21336045265014109, 0.2616504698748821, 0.320869999737045, 0.39349272630958493, 0.48255220427412787, 0.5917685748188825, 0.7257039612324212, 0.8899530352885229, 1.0913767146512738, 1.3383887531737564, 1.6413071953751284, 2.0127853758499383, 2.4683404670686486, 3.0270016537634614, 3.7121050090663608, 4.55226827550731, 5.582586268862695, 6.846096838574658, 8.395578619995112, 10.295755673125127, 12.626001098748565, 15.48365256585499, 18.988078244652634, 23.285662984981965, 28.55592301990109, 35.019004614317126, 42.944879887892725, 52.66462393484275, 64.58424430196978, 79.20164050192548, 97.12740198471168, 119.11031332830079, 146.06863203649888, 179.1284454622002, 219.67070907932353, 269.388930959017, 330.35991201283395, 405.1304969235378, 496.8239594734388, 609.2704661368674, 747.1670675868082, 916.2739011886731, 1123.6548001387516, 1377.9723598335568, 1689.8497868124587, 2072.3146452190294, 2541.343036702639, 3116.52694492943, 3821.8926206331225, 4686.904192314192, 5747.694424835347, 7048.574036451903, 8643.882620598262, 10600.258488068825, 12999.42224413245, 15941.590374559995, 19549.661430912594, 23974.349678010785, 29400.480643347077, 36054.71154250506, 44214.99907374487, 54222.21006501592, 66494.35996665046, 81544.07395185171, 100000.0], \"xaxis\": \"x\", \"y\": [-3.9803343839260603, -3.976266398197699, -3.9723529044751626, -3.9686581245831762, -3.9652299252843757, -3.9620982439691566, -3.959275591210188, -3.9567591069716577, -3.954533501155594, -3.9525742466208844, -3.9508505435041297, -3.9493277603684653, -3.9479692243787072, -3.9467373528824625, -3.945594187010621, -3.9445014167002963, -3.9434199854730028, -3.9423093479764635, -3.941126430136285, -3.939824317779474, -3.9383506771331462, -3.9366458910978066, -3.934640878946817, -3.9322545542949996, -3.9293908669592112, -3.9259353693276866, -3.921751248202502, -3.9166747705656233, -3.9105101087924297, -3.9030235405760854, -3.8939370648482083, -3.8829215412386415, -3.86958955109441, -3.8534882959287593, -3.8340929949904816, -3.8108014119794906, -3.7829303152097227, -3.7497148227873005, -3.7103116541668966, -3.6638072430182302, -3.6092314212836616, -3.545576972253457, -3.471824872573978, -3.3869746969867265, -3.2900796940237416, -3.1802866551316793, -3.0568819145853054, -2.9193463613533024, -2.7674235914583147, -2.6012053222234734, -2.4212357814611596, -2.2286309795083086, -2.0251993263690706, -1.8135382832993818, -1.5970711757418397, -1.3799845492180278, -1.1670354679635122, -0.963222857720056, -0.7733536937793519, -0.6015721807219864, -0.4509426829205018, -0.3231731639077513, -0.21853398214737485, -0.13597804757672433, -0.07342057759507055, -0.02810617749711901, 0.003014971245942508, 0.0229645087025938, 0.03450251956846064, 0.0399914827442584, 0.04134530833573696, 0.04004080899537106, 0.037167200277003834, 0.033492955499788514, 0.029535313700254757, 0.025623651462302558, 0.021952608716267457, 0.018624002396522853, 0.015678356971384918, 0.013117694868564489], \"yaxis\": \"y\"}, {\"hovertemplate\": \"variable=bmi^3<br>alphas=%{x}<br>value=%{y}<extra></extra>\", \"legendgroup\": \"bmi^3\", \"line\": {\"color\": \"#00cc96\", \"dash\": \"solid\"}, \"mode\": \"lines\", \"name\": \"bmi^3\", \"showlegend\": true, \"type\": \"scattergl\", \"x\": [0.01, 0.012263306841775632, 0.015038869469554102, 0.018442627085855347, 0.022616759492228647, 0.02773562614198415, 0.03401304938279251, 0.04171124612056518, 0.051151780992931425, 0.06272899858196247, 0.07692649574879142, 0.09433732216299774, 0.1156887528316282, 0.1418726674116596, 0.1739828052930364, 0.21336045265014109, 0.2616504698748821, 0.320869999737045, 0.39349272630958493, 0.48255220427412787, 0.5917685748188825, 0.7257039612324212, 0.8899530352885229, 1.0913767146512738, 1.3383887531737564, 1.6413071953751284, 2.0127853758499383, 2.4683404670686486, 3.0270016537634614, 3.7121050090663608, 4.55226827550731, 5.582586268862695, 6.846096838574658, 8.395578619995112, 10.295755673125127, 12.626001098748565, 15.48365256585499, 18.988078244652634, 23.285662984981965, 28.55592301990109, 35.019004614317126, 42.944879887892725, 52.66462393484275, 64.58424430196978, 79.20164050192548, 97.12740198471168, 119.11031332830079, 146.06863203649888, 179.1284454622002, 219.67070907932353, 269.388930959017, 330.35991201283395, 405.1304969235378, 496.8239594734388, 609.2704661368674, 747.1670675868082, 916.2739011886731, 1123.6548001387516, 1377.9723598335568, 1689.8497868124587, 2072.3146452190294, 2541.343036702639, 3116.52694492943, 3821.8926206331225, 4686.904192314192, 5747.694424835347, 7048.574036451903, 8643.882620598262, 10600.258488068825, 12999.42224413245, 15941.590374559995, 19549.661430912594, 23974.349678010785, 29400.480643347077, 36054.71154250506, 44214.99907374487, 54222.21006501592, 66494.35996665046, 81544.07395185171, 100000.0], \"xaxis\": \"x\", \"y\": [1.4654852671641523, 1.494792533506484, 1.5229867421026624, 1.5496052058074177, 1.5743030688481037, 1.596864643160948, 1.6171997916256877, 1.6353291160617804, 1.6513627734961227, 1.665477475244924, 1.6778951360281296, 1.688865294654454, 1.6986522273795384, 1.7075268131247552, 1.7157627123725896, 1.7236362218631953, 1.7314291688861385, 1.7394343237990904, 1.7479629722241454, 1.757354457471795, 1.7679876550263387, 1.7802944602156867, 1.7947754461577725, 1.8120178670887803, 1.8327161192084, 1.8576945916564456, 1.8879324935127355, 1.9245896636504811, 1.9690314853338307, 2.022849769386964, 2.0878748040631447, 2.1661717361417536, 2.2600122205935453, 2.371810247143447, 2.5040099300206187, 2.6589139356098572, 2.8384455710109933, 3.0438468131159624, 3.2753293766155043, 3.5317150007023943, 3.8101202270047407, 4.105752948285955, 4.4118850449108695, 4.720042713817941, 5.020415965906578, 5.302442014627254, 5.555479839854229, 5.76947903254859, 5.935559962552434, 6.046457505132745, 6.096821920675051, 6.083401935048288, 6.00514635370465, 5.863250525829866, 5.661150035253517, 5.404438649395801, 5.100673692372158, 4.759037908356457, 4.389852543028313, 4.003972931912836, 3.6121312129228533, 3.2243079957624117, 2.8492102434019904, 2.493909630820362, 2.163663684171658, 1.8619112557566455, 1.5904112128455434, 1.3494810502768744, 1.1382896577724826, 0.9551632810260674, 0.7978729715407981, 0.6638828228061869, 0.5505488144273314, 0.45526662977039634, 0.37557269697898754, 0.3092059632820224, 0.2541390444674054, 0.20858707040846172, 0.17100141455308684, 0.1400540452153623], \"yaxis\": \"y\"}, {\"hovertemplate\": \"variable=bp^3<br>alphas=%{x}<br>value=%{y}<extra></extra>\", \"legendgroup\": \"bp^3\", \"line\": {\"color\": \"#ab63fa\", \"dash\": \"solid\"}, \"mode\": \"lines\", \"name\": \"bp^3\", \"showlegend\": true, \"type\": \"scattergl\", \"x\": [0.01, 0.012263306841775632, 0.015038869469554102, 0.018442627085855347, 0.022616759492228647, 0.02773562614198415, 0.03401304938279251, 0.04171124612056518, 0.051151780992931425, 0.06272899858196247, 0.07692649574879142, 0.09433732216299774, 0.1156887528316282, 0.1418726674116596, 0.1739828052930364, 0.21336045265014109, 0.2616504698748821, 0.320869999737045, 0.39349272630958493, 0.48255220427412787, 0.5917685748188825, 0.7257039612324212, 0.8899530352885229, 1.0913767146512738, 1.3383887531737564, 1.6413071953751284, 2.0127853758499383, 2.4683404670686486, 3.0270016537634614, 3.7121050090663608, 4.55226827550731, 5.582586268862695, 6.846096838574658, 8.395578619995112, 10.295755673125127, 12.626001098748565, 15.48365256585499, 18.988078244652634, 23.285662984981965, 28.55592301990109, 35.019004614317126, 42.944879887892725, 52.66462393484275, 64.58424430196978, 79.20164050192548, 97.12740198471168, 119.11031332830079, 146.06863203649888, 179.1284454622002, 219.67070907932353, 269.388930959017, 330.35991201283395, 405.1304969235378, 496.8239594734388, 609.2704661368674, 747.1670675868082, 916.2739011886731, 1123.6548001387516, 1377.9723598335568, 1689.8497868124587, 2072.3146452190294, 2541.343036702639, 3116.52694492943, 3821.8926206331225, 4686.904192314192, 5747.694424835347, 7048.574036451903, 8643.882620598262, 10600.258488068825, 12999.42224413245, 15941.590374559995, 19549.661430912594, 23974.349678010785, 29400.480643347077, 36054.71154250506, 44214.99907374487, 54222.21006501592, 66494.35996665046, 81544.07395185171, 100000.0], \"xaxis\": \"x\", \"y\": [3.563443157708031, 3.5637956630443814, 3.5641592172351046, 3.5645344492160436, 3.5649241041016944, 3.565333385678852, 3.565770220762733, 3.566245490995705, 3.56677328983824, 3.5673712634170758, 3.568061088256263, 3.5688691318258434, 3.569827337045658, 3.570974371260645, 3.5723570841914865, 3.5740323275430144, 3.57606920064998, 3.5785518010689357, 3.5815825757772806, 3.5852863869457186, 3.5898154251104133, 3.5953551202298515, 3.6021312143857176, 3.6104181631311953, 3.620549015981366, 3.6329268740646943, 3.6480379083538814, 3.666465704665927, 3.6889063224134553, 3.7161828325587463, 3.749257140756061, 3.789235516411843, 3.837362410778378, 3.8949949879371975, 3.9635487366071858, 4.044403438182204, 4.13875997965124, 4.247443635826855, 4.3706597650909425, 4.5077232091336565, 4.656800343936122, 4.814717022518923, 4.976889235287375, 5.137420413459274, 5.289379654541229, 5.425236105696967, 5.537389262535149, 5.618715784947576, 5.6630568005862845, 5.66559237133978, 5.623081546697102, 5.533975306350208, 5.398427301752948, 5.218231150670702, 4.996705992702228, 4.738539997249993, 4.449590793161457, 4.136636899951961, 3.8070769809485325, 3.468583064253926, 3.128726431878921, 2.7946060986427477, 2.472515538682949, 2.1676813831934028, 1.8840986386042304, 1.6244730690901954, 1.3902661824456726, 1.1818250592615618, 0.99857054972625, 0.8392143230721751, 0.7019776037154221, 0.5847906251572214, 0.4854597281045835, 0.4017966260483545, 0.33171034193122434, 0.27326617999220504, 0.22471797359424664, 0.18452022276646127, 0.1513261656305763, 0.1239767976856656], \"yaxis\": \"y\"}, {\"hovertemplate\": \"variable=s1^3<br>alphas=%{x}<br>value=%{y}<extra></extra>\", \"legendgroup\": \"s1^3\", \"line\": {\"color\": \"#FFA15A\", \"dash\": \"solid\"}, \"mode\": \"lines\", \"name\": \"s1^3\", \"showlegend\": true, \"type\": \"scattergl\", \"x\": [0.01, 0.012263306841775632, 0.015038869469554102, 0.018442627085855347, 0.022616759492228647, 0.02773562614198415, 0.03401304938279251, 0.04171124612056518, 0.051151780992931425, 0.06272899858196247, 0.07692649574879142, 0.09433732216299774, 0.1156887528316282, 0.1418726674116596, 0.1739828052930364, 0.21336045265014109, 0.2616504698748821, 0.320869999737045, 0.39349272630958493, 0.48255220427412787, 0.5917685748188825, 0.7257039612324212, 0.8899530352885229, 1.0913767146512738, 1.3383887531737564, 1.6413071953751284, 2.0127853758499383, 2.4683404670686486, 3.0270016537634614, 3.7121050090663608, 4.55226827550731, 5.582586268862695, 6.846096838574658, 8.395578619995112, 10.295755673125127, 12.626001098748565, 15.48365256585499, 18.988078244652634, 23.285662984981965, 28.55592301990109, 35.019004614317126, 42.944879887892725, 52.66462393484275, 64.58424430196978, 79.20164050192548, 97.12740198471168, 119.11031332830079, 146.06863203649888, 179.1284454622002, 219.67070907932353, 269.388930959017, 330.35991201283395, 405.1304969235378, 496.8239594734388, 609.2704661368674, 747.1670675868082, 916.2739011886731, 1123.6548001387516, 1377.9723598335568, 1689.8497868124587, 2072.3146452190294, 2541.343036702639, 3116.52694492943, 3821.8926206331225, 4686.904192314192, 5747.694424835347, 7048.574036451903, 8643.882620598262, 10600.258488068825, 12999.42224413245, 15941.590374559995, 19549.661430912594, 23974.349678010785, 29400.480643347077, 36054.71154250506, 44214.99907374487, 54222.21006501592, 66494.35996665046, 81544.07395185171, 100000.0], \"xaxis\": \"x\", \"y\": [13.234175099688121, 13.210714468579127, 13.187957107751574, 13.166225890424549, 13.145744058450449, 13.126624598158111, 13.108870822411063, 13.092385156984806, 13.076982285877255, 13.062403000395573, 13.048325920229969, 13.03437527706211, 13.02012386031947, 13.005090872367054, 12.988734809755247, 12.970441635042745, 12.949508512649864, 12.925123331826896, 12.896340196495073, 12.862051079139588, 12.820953960241233, 12.771518050084696, 12.711947161436617, 12.640143015015418, 12.553671254001571, 12.449734238347432, 12.325156262306455, 12.176388596588877, 11.999543500635347, 11.790467737654774, 11.54486663799482, 11.258488697864557, 10.927377247058685, 10.548189091010366, 10.118569832460881, 9.637562290353118, 9.106009898527354, 8.526904465473796, 7.905621248906428, 7.249987299909294, 6.570142588548452, 5.878175850493984, 5.187544788792389, 4.512319319585242, 3.8663135482772466, 3.2621935283817134, 2.710659038096761, 2.219793907068301, 1.7946585108362934, 1.4371622516364477, 1.1462103406050959, 0.9180780722721272, 0.7469370686074379, 0.625448615548591, 0.545350564007189, 0.4979908881771468, 0.474791919430195, 0.467651970488197, 0.46929689523708473, 0.47358275522303744, 0.4757308483022319, 0.47246150538597054, 0.4619946020525592, 0.44390522206892746, 0.41885446523558423, 0.3882441220481452, 0.35385773778676, 0.3175452613977997, 0.280988633522975, 0.2455607857187843, 0.2122694967002957, 0.18176517747543658, 0.15438819803259501, 0.13023423587224042, 0.10922199567049976, 0.09115387347285384, 0.0757652304325231, 0.06276141511216166, 0.051843657289671614, 0.042725831728814924], \"yaxis\": \"y\"}, {\"hovertemplate\": \"variable=s2^3<br>alphas=%{x}<br>value=%{y}<extra></extra>\", \"legendgroup\": \"s2^3\", \"line\": {\"color\": \"#19d3f3\", \"dash\": \"solid\"}, \"mode\": \"lines\", \"name\": \"s2^3\", \"showlegend\": true, \"type\": \"scattergl\", \"x\": [0.01, 0.012263306841775632, 0.015038869469554102, 0.018442627085855347, 0.022616759492228647, 0.02773562614198415, 0.03401304938279251, 0.04171124612056518, 0.051151780992931425, 0.06272899858196247, 0.07692649574879142, 0.09433732216299774, 0.1156887528316282, 0.1418726674116596, 0.1739828052930364, 0.21336045265014109, 0.2616504698748821, 0.320869999737045, 0.39349272630958493, 0.48255220427412787, 0.5917685748188825, 0.7257039612324212, 0.8899530352885229, 1.0913767146512738, 1.3383887531737564, 1.6413071953751284, 2.0127853758499383, 2.4683404670686486, 3.0270016537634614, 3.7121050090663608, 4.55226827550731, 5.582586268862695, 6.846096838574658, 8.395578619995112, 10.295755673125127, 12.626001098748565, 15.48365256585499, 18.988078244652634, 23.285662984981965, 28.55592301990109, 35.019004614317126, 42.944879887892725, 52.66462393484275, 64.58424430196978, 79.20164050192548, 97.12740198471168, 119.11031332830079, 146.06863203649888, 179.1284454622002, 219.67070907932353, 269.388930959017, 330.35991201283395, 405.1304969235378, 496.8239594734388, 609.2704661368674, 747.1670675868082, 916.2739011886731, 1123.6548001387516, 1377.9723598335568, 1689.8497868124587, 2072.3146452190294, 2541.343036702639, 3116.52694492943, 3821.8926206331225, 4686.904192314192, 5747.694424835347, 7048.574036451903, 8643.882620598262, 10600.258488068825, 12999.42224413245, 15941.590374559995, 19549.661430912594, 23974.349678010785, 29400.480643347077, 36054.71154250506, 44214.99907374487, 54222.21006501592, 66494.35996665046, 81544.07395185171, 100000.0], \"xaxis\": \"x\", \"y\": [-12.379883657357059, -12.357939219917498, -12.336679723249702, -12.316414056961365, -12.297358700625306, -12.279628018692984, -12.263235152160222, -12.248100700479574, -12.234065597989815, -12.220904772359948, -12.208338951958284, -12.196042956874505, -12.183649671427837, -12.170749515617093, -12.1568855936578, -12.14154485356483, -12.124145620700475, -12.104021845512046, -12.080404393509623, -12.052399753084996, -12.018966684073687, -11.97889161157239, -11.930764015188466, -11.872953694777157, -11.803592613066739, -11.720564993843498, -11.621510410312728, -11.503845579645512, -11.364811249930995, -11.201550602739538, -11.011224607200102, -10.791167327536389, -10.539079920556402, -10.253255742717487, -9.932820786695066, -9.577964459653602, -9.190127363631564, -8.77210806082086, -8.328052930696066, -7.863304341959896, -7.384102389758379, -6.897161426600354, -6.409169274276586, -5.926278139765801, -5.453666052532414, -4.99524164447382, -4.553541550087041, -4.129831620314913, -3.724379705581294, -3.336832537585463, -2.966614405429469, -2.613274961647116, -2.27674082311671, -1.957456675435813, -1.6564230993224567, -1.3751448468316065, -1.1154991528916227, -0.8795293230442882, -0.6691738428747408, -0.4859579257868193, -0.33069569998275383, -0.20326428533306515, -0.1025048310548443, -0.026278269802474268, 0.02833568699488838, 0.06474336788625343, 0.08651135100672631, 0.09707247557807384, 0.09950625298354336, 0.09641016645715875, 0.0898557145283515, 0.08140927688859882, 0.07219347404017434, 0.06296706895195198, 0.05420717773792216, 0.04618383115491753, 0.03902215928015786, 0.03275110103002707, 0.027339658947431303, 0.022722696431781802], \"yaxis\": \"y\"}, {\"hovertemplate\": \"variable=s3^3<br>alphas=%{x}<br>value=%{y}<extra></extra>\", \"legendgroup\": \"s3^3\", \"line\": {\"color\": \"#FF6692\", \"dash\": \"solid\"}, \"mode\": \"lines\", \"name\": \"s3^3\", \"showlegend\": true, \"type\": \"scattergl\", \"x\": [0.01, 0.012263306841775632, 0.015038869469554102, 0.018442627085855347, 0.022616759492228647, 0.02773562614198415, 0.03401304938279251, 0.04171124612056518, 0.051151780992931425, 0.06272899858196247, 0.07692649574879142, 0.09433732216299774, 0.1156887528316282, 0.1418726674116596, 0.1739828052930364, 0.21336045265014109, 0.2616504698748821, 0.320869999737045, 0.39349272630958493, 0.48255220427412787, 0.5917685748188825, 0.7257039612324212, 0.8899530352885229, 1.0913767146512738, 1.3383887531737564, 1.6413071953751284, 2.0127853758499383, 2.4683404670686486, 3.0270016537634614, 3.7121050090663608, 4.55226827550731, 5.582586268862695, 6.846096838574658, 8.395578619995112, 10.295755673125127, 12.626001098748565, 15.48365256585499, 18.988078244652634, 23.285662984981965, 28.55592301990109, 35.019004614317126, 42.944879887892725, 52.66462393484275, 64.58424430196978, 79.20164050192548, 97.12740198471168, 119.11031332830079, 146.06863203649888, 179.1284454622002, 219.67070907932353, 269.388930959017, 330.35991201283395, 405.1304969235378, 496.8239594734388, 609.2704661368674, 747.1670675868082, 916.2739011886731, 1123.6548001387516, 1377.9723598335568, 1689.8497868124587, 2072.3146452190294, 2541.343036702639, 3116.52694492943, 3821.8926206331225, 4686.904192314192, 5747.694424835347, 7048.574036451903, 8643.882620598262, 10600.258488068825, 12999.42224413245, 15941.590374559995, 19549.661430912594, 23974.349678010785, 29400.480643347077, 36054.71154250506, 44214.99907374487, 54222.21006501592, 66494.35996665046, 81544.07395185171, 100000.0], \"xaxis\": \"x\", \"y\": [3.458682721546833, 3.4703979500909505, 3.4815384487254004, 3.491886395654322, 3.5012673851083207, 3.5095538786070564, 3.516662146155712, 3.522544201485481, 3.5271766668583253, 3.5305483763727383, 3.5326480570087955, 3.533452847075591, 3.532917890623405, 3.5309668649000043, 3.527483068241123, 3.522300592423953, 3.515195090368384, 3.50587369682875, 3.4939637491703057, 3.4790000849895275, 3.460410874779542, 3.43750220538451, 3.4094419992208236, 3.3752443794387776, 3.3337563192931, 3.283649381608472, 3.223420562506541, 3.1514076255962356, 3.0658256308680074, 2.9648321920581915, 2.846628623982403, 2.7096015866666434, 2.5525040270678097, 2.3746644551084666, 2.1762002841055588, 1.9581965619064505, 1.7228009536513582, 1.4731863320783345, 1.2133502823649895, 0.9477579426583234, 0.680883669995966, 0.4167512727262539, 0.15859113675163816, -0.09128888651156382, -0.33138154974407036, -0.5606474772189991, -0.7780774837264406, -0.9822846265384245, -1.1712444591507996, -1.3422511454252959, -1.4920934225335087, -1.617399721174885, -1.7150696184585557, -1.782702085254947, -1.8189445870624912, -1.8237125391116218, -1.798257765436349, -1.7450913118277676, -1.6677862052772328, -1.5706974853896583, -1.458640008065863, -1.3365610626630848, -1.209237888387955, -1.0810225855012323, -0.9556499827636568, -0.8361173801894828, -0.7246378734348745, -0.6226611691044731, -0.5309486568018714, -0.4496847634513625, -0.37860541028486056, -0.31712661447194057, -0.26446076572561256, -0.21971332472847788, -0.18195735983203692, -0.15028676146936654, -0.12385100532531172, -0.10187518980506952, -0.08366910887781738, -0.06862868867418084], \"yaxis\": \"y\"}, {\"hovertemplate\": \"variable=s4^3<br>alphas=%{x}<br>value=%{y}<extra></extra>\", \"legendgroup\": \"s4^3\", \"line\": {\"color\": \"#B6E880\", \"dash\": \"solid\"}, \"mode\": \"lines\", \"name\": \"s4^3\", \"showlegend\": true, \"type\": \"scattergl\", \"x\": [0.01, 0.012263306841775632, 0.015038869469554102, 0.018442627085855347, 0.022616759492228647, 0.02773562614198415, 0.03401304938279251, 0.04171124612056518, 0.051151780992931425, 0.06272899858196247, 0.07692649574879142, 0.09433732216299774, 0.1156887528316282, 0.1418726674116596, 0.1739828052930364, 0.21336045265014109, 0.2616504698748821, 0.320869999737045, 0.39349272630958493, 0.48255220427412787, 0.5917685748188825, 0.7257039612324212, 0.8899530352885229, 1.0913767146512738, 1.3383887531737564, 1.6413071953751284, 2.0127853758499383, 2.4683404670686486, 3.0270016537634614, 3.7121050090663608, 4.55226827550731, 5.582586268862695, 6.846096838574658, 8.395578619995112, 10.295755673125127, 12.626001098748565, 15.48365256585499, 18.988078244652634, 23.285662984981965, 28.55592301990109, 35.019004614317126, 42.944879887892725, 52.66462393484275, 64.58424430196978, 79.20164050192548, 97.12740198471168, 119.11031332830079, 146.06863203649888, 179.1284454622002, 219.67070907932353, 269.388930959017, 330.35991201283395, 405.1304969235378, 496.8239594734388, 609.2704661368674, 747.1670675868082, 916.2739011886731, 1123.6548001387516, 1377.9723598335568, 1689.8497868124587, 2072.3146452190294, 2541.343036702639, 3116.52694492943, 3821.8926206331225, 4686.904192314192, 5747.694424835347, 7048.574036451903, 8643.882620598262, 10600.258488068825, 12999.42224413245, 15941.590374559995, 19549.661430912594, 23974.349678010785, 29400.480643347077, 36054.71154250506, 44214.99907374487, 54222.21006501592, 66494.35996665046, 81544.07395185171, 100000.0], \"xaxis\": \"x\", \"y\": [-0.8507505637106173, -0.8208919417535677, -0.7922463536614606, -0.7653051899279624, -0.7404420248740525, -0.7179017181725067, -0.6978050717808629, -0.6801652107989475, -0.6649107669051088, -0.6519112274464844, -0.6410009405860277, -0.6319996606968132, -0.6247287626374943, -0.619023148977093, -0.6147393925871506, -0.611760865132134, -0.6100005961145407, -0.6094024740695653, -0.6099412031322979, -0.6116212010461515, -0.6144743864494515, -0.6185565618459554, -0.6239418614526454, -0.6307145164170621, -0.6389570277084896, -0.6487337877542619, -0.6600693391196573, -0.6729208989403505, -0.6871455897721085, -0.7024640072705043, -0.7184231915322267, -0.7343634377639151, -0.7493942083115734, -0.7623841913068251, -0.7719690144350145, -0.7765775019446217, -0.7744745766671495, -0.7638173904429176, -0.7427223128683773, -0.7093441460358183, -0.6619734804869912, -0.5991598488444602, -0.5198638114588973, -0.42362973375016183, -0.31075654794407526, -0.18243294298317486, -0.04080214454392482, 0.11106846547016756, 0.26931924507867505, 0.4295173442121035, 0.5869317207897689, 0.7368244830606464, 0.874720732245013, 0.9966300314264815, 1.099208851185135, 1.1798693481072353, 1.2368502996946935, 1.2692675313496269, 1.2771533234426191, 1.261480117854098, 1.2241494833990627, 1.167920264889871, 1.0962557129561916, 1.0130881788010226, 0.9225248219599501, 0.8285379347860812, 0.7346899830419071, 0.6439340054877037, 0.558509608951143, 0.4799321962568081, 0.40905596118826754, 0.3461831730984466, 0.2911927188360011, 0.24366668937363603, 0.20300153829908038, 0.16849747524083777, 0.13942504700304914, 0.11507108268280172, 0.09476768741369485, 0.07790830295291067], \"yaxis\": \"y\"}, {\"hovertemplate\": \"variable=s5^3<br>alphas=%{x}<br>value=%{y}<extra></extra>\", \"legendgroup\": \"s5^3\", \"line\": {\"color\": \"#FF97FF\", \"dash\": \"solid\"}, \"mode\": \"lines\", \"name\": \"s5^3\", \"showlegend\": true, \"type\": \"scattergl\", \"x\": [0.01, 0.012263306841775632, 0.015038869469554102, 0.018442627085855347, 0.022616759492228647, 0.02773562614198415, 0.03401304938279251, 0.04171124612056518, 0.051151780992931425, 0.06272899858196247, 0.07692649574879142, 0.09433732216299774, 0.1156887528316282, 0.1418726674116596, 0.1739828052930364, 0.21336045265014109, 0.2616504698748821, 0.320869999737045, 0.39349272630958493, 0.48255220427412787, 0.5917685748188825, 0.7257039612324212, 0.8899530352885229, 1.0913767146512738, 1.3383887531737564, 1.6413071953751284, 2.0127853758499383, 2.4683404670686486, 3.0270016537634614, 3.7121050090663608, 4.55226827550731, 5.582586268862695, 6.846096838574658, 8.395578619995112, 10.295755673125127, 12.626001098748565, 15.48365256585499, 18.988078244652634, 23.285662984981965, 28.55592301990109, 35.019004614317126, 42.944879887892725, 52.66462393484275, 64.58424430196978, 79.20164050192548, 97.12740198471168, 119.11031332830079, 146.06863203649888, 179.1284454622002, 219.67070907932353, 269.388930959017, 330.35991201283395, 405.1304969235378, 496.8239594734388, 609.2704661368674, 747.1670675868082, 916.2739011886731, 1123.6548001387516, 1377.9723598335568, 1689.8497868124587, 2072.3146452190294, 2541.343036702639, 3116.52694492943, 3821.8926206331225, 4686.904192314192, 5747.694424835347, 7048.574036451903, 8643.882620598262, 10600.258488068825, 12999.42224413245, 15941.590374559995, 19549.661430912594, 23974.349678010785, 29400.480643347077, 36054.71154250506, 44214.99907374487, 54222.21006501592, 66494.35996665046, 81544.07395185171, 100000.0], \"xaxis\": \"x\", \"y\": [-29.421900365518578, -27.817526499333592, -26.27658649941385, -24.82504352435686, -23.482481896680053, -22.26150766391468, -21.167978176423397, -20.201855015320508, -19.358416206175026, -18.62957881145344, -18.005143290941604, -17.473845633836593, -17.02416999104672, -16.64492274834813, -16.325597268298417, -16.056570591849948, -15.829174547353308, -15.635678821034427, -15.46921616039152, -15.323672225756177, -15.193555831318792, -15.073859882223468, -14.959919280786217, -14.847269325144609, -14.731506494825462, -14.608152876710205, -14.472525764488609, -14.31961517453285, -14.143974237643025, -13.939630756568748, -13.700032725461107, -13.418046168059664, -13.086029742794352, -12.69601596248314, -12.240031353578726, -11.710584054249999, -11.101333037210702, -10.407924596551327, -9.628938035527115, -8.766828666798045, -7.828705637697669, -6.8267554289988785, -5.778140713364174, -4.704279637757206, -3.629532136695032, -2.579453766465818, -1.5788784109056413, -0.6501235439429128, 0.18843233379314162, 0.9232490755761631, 1.5459657063917422, 2.053245875386312, 2.446253692321139, 2.729908741591759, 2.9120588545854855, 3.002676398736438, 3.0131407348798387, 2.955628332348395, 2.8426024633769313, 2.686380900051897, 2.4987610788696952, 2.2906920677786577, 2.071994757303591, 1.8511410425435384, 1.6351067335502307, 1.4293107197001178, 1.237645169680337, 1.0625904321399222, 0.9053971795483694, 0.7663106313405165, 0.6448094383466182, 0.5398349338520081, 0.4499931723558194, 0.3737200762782707, 0.30940708312250204, 0.25548982157202, 0.2105053122640255, 0.17312432535425842, 0.14216539954570281, 0.1165961911154559], \"yaxis\": \"y\"}, {\"hovertemplate\": \"variable=s6^3<br>alphas=%{x}<br>value=%{y}<extra></extra>\", \"legendgroup\": \"s6^3\", \"line\": {\"color\": \"#FECB52\", \"dash\": \"solid\"}, \"mode\": \"lines\", \"name\": \"s6^3\", \"showlegend\": true, \"type\": \"scattergl\", \"x\": [0.01, 0.012263306841775632, 0.015038869469554102, 0.018442627085855347, 0.022616759492228647, 0.02773562614198415, 0.03401304938279251, 0.04171124612056518, 0.051151780992931425, 0.06272899858196247, 0.07692649574879142, 0.09433732216299774, 0.1156887528316282, 0.1418726674116596, 0.1739828052930364, 0.21336045265014109, 0.2616504698748821, 0.320869999737045, 0.39349272630958493, 0.48255220427412787, 0.5917685748188825, 0.7257039612324212, 0.8899530352885229, 1.0913767146512738, 1.3383887531737564, 1.6413071953751284, 2.0127853758499383, 2.4683404670686486, 3.0270016537634614, 3.7121050090663608, 4.55226827550731, 5.582586268862695, 6.846096838574658, 8.395578619995112, 10.295755673125127, 12.626001098748565, 15.48365256585499, 18.988078244652634, 23.285662984981965, 28.55592301990109, 35.019004614317126, 42.944879887892725, 52.66462393484275, 64.58424430196978, 79.20164050192548, 97.12740198471168, 119.11031332830079, 146.06863203649888, 179.1284454622002, 219.67070907932353, 269.388930959017, 330.35991201283395, 405.1304969235378, 496.8239594734388, 609.2704661368674, 747.1670675868082, 916.2739011886731, 1123.6548001387516, 1377.9723598335568, 1689.8497868124587, 2072.3146452190294, 2541.343036702639, 3116.52694492943, 3821.8926206331225, 4686.904192314192, 5747.694424835347, 7048.574036451903, 8643.882620598262, 10600.258488068825, 12999.42224413245, 15941.590374559995, 19549.661430912594, 23974.349678010785, 29400.480643347077, 36054.71154250506, 44214.99907374487, 54222.21006501592, 66494.35996665046, 81544.07395185171, 100000.0], \"xaxis\": \"x\", \"y\": [-1.268830070288804, -1.266782498013748, -1.264789376775428, -1.2628771257031848, -1.2610632668824882, -1.2593554378239347, -1.2577513521893535, -1.256239446176859, -1.2547998742811375, -1.2534055332039686, -1.2520228618944305, -1.25061225152448, -1.249127974604317, -1.24751759440384, -1.2457208426131083, -1.243667959198647, -1.2412774802319004, -1.2384534431629473, -1.235081959315614, -1.231027083666592, -1.2261258947373064, -1.2201826848724469, -1.2129621557371522, -1.2041815186867368, -1.1935014190600897, -1.1805156433837452, -1.1647396372032257, -1.1455979702306007, -1.1224110504812845, -1.0943816312197878, -1.0605820007250486, -1.0199432262875838, -0.9712484718266591, -0.913133247265861, -0.8440964814969328, -0.7625274961875843, -0.6667551419561711, -0.5551261600680332, -0.42611948787408493, -0.2785005341281199, -0.11151308645807564, 0.07490405686080595, 0.2799018325150792, 0.5015444590203922, 0.7367123488714433, 0.981115246460767, 1.2294249554088006, 1.4755116733845348, 1.7127497363815372, 1.9343546566058862, 2.1337225272516798, 2.304757040920282, 2.44217939143652, 2.541817478143942, 2.600864163071053, 2.618084516287327, 2.5939444210378064, 2.5306318907086838, 2.431950197341909, 2.303077863661531, 2.150211216036534, 1.9801251381705591, 1.7997016743945429, 1.6154809551822433, 1.4332838844495295, 1.2579426285221647, 1.0931562015041674, 0.9414683800382904, 0.8043480793267999, 0.6823415302179643, 0.5752624477077463, 0.48238992311947126, 0.40265149035396, 0.33477783446928183, 0.27742368589908933, 0.22925538853038235, 0.1890092129361043, 0.15552607561872087, 0.12776852390958715, 0.10482524076002786], \"yaxis\": \"y\"}],                        {\"legend\": {\"title\": {\"text\": \"variable\"}, \"tracegroupgap\": 0}, \"margin\": {\"t\": 60}, \"template\": {\"data\": {\"bar\": [{\"error_x\": {\"color\": \"#2a3f5f\"}, \"error_y\": {\"color\": \"#2a3f5f\"}, \"marker\": {\"line\": {\"color\": \"#E5ECF6\", \"width\": 0.5}}, \"type\": \"bar\"}], \"barpolar\": [{\"marker\": {\"line\": {\"color\": \"#E5ECF6\", \"width\": 0.5}}, \"type\": \"barpolar\"}], \"carpet\": [{\"aaxis\": {\"endlinecolor\": \"#2a3f5f\", \"gridcolor\": \"white\", \"linecolor\": \"white\", \"minorgridcolor\": \"white\", \"startlinecolor\": \"#2a3f5f\"}, \"baxis\": {\"endlinecolor\": \"#2a3f5f\", \"gridcolor\": \"white\", \"linecolor\": \"white\", \"minorgridcolor\": \"white\", \"startlinecolor\": \"#2a3f5f\"}, \"type\": \"carpet\"}], \"choropleth\": [{\"colorbar\": {\"outlinewidth\": 0, \"ticks\": \"\"}, \"type\": \"choropleth\"}], \"contour\": [{\"colorbar\": {\"outlinewidth\": 0, \"ticks\": \"\"}, \"colorscale\": [[0.0, \"#0d0887\"], [0.1111111111111111, \"#46039f\"], [0.2222222222222222, \"#7201a8\"], [0.3333333333333333, \"#9c179e\"], [0.4444444444444444, \"#bd3786\"], [0.5555555555555556, \"#d8576b\"], [0.6666666666666666, \"#ed7953\"], [0.7777777777777778, \"#fb9f3a\"], [0.8888888888888888, \"#fdca26\"], [1.0, \"#f0f921\"]], \"type\": \"contour\"}], \"contourcarpet\": [{\"colorbar\": {\"outlinewidth\": 0, \"ticks\": \"\"}, \"type\": \"contourcarpet\"}], \"heatmap\": [{\"colorbar\": {\"outlinewidth\": 0, \"ticks\": \"\"}, \"colorscale\": [[0.0, \"#0d0887\"], [0.1111111111111111, \"#46039f\"], [0.2222222222222222, \"#7201a8\"], [0.3333333333333333, \"#9c179e\"], [0.4444444444444444, \"#bd3786\"], [0.5555555555555556, \"#d8576b\"], [0.6666666666666666, \"#ed7953\"], [0.7777777777777778, \"#fb9f3a\"], [0.8888888888888888, \"#fdca26\"], [1.0, \"#f0f921\"]], \"type\": \"heatmap\"}], \"heatmapgl\": [{\"colorbar\": {\"outlinewidth\": 0, \"ticks\": \"\"}, \"colorscale\": [[0.0, \"#0d0887\"], [0.1111111111111111, \"#46039f\"], [0.2222222222222222, \"#7201a8\"], [0.3333333333333333, \"#9c179e\"], [0.4444444444444444, \"#bd3786\"], [0.5555555555555556, \"#d8576b\"], [0.6666666666666666, \"#ed7953\"], [0.7777777777777778, \"#fb9f3a\"], [0.8888888888888888, \"#fdca26\"], [1.0, \"#f0f921\"]], \"type\": \"heatmapgl\"}], \"histogram\": [{\"marker\": {\"colorbar\": {\"outlinewidth\": 0, \"ticks\": \"\"}}, \"type\": \"histogram\"}], \"histogram2d\": [{\"colorbar\": {\"outlinewidth\": 0, \"ticks\": \"\"}, \"colorscale\": [[0.0, \"#0d0887\"], [0.1111111111111111, \"#46039f\"], [0.2222222222222222, \"#7201a8\"], [0.3333333333333333, \"#9c179e\"], [0.4444444444444444, \"#bd3786\"], [0.5555555555555556, \"#d8576b\"], [0.6666666666666666, \"#ed7953\"], [0.7777777777777778, \"#fb9f3a\"], [0.8888888888888888, \"#fdca26\"], [1.0, \"#f0f921\"]], \"type\": \"histogram2d\"}], \"histogram2dcontour\": [{\"colorbar\": {\"outlinewidth\": 0, \"ticks\": \"\"}, \"colorscale\": [[0.0, \"#0d0887\"], [0.1111111111111111, \"#46039f\"], [0.2222222222222222, \"#7201a8\"], [0.3333333333333333, \"#9c179e\"], [0.4444444444444444, \"#bd3786\"], [0.5555555555555556, \"#d8576b\"], [0.6666666666666666, \"#ed7953\"], [0.7777777777777778, \"#fb9f3a\"], [0.8888888888888888, \"#fdca26\"], [1.0, \"#f0f921\"]], \"type\": \"histogram2dcontour\"}], \"mesh3d\": [{\"colorbar\": {\"outlinewidth\": 0, \"ticks\": \"\"}, \"type\": \"mesh3d\"}], \"parcoords\": [{\"line\": {\"colorbar\": {\"outlinewidth\": 0, \"ticks\": \"\"}}, \"type\": \"parcoords\"}], \"pie\": [{\"automargin\": true, \"type\": \"pie\"}], \"scatter\": [{\"marker\": {\"colorbar\": {\"outlinewidth\": 0, \"ticks\": \"\"}}, \"type\": \"scatter\"}], \"scatter3d\": [{\"line\": {\"colorbar\": {\"outlinewidth\": 0, \"ticks\": \"\"}}, \"marker\": {\"colorbar\": {\"outlinewidth\": 0, \"ticks\": \"\"}}, \"type\": \"scatter3d\"}], \"scattercarpet\": [{\"marker\": {\"colorbar\": {\"outlinewidth\": 0, \"ticks\": \"\"}}, \"type\": \"scattercarpet\"}], \"scattergeo\": [{\"marker\": {\"colorbar\": {\"outlinewidth\": 0, \"ticks\": \"\"}}, \"type\": \"scattergeo\"}], \"scattergl\": [{\"marker\": {\"colorbar\": {\"outlinewidth\": 0, \"ticks\": \"\"}}, \"type\": \"scattergl\"}], \"scattermapbox\": [{\"marker\": {\"colorbar\": {\"outlinewidth\": 0, \"ticks\": \"\"}}, \"type\": \"scattermapbox\"}], \"scatterpolar\": [{\"marker\": {\"colorbar\": {\"outlinewidth\": 0, \"ticks\": \"\"}}, \"type\": \"scatterpolar\"}], \"scatterpolargl\": [{\"marker\": {\"colorbar\": {\"outlinewidth\": 0, \"ticks\": \"\"}}, \"type\": \"scatterpolargl\"}], \"scatterternary\": [{\"marker\": {\"colorbar\": {\"outlinewidth\": 0, \"ticks\": \"\"}}, \"type\": \"scatterternary\"}], \"surface\": [{\"colorbar\": {\"outlinewidth\": 0, \"ticks\": \"\"}, \"colorscale\": [[0.0, \"#0d0887\"], [0.1111111111111111, \"#46039f\"], [0.2222222222222222, \"#7201a8\"], [0.3333333333333333, \"#9c179e\"], [0.4444444444444444, \"#bd3786\"], [0.5555555555555556, \"#d8576b\"], [0.6666666666666666, \"#ed7953\"], [0.7777777777777778, \"#fb9f3a\"], [0.8888888888888888, \"#fdca26\"], [1.0, \"#f0f921\"]], \"type\": \"surface\"}], \"table\": [{\"cells\": {\"fill\": {\"color\": \"#EBF0F8\"}, \"line\": {\"color\": \"white\"}}, \"header\": {\"fill\": {\"color\": \"#C8D4E3\"}, \"line\": {\"color\": \"white\"}}, \"type\": \"table\"}]}, \"layout\": {\"annotationdefaults\": {\"arrowcolor\": \"#2a3f5f\", \"arrowhead\": 0, \"arrowwidth\": 1}, \"coloraxis\": {\"colorbar\": {\"outlinewidth\": 0, \"ticks\": \"\"}}, \"colorscale\": {\"diverging\": [[0, \"#8e0152\"], [0.1, \"#c51b7d\"], [0.2, \"#de77ae\"], [0.3, \"#f1b6da\"], [0.4, \"#fde0ef\"], [0.5, \"#f7f7f7\"], [0.6, \"#e6f5d0\"], [0.7, \"#b8e186\"], [0.8, \"#7fbc41\"], [0.9, \"#4d9221\"], [1, \"#276419\"]], \"sequential\": [[0.0, \"#0d0887\"], [0.1111111111111111, \"#46039f\"], [0.2222222222222222, \"#7201a8\"], [0.3333333333333333, \"#9c179e\"], [0.4444444444444444, \"#bd3786\"], [0.5555555555555556, \"#d8576b\"], [0.6666666666666666, \"#ed7953\"], [0.7777777777777778, \"#fb9f3a\"], [0.8888888888888888, \"#fdca26\"], [1.0, \"#f0f921\"]], \"sequentialminus\": [[0.0, \"#0d0887\"], [0.1111111111111111, \"#46039f\"], [0.2222222222222222, \"#7201a8\"], [0.3333333333333333, \"#9c179e\"], [0.4444444444444444, \"#bd3786\"], [0.5555555555555556, \"#d8576b\"], [0.6666666666666666, \"#ed7953\"], [0.7777777777777778, \"#fb9f3a\"], [0.8888888888888888, \"#fdca26\"], [1.0, \"#f0f921\"]]}, \"colorway\": [\"#636efa\", \"#EF553B\", \"#00cc96\", \"#ab63fa\", \"#FFA15A\", \"#19d3f3\", \"#FF6692\", \"#B6E880\", \"#FF97FF\", \"#FECB52\"], \"font\": {\"color\": \"#2a3f5f\"}, \"geo\": {\"bgcolor\": \"white\", \"lakecolor\": \"white\", \"landcolor\": \"#E5ECF6\", \"showlakes\": true, \"showland\": true, \"subunitcolor\": \"white\"}, \"hoverlabel\": {\"align\": \"left\"}, \"hovermode\": \"closest\", \"mapbox\": {\"style\": \"light\"}, \"paper_bgcolor\": \"white\", \"plot_bgcolor\": \"#E5ECF6\", \"polar\": {\"angularaxis\": {\"gridcolor\": \"white\", \"linecolor\": \"white\", \"ticks\": \"\"}, \"bgcolor\": \"#E5ECF6\", \"radialaxis\": {\"gridcolor\": \"white\", \"linecolor\": \"white\", \"ticks\": \"\"}}, \"scene\": {\"xaxis\": {\"backgroundcolor\": \"#E5ECF6\", \"gridcolor\": \"white\", \"gridwidth\": 2, \"linecolor\": \"white\", \"showbackground\": true, \"ticks\": \"\", \"zerolinecolor\": \"white\"}, \"yaxis\": {\"backgroundcolor\": \"#E5ECF6\", \"gridcolor\": \"white\", \"gridwidth\": 2, \"linecolor\": \"white\", \"showbackground\": true, \"ticks\": \"\", \"zerolinecolor\": \"white\"}, \"zaxis\": {\"backgroundcolor\": \"#E5ECF6\", \"gridcolor\": \"white\", \"gridwidth\": 2, \"linecolor\": \"white\", \"showbackground\": true, \"ticks\": \"\", \"zerolinecolor\": \"white\"}}, \"shapedefaults\": {\"line\": {\"color\": \"#2a3f5f\"}}, \"ternary\": {\"aaxis\": {\"gridcolor\": \"white\", \"linecolor\": \"white\", \"ticks\": \"\"}, \"baxis\": {\"gridcolor\": \"white\", \"linecolor\": \"white\", \"ticks\": \"\"}, \"bgcolor\": \"#E5ECF6\", \"caxis\": {\"gridcolor\": \"white\", \"linecolor\": \"white\", \"ticks\": \"\"}}, \"title\": {\"x\": 0.05}, \"xaxis\": {\"automargin\": true, \"gridcolor\": \"white\", \"linecolor\": \"white\", \"ticks\": \"\", \"title\": {\"standoff\": 15}, \"zerolinecolor\": \"white\", \"zerolinewidth\": 2}, \"yaxis\": {\"automargin\": true, \"gridcolor\": \"white\", \"linecolor\": \"white\", \"ticks\": \"\", \"title\": {\"standoff\": 15}, \"zerolinecolor\": \"white\", \"zerolinewidth\": 2}}}, \"xaxis\": {\"anchor\": \"y\", \"domain\": [0.0, 1.0], \"title\": {\"text\": \"alphas\"}, \"type\": \"log\"}, \"yaxis\": {\"anchor\": \"x\", \"domain\": [0.0, 1.0], \"title\": {\"text\": \"value\"}}},                        {\"responsive\": true}                    ).then(function(){\n                            \nvar gd = document.getElementById('a4a605e1-08d1-4a76-ae60-a78f8b1f9623');\nvar x = new MutationObserver(function (mutations, observer) {{\n        var display = window.getComputedStyle(gd).display;\n        if (!display || display === 'none') {{\n            console.log([gd, 'removed!']);\n            Plotly.purge(gd);\n            observer.disconnect();\n        }}\n}});\n\n// Listen for the removal of the full notebook cells\nvar notebookContainer = gd.closest('#notebook-container');\nif (notebookContainer) {{\n    x.observe(notebookContainer, {childList: true});\n}}\n\n// Listen for the clearing of the current output cell\nvar outputEl = gd.closest('.output');\nif (outputEl) {{\n    x.observe(outputEl, {childList: true});\n}}\n\n                        })                };                });            </script>        </div>"
     },
     "metadata": {}
    }
   ],
   "source": [
    "coefs = []\n",
    "for a in alphas:\n",
    "    ridge = Ridge(alpha=a)\n",
    "    ridge.fit(original_X_3, original_y)\n",
    "    coefs.append(ridge.coef_)\n",
    "\n",
    "features = original_X_3.columns\n",
    "\n",
    "df_coefs = pd.DataFrame(coefs, columns=features)\n",
    "df_coefs['alphas'] = alphas\n",
    "fig = px.line(df_coefs, x='alphas', y=features)\n",
    "fig.update_xaxes(type='log').show()"
   ]
  },
  {
   "source": [
    "## Fit Polynomial Ridge Regression"
   ],
   "cell_type": "markdown",
   "metadata": {}
  },
  {
   "cell_type": "code",
   "execution_count": 63,
   "metadata": {},
   "outputs": [],
   "source": [
    "model = Ridge(alpha=28)\n",
    "model = model.fit(original_X_3, original_y)"
   ]
  },
  {
   "cell_type": "code",
   "execution_count": 64,
   "metadata": {},
   "outputs": [
    {
     "output_type": "execute_result",
     "data": {
      "text/plain": [
       "0.5526478910704117"
      ]
     },
     "metadata": {},
     "execution_count": 64
    }
   ],
   "source": [
    "model.score(original_X_3, original_y)"
   ]
  },
  {
   "cell_type": "code",
   "execution_count": null,
   "metadata": {},
   "outputs": [],
   "source": []
  }
 ]
}