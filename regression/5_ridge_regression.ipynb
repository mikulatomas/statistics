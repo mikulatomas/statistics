{
 "metadata": {
  "language_info": {
   "codemirror_mode": {
    "name": "ipython",
    "version": 3
   },
   "file_extension": ".py",
   "mimetype": "text/x-python",
   "name": "python",
   "nbconvert_exporter": "python",
   "pygments_lexer": "ipython3",
   "version": "3.8.9"
  },
  "orig_nbformat": 2,
  "kernelspec": {
   "name": "python389jvsc74a57bd0082a18f759f8afdec9b7eec773590a36e4c3be1cd97bea91855dea5176a8175a",
   "display_name": "Python 3.8.9 64-bit ('fcapy': virtualenvwrapper)"
  }
 },
 "nbformat": 4,
 "nbformat_minor": 2,
 "cells": [
  {
   "cell_type": "code",
   "execution_count": 19,
   "metadata": {},
   "outputs": [],
   "source": [
    "from datasets import load_wine\n",
    "from sklearn.linear_model import Ridge\n",
    "from tools import *\n",
    "from sklearn.model_selection import cross_val_score\n",
    "from sklearn.preprocessing import StandardScaler\n",
    "import numpy as np\n",
    "from sklearn.preprocessing import PolynomialFeatures\n",
    "import plotly.express as px"
   ]
  },
  {
   "cell_type": "code",
   "execution_count": 20,
   "metadata": {},
   "outputs": [
    {
     "output_type": "execute_result",
     "data": {
      "text/plain": [
       "      fixed acidity  volatile acidity  citric acid  residual sugar  chlorides  \\\n",
       "779             7.1              0.52         0.03             2.6      0.076   \n",
       "185             8.9              0.31         0.57             2.0      0.111   \n",
       "309             7.4              0.29         0.38             1.7      0.062   \n",
       "1513            6.4              0.56         0.15             1.8      0.078   \n",
       "1185            7.0              0.43         0.30             2.0      0.085   \n",
       "\n",
       "      free sulfur dioxide  total sulfur dioxide  density    pH  sulphates  \\\n",
       "779                  21.0                  92.0  0.99745  3.50       0.60   \n",
       "185                  26.0                  85.0  0.99710  3.26       0.53   \n",
       "309                   9.0                  30.0  0.99680  3.41       0.53   \n",
       "1513                 17.0                  65.0  0.99294  3.33       0.60   \n",
       "1185                  6.0                  39.0  0.99346  3.33       0.46   \n",
       "\n",
       "      alcohol  target  \n",
       "779       9.8       5  \n",
       "185       9.7       5  \n",
       "309       9.5       6  \n",
       "1513     10.5       6  \n",
       "1185     11.9       6  "
      ],
      "text/html": "<div>\n<style scoped>\n    .dataframe tbody tr th:only-of-type {\n        vertical-align: middle;\n    }\n\n    .dataframe tbody tr th {\n        vertical-align: top;\n    }\n\n    .dataframe thead th {\n        text-align: right;\n    }\n</style>\n<table border=\"1\" class=\"dataframe\">\n  <thead>\n    <tr style=\"text-align: right;\">\n      <th></th>\n      <th>fixed acidity</th>\n      <th>volatile acidity</th>\n      <th>citric acid</th>\n      <th>residual sugar</th>\n      <th>chlorides</th>\n      <th>free sulfur dioxide</th>\n      <th>total sulfur dioxide</th>\n      <th>density</th>\n      <th>pH</th>\n      <th>sulphates</th>\n      <th>alcohol</th>\n      <th>target</th>\n    </tr>\n  </thead>\n  <tbody>\n    <tr>\n      <th>779</th>\n      <td>7.1</td>\n      <td>0.52</td>\n      <td>0.03</td>\n      <td>2.6</td>\n      <td>0.076</td>\n      <td>21.0</td>\n      <td>92.0</td>\n      <td>0.99745</td>\n      <td>3.50</td>\n      <td>0.60</td>\n      <td>9.8</td>\n      <td>5</td>\n    </tr>\n    <tr>\n      <th>185</th>\n      <td>8.9</td>\n      <td>0.31</td>\n      <td>0.57</td>\n      <td>2.0</td>\n      <td>0.111</td>\n      <td>26.0</td>\n      <td>85.0</td>\n      <td>0.99710</td>\n      <td>3.26</td>\n      <td>0.53</td>\n      <td>9.7</td>\n      <td>5</td>\n    </tr>\n    <tr>\n      <th>309</th>\n      <td>7.4</td>\n      <td>0.29</td>\n      <td>0.38</td>\n      <td>1.7</td>\n      <td>0.062</td>\n      <td>9.0</td>\n      <td>30.0</td>\n      <td>0.99680</td>\n      <td>3.41</td>\n      <td>0.53</td>\n      <td>9.5</td>\n      <td>6</td>\n    </tr>\n    <tr>\n      <th>1513</th>\n      <td>6.4</td>\n      <td>0.56</td>\n      <td>0.15</td>\n      <td>1.8</td>\n      <td>0.078</td>\n      <td>17.0</td>\n      <td>65.0</td>\n      <td>0.99294</td>\n      <td>3.33</td>\n      <td>0.60</td>\n      <td>10.5</td>\n      <td>6</td>\n    </tr>\n    <tr>\n      <th>1185</th>\n      <td>7.0</td>\n      <td>0.43</td>\n      <td>0.30</td>\n      <td>2.0</td>\n      <td>0.085</td>\n      <td>6.0</td>\n      <td>39.0</td>\n      <td>0.99346</td>\n      <td>3.33</td>\n      <td>0.46</td>\n      <td>11.9</td>\n      <td>6</td>\n    </tr>\n  </tbody>\n</table>\n</div>"
     },
     "metadata": {},
     "execution_count": 20
    }
   ],
   "source": [
    "df_original, df_train, df_test = load_wine()\n",
    "df_train.head()"
   ]
  },
  {
   "cell_type": "code",
   "execution_count": 21,
   "metadata": {},
   "outputs": [],
   "source": [
    "train_X = df_train.drop(['target'], axis=1)\n",
    "train_y = df_train['target']\n",
    "test_X = df_test.drop(['target'], axis=1)\n",
    "test_y = df_test['target']\n",
    "original_X = df_original.drop(['target'], axis=1)\n",
    "original_y = df_original['target']\n",
    "features = train_X.columns"
   ]
  },
  {
   "cell_type": "code",
   "execution_count": 22,
   "metadata": {},
   "outputs": [],
   "source": [
    "#nutna standartizace\n",
    "scaler = StandardScaler().fit(train_X)\n",
    "train_X = pd.DataFrame(scaler.transform(train_X), columns=features)\n",
    "test_X = pd.DataFrame(scaler.transform(test_X), columns=features)"
   ]
  },
  {
   "cell_type": "code",
   "execution_count": 23,
   "metadata": {},
   "outputs": [
    {
     "output_type": "execute_result",
     "data": {
      "text/plain": [
       "(1279, 11)"
      ]
     },
     "metadata": {},
     "execution_count": 23
    }
   ],
   "source": [
    "train_X.shape"
   ]
  },
  {
   "source": [
    "## Alpha selection"
   ],
   "cell_type": "markdown",
   "metadata": {}
  },
  {
   "cell_type": "code",
   "execution_count": 24,
   "metadata": {},
   "outputs": [],
   "source": [
    "n_alphas = 80\n",
    "alphas = np.logspace(-2, 5, n_alphas)"
   ]
  },
  {
   "cell_type": "code",
   "execution_count": 25,
   "metadata": {},
   "outputs": [
    {
     "output_type": "display_data",
     "data": {
      "application/vnd.plotly.v1+json": {
       "config": {
        "plotlyServerURL": "https://plot.ly"
       },
       "data": [
        {
         "hovertemplate": "alpha=%{x}<br>R^2 (mean)=%{y}<extra></extra>",
         "legendgroup": "",
         "line": {
          "color": "#636efa",
          "dash": "solid"
         },
         "mode": "lines",
         "name": "",
         "orientation": "v",
         "showlegend": false,
         "type": "scatter",
         "x": [
          0.01,
          0.012263306841775632,
          0.015038869469554102,
          0.018442627085855347,
          0.022616759492228647,
          0.02773562614198415,
          0.03401304938279251,
          0.04171124612056518,
          0.051151780992931425,
          0.06272899858196247,
          0.07692649574879142,
          0.09433732216299774,
          0.1156887528316282,
          0.1418726674116596,
          0.1739828052930364,
          0.21336045265014109,
          0.2616504698748821,
          0.320869999737045,
          0.39349272630958493,
          0.48255220427412787,
          0.5917685748188825,
          0.7257039612324212,
          0.8899530352885229,
          1.0913767146512738,
          1.3383887531737564,
          1.6413071953751284,
          2.0127853758499383,
          2.4683404670686486,
          3.0270016537634614,
          3.7121050090663608,
          4.55226827550731,
          5.582586268862695,
          6.846096838574658,
          8.395578619995112,
          10.295755673125127,
          12.626001098748565,
          15.48365256585499,
          18.988078244652634,
          23.285662984981965,
          28.55592301990109,
          35.019004614317126,
          42.944879887892725,
          52.66462393484275,
          64.58424430196978,
          79.20164050192548,
          97.12740198471168,
          119.11031332830079,
          146.06863203649888,
          179.1284454622002,
          219.67070907932353,
          269.388930959017,
          330.35991201283395,
          405.1304969235378,
          496.8239594734388,
          609.2704661368674,
          747.1670675868082,
          916.2739011886731,
          1123.6548001387516,
          1377.9723598335568,
          1689.8497868124587,
          2072.3146452190294,
          2541.343036702639,
          3116.52694492943,
          3821.8926206331225,
          4686.904192314192,
          5747.694424835347,
          7048.574036451903,
          8643.882620598262,
          10600.258488068825,
          12999.42224413245,
          15941.590374559995,
          19549.661430912594,
          23974.349678010785,
          29400.480643347077,
          36054.71154250506,
          44214.99907374487,
          54222.21006501592,
          66494.35996665046,
          81544.07395185171,
          100000
         ],
         "xaxis": "x",
         "y": [
          0.3309419153755976,
          0.33094352019374745,
          0.33094548773430577,
          0.3309478998423153,
          0.3309508567611056,
          0.33095448123327414,
          0.3309589234982533,
          0.33096436737364776,
          0.33097103764210395,
          0.3309792090040947,
          0.33098921689872096,
          0.33100147053757994,
          0.33101646853730105,
          0.3310348175685414,
          0.33105725445334805,
          0.33108467212393305,
          0.3311181497817091,
          0.33115898743356575,
          0.3312087446874389,
          0.33126928319972154,
          0.3313428114031535,
          0.3314319290071397,
          0.3315396671401378,
          0.3316695177787418,
          0.33182544317700435,
          0.33201185230624913,
          0.33223352683107993,
          0.3324954739271161,
          0.3328026773402031,
          0.33315971144223905,
          0.33357017538669753,
          0.3340358953907091,
          0.3345558326834273,
          0.3351246246174065,
          0.3357306826410921,
          0.3363537846177728,
          0.3369621459612445,
          0.33750904771669477,
          0.3379292402302696,
          0.338135504492152,
          0.3380158897871711,
          0.33743219514031675,
          0.3362201836514105,
          0.33419183360460225,
          0.3311397397092704,
          0.32684373603852795,
          0.321080029092089,
          0.3136335343378395,
          0.30431436826824493,
          0.29297904961289617,
          0.2795555225269011,
          0.2640687672381743,
          0.2466613775733381,
          0.22760241047072,
          0.2072791605909027,
          0.18617034911527966,
          0.16480427421814006,
          0.14370971214230216,
          0.12336906738843918,
          0.10418195552989067,
          0.08644391357342765,
          0.07034083831126485,
          0.05595647894138842,
          0.043288586048066444,
          0.03226911989999217,
          0.022784754563388333,
          0.01469518030968615,
          0.007847939877804345,
          0.0020894848065228454,
          -0.0027272589995637865,
          -0.006738226947109993,
          -0.010065777673073484,
          -0.012817848454915537,
          -0.015088174020863553,
          -0.016957157887124374,
          -0.018493096854292145,
          -0.01975355239686003,
          -0.020786734841425812,
          -0.02163281911272379,
          -0.02232514778763526
         ],
         "yaxis": "y"
        }
       ],
       "layout": {
        "legend": {
         "tracegroupgap": 0
        },
        "margin": {
         "t": 60
        },
        "template": {
         "data": {
          "bar": [
           {
            "error_x": {
             "color": "#2a3f5f"
            },
            "error_y": {
             "color": "#2a3f5f"
            },
            "marker": {
             "line": {
              "color": "#E5ECF6",
              "width": 0.5
             }
            },
            "type": "bar"
           }
          ],
          "barpolar": [
           {
            "marker": {
             "line": {
              "color": "#E5ECF6",
              "width": 0.5
             }
            },
            "type": "barpolar"
           }
          ],
          "carpet": [
           {
            "aaxis": {
             "endlinecolor": "#2a3f5f",
             "gridcolor": "white",
             "linecolor": "white",
             "minorgridcolor": "white",
             "startlinecolor": "#2a3f5f"
            },
            "baxis": {
             "endlinecolor": "#2a3f5f",
             "gridcolor": "white",
             "linecolor": "white",
             "minorgridcolor": "white",
             "startlinecolor": "#2a3f5f"
            },
            "type": "carpet"
           }
          ],
          "choropleth": [
           {
            "colorbar": {
             "outlinewidth": 0,
             "ticks": ""
            },
            "type": "choropleth"
           }
          ],
          "contour": [
           {
            "colorbar": {
             "outlinewidth": 0,
             "ticks": ""
            },
            "colorscale": [
             [
              0,
              "#0d0887"
             ],
             [
              0.1111111111111111,
              "#46039f"
             ],
             [
              0.2222222222222222,
              "#7201a8"
             ],
             [
              0.3333333333333333,
              "#9c179e"
             ],
             [
              0.4444444444444444,
              "#bd3786"
             ],
             [
              0.5555555555555556,
              "#d8576b"
             ],
             [
              0.6666666666666666,
              "#ed7953"
             ],
             [
              0.7777777777777778,
              "#fb9f3a"
             ],
             [
              0.8888888888888888,
              "#fdca26"
             ],
             [
              1,
              "#f0f921"
             ]
            ],
            "type": "contour"
           }
          ],
          "contourcarpet": [
           {
            "colorbar": {
             "outlinewidth": 0,
             "ticks": ""
            },
            "type": "contourcarpet"
           }
          ],
          "heatmap": [
           {
            "colorbar": {
             "outlinewidth": 0,
             "ticks": ""
            },
            "colorscale": [
             [
              0,
              "#0d0887"
             ],
             [
              0.1111111111111111,
              "#46039f"
             ],
             [
              0.2222222222222222,
              "#7201a8"
             ],
             [
              0.3333333333333333,
              "#9c179e"
             ],
             [
              0.4444444444444444,
              "#bd3786"
             ],
             [
              0.5555555555555556,
              "#d8576b"
             ],
             [
              0.6666666666666666,
              "#ed7953"
             ],
             [
              0.7777777777777778,
              "#fb9f3a"
             ],
             [
              0.8888888888888888,
              "#fdca26"
             ],
             [
              1,
              "#f0f921"
             ]
            ],
            "type": "heatmap"
           }
          ],
          "heatmapgl": [
           {
            "colorbar": {
             "outlinewidth": 0,
             "ticks": ""
            },
            "colorscale": [
             [
              0,
              "#0d0887"
             ],
             [
              0.1111111111111111,
              "#46039f"
             ],
             [
              0.2222222222222222,
              "#7201a8"
             ],
             [
              0.3333333333333333,
              "#9c179e"
             ],
             [
              0.4444444444444444,
              "#bd3786"
             ],
             [
              0.5555555555555556,
              "#d8576b"
             ],
             [
              0.6666666666666666,
              "#ed7953"
             ],
             [
              0.7777777777777778,
              "#fb9f3a"
             ],
             [
              0.8888888888888888,
              "#fdca26"
             ],
             [
              1,
              "#f0f921"
             ]
            ],
            "type": "heatmapgl"
           }
          ],
          "histogram": [
           {
            "marker": {
             "colorbar": {
              "outlinewidth": 0,
              "ticks": ""
             }
            },
            "type": "histogram"
           }
          ],
          "histogram2d": [
           {
            "colorbar": {
             "outlinewidth": 0,
             "ticks": ""
            },
            "colorscale": [
             [
              0,
              "#0d0887"
             ],
             [
              0.1111111111111111,
              "#46039f"
             ],
             [
              0.2222222222222222,
              "#7201a8"
             ],
             [
              0.3333333333333333,
              "#9c179e"
             ],
             [
              0.4444444444444444,
              "#bd3786"
             ],
             [
              0.5555555555555556,
              "#d8576b"
             ],
             [
              0.6666666666666666,
              "#ed7953"
             ],
             [
              0.7777777777777778,
              "#fb9f3a"
             ],
             [
              0.8888888888888888,
              "#fdca26"
             ],
             [
              1,
              "#f0f921"
             ]
            ],
            "type": "histogram2d"
           }
          ],
          "histogram2dcontour": [
           {
            "colorbar": {
             "outlinewidth": 0,
             "ticks": ""
            },
            "colorscale": [
             [
              0,
              "#0d0887"
             ],
             [
              0.1111111111111111,
              "#46039f"
             ],
             [
              0.2222222222222222,
              "#7201a8"
             ],
             [
              0.3333333333333333,
              "#9c179e"
             ],
             [
              0.4444444444444444,
              "#bd3786"
             ],
             [
              0.5555555555555556,
              "#d8576b"
             ],
             [
              0.6666666666666666,
              "#ed7953"
             ],
             [
              0.7777777777777778,
              "#fb9f3a"
             ],
             [
              0.8888888888888888,
              "#fdca26"
             ],
             [
              1,
              "#f0f921"
             ]
            ],
            "type": "histogram2dcontour"
           }
          ],
          "mesh3d": [
           {
            "colorbar": {
             "outlinewidth": 0,
             "ticks": ""
            },
            "type": "mesh3d"
           }
          ],
          "parcoords": [
           {
            "line": {
             "colorbar": {
              "outlinewidth": 0,
              "ticks": ""
             }
            },
            "type": "parcoords"
           }
          ],
          "pie": [
           {
            "automargin": true,
            "type": "pie"
           }
          ],
          "scatter": [
           {
            "marker": {
             "colorbar": {
              "outlinewidth": 0,
              "ticks": ""
             }
            },
            "type": "scatter"
           }
          ],
          "scatter3d": [
           {
            "line": {
             "colorbar": {
              "outlinewidth": 0,
              "ticks": ""
             }
            },
            "marker": {
             "colorbar": {
              "outlinewidth": 0,
              "ticks": ""
             }
            },
            "type": "scatter3d"
           }
          ],
          "scattercarpet": [
           {
            "marker": {
             "colorbar": {
              "outlinewidth": 0,
              "ticks": ""
             }
            },
            "type": "scattercarpet"
           }
          ],
          "scattergeo": [
           {
            "marker": {
             "colorbar": {
              "outlinewidth": 0,
              "ticks": ""
             }
            },
            "type": "scattergeo"
           }
          ],
          "scattergl": [
           {
            "marker": {
             "colorbar": {
              "outlinewidth": 0,
              "ticks": ""
             }
            },
            "type": "scattergl"
           }
          ],
          "scattermapbox": [
           {
            "marker": {
             "colorbar": {
              "outlinewidth": 0,
              "ticks": ""
             }
            },
            "type": "scattermapbox"
           }
          ],
          "scatterpolar": [
           {
            "marker": {
             "colorbar": {
              "outlinewidth": 0,
              "ticks": ""
             }
            },
            "type": "scatterpolar"
           }
          ],
          "scatterpolargl": [
           {
            "marker": {
             "colorbar": {
              "outlinewidth": 0,
              "ticks": ""
             }
            },
            "type": "scatterpolargl"
           }
          ],
          "scatterternary": [
           {
            "marker": {
             "colorbar": {
              "outlinewidth": 0,
              "ticks": ""
             }
            },
            "type": "scatterternary"
           }
          ],
          "surface": [
           {
            "colorbar": {
             "outlinewidth": 0,
             "ticks": ""
            },
            "colorscale": [
             [
              0,
              "#0d0887"
             ],
             [
              0.1111111111111111,
              "#46039f"
             ],
             [
              0.2222222222222222,
              "#7201a8"
             ],
             [
              0.3333333333333333,
              "#9c179e"
             ],
             [
              0.4444444444444444,
              "#bd3786"
             ],
             [
              0.5555555555555556,
              "#d8576b"
             ],
             [
              0.6666666666666666,
              "#ed7953"
             ],
             [
              0.7777777777777778,
              "#fb9f3a"
             ],
             [
              0.8888888888888888,
              "#fdca26"
             ],
             [
              1,
              "#f0f921"
             ]
            ],
            "type": "surface"
           }
          ],
          "table": [
           {
            "cells": {
             "fill": {
              "color": "#EBF0F8"
             },
             "line": {
              "color": "white"
             }
            },
            "header": {
             "fill": {
              "color": "#C8D4E3"
             },
             "line": {
              "color": "white"
             }
            },
            "type": "table"
           }
          ]
         },
         "layout": {
          "annotationdefaults": {
           "arrowcolor": "#2a3f5f",
           "arrowhead": 0,
           "arrowwidth": 1
          },
          "coloraxis": {
           "colorbar": {
            "outlinewidth": 0,
            "ticks": ""
           }
          },
          "colorscale": {
           "diverging": [
            [
             0,
             "#8e0152"
            ],
            [
             0.1,
             "#c51b7d"
            ],
            [
             0.2,
             "#de77ae"
            ],
            [
             0.3,
             "#f1b6da"
            ],
            [
             0.4,
             "#fde0ef"
            ],
            [
             0.5,
             "#f7f7f7"
            ],
            [
             0.6,
             "#e6f5d0"
            ],
            [
             0.7,
             "#b8e186"
            ],
            [
             0.8,
             "#7fbc41"
            ],
            [
             0.9,
             "#4d9221"
            ],
            [
             1,
             "#276419"
            ]
           ],
           "sequential": [
            [
             0,
             "#0d0887"
            ],
            [
             0.1111111111111111,
             "#46039f"
            ],
            [
             0.2222222222222222,
             "#7201a8"
            ],
            [
             0.3333333333333333,
             "#9c179e"
            ],
            [
             0.4444444444444444,
             "#bd3786"
            ],
            [
             0.5555555555555556,
             "#d8576b"
            ],
            [
             0.6666666666666666,
             "#ed7953"
            ],
            [
             0.7777777777777778,
             "#fb9f3a"
            ],
            [
             0.8888888888888888,
             "#fdca26"
            ],
            [
             1,
             "#f0f921"
            ]
           ],
           "sequentialminus": [
            [
             0,
             "#0d0887"
            ],
            [
             0.1111111111111111,
             "#46039f"
            ],
            [
             0.2222222222222222,
             "#7201a8"
            ],
            [
             0.3333333333333333,
             "#9c179e"
            ],
            [
             0.4444444444444444,
             "#bd3786"
            ],
            [
             0.5555555555555556,
             "#d8576b"
            ],
            [
             0.6666666666666666,
             "#ed7953"
            ],
            [
             0.7777777777777778,
             "#fb9f3a"
            ],
            [
             0.8888888888888888,
             "#fdca26"
            ],
            [
             1,
             "#f0f921"
            ]
           ]
          },
          "colorway": [
           "#636efa",
           "#EF553B",
           "#00cc96",
           "#ab63fa",
           "#FFA15A",
           "#19d3f3",
           "#FF6692",
           "#B6E880",
           "#FF97FF",
           "#FECB52"
          ],
          "font": {
           "color": "#2a3f5f"
          },
          "geo": {
           "bgcolor": "white",
           "lakecolor": "white",
           "landcolor": "#E5ECF6",
           "showlakes": true,
           "showland": true,
           "subunitcolor": "white"
          },
          "hoverlabel": {
           "align": "left"
          },
          "hovermode": "closest",
          "mapbox": {
           "style": "light"
          },
          "paper_bgcolor": "white",
          "plot_bgcolor": "#E5ECF6",
          "polar": {
           "angularaxis": {
            "gridcolor": "white",
            "linecolor": "white",
            "ticks": ""
           },
           "bgcolor": "#E5ECF6",
           "radialaxis": {
            "gridcolor": "white",
            "linecolor": "white",
            "ticks": ""
           }
          },
          "scene": {
           "xaxis": {
            "backgroundcolor": "#E5ECF6",
            "gridcolor": "white",
            "gridwidth": 2,
            "linecolor": "white",
            "showbackground": true,
            "ticks": "",
            "zerolinecolor": "white"
           },
           "yaxis": {
            "backgroundcolor": "#E5ECF6",
            "gridcolor": "white",
            "gridwidth": 2,
            "linecolor": "white",
            "showbackground": true,
            "ticks": "",
            "zerolinecolor": "white"
           },
           "zaxis": {
            "backgroundcolor": "#E5ECF6",
            "gridcolor": "white",
            "gridwidth": 2,
            "linecolor": "white",
            "showbackground": true,
            "ticks": "",
            "zerolinecolor": "white"
           }
          },
          "shapedefaults": {
           "line": {
            "color": "#2a3f5f"
           }
          },
          "ternary": {
           "aaxis": {
            "gridcolor": "white",
            "linecolor": "white",
            "ticks": ""
           },
           "baxis": {
            "gridcolor": "white",
            "linecolor": "white",
            "ticks": ""
           },
           "bgcolor": "#E5ECF6",
           "caxis": {
            "gridcolor": "white",
            "linecolor": "white",
            "ticks": ""
           }
          },
          "title": {
           "x": 0.05
          },
          "xaxis": {
           "automargin": true,
           "gridcolor": "white",
           "linecolor": "white",
           "ticks": "",
           "title": {
            "standoff": 15
           },
           "zerolinecolor": "white",
           "zerolinewidth": 2
          },
          "yaxis": {
           "automargin": true,
           "gridcolor": "white",
           "linecolor": "white",
           "ticks": "",
           "title": {
            "standoff": 15
           },
           "zerolinecolor": "white",
           "zerolinewidth": 2
          }
         }
        },
        "xaxis": {
         "anchor": "y",
         "domain": [
          0,
          1
         ],
         "title": {
          "text": "alpha"
         },
         "type": "log"
        },
        "yaxis": {
         "anchor": "x",
         "domain": [
          0,
          1
         ],
         "title": {
          "text": "R^2 (mean)"
         }
        }
       }
      }
     },
     "metadata": {}
    }
   ],
   "source": [
    "scores = []\n",
    "for i in alphas:\n",
    "    scores.append(cross_val_score(Ridge(alpha=i), test_X, test_y).mean())\n",
    "\n",
    "result = pd.DataFrame(zip(alphas, scores), columns=['alpha', 'R^2 (mean)'])\n",
    "fig = px.line(result, x='alpha', y='R^2 (mean)')\n",
    "fig.update_xaxes(type='log')\n",
    "fig"
   ]
  },
  {
   "cell_type": "code",
   "execution_count": 26,
   "metadata": {},
   "outputs": [],
   "source": [
    "coefs = []\n",
    "for a in alphas:\n",
    "    ridge = Ridge(alpha=a)\n",
    "    ridge.fit(test_X, test_y)\n",
    "    coefs.append(ridge.coef_)"
   ]
  },
  {
   "cell_type": "code",
   "execution_count": 27,
   "metadata": {},
   "outputs": [
    {
     "output_type": "display_data",
     "data": {
      "application/vnd.plotly.v1+json": {
       "config": {
        "plotlyServerURL": "https://plot.ly"
       },
       "data": [
        {
         "hovertemplate": "variable=fixed acidity<br>alphas=%{x}<br>value=%{y}<extra></extra>",
         "legendgroup": "fixed acidity",
         "line": {
          "color": "#636efa",
          "dash": "solid"
         },
         "mode": "lines",
         "name": "fixed acidity",
         "orientation": "v",
         "showlegend": true,
         "type": "scatter",
         "x": [
          0.01,
          0.012263306841775632,
          0.015038869469554102,
          0.018442627085855347,
          0.022616759492228647,
          0.02773562614198415,
          0.03401304938279251,
          0.04171124612056518,
          0.051151780992931425,
          0.06272899858196247,
          0.07692649574879142,
          0.09433732216299774,
          0.1156887528316282,
          0.1418726674116596,
          0.1739828052930364,
          0.21336045265014109,
          0.2616504698748821,
          0.320869999737045,
          0.39349272630958493,
          0.48255220427412787,
          0.5917685748188825,
          0.7257039612324212,
          0.8899530352885229,
          1.0913767146512738,
          1.3383887531737564,
          1.6413071953751284,
          2.0127853758499383,
          2.4683404670686486,
          3.0270016537634614,
          3.7121050090663608,
          4.55226827550731,
          5.582586268862695,
          6.846096838574658,
          8.395578619995112,
          10.295755673125127,
          12.626001098748565,
          15.48365256585499,
          18.988078244652634,
          23.285662984981965,
          28.55592301990109,
          35.019004614317126,
          42.944879887892725,
          52.66462393484275,
          64.58424430196978,
          79.20164050192548,
          97.12740198471168,
          119.11031332830079,
          146.06863203649888,
          179.1284454622002,
          219.67070907932353,
          269.388930959017,
          330.35991201283395,
          405.1304969235378,
          496.8239594734388,
          609.2704661368674,
          747.1670675868082,
          916.2739011886731,
          1123.6548001387516,
          1377.9723598335568,
          1689.8497868124587,
          2072.3146452190294,
          2541.343036702639,
          3116.52694492943,
          3821.8926206331225,
          4686.904192314192,
          5747.694424835347,
          7048.574036451903,
          8643.882620598262,
          10600.258488068825,
          12999.42224413245,
          15941.590374559995,
          19549.661430912594,
          23974.349678010785,
          29400.480643347077,
          36054.71154250506,
          44214.99907374487,
          54222.21006501592,
          66494.35996665046,
          81544.07395185171,
          100000
         ],
         "xaxis": "x",
         "y": [
          0.21561989825293304,
          0.2156087027378509,
          0.2155949763865177,
          0.21557814792906277,
          0.2155575175720112,
          0.21553222829717839,
          0.21550123085879255,
          0.2154632411494047,
          0.21541668835219902,
          0.21535965201056537,
          0.21528978582888586,
          0.21520422568091413,
          0.21509947896309486,
          0.21497129212356708,
          0.2148144929794116,
          0.21462280439310555,
          0.2143886261474406,
          0.21410278263149615,
          0.21375423550297126,
          0.21332976319527883,
          0.21281361346526884,
          0.21218714169047384,
          0.21142845690598655,
          0.21051211007347748,
          0.20940887483395854,
          0.20808568915618367,
          0.20650584443126502,
          0.20462952189630984,
          0.20241477703329544,
          0.1998190502356358,
          0.19680122521589177,
          0.19332415802947817,
          0.18935746385459154,
          0.184880201372082,
          0.17988298663512836,
          0.1743690674211299,
          0.16835405237121884,
          0.16186432231202835,
          0.15493457502656444,
          0.14760531111907849,
          0.13992117883490635,
          0.13193085222175113,
          0.12368855563363047,
          0.11525665281023553,
          0.10670815531359491,
          0.09812781009826459,
          0.08961071092647427,
          0.08125807751552884,
          0.07317073022600155,
          0.06544154272577915,
          0.058148504106172325,
          0.05134984291623213,
          0.04508204255618918,
          0.039360760034801566,
          0.034183948746796665,
          0.029536103392097227,
          0.025392556829473268,
          0.021723073084015138,
          0.018494417174277702,
          0.015671962609316126,
          0.013220615147414488,
          0.011105373652590508,
          0.009291770843262066,
          0.00774631581257089,
          0.0064369570490134176,
          0.005333526713115141,
          0.004408112785565436,
          0.003635319408839221,
          0.002992399695108277,
          0.0024592672385313832,
          0.002018407008326217,
          0.001654712603522415,
          0.0013552769118007596,
          0.0011091595567824357,
          0.0009071492937814927,
          0.0007415341744664588,
          0.0006058876352099671,
          0.0004948749793662296,
          0.0004040820352474854,
          0.0003298659484659768
         ],
         "yaxis": "y"
        },
        {
         "hovertemplate": "variable=volatile acidity<br>alphas=%{x}<br>value=%{y}<extra></extra>",
         "legendgroup": "volatile acidity",
         "line": {
          "color": "#EF553B",
          "dash": "solid"
         },
         "mode": "lines",
         "name": "volatile acidity",
         "orientation": "v",
         "showlegend": true,
         "type": "scatter",
         "x": [
          0.01,
          0.012263306841775632,
          0.015038869469554102,
          0.018442627085855347,
          0.022616759492228647,
          0.02773562614198415,
          0.03401304938279251,
          0.04171124612056518,
          0.051151780992931425,
          0.06272899858196247,
          0.07692649574879142,
          0.09433732216299774,
          0.1156887528316282,
          0.1418726674116596,
          0.1739828052930364,
          0.21336045265014109,
          0.2616504698748821,
          0.320869999737045,
          0.39349272630958493,
          0.48255220427412787,
          0.5917685748188825,
          0.7257039612324212,
          0.8899530352885229,
          1.0913767146512738,
          1.3383887531737564,
          1.6413071953751284,
          2.0127853758499383,
          2.4683404670686486,
          3.0270016537634614,
          3.7121050090663608,
          4.55226827550731,
          5.582586268862695,
          6.846096838574658,
          8.395578619995112,
          10.295755673125127,
          12.626001098748565,
          15.48365256585499,
          18.988078244652634,
          23.285662984981965,
          28.55592301990109,
          35.019004614317126,
          42.944879887892725,
          52.66462393484275,
          64.58424430196978,
          79.20164050192548,
          97.12740198471168,
          119.11031332830079,
          146.06863203649888,
          179.1284454622002,
          219.67070907932353,
          269.388930959017,
          330.35991201283395,
          405.1304969235378,
          496.8239594734388,
          609.2704661368674,
          747.1670675868082,
          916.2739011886731,
          1123.6548001387516,
          1377.9723598335568,
          1689.8497868124587,
          2072.3146452190294,
          2541.343036702639,
          3116.52694492943,
          3821.8926206331225,
          4686.904192314192,
          5747.694424835347,
          7048.574036451903,
          8643.882620598262,
          10600.258488068825,
          12999.42224413245,
          15941.590374559995,
          19549.661430912594,
          23974.349678010785,
          29400.480643347077,
          36054.71154250506,
          44214.99907374487,
          54222.21006501592,
          66494.35996665046,
          81544.07395185171,
          100000
         ],
         "xaxis": "x",
         "y": [
          -0.06004724277224478,
          -0.06004795693312584,
          -0.06004883270264217,
          -0.06004990664373099,
          -0.060051223587557614,
          -0.060052838501295565,
          -0.060054818776838735,
          -0.06005724703480389,
          -0.06006022455908024,
          -0.06006387550256705,
          -0.06006835203553245,
          -0.06007384064523826,
          -0.060080569840317684,
          -0.060088819567151376,
          -0.060098932709577786,
          -0.060111329119053994,
          -0.060126522711063016,
          -0.0601451422658404,
          -0.06016795668704653,
          -0.06019590559868799,
          -0.060230136292995576,
          -0.06027204816935053,
          -0.060323345907243774,
          -0.060386102661435355,
          -0.060462834500440536,
          -0.060556587043671166,
          -0.06067103465473853,
          -0.060810591419714545,
          -0.0609805311934746,
          -0.06118711084086263,
          -0.06143768592064322,
          -0.06174080084487786,
          -0.06210622534309203,
          -0.06254489532977206,
          -0.06306869886520623,
          -0.06369002751978832,
          -0.06442099239536431,
          -0.06527218726855179,
          -0.06625087772846733,
          -0.06735851888184691,
          -0.06858757436645577,
          -0.06991774692467707,
          -0.0713119491682693,
          -0.07271263283216396,
          -0.0740394039819135,
          -0.07518907440509369,
          -0.07603928775465636,
          -0.07645647246488824,
          -0.07630806128529098,
          -0.07547779686944041,
          -0.07388181778977415,
          -0.07148249735023747,
          -0.06829703546618258,
          -0.06439869669693331,
          -0.05991014489898796,
          -0.05499008637341681,
          -0.04981585257904738,
          -0.044565213778113275,
          -0.03940048572533203,
          -0.03445705433397615,
          -0.029837183498807762,
          -0.02560880023735021,
          -0.021808153126582776,
          -0.018444907081525127,
          -0.015508299145088975,
          -0.01297328196657903,
          -0.010805965945839411,
          -0.0089680238336191,
          -0.007419985945999002,
          -0.006123518906806024,
          -0.005042861422145304,
          -0.004145612149776574,
          -0.0034030514213525785,
          -0.002790148897521678,
          -0.0022853752039921696,
          -0.0018704038666907648,
          -0.0015297633684578785,
          -0.001250478576739945,
          -0.0010217256694215009,
          -0.0008345140714124318
         ],
         "yaxis": "y"
        },
        {
         "hovertemplate": "variable=citric acid<br>alphas=%{x}<br>value=%{y}<extra></extra>",
         "legendgroup": "citric acid",
         "line": {
          "color": "#00cc96",
          "dash": "solid"
         },
         "mode": "lines",
         "name": "citric acid",
         "orientation": "v",
         "showlegend": true,
         "type": "scatter",
         "x": [
          0.01,
          0.012263306841775632,
          0.015038869469554102,
          0.018442627085855347,
          0.022616759492228647,
          0.02773562614198415,
          0.03401304938279251,
          0.04171124612056518,
          0.051151780992931425,
          0.06272899858196247,
          0.07692649574879142,
          0.09433732216299774,
          0.1156887528316282,
          0.1418726674116596,
          0.1739828052930364,
          0.21336045265014109,
          0.2616504698748821,
          0.320869999737045,
          0.39349272630958493,
          0.48255220427412787,
          0.5917685748188825,
          0.7257039612324212,
          0.8899530352885229,
          1.0913767146512738,
          1.3383887531737564,
          1.6413071953751284,
          2.0127853758499383,
          2.4683404670686486,
          3.0270016537634614,
          3.7121050090663608,
          4.55226827550731,
          5.582586268862695,
          6.846096838574658,
          8.395578619995112,
          10.295755673125127,
          12.626001098748565,
          15.48365256585499,
          18.988078244652634,
          23.285662984981965,
          28.55592301990109,
          35.019004614317126,
          42.944879887892725,
          52.66462393484275,
          64.58424430196978,
          79.20164050192548,
          97.12740198471168,
          119.11031332830079,
          146.06863203649888,
          179.1284454622002,
          219.67070907932353,
          269.388930959017,
          330.35991201283395,
          405.1304969235378,
          496.8239594734388,
          609.2704661368674,
          747.1670675868082,
          916.2739011886731,
          1123.6548001387516,
          1377.9723598335568,
          1689.8497868124587,
          2072.3146452190294,
          2541.343036702639,
          3116.52694492943,
          3821.8926206331225,
          4686.904192314192,
          5747.694424835347,
          7048.574036451903,
          8643.882620598262,
          10600.258488068825,
          12999.42224413245,
          15941.590374559995,
          19549.661430912594,
          23974.349678010785,
          29400.480643347077,
          36054.71154250506,
          44214.99907374487,
          54222.21006501592,
          66494.35996665046,
          81544.07395185171,
          100000
         ],
         "xaxis": "x",
         "y": [
          -0.00247160390851249,
          -0.00246893580493723,
          -0.002465664398641142,
          -0.002461653431074507,
          -0.002456735948707062,
          -0.0024507074283846007,
          -0.0024433173831036035,
          -0.0024342591224267417,
          -0.002423157277028583,
          -0.002409552621883705,
          -0.002392883647215917,
          -0.0023724642312382507,
          -0.002347456666284186,
          -0.0023168391850307297,
          -0.0022793670349209876,
          -0.0022335260712204987,
          -0.002177477805360265,
          -0.0021089948900541848,
          -0.0020253861963292646,
          -0.0019234110100106875,
          -0.001799182538938607,
          -0.001648061992488744,
          -0.0014645461024574316,
          -0.0012421532248375136,
          -0.000973316174758952,
          -0.0006492936637617284,
          -0.0002601163702038556,
          0.00020541232407932265,
          0.0007596380996376736,
          0.0014158769976511274,
          0.002188117353331123,
          0.0030905926497550194,
          0.004137228907900298,
          0.005340983611971148,
          0.006713099019750606,
          0.00826228193370032,
          0.00999378927898189,
          0.011908350044083704,
          0.014000811942510266,
          0.016258402704589957,
          0.018658579273669672,
          0.021166620391397144,
          0.023733374476394058,
          0.026293831448589714,
          0.028767334700010423,
          0.03106017863504734,
          0.03307098997890802,
          0.034698705493070206,
          0.03585228017146885,
          0.03646069767852499,
          0.03648159705251837,
          0.03590696503746284,
          0.034764835086859465,
          0.03311665339155299,
          0.031050752744273744,
          0.028673051006823724,
          0.026096520104243664,
          0.023431061887644638,
          0.020775170645113524,
          0.01821024816320299,
          0.015797825771272422,
          0.013579407062984668,
          0.011578291098264264,
          0.00980260377875912,
          0.008248818537988768,
          0.00690521287512029,
          0.00575490907632896,
          0.004778330837202563,
          0.003955044650098056,
          0.0032650403236557527,
          0.0026895467326547946,
          0.0022114897484836415,
          0.0018156917989143443,
          0.0014888963306978727,
          0.00121968195343225,
          0.0009983137806171547,
          0.0008165650370750182,
          0.0006675307543625122,
          0.0005454470831331269,
          0.00044552391051586786
         ],
         "yaxis": "y"
        },
        {
         "hovertemplate": "variable=residual sugar<br>alphas=%{x}<br>value=%{y}<extra></extra>",
         "legendgroup": "residual sugar",
         "line": {
          "color": "#ab63fa",
          "dash": "solid"
         },
         "mode": "lines",
         "name": "residual sugar",
         "orientation": "v",
         "showlegend": true,
         "type": "scatter",
         "x": [
          0.01,
          0.012263306841775632,
          0.015038869469554102,
          0.018442627085855347,
          0.022616759492228647,
          0.02773562614198415,
          0.03401304938279251,
          0.04171124612056518,
          0.051151780992931425,
          0.06272899858196247,
          0.07692649574879142,
          0.09433732216299774,
          0.1156887528316282,
          0.1418726674116596,
          0.1739828052930364,
          0.21336045265014109,
          0.2616504698748821,
          0.320869999737045,
          0.39349272630958493,
          0.48255220427412787,
          0.5917685748188825,
          0.7257039612324212,
          0.8899530352885229,
          1.0913767146512738,
          1.3383887531737564,
          1.6413071953751284,
          2.0127853758499383,
          2.4683404670686486,
          3.0270016537634614,
          3.7121050090663608,
          4.55226827550731,
          5.582586268862695,
          6.846096838574658,
          8.395578619995112,
          10.295755673125127,
          12.626001098748565,
          15.48365256585499,
          18.988078244652634,
          23.285662984981965,
          28.55592301990109,
          35.019004614317126,
          42.944879887892725,
          52.66462393484275,
          64.58424430196978,
          79.20164050192548,
          97.12740198471168,
          119.11031332830079,
          146.06863203649888,
          179.1284454622002,
          219.67070907932353,
          269.388930959017,
          330.35991201283395,
          405.1304969235378,
          496.8239594734388,
          609.2704661368674,
          747.1670675868082,
          916.2739011886731,
          1123.6548001387516,
          1377.9723598335568,
          1689.8497868124587,
          2072.3146452190294,
          2541.343036702639,
          3116.52694492943,
          3821.8926206331225,
          4686.904192314192,
          5747.694424835347,
          7048.574036451903,
          8643.882620598262,
          10600.258488068825,
          12999.42224413245,
          15941.590374559995,
          19549.661430912594,
          23974.349678010785,
          29400.480643347077,
          36054.71154250506,
          44214.99907374487,
          54222.21006501592,
          66494.35996665046,
          81544.07395185171,
          100000
         ],
         "xaxis": "x",
         "y": [
          0.015169593621176515,
          0.015167534524845832,
          0.01516501016426391,
          0.015161915624526677,
          0.01515812244065539,
          0.015153473365558676,
          0.015147776002911282,
          0.01514079507250781,
          0.01513224303513906,
          0.0151217687602526,
          0.015108943874703459,
          0.015093246388573334,
          0.015074041160900817,
          0.015050556754774631,
          0.015021858254091002,
          0.014986815698247195,
          0.01494406797260514,
          0.014891982323657104,
          0.014828610219638324,
          0.01475164114351644,
          0.014658357201355731,
          0.014545593284688796,
          0.01440971006158949,
          0.014246590351456093,
          0.014051673381784638,
          0.013820045663627729,
          0.0135466109030513,
          0.013226362920443433,
          0.012854782520059614,
          0.012428368356444721,
          0.011945289571168945,
          0.011406112026862465,
          0.01081450166438261,
          0.010177755619099461,
          0.009506970210735743,
          0.008816647234467324,
          0.008123588194075588,
          0.007445040770027765,
          0.006796231818050985,
          0.00618761203343477,
          0.005622301003492373,
          0.005094312083857191,
          0.0045881222984238725,
          0.004080014889162636,
          0.0035413529865691907,
          0.0029435513305642366,
          0.0022640482833415887,
          0.001492152450194218,
          0.0006334064781426196,
          -0.00028877455855065044,
          -0.001234915065324514,
          -0.002154643786601792,
          -0.002994229532228498,
          -0.0037048553963189702,
          -0.0042498115140081755,
          -0.004609124992955451,
          -0.004780884838392896,
          -0.004779398755796927,
          -0.004631047847262893,
          -0.004369078662804882,
          -0.004028538990330602,
          -0.0036422247586994426,
          -0.0032380423871029825,
          -0.002837775638927309,
          -0.002456978075802922,
          -0.0021056078244358943,
          -0.0017890407861680026,
          -0.0015091834712078302,
          -0.001265507965518413,
          -0.0010559193162425532,
          -0.0008774282174924986,
          -0.0007266394579569751,
          -0.0006000847251890531,
          -0.0004944337073478994,
          -0.0004066156052310789,
          -0.0003338780998047852,
          -0.0002738049032918583,
          -0.0002243075052730802,
          -0.00018360212938879384,
          -0.00015017934905978337
         ],
         "yaxis": "y"
        },
        {
         "hovertemplate": "variable=chlorides<br>alphas=%{x}<br>value=%{y}<extra></extra>",
         "legendgroup": "chlorides",
         "line": {
          "color": "#FFA15A",
          "dash": "solid"
         },
         "mode": "lines",
         "name": "chlorides",
         "orientation": "v",
         "showlegend": true,
         "type": "scatter",
         "x": [
          0.01,
          0.012263306841775632,
          0.015038869469554102,
          0.018442627085855347,
          0.022616759492228647,
          0.02773562614198415,
          0.03401304938279251,
          0.04171124612056518,
          0.051151780992931425,
          0.06272899858196247,
          0.07692649574879142,
          0.09433732216299774,
          0.1156887528316282,
          0.1418726674116596,
          0.1739828052930364,
          0.21336045265014109,
          0.2616504698748821,
          0.320869999737045,
          0.39349272630958493,
          0.48255220427412787,
          0.5917685748188825,
          0.7257039612324212,
          0.8899530352885229,
          1.0913767146512738,
          1.3383887531737564,
          1.6413071953751284,
          2.0127853758499383,
          2.4683404670686486,
          3.0270016537634614,
          3.7121050090663608,
          4.55226827550731,
          5.582586268862695,
          6.846096838574658,
          8.395578619995112,
          10.295755673125127,
          12.626001098748565,
          15.48365256585499,
          18.988078244652634,
          23.285662984981965,
          28.55592301990109,
          35.019004614317126,
          42.944879887892725,
          52.66462393484275,
          64.58424430196978,
          79.20164050192548,
          97.12740198471168,
          119.11031332830079,
          146.06863203649888,
          179.1284454622002,
          219.67070907932353,
          269.388930959017,
          330.35991201283395,
          405.1304969235378,
          496.8239594734388,
          609.2704661368674,
          747.1670675868082,
          916.2739011886731,
          1123.6548001387516,
          1377.9723598335568,
          1689.8497868124587,
          2072.3146452190294,
          2541.343036702639,
          3116.52694492943,
          3821.8926206331225,
          4686.904192314192,
          5747.694424835347,
          7048.574036451903,
          8643.882620598262,
          10600.258488068825,
          12999.42224413245,
          15941.590374559995,
          19549.661430912594,
          23974.349678010785,
          29400.480643347077,
          36054.71154250506,
          44214.99907374487,
          54222.21006501592,
          66494.35996665046,
          81544.07395185171,
          100000
         ],
         "xaxis": "x",
         "y": [
          -0.05243014737942357,
          -0.052431119498835214,
          -0.052432311339267346,
          -0.052433772479637826,
          -0.05243556364432249,
          -0.05243775918766722,
          -0.05244045012176253,
          -0.052443747800929176,
          -0.052447788397325994,
          -0.05245273832549646,
          -0.05245880079894763,
          -0.05246622372782456,
          -0.052475309191192136,
          -0.0524864247366337,
          -0.052500016767791854,
          -0.05251662626776058,
          -0.052536907058848774,
          -0.05256164669669126,
          -0.05259178991014823,
          -0.05262846418864095,
          -0.05267300663468294,
          -0.05272699047958488,
          -0.05279224863696978,
          -0.05287089028095188,
          -0.052965304654776155,
          -0.05307814418710182,
          -0.053212276699297976,
          -0.053370694422219894,
          -0.05355636637371071,
          -0.053772021318583996,
          -0.0540198520972496,
          -0.05430113934350132,
          -0.05461580336078374,
          -0.05496190538880619,
          -0.055335129955719174,
          -0.05572828375606979,
          -0.056130840317274146,
          -0.056528545398208695,
          -0.05690308453359429,
          -0.05723181537409122,
          -0.057487594906466634,
          -0.057638784033212466,
          -0.0576495696242332,
          -0.05748077399775709,
          -0.0570912945634175,
          -0.05644022717487624,
          -0.055489604179272456,
          -0.054207569403523496,
          -0.05257174834852759,
          -0.0505725389910209,
          -0.04821599868115351,
          -0.04552590604317561,
          -0.042544476598921493,
          -0.03933122005200952,
          -0.0359596523767517,
          -0.03251201937818653,
          -0.02907271138187026,
          -0.025721434751949858,
          -0.02252728444696881,
          -0.01954460376676534,
          -0.016811041021820215,
          -0.014347706902533869,
          -0.012160961953051257,
          -0.010245193995358622,
          -0.008585964155098519,
          -0.007163038522847367,
          -0.005953003275831095,
          -0.004931327233895416,
          -0.0040738587593215575,
          -0.0033578183374158785,
          -0.002762382144290008,
          -0.002268958088948826,
          -0.0018612461335933274,
          -0.0015251580748973355,
          -0.0012486540614372584,
          -0.0010215369399126323,
          -0.0008352322904486949,
          -0.0006825719089212734,
          -0.0005575911838165848,
          -0.00045534576762951026
         ],
         "yaxis": "y"
        },
        {
         "hovertemplate": "variable=free sulfur dioxide<br>alphas=%{x}<br>value=%{y}<extra></extra>",
         "legendgroup": "free sulfur dioxide",
         "line": {
          "color": "#19d3f3",
          "dash": "solid"
         },
         "mode": "lines",
         "name": "free sulfur dioxide",
         "orientation": "v",
         "showlegend": true,
         "type": "scatter",
         "x": [
          0.01,
          0.012263306841775632,
          0.015038869469554102,
          0.018442627085855347,
          0.022616759492228647,
          0.02773562614198415,
          0.03401304938279251,
          0.04171124612056518,
          0.051151780992931425,
          0.06272899858196247,
          0.07692649574879142,
          0.09433732216299774,
          0.1156887528316282,
          0.1418726674116596,
          0.1739828052930364,
          0.21336045265014109,
          0.2616504698748821,
          0.320869999737045,
          0.39349272630958493,
          0.48255220427412787,
          0.5917685748188825,
          0.7257039612324212,
          0.8899530352885229,
          1.0913767146512738,
          1.3383887531737564,
          1.6413071953751284,
          2.0127853758499383,
          2.4683404670686486,
          3.0270016537634614,
          3.7121050090663608,
          4.55226827550731,
          5.582586268862695,
          6.846096838574658,
          8.395578619995112,
          10.295755673125127,
          12.626001098748565,
          15.48365256585499,
          18.988078244652634,
          23.285662984981965,
          28.55592301990109,
          35.019004614317126,
          42.944879887892725,
          52.66462393484275,
          64.58424430196978,
          79.20164050192548,
          97.12740198471168,
          119.11031332830079,
          146.06863203649888,
          179.1284454622002,
          219.67070907932353,
          269.388930959017,
          330.35991201283395,
          405.1304969235378,
          496.8239594734388,
          609.2704661368674,
          747.1670675868082,
          916.2739011886731,
          1123.6548001387516,
          1377.9723598335568,
          1689.8497868124587,
          2072.3146452190294,
          2541.343036702639,
          3116.52694492943,
          3821.8926206331225,
          4686.904192314192,
          5747.694424835347,
          7048.574036451903,
          8643.882620598262,
          10600.258488068825,
          12999.42224413245,
          15941.590374559995,
          19549.661430912594,
          23974.349678010785,
          29400.480643347077,
          36054.71154250506,
          44214.99907374487,
          54222.21006501592,
          66494.35996665046,
          81544.07395185171,
          100000
         ],
         "xaxis": "x",
         "y": [
          0.1567729038496966,
          0.15677059577582608,
          0.15676776524455474,
          0.15676429397287645,
          0.15676003688925733,
          0.1567548160618716,
          0.1567484132483093,
          0.15674056075265252,
          0.15673093020372433,
          0.1567191187794524,
          0.15670463229265796,
          0.15668686441824461,
          0.15666507117456108,
          0.15663833956506704,
          0.15660554903101012,
          0.15656532405036888,
          0.1565159758294452,
          0.1564554305559654,
          0.15638114110016377,
          0.1562899783481212,
          0.15617809752067124,
          0.1560407738775738,
          0.15587220116772124,
          0.1556652451576864,
          0.1554111437504954,
          0.15509914495708552,
          0.15471607491796427,
          0.15424583125268487,
          0.15366880362464044,
          0.15296123534841077,
          0.1520945591481322,
          0.151034768485647,
          0.1497419236096741,
          0.1481699363739832,
          0.14626682360912144,
          0.14397565416310235,
          0.14123642386640858,
          0.13798905722494442,
          0.13417763683000875,
          0.1297557885942445,
          0.12469290199204205,
          0.11898056087159686,
          0.11263825935770873,
          0.10571727922899438,
          0.09830163707273872,
          0.09050537218940485,
          0.0824661350178317,
          0.07433588361516372,
          0.0662701992320848,
          0.05841798568817395,
          0.050912994162445054,
          0.04386787192059357,
          0.037370643638837624,
          0.031483069809725,
          0.0262403345624743,
          0.021651841603244452,
          0.01770321818053244,
          0.014359682100492984,
          0.011570681048958616,
          0.009275344172819847,
          0.007408028770672795,
          0.005903234859124102,
          0.004699375390754357,
          0.0037412057539489675,
          0.002981000690561635,
          0.002378743584543283,
          0.00190165214315482,
          0.001523337627498846,
          0.0012228250795984252,
          0.0009835840421505203,
          0.0007926528387505237,
          0.0006398916225468946,
          0.0005173694031041933,
          0.0004188741004265309,
          0.00033952780025758877,
          0.0002754880131210664,
          0.00022371720137933287,
          0.0001818054622519622,
          0.00014783410406478577,
          0.00012027047028179816
         ],
         "yaxis": "y"
        },
        {
         "hovertemplate": "variable=total sulfur dioxide<br>alphas=%{x}<br>value=%{y}<extra></extra>",
         "legendgroup": "total sulfur dioxide",
         "line": {
          "color": "#FF6692",
          "dash": "solid"
         },
         "mode": "lines",
         "name": "total sulfur dioxide",
         "orientation": "v",
         "showlegend": true,
         "type": "scatter",
         "x": [
          0.01,
          0.012263306841775632,
          0.015038869469554102,
          0.018442627085855347,
          0.022616759492228647,
          0.02773562614198415,
          0.03401304938279251,
          0.04171124612056518,
          0.051151780992931425,
          0.06272899858196247,
          0.07692649574879142,
          0.09433732216299774,
          0.1156887528316282,
          0.1418726674116596,
          0.1739828052930364,
          0.21336045265014109,
          0.2616504698748821,
          0.320869999737045,
          0.39349272630958493,
          0.48255220427412787,
          0.5917685748188825,
          0.7257039612324212,
          0.8899530352885229,
          1.0913767146512738,
          1.3383887531737564,
          1.6413071953751284,
          2.0127853758499383,
          2.4683404670686486,
          3.0270016537634614,
          3.7121050090663608,
          4.55226827550731,
          5.582586268862695,
          6.846096838574658,
          8.395578619995112,
          10.295755673125127,
          12.626001098748565,
          15.48365256585499,
          18.988078244652634,
          23.285662984981965,
          28.55592301990109,
          35.019004614317126,
          42.944879887892725,
          52.66462393484275,
          64.58424430196978,
          79.20164050192548,
          97.12740198471168,
          119.11031332830079,
          146.06863203649888,
          179.1284454622002,
          219.67070907932353,
          269.388930959017,
          330.35991201283395,
          405.1304969235378,
          496.8239594734388,
          609.2704661368674,
          747.1670675868082,
          916.2739011886731,
          1123.6548001387516,
          1377.9723598335568,
          1689.8497868124587,
          2072.3146452190294,
          2541.343036702639,
          3116.52694492943,
          3821.8926206331225,
          4686.904192314192,
          5747.694424835347,
          7048.574036451903,
          8643.882620598262,
          10600.258488068825,
          12999.42224413245,
          15941.590374559995,
          19549.661430912594,
          23974.349678010785,
          29400.480643347077,
          36054.71154250506,
          44214.99907374487,
          54222.21006501592,
          66494.35996665046,
          81544.07395185171,
          100000
         ],
         "xaxis": "x",
         "y": [
          -0.16378398442454037,
          -0.1637823594499143,
          -0.16378036648301902,
          -0.1637779221299872,
          -0.1637749240691694,
          -0.16377124674054933,
          -0.1637667360462445,
          -0.16376120283168044,
          -0.16375441486164538,
          -0.16374608693597548,
          -0.1637358687021592,
          -0.1637233296116128,
          -0.16370794032606778,
          -0.16368904970169376,
          -0.16366585624980343,
          -0.1636373726794295,
          -0.16360238174967642,
          -0.16355938117469127,
          -0.16350651470260552,
          -0.16344148569929043,
          -0.1633614485757083,
          -0.16326287218029917,
          -0.16314136783783034,
          -0.16299147311400175,
          -0.16280638079195323,
          -0.16257760132439578,
          -0.1622945468352951,
          -0.16194402667666946,
          -0.16150965021742597,
          -0.1609711440906343,
          -0.16030361094696607,
          -0.1594767868132768,
          -0.15845439473875575,
          -0.15719374056226693,
          -0.15564574467181497,
          -0.1537556387891767,
          -0.15146456282172802,
          -0.14871225732175497,
          -0.1454409496253286,
          -0.14160037067509743,
          -0.1371536182123692,
          -0.13208331726943037,
          -0.12639726033937326,
          -0.1201325094321125,
          -0.11335691119303806,
          -0.1061672111351398,
          -0.09868348784497334,
          -0.09104037996642003,
          -0.0833763444222217,
          -0.0758227087834698,
          -0.06849436947294978,
          -0.06148359419256865,
          -0.05485762753744302,
          -0.04865989949117005,
          -0.04291385748687747,
          -0.03762800404456231,
          -0.032800735565141466,
          -0.02842399809614966,
          -0.02448540713585442,
          -0.020969060868650007,
          -0.017855610363484656,
          -0.015122181977278479,
          -0.012742560528622639,
          -0.010687781640137024,
          -0.008927069147994793,
          -0.00742894346916605,
          -0.006162313275713072,
          -0.0050974087360134025,
          -0.0042064804699584206,
          -0.0034642473896535917,
          -0.002848116981132358,
          -0.002338222400693762,
          -0.001917326451830368,
          -0.001570638802215146,
          -0.0012855845671235835,
          -0.0010515529575442209,
          -0.0008596459593516507,
          -0.000702439813043586,
          -0.0005737665905429725,
          -0.00046851926615990285
         ],
         "yaxis": "y"
        },
        {
         "hovertemplate": "variable=density<br>alphas=%{x}<br>value=%{y}<extra></extra>",
         "legendgroup": "density",
         "line": {
          "color": "#B6E880",
          "dash": "solid"
         },
         "mode": "lines",
         "name": "density",
         "orientation": "v",
         "showlegend": true,
         "type": "scatter",
         "x": [
          0.01,
          0.012263306841775632,
          0.015038869469554102,
          0.018442627085855347,
          0.022616759492228647,
          0.02773562614198415,
          0.03401304938279251,
          0.04171124612056518,
          0.051151780992931425,
          0.06272899858196247,
          0.07692649574879142,
          0.09433732216299774,
          0.1156887528316282,
          0.1418726674116596,
          0.1739828052930364,
          0.21336045265014109,
          0.2616504698748821,
          0.320869999737045,
          0.39349272630958493,
          0.48255220427412787,
          0.5917685748188825,
          0.7257039612324212,
          0.8899530352885229,
          1.0913767146512738,
          1.3383887531737564,
          1.6413071953751284,
          2.0127853758499383,
          2.4683404670686486,
          3.0270016537634614,
          3.7121050090663608,
          4.55226827550731,
          5.582586268862695,
          6.846096838574658,
          8.395578619995112,
          10.295755673125127,
          12.626001098748565,
          15.48365256585499,
          18.988078244652634,
          23.285662984981965,
          28.55592301990109,
          35.019004614317126,
          42.944879887892725,
          52.66462393484275,
          64.58424430196978,
          79.20164050192548,
          97.12740198471168,
          119.11031332830079,
          146.06863203649888,
          179.1284454622002,
          219.67070907932353,
          269.388930959017,
          330.35991201283395,
          405.1304969235378,
          496.8239594734388,
          609.2704661368674,
          747.1670675868082,
          916.2739011886731,
          1123.6548001387516,
          1377.9723598335568,
          1689.8497868124587,
          2072.3146452190294,
          2541.343036702639,
          3116.52694492943,
          3821.8926206331225,
          4686.904192314192,
          5747.694424835347,
          7048.574036451903,
          8643.882620598262,
          10600.258488068825,
          12999.42224413245,
          15941.590374559995,
          19549.661430912594,
          23974.349678010785,
          29400.480643347077,
          36054.71154250506,
          44214.99907374487,
          54222.21006501592,
          66494.35996665046,
          81544.07395185171,
          100000
         ],
         "xaxis": "x",
         "y": [
          -0.14582856056415328,
          -0.14582093252538075,
          -0.14581158057833998,
          -0.14580011583334448,
          -0.1457860620283813,
          -0.145768836078013,
          -0.14574772438208058,
          -0.14572185401537038,
          -0.14569015776050281,
          -0.14565133177095196,
          -0.1456037844650014,
          -0.14554557506566848,
          -0.14547434003607293,
          -0.14538720554720252,
          -0.14528068410765507,
          -0.14515055366238566,
          -0.14499171794771004,
          -0.14479804784240638,
          -0.14456220511430662,
          -0.1442754526402917,
          -0.14392745926559336,
          -0.1435061134146112,
          -0.1429973678100774,
          -0.1423851484860249,
          -0.1416513745537185,
          -0.14077614989665413,
          -0.13973820164560183,
          -0.138515648222866,
          -0.137087174481366,
          -0.1354336629344242,
          -0.13354026741365804,
          -0.1313988114476806,
          -0.12901025185961157,
          -0.12638679152849516,
          -0.12355310106405604,
          -0.12054608228177649,
          -0.11741273697909524,
          -0.11420601279238063,
          -0.11097893452340145,
          -0.10777777624745767,
          -0.10463534309275987,
          -0.1015655089512415,
          -0.0985599830141649,
          -0.0955879237301481,
          -0.09259858895748965,
          -0.0895267932646713,
          -0.08630058518714538,
          -0.08285027835663944,
          -0.07911778281037611,
          -0.075065098957614,
          -0.07068086753174184,
          -0.06598402559020089,
          -0.061023918123508755,
          -0.05587666958222121,
          -0.050638202431499524,
          -0.045414898141646606,
          -0.04031336012035761,
          -0.03543089033260564,
          -0.03084805874961437,
          -0.026624199123113534,
          -0.022795991996464544,
          -0.019378706586420623,
          -0.016369311071705177,
          -0.01375056210573513,
          -0.011495294363010585,
          -0.009570353028159605,
          -0.007939855105812537,
          -0.006567669478257678,
          -0.0054191461305609515,
          -0.004462202947349925,
          -0.003667908035235,
          -0.0030106938205250733,
          -0.002468320976290656,
          -0.0020216859615521865,
          -0.0016545418465406321,
          -0.0013531812310854483,
          -0.0011061134824381365,
          -0.0009037561374467257,
          -0.0007381515276867573,
          -0.0006027137376355247
         ],
         "yaxis": "y"
        },
        {
         "hovertemplate": "variable=pH<br>alphas=%{x}<br>value=%{y}<extra></extra>",
         "legendgroup": "pH",
         "line": {
          "color": "#FF97FF",
          "dash": "solid"
         },
         "mode": "lines",
         "name": "pH",
         "orientation": "v",
         "showlegend": true,
         "type": "scatter",
         "x": [
          0.01,
          0.012263306841775632,
          0.015038869469554102,
          0.018442627085855347,
          0.022616759492228647,
          0.02773562614198415,
          0.03401304938279251,
          0.04171124612056518,
          0.051151780992931425,
          0.06272899858196247,
          0.07692649574879142,
          0.09433732216299774,
          0.1156887528316282,
          0.1418726674116596,
          0.1739828052930364,
          0.21336045265014109,
          0.2616504698748821,
          0.320869999737045,
          0.39349272630958493,
          0.48255220427412787,
          0.5917685748188825,
          0.7257039612324212,
          0.8899530352885229,
          1.0913767146512738,
          1.3383887531737564,
          1.6413071953751284,
          2.0127853758499383,
          2.4683404670686486,
          3.0270016537634614,
          3.7121050090663608,
          4.55226827550731,
          5.582586268862695,
          6.846096838574658,
          8.395578619995112,
          10.295755673125127,
          12.626001098748565,
          15.48365256585499,
          18.988078244652634,
          23.285662984981965,
          28.55592301990109,
          35.019004614317126,
          42.944879887892725,
          52.66462393484275,
          64.58424430196978,
          79.20164050192548,
          97.12740198471168,
          119.11031332830079,
          146.06863203649888,
          179.1284454622002,
          219.67070907932353,
          269.388930959017,
          330.35991201283395,
          405.1304969235378,
          496.8239594734388,
          609.2704661368674,
          747.1670675868082,
          916.2739011886731,
          1123.6548001387516,
          1377.9723598335568,
          1689.8497868124587,
          2072.3146452190294,
          2541.343036702639,
          3116.52694492943,
          3821.8926206331225,
          4686.904192314192,
          5747.694424835347,
          7048.574036451903,
          8643.882620598262,
          10600.258488068825,
          12999.42224413245,
          15941.590374559995,
          19549.661430912594,
          23974.349678010785,
          29400.480643347077,
          36054.71154250506,
          44214.99907374487,
          54222.21006501592,
          66494.35996665046,
          81544.07395185171,
          100000
         ],
         "xaxis": "x",
         "y": [
          0.005933808518386105,
          0.0059292534170164056,
          0.005923669006282791,
          0.005916823152101055,
          0.005908431598701435,
          0.0058981463814052615,
          0.005885541721751764,
          0.005870096887446707,
          0.0058511754083470585,
          0.005827999940409929,
          0.005799621966494355,
          0.005764885424005813,
          0.005722383268373524,
          0.005670405940574613,
          0.005606880741440351,
          0.005529301278496227,
          0.005434646521001234,
          0.005319289687932634,
          0.005178898356947901,
          0.00500832902576617,
          0.004801522138848759,
          0.004551407608819165,
          0.004249836407191944,
          0.0038875610688169832,
          0.0034542968736544586,
          0.0029389054077397156,
          0.0023297515746350667,
          0.001615290910034674,
          0.0007849414207937546,
          -0.00016972341734798689,
          -0.0012534635517172234,
          -0.0024656129233221642,
          -0.0037982334809543205,
          -0.005234447661350504,
          -0.0067472998326640315,
          -0.008299524741131674,
          -0.00984453374122228,
          -0.011328755829460573,
          -0.012695221323599295,
          -0.013888022573505115,
          -0.014857109510565453,
          -0.015562825749415393,
          -0.015979650555186416,
          -0.016098723667437448,
          -0.015928835945933355,
          -0.015495661916074106,
          -0.014839142847267346,
          -0.014009167059356332,
          -0.013060043917751384,
          -0.012044630465435037,
          -0.01100917123719097,
          -0.00998980586171346,
          -0.009011271984881438,
          -0.00808773140078767,
          -0.0072251107304757934,
          -0.006424070263671252,
          -0.005682758433474682,
          -0.0049987965434576485,
          -0.004370313303532815,
          -0.0037961630152588883,
          -0.003275631345138446,
          -0.0028079527327853925,
          -0.002391882013632108,
          -0.0020254448548708485,
          -0.0017058883474053493,
          -0.001429789086351275,
          -0.0011932521826713764,
          -0.0009921388415873812,
          -0.0008222778225015447,
          -0.0006796361152724172,
          -0.0005604404695103484,
          -0.00046125207661346307,
          -0.00037900221969839937,
          -0.00031099850890766936,
          -0.00025491089764226896,
          -0.00020874518711518157,
          -0.0001708099249988153,
          -0.00013968090388765861,
          -0.00011416604953305706,
          -0.00009327240187075257
         ],
         "yaxis": "y"
        },
        {
         "hovertemplate": "variable=sulphates<br>alphas=%{x}<br>value=%{y}<extra></extra>",
         "legendgroup": "sulphates",
         "line": {
          "color": "#FECB52",
          "dash": "solid"
         },
         "mode": "lines",
         "name": "sulphates",
         "orientation": "v",
         "showlegend": true,
         "type": "scatter",
         "x": [
          0.01,
          0.012263306841775632,
          0.015038869469554102,
          0.018442627085855347,
          0.022616759492228647,
          0.02773562614198415,
          0.03401304938279251,
          0.04171124612056518,
          0.051151780992931425,
          0.06272899858196247,
          0.07692649574879142,
          0.09433732216299774,
          0.1156887528316282,
          0.1418726674116596,
          0.1739828052930364,
          0.21336045265014109,
          0.2616504698748821,
          0.320869999737045,
          0.39349272630958493,
          0.48255220427412787,
          0.5917685748188825,
          0.7257039612324212,
          0.8899530352885229,
          1.0913767146512738,
          1.3383887531737564,
          1.6413071953751284,
          2.0127853758499383,
          2.4683404670686486,
          3.0270016537634614,
          3.7121050090663608,
          4.55226827550731,
          5.582586268862695,
          6.846096838574658,
          8.395578619995112,
          10.295755673125127,
          12.626001098748565,
          15.48365256585499,
          18.988078244652634,
          23.285662984981965,
          28.55592301990109,
          35.019004614317126,
          42.944879887892725,
          52.66462393484275,
          64.58424430196978,
          79.20164050192548,
          97.12740198471168,
          119.11031332830079,
          146.06863203649888,
          179.1284454622002,
          219.67070907932353,
          269.388930959017,
          330.35991201283395,
          405.1304969235378,
          496.8239594734388,
          609.2704661368674,
          747.1670675868082,
          916.2739011886731,
          1123.6548001387516,
          1377.9723598335568,
          1689.8497868124587,
          2072.3146452190294,
          2541.343036702639,
          3116.52694492943,
          3821.8926206331225,
          4686.904192314192,
          5747.694424835347,
          7048.574036451903,
          8643.882620598262,
          10600.258488068825,
          12999.42224413245,
          15941.590374559995,
          19549.661430912594,
          23974.349678010785,
          29400.480643347077,
          36054.71154250506,
          44214.99907374487,
          54222.21006501592,
          66494.35996665046,
          81544.07395185171,
          100000
         ],
         "xaxis": "x",
         "y": [
          0.0864458765792198,
          0.08644494005629125,
          0.0864437918317267,
          0.0864423841228988,
          0.08644065839883257,
          0.08643854298081084,
          0.08643595011658212,
          0.08643277241732923,
          0.08642887852557436,
          0.08642410785845707,
          0.0864182642446732,
          0.08641110824562404,
          0.08640234792365903,
          0.08639162779556496,
          0.08637851569237319,
          0.08636248724444526,
          0.08634290773459816,
          0.08631901112751846,
          0.0862898762125997,
          0.08625440001809193,
          0.08621126900172993,
          0.08615892903437085,
          0.08609555590041525,
          0.08601902895014726,
          0.08592691160759124,
          0.0858164435104365,
          0.08568454980822596,
          0.08552787298940631,
          0.08534283065540382,
          0.08512569774512165,
          0.08487270263076169,
          0.08458011256139739,
          0.08424426585341405,
          0.08386148926341123,
          0.08342782562573182,
          0.0829384983546164,
          0.08238706541031808,
          0.08176427163667703,
          0.08105669283340348,
          0.08024536548228184,
          0.07930469239543828,
          0.07820198193847615,
          0.07689799112093548,
          0.07534877670560275,
          0.07350899687617607,
          0.07133655111448454,
          0.06879813230075783,
          0.06587496296060458,
          0.06256778661195223,
          0.05890016200259866,
          0.05491929652240189,
          0.050694033942459686,
          0.046310109788409756,
          0.04186329809063871,
          0.03745147323375686,
          0.033166793186578364,
          0.029089123522143955,
          0.025281495136214943,
          0.02178792709835543,
          0.018633486981360733,
          0.01582611981946858,
          0.013359609843301546,
          0.011217038466187953,
          0.009374217045796374,
          0.007802740431715326,
          0.00647247448658787,
          0.0053534257226817115,
          0.004417032277178457,
          0.0036369651244537514,
          0.0029895462084490597,
          0.0024538872071956895,
          0.002011838551752057,
          0.0016478200701429942,
          0.0013485865102320772,
          0.0011029654194053753,
          0.0009015922240393271,
          0.0007366578414213516,
          0.0006016773585175126,
          0.0004912836803915758,
          0.00040104705176116867
         ],
         "yaxis": "y"
        },
        {
         "hovertemplate": "variable=alcohol<br>alphas=%{x}<br>value=%{y}<extra></extra>",
         "legendgroup": "alcohol",
         "line": {
          "color": "#636efa",
          "dash": "solid"
         },
         "mode": "lines",
         "name": "alcohol",
         "orientation": "v",
         "showlegend": true,
         "type": "scatter",
         "x": [
          0.01,
          0.012263306841775632,
          0.015038869469554102,
          0.018442627085855347,
          0.022616759492228647,
          0.02773562614198415,
          0.03401304938279251,
          0.04171124612056518,
          0.051151780992931425,
          0.06272899858196247,
          0.07692649574879142,
          0.09433732216299774,
          0.1156887528316282,
          0.1418726674116596,
          0.1739828052930364,
          0.21336045265014109,
          0.2616504698748821,
          0.320869999737045,
          0.39349272630958493,
          0.48255220427412787,
          0.5917685748188825,
          0.7257039612324212,
          0.8899530352885229,
          1.0913767146512738,
          1.3383887531737564,
          1.6413071953751284,
          2.0127853758499383,
          2.4683404670686486,
          3.0270016537634614,
          3.7121050090663608,
          4.55226827550731,
          5.582586268862695,
          6.846096838574658,
          8.395578619995112,
          10.295755673125127,
          12.626001098748565,
          15.48365256585499,
          18.988078244652634,
          23.285662984981965,
          28.55592301990109,
          35.019004614317126,
          42.944879887892725,
          52.66462393484275,
          64.58424430196978,
          79.20164050192548,
          97.12740198471168,
          119.11031332830079,
          146.06863203649888,
          179.1284454622002,
          219.67070907932353,
          269.388930959017,
          330.35991201283395,
          405.1304969235378,
          496.8239594734388,
          609.2704661368674,
          747.1670675868082,
          916.2739011886731,
          1123.6548001387516,
          1377.9723598335568,
          1689.8497868124587,
          2072.3146452190294,
          2541.343036702639,
          3116.52694492943,
          3821.8926206331225,
          4686.904192314192,
          5747.694424835347,
          7048.574036451903,
          8643.882620598262,
          10600.258488068825,
          12999.42224413245,
          15941.590374559995,
          19549.661430912594,
          23974.349678010785,
          29400.480643347077,
          36054.71154250506,
          44214.99907374487,
          54222.21006501592,
          66494.35996665046,
          81544.07395185171,
          100000
         ],
         "xaxis": "x",
         "y": [
          0.3032218752079287,
          0.30322319762197725,
          0.30322481804800194,
          0.3032268032857196,
          0.30322923492716325,
          0.30323221254077315,
          0.3032358574941337,
          0.3032403175190426,
          0.30324577212586457,
          0.30325243896829723,
          0.303260581237957,
          0.30327051612021433,
          0.30328262425260005,
          0.303297359971265,
          0.30331526187456725,
          0.3033369628255505,
          0.3033631978853773,
          0.30339480771838945,
          0.30343273360283346,
          0.3034779981462731,
          0.3035316629301606,
          0.3035947503588748,
          0.3036681117468691,
          0.303752217028273,
          0.3038468335596683,
          0.30395055296117746,
          0.304060117318465,
          0.3041694921435234,
          0.3042686376753008,
          0.30434194836605566,
          0.3043663693571567,
          0.30430926331314057,
          0.30412619045183387,
          0.30375886802809404,
          0.30313366889622034,
          0.3021610679204904,
          0.30073641696515857,
          0.29874230993653494,
          0.29605260828773905,
          0.2925379858466846,
          0.28807267983665286,
          0.28254203774736175,
          0.2758504175222484,
          0.2679289874751824,
          0.25874294053609986,
          0.24829757953210488,
          0.23664268425763713,
          0.22387459219482,
          0.21013554526263134,
          0.19561006040911913,
          0.1805183217746002,
          0.16510682037019928,
          0.14963668033096228,
          0.13437034739105638,
          0.11955760468217227,
          0.10542217890444762,
          0.09215037390779443,
          0.07988306587115818,
          0.06871195015855013,
          0.05868023356146761,
          0.049787226565910225,
          0.041995732207554884,
          0.035240884701094675,
          0.02943916563500951,
          0.024496621165776472,
          0.020315687608315706,
          0.016800393086821064,
          0.013859975069097882,
          0.011411119883895399,
          0.009379103945316452,
          0.0076981240201810085,
          0.006311072820796636,
          0.005168968126218067,
          0.004230192808982029,
          0.0034596574314531194,
          0.0028279597588026324,
          0.0023105871074153824,
          0.00188718696965474,
          0.001540917339264052,
          0.0012578790641987754
         ],
         "yaxis": "y"
        }
       ],
       "layout": {
        "legend": {
         "title": {
          "text": "variable"
         },
         "tracegroupgap": 0
        },
        "margin": {
         "t": 60
        },
        "template": {
         "data": {
          "bar": [
           {
            "error_x": {
             "color": "#2a3f5f"
            },
            "error_y": {
             "color": "#2a3f5f"
            },
            "marker": {
             "line": {
              "color": "#E5ECF6",
              "width": 0.5
             }
            },
            "type": "bar"
           }
          ],
          "barpolar": [
           {
            "marker": {
             "line": {
              "color": "#E5ECF6",
              "width": 0.5
             }
            },
            "type": "barpolar"
           }
          ],
          "carpet": [
           {
            "aaxis": {
             "endlinecolor": "#2a3f5f",
             "gridcolor": "white",
             "linecolor": "white",
             "minorgridcolor": "white",
             "startlinecolor": "#2a3f5f"
            },
            "baxis": {
             "endlinecolor": "#2a3f5f",
             "gridcolor": "white",
             "linecolor": "white",
             "minorgridcolor": "white",
             "startlinecolor": "#2a3f5f"
            },
            "type": "carpet"
           }
          ],
          "choropleth": [
           {
            "colorbar": {
             "outlinewidth": 0,
             "ticks": ""
            },
            "type": "choropleth"
           }
          ],
          "contour": [
           {
            "colorbar": {
             "outlinewidth": 0,
             "ticks": ""
            },
            "colorscale": [
             [
              0,
              "#0d0887"
             ],
             [
              0.1111111111111111,
              "#46039f"
             ],
             [
              0.2222222222222222,
              "#7201a8"
             ],
             [
              0.3333333333333333,
              "#9c179e"
             ],
             [
              0.4444444444444444,
              "#bd3786"
             ],
             [
              0.5555555555555556,
              "#d8576b"
             ],
             [
              0.6666666666666666,
              "#ed7953"
             ],
             [
              0.7777777777777778,
              "#fb9f3a"
             ],
             [
              0.8888888888888888,
              "#fdca26"
             ],
             [
              1,
              "#f0f921"
             ]
            ],
            "type": "contour"
           }
          ],
          "contourcarpet": [
           {
            "colorbar": {
             "outlinewidth": 0,
             "ticks": ""
            },
            "type": "contourcarpet"
           }
          ],
          "heatmap": [
           {
            "colorbar": {
             "outlinewidth": 0,
             "ticks": ""
            },
            "colorscale": [
             [
              0,
              "#0d0887"
             ],
             [
              0.1111111111111111,
              "#46039f"
             ],
             [
              0.2222222222222222,
              "#7201a8"
             ],
             [
              0.3333333333333333,
              "#9c179e"
             ],
             [
              0.4444444444444444,
              "#bd3786"
             ],
             [
              0.5555555555555556,
              "#d8576b"
             ],
             [
              0.6666666666666666,
              "#ed7953"
             ],
             [
              0.7777777777777778,
              "#fb9f3a"
             ],
             [
              0.8888888888888888,
              "#fdca26"
             ],
             [
              1,
              "#f0f921"
             ]
            ],
            "type": "heatmap"
           }
          ],
          "heatmapgl": [
           {
            "colorbar": {
             "outlinewidth": 0,
             "ticks": ""
            },
            "colorscale": [
             [
              0,
              "#0d0887"
             ],
             [
              0.1111111111111111,
              "#46039f"
             ],
             [
              0.2222222222222222,
              "#7201a8"
             ],
             [
              0.3333333333333333,
              "#9c179e"
             ],
             [
              0.4444444444444444,
              "#bd3786"
             ],
             [
              0.5555555555555556,
              "#d8576b"
             ],
             [
              0.6666666666666666,
              "#ed7953"
             ],
             [
              0.7777777777777778,
              "#fb9f3a"
             ],
             [
              0.8888888888888888,
              "#fdca26"
             ],
             [
              1,
              "#f0f921"
             ]
            ],
            "type": "heatmapgl"
           }
          ],
          "histogram": [
           {
            "marker": {
             "colorbar": {
              "outlinewidth": 0,
              "ticks": ""
             }
            },
            "type": "histogram"
           }
          ],
          "histogram2d": [
           {
            "colorbar": {
             "outlinewidth": 0,
             "ticks": ""
            },
            "colorscale": [
             [
              0,
              "#0d0887"
             ],
             [
              0.1111111111111111,
              "#46039f"
             ],
             [
              0.2222222222222222,
              "#7201a8"
             ],
             [
              0.3333333333333333,
              "#9c179e"
             ],
             [
              0.4444444444444444,
              "#bd3786"
             ],
             [
              0.5555555555555556,
              "#d8576b"
             ],
             [
              0.6666666666666666,
              "#ed7953"
             ],
             [
              0.7777777777777778,
              "#fb9f3a"
             ],
             [
              0.8888888888888888,
              "#fdca26"
             ],
             [
              1,
              "#f0f921"
             ]
            ],
            "type": "histogram2d"
           }
          ],
          "histogram2dcontour": [
           {
            "colorbar": {
             "outlinewidth": 0,
             "ticks": ""
            },
            "colorscale": [
             [
              0,
              "#0d0887"
             ],
             [
              0.1111111111111111,
              "#46039f"
             ],
             [
              0.2222222222222222,
              "#7201a8"
             ],
             [
              0.3333333333333333,
              "#9c179e"
             ],
             [
              0.4444444444444444,
              "#bd3786"
             ],
             [
              0.5555555555555556,
              "#d8576b"
             ],
             [
              0.6666666666666666,
              "#ed7953"
             ],
             [
              0.7777777777777778,
              "#fb9f3a"
             ],
             [
              0.8888888888888888,
              "#fdca26"
             ],
             [
              1,
              "#f0f921"
             ]
            ],
            "type": "histogram2dcontour"
           }
          ],
          "mesh3d": [
           {
            "colorbar": {
             "outlinewidth": 0,
             "ticks": ""
            },
            "type": "mesh3d"
           }
          ],
          "parcoords": [
           {
            "line": {
             "colorbar": {
              "outlinewidth": 0,
              "ticks": ""
             }
            },
            "type": "parcoords"
           }
          ],
          "pie": [
           {
            "automargin": true,
            "type": "pie"
           }
          ],
          "scatter": [
           {
            "marker": {
             "colorbar": {
              "outlinewidth": 0,
              "ticks": ""
             }
            },
            "type": "scatter"
           }
          ],
          "scatter3d": [
           {
            "line": {
             "colorbar": {
              "outlinewidth": 0,
              "ticks": ""
             }
            },
            "marker": {
             "colorbar": {
              "outlinewidth": 0,
              "ticks": ""
             }
            },
            "type": "scatter3d"
           }
          ],
          "scattercarpet": [
           {
            "marker": {
             "colorbar": {
              "outlinewidth": 0,
              "ticks": ""
             }
            },
            "type": "scattercarpet"
           }
          ],
          "scattergeo": [
           {
            "marker": {
             "colorbar": {
              "outlinewidth": 0,
              "ticks": ""
             }
            },
            "type": "scattergeo"
           }
          ],
          "scattergl": [
           {
            "marker": {
             "colorbar": {
              "outlinewidth": 0,
              "ticks": ""
             }
            },
            "type": "scattergl"
           }
          ],
          "scattermapbox": [
           {
            "marker": {
             "colorbar": {
              "outlinewidth": 0,
              "ticks": ""
             }
            },
            "type": "scattermapbox"
           }
          ],
          "scatterpolar": [
           {
            "marker": {
             "colorbar": {
              "outlinewidth": 0,
              "ticks": ""
             }
            },
            "type": "scatterpolar"
           }
          ],
          "scatterpolargl": [
           {
            "marker": {
             "colorbar": {
              "outlinewidth": 0,
              "ticks": ""
             }
            },
            "type": "scatterpolargl"
           }
          ],
          "scatterternary": [
           {
            "marker": {
             "colorbar": {
              "outlinewidth": 0,
              "ticks": ""
             }
            },
            "type": "scatterternary"
           }
          ],
          "surface": [
           {
            "colorbar": {
             "outlinewidth": 0,
             "ticks": ""
            },
            "colorscale": [
             [
              0,
              "#0d0887"
             ],
             [
              0.1111111111111111,
              "#46039f"
             ],
             [
              0.2222222222222222,
              "#7201a8"
             ],
             [
              0.3333333333333333,
              "#9c179e"
             ],
             [
              0.4444444444444444,
              "#bd3786"
             ],
             [
              0.5555555555555556,
              "#d8576b"
             ],
             [
              0.6666666666666666,
              "#ed7953"
             ],
             [
              0.7777777777777778,
              "#fb9f3a"
             ],
             [
              0.8888888888888888,
              "#fdca26"
             ],
             [
              1,
              "#f0f921"
             ]
            ],
            "type": "surface"
           }
          ],
          "table": [
           {
            "cells": {
             "fill": {
              "color": "#EBF0F8"
             },
             "line": {
              "color": "white"
             }
            },
            "header": {
             "fill": {
              "color": "#C8D4E3"
             },
             "line": {
              "color": "white"
             }
            },
            "type": "table"
           }
          ]
         },
         "layout": {
          "annotationdefaults": {
           "arrowcolor": "#2a3f5f",
           "arrowhead": 0,
           "arrowwidth": 1
          },
          "coloraxis": {
           "colorbar": {
            "outlinewidth": 0,
            "ticks": ""
           }
          },
          "colorscale": {
           "diverging": [
            [
             0,
             "#8e0152"
            ],
            [
             0.1,
             "#c51b7d"
            ],
            [
             0.2,
             "#de77ae"
            ],
            [
             0.3,
             "#f1b6da"
            ],
            [
             0.4,
             "#fde0ef"
            ],
            [
             0.5,
             "#f7f7f7"
            ],
            [
             0.6,
             "#e6f5d0"
            ],
            [
             0.7,
             "#b8e186"
            ],
            [
             0.8,
             "#7fbc41"
            ],
            [
             0.9,
             "#4d9221"
            ],
            [
             1,
             "#276419"
            ]
           ],
           "sequential": [
            [
             0,
             "#0d0887"
            ],
            [
             0.1111111111111111,
             "#46039f"
            ],
            [
             0.2222222222222222,
             "#7201a8"
            ],
            [
             0.3333333333333333,
             "#9c179e"
            ],
            [
             0.4444444444444444,
             "#bd3786"
            ],
            [
             0.5555555555555556,
             "#d8576b"
            ],
            [
             0.6666666666666666,
             "#ed7953"
            ],
            [
             0.7777777777777778,
             "#fb9f3a"
            ],
            [
             0.8888888888888888,
             "#fdca26"
            ],
            [
             1,
             "#f0f921"
            ]
           ],
           "sequentialminus": [
            [
             0,
             "#0d0887"
            ],
            [
             0.1111111111111111,
             "#46039f"
            ],
            [
             0.2222222222222222,
             "#7201a8"
            ],
            [
             0.3333333333333333,
             "#9c179e"
            ],
            [
             0.4444444444444444,
             "#bd3786"
            ],
            [
             0.5555555555555556,
             "#d8576b"
            ],
            [
             0.6666666666666666,
             "#ed7953"
            ],
            [
             0.7777777777777778,
             "#fb9f3a"
            ],
            [
             0.8888888888888888,
             "#fdca26"
            ],
            [
             1,
             "#f0f921"
            ]
           ]
          },
          "colorway": [
           "#636efa",
           "#EF553B",
           "#00cc96",
           "#ab63fa",
           "#FFA15A",
           "#19d3f3",
           "#FF6692",
           "#B6E880",
           "#FF97FF",
           "#FECB52"
          ],
          "font": {
           "color": "#2a3f5f"
          },
          "geo": {
           "bgcolor": "white",
           "lakecolor": "white",
           "landcolor": "#E5ECF6",
           "showlakes": true,
           "showland": true,
           "subunitcolor": "white"
          },
          "hoverlabel": {
           "align": "left"
          },
          "hovermode": "closest",
          "mapbox": {
           "style": "light"
          },
          "paper_bgcolor": "white",
          "plot_bgcolor": "#E5ECF6",
          "polar": {
           "angularaxis": {
            "gridcolor": "white",
            "linecolor": "white",
            "ticks": ""
           },
           "bgcolor": "#E5ECF6",
           "radialaxis": {
            "gridcolor": "white",
            "linecolor": "white",
            "ticks": ""
           }
          },
          "scene": {
           "xaxis": {
            "backgroundcolor": "#E5ECF6",
            "gridcolor": "white",
            "gridwidth": 2,
            "linecolor": "white",
            "showbackground": true,
            "ticks": "",
            "zerolinecolor": "white"
           },
           "yaxis": {
            "backgroundcolor": "#E5ECF6",
            "gridcolor": "white",
            "gridwidth": 2,
            "linecolor": "white",
            "showbackground": true,
            "ticks": "",
            "zerolinecolor": "white"
           },
           "zaxis": {
            "backgroundcolor": "#E5ECF6",
            "gridcolor": "white",
            "gridwidth": 2,
            "linecolor": "white",
            "showbackground": true,
            "ticks": "",
            "zerolinecolor": "white"
           }
          },
          "shapedefaults": {
           "line": {
            "color": "#2a3f5f"
           }
          },
          "ternary": {
           "aaxis": {
            "gridcolor": "white",
            "linecolor": "white",
            "ticks": ""
           },
           "baxis": {
            "gridcolor": "white",
            "linecolor": "white",
            "ticks": ""
           },
           "bgcolor": "#E5ECF6",
           "caxis": {
            "gridcolor": "white",
            "linecolor": "white",
            "ticks": ""
           }
          },
          "title": {
           "x": 0.05
          },
          "xaxis": {
           "automargin": true,
           "gridcolor": "white",
           "linecolor": "white",
           "ticks": "",
           "title": {
            "standoff": 15
           },
           "zerolinecolor": "white",
           "zerolinewidth": 2
          },
          "yaxis": {
           "automargin": true,
           "gridcolor": "white",
           "linecolor": "white",
           "ticks": "",
           "title": {
            "standoff": 15
           },
           "zerolinecolor": "white",
           "zerolinewidth": 2
          }
         }
        },
        "xaxis": {
         "anchor": "y",
         "domain": [
          0,
          1
         ],
         "title": {
          "text": "alphas"
         },
         "type": "log"
        },
        "yaxis": {
         "anchor": "x",
         "domain": [
          0,
          1
         ],
         "title": {
          "text": "value"
         }
        }
       }
      }
     },
     "metadata": {}
    }
   ],
   "source": [
    "result2 = pd.DataFrame(coefs, columns=features)\n",
    "result2['alphas'] = alphas\n",
    "fig = px.line(result2, x='alphas', y=features)\n",
    "fig.update_xaxes(type='log')\n",
    "fig"
   ]
  },
  {
   "cell_type": "code",
   "execution_count": 30,
   "metadata": {},
   "outputs": [],
   "source": [
    "model = Ridge(alpha=35)\n",
    "model = model.fit(train_X, train_y)"
   ]
  },
  {
   "cell_type": "code",
   "execution_count": 31,
   "metadata": {},
   "outputs": [
    {
     "output_type": "stream",
     "name": "stdout",
     "text": [
      "Train score\n0.3629195718249144\nTest score\n0.3345627367934566\n"
     ]
    }
   ],
   "source": [
    "model_performance(model, train_X, train_y, test_X, test_y)"
   ]
  },
  {
   "cell_type": "code",
   "execution_count": 32,
   "metadata": {},
   "outputs": [
    {
     "output_type": "execute_result",
     "data": {
      "text/plain": [
       "array([ 0.0281945 , -0.21888833, -0.03809325,  0.02889793, -0.09426588,\n",
       "        0.01355239, -0.09591199, -0.02975151, -0.06572869,  0.16910492,\n",
       "        0.2743043 ])"
      ]
     },
     "metadata": {},
     "execution_count": 32
    }
   ],
   "source": [
    "model.coef_"
   ]
  },
  {
   "source": [
    "## Polynomicka Ridge"
   ],
   "cell_type": "markdown",
   "metadata": {}
  },
  {
   "cell_type": "code",
   "execution_count": 33,
   "metadata": {},
   "outputs": [
    {
     "output_type": "execute_result",
     "data": {
      "text/plain": [
       "(1279, 33)"
      ]
     },
     "metadata": {},
     "execution_count": 33
    }
   ],
   "source": [
    "train_X = polynomial_features(train_X, 3)\n",
    "test_X = polynomial_features(test_X, 3)\n",
    "train_X.shape"
   ]
  },
  {
   "cell_type": "code",
   "execution_count": 34,
   "metadata": {},
   "outputs": [],
   "source": [
    "features = train_X.columns"
   ]
  },
  {
   "cell_type": "code",
   "execution_count": 35,
   "metadata": {},
   "outputs": [
    {
     "output_type": "display_data",
     "data": {
      "application/vnd.plotly.v1+json": {
       "config": {
        "plotlyServerURL": "https://plot.ly"
       },
       "data": [
        {
         "hovertemplate": "alpha=%{x}<br>R^2 (mean)=%{y}<extra></extra>",
         "legendgroup": "",
         "line": {
          "color": "#636efa",
          "dash": "solid"
         },
         "mode": "lines",
         "name": "",
         "orientation": "v",
         "showlegend": false,
         "type": "scatter",
         "x": [
          0.01,
          0.012263306841775632,
          0.015038869469554102,
          0.018442627085855347,
          0.022616759492228647,
          0.02773562614198415,
          0.03401304938279251,
          0.04171124612056518,
          0.051151780992931425,
          0.06272899858196247,
          0.07692649574879142,
          0.09433732216299774,
          0.1156887528316282,
          0.1418726674116596,
          0.1739828052930364,
          0.21336045265014109,
          0.2616504698748821,
          0.320869999737045,
          0.39349272630958493,
          0.48255220427412787,
          0.5917685748188825,
          0.7257039612324212,
          0.8899530352885229,
          1.0913767146512738,
          1.3383887531737564,
          1.6413071953751284,
          2.0127853758499383,
          2.4683404670686486,
          3.0270016537634614,
          3.7121050090663608,
          4.55226827550731,
          5.582586268862695,
          6.846096838574658,
          8.395578619995112,
          10.295755673125127,
          12.626001098748565,
          15.48365256585499,
          18.988078244652634,
          23.285662984981965,
          28.55592301990109,
          35.019004614317126,
          42.944879887892725,
          52.66462393484275,
          64.58424430196978,
          79.20164050192548,
          97.12740198471168,
          119.11031332830079,
          146.06863203649888,
          179.1284454622002,
          219.67070907932353,
          269.388930959017,
          330.35991201283395,
          405.1304969235378,
          496.8239594734388,
          609.2704661368674,
          747.1670675868082,
          916.2739011886731,
          1123.6548001387516,
          1377.9723598335568,
          1689.8497868124587,
          2072.3146452190294,
          2541.343036702639,
          3116.52694492943,
          3821.8926206331225,
          4686.904192314192,
          5747.694424835347,
          7048.574036451903,
          8643.882620598262,
          10600.258488068825,
          12999.42224413245,
          15941.590374559995,
          19549.661430912594,
          23974.349678010785,
          29400.480643347077,
          36054.71154250506,
          44214.99907374487,
          54222.21006501592,
          66494.35996665046,
          81544.07395185171,
          100000
         ],
         "xaxis": "x",
         "y": [
          -1.945434378235504,
          -1.9451412821750675,
          -1.944781949133579,
          -1.9443414378023487,
          -1.9438014504166539,
          -1.9431395857525242,
          -1.9423284293990046,
          -1.9413344476453642,
          -1.9401166452703147,
          -1.938624940877513,
          -1.9367982064029694,
          -1.9345619105055458,
          -1.9318252995272096,
          -1.9284780459248743,
          -1.9243862946368793,
          -1.9193880459853516,
          -1.9132878342323452,
          -1.9058507006788326,
          -1.8967955287545397,
          -1.885787918489972,
          -1.872432944666489,
          -1.8562683841845307,
          -1.8367593294730955,
          -1.8132955328493694,
          -1.7851933365431687,
          -1.7517045778510982,
          -1.7120352952625975,
          -1.6653771877699644,
          -1.6109542968713182,
          -1.5480859560718692,
          -1.4762644552042308,
          -1.3952421820287317,
          -1.3051188439464294,
          -1.2064159132508339,
          -1.1001240972122737,
          -0.9877114003942451,
          -0.8710841257905294,
          -0.7524996867831878,
          -0.6344366839905101,
          -0.5194333038163979,
          -0.40990972335061615,
          -0.3079940906810843,
          -0.21537399804855495,
          -0.13319416149556434,
          -0.06201452389416653,
          -0.0018317929067678484,
          0.047845004080055896,
          0.08788340298404737,
          0.11940198461632794,
          0.14364831507407003,
          0.16189175828953212,
          0.17533624280811427,
          0.1850537729777028,
          0.19193747079814455,
          0.19667253270446786,
          0.1997239230240636,
          0.201340409160564,
          0.20157531092411224,
          0.20032461461098877,
          0.19738226401294504,
          0.19250995041398808,
          0.18551459683469557,
          0.17632198507827337,
          0.16503169744269156,
          0.15193921198326152,
          0.13751703886190805,
          0.12235723412674257,
          0.10708887829993918,
          0.09229147654977146,
          0.0784254520591311,
          0.06579395586387489,
          0.054539348569384714,
          0.04466758583484907,
          0.03608799425340357,
          0.02865558925467242,
          0.022206692848306474,
          0.016583576857054094,
          0.011648039098923868,
          0.007286259424383834,
          0.003408066837731116
         ],
         "yaxis": "y"
        }
       ],
       "layout": {
        "legend": {
         "tracegroupgap": 0
        },
        "margin": {
         "t": 60
        },
        "template": {
         "data": {
          "bar": [
           {
            "error_x": {
             "color": "#2a3f5f"
            },
            "error_y": {
             "color": "#2a3f5f"
            },
            "marker": {
             "line": {
              "color": "#E5ECF6",
              "width": 0.5
             }
            },
            "type": "bar"
           }
          ],
          "barpolar": [
           {
            "marker": {
             "line": {
              "color": "#E5ECF6",
              "width": 0.5
             }
            },
            "type": "barpolar"
           }
          ],
          "carpet": [
           {
            "aaxis": {
             "endlinecolor": "#2a3f5f",
             "gridcolor": "white",
             "linecolor": "white",
             "minorgridcolor": "white",
             "startlinecolor": "#2a3f5f"
            },
            "baxis": {
             "endlinecolor": "#2a3f5f",
             "gridcolor": "white",
             "linecolor": "white",
             "minorgridcolor": "white",
             "startlinecolor": "#2a3f5f"
            },
            "type": "carpet"
           }
          ],
          "choropleth": [
           {
            "colorbar": {
             "outlinewidth": 0,
             "ticks": ""
            },
            "type": "choropleth"
           }
          ],
          "contour": [
           {
            "colorbar": {
             "outlinewidth": 0,
             "ticks": ""
            },
            "colorscale": [
             [
              0,
              "#0d0887"
             ],
             [
              0.1111111111111111,
              "#46039f"
             ],
             [
              0.2222222222222222,
              "#7201a8"
             ],
             [
              0.3333333333333333,
              "#9c179e"
             ],
             [
              0.4444444444444444,
              "#bd3786"
             ],
             [
              0.5555555555555556,
              "#d8576b"
             ],
             [
              0.6666666666666666,
              "#ed7953"
             ],
             [
              0.7777777777777778,
              "#fb9f3a"
             ],
             [
              0.8888888888888888,
              "#fdca26"
             ],
             [
              1,
              "#f0f921"
             ]
            ],
            "type": "contour"
           }
          ],
          "contourcarpet": [
           {
            "colorbar": {
             "outlinewidth": 0,
             "ticks": ""
            },
            "type": "contourcarpet"
           }
          ],
          "heatmap": [
           {
            "colorbar": {
             "outlinewidth": 0,
             "ticks": ""
            },
            "colorscale": [
             [
              0,
              "#0d0887"
             ],
             [
              0.1111111111111111,
              "#46039f"
             ],
             [
              0.2222222222222222,
              "#7201a8"
             ],
             [
              0.3333333333333333,
              "#9c179e"
             ],
             [
              0.4444444444444444,
              "#bd3786"
             ],
             [
              0.5555555555555556,
              "#d8576b"
             ],
             [
              0.6666666666666666,
              "#ed7953"
             ],
             [
              0.7777777777777778,
              "#fb9f3a"
             ],
             [
              0.8888888888888888,
              "#fdca26"
             ],
             [
              1,
              "#f0f921"
             ]
            ],
            "type": "heatmap"
           }
          ],
          "heatmapgl": [
           {
            "colorbar": {
             "outlinewidth": 0,
             "ticks": ""
            },
            "colorscale": [
             [
              0,
              "#0d0887"
             ],
             [
              0.1111111111111111,
              "#46039f"
             ],
             [
              0.2222222222222222,
              "#7201a8"
             ],
             [
              0.3333333333333333,
              "#9c179e"
             ],
             [
              0.4444444444444444,
              "#bd3786"
             ],
             [
              0.5555555555555556,
              "#d8576b"
             ],
             [
              0.6666666666666666,
              "#ed7953"
             ],
             [
              0.7777777777777778,
              "#fb9f3a"
             ],
             [
              0.8888888888888888,
              "#fdca26"
             ],
             [
              1,
              "#f0f921"
             ]
            ],
            "type": "heatmapgl"
           }
          ],
          "histogram": [
           {
            "marker": {
             "colorbar": {
              "outlinewidth": 0,
              "ticks": ""
             }
            },
            "type": "histogram"
           }
          ],
          "histogram2d": [
           {
            "colorbar": {
             "outlinewidth": 0,
             "ticks": ""
            },
            "colorscale": [
             [
              0,
              "#0d0887"
             ],
             [
              0.1111111111111111,
              "#46039f"
             ],
             [
              0.2222222222222222,
              "#7201a8"
             ],
             [
              0.3333333333333333,
              "#9c179e"
             ],
             [
              0.4444444444444444,
              "#bd3786"
             ],
             [
              0.5555555555555556,
              "#d8576b"
             ],
             [
              0.6666666666666666,
              "#ed7953"
             ],
             [
              0.7777777777777778,
              "#fb9f3a"
             ],
             [
              0.8888888888888888,
              "#fdca26"
             ],
             [
              1,
              "#f0f921"
             ]
            ],
            "type": "histogram2d"
           }
          ],
          "histogram2dcontour": [
           {
            "colorbar": {
             "outlinewidth": 0,
             "ticks": ""
            },
            "colorscale": [
             [
              0,
              "#0d0887"
             ],
             [
              0.1111111111111111,
              "#46039f"
             ],
             [
              0.2222222222222222,
              "#7201a8"
             ],
             [
              0.3333333333333333,
              "#9c179e"
             ],
             [
              0.4444444444444444,
              "#bd3786"
             ],
             [
              0.5555555555555556,
              "#d8576b"
             ],
             [
              0.6666666666666666,
              "#ed7953"
             ],
             [
              0.7777777777777778,
              "#fb9f3a"
             ],
             [
              0.8888888888888888,
              "#fdca26"
             ],
             [
              1,
              "#f0f921"
             ]
            ],
            "type": "histogram2dcontour"
           }
          ],
          "mesh3d": [
           {
            "colorbar": {
             "outlinewidth": 0,
             "ticks": ""
            },
            "type": "mesh3d"
           }
          ],
          "parcoords": [
           {
            "line": {
             "colorbar": {
              "outlinewidth": 0,
              "ticks": ""
             }
            },
            "type": "parcoords"
           }
          ],
          "pie": [
           {
            "automargin": true,
            "type": "pie"
           }
          ],
          "scatter": [
           {
            "marker": {
             "colorbar": {
              "outlinewidth": 0,
              "ticks": ""
             }
            },
            "type": "scatter"
           }
          ],
          "scatter3d": [
           {
            "line": {
             "colorbar": {
              "outlinewidth": 0,
              "ticks": ""
             }
            },
            "marker": {
             "colorbar": {
              "outlinewidth": 0,
              "ticks": ""
             }
            },
            "type": "scatter3d"
           }
          ],
          "scattercarpet": [
           {
            "marker": {
             "colorbar": {
              "outlinewidth": 0,
              "ticks": ""
             }
            },
            "type": "scattercarpet"
           }
          ],
          "scattergeo": [
           {
            "marker": {
             "colorbar": {
              "outlinewidth": 0,
              "ticks": ""
             }
            },
            "type": "scattergeo"
           }
          ],
          "scattergl": [
           {
            "marker": {
             "colorbar": {
              "outlinewidth": 0,
              "ticks": ""
             }
            },
            "type": "scattergl"
           }
          ],
          "scattermapbox": [
           {
            "marker": {
             "colorbar": {
              "outlinewidth": 0,
              "ticks": ""
             }
            },
            "type": "scattermapbox"
           }
          ],
          "scatterpolar": [
           {
            "marker": {
             "colorbar": {
              "outlinewidth": 0,
              "ticks": ""
             }
            },
            "type": "scatterpolar"
           }
          ],
          "scatterpolargl": [
           {
            "marker": {
             "colorbar": {
              "outlinewidth": 0,
              "ticks": ""
             }
            },
            "type": "scatterpolargl"
           }
          ],
          "scatterternary": [
           {
            "marker": {
             "colorbar": {
              "outlinewidth": 0,
              "ticks": ""
             }
            },
            "type": "scatterternary"
           }
          ],
          "surface": [
           {
            "colorbar": {
             "outlinewidth": 0,
             "ticks": ""
            },
            "colorscale": [
             [
              0,
              "#0d0887"
             ],
             [
              0.1111111111111111,
              "#46039f"
             ],
             [
              0.2222222222222222,
              "#7201a8"
             ],
             [
              0.3333333333333333,
              "#9c179e"
             ],
             [
              0.4444444444444444,
              "#bd3786"
             ],
             [
              0.5555555555555556,
              "#d8576b"
             ],
             [
              0.6666666666666666,
              "#ed7953"
             ],
             [
              0.7777777777777778,
              "#fb9f3a"
             ],
             [
              0.8888888888888888,
              "#fdca26"
             ],
             [
              1,
              "#f0f921"
             ]
            ],
            "type": "surface"
           }
          ],
          "table": [
           {
            "cells": {
             "fill": {
              "color": "#EBF0F8"
             },
             "line": {
              "color": "white"
             }
            },
            "header": {
             "fill": {
              "color": "#C8D4E3"
             },
             "line": {
              "color": "white"
             }
            },
            "type": "table"
           }
          ]
         },
         "layout": {
          "annotationdefaults": {
           "arrowcolor": "#2a3f5f",
           "arrowhead": 0,
           "arrowwidth": 1
          },
          "coloraxis": {
           "colorbar": {
            "outlinewidth": 0,
            "ticks": ""
           }
          },
          "colorscale": {
           "diverging": [
            [
             0,
             "#8e0152"
            ],
            [
             0.1,
             "#c51b7d"
            ],
            [
             0.2,
             "#de77ae"
            ],
            [
             0.3,
             "#f1b6da"
            ],
            [
             0.4,
             "#fde0ef"
            ],
            [
             0.5,
             "#f7f7f7"
            ],
            [
             0.6,
             "#e6f5d0"
            ],
            [
             0.7,
             "#b8e186"
            ],
            [
             0.8,
             "#7fbc41"
            ],
            [
             0.9,
             "#4d9221"
            ],
            [
             1,
             "#276419"
            ]
           ],
           "sequential": [
            [
             0,
             "#0d0887"
            ],
            [
             0.1111111111111111,
             "#46039f"
            ],
            [
             0.2222222222222222,
             "#7201a8"
            ],
            [
             0.3333333333333333,
             "#9c179e"
            ],
            [
             0.4444444444444444,
             "#bd3786"
            ],
            [
             0.5555555555555556,
             "#d8576b"
            ],
            [
             0.6666666666666666,
             "#ed7953"
            ],
            [
             0.7777777777777778,
             "#fb9f3a"
            ],
            [
             0.8888888888888888,
             "#fdca26"
            ],
            [
             1,
             "#f0f921"
            ]
           ],
           "sequentialminus": [
            [
             0,
             "#0d0887"
            ],
            [
             0.1111111111111111,
             "#46039f"
            ],
            [
             0.2222222222222222,
             "#7201a8"
            ],
            [
             0.3333333333333333,
             "#9c179e"
            ],
            [
             0.4444444444444444,
             "#bd3786"
            ],
            [
             0.5555555555555556,
             "#d8576b"
            ],
            [
             0.6666666666666666,
             "#ed7953"
            ],
            [
             0.7777777777777778,
             "#fb9f3a"
            ],
            [
             0.8888888888888888,
             "#fdca26"
            ],
            [
             1,
             "#f0f921"
            ]
           ]
          },
          "colorway": [
           "#636efa",
           "#EF553B",
           "#00cc96",
           "#ab63fa",
           "#FFA15A",
           "#19d3f3",
           "#FF6692",
           "#B6E880",
           "#FF97FF",
           "#FECB52"
          ],
          "font": {
           "color": "#2a3f5f"
          },
          "geo": {
           "bgcolor": "white",
           "lakecolor": "white",
           "landcolor": "#E5ECF6",
           "showlakes": true,
           "showland": true,
           "subunitcolor": "white"
          },
          "hoverlabel": {
           "align": "left"
          },
          "hovermode": "closest",
          "mapbox": {
           "style": "light"
          },
          "paper_bgcolor": "white",
          "plot_bgcolor": "#E5ECF6",
          "polar": {
           "angularaxis": {
            "gridcolor": "white",
            "linecolor": "white",
            "ticks": ""
           },
           "bgcolor": "#E5ECF6",
           "radialaxis": {
            "gridcolor": "white",
            "linecolor": "white",
            "ticks": ""
           }
          },
          "scene": {
           "xaxis": {
            "backgroundcolor": "#E5ECF6",
            "gridcolor": "white",
            "gridwidth": 2,
            "linecolor": "white",
            "showbackground": true,
            "ticks": "",
            "zerolinecolor": "white"
           },
           "yaxis": {
            "backgroundcolor": "#E5ECF6",
            "gridcolor": "white",
            "gridwidth": 2,
            "linecolor": "white",
            "showbackground": true,
            "ticks": "",
            "zerolinecolor": "white"
           },
           "zaxis": {
            "backgroundcolor": "#E5ECF6",
            "gridcolor": "white",
            "gridwidth": 2,
            "linecolor": "white",
            "showbackground": true,
            "ticks": "",
            "zerolinecolor": "white"
           }
          },
          "shapedefaults": {
           "line": {
            "color": "#2a3f5f"
           }
          },
          "ternary": {
           "aaxis": {
            "gridcolor": "white",
            "linecolor": "white",
            "ticks": ""
           },
           "baxis": {
            "gridcolor": "white",
            "linecolor": "white",
            "ticks": ""
           },
           "bgcolor": "#E5ECF6",
           "caxis": {
            "gridcolor": "white",
            "linecolor": "white",
            "ticks": ""
           }
          },
          "title": {
           "x": 0.05
          },
          "xaxis": {
           "automargin": true,
           "gridcolor": "white",
           "linecolor": "white",
           "ticks": "",
           "title": {
            "standoff": 15
           },
           "zerolinecolor": "white",
           "zerolinewidth": 2
          },
          "yaxis": {
           "automargin": true,
           "gridcolor": "white",
           "linecolor": "white",
           "ticks": "",
           "title": {
            "standoff": 15
           },
           "zerolinecolor": "white",
           "zerolinewidth": 2
          }
         }
        },
        "xaxis": {
         "anchor": "y",
         "domain": [
          0,
          1
         ],
         "title": {
          "text": "alpha"
         },
         "type": "log"
        },
        "yaxis": {
         "anchor": "x",
         "domain": [
          0,
          1
         ],
         "title": {
          "text": "R^2 (mean)"
         }
        }
       }
      }
     },
     "metadata": {}
    }
   ],
   "source": [
    "scores = []\n",
    "for i in alphas:\n",
    "    scores.append(cross_val_score(Ridge(alpha=i), test_X, test_y).mean())\n",
    "\n",
    "result = pd.DataFrame(zip(alphas, scores), columns=['alpha', 'R^2 (mean)'])\n",
    "fig = px.line(result, x='alpha', y='R^2 (mean)')\n",
    "fig.update_xaxes(type='log')\n",
    "fig"
   ]
  },
  {
   "cell_type": "code",
   "execution_count": 36,
   "metadata": {},
   "outputs": [],
   "source": [
    "coefs = []\n",
    "for a in alphas:\n",
    "    ridge = Ridge(alpha=a)\n",
    "    ridge.fit(test_X, test_y)\n",
    "    coefs.append(ridge.coef_)"
   ]
  },
  {
   "cell_type": "code",
   "execution_count": 37,
   "metadata": {},
   "outputs": [
    {
     "output_type": "display_data",
     "data": {
      "application/vnd.plotly.v1+json": {
       "config": {
        "plotlyServerURL": "https://plot.ly"
       },
       "data": [
        {
         "hovertemplate": "variable=fixed acidity<br>alphas=%{x}<br>value=%{y}<extra></extra>",
         "legendgroup": "fixed acidity",
         "line": {
          "color": "#636efa",
          "dash": "solid"
         },
         "mode": "lines",
         "name": "fixed acidity",
         "showlegend": true,
         "type": "scattergl",
         "x": [
          0.01,
          0.012263306841775632,
          0.015038869469554102,
          0.018442627085855347,
          0.022616759492228647,
          0.02773562614198415,
          0.03401304938279251,
          0.04171124612056518,
          0.051151780992931425,
          0.06272899858196247,
          0.07692649574879142,
          0.09433732216299774,
          0.1156887528316282,
          0.1418726674116596,
          0.1739828052930364,
          0.21336045265014109,
          0.2616504698748821,
          0.320869999737045,
          0.39349272630958493,
          0.48255220427412787,
          0.5917685748188825,
          0.7257039612324212,
          0.8899530352885229,
          1.0913767146512738,
          1.3383887531737564,
          1.6413071953751284,
          2.0127853758499383,
          2.4683404670686486,
          3.0270016537634614,
          3.7121050090663608,
          4.55226827550731,
          5.582586268862695,
          6.846096838574658,
          8.395578619995112,
          10.295755673125127,
          12.626001098748565,
          15.48365256585499,
          18.988078244652634,
          23.285662984981965,
          28.55592301990109,
          35.019004614317126,
          42.944879887892725,
          52.66462393484275,
          64.58424430196978,
          79.20164050192548,
          97.12740198471168,
          119.11031332830079,
          146.06863203649888,
          179.1284454622002,
          219.67070907932353,
          269.388930959017,
          330.35991201283395,
          405.1304969235378,
          496.8239594734388,
          609.2704661368674,
          747.1670675868082,
          916.2739011886731,
          1123.6548001387516,
          1377.9723598335568,
          1689.8497868124587,
          2072.3146452190294,
          2541.343036702639,
          3116.52694492943,
          3821.8926206331225,
          4686.904192314192,
          5747.694424835347,
          7048.574036451903,
          8643.882620598262,
          10600.258488068825,
          12999.42224413245,
          15941.590374559995,
          19549.661430912594,
          23974.349678010785,
          29400.480643347077,
          36054.71154250506,
          44214.99907374487,
          54222.21006501592,
          66494.35996665046,
          81544.07395185171,
          100000
         ],
         "xaxis": "x",
         "y": [
          0.07306608520949359,
          0.07307107749880516,
          0.07307719454537523,
          0.07308468832757986,
          0.07309386655556016,
          0.07310510463547479,
          0.073118860018374,
          0.07313568931392014,
          0.07315626855769257,
          0.07318141699450222,
          0.07321212465458427,
          0.07324958381782519,
          0.07329522412913338,
          0.07335075056779422,
          0.07341818257585661,
          0.07349989126767749,
          0.07359862958257674,
          0.07371754727152607,
          0.0738601784694828,
          0.07403038406662718,
          0.07423222405499925,
          0.07446972671426934,
          0.07474651276206824,
          0.07506522534458585,
          0.07542671447465663,
          0.07582893272432854,
          0.07626552505126727,
          0.07672414768622055,
          0.0771846347081452,
          0.07761724411759763,
          0.07798134111800749,
          0.07822497875679778,
          0.07828586228728314,
          0.07809407991340825,
          0.07757672244809409,
          0.07666412735630859,
          0.07529706358823275,
          0.07343385667833491,
          0.07105635507769101,
          0.06817379857300283,
          0.06482400880790935,
          0.0610717528280009,
          0.05700450546848243,
          0.05272609181177592,
          0.048348846877663026,
          0.043985049569201795,
          0.039738507110433745,
          0.03569724567103956,
          0.0319282089391445,
          0.028474606295813804,
          0.025356105174381777,
          0.022571548140212755,
          0.02010345476726334,
          0.017923360235136937,
          0.015997074943047772,
          0.014289166637524537,
          0.012766271655350745,
          0.011399141811790607,
          0.010163564952172256,
          0.009040431985747707,
          0.008015261908848484,
          0.007077459495378419,
          0.006219500204300417,
          0.005436148464697951,
          0.004723747314311681,
          0.004079583636710865,
          0.0035013314076910687,
          0.0029865900726352545,
          0.00253254732958508,
          0.002135792153233932,
          0.001792283588470014,
          0.0014974529125620385,
          0.0012463941250547778,
          0.0010340892332548416,
          0.0008556214116308188,
          0.0007063452908971621,
          0.0005820017654352493,
          0.0004787790649754501,
          0.00039333012954413584,
          0.0003227590955458007
         ],
         "yaxis": "y"
        },
        {
         "hovertemplate": "variable=volatile acidity<br>alphas=%{x}<br>value=%{y}<extra></extra>",
         "legendgroup": "volatile acidity",
         "line": {
          "color": "#EF553B",
          "dash": "solid"
         },
         "mode": "lines",
         "name": "volatile acidity",
         "showlegend": true,
         "type": "scattergl",
         "x": [
          0.01,
          0.012263306841775632,
          0.015038869469554102,
          0.018442627085855347,
          0.022616759492228647,
          0.02773562614198415,
          0.03401304938279251,
          0.04171124612056518,
          0.051151780992931425,
          0.06272899858196247,
          0.07692649574879142,
          0.09433732216299774,
          0.1156887528316282,
          0.1418726674116596,
          0.1739828052930364,
          0.21336045265014109,
          0.2616504698748821,
          0.320869999737045,
          0.39349272630958493,
          0.48255220427412787,
          0.5917685748188825,
          0.7257039612324212,
          0.8899530352885229,
          1.0913767146512738,
          1.3383887531737564,
          1.6413071953751284,
          2.0127853758499383,
          2.4683404670686486,
          3.0270016537634614,
          3.7121050090663608,
          4.55226827550731,
          5.582586268862695,
          6.846096838574658,
          8.395578619995112,
          10.295755673125127,
          12.626001098748565,
          15.48365256585499,
          18.988078244652634,
          23.285662984981965,
          28.55592301990109,
          35.019004614317126,
          42.944879887892725,
          52.66462393484275,
          64.58424430196978,
          79.20164050192548,
          97.12740198471168,
          119.11031332830079,
          146.06863203649888,
          179.1284454622002,
          219.67070907932353,
          269.388930959017,
          330.35991201283395,
          405.1304969235378,
          496.8239594734388,
          609.2704661368674,
          747.1670675868082,
          916.2739011886731,
          1123.6548001387516,
          1377.9723598335568,
          1689.8497868124587,
          2072.3146452190294,
          2541.343036702639,
          3116.52694492943,
          3821.8926206331225,
          4686.904192314192,
          5747.694424835347,
          7048.574036451903,
          8643.882620598262,
          10600.258488068825,
          12999.42224413245,
          15941.590374559995,
          19549.661430912594,
          23974.349678010785,
          29400.480643347077,
          36054.71154250506,
          44214.99907374487,
          54222.21006501592,
          66494.35996665046,
          81544.07395185171,
          100000
         ],
         "xaxis": "x",
         "y": [
          0.0032838742051199076,
          0.00328034558706113,
          0.0032760191180158963,
          0.0032707146141114822,
          0.0032642113085619004,
          0.0032562387660089766,
          0.0032464657903294764,
          0.003234486896581102,
          0.003219805832925558,
          0.0032018155402622843,
          0.0031797738259175742,
          0.0031527739042206005,
          0.003119708824448463,
          0.003079228672293682,
          0.003029689306549467,
          0.0029690912979370644,
          0.002895007702546361,
          0.0028044993741441616,
          0.0026940167638911205,
          0.0025592876640735626,
          0.0023951912456415896,
          0.00219562016954334,
          0.001953334696762129,
          0.0016598157689252098,
          0.0013051281452697522,
          0.0008778099542455102,
          0.0003648113991570331,
          -0.0002484874206693895,
          -0.0009781421010182925,
          -0.0018413485462142648,
          -0.0028559371322326972,
          -0.00403960536774812,
          -0.005408842173281164,
          -0.006977509838197041,
          -0.008755075145834219,
          -0.010744522701624615,
          -0.012940042882681663,
          -0.015324661741177689,
          -0.017868063389999057,
          -0.02052493602222809,
          -0.023234238217298357,
          -0.02591981675980838,
          -0.028492785021600575,
          -0.03085595093641734,
          -0.03291031980785621,
          -0.034563274132968655,
          -0.03573751225190514,
          -0.036379370264354116,
          -0.03646497193898376,
          -0.03600290971834385,
          -0.03503284881612253,
          -0.03362035685949289,
          -0.03184907165870121,
          -0.02981175673627989,
          -0.027601763952026563,
          -0.025306026650543288,
          -0.02300015559983175,
          -0.020745704322744935,
          -0.0185893253553626,
          -0.0165633739817562,
          -0.014687489022856381,
          -0.01297073092735437,
          -0.01141393679527306,
          -0.01001203308539111,
          -0.008756120870411685,
          -0.0076352156534541665,
          -0.00663758476713141,
          -0.005751678520686246,
          -0.004966693117332734,
          -0.00427283127014645,
          -0.0036613401431582746,
          -0.003124407707095246,
          -0.0026549907031782876,
          -0.0022466328823135197,
          -0.001893313600491761,
          -0.0015893471301673915,
          -0.0013293354815228557,
          -0.0011081649332564715,
          -0.0009210301666501761,
          -0.0007634693356691234
         ],
         "yaxis": "y"
        },
        {
         "hovertemplate": "variable=citric acid<br>alphas=%{x}<br>value=%{y}<extra></extra>",
         "legendgroup": "citric acid",
         "line": {
          "color": "#00cc96",
          "dash": "solid"
         },
         "mode": "lines",
         "name": "citric acid",
         "showlegend": true,
         "type": "scattergl",
         "x": [
          0.01,
          0.012263306841775632,
          0.015038869469554102,
          0.018442627085855347,
          0.022616759492228647,
          0.02773562614198415,
          0.03401304938279251,
          0.04171124612056518,
          0.051151780992931425,
          0.06272899858196247,
          0.07692649574879142,
          0.09433732216299774,
          0.1156887528316282,
          0.1418726674116596,
          0.1739828052930364,
          0.21336045265014109,
          0.2616504698748821,
          0.320869999737045,
          0.39349272630958493,
          0.48255220427412787,
          0.5917685748188825,
          0.7257039612324212,
          0.8899530352885229,
          1.0913767146512738,
          1.3383887531737564,
          1.6413071953751284,
          2.0127853758499383,
          2.4683404670686486,
          3.0270016537634614,
          3.7121050090663608,
          4.55226827550731,
          5.582586268862695,
          6.846096838574658,
          8.395578619995112,
          10.295755673125127,
          12.626001098748565,
          15.48365256585499,
          18.988078244652634,
          23.285662984981965,
          28.55592301990109,
          35.019004614317126,
          42.944879887892725,
          52.66462393484275,
          64.58424430196978,
          79.20164050192548,
          97.12740198471168,
          119.11031332830079,
          146.06863203649888,
          179.1284454622002,
          219.67070907932353,
          269.388930959017,
          330.35991201283395,
          405.1304969235378,
          496.8239594734388,
          609.2704661368674,
          747.1670675868082,
          916.2739011886731,
          1123.6548001387516,
          1377.9723598335568,
          1689.8497868124587,
          2072.3146452190294,
          2541.343036702639,
          3116.52694492943,
          3821.8926206331225,
          4686.904192314192,
          5747.694424835347,
          7048.574036451903,
          8643.882620598262,
          10600.258488068825,
          12999.42224413245,
          15941.590374559995,
          19549.661430912594,
          23974.349678010785,
          29400.480643347077,
          36054.71154250506,
          44214.99907374487,
          54222.21006501592,
          66494.35996665046,
          81544.07395185171,
          100000
         ],
         "xaxis": "x",
         "y": [
          0.0650521446027337,
          0.06504776068940231,
          0.06504238724031813,
          0.06503580163938327,
          0.06502773156113745,
          0.06501784405797525,
          0.06500573234577295,
          0.06499089985009744,
          0.06497274101660484,
          0.06495051833658871,
          0.06492333500206937,
          0.06489010260038396,
          0.06484950331036682,
          0.06479994620735342,
          0.0647395175744434,
          0.06466592562502713,
          0.06457644086217322,
          0.06446783455354281,
          0.06433631962241985,
          0.06417750077699935,
          0.06398634399993998,
          0.06375717953592983,
          0.06348375690043047,
          0.06315937435313537,
          0.06277710716982042,
          0.06233015641921382,
          0.061812329449058435,
          0.06121864128770387,
          0.06054599033066792,
          0.059793813583572546,
          0.0589645751316178,
          0.05806390453192425,
          0.057100205226883104,
          0.056083621760498976,
          0.05502439764084689,
          0.0539308508611137,
          0.05280738258836885,
          0.05165303605503032,
          0.05046106994199915,
          0.04921978813899075,
          0.047914532498388646,
          0.04653041108091853,
          0.045055125061612064,
          0.04348124918941485,
          0.04180750755750611,
          0.040038887421933546,
          0.03818573593018517,
          0.036262195288792654,
          0.03428441148399392,
          0.032268913655963585,
          0.030231448100385975,
          0.02818640604135961,
          0.026146837557586747,
          0.024124914125170625,
          0.022132606825240472,
          0.020182306777342736,
          0.01828714464824328,
          0.016460865545728367,
          0.014717257546237868,
          0.013069270178712912,
          0.01152804561855263,
          0.010102092919616834,
          0.008796770395174213,
          0.007614137774009,
          0.006553141744820076,
          0.00561003765875414,
          0.0047789350437529065,
          0.004052373456025574,
          0.003421867698165344,
          0.0028783905876789044,
          0.002412779817453553,
          0.002016064266839989,
          0.0016797094420471482,
          0.0013957855860617385,
          0.001157066452377397,
          0.0009570706779297428,
          0.0007900597338593982,
          0.0006510061387381325,
          0.0005355435622107663,
          0.0004399076248700834
         ],
         "yaxis": "y"
        },
        {
         "hovertemplate": "variable=residual sugar<br>alphas=%{x}<br>value=%{y}<extra></extra>",
         "legendgroup": "residual sugar",
         "line": {
          "color": "#ab63fa",
          "dash": "solid"
         },
         "mode": "lines",
         "name": "residual sugar",
         "showlegend": true,
         "type": "scattergl",
         "x": [
          0.01,
          0.012263306841775632,
          0.015038869469554102,
          0.018442627085855347,
          0.022616759492228647,
          0.02773562614198415,
          0.03401304938279251,
          0.04171124612056518,
          0.051151780992931425,
          0.06272899858196247,
          0.07692649574879142,
          0.09433732216299774,
          0.1156887528316282,
          0.1418726674116596,
          0.1739828052930364,
          0.21336045265014109,
          0.2616504698748821,
          0.320869999737045,
          0.39349272630958493,
          0.48255220427412787,
          0.5917685748188825,
          0.7257039612324212,
          0.8899530352885229,
          1.0913767146512738,
          1.3383887531737564,
          1.6413071953751284,
          2.0127853758499383,
          2.4683404670686486,
          3.0270016537634614,
          3.7121050090663608,
          4.55226827550731,
          5.582586268862695,
          6.846096838574658,
          8.395578619995112,
          10.295755673125127,
          12.626001098748565,
          15.48365256585499,
          18.988078244652634,
          23.285662984981965,
          28.55592301990109,
          35.019004614317126,
          42.944879887892725,
          52.66462393484275,
          64.58424430196978,
          79.20164050192548,
          97.12740198471168,
          119.11031332830079,
          146.06863203649888,
          179.1284454622002,
          219.67070907932353,
          269.388930959017,
          330.35991201283395,
          405.1304969235378,
          496.8239594734388,
          609.2704661368674,
          747.1670675868082,
          916.2739011886731,
          1123.6548001387516,
          1377.9723598335568,
          1689.8497868124587,
          2072.3146452190294,
          2541.343036702639,
          3116.52694492943,
          3821.8926206331225,
          4686.904192314192,
          5747.694424835347,
          7048.574036451903,
          8643.882620598262,
          10600.258488068825,
          12999.42224413245,
          15941.590374559995,
          19549.661430912594,
          23974.349678010785,
          29400.480643347077,
          36054.71154250506,
          44214.99907374487,
          54222.21006501592,
          66494.35996665046,
          81544.07395185171,
          100000
         ],
         "xaxis": "x",
         "y": [
          0.0036541744623934313,
          0.0036575194866474907,
          0.003661619031142498,
          0.003666642579604325,
          0.003672797329249553,
          0.003680336403350511,
          0.003689568761766673,
          0.003700871114228818,
          0.0037147021716788385,
          0.0037316195897461216,
          0.003752299955050575,
          0.0037775621222316514,
          0.0038083941025956,
          0.00384598349689968,
          0.0038917511031184245,
          0.003947386743677842,
          0.004014885451448525,
          0.004096580814256274,
          0.004195170373233729,
          0.00431372537838875,
          0.004455673858559382,
          0.004624741938864317,
          0.0048248339970327235,
          0.005059828436559847,
          0.005333264133853122,
          0.005647895454270881,
          0.00600510443645708,
          0.00640418086266229,
          0.006841516755374147,
          0.007309809877850817,
          0.007797422776847629,
          0.0082880828650959,
          0.008761111540811089,
          0.009192314801742167,
          0.009555548392433638,
          0.009824809880689919,
          0.009976560226702857,
          0.009991901272503248,
          0.009858273844449537,
          0.009570483875991154,
          0.009131048400291587,
          0.008549994949852776,
          0.007844287864249452,
          0.007036992998193985,
          0.0061561842948606015,
          0.005233518540653362,
          0.004302412219176267,
          0.003395851172898412,
          0.002544007380343764,
          0.0017719633337262785,
          0.0010978979213169759,
          0.0005320431034562175,
          0.00007658795284308121,
          -0.000273476699551526,
          -0.0005287622447149061,
          -0.0007034556181937404,
          -0.000813229687078339,
          -0.0008734155799674073,
          -0.0008976531426259756,
          -0.0008971027594384147,
          -0.000880184921448806,
          -0.000852737197066597,
          -0.000818445649746599,
          -0.0007794094343315648,
          -0.0007367193644728298,
          -0.0006909625372093096,
          -0.0006425991630809799,
          -0.0005921910659938868,
          -0.0005404908291482004,
          -0.0004884226734881117,
          -0.00043699771328201283,
          -0.0003872063202826365,
          -0.00033992114393663906,
          -0.00029583040327070846,
          -0.0002554073055153512,
          -0.00021891135092705658,
          -0.00018641211514101055,
          -0.00015782520951284097,
          -0.00013295188465956145,
          -0.00011151650727758026
         ],
         "yaxis": "y"
        },
        {
         "hovertemplate": "variable=chlorides<br>alphas=%{x}<br>value=%{y}<extra></extra>",
         "legendgroup": "chlorides",
         "line": {
          "color": "#FFA15A",
          "dash": "solid"
         },
         "mode": "lines",
         "name": "chlorides",
         "showlegend": true,
         "type": "scattergl",
         "x": [
          0.01,
          0.012263306841775632,
          0.015038869469554102,
          0.018442627085855347,
          0.022616759492228647,
          0.02773562614198415,
          0.03401304938279251,
          0.04171124612056518,
          0.051151780992931425,
          0.06272899858196247,
          0.07692649574879142,
          0.09433732216299774,
          0.1156887528316282,
          0.1418726674116596,
          0.1739828052930364,
          0.21336045265014109,
          0.2616504698748821,
          0.320869999737045,
          0.39349272630958493,
          0.48255220427412787,
          0.5917685748188825,
          0.7257039612324212,
          0.8899530352885229,
          1.0913767146512738,
          1.3383887531737564,
          1.6413071953751284,
          2.0127853758499383,
          2.4683404670686486,
          3.0270016537634614,
          3.7121050090663608,
          4.55226827550731,
          5.582586268862695,
          6.846096838574658,
          8.395578619995112,
          10.295755673125127,
          12.626001098748565,
          15.48365256585499,
          18.988078244652634,
          23.285662984981965,
          28.55592301990109,
          35.019004614317126,
          42.944879887892725,
          52.66462393484275,
          64.58424430196978,
          79.20164050192548,
          97.12740198471168,
          119.11031332830079,
          146.06863203649888,
          179.1284454622002,
          219.67070907932353,
          269.388930959017,
          330.35991201283395,
          405.1304969235378,
          496.8239594734388,
          609.2704661368674,
          747.1670675868082,
          916.2739011886731,
          1123.6548001387516,
          1377.9723598335568,
          1689.8497868124587,
          2072.3146452190294,
          2541.343036702639,
          3116.52694492943,
          3821.8926206331225,
          4686.904192314192,
          5747.694424835347,
          7048.574036451903,
          8643.882620598262,
          10600.258488068825,
          12999.42224413245,
          15941.590374559995,
          19549.661430912594,
          23974.349678010785,
          29400.480643347077,
          36054.71154250506,
          44214.99907374487,
          54222.21006501592,
          66494.35996665046,
          81544.07395185171,
          100000
         ],
         "xaxis": "x",
         "y": [
          -0.25885192675016144,
          -0.25883212760362856,
          -0.25880785197974376,
          -0.25877808906834826,
          -0.25874160046586303,
          -0.2586968692585363,
          -0.2586420378798464,
          -0.25857483234987005,
          -0.25849247003747494,
          -0.2583915475487478,
          -0.258267904740556,
          -0.25811646019612045,
          -0.25793101280429565,
          -0.2577040034036719,
          -0.25742622986654,
          -0.257086508639317,
          -0.25667127583061056,
          -0.2561641217544622,
          -0.2555452548464947,
          -0.2547908947046434,
          -0.25387260052145416,
          -0.252756551471929,
          -0.2514028110280348,
          -0.24976462913648168,
          -0.2477878660212586,
          -0.2454106596997243,
          -0.2425635052527559,
          -0.23916996377206953,
          -0.23514826450822832,
          -0.23041409044894984,
          -0.22488482296517956,
          -0.2184854355304731,
          -0.2111560372741904,
          -0.20286075029515627,
          -0.19359716506247288,
          -0.18340511570520282,
          -0.1723730862863885,
          -0.16064040037833863,
          -0.148393662807946,
          -0.13585680859048346,
          -0.12327544304147266,
          -0.11089755728052247,
          -0.0989536833421993,
          -0.08763973463351274,
          -0.07710509527877496,
          -0.06744725102705101,
          -0.05871284959816463,
          -0.05090394711967521,
          -0.043987554841955954,
          -0.0379064620920151,
          -0.03258957151823047,
          -0.027960493719347054,
          -0.023943761939568743,
          -0.020468607590077615,
          -0.017470674345527133,
          -0.01489228135520522,
          -0.012681876364073068,
          -0.010793202738339489,
          -0.00918452015642432,
          -0.007818037865813737,
          -0.006659584175067793,
          -0.005678458086462466,
          -0.004847380015853311,
          -0.00414246173552705,
          -0.0035431352886661337,
          -0.0030320056314708955,
          -0.002594615841862931,
          -0.0022191337331193294,
          -0.0018959830952959712,
          -0.0016174508026981678,
          -0.0013773025246306542,
          -0.0011704353985724136,
          -0.0009925873329427015,
          -0.0008401119088241893,
          -0.0007098176610657086,
          -0.0005988628626291659,
          -0.0005046928149204071,
          -0.00042500593129964954,
          -0.00035773664181868353,
          -0.00030104610130892866
         ],
         "yaxis": "y"
        },
        {
         "hovertemplate": "variable=free sulfur dioxide<br>alphas=%{x}<br>value=%{y}<extra></extra>",
         "legendgroup": "free sulfur dioxide",
         "line": {
          "color": "#19d3f3",
          "dash": "solid"
         },
         "mode": "lines",
         "name": "free sulfur dioxide",
         "showlegend": true,
         "type": "scattergl",
         "x": [
          0.01,
          0.012263306841775632,
          0.015038869469554102,
          0.018442627085855347,
          0.022616759492228647,
          0.02773562614198415,
          0.03401304938279251,
          0.04171124612056518,
          0.051151780992931425,
          0.06272899858196247,
          0.07692649574879142,
          0.09433732216299774,
          0.1156887528316282,
          0.1418726674116596,
          0.1739828052930364,
          0.21336045265014109,
          0.2616504698748821,
          0.320869999737045,
          0.39349272630958493,
          0.48255220427412787,
          0.5917685748188825,
          0.7257039612324212,
          0.8899530352885229,
          1.0913767146512738,
          1.3383887531737564,
          1.6413071953751284,
          2.0127853758499383,
          2.4683404670686486,
          3.0270016537634614,
          3.7121050090663608,
          4.55226827550731,
          5.582586268862695,
          6.846096838574658,
          8.395578619995112,
          10.295755673125127,
          12.626001098748565,
          15.48365256585499,
          18.988078244652634,
          23.285662984981965,
          28.55592301990109,
          35.019004614317126,
          42.944879887892725,
          52.66462393484275,
          64.58424430196978,
          79.20164050192548,
          97.12740198471168,
          119.11031332830079,
          146.06863203649888,
          179.1284454622002,
          219.67070907932353,
          269.388930959017,
          330.35991201283395,
          405.1304969235378,
          496.8239594734388,
          609.2704661368674,
          747.1670675868082,
          916.2739011886731,
          1123.6548001387516,
          1377.9723598335568,
          1689.8497868124587,
          2072.3146452190294,
          2541.343036702639,
          3116.52694492943,
          3821.8926206331225,
          4686.904192314192,
          5747.694424835347,
          7048.574036451903,
          8643.882620598262,
          10600.258488068825,
          12999.42224413245,
          15941.590374559995,
          19549.661430912594,
          23974.349678010785,
          29400.480643347077,
          36054.71154250506,
          44214.99907374487,
          54222.21006501592,
          66494.35996665046,
          81544.07395185171,
          100000
         ],
         "xaxis": "x",
         "y": [
          0.13247841452249318,
          0.1324738676697201,
          0.1324682929098488,
          0.1324614581921819,
          0.13245307924541275,
          0.13244280790877394,
          0.13243021789725024,
          0.13241478745754573,
          0.13239587826678267,
          0.1323727098067174,
          0.1323443283130318,
          0.1323095692552724,
          0.1322670121544573,
          0.13221492640368132,
          0.1321512066414057,
          0.13207329616714836,
          0.1319780969297834,
          0.13186186482387968,
          0.1317200894871799,
          0.13154735861776043,
          0.1313372081622484,
          0.1310819617214369,
          0.13077256532031276,
          0.1303984273796092,
          0.12994727825424973,
          0.12940506878237892,
          0.12875593228382531,
          0.12798223830762342,
          0.12706476770672684,
          0.12598303564224872,
          0.12471578030907708,
          0.1232416193965738,
          0.12153985312128474,
          0.11959136256618695,
          0.11737951707952217,
          0.11489097016167284,
          0.11211620166440091,
          0.10904967530163695,
          0.10568954728341234,
          0.10203699491610342,
          0.09809541186823025,
          0.09386987700034542,
          0.0893673593250343,
          0.08459800328223897,
          0.07957753852132148,
          0.07433044964588768,
          0.06889315677464306,
          0.06331624214977916,
          0.05766481495372304,
          0.052016457146443804,
          0.0464567579522189,
          0.041073058047262065,
          0.035947488409819685,
          0.031150550752261155,
          0.02673630548081628,
          0.022739794348256313,
          0.01917679376436527,
          0.016045539269671085,
          0.013329788503341974,
          0.011002521494470282,
          0.009029669436343112,
          0.007373442957881475,
          0.005995028586255318,
          0.00485658966011683,
          0.003922622816288078,
          0.0031607810958824206,
          0.002542290127064204,
          0.0020420708302175544,
          0.0016386570196789286,
          0.0013139718917451414,
          0.0010530105112258742,
          0.0008434666965679372,
          0.0006753386350406304,
          0.0005405436555226301,
          0.00043256613432029415,
          0.00034615351099079723,
          0.0002770657552777052,
          0.0002218756225280616,
          0.0001778120799184142,
          0.00014263754304334145
         ],
         "yaxis": "y"
        },
        {
         "hovertemplate": "variable=total sulfur dioxide<br>alphas=%{x}<br>value=%{y}<extra></extra>",
         "legendgroup": "total sulfur dioxide",
         "line": {
          "color": "#FF6692",
          "dash": "solid"
         },
         "mode": "lines",
         "name": "total sulfur dioxide",
         "showlegend": true,
         "type": "scattergl",
         "x": [
          0.01,
          0.012263306841775632,
          0.015038869469554102,
          0.018442627085855347,
          0.022616759492228647,
          0.02773562614198415,
          0.03401304938279251,
          0.04171124612056518,
          0.051151780992931425,
          0.06272899858196247,
          0.07692649574879142,
          0.09433732216299774,
          0.1156887528316282,
          0.1418726674116596,
          0.1739828052930364,
          0.21336045265014109,
          0.2616504698748821,
          0.320869999737045,
          0.39349272630958493,
          0.48255220427412787,
          0.5917685748188825,
          0.7257039612324212,
          0.8899530352885229,
          1.0913767146512738,
          1.3383887531737564,
          1.6413071953751284,
          2.0127853758499383,
          2.4683404670686486,
          3.0270016537634614,
          3.7121050090663608,
          4.55226827550731,
          5.582586268862695,
          6.846096838574658,
          8.395578619995112,
          10.295755673125127,
          12.626001098748565,
          15.48365256585499,
          18.988078244652634,
          23.285662984981965,
          28.55592301990109,
          35.019004614317126,
          42.944879887892725,
          52.66462393484275,
          64.58424430196978,
          79.20164050192548,
          97.12740198471168,
          119.11031332830079,
          146.06863203649888,
          179.1284454622002,
          219.67070907932353,
          269.388930959017,
          330.35991201283395,
          405.1304969235378,
          496.8239594734388,
          609.2704661368674,
          747.1670675868082,
          916.2739011886731,
          1123.6548001387516,
          1377.9723598335568,
          1689.8497868124587,
          2072.3146452190294,
          2541.343036702639,
          3116.52694492943,
          3821.8926206331225,
          4686.904192314192,
          5747.694424835347,
          7048.574036451903,
          8643.882620598262,
          10600.258488068825,
          12999.42224413245,
          15941.590374559995,
          19549.661430912594,
          23974.349678010785,
          29400.480643347077,
          36054.71154250506,
          44214.99907374487,
          54222.21006501592,
          66494.35996665046,
          81544.07395185171,
          100000
         ],
         "xaxis": "x",
         "y": [
          -0.13434310708071967,
          -0.1343365760040639,
          -0.13432856838378165,
          -0.13431875085753492,
          -0.13430671502736805,
          -0.13429196068480642,
          -0.13427387534326546,
          -0.13425170929383112,
          -0.13422454524845517,
          -0.13419126146086605,
          -0.1341504870205365,
          -0.13410054780295982,
          -0.13403940133859488,
          -0.13396455864865897,
          -0.13387299091496682,
          -0.13376101874469407,
          -0.13362418182243851,
          -0.13345708700315911,
          -0.1332532335178939,
          -0.13300481511014067,
          -0.13270250080776536,
          -0.1323351989116613,
          -0.1318898129034585,
          -0.13135100354635257,
          -0.1307009785410044,
          -0.129919339498309,
          -0.12898302508383458,
          -0.12786639782433498,
          -0.12654152853936548,
          -0.12497873453773076,
          -0.12314742329215789,
          -0.1210172800255527,
          -0.11855981332903802,
          -0.1157502353414291,
          -0.1125696002784015,
          -0.10900705792934227,
          -0.10506200486472043,
          -0.10074585436656738,
          -0.09608312486416706,
          -0.0911115922359293,
          -0.08588137026730136,
          -0.080452951535867,
          -0.07489441035976149,
          -0.06927809242961419,
          -0.06367716573524668,
          -0.0581623828063147,
          -0.05279931880836049,
          -0.0476462258144716,
          -0.04275251346607781,
          -0.03815777223601644,
          -0.03389123040865932,
          -0.029971578167270335,
          -0.026407160527110014,
          -0.023196580463723436,
          -0.020329734342885823,
          -0.01778923590821143,
          -0.01555211224544442,
          -0.013591611940655366,
          -0.011878965479693557,
          -0.010384971147005654,
          -0.009081326334395033,
          -0.00794166668175728,
          -0.0069423047333963105,
          -0.006062675445043671,
          -0.005285503646485371,
          -0.004596716388918111,
          -0.003985136733192465,
          -0.003442014913883033,
          -0.002960471415204055,
          -0.002534934783898988,
          -0.0021606484280418097,
          -0.001833296123457145,
          -0.0015487635974747074,
          -0.001303024092004362,
          -0.0010921170492803052,
          -0.0009121831617817172,
          -0.0007595232237312476,
          -0.0006306575997555146,
          -0.0005223732184761798,
          -0.0004317530973117392
         ],
         "yaxis": "y"
        },
        {
         "hovertemplate": "variable=density<br>alphas=%{x}<br>value=%{y}<extra></extra>",
         "legendgroup": "density",
         "line": {
          "color": "#B6E880",
          "dash": "solid"
         },
         "mode": "lines",
         "name": "density",
         "showlegend": true,
         "type": "scattergl",
         "x": [
          0.01,
          0.012263306841775632,
          0.015038869469554102,
          0.018442627085855347,
          0.022616759492228647,
          0.02773562614198415,
          0.03401304938279251,
          0.04171124612056518,
          0.051151780992931425,
          0.06272899858196247,
          0.07692649574879142,
          0.09433732216299774,
          0.1156887528316282,
          0.1418726674116596,
          0.1739828052930364,
          0.21336045265014109,
          0.2616504698748821,
          0.320869999737045,
          0.39349272630958493,
          0.48255220427412787,
          0.5917685748188825,
          0.7257039612324212,
          0.8899530352885229,
          1.0913767146512738,
          1.3383887531737564,
          1.6413071953751284,
          2.0127853758499383,
          2.4683404670686486,
          3.0270016537634614,
          3.7121050090663608,
          4.55226827550731,
          5.582586268862695,
          6.846096838574658,
          8.395578619995112,
          10.295755673125127,
          12.626001098748565,
          15.48365256585499,
          18.988078244652634,
          23.285662984981965,
          28.55592301990109,
          35.019004614317126,
          42.944879887892725,
          52.66462393484275,
          64.58424430196978,
          79.20164050192548,
          97.12740198471168,
          119.11031332830079,
          146.06863203649888,
          179.1284454622002,
          219.67070907932353,
          269.388930959017,
          330.35991201283395,
          405.1304969235378,
          496.8239594734388,
          609.2704661368674,
          747.1670675868082,
          916.2739011886731,
          1123.6548001387516,
          1377.9723598335568,
          1689.8497868124587,
          2072.3146452190294,
          2541.343036702639,
          3116.52694492943,
          3821.8926206331225,
          4686.904192314192,
          5747.694424835347,
          7048.574036451903,
          8643.882620598262,
          10600.258488068825,
          12999.42224413245,
          15941.590374559995,
          19549.661430912594,
          23974.349678010785,
          29400.480643347077,
          36054.71154250506,
          44214.99907374487,
          54222.21006501592,
          66494.35996665046,
          81544.07395185171,
          100000
         ],
         "xaxis": "x",
         "y": [
          -0.03698969414897607,
          -0.03700093066724174,
          -0.0370147042731602,
          -0.03703158613008774,
          -0.03705227513832299,
          -0.03707762607732799,
          -0.0371086837341898,
          -0.037146724183482804,
          -0.0371933045546534,
          -0.037250322788290186,
          -0.03732008902047532,
          -0.03740541030932547,
          -0.03750969037463599,
          -0.03763704577641691,
          -0.03779243938858415,
          -0.03798183095644652,
          -0.03821234272293806,
          -0.03849243525897079,
          -0.03883208435716163,
          -0.03924294372391994,
          -0.03973846984344972,
          -0.040333974587328174,
          -0.04104655815622203,
          -0.041894860875228146,
          -0.04289855970725292,
          -0.044077528472041584,
          -0.04545058610990333,
          -0.04703378277434848,
          -0.0488382262039458,
          -0.05086753308832523,
          -0.05311509446230858,
          -0.055561449286030976,
          -0.05817213319286026,
          -0.060896375995237374,
          -0.06366694579226054,
          -0.06640129703143954,
          -0.06900402448037671,
          -0.07137051089597075,
          -0.07339160844802,
          -0.07495918722457061,
          -0.0759723603338752,
          -0.07634410835625328,
          -0.07600787853323668,
          -0.07492357592485492,
          -0.07308226012393457,
          -0.07050885966193564,
          -0.06726233613042207,
          -0.06343297017339558,
          -0.059136787238150905,
          -0.05450755567979887,
          -0.049687200483649906,
          -0.044815777108812266,
          -0.04002224029456019,
          -0.03541707689106789,
          -0.031087492048051366,
          -0.027095358449097696,
          -0.023477692242316817,
          -0.020249105809660137,
          -0.017405544537253497,
          -0.014928625312104404,
          -0.012790009972019543,
          -0.01095541117329077,
          -0.009387993638460233,
          -0.008051069683455427,
          -0.006910081718268199,
          -0.005933918827262696,
          -0.005095641736466684,
          -0.004372704809671298,
          -0.0037467753393661857,
          -0.0032032619549345956,
          -0.002730671398417679,
          -0.0023199096664758157,
          -0.0019636256918604835,
          -0.0016556652338853102,
          -0.0013906666166746341,
          -0.0011637973120179935,
          -0.0009706077809942016,
          -0.0008069686967917409,
          -0.0006690578017812519,
          -0.000553369182143392
         ],
         "yaxis": "y"
        },
        {
         "hovertemplate": "variable=pH<br>alphas=%{x}<br>value=%{y}<extra></extra>",
         "legendgroup": "pH",
         "line": {
          "color": "#FF97FF",
          "dash": "solid"
         },
         "mode": "lines",
         "name": "pH",
         "showlegend": true,
         "type": "scattergl",
         "x": [
          0.01,
          0.012263306841775632,
          0.015038869469554102,
          0.018442627085855347,
          0.022616759492228647,
          0.02773562614198415,
          0.03401304938279251,
          0.04171124612056518,
          0.051151780992931425,
          0.06272899858196247,
          0.07692649574879142,
          0.09433732216299774,
          0.1156887528316282,
          0.1418726674116596,
          0.1739828052930364,
          0.21336045265014109,
          0.2616504698748821,
          0.320869999737045,
          0.39349272630958493,
          0.48255220427412787,
          0.5917685748188825,
          0.7257039612324212,
          0.8899530352885229,
          1.0913767146512738,
          1.3383887531737564,
          1.6413071953751284,
          2.0127853758499383,
          2.4683404670686486,
          3.0270016537634614,
          3.7121050090663608,
          4.55226827550731,
          5.582586268862695,
          6.846096838574658,
          8.395578619995112,
          10.295755673125127,
          12.626001098748565,
          15.48365256585499,
          18.988078244652634,
          23.285662984981965,
          28.55592301990109,
          35.019004614317126,
          42.944879887892725,
          52.66462393484275,
          64.58424430196978,
          79.20164050192548,
          97.12740198471168,
          119.11031332830079,
          146.06863203649888,
          179.1284454622002,
          219.67070907932353,
          269.388930959017,
          330.35991201283395,
          405.1304969235378,
          496.8239594734388,
          609.2704661368674,
          747.1670675868082,
          916.2739011886731,
          1123.6548001387516,
          1377.9723598335568,
          1689.8497868124587,
          2072.3146452190294,
          2541.343036702639,
          3116.52694492943,
          3821.8926206331225,
          4686.904192314192,
          5747.694424835347,
          7048.574036451903,
          8643.882620598262,
          10600.258488068825,
          12999.42224413245,
          15941.590374559995,
          19549.661430912594,
          23974.349678010785,
          29400.480643347077,
          36054.71154250506,
          44214.99907374487,
          54222.21006501592,
          66494.35996665046,
          81544.07395185171,
          100000
         ],
         "xaxis": "x",
         "y": [
          -0.04698414036961175,
          -0.04697906089167004,
          -0.046972834738805,
          -0.046965203874545655,
          -0.046955852609173475,
          -0.0469443949254857,
          -0.04693035912249319,
          -0.04691316926216334,
          -0.04689212283268038,
          -0.046866363975246086,
          -0.04683485157098258,
          -0.04679632146758872,
          -0.04674924216877929,
          -0.04669176345320448,
          -0.046621657691207824,
          -0.04653625416747913,
          -0.04643236760242166,
          -0.04630622342929518,
          -0.04615338438313551,
          -0.04596868574453803,
          -0.045746190257905175,
          -0.04547917826511124,
          -0.045160193616814004,
          -0.044781170577955796,
          -0.04433366957690107,
          -0.04380924759999745,
          -0.043199978674791605,
          -0.04249911723477371,
          -0.0417018594898643,
          -0.04080610655420507,
          -0.03981307683138048,
          -0.0387275727833808,
          -0.03755770581223813,
          -0.03631394959500434,
          -0.03500753878811133,
          -0.033648437668382596,
          -0.03224331619178544,
          -0.030794108538527536,
          -0.02929771528357936,
          -0.027747206923345577,
          -0.02613451684957876,
          -0.024454163619916126,
          -0.02270714997647051,
          -0.020903994278495878,
          -0.01906596223625455,
          -0.017223991601582708,
          -0.015415425923357859,
          -0.013679286498966685,
          -0.012051194277900005,
          -0.010559077184254142,
          -0.009220484861191746,
          -0.00804183218418668,
          -0.007019398350119906,
          -0.00614156644915491,
          -0.005391654069316079,
          -0.004750732224429675,
          -0.004199989941671248,
          -0.003722404114363732,
          -0.0033036645489689757,
          -0.002932449367844545,
          -0.0026002309841905475,
          -0.002300817162479729,
          -0.002029806305331004,
          -0.0017840803541456331,
          -0.001561395036629903,
          -0.0013600753018440425,
          -0.001178795055426633,
          -0.0010164151371255562,
          -0.0008718629650282726,
          -0.000744049120252737,
          -0.0006318216295052158,
          -0.0005339563017778263,
          -0.0004491753837990055,
          -0.00037618233792029,
          -0.0003137003873649408,
          -0.0002605059227889851,
          -0.00021545253667497224,
          -0.00017748527074103144,
          -0.00014564677987254627,
          -0.00011907773537172453
         ],
         "yaxis": "y"
        },
        {
         "hovertemplate": "variable=sulphates<br>alphas=%{x}<br>value=%{y}<extra></extra>",
         "legendgroup": "sulphates",
         "line": {
          "color": "#FECB52",
          "dash": "solid"
         },
         "mode": "lines",
         "name": "sulphates",
         "showlegend": true,
         "type": "scattergl",
         "x": [
          0.01,
          0.012263306841775632,
          0.015038869469554102,
          0.018442627085855347,
          0.022616759492228647,
          0.02773562614198415,
          0.03401304938279251,
          0.04171124612056518,
          0.051151780992931425,
          0.06272899858196247,
          0.07692649574879142,
          0.09433732216299774,
          0.1156887528316282,
          0.1418726674116596,
          0.1739828052930364,
          0.21336045265014109,
          0.2616504698748821,
          0.320869999737045,
          0.39349272630958493,
          0.48255220427412787,
          0.5917685748188825,
          0.7257039612324212,
          0.8899530352885229,
          1.0913767146512738,
          1.3383887531737564,
          1.6413071953751284,
          2.0127853758499383,
          2.4683404670686486,
          3.0270016537634614,
          3.7121050090663608,
          4.55226827550731,
          5.582586268862695,
          6.846096838574658,
          8.395578619995112,
          10.295755673125127,
          12.626001098748565,
          15.48365256585499,
          18.988078244652634,
          23.285662984981965,
          28.55592301990109,
          35.019004614317126,
          42.944879887892725,
          52.66462393484275,
          64.58424430196978,
          79.20164050192548,
          97.12740198471168,
          119.11031332830079,
          146.06863203649888,
          179.1284454622002,
          219.67070907932353,
          269.388930959017,
          330.35991201283395,
          405.1304969235378,
          496.8239594734388,
          609.2704661368674,
          747.1670675868082,
          916.2739011886731,
          1123.6548001387516,
          1377.9723598335568,
          1689.8497868124587,
          2072.3146452190294,
          2541.343036702639,
          3116.52694492943,
          3821.8926206331225,
          4686.904192314192,
          5747.694424835347,
          7048.574036451903,
          8643.882620598262,
          10600.258488068825,
          12999.42224413245,
          15941.590374559995,
          19549.661430912594,
          23974.349678010785,
          29400.480643347077,
          36054.71154250506,
          44214.99907374487,
          54222.21006501592,
          66494.35996665046,
          81544.07395185171,
          100000
         ],
         "xaxis": "x",
         "y": [
          0.14944377723490124,
          0.1494433358924155,
          0.1494427937307756,
          0.149442127464129,
          0.1494413083017691,
          0.14944030058483176,
          0.149439060055964,
          0.14943753164999293,
          0.14943564665419037,
          0.14943331903167179,
          0.1494304406241546,
          0.14942687484139164,
          0.1494224482908764,
          0.149416939584358,
          0.14941006425210437,
          0.1494014542674642,
          0.14939063008864958,
          0.1493769623062063,
          0.14935961887816443,
          0.14933749247327696,
          0.14930910057216307,
          0.14927244868896067,
          0.1492248444641757,
          0.14916264771863985,
          0.14908093942060377,
          0.14897309189513552,
          0.1488302249993044,
          0.14864054037677057,
          0.1483885404727598,
          0.1480541625045689,
          0.1476118904768768,
          0.14702994872940708,
          0.1462697236895066,
          0.14528559921120934,
          0.1440254162012757,
          0.14243176902742474,
          0.14044431718273903,
          0.13800320536806593,
          0.13505353324271357,
          0.1315505947542223,
          0.1274653449766568,
          0.1227893227108457,
          0.11753816387401189,
          0.11175297287177524,
          0.10549918899080651,
          0.09886309316384691,
          0.09194656553198616,
          0.08486095202799357,
          0.07772086066035966,
          0.07063846014181657,
          0.06371855888689194,
          0.05705454783610975,
          0.05072524312911362,
          0.04479270672954975,
          0.0393011553749851,
          0.03427702463618779,
          0.029730136689988928,
          0.02565577826748454,
          0.022037386977779745,
          0.01884950283029192,
          0.016060668020181804,
          0.013636031101269574,
          0.011539504550226523,
          0.009735414960322807,
          0.008189658671977202,
          0.006870426209251969,
          0.005748585505780536,
          0.004797819263710203,
          0.003994601238806114,
          0.00331807679677494,
          0.002749891846822945,
          0.0022739965813275047,
          0.0018764387455091488,
          0.001545155013977925,
          0.00126976644724256,
          0.001041382811818913,
          0.0008524194686174114,
          0.0006964292168153277,
          0.0005679501344872342,
          0.0004623693870929449
         ],
         "yaxis": "y"
        },
        {
         "hovertemplate": "variable=alcohol<br>alphas=%{x}<br>value=%{y}<extra></extra>",
         "legendgroup": "alcohol",
         "line": {
          "color": "#636efa",
          "dash": "solid"
         },
         "mode": "lines",
         "name": "alcohol",
         "showlegend": true,
         "type": "scattergl",
         "x": [
          0.01,
          0.012263306841775632,
          0.015038869469554102,
          0.018442627085855347,
          0.022616759492228647,
          0.02773562614198415,
          0.03401304938279251,
          0.04171124612056518,
          0.051151780992931425,
          0.06272899858196247,
          0.07692649574879142,
          0.09433732216299774,
          0.1156887528316282,
          0.1418726674116596,
          0.1739828052930364,
          0.21336045265014109,
          0.2616504698748821,
          0.320869999737045,
          0.39349272630958493,
          0.48255220427412787,
          0.5917685748188825,
          0.7257039612324212,
          0.8899530352885229,
          1.0913767146512738,
          1.3383887531737564,
          1.6413071953751284,
          2.0127853758499383,
          2.4683404670686486,
          3.0270016537634614,
          3.7121050090663608,
          4.55226827550731,
          5.582586268862695,
          6.846096838574658,
          8.395578619995112,
          10.295755673125127,
          12.626001098748565,
          15.48365256585499,
          18.988078244652634,
          23.285662984981965,
          28.55592301990109,
          35.019004614317126,
          42.944879887892725,
          52.66462393484275,
          64.58424430196978,
          79.20164050192548,
          97.12740198471168,
          119.11031332830079,
          146.06863203649888,
          179.1284454622002,
          219.67070907932353,
          269.388930959017,
          330.35991201283395,
          405.1304969235378,
          496.8239594734388,
          609.2704661368674,
          747.1670675868082,
          916.2739011886731,
          1123.6548001387516,
          1377.9723598335568,
          1689.8497868124587,
          2072.3146452190294,
          2541.343036702639,
          3116.52694492943,
          3821.8926206331225,
          4686.904192314192,
          5747.694424835347,
          7048.574036451903,
          8643.882620598262,
          10600.258488068825,
          12999.42224413245,
          15941.590374559995,
          19549.661430912594,
          23974.349678010785,
          29400.480643347077,
          36054.71154250506,
          44214.99907374487,
          54222.21006501592,
          66494.35996665046,
          81544.07395185171,
          100000
         ],
         "xaxis": "x",
         "y": [
          0.3234509140850391,
          0.32344316563145453,
          0.3234336659496045,
          0.32342201993172126,
          0.3234077436718118,
          0.32339024468160565,
          0.32336879778503624,
          0.323342515790471,
          0.32331031387364073,
          0.3232708664184298,
          0.3232225548608934,
          0.32316340487233935,
          0.32309101101442145,
          0.3230024468270218,
          0.3228941582050439,
          0.3227618379366907,
          0.32260027948761083,
          0.3224032086176367,
          0.3221630923219003,
          0.32187092600813727,
          0.3215160018320669,
          0.32108566368102837,
          0.32056505717135275,
          0.31993688557788036,
          0.31918118366187936,
          0.31827511905981315,
          0.3171928228633499,
          0.31590523501222934,
          0.3143799255110072,
          0.31258082269819865,
          0.3104677551428833,
          0.3079957129082782,
          0.3051137814425227,
          0.30176381848986994,
          0.297879133826522,
          0.2933836618385822,
          0.2881923172529981,
          0.28221329943862805,
          0.27535297499213485,
          0.26752358631794393,
          0.258653447475371,
          0.24869861690567502,
          0.23765444796162652,
          0.22556508324228242,
          0.21252900119881865,
          0.1986991801391868,
          0.1842772476072355,
          0.16950197116409005,
          0.15463340757756397,
          0.13993475521762588,
          0.1256542998576878,
          0.11200974408934145,
          0.0991766976370929,
          0.0872823030006623,
          0.07640406821930135,
          0.06657318449309974,
          0.05778108300322892,
          0.04998779876880778,
          0.04313082220442379,
          0.0371334241159985,
          0.031911813002781356,
          0.02738082631180273,
          0.02345811624208548,
          0.0200669542737596,
          0.01713786205824866,
          0.01460930490369029,
          0.01242768111741573,
          0.010546821947833705,
          0.008927191366661926,
          0.007534945797897666,
          0.006340981873142577,
          0.005320065638489454,
          0.004450100626238149,
          0.003711557716416198,
          0.003087060688478934,
          0.002561101309267851,
          0.002119848256833009,
          0.00175101410495796,
          0.0014437509997793979,
          0.0011885549286459744
         ],
         "yaxis": "y"
        },
        {
         "hovertemplate": "variable=fixed acidity^2<br>alphas=%{x}<br>value=%{y}<extra></extra>",
         "legendgroup": "fixed acidity^2",
         "line": {
          "color": "#EF553B",
          "dash": "solid"
         },
         "mode": "lines",
         "name": "fixed acidity^2",
         "showlegend": true,
         "type": "scattergl",
         "x": [
          0.01,
          0.012263306841775632,
          0.015038869469554102,
          0.018442627085855347,
          0.022616759492228647,
          0.02773562614198415,
          0.03401304938279251,
          0.04171124612056518,
          0.051151780992931425,
          0.06272899858196247,
          0.07692649574879142,
          0.09433732216299774,
          0.1156887528316282,
          0.1418726674116596,
          0.1739828052930364,
          0.21336045265014109,
          0.2616504698748821,
          0.320869999737045,
          0.39349272630958493,
          0.48255220427412787,
          0.5917685748188825,
          0.7257039612324212,
          0.8899530352885229,
          1.0913767146512738,
          1.3383887531737564,
          1.6413071953751284,
          2.0127853758499383,
          2.4683404670686486,
          3.0270016537634614,
          3.7121050090663608,
          4.55226827550731,
          5.582586268862695,
          6.846096838574658,
          8.395578619995112,
          10.295755673125127,
          12.626001098748565,
          15.48365256585499,
          18.988078244652634,
          23.285662984981965,
          28.55592301990109,
          35.019004614317126,
          42.944879887892725,
          52.66462393484275,
          64.58424430196978,
          79.20164050192548,
          97.12740198471168,
          119.11031332830079,
          146.06863203649888,
          179.1284454622002,
          219.67070907932353,
          269.388930959017,
          330.35991201283395,
          405.1304969235378,
          496.8239594734388,
          609.2704661368674,
          747.1670675868082,
          916.2739011886731,
          1123.6548001387516,
          1377.9723598335568,
          1689.8497868124587,
          2072.3146452190294,
          2541.343036702639,
          3116.52694492943,
          3821.8926206331225,
          4686.904192314192,
          5747.694424835347,
          7048.574036451903,
          8643.882620598262,
          10600.258488068825,
          12999.42224413245,
          15941.590374559995,
          19549.661430912594,
          23974.349678010785,
          29400.480643347077,
          36054.71154250506,
          44214.99907374487,
          54222.21006501592,
          66494.35996665046,
          81544.07395185171,
          100000
         ],
         "xaxis": "x",
         "y": [
          -0.0008846673352989004,
          -0.0008841640028487144,
          -0.0008835463776004414,
          -0.0008827884042539042,
          -0.0008818580366168505,
          -0.0008807158349353524,
          -0.0008793132226568728,
          -0.0008775903142159072,
          -0.0008754732001187855,
          -0.000872870541937443,
          -0.0008696692851513695,
          -0.0008657292380189922,
          -0.0008608761846668816,
          -0.0008548930935569541,
          -0.0008475088397707949,
          -0.0008383836710156876,
          -0.0008270904017858101,
          -0.0008130900080597867,
          -0.0007956999131652398,
          -0.0007740528160950869,
          -0.0007470434612200899,
          -0.0007132603855577963,
          -0.000670899605651152,
          -0.0006176577650926431,
          -0.0005506039916253165,
          -0.000466033352033467,
          -0.0003593112154270594,
          -0.00022472778318773093,
          -0.000055395595641010447,
          0.00015676143130204234,
          0.000420864778600685,
          0.0007467154618569386,
          0.0011441482451183338,
          0.0016220841110135252,
          0.002187319922559756,
          0.002843169817579406,
          0.003588140727052746,
          0.004414856893916884,
          0.005309427434451776,
          0.0062513834103853205,
          0.0072142306142334274,
          0.008166614824714119,
          0.009074096623853506,
          0.009901550417423473,
          0.010616162106954657,
          0.011190838504535465,
          0.011607574998736176,
          0.011860076631575024,
          0.011954863130752131,
          0.011910324844535117,
          0.011753701826695362,
          0.011516550940119543,
          0.01122970473334648,
          0.010918836183592533,
          0.010601500966022121,
          0.010286058355274512,
          0.009972370021364406,
          0.009653812050185796,
          0.009319984325475662,
          0.008959537231680371,
          0.008562675303056938,
          0.008123057405218846,
          0.007638946885714055,
          0.007113568074237513,
          0.006554714108237574,
          0.005973737625500348,
          0.005384134471427533,
          0.004799980483809548,
          0.004234482192496478,
          0.003698848722999251,
          0.0032015996287081175,
          0.0027483208026891303,
          0.0023417972238849007,
          0.0019824046176811555,
          0.001668633862434181,
          0.0013976417895630758,
          0.0011657550896396478,
          0.0009688876912569985,
          0.000802858799181897,
          0.0006636163906050216
         ],
         "yaxis": "y"
        },
        {
         "hovertemplate": "variable=volatile acidity^2<br>alphas=%{x}<br>value=%{y}<extra></extra>",
         "legendgroup": "volatile acidity^2",
         "line": {
          "color": "#00cc96",
          "dash": "solid"
         },
         "mode": "lines",
         "name": "volatile acidity^2",
         "showlegend": true,
         "type": "scattergl",
         "x": [
          0.01,
          0.012263306841775632,
          0.015038869469554102,
          0.018442627085855347,
          0.022616759492228647,
          0.02773562614198415,
          0.03401304938279251,
          0.04171124612056518,
          0.051151780992931425,
          0.06272899858196247,
          0.07692649574879142,
          0.09433732216299774,
          0.1156887528316282,
          0.1418726674116596,
          0.1739828052930364,
          0.21336045265014109,
          0.2616504698748821,
          0.320869999737045,
          0.39349272630958493,
          0.48255220427412787,
          0.5917685748188825,
          0.7257039612324212,
          0.8899530352885229,
          1.0913767146512738,
          1.3383887531737564,
          1.6413071953751284,
          2.0127853758499383,
          2.4683404670686486,
          3.0270016537634614,
          3.7121050090663608,
          4.55226827550731,
          5.582586268862695,
          6.846096838574658,
          8.395578619995112,
          10.295755673125127,
          12.626001098748565,
          15.48365256585499,
          18.988078244652634,
          23.285662984981965,
          28.55592301990109,
          35.019004614317126,
          42.944879887892725,
          52.66462393484275,
          64.58424430196978,
          79.20164050192548,
          97.12740198471168,
          119.11031332830079,
          146.06863203649888,
          179.1284454622002,
          219.67070907932353,
          269.388930959017,
          330.35991201283395,
          405.1304969235378,
          496.8239594734388,
          609.2704661368674,
          747.1670675868082,
          916.2739011886731,
          1123.6548001387516,
          1377.9723598335568,
          1689.8497868124587,
          2072.3146452190294,
          2541.343036702639,
          3116.52694492943,
          3821.8926206331225,
          4686.904192314192,
          5747.694424835347,
          7048.574036451903,
          8643.882620598262,
          10600.258488068825,
          12999.42224413245,
          15941.590374559995,
          19549.661430912594,
          23974.349678010785,
          29400.480643347077,
          36054.71154250506,
          44214.99907374487,
          54222.21006501592,
          66494.35996665046,
          81544.07395185171,
          100000
         ],
         "xaxis": "x",
         "y": [
          0.016820770160516633,
          0.01682140199690957,
          0.016822176847760363,
          0.01682312708683573,
          0.01682429241763483,
          0.016825721533561017,
          0.01682747415441585,
          0.016829623524630948,
          0.016832259478084498,
          0.016835492198185486,
          0.01683945683114989,
          0.01684431914621021,
          0.01685028248031743,
          0.016857596258291887,
          0.016866566444174006,
          0.01687756835752265,
          0.01689106238116914,
          0.01690761319519482,
          0.016927913294465427,
          0.01695281167893389,
          0.01698334873520772,
          0.017020798430816744,
          0.017066718976276422,
          0.01712301300251804,
          0.01719199793994433,
          0.01727648650642858,
          0.017379875797092405,
          0.01750624116236926,
          0.017660427616629698,
          0.01784812679403618,
          0.018075921551729813,
          0.018351273672312894,
          0.01868242363889155,
          0.01907816643310723,
          0.019547465227218563,
          0.020098867200670698,
          0.020739693995026967,
          0.021474995219836524,
          0.022306279005179494,
          0.02323007086505119,
          0.024236401505903615,
          0.025307382215189703,
          0.026416083971337694,
          0.0275259792571307,
          0.02859121821830992,
          0.0295579811462181,
          0.03036707002635782,
          0.030957767467185322,
          0.031272795686081316,
          0.03126395450668646,
          0.03089774026780218,
          0.03016003078602762,
          0.029058881603323986,
          0.02762470682893058,
          0.025907608867635896,
          0.023972244714626667,
          0.0218911626451747,
          0.019737823935392234,
          0.01758046397584692,
          0.015477606494151336,
          0.013475572174815428,
          0.011607876192238352,
          0.009896094917176924,
          0.008351638721223558,
          0.006977879288421385,
          0.005772200006934961,
          0.004727711110591916,
          0.0038345449909155172,
          0.0030807810098614228,
          0.002453120475600162,
          0.0019374393921905036,
          0.0015193063914544806,
          0.0011844941931600812,
          0.00091946271474307,
          0.0007117674952693127,
          0.0005503505538242402,
          0.0004256927179251442,
          0.0003298331811853105,
          0.00025628267492227094,
          0.00019986633854168472
         ],
         "yaxis": "y"
        },
        {
         "hovertemplate": "variable=citric acid^2<br>alphas=%{x}<br>value=%{y}<extra></extra>",
         "legendgroup": "citric acid^2",
         "line": {
          "color": "#ab63fa",
          "dash": "solid"
         },
         "mode": "lines",
         "name": "citric acid^2",
         "showlegend": true,
         "type": "scattergl",
         "x": [
          0.01,
          0.012263306841775632,
          0.015038869469554102,
          0.018442627085855347,
          0.022616759492228647,
          0.02773562614198415,
          0.03401304938279251,
          0.04171124612056518,
          0.051151780992931425,
          0.06272899858196247,
          0.07692649574879142,
          0.09433732216299774,
          0.1156887528316282,
          0.1418726674116596,
          0.1739828052930364,
          0.21336045265014109,
          0.2616504698748821,
          0.320869999737045,
          0.39349272630958493,
          0.48255220427412787,
          0.5917685748188825,
          0.7257039612324212,
          0.8899530352885229,
          1.0913767146512738,
          1.3383887531737564,
          1.6413071953751284,
          2.0127853758499383,
          2.4683404670686486,
          3.0270016537634614,
          3.7121050090663608,
          4.55226827550731,
          5.582586268862695,
          6.846096838574658,
          8.395578619995112,
          10.295755673125127,
          12.626001098748565,
          15.48365256585499,
          18.988078244652634,
          23.285662984981965,
          28.55592301990109,
          35.019004614317126,
          42.944879887892725,
          52.66462393484275,
          64.58424430196978,
          79.20164050192548,
          97.12740198471168,
          119.11031332830079,
          146.06863203649888,
          179.1284454622002,
          219.67070907932353,
          269.388930959017,
          330.35991201283395,
          405.1304969235378,
          496.8239594734388,
          609.2704661368674,
          747.1670675868082,
          916.2739011886731,
          1123.6548001387516,
          1377.9723598335568,
          1689.8497868124587,
          2072.3146452190294,
          2541.343036702639,
          3116.52694492943,
          3821.8926206331225,
          4686.904192314192,
          5747.694424835347,
          7048.574036451903,
          8643.882620598262,
          10600.258488068825,
          12999.42224413245,
          15941.590374559995,
          19549.661430912594,
          23974.349678010785,
          29400.480643347077,
          36054.71154250506,
          44214.99907374487,
          54222.21006501592,
          66494.35996665046,
          81544.07395185171,
          100000
         ],
         "xaxis": "x",
         "y": [
          -0.009027261176448935,
          -0.0090267178399643,
          -0.009026051479916536,
          -0.009025234227387486,
          -0.009024231893485859,
          -0.009023002532853704,
          -0.009021494679092227,
          -0.009019645176486037,
          -0.009017376514640607,
          -0.009014593550685526,
          -0.009011179476420947,
          -0.009006990853985052,
          -0.009001851501842665,
          -0.008995544961410097,
          -0.008987805211790437,
          -0.008978305224359008,
          -0.008966642859797576,
          -0.008952323509335263,
          -0.00893473877550791,
          -0.008913140390579945,
          -0.008886608512464565,
          -0.008854013573153404,
          -0.008813971076337093,
          -0.008764789296752602,
          -0.00870441094070463,
          -0.008630351771359695,
          -0.00853964230350303,
          -0.008428783176554018,
          -0.008293730676768965,
          -0.008129935418420787,
          -0.00793246267507586,
          -0.0076962241951855585,
          -0.007416344308962755,
          -0.007088663473340214,
          -0.006710348092424718,
          -0.0062805297526895894,
          -0.005800850922826287,
          -0.00527576625748684,
          -0.00471246037251763,
          -0.004120309188968394,
          -0.003509929312198228,
          -0.0028919989511289853,
          -0.002276142056756486,
          -0.0016701873351038258,
          -0.0010800133750248925,
          -0.0005099909023820316,
          0.000036188659808195,
          0.000554648381298272,
          0.0010407597470848784,
          0.001489050563385269,
          0.001893548199568171,
          0.002248366068556918,
          0.002548313351924578,
          0.0027893860772037816,
          0.002969104699343265,
          0.0030867271954865233,
          0.003143366580866062,
          0.0031420079818522775,
          0.003087398001140825,
          0.0029857909119367825,
          0.002844572218305138,
          0.002671813444343818,
          0.00247582231695153,
          0.0022647381450139835,
          0.0020461963840635094,
          0.0018270649633434478,
          0.001613246355212696,
          0.0014095420174828972,
          0.001219582148212953,
          0.0010458261642922707,
          0.0008896348199789494,
          0.0007514053478966041,
          0.0006307511749009294,
          0.0005267020168429979,
          0.0004379003545595835,
          0.0003627755193432627,
          0.00029968433428119044,
          0.0002470148430741535,
          0.00020325540290072968,
          0.00016703476275899018
         ],
         "yaxis": "y"
        },
        {
         "hovertemplate": "variable=residual sugar^2<br>alphas=%{x}<br>value=%{y}<extra></extra>",
         "legendgroup": "residual sugar^2",
         "line": {
          "color": "#FFA15A",
          "dash": "solid"
         },
         "mode": "lines",
         "name": "residual sugar^2",
         "showlegend": true,
         "type": "scattergl",
         "x": [
          0.01,
          0.012263306841775632,
          0.015038869469554102,
          0.018442627085855347,
          0.022616759492228647,
          0.02773562614198415,
          0.03401304938279251,
          0.04171124612056518,
          0.051151780992931425,
          0.06272899858196247,
          0.07692649574879142,
          0.09433732216299774,
          0.1156887528316282,
          0.1418726674116596,
          0.1739828052930364,
          0.21336045265014109,
          0.2616504698748821,
          0.320869999737045,
          0.39349272630958493,
          0.48255220427412787,
          0.5917685748188825,
          0.7257039612324212,
          0.8899530352885229,
          1.0913767146512738,
          1.3383887531737564,
          1.6413071953751284,
          2.0127853758499383,
          2.4683404670686486,
          3.0270016537634614,
          3.7121050090663608,
          4.55226827550731,
          5.582586268862695,
          6.846096838574658,
          8.395578619995112,
          10.295755673125127,
          12.626001098748565,
          15.48365256585499,
          18.988078244652634,
          23.285662984981965,
          28.55592301990109,
          35.019004614317126,
          42.944879887892725,
          52.66462393484275,
          64.58424430196978,
          79.20164050192548,
          97.12740198471168,
          119.11031332830079,
          146.06863203649888,
          179.1284454622002,
          219.67070907932353,
          269.388930959017,
          330.35991201283395,
          405.1304969235378,
          496.8239594734388,
          609.2704661368674,
          747.1670675868082,
          916.2739011886731,
          1123.6548001387516,
          1377.9723598335568,
          1689.8497868124587,
          2072.3146452190294,
          2541.343036702639,
          3116.52694492943,
          3821.8926206331225,
          4686.904192314192,
          5747.694424835347,
          7048.574036451903,
          8643.882620598262,
          10600.258488068825,
          12999.42224413245,
          15941.590374559995,
          19549.661430912594,
          23974.349678010785,
          29400.480643347077,
          36054.71154250506,
          44214.99907374487,
          54222.21006501592,
          66494.35996665046,
          81544.07395185171,
          100000
         ],
         "xaxis": "x",
         "y": [
          -0.026104829590506914,
          -0.026104881094339,
          -0.026104943857232214,
          -0.026105020227568245,
          -0.026105112985023212,
          -0.02610522538806886,
          -0.026105361207366992,
          -0.026105524729551702,
          -0.02610572070653904,
          -0.026105954211100475,
          -0.026106230337837162,
          -0.026106553656322428,
          -0.026106927275464997,
          -0.026107351308170785,
          -0.02610782042430896,
          -0.026108320035883308,
          -0.02610882045622198,
          -0.02610926809798449,
          -0.026109572405388706,
          -0.0261095867420668,
          -0.026109080880261773,
          -0.026107702095401485,
          -0.026104921257823217,
          -0.026099959924006287,
          -0.026091694595818636,
          -0.026078535539352972,
          -0.026058280484109696,
          -0.02602794882652006,
          -0.025983610024679468,
          -0.025920230302165406,
          -0.025831572830182684,
          -0.025710194792814205,
          -0.02554758547627923,
          -0.025334478477876687,
          -0.02506134706171378,
          -0.02471905867558133,
          -0.024299631889213726,
          -0.023797016857269183,
          -0.023207814011534898,
          -0.022531850918767807,
          -0.02177254347052863,
          -0.02093696750263382,
          -0.020035566873385934,
          -0.01908144476135665,
          -0.01808924865893249,
          -0.017073769027757955,
          -0.016048496448249048,
          -0.01502446461490806,
          -0.014009688386780081,
          -0.013009363630132493,
          -0.012026763305729165,
          -0.011064529215174276,
          -0.010125922763437876,
          -0.009215624810682931,
          -0.008339853516749223,
          -0.007505819027850463,
          -0.0067207475397307965,
          -0.005990807009026663,
          -0.005320237676875627,
          -0.0047108740368159855,
          -0.0041621045558151515,
          -0.0036712023763703023,
          -0.0032338967990697197,
          -0.002845039314709364,
          -0.0024992353392370944,
          -0.002191348767427506,
          -0.001916829769295837,
          -0.0016718588383546203,
          -0.0014533353496105099,
          -0.0012587613100236402,
          -0.0010860776355961922,
          -0.0009335023495975693,
          -0.0007994028102379751,
          -0.0006822145889245377,
          -0.0005804040115185539,
          -0.0004924626584092333,
          -0.0004169200628095361,
          -0.000352363195215191,
          -0.00029745538981157903,
          -0.0002509511660946067
         ],
         "yaxis": "y"
        },
        {
         "hovertemplate": "variable=chlorides^2<br>alphas=%{x}<br>value=%{y}<extra></extra>",
         "legendgroup": "chlorides^2",
         "line": {
          "color": "#19d3f3",
          "dash": "solid"
         },
         "mode": "lines",
         "name": "chlorides^2",
         "showlegend": true,
         "type": "scattergl",
         "x": [
          0.01,
          0.012263306841775632,
          0.015038869469554102,
          0.018442627085855347,
          0.022616759492228647,
          0.02773562614198415,
          0.03401304938279251,
          0.04171124612056518,
          0.051151780992931425,
          0.06272899858196247,
          0.07692649574879142,
          0.09433732216299774,
          0.1156887528316282,
          0.1418726674116596,
          0.1739828052930364,
          0.21336045265014109,
          0.2616504698748821,
          0.320869999737045,
          0.39349272630958493,
          0.48255220427412787,
          0.5917685748188825,
          0.7257039612324212,
          0.8899530352885229,
          1.0913767146512738,
          1.3383887531737564,
          1.6413071953751284,
          2.0127853758499383,
          2.4683404670686486,
          3.0270016537634614,
          3.7121050090663608,
          4.55226827550731,
          5.582586268862695,
          6.846096838574658,
          8.395578619995112,
          10.295755673125127,
          12.626001098748565,
          15.48365256585499,
          18.988078244652634,
          23.285662984981965,
          28.55592301990109,
          35.019004614317126,
          42.944879887892725,
          52.66462393484275,
          64.58424430196978,
          79.20164050192548,
          97.12740198471168,
          119.11031332830079,
          146.06863203649888,
          179.1284454622002,
          219.67070907932353,
          269.388930959017,
          330.35991201283395,
          405.1304969235378,
          496.8239594734388,
          609.2704661368674,
          747.1670675868082,
          916.2739011886731,
          1123.6548001387516,
          1377.9723598335568,
          1689.8497868124587,
          2072.3146452190294,
          2541.343036702639,
          3116.52694492943,
          3821.8926206331225,
          4686.904192314192,
          5747.694424835347,
          7048.574036451903,
          8643.882620598262,
          10600.258488068825,
          12999.42224413245,
          15941.590374559995,
          19549.661430912594,
          23974.349678010785,
          29400.480643347077,
          36054.71154250506,
          44214.99907374487,
          54222.21006501592,
          66494.35996665046,
          81544.07395185171,
          100000
         ],
         "xaxis": "x",
         "y": [
          0.1712379243207493,
          0.17122922093686252,
          0.17121854945447726,
          0.17120546531065983,
          0.1711894237660735,
          0.17116975745399154,
          0.17114564895952045,
          0.17111609735962324,
          0.17107987744093936,
          0.17103549006282973,
          0.17098110184839713,
          0.17091447206690052,
          0.17083286422385924,
          0.17073293951567645,
          0.17061062896027293,
          0.17046098073224641,
          0.17027797908594017,
          0.17005433135960152,
          0.16978122009666963,
          0.16944801854801386,
          0.16904197008984947,
          0.1685478358803169,
          0.1679475209855942,
          0.1672196979382543,
          0.16633945896105068,
          0.16527804442506852,
          0.16400271547375714,
          0.16247686191412444,
          0.1606604591735855,
          0.1585110039591906,
          0.1559850568836063,
          0.15304048754636682,
          0.14963943770506466,
          0.14575188018819074,
          0.1413594591344291,
          0.13645908288614972,
          0.13106557225485638,
          0.1252126396905105,
          0.11895167864441718,
          0.11234830315773872,
          0.10547720429814642,
          0.09841646777782173,
          0.09124275959859517,
          0.084028549006382,
          0.0768418196157513,
          0.0697477731648845,
          0.06281124574148382,
          0.05609828000912886,
          0.04967566155033459,
          0.04360807966713822,
          0.03795354162726093,
          0.03275834362564333,
          0.028053028827463748,
          0.023850356471292987,
          0.020145608075471597,
          0.01691888641751165,
          0.014138653721233331,
          0.011765673734096224,
          0.00975668982304555,
          0.008067447398309141,
          0.006654930461723534,
          0.005478861815042696,
          0.004502602975338162,
          0.0036936054873752105,
          0.0030235426743960964,
          0.002468217207510532,
          0.002007311256522752,
          0.0016240279923030291,
          0.0013046645903428838,
          0.0010381533992027802,
          0.0008156052060808737,
          0.000629883658992861,
          0.00047523205737855337,
          0.0003469638799574528,
          0.000241218561350584,
          0.00015477613571782952,
          0.00008491963679381542,
          0.000029332731460656476,
          -0.00001397870877286248,
          -0.0000467495805941182
         ],
         "yaxis": "y"
        },
        {
         "hovertemplate": "variable=free sulfur dioxide^2<br>alphas=%{x}<br>value=%{y}<extra></extra>",
         "legendgroup": "free sulfur dioxide^2",
         "line": {
          "color": "#FF6692",
          "dash": "solid"
         },
         "mode": "lines",
         "name": "free sulfur dioxide^2",
         "showlegend": true,
         "type": "scattergl",
         "x": [
          0.01,
          0.012263306841775632,
          0.015038869469554102,
          0.018442627085855347,
          0.022616759492228647,
          0.02773562614198415,
          0.03401304938279251,
          0.04171124612056518,
          0.051151780992931425,
          0.06272899858196247,
          0.07692649574879142,
          0.09433732216299774,
          0.1156887528316282,
          0.1418726674116596,
          0.1739828052930364,
          0.21336045265014109,
          0.2616504698748821,
          0.320869999737045,
          0.39349272630958493,
          0.48255220427412787,
          0.5917685748188825,
          0.7257039612324212,
          0.8899530352885229,
          1.0913767146512738,
          1.3383887531737564,
          1.6413071953751284,
          2.0127853758499383,
          2.4683404670686486,
          3.0270016537634614,
          3.7121050090663608,
          4.55226827550731,
          5.582586268862695,
          6.846096838574658,
          8.395578619995112,
          10.295755673125127,
          12.626001098748565,
          15.48365256585499,
          18.988078244652634,
          23.285662984981965,
          28.55592301990109,
          35.019004614317126,
          42.944879887892725,
          52.66462393484275,
          64.58424430196978,
          79.20164050192548,
          97.12740198471168,
          119.11031332830079,
          146.06863203649888,
          179.1284454622002,
          219.67070907932353,
          269.388930959017,
          330.35991201283395,
          405.1304969235378,
          496.8239594734388,
          609.2704661368674,
          747.1670675868082,
          916.2739011886731,
          1123.6548001387516,
          1377.9723598335568,
          1689.8497868124587,
          2072.3146452190294,
          2541.343036702639,
          3116.52694492943,
          3821.8926206331225,
          4686.904192314192,
          5747.694424835347,
          7048.574036451903,
          8643.882620598262,
          10600.258488068825,
          12999.42224413245,
          15941.590374559995,
          19549.661430912594,
          23974.349678010785,
          29400.480643347077,
          36054.71154250506,
          44214.99907374487,
          54222.21006501592,
          66494.35996665046,
          81544.07395185171,
          100000
         ],
         "xaxis": "x",
         "y": [
          0.040472422764417905,
          0.04047340737188695,
          0.04047461448365017,
          0.040476094286990415,
          0.04047790824162019,
          0.04048013158763482,
          0.04048285639950559,
          0.04048619529892034,
          0.0404902859596832,
          0.04049529656016771,
          0.040501432362620514,
          0.04050894362231986,
          0.04051813505098602,
          0.04052937707405711,
          0.0405431191243979,
          0.04055990519720258,
          0.040580391839704286,
          0.04060536864794082,
          0.04063578117003377,
          0.040672755845177745,
          0.04071762621303213,
          0.04077195908633503,
          0.04083757868108569,
          0.0409165858626426,
          0.04101136875423031,
          0.041124600078384504,
          0.04125921590349608,
          0.041418370042129164,
          0.04160535808646491,
          0.041823504420098946,
          0.042076003304331214,
          0.04236569945446596,
          0.042694782532137696,
          0.043064353296147564,
          0.04347380008838608,
          0.04391991191894769,
          0.044395663631759875,
          0.04488865727489268,
          0.04537930562241861,
          0.04583899914228918,
          0.04622868415247825,
          0.04649844636710413,
          0.04658876318829867,
          0.0464339733460226,
          0.04596815320234054,
          0.04513299791241853,
          0.04388660609838017,
          0.04221148813764691,
          0.04011992627194946,
          0.03765518830276548,
          0.03488800741355072,
          0.03190891676327031,
          0.028818050518246253,
          0.025714524584473257,
          0.022687353097386745,
          0.019809183850774133,
          0.017133265795794748,
          0.014693312186892859,
          0.012505478087144343,
          0.01057155109403927,
          0.008882568263639232,
          0.0074222958737471395,
          0.006170241302664218,
          0.005104052786391307,
          0.004201288119825918,
          0.0034406060080986655,
          0.002802470067673495,
          0.0022694697730665163,
          0.0018263638667184846,
          0.0014599442026095176,
          0.0011588038718097205,
          0.0009130749089670169,
          0.0007141806237013377,
          0.0005546283696508399,
          0.00042785233018219587,
          0.00032810365738701716,
          0.0002503773683780472,
          0.00019036175505502765,
          0.0001443963373965803,
          0.00010942769004039328
         ],
         "yaxis": "y"
        },
        {
         "hovertemplate": "variable=total sulfur dioxide^2<br>alphas=%{x}<br>value=%{y}<extra></extra>",
         "legendgroup": "total sulfur dioxide^2",
         "line": {
          "color": "#B6E880",
          "dash": "solid"
         },
         "mode": "lines",
         "name": "total sulfur dioxide^2",
         "showlegend": true,
         "type": "scattergl",
         "x": [
          0.01,
          0.012263306841775632,
          0.015038869469554102,
          0.018442627085855347,
          0.022616759492228647,
          0.02773562614198415,
          0.03401304938279251,
          0.04171124612056518,
          0.051151780992931425,
          0.06272899858196247,
          0.07692649574879142,
          0.09433732216299774,
          0.1156887528316282,
          0.1418726674116596,
          0.1739828052930364,
          0.21336045265014109,
          0.2616504698748821,
          0.320869999737045,
          0.39349272630958493,
          0.48255220427412787,
          0.5917685748188825,
          0.7257039612324212,
          0.8899530352885229,
          1.0913767146512738,
          1.3383887531737564,
          1.6413071953751284,
          2.0127853758499383,
          2.4683404670686486,
          3.0270016537634614,
          3.7121050090663608,
          4.55226827550731,
          5.582586268862695,
          6.846096838574658,
          8.395578619995112,
          10.295755673125127,
          12.626001098748565,
          15.48365256585499,
          18.988078244652634,
          23.285662984981965,
          28.55592301990109,
          35.019004614317126,
          42.944879887892725,
          52.66462393484275,
          64.58424430196978,
          79.20164050192548,
          97.12740198471168,
          119.11031332830079,
          146.06863203649888,
          179.1284454622002,
          219.67070907932353,
          269.388930959017,
          330.35991201283395,
          405.1304969235378,
          496.8239594734388,
          609.2704661368674,
          747.1670675868082,
          916.2739011886731,
          1123.6548001387516,
          1377.9723598335568,
          1689.8497868124587,
          2072.3146452190294,
          2541.343036702639,
          3116.52694492943,
          3821.8926206331225,
          4686.904192314192,
          5747.694424835347,
          7048.574036451903,
          8643.882620598262,
          10600.258488068825,
          12999.42224413245,
          15941.590374559995,
          19549.661430912594,
          23974.349678010785,
          29400.480643347077,
          36054.71154250506,
          44214.99907374487,
          54222.21006501592,
          66494.35996665046,
          81544.07395185171,
          100000
         ],
         "xaxis": "x",
         "y": [
          -0.032957732362885635,
          -0.03295821008673865,
          -0.03295879549874589,
          -0.03295951275305927,
          -0.03296039136067854,
          -0.032961467346724393,
          -0.032962784642167696,
          -0.03296439674930178,
          -0.03296636872265828,
          -0.03296877950637439,
          -0.032971724663722696,
          -0.032975319520954414,
          -0.032979702720970276,
          -0.03298504013543116,
          -0.03299152900584022,
          -0.03299940206024951,
          -0.033008931161509256,
          -0.033020429757415905,
          -0.03303425298752144,
          -0.03305079371177523,
          -0.03307047191605957,
          -0.03309371387581354,
          -0.03312091609976125,
          -0.0331523874607654,
          -0.03318826117483436,
          -0.03322836669362925,
          -0.03327205063794456,
          -0.03331793641171675,
          -0.033363615194586846,
          -0.03340526795642943,
          -0.03343723038510534,
          -0.03345153136159763,
          -0.03343746134826299,
          -0.03338125877500932,
          -0.03326603632455677,
          -0.033072096071588356,
          -0.032777786990187685,
          -0.0323610187200044,
          -0.03180144145194872,
          -0.03108312983032525,
          -0.030197399169800868,
          -0.029145204532102918,
          -0.027938516405111743,
          -0.026600196422200635,
          -0.025162209847939168,
          -0.02366242137424456,
          -0.022140585830812437,
          -0.02063433291618048,
          -0.019175891573072836,
          -0.01779003734886181,
          -0.01649338335233178,
          -0.015294805284529488,
          -0.014196594651555303,
          -0.013195905062715658,
          -0.012286158867063201,
          -0.011458240454377783,
          -0.010701445661827487,
          -0.01000424281019712,
          -0.009354925849520176,
          -0.008742223039392373,
          -0.008155889239495681,
          -0.007587272781825024,
          -0.00702981666854905,
          -0.006479431898773855,
          -0.005934672421427921,
          -0.005396652804878183,
          -0.004868685114020166,
          -0.004355665963583687,
          -0.0038633024373181096,
          -0.0033973048786989615,
          -0.002962679047761452,
          -0.0025632179893685125,
          -0.002201238841288961,
          -0.001877552846884079,
          -0.0015916157430090306,
          -0.0013417880525815242,
          -0.001125638066782692,
          -0.0009402362430606787,
          -0.000782409602675035,
          -0.0006489423119565861
         ],
         "yaxis": "y"
        },
        {
         "hovertemplate": "variable=density^2<br>alphas=%{x}<br>value=%{y}<extra></extra>",
         "legendgroup": "density^2",
         "line": {
          "color": "#FF97FF",
          "dash": "solid"
         },
         "mode": "lines",
         "name": "density^2",
         "showlegend": true,
         "type": "scattergl",
         "x": [
          0.01,
          0.012263306841775632,
          0.015038869469554102,
          0.018442627085855347,
          0.022616759492228647,
          0.02773562614198415,
          0.03401304938279251,
          0.04171124612056518,
          0.051151780992931425,
          0.06272899858196247,
          0.07692649574879142,
          0.09433732216299774,
          0.1156887528316282,
          0.1418726674116596,
          0.1739828052930364,
          0.21336045265014109,
          0.2616504698748821,
          0.320869999737045,
          0.39349272630958493,
          0.48255220427412787,
          0.5917685748188825,
          0.7257039612324212,
          0.8899530352885229,
          1.0913767146512738,
          1.3383887531737564,
          1.6413071953751284,
          2.0127853758499383,
          2.4683404670686486,
          3.0270016537634614,
          3.7121050090663608,
          4.55226827550731,
          5.582586268862695,
          6.846096838574658,
          8.395578619995112,
          10.295755673125127,
          12.626001098748565,
          15.48365256585499,
          18.988078244652634,
          23.285662984981965,
          28.55592301990109,
          35.019004614317126,
          42.944879887892725,
          52.66462393484275,
          64.58424430196978,
          79.20164050192548,
          97.12740198471168,
          119.11031332830079,
          146.06863203649888,
          179.1284454622002,
          219.67070907932353,
          269.388930959017,
          330.35991201283395,
          405.1304969235378,
          496.8239594734388,
          609.2704661368674,
          747.1670675868082,
          916.2739011886731,
          1123.6548001387516,
          1377.9723598335568,
          1689.8497868124587,
          2072.3146452190294,
          2541.343036702639,
          3116.52694492943,
          3821.8926206331225,
          4686.904192314192,
          5747.694424835347,
          7048.574036451903,
          8643.882620598262,
          10600.258488068825,
          12999.42224413245,
          15941.590374559995,
          19549.661430912594,
          23974.349678010785,
          29400.480643347077,
          36054.71154250506,
          44214.99907374487,
          54222.21006501592,
          66494.35996665046,
          81544.07395185171,
          100000
         ],
         "xaxis": "x",
         "y": [
          -0.02072848634363764,
          -0.020726942334498472,
          -0.020725049376532856,
          -0.02072272874740023,
          -0.020719884035881767,
          -0.020716397202756885,
          -0.020712123782374494,
          -0.020706887046430606,
          -0.020700470919067522,
          -0.020692611396361367,
          -0.0206829861848807,
          -0.020671202235174182,
          -0.020656780810600593,
          -0.020639139706104606,
          -0.020617572225085354,
          -0.020591222550518554,
          -0.020559057231007535,
          -0.020519832674766758,
          -0.0204720588481791,
          -0.020413959866726405,
          -0.020343432915445343,
          -0.020258008023166806,
          -0.020154812718207484,
          -0.020030547567499536,
          -0.0198814810380083,
          -0.019703474888705122,
          -0.01949205407366336,
          -0.019242537294847727,
          -0.018950244905872556,
          -0.018610798458217514,
          -0.018220519076555197,
          -0.017776918167849733,
          -0.017279252070331135,
          -0.016729081530118064,
          -0.01613073921705893,
          -0.015491570332888392,
          -0.01482178598313741,
          -0.014133776534402356,
          -0.013440794728813963,
          -0.01275504819963565,
          -0.012085425774399524,
          -0.011435275184166763,
          -0.01080077848068622,
          -0.010170462813654168,
          -0.009526202316658051,
          -0.008845739197948942,
          -0.008106368444143029,
          -0.007289110528143581,
          -0.006382542065955273,
          -0.005385511295481274,
          -0.00430821227079009,
          -0.0031714558459578477,
          -0.002004359568362148,
          -0.0008409868221372015,
          0.0002833746527755291,
          0.001335624663460388,
          0.0022874610909549356,
          0.0031169654028878205,
          0.0038092061991949248,
          0.00435609083077618,
          0.004755765063672423,
          0.005011823911827445,
          0.005132496995218788,
          0.005129862560731925,
          0.005019067242184065,
          0.0048175020480575904,
          0.004543903850644164,
          0.004217395487125393,
          0.0038565223344164397,
          0.0034783705013776527,
          0.003097853621639225,
          0.0027272336604869207,
          0.002375904774737511,
          0.0020504291656288087,
          0.0017547801586264085,
          0.001490727167514441,
          0.0012582919081913033,
          0.0010562130502133748,
          0.0008823725063323048,
          0.0007341552151105362
         ],
         "yaxis": "y"
        },
        {
         "hovertemplate": "variable=pH^2<br>alphas=%{x}<br>value=%{y}<extra></extra>",
         "legendgroup": "pH^2",
         "line": {
          "color": "#FECB52",
          "dash": "solid"
         },
         "mode": "lines",
         "name": "pH^2",
         "showlegend": true,
         "type": "scattergl",
         "x": [
          0.01,
          0.012263306841775632,
          0.015038869469554102,
          0.018442627085855347,
          0.022616759492228647,
          0.02773562614198415,
          0.03401304938279251,
          0.04171124612056518,
          0.051151780992931425,
          0.06272899858196247,
          0.07692649574879142,
          0.09433732216299774,
          0.1156887528316282,
          0.1418726674116596,
          0.1739828052930364,
          0.21336045265014109,
          0.2616504698748821,
          0.320869999737045,
          0.39349272630958493,
          0.48255220427412787,
          0.5917685748188825,
          0.7257039612324212,
          0.8899530352885229,
          1.0913767146512738,
          1.3383887531737564,
          1.6413071953751284,
          2.0127853758499383,
          2.4683404670686486,
          3.0270016537634614,
          3.7121050090663608,
          4.55226827550731,
          5.582586268862695,
          6.846096838574658,
          8.395578619995112,
          10.295755673125127,
          12.626001098748565,
          15.48365256585499,
          18.988078244652634,
          23.285662984981965,
          28.55592301990109,
          35.019004614317126,
          42.944879887892725,
          52.66462393484275,
          64.58424430196978,
          79.20164050192548,
          97.12740198471168,
          119.11031332830079,
          146.06863203649888,
          179.1284454622002,
          219.67070907932353,
          269.388930959017,
          330.35991201283395,
          405.1304969235378,
          496.8239594734388,
          609.2704661368674,
          747.1670675868082,
          916.2739011886731,
          1123.6548001387516,
          1377.9723598335568,
          1689.8497868124587,
          2072.3146452190294,
          2541.343036702639,
          3116.52694492943,
          3821.8926206331225,
          4686.904192314192,
          5747.694424835347,
          7048.574036451903,
          8643.882620598262,
          10600.258488068825,
          12999.42224413245,
          15941.590374559995,
          19549.661430912594,
          23974.349678010785,
          29400.480643347077,
          36054.71154250506,
          44214.99907374487,
          54222.21006501592,
          66494.35996665046,
          81544.07395185171,
          100000
         ],
         "xaxis": "x",
         "y": [
          -0.036467082439255165,
          -0.03646636119303809,
          -0.03646547701741507,
          -0.036464393192660115,
          -0.036463064766629166,
          -0.03646143673074321,
          -0.036459441802664465,
          -0.036456997736336524,
          -0.03645400406674395,
          -0.03645033818278758,
          -0.03644585060771532,
          -0.036440359354200265,
          -0.036433643212745885,
          -0.03642543383127243,
          -0.03641540645598223,
          -0.03640316923648243,
          -0.036388251062085576,
          -0.036370088004373906,
          -0.03634800860869016,
          -0.03632121851968357,
          -0.03628878525350871,
          -0.036249624338099376,
          -0.036202488500435046,
          -0.03614596200323876,
          -0.03607846246699104,
          -0.03599825231018234,
          -0.03590346097739135,
          -0.03579211707498327,
          -0.03566218624469235,
          -0.03551160637840722,
          -0.035338307685882905,
          -0.03514020314457095,
          -0.03491513747181809,
          -0.03466079177199408,
          -0.03437455573238094,
          -0.03405339494378106,
          -0.03369374912426033,
          -0.033291488779199366,
          -0.03284192951229176,
          -0.03233986201861033,
          -0.03177952100755155,
          -0.0311544133605071,
          -0.03045697409024229,
          -0.02967811780214487,
          -0.02880687582302631,
          -0.027830404960022443,
          -0.026734668177560244,
          -0.025505984893779,
          -0.024133432866524935,
          -0.02261180386497202,
          -0.020944555244130074,
          -0.019146053384809746,
          -0.017242446131389654,
          -0.015270751080352649,
          -0.01327615294523364,
          -0.011307945446764134,
          -0.009414881169974357,
          -0.007640792267965676,
          -0.006021193500588502,
          -0.004581256789596982,
          -0.003335190066064864,
          -0.002286785110526993,
          -0.0014307753116504437,
          -0.0007546478874731984,
          -0.00024062812730838494,
          0.00013236199126072186,
          0.000386903510496468,
          0.0005455298330855404,
          0.0006294880659394271,
          0.0006578469059328333,
          0.0006469546577186242,
          0.0006102195247192589,
          0.0005581579045169841,
          0.000498639837474448,
          0.0004372561172487864,
          0.0003777379701472713,
          0.0003223744060663548,
          0.0002723900229787912,
          0.0002282631981900569,
          0.00018997849809405248
         ],
         "yaxis": "y"
        },
        {
         "hovertemplate": "variable=sulphates^2<br>alphas=%{x}<br>value=%{y}<extra></extra>",
         "legendgroup": "sulphates^2",
         "line": {
          "color": "#636efa",
          "dash": "solid"
         },
         "mode": "lines",
         "name": "sulphates^2",
         "showlegend": true,
         "type": "scattergl",
         "x": [
          0.01,
          0.012263306841775632,
          0.015038869469554102,
          0.018442627085855347,
          0.022616759492228647,
          0.02773562614198415,
          0.03401304938279251,
          0.04171124612056518,
          0.051151780992931425,
          0.06272899858196247,
          0.07692649574879142,
          0.09433732216299774,
          0.1156887528316282,
          0.1418726674116596,
          0.1739828052930364,
          0.21336045265014109,
          0.2616504698748821,
          0.320869999737045,
          0.39349272630958493,
          0.48255220427412787,
          0.5917685748188825,
          0.7257039612324212,
          0.8899530352885229,
          1.0913767146512738,
          1.3383887531737564,
          1.6413071953751284,
          2.0127853758499383,
          2.4683404670686486,
          3.0270016537634614,
          3.7121050090663608,
          4.55226827550731,
          5.582586268862695,
          6.846096838574658,
          8.395578619995112,
          10.295755673125127,
          12.626001098748565,
          15.48365256585499,
          18.988078244652634,
          23.285662984981965,
          28.55592301990109,
          35.019004614317126,
          42.944879887892725,
          52.66462393484275,
          64.58424430196978,
          79.20164050192548,
          97.12740198471168,
          119.11031332830079,
          146.06863203649888,
          179.1284454622002,
          219.67070907932353,
          269.388930959017,
          330.35991201283395,
          405.1304969235378,
          496.8239594734388,
          609.2704661368674,
          747.1670675868082,
          916.2739011886731,
          1123.6548001387516,
          1377.9723598335568,
          1689.8497868124587,
          2072.3146452190294,
          2541.343036702639,
          3116.52694492943,
          3821.8926206331225,
          4686.904192314192,
          5747.694424835347,
          7048.574036451903,
          8643.882620598262,
          10600.258488068825,
          12999.42224413245,
          15941.590374559995,
          19549.661430912594,
          23974.349678010785,
          29400.480643347077,
          36054.71154250506,
          44214.99907374487,
          54222.21006501592,
          66494.35996665046,
          81544.07395185171,
          100000
         ],
         "xaxis": "x",
         "y": [
          -0.06977381184057724,
          -0.06977230149664408,
          -0.0697704491299451,
          -0.0697681772370736,
          -0.06976539072658912,
          -0.06976197291505552,
          -0.06975778060536621,
          -0.06975263803403069,
          -0.06974632942312264,
          -0.0697385898089063,
          -0.06972909373921996,
          -0.06971744133130349,
          -0.06970314105527706,
          -0.06968558844890109,
          -0.06966403976795106,
          -0.06963757932300439,
          -0.06960507893566648,
          -0.06956514755275786,
          -0.06951606857489709,
          -0.069455721882573,
          -0.06938148688970325,
          -0.06929012226561496,
          -0.06917761734025342,
          -0.06903900983533308,
          -0.06886816477391254,
          -0.06865751072544002,
          -0.06839773267123242,
          -0.06807742664695439,
          -0.06768273092060365,
          -0.06719696257392625,
          -0.0666003071154667,
          -0.06586963117930397,
          -0.06497851194458408,
          -0.06389759745581411,
          -0.06259542370402284,
          -0.06103980963715109,
          -0.059199920774647065,
          -0.05704902482167009,
          -0.05456784915840986,
          -0.051748290221252845,
          -0.04859703917019036,
          -0.04513852578478827,
          -0.04141651366250701,
          -0.037493768812655884,
          -0.03344948959078987,
          -0.02937457666285266,
          -0.025365228024620417,
          -0.021515651332301003,
          -0.017910828940157456,
          -0.014620250375655487,
          -0.011693377067170352,
          -0.0091573546826344,
          -0.007017159046230286,
          -0.005257988584801532,
          -0.0038493709786682267,
          -0.0027502211199275585,
          -0.0019140306513253515,
          -0.0012934866951011532,
          -0.0008440540253134899,
          -0.0005263300983513203,
          -0.0003072230067057849,
          -0.00016016475494263585,
          -0.00006464609011571924,
          -0.0000053594078341691314,
          0.00002881043385151947,
          0.00004577477873065471,
          0.000051104701823153674,
          0.00004872211390211078,
          0.000041413161686582524,
          0.00003118509981340456,
          0.000019500761263820786,
          0.000007427234424391993,
          -0.000004269247274513964,
          -0.000015058495720004661,
          -0.000024596914803841863,
          -0.000032686162726616726,
          -0.00003923761155575232,
          -0.000044242655161818915,
          -0.00004774941529783495,
          -0.00004984588896944231
         ],
         "yaxis": "y"
        },
        {
         "hovertemplate": "variable=alcohol^2<br>alphas=%{x}<br>value=%{y}<extra></extra>",
         "legendgroup": "alcohol^2",
         "line": {
          "color": "#EF553B",
          "dash": "solid"
         },
         "mode": "lines",
         "name": "alcohol^2",
         "showlegend": true,
         "type": "scattergl",
         "x": [
          0.01,
          0.012263306841775632,
          0.015038869469554102,
          0.018442627085855347,
          0.022616759492228647,
          0.02773562614198415,
          0.03401304938279251,
          0.04171124612056518,
          0.051151780992931425,
          0.06272899858196247,
          0.07692649574879142,
          0.09433732216299774,
          0.1156887528316282,
          0.1418726674116596,
          0.1739828052930364,
          0.21336045265014109,
          0.2616504698748821,
          0.320869999737045,
          0.39349272630958493,
          0.48255220427412787,
          0.5917685748188825,
          0.7257039612324212,
          0.8899530352885229,
          1.0913767146512738,
          1.3383887531737564,
          1.6413071953751284,
          2.0127853758499383,
          2.4683404670686486,
          3.0270016537634614,
          3.7121050090663608,
          4.55226827550731,
          5.582586268862695,
          6.846096838574658,
          8.395578619995112,
          10.295755673125127,
          12.626001098748565,
          15.48365256585499,
          18.988078244652634,
          23.285662984981965,
          28.55592301990109,
          35.019004614317126,
          42.944879887892725,
          52.66462393484275,
          64.58424430196978,
          79.20164050192548,
          97.12740198471168,
          119.11031332830079,
          146.06863203649888,
          179.1284454622002,
          219.67070907932353,
          269.388930959017,
          330.35991201283395,
          405.1304969235378,
          496.8239594734388,
          609.2704661368674,
          747.1670675868082,
          916.2739011886731,
          1123.6548001387516,
          1377.9723598335568,
          1689.8497868124587,
          2072.3146452190294,
          2541.343036702639,
          3116.52694492943,
          3821.8926206331225,
          4686.904192314192,
          5747.694424835347,
          7048.574036451903,
          8643.882620598262,
          10600.258488068825,
          12999.42224413245,
          15941.590374559995,
          19549.661430912594,
          23974.349678010785,
          29400.480643347077,
          36054.71154250506,
          44214.99907374487,
          54222.21006501592,
          66494.35996665046,
          81544.07395185171,
          100000
         ],
         "xaxis": "x",
         "y": [
          0.051408486025191345,
          0.05140473567601908,
          0.05140013720461427,
          0.05139449900559753,
          0.051387586283766426,
          0.05137911136746819,
          0.051368721873953346,
          0.05135598626269408,
          0.0513403762185878,
          0.051321245197026466,
          0.051297802335924604,
          0.05126908079599959,
          0.05123389943144566,
          0.05119081652330322,
          0.05113807413616996,
          0.05107353150116471,
          0.05099458570996476,
          0.050898077965916604,
          0.05078018373767998,
          0.05063628548291047,
          0.05046082727014694,
          0.05024715177944583,
          0.049987321999590266,
          0.04967193269146808,
          0.04928992060893356,
          0.04882838781884238,
          0.04827245947104672,
          0.047605206196908924,
          0.04680767199742467,
          0.04585906083911906,
          0.044737148608459114,
          0.0434190001223868,
          0.041882080418885324,
          0.04010584961645795,
          0.038073911534709924,
          0.03577673486645463,
          0.033214868374331005,
          0.030402420736085487,
          0.027370378944031677,
          0.024169129087972724,
          0.020869382886293385,
          0.017560691393382087,
          0.014346936480955795,
          0.01133868274970814,
          0.008643001967074323,
          0.006352170992210532,
          0.0045332125368386135,
          0.0032203265546024147,
          0.00241173669357286,
          0.002071483914444678,
          0.00213557172868463,
          0.002520982764696132,
          0.0031356961933926074,
          0.0038879774923178023,
          0.004693735934784638,
          0.005481412955713286,
          0.006194457642093365,
          0.006791833220675585,
          0.007247152597253028,
          0.007547010847038204,
          0.007688950983268071,
          0.007679344031638123,
          0.007531335638415724,
          0.00726292818940785,
          0.0068952261984451995,
          0.006450859687579017,
          0.005952600796540618,
          0.0054221923559717635,
          0.004879408114536255,
          0.004341360961987795,
          0.0038220677605820875,
          0.003332267474643337,
          0.002879473728623955,
          0.0024682256913656415,
          0.0021004860262490792,
          0.0017761258496545324,
          0.0014934368927916218,
          0.001249620066356965,
          0.001041214394656834,
          0.00086444669909936
         ],
         "yaxis": "y"
        },
        {
         "hovertemplate": "variable=fixed acidity^3<br>alphas=%{x}<br>value=%{y}<extra></extra>",
         "legendgroup": "fixed acidity^3",
         "line": {
          "color": "#00cc96",
          "dash": "solid"
         },
         "mode": "lines",
         "name": "fixed acidity^3",
         "showlegend": true,
         "type": "scattergl",
         "x": [
          0.01,
          0.012263306841775632,
          0.015038869469554102,
          0.018442627085855347,
          0.022616759492228647,
          0.02773562614198415,
          0.03401304938279251,
          0.04171124612056518,
          0.051151780992931425,
          0.06272899858196247,
          0.07692649574879142,
          0.09433732216299774,
          0.1156887528316282,
          0.1418726674116596,
          0.1739828052930364,
          0.21336045265014109,
          0.2616504698748821,
          0.320869999737045,
          0.39349272630958493,
          0.48255220427412787,
          0.5917685748188825,
          0.7257039612324212,
          0.8899530352885229,
          1.0913767146512738,
          1.3383887531737564,
          1.6413071953751284,
          2.0127853758499383,
          2.4683404670686486,
          3.0270016537634614,
          3.7121050090663608,
          4.55226827550731,
          5.582586268862695,
          6.846096838574658,
          8.395578619995112,
          10.295755673125127,
          12.626001098748565,
          15.48365256585499,
          18.988078244652634,
          23.285662984981965,
          28.55592301990109,
          35.019004614317126,
          42.944879887892725,
          52.66462393484275,
          64.58424430196978,
          79.20164050192548,
          97.12740198471168,
          119.11031332830079,
          146.06863203649888,
          179.1284454622002,
          219.67070907932353,
          269.388930959017,
          330.35991201283395,
          405.1304969235378,
          496.8239594734388,
          609.2704661368674,
          747.1670675868082,
          916.2739011886731,
          1123.6548001387516,
          1377.9723598335568,
          1689.8497868124587,
          2072.3146452190294,
          2541.343036702639,
          3116.52694492943,
          3821.8926206331225,
          4686.904192314192,
          5747.694424835347,
          7048.574036451903,
          8643.882620598262,
          10600.258488068825,
          12999.42224413245,
          15941.590374559995,
          19549.661430912594,
          23974.349678010785,
          29400.480643347077,
          36054.71154250506,
          44214.99907374487,
          54222.21006501592,
          66494.35996665046,
          81544.07395185171,
          100000
         ],
         "xaxis": "x",
         "y": [
          0.02545430307121592,
          0.025454158513511713,
          0.025453981334197316,
          0.025453764198376274,
          0.025453498135318414,
          0.02545317218036991,
          0.025452772941874494,
          0.025452284079117572,
          0.025451685675615936,
          0.025450953490667855,
          0.025450058071392542,
          0.025448963708090654,
          0.02544762721860886,
          0.025445996553842855,
          0.02544400922853955,
          0.025441590601903593,
          0.025438652064832538,
          0.02543508923950602,
          0.025430780367982932,
          0.025425585164825088,
          0.02541934453852379,
          0.02541188174682718,
          0.025403005731109558,
          0.025392517545902726,
          0.025380220904360193,
          0.025365937802711586,
          0.02534952982692892,
          0.025330924910601963,
          0.025310147841288468,
          0.025287350633630898,
          0.025262836149452763,
          0.025237065545679952,
          0.025210638185225124,
          0.025184232801721728,
          0.02515850225542219,
          0.02513392201144166,
          0.025110604369205772,
          0.025088104761782394,
          0.025065259408010437,
          0.025040099588200658,
          0.02500988058934893,
          0.024971239353062325,
          0.024920457498883098,
          0.024853768555126155,
          0.02476762876320316,
          0.02465888429660366,
          0.02452481241929786,
          0.024363067653851475,
          0.024171593439479104,
          0.023948542200099662,
          0.02369218801433655,
          0.023400752720427204,
          0.02307204711678305,
          0.02270288556486536,
          0.02228835634732466,
          0.021821171568120867,
          0.021291409764882894,
          0.020686946846849717,
          0.019994732990596408,
          0.019202848728064773,
          0.01830302931040226,
          0.017293157254111305,
          0.016179149490940983,
          0.014975739783539164,
          0.01370587337128633,
          0.012398741738158137,
          0.01108680757298698,
          0.009802405949339649,
          0.00857458136873244,
          0.007426710794595367,
          0.006375216784697152,
          0.005429385903632792,
          0.004592072862647033,
          0.0038609494940517923,
          0.003229954459750433,
          0.002690677517187815,
          0.002233520417479034,
          0.001848574655524052,
          0.0015262243679456998,
          0.001257518583683086
         ],
         "yaxis": "y"
        },
        {
         "hovertemplate": "variable=volatile acidity^3<br>alphas=%{x}<br>value=%{y}<extra></extra>",
         "legendgroup": "volatile acidity^3",
         "line": {
          "color": "#ab63fa",
          "dash": "solid"
         },
         "mode": "lines",
         "name": "volatile acidity^3",
         "showlegend": true,
         "type": "scattergl",
         "x": [
          0.01,
          0.012263306841775632,
          0.015038869469554102,
          0.018442627085855347,
          0.022616759492228647,
          0.02773562614198415,
          0.03401304938279251,
          0.04171124612056518,
          0.051151780992931425,
          0.06272899858196247,
          0.07692649574879142,
          0.09433732216299774,
          0.1156887528316282,
          0.1418726674116596,
          0.1739828052930364,
          0.21336045265014109,
          0.2616504698748821,
          0.320869999737045,
          0.39349272630958493,
          0.48255220427412787,
          0.5917685748188825,
          0.7257039612324212,
          0.8899530352885229,
          1.0913767146512738,
          1.3383887531737564,
          1.6413071953751284,
          2.0127853758499383,
          2.4683404670686486,
          3.0270016537634614,
          3.7121050090663608,
          4.55226827550731,
          5.582586268862695,
          6.846096838574658,
          8.395578619995112,
          10.295755673125127,
          12.626001098748565,
          15.48365256585499,
          18.988078244652634,
          23.285662984981965,
          28.55592301990109,
          35.019004614317126,
          42.944879887892725,
          52.66462393484275,
          64.58424430196978,
          79.20164050192548,
          97.12740198471168,
          119.11031332830079,
          146.06863203649888,
          179.1284454622002,
          219.67070907932353,
          269.388930959017,
          330.35991201283395,
          405.1304969235378,
          496.8239594734388,
          609.2704661368674,
          747.1670675868082,
          916.2739011886731,
          1123.6548001387516,
          1377.9723598335568,
          1689.8497868124587,
          2072.3146452190294,
          2541.343036702639,
          3116.52694492943,
          3821.8926206331225,
          4686.904192314192,
          5747.694424835347,
          7048.574036451903,
          8643.882620598262,
          10600.258488068825,
          12999.42224413245,
          15941.590374559995,
          19549.661430912594,
          23974.349678010785,
          29400.480643347077,
          36054.71154250506,
          44214.99907374487,
          54222.21006501592,
          66494.35996665046,
          81544.07395185171,
          100000
         ],
         "xaxis": "x",
         "y": [
          -0.007490754216217001,
          -0.007490800613511433,
          -0.007490857521910579,
          -0.007490927325419833,
          -0.007491012950143192,
          -0.007491117988244231,
          -0.007491246850600958,
          -0.007491404954962268,
          -0.007491598958119881,
          -0.007491837042765885,
          -0.0074921292724740825,
          -0.007492488031803061,
          -0.00749292857313505,
          -0.007493469697892875,
          -0.007494134607694317,
          -0.007494951971484506,
          -0.007495957268623813,
          -0.007497194486521471,
          -0.007498718276341418,
          -0.007500596703667171,
          -0.0075029147755216385,
          -0.0075057789840115175,
          -0.007509323183632753,
          -0.00751371621710166,
          -0.0075191718248118255,
          -0.007525961512449417,
          -0.007534431197445304,
          -0.007545022578629125,
          -0.0075583002185810174,
          -0.007574985199864742,
          -0.007595995771730605,
          -0.007622494454966445,
          -0.007655939415452591,
          -0.00769813540459855,
          -0.007751276230308147,
          -0.007817966930513173,
          -0.007901210377921323,
          -0.008004341141986294,
          -0.00813089033447512,
          -0.008284369652417103,
          -0.00846797072115432,
          -0.00868418602936745,
          -0.008934369150818884,
          -0.009218264905097858,
          -0.009533556874076105,
          -0.009875502252357645,
          -0.010236749117765578,
          -0.010607445859705055,
          -0.010975735769358098,
          -0.011328664469350802,
          -0.011653417224195835,
          -0.011938680188032359,
          -0.012175837225077726,
          -0.012359717828306718,
          -0.012488712351275619,
          -0.01256423419498287,
          -0.012589673066235854,
          -0.01256909172104758,
          -0.012505944534857325,
          -0.01240205087639775,
          -0.012256974067583947,
          -0.012067873550888088,
          -0.011829834237642072,
          -0.011536633079058792,
          -0.011181864897523057,
          -0.010760302451910501,
          -0.010269306719601322,
          -0.009710048979877118,
          -0.009088288055863064,
          -0.008414494121891053,
          -0.0077032323006946315,
          -0.006971887388532464,
          -0.006238970112396419,
          -0.005522337432745024,
          -0.004837653213310639,
          -0.004197321051198931,
          -0.0036099812386564357,
          -0.003080530737593632,
          -0.0026105359594552854,
          -0.002198874831479774
         ],
         "yaxis": "y"
        },
        {
         "hovertemplate": "variable=citric acid^3<br>alphas=%{x}<br>value=%{y}<extra></extra>",
         "legendgroup": "citric acid^3",
         "line": {
          "color": "#FFA15A",
          "dash": "solid"
         },
         "mode": "lines",
         "name": "citric acid^3",
         "showlegend": true,
         "type": "scattergl",
         "x": [
          0.01,
          0.012263306841775632,
          0.015038869469554102,
          0.018442627085855347,
          0.022616759492228647,
          0.02773562614198415,
          0.03401304938279251,
          0.04171124612056518,
          0.051151780992931425,
          0.06272899858196247,
          0.07692649574879142,
          0.09433732216299774,
          0.1156887528316282,
          0.1418726674116596,
          0.1739828052930364,
          0.21336045265014109,
          0.2616504698748821,
          0.320869999737045,
          0.39349272630958493,
          0.48255220427412787,
          0.5917685748188825,
          0.7257039612324212,
          0.8899530352885229,
          1.0913767146512738,
          1.3383887531737564,
          1.6413071953751284,
          2.0127853758499383,
          2.4683404670686486,
          3.0270016537634614,
          3.7121050090663608,
          4.55226827550731,
          5.582586268862695,
          6.846096838574658,
          8.395578619995112,
          10.295755673125127,
          12.626001098748565,
          15.48365256585499,
          18.988078244652634,
          23.285662984981965,
          28.55592301990109,
          35.019004614317126,
          42.944879887892725,
          52.66462393484275,
          64.58424430196978,
          79.20164050192548,
          97.12740198471168,
          119.11031332830079,
          146.06863203649888,
          179.1284454622002,
          219.67070907932353,
          269.388930959017,
          330.35991201283395,
          405.1304969235378,
          496.8239594734388,
          609.2704661368674,
          747.1670675868082,
          916.2739011886731,
          1123.6548001387516,
          1377.9723598335568,
          1689.8497868124587,
          2072.3146452190294,
          2541.343036702639,
          3116.52694492943,
          3821.8926206331225,
          4686.904192314192,
          5747.694424835347,
          7048.574036451903,
          8643.882620598262,
          10600.258488068825,
          12999.42224413245,
          15941.590374559995,
          19549.661430912594,
          23974.349678010785,
          29400.480643347077,
          36054.71154250506,
          44214.99907374487,
          54222.21006501592,
          66494.35996665046,
          81544.07395185171,
          100000
         ],
         "xaxis": "x",
         "y": [
          -0.025336788920255985,
          -0.025335092949380394,
          -0.02533301394678808,
          -0.025330465632016897,
          -0.02532734240306557,
          -0.025323515066557882,
          -0.025318825652895654,
          -0.025313081134635946,
          -0.025306045837550157,
          -0.025297432304320994,
          -0.025286890343156055,
          -0.02527399397188329,
          -0.025258225958813857,
          -0.025238959674713894,
          -0.025215438019773304,
          -0.025186749295298405,
          -0.02515180007792816,
          -0.02510928545626357,
          -0.02505765744076444,
          -0.024995092987344848,
          -0.024919463892455956,
          -0.024828311781848758,
          -0.024718832390760854,
          -0.024587874026005763,
          -0.024431954988326288,
          -0.024247303022227416,
          -0.02402991553356108,
          -0.023775631386118504,
          -0.023480193182773963,
          -0.023139264251718892,
          -0.022748351010556726,
          -0.022302576317571855,
          -0.02179626282364336,
          -0.021222326467286546,
          -0.020571551666534252,
          -0.019831910792425907,
          -0.01898817438330881,
          -0.018022097395040643,
          -0.01691342552371339,
          -0.015641830348464537,
          -0.014189673439871717,
          -0.012545272677198517,
          -0.010706170544723427,
          -0.008681843806668777,
          -0.006495367926980194,
          -0.004183730732649036,
          -0.001796715246895963,
          0.0006055274831493879,
          0.0029559618895386467,
          0.005184892209222385,
          0.007224592739242894,
          0.00901399724284247,
          0.010503077883078596,
          0.011656516150535017,
          0.012456260351324001,
          0.012902610732570537,
          0.013013605152477029,
          0.012822703641362605,
          0.012375055081433325,
          0.011722894712717764,
          0.010920772845361236,
          0.010021292304361962,
          0.009071844140647442,
          0.008112553811205738,
          0.0071753842970823855,
          0.006284164861370524,
          0.00545524851888199,
          0.004698524449754498,
          0.0040185782625088064,
          0.0034158629206933588,
          0.002887795512850833,
          0.0024297280817083956,
          0.0020357622203183053,
          0.0016993946641511006,
          0.0014139973589668065,
          0.0011731490870914446,
          0.0009708444043086398,
          0.0008016085508815338,
          0.0006605451881771578,
          0.0005433392726041298
         ],
         "yaxis": "y"
        },
        {
         "hovertemplate": "variable=residual sugar^3<br>alphas=%{x}<br>value=%{y}<extra></extra>",
         "legendgroup": "residual sugar^3",
         "line": {
          "color": "#19d3f3",
          "dash": "solid"
         },
         "mode": "lines",
         "name": "residual sugar^3",
         "showlegend": true,
         "type": "scattergl",
         "x": [
          0.01,
          0.012263306841775632,
          0.015038869469554102,
          0.018442627085855347,
          0.022616759492228647,
          0.02773562614198415,
          0.03401304938279251,
          0.04171124612056518,
          0.051151780992931425,
          0.06272899858196247,
          0.07692649574879142,
          0.09433732216299774,
          0.1156887528316282,
          0.1418726674116596,
          0.1739828052930364,
          0.21336045265014109,
          0.2616504698748821,
          0.320869999737045,
          0.39349272630958493,
          0.48255220427412787,
          0.5917685748188825,
          0.7257039612324212,
          0.8899530352885229,
          1.0913767146512738,
          1.3383887531737564,
          1.6413071953751284,
          2.0127853758499383,
          2.4683404670686486,
          3.0270016537634614,
          3.7121050090663608,
          4.55226827550731,
          5.582586268862695,
          6.846096838574658,
          8.395578619995112,
          10.295755673125127,
          12.626001098748565,
          15.48365256585499,
          18.988078244652634,
          23.285662984981965,
          28.55592301990109,
          35.019004614317126,
          42.944879887892725,
          52.66462393484275,
          64.58424430196978,
          79.20164050192548,
          97.12740198471168,
          119.11031332830079,
          146.06863203649888,
          179.1284454622002,
          219.67070907932353,
          269.388930959017,
          330.35991201283395,
          405.1304969235378,
          496.8239594734388,
          609.2704661368674,
          747.1670675868082,
          916.2739011886731,
          1123.6548001387516,
          1377.9723598335568,
          1689.8497868124587,
          2072.3146452190294,
          2541.343036702639,
          3116.52694492943,
          3821.8926206331225,
          4686.904192314192,
          5747.694424835347,
          7048.574036451903,
          8643.882620598262,
          10600.258488068825,
          12999.42224413245,
          15941.590374559995,
          19549.661430912594,
          23974.349678010785,
          29400.480643347077,
          36054.71154250506,
          44214.99907374487,
          54222.21006501592,
          66494.35996665046,
          81544.07395185171,
          100000
         ],
         "xaxis": "x",
         "y": [
          0.0032426225450835214,
          0.003242592579751141,
          0.003242555820151404,
          0.003242510722411546,
          0.0032424553901691977,
          0.0032423874932632608,
          0.003242304167268511,
          0.0032422018891649323,
          0.00324207632319491,
          0.003241922129356059,
          0.003241732724897021,
          0.003241499986461732,
          0.0032412138769800252,
          0.003240861976736477,
          0.0032404288919559918,
          0.0032398955063048613,
          0.0032392380304593483,
          0.003238426791924521,
          0.0032374246912966614,
          0.003236185232343799,
          0.0032346500127664168,
          0.003232745543267708,
          0.0032303792506168196,
          0.0032274345264965225,
          0.0032237647253104697,
          0.0032191861154686817,
          0.003213469980679474,
          0.0032063343805963517,
          0.0031974365288838214,
          0.003186367308074194,
          0.003172650025625538,
          0.003155745953736208,
          0.003135069252464986,
          0.0031100133246625165,
          0.0030799893859339675,
          0.003044476162851726,
          0.0030030774692279306,
          0.0029555822997909833,
          0.0029020201803152817,
          0.0028427027445186628,
          0.002778240884699869,
          0.0027095260421485627,
          0.002637665972964598,
          0.002563871801157356,
          0.0024893053838931783,
          0.0024149120550143867,
          0.0023412781346487175,
          0.002268557476367375,
          0.0021965004682353733,
          0.002124591680845341,
          0.0020522662440295805,
          0.00197914395197691,
          0.0019052083249978262,
          0.0018308723877440412,
          0.0017569089744548041,
          0.0016842663877400252,
          0.001613823462366266,
          0.0015461508695708331,
          0.0014813372214409028,
          0.001418916508014357,
          0.0013579073158865881,
          0.0012969514067107998,
          0.001234522811110533,
          0.0011691690001009564,
          0.0010997424747794255,
          0.0010255841380514734,
          0.0009466291150938949,
          0.0008634204880490065,
          0.0007770342538102216,
          0.0006889356726509992,
          0.0006007986587160657,
          0.0005143229960580189,
          0.00043107873566358105,
          0.00035239580418294623,
          0.00027930393208228137,
          0.00021251750386927363,
          0.00015245404040305002,
          0.00009927370314225205,
          0.00005292889868287244,
          0.000013215858618949333
         ],
         "yaxis": "y"
        },
        {
         "hovertemplate": "variable=chlorides^3<br>alphas=%{x}<br>value=%{y}<extra></extra>",
         "legendgroup": "chlorides^3",
         "line": {
          "color": "#FF6692",
          "dash": "solid"
         },
         "mode": "lines",
         "name": "chlorides^3",
         "showlegend": true,
         "type": "scattergl",
         "x": [
          0.01,
          0.012263306841775632,
          0.015038869469554102,
          0.018442627085855347,
          0.022616759492228647,
          0.02773562614198415,
          0.03401304938279251,
          0.04171124612056518,
          0.051151780992931425,
          0.06272899858196247,
          0.07692649574879142,
          0.09433732216299774,
          0.1156887528316282,
          0.1418726674116596,
          0.1739828052930364,
          0.21336045265014109,
          0.2616504698748821,
          0.320869999737045,
          0.39349272630958493,
          0.48255220427412787,
          0.5917685748188825,
          0.7257039612324212,
          0.8899530352885229,
          1.0913767146512738,
          1.3383887531737564,
          1.6413071953751284,
          2.0127853758499383,
          2.4683404670686486,
          3.0270016537634614,
          3.7121050090663608,
          4.55226827550731,
          5.582586268862695,
          6.846096838574658,
          8.395578619995112,
          10.295755673125127,
          12.626001098748565,
          15.48365256585499,
          18.988078244652634,
          23.285662984981965,
          28.55592301990109,
          35.019004614317126,
          42.944879887892725,
          52.66462393484275,
          64.58424430196978,
          79.20164050192548,
          97.12740198471168,
          119.11031332830079,
          146.06863203649888,
          179.1284454622002,
          219.67070907932353,
          269.388930959017,
          330.35991201283395,
          405.1304969235378,
          496.8239594734388,
          609.2704661368674,
          747.1670675868082,
          916.2739011886731,
          1123.6548001387516,
          1377.9723598335568,
          1689.8497868124587,
          2072.3146452190294,
          2541.343036702639,
          3116.52694492943,
          3821.8926206331225,
          4686.904192314192,
          5747.694424835347,
          7048.574036451903,
          8643.882620598262,
          10600.258488068825,
          12999.42224413245,
          15941.590374559995,
          19549.661430912594,
          23974.349678010785,
          29400.480643347077,
          36054.71154250506,
          44214.99907374487,
          54222.21006501592,
          66494.35996665046,
          81544.07395185171,
          100000
         ],
         "xaxis": "x",
         "y": [
          -0.020587874964912694,
          -0.02058703296904724,
          -0.0205860005604371,
          -0.020584734721758823,
          -0.020583182739265578,
          -0.020581280028148793,
          -0.020578947475754488,
          -0.02057608819850327,
          -0.020572583587386485,
          -0.02056828849224441,
          -0.02056302536676306,
          -0.02055657716413533,
          -0.02054867873813672,
          -0.02053900646724992,
          -0.02052716578264088,
          -0.020512676248513134,
          -0.020494953822345265,
          -0.020473289923303547,
          -0.02044682697610806,
          -0.020414530198042256,
          -0.020375155592377046,
          -0.020327214447357262,
          -0.020268935174464865,
          -0.02019822412281891,
          -0.020112628151683954,
          -0.020009303288882428,
          -0.01988499575731326,
          -0.01973604391092989,
          -0.01955841188107923,
          -0.019347767381600548,
          -0.019099616146491392,
          -0.018809502482262656,
          -0.01847327787357629,
          -0.018087426442037535,
          -0.017649417838734995,
          -0.017158038187679612,
          -0.0166136348789034,
          -0.016018210823172563,
          -0.015375326699304935,
          -0.014689817353251188,
          -0.013967390222618165,
          -0.013214226236176109,
          -0.012436719084365434,
          -0.01164144870603949,
          -0.010835394103539604,
          -0.010026280783749097,
          -0.009222876681477001,
          -0.00843503889506874,
          -0.007673385560932181,
          -0.006948598257920547,
          -0.006270496882407134,
          -0.005647113449669739,
          -0.005083990718779737,
          -0.004583852640768468,
          -0.004146676228402892,
          -0.0037700881642571482,
          -0.003449949196355221,
          -0.0031809834308081184,
          -0.0029573437933518216,
          -0.002773055462827927,
          -0.0026223251889833207,
          -0.0024997345872997323,
          -0.0024003476801040093,
          -0.0023197612870873687,
          -0.002254118028022712,
          -0.002200092025924706,
          -0.002154851188102375,
          -0.0021159986890847172,
          -0.0020814988199748786,
          -0.002049595943675134,
          -0.002018737174662863,
          -0.0019875082952974235,
          -0.001954588917493167,
          -0.00191872879242958,
          -0.0018787442293448462,
          -0.0018335325745256644,
          -0.0017821031545851543,
          -0.0017236237420210293,
          -0.0016574811228183247,
          -0.001583351952650525
         ],
         "yaxis": "y"
        },
        {
         "hovertemplate": "variable=free sulfur dioxide^3<br>alphas=%{x}<br>value=%{y}<extra></extra>",
         "legendgroup": "free sulfur dioxide^3",
         "line": {
          "color": "#B6E880",
          "dash": "solid"
         },
         "mode": "lines",
         "name": "free sulfur dioxide^3",
         "showlegend": true,
         "type": "scattergl",
         "x": [
          0.01,
          0.012263306841775632,
          0.015038869469554102,
          0.018442627085855347,
          0.022616759492228647,
          0.02773562614198415,
          0.03401304938279251,
          0.04171124612056518,
          0.051151780992931425,
          0.06272899858196247,
          0.07692649574879142,
          0.09433732216299774,
          0.1156887528316282,
          0.1418726674116596,
          0.1739828052930364,
          0.21336045265014109,
          0.2616504698748821,
          0.320869999737045,
          0.39349272630958493,
          0.48255220427412787,
          0.5917685748188825,
          0.7257039612324212,
          0.8899530352885229,
          1.0913767146512738,
          1.3383887531737564,
          1.6413071953751284,
          2.0127853758499383,
          2.4683404670686486,
          3.0270016537634614,
          3.7121050090663608,
          4.55226827550731,
          5.582586268862695,
          6.846096838574658,
          8.395578619995112,
          10.295755673125127,
          12.626001098748565,
          15.48365256585499,
          18.988078244652634,
          23.285662984981965,
          28.55592301990109,
          35.019004614317126,
          42.944879887892725,
          52.66462393484275,
          64.58424430196978,
          79.20164050192548,
          97.12740198471168,
          119.11031332830079,
          146.06863203649888,
          179.1284454622002,
          219.67070907932353,
          269.388930959017,
          330.35991201283395,
          405.1304969235378,
          496.8239594734388,
          609.2704661368674,
          747.1670675868082,
          916.2739011886731,
          1123.6548001387516,
          1377.9723598335568,
          1689.8497868124587,
          2072.3146452190294,
          2541.343036702639,
          3116.52694492943,
          3821.8926206331225,
          4686.904192314192,
          5747.694424835347,
          7048.574036451903,
          8643.882620598262,
          10600.258488068825,
          12999.42224413245,
          15941.590374559995,
          19549.661430912594,
          23974.349678010785,
          29400.480643347077,
          36054.71154250506,
          44214.99907374487,
          54222.21006501592,
          66494.35996665046,
          81544.07395185171,
          100000
         ],
         "xaxis": "x",
         "y": [
          -0.008678187169101622,
          -0.008678339708913274,
          -0.008678526729562342,
          -0.008678756013189787,
          -0.008679037092257804,
          -0.008679381640177038,
          -0.008679803947589609,
          -0.008680321502316632,
          -0.008680955694395748,
          -0.008681732671472086,
          -0.008682684374055451,
          -0.008683849784651546,
          -0.008685276429282957,
          -0.008687022173988559,
          -0.00868915736178271,
          -0.008691767336206753,
          -0.008694955394357044,
          -0.00869884620281104,
          -0.008703589691116844,
          -0.008709365405362502,
          -0.008716387253932293,
          -0.008724908503335205,
          -0.008735226778315883,
          -0.008747688682415398,
          -0.008762693478973613,
          -0.008780695054966132,
          -0.008802201124105841,
          -0.008827768290287698,
          -0.008857991134161542,
          -0.008893482794299771,
          -0.008934843408976796,
          -0.008982611040992015,
          -0.009037187178850006,
          -0.009098725774182508,
          -0.009166971912137934,
          -0.00924103553000561,
          -0.009319090105804223,
          -0.009397999490416928,
          -0.00947290080214758,
          -0.009536807361741999,
          -0.009580337520483744,
          -0.009591710478903549,
          -0.009557160134961428,
          -0.00946188244790074,
          -0.009291538221376336,
          -0.009034187985992585,
          -0.008682371700621251,
          -0.00823491941623927,
          -0.007698051001967812,
          -0.007085430672536794,
          -0.00641707230084843,
          -0.005717275370883173,
          -0.005012008918699831,
          -0.004326267172334089,
          -0.003681867399870001,
          -0.0030959855068505506,
          -0.0025805064325903166,
          -0.002142081335147606,
          -0.0017826765638133855,
          -0.0015003759566507742,
          -0.001290236714179569,
          -0.0011450696050765842,
          -0.0010560897109107258,
          -0.0010134456936599322,
          -0.0010066730261655255,
          -0.0010251258846655465,
          -0.0010584261314116289,
          -0.0010969352247017594,
          -0.0011322198594031206,
          -0.001157458466702277,
          -0.001167731381977209,
          -0.0011601517118185803,
          -0.0011338190818416989,
          -0.0010896054628100654,
          -0.0010298050976454817,
          -0.0009576968358078977,
          -0.00087707612085965,
          -0.0007918143619416528,
          -0.0007054944824756786,
          -0.0006211541295471716
         ],
         "yaxis": "y"
        },
        {
         "hovertemplate": "variable=total sulfur dioxide^3<br>alphas=%{x}<br>value=%{y}<extra></extra>",
         "legendgroup": "total sulfur dioxide^3",
         "line": {
          "color": "#FF97FF",
          "dash": "solid"
         },
         "mode": "lines",
         "name": "total sulfur dioxide^3",
         "showlegend": true,
         "type": "scattergl",
         "x": [
          0.01,
          0.012263306841775632,
          0.015038869469554102,
          0.018442627085855347,
          0.022616759492228647,
          0.02773562614198415,
          0.03401304938279251,
          0.04171124612056518,
          0.051151780992931425,
          0.06272899858196247,
          0.07692649574879142,
          0.09433732216299774,
          0.1156887528316282,
          0.1418726674116596,
          0.1739828052930364,
          0.21336045265014109,
          0.2616504698748821,
          0.320869999737045,
          0.39349272630958493,
          0.48255220427412787,
          0.5917685748188825,
          0.7257039612324212,
          0.8899530352885229,
          1.0913767146512738,
          1.3383887531737564,
          1.6413071953751284,
          2.0127853758499383,
          2.4683404670686486,
          3.0270016537634614,
          3.7121050090663608,
          4.55226827550731,
          5.582586268862695,
          6.846096838574658,
          8.395578619995112,
          10.295755673125127,
          12.626001098748565,
          15.48365256585499,
          18.988078244652634,
          23.285662984981965,
          28.55592301990109,
          35.019004614317126,
          42.944879887892725,
          52.66462393484275,
          64.58424430196978,
          79.20164050192548,
          97.12740198471168,
          119.11031332830079,
          146.06863203649888,
          179.1284454622002,
          219.67070907932353,
          269.388930959017,
          330.35991201283395,
          405.1304969235378,
          496.8239594734388,
          609.2704661368674,
          747.1670675868082,
          916.2739011886731,
          1123.6548001387516,
          1377.9723598335568,
          1689.8497868124587,
          2072.3146452190294,
          2541.343036702639,
          3116.52694492943,
          3821.8926206331225,
          4686.904192314192,
          5747.694424835347,
          7048.574036451903,
          8643.882620598262,
          10600.258488068825,
          12999.42224413245,
          15941.590374559995,
          19549.661430912594,
          23974.349678010785,
          29400.480643347077,
          36054.71154250506,
          44214.99907374487,
          54222.21006501592,
          66494.35996665046,
          81544.07395185171,
          100000
         ],
         "xaxis": "x",
         "y": [
          0.009688999901151185,
          0.009688262202219765,
          0.009687357545301279,
          0.009686248145720888,
          0.009684887668559655,
          0.009683219294304914,
          0.00968117334717613,
          0.009678664387370342,
          0.009675587646348727,
          0.009671814657127653,
          0.009667187898487663,
          0.009661514231722717,
          0.009654556859623116,
          0.009646025478227434,
          0.009635564220662078,
          0.00962273690751775,
          0.0096070090182065,
          0.009587725682094869,
          0.00956408485849138,
          0.009535104735616105,
          0.00949958424228923,
          0.009456055454613352,
          0.009402726633272086,
          0.009337414711452977,
          0.009257466371882295,
          0.00915966755423214,
          0.009040142523636729,
          0.008894245752026268,
          0.008716453068206498,
          0.00850026300504107,
          0.008238125016188895,
          0.00792141793014505,
          0.007540508867999942,
          0.007084928499709915,
          0.006543700893314568,
          0.005905862494901658,
          0.00516119141275806,
          0.00430114147800739,
          0.0033199334554684986,
          0.0022157010453097235,
          0.0009915329981634,
          -0.0003437851320441078,
          -0.0017755214069213386,
          -0.0032833685454419833,
          -0.004842446355934617,
          -0.006424804618911365,
          -0.008001177269990965,
          -0.009542688031118931,
          -0.011022243395169091,
          -0.012415455517923337,
          -0.013701073097794673,
          -0.014861014266589834,
          -0.015880157504784494,
          -0.016746046134660336,
          -0.017448616113093673,
          -0.017979997700487887,
          -0.018334400212413577,
          -0.018508081127895103,
          -0.01849942015021045,
          -0.018309141886565485,
          -0.01794072961450821,
          -0.01740102930516972,
          -0.01670096040320348,
          -0.015856153587447526,
          -0.014887267985152582,
          -0.01381974393059859,
          -0.01268284453907425,
          -0.011508013641686387,
          -0.01032677223766018,
          -0.009168515618366109,
          -0.008058602702368892,
          -0.007017040249874347,
          -0.006057899962085612,
          -0.005189432630852779,
          -0.004414716842155051,
          -0.0037326250041429037,
          -0.003138899514422015,
          -0.0026271815136611654,
          -0.0021898966292039973,
          -0.0018189570579653313
         ],
         "yaxis": "y"
        },
        {
         "hovertemplate": "variable=density^3<br>alphas=%{x}<br>value=%{y}<extra></extra>",
         "legendgroup": "density^3",
         "line": {
          "color": "#FECB52",
          "dash": "solid"
         },
         "mode": "lines",
         "name": "density^3",
         "showlegend": true,
         "type": "scattergl",
         "x": [
          0.01,
          0.012263306841775632,
          0.015038869469554102,
          0.018442627085855347,
          0.022616759492228647,
          0.02773562614198415,
          0.03401304938279251,
          0.04171124612056518,
          0.051151780992931425,
          0.06272899858196247,
          0.07692649574879142,
          0.09433732216299774,
          0.1156887528316282,
          0.1418726674116596,
          0.1739828052930364,
          0.21336045265014109,
          0.2616504698748821,
          0.320869999737045,
          0.39349272630958493,
          0.48255220427412787,
          0.5917685748188825,
          0.7257039612324212,
          0.8899530352885229,
          1.0913767146512738,
          1.3383887531737564,
          1.6413071953751284,
          2.0127853758499383,
          2.4683404670686486,
          3.0270016537634614,
          3.7121050090663608,
          4.55226827550731,
          5.582586268862695,
          6.846096838574658,
          8.395578619995112,
          10.295755673125127,
          12.626001098748565,
          15.48365256585499,
          18.988078244652634,
          23.285662984981965,
          28.55592301990109,
          35.019004614317126,
          42.944879887892725,
          52.66462393484275,
          64.58424430196978,
          79.20164050192548,
          97.12740198471168,
          119.11031332830079,
          146.06863203649888,
          179.1284454622002,
          219.67070907932353,
          269.388930959017,
          330.35991201283395,
          405.1304969235378,
          496.8239594734388,
          609.2704661368674,
          747.1670675868082,
          916.2739011886731,
          1123.6548001387516,
          1377.9723598335568,
          1689.8497868124587,
          2072.3146452190294,
          2541.343036702639,
          3116.52694492943,
          3821.8926206331225,
          4686.904192314192,
          5747.694424835347,
          7048.574036451903,
          8643.882620598262,
          10600.258488068825,
          12999.42224413245,
          15941.590374559995,
          19549.661430912594,
          23974.349678010785,
          29400.480643347077,
          36054.71154250506,
          44214.99907374487,
          54222.21006501592,
          66494.35996665046,
          81544.07395185171,
          100000
         ],
         "xaxis": "x",
         "y": [
          -0.005004259087663981,
          -0.005004004226687753,
          -0.005003691864937538,
          -0.005003309079739673,
          -0.005002840069538477,
          -0.005002265525290099,
          -0.005001561871011061,
          -0.005000700349531361,
          -0.004999645926789363,
          -0.004998355986059311,
          -0.004996778782954662,
          -0.004994851634131579,
          -0.004992498819078386,
          -0.004989629187744695,
          -0.004986133490765289,
          -0.004981881488620876,
          -0.004976718957913352,
          -0.004970464805244412,
          -0.004962908631199771,
          -0.00495380926767252,
          -0.00494289504638334,
          -0.004929866840836845,
          -0.004914405235154021,
          -0.004896183456579351,
          -0.004874887863672636,
          -0.0048502476545291915,
          -0.004822074850947821,
          -0.004790314336984308,
          -0.0047551017226830075,
          -0.0047168243182389635,
          -0.004676178309116336,
          -0.004634214677776527,
          -0.004592369188088048,
          -0.004552478966654057,
          -0.00451679916913956,
          -0.004488044162025464,
          -0.00446948177927158,
          -0.004465098764974079,
          -0.004479825928975902,
          -0.004519766159776846,
          -0.004592321001879494,
          -0.004706083938853094,
          -0.004870383187968328,
          -0.005094425348257783,
          -0.005386104881809398,
          -0.005750671403712353,
          -0.006189540400962487,
          -0.00669954899457639,
          -0.007272875281562423,
          -0.007897673275477815,
          -0.008559277370121148,
          -0.009241669995550915,
          -0.009928841082016285,
          -0.010605718130903089,
          -0.011258487440640884,
          -0.011874308438295336,
          -0.012440589792784076,
          -0.012944110665963092,
          -0.013370316750568224,
          -0.013703096282868607,
          -0.013925250351358375,
          -0.01401972516329407,
          -0.013971493025736994,
          -0.013769789059247178,
          -0.013410277163021123,
          -0.012896674432897841,
          -0.012241433296321332,
          -0.011465259187440912,
          -0.010595487470257214,
          -0.009663589696183668,
          -0.008702255708221519,
          -0.0077425563369083565,
          -0.006811623194750514,
          -0.005931120261259551,
          -0.005116584912555858,
          -0.004377543063365054,
          -0.003718193183401747,
          -0.003138417219559407,
          -0.002634898958371941,
          -0.0022021865898774282
         ],
         "yaxis": "y"
        },
        {
         "hovertemplate": "variable=pH^3<br>alphas=%{x}<br>value=%{y}<extra></extra>",
         "legendgroup": "pH^3",
         "line": {
          "color": "#636efa",
          "dash": "solid"
         },
         "mode": "lines",
         "name": "pH^3",
         "showlegend": true,
         "type": "scattergl",
         "x": [
          0.01,
          0.012263306841775632,
          0.015038869469554102,
          0.018442627085855347,
          0.022616759492228647,
          0.02773562614198415,
          0.03401304938279251,
          0.04171124612056518,
          0.051151780992931425,
          0.06272899858196247,
          0.07692649574879142,
          0.09433732216299774,
          0.1156887528316282,
          0.1418726674116596,
          0.1739828052930364,
          0.21336045265014109,
          0.2616504698748821,
          0.320869999737045,
          0.39349272630958493,
          0.48255220427412787,
          0.5917685748188825,
          0.7257039612324212,
          0.8899530352885229,
          1.0913767146512738,
          1.3383887531737564,
          1.6413071953751284,
          2.0127853758499383,
          2.4683404670686486,
          3.0270016537634614,
          3.7121050090663608,
          4.55226827550731,
          5.582586268862695,
          6.846096838574658,
          8.395578619995112,
          10.295755673125127,
          12.626001098748565,
          15.48365256585499,
          18.988078244652634,
          23.285662984981965,
          28.55592301990109,
          35.019004614317126,
          42.944879887892725,
          52.66462393484275,
          64.58424430196978,
          79.20164050192548,
          97.12740198471168,
          119.11031332830079,
          146.06863203649888,
          179.1284454622002,
          219.67070907932353,
          269.388930959017,
          330.35991201283395,
          405.1304969235378,
          496.8239594734388,
          609.2704661368674,
          747.1670675868082,
          916.2739011886731,
          1123.6548001387516,
          1377.9723598335568,
          1689.8497868124587,
          2072.3146452190294,
          2541.343036702639,
          3116.52694492943,
          3821.8926206331225,
          4686.904192314192,
          5747.694424835347,
          7048.574036451903,
          8643.882620598262,
          10600.258488068825,
          12999.42224413245,
          15941.590374559995,
          19549.661430912594,
          23974.349678010785,
          29400.480643347077,
          36054.71154250506,
          44214.99907374487,
          54222.21006501592,
          66494.35996665046,
          81544.07395185171,
          100000
         ],
         "xaxis": "x",
         "y": [
          0.0062059895717471916,
          0.00620552125372241,
          0.006204947142418479,
          0.006204243394847941,
          0.006203380822457864,
          0.006202323706713854,
          0.006201028359294008,
          0.006199441375373066,
          0.006197497519860743,
          0.00619511717739413,
          0.006192203287869689,
          0.006188637681353359,
          0.006184276720893527,
          0.006178946161511715,
          0.006172435142123194,
          0.006164489249489709,
          0.00615480263664212,
          0.006143009251717799,
          0.006128673347830526,
          0.006111279612241701,
          0.00609022348334917,
          0.006064802519106255,
          0.006034210026124047,
          0.005997532510914384,
          0.005953752784026148,
          0.005901760586380966,
          0.005840372211262377,
          0.005768359544268255,
          0.005684487097659263,
          0.005587553086820734,
          0.005476427955975002,
          0.005350082171561655,
          0.005207596191191873,
          0.005048150796494539,
          0.004871005835000106,
          0.004675488024290655,
          0.0044610193221738025,
          0.004227220027696509,
          0.003974109007719073,
          0.0037023941701073413,
          0.0034138026743583444,
          0.003111353900393588,
          0.002799448478995884,
          0.0024836564575849694,
          0.0021701520883981224,
          0.001864855928502874,
          0.0015724724963445194,
          0.001295698506670947,
          0.001034871844421977,
          0.0007882184545884944,
          0.0005526666509930424,
          0.0003250076583788177,
          0.00010306384196923756,
          -0.00011347274244172643,
          -0.0003227535056344356,
          -0.0005210786693499226,
          -0.0007036554002362164,
          -0.0008655513601008071,
          -0.0010025630949645234,
          -0.001111788624794901,
          -0.0011918242412524273,
          -0.0012426447602719773,
          -0.0012653198597931457,
          -0.0012617317768337424,
          -0.001234394721466689,
          -0.0011863765703446403,
          -0.0011212478971465909,
          -0.0010429715706079421,
          -0.0009556938862171562,
          -0.0008634653662643107,
          -0.0007699616541068238,
          -0.0006782733330415402,
          -0.0005907999664049358,
          -0.000509244456344638,
          -0.0004346789781625918,
          -0.0003676480662388023,
          -0.0003082814991019316,
          -0.00025640052250438443,
          -0.00021160991974791008,
          -0.00017337385036632246
         ],
         "yaxis": "y"
        },
        {
         "hovertemplate": "variable=sulphates^3<br>alphas=%{x}<br>value=%{y}<extra></extra>",
         "legendgroup": "sulphates^3",
         "line": {
          "color": "#EF553B",
          "dash": "solid"
         },
         "mode": "lines",
         "name": "sulphates^3",
         "showlegend": true,
         "type": "scattergl",
         "x": [
          0.01,
          0.012263306841775632,
          0.015038869469554102,
          0.018442627085855347,
          0.022616759492228647,
          0.02773562614198415,
          0.03401304938279251,
          0.04171124612056518,
          0.051151780992931425,
          0.06272899858196247,
          0.07692649574879142,
          0.09433732216299774,
          0.1156887528316282,
          0.1418726674116596,
          0.1739828052930364,
          0.21336045265014109,
          0.2616504698748821,
          0.320869999737045,
          0.39349272630958493,
          0.48255220427412787,
          0.5917685748188825,
          0.7257039612324212,
          0.8899530352885229,
          1.0913767146512738,
          1.3383887531737564,
          1.6413071953751284,
          2.0127853758499383,
          2.4683404670686486,
          3.0270016537634614,
          3.7121050090663608,
          4.55226827550731,
          5.582586268862695,
          6.846096838574658,
          8.395578619995112,
          10.295755673125127,
          12.626001098748565,
          15.48365256585499,
          18.988078244652634,
          23.285662984981965,
          28.55592301990109,
          35.019004614317126,
          42.944879887892725,
          52.66462393484275,
          64.58424430196978,
          79.20164050192548,
          97.12740198471168,
          119.11031332830079,
          146.06863203649888,
          179.1284454622002,
          219.67070907932353,
          269.388930959017,
          330.35991201283395,
          405.1304969235378,
          496.8239594734388,
          609.2704661368674,
          747.1670675868082,
          916.2739011886731,
          1123.6548001387516,
          1377.9723598335568,
          1689.8497868124587,
          2072.3146452190294,
          2541.343036702639,
          3116.52694492943,
          3821.8926206331225,
          4686.904192314192,
          5747.694424835347,
          7048.574036451903,
          8643.882620598262,
          10600.258488068825,
          12999.42224413245,
          15941.590374559995,
          19549.661430912594,
          23974.349678010785,
          29400.480643347077,
          36054.71154250506,
          44214.99907374487,
          54222.21006501592,
          66494.35996665046,
          81544.07395185171,
          100000
         ],
         "xaxis": "x",
         "y": [
          0.005309900318865554,
          0.005309722660373166,
          0.005309504763554077,
          0.005309237506799311,
          0.005308909696766852,
          0.005308507595875559,
          0.005308014341067721,
          0.005307409228358467,
          0.005306666831491746,
          0.005305755915254651,
          0.0053046380941657615,
          0.005303266174820332,
          0.005301582104381058,
          0.005299514427591958,
          0.005296975129084658,
          0.005293855705157736,
          0.005290022267923138,
          0.005285309432886507,
          0.005279512676928944,
          0.005272378776477972,
          0.005263593846454183,
          0.0052527684047782765,
          0.005239418797655184,
          0.0052229442631017515,
          0.005202598929040146,
          0.00517745820913583,
          0.005146379477893588,
          0.005107957710591226,
          0.0050604781137765925,
          0.0050018697790418535,
          0.004929667119439594,
          0.0048409891942862516,
          0.0047325506681654885,
          0.004600721473373131,
          0.004441654311220313,
          0.00425149861051174,
          0.004026714713167746,
          0.003764490862150237,
          0.003463246423096956,
          0.003123177935686927,
          0.0027467740541588944,
          0.0023391999643160412,
          0.0019084434774268584,
          0.0014651340983765232,
          0.0010219951996167792,
          0.0005929581603022551,
          0.00019203662579845033,
          -0.00016789103010829236,
          -0.00047622370122805485,
          -0.0007255480653104012,
          -0.0009121973201256707,
          -0.0010363910344414913,
          -0.0011019536193074206,
          -0.0011156755657447906,
          -0.001086436077087862,
          -0.0010242337301005976,
          -0.0009392663793528624,
          -0.0008411669983477324,
          -0.0007384518043871028,
          -0.0006381869248415109,
          -0.0005458428899157849,
          -0.00046528854538874253,
          -0.00039887661085685083,
          -0.00034758588661734353,
          -0.00031120164657502306,
          -0.0002885284122846883,
          -0.0002776334265960817,
          -0.0002761142357358261,
          -0.00028137344683498765,
          -0.0002908741338354768,
          -0.00030234650272619416,
          -0.0003139231341697253,
          -0.0003241945861973247,
          -0.000332193890677485,
          -0.00033733133877788217,
          -0.00033930610419505487,
          -0.0003380185916322906,
          -0.00033349970441862804,
          -0.00032586416042636017,
          -0.0003152873297874824
         ],
         "yaxis": "y"
        },
        {
         "hovertemplate": "variable=alcohol^3<br>alphas=%{x}<br>value=%{y}<extra></extra>",
         "legendgroup": "alcohol^3",
         "line": {
          "color": "#00cc96",
          "dash": "solid"
         },
         "mode": "lines",
         "name": "alcohol^3",
         "showlegend": true,
         "type": "scattergl",
         "x": [
          0.01,
          0.012263306841775632,
          0.015038869469554102,
          0.018442627085855347,
          0.022616759492228647,
          0.02773562614198415,
          0.03401304938279251,
          0.04171124612056518,
          0.051151780992931425,
          0.06272899858196247,
          0.07692649574879142,
          0.09433732216299774,
          0.1156887528316282,
          0.1418726674116596,
          0.1739828052930364,
          0.21336045265014109,
          0.2616504698748821,
          0.320869999737045,
          0.39349272630958493,
          0.48255220427412787,
          0.5917685748188825,
          0.7257039612324212,
          0.8899530352885229,
          1.0913767146512738,
          1.3383887531737564,
          1.6413071953751284,
          2.0127853758499383,
          2.4683404670686486,
          3.0270016537634614,
          3.7121050090663608,
          4.55226827550731,
          5.582586268862695,
          6.846096838574658,
          8.395578619995112,
          10.295755673125127,
          12.626001098748565,
          15.48365256585499,
          18.988078244652634,
          23.285662984981965,
          28.55592301990109,
          35.019004614317126,
          42.944879887892725,
          52.66462393484275,
          64.58424430196978,
          79.20164050192548,
          97.12740198471168,
          119.11031332830079,
          146.06863203649888,
          179.1284454622002,
          219.67070907932353,
          269.388930959017,
          330.35991201283395,
          405.1304969235378,
          496.8239594734388,
          609.2704661368674,
          747.1670675868082,
          916.2739011886731,
          1123.6548001387516,
          1377.9723598335568,
          1689.8497868124587,
          2072.3146452190294,
          2541.343036702639,
          3116.52694492943,
          3821.8926206331225,
          4686.904192314192,
          5747.694424835347,
          7048.574036451903,
          8643.882620598262,
          10600.258488068825,
          12999.42224413245,
          15941.590374559995,
          19549.661430912594,
          23974.349678010785,
          29400.480643347077,
          36054.71154250506,
          44214.99907374487,
          54222.21006501592,
          66494.35996665046,
          81544.07395185171,
          100000
         ],
         "xaxis": "x",
         "y": [
          -0.006626587259442852,
          -0.006625029306455232,
          -0.006623118911505811,
          -0.006620776391986661,
          -0.006617904073796216,
          -0.00661438224094417,
          -0.00661006417923488,
          -0.0066047701143898754,
          -0.006598279802394953,
          -0.006590323479016678,
          -0.006580570814912595,
          -0.006568617451374048,
          -0.006553968608213478,
          -0.006536019158767458,
          -0.0065140294570287275,
          -0.006487096078995217,
          -0.006454116506365013,
          -0.006413746639563741,
          -0.006364349885232516,
          -0.006303936430847829,
          -0.006230091210095734,
          -0.006139888996026566,
          -0.006029795059934115,
          -0.005895549935855388,
          -0.005732037083528007,
          -0.0055331327310157085,
          -0.0052915380608413885,
          -0.004998595486571886,
          -0.004644093616061835,
          -0.004216070566482805,
          -0.00370063398756387,
          -0.0030818301296288387,
          -0.0023416148036305164,
          -0.001460005529346292,
          -0.0004155221051520287,
          0.0008139579435243942,
          0.002249808267734871,
          0.003910655709787903,
          0.005809811350121904,
          0.007952328651670108,
          0.010332074544415978,
          0.012929354717663521,
          0.01570968416795058,
          0.01862417929082175,
          0.021611760228124038,
          0.024602956451935984,
          0.027524729910595642,
          0.030305503301980237,
          0.03287958495004025,
          0.035190399813305566,
          0.03719227094907189,
          0.03885082605800506,
          0.040142342737634666,
          0.041052464691250415,
          0.041574732911266114,
          0.04170930803351933,
          0.04146213642364212,
          0.04084465454839991,
          0.03987396128506137,
          0.03857325120647136,
          0.03697222669952294,
          0.035107209668936906,
          0.033020746441328304,
          0.030760613776282985,
          0.028378254392397363,
          0.02592676923888298,
          0.02345865717770849,
          0.021023520047567613,
          0.018665948863228646,
          0.016423782875850144,
          0.014326891973968692,
          0.012396575691534935,
          0.010645600866156872,
          0.009078822458173656,
          0.007694262596149272,
          0.006484477526133877,
          0.005438030603128385,
          0.0045409107378800734,
          0.003777779260040777,
          0.0031329794995123062
         ],
         "yaxis": "y"
        }
       ],
       "layout": {
        "legend": {
         "title": {
          "text": "variable"
         },
         "tracegroupgap": 0
        },
        "margin": {
         "t": 60
        },
        "template": {
         "data": {
          "bar": [
           {
            "error_x": {
             "color": "#2a3f5f"
            },
            "error_y": {
             "color": "#2a3f5f"
            },
            "marker": {
             "line": {
              "color": "#E5ECF6",
              "width": 0.5
             }
            },
            "type": "bar"
           }
          ],
          "barpolar": [
           {
            "marker": {
             "line": {
              "color": "#E5ECF6",
              "width": 0.5
             }
            },
            "type": "barpolar"
           }
          ],
          "carpet": [
           {
            "aaxis": {
             "endlinecolor": "#2a3f5f",
             "gridcolor": "white",
             "linecolor": "white",
             "minorgridcolor": "white",
             "startlinecolor": "#2a3f5f"
            },
            "baxis": {
             "endlinecolor": "#2a3f5f",
             "gridcolor": "white",
             "linecolor": "white",
             "minorgridcolor": "white",
             "startlinecolor": "#2a3f5f"
            },
            "type": "carpet"
           }
          ],
          "choropleth": [
           {
            "colorbar": {
             "outlinewidth": 0,
             "ticks": ""
            },
            "type": "choropleth"
           }
          ],
          "contour": [
           {
            "colorbar": {
             "outlinewidth": 0,
             "ticks": ""
            },
            "colorscale": [
             [
              0,
              "#0d0887"
             ],
             [
              0.1111111111111111,
              "#46039f"
             ],
             [
              0.2222222222222222,
              "#7201a8"
             ],
             [
              0.3333333333333333,
              "#9c179e"
             ],
             [
              0.4444444444444444,
              "#bd3786"
             ],
             [
              0.5555555555555556,
              "#d8576b"
             ],
             [
              0.6666666666666666,
              "#ed7953"
             ],
             [
              0.7777777777777778,
              "#fb9f3a"
             ],
             [
              0.8888888888888888,
              "#fdca26"
             ],
             [
              1,
              "#f0f921"
             ]
            ],
            "type": "contour"
           }
          ],
          "contourcarpet": [
           {
            "colorbar": {
             "outlinewidth": 0,
             "ticks": ""
            },
            "type": "contourcarpet"
           }
          ],
          "heatmap": [
           {
            "colorbar": {
             "outlinewidth": 0,
             "ticks": ""
            },
            "colorscale": [
             [
              0,
              "#0d0887"
             ],
             [
              0.1111111111111111,
              "#46039f"
             ],
             [
              0.2222222222222222,
              "#7201a8"
             ],
             [
              0.3333333333333333,
              "#9c179e"
             ],
             [
              0.4444444444444444,
              "#bd3786"
             ],
             [
              0.5555555555555556,
              "#d8576b"
             ],
             [
              0.6666666666666666,
              "#ed7953"
             ],
             [
              0.7777777777777778,
              "#fb9f3a"
             ],
             [
              0.8888888888888888,
              "#fdca26"
             ],
             [
              1,
              "#f0f921"
             ]
            ],
            "type": "heatmap"
           }
          ],
          "heatmapgl": [
           {
            "colorbar": {
             "outlinewidth": 0,
             "ticks": ""
            },
            "colorscale": [
             [
              0,
              "#0d0887"
             ],
             [
              0.1111111111111111,
              "#46039f"
             ],
             [
              0.2222222222222222,
              "#7201a8"
             ],
             [
              0.3333333333333333,
              "#9c179e"
             ],
             [
              0.4444444444444444,
              "#bd3786"
             ],
             [
              0.5555555555555556,
              "#d8576b"
             ],
             [
              0.6666666666666666,
              "#ed7953"
             ],
             [
              0.7777777777777778,
              "#fb9f3a"
             ],
             [
              0.8888888888888888,
              "#fdca26"
             ],
             [
              1,
              "#f0f921"
             ]
            ],
            "type": "heatmapgl"
           }
          ],
          "histogram": [
           {
            "marker": {
             "colorbar": {
              "outlinewidth": 0,
              "ticks": ""
             }
            },
            "type": "histogram"
           }
          ],
          "histogram2d": [
           {
            "colorbar": {
             "outlinewidth": 0,
             "ticks": ""
            },
            "colorscale": [
             [
              0,
              "#0d0887"
             ],
             [
              0.1111111111111111,
              "#46039f"
             ],
             [
              0.2222222222222222,
              "#7201a8"
             ],
             [
              0.3333333333333333,
              "#9c179e"
             ],
             [
              0.4444444444444444,
              "#bd3786"
             ],
             [
              0.5555555555555556,
              "#d8576b"
             ],
             [
              0.6666666666666666,
              "#ed7953"
             ],
             [
              0.7777777777777778,
              "#fb9f3a"
             ],
             [
              0.8888888888888888,
              "#fdca26"
             ],
             [
              1,
              "#f0f921"
             ]
            ],
            "type": "histogram2d"
           }
          ],
          "histogram2dcontour": [
           {
            "colorbar": {
             "outlinewidth": 0,
             "ticks": ""
            },
            "colorscale": [
             [
              0,
              "#0d0887"
             ],
             [
              0.1111111111111111,
              "#46039f"
             ],
             [
              0.2222222222222222,
              "#7201a8"
             ],
             [
              0.3333333333333333,
              "#9c179e"
             ],
             [
              0.4444444444444444,
              "#bd3786"
             ],
             [
              0.5555555555555556,
              "#d8576b"
             ],
             [
              0.6666666666666666,
              "#ed7953"
             ],
             [
              0.7777777777777778,
              "#fb9f3a"
             ],
             [
              0.8888888888888888,
              "#fdca26"
             ],
             [
              1,
              "#f0f921"
             ]
            ],
            "type": "histogram2dcontour"
           }
          ],
          "mesh3d": [
           {
            "colorbar": {
             "outlinewidth": 0,
             "ticks": ""
            },
            "type": "mesh3d"
           }
          ],
          "parcoords": [
           {
            "line": {
             "colorbar": {
              "outlinewidth": 0,
              "ticks": ""
             }
            },
            "type": "parcoords"
           }
          ],
          "pie": [
           {
            "automargin": true,
            "type": "pie"
           }
          ],
          "scatter": [
           {
            "marker": {
             "colorbar": {
              "outlinewidth": 0,
              "ticks": ""
             }
            },
            "type": "scatter"
           }
          ],
          "scatter3d": [
           {
            "line": {
             "colorbar": {
              "outlinewidth": 0,
              "ticks": ""
             }
            },
            "marker": {
             "colorbar": {
              "outlinewidth": 0,
              "ticks": ""
             }
            },
            "type": "scatter3d"
           }
          ],
          "scattercarpet": [
           {
            "marker": {
             "colorbar": {
              "outlinewidth": 0,
              "ticks": ""
             }
            },
            "type": "scattercarpet"
           }
          ],
          "scattergeo": [
           {
            "marker": {
             "colorbar": {
              "outlinewidth": 0,
              "ticks": ""
             }
            },
            "type": "scattergeo"
           }
          ],
          "scattergl": [
           {
            "marker": {
             "colorbar": {
              "outlinewidth": 0,
              "ticks": ""
             }
            },
            "type": "scattergl"
           }
          ],
          "scattermapbox": [
           {
            "marker": {
             "colorbar": {
              "outlinewidth": 0,
              "ticks": ""
             }
            },
            "type": "scattermapbox"
           }
          ],
          "scatterpolar": [
           {
            "marker": {
             "colorbar": {
              "outlinewidth": 0,
              "ticks": ""
             }
            },
            "type": "scatterpolar"
           }
          ],
          "scatterpolargl": [
           {
            "marker": {
             "colorbar": {
              "outlinewidth": 0,
              "ticks": ""
             }
            },
            "type": "scatterpolargl"
           }
          ],
          "scatterternary": [
           {
            "marker": {
             "colorbar": {
              "outlinewidth": 0,
              "ticks": ""
             }
            },
            "type": "scatterternary"
           }
          ],
          "surface": [
           {
            "colorbar": {
             "outlinewidth": 0,
             "ticks": ""
            },
            "colorscale": [
             [
              0,
              "#0d0887"
             ],
             [
              0.1111111111111111,
              "#46039f"
             ],
             [
              0.2222222222222222,
              "#7201a8"
             ],
             [
              0.3333333333333333,
              "#9c179e"
             ],
             [
              0.4444444444444444,
              "#bd3786"
             ],
             [
              0.5555555555555556,
              "#d8576b"
             ],
             [
              0.6666666666666666,
              "#ed7953"
             ],
             [
              0.7777777777777778,
              "#fb9f3a"
             ],
             [
              0.8888888888888888,
              "#fdca26"
             ],
             [
              1,
              "#f0f921"
             ]
            ],
            "type": "surface"
           }
          ],
          "table": [
           {
            "cells": {
             "fill": {
              "color": "#EBF0F8"
             },
             "line": {
              "color": "white"
             }
            },
            "header": {
             "fill": {
              "color": "#C8D4E3"
             },
             "line": {
              "color": "white"
             }
            },
            "type": "table"
           }
          ]
         },
         "layout": {
          "annotationdefaults": {
           "arrowcolor": "#2a3f5f",
           "arrowhead": 0,
           "arrowwidth": 1
          },
          "coloraxis": {
           "colorbar": {
            "outlinewidth": 0,
            "ticks": ""
           }
          },
          "colorscale": {
           "diverging": [
            [
             0,
             "#8e0152"
            ],
            [
             0.1,
             "#c51b7d"
            ],
            [
             0.2,
             "#de77ae"
            ],
            [
             0.3,
             "#f1b6da"
            ],
            [
             0.4,
             "#fde0ef"
            ],
            [
             0.5,
             "#f7f7f7"
            ],
            [
             0.6,
             "#e6f5d0"
            ],
            [
             0.7,
             "#b8e186"
            ],
            [
             0.8,
             "#7fbc41"
            ],
            [
             0.9,
             "#4d9221"
            ],
            [
             1,
             "#276419"
            ]
           ],
           "sequential": [
            [
             0,
             "#0d0887"
            ],
            [
             0.1111111111111111,
             "#46039f"
            ],
            [
             0.2222222222222222,
             "#7201a8"
            ],
            [
             0.3333333333333333,
             "#9c179e"
            ],
            [
             0.4444444444444444,
             "#bd3786"
            ],
            [
             0.5555555555555556,
             "#d8576b"
            ],
            [
             0.6666666666666666,
             "#ed7953"
            ],
            [
             0.7777777777777778,
             "#fb9f3a"
            ],
            [
             0.8888888888888888,
             "#fdca26"
            ],
            [
             1,
             "#f0f921"
            ]
           ],
           "sequentialminus": [
            [
             0,
             "#0d0887"
            ],
            [
             0.1111111111111111,
             "#46039f"
            ],
            [
             0.2222222222222222,
             "#7201a8"
            ],
            [
             0.3333333333333333,
             "#9c179e"
            ],
            [
             0.4444444444444444,
             "#bd3786"
            ],
            [
             0.5555555555555556,
             "#d8576b"
            ],
            [
             0.6666666666666666,
             "#ed7953"
            ],
            [
             0.7777777777777778,
             "#fb9f3a"
            ],
            [
             0.8888888888888888,
             "#fdca26"
            ],
            [
             1,
             "#f0f921"
            ]
           ]
          },
          "colorway": [
           "#636efa",
           "#EF553B",
           "#00cc96",
           "#ab63fa",
           "#FFA15A",
           "#19d3f3",
           "#FF6692",
           "#B6E880",
           "#FF97FF",
           "#FECB52"
          ],
          "font": {
           "color": "#2a3f5f"
          },
          "geo": {
           "bgcolor": "white",
           "lakecolor": "white",
           "landcolor": "#E5ECF6",
           "showlakes": true,
           "showland": true,
           "subunitcolor": "white"
          },
          "hoverlabel": {
           "align": "left"
          },
          "hovermode": "closest",
          "mapbox": {
           "style": "light"
          },
          "paper_bgcolor": "white",
          "plot_bgcolor": "#E5ECF6",
          "polar": {
           "angularaxis": {
            "gridcolor": "white",
            "linecolor": "white",
            "ticks": ""
           },
           "bgcolor": "#E5ECF6",
           "radialaxis": {
            "gridcolor": "white",
            "linecolor": "white",
            "ticks": ""
           }
          },
          "scene": {
           "xaxis": {
            "backgroundcolor": "#E5ECF6",
            "gridcolor": "white",
            "gridwidth": 2,
            "linecolor": "white",
            "showbackground": true,
            "ticks": "",
            "zerolinecolor": "white"
           },
           "yaxis": {
            "backgroundcolor": "#E5ECF6",
            "gridcolor": "white",
            "gridwidth": 2,
            "linecolor": "white",
            "showbackground": true,
            "ticks": "",
            "zerolinecolor": "white"
           },
           "zaxis": {
            "backgroundcolor": "#E5ECF6",
            "gridcolor": "white",
            "gridwidth": 2,
            "linecolor": "white",
            "showbackground": true,
            "ticks": "",
            "zerolinecolor": "white"
           }
          },
          "shapedefaults": {
           "line": {
            "color": "#2a3f5f"
           }
          },
          "ternary": {
           "aaxis": {
            "gridcolor": "white",
            "linecolor": "white",
            "ticks": ""
           },
           "baxis": {
            "gridcolor": "white",
            "linecolor": "white",
            "ticks": ""
           },
           "bgcolor": "#E5ECF6",
           "caxis": {
            "gridcolor": "white",
            "linecolor": "white",
            "ticks": ""
           }
          },
          "title": {
           "x": 0.05
          },
          "xaxis": {
           "automargin": true,
           "gridcolor": "white",
           "linecolor": "white",
           "ticks": "",
           "title": {
            "standoff": 15
           },
           "zerolinecolor": "white",
           "zerolinewidth": 2
          },
          "yaxis": {
           "automargin": true,
           "gridcolor": "white",
           "linecolor": "white",
           "ticks": "",
           "title": {
            "standoff": 15
           },
           "zerolinecolor": "white",
           "zerolinewidth": 2
          }
         }
        },
        "xaxis": {
         "anchor": "y",
         "domain": [
          0,
          1
         ],
         "title": {
          "text": "alphas"
         },
         "type": "log"
        },
        "yaxis": {
         "anchor": "x",
         "domain": [
          0,
          1
         ],
         "title": {
          "text": "value"
         }
        }
       }
      }
     },
     "metadata": {}
    }
   ],
   "source": [
    "result2 = pd.DataFrame(coefs, columns=features)\n",
    "result2['alphas'] = alphas\n",
    "fig = px.line(result2, x='alphas', y=features)\n",
    "fig.update_xaxes(type='log')\n",
    "fig"
   ]
  },
  {
   "cell_type": "code",
   "execution_count": null,
   "metadata": {},
   "outputs": [],
   "source": []
  }
 ]
}