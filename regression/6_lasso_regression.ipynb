{
 "metadata": {
  "language_info": {
   "codemirror_mode": {
    "name": "ipython",
    "version": 3
   },
   "file_extension": ".py",
   "mimetype": "text/x-python",
   "name": "python",
   "nbconvert_exporter": "python",
   "pygments_lexer": "ipython3",
   "version": "3.8.9"
  },
  "orig_nbformat": 2,
  "kernelspec": {
   "name": "python389jvsc74a57bd0082a18f759f8afdec9b7eec773590a36e4c3be1cd97bea91855dea5176a8175a",
   "display_name": "Python 3.8.9 64-bit ('fcapy': virtualenvwrapper)"
  }
 },
 "nbformat": 4,
 "nbformat_minor": 2,
 "cells": [
  {
   "cell_type": "code",
   "execution_count": 1,
   "metadata": {},
   "outputs": [
    {
     "output_type": "display_data",
     "data": {
      "text/html": "        <script type=\"text/javascript\">\n        window.PlotlyConfig = {MathJaxConfig: 'local'};\n        if (window.MathJax) {MathJax.Hub.Config({SVG: {font: \"STIX-Web\"}});}\n        if (typeof require !== 'undefined') {\n        require.undef(\"plotly\");\n        requirejs.config({\n            paths: {\n                'plotly': ['https://cdn.plot.ly/plotly-latest.min']\n            }\n        });\n        require(['plotly'], function(Plotly) {\n            window._Plotly = Plotly;\n        });\n        }\n        </script>\n        "
     },
     "metadata": {}
    }
   ],
   "source": [
    "from datasets import diabetes_data\n",
    "\n",
    "import statsmodels.api as sm\n",
    "\n",
    "from sklearn.linear_model import Lasso\n",
    "from sklearn.model_selection import cross_val_score\n",
    "from sklearn.preprocessing import StandardScaler\n",
    "\n",
    "import numpy as np\n",
    "import pandas as pd\n",
    "\n",
    "from tools import polynomial_features\n",
    "\n",
    "import plotly.express as px\n",
    "from plotly.offline import init_notebook_mode\n",
    "init_notebook_mode(connected=True)"
   ]
  },
  {
   "cell_type": "code",
   "execution_count": 2,
   "metadata": {},
   "outputs": [],
   "source": [
    "original_X, original_y, train_X, train_y, test_X, test_y = diabetes_data()"
   ]
  },
  {
   "source": [
    "# Lasso Regression"
   ],
   "cell_type": "markdown",
   "metadata": {}
  },
  {
   "source": [
    "## Alpha selection"
   ],
   "cell_type": "markdown",
   "metadata": {}
  },
  {
   "cell_type": "code",
   "execution_count": 3,
   "metadata": {},
   "outputs": [],
   "source": [
    "n_alphas = 80\n",
    "alphas = np.logspace(-2, 2, n_alphas)"
   ]
  },
  {
   "cell_type": "code",
   "execution_count": 4,
   "metadata": {},
   "outputs": [
    {
     "output_type": "display_data",
     "data": {
      "application/vnd.plotly.v1+json": {
       "config": {
        "plotlyServerURL": "https://plot.ly"
       },
       "data": [
        {
         "hovertemplate": "alpha=%{x}<br>R^2 (mean)=%{y}<extra></extra>",
         "legendgroup": "",
         "line": {
          "color": "#636efa",
          "dash": "solid"
         },
         "mode": "lines",
         "name": "",
         "orientation": "v",
         "showlegend": false,
         "type": "scatter",
         "x": [
          0.01,
          0.01123654800138751,
          0.012626001098748564,
          0.014187266741165962,
          0.01594159037455999,
          0.01791284454622004,
          0.020127853758499396,
          0.022616759492228647,
          0.025413430367026365,
          0.028555923019901074,
          0.032086999973704504,
          0.03605471154250502,
          0.04051304969235382,
          0.045522682755073096,
          0.051151780992931425,
          0.05747694424835353,
          0.06458424430196978,
          0.07257039612324216,
          0.08154407395185162,
          0.09162739011886736,
          0.10295755673125127,
          0.1156887528316282,
          0.12999422244132455,
          0.1460686320364989,
          0.1641307195375129,
          0.18442627085855348,
          0.20723146452190294,
          0.23285662984981953,
          0.2616504698748821,
          0.29400480643347093,
          0.33035991201283377,
          0.3712105009066361,
          0.4171124612056518,
          0.46869041923141924,
          0.5266462393484278,
          0.5917685748188821,
          0.6649435996665045,
          0.7471670675868078,
          0.8395578619995112,
          0.9433732216299774,
          1.0600258488068823,
          1.1911031332830067,
          1.3383887531737564,
          1.5038869469554101,
          1.689849786812457,
          1.8988078244652633,
          2.133604526501411,
          2.3974349678010762,
          2.6938893095901726,
          3.0270016537634614,
          3.401304938279253,
          3.8218926206331187,
          4.294487988789272,
          4.825522042741279,
          5.422221006501586,
          6.092704661368674,
          6.846096838574658,
          7.692649574879138,
          8.643882620598271,
          9.712740198471169,
          10.913767146512727,
          12.26330684177563,
          13.779723598335568,
          15.48365256585499,
          17.39828052930364,
          19.549661430912597,
          21.967070907932353,
          24.683404670686485,
          27.73562614198415,
          31.165269449294303,
          35.01900461431709,
          39.349272630958495,
          44.21499907374487,
          49.68239594734388,
          55.82586268862695,
          62.728998581962436,
          70.48574036451903,
          79.20164050192548,
          88.99530352885225,
          100
         ],
         "xaxis": "x",
         "y": [
          0.48109762506564663,
          0.48115747323983304,
          0.48122391094237227,
          0.4813265979957456,
          0.48152630059627083,
          0.4817079023480385,
          0.4817662909005594,
          0.4818170546318292,
          0.48186721134075083,
          0.48197643648992533,
          0.48207166762315057,
          0.48211307083469046,
          0.48210812734546754,
          0.4820591904076279,
          0.482038244966955,
          0.4819743856370648,
          0.4817876649712571,
          0.48143660268355637,
          0.4809116830829795,
          0.48020281585106595,
          0.4792531548574933,
          0.47838469097774217,
          0.47706918581261243,
          0.47556654656822006,
          0.47390033089939515,
          0.4720620675497143,
          0.4696361882162273,
          0.4664585222273039,
          0.4627099344084581,
          0.4586649477047141,
          0.45536085890459554,
          0.45138900826091444,
          0.4463714752908311,
          0.4398395578479777,
          0.4315292295693035,
          0.42068386312268763,
          0.40699777672879944,
          0.39141165267114364,
          0.37247037282374534,
          0.35017076865071844,
          0.32333998015389404,
          0.2908712239862602,
          0.2508622767930416,
          0.20034887524998063,
          0.13657357032887307,
          0.056053873031804625,
          -0.012687463691032751,
          -0.02750604135376733,
          -0.02750604135376733,
          -0.02750604135376733,
          -0.02750604135376733,
          -0.02750604135376733,
          -0.02750604135376733,
          -0.02750604135376733,
          -0.02750604135376733,
          -0.02750604135376733,
          -0.02750604135376733,
          -0.02750604135376733,
          -0.02750604135376733,
          -0.02750604135376733,
          -0.02750604135376733,
          -0.02750604135376733,
          -0.02750604135376733,
          -0.02750604135376733,
          -0.02750604135376733,
          -0.02750604135376733,
          -0.02750604135376733,
          -0.02750604135376733,
          -0.02750604135376733,
          -0.02750604135376733,
          -0.02750604135376733,
          -0.02750604135376733,
          -0.02750604135376733,
          -0.02750604135376733,
          -0.02750604135376733,
          -0.02750604135376733,
          -0.02750604135376733,
          -0.02750604135376733,
          -0.02750604135376733,
          -0.02750604135376733
         ],
         "yaxis": "y"
        }
       ],
       "layout": {
        "legend": {
         "tracegroupgap": 0
        },
        "margin": {
         "t": 60
        },
        "template": {
         "data": {
          "bar": [
           {
            "error_x": {
             "color": "#2a3f5f"
            },
            "error_y": {
             "color": "#2a3f5f"
            },
            "marker": {
             "line": {
              "color": "#E5ECF6",
              "width": 0.5
             }
            },
            "type": "bar"
           }
          ],
          "barpolar": [
           {
            "marker": {
             "line": {
              "color": "#E5ECF6",
              "width": 0.5
             }
            },
            "type": "barpolar"
           }
          ],
          "carpet": [
           {
            "aaxis": {
             "endlinecolor": "#2a3f5f",
             "gridcolor": "white",
             "linecolor": "white",
             "minorgridcolor": "white",
             "startlinecolor": "#2a3f5f"
            },
            "baxis": {
             "endlinecolor": "#2a3f5f",
             "gridcolor": "white",
             "linecolor": "white",
             "minorgridcolor": "white",
             "startlinecolor": "#2a3f5f"
            },
            "type": "carpet"
           }
          ],
          "choropleth": [
           {
            "colorbar": {
             "outlinewidth": 0,
             "ticks": ""
            },
            "type": "choropleth"
           }
          ],
          "contour": [
           {
            "colorbar": {
             "outlinewidth": 0,
             "ticks": ""
            },
            "colorscale": [
             [
              0,
              "#0d0887"
             ],
             [
              0.1111111111111111,
              "#46039f"
             ],
             [
              0.2222222222222222,
              "#7201a8"
             ],
             [
              0.3333333333333333,
              "#9c179e"
             ],
             [
              0.4444444444444444,
              "#bd3786"
             ],
             [
              0.5555555555555556,
              "#d8576b"
             ],
             [
              0.6666666666666666,
              "#ed7953"
             ],
             [
              0.7777777777777778,
              "#fb9f3a"
             ],
             [
              0.8888888888888888,
              "#fdca26"
             ],
             [
              1,
              "#f0f921"
             ]
            ],
            "type": "contour"
           }
          ],
          "contourcarpet": [
           {
            "colorbar": {
             "outlinewidth": 0,
             "ticks": ""
            },
            "type": "contourcarpet"
           }
          ],
          "heatmap": [
           {
            "colorbar": {
             "outlinewidth": 0,
             "ticks": ""
            },
            "colorscale": [
             [
              0,
              "#0d0887"
             ],
             [
              0.1111111111111111,
              "#46039f"
             ],
             [
              0.2222222222222222,
              "#7201a8"
             ],
             [
              0.3333333333333333,
              "#9c179e"
             ],
             [
              0.4444444444444444,
              "#bd3786"
             ],
             [
              0.5555555555555556,
              "#d8576b"
             ],
             [
              0.6666666666666666,
              "#ed7953"
             ],
             [
              0.7777777777777778,
              "#fb9f3a"
             ],
             [
              0.8888888888888888,
              "#fdca26"
             ],
             [
              1,
              "#f0f921"
             ]
            ],
            "type": "heatmap"
           }
          ],
          "heatmapgl": [
           {
            "colorbar": {
             "outlinewidth": 0,
             "ticks": ""
            },
            "colorscale": [
             [
              0,
              "#0d0887"
             ],
             [
              0.1111111111111111,
              "#46039f"
             ],
             [
              0.2222222222222222,
              "#7201a8"
             ],
             [
              0.3333333333333333,
              "#9c179e"
             ],
             [
              0.4444444444444444,
              "#bd3786"
             ],
             [
              0.5555555555555556,
              "#d8576b"
             ],
             [
              0.6666666666666666,
              "#ed7953"
             ],
             [
              0.7777777777777778,
              "#fb9f3a"
             ],
             [
              0.8888888888888888,
              "#fdca26"
             ],
             [
              1,
              "#f0f921"
             ]
            ],
            "type": "heatmapgl"
           }
          ],
          "histogram": [
           {
            "marker": {
             "colorbar": {
              "outlinewidth": 0,
              "ticks": ""
             }
            },
            "type": "histogram"
           }
          ],
          "histogram2d": [
           {
            "colorbar": {
             "outlinewidth": 0,
             "ticks": ""
            },
            "colorscale": [
             [
              0,
              "#0d0887"
             ],
             [
              0.1111111111111111,
              "#46039f"
             ],
             [
              0.2222222222222222,
              "#7201a8"
             ],
             [
              0.3333333333333333,
              "#9c179e"
             ],
             [
              0.4444444444444444,
              "#bd3786"
             ],
             [
              0.5555555555555556,
              "#d8576b"
             ],
             [
              0.6666666666666666,
              "#ed7953"
             ],
             [
              0.7777777777777778,
              "#fb9f3a"
             ],
             [
              0.8888888888888888,
              "#fdca26"
             ],
             [
              1,
              "#f0f921"
             ]
            ],
            "type": "histogram2d"
           }
          ],
          "histogram2dcontour": [
           {
            "colorbar": {
             "outlinewidth": 0,
             "ticks": ""
            },
            "colorscale": [
             [
              0,
              "#0d0887"
             ],
             [
              0.1111111111111111,
              "#46039f"
             ],
             [
              0.2222222222222222,
              "#7201a8"
             ],
             [
              0.3333333333333333,
              "#9c179e"
             ],
             [
              0.4444444444444444,
              "#bd3786"
             ],
             [
              0.5555555555555556,
              "#d8576b"
             ],
             [
              0.6666666666666666,
              "#ed7953"
             ],
             [
              0.7777777777777778,
              "#fb9f3a"
             ],
             [
              0.8888888888888888,
              "#fdca26"
             ],
             [
              1,
              "#f0f921"
             ]
            ],
            "type": "histogram2dcontour"
           }
          ],
          "mesh3d": [
           {
            "colorbar": {
             "outlinewidth": 0,
             "ticks": ""
            },
            "type": "mesh3d"
           }
          ],
          "parcoords": [
           {
            "line": {
             "colorbar": {
              "outlinewidth": 0,
              "ticks": ""
             }
            },
            "type": "parcoords"
           }
          ],
          "pie": [
           {
            "automargin": true,
            "type": "pie"
           }
          ],
          "scatter": [
           {
            "marker": {
             "colorbar": {
              "outlinewidth": 0,
              "ticks": ""
             }
            },
            "type": "scatter"
           }
          ],
          "scatter3d": [
           {
            "line": {
             "colorbar": {
              "outlinewidth": 0,
              "ticks": ""
             }
            },
            "marker": {
             "colorbar": {
              "outlinewidth": 0,
              "ticks": ""
             }
            },
            "type": "scatter3d"
           }
          ],
          "scattercarpet": [
           {
            "marker": {
             "colorbar": {
              "outlinewidth": 0,
              "ticks": ""
             }
            },
            "type": "scattercarpet"
           }
          ],
          "scattergeo": [
           {
            "marker": {
             "colorbar": {
              "outlinewidth": 0,
              "ticks": ""
             }
            },
            "type": "scattergeo"
           }
          ],
          "scattergl": [
           {
            "marker": {
             "colorbar": {
              "outlinewidth": 0,
              "ticks": ""
             }
            },
            "type": "scattergl"
           }
          ],
          "scattermapbox": [
           {
            "marker": {
             "colorbar": {
              "outlinewidth": 0,
              "ticks": ""
             }
            },
            "type": "scattermapbox"
           }
          ],
          "scatterpolar": [
           {
            "marker": {
             "colorbar": {
              "outlinewidth": 0,
              "ticks": ""
             }
            },
            "type": "scatterpolar"
           }
          ],
          "scatterpolargl": [
           {
            "marker": {
             "colorbar": {
              "outlinewidth": 0,
              "ticks": ""
             }
            },
            "type": "scatterpolargl"
           }
          ],
          "scatterternary": [
           {
            "marker": {
             "colorbar": {
              "outlinewidth": 0,
              "ticks": ""
             }
            },
            "type": "scatterternary"
           }
          ],
          "surface": [
           {
            "colorbar": {
             "outlinewidth": 0,
             "ticks": ""
            },
            "colorscale": [
             [
              0,
              "#0d0887"
             ],
             [
              0.1111111111111111,
              "#46039f"
             ],
             [
              0.2222222222222222,
              "#7201a8"
             ],
             [
              0.3333333333333333,
              "#9c179e"
             ],
             [
              0.4444444444444444,
              "#bd3786"
             ],
             [
              0.5555555555555556,
              "#d8576b"
             ],
             [
              0.6666666666666666,
              "#ed7953"
             ],
             [
              0.7777777777777778,
              "#fb9f3a"
             ],
             [
              0.8888888888888888,
              "#fdca26"
             ],
             [
              1,
              "#f0f921"
             ]
            ],
            "type": "surface"
           }
          ],
          "table": [
           {
            "cells": {
             "fill": {
              "color": "#EBF0F8"
             },
             "line": {
              "color": "white"
             }
            },
            "header": {
             "fill": {
              "color": "#C8D4E3"
             },
             "line": {
              "color": "white"
             }
            },
            "type": "table"
           }
          ]
         },
         "layout": {
          "annotationdefaults": {
           "arrowcolor": "#2a3f5f",
           "arrowhead": 0,
           "arrowwidth": 1
          },
          "coloraxis": {
           "colorbar": {
            "outlinewidth": 0,
            "ticks": ""
           }
          },
          "colorscale": {
           "diverging": [
            [
             0,
             "#8e0152"
            ],
            [
             0.1,
             "#c51b7d"
            ],
            [
             0.2,
             "#de77ae"
            ],
            [
             0.3,
             "#f1b6da"
            ],
            [
             0.4,
             "#fde0ef"
            ],
            [
             0.5,
             "#f7f7f7"
            ],
            [
             0.6,
             "#e6f5d0"
            ],
            [
             0.7,
             "#b8e186"
            ],
            [
             0.8,
             "#7fbc41"
            ],
            [
             0.9,
             "#4d9221"
            ],
            [
             1,
             "#276419"
            ]
           ],
           "sequential": [
            [
             0,
             "#0d0887"
            ],
            [
             0.1111111111111111,
             "#46039f"
            ],
            [
             0.2222222222222222,
             "#7201a8"
            ],
            [
             0.3333333333333333,
             "#9c179e"
            ],
            [
             0.4444444444444444,
             "#bd3786"
            ],
            [
             0.5555555555555556,
             "#d8576b"
            ],
            [
             0.6666666666666666,
             "#ed7953"
            ],
            [
             0.7777777777777778,
             "#fb9f3a"
            ],
            [
             0.8888888888888888,
             "#fdca26"
            ],
            [
             1,
             "#f0f921"
            ]
           ],
           "sequentialminus": [
            [
             0,
             "#0d0887"
            ],
            [
             0.1111111111111111,
             "#46039f"
            ],
            [
             0.2222222222222222,
             "#7201a8"
            ],
            [
             0.3333333333333333,
             "#9c179e"
            ],
            [
             0.4444444444444444,
             "#bd3786"
            ],
            [
             0.5555555555555556,
             "#d8576b"
            ],
            [
             0.6666666666666666,
             "#ed7953"
            ],
            [
             0.7777777777777778,
             "#fb9f3a"
            ],
            [
             0.8888888888888888,
             "#fdca26"
            ],
            [
             1,
             "#f0f921"
            ]
           ]
          },
          "colorway": [
           "#636efa",
           "#EF553B",
           "#00cc96",
           "#ab63fa",
           "#FFA15A",
           "#19d3f3",
           "#FF6692",
           "#B6E880",
           "#FF97FF",
           "#FECB52"
          ],
          "font": {
           "color": "#2a3f5f"
          },
          "geo": {
           "bgcolor": "white",
           "lakecolor": "white",
           "landcolor": "#E5ECF6",
           "showlakes": true,
           "showland": true,
           "subunitcolor": "white"
          },
          "hoverlabel": {
           "align": "left"
          },
          "hovermode": "closest",
          "mapbox": {
           "style": "light"
          },
          "paper_bgcolor": "white",
          "plot_bgcolor": "#E5ECF6",
          "polar": {
           "angularaxis": {
            "gridcolor": "white",
            "linecolor": "white",
            "ticks": ""
           },
           "bgcolor": "#E5ECF6",
           "radialaxis": {
            "gridcolor": "white",
            "linecolor": "white",
            "ticks": ""
           }
          },
          "scene": {
           "xaxis": {
            "backgroundcolor": "#E5ECF6",
            "gridcolor": "white",
            "gridwidth": 2,
            "linecolor": "white",
            "showbackground": true,
            "ticks": "",
            "zerolinecolor": "white"
           },
           "yaxis": {
            "backgroundcolor": "#E5ECF6",
            "gridcolor": "white",
            "gridwidth": 2,
            "linecolor": "white",
            "showbackground": true,
            "ticks": "",
            "zerolinecolor": "white"
           },
           "zaxis": {
            "backgroundcolor": "#E5ECF6",
            "gridcolor": "white",
            "gridwidth": 2,
            "linecolor": "white",
            "showbackground": true,
            "ticks": "",
            "zerolinecolor": "white"
           }
          },
          "shapedefaults": {
           "line": {
            "color": "#2a3f5f"
           }
          },
          "ternary": {
           "aaxis": {
            "gridcolor": "white",
            "linecolor": "white",
            "ticks": ""
           },
           "baxis": {
            "gridcolor": "white",
            "linecolor": "white",
            "ticks": ""
           },
           "bgcolor": "#E5ECF6",
           "caxis": {
            "gridcolor": "white",
            "linecolor": "white",
            "ticks": ""
           }
          },
          "title": {
           "x": 0.05
          },
          "xaxis": {
           "automargin": true,
           "gridcolor": "white",
           "linecolor": "white",
           "ticks": "",
           "title": {
            "standoff": 15
           },
           "zerolinecolor": "white",
           "zerolinewidth": 2
          },
          "yaxis": {
           "automargin": true,
           "gridcolor": "white",
           "linecolor": "white",
           "ticks": "",
           "title": {
            "standoff": 15
           },
           "zerolinecolor": "white",
           "zerolinewidth": 2
          }
         }
        },
        "xaxis": {
         "anchor": "y",
         "domain": [
          0,
          1
         ],
         "title": {
          "text": "alpha"
         },
         "type": "log"
        },
        "yaxis": {
         "anchor": "x",
         "domain": [
          0,
          1
         ],
         "title": {
          "text": "R^2 (mean)"
         }
        }
       }
      },
      "text/html": "<div>                            <div id=\"e6dd9dcd-a391-4bb0-af50-7510e5af3927\" class=\"plotly-graph-div\" style=\"height:525px; width:100%;\"></div>            <script type=\"text/javascript\">                require([\"plotly\"], function(Plotly) {                    window.PLOTLYENV=window.PLOTLYENV || {};                                    if (document.getElementById(\"e6dd9dcd-a391-4bb0-af50-7510e5af3927\")) {                    Plotly.newPlot(                        \"e6dd9dcd-a391-4bb0-af50-7510e5af3927\",                        [{\"hovertemplate\": \"alpha=%{x}<br>R^2 (mean)=%{y}<extra></extra>\", \"legendgroup\": \"\", \"line\": {\"color\": \"#636efa\", \"dash\": \"solid\"}, \"mode\": \"lines\", \"name\": \"\", \"orientation\": \"v\", \"showlegend\": false, \"type\": \"scatter\", \"x\": [0.01, 0.01123654800138751, 0.012626001098748564, 0.014187266741165962, 0.01594159037455999, 0.01791284454622004, 0.020127853758499396, 0.022616759492228647, 0.025413430367026365, 0.028555923019901074, 0.032086999973704504, 0.03605471154250502, 0.04051304969235382, 0.045522682755073096, 0.051151780992931425, 0.05747694424835353, 0.06458424430196978, 0.07257039612324216, 0.08154407395185162, 0.09162739011886736, 0.10295755673125127, 0.1156887528316282, 0.12999422244132455, 0.1460686320364989, 0.1641307195375129, 0.18442627085855348, 0.20723146452190294, 0.23285662984981953, 0.2616504698748821, 0.29400480643347093, 0.33035991201283377, 0.3712105009066361, 0.4171124612056518, 0.46869041923141924, 0.5266462393484278, 0.5917685748188821, 0.6649435996665045, 0.7471670675868078, 0.8395578619995112, 0.9433732216299774, 1.0600258488068823, 1.1911031332830067, 1.3383887531737564, 1.5038869469554101, 1.689849786812457, 1.8988078244652633, 2.133604526501411, 2.3974349678010762, 2.6938893095901726, 3.0270016537634614, 3.401304938279253, 3.8218926206331187, 4.294487988789272, 4.825522042741279, 5.422221006501586, 6.092704661368674, 6.846096838574658, 7.692649574879138, 8.643882620598271, 9.712740198471169, 10.913767146512727, 12.26330684177563, 13.779723598335568, 15.48365256585499, 17.39828052930364, 19.549661430912597, 21.967070907932353, 24.683404670686485, 27.73562614198415, 31.165269449294303, 35.01900461431709, 39.349272630958495, 44.21499907374487, 49.68239594734388, 55.82586268862695, 62.728998581962436, 70.48574036451903, 79.20164050192548, 88.99530352885225, 100.0], \"xaxis\": \"x\", \"y\": [0.48109762506564663, 0.48115747323983304, 0.48122391094237227, 0.4813265979957456, 0.48152630059627083, 0.4817079023480385, 0.4817662909005594, 0.4818170546318292, 0.48186721134075083, 0.48197643648992533, 0.48207166762315057, 0.48211307083469046, 0.48210812734546754, 0.4820591904076279, 0.482038244966955, 0.4819743856370648, 0.4817876649712571, 0.48143660268355637, 0.4809116830829795, 0.48020281585106595, 0.4792531548574933, 0.47838469097774217, 0.47706918581261243, 0.47556654656822006, 0.47390033089939515, 0.4720620675497143, 0.4696361882162273, 0.4664585222273039, 0.4627099344084581, 0.4586649477047141, 0.45536085890459554, 0.45138900826091444, 0.4463714752908311, 0.4398395578479777, 0.4315292295693035, 0.42068386312268763, 0.40699777672879944, 0.39141165267114364, 0.37247037282374534, 0.35017076865071844, 0.32333998015389404, 0.2908712239862602, 0.2508622767930416, 0.20034887524998063, 0.13657357032887307, 0.056053873031804625, -0.012687463691032751, -0.02750604135376733, -0.02750604135376733, -0.02750604135376733, -0.02750604135376733, -0.02750604135376733, -0.02750604135376733, -0.02750604135376733, -0.02750604135376733, -0.02750604135376733, -0.02750604135376733, -0.02750604135376733, -0.02750604135376733, -0.02750604135376733, -0.02750604135376733, -0.02750604135376733, -0.02750604135376733, -0.02750604135376733, -0.02750604135376733, -0.02750604135376733, -0.02750604135376733, -0.02750604135376733, -0.02750604135376733, -0.02750604135376733, -0.02750604135376733, -0.02750604135376733, -0.02750604135376733, -0.02750604135376733, -0.02750604135376733, -0.02750604135376733, -0.02750604135376733, -0.02750604135376733, -0.02750604135376733, -0.02750604135376733], \"yaxis\": \"y\"}],                        {\"legend\": {\"tracegroupgap\": 0}, \"margin\": {\"t\": 60}, \"template\": {\"data\": {\"bar\": [{\"error_x\": {\"color\": \"#2a3f5f\"}, \"error_y\": {\"color\": \"#2a3f5f\"}, \"marker\": {\"line\": {\"color\": \"#E5ECF6\", \"width\": 0.5}}, \"type\": \"bar\"}], \"barpolar\": [{\"marker\": {\"line\": {\"color\": \"#E5ECF6\", \"width\": 0.5}}, \"type\": \"barpolar\"}], \"carpet\": [{\"aaxis\": {\"endlinecolor\": \"#2a3f5f\", \"gridcolor\": \"white\", \"linecolor\": \"white\", \"minorgridcolor\": \"white\", \"startlinecolor\": \"#2a3f5f\"}, \"baxis\": {\"endlinecolor\": \"#2a3f5f\", \"gridcolor\": \"white\", \"linecolor\": \"white\", \"minorgridcolor\": \"white\", \"startlinecolor\": \"#2a3f5f\"}, \"type\": \"carpet\"}], \"choropleth\": [{\"colorbar\": {\"outlinewidth\": 0, \"ticks\": \"\"}, \"type\": \"choropleth\"}], \"contour\": [{\"colorbar\": {\"outlinewidth\": 0, \"ticks\": \"\"}, \"colorscale\": [[0.0, \"#0d0887\"], [0.1111111111111111, \"#46039f\"], [0.2222222222222222, \"#7201a8\"], [0.3333333333333333, \"#9c179e\"], [0.4444444444444444, \"#bd3786\"], [0.5555555555555556, \"#d8576b\"], [0.6666666666666666, \"#ed7953\"], [0.7777777777777778, \"#fb9f3a\"], [0.8888888888888888, \"#fdca26\"], [1.0, \"#f0f921\"]], \"type\": \"contour\"}], \"contourcarpet\": [{\"colorbar\": {\"outlinewidth\": 0, \"ticks\": \"\"}, \"type\": \"contourcarpet\"}], \"heatmap\": [{\"colorbar\": {\"outlinewidth\": 0, \"ticks\": \"\"}, \"colorscale\": [[0.0, \"#0d0887\"], [0.1111111111111111, \"#46039f\"], [0.2222222222222222, \"#7201a8\"], [0.3333333333333333, \"#9c179e\"], [0.4444444444444444, \"#bd3786\"], [0.5555555555555556, \"#d8576b\"], [0.6666666666666666, \"#ed7953\"], [0.7777777777777778, \"#fb9f3a\"], [0.8888888888888888, \"#fdca26\"], [1.0, \"#f0f921\"]], \"type\": \"heatmap\"}], \"heatmapgl\": [{\"colorbar\": {\"outlinewidth\": 0, \"ticks\": \"\"}, \"colorscale\": [[0.0, \"#0d0887\"], [0.1111111111111111, \"#46039f\"], [0.2222222222222222, \"#7201a8\"], [0.3333333333333333, \"#9c179e\"], [0.4444444444444444, \"#bd3786\"], [0.5555555555555556, \"#d8576b\"], [0.6666666666666666, \"#ed7953\"], [0.7777777777777778, \"#fb9f3a\"], [0.8888888888888888, \"#fdca26\"], [1.0, \"#f0f921\"]], \"type\": \"heatmapgl\"}], \"histogram\": [{\"marker\": {\"colorbar\": {\"outlinewidth\": 0, \"ticks\": \"\"}}, \"type\": \"histogram\"}], \"histogram2d\": [{\"colorbar\": {\"outlinewidth\": 0, \"ticks\": \"\"}, \"colorscale\": [[0.0, \"#0d0887\"], [0.1111111111111111, \"#46039f\"], [0.2222222222222222, \"#7201a8\"], [0.3333333333333333, \"#9c179e\"], [0.4444444444444444, \"#bd3786\"], [0.5555555555555556, \"#d8576b\"], [0.6666666666666666, \"#ed7953\"], [0.7777777777777778, \"#fb9f3a\"], [0.8888888888888888, \"#fdca26\"], [1.0, \"#f0f921\"]], \"type\": \"histogram2d\"}], \"histogram2dcontour\": [{\"colorbar\": {\"outlinewidth\": 0, \"ticks\": \"\"}, \"colorscale\": [[0.0, \"#0d0887\"], [0.1111111111111111, \"#46039f\"], [0.2222222222222222, \"#7201a8\"], [0.3333333333333333, \"#9c179e\"], [0.4444444444444444, \"#bd3786\"], [0.5555555555555556, \"#d8576b\"], [0.6666666666666666, \"#ed7953\"], [0.7777777777777778, \"#fb9f3a\"], [0.8888888888888888, \"#fdca26\"], [1.0, \"#f0f921\"]], \"type\": \"histogram2dcontour\"}], \"mesh3d\": [{\"colorbar\": {\"outlinewidth\": 0, \"ticks\": \"\"}, \"type\": \"mesh3d\"}], \"parcoords\": [{\"line\": {\"colorbar\": {\"outlinewidth\": 0, \"ticks\": \"\"}}, \"type\": \"parcoords\"}], \"pie\": [{\"automargin\": true, \"type\": \"pie\"}], \"scatter\": [{\"marker\": {\"colorbar\": {\"outlinewidth\": 0, \"ticks\": \"\"}}, \"type\": \"scatter\"}], \"scatter3d\": [{\"line\": {\"colorbar\": {\"outlinewidth\": 0, \"ticks\": \"\"}}, \"marker\": {\"colorbar\": {\"outlinewidth\": 0, \"ticks\": \"\"}}, \"type\": \"scatter3d\"}], \"scattercarpet\": [{\"marker\": {\"colorbar\": {\"outlinewidth\": 0, \"ticks\": \"\"}}, \"type\": \"scattercarpet\"}], \"scattergeo\": [{\"marker\": {\"colorbar\": {\"outlinewidth\": 0, \"ticks\": \"\"}}, \"type\": \"scattergeo\"}], \"scattergl\": [{\"marker\": {\"colorbar\": {\"outlinewidth\": 0, \"ticks\": \"\"}}, \"type\": \"scattergl\"}], \"scattermapbox\": [{\"marker\": {\"colorbar\": {\"outlinewidth\": 0, \"ticks\": \"\"}}, \"type\": \"scattermapbox\"}], \"scatterpolar\": [{\"marker\": {\"colorbar\": {\"outlinewidth\": 0, \"ticks\": \"\"}}, \"type\": \"scatterpolar\"}], \"scatterpolargl\": [{\"marker\": {\"colorbar\": {\"outlinewidth\": 0, \"ticks\": \"\"}}, \"type\": \"scatterpolargl\"}], \"scatterternary\": [{\"marker\": {\"colorbar\": {\"outlinewidth\": 0, \"ticks\": \"\"}}, \"type\": \"scatterternary\"}], \"surface\": [{\"colorbar\": {\"outlinewidth\": 0, \"ticks\": \"\"}, \"colorscale\": [[0.0, \"#0d0887\"], [0.1111111111111111, \"#46039f\"], [0.2222222222222222, \"#7201a8\"], [0.3333333333333333, \"#9c179e\"], [0.4444444444444444, \"#bd3786\"], [0.5555555555555556, \"#d8576b\"], [0.6666666666666666, \"#ed7953\"], [0.7777777777777778, \"#fb9f3a\"], [0.8888888888888888, \"#fdca26\"], [1.0, \"#f0f921\"]], \"type\": \"surface\"}], \"table\": [{\"cells\": {\"fill\": {\"color\": \"#EBF0F8\"}, \"line\": {\"color\": \"white\"}}, \"header\": {\"fill\": {\"color\": \"#C8D4E3\"}, \"line\": {\"color\": \"white\"}}, \"type\": \"table\"}]}, \"layout\": {\"annotationdefaults\": {\"arrowcolor\": \"#2a3f5f\", \"arrowhead\": 0, \"arrowwidth\": 1}, \"coloraxis\": {\"colorbar\": {\"outlinewidth\": 0, \"ticks\": \"\"}}, \"colorscale\": {\"diverging\": [[0, \"#8e0152\"], [0.1, \"#c51b7d\"], [0.2, \"#de77ae\"], [0.3, \"#f1b6da\"], [0.4, \"#fde0ef\"], [0.5, \"#f7f7f7\"], [0.6, \"#e6f5d0\"], [0.7, \"#b8e186\"], [0.8, \"#7fbc41\"], [0.9, \"#4d9221\"], [1, \"#276419\"]], \"sequential\": [[0.0, \"#0d0887\"], [0.1111111111111111, \"#46039f\"], [0.2222222222222222, \"#7201a8\"], [0.3333333333333333, \"#9c179e\"], [0.4444444444444444, \"#bd3786\"], [0.5555555555555556, \"#d8576b\"], [0.6666666666666666, \"#ed7953\"], [0.7777777777777778, \"#fb9f3a\"], [0.8888888888888888, \"#fdca26\"], [1.0, \"#f0f921\"]], \"sequentialminus\": [[0.0, \"#0d0887\"], [0.1111111111111111, \"#46039f\"], [0.2222222222222222, \"#7201a8\"], [0.3333333333333333, \"#9c179e\"], [0.4444444444444444, \"#bd3786\"], [0.5555555555555556, \"#d8576b\"], [0.6666666666666666, \"#ed7953\"], [0.7777777777777778, \"#fb9f3a\"], [0.8888888888888888, \"#fdca26\"], [1.0, \"#f0f921\"]]}, \"colorway\": [\"#636efa\", \"#EF553B\", \"#00cc96\", \"#ab63fa\", \"#FFA15A\", \"#19d3f3\", \"#FF6692\", \"#B6E880\", \"#FF97FF\", \"#FECB52\"], \"font\": {\"color\": \"#2a3f5f\"}, \"geo\": {\"bgcolor\": \"white\", \"lakecolor\": \"white\", \"landcolor\": \"#E5ECF6\", \"showlakes\": true, \"showland\": true, \"subunitcolor\": \"white\"}, \"hoverlabel\": {\"align\": \"left\"}, \"hovermode\": \"closest\", \"mapbox\": {\"style\": \"light\"}, \"paper_bgcolor\": \"white\", \"plot_bgcolor\": \"#E5ECF6\", \"polar\": {\"angularaxis\": {\"gridcolor\": \"white\", \"linecolor\": \"white\", \"ticks\": \"\"}, \"bgcolor\": \"#E5ECF6\", \"radialaxis\": {\"gridcolor\": \"white\", \"linecolor\": \"white\", \"ticks\": \"\"}}, \"scene\": {\"xaxis\": {\"backgroundcolor\": \"#E5ECF6\", \"gridcolor\": \"white\", \"gridwidth\": 2, \"linecolor\": \"white\", \"showbackground\": true, \"ticks\": \"\", \"zerolinecolor\": \"white\"}, \"yaxis\": {\"backgroundcolor\": \"#E5ECF6\", \"gridcolor\": \"white\", \"gridwidth\": 2, \"linecolor\": \"white\", \"showbackground\": true, \"ticks\": \"\", \"zerolinecolor\": \"white\"}, \"zaxis\": {\"backgroundcolor\": \"#E5ECF6\", \"gridcolor\": \"white\", \"gridwidth\": 2, \"linecolor\": \"white\", \"showbackground\": true, \"ticks\": \"\", \"zerolinecolor\": \"white\"}}, \"shapedefaults\": {\"line\": {\"color\": \"#2a3f5f\"}}, \"ternary\": {\"aaxis\": {\"gridcolor\": \"white\", \"linecolor\": \"white\", \"ticks\": \"\"}, \"baxis\": {\"gridcolor\": \"white\", \"linecolor\": \"white\", \"ticks\": \"\"}, \"bgcolor\": \"#E5ECF6\", \"caxis\": {\"gridcolor\": \"white\", \"linecolor\": \"white\", \"ticks\": \"\"}}, \"title\": {\"x\": 0.05}, \"xaxis\": {\"automargin\": true, \"gridcolor\": \"white\", \"linecolor\": \"white\", \"ticks\": \"\", \"title\": {\"standoff\": 15}, \"zerolinecolor\": \"white\", \"zerolinewidth\": 2}, \"yaxis\": {\"automargin\": true, \"gridcolor\": \"white\", \"linecolor\": \"white\", \"ticks\": \"\", \"title\": {\"standoff\": 15}, \"zerolinecolor\": \"white\", \"zerolinewidth\": 2}}}, \"xaxis\": {\"anchor\": \"y\", \"domain\": [0.0, 1.0], \"title\": {\"text\": \"alpha\"}, \"type\": \"log\"}, \"yaxis\": {\"anchor\": \"x\", \"domain\": [0.0, 1.0], \"title\": {\"text\": \"R^2 (mean)\"}}},                        {\"responsive\": true}                    ).then(function(){\n                            \nvar gd = document.getElementById('e6dd9dcd-a391-4bb0-af50-7510e5af3927');\nvar x = new MutationObserver(function (mutations, observer) {{\n        var display = window.getComputedStyle(gd).display;\n        if (!display || display === 'none') {{\n            console.log([gd, 'removed!']);\n            Plotly.purge(gd);\n            observer.disconnect();\n        }}\n}});\n\n// Listen for the removal of the full notebook cells\nvar notebookContainer = gd.closest('#notebook-container');\nif (notebookContainer) {{\n    x.observe(notebookContainer, {childList: true});\n}}\n\n// Listen for the clearing of the current output cell\nvar outputEl = gd.closest('.output');\nif (outputEl) {{\n    x.observe(outputEl, {childList: true});\n}}\n\n                        })                };                });            </script>        </div>"
     },
     "metadata": {}
    }
   ],
   "source": [
    "# we pick alpha before the drop of the R^2 value\n",
    "r2_means = []\n",
    "\n",
    "for i in alphas:\n",
    "    r2_means.append(cross_val_score(Lasso(alpha=i), original_X, original_y).mean())\n",
    "\n",
    "result = pd.DataFrame(zip(alphas, r2_means), columns=['alpha', 'R^2 (mean)'])\n",
    "fig = px.line(result, x='alpha', y='R^2 (mean)')\n",
    "fig.update_xaxes(type='log')\n",
    "fig.show()"
   ]
  },
  {
   "source": [
    "## Coefficients"
   ],
   "cell_type": "markdown",
   "metadata": {}
  },
  {
   "cell_type": "code",
   "execution_count": 5,
   "metadata": {},
   "outputs": [
    {
     "output_type": "display_data",
     "data": {
      "application/vnd.plotly.v1+json": {
       "config": {
        "plotlyServerURL": "https://plot.ly"
       },
       "data": [
        {
         "hovertemplate": "variable=age<br>alphas=%{x}<br>value=%{y}<extra></extra>",
         "legendgroup": "age",
         "line": {
          "color": "#636efa",
          "dash": "solid"
         },
         "mode": "lines",
         "name": "age",
         "orientation": "v",
         "showlegend": true,
         "type": "scatter",
         "x": [
          0.01,
          0.01123654800138751,
          0.012626001098748564,
          0.014187266741165962,
          0.01594159037455999,
          0.01791284454622004,
          0.020127853758499396,
          0.022616759492228647,
          0.025413430367026365,
          0.028555923019901074,
          0.032086999973704504,
          0.03605471154250502,
          0.04051304969235382,
          0.045522682755073096,
          0.051151780992931425,
          0.05747694424835353,
          0.06458424430196978,
          0.07257039612324216,
          0.08154407395185162,
          0.09162739011886736,
          0.10295755673125127,
          0.1156887528316282,
          0.12999422244132455,
          0.1460686320364989,
          0.1641307195375129,
          0.18442627085855348,
          0.20723146452190294,
          0.23285662984981953,
          0.2616504698748821,
          0.29400480643347093,
          0.33035991201283377,
          0.3712105009066361,
          0.4171124612056518,
          0.46869041923141924,
          0.5266462393484278,
          0.5917685748188821,
          0.6649435996665045,
          0.7471670675868078,
          0.8395578619995112,
          0.9433732216299774,
          1.0600258488068823,
          1.1911031332830067,
          1.3383887531737564,
          1.5038869469554101,
          1.689849786812457,
          1.8988078244652633,
          2.133604526501411,
          2.3974349678010762,
          2.6938893095901726,
          3.0270016537634614,
          3.401304938279253,
          3.8218926206331187,
          4.294487988789272,
          4.825522042741279,
          5.422221006501586,
          6.092704661368674,
          6.846096838574658,
          7.692649574879138,
          8.643882620598271,
          9.712740198471169,
          10.913767146512727,
          12.26330684177563,
          13.779723598335568,
          15.48365256585499,
          17.39828052930364,
          19.549661430912597,
          21.967070907932353,
          24.683404670686485,
          27.73562614198415,
          31.165269449294303,
          35.01900461431709,
          39.349272630958495,
          44.21499907374487,
          49.68239594734388,
          55.82586268862695,
          62.728998581962436,
          70.48574036451903,
          79.20164050192548,
          88.99530352885225,
          100
         ],
         "xaxis": "x",
         "y": [
          -1.3065752236532717,
          -0.231795287637405,
          0,
          0,
          0,
          0,
          0,
          0,
          0,
          0,
          0,
          0,
          0,
          0,
          0,
          0,
          0,
          0,
          0,
          0,
          0,
          0,
          0,
          0,
          0,
          0,
          0,
          0,
          0,
          0,
          0,
          0,
          0,
          0,
          0,
          0,
          0,
          0,
          0,
          0,
          0,
          0,
          0,
          0,
          0,
          0,
          0,
          0,
          0,
          0,
          0,
          0,
          0,
          0,
          0,
          0,
          0,
          0,
          0,
          0,
          0,
          0,
          0,
          0,
          0,
          0,
          0,
          0,
          0,
          0,
          0,
          0,
          0,
          0,
          0,
          0,
          0,
          0,
          0,
          0
         ],
         "yaxis": "y"
        },
        {
         "hovertemplate": "variable=sex<br>alphas=%{x}<br>value=%{y}<extra></extra>",
         "legendgroup": "sex",
         "line": {
          "color": "#EF553B",
          "dash": "solid"
         },
         "mode": "lines",
         "name": "sex",
         "orientation": "v",
         "showlegend": true,
         "type": "scatter",
         "x": [
          0.01,
          0.01123654800138751,
          0.012626001098748564,
          0.014187266741165962,
          0.01594159037455999,
          0.01791284454622004,
          0.020127853758499396,
          0.022616759492228647,
          0.025413430367026365,
          0.028555923019901074,
          0.032086999973704504,
          0.03605471154250502,
          0.04051304969235382,
          0.045522682755073096,
          0.051151780992931425,
          0.05747694424835353,
          0.06458424430196978,
          0.07257039612324216,
          0.08154407395185162,
          0.09162739011886736,
          0.10295755673125127,
          0.1156887528316282,
          0.12999422244132455,
          0.1460686320364989,
          0.1641307195375129,
          0.18442627085855348,
          0.20723146452190294,
          0.23285662984981953,
          0.2616504698748821,
          0.29400480643347093,
          0.33035991201283377,
          0.3712105009066361,
          0.4171124612056518,
          0.46869041923141924,
          0.5266462393484278,
          0.5917685748188821,
          0.6649435996665045,
          0.7471670675868078,
          0.8395578619995112,
          0.9433732216299774,
          1.0600258488068823,
          1.1911031332830067,
          1.3383887531737564,
          1.5038869469554101,
          1.689849786812457,
          1.8988078244652633,
          2.133604526501411,
          2.3974349678010762,
          2.6938893095901726,
          3.0270016537634614,
          3.401304938279253,
          3.8218926206331187,
          4.294487988789272,
          4.825522042741279,
          5.422221006501586,
          6.092704661368674,
          6.846096838574658,
          7.692649574879138,
          8.643882620598271,
          9.712740198471169,
          10.913767146512727,
          12.26330684177563,
          13.779723598335568,
          15.48365256585499,
          17.39828052930364,
          19.549661430912597,
          21.967070907932353,
          24.683404670686485,
          27.73562614198415,
          31.165269449294303,
          35.01900461431709,
          39.349272630958495,
          44.21499907374487,
          49.68239594734388,
          55.82586268862695,
          62.728998581962436,
          70.48574036451903,
          79.20164050192548,
          88.99530352885225,
          100
         ],
         "xaxis": "x",
         "y": [
          -228.8223309629698,
          -227.46527626264654,
          -225.94562888669319,
          -224.5966142068485,
          -223.07880439576627,
          -221.37506848493564,
          -219.45857429139414,
          -217.30680872860665,
          -214.8886365989151,
          -212.1709875757949,
          -209.11647155775304,
          -205.68602234311658,
          -201.82998589020792,
          -197.51537650940045,
          -193.1559581862762,
          -188.26134574344945,
          -182.76220083748055,
          -176.58259471389096,
          -169.63846332951584,
          -161.83810037228523,
          -153.06211053370242,
          -143.20935960052657,
          -132.14708932475514,
          -119.7067964501007,
          -105.2574790625583,
          -88.48349325246878,
          -69.79828778236403,
          -49.2565091272868,
          -26.196385241144444,
          -0.28476634468640316,
          0,
          0,
          0,
          0,
          0,
          0,
          0,
          0,
          0,
          0,
          0,
          0,
          0,
          0,
          0,
          0,
          0,
          0,
          0,
          0,
          0,
          0,
          0,
          0,
          0,
          0,
          0,
          0,
          0,
          0,
          0,
          0,
          0,
          0,
          0,
          0,
          0,
          0,
          0,
          0,
          0,
          0,
          0,
          0,
          0,
          0,
          0,
          0,
          0,
          0
         ],
         "yaxis": "y"
        },
        {
         "hovertemplate": "variable=bmi<br>alphas=%{x}<br>value=%{y}<extra></extra>",
         "legendgroup": "bmi",
         "line": {
          "color": "#00cc96",
          "dash": "solid"
         },
         "mode": "lines",
         "name": "bmi",
         "orientation": "v",
         "showlegend": true,
         "type": "scatter",
         "x": [
          0.01,
          0.01123654800138751,
          0.012626001098748564,
          0.014187266741165962,
          0.01594159037455999,
          0.01791284454622004,
          0.020127853758499396,
          0.022616759492228647,
          0.025413430367026365,
          0.028555923019901074,
          0.032086999973704504,
          0.03605471154250502,
          0.04051304969235382,
          0.045522682755073096,
          0.051151780992931425,
          0.05747694424835353,
          0.06458424430196978,
          0.07257039612324216,
          0.08154407395185162,
          0.09162739011886736,
          0.10295755673125127,
          0.1156887528316282,
          0.12999422244132455,
          0.1460686320364989,
          0.1641307195375129,
          0.18442627085855348,
          0.20723146452190294,
          0.23285662984981953,
          0.2616504698748821,
          0.29400480643347093,
          0.33035991201283377,
          0.3712105009066361,
          0.4171124612056518,
          0.46869041923141924,
          0.5266462393484278,
          0.5917685748188821,
          0.6649435996665045,
          0.7471670675868078,
          0.8395578619995112,
          0.9433732216299774,
          1.0600258488068823,
          1.1911031332830067,
          1.3383887531737564,
          1.5038869469554101,
          1.689849786812457,
          1.8988078244652633,
          2.133604526501411,
          2.3974349678010762,
          2.6938893095901726,
          3.0270016537634614,
          3.401304938279253,
          3.8218926206331187,
          4.294487988789272,
          4.825522042741279,
          5.422221006501586,
          6.092704661368674,
          6.846096838574658,
          7.692649574879138,
          8.643882620598271,
          9.712740198471169,
          10.913767146512727,
          12.26330684177563,
          13.779723598335568,
          15.48365256585499,
          17.39828052930364,
          19.549661430912597,
          21.967070907932353,
          24.683404670686485,
          27.73562614198415,
          31.165269449294303,
          35.01900461431709,
          39.349272630958495,
          44.21499907374487,
          49.68239594734388,
          55.82586268862695,
          62.728998581962436,
          70.48574036451903,
          79.20164050192548,
          88.99530352885225,
          100
         ],
         "xaxis": "x",
         "y": [
          525.5606580243626,
          526.262653863003,
          526.8231345360869,
          526.6008557835953,
          526.3552863957019,
          526.0756311824466,
          525.7658023747995,
          525.4140391407341,
          525.0194777415184,
          524.5770965114981,
          524.0817404132173,
          523.5213815412881,
          522.8946843963867,
          522.2273483283475,
          521.7131368039453,
          521.1280975124076,
          520.4692516837994,
          519.7296772329557,
          518.8993259411443,
          517.9625493713643,
          516.9286468805457,
          515.7525998747099,
          514.4176170338874,
          512.9352416758048,
          511.9709677919824,
          511.65010256855834,
          510.98173849173963,
          509.4300024864154,
          507.6820595311996,
          505.7179750392024,
          499.6340882260488,
          492.74516452993834,
          485.0087593432662,
          476.3157105194431,
          466.54772448071395,
          455.57188008060797,
          443.2388198348527,
          427.2160908724693,
          405.4677910328178,
          381.0307826680168,
          351.08316324075895,
          311.02976843626163,
          266.01398705894667,
          215.43016479510615,
          158.59141009897667,
          94.72427055076092,
          6.382059670502987,
          0,
          0,
          0,
          0,
          0,
          0,
          0,
          0,
          0,
          0,
          0,
          0,
          0,
          0,
          0,
          0,
          0,
          0,
          0,
          0,
          0,
          0,
          0,
          0,
          0,
          0,
          0,
          0,
          0,
          0,
          0,
          0,
          0
         ],
         "yaxis": "y"
        },
        {
         "hovertemplate": "variable=bp<br>alphas=%{x}<br>value=%{y}<extra></extra>",
         "legendgroup": "bp",
         "line": {
          "color": "#ab63fa",
          "dash": "solid"
         },
         "mode": "lines",
         "name": "bp",
         "orientation": "v",
         "showlegend": true,
         "type": "scatter",
         "x": [
          0.01,
          0.01123654800138751,
          0.012626001098748564,
          0.014187266741165962,
          0.01594159037455999,
          0.01791284454622004,
          0.020127853758499396,
          0.022616759492228647,
          0.025413430367026365,
          0.028555923019901074,
          0.032086999973704504,
          0.03605471154250502,
          0.04051304969235382,
          0.045522682755073096,
          0.051151780992931425,
          0.05747694424835353,
          0.06458424430196978,
          0.07257039612324216,
          0.08154407395185162,
          0.09162739011886736,
          0.10295755673125127,
          0.1156887528316282,
          0.12999422244132455,
          0.1460686320364989,
          0.1641307195375129,
          0.18442627085855348,
          0.20723146452190294,
          0.23285662984981953,
          0.2616504698748821,
          0.29400480643347093,
          0.33035991201283377,
          0.3712105009066361,
          0.4171124612056518,
          0.46869041923141924,
          0.5266462393484278,
          0.5917685748188821,
          0.6649435996665045,
          0.7471670675868078,
          0.8395578619995112,
          0.9433732216299774,
          1.0600258488068823,
          1.1911031332830067,
          1.3383887531737564,
          1.5038869469554101,
          1.689849786812457,
          1.8988078244652633,
          2.133604526501411,
          2.3974349678010762,
          2.6938893095901726,
          3.0270016537634614,
          3.401304938279253,
          3.8218926206331187,
          4.294487988789272,
          4.825522042741279,
          5.422221006501586,
          6.092704661368674,
          6.846096838574658,
          7.692649574879138,
          8.643882620598271,
          9.712740198471169,
          10.913767146512727,
          12.26330684177563,
          13.779723598335568,
          15.48365256585499,
          17.39828052930364,
          19.549661430912597,
          21.967070907932353,
          24.683404670686485,
          27.73562614198415,
          31.165269449294303,
          35.01900461431709,
          39.349272630958495,
          44.21499907374487,
          49.68239594734388,
          55.82586268862695,
          62.728998581962436,
          70.48574036451903,
          79.20164050192548,
          88.99530352885225,
          100
         ],
         "xaxis": "x",
         "y": [
          316.17531972782973,
          315.16231090323294,
          314.2576803502172,
          313.4371702226585,
          312.5164783979068,
          311.4808050913584,
          310.31840870055936,
          309.0111725722175,
          307.54250342828675,
          305.89252173553405,
          304.0390383318442,
          301.955220263885,
          299.6146278375288,
          297.0255078406336,
          294.7600682296878,
          292.2124609844809,
          289.349263927371,
          286.1321395656072,
          282.5173918214102,
          278.45538702907487,
          273.89566977885926,
          268.76852461891474,
          263.00607980841534,
          256.5356890748167,
          249.21187890226116,
          240.89446818631035,
          231.22604426797454,
          219.45903598626856,
          206.25987076827914,
          191.42856541326086,
          181.67931416171513,
          170.80227000902644,
          158.57910608919772,
          144.84448927779982,
          129.41152116960598,
          112.07019247444578,
          92.58452524534512,
          71.0253152496223,
          47.366906412724056,
          20.795578414616916,
          0,
          0,
          0,
          0,
          0,
          0,
          0,
          0,
          0,
          0,
          0,
          0,
          0,
          0,
          0,
          0,
          0,
          0,
          0,
          0,
          0,
          0,
          0,
          0,
          0,
          0,
          0,
          0,
          0,
          0,
          0,
          0,
          0,
          0,
          0,
          0,
          0,
          0,
          0,
          0
         ],
         "yaxis": "y"
        },
        {
         "hovertemplate": "variable=s1<br>alphas=%{x}<br>value=%{y}<extra></extra>",
         "legendgroup": "s1",
         "line": {
          "color": "#FFA15A",
          "dash": "solid"
         },
         "mode": "lines",
         "name": "s1",
         "orientation": "v",
         "showlegend": true,
         "type": "scatter",
         "x": [
          0.01,
          0.01123654800138751,
          0.012626001098748564,
          0.014187266741165962,
          0.01594159037455999,
          0.01791284454622004,
          0.020127853758499396,
          0.022616759492228647,
          0.025413430367026365,
          0.028555923019901074,
          0.032086999973704504,
          0.03605471154250502,
          0.04051304969235382,
          0.045522682755073096,
          0.051151780992931425,
          0.05747694424835353,
          0.06458424430196978,
          0.07257039612324216,
          0.08154407395185162,
          0.09162739011886736,
          0.10295755673125127,
          0.1156887528316282,
          0.12999422244132455,
          0.1460686320364989,
          0.1641307195375129,
          0.18442627085855348,
          0.20723146452190294,
          0.23285662984981953,
          0.2616504698748821,
          0.29400480643347093,
          0.33035991201283377,
          0.3712105009066361,
          0.4171124612056518,
          0.46869041923141924,
          0.5266462393484278,
          0.5917685748188821,
          0.6649435996665045,
          0.7471670675868078,
          0.8395578619995112,
          0.9433732216299774,
          1.0600258488068823,
          1.1911031332830067,
          1.3383887531737564,
          1.5038869469554101,
          1.689849786812457,
          1.8988078244652633,
          2.133604526501411,
          2.3974349678010762,
          2.6938893095901726,
          3.0270016537634614,
          3.401304938279253,
          3.8218926206331187,
          4.294487988789272,
          4.825522042741279,
          5.422221006501586,
          6.092704661368674,
          6.846096838574658,
          7.692649574879138,
          8.643882620598271,
          9.712740198471169,
          10.913767146512727,
          12.26330684177563,
          13.779723598335568,
          15.48365256585499,
          17.39828052930364,
          19.549661430912597,
          21.967070907932353,
          24.683404670686485,
          27.73562614198415,
          31.165269449294303,
          35.01900461431709,
          39.349272630958495,
          44.21499907374487,
          49.68239594734388,
          55.82586268862695,
          62.728998581962436,
          70.48574036451903,
          79.20164050192548,
          88.99530352885225,
          100
         ],
         "xaxis": "x",
         "y": [
          -307.0136770984272,
          -247.58599137222686,
          -194.17835759418517,
          -189.8180236759813,
          -184.95821880000574,
          -179.46226804067345,
          -173.3284275169193,
          -166.40182217870614,
          -158.62532494074725,
          -149.89640303570297,
          -140.10445971667036,
          -129.06620756530438,
          -116.69096911189509,
          -103.64844135787772,
          -98.36929274780286,
          -92.43559241546176,
          -85.76801152924389,
          -78.2763663553987,
          -69.85861505917693,
          -60.39770538470568,
          -49.77543199449527,
          -37.833216387111825,
          -24.40591836465902,
          -9.325092743135633,
          0,
          0,
          0,
          0,
          0,
          0,
          0,
          0,
          0,
          0,
          0,
          0,
          0,
          0,
          0,
          0,
          0,
          0,
          0,
          0,
          0,
          0,
          0,
          0,
          0,
          0,
          0,
          0,
          0,
          0,
          0,
          0,
          0,
          0,
          0,
          0,
          0,
          0,
          0,
          0,
          0,
          0,
          0,
          0,
          0,
          0,
          0,
          0,
          0,
          0,
          0,
          0,
          0,
          0,
          0,
          0
         ],
         "yaxis": "y"
        },
        {
         "hovertemplate": "variable=s2<br>alphas=%{x}<br>value=%{y}<extra></extra>",
         "legendgroup": "s2",
         "line": {
          "color": "#19d3f3",
          "dash": "solid"
         },
         "mode": "lines",
         "name": "s2",
         "orientation": "v",
         "showlegend": true,
         "type": "scatter",
         "x": [
          0.01,
          0.01123654800138751,
          0.012626001098748564,
          0.014187266741165962,
          0.01594159037455999,
          0.01791284454622004,
          0.020127853758499396,
          0.022616759492228647,
          0.025413430367026365,
          0.028555923019901074,
          0.032086999973704504,
          0.03605471154250502,
          0.04051304969235382,
          0.045522682755073096,
          0.051151780992931425,
          0.05747694424835353,
          0.06458424430196978,
          0.07257039612324216,
          0.08154407395185162,
          0.09162739011886736,
          0.10295755673125127,
          0.1156887528316282,
          0.12999422244132455,
          0.1460686320364989,
          0.1641307195375129,
          0.18442627085855348,
          0.20723146452190294,
          0.23285662984981953,
          0.2616504698748821,
          0.29400480643347093,
          0.33035991201283377,
          0.3712105009066361,
          0.4171124612056518,
          0.46869041923141924,
          0.5266462393484278,
          0.5917685748188821,
          0.6649435996665045,
          0.7471670675868078,
          0.8395578619995112,
          0.9433732216299774,
          1.0600258488068823,
          1.1911031332830067,
          1.3383887531737564,
          1.5038869469554101,
          1.689849786812457,
          1.8988078244652633,
          2.133604526501411,
          2.3974349678010762,
          2.6938893095901726,
          3.0270016537634614,
          3.401304938279253,
          3.8218926206331187,
          4.294487988789272,
          4.825522042741279,
          5.422221006501586,
          6.092704661368674,
          6.846096838574658,
          7.692649574879138,
          8.643882620598271,
          9.712740198471169,
          10.913767146512727,
          12.26330684177563,
          13.779723598335568,
          15.48365256585499,
          17.39828052930364,
          19.549661430912597,
          21.967070907932353,
          24.683404670686485,
          27.73562614198415,
          31.165269449294303,
          35.01900461431709,
          39.349272630958495,
          44.21499907374487,
          49.68239594734388,
          55.82586268862695,
          62.728998581962436,
          70.48574036451903,
          79.20164050192548,
          88.99530352885225,
          100
         ],
         "xaxis": "x",
         "y": [
          89.32168771685866,
          41.858168386598784,
          0,
          0,
          0,
          0,
          0,
          0,
          0,
          0,
          0,
          0,
          0,
          0,
          0,
          0,
          0,
          0,
          0,
          0,
          0,
          0,
          0,
          0,
          0,
          0,
          0,
          0,
          0,
          0,
          0,
          0,
          0,
          0,
          0,
          0,
          0,
          0,
          0,
          0,
          0,
          0,
          0,
          0,
          0,
          0,
          0,
          0,
          0,
          0,
          0,
          0,
          0,
          0,
          0,
          0,
          0,
          0,
          0,
          0,
          0,
          0,
          0,
          0,
          0,
          0,
          0,
          0,
          0,
          0,
          0,
          0,
          0,
          0,
          0,
          0,
          0,
          0,
          0,
          0
         ],
         "yaxis": "y"
        },
        {
         "hovertemplate": "variable=s3<br>alphas=%{x}<br>value=%{y}<extra></extra>",
         "legendgroup": "s3",
         "line": {
          "color": "#FF6692",
          "dash": "solid"
         },
         "mode": "lines",
         "name": "s3",
         "orientation": "v",
         "showlegend": true,
         "type": "scatter",
         "x": [
          0.01,
          0.01123654800138751,
          0.012626001098748564,
          0.014187266741165962,
          0.01594159037455999,
          0.01791284454622004,
          0.020127853758499396,
          0.022616759492228647,
          0.025413430367026365,
          0.028555923019901074,
          0.032086999973704504,
          0.03605471154250502,
          0.04051304969235382,
          0.045522682755073096,
          0.051151780992931425,
          0.05747694424835353,
          0.06458424430196978,
          0.07257039612324216,
          0.08154407395185162,
          0.09162739011886736,
          0.10295755673125127,
          0.1156887528316282,
          0.12999422244132455,
          0.1460686320364989,
          0.1641307195375129,
          0.18442627085855348,
          0.20723146452190294,
          0.23285662984981953,
          0.2616504698748821,
          0.29400480643347093,
          0.33035991201283377,
          0.3712105009066361,
          0.4171124612056518,
          0.46869041923141924,
          0.5266462393484278,
          0.5917685748188821,
          0.6649435996665045,
          0.7471670675868078,
          0.8395578619995112,
          0.9433732216299774,
          1.0600258488068823,
          1.1911031332830067,
          1.3383887531737564,
          1.5038869469554101,
          1.689849786812457,
          1.8988078244652633,
          2.133604526501411,
          2.3974349678010762,
          2.6938893095901726,
          3.0270016537634614,
          3.401304938279253,
          3.8218926206331187,
          4.294487988789272,
          4.825522042741279,
          5.422221006501586,
          6.092704661368674,
          6.846096838574658,
          7.692649574879138,
          8.643882620598271,
          9.712740198471169,
          10.913767146512727,
          12.26330684177563,
          13.779723598335568,
          15.48365256585499,
          17.39828052930364,
          19.549661430912597,
          21.967070907932353,
          24.683404670686485,
          27.73562614198415,
          31.165269449294303,
          35.01900461431709,
          39.349272630958495,
          44.21499907374487,
          49.68239594734388,
          55.82586268862695,
          62.728998581962436,
          70.48574036451903,
          79.20164050192548,
          88.99530352885225,
          100
         ],
         "xaxis": "x",
         "y": [
          -105.08139789913973,
          -130.31703211332268,
          -153.34188810379055,
          -156.77079363018774,
          -160.57296345625073,
          -164.890279047032,
          -169.68815221757242,
          -175.1231168905451,
          -181.22168682518506,
          -188.06264819909845,
          -195.72863271914622,
          -204.3879004827708,
          -214.08221748833452,
          -223.8490529178962,
          -222.43105074904022,
          -220.8411762867523,
          -219.05520942336668,
          -217.04783298598238,
          -214.79182059622372,
          -212.2599030414589,
          -209.40247365266688,
          -206.20113418624172,
          -202.61510125949619,
          -198.57498358005992,
          -191.28116849008998,
          -179.3614842187912,
          -165.90853804894988,
          -150.6498092639964,
          -133.5329518168617,
          -114.29951278309801,
          -104.32384118536935,
          -93.24721812245349,
          -80.79862175380912,
          -66.81069668919204,
          -51.09309754635385,
          -33.43194182284722,
          -13.586899418130916,
          0,
          0,
          0,
          0,
          0,
          0,
          0,
          0,
          0,
          0,
          0,
          0,
          0,
          0,
          0,
          0,
          0,
          0,
          0,
          0,
          0,
          0,
          0,
          0,
          0,
          0,
          0,
          0,
          0,
          0,
          0,
          0,
          0,
          0,
          0,
          0,
          0,
          0,
          0,
          0,
          0,
          0,
          0
         ],
         "yaxis": "y"
        },
        {
         "hovertemplate": "variable=s4<br>alphas=%{x}<br>value=%{y}<extra></extra>",
         "legendgroup": "s4",
         "line": {
          "color": "#B6E880",
          "dash": "solid"
         },
         "mode": "lines",
         "name": "s4",
         "orientation": "v",
         "showlegend": true,
         "type": "scatter",
         "x": [
          0.01,
          0.01123654800138751,
          0.012626001098748564,
          0.014187266741165962,
          0.01594159037455999,
          0.01791284454622004,
          0.020127853758499396,
          0.022616759492228647,
          0.025413430367026365,
          0.028555923019901074,
          0.032086999973704504,
          0.03605471154250502,
          0.04051304969235382,
          0.045522682755073096,
          0.051151780992931425,
          0.05747694424835353,
          0.06458424430196978,
          0.07257039612324216,
          0.08154407395185162,
          0.09162739011886736,
          0.10295755673125127,
          0.1156887528316282,
          0.12999422244132455,
          0.1460686320364989,
          0.1641307195375129,
          0.18442627085855348,
          0.20723146452190294,
          0.23285662984981953,
          0.2616504698748821,
          0.29400480643347093,
          0.33035991201283377,
          0.3712105009066361,
          0.4171124612056518,
          0.46869041923141924,
          0.5266462393484278,
          0.5917685748188821,
          0.6649435996665045,
          0.7471670675868078,
          0.8395578619995112,
          0.9433732216299774,
          1.0600258488068823,
          1.1911031332830067,
          1.3383887531737564,
          1.5038869469554101,
          1.689849786812457,
          1.8988078244652633,
          2.133604526501411,
          2.3974349678010762,
          2.6938893095901726,
          3.0270016537634614,
          3.401304938279253,
          3.8218926206331187,
          4.294487988789272,
          4.825522042741279,
          5.422221006501586,
          6.092704661368674,
          6.846096838574658,
          7.692649574879138,
          8.643882620598271,
          9.712740198471169,
          10.913767146512727,
          12.26330684177563,
          13.779723598335568,
          15.48365256585499,
          17.39828052930364,
          19.549661430912597,
          21.967070907932353,
          24.683404670686485,
          27.73562614198415,
          31.165269449294303,
          35.01900461431709,
          39.349272630958495,
          44.21499907374487,
          49.68239594734388,
          55.82586268862695,
          62.728998581962436,
          70.48574036451903,
          79.20164050192548,
          88.99530352885225,
          100
         ],
         "xaxis": "x",
         "y": [
          119.59798934448945,
          112.56482633629332,
          105.21860245090159,
          100.12853527479557,
          94.46139489816672,
          88.04707591759006,
          80.89457744177446,
          72.81244364454503,
          63.73963631019749,
          53.55702898731678,
          42.13684758338647,
          29.257726882702976,
          14.822879239282,
          0,
          0,
          0,
          0,
          0,
          0,
          0,
          0,
          0,
          0,
          0,
          0,
          0,
          0,
          0,
          0,
          0,
          0,
          0,
          0,
          0,
          0,
          0,
          0,
          0,
          0,
          0,
          0,
          0,
          0,
          0,
          0,
          0,
          0,
          0,
          0,
          0,
          0,
          0,
          0,
          0,
          0,
          0,
          0,
          0,
          0,
          0,
          0,
          0,
          0,
          0,
          0,
          0,
          0,
          0,
          0,
          0,
          0,
          0,
          0,
          0,
          0,
          0,
          0,
          0,
          0,
          0
         ],
         "yaxis": "y"
        },
        {
         "hovertemplate": "variable=s5<br>alphas=%{x}<br>value=%{y}<extra></extra>",
         "legendgroup": "s5",
         "line": {
          "color": "#FF97FF",
          "dash": "solid"
         },
         "mode": "lines",
         "name": "s5",
         "orientation": "v",
         "showlegend": true,
         "type": "scatter",
         "x": [
          0.01,
          0.01123654800138751,
          0.012626001098748564,
          0.014187266741165962,
          0.01594159037455999,
          0.01791284454622004,
          0.020127853758499396,
          0.022616759492228647,
          0.025413430367026365,
          0.028555923019901074,
          0.032086999973704504,
          0.03605471154250502,
          0.04051304969235382,
          0.045522682755073096,
          0.051151780992931425,
          0.05747694424835353,
          0.06458424430196978,
          0.07257039612324216,
          0.08154407395185162,
          0.09162739011886736,
          0.10295755673125127,
          0.1156887528316282,
          0.12999422244132455,
          0.1460686320364989,
          0.1641307195375129,
          0.18442627085855348,
          0.20723146452190294,
          0.23285662984981953,
          0.2616504698748821,
          0.29400480643347093,
          0.33035991201283377,
          0.3712105009066361,
          0.4171124612056518,
          0.46869041923141924,
          0.5266462393484278,
          0.5917685748188821,
          0.6649435996665045,
          0.7471670675868078,
          0.8395578619995112,
          0.9433732216299774,
          1.0600258488068823,
          1.1911031332830067,
          1.3383887531737564,
          1.5038869469554101,
          1.689849786812457,
          1.8988078244652633,
          2.133604526501411,
          2.3974349678010762,
          2.6938893095901726,
          3.0270016537634614,
          3.401304938279253,
          3.8218926206331187,
          4.294487988789272,
          4.825522042741279,
          5.422221006501586,
          6.092704661368674,
          6.846096838574658,
          7.692649574879138,
          8.643882620598271,
          9.712740198471169,
          10.913767146512727,
          12.26330684177563,
          13.779723598335568,
          15.48365256585499,
          17.39828052930364,
          19.549661430912597,
          21.967070907932353,
          24.683404670686485,
          27.73562614198415,
          31.165269449294303,
          35.01900461431709,
          39.349272630958495,
          44.21499907374487,
          49.68239594734388,
          55.82586268862695,
          62.728998581962436,
          70.48574036451903,
          79.20164050192548,
          88.99530352885225,
          100
         ],
         "xaxis": "x",
         "y": [
          571.330870564746,
          549.2882734043554,
          529.7672464556322,
          529.0422581794486,
          528.2334407783908,
          527.3194492274815,
          526.2985513376684,
          525.1463896096719,
          523.8527272010119,
          522.4004421291481,
          520.7709715195441,
          518.9348079631728,
          516.8756897825801,
          514.5693168702766,
          511.4011941133765,
          507.84192871628017,
          503.8427472898795,
          499.3491525834393,
          494.2999570752285,
          488.626011172504,
          482.25232200142665,
          475.0890490458871,
          467.0381504832457,
          457.99261144326186,
          452.05532267269564,
          451.27614400180494,
          449.9177607796963,
          446.9160238061167,
          443.5278576818108,
          439.7207285525675,
          434.1356496741393,
          427.8480086023367,
          420.7822782774295,
          412.8428364813612,
          403.9216445967871,
          393.8973045127261,
          382.63340665904786,
          367.33781643863,
          345.51334405516275,
          320.98497441814754,
          290.96850810885695,
          250.90251685408188,
          205.8864530314489,
          155.30466114435183,
          98.46818789079663,
          34.603611896481176,
          0,
          0,
          0,
          0,
          0,
          0,
          0,
          0,
          0,
          0,
          0,
          0,
          0,
          0,
          0,
          0,
          0,
          0,
          0,
          0,
          0,
          0,
          0,
          0,
          0,
          0,
          0,
          0,
          0,
          0,
          0,
          0,
          0,
          0
         ],
         "yaxis": "y"
        },
        {
         "hovertemplate": "variable=s6<br>alphas=%{x}<br>value=%{y}<extra></extra>",
         "legendgroup": "s6",
         "line": {
          "color": "#FECB52",
          "dash": "solid"
         },
         "mode": "lines",
         "name": "s6",
         "orientation": "v",
         "showlegend": true,
         "type": "scatter",
         "x": [
          0.01,
          0.01123654800138751,
          0.012626001098748564,
          0.014187266741165962,
          0.01594159037455999,
          0.01791284454622004,
          0.020127853758499396,
          0.022616759492228647,
          0.025413430367026365,
          0.028555923019901074,
          0.032086999973704504,
          0.03605471154250502,
          0.04051304969235382,
          0.045522682755073096,
          0.051151780992931425,
          0.05747694424835353,
          0.06458424430196978,
          0.07257039612324216,
          0.08154407395185162,
          0.09162739011886736,
          0.10295755673125127,
          0.1156887528316282,
          0.12999422244132455,
          0.1460686320364989,
          0.1641307195375129,
          0.18442627085855348,
          0.20723146452190294,
          0.23285662984981953,
          0.2616504698748821,
          0.29400480643347093,
          0.33035991201283377,
          0.3712105009066361,
          0.4171124612056518,
          0.46869041923141924,
          0.5266462393484278,
          0.5917685748188821,
          0.6649435996665045,
          0.7471670675868078,
          0.8395578619995112,
          0.9433732216299774,
          1.0600258488068823,
          1.1911031332830067,
          1.3383887531737564,
          1.5038869469554101,
          1.689849786812457,
          1.8988078244652633,
          2.133604526501411,
          2.3974349678010762,
          2.6938893095901726,
          3.0270016537634614,
          3.401304938279253,
          3.8218926206331187,
          4.294487988789272,
          4.825522042741279,
          5.422221006501586,
          6.092704661368674,
          6.846096838574658,
          7.692649574879138,
          8.643882620598271,
          9.712740198471169,
          10.913767146512727,
          12.26330684177563,
          13.779723598335568,
          15.48365256585499,
          17.39828052930364,
          19.549661430912597,
          21.967070907932353,
          24.683404670686485,
          27.73562614198415,
          31.165269449294303,
          35.01900461431709,
          39.349272630958495,
          44.21499907374487,
          49.68239594734388,
          55.82586268862695,
          62.728998581962436,
          70.48574036451903,
          79.20164050192548,
          88.99530352885225,
          100
         ],
         "xaxis": "x",
         "y": [
          65.00731594841481,
          64.68293900824473,
          64.42009406741903,
          63.95778877711062,
          63.43805382051589,
          62.85428470356945,
          62.198053029873975,
          61.46090260720355,
          60.6325561062624,
          59.70171970865753,
          58.655672448063484,
          57.48051184436203,
          56.15985159581931,
          54.65249078917782,
          52.48217679694723,
          50.046101214498904,
          47.309449292374126,
          44.23420642908478,
          40.77845495002232,
          36.89606415291447,
          32.527543682914555,
          27.623543910249953,
          22.115815659395736,
          15.920975245367194,
          9.882215563813824,
          4.416880398111599,
          0,
          0,
          0,
          0,
          0,
          0,
          0,
          0,
          0,
          0,
          0,
          0,
          0,
          0,
          0,
          0,
          0,
          0,
          0,
          0,
          0,
          0,
          0,
          0,
          0,
          0,
          0,
          0,
          0,
          0,
          0,
          0,
          0,
          0,
          0,
          0,
          0,
          0,
          0,
          0,
          0,
          0,
          0,
          0,
          0,
          0,
          0,
          0,
          0,
          0,
          0,
          0,
          0,
          0
         ],
         "yaxis": "y"
        }
       ],
       "layout": {
        "legend": {
         "title": {
          "text": "variable"
         },
         "tracegroupgap": 0
        },
        "margin": {
         "t": 60
        },
        "template": {
         "data": {
          "bar": [
           {
            "error_x": {
             "color": "#2a3f5f"
            },
            "error_y": {
             "color": "#2a3f5f"
            },
            "marker": {
             "line": {
              "color": "#E5ECF6",
              "width": 0.5
             }
            },
            "type": "bar"
           }
          ],
          "barpolar": [
           {
            "marker": {
             "line": {
              "color": "#E5ECF6",
              "width": 0.5
             }
            },
            "type": "barpolar"
           }
          ],
          "carpet": [
           {
            "aaxis": {
             "endlinecolor": "#2a3f5f",
             "gridcolor": "white",
             "linecolor": "white",
             "minorgridcolor": "white",
             "startlinecolor": "#2a3f5f"
            },
            "baxis": {
             "endlinecolor": "#2a3f5f",
             "gridcolor": "white",
             "linecolor": "white",
             "minorgridcolor": "white",
             "startlinecolor": "#2a3f5f"
            },
            "type": "carpet"
           }
          ],
          "choropleth": [
           {
            "colorbar": {
             "outlinewidth": 0,
             "ticks": ""
            },
            "type": "choropleth"
           }
          ],
          "contour": [
           {
            "colorbar": {
             "outlinewidth": 0,
             "ticks": ""
            },
            "colorscale": [
             [
              0,
              "#0d0887"
             ],
             [
              0.1111111111111111,
              "#46039f"
             ],
             [
              0.2222222222222222,
              "#7201a8"
             ],
             [
              0.3333333333333333,
              "#9c179e"
             ],
             [
              0.4444444444444444,
              "#bd3786"
             ],
             [
              0.5555555555555556,
              "#d8576b"
             ],
             [
              0.6666666666666666,
              "#ed7953"
             ],
             [
              0.7777777777777778,
              "#fb9f3a"
             ],
             [
              0.8888888888888888,
              "#fdca26"
             ],
             [
              1,
              "#f0f921"
             ]
            ],
            "type": "contour"
           }
          ],
          "contourcarpet": [
           {
            "colorbar": {
             "outlinewidth": 0,
             "ticks": ""
            },
            "type": "contourcarpet"
           }
          ],
          "heatmap": [
           {
            "colorbar": {
             "outlinewidth": 0,
             "ticks": ""
            },
            "colorscale": [
             [
              0,
              "#0d0887"
             ],
             [
              0.1111111111111111,
              "#46039f"
             ],
             [
              0.2222222222222222,
              "#7201a8"
             ],
             [
              0.3333333333333333,
              "#9c179e"
             ],
             [
              0.4444444444444444,
              "#bd3786"
             ],
             [
              0.5555555555555556,
              "#d8576b"
             ],
             [
              0.6666666666666666,
              "#ed7953"
             ],
             [
              0.7777777777777778,
              "#fb9f3a"
             ],
             [
              0.8888888888888888,
              "#fdca26"
             ],
             [
              1,
              "#f0f921"
             ]
            ],
            "type": "heatmap"
           }
          ],
          "heatmapgl": [
           {
            "colorbar": {
             "outlinewidth": 0,
             "ticks": ""
            },
            "colorscale": [
             [
              0,
              "#0d0887"
             ],
             [
              0.1111111111111111,
              "#46039f"
             ],
             [
              0.2222222222222222,
              "#7201a8"
             ],
             [
              0.3333333333333333,
              "#9c179e"
             ],
             [
              0.4444444444444444,
              "#bd3786"
             ],
             [
              0.5555555555555556,
              "#d8576b"
             ],
             [
              0.6666666666666666,
              "#ed7953"
             ],
             [
              0.7777777777777778,
              "#fb9f3a"
             ],
             [
              0.8888888888888888,
              "#fdca26"
             ],
             [
              1,
              "#f0f921"
             ]
            ],
            "type": "heatmapgl"
           }
          ],
          "histogram": [
           {
            "marker": {
             "colorbar": {
              "outlinewidth": 0,
              "ticks": ""
             }
            },
            "type": "histogram"
           }
          ],
          "histogram2d": [
           {
            "colorbar": {
             "outlinewidth": 0,
             "ticks": ""
            },
            "colorscale": [
             [
              0,
              "#0d0887"
             ],
             [
              0.1111111111111111,
              "#46039f"
             ],
             [
              0.2222222222222222,
              "#7201a8"
             ],
             [
              0.3333333333333333,
              "#9c179e"
             ],
             [
              0.4444444444444444,
              "#bd3786"
             ],
             [
              0.5555555555555556,
              "#d8576b"
             ],
             [
              0.6666666666666666,
              "#ed7953"
             ],
             [
              0.7777777777777778,
              "#fb9f3a"
             ],
             [
              0.8888888888888888,
              "#fdca26"
             ],
             [
              1,
              "#f0f921"
             ]
            ],
            "type": "histogram2d"
           }
          ],
          "histogram2dcontour": [
           {
            "colorbar": {
             "outlinewidth": 0,
             "ticks": ""
            },
            "colorscale": [
             [
              0,
              "#0d0887"
             ],
             [
              0.1111111111111111,
              "#46039f"
             ],
             [
              0.2222222222222222,
              "#7201a8"
             ],
             [
              0.3333333333333333,
              "#9c179e"
             ],
             [
              0.4444444444444444,
              "#bd3786"
             ],
             [
              0.5555555555555556,
              "#d8576b"
             ],
             [
              0.6666666666666666,
              "#ed7953"
             ],
             [
              0.7777777777777778,
              "#fb9f3a"
             ],
             [
              0.8888888888888888,
              "#fdca26"
             ],
             [
              1,
              "#f0f921"
             ]
            ],
            "type": "histogram2dcontour"
           }
          ],
          "mesh3d": [
           {
            "colorbar": {
             "outlinewidth": 0,
             "ticks": ""
            },
            "type": "mesh3d"
           }
          ],
          "parcoords": [
           {
            "line": {
             "colorbar": {
              "outlinewidth": 0,
              "ticks": ""
             }
            },
            "type": "parcoords"
           }
          ],
          "pie": [
           {
            "automargin": true,
            "type": "pie"
           }
          ],
          "scatter": [
           {
            "marker": {
             "colorbar": {
              "outlinewidth": 0,
              "ticks": ""
             }
            },
            "type": "scatter"
           }
          ],
          "scatter3d": [
           {
            "line": {
             "colorbar": {
              "outlinewidth": 0,
              "ticks": ""
             }
            },
            "marker": {
             "colorbar": {
              "outlinewidth": 0,
              "ticks": ""
             }
            },
            "type": "scatter3d"
           }
          ],
          "scattercarpet": [
           {
            "marker": {
             "colorbar": {
              "outlinewidth": 0,
              "ticks": ""
             }
            },
            "type": "scattercarpet"
           }
          ],
          "scattergeo": [
           {
            "marker": {
             "colorbar": {
              "outlinewidth": 0,
              "ticks": ""
             }
            },
            "type": "scattergeo"
           }
          ],
          "scattergl": [
           {
            "marker": {
             "colorbar": {
              "outlinewidth": 0,
              "ticks": ""
             }
            },
            "type": "scattergl"
           }
          ],
          "scattermapbox": [
           {
            "marker": {
             "colorbar": {
              "outlinewidth": 0,
              "ticks": ""
             }
            },
            "type": "scattermapbox"
           }
          ],
          "scatterpolar": [
           {
            "marker": {
             "colorbar": {
              "outlinewidth": 0,
              "ticks": ""
             }
            },
            "type": "scatterpolar"
           }
          ],
          "scatterpolargl": [
           {
            "marker": {
             "colorbar": {
              "outlinewidth": 0,
              "ticks": ""
             }
            },
            "type": "scatterpolargl"
           }
          ],
          "scatterternary": [
           {
            "marker": {
             "colorbar": {
              "outlinewidth": 0,
              "ticks": ""
             }
            },
            "type": "scatterternary"
           }
          ],
          "surface": [
           {
            "colorbar": {
             "outlinewidth": 0,
             "ticks": ""
            },
            "colorscale": [
             [
              0,
              "#0d0887"
             ],
             [
              0.1111111111111111,
              "#46039f"
             ],
             [
              0.2222222222222222,
              "#7201a8"
             ],
             [
              0.3333333333333333,
              "#9c179e"
             ],
             [
              0.4444444444444444,
              "#bd3786"
             ],
             [
              0.5555555555555556,
              "#d8576b"
             ],
             [
              0.6666666666666666,
              "#ed7953"
             ],
             [
              0.7777777777777778,
              "#fb9f3a"
             ],
             [
              0.8888888888888888,
              "#fdca26"
             ],
             [
              1,
              "#f0f921"
             ]
            ],
            "type": "surface"
           }
          ],
          "table": [
           {
            "cells": {
             "fill": {
              "color": "#EBF0F8"
             },
             "line": {
              "color": "white"
             }
            },
            "header": {
             "fill": {
              "color": "#C8D4E3"
             },
             "line": {
              "color": "white"
             }
            },
            "type": "table"
           }
          ]
         },
         "layout": {
          "annotationdefaults": {
           "arrowcolor": "#2a3f5f",
           "arrowhead": 0,
           "arrowwidth": 1
          },
          "coloraxis": {
           "colorbar": {
            "outlinewidth": 0,
            "ticks": ""
           }
          },
          "colorscale": {
           "diverging": [
            [
             0,
             "#8e0152"
            ],
            [
             0.1,
             "#c51b7d"
            ],
            [
             0.2,
             "#de77ae"
            ],
            [
             0.3,
             "#f1b6da"
            ],
            [
             0.4,
             "#fde0ef"
            ],
            [
             0.5,
             "#f7f7f7"
            ],
            [
             0.6,
             "#e6f5d0"
            ],
            [
             0.7,
             "#b8e186"
            ],
            [
             0.8,
             "#7fbc41"
            ],
            [
             0.9,
             "#4d9221"
            ],
            [
             1,
             "#276419"
            ]
           ],
           "sequential": [
            [
             0,
             "#0d0887"
            ],
            [
             0.1111111111111111,
             "#46039f"
            ],
            [
             0.2222222222222222,
             "#7201a8"
            ],
            [
             0.3333333333333333,
             "#9c179e"
            ],
            [
             0.4444444444444444,
             "#bd3786"
            ],
            [
             0.5555555555555556,
             "#d8576b"
            ],
            [
             0.6666666666666666,
             "#ed7953"
            ],
            [
             0.7777777777777778,
             "#fb9f3a"
            ],
            [
             0.8888888888888888,
             "#fdca26"
            ],
            [
             1,
             "#f0f921"
            ]
           ],
           "sequentialminus": [
            [
             0,
             "#0d0887"
            ],
            [
             0.1111111111111111,
             "#46039f"
            ],
            [
             0.2222222222222222,
             "#7201a8"
            ],
            [
             0.3333333333333333,
             "#9c179e"
            ],
            [
             0.4444444444444444,
             "#bd3786"
            ],
            [
             0.5555555555555556,
             "#d8576b"
            ],
            [
             0.6666666666666666,
             "#ed7953"
            ],
            [
             0.7777777777777778,
             "#fb9f3a"
            ],
            [
             0.8888888888888888,
             "#fdca26"
            ],
            [
             1,
             "#f0f921"
            ]
           ]
          },
          "colorway": [
           "#636efa",
           "#EF553B",
           "#00cc96",
           "#ab63fa",
           "#FFA15A",
           "#19d3f3",
           "#FF6692",
           "#B6E880",
           "#FF97FF",
           "#FECB52"
          ],
          "font": {
           "color": "#2a3f5f"
          },
          "geo": {
           "bgcolor": "white",
           "lakecolor": "white",
           "landcolor": "#E5ECF6",
           "showlakes": true,
           "showland": true,
           "subunitcolor": "white"
          },
          "hoverlabel": {
           "align": "left"
          },
          "hovermode": "closest",
          "mapbox": {
           "style": "light"
          },
          "paper_bgcolor": "white",
          "plot_bgcolor": "#E5ECF6",
          "polar": {
           "angularaxis": {
            "gridcolor": "white",
            "linecolor": "white",
            "ticks": ""
           },
           "bgcolor": "#E5ECF6",
           "radialaxis": {
            "gridcolor": "white",
            "linecolor": "white",
            "ticks": ""
           }
          },
          "scene": {
           "xaxis": {
            "backgroundcolor": "#E5ECF6",
            "gridcolor": "white",
            "gridwidth": 2,
            "linecolor": "white",
            "showbackground": true,
            "ticks": "",
            "zerolinecolor": "white"
           },
           "yaxis": {
            "backgroundcolor": "#E5ECF6",
            "gridcolor": "white",
            "gridwidth": 2,
            "linecolor": "white",
            "showbackground": true,
            "ticks": "",
            "zerolinecolor": "white"
           },
           "zaxis": {
            "backgroundcolor": "#E5ECF6",
            "gridcolor": "white",
            "gridwidth": 2,
            "linecolor": "white",
            "showbackground": true,
            "ticks": "",
            "zerolinecolor": "white"
           }
          },
          "shapedefaults": {
           "line": {
            "color": "#2a3f5f"
           }
          },
          "ternary": {
           "aaxis": {
            "gridcolor": "white",
            "linecolor": "white",
            "ticks": ""
           },
           "baxis": {
            "gridcolor": "white",
            "linecolor": "white",
            "ticks": ""
           },
           "bgcolor": "#E5ECF6",
           "caxis": {
            "gridcolor": "white",
            "linecolor": "white",
            "ticks": ""
           }
          },
          "title": {
           "x": 0.05
          },
          "xaxis": {
           "automargin": true,
           "gridcolor": "white",
           "linecolor": "white",
           "ticks": "",
           "title": {
            "standoff": 15
           },
           "zerolinecolor": "white",
           "zerolinewidth": 2
          },
          "yaxis": {
           "automargin": true,
           "gridcolor": "white",
           "linecolor": "white",
           "ticks": "",
           "title": {
            "standoff": 15
           },
           "zerolinecolor": "white",
           "zerolinewidth": 2
          }
         }
        },
        "xaxis": {
         "anchor": "y",
         "domain": [
          0,
          1
         ],
         "title": {
          "text": "alphas"
         },
         "type": "log"
        },
        "yaxis": {
         "anchor": "x",
         "domain": [
          0,
          1
         ],
         "title": {
          "text": "value"
         }
        }
       }
      },
      "text/html": "<div>                            <div id=\"3ab675a9-c663-4760-991e-79143a4013fb\" class=\"plotly-graph-div\" style=\"height:525px; width:100%;\"></div>            <script type=\"text/javascript\">                require([\"plotly\"], function(Plotly) {                    window.PLOTLYENV=window.PLOTLYENV || {};                                    if (document.getElementById(\"3ab675a9-c663-4760-991e-79143a4013fb\")) {                    Plotly.newPlot(                        \"3ab675a9-c663-4760-991e-79143a4013fb\",                        [{\"hovertemplate\": \"variable=age<br>alphas=%{x}<br>value=%{y}<extra></extra>\", \"legendgroup\": \"age\", \"line\": {\"color\": \"#636efa\", \"dash\": \"solid\"}, \"mode\": \"lines\", \"name\": \"age\", \"orientation\": \"v\", \"showlegend\": true, \"type\": \"scatter\", \"x\": [0.01, 0.01123654800138751, 0.012626001098748564, 0.014187266741165962, 0.01594159037455999, 0.01791284454622004, 0.020127853758499396, 0.022616759492228647, 0.025413430367026365, 0.028555923019901074, 0.032086999973704504, 0.03605471154250502, 0.04051304969235382, 0.045522682755073096, 0.051151780992931425, 0.05747694424835353, 0.06458424430196978, 0.07257039612324216, 0.08154407395185162, 0.09162739011886736, 0.10295755673125127, 0.1156887528316282, 0.12999422244132455, 0.1460686320364989, 0.1641307195375129, 0.18442627085855348, 0.20723146452190294, 0.23285662984981953, 0.2616504698748821, 0.29400480643347093, 0.33035991201283377, 0.3712105009066361, 0.4171124612056518, 0.46869041923141924, 0.5266462393484278, 0.5917685748188821, 0.6649435996665045, 0.7471670675868078, 0.8395578619995112, 0.9433732216299774, 1.0600258488068823, 1.1911031332830067, 1.3383887531737564, 1.5038869469554101, 1.689849786812457, 1.8988078244652633, 2.133604526501411, 2.3974349678010762, 2.6938893095901726, 3.0270016537634614, 3.401304938279253, 3.8218926206331187, 4.294487988789272, 4.825522042741279, 5.422221006501586, 6.092704661368674, 6.846096838574658, 7.692649574879138, 8.643882620598271, 9.712740198471169, 10.913767146512727, 12.26330684177563, 13.779723598335568, 15.48365256585499, 17.39828052930364, 19.549661430912597, 21.967070907932353, 24.683404670686485, 27.73562614198415, 31.165269449294303, 35.01900461431709, 39.349272630958495, 44.21499907374487, 49.68239594734388, 55.82586268862695, 62.728998581962436, 70.48574036451903, 79.20164050192548, 88.99530352885225, 100.0], \"xaxis\": \"x\", \"y\": [-1.3065752236532717, -0.231795287637405, -0.0, -0.0, -0.0, -0.0, -0.0, -0.0, -0.0, -0.0, -0.0, -0.0, -0.0, -0.0, -0.0, -0.0, -0.0, -0.0, -0.0, -0.0, 0.0, 0.0, 0.0, 0.0, 0.0, 0.0, 0.0, 0.0, 0.0, 0.0, 0.0, 0.0, 0.0, 0.0, 0.0, 0.0, 0.0, 0.0, 0.0, 0.0, 0.0, 0.0, 0.0, 0.0, 0.0, 0.0, 0.0, 0.0, 0.0, 0.0, 0.0, 0.0, 0.0, 0.0, 0.0, 0.0, 0.0, 0.0, 0.0, 0.0, 0.0, 0.0, 0.0, 0.0, 0.0, 0.0, 0.0, 0.0, 0.0, 0.0, 0.0, 0.0, 0.0, 0.0, 0.0, 0.0, 0.0, 0.0, 0.0, 0.0], \"yaxis\": \"y\"}, {\"hovertemplate\": \"variable=sex<br>alphas=%{x}<br>value=%{y}<extra></extra>\", \"legendgroup\": \"sex\", \"line\": {\"color\": \"#EF553B\", \"dash\": \"solid\"}, \"mode\": \"lines\", \"name\": \"sex\", \"orientation\": \"v\", \"showlegend\": true, \"type\": \"scatter\", \"x\": [0.01, 0.01123654800138751, 0.012626001098748564, 0.014187266741165962, 0.01594159037455999, 0.01791284454622004, 0.020127853758499396, 0.022616759492228647, 0.025413430367026365, 0.028555923019901074, 0.032086999973704504, 0.03605471154250502, 0.04051304969235382, 0.045522682755073096, 0.051151780992931425, 0.05747694424835353, 0.06458424430196978, 0.07257039612324216, 0.08154407395185162, 0.09162739011886736, 0.10295755673125127, 0.1156887528316282, 0.12999422244132455, 0.1460686320364989, 0.1641307195375129, 0.18442627085855348, 0.20723146452190294, 0.23285662984981953, 0.2616504698748821, 0.29400480643347093, 0.33035991201283377, 0.3712105009066361, 0.4171124612056518, 0.46869041923141924, 0.5266462393484278, 0.5917685748188821, 0.6649435996665045, 0.7471670675868078, 0.8395578619995112, 0.9433732216299774, 1.0600258488068823, 1.1911031332830067, 1.3383887531737564, 1.5038869469554101, 1.689849786812457, 1.8988078244652633, 2.133604526501411, 2.3974349678010762, 2.6938893095901726, 3.0270016537634614, 3.401304938279253, 3.8218926206331187, 4.294487988789272, 4.825522042741279, 5.422221006501586, 6.092704661368674, 6.846096838574658, 7.692649574879138, 8.643882620598271, 9.712740198471169, 10.913767146512727, 12.26330684177563, 13.779723598335568, 15.48365256585499, 17.39828052930364, 19.549661430912597, 21.967070907932353, 24.683404670686485, 27.73562614198415, 31.165269449294303, 35.01900461431709, 39.349272630958495, 44.21499907374487, 49.68239594734388, 55.82586268862695, 62.728998581962436, 70.48574036451903, 79.20164050192548, 88.99530352885225, 100.0], \"xaxis\": \"x\", \"y\": [-228.8223309629698, -227.46527626264654, -225.94562888669319, -224.5966142068485, -223.07880439576627, -221.37506848493564, -219.45857429139414, -217.30680872860665, -214.8886365989151, -212.1709875757949, -209.11647155775304, -205.68602234311658, -201.82998589020792, -197.51537650940045, -193.1559581862762, -188.26134574344945, -182.76220083748055, -176.58259471389096, -169.63846332951584, -161.83810037228523, -153.06211053370242, -143.20935960052657, -132.14708932475514, -119.7067964501007, -105.2574790625583, -88.48349325246878, -69.79828778236403, -49.2565091272868, -26.196385241144444, -0.28476634468640316, -0.0, -0.0, -0.0, -0.0, -0.0, -0.0, -0.0, -0.0, -0.0, -0.0, -0.0, 0.0, 0.0, 0.0, 0.0, 0.0, 0.0, 0.0, 0.0, 0.0, 0.0, 0.0, 0.0, 0.0, 0.0, 0.0, 0.0, 0.0, 0.0, 0.0, 0.0, 0.0, 0.0, 0.0, 0.0, 0.0, 0.0, 0.0, 0.0, 0.0, 0.0, 0.0, 0.0, 0.0, 0.0, 0.0, 0.0, 0.0, 0.0, 0.0], \"yaxis\": \"y\"}, {\"hovertemplate\": \"variable=bmi<br>alphas=%{x}<br>value=%{y}<extra></extra>\", \"legendgroup\": \"bmi\", \"line\": {\"color\": \"#00cc96\", \"dash\": \"solid\"}, \"mode\": \"lines\", \"name\": \"bmi\", \"orientation\": \"v\", \"showlegend\": true, \"type\": \"scatter\", \"x\": [0.01, 0.01123654800138751, 0.012626001098748564, 0.014187266741165962, 0.01594159037455999, 0.01791284454622004, 0.020127853758499396, 0.022616759492228647, 0.025413430367026365, 0.028555923019901074, 0.032086999973704504, 0.03605471154250502, 0.04051304969235382, 0.045522682755073096, 0.051151780992931425, 0.05747694424835353, 0.06458424430196978, 0.07257039612324216, 0.08154407395185162, 0.09162739011886736, 0.10295755673125127, 0.1156887528316282, 0.12999422244132455, 0.1460686320364989, 0.1641307195375129, 0.18442627085855348, 0.20723146452190294, 0.23285662984981953, 0.2616504698748821, 0.29400480643347093, 0.33035991201283377, 0.3712105009066361, 0.4171124612056518, 0.46869041923141924, 0.5266462393484278, 0.5917685748188821, 0.6649435996665045, 0.7471670675868078, 0.8395578619995112, 0.9433732216299774, 1.0600258488068823, 1.1911031332830067, 1.3383887531737564, 1.5038869469554101, 1.689849786812457, 1.8988078244652633, 2.133604526501411, 2.3974349678010762, 2.6938893095901726, 3.0270016537634614, 3.401304938279253, 3.8218926206331187, 4.294487988789272, 4.825522042741279, 5.422221006501586, 6.092704661368674, 6.846096838574658, 7.692649574879138, 8.643882620598271, 9.712740198471169, 10.913767146512727, 12.26330684177563, 13.779723598335568, 15.48365256585499, 17.39828052930364, 19.549661430912597, 21.967070907932353, 24.683404670686485, 27.73562614198415, 31.165269449294303, 35.01900461431709, 39.349272630958495, 44.21499907374487, 49.68239594734388, 55.82586268862695, 62.728998581962436, 70.48574036451903, 79.20164050192548, 88.99530352885225, 100.0], \"xaxis\": \"x\", \"y\": [525.5606580243626, 526.262653863003, 526.8231345360869, 526.6008557835953, 526.3552863957019, 526.0756311824466, 525.7658023747995, 525.4140391407341, 525.0194777415184, 524.5770965114981, 524.0817404132173, 523.5213815412881, 522.8946843963867, 522.2273483283475, 521.7131368039453, 521.1280975124076, 520.4692516837994, 519.7296772329557, 518.8993259411443, 517.9625493713643, 516.9286468805457, 515.7525998747099, 514.4176170338874, 512.9352416758048, 511.9709677919824, 511.65010256855834, 510.98173849173963, 509.4300024864154, 507.6820595311996, 505.7179750392024, 499.6340882260488, 492.74516452993834, 485.0087593432662, 476.3157105194431, 466.54772448071395, 455.57188008060797, 443.2388198348527, 427.2160908724693, 405.4677910328178, 381.0307826680168, 351.08316324075895, 311.02976843626163, 266.01398705894667, 215.43016479510615, 158.59141009897667, 94.72427055076092, 6.382059670502987, 0.0, 0.0, 0.0, 0.0, 0.0, 0.0, 0.0, 0.0, 0.0, 0.0, 0.0, 0.0, 0.0, 0.0, 0.0, 0.0, 0.0, 0.0, 0.0, 0.0, 0.0, 0.0, 0.0, 0.0, 0.0, 0.0, 0.0, 0.0, 0.0, 0.0, 0.0, 0.0, 0.0], \"yaxis\": \"y\"}, {\"hovertemplate\": \"variable=bp<br>alphas=%{x}<br>value=%{y}<extra></extra>\", \"legendgroup\": \"bp\", \"line\": {\"color\": \"#ab63fa\", \"dash\": \"solid\"}, \"mode\": \"lines\", \"name\": \"bp\", \"orientation\": \"v\", \"showlegend\": true, \"type\": \"scatter\", \"x\": [0.01, 0.01123654800138751, 0.012626001098748564, 0.014187266741165962, 0.01594159037455999, 0.01791284454622004, 0.020127853758499396, 0.022616759492228647, 0.025413430367026365, 0.028555923019901074, 0.032086999973704504, 0.03605471154250502, 0.04051304969235382, 0.045522682755073096, 0.051151780992931425, 0.05747694424835353, 0.06458424430196978, 0.07257039612324216, 0.08154407395185162, 0.09162739011886736, 0.10295755673125127, 0.1156887528316282, 0.12999422244132455, 0.1460686320364989, 0.1641307195375129, 0.18442627085855348, 0.20723146452190294, 0.23285662984981953, 0.2616504698748821, 0.29400480643347093, 0.33035991201283377, 0.3712105009066361, 0.4171124612056518, 0.46869041923141924, 0.5266462393484278, 0.5917685748188821, 0.6649435996665045, 0.7471670675868078, 0.8395578619995112, 0.9433732216299774, 1.0600258488068823, 1.1911031332830067, 1.3383887531737564, 1.5038869469554101, 1.689849786812457, 1.8988078244652633, 2.133604526501411, 2.3974349678010762, 2.6938893095901726, 3.0270016537634614, 3.401304938279253, 3.8218926206331187, 4.294487988789272, 4.825522042741279, 5.422221006501586, 6.092704661368674, 6.846096838574658, 7.692649574879138, 8.643882620598271, 9.712740198471169, 10.913767146512727, 12.26330684177563, 13.779723598335568, 15.48365256585499, 17.39828052930364, 19.549661430912597, 21.967070907932353, 24.683404670686485, 27.73562614198415, 31.165269449294303, 35.01900461431709, 39.349272630958495, 44.21499907374487, 49.68239594734388, 55.82586268862695, 62.728998581962436, 70.48574036451903, 79.20164050192548, 88.99530352885225, 100.0], \"xaxis\": \"x\", \"y\": [316.17531972782973, 315.16231090323294, 314.2576803502172, 313.4371702226585, 312.5164783979068, 311.4808050913584, 310.31840870055936, 309.0111725722175, 307.54250342828675, 305.89252173553405, 304.0390383318442, 301.955220263885, 299.6146278375288, 297.0255078406336, 294.7600682296878, 292.2124609844809, 289.349263927371, 286.1321395656072, 282.5173918214102, 278.45538702907487, 273.89566977885926, 268.76852461891474, 263.00607980841534, 256.5356890748167, 249.21187890226116, 240.89446818631035, 231.22604426797454, 219.45903598626856, 206.25987076827914, 191.42856541326086, 181.67931416171513, 170.80227000902644, 158.57910608919772, 144.84448927779982, 129.41152116960598, 112.07019247444578, 92.58452524534512, 71.0253152496223, 47.366906412724056, 20.795578414616916, 0.0, 0.0, 0.0, 0.0, 0.0, 0.0, 0.0, 0.0, 0.0, 0.0, 0.0, 0.0, 0.0, 0.0, 0.0, 0.0, 0.0, 0.0, 0.0, 0.0, 0.0, 0.0, 0.0, 0.0, 0.0, 0.0, 0.0, 0.0, 0.0, 0.0, 0.0, 0.0, 0.0, 0.0, 0.0, 0.0, 0.0, 0.0, 0.0, 0.0], \"yaxis\": \"y\"}, {\"hovertemplate\": \"variable=s1<br>alphas=%{x}<br>value=%{y}<extra></extra>\", \"legendgroup\": \"s1\", \"line\": {\"color\": \"#FFA15A\", \"dash\": \"solid\"}, \"mode\": \"lines\", \"name\": \"s1\", \"orientation\": \"v\", \"showlegend\": true, \"type\": \"scatter\", \"x\": [0.01, 0.01123654800138751, 0.012626001098748564, 0.014187266741165962, 0.01594159037455999, 0.01791284454622004, 0.020127853758499396, 0.022616759492228647, 0.025413430367026365, 0.028555923019901074, 0.032086999973704504, 0.03605471154250502, 0.04051304969235382, 0.045522682755073096, 0.051151780992931425, 0.05747694424835353, 0.06458424430196978, 0.07257039612324216, 0.08154407395185162, 0.09162739011886736, 0.10295755673125127, 0.1156887528316282, 0.12999422244132455, 0.1460686320364989, 0.1641307195375129, 0.18442627085855348, 0.20723146452190294, 0.23285662984981953, 0.2616504698748821, 0.29400480643347093, 0.33035991201283377, 0.3712105009066361, 0.4171124612056518, 0.46869041923141924, 0.5266462393484278, 0.5917685748188821, 0.6649435996665045, 0.7471670675868078, 0.8395578619995112, 0.9433732216299774, 1.0600258488068823, 1.1911031332830067, 1.3383887531737564, 1.5038869469554101, 1.689849786812457, 1.8988078244652633, 2.133604526501411, 2.3974349678010762, 2.6938893095901726, 3.0270016537634614, 3.401304938279253, 3.8218926206331187, 4.294487988789272, 4.825522042741279, 5.422221006501586, 6.092704661368674, 6.846096838574658, 7.692649574879138, 8.643882620598271, 9.712740198471169, 10.913767146512727, 12.26330684177563, 13.779723598335568, 15.48365256585499, 17.39828052930364, 19.549661430912597, 21.967070907932353, 24.683404670686485, 27.73562614198415, 31.165269449294303, 35.01900461431709, 39.349272630958495, 44.21499907374487, 49.68239594734388, 55.82586268862695, 62.728998581962436, 70.48574036451903, 79.20164050192548, 88.99530352885225, 100.0], \"xaxis\": \"x\", \"y\": [-307.0136770984272, -247.58599137222686, -194.17835759418517, -189.8180236759813, -184.95821880000574, -179.46226804067345, -173.3284275169193, -166.40182217870614, -158.62532494074725, -149.89640303570297, -140.10445971667036, -129.06620756530438, -116.69096911189509, -103.64844135787772, -98.36929274780286, -92.43559241546176, -85.76801152924389, -78.2763663553987, -69.85861505917693, -60.39770538470568, -49.77543199449527, -37.833216387111825, -24.40591836465902, -9.325092743135633, -0.0, -0.0, -0.0, -0.0, -0.0, -0.0, -0.0, -0.0, -0.0, -0.0, -0.0, 0.0, 0.0, 0.0, 0.0, 0.0, 0.0, 0.0, 0.0, 0.0, 0.0, 0.0, 0.0, 0.0, 0.0, 0.0, 0.0, 0.0, 0.0, 0.0, 0.0, 0.0, 0.0, 0.0, 0.0, 0.0, 0.0, 0.0, 0.0, 0.0, 0.0, 0.0, 0.0, 0.0, 0.0, 0.0, 0.0, 0.0, 0.0, 0.0, 0.0, 0.0, 0.0, 0.0, 0.0, 0.0], \"yaxis\": \"y\"}, {\"hovertemplate\": \"variable=s2<br>alphas=%{x}<br>value=%{y}<extra></extra>\", \"legendgroup\": \"s2\", \"line\": {\"color\": \"#19d3f3\", \"dash\": \"solid\"}, \"mode\": \"lines\", \"name\": \"s2\", \"orientation\": \"v\", \"showlegend\": true, \"type\": \"scatter\", \"x\": [0.01, 0.01123654800138751, 0.012626001098748564, 0.014187266741165962, 0.01594159037455999, 0.01791284454622004, 0.020127853758499396, 0.022616759492228647, 0.025413430367026365, 0.028555923019901074, 0.032086999973704504, 0.03605471154250502, 0.04051304969235382, 0.045522682755073096, 0.051151780992931425, 0.05747694424835353, 0.06458424430196978, 0.07257039612324216, 0.08154407395185162, 0.09162739011886736, 0.10295755673125127, 0.1156887528316282, 0.12999422244132455, 0.1460686320364989, 0.1641307195375129, 0.18442627085855348, 0.20723146452190294, 0.23285662984981953, 0.2616504698748821, 0.29400480643347093, 0.33035991201283377, 0.3712105009066361, 0.4171124612056518, 0.46869041923141924, 0.5266462393484278, 0.5917685748188821, 0.6649435996665045, 0.7471670675868078, 0.8395578619995112, 0.9433732216299774, 1.0600258488068823, 1.1911031332830067, 1.3383887531737564, 1.5038869469554101, 1.689849786812457, 1.8988078244652633, 2.133604526501411, 2.3974349678010762, 2.6938893095901726, 3.0270016537634614, 3.401304938279253, 3.8218926206331187, 4.294487988789272, 4.825522042741279, 5.422221006501586, 6.092704661368674, 6.846096838574658, 7.692649574879138, 8.643882620598271, 9.712740198471169, 10.913767146512727, 12.26330684177563, 13.779723598335568, 15.48365256585499, 17.39828052930364, 19.549661430912597, 21.967070907932353, 24.683404670686485, 27.73562614198415, 31.165269449294303, 35.01900461431709, 39.349272630958495, 44.21499907374487, 49.68239594734388, 55.82586268862695, 62.728998581962436, 70.48574036451903, 79.20164050192548, 88.99530352885225, 100.0], \"xaxis\": \"x\", \"y\": [89.32168771685866, 41.858168386598784, 0.0, 0.0, 0.0, 0.0, 0.0, -0.0, -0.0, -0.0, -0.0, -0.0, -0.0, -0.0, -0.0, -0.0, -0.0, -0.0, -0.0, -0.0, -0.0, -0.0, -0.0, -0.0, -0.0, -0.0, -0.0, -0.0, -0.0, -0.0, -0.0, -0.0, -0.0, -0.0, -0.0, 0.0, 0.0, 0.0, 0.0, 0.0, 0.0, 0.0, 0.0, 0.0, 0.0, 0.0, 0.0, 0.0, 0.0, 0.0, 0.0, 0.0, 0.0, 0.0, 0.0, 0.0, 0.0, 0.0, 0.0, 0.0, 0.0, 0.0, 0.0, 0.0, 0.0, 0.0, 0.0, 0.0, 0.0, 0.0, 0.0, 0.0, 0.0, 0.0, 0.0, 0.0, 0.0, 0.0, 0.0, 0.0], \"yaxis\": \"y\"}, {\"hovertemplate\": \"variable=s3<br>alphas=%{x}<br>value=%{y}<extra></extra>\", \"legendgroup\": \"s3\", \"line\": {\"color\": \"#FF6692\", \"dash\": \"solid\"}, \"mode\": \"lines\", \"name\": \"s3\", \"orientation\": \"v\", \"showlegend\": true, \"type\": \"scatter\", \"x\": [0.01, 0.01123654800138751, 0.012626001098748564, 0.014187266741165962, 0.01594159037455999, 0.01791284454622004, 0.020127853758499396, 0.022616759492228647, 0.025413430367026365, 0.028555923019901074, 0.032086999973704504, 0.03605471154250502, 0.04051304969235382, 0.045522682755073096, 0.051151780992931425, 0.05747694424835353, 0.06458424430196978, 0.07257039612324216, 0.08154407395185162, 0.09162739011886736, 0.10295755673125127, 0.1156887528316282, 0.12999422244132455, 0.1460686320364989, 0.1641307195375129, 0.18442627085855348, 0.20723146452190294, 0.23285662984981953, 0.2616504698748821, 0.29400480643347093, 0.33035991201283377, 0.3712105009066361, 0.4171124612056518, 0.46869041923141924, 0.5266462393484278, 0.5917685748188821, 0.6649435996665045, 0.7471670675868078, 0.8395578619995112, 0.9433732216299774, 1.0600258488068823, 1.1911031332830067, 1.3383887531737564, 1.5038869469554101, 1.689849786812457, 1.8988078244652633, 2.133604526501411, 2.3974349678010762, 2.6938893095901726, 3.0270016537634614, 3.401304938279253, 3.8218926206331187, 4.294487988789272, 4.825522042741279, 5.422221006501586, 6.092704661368674, 6.846096838574658, 7.692649574879138, 8.643882620598271, 9.712740198471169, 10.913767146512727, 12.26330684177563, 13.779723598335568, 15.48365256585499, 17.39828052930364, 19.549661430912597, 21.967070907932353, 24.683404670686485, 27.73562614198415, 31.165269449294303, 35.01900461431709, 39.349272630958495, 44.21499907374487, 49.68239594734388, 55.82586268862695, 62.728998581962436, 70.48574036451903, 79.20164050192548, 88.99530352885225, 100.0], \"xaxis\": \"x\", \"y\": [-105.08139789913973, -130.31703211332268, -153.34188810379055, -156.77079363018774, -160.57296345625073, -164.890279047032, -169.68815221757242, -175.1231168905451, -181.22168682518506, -188.06264819909845, -195.72863271914622, -204.3879004827708, -214.08221748833452, -223.8490529178962, -222.43105074904022, -220.8411762867523, -219.05520942336668, -217.04783298598238, -214.79182059622372, -212.2599030414589, -209.40247365266688, -206.20113418624172, -202.61510125949619, -198.57498358005992, -191.28116849008998, -179.3614842187912, -165.90853804894988, -150.6498092639964, -133.5329518168617, -114.29951278309801, -104.32384118536935, -93.24721812245349, -80.79862175380912, -66.81069668919204, -51.09309754635385, -33.43194182284722, -13.586899418130916, -0.0, -0.0, -0.0, -0.0, -0.0, -0.0, -0.0, -0.0, -0.0, -0.0, -0.0, -0.0, -0.0, -0.0, -0.0, -0.0, -0.0, -0.0, -0.0, -0.0, -0.0, -0.0, -0.0, -0.0, -0.0, -0.0, -0.0, -0.0, -0.0, -0.0, -0.0, -0.0, -0.0, -0.0, -0.0, -0.0, -0.0, -0.0, -0.0, -0.0, -0.0, -0.0, -0.0], \"yaxis\": \"y\"}, {\"hovertemplate\": \"variable=s4<br>alphas=%{x}<br>value=%{y}<extra></extra>\", \"legendgroup\": \"s4\", \"line\": {\"color\": \"#B6E880\", \"dash\": \"solid\"}, \"mode\": \"lines\", \"name\": \"s4\", \"orientation\": \"v\", \"showlegend\": true, \"type\": \"scatter\", \"x\": [0.01, 0.01123654800138751, 0.012626001098748564, 0.014187266741165962, 0.01594159037455999, 0.01791284454622004, 0.020127853758499396, 0.022616759492228647, 0.025413430367026365, 0.028555923019901074, 0.032086999973704504, 0.03605471154250502, 0.04051304969235382, 0.045522682755073096, 0.051151780992931425, 0.05747694424835353, 0.06458424430196978, 0.07257039612324216, 0.08154407395185162, 0.09162739011886736, 0.10295755673125127, 0.1156887528316282, 0.12999422244132455, 0.1460686320364989, 0.1641307195375129, 0.18442627085855348, 0.20723146452190294, 0.23285662984981953, 0.2616504698748821, 0.29400480643347093, 0.33035991201283377, 0.3712105009066361, 0.4171124612056518, 0.46869041923141924, 0.5266462393484278, 0.5917685748188821, 0.6649435996665045, 0.7471670675868078, 0.8395578619995112, 0.9433732216299774, 1.0600258488068823, 1.1911031332830067, 1.3383887531737564, 1.5038869469554101, 1.689849786812457, 1.8988078244652633, 2.133604526501411, 2.3974349678010762, 2.6938893095901726, 3.0270016537634614, 3.401304938279253, 3.8218926206331187, 4.294487988789272, 4.825522042741279, 5.422221006501586, 6.092704661368674, 6.846096838574658, 7.692649574879138, 8.643882620598271, 9.712740198471169, 10.913767146512727, 12.26330684177563, 13.779723598335568, 15.48365256585499, 17.39828052930364, 19.549661430912597, 21.967070907932353, 24.683404670686485, 27.73562614198415, 31.165269449294303, 35.01900461431709, 39.349272630958495, 44.21499907374487, 49.68239594734388, 55.82586268862695, 62.728998581962436, 70.48574036451903, 79.20164050192548, 88.99530352885225, 100.0], \"xaxis\": \"x\", \"y\": [119.59798934448945, 112.56482633629332, 105.21860245090159, 100.12853527479557, 94.46139489816672, 88.04707591759006, 80.89457744177446, 72.81244364454503, 63.73963631019749, 53.55702898731678, 42.13684758338647, 29.257726882702976, 14.822879239282, 0.0, 0.0, 0.0, 0.0, 0.0, 0.0, 0.0, 0.0, 0.0, 0.0, 0.0, 0.0, 0.0, 0.0, 0.0, 0.0, 0.0, 0.0, 0.0, 0.0, 0.0, 0.0, 0.0, 0.0, 0.0, 0.0, 0.0, 0.0, 0.0, 0.0, 0.0, 0.0, 0.0, 0.0, 0.0, 0.0, 0.0, 0.0, 0.0, 0.0, 0.0, 0.0, 0.0, 0.0, 0.0, 0.0, 0.0, 0.0, 0.0, 0.0, 0.0, 0.0, 0.0, 0.0, 0.0, 0.0, 0.0, 0.0, 0.0, 0.0, 0.0, 0.0, 0.0, 0.0, 0.0, 0.0, 0.0], \"yaxis\": \"y\"}, {\"hovertemplate\": \"variable=s5<br>alphas=%{x}<br>value=%{y}<extra></extra>\", \"legendgroup\": \"s5\", \"line\": {\"color\": \"#FF97FF\", \"dash\": \"solid\"}, \"mode\": \"lines\", \"name\": \"s5\", \"orientation\": \"v\", \"showlegend\": true, \"type\": \"scatter\", \"x\": [0.01, 0.01123654800138751, 0.012626001098748564, 0.014187266741165962, 0.01594159037455999, 0.01791284454622004, 0.020127853758499396, 0.022616759492228647, 0.025413430367026365, 0.028555923019901074, 0.032086999973704504, 0.03605471154250502, 0.04051304969235382, 0.045522682755073096, 0.051151780992931425, 0.05747694424835353, 0.06458424430196978, 0.07257039612324216, 0.08154407395185162, 0.09162739011886736, 0.10295755673125127, 0.1156887528316282, 0.12999422244132455, 0.1460686320364989, 0.1641307195375129, 0.18442627085855348, 0.20723146452190294, 0.23285662984981953, 0.2616504698748821, 0.29400480643347093, 0.33035991201283377, 0.3712105009066361, 0.4171124612056518, 0.46869041923141924, 0.5266462393484278, 0.5917685748188821, 0.6649435996665045, 0.7471670675868078, 0.8395578619995112, 0.9433732216299774, 1.0600258488068823, 1.1911031332830067, 1.3383887531737564, 1.5038869469554101, 1.689849786812457, 1.8988078244652633, 2.133604526501411, 2.3974349678010762, 2.6938893095901726, 3.0270016537634614, 3.401304938279253, 3.8218926206331187, 4.294487988789272, 4.825522042741279, 5.422221006501586, 6.092704661368674, 6.846096838574658, 7.692649574879138, 8.643882620598271, 9.712740198471169, 10.913767146512727, 12.26330684177563, 13.779723598335568, 15.48365256585499, 17.39828052930364, 19.549661430912597, 21.967070907932353, 24.683404670686485, 27.73562614198415, 31.165269449294303, 35.01900461431709, 39.349272630958495, 44.21499907374487, 49.68239594734388, 55.82586268862695, 62.728998581962436, 70.48574036451903, 79.20164050192548, 88.99530352885225, 100.0], \"xaxis\": \"x\", \"y\": [571.330870564746, 549.2882734043554, 529.7672464556322, 529.0422581794486, 528.2334407783908, 527.3194492274815, 526.2985513376684, 525.1463896096719, 523.8527272010119, 522.4004421291481, 520.7709715195441, 518.9348079631728, 516.8756897825801, 514.5693168702766, 511.4011941133765, 507.84192871628017, 503.8427472898795, 499.3491525834393, 494.2999570752285, 488.626011172504, 482.25232200142665, 475.0890490458871, 467.0381504832457, 457.99261144326186, 452.05532267269564, 451.27614400180494, 449.9177607796963, 446.9160238061167, 443.5278576818108, 439.7207285525675, 434.1356496741393, 427.8480086023367, 420.7822782774295, 412.8428364813612, 403.9216445967871, 393.8973045127261, 382.63340665904786, 367.33781643863, 345.51334405516275, 320.98497441814754, 290.96850810885695, 250.90251685408188, 205.8864530314489, 155.30466114435183, 98.46818789079663, 34.603611896481176, 0.0, 0.0, 0.0, 0.0, 0.0, 0.0, 0.0, 0.0, 0.0, 0.0, 0.0, 0.0, 0.0, 0.0, 0.0, 0.0, 0.0, 0.0, 0.0, 0.0, 0.0, 0.0, 0.0, 0.0, 0.0, 0.0, 0.0, 0.0, 0.0, 0.0, 0.0, 0.0, 0.0, 0.0], \"yaxis\": \"y\"}, {\"hovertemplate\": \"variable=s6<br>alphas=%{x}<br>value=%{y}<extra></extra>\", \"legendgroup\": \"s6\", \"line\": {\"color\": \"#FECB52\", \"dash\": \"solid\"}, \"mode\": \"lines\", \"name\": \"s6\", \"orientation\": \"v\", \"showlegend\": true, \"type\": \"scatter\", \"x\": [0.01, 0.01123654800138751, 0.012626001098748564, 0.014187266741165962, 0.01594159037455999, 0.01791284454622004, 0.020127853758499396, 0.022616759492228647, 0.025413430367026365, 0.028555923019901074, 0.032086999973704504, 0.03605471154250502, 0.04051304969235382, 0.045522682755073096, 0.051151780992931425, 0.05747694424835353, 0.06458424430196978, 0.07257039612324216, 0.08154407395185162, 0.09162739011886736, 0.10295755673125127, 0.1156887528316282, 0.12999422244132455, 0.1460686320364989, 0.1641307195375129, 0.18442627085855348, 0.20723146452190294, 0.23285662984981953, 0.2616504698748821, 0.29400480643347093, 0.33035991201283377, 0.3712105009066361, 0.4171124612056518, 0.46869041923141924, 0.5266462393484278, 0.5917685748188821, 0.6649435996665045, 0.7471670675868078, 0.8395578619995112, 0.9433732216299774, 1.0600258488068823, 1.1911031332830067, 1.3383887531737564, 1.5038869469554101, 1.689849786812457, 1.8988078244652633, 2.133604526501411, 2.3974349678010762, 2.6938893095901726, 3.0270016537634614, 3.401304938279253, 3.8218926206331187, 4.294487988789272, 4.825522042741279, 5.422221006501586, 6.092704661368674, 6.846096838574658, 7.692649574879138, 8.643882620598271, 9.712740198471169, 10.913767146512727, 12.26330684177563, 13.779723598335568, 15.48365256585499, 17.39828052930364, 19.549661430912597, 21.967070907932353, 24.683404670686485, 27.73562614198415, 31.165269449294303, 35.01900461431709, 39.349272630958495, 44.21499907374487, 49.68239594734388, 55.82586268862695, 62.728998581962436, 70.48574036451903, 79.20164050192548, 88.99530352885225, 100.0], \"xaxis\": \"x\", \"y\": [65.00731594841481, 64.68293900824473, 64.42009406741903, 63.95778877711062, 63.43805382051589, 62.85428470356945, 62.198053029873975, 61.46090260720355, 60.6325561062624, 59.70171970865753, 58.655672448063484, 57.48051184436203, 56.15985159581931, 54.65249078917782, 52.48217679694723, 50.046101214498904, 47.309449292374126, 44.23420642908478, 40.77845495002232, 36.89606415291447, 32.527543682914555, 27.623543910249953, 22.115815659395736, 15.920975245367194, 9.882215563813824, 4.416880398111599, 0.0, 0.0, 0.0, 0.0, 0.0, 0.0, 0.0, 0.0, 0.0, 0.0, 0.0, 0.0, 0.0, 0.0, 0.0, 0.0, 0.0, 0.0, 0.0, 0.0, 0.0, 0.0, 0.0, 0.0, 0.0, 0.0, 0.0, 0.0, 0.0, 0.0, 0.0, 0.0, 0.0, 0.0, 0.0, 0.0, 0.0, 0.0, 0.0, 0.0, 0.0, 0.0, 0.0, 0.0, 0.0, 0.0, 0.0, 0.0, 0.0, 0.0, 0.0, 0.0, 0.0, 0.0], \"yaxis\": \"y\"}],                        {\"legend\": {\"title\": {\"text\": \"variable\"}, \"tracegroupgap\": 0}, \"margin\": {\"t\": 60}, \"template\": {\"data\": {\"bar\": [{\"error_x\": {\"color\": \"#2a3f5f\"}, \"error_y\": {\"color\": \"#2a3f5f\"}, \"marker\": {\"line\": {\"color\": \"#E5ECF6\", \"width\": 0.5}}, \"type\": \"bar\"}], \"barpolar\": [{\"marker\": {\"line\": {\"color\": \"#E5ECF6\", \"width\": 0.5}}, \"type\": \"barpolar\"}], \"carpet\": [{\"aaxis\": {\"endlinecolor\": \"#2a3f5f\", \"gridcolor\": \"white\", \"linecolor\": \"white\", \"minorgridcolor\": \"white\", \"startlinecolor\": \"#2a3f5f\"}, \"baxis\": {\"endlinecolor\": \"#2a3f5f\", \"gridcolor\": \"white\", \"linecolor\": \"white\", \"minorgridcolor\": \"white\", \"startlinecolor\": \"#2a3f5f\"}, \"type\": \"carpet\"}], \"choropleth\": [{\"colorbar\": {\"outlinewidth\": 0, \"ticks\": \"\"}, \"type\": \"choropleth\"}], \"contour\": [{\"colorbar\": {\"outlinewidth\": 0, \"ticks\": \"\"}, \"colorscale\": [[0.0, \"#0d0887\"], [0.1111111111111111, \"#46039f\"], [0.2222222222222222, \"#7201a8\"], [0.3333333333333333, \"#9c179e\"], [0.4444444444444444, \"#bd3786\"], [0.5555555555555556, \"#d8576b\"], [0.6666666666666666, \"#ed7953\"], [0.7777777777777778, \"#fb9f3a\"], [0.8888888888888888, \"#fdca26\"], [1.0, \"#f0f921\"]], \"type\": \"contour\"}], \"contourcarpet\": [{\"colorbar\": {\"outlinewidth\": 0, \"ticks\": \"\"}, \"type\": \"contourcarpet\"}], \"heatmap\": [{\"colorbar\": {\"outlinewidth\": 0, \"ticks\": \"\"}, \"colorscale\": [[0.0, \"#0d0887\"], [0.1111111111111111, \"#46039f\"], [0.2222222222222222, \"#7201a8\"], [0.3333333333333333, \"#9c179e\"], [0.4444444444444444, \"#bd3786\"], [0.5555555555555556, \"#d8576b\"], [0.6666666666666666, \"#ed7953\"], [0.7777777777777778, \"#fb9f3a\"], [0.8888888888888888, \"#fdca26\"], [1.0, \"#f0f921\"]], \"type\": \"heatmap\"}], \"heatmapgl\": [{\"colorbar\": {\"outlinewidth\": 0, \"ticks\": \"\"}, \"colorscale\": [[0.0, \"#0d0887\"], [0.1111111111111111, \"#46039f\"], [0.2222222222222222, \"#7201a8\"], [0.3333333333333333, \"#9c179e\"], [0.4444444444444444, \"#bd3786\"], [0.5555555555555556, \"#d8576b\"], [0.6666666666666666, \"#ed7953\"], [0.7777777777777778, \"#fb9f3a\"], [0.8888888888888888, \"#fdca26\"], [1.0, \"#f0f921\"]], \"type\": \"heatmapgl\"}], \"histogram\": [{\"marker\": {\"colorbar\": {\"outlinewidth\": 0, \"ticks\": \"\"}}, \"type\": \"histogram\"}], \"histogram2d\": [{\"colorbar\": {\"outlinewidth\": 0, \"ticks\": \"\"}, \"colorscale\": [[0.0, \"#0d0887\"], [0.1111111111111111, \"#46039f\"], [0.2222222222222222, \"#7201a8\"], [0.3333333333333333, \"#9c179e\"], [0.4444444444444444, \"#bd3786\"], [0.5555555555555556, \"#d8576b\"], [0.6666666666666666, \"#ed7953\"], [0.7777777777777778, \"#fb9f3a\"], [0.8888888888888888, \"#fdca26\"], [1.0, \"#f0f921\"]], \"type\": \"histogram2d\"}], \"histogram2dcontour\": [{\"colorbar\": {\"outlinewidth\": 0, \"ticks\": \"\"}, \"colorscale\": [[0.0, \"#0d0887\"], [0.1111111111111111, \"#46039f\"], [0.2222222222222222, \"#7201a8\"], [0.3333333333333333, \"#9c179e\"], [0.4444444444444444, \"#bd3786\"], [0.5555555555555556, \"#d8576b\"], [0.6666666666666666, \"#ed7953\"], [0.7777777777777778, \"#fb9f3a\"], [0.8888888888888888, \"#fdca26\"], [1.0, \"#f0f921\"]], \"type\": \"histogram2dcontour\"}], \"mesh3d\": [{\"colorbar\": {\"outlinewidth\": 0, \"ticks\": \"\"}, \"type\": \"mesh3d\"}], \"parcoords\": [{\"line\": {\"colorbar\": {\"outlinewidth\": 0, \"ticks\": \"\"}}, \"type\": \"parcoords\"}], \"pie\": [{\"automargin\": true, \"type\": \"pie\"}], \"scatter\": [{\"marker\": {\"colorbar\": {\"outlinewidth\": 0, \"ticks\": \"\"}}, \"type\": \"scatter\"}], \"scatter3d\": [{\"line\": {\"colorbar\": {\"outlinewidth\": 0, \"ticks\": \"\"}}, \"marker\": {\"colorbar\": {\"outlinewidth\": 0, \"ticks\": \"\"}}, \"type\": \"scatter3d\"}], \"scattercarpet\": [{\"marker\": {\"colorbar\": {\"outlinewidth\": 0, \"ticks\": \"\"}}, \"type\": \"scattercarpet\"}], \"scattergeo\": [{\"marker\": {\"colorbar\": {\"outlinewidth\": 0, \"ticks\": \"\"}}, \"type\": \"scattergeo\"}], \"scattergl\": [{\"marker\": {\"colorbar\": {\"outlinewidth\": 0, \"ticks\": \"\"}}, \"type\": \"scattergl\"}], \"scattermapbox\": [{\"marker\": {\"colorbar\": {\"outlinewidth\": 0, \"ticks\": \"\"}}, \"type\": \"scattermapbox\"}], \"scatterpolar\": [{\"marker\": {\"colorbar\": {\"outlinewidth\": 0, \"ticks\": \"\"}}, \"type\": \"scatterpolar\"}], \"scatterpolargl\": [{\"marker\": {\"colorbar\": {\"outlinewidth\": 0, \"ticks\": \"\"}}, \"type\": \"scatterpolargl\"}], \"scatterternary\": [{\"marker\": {\"colorbar\": {\"outlinewidth\": 0, \"ticks\": \"\"}}, \"type\": \"scatterternary\"}], \"surface\": [{\"colorbar\": {\"outlinewidth\": 0, \"ticks\": \"\"}, \"colorscale\": [[0.0, \"#0d0887\"], [0.1111111111111111, \"#46039f\"], [0.2222222222222222, \"#7201a8\"], [0.3333333333333333, \"#9c179e\"], [0.4444444444444444, \"#bd3786\"], [0.5555555555555556, \"#d8576b\"], [0.6666666666666666, \"#ed7953\"], [0.7777777777777778, \"#fb9f3a\"], [0.8888888888888888, \"#fdca26\"], [1.0, \"#f0f921\"]], \"type\": \"surface\"}], \"table\": [{\"cells\": {\"fill\": {\"color\": \"#EBF0F8\"}, \"line\": {\"color\": \"white\"}}, \"header\": {\"fill\": {\"color\": \"#C8D4E3\"}, \"line\": {\"color\": \"white\"}}, \"type\": \"table\"}]}, \"layout\": {\"annotationdefaults\": {\"arrowcolor\": \"#2a3f5f\", \"arrowhead\": 0, \"arrowwidth\": 1}, \"coloraxis\": {\"colorbar\": {\"outlinewidth\": 0, \"ticks\": \"\"}}, \"colorscale\": {\"diverging\": [[0, \"#8e0152\"], [0.1, \"#c51b7d\"], [0.2, \"#de77ae\"], [0.3, \"#f1b6da\"], [0.4, \"#fde0ef\"], [0.5, \"#f7f7f7\"], [0.6, \"#e6f5d0\"], [0.7, \"#b8e186\"], [0.8, \"#7fbc41\"], [0.9, \"#4d9221\"], [1, \"#276419\"]], \"sequential\": [[0.0, \"#0d0887\"], [0.1111111111111111, \"#46039f\"], [0.2222222222222222, \"#7201a8\"], [0.3333333333333333, \"#9c179e\"], [0.4444444444444444, \"#bd3786\"], [0.5555555555555556, \"#d8576b\"], [0.6666666666666666, \"#ed7953\"], [0.7777777777777778, \"#fb9f3a\"], [0.8888888888888888, \"#fdca26\"], [1.0, \"#f0f921\"]], \"sequentialminus\": [[0.0, \"#0d0887\"], [0.1111111111111111, \"#46039f\"], [0.2222222222222222, \"#7201a8\"], [0.3333333333333333, \"#9c179e\"], [0.4444444444444444, \"#bd3786\"], [0.5555555555555556, \"#d8576b\"], [0.6666666666666666, \"#ed7953\"], [0.7777777777777778, \"#fb9f3a\"], [0.8888888888888888, \"#fdca26\"], [1.0, \"#f0f921\"]]}, \"colorway\": [\"#636efa\", \"#EF553B\", \"#00cc96\", \"#ab63fa\", \"#FFA15A\", \"#19d3f3\", \"#FF6692\", \"#B6E880\", \"#FF97FF\", \"#FECB52\"], \"font\": {\"color\": \"#2a3f5f\"}, \"geo\": {\"bgcolor\": \"white\", \"lakecolor\": \"white\", \"landcolor\": \"#E5ECF6\", \"showlakes\": true, \"showland\": true, \"subunitcolor\": \"white\"}, \"hoverlabel\": {\"align\": \"left\"}, \"hovermode\": \"closest\", \"mapbox\": {\"style\": \"light\"}, \"paper_bgcolor\": \"white\", \"plot_bgcolor\": \"#E5ECF6\", \"polar\": {\"angularaxis\": {\"gridcolor\": \"white\", \"linecolor\": \"white\", \"ticks\": \"\"}, \"bgcolor\": \"#E5ECF6\", \"radialaxis\": {\"gridcolor\": \"white\", \"linecolor\": \"white\", \"ticks\": \"\"}}, \"scene\": {\"xaxis\": {\"backgroundcolor\": \"#E5ECF6\", \"gridcolor\": \"white\", \"gridwidth\": 2, \"linecolor\": \"white\", \"showbackground\": true, \"ticks\": \"\", \"zerolinecolor\": \"white\"}, \"yaxis\": {\"backgroundcolor\": \"#E5ECF6\", \"gridcolor\": \"white\", \"gridwidth\": 2, \"linecolor\": \"white\", \"showbackground\": true, \"ticks\": \"\", \"zerolinecolor\": \"white\"}, \"zaxis\": {\"backgroundcolor\": \"#E5ECF6\", \"gridcolor\": \"white\", \"gridwidth\": 2, \"linecolor\": \"white\", \"showbackground\": true, \"ticks\": \"\", \"zerolinecolor\": \"white\"}}, \"shapedefaults\": {\"line\": {\"color\": \"#2a3f5f\"}}, \"ternary\": {\"aaxis\": {\"gridcolor\": \"white\", \"linecolor\": \"white\", \"ticks\": \"\"}, \"baxis\": {\"gridcolor\": \"white\", \"linecolor\": \"white\", \"ticks\": \"\"}, \"bgcolor\": \"#E5ECF6\", \"caxis\": {\"gridcolor\": \"white\", \"linecolor\": \"white\", \"ticks\": \"\"}}, \"title\": {\"x\": 0.05}, \"xaxis\": {\"automargin\": true, \"gridcolor\": \"white\", \"linecolor\": \"white\", \"ticks\": \"\", \"title\": {\"standoff\": 15}, \"zerolinecolor\": \"white\", \"zerolinewidth\": 2}, \"yaxis\": {\"automargin\": true, \"gridcolor\": \"white\", \"linecolor\": \"white\", \"ticks\": \"\", \"title\": {\"standoff\": 15}, \"zerolinecolor\": \"white\", \"zerolinewidth\": 2}}}, \"xaxis\": {\"anchor\": \"y\", \"domain\": [0.0, 1.0], \"title\": {\"text\": \"alphas\"}, \"type\": \"log\"}, \"yaxis\": {\"anchor\": \"x\", \"domain\": [0.0, 1.0], \"title\": {\"text\": \"value\"}}},                        {\"responsive\": true}                    ).then(function(){\n                            \nvar gd = document.getElementById('3ab675a9-c663-4760-991e-79143a4013fb');\nvar x = new MutationObserver(function (mutations, observer) {{\n        var display = window.getComputedStyle(gd).display;\n        if (!display || display === 'none') {{\n            console.log([gd, 'removed!']);\n            Plotly.purge(gd);\n            observer.disconnect();\n        }}\n}});\n\n// Listen for the removal of the full notebook cells\nvar notebookContainer = gd.closest('#notebook-container');\nif (notebookContainer) {{\n    x.observe(notebookContainer, {childList: true});\n}}\n\n// Listen for the clearing of the current output cell\nvar outputEl = gd.closest('.output');\nif (outputEl) {{\n    x.observe(outputEl, {childList: true});\n}}\n\n                        })                };                });            </script>        </div>"
     },
     "metadata": {}
    }
   ],
   "source": [
    "coefs = []\n",
    "for a in alphas:\n",
    "    ridge = Lasso(alpha=a)\n",
    "    ridge.fit(original_X, original_y)\n",
    "    coefs.append(ridge.coef_)\n",
    "\n",
    "features = original_X.columns\n",
    "\n",
    "df_coefs = pd.DataFrame(coefs, columns=features)\n",
    "df_coefs['alphas'] = alphas\n",
    "fig = px.line(df_coefs, x='alphas', y=features)\n",
    "fig.update_xaxes(type='log').show()"
   ]
  },
  {
   "source": [
    "## Fit Lasso Regression"
   ],
   "cell_type": "markdown",
   "metadata": {}
  },
  {
   "cell_type": "code",
   "execution_count": 6,
   "metadata": {},
   "outputs": [],
   "source": [
    "model = Lasso(alpha=1.6).fit(original_X, original_y)"
   ]
  },
  {
   "cell_type": "code",
   "execution_count": 7,
   "metadata": {},
   "outputs": [
    {
     "output_type": "execute_result",
     "data": {
      "text/plain": [
       "0.19559197774996095"
      ]
     },
     "metadata": {},
     "execution_count": 7
    }
   ],
   "source": [
    "model.score(original_X, original_y)"
   ]
  },
  {
   "source": [
    "# Polynomial Lasso Regression"
   ],
   "cell_type": "markdown",
   "metadata": {}
  },
  {
   "cell_type": "code",
   "execution_count": 8,
   "metadata": {},
   "outputs": [],
   "source": [
    "original_X_3 = polynomial_features(original_X, 3)"
   ]
  },
  {
   "cell_type": "code",
   "execution_count": 9,
   "metadata": {},
   "outputs": [],
   "source": [
    "original_X_3 = pd.DataFrame(StandardScaler().fit_transform(original_X_3), columns=original_X_3.columns)"
   ]
  },
  {
   "cell_type": "code",
   "execution_count": 10,
   "metadata": {},
   "outputs": [
    {
     "output_type": "execute_result",
     "data": {
      "text/plain": [
       "        age       sex       bmi        bp        s1        s2        s3  \\\n",
       "0  0.800500  1.065488  1.297088  0.459840 -0.929746 -0.732065 -0.912451   \n",
       "1 -0.039567 -0.938537 -1.082180 -0.553511 -0.177624 -0.402886  1.564414   \n",
       "2  1.793307  1.065488  0.934533 -0.119218 -0.958674 -0.718897 -0.680245   \n",
       "3 -1.872441 -0.938537 -0.243771 -0.770658  0.256292  0.525397 -0.757647   \n",
       "4  0.113172 -0.938537 -0.764944  0.459840  0.082726  0.327890  0.171178   \n",
       "\n",
       "         s4        s5        s6  ...     age^3     sex^3     bmi^3      bp^3  \\\n",
       "0 -0.054499  0.418551 -0.370989  ...  0.275032  1.065488  0.377399 -0.064821   \n",
       "1 -0.830301 -1.436551 -1.938479  ...  0.085271 -0.938537 -0.443382 -0.154693   \n",
       "2 -0.054499  0.060207 -0.545154  ...  2.218500  1.065488  0.052360 -0.098143   \n",
       "3  0.721302  0.477072 -0.196823  ... -2.342956 -0.938537 -0.145283 -0.251742   \n",
       "4 -0.054499 -0.672582 -0.980568  ...  0.085830 -0.938537 -0.248335 -0.064821   \n",
       "\n",
       "       s1^3      s2^3      s3^3      s4^3      s5^3      s6^3  \n",
       "0 -0.286006 -0.161870 -0.273916 -0.153371 -0.060035 -0.063947  \n",
       "1 -0.092651 -0.097913  0.533708 -0.273101 -0.898721 -1.854866  \n",
       "2 -0.304752 -0.157803 -0.195606 -0.153371 -0.080217 -0.091420  \n",
       "3 -0.087215 -0.056747 -0.216753 -0.074819 -0.050301 -0.053193  \n",
       "4 -0.091156 -0.078224 -0.139319 -0.153371 -0.164274 -0.284748  \n",
       "\n",
       "[5 rows x 30 columns]"
      ],
      "text/html": "<div>\n<style scoped>\n    .dataframe tbody tr th:only-of-type {\n        vertical-align: middle;\n    }\n\n    .dataframe tbody tr th {\n        vertical-align: top;\n    }\n\n    .dataframe thead th {\n        text-align: right;\n    }\n</style>\n<table border=\"1\" class=\"dataframe\">\n  <thead>\n    <tr style=\"text-align: right;\">\n      <th></th>\n      <th>age</th>\n      <th>sex</th>\n      <th>bmi</th>\n      <th>bp</th>\n      <th>s1</th>\n      <th>s2</th>\n      <th>s3</th>\n      <th>s4</th>\n      <th>s5</th>\n      <th>s6</th>\n      <th>...</th>\n      <th>age^3</th>\n      <th>sex^3</th>\n      <th>bmi^3</th>\n      <th>bp^3</th>\n      <th>s1^3</th>\n      <th>s2^3</th>\n      <th>s3^3</th>\n      <th>s4^3</th>\n      <th>s5^3</th>\n      <th>s6^3</th>\n    </tr>\n  </thead>\n  <tbody>\n    <tr>\n      <th>0</th>\n      <td>0.800500</td>\n      <td>1.065488</td>\n      <td>1.297088</td>\n      <td>0.459840</td>\n      <td>-0.929746</td>\n      <td>-0.732065</td>\n      <td>-0.912451</td>\n      <td>-0.054499</td>\n      <td>0.418551</td>\n      <td>-0.370989</td>\n      <td>...</td>\n      <td>0.275032</td>\n      <td>1.065488</td>\n      <td>0.377399</td>\n      <td>-0.064821</td>\n      <td>-0.286006</td>\n      <td>-0.161870</td>\n      <td>-0.273916</td>\n      <td>-0.153371</td>\n      <td>-0.060035</td>\n      <td>-0.063947</td>\n    </tr>\n    <tr>\n      <th>1</th>\n      <td>-0.039567</td>\n      <td>-0.938537</td>\n      <td>-1.082180</td>\n      <td>-0.553511</td>\n      <td>-0.177624</td>\n      <td>-0.402886</td>\n      <td>1.564414</td>\n      <td>-0.830301</td>\n      <td>-1.436551</td>\n      <td>-1.938479</td>\n      <td>...</td>\n      <td>0.085271</td>\n      <td>-0.938537</td>\n      <td>-0.443382</td>\n      <td>-0.154693</td>\n      <td>-0.092651</td>\n      <td>-0.097913</td>\n      <td>0.533708</td>\n      <td>-0.273101</td>\n      <td>-0.898721</td>\n      <td>-1.854866</td>\n    </tr>\n    <tr>\n      <th>2</th>\n      <td>1.793307</td>\n      <td>1.065488</td>\n      <td>0.934533</td>\n      <td>-0.119218</td>\n      <td>-0.958674</td>\n      <td>-0.718897</td>\n      <td>-0.680245</td>\n      <td>-0.054499</td>\n      <td>0.060207</td>\n      <td>-0.545154</td>\n      <td>...</td>\n      <td>2.218500</td>\n      <td>1.065488</td>\n      <td>0.052360</td>\n      <td>-0.098143</td>\n      <td>-0.304752</td>\n      <td>-0.157803</td>\n      <td>-0.195606</td>\n      <td>-0.153371</td>\n      <td>-0.080217</td>\n      <td>-0.091420</td>\n    </tr>\n    <tr>\n      <th>3</th>\n      <td>-1.872441</td>\n      <td>-0.938537</td>\n      <td>-0.243771</td>\n      <td>-0.770658</td>\n      <td>0.256292</td>\n      <td>0.525397</td>\n      <td>-0.757647</td>\n      <td>0.721302</td>\n      <td>0.477072</td>\n      <td>-0.196823</td>\n      <td>...</td>\n      <td>-2.342956</td>\n      <td>-0.938537</td>\n      <td>-0.145283</td>\n      <td>-0.251742</td>\n      <td>-0.087215</td>\n      <td>-0.056747</td>\n      <td>-0.216753</td>\n      <td>-0.074819</td>\n      <td>-0.050301</td>\n      <td>-0.053193</td>\n    </tr>\n    <tr>\n      <th>4</th>\n      <td>0.113172</td>\n      <td>-0.938537</td>\n      <td>-0.764944</td>\n      <td>0.459840</td>\n      <td>0.082726</td>\n      <td>0.327890</td>\n      <td>0.171178</td>\n      <td>-0.054499</td>\n      <td>-0.672582</td>\n      <td>-0.980568</td>\n      <td>...</td>\n      <td>0.085830</td>\n      <td>-0.938537</td>\n      <td>-0.248335</td>\n      <td>-0.064821</td>\n      <td>-0.091156</td>\n      <td>-0.078224</td>\n      <td>-0.139319</td>\n      <td>-0.153371</td>\n      <td>-0.164274</td>\n      <td>-0.284748</td>\n    </tr>\n  </tbody>\n</table>\n<p>5 rows × 30 columns</p>\n</div>"
     },
     "metadata": {},
     "execution_count": 10
    }
   ],
   "source": [
    "original_X_3.head()"
   ]
  },
  {
   "source": [
    "## Alpha selection"
   ],
   "cell_type": "markdown",
   "metadata": {}
  },
  {
   "cell_type": "code",
   "execution_count": 11,
   "metadata": {},
   "outputs": [],
   "source": [
    "n_alphas = 80\n",
    "alphas = np.logspace(-1, 2, n_alphas)"
   ]
  },
  {
   "cell_type": "code",
   "execution_count": 12,
   "metadata": {},
   "outputs": [
    {
     "output_type": "display_data",
     "data": {
      "application/vnd.plotly.v1+json": {
       "config": {
        "plotlyServerURL": "https://plot.ly"
       },
       "data": [
        {
         "hovertemplate": "alpha=%{x}<br>R^2 (mean)=%{y}<extra></extra>",
         "legendgroup": "",
         "line": {
          "color": "#636efa",
          "dash": "solid"
         },
         "mode": "lines",
         "name": "",
         "orientation": "v",
         "showlegend": false,
         "type": "scatter",
         "x": [
          0.1,
          0.10913767146512733,
          0.11911031332830067,
          0.12999422244132455,
          0.14187266741165966,
          0.15483652565854988,
          0.16898497868124573,
          0.18442627085855348,
          0.20127853758499395,
          0.2196707090793235,
          0.23974349678010773,
          0.2616504698748821,
          0.28555923019901075,
          0.311652694492943,
          0.3401304938279252,
          0.3712105009066362,
          0.4051304969235381,
          0.44214999073744876,
          0.48255220427412776,
          0.5266462393484278,
          0.5747694424835352,
          0.6272899858196247,
          0.6846096838574658,
          0.7471670675868078,
          0.8154407395185161,
          0.8899530352885231,
          0.971274019847117,
          1.0600258488068823,
          1.1568875283162827,
          1.2626001098748565,
          1.3779723598335576,
          1.5038869469554101,
          1.6413071953751293,
          1.791284454622004,
          1.9549661430912606,
          2.133604526501411,
          2.3285662984981954,
          2.5413430367026364,
          2.773562614198415,
          3.027001653763463,
          3.3035991201283395,
          3.605471154250504,
          3.934927263095849,
          4.294487988789275,
          4.686904192314192,
          5.115178099293143,
          5.582586268862695,
          6.0927046613686775,
          6.649435996665045,
          7.257039612324216,
          7.920164050192553,
          8.643882620598271,
          9.433732216299779,
          10.295755673125127,
          11.236548001387515,
          12.26330684177563,
          13.383887531737578,
          14.606863203649889,
          15.941590374559995,
          17.39828052930364,
          18.988078244652634,
          20.723146452190296,
          22.616759492228645,
          24.683404670686485,
          26.938893095901726,
          29.400480643347105,
          32.0869999737045,
          35.019004614317126,
          38.21892620633119,
          41.71124612056521,
          45.5226827550731,
          49.68239594734388,
          54.222210065015865,
          59.17685748188825,
          64.58424430196978,
          70.48574036451903,
          76.92649574879147,
          83.95578619995112,
          91.62739011886741,
          100
         ],
         "xaxis": "x",
         "y": [
          0.4834130267610515,
          0.48352088799071513,
          0.4835958823896901,
          0.48369516317693345,
          0.4838005221834991,
          0.4839171879832752,
          0.48403274039426225,
          0.48414093143756337,
          0.4842019743630989,
          0.48421164625328184,
          0.48415533378101855,
          0.4842589203562408,
          0.4845598731960449,
          0.4847690174138794,
          0.4849501287366862,
          0.48513778271525965,
          0.48522226777175376,
          0.48527766174004006,
          0.485296034603829,
          0.4851828587198142,
          0.48530774222025314,
          0.48558290561799283,
          0.48586396830392226,
          0.4861444924971579,
          0.48673756676276214,
          0.4873667976304879,
          0.4879741873411813,
          0.4884836340783497,
          0.48910486984285095,
          0.4897966414797338,
          0.4901123666439825,
          0.4902663361842962,
          0.4903250400331026,
          0.4900804513959895,
          0.4894120713455193,
          0.4885509173056752,
          0.48736638696534645,
          0.48570482120305536,
          0.4843348640444384,
          0.4828586402053755,
          0.481330776959312,
          0.4796615233715338,
          0.4775539921596522,
          0.4749562234972437,
          0.47174411154689116,
          0.46786236306192724,
          0.4644492498150914,
          0.46150318170537874,
          0.45873346169261636,
          0.4555764593141377,
          0.4519219315834353,
          0.4475671774454673,
          0.44247649951963675,
          0.43685958413054654,
          0.4302520307551525,
          0.42213618579484474,
          0.4124238153702506,
          0.4014594468336895,
          0.3892464441786584,
          0.37502857437765363,
          0.35873121053309553,
          0.34081795396636866,
          0.31946526609594184,
          0.2951979142062274,
          0.26690832998985403,
          0.23321366724226777,
          0.1930811189301324,
          0.14528081354221004,
          0.08834721941317551,
          0.022909630379143862,
          -0.01607936711087705,
          -0.02750604135376733,
          -0.02750604135376733,
          -0.02750604135376733,
          -0.02750604135376733,
          -0.02750604135376733,
          -0.02750604135376733,
          -0.02750604135376733,
          -0.02750604135376733,
          -0.02750604135376733
         ],
         "yaxis": "y"
        }
       ],
       "layout": {
        "legend": {
         "tracegroupgap": 0
        },
        "margin": {
         "t": 60
        },
        "template": {
         "data": {
          "bar": [
           {
            "error_x": {
             "color": "#2a3f5f"
            },
            "error_y": {
             "color": "#2a3f5f"
            },
            "marker": {
             "line": {
              "color": "#E5ECF6",
              "width": 0.5
             }
            },
            "type": "bar"
           }
          ],
          "barpolar": [
           {
            "marker": {
             "line": {
              "color": "#E5ECF6",
              "width": 0.5
             }
            },
            "type": "barpolar"
           }
          ],
          "carpet": [
           {
            "aaxis": {
             "endlinecolor": "#2a3f5f",
             "gridcolor": "white",
             "linecolor": "white",
             "minorgridcolor": "white",
             "startlinecolor": "#2a3f5f"
            },
            "baxis": {
             "endlinecolor": "#2a3f5f",
             "gridcolor": "white",
             "linecolor": "white",
             "minorgridcolor": "white",
             "startlinecolor": "#2a3f5f"
            },
            "type": "carpet"
           }
          ],
          "choropleth": [
           {
            "colorbar": {
             "outlinewidth": 0,
             "ticks": ""
            },
            "type": "choropleth"
           }
          ],
          "contour": [
           {
            "colorbar": {
             "outlinewidth": 0,
             "ticks": ""
            },
            "colorscale": [
             [
              0,
              "#0d0887"
             ],
             [
              0.1111111111111111,
              "#46039f"
             ],
             [
              0.2222222222222222,
              "#7201a8"
             ],
             [
              0.3333333333333333,
              "#9c179e"
             ],
             [
              0.4444444444444444,
              "#bd3786"
             ],
             [
              0.5555555555555556,
              "#d8576b"
             ],
             [
              0.6666666666666666,
              "#ed7953"
             ],
             [
              0.7777777777777778,
              "#fb9f3a"
             ],
             [
              0.8888888888888888,
              "#fdca26"
             ],
             [
              1,
              "#f0f921"
             ]
            ],
            "type": "contour"
           }
          ],
          "contourcarpet": [
           {
            "colorbar": {
             "outlinewidth": 0,
             "ticks": ""
            },
            "type": "contourcarpet"
           }
          ],
          "heatmap": [
           {
            "colorbar": {
             "outlinewidth": 0,
             "ticks": ""
            },
            "colorscale": [
             [
              0,
              "#0d0887"
             ],
             [
              0.1111111111111111,
              "#46039f"
             ],
             [
              0.2222222222222222,
              "#7201a8"
             ],
             [
              0.3333333333333333,
              "#9c179e"
             ],
             [
              0.4444444444444444,
              "#bd3786"
             ],
             [
              0.5555555555555556,
              "#d8576b"
             ],
             [
              0.6666666666666666,
              "#ed7953"
             ],
             [
              0.7777777777777778,
              "#fb9f3a"
             ],
             [
              0.8888888888888888,
              "#fdca26"
             ],
             [
              1,
              "#f0f921"
             ]
            ],
            "type": "heatmap"
           }
          ],
          "heatmapgl": [
           {
            "colorbar": {
             "outlinewidth": 0,
             "ticks": ""
            },
            "colorscale": [
             [
              0,
              "#0d0887"
             ],
             [
              0.1111111111111111,
              "#46039f"
             ],
             [
              0.2222222222222222,
              "#7201a8"
             ],
             [
              0.3333333333333333,
              "#9c179e"
             ],
             [
              0.4444444444444444,
              "#bd3786"
             ],
             [
              0.5555555555555556,
              "#d8576b"
             ],
             [
              0.6666666666666666,
              "#ed7953"
             ],
             [
              0.7777777777777778,
              "#fb9f3a"
             ],
             [
              0.8888888888888888,
              "#fdca26"
             ],
             [
              1,
              "#f0f921"
             ]
            ],
            "type": "heatmapgl"
           }
          ],
          "histogram": [
           {
            "marker": {
             "colorbar": {
              "outlinewidth": 0,
              "ticks": ""
             }
            },
            "type": "histogram"
           }
          ],
          "histogram2d": [
           {
            "colorbar": {
             "outlinewidth": 0,
             "ticks": ""
            },
            "colorscale": [
             [
              0,
              "#0d0887"
             ],
             [
              0.1111111111111111,
              "#46039f"
             ],
             [
              0.2222222222222222,
              "#7201a8"
             ],
             [
              0.3333333333333333,
              "#9c179e"
             ],
             [
              0.4444444444444444,
              "#bd3786"
             ],
             [
              0.5555555555555556,
              "#d8576b"
             ],
             [
              0.6666666666666666,
              "#ed7953"
             ],
             [
              0.7777777777777778,
              "#fb9f3a"
             ],
             [
              0.8888888888888888,
              "#fdca26"
             ],
             [
              1,
              "#f0f921"
             ]
            ],
            "type": "histogram2d"
           }
          ],
          "histogram2dcontour": [
           {
            "colorbar": {
             "outlinewidth": 0,
             "ticks": ""
            },
            "colorscale": [
             [
              0,
              "#0d0887"
             ],
             [
              0.1111111111111111,
              "#46039f"
             ],
             [
              0.2222222222222222,
              "#7201a8"
             ],
             [
              0.3333333333333333,
              "#9c179e"
             ],
             [
              0.4444444444444444,
              "#bd3786"
             ],
             [
              0.5555555555555556,
              "#d8576b"
             ],
             [
              0.6666666666666666,
              "#ed7953"
             ],
             [
              0.7777777777777778,
              "#fb9f3a"
             ],
             [
              0.8888888888888888,
              "#fdca26"
             ],
             [
              1,
              "#f0f921"
             ]
            ],
            "type": "histogram2dcontour"
           }
          ],
          "mesh3d": [
           {
            "colorbar": {
             "outlinewidth": 0,
             "ticks": ""
            },
            "type": "mesh3d"
           }
          ],
          "parcoords": [
           {
            "line": {
             "colorbar": {
              "outlinewidth": 0,
              "ticks": ""
             }
            },
            "type": "parcoords"
           }
          ],
          "pie": [
           {
            "automargin": true,
            "type": "pie"
           }
          ],
          "scatter": [
           {
            "marker": {
             "colorbar": {
              "outlinewidth": 0,
              "ticks": ""
             }
            },
            "type": "scatter"
           }
          ],
          "scatter3d": [
           {
            "line": {
             "colorbar": {
              "outlinewidth": 0,
              "ticks": ""
             }
            },
            "marker": {
             "colorbar": {
              "outlinewidth": 0,
              "ticks": ""
             }
            },
            "type": "scatter3d"
           }
          ],
          "scattercarpet": [
           {
            "marker": {
             "colorbar": {
              "outlinewidth": 0,
              "ticks": ""
             }
            },
            "type": "scattercarpet"
           }
          ],
          "scattergeo": [
           {
            "marker": {
             "colorbar": {
              "outlinewidth": 0,
              "ticks": ""
             }
            },
            "type": "scattergeo"
           }
          ],
          "scattergl": [
           {
            "marker": {
             "colorbar": {
              "outlinewidth": 0,
              "ticks": ""
             }
            },
            "type": "scattergl"
           }
          ],
          "scattermapbox": [
           {
            "marker": {
             "colorbar": {
              "outlinewidth": 0,
              "ticks": ""
             }
            },
            "type": "scattermapbox"
           }
          ],
          "scatterpolar": [
           {
            "marker": {
             "colorbar": {
              "outlinewidth": 0,
              "ticks": ""
             }
            },
            "type": "scatterpolar"
           }
          ],
          "scatterpolargl": [
           {
            "marker": {
             "colorbar": {
              "outlinewidth": 0,
              "ticks": ""
             }
            },
            "type": "scatterpolargl"
           }
          ],
          "scatterternary": [
           {
            "marker": {
             "colorbar": {
              "outlinewidth": 0,
              "ticks": ""
             }
            },
            "type": "scatterternary"
           }
          ],
          "surface": [
           {
            "colorbar": {
             "outlinewidth": 0,
             "ticks": ""
            },
            "colorscale": [
             [
              0,
              "#0d0887"
             ],
             [
              0.1111111111111111,
              "#46039f"
             ],
             [
              0.2222222222222222,
              "#7201a8"
             ],
             [
              0.3333333333333333,
              "#9c179e"
             ],
             [
              0.4444444444444444,
              "#bd3786"
             ],
             [
              0.5555555555555556,
              "#d8576b"
             ],
             [
              0.6666666666666666,
              "#ed7953"
             ],
             [
              0.7777777777777778,
              "#fb9f3a"
             ],
             [
              0.8888888888888888,
              "#fdca26"
             ],
             [
              1,
              "#f0f921"
             ]
            ],
            "type": "surface"
           }
          ],
          "table": [
           {
            "cells": {
             "fill": {
              "color": "#EBF0F8"
             },
             "line": {
              "color": "white"
             }
            },
            "header": {
             "fill": {
              "color": "#C8D4E3"
             },
             "line": {
              "color": "white"
             }
            },
            "type": "table"
           }
          ]
         },
         "layout": {
          "annotationdefaults": {
           "arrowcolor": "#2a3f5f",
           "arrowhead": 0,
           "arrowwidth": 1
          },
          "coloraxis": {
           "colorbar": {
            "outlinewidth": 0,
            "ticks": ""
           }
          },
          "colorscale": {
           "diverging": [
            [
             0,
             "#8e0152"
            ],
            [
             0.1,
             "#c51b7d"
            ],
            [
             0.2,
             "#de77ae"
            ],
            [
             0.3,
             "#f1b6da"
            ],
            [
             0.4,
             "#fde0ef"
            ],
            [
             0.5,
             "#f7f7f7"
            ],
            [
             0.6,
             "#e6f5d0"
            ],
            [
             0.7,
             "#b8e186"
            ],
            [
             0.8,
             "#7fbc41"
            ],
            [
             0.9,
             "#4d9221"
            ],
            [
             1,
             "#276419"
            ]
           ],
           "sequential": [
            [
             0,
             "#0d0887"
            ],
            [
             0.1111111111111111,
             "#46039f"
            ],
            [
             0.2222222222222222,
             "#7201a8"
            ],
            [
             0.3333333333333333,
             "#9c179e"
            ],
            [
             0.4444444444444444,
             "#bd3786"
            ],
            [
             0.5555555555555556,
             "#d8576b"
            ],
            [
             0.6666666666666666,
             "#ed7953"
            ],
            [
             0.7777777777777778,
             "#fb9f3a"
            ],
            [
             0.8888888888888888,
             "#fdca26"
            ],
            [
             1,
             "#f0f921"
            ]
           ],
           "sequentialminus": [
            [
             0,
             "#0d0887"
            ],
            [
             0.1111111111111111,
             "#46039f"
            ],
            [
             0.2222222222222222,
             "#7201a8"
            ],
            [
             0.3333333333333333,
             "#9c179e"
            ],
            [
             0.4444444444444444,
             "#bd3786"
            ],
            [
             0.5555555555555556,
             "#d8576b"
            ],
            [
             0.6666666666666666,
             "#ed7953"
            ],
            [
             0.7777777777777778,
             "#fb9f3a"
            ],
            [
             0.8888888888888888,
             "#fdca26"
            ],
            [
             1,
             "#f0f921"
            ]
           ]
          },
          "colorway": [
           "#636efa",
           "#EF553B",
           "#00cc96",
           "#ab63fa",
           "#FFA15A",
           "#19d3f3",
           "#FF6692",
           "#B6E880",
           "#FF97FF",
           "#FECB52"
          ],
          "font": {
           "color": "#2a3f5f"
          },
          "geo": {
           "bgcolor": "white",
           "lakecolor": "white",
           "landcolor": "#E5ECF6",
           "showlakes": true,
           "showland": true,
           "subunitcolor": "white"
          },
          "hoverlabel": {
           "align": "left"
          },
          "hovermode": "closest",
          "mapbox": {
           "style": "light"
          },
          "paper_bgcolor": "white",
          "plot_bgcolor": "#E5ECF6",
          "polar": {
           "angularaxis": {
            "gridcolor": "white",
            "linecolor": "white",
            "ticks": ""
           },
           "bgcolor": "#E5ECF6",
           "radialaxis": {
            "gridcolor": "white",
            "linecolor": "white",
            "ticks": ""
           }
          },
          "scene": {
           "xaxis": {
            "backgroundcolor": "#E5ECF6",
            "gridcolor": "white",
            "gridwidth": 2,
            "linecolor": "white",
            "showbackground": true,
            "ticks": "",
            "zerolinecolor": "white"
           },
           "yaxis": {
            "backgroundcolor": "#E5ECF6",
            "gridcolor": "white",
            "gridwidth": 2,
            "linecolor": "white",
            "showbackground": true,
            "ticks": "",
            "zerolinecolor": "white"
           },
           "zaxis": {
            "backgroundcolor": "#E5ECF6",
            "gridcolor": "white",
            "gridwidth": 2,
            "linecolor": "white",
            "showbackground": true,
            "ticks": "",
            "zerolinecolor": "white"
           }
          },
          "shapedefaults": {
           "line": {
            "color": "#2a3f5f"
           }
          },
          "ternary": {
           "aaxis": {
            "gridcolor": "white",
            "linecolor": "white",
            "ticks": ""
           },
           "baxis": {
            "gridcolor": "white",
            "linecolor": "white",
            "ticks": ""
           },
           "bgcolor": "#E5ECF6",
           "caxis": {
            "gridcolor": "white",
            "linecolor": "white",
            "ticks": ""
           }
          },
          "title": {
           "x": 0.05
          },
          "xaxis": {
           "automargin": true,
           "gridcolor": "white",
           "linecolor": "white",
           "ticks": "",
           "title": {
            "standoff": 15
           },
           "zerolinecolor": "white",
           "zerolinewidth": 2
          },
          "yaxis": {
           "automargin": true,
           "gridcolor": "white",
           "linecolor": "white",
           "ticks": "",
           "title": {
            "standoff": 15
           },
           "zerolinecolor": "white",
           "zerolinewidth": 2
          }
         }
        },
        "xaxis": {
         "anchor": "y",
         "domain": [
          0,
          1
         ],
         "title": {
          "text": "alpha"
         },
         "type": "log"
        },
        "yaxis": {
         "anchor": "x",
         "domain": [
          0,
          1
         ],
         "title": {
          "text": "R^2 (mean)"
         }
        }
       }
      },
      "text/html": "<div>                            <div id=\"2a0cfaab-bb9b-44b1-9353-8401e38a9ca9\" class=\"plotly-graph-div\" style=\"height:525px; width:100%;\"></div>            <script type=\"text/javascript\">                require([\"plotly\"], function(Plotly) {                    window.PLOTLYENV=window.PLOTLYENV || {};                                    if (document.getElementById(\"2a0cfaab-bb9b-44b1-9353-8401e38a9ca9\")) {                    Plotly.newPlot(                        \"2a0cfaab-bb9b-44b1-9353-8401e38a9ca9\",                        [{\"hovertemplate\": \"alpha=%{x}<br>R^2 (mean)=%{y}<extra></extra>\", \"legendgroup\": \"\", \"line\": {\"color\": \"#636efa\", \"dash\": \"solid\"}, \"mode\": \"lines\", \"name\": \"\", \"orientation\": \"v\", \"showlegend\": false, \"type\": \"scatter\", \"x\": [0.1, 0.10913767146512733, 0.11911031332830067, 0.12999422244132455, 0.14187266741165966, 0.15483652565854988, 0.16898497868124573, 0.18442627085855348, 0.20127853758499395, 0.2196707090793235, 0.23974349678010773, 0.2616504698748821, 0.28555923019901075, 0.311652694492943, 0.3401304938279252, 0.3712105009066362, 0.4051304969235381, 0.44214999073744876, 0.48255220427412776, 0.5266462393484278, 0.5747694424835352, 0.6272899858196247, 0.6846096838574658, 0.7471670675868078, 0.8154407395185161, 0.8899530352885231, 0.971274019847117, 1.0600258488068823, 1.1568875283162827, 1.2626001098748565, 1.3779723598335576, 1.5038869469554101, 1.6413071953751293, 1.791284454622004, 1.9549661430912606, 2.133604526501411, 2.3285662984981954, 2.5413430367026364, 2.773562614198415, 3.027001653763463, 3.3035991201283395, 3.605471154250504, 3.934927263095849, 4.294487988789275, 4.686904192314192, 5.115178099293143, 5.582586268862695, 6.0927046613686775, 6.649435996665045, 7.257039612324216, 7.920164050192553, 8.643882620598271, 9.433732216299779, 10.295755673125127, 11.236548001387515, 12.26330684177563, 13.383887531737578, 14.606863203649889, 15.941590374559995, 17.39828052930364, 18.988078244652634, 20.723146452190296, 22.616759492228645, 24.683404670686485, 26.938893095901726, 29.400480643347105, 32.0869999737045, 35.019004614317126, 38.21892620633119, 41.71124612056521, 45.5226827550731, 49.68239594734388, 54.222210065015865, 59.17685748188825, 64.58424430196978, 70.48574036451903, 76.92649574879147, 83.95578619995112, 91.62739011886741, 100.0], \"xaxis\": \"x\", \"y\": [0.4834130267610515, 0.48352088799071513, 0.4835958823896901, 0.48369516317693345, 0.4838005221834991, 0.4839171879832752, 0.48403274039426225, 0.48414093143756337, 0.4842019743630989, 0.48421164625328184, 0.48415533378101855, 0.4842589203562408, 0.4845598731960449, 0.4847690174138794, 0.4849501287366862, 0.48513778271525965, 0.48522226777175376, 0.48527766174004006, 0.485296034603829, 0.4851828587198142, 0.48530774222025314, 0.48558290561799283, 0.48586396830392226, 0.4861444924971579, 0.48673756676276214, 0.4873667976304879, 0.4879741873411813, 0.4884836340783497, 0.48910486984285095, 0.4897966414797338, 0.4901123666439825, 0.4902663361842962, 0.4903250400331026, 0.4900804513959895, 0.4894120713455193, 0.4885509173056752, 0.48736638696534645, 0.48570482120305536, 0.4843348640444384, 0.4828586402053755, 0.481330776959312, 0.4796615233715338, 0.4775539921596522, 0.4749562234972437, 0.47174411154689116, 0.46786236306192724, 0.4644492498150914, 0.46150318170537874, 0.45873346169261636, 0.4555764593141377, 0.4519219315834353, 0.4475671774454673, 0.44247649951963675, 0.43685958413054654, 0.4302520307551525, 0.42213618579484474, 0.4124238153702506, 0.4014594468336895, 0.3892464441786584, 0.37502857437765363, 0.35873121053309553, 0.34081795396636866, 0.31946526609594184, 0.2951979142062274, 0.26690832998985403, 0.23321366724226777, 0.1930811189301324, 0.14528081354221004, 0.08834721941317551, 0.022909630379143862, -0.01607936711087705, -0.02750604135376733, -0.02750604135376733, -0.02750604135376733, -0.02750604135376733, -0.02750604135376733, -0.02750604135376733, -0.02750604135376733, -0.02750604135376733, -0.02750604135376733], \"yaxis\": \"y\"}],                        {\"legend\": {\"tracegroupgap\": 0}, \"margin\": {\"t\": 60}, \"template\": {\"data\": {\"bar\": [{\"error_x\": {\"color\": \"#2a3f5f\"}, \"error_y\": {\"color\": \"#2a3f5f\"}, \"marker\": {\"line\": {\"color\": \"#E5ECF6\", \"width\": 0.5}}, \"type\": \"bar\"}], \"barpolar\": [{\"marker\": {\"line\": {\"color\": \"#E5ECF6\", \"width\": 0.5}}, \"type\": \"barpolar\"}], \"carpet\": [{\"aaxis\": {\"endlinecolor\": \"#2a3f5f\", \"gridcolor\": \"white\", \"linecolor\": \"white\", \"minorgridcolor\": \"white\", \"startlinecolor\": \"#2a3f5f\"}, \"baxis\": {\"endlinecolor\": \"#2a3f5f\", \"gridcolor\": \"white\", \"linecolor\": \"white\", \"minorgridcolor\": \"white\", \"startlinecolor\": \"#2a3f5f\"}, \"type\": \"carpet\"}], \"choropleth\": [{\"colorbar\": {\"outlinewidth\": 0, \"ticks\": \"\"}, \"type\": \"choropleth\"}], \"contour\": [{\"colorbar\": {\"outlinewidth\": 0, \"ticks\": \"\"}, \"colorscale\": [[0.0, \"#0d0887\"], [0.1111111111111111, \"#46039f\"], [0.2222222222222222, \"#7201a8\"], [0.3333333333333333, \"#9c179e\"], [0.4444444444444444, \"#bd3786\"], [0.5555555555555556, \"#d8576b\"], [0.6666666666666666, \"#ed7953\"], [0.7777777777777778, \"#fb9f3a\"], [0.8888888888888888, \"#fdca26\"], [1.0, \"#f0f921\"]], \"type\": \"contour\"}], \"contourcarpet\": [{\"colorbar\": {\"outlinewidth\": 0, \"ticks\": \"\"}, \"type\": \"contourcarpet\"}], \"heatmap\": [{\"colorbar\": {\"outlinewidth\": 0, \"ticks\": \"\"}, \"colorscale\": [[0.0, \"#0d0887\"], [0.1111111111111111, \"#46039f\"], [0.2222222222222222, \"#7201a8\"], [0.3333333333333333, \"#9c179e\"], [0.4444444444444444, \"#bd3786\"], [0.5555555555555556, \"#d8576b\"], [0.6666666666666666, \"#ed7953\"], [0.7777777777777778, \"#fb9f3a\"], [0.8888888888888888, \"#fdca26\"], [1.0, \"#f0f921\"]], \"type\": \"heatmap\"}], \"heatmapgl\": [{\"colorbar\": {\"outlinewidth\": 0, \"ticks\": \"\"}, \"colorscale\": [[0.0, \"#0d0887\"], [0.1111111111111111, \"#46039f\"], [0.2222222222222222, \"#7201a8\"], [0.3333333333333333, \"#9c179e\"], [0.4444444444444444, \"#bd3786\"], [0.5555555555555556, \"#d8576b\"], [0.6666666666666666, \"#ed7953\"], [0.7777777777777778, \"#fb9f3a\"], [0.8888888888888888, \"#fdca26\"], [1.0, \"#f0f921\"]], \"type\": \"heatmapgl\"}], \"histogram\": [{\"marker\": {\"colorbar\": {\"outlinewidth\": 0, \"ticks\": \"\"}}, \"type\": \"histogram\"}], \"histogram2d\": [{\"colorbar\": {\"outlinewidth\": 0, \"ticks\": \"\"}, \"colorscale\": [[0.0, \"#0d0887\"], [0.1111111111111111, \"#46039f\"], [0.2222222222222222, \"#7201a8\"], [0.3333333333333333, \"#9c179e\"], [0.4444444444444444, \"#bd3786\"], [0.5555555555555556, \"#d8576b\"], [0.6666666666666666, \"#ed7953\"], [0.7777777777777778, \"#fb9f3a\"], [0.8888888888888888, \"#fdca26\"], [1.0, \"#f0f921\"]], \"type\": \"histogram2d\"}], \"histogram2dcontour\": [{\"colorbar\": {\"outlinewidth\": 0, \"ticks\": \"\"}, \"colorscale\": [[0.0, \"#0d0887\"], [0.1111111111111111, \"#46039f\"], [0.2222222222222222, \"#7201a8\"], [0.3333333333333333, \"#9c179e\"], [0.4444444444444444, \"#bd3786\"], [0.5555555555555556, \"#d8576b\"], [0.6666666666666666, \"#ed7953\"], [0.7777777777777778, \"#fb9f3a\"], [0.8888888888888888, \"#fdca26\"], [1.0, \"#f0f921\"]], \"type\": \"histogram2dcontour\"}], \"mesh3d\": [{\"colorbar\": {\"outlinewidth\": 0, \"ticks\": \"\"}, \"type\": \"mesh3d\"}], \"parcoords\": [{\"line\": {\"colorbar\": {\"outlinewidth\": 0, \"ticks\": \"\"}}, \"type\": \"parcoords\"}], \"pie\": [{\"automargin\": true, \"type\": \"pie\"}], \"scatter\": [{\"marker\": {\"colorbar\": {\"outlinewidth\": 0, \"ticks\": \"\"}}, \"type\": \"scatter\"}], \"scatter3d\": [{\"line\": {\"colorbar\": {\"outlinewidth\": 0, \"ticks\": \"\"}}, \"marker\": {\"colorbar\": {\"outlinewidth\": 0, \"ticks\": \"\"}}, \"type\": \"scatter3d\"}], \"scattercarpet\": [{\"marker\": {\"colorbar\": {\"outlinewidth\": 0, \"ticks\": \"\"}}, \"type\": \"scattercarpet\"}], \"scattergeo\": [{\"marker\": {\"colorbar\": {\"outlinewidth\": 0, \"ticks\": \"\"}}, \"type\": \"scattergeo\"}], \"scattergl\": [{\"marker\": {\"colorbar\": {\"outlinewidth\": 0, \"ticks\": \"\"}}, \"type\": \"scattergl\"}], \"scattermapbox\": [{\"marker\": {\"colorbar\": {\"outlinewidth\": 0, \"ticks\": \"\"}}, \"type\": \"scattermapbox\"}], \"scatterpolar\": [{\"marker\": {\"colorbar\": {\"outlinewidth\": 0, \"ticks\": \"\"}}, \"type\": \"scatterpolar\"}], \"scatterpolargl\": [{\"marker\": {\"colorbar\": {\"outlinewidth\": 0, \"ticks\": \"\"}}, \"type\": \"scatterpolargl\"}], \"scatterternary\": [{\"marker\": {\"colorbar\": {\"outlinewidth\": 0, \"ticks\": \"\"}}, \"type\": \"scatterternary\"}], \"surface\": [{\"colorbar\": {\"outlinewidth\": 0, \"ticks\": \"\"}, \"colorscale\": [[0.0, \"#0d0887\"], [0.1111111111111111, \"#46039f\"], [0.2222222222222222, \"#7201a8\"], [0.3333333333333333, \"#9c179e\"], [0.4444444444444444, \"#bd3786\"], [0.5555555555555556, \"#d8576b\"], [0.6666666666666666, \"#ed7953\"], [0.7777777777777778, \"#fb9f3a\"], [0.8888888888888888, \"#fdca26\"], [1.0, \"#f0f921\"]], \"type\": \"surface\"}], \"table\": [{\"cells\": {\"fill\": {\"color\": \"#EBF0F8\"}, \"line\": {\"color\": \"white\"}}, \"header\": {\"fill\": {\"color\": \"#C8D4E3\"}, \"line\": {\"color\": \"white\"}}, \"type\": \"table\"}]}, \"layout\": {\"annotationdefaults\": {\"arrowcolor\": \"#2a3f5f\", \"arrowhead\": 0, \"arrowwidth\": 1}, \"coloraxis\": {\"colorbar\": {\"outlinewidth\": 0, \"ticks\": \"\"}}, \"colorscale\": {\"diverging\": [[0, \"#8e0152\"], [0.1, \"#c51b7d\"], [0.2, \"#de77ae\"], [0.3, \"#f1b6da\"], [0.4, \"#fde0ef\"], [0.5, \"#f7f7f7\"], [0.6, \"#e6f5d0\"], [0.7, \"#b8e186\"], [0.8, \"#7fbc41\"], [0.9, \"#4d9221\"], [1, \"#276419\"]], \"sequential\": [[0.0, \"#0d0887\"], [0.1111111111111111, \"#46039f\"], [0.2222222222222222, \"#7201a8\"], [0.3333333333333333, \"#9c179e\"], [0.4444444444444444, \"#bd3786\"], [0.5555555555555556, \"#d8576b\"], [0.6666666666666666, \"#ed7953\"], [0.7777777777777778, \"#fb9f3a\"], [0.8888888888888888, \"#fdca26\"], [1.0, \"#f0f921\"]], \"sequentialminus\": [[0.0, \"#0d0887\"], [0.1111111111111111, \"#46039f\"], [0.2222222222222222, \"#7201a8\"], [0.3333333333333333, \"#9c179e\"], [0.4444444444444444, \"#bd3786\"], [0.5555555555555556, \"#d8576b\"], [0.6666666666666666, \"#ed7953\"], [0.7777777777777778, \"#fb9f3a\"], [0.8888888888888888, \"#fdca26\"], [1.0, \"#f0f921\"]]}, \"colorway\": [\"#636efa\", \"#EF553B\", \"#00cc96\", \"#ab63fa\", \"#FFA15A\", \"#19d3f3\", \"#FF6692\", \"#B6E880\", \"#FF97FF\", \"#FECB52\"], \"font\": {\"color\": \"#2a3f5f\"}, \"geo\": {\"bgcolor\": \"white\", \"lakecolor\": \"white\", \"landcolor\": \"#E5ECF6\", \"showlakes\": true, \"showland\": true, \"subunitcolor\": \"white\"}, \"hoverlabel\": {\"align\": \"left\"}, \"hovermode\": \"closest\", \"mapbox\": {\"style\": \"light\"}, \"paper_bgcolor\": \"white\", \"plot_bgcolor\": \"#E5ECF6\", \"polar\": {\"angularaxis\": {\"gridcolor\": \"white\", \"linecolor\": \"white\", \"ticks\": \"\"}, \"bgcolor\": \"#E5ECF6\", \"radialaxis\": {\"gridcolor\": \"white\", \"linecolor\": \"white\", \"ticks\": \"\"}}, \"scene\": {\"xaxis\": {\"backgroundcolor\": \"#E5ECF6\", \"gridcolor\": \"white\", \"gridwidth\": 2, \"linecolor\": \"white\", \"showbackground\": true, \"ticks\": \"\", \"zerolinecolor\": \"white\"}, \"yaxis\": {\"backgroundcolor\": \"#E5ECF6\", \"gridcolor\": \"white\", \"gridwidth\": 2, \"linecolor\": \"white\", \"showbackground\": true, \"ticks\": \"\", \"zerolinecolor\": \"white\"}, \"zaxis\": {\"backgroundcolor\": \"#E5ECF6\", \"gridcolor\": \"white\", \"gridwidth\": 2, \"linecolor\": \"white\", \"showbackground\": true, \"ticks\": \"\", \"zerolinecolor\": \"white\"}}, \"shapedefaults\": {\"line\": {\"color\": \"#2a3f5f\"}}, \"ternary\": {\"aaxis\": {\"gridcolor\": \"white\", \"linecolor\": \"white\", \"ticks\": \"\"}, \"baxis\": {\"gridcolor\": \"white\", \"linecolor\": \"white\", \"ticks\": \"\"}, \"bgcolor\": \"#E5ECF6\", \"caxis\": {\"gridcolor\": \"white\", \"linecolor\": \"white\", \"ticks\": \"\"}}, \"title\": {\"x\": 0.05}, \"xaxis\": {\"automargin\": true, \"gridcolor\": \"white\", \"linecolor\": \"white\", \"ticks\": \"\", \"title\": {\"standoff\": 15}, \"zerolinecolor\": \"white\", \"zerolinewidth\": 2}, \"yaxis\": {\"automargin\": true, \"gridcolor\": \"white\", \"linecolor\": \"white\", \"ticks\": \"\", \"title\": {\"standoff\": 15}, \"zerolinecolor\": \"white\", \"zerolinewidth\": 2}}}, \"xaxis\": {\"anchor\": \"y\", \"domain\": [0.0, 1.0], \"title\": {\"text\": \"alpha\"}, \"type\": \"log\"}, \"yaxis\": {\"anchor\": \"x\", \"domain\": [0.0, 1.0], \"title\": {\"text\": \"R^2 (mean)\"}}},                        {\"responsive\": true}                    ).then(function(){\n                            \nvar gd = document.getElementById('2a0cfaab-bb9b-44b1-9353-8401e38a9ca9');\nvar x = new MutationObserver(function (mutations, observer) {{\n        var display = window.getComputedStyle(gd).display;\n        if (!display || display === 'none') {{\n            console.log([gd, 'removed!']);\n            Plotly.purge(gd);\n            observer.disconnect();\n        }}\n}});\n\n// Listen for the removal of the full notebook cells\nvar notebookContainer = gd.closest('#notebook-container');\nif (notebookContainer) {{\n    x.observe(notebookContainer, {childList: true});\n}}\n\n// Listen for the clearing of the current output cell\nvar outputEl = gd.closest('.output');\nif (outputEl) {{\n    x.observe(outputEl, {childList: true});\n}}\n\n                        })                };                });            </script>        </div>"
     },
     "metadata": {}
    }
   ],
   "source": [
    "# we pick alpha before the drop of the R^2 value\n",
    "r2_means = []\n",
    "\n",
    "for i in alphas:\n",
    "    r2_means.append(cross_val_score(Lasso(alpha=i, max_iter=5000), original_X_3, original_y).mean())\n",
    "\n",
    "result = pd.DataFrame(zip(alphas, r2_means), columns=['alpha', 'R^2 (mean)'])\n",
    "fig = px.line(result, x='alpha', y='R^2 (mean)')\n",
    "fig.update_xaxes(type='log')\n",
    "fig.show()"
   ]
  },
  {
   "source": [
    "## Coefficients"
   ],
   "cell_type": "markdown",
   "metadata": {}
  },
  {
   "cell_type": "code",
   "execution_count": 13,
   "metadata": {},
   "outputs": [
    {
     "output_type": "display_data",
     "data": {
      "application/vnd.plotly.v1+json": {
       "config": {
        "plotlyServerURL": "https://plot.ly"
       },
       "data": [
        {
         "hovertemplate": "variable=age<br>alphas=%{x}<br>value=%{y}<extra></extra>",
         "legendgroup": "age",
         "line": {
          "color": "#636efa",
          "dash": "solid"
         },
         "mode": "lines",
         "name": "age",
         "showlegend": true,
         "type": "scattergl",
         "x": [
          0.1,
          0.10913767146512733,
          0.11911031332830067,
          0.12999422244132455,
          0.14187266741165966,
          0.15483652565854988,
          0.16898497868124573,
          0.18442627085855348,
          0.20127853758499395,
          0.2196707090793235,
          0.23974349678010773,
          0.2616504698748821,
          0.28555923019901075,
          0.311652694492943,
          0.3401304938279252,
          0.3712105009066362,
          0.4051304969235381,
          0.44214999073744876,
          0.48255220427412776,
          0.5266462393484278,
          0.5747694424835352,
          0.6272899858196247,
          0.6846096838574658,
          0.7471670675868078,
          0.8154407395185161,
          0.8899530352885231,
          0.971274019847117,
          1.0600258488068823,
          1.1568875283162827,
          1.2626001098748565,
          1.3779723598335576,
          1.5038869469554101,
          1.6413071953751293,
          1.791284454622004,
          1.9549661430912606,
          2.133604526501411,
          2.3285662984981954,
          2.5413430367026364,
          2.773562614198415,
          3.027001653763463,
          3.3035991201283395,
          3.605471154250504,
          3.934927263095849,
          4.294487988789275,
          4.686904192314192,
          5.115178099293143,
          5.582586268862695,
          6.0927046613686775,
          6.649435996665045,
          7.257039612324216,
          7.920164050192553,
          8.643882620598271,
          9.433732216299779,
          10.295755673125127,
          11.236548001387515,
          12.26330684177563,
          13.383887531737578,
          14.606863203649889,
          15.941590374559995,
          17.39828052930364,
          18.988078244652634,
          20.723146452190296,
          22.616759492228645,
          24.683404670686485,
          26.938893095901726,
          29.400480643347105,
          32.0869999737045,
          35.019004614317126,
          38.21892620633119,
          41.71124612056521,
          45.5226827550731,
          49.68239594734388,
          54.222210065015865,
          59.17685748188825,
          64.58424430196978,
          70.48574036451903,
          76.92649574879147,
          83.95578619995112,
          91.62739011886741,
          100
         ],
         "xaxis": "x",
         "y": [
          10.61817161863022,
          10.505661606245917,
          10.401914829105095,
          10.294969021457232,
          10.17829948059607,
          10.053906504441388,
          9.914470952358535,
          9.762601483015208,
          9.597542636078796,
          9.422314868738624,
          9.231280072979411,
          9.023797938159515,
          8.796923126078656,
          8.532061670084634,
          8.234389316504622,
          7.909672818106235,
          7.565096609575768,
          7.22263633759199,
          6.857438283640877,
          6.484365918064067,
          6.086821333237017,
          5.651458600359886,
          5.178029826043533,
          4.661663109044593,
          4.11928359122729,
          3.5773982782392464,
          2.9851772748595056,
          2.336466963176902,
          1.6319087408841937,
          0.8464163202171695,
          0.03908413419354348,
          0,
          0,
          0,
          0,
          0,
          0,
          0,
          0,
          0,
          0,
          0,
          0,
          0,
          0,
          0,
          0,
          0,
          0,
          0,
          0,
          0,
          0,
          0,
          0,
          0,
          0,
          0,
          0,
          0,
          0,
          0,
          0,
          0,
          0,
          0,
          0,
          0,
          0,
          0,
          0,
          0,
          0,
          0,
          0,
          0,
          0,
          0,
          0,
          0
         ],
         "yaxis": "y"
        },
        {
         "hovertemplate": "variable=sex<br>alphas=%{x}<br>value=%{y}<extra></extra>",
         "legendgroup": "sex",
         "line": {
          "color": "#EF553B",
          "dash": "solid"
         },
         "mode": "lines",
         "name": "sex",
         "showlegend": true,
         "type": "scattergl",
         "x": [
          0.1,
          0.10913767146512733,
          0.11911031332830067,
          0.12999422244132455,
          0.14187266741165966,
          0.15483652565854988,
          0.16898497868124573,
          0.18442627085855348,
          0.20127853758499395,
          0.2196707090793235,
          0.23974349678010773,
          0.2616504698748821,
          0.28555923019901075,
          0.311652694492943,
          0.3401304938279252,
          0.3712105009066362,
          0.4051304969235381,
          0.44214999073744876,
          0.48255220427412776,
          0.5266462393484278,
          0.5747694424835352,
          0.6272899858196247,
          0.6846096838574658,
          0.7471670675868078,
          0.8154407395185161,
          0.8899530352885231,
          0.971274019847117,
          1.0600258488068823,
          1.1568875283162827,
          1.2626001098748565,
          1.3779723598335576,
          1.5038869469554101,
          1.6413071953751293,
          1.791284454622004,
          1.9549661430912606,
          2.133604526501411,
          2.3285662984981954,
          2.5413430367026364,
          2.773562614198415,
          3.027001653763463,
          3.3035991201283395,
          3.605471154250504,
          3.934927263095849,
          4.294487988789275,
          4.686904192314192,
          5.115178099293143,
          5.582586268862695,
          6.0927046613686775,
          6.649435996665045,
          7.257039612324216,
          7.920164050192553,
          8.643882620598271,
          9.433732216299779,
          10.295755673125127,
          11.236548001387515,
          12.26330684177563,
          13.383887531737578,
          14.606863203649889,
          15.941590374559995,
          17.39828052930364,
          18.988078244652634,
          20.723146452190296,
          22.616759492228645,
          24.683404670686485,
          26.938893095901726,
          29.400480643347105,
          32.0869999737045,
          35.019004614317126,
          38.21892620633119,
          41.71124612056521,
          45.5226827550731,
          49.68239594734388,
          54.222210065015865,
          59.17685748188825,
          64.58424430196978,
          70.48574036451903,
          76.92649574879147,
          83.95578619995112,
          91.62739011886741,
          100
         ],
         "xaxis": "x",
         "y": [
          -0.1235606607838045,
          -0.17510640945672953,
          -0.24169739044171817,
          -0.36375752874401135,
          -0.4352795243988294,
          -0.5381982391369797,
          -0.6270647382468844,
          -0.7191819029438478,
          -0.819971193741693,
          -0.901493843234879,
          -0.9770360150283911,
          -1.0173942559738007,
          -0.9819020231189904,
          -1.060846581955861,
          -1.1675715871006411,
          -1.2416695110611191,
          -1.235230488694886,
          -1.2306074265387001,
          -1.1850110336456179,
          -1.1168017246364859,
          -1.026779976073421,
          -0.9210175578334006,
          -0.8453056238336419,
          -0.7519061940546904,
          -0.6641149333826047,
          -0.5380986070696113,
          -0.41125086843004555,
          -0.30897386985565833,
          -0.17583119976451544,
          -0.1540913938524409,
          -0.13816666170061798,
          -0.2754047903286728,
          -0.37161086197145815,
          -0.44567007895926625,
          -0.4813731409425583,
          -0.5350785711749892,
          -0.5730094594393785,
          -0.600433563143253,
          -0.6266204376248754,
          -0.6004594449479206,
          -0.5764550567132594,
          -0.6015484894874875,
          -0.5873687995294374,
          -0.5314976443592948,
          -0.47050867817667624,
          -0.3909141259384528,
          -0.3366772454143398,
          0,
          0,
          0,
          0,
          0,
          0,
          0,
          0,
          0,
          0,
          0,
          0,
          0,
          0,
          0,
          0,
          0,
          0,
          0,
          0,
          0,
          0,
          0,
          0,
          0,
          0,
          0,
          0,
          0,
          0,
          0,
          0,
          0
         ],
         "yaxis": "y"
        },
        {
         "hovertemplate": "variable=bmi<br>alphas=%{x}<br>value=%{y}<extra></extra>",
         "legendgroup": "bmi",
         "line": {
          "color": "#00cc96",
          "dash": "solid"
         },
         "mode": "lines",
         "name": "bmi",
         "showlegend": true,
         "type": "scattergl",
         "x": [
          0.1,
          0.10913767146512733,
          0.11911031332830067,
          0.12999422244132455,
          0.14187266741165966,
          0.15483652565854988,
          0.16898497868124573,
          0.18442627085855348,
          0.20127853758499395,
          0.2196707090793235,
          0.23974349678010773,
          0.2616504698748821,
          0.28555923019901075,
          0.311652694492943,
          0.3401304938279252,
          0.3712105009066362,
          0.4051304969235381,
          0.44214999073744876,
          0.48255220427412776,
          0.5266462393484278,
          0.5747694424835352,
          0.6272899858196247,
          0.6846096838574658,
          0.7471670675868078,
          0.8154407395185161,
          0.8899530352885231,
          0.971274019847117,
          1.0600258488068823,
          1.1568875283162827,
          1.2626001098748565,
          1.3779723598335576,
          1.5038869469554101,
          1.6413071953751293,
          1.791284454622004,
          1.9549661430912606,
          2.133604526501411,
          2.3285662984981954,
          2.5413430367026364,
          2.773562614198415,
          3.027001653763463,
          3.3035991201283395,
          3.605471154250504,
          3.934927263095849,
          4.294487988789275,
          4.686904192314192,
          5.115178099293143,
          5.582586268862695,
          6.0927046613686775,
          6.649435996665045,
          7.257039612324216,
          7.920164050192553,
          8.643882620598271,
          9.433732216299779,
          10.295755673125127,
          11.236548001387515,
          12.26330684177563,
          13.383887531737578,
          14.606863203649889,
          15.941590374559995,
          17.39828052930364,
          18.988078244652634,
          20.723146452190296,
          22.616759492228645,
          24.683404670686485,
          26.938893095901726,
          29.400480643347105,
          32.0869999737045,
          35.019004614317126,
          38.21892620633119,
          41.71124612056521,
          45.5226827550731,
          49.68239594734388,
          54.222210065015865,
          59.17685748188825,
          64.58424430196978,
          70.48574036451903,
          76.92649574879147,
          83.95578619995112,
          91.62739011886741,
          100
         ],
         "xaxis": "x",
         "y": [
          20.999632544554824,
          20.9988920180642,
          21.002071430601465,
          21.005030742578946,
          21.008430121851067,
          21.001666606912746,
          21.005131162815946,
          21.008782932758233,
          21.013353466906167,
          21.02164337708121,
          21.03097364949784,
          21.04231223705391,
          21.054626297507646,
          21.066150007668757,
          21.07702537812814,
          21.089128538953744,
          21.107606567882687,
          21.138105070627926,
          21.161980814779767,
          21.206820299247095,
          21.262494363542384,
          21.32117432218674,
          21.386067630451816,
          21.457214483515433,
          21.524213597222236,
          21.566364447516296,
          21.611381018323037,
          21.658765121651648,
          21.71900444632537,
          21.783807334754613,
          21.86450302221205,
          21.983981447942675,
          22.114629040392387,
          22.256432767472287,
          22.37569639830232,
          22.49108389627351,
          22.61817089049095,
          22.757577398379006,
          22.84718388071747,
          22.84705908595776,
          22.847127061094508,
          22.85129058178813,
          22.829606784876127,
          22.8609824215215,
          22.895209001880524,
          22.935476641378578,
          23.05353825005512,
          23.1671670320188,
          23.208256373630366,
          23.253618284896007,
          23.302657838659595,
          23.075921062293148,
          22.797941423066252,
          22.487446389323893,
          22.128706663126838,
          21.737186479334987,
          21.30989046742856,
          20.843549896593444,
          20.19633678444663,
          19.420578783091415,
          18.573893961917797,
          17.649899083153095,
          16.47027545242356,
          15.04179415069059,
          13.482193386452822,
          11.779990191168146,
          9.922245260229474,
          7.894745700841538,
          5.681979892759837,
          3.267064316997096,
          0,
          0,
          0,
          0,
          0,
          0,
          0,
          0,
          0,
          0
         ],
         "yaxis": "y"
        },
        {
         "hovertemplate": "variable=bp<br>alphas=%{x}<br>value=%{y}<extra></extra>",
         "legendgroup": "bp",
         "line": {
          "color": "#ab63fa",
          "dash": "solid"
         },
         "mode": "lines",
         "name": "bp",
         "showlegend": true,
         "type": "scattergl",
         "x": [
          0.1,
          0.10913767146512733,
          0.11911031332830067,
          0.12999422244132455,
          0.14187266741165966,
          0.15483652565854988,
          0.16898497868124573,
          0.18442627085855348,
          0.20127853758499395,
          0.2196707090793235,
          0.23974349678010773,
          0.2616504698748821,
          0.28555923019901075,
          0.311652694492943,
          0.3401304938279252,
          0.3712105009066362,
          0.4051304969235381,
          0.44214999073744876,
          0.48255220427412776,
          0.5266462393484278,
          0.5747694424835352,
          0.6272899858196247,
          0.6846096838574658,
          0.7471670675868078,
          0.8154407395185161,
          0.8899530352885231,
          0.971274019847117,
          1.0600258488068823,
          1.1568875283162827,
          1.2626001098748565,
          1.3779723598335576,
          1.5038869469554101,
          1.6413071953751293,
          1.791284454622004,
          1.9549661430912606,
          2.133604526501411,
          2.3285662984981954,
          2.5413430367026364,
          2.773562614198415,
          3.027001653763463,
          3.3035991201283395,
          3.605471154250504,
          3.934927263095849,
          4.294487988789275,
          4.686904192314192,
          5.115178099293143,
          5.582586268862695,
          6.0927046613686775,
          6.649435996665045,
          7.257039612324216,
          7.920164050192553,
          8.643882620598271,
          9.433732216299779,
          10.295755673125127,
          11.236548001387515,
          12.26330684177563,
          13.383887531737578,
          14.606863203649889,
          15.941590374559995,
          17.39828052930364,
          18.988078244652634,
          20.723146452190296,
          22.616759492228645,
          24.683404670686485,
          26.938893095901726,
          29.400480643347105,
          32.0869999737045,
          35.019004614317126,
          38.21892620633119,
          41.71124612056521,
          45.5226827550731,
          49.68239594734388,
          54.222210065015865,
          59.17685748188825,
          64.58424430196978,
          70.48574036451903,
          76.92649574879147,
          83.95578619995112,
          91.62739011886741,
          100
         ],
         "xaxis": "x",
         "y": [
          12.754332938719447,
          12.753508017445515,
          12.749809536417574,
          12.744461514706227,
          12.738646801932248,
          12.730939185227363,
          12.724108377058608,
          12.716752005164816,
          12.707646030717056,
          12.68791089759296,
          12.666437724375399,
          12.643391139913618,
          12.618278686808885,
          12.593941700693232,
          12.568514379663736,
          12.540773691737561,
          12.509295556357547,
          12.472554010342574,
          12.430614726273134,
          12.391519953229306,
          12.34877089804464,
          12.302477989756772,
          12.252567977104645,
          12.19822065576087,
          12.151381358761475,
          12.128535914863056,
          12.10221731100016,
          12.071774784259716,
          12.047323905090563,
          12.02747912625903,
          12.010261889553181,
          11.853205618293044,
          11.66614117453498,
          11.460657323642723,
          11.241922081994042,
          11.000914355802566,
          10.742326783129105,
          10.459238336167415,
          10.206454939497679,
          9.992610370915807,
          9.758536779411669,
          9.508103957193091,
          9.202048808431543,
          8.855916423387697,
          8.478197785326413,
          8.06923376106205,
          7.654475709752297,
          7.258249867539061,
          7.131856525441379,
          6.992475951275465,
          6.841652518182067,
          6.815772799404856,
          6.821418903347852,
          6.623198688253897,
          6.056406441460335,
          5.437822581264983,
          4.762714560188668,
          4.025912424662378,
          3.2432301050358956,
          2.3991688466063636,
          1.4785830137710807,
          0.4738495800757061,
          0,
          0,
          0,
          0,
          0,
          0,
          0,
          0,
          0,
          0,
          0,
          0,
          0,
          0,
          0,
          0,
          0,
          0
         ],
         "yaxis": "y"
        },
        {
         "hovertemplate": "variable=s1<br>alphas=%{x}<br>value=%{y}<extra></extra>",
         "legendgroup": "s1",
         "line": {
          "color": "#FFA15A",
          "dash": "solid"
         },
         "mode": "lines",
         "name": "s1",
         "showlegend": true,
         "type": "scattergl",
         "x": [
          0.1,
          0.10913767146512733,
          0.11911031332830067,
          0.12999422244132455,
          0.14187266741165966,
          0.15483652565854988,
          0.16898497868124573,
          0.18442627085855348,
          0.20127853758499395,
          0.2196707090793235,
          0.23974349678010773,
          0.2616504698748821,
          0.28555923019901075,
          0.311652694492943,
          0.3401304938279252,
          0.3712105009066362,
          0.4051304969235381,
          0.44214999073744876,
          0.48255220427412776,
          0.5266462393484278,
          0.5747694424835352,
          0.6272899858196247,
          0.6846096838574658,
          0.7471670675868078,
          0.8154407395185161,
          0.8899530352885231,
          0.971274019847117,
          1.0600258488068823,
          1.1568875283162827,
          1.2626001098748565,
          1.3779723598335576,
          1.5038869469554101,
          1.6413071953751293,
          1.791284454622004,
          1.9549661430912606,
          2.133604526501411,
          2.3285662984981954,
          2.5413430367026364,
          2.773562614198415,
          3.027001653763463,
          3.3035991201283395,
          3.605471154250504,
          3.934927263095849,
          4.294487988789275,
          4.686904192314192,
          5.115178099293143,
          5.582586268862695,
          6.0927046613686775,
          6.649435996665045,
          7.257039612324216,
          7.920164050192553,
          8.643882620598271,
          9.433732216299779,
          10.295755673125127,
          11.236548001387515,
          12.26330684177563,
          13.383887531737578,
          14.606863203649889,
          15.941590374559995,
          17.39828052930364,
          18.988078244652634,
          20.723146452190296,
          22.616759492228645,
          24.683404670686485,
          26.938893095901726,
          29.400480643347105,
          32.0869999737045,
          35.019004614317126,
          38.21892620633119,
          41.71124612056521,
          45.5226827550731,
          49.68239594734388,
          54.222210065015865,
          59.17685748188825,
          64.58424430196978,
          70.48574036451903,
          76.92649574879147,
          83.95578619995112,
          91.62739011886741,
          100
         ],
         "xaxis": "x",
         "y": [
          0,
          0,
          -0.7367076492665977,
          -0.8838515640806692,
          -1.086553461228833,
          -8.163820288212012,
          -7.992670836411902,
          -7.809924383942045,
          -7.608472998646434,
          -7.383905205695813,
          -7.139357005038754,
          -6.879140727683968,
          -6.594648476452185,
          -6.214367116999009,
          -5.7637157233250935,
          -5.2742396974111125,
          -4.765101811534495,
          -4.298362536452673,
          -3.8293260145931014,
          -3.550435864398085,
          -3.250689214276235,
          -2.920990466368907,
          -2.56252078379522,
          -2.1717252650422,
          -1.8222010295983346,
          -1.6953573843192402,
          -1.5557180910313468,
          -1.4070348520622489,
          -1.242339419831916,
          -1.0566207266873833,
          -0.8261853409377286,
          -0.5617460311422664,
          -0.27847891633187544,
          0,
          0,
          0,
          0,
          0,
          0,
          0,
          0,
          0,
          0,
          0,
          0,
          0,
          0,
          0,
          0,
          0,
          0,
          0,
          0,
          0,
          0,
          0,
          0,
          0,
          0,
          0,
          0,
          0,
          0,
          0,
          0,
          0,
          0,
          0,
          0,
          0,
          0,
          0,
          0,
          0,
          0,
          0,
          0,
          0,
          0,
          0
         ],
         "yaxis": "y"
        },
        {
         "hovertemplate": "variable=s2<br>alphas=%{x}<br>value=%{y}<extra></extra>",
         "legendgroup": "s2",
         "line": {
          "color": "#19d3f3",
          "dash": "solid"
         },
         "mode": "lines",
         "name": "s2",
         "showlegend": true,
         "type": "scattergl",
         "x": [
          0.1,
          0.10913767146512733,
          0.11911031332830067,
          0.12999422244132455,
          0.14187266741165966,
          0.15483652565854988,
          0.16898497868124573,
          0.18442627085855348,
          0.20127853758499395,
          0.2196707090793235,
          0.23974349678010773,
          0.2616504698748821,
          0.28555923019901075,
          0.311652694492943,
          0.3401304938279252,
          0.3712105009066362,
          0.4051304969235381,
          0.44214999073744876,
          0.48255220427412776,
          0.5266462393484278,
          0.5747694424835352,
          0.6272899858196247,
          0.6846096838574658,
          0.7471670675868078,
          0.8154407395185161,
          0.8899530352885231,
          0.971274019847117,
          1.0600258488068823,
          1.1568875283162827,
          1.2626001098748565,
          1.3779723598335576,
          1.5038869469554101,
          1.6413071953751293,
          1.791284454622004,
          1.9549661430912606,
          2.133604526501411,
          2.3285662984981954,
          2.5413430367026364,
          2.773562614198415,
          3.027001653763463,
          3.3035991201283395,
          3.605471154250504,
          3.934927263095849,
          4.294487988789275,
          4.686904192314192,
          5.115178099293143,
          5.582586268862695,
          6.0927046613686775,
          6.649435996665045,
          7.257039612324216,
          7.920164050192553,
          8.643882620598271,
          9.433732216299779,
          10.295755673125127,
          11.236548001387515,
          12.26330684177563,
          13.383887531737578,
          14.606863203649889,
          15.941590374559995,
          17.39828052930364,
          18.988078244652634,
          20.723146452190296,
          22.616759492228645,
          24.683404670686485,
          26.938893095901726,
          29.400480643347105,
          32.0869999737045,
          35.019004614317126,
          38.21892620633119,
          41.71124612056521,
          45.5226827550731,
          49.68239594734388,
          54.222210065015865,
          59.17685748188825,
          64.58424430196978,
          70.48574036451903,
          76.92649574879147,
          83.95578619995112,
          91.62739011886741,
          100
         ],
         "xaxis": "x",
         "y": [
          -7.877559113413389,
          -7.6923255478888635,
          -6.924937183610469,
          -6.677374936294172,
          -6.371455898604069,
          0,
          0,
          0,
          0,
          0,
          0,
          0,
          0,
          0,
          0,
          0,
          0,
          0,
          0,
          0,
          0,
          0,
          0,
          0,
          0,
          0,
          0,
          0,
          0,
          0,
          0,
          0,
          0,
          0,
          0,
          0,
          0,
          0,
          0,
          0,
          0,
          0,
          0,
          0,
          0,
          0,
          0,
          0,
          0,
          0,
          0,
          0,
          0,
          0,
          0,
          0,
          0,
          0,
          0,
          0,
          0,
          0,
          0,
          0,
          0,
          0,
          0,
          0,
          0,
          0,
          0,
          0,
          0,
          0,
          0,
          0,
          0,
          0,
          0,
          0
         ],
         "yaxis": "y"
        },
        {
         "hovertemplate": "variable=s3<br>alphas=%{x}<br>value=%{y}<extra></extra>",
         "legendgroup": "s3",
         "line": {
          "color": "#FF6692",
          "dash": "solid"
         },
         "mode": "lines",
         "name": "s3",
         "showlegend": true,
         "type": "scattergl",
         "x": [
          0.1,
          0.10913767146512733,
          0.11911031332830067,
          0.12999422244132455,
          0.14187266741165966,
          0.15483652565854988,
          0.16898497868124573,
          0.18442627085855348,
          0.20127853758499395,
          0.2196707090793235,
          0.23974349678010773,
          0.2616504698748821,
          0.28555923019901075,
          0.311652694492943,
          0.3401304938279252,
          0.3712105009066362,
          0.4051304969235381,
          0.44214999073744876,
          0.48255220427412776,
          0.5266462393484278,
          0.5747694424835352,
          0.6272899858196247,
          0.6846096838574658,
          0.7471670675868078,
          0.8154407395185161,
          0.8899530352885231,
          0.971274019847117,
          1.0600258488068823,
          1.1568875283162827,
          1.2626001098748565,
          1.3779723598335576,
          1.5038869469554101,
          1.6413071953751293,
          1.791284454622004,
          1.9549661430912606,
          2.133604526501411,
          2.3285662984981954,
          2.5413430367026364,
          2.773562614198415,
          3.027001653763463,
          3.3035991201283395,
          3.605471154250504,
          3.934927263095849,
          4.294487988789275,
          4.686904192314192,
          5.115178099293143,
          5.582586268862695,
          6.0927046613686775,
          6.649435996665045,
          7.257039612324216,
          7.920164050192553,
          8.643882620598271,
          9.433732216299779,
          10.295755673125127,
          11.236548001387515,
          12.26330684177563,
          13.383887531737578,
          14.606863203649889,
          15.941590374559995,
          17.39828052930364,
          18.988078244652634,
          20.723146452190296,
          22.616759492228645,
          24.683404670686485,
          26.938893095901726,
          29.400480643347105,
          32.0869999737045,
          35.019004614317126,
          38.21892620633119,
          41.71124612056521,
          45.5226827550731,
          49.68239594734388,
          54.222210065015865,
          59.17685748188825,
          64.58424430196978,
          70.48574036451903,
          76.92649574879147,
          83.95578619995112,
          91.62739011886741,
          100
         ],
         "xaxis": "x",
         "y": [
          -15.112954296088711,
          -15.16315993289905,
          -14.859742548183482,
          -14.77029974160461,
          -14.655002881080838,
          -11.999378510865197,
          -12.023740513218677,
          -12.046202861718799,
          -12.072353376453808,
          -12.111405727094361,
          -12.152709545974615,
          -12.188079194133563,
          -12.226226083522379,
          -12.348210875789212,
          -12.523867197212493,
          -12.71224334580346,
          -12.874673289355094,
          -12.979178735857458,
          -13.106683087794362,
          -12.914501835109183,
          -12.701554040382167,
          -12.470860264008987,
          -12.219956482993577,
          -11.945983347377627,
          -11.706457567410874,
          -11.605040406627609,
          -11.495167293106816,
          -11.373078568024344,
          -11.258970408284622,
          -11.193657569133281,
          -11.112206634473974,
          -11.05096360093216,
          -10.986425768633865,
          -10.905498292245895,
          -10.708293988351686,
          -10.493448464959226,
          -10.260038538662096,
          -10.005297063475831,
          -9.725547426796084,
          -9.41276053698471,
          -9.071317413931382,
          -8.698753846183076,
          -8.287732081255744,
          -7.842712942755707,
          -7.357034181021189,
          -6.825375268040239,
          -6.207863271083579,
          -5.592565035915913,
          -5.235893501146645,
          -4.846606252469975,
          -4.421768862436234,
          -3.9611505067303336,
          -3.452748229705888,
          -2.906597357365689,
          -2.3293517316431456,
          -1.6993592970952647,
          -1.0118002236232437,
          -0.26140866840064136,
          0,
          0,
          0,
          0,
          0,
          0,
          0,
          0,
          0,
          0,
          0,
          0,
          0,
          0,
          0,
          0,
          0,
          0,
          0,
          0,
          0,
          0
         ],
         "yaxis": "y"
        },
        {
         "hovertemplate": "variable=s4<br>alphas=%{x}<br>value=%{y}<extra></extra>",
         "legendgroup": "s4",
         "line": {
          "color": "#B6E880",
          "dash": "solid"
         },
         "mode": "lines",
         "name": "s4",
         "showlegend": true,
         "type": "scattergl",
         "x": [
          0.1,
          0.10913767146512733,
          0.11911031332830067,
          0.12999422244132455,
          0.14187266741165966,
          0.15483652565854988,
          0.16898497868124573,
          0.18442627085855348,
          0.20127853758499395,
          0.2196707090793235,
          0.23974349678010773,
          0.2616504698748821,
          0.28555923019901075,
          0.311652694492943,
          0.3401304938279252,
          0.3712105009066362,
          0.4051304969235381,
          0.44214999073744876,
          0.48255220427412776,
          0.5266462393484278,
          0.5747694424835352,
          0.6272899858196247,
          0.6846096838574658,
          0.7471670675868078,
          0.8154407395185161,
          0.8899530352885231,
          0.971274019847117,
          1.0600258488068823,
          1.1568875283162827,
          1.2626001098748565,
          1.3779723598335576,
          1.5038869469554101,
          1.6413071953751293,
          1.791284454622004,
          1.9549661430912606,
          2.133604526501411,
          2.3285662984981954,
          2.5413430367026364,
          2.773562614198415,
          3.027001653763463,
          3.3035991201283395,
          3.605471154250504,
          3.934927263095849,
          4.294487988789275,
          4.686904192314192,
          5.115178099293143,
          5.582586268862695,
          6.0927046613686775,
          6.649435996665045,
          7.257039612324216,
          7.920164050192553,
          8.643882620598271,
          9.433732216299779,
          10.295755673125127,
          11.236548001387515,
          12.26330684177563,
          13.383887531737578,
          14.606863203649889,
          15.941590374559995,
          17.39828052930364,
          18.988078244652634,
          20.723146452190296,
          22.616759492228645,
          24.683404670686485,
          26.938893095901726,
          29.400480643347105,
          32.0869999737045,
          35.019004614317126,
          38.21892620633119,
          41.71124612056521,
          45.5226827550731,
          49.68239594734388,
          54.222210065015865,
          59.17685748188825,
          64.58424430196978,
          70.48574036451903,
          76.92649574879147,
          83.95578619995112,
          91.62739011886741,
          100
         ],
         "xaxis": "x",
         "y": [
          4.107215710464329,
          3.8710861547015587,
          3.767021199584644,
          3.676510719076078,
          3.5801737921645627,
          3.449316853710886,
          3.328776667900441,
          3.2009828298858394,
          3.0605033539504807,
          2.9035121761719385,
          2.7335782982974406,
          2.5580820271178166,
          2.3669561505246253,
          2.045301217911501,
          1.6350757652215484,
          1.190779021005379,
          0.7490444074183344,
          0.3964792695799667,
          0.011558511738382505,
          0,
          0,
          0,
          0,
          0,
          0,
          0,
          0,
          0,
          0,
          0,
          0,
          0,
          0,
          0,
          0,
          0,
          0,
          0,
          0,
          0,
          0,
          0,
          0,
          0,
          0,
          0,
          0,
          0,
          0,
          0,
          0,
          0,
          0,
          0,
          0,
          0,
          0,
          0,
          0,
          0,
          0,
          0,
          0,
          0,
          0,
          0,
          0,
          0,
          0,
          0,
          0,
          0,
          0,
          0,
          0,
          0,
          0,
          0,
          0,
          0
         ],
         "yaxis": "y"
        },
        {
         "hovertemplate": "variable=s5<br>alphas=%{x}<br>value=%{y}<extra></extra>",
         "legendgroup": "s5",
         "line": {
          "color": "#FF97FF",
          "dash": "solid"
         },
         "mode": "lines",
         "name": "s5",
         "showlegend": true,
         "type": "scattergl",
         "x": [
          0.1,
          0.10913767146512733,
          0.11911031332830067,
          0.12999422244132455,
          0.14187266741165966,
          0.15483652565854988,
          0.16898497868124573,
          0.18442627085855348,
          0.20127853758499395,
          0.2196707090793235,
          0.23974349678010773,
          0.2616504698748821,
          0.28555923019901075,
          0.311652694492943,
          0.3401304938279252,
          0.3712105009066362,
          0.4051304969235381,
          0.44214999073744876,
          0.48255220427412776,
          0.5266462393484278,
          0.5747694424835352,
          0.6272899858196247,
          0.6846096838574658,
          0.7471670675868078,
          0.8154407395185161,
          0.8899530352885231,
          0.971274019847117,
          1.0600258488068823,
          1.1568875283162827,
          1.2626001098748565,
          1.3779723598335576,
          1.5038869469554101,
          1.6413071953751293,
          1.791284454622004,
          1.9549661430912606,
          2.133604526501411,
          2.3285662984981954,
          2.5413430367026364,
          2.773562614198415,
          3.027001653763463,
          3.3035991201283395,
          3.605471154250504,
          3.934927263095849,
          4.294487988789275,
          4.686904192314192,
          5.115178099293143,
          5.582586268862695,
          6.0927046613686775,
          6.649435996665045,
          7.257039612324216,
          7.920164050192553,
          8.643882620598271,
          9.433732216299779,
          10.295755673125127,
          11.236548001387515,
          12.26330684177563,
          13.383887531737578,
          14.606863203649889,
          15.941590374559995,
          17.39828052930364,
          18.988078244652634,
          20.723146452190296,
          22.616759492228645,
          24.683404670686485,
          26.938893095901726,
          29.400480643347105,
          32.0869999737045,
          35.019004614317126,
          38.21892620633119,
          41.71124612056521,
          45.5226827550731,
          49.68239594734388,
          54.222210065015865,
          59.17685748188825,
          64.58424430196978,
          70.48574036451903,
          76.92649574879147,
          83.95578619995112,
          91.62739011886741,
          100
         ],
         "xaxis": "x",
         "y": [
          31.31114671065305,
          31.35319375883179,
          31.605252020941386,
          31.672849925479902,
          31.75941797241407,
          33.9644700024755,
          33.94039984095108,
          33.91417716039701,
          33.88469751792385,
          33.84794285467641,
          33.80778719771251,
          33.76423849651892,
          33.717301240984646,
          33.66189873021607,
          33.59930807650718,
          33.53133380246028,
          33.457537561229486,
          33.375180168609326,
          33.31469483189621,
          33.22812685117451,
          33.10227454820845,
          32.96631901076679,
          32.81559002328797,
          32.65078052463062,
          32.41311441218388,
          32.00038117623694,
          31.54905520070349,
          31.05765201952128,
          30.51189178121955,
          29.89652613588041,
          29.235568496374682,
          28.481506996273612,
          27.657222427696748,
          26.77354859985569,
          25.963206587891303,
          25.079618487099022,
          24.1119083113355,
          23.05470474827011,
          22.33115009725363,
          22.257801570658366,
          22.17777357541291,
          22.08895318988901,
          21.93557935954077,
          21.805690401128253,
          21.663933546479004,
          21.510059194999144,
          21.358811431817116,
          21.184668714529934,
          20.946088173581433,
          20.685658515721006,
          20.401475849676586,
          20.121718073757634,
          19.80878212354117,
          19.482964114964386,
          19.155323809037032,
          18.797744808366733,
          18.40749141338688,
          17.9815819718132,
          17.347774394967267,
          16.56931503492824,
          15.719503475489233,
          14.792024216068379,
          13.61115991165002,
          12.181844019818987,
          10.622184963380498,
          8.920050092584459,
          7.062379729401721,
          5.034961551526306,
          2.822284561332396,
          0.4074001160104311,
          0,
          0,
          0,
          0,
          0,
          0,
          0,
          0,
          0,
          0
         ],
         "yaxis": "y"
        },
        {
         "hovertemplate": "variable=s6<br>alphas=%{x}<br>value=%{y}<extra></extra>",
         "legendgroup": "s6",
         "line": {
          "color": "#FECB52",
          "dash": "solid"
         },
         "mode": "lines",
         "name": "s6",
         "showlegend": true,
         "type": "scattergl",
         "x": [
          0.1,
          0.10913767146512733,
          0.11911031332830067,
          0.12999422244132455,
          0.14187266741165966,
          0.15483652565854988,
          0.16898497868124573,
          0.18442627085855348,
          0.20127853758499395,
          0.2196707090793235,
          0.23974349678010773,
          0.2616504698748821,
          0.28555923019901075,
          0.311652694492943,
          0.3401304938279252,
          0.3712105009066362,
          0.4051304969235381,
          0.44214999073744876,
          0.48255220427412776,
          0.5266462393484278,
          0.5747694424835352,
          0.6272899858196247,
          0.6846096838574658,
          0.7471670675868078,
          0.8154407395185161,
          0.8899530352885231,
          0.971274019847117,
          1.0600258488068823,
          1.1568875283162827,
          1.2626001098748565,
          1.3779723598335576,
          1.5038869469554101,
          1.6413071953751293,
          1.791284454622004,
          1.9549661430912606,
          2.133604526501411,
          2.3285662984981954,
          2.5413430367026364,
          2.773562614198415,
          3.027001653763463,
          3.3035991201283395,
          3.605471154250504,
          3.934927263095849,
          4.294487988789275,
          4.686904192314192,
          5.115178099293143,
          5.582586268862695,
          6.0927046613686775,
          6.649435996665045,
          7.257039612324216,
          7.920164050192553,
          8.643882620598271,
          9.433732216299779,
          10.295755673125127,
          11.236548001387515,
          12.26330684177563,
          13.383887531737578,
          14.606863203649889,
          15.941590374559995,
          17.39828052930364,
          18.988078244652634,
          20.723146452190296,
          22.616759492228645,
          24.683404670686485,
          26.938893095901726,
          29.400480643347105,
          32.0869999737045,
          35.019004614317126,
          38.21892620633119,
          41.71124612056521,
          45.5226827550731,
          49.68239594734388,
          54.222210065015865,
          59.17685748188825,
          64.58424430196978,
          70.48574036451903,
          76.92649574879147,
          83.95578619995112,
          91.62739011886741,
          100
         ],
         "xaxis": "x",
         "y": [
          3.296189156837362,
          3.2473375213118714,
          3.186550178256131,
          3.117129860824102,
          3.0413781883428377,
          2.9598187347118343,
          2.869969947528546,
          2.7719079312660178,
          2.6733646217472087,
          2.649418310371901,
          2.6232937259829834,
          2.594922593120607,
          2.5640283128448313,
          2.535264238784936,
          2.506470477807461,
          2.4750861410619867,
          2.446639485543555,
          2.421001976741095,
          2.3863481796829413,
          2.3435033473978977,
          2.292976883896968,
          2.238190224781979,
          2.178273379374817,
          2.1128334573182963,
          2.0476063819943704,
          1.996140973073909,
          1.939967537441568,
          1.878833794897655,
          1.81157615953526,
          1.7384864503027333,
          1.645045275974402,
          1.542594464482101,
          1.424733055917651,
          1.298444980813447,
          1.1824649007359262,
          1.056598940674741,
          0.918764939747462,
          0.7681821541604822,
          0.6042108150261355,
          0.42536103252238067,
          0.2301300709046608,
          0.015902158684981377,
          0,
          0,
          0,
          0,
          0,
          0,
          0,
          0,
          0,
          0,
          0,
          0,
          0,
          0,
          0,
          0,
          0,
          0,
          0,
          0,
          0,
          0,
          0,
          0,
          0,
          0,
          0,
          0,
          0,
          0,
          0,
          0,
          0,
          0,
          0,
          0,
          0,
          0
         ],
         "yaxis": "y"
        },
        {
         "hovertemplate": "variable=age^2<br>alphas=%{x}<br>value=%{y}<extra></extra>",
         "legendgroup": "age^2",
         "line": {
          "color": "#636efa",
          "dash": "solid"
         },
         "mode": "lines",
         "name": "age^2",
         "showlegend": true,
         "type": "scattergl",
         "x": [
          0.1,
          0.10913767146512733,
          0.11911031332830067,
          0.12999422244132455,
          0.14187266741165966,
          0.15483652565854988,
          0.16898497868124573,
          0.18442627085855348,
          0.20127853758499395,
          0.2196707090793235,
          0.23974349678010773,
          0.2616504698748821,
          0.28555923019901075,
          0.311652694492943,
          0.3401304938279252,
          0.3712105009066362,
          0.4051304969235381,
          0.44214999073744876,
          0.48255220427412776,
          0.5266462393484278,
          0.5747694424835352,
          0.6272899858196247,
          0.6846096838574658,
          0.7471670675868078,
          0.8154407395185161,
          0.8899530352885231,
          0.971274019847117,
          1.0600258488068823,
          1.1568875283162827,
          1.2626001098748565,
          1.3779723598335576,
          1.5038869469554101,
          1.6413071953751293,
          1.791284454622004,
          1.9549661430912606,
          2.133604526501411,
          2.3285662984981954,
          2.5413430367026364,
          2.773562614198415,
          3.027001653763463,
          3.3035991201283395,
          3.605471154250504,
          3.934927263095849,
          4.294487988789275,
          4.686904192314192,
          5.115178099293143,
          5.582586268862695,
          6.0927046613686775,
          6.649435996665045,
          7.257039612324216,
          7.920164050192553,
          8.643882620598271,
          9.433732216299779,
          10.295755673125127,
          11.236548001387515,
          12.26330684177563,
          13.383887531737578,
          14.606863203649889,
          15.941590374559995,
          17.39828052930364,
          18.988078244652634,
          20.723146452190296,
          22.616759492228645,
          24.683404670686485,
          26.938893095901726,
          29.400480643347105,
          32.0869999737045,
          35.019004614317126,
          38.21892620633119,
          41.71124612056521,
          45.5226827550731,
          49.68239594734388,
          54.222210065015865,
          59.17685748188825,
          64.58424430196978,
          70.48574036451903,
          76.92649574879147,
          83.95578619995112,
          91.62739011886741,
          100
         ],
         "xaxis": "x",
         "y": [
          4.864925906734182,
          4.868591968930052,
          4.8660395132709295,
          4.860584245649558,
          4.8546486676670115,
          4.846921675432374,
          4.839954198950615,
          4.832545548409072,
          4.824489310027524,
          4.816612862083799,
          4.8079860628390065,
          4.7986156521410495,
          4.788341864591935,
          4.783184348146904,
          4.780703093751222,
          4.7780081948411555,
          4.7706912741911935,
          4.749281635667887,
          4.7255063603833944,
          4.702130537740725,
          4.6773144809419005,
          4.649962201729306,
          4.620076430743405,
          4.5874803715378265,
          4.548588633181762,
          4.498293302019288,
          4.443557628216739,
          4.384515962170732,
          4.321176730031878,
          4.26011689254679,
          4.185673235125381,
          4.030681194097449,
          3.8666172750224366,
          3.68788170775977,
          3.4998337801822235,
          3.296035493153773,
          3.073683206901664,
          2.8310568586535,
          2.5697656723604356,
          2.290891709348475,
          1.9865530257991086,
          1.653796509478148,
          1.3004466349037027,
          0.8970175091249986,
          0.4567228944561498,
          0,
          0,
          0,
          0,
          0,
          0,
          0,
          0,
          0,
          0,
          0,
          0,
          0,
          0,
          0,
          0,
          0,
          0,
          0,
          0,
          0,
          0,
          0,
          0,
          0,
          0,
          0,
          0,
          0,
          0,
          0,
          0,
          0,
          0,
          0
         ],
         "yaxis": "y"
        },
        {
         "hovertemplate": "variable=sex^2<br>alphas=%{x}<br>value=%{y}<extra></extra>",
         "legendgroup": "sex^2",
         "line": {
          "color": "#EF553B",
          "dash": "solid"
         },
         "mode": "lines",
         "name": "sex^2",
         "showlegend": true,
         "type": "scattergl",
         "x": [
          0.1,
          0.10913767146512733,
          0.11911031332830067,
          0.12999422244132455,
          0.14187266741165966,
          0.15483652565854988,
          0.16898497868124573,
          0.18442627085855348,
          0.20127853758499395,
          0.2196707090793235,
          0.23974349678010773,
          0.2616504698748821,
          0.28555923019901075,
          0.311652694492943,
          0.3401304938279252,
          0.3712105009066362,
          0.4051304969235381,
          0.44214999073744876,
          0.48255220427412776,
          0.5266462393484278,
          0.5747694424835352,
          0.6272899858196247,
          0.6846096838574658,
          0.7471670675868078,
          0.8154407395185161,
          0.8899530352885231,
          0.971274019847117,
          1.0600258488068823,
          1.1568875283162827,
          1.2626001098748565,
          1.3779723598335576,
          1.5038869469554101,
          1.6413071953751293,
          1.791284454622004,
          1.9549661430912606,
          2.133604526501411,
          2.3285662984981954,
          2.5413430367026364,
          2.773562614198415,
          3.027001653763463,
          3.3035991201283395,
          3.605471154250504,
          3.934927263095849,
          4.294487988789275,
          4.686904192314192,
          5.115178099293143,
          5.582586268862695,
          6.0927046613686775,
          6.649435996665045,
          7.257039612324216,
          7.920164050192553,
          8.643882620598271,
          9.433732216299779,
          10.295755673125127,
          11.236548001387515,
          12.26330684177563,
          13.383887531737578,
          14.606863203649889,
          15.941590374559995,
          17.39828052930364,
          18.988078244652634,
          20.723146452190296,
          22.616759492228645,
          24.683404670686485,
          26.938893095901726,
          29.400480643347105,
          32.0869999737045,
          35.019004614317126,
          38.21892620633119,
          41.71124612056521,
          45.5226827550731,
          49.68239594734388,
          54.222210065015865,
          59.17685748188825,
          64.58424430196978,
          70.48574036451903,
          76.92649574879147,
          83.95578619995112,
          91.62739011886741,
          100
         ],
         "xaxis": "x",
         "y": [
          -11.35686513267101,
          -11.258056968758046,
          -11.074891816661367,
          -10.875022515918678,
          -10.700085237089588,
          -10.48228823336063,
          -10.334573919299233,
          -10.045408965913643,
          -9.886047094924823,
          -9.673599057698501,
          -9.449359078877519,
          -9.334754210852251,
          -9.22850419122003,
          -8.99084780412153,
          -8.809458894379864,
          -8.653835589227558,
          -8.475223936480292,
          -8.364939929685205,
          -8.27234637010407,
          -8.195319714030113,
          -8.124885666906547,
          -8.060131723657994,
          -7.956209832381994,
          -7.842690322580005,
          -7.710813993592409,
          -7.619014606262261,
          -7.508778865877981,
          -7.353965067662458,
          -7.209832567712144,
          -6.954920459634547,
          -6.670083306424581,
          -6.340545918117629,
          -6.038006984530303,
          -5.724112673053003,
          -5.386149447476307,
          -4.998121920180491,
          -4.600747764397016,
          -4.182760946003419,
          -3.7739768325588114,
          -3.438693146600833,
          -3.0681415827459153,
          -2.610751566795891,
          -2.1685213201595075,
          -1.6988334212115044,
          -1.1714363427107808,
          -0.5995630119163884,
          0,
          0,
          0,
          0,
          0,
          0,
          0,
          0,
          0,
          0,
          0,
          0,
          0,
          0,
          0,
          0,
          0,
          0,
          0,
          0,
          0,
          0,
          0,
          0,
          0,
          0,
          0,
          0,
          0,
          0,
          0,
          0,
          0,
          0
         ],
         "yaxis": "y"
        },
        {
         "hovertemplate": "variable=bmi^2<br>alphas=%{x}<br>value=%{y}<extra></extra>",
         "legendgroup": "bmi^2",
         "line": {
          "color": "#00cc96",
          "dash": "solid"
         },
         "mode": "lines",
         "name": "bmi^2",
         "showlegend": true,
         "type": "scattergl",
         "x": [
          0.1,
          0.10913767146512733,
          0.11911031332830067,
          0.12999422244132455,
          0.14187266741165966,
          0.15483652565854988,
          0.16898497868124573,
          0.18442627085855348,
          0.20127853758499395,
          0.2196707090793235,
          0.23974349678010773,
          0.2616504698748821,
          0.28555923019901075,
          0.311652694492943,
          0.3401304938279252,
          0.3712105009066362,
          0.4051304969235381,
          0.44214999073744876,
          0.48255220427412776,
          0.5266462393484278,
          0.5747694424835352,
          0.6272899858196247,
          0.6846096838574658,
          0.7471670675868078,
          0.8154407395185161,
          0.8899530352885231,
          0.971274019847117,
          1.0600258488068823,
          1.1568875283162827,
          1.2626001098748565,
          1.3779723598335576,
          1.5038869469554101,
          1.6413071953751293,
          1.791284454622004,
          1.9549661430912606,
          2.133604526501411,
          2.3285662984981954,
          2.5413430367026364,
          2.773562614198415,
          3.027001653763463,
          3.3035991201283395,
          3.605471154250504,
          3.934927263095849,
          4.294487988789275,
          4.686904192314192,
          5.115178099293143,
          5.582586268862695,
          6.0927046613686775,
          6.649435996665045,
          7.257039612324216,
          7.920164050192553,
          8.643882620598271,
          9.433732216299779,
          10.295755673125127,
          11.236548001387515,
          12.26330684177563,
          13.383887531737578,
          14.606863203649889,
          15.941590374559995,
          17.39828052930364,
          18.988078244652634,
          20.723146452190296,
          22.616759492228645,
          24.683404670686485,
          26.938893095901726,
          29.400480643347105,
          32.0869999737045,
          35.019004614317126,
          38.21892620633119,
          41.71124612056521,
          45.5226827550731,
          49.68239594734388,
          54.222210065015865,
          59.17685748188825,
          64.58424430196978,
          70.48574036451903,
          76.92649574879147,
          83.95578619995112,
          91.62739011886741,
          100
         ],
         "xaxis": "x",
         "y": [
          4.153248996563455,
          4.159386253414011,
          4.165162825541534,
          4.171279690278582,
          4.177969077642347,
          4.177436467545659,
          4.184831784121719,
          4.192588925687117,
          4.2008614743261985,
          4.207204373623037,
          4.21424657132895,
          4.2221023376222355,
          4.230931503761578,
          4.241831560979842,
          4.253596853015486,
          4.266422138046224,
          4.2802545382863375,
          4.28958820429545,
          4.296569928102071,
          4.311852939180629,
          4.336831942862747,
          4.364719373811569,
          4.394880702851962,
          4.427751101131643,
          4.452529102831477,
          4.443573344900572,
          4.43283483707639,
          4.417833933263054,
          4.4066052186604185,
          4.38492339353001,
          4.339294916297979,
          4.333314083616431,
          4.339811318746016,
          4.341194842652429,
          4.253520223188868,
          4.141821117375688,
          4.019451568410223,
          3.885664867387534,
          3.752122266452433,
          3.6253379321515182,
          3.4869011827952066,
          3.3275689185358965,
          3.1446611531270645,
          2.902937924758647,
          2.6391336380324444,
          2.3495592700801207,
          1.9930690944942264,
          1.5971294075304354,
          1.128521395783145,
          0.616851878219171,
          0.05864563476630152,
          0,
          0,
          0,
          0,
          0,
          0,
          0,
          0,
          0,
          0,
          0,
          0,
          0,
          0,
          0,
          0,
          0,
          0,
          0,
          0,
          0,
          0,
          0,
          0,
          0,
          0,
          0,
          0,
          0
         ],
         "yaxis": "y"
        },
        {
         "hovertemplate": "variable=bp^2<br>alphas=%{x}<br>value=%{y}<extra></extra>",
         "legendgroup": "bp^2",
         "line": {
          "color": "#ab63fa",
          "dash": "solid"
         },
         "mode": "lines",
         "name": "bp^2",
         "showlegend": true,
         "type": "scattergl",
         "x": [
          0.1,
          0.10913767146512733,
          0.11911031332830067,
          0.12999422244132455,
          0.14187266741165966,
          0.15483652565854988,
          0.16898497868124573,
          0.18442627085855348,
          0.20127853758499395,
          0.2196707090793235,
          0.23974349678010773,
          0.2616504698748821,
          0.28555923019901075,
          0.311652694492943,
          0.3401304938279252,
          0.3712105009066362,
          0.4051304969235381,
          0.44214999073744876,
          0.48255220427412776,
          0.5266462393484278,
          0.5747694424835352,
          0.6272899858196247,
          0.6846096838574658,
          0.7471670675868078,
          0.8154407395185161,
          0.8899530352885231,
          0.971274019847117,
          1.0600258488068823,
          1.1568875283162827,
          1.2626001098748565,
          1.3779723598335576,
          1.5038869469554101,
          1.6413071953751293,
          1.791284454622004,
          1.9549661430912606,
          2.133604526501411,
          2.3285662984981954,
          2.5413430367026364,
          2.773562614198415,
          3.027001653763463,
          3.3035991201283395,
          3.605471154250504,
          3.934927263095849,
          4.294487988789275,
          4.686904192314192,
          5.115178099293143,
          5.582586268862695,
          6.0927046613686775,
          6.649435996665045,
          7.257039612324216,
          7.920164050192553,
          8.643882620598271,
          9.433732216299779,
          10.295755673125127,
          11.236548001387515,
          12.26330684177563,
          13.383887531737578,
          14.606863203649889,
          15.941590374559995,
          17.39828052930364,
          18.988078244652634,
          20.723146452190296,
          22.616759492228645,
          24.683404670686485,
          26.938893095901726,
          29.400480643347105,
          32.0869999737045,
          35.019004614317126,
          38.21892620633119,
          41.71124612056521,
          45.5226827550731,
          49.68239594734388,
          54.222210065015865,
          59.17685748188825,
          64.58424430196978,
          70.48574036451903,
          76.92649574879147,
          83.95578619995112,
          91.62739011886741,
          100
         ],
         "xaxis": "x",
         "y": [
          1.1107313007161572,
          1.1194657354244095,
          1.1248288426641266,
          1.1289174606292338,
          1.1333968347626184,
          1.137550787061739,
          1.142627861048861,
          1.148251120825479,
          1.15383416530995,
          1.1543566917294672,
          1.1549275856733836,
          1.1555769281588113,
          1.1563051009453273,
          1.161198950416581,
          1.1685834085440336,
          1.1766358117494706,
          1.1822435508883766,
          1.1745933055690094,
          1.1627609952872904,
          1.1495233605592343,
          1.1329947540334486,
          1.1151349201812482,
          1.0956148130128631,
          1.074300273607856,
          1.0501509016863297,
          1.0200171943205194,
          0.98703140484588,
          0.950997004522926,
          0.9109767518109343,
          0.864762328075108,
          0.8172027420491781,
          0.7657767651519933,
          0.7086343834645369,
          0.645522758619118,
          0.5757210999696812,
          0.5011855909695747,
          0.4202714832517125,
          0.3317863963579593,
          0.24234270557082369,
          0.15208269253523785,
          0.05346367113234433,
          0,
          0,
          0,
          0,
          0,
          0,
          0,
          0,
          0,
          0,
          0,
          0,
          0,
          0,
          0,
          0,
          0,
          0,
          0,
          0,
          0,
          0,
          0,
          0,
          0,
          0,
          0,
          0,
          0,
          0,
          0,
          0,
          0,
          0,
          0,
          0,
          0,
          0,
          0
         ],
         "yaxis": "y"
        },
        {
         "hovertemplate": "variable=s1^2<br>alphas=%{x}<br>value=%{y}<extra></extra>",
         "legendgroup": "s1^2",
         "line": {
          "color": "#FFA15A",
          "dash": "solid"
         },
         "mode": "lines",
         "name": "s1^2",
         "showlegend": true,
         "type": "scattergl",
         "x": [
          0.1,
          0.10913767146512733,
          0.11911031332830067,
          0.12999422244132455,
          0.14187266741165966,
          0.15483652565854988,
          0.16898497868124573,
          0.18442627085855348,
          0.20127853758499395,
          0.2196707090793235,
          0.23974349678010773,
          0.2616504698748821,
          0.28555923019901075,
          0.311652694492943,
          0.3401304938279252,
          0.3712105009066362,
          0.4051304969235381,
          0.44214999073744876,
          0.48255220427412776,
          0.5266462393484278,
          0.5747694424835352,
          0.6272899858196247,
          0.6846096838574658,
          0.7471670675868078,
          0.8154407395185161,
          0.8899530352885231,
          0.971274019847117,
          1.0600258488068823,
          1.1568875283162827,
          1.2626001098748565,
          1.3779723598335576,
          1.5038869469554101,
          1.6413071953751293,
          1.791284454622004,
          1.9549661430912606,
          2.133604526501411,
          2.3285662984981954,
          2.5413430367026364,
          2.773562614198415,
          3.027001653763463,
          3.3035991201283395,
          3.605471154250504,
          3.934927263095849,
          4.294487988789275,
          4.686904192314192,
          5.115178099293143,
          5.582586268862695,
          6.0927046613686775,
          6.649435996665045,
          7.257039612324216,
          7.920164050192553,
          8.643882620598271,
          9.433732216299779,
          10.295755673125127,
          11.236548001387515,
          12.26330684177563,
          13.383887531737578,
          14.606863203649889,
          15.941590374559995,
          17.39828052930364,
          18.988078244652634,
          20.723146452190296,
          22.616759492228645,
          24.683404670686485,
          26.938893095901726,
          29.400480643347105,
          32.0869999737045,
          35.019004614317126,
          38.21892620633119,
          41.71124612056521,
          45.5226827550731,
          49.68239594734388,
          54.222210065015865,
          59.17685748188825,
          64.58424430196978,
          70.48574036451903,
          76.92649574879147,
          83.95578619995112,
          91.62739011886741,
          100
         ],
         "xaxis": "x",
         "y": [
          2.742770375821469,
          2.63125163593149,
          2.5369395163623145,
          2.44166418123642,
          2.3379056041727875,
          2.2113288570159733,
          2.087009640026207,
          1.951065662632837,
          1.8031113316153735,
          1.6423417640418778,
          1.4672383213349696,
          1.2775448076965723,
          1.0706337267336798,
          0.8215889156577396,
          0.538388168526793,
          0.22972111444355064,
          0,
          0,
          0,
          0,
          0,
          0,
          0,
          0,
          0,
          0,
          0,
          0,
          0,
          0,
          0,
          0,
          0,
          0,
          0,
          0,
          0,
          0,
          0,
          0,
          0,
          0,
          0,
          0,
          0,
          0,
          0,
          0,
          0,
          0,
          0,
          0,
          0,
          0,
          0,
          0,
          0,
          0,
          0,
          0,
          0,
          0,
          0,
          0,
          0,
          0,
          0,
          0,
          0,
          0,
          0,
          0,
          0,
          0,
          0,
          0,
          0,
          0,
          0,
          0
         ],
         "yaxis": "y"
        },
        {
         "hovertemplate": "variable=s2^2<br>alphas=%{x}<br>value=%{y}<extra></extra>",
         "legendgroup": "s2^2",
         "line": {
          "color": "#19d3f3",
          "dash": "solid"
         },
         "mode": "lines",
         "name": "s2^2",
         "showlegend": true,
         "type": "scattergl",
         "x": [
          0.1,
          0.10913767146512733,
          0.11911031332830067,
          0.12999422244132455,
          0.14187266741165966,
          0.15483652565854988,
          0.16898497868124573,
          0.18442627085855348,
          0.20127853758499395,
          0.2196707090793235,
          0.23974349678010773,
          0.2616504698748821,
          0.28555923019901075,
          0.311652694492943,
          0.3401304938279252,
          0.3712105009066362,
          0.4051304969235381,
          0.44214999073744876,
          0.48255220427412776,
          0.5266462393484278,
          0.5747694424835352,
          0.6272899858196247,
          0.6846096838574658,
          0.7471670675868078,
          0.8154407395185161,
          0.8899530352885231,
          0.971274019847117,
          1.0600258488068823,
          1.1568875283162827,
          1.2626001098748565,
          1.3779723598335576,
          1.5038869469554101,
          1.6413071953751293,
          1.791284454622004,
          1.9549661430912606,
          2.133604526501411,
          2.3285662984981954,
          2.5413430367026364,
          2.773562614198415,
          3.027001653763463,
          3.3035991201283395,
          3.605471154250504,
          3.934927263095849,
          4.294487988789275,
          4.686904192314192,
          5.115178099293143,
          5.582586268862695,
          6.0927046613686775,
          6.649435996665045,
          7.257039612324216,
          7.920164050192553,
          8.643882620598271,
          9.433732216299779,
          10.295755673125127,
          11.236548001387515,
          12.26330684177563,
          13.383887531737578,
          14.606863203649889,
          15.941590374559995,
          17.39828052930364,
          18.988078244652634,
          20.723146452190296,
          22.616759492228645,
          24.683404670686485,
          26.938893095901726,
          29.400480643347105,
          32.0869999737045,
          35.019004614317126,
          38.21892620633119,
          41.71124612056521,
          45.5226827550731,
          49.68239594734388,
          54.222210065015865,
          59.17685748188825,
          64.58424430196978,
          70.48574036451903,
          76.92649574879147,
          83.95578619995112,
          91.62739011886741,
          100
         ],
         "xaxis": "x",
         "y": [
          -3.5715001667706736,
          -3.4281049649619284,
          -3.3062305073107643,
          -3.1860344056789605,
          -3.0548895421903564,
          -2.9056137756657527,
          -2.7494201836722465,
          -2.5793105012730364,
          -2.393970452773637,
          -2.1943269200752518,
          -1.9765752731053736,
          -1.7396979519078437,
          -1.4809294211027175,
          -1.1666878432378982,
          -0.8083205678797565,
          -0.41746506255049276,
          -0.09032511456591687,
          0,
          0,
          0,
          0,
          0,
          0,
          0,
          0,
          0,
          0,
          0,
          0,
          0,
          0,
          0,
          0,
          0,
          0,
          0,
          0,
          0,
          0,
          0,
          0,
          0,
          0,
          0,
          0,
          0,
          0,
          0,
          0,
          0,
          0,
          0,
          0,
          0,
          0,
          0,
          0,
          0,
          0,
          0,
          0,
          0,
          0,
          0,
          0,
          0,
          0,
          0,
          0,
          0,
          0,
          0,
          0,
          0,
          0,
          0,
          0,
          0,
          0,
          0
         ],
         "yaxis": "y"
        },
        {
         "hovertemplate": "variable=s3^2<br>alphas=%{x}<br>value=%{y}<extra></extra>",
         "legendgroup": "s3^2",
         "line": {
          "color": "#FF6692",
          "dash": "solid"
         },
         "mode": "lines",
         "name": "s3^2",
         "showlegend": true,
         "type": "scattergl",
         "x": [
          0.1,
          0.10913767146512733,
          0.11911031332830067,
          0.12999422244132455,
          0.14187266741165966,
          0.15483652565854988,
          0.16898497868124573,
          0.18442627085855348,
          0.20127853758499395,
          0.2196707090793235,
          0.23974349678010773,
          0.2616504698748821,
          0.28555923019901075,
          0.311652694492943,
          0.3401304938279252,
          0.3712105009066362,
          0.4051304969235381,
          0.44214999073744876,
          0.48255220427412776,
          0.5266462393484278,
          0.5747694424835352,
          0.6272899858196247,
          0.6846096838574658,
          0.7471670675868078,
          0.8154407395185161,
          0.8899530352885231,
          0.971274019847117,
          1.0600258488068823,
          1.1568875283162827,
          1.2626001098748565,
          1.3779723598335576,
          1.5038869469554101,
          1.6413071953751293,
          1.791284454622004,
          1.9549661430912606,
          2.133604526501411,
          2.3285662984981954,
          2.5413430367026364,
          2.773562614198415,
          3.027001653763463,
          3.3035991201283395,
          3.605471154250504,
          3.934927263095849,
          4.294487988789275,
          4.686904192314192,
          5.115178099293143,
          5.582586268862695,
          6.0927046613686775,
          6.649435996665045,
          7.257039612324216,
          7.920164050192553,
          8.643882620598271,
          9.433732216299779,
          10.295755673125127,
          11.236548001387515,
          12.26330684177563,
          13.383887531737578,
          14.606863203649889,
          15.941590374559995,
          17.39828052930364,
          18.988078244652634,
          20.723146452190296,
          22.616759492228645,
          24.683404670686485,
          26.938893095901726,
          29.400480643347105,
          32.0869999737045,
          35.019004614317126,
          38.21892620633119,
          41.71124612056521,
          45.5226827550731,
          49.68239594734388,
          54.222210065015865,
          59.17685748188825,
          64.58424430196978,
          70.48574036451903,
          76.92649574879147,
          83.95578619995112,
          91.62739011886741,
          100
         ],
         "xaxis": "x",
         "y": [
          -0.2500214317100623,
          -0.054517433224201044,
          0,
          0,
          0,
          0,
          0,
          0,
          0,
          0,
          0,
          0,
          0,
          0.1424273337056182,
          0.3720987831421569,
          0.6221617288942839,
          0.8735176072044111,
          0.97020680756339,
          0.9652948525493045,
          0.8912011260737602,
          0.8057049221679429,
          0.7120060254583855,
          0.6103634529702625,
          0.4995306846488502,
          0.3898548541765464,
          0.2982863748658168,
          0.1984184030930558,
          0.08908338845947375,
          0,
          0,
          0,
          0,
          0,
          0,
          0,
          0,
          0,
          0,
          0,
          0,
          0,
          0,
          0,
          0,
          0,
          0,
          0,
          0,
          0,
          0,
          0,
          0,
          0,
          0,
          0,
          0,
          0,
          0,
          0,
          0,
          0,
          0,
          0,
          0,
          0,
          0,
          0,
          0,
          0,
          0,
          0,
          0,
          0,
          0,
          0,
          0,
          0,
          0,
          0,
          0
         ],
         "yaxis": "y"
        },
        {
         "hovertemplate": "variable=s4^2<br>alphas=%{x}<br>value=%{y}<extra></extra>",
         "legendgroup": "s4^2",
         "line": {
          "color": "#B6E880",
          "dash": "solid"
         },
         "mode": "lines",
         "name": "s4^2",
         "showlegend": true,
         "type": "scattergl",
         "x": [
          0.1,
          0.10913767146512733,
          0.11911031332830067,
          0.12999422244132455,
          0.14187266741165966,
          0.15483652565854988,
          0.16898497868124573,
          0.18442627085855348,
          0.20127853758499395,
          0.2196707090793235,
          0.23974349678010773,
          0.2616504698748821,
          0.28555923019901075,
          0.311652694492943,
          0.3401304938279252,
          0.3712105009066362,
          0.4051304969235381,
          0.44214999073744876,
          0.48255220427412776,
          0.5266462393484278,
          0.5747694424835352,
          0.6272899858196247,
          0.6846096838574658,
          0.7471670675868078,
          0.8154407395185161,
          0.8899530352885231,
          0.971274019847117,
          1.0600258488068823,
          1.1568875283162827,
          1.2626001098748565,
          1.3779723598335576,
          1.5038869469554101,
          1.6413071953751293,
          1.791284454622004,
          1.9549661430912606,
          2.133604526501411,
          2.3285662984981954,
          2.5413430367026364,
          2.773562614198415,
          3.027001653763463,
          3.3035991201283395,
          3.605471154250504,
          3.934927263095849,
          4.294487988789275,
          4.686904192314192,
          5.115178099293143,
          5.582586268862695,
          6.0927046613686775,
          6.649435996665045,
          7.257039612324216,
          7.920164050192553,
          8.643882620598271,
          9.433732216299779,
          10.295755673125127,
          11.236548001387515,
          12.26330684177563,
          13.383887531737578,
          14.606863203649889,
          15.941590374559995,
          17.39828052930364,
          18.988078244652634,
          20.723146452190296,
          22.616759492228645,
          24.683404670686485,
          26.938893095901726,
          29.400480643347105,
          32.0869999737045,
          35.019004614317126,
          38.21892620633119,
          41.71124612056521,
          45.5226827550731,
          49.68239594734388,
          54.222210065015865,
          59.17685748188825,
          64.58424430196978,
          70.48574036451903,
          76.92649574879147,
          83.95578619995112,
          91.62739011886741,
          100
         ],
         "xaxis": "x",
         "y": [
          3.0199380422679836,
          2.9497457449427036,
          2.898376309812167,
          2.8606667007868256,
          2.8188977516453706,
          2.77553571541464,
          2.7274747599170674,
          2.6740876648054743,
          2.6160460208868868,
          2.5530561414199457,
          2.4839816712705445,
          2.406255684548281,
          2.321301720639948,
          2.199503115404816,
          2.051754668257311,
          1.8899266930630167,
          1.7261932394032393,
          1.61872229196481,
          1.5685226822109877,
          1.4516537485524552,
          1.3357514668267076,
          1.210469250991521,
          1.0732522829228552,
          0.9233079211650039,
          0.7739575456862393,
          0.6562086681471347,
          0.5278640687125727,
          0.38757141485031005,
          0.21959171291828025,
          0,
          0,
          0,
          0,
          0,
          0,
          0,
          0,
          0,
          0,
          0,
          0,
          0,
          0,
          0,
          0,
          0,
          0,
          0,
          0,
          0,
          0,
          0,
          0,
          0,
          0,
          0,
          0,
          0,
          0,
          0,
          0,
          0,
          0,
          0,
          0,
          0,
          0,
          0,
          0,
          0,
          0,
          0,
          0,
          0,
          0,
          0,
          0,
          0,
          0,
          0
         ],
         "yaxis": "y"
        },
        {
         "hovertemplate": "variable=s5^2<br>alphas=%{x}<br>value=%{y}<extra></extra>",
         "legendgroup": "s5^2",
         "line": {
          "color": "#FF97FF",
          "dash": "solid"
         },
         "mode": "lines",
         "name": "s5^2",
         "showlegend": true,
         "type": "scattergl",
         "x": [
          0.1,
          0.10913767146512733,
          0.11911031332830067,
          0.12999422244132455,
          0.14187266741165966,
          0.15483652565854988,
          0.16898497868124573,
          0.18442627085855348,
          0.20127853758499395,
          0.2196707090793235,
          0.23974349678010773,
          0.2616504698748821,
          0.28555923019901075,
          0.311652694492943,
          0.3401304938279252,
          0.3712105009066362,
          0.4051304969235381,
          0.44214999073744876,
          0.48255220427412776,
          0.5266462393484278,
          0.5747694424835352,
          0.6272899858196247,
          0.6846096838574658,
          0.7471670675868078,
          0.8154407395185161,
          0.8899530352885231,
          0.971274019847117,
          1.0600258488068823,
          1.1568875283162827,
          1.2626001098748565,
          1.3779723598335576,
          1.5038869469554101,
          1.6413071953751293,
          1.791284454622004,
          1.9549661430912606,
          2.133604526501411,
          2.3285662984981954,
          2.5413430367026364,
          2.773562614198415,
          3.027001653763463,
          3.3035991201283395,
          3.605471154250504,
          3.934927263095849,
          4.294487988789275,
          4.686904192314192,
          5.115178099293143,
          5.582586268862695,
          6.0927046613686775,
          6.649435996665045,
          7.257039612324216,
          7.920164050192553,
          8.643882620598271,
          9.433732216299779,
          10.295755673125127,
          11.236548001387515,
          12.26330684177563,
          13.383887531737578,
          14.606863203649889,
          15.941590374559995,
          17.39828052930364,
          18.988078244652634,
          20.723146452190296,
          22.616759492228645,
          24.683404670686485,
          26.938893095901726,
          29.400480643347105,
          32.0869999737045,
          35.019004614317126,
          38.21892620633119,
          41.71124612056521,
          45.5226827550731,
          49.68239594734388,
          54.222210065015865,
          59.17685748188825,
          64.58424430196978,
          70.48574036451903,
          76.92649574879147,
          83.95578619995112,
          91.62739011886741,
          100
         ],
         "xaxis": "x",
         "y": [
          -2.41005174765589,
          -2.344338657626199,
          -2.200002534846269,
          -2.1291433699276068,
          -2.0467312149813077,
          -1.0993908639826964,
          -1.0528790643759567,
          -1.00227653631439,
          -0.9469736252792187,
          -0.8850042079656487,
          -0.817425672025582,
          -0.7439550487148262,
          -0.6635901968472502,
          -0.5688534210184405,
          -0.46185182739922026,
          -0.34511666332771246,
          -0.2327150204766503,
          -0.14726627477905951,
          -0.05657051072154663,
          0,
          0,
          0,
          0,
          0,
          0,
          0,
          0,
          0,
          0,
          0,
          0,
          0,
          0,
          0,
          0,
          0,
          0,
          0,
          0,
          0,
          0,
          0,
          0,
          0,
          0,
          0,
          0,
          0,
          0,
          0,
          0,
          0,
          0,
          0,
          0,
          0,
          0,
          0,
          0,
          0,
          0,
          0,
          0,
          0,
          0,
          0,
          0,
          0,
          0,
          0,
          0,
          0,
          0,
          0,
          0,
          0,
          0,
          0,
          0,
          0
         ],
         "yaxis": "y"
        },
        {
         "hovertemplate": "variable=s6^2<br>alphas=%{x}<br>value=%{y}<extra></extra>",
         "legendgroup": "s6^2",
         "line": {
          "color": "#FECB52",
          "dash": "solid"
         },
         "mode": "lines",
         "name": "s6^2",
         "showlegend": true,
         "type": "scattergl",
         "x": [
          0.1,
          0.10913767146512733,
          0.11911031332830067,
          0.12999422244132455,
          0.14187266741165966,
          0.15483652565854988,
          0.16898497868124573,
          0.18442627085855348,
          0.20127853758499395,
          0.2196707090793235,
          0.23974349678010773,
          0.2616504698748821,
          0.28555923019901075,
          0.311652694492943,
          0.3401304938279252,
          0.3712105009066362,
          0.4051304969235381,
          0.44214999073744876,
          0.48255220427412776,
          0.5266462393484278,
          0.5747694424835352,
          0.6272899858196247,
          0.6846096838574658,
          0.7471670675868078,
          0.8154407395185161,
          0.8899530352885231,
          0.971274019847117,
          1.0600258488068823,
          1.1568875283162827,
          1.2626001098748565,
          1.3779723598335576,
          1.5038869469554101,
          1.6413071953751293,
          1.791284454622004,
          1.9549661430912606,
          2.133604526501411,
          2.3285662984981954,
          2.5413430367026364,
          2.773562614198415,
          3.027001653763463,
          3.3035991201283395,
          3.605471154250504,
          3.934927263095849,
          4.294487988789275,
          4.686904192314192,
          5.115178099293143,
          5.582586268862695,
          6.0927046613686775,
          6.649435996665045,
          7.257039612324216,
          7.920164050192553,
          8.643882620598271,
          9.433732216299779,
          10.295755673125127,
          11.236548001387515,
          12.26330684177563,
          13.383887531737578,
          14.606863203649889,
          15.941590374559995,
          17.39828052930364,
          18.988078244652634,
          20.723146452190296,
          22.616759492228645,
          24.683404670686485,
          26.938893095901726,
          29.400480643347105,
          32.0869999737045,
          35.019004614317126,
          38.21892620633119,
          41.71124612056521,
          45.5226827550731,
          49.68239594734388,
          54.222210065015865,
          59.17685748188825,
          64.58424430196978,
          70.48574036451903,
          76.92649574879147,
          83.95578619995112,
          91.62739011886741,
          100
         ],
         "xaxis": "x",
         "y": [
          7.096604753381088,
          7.076528208969134,
          7.052262260169214,
          7.025990679387771,
          6.997250963621637,
          6.963443761452415,
          6.92969723648948,
          6.892898119891749,
          6.854414240301507,
          6.828963006996322,
          6.801156133835671,
          6.770709653710604,
          6.73741341584055,
          6.701945951707622,
          6.663850973279383,
          6.622236808110357,
          6.577270703075648,
          6.531494238392783,
          6.481326589710529,
          6.4264871933991765,
          6.373287167790853,
          6.315131019710045,
          6.251781443766287,
          6.182662960671147,
          6.113221766614803,
          6.055693198012251,
          5.992934196227471,
          5.9247043495771115,
          5.851482680014652,
          5.776343266955643,
          5.671938556132524,
          5.551189158639039,
          5.420004497708865,
          5.276883287313165,
          5.124809824492357,
          4.9601641096116245,
          4.780518636053206,
          4.584444256468916,
          4.388115179595804,
          4.202966023920726,
          4.000899615084488,
          3.775255287216005,
          3.4989694331573733,
          3.200352105482922,
          2.874448766740081,
          2.5192509153728198,
          2.1411312557991296,
          1.7250922344276447,
          1.25299704155451,
          0.7377302412684871,
          0.17540977498968627,
          0,
          0,
          0,
          0,
          0,
          0,
          0,
          0,
          0,
          0,
          0,
          0,
          0,
          0,
          0,
          0,
          0,
          0,
          0,
          0,
          0,
          0,
          0,
          0,
          0,
          0,
          0,
          0,
          0
         ],
         "yaxis": "y"
        },
        {
         "hovertemplate": "variable=age^3<br>alphas=%{x}<br>value=%{y}<extra></extra>",
         "legendgroup": "age^3",
         "line": {
          "color": "#636efa",
          "dash": "solid"
         },
         "mode": "lines",
         "name": "age^3",
         "showlegend": true,
         "type": "scattergl",
         "x": [
          0.1,
          0.10913767146512733,
          0.11911031332830067,
          0.12999422244132455,
          0.14187266741165966,
          0.15483652565854988,
          0.16898497868124573,
          0.18442627085855348,
          0.20127853758499395,
          0.2196707090793235,
          0.23974349678010773,
          0.2616504698748821,
          0.28555923019901075,
          0.311652694492943,
          0.3401304938279252,
          0.3712105009066362,
          0.4051304969235381,
          0.44214999073744876,
          0.48255220427412776,
          0.5266462393484278,
          0.5747694424835352,
          0.6272899858196247,
          0.6846096838574658,
          0.7471670675868078,
          0.8154407395185161,
          0.8899530352885231,
          0.971274019847117,
          1.0600258488068823,
          1.1568875283162827,
          1.2626001098748565,
          1.3779723598335576,
          1.5038869469554101,
          1.6413071953751293,
          1.791284454622004,
          1.9549661430912606,
          2.133604526501411,
          2.3285662984981954,
          2.5413430367026364,
          2.773562614198415,
          3.027001653763463,
          3.3035991201283395,
          3.605471154250504,
          3.934927263095849,
          4.294487988789275,
          4.686904192314192,
          5.115178099293143,
          5.582586268862695,
          6.0927046613686775,
          6.649435996665045,
          7.257039612324216,
          7.920164050192553,
          8.643882620598271,
          9.433732216299779,
          10.295755673125127,
          11.236548001387515,
          12.26330684177563,
          13.383887531737578,
          14.606863203649889,
          15.941590374559995,
          17.39828052930364,
          18.988078244652634,
          20.723146452190296,
          22.616759492228645,
          24.683404670686485,
          26.938893095901726,
          29.400480643347105,
          32.0869999737045,
          35.019004614317126,
          38.21892620633119,
          41.71124612056521,
          45.5226827550731,
          49.68239594734388,
          54.222210065015865,
          59.17685748188825,
          64.58424430196978,
          70.48574036451903,
          76.92649574879147,
          83.95578619995112,
          91.62739011886741,
          100
         ],
         "xaxis": "x",
         "y": [
          -10.297577358448164,
          -10.195995762839733,
          -10.093060029919535,
          -9.982893733668437,
          -9.862709026262468,
          -9.733069920285116,
          -9.589244731790021,
          -9.432624849410782,
          -9.262958080430023,
          -9.088379334827804,
          -8.898048912616744,
          -8.691313794400465,
          -8.465276886277756,
          -8.211146755768022,
          -7.9303095440338,
          -7.623924893979675,
          -7.297614938114658,
          -6.965085692578011,
          -6.607509938548292,
          -6.242711893141484,
          -5.854961007561389,
          -5.430521792636752,
          -4.968951588006398,
          -4.465496349047667,
          -3.9373309031168016,
          -3.410235844076992,
          -2.8342982424364433,
          -2.203494351431432,
          -1.5216237457785102,
          -0.7734696468633779,
          0,
          0,
          0,
          0,
          0,
          0,
          0,
          0,
          0,
          0,
          0,
          0,
          0,
          0,
          0,
          0,
          0,
          0,
          0,
          0,
          0,
          0,
          0,
          0,
          0,
          0,
          0,
          0,
          0,
          0,
          0,
          0,
          0,
          0,
          0,
          0,
          0,
          0,
          0,
          0,
          0,
          0,
          0,
          0,
          0,
          0,
          0,
          0,
          0,
          0
         ],
         "yaxis": "y"
        },
        {
         "hovertemplate": "variable=sex^3<br>alphas=%{x}<br>value=%{y}<extra></extra>",
         "legendgroup": "sex^3",
         "line": {
          "color": "#EF553B",
          "dash": "solid"
         },
         "mode": "lines",
         "name": "sex^3",
         "showlegend": true,
         "type": "scattergl",
         "x": [
          0.1,
          0.10913767146512733,
          0.11911031332830067,
          0.12999422244132455,
          0.14187266741165966,
          0.15483652565854988,
          0.16898497868124573,
          0.18442627085855348,
          0.20127853758499395,
          0.2196707090793235,
          0.23974349678010773,
          0.2616504698748821,
          0.28555923019901075,
          0.311652694492943,
          0.3401304938279252,
          0.3712105009066362,
          0.4051304969235381,
          0.44214999073744876,
          0.48255220427412776,
          0.5266462393484278,
          0.5747694424835352,
          0.6272899858196247,
          0.6846096838574658,
          0.7471670675868078,
          0.8154407395185161,
          0.8899530352885231,
          0.971274019847117,
          1.0600258488068823,
          1.1568875283162827,
          1.2626001098748565,
          1.3779723598335576,
          1.5038869469554101,
          1.6413071953751293,
          1.791284454622004,
          1.9549661430912606,
          2.133604526501411,
          2.3285662984981954,
          2.5413430367026364,
          2.773562614198415,
          3.027001653763463,
          3.3035991201283395,
          3.605471154250504,
          3.934927263095849,
          4.294487988789275,
          4.686904192314192,
          5.115178099293143,
          5.582586268862695,
          6.0927046613686775,
          6.649435996665045,
          7.257039612324216,
          7.920164050192553,
          8.643882620598271,
          9.433732216299779,
          10.295755673125127,
          11.236548001387515,
          12.26330684177563,
          13.383887531737578,
          14.606863203649889,
          15.941590374559995,
          17.39828052930364,
          18.988078244652634,
          20.723146452190296,
          22.616759492228645,
          24.683404670686485,
          26.938893095901726,
          29.400480643347105,
          32.0869999737045,
          35.019004614317126,
          38.21892620633119,
          41.71124612056521,
          45.5226827550731,
          49.68239594734388,
          54.222210065015865,
          59.17685748188825,
          64.58424430196978,
          70.48574036451903,
          76.92649574879147,
          83.95578619995112,
          91.62739011886741,
          100
         ],
         "xaxis": "x",
         "y": [
          -0.0930093771265133,
          -0.11640100443468863,
          -0.20245522018932097,
          -0.24617941325043408,
          -0.3123494522333239,
          -0.38401590642069444,
          -0.39916404929579163,
          -0.548474664965426,
          -0.5550353210505641,
          -0.6302702995149566,
          -0.7181958460625806,
          -0.7261544639130478,
          -0.7955312445164671,
          -0.8787130956779535,
          -0.8727237357482304,
          -0.8661969378426377,
          -0.9575915975180711,
          -0.9751960111157856,
          -1.0024892340025864,
          -1.0298458707666132,
          -1.0594493522900403,
          -1.0873585151238234,
          -1.111566366809293,
          -1.1488574000022187,
          -1.190524221445695,
          -1.2313144137217933,
          -1.2752452565933556,
          -1.3213080278002227,
          -1.3720229394581076,
          -1.4129252840494158,
          -1.45823630696958,
          -1.387388775726705,
          -1.3094177022605378,
          -1.239215196408321,
          -1.2096753015973527,
          -1.1837417067933533,
          -1.150595239523603,
          -1.1125797001428854,
          -1.0623138794746791,
          -1.005386208651295,
          -0.9432694389736004,
          -0.8716097261305247,
          -0.7895956070386233,
          -0.7023850119997088,
          -0.6220133883436133,
          -0.5434368911391477,
          -0.3925865663653692,
          0,
          0,
          0,
          0,
          0,
          0,
          0,
          0,
          0,
          0,
          0,
          0,
          0,
          0,
          0,
          0,
          0,
          0,
          0,
          0,
          0,
          0,
          0,
          0,
          0,
          0,
          0,
          0,
          0,
          0,
          0,
          0,
          0
         ],
         "yaxis": "y"
        },
        {
         "hovertemplate": "variable=bmi^3<br>alphas=%{x}<br>value=%{y}<extra></extra>",
         "legendgroup": "bmi^3",
         "line": {
          "color": "#00cc96",
          "dash": "solid"
         },
         "mode": "lines",
         "name": "bmi^3",
         "showlegend": true,
         "type": "scattergl",
         "x": [
          0.1,
          0.10913767146512733,
          0.11911031332830067,
          0.12999422244132455,
          0.14187266741165966,
          0.15483652565854988,
          0.16898497868124573,
          0.18442627085855348,
          0.20127853758499395,
          0.2196707090793235,
          0.23974349678010773,
          0.2616504698748821,
          0.28555923019901075,
          0.311652694492943,
          0.3401304938279252,
          0.3712105009066362,
          0.4051304969235381,
          0.44214999073744876,
          0.48255220427412776,
          0.5266462393484278,
          0.5747694424835352,
          0.6272899858196247,
          0.6846096838574658,
          0.7471670675868078,
          0.8154407395185161,
          0.8899530352885231,
          0.971274019847117,
          1.0600258488068823,
          1.1568875283162827,
          1.2626001098748565,
          1.3779723598335576,
          1.5038869469554101,
          1.6413071953751293,
          1.791284454622004,
          1.9549661430912606,
          2.133604526501411,
          2.3285662984981954,
          2.5413430367026364,
          2.773562614198415,
          3.027001653763463,
          3.3035991201283395,
          3.605471154250504,
          3.934927263095849,
          4.294487988789275,
          4.686904192314192,
          5.115178099293143,
          5.582586268862695,
          6.0927046613686775,
          6.649435996665045,
          7.257039612324216,
          7.920164050192553,
          8.643882620598271,
          9.433732216299779,
          10.295755673125127,
          11.236548001387515,
          12.26330684177563,
          13.383887531737578,
          14.606863203649889,
          15.941590374559995,
          17.39828052930364,
          18.988078244652634,
          20.723146452190296,
          22.616759492228645,
          24.683404670686485,
          26.938893095901726,
          29.400480643347105,
          32.0869999737045,
          35.019004614317126,
          38.21892620633119,
          41.71124612056521,
          45.5226827550731,
          49.68239594734388,
          54.222210065015865,
          59.17685748188825,
          64.58424430196978,
          70.48574036451903,
          76.92649574879147,
          83.95578619995112,
          91.62739011886741,
          100
         ],
         "xaxis": "x",
         "y": [
          1.6752574015977217,
          1.6687167978339783,
          1.659927786651589,
          1.651391445630492,
          1.6419217866568412,
          1.6432564324215597,
          1.632843165661837,
          1.6218275810625598,
          1.6092495209059783,
          1.5920729549062367,
          1.5730335080077087,
          1.5512886642632187,
          1.5273370711980074,
          1.5008806078378503,
          1.4730334222485384,
          1.4424768806352721,
          1.4059109365271982,
          1.3650977850852613,
          1.328755284288725,
          1.2641869049211647,
          1.1827450301857643,
          1.0943446767703469,
          0.997671925838285,
          0.8920434678709714,
          0.7928215419232392,
          0.7350380739047643,
          0.6733620617562782,
          0.6100494189400749,
          0.5306000855235476,
          0.4498384700747761,
          0.3782407117410557,
          0.2747049870475225,
          0.152621001120188,
          0.02438798825094037,
          0,
          0,
          0,
          0,
          0,
          0,
          0,
          0,
          0,
          0,
          0,
          0,
          0,
          0,
          0,
          0,
          0,
          0,
          0,
          0,
          0,
          0,
          0,
          0,
          0,
          0,
          0,
          0,
          0,
          0,
          0,
          0,
          0,
          0,
          0,
          0,
          0,
          0,
          0,
          0,
          0,
          0,
          0,
          0,
          0,
          0
         ],
         "yaxis": "y"
        },
        {
         "hovertemplate": "variable=bp^3<br>alphas=%{x}<br>value=%{y}<extra></extra>",
         "legendgroup": "bp^3",
         "line": {
          "color": "#ab63fa",
          "dash": "solid"
         },
         "mode": "lines",
         "name": "bp^3",
         "showlegend": true,
         "type": "scattergl",
         "x": [
          0.1,
          0.10913767146512733,
          0.11911031332830067,
          0.12999422244132455,
          0.14187266741165966,
          0.15483652565854988,
          0.16898497868124573,
          0.18442627085855348,
          0.20127853758499395,
          0.2196707090793235,
          0.23974349678010773,
          0.2616504698748821,
          0.28555923019901075,
          0.311652694492943,
          0.3401304938279252,
          0.3712105009066362,
          0.4051304969235381,
          0.44214999073744876,
          0.48255220427412776,
          0.5266462393484278,
          0.5747694424835352,
          0.6272899858196247,
          0.6846096838574658,
          0.7471670675868078,
          0.8154407395185161,
          0.8899530352885231,
          0.971274019847117,
          1.0600258488068823,
          1.1568875283162827,
          1.2626001098748565,
          1.3779723598335576,
          1.5038869469554101,
          1.6413071953751293,
          1.791284454622004,
          1.9549661430912606,
          2.133604526501411,
          2.3285662984981954,
          2.5413430367026364,
          2.773562614198415,
          3.027001653763463,
          3.3035991201283395,
          3.605471154250504,
          3.934927263095849,
          4.294487988789275,
          4.686904192314192,
          5.115178099293143,
          5.582586268862695,
          6.0927046613686775,
          6.649435996665045,
          7.257039612324216,
          7.920164050192553,
          8.643882620598271,
          9.433732216299779,
          10.295755673125127,
          11.236548001387515,
          12.26330684177563,
          13.383887531737578,
          14.606863203649889,
          15.941590374559995,
          17.39828052930364,
          18.988078244652634,
          20.723146452190296,
          22.616759492228645,
          24.683404670686485,
          26.938893095901726,
          29.400480643347105,
          32.0869999737045,
          35.019004614317126,
          38.21892620633119,
          41.71124612056521,
          45.5226827550731,
          49.68239594734388,
          54.222210065015865,
          59.17685748188825,
          64.58424430196978,
          70.48574036451903,
          76.92649574879147,
          83.95578619995112,
          91.62739011886741,
          100
         ],
         "xaxis": "x",
         "y": [
          3.3870148112641076,
          3.3711012594629444,
          3.355387023569416,
          3.3392392497812615,
          3.321588647666264,
          3.3030798985525527,
          3.2824369907728,
          3.2599786241879634,
          3.2369560303202047,
          3.2266235388414892,
          3.215269149188273,
          3.2026183686666565,
          3.188721466754696,
          3.1712939778494103,
          3.1515789403312002,
          3.130075185536049,
          3.10751994654838,
          3.084510251064755,
          3.0575428297901017,
          3.0299727862760624,
          3.003150968284248,
          2.973647619061315,
          2.941096834715964,
          2.9054706639451875,
          2.8700223347111877,
          2.8492612651341513,
          2.827873878240308,
          2.806221329314958,
          2.7757939424797162,
          2.7413085099802252,
          2.702385143353332,
          2.7496619245934317,
          2.81100783857923,
          2.879717323883318,
          2.9538502528761947,
          3.0363776158207263,
          3.1228142580587646,
          3.2178533169822865,
          3.264920630167887,
          3.247384468912532,
          3.2287980773304477,
          3.184499063080861,
          3.1073483780000815,
          3.0127067914161074,
          2.9093868234005034,
          2.795190561406693,
          2.667171650438512,
          2.501776905803131,
          2.180729787993147,
          1.8313984666971133,
          1.4492004246815773,
          0.9514850430630347,
          0.38244733995954905,
          0,
          0,
          0,
          0,
          0,
          0,
          0,
          0,
          0,
          0,
          0,
          0,
          0,
          0,
          0,
          0,
          0,
          0,
          0,
          0,
          0,
          0,
          0,
          0,
          0,
          0,
          0
         ],
         "yaxis": "y"
        },
        {
         "hovertemplate": "variable=s1^3<br>alphas=%{x}<br>value=%{y}<extra></extra>",
         "legendgroup": "s1^3",
         "line": {
          "color": "#FFA15A",
          "dash": "solid"
         },
         "mode": "lines",
         "name": "s1^3",
         "showlegend": true,
         "type": "scattergl",
         "x": [
          0.1,
          0.10913767146512733,
          0.11911031332830067,
          0.12999422244132455,
          0.14187266741165966,
          0.15483652565854988,
          0.16898497868124573,
          0.18442627085855348,
          0.20127853758499395,
          0.2196707090793235,
          0.23974349678010773,
          0.2616504698748821,
          0.28555923019901075,
          0.311652694492943,
          0.3401304938279252,
          0.3712105009066362,
          0.4051304969235381,
          0.44214999073744876,
          0.48255220427412776,
          0.5266462393484278,
          0.5747694424835352,
          0.6272899858196247,
          0.6846096838574658,
          0.7471670675868078,
          0.8154407395185161,
          0.8899530352885231,
          0.971274019847117,
          1.0600258488068823,
          1.1568875283162827,
          1.2626001098748565,
          1.3779723598335576,
          1.5038869469554101,
          1.6413071953751293,
          1.791284454622004,
          1.9549661430912606,
          2.133604526501411,
          2.3285662984981954,
          2.5413430367026364,
          2.773562614198415,
          3.027001653763463,
          3.3035991201283395,
          3.605471154250504,
          3.934927263095849,
          4.294487988789275,
          4.686904192314192,
          5.115178099293143,
          5.582586268862695,
          6.0927046613686775,
          6.649435996665045,
          7.257039612324216,
          7.920164050192553,
          8.643882620598271,
          9.433732216299779,
          10.295755673125127,
          11.236548001387515,
          12.26330684177563,
          13.383887531737578,
          14.606863203649889,
          15.941590374559995,
          17.39828052930364,
          18.988078244652634,
          20.723146452190296,
          22.616759492228645,
          24.683404670686485,
          26.938893095901726,
          29.400480643347105,
          32.0869999737045,
          35.019004614317126,
          38.21892620633119,
          41.71124612056521,
          45.5226827550731,
          49.68239594734388,
          54.222210065015865,
          59.17685748188825,
          64.58424430196978,
          70.48574036451903,
          76.92649574879147,
          83.95578619995112,
          91.62739011886741,
          100
         ],
         "xaxis": "x",
         "y": [
          11.646085694243826,
          11.499187573993517,
          11.332007990770988,
          11.154713391503991,
          10.960683689366796,
          10.7505778474623,
          10.525953102757192,
          10.282327479970442,
          10.015284097234034,
          9.723505704408138,
          9.40452615602242,
          9.055516090021705,
          8.673706992536959,
          8.256876553687299,
          7.803013512329549,
          7.307403393177303,
          6.731921494288119,
          6.044503370415848,
          5.319798914067313,
          4.552357707423077,
          3.739984041429089,
          2.855990450815933,
          1.8937126018979036,
          0.8433766937761829,
          0,
          0,
          0,
          0,
          0,
          0,
          0,
          0,
          0,
          0,
          0,
          0,
          0,
          0,
          0,
          0,
          0,
          0,
          0,
          0,
          0,
          0,
          0,
          0,
          0,
          0,
          0,
          0,
          0,
          0,
          0,
          0,
          0,
          0,
          0,
          0,
          0,
          0,
          0,
          0,
          0,
          0,
          0,
          0,
          0,
          0,
          0,
          0,
          0,
          0,
          0,
          0,
          0,
          0,
          0,
          0
         ],
         "yaxis": "y"
        },
        {
         "hovertemplate": "variable=s2^3<br>alphas=%{x}<br>value=%{y}<extra></extra>",
         "legendgroup": "s2^3",
         "line": {
          "color": "#19d3f3",
          "dash": "solid"
         },
         "mode": "lines",
         "name": "s2^3",
         "showlegend": true,
         "type": "scattergl",
         "x": [
          0.1,
          0.10913767146512733,
          0.11911031332830067,
          0.12999422244132455,
          0.14187266741165966,
          0.15483652565854988,
          0.16898497868124573,
          0.18442627085855348,
          0.20127853758499395,
          0.2196707090793235,
          0.23974349678010773,
          0.2616504698748821,
          0.28555923019901075,
          0.311652694492943,
          0.3401304938279252,
          0.3712105009066362,
          0.4051304969235381,
          0.44214999073744876,
          0.48255220427412776,
          0.5266462393484278,
          0.5747694424835352,
          0.6272899858196247,
          0.6846096838574658,
          0.7471670675868078,
          0.8154407395185161,
          0.8899530352885231,
          0.971274019847117,
          1.0600258488068823,
          1.1568875283162827,
          1.2626001098748565,
          1.3779723598335576,
          1.5038869469554101,
          1.6413071953751293,
          1.791284454622004,
          1.9549661430912606,
          2.133604526501411,
          2.3285662984981954,
          2.5413430367026364,
          2.773562614198415,
          3.027001653763463,
          3.3035991201283395,
          3.605471154250504,
          3.934927263095849,
          4.294487988789275,
          4.686904192314192,
          5.115178099293143,
          5.582586268862695,
          6.0927046613686775,
          6.649435996665045,
          7.257039612324216,
          7.920164050192553,
          8.643882620598271,
          9.433732216299779,
          10.295755673125127,
          11.236548001387515,
          12.26330684177563,
          13.383887531737578,
          14.606863203649889,
          15.941590374559995,
          17.39828052930364,
          18.988078244652634,
          20.723146452190296,
          22.616759492228645,
          24.683404670686485,
          26.938893095901726,
          29.400480643347105,
          32.0869999737045,
          35.019004614317126,
          38.21892620633119,
          41.71124612056521,
          45.5226827550731,
          49.68239594734388,
          54.222210065015865,
          59.17685748188825,
          64.58424430196978,
          70.48574036451903,
          76.92649574879147,
          83.95578619995112,
          91.62739011886741,
          100
         ],
         "xaxis": "x",
         "y": [
          -11.506975123355362,
          -11.4092891836994,
          -11.302312488910447,
          -11.193784784212442,
          -11.074776400335537,
          -10.943590872757031,
          -10.804480517526747,
          -10.6521239636092,
          -10.486089511408126,
          -10.30802449389806,
          -10.113390647811768,
          -9.899202648234835,
          -9.665330455796203,
          -9.404452384799978,
          -9.11689687921929,
          -8.802519724916229,
          -8.428991896755159,
          -7.9579358771256485,
          -7.410073183422384,
          -6.817452472806639,
          -6.19806517966268,
          -5.52646327788067,
          -4.79444856515721,
          -3.995078874759033,
          -3.338700532697924,
          -3.2689048157935563,
          -3.1933924175089845,
          -3.1086297572856894,
          -3.011044687243867,
          -2.89095688067122,
          -2.8696827550251927,
          -2.826306613818824,
          -2.775535499991357,
          -2.703311448499945,
          -2.456162908583053,
          -2.1857978752594907,
          -1.890665050157983,
          -1.5685074088985431,
          -1.2532415909027295,
          -0.9693128258257193,
          -0.6594416576286349,
          -0.3198114343225979,
          0,
          0,
          0,
          0,
          0,
          0,
          0,
          0,
          0,
          0,
          0,
          0,
          0,
          0,
          0,
          0,
          0,
          0,
          0,
          0,
          0,
          0,
          0,
          0,
          0,
          0,
          0,
          0,
          0,
          0,
          0,
          0,
          0,
          0,
          0,
          0,
          0,
          0
         ],
         "yaxis": "y"
        },
        {
         "hovertemplate": "variable=s3^3<br>alphas=%{x}<br>value=%{y}<extra></extra>",
         "legendgroup": "s3^3",
         "line": {
          "color": "#FF6692",
          "dash": "solid"
         },
         "mode": "lines",
         "name": "s3^3",
         "showlegend": true,
         "type": "scattergl",
         "x": [
          0.1,
          0.10913767146512733,
          0.11911031332830067,
          0.12999422244132455,
          0.14187266741165966,
          0.15483652565854988,
          0.16898497868124573,
          0.18442627085855348,
          0.20127853758499395,
          0.2196707090793235,
          0.23974349678010773,
          0.2616504698748821,
          0.28555923019901075,
          0.311652694492943,
          0.3401304938279252,
          0.3712105009066362,
          0.4051304969235381,
          0.44214999073744876,
          0.48255220427412776,
          0.5266462393484278,
          0.5747694424835352,
          0.6272899858196247,
          0.6846096838574658,
          0.7471670675868078,
          0.8154407395185161,
          0.8899530352885231,
          0.971274019847117,
          1.0600258488068823,
          1.1568875283162827,
          1.2626001098748565,
          1.3779723598335576,
          1.5038869469554101,
          1.6413071953751293,
          1.791284454622004,
          1.9549661430912606,
          2.133604526501411,
          2.3285662984981954,
          2.5413430367026364,
          2.773562614198415,
          3.027001653763463,
          3.3035991201283395,
          3.605471154250504,
          3.934927263095849,
          4.294487988789275,
          4.686904192314192,
          5.115178099293143,
          5.582586268862695,
          6.0927046613686775,
          6.649435996665045,
          7.257039612324216,
          7.920164050192553,
          8.643882620598271,
          9.433732216299779,
          10.295755673125127,
          11.236548001387515,
          12.26330684177563,
          13.383887531737578,
          14.606863203649889,
          15.941590374559995,
          17.39828052930364,
          18.988078244652634,
          20.723146452190296,
          22.616759492228645,
          24.683404670686485,
          26.938893095901726,
          29.400480643347105,
          32.0869999737045,
          35.019004614317126,
          38.21892620633119,
          41.71124612056521,
          45.5226827550731,
          49.68239594734388,
          54.222210065015865,
          59.17685748188825,
          64.58424430196978,
          70.48574036451903,
          76.92649574879147,
          83.95578619995112,
          91.62739011886741,
          100
         ],
         "xaxis": "x",
         "y": [
          1.663184045963833,
          1.4875957995029636,
          1.4157398038949707,
          1.3889722551802486,
          1.3592663743908184,
          1.3404523724883726,
          1.3072000037719147,
          1.2699621626236486,
          1.2300447074719811,
          1.1933350556199238,
          1.153033234387973,
          1.1072860533341193,
          1.0572080159699497,
          0.8899977746357569,
          0.649197541219183,
          0.38628194987096337,
          0.11148870776339302,
          0,
          0,
          0,
          0,
          0,
          0,
          0,
          0,
          0,
          0,
          0,
          0,
          0,
          0,
          0,
          0,
          0,
          0,
          0,
          0,
          0,
          0,
          0,
          0,
          0,
          0,
          0,
          0,
          0,
          0,
          0,
          0,
          0,
          0,
          0,
          0,
          0,
          0,
          0,
          0,
          0,
          0,
          0,
          0,
          0,
          0,
          0,
          0,
          0,
          0,
          0,
          0,
          0,
          0,
          0,
          0,
          0,
          0,
          0,
          0,
          0,
          0,
          0
         ],
         "yaxis": "y"
        },
        {
         "hovertemplate": "variable=s4^3<br>alphas=%{x}<br>value=%{y}<extra></extra>",
         "legendgroup": "s4^3",
         "line": {
          "color": "#B6E880",
          "dash": "solid"
         },
         "mode": "lines",
         "name": "s4^3",
         "showlegend": true,
         "type": "scattergl",
         "x": [
          0.1,
          0.10913767146512733,
          0.11911031332830067,
          0.12999422244132455,
          0.14187266741165966,
          0.15483652565854988,
          0.16898497868124573,
          0.18442627085855348,
          0.20127853758499395,
          0.2196707090793235,
          0.23974349678010773,
          0.2616504698748821,
          0.28555923019901075,
          0.311652694492943,
          0.3401304938279252,
          0.3712105009066362,
          0.4051304969235381,
          0.44214999073744876,
          0.48255220427412776,
          0.5266462393484278,
          0.5747694424835352,
          0.6272899858196247,
          0.6846096838574658,
          0.7471670675868078,
          0.8154407395185161,
          0.8899530352885231,
          0.971274019847117,
          1.0600258488068823,
          1.1568875283162827,
          1.2626001098748565,
          1.3779723598335576,
          1.5038869469554101,
          1.6413071953751293,
          1.791284454622004,
          1.9549661430912606,
          2.133604526501411,
          2.3285662984981954,
          2.5413430367026364,
          2.773562614198415,
          3.027001653763463,
          3.3035991201283395,
          3.605471154250504,
          3.934927263095849,
          4.294487988789275,
          4.686904192314192,
          5.115178099293143,
          5.582586268862695,
          6.0927046613686775,
          6.649435996665045,
          7.257039612324216,
          7.920164050192553,
          8.643882620598271,
          9.433732216299779,
          10.295755673125127,
          11.236548001387515,
          12.26330684177563,
          13.383887531737578,
          14.606863203649889,
          15.941590374559995,
          17.39828052930364,
          18.988078244652634,
          20.723146452190296,
          22.616759492228645,
          24.683404670686485,
          26.938893095901726,
          29.400480643347105,
          32.0869999737045,
          35.019004614317126,
          38.21892620633119,
          41.71124612056521,
          45.5226827550731,
          49.68239594734388,
          54.222210065015865,
          59.17685748188825,
          64.58424430196978,
          70.48574036451903,
          76.92649574879147,
          83.95578619995112,
          91.62739011886741,
          100
         ],
         "xaxis": "x",
         "y": [
          0,
          0,
          0,
          0,
          0,
          0,
          0,
          0,
          0,
          0,
          0,
          0,
          0,
          0,
          0,
          0,
          0,
          0,
          0,
          0,
          0,
          0,
          0,
          0,
          0,
          0,
          0,
          0,
          0,
          0,
          0,
          0,
          0,
          0,
          0,
          0,
          0,
          0,
          0,
          0,
          0,
          0,
          0,
          0,
          0,
          0,
          0,
          0,
          0,
          0,
          0,
          0,
          0,
          0,
          0,
          0,
          0,
          0,
          0,
          0,
          0,
          0,
          0,
          0,
          0,
          0,
          0,
          0,
          0,
          0,
          0,
          0,
          0,
          0,
          0,
          0,
          0,
          0,
          0,
          0
         ],
         "yaxis": "y"
        },
        {
         "hovertemplate": "variable=s5^3<br>alphas=%{x}<br>value=%{y}<extra></extra>",
         "legendgroup": "s5^3",
         "line": {
          "color": "#FF97FF",
          "dash": "solid"
         },
         "mode": "lines",
         "name": "s5^3",
         "showlegend": true,
         "type": "scattergl",
         "x": [
          0.1,
          0.10913767146512733,
          0.11911031332830067,
          0.12999422244132455,
          0.14187266741165966,
          0.15483652565854988,
          0.16898497868124573,
          0.18442627085855348,
          0.20127853758499395,
          0.2196707090793235,
          0.23974349678010773,
          0.2616504698748821,
          0.28555923019901075,
          0.311652694492943,
          0.3401304938279252,
          0.3712105009066362,
          0.4051304969235381,
          0.44214999073744876,
          0.48255220427412776,
          0.5266462393484278,
          0.5747694424835352,
          0.6272899858196247,
          0.6846096838574658,
          0.7471670675868078,
          0.8154407395185161,
          0.8899530352885231,
          0.971274019847117,
          1.0600258488068823,
          1.1568875283162827,
          1.2626001098748565,
          1.3779723598335576,
          1.5038869469554101,
          1.6413071953751293,
          1.791284454622004,
          1.9549661430912606,
          2.133604526501411,
          2.3285662984981954,
          2.5413430367026364,
          2.773562614198415,
          3.027001653763463,
          3.3035991201283395,
          3.605471154250504,
          3.934927263095849,
          4.294487988789275,
          4.686904192314192,
          5.115178099293143,
          5.582586268862695,
          6.0927046613686775,
          6.649435996665045,
          7.257039612324216,
          7.920164050192553,
          8.643882620598271,
          9.433732216299779,
          10.295755673125127,
          11.236548001387515,
          12.26330684177563,
          13.383887531737578,
          14.606863203649889,
          15.941590374559995,
          17.39828052930364,
          18.988078244652634,
          20.723146452190296,
          22.616759492228645,
          24.683404670686485,
          26.938893095901726,
          29.400480643347105,
          32.0869999737045,
          35.019004614317126,
          38.21892620633119,
          41.71124612056521,
          45.5226827550731,
          49.68239594734388,
          54.222210065015865,
          59.17685748188825,
          64.58424430196978,
          70.48574036451903,
          76.92649574879147,
          83.95578619995112,
          91.62739011886741,
          100
         ],
         "xaxis": "x",
         "y": [
          -14.554515113012151,
          -14.501285567496257,
          -14.402651350774507,
          -14.337948946397267,
          -14.264752123859145,
          -13.745545465588837,
          -13.685003937808563,
          -13.618270093548336,
          -13.544988317422913,
          -13.46167775173843,
          -13.370701049940052,
          -13.270870215960327,
          -13.16248853515103,
          -13.044181058637655,
          -12.915076823203215,
          -12.77413663035611,
          -12.619273440771511,
          -12.448650486048042,
          -12.278975282950066,
          -12.059248279267766,
          -11.777710222502822,
          -11.473126415395718,
          -11.139225267029664,
          -10.774416622406022,
          -10.375683147003352,
          -9.94383969781105,
          -9.472146757644458,
          -8.956224801024971,
          -8.389800998451221,
          -7.764489078158472,
          -7.146302476755486,
          -6.452948052531724,
          -5.696240044623316,
          -4.8711552475656195,
          -3.976530622486997,
          -2.999964388916829,
          -1.9325661899705713,
          -0.7667778940212144,
          0,
          0,
          0,
          0,
          0,
          0,
          0,
          0,
          0,
          0,
          0,
          0,
          0,
          0,
          0,
          0,
          0,
          0,
          0,
          0,
          0,
          0,
          0,
          0,
          0,
          0,
          0,
          0,
          0,
          0,
          0,
          0,
          0,
          0,
          0,
          0,
          0,
          0,
          0,
          0,
          0,
          0
         ],
         "yaxis": "y"
        },
        {
         "hovertemplate": "variable=s6^3<br>alphas=%{x}<br>value=%{y}<extra></extra>",
         "legendgroup": "s6^3",
         "line": {
          "color": "#FECB52",
          "dash": "solid"
         },
         "mode": "lines",
         "name": "s6^3",
         "showlegend": true,
         "type": "scattergl",
         "x": [
          0.1,
          0.10913767146512733,
          0.11911031332830067,
          0.12999422244132455,
          0.14187266741165966,
          0.15483652565854988,
          0.16898497868124573,
          0.18442627085855348,
          0.20127853758499395,
          0.2196707090793235,
          0.23974349678010773,
          0.2616504698748821,
          0.28555923019901075,
          0.311652694492943,
          0.3401304938279252,
          0.3712105009066362,
          0.4051304969235381,
          0.44214999073744876,
          0.48255220427412776,
          0.5266462393484278,
          0.5747694424835352,
          0.6272899858196247,
          0.6846096838574658,
          0.7471670675868078,
          0.8154407395185161,
          0.8899530352885231,
          0.971274019847117,
          1.0600258488068823,
          1.1568875283162827,
          1.2626001098748565,
          1.3779723598335576,
          1.5038869469554101,
          1.6413071953751293,
          1.791284454622004,
          1.9549661430912606,
          2.133604526501411,
          2.3285662984981954,
          2.5413430367026364,
          2.773562614198415,
          3.027001653763463,
          3.3035991201283395,
          3.605471154250504,
          3.934927263095849,
          4.294487988789275,
          4.686904192314192,
          5.115178099293143,
          5.582586268862695,
          6.0927046613686775,
          6.649435996665045,
          7.257039612324216,
          7.920164050192553,
          8.643882620598271,
          9.433732216299779,
          10.295755673125127,
          11.236548001387515,
          12.26330684177563,
          13.383887531737578,
          14.606863203649889,
          15.941590374559995,
          17.39828052930364,
          18.988078244652634,
          20.723146452190296,
          22.616759492228645,
          24.683404670686485,
          26.938893095901726,
          29.400480643347105,
          32.0869999737045,
          35.019004614317126,
          38.21892620633119,
          41.71124612056521,
          45.5226827550731,
          49.68239594734388,
          54.222210065015865,
          59.17685748188825,
          64.58424430196978,
          70.48574036451903,
          76.92649574879147,
          83.95578619995112,
          91.62739011886741,
          100
         ],
         "xaxis": "x",
         "y": [
          -0.6381042308741247,
          -0.582502165768093,
          -0.518588425797229,
          -0.4483147069413413,
          -0.3715715672454673,
          -0.28820655922270544,
          -0.1971386314930881,
          -0.09752116706047081,
          0,
          0,
          0,
          0,
          0,
          0,
          0,
          0,
          0,
          0,
          0,
          0,
          0,
          0,
          0,
          0,
          0,
          0,
          0,
          0,
          0,
          0,
          0,
          0,
          0,
          0,
          0,
          0,
          0,
          0,
          0,
          0,
          0,
          0,
          0,
          0,
          0,
          0,
          0,
          0,
          0,
          0,
          0,
          0,
          0,
          0,
          0,
          0,
          0,
          0,
          0,
          0,
          0,
          0,
          0,
          0,
          0,
          0,
          0,
          0,
          0,
          0,
          0,
          0,
          0,
          0,
          0,
          0,
          0,
          0,
          0,
          0
         ],
         "yaxis": "y"
        }
       ],
       "layout": {
        "legend": {
         "title": {
          "text": "variable"
         },
         "tracegroupgap": 0
        },
        "margin": {
         "t": 60
        },
        "template": {
         "data": {
          "bar": [
           {
            "error_x": {
             "color": "#2a3f5f"
            },
            "error_y": {
             "color": "#2a3f5f"
            },
            "marker": {
             "line": {
              "color": "#E5ECF6",
              "width": 0.5
             }
            },
            "type": "bar"
           }
          ],
          "barpolar": [
           {
            "marker": {
             "line": {
              "color": "#E5ECF6",
              "width": 0.5
             }
            },
            "type": "barpolar"
           }
          ],
          "carpet": [
           {
            "aaxis": {
             "endlinecolor": "#2a3f5f",
             "gridcolor": "white",
             "linecolor": "white",
             "minorgridcolor": "white",
             "startlinecolor": "#2a3f5f"
            },
            "baxis": {
             "endlinecolor": "#2a3f5f",
             "gridcolor": "white",
             "linecolor": "white",
             "minorgridcolor": "white",
             "startlinecolor": "#2a3f5f"
            },
            "type": "carpet"
           }
          ],
          "choropleth": [
           {
            "colorbar": {
             "outlinewidth": 0,
             "ticks": ""
            },
            "type": "choropleth"
           }
          ],
          "contour": [
           {
            "colorbar": {
             "outlinewidth": 0,
             "ticks": ""
            },
            "colorscale": [
             [
              0,
              "#0d0887"
             ],
             [
              0.1111111111111111,
              "#46039f"
             ],
             [
              0.2222222222222222,
              "#7201a8"
             ],
             [
              0.3333333333333333,
              "#9c179e"
             ],
             [
              0.4444444444444444,
              "#bd3786"
             ],
             [
              0.5555555555555556,
              "#d8576b"
             ],
             [
              0.6666666666666666,
              "#ed7953"
             ],
             [
              0.7777777777777778,
              "#fb9f3a"
             ],
             [
              0.8888888888888888,
              "#fdca26"
             ],
             [
              1,
              "#f0f921"
             ]
            ],
            "type": "contour"
           }
          ],
          "contourcarpet": [
           {
            "colorbar": {
             "outlinewidth": 0,
             "ticks": ""
            },
            "type": "contourcarpet"
           }
          ],
          "heatmap": [
           {
            "colorbar": {
             "outlinewidth": 0,
             "ticks": ""
            },
            "colorscale": [
             [
              0,
              "#0d0887"
             ],
             [
              0.1111111111111111,
              "#46039f"
             ],
             [
              0.2222222222222222,
              "#7201a8"
             ],
             [
              0.3333333333333333,
              "#9c179e"
             ],
             [
              0.4444444444444444,
              "#bd3786"
             ],
             [
              0.5555555555555556,
              "#d8576b"
             ],
             [
              0.6666666666666666,
              "#ed7953"
             ],
             [
              0.7777777777777778,
              "#fb9f3a"
             ],
             [
              0.8888888888888888,
              "#fdca26"
             ],
             [
              1,
              "#f0f921"
             ]
            ],
            "type": "heatmap"
           }
          ],
          "heatmapgl": [
           {
            "colorbar": {
             "outlinewidth": 0,
             "ticks": ""
            },
            "colorscale": [
             [
              0,
              "#0d0887"
             ],
             [
              0.1111111111111111,
              "#46039f"
             ],
             [
              0.2222222222222222,
              "#7201a8"
             ],
             [
              0.3333333333333333,
              "#9c179e"
             ],
             [
              0.4444444444444444,
              "#bd3786"
             ],
             [
              0.5555555555555556,
              "#d8576b"
             ],
             [
              0.6666666666666666,
              "#ed7953"
             ],
             [
              0.7777777777777778,
              "#fb9f3a"
             ],
             [
              0.8888888888888888,
              "#fdca26"
             ],
             [
              1,
              "#f0f921"
             ]
            ],
            "type": "heatmapgl"
           }
          ],
          "histogram": [
           {
            "marker": {
             "colorbar": {
              "outlinewidth": 0,
              "ticks": ""
             }
            },
            "type": "histogram"
           }
          ],
          "histogram2d": [
           {
            "colorbar": {
             "outlinewidth": 0,
             "ticks": ""
            },
            "colorscale": [
             [
              0,
              "#0d0887"
             ],
             [
              0.1111111111111111,
              "#46039f"
             ],
             [
              0.2222222222222222,
              "#7201a8"
             ],
             [
              0.3333333333333333,
              "#9c179e"
             ],
             [
              0.4444444444444444,
              "#bd3786"
             ],
             [
              0.5555555555555556,
              "#d8576b"
             ],
             [
              0.6666666666666666,
              "#ed7953"
             ],
             [
              0.7777777777777778,
              "#fb9f3a"
             ],
             [
              0.8888888888888888,
              "#fdca26"
             ],
             [
              1,
              "#f0f921"
             ]
            ],
            "type": "histogram2d"
           }
          ],
          "histogram2dcontour": [
           {
            "colorbar": {
             "outlinewidth": 0,
             "ticks": ""
            },
            "colorscale": [
             [
              0,
              "#0d0887"
             ],
             [
              0.1111111111111111,
              "#46039f"
             ],
             [
              0.2222222222222222,
              "#7201a8"
             ],
             [
              0.3333333333333333,
              "#9c179e"
             ],
             [
              0.4444444444444444,
              "#bd3786"
             ],
             [
              0.5555555555555556,
              "#d8576b"
             ],
             [
              0.6666666666666666,
              "#ed7953"
             ],
             [
              0.7777777777777778,
              "#fb9f3a"
             ],
             [
              0.8888888888888888,
              "#fdca26"
             ],
             [
              1,
              "#f0f921"
             ]
            ],
            "type": "histogram2dcontour"
           }
          ],
          "mesh3d": [
           {
            "colorbar": {
             "outlinewidth": 0,
             "ticks": ""
            },
            "type": "mesh3d"
           }
          ],
          "parcoords": [
           {
            "line": {
             "colorbar": {
              "outlinewidth": 0,
              "ticks": ""
             }
            },
            "type": "parcoords"
           }
          ],
          "pie": [
           {
            "automargin": true,
            "type": "pie"
           }
          ],
          "scatter": [
           {
            "marker": {
             "colorbar": {
              "outlinewidth": 0,
              "ticks": ""
             }
            },
            "type": "scatter"
           }
          ],
          "scatter3d": [
           {
            "line": {
             "colorbar": {
              "outlinewidth": 0,
              "ticks": ""
             }
            },
            "marker": {
             "colorbar": {
              "outlinewidth": 0,
              "ticks": ""
             }
            },
            "type": "scatter3d"
           }
          ],
          "scattercarpet": [
           {
            "marker": {
             "colorbar": {
              "outlinewidth": 0,
              "ticks": ""
             }
            },
            "type": "scattercarpet"
           }
          ],
          "scattergeo": [
           {
            "marker": {
             "colorbar": {
              "outlinewidth": 0,
              "ticks": ""
             }
            },
            "type": "scattergeo"
           }
          ],
          "scattergl": [
           {
            "marker": {
             "colorbar": {
              "outlinewidth": 0,
              "ticks": ""
             }
            },
            "type": "scattergl"
           }
          ],
          "scattermapbox": [
           {
            "marker": {
             "colorbar": {
              "outlinewidth": 0,
              "ticks": ""
             }
            },
            "type": "scattermapbox"
           }
          ],
          "scatterpolar": [
           {
            "marker": {
             "colorbar": {
              "outlinewidth": 0,
              "ticks": ""
             }
            },
            "type": "scatterpolar"
           }
          ],
          "scatterpolargl": [
           {
            "marker": {
             "colorbar": {
              "outlinewidth": 0,
              "ticks": ""
             }
            },
            "type": "scatterpolargl"
           }
          ],
          "scatterternary": [
           {
            "marker": {
             "colorbar": {
              "outlinewidth": 0,
              "ticks": ""
             }
            },
            "type": "scatterternary"
           }
          ],
          "surface": [
           {
            "colorbar": {
             "outlinewidth": 0,
             "ticks": ""
            },
            "colorscale": [
             [
              0,
              "#0d0887"
             ],
             [
              0.1111111111111111,
              "#46039f"
             ],
             [
              0.2222222222222222,
              "#7201a8"
             ],
             [
              0.3333333333333333,
              "#9c179e"
             ],
             [
              0.4444444444444444,
              "#bd3786"
             ],
             [
              0.5555555555555556,
              "#d8576b"
             ],
             [
              0.6666666666666666,
              "#ed7953"
             ],
             [
              0.7777777777777778,
              "#fb9f3a"
             ],
             [
              0.8888888888888888,
              "#fdca26"
             ],
             [
              1,
              "#f0f921"
             ]
            ],
            "type": "surface"
           }
          ],
          "table": [
           {
            "cells": {
             "fill": {
              "color": "#EBF0F8"
             },
             "line": {
              "color": "white"
             }
            },
            "header": {
             "fill": {
              "color": "#C8D4E3"
             },
             "line": {
              "color": "white"
             }
            },
            "type": "table"
           }
          ]
         },
         "layout": {
          "annotationdefaults": {
           "arrowcolor": "#2a3f5f",
           "arrowhead": 0,
           "arrowwidth": 1
          },
          "coloraxis": {
           "colorbar": {
            "outlinewidth": 0,
            "ticks": ""
           }
          },
          "colorscale": {
           "diverging": [
            [
             0,
             "#8e0152"
            ],
            [
             0.1,
             "#c51b7d"
            ],
            [
             0.2,
             "#de77ae"
            ],
            [
             0.3,
             "#f1b6da"
            ],
            [
             0.4,
             "#fde0ef"
            ],
            [
             0.5,
             "#f7f7f7"
            ],
            [
             0.6,
             "#e6f5d0"
            ],
            [
             0.7,
             "#b8e186"
            ],
            [
             0.8,
             "#7fbc41"
            ],
            [
             0.9,
             "#4d9221"
            ],
            [
             1,
             "#276419"
            ]
           ],
           "sequential": [
            [
             0,
             "#0d0887"
            ],
            [
             0.1111111111111111,
             "#46039f"
            ],
            [
             0.2222222222222222,
             "#7201a8"
            ],
            [
             0.3333333333333333,
             "#9c179e"
            ],
            [
             0.4444444444444444,
             "#bd3786"
            ],
            [
             0.5555555555555556,
             "#d8576b"
            ],
            [
             0.6666666666666666,
             "#ed7953"
            ],
            [
             0.7777777777777778,
             "#fb9f3a"
            ],
            [
             0.8888888888888888,
             "#fdca26"
            ],
            [
             1,
             "#f0f921"
            ]
           ],
           "sequentialminus": [
            [
             0,
             "#0d0887"
            ],
            [
             0.1111111111111111,
             "#46039f"
            ],
            [
             0.2222222222222222,
             "#7201a8"
            ],
            [
             0.3333333333333333,
             "#9c179e"
            ],
            [
             0.4444444444444444,
             "#bd3786"
            ],
            [
             0.5555555555555556,
             "#d8576b"
            ],
            [
             0.6666666666666666,
             "#ed7953"
            ],
            [
             0.7777777777777778,
             "#fb9f3a"
            ],
            [
             0.8888888888888888,
             "#fdca26"
            ],
            [
             1,
             "#f0f921"
            ]
           ]
          },
          "colorway": [
           "#636efa",
           "#EF553B",
           "#00cc96",
           "#ab63fa",
           "#FFA15A",
           "#19d3f3",
           "#FF6692",
           "#B6E880",
           "#FF97FF",
           "#FECB52"
          ],
          "font": {
           "color": "#2a3f5f"
          },
          "geo": {
           "bgcolor": "white",
           "lakecolor": "white",
           "landcolor": "#E5ECF6",
           "showlakes": true,
           "showland": true,
           "subunitcolor": "white"
          },
          "hoverlabel": {
           "align": "left"
          },
          "hovermode": "closest",
          "mapbox": {
           "style": "light"
          },
          "paper_bgcolor": "white",
          "plot_bgcolor": "#E5ECF6",
          "polar": {
           "angularaxis": {
            "gridcolor": "white",
            "linecolor": "white",
            "ticks": ""
           },
           "bgcolor": "#E5ECF6",
           "radialaxis": {
            "gridcolor": "white",
            "linecolor": "white",
            "ticks": ""
           }
          },
          "scene": {
           "xaxis": {
            "backgroundcolor": "#E5ECF6",
            "gridcolor": "white",
            "gridwidth": 2,
            "linecolor": "white",
            "showbackground": true,
            "ticks": "",
            "zerolinecolor": "white"
           },
           "yaxis": {
            "backgroundcolor": "#E5ECF6",
            "gridcolor": "white",
            "gridwidth": 2,
            "linecolor": "white",
            "showbackground": true,
            "ticks": "",
            "zerolinecolor": "white"
           },
           "zaxis": {
            "backgroundcolor": "#E5ECF6",
            "gridcolor": "white",
            "gridwidth": 2,
            "linecolor": "white",
            "showbackground": true,
            "ticks": "",
            "zerolinecolor": "white"
           }
          },
          "shapedefaults": {
           "line": {
            "color": "#2a3f5f"
           }
          },
          "ternary": {
           "aaxis": {
            "gridcolor": "white",
            "linecolor": "white",
            "ticks": ""
           },
           "baxis": {
            "gridcolor": "white",
            "linecolor": "white",
            "ticks": ""
           },
           "bgcolor": "#E5ECF6",
           "caxis": {
            "gridcolor": "white",
            "linecolor": "white",
            "ticks": ""
           }
          },
          "title": {
           "x": 0.05
          },
          "xaxis": {
           "automargin": true,
           "gridcolor": "white",
           "linecolor": "white",
           "ticks": "",
           "title": {
            "standoff": 15
           },
           "zerolinecolor": "white",
           "zerolinewidth": 2
          },
          "yaxis": {
           "automargin": true,
           "gridcolor": "white",
           "linecolor": "white",
           "ticks": "",
           "title": {
            "standoff": 15
           },
           "zerolinecolor": "white",
           "zerolinewidth": 2
          }
         }
        },
        "xaxis": {
         "anchor": "y",
         "domain": [
          0,
          1
         ],
         "title": {
          "text": "alphas"
         },
         "type": "log"
        },
        "yaxis": {
         "anchor": "x",
         "domain": [
          0,
          1
         ],
         "title": {
          "text": "value"
         }
        }
       }
      },
      "text/html": "<div>                            <div id=\"c32eacc2-3cc7-4fd4-a540-ef302357f0ad\" class=\"plotly-graph-div\" style=\"height:525px; width:100%;\"></div>            <script type=\"text/javascript\">                require([\"plotly\"], function(Plotly) {                    window.PLOTLYENV=window.PLOTLYENV || {};                                    if (document.getElementById(\"c32eacc2-3cc7-4fd4-a540-ef302357f0ad\")) {                    Plotly.newPlot(                        \"c32eacc2-3cc7-4fd4-a540-ef302357f0ad\",                        [{\"hovertemplate\": \"variable=age<br>alphas=%{x}<br>value=%{y}<extra></extra>\", \"legendgroup\": \"age\", \"line\": {\"color\": \"#636efa\", \"dash\": \"solid\"}, \"mode\": \"lines\", \"name\": \"age\", \"showlegend\": true, \"type\": \"scattergl\", \"x\": [0.1, 0.10913767146512733, 0.11911031332830067, 0.12999422244132455, 0.14187266741165966, 0.15483652565854988, 0.16898497868124573, 0.18442627085855348, 0.20127853758499395, 0.2196707090793235, 0.23974349678010773, 0.2616504698748821, 0.28555923019901075, 0.311652694492943, 0.3401304938279252, 0.3712105009066362, 0.4051304969235381, 0.44214999073744876, 0.48255220427412776, 0.5266462393484278, 0.5747694424835352, 0.6272899858196247, 0.6846096838574658, 0.7471670675868078, 0.8154407395185161, 0.8899530352885231, 0.971274019847117, 1.0600258488068823, 1.1568875283162827, 1.2626001098748565, 1.3779723598335576, 1.5038869469554101, 1.6413071953751293, 1.791284454622004, 1.9549661430912606, 2.133604526501411, 2.3285662984981954, 2.5413430367026364, 2.773562614198415, 3.027001653763463, 3.3035991201283395, 3.605471154250504, 3.934927263095849, 4.294487988789275, 4.686904192314192, 5.115178099293143, 5.582586268862695, 6.0927046613686775, 6.649435996665045, 7.257039612324216, 7.920164050192553, 8.643882620598271, 9.433732216299779, 10.295755673125127, 11.236548001387515, 12.26330684177563, 13.383887531737578, 14.606863203649889, 15.941590374559995, 17.39828052930364, 18.988078244652634, 20.723146452190296, 22.616759492228645, 24.683404670686485, 26.938893095901726, 29.400480643347105, 32.0869999737045, 35.019004614317126, 38.21892620633119, 41.71124612056521, 45.5226827550731, 49.68239594734388, 54.222210065015865, 59.17685748188825, 64.58424430196978, 70.48574036451903, 76.92649574879147, 83.95578619995112, 91.62739011886741, 100.0], \"xaxis\": \"x\", \"y\": [10.61817161863022, 10.505661606245917, 10.401914829105095, 10.294969021457232, 10.17829948059607, 10.053906504441388, 9.914470952358535, 9.762601483015208, 9.597542636078796, 9.422314868738624, 9.231280072979411, 9.023797938159515, 8.796923126078656, 8.532061670084634, 8.234389316504622, 7.909672818106235, 7.565096609575768, 7.22263633759199, 6.857438283640877, 6.484365918064067, 6.086821333237017, 5.651458600359886, 5.178029826043533, 4.661663109044593, 4.11928359122729, 3.5773982782392464, 2.9851772748595056, 2.336466963176902, 1.6319087408841937, 0.8464163202171695, 0.03908413419354348, 0.0, 0.0, 0.0, 0.0, 0.0, 0.0, 0.0, 0.0, 0.0, 0.0, 0.0, 0.0, 0.0, 0.0, 0.0, 0.0, 0.0, 0.0, 0.0, 0.0, 0.0, 0.0, 0.0, 0.0, 0.0, 0.0, 0.0, 0.0, 0.0, 0.0, 0.0, 0.0, 0.0, 0.0, 0.0, 0.0, 0.0, 0.0, 0.0, 0.0, 0.0, 0.0, 0.0, 0.0, 0.0, 0.0, 0.0, 0.0, 0.0], \"yaxis\": \"y\"}, {\"hovertemplate\": \"variable=sex<br>alphas=%{x}<br>value=%{y}<extra></extra>\", \"legendgroup\": \"sex\", \"line\": {\"color\": \"#EF553B\", \"dash\": \"solid\"}, \"mode\": \"lines\", \"name\": \"sex\", \"showlegend\": true, \"type\": \"scattergl\", \"x\": [0.1, 0.10913767146512733, 0.11911031332830067, 0.12999422244132455, 0.14187266741165966, 0.15483652565854988, 0.16898497868124573, 0.18442627085855348, 0.20127853758499395, 0.2196707090793235, 0.23974349678010773, 0.2616504698748821, 0.28555923019901075, 0.311652694492943, 0.3401304938279252, 0.3712105009066362, 0.4051304969235381, 0.44214999073744876, 0.48255220427412776, 0.5266462393484278, 0.5747694424835352, 0.6272899858196247, 0.6846096838574658, 0.7471670675868078, 0.8154407395185161, 0.8899530352885231, 0.971274019847117, 1.0600258488068823, 1.1568875283162827, 1.2626001098748565, 1.3779723598335576, 1.5038869469554101, 1.6413071953751293, 1.791284454622004, 1.9549661430912606, 2.133604526501411, 2.3285662984981954, 2.5413430367026364, 2.773562614198415, 3.027001653763463, 3.3035991201283395, 3.605471154250504, 3.934927263095849, 4.294487988789275, 4.686904192314192, 5.115178099293143, 5.582586268862695, 6.0927046613686775, 6.649435996665045, 7.257039612324216, 7.920164050192553, 8.643882620598271, 9.433732216299779, 10.295755673125127, 11.236548001387515, 12.26330684177563, 13.383887531737578, 14.606863203649889, 15.941590374559995, 17.39828052930364, 18.988078244652634, 20.723146452190296, 22.616759492228645, 24.683404670686485, 26.938893095901726, 29.400480643347105, 32.0869999737045, 35.019004614317126, 38.21892620633119, 41.71124612056521, 45.5226827550731, 49.68239594734388, 54.222210065015865, 59.17685748188825, 64.58424430196978, 70.48574036451903, 76.92649574879147, 83.95578619995112, 91.62739011886741, 100.0], \"xaxis\": \"x\", \"y\": [-0.1235606607838045, -0.17510640945672953, -0.24169739044171817, -0.36375752874401135, -0.4352795243988294, -0.5381982391369797, -0.6270647382468844, -0.7191819029438478, -0.819971193741693, -0.901493843234879, -0.9770360150283911, -1.0173942559738007, -0.9819020231189904, -1.060846581955861, -1.1675715871006411, -1.2416695110611191, -1.235230488694886, -1.2306074265387001, -1.1850110336456179, -1.1168017246364859, -1.026779976073421, -0.9210175578334006, -0.8453056238336419, -0.7519061940546904, -0.6641149333826047, -0.5380986070696113, -0.41125086843004555, -0.30897386985565833, -0.17583119976451544, -0.1540913938524409, -0.13816666170061798, -0.2754047903286728, -0.37161086197145815, -0.44567007895926625, -0.4813731409425583, -0.5350785711749892, -0.5730094594393785, -0.600433563143253, -0.6266204376248754, -0.6004594449479206, -0.5764550567132594, -0.6015484894874875, -0.5873687995294374, -0.5314976443592948, -0.47050867817667624, -0.3909141259384528, -0.3366772454143398, -0.0, -0.0, -0.0, -0.0, -0.0, -0.0, -0.0, -0.0, -0.0, -0.0, -0.0, -0.0, -0.0, -0.0, -0.0, -0.0, 0.0, 0.0, 0.0, 0.0, 0.0, 0.0, 0.0, 0.0, 0.0, 0.0, 0.0, 0.0, 0.0, 0.0, 0.0, 0.0, 0.0], \"yaxis\": \"y\"}, {\"hovertemplate\": \"variable=bmi<br>alphas=%{x}<br>value=%{y}<extra></extra>\", \"legendgroup\": \"bmi\", \"line\": {\"color\": \"#00cc96\", \"dash\": \"solid\"}, \"mode\": \"lines\", \"name\": \"bmi\", \"showlegend\": true, \"type\": \"scattergl\", \"x\": [0.1, 0.10913767146512733, 0.11911031332830067, 0.12999422244132455, 0.14187266741165966, 0.15483652565854988, 0.16898497868124573, 0.18442627085855348, 0.20127853758499395, 0.2196707090793235, 0.23974349678010773, 0.2616504698748821, 0.28555923019901075, 0.311652694492943, 0.3401304938279252, 0.3712105009066362, 0.4051304969235381, 0.44214999073744876, 0.48255220427412776, 0.5266462393484278, 0.5747694424835352, 0.6272899858196247, 0.6846096838574658, 0.7471670675868078, 0.8154407395185161, 0.8899530352885231, 0.971274019847117, 1.0600258488068823, 1.1568875283162827, 1.2626001098748565, 1.3779723598335576, 1.5038869469554101, 1.6413071953751293, 1.791284454622004, 1.9549661430912606, 2.133604526501411, 2.3285662984981954, 2.5413430367026364, 2.773562614198415, 3.027001653763463, 3.3035991201283395, 3.605471154250504, 3.934927263095849, 4.294487988789275, 4.686904192314192, 5.115178099293143, 5.582586268862695, 6.0927046613686775, 6.649435996665045, 7.257039612324216, 7.920164050192553, 8.643882620598271, 9.433732216299779, 10.295755673125127, 11.236548001387515, 12.26330684177563, 13.383887531737578, 14.606863203649889, 15.941590374559995, 17.39828052930364, 18.988078244652634, 20.723146452190296, 22.616759492228645, 24.683404670686485, 26.938893095901726, 29.400480643347105, 32.0869999737045, 35.019004614317126, 38.21892620633119, 41.71124612056521, 45.5226827550731, 49.68239594734388, 54.222210065015865, 59.17685748188825, 64.58424430196978, 70.48574036451903, 76.92649574879147, 83.95578619995112, 91.62739011886741, 100.0], \"xaxis\": \"x\", \"y\": [20.999632544554824, 20.9988920180642, 21.002071430601465, 21.005030742578946, 21.008430121851067, 21.001666606912746, 21.005131162815946, 21.008782932758233, 21.013353466906167, 21.02164337708121, 21.03097364949784, 21.04231223705391, 21.054626297507646, 21.066150007668757, 21.07702537812814, 21.089128538953744, 21.107606567882687, 21.138105070627926, 21.161980814779767, 21.206820299247095, 21.262494363542384, 21.32117432218674, 21.386067630451816, 21.457214483515433, 21.524213597222236, 21.566364447516296, 21.611381018323037, 21.658765121651648, 21.71900444632537, 21.783807334754613, 21.86450302221205, 21.983981447942675, 22.114629040392387, 22.256432767472287, 22.37569639830232, 22.49108389627351, 22.61817089049095, 22.757577398379006, 22.84718388071747, 22.84705908595776, 22.847127061094508, 22.85129058178813, 22.829606784876127, 22.8609824215215, 22.895209001880524, 22.935476641378578, 23.05353825005512, 23.1671670320188, 23.208256373630366, 23.253618284896007, 23.302657838659595, 23.075921062293148, 22.797941423066252, 22.487446389323893, 22.128706663126838, 21.737186479334987, 21.30989046742856, 20.843549896593444, 20.19633678444663, 19.420578783091415, 18.573893961917797, 17.649899083153095, 16.47027545242356, 15.04179415069059, 13.482193386452822, 11.779990191168146, 9.922245260229474, 7.894745700841538, 5.681979892759837, 3.267064316997096, 0.0, 0.0, 0.0, 0.0, 0.0, 0.0, 0.0, 0.0, 0.0, 0.0], \"yaxis\": \"y\"}, {\"hovertemplate\": \"variable=bp<br>alphas=%{x}<br>value=%{y}<extra></extra>\", \"legendgroup\": \"bp\", \"line\": {\"color\": \"#ab63fa\", \"dash\": \"solid\"}, \"mode\": \"lines\", \"name\": \"bp\", \"showlegend\": true, \"type\": \"scattergl\", \"x\": [0.1, 0.10913767146512733, 0.11911031332830067, 0.12999422244132455, 0.14187266741165966, 0.15483652565854988, 0.16898497868124573, 0.18442627085855348, 0.20127853758499395, 0.2196707090793235, 0.23974349678010773, 0.2616504698748821, 0.28555923019901075, 0.311652694492943, 0.3401304938279252, 0.3712105009066362, 0.4051304969235381, 0.44214999073744876, 0.48255220427412776, 0.5266462393484278, 0.5747694424835352, 0.6272899858196247, 0.6846096838574658, 0.7471670675868078, 0.8154407395185161, 0.8899530352885231, 0.971274019847117, 1.0600258488068823, 1.1568875283162827, 1.2626001098748565, 1.3779723598335576, 1.5038869469554101, 1.6413071953751293, 1.791284454622004, 1.9549661430912606, 2.133604526501411, 2.3285662984981954, 2.5413430367026364, 2.773562614198415, 3.027001653763463, 3.3035991201283395, 3.605471154250504, 3.934927263095849, 4.294487988789275, 4.686904192314192, 5.115178099293143, 5.582586268862695, 6.0927046613686775, 6.649435996665045, 7.257039612324216, 7.920164050192553, 8.643882620598271, 9.433732216299779, 10.295755673125127, 11.236548001387515, 12.26330684177563, 13.383887531737578, 14.606863203649889, 15.941590374559995, 17.39828052930364, 18.988078244652634, 20.723146452190296, 22.616759492228645, 24.683404670686485, 26.938893095901726, 29.400480643347105, 32.0869999737045, 35.019004614317126, 38.21892620633119, 41.71124612056521, 45.5226827550731, 49.68239594734388, 54.222210065015865, 59.17685748188825, 64.58424430196978, 70.48574036451903, 76.92649574879147, 83.95578619995112, 91.62739011886741, 100.0], \"xaxis\": \"x\", \"y\": [12.754332938719447, 12.753508017445515, 12.749809536417574, 12.744461514706227, 12.738646801932248, 12.730939185227363, 12.724108377058608, 12.716752005164816, 12.707646030717056, 12.68791089759296, 12.666437724375399, 12.643391139913618, 12.618278686808885, 12.593941700693232, 12.568514379663736, 12.540773691737561, 12.509295556357547, 12.472554010342574, 12.430614726273134, 12.391519953229306, 12.34877089804464, 12.302477989756772, 12.252567977104645, 12.19822065576087, 12.151381358761475, 12.128535914863056, 12.10221731100016, 12.071774784259716, 12.047323905090563, 12.02747912625903, 12.010261889553181, 11.853205618293044, 11.66614117453498, 11.460657323642723, 11.241922081994042, 11.000914355802566, 10.742326783129105, 10.459238336167415, 10.206454939497679, 9.992610370915807, 9.758536779411669, 9.508103957193091, 9.202048808431543, 8.855916423387697, 8.478197785326413, 8.06923376106205, 7.654475709752297, 7.258249867539061, 7.131856525441379, 6.992475951275465, 6.841652518182067, 6.815772799404856, 6.821418903347852, 6.623198688253897, 6.056406441460335, 5.437822581264983, 4.762714560188668, 4.025912424662378, 3.2432301050358956, 2.3991688466063636, 1.4785830137710807, 0.4738495800757061, 0.0, 0.0, 0.0, 0.0, 0.0, 0.0, 0.0, 0.0, 0.0, 0.0, 0.0, 0.0, 0.0, 0.0, 0.0, 0.0, 0.0, 0.0], \"yaxis\": \"y\"}, {\"hovertemplate\": \"variable=s1<br>alphas=%{x}<br>value=%{y}<extra></extra>\", \"legendgroup\": \"s1\", \"line\": {\"color\": \"#FFA15A\", \"dash\": \"solid\"}, \"mode\": \"lines\", \"name\": \"s1\", \"showlegend\": true, \"type\": \"scattergl\", \"x\": [0.1, 0.10913767146512733, 0.11911031332830067, 0.12999422244132455, 0.14187266741165966, 0.15483652565854988, 0.16898497868124573, 0.18442627085855348, 0.20127853758499395, 0.2196707090793235, 0.23974349678010773, 0.2616504698748821, 0.28555923019901075, 0.311652694492943, 0.3401304938279252, 0.3712105009066362, 0.4051304969235381, 0.44214999073744876, 0.48255220427412776, 0.5266462393484278, 0.5747694424835352, 0.6272899858196247, 0.6846096838574658, 0.7471670675868078, 0.8154407395185161, 0.8899530352885231, 0.971274019847117, 1.0600258488068823, 1.1568875283162827, 1.2626001098748565, 1.3779723598335576, 1.5038869469554101, 1.6413071953751293, 1.791284454622004, 1.9549661430912606, 2.133604526501411, 2.3285662984981954, 2.5413430367026364, 2.773562614198415, 3.027001653763463, 3.3035991201283395, 3.605471154250504, 3.934927263095849, 4.294487988789275, 4.686904192314192, 5.115178099293143, 5.582586268862695, 6.0927046613686775, 6.649435996665045, 7.257039612324216, 7.920164050192553, 8.643882620598271, 9.433732216299779, 10.295755673125127, 11.236548001387515, 12.26330684177563, 13.383887531737578, 14.606863203649889, 15.941590374559995, 17.39828052930364, 18.988078244652634, 20.723146452190296, 22.616759492228645, 24.683404670686485, 26.938893095901726, 29.400480643347105, 32.0869999737045, 35.019004614317126, 38.21892620633119, 41.71124612056521, 45.5226827550731, 49.68239594734388, 54.222210065015865, 59.17685748188825, 64.58424430196978, 70.48574036451903, 76.92649574879147, 83.95578619995112, 91.62739011886741, 100.0], \"xaxis\": \"x\", \"y\": [-0.0, -0.0, -0.7367076492665977, -0.8838515640806692, -1.086553461228833, -8.163820288212012, -7.992670836411902, -7.809924383942045, -7.608472998646434, -7.383905205695813, -7.139357005038754, -6.879140727683968, -6.594648476452185, -6.214367116999009, -5.7637157233250935, -5.2742396974111125, -4.765101811534495, -4.298362536452673, -3.8293260145931014, -3.550435864398085, -3.250689214276235, -2.920990466368907, -2.56252078379522, -2.1717252650422, -1.8222010295983346, -1.6953573843192402, -1.5557180910313468, -1.4070348520622489, -1.242339419831916, -1.0566207266873833, -0.8261853409377286, -0.5617460311422664, -0.27847891633187544, -0.0, -0.0, -0.0, -0.0, -0.0, -0.0, -0.0, -0.0, -0.0, -0.0, -0.0, -0.0, -0.0, -0.0, -0.0, -0.0, -0.0, -0.0, -0.0, -0.0, -0.0, -0.0, -0.0, 0.0, 0.0, 0.0, 0.0, 0.0, 0.0, 0.0, 0.0, 0.0, 0.0, 0.0, 0.0, 0.0, 0.0, 0.0, 0.0, 0.0, 0.0, 0.0, 0.0, 0.0, 0.0, 0.0, 0.0], \"yaxis\": \"y\"}, {\"hovertemplate\": \"variable=s2<br>alphas=%{x}<br>value=%{y}<extra></extra>\", \"legendgroup\": \"s2\", \"line\": {\"color\": \"#19d3f3\", \"dash\": \"solid\"}, \"mode\": \"lines\", \"name\": \"s2\", \"showlegend\": true, \"type\": \"scattergl\", \"x\": [0.1, 0.10913767146512733, 0.11911031332830067, 0.12999422244132455, 0.14187266741165966, 0.15483652565854988, 0.16898497868124573, 0.18442627085855348, 0.20127853758499395, 0.2196707090793235, 0.23974349678010773, 0.2616504698748821, 0.28555923019901075, 0.311652694492943, 0.3401304938279252, 0.3712105009066362, 0.4051304969235381, 0.44214999073744876, 0.48255220427412776, 0.5266462393484278, 0.5747694424835352, 0.6272899858196247, 0.6846096838574658, 0.7471670675868078, 0.8154407395185161, 0.8899530352885231, 0.971274019847117, 1.0600258488068823, 1.1568875283162827, 1.2626001098748565, 1.3779723598335576, 1.5038869469554101, 1.6413071953751293, 1.791284454622004, 1.9549661430912606, 2.133604526501411, 2.3285662984981954, 2.5413430367026364, 2.773562614198415, 3.027001653763463, 3.3035991201283395, 3.605471154250504, 3.934927263095849, 4.294487988789275, 4.686904192314192, 5.115178099293143, 5.582586268862695, 6.0927046613686775, 6.649435996665045, 7.257039612324216, 7.920164050192553, 8.643882620598271, 9.433732216299779, 10.295755673125127, 11.236548001387515, 12.26330684177563, 13.383887531737578, 14.606863203649889, 15.941590374559995, 17.39828052930364, 18.988078244652634, 20.723146452190296, 22.616759492228645, 24.683404670686485, 26.938893095901726, 29.400480643347105, 32.0869999737045, 35.019004614317126, 38.21892620633119, 41.71124612056521, 45.5226827550731, 49.68239594734388, 54.222210065015865, 59.17685748188825, 64.58424430196978, 70.48574036451903, 76.92649574879147, 83.95578619995112, 91.62739011886741, 100.0], \"xaxis\": \"x\", \"y\": [-7.877559113413389, -7.6923255478888635, -6.924937183610469, -6.677374936294172, -6.371455898604069, -0.0, -0.0, -0.0, -0.0, -0.0, -0.0, -0.0, -0.0, -0.0, -0.0, -0.0, -0.0, -0.0, -0.0, -0.0, -0.0, -0.0, -0.0, -0.0, -0.0, -0.0, -0.0, -0.0, -0.0, -0.0, -0.0, -0.0, -0.0, -0.0, -0.0, -0.0, -0.0, -0.0, -0.0, -0.0, -0.0, -0.0, -0.0, -0.0, -0.0, -0.0, -0.0, -0.0, -0.0, -0.0, -0.0, -0.0, -0.0, -0.0, -0.0, 0.0, 0.0, 0.0, 0.0, 0.0, 0.0, 0.0, 0.0, 0.0, 0.0, 0.0, 0.0, 0.0, 0.0, 0.0, 0.0, 0.0, 0.0, 0.0, 0.0, 0.0, 0.0, 0.0, 0.0, 0.0], \"yaxis\": \"y\"}, {\"hovertemplate\": \"variable=s3<br>alphas=%{x}<br>value=%{y}<extra></extra>\", \"legendgroup\": \"s3\", \"line\": {\"color\": \"#FF6692\", \"dash\": \"solid\"}, \"mode\": \"lines\", \"name\": \"s3\", \"showlegend\": true, \"type\": \"scattergl\", \"x\": [0.1, 0.10913767146512733, 0.11911031332830067, 0.12999422244132455, 0.14187266741165966, 0.15483652565854988, 0.16898497868124573, 0.18442627085855348, 0.20127853758499395, 0.2196707090793235, 0.23974349678010773, 0.2616504698748821, 0.28555923019901075, 0.311652694492943, 0.3401304938279252, 0.3712105009066362, 0.4051304969235381, 0.44214999073744876, 0.48255220427412776, 0.5266462393484278, 0.5747694424835352, 0.6272899858196247, 0.6846096838574658, 0.7471670675868078, 0.8154407395185161, 0.8899530352885231, 0.971274019847117, 1.0600258488068823, 1.1568875283162827, 1.2626001098748565, 1.3779723598335576, 1.5038869469554101, 1.6413071953751293, 1.791284454622004, 1.9549661430912606, 2.133604526501411, 2.3285662984981954, 2.5413430367026364, 2.773562614198415, 3.027001653763463, 3.3035991201283395, 3.605471154250504, 3.934927263095849, 4.294487988789275, 4.686904192314192, 5.115178099293143, 5.582586268862695, 6.0927046613686775, 6.649435996665045, 7.257039612324216, 7.920164050192553, 8.643882620598271, 9.433732216299779, 10.295755673125127, 11.236548001387515, 12.26330684177563, 13.383887531737578, 14.606863203649889, 15.941590374559995, 17.39828052930364, 18.988078244652634, 20.723146452190296, 22.616759492228645, 24.683404670686485, 26.938893095901726, 29.400480643347105, 32.0869999737045, 35.019004614317126, 38.21892620633119, 41.71124612056521, 45.5226827550731, 49.68239594734388, 54.222210065015865, 59.17685748188825, 64.58424430196978, 70.48574036451903, 76.92649574879147, 83.95578619995112, 91.62739011886741, 100.0], \"xaxis\": \"x\", \"y\": [-15.112954296088711, -15.16315993289905, -14.859742548183482, -14.77029974160461, -14.655002881080838, -11.999378510865197, -12.023740513218677, -12.046202861718799, -12.072353376453808, -12.111405727094361, -12.152709545974615, -12.188079194133563, -12.226226083522379, -12.348210875789212, -12.523867197212493, -12.71224334580346, -12.874673289355094, -12.979178735857458, -13.106683087794362, -12.914501835109183, -12.701554040382167, -12.470860264008987, -12.219956482993577, -11.945983347377627, -11.706457567410874, -11.605040406627609, -11.495167293106816, -11.373078568024344, -11.258970408284622, -11.193657569133281, -11.112206634473974, -11.05096360093216, -10.986425768633865, -10.905498292245895, -10.708293988351686, -10.493448464959226, -10.260038538662096, -10.005297063475831, -9.725547426796084, -9.41276053698471, -9.071317413931382, -8.698753846183076, -8.287732081255744, -7.842712942755707, -7.357034181021189, -6.825375268040239, -6.207863271083579, -5.592565035915913, -5.235893501146645, -4.846606252469975, -4.421768862436234, -3.9611505067303336, -3.452748229705888, -2.906597357365689, -2.3293517316431456, -1.6993592970952647, -1.0118002236232437, -0.26140866840064136, -0.0, -0.0, -0.0, -0.0, -0.0, -0.0, -0.0, -0.0, -0.0, -0.0, -0.0, -0.0, -0.0, -0.0, -0.0, -0.0, -0.0, -0.0, -0.0, -0.0, -0.0, -0.0], \"yaxis\": \"y\"}, {\"hovertemplate\": \"variable=s4<br>alphas=%{x}<br>value=%{y}<extra></extra>\", \"legendgroup\": \"s4\", \"line\": {\"color\": \"#B6E880\", \"dash\": \"solid\"}, \"mode\": \"lines\", \"name\": \"s4\", \"showlegend\": true, \"type\": \"scattergl\", \"x\": [0.1, 0.10913767146512733, 0.11911031332830067, 0.12999422244132455, 0.14187266741165966, 0.15483652565854988, 0.16898497868124573, 0.18442627085855348, 0.20127853758499395, 0.2196707090793235, 0.23974349678010773, 0.2616504698748821, 0.28555923019901075, 0.311652694492943, 0.3401304938279252, 0.3712105009066362, 0.4051304969235381, 0.44214999073744876, 0.48255220427412776, 0.5266462393484278, 0.5747694424835352, 0.6272899858196247, 0.6846096838574658, 0.7471670675868078, 0.8154407395185161, 0.8899530352885231, 0.971274019847117, 1.0600258488068823, 1.1568875283162827, 1.2626001098748565, 1.3779723598335576, 1.5038869469554101, 1.6413071953751293, 1.791284454622004, 1.9549661430912606, 2.133604526501411, 2.3285662984981954, 2.5413430367026364, 2.773562614198415, 3.027001653763463, 3.3035991201283395, 3.605471154250504, 3.934927263095849, 4.294487988789275, 4.686904192314192, 5.115178099293143, 5.582586268862695, 6.0927046613686775, 6.649435996665045, 7.257039612324216, 7.920164050192553, 8.643882620598271, 9.433732216299779, 10.295755673125127, 11.236548001387515, 12.26330684177563, 13.383887531737578, 14.606863203649889, 15.941590374559995, 17.39828052930364, 18.988078244652634, 20.723146452190296, 22.616759492228645, 24.683404670686485, 26.938893095901726, 29.400480643347105, 32.0869999737045, 35.019004614317126, 38.21892620633119, 41.71124612056521, 45.5226827550731, 49.68239594734388, 54.222210065015865, 59.17685748188825, 64.58424430196978, 70.48574036451903, 76.92649574879147, 83.95578619995112, 91.62739011886741, 100.0], \"xaxis\": \"x\", \"y\": [4.107215710464329, 3.8710861547015587, 3.767021199584644, 3.676510719076078, 3.5801737921645627, 3.449316853710886, 3.328776667900441, 3.2009828298858394, 3.0605033539504807, 2.9035121761719385, 2.7335782982974406, 2.5580820271178166, 2.3669561505246253, 2.045301217911501, 1.6350757652215484, 1.190779021005379, 0.7490444074183344, 0.3964792695799667, 0.011558511738382505, 0.0, 0.0, 0.0, 0.0, 0.0, 0.0, 0.0, 0.0, 0.0, 0.0, 0.0, 0.0, 0.0, 0.0, 0.0, 0.0, 0.0, 0.0, 0.0, 0.0, 0.0, 0.0, 0.0, 0.0, 0.0, 0.0, 0.0, 0.0, 0.0, 0.0, 0.0, 0.0, 0.0, 0.0, 0.0, 0.0, 0.0, 0.0, 0.0, 0.0, 0.0, 0.0, 0.0, 0.0, 0.0, 0.0, 0.0, 0.0, 0.0, 0.0, 0.0, 0.0, 0.0, 0.0, 0.0, 0.0, 0.0, 0.0, 0.0, 0.0, 0.0], \"yaxis\": \"y\"}, {\"hovertemplate\": \"variable=s5<br>alphas=%{x}<br>value=%{y}<extra></extra>\", \"legendgroup\": \"s5\", \"line\": {\"color\": \"#FF97FF\", \"dash\": \"solid\"}, \"mode\": \"lines\", \"name\": \"s5\", \"showlegend\": true, \"type\": \"scattergl\", \"x\": [0.1, 0.10913767146512733, 0.11911031332830067, 0.12999422244132455, 0.14187266741165966, 0.15483652565854988, 0.16898497868124573, 0.18442627085855348, 0.20127853758499395, 0.2196707090793235, 0.23974349678010773, 0.2616504698748821, 0.28555923019901075, 0.311652694492943, 0.3401304938279252, 0.3712105009066362, 0.4051304969235381, 0.44214999073744876, 0.48255220427412776, 0.5266462393484278, 0.5747694424835352, 0.6272899858196247, 0.6846096838574658, 0.7471670675868078, 0.8154407395185161, 0.8899530352885231, 0.971274019847117, 1.0600258488068823, 1.1568875283162827, 1.2626001098748565, 1.3779723598335576, 1.5038869469554101, 1.6413071953751293, 1.791284454622004, 1.9549661430912606, 2.133604526501411, 2.3285662984981954, 2.5413430367026364, 2.773562614198415, 3.027001653763463, 3.3035991201283395, 3.605471154250504, 3.934927263095849, 4.294487988789275, 4.686904192314192, 5.115178099293143, 5.582586268862695, 6.0927046613686775, 6.649435996665045, 7.257039612324216, 7.920164050192553, 8.643882620598271, 9.433732216299779, 10.295755673125127, 11.236548001387515, 12.26330684177563, 13.383887531737578, 14.606863203649889, 15.941590374559995, 17.39828052930364, 18.988078244652634, 20.723146452190296, 22.616759492228645, 24.683404670686485, 26.938893095901726, 29.400480643347105, 32.0869999737045, 35.019004614317126, 38.21892620633119, 41.71124612056521, 45.5226827550731, 49.68239594734388, 54.222210065015865, 59.17685748188825, 64.58424430196978, 70.48574036451903, 76.92649574879147, 83.95578619995112, 91.62739011886741, 100.0], \"xaxis\": \"x\", \"y\": [31.31114671065305, 31.35319375883179, 31.605252020941386, 31.672849925479902, 31.75941797241407, 33.9644700024755, 33.94039984095108, 33.91417716039701, 33.88469751792385, 33.84794285467641, 33.80778719771251, 33.76423849651892, 33.717301240984646, 33.66189873021607, 33.59930807650718, 33.53133380246028, 33.457537561229486, 33.375180168609326, 33.31469483189621, 33.22812685117451, 33.10227454820845, 32.96631901076679, 32.81559002328797, 32.65078052463062, 32.41311441218388, 32.00038117623694, 31.54905520070349, 31.05765201952128, 30.51189178121955, 29.89652613588041, 29.235568496374682, 28.481506996273612, 27.657222427696748, 26.77354859985569, 25.963206587891303, 25.079618487099022, 24.1119083113355, 23.05470474827011, 22.33115009725363, 22.257801570658366, 22.17777357541291, 22.08895318988901, 21.93557935954077, 21.805690401128253, 21.663933546479004, 21.510059194999144, 21.358811431817116, 21.184668714529934, 20.946088173581433, 20.685658515721006, 20.401475849676586, 20.121718073757634, 19.80878212354117, 19.482964114964386, 19.155323809037032, 18.797744808366733, 18.40749141338688, 17.9815819718132, 17.347774394967267, 16.56931503492824, 15.719503475489233, 14.792024216068379, 13.61115991165002, 12.181844019818987, 10.622184963380498, 8.920050092584459, 7.062379729401721, 5.034961551526306, 2.822284561332396, 0.4074001160104311, 0.0, 0.0, 0.0, 0.0, 0.0, 0.0, 0.0, 0.0, 0.0, 0.0], \"yaxis\": \"y\"}, {\"hovertemplate\": \"variable=s6<br>alphas=%{x}<br>value=%{y}<extra></extra>\", \"legendgroup\": \"s6\", \"line\": {\"color\": \"#FECB52\", \"dash\": \"solid\"}, \"mode\": \"lines\", \"name\": \"s6\", \"showlegend\": true, \"type\": \"scattergl\", \"x\": [0.1, 0.10913767146512733, 0.11911031332830067, 0.12999422244132455, 0.14187266741165966, 0.15483652565854988, 0.16898497868124573, 0.18442627085855348, 0.20127853758499395, 0.2196707090793235, 0.23974349678010773, 0.2616504698748821, 0.28555923019901075, 0.311652694492943, 0.3401304938279252, 0.3712105009066362, 0.4051304969235381, 0.44214999073744876, 0.48255220427412776, 0.5266462393484278, 0.5747694424835352, 0.6272899858196247, 0.6846096838574658, 0.7471670675868078, 0.8154407395185161, 0.8899530352885231, 0.971274019847117, 1.0600258488068823, 1.1568875283162827, 1.2626001098748565, 1.3779723598335576, 1.5038869469554101, 1.6413071953751293, 1.791284454622004, 1.9549661430912606, 2.133604526501411, 2.3285662984981954, 2.5413430367026364, 2.773562614198415, 3.027001653763463, 3.3035991201283395, 3.605471154250504, 3.934927263095849, 4.294487988789275, 4.686904192314192, 5.115178099293143, 5.582586268862695, 6.0927046613686775, 6.649435996665045, 7.257039612324216, 7.920164050192553, 8.643882620598271, 9.433732216299779, 10.295755673125127, 11.236548001387515, 12.26330684177563, 13.383887531737578, 14.606863203649889, 15.941590374559995, 17.39828052930364, 18.988078244652634, 20.723146452190296, 22.616759492228645, 24.683404670686485, 26.938893095901726, 29.400480643347105, 32.0869999737045, 35.019004614317126, 38.21892620633119, 41.71124612056521, 45.5226827550731, 49.68239594734388, 54.222210065015865, 59.17685748188825, 64.58424430196978, 70.48574036451903, 76.92649574879147, 83.95578619995112, 91.62739011886741, 100.0], \"xaxis\": \"x\", \"y\": [3.296189156837362, 3.2473375213118714, 3.186550178256131, 3.117129860824102, 3.0413781883428377, 2.9598187347118343, 2.869969947528546, 2.7719079312660178, 2.6733646217472087, 2.649418310371901, 2.6232937259829834, 2.594922593120607, 2.5640283128448313, 2.535264238784936, 2.506470477807461, 2.4750861410619867, 2.446639485543555, 2.421001976741095, 2.3863481796829413, 2.3435033473978977, 2.292976883896968, 2.238190224781979, 2.178273379374817, 2.1128334573182963, 2.0476063819943704, 1.996140973073909, 1.939967537441568, 1.878833794897655, 1.81157615953526, 1.7384864503027333, 1.645045275974402, 1.542594464482101, 1.424733055917651, 1.298444980813447, 1.1824649007359262, 1.056598940674741, 0.918764939747462, 0.7681821541604822, 0.6042108150261355, 0.42536103252238067, 0.2301300709046608, 0.015902158684981377, 0.0, 0.0, 0.0, 0.0, 0.0, 0.0, 0.0, 0.0, 0.0, 0.0, 0.0, 0.0, 0.0, 0.0, 0.0, 0.0, 0.0, 0.0, 0.0, 0.0, 0.0, 0.0, 0.0, 0.0, 0.0, 0.0, 0.0, 0.0, 0.0, 0.0, 0.0, 0.0, 0.0, 0.0, 0.0, 0.0, 0.0, 0.0], \"yaxis\": \"y\"}, {\"hovertemplate\": \"variable=age^2<br>alphas=%{x}<br>value=%{y}<extra></extra>\", \"legendgroup\": \"age^2\", \"line\": {\"color\": \"#636efa\", \"dash\": \"solid\"}, \"mode\": \"lines\", \"name\": \"age^2\", \"showlegend\": true, \"type\": \"scattergl\", \"x\": [0.1, 0.10913767146512733, 0.11911031332830067, 0.12999422244132455, 0.14187266741165966, 0.15483652565854988, 0.16898497868124573, 0.18442627085855348, 0.20127853758499395, 0.2196707090793235, 0.23974349678010773, 0.2616504698748821, 0.28555923019901075, 0.311652694492943, 0.3401304938279252, 0.3712105009066362, 0.4051304969235381, 0.44214999073744876, 0.48255220427412776, 0.5266462393484278, 0.5747694424835352, 0.6272899858196247, 0.6846096838574658, 0.7471670675868078, 0.8154407395185161, 0.8899530352885231, 0.971274019847117, 1.0600258488068823, 1.1568875283162827, 1.2626001098748565, 1.3779723598335576, 1.5038869469554101, 1.6413071953751293, 1.791284454622004, 1.9549661430912606, 2.133604526501411, 2.3285662984981954, 2.5413430367026364, 2.773562614198415, 3.027001653763463, 3.3035991201283395, 3.605471154250504, 3.934927263095849, 4.294487988789275, 4.686904192314192, 5.115178099293143, 5.582586268862695, 6.0927046613686775, 6.649435996665045, 7.257039612324216, 7.920164050192553, 8.643882620598271, 9.433732216299779, 10.295755673125127, 11.236548001387515, 12.26330684177563, 13.383887531737578, 14.606863203649889, 15.941590374559995, 17.39828052930364, 18.988078244652634, 20.723146452190296, 22.616759492228645, 24.683404670686485, 26.938893095901726, 29.400480643347105, 32.0869999737045, 35.019004614317126, 38.21892620633119, 41.71124612056521, 45.5226827550731, 49.68239594734388, 54.222210065015865, 59.17685748188825, 64.58424430196978, 70.48574036451903, 76.92649574879147, 83.95578619995112, 91.62739011886741, 100.0], \"xaxis\": \"x\", \"y\": [4.864925906734182, 4.868591968930052, 4.8660395132709295, 4.860584245649558, 4.8546486676670115, 4.846921675432374, 4.839954198950615, 4.832545548409072, 4.824489310027524, 4.816612862083799, 4.8079860628390065, 4.7986156521410495, 4.788341864591935, 4.783184348146904, 4.780703093751222, 4.7780081948411555, 4.7706912741911935, 4.749281635667887, 4.7255063603833944, 4.702130537740725, 4.6773144809419005, 4.649962201729306, 4.620076430743405, 4.5874803715378265, 4.548588633181762, 4.498293302019288, 4.443557628216739, 4.384515962170732, 4.321176730031878, 4.26011689254679, 4.185673235125381, 4.030681194097449, 3.8666172750224366, 3.68788170775977, 3.4998337801822235, 3.296035493153773, 3.073683206901664, 2.8310568586535, 2.5697656723604356, 2.290891709348475, 1.9865530257991086, 1.653796509478148, 1.3004466349037027, 0.8970175091249986, 0.4567228944561498, 0.0, 0.0, 0.0, 0.0, 0.0, 0.0, 0.0, 0.0, 0.0, 0.0, 0.0, 0.0, 0.0, 0.0, 0.0, 0.0, 0.0, 0.0, 0.0, 0.0, 0.0, 0.0, 0.0, -0.0, -0.0, -0.0, -0.0, -0.0, -0.0, -0.0, -0.0, -0.0, -0.0, -0.0, -0.0], \"yaxis\": \"y\"}, {\"hovertemplate\": \"variable=sex^2<br>alphas=%{x}<br>value=%{y}<extra></extra>\", \"legendgroup\": \"sex^2\", \"line\": {\"color\": \"#EF553B\", \"dash\": \"solid\"}, \"mode\": \"lines\", \"name\": \"sex^2\", \"showlegend\": true, \"type\": \"scattergl\", \"x\": [0.1, 0.10913767146512733, 0.11911031332830067, 0.12999422244132455, 0.14187266741165966, 0.15483652565854988, 0.16898497868124573, 0.18442627085855348, 0.20127853758499395, 0.2196707090793235, 0.23974349678010773, 0.2616504698748821, 0.28555923019901075, 0.311652694492943, 0.3401304938279252, 0.3712105009066362, 0.4051304969235381, 0.44214999073744876, 0.48255220427412776, 0.5266462393484278, 0.5747694424835352, 0.6272899858196247, 0.6846096838574658, 0.7471670675868078, 0.8154407395185161, 0.8899530352885231, 0.971274019847117, 1.0600258488068823, 1.1568875283162827, 1.2626001098748565, 1.3779723598335576, 1.5038869469554101, 1.6413071953751293, 1.791284454622004, 1.9549661430912606, 2.133604526501411, 2.3285662984981954, 2.5413430367026364, 2.773562614198415, 3.027001653763463, 3.3035991201283395, 3.605471154250504, 3.934927263095849, 4.294487988789275, 4.686904192314192, 5.115178099293143, 5.582586268862695, 6.0927046613686775, 6.649435996665045, 7.257039612324216, 7.920164050192553, 8.643882620598271, 9.433732216299779, 10.295755673125127, 11.236548001387515, 12.26330684177563, 13.383887531737578, 14.606863203649889, 15.941590374559995, 17.39828052930364, 18.988078244652634, 20.723146452190296, 22.616759492228645, 24.683404670686485, 26.938893095901726, 29.400480643347105, 32.0869999737045, 35.019004614317126, 38.21892620633119, 41.71124612056521, 45.5226827550731, 49.68239594734388, 54.222210065015865, 59.17685748188825, 64.58424430196978, 70.48574036451903, 76.92649574879147, 83.95578619995112, 91.62739011886741, 100.0], \"xaxis\": \"x\", \"y\": [-11.35686513267101, -11.258056968758046, -11.074891816661367, -10.875022515918678, -10.700085237089588, -10.48228823336063, -10.334573919299233, -10.045408965913643, -9.886047094924823, -9.673599057698501, -9.449359078877519, -9.334754210852251, -9.22850419122003, -8.99084780412153, -8.809458894379864, -8.653835589227558, -8.475223936480292, -8.364939929685205, -8.27234637010407, -8.195319714030113, -8.124885666906547, -8.060131723657994, -7.956209832381994, -7.842690322580005, -7.710813993592409, -7.619014606262261, -7.508778865877981, -7.353965067662458, -7.209832567712144, -6.954920459634547, -6.670083306424581, -6.340545918117629, -6.038006984530303, -5.724112673053003, -5.386149447476307, -4.998121920180491, -4.600747764397016, -4.182760946003419, -3.7739768325588114, -3.438693146600833, -3.0681415827459153, -2.610751566795891, -2.1685213201595075, -1.6988334212115044, -1.1714363427107808, -0.5995630119163884, -0.0, -0.0, -0.0, -0.0, -0.0, -0.0, -0.0, -0.0, -0.0, -0.0, -0.0, -0.0, -0.0, -0.0, -0.0, -0.0, -0.0, 0.0, 0.0, 0.0, 0.0, 0.0, 0.0, 0.0, 0.0, 0.0, 0.0, 0.0, 0.0, 0.0, 0.0, 0.0, 0.0, 0.0], \"yaxis\": \"y\"}, {\"hovertemplate\": \"variable=bmi^2<br>alphas=%{x}<br>value=%{y}<extra></extra>\", \"legendgroup\": \"bmi^2\", \"line\": {\"color\": \"#00cc96\", \"dash\": \"solid\"}, \"mode\": \"lines\", \"name\": \"bmi^2\", \"showlegend\": true, \"type\": \"scattergl\", \"x\": [0.1, 0.10913767146512733, 0.11911031332830067, 0.12999422244132455, 0.14187266741165966, 0.15483652565854988, 0.16898497868124573, 0.18442627085855348, 0.20127853758499395, 0.2196707090793235, 0.23974349678010773, 0.2616504698748821, 0.28555923019901075, 0.311652694492943, 0.3401304938279252, 0.3712105009066362, 0.4051304969235381, 0.44214999073744876, 0.48255220427412776, 0.5266462393484278, 0.5747694424835352, 0.6272899858196247, 0.6846096838574658, 0.7471670675868078, 0.8154407395185161, 0.8899530352885231, 0.971274019847117, 1.0600258488068823, 1.1568875283162827, 1.2626001098748565, 1.3779723598335576, 1.5038869469554101, 1.6413071953751293, 1.791284454622004, 1.9549661430912606, 2.133604526501411, 2.3285662984981954, 2.5413430367026364, 2.773562614198415, 3.027001653763463, 3.3035991201283395, 3.605471154250504, 3.934927263095849, 4.294487988789275, 4.686904192314192, 5.115178099293143, 5.582586268862695, 6.0927046613686775, 6.649435996665045, 7.257039612324216, 7.920164050192553, 8.643882620598271, 9.433732216299779, 10.295755673125127, 11.236548001387515, 12.26330684177563, 13.383887531737578, 14.606863203649889, 15.941590374559995, 17.39828052930364, 18.988078244652634, 20.723146452190296, 22.616759492228645, 24.683404670686485, 26.938893095901726, 29.400480643347105, 32.0869999737045, 35.019004614317126, 38.21892620633119, 41.71124612056521, 45.5226827550731, 49.68239594734388, 54.222210065015865, 59.17685748188825, 64.58424430196978, 70.48574036451903, 76.92649574879147, 83.95578619995112, 91.62739011886741, 100.0], \"xaxis\": \"x\", \"y\": [4.153248996563455, 4.159386253414011, 4.165162825541534, 4.171279690278582, 4.177969077642347, 4.177436467545659, 4.184831784121719, 4.192588925687117, 4.2008614743261985, 4.207204373623037, 4.21424657132895, 4.2221023376222355, 4.230931503761578, 4.241831560979842, 4.253596853015486, 4.266422138046224, 4.2802545382863375, 4.28958820429545, 4.296569928102071, 4.311852939180629, 4.336831942862747, 4.364719373811569, 4.394880702851962, 4.427751101131643, 4.452529102831477, 4.443573344900572, 4.43283483707639, 4.417833933263054, 4.4066052186604185, 4.38492339353001, 4.339294916297979, 4.333314083616431, 4.339811318746016, 4.341194842652429, 4.253520223188868, 4.141821117375688, 4.019451568410223, 3.885664867387534, 3.752122266452433, 3.6253379321515182, 3.4869011827952066, 3.3275689185358965, 3.1446611531270645, 2.902937924758647, 2.6391336380324444, 2.3495592700801207, 1.9930690944942264, 1.5971294075304354, 1.128521395783145, 0.616851878219171, 0.05864563476630152, 0.0, 0.0, 0.0, 0.0, 0.0, 0.0, 0.0, 0.0, 0.0, 0.0, 0.0, 0.0, 0.0, 0.0, 0.0, 0.0, 0.0, 0.0, 0.0, 0.0, 0.0, 0.0, 0.0, 0.0, 0.0, 0.0, 0.0, 0.0, 0.0], \"yaxis\": \"y\"}, {\"hovertemplate\": \"variable=bp^2<br>alphas=%{x}<br>value=%{y}<extra></extra>\", \"legendgroup\": \"bp^2\", \"line\": {\"color\": \"#ab63fa\", \"dash\": \"solid\"}, \"mode\": \"lines\", \"name\": \"bp^2\", \"showlegend\": true, \"type\": \"scattergl\", \"x\": [0.1, 0.10913767146512733, 0.11911031332830067, 0.12999422244132455, 0.14187266741165966, 0.15483652565854988, 0.16898497868124573, 0.18442627085855348, 0.20127853758499395, 0.2196707090793235, 0.23974349678010773, 0.2616504698748821, 0.28555923019901075, 0.311652694492943, 0.3401304938279252, 0.3712105009066362, 0.4051304969235381, 0.44214999073744876, 0.48255220427412776, 0.5266462393484278, 0.5747694424835352, 0.6272899858196247, 0.6846096838574658, 0.7471670675868078, 0.8154407395185161, 0.8899530352885231, 0.971274019847117, 1.0600258488068823, 1.1568875283162827, 1.2626001098748565, 1.3779723598335576, 1.5038869469554101, 1.6413071953751293, 1.791284454622004, 1.9549661430912606, 2.133604526501411, 2.3285662984981954, 2.5413430367026364, 2.773562614198415, 3.027001653763463, 3.3035991201283395, 3.605471154250504, 3.934927263095849, 4.294487988789275, 4.686904192314192, 5.115178099293143, 5.582586268862695, 6.0927046613686775, 6.649435996665045, 7.257039612324216, 7.920164050192553, 8.643882620598271, 9.433732216299779, 10.295755673125127, 11.236548001387515, 12.26330684177563, 13.383887531737578, 14.606863203649889, 15.941590374559995, 17.39828052930364, 18.988078244652634, 20.723146452190296, 22.616759492228645, 24.683404670686485, 26.938893095901726, 29.400480643347105, 32.0869999737045, 35.019004614317126, 38.21892620633119, 41.71124612056521, 45.5226827550731, 49.68239594734388, 54.222210065015865, 59.17685748188825, 64.58424430196978, 70.48574036451903, 76.92649574879147, 83.95578619995112, 91.62739011886741, 100.0], \"xaxis\": \"x\", \"y\": [1.1107313007161572, 1.1194657354244095, 1.1248288426641266, 1.1289174606292338, 1.1333968347626184, 1.137550787061739, 1.142627861048861, 1.148251120825479, 1.15383416530995, 1.1543566917294672, 1.1549275856733836, 1.1555769281588113, 1.1563051009453273, 1.161198950416581, 1.1685834085440336, 1.1766358117494706, 1.1822435508883766, 1.1745933055690094, 1.1627609952872904, 1.1495233605592343, 1.1329947540334486, 1.1151349201812482, 1.0956148130128631, 1.074300273607856, 1.0501509016863297, 1.0200171943205194, 0.98703140484588, 0.950997004522926, 0.9109767518109343, 0.864762328075108, 0.8172027420491781, 0.7657767651519933, 0.7086343834645369, 0.645522758619118, 0.5757210999696812, 0.5011855909695747, 0.4202714832517125, 0.3317863963579593, 0.24234270557082369, 0.15208269253523785, 0.05346367113234433, 0.0, 0.0, 0.0, 0.0, 0.0, 0.0, 0.0, 0.0, 0.0, 0.0, 0.0, 0.0, 0.0, 0.0, 0.0, 0.0, 0.0, 0.0, 0.0, 0.0, 0.0, 0.0, 0.0, 0.0, 0.0, 0.0, 0.0, 0.0, 0.0, 0.0, 0.0, 0.0, 0.0, 0.0, 0.0, 0.0, 0.0, 0.0, 0.0], \"yaxis\": \"y\"}, {\"hovertemplate\": \"variable=s1^2<br>alphas=%{x}<br>value=%{y}<extra></extra>\", \"legendgroup\": \"s1^2\", \"line\": {\"color\": \"#FFA15A\", \"dash\": \"solid\"}, \"mode\": \"lines\", \"name\": \"s1^2\", \"showlegend\": true, \"type\": \"scattergl\", \"x\": [0.1, 0.10913767146512733, 0.11911031332830067, 0.12999422244132455, 0.14187266741165966, 0.15483652565854988, 0.16898497868124573, 0.18442627085855348, 0.20127853758499395, 0.2196707090793235, 0.23974349678010773, 0.2616504698748821, 0.28555923019901075, 0.311652694492943, 0.3401304938279252, 0.3712105009066362, 0.4051304969235381, 0.44214999073744876, 0.48255220427412776, 0.5266462393484278, 0.5747694424835352, 0.6272899858196247, 0.6846096838574658, 0.7471670675868078, 0.8154407395185161, 0.8899530352885231, 0.971274019847117, 1.0600258488068823, 1.1568875283162827, 1.2626001098748565, 1.3779723598335576, 1.5038869469554101, 1.6413071953751293, 1.791284454622004, 1.9549661430912606, 2.133604526501411, 2.3285662984981954, 2.5413430367026364, 2.773562614198415, 3.027001653763463, 3.3035991201283395, 3.605471154250504, 3.934927263095849, 4.294487988789275, 4.686904192314192, 5.115178099293143, 5.582586268862695, 6.0927046613686775, 6.649435996665045, 7.257039612324216, 7.920164050192553, 8.643882620598271, 9.433732216299779, 10.295755673125127, 11.236548001387515, 12.26330684177563, 13.383887531737578, 14.606863203649889, 15.941590374559995, 17.39828052930364, 18.988078244652634, 20.723146452190296, 22.616759492228645, 24.683404670686485, 26.938893095901726, 29.400480643347105, 32.0869999737045, 35.019004614317126, 38.21892620633119, 41.71124612056521, 45.5226827550731, 49.68239594734388, 54.222210065015865, 59.17685748188825, 64.58424430196978, 70.48574036451903, 76.92649574879147, 83.95578619995112, 91.62739011886741, 100.0], \"xaxis\": \"x\", \"y\": [2.742770375821469, 2.63125163593149, 2.5369395163623145, 2.44166418123642, 2.3379056041727875, 2.2113288570159733, 2.087009640026207, 1.951065662632837, 1.8031113316153735, 1.6423417640418778, 1.4672383213349696, 1.2775448076965723, 1.0706337267336798, 0.8215889156577396, 0.538388168526793, 0.22972111444355064, 0.0, 0.0, 0.0, 0.0, 0.0, 0.0, 0.0, 0.0, 0.0, 0.0, 0.0, 0.0, 0.0, 0.0, 0.0, 0.0, 0.0, 0.0, 0.0, 0.0, 0.0, 0.0, -0.0, -0.0, -0.0, -0.0, -0.0, -0.0, -0.0, -0.0, -0.0, -0.0, -0.0, -0.0, -0.0, -0.0, -0.0, -0.0, -0.0, -0.0, -0.0, -0.0, -0.0, -0.0, 0.0, 0.0, 0.0, 0.0, 0.0, 0.0, 0.0, 0.0, 0.0, 0.0, 0.0, 0.0, 0.0, 0.0, 0.0, 0.0, 0.0, 0.0, 0.0, 0.0], \"yaxis\": \"y\"}, {\"hovertemplate\": \"variable=s2^2<br>alphas=%{x}<br>value=%{y}<extra></extra>\", \"legendgroup\": \"s2^2\", \"line\": {\"color\": \"#19d3f3\", \"dash\": \"solid\"}, \"mode\": \"lines\", \"name\": \"s2^2\", \"showlegend\": true, \"type\": \"scattergl\", \"x\": [0.1, 0.10913767146512733, 0.11911031332830067, 0.12999422244132455, 0.14187266741165966, 0.15483652565854988, 0.16898497868124573, 0.18442627085855348, 0.20127853758499395, 0.2196707090793235, 0.23974349678010773, 0.2616504698748821, 0.28555923019901075, 0.311652694492943, 0.3401304938279252, 0.3712105009066362, 0.4051304969235381, 0.44214999073744876, 0.48255220427412776, 0.5266462393484278, 0.5747694424835352, 0.6272899858196247, 0.6846096838574658, 0.7471670675868078, 0.8154407395185161, 0.8899530352885231, 0.971274019847117, 1.0600258488068823, 1.1568875283162827, 1.2626001098748565, 1.3779723598335576, 1.5038869469554101, 1.6413071953751293, 1.791284454622004, 1.9549661430912606, 2.133604526501411, 2.3285662984981954, 2.5413430367026364, 2.773562614198415, 3.027001653763463, 3.3035991201283395, 3.605471154250504, 3.934927263095849, 4.294487988789275, 4.686904192314192, 5.115178099293143, 5.582586268862695, 6.0927046613686775, 6.649435996665045, 7.257039612324216, 7.920164050192553, 8.643882620598271, 9.433732216299779, 10.295755673125127, 11.236548001387515, 12.26330684177563, 13.383887531737578, 14.606863203649889, 15.941590374559995, 17.39828052930364, 18.988078244652634, 20.723146452190296, 22.616759492228645, 24.683404670686485, 26.938893095901726, 29.400480643347105, 32.0869999737045, 35.019004614317126, 38.21892620633119, 41.71124612056521, 45.5226827550731, 49.68239594734388, 54.222210065015865, 59.17685748188825, 64.58424430196978, 70.48574036451903, 76.92649574879147, 83.95578619995112, 91.62739011886741, 100.0], \"xaxis\": \"x\", \"y\": [-3.5715001667706736, -3.4281049649619284, -3.3062305073107643, -3.1860344056789605, -3.0548895421903564, -2.9056137756657527, -2.7494201836722465, -2.5793105012730364, -2.393970452773637, -2.1943269200752518, -1.9765752731053736, -1.7396979519078437, -1.4809294211027175, -1.1666878432378982, -0.8083205678797565, -0.41746506255049276, -0.09032511456591687, -0.0, -0.0, -0.0, -0.0, -0.0, -0.0, -0.0, -0.0, -0.0, -0.0, -0.0, -0.0, -0.0, -0.0, -0.0, -0.0, -0.0, -0.0, -0.0, -0.0, -0.0, -0.0, -0.0, -0.0, -0.0, -0.0, -0.0, -0.0, -0.0, -0.0, -0.0, -0.0, -0.0, -0.0, -0.0, -0.0, -0.0, -0.0, -0.0, -0.0, -0.0, -0.0, -0.0, -0.0, -0.0, -0.0, -0.0, -0.0, -0.0, -0.0, -0.0, 0.0, 0.0, 0.0, 0.0, 0.0, 0.0, 0.0, 0.0, 0.0, 0.0, 0.0, 0.0], \"yaxis\": \"y\"}, {\"hovertemplate\": \"variable=s3^2<br>alphas=%{x}<br>value=%{y}<extra></extra>\", \"legendgroup\": \"s3^2\", \"line\": {\"color\": \"#FF6692\", \"dash\": \"solid\"}, \"mode\": \"lines\", \"name\": \"s3^2\", \"showlegend\": true, \"type\": \"scattergl\", \"x\": [0.1, 0.10913767146512733, 0.11911031332830067, 0.12999422244132455, 0.14187266741165966, 0.15483652565854988, 0.16898497868124573, 0.18442627085855348, 0.20127853758499395, 0.2196707090793235, 0.23974349678010773, 0.2616504698748821, 0.28555923019901075, 0.311652694492943, 0.3401304938279252, 0.3712105009066362, 0.4051304969235381, 0.44214999073744876, 0.48255220427412776, 0.5266462393484278, 0.5747694424835352, 0.6272899858196247, 0.6846096838574658, 0.7471670675868078, 0.8154407395185161, 0.8899530352885231, 0.971274019847117, 1.0600258488068823, 1.1568875283162827, 1.2626001098748565, 1.3779723598335576, 1.5038869469554101, 1.6413071953751293, 1.791284454622004, 1.9549661430912606, 2.133604526501411, 2.3285662984981954, 2.5413430367026364, 2.773562614198415, 3.027001653763463, 3.3035991201283395, 3.605471154250504, 3.934927263095849, 4.294487988789275, 4.686904192314192, 5.115178099293143, 5.582586268862695, 6.0927046613686775, 6.649435996665045, 7.257039612324216, 7.920164050192553, 8.643882620598271, 9.433732216299779, 10.295755673125127, 11.236548001387515, 12.26330684177563, 13.383887531737578, 14.606863203649889, 15.941590374559995, 17.39828052930364, 18.988078244652634, 20.723146452190296, 22.616759492228645, 24.683404670686485, 26.938893095901726, 29.400480643347105, 32.0869999737045, 35.019004614317126, 38.21892620633119, 41.71124612056521, 45.5226827550731, 49.68239594734388, 54.222210065015865, 59.17685748188825, 64.58424430196978, 70.48574036451903, 76.92649574879147, 83.95578619995112, 91.62739011886741, 100.0], \"xaxis\": \"x\", \"y\": [-0.2500214317100623, -0.054517433224201044, -0.0, -0.0, -0.0, -0.0, 0.0, 0.0, 0.0, 0.0, 0.0, 0.0, 0.0, 0.1424273337056182, 0.3720987831421569, 0.6221617288942839, 0.8735176072044111, 0.97020680756339, 0.9652948525493045, 0.8912011260737602, 0.8057049221679429, 0.7120060254583855, 0.6103634529702625, 0.4995306846488502, 0.3898548541765464, 0.2982863748658168, 0.1984184030930558, 0.08908338845947375, 0.0, 0.0, 0.0, 0.0, 0.0, 0.0, 0.0, 0.0, 0.0, 0.0, 0.0, 0.0, 0.0, -0.0, -0.0, -0.0, -0.0, -0.0, -0.0, -0.0, -0.0, -0.0, -0.0, -0.0, -0.0, -0.0, -0.0, -0.0, -0.0, -0.0, -0.0, -0.0, -0.0, -0.0, -0.0, -0.0, -0.0, -0.0, -0.0, -0.0, -0.0, -0.0, -0.0, -0.0, -0.0, -0.0, -0.0, -0.0, -0.0, -0.0, -0.0, -0.0], \"yaxis\": \"y\"}, {\"hovertemplate\": \"variable=s4^2<br>alphas=%{x}<br>value=%{y}<extra></extra>\", \"legendgroup\": \"s4^2\", \"line\": {\"color\": \"#B6E880\", \"dash\": \"solid\"}, \"mode\": \"lines\", \"name\": \"s4^2\", \"showlegend\": true, \"type\": \"scattergl\", \"x\": [0.1, 0.10913767146512733, 0.11911031332830067, 0.12999422244132455, 0.14187266741165966, 0.15483652565854988, 0.16898497868124573, 0.18442627085855348, 0.20127853758499395, 0.2196707090793235, 0.23974349678010773, 0.2616504698748821, 0.28555923019901075, 0.311652694492943, 0.3401304938279252, 0.3712105009066362, 0.4051304969235381, 0.44214999073744876, 0.48255220427412776, 0.5266462393484278, 0.5747694424835352, 0.6272899858196247, 0.6846096838574658, 0.7471670675868078, 0.8154407395185161, 0.8899530352885231, 0.971274019847117, 1.0600258488068823, 1.1568875283162827, 1.2626001098748565, 1.3779723598335576, 1.5038869469554101, 1.6413071953751293, 1.791284454622004, 1.9549661430912606, 2.133604526501411, 2.3285662984981954, 2.5413430367026364, 2.773562614198415, 3.027001653763463, 3.3035991201283395, 3.605471154250504, 3.934927263095849, 4.294487988789275, 4.686904192314192, 5.115178099293143, 5.582586268862695, 6.0927046613686775, 6.649435996665045, 7.257039612324216, 7.920164050192553, 8.643882620598271, 9.433732216299779, 10.295755673125127, 11.236548001387515, 12.26330684177563, 13.383887531737578, 14.606863203649889, 15.941590374559995, 17.39828052930364, 18.988078244652634, 20.723146452190296, 22.616759492228645, 24.683404670686485, 26.938893095901726, 29.400480643347105, 32.0869999737045, 35.019004614317126, 38.21892620633119, 41.71124612056521, 45.5226827550731, 49.68239594734388, 54.222210065015865, 59.17685748188825, 64.58424430196978, 70.48574036451903, 76.92649574879147, 83.95578619995112, 91.62739011886741, 100.0], \"xaxis\": \"x\", \"y\": [3.0199380422679836, 2.9497457449427036, 2.898376309812167, 2.8606667007868256, 2.8188977516453706, 2.77553571541464, 2.7274747599170674, 2.6740876648054743, 2.6160460208868868, 2.5530561414199457, 2.4839816712705445, 2.406255684548281, 2.321301720639948, 2.199503115404816, 2.051754668257311, 1.8899266930630167, 1.7261932394032393, 1.61872229196481, 1.5685226822109877, 1.4516537485524552, 1.3357514668267076, 1.210469250991521, 1.0732522829228552, 0.9233079211650039, 0.7739575456862393, 0.6562086681471347, 0.5278640687125727, 0.38757141485031005, 0.21959171291828025, 0.0, 0.0, 0.0, 0.0, 0.0, 0.0, 0.0, 0.0, 0.0, 0.0, 0.0, 0.0, 0.0, 0.0, 0.0, 0.0, 0.0, 0.0, 0.0, 0.0, 0.0, 0.0, 0.0, 0.0, 0.0, 0.0, 0.0, 0.0, 0.0, 0.0, 0.0, 0.0, 0.0, 0.0, 0.0, 0.0, 0.0, 0.0, 0.0, 0.0, 0.0, 0.0, 0.0, 0.0, 0.0, 0.0, 0.0, 0.0, 0.0, 0.0, 0.0], \"yaxis\": \"y\"}, {\"hovertemplate\": \"variable=s5^2<br>alphas=%{x}<br>value=%{y}<extra></extra>\", \"legendgroup\": \"s5^2\", \"line\": {\"color\": \"#FF97FF\", \"dash\": \"solid\"}, \"mode\": \"lines\", \"name\": \"s5^2\", \"showlegend\": true, \"type\": \"scattergl\", \"x\": [0.1, 0.10913767146512733, 0.11911031332830067, 0.12999422244132455, 0.14187266741165966, 0.15483652565854988, 0.16898497868124573, 0.18442627085855348, 0.20127853758499395, 0.2196707090793235, 0.23974349678010773, 0.2616504698748821, 0.28555923019901075, 0.311652694492943, 0.3401304938279252, 0.3712105009066362, 0.4051304969235381, 0.44214999073744876, 0.48255220427412776, 0.5266462393484278, 0.5747694424835352, 0.6272899858196247, 0.6846096838574658, 0.7471670675868078, 0.8154407395185161, 0.8899530352885231, 0.971274019847117, 1.0600258488068823, 1.1568875283162827, 1.2626001098748565, 1.3779723598335576, 1.5038869469554101, 1.6413071953751293, 1.791284454622004, 1.9549661430912606, 2.133604526501411, 2.3285662984981954, 2.5413430367026364, 2.773562614198415, 3.027001653763463, 3.3035991201283395, 3.605471154250504, 3.934927263095849, 4.294487988789275, 4.686904192314192, 5.115178099293143, 5.582586268862695, 6.0927046613686775, 6.649435996665045, 7.257039612324216, 7.920164050192553, 8.643882620598271, 9.433732216299779, 10.295755673125127, 11.236548001387515, 12.26330684177563, 13.383887531737578, 14.606863203649889, 15.941590374559995, 17.39828052930364, 18.988078244652634, 20.723146452190296, 22.616759492228645, 24.683404670686485, 26.938893095901726, 29.400480643347105, 32.0869999737045, 35.019004614317126, 38.21892620633119, 41.71124612056521, 45.5226827550731, 49.68239594734388, 54.222210065015865, 59.17685748188825, 64.58424430196978, 70.48574036451903, 76.92649574879147, 83.95578619995112, 91.62739011886741, 100.0], \"xaxis\": \"x\", \"y\": [-2.41005174765589, -2.344338657626199, -2.200002534846269, -2.1291433699276068, -2.0467312149813077, -1.0993908639826964, -1.0528790643759567, -1.00227653631439, -0.9469736252792187, -0.8850042079656487, -0.817425672025582, -0.7439550487148262, -0.6635901968472502, -0.5688534210184405, -0.46185182739922026, -0.34511666332771246, -0.2327150204766503, -0.14726627477905951, -0.05657051072154663, -0.0, -0.0, -0.0, -0.0, -0.0, -0.0, -0.0, -0.0, -0.0, -0.0, -0.0, -0.0, -0.0, -0.0, -0.0, -0.0, -0.0, -0.0, -0.0, -0.0, -0.0, -0.0, -0.0, -0.0, -0.0, -0.0, -0.0, -0.0, -0.0, -0.0, -0.0, 0.0, 0.0, 0.0, 0.0, 0.0, 0.0, 0.0, 0.0, 0.0, 0.0, 0.0, 0.0, 0.0, 0.0, 0.0, 0.0, 0.0, 0.0, 0.0, 0.0, 0.0, 0.0, 0.0, 0.0, 0.0, 0.0, 0.0, 0.0, 0.0, 0.0], \"yaxis\": \"y\"}, {\"hovertemplate\": \"variable=s6^2<br>alphas=%{x}<br>value=%{y}<extra></extra>\", \"legendgroup\": \"s6^2\", \"line\": {\"color\": \"#FECB52\", \"dash\": \"solid\"}, \"mode\": \"lines\", \"name\": \"s6^2\", \"showlegend\": true, \"type\": \"scattergl\", \"x\": [0.1, 0.10913767146512733, 0.11911031332830067, 0.12999422244132455, 0.14187266741165966, 0.15483652565854988, 0.16898497868124573, 0.18442627085855348, 0.20127853758499395, 0.2196707090793235, 0.23974349678010773, 0.2616504698748821, 0.28555923019901075, 0.311652694492943, 0.3401304938279252, 0.3712105009066362, 0.4051304969235381, 0.44214999073744876, 0.48255220427412776, 0.5266462393484278, 0.5747694424835352, 0.6272899858196247, 0.6846096838574658, 0.7471670675868078, 0.8154407395185161, 0.8899530352885231, 0.971274019847117, 1.0600258488068823, 1.1568875283162827, 1.2626001098748565, 1.3779723598335576, 1.5038869469554101, 1.6413071953751293, 1.791284454622004, 1.9549661430912606, 2.133604526501411, 2.3285662984981954, 2.5413430367026364, 2.773562614198415, 3.027001653763463, 3.3035991201283395, 3.605471154250504, 3.934927263095849, 4.294487988789275, 4.686904192314192, 5.115178099293143, 5.582586268862695, 6.0927046613686775, 6.649435996665045, 7.257039612324216, 7.920164050192553, 8.643882620598271, 9.433732216299779, 10.295755673125127, 11.236548001387515, 12.26330684177563, 13.383887531737578, 14.606863203649889, 15.941590374559995, 17.39828052930364, 18.988078244652634, 20.723146452190296, 22.616759492228645, 24.683404670686485, 26.938893095901726, 29.400480643347105, 32.0869999737045, 35.019004614317126, 38.21892620633119, 41.71124612056521, 45.5226827550731, 49.68239594734388, 54.222210065015865, 59.17685748188825, 64.58424430196978, 70.48574036451903, 76.92649574879147, 83.95578619995112, 91.62739011886741, 100.0], \"xaxis\": \"x\", \"y\": [7.096604753381088, 7.076528208969134, 7.052262260169214, 7.025990679387771, 6.997250963621637, 6.963443761452415, 6.92969723648948, 6.892898119891749, 6.854414240301507, 6.828963006996322, 6.801156133835671, 6.770709653710604, 6.73741341584055, 6.701945951707622, 6.663850973279383, 6.622236808110357, 6.577270703075648, 6.531494238392783, 6.481326589710529, 6.4264871933991765, 6.373287167790853, 6.315131019710045, 6.251781443766287, 6.182662960671147, 6.113221766614803, 6.055693198012251, 5.992934196227471, 5.9247043495771115, 5.851482680014652, 5.776343266955643, 5.671938556132524, 5.551189158639039, 5.420004497708865, 5.276883287313165, 5.124809824492357, 4.9601641096116245, 4.780518636053206, 4.584444256468916, 4.388115179595804, 4.202966023920726, 4.000899615084488, 3.775255287216005, 3.4989694331573733, 3.200352105482922, 2.874448766740081, 2.5192509153728198, 2.1411312557991296, 1.7250922344276447, 1.25299704155451, 0.7377302412684871, 0.17540977498968627, 0.0, 0.0, 0.0, 0.0, 0.0, 0.0, 0.0, 0.0, 0.0, 0.0, 0.0, 0.0, 0.0, 0.0, 0.0, 0.0, 0.0, 0.0, 0.0, 0.0, 0.0, 0.0, 0.0, 0.0, 0.0, 0.0, 0.0, 0.0, 0.0], \"yaxis\": \"y\"}, {\"hovertemplate\": \"variable=age^3<br>alphas=%{x}<br>value=%{y}<extra></extra>\", \"legendgroup\": \"age^3\", \"line\": {\"color\": \"#636efa\", \"dash\": \"solid\"}, \"mode\": \"lines\", \"name\": \"age^3\", \"showlegend\": true, \"type\": \"scattergl\", \"x\": [0.1, 0.10913767146512733, 0.11911031332830067, 0.12999422244132455, 0.14187266741165966, 0.15483652565854988, 0.16898497868124573, 0.18442627085855348, 0.20127853758499395, 0.2196707090793235, 0.23974349678010773, 0.2616504698748821, 0.28555923019901075, 0.311652694492943, 0.3401304938279252, 0.3712105009066362, 0.4051304969235381, 0.44214999073744876, 0.48255220427412776, 0.5266462393484278, 0.5747694424835352, 0.6272899858196247, 0.6846096838574658, 0.7471670675868078, 0.8154407395185161, 0.8899530352885231, 0.971274019847117, 1.0600258488068823, 1.1568875283162827, 1.2626001098748565, 1.3779723598335576, 1.5038869469554101, 1.6413071953751293, 1.791284454622004, 1.9549661430912606, 2.133604526501411, 2.3285662984981954, 2.5413430367026364, 2.773562614198415, 3.027001653763463, 3.3035991201283395, 3.605471154250504, 3.934927263095849, 4.294487988789275, 4.686904192314192, 5.115178099293143, 5.582586268862695, 6.0927046613686775, 6.649435996665045, 7.257039612324216, 7.920164050192553, 8.643882620598271, 9.433732216299779, 10.295755673125127, 11.236548001387515, 12.26330684177563, 13.383887531737578, 14.606863203649889, 15.941590374559995, 17.39828052930364, 18.988078244652634, 20.723146452190296, 22.616759492228645, 24.683404670686485, 26.938893095901726, 29.400480643347105, 32.0869999737045, 35.019004614317126, 38.21892620633119, 41.71124612056521, 45.5226827550731, 49.68239594734388, 54.222210065015865, 59.17685748188825, 64.58424430196978, 70.48574036451903, 76.92649574879147, 83.95578619995112, 91.62739011886741, 100.0], \"xaxis\": \"x\", \"y\": [-10.297577358448164, -10.195995762839733, -10.093060029919535, -9.982893733668437, -9.862709026262468, -9.733069920285116, -9.589244731790021, -9.432624849410782, -9.262958080430023, -9.088379334827804, -8.898048912616744, -8.691313794400465, -8.465276886277756, -8.211146755768022, -7.9303095440338, -7.623924893979675, -7.297614938114658, -6.965085692578011, -6.607509938548292, -6.242711893141484, -5.854961007561389, -5.430521792636752, -4.968951588006398, -4.465496349047667, -3.9373309031168016, -3.410235844076992, -2.8342982424364433, -2.203494351431432, -1.5216237457785102, -0.7734696468633779, -0.0, -0.0, -0.0, -0.0, -0.0, -0.0, -0.0, -0.0, -0.0, -0.0, -0.0, -0.0, -0.0, -0.0, -0.0, -0.0, -0.0, -0.0, -0.0, -0.0, -0.0, -0.0, -0.0, -0.0, -0.0, 0.0, 0.0, 0.0, 0.0, 0.0, 0.0, 0.0, 0.0, 0.0, 0.0, 0.0, 0.0, 0.0, 0.0, 0.0, 0.0, 0.0, 0.0, 0.0, 0.0, 0.0, 0.0, 0.0, 0.0, 0.0], \"yaxis\": \"y\"}, {\"hovertemplate\": \"variable=sex^3<br>alphas=%{x}<br>value=%{y}<extra></extra>\", \"legendgroup\": \"sex^3\", \"line\": {\"color\": \"#EF553B\", \"dash\": \"solid\"}, \"mode\": \"lines\", \"name\": \"sex^3\", \"showlegend\": true, \"type\": \"scattergl\", \"x\": [0.1, 0.10913767146512733, 0.11911031332830067, 0.12999422244132455, 0.14187266741165966, 0.15483652565854988, 0.16898497868124573, 0.18442627085855348, 0.20127853758499395, 0.2196707090793235, 0.23974349678010773, 0.2616504698748821, 0.28555923019901075, 0.311652694492943, 0.3401304938279252, 0.3712105009066362, 0.4051304969235381, 0.44214999073744876, 0.48255220427412776, 0.5266462393484278, 0.5747694424835352, 0.6272899858196247, 0.6846096838574658, 0.7471670675868078, 0.8154407395185161, 0.8899530352885231, 0.971274019847117, 1.0600258488068823, 1.1568875283162827, 1.2626001098748565, 1.3779723598335576, 1.5038869469554101, 1.6413071953751293, 1.791284454622004, 1.9549661430912606, 2.133604526501411, 2.3285662984981954, 2.5413430367026364, 2.773562614198415, 3.027001653763463, 3.3035991201283395, 3.605471154250504, 3.934927263095849, 4.294487988789275, 4.686904192314192, 5.115178099293143, 5.582586268862695, 6.0927046613686775, 6.649435996665045, 7.257039612324216, 7.920164050192553, 8.643882620598271, 9.433732216299779, 10.295755673125127, 11.236548001387515, 12.26330684177563, 13.383887531737578, 14.606863203649889, 15.941590374559995, 17.39828052930364, 18.988078244652634, 20.723146452190296, 22.616759492228645, 24.683404670686485, 26.938893095901726, 29.400480643347105, 32.0869999737045, 35.019004614317126, 38.21892620633119, 41.71124612056521, 45.5226827550731, 49.68239594734388, 54.222210065015865, 59.17685748188825, 64.58424430196978, 70.48574036451903, 76.92649574879147, 83.95578619995112, 91.62739011886741, 100.0], \"xaxis\": \"x\", \"y\": [-0.0930093771265133, -0.11640100443468863, -0.20245522018932097, -0.24617941325043408, -0.3123494522333239, -0.38401590642069444, -0.39916404929579163, -0.548474664965426, -0.5550353210505641, -0.6302702995149566, -0.7181958460625806, -0.7261544639130478, -0.7955312445164671, -0.8787130956779535, -0.8727237357482304, -0.8661969378426377, -0.9575915975180711, -0.9751960111157856, -1.0024892340025864, -1.0298458707666132, -1.0594493522900403, -1.0873585151238234, -1.111566366809293, -1.1488574000022187, -1.190524221445695, -1.2313144137217933, -1.2752452565933556, -1.3213080278002227, -1.3720229394581076, -1.4129252840494158, -1.45823630696958, -1.387388775726705, -1.3094177022605378, -1.239215196408321, -1.2096753015973527, -1.1837417067933533, -1.150595239523603, -1.1125797001428854, -1.0623138794746791, -1.005386208651295, -0.9432694389736004, -0.8716097261305247, -0.7895956070386233, -0.7023850119997088, -0.6220133883436133, -0.5434368911391477, -0.3925865663653692, -0.0, -0.0, -0.0, -0.0, -0.0, -0.0, -0.0, -0.0, -0.0, -0.0, -0.0, -0.0, -0.0, -0.0, -0.0, -0.0, 0.0, 0.0, 0.0, 0.0, 0.0, 0.0, 0.0, 0.0, 0.0, 0.0, 0.0, 0.0, 0.0, 0.0, 0.0, 0.0, 0.0], \"yaxis\": \"y\"}, {\"hovertemplate\": \"variable=bmi^3<br>alphas=%{x}<br>value=%{y}<extra></extra>\", \"legendgroup\": \"bmi^3\", \"line\": {\"color\": \"#00cc96\", \"dash\": \"solid\"}, \"mode\": \"lines\", \"name\": \"bmi^3\", \"showlegend\": true, \"type\": \"scattergl\", \"x\": [0.1, 0.10913767146512733, 0.11911031332830067, 0.12999422244132455, 0.14187266741165966, 0.15483652565854988, 0.16898497868124573, 0.18442627085855348, 0.20127853758499395, 0.2196707090793235, 0.23974349678010773, 0.2616504698748821, 0.28555923019901075, 0.311652694492943, 0.3401304938279252, 0.3712105009066362, 0.4051304969235381, 0.44214999073744876, 0.48255220427412776, 0.5266462393484278, 0.5747694424835352, 0.6272899858196247, 0.6846096838574658, 0.7471670675868078, 0.8154407395185161, 0.8899530352885231, 0.971274019847117, 1.0600258488068823, 1.1568875283162827, 1.2626001098748565, 1.3779723598335576, 1.5038869469554101, 1.6413071953751293, 1.791284454622004, 1.9549661430912606, 2.133604526501411, 2.3285662984981954, 2.5413430367026364, 2.773562614198415, 3.027001653763463, 3.3035991201283395, 3.605471154250504, 3.934927263095849, 4.294487988789275, 4.686904192314192, 5.115178099293143, 5.582586268862695, 6.0927046613686775, 6.649435996665045, 7.257039612324216, 7.920164050192553, 8.643882620598271, 9.433732216299779, 10.295755673125127, 11.236548001387515, 12.26330684177563, 13.383887531737578, 14.606863203649889, 15.941590374559995, 17.39828052930364, 18.988078244652634, 20.723146452190296, 22.616759492228645, 24.683404670686485, 26.938893095901726, 29.400480643347105, 32.0869999737045, 35.019004614317126, 38.21892620633119, 41.71124612056521, 45.5226827550731, 49.68239594734388, 54.222210065015865, 59.17685748188825, 64.58424430196978, 70.48574036451903, 76.92649574879147, 83.95578619995112, 91.62739011886741, 100.0], \"xaxis\": \"x\", \"y\": [1.6752574015977217, 1.6687167978339783, 1.659927786651589, 1.651391445630492, 1.6419217866568412, 1.6432564324215597, 1.632843165661837, 1.6218275810625598, 1.6092495209059783, 1.5920729549062367, 1.5730335080077087, 1.5512886642632187, 1.5273370711980074, 1.5008806078378503, 1.4730334222485384, 1.4424768806352721, 1.4059109365271982, 1.3650977850852613, 1.328755284288725, 1.2641869049211647, 1.1827450301857643, 1.0943446767703469, 0.997671925838285, 0.8920434678709714, 0.7928215419232392, 0.7350380739047643, 0.6733620617562782, 0.6100494189400749, 0.5306000855235476, 0.4498384700747761, 0.3782407117410557, 0.2747049870475225, 0.152621001120188, 0.02438798825094037, 0.0, 0.0, 0.0, 0.0, 0.0, 0.0, 0.0, 0.0, 0.0, 0.0, 0.0, 0.0, 0.0, 0.0, 0.0, 0.0, 0.0, 0.0, 0.0, 0.0, 0.0, 0.0, 0.0, 0.0, 0.0, 0.0, 0.0, 0.0, 0.0, 0.0, 0.0, 0.0, 0.0, 0.0, 0.0, 0.0, 0.0, 0.0, 0.0, 0.0, 0.0, 0.0, 0.0, 0.0, 0.0, 0.0], \"yaxis\": \"y\"}, {\"hovertemplate\": \"variable=bp^3<br>alphas=%{x}<br>value=%{y}<extra></extra>\", \"legendgroup\": \"bp^3\", \"line\": {\"color\": \"#ab63fa\", \"dash\": \"solid\"}, \"mode\": \"lines\", \"name\": \"bp^3\", \"showlegend\": true, \"type\": \"scattergl\", \"x\": [0.1, 0.10913767146512733, 0.11911031332830067, 0.12999422244132455, 0.14187266741165966, 0.15483652565854988, 0.16898497868124573, 0.18442627085855348, 0.20127853758499395, 0.2196707090793235, 0.23974349678010773, 0.2616504698748821, 0.28555923019901075, 0.311652694492943, 0.3401304938279252, 0.3712105009066362, 0.4051304969235381, 0.44214999073744876, 0.48255220427412776, 0.5266462393484278, 0.5747694424835352, 0.6272899858196247, 0.6846096838574658, 0.7471670675868078, 0.8154407395185161, 0.8899530352885231, 0.971274019847117, 1.0600258488068823, 1.1568875283162827, 1.2626001098748565, 1.3779723598335576, 1.5038869469554101, 1.6413071953751293, 1.791284454622004, 1.9549661430912606, 2.133604526501411, 2.3285662984981954, 2.5413430367026364, 2.773562614198415, 3.027001653763463, 3.3035991201283395, 3.605471154250504, 3.934927263095849, 4.294487988789275, 4.686904192314192, 5.115178099293143, 5.582586268862695, 6.0927046613686775, 6.649435996665045, 7.257039612324216, 7.920164050192553, 8.643882620598271, 9.433732216299779, 10.295755673125127, 11.236548001387515, 12.26330684177563, 13.383887531737578, 14.606863203649889, 15.941590374559995, 17.39828052930364, 18.988078244652634, 20.723146452190296, 22.616759492228645, 24.683404670686485, 26.938893095901726, 29.400480643347105, 32.0869999737045, 35.019004614317126, 38.21892620633119, 41.71124612056521, 45.5226827550731, 49.68239594734388, 54.222210065015865, 59.17685748188825, 64.58424430196978, 70.48574036451903, 76.92649574879147, 83.95578619995112, 91.62739011886741, 100.0], \"xaxis\": \"x\", \"y\": [3.3870148112641076, 3.3711012594629444, 3.355387023569416, 3.3392392497812615, 3.321588647666264, 3.3030798985525527, 3.2824369907728, 3.2599786241879634, 3.2369560303202047, 3.2266235388414892, 3.215269149188273, 3.2026183686666565, 3.188721466754696, 3.1712939778494103, 3.1515789403312002, 3.130075185536049, 3.10751994654838, 3.084510251064755, 3.0575428297901017, 3.0299727862760624, 3.003150968284248, 2.973647619061315, 2.941096834715964, 2.9054706639451875, 2.8700223347111877, 2.8492612651341513, 2.827873878240308, 2.806221329314958, 2.7757939424797162, 2.7413085099802252, 2.702385143353332, 2.7496619245934317, 2.81100783857923, 2.879717323883318, 2.9538502528761947, 3.0363776158207263, 3.1228142580587646, 3.2178533169822865, 3.264920630167887, 3.247384468912532, 3.2287980773304477, 3.184499063080861, 3.1073483780000815, 3.0127067914161074, 2.9093868234005034, 2.795190561406693, 2.667171650438512, 2.501776905803131, 2.180729787993147, 1.8313984666971133, 1.4492004246815773, 0.9514850430630347, 0.38244733995954905, 0.0, 0.0, 0.0, 0.0, 0.0, 0.0, 0.0, 0.0, 0.0, 0.0, 0.0, 0.0, 0.0, 0.0, 0.0, 0.0, 0.0, 0.0, 0.0, 0.0, 0.0, 0.0, 0.0, 0.0, 0.0, 0.0, 0.0], \"yaxis\": \"y\"}, {\"hovertemplate\": \"variable=s1^3<br>alphas=%{x}<br>value=%{y}<extra></extra>\", \"legendgroup\": \"s1^3\", \"line\": {\"color\": \"#FFA15A\", \"dash\": \"solid\"}, \"mode\": \"lines\", \"name\": \"s1^3\", \"showlegend\": true, \"type\": \"scattergl\", \"x\": [0.1, 0.10913767146512733, 0.11911031332830067, 0.12999422244132455, 0.14187266741165966, 0.15483652565854988, 0.16898497868124573, 0.18442627085855348, 0.20127853758499395, 0.2196707090793235, 0.23974349678010773, 0.2616504698748821, 0.28555923019901075, 0.311652694492943, 0.3401304938279252, 0.3712105009066362, 0.4051304969235381, 0.44214999073744876, 0.48255220427412776, 0.5266462393484278, 0.5747694424835352, 0.6272899858196247, 0.6846096838574658, 0.7471670675868078, 0.8154407395185161, 0.8899530352885231, 0.971274019847117, 1.0600258488068823, 1.1568875283162827, 1.2626001098748565, 1.3779723598335576, 1.5038869469554101, 1.6413071953751293, 1.791284454622004, 1.9549661430912606, 2.133604526501411, 2.3285662984981954, 2.5413430367026364, 2.773562614198415, 3.027001653763463, 3.3035991201283395, 3.605471154250504, 3.934927263095849, 4.294487988789275, 4.686904192314192, 5.115178099293143, 5.582586268862695, 6.0927046613686775, 6.649435996665045, 7.257039612324216, 7.920164050192553, 8.643882620598271, 9.433732216299779, 10.295755673125127, 11.236548001387515, 12.26330684177563, 13.383887531737578, 14.606863203649889, 15.941590374559995, 17.39828052930364, 18.988078244652634, 20.723146452190296, 22.616759492228645, 24.683404670686485, 26.938893095901726, 29.400480643347105, 32.0869999737045, 35.019004614317126, 38.21892620633119, 41.71124612056521, 45.5226827550731, 49.68239594734388, 54.222210065015865, 59.17685748188825, 64.58424430196978, 70.48574036451903, 76.92649574879147, 83.95578619995112, 91.62739011886741, 100.0], \"xaxis\": \"x\", \"y\": [11.646085694243826, 11.499187573993517, 11.332007990770988, 11.154713391503991, 10.960683689366796, 10.7505778474623, 10.525953102757192, 10.282327479970442, 10.015284097234034, 9.723505704408138, 9.40452615602242, 9.055516090021705, 8.673706992536959, 8.256876553687299, 7.803013512329549, 7.307403393177303, 6.731921494288119, 6.044503370415848, 5.319798914067313, 4.552357707423077, 3.739984041429089, 2.855990450815933, 1.8937126018979036, 0.8433766937761829, 0.0, 0.0, 0.0, 0.0, 0.0, 0.0, 0.0, -0.0, -0.0, -0.0, -0.0, -0.0, -0.0, -0.0, -0.0, -0.0, -0.0, -0.0, -0.0, -0.0, -0.0, -0.0, -0.0, -0.0, -0.0, -0.0, -0.0, -0.0, -0.0, -0.0, -0.0, -0.0, -0.0, -0.0, 0.0, 0.0, 0.0, 0.0, 0.0, 0.0, 0.0, 0.0, 0.0, 0.0, 0.0, 0.0, 0.0, 0.0, 0.0, 0.0, 0.0, 0.0, 0.0, 0.0, 0.0, 0.0], \"yaxis\": \"y\"}, {\"hovertemplate\": \"variable=s2^3<br>alphas=%{x}<br>value=%{y}<extra></extra>\", \"legendgroup\": \"s2^3\", \"line\": {\"color\": \"#19d3f3\", \"dash\": \"solid\"}, \"mode\": \"lines\", \"name\": \"s2^3\", \"showlegend\": true, \"type\": \"scattergl\", \"x\": [0.1, 0.10913767146512733, 0.11911031332830067, 0.12999422244132455, 0.14187266741165966, 0.15483652565854988, 0.16898497868124573, 0.18442627085855348, 0.20127853758499395, 0.2196707090793235, 0.23974349678010773, 0.2616504698748821, 0.28555923019901075, 0.311652694492943, 0.3401304938279252, 0.3712105009066362, 0.4051304969235381, 0.44214999073744876, 0.48255220427412776, 0.5266462393484278, 0.5747694424835352, 0.6272899858196247, 0.6846096838574658, 0.7471670675868078, 0.8154407395185161, 0.8899530352885231, 0.971274019847117, 1.0600258488068823, 1.1568875283162827, 1.2626001098748565, 1.3779723598335576, 1.5038869469554101, 1.6413071953751293, 1.791284454622004, 1.9549661430912606, 2.133604526501411, 2.3285662984981954, 2.5413430367026364, 2.773562614198415, 3.027001653763463, 3.3035991201283395, 3.605471154250504, 3.934927263095849, 4.294487988789275, 4.686904192314192, 5.115178099293143, 5.582586268862695, 6.0927046613686775, 6.649435996665045, 7.257039612324216, 7.920164050192553, 8.643882620598271, 9.433732216299779, 10.295755673125127, 11.236548001387515, 12.26330684177563, 13.383887531737578, 14.606863203649889, 15.941590374559995, 17.39828052930364, 18.988078244652634, 20.723146452190296, 22.616759492228645, 24.683404670686485, 26.938893095901726, 29.400480643347105, 32.0869999737045, 35.019004614317126, 38.21892620633119, 41.71124612056521, 45.5226827550731, 49.68239594734388, 54.222210065015865, 59.17685748188825, 64.58424430196978, 70.48574036451903, 76.92649574879147, 83.95578619995112, 91.62739011886741, 100.0], \"xaxis\": \"x\", \"y\": [-11.506975123355362, -11.4092891836994, -11.302312488910447, -11.193784784212442, -11.074776400335537, -10.943590872757031, -10.804480517526747, -10.6521239636092, -10.486089511408126, -10.30802449389806, -10.113390647811768, -9.899202648234835, -9.665330455796203, -9.404452384799978, -9.11689687921929, -8.802519724916229, -8.428991896755159, -7.9579358771256485, -7.410073183422384, -6.817452472806639, -6.19806517966268, -5.52646327788067, -4.79444856515721, -3.995078874759033, -3.338700532697924, -3.2689048157935563, -3.1933924175089845, -3.1086297572856894, -3.011044687243867, -2.89095688067122, -2.8696827550251927, -2.826306613818824, -2.775535499991357, -2.703311448499945, -2.456162908583053, -2.1857978752594907, -1.890665050157983, -1.5685074088985431, -1.2532415909027295, -0.9693128258257193, -0.6594416576286349, -0.3198114343225979, -0.0, -0.0, -0.0, -0.0, -0.0, -0.0, -0.0, -0.0, -0.0, -0.0, -0.0, -0.0, -0.0, -0.0, -0.0, -0.0, -0.0, -0.0, -0.0, -0.0, 0.0, 0.0, 0.0, 0.0, 0.0, 0.0, 0.0, 0.0, 0.0, 0.0, 0.0, 0.0, 0.0, 0.0, 0.0, 0.0, 0.0, 0.0], \"yaxis\": \"y\"}, {\"hovertemplate\": \"variable=s3^3<br>alphas=%{x}<br>value=%{y}<extra></extra>\", \"legendgroup\": \"s3^3\", \"line\": {\"color\": \"#FF6692\", \"dash\": \"solid\"}, \"mode\": \"lines\", \"name\": \"s3^3\", \"showlegend\": true, \"type\": \"scattergl\", \"x\": [0.1, 0.10913767146512733, 0.11911031332830067, 0.12999422244132455, 0.14187266741165966, 0.15483652565854988, 0.16898497868124573, 0.18442627085855348, 0.20127853758499395, 0.2196707090793235, 0.23974349678010773, 0.2616504698748821, 0.28555923019901075, 0.311652694492943, 0.3401304938279252, 0.3712105009066362, 0.4051304969235381, 0.44214999073744876, 0.48255220427412776, 0.5266462393484278, 0.5747694424835352, 0.6272899858196247, 0.6846096838574658, 0.7471670675868078, 0.8154407395185161, 0.8899530352885231, 0.971274019847117, 1.0600258488068823, 1.1568875283162827, 1.2626001098748565, 1.3779723598335576, 1.5038869469554101, 1.6413071953751293, 1.791284454622004, 1.9549661430912606, 2.133604526501411, 2.3285662984981954, 2.5413430367026364, 2.773562614198415, 3.027001653763463, 3.3035991201283395, 3.605471154250504, 3.934927263095849, 4.294487988789275, 4.686904192314192, 5.115178099293143, 5.582586268862695, 6.0927046613686775, 6.649435996665045, 7.257039612324216, 7.920164050192553, 8.643882620598271, 9.433732216299779, 10.295755673125127, 11.236548001387515, 12.26330684177563, 13.383887531737578, 14.606863203649889, 15.941590374559995, 17.39828052930364, 18.988078244652634, 20.723146452190296, 22.616759492228645, 24.683404670686485, 26.938893095901726, 29.400480643347105, 32.0869999737045, 35.019004614317126, 38.21892620633119, 41.71124612056521, 45.5226827550731, 49.68239594734388, 54.222210065015865, 59.17685748188825, 64.58424430196978, 70.48574036451903, 76.92649574879147, 83.95578619995112, 91.62739011886741, 100.0], \"xaxis\": \"x\", \"y\": [1.663184045963833, 1.4875957995029636, 1.4157398038949707, 1.3889722551802486, 1.3592663743908184, 1.3404523724883726, 1.3072000037719147, 1.2699621626236486, 1.2300447074719811, 1.1933350556199238, 1.153033234387973, 1.1072860533341193, 1.0572080159699497, 0.8899977746357569, 0.649197541219183, 0.38628194987096337, 0.11148870776339302, 0.0, 0.0, 0.0, 0.0, 0.0, 0.0, 0.0, 0.0, 0.0, 0.0, 0.0, 0.0, 0.0, 0.0, 0.0, 0.0, 0.0, 0.0, 0.0, -0.0, -0.0, -0.0, -0.0, -0.0, -0.0, -0.0, -0.0, -0.0, -0.0, -0.0, -0.0, -0.0, -0.0, -0.0, -0.0, -0.0, -0.0, -0.0, -0.0, -0.0, -0.0, -0.0, -0.0, -0.0, -0.0, -0.0, -0.0, -0.0, -0.0, -0.0, -0.0, -0.0, -0.0, -0.0, -0.0, -0.0, -0.0, -0.0, -0.0, -0.0, -0.0, -0.0, -0.0], \"yaxis\": \"y\"}, {\"hovertemplate\": \"variable=s4^3<br>alphas=%{x}<br>value=%{y}<extra></extra>\", \"legendgroup\": \"s4^3\", \"line\": {\"color\": \"#B6E880\", \"dash\": \"solid\"}, \"mode\": \"lines\", \"name\": \"s4^3\", \"showlegend\": true, \"type\": \"scattergl\", \"x\": [0.1, 0.10913767146512733, 0.11911031332830067, 0.12999422244132455, 0.14187266741165966, 0.15483652565854988, 0.16898497868124573, 0.18442627085855348, 0.20127853758499395, 0.2196707090793235, 0.23974349678010773, 0.2616504698748821, 0.28555923019901075, 0.311652694492943, 0.3401304938279252, 0.3712105009066362, 0.4051304969235381, 0.44214999073744876, 0.48255220427412776, 0.5266462393484278, 0.5747694424835352, 0.6272899858196247, 0.6846096838574658, 0.7471670675868078, 0.8154407395185161, 0.8899530352885231, 0.971274019847117, 1.0600258488068823, 1.1568875283162827, 1.2626001098748565, 1.3779723598335576, 1.5038869469554101, 1.6413071953751293, 1.791284454622004, 1.9549661430912606, 2.133604526501411, 2.3285662984981954, 2.5413430367026364, 2.773562614198415, 3.027001653763463, 3.3035991201283395, 3.605471154250504, 3.934927263095849, 4.294487988789275, 4.686904192314192, 5.115178099293143, 5.582586268862695, 6.0927046613686775, 6.649435996665045, 7.257039612324216, 7.920164050192553, 8.643882620598271, 9.433732216299779, 10.295755673125127, 11.236548001387515, 12.26330684177563, 13.383887531737578, 14.606863203649889, 15.941590374559995, 17.39828052930364, 18.988078244652634, 20.723146452190296, 22.616759492228645, 24.683404670686485, 26.938893095901726, 29.400480643347105, 32.0869999737045, 35.019004614317126, 38.21892620633119, 41.71124612056521, 45.5226827550731, 49.68239594734388, 54.222210065015865, 59.17685748188825, 64.58424430196978, 70.48574036451903, 76.92649574879147, 83.95578619995112, 91.62739011886741, 100.0], \"xaxis\": \"x\", \"y\": [0.0, 0.0, 0.0, 0.0, 0.0, 0.0, 0.0, 0.0, 0.0, 0.0, 0.0, 0.0, 0.0, 0.0, 0.0, 0.0, 0.0, 0.0, 0.0, 0.0, 0.0, 0.0, 0.0, 0.0, 0.0, 0.0, 0.0, 0.0, 0.0, 0.0, 0.0, 0.0, 0.0, 0.0, -0.0, -0.0, -0.0, -0.0, -0.0, -0.0, -0.0, -0.0, -0.0, -0.0, 0.0, 0.0, 0.0, 0.0, 0.0, 0.0, 0.0, 0.0, 0.0, 0.0, 0.0, 0.0, 0.0, 0.0, 0.0, 0.0, 0.0, 0.0, 0.0, 0.0, 0.0, 0.0, 0.0, 0.0, 0.0, 0.0, 0.0, 0.0, 0.0, 0.0, 0.0, 0.0, 0.0, 0.0, 0.0, 0.0], \"yaxis\": \"y\"}, {\"hovertemplate\": \"variable=s5^3<br>alphas=%{x}<br>value=%{y}<extra></extra>\", \"legendgroup\": \"s5^3\", \"line\": {\"color\": \"#FF97FF\", \"dash\": \"solid\"}, \"mode\": \"lines\", \"name\": \"s5^3\", \"showlegend\": true, \"type\": \"scattergl\", \"x\": [0.1, 0.10913767146512733, 0.11911031332830067, 0.12999422244132455, 0.14187266741165966, 0.15483652565854988, 0.16898497868124573, 0.18442627085855348, 0.20127853758499395, 0.2196707090793235, 0.23974349678010773, 0.2616504698748821, 0.28555923019901075, 0.311652694492943, 0.3401304938279252, 0.3712105009066362, 0.4051304969235381, 0.44214999073744876, 0.48255220427412776, 0.5266462393484278, 0.5747694424835352, 0.6272899858196247, 0.6846096838574658, 0.7471670675868078, 0.8154407395185161, 0.8899530352885231, 0.971274019847117, 1.0600258488068823, 1.1568875283162827, 1.2626001098748565, 1.3779723598335576, 1.5038869469554101, 1.6413071953751293, 1.791284454622004, 1.9549661430912606, 2.133604526501411, 2.3285662984981954, 2.5413430367026364, 2.773562614198415, 3.027001653763463, 3.3035991201283395, 3.605471154250504, 3.934927263095849, 4.294487988789275, 4.686904192314192, 5.115178099293143, 5.582586268862695, 6.0927046613686775, 6.649435996665045, 7.257039612324216, 7.920164050192553, 8.643882620598271, 9.433732216299779, 10.295755673125127, 11.236548001387515, 12.26330684177563, 13.383887531737578, 14.606863203649889, 15.941590374559995, 17.39828052930364, 18.988078244652634, 20.723146452190296, 22.616759492228645, 24.683404670686485, 26.938893095901726, 29.400480643347105, 32.0869999737045, 35.019004614317126, 38.21892620633119, 41.71124612056521, 45.5226827550731, 49.68239594734388, 54.222210065015865, 59.17685748188825, 64.58424430196978, 70.48574036451903, 76.92649574879147, 83.95578619995112, 91.62739011886741, 100.0], \"xaxis\": \"x\", \"y\": [-14.554515113012151, -14.501285567496257, -14.402651350774507, -14.337948946397267, -14.264752123859145, -13.745545465588837, -13.685003937808563, -13.618270093548336, -13.544988317422913, -13.46167775173843, -13.370701049940052, -13.270870215960327, -13.16248853515103, -13.044181058637655, -12.915076823203215, -12.77413663035611, -12.619273440771511, -12.448650486048042, -12.278975282950066, -12.059248279267766, -11.777710222502822, -11.473126415395718, -11.139225267029664, -10.774416622406022, -10.375683147003352, -9.94383969781105, -9.472146757644458, -8.956224801024971, -8.389800998451221, -7.764489078158472, -7.146302476755486, -6.452948052531724, -5.696240044623316, -4.8711552475656195, -3.976530622486997, -2.999964388916829, -1.9325661899705713, -0.7667778940212144, -0.0, -0.0, -0.0, -0.0, -0.0, -0.0, -0.0, -0.0, -0.0, 0.0, 0.0, 0.0, 0.0, 0.0, 0.0, 0.0, 0.0, 0.0, 0.0, 0.0, 0.0, 0.0, 0.0, 0.0, 0.0, 0.0, 0.0, 0.0, 0.0, 0.0, 0.0, 0.0, 0.0, 0.0, 0.0, 0.0, 0.0, 0.0, 0.0, 0.0, 0.0, 0.0], \"yaxis\": \"y\"}, {\"hovertemplate\": \"variable=s6^3<br>alphas=%{x}<br>value=%{y}<extra></extra>\", \"legendgroup\": \"s6^3\", \"line\": {\"color\": \"#FECB52\", \"dash\": \"solid\"}, \"mode\": \"lines\", \"name\": \"s6^3\", \"showlegend\": true, \"type\": \"scattergl\", \"x\": [0.1, 0.10913767146512733, 0.11911031332830067, 0.12999422244132455, 0.14187266741165966, 0.15483652565854988, 0.16898497868124573, 0.18442627085855348, 0.20127853758499395, 0.2196707090793235, 0.23974349678010773, 0.2616504698748821, 0.28555923019901075, 0.311652694492943, 0.3401304938279252, 0.3712105009066362, 0.4051304969235381, 0.44214999073744876, 0.48255220427412776, 0.5266462393484278, 0.5747694424835352, 0.6272899858196247, 0.6846096838574658, 0.7471670675868078, 0.8154407395185161, 0.8899530352885231, 0.971274019847117, 1.0600258488068823, 1.1568875283162827, 1.2626001098748565, 1.3779723598335576, 1.5038869469554101, 1.6413071953751293, 1.791284454622004, 1.9549661430912606, 2.133604526501411, 2.3285662984981954, 2.5413430367026364, 2.773562614198415, 3.027001653763463, 3.3035991201283395, 3.605471154250504, 3.934927263095849, 4.294487988789275, 4.686904192314192, 5.115178099293143, 5.582586268862695, 6.0927046613686775, 6.649435996665045, 7.257039612324216, 7.920164050192553, 8.643882620598271, 9.433732216299779, 10.295755673125127, 11.236548001387515, 12.26330684177563, 13.383887531737578, 14.606863203649889, 15.941590374559995, 17.39828052930364, 18.988078244652634, 20.723146452190296, 22.616759492228645, 24.683404670686485, 26.938893095901726, 29.400480643347105, 32.0869999737045, 35.019004614317126, 38.21892620633119, 41.71124612056521, 45.5226827550731, 49.68239594734388, 54.222210065015865, 59.17685748188825, 64.58424430196978, 70.48574036451903, 76.92649574879147, 83.95578619995112, 91.62739011886741, 100.0], \"xaxis\": \"x\", \"y\": [-0.6381042308741247, -0.582502165768093, -0.518588425797229, -0.4483147069413413, -0.3715715672454673, -0.28820655922270544, -0.1971386314930881, -0.09752116706047081, -0.0, -0.0, -0.0, -0.0, -0.0, -0.0, -0.0, -0.0, 0.0, 0.0, 0.0, 0.0, 0.0, 0.0, 0.0, 0.0, 0.0, 0.0, 0.0, 0.0, 0.0, 0.0, 0.0, 0.0, 0.0, 0.0, 0.0, 0.0, 0.0, 0.0, 0.0, 0.0, 0.0, 0.0, 0.0, 0.0, 0.0, 0.0, 0.0, 0.0, 0.0, 0.0, 0.0, 0.0, 0.0, 0.0, 0.0, 0.0, 0.0, 0.0, 0.0, 0.0, 0.0, 0.0, 0.0, 0.0, 0.0, 0.0, 0.0, 0.0, 0.0, 0.0, 0.0, 0.0, 0.0, 0.0, 0.0, 0.0, 0.0, 0.0, 0.0, 0.0], \"yaxis\": \"y\"}],                        {\"legend\": {\"title\": {\"text\": \"variable\"}, \"tracegroupgap\": 0}, \"margin\": {\"t\": 60}, \"template\": {\"data\": {\"bar\": [{\"error_x\": {\"color\": \"#2a3f5f\"}, \"error_y\": {\"color\": \"#2a3f5f\"}, \"marker\": {\"line\": {\"color\": \"#E5ECF6\", \"width\": 0.5}}, \"type\": \"bar\"}], \"barpolar\": [{\"marker\": {\"line\": {\"color\": \"#E5ECF6\", \"width\": 0.5}}, \"type\": \"barpolar\"}], \"carpet\": [{\"aaxis\": {\"endlinecolor\": \"#2a3f5f\", \"gridcolor\": \"white\", \"linecolor\": \"white\", \"minorgridcolor\": \"white\", \"startlinecolor\": \"#2a3f5f\"}, \"baxis\": {\"endlinecolor\": \"#2a3f5f\", \"gridcolor\": \"white\", \"linecolor\": \"white\", \"minorgridcolor\": \"white\", \"startlinecolor\": \"#2a3f5f\"}, \"type\": \"carpet\"}], \"choropleth\": [{\"colorbar\": {\"outlinewidth\": 0, \"ticks\": \"\"}, \"type\": \"choropleth\"}], \"contour\": [{\"colorbar\": {\"outlinewidth\": 0, \"ticks\": \"\"}, \"colorscale\": [[0.0, \"#0d0887\"], [0.1111111111111111, \"#46039f\"], [0.2222222222222222, \"#7201a8\"], [0.3333333333333333, \"#9c179e\"], [0.4444444444444444, \"#bd3786\"], [0.5555555555555556, \"#d8576b\"], [0.6666666666666666, \"#ed7953\"], [0.7777777777777778, \"#fb9f3a\"], [0.8888888888888888, \"#fdca26\"], [1.0, \"#f0f921\"]], \"type\": \"contour\"}], \"contourcarpet\": [{\"colorbar\": {\"outlinewidth\": 0, \"ticks\": \"\"}, \"type\": \"contourcarpet\"}], \"heatmap\": [{\"colorbar\": {\"outlinewidth\": 0, \"ticks\": \"\"}, \"colorscale\": [[0.0, \"#0d0887\"], [0.1111111111111111, \"#46039f\"], [0.2222222222222222, \"#7201a8\"], [0.3333333333333333, \"#9c179e\"], [0.4444444444444444, \"#bd3786\"], [0.5555555555555556, \"#d8576b\"], [0.6666666666666666, \"#ed7953\"], [0.7777777777777778, \"#fb9f3a\"], [0.8888888888888888, \"#fdca26\"], [1.0, \"#f0f921\"]], \"type\": \"heatmap\"}], \"heatmapgl\": [{\"colorbar\": {\"outlinewidth\": 0, \"ticks\": \"\"}, \"colorscale\": [[0.0, \"#0d0887\"], [0.1111111111111111, \"#46039f\"], [0.2222222222222222, \"#7201a8\"], [0.3333333333333333, \"#9c179e\"], [0.4444444444444444, \"#bd3786\"], [0.5555555555555556, \"#d8576b\"], [0.6666666666666666, \"#ed7953\"], [0.7777777777777778, \"#fb9f3a\"], [0.8888888888888888, \"#fdca26\"], [1.0, \"#f0f921\"]], \"type\": \"heatmapgl\"}], \"histogram\": [{\"marker\": {\"colorbar\": {\"outlinewidth\": 0, \"ticks\": \"\"}}, \"type\": \"histogram\"}], \"histogram2d\": [{\"colorbar\": {\"outlinewidth\": 0, \"ticks\": \"\"}, \"colorscale\": [[0.0, \"#0d0887\"], [0.1111111111111111, \"#46039f\"], [0.2222222222222222, \"#7201a8\"], [0.3333333333333333, \"#9c179e\"], [0.4444444444444444, \"#bd3786\"], [0.5555555555555556, \"#d8576b\"], [0.6666666666666666, \"#ed7953\"], [0.7777777777777778, \"#fb9f3a\"], [0.8888888888888888, \"#fdca26\"], [1.0, \"#f0f921\"]], \"type\": \"histogram2d\"}], \"histogram2dcontour\": [{\"colorbar\": {\"outlinewidth\": 0, \"ticks\": \"\"}, \"colorscale\": [[0.0, \"#0d0887\"], [0.1111111111111111, \"#46039f\"], [0.2222222222222222, \"#7201a8\"], [0.3333333333333333, \"#9c179e\"], [0.4444444444444444, \"#bd3786\"], [0.5555555555555556, \"#d8576b\"], [0.6666666666666666, \"#ed7953\"], [0.7777777777777778, \"#fb9f3a\"], [0.8888888888888888, \"#fdca26\"], [1.0, \"#f0f921\"]], \"type\": \"histogram2dcontour\"}], \"mesh3d\": [{\"colorbar\": {\"outlinewidth\": 0, \"ticks\": \"\"}, \"type\": \"mesh3d\"}], \"parcoords\": [{\"line\": {\"colorbar\": {\"outlinewidth\": 0, \"ticks\": \"\"}}, \"type\": \"parcoords\"}], \"pie\": [{\"automargin\": true, \"type\": \"pie\"}], \"scatter\": [{\"marker\": {\"colorbar\": {\"outlinewidth\": 0, \"ticks\": \"\"}}, \"type\": \"scatter\"}], \"scatter3d\": [{\"line\": {\"colorbar\": {\"outlinewidth\": 0, \"ticks\": \"\"}}, \"marker\": {\"colorbar\": {\"outlinewidth\": 0, \"ticks\": \"\"}}, \"type\": \"scatter3d\"}], \"scattercarpet\": [{\"marker\": {\"colorbar\": {\"outlinewidth\": 0, \"ticks\": \"\"}}, \"type\": \"scattercarpet\"}], \"scattergeo\": [{\"marker\": {\"colorbar\": {\"outlinewidth\": 0, \"ticks\": \"\"}}, \"type\": \"scattergeo\"}], \"scattergl\": [{\"marker\": {\"colorbar\": {\"outlinewidth\": 0, \"ticks\": \"\"}}, \"type\": \"scattergl\"}], \"scattermapbox\": [{\"marker\": {\"colorbar\": {\"outlinewidth\": 0, \"ticks\": \"\"}}, \"type\": \"scattermapbox\"}], \"scatterpolar\": [{\"marker\": {\"colorbar\": {\"outlinewidth\": 0, \"ticks\": \"\"}}, \"type\": \"scatterpolar\"}], \"scatterpolargl\": [{\"marker\": {\"colorbar\": {\"outlinewidth\": 0, \"ticks\": \"\"}}, \"type\": \"scatterpolargl\"}], \"scatterternary\": [{\"marker\": {\"colorbar\": {\"outlinewidth\": 0, \"ticks\": \"\"}}, \"type\": \"scatterternary\"}], \"surface\": [{\"colorbar\": {\"outlinewidth\": 0, \"ticks\": \"\"}, \"colorscale\": [[0.0, \"#0d0887\"], [0.1111111111111111, \"#46039f\"], [0.2222222222222222, \"#7201a8\"], [0.3333333333333333, \"#9c179e\"], [0.4444444444444444, \"#bd3786\"], [0.5555555555555556, \"#d8576b\"], [0.6666666666666666, \"#ed7953\"], [0.7777777777777778, \"#fb9f3a\"], [0.8888888888888888, \"#fdca26\"], [1.0, \"#f0f921\"]], \"type\": \"surface\"}], \"table\": [{\"cells\": {\"fill\": {\"color\": \"#EBF0F8\"}, \"line\": {\"color\": \"white\"}}, \"header\": {\"fill\": {\"color\": \"#C8D4E3\"}, \"line\": {\"color\": \"white\"}}, \"type\": \"table\"}]}, \"layout\": {\"annotationdefaults\": {\"arrowcolor\": \"#2a3f5f\", \"arrowhead\": 0, \"arrowwidth\": 1}, \"coloraxis\": {\"colorbar\": {\"outlinewidth\": 0, \"ticks\": \"\"}}, \"colorscale\": {\"diverging\": [[0, \"#8e0152\"], [0.1, \"#c51b7d\"], [0.2, \"#de77ae\"], [0.3, \"#f1b6da\"], [0.4, \"#fde0ef\"], [0.5, \"#f7f7f7\"], [0.6, \"#e6f5d0\"], [0.7, \"#b8e186\"], [0.8, \"#7fbc41\"], [0.9, \"#4d9221\"], [1, \"#276419\"]], \"sequential\": [[0.0, \"#0d0887\"], [0.1111111111111111, \"#46039f\"], [0.2222222222222222, \"#7201a8\"], [0.3333333333333333, \"#9c179e\"], [0.4444444444444444, \"#bd3786\"], [0.5555555555555556, \"#d8576b\"], [0.6666666666666666, \"#ed7953\"], [0.7777777777777778, \"#fb9f3a\"], [0.8888888888888888, \"#fdca26\"], [1.0, \"#f0f921\"]], \"sequentialminus\": [[0.0, \"#0d0887\"], [0.1111111111111111, \"#46039f\"], [0.2222222222222222, \"#7201a8\"], [0.3333333333333333, \"#9c179e\"], [0.4444444444444444, \"#bd3786\"], [0.5555555555555556, \"#d8576b\"], [0.6666666666666666, \"#ed7953\"], [0.7777777777777778, \"#fb9f3a\"], [0.8888888888888888, \"#fdca26\"], [1.0, \"#f0f921\"]]}, \"colorway\": [\"#636efa\", \"#EF553B\", \"#00cc96\", \"#ab63fa\", \"#FFA15A\", \"#19d3f3\", \"#FF6692\", \"#B6E880\", \"#FF97FF\", \"#FECB52\"], \"font\": {\"color\": \"#2a3f5f\"}, \"geo\": {\"bgcolor\": \"white\", \"lakecolor\": \"white\", \"landcolor\": \"#E5ECF6\", \"showlakes\": true, \"showland\": true, \"subunitcolor\": \"white\"}, \"hoverlabel\": {\"align\": \"left\"}, \"hovermode\": \"closest\", \"mapbox\": {\"style\": \"light\"}, \"paper_bgcolor\": \"white\", \"plot_bgcolor\": \"#E5ECF6\", \"polar\": {\"angularaxis\": {\"gridcolor\": \"white\", \"linecolor\": \"white\", \"ticks\": \"\"}, \"bgcolor\": \"#E5ECF6\", \"radialaxis\": {\"gridcolor\": \"white\", \"linecolor\": \"white\", \"ticks\": \"\"}}, \"scene\": {\"xaxis\": {\"backgroundcolor\": \"#E5ECF6\", \"gridcolor\": \"white\", \"gridwidth\": 2, \"linecolor\": \"white\", \"showbackground\": true, \"ticks\": \"\", \"zerolinecolor\": \"white\"}, \"yaxis\": {\"backgroundcolor\": \"#E5ECF6\", \"gridcolor\": \"white\", \"gridwidth\": 2, \"linecolor\": \"white\", \"showbackground\": true, \"ticks\": \"\", \"zerolinecolor\": \"white\"}, \"zaxis\": {\"backgroundcolor\": \"#E5ECF6\", \"gridcolor\": \"white\", \"gridwidth\": 2, \"linecolor\": \"white\", \"showbackground\": true, \"ticks\": \"\", \"zerolinecolor\": \"white\"}}, \"shapedefaults\": {\"line\": {\"color\": \"#2a3f5f\"}}, \"ternary\": {\"aaxis\": {\"gridcolor\": \"white\", \"linecolor\": \"white\", \"ticks\": \"\"}, \"baxis\": {\"gridcolor\": \"white\", \"linecolor\": \"white\", \"ticks\": \"\"}, \"bgcolor\": \"#E5ECF6\", \"caxis\": {\"gridcolor\": \"white\", \"linecolor\": \"white\", \"ticks\": \"\"}}, \"title\": {\"x\": 0.05}, \"xaxis\": {\"automargin\": true, \"gridcolor\": \"white\", \"linecolor\": \"white\", \"ticks\": \"\", \"title\": {\"standoff\": 15}, \"zerolinecolor\": \"white\", \"zerolinewidth\": 2}, \"yaxis\": {\"automargin\": true, \"gridcolor\": \"white\", \"linecolor\": \"white\", \"ticks\": \"\", \"title\": {\"standoff\": 15}, \"zerolinecolor\": \"white\", \"zerolinewidth\": 2}}}, \"xaxis\": {\"anchor\": \"y\", \"domain\": [0.0, 1.0], \"title\": {\"text\": \"alphas\"}, \"type\": \"log\"}, \"yaxis\": {\"anchor\": \"x\", \"domain\": [0.0, 1.0], \"title\": {\"text\": \"value\"}}},                        {\"responsive\": true}                    ).then(function(){\n                            \nvar gd = document.getElementById('c32eacc2-3cc7-4fd4-a540-ef302357f0ad');\nvar x = new MutationObserver(function (mutations, observer) {{\n        var display = window.getComputedStyle(gd).display;\n        if (!display || display === 'none') {{\n            console.log([gd, 'removed!']);\n            Plotly.purge(gd);\n            observer.disconnect();\n        }}\n}});\n\n// Listen for the removal of the full notebook cells\nvar notebookContainer = gd.closest('#notebook-container');\nif (notebookContainer) {{\n    x.observe(notebookContainer, {childList: true});\n}}\n\n// Listen for the clearing of the current output cell\nvar outputEl = gd.closest('.output');\nif (outputEl) {{\n    x.observe(outputEl, {childList: true});\n}}\n\n                        })                };                });            </script>        </div>"
     },
     "metadata": {}
    }
   ],
   "source": [
    "coefs = []\n",
    "for a in alphas:\n",
    "    ridge = Lasso(alpha=a, max_iter=5000)\n",
    "    ridge.fit(original_X_3, original_y)\n",
    "    coefs.append(ridge.coef_)\n",
    "\n",
    "features = original_X_3.columns\n",
    "\n",
    "df_coefs = pd.DataFrame(coefs, columns=features)\n",
    "df_coefs['alphas'] = alphas\n",
    "fig = px.line(df_coefs, x='alphas', y=features)\n",
    "fig.update_xaxes(type='log').show()"
   ]
  },
  {
   "source": [
    "## Fit Polynomial Ridge Regression"
   ],
   "cell_type": "markdown",
   "metadata": {}
  },
  {
   "cell_type": "code",
   "execution_count": 14,
   "metadata": {},
   "outputs": [],
   "source": [
    "model = Lasso(alpha=1.7)\n",
    "model = model.fit(original_X_3, original_y)"
   ]
  },
  {
   "cell_type": "code",
   "execution_count": 15,
   "metadata": {},
   "outputs": [
    {
     "output_type": "execute_result",
     "data": {
      "text/plain": [
       "0.5363567412348906"
      ]
     },
     "metadata": {},
     "execution_count": 15
    }
   ],
   "source": [
    "model.score(original_X_3, original_y)"
   ]
  },
  {
   "cell_type": "code",
   "execution_count": null,
   "metadata": {},
   "outputs": [],
   "source": []
  }
 ]
}