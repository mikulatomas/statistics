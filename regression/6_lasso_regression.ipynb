{
 "metadata": {
  "language_info": {
   "codemirror_mode": {
    "name": "ipython",
    "version": 3
   },
   "file_extension": ".py",
   "mimetype": "text/x-python",
   "name": "python",
   "nbconvert_exporter": "python",
   "pygments_lexer": "ipython3",
   "version": "3.8.9"
  },
  "orig_nbformat": 2,
  "kernelspec": {
   "name": "python389jvsc74a57bd0082a18f759f8afdec9b7eec773590a36e4c3be1cd97bea91855dea5176a8175a",
   "display_name": "Python 3.8.9 64-bit ('fcapy': virtualenvwrapper)"
  }
 },
 "nbformat": 4,
 "nbformat_minor": 2,
 "cells": [
  {
   "cell_type": "code",
   "execution_count": 1,
   "metadata": {},
   "outputs": [
    {
     "output_type": "display_data",
     "data": {
      "text/html": "        <script type=\"text/javascript\">\n        window.PlotlyConfig = {MathJaxConfig: 'local'};\n        if (window.MathJax) {MathJax.Hub.Config({SVG: {font: \"STIX-Web\"}});}\n        if (typeof require !== 'undefined') {\n        require.undef(\"plotly\");\n        requirejs.config({\n            paths: {\n                'plotly': ['https://cdn.plot.ly/plotly-latest.min']\n            }\n        });\n        require(['plotly'], function(Plotly) {\n            window._Plotly = Plotly;\n        });\n        }\n        </script>\n        "
     },
     "metadata": {}
    }
   ],
   "source": [
    "from datasets import diabetes_data\n",
    "\n",
    "import statsmodels.api as sm\n",
    "\n",
    "from sklearn.linear_model import Lasso\n",
    "from sklearn.model_selection import cross_val_score\n",
    "\n",
    "import numpy as np\n",
    "import pandas as pd\n",
    "\n",
    "from tools import polynomial_features\n",
    "\n",
    "import plotly.express as px\n",
    "from plotly.offline import init_notebook_mode\n",
    "init_notebook_mode(connected=True)"
   ]
  },
  {
   "cell_type": "code",
   "execution_count": 2,
   "metadata": {},
   "outputs": [],
   "source": [
    "original_X, original_y, train_X, train_y, test_X, test_y = diabetes_data()"
   ]
  },
  {
   "source": [
    "# Lasso Regression"
   ],
   "cell_type": "markdown",
   "metadata": {}
  },
  {
   "source": [
    "## Alpha selection"
   ],
   "cell_type": "markdown",
   "metadata": {}
  },
  {
   "cell_type": "code",
   "execution_count": 3,
   "metadata": {},
   "outputs": [],
   "source": [
    "n_alphas = 80\n",
    "alphas = np.logspace(-2, 1, n_alphas)"
   ]
  },
  {
   "cell_type": "code",
   "execution_count": 4,
   "metadata": {},
   "outputs": [
    {
     "output_type": "display_data",
     "data": {
      "application/vnd.plotly.v1+json": {
       "config": {
        "plotlyServerURL": "https://plot.ly"
       },
       "data": [
        {
         "hovertemplate": "alpha=%{x}<br>R^2 (mean)=%{y}<extra></extra>",
         "legendgroup": "",
         "line": {
          "color": "#636efa",
          "dash": "solid"
         },
         "mode": "lines",
         "name": "",
         "orientation": "v",
         "showlegend": false,
         "type": "scatter",
         "x": [
          0.01,
          0.010913767146512732,
          0.011911031332830068,
          0.012999422244132456,
          0.014187266741165962,
          0.015483652565854992,
          0.01689849786812457,
          0.018442627085855347,
          0.020127853758499396,
          0.021967070907932353,
          0.02397434967801077,
          0.02616504698748821,
          0.028555923019901074,
          0.031165269449294302,
          0.03401304938279253,
          0.03712105009066361,
          0.04051304969235382,
          0.04421499907374487,
          0.04825522042741279,
          0.05266462393484278,
          0.05747694424835353,
          0.06272899858196247,
          0.06846096838574658,
          0.07471670675868078,
          0.08154407395185162,
          0.08899530352885233,
          0.09712740198471168,
          0.10600258488068824,
          0.11568875283162827,
          0.12626001098748565,
          0.13779723598335575,
          0.150388694695541,
          0.1641307195375129,
          0.1791284454622004,
          0.19549661430912604,
          0.21336045265014109,
          0.23285662984981953,
          0.25413430367026363,
          0.2773562614198415,
          0.3027001653763463,
          0.33035991201283393,
          0.3605471154250504,
          0.39349272630958493,
          0.42944879887892745,
          0.46869041923141924,
          0.5115178099293143,
          0.5582586268862695,
          0.6092704661368677,
          0.6649435996665045,
          0.7257039612324216,
          0.7920164050192553,
          0.864388262059827,
          0.9433732216299778,
          1.0295755673125127,
          1.1236548001387516,
          1.2263306841775632,
          1.3383887531737577,
          1.460686320364989,
          1.5941590374559995,
          1.739828052930364,
          1.8988078244652633,
          2.0723146452190293,
          2.2616759492228646,
          2.4683404670686486,
          2.6938893095901726,
          2.940048064334711,
          3.2086999973704504,
          3.501900461431713,
          3.8218926206331187,
          4.171124612056521,
          4.55226827550731,
          4.968239594734388,
          5.422221006501586,
          5.917685748188824,
          6.458424430196978,
          7.048574036451903,
          7.692649574879146,
          8.395578619995112,
          9.16273901188674,
          10
         ],
         "xaxis": "x",
         "y": [
          0.48109762506564663,
          0.4811262562297909,
          0.48119417468904946,
          0.4812364960764121,
          0.4813265979957456,
          0.4814786439297178,
          0.4816195619938358,
          0.48172274969408174,
          0.4817662909005594,
          0.4818054322568043,
          0.48183862477204265,
          0.4818952774011186,
          0.48197643648992533,
          0.4820502571919807,
          0.48209880882267947,
          0.4821161739261865,
          0.48210812734546754,
          0.4820710881060049,
          0.48204290204606526,
          0.48202968058883544,
          0.4819743856370648,
          0.4818491653953152,
          0.4816430791400288,
          0.4813200693509577,
          0.4809116830829795,
          0.48040005276521497,
          0.4797615422005938,
          0.4790059250647534,
          0.47838469097774217,
          0.47740926538871964,
          0.4763194099004823,
          0.47514733193774816,
          0.47390033089939515,
          0.47257153468634916,
          0.47093175534778214,
          0.4689196424354172,
          0.4664585222273039,
          0.46351431051606246,
          0.4607120470171111,
          0.45781700390027796,
          0.45536085890459554,
          0.45245355940311016,
          0.44905122433464423,
          0.4448832181218867,
          0.4398395578479777,
          0.43379747800235224,
          0.426457290859606,
          0.41753254921387856,
          0.40699777672879944,
          0.3955651123256718,
          0.3824554235825558,
          0.3670628579219751,
          0.3501707686507184,
          0.33066309101483204,
          0.3076380161715384,
          0.2817257771027316,
          0.2508622767930412,
          0.21410171349813903,
          0.1703177493570507,
          0.11816784879048832,
          0.056053873031804625,
          -0.004636105595726558,
          -0.025841956969922596,
          -0.02750604135376733,
          -0.02750604135376733,
          -0.02750604135376733,
          -0.02750604135376733,
          -0.02750604135376733,
          -0.02750604135376733,
          -0.02750604135376733,
          -0.02750604135376733,
          -0.02750604135376733,
          -0.02750604135376733,
          -0.02750604135376733,
          -0.02750604135376733,
          -0.02750604135376733,
          -0.02750604135376733,
          -0.02750604135376733,
          -0.02750604135376733,
          -0.02750604135376733
         ],
         "yaxis": "y"
        }
       ],
       "layout": {
        "legend": {
         "tracegroupgap": 0
        },
        "margin": {
         "t": 60
        },
        "template": {
         "data": {
          "bar": [
           {
            "error_x": {
             "color": "#2a3f5f"
            },
            "error_y": {
             "color": "#2a3f5f"
            },
            "marker": {
             "line": {
              "color": "#E5ECF6",
              "width": 0.5
             }
            },
            "type": "bar"
           }
          ],
          "barpolar": [
           {
            "marker": {
             "line": {
              "color": "#E5ECF6",
              "width": 0.5
             }
            },
            "type": "barpolar"
           }
          ],
          "carpet": [
           {
            "aaxis": {
             "endlinecolor": "#2a3f5f",
             "gridcolor": "white",
             "linecolor": "white",
             "minorgridcolor": "white",
             "startlinecolor": "#2a3f5f"
            },
            "baxis": {
             "endlinecolor": "#2a3f5f",
             "gridcolor": "white",
             "linecolor": "white",
             "minorgridcolor": "white",
             "startlinecolor": "#2a3f5f"
            },
            "type": "carpet"
           }
          ],
          "choropleth": [
           {
            "colorbar": {
             "outlinewidth": 0,
             "ticks": ""
            },
            "type": "choropleth"
           }
          ],
          "contour": [
           {
            "colorbar": {
             "outlinewidth": 0,
             "ticks": ""
            },
            "colorscale": [
             [
              0,
              "#0d0887"
             ],
             [
              0.1111111111111111,
              "#46039f"
             ],
             [
              0.2222222222222222,
              "#7201a8"
             ],
             [
              0.3333333333333333,
              "#9c179e"
             ],
             [
              0.4444444444444444,
              "#bd3786"
             ],
             [
              0.5555555555555556,
              "#d8576b"
             ],
             [
              0.6666666666666666,
              "#ed7953"
             ],
             [
              0.7777777777777778,
              "#fb9f3a"
             ],
             [
              0.8888888888888888,
              "#fdca26"
             ],
             [
              1,
              "#f0f921"
             ]
            ],
            "type": "contour"
           }
          ],
          "contourcarpet": [
           {
            "colorbar": {
             "outlinewidth": 0,
             "ticks": ""
            },
            "type": "contourcarpet"
           }
          ],
          "heatmap": [
           {
            "colorbar": {
             "outlinewidth": 0,
             "ticks": ""
            },
            "colorscale": [
             [
              0,
              "#0d0887"
             ],
             [
              0.1111111111111111,
              "#46039f"
             ],
             [
              0.2222222222222222,
              "#7201a8"
             ],
             [
              0.3333333333333333,
              "#9c179e"
             ],
             [
              0.4444444444444444,
              "#bd3786"
             ],
             [
              0.5555555555555556,
              "#d8576b"
             ],
             [
              0.6666666666666666,
              "#ed7953"
             ],
             [
              0.7777777777777778,
              "#fb9f3a"
             ],
             [
              0.8888888888888888,
              "#fdca26"
             ],
             [
              1,
              "#f0f921"
             ]
            ],
            "type": "heatmap"
           }
          ],
          "heatmapgl": [
           {
            "colorbar": {
             "outlinewidth": 0,
             "ticks": ""
            },
            "colorscale": [
             [
              0,
              "#0d0887"
             ],
             [
              0.1111111111111111,
              "#46039f"
             ],
             [
              0.2222222222222222,
              "#7201a8"
             ],
             [
              0.3333333333333333,
              "#9c179e"
             ],
             [
              0.4444444444444444,
              "#bd3786"
             ],
             [
              0.5555555555555556,
              "#d8576b"
             ],
             [
              0.6666666666666666,
              "#ed7953"
             ],
             [
              0.7777777777777778,
              "#fb9f3a"
             ],
             [
              0.8888888888888888,
              "#fdca26"
             ],
             [
              1,
              "#f0f921"
             ]
            ],
            "type": "heatmapgl"
           }
          ],
          "histogram": [
           {
            "marker": {
             "colorbar": {
              "outlinewidth": 0,
              "ticks": ""
             }
            },
            "type": "histogram"
           }
          ],
          "histogram2d": [
           {
            "colorbar": {
             "outlinewidth": 0,
             "ticks": ""
            },
            "colorscale": [
             [
              0,
              "#0d0887"
             ],
             [
              0.1111111111111111,
              "#46039f"
             ],
             [
              0.2222222222222222,
              "#7201a8"
             ],
             [
              0.3333333333333333,
              "#9c179e"
             ],
             [
              0.4444444444444444,
              "#bd3786"
             ],
             [
              0.5555555555555556,
              "#d8576b"
             ],
             [
              0.6666666666666666,
              "#ed7953"
             ],
             [
              0.7777777777777778,
              "#fb9f3a"
             ],
             [
              0.8888888888888888,
              "#fdca26"
             ],
             [
              1,
              "#f0f921"
             ]
            ],
            "type": "histogram2d"
           }
          ],
          "histogram2dcontour": [
           {
            "colorbar": {
             "outlinewidth": 0,
             "ticks": ""
            },
            "colorscale": [
             [
              0,
              "#0d0887"
             ],
             [
              0.1111111111111111,
              "#46039f"
             ],
             [
              0.2222222222222222,
              "#7201a8"
             ],
             [
              0.3333333333333333,
              "#9c179e"
             ],
             [
              0.4444444444444444,
              "#bd3786"
             ],
             [
              0.5555555555555556,
              "#d8576b"
             ],
             [
              0.6666666666666666,
              "#ed7953"
             ],
             [
              0.7777777777777778,
              "#fb9f3a"
             ],
             [
              0.8888888888888888,
              "#fdca26"
             ],
             [
              1,
              "#f0f921"
             ]
            ],
            "type": "histogram2dcontour"
           }
          ],
          "mesh3d": [
           {
            "colorbar": {
             "outlinewidth": 0,
             "ticks": ""
            },
            "type": "mesh3d"
           }
          ],
          "parcoords": [
           {
            "line": {
             "colorbar": {
              "outlinewidth": 0,
              "ticks": ""
             }
            },
            "type": "parcoords"
           }
          ],
          "pie": [
           {
            "automargin": true,
            "type": "pie"
           }
          ],
          "scatter": [
           {
            "marker": {
             "colorbar": {
              "outlinewidth": 0,
              "ticks": ""
             }
            },
            "type": "scatter"
           }
          ],
          "scatter3d": [
           {
            "line": {
             "colorbar": {
              "outlinewidth": 0,
              "ticks": ""
             }
            },
            "marker": {
             "colorbar": {
              "outlinewidth": 0,
              "ticks": ""
             }
            },
            "type": "scatter3d"
           }
          ],
          "scattercarpet": [
           {
            "marker": {
             "colorbar": {
              "outlinewidth": 0,
              "ticks": ""
             }
            },
            "type": "scattercarpet"
           }
          ],
          "scattergeo": [
           {
            "marker": {
             "colorbar": {
              "outlinewidth": 0,
              "ticks": ""
             }
            },
            "type": "scattergeo"
           }
          ],
          "scattergl": [
           {
            "marker": {
             "colorbar": {
              "outlinewidth": 0,
              "ticks": ""
             }
            },
            "type": "scattergl"
           }
          ],
          "scattermapbox": [
           {
            "marker": {
             "colorbar": {
              "outlinewidth": 0,
              "ticks": ""
             }
            },
            "type": "scattermapbox"
           }
          ],
          "scatterpolar": [
           {
            "marker": {
             "colorbar": {
              "outlinewidth": 0,
              "ticks": ""
             }
            },
            "type": "scatterpolar"
           }
          ],
          "scatterpolargl": [
           {
            "marker": {
             "colorbar": {
              "outlinewidth": 0,
              "ticks": ""
             }
            },
            "type": "scatterpolargl"
           }
          ],
          "scatterternary": [
           {
            "marker": {
             "colorbar": {
              "outlinewidth": 0,
              "ticks": ""
             }
            },
            "type": "scatterternary"
           }
          ],
          "surface": [
           {
            "colorbar": {
             "outlinewidth": 0,
             "ticks": ""
            },
            "colorscale": [
             [
              0,
              "#0d0887"
             ],
             [
              0.1111111111111111,
              "#46039f"
             ],
             [
              0.2222222222222222,
              "#7201a8"
             ],
             [
              0.3333333333333333,
              "#9c179e"
             ],
             [
              0.4444444444444444,
              "#bd3786"
             ],
             [
              0.5555555555555556,
              "#d8576b"
             ],
             [
              0.6666666666666666,
              "#ed7953"
             ],
             [
              0.7777777777777778,
              "#fb9f3a"
             ],
             [
              0.8888888888888888,
              "#fdca26"
             ],
             [
              1,
              "#f0f921"
             ]
            ],
            "type": "surface"
           }
          ],
          "table": [
           {
            "cells": {
             "fill": {
              "color": "#EBF0F8"
             },
             "line": {
              "color": "white"
             }
            },
            "header": {
             "fill": {
              "color": "#C8D4E3"
             },
             "line": {
              "color": "white"
             }
            },
            "type": "table"
           }
          ]
         },
         "layout": {
          "annotationdefaults": {
           "arrowcolor": "#2a3f5f",
           "arrowhead": 0,
           "arrowwidth": 1
          },
          "coloraxis": {
           "colorbar": {
            "outlinewidth": 0,
            "ticks": ""
           }
          },
          "colorscale": {
           "diverging": [
            [
             0,
             "#8e0152"
            ],
            [
             0.1,
             "#c51b7d"
            ],
            [
             0.2,
             "#de77ae"
            ],
            [
             0.3,
             "#f1b6da"
            ],
            [
             0.4,
             "#fde0ef"
            ],
            [
             0.5,
             "#f7f7f7"
            ],
            [
             0.6,
             "#e6f5d0"
            ],
            [
             0.7,
             "#b8e186"
            ],
            [
             0.8,
             "#7fbc41"
            ],
            [
             0.9,
             "#4d9221"
            ],
            [
             1,
             "#276419"
            ]
           ],
           "sequential": [
            [
             0,
             "#0d0887"
            ],
            [
             0.1111111111111111,
             "#46039f"
            ],
            [
             0.2222222222222222,
             "#7201a8"
            ],
            [
             0.3333333333333333,
             "#9c179e"
            ],
            [
             0.4444444444444444,
             "#bd3786"
            ],
            [
             0.5555555555555556,
             "#d8576b"
            ],
            [
             0.6666666666666666,
             "#ed7953"
            ],
            [
             0.7777777777777778,
             "#fb9f3a"
            ],
            [
             0.8888888888888888,
             "#fdca26"
            ],
            [
             1,
             "#f0f921"
            ]
           ],
           "sequentialminus": [
            [
             0,
             "#0d0887"
            ],
            [
             0.1111111111111111,
             "#46039f"
            ],
            [
             0.2222222222222222,
             "#7201a8"
            ],
            [
             0.3333333333333333,
             "#9c179e"
            ],
            [
             0.4444444444444444,
             "#bd3786"
            ],
            [
             0.5555555555555556,
             "#d8576b"
            ],
            [
             0.6666666666666666,
             "#ed7953"
            ],
            [
             0.7777777777777778,
             "#fb9f3a"
            ],
            [
             0.8888888888888888,
             "#fdca26"
            ],
            [
             1,
             "#f0f921"
            ]
           ]
          },
          "colorway": [
           "#636efa",
           "#EF553B",
           "#00cc96",
           "#ab63fa",
           "#FFA15A",
           "#19d3f3",
           "#FF6692",
           "#B6E880",
           "#FF97FF",
           "#FECB52"
          ],
          "font": {
           "color": "#2a3f5f"
          },
          "geo": {
           "bgcolor": "white",
           "lakecolor": "white",
           "landcolor": "#E5ECF6",
           "showlakes": true,
           "showland": true,
           "subunitcolor": "white"
          },
          "hoverlabel": {
           "align": "left"
          },
          "hovermode": "closest",
          "mapbox": {
           "style": "light"
          },
          "paper_bgcolor": "white",
          "plot_bgcolor": "#E5ECF6",
          "polar": {
           "angularaxis": {
            "gridcolor": "white",
            "linecolor": "white",
            "ticks": ""
           },
           "bgcolor": "#E5ECF6",
           "radialaxis": {
            "gridcolor": "white",
            "linecolor": "white",
            "ticks": ""
           }
          },
          "scene": {
           "xaxis": {
            "backgroundcolor": "#E5ECF6",
            "gridcolor": "white",
            "gridwidth": 2,
            "linecolor": "white",
            "showbackground": true,
            "ticks": "",
            "zerolinecolor": "white"
           },
           "yaxis": {
            "backgroundcolor": "#E5ECF6",
            "gridcolor": "white",
            "gridwidth": 2,
            "linecolor": "white",
            "showbackground": true,
            "ticks": "",
            "zerolinecolor": "white"
           },
           "zaxis": {
            "backgroundcolor": "#E5ECF6",
            "gridcolor": "white",
            "gridwidth": 2,
            "linecolor": "white",
            "showbackground": true,
            "ticks": "",
            "zerolinecolor": "white"
           }
          },
          "shapedefaults": {
           "line": {
            "color": "#2a3f5f"
           }
          },
          "ternary": {
           "aaxis": {
            "gridcolor": "white",
            "linecolor": "white",
            "ticks": ""
           },
           "baxis": {
            "gridcolor": "white",
            "linecolor": "white",
            "ticks": ""
           },
           "bgcolor": "#E5ECF6",
           "caxis": {
            "gridcolor": "white",
            "linecolor": "white",
            "ticks": ""
           }
          },
          "title": {
           "x": 0.05
          },
          "xaxis": {
           "automargin": true,
           "gridcolor": "white",
           "linecolor": "white",
           "ticks": "",
           "title": {
            "standoff": 15
           },
           "zerolinecolor": "white",
           "zerolinewidth": 2
          },
          "yaxis": {
           "automargin": true,
           "gridcolor": "white",
           "linecolor": "white",
           "ticks": "",
           "title": {
            "standoff": 15
           },
           "zerolinecolor": "white",
           "zerolinewidth": 2
          }
         }
        },
        "xaxis": {
         "anchor": "y",
         "domain": [
          0,
          1
         ],
         "title": {
          "text": "alpha"
         },
         "type": "log"
        },
        "yaxis": {
         "anchor": "x",
         "domain": [
          0,
          1
         ],
         "title": {
          "text": "R^2 (mean)"
         }
        }
       }
      },
      "text/html": "<div>                            <div id=\"3e8264b1-f1f4-4426-b5ac-e2bc45b4855a\" class=\"plotly-graph-div\" style=\"height:525px; width:100%;\"></div>            <script type=\"text/javascript\">                require([\"plotly\"], function(Plotly) {                    window.PLOTLYENV=window.PLOTLYENV || {};                                    if (document.getElementById(\"3e8264b1-f1f4-4426-b5ac-e2bc45b4855a\")) {                    Plotly.newPlot(                        \"3e8264b1-f1f4-4426-b5ac-e2bc45b4855a\",                        [{\"hovertemplate\": \"alpha=%{x}<br>R^2 (mean)=%{y}<extra></extra>\", \"legendgroup\": \"\", \"line\": {\"color\": \"#636efa\", \"dash\": \"solid\"}, \"mode\": \"lines\", \"name\": \"\", \"orientation\": \"v\", \"showlegend\": false, \"type\": \"scatter\", \"x\": [0.01, 0.010913767146512732, 0.011911031332830068, 0.012999422244132456, 0.014187266741165962, 0.015483652565854992, 0.01689849786812457, 0.018442627085855347, 0.020127853758499396, 0.021967070907932353, 0.02397434967801077, 0.02616504698748821, 0.028555923019901074, 0.031165269449294302, 0.03401304938279253, 0.03712105009066361, 0.04051304969235382, 0.04421499907374487, 0.04825522042741279, 0.05266462393484278, 0.05747694424835353, 0.06272899858196247, 0.06846096838574658, 0.07471670675868078, 0.08154407395185162, 0.08899530352885233, 0.09712740198471168, 0.10600258488068824, 0.11568875283162827, 0.12626001098748565, 0.13779723598335575, 0.150388694695541, 0.1641307195375129, 0.1791284454622004, 0.19549661430912604, 0.21336045265014109, 0.23285662984981953, 0.25413430367026363, 0.2773562614198415, 0.3027001653763463, 0.33035991201283393, 0.3605471154250504, 0.39349272630958493, 0.42944879887892745, 0.46869041923141924, 0.5115178099293143, 0.5582586268862695, 0.6092704661368677, 0.6649435996665045, 0.7257039612324216, 0.7920164050192553, 0.864388262059827, 0.9433732216299778, 1.0295755673125127, 1.1236548001387516, 1.2263306841775632, 1.3383887531737577, 1.460686320364989, 1.5941590374559995, 1.739828052930364, 1.8988078244652633, 2.0723146452190293, 2.2616759492228646, 2.4683404670686486, 2.6938893095901726, 2.940048064334711, 3.2086999973704504, 3.501900461431713, 3.8218926206331187, 4.171124612056521, 4.55226827550731, 4.968239594734388, 5.422221006501586, 5.917685748188824, 6.458424430196978, 7.048574036451903, 7.692649574879146, 8.395578619995112, 9.16273901188674, 10.0], \"xaxis\": \"x\", \"y\": [0.48109762506564663, 0.4811262562297909, 0.48119417468904946, 0.4812364960764121, 0.4813265979957456, 0.4814786439297178, 0.4816195619938358, 0.48172274969408174, 0.4817662909005594, 0.4818054322568043, 0.48183862477204265, 0.4818952774011186, 0.48197643648992533, 0.4820502571919807, 0.48209880882267947, 0.4821161739261865, 0.48210812734546754, 0.4820710881060049, 0.48204290204606526, 0.48202968058883544, 0.4819743856370648, 0.4818491653953152, 0.4816430791400288, 0.4813200693509577, 0.4809116830829795, 0.48040005276521497, 0.4797615422005938, 0.4790059250647534, 0.47838469097774217, 0.47740926538871964, 0.4763194099004823, 0.47514733193774816, 0.47390033089939515, 0.47257153468634916, 0.47093175534778214, 0.4689196424354172, 0.4664585222273039, 0.46351431051606246, 0.4607120470171111, 0.45781700390027796, 0.45536085890459554, 0.45245355940311016, 0.44905122433464423, 0.4448832181218867, 0.4398395578479777, 0.43379747800235224, 0.426457290859606, 0.41753254921387856, 0.40699777672879944, 0.3955651123256718, 0.3824554235825558, 0.3670628579219751, 0.3501707686507184, 0.33066309101483204, 0.3076380161715384, 0.2817257771027316, 0.2508622767930412, 0.21410171349813903, 0.1703177493570507, 0.11816784879048832, 0.056053873031804625, -0.004636105595726558, -0.025841956969922596, -0.02750604135376733, -0.02750604135376733, -0.02750604135376733, -0.02750604135376733, -0.02750604135376733, -0.02750604135376733, -0.02750604135376733, -0.02750604135376733, -0.02750604135376733, -0.02750604135376733, -0.02750604135376733, -0.02750604135376733, -0.02750604135376733, -0.02750604135376733, -0.02750604135376733, -0.02750604135376733, -0.02750604135376733], \"yaxis\": \"y\"}],                        {\"legend\": {\"tracegroupgap\": 0}, \"margin\": {\"t\": 60}, \"template\": {\"data\": {\"bar\": [{\"error_x\": {\"color\": \"#2a3f5f\"}, \"error_y\": {\"color\": \"#2a3f5f\"}, \"marker\": {\"line\": {\"color\": \"#E5ECF6\", \"width\": 0.5}}, \"type\": \"bar\"}], \"barpolar\": [{\"marker\": {\"line\": {\"color\": \"#E5ECF6\", \"width\": 0.5}}, \"type\": \"barpolar\"}], \"carpet\": [{\"aaxis\": {\"endlinecolor\": \"#2a3f5f\", \"gridcolor\": \"white\", \"linecolor\": \"white\", \"minorgridcolor\": \"white\", \"startlinecolor\": \"#2a3f5f\"}, \"baxis\": {\"endlinecolor\": \"#2a3f5f\", \"gridcolor\": \"white\", \"linecolor\": \"white\", \"minorgridcolor\": \"white\", \"startlinecolor\": \"#2a3f5f\"}, \"type\": \"carpet\"}], \"choropleth\": [{\"colorbar\": {\"outlinewidth\": 0, \"ticks\": \"\"}, \"type\": \"choropleth\"}], \"contour\": [{\"colorbar\": {\"outlinewidth\": 0, \"ticks\": \"\"}, \"colorscale\": [[0.0, \"#0d0887\"], [0.1111111111111111, \"#46039f\"], [0.2222222222222222, \"#7201a8\"], [0.3333333333333333, \"#9c179e\"], [0.4444444444444444, \"#bd3786\"], [0.5555555555555556, \"#d8576b\"], [0.6666666666666666, \"#ed7953\"], [0.7777777777777778, \"#fb9f3a\"], [0.8888888888888888, \"#fdca26\"], [1.0, \"#f0f921\"]], \"type\": \"contour\"}], \"contourcarpet\": [{\"colorbar\": {\"outlinewidth\": 0, \"ticks\": \"\"}, \"type\": \"contourcarpet\"}], \"heatmap\": [{\"colorbar\": {\"outlinewidth\": 0, \"ticks\": \"\"}, \"colorscale\": [[0.0, \"#0d0887\"], [0.1111111111111111, \"#46039f\"], [0.2222222222222222, \"#7201a8\"], [0.3333333333333333, \"#9c179e\"], [0.4444444444444444, \"#bd3786\"], [0.5555555555555556, \"#d8576b\"], [0.6666666666666666, \"#ed7953\"], [0.7777777777777778, \"#fb9f3a\"], [0.8888888888888888, \"#fdca26\"], [1.0, \"#f0f921\"]], \"type\": \"heatmap\"}], \"heatmapgl\": [{\"colorbar\": {\"outlinewidth\": 0, \"ticks\": \"\"}, \"colorscale\": [[0.0, \"#0d0887\"], [0.1111111111111111, \"#46039f\"], [0.2222222222222222, \"#7201a8\"], [0.3333333333333333, \"#9c179e\"], [0.4444444444444444, \"#bd3786\"], [0.5555555555555556, \"#d8576b\"], [0.6666666666666666, \"#ed7953\"], [0.7777777777777778, \"#fb9f3a\"], [0.8888888888888888, \"#fdca26\"], [1.0, \"#f0f921\"]], \"type\": \"heatmapgl\"}], \"histogram\": [{\"marker\": {\"colorbar\": {\"outlinewidth\": 0, \"ticks\": \"\"}}, \"type\": \"histogram\"}], \"histogram2d\": [{\"colorbar\": {\"outlinewidth\": 0, \"ticks\": \"\"}, \"colorscale\": [[0.0, \"#0d0887\"], [0.1111111111111111, \"#46039f\"], [0.2222222222222222, \"#7201a8\"], [0.3333333333333333, \"#9c179e\"], [0.4444444444444444, \"#bd3786\"], [0.5555555555555556, \"#d8576b\"], [0.6666666666666666, \"#ed7953\"], [0.7777777777777778, \"#fb9f3a\"], [0.8888888888888888, \"#fdca26\"], [1.0, \"#f0f921\"]], \"type\": \"histogram2d\"}], \"histogram2dcontour\": [{\"colorbar\": {\"outlinewidth\": 0, \"ticks\": \"\"}, \"colorscale\": [[0.0, \"#0d0887\"], [0.1111111111111111, \"#46039f\"], [0.2222222222222222, \"#7201a8\"], [0.3333333333333333, \"#9c179e\"], [0.4444444444444444, \"#bd3786\"], [0.5555555555555556, \"#d8576b\"], [0.6666666666666666, \"#ed7953\"], [0.7777777777777778, \"#fb9f3a\"], [0.8888888888888888, \"#fdca26\"], [1.0, \"#f0f921\"]], \"type\": \"histogram2dcontour\"}], \"mesh3d\": [{\"colorbar\": {\"outlinewidth\": 0, \"ticks\": \"\"}, \"type\": \"mesh3d\"}], \"parcoords\": [{\"line\": {\"colorbar\": {\"outlinewidth\": 0, \"ticks\": \"\"}}, \"type\": \"parcoords\"}], \"pie\": [{\"automargin\": true, \"type\": \"pie\"}], \"scatter\": [{\"marker\": {\"colorbar\": {\"outlinewidth\": 0, \"ticks\": \"\"}}, \"type\": \"scatter\"}], \"scatter3d\": [{\"line\": {\"colorbar\": {\"outlinewidth\": 0, \"ticks\": \"\"}}, \"marker\": {\"colorbar\": {\"outlinewidth\": 0, \"ticks\": \"\"}}, \"type\": \"scatter3d\"}], \"scattercarpet\": [{\"marker\": {\"colorbar\": {\"outlinewidth\": 0, \"ticks\": \"\"}}, \"type\": \"scattercarpet\"}], \"scattergeo\": [{\"marker\": {\"colorbar\": {\"outlinewidth\": 0, \"ticks\": \"\"}}, \"type\": \"scattergeo\"}], \"scattergl\": [{\"marker\": {\"colorbar\": {\"outlinewidth\": 0, \"ticks\": \"\"}}, \"type\": \"scattergl\"}], \"scattermapbox\": [{\"marker\": {\"colorbar\": {\"outlinewidth\": 0, \"ticks\": \"\"}}, \"type\": \"scattermapbox\"}], \"scatterpolar\": [{\"marker\": {\"colorbar\": {\"outlinewidth\": 0, \"ticks\": \"\"}}, \"type\": \"scatterpolar\"}], \"scatterpolargl\": [{\"marker\": {\"colorbar\": {\"outlinewidth\": 0, \"ticks\": \"\"}}, \"type\": \"scatterpolargl\"}], \"scatterternary\": [{\"marker\": {\"colorbar\": {\"outlinewidth\": 0, \"ticks\": \"\"}}, \"type\": \"scatterternary\"}], \"surface\": [{\"colorbar\": {\"outlinewidth\": 0, \"ticks\": \"\"}, \"colorscale\": [[0.0, \"#0d0887\"], [0.1111111111111111, \"#46039f\"], [0.2222222222222222, \"#7201a8\"], [0.3333333333333333, \"#9c179e\"], [0.4444444444444444, \"#bd3786\"], [0.5555555555555556, \"#d8576b\"], [0.6666666666666666, \"#ed7953\"], [0.7777777777777778, \"#fb9f3a\"], [0.8888888888888888, \"#fdca26\"], [1.0, \"#f0f921\"]], \"type\": \"surface\"}], \"table\": [{\"cells\": {\"fill\": {\"color\": \"#EBF0F8\"}, \"line\": {\"color\": \"white\"}}, \"header\": {\"fill\": {\"color\": \"#C8D4E3\"}, \"line\": {\"color\": \"white\"}}, \"type\": \"table\"}]}, \"layout\": {\"annotationdefaults\": {\"arrowcolor\": \"#2a3f5f\", \"arrowhead\": 0, \"arrowwidth\": 1}, \"coloraxis\": {\"colorbar\": {\"outlinewidth\": 0, \"ticks\": \"\"}}, \"colorscale\": {\"diverging\": [[0, \"#8e0152\"], [0.1, \"#c51b7d\"], [0.2, \"#de77ae\"], [0.3, \"#f1b6da\"], [0.4, \"#fde0ef\"], [0.5, \"#f7f7f7\"], [0.6, \"#e6f5d0\"], [0.7, \"#b8e186\"], [0.8, \"#7fbc41\"], [0.9, \"#4d9221\"], [1, \"#276419\"]], \"sequential\": [[0.0, \"#0d0887\"], [0.1111111111111111, \"#46039f\"], [0.2222222222222222, \"#7201a8\"], [0.3333333333333333, \"#9c179e\"], [0.4444444444444444, \"#bd3786\"], [0.5555555555555556, \"#d8576b\"], [0.6666666666666666, \"#ed7953\"], [0.7777777777777778, \"#fb9f3a\"], [0.8888888888888888, \"#fdca26\"], [1.0, \"#f0f921\"]], \"sequentialminus\": [[0.0, \"#0d0887\"], [0.1111111111111111, \"#46039f\"], [0.2222222222222222, \"#7201a8\"], [0.3333333333333333, \"#9c179e\"], [0.4444444444444444, \"#bd3786\"], [0.5555555555555556, \"#d8576b\"], [0.6666666666666666, \"#ed7953\"], [0.7777777777777778, \"#fb9f3a\"], [0.8888888888888888, \"#fdca26\"], [1.0, \"#f0f921\"]]}, \"colorway\": [\"#636efa\", \"#EF553B\", \"#00cc96\", \"#ab63fa\", \"#FFA15A\", \"#19d3f3\", \"#FF6692\", \"#B6E880\", \"#FF97FF\", \"#FECB52\"], \"font\": {\"color\": \"#2a3f5f\"}, \"geo\": {\"bgcolor\": \"white\", \"lakecolor\": \"white\", \"landcolor\": \"#E5ECF6\", \"showlakes\": true, \"showland\": true, \"subunitcolor\": \"white\"}, \"hoverlabel\": {\"align\": \"left\"}, \"hovermode\": \"closest\", \"mapbox\": {\"style\": \"light\"}, \"paper_bgcolor\": \"white\", \"plot_bgcolor\": \"#E5ECF6\", \"polar\": {\"angularaxis\": {\"gridcolor\": \"white\", \"linecolor\": \"white\", \"ticks\": \"\"}, \"bgcolor\": \"#E5ECF6\", \"radialaxis\": {\"gridcolor\": \"white\", \"linecolor\": \"white\", \"ticks\": \"\"}}, \"scene\": {\"xaxis\": {\"backgroundcolor\": \"#E5ECF6\", \"gridcolor\": \"white\", \"gridwidth\": 2, \"linecolor\": \"white\", \"showbackground\": true, \"ticks\": \"\", \"zerolinecolor\": \"white\"}, \"yaxis\": {\"backgroundcolor\": \"#E5ECF6\", \"gridcolor\": \"white\", \"gridwidth\": 2, \"linecolor\": \"white\", \"showbackground\": true, \"ticks\": \"\", \"zerolinecolor\": \"white\"}, \"zaxis\": {\"backgroundcolor\": \"#E5ECF6\", \"gridcolor\": \"white\", \"gridwidth\": 2, \"linecolor\": \"white\", \"showbackground\": true, \"ticks\": \"\", \"zerolinecolor\": \"white\"}}, \"shapedefaults\": {\"line\": {\"color\": \"#2a3f5f\"}}, \"ternary\": {\"aaxis\": {\"gridcolor\": \"white\", \"linecolor\": \"white\", \"ticks\": \"\"}, \"baxis\": {\"gridcolor\": \"white\", \"linecolor\": \"white\", \"ticks\": \"\"}, \"bgcolor\": \"#E5ECF6\", \"caxis\": {\"gridcolor\": \"white\", \"linecolor\": \"white\", \"ticks\": \"\"}}, \"title\": {\"x\": 0.05}, \"xaxis\": {\"automargin\": true, \"gridcolor\": \"white\", \"linecolor\": \"white\", \"ticks\": \"\", \"title\": {\"standoff\": 15}, \"zerolinecolor\": \"white\", \"zerolinewidth\": 2}, \"yaxis\": {\"automargin\": true, \"gridcolor\": \"white\", \"linecolor\": \"white\", \"ticks\": \"\", \"title\": {\"standoff\": 15}, \"zerolinecolor\": \"white\", \"zerolinewidth\": 2}}}, \"xaxis\": {\"anchor\": \"y\", \"domain\": [0.0, 1.0], \"title\": {\"text\": \"alpha\"}, \"type\": \"log\"}, \"yaxis\": {\"anchor\": \"x\", \"domain\": [0.0, 1.0], \"title\": {\"text\": \"R^2 (mean)\"}}},                        {\"responsive\": true}                    ).then(function(){\n                            \nvar gd = document.getElementById('3e8264b1-f1f4-4426-b5ac-e2bc45b4855a');\nvar x = new MutationObserver(function (mutations, observer) {{\n        var display = window.getComputedStyle(gd).display;\n        if (!display || display === 'none') {{\n            console.log([gd, 'removed!']);\n            Plotly.purge(gd);\n            observer.disconnect();\n        }}\n}});\n\n// Listen for the removal of the full notebook cells\nvar notebookContainer = gd.closest('#notebook-container');\nif (notebookContainer) {{\n    x.observe(notebookContainer, {childList: true});\n}}\n\n// Listen for the clearing of the current output cell\nvar outputEl = gd.closest('.output');\nif (outputEl) {{\n    x.observe(outputEl, {childList: true});\n}}\n\n                        })                };                });            </script>        </div>"
     },
     "metadata": {}
    }
   ],
   "source": [
    "# we pick alpha before the drop of the R^2 value\n",
    "r2_means = []\n",
    "\n",
    "for i in alphas:\n",
    "    r2_means.append(cross_val_score(Lasso(alpha=i), original_X, original_y).mean())\n",
    "\n",
    "result = pd.DataFrame(zip(alphas, r2_means), columns=['alpha', 'R^2 (mean)'])\n",
    "fig = px.line(result, x='alpha', y='R^2 (mean)')\n",
    "fig.update_xaxes(type='log')\n",
    "fig.show()"
   ]
  },
  {
   "source": [
    "## Coefficients"
   ],
   "cell_type": "markdown",
   "metadata": {}
  },
  {
   "cell_type": "code",
   "execution_count": 5,
   "metadata": {},
   "outputs": [
    {
     "output_type": "display_data",
     "data": {
      "application/vnd.plotly.v1+json": {
       "config": {
        "plotlyServerURL": "https://plot.ly"
       },
       "data": [
        {
         "hovertemplate": "variable=age<br>alphas=%{x}<br>value=%{y}<extra></extra>",
         "legendgroup": "age",
         "line": {
          "color": "#636efa",
          "dash": "solid"
         },
         "mode": "lines",
         "name": "age",
         "orientation": "v",
         "showlegend": true,
         "type": "scatter",
         "x": [
          0.01,
          0.010913767146512732,
          0.011911031332830068,
          0.012999422244132456,
          0.014187266741165962,
          0.015483652565854992,
          0.01689849786812457,
          0.018442627085855347,
          0.020127853758499396,
          0.021967070907932353,
          0.02397434967801077,
          0.02616504698748821,
          0.028555923019901074,
          0.031165269449294302,
          0.03401304938279253,
          0.03712105009066361,
          0.04051304969235382,
          0.04421499907374487,
          0.04825522042741279,
          0.05266462393484278,
          0.05747694424835353,
          0.06272899858196247,
          0.06846096838574658,
          0.07471670675868078,
          0.08154407395185162,
          0.08899530352885233,
          0.09712740198471168,
          0.10600258488068824,
          0.11568875283162827,
          0.12626001098748565,
          0.13779723598335575,
          0.150388694695541,
          0.1641307195375129,
          0.1791284454622004,
          0.19549661430912604,
          0.21336045265014109,
          0.23285662984981953,
          0.25413430367026363,
          0.2773562614198415,
          0.3027001653763463,
          0.33035991201283393,
          0.3605471154250504,
          0.39349272630958493,
          0.42944879887892745,
          0.46869041923141924,
          0.5115178099293143,
          0.5582586268862695,
          0.6092704661368677,
          0.6649435996665045,
          0.7257039612324216,
          0.7920164050192553,
          0.864388262059827,
          0.9433732216299778,
          1.0295755673125127,
          1.1236548001387516,
          1.2263306841775632,
          1.3383887531737577,
          1.460686320364989,
          1.5941590374559995,
          1.739828052930364,
          1.8988078244652633,
          2.0723146452190293,
          2.2616759492228646,
          2.4683404670686486,
          2.6938893095901726,
          2.940048064334711,
          3.2086999973704504,
          3.501900461431713,
          3.8218926206331187,
          4.171124612056521,
          4.55226827550731,
          4.968239594734388,
          5.422221006501586,
          5.917685748188824,
          6.458424430196978,
          7.048574036451903,
          7.692649574879146,
          8.395578619995112,
          9.16273901188674,
          10
         ],
         "xaxis": "x",
         "y": [
          -1.3065752236532717,
          -0.5124101363129574,
          0,
          0,
          0,
          0,
          0,
          0,
          0,
          0,
          0,
          0,
          0,
          0,
          0,
          0,
          0,
          0,
          0,
          0,
          0,
          0,
          0,
          0,
          0,
          0,
          0,
          0,
          0,
          0,
          0,
          0,
          0,
          0,
          0,
          0,
          0,
          0,
          0,
          0,
          0,
          0,
          0,
          0,
          0,
          0,
          0,
          0,
          0,
          0,
          0,
          0,
          0,
          0,
          0,
          0,
          0,
          0,
          0,
          0,
          0,
          0,
          0,
          0,
          0,
          0,
          0,
          0,
          0,
          0,
          0,
          0,
          0,
          0,
          0,
          0,
          0,
          0,
          0,
          0
         ],
         "yaxis": "y"
        },
        {
         "hovertemplate": "variable=sex<br>alphas=%{x}<br>value=%{y}<extra></extra>",
         "legendgroup": "sex",
         "line": {
          "color": "#EF553B",
          "dash": "solid"
         },
         "mode": "lines",
         "name": "sex",
         "orientation": "v",
         "showlegend": true,
         "type": "scatter",
         "x": [
          0.01,
          0.010913767146512732,
          0.011911031332830068,
          0.012999422244132456,
          0.014187266741165962,
          0.015483652565854992,
          0.01689849786812457,
          0.018442627085855347,
          0.020127853758499396,
          0.021967070907932353,
          0.02397434967801077,
          0.02616504698748821,
          0.028555923019901074,
          0.031165269449294302,
          0.03401304938279253,
          0.03712105009066361,
          0.04051304969235382,
          0.04421499907374487,
          0.04825522042741279,
          0.05266462393484278,
          0.05747694424835353,
          0.06272899858196247,
          0.06846096838574658,
          0.07471670675868078,
          0.08154407395185162,
          0.08899530352885233,
          0.09712740198471168,
          0.10600258488068824,
          0.11568875283162827,
          0.12626001098748565,
          0.13779723598335575,
          0.150388694695541,
          0.1641307195375129,
          0.1791284454622004,
          0.19549661430912604,
          0.21336045265014109,
          0.23285662984981953,
          0.25413430367026363,
          0.2773562614198415,
          0.3027001653763463,
          0.33035991201283393,
          0.3605471154250504,
          0.39349272630958493,
          0.42944879887892745,
          0.46869041923141924,
          0.5115178099293143,
          0.5582586268862695,
          0.6092704661368677,
          0.6649435996665045,
          0.7257039612324216,
          0.7920164050192553,
          0.864388262059827,
          0.9433732216299778,
          1.0295755673125127,
          1.1236548001387516,
          1.2263306841775632,
          1.3383887531737577,
          1.460686320364989,
          1.5941590374559995,
          1.739828052930364,
          1.8988078244652633,
          2.0723146452190293,
          2.2616759492228646,
          2.4683404670686486,
          2.6938893095901726,
          2.940048064334711,
          3.2086999973704504,
          3.501900461431713,
          3.8218926206331187,
          4.171124612056521,
          4.55226827550731,
          4.968239594734388,
          5.422221006501586,
          5.917685748188824,
          6.458424430196978,
          7.048574036451903,
          7.692649574879146,
          8.395578619995112,
          9.16273901188674,
          10
         ],
         "xaxis": "x",
         "y": [
          -228.8223309629698,
          -227.81961121326376,
          -226.68892903387433,
          -225.62433715097725,
          -224.5966142068485,
          -223.47500316343093,
          -222.25090688978943,
          -220.91668431676416,
          -219.45857429139414,
          -217.86897634788002,
          -216.13210247527658,
          -214.2382235130078,
          -212.1709875757949,
          -209.91438301614704,
          -207.45059345026698,
          -204.76237378744187,
          -201.82998589020792,
          -198.627531684174,
          -195.39819138114188,
          -191.98507425933926,
          -188.26134574344945,
          -184.19769122810166,
          -179.76249005459042,
          -174.92176560918656,
          -169.63846332951584,
          -163.8737063281848,
          -157.58449528417603,
          -150.70559007542283,
          -143.2093596005265,
          -135.04376614143246,
          -126.10965763465178,
          -116.36668828837904,
          -105.2574790625583,
          -92.86124575275362,
          -79.33588970194357,
          -64.87041339081833,
          -49.2565091272868,
          -32.21585758927429,
          -13.618087298200843,
          0,
          0,
          0,
          0,
          0,
          0,
          0,
          0,
          0,
          0,
          0,
          0,
          0,
          0,
          0,
          0,
          0,
          0,
          0,
          0,
          0,
          0,
          0,
          0,
          0,
          0,
          0,
          0,
          0,
          0,
          0,
          0,
          0,
          0,
          0,
          0,
          0,
          0,
          0,
          0,
          0
         ],
         "yaxis": "y"
        },
        {
         "hovertemplate": "variable=bmi<br>alphas=%{x}<br>value=%{y}<extra></extra>",
         "legendgroup": "bmi",
         "line": {
          "color": "#00cc96",
          "dash": "solid"
         },
         "mode": "lines",
         "name": "bmi",
         "orientation": "v",
         "showlegend": true,
         "type": "scatter",
         "x": [
          0.01,
          0.010913767146512732,
          0.011911031332830068,
          0.012999422244132456,
          0.014187266741165962,
          0.015483652565854992,
          0.01689849786812457,
          0.018442627085855347,
          0.020127853758499396,
          0.021967070907932353,
          0.02397434967801077,
          0.02616504698748821,
          0.028555923019901074,
          0.031165269449294302,
          0.03401304938279253,
          0.03712105009066361,
          0.04051304969235382,
          0.04421499907374487,
          0.04825522042741279,
          0.05266462393484278,
          0.05747694424835353,
          0.06272899858196247,
          0.06846096838574658,
          0.07471670675868078,
          0.08154407395185162,
          0.08899530352885233,
          0.09712740198471168,
          0.10600258488068824,
          0.11568875283162827,
          0.12626001098748565,
          0.13779723598335575,
          0.150388694695541,
          0.1641307195375129,
          0.1791284454622004,
          0.19549661430912604,
          0.21336045265014109,
          0.23285662984981953,
          0.25413430367026363,
          0.2773562614198415,
          0.3027001653763463,
          0.33035991201283393,
          0.3605471154250504,
          0.39349272630958493,
          0.42944879887892745,
          0.46869041923141924,
          0.5115178099293143,
          0.5582586268862695,
          0.6092704661368677,
          0.6649435996665045,
          0.7257039612324216,
          0.7920164050192553,
          0.864388262059827,
          0.9433732216299778,
          1.0295755673125127,
          1.1236548001387516,
          1.2263306841775632,
          1.3383887531737577,
          1.460686320364989,
          1.5941590374559995,
          1.739828052930364,
          1.8988078244652633,
          2.0723146452190293,
          2.2616759492228646,
          2.4683404670686486,
          2.6938893095901726,
          2.940048064334711,
          3.2086999973704504,
          3.501900461431713,
          3.8218926206331187,
          4.171124612056521,
          4.55226827550731,
          4.968239594734388,
          5.422221006501586,
          5.917685748188824,
          6.458424430196978,
          7.048574036451903,
          7.692649574879146,
          8.395578619995112,
          9.16273901188674,
          10
         ],
         "xaxis": "x",
         "y": [
          525.5606580243626,
          526.0792164081499,
          526.6435943105996,
          526.7670855328313,
          526.6008557835953,
          526.4193902868299,
          526.2213348140225,
          526.0015267932177,
          525.7658023747995,
          525.5048372471326,
          525.2243072890225,
          524.9145368934808,
          524.5770965114981,
          524.209819213622,
          523.8110628440518,
          523.3743823796035,
          522.8946843963867,
          522.3756258494046,
          521.9795227093682,
          521.5735783701093,
          521.1280975124076,
          520.6411946176889,
          520.110138154191,
          519.5309727670973,
          518.8993259411443,
          518.2079244517403,
          517.4498132559303,
          516.6472050028058,
          515.75259987471,
          514.7521467089289,
          513.6955335527922,
          512.5331674589399,
          511.9709677919824,
          511.7350914023338,
          511.4722632287535,
          510.6135266554792,
          509.4300024864154,
          508.1383317670721,
          506.7286324209841,
          504.28853825375006,
          499.63408822604885,
          494.54239214744814,
          488.9896751553008,
          482.9295691270232,
          476.3157105194431,
          469.0974992411342,
          461.21971153055455,
          452.62207746026206,
          443.2388198348527,
          432.2698455301515,
          416.6609896545387,
          399.6225074421385,
          381.0307826680168,
          360.3889849496285,
          331.64322351469104,
          300.26326349868475,
          266.01398705894655,
          228.63425341506706,
          187.83888251626973,
          143.31576465176104,
          94.72427055076092,
          33.472187197310575,
          0,
          0,
          0,
          0,
          0,
          0,
          0,
          0,
          0,
          0,
          0,
          0,
          0,
          0,
          0,
          0,
          0,
          0
         ],
         "yaxis": "y"
        },
        {
         "hovertemplate": "variable=bp<br>alphas=%{x}<br>value=%{y}<extra></extra>",
         "legendgroup": "bp",
         "line": {
          "color": "#ab63fa",
          "dash": "solid"
         },
         "mode": "lines",
         "name": "bp",
         "orientation": "v",
         "showlegend": true,
         "type": "scatter",
         "x": [
          0.01,
          0.010913767146512732,
          0.011911031332830068,
          0.012999422244132456,
          0.014187266741165962,
          0.015483652565854992,
          0.01689849786812457,
          0.018442627085855347,
          0.020127853758499396,
          0.021967070907932353,
          0.02397434967801077,
          0.02616504698748821,
          0.028555923019901074,
          0.031165269449294302,
          0.03401304938279253,
          0.03712105009066361,
          0.04051304969235382,
          0.04421499907374487,
          0.04825522042741279,
          0.05266462393484278,
          0.05747694424835353,
          0.06272899858196247,
          0.06846096838574658,
          0.07471670675868078,
          0.08154407395185162,
          0.08899530352885233,
          0.09712740198471168,
          0.10600258488068824,
          0.11568875283162827,
          0.12626001098748565,
          0.13779723598335575,
          0.150388694695541,
          0.1641307195375129,
          0.1791284454622004,
          0.19549661430912604,
          0.21336045265014109,
          0.23285662984981953,
          0.25413430367026363,
          0.2773562614198415,
          0.3027001653763463,
          0.33035991201283393,
          0.3605471154250504,
          0.39349272630958493,
          0.42944879887892745,
          0.46869041923141924,
          0.5115178099293143,
          0.5582586268862695,
          0.6092704661368677,
          0.6649435996665045,
          0.7257039612324216,
          0.7920164050192553,
          0.864388262059827,
          0.9433732216299778,
          1.0295755673125127,
          1.1236548001387516,
          1.2263306841775632,
          1.3383887531737577,
          1.460686320364989,
          1.5941590374559995,
          1.739828052930364,
          1.8988078244652633,
          2.0723146452190293,
          2.2616759492228646,
          2.4683404670686486,
          2.6938893095901726,
          2.940048064334711,
          3.2086999973704504,
          3.501900461431713,
          3.8218926206331187,
          4.171124612056521,
          4.55226827550731,
          4.968239594734388,
          5.422221006501586,
          5.917685748188824,
          6.458424430196978,
          7.048574036451903,
          7.692649574879146,
          8.395578619995112,
          9.16273901188674,
          10
         ],
         "xaxis": "x",
         "y": [
          316.17531972782973,
          315.4268411414176,
          314.683381235279,
          314.06055298470625,
          313.4371702226585,
          312.75681070840784,
          312.014279661545,
          311.20278488616134,
          310.31840870055936,
          309.352093397529,
          308.29878393286185,
          307.1481275640454,
          305.89252173553405,
          304.5224866518421,
          303.02789652329113,
          301.39628254094094,
          299.6146278375288,
          297.6715336800466,
          295.92628402479085,
          294.1508484536364,
          292.2124609844809,
          290.0966555936256,
          287.7875494971906,
          285.26753883745624,
          282.5173918214102,
          279.51576407738526,
          276.23962164730483,
          272.6691921483248,
          268.7685246189146,
          264.50870563923894,
          259.86467259510385,
          254.79801228112743,
          249.21187890226116,
          243.06537251452255,
          236.35816619391304,
          228.39613030066943,
          219.45903598626856,
          209.70529935488918,
          199.0602983145605,
          189.05902274290776,
          181.67931416171498,
          173.64180687918775,
          164.86876974401386,
          155.29408129791395,
          144.84448927779982,
          133.4400478694415,
          120.99350607275467,
          107.40964017791671,
          92.58452524534512,
          76.51824077506419,
          59.53388937408106,
          41.01184573376252,
          20.795578414616802,
          0,
          0,
          0,
          0,
          0,
          0,
          0,
          0,
          0,
          0,
          0,
          0,
          0,
          0,
          0,
          0,
          0,
          0,
          0,
          0,
          0,
          0,
          0,
          0,
          0,
          0,
          0
         ],
         "yaxis": "y"
        },
        {
         "hovertemplate": "variable=s1<br>alphas=%{x}<br>value=%{y}<extra></extra>",
         "legendgroup": "s1",
         "line": {
          "color": "#FFA15A",
          "dash": "solid"
         },
         "mode": "lines",
         "name": "s1",
         "orientation": "v",
         "showlegend": true,
         "type": "scatter",
         "x": [
          0.01,
          0.010913767146512732,
          0.011911031332830068,
          0.012999422244132456,
          0.014187266741165962,
          0.015483652565854992,
          0.01689849786812457,
          0.018442627085855347,
          0.020127853758499396,
          0.021967070907932353,
          0.02397434967801077,
          0.02616504698748821,
          0.028555923019901074,
          0.031165269449294302,
          0.03401304938279253,
          0.03712105009066361,
          0.04051304969235382,
          0.04421499907374487,
          0.04825522042741279,
          0.05266462393484278,
          0.05747694424835353,
          0.06272899858196247,
          0.06846096838574658,
          0.07471670675868078,
          0.08154407395185162,
          0.08899530352885233,
          0.09712740198471168,
          0.10600258488068824,
          0.11568875283162827,
          0.12626001098748565,
          0.13779723598335575,
          0.150388694695541,
          0.1641307195375129,
          0.1791284454622004,
          0.19549661430912604,
          0.21336045265014109,
          0.23285662984981953,
          0.25413430367026363,
          0.2773562614198415,
          0.3027001653763463,
          0.33035991201283393,
          0.3605471154250504,
          0.39349272630958493,
          0.42944879887892745,
          0.46869041923141924,
          0.5115178099293143,
          0.5582586268862695,
          0.6092704661368677,
          0.6649435996665045,
          0.7257039612324216,
          0.7920164050192553,
          0.864388262059827,
          0.9433732216299778,
          1.0295755673125127,
          1.1236548001387516,
          1.2263306841775632,
          1.3383887531737577,
          1.460686320364989,
          1.5941590374559995,
          1.739828052930364,
          1.8988078244652633,
          2.0723146452190293,
          2.2616759492228646,
          2.4683404670686486,
          2.6938893095901726,
          2.940048064334711,
          3.2086999973704504,
          3.501900461431713,
          3.8218926206331187,
          4.171124612056521,
          4.55226827550731,
          4.968239594734388,
          5.422221006501586,
          5.917685748188824,
          6.458424430196978,
          7.048574036451903,
          7.692649574879146,
          8.395578619995112,
          9.16273901188674,
          10
         ],
         "xaxis": "x",
         "y": [
          -307.0136770984272,
          -263.1187696964235,
          -215.17828414734404,
          -193.10815736218785,
          -189.8180236759813,
          -186.2268109436927,
          -182.30736686007918,
          -177.9951853268564,
          -173.3284275169193,
          -168.20020890368016,
          -162.64391073147044,
          -156.5457624432809,
          -149.89640303570297,
          -142.6488856968018,
          -134.75881449090636,
          -126.13370041066918,
          -116.69096911189509,
          -106.4277441704327,
          -101.08634428430781,
          -96.95017471161277,
          -92.43559241546176,
          -87.50844341920649,
          -82.13128921539779,
          -76.26298305798139,
          -69.85861505917693,
          -62.86783747203422,
          -55.236113877021786,
          -46.919155004687994,
          -37.83321638711166,
          -27.90235454520109,
          -17.084177982866663,
          -5.267177569955376,
          0,
          0,
          0,
          0,
          0,
          0,
          0,
          0,
          0,
          0,
          0,
          0,
          0,
          0,
          0,
          0,
          0,
          0,
          0,
          0,
          0,
          0,
          0,
          0,
          0,
          0,
          0,
          0,
          0,
          0,
          0,
          0,
          0,
          0,
          0,
          0,
          0,
          0,
          0,
          0,
          0,
          0,
          0,
          0,
          0,
          0,
          0,
          0
         ],
         "yaxis": "y"
        },
        {
         "hovertemplate": "variable=s2<br>alphas=%{x}<br>value=%{y}<extra></extra>",
         "legendgroup": "s2",
         "line": {
          "color": "#19d3f3",
          "dash": "solid"
         },
         "mode": "lines",
         "name": "s2",
         "orientation": "v",
         "showlegend": true,
         "type": "scatter",
         "x": [
          0.01,
          0.010913767146512732,
          0.011911031332830068,
          0.012999422244132456,
          0.014187266741165962,
          0.015483652565854992,
          0.01689849786812457,
          0.018442627085855347,
          0.020127853758499396,
          0.021967070907932353,
          0.02397434967801077,
          0.02616504698748821,
          0.028555923019901074,
          0.031165269449294302,
          0.03401304938279253,
          0.03712105009066361,
          0.04051304969235382,
          0.04421499907374487,
          0.04825522042741279,
          0.05266462393484278,
          0.05747694424835353,
          0.06272899858196247,
          0.06846096838574658,
          0.07471670675868078,
          0.08154407395185162,
          0.08899530352885233,
          0.09712740198471168,
          0.10600258488068824,
          0.11568875283162827,
          0.12626001098748565,
          0.13779723598335575,
          0.150388694695541,
          0.1641307195375129,
          0.1791284454622004,
          0.19549661430912604,
          0.21336045265014109,
          0.23285662984981953,
          0.25413430367026363,
          0.2773562614198415,
          0.3027001653763463,
          0.33035991201283393,
          0.3605471154250504,
          0.39349272630958493,
          0.42944879887892745,
          0.46869041923141924,
          0.5115178099293143,
          0.5582586268862695,
          0.6092704661368677,
          0.6649435996665045,
          0.7257039612324216,
          0.7920164050192553,
          0.864388262059827,
          0.9433732216299778,
          1.0295755673125127,
          1.1236548001387516,
          1.2263306841775632,
          1.3383887531737577,
          1.460686320364989,
          1.5941590374559995,
          1.739828052930364,
          1.8988078244652633,
          2.0723146452190293,
          2.2616759492228646,
          2.4683404670686486,
          2.6938893095901726,
          2.940048064334711,
          3.2086999973704504,
          3.501900461431713,
          3.8218926206331187,
          4.171124612056521,
          4.55226827550731,
          4.968239594734388,
          5.422221006501586,
          5.917685748188824,
          6.458424430196978,
          7.048574036451903,
          7.692649574879146,
          8.395578619995112,
          9.16273901188674,
          10
         ],
         "xaxis": "x",
         "y": [
          89.32168771685866,
          54.26353011251453,
          16.02296698653007,
          0,
          0,
          0,
          0,
          0,
          0,
          0,
          0,
          0,
          0,
          0,
          0,
          0,
          0,
          0,
          0,
          0,
          0,
          0,
          0,
          0,
          0,
          0,
          0,
          0,
          0,
          0,
          0,
          0,
          0,
          0,
          0,
          0,
          0,
          0,
          0,
          0,
          0,
          0,
          0,
          0,
          0,
          0,
          0,
          0,
          0,
          0,
          0,
          0,
          0,
          0,
          0,
          0,
          0,
          0,
          0,
          0,
          0,
          0,
          0,
          0,
          0,
          0,
          0,
          0,
          0,
          0,
          0,
          0,
          0,
          0,
          0,
          0,
          0,
          0,
          0,
          0
         ],
         "yaxis": "y"
        },
        {
         "hovertemplate": "variable=s3<br>alphas=%{x}<br>value=%{y}<extra></extra>",
         "legendgroup": "s3",
         "line": {
          "color": "#FF6692",
          "dash": "solid"
         },
         "mode": "lines",
         "name": "s3",
         "orientation": "v",
         "showlegend": true,
         "type": "scatter",
         "x": [
          0.01,
          0.010913767146512732,
          0.011911031332830068,
          0.012999422244132456,
          0.014187266741165962,
          0.015483652565854992,
          0.01689849786812457,
          0.018442627085855347,
          0.020127853758499396,
          0.021967070907932353,
          0.02397434967801077,
          0.02616504698748821,
          0.028555923019901074,
          0.031165269449294302,
          0.03401304938279253,
          0.03712105009066361,
          0.04051304969235382,
          0.04421499907374487,
          0.04825522042741279,
          0.05266462393484278,
          0.05747694424835353,
          0.06272899858196247,
          0.06846096838574658,
          0.07471670675868078,
          0.08154407395185162,
          0.08899530352885233,
          0.09712740198471168,
          0.10600258488068824,
          0.11568875283162827,
          0.12626001098748565,
          0.13779723598335575,
          0.150388694695541,
          0.1641307195375129,
          0.1791284454622004,
          0.19549661430912604,
          0.21336045265014109,
          0.23285662984981953,
          0.25413430367026363,
          0.2773562614198415,
          0.3027001653763463,
          0.33035991201283393,
          0.3605471154250504,
          0.39349272630958493,
          0.42944879887892745,
          0.46869041923141924,
          0.5115178099293143,
          0.5582586268862695,
          0.6092704661368677,
          0.6649435996665045,
          0.7257039612324216,
          0.7920164050192553,
          0.864388262059827,
          0.9433732216299778,
          1.0295755673125127,
          1.1236548001387516,
          1.2263306841775632,
          1.3383887531737577,
          1.460686320364989,
          1.5941590374559995,
          1.739828052930364,
          1.8988078244652633,
          2.0723146452190293,
          2.2616759492228646,
          2.4683404670686486,
          2.6938893095901726,
          2.940048064334711,
          3.2086999973704504,
          3.501900461431713,
          3.8218926206331187,
          4.171124612056521,
          4.55226827550731,
          4.968239594734388,
          5.422221006501586,
          5.917685748188824,
          6.458424430196978,
          7.048574036451903,
          7.692649574879146,
          8.395578619995112,
          9.16273901188674,
          10
         ],
         "xaxis": "x",
         "y": [
          -105.08139789913973,
          -123.72068007980589,
          -144.05207719479105,
          -154.19689590480647,
          -156.77079363018774,
          -159.58044464361993,
          -162.64693217264897,
          -166.03782713267006,
          -169.68815221757242,
          -173.71679138090414,
          -178.0617766670159,
          -182.84740947112297,
          -188.06264819909845,
          -193.7423773307414,
          -199.91592773803086,
          -206.67158110541564,
          -214.08221748833452,
          -222.11589559030745,
          -223.15974269083813,
          -222.0506064158101,
          -220.8411762867523,
          -219.5214466017806,
          -218.08083530605944,
          -216.5083033887647,
          -214.79182059622372,
          -212.92012435327013,
          -210.88030365334586,
          -208.63676689416192,
          -206.20113418624175,
          -203.5625867941327,
          -200.65550069842175,
          -197.4946898512809,
          -191.28116849008998,
          -182.47240590865084,
          -172.8609860270574,
          -162.23955504297234,
          -150.6498092639964,
          -138.00103059209437,
          -124.19644808080257,
          -111.8427931664225,
          -104.32384118536926,
          -96.13912471900838,
          -87.20428600300738,
          -77.45301107919921,
          -66.81069668919204,
          -55.195922573940244,
          -42.51982855861965,
          -28.68543471756881,
          -13.586899418130916,
          0,
          0,
          0,
          0,
          0,
          0,
          0,
          0,
          0,
          0,
          0,
          0,
          0,
          0,
          0,
          0,
          0,
          0,
          0,
          0,
          0,
          0,
          0,
          0,
          0,
          0,
          0,
          0,
          0,
          0,
          0
         ],
         "yaxis": "y"
        },
        {
         "hovertemplate": "variable=s4<br>alphas=%{x}<br>value=%{y}<extra></extra>",
         "legendgroup": "s4",
         "line": {
          "color": "#B6E880",
          "dash": "solid"
         },
         "mode": "lines",
         "name": "s4",
         "orientation": "v",
         "showlegend": true,
         "type": "scatter",
         "x": [
          0.01,
          0.010913767146512732,
          0.011911031332830068,
          0.012999422244132456,
          0.014187266741165962,
          0.015483652565854992,
          0.01689849786812457,
          0.018442627085855347,
          0.020127853758499396,
          0.021967070907932353,
          0.02397434967801077,
          0.02616504698748821,
          0.028555923019901074,
          0.031165269449294302,
          0.03401304938279253,
          0.03712105009066361,
          0.04051304969235382,
          0.04421499907374487,
          0.04825522042741279,
          0.05266462393484278,
          0.05747694424835353,
          0.06272899858196247,
          0.06846096838574658,
          0.07471670675868078,
          0.08154407395185162,
          0.08899530352885233,
          0.09712740198471168,
          0.10600258488068824,
          0.11568875283162827,
          0.12626001098748565,
          0.13779723598335575,
          0.150388694695541,
          0.1641307195375129,
          0.1791284454622004,
          0.19549661430912604,
          0.21336045265014109,
          0.23285662984981953,
          0.25413430367026363,
          0.2773562614198415,
          0.3027001653763463,
          0.33035991201283393,
          0.3605471154250504,
          0.39349272630958493,
          0.42944879887892745,
          0.46869041923141924,
          0.5115178099293143,
          0.5582586268862695,
          0.6092704661368677,
          0.6649435996665045,
          0.7257039612324216,
          0.7920164050192553,
          0.864388262059827,
          0.9433732216299778,
          1.0295755673125127,
          1.1236548001387516,
          1.2263306841775632,
          1.3383887531737577,
          1.460686320364989,
          1.5941590374559995,
          1.739828052930364,
          1.8988078244652633,
          2.0723146452190293,
          2.2616759492228646,
          2.4683404670686486,
          2.6938893095901726,
          2.940048064334711,
          3.2086999973704504,
          3.501900461431713,
          3.8218926206331187,
          4.171124612056521,
          4.55226827550731,
          4.968239594734388,
          5.422221006501586,
          5.917685748188824,
          6.458424430196978,
          7.048574036451903,
          7.692649574879146,
          8.395578619995112,
          9.16273901188674,
          10
         ],
         "xaxis": "x",
         "y": [
          119.59798934448945,
          114.4033108719061,
          108.70957320025182,
          103.96517915847829,
          100.12853527479557,
          95.94073486137786,
          91.3701640161189,
          86.33635212510725,
          80.89457744177446,
          74.90937887891185,
          68.43068480930118,
          61.31499496318719,
          53.55702898731678,
          45.102607302362514,
          35.90161676885724,
          25.84131799392169,
          14.822879239282,
          2.8534380871869436,
          0,
          0,
          0,
          0,
          0,
          0,
          0,
          0,
          0,
          0,
          0,
          0,
          0,
          0,
          0,
          0,
          0,
          0,
          0,
          0,
          0,
          0,
          0,
          0,
          0,
          0,
          0,
          0,
          0,
          0,
          0,
          0,
          0,
          0,
          0,
          0,
          0,
          0,
          0,
          0,
          0,
          0,
          0,
          0,
          0,
          0,
          0,
          0,
          0,
          0,
          0,
          0,
          0,
          0,
          0,
          0,
          0,
          0,
          0,
          0,
          0,
          0
         ],
         "yaxis": "y"
        },
        {
         "hovertemplate": "variable=s5<br>alphas=%{x}<br>value=%{y}<extra></extra>",
         "legendgroup": "s5",
         "line": {
          "color": "#FF97FF",
          "dash": "solid"
         },
         "mode": "lines",
         "name": "s5",
         "orientation": "v",
         "showlegend": true,
         "type": "scatter",
         "x": [
          0.01,
          0.010913767146512732,
          0.011911031332830068,
          0.012999422244132456,
          0.014187266741165962,
          0.015483652565854992,
          0.01689849786812457,
          0.018442627085855347,
          0.020127853758499396,
          0.021967070907932353,
          0.02397434967801077,
          0.02616504698748821,
          0.028555923019901074,
          0.031165269449294302,
          0.03401304938279253,
          0.03712105009066361,
          0.04051304969235382,
          0.04421499907374487,
          0.04825522042741279,
          0.05266462393484278,
          0.05747694424835353,
          0.06272899858196247,
          0.06846096838574658,
          0.07471670675868078,
          0.08154407395185162,
          0.08899530352885233,
          0.09712740198471168,
          0.10600258488068824,
          0.11568875283162827,
          0.12626001098748565,
          0.13779723598335575,
          0.150388694695541,
          0.1641307195375129,
          0.1791284454622004,
          0.19549661430912604,
          0.21336045265014109,
          0.23285662984981953,
          0.25413430367026363,
          0.2773562614198415,
          0.3027001653763463,
          0.33035991201283393,
          0.3605471154250504,
          0.39349272630958493,
          0.42944879887892745,
          0.46869041923141924,
          0.5115178099293143,
          0.5582586268862695,
          0.6092704661368677,
          0.6649435996665045,
          0.7257039612324216,
          0.7920164050192553,
          0.864388262059827,
          0.9433732216299778,
          1.0295755673125127,
          1.1236548001387516,
          1.2263306841775632,
          1.3383887531737577,
          1.460686320364989,
          1.5941590374559995,
          1.739828052930364,
          1.8988078244652633,
          2.0723146452190293,
          2.2616759492228646,
          2.4683404670686486,
          2.6938893095901726,
          2.940048064334711,
          3.2086999973704504,
          3.501900461431713,
          3.8218926206331187,
          4.171124612056521,
          4.55226827550731,
          4.968239594734388,
          5.422221006501586,
          5.917685748188824,
          6.458424430196978,
          7.048574036451903,
          7.692649574879146,
          8.395578619995112,
          9.16273901188674,
          10
         ],
         "xaxis": "x",
         "y": [
          571.330870564746,
          555.0495710470001,
          537.3137581065811,
          529.5898434848975,
          529.0422581794486,
          528.4445722172508,
          527.7922602247602,
          527.075272412884,
          526.2985513376684,
          525.4457224090578,
          524.5209033681856,
          523.5065747865423,
          522.4004421291481,
          521.194618026046,
          519.8814969532993,
          518.4463245094353,
          516.8756897825801,
          515.1677433261268,
          513.0313824558681,
          510.5498763069502,
          507.84192871628017,
          504.8866578592134,
          501.66140798616624,
          498.14148665955,
          494.2999570752285,
          490.10719144187124,
          485.53093478410517,
          480.53900672384145,
          475.08904904588695,
          469.13771228735214,
          462.64708102541624,
          455.55997546327654,
          452.05532267269564,
          451.479041400889,
          450.8522580890155,
          449.21013557043517,
          446.9160238061167,
          444.4122836457312,
          441.6797599351497,
          438.3839991957787,
          434.13564967413924,
          429.48943318796677,
          424.41808546375114,
          418.8833346456419,
          412.8428364813612,
          406.25037743997086,
          399.0555211499056,
          391.2032225296659,
          382.63340665904786,
          372.408386985357,
          356.74528385682805,
          339.6468085052732,
          320.98497441814754,
          300.2756596949128,
          271.5178088503531,
          240.13550864798015,
          205.88645303144844,
          168.50821976730492,
          127.71448634801452,
          83.19315559050958,
          34.603611896481176,
          0,
          0,
          0,
          0,
          0,
          0,
          0,
          0,
          0,
          0,
          0,
          0,
          0,
          0,
          0,
          0,
          0,
          0,
          0
         ],
         "yaxis": "y"
        },
        {
         "hovertemplate": "variable=s6<br>alphas=%{x}<br>value=%{y}<extra></extra>",
         "legendgroup": "s6",
         "line": {
          "color": "#FECB52",
          "dash": "solid"
         },
         "mode": "lines",
         "name": "s6",
         "orientation": "v",
         "showlegend": true,
         "type": "scatter",
         "x": [
          0.01,
          0.010913767146512732,
          0.011911031332830068,
          0.012999422244132456,
          0.014187266741165962,
          0.015483652565854992,
          0.01689849786812457,
          0.018442627085855347,
          0.020127853758499396,
          0.021967070907932353,
          0.02397434967801077,
          0.02616504698748821,
          0.028555923019901074,
          0.031165269449294302,
          0.03401304938279253,
          0.03712105009066361,
          0.04051304969235382,
          0.04421499907374487,
          0.04825522042741279,
          0.05266462393484278,
          0.05747694424835353,
          0.06272899858196247,
          0.06846096838574658,
          0.07471670675868078,
          0.08154407395185162,
          0.08899530352885233,
          0.09712740198471168,
          0.10600258488068824,
          0.11568875283162827,
          0.12626001098748565,
          0.13779723598335575,
          0.150388694695541,
          0.1641307195375129,
          0.1791284454622004,
          0.19549661430912604,
          0.21336045265014109,
          0.23285662984981953,
          0.25413430367026363,
          0.2773562614198415,
          0.3027001653763463,
          0.33035991201283393,
          0.3605471154250504,
          0.39349272630958493,
          0.42944879887892745,
          0.46869041923141924,
          0.5115178099293143,
          0.5582586268862695,
          0.6092704661368677,
          0.6649435996665045,
          0.7257039612324216,
          0.7920164050192553,
          0.864388262059827,
          0.9433732216299778,
          1.0295755673125127,
          1.1236548001387516,
          1.2263306841775632,
          1.3383887531737577,
          1.460686320364989,
          1.5941590374559995,
          1.739828052930364,
          1.8988078244652633,
          2.0723146452190293,
          2.2616759492228646,
          2.4683404670686486,
          2.6938893095901726,
          2.940048064334711,
          3.2086999973704504,
          3.501900461431713,
          3.8218926206331187,
          4.171124612056521,
          4.55226827550731,
          4.968239594734388,
          5.422221006501586,
          5.917685748188824,
          6.458424430196978,
          7.048574036451903,
          7.692649574879146,
          8.395578619995112,
          9.16273901188674,
          10
         ],
         "xaxis": "x",
         "y": [
          65.00731594841481,
          64.76758958638406,
          64.55762126436078,
          64.30970170825566,
          63.95778877711062,
          63.57372210037137,
          63.15456119080761,
          62.697328208768866,
          62.198053029873975,
          61.65338809398871,
          61.05868466143448,
          60.40986562118712,
          59.70171970865753,
          58.92880313450557,
          58.085129293610365,
          57.164456674134385,
          56.15985159581931,
          55.063169377145165,
          53.598323816430806,
          51.89937955185463,
          50.046101214498904,
          48.023812254897436,
          45.816663348199455,
          43.407703202502184,
          40.77845495002232,
          37.90935080181971,
          34.77869893642735,
          31.35477638563323,
          27.623543910249904,
          23.556456784773303,
          19.109374803000634,
          14.25535496837004,
          9.882215563813824,
          5.843325341151306,
          1.4362326889397479,
          0,
          0,
          0,
          0,
          0,
          0,
          0,
          0,
          0,
          0,
          0,
          0,
          0,
          0,
          0,
          0,
          0,
          0,
          0,
          0,
          0,
          0,
          0,
          0,
          0,
          0,
          0,
          0,
          0,
          0,
          0,
          0,
          0,
          0,
          0,
          0,
          0,
          0,
          0,
          0,
          0,
          0,
          0,
          0,
          0
         ],
         "yaxis": "y"
        }
       ],
       "layout": {
        "legend": {
         "title": {
          "text": "variable"
         },
         "tracegroupgap": 0
        },
        "margin": {
         "t": 60
        },
        "template": {
         "data": {
          "bar": [
           {
            "error_x": {
             "color": "#2a3f5f"
            },
            "error_y": {
             "color": "#2a3f5f"
            },
            "marker": {
             "line": {
              "color": "#E5ECF6",
              "width": 0.5
             }
            },
            "type": "bar"
           }
          ],
          "barpolar": [
           {
            "marker": {
             "line": {
              "color": "#E5ECF6",
              "width": 0.5
             }
            },
            "type": "barpolar"
           }
          ],
          "carpet": [
           {
            "aaxis": {
             "endlinecolor": "#2a3f5f",
             "gridcolor": "white",
             "linecolor": "white",
             "minorgridcolor": "white",
             "startlinecolor": "#2a3f5f"
            },
            "baxis": {
             "endlinecolor": "#2a3f5f",
             "gridcolor": "white",
             "linecolor": "white",
             "minorgridcolor": "white",
             "startlinecolor": "#2a3f5f"
            },
            "type": "carpet"
           }
          ],
          "choropleth": [
           {
            "colorbar": {
             "outlinewidth": 0,
             "ticks": ""
            },
            "type": "choropleth"
           }
          ],
          "contour": [
           {
            "colorbar": {
             "outlinewidth": 0,
             "ticks": ""
            },
            "colorscale": [
             [
              0,
              "#0d0887"
             ],
             [
              0.1111111111111111,
              "#46039f"
             ],
             [
              0.2222222222222222,
              "#7201a8"
             ],
             [
              0.3333333333333333,
              "#9c179e"
             ],
             [
              0.4444444444444444,
              "#bd3786"
             ],
             [
              0.5555555555555556,
              "#d8576b"
             ],
             [
              0.6666666666666666,
              "#ed7953"
             ],
             [
              0.7777777777777778,
              "#fb9f3a"
             ],
             [
              0.8888888888888888,
              "#fdca26"
             ],
             [
              1,
              "#f0f921"
             ]
            ],
            "type": "contour"
           }
          ],
          "contourcarpet": [
           {
            "colorbar": {
             "outlinewidth": 0,
             "ticks": ""
            },
            "type": "contourcarpet"
           }
          ],
          "heatmap": [
           {
            "colorbar": {
             "outlinewidth": 0,
             "ticks": ""
            },
            "colorscale": [
             [
              0,
              "#0d0887"
             ],
             [
              0.1111111111111111,
              "#46039f"
             ],
             [
              0.2222222222222222,
              "#7201a8"
             ],
             [
              0.3333333333333333,
              "#9c179e"
             ],
             [
              0.4444444444444444,
              "#bd3786"
             ],
             [
              0.5555555555555556,
              "#d8576b"
             ],
             [
              0.6666666666666666,
              "#ed7953"
             ],
             [
              0.7777777777777778,
              "#fb9f3a"
             ],
             [
              0.8888888888888888,
              "#fdca26"
             ],
             [
              1,
              "#f0f921"
             ]
            ],
            "type": "heatmap"
           }
          ],
          "heatmapgl": [
           {
            "colorbar": {
             "outlinewidth": 0,
             "ticks": ""
            },
            "colorscale": [
             [
              0,
              "#0d0887"
             ],
             [
              0.1111111111111111,
              "#46039f"
             ],
             [
              0.2222222222222222,
              "#7201a8"
             ],
             [
              0.3333333333333333,
              "#9c179e"
             ],
             [
              0.4444444444444444,
              "#bd3786"
             ],
             [
              0.5555555555555556,
              "#d8576b"
             ],
             [
              0.6666666666666666,
              "#ed7953"
             ],
             [
              0.7777777777777778,
              "#fb9f3a"
             ],
             [
              0.8888888888888888,
              "#fdca26"
             ],
             [
              1,
              "#f0f921"
             ]
            ],
            "type": "heatmapgl"
           }
          ],
          "histogram": [
           {
            "marker": {
             "colorbar": {
              "outlinewidth": 0,
              "ticks": ""
             }
            },
            "type": "histogram"
           }
          ],
          "histogram2d": [
           {
            "colorbar": {
             "outlinewidth": 0,
             "ticks": ""
            },
            "colorscale": [
             [
              0,
              "#0d0887"
             ],
             [
              0.1111111111111111,
              "#46039f"
             ],
             [
              0.2222222222222222,
              "#7201a8"
             ],
             [
              0.3333333333333333,
              "#9c179e"
             ],
             [
              0.4444444444444444,
              "#bd3786"
             ],
             [
              0.5555555555555556,
              "#d8576b"
             ],
             [
              0.6666666666666666,
              "#ed7953"
             ],
             [
              0.7777777777777778,
              "#fb9f3a"
             ],
             [
              0.8888888888888888,
              "#fdca26"
             ],
             [
              1,
              "#f0f921"
             ]
            ],
            "type": "histogram2d"
           }
          ],
          "histogram2dcontour": [
           {
            "colorbar": {
             "outlinewidth": 0,
             "ticks": ""
            },
            "colorscale": [
             [
              0,
              "#0d0887"
             ],
             [
              0.1111111111111111,
              "#46039f"
             ],
             [
              0.2222222222222222,
              "#7201a8"
             ],
             [
              0.3333333333333333,
              "#9c179e"
             ],
             [
              0.4444444444444444,
              "#bd3786"
             ],
             [
              0.5555555555555556,
              "#d8576b"
             ],
             [
              0.6666666666666666,
              "#ed7953"
             ],
             [
              0.7777777777777778,
              "#fb9f3a"
             ],
             [
              0.8888888888888888,
              "#fdca26"
             ],
             [
              1,
              "#f0f921"
             ]
            ],
            "type": "histogram2dcontour"
           }
          ],
          "mesh3d": [
           {
            "colorbar": {
             "outlinewidth": 0,
             "ticks": ""
            },
            "type": "mesh3d"
           }
          ],
          "parcoords": [
           {
            "line": {
             "colorbar": {
              "outlinewidth": 0,
              "ticks": ""
             }
            },
            "type": "parcoords"
           }
          ],
          "pie": [
           {
            "automargin": true,
            "type": "pie"
           }
          ],
          "scatter": [
           {
            "marker": {
             "colorbar": {
              "outlinewidth": 0,
              "ticks": ""
             }
            },
            "type": "scatter"
           }
          ],
          "scatter3d": [
           {
            "line": {
             "colorbar": {
              "outlinewidth": 0,
              "ticks": ""
             }
            },
            "marker": {
             "colorbar": {
              "outlinewidth": 0,
              "ticks": ""
             }
            },
            "type": "scatter3d"
           }
          ],
          "scattercarpet": [
           {
            "marker": {
             "colorbar": {
              "outlinewidth": 0,
              "ticks": ""
             }
            },
            "type": "scattercarpet"
           }
          ],
          "scattergeo": [
           {
            "marker": {
             "colorbar": {
              "outlinewidth": 0,
              "ticks": ""
             }
            },
            "type": "scattergeo"
           }
          ],
          "scattergl": [
           {
            "marker": {
             "colorbar": {
              "outlinewidth": 0,
              "ticks": ""
             }
            },
            "type": "scattergl"
           }
          ],
          "scattermapbox": [
           {
            "marker": {
             "colorbar": {
              "outlinewidth": 0,
              "ticks": ""
             }
            },
            "type": "scattermapbox"
           }
          ],
          "scatterpolar": [
           {
            "marker": {
             "colorbar": {
              "outlinewidth": 0,
              "ticks": ""
             }
            },
            "type": "scatterpolar"
           }
          ],
          "scatterpolargl": [
           {
            "marker": {
             "colorbar": {
              "outlinewidth": 0,
              "ticks": ""
             }
            },
            "type": "scatterpolargl"
           }
          ],
          "scatterternary": [
           {
            "marker": {
             "colorbar": {
              "outlinewidth": 0,
              "ticks": ""
             }
            },
            "type": "scatterternary"
           }
          ],
          "surface": [
           {
            "colorbar": {
             "outlinewidth": 0,
             "ticks": ""
            },
            "colorscale": [
             [
              0,
              "#0d0887"
             ],
             [
              0.1111111111111111,
              "#46039f"
             ],
             [
              0.2222222222222222,
              "#7201a8"
             ],
             [
              0.3333333333333333,
              "#9c179e"
             ],
             [
              0.4444444444444444,
              "#bd3786"
             ],
             [
              0.5555555555555556,
              "#d8576b"
             ],
             [
              0.6666666666666666,
              "#ed7953"
             ],
             [
              0.7777777777777778,
              "#fb9f3a"
             ],
             [
              0.8888888888888888,
              "#fdca26"
             ],
             [
              1,
              "#f0f921"
             ]
            ],
            "type": "surface"
           }
          ],
          "table": [
           {
            "cells": {
             "fill": {
              "color": "#EBF0F8"
             },
             "line": {
              "color": "white"
             }
            },
            "header": {
             "fill": {
              "color": "#C8D4E3"
             },
             "line": {
              "color": "white"
             }
            },
            "type": "table"
           }
          ]
         },
         "layout": {
          "annotationdefaults": {
           "arrowcolor": "#2a3f5f",
           "arrowhead": 0,
           "arrowwidth": 1
          },
          "coloraxis": {
           "colorbar": {
            "outlinewidth": 0,
            "ticks": ""
           }
          },
          "colorscale": {
           "diverging": [
            [
             0,
             "#8e0152"
            ],
            [
             0.1,
             "#c51b7d"
            ],
            [
             0.2,
             "#de77ae"
            ],
            [
             0.3,
             "#f1b6da"
            ],
            [
             0.4,
             "#fde0ef"
            ],
            [
             0.5,
             "#f7f7f7"
            ],
            [
             0.6,
             "#e6f5d0"
            ],
            [
             0.7,
             "#b8e186"
            ],
            [
             0.8,
             "#7fbc41"
            ],
            [
             0.9,
             "#4d9221"
            ],
            [
             1,
             "#276419"
            ]
           ],
           "sequential": [
            [
             0,
             "#0d0887"
            ],
            [
             0.1111111111111111,
             "#46039f"
            ],
            [
             0.2222222222222222,
             "#7201a8"
            ],
            [
             0.3333333333333333,
             "#9c179e"
            ],
            [
             0.4444444444444444,
             "#bd3786"
            ],
            [
             0.5555555555555556,
             "#d8576b"
            ],
            [
             0.6666666666666666,
             "#ed7953"
            ],
            [
             0.7777777777777778,
             "#fb9f3a"
            ],
            [
             0.8888888888888888,
             "#fdca26"
            ],
            [
             1,
             "#f0f921"
            ]
           ],
           "sequentialminus": [
            [
             0,
             "#0d0887"
            ],
            [
             0.1111111111111111,
             "#46039f"
            ],
            [
             0.2222222222222222,
             "#7201a8"
            ],
            [
             0.3333333333333333,
             "#9c179e"
            ],
            [
             0.4444444444444444,
             "#bd3786"
            ],
            [
             0.5555555555555556,
             "#d8576b"
            ],
            [
             0.6666666666666666,
             "#ed7953"
            ],
            [
             0.7777777777777778,
             "#fb9f3a"
            ],
            [
             0.8888888888888888,
             "#fdca26"
            ],
            [
             1,
             "#f0f921"
            ]
           ]
          },
          "colorway": [
           "#636efa",
           "#EF553B",
           "#00cc96",
           "#ab63fa",
           "#FFA15A",
           "#19d3f3",
           "#FF6692",
           "#B6E880",
           "#FF97FF",
           "#FECB52"
          ],
          "font": {
           "color": "#2a3f5f"
          },
          "geo": {
           "bgcolor": "white",
           "lakecolor": "white",
           "landcolor": "#E5ECF6",
           "showlakes": true,
           "showland": true,
           "subunitcolor": "white"
          },
          "hoverlabel": {
           "align": "left"
          },
          "hovermode": "closest",
          "mapbox": {
           "style": "light"
          },
          "paper_bgcolor": "white",
          "plot_bgcolor": "#E5ECF6",
          "polar": {
           "angularaxis": {
            "gridcolor": "white",
            "linecolor": "white",
            "ticks": ""
           },
           "bgcolor": "#E5ECF6",
           "radialaxis": {
            "gridcolor": "white",
            "linecolor": "white",
            "ticks": ""
           }
          },
          "scene": {
           "xaxis": {
            "backgroundcolor": "#E5ECF6",
            "gridcolor": "white",
            "gridwidth": 2,
            "linecolor": "white",
            "showbackground": true,
            "ticks": "",
            "zerolinecolor": "white"
           },
           "yaxis": {
            "backgroundcolor": "#E5ECF6",
            "gridcolor": "white",
            "gridwidth": 2,
            "linecolor": "white",
            "showbackground": true,
            "ticks": "",
            "zerolinecolor": "white"
           },
           "zaxis": {
            "backgroundcolor": "#E5ECF6",
            "gridcolor": "white",
            "gridwidth": 2,
            "linecolor": "white",
            "showbackground": true,
            "ticks": "",
            "zerolinecolor": "white"
           }
          },
          "shapedefaults": {
           "line": {
            "color": "#2a3f5f"
           }
          },
          "ternary": {
           "aaxis": {
            "gridcolor": "white",
            "linecolor": "white",
            "ticks": ""
           },
           "baxis": {
            "gridcolor": "white",
            "linecolor": "white",
            "ticks": ""
           },
           "bgcolor": "#E5ECF6",
           "caxis": {
            "gridcolor": "white",
            "linecolor": "white",
            "ticks": ""
           }
          },
          "title": {
           "x": 0.05
          },
          "xaxis": {
           "automargin": true,
           "gridcolor": "white",
           "linecolor": "white",
           "ticks": "",
           "title": {
            "standoff": 15
           },
           "zerolinecolor": "white",
           "zerolinewidth": 2
          },
          "yaxis": {
           "automargin": true,
           "gridcolor": "white",
           "linecolor": "white",
           "ticks": "",
           "title": {
            "standoff": 15
           },
           "zerolinecolor": "white",
           "zerolinewidth": 2
          }
         }
        },
        "xaxis": {
         "anchor": "y",
         "domain": [
          0,
          1
         ],
         "title": {
          "text": "alphas"
         },
         "type": "log"
        },
        "yaxis": {
         "anchor": "x",
         "domain": [
          0,
          1
         ],
         "title": {
          "text": "value"
         }
        }
       }
      },
      "text/html": "<div>                            <div id=\"76d8e437-7043-4a1f-a5c4-b81915bb5e56\" class=\"plotly-graph-div\" style=\"height:525px; width:100%;\"></div>            <script type=\"text/javascript\">                require([\"plotly\"], function(Plotly) {                    window.PLOTLYENV=window.PLOTLYENV || {};                                    if (document.getElementById(\"76d8e437-7043-4a1f-a5c4-b81915bb5e56\")) {                    Plotly.newPlot(                        \"76d8e437-7043-4a1f-a5c4-b81915bb5e56\",                        [{\"hovertemplate\": \"variable=age<br>alphas=%{x}<br>value=%{y}<extra></extra>\", \"legendgroup\": \"age\", \"line\": {\"color\": \"#636efa\", \"dash\": \"solid\"}, \"mode\": \"lines\", \"name\": \"age\", \"orientation\": \"v\", \"showlegend\": true, \"type\": \"scatter\", \"x\": [0.01, 0.010913767146512732, 0.011911031332830068, 0.012999422244132456, 0.014187266741165962, 0.015483652565854992, 0.01689849786812457, 0.018442627085855347, 0.020127853758499396, 0.021967070907932353, 0.02397434967801077, 0.02616504698748821, 0.028555923019901074, 0.031165269449294302, 0.03401304938279253, 0.03712105009066361, 0.04051304969235382, 0.04421499907374487, 0.04825522042741279, 0.05266462393484278, 0.05747694424835353, 0.06272899858196247, 0.06846096838574658, 0.07471670675868078, 0.08154407395185162, 0.08899530352885233, 0.09712740198471168, 0.10600258488068824, 0.11568875283162827, 0.12626001098748565, 0.13779723598335575, 0.150388694695541, 0.1641307195375129, 0.1791284454622004, 0.19549661430912604, 0.21336045265014109, 0.23285662984981953, 0.25413430367026363, 0.2773562614198415, 0.3027001653763463, 0.33035991201283393, 0.3605471154250504, 0.39349272630958493, 0.42944879887892745, 0.46869041923141924, 0.5115178099293143, 0.5582586268862695, 0.6092704661368677, 0.6649435996665045, 0.7257039612324216, 0.7920164050192553, 0.864388262059827, 0.9433732216299778, 1.0295755673125127, 1.1236548001387516, 1.2263306841775632, 1.3383887531737577, 1.460686320364989, 1.5941590374559995, 1.739828052930364, 1.8988078244652633, 2.0723146452190293, 2.2616759492228646, 2.4683404670686486, 2.6938893095901726, 2.940048064334711, 3.2086999973704504, 3.501900461431713, 3.8218926206331187, 4.171124612056521, 4.55226827550731, 4.968239594734388, 5.422221006501586, 5.917685748188824, 6.458424430196978, 7.048574036451903, 7.692649574879146, 8.395578619995112, 9.16273901188674, 10.0], \"xaxis\": \"x\", \"y\": [-1.3065752236532717, -0.5124101363129574, -0.0, -0.0, -0.0, -0.0, -0.0, -0.0, -0.0, -0.0, -0.0, -0.0, -0.0, -0.0, -0.0, -0.0, -0.0, -0.0, -0.0, -0.0, -0.0, -0.0, -0.0, -0.0, -0.0, -0.0, -0.0, 0.0, 0.0, 0.0, 0.0, 0.0, 0.0, 0.0, 0.0, 0.0, 0.0, 0.0, 0.0, 0.0, 0.0, 0.0, 0.0, 0.0, 0.0, 0.0, 0.0, 0.0, 0.0, 0.0, 0.0, 0.0, 0.0, 0.0, 0.0, 0.0, 0.0, 0.0, 0.0, 0.0, 0.0, 0.0, 0.0, 0.0, 0.0, 0.0, 0.0, 0.0, 0.0, 0.0, 0.0, 0.0, 0.0, 0.0, 0.0, 0.0, 0.0, 0.0, 0.0, 0.0], \"yaxis\": \"y\"}, {\"hovertemplate\": \"variable=sex<br>alphas=%{x}<br>value=%{y}<extra></extra>\", \"legendgroup\": \"sex\", \"line\": {\"color\": \"#EF553B\", \"dash\": \"solid\"}, \"mode\": \"lines\", \"name\": \"sex\", \"orientation\": \"v\", \"showlegend\": true, \"type\": \"scatter\", \"x\": [0.01, 0.010913767146512732, 0.011911031332830068, 0.012999422244132456, 0.014187266741165962, 0.015483652565854992, 0.01689849786812457, 0.018442627085855347, 0.020127853758499396, 0.021967070907932353, 0.02397434967801077, 0.02616504698748821, 0.028555923019901074, 0.031165269449294302, 0.03401304938279253, 0.03712105009066361, 0.04051304969235382, 0.04421499907374487, 0.04825522042741279, 0.05266462393484278, 0.05747694424835353, 0.06272899858196247, 0.06846096838574658, 0.07471670675868078, 0.08154407395185162, 0.08899530352885233, 0.09712740198471168, 0.10600258488068824, 0.11568875283162827, 0.12626001098748565, 0.13779723598335575, 0.150388694695541, 0.1641307195375129, 0.1791284454622004, 0.19549661430912604, 0.21336045265014109, 0.23285662984981953, 0.25413430367026363, 0.2773562614198415, 0.3027001653763463, 0.33035991201283393, 0.3605471154250504, 0.39349272630958493, 0.42944879887892745, 0.46869041923141924, 0.5115178099293143, 0.5582586268862695, 0.6092704661368677, 0.6649435996665045, 0.7257039612324216, 0.7920164050192553, 0.864388262059827, 0.9433732216299778, 1.0295755673125127, 1.1236548001387516, 1.2263306841775632, 1.3383887531737577, 1.460686320364989, 1.5941590374559995, 1.739828052930364, 1.8988078244652633, 2.0723146452190293, 2.2616759492228646, 2.4683404670686486, 2.6938893095901726, 2.940048064334711, 3.2086999973704504, 3.501900461431713, 3.8218926206331187, 4.171124612056521, 4.55226827550731, 4.968239594734388, 5.422221006501586, 5.917685748188824, 6.458424430196978, 7.048574036451903, 7.692649574879146, 8.395578619995112, 9.16273901188674, 10.0], \"xaxis\": \"x\", \"y\": [-228.8223309629698, -227.81961121326376, -226.68892903387433, -225.62433715097725, -224.5966142068485, -223.47500316343093, -222.25090688978943, -220.91668431676416, -219.45857429139414, -217.86897634788002, -216.13210247527658, -214.2382235130078, -212.1709875757949, -209.91438301614704, -207.45059345026698, -204.76237378744187, -201.82998589020792, -198.627531684174, -195.39819138114188, -191.98507425933926, -188.26134574344945, -184.19769122810166, -179.76249005459042, -174.92176560918656, -169.63846332951584, -163.8737063281848, -157.58449528417603, -150.70559007542283, -143.2093596005265, -135.04376614143246, -126.10965763465178, -116.36668828837904, -105.2574790625583, -92.86124575275362, -79.33588970194357, -64.87041339081833, -49.2565091272868, -32.21585758927429, -13.618087298200843, -0.0, -0.0, -0.0, -0.0, -0.0, -0.0, -0.0, -0.0, -0.0, -0.0, -0.0, -0.0, -0.0, -0.0, -0.0, -0.0, 0.0, 0.0, 0.0, 0.0, 0.0, 0.0, 0.0, 0.0, 0.0, 0.0, 0.0, 0.0, 0.0, 0.0, 0.0, 0.0, 0.0, 0.0, 0.0, 0.0, 0.0, 0.0, 0.0, 0.0, 0.0], \"yaxis\": \"y\"}, {\"hovertemplate\": \"variable=bmi<br>alphas=%{x}<br>value=%{y}<extra></extra>\", \"legendgroup\": \"bmi\", \"line\": {\"color\": \"#00cc96\", \"dash\": \"solid\"}, \"mode\": \"lines\", \"name\": \"bmi\", \"orientation\": \"v\", \"showlegend\": true, \"type\": \"scatter\", \"x\": [0.01, 0.010913767146512732, 0.011911031332830068, 0.012999422244132456, 0.014187266741165962, 0.015483652565854992, 0.01689849786812457, 0.018442627085855347, 0.020127853758499396, 0.021967070907932353, 0.02397434967801077, 0.02616504698748821, 0.028555923019901074, 0.031165269449294302, 0.03401304938279253, 0.03712105009066361, 0.04051304969235382, 0.04421499907374487, 0.04825522042741279, 0.05266462393484278, 0.05747694424835353, 0.06272899858196247, 0.06846096838574658, 0.07471670675868078, 0.08154407395185162, 0.08899530352885233, 0.09712740198471168, 0.10600258488068824, 0.11568875283162827, 0.12626001098748565, 0.13779723598335575, 0.150388694695541, 0.1641307195375129, 0.1791284454622004, 0.19549661430912604, 0.21336045265014109, 0.23285662984981953, 0.25413430367026363, 0.2773562614198415, 0.3027001653763463, 0.33035991201283393, 0.3605471154250504, 0.39349272630958493, 0.42944879887892745, 0.46869041923141924, 0.5115178099293143, 0.5582586268862695, 0.6092704661368677, 0.6649435996665045, 0.7257039612324216, 0.7920164050192553, 0.864388262059827, 0.9433732216299778, 1.0295755673125127, 1.1236548001387516, 1.2263306841775632, 1.3383887531737577, 1.460686320364989, 1.5941590374559995, 1.739828052930364, 1.8988078244652633, 2.0723146452190293, 2.2616759492228646, 2.4683404670686486, 2.6938893095901726, 2.940048064334711, 3.2086999973704504, 3.501900461431713, 3.8218926206331187, 4.171124612056521, 4.55226827550731, 4.968239594734388, 5.422221006501586, 5.917685748188824, 6.458424430196978, 7.048574036451903, 7.692649574879146, 8.395578619995112, 9.16273901188674, 10.0], \"xaxis\": \"x\", \"y\": [525.5606580243626, 526.0792164081499, 526.6435943105996, 526.7670855328313, 526.6008557835953, 526.4193902868299, 526.2213348140225, 526.0015267932177, 525.7658023747995, 525.5048372471326, 525.2243072890225, 524.9145368934808, 524.5770965114981, 524.209819213622, 523.8110628440518, 523.3743823796035, 522.8946843963867, 522.3756258494046, 521.9795227093682, 521.5735783701093, 521.1280975124076, 520.6411946176889, 520.110138154191, 519.5309727670973, 518.8993259411443, 518.2079244517403, 517.4498132559303, 516.6472050028058, 515.75259987471, 514.7521467089289, 513.6955335527922, 512.5331674589399, 511.9709677919824, 511.7350914023338, 511.4722632287535, 510.6135266554792, 509.4300024864154, 508.1383317670721, 506.7286324209841, 504.28853825375006, 499.63408822604885, 494.54239214744814, 488.9896751553008, 482.9295691270232, 476.3157105194431, 469.0974992411342, 461.21971153055455, 452.62207746026206, 443.2388198348527, 432.2698455301515, 416.6609896545387, 399.6225074421385, 381.0307826680168, 360.3889849496285, 331.64322351469104, 300.26326349868475, 266.01398705894655, 228.63425341506706, 187.83888251626973, 143.31576465176104, 94.72427055076092, 33.472187197310575, 0.0, 0.0, 0.0, 0.0, 0.0, 0.0, 0.0, 0.0, 0.0, 0.0, 0.0, 0.0, 0.0, 0.0, 0.0, 0.0, 0.0, 0.0], \"yaxis\": \"y\"}, {\"hovertemplate\": \"variable=bp<br>alphas=%{x}<br>value=%{y}<extra></extra>\", \"legendgroup\": \"bp\", \"line\": {\"color\": \"#ab63fa\", \"dash\": \"solid\"}, \"mode\": \"lines\", \"name\": \"bp\", \"orientation\": \"v\", \"showlegend\": true, \"type\": \"scatter\", \"x\": [0.01, 0.010913767146512732, 0.011911031332830068, 0.012999422244132456, 0.014187266741165962, 0.015483652565854992, 0.01689849786812457, 0.018442627085855347, 0.020127853758499396, 0.021967070907932353, 0.02397434967801077, 0.02616504698748821, 0.028555923019901074, 0.031165269449294302, 0.03401304938279253, 0.03712105009066361, 0.04051304969235382, 0.04421499907374487, 0.04825522042741279, 0.05266462393484278, 0.05747694424835353, 0.06272899858196247, 0.06846096838574658, 0.07471670675868078, 0.08154407395185162, 0.08899530352885233, 0.09712740198471168, 0.10600258488068824, 0.11568875283162827, 0.12626001098748565, 0.13779723598335575, 0.150388694695541, 0.1641307195375129, 0.1791284454622004, 0.19549661430912604, 0.21336045265014109, 0.23285662984981953, 0.25413430367026363, 0.2773562614198415, 0.3027001653763463, 0.33035991201283393, 0.3605471154250504, 0.39349272630958493, 0.42944879887892745, 0.46869041923141924, 0.5115178099293143, 0.5582586268862695, 0.6092704661368677, 0.6649435996665045, 0.7257039612324216, 0.7920164050192553, 0.864388262059827, 0.9433732216299778, 1.0295755673125127, 1.1236548001387516, 1.2263306841775632, 1.3383887531737577, 1.460686320364989, 1.5941590374559995, 1.739828052930364, 1.8988078244652633, 2.0723146452190293, 2.2616759492228646, 2.4683404670686486, 2.6938893095901726, 2.940048064334711, 3.2086999973704504, 3.501900461431713, 3.8218926206331187, 4.171124612056521, 4.55226827550731, 4.968239594734388, 5.422221006501586, 5.917685748188824, 6.458424430196978, 7.048574036451903, 7.692649574879146, 8.395578619995112, 9.16273901188674, 10.0], \"xaxis\": \"x\", \"y\": [316.17531972782973, 315.4268411414176, 314.683381235279, 314.06055298470625, 313.4371702226585, 312.75681070840784, 312.014279661545, 311.20278488616134, 310.31840870055936, 309.352093397529, 308.29878393286185, 307.1481275640454, 305.89252173553405, 304.5224866518421, 303.02789652329113, 301.39628254094094, 299.6146278375288, 297.6715336800466, 295.92628402479085, 294.1508484536364, 292.2124609844809, 290.0966555936256, 287.7875494971906, 285.26753883745624, 282.5173918214102, 279.51576407738526, 276.23962164730483, 272.6691921483248, 268.7685246189146, 264.50870563923894, 259.86467259510385, 254.79801228112743, 249.21187890226116, 243.06537251452255, 236.35816619391304, 228.39613030066943, 219.45903598626856, 209.70529935488918, 199.0602983145605, 189.05902274290776, 181.67931416171498, 173.64180687918775, 164.86876974401386, 155.29408129791395, 144.84448927779982, 133.4400478694415, 120.99350607275467, 107.40964017791671, 92.58452524534512, 76.51824077506419, 59.53388937408106, 41.01184573376252, 20.795578414616802, 0.0, 0.0, 0.0, 0.0, 0.0, 0.0, 0.0, 0.0, 0.0, 0.0, 0.0, 0.0, 0.0, 0.0, 0.0, 0.0, 0.0, 0.0, 0.0, 0.0, 0.0, 0.0, 0.0, 0.0, 0.0, 0.0, 0.0], \"yaxis\": \"y\"}, {\"hovertemplate\": \"variable=s1<br>alphas=%{x}<br>value=%{y}<extra></extra>\", \"legendgroup\": \"s1\", \"line\": {\"color\": \"#FFA15A\", \"dash\": \"solid\"}, \"mode\": \"lines\", \"name\": \"s1\", \"orientation\": \"v\", \"showlegend\": true, \"type\": \"scatter\", \"x\": [0.01, 0.010913767146512732, 0.011911031332830068, 0.012999422244132456, 0.014187266741165962, 0.015483652565854992, 0.01689849786812457, 0.018442627085855347, 0.020127853758499396, 0.021967070907932353, 0.02397434967801077, 0.02616504698748821, 0.028555923019901074, 0.031165269449294302, 0.03401304938279253, 0.03712105009066361, 0.04051304969235382, 0.04421499907374487, 0.04825522042741279, 0.05266462393484278, 0.05747694424835353, 0.06272899858196247, 0.06846096838574658, 0.07471670675868078, 0.08154407395185162, 0.08899530352885233, 0.09712740198471168, 0.10600258488068824, 0.11568875283162827, 0.12626001098748565, 0.13779723598335575, 0.150388694695541, 0.1641307195375129, 0.1791284454622004, 0.19549661430912604, 0.21336045265014109, 0.23285662984981953, 0.25413430367026363, 0.2773562614198415, 0.3027001653763463, 0.33035991201283393, 0.3605471154250504, 0.39349272630958493, 0.42944879887892745, 0.46869041923141924, 0.5115178099293143, 0.5582586268862695, 0.6092704661368677, 0.6649435996665045, 0.7257039612324216, 0.7920164050192553, 0.864388262059827, 0.9433732216299778, 1.0295755673125127, 1.1236548001387516, 1.2263306841775632, 1.3383887531737577, 1.460686320364989, 1.5941590374559995, 1.739828052930364, 1.8988078244652633, 2.0723146452190293, 2.2616759492228646, 2.4683404670686486, 2.6938893095901726, 2.940048064334711, 3.2086999973704504, 3.501900461431713, 3.8218926206331187, 4.171124612056521, 4.55226827550731, 4.968239594734388, 5.422221006501586, 5.917685748188824, 6.458424430196978, 7.048574036451903, 7.692649574879146, 8.395578619995112, 9.16273901188674, 10.0], \"xaxis\": \"x\", \"y\": [-307.0136770984272, -263.1187696964235, -215.17828414734404, -193.10815736218785, -189.8180236759813, -186.2268109436927, -182.30736686007918, -177.9951853268564, -173.3284275169193, -168.20020890368016, -162.64391073147044, -156.5457624432809, -149.89640303570297, -142.6488856968018, -134.75881449090636, -126.13370041066918, -116.69096911189509, -106.4277441704327, -101.08634428430781, -96.95017471161277, -92.43559241546176, -87.50844341920649, -82.13128921539779, -76.26298305798139, -69.85861505917693, -62.86783747203422, -55.236113877021786, -46.919155004687994, -37.83321638711166, -27.90235454520109, -17.084177982866663, -5.267177569955376, -0.0, -0.0, -0.0, -0.0, -0.0, -0.0, -0.0, -0.0, -0.0, -0.0, -0.0, -0.0, -0.0, -0.0, -0.0, 0.0, 0.0, 0.0, 0.0, 0.0, 0.0, 0.0, 0.0, 0.0, 0.0, 0.0, 0.0, 0.0, 0.0, 0.0, 0.0, 0.0, 0.0, 0.0, 0.0, 0.0, 0.0, 0.0, 0.0, 0.0, 0.0, 0.0, 0.0, 0.0, 0.0, 0.0, 0.0, 0.0], \"yaxis\": \"y\"}, {\"hovertemplate\": \"variable=s2<br>alphas=%{x}<br>value=%{y}<extra></extra>\", \"legendgroup\": \"s2\", \"line\": {\"color\": \"#19d3f3\", \"dash\": \"solid\"}, \"mode\": \"lines\", \"name\": \"s2\", \"orientation\": \"v\", \"showlegend\": true, \"type\": \"scatter\", \"x\": [0.01, 0.010913767146512732, 0.011911031332830068, 0.012999422244132456, 0.014187266741165962, 0.015483652565854992, 0.01689849786812457, 0.018442627085855347, 0.020127853758499396, 0.021967070907932353, 0.02397434967801077, 0.02616504698748821, 0.028555923019901074, 0.031165269449294302, 0.03401304938279253, 0.03712105009066361, 0.04051304969235382, 0.04421499907374487, 0.04825522042741279, 0.05266462393484278, 0.05747694424835353, 0.06272899858196247, 0.06846096838574658, 0.07471670675868078, 0.08154407395185162, 0.08899530352885233, 0.09712740198471168, 0.10600258488068824, 0.11568875283162827, 0.12626001098748565, 0.13779723598335575, 0.150388694695541, 0.1641307195375129, 0.1791284454622004, 0.19549661430912604, 0.21336045265014109, 0.23285662984981953, 0.25413430367026363, 0.2773562614198415, 0.3027001653763463, 0.33035991201283393, 0.3605471154250504, 0.39349272630958493, 0.42944879887892745, 0.46869041923141924, 0.5115178099293143, 0.5582586268862695, 0.6092704661368677, 0.6649435996665045, 0.7257039612324216, 0.7920164050192553, 0.864388262059827, 0.9433732216299778, 1.0295755673125127, 1.1236548001387516, 1.2263306841775632, 1.3383887531737577, 1.460686320364989, 1.5941590374559995, 1.739828052930364, 1.8988078244652633, 2.0723146452190293, 2.2616759492228646, 2.4683404670686486, 2.6938893095901726, 2.940048064334711, 3.2086999973704504, 3.501900461431713, 3.8218926206331187, 4.171124612056521, 4.55226827550731, 4.968239594734388, 5.422221006501586, 5.917685748188824, 6.458424430196978, 7.048574036451903, 7.692649574879146, 8.395578619995112, 9.16273901188674, 10.0], \"xaxis\": \"x\", \"y\": [89.32168771685866, 54.26353011251453, 16.02296698653007, 0.0, 0.0, 0.0, 0.0, 0.0, 0.0, 0.0, -0.0, -0.0, -0.0, -0.0, -0.0, -0.0, -0.0, -0.0, -0.0, -0.0, -0.0, -0.0, -0.0, -0.0, -0.0, -0.0, -0.0, -0.0, -0.0, -0.0, -0.0, -0.0, -0.0, -0.0, -0.0, -0.0, -0.0, -0.0, -0.0, -0.0, -0.0, -0.0, -0.0, -0.0, -0.0, -0.0, 0.0, 0.0, 0.0, 0.0, 0.0, 0.0, 0.0, 0.0, 0.0, 0.0, 0.0, 0.0, 0.0, 0.0, 0.0, 0.0, 0.0, 0.0, 0.0, 0.0, 0.0, 0.0, 0.0, 0.0, 0.0, 0.0, 0.0, 0.0, 0.0, 0.0, 0.0, 0.0, 0.0, 0.0], \"yaxis\": \"y\"}, {\"hovertemplate\": \"variable=s3<br>alphas=%{x}<br>value=%{y}<extra></extra>\", \"legendgroup\": \"s3\", \"line\": {\"color\": \"#FF6692\", \"dash\": \"solid\"}, \"mode\": \"lines\", \"name\": \"s3\", \"orientation\": \"v\", \"showlegend\": true, \"type\": \"scatter\", \"x\": [0.01, 0.010913767146512732, 0.011911031332830068, 0.012999422244132456, 0.014187266741165962, 0.015483652565854992, 0.01689849786812457, 0.018442627085855347, 0.020127853758499396, 0.021967070907932353, 0.02397434967801077, 0.02616504698748821, 0.028555923019901074, 0.031165269449294302, 0.03401304938279253, 0.03712105009066361, 0.04051304969235382, 0.04421499907374487, 0.04825522042741279, 0.05266462393484278, 0.05747694424835353, 0.06272899858196247, 0.06846096838574658, 0.07471670675868078, 0.08154407395185162, 0.08899530352885233, 0.09712740198471168, 0.10600258488068824, 0.11568875283162827, 0.12626001098748565, 0.13779723598335575, 0.150388694695541, 0.1641307195375129, 0.1791284454622004, 0.19549661430912604, 0.21336045265014109, 0.23285662984981953, 0.25413430367026363, 0.2773562614198415, 0.3027001653763463, 0.33035991201283393, 0.3605471154250504, 0.39349272630958493, 0.42944879887892745, 0.46869041923141924, 0.5115178099293143, 0.5582586268862695, 0.6092704661368677, 0.6649435996665045, 0.7257039612324216, 0.7920164050192553, 0.864388262059827, 0.9433732216299778, 1.0295755673125127, 1.1236548001387516, 1.2263306841775632, 1.3383887531737577, 1.460686320364989, 1.5941590374559995, 1.739828052930364, 1.8988078244652633, 2.0723146452190293, 2.2616759492228646, 2.4683404670686486, 2.6938893095901726, 2.940048064334711, 3.2086999973704504, 3.501900461431713, 3.8218926206331187, 4.171124612056521, 4.55226827550731, 4.968239594734388, 5.422221006501586, 5.917685748188824, 6.458424430196978, 7.048574036451903, 7.692649574879146, 8.395578619995112, 9.16273901188674, 10.0], \"xaxis\": \"x\", \"y\": [-105.08139789913973, -123.72068007980589, -144.05207719479105, -154.19689590480647, -156.77079363018774, -159.58044464361993, -162.64693217264897, -166.03782713267006, -169.68815221757242, -173.71679138090414, -178.0617766670159, -182.84740947112297, -188.06264819909845, -193.7423773307414, -199.91592773803086, -206.67158110541564, -214.08221748833452, -222.11589559030745, -223.15974269083813, -222.0506064158101, -220.8411762867523, -219.5214466017806, -218.08083530605944, -216.5083033887647, -214.79182059622372, -212.92012435327013, -210.88030365334586, -208.63676689416192, -206.20113418624175, -203.5625867941327, -200.65550069842175, -197.4946898512809, -191.28116849008998, -182.47240590865084, -172.8609860270574, -162.23955504297234, -150.6498092639964, -138.00103059209437, -124.19644808080257, -111.8427931664225, -104.32384118536926, -96.13912471900838, -87.20428600300738, -77.45301107919921, -66.81069668919204, -55.195922573940244, -42.51982855861965, -28.68543471756881, -13.586899418130916, -0.0, -0.0, -0.0, -0.0, -0.0, -0.0, -0.0, -0.0, -0.0, -0.0, -0.0, -0.0, -0.0, -0.0, -0.0, -0.0, -0.0, -0.0, -0.0, -0.0, -0.0, -0.0, -0.0, -0.0, -0.0, -0.0, -0.0, -0.0, -0.0, -0.0, -0.0], \"yaxis\": \"y\"}, {\"hovertemplate\": \"variable=s4<br>alphas=%{x}<br>value=%{y}<extra></extra>\", \"legendgroup\": \"s4\", \"line\": {\"color\": \"#B6E880\", \"dash\": \"solid\"}, \"mode\": \"lines\", \"name\": \"s4\", \"orientation\": \"v\", \"showlegend\": true, \"type\": \"scatter\", \"x\": [0.01, 0.010913767146512732, 0.011911031332830068, 0.012999422244132456, 0.014187266741165962, 0.015483652565854992, 0.01689849786812457, 0.018442627085855347, 0.020127853758499396, 0.021967070907932353, 0.02397434967801077, 0.02616504698748821, 0.028555923019901074, 0.031165269449294302, 0.03401304938279253, 0.03712105009066361, 0.04051304969235382, 0.04421499907374487, 0.04825522042741279, 0.05266462393484278, 0.05747694424835353, 0.06272899858196247, 0.06846096838574658, 0.07471670675868078, 0.08154407395185162, 0.08899530352885233, 0.09712740198471168, 0.10600258488068824, 0.11568875283162827, 0.12626001098748565, 0.13779723598335575, 0.150388694695541, 0.1641307195375129, 0.1791284454622004, 0.19549661430912604, 0.21336045265014109, 0.23285662984981953, 0.25413430367026363, 0.2773562614198415, 0.3027001653763463, 0.33035991201283393, 0.3605471154250504, 0.39349272630958493, 0.42944879887892745, 0.46869041923141924, 0.5115178099293143, 0.5582586268862695, 0.6092704661368677, 0.6649435996665045, 0.7257039612324216, 0.7920164050192553, 0.864388262059827, 0.9433732216299778, 1.0295755673125127, 1.1236548001387516, 1.2263306841775632, 1.3383887531737577, 1.460686320364989, 1.5941590374559995, 1.739828052930364, 1.8988078244652633, 2.0723146452190293, 2.2616759492228646, 2.4683404670686486, 2.6938893095901726, 2.940048064334711, 3.2086999973704504, 3.501900461431713, 3.8218926206331187, 4.171124612056521, 4.55226827550731, 4.968239594734388, 5.422221006501586, 5.917685748188824, 6.458424430196978, 7.048574036451903, 7.692649574879146, 8.395578619995112, 9.16273901188674, 10.0], \"xaxis\": \"x\", \"y\": [119.59798934448945, 114.4033108719061, 108.70957320025182, 103.96517915847829, 100.12853527479557, 95.94073486137786, 91.3701640161189, 86.33635212510725, 80.89457744177446, 74.90937887891185, 68.43068480930118, 61.31499496318719, 53.55702898731678, 45.102607302362514, 35.90161676885724, 25.84131799392169, 14.822879239282, 2.8534380871869436, 0.0, 0.0, 0.0, 0.0, 0.0, 0.0, 0.0, 0.0, 0.0, 0.0, 0.0, 0.0, 0.0, 0.0, 0.0, 0.0, 0.0, 0.0, 0.0, 0.0, 0.0, 0.0, 0.0, 0.0, 0.0, 0.0, 0.0, 0.0, 0.0, 0.0, 0.0, 0.0, 0.0, 0.0, 0.0, 0.0, 0.0, 0.0, 0.0, 0.0, 0.0, 0.0, 0.0, 0.0, 0.0, 0.0, 0.0, 0.0, 0.0, 0.0, 0.0, 0.0, 0.0, 0.0, 0.0, 0.0, 0.0, 0.0, 0.0, 0.0, 0.0, 0.0], \"yaxis\": \"y\"}, {\"hovertemplate\": \"variable=s5<br>alphas=%{x}<br>value=%{y}<extra></extra>\", \"legendgroup\": \"s5\", \"line\": {\"color\": \"#FF97FF\", \"dash\": \"solid\"}, \"mode\": \"lines\", \"name\": \"s5\", \"orientation\": \"v\", \"showlegend\": true, \"type\": \"scatter\", \"x\": [0.01, 0.010913767146512732, 0.011911031332830068, 0.012999422244132456, 0.014187266741165962, 0.015483652565854992, 0.01689849786812457, 0.018442627085855347, 0.020127853758499396, 0.021967070907932353, 0.02397434967801077, 0.02616504698748821, 0.028555923019901074, 0.031165269449294302, 0.03401304938279253, 0.03712105009066361, 0.04051304969235382, 0.04421499907374487, 0.04825522042741279, 0.05266462393484278, 0.05747694424835353, 0.06272899858196247, 0.06846096838574658, 0.07471670675868078, 0.08154407395185162, 0.08899530352885233, 0.09712740198471168, 0.10600258488068824, 0.11568875283162827, 0.12626001098748565, 0.13779723598335575, 0.150388694695541, 0.1641307195375129, 0.1791284454622004, 0.19549661430912604, 0.21336045265014109, 0.23285662984981953, 0.25413430367026363, 0.2773562614198415, 0.3027001653763463, 0.33035991201283393, 0.3605471154250504, 0.39349272630958493, 0.42944879887892745, 0.46869041923141924, 0.5115178099293143, 0.5582586268862695, 0.6092704661368677, 0.6649435996665045, 0.7257039612324216, 0.7920164050192553, 0.864388262059827, 0.9433732216299778, 1.0295755673125127, 1.1236548001387516, 1.2263306841775632, 1.3383887531737577, 1.460686320364989, 1.5941590374559995, 1.739828052930364, 1.8988078244652633, 2.0723146452190293, 2.2616759492228646, 2.4683404670686486, 2.6938893095901726, 2.940048064334711, 3.2086999973704504, 3.501900461431713, 3.8218926206331187, 4.171124612056521, 4.55226827550731, 4.968239594734388, 5.422221006501586, 5.917685748188824, 6.458424430196978, 7.048574036451903, 7.692649574879146, 8.395578619995112, 9.16273901188674, 10.0], \"xaxis\": \"x\", \"y\": [571.330870564746, 555.0495710470001, 537.3137581065811, 529.5898434848975, 529.0422581794486, 528.4445722172508, 527.7922602247602, 527.075272412884, 526.2985513376684, 525.4457224090578, 524.5209033681856, 523.5065747865423, 522.4004421291481, 521.194618026046, 519.8814969532993, 518.4463245094353, 516.8756897825801, 515.1677433261268, 513.0313824558681, 510.5498763069502, 507.84192871628017, 504.8866578592134, 501.66140798616624, 498.14148665955, 494.2999570752285, 490.10719144187124, 485.53093478410517, 480.53900672384145, 475.08904904588695, 469.13771228735214, 462.64708102541624, 455.55997546327654, 452.05532267269564, 451.479041400889, 450.8522580890155, 449.21013557043517, 446.9160238061167, 444.4122836457312, 441.6797599351497, 438.3839991957787, 434.13564967413924, 429.48943318796677, 424.41808546375114, 418.8833346456419, 412.8428364813612, 406.25037743997086, 399.0555211499056, 391.2032225296659, 382.63340665904786, 372.408386985357, 356.74528385682805, 339.6468085052732, 320.98497441814754, 300.2756596949128, 271.5178088503531, 240.13550864798015, 205.88645303144844, 168.50821976730492, 127.71448634801452, 83.19315559050958, 34.603611896481176, 0.0, 0.0, 0.0, 0.0, 0.0, 0.0, 0.0, 0.0, 0.0, 0.0, 0.0, 0.0, 0.0, 0.0, 0.0, 0.0, 0.0, 0.0, 0.0], \"yaxis\": \"y\"}, {\"hovertemplate\": \"variable=s6<br>alphas=%{x}<br>value=%{y}<extra></extra>\", \"legendgroup\": \"s6\", \"line\": {\"color\": \"#FECB52\", \"dash\": \"solid\"}, \"mode\": \"lines\", \"name\": \"s6\", \"orientation\": \"v\", \"showlegend\": true, \"type\": \"scatter\", \"x\": [0.01, 0.010913767146512732, 0.011911031332830068, 0.012999422244132456, 0.014187266741165962, 0.015483652565854992, 0.01689849786812457, 0.018442627085855347, 0.020127853758499396, 0.021967070907932353, 0.02397434967801077, 0.02616504698748821, 0.028555923019901074, 0.031165269449294302, 0.03401304938279253, 0.03712105009066361, 0.04051304969235382, 0.04421499907374487, 0.04825522042741279, 0.05266462393484278, 0.05747694424835353, 0.06272899858196247, 0.06846096838574658, 0.07471670675868078, 0.08154407395185162, 0.08899530352885233, 0.09712740198471168, 0.10600258488068824, 0.11568875283162827, 0.12626001098748565, 0.13779723598335575, 0.150388694695541, 0.1641307195375129, 0.1791284454622004, 0.19549661430912604, 0.21336045265014109, 0.23285662984981953, 0.25413430367026363, 0.2773562614198415, 0.3027001653763463, 0.33035991201283393, 0.3605471154250504, 0.39349272630958493, 0.42944879887892745, 0.46869041923141924, 0.5115178099293143, 0.5582586268862695, 0.6092704661368677, 0.6649435996665045, 0.7257039612324216, 0.7920164050192553, 0.864388262059827, 0.9433732216299778, 1.0295755673125127, 1.1236548001387516, 1.2263306841775632, 1.3383887531737577, 1.460686320364989, 1.5941590374559995, 1.739828052930364, 1.8988078244652633, 2.0723146452190293, 2.2616759492228646, 2.4683404670686486, 2.6938893095901726, 2.940048064334711, 3.2086999973704504, 3.501900461431713, 3.8218926206331187, 4.171124612056521, 4.55226827550731, 4.968239594734388, 5.422221006501586, 5.917685748188824, 6.458424430196978, 7.048574036451903, 7.692649574879146, 8.395578619995112, 9.16273901188674, 10.0], \"xaxis\": \"x\", \"y\": [65.00731594841481, 64.76758958638406, 64.55762126436078, 64.30970170825566, 63.95778877711062, 63.57372210037137, 63.15456119080761, 62.697328208768866, 62.198053029873975, 61.65338809398871, 61.05868466143448, 60.40986562118712, 59.70171970865753, 58.92880313450557, 58.085129293610365, 57.164456674134385, 56.15985159581931, 55.063169377145165, 53.598323816430806, 51.89937955185463, 50.046101214498904, 48.023812254897436, 45.816663348199455, 43.407703202502184, 40.77845495002232, 37.90935080181971, 34.77869893642735, 31.35477638563323, 27.623543910249904, 23.556456784773303, 19.109374803000634, 14.25535496837004, 9.882215563813824, 5.843325341151306, 1.4362326889397479, 0.0, 0.0, 0.0, 0.0, 0.0, 0.0, 0.0, 0.0, 0.0, 0.0, 0.0, 0.0, 0.0, 0.0, 0.0, 0.0, 0.0, 0.0, 0.0, 0.0, 0.0, 0.0, 0.0, 0.0, 0.0, 0.0, 0.0, 0.0, 0.0, 0.0, 0.0, 0.0, 0.0, 0.0, 0.0, 0.0, 0.0, 0.0, 0.0, 0.0, 0.0, 0.0, 0.0, 0.0, 0.0], \"yaxis\": \"y\"}],                        {\"legend\": {\"title\": {\"text\": \"variable\"}, \"tracegroupgap\": 0}, \"margin\": {\"t\": 60}, \"template\": {\"data\": {\"bar\": [{\"error_x\": {\"color\": \"#2a3f5f\"}, \"error_y\": {\"color\": \"#2a3f5f\"}, \"marker\": {\"line\": {\"color\": \"#E5ECF6\", \"width\": 0.5}}, \"type\": \"bar\"}], \"barpolar\": [{\"marker\": {\"line\": {\"color\": \"#E5ECF6\", \"width\": 0.5}}, \"type\": \"barpolar\"}], \"carpet\": [{\"aaxis\": {\"endlinecolor\": \"#2a3f5f\", \"gridcolor\": \"white\", \"linecolor\": \"white\", \"minorgridcolor\": \"white\", \"startlinecolor\": \"#2a3f5f\"}, \"baxis\": {\"endlinecolor\": \"#2a3f5f\", \"gridcolor\": \"white\", \"linecolor\": \"white\", \"minorgridcolor\": \"white\", \"startlinecolor\": \"#2a3f5f\"}, \"type\": \"carpet\"}], \"choropleth\": [{\"colorbar\": {\"outlinewidth\": 0, \"ticks\": \"\"}, \"type\": \"choropleth\"}], \"contour\": [{\"colorbar\": {\"outlinewidth\": 0, \"ticks\": \"\"}, \"colorscale\": [[0.0, \"#0d0887\"], [0.1111111111111111, \"#46039f\"], [0.2222222222222222, \"#7201a8\"], [0.3333333333333333, \"#9c179e\"], [0.4444444444444444, \"#bd3786\"], [0.5555555555555556, \"#d8576b\"], [0.6666666666666666, \"#ed7953\"], [0.7777777777777778, \"#fb9f3a\"], [0.8888888888888888, \"#fdca26\"], [1.0, \"#f0f921\"]], \"type\": \"contour\"}], \"contourcarpet\": [{\"colorbar\": {\"outlinewidth\": 0, \"ticks\": \"\"}, \"type\": \"contourcarpet\"}], \"heatmap\": [{\"colorbar\": {\"outlinewidth\": 0, \"ticks\": \"\"}, \"colorscale\": [[0.0, \"#0d0887\"], [0.1111111111111111, \"#46039f\"], [0.2222222222222222, \"#7201a8\"], [0.3333333333333333, \"#9c179e\"], [0.4444444444444444, \"#bd3786\"], [0.5555555555555556, \"#d8576b\"], [0.6666666666666666, \"#ed7953\"], [0.7777777777777778, \"#fb9f3a\"], [0.8888888888888888, \"#fdca26\"], [1.0, \"#f0f921\"]], \"type\": \"heatmap\"}], \"heatmapgl\": [{\"colorbar\": {\"outlinewidth\": 0, \"ticks\": \"\"}, \"colorscale\": [[0.0, \"#0d0887\"], [0.1111111111111111, \"#46039f\"], [0.2222222222222222, \"#7201a8\"], [0.3333333333333333, \"#9c179e\"], [0.4444444444444444, \"#bd3786\"], [0.5555555555555556, \"#d8576b\"], [0.6666666666666666, \"#ed7953\"], [0.7777777777777778, \"#fb9f3a\"], [0.8888888888888888, \"#fdca26\"], [1.0, \"#f0f921\"]], \"type\": \"heatmapgl\"}], \"histogram\": [{\"marker\": {\"colorbar\": {\"outlinewidth\": 0, \"ticks\": \"\"}}, \"type\": \"histogram\"}], \"histogram2d\": [{\"colorbar\": {\"outlinewidth\": 0, \"ticks\": \"\"}, \"colorscale\": [[0.0, \"#0d0887\"], [0.1111111111111111, \"#46039f\"], [0.2222222222222222, \"#7201a8\"], [0.3333333333333333, \"#9c179e\"], [0.4444444444444444, \"#bd3786\"], [0.5555555555555556, \"#d8576b\"], [0.6666666666666666, \"#ed7953\"], [0.7777777777777778, \"#fb9f3a\"], [0.8888888888888888, \"#fdca26\"], [1.0, \"#f0f921\"]], \"type\": \"histogram2d\"}], \"histogram2dcontour\": [{\"colorbar\": {\"outlinewidth\": 0, \"ticks\": \"\"}, \"colorscale\": [[0.0, \"#0d0887\"], [0.1111111111111111, \"#46039f\"], [0.2222222222222222, \"#7201a8\"], [0.3333333333333333, \"#9c179e\"], [0.4444444444444444, \"#bd3786\"], [0.5555555555555556, \"#d8576b\"], [0.6666666666666666, \"#ed7953\"], [0.7777777777777778, \"#fb9f3a\"], [0.8888888888888888, \"#fdca26\"], [1.0, \"#f0f921\"]], \"type\": \"histogram2dcontour\"}], \"mesh3d\": [{\"colorbar\": {\"outlinewidth\": 0, \"ticks\": \"\"}, \"type\": \"mesh3d\"}], \"parcoords\": [{\"line\": {\"colorbar\": {\"outlinewidth\": 0, \"ticks\": \"\"}}, \"type\": \"parcoords\"}], \"pie\": [{\"automargin\": true, \"type\": \"pie\"}], \"scatter\": [{\"marker\": {\"colorbar\": {\"outlinewidth\": 0, \"ticks\": \"\"}}, \"type\": \"scatter\"}], \"scatter3d\": [{\"line\": {\"colorbar\": {\"outlinewidth\": 0, \"ticks\": \"\"}}, \"marker\": {\"colorbar\": {\"outlinewidth\": 0, \"ticks\": \"\"}}, \"type\": \"scatter3d\"}], \"scattercarpet\": [{\"marker\": {\"colorbar\": {\"outlinewidth\": 0, \"ticks\": \"\"}}, \"type\": \"scattercarpet\"}], \"scattergeo\": [{\"marker\": {\"colorbar\": {\"outlinewidth\": 0, \"ticks\": \"\"}}, \"type\": \"scattergeo\"}], \"scattergl\": [{\"marker\": {\"colorbar\": {\"outlinewidth\": 0, \"ticks\": \"\"}}, \"type\": \"scattergl\"}], \"scattermapbox\": [{\"marker\": {\"colorbar\": {\"outlinewidth\": 0, \"ticks\": \"\"}}, \"type\": \"scattermapbox\"}], \"scatterpolar\": [{\"marker\": {\"colorbar\": {\"outlinewidth\": 0, \"ticks\": \"\"}}, \"type\": \"scatterpolar\"}], \"scatterpolargl\": [{\"marker\": {\"colorbar\": {\"outlinewidth\": 0, \"ticks\": \"\"}}, \"type\": \"scatterpolargl\"}], \"scatterternary\": [{\"marker\": {\"colorbar\": {\"outlinewidth\": 0, \"ticks\": \"\"}}, \"type\": \"scatterternary\"}], \"surface\": [{\"colorbar\": {\"outlinewidth\": 0, \"ticks\": \"\"}, \"colorscale\": [[0.0, \"#0d0887\"], [0.1111111111111111, \"#46039f\"], [0.2222222222222222, \"#7201a8\"], [0.3333333333333333, \"#9c179e\"], [0.4444444444444444, \"#bd3786\"], [0.5555555555555556, \"#d8576b\"], [0.6666666666666666, \"#ed7953\"], [0.7777777777777778, \"#fb9f3a\"], [0.8888888888888888, \"#fdca26\"], [1.0, \"#f0f921\"]], \"type\": \"surface\"}], \"table\": [{\"cells\": {\"fill\": {\"color\": \"#EBF0F8\"}, \"line\": {\"color\": \"white\"}}, \"header\": {\"fill\": {\"color\": \"#C8D4E3\"}, \"line\": {\"color\": \"white\"}}, \"type\": \"table\"}]}, \"layout\": {\"annotationdefaults\": {\"arrowcolor\": \"#2a3f5f\", \"arrowhead\": 0, \"arrowwidth\": 1}, \"coloraxis\": {\"colorbar\": {\"outlinewidth\": 0, \"ticks\": \"\"}}, \"colorscale\": {\"diverging\": [[0, \"#8e0152\"], [0.1, \"#c51b7d\"], [0.2, \"#de77ae\"], [0.3, \"#f1b6da\"], [0.4, \"#fde0ef\"], [0.5, \"#f7f7f7\"], [0.6, \"#e6f5d0\"], [0.7, \"#b8e186\"], [0.8, \"#7fbc41\"], [0.9, \"#4d9221\"], [1, \"#276419\"]], \"sequential\": [[0.0, \"#0d0887\"], [0.1111111111111111, \"#46039f\"], [0.2222222222222222, \"#7201a8\"], [0.3333333333333333, \"#9c179e\"], [0.4444444444444444, \"#bd3786\"], [0.5555555555555556, \"#d8576b\"], [0.6666666666666666, \"#ed7953\"], [0.7777777777777778, \"#fb9f3a\"], [0.8888888888888888, \"#fdca26\"], [1.0, \"#f0f921\"]], \"sequentialminus\": [[0.0, \"#0d0887\"], [0.1111111111111111, \"#46039f\"], [0.2222222222222222, \"#7201a8\"], [0.3333333333333333, \"#9c179e\"], [0.4444444444444444, \"#bd3786\"], [0.5555555555555556, \"#d8576b\"], [0.6666666666666666, \"#ed7953\"], [0.7777777777777778, \"#fb9f3a\"], [0.8888888888888888, \"#fdca26\"], [1.0, \"#f0f921\"]]}, \"colorway\": [\"#636efa\", \"#EF553B\", \"#00cc96\", \"#ab63fa\", \"#FFA15A\", \"#19d3f3\", \"#FF6692\", \"#B6E880\", \"#FF97FF\", \"#FECB52\"], \"font\": {\"color\": \"#2a3f5f\"}, \"geo\": {\"bgcolor\": \"white\", \"lakecolor\": \"white\", \"landcolor\": \"#E5ECF6\", \"showlakes\": true, \"showland\": true, \"subunitcolor\": \"white\"}, \"hoverlabel\": {\"align\": \"left\"}, \"hovermode\": \"closest\", \"mapbox\": {\"style\": \"light\"}, \"paper_bgcolor\": \"white\", \"plot_bgcolor\": \"#E5ECF6\", \"polar\": {\"angularaxis\": {\"gridcolor\": \"white\", \"linecolor\": \"white\", \"ticks\": \"\"}, \"bgcolor\": \"#E5ECF6\", \"radialaxis\": {\"gridcolor\": \"white\", \"linecolor\": \"white\", \"ticks\": \"\"}}, \"scene\": {\"xaxis\": {\"backgroundcolor\": \"#E5ECF6\", \"gridcolor\": \"white\", \"gridwidth\": 2, \"linecolor\": \"white\", \"showbackground\": true, \"ticks\": \"\", \"zerolinecolor\": \"white\"}, \"yaxis\": {\"backgroundcolor\": \"#E5ECF6\", \"gridcolor\": \"white\", \"gridwidth\": 2, \"linecolor\": \"white\", \"showbackground\": true, \"ticks\": \"\", \"zerolinecolor\": \"white\"}, \"zaxis\": {\"backgroundcolor\": \"#E5ECF6\", \"gridcolor\": \"white\", \"gridwidth\": 2, \"linecolor\": \"white\", \"showbackground\": true, \"ticks\": \"\", \"zerolinecolor\": \"white\"}}, \"shapedefaults\": {\"line\": {\"color\": \"#2a3f5f\"}}, \"ternary\": {\"aaxis\": {\"gridcolor\": \"white\", \"linecolor\": \"white\", \"ticks\": \"\"}, \"baxis\": {\"gridcolor\": \"white\", \"linecolor\": \"white\", \"ticks\": \"\"}, \"bgcolor\": \"#E5ECF6\", \"caxis\": {\"gridcolor\": \"white\", \"linecolor\": \"white\", \"ticks\": \"\"}}, \"title\": {\"x\": 0.05}, \"xaxis\": {\"automargin\": true, \"gridcolor\": \"white\", \"linecolor\": \"white\", \"ticks\": \"\", \"title\": {\"standoff\": 15}, \"zerolinecolor\": \"white\", \"zerolinewidth\": 2}, \"yaxis\": {\"automargin\": true, \"gridcolor\": \"white\", \"linecolor\": \"white\", \"ticks\": \"\", \"title\": {\"standoff\": 15}, \"zerolinecolor\": \"white\", \"zerolinewidth\": 2}}}, \"xaxis\": {\"anchor\": \"y\", \"domain\": [0.0, 1.0], \"title\": {\"text\": \"alphas\"}, \"type\": \"log\"}, \"yaxis\": {\"anchor\": \"x\", \"domain\": [0.0, 1.0], \"title\": {\"text\": \"value\"}}},                        {\"responsive\": true}                    ).then(function(){\n                            \nvar gd = document.getElementById('76d8e437-7043-4a1f-a5c4-b81915bb5e56');\nvar x = new MutationObserver(function (mutations, observer) {{\n        var display = window.getComputedStyle(gd).display;\n        if (!display || display === 'none') {{\n            console.log([gd, 'removed!']);\n            Plotly.purge(gd);\n            observer.disconnect();\n        }}\n}});\n\n// Listen for the removal of the full notebook cells\nvar notebookContainer = gd.closest('#notebook-container');\nif (notebookContainer) {{\n    x.observe(notebookContainer, {childList: true});\n}}\n\n// Listen for the clearing of the current output cell\nvar outputEl = gd.closest('.output');\nif (outputEl) {{\n    x.observe(outputEl, {childList: true});\n}}\n\n                        })                };                });            </script>        </div>"
     },
     "metadata": {}
    }
   ],
   "source": [
    "coefs = []\n",
    "for a in alphas:\n",
    "    ridge = Lasso(alpha=a)\n",
    "    ridge.fit(original_X, original_y)\n",
    "    coefs.append(ridge.coef_)\n",
    "\n",
    "features = original_X.columns\n",
    "\n",
    "df_coefs = pd.DataFrame(coefs, columns=features)\n",
    "df_coefs['alphas'] = alphas\n",
    "fig = px.line(df_coefs, x='alphas', y=features)\n",
    "fig.update_xaxes(type='log').show()"
   ]
  },
  {
   "source": [
    "## Fit Lasso Regression"
   ],
   "cell_type": "markdown",
   "metadata": {}
  },
  {
   "cell_type": "code",
   "execution_count": 8,
   "metadata": {},
   "outputs": [],
   "source": [
    "model = Lasso(alpha=0.12).fit(original_X, original_y)"
   ]
  },
  {
   "cell_type": "code",
   "execution_count": 9,
   "metadata": {},
   "outputs": [
    {
     "output_type": "execute_result",
     "data": {
      "text/plain": [
       "0.5063126563847522"
      ]
     },
     "metadata": {},
     "execution_count": 9
    }
   ],
   "source": [
    "model.score(original_X, original_y)"
   ]
  },
  {
   "source": [
    "# Polynomial Lasso Regression"
   ],
   "cell_type": "markdown",
   "metadata": {}
  },
  {
   "cell_type": "code",
   "execution_count": 10,
   "metadata": {},
   "outputs": [],
   "source": [
    "original_X_3 = polynomial_features(original_X, 3)"
   ]
  },
  {
   "cell_type": "code",
   "execution_count": 11,
   "metadata": {},
   "outputs": [
    {
     "output_type": "execute_result",
     "data": {
      "text/plain": [
       "        age       sex       bmi        bp        s1        s2        s3  \\\n",
       "0  0.038076  0.050680  0.061696  0.021872 -0.044223 -0.034821 -0.043401   \n",
       "1 -0.001882 -0.044642 -0.051474 -0.026328 -0.008449 -0.019163  0.074412   \n",
       "2  0.085299  0.050680  0.044451 -0.005671 -0.045599 -0.034194 -0.032356   \n",
       "3 -0.089063 -0.044642 -0.011595 -0.036656  0.012191  0.024991 -0.036038   \n",
       "4  0.005383 -0.044642 -0.036385  0.021872  0.003935  0.015596  0.008142   \n",
       "\n",
       "         s4        s5        s6  ...         age^3     sex^3     bmi^3  \\\n",
       "0 -0.002592  0.019908 -0.017646  ...  5.520148e-05  0.000130  0.000235   \n",
       "1 -0.039493 -0.068330 -0.092204  ... -6.666077e-09 -0.000089 -0.000136   \n",
       "2 -0.002592  0.002864 -0.025930  ...  6.206266e-04  0.000130  0.000088   \n",
       "3  0.034309  0.022692 -0.009362  ... -7.064657e-04 -0.000089 -0.000002   \n",
       "4 -0.002592 -0.031991 -0.046641  ...  1.559868e-07 -0.000089 -0.000048   \n",
       "\n",
       "           bp^3          s1^3      s2^3          s3^3          s4^3  \\\n",
       "0  1.046373e-05 -8.648868e-05 -0.000042 -8.175128e-05 -1.741954e-08   \n",
       "1 -1.824927e-05 -6.030779e-07 -0.000007  4.120228e-04 -6.159891e-05   \n",
       "2 -1.823432e-07 -9.481539e-05 -0.000040 -3.387363e-05 -1.741954e-08   \n",
       "3 -4.925509e-05  1.811640e-06  0.000016 -4.680222e-05  4.038488e-05   \n",
       "4  1.046373e-05  6.092353e-08  0.000004  5.397674e-07 -1.741954e-08   \n",
       "\n",
       "           s5^3          s6^3  \n",
       "0  7.890607e-06 -5.494752e-06  \n",
       "1 -3.190284e-04 -7.838807e-04  \n",
       "2  2.348630e-08 -1.743511e-05  \n",
       "3  1.168476e-05 -8.205283e-07  \n",
       "4 -3.274173e-05 -1.014612e-04  \n",
       "\n",
       "[5 rows x 30 columns]"
      ],
      "text/html": "<div>\n<style scoped>\n    .dataframe tbody tr th:only-of-type {\n        vertical-align: middle;\n    }\n\n    .dataframe tbody tr th {\n        vertical-align: top;\n    }\n\n    .dataframe thead th {\n        text-align: right;\n    }\n</style>\n<table border=\"1\" class=\"dataframe\">\n  <thead>\n    <tr style=\"text-align: right;\">\n      <th></th>\n      <th>age</th>\n      <th>sex</th>\n      <th>bmi</th>\n      <th>bp</th>\n      <th>s1</th>\n      <th>s2</th>\n      <th>s3</th>\n      <th>s4</th>\n      <th>s5</th>\n      <th>s6</th>\n      <th>...</th>\n      <th>age^3</th>\n      <th>sex^3</th>\n      <th>bmi^3</th>\n      <th>bp^3</th>\n      <th>s1^3</th>\n      <th>s2^3</th>\n      <th>s3^3</th>\n      <th>s4^3</th>\n      <th>s5^3</th>\n      <th>s6^3</th>\n    </tr>\n  </thead>\n  <tbody>\n    <tr>\n      <th>0</th>\n      <td>0.038076</td>\n      <td>0.050680</td>\n      <td>0.061696</td>\n      <td>0.021872</td>\n      <td>-0.044223</td>\n      <td>-0.034821</td>\n      <td>-0.043401</td>\n      <td>-0.002592</td>\n      <td>0.019908</td>\n      <td>-0.017646</td>\n      <td>...</td>\n      <td>5.520148e-05</td>\n      <td>0.000130</td>\n      <td>0.000235</td>\n      <td>1.046373e-05</td>\n      <td>-8.648868e-05</td>\n      <td>-0.000042</td>\n      <td>-8.175128e-05</td>\n      <td>-1.741954e-08</td>\n      <td>7.890607e-06</td>\n      <td>-5.494752e-06</td>\n    </tr>\n    <tr>\n      <th>1</th>\n      <td>-0.001882</td>\n      <td>-0.044642</td>\n      <td>-0.051474</td>\n      <td>-0.026328</td>\n      <td>-0.008449</td>\n      <td>-0.019163</td>\n      <td>0.074412</td>\n      <td>-0.039493</td>\n      <td>-0.068330</td>\n      <td>-0.092204</td>\n      <td>...</td>\n      <td>-6.666077e-09</td>\n      <td>-0.000089</td>\n      <td>-0.000136</td>\n      <td>-1.824927e-05</td>\n      <td>-6.030779e-07</td>\n      <td>-0.000007</td>\n      <td>4.120228e-04</td>\n      <td>-6.159891e-05</td>\n      <td>-3.190284e-04</td>\n      <td>-7.838807e-04</td>\n    </tr>\n    <tr>\n      <th>2</th>\n      <td>0.085299</td>\n      <td>0.050680</td>\n      <td>0.044451</td>\n      <td>-0.005671</td>\n      <td>-0.045599</td>\n      <td>-0.034194</td>\n      <td>-0.032356</td>\n      <td>-0.002592</td>\n      <td>0.002864</td>\n      <td>-0.025930</td>\n      <td>...</td>\n      <td>6.206266e-04</td>\n      <td>0.000130</td>\n      <td>0.000088</td>\n      <td>-1.823432e-07</td>\n      <td>-9.481539e-05</td>\n      <td>-0.000040</td>\n      <td>-3.387363e-05</td>\n      <td>-1.741954e-08</td>\n      <td>2.348630e-08</td>\n      <td>-1.743511e-05</td>\n    </tr>\n    <tr>\n      <th>3</th>\n      <td>-0.089063</td>\n      <td>-0.044642</td>\n      <td>-0.011595</td>\n      <td>-0.036656</td>\n      <td>0.012191</td>\n      <td>0.024991</td>\n      <td>-0.036038</td>\n      <td>0.034309</td>\n      <td>0.022692</td>\n      <td>-0.009362</td>\n      <td>...</td>\n      <td>-7.064657e-04</td>\n      <td>-0.000089</td>\n      <td>-0.000002</td>\n      <td>-4.925509e-05</td>\n      <td>1.811640e-06</td>\n      <td>0.000016</td>\n      <td>-4.680222e-05</td>\n      <td>4.038488e-05</td>\n      <td>1.168476e-05</td>\n      <td>-8.205283e-07</td>\n    </tr>\n    <tr>\n      <th>4</th>\n      <td>0.005383</td>\n      <td>-0.044642</td>\n      <td>-0.036385</td>\n      <td>0.021872</td>\n      <td>0.003935</td>\n      <td>0.015596</td>\n      <td>0.008142</td>\n      <td>-0.002592</td>\n      <td>-0.031991</td>\n      <td>-0.046641</td>\n      <td>...</td>\n      <td>1.559868e-07</td>\n      <td>-0.000089</td>\n      <td>-0.000048</td>\n      <td>1.046373e-05</td>\n      <td>6.092353e-08</td>\n      <td>0.000004</td>\n      <td>5.397674e-07</td>\n      <td>-1.741954e-08</td>\n      <td>-3.274173e-05</td>\n      <td>-1.014612e-04</td>\n    </tr>\n  </tbody>\n</table>\n<p>5 rows × 30 columns</p>\n</div>"
     },
     "metadata": {},
     "execution_count": 11
    }
   ],
   "source": [
    "original_X_3.head()"
   ]
  },
  {
   "source": [
    "## Alpha selection"
   ],
   "cell_type": "markdown",
   "metadata": {}
  },
  {
   "cell_type": "code",
   "execution_count": 12,
   "metadata": {},
   "outputs": [],
   "source": [
    "n_alphas = 80\n",
    "alphas = np.logspace(-2, 1, n_alphas)"
   ]
  },
  {
   "cell_type": "code",
   "execution_count": 13,
   "metadata": {},
   "outputs": [
    {
     "output_type": "display_data",
     "data": {
      "application/vnd.plotly.v1+json": {
       "config": {
        "plotlyServerURL": "https://plot.ly"
       },
       "data": [
        {
         "hovertemplate": "alpha=%{x}<br>R^2 (mean)=%{y}<extra></extra>",
         "legendgroup": "",
         "line": {
          "color": "#636efa",
          "dash": "solid"
         },
         "mode": "lines",
         "name": "",
         "orientation": "v",
         "showlegend": false,
         "type": "scatter",
         "x": [
          0.01,
          0.010913767146512732,
          0.011911031332830068,
          0.012999422244132456,
          0.014187266741165962,
          0.015483652565854992,
          0.01689849786812457,
          0.018442627085855347,
          0.020127853758499396,
          0.021967070907932353,
          0.02397434967801077,
          0.02616504698748821,
          0.028555923019901074,
          0.031165269449294302,
          0.03401304938279253,
          0.03712105009066361,
          0.04051304969235382,
          0.04421499907374487,
          0.04825522042741279,
          0.05266462393484278,
          0.05747694424835353,
          0.06272899858196247,
          0.06846096838574658,
          0.07471670675868078,
          0.08154407395185162,
          0.08899530352885233,
          0.09712740198471168,
          0.10600258488068824,
          0.11568875283162827,
          0.12626001098748565,
          0.13779723598335575,
          0.150388694695541,
          0.1641307195375129,
          0.1791284454622004,
          0.19549661430912604,
          0.21336045265014109,
          0.23285662984981953,
          0.25413430367026363,
          0.2773562614198415,
          0.3027001653763463,
          0.33035991201283393,
          0.3605471154250504,
          0.39349272630958493,
          0.42944879887892745,
          0.46869041923141924,
          0.5115178099293143,
          0.5582586268862695,
          0.6092704661368677,
          0.6649435996665045,
          0.7257039612324216,
          0.7920164050192553,
          0.864388262059827,
          0.9433732216299778,
          1.0295755673125127,
          1.1236548001387516,
          1.2263306841775632,
          1.3383887531737577,
          1.460686320364989,
          1.5941590374559995,
          1.739828052930364,
          1.8988078244652633,
          2.0723146452190293,
          2.2616759492228646,
          2.4683404670686486,
          2.6938893095901726,
          2.940048064334711,
          3.2086999973704504,
          3.501900461431713,
          3.8218926206331187,
          4.171124612056521,
          4.55226827550731,
          4.968239594734388,
          5.422221006501586,
          5.917685748188824,
          6.458424430196978,
          7.048574036451903,
          7.692649574879146,
          8.395578619995112,
          9.16273901188674,
          10
         ],
         "xaxis": "x",
         "y": [
          0.48875488972723435,
          0.48770364232827335,
          0.48660570279170423,
          0.4856757639567119,
          0.4845287134305072,
          0.4838011160836421,
          0.48312083997036626,
          0.4828525260721131,
          0.48271036950723467,
          0.4824989302419823,
          0.48221587475053906,
          0.4819873288107389,
          0.48197640982289747,
          0.4820502434510665,
          0.48209880882267947,
          0.4821161739261865,
          0.48210812734546754,
          0.4820710881060049,
          0.48204290204606526,
          0.48202968058883544,
          0.4819743856370648,
          0.4818491653953152,
          0.4816430791400288,
          0.4813200693509577,
          0.4809116830829795,
          0.48040005276521497,
          0.4797615422005938,
          0.4790059250647534,
          0.47838469097774217,
          0.47740926538871964,
          0.4763194099004823,
          0.47514733193774816,
          0.47390033089939515,
          0.47257153468634916,
          0.47093175534778214,
          0.4689196424354172,
          0.4664585222273039,
          0.46351431051606246,
          0.4607120470171111,
          0.45781700390027796,
          0.45536085890459554,
          0.45245355940311016,
          0.44905122433464423,
          0.4448832181218867,
          0.4398395578479777,
          0.43379747800235224,
          0.426457290859606,
          0.41753254921387856,
          0.40699777672879944,
          0.3955651123256718,
          0.3824554235825558,
          0.3670628579219751,
          0.3501707686507184,
          0.33066309101483204,
          0.3076380161715384,
          0.2817257771027316,
          0.2508622767930412,
          0.21410171349813903,
          0.1703177493570507,
          0.11816784879048832,
          0.056053873031804625,
          -0.004636105595726558,
          -0.025841956969922596,
          -0.02750604135376733,
          -0.02750604135376733,
          -0.02750604135376733,
          -0.02750604135376733,
          -0.02750604135376733,
          -0.02750604135376733,
          -0.02750604135376733,
          -0.02750604135376733,
          -0.02750604135376733,
          -0.02750604135376733,
          -0.02750604135376733,
          -0.02750604135376733,
          -0.02750604135376733,
          -0.02750604135376733,
          -0.02750604135376733,
          -0.02750604135376733,
          -0.02750604135376733
         ],
         "yaxis": "y"
        }
       ],
       "layout": {
        "legend": {
         "tracegroupgap": 0
        },
        "margin": {
         "t": 60
        },
        "template": {
         "data": {
          "bar": [
           {
            "error_x": {
             "color": "#2a3f5f"
            },
            "error_y": {
             "color": "#2a3f5f"
            },
            "marker": {
             "line": {
              "color": "#E5ECF6",
              "width": 0.5
             }
            },
            "type": "bar"
           }
          ],
          "barpolar": [
           {
            "marker": {
             "line": {
              "color": "#E5ECF6",
              "width": 0.5
             }
            },
            "type": "barpolar"
           }
          ],
          "carpet": [
           {
            "aaxis": {
             "endlinecolor": "#2a3f5f",
             "gridcolor": "white",
             "linecolor": "white",
             "minorgridcolor": "white",
             "startlinecolor": "#2a3f5f"
            },
            "baxis": {
             "endlinecolor": "#2a3f5f",
             "gridcolor": "white",
             "linecolor": "white",
             "minorgridcolor": "white",
             "startlinecolor": "#2a3f5f"
            },
            "type": "carpet"
           }
          ],
          "choropleth": [
           {
            "colorbar": {
             "outlinewidth": 0,
             "ticks": ""
            },
            "type": "choropleth"
           }
          ],
          "contour": [
           {
            "colorbar": {
             "outlinewidth": 0,
             "ticks": ""
            },
            "colorscale": [
             [
              0,
              "#0d0887"
             ],
             [
              0.1111111111111111,
              "#46039f"
             ],
             [
              0.2222222222222222,
              "#7201a8"
             ],
             [
              0.3333333333333333,
              "#9c179e"
             ],
             [
              0.4444444444444444,
              "#bd3786"
             ],
             [
              0.5555555555555556,
              "#d8576b"
             ],
             [
              0.6666666666666666,
              "#ed7953"
             ],
             [
              0.7777777777777778,
              "#fb9f3a"
             ],
             [
              0.8888888888888888,
              "#fdca26"
             ],
             [
              1,
              "#f0f921"
             ]
            ],
            "type": "contour"
           }
          ],
          "contourcarpet": [
           {
            "colorbar": {
             "outlinewidth": 0,
             "ticks": ""
            },
            "type": "contourcarpet"
           }
          ],
          "heatmap": [
           {
            "colorbar": {
             "outlinewidth": 0,
             "ticks": ""
            },
            "colorscale": [
             [
              0,
              "#0d0887"
             ],
             [
              0.1111111111111111,
              "#46039f"
             ],
             [
              0.2222222222222222,
              "#7201a8"
             ],
             [
              0.3333333333333333,
              "#9c179e"
             ],
             [
              0.4444444444444444,
              "#bd3786"
             ],
             [
              0.5555555555555556,
              "#d8576b"
             ],
             [
              0.6666666666666666,
              "#ed7953"
             ],
             [
              0.7777777777777778,
              "#fb9f3a"
             ],
             [
              0.8888888888888888,
              "#fdca26"
             ],
             [
              1,
              "#f0f921"
             ]
            ],
            "type": "heatmap"
           }
          ],
          "heatmapgl": [
           {
            "colorbar": {
             "outlinewidth": 0,
             "ticks": ""
            },
            "colorscale": [
             [
              0,
              "#0d0887"
             ],
             [
              0.1111111111111111,
              "#46039f"
             ],
             [
              0.2222222222222222,
              "#7201a8"
             ],
             [
              0.3333333333333333,
              "#9c179e"
             ],
             [
              0.4444444444444444,
              "#bd3786"
             ],
             [
              0.5555555555555556,
              "#d8576b"
             ],
             [
              0.6666666666666666,
              "#ed7953"
             ],
             [
              0.7777777777777778,
              "#fb9f3a"
             ],
             [
              0.8888888888888888,
              "#fdca26"
             ],
             [
              1,
              "#f0f921"
             ]
            ],
            "type": "heatmapgl"
           }
          ],
          "histogram": [
           {
            "marker": {
             "colorbar": {
              "outlinewidth": 0,
              "ticks": ""
             }
            },
            "type": "histogram"
           }
          ],
          "histogram2d": [
           {
            "colorbar": {
             "outlinewidth": 0,
             "ticks": ""
            },
            "colorscale": [
             [
              0,
              "#0d0887"
             ],
             [
              0.1111111111111111,
              "#46039f"
             ],
             [
              0.2222222222222222,
              "#7201a8"
             ],
             [
              0.3333333333333333,
              "#9c179e"
             ],
             [
              0.4444444444444444,
              "#bd3786"
             ],
             [
              0.5555555555555556,
              "#d8576b"
             ],
             [
              0.6666666666666666,
              "#ed7953"
             ],
             [
              0.7777777777777778,
              "#fb9f3a"
             ],
             [
              0.8888888888888888,
              "#fdca26"
             ],
             [
              1,
              "#f0f921"
             ]
            ],
            "type": "histogram2d"
           }
          ],
          "histogram2dcontour": [
           {
            "colorbar": {
             "outlinewidth": 0,
             "ticks": ""
            },
            "colorscale": [
             [
              0,
              "#0d0887"
             ],
             [
              0.1111111111111111,
              "#46039f"
             ],
             [
              0.2222222222222222,
              "#7201a8"
             ],
             [
              0.3333333333333333,
              "#9c179e"
             ],
             [
              0.4444444444444444,
              "#bd3786"
             ],
             [
              0.5555555555555556,
              "#d8576b"
             ],
             [
              0.6666666666666666,
              "#ed7953"
             ],
             [
              0.7777777777777778,
              "#fb9f3a"
             ],
             [
              0.8888888888888888,
              "#fdca26"
             ],
             [
              1,
              "#f0f921"
             ]
            ],
            "type": "histogram2dcontour"
           }
          ],
          "mesh3d": [
           {
            "colorbar": {
             "outlinewidth": 0,
             "ticks": ""
            },
            "type": "mesh3d"
           }
          ],
          "parcoords": [
           {
            "line": {
             "colorbar": {
              "outlinewidth": 0,
              "ticks": ""
             }
            },
            "type": "parcoords"
           }
          ],
          "pie": [
           {
            "automargin": true,
            "type": "pie"
           }
          ],
          "scatter": [
           {
            "marker": {
             "colorbar": {
              "outlinewidth": 0,
              "ticks": ""
             }
            },
            "type": "scatter"
           }
          ],
          "scatter3d": [
           {
            "line": {
             "colorbar": {
              "outlinewidth": 0,
              "ticks": ""
             }
            },
            "marker": {
             "colorbar": {
              "outlinewidth": 0,
              "ticks": ""
             }
            },
            "type": "scatter3d"
           }
          ],
          "scattercarpet": [
           {
            "marker": {
             "colorbar": {
              "outlinewidth": 0,
              "ticks": ""
             }
            },
            "type": "scattercarpet"
           }
          ],
          "scattergeo": [
           {
            "marker": {
             "colorbar": {
              "outlinewidth": 0,
              "ticks": ""
             }
            },
            "type": "scattergeo"
           }
          ],
          "scattergl": [
           {
            "marker": {
             "colorbar": {
              "outlinewidth": 0,
              "ticks": ""
             }
            },
            "type": "scattergl"
           }
          ],
          "scattermapbox": [
           {
            "marker": {
             "colorbar": {
              "outlinewidth": 0,
              "ticks": ""
             }
            },
            "type": "scattermapbox"
           }
          ],
          "scatterpolar": [
           {
            "marker": {
             "colorbar": {
              "outlinewidth": 0,
              "ticks": ""
             }
            },
            "type": "scatterpolar"
           }
          ],
          "scatterpolargl": [
           {
            "marker": {
             "colorbar": {
              "outlinewidth": 0,
              "ticks": ""
             }
            },
            "type": "scatterpolargl"
           }
          ],
          "scatterternary": [
           {
            "marker": {
             "colorbar": {
              "outlinewidth": 0,
              "ticks": ""
             }
            },
            "type": "scatterternary"
           }
          ],
          "surface": [
           {
            "colorbar": {
             "outlinewidth": 0,
             "ticks": ""
            },
            "colorscale": [
             [
              0,
              "#0d0887"
             ],
             [
              0.1111111111111111,
              "#46039f"
             ],
             [
              0.2222222222222222,
              "#7201a8"
             ],
             [
              0.3333333333333333,
              "#9c179e"
             ],
             [
              0.4444444444444444,
              "#bd3786"
             ],
             [
              0.5555555555555556,
              "#d8576b"
             ],
             [
              0.6666666666666666,
              "#ed7953"
             ],
             [
              0.7777777777777778,
              "#fb9f3a"
             ],
             [
              0.8888888888888888,
              "#fdca26"
             ],
             [
              1,
              "#f0f921"
             ]
            ],
            "type": "surface"
           }
          ],
          "table": [
           {
            "cells": {
             "fill": {
              "color": "#EBF0F8"
             },
             "line": {
              "color": "white"
             }
            },
            "header": {
             "fill": {
              "color": "#C8D4E3"
             },
             "line": {
              "color": "white"
             }
            },
            "type": "table"
           }
          ]
         },
         "layout": {
          "annotationdefaults": {
           "arrowcolor": "#2a3f5f",
           "arrowhead": 0,
           "arrowwidth": 1
          },
          "coloraxis": {
           "colorbar": {
            "outlinewidth": 0,
            "ticks": ""
           }
          },
          "colorscale": {
           "diverging": [
            [
             0,
             "#8e0152"
            ],
            [
             0.1,
             "#c51b7d"
            ],
            [
             0.2,
             "#de77ae"
            ],
            [
             0.3,
             "#f1b6da"
            ],
            [
             0.4,
             "#fde0ef"
            ],
            [
             0.5,
             "#f7f7f7"
            ],
            [
             0.6,
             "#e6f5d0"
            ],
            [
             0.7,
             "#b8e186"
            ],
            [
             0.8,
             "#7fbc41"
            ],
            [
             0.9,
             "#4d9221"
            ],
            [
             1,
             "#276419"
            ]
           ],
           "sequential": [
            [
             0,
             "#0d0887"
            ],
            [
             0.1111111111111111,
             "#46039f"
            ],
            [
             0.2222222222222222,
             "#7201a8"
            ],
            [
             0.3333333333333333,
             "#9c179e"
            ],
            [
             0.4444444444444444,
             "#bd3786"
            ],
            [
             0.5555555555555556,
             "#d8576b"
            ],
            [
             0.6666666666666666,
             "#ed7953"
            ],
            [
             0.7777777777777778,
             "#fb9f3a"
            ],
            [
             0.8888888888888888,
             "#fdca26"
            ],
            [
             1,
             "#f0f921"
            ]
           ],
           "sequentialminus": [
            [
             0,
             "#0d0887"
            ],
            [
             0.1111111111111111,
             "#46039f"
            ],
            [
             0.2222222222222222,
             "#7201a8"
            ],
            [
             0.3333333333333333,
             "#9c179e"
            ],
            [
             0.4444444444444444,
             "#bd3786"
            ],
            [
             0.5555555555555556,
             "#d8576b"
            ],
            [
             0.6666666666666666,
             "#ed7953"
            ],
            [
             0.7777777777777778,
             "#fb9f3a"
            ],
            [
             0.8888888888888888,
             "#fdca26"
            ],
            [
             1,
             "#f0f921"
            ]
           ]
          },
          "colorway": [
           "#636efa",
           "#EF553B",
           "#00cc96",
           "#ab63fa",
           "#FFA15A",
           "#19d3f3",
           "#FF6692",
           "#B6E880",
           "#FF97FF",
           "#FECB52"
          ],
          "font": {
           "color": "#2a3f5f"
          },
          "geo": {
           "bgcolor": "white",
           "lakecolor": "white",
           "landcolor": "#E5ECF6",
           "showlakes": true,
           "showland": true,
           "subunitcolor": "white"
          },
          "hoverlabel": {
           "align": "left"
          },
          "hovermode": "closest",
          "mapbox": {
           "style": "light"
          },
          "paper_bgcolor": "white",
          "plot_bgcolor": "#E5ECF6",
          "polar": {
           "angularaxis": {
            "gridcolor": "white",
            "linecolor": "white",
            "ticks": ""
           },
           "bgcolor": "#E5ECF6",
           "radialaxis": {
            "gridcolor": "white",
            "linecolor": "white",
            "ticks": ""
           }
          },
          "scene": {
           "xaxis": {
            "backgroundcolor": "#E5ECF6",
            "gridcolor": "white",
            "gridwidth": 2,
            "linecolor": "white",
            "showbackground": true,
            "ticks": "",
            "zerolinecolor": "white"
           },
           "yaxis": {
            "backgroundcolor": "#E5ECF6",
            "gridcolor": "white",
            "gridwidth": 2,
            "linecolor": "white",
            "showbackground": true,
            "ticks": "",
            "zerolinecolor": "white"
           },
           "zaxis": {
            "backgroundcolor": "#E5ECF6",
            "gridcolor": "white",
            "gridwidth": 2,
            "linecolor": "white",
            "showbackground": true,
            "ticks": "",
            "zerolinecolor": "white"
           }
          },
          "shapedefaults": {
           "line": {
            "color": "#2a3f5f"
           }
          },
          "ternary": {
           "aaxis": {
            "gridcolor": "white",
            "linecolor": "white",
            "ticks": ""
           },
           "baxis": {
            "gridcolor": "white",
            "linecolor": "white",
            "ticks": ""
           },
           "bgcolor": "#E5ECF6",
           "caxis": {
            "gridcolor": "white",
            "linecolor": "white",
            "ticks": ""
           }
          },
          "title": {
           "x": 0.05
          },
          "xaxis": {
           "automargin": true,
           "gridcolor": "white",
           "linecolor": "white",
           "ticks": "",
           "title": {
            "standoff": 15
           },
           "zerolinecolor": "white",
           "zerolinewidth": 2
          },
          "yaxis": {
           "automargin": true,
           "gridcolor": "white",
           "linecolor": "white",
           "ticks": "",
           "title": {
            "standoff": 15
           },
           "zerolinecolor": "white",
           "zerolinewidth": 2
          }
         }
        },
        "xaxis": {
         "anchor": "y",
         "domain": [
          0,
          1
         ],
         "title": {
          "text": "alpha"
         },
         "type": "log"
        },
        "yaxis": {
         "anchor": "x",
         "domain": [
          0,
          1
         ],
         "title": {
          "text": "R^2 (mean)"
         }
        }
       }
      },
      "text/html": "<div>                            <div id=\"01ebaa1e-ee63-491f-8dd7-fb376ed1784e\" class=\"plotly-graph-div\" style=\"height:525px; width:100%;\"></div>            <script type=\"text/javascript\">                require([\"plotly\"], function(Plotly) {                    window.PLOTLYENV=window.PLOTLYENV || {};                                    if (document.getElementById(\"01ebaa1e-ee63-491f-8dd7-fb376ed1784e\")) {                    Plotly.newPlot(                        \"01ebaa1e-ee63-491f-8dd7-fb376ed1784e\",                        [{\"hovertemplate\": \"alpha=%{x}<br>R^2 (mean)=%{y}<extra></extra>\", \"legendgroup\": \"\", \"line\": {\"color\": \"#636efa\", \"dash\": \"solid\"}, \"mode\": \"lines\", \"name\": \"\", \"orientation\": \"v\", \"showlegend\": false, \"type\": \"scatter\", \"x\": [0.01, 0.010913767146512732, 0.011911031332830068, 0.012999422244132456, 0.014187266741165962, 0.015483652565854992, 0.01689849786812457, 0.018442627085855347, 0.020127853758499396, 0.021967070907932353, 0.02397434967801077, 0.02616504698748821, 0.028555923019901074, 0.031165269449294302, 0.03401304938279253, 0.03712105009066361, 0.04051304969235382, 0.04421499907374487, 0.04825522042741279, 0.05266462393484278, 0.05747694424835353, 0.06272899858196247, 0.06846096838574658, 0.07471670675868078, 0.08154407395185162, 0.08899530352885233, 0.09712740198471168, 0.10600258488068824, 0.11568875283162827, 0.12626001098748565, 0.13779723598335575, 0.150388694695541, 0.1641307195375129, 0.1791284454622004, 0.19549661430912604, 0.21336045265014109, 0.23285662984981953, 0.25413430367026363, 0.2773562614198415, 0.3027001653763463, 0.33035991201283393, 0.3605471154250504, 0.39349272630958493, 0.42944879887892745, 0.46869041923141924, 0.5115178099293143, 0.5582586268862695, 0.6092704661368677, 0.6649435996665045, 0.7257039612324216, 0.7920164050192553, 0.864388262059827, 0.9433732216299778, 1.0295755673125127, 1.1236548001387516, 1.2263306841775632, 1.3383887531737577, 1.460686320364989, 1.5941590374559995, 1.739828052930364, 1.8988078244652633, 2.0723146452190293, 2.2616759492228646, 2.4683404670686486, 2.6938893095901726, 2.940048064334711, 3.2086999973704504, 3.501900461431713, 3.8218926206331187, 4.171124612056521, 4.55226827550731, 4.968239594734388, 5.422221006501586, 5.917685748188824, 6.458424430196978, 7.048574036451903, 7.692649574879146, 8.395578619995112, 9.16273901188674, 10.0], \"xaxis\": \"x\", \"y\": [0.48875488972723435, 0.48770364232827335, 0.48660570279170423, 0.4856757639567119, 0.4845287134305072, 0.4838011160836421, 0.48312083997036626, 0.4828525260721131, 0.48271036950723467, 0.4824989302419823, 0.48221587475053906, 0.4819873288107389, 0.48197640982289747, 0.4820502434510665, 0.48209880882267947, 0.4821161739261865, 0.48210812734546754, 0.4820710881060049, 0.48204290204606526, 0.48202968058883544, 0.4819743856370648, 0.4818491653953152, 0.4816430791400288, 0.4813200693509577, 0.4809116830829795, 0.48040005276521497, 0.4797615422005938, 0.4790059250647534, 0.47838469097774217, 0.47740926538871964, 0.4763194099004823, 0.47514733193774816, 0.47390033089939515, 0.47257153468634916, 0.47093175534778214, 0.4689196424354172, 0.4664585222273039, 0.46351431051606246, 0.4607120470171111, 0.45781700390027796, 0.45536085890459554, 0.45245355940311016, 0.44905122433464423, 0.4448832181218867, 0.4398395578479777, 0.43379747800235224, 0.426457290859606, 0.41753254921387856, 0.40699777672879944, 0.3955651123256718, 0.3824554235825558, 0.3670628579219751, 0.3501707686507184, 0.33066309101483204, 0.3076380161715384, 0.2817257771027316, 0.2508622767930412, 0.21410171349813903, 0.1703177493570507, 0.11816784879048832, 0.056053873031804625, -0.004636105595726558, -0.025841956969922596, -0.02750604135376733, -0.02750604135376733, -0.02750604135376733, -0.02750604135376733, -0.02750604135376733, -0.02750604135376733, -0.02750604135376733, -0.02750604135376733, -0.02750604135376733, -0.02750604135376733, -0.02750604135376733, -0.02750604135376733, -0.02750604135376733, -0.02750604135376733, -0.02750604135376733, -0.02750604135376733, -0.02750604135376733], \"yaxis\": \"y\"}],                        {\"legend\": {\"tracegroupgap\": 0}, \"margin\": {\"t\": 60}, \"template\": {\"data\": {\"bar\": [{\"error_x\": {\"color\": \"#2a3f5f\"}, \"error_y\": {\"color\": \"#2a3f5f\"}, \"marker\": {\"line\": {\"color\": \"#E5ECF6\", \"width\": 0.5}}, \"type\": \"bar\"}], \"barpolar\": [{\"marker\": {\"line\": {\"color\": \"#E5ECF6\", \"width\": 0.5}}, \"type\": \"barpolar\"}], \"carpet\": [{\"aaxis\": {\"endlinecolor\": \"#2a3f5f\", \"gridcolor\": \"white\", \"linecolor\": \"white\", \"minorgridcolor\": \"white\", \"startlinecolor\": \"#2a3f5f\"}, \"baxis\": {\"endlinecolor\": \"#2a3f5f\", \"gridcolor\": \"white\", \"linecolor\": \"white\", \"minorgridcolor\": \"white\", \"startlinecolor\": \"#2a3f5f\"}, \"type\": \"carpet\"}], \"choropleth\": [{\"colorbar\": {\"outlinewidth\": 0, \"ticks\": \"\"}, \"type\": \"choropleth\"}], \"contour\": [{\"colorbar\": {\"outlinewidth\": 0, \"ticks\": \"\"}, \"colorscale\": [[0.0, \"#0d0887\"], [0.1111111111111111, \"#46039f\"], [0.2222222222222222, \"#7201a8\"], [0.3333333333333333, \"#9c179e\"], [0.4444444444444444, \"#bd3786\"], [0.5555555555555556, \"#d8576b\"], [0.6666666666666666, \"#ed7953\"], [0.7777777777777778, \"#fb9f3a\"], [0.8888888888888888, \"#fdca26\"], [1.0, \"#f0f921\"]], \"type\": \"contour\"}], \"contourcarpet\": [{\"colorbar\": {\"outlinewidth\": 0, \"ticks\": \"\"}, \"type\": \"contourcarpet\"}], \"heatmap\": [{\"colorbar\": {\"outlinewidth\": 0, \"ticks\": \"\"}, \"colorscale\": [[0.0, \"#0d0887\"], [0.1111111111111111, \"#46039f\"], [0.2222222222222222, \"#7201a8\"], [0.3333333333333333, \"#9c179e\"], [0.4444444444444444, \"#bd3786\"], [0.5555555555555556, \"#d8576b\"], [0.6666666666666666, \"#ed7953\"], [0.7777777777777778, \"#fb9f3a\"], [0.8888888888888888, \"#fdca26\"], [1.0, \"#f0f921\"]], \"type\": \"heatmap\"}], \"heatmapgl\": [{\"colorbar\": {\"outlinewidth\": 0, \"ticks\": \"\"}, \"colorscale\": [[0.0, \"#0d0887\"], [0.1111111111111111, \"#46039f\"], [0.2222222222222222, \"#7201a8\"], [0.3333333333333333, \"#9c179e\"], [0.4444444444444444, \"#bd3786\"], [0.5555555555555556, \"#d8576b\"], [0.6666666666666666, \"#ed7953\"], [0.7777777777777778, \"#fb9f3a\"], [0.8888888888888888, \"#fdca26\"], [1.0, \"#f0f921\"]], \"type\": \"heatmapgl\"}], \"histogram\": [{\"marker\": {\"colorbar\": {\"outlinewidth\": 0, \"ticks\": \"\"}}, \"type\": \"histogram\"}], \"histogram2d\": [{\"colorbar\": {\"outlinewidth\": 0, \"ticks\": \"\"}, \"colorscale\": [[0.0, \"#0d0887\"], [0.1111111111111111, \"#46039f\"], [0.2222222222222222, \"#7201a8\"], [0.3333333333333333, \"#9c179e\"], [0.4444444444444444, \"#bd3786\"], [0.5555555555555556, \"#d8576b\"], [0.6666666666666666, \"#ed7953\"], [0.7777777777777778, \"#fb9f3a\"], [0.8888888888888888, \"#fdca26\"], [1.0, \"#f0f921\"]], \"type\": \"histogram2d\"}], \"histogram2dcontour\": [{\"colorbar\": {\"outlinewidth\": 0, \"ticks\": \"\"}, \"colorscale\": [[0.0, \"#0d0887\"], [0.1111111111111111, \"#46039f\"], [0.2222222222222222, \"#7201a8\"], [0.3333333333333333, \"#9c179e\"], [0.4444444444444444, \"#bd3786\"], [0.5555555555555556, \"#d8576b\"], [0.6666666666666666, \"#ed7953\"], [0.7777777777777778, \"#fb9f3a\"], [0.8888888888888888, \"#fdca26\"], [1.0, \"#f0f921\"]], \"type\": \"histogram2dcontour\"}], \"mesh3d\": [{\"colorbar\": {\"outlinewidth\": 0, \"ticks\": \"\"}, \"type\": \"mesh3d\"}], \"parcoords\": [{\"line\": {\"colorbar\": {\"outlinewidth\": 0, \"ticks\": \"\"}}, \"type\": \"parcoords\"}], \"pie\": [{\"automargin\": true, \"type\": \"pie\"}], \"scatter\": [{\"marker\": {\"colorbar\": {\"outlinewidth\": 0, \"ticks\": \"\"}}, \"type\": \"scatter\"}], \"scatter3d\": [{\"line\": {\"colorbar\": {\"outlinewidth\": 0, \"ticks\": \"\"}}, \"marker\": {\"colorbar\": {\"outlinewidth\": 0, \"ticks\": \"\"}}, \"type\": \"scatter3d\"}], \"scattercarpet\": [{\"marker\": {\"colorbar\": {\"outlinewidth\": 0, \"ticks\": \"\"}}, \"type\": \"scattercarpet\"}], \"scattergeo\": [{\"marker\": {\"colorbar\": {\"outlinewidth\": 0, \"ticks\": \"\"}}, \"type\": \"scattergeo\"}], \"scattergl\": [{\"marker\": {\"colorbar\": {\"outlinewidth\": 0, \"ticks\": \"\"}}, \"type\": \"scattergl\"}], \"scattermapbox\": [{\"marker\": {\"colorbar\": {\"outlinewidth\": 0, \"ticks\": \"\"}}, \"type\": \"scattermapbox\"}], \"scatterpolar\": [{\"marker\": {\"colorbar\": {\"outlinewidth\": 0, \"ticks\": \"\"}}, \"type\": \"scatterpolar\"}], \"scatterpolargl\": [{\"marker\": {\"colorbar\": {\"outlinewidth\": 0, \"ticks\": \"\"}}, \"type\": \"scatterpolargl\"}], \"scatterternary\": [{\"marker\": {\"colorbar\": {\"outlinewidth\": 0, \"ticks\": \"\"}}, \"type\": \"scatterternary\"}], \"surface\": [{\"colorbar\": {\"outlinewidth\": 0, \"ticks\": \"\"}, \"colorscale\": [[0.0, \"#0d0887\"], [0.1111111111111111, \"#46039f\"], [0.2222222222222222, \"#7201a8\"], [0.3333333333333333, \"#9c179e\"], [0.4444444444444444, \"#bd3786\"], [0.5555555555555556, \"#d8576b\"], [0.6666666666666666, \"#ed7953\"], [0.7777777777777778, \"#fb9f3a\"], [0.8888888888888888, \"#fdca26\"], [1.0, \"#f0f921\"]], \"type\": \"surface\"}], \"table\": [{\"cells\": {\"fill\": {\"color\": \"#EBF0F8\"}, \"line\": {\"color\": \"white\"}}, \"header\": {\"fill\": {\"color\": \"#C8D4E3\"}, \"line\": {\"color\": \"white\"}}, \"type\": \"table\"}]}, \"layout\": {\"annotationdefaults\": {\"arrowcolor\": \"#2a3f5f\", \"arrowhead\": 0, \"arrowwidth\": 1}, \"coloraxis\": {\"colorbar\": {\"outlinewidth\": 0, \"ticks\": \"\"}}, \"colorscale\": {\"diverging\": [[0, \"#8e0152\"], [0.1, \"#c51b7d\"], [0.2, \"#de77ae\"], [0.3, \"#f1b6da\"], [0.4, \"#fde0ef\"], [0.5, \"#f7f7f7\"], [0.6, \"#e6f5d0\"], [0.7, \"#b8e186\"], [0.8, \"#7fbc41\"], [0.9, \"#4d9221\"], [1, \"#276419\"]], \"sequential\": [[0.0, \"#0d0887\"], [0.1111111111111111, \"#46039f\"], [0.2222222222222222, \"#7201a8\"], [0.3333333333333333, \"#9c179e\"], [0.4444444444444444, \"#bd3786\"], [0.5555555555555556, \"#d8576b\"], [0.6666666666666666, \"#ed7953\"], [0.7777777777777778, \"#fb9f3a\"], [0.8888888888888888, \"#fdca26\"], [1.0, \"#f0f921\"]], \"sequentialminus\": [[0.0, \"#0d0887\"], [0.1111111111111111, \"#46039f\"], [0.2222222222222222, \"#7201a8\"], [0.3333333333333333, \"#9c179e\"], [0.4444444444444444, \"#bd3786\"], [0.5555555555555556, \"#d8576b\"], [0.6666666666666666, \"#ed7953\"], [0.7777777777777778, \"#fb9f3a\"], [0.8888888888888888, \"#fdca26\"], [1.0, \"#f0f921\"]]}, \"colorway\": [\"#636efa\", \"#EF553B\", \"#00cc96\", \"#ab63fa\", \"#FFA15A\", \"#19d3f3\", \"#FF6692\", \"#B6E880\", \"#FF97FF\", \"#FECB52\"], \"font\": {\"color\": \"#2a3f5f\"}, \"geo\": {\"bgcolor\": \"white\", \"lakecolor\": \"white\", \"landcolor\": \"#E5ECF6\", \"showlakes\": true, \"showland\": true, \"subunitcolor\": \"white\"}, \"hoverlabel\": {\"align\": \"left\"}, \"hovermode\": \"closest\", \"mapbox\": {\"style\": \"light\"}, \"paper_bgcolor\": \"white\", \"plot_bgcolor\": \"#E5ECF6\", \"polar\": {\"angularaxis\": {\"gridcolor\": \"white\", \"linecolor\": \"white\", \"ticks\": \"\"}, \"bgcolor\": \"#E5ECF6\", \"radialaxis\": {\"gridcolor\": \"white\", \"linecolor\": \"white\", \"ticks\": \"\"}}, \"scene\": {\"xaxis\": {\"backgroundcolor\": \"#E5ECF6\", \"gridcolor\": \"white\", \"gridwidth\": 2, \"linecolor\": \"white\", \"showbackground\": true, \"ticks\": \"\", \"zerolinecolor\": \"white\"}, \"yaxis\": {\"backgroundcolor\": \"#E5ECF6\", \"gridcolor\": \"white\", \"gridwidth\": 2, \"linecolor\": \"white\", \"showbackground\": true, \"ticks\": \"\", \"zerolinecolor\": \"white\"}, \"zaxis\": {\"backgroundcolor\": \"#E5ECF6\", \"gridcolor\": \"white\", \"gridwidth\": 2, \"linecolor\": \"white\", \"showbackground\": true, \"ticks\": \"\", \"zerolinecolor\": \"white\"}}, \"shapedefaults\": {\"line\": {\"color\": \"#2a3f5f\"}}, \"ternary\": {\"aaxis\": {\"gridcolor\": \"white\", \"linecolor\": \"white\", \"ticks\": \"\"}, \"baxis\": {\"gridcolor\": \"white\", \"linecolor\": \"white\", \"ticks\": \"\"}, \"bgcolor\": \"#E5ECF6\", \"caxis\": {\"gridcolor\": \"white\", \"linecolor\": \"white\", \"ticks\": \"\"}}, \"title\": {\"x\": 0.05}, \"xaxis\": {\"automargin\": true, \"gridcolor\": \"white\", \"linecolor\": \"white\", \"ticks\": \"\", \"title\": {\"standoff\": 15}, \"zerolinecolor\": \"white\", \"zerolinewidth\": 2}, \"yaxis\": {\"automargin\": true, \"gridcolor\": \"white\", \"linecolor\": \"white\", \"ticks\": \"\", \"title\": {\"standoff\": 15}, \"zerolinecolor\": \"white\", \"zerolinewidth\": 2}}}, \"xaxis\": {\"anchor\": \"y\", \"domain\": [0.0, 1.0], \"title\": {\"text\": \"alpha\"}, \"type\": \"log\"}, \"yaxis\": {\"anchor\": \"x\", \"domain\": [0.0, 1.0], \"title\": {\"text\": \"R^2 (mean)\"}}},                        {\"responsive\": true}                    ).then(function(){\n                            \nvar gd = document.getElementById('01ebaa1e-ee63-491f-8dd7-fb376ed1784e');\nvar x = new MutationObserver(function (mutations, observer) {{\n        var display = window.getComputedStyle(gd).display;\n        if (!display || display === 'none') {{\n            console.log([gd, 'removed!']);\n            Plotly.purge(gd);\n            observer.disconnect();\n        }}\n}});\n\n// Listen for the removal of the full notebook cells\nvar notebookContainer = gd.closest('#notebook-container');\nif (notebookContainer) {{\n    x.observe(notebookContainer, {childList: true});\n}}\n\n// Listen for the clearing of the current output cell\nvar outputEl = gd.closest('.output');\nif (outputEl) {{\n    x.observe(outputEl, {childList: true});\n}}\n\n                        })                };                });            </script>        </div>"
     },
     "metadata": {}
    }
   ],
   "source": [
    "# we pick alpha before the drop of the R^2 value\n",
    "r2_means = []\n",
    "\n",
    "for i in alphas:\n",
    "    r2_means.append(cross_val_score(Lasso(alpha=i), original_X_3, original_y).mean())\n",
    "\n",
    "result = pd.DataFrame(zip(alphas, r2_means), columns=['alpha', 'R^2 (mean)'])\n",
    "fig = px.line(result, x='alpha', y='R^2 (mean)')\n",
    "fig.update_xaxes(type='log')\n",
    "fig.show()"
   ]
  },
  {
   "source": [
    "## Coefficients"
   ],
   "cell_type": "markdown",
   "metadata": {}
  },
  {
   "cell_type": "code",
   "execution_count": 15,
   "metadata": {},
   "outputs": [
    {
     "output_type": "display_data",
     "data": {
      "application/vnd.plotly.v1+json": {
       "config": {
        "plotlyServerURL": "https://plot.ly"
       },
       "data": [
        {
         "hovertemplate": "variable=age<br>alphas=%{x}<br>value=%{y}<extra></extra>",
         "legendgroup": "age",
         "line": {
          "color": "#636efa",
          "dash": "solid"
         },
         "mode": "lines",
         "name": "age",
         "showlegend": true,
         "type": "scattergl",
         "x": [
          0.01,
          0.010913767146512732,
          0.011911031332830068,
          0.012999422244132456,
          0.014187266741165962,
          0.015483652565854992,
          0.01689849786812457,
          0.018442627085855347,
          0.020127853758499396,
          0.021967070907932353,
          0.02397434967801077,
          0.02616504698748821,
          0.028555923019901074,
          0.031165269449294302,
          0.03401304938279253,
          0.03712105009066361,
          0.04051304969235382,
          0.04421499907374487,
          0.04825522042741279,
          0.05266462393484278,
          0.05747694424835353,
          0.06272899858196247,
          0.06846096838574658,
          0.07471670675868078,
          0.08154407395185162,
          0.08899530352885233,
          0.09712740198471168,
          0.10600258488068824,
          0.11568875283162827,
          0.12626001098748565,
          0.13779723598335575,
          0.150388694695541,
          0.1641307195375129,
          0.1791284454622004,
          0.19549661430912604,
          0.21336045265014109,
          0.23285662984981953,
          0.25413430367026363,
          0.2773562614198415,
          0.3027001653763463,
          0.33035991201283393,
          0.3605471154250504,
          0.39349272630958493,
          0.42944879887892745,
          0.46869041923141924,
          0.5115178099293143,
          0.5582586268862695,
          0.6092704661368677,
          0.6649435996665045,
          0.7257039612324216,
          0.7920164050192553,
          0.864388262059827,
          0.9433732216299778,
          1.0295755673125127,
          1.1236548001387516,
          1.2263306841775632,
          1.3383887531737577,
          1.460686320364989,
          1.5941590374559995,
          1.739828052930364,
          1.8988078244652633,
          2.0723146452190293,
          2.2616759492228646,
          2.4683404670686486,
          2.6938893095901726,
          2.940048064334711,
          3.2086999973704504,
          3.501900461431713,
          3.8218926206331187,
          4.171124612056521,
          4.55226827550731,
          4.968239594734388,
          5.422221006501586,
          5.917685748188824,
          6.458424430196978,
          7.048574036451903,
          7.692649574879146,
          8.395578619995112,
          9.16273901188674,
          10
         ],
         "xaxis": "x",
         "y": [
          5.059044872892405,
          2.019469541308023,
          0,
          0,
          0,
          0,
          0,
          0,
          0,
          0,
          0,
          0,
          0,
          0,
          0,
          0,
          0,
          0,
          0,
          0,
          0,
          0,
          0,
          0,
          0,
          0,
          0,
          0,
          0,
          0,
          0,
          0,
          0,
          0,
          0,
          0,
          0,
          0,
          0,
          0,
          0,
          0,
          0,
          0,
          0,
          0,
          0,
          0,
          0,
          0,
          0,
          0,
          0,
          0,
          0,
          0,
          0,
          0,
          0,
          0,
          0,
          0,
          0,
          0,
          0,
          0,
          0,
          0,
          0,
          0,
          0,
          0,
          0,
          0,
          0,
          0,
          0,
          0,
          0,
          0
         ],
         "yaxis": "y"
        },
        {
         "hovertemplate": "variable=sex<br>alphas=%{x}<br>value=%{y}<extra></extra>",
         "legendgroup": "sex",
         "line": {
          "color": "#EF553B",
          "dash": "solid"
         },
         "mode": "lines",
         "name": "sex",
         "showlegend": true,
         "type": "scattergl",
         "x": [
          0.01,
          0.010913767146512732,
          0.011911031332830068,
          0.012999422244132456,
          0.014187266741165962,
          0.015483652565854992,
          0.01689849786812457,
          0.018442627085855347,
          0.020127853758499396,
          0.021967070907932353,
          0.02397434967801077,
          0.02616504698748821,
          0.028555923019901074,
          0.031165269449294302,
          0.03401304938279253,
          0.03712105009066361,
          0.04051304969235382,
          0.04421499907374487,
          0.04825522042741279,
          0.05266462393484278,
          0.05747694424835353,
          0.06272899858196247,
          0.06846096838574658,
          0.07471670675868078,
          0.08154407395185162,
          0.08899530352885233,
          0.09712740198471168,
          0.10600258488068824,
          0.11568875283162827,
          0.12626001098748565,
          0.13779723598335575,
          0.150388694695541,
          0.1641307195375129,
          0.1791284454622004,
          0.19549661430912604,
          0.21336045265014109,
          0.23285662984981953,
          0.25413430367026363,
          0.2773562614198415,
          0.3027001653763463,
          0.33035991201283393,
          0.3605471154250504,
          0.39349272630958493,
          0.42944879887892745,
          0.46869041923141924,
          0.5115178099293143,
          0.5582586268862695,
          0.6092704661368677,
          0.6649435996665045,
          0.7257039612324216,
          0.7920164050192553,
          0.864388262059827,
          0.9433732216299778,
          1.0295755673125127,
          1.1236548001387516,
          1.2263306841775632,
          1.3383887531737577,
          1.460686320364989,
          1.5941590374559995,
          1.739828052930364,
          1.8988078244652633,
          2.0723146452190293,
          2.2616759492228646,
          2.4683404670686486,
          2.6938893095901726,
          2.940048064334711,
          3.2086999973704504,
          3.501900461431713,
          3.8218926206331187,
          4.171124612056521,
          4.55226827550731,
          4.968239594734388,
          5.422221006501586,
          5.917685748188824,
          6.458424430196978,
          7.048574036451903,
          7.692649574879146,
          8.395578619995112,
          9.16273901188674,
          10
         ],
         "xaxis": "x",
         "y": [
          -223.46049859605165,
          -222.72490649681467,
          -222.041585099712,
          -221.49873864649132,
          -221.0586252898385,
          -220.63268431208638,
          -219.94291501921197,
          -219.19431582210808,
          -218.37726025694633,
          -217.48565966675596,
          -216.1320179594773,
          -214.23816840968934,
          -212.1709829714769,
          -209.91438301614704,
          -207.45059345026698,
          -204.76237378744187,
          -201.82998589020792,
          -198.627531684174,
          -195.39819138114188,
          -191.98507425933926,
          -188.26134574344945,
          -184.19769122810166,
          -179.76249005459042,
          -174.92176560918656,
          -169.63846332951584,
          -163.8737063281848,
          -157.58449528417603,
          -150.70559007542283,
          -143.2093596005265,
          -135.04376614143246,
          -126.10965763465178,
          -116.36668828837904,
          -105.2574790625583,
          -92.86124575275362,
          -79.33588970194357,
          -64.87041339081833,
          -49.2565091272868,
          -32.21585758927429,
          -13.618087298200843,
          0,
          0,
          0,
          0,
          0,
          0,
          0,
          0,
          0,
          0,
          0,
          0,
          0,
          0,
          0,
          0,
          0,
          0,
          0,
          0,
          0,
          0,
          0,
          0,
          0,
          0,
          0,
          0,
          0,
          0,
          0,
          0,
          0,
          0,
          0,
          0,
          0,
          0,
          0,
          0,
          0
         ],
         "yaxis": "y"
        },
        {
         "hovertemplate": "variable=bmi<br>alphas=%{x}<br>value=%{y}<extra></extra>",
         "legendgroup": "bmi",
         "line": {
          "color": "#00cc96",
          "dash": "solid"
         },
         "mode": "lines",
         "name": "bmi",
         "showlegend": true,
         "type": "scattergl",
         "x": [
          0.01,
          0.010913767146512732,
          0.011911031332830068,
          0.012999422244132456,
          0.014187266741165962,
          0.015483652565854992,
          0.01689849786812457,
          0.018442627085855347,
          0.020127853758499396,
          0.021967070907932353,
          0.02397434967801077,
          0.02616504698748821,
          0.028555923019901074,
          0.031165269449294302,
          0.03401304938279253,
          0.03712105009066361,
          0.04051304969235382,
          0.04421499907374487,
          0.04825522042741279,
          0.05266462393484278,
          0.05747694424835353,
          0.06272899858196247,
          0.06846096838574658,
          0.07471670675868078,
          0.08154407395185162,
          0.08899530352885233,
          0.09712740198471168,
          0.10600258488068824,
          0.11568875283162827,
          0.12626001098748565,
          0.13779723598335575,
          0.150388694695541,
          0.1641307195375129,
          0.1791284454622004,
          0.19549661430912604,
          0.21336045265014109,
          0.23285662984981953,
          0.25413430367026363,
          0.2773562614198415,
          0.3027001653763463,
          0.33035991201283393,
          0.3605471154250504,
          0.39349272630958493,
          0.42944879887892745,
          0.46869041923141924,
          0.5115178099293143,
          0.5582586268862695,
          0.6092704661368677,
          0.6649435996665045,
          0.7257039612324216,
          0.7920164050192553,
          0.864388262059827,
          0.9433732216299778,
          1.0295755673125127,
          1.1236548001387516,
          1.2263306841775632,
          1.3383887531737577,
          1.460686320364989,
          1.5941590374559995,
          1.739828052930364,
          1.8988078244652633,
          2.0723146452190293,
          2.2616759492228646,
          2.4683404670686486,
          2.6938893095901726,
          2.940048064334711,
          3.2086999973704504,
          3.501900461431713,
          3.8218926206331187,
          4.171124612056521,
          4.55226827550731,
          4.968239594734388,
          5.422221006501586,
          5.917685748188824,
          6.458424430196978,
          7.048574036451903,
          7.692649574879146,
          8.395578619995112,
          9.16273901188674,
          10
         ],
         "xaxis": "x",
         "y": [
          511.80220166593074,
          515.4473046001913,
          519.3235313791912,
          523.3808132884711,
          527.3231232678771,
          528.2595407397082,
          527.7194520576089,
          527.120800496991,
          526.4675598306885,
          525.7543762765719,
          525.2244860899814,
          524.914653469627,
          524.5771062523571,
          524.209819213622,
          523.8110628440518,
          523.3743823796035,
          522.8946843963867,
          522.3756258494046,
          521.9795227093682,
          521.5735783701093,
          521.1280975124076,
          520.6411946176889,
          520.110138154191,
          519.5309727670973,
          518.8993259411443,
          518.2079244517403,
          517.4498132559303,
          516.6472050028058,
          515.75259987471,
          514.7521467089289,
          513.6955335527922,
          512.5331674589399,
          511.9709677919824,
          511.7350914023338,
          511.4722632287535,
          510.6135266554792,
          509.4300024864154,
          508.1383317670721,
          506.7286324209841,
          504.28853825375006,
          499.63408822604885,
          494.54239214744814,
          488.9896751553008,
          482.9295691270232,
          476.3157105194431,
          469.0974992411342,
          461.21971153055455,
          452.62207746026206,
          443.2388198348527,
          432.2698455301515,
          416.6609896545387,
          399.6225074421385,
          381.0307826680168,
          360.3889849496285,
          331.64322351469104,
          300.26326349868475,
          266.01398705894655,
          228.63425341506706,
          187.83888251626973,
          143.31576465176104,
          94.72427055076092,
          33.472187197310575,
          0,
          0,
          0,
          0,
          0,
          0,
          0,
          0,
          0,
          0,
          0,
          0,
          0,
          0,
          0,
          0,
          0,
          0
         ],
         "yaxis": "y"
        },
        {
         "hovertemplate": "variable=bp<br>alphas=%{x}<br>value=%{y}<extra></extra>",
         "legendgroup": "bp",
         "line": {
          "color": "#ab63fa",
          "dash": "solid"
         },
         "mode": "lines",
         "name": "bp",
         "showlegend": true,
         "type": "scattergl",
         "x": [
          0.01,
          0.010913767146512732,
          0.011911031332830068,
          0.012999422244132456,
          0.014187266741165962,
          0.015483652565854992,
          0.01689849786812457,
          0.018442627085855347,
          0.020127853758499396,
          0.021967070907932353,
          0.02397434967801077,
          0.02616504698748821,
          0.028555923019901074,
          0.031165269449294302,
          0.03401304938279253,
          0.03712105009066361,
          0.04051304969235382,
          0.04421499907374487,
          0.04825522042741279,
          0.05266462393484278,
          0.05747694424835353,
          0.06272899858196247,
          0.06846096838574658,
          0.07471670675868078,
          0.08154407395185162,
          0.08899530352885233,
          0.09712740198471168,
          0.10600258488068824,
          0.11568875283162827,
          0.12626001098748565,
          0.13779723598335575,
          0.150388694695541,
          0.1641307195375129,
          0.1791284454622004,
          0.19549661430912604,
          0.21336045265014109,
          0.23285662984981953,
          0.25413430367026363,
          0.2773562614198415,
          0.3027001653763463,
          0.33035991201283393,
          0.3605471154250504,
          0.39349272630958493,
          0.42944879887892745,
          0.46869041923141924,
          0.5115178099293143,
          0.5582586268862695,
          0.6092704661368677,
          0.6649435996665045,
          0.7257039612324216,
          0.7920164050192553,
          0.864388262059827,
          0.9433732216299778,
          1.0295755673125127,
          1.1236548001387516,
          1.2263306841775632,
          1.3383887531737577,
          1.460686320364989,
          1.5941590374559995,
          1.739828052930364,
          1.8988078244652633,
          2.0723146452190293,
          2.2616759492228646,
          2.4683404670686486,
          2.6938893095901726,
          2.940048064334711,
          3.2086999973704504,
          3.501900461431713,
          3.8218926206331187,
          4.171124612056521,
          4.55226827550731,
          4.968239594734388,
          5.422221006501586,
          5.917685748188824,
          6.458424430196978,
          7.048574036451903,
          7.692649574879146,
          8.395578619995112,
          9.16273901188674,
          10
         ],
         "xaxis": "x",
         "y": [
          323.5567427609782,
          322.29609998098323,
          320.67965319375446,
          318.5069306293587,
          316.2394880216515,
          314.4467603179311,
          313.3866670538762,
          312.22700534799503,
          310.9614109022158,
          309.5800967408008,
          308.2988384152792,
          307.1481630859483,
          305.89252470366995,
          304.5224866518421,
          303.02789652329113,
          301.39628254094094,
          299.6146278375288,
          297.6715336800466,
          295.92628402479085,
          294.1508484536364,
          292.2124609844809,
          290.0966555936256,
          287.7875494971906,
          285.26753883745624,
          282.5173918214102,
          279.51576407738526,
          276.23962164730483,
          272.6691921483248,
          268.7685246189146,
          264.50870563923894,
          259.86467259510385,
          254.79801228112743,
          249.21187890226116,
          243.06537251452255,
          236.35816619391304,
          228.39613030066943,
          219.45903598626856,
          209.70529935488918,
          199.0602983145605,
          189.05902274290776,
          181.67931416171498,
          173.64180687918775,
          164.86876974401386,
          155.29408129791395,
          144.84448927779982,
          133.4400478694415,
          120.99350607275467,
          107.40964017791671,
          92.58452524534512,
          76.51824077506419,
          59.53388937408106,
          41.01184573376252,
          20.795578414616802,
          0,
          0,
          0,
          0,
          0,
          0,
          0,
          0,
          0,
          0,
          0,
          0,
          0,
          0,
          0,
          0,
          0,
          0,
          0,
          0,
          0,
          0,
          0,
          0,
          0,
          0,
          0
         ],
         "yaxis": "y"
        },
        {
         "hovertemplate": "variable=s1<br>alphas=%{x}<br>value=%{y}<extra></extra>",
         "legendgroup": "s1",
         "line": {
          "color": "#FFA15A",
          "dash": "solid"
         },
         "mode": "lines",
         "name": "s1",
         "showlegend": true,
         "type": "scattergl",
         "x": [
          0.01,
          0.010913767146512732,
          0.011911031332830068,
          0.012999422244132456,
          0.014187266741165962,
          0.015483652565854992,
          0.01689849786812457,
          0.018442627085855347,
          0.020127853758499396,
          0.021967070907932353,
          0.02397434967801077,
          0.02616504698748821,
          0.028555923019901074,
          0.031165269449294302,
          0.03401304938279253,
          0.03712105009066361,
          0.04051304969235382,
          0.04421499907374487,
          0.04825522042741279,
          0.05266462393484278,
          0.05747694424835353,
          0.06272899858196247,
          0.06846096838574658,
          0.07471670675868078,
          0.08154407395185162,
          0.08899530352885233,
          0.09712740198471168,
          0.10600258488068824,
          0.11568875283162827,
          0.12626001098748565,
          0.13779723598335575,
          0.150388694695541,
          0.1641307195375129,
          0.1791284454622004,
          0.19549661430912604,
          0.21336045265014109,
          0.23285662984981953,
          0.25413430367026363,
          0.2773562614198415,
          0.3027001653763463,
          0.33035991201283393,
          0.3605471154250504,
          0.39349272630958493,
          0.42944879887892745,
          0.46869041923141924,
          0.5115178099293143,
          0.5582586268862695,
          0.6092704661368677,
          0.6649435996665045,
          0.7257039612324216,
          0.7920164050192553,
          0.864388262059827,
          0.9433732216299778,
          1.0295755673125127,
          1.1236548001387516,
          1.2263306841775632,
          1.3383887531737577,
          1.460686320364989,
          1.5941590374559995,
          1.739828052930364,
          1.8988078244652633,
          2.0723146452190293,
          2.2616759492228646,
          2.4683404670686486,
          2.6938893095901726,
          2.940048064334711,
          3.2086999973704504,
          3.501900461431713,
          3.8218926206331187,
          4.171124612056521,
          4.55226827550731,
          4.968239594734388,
          5.422221006501586,
          5.917685748188824,
          6.458424430196978,
          7.048574036451903,
          7.692649574879146,
          8.395578619995112,
          9.16273901188674,
          10
         ],
         "xaxis": "x",
         "y": [
          -397.84750786946347,
          -344.8101685444037,
          -286.8419216005554,
          -223.436963695367,
          -179.32818740116699,
          -178.14817693709435,
          -175.8081347035618,
          -173.16488626963104,
          -170.28120981659652,
          -167.1315881944982,
          -162.64560298451937,
          -156.54686577259204,
          -149.8964952275932,
          -142.6488856968018,
          -134.75881449090636,
          -126.13370041066918,
          -116.69096911189509,
          -106.4277441704327,
          -101.08634428430781,
          -96.95017471161277,
          -92.43559241546176,
          -87.50844341920649,
          -82.13128921539779,
          -76.26298305798139,
          -69.85861505917693,
          -62.86783747203422,
          -55.236113877021786,
          -46.919155004687994,
          -37.83321638711166,
          -27.90235454520109,
          -17.084177982866663,
          -5.267177569955376,
          0,
          0,
          0,
          0,
          0,
          0,
          0,
          0,
          0,
          0,
          0,
          0,
          0,
          0,
          0,
          0,
          0,
          0,
          0,
          0,
          0,
          0,
          0,
          0,
          0,
          0,
          0,
          0,
          0,
          0,
          0,
          0,
          0,
          0,
          0,
          0,
          0,
          0,
          0,
          0,
          0,
          0,
          0,
          0,
          0,
          0,
          0,
          0
         ],
         "yaxis": "y"
        },
        {
         "hovertemplate": "variable=s2<br>alphas=%{x}<br>value=%{y}<extra></extra>",
         "legendgroup": "s2",
         "line": {
          "color": "#19d3f3",
          "dash": "solid"
         },
         "mode": "lines",
         "name": "s2",
         "showlegend": true,
         "type": "scattergl",
         "x": [
          0.01,
          0.010913767146512732,
          0.011911031332830068,
          0.012999422244132456,
          0.014187266741165962,
          0.015483652565854992,
          0.01689849786812457,
          0.018442627085855347,
          0.020127853758499396,
          0.021967070907932353,
          0.02397434967801077,
          0.02616504698748821,
          0.028555923019901074,
          0.031165269449294302,
          0.03401304938279253,
          0.03712105009066361,
          0.04051304969235382,
          0.04421499907374487,
          0.04825522042741279,
          0.05266462393484278,
          0.05747694424835353,
          0.06272899858196247,
          0.06846096838574658,
          0.07471670675868078,
          0.08154407395185162,
          0.08899530352885233,
          0.09712740198471168,
          0.10600258488068824,
          0.11568875283162827,
          0.12626001098748565,
          0.13779723598335575,
          0.150388694695541,
          0.1641307195375129,
          0.1791284454622004,
          0.19549661430912604,
          0.21336045265014109,
          0.23285662984981953,
          0.25413430367026363,
          0.2773562614198415,
          0.3027001653763463,
          0.33035991201283393,
          0.3605471154250504,
          0.39349272630958493,
          0.42944879887892745,
          0.46869041923141924,
          0.5115178099293143,
          0.5582586268862695,
          0.6092704661368677,
          0.6649435996665045,
          0.7257039612324216,
          0.7920164050192553,
          0.864388262059827,
          0.9433732216299778,
          1.0295755673125127,
          1.1236548001387516,
          1.2263306841775632,
          1.3383887531737577,
          1.460686320364989,
          1.5941590374559995,
          1.739828052930364,
          1.8988078244652633,
          2.0723146452190293,
          2.2616759492228646,
          2.4683404670686486,
          2.6938893095901726,
          2.940048064334711,
          3.2086999973704504,
          3.501900461431713,
          3.8218926206331187,
          4.171124612056521,
          4.55226827550731,
          4.968239594734388,
          5.422221006501586,
          5.917685748188824,
          6.458424430196978,
          7.048574036451903,
          7.692649574879146,
          8.395578619995112,
          9.16273901188674,
          10
         ],
         "xaxis": "x",
         "y": [
          186.77607115919582,
          141.59430477418596,
          92.12061404848366,
          37.85170681226077,
          0,
          0,
          0,
          0,
          0,
          0,
          0,
          0,
          0,
          0,
          0,
          0,
          0,
          0,
          0,
          0,
          0,
          0,
          0,
          0,
          0,
          0,
          0,
          0,
          0,
          0,
          0,
          0,
          0,
          0,
          0,
          0,
          0,
          0,
          0,
          0,
          0,
          0,
          0,
          0,
          0,
          0,
          0,
          0,
          0,
          0,
          0,
          0,
          0,
          0,
          0,
          0,
          0,
          0,
          0,
          0,
          0,
          0,
          0,
          0,
          0,
          0,
          0,
          0,
          0,
          0,
          0,
          0,
          0,
          0,
          0,
          0,
          0,
          0,
          0,
          0
         ],
         "yaxis": "y"
        },
        {
         "hovertemplate": "variable=s3<br>alphas=%{x}<br>value=%{y}<extra></extra>",
         "legendgroup": "s3",
         "line": {
          "color": "#FF6692",
          "dash": "solid"
         },
         "mode": "lines",
         "name": "s3",
         "showlegend": true,
         "type": "scattergl",
         "x": [
          0.01,
          0.010913767146512732,
          0.011911031332830068,
          0.012999422244132456,
          0.014187266741165962,
          0.015483652565854992,
          0.01689849786812457,
          0.018442627085855347,
          0.020127853758499396,
          0.021967070907932353,
          0.02397434967801077,
          0.02616504698748821,
          0.028555923019901074,
          0.031165269449294302,
          0.03401304938279253,
          0.03712105009066361,
          0.04051304969235382,
          0.04421499907374487,
          0.04825522042741279,
          0.05266462393484278,
          0.05747694424835353,
          0.06272899858196247,
          0.06846096838574658,
          0.07471670675868078,
          0.08154407395185162,
          0.08899530352885233,
          0.09712740198471168,
          0.10600258488068824,
          0.11568875283162827,
          0.12626001098748565,
          0.13779723598335575,
          0.150388694695541,
          0.1641307195375129,
          0.1791284454622004,
          0.19549661430912604,
          0.21336045265014109,
          0.23285662984981953,
          0.25413430367026363,
          0.2773562614198415,
          0.3027001653763463,
          0.33035991201283393,
          0.3605471154250504,
          0.39349272630958493,
          0.42944879887892745,
          0.46869041923141924,
          0.5115178099293143,
          0.5582586268862695,
          0.6092704661368677,
          0.6649435996665045,
          0.7257039612324216,
          0.7920164050192553,
          0.864388262059827,
          0.9433732216299778,
          1.0295755673125127,
          1.1236548001387516,
          1.2263306841775632,
          1.3383887531737577,
          1.460686320364989,
          1.5941590374559995,
          1.739828052930364,
          1.8988078244652633,
          2.0723146452190293,
          2.2616759492228646,
          2.4683404670686486,
          2.6938893095901726,
          2.940048064334711,
          3.2086999973704504,
          3.501900461431713,
          3.8218926206331187,
          4.171124612056521,
          4.55226827550731,
          4.968239594734388,
          5.422221006501586,
          5.917685748188824,
          6.458424430196978,
          7.048574036451903,
          7.692649574879146,
          8.395578619995112,
          9.16273901188674,
          10
         ],
         "xaxis": "x",
         "y": [
          -74.45252460881044,
          -96.0409633093131,
          -119.75803023337114,
          -145.90538224358022,
          -164.5430044257362,
          -166.54958365573066,
          -168.23151086960914,
          -170.18107223099364,
          -172.30737153763653,
          -174.63108113640078,
          -178.0596142658,
          -182.8459996106735,
          -188.06253039410706,
          -193.7423773307414,
          -199.91592773803086,
          -206.67158110541564,
          -214.08221748833452,
          -222.11589559030745,
          -223.15974269083813,
          -222.0506064158101,
          -220.8411762867523,
          -219.5214466017806,
          -218.08083530605944,
          -216.5083033887647,
          -214.79182059622372,
          -212.92012435327013,
          -210.88030365334586,
          -208.63676689416192,
          -206.20113418624175,
          -203.5625867941327,
          -200.65550069842175,
          -197.4946898512809,
          -191.28116849008998,
          -182.47240590865084,
          -172.8609860270574,
          -162.23955504297234,
          -150.6498092639964,
          -138.00103059209437,
          -124.19644808080257,
          -111.8427931664225,
          -104.32384118536926,
          -96.13912471900838,
          -87.20428600300738,
          -77.45301107919921,
          -66.81069668919204,
          -55.195922573940244,
          -42.51982855861965,
          -28.68543471756881,
          -13.586899418130916,
          0,
          0,
          0,
          0,
          0,
          0,
          0,
          0,
          0,
          0,
          0,
          0,
          0,
          0,
          0,
          0,
          0,
          0,
          0,
          0,
          0,
          0,
          0,
          0,
          0,
          0,
          0,
          0,
          0,
          0,
          0
         ],
         "yaxis": "y"
        },
        {
         "hovertemplate": "variable=s4<br>alphas=%{x}<br>value=%{y}<extra></extra>",
         "legendgroup": "s4",
         "line": {
          "color": "#B6E880",
          "dash": "solid"
         },
         "mode": "lines",
         "name": "s4",
         "showlegend": true,
         "type": "scattergl",
         "x": [
          0.01,
          0.010913767146512732,
          0.011911031332830068,
          0.012999422244132456,
          0.014187266741165962,
          0.015483652565854992,
          0.01689849786812457,
          0.018442627085855347,
          0.020127853758499396,
          0.021967070907932353,
          0.02397434967801077,
          0.02616504698748821,
          0.028555923019901074,
          0.031165269449294302,
          0.03401304938279253,
          0.03712105009066361,
          0.04051304969235382,
          0.04421499907374487,
          0.04825522042741279,
          0.05266462393484278,
          0.05747694424835353,
          0.06272899858196247,
          0.06846096838574658,
          0.07471670675868078,
          0.08154407395185162,
          0.08899530352885233,
          0.09712740198471168,
          0.10600258488068824,
          0.11568875283162827,
          0.12626001098748565,
          0.13779723598335575,
          0.150388694695541,
          0.1641307195375129,
          0.1791284454622004,
          0.19549661430912604,
          0.21336045265014109,
          0.23285662984981953,
          0.25413430367026363,
          0.2773562614198415,
          0.3027001653763463,
          0.33035991201283393,
          0.3605471154250504,
          0.39349272630958493,
          0.42944879887892745,
          0.46869041923141924,
          0.5115178099293143,
          0.5582586268862695,
          0.6092704661368677,
          0.6649435996665045,
          0.7257039612324216,
          0.7920164050192553,
          0.864388262059827,
          0.9433732216299778,
          1.0295755673125127,
          1.1236548001387516,
          1.2263306841775632,
          1.3383887531737577,
          1.460686320364989,
          1.5941590374559995,
          1.739828052930364,
          1.8988078244652633,
          2.0723146452190293,
          2.2616759492228646,
          2.4683404670686486,
          2.6938893095901726,
          2.940048064334711,
          3.2086999973704504,
          3.501900461431713,
          3.8218926206331187,
          4.171124612056521,
          4.55226827550731,
          4.968239594734388,
          5.422221006501586,
          5.917685748188824,
          6.458424430196978,
          7.048574036451903,
          7.692649574879146,
          8.395578619995112,
          9.16273901188674,
          10
         ],
         "xaxis": "x",
         "y": [
          102.24481820872006,
          98.61393426545469,
          94.65661786807533,
          90.34731053586063,
          86.73951898070803,
          84.21169057737153,
          81.92708038111584,
          79.31583020774737,
          76.46742770950078,
          73.35552390166865,
          68.43291547603508,
          61.31644933196078,
          53.55715051133064,
          45.102607302362514,
          35.90161676885724,
          25.84131799392169,
          14.822879239282,
          2.8534380871869436,
          0,
          0,
          0,
          0,
          0,
          0,
          0,
          0,
          0,
          0,
          0,
          0,
          0,
          0,
          0,
          0,
          0,
          0,
          0,
          0,
          0,
          0,
          0,
          0,
          0,
          0,
          0,
          0,
          0,
          0,
          0,
          0,
          0,
          0,
          0,
          0,
          0,
          0,
          0,
          0,
          0,
          0,
          0,
          0,
          0,
          0,
          0,
          0,
          0,
          0,
          0,
          0,
          0,
          0,
          0,
          0,
          0,
          0,
          0,
          0,
          0,
          0
         ],
         "yaxis": "y"
        },
        {
         "hovertemplate": "variable=s5<br>alphas=%{x}<br>value=%{y}<extra></extra>",
         "legendgroup": "s5",
         "line": {
          "color": "#FF97FF",
          "dash": "solid"
         },
         "mode": "lines",
         "name": "s5",
         "showlegend": true,
         "type": "scattergl",
         "x": [
          0.01,
          0.010913767146512732,
          0.011911031332830068,
          0.012999422244132456,
          0.014187266741165962,
          0.015483652565854992,
          0.01689849786812457,
          0.018442627085855347,
          0.020127853758499396,
          0.021967070907932353,
          0.02397434967801077,
          0.02616504698748821,
          0.028555923019901074,
          0.031165269449294302,
          0.03401304938279253,
          0.03712105009066361,
          0.04051304969235382,
          0.04421499907374487,
          0.04825522042741279,
          0.05266462393484278,
          0.05747694424835353,
          0.06272899858196247,
          0.06846096838574658,
          0.07471670675868078,
          0.08154407395185162,
          0.08899530352885233,
          0.09712740198471168,
          0.10600258488068824,
          0.11568875283162827,
          0.12626001098748565,
          0.13779723598335575,
          0.150388694695541,
          0.1641307195375129,
          0.1791284454622004,
          0.19549661430912604,
          0.21336045265014109,
          0.23285662984981953,
          0.25413430367026363,
          0.2773562614198415,
          0.3027001653763463,
          0.33035991201283393,
          0.3605471154250504,
          0.39349272630958493,
          0.42944879887892745,
          0.46869041923141924,
          0.5115178099293143,
          0.5582586268862695,
          0.6092704661368677,
          0.6649435996665045,
          0.7257039612324216,
          0.7920164050192553,
          0.864388262059827,
          0.9433732216299778,
          1.0295755673125127,
          1.1236548001387516,
          1.2263306841775632,
          1.3383887531737577,
          1.460686320364989,
          1.5941590374559995,
          1.739828052930364,
          1.8988078244652633,
          2.0723146452190293,
          2.2616759492228646,
          2.4683404670686486,
          2.6938893095901726,
          2.940048064334711,
          3.2086999973704504,
          3.501900461431713,
          3.8218926206331187,
          4.171124612056521,
          4.55226827550731,
          4.968239594734388,
          5.422221006501586,
          5.917685748188824,
          6.458424430196978,
          7.048574036451903,
          7.692649574879146,
          8.395578619995112,
          9.16273901188674,
          10
         ],
         "xaxis": "x",
         "y": [
          612.0719377289591,
          591.6991270719344,
          569.2989449388168,
          544.5717831442286,
          527.2186581653906,
          526.920776301291,
          526.5641336890103,
          526.1617977807085,
          525.7228595036484,
          525.2434541223687,
          524.5211513827638,
          523.5067364891638,
          522.4004556406809,
          521.194618026046,
          519.8814969532993,
          518.4463245094353,
          516.8756897825801,
          515.1677433261268,
          513.0313824558681,
          510.5498763069502,
          507.84192871628017,
          504.8866578592134,
          501.66140798616624,
          498.14148665955,
          494.2999570752285,
          490.10719144187124,
          485.53093478410517,
          480.53900672384145,
          475.08904904588695,
          469.13771228735214,
          462.64708102541624,
          455.55997546327654,
          452.05532267269564,
          451.479041400889,
          450.8522580890155,
          449.21013557043517,
          446.9160238061167,
          444.4122836457312,
          441.6797599351497,
          438.3839991957787,
          434.13564967413924,
          429.48943318796677,
          424.41808546375114,
          418.8833346456419,
          412.8428364813612,
          406.25037743997086,
          399.0555211499056,
          391.2032225296659,
          382.63340665904786,
          372.408386985357,
          356.74528385682805,
          339.6468085052732,
          320.98497441814754,
          300.2756596949128,
          271.5178088503531,
          240.13550864798015,
          205.88645303144844,
          168.50821976730492,
          127.71448634801452,
          83.19315559050958,
          34.603611896481176,
          0,
          0,
          0,
          0,
          0,
          0,
          0,
          0,
          0,
          0,
          0,
          0,
          0,
          0,
          0,
          0,
          0,
          0,
          0
         ],
         "yaxis": "y"
        },
        {
         "hovertemplate": "variable=s6<br>alphas=%{x}<br>value=%{y}<extra></extra>",
         "legendgroup": "s6",
         "line": {
          "color": "#FECB52",
          "dash": "solid"
         },
         "mode": "lines",
         "name": "s6",
         "showlegend": true,
         "type": "scattergl",
         "x": [
          0.01,
          0.010913767146512732,
          0.011911031332830068,
          0.012999422244132456,
          0.014187266741165962,
          0.015483652565854992,
          0.01689849786812457,
          0.018442627085855347,
          0.020127853758499396,
          0.021967070907932353,
          0.02397434967801077,
          0.02616504698748821,
          0.028555923019901074,
          0.031165269449294302,
          0.03401304938279253,
          0.03712105009066361,
          0.04051304969235382,
          0.04421499907374487,
          0.04825522042741279,
          0.05266462393484278,
          0.05747694424835353,
          0.06272899858196247,
          0.06846096838574658,
          0.07471670675868078,
          0.08154407395185162,
          0.08899530352885233,
          0.09712740198471168,
          0.10600258488068824,
          0.11568875283162827,
          0.12626001098748565,
          0.13779723598335575,
          0.150388694695541,
          0.1641307195375129,
          0.1791284454622004,
          0.19549661430912604,
          0.21336045265014109,
          0.23285662984981953,
          0.25413430367026363,
          0.2773562614198415,
          0.3027001653763463,
          0.33035991201283393,
          0.3605471154250504,
          0.39349272630958493,
          0.42944879887892745,
          0.46869041923141924,
          0.5115178099293143,
          0.5582586268862695,
          0.6092704661368677,
          0.6649435996665045,
          0.7257039612324216,
          0.7920164050192553,
          0.864388262059827,
          0.9433732216299778,
          1.0295755673125127,
          1.1236548001387516,
          1.2263306841775632,
          1.3383887531737577,
          1.460686320364989,
          1.5941590374559995,
          1.739828052930364,
          1.8988078244652633,
          2.0723146452190293,
          2.2616759492228646,
          2.4683404670686486,
          2.6938893095901726,
          2.940048064334711,
          3.2086999973704504,
          3.501900461431713,
          3.8218926206331187,
          4.171124612056521,
          4.55226827550731,
          4.968239594734388,
          5.422221006501586,
          5.917685748188824,
          6.458424430196978,
          7.048574036451903,
          7.692649574879146,
          8.395578619995112,
          9.16273901188674,
          10
         ],
         "xaxis": "x",
         "y": [
          54.34846203755268,
          55.01453857031531,
          55.56126704932021,
          55.85188853228545,
          56.02984149864629,
          56.15771532275281,
          57.139262031653814,
          58.21048269880517,
          59.379588195550035,
          60.65552225893298,
          61.058673435312976,
          60.40985830188605,
          59.70171909707208,
          58.92880313450557,
          58.085129293610365,
          57.164456674134385,
          56.15985159581931,
          55.063169377145165,
          53.598323816430806,
          51.89937955185463,
          50.046101214498904,
          48.023812254897436,
          45.816663348199455,
          43.407703202502184,
          40.77845495002232,
          37.90935080181971,
          34.77869893642735,
          31.35477638563323,
          27.623543910249904,
          23.556456784773303,
          19.109374803000634,
          14.25535496837004,
          9.882215563813824,
          5.843325341151306,
          1.4362326889397479,
          0,
          0,
          0,
          0,
          0,
          0,
          0,
          0,
          0,
          0,
          0,
          0,
          0,
          0,
          0,
          0,
          0,
          0,
          0,
          0,
          0,
          0,
          0,
          0,
          0,
          0,
          0,
          0,
          0,
          0,
          0,
          0,
          0,
          0,
          0,
          0,
          0,
          0,
          0,
          0,
          0,
          0,
          0,
          0,
          0
         ],
         "yaxis": "y"
        },
        {
         "hovertemplate": "variable=age^2<br>alphas=%{x}<br>value=%{y}<extra></extra>",
         "legendgroup": "age^2",
         "line": {
          "color": "#636efa",
          "dash": "solid"
         },
         "mode": "lines",
         "name": "age^2",
         "showlegend": true,
         "type": "scattergl",
         "x": [
          0.01,
          0.010913767146512732,
          0.011911031332830068,
          0.012999422244132456,
          0.014187266741165962,
          0.015483652565854992,
          0.01689849786812457,
          0.018442627085855347,
          0.020127853758499396,
          0.021967070907932353,
          0.02397434967801077,
          0.02616504698748821,
          0.028555923019901074,
          0.031165269449294302,
          0.03401304938279253,
          0.03712105009066361,
          0.04051304969235382,
          0.04421499907374487,
          0.04825522042741279,
          0.05266462393484278,
          0.05747694424835353,
          0.06272899858196247,
          0.06846096838574658,
          0.07471670675868078,
          0.08154407395185162,
          0.08899530352885233,
          0.09712740198471168,
          0.10600258488068824,
          0.11568875283162827,
          0.12626001098748565,
          0.13779723598335575,
          0.150388694695541,
          0.1641307195375129,
          0.1791284454622004,
          0.19549661430912604,
          0.21336045265014109,
          0.23285662984981953,
          0.25413430367026363,
          0.2773562614198415,
          0.3027001653763463,
          0.33035991201283393,
          0.3605471154250504,
          0.39349272630958493,
          0.42944879887892745,
          0.46869041923141924,
          0.5115178099293143,
          0.5582586268862695,
          0.6092704661368677,
          0.6649435996665045,
          0.7257039612324216,
          0.7920164050192553,
          0.864388262059827,
          0.9433732216299778,
          1.0295755673125127,
          1.1236548001387516,
          1.2263306841775632,
          1.3383887531737577,
          1.460686320364989,
          1.5941590374559995,
          1.739828052930364,
          1.8988078244652633,
          2.0723146452190293,
          2.2616759492228646,
          2.4683404670686486,
          2.6938893095901726,
          2.940048064334711,
          3.2086999973704504,
          3.501900461431713,
          3.8218926206331187,
          4.171124612056521,
          4.55226827550731,
          4.968239594734388,
          5.422221006501586,
          5.917685748188824,
          6.458424430196978,
          7.048574036451903,
          7.692649574879146,
          8.395578619995112,
          9.16273901188674,
          10
         ],
         "xaxis": "x",
         "y": [
          819.1604740885144,
          670.1626845304777,
          510.6004783804508,
          341.6390110052867,
          160.571048878095,
          0,
          0,
          0,
          0,
          0,
          0,
          0,
          0,
          0,
          0,
          0,
          0,
          0,
          0,
          0,
          0,
          0,
          0,
          0,
          0,
          0,
          0,
          0,
          0,
          0,
          0,
          0,
          0,
          0,
          0,
          0,
          0,
          0,
          0,
          0,
          0,
          0,
          0,
          0,
          0,
          0,
          0,
          0,
          0,
          0,
          0,
          0,
          0,
          0,
          0,
          0,
          0,
          0,
          0,
          0,
          0,
          0,
          0,
          0,
          0,
          0,
          0,
          0,
          0,
          0,
          0,
          0,
          0,
          0,
          0,
          0,
          0,
          0,
          0,
          0
         ],
         "yaxis": "y"
        },
        {
         "hovertemplate": "variable=sex^2<br>alphas=%{x}<br>value=%{y}<extra></extra>",
         "legendgroup": "sex^2",
         "line": {
          "color": "#EF553B",
          "dash": "solid"
         },
         "mode": "lines",
         "name": "sex^2",
         "showlegend": true,
         "type": "scattergl",
         "x": [
          0.01,
          0.010913767146512732,
          0.011911031332830068,
          0.012999422244132456,
          0.014187266741165962,
          0.015483652565854992,
          0.01689849786812457,
          0.018442627085855347,
          0.020127853758499396,
          0.021967070907932353,
          0.02397434967801077,
          0.02616504698748821,
          0.028555923019901074,
          0.031165269449294302,
          0.03401304938279253,
          0.03712105009066361,
          0.04051304969235382,
          0.04421499907374487,
          0.04825522042741279,
          0.05266462393484278,
          0.05747694424835353,
          0.06272899858196247,
          0.06846096838574658,
          0.07471670675868078,
          0.08154407395185162,
          0.08899530352885233,
          0.09712740198471168,
          0.10600258488068824,
          0.11568875283162827,
          0.12626001098748565,
          0.13779723598335575,
          0.150388694695541,
          0.1641307195375129,
          0.1791284454622004,
          0.19549661430912604,
          0.21336045265014109,
          0.23285662984981953,
          0.25413430367026363,
          0.2773562614198415,
          0.3027001653763463,
          0.33035991201283393,
          0.3605471154250504,
          0.39349272630958493,
          0.42944879887892745,
          0.46869041923141924,
          0.5115178099293143,
          0.5582586268862695,
          0.6092704661368677,
          0.6649435996665045,
          0.7257039612324216,
          0.7920164050192553,
          0.864388262059827,
          0.9433732216299778,
          1.0295755673125127,
          1.1236548001387516,
          1.2263306841775632,
          1.3383887531737577,
          1.460686320364989,
          1.5941590374559995,
          1.739828052930364,
          1.8988078244652633,
          2.0723146452190293,
          2.2616759492228646,
          2.4683404670686486,
          2.6938893095901726,
          2.940048064334711,
          3.2086999973704504,
          3.501900461431713,
          3.8218926206331187,
          4.171124612056521,
          4.55226827550731,
          4.968239594734388,
          5.422221006501586,
          5.917685748188824,
          6.458424430196978,
          7.048574036451903,
          7.692649574879146,
          8.395578619995112,
          9.16273901188674,
          10
         ],
         "xaxis": "x",
         "y": [
          0,
          0,
          0,
          0,
          0,
          0,
          0,
          0,
          0,
          0,
          0,
          0,
          0,
          0,
          0,
          0,
          0,
          0,
          0,
          0,
          0,
          0,
          0,
          0,
          0,
          0,
          0,
          0,
          0,
          0,
          0,
          0,
          0,
          0,
          0,
          0,
          0,
          0,
          0,
          0,
          0,
          0,
          0,
          0,
          0,
          0,
          0,
          0,
          0,
          0,
          0,
          0,
          0,
          0,
          0,
          0,
          0,
          0,
          0,
          0,
          0,
          0,
          0,
          0,
          0,
          0,
          0,
          0,
          0,
          0,
          0,
          0,
          0,
          0,
          0,
          0,
          0,
          0,
          0,
          0
         ],
         "yaxis": "y"
        },
        {
         "hovertemplate": "variable=bmi^2<br>alphas=%{x}<br>value=%{y}<extra></extra>",
         "legendgroup": "bmi^2",
         "line": {
          "color": "#00cc96",
          "dash": "solid"
         },
         "mode": "lines",
         "name": "bmi^2",
         "showlegend": true,
         "type": "scattergl",
         "x": [
          0.01,
          0.010913767146512732,
          0.011911031332830068,
          0.012999422244132456,
          0.014187266741165962,
          0.015483652565854992,
          0.01689849786812457,
          0.018442627085855347,
          0.020127853758499396,
          0.021967070907932353,
          0.02397434967801077,
          0.02616504698748821,
          0.028555923019901074,
          0.031165269449294302,
          0.03401304938279253,
          0.03712105009066361,
          0.04051304969235382,
          0.04421499907374487,
          0.04825522042741279,
          0.05266462393484278,
          0.05747694424835353,
          0.06272899858196247,
          0.06846096838574658,
          0.07471670675868078,
          0.08154407395185162,
          0.08899530352885233,
          0.09712740198471168,
          0.10600258488068824,
          0.11568875283162827,
          0.12626001098748565,
          0.13779723598335575,
          0.150388694695541,
          0.1641307195375129,
          0.1791284454622004,
          0.19549661430912604,
          0.21336045265014109,
          0.23285662984981953,
          0.25413430367026363,
          0.2773562614198415,
          0.3027001653763463,
          0.33035991201283393,
          0.3605471154250504,
          0.39349272630958493,
          0.42944879887892745,
          0.46869041923141924,
          0.5115178099293143,
          0.5582586268862695,
          0.6092704661368677,
          0.6649435996665045,
          0.7257039612324216,
          0.7920164050192553,
          0.864388262059827,
          0.9433732216299778,
          1.0295755673125127,
          1.1236548001387516,
          1.2263306841775632,
          1.3383887531737577,
          1.460686320364989,
          1.5941590374559995,
          1.739828052930364,
          1.8988078244652633,
          2.0723146452190293,
          2.2616759492228646,
          2.4683404670686486,
          2.6938893095901726,
          2.940048064334711,
          3.2086999973704504,
          3.501900461431713,
          3.8218926206331187,
          4.171124612056521,
          4.55226827550731,
          4.968239594734388,
          5.422221006501586,
          5.917685748188824,
          6.458424430196978,
          7.048574036451903,
          7.692649574879146,
          8.395578619995112,
          9.16273901188674,
          10
         ],
         "xaxis": "x",
         "y": [
          514.0000669495237,
          409.13696743926795,
          298.0019789482818,
          182.33289317786787,
          58.944488599542275,
          0,
          0,
          0,
          0,
          0,
          0,
          0,
          0,
          0,
          0,
          0,
          0,
          0,
          0,
          0,
          0,
          0,
          0,
          0,
          0,
          0,
          0,
          0,
          0,
          0,
          0,
          0,
          0,
          0,
          0,
          0,
          0,
          0,
          0,
          0,
          0,
          0,
          0,
          0,
          0,
          0,
          0,
          0,
          0,
          0,
          0,
          0,
          0,
          0,
          0,
          0,
          0,
          0,
          0,
          0,
          0,
          0,
          0,
          0,
          0,
          0,
          0,
          0,
          0,
          0,
          0,
          0,
          0,
          0,
          0,
          0,
          0,
          0,
          0,
          0
         ],
         "yaxis": "y"
        },
        {
         "hovertemplate": "variable=bp^2<br>alphas=%{x}<br>value=%{y}<extra></extra>",
         "legendgroup": "bp^2",
         "line": {
          "color": "#ab63fa",
          "dash": "solid"
         },
         "mode": "lines",
         "name": "bp^2",
         "showlegend": true,
         "type": "scattergl",
         "x": [
          0.01,
          0.010913767146512732,
          0.011911031332830068,
          0.012999422244132456,
          0.014187266741165962,
          0.015483652565854992,
          0.01689849786812457,
          0.018442627085855347,
          0.020127853758499396,
          0.021967070907932353,
          0.02397434967801077,
          0.02616504698748821,
          0.028555923019901074,
          0.031165269449294302,
          0.03401304938279253,
          0.03712105009066361,
          0.04051304969235382,
          0.04421499907374487,
          0.04825522042741279,
          0.05266462393484278,
          0.05747694424835353,
          0.06272899858196247,
          0.06846096838574658,
          0.07471670675868078,
          0.08154407395185162,
          0.08899530352885233,
          0.09712740198471168,
          0.10600258488068824,
          0.11568875283162827,
          0.12626001098748565,
          0.13779723598335575,
          0.150388694695541,
          0.1641307195375129,
          0.1791284454622004,
          0.19549661430912604,
          0.21336045265014109,
          0.23285662984981953,
          0.25413430367026363,
          0.2773562614198415,
          0.3027001653763463,
          0.33035991201283393,
          0.3605471154250504,
          0.39349272630958493,
          0.42944879887892745,
          0.46869041923141924,
          0.5115178099293143,
          0.5582586268862695,
          0.6092704661368677,
          0.6649435996665045,
          0.7257039612324216,
          0.7920164050192553,
          0.864388262059827,
          0.9433732216299778,
          1.0295755673125127,
          1.1236548001387516,
          1.2263306841775632,
          1.3383887531737577,
          1.460686320364989,
          1.5941590374559995,
          1.739828052930364,
          1.8988078244652633,
          2.0723146452190293,
          2.2616759492228646,
          2.4683404670686486,
          2.6938893095901726,
          2.940048064334711,
          3.2086999973704504,
          3.501900461431713,
          3.8218926206331187,
          4.171124612056521,
          4.55226827550731,
          4.968239594734388,
          5.422221006501586,
          5.917685748188824,
          6.458424430196978,
          7.048574036451903,
          7.692649574879146,
          8.395578619995112,
          9.16273901188674,
          10
         ],
         "xaxis": "x",
         "y": [
          0,
          0,
          0,
          0,
          0,
          0,
          0,
          0,
          0,
          0,
          0,
          0,
          0,
          0,
          0,
          0,
          0,
          0,
          0,
          0,
          0,
          0,
          0,
          0,
          0,
          0,
          0,
          0,
          0,
          0,
          0,
          0,
          0,
          0,
          0,
          0,
          0,
          0,
          0,
          0,
          0,
          0,
          0,
          0,
          0,
          0,
          0,
          0,
          0,
          0,
          0,
          0,
          0,
          0,
          0,
          0,
          0,
          0,
          0,
          0,
          0,
          0,
          0,
          0,
          0,
          0,
          0,
          0,
          0,
          0,
          0,
          0,
          0,
          0,
          0,
          0,
          0,
          0,
          0,
          0
         ],
         "yaxis": "y"
        },
        {
         "hovertemplate": "variable=s1^2<br>alphas=%{x}<br>value=%{y}<extra></extra>",
         "legendgroup": "s1^2",
         "line": {
          "color": "#FFA15A",
          "dash": "solid"
         },
         "mode": "lines",
         "name": "s1^2",
         "showlegend": true,
         "type": "scattergl",
         "x": [
          0.01,
          0.010913767146512732,
          0.011911031332830068,
          0.012999422244132456,
          0.014187266741165962,
          0.015483652565854992,
          0.01689849786812457,
          0.018442627085855347,
          0.020127853758499396,
          0.021967070907932353,
          0.02397434967801077,
          0.02616504698748821,
          0.028555923019901074,
          0.031165269449294302,
          0.03401304938279253,
          0.03712105009066361,
          0.04051304969235382,
          0.04421499907374487,
          0.04825522042741279,
          0.05266462393484278,
          0.05747694424835353,
          0.06272899858196247,
          0.06846096838574658,
          0.07471670675868078,
          0.08154407395185162,
          0.08899530352885233,
          0.09712740198471168,
          0.10600258488068824,
          0.11568875283162827,
          0.12626001098748565,
          0.13779723598335575,
          0.150388694695541,
          0.1641307195375129,
          0.1791284454622004,
          0.19549661430912604,
          0.21336045265014109,
          0.23285662984981953,
          0.25413430367026363,
          0.2773562614198415,
          0.3027001653763463,
          0.33035991201283393,
          0.3605471154250504,
          0.39349272630958493,
          0.42944879887892745,
          0.46869041923141924,
          0.5115178099293143,
          0.5582586268862695,
          0.6092704661368677,
          0.6649435996665045,
          0.7257039612324216,
          0.7920164050192553,
          0.864388262059827,
          0.9433732216299778,
          1.0295755673125127,
          1.1236548001387516,
          1.2263306841775632,
          1.3383887531737577,
          1.460686320364989,
          1.5941590374559995,
          1.739828052930364,
          1.8988078244652633,
          2.0723146452190293,
          2.2616759492228646,
          2.4683404670686486,
          2.6938893095901726,
          2.940048064334711,
          3.2086999973704504,
          3.501900461431713,
          3.8218926206331187,
          4.171124612056521,
          4.55226827550731,
          4.968239594734388,
          5.422221006501586,
          5.917685748188824,
          6.458424430196978,
          7.048574036451903,
          7.692649574879146,
          8.395578619995112,
          9.16273901188674,
          10
         ],
         "xaxis": "x",
         "y": [
          0,
          0,
          0,
          0,
          0,
          0,
          0,
          0,
          0,
          0,
          0,
          0,
          0,
          0,
          0,
          0,
          0,
          0,
          0,
          0,
          0,
          0,
          0,
          0,
          0,
          0,
          0,
          0,
          0,
          0,
          0,
          0,
          0,
          0,
          0,
          0,
          0,
          0,
          0,
          0,
          0,
          0,
          0,
          0,
          0,
          0,
          0,
          0,
          0,
          0,
          0,
          0,
          0,
          0,
          0,
          0,
          0,
          0,
          0,
          0,
          0,
          0,
          0,
          0,
          0,
          0,
          0,
          0,
          0,
          0,
          0,
          0,
          0,
          0,
          0,
          0,
          0,
          0,
          0,
          0
         ],
         "yaxis": "y"
        },
        {
         "hovertemplate": "variable=s2^2<br>alphas=%{x}<br>value=%{y}<extra></extra>",
         "legendgroup": "s2^2",
         "line": {
          "color": "#19d3f3",
          "dash": "solid"
         },
         "mode": "lines",
         "name": "s2^2",
         "showlegend": true,
         "type": "scattergl",
         "x": [
          0.01,
          0.010913767146512732,
          0.011911031332830068,
          0.012999422244132456,
          0.014187266741165962,
          0.015483652565854992,
          0.01689849786812457,
          0.018442627085855347,
          0.020127853758499396,
          0.021967070907932353,
          0.02397434967801077,
          0.02616504698748821,
          0.028555923019901074,
          0.031165269449294302,
          0.03401304938279253,
          0.03712105009066361,
          0.04051304969235382,
          0.04421499907374487,
          0.04825522042741279,
          0.05266462393484278,
          0.05747694424835353,
          0.06272899858196247,
          0.06846096838574658,
          0.07471670675868078,
          0.08154407395185162,
          0.08899530352885233,
          0.09712740198471168,
          0.10600258488068824,
          0.11568875283162827,
          0.12626001098748565,
          0.13779723598335575,
          0.150388694695541,
          0.1641307195375129,
          0.1791284454622004,
          0.19549661430912604,
          0.21336045265014109,
          0.23285662984981953,
          0.25413430367026363,
          0.2773562614198415,
          0.3027001653763463,
          0.33035991201283393,
          0.3605471154250504,
          0.39349272630958493,
          0.42944879887892745,
          0.46869041923141924,
          0.5115178099293143,
          0.5582586268862695,
          0.6092704661368677,
          0.6649435996665045,
          0.7257039612324216,
          0.7920164050192553,
          0.864388262059827,
          0.9433732216299778,
          1.0295755673125127,
          1.1236548001387516,
          1.2263306841775632,
          1.3383887531737577,
          1.460686320364989,
          1.5941590374559995,
          1.739828052930364,
          1.8988078244652633,
          2.0723146452190293,
          2.2616759492228646,
          2.4683404670686486,
          2.6938893095901726,
          2.940048064334711,
          3.2086999973704504,
          3.501900461431713,
          3.8218926206331187,
          4.171124612056521,
          4.55226827550731,
          4.968239594734388,
          5.422221006501586,
          5.917685748188824,
          6.458424430196978,
          7.048574036451903,
          7.692649574879146,
          8.395578619995112,
          9.16273901188674,
          10
         ],
         "xaxis": "x",
         "y": [
          0,
          0,
          0,
          0,
          0,
          0,
          0,
          0,
          0,
          0,
          0,
          0,
          0,
          0,
          0,
          0,
          0,
          0,
          0,
          0,
          0,
          0,
          0,
          0,
          0,
          0,
          0,
          0,
          0,
          0,
          0,
          0,
          0,
          0,
          0,
          0,
          0,
          0,
          0,
          0,
          0,
          0,
          0,
          0,
          0,
          0,
          0,
          0,
          0,
          0,
          0,
          0,
          0,
          0,
          0,
          0,
          0,
          0,
          0,
          0,
          0,
          0,
          0,
          0,
          0,
          0,
          0,
          0,
          0,
          0,
          0,
          0,
          0,
          0,
          0,
          0,
          0,
          0,
          0,
          0
         ],
         "yaxis": "y"
        },
        {
         "hovertemplate": "variable=s3^2<br>alphas=%{x}<br>value=%{y}<extra></extra>",
         "legendgroup": "s3^2",
         "line": {
          "color": "#FF6692",
          "dash": "solid"
         },
         "mode": "lines",
         "name": "s3^2",
         "showlegend": true,
         "type": "scattergl",
         "x": [
          0.01,
          0.010913767146512732,
          0.011911031332830068,
          0.012999422244132456,
          0.014187266741165962,
          0.015483652565854992,
          0.01689849786812457,
          0.018442627085855347,
          0.020127853758499396,
          0.021967070907932353,
          0.02397434967801077,
          0.02616504698748821,
          0.028555923019901074,
          0.031165269449294302,
          0.03401304938279253,
          0.03712105009066361,
          0.04051304969235382,
          0.04421499907374487,
          0.04825522042741279,
          0.05266462393484278,
          0.05747694424835353,
          0.06272899858196247,
          0.06846096838574658,
          0.07471670675868078,
          0.08154407395185162,
          0.08899530352885233,
          0.09712740198471168,
          0.10600258488068824,
          0.11568875283162827,
          0.12626001098748565,
          0.13779723598335575,
          0.150388694695541,
          0.1641307195375129,
          0.1791284454622004,
          0.19549661430912604,
          0.21336045265014109,
          0.23285662984981953,
          0.25413430367026363,
          0.2773562614198415,
          0.3027001653763463,
          0.33035991201283393,
          0.3605471154250504,
          0.39349272630958493,
          0.42944879887892745,
          0.46869041923141924,
          0.5115178099293143,
          0.5582586268862695,
          0.6092704661368677,
          0.6649435996665045,
          0.7257039612324216,
          0.7920164050192553,
          0.864388262059827,
          0.9433732216299778,
          1.0295755673125127,
          1.1236548001387516,
          1.2263306841775632,
          1.3383887531737577,
          1.460686320364989,
          1.5941590374559995,
          1.739828052930364,
          1.8988078244652633,
          2.0723146452190293,
          2.2616759492228646,
          2.4683404670686486,
          2.6938893095901726,
          2.940048064334711,
          3.2086999973704504,
          3.501900461431713,
          3.8218926206331187,
          4.171124612056521,
          4.55226827550731,
          4.968239594734388,
          5.422221006501586,
          5.917685748188824,
          6.458424430196978,
          7.048574036451903,
          7.692649574879146,
          8.395578619995112,
          9.16273901188674,
          10
         ],
         "xaxis": "x",
         "y": [
          0,
          0,
          0,
          0,
          0,
          0,
          0,
          0,
          0,
          0,
          0,
          0,
          0,
          0,
          0,
          0,
          0,
          0,
          0,
          0,
          0,
          0,
          0,
          0,
          0,
          0,
          0,
          0,
          0,
          0,
          0,
          0,
          0,
          0,
          0,
          0,
          0,
          0,
          0,
          0,
          0,
          0,
          0,
          0,
          0,
          0,
          0,
          0,
          0,
          0,
          0,
          0,
          0,
          0,
          0,
          0,
          0,
          0,
          0,
          0,
          0,
          0,
          0,
          0,
          0,
          0,
          0,
          0,
          0,
          0,
          0,
          0,
          0,
          0,
          0,
          0,
          0,
          0,
          0,
          0
         ],
         "yaxis": "y"
        },
        {
         "hovertemplate": "variable=s4^2<br>alphas=%{x}<br>value=%{y}<extra></extra>",
         "legendgroup": "s4^2",
         "line": {
          "color": "#B6E880",
          "dash": "solid"
         },
         "mode": "lines",
         "name": "s4^2",
         "showlegend": true,
         "type": "scattergl",
         "x": [
          0.01,
          0.010913767146512732,
          0.011911031332830068,
          0.012999422244132456,
          0.014187266741165962,
          0.015483652565854992,
          0.01689849786812457,
          0.018442627085855347,
          0.020127853758499396,
          0.021967070907932353,
          0.02397434967801077,
          0.02616504698748821,
          0.028555923019901074,
          0.031165269449294302,
          0.03401304938279253,
          0.03712105009066361,
          0.04051304969235382,
          0.04421499907374487,
          0.04825522042741279,
          0.05266462393484278,
          0.05747694424835353,
          0.06272899858196247,
          0.06846096838574658,
          0.07471670675868078,
          0.08154407395185162,
          0.08899530352885233,
          0.09712740198471168,
          0.10600258488068824,
          0.11568875283162827,
          0.12626001098748565,
          0.13779723598335575,
          0.150388694695541,
          0.1641307195375129,
          0.1791284454622004,
          0.19549661430912604,
          0.21336045265014109,
          0.23285662984981953,
          0.25413430367026363,
          0.2773562614198415,
          0.3027001653763463,
          0.33035991201283393,
          0.3605471154250504,
          0.39349272630958493,
          0.42944879887892745,
          0.46869041923141924,
          0.5115178099293143,
          0.5582586268862695,
          0.6092704661368677,
          0.6649435996665045,
          0.7257039612324216,
          0.7920164050192553,
          0.864388262059827,
          0.9433732216299778,
          1.0295755673125127,
          1.1236548001387516,
          1.2263306841775632,
          1.3383887531737577,
          1.460686320364989,
          1.5941590374559995,
          1.739828052930364,
          1.8988078244652633,
          2.0723146452190293,
          2.2616759492228646,
          2.4683404670686486,
          2.6938893095901726,
          2.940048064334711,
          3.2086999973704504,
          3.501900461431713,
          3.8218926206331187,
          4.171124612056521,
          4.55226827550731,
          4.968239594734388,
          5.422221006501586,
          5.917685748188824,
          6.458424430196978,
          7.048574036451903,
          7.692649574879146,
          8.395578619995112,
          9.16273901188674,
          10
         ],
         "xaxis": "x",
         "y": [
          0,
          0,
          0,
          0,
          0,
          0,
          0,
          0,
          0,
          0,
          0,
          0,
          0,
          0,
          0,
          0,
          0,
          0,
          0,
          0,
          0,
          0,
          0,
          0,
          0,
          0,
          0,
          0,
          0,
          0,
          0,
          0,
          0,
          0,
          0,
          0,
          0,
          0,
          0,
          0,
          0,
          0,
          0,
          0,
          0,
          0,
          0,
          0,
          0,
          0,
          0,
          0,
          0,
          0,
          0,
          0,
          0,
          0,
          0,
          0,
          0,
          0,
          0,
          0,
          0,
          0,
          0,
          0,
          0,
          0,
          0,
          0,
          0,
          0,
          0,
          0,
          0,
          0,
          0,
          0
         ],
         "yaxis": "y"
        },
        {
         "hovertemplate": "variable=s5^2<br>alphas=%{x}<br>value=%{y}<extra></extra>",
         "legendgroup": "s5^2",
         "line": {
          "color": "#FF97FF",
          "dash": "solid"
         },
         "mode": "lines",
         "name": "s5^2",
         "showlegend": true,
         "type": "scattergl",
         "x": [
          0.01,
          0.010913767146512732,
          0.011911031332830068,
          0.012999422244132456,
          0.014187266741165962,
          0.015483652565854992,
          0.01689849786812457,
          0.018442627085855347,
          0.020127853758499396,
          0.021967070907932353,
          0.02397434967801077,
          0.02616504698748821,
          0.028555923019901074,
          0.031165269449294302,
          0.03401304938279253,
          0.03712105009066361,
          0.04051304969235382,
          0.04421499907374487,
          0.04825522042741279,
          0.05266462393484278,
          0.05747694424835353,
          0.06272899858196247,
          0.06846096838574658,
          0.07471670675868078,
          0.08154407395185162,
          0.08899530352885233,
          0.09712740198471168,
          0.10600258488068824,
          0.11568875283162827,
          0.12626001098748565,
          0.13779723598335575,
          0.150388694695541,
          0.1641307195375129,
          0.1791284454622004,
          0.19549661430912604,
          0.21336045265014109,
          0.23285662984981953,
          0.25413430367026363,
          0.2773562614198415,
          0.3027001653763463,
          0.33035991201283393,
          0.3605471154250504,
          0.39349272630958493,
          0.42944879887892745,
          0.46869041923141924,
          0.5115178099293143,
          0.5582586268862695,
          0.6092704661368677,
          0.6649435996665045,
          0.7257039612324216,
          0.7920164050192553,
          0.864388262059827,
          0.9433732216299778,
          1.0295755673125127,
          1.1236548001387516,
          1.2263306841775632,
          1.3383887531737577,
          1.460686320364989,
          1.5941590374559995,
          1.739828052930364,
          1.8988078244652633,
          2.0723146452190293,
          2.2616759492228646,
          2.4683404670686486,
          2.6938893095901726,
          2.940048064334711,
          3.2086999973704504,
          3.501900461431713,
          3.8218926206331187,
          4.171124612056521,
          4.55226827550731,
          4.968239594734388,
          5.422221006501586,
          5.917685748188824,
          6.458424430196978,
          7.048574036451903,
          7.692649574879146,
          8.395578619995112,
          9.16273901188674,
          10
         ],
         "xaxis": "x",
         "y": [
          0,
          0,
          0,
          0,
          0,
          0,
          0,
          0,
          0,
          0,
          0,
          0,
          0,
          0,
          0,
          0,
          0,
          0,
          0,
          0,
          0,
          0,
          0,
          0,
          0,
          0,
          0,
          0,
          0,
          0,
          0,
          0,
          0,
          0,
          0,
          0,
          0,
          0,
          0,
          0,
          0,
          0,
          0,
          0,
          0,
          0,
          0,
          0,
          0,
          0,
          0,
          0,
          0,
          0,
          0,
          0,
          0,
          0,
          0,
          0,
          0,
          0,
          0,
          0,
          0,
          0,
          0,
          0,
          0,
          0,
          0,
          0,
          0,
          0,
          0,
          0,
          0,
          0,
          0,
          0
         ],
         "yaxis": "y"
        },
        {
         "hovertemplate": "variable=s6^2<br>alphas=%{x}<br>value=%{y}<extra></extra>",
         "legendgroup": "s6^2",
         "line": {
          "color": "#FECB52",
          "dash": "solid"
         },
         "mode": "lines",
         "name": "s6^2",
         "showlegend": true,
         "type": "scattergl",
         "x": [
          0.01,
          0.010913767146512732,
          0.011911031332830068,
          0.012999422244132456,
          0.014187266741165962,
          0.015483652565854992,
          0.01689849786812457,
          0.018442627085855347,
          0.020127853758499396,
          0.021967070907932353,
          0.02397434967801077,
          0.02616504698748821,
          0.028555923019901074,
          0.031165269449294302,
          0.03401304938279253,
          0.03712105009066361,
          0.04051304969235382,
          0.04421499907374487,
          0.04825522042741279,
          0.05266462393484278,
          0.05747694424835353,
          0.06272899858196247,
          0.06846096838574658,
          0.07471670675868078,
          0.08154407395185162,
          0.08899530352885233,
          0.09712740198471168,
          0.10600258488068824,
          0.11568875283162827,
          0.12626001098748565,
          0.13779723598335575,
          0.150388694695541,
          0.1641307195375129,
          0.1791284454622004,
          0.19549661430912604,
          0.21336045265014109,
          0.23285662984981953,
          0.25413430367026363,
          0.2773562614198415,
          0.3027001653763463,
          0.33035991201283393,
          0.3605471154250504,
          0.39349272630958493,
          0.42944879887892745,
          0.46869041923141924,
          0.5115178099293143,
          0.5582586268862695,
          0.6092704661368677,
          0.6649435996665045,
          0.7257039612324216,
          0.7920164050192553,
          0.864388262059827,
          0.9433732216299778,
          1.0295755673125127,
          1.1236548001387516,
          1.2263306841775632,
          1.3383887531737577,
          1.460686320364989,
          1.5941590374559995,
          1.739828052930364,
          1.8988078244652633,
          2.0723146452190293,
          2.2616759492228646,
          2.4683404670686486,
          2.6938893095901726,
          2.940048064334711,
          3.2086999973704504,
          3.501900461431713,
          3.8218926206331187,
          4.171124612056521,
          4.55226827550731,
          4.968239594734388,
          5.422221006501586,
          5.917685748188824,
          6.458424430196978,
          7.048574036451903,
          7.692649574879146,
          8.395578619995112,
          9.16273901188674,
          10
         ],
         "xaxis": "x",
         "y": [
          1171.5361544646205,
          1081.8788818612197,
          984.5611895310781,
          879.2554627280269,
          770.9338838875169,
          660.7076732150267,
          535.8852258413456,
          399.7015256769103,
          251.0732556964622,
          88.86504271082063,
          0,
          0,
          0,
          0,
          0,
          0,
          0,
          0,
          0,
          0,
          0,
          0,
          0,
          0,
          0,
          0,
          0,
          0,
          0,
          0,
          0,
          0,
          0,
          0,
          0,
          0,
          0,
          0,
          0,
          0,
          0,
          0,
          0,
          0,
          0,
          0,
          0,
          0,
          0,
          0,
          0,
          0,
          0,
          0,
          0,
          0,
          0,
          0,
          0,
          0,
          0,
          0,
          0,
          0,
          0,
          0,
          0,
          0,
          0,
          0,
          0,
          0,
          0,
          0,
          0,
          0,
          0,
          0,
          0,
          0
         ],
         "yaxis": "y"
        },
        {
         "hovertemplate": "variable=age^3<br>alphas=%{x}<br>value=%{y}<extra></extra>",
         "legendgroup": "age^3",
         "line": {
          "color": "#636efa",
          "dash": "solid"
         },
         "mode": "lines",
         "name": "age^3",
         "showlegend": true,
         "type": "scattergl",
         "x": [
          0.01,
          0.010913767146512732,
          0.011911031332830068,
          0.012999422244132456,
          0.014187266741165962,
          0.015483652565854992,
          0.01689849786812457,
          0.018442627085855347,
          0.020127853758499396,
          0.021967070907932353,
          0.02397434967801077,
          0.02616504698748821,
          0.028555923019901074,
          0.031165269449294302,
          0.03401304938279253,
          0.03712105009066361,
          0.04051304969235382,
          0.04421499907374487,
          0.04825522042741279,
          0.05266462393484278,
          0.05747694424835353,
          0.06272899858196247,
          0.06846096838574658,
          0.07471670675868078,
          0.08154407395185162,
          0.08899530352885233,
          0.09712740198471168,
          0.10600258488068824,
          0.11568875283162827,
          0.12626001098748565,
          0.13779723598335575,
          0.150388694695541,
          0.1641307195375129,
          0.1791284454622004,
          0.19549661430912604,
          0.21336045265014109,
          0.23285662984981953,
          0.25413430367026363,
          0.2773562614198415,
          0.3027001653763463,
          0.33035991201283393,
          0.3605471154250504,
          0.39349272630958493,
          0.42944879887892745,
          0.46869041923141924,
          0.5115178099293143,
          0.5582586268862695,
          0.6092704661368677,
          0.6649435996665045,
          0.7257039612324216,
          0.7920164050192553,
          0.864388262059827,
          0.9433732216299778,
          1.0295755673125127,
          1.1236548001387516,
          1.2263306841775632,
          1.3383887531737577,
          1.460686320364989,
          1.5941590374559995,
          1.739828052930364,
          1.8988078244652633,
          2.0723146452190293,
          2.2616759492228646,
          2.4683404670686486,
          2.6938893095901726,
          2.940048064334711,
          3.2086999973704504,
          3.501900461431713,
          3.8218926206331187,
          4.171124612056521,
          4.55226827550731,
          4.968239594734388,
          5.422221006501586,
          5.917685748188824,
          6.458424430196978,
          7.048574036451903,
          7.692649574879146,
          8.395578619995112,
          9.16273901188674,
          10
         ],
         "xaxis": "x",
         "y": [
          0,
          0,
          0,
          0,
          0,
          0,
          0,
          0,
          0,
          0,
          0,
          0,
          0,
          0,
          0,
          0,
          0,
          0,
          0,
          0,
          0,
          0,
          0,
          0,
          0,
          0,
          0,
          0,
          0,
          0,
          0,
          0,
          0,
          0,
          0,
          0,
          0,
          0,
          0,
          0,
          0,
          0,
          0,
          0,
          0,
          0,
          0,
          0,
          0,
          0,
          0,
          0,
          0,
          0,
          0,
          0,
          0,
          0,
          0,
          0,
          0,
          0,
          0,
          0,
          0,
          0,
          0,
          0,
          0,
          0,
          0,
          0,
          0,
          0,
          0,
          0,
          0,
          0,
          0,
          0
         ],
         "yaxis": "y"
        },
        {
         "hovertemplate": "variable=sex^3<br>alphas=%{x}<br>value=%{y}<extra></extra>",
         "legendgroup": "sex^3",
         "line": {
          "color": "#EF553B",
          "dash": "solid"
         },
         "mode": "lines",
         "name": "sex^3",
         "showlegend": true,
         "type": "scattergl",
         "x": [
          0.01,
          0.010913767146512732,
          0.011911031332830068,
          0.012999422244132456,
          0.014187266741165962,
          0.015483652565854992,
          0.01689849786812457,
          0.018442627085855347,
          0.020127853758499396,
          0.021967070907932353,
          0.02397434967801077,
          0.02616504698748821,
          0.028555923019901074,
          0.031165269449294302,
          0.03401304938279253,
          0.03712105009066361,
          0.04051304969235382,
          0.04421499907374487,
          0.04825522042741279,
          0.05266462393484278,
          0.05747694424835353,
          0.06272899858196247,
          0.06846096838574658,
          0.07471670675868078,
          0.08154407395185162,
          0.08899530352885233,
          0.09712740198471168,
          0.10600258488068824,
          0.11568875283162827,
          0.12626001098748565,
          0.13779723598335575,
          0.150388694695541,
          0.1641307195375129,
          0.1791284454622004,
          0.19549661430912604,
          0.21336045265014109,
          0.23285662984981953,
          0.25413430367026363,
          0.2773562614198415,
          0.3027001653763463,
          0.33035991201283393,
          0.3605471154250504,
          0.39349272630958493,
          0.42944879887892745,
          0.46869041923141924,
          0.5115178099293143,
          0.5582586268862695,
          0.6092704661368677,
          0.6649435996665045,
          0.7257039612324216,
          0.7920164050192553,
          0.864388262059827,
          0.9433732216299778,
          1.0295755673125127,
          1.1236548001387516,
          1.2263306841775632,
          1.3383887531737577,
          1.460686320364989,
          1.5941590374559995,
          1.739828052930364,
          1.8988078244652633,
          2.0723146452190293,
          2.2616759492228646,
          2.4683404670686486,
          2.6938893095901726,
          2.940048064334711,
          3.2086999973704504,
          3.501900461431713,
          3.8218926206331187,
          4.171124612056521,
          4.55226827550731,
          4.968239594734388,
          5.422221006501586,
          5.917685748188824,
          6.458424430196978,
          7.048574036451903,
          7.692649574879146,
          8.395578619995112,
          9.16273901188674,
          10
         ],
         "xaxis": "x",
         "y": [
          0,
          0,
          0,
          0,
          0,
          0,
          0,
          0,
          0,
          0,
          0,
          0,
          0,
          0,
          0,
          0,
          0,
          0,
          0,
          0,
          0,
          0,
          0,
          0,
          0,
          0,
          0,
          0,
          0,
          0,
          0,
          0,
          0,
          0,
          0,
          0,
          0,
          0,
          0,
          0,
          0,
          0,
          0,
          0,
          0,
          0,
          0,
          0,
          0,
          0,
          0,
          0,
          0,
          0,
          0,
          0,
          0,
          0,
          0,
          0,
          0,
          0,
          0,
          0,
          0,
          0,
          0,
          0,
          0,
          0,
          0,
          0,
          0,
          0,
          0,
          0,
          0,
          0,
          0,
          0
         ],
         "yaxis": "y"
        },
        {
         "hovertemplate": "variable=bmi^3<br>alphas=%{x}<br>value=%{y}<extra></extra>",
         "legendgroup": "bmi^3",
         "line": {
          "color": "#00cc96",
          "dash": "solid"
         },
         "mode": "lines",
         "name": "bmi^3",
         "showlegend": true,
         "type": "scattergl",
         "x": [
          0.01,
          0.010913767146512732,
          0.011911031332830068,
          0.012999422244132456,
          0.014187266741165962,
          0.015483652565854992,
          0.01689849786812457,
          0.018442627085855347,
          0.020127853758499396,
          0.021967070907932353,
          0.02397434967801077,
          0.02616504698748821,
          0.028555923019901074,
          0.031165269449294302,
          0.03401304938279253,
          0.03712105009066361,
          0.04051304969235382,
          0.04421499907374487,
          0.04825522042741279,
          0.05266462393484278,
          0.05747694424835353,
          0.06272899858196247,
          0.06846096838574658,
          0.07471670675868078,
          0.08154407395185162,
          0.08899530352885233,
          0.09712740198471168,
          0.10600258488068824,
          0.11568875283162827,
          0.12626001098748565,
          0.13779723598335575,
          0.150388694695541,
          0.1641307195375129,
          0.1791284454622004,
          0.19549661430912604,
          0.21336045265014109,
          0.23285662984981953,
          0.25413430367026363,
          0.2773562614198415,
          0.3027001653763463,
          0.33035991201283393,
          0.3605471154250504,
          0.39349272630958493,
          0.42944879887892745,
          0.46869041923141924,
          0.5115178099293143,
          0.5582586268862695,
          0.6092704661368677,
          0.6649435996665045,
          0.7257039612324216,
          0.7920164050192553,
          0.864388262059827,
          0.9433732216299778,
          1.0295755673125127,
          1.1236548001387516,
          1.2263306841775632,
          1.3383887531737577,
          1.460686320364989,
          1.5941590374559995,
          1.739828052930364,
          1.8988078244652633,
          2.0723146452190293,
          2.2616759492228646,
          2.4683404670686486,
          2.6938893095901726,
          2.940048064334711,
          3.2086999973704504,
          3.501900461431713,
          3.8218926206331187,
          4.171124612056521,
          4.55226827550731,
          4.968239594734388,
          5.422221006501586,
          5.917685748188824,
          6.458424430196978,
          7.048574036451903,
          7.692649574879146,
          8.395578619995112,
          9.16273901188674,
          10
         ],
         "xaxis": "x",
         "y": [
          0,
          0,
          0,
          0,
          0,
          0,
          0,
          0,
          0,
          0,
          0,
          0,
          0,
          0,
          0,
          0,
          0,
          0,
          0,
          0,
          0,
          0,
          0,
          0,
          0,
          0,
          0,
          0,
          0,
          0,
          0,
          0,
          0,
          0,
          0,
          0,
          0,
          0,
          0,
          0,
          0,
          0,
          0,
          0,
          0,
          0,
          0,
          0,
          0,
          0,
          0,
          0,
          0,
          0,
          0,
          0,
          0,
          0,
          0,
          0,
          0,
          0,
          0,
          0,
          0,
          0,
          0,
          0,
          0,
          0,
          0,
          0,
          0,
          0,
          0,
          0,
          0,
          0,
          0,
          0
         ],
         "yaxis": "y"
        },
        {
         "hovertemplate": "variable=bp^3<br>alphas=%{x}<br>value=%{y}<extra></extra>",
         "legendgroup": "bp^3",
         "line": {
          "color": "#ab63fa",
          "dash": "solid"
         },
         "mode": "lines",
         "name": "bp^3",
         "showlegend": true,
         "type": "scattergl",
         "x": [
          0.01,
          0.010913767146512732,
          0.011911031332830068,
          0.012999422244132456,
          0.014187266741165962,
          0.015483652565854992,
          0.01689849786812457,
          0.018442627085855347,
          0.020127853758499396,
          0.021967070907932353,
          0.02397434967801077,
          0.02616504698748821,
          0.028555923019901074,
          0.031165269449294302,
          0.03401304938279253,
          0.03712105009066361,
          0.04051304969235382,
          0.04421499907374487,
          0.04825522042741279,
          0.05266462393484278,
          0.05747694424835353,
          0.06272899858196247,
          0.06846096838574658,
          0.07471670675868078,
          0.08154407395185162,
          0.08899530352885233,
          0.09712740198471168,
          0.10600258488068824,
          0.11568875283162827,
          0.12626001098748565,
          0.13779723598335575,
          0.150388694695541,
          0.1641307195375129,
          0.1791284454622004,
          0.19549661430912604,
          0.21336045265014109,
          0.23285662984981953,
          0.25413430367026363,
          0.2773562614198415,
          0.3027001653763463,
          0.33035991201283393,
          0.3605471154250504,
          0.39349272630958493,
          0.42944879887892745,
          0.46869041923141924,
          0.5115178099293143,
          0.5582586268862695,
          0.6092704661368677,
          0.6649435996665045,
          0.7257039612324216,
          0.7920164050192553,
          0.864388262059827,
          0.9433732216299778,
          1.0295755673125127,
          1.1236548001387516,
          1.2263306841775632,
          1.3383887531737577,
          1.460686320364989,
          1.5941590374559995,
          1.739828052930364,
          1.8988078244652633,
          2.0723146452190293,
          2.2616759492228646,
          2.4683404670686486,
          2.6938893095901726,
          2.940048064334711,
          3.2086999973704504,
          3.501900461431713,
          3.8218926206331187,
          4.171124612056521,
          4.55226827550731,
          4.968239594734388,
          5.422221006501586,
          5.917685748188824,
          6.458424430196978,
          7.048574036451903,
          7.692649574879146,
          8.395578619995112,
          9.16273901188674,
          10
         ],
         "xaxis": "x",
         "y": [
          0,
          0,
          0,
          0,
          0,
          0,
          0,
          0,
          0,
          0,
          0,
          0,
          0,
          0,
          0,
          0,
          0,
          0,
          0,
          0,
          0,
          0,
          0,
          0,
          0,
          0,
          0,
          0,
          0,
          0,
          0,
          0,
          0,
          0,
          0,
          0,
          0,
          0,
          0,
          0,
          0,
          0,
          0,
          0,
          0,
          0,
          0,
          0,
          0,
          0,
          0,
          0,
          0,
          0,
          0,
          0,
          0,
          0,
          0,
          0,
          0,
          0,
          0,
          0,
          0,
          0,
          0,
          0,
          0,
          0,
          0,
          0,
          0,
          0,
          0,
          0,
          0,
          0,
          0,
          0
         ],
         "yaxis": "y"
        },
        {
         "hovertemplate": "variable=s1^3<br>alphas=%{x}<br>value=%{y}<extra></extra>",
         "legendgroup": "s1^3",
         "line": {
          "color": "#FFA15A",
          "dash": "solid"
         },
         "mode": "lines",
         "name": "s1^3",
         "showlegend": true,
         "type": "scattergl",
         "x": [
          0.01,
          0.010913767146512732,
          0.011911031332830068,
          0.012999422244132456,
          0.014187266741165962,
          0.015483652565854992,
          0.01689849786812457,
          0.018442627085855347,
          0.020127853758499396,
          0.021967070907932353,
          0.02397434967801077,
          0.02616504698748821,
          0.028555923019901074,
          0.031165269449294302,
          0.03401304938279253,
          0.03712105009066361,
          0.04051304969235382,
          0.04421499907374487,
          0.04825522042741279,
          0.05266462393484278,
          0.05747694424835353,
          0.06272899858196247,
          0.06846096838574658,
          0.07471670675868078,
          0.08154407395185162,
          0.08899530352885233,
          0.09712740198471168,
          0.10600258488068824,
          0.11568875283162827,
          0.12626001098748565,
          0.13779723598335575,
          0.150388694695541,
          0.1641307195375129,
          0.1791284454622004,
          0.19549661430912604,
          0.21336045265014109,
          0.23285662984981953,
          0.25413430367026363,
          0.2773562614198415,
          0.3027001653763463,
          0.33035991201283393,
          0.3605471154250504,
          0.39349272630958493,
          0.42944879887892745,
          0.46869041923141924,
          0.5115178099293143,
          0.5582586268862695,
          0.6092704661368677,
          0.6649435996665045,
          0.7257039612324216,
          0.7920164050192553,
          0.864388262059827,
          0.9433732216299778,
          1.0295755673125127,
          1.1236548001387516,
          1.2263306841775632,
          1.3383887531737577,
          1.460686320364989,
          1.5941590374559995,
          1.739828052930364,
          1.8988078244652633,
          2.0723146452190293,
          2.2616759492228646,
          2.4683404670686486,
          2.6938893095901726,
          2.940048064334711,
          3.2086999973704504,
          3.501900461431713,
          3.8218926206331187,
          4.171124612056521,
          4.55226827550731,
          4.968239594734388,
          5.422221006501586,
          5.917685748188824,
          6.458424430196978,
          7.048574036451903,
          7.692649574879146,
          8.395578619995112,
          9.16273901188674,
          10
         ],
         "xaxis": "x",
         "y": [
          0,
          0,
          0,
          0,
          0,
          0,
          0,
          0,
          0,
          0,
          0,
          0,
          0,
          0,
          0,
          0,
          0,
          0,
          0,
          0,
          0,
          0,
          0,
          0,
          0,
          0,
          0,
          0,
          0,
          0,
          0,
          0,
          0,
          0,
          0,
          0,
          0,
          0,
          0,
          0,
          0,
          0,
          0,
          0,
          0,
          0,
          0,
          0,
          0,
          0,
          0,
          0,
          0,
          0,
          0,
          0,
          0,
          0,
          0,
          0,
          0,
          0,
          0,
          0,
          0,
          0,
          0,
          0,
          0,
          0,
          0,
          0,
          0,
          0,
          0,
          0,
          0,
          0,
          0,
          0
         ],
         "yaxis": "y"
        },
        {
         "hovertemplate": "variable=s2^3<br>alphas=%{x}<br>value=%{y}<extra></extra>",
         "legendgroup": "s2^3",
         "line": {
          "color": "#19d3f3",
          "dash": "solid"
         },
         "mode": "lines",
         "name": "s2^3",
         "showlegend": true,
         "type": "scattergl",
         "x": [
          0.01,
          0.010913767146512732,
          0.011911031332830068,
          0.012999422244132456,
          0.014187266741165962,
          0.015483652565854992,
          0.01689849786812457,
          0.018442627085855347,
          0.020127853758499396,
          0.021967070907932353,
          0.02397434967801077,
          0.02616504698748821,
          0.028555923019901074,
          0.031165269449294302,
          0.03401304938279253,
          0.03712105009066361,
          0.04051304969235382,
          0.04421499907374487,
          0.04825522042741279,
          0.05266462393484278,
          0.05747694424835353,
          0.06272899858196247,
          0.06846096838574658,
          0.07471670675868078,
          0.08154407395185162,
          0.08899530352885233,
          0.09712740198471168,
          0.10600258488068824,
          0.11568875283162827,
          0.12626001098748565,
          0.13779723598335575,
          0.150388694695541,
          0.1641307195375129,
          0.1791284454622004,
          0.19549661430912604,
          0.21336045265014109,
          0.23285662984981953,
          0.25413430367026363,
          0.2773562614198415,
          0.3027001653763463,
          0.33035991201283393,
          0.3605471154250504,
          0.39349272630958493,
          0.42944879887892745,
          0.46869041923141924,
          0.5115178099293143,
          0.5582586268862695,
          0.6092704661368677,
          0.6649435996665045,
          0.7257039612324216,
          0.7920164050192553,
          0.864388262059827,
          0.9433732216299778,
          1.0295755673125127,
          1.1236548001387516,
          1.2263306841775632,
          1.3383887531737577,
          1.460686320364989,
          1.5941590374559995,
          1.739828052930364,
          1.8988078244652633,
          2.0723146452190293,
          2.2616759492228646,
          2.4683404670686486,
          2.6938893095901726,
          2.940048064334711,
          3.2086999973704504,
          3.501900461431713,
          3.8218926206331187,
          4.171124612056521,
          4.55226827550731,
          4.968239594734388,
          5.422221006501586,
          5.917685748188824,
          6.458424430196978,
          7.048574036451903,
          7.692649574879146,
          8.395578619995112,
          9.16273901188674,
          10
         ],
         "xaxis": "x",
         "y": [
          0,
          0,
          0,
          0,
          0,
          0,
          0,
          0,
          0,
          0,
          0,
          0,
          0,
          0,
          0,
          0,
          0,
          0,
          0,
          0,
          0,
          0,
          0,
          0,
          0,
          0,
          0,
          0,
          0,
          0,
          0,
          0,
          0,
          0,
          0,
          0,
          0,
          0,
          0,
          0,
          0,
          0,
          0,
          0,
          0,
          0,
          0,
          0,
          0,
          0,
          0,
          0,
          0,
          0,
          0,
          0,
          0,
          0,
          0,
          0,
          0,
          0,
          0,
          0,
          0,
          0,
          0,
          0,
          0,
          0,
          0,
          0,
          0,
          0,
          0,
          0,
          0,
          0,
          0,
          0
         ],
         "yaxis": "y"
        },
        {
         "hovertemplate": "variable=s3^3<br>alphas=%{x}<br>value=%{y}<extra></extra>",
         "legendgroup": "s3^3",
         "line": {
          "color": "#FF6692",
          "dash": "solid"
         },
         "mode": "lines",
         "name": "s3^3",
         "showlegend": true,
         "type": "scattergl",
         "x": [
          0.01,
          0.010913767146512732,
          0.011911031332830068,
          0.012999422244132456,
          0.014187266741165962,
          0.015483652565854992,
          0.01689849786812457,
          0.018442627085855347,
          0.020127853758499396,
          0.021967070907932353,
          0.02397434967801077,
          0.02616504698748821,
          0.028555923019901074,
          0.031165269449294302,
          0.03401304938279253,
          0.03712105009066361,
          0.04051304969235382,
          0.04421499907374487,
          0.04825522042741279,
          0.05266462393484278,
          0.05747694424835353,
          0.06272899858196247,
          0.06846096838574658,
          0.07471670675868078,
          0.08154407395185162,
          0.08899530352885233,
          0.09712740198471168,
          0.10600258488068824,
          0.11568875283162827,
          0.12626001098748565,
          0.13779723598335575,
          0.150388694695541,
          0.1641307195375129,
          0.1791284454622004,
          0.19549661430912604,
          0.21336045265014109,
          0.23285662984981953,
          0.25413430367026363,
          0.2773562614198415,
          0.3027001653763463,
          0.33035991201283393,
          0.3605471154250504,
          0.39349272630958493,
          0.42944879887892745,
          0.46869041923141924,
          0.5115178099293143,
          0.5582586268862695,
          0.6092704661368677,
          0.6649435996665045,
          0.7257039612324216,
          0.7920164050192553,
          0.864388262059827,
          0.9433732216299778,
          1.0295755673125127,
          1.1236548001387516,
          1.2263306841775632,
          1.3383887531737577,
          1.460686320364989,
          1.5941590374559995,
          1.739828052930364,
          1.8988078244652633,
          2.0723146452190293,
          2.2616759492228646,
          2.4683404670686486,
          2.6938893095901726,
          2.940048064334711,
          3.2086999973704504,
          3.501900461431713,
          3.8218926206331187,
          4.171124612056521,
          4.55226827550731,
          4.968239594734388,
          5.422221006501586,
          5.917685748188824,
          6.458424430196978,
          7.048574036451903,
          7.692649574879146,
          8.395578619995112,
          9.16273901188674,
          10
         ],
         "xaxis": "x",
         "y": [
          0,
          0,
          0,
          0,
          0,
          0,
          0,
          0,
          0,
          0,
          0,
          0,
          0,
          0,
          0,
          0,
          0,
          0,
          0,
          0,
          0,
          0,
          0,
          0,
          0,
          0,
          0,
          0,
          0,
          0,
          0,
          0,
          0,
          0,
          0,
          0,
          0,
          0,
          0,
          0,
          0,
          0,
          0,
          0,
          0,
          0,
          0,
          0,
          0,
          0,
          0,
          0,
          0,
          0,
          0,
          0,
          0,
          0,
          0,
          0,
          0,
          0,
          0,
          0,
          0,
          0,
          0,
          0,
          0,
          0,
          0,
          0,
          0,
          0,
          0,
          0,
          0,
          0,
          0,
          0
         ],
         "yaxis": "y"
        },
        {
         "hovertemplate": "variable=s4^3<br>alphas=%{x}<br>value=%{y}<extra></extra>",
         "legendgroup": "s4^3",
         "line": {
          "color": "#B6E880",
          "dash": "solid"
         },
         "mode": "lines",
         "name": "s4^3",
         "showlegend": true,
         "type": "scattergl",
         "x": [
          0.01,
          0.010913767146512732,
          0.011911031332830068,
          0.012999422244132456,
          0.014187266741165962,
          0.015483652565854992,
          0.01689849786812457,
          0.018442627085855347,
          0.020127853758499396,
          0.021967070907932353,
          0.02397434967801077,
          0.02616504698748821,
          0.028555923019901074,
          0.031165269449294302,
          0.03401304938279253,
          0.03712105009066361,
          0.04051304969235382,
          0.04421499907374487,
          0.04825522042741279,
          0.05266462393484278,
          0.05747694424835353,
          0.06272899858196247,
          0.06846096838574658,
          0.07471670675868078,
          0.08154407395185162,
          0.08899530352885233,
          0.09712740198471168,
          0.10600258488068824,
          0.11568875283162827,
          0.12626001098748565,
          0.13779723598335575,
          0.150388694695541,
          0.1641307195375129,
          0.1791284454622004,
          0.19549661430912604,
          0.21336045265014109,
          0.23285662984981953,
          0.25413430367026363,
          0.2773562614198415,
          0.3027001653763463,
          0.33035991201283393,
          0.3605471154250504,
          0.39349272630958493,
          0.42944879887892745,
          0.46869041923141924,
          0.5115178099293143,
          0.5582586268862695,
          0.6092704661368677,
          0.6649435996665045,
          0.7257039612324216,
          0.7920164050192553,
          0.864388262059827,
          0.9433732216299778,
          1.0295755673125127,
          1.1236548001387516,
          1.2263306841775632,
          1.3383887531737577,
          1.460686320364989,
          1.5941590374559995,
          1.739828052930364,
          1.8988078244652633,
          2.0723146452190293,
          2.2616759492228646,
          2.4683404670686486,
          2.6938893095901726,
          2.940048064334711,
          3.2086999973704504,
          3.501900461431713,
          3.8218926206331187,
          4.171124612056521,
          4.55226827550731,
          4.968239594734388,
          5.422221006501586,
          5.917685748188824,
          6.458424430196978,
          7.048574036451903,
          7.692649574879146,
          8.395578619995112,
          9.16273901188674,
          10
         ],
         "xaxis": "x",
         "y": [
          0,
          0,
          0,
          0,
          0,
          0,
          0,
          0,
          0,
          0,
          0,
          0,
          0,
          0,
          0,
          0,
          0,
          0,
          0,
          0,
          0,
          0,
          0,
          0,
          0,
          0,
          0,
          0,
          0,
          0,
          0,
          0,
          0,
          0,
          0,
          0,
          0,
          0,
          0,
          0,
          0,
          0,
          0,
          0,
          0,
          0,
          0,
          0,
          0,
          0,
          0,
          0,
          0,
          0,
          0,
          0,
          0,
          0,
          0,
          0,
          0,
          0,
          0,
          0,
          0,
          0,
          0,
          0,
          0,
          0,
          0,
          0,
          0,
          0,
          0,
          0,
          0,
          0,
          0,
          0
         ],
         "yaxis": "y"
        },
        {
         "hovertemplate": "variable=s5^3<br>alphas=%{x}<br>value=%{y}<extra></extra>",
         "legendgroup": "s5^3",
         "line": {
          "color": "#FF97FF",
          "dash": "solid"
         },
         "mode": "lines",
         "name": "s5^3",
         "showlegend": true,
         "type": "scattergl",
         "x": [
          0.01,
          0.010913767146512732,
          0.011911031332830068,
          0.012999422244132456,
          0.014187266741165962,
          0.015483652565854992,
          0.01689849786812457,
          0.018442627085855347,
          0.020127853758499396,
          0.021967070907932353,
          0.02397434967801077,
          0.02616504698748821,
          0.028555923019901074,
          0.031165269449294302,
          0.03401304938279253,
          0.03712105009066361,
          0.04051304969235382,
          0.04421499907374487,
          0.04825522042741279,
          0.05266462393484278,
          0.05747694424835353,
          0.06272899858196247,
          0.06846096838574658,
          0.07471670675868078,
          0.08154407395185162,
          0.08899530352885233,
          0.09712740198471168,
          0.10600258488068824,
          0.11568875283162827,
          0.12626001098748565,
          0.13779723598335575,
          0.150388694695541,
          0.1641307195375129,
          0.1791284454622004,
          0.19549661430912604,
          0.21336045265014109,
          0.23285662984981953,
          0.25413430367026363,
          0.2773562614198415,
          0.3027001653763463,
          0.33035991201283393,
          0.3605471154250504,
          0.39349272630958493,
          0.42944879887892745,
          0.46869041923141924,
          0.5115178099293143,
          0.5582586268862695,
          0.6092704661368677,
          0.6649435996665045,
          0.7257039612324216,
          0.7920164050192553,
          0.864388262059827,
          0.9433732216299778,
          1.0295755673125127,
          1.1236548001387516,
          1.2263306841775632,
          1.3383887531737577,
          1.460686320364989,
          1.5941590374559995,
          1.739828052930364,
          1.8988078244652633,
          2.0723146452190293,
          2.2616759492228646,
          2.4683404670686486,
          2.6938893095901726,
          2.940048064334711,
          3.2086999973704504,
          3.501900461431713,
          3.8218926206331187,
          4.171124612056521,
          4.55226827550731,
          4.968239594734388,
          5.422221006501586,
          5.917685748188824,
          6.458424430196978,
          7.048574036451903,
          7.692649574879146,
          8.395578619995112,
          9.16273901188674,
          10
         ],
         "xaxis": "x",
         "y": [
          0,
          0,
          0,
          0,
          0,
          0,
          0,
          0,
          0,
          0,
          0,
          0,
          0,
          0,
          0,
          0,
          0,
          0,
          0,
          0,
          0,
          0,
          0,
          0,
          0,
          0,
          0,
          0,
          0,
          0,
          0,
          0,
          0,
          0,
          0,
          0,
          0,
          0,
          0,
          0,
          0,
          0,
          0,
          0,
          0,
          0,
          0,
          0,
          0,
          0,
          0,
          0,
          0,
          0,
          0,
          0,
          0,
          0,
          0,
          0,
          0,
          0,
          0,
          0,
          0,
          0,
          0,
          0,
          0,
          0,
          0,
          0,
          0,
          0,
          0,
          0,
          0,
          0,
          0,
          0
         ],
         "yaxis": "y"
        },
        {
         "hovertemplate": "variable=s6^3<br>alphas=%{x}<br>value=%{y}<extra></extra>",
         "legendgroup": "s6^3",
         "line": {
          "color": "#FECB52",
          "dash": "solid"
         },
         "mode": "lines",
         "name": "s6^3",
         "showlegend": true,
         "type": "scattergl",
         "x": [
          0.01,
          0.010913767146512732,
          0.011911031332830068,
          0.012999422244132456,
          0.014187266741165962,
          0.015483652565854992,
          0.01689849786812457,
          0.018442627085855347,
          0.020127853758499396,
          0.021967070907932353,
          0.02397434967801077,
          0.02616504698748821,
          0.028555923019901074,
          0.031165269449294302,
          0.03401304938279253,
          0.03712105009066361,
          0.04051304969235382,
          0.04421499907374487,
          0.04825522042741279,
          0.05266462393484278,
          0.05747694424835353,
          0.06272899858196247,
          0.06846096838574658,
          0.07471670675868078,
          0.08154407395185162,
          0.08899530352885233,
          0.09712740198471168,
          0.10600258488068824,
          0.11568875283162827,
          0.12626001098748565,
          0.13779723598335575,
          0.150388694695541,
          0.1641307195375129,
          0.1791284454622004,
          0.19549661430912604,
          0.21336045265014109,
          0.23285662984981953,
          0.25413430367026363,
          0.2773562614198415,
          0.3027001653763463,
          0.33035991201283393,
          0.3605471154250504,
          0.39349272630958493,
          0.42944879887892745,
          0.46869041923141924,
          0.5115178099293143,
          0.5582586268862695,
          0.6092704661368677,
          0.6649435996665045,
          0.7257039612324216,
          0.7920164050192553,
          0.864388262059827,
          0.9433732216299778,
          1.0295755673125127,
          1.1236548001387516,
          1.2263306841775632,
          1.3383887531737577,
          1.460686320364989,
          1.5941590374559995,
          1.739828052930364,
          1.8988078244652633,
          2.0723146452190293,
          2.2616759492228646,
          2.4683404670686486,
          2.6938893095901726,
          2.940048064334711,
          3.2086999973704504,
          3.501900461431713,
          3.8218926206331187,
          4.171124612056521,
          4.55226827550731,
          4.968239594734388,
          5.422221006501586,
          5.917685748188824,
          6.458424430196978,
          7.048574036451903,
          7.692649574879146,
          8.395578619995112,
          9.16273901188674,
          10
         ],
         "xaxis": "x",
         "y": [
          0,
          0,
          0,
          0,
          0,
          0,
          0,
          0,
          0,
          0,
          0,
          0,
          0,
          0,
          0,
          0,
          0,
          0,
          0,
          0,
          0,
          0,
          0,
          0,
          0,
          0,
          0,
          0,
          0,
          0,
          0,
          0,
          0,
          0,
          0,
          0,
          0,
          0,
          0,
          0,
          0,
          0,
          0,
          0,
          0,
          0,
          0,
          0,
          0,
          0,
          0,
          0,
          0,
          0,
          0,
          0,
          0,
          0,
          0,
          0,
          0,
          0,
          0,
          0,
          0,
          0,
          0,
          0,
          0,
          0,
          0,
          0,
          0,
          0,
          0,
          0,
          0,
          0,
          0,
          0
         ],
         "yaxis": "y"
        }
       ],
       "layout": {
        "legend": {
         "title": {
          "text": "variable"
         },
         "tracegroupgap": 0
        },
        "margin": {
         "t": 60
        },
        "template": {
         "data": {
          "bar": [
           {
            "error_x": {
             "color": "#2a3f5f"
            },
            "error_y": {
             "color": "#2a3f5f"
            },
            "marker": {
             "line": {
              "color": "#E5ECF6",
              "width": 0.5
             }
            },
            "type": "bar"
           }
          ],
          "barpolar": [
           {
            "marker": {
             "line": {
              "color": "#E5ECF6",
              "width": 0.5
             }
            },
            "type": "barpolar"
           }
          ],
          "carpet": [
           {
            "aaxis": {
             "endlinecolor": "#2a3f5f",
             "gridcolor": "white",
             "linecolor": "white",
             "minorgridcolor": "white",
             "startlinecolor": "#2a3f5f"
            },
            "baxis": {
             "endlinecolor": "#2a3f5f",
             "gridcolor": "white",
             "linecolor": "white",
             "minorgridcolor": "white",
             "startlinecolor": "#2a3f5f"
            },
            "type": "carpet"
           }
          ],
          "choropleth": [
           {
            "colorbar": {
             "outlinewidth": 0,
             "ticks": ""
            },
            "type": "choropleth"
           }
          ],
          "contour": [
           {
            "colorbar": {
             "outlinewidth": 0,
             "ticks": ""
            },
            "colorscale": [
             [
              0,
              "#0d0887"
             ],
             [
              0.1111111111111111,
              "#46039f"
             ],
             [
              0.2222222222222222,
              "#7201a8"
             ],
             [
              0.3333333333333333,
              "#9c179e"
             ],
             [
              0.4444444444444444,
              "#bd3786"
             ],
             [
              0.5555555555555556,
              "#d8576b"
             ],
             [
              0.6666666666666666,
              "#ed7953"
             ],
             [
              0.7777777777777778,
              "#fb9f3a"
             ],
             [
              0.8888888888888888,
              "#fdca26"
             ],
             [
              1,
              "#f0f921"
             ]
            ],
            "type": "contour"
           }
          ],
          "contourcarpet": [
           {
            "colorbar": {
             "outlinewidth": 0,
             "ticks": ""
            },
            "type": "contourcarpet"
           }
          ],
          "heatmap": [
           {
            "colorbar": {
             "outlinewidth": 0,
             "ticks": ""
            },
            "colorscale": [
             [
              0,
              "#0d0887"
             ],
             [
              0.1111111111111111,
              "#46039f"
             ],
             [
              0.2222222222222222,
              "#7201a8"
             ],
             [
              0.3333333333333333,
              "#9c179e"
             ],
             [
              0.4444444444444444,
              "#bd3786"
             ],
             [
              0.5555555555555556,
              "#d8576b"
             ],
             [
              0.6666666666666666,
              "#ed7953"
             ],
             [
              0.7777777777777778,
              "#fb9f3a"
             ],
             [
              0.8888888888888888,
              "#fdca26"
             ],
             [
              1,
              "#f0f921"
             ]
            ],
            "type": "heatmap"
           }
          ],
          "heatmapgl": [
           {
            "colorbar": {
             "outlinewidth": 0,
             "ticks": ""
            },
            "colorscale": [
             [
              0,
              "#0d0887"
             ],
             [
              0.1111111111111111,
              "#46039f"
             ],
             [
              0.2222222222222222,
              "#7201a8"
             ],
             [
              0.3333333333333333,
              "#9c179e"
             ],
             [
              0.4444444444444444,
              "#bd3786"
             ],
             [
              0.5555555555555556,
              "#d8576b"
             ],
             [
              0.6666666666666666,
              "#ed7953"
             ],
             [
              0.7777777777777778,
              "#fb9f3a"
             ],
             [
              0.8888888888888888,
              "#fdca26"
             ],
             [
              1,
              "#f0f921"
             ]
            ],
            "type": "heatmapgl"
           }
          ],
          "histogram": [
           {
            "marker": {
             "colorbar": {
              "outlinewidth": 0,
              "ticks": ""
             }
            },
            "type": "histogram"
           }
          ],
          "histogram2d": [
           {
            "colorbar": {
             "outlinewidth": 0,
             "ticks": ""
            },
            "colorscale": [
             [
              0,
              "#0d0887"
             ],
             [
              0.1111111111111111,
              "#46039f"
             ],
             [
              0.2222222222222222,
              "#7201a8"
             ],
             [
              0.3333333333333333,
              "#9c179e"
             ],
             [
              0.4444444444444444,
              "#bd3786"
             ],
             [
              0.5555555555555556,
              "#d8576b"
             ],
             [
              0.6666666666666666,
              "#ed7953"
             ],
             [
              0.7777777777777778,
              "#fb9f3a"
             ],
             [
              0.8888888888888888,
              "#fdca26"
             ],
             [
              1,
              "#f0f921"
             ]
            ],
            "type": "histogram2d"
           }
          ],
          "histogram2dcontour": [
           {
            "colorbar": {
             "outlinewidth": 0,
             "ticks": ""
            },
            "colorscale": [
             [
              0,
              "#0d0887"
             ],
             [
              0.1111111111111111,
              "#46039f"
             ],
             [
              0.2222222222222222,
              "#7201a8"
             ],
             [
              0.3333333333333333,
              "#9c179e"
             ],
             [
              0.4444444444444444,
              "#bd3786"
             ],
             [
              0.5555555555555556,
              "#d8576b"
             ],
             [
              0.6666666666666666,
              "#ed7953"
             ],
             [
              0.7777777777777778,
              "#fb9f3a"
             ],
             [
              0.8888888888888888,
              "#fdca26"
             ],
             [
              1,
              "#f0f921"
             ]
            ],
            "type": "histogram2dcontour"
           }
          ],
          "mesh3d": [
           {
            "colorbar": {
             "outlinewidth": 0,
             "ticks": ""
            },
            "type": "mesh3d"
           }
          ],
          "parcoords": [
           {
            "line": {
             "colorbar": {
              "outlinewidth": 0,
              "ticks": ""
             }
            },
            "type": "parcoords"
           }
          ],
          "pie": [
           {
            "automargin": true,
            "type": "pie"
           }
          ],
          "scatter": [
           {
            "marker": {
             "colorbar": {
              "outlinewidth": 0,
              "ticks": ""
             }
            },
            "type": "scatter"
           }
          ],
          "scatter3d": [
           {
            "line": {
             "colorbar": {
              "outlinewidth": 0,
              "ticks": ""
             }
            },
            "marker": {
             "colorbar": {
              "outlinewidth": 0,
              "ticks": ""
             }
            },
            "type": "scatter3d"
           }
          ],
          "scattercarpet": [
           {
            "marker": {
             "colorbar": {
              "outlinewidth": 0,
              "ticks": ""
             }
            },
            "type": "scattercarpet"
           }
          ],
          "scattergeo": [
           {
            "marker": {
             "colorbar": {
              "outlinewidth": 0,
              "ticks": ""
             }
            },
            "type": "scattergeo"
           }
          ],
          "scattergl": [
           {
            "marker": {
             "colorbar": {
              "outlinewidth": 0,
              "ticks": ""
             }
            },
            "type": "scattergl"
           }
          ],
          "scattermapbox": [
           {
            "marker": {
             "colorbar": {
              "outlinewidth": 0,
              "ticks": ""
             }
            },
            "type": "scattermapbox"
           }
          ],
          "scatterpolar": [
           {
            "marker": {
             "colorbar": {
              "outlinewidth": 0,
              "ticks": ""
             }
            },
            "type": "scatterpolar"
           }
          ],
          "scatterpolargl": [
           {
            "marker": {
             "colorbar": {
              "outlinewidth": 0,
              "ticks": ""
             }
            },
            "type": "scatterpolargl"
           }
          ],
          "scatterternary": [
           {
            "marker": {
             "colorbar": {
              "outlinewidth": 0,
              "ticks": ""
             }
            },
            "type": "scatterternary"
           }
          ],
          "surface": [
           {
            "colorbar": {
             "outlinewidth": 0,
             "ticks": ""
            },
            "colorscale": [
             [
              0,
              "#0d0887"
             ],
             [
              0.1111111111111111,
              "#46039f"
             ],
             [
              0.2222222222222222,
              "#7201a8"
             ],
             [
              0.3333333333333333,
              "#9c179e"
             ],
             [
              0.4444444444444444,
              "#bd3786"
             ],
             [
              0.5555555555555556,
              "#d8576b"
             ],
             [
              0.6666666666666666,
              "#ed7953"
             ],
             [
              0.7777777777777778,
              "#fb9f3a"
             ],
             [
              0.8888888888888888,
              "#fdca26"
             ],
             [
              1,
              "#f0f921"
             ]
            ],
            "type": "surface"
           }
          ],
          "table": [
           {
            "cells": {
             "fill": {
              "color": "#EBF0F8"
             },
             "line": {
              "color": "white"
             }
            },
            "header": {
             "fill": {
              "color": "#C8D4E3"
             },
             "line": {
              "color": "white"
             }
            },
            "type": "table"
           }
          ]
         },
         "layout": {
          "annotationdefaults": {
           "arrowcolor": "#2a3f5f",
           "arrowhead": 0,
           "arrowwidth": 1
          },
          "coloraxis": {
           "colorbar": {
            "outlinewidth": 0,
            "ticks": ""
           }
          },
          "colorscale": {
           "diverging": [
            [
             0,
             "#8e0152"
            ],
            [
             0.1,
             "#c51b7d"
            ],
            [
             0.2,
             "#de77ae"
            ],
            [
             0.3,
             "#f1b6da"
            ],
            [
             0.4,
             "#fde0ef"
            ],
            [
             0.5,
             "#f7f7f7"
            ],
            [
             0.6,
             "#e6f5d0"
            ],
            [
             0.7,
             "#b8e186"
            ],
            [
             0.8,
             "#7fbc41"
            ],
            [
             0.9,
             "#4d9221"
            ],
            [
             1,
             "#276419"
            ]
           ],
           "sequential": [
            [
             0,
             "#0d0887"
            ],
            [
             0.1111111111111111,
             "#46039f"
            ],
            [
             0.2222222222222222,
             "#7201a8"
            ],
            [
             0.3333333333333333,
             "#9c179e"
            ],
            [
             0.4444444444444444,
             "#bd3786"
            ],
            [
             0.5555555555555556,
             "#d8576b"
            ],
            [
             0.6666666666666666,
             "#ed7953"
            ],
            [
             0.7777777777777778,
             "#fb9f3a"
            ],
            [
             0.8888888888888888,
             "#fdca26"
            ],
            [
             1,
             "#f0f921"
            ]
           ],
           "sequentialminus": [
            [
             0,
             "#0d0887"
            ],
            [
             0.1111111111111111,
             "#46039f"
            ],
            [
             0.2222222222222222,
             "#7201a8"
            ],
            [
             0.3333333333333333,
             "#9c179e"
            ],
            [
             0.4444444444444444,
             "#bd3786"
            ],
            [
             0.5555555555555556,
             "#d8576b"
            ],
            [
             0.6666666666666666,
             "#ed7953"
            ],
            [
             0.7777777777777778,
             "#fb9f3a"
            ],
            [
             0.8888888888888888,
             "#fdca26"
            ],
            [
             1,
             "#f0f921"
            ]
           ]
          },
          "colorway": [
           "#636efa",
           "#EF553B",
           "#00cc96",
           "#ab63fa",
           "#FFA15A",
           "#19d3f3",
           "#FF6692",
           "#B6E880",
           "#FF97FF",
           "#FECB52"
          ],
          "font": {
           "color": "#2a3f5f"
          },
          "geo": {
           "bgcolor": "white",
           "lakecolor": "white",
           "landcolor": "#E5ECF6",
           "showlakes": true,
           "showland": true,
           "subunitcolor": "white"
          },
          "hoverlabel": {
           "align": "left"
          },
          "hovermode": "closest",
          "mapbox": {
           "style": "light"
          },
          "paper_bgcolor": "white",
          "plot_bgcolor": "#E5ECF6",
          "polar": {
           "angularaxis": {
            "gridcolor": "white",
            "linecolor": "white",
            "ticks": ""
           },
           "bgcolor": "#E5ECF6",
           "radialaxis": {
            "gridcolor": "white",
            "linecolor": "white",
            "ticks": ""
           }
          },
          "scene": {
           "xaxis": {
            "backgroundcolor": "#E5ECF6",
            "gridcolor": "white",
            "gridwidth": 2,
            "linecolor": "white",
            "showbackground": true,
            "ticks": "",
            "zerolinecolor": "white"
           },
           "yaxis": {
            "backgroundcolor": "#E5ECF6",
            "gridcolor": "white",
            "gridwidth": 2,
            "linecolor": "white",
            "showbackground": true,
            "ticks": "",
            "zerolinecolor": "white"
           },
           "zaxis": {
            "backgroundcolor": "#E5ECF6",
            "gridcolor": "white",
            "gridwidth": 2,
            "linecolor": "white",
            "showbackground": true,
            "ticks": "",
            "zerolinecolor": "white"
           }
          },
          "shapedefaults": {
           "line": {
            "color": "#2a3f5f"
           }
          },
          "ternary": {
           "aaxis": {
            "gridcolor": "white",
            "linecolor": "white",
            "ticks": ""
           },
           "baxis": {
            "gridcolor": "white",
            "linecolor": "white",
            "ticks": ""
           },
           "bgcolor": "#E5ECF6",
           "caxis": {
            "gridcolor": "white",
            "linecolor": "white",
            "ticks": ""
           }
          },
          "title": {
           "x": 0.05
          },
          "xaxis": {
           "automargin": true,
           "gridcolor": "white",
           "linecolor": "white",
           "ticks": "",
           "title": {
            "standoff": 15
           },
           "zerolinecolor": "white",
           "zerolinewidth": 2
          },
          "yaxis": {
           "automargin": true,
           "gridcolor": "white",
           "linecolor": "white",
           "ticks": "",
           "title": {
            "standoff": 15
           },
           "zerolinecolor": "white",
           "zerolinewidth": 2
          }
         }
        },
        "xaxis": {
         "anchor": "y",
         "domain": [
          0,
          1
         ],
         "title": {
          "text": "alphas"
         },
         "type": "log"
        },
        "yaxis": {
         "anchor": "x",
         "domain": [
          0,
          1
         ],
         "title": {
          "text": "value"
         }
        }
       }
      },
      "text/html": "<div>                            <div id=\"e60b94ed-1475-49cc-8b06-e73c5b281a4a\" class=\"plotly-graph-div\" style=\"height:525px; width:100%;\"></div>            <script type=\"text/javascript\">                require([\"plotly\"], function(Plotly) {                    window.PLOTLYENV=window.PLOTLYENV || {};                                    if (document.getElementById(\"e60b94ed-1475-49cc-8b06-e73c5b281a4a\")) {                    Plotly.newPlot(                        \"e60b94ed-1475-49cc-8b06-e73c5b281a4a\",                        [{\"hovertemplate\": \"variable=age<br>alphas=%{x}<br>value=%{y}<extra></extra>\", \"legendgroup\": \"age\", \"line\": {\"color\": \"#636efa\", \"dash\": \"solid\"}, \"mode\": \"lines\", \"name\": \"age\", \"showlegend\": true, \"type\": \"scattergl\", \"x\": [0.01, 0.010913767146512732, 0.011911031332830068, 0.012999422244132456, 0.014187266741165962, 0.015483652565854992, 0.01689849786812457, 0.018442627085855347, 0.020127853758499396, 0.021967070907932353, 0.02397434967801077, 0.02616504698748821, 0.028555923019901074, 0.031165269449294302, 0.03401304938279253, 0.03712105009066361, 0.04051304969235382, 0.04421499907374487, 0.04825522042741279, 0.05266462393484278, 0.05747694424835353, 0.06272899858196247, 0.06846096838574658, 0.07471670675868078, 0.08154407395185162, 0.08899530352885233, 0.09712740198471168, 0.10600258488068824, 0.11568875283162827, 0.12626001098748565, 0.13779723598335575, 0.150388694695541, 0.1641307195375129, 0.1791284454622004, 0.19549661430912604, 0.21336045265014109, 0.23285662984981953, 0.25413430367026363, 0.2773562614198415, 0.3027001653763463, 0.33035991201283393, 0.3605471154250504, 0.39349272630958493, 0.42944879887892745, 0.46869041923141924, 0.5115178099293143, 0.5582586268862695, 0.6092704661368677, 0.6649435996665045, 0.7257039612324216, 0.7920164050192553, 0.864388262059827, 0.9433732216299778, 1.0295755673125127, 1.1236548001387516, 1.2263306841775632, 1.3383887531737577, 1.460686320364989, 1.5941590374559995, 1.739828052930364, 1.8988078244652633, 2.0723146452190293, 2.2616759492228646, 2.4683404670686486, 2.6938893095901726, 2.940048064334711, 3.2086999973704504, 3.501900461431713, 3.8218926206331187, 4.171124612056521, 4.55226827550731, 4.968239594734388, 5.422221006501586, 5.917685748188824, 6.458424430196978, 7.048574036451903, 7.692649574879146, 8.395578619995112, 9.16273901188674, 10.0], \"xaxis\": \"x\", \"y\": [5.059044872892405, 2.019469541308023, 0.0, 0.0, -0.0, -0.0, -0.0, -0.0, -0.0, -0.0, -0.0, -0.0, -0.0, -0.0, -0.0, -0.0, -0.0, -0.0, -0.0, -0.0, -0.0, -0.0, -0.0, -0.0, -0.0, -0.0, -0.0, 0.0, 0.0, 0.0, 0.0, 0.0, 0.0, 0.0, 0.0, 0.0, 0.0, 0.0, 0.0, 0.0, 0.0, 0.0, 0.0, 0.0, 0.0, 0.0, 0.0, 0.0, 0.0, 0.0, 0.0, 0.0, 0.0, 0.0, 0.0, 0.0, 0.0, 0.0, 0.0, 0.0, 0.0, 0.0, 0.0, 0.0, 0.0, 0.0, 0.0, 0.0, 0.0, 0.0, 0.0, 0.0, 0.0, 0.0, 0.0, 0.0, 0.0, 0.0, 0.0, 0.0], \"yaxis\": \"y\"}, {\"hovertemplate\": \"variable=sex<br>alphas=%{x}<br>value=%{y}<extra></extra>\", \"legendgroup\": \"sex\", \"line\": {\"color\": \"#EF553B\", \"dash\": \"solid\"}, \"mode\": \"lines\", \"name\": \"sex\", \"showlegend\": true, \"type\": \"scattergl\", \"x\": [0.01, 0.010913767146512732, 0.011911031332830068, 0.012999422244132456, 0.014187266741165962, 0.015483652565854992, 0.01689849786812457, 0.018442627085855347, 0.020127853758499396, 0.021967070907932353, 0.02397434967801077, 0.02616504698748821, 0.028555923019901074, 0.031165269449294302, 0.03401304938279253, 0.03712105009066361, 0.04051304969235382, 0.04421499907374487, 0.04825522042741279, 0.05266462393484278, 0.05747694424835353, 0.06272899858196247, 0.06846096838574658, 0.07471670675868078, 0.08154407395185162, 0.08899530352885233, 0.09712740198471168, 0.10600258488068824, 0.11568875283162827, 0.12626001098748565, 0.13779723598335575, 0.150388694695541, 0.1641307195375129, 0.1791284454622004, 0.19549661430912604, 0.21336045265014109, 0.23285662984981953, 0.25413430367026363, 0.2773562614198415, 0.3027001653763463, 0.33035991201283393, 0.3605471154250504, 0.39349272630958493, 0.42944879887892745, 0.46869041923141924, 0.5115178099293143, 0.5582586268862695, 0.6092704661368677, 0.6649435996665045, 0.7257039612324216, 0.7920164050192553, 0.864388262059827, 0.9433732216299778, 1.0295755673125127, 1.1236548001387516, 1.2263306841775632, 1.3383887531737577, 1.460686320364989, 1.5941590374559995, 1.739828052930364, 1.8988078244652633, 2.0723146452190293, 2.2616759492228646, 2.4683404670686486, 2.6938893095901726, 2.940048064334711, 3.2086999973704504, 3.501900461431713, 3.8218926206331187, 4.171124612056521, 4.55226827550731, 4.968239594734388, 5.422221006501586, 5.917685748188824, 6.458424430196978, 7.048574036451903, 7.692649574879146, 8.395578619995112, 9.16273901188674, 10.0], \"xaxis\": \"x\", \"y\": [-223.46049859605165, -222.72490649681467, -222.041585099712, -221.49873864649132, -221.0586252898385, -220.63268431208638, -219.94291501921197, -219.19431582210808, -218.37726025694633, -217.48565966675596, -216.1320179594773, -214.23816840968934, -212.1709829714769, -209.91438301614704, -207.45059345026698, -204.76237378744187, -201.82998589020792, -198.627531684174, -195.39819138114188, -191.98507425933926, -188.26134574344945, -184.19769122810166, -179.76249005459042, -174.92176560918656, -169.63846332951584, -163.8737063281848, -157.58449528417603, -150.70559007542283, -143.2093596005265, -135.04376614143246, -126.10965763465178, -116.36668828837904, -105.2574790625583, -92.86124575275362, -79.33588970194357, -64.87041339081833, -49.2565091272868, -32.21585758927429, -13.618087298200843, -0.0, -0.0, -0.0, -0.0, -0.0, -0.0, -0.0, -0.0, -0.0, -0.0, -0.0, -0.0, -0.0, -0.0, -0.0, -0.0, 0.0, 0.0, 0.0, 0.0, 0.0, 0.0, 0.0, 0.0, 0.0, 0.0, 0.0, 0.0, 0.0, 0.0, 0.0, 0.0, 0.0, 0.0, 0.0, 0.0, 0.0, 0.0, 0.0, 0.0, 0.0], \"yaxis\": \"y\"}, {\"hovertemplate\": \"variable=bmi<br>alphas=%{x}<br>value=%{y}<extra></extra>\", \"legendgroup\": \"bmi\", \"line\": {\"color\": \"#00cc96\", \"dash\": \"solid\"}, \"mode\": \"lines\", \"name\": \"bmi\", \"showlegend\": true, \"type\": \"scattergl\", \"x\": [0.01, 0.010913767146512732, 0.011911031332830068, 0.012999422244132456, 0.014187266741165962, 0.015483652565854992, 0.01689849786812457, 0.018442627085855347, 0.020127853758499396, 0.021967070907932353, 0.02397434967801077, 0.02616504698748821, 0.028555923019901074, 0.031165269449294302, 0.03401304938279253, 0.03712105009066361, 0.04051304969235382, 0.04421499907374487, 0.04825522042741279, 0.05266462393484278, 0.05747694424835353, 0.06272899858196247, 0.06846096838574658, 0.07471670675868078, 0.08154407395185162, 0.08899530352885233, 0.09712740198471168, 0.10600258488068824, 0.11568875283162827, 0.12626001098748565, 0.13779723598335575, 0.150388694695541, 0.1641307195375129, 0.1791284454622004, 0.19549661430912604, 0.21336045265014109, 0.23285662984981953, 0.25413430367026363, 0.2773562614198415, 0.3027001653763463, 0.33035991201283393, 0.3605471154250504, 0.39349272630958493, 0.42944879887892745, 0.46869041923141924, 0.5115178099293143, 0.5582586268862695, 0.6092704661368677, 0.6649435996665045, 0.7257039612324216, 0.7920164050192553, 0.864388262059827, 0.9433732216299778, 1.0295755673125127, 1.1236548001387516, 1.2263306841775632, 1.3383887531737577, 1.460686320364989, 1.5941590374559995, 1.739828052930364, 1.8988078244652633, 2.0723146452190293, 2.2616759492228646, 2.4683404670686486, 2.6938893095901726, 2.940048064334711, 3.2086999973704504, 3.501900461431713, 3.8218926206331187, 4.171124612056521, 4.55226827550731, 4.968239594734388, 5.422221006501586, 5.917685748188824, 6.458424430196978, 7.048574036451903, 7.692649574879146, 8.395578619995112, 9.16273901188674, 10.0], \"xaxis\": \"x\", \"y\": [511.80220166593074, 515.4473046001913, 519.3235313791912, 523.3808132884711, 527.3231232678771, 528.2595407397082, 527.7194520576089, 527.120800496991, 526.4675598306885, 525.7543762765719, 525.2244860899814, 524.914653469627, 524.5771062523571, 524.209819213622, 523.8110628440518, 523.3743823796035, 522.8946843963867, 522.3756258494046, 521.9795227093682, 521.5735783701093, 521.1280975124076, 520.6411946176889, 520.110138154191, 519.5309727670973, 518.8993259411443, 518.2079244517403, 517.4498132559303, 516.6472050028058, 515.75259987471, 514.7521467089289, 513.6955335527922, 512.5331674589399, 511.9709677919824, 511.7350914023338, 511.4722632287535, 510.6135266554792, 509.4300024864154, 508.1383317670721, 506.7286324209841, 504.28853825375006, 499.63408822604885, 494.54239214744814, 488.9896751553008, 482.9295691270232, 476.3157105194431, 469.0974992411342, 461.21971153055455, 452.62207746026206, 443.2388198348527, 432.2698455301515, 416.6609896545387, 399.6225074421385, 381.0307826680168, 360.3889849496285, 331.64322351469104, 300.26326349868475, 266.01398705894655, 228.63425341506706, 187.83888251626973, 143.31576465176104, 94.72427055076092, 33.472187197310575, 0.0, 0.0, 0.0, 0.0, 0.0, 0.0, 0.0, 0.0, 0.0, 0.0, 0.0, 0.0, 0.0, 0.0, 0.0, 0.0, 0.0, 0.0], \"yaxis\": \"y\"}, {\"hovertemplate\": \"variable=bp<br>alphas=%{x}<br>value=%{y}<extra></extra>\", \"legendgroup\": \"bp\", \"line\": {\"color\": \"#ab63fa\", \"dash\": \"solid\"}, \"mode\": \"lines\", \"name\": \"bp\", \"showlegend\": true, \"type\": \"scattergl\", \"x\": [0.01, 0.010913767146512732, 0.011911031332830068, 0.012999422244132456, 0.014187266741165962, 0.015483652565854992, 0.01689849786812457, 0.018442627085855347, 0.020127853758499396, 0.021967070907932353, 0.02397434967801077, 0.02616504698748821, 0.028555923019901074, 0.031165269449294302, 0.03401304938279253, 0.03712105009066361, 0.04051304969235382, 0.04421499907374487, 0.04825522042741279, 0.05266462393484278, 0.05747694424835353, 0.06272899858196247, 0.06846096838574658, 0.07471670675868078, 0.08154407395185162, 0.08899530352885233, 0.09712740198471168, 0.10600258488068824, 0.11568875283162827, 0.12626001098748565, 0.13779723598335575, 0.150388694695541, 0.1641307195375129, 0.1791284454622004, 0.19549661430912604, 0.21336045265014109, 0.23285662984981953, 0.25413430367026363, 0.2773562614198415, 0.3027001653763463, 0.33035991201283393, 0.3605471154250504, 0.39349272630958493, 0.42944879887892745, 0.46869041923141924, 0.5115178099293143, 0.5582586268862695, 0.6092704661368677, 0.6649435996665045, 0.7257039612324216, 0.7920164050192553, 0.864388262059827, 0.9433732216299778, 1.0295755673125127, 1.1236548001387516, 1.2263306841775632, 1.3383887531737577, 1.460686320364989, 1.5941590374559995, 1.739828052930364, 1.8988078244652633, 2.0723146452190293, 2.2616759492228646, 2.4683404670686486, 2.6938893095901726, 2.940048064334711, 3.2086999973704504, 3.501900461431713, 3.8218926206331187, 4.171124612056521, 4.55226827550731, 4.968239594734388, 5.422221006501586, 5.917685748188824, 6.458424430196978, 7.048574036451903, 7.692649574879146, 8.395578619995112, 9.16273901188674, 10.0], \"xaxis\": \"x\", \"y\": [323.5567427609782, 322.29609998098323, 320.67965319375446, 318.5069306293587, 316.2394880216515, 314.4467603179311, 313.3866670538762, 312.22700534799503, 310.9614109022158, 309.5800967408008, 308.2988384152792, 307.1481630859483, 305.89252470366995, 304.5224866518421, 303.02789652329113, 301.39628254094094, 299.6146278375288, 297.6715336800466, 295.92628402479085, 294.1508484536364, 292.2124609844809, 290.0966555936256, 287.7875494971906, 285.26753883745624, 282.5173918214102, 279.51576407738526, 276.23962164730483, 272.6691921483248, 268.7685246189146, 264.50870563923894, 259.86467259510385, 254.79801228112743, 249.21187890226116, 243.06537251452255, 236.35816619391304, 228.39613030066943, 219.45903598626856, 209.70529935488918, 199.0602983145605, 189.05902274290776, 181.67931416171498, 173.64180687918775, 164.86876974401386, 155.29408129791395, 144.84448927779982, 133.4400478694415, 120.99350607275467, 107.40964017791671, 92.58452524534512, 76.51824077506419, 59.53388937408106, 41.01184573376252, 20.795578414616802, 0.0, 0.0, 0.0, 0.0, 0.0, 0.0, 0.0, 0.0, 0.0, 0.0, 0.0, 0.0, 0.0, 0.0, 0.0, 0.0, 0.0, 0.0, 0.0, 0.0, 0.0, 0.0, 0.0, 0.0, 0.0, 0.0, 0.0], \"yaxis\": \"y\"}, {\"hovertemplate\": \"variable=s1<br>alphas=%{x}<br>value=%{y}<extra></extra>\", \"legendgroup\": \"s1\", \"line\": {\"color\": \"#FFA15A\", \"dash\": \"solid\"}, \"mode\": \"lines\", \"name\": \"s1\", \"showlegend\": true, \"type\": \"scattergl\", \"x\": [0.01, 0.010913767146512732, 0.011911031332830068, 0.012999422244132456, 0.014187266741165962, 0.015483652565854992, 0.01689849786812457, 0.018442627085855347, 0.020127853758499396, 0.021967070907932353, 0.02397434967801077, 0.02616504698748821, 0.028555923019901074, 0.031165269449294302, 0.03401304938279253, 0.03712105009066361, 0.04051304969235382, 0.04421499907374487, 0.04825522042741279, 0.05266462393484278, 0.05747694424835353, 0.06272899858196247, 0.06846096838574658, 0.07471670675868078, 0.08154407395185162, 0.08899530352885233, 0.09712740198471168, 0.10600258488068824, 0.11568875283162827, 0.12626001098748565, 0.13779723598335575, 0.150388694695541, 0.1641307195375129, 0.1791284454622004, 0.19549661430912604, 0.21336045265014109, 0.23285662984981953, 0.25413430367026363, 0.2773562614198415, 0.3027001653763463, 0.33035991201283393, 0.3605471154250504, 0.39349272630958493, 0.42944879887892745, 0.46869041923141924, 0.5115178099293143, 0.5582586268862695, 0.6092704661368677, 0.6649435996665045, 0.7257039612324216, 0.7920164050192553, 0.864388262059827, 0.9433732216299778, 1.0295755673125127, 1.1236548001387516, 1.2263306841775632, 1.3383887531737577, 1.460686320364989, 1.5941590374559995, 1.739828052930364, 1.8988078244652633, 2.0723146452190293, 2.2616759492228646, 2.4683404670686486, 2.6938893095901726, 2.940048064334711, 3.2086999973704504, 3.501900461431713, 3.8218926206331187, 4.171124612056521, 4.55226827550731, 4.968239594734388, 5.422221006501586, 5.917685748188824, 6.458424430196978, 7.048574036451903, 7.692649574879146, 8.395578619995112, 9.16273901188674, 10.0], \"xaxis\": \"x\", \"y\": [-397.84750786946347, -344.8101685444037, -286.8419216005554, -223.436963695367, -179.32818740116699, -178.14817693709435, -175.8081347035618, -173.16488626963104, -170.28120981659652, -167.1315881944982, -162.64560298451937, -156.54686577259204, -149.8964952275932, -142.6488856968018, -134.75881449090636, -126.13370041066918, -116.69096911189509, -106.4277441704327, -101.08634428430781, -96.95017471161277, -92.43559241546176, -87.50844341920649, -82.13128921539779, -76.26298305798139, -69.85861505917693, -62.86783747203422, -55.236113877021786, -46.919155004687994, -37.83321638711166, -27.90235454520109, -17.084177982866663, -5.267177569955376, -0.0, -0.0, -0.0, -0.0, -0.0, -0.0, -0.0, -0.0, -0.0, -0.0, -0.0, -0.0, -0.0, -0.0, -0.0, 0.0, 0.0, 0.0, 0.0, 0.0, 0.0, 0.0, 0.0, 0.0, 0.0, 0.0, 0.0, 0.0, 0.0, 0.0, 0.0, 0.0, 0.0, 0.0, 0.0, 0.0, 0.0, 0.0, 0.0, 0.0, 0.0, 0.0, 0.0, 0.0, 0.0, 0.0, 0.0, 0.0], \"yaxis\": \"y\"}, {\"hovertemplate\": \"variable=s2<br>alphas=%{x}<br>value=%{y}<extra></extra>\", \"legendgroup\": \"s2\", \"line\": {\"color\": \"#19d3f3\", \"dash\": \"solid\"}, \"mode\": \"lines\", \"name\": \"s2\", \"showlegend\": true, \"type\": \"scattergl\", \"x\": [0.01, 0.010913767146512732, 0.011911031332830068, 0.012999422244132456, 0.014187266741165962, 0.015483652565854992, 0.01689849786812457, 0.018442627085855347, 0.020127853758499396, 0.021967070907932353, 0.02397434967801077, 0.02616504698748821, 0.028555923019901074, 0.031165269449294302, 0.03401304938279253, 0.03712105009066361, 0.04051304969235382, 0.04421499907374487, 0.04825522042741279, 0.05266462393484278, 0.05747694424835353, 0.06272899858196247, 0.06846096838574658, 0.07471670675868078, 0.08154407395185162, 0.08899530352885233, 0.09712740198471168, 0.10600258488068824, 0.11568875283162827, 0.12626001098748565, 0.13779723598335575, 0.150388694695541, 0.1641307195375129, 0.1791284454622004, 0.19549661430912604, 0.21336045265014109, 0.23285662984981953, 0.25413430367026363, 0.2773562614198415, 0.3027001653763463, 0.33035991201283393, 0.3605471154250504, 0.39349272630958493, 0.42944879887892745, 0.46869041923141924, 0.5115178099293143, 0.5582586268862695, 0.6092704661368677, 0.6649435996665045, 0.7257039612324216, 0.7920164050192553, 0.864388262059827, 0.9433732216299778, 1.0295755673125127, 1.1236548001387516, 1.2263306841775632, 1.3383887531737577, 1.460686320364989, 1.5941590374559995, 1.739828052930364, 1.8988078244652633, 2.0723146452190293, 2.2616759492228646, 2.4683404670686486, 2.6938893095901726, 2.940048064334711, 3.2086999973704504, 3.501900461431713, 3.8218926206331187, 4.171124612056521, 4.55226827550731, 4.968239594734388, 5.422221006501586, 5.917685748188824, 6.458424430196978, 7.048574036451903, 7.692649574879146, 8.395578619995112, 9.16273901188674, 10.0], \"xaxis\": \"x\", \"y\": [186.77607115919582, 141.59430477418596, 92.12061404848366, 37.85170681226077, 0.0, 0.0, 0.0, 0.0, 0.0, 0.0, -0.0, -0.0, -0.0, -0.0, -0.0, -0.0, -0.0, -0.0, -0.0, -0.0, -0.0, -0.0, -0.0, -0.0, -0.0, -0.0, -0.0, -0.0, -0.0, -0.0, -0.0, -0.0, -0.0, -0.0, -0.0, -0.0, -0.0, -0.0, -0.0, -0.0, -0.0, -0.0, -0.0, -0.0, -0.0, -0.0, 0.0, 0.0, 0.0, 0.0, 0.0, 0.0, 0.0, 0.0, 0.0, 0.0, 0.0, 0.0, 0.0, 0.0, 0.0, 0.0, 0.0, 0.0, 0.0, 0.0, 0.0, 0.0, 0.0, 0.0, 0.0, 0.0, 0.0, 0.0, 0.0, 0.0, 0.0, 0.0, 0.0, 0.0], \"yaxis\": \"y\"}, {\"hovertemplate\": \"variable=s3<br>alphas=%{x}<br>value=%{y}<extra></extra>\", \"legendgroup\": \"s3\", \"line\": {\"color\": \"#FF6692\", \"dash\": \"solid\"}, \"mode\": \"lines\", \"name\": \"s3\", \"showlegend\": true, \"type\": \"scattergl\", \"x\": [0.01, 0.010913767146512732, 0.011911031332830068, 0.012999422244132456, 0.014187266741165962, 0.015483652565854992, 0.01689849786812457, 0.018442627085855347, 0.020127853758499396, 0.021967070907932353, 0.02397434967801077, 0.02616504698748821, 0.028555923019901074, 0.031165269449294302, 0.03401304938279253, 0.03712105009066361, 0.04051304969235382, 0.04421499907374487, 0.04825522042741279, 0.05266462393484278, 0.05747694424835353, 0.06272899858196247, 0.06846096838574658, 0.07471670675868078, 0.08154407395185162, 0.08899530352885233, 0.09712740198471168, 0.10600258488068824, 0.11568875283162827, 0.12626001098748565, 0.13779723598335575, 0.150388694695541, 0.1641307195375129, 0.1791284454622004, 0.19549661430912604, 0.21336045265014109, 0.23285662984981953, 0.25413430367026363, 0.2773562614198415, 0.3027001653763463, 0.33035991201283393, 0.3605471154250504, 0.39349272630958493, 0.42944879887892745, 0.46869041923141924, 0.5115178099293143, 0.5582586268862695, 0.6092704661368677, 0.6649435996665045, 0.7257039612324216, 0.7920164050192553, 0.864388262059827, 0.9433732216299778, 1.0295755673125127, 1.1236548001387516, 1.2263306841775632, 1.3383887531737577, 1.460686320364989, 1.5941590374559995, 1.739828052930364, 1.8988078244652633, 2.0723146452190293, 2.2616759492228646, 2.4683404670686486, 2.6938893095901726, 2.940048064334711, 3.2086999973704504, 3.501900461431713, 3.8218926206331187, 4.171124612056521, 4.55226827550731, 4.968239594734388, 5.422221006501586, 5.917685748188824, 6.458424430196978, 7.048574036451903, 7.692649574879146, 8.395578619995112, 9.16273901188674, 10.0], \"xaxis\": \"x\", \"y\": [-74.45252460881044, -96.0409633093131, -119.75803023337114, -145.90538224358022, -164.5430044257362, -166.54958365573066, -168.23151086960914, -170.18107223099364, -172.30737153763653, -174.63108113640078, -178.0596142658, -182.8459996106735, -188.06253039410706, -193.7423773307414, -199.91592773803086, -206.67158110541564, -214.08221748833452, -222.11589559030745, -223.15974269083813, -222.0506064158101, -220.8411762867523, -219.5214466017806, -218.08083530605944, -216.5083033887647, -214.79182059622372, -212.92012435327013, -210.88030365334586, -208.63676689416192, -206.20113418624175, -203.5625867941327, -200.65550069842175, -197.4946898512809, -191.28116849008998, -182.47240590865084, -172.8609860270574, -162.23955504297234, -150.6498092639964, -138.00103059209437, -124.19644808080257, -111.8427931664225, -104.32384118536926, -96.13912471900838, -87.20428600300738, -77.45301107919921, -66.81069668919204, -55.195922573940244, -42.51982855861965, -28.68543471756881, -13.586899418130916, -0.0, -0.0, -0.0, -0.0, -0.0, -0.0, -0.0, -0.0, -0.0, -0.0, -0.0, -0.0, -0.0, -0.0, -0.0, -0.0, -0.0, -0.0, -0.0, -0.0, -0.0, -0.0, -0.0, -0.0, -0.0, -0.0, -0.0, -0.0, -0.0, -0.0, -0.0], \"yaxis\": \"y\"}, {\"hovertemplate\": \"variable=s4<br>alphas=%{x}<br>value=%{y}<extra></extra>\", \"legendgroup\": \"s4\", \"line\": {\"color\": \"#B6E880\", \"dash\": \"solid\"}, \"mode\": \"lines\", \"name\": \"s4\", \"showlegend\": true, \"type\": \"scattergl\", \"x\": [0.01, 0.010913767146512732, 0.011911031332830068, 0.012999422244132456, 0.014187266741165962, 0.015483652565854992, 0.01689849786812457, 0.018442627085855347, 0.020127853758499396, 0.021967070907932353, 0.02397434967801077, 0.02616504698748821, 0.028555923019901074, 0.031165269449294302, 0.03401304938279253, 0.03712105009066361, 0.04051304969235382, 0.04421499907374487, 0.04825522042741279, 0.05266462393484278, 0.05747694424835353, 0.06272899858196247, 0.06846096838574658, 0.07471670675868078, 0.08154407395185162, 0.08899530352885233, 0.09712740198471168, 0.10600258488068824, 0.11568875283162827, 0.12626001098748565, 0.13779723598335575, 0.150388694695541, 0.1641307195375129, 0.1791284454622004, 0.19549661430912604, 0.21336045265014109, 0.23285662984981953, 0.25413430367026363, 0.2773562614198415, 0.3027001653763463, 0.33035991201283393, 0.3605471154250504, 0.39349272630958493, 0.42944879887892745, 0.46869041923141924, 0.5115178099293143, 0.5582586268862695, 0.6092704661368677, 0.6649435996665045, 0.7257039612324216, 0.7920164050192553, 0.864388262059827, 0.9433732216299778, 1.0295755673125127, 1.1236548001387516, 1.2263306841775632, 1.3383887531737577, 1.460686320364989, 1.5941590374559995, 1.739828052930364, 1.8988078244652633, 2.0723146452190293, 2.2616759492228646, 2.4683404670686486, 2.6938893095901726, 2.940048064334711, 3.2086999973704504, 3.501900461431713, 3.8218926206331187, 4.171124612056521, 4.55226827550731, 4.968239594734388, 5.422221006501586, 5.917685748188824, 6.458424430196978, 7.048574036451903, 7.692649574879146, 8.395578619995112, 9.16273901188674, 10.0], \"xaxis\": \"x\", \"y\": [102.24481820872006, 98.61393426545469, 94.65661786807533, 90.34731053586063, 86.73951898070803, 84.21169057737153, 81.92708038111584, 79.31583020774737, 76.46742770950078, 73.35552390166865, 68.43291547603508, 61.31644933196078, 53.55715051133064, 45.102607302362514, 35.90161676885724, 25.84131799392169, 14.822879239282, 2.8534380871869436, 0.0, 0.0, 0.0, 0.0, 0.0, 0.0, 0.0, 0.0, 0.0, 0.0, 0.0, 0.0, 0.0, 0.0, 0.0, 0.0, 0.0, 0.0, 0.0, 0.0, 0.0, 0.0, 0.0, 0.0, 0.0, 0.0, 0.0, 0.0, 0.0, 0.0, 0.0, 0.0, 0.0, 0.0, 0.0, 0.0, 0.0, 0.0, 0.0, 0.0, 0.0, 0.0, 0.0, 0.0, 0.0, 0.0, 0.0, 0.0, 0.0, 0.0, 0.0, 0.0, 0.0, 0.0, 0.0, 0.0, 0.0, 0.0, 0.0, 0.0, 0.0, 0.0], \"yaxis\": \"y\"}, {\"hovertemplate\": \"variable=s5<br>alphas=%{x}<br>value=%{y}<extra></extra>\", \"legendgroup\": \"s5\", \"line\": {\"color\": \"#FF97FF\", \"dash\": \"solid\"}, \"mode\": \"lines\", \"name\": \"s5\", \"showlegend\": true, \"type\": \"scattergl\", \"x\": [0.01, 0.010913767146512732, 0.011911031332830068, 0.012999422244132456, 0.014187266741165962, 0.015483652565854992, 0.01689849786812457, 0.018442627085855347, 0.020127853758499396, 0.021967070907932353, 0.02397434967801077, 0.02616504698748821, 0.028555923019901074, 0.031165269449294302, 0.03401304938279253, 0.03712105009066361, 0.04051304969235382, 0.04421499907374487, 0.04825522042741279, 0.05266462393484278, 0.05747694424835353, 0.06272899858196247, 0.06846096838574658, 0.07471670675868078, 0.08154407395185162, 0.08899530352885233, 0.09712740198471168, 0.10600258488068824, 0.11568875283162827, 0.12626001098748565, 0.13779723598335575, 0.150388694695541, 0.1641307195375129, 0.1791284454622004, 0.19549661430912604, 0.21336045265014109, 0.23285662984981953, 0.25413430367026363, 0.2773562614198415, 0.3027001653763463, 0.33035991201283393, 0.3605471154250504, 0.39349272630958493, 0.42944879887892745, 0.46869041923141924, 0.5115178099293143, 0.5582586268862695, 0.6092704661368677, 0.6649435996665045, 0.7257039612324216, 0.7920164050192553, 0.864388262059827, 0.9433732216299778, 1.0295755673125127, 1.1236548001387516, 1.2263306841775632, 1.3383887531737577, 1.460686320364989, 1.5941590374559995, 1.739828052930364, 1.8988078244652633, 2.0723146452190293, 2.2616759492228646, 2.4683404670686486, 2.6938893095901726, 2.940048064334711, 3.2086999973704504, 3.501900461431713, 3.8218926206331187, 4.171124612056521, 4.55226827550731, 4.968239594734388, 5.422221006501586, 5.917685748188824, 6.458424430196978, 7.048574036451903, 7.692649574879146, 8.395578619995112, 9.16273901188674, 10.0], \"xaxis\": \"x\", \"y\": [612.0719377289591, 591.6991270719344, 569.2989449388168, 544.5717831442286, 527.2186581653906, 526.920776301291, 526.5641336890103, 526.1617977807085, 525.7228595036484, 525.2434541223687, 524.5211513827638, 523.5067364891638, 522.4004556406809, 521.194618026046, 519.8814969532993, 518.4463245094353, 516.8756897825801, 515.1677433261268, 513.0313824558681, 510.5498763069502, 507.84192871628017, 504.8866578592134, 501.66140798616624, 498.14148665955, 494.2999570752285, 490.10719144187124, 485.53093478410517, 480.53900672384145, 475.08904904588695, 469.13771228735214, 462.64708102541624, 455.55997546327654, 452.05532267269564, 451.479041400889, 450.8522580890155, 449.21013557043517, 446.9160238061167, 444.4122836457312, 441.6797599351497, 438.3839991957787, 434.13564967413924, 429.48943318796677, 424.41808546375114, 418.8833346456419, 412.8428364813612, 406.25037743997086, 399.0555211499056, 391.2032225296659, 382.63340665904786, 372.408386985357, 356.74528385682805, 339.6468085052732, 320.98497441814754, 300.2756596949128, 271.5178088503531, 240.13550864798015, 205.88645303144844, 168.50821976730492, 127.71448634801452, 83.19315559050958, 34.603611896481176, 0.0, 0.0, 0.0, 0.0, 0.0, 0.0, 0.0, 0.0, 0.0, 0.0, 0.0, 0.0, 0.0, 0.0, 0.0, 0.0, 0.0, 0.0, 0.0], \"yaxis\": \"y\"}, {\"hovertemplate\": \"variable=s6<br>alphas=%{x}<br>value=%{y}<extra></extra>\", \"legendgroup\": \"s6\", \"line\": {\"color\": \"#FECB52\", \"dash\": \"solid\"}, \"mode\": \"lines\", \"name\": \"s6\", \"showlegend\": true, \"type\": \"scattergl\", \"x\": [0.01, 0.010913767146512732, 0.011911031332830068, 0.012999422244132456, 0.014187266741165962, 0.015483652565854992, 0.01689849786812457, 0.018442627085855347, 0.020127853758499396, 0.021967070907932353, 0.02397434967801077, 0.02616504698748821, 0.028555923019901074, 0.031165269449294302, 0.03401304938279253, 0.03712105009066361, 0.04051304969235382, 0.04421499907374487, 0.04825522042741279, 0.05266462393484278, 0.05747694424835353, 0.06272899858196247, 0.06846096838574658, 0.07471670675868078, 0.08154407395185162, 0.08899530352885233, 0.09712740198471168, 0.10600258488068824, 0.11568875283162827, 0.12626001098748565, 0.13779723598335575, 0.150388694695541, 0.1641307195375129, 0.1791284454622004, 0.19549661430912604, 0.21336045265014109, 0.23285662984981953, 0.25413430367026363, 0.2773562614198415, 0.3027001653763463, 0.33035991201283393, 0.3605471154250504, 0.39349272630958493, 0.42944879887892745, 0.46869041923141924, 0.5115178099293143, 0.5582586268862695, 0.6092704661368677, 0.6649435996665045, 0.7257039612324216, 0.7920164050192553, 0.864388262059827, 0.9433732216299778, 1.0295755673125127, 1.1236548001387516, 1.2263306841775632, 1.3383887531737577, 1.460686320364989, 1.5941590374559995, 1.739828052930364, 1.8988078244652633, 2.0723146452190293, 2.2616759492228646, 2.4683404670686486, 2.6938893095901726, 2.940048064334711, 3.2086999973704504, 3.501900461431713, 3.8218926206331187, 4.171124612056521, 4.55226827550731, 4.968239594734388, 5.422221006501586, 5.917685748188824, 6.458424430196978, 7.048574036451903, 7.692649574879146, 8.395578619995112, 9.16273901188674, 10.0], \"xaxis\": \"x\", \"y\": [54.34846203755268, 55.01453857031531, 55.56126704932021, 55.85188853228545, 56.02984149864629, 56.15771532275281, 57.139262031653814, 58.21048269880517, 59.379588195550035, 60.65552225893298, 61.058673435312976, 60.40985830188605, 59.70171909707208, 58.92880313450557, 58.085129293610365, 57.164456674134385, 56.15985159581931, 55.063169377145165, 53.598323816430806, 51.89937955185463, 50.046101214498904, 48.023812254897436, 45.816663348199455, 43.407703202502184, 40.77845495002232, 37.90935080181971, 34.77869893642735, 31.35477638563323, 27.623543910249904, 23.556456784773303, 19.109374803000634, 14.25535496837004, 9.882215563813824, 5.843325341151306, 1.4362326889397479, 0.0, 0.0, 0.0, 0.0, 0.0, 0.0, 0.0, 0.0, 0.0, 0.0, 0.0, 0.0, 0.0, 0.0, 0.0, 0.0, 0.0, 0.0, 0.0, 0.0, 0.0, 0.0, 0.0, 0.0, 0.0, 0.0, 0.0, 0.0, 0.0, 0.0, 0.0, 0.0, 0.0, 0.0, 0.0, 0.0, 0.0, 0.0, 0.0, 0.0, 0.0, 0.0, 0.0, 0.0, 0.0], \"yaxis\": \"y\"}, {\"hovertemplate\": \"variable=age^2<br>alphas=%{x}<br>value=%{y}<extra></extra>\", \"legendgroup\": \"age^2\", \"line\": {\"color\": \"#636efa\", \"dash\": \"solid\"}, \"mode\": \"lines\", \"name\": \"age^2\", \"showlegend\": true, \"type\": \"scattergl\", \"x\": [0.01, 0.010913767146512732, 0.011911031332830068, 0.012999422244132456, 0.014187266741165962, 0.015483652565854992, 0.01689849786812457, 0.018442627085855347, 0.020127853758499396, 0.021967070907932353, 0.02397434967801077, 0.02616504698748821, 0.028555923019901074, 0.031165269449294302, 0.03401304938279253, 0.03712105009066361, 0.04051304969235382, 0.04421499907374487, 0.04825522042741279, 0.05266462393484278, 0.05747694424835353, 0.06272899858196247, 0.06846096838574658, 0.07471670675868078, 0.08154407395185162, 0.08899530352885233, 0.09712740198471168, 0.10600258488068824, 0.11568875283162827, 0.12626001098748565, 0.13779723598335575, 0.150388694695541, 0.1641307195375129, 0.1791284454622004, 0.19549661430912604, 0.21336045265014109, 0.23285662984981953, 0.25413430367026363, 0.2773562614198415, 0.3027001653763463, 0.33035991201283393, 0.3605471154250504, 0.39349272630958493, 0.42944879887892745, 0.46869041923141924, 0.5115178099293143, 0.5582586268862695, 0.6092704661368677, 0.6649435996665045, 0.7257039612324216, 0.7920164050192553, 0.864388262059827, 0.9433732216299778, 1.0295755673125127, 1.1236548001387516, 1.2263306841775632, 1.3383887531737577, 1.460686320364989, 1.5941590374559995, 1.739828052930364, 1.8988078244652633, 2.0723146452190293, 2.2616759492228646, 2.4683404670686486, 2.6938893095901726, 2.940048064334711, 3.2086999973704504, 3.501900461431713, 3.8218926206331187, 4.171124612056521, 4.55226827550731, 4.968239594734388, 5.422221006501586, 5.917685748188824, 6.458424430196978, 7.048574036451903, 7.692649574879146, 8.395578619995112, 9.16273901188674, 10.0], \"xaxis\": \"x\", \"y\": [819.1604740885144, 670.1626845304777, 510.6004783804508, 341.6390110052867, 160.571048878095, 0.0, 0.0, 0.0, 0.0, 0.0, 0.0, 0.0, 0.0, 0.0, 0.0, 0.0, 0.0, 0.0, 0.0, 0.0, 0.0, 0.0, 0.0, 0.0, 0.0, 0.0, 0.0, 0.0, 0.0, 0.0, 0.0, 0.0, 0.0, 0.0, 0.0, 0.0, 0.0, 0.0, 0.0, 0.0, 0.0, 0.0, 0.0, 0.0, 0.0, 0.0, 0.0, 0.0, 0.0, 0.0, 0.0, 0.0, 0.0, 0.0, 0.0, 0.0, 0.0, 0.0, 0.0, 0.0, -0.0, -0.0, -0.0, -0.0, -0.0, -0.0, -0.0, -0.0, -0.0, -0.0, -0.0, -0.0, -0.0, -0.0, -0.0, -0.0, -0.0, -0.0, -0.0, -0.0], \"yaxis\": \"y\"}, {\"hovertemplate\": \"variable=sex^2<br>alphas=%{x}<br>value=%{y}<extra></extra>\", \"legendgroup\": \"sex^2\", \"line\": {\"color\": \"#EF553B\", \"dash\": \"solid\"}, \"mode\": \"lines\", \"name\": \"sex^2\", \"showlegend\": true, \"type\": \"scattergl\", \"x\": [0.01, 0.010913767146512732, 0.011911031332830068, 0.012999422244132456, 0.014187266741165962, 0.015483652565854992, 0.01689849786812457, 0.018442627085855347, 0.020127853758499396, 0.021967070907932353, 0.02397434967801077, 0.02616504698748821, 0.028555923019901074, 0.031165269449294302, 0.03401304938279253, 0.03712105009066361, 0.04051304969235382, 0.04421499907374487, 0.04825522042741279, 0.05266462393484278, 0.05747694424835353, 0.06272899858196247, 0.06846096838574658, 0.07471670675868078, 0.08154407395185162, 0.08899530352885233, 0.09712740198471168, 0.10600258488068824, 0.11568875283162827, 0.12626001098748565, 0.13779723598335575, 0.150388694695541, 0.1641307195375129, 0.1791284454622004, 0.19549661430912604, 0.21336045265014109, 0.23285662984981953, 0.25413430367026363, 0.2773562614198415, 0.3027001653763463, 0.33035991201283393, 0.3605471154250504, 0.39349272630958493, 0.42944879887892745, 0.46869041923141924, 0.5115178099293143, 0.5582586268862695, 0.6092704661368677, 0.6649435996665045, 0.7257039612324216, 0.7920164050192553, 0.864388262059827, 0.9433732216299778, 1.0295755673125127, 1.1236548001387516, 1.2263306841775632, 1.3383887531737577, 1.460686320364989, 1.5941590374559995, 1.739828052930364, 1.8988078244652633, 2.0723146452190293, 2.2616759492228646, 2.4683404670686486, 2.6938893095901726, 2.940048064334711, 3.2086999973704504, 3.501900461431713, 3.8218926206331187, 4.171124612056521, 4.55226827550731, 4.968239594734388, 5.422221006501586, 5.917685748188824, 6.458424430196978, 7.048574036451903, 7.692649574879146, 8.395578619995112, 9.16273901188674, 10.0], \"xaxis\": \"x\", \"y\": [-0.0, -0.0, -0.0, -0.0, -0.0, -0.0, -0.0, -0.0, -0.0, -0.0, -0.0, -0.0, -0.0, -0.0, -0.0, -0.0, -0.0, -0.0, -0.0, -0.0, -0.0, -0.0, -0.0, -0.0, -0.0, -0.0, -0.0, -0.0, -0.0, -0.0, -0.0, -0.0, -0.0, -0.0, -0.0, -0.0, -0.0, -0.0, -0.0, -0.0, -0.0, -0.0, -0.0, -0.0, -0.0, -0.0, -0.0, -0.0, -0.0, -0.0, -0.0, -0.0, -0.0, -0.0, -0.0, 0.0, 0.0, 0.0, 0.0, 0.0, 0.0, 0.0, 0.0, 0.0, 0.0, 0.0, 0.0, 0.0, 0.0, 0.0, 0.0, 0.0, 0.0, 0.0, 0.0, 0.0, 0.0, 0.0, 0.0, 0.0], \"yaxis\": \"y\"}, {\"hovertemplate\": \"variable=bmi^2<br>alphas=%{x}<br>value=%{y}<extra></extra>\", \"legendgroup\": \"bmi^2\", \"line\": {\"color\": \"#00cc96\", \"dash\": \"solid\"}, \"mode\": \"lines\", \"name\": \"bmi^2\", \"showlegend\": true, \"type\": \"scattergl\", \"x\": [0.01, 0.010913767146512732, 0.011911031332830068, 0.012999422244132456, 0.014187266741165962, 0.015483652565854992, 0.01689849786812457, 0.018442627085855347, 0.020127853758499396, 0.021967070907932353, 0.02397434967801077, 0.02616504698748821, 0.028555923019901074, 0.031165269449294302, 0.03401304938279253, 0.03712105009066361, 0.04051304969235382, 0.04421499907374487, 0.04825522042741279, 0.05266462393484278, 0.05747694424835353, 0.06272899858196247, 0.06846096838574658, 0.07471670675868078, 0.08154407395185162, 0.08899530352885233, 0.09712740198471168, 0.10600258488068824, 0.11568875283162827, 0.12626001098748565, 0.13779723598335575, 0.150388694695541, 0.1641307195375129, 0.1791284454622004, 0.19549661430912604, 0.21336045265014109, 0.23285662984981953, 0.25413430367026363, 0.2773562614198415, 0.3027001653763463, 0.33035991201283393, 0.3605471154250504, 0.39349272630958493, 0.42944879887892745, 0.46869041923141924, 0.5115178099293143, 0.5582586268862695, 0.6092704661368677, 0.6649435996665045, 0.7257039612324216, 0.7920164050192553, 0.864388262059827, 0.9433732216299778, 1.0295755673125127, 1.1236548001387516, 1.2263306841775632, 1.3383887531737577, 1.460686320364989, 1.5941590374559995, 1.739828052930364, 1.8988078244652633, 2.0723146452190293, 2.2616759492228646, 2.4683404670686486, 2.6938893095901726, 2.940048064334711, 3.2086999973704504, 3.501900461431713, 3.8218926206331187, 4.171124612056521, 4.55226827550731, 4.968239594734388, 5.422221006501586, 5.917685748188824, 6.458424430196978, 7.048574036451903, 7.692649574879146, 8.395578619995112, 9.16273901188674, 10.0], \"xaxis\": \"x\", \"y\": [514.0000669495237, 409.13696743926795, 298.0019789482818, 182.33289317786787, 58.944488599542275, 0.0, 0.0, 0.0, 0.0, 0.0, 0.0, 0.0, 0.0, 0.0, 0.0, 0.0, 0.0, 0.0, 0.0, 0.0, 0.0, 0.0, 0.0, 0.0, 0.0, 0.0, 0.0, 0.0, 0.0, 0.0, 0.0, 0.0, 0.0, 0.0, 0.0, 0.0, 0.0, 0.0, 0.0, 0.0, 0.0, 0.0, 0.0, 0.0, 0.0, 0.0, 0.0, 0.0, 0.0, 0.0, 0.0, 0.0, 0.0, 0.0, 0.0, 0.0, 0.0, 0.0, 0.0, 0.0, 0.0, 0.0, 0.0, 0.0, 0.0, 0.0, 0.0, 0.0, 0.0, 0.0, 0.0, 0.0, 0.0, 0.0, 0.0, 0.0, 0.0, 0.0, 0.0, 0.0], \"yaxis\": \"y\"}, {\"hovertemplate\": \"variable=bp^2<br>alphas=%{x}<br>value=%{y}<extra></extra>\", \"legendgroup\": \"bp^2\", \"line\": {\"color\": \"#ab63fa\", \"dash\": \"solid\"}, \"mode\": \"lines\", \"name\": \"bp^2\", \"showlegend\": true, \"type\": \"scattergl\", \"x\": [0.01, 0.010913767146512732, 0.011911031332830068, 0.012999422244132456, 0.014187266741165962, 0.015483652565854992, 0.01689849786812457, 0.018442627085855347, 0.020127853758499396, 0.021967070907932353, 0.02397434967801077, 0.02616504698748821, 0.028555923019901074, 0.031165269449294302, 0.03401304938279253, 0.03712105009066361, 0.04051304969235382, 0.04421499907374487, 0.04825522042741279, 0.05266462393484278, 0.05747694424835353, 0.06272899858196247, 0.06846096838574658, 0.07471670675868078, 0.08154407395185162, 0.08899530352885233, 0.09712740198471168, 0.10600258488068824, 0.11568875283162827, 0.12626001098748565, 0.13779723598335575, 0.150388694695541, 0.1641307195375129, 0.1791284454622004, 0.19549661430912604, 0.21336045265014109, 0.23285662984981953, 0.25413430367026363, 0.2773562614198415, 0.3027001653763463, 0.33035991201283393, 0.3605471154250504, 0.39349272630958493, 0.42944879887892745, 0.46869041923141924, 0.5115178099293143, 0.5582586268862695, 0.6092704661368677, 0.6649435996665045, 0.7257039612324216, 0.7920164050192553, 0.864388262059827, 0.9433732216299778, 1.0295755673125127, 1.1236548001387516, 1.2263306841775632, 1.3383887531737577, 1.460686320364989, 1.5941590374559995, 1.739828052930364, 1.8988078244652633, 2.0723146452190293, 2.2616759492228646, 2.4683404670686486, 2.6938893095901726, 2.940048064334711, 3.2086999973704504, 3.501900461431713, 3.8218926206331187, 4.171124612056521, 4.55226827550731, 4.968239594734388, 5.422221006501586, 5.917685748188824, 6.458424430196978, 7.048574036451903, 7.692649574879146, 8.395578619995112, 9.16273901188674, 10.0], \"xaxis\": \"x\", \"y\": [0.0, 0.0, 0.0, 0.0, 0.0, 0.0, 0.0, 0.0, 0.0, 0.0, 0.0, 0.0, 0.0, 0.0, 0.0, 0.0, 0.0, 0.0, 0.0, 0.0, 0.0, 0.0, 0.0, 0.0, 0.0, 0.0, 0.0, 0.0, 0.0, 0.0, 0.0, 0.0, 0.0, 0.0, 0.0, 0.0, 0.0, 0.0, 0.0, 0.0, 0.0, 0.0, 0.0, 0.0, 0.0, 0.0, 0.0, 0.0, 0.0, 0.0, 0.0, 0.0, 0.0, 0.0, 0.0, 0.0, 0.0, 0.0, 0.0, 0.0, 0.0, 0.0, 0.0, 0.0, 0.0, 0.0, 0.0, 0.0, 0.0, 0.0, 0.0, 0.0, 0.0, 0.0, 0.0, 0.0, 0.0, 0.0, 0.0, 0.0], \"yaxis\": \"y\"}, {\"hovertemplate\": \"variable=s1^2<br>alphas=%{x}<br>value=%{y}<extra></extra>\", \"legendgroup\": \"s1^2\", \"line\": {\"color\": \"#FFA15A\", \"dash\": \"solid\"}, \"mode\": \"lines\", \"name\": \"s1^2\", \"showlegend\": true, \"type\": \"scattergl\", \"x\": [0.01, 0.010913767146512732, 0.011911031332830068, 0.012999422244132456, 0.014187266741165962, 0.015483652565854992, 0.01689849786812457, 0.018442627085855347, 0.020127853758499396, 0.021967070907932353, 0.02397434967801077, 0.02616504698748821, 0.028555923019901074, 0.031165269449294302, 0.03401304938279253, 0.03712105009066361, 0.04051304969235382, 0.04421499907374487, 0.04825522042741279, 0.05266462393484278, 0.05747694424835353, 0.06272899858196247, 0.06846096838574658, 0.07471670675868078, 0.08154407395185162, 0.08899530352885233, 0.09712740198471168, 0.10600258488068824, 0.11568875283162827, 0.12626001098748565, 0.13779723598335575, 0.150388694695541, 0.1641307195375129, 0.1791284454622004, 0.19549661430912604, 0.21336045265014109, 0.23285662984981953, 0.25413430367026363, 0.2773562614198415, 0.3027001653763463, 0.33035991201283393, 0.3605471154250504, 0.39349272630958493, 0.42944879887892745, 0.46869041923141924, 0.5115178099293143, 0.5582586268862695, 0.6092704661368677, 0.6649435996665045, 0.7257039612324216, 0.7920164050192553, 0.864388262059827, 0.9433732216299778, 1.0295755673125127, 1.1236548001387516, 1.2263306841775632, 1.3383887531737577, 1.460686320364989, 1.5941590374559995, 1.739828052930364, 1.8988078244652633, 2.0723146452190293, 2.2616759492228646, 2.4683404670686486, 2.6938893095901726, 2.940048064334711, 3.2086999973704504, 3.501900461431713, 3.8218926206331187, 4.171124612056521, 4.55226827550731, 4.968239594734388, 5.422221006501586, 5.917685748188824, 6.458424430196978, 7.048574036451903, 7.692649574879146, 8.395578619995112, 9.16273901188674, 10.0], \"xaxis\": \"x\", \"y\": [0.0, 0.0, 0.0, 0.0, 0.0, 0.0, 0.0, 0.0, 0.0, 0.0, 0.0, 0.0, 0.0, 0.0, 0.0, 0.0, 0.0, 0.0, 0.0, 0.0, 0.0, 0.0, 0.0, 0.0, 0.0, 0.0, 0.0, -0.0, -0.0, -0.0, -0.0, -0.0, -0.0, -0.0, -0.0, -0.0, -0.0, -0.0, -0.0, -0.0, -0.0, -0.0, -0.0, -0.0, -0.0, -0.0, -0.0, -0.0, -0.0, -0.0, -0.0, 0.0, 0.0, 0.0, 0.0, 0.0, 0.0, 0.0, 0.0, 0.0, 0.0, 0.0, 0.0, 0.0, 0.0, 0.0, 0.0, 0.0, 0.0, 0.0, 0.0, 0.0, 0.0, 0.0, 0.0, 0.0, 0.0, 0.0, 0.0, 0.0], \"yaxis\": \"y\"}, {\"hovertemplate\": \"variable=s2^2<br>alphas=%{x}<br>value=%{y}<extra></extra>\", \"legendgroup\": \"s2^2\", \"line\": {\"color\": \"#19d3f3\", \"dash\": \"solid\"}, \"mode\": \"lines\", \"name\": \"s2^2\", \"showlegend\": true, \"type\": \"scattergl\", \"x\": [0.01, 0.010913767146512732, 0.011911031332830068, 0.012999422244132456, 0.014187266741165962, 0.015483652565854992, 0.01689849786812457, 0.018442627085855347, 0.020127853758499396, 0.021967070907932353, 0.02397434967801077, 0.02616504698748821, 0.028555923019901074, 0.031165269449294302, 0.03401304938279253, 0.03712105009066361, 0.04051304969235382, 0.04421499907374487, 0.04825522042741279, 0.05266462393484278, 0.05747694424835353, 0.06272899858196247, 0.06846096838574658, 0.07471670675868078, 0.08154407395185162, 0.08899530352885233, 0.09712740198471168, 0.10600258488068824, 0.11568875283162827, 0.12626001098748565, 0.13779723598335575, 0.150388694695541, 0.1641307195375129, 0.1791284454622004, 0.19549661430912604, 0.21336045265014109, 0.23285662984981953, 0.25413430367026363, 0.2773562614198415, 0.3027001653763463, 0.33035991201283393, 0.3605471154250504, 0.39349272630958493, 0.42944879887892745, 0.46869041923141924, 0.5115178099293143, 0.5582586268862695, 0.6092704661368677, 0.6649435996665045, 0.7257039612324216, 0.7920164050192553, 0.864388262059827, 0.9433732216299778, 1.0295755673125127, 1.1236548001387516, 1.2263306841775632, 1.3383887531737577, 1.460686320364989, 1.5941590374559995, 1.739828052930364, 1.8988078244652633, 2.0723146452190293, 2.2616759492228646, 2.4683404670686486, 2.6938893095901726, 2.940048064334711, 3.2086999973704504, 3.501900461431713, 3.8218926206331187, 4.171124612056521, 4.55226827550731, 4.968239594734388, 5.422221006501586, 5.917685748188824, 6.458424430196978, 7.048574036451903, 7.692649574879146, 8.395578619995112, 9.16273901188674, 10.0], \"xaxis\": \"x\", \"y\": [-0.0, -0.0, -0.0, -0.0, -0.0, -0.0, -0.0, -0.0, -0.0, -0.0, -0.0, -0.0, -0.0, -0.0, -0.0, -0.0, -0.0, -0.0, -0.0, -0.0, -0.0, -0.0, -0.0, -0.0, -0.0, -0.0, -0.0, -0.0, -0.0, -0.0, -0.0, -0.0, -0.0, -0.0, -0.0, -0.0, -0.0, -0.0, -0.0, -0.0, -0.0, -0.0, -0.0, -0.0, -0.0, -0.0, -0.0, -0.0, -0.0, -0.0, -0.0, -0.0, -0.0, -0.0, -0.0, -0.0, -0.0, -0.0, -0.0, -0.0, 0.0, 0.0, 0.0, 0.0, 0.0, 0.0, 0.0, 0.0, 0.0, 0.0, 0.0, 0.0, 0.0, 0.0, 0.0, 0.0, 0.0, 0.0, 0.0, 0.0], \"yaxis\": \"y\"}, {\"hovertemplate\": \"variable=s3^2<br>alphas=%{x}<br>value=%{y}<extra></extra>\", \"legendgroup\": \"s3^2\", \"line\": {\"color\": \"#FF6692\", \"dash\": \"solid\"}, \"mode\": \"lines\", \"name\": \"s3^2\", \"showlegend\": true, \"type\": \"scattergl\", \"x\": [0.01, 0.010913767146512732, 0.011911031332830068, 0.012999422244132456, 0.014187266741165962, 0.015483652565854992, 0.01689849786812457, 0.018442627085855347, 0.020127853758499396, 0.021967070907932353, 0.02397434967801077, 0.02616504698748821, 0.028555923019901074, 0.031165269449294302, 0.03401304938279253, 0.03712105009066361, 0.04051304969235382, 0.04421499907374487, 0.04825522042741279, 0.05266462393484278, 0.05747694424835353, 0.06272899858196247, 0.06846096838574658, 0.07471670675868078, 0.08154407395185162, 0.08899530352885233, 0.09712740198471168, 0.10600258488068824, 0.11568875283162827, 0.12626001098748565, 0.13779723598335575, 0.150388694695541, 0.1641307195375129, 0.1791284454622004, 0.19549661430912604, 0.21336045265014109, 0.23285662984981953, 0.25413430367026363, 0.2773562614198415, 0.3027001653763463, 0.33035991201283393, 0.3605471154250504, 0.39349272630958493, 0.42944879887892745, 0.46869041923141924, 0.5115178099293143, 0.5582586268862695, 0.6092704661368677, 0.6649435996665045, 0.7257039612324216, 0.7920164050192553, 0.864388262059827, 0.9433732216299778, 1.0295755673125127, 1.1236548001387516, 1.2263306841775632, 1.3383887531737577, 1.460686320364989, 1.5941590374559995, 1.739828052930364, 1.8988078244652633, 2.0723146452190293, 2.2616759492228646, 2.4683404670686486, 2.6938893095901726, 2.940048064334711, 3.2086999973704504, 3.501900461431713, 3.8218926206331187, 4.171124612056521, 4.55226827550731, 4.968239594734388, 5.422221006501586, 5.917685748188824, 6.458424430196978, 7.048574036451903, 7.692649574879146, 8.395578619995112, 9.16273901188674, 10.0], \"xaxis\": \"x\", \"y\": [0.0, 0.0, 0.0, 0.0, 0.0, 0.0, 0.0, 0.0, 0.0, 0.0, 0.0, 0.0, 0.0, 0.0, 0.0, 0.0, 0.0, 0.0, 0.0, 0.0, 0.0, 0.0, 0.0, 0.0, 0.0, 0.0, 0.0, 0.0, 0.0, 0.0, 0.0, 0.0, 0.0, -0.0, -0.0, -0.0, -0.0, -0.0, -0.0, -0.0, -0.0, -0.0, -0.0, -0.0, -0.0, -0.0, -0.0, -0.0, -0.0, -0.0, -0.0, -0.0, -0.0, -0.0, -0.0, -0.0, -0.0, -0.0, -0.0, -0.0, -0.0, -0.0, -0.0, -0.0, -0.0, -0.0, -0.0, -0.0, -0.0, -0.0, -0.0, -0.0, -0.0, -0.0, -0.0, -0.0, -0.0, -0.0, -0.0, -0.0], \"yaxis\": \"y\"}, {\"hovertemplate\": \"variable=s4^2<br>alphas=%{x}<br>value=%{y}<extra></extra>\", \"legendgroup\": \"s4^2\", \"line\": {\"color\": \"#B6E880\", \"dash\": \"solid\"}, \"mode\": \"lines\", \"name\": \"s4^2\", \"showlegend\": true, \"type\": \"scattergl\", \"x\": [0.01, 0.010913767146512732, 0.011911031332830068, 0.012999422244132456, 0.014187266741165962, 0.015483652565854992, 0.01689849786812457, 0.018442627085855347, 0.020127853758499396, 0.021967070907932353, 0.02397434967801077, 0.02616504698748821, 0.028555923019901074, 0.031165269449294302, 0.03401304938279253, 0.03712105009066361, 0.04051304969235382, 0.04421499907374487, 0.04825522042741279, 0.05266462393484278, 0.05747694424835353, 0.06272899858196247, 0.06846096838574658, 0.07471670675868078, 0.08154407395185162, 0.08899530352885233, 0.09712740198471168, 0.10600258488068824, 0.11568875283162827, 0.12626001098748565, 0.13779723598335575, 0.150388694695541, 0.1641307195375129, 0.1791284454622004, 0.19549661430912604, 0.21336045265014109, 0.23285662984981953, 0.25413430367026363, 0.2773562614198415, 0.3027001653763463, 0.33035991201283393, 0.3605471154250504, 0.39349272630958493, 0.42944879887892745, 0.46869041923141924, 0.5115178099293143, 0.5582586268862695, 0.6092704661368677, 0.6649435996665045, 0.7257039612324216, 0.7920164050192553, 0.864388262059827, 0.9433732216299778, 1.0295755673125127, 1.1236548001387516, 1.2263306841775632, 1.3383887531737577, 1.460686320364989, 1.5941590374559995, 1.739828052930364, 1.8988078244652633, 2.0723146452190293, 2.2616759492228646, 2.4683404670686486, 2.6938893095901726, 2.940048064334711, 3.2086999973704504, 3.501900461431713, 3.8218926206331187, 4.171124612056521, 4.55226827550731, 4.968239594734388, 5.422221006501586, 5.917685748188824, 6.458424430196978, 7.048574036451903, 7.692649574879146, 8.395578619995112, 9.16273901188674, 10.0], \"xaxis\": \"x\", \"y\": [-0.0, -0.0, -0.0, -0.0, -0.0, -0.0, -0.0, 0.0, 0.0, 0.0, 0.0, 0.0, 0.0, 0.0, 0.0, 0.0, 0.0, 0.0, 0.0, 0.0, 0.0, 0.0, 0.0, 0.0, 0.0, 0.0, 0.0, 0.0, 0.0, 0.0, 0.0, 0.0, 0.0, 0.0, 0.0, 0.0, 0.0, 0.0, 0.0, 0.0, 0.0, 0.0, 0.0, 0.0, 0.0, 0.0, 0.0, 0.0, 0.0, 0.0, 0.0, 0.0, 0.0, 0.0, 0.0, 0.0, 0.0, 0.0, 0.0, 0.0, 0.0, 0.0, 0.0, 0.0, 0.0, 0.0, 0.0, 0.0, 0.0, 0.0, 0.0, 0.0, 0.0, 0.0, 0.0, 0.0, 0.0, 0.0, 0.0, 0.0], \"yaxis\": \"y\"}, {\"hovertemplate\": \"variable=s5^2<br>alphas=%{x}<br>value=%{y}<extra></extra>\", \"legendgroup\": \"s5^2\", \"line\": {\"color\": \"#FF97FF\", \"dash\": \"solid\"}, \"mode\": \"lines\", \"name\": \"s5^2\", \"showlegend\": true, \"type\": \"scattergl\", \"x\": [0.01, 0.010913767146512732, 0.011911031332830068, 0.012999422244132456, 0.014187266741165962, 0.015483652565854992, 0.01689849786812457, 0.018442627085855347, 0.020127853758499396, 0.021967070907932353, 0.02397434967801077, 0.02616504698748821, 0.028555923019901074, 0.031165269449294302, 0.03401304938279253, 0.03712105009066361, 0.04051304969235382, 0.04421499907374487, 0.04825522042741279, 0.05266462393484278, 0.05747694424835353, 0.06272899858196247, 0.06846096838574658, 0.07471670675868078, 0.08154407395185162, 0.08899530352885233, 0.09712740198471168, 0.10600258488068824, 0.11568875283162827, 0.12626001098748565, 0.13779723598335575, 0.150388694695541, 0.1641307195375129, 0.1791284454622004, 0.19549661430912604, 0.21336045265014109, 0.23285662984981953, 0.25413430367026363, 0.2773562614198415, 0.3027001653763463, 0.33035991201283393, 0.3605471154250504, 0.39349272630958493, 0.42944879887892745, 0.46869041923141924, 0.5115178099293143, 0.5582586268862695, 0.6092704661368677, 0.6649435996665045, 0.7257039612324216, 0.7920164050192553, 0.864388262059827, 0.9433732216299778, 1.0295755673125127, 1.1236548001387516, 1.2263306841775632, 1.3383887531737577, 1.460686320364989, 1.5941590374559995, 1.739828052930364, 1.8988078244652633, 2.0723146452190293, 2.2616759492228646, 2.4683404670686486, 2.6938893095901726, 2.940048064334711, 3.2086999973704504, 3.501900461431713, 3.8218926206331187, 4.171124612056521, 4.55226827550731, 4.968239594734388, 5.422221006501586, 5.917685748188824, 6.458424430196978, 7.048574036451903, 7.692649574879146, 8.395578619995112, 9.16273901188674, 10.0], \"xaxis\": \"x\", \"y\": [-0.0, -0.0, -0.0, -0.0, -0.0, -0.0, -0.0, -0.0, -0.0, -0.0, -0.0, -0.0, -0.0, -0.0, -0.0, -0.0, -0.0, -0.0, -0.0, -0.0, -0.0, -0.0, -0.0, -0.0, -0.0, -0.0, -0.0, -0.0, -0.0, -0.0, -0.0, -0.0, -0.0, -0.0, -0.0, -0.0, -0.0, -0.0, -0.0, 0.0, 0.0, 0.0, 0.0, 0.0, 0.0, 0.0, 0.0, 0.0, 0.0, 0.0, 0.0, 0.0, 0.0, 0.0, 0.0, 0.0, 0.0, 0.0, 0.0, 0.0, 0.0, 0.0, 0.0, 0.0, 0.0, 0.0, 0.0, 0.0, 0.0, 0.0, 0.0, 0.0, 0.0, 0.0, 0.0, 0.0, 0.0, 0.0, 0.0, 0.0], \"yaxis\": \"y\"}, {\"hovertemplate\": \"variable=s6^2<br>alphas=%{x}<br>value=%{y}<extra></extra>\", \"legendgroup\": \"s6^2\", \"line\": {\"color\": \"#FECB52\", \"dash\": \"solid\"}, \"mode\": \"lines\", \"name\": \"s6^2\", \"showlegend\": true, \"type\": \"scattergl\", \"x\": [0.01, 0.010913767146512732, 0.011911031332830068, 0.012999422244132456, 0.014187266741165962, 0.015483652565854992, 0.01689849786812457, 0.018442627085855347, 0.020127853758499396, 0.021967070907932353, 0.02397434967801077, 0.02616504698748821, 0.028555923019901074, 0.031165269449294302, 0.03401304938279253, 0.03712105009066361, 0.04051304969235382, 0.04421499907374487, 0.04825522042741279, 0.05266462393484278, 0.05747694424835353, 0.06272899858196247, 0.06846096838574658, 0.07471670675868078, 0.08154407395185162, 0.08899530352885233, 0.09712740198471168, 0.10600258488068824, 0.11568875283162827, 0.12626001098748565, 0.13779723598335575, 0.150388694695541, 0.1641307195375129, 0.1791284454622004, 0.19549661430912604, 0.21336045265014109, 0.23285662984981953, 0.25413430367026363, 0.2773562614198415, 0.3027001653763463, 0.33035991201283393, 0.3605471154250504, 0.39349272630958493, 0.42944879887892745, 0.46869041923141924, 0.5115178099293143, 0.5582586268862695, 0.6092704661368677, 0.6649435996665045, 0.7257039612324216, 0.7920164050192553, 0.864388262059827, 0.9433732216299778, 1.0295755673125127, 1.1236548001387516, 1.2263306841775632, 1.3383887531737577, 1.460686320364989, 1.5941590374559995, 1.739828052930364, 1.8988078244652633, 2.0723146452190293, 2.2616759492228646, 2.4683404670686486, 2.6938893095901726, 2.940048064334711, 3.2086999973704504, 3.501900461431713, 3.8218926206331187, 4.171124612056521, 4.55226827550731, 4.968239594734388, 5.422221006501586, 5.917685748188824, 6.458424430196978, 7.048574036451903, 7.692649574879146, 8.395578619995112, 9.16273901188674, 10.0], \"xaxis\": \"x\", \"y\": [1171.5361544646205, 1081.8788818612197, 984.5611895310781, 879.2554627280269, 770.9338838875169, 660.7076732150267, 535.8852258413456, 399.7015256769103, 251.0732556964622, 88.86504271082063, 0.0, 0.0, 0.0, 0.0, 0.0, 0.0, 0.0, 0.0, 0.0, 0.0, 0.0, 0.0, 0.0, 0.0, 0.0, 0.0, 0.0, 0.0, 0.0, 0.0, 0.0, 0.0, 0.0, 0.0, 0.0, 0.0, 0.0, 0.0, 0.0, 0.0, 0.0, 0.0, 0.0, 0.0, 0.0, 0.0, 0.0, 0.0, 0.0, 0.0, 0.0, 0.0, 0.0, 0.0, 0.0, 0.0, 0.0, 0.0, 0.0, 0.0, 0.0, 0.0, 0.0, 0.0, 0.0, 0.0, 0.0, 0.0, 0.0, 0.0, 0.0, 0.0, 0.0, 0.0, 0.0, 0.0, 0.0, 0.0, 0.0, 0.0], \"yaxis\": \"y\"}, {\"hovertemplate\": \"variable=age^3<br>alphas=%{x}<br>value=%{y}<extra></extra>\", \"legendgroup\": \"age^3\", \"line\": {\"color\": \"#636efa\", \"dash\": \"solid\"}, \"mode\": \"lines\", \"name\": \"age^3\", \"showlegend\": true, \"type\": \"scattergl\", \"x\": [0.01, 0.010913767146512732, 0.011911031332830068, 0.012999422244132456, 0.014187266741165962, 0.015483652565854992, 0.01689849786812457, 0.018442627085855347, 0.020127853758499396, 0.021967070907932353, 0.02397434967801077, 0.02616504698748821, 0.028555923019901074, 0.031165269449294302, 0.03401304938279253, 0.03712105009066361, 0.04051304969235382, 0.04421499907374487, 0.04825522042741279, 0.05266462393484278, 0.05747694424835353, 0.06272899858196247, 0.06846096838574658, 0.07471670675868078, 0.08154407395185162, 0.08899530352885233, 0.09712740198471168, 0.10600258488068824, 0.11568875283162827, 0.12626001098748565, 0.13779723598335575, 0.150388694695541, 0.1641307195375129, 0.1791284454622004, 0.19549661430912604, 0.21336045265014109, 0.23285662984981953, 0.25413430367026363, 0.2773562614198415, 0.3027001653763463, 0.33035991201283393, 0.3605471154250504, 0.39349272630958493, 0.42944879887892745, 0.46869041923141924, 0.5115178099293143, 0.5582586268862695, 0.6092704661368677, 0.6649435996665045, 0.7257039612324216, 0.7920164050192553, 0.864388262059827, 0.9433732216299778, 1.0295755673125127, 1.1236548001387516, 1.2263306841775632, 1.3383887531737577, 1.460686320364989, 1.5941590374559995, 1.739828052930364, 1.8988078244652633, 2.0723146452190293, 2.2616759492228646, 2.4683404670686486, 2.6938893095901726, 2.940048064334711, 3.2086999973704504, 3.501900461431713, 3.8218926206331187, 4.171124612056521, 4.55226827550731, 4.968239594734388, 5.422221006501586, 5.917685748188824, 6.458424430196978, 7.048574036451903, 7.692649574879146, 8.395578619995112, 9.16273901188674, 10.0], \"xaxis\": \"x\", \"y\": [-0.0, -0.0, -0.0, -0.0, -0.0, -0.0, -0.0, -0.0, -0.0, -0.0, -0.0, -0.0, -0.0, -0.0, -0.0, -0.0, -0.0, -0.0, -0.0, -0.0, -0.0, -0.0, -0.0, -0.0, -0.0, -0.0, -0.0, -0.0, -0.0, -0.0, -0.0, -0.0, -0.0, -0.0, -0.0, -0.0, -0.0, -0.0, -0.0, -0.0, -0.0, -0.0, -0.0, -0.0, -0.0, -0.0, 0.0, 0.0, 0.0, 0.0, 0.0, 0.0, 0.0, 0.0, 0.0, 0.0, 0.0, 0.0, 0.0, 0.0, 0.0, 0.0, 0.0, 0.0, 0.0, 0.0, 0.0, 0.0, 0.0, 0.0, 0.0, 0.0, 0.0, 0.0, 0.0, 0.0, 0.0, 0.0, 0.0, 0.0], \"yaxis\": \"y\"}, {\"hovertemplate\": \"variable=sex^3<br>alphas=%{x}<br>value=%{y}<extra></extra>\", \"legendgroup\": \"sex^3\", \"line\": {\"color\": \"#EF553B\", \"dash\": \"solid\"}, \"mode\": \"lines\", \"name\": \"sex^3\", \"showlegend\": true, \"type\": \"scattergl\", \"x\": [0.01, 0.010913767146512732, 0.011911031332830068, 0.012999422244132456, 0.014187266741165962, 0.015483652565854992, 0.01689849786812457, 0.018442627085855347, 0.020127853758499396, 0.021967070907932353, 0.02397434967801077, 0.02616504698748821, 0.028555923019901074, 0.031165269449294302, 0.03401304938279253, 0.03712105009066361, 0.04051304969235382, 0.04421499907374487, 0.04825522042741279, 0.05266462393484278, 0.05747694424835353, 0.06272899858196247, 0.06846096838574658, 0.07471670675868078, 0.08154407395185162, 0.08899530352885233, 0.09712740198471168, 0.10600258488068824, 0.11568875283162827, 0.12626001098748565, 0.13779723598335575, 0.150388694695541, 0.1641307195375129, 0.1791284454622004, 0.19549661430912604, 0.21336045265014109, 0.23285662984981953, 0.25413430367026363, 0.2773562614198415, 0.3027001653763463, 0.33035991201283393, 0.3605471154250504, 0.39349272630958493, 0.42944879887892745, 0.46869041923141924, 0.5115178099293143, 0.5582586268862695, 0.6092704661368677, 0.6649435996665045, 0.7257039612324216, 0.7920164050192553, 0.864388262059827, 0.9433732216299778, 1.0295755673125127, 1.1236548001387516, 1.2263306841775632, 1.3383887531737577, 1.460686320364989, 1.5941590374559995, 1.739828052930364, 1.8988078244652633, 2.0723146452190293, 2.2616759492228646, 2.4683404670686486, 2.6938893095901726, 2.940048064334711, 3.2086999973704504, 3.501900461431713, 3.8218926206331187, 4.171124612056521, 4.55226827550731, 4.968239594734388, 5.422221006501586, 5.917685748188824, 6.458424430196978, 7.048574036451903, 7.692649574879146, 8.395578619995112, 9.16273901188674, 10.0], \"xaxis\": \"x\", \"y\": [-0.0, -0.0, -0.0, -0.0, -0.0, -0.0, -0.0, -0.0, -0.0, -0.0, -0.0, -0.0, -0.0, -0.0, -0.0, -0.0, -0.0, -0.0, -0.0, -0.0, -0.0, -0.0, -0.0, -0.0, -0.0, -0.0, -0.0, -0.0, -0.0, -0.0, -0.0, -0.0, -0.0, -0.0, -0.0, -0.0, -0.0, -0.0, -0.0, -0.0, -0.0, -0.0, -0.0, -0.0, -0.0, -0.0, -0.0, -0.0, -0.0, -0.0, -0.0, -0.0, -0.0, -0.0, -0.0, 0.0, 0.0, 0.0, 0.0, 0.0, 0.0, 0.0, 0.0, 0.0, 0.0, 0.0, 0.0, 0.0, 0.0, 0.0, 0.0, 0.0, 0.0, 0.0, 0.0, 0.0, 0.0, 0.0, 0.0, 0.0], \"yaxis\": \"y\"}, {\"hovertemplate\": \"variable=bmi^3<br>alphas=%{x}<br>value=%{y}<extra></extra>\", \"legendgroup\": \"bmi^3\", \"line\": {\"color\": \"#00cc96\", \"dash\": \"solid\"}, \"mode\": \"lines\", \"name\": \"bmi^3\", \"showlegend\": true, \"type\": \"scattergl\", \"x\": [0.01, 0.010913767146512732, 0.011911031332830068, 0.012999422244132456, 0.014187266741165962, 0.015483652565854992, 0.01689849786812457, 0.018442627085855347, 0.020127853758499396, 0.021967070907932353, 0.02397434967801077, 0.02616504698748821, 0.028555923019901074, 0.031165269449294302, 0.03401304938279253, 0.03712105009066361, 0.04051304969235382, 0.04421499907374487, 0.04825522042741279, 0.05266462393484278, 0.05747694424835353, 0.06272899858196247, 0.06846096838574658, 0.07471670675868078, 0.08154407395185162, 0.08899530352885233, 0.09712740198471168, 0.10600258488068824, 0.11568875283162827, 0.12626001098748565, 0.13779723598335575, 0.150388694695541, 0.1641307195375129, 0.1791284454622004, 0.19549661430912604, 0.21336045265014109, 0.23285662984981953, 0.25413430367026363, 0.2773562614198415, 0.3027001653763463, 0.33035991201283393, 0.3605471154250504, 0.39349272630958493, 0.42944879887892745, 0.46869041923141924, 0.5115178099293143, 0.5582586268862695, 0.6092704661368677, 0.6649435996665045, 0.7257039612324216, 0.7920164050192553, 0.864388262059827, 0.9433732216299778, 1.0295755673125127, 1.1236548001387516, 1.2263306841775632, 1.3383887531737577, 1.460686320364989, 1.5941590374559995, 1.739828052930364, 1.8988078244652633, 2.0723146452190293, 2.2616759492228646, 2.4683404670686486, 2.6938893095901726, 2.940048064334711, 3.2086999973704504, 3.501900461431713, 3.8218926206331187, 4.171124612056521, 4.55226827550731, 4.968239594734388, 5.422221006501586, 5.917685748188824, 6.458424430196978, 7.048574036451903, 7.692649574879146, 8.395578619995112, 9.16273901188674, 10.0], \"xaxis\": \"x\", \"y\": [0.0, 0.0, 0.0, 0.0, 0.0, 0.0, 0.0, 0.0, 0.0, 0.0, 0.0, 0.0, 0.0, 0.0, 0.0, 0.0, 0.0, 0.0, 0.0, 0.0, 0.0, 0.0, 0.0, 0.0, 0.0, 0.0, 0.0, 0.0, 0.0, 0.0, 0.0, 0.0, 0.0, 0.0, 0.0, 0.0, 0.0, 0.0, 0.0, 0.0, 0.0, 0.0, 0.0, 0.0, 0.0, 0.0, 0.0, 0.0, 0.0, 0.0, 0.0, 0.0, 0.0, 0.0, 0.0, 0.0, 0.0, 0.0, 0.0, 0.0, 0.0, 0.0, 0.0, 0.0, 0.0, 0.0, 0.0, 0.0, 0.0, 0.0, 0.0, 0.0, 0.0, 0.0, 0.0, 0.0, 0.0, 0.0, 0.0, 0.0], \"yaxis\": \"y\"}, {\"hovertemplate\": \"variable=bp^3<br>alphas=%{x}<br>value=%{y}<extra></extra>\", \"legendgroup\": \"bp^3\", \"line\": {\"color\": \"#ab63fa\", \"dash\": \"solid\"}, \"mode\": \"lines\", \"name\": \"bp^3\", \"showlegend\": true, \"type\": \"scattergl\", \"x\": [0.01, 0.010913767146512732, 0.011911031332830068, 0.012999422244132456, 0.014187266741165962, 0.015483652565854992, 0.01689849786812457, 0.018442627085855347, 0.020127853758499396, 0.021967070907932353, 0.02397434967801077, 0.02616504698748821, 0.028555923019901074, 0.031165269449294302, 0.03401304938279253, 0.03712105009066361, 0.04051304969235382, 0.04421499907374487, 0.04825522042741279, 0.05266462393484278, 0.05747694424835353, 0.06272899858196247, 0.06846096838574658, 0.07471670675868078, 0.08154407395185162, 0.08899530352885233, 0.09712740198471168, 0.10600258488068824, 0.11568875283162827, 0.12626001098748565, 0.13779723598335575, 0.150388694695541, 0.1641307195375129, 0.1791284454622004, 0.19549661430912604, 0.21336045265014109, 0.23285662984981953, 0.25413430367026363, 0.2773562614198415, 0.3027001653763463, 0.33035991201283393, 0.3605471154250504, 0.39349272630958493, 0.42944879887892745, 0.46869041923141924, 0.5115178099293143, 0.5582586268862695, 0.6092704661368677, 0.6649435996665045, 0.7257039612324216, 0.7920164050192553, 0.864388262059827, 0.9433732216299778, 1.0295755673125127, 1.1236548001387516, 1.2263306841775632, 1.3383887531737577, 1.460686320364989, 1.5941590374559995, 1.739828052930364, 1.8988078244652633, 2.0723146452190293, 2.2616759492228646, 2.4683404670686486, 2.6938893095901726, 2.940048064334711, 3.2086999973704504, 3.501900461431713, 3.8218926206331187, 4.171124612056521, 4.55226827550731, 4.968239594734388, 5.422221006501586, 5.917685748188824, 6.458424430196978, 7.048574036451903, 7.692649574879146, 8.395578619995112, 9.16273901188674, 10.0], \"xaxis\": \"x\", \"y\": [0.0, 0.0, 0.0, 0.0, 0.0, 0.0, 0.0, 0.0, 0.0, 0.0, 0.0, 0.0, 0.0, 0.0, 0.0, 0.0, 0.0, 0.0, 0.0, 0.0, 0.0, 0.0, 0.0, 0.0, 0.0, 0.0, 0.0, 0.0, 0.0, 0.0, 0.0, 0.0, 0.0, 0.0, 0.0, 0.0, 0.0, 0.0, 0.0, 0.0, 0.0, 0.0, 0.0, 0.0, 0.0, 0.0, 0.0, 0.0, 0.0, 0.0, 0.0, 0.0, 0.0, 0.0, 0.0, 0.0, 0.0, 0.0, 0.0, 0.0, 0.0, 0.0, 0.0, 0.0, 0.0, 0.0, 0.0, 0.0, 0.0, 0.0, 0.0, 0.0, 0.0, 0.0, 0.0, 0.0, 0.0, 0.0, 0.0, 0.0], \"yaxis\": \"y\"}, {\"hovertemplate\": \"variable=s1^3<br>alphas=%{x}<br>value=%{y}<extra></extra>\", \"legendgroup\": \"s1^3\", \"line\": {\"color\": \"#FFA15A\", \"dash\": \"solid\"}, \"mode\": \"lines\", \"name\": \"s1^3\", \"showlegend\": true, \"type\": \"scattergl\", \"x\": [0.01, 0.010913767146512732, 0.011911031332830068, 0.012999422244132456, 0.014187266741165962, 0.015483652565854992, 0.01689849786812457, 0.018442627085855347, 0.020127853758499396, 0.021967070907932353, 0.02397434967801077, 0.02616504698748821, 0.028555923019901074, 0.031165269449294302, 0.03401304938279253, 0.03712105009066361, 0.04051304969235382, 0.04421499907374487, 0.04825522042741279, 0.05266462393484278, 0.05747694424835353, 0.06272899858196247, 0.06846096838574658, 0.07471670675868078, 0.08154407395185162, 0.08899530352885233, 0.09712740198471168, 0.10600258488068824, 0.11568875283162827, 0.12626001098748565, 0.13779723598335575, 0.150388694695541, 0.1641307195375129, 0.1791284454622004, 0.19549661430912604, 0.21336045265014109, 0.23285662984981953, 0.25413430367026363, 0.2773562614198415, 0.3027001653763463, 0.33035991201283393, 0.3605471154250504, 0.39349272630958493, 0.42944879887892745, 0.46869041923141924, 0.5115178099293143, 0.5582586268862695, 0.6092704661368677, 0.6649435996665045, 0.7257039612324216, 0.7920164050192553, 0.864388262059827, 0.9433732216299778, 1.0295755673125127, 1.1236548001387516, 1.2263306841775632, 1.3383887531737577, 1.460686320364989, 1.5941590374559995, 1.739828052930364, 1.8988078244652633, 2.0723146452190293, 2.2616759492228646, 2.4683404670686486, 2.6938893095901726, 2.940048064334711, 3.2086999973704504, 3.501900461431713, 3.8218926206331187, 4.171124612056521, 4.55226827550731, 4.968239594734388, 5.422221006501586, 5.917685748188824, 6.458424430196978, 7.048574036451903, 7.692649574879146, 8.395578619995112, 9.16273901188674, 10.0], \"xaxis\": \"x\", \"y\": [0.0, 0.0, 0.0, 0.0, 0.0, 0.0, 0.0, 0.0, 0.0, 0.0, 0.0, -0.0, -0.0, -0.0, -0.0, -0.0, -0.0, -0.0, -0.0, -0.0, -0.0, -0.0, -0.0, -0.0, -0.0, -0.0, -0.0, -0.0, -0.0, -0.0, -0.0, -0.0, -0.0, -0.0, -0.0, -0.0, -0.0, -0.0, -0.0, -0.0, -0.0, -0.0, -0.0, -0.0, -0.0, -0.0, -0.0, -0.0, -0.0, -0.0, 0.0, 0.0, 0.0, 0.0, 0.0, 0.0, 0.0, 0.0, 0.0, 0.0, 0.0, 0.0, 0.0, 0.0, 0.0, 0.0, 0.0, 0.0, 0.0, 0.0, 0.0, 0.0, 0.0, 0.0, 0.0, 0.0, 0.0, 0.0, 0.0, 0.0], \"yaxis\": \"y\"}, {\"hovertemplate\": \"variable=s2^3<br>alphas=%{x}<br>value=%{y}<extra></extra>\", \"legendgroup\": \"s2^3\", \"line\": {\"color\": \"#19d3f3\", \"dash\": \"solid\"}, \"mode\": \"lines\", \"name\": \"s2^3\", \"showlegend\": true, \"type\": \"scattergl\", \"x\": [0.01, 0.010913767146512732, 0.011911031332830068, 0.012999422244132456, 0.014187266741165962, 0.015483652565854992, 0.01689849786812457, 0.018442627085855347, 0.020127853758499396, 0.021967070907932353, 0.02397434967801077, 0.02616504698748821, 0.028555923019901074, 0.031165269449294302, 0.03401304938279253, 0.03712105009066361, 0.04051304969235382, 0.04421499907374487, 0.04825522042741279, 0.05266462393484278, 0.05747694424835353, 0.06272899858196247, 0.06846096838574658, 0.07471670675868078, 0.08154407395185162, 0.08899530352885233, 0.09712740198471168, 0.10600258488068824, 0.11568875283162827, 0.12626001098748565, 0.13779723598335575, 0.150388694695541, 0.1641307195375129, 0.1791284454622004, 0.19549661430912604, 0.21336045265014109, 0.23285662984981953, 0.25413430367026363, 0.2773562614198415, 0.3027001653763463, 0.33035991201283393, 0.3605471154250504, 0.39349272630958493, 0.42944879887892745, 0.46869041923141924, 0.5115178099293143, 0.5582586268862695, 0.6092704661368677, 0.6649435996665045, 0.7257039612324216, 0.7920164050192553, 0.864388262059827, 0.9433732216299778, 1.0295755673125127, 1.1236548001387516, 1.2263306841775632, 1.3383887531737577, 1.460686320364989, 1.5941590374559995, 1.739828052930364, 1.8988078244652633, 2.0723146452190293, 2.2616759492228646, 2.4683404670686486, 2.6938893095901726, 2.940048064334711, 3.2086999973704504, 3.501900461431713, 3.8218926206331187, 4.171124612056521, 4.55226827550731, 4.968239594734388, 5.422221006501586, 5.917685748188824, 6.458424430196978, 7.048574036451903, 7.692649574879146, 8.395578619995112, 9.16273901188674, 10.0], \"xaxis\": \"x\", \"y\": [-0.0, -0.0, -0.0, -0.0, -0.0, -0.0, -0.0, -0.0, -0.0, -0.0, -0.0, -0.0, -0.0, -0.0, -0.0, -0.0, -0.0, -0.0, -0.0, -0.0, -0.0, -0.0, -0.0, -0.0, -0.0, -0.0, -0.0, -0.0, -0.0, -0.0, -0.0, -0.0, -0.0, -0.0, -0.0, -0.0, -0.0, -0.0, -0.0, -0.0, -0.0, -0.0, -0.0, -0.0, -0.0, -0.0, -0.0, -0.0, -0.0, -0.0, -0.0, -0.0, -0.0, -0.0, 0.0, 0.0, 0.0, 0.0, 0.0, 0.0, 0.0, 0.0, 0.0, 0.0, 0.0, 0.0, 0.0, 0.0, 0.0, 0.0, 0.0, 0.0, 0.0, 0.0, 0.0, 0.0, 0.0, 0.0, 0.0, 0.0], \"yaxis\": \"y\"}, {\"hovertemplate\": \"variable=s3^3<br>alphas=%{x}<br>value=%{y}<extra></extra>\", \"legendgroup\": \"s3^3\", \"line\": {\"color\": \"#FF6692\", \"dash\": \"solid\"}, \"mode\": \"lines\", \"name\": \"s3^3\", \"showlegend\": true, \"type\": \"scattergl\", \"x\": [0.01, 0.010913767146512732, 0.011911031332830068, 0.012999422244132456, 0.014187266741165962, 0.015483652565854992, 0.01689849786812457, 0.018442627085855347, 0.020127853758499396, 0.021967070907932353, 0.02397434967801077, 0.02616504698748821, 0.028555923019901074, 0.031165269449294302, 0.03401304938279253, 0.03712105009066361, 0.04051304969235382, 0.04421499907374487, 0.04825522042741279, 0.05266462393484278, 0.05747694424835353, 0.06272899858196247, 0.06846096838574658, 0.07471670675868078, 0.08154407395185162, 0.08899530352885233, 0.09712740198471168, 0.10600258488068824, 0.11568875283162827, 0.12626001098748565, 0.13779723598335575, 0.150388694695541, 0.1641307195375129, 0.1791284454622004, 0.19549661430912604, 0.21336045265014109, 0.23285662984981953, 0.25413430367026363, 0.2773562614198415, 0.3027001653763463, 0.33035991201283393, 0.3605471154250504, 0.39349272630958493, 0.42944879887892745, 0.46869041923141924, 0.5115178099293143, 0.5582586268862695, 0.6092704661368677, 0.6649435996665045, 0.7257039612324216, 0.7920164050192553, 0.864388262059827, 0.9433732216299778, 1.0295755673125127, 1.1236548001387516, 1.2263306841775632, 1.3383887531737577, 1.460686320364989, 1.5941590374559995, 1.739828052930364, 1.8988078244652633, 2.0723146452190293, 2.2616759492228646, 2.4683404670686486, 2.6938893095901726, 2.940048064334711, 3.2086999973704504, 3.501900461431713, 3.8218926206331187, 4.171124612056521, 4.55226827550731, 4.968239594734388, 5.422221006501586, 5.917685748188824, 6.458424430196978, 7.048574036451903, 7.692649574879146, 8.395578619995112, 9.16273901188674, 10.0], \"xaxis\": \"x\", \"y\": [0.0, 0.0, 0.0, 0.0, 0.0, 0.0, 0.0, 0.0, 0.0, 0.0, 0.0, 0.0, 0.0, 0.0, 0.0, 0.0, 0.0, 0.0, 0.0, 0.0, 0.0, 0.0, 0.0, 0.0, 0.0, 0.0, 0.0, -0.0, -0.0, -0.0, -0.0, -0.0, -0.0, -0.0, -0.0, -0.0, -0.0, -0.0, -0.0, -0.0, -0.0, -0.0, -0.0, -0.0, -0.0, -0.0, -0.0, -0.0, -0.0, -0.0, -0.0, -0.0, -0.0, -0.0, -0.0, -0.0, -0.0, -0.0, -0.0, -0.0, -0.0, -0.0, -0.0, -0.0, -0.0, -0.0, -0.0, -0.0, -0.0, -0.0, -0.0, -0.0, -0.0, -0.0, -0.0, -0.0, -0.0, -0.0, -0.0, -0.0], \"yaxis\": \"y\"}, {\"hovertemplate\": \"variable=s4^3<br>alphas=%{x}<br>value=%{y}<extra></extra>\", \"legendgroup\": \"s4^3\", \"line\": {\"color\": \"#B6E880\", \"dash\": \"solid\"}, \"mode\": \"lines\", \"name\": \"s4^3\", \"showlegend\": true, \"type\": \"scattergl\", \"x\": [0.01, 0.010913767146512732, 0.011911031332830068, 0.012999422244132456, 0.014187266741165962, 0.015483652565854992, 0.01689849786812457, 0.018442627085855347, 0.020127853758499396, 0.021967070907932353, 0.02397434967801077, 0.02616504698748821, 0.028555923019901074, 0.031165269449294302, 0.03401304938279253, 0.03712105009066361, 0.04051304969235382, 0.04421499907374487, 0.04825522042741279, 0.05266462393484278, 0.05747694424835353, 0.06272899858196247, 0.06846096838574658, 0.07471670675868078, 0.08154407395185162, 0.08899530352885233, 0.09712740198471168, 0.10600258488068824, 0.11568875283162827, 0.12626001098748565, 0.13779723598335575, 0.150388694695541, 0.1641307195375129, 0.1791284454622004, 0.19549661430912604, 0.21336045265014109, 0.23285662984981953, 0.25413430367026363, 0.2773562614198415, 0.3027001653763463, 0.33035991201283393, 0.3605471154250504, 0.39349272630958493, 0.42944879887892745, 0.46869041923141924, 0.5115178099293143, 0.5582586268862695, 0.6092704661368677, 0.6649435996665045, 0.7257039612324216, 0.7920164050192553, 0.864388262059827, 0.9433732216299778, 1.0295755673125127, 1.1236548001387516, 1.2263306841775632, 1.3383887531737577, 1.460686320364989, 1.5941590374559995, 1.739828052930364, 1.8988078244652633, 2.0723146452190293, 2.2616759492228646, 2.4683404670686486, 2.6938893095901726, 2.940048064334711, 3.2086999973704504, 3.501900461431713, 3.8218926206331187, 4.171124612056521, 4.55226827550731, 4.968239594734388, 5.422221006501586, 5.917685748188824, 6.458424430196978, 7.048574036451903, 7.692649574879146, 8.395578619995112, 9.16273901188674, 10.0], \"xaxis\": \"x\", \"y\": [-0.0, -0.0, -0.0, -0.0, -0.0, -0.0, -0.0, -0.0, -0.0, -0.0, -0.0, -0.0, -0.0, -0.0, -0.0, -0.0, -0.0, -0.0, -0.0, -0.0, -0.0, -0.0, -0.0, -0.0, -0.0, -0.0, -0.0, -0.0, -0.0, -0.0, -0.0, -0.0, -0.0, -0.0, -0.0, 0.0, 0.0, 0.0, 0.0, 0.0, 0.0, 0.0, 0.0, 0.0, 0.0, 0.0, 0.0, 0.0, 0.0, 0.0, 0.0, 0.0, 0.0, 0.0, 0.0, 0.0, 0.0, 0.0, 0.0, 0.0, 0.0, 0.0, 0.0, 0.0, 0.0, 0.0, 0.0, 0.0, 0.0, 0.0, 0.0, 0.0, 0.0, 0.0, 0.0, 0.0, 0.0, 0.0, 0.0, 0.0], \"yaxis\": \"y\"}, {\"hovertemplate\": \"variable=s5^3<br>alphas=%{x}<br>value=%{y}<extra></extra>\", \"legendgroup\": \"s5^3\", \"line\": {\"color\": \"#FF97FF\", \"dash\": \"solid\"}, \"mode\": \"lines\", \"name\": \"s5^3\", \"showlegend\": true, \"type\": \"scattergl\", \"x\": [0.01, 0.010913767146512732, 0.011911031332830068, 0.012999422244132456, 0.014187266741165962, 0.015483652565854992, 0.01689849786812457, 0.018442627085855347, 0.020127853758499396, 0.021967070907932353, 0.02397434967801077, 0.02616504698748821, 0.028555923019901074, 0.031165269449294302, 0.03401304938279253, 0.03712105009066361, 0.04051304969235382, 0.04421499907374487, 0.04825522042741279, 0.05266462393484278, 0.05747694424835353, 0.06272899858196247, 0.06846096838574658, 0.07471670675868078, 0.08154407395185162, 0.08899530352885233, 0.09712740198471168, 0.10600258488068824, 0.11568875283162827, 0.12626001098748565, 0.13779723598335575, 0.150388694695541, 0.1641307195375129, 0.1791284454622004, 0.19549661430912604, 0.21336045265014109, 0.23285662984981953, 0.25413430367026363, 0.2773562614198415, 0.3027001653763463, 0.33035991201283393, 0.3605471154250504, 0.39349272630958493, 0.42944879887892745, 0.46869041923141924, 0.5115178099293143, 0.5582586268862695, 0.6092704661368677, 0.6649435996665045, 0.7257039612324216, 0.7920164050192553, 0.864388262059827, 0.9433732216299778, 1.0295755673125127, 1.1236548001387516, 1.2263306841775632, 1.3383887531737577, 1.460686320364989, 1.5941590374559995, 1.739828052930364, 1.8988078244652633, 2.0723146452190293, 2.2616759492228646, 2.4683404670686486, 2.6938893095901726, 2.940048064334711, 3.2086999973704504, 3.501900461431713, 3.8218926206331187, 4.171124612056521, 4.55226827550731, 4.968239594734388, 5.422221006501586, 5.917685748188824, 6.458424430196978, 7.048574036451903, 7.692649574879146, 8.395578619995112, 9.16273901188674, 10.0], \"xaxis\": \"x\", \"y\": [-0.0, -0.0, -0.0, -0.0, -0.0, -0.0, -0.0, -0.0, -0.0, -0.0, -0.0, -0.0, -0.0, -0.0, -0.0, -0.0, -0.0, -0.0, -0.0, -0.0, -0.0, -0.0, -0.0, -0.0, -0.0, -0.0, -0.0, -0.0, -0.0, -0.0, -0.0, -0.0, -0.0, -0.0, -0.0, -0.0, -0.0, -0.0, 0.0, 0.0, 0.0, 0.0, 0.0, 0.0, 0.0, 0.0, 0.0, 0.0, 0.0, 0.0, 0.0, 0.0, 0.0, 0.0, 0.0, 0.0, 0.0, 0.0, 0.0, 0.0, 0.0, 0.0, 0.0, 0.0, 0.0, 0.0, 0.0, 0.0, 0.0, 0.0, 0.0, 0.0, 0.0, 0.0, 0.0, 0.0, 0.0, 0.0, 0.0, 0.0], \"yaxis\": \"y\"}, {\"hovertemplate\": \"variable=s6^3<br>alphas=%{x}<br>value=%{y}<extra></extra>\", \"legendgroup\": \"s6^3\", \"line\": {\"color\": \"#FECB52\", \"dash\": \"solid\"}, \"mode\": \"lines\", \"name\": \"s6^3\", \"showlegend\": true, \"type\": \"scattergl\", \"x\": [0.01, 0.010913767146512732, 0.011911031332830068, 0.012999422244132456, 0.014187266741165962, 0.015483652565854992, 0.01689849786812457, 0.018442627085855347, 0.020127853758499396, 0.021967070907932353, 0.02397434967801077, 0.02616504698748821, 0.028555923019901074, 0.031165269449294302, 0.03401304938279253, 0.03712105009066361, 0.04051304969235382, 0.04421499907374487, 0.04825522042741279, 0.05266462393484278, 0.05747694424835353, 0.06272899858196247, 0.06846096838574658, 0.07471670675868078, 0.08154407395185162, 0.08899530352885233, 0.09712740198471168, 0.10600258488068824, 0.11568875283162827, 0.12626001098748565, 0.13779723598335575, 0.150388694695541, 0.1641307195375129, 0.1791284454622004, 0.19549661430912604, 0.21336045265014109, 0.23285662984981953, 0.25413430367026363, 0.2773562614198415, 0.3027001653763463, 0.33035991201283393, 0.3605471154250504, 0.39349272630958493, 0.42944879887892745, 0.46869041923141924, 0.5115178099293143, 0.5582586268862695, 0.6092704661368677, 0.6649435996665045, 0.7257039612324216, 0.7920164050192553, 0.864388262059827, 0.9433732216299778, 1.0295755673125127, 1.1236548001387516, 1.2263306841775632, 1.3383887531737577, 1.460686320364989, 1.5941590374559995, 1.739828052930364, 1.8988078244652633, 2.0723146452190293, 2.2616759492228646, 2.4683404670686486, 2.6938893095901726, 2.940048064334711, 3.2086999973704504, 3.501900461431713, 3.8218926206331187, 4.171124612056521, 4.55226827550731, 4.968239594734388, 5.422221006501586, 5.917685748188824, 6.458424430196978, 7.048574036451903, 7.692649574879146, 8.395578619995112, 9.16273901188674, 10.0], \"xaxis\": \"x\", \"y\": [0.0, 0.0, 0.0, 0.0, 0.0, 0.0, 0.0, 0.0, 0.0, 0.0, 0.0, 0.0, 0.0, 0.0, 0.0, 0.0, 0.0, 0.0, 0.0, 0.0, 0.0, 0.0, 0.0, 0.0, 0.0, 0.0, 0.0, 0.0, 0.0, 0.0, 0.0, 0.0, 0.0, 0.0, 0.0, 0.0, 0.0, 0.0, 0.0, 0.0, 0.0, 0.0, 0.0, 0.0, 0.0, 0.0, 0.0, 0.0, 0.0, 0.0, 0.0, 0.0, 0.0, 0.0, 0.0, 0.0, 0.0, 0.0, 0.0, 0.0, 0.0, 0.0, 0.0, 0.0, 0.0, 0.0, 0.0, 0.0, 0.0, 0.0, 0.0, 0.0, 0.0, 0.0, 0.0, 0.0, 0.0, 0.0, 0.0, 0.0], \"yaxis\": \"y\"}],                        {\"legend\": {\"title\": {\"text\": \"variable\"}, \"tracegroupgap\": 0}, \"margin\": {\"t\": 60}, \"template\": {\"data\": {\"bar\": [{\"error_x\": {\"color\": \"#2a3f5f\"}, \"error_y\": {\"color\": \"#2a3f5f\"}, \"marker\": {\"line\": {\"color\": \"#E5ECF6\", \"width\": 0.5}}, \"type\": \"bar\"}], \"barpolar\": [{\"marker\": {\"line\": {\"color\": \"#E5ECF6\", \"width\": 0.5}}, \"type\": \"barpolar\"}], \"carpet\": [{\"aaxis\": {\"endlinecolor\": \"#2a3f5f\", \"gridcolor\": \"white\", \"linecolor\": \"white\", \"minorgridcolor\": \"white\", \"startlinecolor\": \"#2a3f5f\"}, \"baxis\": {\"endlinecolor\": \"#2a3f5f\", \"gridcolor\": \"white\", \"linecolor\": \"white\", \"minorgridcolor\": \"white\", \"startlinecolor\": \"#2a3f5f\"}, \"type\": \"carpet\"}], \"choropleth\": [{\"colorbar\": {\"outlinewidth\": 0, \"ticks\": \"\"}, \"type\": \"choropleth\"}], \"contour\": [{\"colorbar\": {\"outlinewidth\": 0, \"ticks\": \"\"}, \"colorscale\": [[0.0, \"#0d0887\"], [0.1111111111111111, \"#46039f\"], [0.2222222222222222, \"#7201a8\"], [0.3333333333333333, \"#9c179e\"], [0.4444444444444444, \"#bd3786\"], [0.5555555555555556, \"#d8576b\"], [0.6666666666666666, \"#ed7953\"], [0.7777777777777778, \"#fb9f3a\"], [0.8888888888888888, \"#fdca26\"], [1.0, \"#f0f921\"]], \"type\": \"contour\"}], \"contourcarpet\": [{\"colorbar\": {\"outlinewidth\": 0, \"ticks\": \"\"}, \"type\": \"contourcarpet\"}], \"heatmap\": [{\"colorbar\": {\"outlinewidth\": 0, \"ticks\": \"\"}, \"colorscale\": [[0.0, \"#0d0887\"], [0.1111111111111111, \"#46039f\"], [0.2222222222222222, \"#7201a8\"], [0.3333333333333333, \"#9c179e\"], [0.4444444444444444, \"#bd3786\"], [0.5555555555555556, \"#d8576b\"], [0.6666666666666666, \"#ed7953\"], [0.7777777777777778, \"#fb9f3a\"], [0.8888888888888888, \"#fdca26\"], [1.0, \"#f0f921\"]], \"type\": \"heatmap\"}], \"heatmapgl\": [{\"colorbar\": {\"outlinewidth\": 0, \"ticks\": \"\"}, \"colorscale\": [[0.0, \"#0d0887\"], [0.1111111111111111, \"#46039f\"], [0.2222222222222222, \"#7201a8\"], [0.3333333333333333, \"#9c179e\"], [0.4444444444444444, \"#bd3786\"], [0.5555555555555556, \"#d8576b\"], [0.6666666666666666, \"#ed7953\"], [0.7777777777777778, \"#fb9f3a\"], [0.8888888888888888, \"#fdca26\"], [1.0, \"#f0f921\"]], \"type\": \"heatmapgl\"}], \"histogram\": [{\"marker\": {\"colorbar\": {\"outlinewidth\": 0, \"ticks\": \"\"}}, \"type\": \"histogram\"}], \"histogram2d\": [{\"colorbar\": {\"outlinewidth\": 0, \"ticks\": \"\"}, \"colorscale\": [[0.0, \"#0d0887\"], [0.1111111111111111, \"#46039f\"], [0.2222222222222222, \"#7201a8\"], [0.3333333333333333, \"#9c179e\"], [0.4444444444444444, \"#bd3786\"], [0.5555555555555556, \"#d8576b\"], [0.6666666666666666, \"#ed7953\"], [0.7777777777777778, \"#fb9f3a\"], [0.8888888888888888, \"#fdca26\"], [1.0, \"#f0f921\"]], \"type\": \"histogram2d\"}], \"histogram2dcontour\": [{\"colorbar\": {\"outlinewidth\": 0, \"ticks\": \"\"}, \"colorscale\": [[0.0, \"#0d0887\"], [0.1111111111111111, \"#46039f\"], [0.2222222222222222, \"#7201a8\"], [0.3333333333333333, \"#9c179e\"], [0.4444444444444444, \"#bd3786\"], [0.5555555555555556, \"#d8576b\"], [0.6666666666666666, \"#ed7953\"], [0.7777777777777778, \"#fb9f3a\"], [0.8888888888888888, \"#fdca26\"], [1.0, \"#f0f921\"]], \"type\": \"histogram2dcontour\"}], \"mesh3d\": [{\"colorbar\": {\"outlinewidth\": 0, \"ticks\": \"\"}, \"type\": \"mesh3d\"}], \"parcoords\": [{\"line\": {\"colorbar\": {\"outlinewidth\": 0, \"ticks\": \"\"}}, \"type\": \"parcoords\"}], \"pie\": [{\"automargin\": true, \"type\": \"pie\"}], \"scatter\": [{\"marker\": {\"colorbar\": {\"outlinewidth\": 0, \"ticks\": \"\"}}, \"type\": \"scatter\"}], \"scatter3d\": [{\"line\": {\"colorbar\": {\"outlinewidth\": 0, \"ticks\": \"\"}}, \"marker\": {\"colorbar\": {\"outlinewidth\": 0, \"ticks\": \"\"}}, \"type\": \"scatter3d\"}], \"scattercarpet\": [{\"marker\": {\"colorbar\": {\"outlinewidth\": 0, \"ticks\": \"\"}}, \"type\": \"scattercarpet\"}], \"scattergeo\": [{\"marker\": {\"colorbar\": {\"outlinewidth\": 0, \"ticks\": \"\"}}, \"type\": \"scattergeo\"}], \"scattergl\": [{\"marker\": {\"colorbar\": {\"outlinewidth\": 0, \"ticks\": \"\"}}, \"type\": \"scattergl\"}], \"scattermapbox\": [{\"marker\": {\"colorbar\": {\"outlinewidth\": 0, \"ticks\": \"\"}}, \"type\": \"scattermapbox\"}], \"scatterpolar\": [{\"marker\": {\"colorbar\": {\"outlinewidth\": 0, \"ticks\": \"\"}}, \"type\": \"scatterpolar\"}], \"scatterpolargl\": [{\"marker\": {\"colorbar\": {\"outlinewidth\": 0, \"ticks\": \"\"}}, \"type\": \"scatterpolargl\"}], \"scatterternary\": [{\"marker\": {\"colorbar\": {\"outlinewidth\": 0, \"ticks\": \"\"}}, \"type\": \"scatterternary\"}], \"surface\": [{\"colorbar\": {\"outlinewidth\": 0, \"ticks\": \"\"}, \"colorscale\": [[0.0, \"#0d0887\"], [0.1111111111111111, \"#46039f\"], [0.2222222222222222, \"#7201a8\"], [0.3333333333333333, \"#9c179e\"], [0.4444444444444444, \"#bd3786\"], [0.5555555555555556, \"#d8576b\"], [0.6666666666666666, \"#ed7953\"], [0.7777777777777778, \"#fb9f3a\"], [0.8888888888888888, \"#fdca26\"], [1.0, \"#f0f921\"]], \"type\": \"surface\"}], \"table\": [{\"cells\": {\"fill\": {\"color\": \"#EBF0F8\"}, \"line\": {\"color\": \"white\"}}, \"header\": {\"fill\": {\"color\": \"#C8D4E3\"}, \"line\": {\"color\": \"white\"}}, \"type\": \"table\"}]}, \"layout\": {\"annotationdefaults\": {\"arrowcolor\": \"#2a3f5f\", \"arrowhead\": 0, \"arrowwidth\": 1}, \"coloraxis\": {\"colorbar\": {\"outlinewidth\": 0, \"ticks\": \"\"}}, \"colorscale\": {\"diverging\": [[0, \"#8e0152\"], [0.1, \"#c51b7d\"], [0.2, \"#de77ae\"], [0.3, \"#f1b6da\"], [0.4, \"#fde0ef\"], [0.5, \"#f7f7f7\"], [0.6, \"#e6f5d0\"], [0.7, \"#b8e186\"], [0.8, \"#7fbc41\"], [0.9, \"#4d9221\"], [1, \"#276419\"]], \"sequential\": [[0.0, \"#0d0887\"], [0.1111111111111111, \"#46039f\"], [0.2222222222222222, \"#7201a8\"], [0.3333333333333333, \"#9c179e\"], [0.4444444444444444, \"#bd3786\"], [0.5555555555555556, \"#d8576b\"], [0.6666666666666666, \"#ed7953\"], [0.7777777777777778, \"#fb9f3a\"], [0.8888888888888888, \"#fdca26\"], [1.0, \"#f0f921\"]], \"sequentialminus\": [[0.0, \"#0d0887\"], [0.1111111111111111, \"#46039f\"], [0.2222222222222222, \"#7201a8\"], [0.3333333333333333, \"#9c179e\"], [0.4444444444444444, \"#bd3786\"], [0.5555555555555556, \"#d8576b\"], [0.6666666666666666, \"#ed7953\"], [0.7777777777777778, \"#fb9f3a\"], [0.8888888888888888, \"#fdca26\"], [1.0, \"#f0f921\"]]}, \"colorway\": [\"#636efa\", \"#EF553B\", \"#00cc96\", \"#ab63fa\", \"#FFA15A\", \"#19d3f3\", \"#FF6692\", \"#B6E880\", \"#FF97FF\", \"#FECB52\"], \"font\": {\"color\": \"#2a3f5f\"}, \"geo\": {\"bgcolor\": \"white\", \"lakecolor\": \"white\", \"landcolor\": \"#E5ECF6\", \"showlakes\": true, \"showland\": true, \"subunitcolor\": \"white\"}, \"hoverlabel\": {\"align\": \"left\"}, \"hovermode\": \"closest\", \"mapbox\": {\"style\": \"light\"}, \"paper_bgcolor\": \"white\", \"plot_bgcolor\": \"#E5ECF6\", \"polar\": {\"angularaxis\": {\"gridcolor\": \"white\", \"linecolor\": \"white\", \"ticks\": \"\"}, \"bgcolor\": \"#E5ECF6\", \"radialaxis\": {\"gridcolor\": \"white\", \"linecolor\": \"white\", \"ticks\": \"\"}}, \"scene\": {\"xaxis\": {\"backgroundcolor\": \"#E5ECF6\", \"gridcolor\": \"white\", \"gridwidth\": 2, \"linecolor\": \"white\", \"showbackground\": true, \"ticks\": \"\", \"zerolinecolor\": \"white\"}, \"yaxis\": {\"backgroundcolor\": \"#E5ECF6\", \"gridcolor\": \"white\", \"gridwidth\": 2, \"linecolor\": \"white\", \"showbackground\": true, \"ticks\": \"\", \"zerolinecolor\": \"white\"}, \"zaxis\": {\"backgroundcolor\": \"#E5ECF6\", \"gridcolor\": \"white\", \"gridwidth\": 2, \"linecolor\": \"white\", \"showbackground\": true, \"ticks\": \"\", \"zerolinecolor\": \"white\"}}, \"shapedefaults\": {\"line\": {\"color\": \"#2a3f5f\"}}, \"ternary\": {\"aaxis\": {\"gridcolor\": \"white\", \"linecolor\": \"white\", \"ticks\": \"\"}, \"baxis\": {\"gridcolor\": \"white\", \"linecolor\": \"white\", \"ticks\": \"\"}, \"bgcolor\": \"#E5ECF6\", \"caxis\": {\"gridcolor\": \"white\", \"linecolor\": \"white\", \"ticks\": \"\"}}, \"title\": {\"x\": 0.05}, \"xaxis\": {\"automargin\": true, \"gridcolor\": \"white\", \"linecolor\": \"white\", \"ticks\": \"\", \"title\": {\"standoff\": 15}, \"zerolinecolor\": \"white\", \"zerolinewidth\": 2}, \"yaxis\": {\"automargin\": true, \"gridcolor\": \"white\", \"linecolor\": \"white\", \"ticks\": \"\", \"title\": {\"standoff\": 15}, \"zerolinecolor\": \"white\", \"zerolinewidth\": 2}}}, \"xaxis\": {\"anchor\": \"y\", \"domain\": [0.0, 1.0], \"title\": {\"text\": \"alphas\"}, \"type\": \"log\"}, \"yaxis\": {\"anchor\": \"x\", \"domain\": [0.0, 1.0], \"title\": {\"text\": \"value\"}}},                        {\"responsive\": true}                    ).then(function(){\n                            \nvar gd = document.getElementById('e60b94ed-1475-49cc-8b06-e73c5b281a4a');\nvar x = new MutationObserver(function (mutations, observer) {{\n        var display = window.getComputedStyle(gd).display;\n        if (!display || display === 'none') {{\n            console.log([gd, 'removed!']);\n            Plotly.purge(gd);\n            observer.disconnect();\n        }}\n}});\n\n// Listen for the removal of the full notebook cells\nvar notebookContainer = gd.closest('#notebook-container');\nif (notebookContainer) {{\n    x.observe(notebookContainer, {childList: true});\n}}\n\n// Listen for the clearing of the current output cell\nvar outputEl = gd.closest('.output');\nif (outputEl) {{\n    x.observe(outputEl, {childList: true});\n}}\n\n                        })                };                });            </script>        </div>"
     },
     "metadata": {}
    }
   ],
   "source": [
    "coefs = []\n",
    "for a in alphas:\n",
    "    ridge = Lasso(alpha=a)\n",
    "    ridge.fit(original_X_3, original_y)\n",
    "    coefs.append(ridge.coef_)\n",
    "\n",
    "features = original_X_3.columns\n",
    "\n",
    "df_coefs = pd.DataFrame(coefs, columns=features)\n",
    "df_coefs['alphas'] = alphas\n",
    "fig = px.line(df_coefs, x='alphas', y=features)\n",
    "fig.update_xaxes(type='log').show()"
   ]
  },
  {
   "source": [
    "## Fit Polynomial Ridge Regression"
   ],
   "cell_type": "markdown",
   "metadata": {}
  },
  {
   "cell_type": "code",
   "execution_count": 16,
   "metadata": {},
   "outputs": [],
   "source": [
    "model = Lasso(alpha=0.10)\n",
    "model = model.fit(original_X_3, original_y)"
   ]
  },
  {
   "cell_type": "code",
   "execution_count": 18,
   "metadata": {},
   "outputs": [
    {
     "output_type": "execute_result",
     "data": {
      "text/plain": [
       "0.5088400794027146"
      ]
     },
     "metadata": {},
     "execution_count": 18
    }
   ],
   "source": [
    "model.score(original_X_3, original_y)"
   ]
  }
 ]
}