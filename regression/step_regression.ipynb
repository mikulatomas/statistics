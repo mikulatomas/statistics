{
 "metadata": {
  "language_info": {
   "codemirror_mode": {
    "name": "ipython",
    "version": 3
   },
   "file_extension": ".py",
   "mimetype": "text/x-python",
   "name": "python",
   "nbconvert_exporter": "python",
   "pygments_lexer": "ipython3",
   "version": "3.8.9"
  },
  "orig_nbformat": 2,
  "kernelspec": {
   "name": "python389jvsc74a57bd0082a18f759f8afdec9b7eec773590a36e4c3be1cd97bea91855dea5176a8175a",
   "display_name": "Python 3.8.9 64-bit ('fcapy': virtualenvwrapper)"
  }
 },
 "nbformat": 4,
 "nbformat_minor": 2,
 "cells": [
  {
   "cell_type": "code",
   "execution_count": 6,
   "metadata": {},
   "outputs": [],
   "source": [
    "from datasets import load_happines\n",
    "import pandas as pd"
   ]
  },
  {
   "cell_type": "code",
   "execution_count": 2,
   "metadata": {},
   "outputs": [
    {
     "output_type": "execute_result",
     "data": {
      "text/plain": [
       "Index(['region', 'economy', 'family', 'health', 'freedom', 'trust',\n",
       "       'generosity', 'target'],\n",
       "      dtype='object')"
      ]
     },
     "metadata": {},
     "execution_count": 2
    }
   ],
   "source": [
    "df_train, df_test = load_happines()\n",
    "df_train.columns"
   ]
  },
  {
   "cell_type": "code",
   "execution_count": 10,
   "metadata": {},
   "outputs": [],
   "source": [
    "train_X = df_train.drop(['region', 'target'], axis=1)\n",
    "train_y = df_train['target']\n",
    "test_X = df_test.drop(['region', 'target'], axis=1)\n",
    "test_y = df_test['target']"
   ]
  },
  {
   "cell_type": "code",
   "execution_count": 13,
   "metadata": {},
   "outputs": [],
   "source": [
    "train_X_cut, bins = pd.cut(train_X['freedom'], 4, retbins=True)"
   ]
  },
  {
   "cell_type": "code",
   "execution_count": 16,
   "metadata": {},
   "outputs": [],
   "source": [
    "df_steps = pd.concat([train_X['freedom'], train_X_cut, train_y], keys = ['freedom','freedom_cuts','target'], axis = 1)"
   ]
  },
  {
   "cell_type": "code",
   "execution_count": 17,
   "metadata": {},
   "outputs": [
    {
     "output_type": "execute_result",
     "data": {
      "text/plain": [
       "             freedom       freedom_cuts  target\n",
       "country                                        \n",
       "Togo         0.36453     (0.335, 0.502]   2.839\n",
       "Burundi      0.11850  (-0.00067, 0.167]   2.905\n",
       "Syria        0.15684  (-0.00067, 0.167]   3.006\n",
       "Benin        0.48450     (0.335, 0.502]   3.340\n",
       "Rwanda       0.59201      (0.502, 0.67]   3.465\n",
       "...              ...                ...     ...\n",
       "Canada       0.63297      (0.502, 0.67]   7.427\n",
       "Norway       0.66973      (0.502, 0.67]   7.522\n",
       "Denmark      0.64938      (0.502, 0.67]   7.527\n",
       "Iceland      0.62877      (0.502, 0.67]   7.561\n",
       "Switzerland  0.66557      (0.502, 0.67]   7.587\n",
       "\n",
       "[158 rows x 3 columns]"
      ],
      "text/html": "<div>\n<style scoped>\n    .dataframe tbody tr th:only-of-type {\n        vertical-align: middle;\n    }\n\n    .dataframe tbody tr th {\n        vertical-align: top;\n    }\n\n    .dataframe thead th {\n        text-align: right;\n    }\n</style>\n<table border=\"1\" class=\"dataframe\">\n  <thead>\n    <tr style=\"text-align: right;\">\n      <th></th>\n      <th>freedom</th>\n      <th>freedom_cuts</th>\n      <th>target</th>\n    </tr>\n    <tr>\n      <th>country</th>\n      <th></th>\n      <th></th>\n      <th></th>\n    </tr>\n  </thead>\n  <tbody>\n    <tr>\n      <th>Togo</th>\n      <td>0.36453</td>\n      <td>(0.335, 0.502]</td>\n      <td>2.839</td>\n    </tr>\n    <tr>\n      <th>Burundi</th>\n      <td>0.11850</td>\n      <td>(-0.00067, 0.167]</td>\n      <td>2.905</td>\n    </tr>\n    <tr>\n      <th>Syria</th>\n      <td>0.15684</td>\n      <td>(-0.00067, 0.167]</td>\n      <td>3.006</td>\n    </tr>\n    <tr>\n      <th>Benin</th>\n      <td>0.48450</td>\n      <td>(0.335, 0.502]</td>\n      <td>3.340</td>\n    </tr>\n    <tr>\n      <th>Rwanda</th>\n      <td>0.59201</td>\n      <td>(0.502, 0.67]</td>\n      <td>3.465</td>\n    </tr>\n    <tr>\n      <th>...</th>\n      <td>...</td>\n      <td>...</td>\n      <td>...</td>\n    </tr>\n    <tr>\n      <th>Canada</th>\n      <td>0.63297</td>\n      <td>(0.502, 0.67]</td>\n      <td>7.427</td>\n    </tr>\n    <tr>\n      <th>Norway</th>\n      <td>0.66973</td>\n      <td>(0.502, 0.67]</td>\n      <td>7.522</td>\n    </tr>\n    <tr>\n      <th>Denmark</th>\n      <td>0.64938</td>\n      <td>(0.502, 0.67]</td>\n      <td>7.527</td>\n    </tr>\n    <tr>\n      <th>Iceland</th>\n      <td>0.62877</td>\n      <td>(0.502, 0.67]</td>\n      <td>7.561</td>\n    </tr>\n    <tr>\n      <th>Switzerland</th>\n      <td>0.66557</td>\n      <td>(0.502, 0.67]</td>\n      <td>7.587</td>\n    </tr>\n  </tbody>\n</table>\n<p>158 rows × 3 columns</p>\n</div>"
     },
     "metadata": {},
     "execution_count": 17
    }
   ],
   "source": [
    "df_steps"
   ]
  },
  {
   "cell_type": "code",
   "execution_count": null,
   "metadata": {},
   "outputs": [],
   "source": []
  }
 ]
}