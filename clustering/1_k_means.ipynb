{
 "metadata": {
  "language_info": {
   "codemirror_mode": {
    "name": "ipython",
    "version": 3
   },
   "file_extension": ".py",
   "mimetype": "text/x-python",
   "name": "python",
   "nbconvert_exporter": "python",
   "pygments_lexer": "ipython3",
   "version": "3.8.9"
  },
  "orig_nbformat": 2,
  "kernelspec": {
   "name": "python3",
   "display_name": "Python 3.8.9 64-bit ('fcapy': virtualenvwrapper)"
  },
  "interpreter": {
   "hash": "082a18f759f8afdec9b7eec773590a36e4c3be1cd97bea91855dea5176a8175a"
  }
 },
 "nbformat": 4,
 "nbformat_minor": 2,
 "cells": [
  {
   "cell_type": "code",
   "execution_count": 13,
   "metadata": {},
   "outputs": [
    {
     "output_type": "display_data",
     "data": {
      "text/html": "        <script type=\"text/javascript\">\n        window.PlotlyConfig = {MathJaxConfig: 'local'};\n        if (window.MathJax) {MathJax.Hub.Config({SVG: {font: \"STIX-Web\"}});}\n        if (typeof require !== 'undefined') {\n        require.undef(\"plotly\");\n        requirejs.config({\n            paths: {\n                'plotly': ['https://cdn.plot.ly/plotly-latest.min']\n            }\n        });\n        require(['plotly'], function(Plotly) {\n            window._Plotly = Plotly;\n        });\n        }\n        </script>\n        "
     },
     "metadata": {}
    }
   ],
   "source": [
    "from datasets import dutch_data\n",
    "from sklearn.cluster import KMeans\n",
    "from sklearn.metrics import adjusted_rand_score\n",
    "\n",
    "from sklearn.decomposition import PCA\n",
    "import pandas as pd\n",
    "\n",
    "import plotly.express as px\n",
    "from plotly.offline import init_notebook_mode\n",
    "init_notebook_mode(connected=True)"
   ]
  },
  {
   "cell_type": "code",
   "execution_count": 4,
   "metadata": {},
   "outputs": [],
   "source": [
    "df = dutch_data()"
   ]
  },
  {
   "cell_type": "code",
   "execution_count": 6,
   "metadata": {},
   "outputs": [],
   "source": [
    "train_X = df.drop('target', axis=1)\n",
    "train_y = df['target']"
   ]
  },
  {
   "cell_type": "code",
   "execution_count": 7,
   "metadata": {},
   "outputs": [
    {
     "output_type": "execute_result",
     "data": {
      "text/plain": [
       "features           bought in a store  breaks easily  \\\n",
       "exemplar                                              \n",
       "(hot air) balloon                  1              0   \n",
       "accordion                          4              1   \n",
       "airplane                           1              0   \n",
       "anvil                              4              0   \n",
       "apron                              4              0   \n",
       "...                              ...            ...   \n",
       "whisk                              4              0   \n",
       "wire brush                         4              0   \n",
       "wok                                4              0   \n",
       "wrench                             4              0   \n",
       "zeppelin                           1              0   \n",
       "\n",
       "features           can also be used out of the kitchen  \\\n",
       "exemplar                                                 \n",
       "(hot air) balloon                                    3   \n",
       "accordion                                            3   \n",
       "airplane                                             3   \n",
       "anvil                                                3   \n",
       "apron                                                4   \n",
       "...                                                ...   \n",
       "whisk                                                0   \n",
       "wire brush                                           3   \n",
       "wok                                                  0   \n",
       "wrench                                               3   \n",
       "zeppelin                                             3   \n",
       "\n",
       "features           can be a status symbol  can be automatized  can be carried  \\\n",
       "exemplar                                                                        \n",
       "(hot air) balloon                       0                   0               0   \n",
       "accordion                               0                   0               1   \n",
       "airplane                                3                   0               0   \n",
       "anvil                                   0                   0               0   \n",
       "apron                                   0                   0               4   \n",
       "...                                   ...                 ...             ...   \n",
       "whisk                                   0                   0               1   \n",
       "wire brush                              0                   0               1   \n",
       "wok                                     0                   0               1   \n",
       "wrench                                  0                   0               1   \n",
       "zeppelin                                0                   0               0   \n",
       "\n",
       "features           can be dangerous  can be dishwashed  can be electronic  \\\n",
       "exemplar                                                                    \n",
       "(hot air) balloon                 3                  0                  0   \n",
       "accordion                         0                  1                  0   \n",
       "airplane                          4                  0                  0   \n",
       "anvil                             0                  1                  0   \n",
       "apron                             0                  1                  0   \n",
       "...                             ...                ...                ...   \n",
       "whisk                             0                  4                  0   \n",
       "wire brush                        0                  1                  0   \n",
       "wok                               0                  4                  0   \n",
       "wrench                            0                  1                  0   \n",
       "zeppelin                          3                  0                  0   \n",
       "\n",
       "features           can be found in a garage  ...  you can earn money with it  \\\n",
       "exemplar                                     ...                               \n",
       "(hot air) balloon                         0  ...                           2   \n",
       "accordion                                 0  ...                           3   \n",
       "airplane                                  0  ...                           3   \n",
       "anvil                                     0  ...                           0   \n",
       "apron                                     0  ...                           0   \n",
       "...                                     ...  ...                         ...   \n",
       "whisk                                     0  ...                           0   \n",
       "wire brush                                1  ...                           0   \n",
       "wok                                       0  ...                           0   \n",
       "wrench                                    2  ...                           0   \n",
       "zeppelin                                  0  ...                           1   \n",
       "\n",
       "features           you can injure someone with it  \\\n",
       "exemplar                                            \n",
       "(hot air) balloon                               0   \n",
       "accordion                                       0   \n",
       "airplane                                        1   \n",
       "anvil                                           0   \n",
       "apron                                           0   \n",
       "...                                           ...   \n",
       "whisk                                           0   \n",
       "wire brush                                      0   \n",
       "wok                                             0   \n",
       "wrench                                          1   \n",
       "zeppelin                                        0   \n",
       "\n",
       "features           you can kill someone with it  \\\n",
       "exemplar                                          \n",
       "(hot air) balloon                             0   \n",
       "accordion                                     0   \n",
       "airplane                                      1   \n",
       "anvil                                         0   \n",
       "apron                                         0   \n",
       "...                                         ...   \n",
       "whisk                                         0   \n",
       "wire brush                                    0   \n",
       "wok                                           0   \n",
       "wrench                                        0   \n",
       "zeppelin                                      0   \n",
       "\n",
       "features           you can transport things with it  \\\n",
       "exemplar                                              \n",
       "(hot air) balloon                                 0   \n",
       "accordion                                         0   \n",
       "airplane                                          3   \n",
       "anvil                                             0   \n",
       "apron                                             0   \n",
       "...                                             ...   \n",
       "whisk                                             0   \n",
       "wire brush                                        0   \n",
       "wok                                               0   \n",
       "wrench                                            0   \n",
       "zeppelin                                          3   \n",
       "\n",
       "features           you have to be able to read notes for it  \\\n",
       "exemplar                                                      \n",
       "(hot air) balloon                                         0   \n",
       "accordion                                                 3   \n",
       "airplane                                                  0   \n",
       "anvil                                                     0   \n",
       "apron                                                     0   \n",
       "...                                                     ...   \n",
       "whisk                                                     0   \n",
       "wire brush                                                0   \n",
       "wok                                                       0   \n",
       "wrench                                                    0   \n",
       "zeppelin                                                  0   \n",
       "\n",
       "features           you have to be intelligent to play it  \\\n",
       "exemplar                                                   \n",
       "(hot air) balloon                                      1   \n",
       "accordion                                              2   \n",
       "airplane                                               1   \n",
       "anvil                                                  0   \n",
       "apron                                                  0   \n",
       "...                                                  ...   \n",
       "whisk                                                  0   \n",
       "wire brush                                             0   \n",
       "wok                                                    0   \n",
       "wrench                                                 0   \n",
       "zeppelin                                               1   \n",
       "\n",
       "features           you have to blow on it  you have to have talent to play it  \\\n",
       "exemplar                                                                        \n",
       "(hot air) balloon                       0                                   0   \n",
       "accordion                               0                                   3   \n",
       "airplane                                0                                   0   \n",
       "anvil                                   0                                   0   \n",
       "apron                                   0                                   0   \n",
       "...                                   ...                                 ...   \n",
       "whisk                                   0                                   0   \n",
       "wire brush                              0                                   0   \n",
       "wok                                     0                                   0   \n",
       "wrench                                  0                                   0   \n",
       "zeppelin                                0                                   0   \n",
       "\n",
       "features           you have to learn how to use it  \\\n",
       "exemplar                                             \n",
       "(hot air) balloon                                4   \n",
       "accordion                                        3   \n",
       "airplane                                         3   \n",
       "anvil                                            0   \n",
       "apron                                            0   \n",
       "...                                            ...   \n",
       "whisk                                            0   \n",
       "wire brush                                       1   \n",
       "wok                                              1   \n",
       "wrench                                           2   \n",
       "zeppelin                                         4   \n",
       "\n",
       "features           you need a weapon license for it  \n",
       "exemplar                                             \n",
       "(hot air) balloon                                 0  \n",
       "accordion                                         0  \n",
       "airplane                                          0  \n",
       "anvil                                             0  \n",
       "apron                                             0  \n",
       "...                                             ...  \n",
       "whisk                                             0  \n",
       "wire brush                                        0  \n",
       "wok                                               0  \n",
       "wrench                                            0  \n",
       "zeppelin                                          0  \n",
       "\n",
       "[166 rows x 301 columns]"
      ],
      "text/html": "<div>\n<style scoped>\n    .dataframe tbody tr th:only-of-type {\n        vertical-align: middle;\n    }\n\n    .dataframe tbody tr th {\n        vertical-align: top;\n    }\n\n    .dataframe thead th {\n        text-align: right;\n    }\n</style>\n<table border=\"1\" class=\"dataframe\">\n  <thead>\n    <tr style=\"text-align: right;\">\n      <th>features</th>\n      <th>bought in a store</th>\n      <th>breaks easily</th>\n      <th>can also be used out of the kitchen</th>\n      <th>can be a status symbol</th>\n      <th>can be automatized</th>\n      <th>can be carried</th>\n      <th>can be dangerous</th>\n      <th>can be dishwashed</th>\n      <th>can be electronic</th>\n      <th>can be found in a garage</th>\n      <th>...</th>\n      <th>you can earn money with it</th>\n      <th>you can injure someone with it</th>\n      <th>you can kill someone with it</th>\n      <th>you can transport things with it</th>\n      <th>you have to be able to read notes for it</th>\n      <th>you have to be intelligent to play it</th>\n      <th>you have to blow on it</th>\n      <th>you have to have talent to play it</th>\n      <th>you have to learn how to use it</th>\n      <th>you need a weapon license for it</th>\n    </tr>\n    <tr>\n      <th>exemplar</th>\n      <th></th>\n      <th></th>\n      <th></th>\n      <th></th>\n      <th></th>\n      <th></th>\n      <th></th>\n      <th></th>\n      <th></th>\n      <th></th>\n      <th></th>\n      <th></th>\n      <th></th>\n      <th></th>\n      <th></th>\n      <th></th>\n      <th></th>\n      <th></th>\n      <th></th>\n      <th></th>\n      <th></th>\n    </tr>\n  </thead>\n  <tbody>\n    <tr>\n      <th>(hot air) balloon</th>\n      <td>1</td>\n      <td>0</td>\n      <td>3</td>\n      <td>0</td>\n      <td>0</td>\n      <td>0</td>\n      <td>3</td>\n      <td>0</td>\n      <td>0</td>\n      <td>0</td>\n      <td>...</td>\n      <td>2</td>\n      <td>0</td>\n      <td>0</td>\n      <td>0</td>\n      <td>0</td>\n      <td>1</td>\n      <td>0</td>\n      <td>0</td>\n      <td>4</td>\n      <td>0</td>\n    </tr>\n    <tr>\n      <th>accordion</th>\n      <td>4</td>\n      <td>1</td>\n      <td>3</td>\n      <td>0</td>\n      <td>0</td>\n      <td>1</td>\n      <td>0</td>\n      <td>1</td>\n      <td>0</td>\n      <td>0</td>\n      <td>...</td>\n      <td>3</td>\n      <td>0</td>\n      <td>0</td>\n      <td>0</td>\n      <td>3</td>\n      <td>2</td>\n      <td>0</td>\n      <td>3</td>\n      <td>3</td>\n      <td>0</td>\n    </tr>\n    <tr>\n      <th>airplane</th>\n      <td>1</td>\n      <td>0</td>\n      <td>3</td>\n      <td>3</td>\n      <td>0</td>\n      <td>0</td>\n      <td>4</td>\n      <td>0</td>\n      <td>0</td>\n      <td>0</td>\n      <td>...</td>\n      <td>3</td>\n      <td>1</td>\n      <td>1</td>\n      <td>3</td>\n      <td>0</td>\n      <td>1</td>\n      <td>0</td>\n      <td>0</td>\n      <td>3</td>\n      <td>0</td>\n    </tr>\n    <tr>\n      <th>anvil</th>\n      <td>4</td>\n      <td>0</td>\n      <td>3</td>\n      <td>0</td>\n      <td>0</td>\n      <td>0</td>\n      <td>0</td>\n      <td>1</td>\n      <td>0</td>\n      <td>0</td>\n      <td>...</td>\n      <td>0</td>\n      <td>0</td>\n      <td>0</td>\n      <td>0</td>\n      <td>0</td>\n      <td>0</td>\n      <td>0</td>\n      <td>0</td>\n      <td>0</td>\n      <td>0</td>\n    </tr>\n    <tr>\n      <th>apron</th>\n      <td>4</td>\n      <td>0</td>\n      <td>4</td>\n      <td>0</td>\n      <td>0</td>\n      <td>4</td>\n      <td>0</td>\n      <td>1</td>\n      <td>0</td>\n      <td>0</td>\n      <td>...</td>\n      <td>0</td>\n      <td>0</td>\n      <td>0</td>\n      <td>0</td>\n      <td>0</td>\n      <td>0</td>\n      <td>0</td>\n      <td>0</td>\n      <td>0</td>\n      <td>0</td>\n    </tr>\n    <tr>\n      <th>...</th>\n      <td>...</td>\n      <td>...</td>\n      <td>...</td>\n      <td>...</td>\n      <td>...</td>\n      <td>...</td>\n      <td>...</td>\n      <td>...</td>\n      <td>...</td>\n      <td>...</td>\n      <td>...</td>\n      <td>...</td>\n      <td>...</td>\n      <td>...</td>\n      <td>...</td>\n      <td>...</td>\n      <td>...</td>\n      <td>...</td>\n      <td>...</td>\n      <td>...</td>\n      <td>...</td>\n    </tr>\n    <tr>\n      <th>whisk</th>\n      <td>4</td>\n      <td>0</td>\n      <td>0</td>\n      <td>0</td>\n      <td>0</td>\n      <td>1</td>\n      <td>0</td>\n      <td>4</td>\n      <td>0</td>\n      <td>0</td>\n      <td>...</td>\n      <td>0</td>\n      <td>0</td>\n      <td>0</td>\n      <td>0</td>\n      <td>0</td>\n      <td>0</td>\n      <td>0</td>\n      <td>0</td>\n      <td>0</td>\n      <td>0</td>\n    </tr>\n    <tr>\n      <th>wire brush</th>\n      <td>4</td>\n      <td>0</td>\n      <td>3</td>\n      <td>0</td>\n      <td>0</td>\n      <td>1</td>\n      <td>0</td>\n      <td>1</td>\n      <td>0</td>\n      <td>1</td>\n      <td>...</td>\n      <td>0</td>\n      <td>0</td>\n      <td>0</td>\n      <td>0</td>\n      <td>0</td>\n      <td>0</td>\n      <td>0</td>\n      <td>0</td>\n      <td>1</td>\n      <td>0</td>\n    </tr>\n    <tr>\n      <th>wok</th>\n      <td>4</td>\n      <td>0</td>\n      <td>0</td>\n      <td>0</td>\n      <td>0</td>\n      <td>1</td>\n      <td>0</td>\n      <td>4</td>\n      <td>0</td>\n      <td>0</td>\n      <td>...</td>\n      <td>0</td>\n      <td>0</td>\n      <td>0</td>\n      <td>0</td>\n      <td>0</td>\n      <td>0</td>\n      <td>0</td>\n      <td>0</td>\n      <td>1</td>\n      <td>0</td>\n    </tr>\n    <tr>\n      <th>wrench</th>\n      <td>4</td>\n      <td>0</td>\n      <td>3</td>\n      <td>0</td>\n      <td>0</td>\n      <td>1</td>\n      <td>0</td>\n      <td>1</td>\n      <td>0</td>\n      <td>2</td>\n      <td>...</td>\n      <td>0</td>\n      <td>1</td>\n      <td>0</td>\n      <td>0</td>\n      <td>0</td>\n      <td>0</td>\n      <td>0</td>\n      <td>0</td>\n      <td>2</td>\n      <td>0</td>\n    </tr>\n    <tr>\n      <th>zeppelin</th>\n      <td>1</td>\n      <td>0</td>\n      <td>3</td>\n      <td>0</td>\n      <td>0</td>\n      <td>0</td>\n      <td>3</td>\n      <td>0</td>\n      <td>0</td>\n      <td>0</td>\n      <td>...</td>\n      <td>1</td>\n      <td>0</td>\n      <td>0</td>\n      <td>3</td>\n      <td>0</td>\n      <td>1</td>\n      <td>0</td>\n      <td>0</td>\n      <td>4</td>\n      <td>0</td>\n    </tr>\n  </tbody>\n</table>\n<p>166 rows × 301 columns</p>\n</div>"
     },
     "metadata": {},
     "execution_count": 7
    }
   ],
   "source": [
    "train_X"
   ]
  },
  {
   "cell_type": "code",
   "execution_count": 8,
   "metadata": {},
   "outputs": [
    {
     "output_type": "execute_result",
     "data": {
      "text/plain": [
       "features            bought in a store  breaks easily  \\\n",
       "target                                                 \n",
       "clothing                           29             29   \n",
       "kitchen utensil                    33             33   \n",
       "musical instrument                 27             27   \n",
       "tool                               29             29   \n",
       "vehicle                            30             30   \n",
       "weapon                             18             18   \n",
       "\n",
       "features            can also be used out of the kitchen  \\\n",
       "target                                                    \n",
       "clothing                                             29   \n",
       "kitchen utensil                                      33   \n",
       "musical instrument                                   27   \n",
       "tool                                                 29   \n",
       "vehicle                                              30   \n",
       "weapon                                               18   \n",
       "\n",
       "features            can be a status symbol  can be automatized  \\\n",
       "target                                                           \n",
       "clothing                                29                  29   \n",
       "kitchen utensil                         33                  33   \n",
       "musical instrument                      27                  27   \n",
       "tool                                    29                  29   \n",
       "vehicle                                 30                  30   \n",
       "weapon                                  18                  18   \n",
       "\n",
       "features            can be carried  can be dangerous  can be dishwashed  \\\n",
       "target                                                                    \n",
       "clothing                        29                29                 29   \n",
       "kitchen utensil                 33                33                 33   \n",
       "musical instrument              27                27                 27   \n",
       "tool                            29                29                 29   \n",
       "vehicle                         30                30                 30   \n",
       "weapon                          18                18                 18   \n",
       "\n",
       "features            can be electronic  can be found in a garage  ...  \\\n",
       "target                                                           ...   \n",
       "clothing                           29                        29  ...   \n",
       "kitchen utensil                    33                        33  ...   \n",
       "musical instrument                 27                        27  ...   \n",
       "tool                               29                        29  ...   \n",
       "vehicle                            30                        30  ...   \n",
       "weapon                             18                        18  ...   \n",
       "\n",
       "features            you can earn money with it  \\\n",
       "target                                           \n",
       "clothing                                    29   \n",
       "kitchen utensil                             33   \n",
       "musical instrument                          27   \n",
       "tool                                        29   \n",
       "vehicle                                     30   \n",
       "weapon                                      18   \n",
       "\n",
       "features            you can injure someone with it  \\\n",
       "target                                               \n",
       "clothing                                        29   \n",
       "kitchen utensil                                 33   \n",
       "musical instrument                              27   \n",
       "tool                                            29   \n",
       "vehicle                                         30   \n",
       "weapon                                          18   \n",
       "\n",
       "features            you can kill someone with it  \\\n",
       "target                                             \n",
       "clothing                                      29   \n",
       "kitchen utensil                               33   \n",
       "musical instrument                            27   \n",
       "tool                                          29   \n",
       "vehicle                                       30   \n",
       "weapon                                        18   \n",
       "\n",
       "features            you can transport things with it  \\\n",
       "target                                                 \n",
       "clothing                                          29   \n",
       "kitchen utensil                                   33   \n",
       "musical instrument                                27   \n",
       "tool                                              29   \n",
       "vehicle                                           30   \n",
       "weapon                                            18   \n",
       "\n",
       "features            you have to be able to read notes for it  \\\n",
       "target                                                         \n",
       "clothing                                                  29   \n",
       "kitchen utensil                                           33   \n",
       "musical instrument                                        27   \n",
       "tool                                                      29   \n",
       "vehicle                                                   30   \n",
       "weapon                                                    18   \n",
       "\n",
       "features            you have to be intelligent to play it  \\\n",
       "target                                                      \n",
       "clothing                                               29   \n",
       "kitchen utensil                                        33   \n",
       "musical instrument                                     27   \n",
       "tool                                                   29   \n",
       "vehicle                                                30   \n",
       "weapon                                                 18   \n",
       "\n",
       "features            you have to blow on it  \\\n",
       "target                                       \n",
       "clothing                                29   \n",
       "kitchen utensil                         33   \n",
       "musical instrument                      27   \n",
       "tool                                    29   \n",
       "vehicle                                 30   \n",
       "weapon                                  18   \n",
       "\n",
       "features            you have to have talent to play it  \\\n",
       "target                                                   \n",
       "clothing                                            29   \n",
       "kitchen utensil                                     33   \n",
       "musical instrument                                  27   \n",
       "tool                                                29   \n",
       "vehicle                                             30   \n",
       "weapon                                              18   \n",
       "\n",
       "features            you have to learn how to use it  \\\n",
       "target                                                \n",
       "clothing                                         29   \n",
       "kitchen utensil                                  33   \n",
       "musical instrument                               27   \n",
       "tool                                             29   \n",
       "vehicle                                          30   \n",
       "weapon                                           18   \n",
       "\n",
       "features            you need a weapon license for it  \n",
       "target                                                \n",
       "clothing                                          29  \n",
       "kitchen utensil                                   33  \n",
       "musical instrument                                27  \n",
       "tool                                              29  \n",
       "vehicle                                           30  \n",
       "weapon                                            18  \n",
       "\n",
       "[6 rows x 301 columns]"
      ],
      "text/html": "<div>\n<style scoped>\n    .dataframe tbody tr th:only-of-type {\n        vertical-align: middle;\n    }\n\n    .dataframe tbody tr th {\n        vertical-align: top;\n    }\n\n    .dataframe thead th {\n        text-align: right;\n    }\n</style>\n<table border=\"1\" class=\"dataframe\">\n  <thead>\n    <tr style=\"text-align: right;\">\n      <th>features</th>\n      <th>bought in a store</th>\n      <th>breaks easily</th>\n      <th>can also be used out of the kitchen</th>\n      <th>can be a status symbol</th>\n      <th>can be automatized</th>\n      <th>can be carried</th>\n      <th>can be dangerous</th>\n      <th>can be dishwashed</th>\n      <th>can be electronic</th>\n      <th>can be found in a garage</th>\n      <th>...</th>\n      <th>you can earn money with it</th>\n      <th>you can injure someone with it</th>\n      <th>you can kill someone with it</th>\n      <th>you can transport things with it</th>\n      <th>you have to be able to read notes for it</th>\n      <th>you have to be intelligent to play it</th>\n      <th>you have to blow on it</th>\n      <th>you have to have talent to play it</th>\n      <th>you have to learn how to use it</th>\n      <th>you need a weapon license for it</th>\n    </tr>\n    <tr>\n      <th>target</th>\n      <th></th>\n      <th></th>\n      <th></th>\n      <th></th>\n      <th></th>\n      <th></th>\n      <th></th>\n      <th></th>\n      <th></th>\n      <th></th>\n      <th></th>\n      <th></th>\n      <th></th>\n      <th></th>\n      <th></th>\n      <th></th>\n      <th></th>\n      <th></th>\n      <th></th>\n      <th></th>\n      <th></th>\n    </tr>\n  </thead>\n  <tbody>\n    <tr>\n      <th>clothing</th>\n      <td>29</td>\n      <td>29</td>\n      <td>29</td>\n      <td>29</td>\n      <td>29</td>\n      <td>29</td>\n      <td>29</td>\n      <td>29</td>\n      <td>29</td>\n      <td>29</td>\n      <td>...</td>\n      <td>29</td>\n      <td>29</td>\n      <td>29</td>\n      <td>29</td>\n      <td>29</td>\n      <td>29</td>\n      <td>29</td>\n      <td>29</td>\n      <td>29</td>\n      <td>29</td>\n    </tr>\n    <tr>\n      <th>kitchen utensil</th>\n      <td>33</td>\n      <td>33</td>\n      <td>33</td>\n      <td>33</td>\n      <td>33</td>\n      <td>33</td>\n      <td>33</td>\n      <td>33</td>\n      <td>33</td>\n      <td>33</td>\n      <td>...</td>\n      <td>33</td>\n      <td>33</td>\n      <td>33</td>\n      <td>33</td>\n      <td>33</td>\n      <td>33</td>\n      <td>33</td>\n      <td>33</td>\n      <td>33</td>\n      <td>33</td>\n    </tr>\n    <tr>\n      <th>musical instrument</th>\n      <td>27</td>\n      <td>27</td>\n      <td>27</td>\n      <td>27</td>\n      <td>27</td>\n      <td>27</td>\n      <td>27</td>\n      <td>27</td>\n      <td>27</td>\n      <td>27</td>\n      <td>...</td>\n      <td>27</td>\n      <td>27</td>\n      <td>27</td>\n      <td>27</td>\n      <td>27</td>\n      <td>27</td>\n      <td>27</td>\n      <td>27</td>\n      <td>27</td>\n      <td>27</td>\n    </tr>\n    <tr>\n      <th>tool</th>\n      <td>29</td>\n      <td>29</td>\n      <td>29</td>\n      <td>29</td>\n      <td>29</td>\n      <td>29</td>\n      <td>29</td>\n      <td>29</td>\n      <td>29</td>\n      <td>29</td>\n      <td>...</td>\n      <td>29</td>\n      <td>29</td>\n      <td>29</td>\n      <td>29</td>\n      <td>29</td>\n      <td>29</td>\n      <td>29</td>\n      <td>29</td>\n      <td>29</td>\n      <td>29</td>\n    </tr>\n    <tr>\n      <th>vehicle</th>\n      <td>30</td>\n      <td>30</td>\n      <td>30</td>\n      <td>30</td>\n      <td>30</td>\n      <td>30</td>\n      <td>30</td>\n      <td>30</td>\n      <td>30</td>\n      <td>30</td>\n      <td>...</td>\n      <td>30</td>\n      <td>30</td>\n      <td>30</td>\n      <td>30</td>\n      <td>30</td>\n      <td>30</td>\n      <td>30</td>\n      <td>30</td>\n      <td>30</td>\n      <td>30</td>\n    </tr>\n    <tr>\n      <th>weapon</th>\n      <td>18</td>\n      <td>18</td>\n      <td>18</td>\n      <td>18</td>\n      <td>18</td>\n      <td>18</td>\n      <td>18</td>\n      <td>18</td>\n      <td>18</td>\n      <td>18</td>\n      <td>...</td>\n      <td>18</td>\n      <td>18</td>\n      <td>18</td>\n      <td>18</td>\n      <td>18</td>\n      <td>18</td>\n      <td>18</td>\n      <td>18</td>\n      <td>18</td>\n      <td>18</td>\n    </tr>\n  </tbody>\n</table>\n<p>6 rows × 301 columns</p>\n</div>"
     },
     "metadata": {},
     "execution_count": 8
    }
   ],
   "source": [
    "df.groupby('target').count()"
   ]
  },
  {
   "source": [
    "## K-means"
   ],
   "cell_type": "markdown",
   "metadata": {}
  },
  {
   "cell_type": "code",
   "execution_count": 9,
   "metadata": {},
   "outputs": [],
   "source": [
    "kmeans = KMeans(n_clusters=6, init='random', random_state=0, n_init=50, max_iter=300).fit(train_X)"
   ]
  },
  {
   "cell_type": "code",
   "execution_count": 28,
   "metadata": {},
   "outputs": [],
   "source": [
    "df['clusters'] = kmeans.labels_"
   ]
  },
  {
   "cell_type": "code",
   "execution_count": 29,
   "metadata": {},
   "outputs": [
    {
     "output_type": "execute_result",
     "data": {
      "text/plain": [
       "0.9407058741850403"
      ]
     },
     "metadata": {},
     "execution_count": 29
    }
   ],
   "source": [
    "# The Rand Index computes a similarity measure between two clusterings by considering all pairs of samples and counting pairs that are assigned in the same or different clusters in the predicted and true clusterings.\n",
    "adjusted_rand_score(df['target'], df['clusters'])"
   ]
  },
  {
   "cell_type": "code",
   "execution_count": 30,
   "metadata": {},
   "outputs": [
    {
     "output_type": "execute_result",
     "data": {
      "text/plain": [
       "17966.485786789468"
      ]
     },
     "metadata": {},
     "execution_count": 30
    }
   ],
   "source": [
    "# sum of squared distances to the closest centroid for all observations in the training set\n",
    "kmeans.inertia_"
   ]
  },
  {
   "source": [
    "## PCA + K-means"
   ],
   "cell_type": "markdown",
   "metadata": {}
  },
  {
   "cell_type": "code",
   "execution_count": 14,
   "metadata": {},
   "outputs": [],
   "source": [
    "pca = PCA(n_components=3)\n",
    "pca = pca.fit(train_X)"
   ]
  },
  {
   "cell_type": "code",
   "execution_count": 15,
   "metadata": {},
   "outputs": [],
   "source": [
    "transformed_train_X = pca.transform(train_X)"
   ]
  },
  {
   "cell_type": "code",
   "execution_count": 16,
   "metadata": {},
   "outputs": [],
   "source": [
    "kmeans = KMeans(n_clusters=6, init='k-means++', random_state=0, n_init=10, max_iter=300).fit(transformed_train_X)"
   ]
  },
  {
   "source": [
    "## Clusters and Centroids"
   ],
   "cell_type": "markdown",
   "metadata": {}
  },
  {
   "cell_type": "code",
   "execution_count": 17,
   "metadata": {},
   "outputs": [
    {
     "output_type": "display_data",
     "data": {
      "application/vnd.plotly.v1+json": {
       "config": {
        "plotlyServerURL": "https://plot.ly"
       },
       "data": [
        {
         "customdata": [
          [
           "(hot air) balloon"
          ],
          [
           "accordion"
          ],
          [
           "airplane"
          ],
          [
           "anvil"
          ],
          [
           "apron"
          ],
          [
           "axe"
          ],
          [
           "bagpipe"
          ],
          [
           "banjo"
          ],
          [
           "bass guitar"
          ],
          [
           "bassoon"
          ],
          [
           "bathing suit"
          ],
          [
           "bazooka"
          ],
          [
           "beanie"
          ],
          [
           "belt"
          ],
          [
           "bicycle"
          ],
          [
           "blouse"
          ],
          [
           "boat"
          ],
          [
           "boots"
          ],
          [
           "bottle"
          ],
          [
           "bow"
          ],
          [
           "bowl"
          ],
          [
           "bra"
          ],
          [
           "bus"
          ],
          [
           "can opener"
          ],
          [
           "canon"
          ],
          [
           "cap"
          ],
          [
           "car"
          ],
          [
           "carriage"
          ],
          [
           "cart"
          ],
          [
           "cello"
          ],
          [
           "chisel"
          ],
          [
           "clamp"
          ],
          [
           "clarinet"
          ],
          [
           "club"
          ],
          [
           "coat"
          ],
          [
           "colander"
          ],
          [
           "crowbar (breekijzer)"
          ],
          [
           "crowbar (koevoet)"
          ],
          [
           "cymbals"
          ],
          [
           "dagger"
          ],
          [
           "double bass"
          ],
          [
           "double-barreled shotgun"
          ],
          [
           "dress"
          ],
          [
           "drill"
          ],
          [
           "drum"
          ],
          [
           "drum set"
          ],
          [
           "dungarees"
          ],
          [
           "electric kettle"
          ],
          [
           "file"
          ],
          [
           "filling knife"
          ],
          [
           "flute"
          ],
          [
           "fork"
          ],
          [
           "fridge"
          ],
          [
           "glass"
          ],
          [
           "go-cart"
          ],
          [
           "grater"
          ],
          [
           "grenade"
          ],
          [
           "grinding disc"
          ],
          [
           "guitar"
          ],
          [
           "hammer"
          ],
          [
           "harmonica"
          ],
          [
           "harp"
          ],
          [
           "harpsichord"
          ],
          [
           "hat"
          ],
          [
           "helicopter"
          ],
          [
           "hovercraft"
          ],
          [
           "jeans"
          ],
          [
           "jeep"
          ],
          [
           "kettle"
          ],
          [
           "kick scooter"
          ],
          [
           "knife"
          ],
          [
           "knuckle dusters"
          ],
          [
           "lawn mower"
          ],
          [
           "level"
          ],
          [
           "machine gun"
          ],
          [
           "microwave oven"
          ],
          [
           "mittens"
          ],
          [
           "mixer"
          ],
          [
           "motorbike (moto)"
          ],
          [
           "mug"
          ],
          [
           "nail"
          ],
          [
           "nutcracker"
          ],
          [
           "oil can"
          ],
          [
           "organ"
          ],
          [
           "oven"
          ],
          [
           "paint brush"
          ],
          [
           "pan"
          ],
          [
           "pan flute"
          ],
          [
           "panties"
          ],
          [
           "pants"
          ],
          [
           "percolator"
          ],
          [
           "piano"
          ],
          [
           "pickaxe"
          ],
          [
           "pistol"
          ],
          [
           "place mat"
          ],
          [
           "plane"
          ],
          [
           "plate"
          ],
          [
           "plough"
          ],
          [
           "pot"
          ],
          [
           "pullover"
          ],
          [
           "pyjamas"
          ],
          [
           "recorder"
          ],
          [
           "rifle"
          ],
          [
           "rocket"
          ],
          [
           "rope"
          ],
          [
           "saw"
          ],
          [
           "saxophone"
          ],
          [
           "scales"
          ],
          [
           "scarf"
          ],
          [
           "scissors"
          ],
          [
           "scooter (bromfiets)"
          ],
          [
           "scooter (brommer)"
          ],
          [
           "screw wrench (engelse sleutel)"
          ],
          [
           "screwdriver"
          ],
          [
           "shield"
          ],
          [
           "shirt"
          ],
          [
           "shoes"
          ],
          [
           "shorts"
          ],
          [
           "shovel"
          ],
          [
           "sieve"
          ],
          [
           "skateboard"
          ],
          [
           "skirt"
          ],
          [
           "sled"
          ],
          [
           "slingshot"
          ],
          [
           "socks"
          ],
          [
           "spatula"
          ],
          [
           "spear"
          ],
          [
           "spoon"
          ],
          [
           "stick"
          ],
          [
           "stove"
          ],
          [
           "submarine"
          ],
          [
           "subway train"
          ],
          [
           "suit"
          ],
          [
           "sweater"
          ],
          [
           "sword"
          ],
          [
           "synthesizer"
          ],
          [
           "t-shirt"
          ],
          [
           "tambourine"
          ],
          [
           "tank"
          ],
          [
           "taxi"
          ],
          [
           "teaspoon"
          ],
          [
           "tie"
          ],
          [
           "toaster"
          ],
          [
           "tongs"
          ],
          [
           "top"
          ],
          [
           "towel"
          ],
          [
           "tracksuit"
          ],
          [
           "tractor"
          ],
          [
           "trailer"
          ],
          [
           "train"
          ],
          [
           "tram"
          ],
          [
           "triangle"
          ],
          [
           "trombone"
          ],
          [
           "truck (camion)"
          ],
          [
           "truck (vrachtwagen)"
          ],
          [
           "trumpet"
          ],
          [
           "vacuum cleaner"
          ],
          [
           "van"
          ],
          [
           "violin"
          ],
          [
           "wheelbarrow"
          ],
          [
           "whip"
          ],
          [
           "whisk"
          ],
          [
           "wire brush"
          ],
          [
           "wok"
          ],
          [
           "wrench"
          ],
          [
           "zeppelin"
          ]
         ],
         "hovertemplate": "x=%{x}<br>y=%{y}<br>z=%{z}<br>size=%{marker.size}<br>name=%{customdata[0]}<br>clusters=%{marker.color}<extra></extra>",
         "legendgroup": "",
         "marker": {
          "color": [
           3,
           2,
           3,
           4,
           1,
           4,
           2,
           2,
           2,
           2,
           1,
           0,
           1,
           1,
           0,
           1,
           3,
           1,
           5,
           0,
           5,
           1,
           3,
           4,
           0,
           1,
           3,
           0,
           0,
           2,
           4,
           4,
           2,
           0,
           1,
           5,
           4,
           4,
           2,
           0,
           2,
           0,
           1,
           0,
           2,
           2,
           1,
           0,
           4,
           4,
           2,
           5,
           0,
           5,
           3,
           4,
           0,
           0,
           2,
           4,
           2,
           2,
           2,
           1,
           3,
           3,
           1,
           3,
           5,
           0,
           4,
           0,
           0,
           4,
           0,
           0,
           1,
           0,
           3,
           5,
           4,
           4,
           4,
           2,
           0,
           5,
           5,
           2,
           1,
           1,
           0,
           2,
           4,
           0,
           5,
           4,
           5,
           4,
           5,
           1,
           1,
           2,
           0,
           3,
           5,
           4,
           2,
           5,
           1,
           4,
           3,
           3,
           4,
           4,
           0,
           1,
           1,
           1,
           4,
           5,
           0,
           1,
           0,
           0,
           1,
           5,
           0,
           5,
           0,
           0,
           3,
           3,
           1,
           1,
           0,
           2,
           1,
           2,
           3,
           3,
           5,
           1,
           5,
           4,
           1,
           5,
           1,
           3,
           3,
           3,
           3,
           2,
           2,
           3,
           3,
           2,
           0,
           3,
           2,
           4,
           0,
           5,
           4,
           5,
           4,
           3
          ],
          "coloraxis": "coloraxis",
          "size": [
           1,
           1,
           1,
           1,
           1,
           1,
           1,
           1,
           1,
           1,
           1,
           1,
           1,
           1,
           1,
           1,
           1,
           1,
           1,
           1,
           1,
           1,
           1,
           1,
           1,
           1,
           1,
           1,
           1,
           1,
           1,
           1,
           1,
           1,
           1,
           1,
           1,
           1,
           1,
           1,
           1,
           1,
           1,
           1,
           1,
           1,
           1,
           1,
           1,
           1,
           1,
           1,
           1,
           1,
           1,
           1,
           1,
           1,
           1,
           1,
           1,
           1,
           1,
           1,
           1,
           1,
           1,
           1,
           1,
           1,
           1,
           1,
           1,
           1,
           1,
           1,
           1,
           1,
           1,
           1,
           1,
           1,
           1,
           1,
           1,
           1,
           1,
           1,
           1,
           1,
           1,
           1,
           1,
           1,
           1,
           1,
           1,
           1,
           1,
           1,
           1,
           1,
           1,
           1,
           1,
           1,
           1,
           1,
           1,
           1,
           1,
           1,
           1,
           1,
           1,
           1,
           1,
           1,
           1,
           1,
           1,
           1,
           1,
           1,
           1,
           1,
           1,
           1,
           1,
           1,
           1,
           1,
           1,
           1,
           1,
           1,
           1,
           1,
           1,
           1,
           1,
           1,
           1,
           1,
           1,
           1,
           1,
           1,
           1,
           1,
           1,
           1,
           1,
           1,
           1,
           1,
           1,
           1,
           1,
           1,
           1,
           1,
           1,
           1,
           1,
           1
          ],
          "sizemode": "area",
          "sizeref": 0.0044444444444444444,
          "symbol": "circle"
         },
         "mode": "markers",
         "name": "",
         "scene": "scene",
         "showlegend": false,
         "type": "scatter3d",
         "x": [
          -1.7395918500390022,
          0.915130810526721,
          -9.552305508741993,
          -5.52977185197176,
          10.547796952145589,
          -7.1346712762767535,
          0.7180102593546608,
          -0.923996528300155,
          -0.9664862700221256,
          -1.514787373235648,
          16.437953728772484,
          -9.32326848727768,
          16.13655744623987,
          11.714663278803773,
          -2.2316832686521915,
          19.324107837798177,
          -7.636790101925925,
          11.633118108573324,
          0.641471849225945,
          -3.568550161276348,
          1.1816595546707078,
          17.106164349574183,
          -9.256555051249318,
          -2.9022322915687777,
          -8.920687635439219,
          15.978783499161135,
          -8.571383876918391,
          -2.537721430036867,
          -3.282340773195993,
          -1.4363272751338068,
          -5.251261336137902,
          -4.393665314626147,
          -1.3828950063704817,
          -3.753857242215841,
          18.56726314379189,
          -0.21343316761409917,
          -6.711321160185435,
          -6.2848378982941995,
          -1.7555242991561273,
          -5.029748571011742,
          -1.8086987859409092,
          -7.9654369663763696,
          18.5612400724628,
          -7.591954296129302,
          0.2653470908581106,
          -2.3108806570406615,
          15.959745328820063,
          -2.225732095894276,
          -3.213870509921902,
          -4.661231472255239,
          -2.3270542461413886,
          -0.4693423974472787,
          -3.2690158239586737,
          0.9799103112889763,
          -4.048752079425214,
          -2.968579015622986,
          -6.568373007047692,
          -8.252049928717682,
          -0.012087758056136932,
          -5.794974421331121,
          -1.0587957829063042,
          -1.3642299615000366,
          -2.0800948391722365,
          15.448468940890358,
          -9.849836394127877,
          -8.72315490018078,
          17.262492162460408,
          -8.806767678447335,
          -1.7290650308711912,
          -2.341627472454024,
          -5.0173745041821345,
          -3.540306842563156,
          -7.329449508082803,
          -2.613166524698199,
          -8.516169538412612,
          -3.6951848332344595,
          15.80055630122811,
          -4.408127704212626,
          -8.409204734777122,
          3.6774628470951765,
          -4.315472917869164,
          -2.22850370528386,
          -2.774473822897557,
          -1.619462400419392,
          -4.4402816412825175,
          0.35776568989086754,
          -0.7422019439293606,
          0.23834194711585854,
          18.770884238970776,
          19.336024118048698,
          -1.6308480236011835,
          -1.6003603872788617,
          -6.790085465712234,
          -7.672718277126324,
          4.710616246341945,
          -5.039952687401749,
          2.1397330136124504,
          -6.522735887038931,
          -0.6288271042352922,
          19.59489066197432,
          18.290602824549133,
          -0.1345468480509977,
          -8.390703173852124,
          -8.717251771768584,
          0.9930703729531334,
          -6.762395198491884,
          -2.388768270146938,
          -0.3589705955045968,
          17.63149143918813,
          -3.4760878305204366,
          -7.496967277443339,
          -7.397151820266701,
          -5.051532717245357,
          -4.459424428382916,
          -1.6813321951191327,
          19.217446912677495,
          13.32380830634785,
          17.759207579381254,
          -5.39041946089486,
          -0.7627845012253245,
          -1.7483190433578641,
          18.56107533905142,
          -1.4904522373852018,
          -2.977310439047418,
          17.792020393333633,
          0.8393166876822824,
          -2.983043797273959,
          0.9077614923709907,
          -1.322911110616459,
          -4.154192147803233,
          -8.930439609281223,
          -7.956462196692274,
          16.044445245821564,
          18.445254503396214,
          -6.131010619686581,
          -2.0095790668692906,
          19.000964819036028,
          0.7232074675767088,
          -10.519359856712303,
          -8.236188286236377,
          0.4826729834144497,
          15.177817834826001,
          -1.3275858815309831,
          -4.943203776159285,
          17.822273326507343,
          8.014517652846296,
          16.621744399804143,
          -9.476751868792551,
          -4.568325777688173,
          -8.533080539177762,
          -8.17997532260505,
          -1.1237156712256806,
          -2.8947328359366,
          -9.913203006505015,
          -10.22102157822111,
          -2.7149227460756538,
          -2.974394540070385,
          -9.198313426208905,
          -1.0053327548696775,
          -5.421483923100365,
          -2.7236902025856438,
          -1.1447489504044397,
          -2.96928512371188,
          -0.8161987745674606,
          -4.76218312418521,
          -5.032896064884407
         ],
         "y": [
          4.9993189491798065,
          13.60925279525019,
          2.8441201314397295,
          -5.636319834542271,
          -4.540222250818369,
          -7.830208011886062,
          14.663125449972018,
          15.583889422662953,
          15.590162685581017,
          15.093633266464469,
          -0.992624696391955,
          1.3880581782808972,
          -0.42845451067662677,
          -1.1744992836305446,
          -0.4908922377490528,
          -0.17219161521428328,
          2.7542248859044607,
          -1.3460259237499246,
          -6.184688705218421,
          0.47387908828974373,
          -7.117868994813703,
          -0.8541631418377099,
          1.7976529017903609,
          -8.242795933383444,
          0.5285401368540374,
          -0.807581907136319,
          1.8556484686361925,
          2.819983918152344,
          -0.8771920212850659,
          17.161275547338565,
          -8.07241573787472,
          -6.83277804389327,
          14.660459721669538,
          -2.2366130544305887,
          -0.7957665236402458,
          -7.99412377171264,
          -7.30223520072649,
          -7.63423357955661,
          10.840496520341336,
          -3.602922636202419,
          17.29770920043372,
          0.5318595009400205,
          0.8150787355627154,
          -5.331656064471761,
          12.62967012926508,
          14.511798170735915,
          -0.31684125443598365,
          -3.8434870612631933,
          -8.31870422036587,
          -7.968397778833806,
          14.139042914091007,
          -9.584074350519975,
          -3.8963999653161046,
          -6.2012875161499945,
          2.2254945445655907,
          -7.674046752043234,
          0.26504071826410036,
          -4.961792295390561,
          15.737891714384546,
          -9.811775537974054,
          12.64408040672379,
          16.214844282516687,
          14.913824313032302,
          0.8341894548723046,
          3.522924280131213,
          3.33797686059901,
          -0.3828286523497759,
          2.8785437123411572,
          -6.324442541776641,
          1.069745828059534,
          -12.247175125801292,
          -1.9320437870001257,
          -3.0218284304638314,
          -7.058385346169496,
          0.6198583692399594,
          -3.948596784314023,
          -0.7377688210519652,
          -6.12975179435575,
          2.730661898686951,
          -5.213110561747989,
          -8.728912246224619,
          -7.749458503542411,
          -5.475196381085231,
          15.07928785763006,
          -4.739995748199099,
          -5.741451434804068,
          -7.900674919034184,
          13.300035993961275,
          -1.6976243135028344,
          -1.4049976094520953,
          -3.4645719616716826,
          16.36802080662286,
          -8.184913526575006,
          -0.4175992831905724,
          -4.5836277516268975,
          -7.825823137219752,
          -6.718322223662732,
          -5.864833568928326,
          -7.780889452763914,
          -1.1085031972651407,
          0.21445542627192726,
          13.108488198991049,
          0.22917260780379023,
          3.041754719175155,
          -5.798987314560557,
          -9.448955101480953,
          14.764902164184678,
          -5.997964445655618,
          -0.7571711913842114,
          -10.599848958916578,
          2.2594844562079452,
          2.584807717588207,
          -8.79859392043698,
          -9.512192550166505,
          -1.7402310978388247,
          -0.2945495520686333,
          -0.8012508378327599,
          -0.3534260130450716,
          -7.404592965864734,
          -8.78628695388091,
          1.9824970704217777,
          0.05518984360357959,
          1.1428072402801923,
          0.06674394102869552,
          -1.7475871303534456,
          -7.133852090410889,
          -1.7789863470236629,
          -8.5706122141711,
          -1.2888645129919345,
          -6.0314113749993234,
          1.964613650189345,
          1.6082311217876368,
          0.9307646028316799,
          -0.244537946292251,
          -2.582963017262752,
          14.19790044585844,
          -1.215512517869072,
          11.527633850226728,
          2.3675475742782917,
          3.2239290632132933,
          -7.180300407569229,
          0.42949770372112805,
          -4.656788024064799,
          -8.904156655497257,
          -0.2053688764177457,
          -5.556218583174201,
          -0.4053166102611758,
          1.4153295673794337,
          1.467452799778544,
          1.8937697003394822,
          1.66351110761454,
          9.390842444708344,
          14.183976331673097,
          1.4206787866437467,
          1.4367890878557297,
          14.148405294254449,
          -3.3495084710870273,
          1.0650713612636336,
          16.52453123265001,
          -6.04472336097799,
          -0.3322094850054783,
          -8.327481747343032,
          -6.4846767739605315,
          -7.136082589951473,
          -8.856013545493443,
          5.1437498299328155
         ],
         "z": [
          7.502451722935623,
          -5.112149235919784,
          13.95700332620739,
          -4.84047927192937,
          -0.2768752756627459,
          -3.783724792762026,
          -6.205424614409353,
          -7.181964158415459,
          -6.079510678440693,
          -7.454533701142283,
          2.9489876408277285,
          3.4565785551751356,
          2.9253759561739336,
          0.9534343900179376,
          5.713011322398518,
          4.339871907852963,
          11.849556933927886,
          1.5538308214255618,
          -3.889892048607827,
          0.20619380488328742,
          -4.678091879728345,
          3.857652961223671,
          13.874710081031843,
          -3.829277444592859,
          3.8624880706918683,
          2.7433476927417337,
          14.942485774405293,
          5.988126252471318,
          5.388197369057949,
          -7.154110501389946,
          -6.778700134090517,
          -5.390140797407012,
          -7.4965424911133525,
          -1.454020930981617,
          4.063760755298275,
          -4.913634188956804,
          -4.580999453680874,
          -4.920028679075395,
          -7.549480211887433,
          -1.5294457457197739,
          -6.853051123220795,
          1.230890399704488,
          3.746277267177245,
          -0.672548043625851,
          -5.642086487289194,
          -4.9072651749873994,
          3.335780496197787,
          -0.42714151222254104,
          -8.097157127764197,
          -6.14975944616657,
          -8.79872546993657,
          -5.4690305880860315,
          0.6091460722278268,
          -3.267926890257214,
          6.853730042312769,
          -4.867596306725217,
          2.1465215739068997,
          -1.577663956465586,
          -6.159111519736223,
          -5.1431475889239895,
          -7.20812676026488,
          -6.940614443998184,
          -6.549174046420932,
          2.830028075499719,
          12.340628161316562,
          11.64758894351959,
          4.002191917815372,
          12.864859680853321,
          -3.784462706222933,
          3.3977297543211558,
          -5.740158616851714,
          -1.8545727044941862,
          4.456850574345607,
          -6.2675300383338035,
          2.612078641983783,
          1.289360553814333,
          2.1501796130993442,
          -0.2859134525086471,
          12.422259268990155,
          -2.756764668771303,
          -6.1303302258048324,
          -5.40957667838931,
          -4.262203887569106,
          -4.518340830479267,
          0.7440429291269338,
          -4.653893992850554,
          -4.2091779914900185,
          -7.30022229202316,
          3.255493470850406,
          4.009661696719649,
          -0.2999320822636188,
          -4.587432957517341,
          -5.000999223692531,
          2.1846770622280367,
          -2.0654740353605936,
          -6.0041406786389135,
          -4.1540116507955185,
          -1.409348346152227,
          -4.402244099104815,
          3.874897114488268,
          3.602455801228509,
          -6.831027395921627,
          2.5027267837225198,
          8.958618989404497,
          -3.8259755746143798,
          -5.647156847049898,
          -7.582319386645825,
          -2.9931562546652457,
          3.1677817740058036,
          -5.127255989826442,
          11.5403315032315,
          11.674182636310743,
          -7.373330414987187,
          -7.01222007042944,
          -2.2980089449259857,
          4.1411572142795645,
          2.8377633439998116,
          3.7151793343884716,
          -4.6481597832938615,
          -6.101641535343797,
          4.239529550993264,
          3.722266391353613,
          2.2258458476108753,
          0.9086248845663962,
          3.129238680504647,
          -5.440560306200897,
          -0.8687324586823155,
          -6.236225587922414,
          -2.2874803070985616,
          -0.14866038214431,
          10.5911393059915,
          10.386346720691831,
          3.8485392026203433,
          4.109418876105678,
          -0.8761666010232095,
          -4.0805662602304515,
          4.240405105909881,
          -6.707102523632452,
          9.932323441542586,
          12.307224470315813,
          -5.845758686764174,
          2.9507316805845907,
          -1.0765120308296918,
          -6.651412707432108,
          3.577991152386683,
          -1.062915254017207,
          3.92353306725739,
          11.542172543554932,
          8.010192044012207,
          11.828755619597601,
          10.631313422815762,
          -7.866925862838986,
          -8.004616163537321,
          14.320845800513908,
          14.022075899570805,
          -7.870567952029351,
          -0.19529868806497952,
          12.195311599188251,
          -7.509739787657168,
          -1.5684582818225308,
          -0.7157823577023563,
          -6.055083924124848,
          -5.514121766379075,
          -4.134601395905802,
          -7.455292398670197,
          9.622756426226275
         ]
        },
        {
         "hovertemplate": "x=%{x}<br>y=%{y}<br>z=%{z}<extra></extra>",
         "legendgroup": "",
         "marker": {
          "color": "#636efa",
          "symbol": "circle"
         },
         "mode": "markers",
         "name": "",
         "scene": "scene",
         "showlegend": false,
         "type": "scatter3d",
         "x": [
          -4.549190971617575,
          16.795628769787875,
          -1.1693793403117425,
          -8.03886922313267,
          -4.763721344498867,
          0.7605818342755998
         ],
         "y": [
          -1.6141567892322863,
          -0.6501879536604934,
          14.36611782078608,
          2.460131487060891,
          -8.018298653550747,
          -6.840415299755136
         ],
         "z": [
          1.1079779951560782,
          3.2426786042123954,
          -6.672249334484645,
          11.432754574338745,
          -5.3429538213729,
          -4.137137967755473
         ]
        }
       ],
       "layout": {
        "coloraxis": {
         "colorbar": {
          "title": {
           "text": "clusters"
          }
         },
         "colorscale": [
          [
           0,
           "#0d0887"
          ],
          [
           0.1111111111111111,
           "#46039f"
          ],
          [
           0.2222222222222222,
           "#7201a8"
          ],
          [
           0.3333333333333333,
           "#9c179e"
          ],
          [
           0.4444444444444444,
           "#bd3786"
          ],
          [
           0.5555555555555556,
           "#d8576b"
          ],
          [
           0.6666666666666666,
           "#ed7953"
          ],
          [
           0.7777777777777778,
           "#fb9f3a"
          ],
          [
           0.8888888888888888,
           "#fdca26"
          ],
          [
           1,
           "#f0f921"
          ]
         ]
        },
        "legend": {
         "itemsizing": "constant",
         "tracegroupgap": 0
        },
        "margin": {
         "t": 60
        },
        "scene": {
         "domain": {
          "x": [
           0,
           1
          ],
          "y": [
           0,
           1
          ]
         },
         "xaxis": {
          "title": {
           "text": "x"
          }
         },
         "yaxis": {
          "title": {
           "text": "y"
          }
         },
         "zaxis": {
          "title": {
           "text": "z"
          }
         }
        },
        "template": {
         "data": {
          "bar": [
           {
            "error_x": {
             "color": "#2a3f5f"
            },
            "error_y": {
             "color": "#2a3f5f"
            },
            "marker": {
             "line": {
              "color": "#E5ECF6",
              "width": 0.5
             }
            },
            "type": "bar"
           }
          ],
          "barpolar": [
           {
            "marker": {
             "line": {
              "color": "#E5ECF6",
              "width": 0.5
             }
            },
            "type": "barpolar"
           }
          ],
          "carpet": [
           {
            "aaxis": {
             "endlinecolor": "#2a3f5f",
             "gridcolor": "white",
             "linecolor": "white",
             "minorgridcolor": "white",
             "startlinecolor": "#2a3f5f"
            },
            "baxis": {
             "endlinecolor": "#2a3f5f",
             "gridcolor": "white",
             "linecolor": "white",
             "minorgridcolor": "white",
             "startlinecolor": "#2a3f5f"
            },
            "type": "carpet"
           }
          ],
          "choropleth": [
           {
            "colorbar": {
             "outlinewidth": 0,
             "ticks": ""
            },
            "type": "choropleth"
           }
          ],
          "contour": [
           {
            "colorbar": {
             "outlinewidth": 0,
             "ticks": ""
            },
            "colorscale": [
             [
              0,
              "#0d0887"
             ],
             [
              0.1111111111111111,
              "#46039f"
             ],
             [
              0.2222222222222222,
              "#7201a8"
             ],
             [
              0.3333333333333333,
              "#9c179e"
             ],
             [
              0.4444444444444444,
              "#bd3786"
             ],
             [
              0.5555555555555556,
              "#d8576b"
             ],
             [
              0.6666666666666666,
              "#ed7953"
             ],
             [
              0.7777777777777778,
              "#fb9f3a"
             ],
             [
              0.8888888888888888,
              "#fdca26"
             ],
             [
              1,
              "#f0f921"
             ]
            ],
            "type": "contour"
           }
          ],
          "contourcarpet": [
           {
            "colorbar": {
             "outlinewidth": 0,
             "ticks": ""
            },
            "type": "contourcarpet"
           }
          ],
          "heatmap": [
           {
            "colorbar": {
             "outlinewidth": 0,
             "ticks": ""
            },
            "colorscale": [
             [
              0,
              "#0d0887"
             ],
             [
              0.1111111111111111,
              "#46039f"
             ],
             [
              0.2222222222222222,
              "#7201a8"
             ],
             [
              0.3333333333333333,
              "#9c179e"
             ],
             [
              0.4444444444444444,
              "#bd3786"
             ],
             [
              0.5555555555555556,
              "#d8576b"
             ],
             [
              0.6666666666666666,
              "#ed7953"
             ],
             [
              0.7777777777777778,
              "#fb9f3a"
             ],
             [
              0.8888888888888888,
              "#fdca26"
             ],
             [
              1,
              "#f0f921"
             ]
            ],
            "type": "heatmap"
           }
          ],
          "heatmapgl": [
           {
            "colorbar": {
             "outlinewidth": 0,
             "ticks": ""
            },
            "colorscale": [
             [
              0,
              "#0d0887"
             ],
             [
              0.1111111111111111,
              "#46039f"
             ],
             [
              0.2222222222222222,
              "#7201a8"
             ],
             [
              0.3333333333333333,
              "#9c179e"
             ],
             [
              0.4444444444444444,
              "#bd3786"
             ],
             [
              0.5555555555555556,
              "#d8576b"
             ],
             [
              0.6666666666666666,
              "#ed7953"
             ],
             [
              0.7777777777777778,
              "#fb9f3a"
             ],
             [
              0.8888888888888888,
              "#fdca26"
             ],
             [
              1,
              "#f0f921"
             ]
            ],
            "type": "heatmapgl"
           }
          ],
          "histogram": [
           {
            "marker": {
             "colorbar": {
              "outlinewidth": 0,
              "ticks": ""
             }
            },
            "type": "histogram"
           }
          ],
          "histogram2d": [
           {
            "colorbar": {
             "outlinewidth": 0,
             "ticks": ""
            },
            "colorscale": [
             [
              0,
              "#0d0887"
             ],
             [
              0.1111111111111111,
              "#46039f"
             ],
             [
              0.2222222222222222,
              "#7201a8"
             ],
             [
              0.3333333333333333,
              "#9c179e"
             ],
             [
              0.4444444444444444,
              "#bd3786"
             ],
             [
              0.5555555555555556,
              "#d8576b"
             ],
             [
              0.6666666666666666,
              "#ed7953"
             ],
             [
              0.7777777777777778,
              "#fb9f3a"
             ],
             [
              0.8888888888888888,
              "#fdca26"
             ],
             [
              1,
              "#f0f921"
             ]
            ],
            "type": "histogram2d"
           }
          ],
          "histogram2dcontour": [
           {
            "colorbar": {
             "outlinewidth": 0,
             "ticks": ""
            },
            "colorscale": [
             [
              0,
              "#0d0887"
             ],
             [
              0.1111111111111111,
              "#46039f"
             ],
             [
              0.2222222222222222,
              "#7201a8"
             ],
             [
              0.3333333333333333,
              "#9c179e"
             ],
             [
              0.4444444444444444,
              "#bd3786"
             ],
             [
              0.5555555555555556,
              "#d8576b"
             ],
             [
              0.6666666666666666,
              "#ed7953"
             ],
             [
              0.7777777777777778,
              "#fb9f3a"
             ],
             [
              0.8888888888888888,
              "#fdca26"
             ],
             [
              1,
              "#f0f921"
             ]
            ],
            "type": "histogram2dcontour"
           }
          ],
          "mesh3d": [
           {
            "colorbar": {
             "outlinewidth": 0,
             "ticks": ""
            },
            "type": "mesh3d"
           }
          ],
          "parcoords": [
           {
            "line": {
             "colorbar": {
              "outlinewidth": 0,
              "ticks": ""
             }
            },
            "type": "parcoords"
           }
          ],
          "pie": [
           {
            "automargin": true,
            "type": "pie"
           }
          ],
          "scatter": [
           {
            "marker": {
             "colorbar": {
              "outlinewidth": 0,
              "ticks": ""
             }
            },
            "type": "scatter"
           }
          ],
          "scatter3d": [
           {
            "line": {
             "colorbar": {
              "outlinewidth": 0,
              "ticks": ""
             }
            },
            "marker": {
             "colorbar": {
              "outlinewidth": 0,
              "ticks": ""
             }
            },
            "type": "scatter3d"
           }
          ],
          "scattercarpet": [
           {
            "marker": {
             "colorbar": {
              "outlinewidth": 0,
              "ticks": ""
             }
            },
            "type": "scattercarpet"
           }
          ],
          "scattergeo": [
           {
            "marker": {
             "colorbar": {
              "outlinewidth": 0,
              "ticks": ""
             }
            },
            "type": "scattergeo"
           }
          ],
          "scattergl": [
           {
            "marker": {
             "colorbar": {
              "outlinewidth": 0,
              "ticks": ""
             }
            },
            "type": "scattergl"
           }
          ],
          "scattermapbox": [
           {
            "marker": {
             "colorbar": {
              "outlinewidth": 0,
              "ticks": ""
             }
            },
            "type": "scattermapbox"
           }
          ],
          "scatterpolar": [
           {
            "marker": {
             "colorbar": {
              "outlinewidth": 0,
              "ticks": ""
             }
            },
            "type": "scatterpolar"
           }
          ],
          "scatterpolargl": [
           {
            "marker": {
             "colorbar": {
              "outlinewidth": 0,
              "ticks": ""
             }
            },
            "type": "scatterpolargl"
           }
          ],
          "scatterternary": [
           {
            "marker": {
             "colorbar": {
              "outlinewidth": 0,
              "ticks": ""
             }
            },
            "type": "scatterternary"
           }
          ],
          "surface": [
           {
            "colorbar": {
             "outlinewidth": 0,
             "ticks": ""
            },
            "colorscale": [
             [
              0,
              "#0d0887"
             ],
             [
              0.1111111111111111,
              "#46039f"
             ],
             [
              0.2222222222222222,
              "#7201a8"
             ],
             [
              0.3333333333333333,
              "#9c179e"
             ],
             [
              0.4444444444444444,
              "#bd3786"
             ],
             [
              0.5555555555555556,
              "#d8576b"
             ],
             [
              0.6666666666666666,
              "#ed7953"
             ],
             [
              0.7777777777777778,
              "#fb9f3a"
             ],
             [
              0.8888888888888888,
              "#fdca26"
             ],
             [
              1,
              "#f0f921"
             ]
            ],
            "type": "surface"
           }
          ],
          "table": [
           {
            "cells": {
             "fill": {
              "color": "#EBF0F8"
             },
             "line": {
              "color": "white"
             }
            },
            "header": {
             "fill": {
              "color": "#C8D4E3"
             },
             "line": {
              "color": "white"
             }
            },
            "type": "table"
           }
          ]
         },
         "layout": {
          "annotationdefaults": {
           "arrowcolor": "#2a3f5f",
           "arrowhead": 0,
           "arrowwidth": 1
          },
          "coloraxis": {
           "colorbar": {
            "outlinewidth": 0,
            "ticks": ""
           }
          },
          "colorscale": {
           "diverging": [
            [
             0,
             "#8e0152"
            ],
            [
             0.1,
             "#c51b7d"
            ],
            [
             0.2,
             "#de77ae"
            ],
            [
             0.3,
             "#f1b6da"
            ],
            [
             0.4,
             "#fde0ef"
            ],
            [
             0.5,
             "#f7f7f7"
            ],
            [
             0.6,
             "#e6f5d0"
            ],
            [
             0.7,
             "#b8e186"
            ],
            [
             0.8,
             "#7fbc41"
            ],
            [
             0.9,
             "#4d9221"
            ],
            [
             1,
             "#276419"
            ]
           ],
           "sequential": [
            [
             0,
             "#0d0887"
            ],
            [
             0.1111111111111111,
             "#46039f"
            ],
            [
             0.2222222222222222,
             "#7201a8"
            ],
            [
             0.3333333333333333,
             "#9c179e"
            ],
            [
             0.4444444444444444,
             "#bd3786"
            ],
            [
             0.5555555555555556,
             "#d8576b"
            ],
            [
             0.6666666666666666,
             "#ed7953"
            ],
            [
             0.7777777777777778,
             "#fb9f3a"
            ],
            [
             0.8888888888888888,
             "#fdca26"
            ],
            [
             1,
             "#f0f921"
            ]
           ],
           "sequentialminus": [
            [
             0,
             "#0d0887"
            ],
            [
             0.1111111111111111,
             "#46039f"
            ],
            [
             0.2222222222222222,
             "#7201a8"
            ],
            [
             0.3333333333333333,
             "#9c179e"
            ],
            [
             0.4444444444444444,
             "#bd3786"
            ],
            [
             0.5555555555555556,
             "#d8576b"
            ],
            [
             0.6666666666666666,
             "#ed7953"
            ],
            [
             0.7777777777777778,
             "#fb9f3a"
            ],
            [
             0.8888888888888888,
             "#fdca26"
            ],
            [
             1,
             "#f0f921"
            ]
           ]
          },
          "colorway": [
           "#636efa",
           "#EF553B",
           "#00cc96",
           "#ab63fa",
           "#FFA15A",
           "#19d3f3",
           "#FF6692",
           "#B6E880",
           "#FF97FF",
           "#FECB52"
          ],
          "font": {
           "color": "#2a3f5f"
          },
          "geo": {
           "bgcolor": "white",
           "lakecolor": "white",
           "landcolor": "#E5ECF6",
           "showlakes": true,
           "showland": true,
           "subunitcolor": "white"
          },
          "hoverlabel": {
           "align": "left"
          },
          "hovermode": "closest",
          "mapbox": {
           "style": "light"
          },
          "paper_bgcolor": "white",
          "plot_bgcolor": "#E5ECF6",
          "polar": {
           "angularaxis": {
            "gridcolor": "white",
            "linecolor": "white",
            "ticks": ""
           },
           "bgcolor": "#E5ECF6",
           "radialaxis": {
            "gridcolor": "white",
            "linecolor": "white",
            "ticks": ""
           }
          },
          "scene": {
           "xaxis": {
            "backgroundcolor": "#E5ECF6",
            "gridcolor": "white",
            "gridwidth": 2,
            "linecolor": "white",
            "showbackground": true,
            "ticks": "",
            "zerolinecolor": "white"
           },
           "yaxis": {
            "backgroundcolor": "#E5ECF6",
            "gridcolor": "white",
            "gridwidth": 2,
            "linecolor": "white",
            "showbackground": true,
            "ticks": "",
            "zerolinecolor": "white"
           },
           "zaxis": {
            "backgroundcolor": "#E5ECF6",
            "gridcolor": "white",
            "gridwidth": 2,
            "linecolor": "white",
            "showbackground": true,
            "ticks": "",
            "zerolinecolor": "white"
           }
          },
          "shapedefaults": {
           "line": {
            "color": "#2a3f5f"
           }
          },
          "ternary": {
           "aaxis": {
            "gridcolor": "white",
            "linecolor": "white",
            "ticks": ""
           },
           "baxis": {
            "gridcolor": "white",
            "linecolor": "white",
            "ticks": ""
           },
           "bgcolor": "#E5ECF6",
           "caxis": {
            "gridcolor": "white",
            "linecolor": "white",
            "ticks": ""
           }
          },
          "title": {
           "x": 0.05
          },
          "xaxis": {
           "automargin": true,
           "gridcolor": "white",
           "linecolor": "white",
           "ticks": "",
           "title": {
            "standoff": 15
           },
           "zerolinecolor": "white",
           "zerolinewidth": 2
          },
          "yaxis": {
           "automargin": true,
           "gridcolor": "white",
           "linecolor": "white",
           "ticks": "",
           "title": {
            "standoff": 15
           },
           "zerolinecolor": "white",
           "zerolinewidth": 2
          }
         }
        }
       }
      },
      "text/html": "<div>                            <div id=\"aaf3ed04-988b-4f31-bbe1-a3fc22e7a72c\" class=\"plotly-graph-div\" style=\"height:525px; width:100%;\"></div>            <script type=\"text/javascript\">                require([\"plotly\"], function(Plotly) {                    window.PLOTLYENV=window.PLOTLYENV || {};                                    if (document.getElementById(\"aaf3ed04-988b-4f31-bbe1-a3fc22e7a72c\")) {                    Plotly.newPlot(                        \"aaf3ed04-988b-4f31-bbe1-a3fc22e7a72c\",                        [{\"customdata\": [[\"(hot air) balloon\"], [\"accordion\"], [\"airplane\"], [\"anvil\"], [\"apron\"], [\"axe\"], [\"bagpipe\"], [\"banjo\"], [\"bass guitar\"], [\"bassoon\"], [\"bathing suit\"], [\"bazooka\"], [\"beanie\"], [\"belt\"], [\"bicycle\"], [\"blouse\"], [\"boat\"], [\"boots\"], [\"bottle\"], [\"bow\"], [\"bowl\"], [\"bra\"], [\"bus\"], [\"can opener\"], [\"canon\"], [\"cap\"], [\"car\"], [\"carriage\"], [\"cart\"], [\"cello\"], [\"chisel\"], [\"clamp\"], [\"clarinet\"], [\"club\"], [\"coat\"], [\"colander\"], [\"crowbar (breekijzer)\"], [\"crowbar (koevoet)\"], [\"cymbals\"], [\"dagger\"], [\"double bass\"], [\"double-barreled shotgun\"], [\"dress\"], [\"drill\"], [\"drum\"], [\"drum set\"], [\"dungarees\"], [\"electric kettle\"], [\"file\"], [\"filling knife\"], [\"flute\"], [\"fork\"], [\"fridge\"], [\"glass\"], [\"go-cart\"], [\"grater\"], [\"grenade\"], [\"grinding disc\"], [\"guitar\"], [\"hammer\"], [\"harmonica\"], [\"harp\"], [\"harpsichord\"], [\"hat\"], [\"helicopter\"], [\"hovercraft\"], [\"jeans\"], [\"jeep\"], [\"kettle\"], [\"kick scooter\"], [\"knife\"], [\"knuckle dusters\"], [\"lawn mower\"], [\"level\"], [\"machine gun\"], [\"microwave oven\"], [\"mittens\"], [\"mixer\"], [\"motorbike (moto)\"], [\"mug\"], [\"nail\"], [\"nutcracker\"], [\"oil can\"], [\"organ\"], [\"oven\"], [\"paint brush\"], [\"pan\"], [\"pan flute\"], [\"panties\"], [\"pants\"], [\"percolator\"], [\"piano\"], [\"pickaxe\"], [\"pistol\"], [\"place mat\"], [\"plane\"], [\"plate\"], [\"plough\"], [\"pot\"], [\"pullover\"], [\"pyjamas\"], [\"recorder\"], [\"rifle\"], [\"rocket\"], [\"rope\"], [\"saw\"], [\"saxophone\"], [\"scales\"], [\"scarf\"], [\"scissors\"], [\"scooter (bromfiets)\"], [\"scooter (brommer)\"], [\"screw wrench (engelse sleutel)\"], [\"screwdriver\"], [\"shield\"], [\"shirt\"], [\"shoes\"], [\"shorts\"], [\"shovel\"], [\"sieve\"], [\"skateboard\"], [\"skirt\"], [\"sled\"], [\"slingshot\"], [\"socks\"], [\"spatula\"], [\"spear\"], [\"spoon\"], [\"stick\"], [\"stove\"], [\"submarine\"], [\"subway train\"], [\"suit\"], [\"sweater\"], [\"sword\"], [\"synthesizer\"], [\"t-shirt\"], [\"tambourine\"], [\"tank\"], [\"taxi\"], [\"teaspoon\"], [\"tie\"], [\"toaster\"], [\"tongs\"], [\"top\"], [\"towel\"], [\"tracksuit\"], [\"tractor\"], [\"trailer\"], [\"train\"], [\"tram\"], [\"triangle\"], [\"trombone\"], [\"truck (camion)\"], [\"truck (vrachtwagen)\"], [\"trumpet\"], [\"vacuum cleaner\"], [\"van\"], [\"violin\"], [\"wheelbarrow\"], [\"whip\"], [\"whisk\"], [\"wire brush\"], [\"wok\"], [\"wrench\"], [\"zeppelin\"]], \"hovertemplate\": \"x=%{x}<br>y=%{y}<br>z=%{z}<br>size=%{marker.size}<br>name=%{customdata[0]}<br>clusters=%{marker.color}<extra></extra>\", \"legendgroup\": \"\", \"marker\": {\"color\": [3, 2, 3, 4, 1, 4, 2, 2, 2, 2, 1, 0, 1, 1, 0, 1, 3, 1, 5, 0, 5, 1, 3, 4, 0, 1, 3, 0, 0, 2, 4, 4, 2, 0, 1, 5, 4, 4, 2, 0, 2, 0, 1, 0, 2, 2, 1, 0, 4, 4, 2, 5, 0, 5, 3, 4, 0, 0, 2, 4, 2, 2, 2, 1, 3, 3, 1, 3, 5, 0, 4, 0, 0, 4, 0, 0, 1, 0, 3, 5, 4, 4, 4, 2, 0, 5, 5, 2, 1, 1, 0, 2, 4, 0, 5, 4, 5, 4, 5, 1, 1, 2, 0, 3, 5, 4, 2, 5, 1, 4, 3, 3, 4, 4, 0, 1, 1, 1, 4, 5, 0, 1, 0, 0, 1, 5, 0, 5, 0, 0, 3, 3, 1, 1, 0, 2, 1, 2, 3, 3, 5, 1, 5, 4, 1, 5, 1, 3, 3, 3, 3, 2, 2, 3, 3, 2, 0, 3, 2, 4, 0, 5, 4, 5, 4, 3], \"coloraxis\": \"coloraxis\", \"size\": [1, 1, 1, 1, 1, 1, 1, 1, 1, 1, 1, 1, 1, 1, 1, 1, 1, 1, 1, 1, 1, 1, 1, 1, 1, 1, 1, 1, 1, 1, 1, 1, 1, 1, 1, 1, 1, 1, 1, 1, 1, 1, 1, 1, 1, 1, 1, 1, 1, 1, 1, 1, 1, 1, 1, 1, 1, 1, 1, 1, 1, 1, 1, 1, 1, 1, 1, 1, 1, 1, 1, 1, 1, 1, 1, 1, 1, 1, 1, 1, 1, 1, 1, 1, 1, 1, 1, 1, 1, 1, 1, 1, 1, 1, 1, 1, 1, 1, 1, 1, 1, 1, 1, 1, 1, 1, 1, 1, 1, 1, 1, 1, 1, 1, 1, 1, 1, 1, 1, 1, 1, 1, 1, 1, 1, 1, 1, 1, 1, 1, 1, 1, 1, 1, 1, 1, 1, 1, 1, 1, 1, 1, 1, 1, 1, 1, 1, 1, 1, 1, 1, 1, 1, 1, 1, 1, 1, 1, 1, 1, 1, 1, 1, 1, 1, 1], \"sizemode\": \"area\", \"sizeref\": 0.0044444444444444444, \"symbol\": \"circle\"}, \"mode\": \"markers\", \"name\": \"\", \"scene\": \"scene\", \"showlegend\": false, \"type\": \"scatter3d\", \"x\": [-1.7395918500390022, 0.915130810526721, -9.552305508741993, -5.52977185197176, 10.547796952145589, -7.1346712762767535, 0.7180102593546608, -0.923996528300155, -0.9664862700221256, -1.514787373235648, 16.437953728772484, -9.32326848727768, 16.13655744623987, 11.714663278803773, -2.2316832686521915, 19.324107837798177, -7.636790101925925, 11.633118108573324, 0.641471849225945, -3.568550161276348, 1.1816595546707078, 17.106164349574183, -9.256555051249318, -2.9022322915687777, -8.920687635439219, 15.978783499161135, -8.571383876918391, -2.537721430036867, -3.282340773195993, -1.4363272751338068, -5.251261336137902, -4.393665314626147, -1.3828950063704817, -3.753857242215841, 18.56726314379189, -0.21343316761409917, -6.711321160185435, -6.2848378982941995, -1.7555242991561273, -5.029748571011742, -1.8086987859409092, -7.9654369663763696, 18.5612400724628, -7.591954296129302, 0.2653470908581106, -2.3108806570406615, 15.959745328820063, -2.225732095894276, -3.213870509921902, -4.661231472255239, -2.3270542461413886, -0.4693423974472787, -3.2690158239586737, 0.9799103112889763, -4.048752079425214, -2.968579015622986, -6.568373007047692, -8.252049928717682, -0.012087758056136932, -5.794974421331121, -1.0587957829063042, -1.3642299615000366, -2.0800948391722365, 15.448468940890358, -9.849836394127877, -8.72315490018078, 17.262492162460408, -8.806767678447335, -1.7290650308711912, -2.341627472454024, -5.0173745041821345, -3.540306842563156, -7.329449508082803, -2.613166524698199, -8.516169538412612, -3.6951848332344595, 15.80055630122811, -4.408127704212626, -8.409204734777122, 3.6774628470951765, -4.315472917869164, -2.22850370528386, -2.774473822897557, -1.619462400419392, -4.4402816412825175, 0.35776568989086754, -0.7422019439293606, 0.23834194711585854, 18.770884238970776, 19.336024118048698, -1.6308480236011835, -1.6003603872788617, -6.790085465712234, -7.672718277126324, 4.710616246341945, -5.039952687401749, 2.1397330136124504, -6.522735887038931, -0.6288271042352922, 19.59489066197432, 18.290602824549133, -0.1345468480509977, -8.390703173852124, -8.717251771768584, 0.9930703729531334, -6.762395198491884, -2.388768270146938, -0.3589705955045968, 17.63149143918813, -3.4760878305204366, -7.496967277443339, -7.397151820266701, -5.051532717245357, -4.459424428382916, -1.6813321951191327, 19.217446912677495, 13.32380830634785, 17.759207579381254, -5.39041946089486, -0.7627845012253245, -1.7483190433578641, 18.56107533905142, -1.4904522373852018, -2.977310439047418, 17.792020393333633, 0.8393166876822824, -2.983043797273959, 0.9077614923709907, -1.322911110616459, -4.154192147803233, -8.930439609281223, -7.956462196692274, 16.044445245821564, 18.445254503396214, -6.131010619686581, -2.0095790668692906, 19.000964819036028, 0.7232074675767088, -10.519359856712303, -8.236188286236377, 0.4826729834144497, 15.177817834826001, -1.3275858815309831, -4.943203776159285, 17.822273326507343, 8.014517652846296, 16.621744399804143, -9.476751868792551, -4.568325777688173, -8.533080539177762, -8.17997532260505, -1.1237156712256806, -2.8947328359366, -9.913203006505015, -10.22102157822111, -2.7149227460756538, -2.974394540070385, -9.198313426208905, -1.0053327548696775, -5.421483923100365, -2.7236902025856438, -1.1447489504044397, -2.96928512371188, -0.8161987745674606, -4.76218312418521, -5.032896064884407], \"y\": [4.9993189491798065, 13.60925279525019, 2.8441201314397295, -5.636319834542271, -4.540222250818369, -7.830208011886062, 14.663125449972018, 15.583889422662953, 15.590162685581017, 15.093633266464469, -0.992624696391955, 1.3880581782808972, -0.42845451067662677, -1.1744992836305446, -0.4908922377490528, -0.17219161521428328, 2.7542248859044607, -1.3460259237499246, -6.184688705218421, 0.47387908828974373, -7.117868994813703, -0.8541631418377099, 1.7976529017903609, -8.242795933383444, 0.5285401368540374, -0.807581907136319, 1.8556484686361925, 2.819983918152344, -0.8771920212850659, 17.161275547338565, -8.07241573787472, -6.83277804389327, 14.660459721669538, -2.2366130544305887, -0.7957665236402458, -7.99412377171264, -7.30223520072649, -7.63423357955661, 10.840496520341336, -3.602922636202419, 17.29770920043372, 0.5318595009400205, 0.8150787355627154, -5.331656064471761, 12.62967012926508, 14.511798170735915, -0.31684125443598365, -3.8434870612631933, -8.31870422036587, -7.968397778833806, 14.139042914091007, -9.584074350519975, -3.8963999653161046, -6.2012875161499945, 2.2254945445655907, -7.674046752043234, 0.26504071826410036, -4.961792295390561, 15.737891714384546, -9.811775537974054, 12.64408040672379, 16.214844282516687, 14.913824313032302, 0.8341894548723046, 3.522924280131213, 3.33797686059901, -0.3828286523497759, 2.8785437123411572, -6.324442541776641, 1.069745828059534, -12.247175125801292, -1.9320437870001257, -3.0218284304638314, -7.058385346169496, 0.6198583692399594, -3.948596784314023, -0.7377688210519652, -6.12975179435575, 2.730661898686951, -5.213110561747989, -8.728912246224619, -7.749458503542411, -5.475196381085231, 15.07928785763006, -4.739995748199099, -5.741451434804068, -7.900674919034184, 13.300035993961275, -1.6976243135028344, -1.4049976094520953, -3.4645719616716826, 16.36802080662286, -8.184913526575006, -0.4175992831905724, -4.5836277516268975, -7.825823137219752, -6.718322223662732, -5.864833568928326, -7.780889452763914, -1.1085031972651407, 0.21445542627192726, 13.108488198991049, 0.22917260780379023, 3.041754719175155, -5.798987314560557, -9.448955101480953, 14.764902164184678, -5.997964445655618, -0.7571711913842114, -10.599848958916578, 2.2594844562079452, 2.584807717588207, -8.79859392043698, -9.512192550166505, -1.7402310978388247, -0.2945495520686333, -0.8012508378327599, -0.3534260130450716, -7.404592965864734, -8.78628695388091, 1.9824970704217777, 0.05518984360357959, 1.1428072402801923, 0.06674394102869552, -1.7475871303534456, -7.133852090410889, -1.7789863470236629, -8.5706122141711, -1.2888645129919345, -6.0314113749993234, 1.964613650189345, 1.6082311217876368, 0.9307646028316799, -0.244537946292251, -2.582963017262752, 14.19790044585844, -1.215512517869072, 11.527633850226728, 2.3675475742782917, 3.2239290632132933, -7.180300407569229, 0.42949770372112805, -4.656788024064799, -8.904156655497257, -0.2053688764177457, -5.556218583174201, -0.4053166102611758, 1.4153295673794337, 1.467452799778544, 1.8937697003394822, 1.66351110761454, 9.390842444708344, 14.183976331673097, 1.4206787866437467, 1.4367890878557297, 14.148405294254449, -3.3495084710870273, 1.0650713612636336, 16.52453123265001, -6.04472336097799, -0.3322094850054783, -8.327481747343032, -6.4846767739605315, -7.136082589951473, -8.856013545493443, 5.1437498299328155], \"z\": [7.502451722935623, -5.112149235919784, 13.95700332620739, -4.84047927192937, -0.2768752756627459, -3.783724792762026, -6.205424614409353, -7.181964158415459, -6.079510678440693, -7.454533701142283, 2.9489876408277285, 3.4565785551751356, 2.9253759561739336, 0.9534343900179376, 5.713011322398518, 4.339871907852963, 11.849556933927886, 1.5538308214255618, -3.889892048607827, 0.20619380488328742, -4.678091879728345, 3.857652961223671, 13.874710081031843, -3.829277444592859, 3.8624880706918683, 2.7433476927417337, 14.942485774405293, 5.988126252471318, 5.388197369057949, -7.154110501389946, -6.778700134090517, -5.390140797407012, -7.4965424911133525, -1.454020930981617, 4.063760755298275, -4.913634188956804, -4.580999453680874, -4.920028679075395, -7.549480211887433, -1.5294457457197739, -6.853051123220795, 1.230890399704488, 3.746277267177245, -0.672548043625851, -5.642086487289194, -4.9072651749873994, 3.335780496197787, -0.42714151222254104, -8.097157127764197, -6.14975944616657, -8.79872546993657, -5.4690305880860315, 0.6091460722278268, -3.267926890257214, 6.853730042312769, -4.867596306725217, 2.1465215739068997, -1.577663956465586, -6.159111519736223, -5.1431475889239895, -7.20812676026488, -6.940614443998184, -6.549174046420932, 2.830028075499719, 12.340628161316562, 11.64758894351959, 4.002191917815372, 12.864859680853321, -3.784462706222933, 3.3977297543211558, -5.740158616851714, -1.8545727044941862, 4.456850574345607, -6.2675300383338035, 2.612078641983783, 1.289360553814333, 2.1501796130993442, -0.2859134525086471, 12.422259268990155, -2.756764668771303, -6.1303302258048324, -5.40957667838931, -4.262203887569106, -4.518340830479267, 0.7440429291269338, -4.653893992850554, -4.2091779914900185, -7.30022229202316, 3.255493470850406, 4.009661696719649, -0.2999320822636188, -4.587432957517341, -5.000999223692531, 2.1846770622280367, -2.0654740353605936, -6.0041406786389135, -4.1540116507955185, -1.409348346152227, -4.402244099104815, 3.874897114488268, 3.602455801228509, -6.831027395921627, 2.5027267837225198, 8.958618989404497, -3.8259755746143798, -5.647156847049898, -7.582319386645825, -2.9931562546652457, 3.1677817740058036, -5.127255989826442, 11.5403315032315, 11.674182636310743, -7.373330414987187, -7.01222007042944, -2.2980089449259857, 4.1411572142795645, 2.8377633439998116, 3.7151793343884716, -4.6481597832938615, -6.101641535343797, 4.239529550993264, 3.722266391353613, 2.2258458476108753, 0.9086248845663962, 3.129238680504647, -5.440560306200897, -0.8687324586823155, -6.236225587922414, -2.2874803070985616, -0.14866038214431, 10.5911393059915, 10.386346720691831, 3.8485392026203433, 4.109418876105678, -0.8761666010232095, -4.0805662602304515, 4.240405105909881, -6.707102523632452, 9.932323441542586, 12.307224470315813, -5.845758686764174, 2.9507316805845907, -1.0765120308296918, -6.651412707432108, 3.577991152386683, -1.062915254017207, 3.92353306725739, 11.542172543554932, 8.010192044012207, 11.828755619597601, 10.631313422815762, -7.866925862838986, -8.004616163537321, 14.320845800513908, 14.022075899570805, -7.870567952029351, -0.19529868806497952, 12.195311599188251, -7.509739787657168, -1.5684582818225308, -0.7157823577023563, -6.055083924124848, -5.514121766379075, -4.134601395905802, -7.455292398670197, 9.622756426226275]}, {\"hovertemplate\": \"x=%{x}<br>y=%{y}<br>z=%{z}<extra></extra>\", \"legendgroup\": \"\", \"marker\": {\"color\": \"#636efa\", \"symbol\": \"circle\"}, \"mode\": \"markers\", \"name\": \"\", \"scene\": \"scene\", \"showlegend\": false, \"type\": \"scatter3d\", \"x\": [-4.549190971617575, 16.795628769787875, -1.1693793403117425, -8.03886922313267, -4.763721344498867, 0.7605818342755998], \"y\": [-1.6141567892322863, -0.6501879536604934, 14.36611782078608, 2.460131487060891, -8.018298653550747, -6.840415299755136], \"z\": [1.1079779951560782, 3.2426786042123954, -6.672249334484645, 11.432754574338745, -5.3429538213729, -4.137137967755473]}],                        {\"coloraxis\": {\"colorbar\": {\"title\": {\"text\": \"clusters\"}}, \"colorscale\": [[0.0, \"#0d0887\"], [0.1111111111111111, \"#46039f\"], [0.2222222222222222, \"#7201a8\"], [0.3333333333333333, \"#9c179e\"], [0.4444444444444444, \"#bd3786\"], [0.5555555555555556, \"#d8576b\"], [0.6666666666666666, \"#ed7953\"], [0.7777777777777778, \"#fb9f3a\"], [0.8888888888888888, \"#fdca26\"], [1.0, \"#f0f921\"]]}, \"legend\": {\"itemsizing\": \"constant\", \"tracegroupgap\": 0}, \"margin\": {\"t\": 60}, \"scene\": {\"domain\": {\"x\": [0.0, 1.0], \"y\": [0.0, 1.0]}, \"xaxis\": {\"title\": {\"text\": \"x\"}}, \"yaxis\": {\"title\": {\"text\": \"y\"}}, \"zaxis\": {\"title\": {\"text\": \"z\"}}}, \"template\": {\"data\": {\"bar\": [{\"error_x\": {\"color\": \"#2a3f5f\"}, \"error_y\": {\"color\": \"#2a3f5f\"}, \"marker\": {\"line\": {\"color\": \"#E5ECF6\", \"width\": 0.5}}, \"type\": \"bar\"}], \"barpolar\": [{\"marker\": {\"line\": {\"color\": \"#E5ECF6\", \"width\": 0.5}}, \"type\": \"barpolar\"}], \"carpet\": [{\"aaxis\": {\"endlinecolor\": \"#2a3f5f\", \"gridcolor\": \"white\", \"linecolor\": \"white\", \"minorgridcolor\": \"white\", \"startlinecolor\": \"#2a3f5f\"}, \"baxis\": {\"endlinecolor\": \"#2a3f5f\", \"gridcolor\": \"white\", \"linecolor\": \"white\", \"minorgridcolor\": \"white\", \"startlinecolor\": \"#2a3f5f\"}, \"type\": \"carpet\"}], \"choropleth\": [{\"colorbar\": {\"outlinewidth\": 0, \"ticks\": \"\"}, \"type\": \"choropleth\"}], \"contour\": [{\"colorbar\": {\"outlinewidth\": 0, \"ticks\": \"\"}, \"colorscale\": [[0.0, \"#0d0887\"], [0.1111111111111111, \"#46039f\"], [0.2222222222222222, \"#7201a8\"], [0.3333333333333333, \"#9c179e\"], [0.4444444444444444, \"#bd3786\"], [0.5555555555555556, \"#d8576b\"], [0.6666666666666666, \"#ed7953\"], [0.7777777777777778, \"#fb9f3a\"], [0.8888888888888888, \"#fdca26\"], [1.0, \"#f0f921\"]], \"type\": \"contour\"}], \"contourcarpet\": [{\"colorbar\": {\"outlinewidth\": 0, \"ticks\": \"\"}, \"type\": \"contourcarpet\"}], \"heatmap\": [{\"colorbar\": {\"outlinewidth\": 0, \"ticks\": \"\"}, \"colorscale\": [[0.0, \"#0d0887\"], [0.1111111111111111, \"#46039f\"], [0.2222222222222222, \"#7201a8\"], [0.3333333333333333, \"#9c179e\"], [0.4444444444444444, \"#bd3786\"], [0.5555555555555556, \"#d8576b\"], [0.6666666666666666, \"#ed7953\"], [0.7777777777777778, \"#fb9f3a\"], [0.8888888888888888, \"#fdca26\"], [1.0, \"#f0f921\"]], \"type\": \"heatmap\"}], \"heatmapgl\": [{\"colorbar\": {\"outlinewidth\": 0, \"ticks\": \"\"}, \"colorscale\": [[0.0, \"#0d0887\"], [0.1111111111111111, \"#46039f\"], [0.2222222222222222, \"#7201a8\"], [0.3333333333333333, \"#9c179e\"], [0.4444444444444444, \"#bd3786\"], [0.5555555555555556, \"#d8576b\"], [0.6666666666666666, \"#ed7953\"], [0.7777777777777778, \"#fb9f3a\"], [0.8888888888888888, \"#fdca26\"], [1.0, \"#f0f921\"]], \"type\": \"heatmapgl\"}], \"histogram\": [{\"marker\": {\"colorbar\": {\"outlinewidth\": 0, \"ticks\": \"\"}}, \"type\": \"histogram\"}], \"histogram2d\": [{\"colorbar\": {\"outlinewidth\": 0, \"ticks\": \"\"}, \"colorscale\": [[0.0, \"#0d0887\"], [0.1111111111111111, \"#46039f\"], [0.2222222222222222, \"#7201a8\"], [0.3333333333333333, \"#9c179e\"], [0.4444444444444444, \"#bd3786\"], [0.5555555555555556, \"#d8576b\"], [0.6666666666666666, \"#ed7953\"], [0.7777777777777778, \"#fb9f3a\"], [0.8888888888888888, \"#fdca26\"], [1.0, \"#f0f921\"]], \"type\": \"histogram2d\"}], \"histogram2dcontour\": [{\"colorbar\": {\"outlinewidth\": 0, \"ticks\": \"\"}, \"colorscale\": [[0.0, \"#0d0887\"], [0.1111111111111111, \"#46039f\"], [0.2222222222222222, \"#7201a8\"], [0.3333333333333333, \"#9c179e\"], [0.4444444444444444, \"#bd3786\"], [0.5555555555555556, \"#d8576b\"], [0.6666666666666666, \"#ed7953\"], [0.7777777777777778, \"#fb9f3a\"], [0.8888888888888888, \"#fdca26\"], [1.0, \"#f0f921\"]], \"type\": \"histogram2dcontour\"}], \"mesh3d\": [{\"colorbar\": {\"outlinewidth\": 0, \"ticks\": \"\"}, \"type\": \"mesh3d\"}], \"parcoords\": [{\"line\": {\"colorbar\": {\"outlinewidth\": 0, \"ticks\": \"\"}}, \"type\": \"parcoords\"}], \"pie\": [{\"automargin\": true, \"type\": \"pie\"}], \"scatter\": [{\"marker\": {\"colorbar\": {\"outlinewidth\": 0, \"ticks\": \"\"}}, \"type\": \"scatter\"}], \"scatter3d\": [{\"line\": {\"colorbar\": {\"outlinewidth\": 0, \"ticks\": \"\"}}, \"marker\": {\"colorbar\": {\"outlinewidth\": 0, \"ticks\": \"\"}}, \"type\": \"scatter3d\"}], \"scattercarpet\": [{\"marker\": {\"colorbar\": {\"outlinewidth\": 0, \"ticks\": \"\"}}, \"type\": \"scattercarpet\"}], \"scattergeo\": [{\"marker\": {\"colorbar\": {\"outlinewidth\": 0, \"ticks\": \"\"}}, \"type\": \"scattergeo\"}], \"scattergl\": [{\"marker\": {\"colorbar\": {\"outlinewidth\": 0, \"ticks\": \"\"}}, \"type\": \"scattergl\"}], \"scattermapbox\": [{\"marker\": {\"colorbar\": {\"outlinewidth\": 0, \"ticks\": \"\"}}, \"type\": \"scattermapbox\"}], \"scatterpolar\": [{\"marker\": {\"colorbar\": {\"outlinewidth\": 0, \"ticks\": \"\"}}, \"type\": \"scatterpolar\"}], \"scatterpolargl\": [{\"marker\": {\"colorbar\": {\"outlinewidth\": 0, \"ticks\": \"\"}}, \"type\": \"scatterpolargl\"}], \"scatterternary\": [{\"marker\": {\"colorbar\": {\"outlinewidth\": 0, \"ticks\": \"\"}}, \"type\": \"scatterternary\"}], \"surface\": [{\"colorbar\": {\"outlinewidth\": 0, \"ticks\": \"\"}, \"colorscale\": [[0.0, \"#0d0887\"], [0.1111111111111111, \"#46039f\"], [0.2222222222222222, \"#7201a8\"], [0.3333333333333333, \"#9c179e\"], [0.4444444444444444, \"#bd3786\"], [0.5555555555555556, \"#d8576b\"], [0.6666666666666666, \"#ed7953\"], [0.7777777777777778, \"#fb9f3a\"], [0.8888888888888888, \"#fdca26\"], [1.0, \"#f0f921\"]], \"type\": \"surface\"}], \"table\": [{\"cells\": {\"fill\": {\"color\": \"#EBF0F8\"}, \"line\": {\"color\": \"white\"}}, \"header\": {\"fill\": {\"color\": \"#C8D4E3\"}, \"line\": {\"color\": \"white\"}}, \"type\": \"table\"}]}, \"layout\": {\"annotationdefaults\": {\"arrowcolor\": \"#2a3f5f\", \"arrowhead\": 0, \"arrowwidth\": 1}, \"coloraxis\": {\"colorbar\": {\"outlinewidth\": 0, \"ticks\": \"\"}}, \"colorscale\": {\"diverging\": [[0, \"#8e0152\"], [0.1, \"#c51b7d\"], [0.2, \"#de77ae\"], [0.3, \"#f1b6da\"], [0.4, \"#fde0ef\"], [0.5, \"#f7f7f7\"], [0.6, \"#e6f5d0\"], [0.7, \"#b8e186\"], [0.8, \"#7fbc41\"], [0.9, \"#4d9221\"], [1, \"#276419\"]], \"sequential\": [[0.0, \"#0d0887\"], [0.1111111111111111, \"#46039f\"], [0.2222222222222222, \"#7201a8\"], [0.3333333333333333, \"#9c179e\"], [0.4444444444444444, \"#bd3786\"], [0.5555555555555556, \"#d8576b\"], [0.6666666666666666, \"#ed7953\"], [0.7777777777777778, \"#fb9f3a\"], [0.8888888888888888, \"#fdca26\"], [1.0, \"#f0f921\"]], \"sequentialminus\": [[0.0, \"#0d0887\"], [0.1111111111111111, \"#46039f\"], [0.2222222222222222, \"#7201a8\"], [0.3333333333333333, \"#9c179e\"], [0.4444444444444444, \"#bd3786\"], [0.5555555555555556, \"#d8576b\"], [0.6666666666666666, \"#ed7953\"], [0.7777777777777778, \"#fb9f3a\"], [0.8888888888888888, \"#fdca26\"], [1.0, \"#f0f921\"]]}, \"colorway\": [\"#636efa\", \"#EF553B\", \"#00cc96\", \"#ab63fa\", \"#FFA15A\", \"#19d3f3\", \"#FF6692\", \"#B6E880\", \"#FF97FF\", \"#FECB52\"], \"font\": {\"color\": \"#2a3f5f\"}, \"geo\": {\"bgcolor\": \"white\", \"lakecolor\": \"white\", \"landcolor\": \"#E5ECF6\", \"showlakes\": true, \"showland\": true, \"subunitcolor\": \"white\"}, \"hoverlabel\": {\"align\": \"left\"}, \"hovermode\": \"closest\", \"mapbox\": {\"style\": \"light\"}, \"paper_bgcolor\": \"white\", \"plot_bgcolor\": \"#E5ECF6\", \"polar\": {\"angularaxis\": {\"gridcolor\": \"white\", \"linecolor\": \"white\", \"ticks\": \"\"}, \"bgcolor\": \"#E5ECF6\", \"radialaxis\": {\"gridcolor\": \"white\", \"linecolor\": \"white\", \"ticks\": \"\"}}, \"scene\": {\"xaxis\": {\"backgroundcolor\": \"#E5ECF6\", \"gridcolor\": \"white\", \"gridwidth\": 2, \"linecolor\": \"white\", \"showbackground\": true, \"ticks\": \"\", \"zerolinecolor\": \"white\"}, \"yaxis\": {\"backgroundcolor\": \"#E5ECF6\", \"gridcolor\": \"white\", \"gridwidth\": 2, \"linecolor\": \"white\", \"showbackground\": true, \"ticks\": \"\", \"zerolinecolor\": \"white\"}, \"zaxis\": {\"backgroundcolor\": \"#E5ECF6\", \"gridcolor\": \"white\", \"gridwidth\": 2, \"linecolor\": \"white\", \"showbackground\": true, \"ticks\": \"\", \"zerolinecolor\": \"white\"}}, \"shapedefaults\": {\"line\": {\"color\": \"#2a3f5f\"}}, \"ternary\": {\"aaxis\": {\"gridcolor\": \"white\", \"linecolor\": \"white\", \"ticks\": \"\"}, \"baxis\": {\"gridcolor\": \"white\", \"linecolor\": \"white\", \"ticks\": \"\"}, \"bgcolor\": \"#E5ECF6\", \"caxis\": {\"gridcolor\": \"white\", \"linecolor\": \"white\", \"ticks\": \"\"}}, \"title\": {\"x\": 0.05}, \"xaxis\": {\"automargin\": true, \"gridcolor\": \"white\", \"linecolor\": \"white\", \"ticks\": \"\", \"title\": {\"standoff\": 15}, \"zerolinecolor\": \"white\", \"zerolinewidth\": 2}, \"yaxis\": {\"automargin\": true, \"gridcolor\": \"white\", \"linecolor\": \"white\", \"ticks\": \"\", \"title\": {\"standoff\": 15}, \"zerolinecolor\": \"white\", \"zerolinewidth\": 2}}}},                        {\"responsive\": true}                    ).then(function(){\n                            \nvar gd = document.getElementById('aaf3ed04-988b-4f31-bbe1-a3fc22e7a72c');\nvar x = new MutationObserver(function (mutations, observer) {{\n        var display = window.getComputedStyle(gd).display;\n        if (!display || display === 'none') {{\n            console.log([gd, 'removed!']);\n            Plotly.purge(gd);\n            observer.disconnect();\n        }}\n}});\n\n// Listen for the removal of the full notebook cells\nvar notebookContainer = gd.closest('#notebook-container');\nif (notebookContainer) {{\n    x.observe(notebookContainer, {childList: true});\n}}\n\n// Listen for the clearing of the current output cell\nvar outputEl = gd.closest('.output');\nif (outputEl) {{\n    x.observe(outputEl, {childList: true});\n}}\n\n                        })                };                });            </script>        </div>"
     },
     "metadata": {}
    }
   ],
   "source": [
    "transformed_df = pd.DataFrame(transformed_train_X, columns=['x','y','z'])\n",
    "transformed_df['clusters'] = kmeans.labels_\n",
    "transformed_df['target'] = train_y.values\n",
    "transformed_df['name'] = df.index\n",
    "transformed_df['size'] = [1 for i in range(transformed_df.shape[0])]\n",
    "fig = px.scatter_3d(transformed_df, x='x', y='y', z='z',\n",
    "              color='clusters', hover_data=['name'], size='size', size_max=15)\n",
    "fig.add_trace(px.scatter_3d(pd.DataFrame(kmeans.cluster_centers_, columns=['x','y','z']), x='x', y='y', z='z').data[0])\n",
    "fig.show()"
   ]
  },
  {
   "source": [
    "## Ground truth clusters"
   ],
   "cell_type": "markdown",
   "metadata": {}
  },
  {
   "cell_type": "code",
   "execution_count": 19,
   "metadata": {},
   "outputs": [
    {
     "output_type": "display_data",
     "data": {
      "application/vnd.plotly.v1+json": {
       "config": {
        "plotlyServerURL": "https://plot.ly"
       },
       "data": [
        {
         "customdata": [
          [
           "(hot air) balloon"
          ],
          [
           "airplane"
          ],
          [
           "bicycle"
          ],
          [
           "boat"
          ],
          [
           "bus"
          ],
          [
           "car"
          ],
          [
           "carriage"
          ],
          [
           "cart"
          ],
          [
           "go-cart"
          ],
          [
           "helicopter"
          ],
          [
           "hovercraft"
          ],
          [
           "jeep"
          ],
          [
           "kick scooter"
          ],
          [
           "motorbike (moto)"
          ],
          [
           "rocket"
          ],
          [
           "scooter (bromfiets)"
          ],
          [
           "scooter (brommer)"
          ],
          [
           "skateboard"
          ],
          [
           "sled"
          ],
          [
           "submarine"
          ],
          [
           "subway train"
          ],
          [
           "taxi"
          ],
          [
           "tractor"
          ],
          [
           "trailer"
          ],
          [
           "train"
          ],
          [
           "tram"
          ],
          [
           "truck (camion)"
          ],
          [
           "truck (vrachtwagen)"
          ],
          [
           "van"
          ],
          [
           "zeppelin"
          ]
         ],
         "hovertemplate": "target=vehicle<br>x=%{x}<br>y=%{y}<br>z=%{z}<br>size=%{marker.size}<br>name=%{customdata[0]}<extra></extra>",
         "legendgroup": "vehicle",
         "marker": {
          "color": "#636efa",
          "size": [
           1,
           1,
           1,
           1,
           1,
           1,
           1,
           1,
           1,
           1,
           1,
           1,
           1,
           1,
           1,
           1,
           1,
           1,
           1,
           1,
           1,
           1,
           1,
           1,
           1,
           1,
           1,
           1,
           1,
           1
          ],
          "sizemode": "area",
          "sizeref": 0.0044444444444444444,
          "symbol": "circle"
         },
         "mode": "markers",
         "name": "vehicle",
         "scene": "scene",
         "showlegend": true,
         "type": "scatter3d",
         "x": [
          -1.7395918500390022,
          -9.552305508741993,
          -2.2316832686521915,
          -7.636790101925925,
          -9.256555051249318,
          -8.571383876918391,
          -2.537721430036867,
          -3.282340773195993,
          -4.048752079425214,
          -9.849836394127877,
          -8.72315490018078,
          -8.806767678447335,
          -2.341627472454024,
          -8.409204734777122,
          -8.717251771768584,
          -7.496967277443339,
          -7.397151820266701,
          -1.7483190433578641,
          -1.4904522373852018,
          -8.930439609281223,
          -7.956462196692274,
          -8.236188286236377,
          -9.476751868792551,
          -4.568325777688173,
          -8.533080539177762,
          -8.17997532260505,
          -9.913203006505015,
          -10.22102157822111,
          -9.198313426208905,
          -5.032896064884407
         ],
         "y": [
          4.9993189491798065,
          2.8441201314397295,
          -0.4908922377490528,
          2.7542248859044607,
          1.7976529017903609,
          1.8556484686361925,
          2.819983918152344,
          -0.8771920212850659,
          2.2254945445655907,
          3.522924280131213,
          3.33797686059901,
          2.8785437123411572,
          1.069745828059534,
          2.730661898686951,
          3.041754719175155,
          2.2594844562079452,
          2.584807717588207,
          1.9824970704217777,
          1.1428072402801923,
          1.964613650189345,
          1.6082311217876368,
          3.2239290632132933,
          1.4153295673794337,
          1.467452799778544,
          1.8937697003394822,
          1.66351110761454,
          1.4206787866437467,
          1.4367890878557297,
          1.0650713612636336,
          5.1437498299328155
         ],
         "z": [
          7.502451722935623,
          13.95700332620739,
          5.713011322398518,
          11.849556933927886,
          13.874710081031843,
          14.942485774405293,
          5.988126252471318,
          5.388197369057949,
          6.853730042312769,
          12.340628161316562,
          11.64758894351959,
          12.864859680853321,
          3.3977297543211558,
          12.422259268990155,
          8.958618989404497,
          11.5403315032315,
          11.674182636310743,
          4.239529550993264,
          2.2258458476108753,
          10.5911393059915,
          10.386346720691831,
          12.307224470315813,
          11.542172543554932,
          8.010192044012207,
          11.828755619597601,
          10.631313422815762,
          14.320845800513908,
          14.022075899570805,
          12.195311599188251,
          9.622756426226275
         ]
        },
        {
         "customdata": [
          [
           "accordion"
          ],
          [
           "bagpipe"
          ],
          [
           "banjo"
          ],
          [
           "bass guitar"
          ],
          [
           "bassoon"
          ],
          [
           "cello"
          ],
          [
           "clarinet"
          ],
          [
           "cymbals"
          ],
          [
           "double bass"
          ],
          [
           "drum"
          ],
          [
           "drum set"
          ],
          [
           "flute"
          ],
          [
           "guitar"
          ],
          [
           "harmonica"
          ],
          [
           "harp"
          ],
          [
           "harpsichord"
          ],
          [
           "organ"
          ],
          [
           "pan flute"
          ],
          [
           "piano"
          ],
          [
           "recorder"
          ],
          [
           "saxophone"
          ],
          [
           "synthesizer"
          ],
          [
           "tambourine"
          ],
          [
           "triangle"
          ],
          [
           "trombone"
          ],
          [
           "trumpet"
          ],
          [
           "violin"
          ]
         ],
         "hovertemplate": "target=musical instrument<br>x=%{x}<br>y=%{y}<br>z=%{z}<br>size=%{marker.size}<br>name=%{customdata[0]}<extra></extra>",
         "legendgroup": "musical instrument",
         "marker": {
          "color": "#EF553B",
          "size": [
           1,
           1,
           1,
           1,
           1,
           1,
           1,
           1,
           1,
           1,
           1,
           1,
           1,
           1,
           1,
           1,
           1,
           1,
           1,
           1,
           1,
           1,
           1,
           1,
           1,
           1,
           1
          ],
          "sizemode": "area",
          "sizeref": 0.0044444444444444444,
          "symbol": "circle"
         },
         "mode": "markers",
         "name": "musical instrument",
         "scene": "scene",
         "showlegend": true,
         "type": "scatter3d",
         "x": [
          0.915130810526721,
          0.7180102593546608,
          -0.923996528300155,
          -0.9664862700221256,
          -1.514787373235648,
          -1.4363272751338068,
          -1.3828950063704817,
          -1.7555242991561273,
          -1.8086987859409092,
          0.2653470908581106,
          -2.3108806570406615,
          -2.3270542461413886,
          -0.012087758056136932,
          -1.0587957829063042,
          -1.3642299615000366,
          -2.0800948391722365,
          -1.619462400419392,
          0.23834194711585854,
          -1.6003603872788617,
          -0.1345468480509977,
          -2.388768270146938,
          -2.0095790668692906,
          0.7232074675767088,
          -1.1237156712256806,
          -2.8947328359366,
          -2.7149227460756538,
          -1.0053327548696775
         ],
         "y": [
          13.60925279525019,
          14.663125449972018,
          15.583889422662953,
          15.590162685581017,
          15.093633266464469,
          17.161275547338565,
          14.660459721669538,
          10.840496520341336,
          17.29770920043372,
          12.62967012926508,
          14.511798170735915,
          14.139042914091007,
          15.737891714384546,
          12.64408040672379,
          16.214844282516687,
          14.913824313032302,
          15.07928785763006,
          13.300035993961275,
          16.36802080662286,
          13.108488198991049,
          14.764902164184678,
          14.19790044585844,
          11.527633850226728,
          9.390842444708344,
          14.183976331673097,
          14.148405294254449,
          16.52453123265001
         ],
         "z": [
          -5.112149235919784,
          -6.205424614409353,
          -7.181964158415459,
          -6.079510678440693,
          -7.454533701142283,
          -7.154110501389946,
          -7.4965424911133525,
          -7.549480211887433,
          -6.853051123220795,
          -5.642086487289194,
          -4.9072651749873994,
          -8.79872546993657,
          -6.159111519736223,
          -7.20812676026488,
          -6.940614443998184,
          -6.549174046420932,
          -4.518340830479267,
          -7.30022229202316,
          -4.587432957517341,
          -6.831027395921627,
          -7.582319386645825,
          -4.0805662602304515,
          -6.707102523632452,
          -7.866925862838986,
          -8.004616163537321,
          -7.870567952029351,
          -7.509739787657168
         ]
        },
        {
         "customdata": [
          [
           "anvil"
          ],
          [
           "axe"
          ],
          [
           "chisel"
          ],
          [
           "clamp"
          ],
          [
           "crowbar (breekijzer)"
          ],
          [
           "crowbar (koevoet)"
          ],
          [
           "drill"
          ],
          [
           "file"
          ],
          [
           "filling knife"
          ],
          [
           "grinding disc"
          ],
          [
           "hammer"
          ],
          [
           "lawn mower"
          ],
          [
           "level"
          ],
          [
           "nail"
          ],
          [
           "oil can"
          ],
          [
           "paint brush"
          ],
          [
           "pickaxe"
          ],
          [
           "plane"
          ],
          [
           "plough"
          ],
          [
           "rope"
          ],
          [
           "saw"
          ],
          [
           "screw wrench (engelse sleutel)"
          ],
          [
           "screwdriver"
          ],
          [
           "shovel"
          ],
          [
           "tongs"
          ],
          [
           "vacuum cleaner"
          ],
          [
           "wheelbarrow"
          ],
          [
           "wire brush"
          ],
          [
           "wrench"
          ]
         ],
         "hovertemplate": "target=tool<br>x=%{x}<br>y=%{y}<br>z=%{z}<br>size=%{marker.size}<br>name=%{customdata[0]}<extra></extra>",
         "legendgroup": "tool",
         "marker": {
          "color": "#00cc96",
          "size": [
           1,
           1,
           1,
           1,
           1,
           1,
           1,
           1,
           1,
           1,
           1,
           1,
           1,
           1,
           1,
           1,
           1,
           1,
           1,
           1,
           1,
           1,
           1,
           1,
           1,
           1,
           1,
           1,
           1
          ],
          "sizemode": "area",
          "sizeref": 0.0044444444444444444,
          "symbol": "circle"
         },
         "mode": "markers",
         "name": "tool",
         "scene": "scene",
         "showlegend": true,
         "type": "scatter3d",
         "x": [
          -5.52977185197176,
          -7.1346712762767535,
          -5.251261336137902,
          -4.393665314626147,
          -6.711321160185435,
          -6.2848378982941995,
          -7.591954296129302,
          -3.213870509921902,
          -4.661231472255239,
          -8.252049928717682,
          -5.794974421331121,
          -7.329449508082803,
          -2.613166524698199,
          -4.315472917869164,
          -2.774473822897557,
          0.35776568989086754,
          -6.790085465712234,
          -5.039952687401749,
          -6.522735887038931,
          0.9930703729531334,
          -6.762395198491884,
          -5.051532717245357,
          -4.459424428382916,
          -5.39041946089486,
          -4.943203776159285,
          -2.974394540070385,
          -5.421483923100365,
          -2.96928512371188,
          -4.76218312418521
         ],
         "y": [
          -5.636319834542271,
          -7.830208011886062,
          -8.07241573787472,
          -6.83277804389327,
          -7.30223520072649,
          -7.63423357955661,
          -5.331656064471761,
          -8.31870422036587,
          -7.968397778833806,
          -4.961792295390561,
          -9.811775537974054,
          -3.0218284304638314,
          -7.058385346169496,
          -8.728912246224619,
          -5.475196381085231,
          -5.741451434804068,
          -8.184913526575006,
          -7.825823137219752,
          -5.864833568928326,
          -5.798987314560557,
          -9.448955101480953,
          -8.79859392043698,
          -9.512192550166505,
          -7.404592965864734,
          -8.904156655497257,
          -3.3495084710870273,
          -6.04472336097799,
          -6.4846767739605315,
          -8.856013545493443
         ],
         "z": [
          -4.84047927192937,
          -3.783724792762026,
          -6.778700134090517,
          -5.390140797407012,
          -4.580999453680874,
          -4.920028679075395,
          -0.672548043625851,
          -8.097157127764197,
          -6.14975944616657,
          -1.577663956465586,
          -5.1431475889239895,
          4.456850574345607,
          -6.2675300383338035,
          -6.1303302258048324,
          -4.262203887569106,
          -4.653893992850554,
          -5.000999223692531,
          -6.0041406786389135,
          -1.409348346152227,
          -3.8259755746143798,
          -5.647156847049898,
          -7.373330414987187,
          -7.01222007042944,
          -4.6481597832938615,
          -6.651412707432108,
          -0.19529868806497952,
          -1.5684582818225308,
          -5.514121766379075,
          -7.455292398670197
         ]
        },
        {
         "customdata": [
          [
           "apron"
          ],
          [
           "bottle"
          ],
          [
           "bowl"
          ],
          [
           "can opener"
          ],
          [
           "colander"
          ],
          [
           "electric kettle"
          ],
          [
           "fork"
          ],
          [
           "fridge"
          ],
          [
           "glass"
          ],
          [
           "grater"
          ],
          [
           "kettle"
          ],
          [
           "knife"
          ],
          [
           "microwave oven"
          ],
          [
           "mixer"
          ],
          [
           "mug"
          ],
          [
           "nutcracker"
          ],
          [
           "oven"
          ],
          [
           "pan"
          ],
          [
           "percolator"
          ],
          [
           "place mat"
          ],
          [
           "plate"
          ],
          [
           "pot"
          ],
          [
           "scales"
          ],
          [
           "scissors"
          ],
          [
           "sieve"
          ],
          [
           "spatula"
          ],
          [
           "spoon"
          ],
          [
           "stove"
          ],
          [
           "teaspoon"
          ],
          [
           "toaster"
          ],
          [
           "towel"
          ],
          [
           "whisk"
          ],
          [
           "wok"
          ]
         ],
         "hovertemplate": "target=kitchen utensil<br>x=%{x}<br>y=%{y}<br>z=%{z}<br>size=%{marker.size}<br>name=%{customdata[0]}<extra></extra>",
         "legendgroup": "kitchen utensil",
         "marker": {
          "color": "#ab63fa",
          "size": [
           1,
           1,
           1,
           1,
           1,
           1,
           1,
           1,
           1,
           1,
           1,
           1,
           1,
           1,
           1,
           1,
           1,
           1,
           1,
           1,
           1,
           1,
           1,
           1,
           1,
           1,
           1,
           1,
           1,
           1,
           1,
           1,
           1
          ],
          "sizemode": "area",
          "sizeref": 0.0044444444444444444,
          "symbol": "circle"
         },
         "mode": "markers",
         "name": "kitchen utensil",
         "scene": "scene",
         "showlegend": true,
         "type": "scatter3d",
         "x": [
          10.547796952145589,
          0.641471849225945,
          1.1816595546707078,
          -2.9022322915687777,
          -0.21343316761409917,
          -2.225732095894276,
          -0.4693423974472787,
          -3.2690158239586737,
          0.9799103112889763,
          -2.968579015622986,
          -1.7290650308711912,
          -5.0173745041821345,
          -3.6951848332344595,
          -4.408127704212626,
          3.6774628470951765,
          -2.22850370528386,
          -4.4402816412825175,
          -0.7422019439293606,
          -1.6308480236011835,
          4.710616246341945,
          2.1397330136124504,
          -0.6288271042352922,
          -0.3589705955045968,
          -3.4760878305204366,
          -0.7627845012253245,
          0.8393166876822824,
          0.9077614923709907,
          -4.154192147803233,
          0.4826729834144497,
          -1.3275858815309831,
          8.014517652846296,
          -1.1447489504044397,
          -0.8161987745674606
         ],
         "y": [
          -4.540222250818369,
          -6.184688705218421,
          -7.117868994813703,
          -8.242795933383444,
          -7.99412377171264,
          -3.8434870612631933,
          -9.584074350519975,
          -3.8963999653161046,
          -6.2012875161499945,
          -7.674046752043234,
          -6.324442541776641,
          -12.247175125801292,
          -3.948596784314023,
          -6.12975179435575,
          -5.213110561747989,
          -7.749458503542411,
          -4.739995748199099,
          -7.900674919034184,
          -3.4645719616716826,
          -4.5836277516268975,
          -6.718322223662732,
          -7.780889452763914,
          -5.997964445655618,
          -10.599848958916578,
          -8.78628695388091,
          -7.133852090410889,
          -8.5706122141711,
          -6.0314113749993234,
          -7.180300407569229,
          -4.656788024064799,
          -5.556218583174201,
          -8.327481747343032,
          -7.136082589951473
         ],
         "z": [
          -0.2768752756627459,
          -3.889892048607827,
          -4.678091879728345,
          -3.829277444592859,
          -4.913634188956804,
          -0.42714151222254104,
          -5.4690305880860315,
          0.6091460722278268,
          -3.267926890257214,
          -4.867596306725217,
          -3.784462706222933,
          -5.740158616851714,
          1.289360553814333,
          -0.2859134525086471,
          -2.756764668771303,
          -5.40957667838931,
          0.7440429291269338,
          -4.2091779914900185,
          -0.2999320822636188,
          -2.0654740353605936,
          -4.1540116507955185,
          -4.402244099104815,
          -2.9931562546652457,
          -5.127255989826442,
          -6.101641535343797,
          -5.440560306200897,
          -6.236225587922414,
          -0.14866038214431,
          -5.845758686764174,
          -1.0765120308296918,
          -1.062915254017207,
          -6.055083924124848,
          -4.134601395905802
         ]
        },
        {
         "customdata": [
          [
           "bathing suit"
          ],
          [
           "beanie"
          ],
          [
           "belt"
          ],
          [
           "blouse"
          ],
          [
           "boots"
          ],
          [
           "bra"
          ],
          [
           "cap"
          ],
          [
           "coat"
          ],
          [
           "dress"
          ],
          [
           "dungarees"
          ],
          [
           "hat"
          ],
          [
           "jeans"
          ],
          [
           "mittens"
          ],
          [
           "panties"
          ],
          [
           "pants"
          ],
          [
           "pullover"
          ],
          [
           "pyjamas"
          ],
          [
           "scarf"
          ],
          [
           "shirt"
          ],
          [
           "shoes"
          ],
          [
           "shorts"
          ],
          [
           "skirt"
          ],
          [
           "socks"
          ],
          [
           "suit"
          ],
          [
           "sweater"
          ],
          [
           "t-shirt"
          ],
          [
           "tie"
          ],
          [
           "top"
          ],
          [
           "tracksuit"
          ]
         ],
         "hovertemplate": "target=clothing<br>x=%{x}<br>y=%{y}<br>z=%{z}<br>size=%{marker.size}<br>name=%{customdata[0]}<extra></extra>",
         "legendgroup": "clothing",
         "marker": {
          "color": "#FFA15A",
          "size": [
           1,
           1,
           1,
           1,
           1,
           1,
           1,
           1,
           1,
           1,
           1,
           1,
           1,
           1,
           1,
           1,
           1,
           1,
           1,
           1,
           1,
           1,
           1,
           1,
           1,
           1,
           1,
           1,
           1
          ],
          "sizemode": "area",
          "sizeref": 0.0044444444444444444,
          "symbol": "circle"
         },
         "mode": "markers",
         "name": "clothing",
         "scene": "scene",
         "showlegend": true,
         "type": "scatter3d",
         "x": [
          16.437953728772484,
          16.13655744623987,
          11.714663278803773,
          19.324107837798177,
          11.633118108573324,
          17.106164349574183,
          15.978783499161135,
          18.56726314379189,
          18.5612400724628,
          15.959745328820063,
          15.448468940890358,
          17.262492162460408,
          15.80055630122811,
          18.770884238970776,
          19.336024118048698,
          19.59489066197432,
          18.290602824549133,
          17.63149143918813,
          19.217446912677495,
          13.32380830634785,
          17.759207579381254,
          18.56107533905142,
          17.792020393333633,
          16.044445245821564,
          18.445254503396214,
          19.000964819036028,
          15.177817834826001,
          17.822273326507343,
          16.621744399804143
         ],
         "y": [
          -0.992624696391955,
          -0.42845451067662677,
          -1.1744992836305446,
          -0.17219161521428328,
          -1.3460259237499246,
          -0.8541631418377099,
          -0.807581907136319,
          -0.7957665236402458,
          0.8150787355627154,
          -0.31684125443598365,
          0.8341894548723046,
          -0.3828286523497759,
          -0.7377688210519652,
          -1.6976243135028344,
          -1.4049976094520953,
          -1.1085031972651407,
          0.21445542627192726,
          -0.7571711913842114,
          -0.2945495520686333,
          -0.8012508378327599,
          -0.3534260130450716,
          0.05518984360357959,
          -1.7475871303534456,
          0.9307646028316799,
          -0.244537946292251,
          -1.215512517869072,
          0.42949770372112805,
          -0.2053688764177457,
          -0.4053166102611758
         ],
         "z": [
          2.9489876408277285,
          2.9253759561739336,
          0.9534343900179376,
          4.339871907852963,
          1.5538308214255618,
          3.857652961223671,
          2.7433476927417337,
          4.063760755298275,
          3.746277267177245,
          3.335780496197787,
          2.830028075499719,
          4.002191917815372,
          2.1501796130993442,
          3.255493470850406,
          4.009661696719649,
          3.874897114488268,
          3.602455801228509,
          3.1677817740058036,
          4.1411572142795645,
          2.8377633439998116,
          3.7151793343884716,
          3.722266391353613,
          3.129238680504647,
          3.8485392026203433,
          4.109418876105678,
          4.240405105909881,
          2.9507316805845907,
          3.577991152386683,
          3.92353306725739
         ]
        },
        {
         "customdata": [
          [
           "bazooka"
          ],
          [
           "bow"
          ],
          [
           "canon"
          ],
          [
           "club"
          ],
          [
           "dagger"
          ],
          [
           "double-barreled shotgun"
          ],
          [
           "grenade"
          ],
          [
           "knuckle dusters"
          ],
          [
           "machine gun"
          ],
          [
           "pistol"
          ],
          [
           "rifle"
          ],
          [
           "shield"
          ],
          [
           "slingshot"
          ],
          [
           "spear"
          ],
          [
           "stick"
          ],
          [
           "sword"
          ],
          [
           "tank"
          ],
          [
           "whip"
          ]
         ],
         "hovertemplate": "target=weapon<br>x=%{x}<br>y=%{y}<br>z=%{z}<br>size=%{marker.size}<br>name=%{customdata[0]}<extra></extra>",
         "legendgroup": "weapon",
         "marker": {
          "color": "#19d3f3",
          "size": [
           1,
           1,
           1,
           1,
           1,
           1,
           1,
           1,
           1,
           1,
           1,
           1,
           1,
           1,
           1,
           1,
           1,
           1
          ],
          "sizemode": "area",
          "sizeref": 0.0044444444444444444,
          "symbol": "circle"
         },
         "mode": "markers",
         "name": "weapon",
         "scene": "scene",
         "showlegend": true,
         "type": "scatter3d",
         "x": [
          -9.32326848727768,
          -3.568550161276348,
          -8.920687635439219,
          -3.753857242215841,
          -5.029748571011742,
          -7.9654369663763696,
          -6.568373007047692,
          -3.540306842563156,
          -8.516169538412612,
          -7.672718277126324,
          -8.390703173852124,
          -1.6813321951191327,
          -2.977310439047418,
          -2.983043797273959,
          -1.322911110616459,
          -6.131010619686581,
          -10.519359856712303,
          -2.7236902025856438
         ],
         "y": [
          1.3880581782808972,
          0.47387908828974373,
          0.5285401368540374,
          -2.2366130544305887,
          -3.602922636202419,
          0.5318595009400205,
          0.26504071826410036,
          -1.9320437870001257,
          0.6198583692399594,
          -0.4175992831905724,
          0.22917260780379023,
          -1.7402310978388247,
          0.06674394102869552,
          -1.7789863470236629,
          -1.2888645129919345,
          -2.582963017262752,
          2.3675475742782917,
          -0.3322094850054783
         ],
         "z": [
          3.4565785551751356,
          0.20619380488328742,
          3.8624880706918683,
          -1.454020930981617,
          -1.5294457457197739,
          1.230890399704488,
          2.1465215739068997,
          -1.8545727044941862,
          2.612078641983783,
          2.1846770622280367,
          2.5027267837225198,
          -2.2980089449259857,
          0.9086248845663962,
          -0.8687324586823155,
          -2.2874803070985616,
          -0.8761666010232095,
          9.932323441542586,
          -0.7157823577023563
         ]
        }
       ],
       "layout": {
        "legend": {
         "itemsizing": "constant",
         "title": {
          "text": "target"
         },
         "tracegroupgap": 0
        },
        "margin": {
         "t": 60
        },
        "scene": {
         "domain": {
          "x": [
           0,
           1
          ],
          "y": [
           0,
           1
          ]
         },
         "xaxis": {
          "title": {
           "text": "x"
          }
         },
         "yaxis": {
          "title": {
           "text": "y"
          }
         },
         "zaxis": {
          "title": {
           "text": "z"
          }
         }
        },
        "template": {
         "data": {
          "bar": [
           {
            "error_x": {
             "color": "#2a3f5f"
            },
            "error_y": {
             "color": "#2a3f5f"
            },
            "marker": {
             "line": {
              "color": "#E5ECF6",
              "width": 0.5
             }
            },
            "type": "bar"
           }
          ],
          "barpolar": [
           {
            "marker": {
             "line": {
              "color": "#E5ECF6",
              "width": 0.5
             }
            },
            "type": "barpolar"
           }
          ],
          "carpet": [
           {
            "aaxis": {
             "endlinecolor": "#2a3f5f",
             "gridcolor": "white",
             "linecolor": "white",
             "minorgridcolor": "white",
             "startlinecolor": "#2a3f5f"
            },
            "baxis": {
             "endlinecolor": "#2a3f5f",
             "gridcolor": "white",
             "linecolor": "white",
             "minorgridcolor": "white",
             "startlinecolor": "#2a3f5f"
            },
            "type": "carpet"
           }
          ],
          "choropleth": [
           {
            "colorbar": {
             "outlinewidth": 0,
             "ticks": ""
            },
            "type": "choropleth"
           }
          ],
          "contour": [
           {
            "colorbar": {
             "outlinewidth": 0,
             "ticks": ""
            },
            "colorscale": [
             [
              0,
              "#0d0887"
             ],
             [
              0.1111111111111111,
              "#46039f"
             ],
             [
              0.2222222222222222,
              "#7201a8"
             ],
             [
              0.3333333333333333,
              "#9c179e"
             ],
             [
              0.4444444444444444,
              "#bd3786"
             ],
             [
              0.5555555555555556,
              "#d8576b"
             ],
             [
              0.6666666666666666,
              "#ed7953"
             ],
             [
              0.7777777777777778,
              "#fb9f3a"
             ],
             [
              0.8888888888888888,
              "#fdca26"
             ],
             [
              1,
              "#f0f921"
             ]
            ],
            "type": "contour"
           }
          ],
          "contourcarpet": [
           {
            "colorbar": {
             "outlinewidth": 0,
             "ticks": ""
            },
            "type": "contourcarpet"
           }
          ],
          "heatmap": [
           {
            "colorbar": {
             "outlinewidth": 0,
             "ticks": ""
            },
            "colorscale": [
             [
              0,
              "#0d0887"
             ],
             [
              0.1111111111111111,
              "#46039f"
             ],
             [
              0.2222222222222222,
              "#7201a8"
             ],
             [
              0.3333333333333333,
              "#9c179e"
             ],
             [
              0.4444444444444444,
              "#bd3786"
             ],
             [
              0.5555555555555556,
              "#d8576b"
             ],
             [
              0.6666666666666666,
              "#ed7953"
             ],
             [
              0.7777777777777778,
              "#fb9f3a"
             ],
             [
              0.8888888888888888,
              "#fdca26"
             ],
             [
              1,
              "#f0f921"
             ]
            ],
            "type": "heatmap"
           }
          ],
          "heatmapgl": [
           {
            "colorbar": {
             "outlinewidth": 0,
             "ticks": ""
            },
            "colorscale": [
             [
              0,
              "#0d0887"
             ],
             [
              0.1111111111111111,
              "#46039f"
             ],
             [
              0.2222222222222222,
              "#7201a8"
             ],
             [
              0.3333333333333333,
              "#9c179e"
             ],
             [
              0.4444444444444444,
              "#bd3786"
             ],
             [
              0.5555555555555556,
              "#d8576b"
             ],
             [
              0.6666666666666666,
              "#ed7953"
             ],
             [
              0.7777777777777778,
              "#fb9f3a"
             ],
             [
              0.8888888888888888,
              "#fdca26"
             ],
             [
              1,
              "#f0f921"
             ]
            ],
            "type": "heatmapgl"
           }
          ],
          "histogram": [
           {
            "marker": {
             "colorbar": {
              "outlinewidth": 0,
              "ticks": ""
             }
            },
            "type": "histogram"
           }
          ],
          "histogram2d": [
           {
            "colorbar": {
             "outlinewidth": 0,
             "ticks": ""
            },
            "colorscale": [
             [
              0,
              "#0d0887"
             ],
             [
              0.1111111111111111,
              "#46039f"
             ],
             [
              0.2222222222222222,
              "#7201a8"
             ],
             [
              0.3333333333333333,
              "#9c179e"
             ],
             [
              0.4444444444444444,
              "#bd3786"
             ],
             [
              0.5555555555555556,
              "#d8576b"
             ],
             [
              0.6666666666666666,
              "#ed7953"
             ],
             [
              0.7777777777777778,
              "#fb9f3a"
             ],
             [
              0.8888888888888888,
              "#fdca26"
             ],
             [
              1,
              "#f0f921"
             ]
            ],
            "type": "histogram2d"
           }
          ],
          "histogram2dcontour": [
           {
            "colorbar": {
             "outlinewidth": 0,
             "ticks": ""
            },
            "colorscale": [
             [
              0,
              "#0d0887"
             ],
             [
              0.1111111111111111,
              "#46039f"
             ],
             [
              0.2222222222222222,
              "#7201a8"
             ],
             [
              0.3333333333333333,
              "#9c179e"
             ],
             [
              0.4444444444444444,
              "#bd3786"
             ],
             [
              0.5555555555555556,
              "#d8576b"
             ],
             [
              0.6666666666666666,
              "#ed7953"
             ],
             [
              0.7777777777777778,
              "#fb9f3a"
             ],
             [
              0.8888888888888888,
              "#fdca26"
             ],
             [
              1,
              "#f0f921"
             ]
            ],
            "type": "histogram2dcontour"
           }
          ],
          "mesh3d": [
           {
            "colorbar": {
             "outlinewidth": 0,
             "ticks": ""
            },
            "type": "mesh3d"
           }
          ],
          "parcoords": [
           {
            "line": {
             "colorbar": {
              "outlinewidth": 0,
              "ticks": ""
             }
            },
            "type": "parcoords"
           }
          ],
          "pie": [
           {
            "automargin": true,
            "type": "pie"
           }
          ],
          "scatter": [
           {
            "marker": {
             "colorbar": {
              "outlinewidth": 0,
              "ticks": ""
             }
            },
            "type": "scatter"
           }
          ],
          "scatter3d": [
           {
            "line": {
             "colorbar": {
              "outlinewidth": 0,
              "ticks": ""
             }
            },
            "marker": {
             "colorbar": {
              "outlinewidth": 0,
              "ticks": ""
             }
            },
            "type": "scatter3d"
           }
          ],
          "scattercarpet": [
           {
            "marker": {
             "colorbar": {
              "outlinewidth": 0,
              "ticks": ""
             }
            },
            "type": "scattercarpet"
           }
          ],
          "scattergeo": [
           {
            "marker": {
             "colorbar": {
              "outlinewidth": 0,
              "ticks": ""
             }
            },
            "type": "scattergeo"
           }
          ],
          "scattergl": [
           {
            "marker": {
             "colorbar": {
              "outlinewidth": 0,
              "ticks": ""
             }
            },
            "type": "scattergl"
           }
          ],
          "scattermapbox": [
           {
            "marker": {
             "colorbar": {
              "outlinewidth": 0,
              "ticks": ""
             }
            },
            "type": "scattermapbox"
           }
          ],
          "scatterpolar": [
           {
            "marker": {
             "colorbar": {
              "outlinewidth": 0,
              "ticks": ""
             }
            },
            "type": "scatterpolar"
           }
          ],
          "scatterpolargl": [
           {
            "marker": {
             "colorbar": {
              "outlinewidth": 0,
              "ticks": ""
             }
            },
            "type": "scatterpolargl"
           }
          ],
          "scatterternary": [
           {
            "marker": {
             "colorbar": {
              "outlinewidth": 0,
              "ticks": ""
             }
            },
            "type": "scatterternary"
           }
          ],
          "surface": [
           {
            "colorbar": {
             "outlinewidth": 0,
             "ticks": ""
            },
            "colorscale": [
             [
              0,
              "#0d0887"
             ],
             [
              0.1111111111111111,
              "#46039f"
             ],
             [
              0.2222222222222222,
              "#7201a8"
             ],
             [
              0.3333333333333333,
              "#9c179e"
             ],
             [
              0.4444444444444444,
              "#bd3786"
             ],
             [
              0.5555555555555556,
              "#d8576b"
             ],
             [
              0.6666666666666666,
              "#ed7953"
             ],
             [
              0.7777777777777778,
              "#fb9f3a"
             ],
             [
              0.8888888888888888,
              "#fdca26"
             ],
             [
              1,
              "#f0f921"
             ]
            ],
            "type": "surface"
           }
          ],
          "table": [
           {
            "cells": {
             "fill": {
              "color": "#EBF0F8"
             },
             "line": {
              "color": "white"
             }
            },
            "header": {
             "fill": {
              "color": "#C8D4E3"
             },
             "line": {
              "color": "white"
             }
            },
            "type": "table"
           }
          ]
         },
         "layout": {
          "annotationdefaults": {
           "arrowcolor": "#2a3f5f",
           "arrowhead": 0,
           "arrowwidth": 1
          },
          "coloraxis": {
           "colorbar": {
            "outlinewidth": 0,
            "ticks": ""
           }
          },
          "colorscale": {
           "diverging": [
            [
             0,
             "#8e0152"
            ],
            [
             0.1,
             "#c51b7d"
            ],
            [
             0.2,
             "#de77ae"
            ],
            [
             0.3,
             "#f1b6da"
            ],
            [
             0.4,
             "#fde0ef"
            ],
            [
             0.5,
             "#f7f7f7"
            ],
            [
             0.6,
             "#e6f5d0"
            ],
            [
             0.7,
             "#b8e186"
            ],
            [
             0.8,
             "#7fbc41"
            ],
            [
             0.9,
             "#4d9221"
            ],
            [
             1,
             "#276419"
            ]
           ],
           "sequential": [
            [
             0,
             "#0d0887"
            ],
            [
             0.1111111111111111,
             "#46039f"
            ],
            [
             0.2222222222222222,
             "#7201a8"
            ],
            [
             0.3333333333333333,
             "#9c179e"
            ],
            [
             0.4444444444444444,
             "#bd3786"
            ],
            [
             0.5555555555555556,
             "#d8576b"
            ],
            [
             0.6666666666666666,
             "#ed7953"
            ],
            [
             0.7777777777777778,
             "#fb9f3a"
            ],
            [
             0.8888888888888888,
             "#fdca26"
            ],
            [
             1,
             "#f0f921"
            ]
           ],
           "sequentialminus": [
            [
             0,
             "#0d0887"
            ],
            [
             0.1111111111111111,
             "#46039f"
            ],
            [
             0.2222222222222222,
             "#7201a8"
            ],
            [
             0.3333333333333333,
             "#9c179e"
            ],
            [
             0.4444444444444444,
             "#bd3786"
            ],
            [
             0.5555555555555556,
             "#d8576b"
            ],
            [
             0.6666666666666666,
             "#ed7953"
            ],
            [
             0.7777777777777778,
             "#fb9f3a"
            ],
            [
             0.8888888888888888,
             "#fdca26"
            ],
            [
             1,
             "#f0f921"
            ]
           ]
          },
          "colorway": [
           "#636efa",
           "#EF553B",
           "#00cc96",
           "#ab63fa",
           "#FFA15A",
           "#19d3f3",
           "#FF6692",
           "#B6E880",
           "#FF97FF",
           "#FECB52"
          ],
          "font": {
           "color": "#2a3f5f"
          },
          "geo": {
           "bgcolor": "white",
           "lakecolor": "white",
           "landcolor": "#E5ECF6",
           "showlakes": true,
           "showland": true,
           "subunitcolor": "white"
          },
          "hoverlabel": {
           "align": "left"
          },
          "hovermode": "closest",
          "mapbox": {
           "style": "light"
          },
          "paper_bgcolor": "white",
          "plot_bgcolor": "#E5ECF6",
          "polar": {
           "angularaxis": {
            "gridcolor": "white",
            "linecolor": "white",
            "ticks": ""
           },
           "bgcolor": "#E5ECF6",
           "radialaxis": {
            "gridcolor": "white",
            "linecolor": "white",
            "ticks": ""
           }
          },
          "scene": {
           "xaxis": {
            "backgroundcolor": "#E5ECF6",
            "gridcolor": "white",
            "gridwidth": 2,
            "linecolor": "white",
            "showbackground": true,
            "ticks": "",
            "zerolinecolor": "white"
           },
           "yaxis": {
            "backgroundcolor": "#E5ECF6",
            "gridcolor": "white",
            "gridwidth": 2,
            "linecolor": "white",
            "showbackground": true,
            "ticks": "",
            "zerolinecolor": "white"
           },
           "zaxis": {
            "backgroundcolor": "#E5ECF6",
            "gridcolor": "white",
            "gridwidth": 2,
            "linecolor": "white",
            "showbackground": true,
            "ticks": "",
            "zerolinecolor": "white"
           }
          },
          "shapedefaults": {
           "line": {
            "color": "#2a3f5f"
           }
          },
          "ternary": {
           "aaxis": {
            "gridcolor": "white",
            "linecolor": "white",
            "ticks": ""
           },
           "baxis": {
            "gridcolor": "white",
            "linecolor": "white",
            "ticks": ""
           },
           "bgcolor": "#E5ECF6",
           "caxis": {
            "gridcolor": "white",
            "linecolor": "white",
            "ticks": ""
           }
          },
          "title": {
           "x": 0.05
          },
          "xaxis": {
           "automargin": true,
           "gridcolor": "white",
           "linecolor": "white",
           "ticks": "",
           "title": {
            "standoff": 15
           },
           "zerolinecolor": "white",
           "zerolinewidth": 2
          },
          "yaxis": {
           "automargin": true,
           "gridcolor": "white",
           "linecolor": "white",
           "ticks": "",
           "title": {
            "standoff": 15
           },
           "zerolinecolor": "white",
           "zerolinewidth": 2
          }
         }
        }
       }
      },
      "text/html": "<div>                            <div id=\"5b201453-133a-43a0-a2ff-facfa097e631\" class=\"plotly-graph-div\" style=\"height:525px; width:100%;\"></div>            <script type=\"text/javascript\">                require([\"plotly\"], function(Plotly) {                    window.PLOTLYENV=window.PLOTLYENV || {};                                    if (document.getElementById(\"5b201453-133a-43a0-a2ff-facfa097e631\")) {                    Plotly.newPlot(                        \"5b201453-133a-43a0-a2ff-facfa097e631\",                        [{\"customdata\": [[\"(hot air) balloon\"], [\"airplane\"], [\"bicycle\"], [\"boat\"], [\"bus\"], [\"car\"], [\"carriage\"], [\"cart\"], [\"go-cart\"], [\"helicopter\"], [\"hovercraft\"], [\"jeep\"], [\"kick scooter\"], [\"motorbike (moto)\"], [\"rocket\"], [\"scooter (bromfiets)\"], [\"scooter (brommer)\"], [\"skateboard\"], [\"sled\"], [\"submarine\"], [\"subway train\"], [\"taxi\"], [\"tractor\"], [\"trailer\"], [\"train\"], [\"tram\"], [\"truck (camion)\"], [\"truck (vrachtwagen)\"], [\"van\"], [\"zeppelin\"]], \"hovertemplate\": \"target=vehicle<br>x=%{x}<br>y=%{y}<br>z=%{z}<br>size=%{marker.size}<br>name=%{customdata[0]}<extra></extra>\", \"legendgroup\": \"vehicle\", \"marker\": {\"color\": \"#636efa\", \"size\": [1, 1, 1, 1, 1, 1, 1, 1, 1, 1, 1, 1, 1, 1, 1, 1, 1, 1, 1, 1, 1, 1, 1, 1, 1, 1, 1, 1, 1, 1], \"sizemode\": \"area\", \"sizeref\": 0.0044444444444444444, \"symbol\": \"circle\"}, \"mode\": \"markers\", \"name\": \"vehicle\", \"scene\": \"scene\", \"showlegend\": true, \"type\": \"scatter3d\", \"x\": [-1.7395918500390022, -9.552305508741993, -2.2316832686521915, -7.636790101925925, -9.256555051249318, -8.571383876918391, -2.537721430036867, -3.282340773195993, -4.048752079425214, -9.849836394127877, -8.72315490018078, -8.806767678447335, -2.341627472454024, -8.409204734777122, -8.717251771768584, -7.496967277443339, -7.397151820266701, -1.7483190433578641, -1.4904522373852018, -8.930439609281223, -7.956462196692274, -8.236188286236377, -9.476751868792551, -4.568325777688173, -8.533080539177762, -8.17997532260505, -9.913203006505015, -10.22102157822111, -9.198313426208905, -5.032896064884407], \"y\": [4.9993189491798065, 2.8441201314397295, -0.4908922377490528, 2.7542248859044607, 1.7976529017903609, 1.8556484686361925, 2.819983918152344, -0.8771920212850659, 2.2254945445655907, 3.522924280131213, 3.33797686059901, 2.8785437123411572, 1.069745828059534, 2.730661898686951, 3.041754719175155, 2.2594844562079452, 2.584807717588207, 1.9824970704217777, 1.1428072402801923, 1.964613650189345, 1.6082311217876368, 3.2239290632132933, 1.4153295673794337, 1.467452799778544, 1.8937697003394822, 1.66351110761454, 1.4206787866437467, 1.4367890878557297, 1.0650713612636336, 5.1437498299328155], \"z\": [7.502451722935623, 13.95700332620739, 5.713011322398518, 11.849556933927886, 13.874710081031843, 14.942485774405293, 5.988126252471318, 5.388197369057949, 6.853730042312769, 12.340628161316562, 11.64758894351959, 12.864859680853321, 3.3977297543211558, 12.422259268990155, 8.958618989404497, 11.5403315032315, 11.674182636310743, 4.239529550993264, 2.2258458476108753, 10.5911393059915, 10.386346720691831, 12.307224470315813, 11.542172543554932, 8.010192044012207, 11.828755619597601, 10.631313422815762, 14.320845800513908, 14.022075899570805, 12.195311599188251, 9.622756426226275]}, {\"customdata\": [[\"accordion\"], [\"bagpipe\"], [\"banjo\"], [\"bass guitar\"], [\"bassoon\"], [\"cello\"], [\"clarinet\"], [\"cymbals\"], [\"double bass\"], [\"drum\"], [\"drum set\"], [\"flute\"], [\"guitar\"], [\"harmonica\"], [\"harp\"], [\"harpsichord\"], [\"organ\"], [\"pan flute\"], [\"piano\"], [\"recorder\"], [\"saxophone\"], [\"synthesizer\"], [\"tambourine\"], [\"triangle\"], [\"trombone\"], [\"trumpet\"], [\"violin\"]], \"hovertemplate\": \"target=musical instrument<br>x=%{x}<br>y=%{y}<br>z=%{z}<br>size=%{marker.size}<br>name=%{customdata[0]}<extra></extra>\", \"legendgroup\": \"musical instrument\", \"marker\": {\"color\": \"#EF553B\", \"size\": [1, 1, 1, 1, 1, 1, 1, 1, 1, 1, 1, 1, 1, 1, 1, 1, 1, 1, 1, 1, 1, 1, 1, 1, 1, 1, 1], \"sizemode\": \"area\", \"sizeref\": 0.0044444444444444444, \"symbol\": \"circle\"}, \"mode\": \"markers\", \"name\": \"musical instrument\", \"scene\": \"scene\", \"showlegend\": true, \"type\": \"scatter3d\", \"x\": [0.915130810526721, 0.7180102593546608, -0.923996528300155, -0.9664862700221256, -1.514787373235648, -1.4363272751338068, -1.3828950063704817, -1.7555242991561273, -1.8086987859409092, 0.2653470908581106, -2.3108806570406615, -2.3270542461413886, -0.012087758056136932, -1.0587957829063042, -1.3642299615000366, -2.0800948391722365, -1.619462400419392, 0.23834194711585854, -1.6003603872788617, -0.1345468480509977, -2.388768270146938, -2.0095790668692906, 0.7232074675767088, -1.1237156712256806, -2.8947328359366, -2.7149227460756538, -1.0053327548696775], \"y\": [13.60925279525019, 14.663125449972018, 15.583889422662953, 15.590162685581017, 15.093633266464469, 17.161275547338565, 14.660459721669538, 10.840496520341336, 17.29770920043372, 12.62967012926508, 14.511798170735915, 14.139042914091007, 15.737891714384546, 12.64408040672379, 16.214844282516687, 14.913824313032302, 15.07928785763006, 13.300035993961275, 16.36802080662286, 13.108488198991049, 14.764902164184678, 14.19790044585844, 11.527633850226728, 9.390842444708344, 14.183976331673097, 14.148405294254449, 16.52453123265001], \"z\": [-5.112149235919784, -6.205424614409353, -7.181964158415459, -6.079510678440693, -7.454533701142283, -7.154110501389946, -7.4965424911133525, -7.549480211887433, -6.853051123220795, -5.642086487289194, -4.9072651749873994, -8.79872546993657, -6.159111519736223, -7.20812676026488, -6.940614443998184, -6.549174046420932, -4.518340830479267, -7.30022229202316, -4.587432957517341, -6.831027395921627, -7.582319386645825, -4.0805662602304515, -6.707102523632452, -7.866925862838986, -8.004616163537321, -7.870567952029351, -7.509739787657168]}, {\"customdata\": [[\"anvil\"], [\"axe\"], [\"chisel\"], [\"clamp\"], [\"crowbar (breekijzer)\"], [\"crowbar (koevoet)\"], [\"drill\"], [\"file\"], [\"filling knife\"], [\"grinding disc\"], [\"hammer\"], [\"lawn mower\"], [\"level\"], [\"nail\"], [\"oil can\"], [\"paint brush\"], [\"pickaxe\"], [\"plane\"], [\"plough\"], [\"rope\"], [\"saw\"], [\"screw wrench (engelse sleutel)\"], [\"screwdriver\"], [\"shovel\"], [\"tongs\"], [\"vacuum cleaner\"], [\"wheelbarrow\"], [\"wire brush\"], [\"wrench\"]], \"hovertemplate\": \"target=tool<br>x=%{x}<br>y=%{y}<br>z=%{z}<br>size=%{marker.size}<br>name=%{customdata[0]}<extra></extra>\", \"legendgroup\": \"tool\", \"marker\": {\"color\": \"#00cc96\", \"size\": [1, 1, 1, 1, 1, 1, 1, 1, 1, 1, 1, 1, 1, 1, 1, 1, 1, 1, 1, 1, 1, 1, 1, 1, 1, 1, 1, 1, 1], \"sizemode\": \"area\", \"sizeref\": 0.0044444444444444444, \"symbol\": \"circle\"}, \"mode\": \"markers\", \"name\": \"tool\", \"scene\": \"scene\", \"showlegend\": true, \"type\": \"scatter3d\", \"x\": [-5.52977185197176, -7.1346712762767535, -5.251261336137902, -4.393665314626147, -6.711321160185435, -6.2848378982941995, -7.591954296129302, -3.213870509921902, -4.661231472255239, -8.252049928717682, -5.794974421331121, -7.329449508082803, -2.613166524698199, -4.315472917869164, -2.774473822897557, 0.35776568989086754, -6.790085465712234, -5.039952687401749, -6.522735887038931, 0.9930703729531334, -6.762395198491884, -5.051532717245357, -4.459424428382916, -5.39041946089486, -4.943203776159285, -2.974394540070385, -5.421483923100365, -2.96928512371188, -4.76218312418521], \"y\": [-5.636319834542271, -7.830208011886062, -8.07241573787472, -6.83277804389327, -7.30223520072649, -7.63423357955661, -5.331656064471761, -8.31870422036587, -7.968397778833806, -4.961792295390561, -9.811775537974054, -3.0218284304638314, -7.058385346169496, -8.728912246224619, -5.475196381085231, -5.741451434804068, -8.184913526575006, -7.825823137219752, -5.864833568928326, -5.798987314560557, -9.448955101480953, -8.79859392043698, -9.512192550166505, -7.404592965864734, -8.904156655497257, -3.3495084710870273, -6.04472336097799, -6.4846767739605315, -8.856013545493443], \"z\": [-4.84047927192937, -3.783724792762026, -6.778700134090517, -5.390140797407012, -4.580999453680874, -4.920028679075395, -0.672548043625851, -8.097157127764197, -6.14975944616657, -1.577663956465586, -5.1431475889239895, 4.456850574345607, -6.2675300383338035, -6.1303302258048324, -4.262203887569106, -4.653893992850554, -5.000999223692531, -6.0041406786389135, -1.409348346152227, -3.8259755746143798, -5.647156847049898, -7.373330414987187, -7.01222007042944, -4.6481597832938615, -6.651412707432108, -0.19529868806497952, -1.5684582818225308, -5.514121766379075, -7.455292398670197]}, {\"customdata\": [[\"apron\"], [\"bottle\"], [\"bowl\"], [\"can opener\"], [\"colander\"], [\"electric kettle\"], [\"fork\"], [\"fridge\"], [\"glass\"], [\"grater\"], [\"kettle\"], [\"knife\"], [\"microwave oven\"], [\"mixer\"], [\"mug\"], [\"nutcracker\"], [\"oven\"], [\"pan\"], [\"percolator\"], [\"place mat\"], [\"plate\"], [\"pot\"], [\"scales\"], [\"scissors\"], [\"sieve\"], [\"spatula\"], [\"spoon\"], [\"stove\"], [\"teaspoon\"], [\"toaster\"], [\"towel\"], [\"whisk\"], [\"wok\"]], \"hovertemplate\": \"target=kitchen utensil<br>x=%{x}<br>y=%{y}<br>z=%{z}<br>size=%{marker.size}<br>name=%{customdata[0]}<extra></extra>\", \"legendgroup\": \"kitchen utensil\", \"marker\": {\"color\": \"#ab63fa\", \"size\": [1, 1, 1, 1, 1, 1, 1, 1, 1, 1, 1, 1, 1, 1, 1, 1, 1, 1, 1, 1, 1, 1, 1, 1, 1, 1, 1, 1, 1, 1, 1, 1, 1], \"sizemode\": \"area\", \"sizeref\": 0.0044444444444444444, \"symbol\": \"circle\"}, \"mode\": \"markers\", \"name\": \"kitchen utensil\", \"scene\": \"scene\", \"showlegend\": true, \"type\": \"scatter3d\", \"x\": [10.547796952145589, 0.641471849225945, 1.1816595546707078, -2.9022322915687777, -0.21343316761409917, -2.225732095894276, -0.4693423974472787, -3.2690158239586737, 0.9799103112889763, -2.968579015622986, -1.7290650308711912, -5.0173745041821345, -3.6951848332344595, -4.408127704212626, 3.6774628470951765, -2.22850370528386, -4.4402816412825175, -0.7422019439293606, -1.6308480236011835, 4.710616246341945, 2.1397330136124504, -0.6288271042352922, -0.3589705955045968, -3.4760878305204366, -0.7627845012253245, 0.8393166876822824, 0.9077614923709907, -4.154192147803233, 0.4826729834144497, -1.3275858815309831, 8.014517652846296, -1.1447489504044397, -0.8161987745674606], \"y\": [-4.540222250818369, -6.184688705218421, -7.117868994813703, -8.242795933383444, -7.99412377171264, -3.8434870612631933, -9.584074350519975, -3.8963999653161046, -6.2012875161499945, -7.674046752043234, -6.324442541776641, -12.247175125801292, -3.948596784314023, -6.12975179435575, -5.213110561747989, -7.749458503542411, -4.739995748199099, -7.900674919034184, -3.4645719616716826, -4.5836277516268975, -6.718322223662732, -7.780889452763914, -5.997964445655618, -10.599848958916578, -8.78628695388091, -7.133852090410889, -8.5706122141711, -6.0314113749993234, -7.180300407569229, -4.656788024064799, -5.556218583174201, -8.327481747343032, -7.136082589951473], \"z\": [-0.2768752756627459, -3.889892048607827, -4.678091879728345, -3.829277444592859, -4.913634188956804, -0.42714151222254104, -5.4690305880860315, 0.6091460722278268, -3.267926890257214, -4.867596306725217, -3.784462706222933, -5.740158616851714, 1.289360553814333, -0.2859134525086471, -2.756764668771303, -5.40957667838931, 0.7440429291269338, -4.2091779914900185, -0.2999320822636188, -2.0654740353605936, -4.1540116507955185, -4.402244099104815, -2.9931562546652457, -5.127255989826442, -6.101641535343797, -5.440560306200897, -6.236225587922414, -0.14866038214431, -5.845758686764174, -1.0765120308296918, -1.062915254017207, -6.055083924124848, -4.134601395905802]}, {\"customdata\": [[\"bathing suit\"], [\"beanie\"], [\"belt\"], [\"blouse\"], [\"boots\"], [\"bra\"], [\"cap\"], [\"coat\"], [\"dress\"], [\"dungarees\"], [\"hat\"], [\"jeans\"], [\"mittens\"], [\"panties\"], [\"pants\"], [\"pullover\"], [\"pyjamas\"], [\"scarf\"], [\"shirt\"], [\"shoes\"], [\"shorts\"], [\"skirt\"], [\"socks\"], [\"suit\"], [\"sweater\"], [\"t-shirt\"], [\"tie\"], [\"top\"], [\"tracksuit\"]], \"hovertemplate\": \"target=clothing<br>x=%{x}<br>y=%{y}<br>z=%{z}<br>size=%{marker.size}<br>name=%{customdata[0]}<extra></extra>\", \"legendgroup\": \"clothing\", \"marker\": {\"color\": \"#FFA15A\", \"size\": [1, 1, 1, 1, 1, 1, 1, 1, 1, 1, 1, 1, 1, 1, 1, 1, 1, 1, 1, 1, 1, 1, 1, 1, 1, 1, 1, 1, 1], \"sizemode\": \"area\", \"sizeref\": 0.0044444444444444444, \"symbol\": \"circle\"}, \"mode\": \"markers\", \"name\": \"clothing\", \"scene\": \"scene\", \"showlegend\": true, \"type\": \"scatter3d\", \"x\": [16.437953728772484, 16.13655744623987, 11.714663278803773, 19.324107837798177, 11.633118108573324, 17.106164349574183, 15.978783499161135, 18.56726314379189, 18.5612400724628, 15.959745328820063, 15.448468940890358, 17.262492162460408, 15.80055630122811, 18.770884238970776, 19.336024118048698, 19.59489066197432, 18.290602824549133, 17.63149143918813, 19.217446912677495, 13.32380830634785, 17.759207579381254, 18.56107533905142, 17.792020393333633, 16.044445245821564, 18.445254503396214, 19.000964819036028, 15.177817834826001, 17.822273326507343, 16.621744399804143], \"y\": [-0.992624696391955, -0.42845451067662677, -1.1744992836305446, -0.17219161521428328, -1.3460259237499246, -0.8541631418377099, -0.807581907136319, -0.7957665236402458, 0.8150787355627154, -0.31684125443598365, 0.8341894548723046, -0.3828286523497759, -0.7377688210519652, -1.6976243135028344, -1.4049976094520953, -1.1085031972651407, 0.21445542627192726, -0.7571711913842114, -0.2945495520686333, -0.8012508378327599, -0.3534260130450716, 0.05518984360357959, -1.7475871303534456, 0.9307646028316799, -0.244537946292251, -1.215512517869072, 0.42949770372112805, -0.2053688764177457, -0.4053166102611758], \"z\": [2.9489876408277285, 2.9253759561739336, 0.9534343900179376, 4.339871907852963, 1.5538308214255618, 3.857652961223671, 2.7433476927417337, 4.063760755298275, 3.746277267177245, 3.335780496197787, 2.830028075499719, 4.002191917815372, 2.1501796130993442, 3.255493470850406, 4.009661696719649, 3.874897114488268, 3.602455801228509, 3.1677817740058036, 4.1411572142795645, 2.8377633439998116, 3.7151793343884716, 3.722266391353613, 3.129238680504647, 3.8485392026203433, 4.109418876105678, 4.240405105909881, 2.9507316805845907, 3.577991152386683, 3.92353306725739]}, {\"customdata\": [[\"bazooka\"], [\"bow\"], [\"canon\"], [\"club\"], [\"dagger\"], [\"double-barreled shotgun\"], [\"grenade\"], [\"knuckle dusters\"], [\"machine gun\"], [\"pistol\"], [\"rifle\"], [\"shield\"], [\"slingshot\"], [\"spear\"], [\"stick\"], [\"sword\"], [\"tank\"], [\"whip\"]], \"hovertemplate\": \"target=weapon<br>x=%{x}<br>y=%{y}<br>z=%{z}<br>size=%{marker.size}<br>name=%{customdata[0]}<extra></extra>\", \"legendgroup\": \"weapon\", \"marker\": {\"color\": \"#19d3f3\", \"size\": [1, 1, 1, 1, 1, 1, 1, 1, 1, 1, 1, 1, 1, 1, 1, 1, 1, 1], \"sizemode\": \"area\", \"sizeref\": 0.0044444444444444444, \"symbol\": \"circle\"}, \"mode\": \"markers\", \"name\": \"weapon\", \"scene\": \"scene\", \"showlegend\": true, \"type\": \"scatter3d\", \"x\": [-9.32326848727768, -3.568550161276348, -8.920687635439219, -3.753857242215841, -5.029748571011742, -7.9654369663763696, -6.568373007047692, -3.540306842563156, -8.516169538412612, -7.672718277126324, -8.390703173852124, -1.6813321951191327, -2.977310439047418, -2.983043797273959, -1.322911110616459, -6.131010619686581, -10.519359856712303, -2.7236902025856438], \"y\": [1.3880581782808972, 0.47387908828974373, 0.5285401368540374, -2.2366130544305887, -3.602922636202419, 0.5318595009400205, 0.26504071826410036, -1.9320437870001257, 0.6198583692399594, -0.4175992831905724, 0.22917260780379023, -1.7402310978388247, 0.06674394102869552, -1.7789863470236629, -1.2888645129919345, -2.582963017262752, 2.3675475742782917, -0.3322094850054783], \"z\": [3.4565785551751356, 0.20619380488328742, 3.8624880706918683, -1.454020930981617, -1.5294457457197739, 1.230890399704488, 2.1465215739068997, -1.8545727044941862, 2.612078641983783, 2.1846770622280367, 2.5027267837225198, -2.2980089449259857, 0.9086248845663962, -0.8687324586823155, -2.2874803070985616, -0.8761666010232095, 9.932323441542586, -0.7157823577023563]}],                        {\"legend\": {\"itemsizing\": \"constant\", \"title\": {\"text\": \"target\"}, \"tracegroupgap\": 0}, \"margin\": {\"t\": 60}, \"scene\": {\"domain\": {\"x\": [0.0, 1.0], \"y\": [0.0, 1.0]}, \"xaxis\": {\"title\": {\"text\": \"x\"}}, \"yaxis\": {\"title\": {\"text\": \"y\"}}, \"zaxis\": {\"title\": {\"text\": \"z\"}}}, \"template\": {\"data\": {\"bar\": [{\"error_x\": {\"color\": \"#2a3f5f\"}, \"error_y\": {\"color\": \"#2a3f5f\"}, \"marker\": {\"line\": {\"color\": \"#E5ECF6\", \"width\": 0.5}}, \"type\": \"bar\"}], \"barpolar\": [{\"marker\": {\"line\": {\"color\": \"#E5ECF6\", \"width\": 0.5}}, \"type\": \"barpolar\"}], \"carpet\": [{\"aaxis\": {\"endlinecolor\": \"#2a3f5f\", \"gridcolor\": \"white\", \"linecolor\": \"white\", \"minorgridcolor\": \"white\", \"startlinecolor\": \"#2a3f5f\"}, \"baxis\": {\"endlinecolor\": \"#2a3f5f\", \"gridcolor\": \"white\", \"linecolor\": \"white\", \"minorgridcolor\": \"white\", \"startlinecolor\": \"#2a3f5f\"}, \"type\": \"carpet\"}], \"choropleth\": [{\"colorbar\": {\"outlinewidth\": 0, \"ticks\": \"\"}, \"type\": \"choropleth\"}], \"contour\": [{\"colorbar\": {\"outlinewidth\": 0, \"ticks\": \"\"}, \"colorscale\": [[0.0, \"#0d0887\"], [0.1111111111111111, \"#46039f\"], [0.2222222222222222, \"#7201a8\"], [0.3333333333333333, \"#9c179e\"], [0.4444444444444444, \"#bd3786\"], [0.5555555555555556, \"#d8576b\"], [0.6666666666666666, \"#ed7953\"], [0.7777777777777778, \"#fb9f3a\"], [0.8888888888888888, \"#fdca26\"], [1.0, \"#f0f921\"]], \"type\": \"contour\"}], \"contourcarpet\": [{\"colorbar\": {\"outlinewidth\": 0, \"ticks\": \"\"}, \"type\": \"contourcarpet\"}], \"heatmap\": [{\"colorbar\": {\"outlinewidth\": 0, \"ticks\": \"\"}, \"colorscale\": [[0.0, \"#0d0887\"], [0.1111111111111111, \"#46039f\"], [0.2222222222222222, \"#7201a8\"], [0.3333333333333333, \"#9c179e\"], [0.4444444444444444, \"#bd3786\"], [0.5555555555555556, \"#d8576b\"], [0.6666666666666666, \"#ed7953\"], [0.7777777777777778, \"#fb9f3a\"], [0.8888888888888888, \"#fdca26\"], [1.0, \"#f0f921\"]], \"type\": \"heatmap\"}], \"heatmapgl\": [{\"colorbar\": {\"outlinewidth\": 0, \"ticks\": \"\"}, \"colorscale\": [[0.0, \"#0d0887\"], [0.1111111111111111, \"#46039f\"], [0.2222222222222222, \"#7201a8\"], [0.3333333333333333, \"#9c179e\"], [0.4444444444444444, \"#bd3786\"], [0.5555555555555556, \"#d8576b\"], [0.6666666666666666, \"#ed7953\"], [0.7777777777777778, \"#fb9f3a\"], [0.8888888888888888, \"#fdca26\"], [1.0, \"#f0f921\"]], \"type\": \"heatmapgl\"}], \"histogram\": [{\"marker\": {\"colorbar\": {\"outlinewidth\": 0, \"ticks\": \"\"}}, \"type\": \"histogram\"}], \"histogram2d\": [{\"colorbar\": {\"outlinewidth\": 0, \"ticks\": \"\"}, \"colorscale\": [[0.0, \"#0d0887\"], [0.1111111111111111, \"#46039f\"], [0.2222222222222222, \"#7201a8\"], [0.3333333333333333, \"#9c179e\"], [0.4444444444444444, \"#bd3786\"], [0.5555555555555556, \"#d8576b\"], [0.6666666666666666, \"#ed7953\"], [0.7777777777777778, \"#fb9f3a\"], [0.8888888888888888, \"#fdca26\"], [1.0, \"#f0f921\"]], \"type\": \"histogram2d\"}], \"histogram2dcontour\": [{\"colorbar\": {\"outlinewidth\": 0, \"ticks\": \"\"}, \"colorscale\": [[0.0, \"#0d0887\"], [0.1111111111111111, \"#46039f\"], [0.2222222222222222, \"#7201a8\"], [0.3333333333333333, \"#9c179e\"], [0.4444444444444444, \"#bd3786\"], [0.5555555555555556, \"#d8576b\"], [0.6666666666666666, \"#ed7953\"], [0.7777777777777778, \"#fb9f3a\"], [0.8888888888888888, \"#fdca26\"], [1.0, \"#f0f921\"]], \"type\": \"histogram2dcontour\"}], \"mesh3d\": [{\"colorbar\": {\"outlinewidth\": 0, \"ticks\": \"\"}, \"type\": \"mesh3d\"}], \"parcoords\": [{\"line\": {\"colorbar\": {\"outlinewidth\": 0, \"ticks\": \"\"}}, \"type\": \"parcoords\"}], \"pie\": [{\"automargin\": true, \"type\": \"pie\"}], \"scatter\": [{\"marker\": {\"colorbar\": {\"outlinewidth\": 0, \"ticks\": \"\"}}, \"type\": \"scatter\"}], \"scatter3d\": [{\"line\": {\"colorbar\": {\"outlinewidth\": 0, \"ticks\": \"\"}}, \"marker\": {\"colorbar\": {\"outlinewidth\": 0, \"ticks\": \"\"}}, \"type\": \"scatter3d\"}], \"scattercarpet\": [{\"marker\": {\"colorbar\": {\"outlinewidth\": 0, \"ticks\": \"\"}}, \"type\": \"scattercarpet\"}], \"scattergeo\": [{\"marker\": {\"colorbar\": {\"outlinewidth\": 0, \"ticks\": \"\"}}, \"type\": \"scattergeo\"}], \"scattergl\": [{\"marker\": {\"colorbar\": {\"outlinewidth\": 0, \"ticks\": \"\"}}, \"type\": \"scattergl\"}], \"scattermapbox\": [{\"marker\": {\"colorbar\": {\"outlinewidth\": 0, \"ticks\": \"\"}}, \"type\": \"scattermapbox\"}], \"scatterpolar\": [{\"marker\": {\"colorbar\": {\"outlinewidth\": 0, \"ticks\": \"\"}}, \"type\": \"scatterpolar\"}], \"scatterpolargl\": [{\"marker\": {\"colorbar\": {\"outlinewidth\": 0, \"ticks\": \"\"}}, \"type\": \"scatterpolargl\"}], \"scatterternary\": [{\"marker\": {\"colorbar\": {\"outlinewidth\": 0, \"ticks\": \"\"}}, \"type\": \"scatterternary\"}], \"surface\": [{\"colorbar\": {\"outlinewidth\": 0, \"ticks\": \"\"}, \"colorscale\": [[0.0, \"#0d0887\"], [0.1111111111111111, \"#46039f\"], [0.2222222222222222, \"#7201a8\"], [0.3333333333333333, \"#9c179e\"], [0.4444444444444444, \"#bd3786\"], [0.5555555555555556, \"#d8576b\"], [0.6666666666666666, \"#ed7953\"], [0.7777777777777778, \"#fb9f3a\"], [0.8888888888888888, \"#fdca26\"], [1.0, \"#f0f921\"]], \"type\": \"surface\"}], \"table\": [{\"cells\": {\"fill\": {\"color\": \"#EBF0F8\"}, \"line\": {\"color\": \"white\"}}, \"header\": {\"fill\": {\"color\": \"#C8D4E3\"}, \"line\": {\"color\": \"white\"}}, \"type\": \"table\"}]}, \"layout\": {\"annotationdefaults\": {\"arrowcolor\": \"#2a3f5f\", \"arrowhead\": 0, \"arrowwidth\": 1}, \"coloraxis\": {\"colorbar\": {\"outlinewidth\": 0, \"ticks\": \"\"}}, \"colorscale\": {\"diverging\": [[0, \"#8e0152\"], [0.1, \"#c51b7d\"], [0.2, \"#de77ae\"], [0.3, \"#f1b6da\"], [0.4, \"#fde0ef\"], [0.5, \"#f7f7f7\"], [0.6, \"#e6f5d0\"], [0.7, \"#b8e186\"], [0.8, \"#7fbc41\"], [0.9, \"#4d9221\"], [1, \"#276419\"]], \"sequential\": [[0.0, \"#0d0887\"], [0.1111111111111111, \"#46039f\"], [0.2222222222222222, \"#7201a8\"], [0.3333333333333333, \"#9c179e\"], [0.4444444444444444, \"#bd3786\"], [0.5555555555555556, \"#d8576b\"], [0.6666666666666666, \"#ed7953\"], [0.7777777777777778, \"#fb9f3a\"], [0.8888888888888888, \"#fdca26\"], [1.0, \"#f0f921\"]], \"sequentialminus\": [[0.0, \"#0d0887\"], [0.1111111111111111, \"#46039f\"], [0.2222222222222222, \"#7201a8\"], [0.3333333333333333, \"#9c179e\"], [0.4444444444444444, \"#bd3786\"], [0.5555555555555556, \"#d8576b\"], [0.6666666666666666, \"#ed7953\"], [0.7777777777777778, \"#fb9f3a\"], [0.8888888888888888, \"#fdca26\"], [1.0, \"#f0f921\"]]}, \"colorway\": [\"#636efa\", \"#EF553B\", \"#00cc96\", \"#ab63fa\", \"#FFA15A\", \"#19d3f3\", \"#FF6692\", \"#B6E880\", \"#FF97FF\", \"#FECB52\"], \"font\": {\"color\": \"#2a3f5f\"}, \"geo\": {\"bgcolor\": \"white\", \"lakecolor\": \"white\", \"landcolor\": \"#E5ECF6\", \"showlakes\": true, \"showland\": true, \"subunitcolor\": \"white\"}, \"hoverlabel\": {\"align\": \"left\"}, \"hovermode\": \"closest\", \"mapbox\": {\"style\": \"light\"}, \"paper_bgcolor\": \"white\", \"plot_bgcolor\": \"#E5ECF6\", \"polar\": {\"angularaxis\": {\"gridcolor\": \"white\", \"linecolor\": \"white\", \"ticks\": \"\"}, \"bgcolor\": \"#E5ECF6\", \"radialaxis\": {\"gridcolor\": \"white\", \"linecolor\": \"white\", \"ticks\": \"\"}}, \"scene\": {\"xaxis\": {\"backgroundcolor\": \"#E5ECF6\", \"gridcolor\": \"white\", \"gridwidth\": 2, \"linecolor\": \"white\", \"showbackground\": true, \"ticks\": \"\", \"zerolinecolor\": \"white\"}, \"yaxis\": {\"backgroundcolor\": \"#E5ECF6\", \"gridcolor\": \"white\", \"gridwidth\": 2, \"linecolor\": \"white\", \"showbackground\": true, \"ticks\": \"\", \"zerolinecolor\": \"white\"}, \"zaxis\": {\"backgroundcolor\": \"#E5ECF6\", \"gridcolor\": \"white\", \"gridwidth\": 2, \"linecolor\": \"white\", \"showbackground\": true, \"ticks\": \"\", \"zerolinecolor\": \"white\"}}, \"shapedefaults\": {\"line\": {\"color\": \"#2a3f5f\"}}, \"ternary\": {\"aaxis\": {\"gridcolor\": \"white\", \"linecolor\": \"white\", \"ticks\": \"\"}, \"baxis\": {\"gridcolor\": \"white\", \"linecolor\": \"white\", \"ticks\": \"\"}, \"bgcolor\": \"#E5ECF6\", \"caxis\": {\"gridcolor\": \"white\", \"linecolor\": \"white\", \"ticks\": \"\"}}, \"title\": {\"x\": 0.05}, \"xaxis\": {\"automargin\": true, \"gridcolor\": \"white\", \"linecolor\": \"white\", \"ticks\": \"\", \"title\": {\"standoff\": 15}, \"zerolinecolor\": \"white\", \"zerolinewidth\": 2}, \"yaxis\": {\"automargin\": true, \"gridcolor\": \"white\", \"linecolor\": \"white\", \"ticks\": \"\", \"title\": {\"standoff\": 15}, \"zerolinecolor\": \"white\", \"zerolinewidth\": 2}}}},                        {\"responsive\": true}                    ).then(function(){\n                            \nvar gd = document.getElementById('5b201453-133a-43a0-a2ff-facfa097e631');\nvar x = new MutationObserver(function (mutations, observer) {{\n        var display = window.getComputedStyle(gd).display;\n        if (!display || display === 'none') {{\n            console.log([gd, 'removed!']);\n            Plotly.purge(gd);\n            observer.disconnect();\n        }}\n}});\n\n// Listen for the removal of the full notebook cells\nvar notebookContainer = gd.closest('#notebook-container');\nif (notebookContainer) {{\n    x.observe(notebookContainer, {childList: true});\n}}\n\n// Listen for the clearing of the current output cell\nvar outputEl = gd.closest('.output');\nif (outputEl) {{\n    x.observe(outputEl, {childList: true});\n}}\n\n                        })                };                });            </script>        </div>"
     },
     "metadata": {}
    }
   ],
   "source": [
    "transformed_df = pd.DataFrame(transformed_train_X, columns=['x','y','z'])\n",
    "transformed_df['clusters'] = kmeans.labels_\n",
    "transformed_df['target'] = train_y.values\n",
    "transformed_df['name'] = df.index\n",
    "transformed_df['size'] = [1 for i in range(transformed_df.shape[0])]\n",
    "fig = px.scatter_3d(transformed_df, x='x', y='y', z='z',\n",
    "              color='target', hover_data=['name'],size='size', size_max=15)\n",
    "fig.show()        "
   ]
  }
 ]
}