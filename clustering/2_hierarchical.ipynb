{
 "metadata": {
  "language_info": {
   "codemirror_mode": {
    "name": "ipython",
    "version": 3
   },
   "file_extension": ".py",
   "mimetype": "text/x-python",
   "name": "python",
   "nbconvert_exporter": "python",
   "pygments_lexer": "ipython3",
   "version": "3.8.9"
  },
  "orig_nbformat": 2,
  "kernelspec": {
   "name": "python3",
   "display_name": "Python 3.8.9 64-bit ('fcapy': virtualenvwrapper)"
  },
  "interpreter": {
   "hash": "082a18f759f8afdec9b7eec773590a36e4c3be1cd97bea91855dea5176a8175a"
  }
 },
 "nbformat": 4,
 "nbformat_minor": 2,
 "cells": [
  {
   "cell_type": "code",
   "execution_count": 1,
   "metadata": {},
   "outputs": [
    {
     "output_type": "display_data",
     "data": {
      "text/html": "        <script type=\"text/javascript\">\n        window.PlotlyConfig = {MathJaxConfig: 'local'};\n        if (window.MathJax) {MathJax.Hub.Config({SVG: {font: \"STIX-Web\"}});}\n        if (typeof require !== 'undefined') {\n        require.undef(\"plotly\");\n        requirejs.config({\n            paths: {\n                'plotly': ['https://cdn.plot.ly/plotly-latest.min']\n            }\n        });\n        require(['plotly'], function(Plotly) {\n            window._Plotly = Plotly;\n        });\n        }\n        </script>\n        "
     },
     "metadata": {}
    }
   ],
   "source": [
    "from datasets import dutch_data\n",
    "\n",
    "from scipy.cluster.hierarchy import linkage\n",
    "\n",
    "import plotly.figure_factory as ff\n",
    "from plotly.offline import init_notebook_mode\n",
    "init_notebook_mode(connected=True)"
   ]
  },
  {
   "cell_type": "code",
   "execution_count": 2,
   "metadata": {},
   "outputs": [],
   "source": [
    "df = dutch_data()"
   ]
  },
  {
   "cell_type": "code",
   "execution_count": 3,
   "metadata": {},
   "outputs": [],
   "source": [
    "train_X = df.drop('target', axis=1)\n",
    "train_y = df['target']"
   ]
  },
  {
   "source": [
    "## Complete linkage"
   ],
   "cell_type": "markdown",
   "metadata": {}
  },
  {
   "cell_type": "code",
   "execution_count": 248,
   "metadata": {},
   "outputs": [
    {
     "output_type": "display_data",
     "data": {
      "application/vnd.plotly.v1+json": {
       "config": {
        "plotlyServerURL": "https://plot.ly"
       },
       "data": [
        {
         "hoverinfo": "text",
         "marker": {
          "color": "rgb(61,153,112)"
         },
         "mode": "lines",
         "type": "scatter",
         "x": [
          0,
          10.908712114635714,
          10.908712114635714,
          0
         ],
         "xaxis": "x",
         "y": [
          -5,
          -5,
          -15,
          -15
         ],
         "yaxis": "y"
        },
        {
         "hoverinfo": "text",
         "marker": {
          "color": "rgb(61,153,112)"
         },
         "mode": "lines",
         "type": "scatter",
         "x": [
          0,
          8.306623862918075,
          8.306623862918075,
          0
         ],
         "xaxis": "x",
         "y": [
          -35,
          -35,
          -45,
          -45
         ],
         "yaxis": "y"
        },
        {
         "hoverinfo": "text",
         "marker": {
          "color": "rgb(61,153,112)"
         },
         "mode": "lines",
         "type": "scatter",
         "x": [
          0,
          10,
          10,
          0
         ],
         "xaxis": "x",
         "y": [
          -55,
          -55,
          -65,
          -65
         ],
         "yaxis": "y"
        },
        {
         "hoverinfo": "text",
         "marker": {
          "color": "rgb(61,153,112)"
         },
         "mode": "lines",
         "type": "scatter",
         "x": [
          8.306623862918075,
          11.269427669584644,
          11.269427669584644,
          10
         ],
         "xaxis": "x",
         "y": [
          -40,
          -40,
          -60,
          -60
         ],
         "yaxis": "y"
        },
        {
         "hoverinfo": "text",
         "marker": {
          "color": "rgb(61,153,112)"
         },
         "mode": "lines",
         "type": "scatter",
         "x": [
          0,
          12.609520212918492,
          12.609520212918492,
          11.269427669584644
         ],
         "xaxis": "x",
         "y": [
          -25,
          -25,
          -50,
          -50
         ],
         "yaxis": "y"
        },
        {
         "hoverinfo": "text",
         "marker": {
          "color": "rgb(61,153,112)"
         },
         "mode": "lines",
         "type": "scatter",
         "x": [
          0,
          8.774964387392123,
          8.774964387392123,
          0
         ],
         "xaxis": "x",
         "y": [
          -75,
          -75,
          -85,
          -85
         ],
         "yaxis": "y"
        },
        {
         "hoverinfo": "text",
         "marker": {
          "color": "rgb(61,153,112)"
         },
         "mode": "lines",
         "type": "scatter",
         "x": [
          0,
          9,
          9,
          0
         ],
         "xaxis": "x",
         "y": [
          -95,
          -95,
          -105,
          -105
         ],
         "yaxis": "y"
        },
        {
         "hoverinfo": "text",
         "marker": {
          "color": "rgb(61,153,112)"
         },
         "mode": "lines",
         "type": "scatter",
         "x": [
          8.774964387392123,
          10.392304845413264,
          10.392304845413264,
          9
         ],
         "xaxis": "x",
         "y": [
          -80,
          -80,
          -100,
          -100
         ],
         "yaxis": "y"
        },
        {
         "hoverinfo": "text",
         "marker": {
          "color": "rgb(61,153,112)"
         },
         "mode": "lines",
         "type": "scatter",
         "x": [
          0,
          8.246211251235321,
          8.246211251235321,
          0
         ],
         "xaxis": "x",
         "y": [
          -135,
          -135,
          -145,
          -145
         ],
         "yaxis": "y"
        },
        {
         "hoverinfo": "text",
         "marker": {
          "color": "rgb(61,153,112)"
         },
         "mode": "lines",
         "type": "scatter",
         "x": [
          0,
          9.327379053088816,
          9.327379053088816,
          8.246211251235321
         ],
         "xaxis": "x",
         "y": [
          -125,
          -125,
          -140,
          -140
         ],
         "yaxis": "y"
        },
        {
         "hoverinfo": "text",
         "marker": {
          "color": "rgb(61,153,112)"
         },
         "mode": "lines",
         "type": "scatter",
         "x": [
          0,
          5.477225575051661,
          5.477225575051661,
          0
         ],
         "xaxis": "x",
         "y": [
          -185,
          -185,
          -195,
          -195
         ],
         "yaxis": "y"
        },
        {
         "hoverinfo": "text",
         "marker": {
          "color": "rgb(61,153,112)"
         },
         "mode": "lines",
         "type": "scatter",
         "x": [
          0,
          7.280109889280518,
          7.280109889280518,
          5.477225575051661
         ],
         "xaxis": "x",
         "y": [
          -175,
          -175,
          -190,
          -190
         ],
         "yaxis": "y"
        },
        {
         "hoverinfo": "text",
         "marker": {
          "color": "rgb(61,153,112)"
         },
         "mode": "lines",
         "type": "scatter",
         "x": [
          0,
          7.874007874011811,
          7.874007874011811,
          7.280109889280518
         ],
         "xaxis": "x",
         "y": [
          -165,
          -165,
          -182.5,
          -182.5
         ],
         "yaxis": "y"
        },
        {
         "hoverinfo": "text",
         "marker": {
          "color": "rgb(61,153,112)"
         },
         "mode": "lines",
         "type": "scatter",
         "x": [
          0,
          9.9498743710662,
          9.9498743710662,
          7.874007874011811
         ],
         "xaxis": "x",
         "y": [
          -155,
          -155,
          -173.75,
          -173.75
         ],
         "yaxis": "y"
        },
        {
         "hoverinfo": "text",
         "marker": {
          "color": "rgb(61,153,112)"
         },
         "mode": "lines",
         "type": "scatter",
         "x": [
          9.327379053088816,
          11,
          11,
          9.9498743710662
         ],
         "xaxis": "x",
         "y": [
          -132.5,
          -132.5,
          -164.375,
          -164.375
         ],
         "yaxis": "y"
        },
        {
         "hoverinfo": "text",
         "marker": {
          "color": "rgb(61,153,112)"
         },
         "mode": "lines",
         "type": "scatter",
         "x": [
          0,
          11.916375287812984,
          11.916375287812984,
          11
         ],
         "xaxis": "x",
         "y": [
          -115,
          -115,
          -148.4375,
          -148.4375
         ],
         "yaxis": "y"
        },
        {
         "hoverinfo": "text",
         "marker": {
          "color": "rgb(61,153,112)"
         },
         "mode": "lines",
         "type": "scatter",
         "x": [
          10.392304845413264,
          13.674794331177344,
          13.674794331177344,
          11.916375287812984
         ],
         "xaxis": "x",
         "y": [
          -90,
          -90,
          -131.71875,
          -131.71875
         ],
         "yaxis": "y"
        },
        {
         "hoverinfo": "text",
         "marker": {
          "color": "rgb(61,153,112)"
         },
         "mode": "lines",
         "type": "scatter",
         "x": [
          0,
          6.4031242374328485,
          6.4031242374328485,
          0
         ],
         "xaxis": "x",
         "y": [
          -215,
          -215,
          -225,
          -225
         ],
         "yaxis": "y"
        },
        {
         "hoverinfo": "text",
         "marker": {
          "color": "rgb(61,153,112)"
         },
         "mode": "lines",
         "type": "scatter",
         "x": [
          0,
          12.083045973594572,
          12.083045973594572,
          0
         ],
         "xaxis": "x",
         "y": [
          -235,
          -235,
          -245,
          -245
         ],
         "yaxis": "y"
        },
        {
         "hoverinfo": "text",
         "marker": {
          "color": "rgb(61,153,112)"
         },
         "mode": "lines",
         "type": "scatter",
         "x": [
          6.4031242374328485,
          13.564659966250536,
          13.564659966250536,
          12.083045973594572
         ],
         "xaxis": "x",
         "y": [
          -220,
          -220,
          -240,
          -240
         ],
         "yaxis": "y"
        },
        {
         "hoverinfo": "text",
         "marker": {
          "color": "rgb(61,153,112)"
         },
         "mode": "lines",
         "type": "scatter",
         "x": [
          0,
          15.811388300841896,
          15.811388300841896,
          13.564659966250536
         ],
         "xaxis": "x",
         "y": [
          -205,
          -205,
          -230,
          -230
         ],
         "yaxis": "y"
        },
        {
         "hoverinfo": "text",
         "marker": {
          "color": "rgb(61,153,112)"
         },
         "mode": "lines",
         "type": "scatter",
         "x": [
          13.674794331177344,
          16.73320053068151,
          16.73320053068151,
          15.811388300841896
         ],
         "xaxis": "x",
         "y": [
          -110.859375,
          -110.859375,
          -217.5,
          -217.5
         ],
         "yaxis": "y"
        },
        {
         "hoverinfo": "text",
         "marker": {
          "color": "rgb(61,153,112)"
         },
         "mode": "lines",
         "type": "scatter",
         "x": [
          12.609520212918492,
          17.175564037317667,
          17.175564037317667,
          16.73320053068151
         ],
         "xaxis": "x",
         "y": [
          -37.5,
          -37.5,
          -164.1796875,
          -164.1796875
         ],
         "yaxis": "y"
        },
        {
         "hoverinfo": "text",
         "marker": {
          "color": "rgb(61,153,112)"
         },
         "mode": "lines",
         "type": "scatter",
         "x": [
          10.908712114635714,
          18.49324200890693,
          18.49324200890693,
          17.175564037317667
         ],
         "xaxis": "x",
         "y": [
          -10,
          -10,
          -100.83984375,
          -100.83984375
         ],
         "yaxis": "y"
        },
        {
         "hoverinfo": "text",
         "marker": {
          "color": "rgb(61,153,112)"
         },
         "mode": "lines",
         "type": "scatter",
         "x": [
          0,
          10.44030650891055,
          10.44030650891055,
          0
         ],
         "xaxis": "x",
         "y": [
          -255,
          -255,
          -265,
          -265
         ],
         "yaxis": "y"
        },
        {
         "hoverinfo": "text",
         "marker": {
          "color": "rgb(61,153,112)"
         },
         "mode": "lines",
         "type": "scatter",
         "x": [
          0,
          12,
          12,
          0
         ],
         "xaxis": "x",
         "y": [
          -275,
          -275,
          -285,
          -285
         ],
         "yaxis": "y"
        },
        {
         "hoverinfo": "text",
         "marker": {
          "color": "rgb(61,153,112)"
         },
         "mode": "lines",
         "type": "scatter",
         "x": [
          0,
          9.695359714832659,
          9.695359714832659,
          0
         ],
         "xaxis": "x",
         "y": [
          -315,
          -315,
          -325,
          -325
         ],
         "yaxis": "y"
        },
        {
         "hoverinfo": "text",
         "marker": {
          "color": "rgb(61,153,112)"
         },
         "mode": "lines",
         "type": "scatter",
         "x": [
          0,
          11.40175425099138,
          11.40175425099138,
          9.695359714832659
         ],
         "xaxis": "x",
         "y": [
          -305,
          -305,
          -320,
          -320
         ],
         "yaxis": "y"
        },
        {
         "hoverinfo": "text",
         "marker": {
          "color": "rgb(61,153,112)"
         },
         "mode": "lines",
         "type": "scatter",
         "x": [
          0,
          12.529964086141668,
          12.529964086141668,
          11.40175425099138
         ],
         "xaxis": "x",
         "y": [
          -295,
          -295,
          -312.5,
          -312.5
         ],
         "yaxis": "y"
        },
        {
         "hoverinfo": "text",
         "marker": {
          "color": "rgb(61,153,112)"
         },
         "mode": "lines",
         "type": "scatter",
         "x": [
          12,
          14.832396974191326,
          14.832396974191326,
          12.529964086141668
         ],
         "xaxis": "x",
         "y": [
          -280,
          -280,
          -303.75,
          -303.75
         ],
         "yaxis": "y"
        },
        {
         "hoverinfo": "text",
         "marker": {
          "color": "rgb(61,153,112)"
         },
         "mode": "lines",
         "type": "scatter",
         "x": [
          0,
          15.198684153570664,
          15.198684153570664,
          0
         ],
         "xaxis": "x",
         "y": [
          -335,
          -335,
          -345,
          -345
         ],
         "yaxis": "y"
        },
        {
         "hoverinfo": "text",
         "marker": {
          "color": "rgb(61,153,112)"
         },
         "mode": "lines",
         "type": "scatter",
         "x": [
          14.832396974191326,
          17.320508075688775,
          17.320508075688775,
          15.198684153570664
         ],
         "xaxis": "x",
         "y": [
          -291.875,
          -291.875,
          -340,
          -340
         ],
         "yaxis": "y"
        },
        {
         "hoverinfo": "text",
         "marker": {
          "color": "rgb(61,153,112)"
         },
         "mode": "lines",
         "type": "scatter",
         "x": [
          10.44030650891055,
          20.024984394500787,
          20.024984394500787,
          17.320508075688775
         ],
         "xaxis": "x",
         "y": [
          -260,
          -260,
          -315.9375,
          -315.9375
         ],
         "yaxis": "y"
        },
        {
         "hoverinfo": "text",
         "marker": {
          "color": "rgb(61,153,112)"
         },
         "mode": "lines",
         "type": "scatter",
         "x": [
          18.49324200890693,
          24.392621835300936,
          24.392621835300936,
          20.024984394500787
         ],
         "xaxis": "x",
         "y": [
          -55.419921875,
          -55.419921875,
          -287.96875,
          -287.96875
         ],
         "yaxis": "y"
        },
        {
         "hoverinfo": "text",
         "marker": {
          "color": "rgb(255,65,54)"
         },
         "mode": "lines",
         "type": "scatter",
         "x": [
          0,
          10.535653752852738,
          10.535653752852738,
          0
         ],
         "xaxis": "x",
         "y": [
          -355,
          -355,
          -365,
          -365
         ],
         "yaxis": "y"
        },
        {
         "hoverinfo": "text",
         "marker": {
          "color": "rgb(255,65,54)"
         },
         "mode": "lines",
         "type": "scatter",
         "x": [
          0,
          14.966629547095765,
          14.966629547095765,
          0
         ],
         "xaxis": "x",
         "y": [
          -375,
          -375,
          -385,
          -385
         ],
         "yaxis": "y"
        },
        {
         "hoverinfo": "text",
         "marker": {
          "color": "rgb(255,65,54)"
         },
         "mode": "lines",
         "type": "scatter",
         "x": [
          10.535653752852738,
          16.06237840420901,
          16.06237840420901,
          14.966629547095765
         ],
         "xaxis": "x",
         "y": [
          -360,
          -360,
          -380,
          -380
         ],
         "yaxis": "y"
        },
        {
         "hoverinfo": "text",
         "marker": {
          "color": "rgb(255,65,54)"
         },
         "mode": "lines",
         "type": "scatter",
         "x": [
          0,
          8.426149773176359,
          8.426149773176359,
          0
         ],
         "xaxis": "x",
         "y": [
          -425,
          -425,
          -435,
          -435
         ],
         "yaxis": "y"
        },
        {
         "hoverinfo": "text",
         "marker": {
          "color": "rgb(255,65,54)"
         },
         "mode": "lines",
         "type": "scatter",
         "x": [
          0,
          9.38083151964686,
          9.38083151964686,
          8.426149773176359
         ],
         "xaxis": "x",
         "y": [
          -415,
          -415,
          -430,
          -430
         ],
         "yaxis": "y"
        },
        {
         "hoverinfo": "text",
         "marker": {
          "color": "rgb(255,65,54)"
         },
         "mode": "lines",
         "type": "scatter",
         "x": [
          0,
          10.954451150103322,
          10.954451150103322,
          9.38083151964686
         ],
         "xaxis": "x",
         "y": [
          -405,
          -405,
          -422.5,
          -422.5
         ],
         "yaxis": "y"
        },
        {
         "hoverinfo": "text",
         "marker": {
          "color": "rgb(255,65,54)"
         },
         "mode": "lines",
         "type": "scatter",
         "x": [
          0,
          12.806248474865697,
          12.806248474865697,
          10.954451150103322
         ],
         "xaxis": "x",
         "y": [
          -395,
          -395,
          -413.75,
          -413.75
         ],
         "yaxis": "y"
        },
        {
         "hoverinfo": "text",
         "marker": {
          "color": "rgb(255,65,54)"
         },
         "mode": "lines",
         "type": "scatter",
         "x": [
          0,
          8.18535277187245,
          8.18535277187245,
          0
         ],
         "xaxis": "x",
         "y": [
          -455,
          -455,
          -465,
          -465
         ],
         "yaxis": "y"
        },
        {
         "hoverinfo": "text",
         "marker": {
          "color": "rgb(255,65,54)"
         },
         "mode": "lines",
         "type": "scatter",
         "x": [
          0,
          14.866068747318506,
          14.866068747318506,
          8.18535277187245
         ],
         "xaxis": "x",
         "y": [
          -445,
          -445,
          -460,
          -460
         ],
         "yaxis": "y"
        },
        {
         "hoverinfo": "text",
         "marker": {
          "color": "rgb(255,65,54)"
         },
         "mode": "lines",
         "type": "scatter",
         "x": [
          12.806248474865697,
          16.24807680927192,
          16.24807680927192,
          14.866068747318506
         ],
         "xaxis": "x",
         "y": [
          -404.375,
          -404.375,
          -452.5,
          -452.5
         ],
         "yaxis": "y"
        },
        {
         "hoverinfo": "text",
         "marker": {
          "color": "rgb(255,65,54)"
         },
         "mode": "lines",
         "type": "scatter",
         "x": [
          16.06237840420901,
          21.95449840010015,
          21.95449840010015,
          16.24807680927192
         ],
         "xaxis": "x",
         "y": [
          -370,
          -370,
          -428.4375,
          -428.4375
         ],
         "yaxis": "y"
        },
        {
         "hoverinfo": "text",
         "marker": {
          "color": "rgb(35,205,205)"
         },
         "mode": "lines",
         "type": "scatter",
         "x": [
          0,
          7.280109889280518,
          7.280109889280518,
          0
         ],
         "xaxis": "x",
         "y": [
          -495,
          -495,
          -505,
          -505
         ],
         "yaxis": "y"
        },
        {
         "hoverinfo": "text",
         "marker": {
          "color": "rgb(35,205,205)"
         },
         "mode": "lines",
         "type": "scatter",
         "x": [
          0,
          9.16515138991168,
          9.16515138991168,
          7.280109889280518
         ],
         "xaxis": "x",
         "y": [
          -485,
          -485,
          -500,
          -500
         ],
         "yaxis": "y"
        },
        {
         "hoverinfo": "text",
         "marker": {
          "color": "rgb(35,205,205)"
         },
         "mode": "lines",
         "type": "scatter",
         "x": [
          0,
          10.04987562112089,
          10.04987562112089,
          0
         ],
         "xaxis": "x",
         "y": [
          -525,
          -525,
          -535,
          -535
         ],
         "yaxis": "y"
        },
        {
         "hoverinfo": "text",
         "marker": {
          "color": "rgb(35,205,205)"
         },
         "mode": "lines",
         "type": "scatter",
         "x": [
          0,
          11.489125293076057,
          11.489125293076057,
          10.04987562112089
         ],
         "xaxis": "x",
         "y": [
          -515,
          -515,
          -530,
          -530
         ],
         "yaxis": "y"
        },
        {
         "hoverinfo": "text",
         "marker": {
          "color": "rgb(35,205,205)"
         },
         "mode": "lines",
         "type": "scatter",
         "x": [
          0,
          12,
          12,
          0
         ],
         "xaxis": "x",
         "y": [
          -545,
          -545,
          -555,
          -555
         ],
         "yaxis": "y"
        },
        {
         "hoverinfo": "text",
         "marker": {
          "color": "rgb(35,205,205)"
         },
         "mode": "lines",
         "type": "scatter",
         "x": [
          11.489125293076057,
          14.560219778561036,
          14.560219778561036,
          12
         ],
         "xaxis": "x",
         "y": [
          -522.5,
          -522.5,
          -550,
          -550
         ],
         "yaxis": "y"
        },
        {
         "hoverinfo": "text",
         "marker": {
          "color": "rgb(35,205,205)"
         },
         "mode": "lines",
         "type": "scatter",
         "x": [
          9.16515138991168,
          16.34013463836819,
          16.34013463836819,
          14.560219778561036
         ],
         "xaxis": "x",
         "y": [
          -492.5,
          -492.5,
          -536.25,
          -536.25
         ],
         "yaxis": "y"
        },
        {
         "hoverinfo": "text",
         "marker": {
          "color": "rgb(35,205,205)"
         },
         "mode": "lines",
         "type": "scatter",
         "x": [
          0,
          6.708203932499369,
          6.708203932499369,
          0
         ],
         "xaxis": "x",
         "y": [
          -565,
          -565,
          -575,
          -575
         ],
         "yaxis": "y"
        },
        {
         "hoverinfo": "text",
         "marker": {
          "color": "rgb(35,205,205)"
         },
         "mode": "lines",
         "type": "scatter",
         "x": [
          0,
          9.848857801796104,
          9.848857801796104,
          0
         ],
         "xaxis": "x",
         "y": [
          -585,
          -585,
          -595,
          -595
         ],
         "yaxis": "y"
        },
        {
         "hoverinfo": "text",
         "marker": {
          "color": "rgb(35,205,205)"
         },
         "mode": "lines",
         "type": "scatter",
         "x": [
          6.708203932499369,
          11.61895003862225,
          11.61895003862225,
          9.848857801796104
         ],
         "xaxis": "x",
         "y": [
          -570,
          -570,
          -590,
          -590
         ],
         "yaxis": "y"
        },
        {
         "hoverinfo": "text",
         "marker": {
          "color": "rgb(35,205,205)"
         },
         "mode": "lines",
         "type": "scatter",
         "x": [
          0,
          5.656854249492381,
          5.656854249492381,
          0
         ],
         "xaxis": "x",
         "y": [
          -635,
          -635,
          -645,
          -645
         ],
         "yaxis": "y"
        },
        {
         "hoverinfo": "text",
         "marker": {
          "color": "rgb(35,205,205)"
         },
         "mode": "lines",
         "type": "scatter",
         "x": [
          0,
          9,
          9,
          5.656854249492381
         ],
         "xaxis": "x",
         "y": [
          -625,
          -625,
          -640,
          -640
         ],
         "yaxis": "y"
        },
        {
         "hoverinfo": "text",
         "marker": {
          "color": "rgb(35,205,205)"
         },
         "mode": "lines",
         "type": "scatter",
         "x": [
          0,
          9.797958971132712,
          9.797958971132712,
          9
         ],
         "xaxis": "x",
         "y": [
          -615,
          -615,
          -632.5,
          -632.5
         ],
         "yaxis": "y"
        },
        {
         "hoverinfo": "text",
         "marker": {
          "color": "rgb(35,205,205)"
         },
         "mode": "lines",
         "type": "scatter",
         "x": [
          0,
          13.341664064126334,
          13.341664064126334,
          9.797958971132712
         ],
         "xaxis": "x",
         "y": [
          -605,
          -605,
          -623.75,
          -623.75
         ],
         "yaxis": "y"
        },
        {
         "hoverinfo": "text",
         "marker": {
          "color": "rgb(35,205,205)"
         },
         "mode": "lines",
         "type": "scatter",
         "x": [
          0,
          10.583005244258363,
          10.583005244258363,
          0
         ],
         "xaxis": "x",
         "y": [
          -655,
          -655,
          -665,
          -665
         ],
         "yaxis": "y"
        },
        {
         "hoverinfo": "text",
         "marker": {
          "color": "rgb(35,205,205)"
         },
         "mode": "lines",
         "type": "scatter",
         "x": [
          0,
          8.12403840463596,
          8.12403840463596,
          0
         ],
         "xaxis": "x",
         "y": [
          -685,
          -685,
          -695,
          -695
         ],
         "yaxis": "y"
        },
        {
         "hoverinfo": "text",
         "marker": {
          "color": "rgb(35,205,205)"
         },
         "mode": "lines",
         "type": "scatter",
         "x": [
          0,
          11,
          11,
          8.12403840463596
         ],
         "xaxis": "x",
         "y": [
          -675,
          -675,
          -690,
          -690
         ],
         "yaxis": "y"
        },
        {
         "hoverinfo": "text",
         "marker": {
          "color": "rgb(35,205,205)"
         },
         "mode": "lines",
         "type": "scatter",
         "x": [
          10.583005244258363,
          14.142135623730951,
          14.142135623730951,
          11
         ],
         "xaxis": "x",
         "y": [
          -660,
          -660,
          -682.5,
          -682.5
         ],
         "yaxis": "y"
        },
        {
         "hoverinfo": "text",
         "marker": {
          "color": "rgb(35,205,205)"
         },
         "mode": "lines",
         "type": "scatter",
         "x": [
          13.341664064126334,
          15.7797338380595,
          15.7797338380595,
          14.142135623730951
         ],
         "xaxis": "x",
         "y": [
          -614.375,
          -614.375,
          -671.25,
          -671.25
         ],
         "yaxis": "y"
        },
        {
         "hoverinfo": "text",
         "marker": {
          "color": "rgb(35,205,205)"
         },
         "mode": "lines",
         "type": "scatter",
         "x": [
          11.61895003862225,
          16.97056274847714,
          16.97056274847714,
          15.7797338380595
         ],
         "xaxis": "x",
         "y": [
          -580,
          -580,
          -642.8125,
          -642.8125
         ],
         "yaxis": "y"
        },
        {
         "hoverinfo": "text",
         "marker": {
          "color": "rgb(35,205,205)"
         },
         "mode": "lines",
         "type": "scatter",
         "x": [
          16.34013463836819,
          19.131126469708992,
          19.131126469708992,
          16.97056274847714
         ],
         "xaxis": "x",
         "y": [
          -514.375,
          -514.375,
          -611.40625,
          -611.40625
         ],
         "yaxis": "y"
        },
        {
         "hoverinfo": "text",
         "marker": {
          "color": "rgb(35,205,205)"
         },
         "mode": "lines",
         "type": "scatter",
         "x": [
          0,
          23.49468024894146,
          23.49468024894146,
          19.131126469708992
         ],
         "xaxis": "x",
         "y": [
          -475,
          -475,
          -562.890625,
          -562.890625
         ],
         "yaxis": "y"
        },
        {
         "hoverinfo": "text",
         "marker": {
          "color": "rgb(0,116,217)"
         },
         "mode": "lines",
         "type": "scatter",
         "x": [
          21.95449840010015,
          25.96150997149434,
          25.96150997149434,
          23.49468024894146
         ],
         "xaxis": "x",
         "y": [
          -399.21875,
          -399.21875,
          -518.9453125,
          -518.9453125
         ],
         "yaxis": "y"
        },
        {
         "hoverinfo": "text",
         "marker": {
          "color": "rgb(0,116,217)"
         },
         "mode": "lines",
         "type": "scatter",
         "x": [
          24.392621835300936,
          26.419689627245813,
          26.419689627245813,
          25.96150997149434
         ],
         "xaxis": "x",
         "y": [
          -171.6943359375,
          -171.6943359375,
          -459.08203125,
          -459.08203125
         ],
         "yaxis": "y"
        },
        {
         "hoverinfo": "text",
         "marker": {
          "color": "rgb(133,20,75)"
         },
         "mode": "lines",
         "type": "scatter",
         "x": [
          0,
          8.06225774829855,
          8.06225774829855,
          0
         ],
         "xaxis": "x",
         "y": [
          -705,
          -705,
          -715,
          -715
         ],
         "yaxis": "y"
        },
        {
         "hoverinfo": "text",
         "marker": {
          "color": "rgb(133,20,75)"
         },
         "mode": "lines",
         "type": "scatter",
         "x": [
          0,
          7.14142842854285,
          7.14142842854285,
          0
         ],
         "xaxis": "x",
         "y": [
          -735,
          -735,
          -745,
          -745
         ],
         "yaxis": "y"
        },
        {
         "hoverinfo": "text",
         "marker": {
          "color": "rgb(133,20,75)"
         },
         "mode": "lines",
         "type": "scatter",
         "x": [
          0,
          9.486832980505138,
          9.486832980505138,
          7.14142842854285
         ],
         "xaxis": "x",
         "y": [
          -725,
          -725,
          -740,
          -740
         ],
         "yaxis": "y"
        },
        {
         "hoverinfo": "text",
         "marker": {
          "color": "rgb(133,20,75)"
         },
         "mode": "lines",
         "type": "scatter",
         "x": [
          8.06225774829855,
          11.532562594670797,
          11.532562594670797,
          9.486832980505138
         ],
         "xaxis": "x",
         "y": [
          -710,
          -710,
          -732.5,
          -732.5
         ],
         "yaxis": "y"
        },
        {
         "hoverinfo": "text",
         "marker": {
          "color": "rgb(133,20,75)"
         },
         "mode": "lines",
         "type": "scatter",
         "x": [
          0,
          12.922847983320086,
          12.922847983320086,
          0
         ],
         "xaxis": "x",
         "y": [
          -755,
          -755,
          -765,
          -765
         ],
         "yaxis": "y"
        },
        {
         "hoverinfo": "text",
         "marker": {
          "color": "rgb(133,20,75)"
         },
         "mode": "lines",
         "type": "scatter",
         "x": [
          11.532562594670797,
          14.491376746189438,
          14.491376746189438,
          12.922847983320086
         ],
         "xaxis": "x",
         "y": [
          -721.25,
          -721.25,
          -760,
          -760
         ],
         "yaxis": "y"
        },
        {
         "hoverinfo": "text",
         "marker": {
          "color": "rgb(133,20,75)"
         },
         "mode": "lines",
         "type": "scatter",
         "x": [
          0,
          16.46207763315433,
          16.46207763315433,
          0
         ],
         "xaxis": "x",
         "y": [
          -775,
          -775,
          -785,
          -785
         ],
         "yaxis": "y"
        },
        {
         "hoverinfo": "text",
         "marker": {
          "color": "rgb(133,20,75)"
         },
         "mode": "lines",
         "type": "scatter",
         "x": [
          14.491376746189438,
          21.748563170931547,
          21.748563170931547,
          16.46207763315433
         ],
         "xaxis": "x",
         "y": [
          -740.625,
          -740.625,
          -780,
          -780
         ],
         "yaxis": "y"
        },
        {
         "hoverinfo": "text",
         "marker": {
          "color": "rgb(255,220,0)"
         },
         "mode": "lines",
         "type": "scatter",
         "x": [
          0,
          5.656854249492381,
          5.656854249492381,
          0
         ],
         "xaxis": "x",
         "y": [
          -805,
          -805,
          -815,
          -815
         ],
         "yaxis": "y"
        },
        {
         "hoverinfo": "text",
         "marker": {
          "color": "rgb(255,220,0)"
         },
         "mode": "lines",
         "type": "scatter",
         "x": [
          0,
          10.295630140987,
          10.295630140987,
          5.656854249492381
         ],
         "xaxis": "x",
         "y": [
          -795,
          -795,
          -810,
          -810
         ],
         "yaxis": "y"
        },
        {
         "hoverinfo": "text",
         "marker": {
          "color": "rgb(255,220,0)"
         },
         "mode": "lines",
         "type": "scatter",
         "x": [
          0,
          11.489125293076057,
          11.489125293076057,
          0
         ],
         "xaxis": "x",
         "y": [
          -825,
          -825,
          -835,
          -835
         ],
         "yaxis": "y"
        },
        {
         "hoverinfo": "text",
         "marker": {
          "color": "rgb(255,220,0)"
         },
         "mode": "lines",
         "type": "scatter",
         "x": [
          10.295630140987,
          13.076696830622021,
          13.076696830622021,
          11.489125293076057
         ],
         "xaxis": "x",
         "y": [
          -802.5,
          -802.5,
          -830,
          -830
         ],
         "yaxis": "y"
        },
        {
         "hoverinfo": "text",
         "marker": {
          "color": "rgb(255,220,0)"
         },
         "mode": "lines",
         "type": "scatter",
         "x": [
          0,
          14.106735979665885,
          14.106735979665885,
          0
         ],
         "xaxis": "x",
         "y": [
          -845,
          -845,
          -855,
          -855
         ],
         "yaxis": "y"
        },
        {
         "hoverinfo": "text",
         "marker": {
          "color": "rgb(255,220,0)"
         },
         "mode": "lines",
         "type": "scatter",
         "x": [
          13.076696830622021,
          14.560219778561036,
          14.560219778561036,
          14.106735979665885
         ],
         "xaxis": "x",
         "y": [
          -816.25,
          -816.25,
          -850,
          -850
         ],
         "yaxis": "y"
        },
        {
         "hoverinfo": "text",
         "marker": {
          "color": "rgb(255,220,0)"
         },
         "mode": "lines",
         "type": "scatter",
         "x": [
          0,
          4.898979485566356,
          4.898979485566356,
          0
         ],
         "xaxis": "x",
         "y": [
          -895,
          -895,
          -905,
          -905
         ],
         "yaxis": "y"
        },
        {
         "hoverinfo": "text",
         "marker": {
          "color": "rgb(255,220,0)"
         },
         "mode": "lines",
         "type": "scatter",
         "x": [
          0,
          7.615773105863909,
          7.615773105863909,
          4.898979485566356
         ],
         "xaxis": "x",
         "y": [
          -885,
          -885,
          -900,
          -900
         ],
         "yaxis": "y"
        },
        {
         "hoverinfo": "text",
         "marker": {
          "color": "rgb(255,220,0)"
         },
         "mode": "lines",
         "type": "scatter",
         "x": [
          0,
          9.695359714832659,
          9.695359714832659,
          7.615773105863909
         ],
         "xaxis": "x",
         "y": [
          -875,
          -875,
          -892.5,
          -892.5
         ],
         "yaxis": "y"
        },
        {
         "hoverinfo": "text",
         "marker": {
          "color": "rgb(255,220,0)"
         },
         "mode": "lines",
         "type": "scatter",
         "x": [
          0,
          12.922847983320086,
          12.922847983320086,
          9.695359714832659
         ],
         "xaxis": "x",
         "y": [
          -865,
          -865,
          -883.75,
          -883.75
         ],
         "yaxis": "y"
        },
        {
         "hoverinfo": "text",
         "marker": {
          "color": "rgb(255,220,0)"
         },
         "mode": "lines",
         "type": "scatter",
         "x": [
          0,
          6,
          6,
          0
         ],
         "xaxis": "x",
         "y": [
          -925,
          -925,
          -935,
          -935
         ],
         "yaxis": "y"
        },
        {
         "hoverinfo": "text",
         "marker": {
          "color": "rgb(255,220,0)"
         },
         "mode": "lines",
         "type": "scatter",
         "x": [
          0,
          8,
          8,
          6
         ],
         "xaxis": "x",
         "y": [
          -915,
          -915,
          -930,
          -930
         ],
         "yaxis": "y"
        },
        {
         "hoverinfo": "text",
         "marker": {
          "color": "rgb(255,220,0)"
         },
         "mode": "lines",
         "type": "scatter",
         "x": [
          0,
          7.280109889280518,
          7.280109889280518,
          0
         ],
         "xaxis": "x",
         "y": [
          -965,
          -965,
          -975,
          -975
         ],
         "yaxis": "y"
        },
        {
         "hoverinfo": "text",
         "marker": {
          "color": "rgb(255,220,0)"
         },
         "mode": "lines",
         "type": "scatter",
         "x": [
          0,
          10.816653826391969,
          10.816653826391969,
          7.280109889280518
         ],
         "xaxis": "x",
         "y": [
          -955,
          -955,
          -970,
          -970
         ],
         "yaxis": "y"
        },
        {
         "hoverinfo": "text",
         "marker": {
          "color": "rgb(255,220,0)"
         },
         "mode": "lines",
         "type": "scatter",
         "x": [
          0,
          12.96148139681572,
          12.96148139681572,
          10.816653826391969
         ],
         "xaxis": "x",
         "y": [
          -945,
          -945,
          -962.5,
          -962.5
         ],
         "yaxis": "y"
        },
        {
         "hoverinfo": "text",
         "marker": {
          "color": "rgb(255,220,0)"
         },
         "mode": "lines",
         "type": "scatter",
         "x": [
          8,
          13.527749258468683,
          13.527749258468683,
          12.96148139681572
         ],
         "xaxis": "x",
         "y": [
          -922.5,
          -922.5,
          -953.75,
          -953.75
         ],
         "yaxis": "y"
        },
        {
         "hoverinfo": "text",
         "marker": {
          "color": "rgb(255,220,0)"
         },
         "mode": "lines",
         "type": "scatter",
         "x": [
          12.922847983320086,
          15.7797338380595,
          15.7797338380595,
          13.527749258468683
         ],
         "xaxis": "x",
         "y": [
          -874.375,
          -874.375,
          -938.125,
          -938.125
         ],
         "yaxis": "y"
        },
        {
         "hoverinfo": "text",
         "marker": {
          "color": "rgb(255,220,0)"
         },
         "mode": "lines",
         "type": "scatter",
         "x": [
          14.560219778561036,
          18.138357147217054,
          18.138357147217054,
          15.7797338380595
         ],
         "xaxis": "x",
         "y": [
          -833.125,
          -833.125,
          -906.25,
          -906.25
         ],
         "yaxis": "y"
        },
        {
         "hoverinfo": "text",
         "marker": {
          "color": "rgb(40,35,35)"
         },
         "mode": "lines",
         "type": "scatter",
         "x": [
          0,
          11.313708498984761,
          11.313708498984761,
          0
         ],
         "xaxis": "x",
         "y": [
          -985,
          -985,
          -995,
          -995
         ],
         "yaxis": "y"
        },
        {
         "hoverinfo": "text",
         "marker": {
          "color": "rgb(40,35,35)"
         },
         "mode": "lines",
         "type": "scatter",
         "x": [
          0,
          9.695359714832659,
          9.695359714832659,
          0
         ],
         "xaxis": "x",
         "y": [
          -1025,
          -1025,
          -1035,
          -1035
         ],
         "yaxis": "y"
        },
        {
         "hoverinfo": "text",
         "marker": {
          "color": "rgb(40,35,35)"
         },
         "mode": "lines",
         "type": "scatter",
         "x": [
          0,
          11.958260743101398,
          11.958260743101398,
          9.695359714832659
         ],
         "xaxis": "x",
         "y": [
          -1015,
          -1015,
          -1030,
          -1030
         ],
         "yaxis": "y"
        },
        {
         "hoverinfo": "text",
         "marker": {
          "color": "rgb(40,35,35)"
         },
         "mode": "lines",
         "type": "scatter",
         "x": [
          0,
          9.797958971132712,
          9.797958971132712,
          0
         ],
         "xaxis": "x",
         "y": [
          -1065,
          -1065,
          -1075,
          -1075
         ],
         "yaxis": "y"
        },
        {
         "hoverinfo": "text",
         "marker": {
          "color": "rgb(40,35,35)"
         },
         "mode": "lines",
         "type": "scatter",
         "x": [
          0,
          12.727922061357855,
          12.727922061357855,
          9.797958971132712
         ],
         "xaxis": "x",
         "y": [
          -1055,
          -1055,
          -1070,
          -1070
         ],
         "yaxis": "y"
        },
        {
         "hoverinfo": "text",
         "marker": {
          "color": "rgb(40,35,35)"
         },
         "mode": "lines",
         "type": "scatter",
         "x": [
          0,
          14.89966442575134,
          14.89966442575134,
          12.727922061357855
         ],
         "xaxis": "x",
         "y": [
          -1045,
          -1045,
          -1062.5,
          -1062.5
         ],
         "yaxis": "y"
        },
        {
         "hoverinfo": "text",
         "marker": {
          "color": "rgb(40,35,35)"
         },
         "mode": "lines",
         "type": "scatter",
         "x": [
          11.958260743101398,
          16.186414056238647,
          16.186414056238647,
          14.89966442575134
         ],
         "xaxis": "x",
         "y": [
          -1022.5,
          -1022.5,
          -1053.75,
          -1053.75
         ],
         "yaxis": "y"
        },
        {
         "hoverinfo": "text",
         "marker": {
          "color": "rgb(40,35,35)"
         },
         "mode": "lines",
         "type": "scatter",
         "x": [
          0,
          17.26267650163207,
          17.26267650163207,
          16.186414056238647
         ],
         "xaxis": "x",
         "y": [
          -1005,
          -1005,
          -1038.125,
          -1038.125
         ],
         "yaxis": "y"
        },
        {
         "hoverinfo": "text",
         "marker": {
          "color": "rgb(40,35,35)"
         },
         "mode": "lines",
         "type": "scatter",
         "x": [
          11.313708498984761,
          21.118712081942874,
          21.118712081942874,
          17.26267650163207
         ],
         "xaxis": "x",
         "y": [
          -990,
          -990,
          -1021.5625,
          -1021.5625
         ],
         "yaxis": "y"
        },
        {
         "hoverinfo": "text",
         "marker": {
          "color": "rgb(0,116,217)"
         },
         "mode": "lines",
         "type": "scatter",
         "x": [
          18.138357147217054,
          24.859605789312106,
          24.859605789312106,
          21.118712081942874
         ],
         "xaxis": "x",
         "y": [
          -869.6875,
          -869.6875,
          -1005.78125,
          -1005.78125
         ],
         "yaxis": "y"
        },
        {
         "hoverinfo": "text",
         "marker": {
          "color": "rgb(0,116,217)"
         },
         "mode": "lines",
         "type": "scatter",
         "x": [
          21.748563170931547,
          29.257477676655586,
          29.257477676655586,
          24.859605789312106
         ],
         "xaxis": "x",
         "y": [
          -760.3125,
          -760.3125,
          -937.734375,
          -937.734375
         ],
         "yaxis": "y"
        },
        {
         "hoverinfo": "text",
         "marker": {
          "color": "rgb(0,116,217)"
         },
         "mode": "lines",
         "type": "scatter",
         "x": [
          26.419689627245813,
          31.240998703626616,
          31.240998703626616,
          29.257477676655586
         ],
         "xaxis": "x",
         "y": [
          -315.38818359375,
          -315.38818359375,
          -849.0234375,
          -849.0234375
         ],
         "yaxis": "y"
        },
        {
         "hoverinfo": "text",
         "marker": {
          "color": "rgb(61,153,112)"
         },
         "mode": "lines",
         "type": "scatter",
         "x": [
          0,
          7.874007874011811,
          7.874007874011811,
          0
         ],
         "xaxis": "x",
         "y": [
          -1085,
          -1085,
          -1095,
          -1095
         ],
         "yaxis": "y"
        },
        {
         "hoverinfo": "text",
         "marker": {
          "color": "rgb(61,153,112)"
         },
         "mode": "lines",
         "type": "scatter",
         "x": [
          0,
          4.358898943540674,
          4.358898943540674,
          0
         ],
         "xaxis": "x",
         "y": [
          -1105,
          -1105,
          -1115,
          -1115
         ],
         "yaxis": "y"
        },
        {
         "hoverinfo": "text",
         "marker": {
          "color": "rgb(61,153,112)"
         },
         "mode": "lines",
         "type": "scatter",
         "x": [
          0,
          3.4641016151377544,
          3.4641016151377544,
          0
         ],
         "xaxis": "x",
         "y": [
          -1145,
          -1145,
          -1155,
          -1155
         ],
         "yaxis": "y"
        },
        {
         "hoverinfo": "text",
         "marker": {
          "color": "rgb(61,153,112)"
         },
         "mode": "lines",
         "type": "scatter",
         "x": [
          0,
          6.6332495807108,
          6.6332495807108,
          3.4641016151377544
         ],
         "xaxis": "x",
         "y": [
          -1135,
          -1135,
          -1150,
          -1150
         ],
         "yaxis": "y"
        },
        {
         "hoverinfo": "text",
         "marker": {
          "color": "rgb(61,153,112)"
         },
         "mode": "lines",
         "type": "scatter",
         "x": [
          0,
          9,
          9,
          6.6332495807108
         ],
         "xaxis": "x",
         "y": [
          -1125,
          -1125,
          -1142.5,
          -1142.5
         ],
         "yaxis": "y"
        },
        {
         "hoverinfo": "text",
         "marker": {
          "color": "rgb(61,153,112)"
         },
         "mode": "lines",
         "type": "scatter",
         "x": [
          4.358898943540674,
          10.198039027185569,
          10.198039027185569,
          9
         ],
         "xaxis": "x",
         "y": [
          -1110,
          -1110,
          -1133.75,
          -1133.75
         ],
         "yaxis": "y"
        },
        {
         "hoverinfo": "text",
         "marker": {
          "color": "rgb(61,153,112)"
         },
         "mode": "lines",
         "type": "scatter",
         "x": [
          7.874007874011811,
          15.297058540778355,
          15.297058540778355,
          10.198039027185569
         ],
         "xaxis": "x",
         "y": [
          -1090,
          -1090,
          -1121.875,
          -1121.875
         ],
         "yaxis": "y"
        },
        {
         "hoverinfo": "text",
         "marker": {
          "color": "rgb(61,153,112)"
         },
         "mode": "lines",
         "type": "scatter",
         "x": [
          0,
          8,
          8,
          0
         ],
         "xaxis": "x",
         "y": [
          -1175,
          -1175,
          -1185,
          -1185
         ],
         "yaxis": "y"
        },
        {
         "hoverinfo": "text",
         "marker": {
          "color": "rgb(61,153,112)"
         },
         "mode": "lines",
         "type": "scatter",
         "x": [
          0,
          8.831760866327848,
          8.831760866327848,
          8
         ],
         "xaxis": "x",
         "y": [
          -1165,
          -1165,
          -1180,
          -1180
         ],
         "yaxis": "y"
        },
        {
         "hoverinfo": "text",
         "marker": {
          "color": "rgb(61,153,112)"
         },
         "mode": "lines",
         "type": "scatter",
         "x": [
          0,
          5.5677643628300215,
          5.5677643628300215,
          0
         ],
         "xaxis": "x",
         "y": [
          -1195,
          -1195,
          -1205,
          -1205
         ],
         "yaxis": "y"
        },
        {
         "hoverinfo": "text",
         "marker": {
          "color": "rgb(61,153,112)"
         },
         "mode": "lines",
         "type": "scatter",
         "x": [
          0,
          8.660254037844387,
          8.660254037844387,
          0
         ],
         "xaxis": "x",
         "y": [
          -1215,
          -1215,
          -1225,
          -1225
         ],
         "yaxis": "y"
        },
        {
         "hoverinfo": "text",
         "marker": {
          "color": "rgb(61,153,112)"
         },
         "mode": "lines",
         "type": "scatter",
         "x": [
          5.5677643628300215,
          10.099504938362077,
          10.099504938362077,
          8.660254037844387
         ],
         "xaxis": "x",
         "y": [
          -1200,
          -1200,
          -1220,
          -1220
         ],
         "yaxis": "y"
        },
        {
         "hoverinfo": "text",
         "marker": {
          "color": "rgb(61,153,112)"
         },
         "mode": "lines",
         "type": "scatter",
         "x": [
          0,
          8.94427190999916,
          8.94427190999916,
          0
         ],
         "xaxis": "x",
         "y": [
          -1245,
          -1245,
          -1255,
          -1255
         ],
         "yaxis": "y"
        },
        {
         "hoverinfo": "text",
         "marker": {
          "color": "rgb(61,153,112)"
         },
         "mode": "lines",
         "type": "scatter",
         "x": [
          0,
          10.723805294763608,
          10.723805294763608,
          8.94427190999916
         ],
         "xaxis": "x",
         "y": [
          -1235,
          -1235,
          -1250,
          -1250
         ],
         "yaxis": "y"
        },
        {
         "hoverinfo": "text",
         "marker": {
          "color": "rgb(61,153,112)"
         },
         "mode": "lines",
         "type": "scatter",
         "x": [
          10.099504938362077,
          12.206555615733702,
          12.206555615733702,
          10.723805294763608
         ],
         "xaxis": "x",
         "y": [
          -1210,
          -1210,
          -1242.5,
          -1242.5
         ],
         "yaxis": "y"
        },
        {
         "hoverinfo": "text",
         "marker": {
          "color": "rgb(61,153,112)"
         },
         "mode": "lines",
         "type": "scatter",
         "x": [
          8.831760866327848,
          13.228756555322953,
          13.228756555322953,
          12.206555615733702
         ],
         "xaxis": "x",
         "y": [
          -1172.5,
          -1172.5,
          -1226.25,
          -1226.25
         ],
         "yaxis": "y"
        },
        {
         "hoverinfo": "text",
         "marker": {
          "color": "rgb(61,153,112)"
         },
         "mode": "lines",
         "type": "scatter",
         "x": [
          0,
          10.954451150103322,
          10.954451150103322,
          0
         ],
         "xaxis": "x",
         "y": [
          -1265,
          -1265,
          -1275,
          -1275
         ],
         "yaxis": "y"
        },
        {
         "hoverinfo": "text",
         "marker": {
          "color": "rgb(61,153,112)"
         },
         "mode": "lines",
         "type": "scatter",
         "x": [
          0,
          9.899494936611665,
          9.899494936611665,
          0
         ],
         "xaxis": "x",
         "y": [
          -1295,
          -1295,
          -1305,
          -1305
         ],
         "yaxis": "y"
        },
        {
         "hoverinfo": "text",
         "marker": {
          "color": "rgb(61,153,112)"
         },
         "mode": "lines",
         "type": "scatter",
         "x": [
          0,
          11.489125293076057,
          11.489125293076057,
          9.899494936611665
         ],
         "xaxis": "x",
         "y": [
          -1285,
          -1285,
          -1300,
          -1300
         ],
         "yaxis": "y"
        },
        {
         "hoverinfo": "text",
         "marker": {
          "color": "rgb(61,153,112)"
         },
         "mode": "lines",
         "type": "scatter",
         "x": [
          0,
          9,
          9,
          0
         ],
         "xaxis": "x",
         "y": [
          -1315,
          -1315,
          -1325,
          -1325
         ],
         "yaxis": "y"
        },
        {
         "hoverinfo": "text",
         "marker": {
          "color": "rgb(61,153,112)"
         },
         "mode": "lines",
         "type": "scatter",
         "x": [
          0,
          9.539392014169456,
          9.539392014169456,
          0
         ],
         "xaxis": "x",
         "y": [
          -1335,
          -1335,
          -1345,
          -1345
         ],
         "yaxis": "y"
        },
        {
         "hoverinfo": "text",
         "marker": {
          "color": "rgb(61,153,112)"
         },
         "mode": "lines",
         "type": "scatter",
         "x": [
          9,
          13.152946437965905,
          13.152946437965905,
          9.539392014169456
         ],
         "xaxis": "x",
         "y": [
          -1320,
          -1320,
          -1340,
          -1340
         ],
         "yaxis": "y"
        },
        {
         "hoverinfo": "text",
         "marker": {
          "color": "rgb(61,153,112)"
         },
         "mode": "lines",
         "type": "scatter",
         "x": [
          11.489125293076057,
          14.2828568570857,
          14.2828568570857,
          13.152946437965905
         ],
         "xaxis": "x",
         "y": [
          -1292.5,
          -1292.5,
          -1330,
          -1330
         ],
         "yaxis": "y"
        },
        {
         "hoverinfo": "text",
         "marker": {
          "color": "rgb(61,153,112)"
         },
         "mode": "lines",
         "type": "scatter",
         "x": [
          10.954451150103322,
          15.198684153570664,
          15.198684153570664,
          14.2828568570857
         ],
         "xaxis": "x",
         "y": [
          -1270,
          -1270,
          -1311.25,
          -1311.25
         ],
         "yaxis": "y"
        },
        {
         "hoverinfo": "text",
         "marker": {
          "color": "rgb(61,153,112)"
         },
         "mode": "lines",
         "type": "scatter",
         "x": [
          13.228756555322953,
          16.278820596099706,
          16.278820596099706,
          15.198684153570664
         ],
         "xaxis": "x",
         "y": [
          -1199.375,
          -1199.375,
          -1290.625,
          -1290.625
         ],
         "yaxis": "y"
        },
        {
         "hoverinfo": "text",
         "marker": {
          "color": "rgb(61,153,112)"
         },
         "mode": "lines",
         "type": "scatter",
         "x": [
          15.297058540778355,
          18.894443627691185,
          18.894443627691185,
          16.278820596099706
         ],
         "xaxis": "x",
         "y": [
          -1105.9375,
          -1105.9375,
          -1245,
          -1245
         ],
         "yaxis": "y"
        },
        {
         "hoverinfo": "text",
         "marker": {
          "color": "rgb(255,65,54)"
         },
         "mode": "lines",
         "type": "scatter",
         "x": [
          0,
          11,
          11,
          0
         ],
         "xaxis": "x",
         "y": [
          -1355,
          -1355,
          -1365,
          -1365
         ],
         "yaxis": "y"
        },
        {
         "hoverinfo": "text",
         "marker": {
          "color": "rgb(255,65,54)"
         },
         "mode": "lines",
         "type": "scatter",
         "x": [
          0,
          11.180339887498949,
          11.180339887498949,
          0
         ],
         "xaxis": "x",
         "y": [
          -1375,
          -1375,
          -1385,
          -1385
         ],
         "yaxis": "y"
        },
        {
         "hoverinfo": "text",
         "marker": {
          "color": "rgb(255,65,54)"
         },
         "mode": "lines",
         "type": "scatter",
         "x": [
          0,
          9.797958971132712,
          9.797958971132712,
          0
         ],
         "xaxis": "x",
         "y": [
          -1405,
          -1405,
          -1415,
          -1415
         ],
         "yaxis": "y"
        },
        {
         "hoverinfo": "text",
         "marker": {
          "color": "rgb(255,65,54)"
         },
         "mode": "lines",
         "type": "scatter",
         "x": [
          0,
          12.68857754044952,
          12.68857754044952,
          9.797958971132712
         ],
         "xaxis": "x",
         "y": [
          -1395,
          -1395,
          -1410,
          -1410
         ],
         "yaxis": "y"
        },
        {
         "hoverinfo": "text",
         "marker": {
          "color": "rgb(255,65,54)"
         },
         "mode": "lines",
         "type": "scatter",
         "x": [
          11.180339887498949,
          14.52583904633395,
          14.52583904633395,
          12.68857754044952
         ],
         "xaxis": "x",
         "y": [
          -1380,
          -1380,
          -1402.5,
          -1402.5
         ],
         "yaxis": "y"
        },
        {
         "hoverinfo": "text",
         "marker": {
          "color": "rgb(255,65,54)"
         },
         "mode": "lines",
         "type": "scatter",
         "x": [
          0,
          9.695359714832659,
          9.695359714832659,
          0
         ],
         "xaxis": "x",
         "y": [
          -1425,
          -1425,
          -1435,
          -1435
         ],
         "yaxis": "y"
        },
        {
         "hoverinfo": "text",
         "marker": {
          "color": "rgb(255,65,54)"
         },
         "mode": "lines",
         "type": "scatter",
         "x": [
          0,
          9.16515138991168,
          9.16515138991168,
          0
         ],
         "xaxis": "x",
         "y": [
          -1445,
          -1445,
          -1455,
          -1455
         ],
         "yaxis": "y"
        },
        {
         "hoverinfo": "text",
         "marker": {
          "color": "rgb(255,65,54)"
         },
         "mode": "lines",
         "type": "scatter",
         "x": [
          0,
          8.48528137423857,
          8.48528137423857,
          0
         ],
         "xaxis": "x",
         "y": [
          -1465,
          -1465,
          -1475,
          -1475
         ],
         "yaxis": "y"
        },
        {
         "hoverinfo": "text",
         "marker": {
          "color": "rgb(255,65,54)"
         },
         "mode": "lines",
         "type": "scatter",
         "x": [
          0,
          6.708203932499369,
          6.708203932499369,
          0
         ],
         "xaxis": "x",
         "y": [
          -1495,
          -1495,
          -1505,
          -1505
         ],
         "yaxis": "y"
        },
        {
         "hoverinfo": "text",
         "marker": {
          "color": "rgb(255,65,54)"
         },
         "mode": "lines",
         "type": "scatter",
         "x": [
          0,
          9.273618495495704,
          9.273618495495704,
          6.708203932499369
         ],
         "xaxis": "x",
         "y": [
          -1485,
          -1485,
          -1500,
          -1500
         ],
         "yaxis": "y"
        },
        {
         "hoverinfo": "text",
         "marker": {
          "color": "rgb(255,65,54)"
         },
         "mode": "lines",
         "type": "scatter",
         "x": [
          8.48528137423857,
          9.848857801796104,
          9.848857801796104,
          9.273618495495704
         ],
         "xaxis": "x",
         "y": [
          -1470,
          -1470,
          -1492.5,
          -1492.5
         ],
         "yaxis": "y"
        },
        {
         "hoverinfo": "text",
         "marker": {
          "color": "rgb(255,65,54)"
         },
         "mode": "lines",
         "type": "scatter",
         "x": [
          9.16515138991168,
          11.045361017187261,
          11.045361017187261,
          9.848857801796104
         ],
         "xaxis": "x",
         "y": [
          -1450,
          -1450,
          -1481.25,
          -1481.25
         ],
         "yaxis": "y"
        },
        {
         "hoverinfo": "text",
         "marker": {
          "color": "rgb(255,65,54)"
         },
         "mode": "lines",
         "type": "scatter",
         "x": [
          0,
          7.416198487095663,
          7.416198487095663,
          0
         ],
         "xaxis": "x",
         "y": [
          -1535,
          -1535,
          -1545,
          -1545
         ],
         "yaxis": "y"
        },
        {
         "hoverinfo": "text",
         "marker": {
          "color": "rgb(255,65,54)"
         },
         "mode": "lines",
         "type": "scatter",
         "x": [
          0,
          9.16515138991168,
          9.16515138991168,
          7.416198487095663
         ],
         "xaxis": "x",
         "y": [
          -1525,
          -1525,
          -1540,
          -1540
         ],
         "yaxis": "y"
        },
        {
         "hoverinfo": "text",
         "marker": {
          "color": "rgb(255,65,54)"
         },
         "mode": "lines",
         "type": "scatter",
         "x": [
          0,
          11.224972160321824,
          11.224972160321824,
          9.16515138991168
         ],
         "xaxis": "x",
         "y": [
          -1515,
          -1515,
          -1532.5,
          -1532.5
         ],
         "yaxis": "y"
        },
        {
         "hoverinfo": "text",
         "marker": {
          "color": "rgb(255,65,54)"
         },
         "mode": "lines",
         "type": "scatter",
         "x": [
          11.045361017187261,
          13,
          13,
          11.224972160321824
         ],
         "xaxis": "x",
         "y": [
          -1465.625,
          -1465.625,
          -1523.75,
          -1523.75
         ],
         "yaxis": "y"
        },
        {
         "hoverinfo": "text",
         "marker": {
          "color": "rgb(255,65,54)"
         },
         "mode": "lines",
         "type": "scatter",
         "x": [
          9.695359714832659,
          13.892443989449804,
          13.892443989449804,
          13
         ],
         "xaxis": "x",
         "y": [
          -1430,
          -1430,
          -1494.6875,
          -1494.6875
         ],
         "yaxis": "y"
        },
        {
         "hoverinfo": "text",
         "marker": {
          "color": "rgb(255,65,54)"
         },
         "mode": "lines",
         "type": "scatter",
         "x": [
          0,
          8,
          8,
          0
         ],
         "xaxis": "x",
         "y": [
          -1565,
          -1565,
          -1575,
          -1575
         ],
         "yaxis": "y"
        },
        {
         "hoverinfo": "text",
         "marker": {
          "color": "rgb(255,65,54)"
         },
         "mode": "lines",
         "type": "scatter",
         "x": [
          0,
          8.602325267042627,
          8.602325267042627,
          8
         ],
         "xaxis": "x",
         "y": [
          -1555,
          -1555,
          -1570,
          -1570
         ],
         "yaxis": "y"
        },
        {
         "hoverinfo": "text",
         "marker": {
          "color": "rgb(255,65,54)"
         },
         "mode": "lines",
         "type": "scatter",
         "x": [
          0,
          7,
          7,
          0
         ],
         "xaxis": "x",
         "y": [
          -1605,
          -1605,
          -1615,
          -1615
         ],
         "yaxis": "y"
        },
        {
         "hoverinfo": "text",
         "marker": {
          "color": "rgb(255,65,54)"
         },
         "mode": "lines",
         "type": "scatter",
         "x": [
          0,
          9.539392014169456,
          9.539392014169456,
          7
         ],
         "xaxis": "x",
         "y": [
          -1595,
          -1595,
          -1610,
          -1610
         ],
         "yaxis": "y"
        },
        {
         "hoverinfo": "text",
         "marker": {
          "color": "rgb(255,65,54)"
         },
         "mode": "lines",
         "type": "scatter",
         "x": [
          0,
          6.708203932499369,
          6.708203932499369,
          0
         ],
         "xaxis": "x",
         "y": [
          -1645,
          -1645,
          -1655,
          -1655
         ],
         "yaxis": "y"
        },
        {
         "hoverinfo": "text",
         "marker": {
          "color": "rgb(255,65,54)"
         },
         "mode": "lines",
         "type": "scatter",
         "x": [
          0,
          8.366600265340756,
          8.366600265340756,
          6.708203932499369
         ],
         "xaxis": "x",
         "y": [
          -1635,
          -1635,
          -1650,
          -1650
         ],
         "yaxis": "y"
        },
        {
         "hoverinfo": "text",
         "marker": {
          "color": "rgb(255,65,54)"
         },
         "mode": "lines",
         "type": "scatter",
         "x": [
          0,
          10.44030650891055,
          10.44030650891055,
          8.366600265340756
         ],
         "xaxis": "x",
         "y": [
          -1625,
          -1625,
          -1642.5,
          -1642.5
         ],
         "yaxis": "y"
        },
        {
         "hoverinfo": "text",
         "marker": {
          "color": "rgb(255,65,54)"
         },
         "mode": "lines",
         "type": "scatter",
         "x": [
          9.539392014169456,
          11.532562594670797,
          11.532562594670797,
          10.44030650891055
         ],
         "xaxis": "x",
         "y": [
          -1602.5,
          -1602.5,
          -1633.75,
          -1633.75
         ],
         "yaxis": "y"
        },
        {
         "hoverinfo": "text",
         "marker": {
          "color": "rgb(255,65,54)"
         },
         "mode": "lines",
         "type": "scatter",
         "x": [
          0,
          13,
          13,
          11.532562594670797
         ],
         "xaxis": "x",
         "y": [
          -1585,
          -1585,
          -1618.125,
          -1618.125
         ],
         "yaxis": "y"
        },
        {
         "hoverinfo": "text",
         "marker": {
          "color": "rgb(255,65,54)"
         },
         "mode": "lines",
         "type": "scatter",
         "x": [
          8.602325267042627,
          15.198684153570664,
          15.198684153570664,
          13
         ],
         "xaxis": "x",
         "y": [
          -1562.5,
          -1562.5,
          -1601.5625,
          -1601.5625
         ],
         "yaxis": "y"
        },
        {
         "hoverinfo": "text",
         "marker": {
          "color": "rgb(255,65,54)"
         },
         "mode": "lines",
         "type": "scatter",
         "x": [
          13.892443989449804,
          15.937377450509228,
          15.937377450509228,
          15.198684153570664
         ],
         "xaxis": "x",
         "y": [
          -1462.34375,
          -1462.34375,
          -1582.03125,
          -1582.03125
         ],
         "yaxis": "y"
        },
        {
         "hoverinfo": "text",
         "marker": {
          "color": "rgb(255,65,54)"
         },
         "mode": "lines",
         "type": "scatter",
         "x": [
          14.52583904633395,
          18.49324200890693,
          18.49324200890693,
          15.937377450509228
         ],
         "xaxis": "x",
         "y": [
          -1391.25,
          -1391.25,
          -1522.1875,
          -1522.1875
         ],
         "yaxis": "y"
        },
        {
         "hoverinfo": "text",
         "marker": {
          "color": "rgb(255,65,54)"
         },
         "mode": "lines",
         "type": "scatter",
         "x": [
          11,
          21.88606862823929,
          21.88606862823929,
          18.49324200890693
         ],
         "xaxis": "x",
         "y": [
          -1360,
          -1360,
          -1456.71875,
          -1456.71875
         ],
         "yaxis": "y"
        },
        {
         "hoverinfo": "text",
         "marker": {
          "color": "rgb(0,116,217)"
         },
         "mode": "lines",
         "type": "scatter",
         "x": [
          18.894443627691185,
          32.58834147360065,
          32.58834147360065,
          21.88606862823929
         ],
         "xaxis": "x",
         "y": [
          -1175.46875,
          -1175.46875,
          -1408.359375,
          -1408.359375
         ],
         "yaxis": "y"
        },
        {
         "hoverinfo": "text",
         "marker": {
          "color": "rgb(0,116,217)"
         },
         "mode": "lines",
         "type": "scatter",
         "x": [
          31.240998703626616,
          35.11409973215888,
          35.11409973215888,
          32.58834147360065
         ],
         "xaxis": "x",
         "y": [
          -582.205810546875,
          -582.205810546875,
          -1291.9140625,
          -1291.9140625
         ],
         "yaxis": "y"
        }
       ],
       "layout": {
        "autosize": false,
        "height": 1000,
        "hovermode": "closest",
        "showlegend": false,
        "template": {
         "data": {
          "bar": [
           {
            "error_x": {
             "color": "#2a3f5f"
            },
            "error_y": {
             "color": "#2a3f5f"
            },
            "marker": {
             "line": {
              "color": "#E5ECF6",
              "width": 0.5
             }
            },
            "type": "bar"
           }
          ],
          "barpolar": [
           {
            "marker": {
             "line": {
              "color": "#E5ECF6",
              "width": 0.5
             }
            },
            "type": "barpolar"
           }
          ],
          "carpet": [
           {
            "aaxis": {
             "endlinecolor": "#2a3f5f",
             "gridcolor": "white",
             "linecolor": "white",
             "minorgridcolor": "white",
             "startlinecolor": "#2a3f5f"
            },
            "baxis": {
             "endlinecolor": "#2a3f5f",
             "gridcolor": "white",
             "linecolor": "white",
             "minorgridcolor": "white",
             "startlinecolor": "#2a3f5f"
            },
            "type": "carpet"
           }
          ],
          "choropleth": [
           {
            "colorbar": {
             "outlinewidth": 0,
             "ticks": ""
            },
            "type": "choropleth"
           }
          ],
          "contour": [
           {
            "colorbar": {
             "outlinewidth": 0,
             "ticks": ""
            },
            "colorscale": [
             [
              0,
              "#0d0887"
             ],
             [
              0.1111111111111111,
              "#46039f"
             ],
             [
              0.2222222222222222,
              "#7201a8"
             ],
             [
              0.3333333333333333,
              "#9c179e"
             ],
             [
              0.4444444444444444,
              "#bd3786"
             ],
             [
              0.5555555555555556,
              "#d8576b"
             ],
             [
              0.6666666666666666,
              "#ed7953"
             ],
             [
              0.7777777777777778,
              "#fb9f3a"
             ],
             [
              0.8888888888888888,
              "#fdca26"
             ],
             [
              1,
              "#f0f921"
             ]
            ],
            "type": "contour"
           }
          ],
          "contourcarpet": [
           {
            "colorbar": {
             "outlinewidth": 0,
             "ticks": ""
            },
            "type": "contourcarpet"
           }
          ],
          "heatmap": [
           {
            "colorbar": {
             "outlinewidth": 0,
             "ticks": ""
            },
            "colorscale": [
             [
              0,
              "#0d0887"
             ],
             [
              0.1111111111111111,
              "#46039f"
             ],
             [
              0.2222222222222222,
              "#7201a8"
             ],
             [
              0.3333333333333333,
              "#9c179e"
             ],
             [
              0.4444444444444444,
              "#bd3786"
             ],
             [
              0.5555555555555556,
              "#d8576b"
             ],
             [
              0.6666666666666666,
              "#ed7953"
             ],
             [
              0.7777777777777778,
              "#fb9f3a"
             ],
             [
              0.8888888888888888,
              "#fdca26"
             ],
             [
              1,
              "#f0f921"
             ]
            ],
            "type": "heatmap"
           }
          ],
          "heatmapgl": [
           {
            "colorbar": {
             "outlinewidth": 0,
             "ticks": ""
            },
            "colorscale": [
             [
              0,
              "#0d0887"
             ],
             [
              0.1111111111111111,
              "#46039f"
             ],
             [
              0.2222222222222222,
              "#7201a8"
             ],
             [
              0.3333333333333333,
              "#9c179e"
             ],
             [
              0.4444444444444444,
              "#bd3786"
             ],
             [
              0.5555555555555556,
              "#d8576b"
             ],
             [
              0.6666666666666666,
              "#ed7953"
             ],
             [
              0.7777777777777778,
              "#fb9f3a"
             ],
             [
              0.8888888888888888,
              "#fdca26"
             ],
             [
              1,
              "#f0f921"
             ]
            ],
            "type": "heatmapgl"
           }
          ],
          "histogram": [
           {
            "marker": {
             "colorbar": {
              "outlinewidth": 0,
              "ticks": ""
             }
            },
            "type": "histogram"
           }
          ],
          "histogram2d": [
           {
            "colorbar": {
             "outlinewidth": 0,
             "ticks": ""
            },
            "colorscale": [
             [
              0,
              "#0d0887"
             ],
             [
              0.1111111111111111,
              "#46039f"
             ],
             [
              0.2222222222222222,
              "#7201a8"
             ],
             [
              0.3333333333333333,
              "#9c179e"
             ],
             [
              0.4444444444444444,
              "#bd3786"
             ],
             [
              0.5555555555555556,
              "#d8576b"
             ],
             [
              0.6666666666666666,
              "#ed7953"
             ],
             [
              0.7777777777777778,
              "#fb9f3a"
             ],
             [
              0.8888888888888888,
              "#fdca26"
             ],
             [
              1,
              "#f0f921"
             ]
            ],
            "type": "histogram2d"
           }
          ],
          "histogram2dcontour": [
           {
            "colorbar": {
             "outlinewidth": 0,
             "ticks": ""
            },
            "colorscale": [
             [
              0,
              "#0d0887"
             ],
             [
              0.1111111111111111,
              "#46039f"
             ],
             [
              0.2222222222222222,
              "#7201a8"
             ],
             [
              0.3333333333333333,
              "#9c179e"
             ],
             [
              0.4444444444444444,
              "#bd3786"
             ],
             [
              0.5555555555555556,
              "#d8576b"
             ],
             [
              0.6666666666666666,
              "#ed7953"
             ],
             [
              0.7777777777777778,
              "#fb9f3a"
             ],
             [
              0.8888888888888888,
              "#fdca26"
             ],
             [
              1,
              "#f0f921"
             ]
            ],
            "type": "histogram2dcontour"
           }
          ],
          "mesh3d": [
           {
            "colorbar": {
             "outlinewidth": 0,
             "ticks": ""
            },
            "type": "mesh3d"
           }
          ],
          "parcoords": [
           {
            "line": {
             "colorbar": {
              "outlinewidth": 0,
              "ticks": ""
             }
            },
            "type": "parcoords"
           }
          ],
          "pie": [
           {
            "automargin": true,
            "type": "pie"
           }
          ],
          "scatter": [
           {
            "marker": {
             "colorbar": {
              "outlinewidth": 0,
              "ticks": ""
             }
            },
            "type": "scatter"
           }
          ],
          "scatter3d": [
           {
            "line": {
             "colorbar": {
              "outlinewidth": 0,
              "ticks": ""
             }
            },
            "marker": {
             "colorbar": {
              "outlinewidth": 0,
              "ticks": ""
             }
            },
            "type": "scatter3d"
           }
          ],
          "scattercarpet": [
           {
            "marker": {
             "colorbar": {
              "outlinewidth": 0,
              "ticks": ""
             }
            },
            "type": "scattercarpet"
           }
          ],
          "scattergeo": [
           {
            "marker": {
             "colorbar": {
              "outlinewidth": 0,
              "ticks": ""
             }
            },
            "type": "scattergeo"
           }
          ],
          "scattergl": [
           {
            "marker": {
             "colorbar": {
              "outlinewidth": 0,
              "ticks": ""
             }
            },
            "type": "scattergl"
           }
          ],
          "scattermapbox": [
           {
            "marker": {
             "colorbar": {
              "outlinewidth": 0,
              "ticks": ""
             }
            },
            "type": "scattermapbox"
           }
          ],
          "scatterpolar": [
           {
            "marker": {
             "colorbar": {
              "outlinewidth": 0,
              "ticks": ""
             }
            },
            "type": "scatterpolar"
           }
          ],
          "scatterpolargl": [
           {
            "marker": {
             "colorbar": {
              "outlinewidth": 0,
              "ticks": ""
             }
            },
            "type": "scatterpolargl"
           }
          ],
          "scatterternary": [
           {
            "marker": {
             "colorbar": {
              "outlinewidth": 0,
              "ticks": ""
             }
            },
            "type": "scatterternary"
           }
          ],
          "surface": [
           {
            "colorbar": {
             "outlinewidth": 0,
             "ticks": ""
            },
            "colorscale": [
             [
              0,
              "#0d0887"
             ],
             [
              0.1111111111111111,
              "#46039f"
             ],
             [
              0.2222222222222222,
              "#7201a8"
             ],
             [
              0.3333333333333333,
              "#9c179e"
             ],
             [
              0.4444444444444444,
              "#bd3786"
             ],
             [
              0.5555555555555556,
              "#d8576b"
             ],
             [
              0.6666666666666666,
              "#ed7953"
             ],
             [
              0.7777777777777778,
              "#fb9f3a"
             ],
             [
              0.8888888888888888,
              "#fdca26"
             ],
             [
              1,
              "#f0f921"
             ]
            ],
            "type": "surface"
           }
          ],
          "table": [
           {
            "cells": {
             "fill": {
              "color": "#EBF0F8"
             },
             "line": {
              "color": "white"
             }
            },
            "header": {
             "fill": {
              "color": "#C8D4E3"
             },
             "line": {
              "color": "white"
             }
            },
            "type": "table"
           }
          ]
         },
         "layout": {
          "annotationdefaults": {
           "arrowcolor": "#2a3f5f",
           "arrowhead": 0,
           "arrowwidth": 1
          },
          "coloraxis": {
           "colorbar": {
            "outlinewidth": 0,
            "ticks": ""
           }
          },
          "colorscale": {
           "diverging": [
            [
             0,
             "#8e0152"
            ],
            [
             0.1,
             "#c51b7d"
            ],
            [
             0.2,
             "#de77ae"
            ],
            [
             0.3,
             "#f1b6da"
            ],
            [
             0.4,
             "#fde0ef"
            ],
            [
             0.5,
             "#f7f7f7"
            ],
            [
             0.6,
             "#e6f5d0"
            ],
            [
             0.7,
             "#b8e186"
            ],
            [
             0.8,
             "#7fbc41"
            ],
            [
             0.9,
             "#4d9221"
            ],
            [
             1,
             "#276419"
            ]
           ],
           "sequential": [
            [
             0,
             "#0d0887"
            ],
            [
             0.1111111111111111,
             "#46039f"
            ],
            [
             0.2222222222222222,
             "#7201a8"
            ],
            [
             0.3333333333333333,
             "#9c179e"
            ],
            [
             0.4444444444444444,
             "#bd3786"
            ],
            [
             0.5555555555555556,
             "#d8576b"
            ],
            [
             0.6666666666666666,
             "#ed7953"
            ],
            [
             0.7777777777777778,
             "#fb9f3a"
            ],
            [
             0.8888888888888888,
             "#fdca26"
            ],
            [
             1,
             "#f0f921"
            ]
           ],
           "sequentialminus": [
            [
             0,
             "#0d0887"
            ],
            [
             0.1111111111111111,
             "#46039f"
            ],
            [
             0.2222222222222222,
             "#7201a8"
            ],
            [
             0.3333333333333333,
             "#9c179e"
            ],
            [
             0.4444444444444444,
             "#bd3786"
            ],
            [
             0.5555555555555556,
             "#d8576b"
            ],
            [
             0.6666666666666666,
             "#ed7953"
            ],
            [
             0.7777777777777778,
             "#fb9f3a"
            ],
            [
             0.8888888888888888,
             "#fdca26"
            ],
            [
             1,
             "#f0f921"
            ]
           ]
          },
          "colorway": [
           "#636efa",
           "#EF553B",
           "#00cc96",
           "#ab63fa",
           "#FFA15A",
           "#19d3f3",
           "#FF6692",
           "#B6E880",
           "#FF97FF",
           "#FECB52"
          ],
          "font": {
           "color": "#2a3f5f"
          },
          "geo": {
           "bgcolor": "white",
           "lakecolor": "white",
           "landcolor": "#E5ECF6",
           "showlakes": true,
           "showland": true,
           "subunitcolor": "white"
          },
          "hoverlabel": {
           "align": "left"
          },
          "hovermode": "closest",
          "mapbox": {
           "style": "light"
          },
          "paper_bgcolor": "white",
          "plot_bgcolor": "#E5ECF6",
          "polar": {
           "angularaxis": {
            "gridcolor": "white",
            "linecolor": "white",
            "ticks": ""
           },
           "bgcolor": "#E5ECF6",
           "radialaxis": {
            "gridcolor": "white",
            "linecolor": "white",
            "ticks": ""
           }
          },
          "scene": {
           "xaxis": {
            "backgroundcolor": "#E5ECF6",
            "gridcolor": "white",
            "gridwidth": 2,
            "linecolor": "white",
            "showbackground": true,
            "ticks": "",
            "zerolinecolor": "white"
           },
           "yaxis": {
            "backgroundcolor": "#E5ECF6",
            "gridcolor": "white",
            "gridwidth": 2,
            "linecolor": "white",
            "showbackground": true,
            "ticks": "",
            "zerolinecolor": "white"
           },
           "zaxis": {
            "backgroundcolor": "#E5ECF6",
            "gridcolor": "white",
            "gridwidth": 2,
            "linecolor": "white",
            "showbackground": true,
            "ticks": "",
            "zerolinecolor": "white"
           }
          },
          "shapedefaults": {
           "line": {
            "color": "#2a3f5f"
           }
          },
          "ternary": {
           "aaxis": {
            "gridcolor": "white",
            "linecolor": "white",
            "ticks": ""
           },
           "baxis": {
            "gridcolor": "white",
            "linecolor": "white",
            "ticks": ""
           },
           "bgcolor": "#E5ECF6",
           "caxis": {
            "gridcolor": "white",
            "linecolor": "white",
            "ticks": ""
           }
          },
          "title": {
           "x": 0.05
          },
          "xaxis": {
           "automargin": true,
           "gridcolor": "white",
           "linecolor": "white",
           "ticks": "",
           "title": {
            "standoff": 15
           },
           "zerolinecolor": "white",
           "zerolinewidth": 2
          },
          "yaxis": {
           "automargin": true,
           "gridcolor": "white",
           "linecolor": "white",
           "ticks": "",
           "title": {
            "standoff": 15
           },
           "zerolinecolor": "white",
           "zerolinewidth": 2
          }
         }
        },
        "width": 600,
        "xaxis": {
         "mirror": "allticks",
         "rangemode": "tozero",
         "showgrid": false,
         "showline": true,
         "showticklabels": true,
         "ticks": "outside",
         "type": "linear",
         "zeroline": false
        },
        "yaxis": {
         "mirror": "allticks",
         "rangemode": "tozero",
         "showgrid": false,
         "showline": true,
         "showticklabels": true,
         "tickmode": "array",
         "ticks": "outside",
         "ticktext": [
          "paint brush",
          "rope",
          "hammer",
          "pickaxe",
          "shovel",
          "axe",
          "saw",
          "oil can",
          "wire brush",
          "clamp",
          "level",
          "nail",
          "chisel",
          "filling knife",
          "plane",
          "file",
          "tongs",
          "screwdriver",
          "screw wrench (engelse sleutel)",
          "wrench",
          "wheelbarrow",
          "crowbar (breekijzer)",
          "crowbar (koevoet)",
          "anvil",
          "plough",
          "dagger",
          "sword",
          "club",
          "stick",
          "whip",
          "spear",
          "bow",
          "slingshot",
          "knuckle dusters",
          "shield",
          "drill",
          "grinding disc",
          "lawn mower",
          "vacuum cleaner",
          "mixer",
          "microwave oven",
          "toaster",
          "electric kettle",
          "percolator",
          "fridge",
          "oven",
          "stove",
          "knife",
          "teaspoon",
          "fork",
          "spoon",
          "can opener",
          "nutcracker",
          "whisk",
          "grater",
          "scissors",
          "bowl",
          "plate",
          "bottle",
          "glass",
          "scales",
          "wok",
          "kettle",
          "pan",
          "pot",
          "mug",
          "place mat",
          "spatula",
          "colander",
          "sieve",
          "bazooka",
          "machine gun",
          "double-barreled shotgun",
          "pistol",
          "rifle",
          "canon",
          "grenade",
          "rocket",
          "tank",
          "motorbike (moto)",
          "scooter (bromfiets)",
          "scooter (brommer)",
          "jeep",
          "taxi",
          "boat",
          "car",
          "tractor",
          "van",
          "bus",
          "truck (camion)",
          "truck (vrachtwagen)",
          "subway train",
          "train",
          "tram",
          "airplane",
          "submarine",
          "helicopter",
          "hovercraft",
          "(hot air) balloon",
          "zeppelin",
          "bicycle",
          "go-cart",
          "kick scooter",
          "skateboard",
          "trailer",
          "sled",
          "carriage",
          "cart",
          "cymbals",
          "triangle",
          "bassoon",
          "clarinet",
          "flute",
          "saxophone",
          "trombone",
          "trumpet",
          "guitar",
          "banjo",
          "bass guitar",
          "cello",
          "double bass",
          "harp",
          "violin",
          "piano",
          "harpsichord",
          "organ",
          "drum set",
          "synthesizer",
          "harmonica",
          "pan flute",
          "recorder",
          "drum",
          "tambourine",
          "accordion",
          "bagpipe",
          "apron",
          "towel",
          "boots",
          "shoes",
          "belt",
          "cap",
          "hat",
          "bra",
          "panties",
          "bathing suit",
          "tracksuit",
          "jeans",
          "sweater",
          "t-shirt",
          "shorts",
          "top",
          "coat",
          "socks",
          "pants",
          "pullover",
          "mittens",
          "beanie",
          "scarf",
          "tie",
          "suit",
          "dress",
          "skirt",
          "dungarees",
          "pyjamas",
          "blouse",
          "shirt"
         ],
         "tickvals": [
          -5,
          -15,
          -25,
          -35,
          -45,
          -55,
          -65,
          -75,
          -85,
          -95,
          -105,
          -115,
          -125,
          -135,
          -145,
          -155,
          -165,
          -175,
          -185,
          -195,
          -205,
          -215,
          -225,
          -235,
          -245,
          -255,
          -265,
          -275,
          -285,
          -295,
          -305,
          -315,
          -325,
          -335,
          -345,
          -355,
          -365,
          -375,
          -385,
          -395,
          -405,
          -415,
          -425,
          -435,
          -445,
          -455,
          -465,
          -475,
          -485,
          -495,
          -505,
          -515,
          -525,
          -535,
          -545,
          -555,
          -565,
          -575,
          -585,
          -595,
          -605,
          -615,
          -625,
          -635,
          -645,
          -655,
          -665,
          -675,
          -685,
          -695,
          -705,
          -715,
          -725,
          -735,
          -745,
          -755,
          -765,
          -775,
          -785,
          -795,
          -805,
          -815,
          -825,
          -835,
          -845,
          -855,
          -865,
          -875,
          -885,
          -895,
          -905,
          -915,
          -925,
          -935,
          -945,
          -955,
          -965,
          -975,
          -985,
          -995,
          -1005,
          -1015,
          -1025,
          -1035,
          -1045,
          -1055,
          -1065,
          -1075,
          -1085,
          -1095,
          -1105,
          -1115,
          -1125,
          -1135,
          -1145,
          -1155,
          -1165,
          -1175,
          -1185,
          -1195,
          -1205,
          -1215,
          -1225,
          -1235,
          -1245,
          -1255,
          -1265,
          -1275,
          -1285,
          -1295,
          -1305,
          -1315,
          -1325,
          -1335,
          -1345,
          -1355,
          -1365,
          -1375,
          -1385,
          -1395,
          -1405,
          -1415,
          -1425,
          -1435,
          -1445,
          -1455,
          -1465,
          -1475,
          -1485,
          -1495,
          -1505,
          -1515,
          -1525,
          -1535,
          -1545,
          -1555,
          -1565,
          -1575,
          -1585,
          -1595,
          -1605,
          -1615,
          -1625,
          -1635,
          -1645,
          -1655
         ],
         "type": "linear",
         "zeroline": false
        }
       }
      },
      "text/html": "<div>                            <div id=\"8638b750-596c-4c4c-8f77-10910870fc24\" class=\"plotly-graph-div\" style=\"height:1000px; width:600px;\"></div>            <script type=\"text/javascript\">                require([\"plotly\"], function(Plotly) {                    window.PLOTLYENV=window.PLOTLYENV || {};                                    if (document.getElementById(\"8638b750-596c-4c4c-8f77-10910870fc24\")) {                    Plotly.newPlot(                        \"8638b750-596c-4c4c-8f77-10910870fc24\",                        [{\"hoverinfo\": \"text\", \"marker\": {\"color\": \"rgb(61,153,112)\"}, \"mode\": \"lines\", \"type\": \"scatter\", \"x\": [0.0, 10.908712114635714, 10.908712114635714, 0.0], \"xaxis\": \"x\", \"y\": [-5.0, -5.0, -15.0, -15.0], \"yaxis\": \"y\"}, {\"hoverinfo\": \"text\", \"marker\": {\"color\": \"rgb(61,153,112)\"}, \"mode\": \"lines\", \"type\": \"scatter\", \"x\": [0.0, 8.306623862918075, 8.306623862918075, 0.0], \"xaxis\": \"x\", \"y\": [-35.0, -35.0, -45.0, -45.0], \"yaxis\": \"y\"}, {\"hoverinfo\": \"text\", \"marker\": {\"color\": \"rgb(61,153,112)\"}, \"mode\": \"lines\", \"type\": \"scatter\", \"x\": [0.0, 10.0, 10.0, 0.0], \"xaxis\": \"x\", \"y\": [-55.0, -55.0, -65.0, -65.0], \"yaxis\": \"y\"}, {\"hoverinfo\": \"text\", \"marker\": {\"color\": \"rgb(61,153,112)\"}, \"mode\": \"lines\", \"type\": \"scatter\", \"x\": [8.306623862918075, 11.269427669584644, 11.269427669584644, 10.0], \"xaxis\": \"x\", \"y\": [-40.0, -40.0, -60.0, -60.0], \"yaxis\": \"y\"}, {\"hoverinfo\": \"text\", \"marker\": {\"color\": \"rgb(61,153,112)\"}, \"mode\": \"lines\", \"type\": \"scatter\", \"x\": [0.0, 12.609520212918492, 12.609520212918492, 11.269427669584644], \"xaxis\": \"x\", \"y\": [-25.0, -25.0, -50.0, -50.0], \"yaxis\": \"y\"}, {\"hoverinfo\": \"text\", \"marker\": {\"color\": \"rgb(61,153,112)\"}, \"mode\": \"lines\", \"type\": \"scatter\", \"x\": [0.0, 8.774964387392123, 8.774964387392123, 0.0], \"xaxis\": \"x\", \"y\": [-75.0, -75.0, -85.0, -85.0], \"yaxis\": \"y\"}, {\"hoverinfo\": \"text\", \"marker\": {\"color\": \"rgb(61,153,112)\"}, \"mode\": \"lines\", \"type\": \"scatter\", \"x\": [0.0, 9.0, 9.0, 0.0], \"xaxis\": \"x\", \"y\": [-95.0, -95.0, -105.0, -105.0], \"yaxis\": \"y\"}, {\"hoverinfo\": \"text\", \"marker\": {\"color\": \"rgb(61,153,112)\"}, \"mode\": \"lines\", \"type\": \"scatter\", \"x\": [8.774964387392123, 10.392304845413264, 10.392304845413264, 9.0], \"xaxis\": \"x\", \"y\": [-80.0, -80.0, -100.0, -100.0], \"yaxis\": \"y\"}, {\"hoverinfo\": \"text\", \"marker\": {\"color\": \"rgb(61,153,112)\"}, \"mode\": \"lines\", \"type\": \"scatter\", \"x\": [0.0, 8.246211251235321, 8.246211251235321, 0.0], \"xaxis\": \"x\", \"y\": [-135.0, -135.0, -145.0, -145.0], \"yaxis\": \"y\"}, {\"hoverinfo\": \"text\", \"marker\": {\"color\": \"rgb(61,153,112)\"}, \"mode\": \"lines\", \"type\": \"scatter\", \"x\": [0.0, 9.327379053088816, 9.327379053088816, 8.246211251235321], \"xaxis\": \"x\", \"y\": [-125.0, -125.0, -140.0, -140.0], \"yaxis\": \"y\"}, {\"hoverinfo\": \"text\", \"marker\": {\"color\": \"rgb(61,153,112)\"}, \"mode\": \"lines\", \"type\": \"scatter\", \"x\": [0.0, 5.477225575051661, 5.477225575051661, 0.0], \"xaxis\": \"x\", \"y\": [-185.0, -185.0, -195.0, -195.0], \"yaxis\": \"y\"}, {\"hoverinfo\": \"text\", \"marker\": {\"color\": \"rgb(61,153,112)\"}, \"mode\": \"lines\", \"type\": \"scatter\", \"x\": [0.0, 7.280109889280518, 7.280109889280518, 5.477225575051661], \"xaxis\": \"x\", \"y\": [-175.0, -175.0, -190.0, -190.0], \"yaxis\": \"y\"}, {\"hoverinfo\": \"text\", \"marker\": {\"color\": \"rgb(61,153,112)\"}, \"mode\": \"lines\", \"type\": \"scatter\", \"x\": [0.0, 7.874007874011811, 7.874007874011811, 7.280109889280518], \"xaxis\": \"x\", \"y\": [-165.0, -165.0, -182.5, -182.5], \"yaxis\": \"y\"}, {\"hoverinfo\": \"text\", \"marker\": {\"color\": \"rgb(61,153,112)\"}, \"mode\": \"lines\", \"type\": \"scatter\", \"x\": [0.0, 9.9498743710662, 9.9498743710662, 7.874007874011811], \"xaxis\": \"x\", \"y\": [-155.0, -155.0, -173.75, -173.75], \"yaxis\": \"y\"}, {\"hoverinfo\": \"text\", \"marker\": {\"color\": \"rgb(61,153,112)\"}, \"mode\": \"lines\", \"type\": \"scatter\", \"x\": [9.327379053088816, 11.0, 11.0, 9.9498743710662], \"xaxis\": \"x\", \"y\": [-132.5, -132.5, -164.375, -164.375], \"yaxis\": \"y\"}, {\"hoverinfo\": \"text\", \"marker\": {\"color\": \"rgb(61,153,112)\"}, \"mode\": \"lines\", \"type\": \"scatter\", \"x\": [0.0, 11.916375287812984, 11.916375287812984, 11.0], \"xaxis\": \"x\", \"y\": [-115.0, -115.0, -148.4375, -148.4375], \"yaxis\": \"y\"}, {\"hoverinfo\": \"text\", \"marker\": {\"color\": \"rgb(61,153,112)\"}, \"mode\": \"lines\", \"type\": \"scatter\", \"x\": [10.392304845413264, 13.674794331177344, 13.674794331177344, 11.916375287812984], \"xaxis\": \"x\", \"y\": [-90.0, -90.0, -131.71875, -131.71875], \"yaxis\": \"y\"}, {\"hoverinfo\": \"text\", \"marker\": {\"color\": \"rgb(61,153,112)\"}, \"mode\": \"lines\", \"type\": \"scatter\", \"x\": [0.0, 6.4031242374328485, 6.4031242374328485, 0.0], \"xaxis\": \"x\", \"y\": [-215.0, -215.0, -225.0, -225.0], \"yaxis\": \"y\"}, {\"hoverinfo\": \"text\", \"marker\": {\"color\": \"rgb(61,153,112)\"}, \"mode\": \"lines\", \"type\": \"scatter\", \"x\": [0.0, 12.083045973594572, 12.083045973594572, 0.0], \"xaxis\": \"x\", \"y\": [-235.0, -235.0, -245.0, -245.0], \"yaxis\": \"y\"}, {\"hoverinfo\": \"text\", \"marker\": {\"color\": \"rgb(61,153,112)\"}, \"mode\": \"lines\", \"type\": \"scatter\", \"x\": [6.4031242374328485, 13.564659966250536, 13.564659966250536, 12.083045973594572], \"xaxis\": \"x\", \"y\": [-220.0, -220.0, -240.0, -240.0], \"yaxis\": \"y\"}, {\"hoverinfo\": \"text\", \"marker\": {\"color\": \"rgb(61,153,112)\"}, \"mode\": \"lines\", \"type\": \"scatter\", \"x\": [0.0, 15.811388300841896, 15.811388300841896, 13.564659966250536], \"xaxis\": \"x\", \"y\": [-205.0, -205.0, -230.0, -230.0], \"yaxis\": \"y\"}, {\"hoverinfo\": \"text\", \"marker\": {\"color\": \"rgb(61,153,112)\"}, \"mode\": \"lines\", \"type\": \"scatter\", \"x\": [13.674794331177344, 16.73320053068151, 16.73320053068151, 15.811388300841896], \"xaxis\": \"x\", \"y\": [-110.859375, -110.859375, -217.5, -217.5], \"yaxis\": \"y\"}, {\"hoverinfo\": \"text\", \"marker\": {\"color\": \"rgb(61,153,112)\"}, \"mode\": \"lines\", \"type\": \"scatter\", \"x\": [12.609520212918492, 17.175564037317667, 17.175564037317667, 16.73320053068151], \"xaxis\": \"x\", \"y\": [-37.5, -37.5, -164.1796875, -164.1796875], \"yaxis\": \"y\"}, {\"hoverinfo\": \"text\", \"marker\": {\"color\": \"rgb(61,153,112)\"}, \"mode\": \"lines\", \"type\": \"scatter\", \"x\": [10.908712114635714, 18.49324200890693, 18.49324200890693, 17.175564037317667], \"xaxis\": \"x\", \"y\": [-10.0, -10.0, -100.83984375, -100.83984375], \"yaxis\": \"y\"}, {\"hoverinfo\": \"text\", \"marker\": {\"color\": \"rgb(61,153,112)\"}, \"mode\": \"lines\", \"type\": \"scatter\", \"x\": [0.0, 10.44030650891055, 10.44030650891055, 0.0], \"xaxis\": \"x\", \"y\": [-255.0, -255.0, -265.0, -265.0], \"yaxis\": \"y\"}, {\"hoverinfo\": \"text\", \"marker\": {\"color\": \"rgb(61,153,112)\"}, \"mode\": \"lines\", \"type\": \"scatter\", \"x\": [0.0, 12.0, 12.0, 0.0], \"xaxis\": \"x\", \"y\": [-275.0, -275.0, -285.0, -285.0], \"yaxis\": \"y\"}, {\"hoverinfo\": \"text\", \"marker\": {\"color\": \"rgb(61,153,112)\"}, \"mode\": \"lines\", \"type\": \"scatter\", \"x\": [0.0, 9.695359714832659, 9.695359714832659, 0.0], \"xaxis\": \"x\", \"y\": [-315.0, -315.0, -325.0, -325.0], \"yaxis\": \"y\"}, {\"hoverinfo\": \"text\", \"marker\": {\"color\": \"rgb(61,153,112)\"}, \"mode\": \"lines\", \"type\": \"scatter\", \"x\": [0.0, 11.40175425099138, 11.40175425099138, 9.695359714832659], \"xaxis\": \"x\", \"y\": [-305.0, -305.0, -320.0, -320.0], \"yaxis\": \"y\"}, {\"hoverinfo\": \"text\", \"marker\": {\"color\": \"rgb(61,153,112)\"}, \"mode\": \"lines\", \"type\": \"scatter\", \"x\": [0.0, 12.529964086141668, 12.529964086141668, 11.40175425099138], \"xaxis\": \"x\", \"y\": [-295.0, -295.0, -312.5, -312.5], \"yaxis\": \"y\"}, {\"hoverinfo\": \"text\", \"marker\": {\"color\": \"rgb(61,153,112)\"}, \"mode\": \"lines\", \"type\": \"scatter\", \"x\": [12.0, 14.832396974191326, 14.832396974191326, 12.529964086141668], \"xaxis\": \"x\", \"y\": [-280.0, -280.0, -303.75, -303.75], \"yaxis\": \"y\"}, {\"hoverinfo\": \"text\", \"marker\": {\"color\": \"rgb(61,153,112)\"}, \"mode\": \"lines\", \"type\": \"scatter\", \"x\": [0.0, 15.198684153570664, 15.198684153570664, 0.0], \"xaxis\": \"x\", \"y\": [-335.0, -335.0, -345.0, -345.0], \"yaxis\": \"y\"}, {\"hoverinfo\": \"text\", \"marker\": {\"color\": \"rgb(61,153,112)\"}, \"mode\": \"lines\", \"type\": \"scatter\", \"x\": [14.832396974191326, 17.320508075688775, 17.320508075688775, 15.198684153570664], \"xaxis\": \"x\", \"y\": [-291.875, -291.875, -340.0, -340.0], \"yaxis\": \"y\"}, {\"hoverinfo\": \"text\", \"marker\": {\"color\": \"rgb(61,153,112)\"}, \"mode\": \"lines\", \"type\": \"scatter\", \"x\": [10.44030650891055, 20.024984394500787, 20.024984394500787, 17.320508075688775], \"xaxis\": \"x\", \"y\": [-260.0, -260.0, -315.9375, -315.9375], \"yaxis\": \"y\"}, {\"hoverinfo\": \"text\", \"marker\": {\"color\": \"rgb(61,153,112)\"}, \"mode\": \"lines\", \"type\": \"scatter\", \"x\": [18.49324200890693, 24.392621835300936, 24.392621835300936, 20.024984394500787], \"xaxis\": \"x\", \"y\": [-55.419921875, -55.419921875, -287.96875, -287.96875], \"yaxis\": \"y\"}, {\"hoverinfo\": \"text\", \"marker\": {\"color\": \"rgb(255,65,54)\"}, \"mode\": \"lines\", \"type\": \"scatter\", \"x\": [0.0, 10.535653752852738, 10.535653752852738, 0.0], \"xaxis\": \"x\", \"y\": [-355.0, -355.0, -365.0, -365.0], \"yaxis\": \"y\"}, {\"hoverinfo\": \"text\", \"marker\": {\"color\": \"rgb(255,65,54)\"}, \"mode\": \"lines\", \"type\": \"scatter\", \"x\": [0.0, 14.966629547095765, 14.966629547095765, 0.0], \"xaxis\": \"x\", \"y\": [-375.0, -375.0, -385.0, -385.0], \"yaxis\": \"y\"}, {\"hoverinfo\": \"text\", \"marker\": {\"color\": \"rgb(255,65,54)\"}, \"mode\": \"lines\", \"type\": \"scatter\", \"x\": [10.535653752852738, 16.06237840420901, 16.06237840420901, 14.966629547095765], \"xaxis\": \"x\", \"y\": [-360.0, -360.0, -380.0, -380.0], \"yaxis\": \"y\"}, {\"hoverinfo\": \"text\", \"marker\": {\"color\": \"rgb(255,65,54)\"}, \"mode\": \"lines\", \"type\": \"scatter\", \"x\": [0.0, 8.426149773176359, 8.426149773176359, 0.0], \"xaxis\": \"x\", \"y\": [-425.0, -425.0, -435.0, -435.0], \"yaxis\": \"y\"}, {\"hoverinfo\": \"text\", \"marker\": {\"color\": \"rgb(255,65,54)\"}, \"mode\": \"lines\", \"type\": \"scatter\", \"x\": [0.0, 9.38083151964686, 9.38083151964686, 8.426149773176359], \"xaxis\": \"x\", \"y\": [-415.0, -415.0, -430.0, -430.0], \"yaxis\": \"y\"}, {\"hoverinfo\": \"text\", \"marker\": {\"color\": \"rgb(255,65,54)\"}, \"mode\": \"lines\", \"type\": \"scatter\", \"x\": [0.0, 10.954451150103322, 10.954451150103322, 9.38083151964686], \"xaxis\": \"x\", \"y\": [-405.0, -405.0, -422.5, -422.5], \"yaxis\": \"y\"}, {\"hoverinfo\": \"text\", \"marker\": {\"color\": \"rgb(255,65,54)\"}, \"mode\": \"lines\", \"type\": \"scatter\", \"x\": [0.0, 12.806248474865697, 12.806248474865697, 10.954451150103322], \"xaxis\": \"x\", \"y\": [-395.0, -395.0, -413.75, -413.75], \"yaxis\": \"y\"}, {\"hoverinfo\": \"text\", \"marker\": {\"color\": \"rgb(255,65,54)\"}, \"mode\": \"lines\", \"type\": \"scatter\", \"x\": [0.0, 8.18535277187245, 8.18535277187245, 0.0], \"xaxis\": \"x\", \"y\": [-455.0, -455.0, -465.0, -465.0], \"yaxis\": \"y\"}, {\"hoverinfo\": \"text\", \"marker\": {\"color\": \"rgb(255,65,54)\"}, \"mode\": \"lines\", \"type\": \"scatter\", \"x\": [0.0, 14.866068747318506, 14.866068747318506, 8.18535277187245], \"xaxis\": \"x\", \"y\": [-445.0, -445.0, -460.0, -460.0], \"yaxis\": \"y\"}, {\"hoverinfo\": \"text\", \"marker\": {\"color\": \"rgb(255,65,54)\"}, \"mode\": \"lines\", \"type\": \"scatter\", \"x\": [12.806248474865697, 16.24807680927192, 16.24807680927192, 14.866068747318506], \"xaxis\": \"x\", \"y\": [-404.375, -404.375, -452.5, -452.5], \"yaxis\": \"y\"}, {\"hoverinfo\": \"text\", \"marker\": {\"color\": \"rgb(255,65,54)\"}, \"mode\": \"lines\", \"type\": \"scatter\", \"x\": [16.06237840420901, 21.95449840010015, 21.95449840010015, 16.24807680927192], \"xaxis\": \"x\", \"y\": [-370.0, -370.0, -428.4375, -428.4375], \"yaxis\": \"y\"}, {\"hoverinfo\": \"text\", \"marker\": {\"color\": \"rgb(35,205,205)\"}, \"mode\": \"lines\", \"type\": \"scatter\", \"x\": [0.0, 7.280109889280518, 7.280109889280518, 0.0], \"xaxis\": \"x\", \"y\": [-495.0, -495.0, -505.0, -505.0], \"yaxis\": \"y\"}, {\"hoverinfo\": \"text\", \"marker\": {\"color\": \"rgb(35,205,205)\"}, \"mode\": \"lines\", \"type\": \"scatter\", \"x\": [0.0, 9.16515138991168, 9.16515138991168, 7.280109889280518], \"xaxis\": \"x\", \"y\": [-485.0, -485.0, -500.0, -500.0], \"yaxis\": \"y\"}, {\"hoverinfo\": \"text\", \"marker\": {\"color\": \"rgb(35,205,205)\"}, \"mode\": \"lines\", \"type\": \"scatter\", \"x\": [0.0, 10.04987562112089, 10.04987562112089, 0.0], \"xaxis\": \"x\", \"y\": [-525.0, -525.0, -535.0, -535.0], \"yaxis\": \"y\"}, {\"hoverinfo\": \"text\", \"marker\": {\"color\": \"rgb(35,205,205)\"}, \"mode\": \"lines\", \"type\": \"scatter\", \"x\": [0.0, 11.489125293076057, 11.489125293076057, 10.04987562112089], \"xaxis\": \"x\", \"y\": [-515.0, -515.0, -530.0, -530.0], \"yaxis\": \"y\"}, {\"hoverinfo\": \"text\", \"marker\": {\"color\": \"rgb(35,205,205)\"}, \"mode\": \"lines\", \"type\": \"scatter\", \"x\": [0.0, 12.0, 12.0, 0.0], \"xaxis\": \"x\", \"y\": [-545.0, -545.0, -555.0, -555.0], \"yaxis\": \"y\"}, {\"hoverinfo\": \"text\", \"marker\": {\"color\": \"rgb(35,205,205)\"}, \"mode\": \"lines\", \"type\": \"scatter\", \"x\": [11.489125293076057, 14.560219778561036, 14.560219778561036, 12.0], \"xaxis\": \"x\", \"y\": [-522.5, -522.5, -550.0, -550.0], \"yaxis\": \"y\"}, {\"hoverinfo\": \"text\", \"marker\": {\"color\": \"rgb(35,205,205)\"}, \"mode\": \"lines\", \"type\": \"scatter\", \"x\": [9.16515138991168, 16.34013463836819, 16.34013463836819, 14.560219778561036], \"xaxis\": \"x\", \"y\": [-492.5, -492.5, -536.25, -536.25], \"yaxis\": \"y\"}, {\"hoverinfo\": \"text\", \"marker\": {\"color\": \"rgb(35,205,205)\"}, \"mode\": \"lines\", \"type\": \"scatter\", \"x\": [0.0, 6.708203932499369, 6.708203932499369, 0.0], \"xaxis\": \"x\", \"y\": [-565.0, -565.0, -575.0, -575.0], \"yaxis\": \"y\"}, {\"hoverinfo\": \"text\", \"marker\": {\"color\": \"rgb(35,205,205)\"}, \"mode\": \"lines\", \"type\": \"scatter\", \"x\": [0.0, 9.848857801796104, 9.848857801796104, 0.0], \"xaxis\": \"x\", \"y\": [-585.0, -585.0, -595.0, -595.0], \"yaxis\": \"y\"}, {\"hoverinfo\": \"text\", \"marker\": {\"color\": \"rgb(35,205,205)\"}, \"mode\": \"lines\", \"type\": \"scatter\", \"x\": [6.708203932499369, 11.61895003862225, 11.61895003862225, 9.848857801796104], \"xaxis\": \"x\", \"y\": [-570.0, -570.0, -590.0, -590.0], \"yaxis\": \"y\"}, {\"hoverinfo\": \"text\", \"marker\": {\"color\": \"rgb(35,205,205)\"}, \"mode\": \"lines\", \"type\": \"scatter\", \"x\": [0.0, 5.656854249492381, 5.656854249492381, 0.0], \"xaxis\": \"x\", \"y\": [-635.0, -635.0, -645.0, -645.0], \"yaxis\": \"y\"}, {\"hoverinfo\": \"text\", \"marker\": {\"color\": \"rgb(35,205,205)\"}, \"mode\": \"lines\", \"type\": \"scatter\", \"x\": [0.0, 9.0, 9.0, 5.656854249492381], \"xaxis\": \"x\", \"y\": [-625.0, -625.0, -640.0, -640.0], \"yaxis\": \"y\"}, {\"hoverinfo\": \"text\", \"marker\": {\"color\": \"rgb(35,205,205)\"}, \"mode\": \"lines\", \"type\": \"scatter\", \"x\": [0.0, 9.797958971132712, 9.797958971132712, 9.0], \"xaxis\": \"x\", \"y\": [-615.0, -615.0, -632.5, -632.5], \"yaxis\": \"y\"}, {\"hoverinfo\": \"text\", \"marker\": {\"color\": \"rgb(35,205,205)\"}, \"mode\": \"lines\", \"type\": \"scatter\", \"x\": [0.0, 13.341664064126334, 13.341664064126334, 9.797958971132712], \"xaxis\": \"x\", \"y\": [-605.0, -605.0, -623.75, -623.75], \"yaxis\": \"y\"}, {\"hoverinfo\": \"text\", \"marker\": {\"color\": \"rgb(35,205,205)\"}, \"mode\": \"lines\", \"type\": \"scatter\", \"x\": [0.0, 10.583005244258363, 10.583005244258363, 0.0], \"xaxis\": \"x\", \"y\": [-655.0, -655.0, -665.0, -665.0], \"yaxis\": \"y\"}, {\"hoverinfo\": \"text\", \"marker\": {\"color\": \"rgb(35,205,205)\"}, \"mode\": \"lines\", \"type\": \"scatter\", \"x\": [0.0, 8.12403840463596, 8.12403840463596, 0.0], \"xaxis\": \"x\", \"y\": [-685.0, -685.0, -695.0, -695.0], \"yaxis\": \"y\"}, {\"hoverinfo\": \"text\", \"marker\": {\"color\": \"rgb(35,205,205)\"}, \"mode\": \"lines\", \"type\": \"scatter\", \"x\": [0.0, 11.0, 11.0, 8.12403840463596], \"xaxis\": \"x\", \"y\": [-675.0, -675.0, -690.0, -690.0], \"yaxis\": \"y\"}, {\"hoverinfo\": \"text\", \"marker\": {\"color\": \"rgb(35,205,205)\"}, \"mode\": \"lines\", \"type\": \"scatter\", \"x\": [10.583005244258363, 14.142135623730951, 14.142135623730951, 11.0], \"xaxis\": \"x\", \"y\": [-660.0, -660.0, -682.5, -682.5], \"yaxis\": \"y\"}, {\"hoverinfo\": \"text\", \"marker\": {\"color\": \"rgb(35,205,205)\"}, \"mode\": \"lines\", \"type\": \"scatter\", \"x\": [13.341664064126334, 15.7797338380595, 15.7797338380595, 14.142135623730951], \"xaxis\": \"x\", \"y\": [-614.375, -614.375, -671.25, -671.25], \"yaxis\": \"y\"}, {\"hoverinfo\": \"text\", \"marker\": {\"color\": \"rgb(35,205,205)\"}, \"mode\": \"lines\", \"type\": \"scatter\", \"x\": [11.61895003862225, 16.97056274847714, 16.97056274847714, 15.7797338380595], \"xaxis\": \"x\", \"y\": [-580.0, -580.0, -642.8125, -642.8125], \"yaxis\": \"y\"}, {\"hoverinfo\": \"text\", \"marker\": {\"color\": \"rgb(35,205,205)\"}, \"mode\": \"lines\", \"type\": \"scatter\", \"x\": [16.34013463836819, 19.131126469708992, 19.131126469708992, 16.97056274847714], \"xaxis\": \"x\", \"y\": [-514.375, -514.375, -611.40625, -611.40625], \"yaxis\": \"y\"}, {\"hoverinfo\": \"text\", \"marker\": {\"color\": \"rgb(35,205,205)\"}, \"mode\": \"lines\", \"type\": \"scatter\", \"x\": [0.0, 23.49468024894146, 23.49468024894146, 19.131126469708992], \"xaxis\": \"x\", \"y\": [-475.0, -475.0, -562.890625, -562.890625], \"yaxis\": \"y\"}, {\"hoverinfo\": \"text\", \"marker\": {\"color\": \"rgb(0,116,217)\"}, \"mode\": \"lines\", \"type\": \"scatter\", \"x\": [21.95449840010015, 25.96150997149434, 25.96150997149434, 23.49468024894146], \"xaxis\": \"x\", \"y\": [-399.21875, -399.21875, -518.9453125, -518.9453125], \"yaxis\": \"y\"}, {\"hoverinfo\": \"text\", \"marker\": {\"color\": \"rgb(0,116,217)\"}, \"mode\": \"lines\", \"type\": \"scatter\", \"x\": [24.392621835300936, 26.419689627245813, 26.419689627245813, 25.96150997149434], \"xaxis\": \"x\", \"y\": [-171.6943359375, -171.6943359375, -459.08203125, -459.08203125], \"yaxis\": \"y\"}, {\"hoverinfo\": \"text\", \"marker\": {\"color\": \"rgb(133,20,75)\"}, \"mode\": \"lines\", \"type\": \"scatter\", \"x\": [0.0, 8.06225774829855, 8.06225774829855, 0.0], \"xaxis\": \"x\", \"y\": [-705.0, -705.0, -715.0, -715.0], \"yaxis\": \"y\"}, {\"hoverinfo\": \"text\", \"marker\": {\"color\": \"rgb(133,20,75)\"}, \"mode\": \"lines\", \"type\": \"scatter\", \"x\": [0.0, 7.14142842854285, 7.14142842854285, 0.0], \"xaxis\": \"x\", \"y\": [-735.0, -735.0, -745.0, -745.0], \"yaxis\": \"y\"}, {\"hoverinfo\": \"text\", \"marker\": {\"color\": \"rgb(133,20,75)\"}, \"mode\": \"lines\", \"type\": \"scatter\", \"x\": [0.0, 9.486832980505138, 9.486832980505138, 7.14142842854285], \"xaxis\": \"x\", \"y\": [-725.0, -725.0, -740.0, -740.0], \"yaxis\": \"y\"}, {\"hoverinfo\": \"text\", \"marker\": {\"color\": \"rgb(133,20,75)\"}, \"mode\": \"lines\", \"type\": \"scatter\", \"x\": [8.06225774829855, 11.532562594670797, 11.532562594670797, 9.486832980505138], \"xaxis\": \"x\", \"y\": [-710.0, -710.0, -732.5, -732.5], \"yaxis\": \"y\"}, {\"hoverinfo\": \"text\", \"marker\": {\"color\": \"rgb(133,20,75)\"}, \"mode\": \"lines\", \"type\": \"scatter\", \"x\": [0.0, 12.922847983320086, 12.922847983320086, 0.0], \"xaxis\": \"x\", \"y\": [-755.0, -755.0, -765.0, -765.0], \"yaxis\": \"y\"}, {\"hoverinfo\": \"text\", \"marker\": {\"color\": \"rgb(133,20,75)\"}, \"mode\": \"lines\", \"type\": \"scatter\", \"x\": [11.532562594670797, 14.491376746189438, 14.491376746189438, 12.922847983320086], \"xaxis\": \"x\", \"y\": [-721.25, -721.25, -760.0, -760.0], \"yaxis\": \"y\"}, {\"hoverinfo\": \"text\", \"marker\": {\"color\": \"rgb(133,20,75)\"}, \"mode\": \"lines\", \"type\": \"scatter\", \"x\": [0.0, 16.46207763315433, 16.46207763315433, 0.0], \"xaxis\": \"x\", \"y\": [-775.0, -775.0, -785.0, -785.0], \"yaxis\": \"y\"}, {\"hoverinfo\": \"text\", \"marker\": {\"color\": \"rgb(133,20,75)\"}, \"mode\": \"lines\", \"type\": \"scatter\", \"x\": [14.491376746189438, 21.748563170931547, 21.748563170931547, 16.46207763315433], \"xaxis\": \"x\", \"y\": [-740.625, -740.625, -780.0, -780.0], \"yaxis\": \"y\"}, {\"hoverinfo\": \"text\", \"marker\": {\"color\": \"rgb(255,220,0)\"}, \"mode\": \"lines\", \"type\": \"scatter\", \"x\": [0.0, 5.656854249492381, 5.656854249492381, 0.0], \"xaxis\": \"x\", \"y\": [-805.0, -805.0, -815.0, -815.0], \"yaxis\": \"y\"}, {\"hoverinfo\": \"text\", \"marker\": {\"color\": \"rgb(255,220,0)\"}, \"mode\": \"lines\", \"type\": \"scatter\", \"x\": [0.0, 10.295630140987, 10.295630140987, 5.656854249492381], \"xaxis\": \"x\", \"y\": [-795.0, -795.0, -810.0, -810.0], \"yaxis\": \"y\"}, {\"hoverinfo\": \"text\", \"marker\": {\"color\": \"rgb(255,220,0)\"}, \"mode\": \"lines\", \"type\": \"scatter\", \"x\": [0.0, 11.489125293076057, 11.489125293076057, 0.0], \"xaxis\": \"x\", \"y\": [-825.0, -825.0, -835.0, -835.0], \"yaxis\": \"y\"}, {\"hoverinfo\": \"text\", \"marker\": {\"color\": \"rgb(255,220,0)\"}, \"mode\": \"lines\", \"type\": \"scatter\", \"x\": [10.295630140987, 13.076696830622021, 13.076696830622021, 11.489125293076057], \"xaxis\": \"x\", \"y\": [-802.5, -802.5, -830.0, -830.0], \"yaxis\": \"y\"}, {\"hoverinfo\": \"text\", \"marker\": {\"color\": \"rgb(255,220,0)\"}, \"mode\": \"lines\", \"type\": \"scatter\", \"x\": [0.0, 14.106735979665885, 14.106735979665885, 0.0], \"xaxis\": \"x\", \"y\": [-845.0, -845.0, -855.0, -855.0], \"yaxis\": \"y\"}, {\"hoverinfo\": \"text\", \"marker\": {\"color\": \"rgb(255,220,0)\"}, \"mode\": \"lines\", \"type\": \"scatter\", \"x\": [13.076696830622021, 14.560219778561036, 14.560219778561036, 14.106735979665885], \"xaxis\": \"x\", \"y\": [-816.25, -816.25, -850.0, -850.0], \"yaxis\": \"y\"}, {\"hoverinfo\": \"text\", \"marker\": {\"color\": \"rgb(255,220,0)\"}, \"mode\": \"lines\", \"type\": \"scatter\", \"x\": [0.0, 4.898979485566356, 4.898979485566356, 0.0], \"xaxis\": \"x\", \"y\": [-895.0, -895.0, -905.0, -905.0], \"yaxis\": \"y\"}, {\"hoverinfo\": \"text\", \"marker\": {\"color\": \"rgb(255,220,0)\"}, \"mode\": \"lines\", \"type\": \"scatter\", \"x\": [0.0, 7.615773105863909, 7.615773105863909, 4.898979485566356], \"xaxis\": \"x\", \"y\": [-885.0, -885.0, -900.0, -900.0], \"yaxis\": \"y\"}, {\"hoverinfo\": \"text\", \"marker\": {\"color\": \"rgb(255,220,0)\"}, \"mode\": \"lines\", \"type\": \"scatter\", \"x\": [0.0, 9.695359714832659, 9.695359714832659, 7.615773105863909], \"xaxis\": \"x\", \"y\": [-875.0, -875.0, -892.5, -892.5], \"yaxis\": \"y\"}, {\"hoverinfo\": \"text\", \"marker\": {\"color\": \"rgb(255,220,0)\"}, \"mode\": \"lines\", \"type\": \"scatter\", \"x\": [0.0, 12.922847983320086, 12.922847983320086, 9.695359714832659], \"xaxis\": \"x\", \"y\": [-865.0, -865.0, -883.75, -883.75], \"yaxis\": \"y\"}, {\"hoverinfo\": \"text\", \"marker\": {\"color\": \"rgb(255,220,0)\"}, \"mode\": \"lines\", \"type\": \"scatter\", \"x\": [0.0, 6.0, 6.0, 0.0], \"xaxis\": \"x\", \"y\": [-925.0, -925.0, -935.0, -935.0], \"yaxis\": \"y\"}, {\"hoverinfo\": \"text\", \"marker\": {\"color\": \"rgb(255,220,0)\"}, \"mode\": \"lines\", \"type\": \"scatter\", \"x\": [0.0, 8.0, 8.0, 6.0], \"xaxis\": \"x\", \"y\": [-915.0, -915.0, -930.0, -930.0], \"yaxis\": \"y\"}, {\"hoverinfo\": \"text\", \"marker\": {\"color\": \"rgb(255,220,0)\"}, \"mode\": \"lines\", \"type\": \"scatter\", \"x\": [0.0, 7.280109889280518, 7.280109889280518, 0.0], \"xaxis\": \"x\", \"y\": [-965.0, -965.0, -975.0, -975.0], \"yaxis\": \"y\"}, {\"hoverinfo\": \"text\", \"marker\": {\"color\": \"rgb(255,220,0)\"}, \"mode\": \"lines\", \"type\": \"scatter\", \"x\": [0.0, 10.816653826391969, 10.816653826391969, 7.280109889280518], \"xaxis\": \"x\", \"y\": [-955.0, -955.0, -970.0, -970.0], \"yaxis\": \"y\"}, {\"hoverinfo\": \"text\", \"marker\": {\"color\": \"rgb(255,220,0)\"}, \"mode\": \"lines\", \"type\": \"scatter\", \"x\": [0.0, 12.96148139681572, 12.96148139681572, 10.816653826391969], \"xaxis\": \"x\", \"y\": [-945.0, -945.0, -962.5, -962.5], \"yaxis\": \"y\"}, {\"hoverinfo\": \"text\", \"marker\": {\"color\": \"rgb(255,220,0)\"}, \"mode\": \"lines\", \"type\": \"scatter\", \"x\": [8.0, 13.527749258468683, 13.527749258468683, 12.96148139681572], \"xaxis\": \"x\", \"y\": [-922.5, -922.5, -953.75, -953.75], \"yaxis\": \"y\"}, {\"hoverinfo\": \"text\", \"marker\": {\"color\": \"rgb(255,220,0)\"}, \"mode\": \"lines\", \"type\": \"scatter\", \"x\": [12.922847983320086, 15.7797338380595, 15.7797338380595, 13.527749258468683], \"xaxis\": \"x\", \"y\": [-874.375, -874.375, -938.125, -938.125], \"yaxis\": \"y\"}, {\"hoverinfo\": \"text\", \"marker\": {\"color\": \"rgb(255,220,0)\"}, \"mode\": \"lines\", \"type\": \"scatter\", \"x\": [14.560219778561036, 18.138357147217054, 18.138357147217054, 15.7797338380595], \"xaxis\": \"x\", \"y\": [-833.125, -833.125, -906.25, -906.25], \"yaxis\": \"y\"}, {\"hoverinfo\": \"text\", \"marker\": {\"color\": \"rgb(40,35,35)\"}, \"mode\": \"lines\", \"type\": \"scatter\", \"x\": [0.0, 11.313708498984761, 11.313708498984761, 0.0], \"xaxis\": \"x\", \"y\": [-985.0, -985.0, -995.0, -995.0], \"yaxis\": \"y\"}, {\"hoverinfo\": \"text\", \"marker\": {\"color\": \"rgb(40,35,35)\"}, \"mode\": \"lines\", \"type\": \"scatter\", \"x\": [0.0, 9.695359714832659, 9.695359714832659, 0.0], \"xaxis\": \"x\", \"y\": [-1025.0, -1025.0, -1035.0, -1035.0], \"yaxis\": \"y\"}, {\"hoverinfo\": \"text\", \"marker\": {\"color\": \"rgb(40,35,35)\"}, \"mode\": \"lines\", \"type\": \"scatter\", \"x\": [0.0, 11.958260743101398, 11.958260743101398, 9.695359714832659], \"xaxis\": \"x\", \"y\": [-1015.0, -1015.0, -1030.0, -1030.0], \"yaxis\": \"y\"}, {\"hoverinfo\": \"text\", \"marker\": {\"color\": \"rgb(40,35,35)\"}, \"mode\": \"lines\", \"type\": \"scatter\", \"x\": [0.0, 9.797958971132712, 9.797958971132712, 0.0], \"xaxis\": \"x\", \"y\": [-1065.0, -1065.0, -1075.0, -1075.0], \"yaxis\": \"y\"}, {\"hoverinfo\": \"text\", \"marker\": {\"color\": \"rgb(40,35,35)\"}, \"mode\": \"lines\", \"type\": \"scatter\", \"x\": [0.0, 12.727922061357855, 12.727922061357855, 9.797958971132712], \"xaxis\": \"x\", \"y\": [-1055.0, -1055.0, -1070.0, -1070.0], \"yaxis\": \"y\"}, {\"hoverinfo\": \"text\", \"marker\": {\"color\": \"rgb(40,35,35)\"}, \"mode\": \"lines\", \"type\": \"scatter\", \"x\": [0.0, 14.89966442575134, 14.89966442575134, 12.727922061357855], \"xaxis\": \"x\", \"y\": [-1045.0, -1045.0, -1062.5, -1062.5], \"yaxis\": \"y\"}, {\"hoverinfo\": \"text\", \"marker\": {\"color\": \"rgb(40,35,35)\"}, \"mode\": \"lines\", \"type\": \"scatter\", \"x\": [11.958260743101398, 16.186414056238647, 16.186414056238647, 14.89966442575134], \"xaxis\": \"x\", \"y\": [-1022.5, -1022.5, -1053.75, -1053.75], \"yaxis\": \"y\"}, {\"hoverinfo\": \"text\", \"marker\": {\"color\": \"rgb(40,35,35)\"}, \"mode\": \"lines\", \"type\": \"scatter\", \"x\": [0.0, 17.26267650163207, 17.26267650163207, 16.186414056238647], \"xaxis\": \"x\", \"y\": [-1005.0, -1005.0, -1038.125, -1038.125], \"yaxis\": \"y\"}, {\"hoverinfo\": \"text\", \"marker\": {\"color\": \"rgb(40,35,35)\"}, \"mode\": \"lines\", \"type\": \"scatter\", \"x\": [11.313708498984761, 21.118712081942874, 21.118712081942874, 17.26267650163207], \"xaxis\": \"x\", \"y\": [-990.0, -990.0, -1021.5625, -1021.5625], \"yaxis\": \"y\"}, {\"hoverinfo\": \"text\", \"marker\": {\"color\": \"rgb(0,116,217)\"}, \"mode\": \"lines\", \"type\": \"scatter\", \"x\": [18.138357147217054, 24.859605789312106, 24.859605789312106, 21.118712081942874], \"xaxis\": \"x\", \"y\": [-869.6875, -869.6875, -1005.78125, -1005.78125], \"yaxis\": \"y\"}, {\"hoverinfo\": \"text\", \"marker\": {\"color\": \"rgb(0,116,217)\"}, \"mode\": \"lines\", \"type\": \"scatter\", \"x\": [21.748563170931547, 29.257477676655586, 29.257477676655586, 24.859605789312106], \"xaxis\": \"x\", \"y\": [-760.3125, -760.3125, -937.734375, -937.734375], \"yaxis\": \"y\"}, {\"hoverinfo\": \"text\", \"marker\": {\"color\": \"rgb(0,116,217)\"}, \"mode\": \"lines\", \"type\": \"scatter\", \"x\": [26.419689627245813, 31.240998703626616, 31.240998703626616, 29.257477676655586], \"xaxis\": \"x\", \"y\": [-315.38818359375, -315.38818359375, -849.0234375, -849.0234375], \"yaxis\": \"y\"}, {\"hoverinfo\": \"text\", \"marker\": {\"color\": \"rgb(61,153,112)\"}, \"mode\": \"lines\", \"type\": \"scatter\", \"x\": [0.0, 7.874007874011811, 7.874007874011811, 0.0], \"xaxis\": \"x\", \"y\": [-1085.0, -1085.0, -1095.0, -1095.0], \"yaxis\": \"y\"}, {\"hoverinfo\": \"text\", \"marker\": {\"color\": \"rgb(61,153,112)\"}, \"mode\": \"lines\", \"type\": \"scatter\", \"x\": [0.0, 4.358898943540674, 4.358898943540674, 0.0], \"xaxis\": \"x\", \"y\": [-1105.0, -1105.0, -1115.0, -1115.0], \"yaxis\": \"y\"}, {\"hoverinfo\": \"text\", \"marker\": {\"color\": \"rgb(61,153,112)\"}, \"mode\": \"lines\", \"type\": \"scatter\", \"x\": [0.0, 3.4641016151377544, 3.4641016151377544, 0.0], \"xaxis\": \"x\", \"y\": [-1145.0, -1145.0, -1155.0, -1155.0], \"yaxis\": \"y\"}, {\"hoverinfo\": \"text\", \"marker\": {\"color\": \"rgb(61,153,112)\"}, \"mode\": \"lines\", \"type\": \"scatter\", \"x\": [0.0, 6.6332495807108, 6.6332495807108, 3.4641016151377544], \"xaxis\": \"x\", \"y\": [-1135.0, -1135.0, -1150.0, -1150.0], \"yaxis\": \"y\"}, {\"hoverinfo\": \"text\", \"marker\": {\"color\": \"rgb(61,153,112)\"}, \"mode\": \"lines\", \"type\": \"scatter\", \"x\": [0.0, 9.0, 9.0, 6.6332495807108], \"xaxis\": \"x\", \"y\": [-1125.0, -1125.0, -1142.5, -1142.5], \"yaxis\": \"y\"}, {\"hoverinfo\": \"text\", \"marker\": {\"color\": \"rgb(61,153,112)\"}, \"mode\": \"lines\", \"type\": \"scatter\", \"x\": [4.358898943540674, 10.198039027185569, 10.198039027185569, 9.0], \"xaxis\": \"x\", \"y\": [-1110.0, -1110.0, -1133.75, -1133.75], \"yaxis\": \"y\"}, {\"hoverinfo\": \"text\", \"marker\": {\"color\": \"rgb(61,153,112)\"}, \"mode\": \"lines\", \"type\": \"scatter\", \"x\": [7.874007874011811, 15.297058540778355, 15.297058540778355, 10.198039027185569], \"xaxis\": \"x\", \"y\": [-1090.0, -1090.0, -1121.875, -1121.875], \"yaxis\": \"y\"}, {\"hoverinfo\": \"text\", \"marker\": {\"color\": \"rgb(61,153,112)\"}, \"mode\": \"lines\", \"type\": \"scatter\", \"x\": [0.0, 8.0, 8.0, 0.0], \"xaxis\": \"x\", \"y\": [-1175.0, -1175.0, -1185.0, -1185.0], \"yaxis\": \"y\"}, {\"hoverinfo\": \"text\", \"marker\": {\"color\": \"rgb(61,153,112)\"}, \"mode\": \"lines\", \"type\": \"scatter\", \"x\": [0.0, 8.831760866327848, 8.831760866327848, 8.0], \"xaxis\": \"x\", \"y\": [-1165.0, -1165.0, -1180.0, -1180.0], \"yaxis\": \"y\"}, {\"hoverinfo\": \"text\", \"marker\": {\"color\": \"rgb(61,153,112)\"}, \"mode\": \"lines\", \"type\": \"scatter\", \"x\": [0.0, 5.5677643628300215, 5.5677643628300215, 0.0], \"xaxis\": \"x\", \"y\": [-1195.0, -1195.0, -1205.0, -1205.0], \"yaxis\": \"y\"}, {\"hoverinfo\": \"text\", \"marker\": {\"color\": \"rgb(61,153,112)\"}, \"mode\": \"lines\", \"type\": \"scatter\", \"x\": [0.0, 8.660254037844387, 8.660254037844387, 0.0], \"xaxis\": \"x\", \"y\": [-1215.0, -1215.0, -1225.0, -1225.0], \"yaxis\": \"y\"}, {\"hoverinfo\": \"text\", \"marker\": {\"color\": \"rgb(61,153,112)\"}, \"mode\": \"lines\", \"type\": \"scatter\", \"x\": [5.5677643628300215, 10.099504938362077, 10.099504938362077, 8.660254037844387], \"xaxis\": \"x\", \"y\": [-1200.0, -1200.0, -1220.0, -1220.0], \"yaxis\": \"y\"}, {\"hoverinfo\": \"text\", \"marker\": {\"color\": \"rgb(61,153,112)\"}, \"mode\": \"lines\", \"type\": \"scatter\", \"x\": [0.0, 8.94427190999916, 8.94427190999916, 0.0], \"xaxis\": \"x\", \"y\": [-1245.0, -1245.0, -1255.0, -1255.0], \"yaxis\": \"y\"}, {\"hoverinfo\": \"text\", \"marker\": {\"color\": \"rgb(61,153,112)\"}, \"mode\": \"lines\", \"type\": \"scatter\", \"x\": [0.0, 10.723805294763608, 10.723805294763608, 8.94427190999916], \"xaxis\": \"x\", \"y\": [-1235.0, -1235.0, -1250.0, -1250.0], \"yaxis\": \"y\"}, {\"hoverinfo\": \"text\", \"marker\": {\"color\": \"rgb(61,153,112)\"}, \"mode\": \"lines\", \"type\": \"scatter\", \"x\": [10.099504938362077, 12.206555615733702, 12.206555615733702, 10.723805294763608], \"xaxis\": \"x\", \"y\": [-1210.0, -1210.0, -1242.5, -1242.5], \"yaxis\": \"y\"}, {\"hoverinfo\": \"text\", \"marker\": {\"color\": \"rgb(61,153,112)\"}, \"mode\": \"lines\", \"type\": \"scatter\", \"x\": [8.831760866327848, 13.228756555322953, 13.228756555322953, 12.206555615733702], \"xaxis\": \"x\", \"y\": [-1172.5, -1172.5, -1226.25, -1226.25], \"yaxis\": \"y\"}, {\"hoverinfo\": \"text\", \"marker\": {\"color\": \"rgb(61,153,112)\"}, \"mode\": \"lines\", \"type\": \"scatter\", \"x\": [0.0, 10.954451150103322, 10.954451150103322, 0.0], \"xaxis\": \"x\", \"y\": [-1265.0, -1265.0, -1275.0, -1275.0], \"yaxis\": \"y\"}, {\"hoverinfo\": \"text\", \"marker\": {\"color\": \"rgb(61,153,112)\"}, \"mode\": \"lines\", \"type\": \"scatter\", \"x\": [0.0, 9.899494936611665, 9.899494936611665, 0.0], \"xaxis\": \"x\", \"y\": [-1295.0, -1295.0, -1305.0, -1305.0], \"yaxis\": \"y\"}, {\"hoverinfo\": \"text\", \"marker\": {\"color\": \"rgb(61,153,112)\"}, \"mode\": \"lines\", \"type\": \"scatter\", \"x\": [0.0, 11.489125293076057, 11.489125293076057, 9.899494936611665], \"xaxis\": \"x\", \"y\": [-1285.0, -1285.0, -1300.0, -1300.0], \"yaxis\": \"y\"}, {\"hoverinfo\": \"text\", \"marker\": {\"color\": \"rgb(61,153,112)\"}, \"mode\": \"lines\", \"type\": \"scatter\", \"x\": [0.0, 9.0, 9.0, 0.0], \"xaxis\": \"x\", \"y\": [-1315.0, -1315.0, -1325.0, -1325.0], \"yaxis\": \"y\"}, {\"hoverinfo\": \"text\", \"marker\": {\"color\": \"rgb(61,153,112)\"}, \"mode\": \"lines\", \"type\": \"scatter\", \"x\": [0.0, 9.539392014169456, 9.539392014169456, 0.0], \"xaxis\": \"x\", \"y\": [-1335.0, -1335.0, -1345.0, -1345.0], \"yaxis\": \"y\"}, {\"hoverinfo\": \"text\", \"marker\": {\"color\": \"rgb(61,153,112)\"}, \"mode\": \"lines\", \"type\": \"scatter\", \"x\": [9.0, 13.152946437965905, 13.152946437965905, 9.539392014169456], \"xaxis\": \"x\", \"y\": [-1320.0, -1320.0, -1340.0, -1340.0], \"yaxis\": \"y\"}, {\"hoverinfo\": \"text\", \"marker\": {\"color\": \"rgb(61,153,112)\"}, \"mode\": \"lines\", \"type\": \"scatter\", \"x\": [11.489125293076057, 14.2828568570857, 14.2828568570857, 13.152946437965905], \"xaxis\": \"x\", \"y\": [-1292.5, -1292.5, -1330.0, -1330.0], \"yaxis\": \"y\"}, {\"hoverinfo\": \"text\", \"marker\": {\"color\": \"rgb(61,153,112)\"}, \"mode\": \"lines\", \"type\": \"scatter\", \"x\": [10.954451150103322, 15.198684153570664, 15.198684153570664, 14.2828568570857], \"xaxis\": \"x\", \"y\": [-1270.0, -1270.0, -1311.25, -1311.25], \"yaxis\": \"y\"}, {\"hoverinfo\": \"text\", \"marker\": {\"color\": \"rgb(61,153,112)\"}, \"mode\": \"lines\", \"type\": \"scatter\", \"x\": [13.228756555322953, 16.278820596099706, 16.278820596099706, 15.198684153570664], \"xaxis\": \"x\", \"y\": [-1199.375, -1199.375, -1290.625, -1290.625], \"yaxis\": \"y\"}, {\"hoverinfo\": \"text\", \"marker\": {\"color\": \"rgb(61,153,112)\"}, \"mode\": \"lines\", \"type\": \"scatter\", \"x\": [15.297058540778355, 18.894443627691185, 18.894443627691185, 16.278820596099706], \"xaxis\": \"x\", \"y\": [-1105.9375, -1105.9375, -1245.0, -1245.0], \"yaxis\": \"y\"}, {\"hoverinfo\": \"text\", \"marker\": {\"color\": \"rgb(255,65,54)\"}, \"mode\": \"lines\", \"type\": \"scatter\", \"x\": [0.0, 11.0, 11.0, 0.0], \"xaxis\": \"x\", \"y\": [-1355.0, -1355.0, -1365.0, -1365.0], \"yaxis\": \"y\"}, {\"hoverinfo\": \"text\", \"marker\": {\"color\": \"rgb(255,65,54)\"}, \"mode\": \"lines\", \"type\": \"scatter\", \"x\": [0.0, 11.180339887498949, 11.180339887498949, 0.0], \"xaxis\": \"x\", \"y\": [-1375.0, -1375.0, -1385.0, -1385.0], \"yaxis\": \"y\"}, {\"hoverinfo\": \"text\", \"marker\": {\"color\": \"rgb(255,65,54)\"}, \"mode\": \"lines\", \"type\": \"scatter\", \"x\": [0.0, 9.797958971132712, 9.797958971132712, 0.0], \"xaxis\": \"x\", \"y\": [-1405.0, -1405.0, -1415.0, -1415.0], \"yaxis\": \"y\"}, {\"hoverinfo\": \"text\", \"marker\": {\"color\": \"rgb(255,65,54)\"}, \"mode\": \"lines\", \"type\": \"scatter\", \"x\": [0.0, 12.68857754044952, 12.68857754044952, 9.797958971132712], \"xaxis\": \"x\", \"y\": [-1395.0, -1395.0, -1410.0, -1410.0], \"yaxis\": \"y\"}, {\"hoverinfo\": \"text\", \"marker\": {\"color\": \"rgb(255,65,54)\"}, \"mode\": \"lines\", \"type\": \"scatter\", \"x\": [11.180339887498949, 14.52583904633395, 14.52583904633395, 12.68857754044952], \"xaxis\": \"x\", \"y\": [-1380.0, -1380.0, -1402.5, -1402.5], \"yaxis\": \"y\"}, {\"hoverinfo\": \"text\", \"marker\": {\"color\": \"rgb(255,65,54)\"}, \"mode\": \"lines\", \"type\": \"scatter\", \"x\": [0.0, 9.695359714832659, 9.695359714832659, 0.0], \"xaxis\": \"x\", \"y\": [-1425.0, -1425.0, -1435.0, -1435.0], \"yaxis\": \"y\"}, {\"hoverinfo\": \"text\", \"marker\": {\"color\": \"rgb(255,65,54)\"}, \"mode\": \"lines\", \"type\": \"scatter\", \"x\": [0.0, 9.16515138991168, 9.16515138991168, 0.0], \"xaxis\": \"x\", \"y\": [-1445.0, -1445.0, -1455.0, -1455.0], \"yaxis\": \"y\"}, {\"hoverinfo\": \"text\", \"marker\": {\"color\": \"rgb(255,65,54)\"}, \"mode\": \"lines\", \"type\": \"scatter\", \"x\": [0.0, 8.48528137423857, 8.48528137423857, 0.0], \"xaxis\": \"x\", \"y\": [-1465.0, -1465.0, -1475.0, -1475.0], \"yaxis\": \"y\"}, {\"hoverinfo\": \"text\", \"marker\": {\"color\": \"rgb(255,65,54)\"}, \"mode\": \"lines\", \"type\": \"scatter\", \"x\": [0.0, 6.708203932499369, 6.708203932499369, 0.0], \"xaxis\": \"x\", \"y\": [-1495.0, -1495.0, -1505.0, -1505.0], \"yaxis\": \"y\"}, {\"hoverinfo\": \"text\", \"marker\": {\"color\": \"rgb(255,65,54)\"}, \"mode\": \"lines\", \"type\": \"scatter\", \"x\": [0.0, 9.273618495495704, 9.273618495495704, 6.708203932499369], \"xaxis\": \"x\", \"y\": [-1485.0, -1485.0, -1500.0, -1500.0], \"yaxis\": \"y\"}, {\"hoverinfo\": \"text\", \"marker\": {\"color\": \"rgb(255,65,54)\"}, \"mode\": \"lines\", \"type\": \"scatter\", \"x\": [8.48528137423857, 9.848857801796104, 9.848857801796104, 9.273618495495704], \"xaxis\": \"x\", \"y\": [-1470.0, -1470.0, -1492.5, -1492.5], \"yaxis\": \"y\"}, {\"hoverinfo\": \"text\", \"marker\": {\"color\": \"rgb(255,65,54)\"}, \"mode\": \"lines\", \"type\": \"scatter\", \"x\": [9.16515138991168, 11.045361017187261, 11.045361017187261, 9.848857801796104], \"xaxis\": \"x\", \"y\": [-1450.0, -1450.0, -1481.25, -1481.25], \"yaxis\": \"y\"}, {\"hoverinfo\": \"text\", \"marker\": {\"color\": \"rgb(255,65,54)\"}, \"mode\": \"lines\", \"type\": \"scatter\", \"x\": [0.0, 7.416198487095663, 7.416198487095663, 0.0], \"xaxis\": \"x\", \"y\": [-1535.0, -1535.0, -1545.0, -1545.0], \"yaxis\": \"y\"}, {\"hoverinfo\": \"text\", \"marker\": {\"color\": \"rgb(255,65,54)\"}, \"mode\": \"lines\", \"type\": \"scatter\", \"x\": [0.0, 9.16515138991168, 9.16515138991168, 7.416198487095663], \"xaxis\": \"x\", \"y\": [-1525.0, -1525.0, -1540.0, -1540.0], \"yaxis\": \"y\"}, {\"hoverinfo\": \"text\", \"marker\": {\"color\": \"rgb(255,65,54)\"}, \"mode\": \"lines\", \"type\": \"scatter\", \"x\": [0.0, 11.224972160321824, 11.224972160321824, 9.16515138991168], \"xaxis\": \"x\", \"y\": [-1515.0, -1515.0, -1532.5, -1532.5], \"yaxis\": \"y\"}, {\"hoverinfo\": \"text\", \"marker\": {\"color\": \"rgb(255,65,54)\"}, \"mode\": \"lines\", \"type\": \"scatter\", \"x\": [11.045361017187261, 13.0, 13.0, 11.224972160321824], \"xaxis\": \"x\", \"y\": [-1465.625, -1465.625, -1523.75, -1523.75], \"yaxis\": \"y\"}, {\"hoverinfo\": \"text\", \"marker\": {\"color\": \"rgb(255,65,54)\"}, \"mode\": \"lines\", \"type\": \"scatter\", \"x\": [9.695359714832659, 13.892443989449804, 13.892443989449804, 13.0], \"xaxis\": \"x\", \"y\": [-1430.0, -1430.0, -1494.6875, -1494.6875], \"yaxis\": \"y\"}, {\"hoverinfo\": \"text\", \"marker\": {\"color\": \"rgb(255,65,54)\"}, \"mode\": \"lines\", \"type\": \"scatter\", \"x\": [0.0, 8.0, 8.0, 0.0], \"xaxis\": \"x\", \"y\": [-1565.0, -1565.0, -1575.0, -1575.0], \"yaxis\": \"y\"}, {\"hoverinfo\": \"text\", \"marker\": {\"color\": \"rgb(255,65,54)\"}, \"mode\": \"lines\", \"type\": \"scatter\", \"x\": [0.0, 8.602325267042627, 8.602325267042627, 8.0], \"xaxis\": \"x\", \"y\": [-1555.0, -1555.0, -1570.0, -1570.0], \"yaxis\": \"y\"}, {\"hoverinfo\": \"text\", \"marker\": {\"color\": \"rgb(255,65,54)\"}, \"mode\": \"lines\", \"type\": \"scatter\", \"x\": [0.0, 7.0, 7.0, 0.0], \"xaxis\": \"x\", \"y\": [-1605.0, -1605.0, -1615.0, -1615.0], \"yaxis\": \"y\"}, {\"hoverinfo\": \"text\", \"marker\": {\"color\": \"rgb(255,65,54)\"}, \"mode\": \"lines\", \"type\": \"scatter\", \"x\": [0.0, 9.539392014169456, 9.539392014169456, 7.0], \"xaxis\": \"x\", \"y\": [-1595.0, -1595.0, -1610.0, -1610.0], \"yaxis\": \"y\"}, {\"hoverinfo\": \"text\", \"marker\": {\"color\": \"rgb(255,65,54)\"}, \"mode\": \"lines\", \"type\": \"scatter\", \"x\": [0.0, 6.708203932499369, 6.708203932499369, 0.0], \"xaxis\": \"x\", \"y\": [-1645.0, -1645.0, -1655.0, -1655.0], \"yaxis\": \"y\"}, {\"hoverinfo\": \"text\", \"marker\": {\"color\": \"rgb(255,65,54)\"}, \"mode\": \"lines\", \"type\": \"scatter\", \"x\": [0.0, 8.366600265340756, 8.366600265340756, 6.708203932499369], \"xaxis\": \"x\", \"y\": [-1635.0, -1635.0, -1650.0, -1650.0], \"yaxis\": \"y\"}, {\"hoverinfo\": \"text\", \"marker\": {\"color\": \"rgb(255,65,54)\"}, \"mode\": \"lines\", \"type\": \"scatter\", \"x\": [0.0, 10.44030650891055, 10.44030650891055, 8.366600265340756], \"xaxis\": \"x\", \"y\": [-1625.0, -1625.0, -1642.5, -1642.5], \"yaxis\": \"y\"}, {\"hoverinfo\": \"text\", \"marker\": {\"color\": \"rgb(255,65,54)\"}, \"mode\": \"lines\", \"type\": \"scatter\", \"x\": [9.539392014169456, 11.532562594670797, 11.532562594670797, 10.44030650891055], \"xaxis\": \"x\", \"y\": [-1602.5, -1602.5, -1633.75, -1633.75], \"yaxis\": \"y\"}, {\"hoverinfo\": \"text\", \"marker\": {\"color\": \"rgb(255,65,54)\"}, \"mode\": \"lines\", \"type\": \"scatter\", \"x\": [0.0, 13.0, 13.0, 11.532562594670797], \"xaxis\": \"x\", \"y\": [-1585.0, -1585.0, -1618.125, -1618.125], \"yaxis\": \"y\"}, {\"hoverinfo\": \"text\", \"marker\": {\"color\": \"rgb(255,65,54)\"}, \"mode\": \"lines\", \"type\": \"scatter\", \"x\": [8.602325267042627, 15.198684153570664, 15.198684153570664, 13.0], \"xaxis\": \"x\", \"y\": [-1562.5, -1562.5, -1601.5625, -1601.5625], \"yaxis\": \"y\"}, {\"hoverinfo\": \"text\", \"marker\": {\"color\": \"rgb(255,65,54)\"}, \"mode\": \"lines\", \"type\": \"scatter\", \"x\": [13.892443989449804, 15.937377450509228, 15.937377450509228, 15.198684153570664], \"xaxis\": \"x\", \"y\": [-1462.34375, -1462.34375, -1582.03125, -1582.03125], \"yaxis\": \"y\"}, {\"hoverinfo\": \"text\", \"marker\": {\"color\": \"rgb(255,65,54)\"}, \"mode\": \"lines\", \"type\": \"scatter\", \"x\": [14.52583904633395, 18.49324200890693, 18.49324200890693, 15.937377450509228], \"xaxis\": \"x\", \"y\": [-1391.25, -1391.25, -1522.1875, -1522.1875], \"yaxis\": \"y\"}, {\"hoverinfo\": \"text\", \"marker\": {\"color\": \"rgb(255,65,54)\"}, \"mode\": \"lines\", \"type\": \"scatter\", \"x\": [11.0, 21.88606862823929, 21.88606862823929, 18.49324200890693], \"xaxis\": \"x\", \"y\": [-1360.0, -1360.0, -1456.71875, -1456.71875], \"yaxis\": \"y\"}, {\"hoverinfo\": \"text\", \"marker\": {\"color\": \"rgb(0,116,217)\"}, \"mode\": \"lines\", \"type\": \"scatter\", \"x\": [18.894443627691185, 32.58834147360065, 32.58834147360065, 21.88606862823929], \"xaxis\": \"x\", \"y\": [-1175.46875, -1175.46875, -1408.359375, -1408.359375], \"yaxis\": \"y\"}, {\"hoverinfo\": \"text\", \"marker\": {\"color\": \"rgb(0,116,217)\"}, \"mode\": \"lines\", \"type\": \"scatter\", \"x\": [31.240998703626616, 35.11409973215888, 35.11409973215888, 32.58834147360065], \"xaxis\": \"x\", \"y\": [-582.205810546875, -582.205810546875, -1291.9140625, -1291.9140625], \"yaxis\": \"y\"}],                        {\"autosize\": false, \"height\": 1000, \"hovermode\": \"closest\", \"showlegend\": false, \"template\": {\"data\": {\"bar\": [{\"error_x\": {\"color\": \"#2a3f5f\"}, \"error_y\": {\"color\": \"#2a3f5f\"}, \"marker\": {\"line\": {\"color\": \"#E5ECF6\", \"width\": 0.5}}, \"type\": \"bar\"}], \"barpolar\": [{\"marker\": {\"line\": {\"color\": \"#E5ECF6\", \"width\": 0.5}}, \"type\": \"barpolar\"}], \"carpet\": [{\"aaxis\": {\"endlinecolor\": \"#2a3f5f\", \"gridcolor\": \"white\", \"linecolor\": \"white\", \"minorgridcolor\": \"white\", \"startlinecolor\": \"#2a3f5f\"}, \"baxis\": {\"endlinecolor\": \"#2a3f5f\", \"gridcolor\": \"white\", \"linecolor\": \"white\", \"minorgridcolor\": \"white\", \"startlinecolor\": \"#2a3f5f\"}, \"type\": \"carpet\"}], \"choropleth\": [{\"colorbar\": {\"outlinewidth\": 0, \"ticks\": \"\"}, \"type\": \"choropleth\"}], \"contour\": [{\"colorbar\": {\"outlinewidth\": 0, \"ticks\": \"\"}, \"colorscale\": [[0.0, \"#0d0887\"], [0.1111111111111111, \"#46039f\"], [0.2222222222222222, \"#7201a8\"], [0.3333333333333333, \"#9c179e\"], [0.4444444444444444, \"#bd3786\"], [0.5555555555555556, \"#d8576b\"], [0.6666666666666666, \"#ed7953\"], [0.7777777777777778, \"#fb9f3a\"], [0.8888888888888888, \"#fdca26\"], [1.0, \"#f0f921\"]], \"type\": \"contour\"}], \"contourcarpet\": [{\"colorbar\": {\"outlinewidth\": 0, \"ticks\": \"\"}, \"type\": \"contourcarpet\"}], \"heatmap\": [{\"colorbar\": {\"outlinewidth\": 0, \"ticks\": \"\"}, \"colorscale\": [[0.0, \"#0d0887\"], [0.1111111111111111, \"#46039f\"], [0.2222222222222222, \"#7201a8\"], [0.3333333333333333, \"#9c179e\"], [0.4444444444444444, \"#bd3786\"], [0.5555555555555556, \"#d8576b\"], [0.6666666666666666, \"#ed7953\"], [0.7777777777777778, \"#fb9f3a\"], [0.8888888888888888, \"#fdca26\"], [1.0, \"#f0f921\"]], \"type\": \"heatmap\"}], \"heatmapgl\": [{\"colorbar\": {\"outlinewidth\": 0, \"ticks\": \"\"}, \"colorscale\": [[0.0, \"#0d0887\"], [0.1111111111111111, \"#46039f\"], [0.2222222222222222, \"#7201a8\"], [0.3333333333333333, \"#9c179e\"], [0.4444444444444444, \"#bd3786\"], [0.5555555555555556, \"#d8576b\"], [0.6666666666666666, \"#ed7953\"], [0.7777777777777778, \"#fb9f3a\"], [0.8888888888888888, \"#fdca26\"], [1.0, \"#f0f921\"]], \"type\": \"heatmapgl\"}], \"histogram\": [{\"marker\": {\"colorbar\": {\"outlinewidth\": 0, \"ticks\": \"\"}}, \"type\": \"histogram\"}], \"histogram2d\": [{\"colorbar\": {\"outlinewidth\": 0, \"ticks\": \"\"}, \"colorscale\": [[0.0, \"#0d0887\"], [0.1111111111111111, \"#46039f\"], [0.2222222222222222, \"#7201a8\"], [0.3333333333333333, \"#9c179e\"], [0.4444444444444444, \"#bd3786\"], [0.5555555555555556, \"#d8576b\"], [0.6666666666666666, \"#ed7953\"], [0.7777777777777778, \"#fb9f3a\"], [0.8888888888888888, \"#fdca26\"], [1.0, \"#f0f921\"]], \"type\": \"histogram2d\"}], \"histogram2dcontour\": [{\"colorbar\": {\"outlinewidth\": 0, \"ticks\": \"\"}, \"colorscale\": [[0.0, \"#0d0887\"], [0.1111111111111111, \"#46039f\"], [0.2222222222222222, \"#7201a8\"], [0.3333333333333333, \"#9c179e\"], [0.4444444444444444, \"#bd3786\"], [0.5555555555555556, \"#d8576b\"], [0.6666666666666666, \"#ed7953\"], [0.7777777777777778, \"#fb9f3a\"], [0.8888888888888888, \"#fdca26\"], [1.0, \"#f0f921\"]], \"type\": \"histogram2dcontour\"}], \"mesh3d\": [{\"colorbar\": {\"outlinewidth\": 0, \"ticks\": \"\"}, \"type\": \"mesh3d\"}], \"parcoords\": [{\"line\": {\"colorbar\": {\"outlinewidth\": 0, \"ticks\": \"\"}}, \"type\": \"parcoords\"}], \"pie\": [{\"automargin\": true, \"type\": \"pie\"}], \"scatter\": [{\"marker\": {\"colorbar\": {\"outlinewidth\": 0, \"ticks\": \"\"}}, \"type\": \"scatter\"}], \"scatter3d\": [{\"line\": {\"colorbar\": {\"outlinewidth\": 0, \"ticks\": \"\"}}, \"marker\": {\"colorbar\": {\"outlinewidth\": 0, \"ticks\": \"\"}}, \"type\": \"scatter3d\"}], \"scattercarpet\": [{\"marker\": {\"colorbar\": {\"outlinewidth\": 0, \"ticks\": \"\"}}, \"type\": \"scattercarpet\"}], \"scattergeo\": [{\"marker\": {\"colorbar\": {\"outlinewidth\": 0, \"ticks\": \"\"}}, \"type\": \"scattergeo\"}], \"scattergl\": [{\"marker\": {\"colorbar\": {\"outlinewidth\": 0, \"ticks\": \"\"}}, \"type\": \"scattergl\"}], \"scattermapbox\": [{\"marker\": {\"colorbar\": {\"outlinewidth\": 0, \"ticks\": \"\"}}, \"type\": \"scattermapbox\"}], \"scatterpolar\": [{\"marker\": {\"colorbar\": {\"outlinewidth\": 0, \"ticks\": \"\"}}, \"type\": \"scatterpolar\"}], \"scatterpolargl\": [{\"marker\": {\"colorbar\": {\"outlinewidth\": 0, \"ticks\": \"\"}}, \"type\": \"scatterpolargl\"}], \"scatterternary\": [{\"marker\": {\"colorbar\": {\"outlinewidth\": 0, \"ticks\": \"\"}}, \"type\": \"scatterternary\"}], \"surface\": [{\"colorbar\": {\"outlinewidth\": 0, \"ticks\": \"\"}, \"colorscale\": [[0.0, \"#0d0887\"], [0.1111111111111111, \"#46039f\"], [0.2222222222222222, \"#7201a8\"], [0.3333333333333333, \"#9c179e\"], [0.4444444444444444, \"#bd3786\"], [0.5555555555555556, \"#d8576b\"], [0.6666666666666666, \"#ed7953\"], [0.7777777777777778, \"#fb9f3a\"], [0.8888888888888888, \"#fdca26\"], [1.0, \"#f0f921\"]], \"type\": \"surface\"}], \"table\": [{\"cells\": {\"fill\": {\"color\": \"#EBF0F8\"}, \"line\": {\"color\": \"white\"}}, \"header\": {\"fill\": {\"color\": \"#C8D4E3\"}, \"line\": {\"color\": \"white\"}}, \"type\": \"table\"}]}, \"layout\": {\"annotationdefaults\": {\"arrowcolor\": \"#2a3f5f\", \"arrowhead\": 0, \"arrowwidth\": 1}, \"coloraxis\": {\"colorbar\": {\"outlinewidth\": 0, \"ticks\": \"\"}}, \"colorscale\": {\"diverging\": [[0, \"#8e0152\"], [0.1, \"#c51b7d\"], [0.2, \"#de77ae\"], [0.3, \"#f1b6da\"], [0.4, \"#fde0ef\"], [0.5, \"#f7f7f7\"], [0.6, \"#e6f5d0\"], [0.7, \"#b8e186\"], [0.8, \"#7fbc41\"], [0.9, \"#4d9221\"], [1, \"#276419\"]], \"sequential\": [[0.0, \"#0d0887\"], [0.1111111111111111, \"#46039f\"], [0.2222222222222222, \"#7201a8\"], [0.3333333333333333, \"#9c179e\"], [0.4444444444444444, \"#bd3786\"], [0.5555555555555556, \"#d8576b\"], [0.6666666666666666, \"#ed7953\"], [0.7777777777777778, \"#fb9f3a\"], [0.8888888888888888, \"#fdca26\"], [1.0, \"#f0f921\"]], \"sequentialminus\": [[0.0, \"#0d0887\"], [0.1111111111111111, \"#46039f\"], [0.2222222222222222, \"#7201a8\"], [0.3333333333333333, \"#9c179e\"], [0.4444444444444444, \"#bd3786\"], [0.5555555555555556, \"#d8576b\"], [0.6666666666666666, \"#ed7953\"], [0.7777777777777778, \"#fb9f3a\"], [0.8888888888888888, \"#fdca26\"], [1.0, \"#f0f921\"]]}, \"colorway\": [\"#636efa\", \"#EF553B\", \"#00cc96\", \"#ab63fa\", \"#FFA15A\", \"#19d3f3\", \"#FF6692\", \"#B6E880\", \"#FF97FF\", \"#FECB52\"], \"font\": {\"color\": \"#2a3f5f\"}, \"geo\": {\"bgcolor\": \"white\", \"lakecolor\": \"white\", \"landcolor\": \"#E5ECF6\", \"showlakes\": true, \"showland\": true, \"subunitcolor\": \"white\"}, \"hoverlabel\": {\"align\": \"left\"}, \"hovermode\": \"closest\", \"mapbox\": {\"style\": \"light\"}, \"paper_bgcolor\": \"white\", \"plot_bgcolor\": \"#E5ECF6\", \"polar\": {\"angularaxis\": {\"gridcolor\": \"white\", \"linecolor\": \"white\", \"ticks\": \"\"}, \"bgcolor\": \"#E5ECF6\", \"radialaxis\": {\"gridcolor\": \"white\", \"linecolor\": \"white\", \"ticks\": \"\"}}, \"scene\": {\"xaxis\": {\"backgroundcolor\": \"#E5ECF6\", \"gridcolor\": \"white\", \"gridwidth\": 2, \"linecolor\": \"white\", \"showbackground\": true, \"ticks\": \"\", \"zerolinecolor\": \"white\"}, \"yaxis\": {\"backgroundcolor\": \"#E5ECF6\", \"gridcolor\": \"white\", \"gridwidth\": 2, \"linecolor\": \"white\", \"showbackground\": true, \"ticks\": \"\", \"zerolinecolor\": \"white\"}, \"zaxis\": {\"backgroundcolor\": \"#E5ECF6\", \"gridcolor\": \"white\", \"gridwidth\": 2, \"linecolor\": \"white\", \"showbackground\": true, \"ticks\": \"\", \"zerolinecolor\": \"white\"}}, \"shapedefaults\": {\"line\": {\"color\": \"#2a3f5f\"}}, \"ternary\": {\"aaxis\": {\"gridcolor\": \"white\", \"linecolor\": \"white\", \"ticks\": \"\"}, \"baxis\": {\"gridcolor\": \"white\", \"linecolor\": \"white\", \"ticks\": \"\"}, \"bgcolor\": \"#E5ECF6\", \"caxis\": {\"gridcolor\": \"white\", \"linecolor\": \"white\", \"ticks\": \"\"}}, \"title\": {\"x\": 0.05}, \"xaxis\": {\"automargin\": true, \"gridcolor\": \"white\", \"linecolor\": \"white\", \"ticks\": \"\", \"title\": {\"standoff\": 15}, \"zerolinecolor\": \"white\", \"zerolinewidth\": 2}, \"yaxis\": {\"automargin\": true, \"gridcolor\": \"white\", \"linecolor\": \"white\", \"ticks\": \"\", \"title\": {\"standoff\": 15}, \"zerolinecolor\": \"white\", \"zerolinewidth\": 2}}}, \"width\": 600, \"xaxis\": {\"mirror\": \"allticks\", \"rangemode\": \"tozero\", \"showgrid\": false, \"showline\": true, \"showticklabels\": true, \"ticks\": \"outside\", \"type\": \"linear\", \"zeroline\": false}, \"yaxis\": {\"mirror\": \"allticks\", \"rangemode\": \"tozero\", \"showgrid\": false, \"showline\": true, \"showticklabels\": true, \"tickmode\": \"array\", \"ticks\": \"outside\", \"ticktext\": [\"paint brush\", \"rope\", \"hammer\", \"pickaxe\", \"shovel\", \"axe\", \"saw\", \"oil can\", \"wire brush\", \"clamp\", \"level\", \"nail\", \"chisel\", \"filling knife\", \"plane\", \"file\", \"tongs\", \"screwdriver\", \"screw wrench (engelse sleutel)\", \"wrench\", \"wheelbarrow\", \"crowbar (breekijzer)\", \"crowbar (koevoet)\", \"anvil\", \"plough\", \"dagger\", \"sword\", \"club\", \"stick\", \"whip\", \"spear\", \"bow\", \"slingshot\", \"knuckle dusters\", \"shield\", \"drill\", \"grinding disc\", \"lawn mower\", \"vacuum cleaner\", \"mixer\", \"microwave oven\", \"toaster\", \"electric kettle\", \"percolator\", \"fridge\", \"oven\", \"stove\", \"knife\", \"teaspoon\", \"fork\", \"spoon\", \"can opener\", \"nutcracker\", \"whisk\", \"grater\", \"scissors\", \"bowl\", \"plate\", \"bottle\", \"glass\", \"scales\", \"wok\", \"kettle\", \"pan\", \"pot\", \"mug\", \"place mat\", \"spatula\", \"colander\", \"sieve\", \"bazooka\", \"machine gun\", \"double-barreled shotgun\", \"pistol\", \"rifle\", \"canon\", \"grenade\", \"rocket\", \"tank\", \"motorbike (moto)\", \"scooter (bromfiets)\", \"scooter (brommer)\", \"jeep\", \"taxi\", \"boat\", \"car\", \"tractor\", \"van\", \"bus\", \"truck (camion)\", \"truck (vrachtwagen)\", \"subway train\", \"train\", \"tram\", \"airplane\", \"submarine\", \"helicopter\", \"hovercraft\", \"(hot air) balloon\", \"zeppelin\", \"bicycle\", \"go-cart\", \"kick scooter\", \"skateboard\", \"trailer\", \"sled\", \"carriage\", \"cart\", \"cymbals\", \"triangle\", \"bassoon\", \"clarinet\", \"flute\", \"saxophone\", \"trombone\", \"trumpet\", \"guitar\", \"banjo\", \"bass guitar\", \"cello\", \"double bass\", \"harp\", \"violin\", \"piano\", \"harpsichord\", \"organ\", \"drum set\", \"synthesizer\", \"harmonica\", \"pan flute\", \"recorder\", \"drum\", \"tambourine\", \"accordion\", \"bagpipe\", \"apron\", \"towel\", \"boots\", \"shoes\", \"belt\", \"cap\", \"hat\", \"bra\", \"panties\", \"bathing suit\", \"tracksuit\", \"jeans\", \"sweater\", \"t-shirt\", \"shorts\", \"top\", \"coat\", \"socks\", \"pants\", \"pullover\", \"mittens\", \"beanie\", \"scarf\", \"tie\", \"suit\", \"dress\", \"skirt\", \"dungarees\", \"pyjamas\", \"blouse\", \"shirt\"], \"tickvals\": [-5.0, -15.0, -25.0, -35.0, -45.0, -55.0, -65.0, -75.0, -85.0, -95.0, -105.0, -115.0, -125.0, -135.0, -145.0, -155.0, -165.0, -175.0, -185.0, -195.0, -205.0, -215.0, -225.0, -235.0, -245.0, -255.0, -265.0, -275.0, -285.0, -295.0, -305.0, -315.0, -325.0, -335.0, -345.0, -355.0, -365.0, -375.0, -385.0, -395.0, -405.0, -415.0, -425.0, -435.0, -445.0, -455.0, -465.0, -475.0, -485.0, -495.0, -505.0, -515.0, -525.0, -535.0, -545.0, -555.0, -565.0, -575.0, -585.0, -595.0, -605.0, -615.0, -625.0, -635.0, -645.0, -655.0, -665.0, -675.0, -685.0, -695.0, -705.0, -715.0, -725.0, -735.0, -745.0, -755.0, -765.0, -775.0, -785.0, -795.0, -805.0, -815.0, -825.0, -835.0, -845.0, -855.0, -865.0, -875.0, -885.0, -895.0, -905.0, -915.0, -925.0, -935.0, -945.0, -955.0, -965.0, -975.0, -985.0, -995.0, -1005.0, -1015.0, -1025.0, -1035.0, -1045.0, -1055.0, -1065.0, -1075.0, -1085.0, -1095.0, -1105.0, -1115.0, -1125.0, -1135.0, -1145.0, -1155.0, -1165.0, -1175.0, -1185.0, -1195.0, -1205.0, -1215.0, -1225.0, -1235.0, -1245.0, -1255.0, -1265.0, -1275.0, -1285.0, -1295.0, -1305.0, -1315.0, -1325.0, -1335.0, -1345.0, -1355.0, -1365.0, -1375.0, -1385.0, -1395.0, -1405.0, -1415.0, -1425.0, -1435.0, -1445.0, -1455.0, -1465.0, -1475.0, -1485.0, -1495.0, -1505.0, -1515.0, -1525.0, -1535.0, -1545.0, -1555.0, -1565.0, -1575.0, -1585.0, -1595.0, -1605.0, -1615.0, -1625.0, -1635.0, -1645.0, -1655.0], \"type\": \"linear\", \"zeroline\": false}},                        {\"responsive\": true}                    ).then(function(){\n                            \nvar gd = document.getElementById('8638b750-596c-4c4c-8f77-10910870fc24');\nvar x = new MutationObserver(function (mutations, observer) {{\n        var display = window.getComputedStyle(gd).display;\n        if (!display || display === 'none') {{\n            console.log([gd, 'removed!']);\n            Plotly.purge(gd);\n            observer.disconnect();\n        }}\n}});\n\n// Listen for the removal of the full notebook cells\nvar notebookContainer = gd.closest('#notebook-container');\nif (notebookContainer) {{\n    x.observe(notebookContainer, {childList: true});\n}}\n\n// Listen for the clearing of the current output cell\nvar outputEl = gd.closest('.output');\nif (outputEl) {{\n    x.observe(outputEl, {childList: true});\n}}\n\n                        })                };                });            </script>        </div>"
     },
     "metadata": {}
    }
   ],
   "source": [
    "fig = ff.create_dendrogram(train_X, orientation='left', labels=train_X.index, linkagefun=lambda x: linkage(train_X, 'complete'))\n",
    "fig.update_layout(width=600, height=1000)\n",
    "fig.show()"
   ]
  },
  {
   "source": [
    "## Average linkage"
   ],
   "cell_type": "markdown",
   "metadata": {}
  },
  {
   "cell_type": "code",
   "execution_count": 5,
   "metadata": {},
   "outputs": [
    {
     "output_type": "display_data",
     "data": {
      "application/vnd.plotly.v1+json": {
       "config": {
        "plotlyServerURL": "https://plot.ly"
       },
       "data": [
        {
         "hoverinfo": "text",
         "marker": {
          "color": "rgb(61,153,112)"
         },
         "mode": "lines",
         "type": "scatter",
         "x": [
          0,
          11,
          11,
          0
         ],
         "xaxis": "x",
         "y": [
          -5,
          -5,
          -15,
          -15
         ],
         "yaxis": "y"
        },
        {
         "hoverinfo": "text",
         "marker": {
          "color": "rgb(61,153,112)"
         },
         "mode": "lines",
         "type": "scatter",
         "x": [
          0,
          12.206555615733702,
          12.206555615733702,
          0
         ],
         "xaxis": "x",
         "y": [
          -25,
          -25,
          -35,
          -35
         ],
         "yaxis": "y"
        },
        {
         "hoverinfo": "text",
         "marker": {
          "color": "rgb(61,153,112)"
         },
         "mode": "lines",
         "type": "scatter",
         "x": [
          0,
          8,
          8,
          0
         ],
         "xaxis": "x",
         "y": [
          -55,
          -55,
          -65,
          -65
         ],
         "yaxis": "y"
        },
        {
         "hoverinfo": "text",
         "marker": {
          "color": "rgb(61,153,112)"
         },
         "mode": "lines",
         "type": "scatter",
         "x": [
          0,
          8.424268259138973,
          8.424268259138973,
          8
         ],
         "xaxis": "x",
         "y": [
          -45,
          -45,
          -60,
          -60
         ],
         "yaxis": "y"
        },
        {
         "hoverinfo": "text",
         "marker": {
          "color": "rgb(61,153,112)"
         },
         "mode": "lines",
         "type": "scatter",
         "x": [
          0,
          9.797958971132712,
          9.797958971132712,
          0
         ],
         "xaxis": "x",
         "y": [
          -75,
          -75,
          -85,
          -85
         ],
         "yaxis": "y"
        },
        {
         "hoverinfo": "text",
         "marker": {
          "color": "rgb(61,153,112)"
         },
         "mode": "lines",
         "type": "scatter",
         "x": [
          8.424268259138973,
          11.588342019698501,
          11.588342019698501,
          9.797958971132712
         ],
         "xaxis": "x",
         "y": [
          -52.5,
          -52.5,
          -80,
          -80
         ],
         "yaxis": "y"
        },
        {
         "hoverinfo": "text",
         "marker": {
          "color": "rgb(61,153,112)"
         },
         "mode": "lines",
         "type": "scatter",
         "x": [
          0,
          9.695359714832659,
          9.695359714832659,
          0
         ],
         "xaxis": "x",
         "y": [
          -95,
          -95,
          -105,
          -105
         ],
         "yaxis": "y"
        },
        {
         "hoverinfo": "text",
         "marker": {
          "color": "rgb(61,153,112)"
         },
         "mode": "lines",
         "type": "scatter",
         "x": [
          0,
          7,
          7,
          0
         ],
         "xaxis": "x",
         "y": [
          -125,
          -125,
          -135,
          -135
         ],
         "yaxis": "y"
        },
        {
         "hoverinfo": "text",
         "marker": {
          "color": "rgb(61,153,112)"
         },
         "mode": "lines",
         "type": "scatter",
         "x": [
          0,
          6.708203932499369,
          6.708203932499369,
          0
         ],
         "xaxis": "x",
         "y": [
          -155,
          -155,
          -165,
          -165
         ],
         "yaxis": "y"
        },
        {
         "hoverinfo": "text",
         "marker": {
          "color": "rgb(61,153,112)"
         },
         "mode": "lines",
         "type": "scatter",
         "x": [
          0,
          8.023873006604681,
          8.023873006604681,
          6.708203932499369
         ],
         "xaxis": "x",
         "y": [
          -145,
          -145,
          -160,
          -160
         ],
         "yaxis": "y"
        },
        {
         "hoverinfo": "text",
         "marker": {
          "color": "rgb(61,153,112)"
         },
         "mode": "lines",
         "type": "scatter",
         "x": [
          7,
          8.470821465026267,
          8.470821465026267,
          8.023873006604681
         ],
         "xaxis": "x",
         "y": [
          -130,
          -130,
          -152.5,
          -152.5
         ],
         "yaxis": "y"
        },
        {
         "hoverinfo": "text",
         "marker": {
          "color": "rgb(61,153,112)"
         },
         "mode": "lines",
         "type": "scatter",
         "x": [
          0,
          6.708203932499369,
          6.708203932499369,
          0
         ],
         "xaxis": "x",
         "y": [
          -195,
          -195,
          -205,
          -205
         ],
         "yaxis": "y"
        },
        {
         "hoverinfo": "text",
         "marker": {
          "color": "rgb(61,153,112)"
         },
         "mode": "lines",
         "type": "scatter",
         "x": [
          0,
          8.324486130701967,
          8.324486130701967,
          6.708203932499369
         ],
         "xaxis": "x",
         "y": [
          -185,
          -185,
          -200,
          -200
         ],
         "yaxis": "y"
        },
        {
         "hoverinfo": "text",
         "marker": {
          "color": "rgb(61,153,112)"
         },
         "mode": "lines",
         "type": "scatter",
         "x": [
          0,
          8.954122143653544,
          8.954122143653544,
          8.324486130701967
         ],
         "xaxis": "x",
         "y": [
          -175,
          -175,
          -192.5,
          -192.5
         ],
         "yaxis": "y"
        },
        {
         "hoverinfo": "text",
         "marker": {
          "color": "rgb(61,153,112)"
         },
         "mode": "lines",
         "type": "scatter",
         "x": [
          0,
          9.219544457292887,
          9.219544457292887,
          0
         ],
         "xaxis": "x",
         "y": [
          -215,
          -215,
          -225,
          -225
         ],
         "yaxis": "y"
        },
        {
         "hoverinfo": "text",
         "marker": {
          "color": "rgb(61,153,112)"
         },
         "mode": "lines",
         "type": "scatter",
         "x": [
          8.954122143653544,
          9.330047611298893,
          9.330047611298893,
          9.219544457292887
         ],
         "xaxis": "x",
         "y": [
          -183.75,
          -183.75,
          -220,
          -220
         ],
         "yaxis": "y"
        },
        {
         "hoverinfo": "text",
         "marker": {
          "color": "rgb(61,153,112)"
         },
         "mode": "lines",
         "type": "scatter",
         "x": [
          8.470821465026267,
          9.757892718074388,
          9.757892718074388,
          9.330047611298893
         ],
         "xaxis": "x",
         "y": [
          -141.25,
          -141.25,
          -201.875,
          -201.875
         ],
         "yaxis": "y"
        },
        {
         "hoverinfo": "text",
         "marker": {
          "color": "rgb(61,153,112)"
         },
         "mode": "lines",
         "type": "scatter",
         "x": [
          0,
          7.416198487095663,
          7.416198487095663,
          0
         ],
         "xaxis": "x",
         "y": [
          -265,
          -265,
          -275,
          -275
         ],
         "yaxis": "y"
        },
        {
         "hoverinfo": "text",
         "marker": {
          "color": "rgb(61,153,112)"
         },
         "mode": "lines",
         "type": "scatter",
         "x": [
          0,
          8.732877854264103,
          8.732877854264103,
          7.416198487095663
         ],
         "xaxis": "x",
         "y": [
          -255,
          -255,
          -270,
          -270
         ],
         "yaxis": "y"
        },
        {
         "hoverinfo": "text",
         "marker": {
          "color": "rgb(61,153,112)"
         },
         "mode": "lines",
         "type": "scatter",
         "x": [
          0,
          9.23233218940674,
          9.23233218940674,
          8.732877854264103
         ],
         "xaxis": "x",
         "y": [
          -245,
          -245,
          -262.5,
          -262.5
         ],
         "yaxis": "y"
        },
        {
         "hoverinfo": "text",
         "marker": {
          "color": "rgb(61,153,112)"
         },
         "mode": "lines",
         "type": "scatter",
         "x": [
          0,
          10.22819380659517,
          10.22819380659517,
          9.23233218940674
         ],
         "xaxis": "x",
         "y": [
          -235,
          -235,
          -253.75,
          -253.75
         ],
         "yaxis": "y"
        },
        {
         "hoverinfo": "text",
         "marker": {
          "color": "rgb(61,153,112)"
         },
         "mode": "lines",
         "type": "scatter",
         "x": [
          9.757892718074388,
          10.980357151917556,
          10.980357151917556,
          10.22819380659517
         ],
         "xaxis": "x",
         "y": [
          -171.5625,
          -171.5625,
          -244.375,
          -244.375
         ],
         "yaxis": "y"
        },
        {
         "hoverinfo": "text",
         "marker": {
          "color": "rgb(61,153,112)"
         },
         "mode": "lines",
         "type": "scatter",
         "x": [
          0,
          11.594149120179537,
          11.594149120179537,
          10.980357151917556
         ],
         "xaxis": "x",
         "y": [
          -115,
          -115,
          -207.96875,
          -207.96875
         ],
         "yaxis": "y"
        },
        {
         "hoverinfo": "text",
         "marker": {
          "color": "rgb(61,153,112)"
         },
         "mode": "lines",
         "type": "scatter",
         "x": [
          9.695359714832659,
          11.98729439920027,
          11.98729439920027,
          11.594149120179537
         ],
         "xaxis": "x",
         "y": [
          -100,
          -100,
          -161.484375,
          -161.484375
         ],
         "yaxis": "y"
        },
        {
         "hoverinfo": "text",
         "marker": {
          "color": "rgb(61,153,112)"
         },
         "mode": "lines",
         "type": "scatter",
         "x": [
          11.588342019698501,
          12.364017285152652,
          12.364017285152652,
          11.98729439920027
         ],
         "xaxis": "x",
         "y": [
          -66.25,
          -66.25,
          -130.7421875,
          -130.7421875
         ],
         "yaxis": "y"
        },
        {
         "hoverinfo": "text",
         "marker": {
          "color": "rgb(61,153,112)"
         },
         "mode": "lines",
         "type": "scatter",
         "x": [
          12.206555615733702,
          12.916185377578822,
          12.916185377578822,
          12.364017285152652
         ],
         "xaxis": "x",
         "y": [
          -30,
          -30,
          -98.49609375,
          -98.49609375
         ],
         "yaxis": "y"
        },
        {
         "hoverinfo": "text",
         "marker": {
          "color": "rgb(61,153,112)"
         },
         "mode": "lines",
         "type": "scatter",
         "x": [
          0,
          11.180339887498949,
          11.180339887498949,
          0
         ],
         "xaxis": "x",
         "y": [
          -295,
          -295,
          -305,
          -305
         ],
         "yaxis": "y"
        },
        {
         "hoverinfo": "text",
         "marker": {
          "color": "rgb(61,153,112)"
         },
         "mode": "lines",
         "type": "scatter",
         "x": [
          0,
          13.057438524302,
          13.057438524302,
          11.180339887498949
         ],
         "xaxis": "x",
         "y": [
          -285,
          -285,
          -300,
          -300
         ],
         "yaxis": "y"
        },
        {
         "hoverinfo": "text",
         "marker": {
          "color": "rgb(61,153,112)"
         },
         "mode": "lines",
         "type": "scatter",
         "x": [
          12.916185377578822,
          15.183991507563048,
          15.183991507563048,
          13.057438524302
         ],
         "xaxis": "x",
         "y": [
          -64.248046875,
          -64.248046875,
          -292.5,
          -292.5
         ],
         "yaxis": "y"
        },
        {
         "hoverinfo": "text",
         "marker": {
          "color": "rgb(61,153,112)"
         },
         "mode": "lines",
         "type": "scatter",
         "x": [
          11,
          19.04035949428176,
          19.04035949428176,
          15.183991507563048
         ],
         "xaxis": "x",
         "y": [
          -10,
          -10,
          -178.3740234375,
          -178.3740234375
         ],
         "yaxis": "y"
        },
        {
         "hoverinfo": "text",
         "marker": {
          "color": "rgb(255,65,54)"
         },
         "mode": "lines",
         "type": "scatter",
         "x": [
          0,
          7.874007874011811,
          7.874007874011811,
          0
         ],
         "xaxis": "x",
         "y": [
          -315,
          -315,
          -325,
          -325
         ],
         "yaxis": "y"
        },
        {
         "hoverinfo": "text",
         "marker": {
          "color": "rgb(255,65,54)"
         },
         "mode": "lines",
         "type": "scatter",
         "x": [
          0,
          9,
          9,
          0
         ],
         "xaxis": "x",
         "y": [
          -335,
          -335,
          -345,
          -345
         ],
         "yaxis": "y"
        },
        {
         "hoverinfo": "text",
         "marker": {
          "color": "rgb(255,65,54)"
         },
         "mode": "lines",
         "type": "scatter",
         "x": [
          7.874007874011811,
          11.50612361026731,
          11.50612361026731,
          9
         ],
         "xaxis": "x",
         "y": [
          -320,
          -320,
          -340,
          -340
         ],
         "yaxis": "y"
        },
        {
         "hoverinfo": "text",
         "marker": {
          "color": "rgb(255,65,54)"
         },
         "mode": "lines",
         "type": "scatter",
         "x": [
          0,
          9.899494936611665,
          9.899494936611665,
          0
         ],
         "xaxis": "x",
         "y": [
          -355,
          -355,
          -365,
          -365
         ],
         "yaxis": "y"
        },
        {
         "hoverinfo": "text",
         "marker": {
          "color": "rgb(255,65,54)"
         },
         "mode": "lines",
         "type": "scatter",
         "x": [
          0,
          4.358898943540674,
          4.358898943540674,
          0
         ],
         "xaxis": "x",
         "y": [
          -385,
          -385,
          -395,
          -395
         ],
         "yaxis": "y"
        },
        {
         "hoverinfo": "text",
         "marker": {
          "color": "rgb(255,65,54)"
         },
         "mode": "lines",
         "type": "scatter",
         "x": [
          0,
          3.4641016151377544,
          3.4641016151377544,
          0
         ],
         "xaxis": "x",
         "y": [
          -425,
          -425,
          -435,
          -435
         ],
         "yaxis": "y"
        },
        {
         "hoverinfo": "text",
         "marker": {
          "color": "rgb(255,65,54)"
         },
         "mode": "lines",
         "type": "scatter",
         "x": [
          0,
          6.23210073777805,
          6.23210073777805,
          3.4641016151377544
         ],
         "xaxis": "x",
         "y": [
          -415,
          -415,
          -430,
          -430
         ],
         "yaxis": "y"
        },
        {
         "hoverinfo": "text",
         "marker": {
          "color": "rgb(255,65,54)"
         },
         "mode": "lines",
         "type": "scatter",
         "x": [
          0,
          8.773502691896258,
          8.773502691896258,
          6.23210073777805
         ],
         "xaxis": "x",
         "y": [
          -405,
          -405,
          -422.5,
          -422.5
         ],
         "yaxis": "y"
        },
        {
         "hoverinfo": "text",
         "marker": {
          "color": "rgb(255,65,54)"
         },
         "mode": "lines",
         "type": "scatter",
         "x": [
          4.358898943540674,
          9.619284375313285,
          9.619284375313285,
          8.773502691896258
         ],
         "xaxis": "x",
         "y": [
          -390,
          -390,
          -413.75,
          -413.75
         ],
         "yaxis": "y"
        },
        {
         "hoverinfo": "text",
         "marker": {
          "color": "rgb(255,65,54)"
         },
         "mode": "lines",
         "type": "scatter",
         "x": [
          0,
          11.173727874768177,
          11.173727874768177,
          9.619284375313285
         ],
         "xaxis": "x",
         "y": [
          -375,
          -375,
          -401.875,
          -401.875
         ],
         "yaxis": "y"
        },
        {
         "hoverinfo": "text",
         "marker": {
          "color": "rgb(255,65,54)"
         },
         "mode": "lines",
         "type": "scatter",
         "x": [
          9.899494936611665,
          12.080993113599009,
          12.080993113599009,
          11.173727874768177
         ],
         "xaxis": "x",
         "y": [
          -360,
          -360,
          -388.4375,
          -388.4375
         ],
         "yaxis": "y"
        },
        {
         "hoverinfo": "text",
         "marker": {
          "color": "rgb(255,65,54)"
         },
         "mode": "lines",
         "type": "scatter",
         "x": [
          11.50612361026731,
          13.327050189848825,
          13.327050189848825,
          12.080993113599009
         ],
         "xaxis": "x",
         "y": [
          -330,
          -330,
          -374.21875,
          -374.21875
         ],
         "yaxis": "y"
        },
        {
         "hoverinfo": "text",
         "marker": {
          "color": "rgb(255,65,54)"
         },
         "mode": "lines",
         "type": "scatter",
         "x": [
          0,
          10.954451150103322,
          10.954451150103322,
          0
         ],
         "xaxis": "x",
         "y": [
          -445,
          -445,
          -455,
          -455
         ],
         "yaxis": "y"
        },
        {
         "hoverinfo": "text",
         "marker": {
          "color": "rgb(255,65,54)"
         },
         "mode": "lines",
         "type": "scatter",
         "x": [
          0,
          9.539392014169456,
          9.539392014169456,
          0
         ],
         "xaxis": "x",
         "y": [
          -465,
          -465,
          -475,
          -475
         ],
         "yaxis": "y"
        },
        {
         "hoverinfo": "text",
         "marker": {
          "color": "rgb(255,65,54)"
         },
         "mode": "lines",
         "type": "scatter",
         "x": [
          0,
          8.94427190999916,
          8.94427190999916,
          0
         ],
         "xaxis": "x",
         "y": [
          -495,
          -495,
          -505,
          -505
         ],
         "yaxis": "y"
        },
        {
         "hoverinfo": "text",
         "marker": {
          "color": "rgb(255,65,54)"
         },
         "mode": "lines",
         "type": "scatter",
         "x": [
          0,
          9.861902647381804,
          9.861902647381804,
          8.94427190999916
         ],
         "xaxis": "x",
         "y": [
          -485,
          -485,
          -500,
          -500
         ],
         "yaxis": "y"
        },
        {
         "hoverinfo": "text",
         "marker": {
          "color": "rgb(255,65,54)"
         },
         "mode": "lines",
         "type": "scatter",
         "x": [
          0,
          8,
          8,
          0
         ],
         "xaxis": "x",
         "y": [
          -525,
          -525,
          -535,
          -535
         ],
         "yaxis": "y"
        },
        {
         "hoverinfo": "text",
         "marker": {
          "color": "rgb(255,65,54)"
         },
         "mode": "lines",
         "type": "scatter",
         "x": [
          0,
          8.717043066685237,
          8.717043066685237,
          8
         ],
         "xaxis": "x",
         "y": [
          -515,
          -515,
          -530,
          -530
         ],
         "yaxis": "y"
        },
        {
         "hoverinfo": "text",
         "marker": {
          "color": "rgb(255,65,54)"
         },
         "mode": "lines",
         "type": "scatter",
         "x": [
          0,
          5.5677643628300215,
          5.5677643628300215,
          0
         ],
         "xaxis": "x",
         "y": [
          -545,
          -545,
          -555,
          -555
         ],
         "yaxis": "y"
        },
        {
         "hoverinfo": "text",
         "marker": {
          "color": "rgb(255,65,54)"
         },
         "mode": "lines",
         "type": "scatter",
         "x": [
          0,
          8.660254037844387,
          8.660254037844387,
          0
         ],
         "xaxis": "x",
         "y": [
          -565,
          -565,
          -575,
          -575
         ],
         "yaxis": "y"
        },
        {
         "hoverinfo": "text",
         "marker": {
          "color": "rgb(255,65,54)"
         },
         "mode": "lines",
         "type": "scatter",
         "x": [
          5.5677643628300215,
          9.175674888682543,
          9.175674888682543,
          8.660254037844387
         ],
         "xaxis": "x",
         "y": [
          -550,
          -550,
          -570,
          -570
         ],
         "yaxis": "y"
        },
        {
         "hoverinfo": "text",
         "marker": {
          "color": "rgb(255,65,54)"
         },
         "mode": "lines",
         "type": "scatter",
         "x": [
          8.717043066685237,
          10.87129270200457,
          10.87129270200457,
          9.175674888682543
         ],
         "xaxis": "x",
         "y": [
          -522.5,
          -522.5,
          -560,
          -560
         ],
         "yaxis": "y"
        },
        {
         "hoverinfo": "text",
         "marker": {
          "color": "rgb(255,65,54)"
         },
         "mode": "lines",
         "type": "scatter",
         "x": [
          9.861902647381804,
          11.437516726321453,
          11.437516726321453,
          10.87129270200457
         ],
         "xaxis": "x",
         "y": [
          -492.5,
          -492.5,
          -541.25,
          -541.25
         ],
         "yaxis": "y"
        },
        {
         "hoverinfo": "text",
         "marker": {
          "color": "rgb(255,65,54)"
         },
         "mode": "lines",
         "type": "scatter",
         "x": [
          9.539392014169456,
          12.409447739670105,
          12.409447739670105,
          11.437516726321453
         ],
         "xaxis": "x",
         "y": [
          -470,
          -470,
          -516.875,
          -516.875
         ],
         "yaxis": "y"
        },
        {
         "hoverinfo": "text",
         "marker": {
          "color": "rgb(255,65,54)"
         },
         "mode": "lines",
         "type": "scatter",
         "x": [
          10.954451150103322,
          13.49549513660983,
          13.49549513660983,
          12.409447739670105
         ],
         "xaxis": "x",
         "y": [
          -450,
          -450,
          -493.4375,
          -493.4375
         ],
         "yaxis": "y"
        },
        {
         "hoverinfo": "text",
         "marker": {
          "color": "rgb(255,65,54)"
         },
         "mode": "lines",
         "type": "scatter",
         "x": [
          13.327050189848825,
          13.983610600568275,
          13.983610600568275,
          13.49549513660983
         ],
         "xaxis": "x",
         "y": [
          -352.109375,
          -352.109375,
          -471.71875,
          -471.71875
         ],
         "yaxis": "y"
        },
        {
         "hoverinfo": "text",
         "marker": {
          "color": "rgb(35,205,205)"
         },
         "mode": "lines",
         "type": "scatter",
         "x": [
          0,
          11.313708498984761,
          11.313708498984761,
          0
         ],
         "xaxis": "x",
         "y": [
          -585,
          -585,
          -595,
          -595
         ],
         "yaxis": "y"
        },
        {
         "hoverinfo": "text",
         "marker": {
          "color": "rgb(35,205,205)"
         },
         "mode": "lines",
         "type": "scatter",
         "x": [
          0,
          9.695359714832659,
          9.695359714832659,
          0
         ],
         "xaxis": "x",
         "y": [
          -625,
          -625,
          -635,
          -635
         ],
         "yaxis": "y"
        },
        {
         "hoverinfo": "text",
         "marker": {
          "color": "rgb(35,205,205)"
         },
         "mode": "lines",
         "type": "scatter",
         "x": [
          0,
          11.151170587945,
          11.151170587945,
          9.695359714832659
         ],
         "xaxis": "x",
         "y": [
          -615,
          -615,
          -630,
          -630
         ],
         "yaxis": "y"
        },
        {
         "hoverinfo": "text",
         "marker": {
          "color": "rgb(35,205,205)"
         },
         "mode": "lines",
         "type": "scatter",
         "x": [
          0,
          9.797958971132712,
          9.797958971132712,
          0
         ],
         "xaxis": "x",
         "y": [
          -665,
          -665,
          -675,
          -675
         ],
         "yaxis": "y"
        },
        {
         "hoverinfo": "text",
         "marker": {
          "color": "rgb(35,205,205)"
         },
         "mode": "lines",
         "type": "scatter",
         "x": [
          0,
          12.487685387636873,
          12.487685387636873,
          9.797958971132712
         ],
         "xaxis": "x",
         "y": [
          -655,
          -655,
          -670,
          -670
         ],
         "yaxis": "y"
        },
        {
         "hoverinfo": "text",
         "marker": {
          "color": "rgb(35,205,205)"
         },
         "mode": "lines",
         "type": "scatter",
         "x": [
          0,
          14.0827910480307,
          14.0827910480307,
          12.487685387636873
         ],
         "xaxis": "x",
         "y": [
          -645,
          -645,
          -662.5,
          -662.5
         ],
         "yaxis": "y"
        },
        {
         "hoverinfo": "text",
         "marker": {
          "color": "rgb(35,205,205)"
         },
         "mode": "lines",
         "type": "scatter",
         "x": [
          11.151170587945,
          14.432438326376005,
          14.432438326376005,
          14.0827910480307
         ],
         "xaxis": "x",
         "y": [
          -622.5,
          -622.5,
          -653.75,
          -653.75
         ],
         "yaxis": "y"
        },
        {
         "hoverinfo": "text",
         "marker": {
          "color": "rgb(35,205,205)"
         },
         "mode": "lines",
         "type": "scatter",
         "x": [
          0,
          16.283322623473236,
          16.283322623473236,
          14.432438326376005
         ],
         "xaxis": "x",
         "y": [
          -605,
          -605,
          -638.125,
          -638.125
         ],
         "yaxis": "y"
        },
        {
         "hoverinfo": "text",
         "marker": {
          "color": "rgb(35,205,205)"
         },
         "mode": "lines",
         "type": "scatter",
         "x": [
          11.313708498984761,
          16.97172451807844,
          16.97172451807844,
          16.283322623473236
         ],
         "xaxis": "x",
         "y": [
          -590,
          -590,
          -621.5625,
          -621.5625
         ],
         "yaxis": "y"
        },
        {
         "hoverinfo": "text",
         "marker": {
          "color": "rgb(35,205,205)"
         },
         "mode": "lines",
         "type": "scatter",
         "x": [
          0,
          5.656854249492381,
          5.656854249492381,
          0
         ],
         "xaxis": "x",
         "y": [
          -725,
          -725,
          -735,
          -735
         ],
         "yaxis": "y"
        },
        {
         "hoverinfo": "text",
         "marker": {
          "color": "rgb(35,205,205)"
         },
         "mode": "lines",
         "type": "scatter",
         "x": [
          0,
          9.675507639562209,
          9.675507639562209,
          5.656854249492381
         ],
         "xaxis": "x",
         "y": [
          -715,
          -715,
          -730,
          -730
         ],
         "yaxis": "y"
        },
        {
         "hoverinfo": "text",
         "marker": {
          "color": "rgb(35,205,205)"
         },
         "mode": "lines",
         "type": "scatter",
         "x": [
          0,
          11.702239922711295,
          11.702239922711295,
          9.675507639562209
         ],
         "xaxis": "x",
         "y": [
          -705,
          -705,
          -722.5,
          -722.5
         ],
         "yaxis": "y"
        },
        {
         "hoverinfo": "text",
         "marker": {
          "color": "rgb(35,205,205)"
         },
         "mode": "lines",
         "type": "scatter",
         "x": [
          0,
          12.890848121677989,
          12.890848121677989,
          11.702239922711295
         ],
         "xaxis": "x",
         "y": [
          -695,
          -695,
          -713.75,
          -713.75
         ],
         "yaxis": "y"
        },
        {
         "hoverinfo": "text",
         "marker": {
          "color": "rgb(35,205,205)"
         },
         "mode": "lines",
         "type": "scatter",
         "x": [
          0,
          7.280109889280518,
          7.280109889280518,
          0
         ],
         "xaxis": "x",
         "y": [
          -775,
          -775,
          -785,
          -785
         ],
         "yaxis": "y"
        },
        {
         "hoverinfo": "text",
         "marker": {
          "color": "rgb(35,205,205)"
         },
         "mode": "lines",
         "type": "scatter",
         "x": [
          0,
          9.990902608151824,
          9.990902608151824,
          7.280109889280518
         ],
         "xaxis": "x",
         "y": [
          -765,
          -765,
          -780,
          -780
         ],
         "yaxis": "y"
        },
        {
         "hoverinfo": "text",
         "marker": {
          "color": "rgb(35,205,205)"
         },
         "mode": "lines",
         "type": "scatter",
         "x": [
          0,
          11.662086814248172,
          11.662086814248172,
          9.990902608151824
         ],
         "xaxis": "x",
         "y": [
          -755,
          -755,
          -772.5,
          -772.5
         ],
         "yaxis": "y"
        },
        {
         "hoverinfo": "text",
         "marker": {
          "color": "rgb(35,205,205)"
         },
         "mode": "lines",
         "type": "scatter",
         "x": [
          0,
          6,
          6,
          0
         ],
         "xaxis": "x",
         "y": [
          -805,
          -805,
          -815,
          -815
         ],
         "yaxis": "y"
        },
        {
         "hoverinfo": "text",
         "marker": {
          "color": "rgb(35,205,205)"
         },
         "mode": "lines",
         "type": "scatter",
         "x": [
          0,
          7.3911649915626345,
          7.3911649915626345,
          6
         ],
         "xaxis": "x",
         "y": [
          -795,
          -795,
          -810,
          -810
         ],
         "yaxis": "y"
        },
        {
         "hoverinfo": "text",
         "marker": {
          "color": "rgb(35,205,205)"
         },
         "mode": "lines",
         "type": "scatter",
         "x": [
          0,
          4.898979485566356,
          4.898979485566356,
          0
         ],
         "xaxis": "x",
         "y": [
          -855,
          -855,
          -865,
          -865
         ],
         "yaxis": "y"
        },
        {
         "hoverinfo": "text",
         "marker": {
          "color": "rgb(35,205,205)"
         },
         "mode": "lines",
         "type": "scatter",
         "x": [
          0,
          7.271988168069709,
          7.271988168069709,
          4.898979485566356
         ],
         "xaxis": "x",
         "y": [
          -845,
          -845,
          -860,
          -860
         ],
         "yaxis": "y"
        },
        {
         "hoverinfo": "text",
         "marker": {
          "color": "rgb(35,205,205)"
         },
         "mode": "lines",
         "type": "scatter",
         "x": [
          0,
          9.157130830386555,
          9.157130830386555,
          7.271988168069709
         ],
         "xaxis": "x",
         "y": [
          -835,
          -835,
          -852.5,
          -852.5
         ],
         "yaxis": "y"
        },
        {
         "hoverinfo": "text",
         "marker": {
          "color": "rgb(35,205,205)"
         },
         "mode": "lines",
         "type": "scatter",
         "x": [
          0,
          10.588911660497537,
          10.588911660497537,
          9.157130830386555
         ],
         "xaxis": "x",
         "y": [
          -825,
          -825,
          -843.75,
          -843.75
         ],
         "yaxis": "y"
        },
        {
         "hoverinfo": "text",
         "marker": {
          "color": "rgb(35,205,205)"
         },
         "mode": "lines",
         "type": "scatter",
         "x": [
          7.3911649915626345,
          12.366917093596413,
          12.366917093596413,
          10.588911660497537
         ],
         "xaxis": "x",
         "y": [
          -802.5,
          -802.5,
          -834.375,
          -834.375
         ],
         "yaxis": "y"
        },
        {
         "hoverinfo": "text",
         "marker": {
          "color": "rgb(35,205,205)"
         },
         "mode": "lines",
         "type": "scatter",
         "x": [
          11.662086814248172,
          12.585130712980536,
          12.585130712980536,
          12.366917093596413
         ],
         "xaxis": "x",
         "y": [
          -763.75,
          -763.75,
          -818.4375,
          -818.4375
         ],
         "yaxis": "y"
        },
        {
         "hoverinfo": "text",
         "marker": {
          "color": "rgb(35,205,205)"
         },
         "mode": "lines",
         "type": "scatter",
         "x": [
          0,
          13.568710736732447,
          13.568710736732447,
          12.585130712980536
         ],
         "xaxis": "x",
         "y": [
          -745,
          -745,
          -791.09375,
          -791.09375
         ],
         "yaxis": "y"
        },
        {
         "hoverinfo": "text",
         "marker": {
          "color": "rgb(35,205,205)"
         },
         "mode": "lines",
         "type": "scatter",
         "x": [
          12.890848121677989,
          13.996249900516567,
          13.996249900516567,
          13.568710736732447
         ],
         "xaxis": "x",
         "y": [
          -704.375,
          -704.375,
          -768.046875,
          -768.046875
         ],
         "yaxis": "y"
        },
        {
         "hoverinfo": "text",
         "marker": {
          "color": "rgb(35,205,205)"
         },
         "mode": "lines",
         "type": "scatter",
         "x": [
          0,
          14.125961168602869,
          14.125961168602869,
          13.996249900516567
         ],
         "xaxis": "x",
         "y": [
          -685,
          -685,
          -736.2109375,
          -736.2109375
         ],
         "yaxis": "y"
        },
        {
         "hoverinfo": "text",
         "marker": {
          "color": "rgb(35,205,205)"
         },
         "mode": "lines",
         "type": "scatter",
         "x": [
          0,
          16.46207763315433,
          16.46207763315433,
          0
         ],
         "xaxis": "x",
         "y": [
          -875,
          -875,
          -885,
          -885
         ],
         "yaxis": "y"
        },
        {
         "hoverinfo": "text",
         "marker": {
          "color": "rgb(35,205,205)"
         },
         "mode": "lines",
         "type": "scatter",
         "x": [
          14.125961168602869,
          18.143511279732394,
          18.143511279732394,
          16.46207763315433
         ],
         "xaxis": "x",
         "y": [
          -710.60546875,
          -710.60546875,
          -880,
          -880
         ],
         "yaxis": "y"
        },
        {
         "hoverinfo": "text",
         "marker": {
          "color": "rgb(35,205,205)"
         },
         "mode": "lines",
         "type": "scatter",
         "x": [
          16.97172451807844,
          19.393000301856482,
          19.393000301856482,
          18.143511279732394
         ],
         "xaxis": "x",
         "y": [
          -605.78125,
          -605.78125,
          -795.302734375,
          -795.302734375
         ],
         "yaxis": "y"
        },
        {
         "hoverinfo": "text",
         "marker": {
          "color": "rgb(133,20,75)"
         },
         "mode": "lines",
         "type": "scatter",
         "x": [
          0,
          7.14142842854285,
          7.14142842854285,
          0
         ],
         "xaxis": "x",
         "y": [
          -895,
          -895,
          -905,
          -905
         ],
         "yaxis": "y"
        },
        {
         "hoverinfo": "text",
         "marker": {
          "color": "rgb(133,20,75)"
         },
         "mode": "lines",
         "type": "scatter",
         "x": [
          0,
          8.06225774829855,
          8.06225774829855,
          0
         ],
         "xaxis": "x",
         "y": [
          -925,
          -925,
          -935,
          -935
         ],
         "yaxis": "y"
        },
        {
         "hoverinfo": "text",
         "marker": {
          "color": "rgb(133,20,75)"
         },
         "mode": "lines",
         "type": "scatter",
         "x": [
          0,
          9.13646498486409,
          9.13646498486409,
          8.06225774829855
         ],
         "xaxis": "x",
         "y": [
          -915,
          -915,
          -930,
          -930
         ],
         "yaxis": "y"
        },
        {
         "hoverinfo": "text",
         "marker": {
          "color": "rgb(133,20,75)"
         },
         "mode": "lines",
         "type": "scatter",
         "x": [
          7.14142842854285,
          9.807802703135716,
          9.807802703135716,
          9.13646498486409
         ],
         "xaxis": "x",
         "y": [
          -900,
          -900,
          -922.5,
          -922.5
         ],
         "yaxis": "y"
        },
        {
         "hoverinfo": "text",
         "marker": {
          "color": "rgb(133,20,75)"
         },
         "mode": "lines",
         "type": "scatter",
         "x": [
          0,
          12.922847983320086,
          12.922847983320086,
          0
         ],
         "xaxis": "x",
         "y": [
          -945,
          -945,
          -955,
          -955
         ],
         "yaxis": "y"
        },
        {
         "hoverinfo": "text",
         "marker": {
          "color": "rgb(133,20,75)"
         },
         "mode": "lines",
         "type": "scatter",
         "x": [
          9.807802703135716,
          13.0651696072594,
          13.0651696072594,
          12.922847983320086
         ],
         "xaxis": "x",
         "y": [
          -911.25,
          -911.25,
          -950,
          -950
         ],
         "yaxis": "y"
        },
        {
         "hoverinfo": "text",
         "marker": {
          "color": "rgb(133,20,75)"
         },
         "mode": "lines",
         "type": "scatter",
         "x": [
          0,
          9.695359714832659,
          9.695359714832659,
          0
         ],
         "xaxis": "x",
         "y": [
          -995,
          -995,
          -1005,
          -1005
         ],
         "yaxis": "y"
        },
        {
         "hoverinfo": "text",
         "marker": {
          "color": "rgb(133,20,75)"
         },
         "mode": "lines",
         "type": "scatter",
         "x": [
          0,
          10.99237974762487,
          10.99237974762487,
          9.695359714832659
         ],
         "xaxis": "x",
         "y": [
          -985,
          -985,
          -1000,
          -1000
         ],
         "yaxis": "y"
        },
        {
         "hoverinfo": "text",
         "marker": {
          "color": "rgb(133,20,75)"
         },
         "mode": "lines",
         "type": "scatter",
         "x": [
          0,
          11.65849574280042,
          11.65849574280042,
          10.99237974762487
         ],
         "xaxis": "x",
         "y": [
          -975,
          -975,
          -992.5,
          -992.5
         ],
         "yaxis": "y"
        },
        {
         "hoverinfo": "text",
         "marker": {
          "color": "rgb(133,20,75)"
         },
         "mode": "lines",
         "type": "scatter",
         "x": [
          0,
          12,
          12,
          0
         ],
         "xaxis": "x",
         "y": [
          -1015,
          -1015,
          -1025,
          -1025
         ],
         "yaxis": "y"
        },
        {
         "hoverinfo": "text",
         "marker": {
          "color": "rgb(133,20,75)"
         },
         "mode": "lines",
         "type": "scatter",
         "x": [
          11.65849574280042,
          13.32465948419583,
          13.32465948419583,
          12
         ],
         "xaxis": "x",
         "y": [
          -983.75,
          -983.75,
          -1020,
          -1020
         ],
         "yaxis": "y"
        },
        {
         "hoverinfo": "text",
         "marker": {
          "color": "rgb(133,20,75)"
         },
         "mode": "lines",
         "type": "scatter",
         "x": [
          0,
          14.79225888347596,
          14.79225888347596,
          13.32465948419583
         ],
         "xaxis": "x",
         "y": [
          -965,
          -965,
          -1001.875,
          -1001.875
         ],
         "yaxis": "y"
        },
        {
         "hoverinfo": "text",
         "marker": {
          "color": "rgb(133,20,75)"
         },
         "mode": "lines",
         "type": "scatter",
         "x": [
          0,
          10.44030650891055,
          10.44030650891055,
          0
         ],
         "xaxis": "x",
         "y": [
          -1045,
          -1045,
          -1055,
          -1055
         ],
         "yaxis": "y"
        },
        {
         "hoverinfo": "text",
         "marker": {
          "color": "rgb(133,20,75)"
         },
         "mode": "lines",
         "type": "scatter",
         "x": [
          0,
          15.079813689287025,
          15.079813689287025,
          10.44030650891055
         ],
         "xaxis": "x",
         "y": [
          -1035,
          -1035,
          -1050,
          -1050
         ],
         "yaxis": "y"
        },
        {
         "hoverinfo": "text",
         "marker": {
          "color": "rgb(133,20,75)"
         },
         "mode": "lines",
         "type": "scatter",
         "x": [
          14.79225888347596,
          16.40150643980584,
          16.40150643980584,
          15.079813689287025
         ],
         "xaxis": "x",
         "y": [
          -983.4375,
          -983.4375,
          -1042.5,
          -1042.5
         ],
         "yaxis": "y"
        },
        {
         "hoverinfo": "text",
         "marker": {
          "color": "rgb(133,20,75)"
         },
         "mode": "lines",
         "type": "scatter",
         "x": [
          13.0651696072594,
          19.03388297974326,
          19.03388297974326,
          16.40150643980584
         ],
         "xaxis": "x",
         "y": [
          -930.625,
          -930.625,
          -1012.96875,
          -1012.96875
         ],
         "yaxis": "y"
        },
        {
         "hoverinfo": "text",
         "marker": {
          "color": "rgb(255,220,0)"
         },
         "mode": "lines",
         "type": "scatter",
         "x": [
          0,
          10.535653752852738,
          10.535653752852738,
          0
         ],
         "xaxis": "x",
         "y": [
          -1085,
          -1085,
          -1095,
          -1095
         ],
         "yaxis": "y"
        },
        {
         "hoverinfo": "text",
         "marker": {
          "color": "rgb(255,220,0)"
         },
         "mode": "lines",
         "type": "scatter",
         "x": [
          0,
          14.902078017439525,
          14.902078017439525,
          10.535653752852738
         ],
         "xaxis": "x",
         "y": [
          -1075,
          -1075,
          -1090,
          -1090
         ],
         "yaxis": "y"
        },
        {
         "hoverinfo": "text",
         "marker": {
          "color": "rgb(255,220,0)"
         },
         "mode": "lines",
         "type": "scatter",
         "x": [
          0,
          10.908712114635714,
          10.908712114635714,
          0
         ],
         "xaxis": "x",
         "y": [
          -1105,
          -1105,
          -1115,
          -1115
         ],
         "yaxis": "y"
        },
        {
         "hoverinfo": "text",
         "marker": {
          "color": "rgb(255,220,0)"
         },
         "mode": "lines",
         "type": "scatter",
         "x": [
          0,
          8.306623862918075,
          8.306623862918075,
          0
         ],
         "xaxis": "x",
         "y": [
          -1135,
          -1135,
          -1145,
          -1145
         ],
         "yaxis": "y"
        },
        {
         "hoverinfo": "text",
         "marker": {
          "color": "rgb(255,220,0)"
         },
         "mode": "lines",
         "type": "scatter",
         "x": [
          0,
          10,
          10,
          0
         ],
         "xaxis": "x",
         "y": [
          -1155,
          -1155,
          -1165,
          -1165
         ],
         "yaxis": "y"
        },
        {
         "hoverinfo": "text",
         "marker": {
          "color": "rgb(255,220,0)"
         },
         "mode": "lines",
         "type": "scatter",
         "x": [
          8.306623862918075,
          10.380336255928002,
          10.380336255928002,
          10
         ],
         "xaxis": "x",
         "y": [
          -1140,
          -1140,
          -1160,
          -1160
         ],
         "yaxis": "y"
        },
        {
         "hoverinfo": "text",
         "marker": {
          "color": "rgb(255,220,0)"
         },
         "mode": "lines",
         "type": "scatter",
         "x": [
          0,
          12.085025617461955,
          12.085025617461955,
          10.380336255928002
         ],
         "xaxis": "x",
         "y": [
          -1125,
          -1125,
          -1150,
          -1150
         ],
         "yaxis": "y"
        },
        {
         "hoverinfo": "text",
         "marker": {
          "color": "rgb(255,220,0)"
         },
         "mode": "lines",
         "type": "scatter",
         "x": [
          0,
          6.4031242374328485,
          6.4031242374328485,
          0
         ],
         "xaxis": "x",
         "y": [
          -1175,
          -1175,
          -1185,
          -1185
         ],
         "yaxis": "y"
        },
        {
         "hoverinfo": "text",
         "marker": {
          "color": "rgb(255,220,0)"
         },
         "mode": "lines",
         "type": "scatter",
         "x": [
          0,
          8.774964387392123,
          8.774964387392123,
          0
         ],
         "xaxis": "x",
         "y": [
          -1195,
          -1195,
          -1205,
          -1205
         ],
         "yaxis": "y"
        },
        {
         "hoverinfo": "text",
         "marker": {
          "color": "rgb(255,220,0)"
         },
         "mode": "lines",
         "type": "scatter",
         "x": [
          0,
          9,
          9,
          0
         ],
         "xaxis": "x",
         "y": [
          -1215,
          -1215,
          -1225,
          -1225
         ],
         "yaxis": "y"
        },
        {
         "hoverinfo": "text",
         "marker": {
          "color": "rgb(255,220,0)"
         },
         "mode": "lines",
         "type": "scatter",
         "x": [
          8.774964387392123,
          9.944127554530969,
          9.944127554530969,
          9
         ],
         "xaxis": "x",
         "y": [
          -1200,
          -1200,
          -1220,
          -1220
         ],
         "yaxis": "y"
        },
        {
         "hoverinfo": "text",
         "marker": {
          "color": "rgb(255,220,0)"
         },
         "mode": "lines",
         "type": "scatter",
         "x": [
          0,
          8.246211251235321,
          8.246211251235321,
          0
         ],
         "xaxis": "x",
         "y": [
          -1245,
          -1245,
          -1255,
          -1255
         ],
         "yaxis": "y"
        },
        {
         "hoverinfo": "text",
         "marker": {
          "color": "rgb(255,220,0)"
         },
         "mode": "lines",
         "type": "scatter",
         "x": [
          0,
          5.477225575051661,
          5.477225575051661,
          0
         ],
         "xaxis": "x",
         "y": [
          -1305,
          -1305,
          -1315,
          -1315
         ],
         "yaxis": "y"
        },
        {
         "hoverinfo": "text",
         "marker": {
          "color": "rgb(255,220,0)"
         },
         "mode": "lines",
         "type": "scatter",
         "x": [
          0,
          7.210769158911685,
          7.210769158911685,
          5.477225575051661
         ],
         "xaxis": "x",
         "y": [
          -1295,
          -1295,
          -1310,
          -1310
         ],
         "yaxis": "y"
        },
        {
         "hoverinfo": "text",
         "marker": {
          "color": "rgb(255,220,0)"
         },
         "mode": "lines",
         "type": "scatter",
         "x": [
          0,
          7.613346932126075,
          7.613346932126075,
          7.210769158911685
         ],
         "xaxis": "x",
         "y": [
          -1285,
          -1285,
          -1302.5,
          -1302.5
         ],
         "yaxis": "y"
        },
        {
         "hoverinfo": "text",
         "marker": {
          "color": "rgb(255,220,0)"
         },
         "mode": "lines",
         "type": "scatter",
         "x": [
          0,
          8.787312194356083,
          8.787312194356083,
          7.613346932126075
         ],
         "xaxis": "x",
         "y": [
          -1275,
          -1275,
          -1293.75,
          -1293.75
         ],
         "yaxis": "y"
        },
        {
         "hoverinfo": "text",
         "marker": {
          "color": "rgb(255,220,0)"
         },
         "mode": "lines",
         "type": "scatter",
         "x": [
          0,
          9.54683960258032,
          9.54683960258032,
          8.787312194356083
         ],
         "xaxis": "x",
         "y": [
          -1265,
          -1265,
          -1284.375,
          -1284.375
         ],
         "yaxis": "y"
        },
        {
         "hoverinfo": "text",
         "marker": {
          "color": "rgb(255,220,0)"
         },
         "mode": "lines",
         "type": "scatter",
         "x": [
          8.246211251235321,
          9.744178860698572,
          9.744178860698572,
          9.54683960258032
         ],
         "xaxis": "x",
         "y": [
          -1250,
          -1250,
          -1274.6875,
          -1274.6875
         ],
         "yaxis": "y"
        },
        {
         "hoverinfo": "text",
         "marker": {
          "color": "rgb(255,220,0)"
         },
         "mode": "lines",
         "type": "scatter",
         "x": [
          0,
          10.368506240530373,
          10.368506240530373,
          9.744178860698572
         ],
         "xaxis": "x",
         "y": [
          -1235,
          -1235,
          -1262.34375,
          -1262.34375
         ],
         "yaxis": "y"
        },
        {
         "hoverinfo": "text",
         "marker": {
          "color": "rgb(255,220,0)"
         },
         "mode": "lines",
         "type": "scatter",
         "x": [
          9.944127554530969,
          11.342541463209532,
          11.342541463209532,
          10.368506240530373
         ],
         "xaxis": "x",
         "y": [
          -1210,
          -1210,
          -1248.671875,
          -1248.671875
         ],
         "yaxis": "y"
        },
        {
         "hoverinfo": "text",
         "marker": {
          "color": "rgb(255,220,0)"
         },
         "mode": "lines",
         "type": "scatter",
         "x": [
          6.4031242374328485,
          12.411995211494116,
          12.411995211494116,
          11.342541463209532
         ],
         "xaxis": "x",
         "y": [
          -1180,
          -1180,
          -1229.3359375,
          -1229.3359375
         ],
         "yaxis": "y"
        },
        {
         "hoverinfo": "text",
         "marker": {
          "color": "rgb(255,220,0)"
         },
         "mode": "lines",
         "type": "scatter",
         "x": [
          12.085025617461955,
          12.904684897528378,
          12.904684897528378,
          12.411995211494116
         ],
         "xaxis": "x",
         "y": [
          -1137.5,
          -1137.5,
          -1204.66796875,
          -1204.66796875
         ],
         "yaxis": "y"
        },
        {
         "hoverinfo": "text",
         "marker": {
          "color": "rgb(255,220,0)"
         },
         "mode": "lines",
         "type": "scatter",
         "x": [
          0,
          12.083045973594572,
          12.083045973594572,
          0
         ],
         "xaxis": "x",
         "y": [
          -1335,
          -1335,
          -1345,
          -1345
         ],
         "yaxis": "y"
        },
        {
         "hoverinfo": "text",
         "marker": {
          "color": "rgb(255,220,0)"
         },
         "mode": "lines",
         "type": "scatter",
         "x": [
          0,
          13.505389459221778,
          13.505389459221778,
          12.083045973594572
         ],
         "xaxis": "x",
         "y": [
          -1325,
          -1325,
          -1340,
          -1340
         ],
         "yaxis": "y"
        },
        {
         "hoverinfo": "text",
         "marker": {
          "color": "rgb(255,220,0)"
         },
         "mode": "lines",
         "type": "scatter",
         "x": [
          12.904684897528378,
          14.337935312892297,
          14.337935312892297,
          13.505389459221778
         ],
         "xaxis": "x",
         "y": [
          -1171.083984375,
          -1171.083984375,
          -1332.5,
          -1332.5
         ],
         "yaxis": "y"
        },
        {
         "hoverinfo": "text",
         "marker": {
          "color": "rgb(255,220,0)"
         },
         "mode": "lines",
         "type": "scatter",
         "x": [
          10.908712114635714,
          15.570827202646784,
          15.570827202646784,
          14.337935312892297
         ],
         "xaxis": "x",
         "y": [
          -1110,
          -1110,
          -1251.7919921875,
          -1251.7919921875
         ],
         "yaxis": "y"
        },
        {
         "hoverinfo": "text",
         "marker": {
          "color": "rgb(255,220,0)"
         },
         "mode": "lines",
         "type": "scatter",
         "x": [
          14.902078017439525,
          17.424033624749057,
          17.424033624749057,
          15.570827202646784
         ],
         "xaxis": "x",
         "y": [
          -1082.5,
          -1082.5,
          -1180.89599609375,
          -1180.89599609375
         ],
         "yaxis": "y"
        },
        {
         "hoverinfo": "text",
         "marker": {
          "color": "rgb(40,35,35)"
         },
         "mode": "lines",
         "type": "scatter",
         "x": [
          0,
          10.583005244258363,
          10.583005244258363,
          0
         ],
         "xaxis": "x",
         "y": [
          -1355,
          -1355,
          -1365,
          -1365
         ],
         "yaxis": "y"
        },
        {
         "hoverinfo": "text",
         "marker": {
          "color": "rgb(40,35,35)"
         },
         "mode": "lines",
         "type": "scatter",
         "x": [
          0,
          6.708203932499369,
          6.708203932499369,
          0
         ],
         "xaxis": "x",
         "y": [
          -1375,
          -1375,
          -1385,
          -1385
         ],
         "yaxis": "y"
        },
        {
         "hoverinfo": "text",
         "marker": {
          "color": "rgb(40,35,35)"
         },
         "mode": "lines",
         "type": "scatter",
         "x": [
          0,
          9.848857801796104,
          9.848857801796104,
          0
         ],
         "xaxis": "x",
         "y": [
          -1395,
          -1395,
          -1405,
          -1405
         ],
         "yaxis": "y"
        },
        {
         "hoverinfo": "text",
         "marker": {
          "color": "rgb(40,35,35)"
         },
         "mode": "lines",
         "type": "scatter",
         "x": [
          6.708203932499369,
          10.837625969670238,
          10.837625969670238,
          9.848857801796104
         ],
         "xaxis": "x",
         "y": [
          -1380,
          -1380,
          -1400,
          -1400
         ],
         "yaxis": "y"
        },
        {
         "hoverinfo": "text",
         "marker": {
          "color": "rgb(40,35,35)"
         },
         "mode": "lines",
         "type": "scatter",
         "x": [
          10.583005244258363,
          13.152256352599034,
          13.152256352599034,
          10.837625969670238
         ],
         "xaxis": "x",
         "y": [
          -1360,
          -1360,
          -1390,
          -1390
         ],
         "yaxis": "y"
        },
        {
         "hoverinfo": "text",
         "marker": {
          "color": "rgb(40,35,35)"
         },
         "mode": "lines",
         "type": "scatter",
         "x": [
          0,
          13.45362404707371,
          13.45362404707371,
          0
         ],
         "xaxis": "x",
         "y": [
          -1415,
          -1415,
          -1425,
          -1425
         ],
         "yaxis": "y"
        },
        {
         "hoverinfo": "text",
         "marker": {
          "color": "rgb(40,35,35)"
         },
         "mode": "lines",
         "type": "scatter",
         "x": [
          0,
          7.280109889280518,
          7.280109889280518,
          0
         ],
         "xaxis": "x",
         "y": [
          -1445,
          -1445,
          -1455,
          -1455
         ],
         "yaxis": "y"
        },
        {
         "hoverinfo": "text",
         "marker": {
          "color": "rgb(40,35,35)"
         },
         "mode": "lines",
         "type": "scatter",
         "x": [
          0,
          8.912702713878033,
          8.912702713878033,
          7.280109889280518
         ],
         "xaxis": "x",
         "y": [
          -1435,
          -1435,
          -1450,
          -1450
         ],
         "yaxis": "y"
        },
        {
         "hoverinfo": "text",
         "marker": {
          "color": "rgb(40,35,35)"
         },
         "mode": "lines",
         "type": "scatter",
         "x": [
          0,
          5.656854249492381,
          5.656854249492381,
          0
         ],
         "xaxis": "x",
         "y": [
          -1485,
          -1485,
          -1495,
          -1495
         ],
         "yaxis": "y"
        },
        {
         "hoverinfo": "text",
         "marker": {
          "color": "rgb(40,35,35)"
         },
         "mode": "lines",
         "type": "scatter",
         "x": [
          0,
          8.887482193696062,
          8.887482193696062,
          5.656854249492381
         ],
         "xaxis": "x",
         "y": [
          -1475,
          -1475,
          -1490,
          -1490
         ],
         "yaxis": "y"
        },
        {
         "hoverinfo": "text",
         "marker": {
          "color": "rgb(40,35,35)"
         },
         "mode": "lines",
         "type": "scatter",
         "x": [
          0,
          9.458838060756507,
          9.458838060756507,
          8.887482193696062
         ],
         "xaxis": "x",
         "y": [
          -1465,
          -1465,
          -1482.5,
          -1482.5
         ],
         "yaxis": "y"
        },
        {
         "hoverinfo": "text",
         "marker": {
          "color": "rgb(40,35,35)"
         },
         "mode": "lines",
         "type": "scatter",
         "x": [
          0,
          10.535653752852738,
          10.535653752852738,
          0
         ],
         "xaxis": "x",
         "y": [
          -1505,
          -1505,
          -1515,
          -1515
         ],
         "yaxis": "y"
        },
        {
         "hoverinfo": "text",
         "marker": {
          "color": "rgb(40,35,35)"
         },
         "mode": "lines",
         "type": "scatter",
         "x": [
          0,
          8.12403840463596,
          8.12403840463596,
          0
         ],
         "xaxis": "x",
         "y": [
          -1545,
          -1545,
          -1555,
          -1555
         ],
         "yaxis": "y"
        },
        {
         "hoverinfo": "text",
         "marker": {
          "color": "rgb(40,35,35)"
         },
         "mode": "lines",
         "type": "scatter",
         "x": [
          0,
          9.668288377706212,
          9.668288377706212,
          8.12403840463596
         ],
         "xaxis": "x",
         "y": [
          -1535,
          -1535,
          -1550,
          -1550
         ],
         "yaxis": "y"
        },
        {
         "hoverinfo": "text",
         "marker": {
          "color": "rgb(40,35,35)"
         },
         "mode": "lines",
         "type": "scatter",
         "x": [
          0,
          10.783006207848755,
          10.783006207848755,
          9.668288377706212
         ],
         "xaxis": "x",
         "y": [
          -1525,
          -1525,
          -1542.5,
          -1542.5
         ],
         "yaxis": "y"
        },
        {
         "hoverinfo": "text",
         "marker": {
          "color": "rgb(40,35,35)"
         },
         "mode": "lines",
         "type": "scatter",
         "x": [
          10.535653752852738,
          11.729388057508018,
          11.729388057508018,
          10.783006207848755
         ],
         "xaxis": "x",
         "y": [
          -1510,
          -1510,
          -1533.75,
          -1533.75
         ],
         "yaxis": "y"
        },
        {
         "hoverinfo": "text",
         "marker": {
          "color": "rgb(40,35,35)"
         },
         "mode": "lines",
         "type": "scatter",
         "x": [
          9.458838060756507,
          12.322160954908638,
          12.322160954908638,
          11.729388057508018
         ],
         "xaxis": "x",
         "y": [
          -1473.75,
          -1473.75,
          -1521.875,
          -1521.875
         ],
         "yaxis": "y"
        },
        {
         "hoverinfo": "text",
         "marker": {
          "color": "rgb(40,35,35)"
         },
         "mode": "lines",
         "type": "scatter",
         "x": [
          8.912702713878033,
          13.555502383625418,
          13.555502383625418,
          12.322160954908638
         ],
         "xaxis": "x",
         "y": [
          -1442.5,
          -1442.5,
          -1497.8125,
          -1497.8125
         ],
         "yaxis": "y"
        },
        {
         "hoverinfo": "text",
         "marker": {
          "color": "rgb(40,35,35)"
         },
         "mode": "lines",
         "type": "scatter",
         "x": [
          13.45362404707371,
          14.361453755846062,
          14.361453755846062,
          13.555502383625418
         ],
         "xaxis": "x",
         "y": [
          -1420,
          -1420,
          -1470.15625,
          -1470.15625
         ],
         "yaxis": "y"
        },
        {
         "hoverinfo": "text",
         "marker": {
          "color": "rgb(40,35,35)"
         },
         "mode": "lines",
         "type": "scatter",
         "x": [
          13.152256352599034,
          15.358635615320543,
          15.358635615320543,
          14.361453755846062
         ],
         "xaxis": "x",
         "y": [
          -1375,
          -1375,
          -1445.078125,
          -1445.078125
         ],
         "yaxis": "y"
        },
        {
         "hoverinfo": "text",
         "marker": {
          "color": "rgb(40,35,35)"
         },
         "mode": "lines",
         "type": "scatter",
         "x": [
          0,
          8.18535277187245,
          8.18535277187245,
          0
         ],
         "xaxis": "x",
         "y": [
          -1585,
          -1585,
          -1595,
          -1595
         ],
         "yaxis": "y"
        },
        {
         "hoverinfo": "text",
         "marker": {
          "color": "rgb(40,35,35)"
         },
         "mode": "lines",
         "type": "scatter",
         "x": [
          0,
          8.426149773176359,
          8.426149773176359,
          0
         ],
         "xaxis": "x",
         "y": [
          -1645,
          -1645,
          -1655,
          -1655
         ],
         "yaxis": "y"
        },
        {
         "hoverinfo": "text",
         "marker": {
          "color": "rgb(40,35,35)"
         },
         "mode": "lines",
         "type": "scatter",
         "x": [
          0,
          9.353188718899013,
          9.353188718899013,
          8.426149773176359
         ],
         "xaxis": "x",
         "y": [
          -1635,
          -1635,
          -1650,
          -1650
         ],
         "yaxis": "y"
        },
        {
         "hoverinfo": "text",
         "marker": {
          "color": "rgb(40,35,35)"
         },
         "mode": "lines",
         "type": "scatter",
         "x": [
          0,
          9.887553907612999,
          9.887553907612999,
          9.353188718899013
         ],
         "xaxis": "x",
         "y": [
          -1625,
          -1625,
          -1642.5,
          -1642.5
         ],
         "yaxis": "y"
        },
        {
         "hoverinfo": "text",
         "marker": {
          "color": "rgb(40,35,35)"
         },
         "mode": "lines",
         "type": "scatter",
         "x": [
          0,
          12.096426389845664,
          12.096426389845664,
          9.887553907612999
         ],
         "xaxis": "x",
         "y": [
          -1615,
          -1615,
          -1633.75,
          -1633.75
         ],
         "yaxis": "y"
        },
        {
         "hoverinfo": "text",
         "marker": {
          "color": "rgb(40,35,35)"
         },
         "mode": "lines",
         "type": "scatter",
         "x": [
          0,
          13.032647704060826,
          13.032647704060826,
          12.096426389845664
         ],
         "xaxis": "x",
         "y": [
          -1605,
          -1605,
          -1624.375,
          -1624.375
         ],
         "yaxis": "y"
        },
        {
         "hoverinfo": "text",
         "marker": {
          "color": "rgb(40,35,35)"
         },
         "mode": "lines",
         "type": "scatter",
         "x": [
          8.18535277187245,
          13.735688876894038,
          13.735688876894038,
          13.032647704060826
         ],
         "xaxis": "x",
         "y": [
          -1590,
          -1590,
          -1614.6875,
          -1614.6875
         ],
         "yaxis": "y"
        },
        {
         "hoverinfo": "text",
         "marker": {
          "color": "rgb(40,35,35)"
         },
         "mode": "lines",
         "type": "scatter",
         "x": [
          0,
          14.290442934503744,
          14.290442934503744,
          13.735688876894038
         ],
         "xaxis": "x",
         "y": [
          -1575,
          -1575,
          -1602.34375,
          -1602.34375
         ],
         "yaxis": "y"
        },
        {
         "hoverinfo": "text",
         "marker": {
          "color": "rgb(40,35,35)"
         },
         "mode": "lines",
         "type": "scatter",
         "x": [
          0,
          15.427714619029492,
          15.427714619029492,
          14.290442934503744
         ],
         "xaxis": "x",
         "y": [
          -1565,
          -1565,
          -1588.671875,
          -1588.671875
         ],
         "yaxis": "y"
        },
        {
         "hoverinfo": "text",
         "marker": {
          "color": "rgb(40,35,35)"
         },
         "mode": "lines",
         "type": "scatter",
         "x": [
          15.358635615320543,
          17.46683336587329,
          17.46683336587329,
          15.427714619029492
         ],
         "xaxis": "x",
         "y": [
          -1410.0390625,
          -1410.0390625,
          -1576.8359375,
          -1576.8359375
         ],
         "yaxis": "y"
        },
        {
         "hoverinfo": "text",
         "marker": {
          "color": "rgb(0,116,217)"
         },
         "mode": "lines",
         "type": "scatter",
         "x": [
          17.424033624749057,
          20.227806272017215,
          20.227806272017215,
          17.46683336587329
         ],
         "xaxis": "x",
         "y": [
          -1131.697998046875,
          -1131.697998046875,
          -1493.4375,
          -1493.4375
         ],
         "yaxis": "y"
        },
        {
         "hoverinfo": "text",
         "marker": {
          "color": "rgb(0,116,217)"
         },
         "mode": "lines",
         "type": "scatter",
         "x": [
          0,
          21.087668834677398,
          21.087668834677398,
          20.227806272017215
         ],
         "xaxis": "x",
         "y": [
          -1065,
          -1065,
          -1312.5677490234375,
          -1312.5677490234375
         ],
         "yaxis": "y"
        },
        {
         "hoverinfo": "text",
         "marker": {
          "color": "rgb(0,116,217)"
         },
         "mode": "lines",
         "type": "scatter",
         "x": [
          19.03388297974326,
          23.17344608552563,
          23.17344608552563,
          21.087668834677398
         ],
         "xaxis": "x",
         "y": [
          -971.796875,
          -971.796875,
          -1188.7838745117188,
          -1188.7838745117188
         ],
         "yaxis": "y"
        },
        {
         "hoverinfo": "text",
         "marker": {
          "color": "rgb(0,116,217)"
         },
         "mode": "lines",
         "type": "scatter",
         "x": [
          19.393000301856482,
          24.30427490939802,
          24.30427490939802,
          23.17344608552563
         ],
         "xaxis": "x",
         "y": [
          -700.5419921875,
          -700.5419921875,
          -1080.2903747558594,
          -1080.2903747558594
         ],
         "yaxis": "y"
        },
        {
         "hoverinfo": "text",
         "marker": {
          "color": "rgb(0,116,217)"
         },
         "mode": "lines",
         "type": "scatter",
         "x": [
          13.983610600568275,
          26.371331194610498,
          26.371331194610498,
          24.30427490939802
         ],
         "xaxis": "x",
         "y": [
          -411.9140625,
          -411.9140625,
          -890.4161834716797,
          -890.4161834716797
         ],
         "yaxis": "y"
        },
        {
         "hoverinfo": "text",
         "marker": {
          "color": "rgb(0,116,217)"
         },
         "mode": "lines",
         "type": "scatter",
         "x": [
          19.04035949428176,
          27.847859735815764,
          27.847859735815764,
          26.371331194610498
         ],
         "xaxis": "x",
         "y": [
          -94.18701171875,
          -94.18701171875,
          -651.1651229858398,
          -651.1651229858398
         ],
         "yaxis": "y"
        }
       ],
       "layout": {
        "autosize": false,
        "height": 1000,
        "hovermode": "closest",
        "showlegend": false,
        "template": {
         "data": {
          "bar": [
           {
            "error_x": {
             "color": "#2a3f5f"
            },
            "error_y": {
             "color": "#2a3f5f"
            },
            "marker": {
             "line": {
              "color": "#E5ECF6",
              "width": 0.5
             }
            },
            "type": "bar"
           }
          ],
          "barpolar": [
           {
            "marker": {
             "line": {
              "color": "#E5ECF6",
              "width": 0.5
             }
            },
            "type": "barpolar"
           }
          ],
          "carpet": [
           {
            "aaxis": {
             "endlinecolor": "#2a3f5f",
             "gridcolor": "white",
             "linecolor": "white",
             "minorgridcolor": "white",
             "startlinecolor": "#2a3f5f"
            },
            "baxis": {
             "endlinecolor": "#2a3f5f",
             "gridcolor": "white",
             "linecolor": "white",
             "minorgridcolor": "white",
             "startlinecolor": "#2a3f5f"
            },
            "type": "carpet"
           }
          ],
          "choropleth": [
           {
            "colorbar": {
             "outlinewidth": 0,
             "ticks": ""
            },
            "type": "choropleth"
           }
          ],
          "contour": [
           {
            "colorbar": {
             "outlinewidth": 0,
             "ticks": ""
            },
            "colorscale": [
             [
              0,
              "#0d0887"
             ],
             [
              0.1111111111111111,
              "#46039f"
             ],
             [
              0.2222222222222222,
              "#7201a8"
             ],
             [
              0.3333333333333333,
              "#9c179e"
             ],
             [
              0.4444444444444444,
              "#bd3786"
             ],
             [
              0.5555555555555556,
              "#d8576b"
             ],
             [
              0.6666666666666666,
              "#ed7953"
             ],
             [
              0.7777777777777778,
              "#fb9f3a"
             ],
             [
              0.8888888888888888,
              "#fdca26"
             ],
             [
              1,
              "#f0f921"
             ]
            ],
            "type": "contour"
           }
          ],
          "contourcarpet": [
           {
            "colorbar": {
             "outlinewidth": 0,
             "ticks": ""
            },
            "type": "contourcarpet"
           }
          ],
          "heatmap": [
           {
            "colorbar": {
             "outlinewidth": 0,
             "ticks": ""
            },
            "colorscale": [
             [
              0,
              "#0d0887"
             ],
             [
              0.1111111111111111,
              "#46039f"
             ],
             [
              0.2222222222222222,
              "#7201a8"
             ],
             [
              0.3333333333333333,
              "#9c179e"
             ],
             [
              0.4444444444444444,
              "#bd3786"
             ],
             [
              0.5555555555555556,
              "#d8576b"
             ],
             [
              0.6666666666666666,
              "#ed7953"
             ],
             [
              0.7777777777777778,
              "#fb9f3a"
             ],
             [
              0.8888888888888888,
              "#fdca26"
             ],
             [
              1,
              "#f0f921"
             ]
            ],
            "type": "heatmap"
           }
          ],
          "heatmapgl": [
           {
            "colorbar": {
             "outlinewidth": 0,
             "ticks": ""
            },
            "colorscale": [
             [
              0,
              "#0d0887"
             ],
             [
              0.1111111111111111,
              "#46039f"
             ],
             [
              0.2222222222222222,
              "#7201a8"
             ],
             [
              0.3333333333333333,
              "#9c179e"
             ],
             [
              0.4444444444444444,
              "#bd3786"
             ],
             [
              0.5555555555555556,
              "#d8576b"
             ],
             [
              0.6666666666666666,
              "#ed7953"
             ],
             [
              0.7777777777777778,
              "#fb9f3a"
             ],
             [
              0.8888888888888888,
              "#fdca26"
             ],
             [
              1,
              "#f0f921"
             ]
            ],
            "type": "heatmapgl"
           }
          ],
          "histogram": [
           {
            "marker": {
             "colorbar": {
              "outlinewidth": 0,
              "ticks": ""
             }
            },
            "type": "histogram"
           }
          ],
          "histogram2d": [
           {
            "colorbar": {
             "outlinewidth": 0,
             "ticks": ""
            },
            "colorscale": [
             [
              0,
              "#0d0887"
             ],
             [
              0.1111111111111111,
              "#46039f"
             ],
             [
              0.2222222222222222,
              "#7201a8"
             ],
             [
              0.3333333333333333,
              "#9c179e"
             ],
             [
              0.4444444444444444,
              "#bd3786"
             ],
             [
              0.5555555555555556,
              "#d8576b"
             ],
             [
              0.6666666666666666,
              "#ed7953"
             ],
             [
              0.7777777777777778,
              "#fb9f3a"
             ],
             [
              0.8888888888888888,
              "#fdca26"
             ],
             [
              1,
              "#f0f921"
             ]
            ],
            "type": "histogram2d"
           }
          ],
          "histogram2dcontour": [
           {
            "colorbar": {
             "outlinewidth": 0,
             "ticks": ""
            },
            "colorscale": [
             [
              0,
              "#0d0887"
             ],
             [
              0.1111111111111111,
              "#46039f"
             ],
             [
              0.2222222222222222,
              "#7201a8"
             ],
             [
              0.3333333333333333,
              "#9c179e"
             ],
             [
              0.4444444444444444,
              "#bd3786"
             ],
             [
              0.5555555555555556,
              "#d8576b"
             ],
             [
              0.6666666666666666,
              "#ed7953"
             ],
             [
              0.7777777777777778,
              "#fb9f3a"
             ],
             [
              0.8888888888888888,
              "#fdca26"
             ],
             [
              1,
              "#f0f921"
             ]
            ],
            "type": "histogram2dcontour"
           }
          ],
          "mesh3d": [
           {
            "colorbar": {
             "outlinewidth": 0,
             "ticks": ""
            },
            "type": "mesh3d"
           }
          ],
          "parcoords": [
           {
            "line": {
             "colorbar": {
              "outlinewidth": 0,
              "ticks": ""
             }
            },
            "type": "parcoords"
           }
          ],
          "pie": [
           {
            "automargin": true,
            "type": "pie"
           }
          ],
          "scatter": [
           {
            "marker": {
             "colorbar": {
              "outlinewidth": 0,
              "ticks": ""
             }
            },
            "type": "scatter"
           }
          ],
          "scatter3d": [
           {
            "line": {
             "colorbar": {
              "outlinewidth": 0,
              "ticks": ""
             }
            },
            "marker": {
             "colorbar": {
              "outlinewidth": 0,
              "ticks": ""
             }
            },
            "type": "scatter3d"
           }
          ],
          "scattercarpet": [
           {
            "marker": {
             "colorbar": {
              "outlinewidth": 0,
              "ticks": ""
             }
            },
            "type": "scattercarpet"
           }
          ],
          "scattergeo": [
           {
            "marker": {
             "colorbar": {
              "outlinewidth": 0,
              "ticks": ""
             }
            },
            "type": "scattergeo"
           }
          ],
          "scattergl": [
           {
            "marker": {
             "colorbar": {
              "outlinewidth": 0,
              "ticks": ""
             }
            },
            "type": "scattergl"
           }
          ],
          "scattermapbox": [
           {
            "marker": {
             "colorbar": {
              "outlinewidth": 0,
              "ticks": ""
             }
            },
            "type": "scattermapbox"
           }
          ],
          "scatterpolar": [
           {
            "marker": {
             "colorbar": {
              "outlinewidth": 0,
              "ticks": ""
             }
            },
            "type": "scatterpolar"
           }
          ],
          "scatterpolargl": [
           {
            "marker": {
             "colorbar": {
              "outlinewidth": 0,
              "ticks": ""
             }
            },
            "type": "scatterpolargl"
           }
          ],
          "scatterternary": [
           {
            "marker": {
             "colorbar": {
              "outlinewidth": 0,
              "ticks": ""
             }
            },
            "type": "scatterternary"
           }
          ],
          "surface": [
           {
            "colorbar": {
             "outlinewidth": 0,
             "ticks": ""
            },
            "colorscale": [
             [
              0,
              "#0d0887"
             ],
             [
              0.1111111111111111,
              "#46039f"
             ],
             [
              0.2222222222222222,
              "#7201a8"
             ],
             [
              0.3333333333333333,
              "#9c179e"
             ],
             [
              0.4444444444444444,
              "#bd3786"
             ],
             [
              0.5555555555555556,
              "#d8576b"
             ],
             [
              0.6666666666666666,
              "#ed7953"
             ],
             [
              0.7777777777777778,
              "#fb9f3a"
             ],
             [
              0.8888888888888888,
              "#fdca26"
             ],
             [
              1,
              "#f0f921"
             ]
            ],
            "type": "surface"
           }
          ],
          "table": [
           {
            "cells": {
             "fill": {
              "color": "#EBF0F8"
             },
             "line": {
              "color": "white"
             }
            },
            "header": {
             "fill": {
              "color": "#C8D4E3"
             },
             "line": {
              "color": "white"
             }
            },
            "type": "table"
           }
          ]
         },
         "layout": {
          "annotationdefaults": {
           "arrowcolor": "#2a3f5f",
           "arrowhead": 0,
           "arrowwidth": 1
          },
          "coloraxis": {
           "colorbar": {
            "outlinewidth": 0,
            "ticks": ""
           }
          },
          "colorscale": {
           "diverging": [
            [
             0,
             "#8e0152"
            ],
            [
             0.1,
             "#c51b7d"
            ],
            [
             0.2,
             "#de77ae"
            ],
            [
             0.3,
             "#f1b6da"
            ],
            [
             0.4,
             "#fde0ef"
            ],
            [
             0.5,
             "#f7f7f7"
            ],
            [
             0.6,
             "#e6f5d0"
            ],
            [
             0.7,
             "#b8e186"
            ],
            [
             0.8,
             "#7fbc41"
            ],
            [
             0.9,
             "#4d9221"
            ],
            [
             1,
             "#276419"
            ]
           ],
           "sequential": [
            [
             0,
             "#0d0887"
            ],
            [
             0.1111111111111111,
             "#46039f"
            ],
            [
             0.2222222222222222,
             "#7201a8"
            ],
            [
             0.3333333333333333,
             "#9c179e"
            ],
            [
             0.4444444444444444,
             "#bd3786"
            ],
            [
             0.5555555555555556,
             "#d8576b"
            ],
            [
             0.6666666666666666,
             "#ed7953"
            ],
            [
             0.7777777777777778,
             "#fb9f3a"
            ],
            [
             0.8888888888888888,
             "#fdca26"
            ],
            [
             1,
             "#f0f921"
            ]
           ],
           "sequentialminus": [
            [
             0,
             "#0d0887"
            ],
            [
             0.1111111111111111,
             "#46039f"
            ],
            [
             0.2222222222222222,
             "#7201a8"
            ],
            [
             0.3333333333333333,
             "#9c179e"
            ],
            [
             0.4444444444444444,
             "#bd3786"
            ],
            [
             0.5555555555555556,
             "#d8576b"
            ],
            [
             0.6666666666666666,
             "#ed7953"
            ],
            [
             0.7777777777777778,
             "#fb9f3a"
            ],
            [
             0.8888888888888888,
             "#fdca26"
            ],
            [
             1,
             "#f0f921"
            ]
           ]
          },
          "colorway": [
           "#636efa",
           "#EF553B",
           "#00cc96",
           "#ab63fa",
           "#FFA15A",
           "#19d3f3",
           "#FF6692",
           "#B6E880",
           "#FF97FF",
           "#FECB52"
          ],
          "font": {
           "color": "#2a3f5f"
          },
          "geo": {
           "bgcolor": "white",
           "lakecolor": "white",
           "landcolor": "#E5ECF6",
           "showlakes": true,
           "showland": true,
           "subunitcolor": "white"
          },
          "hoverlabel": {
           "align": "left"
          },
          "hovermode": "closest",
          "mapbox": {
           "style": "light"
          },
          "paper_bgcolor": "white",
          "plot_bgcolor": "#E5ECF6",
          "polar": {
           "angularaxis": {
            "gridcolor": "white",
            "linecolor": "white",
            "ticks": ""
           },
           "bgcolor": "#E5ECF6",
           "radialaxis": {
            "gridcolor": "white",
            "linecolor": "white",
            "ticks": ""
           }
          },
          "scene": {
           "xaxis": {
            "backgroundcolor": "#E5ECF6",
            "gridcolor": "white",
            "gridwidth": 2,
            "linecolor": "white",
            "showbackground": true,
            "ticks": "",
            "zerolinecolor": "white"
           },
           "yaxis": {
            "backgroundcolor": "#E5ECF6",
            "gridcolor": "white",
            "gridwidth": 2,
            "linecolor": "white",
            "showbackground": true,
            "ticks": "",
            "zerolinecolor": "white"
           },
           "zaxis": {
            "backgroundcolor": "#E5ECF6",
            "gridcolor": "white",
            "gridwidth": 2,
            "linecolor": "white",
            "showbackground": true,
            "ticks": "",
            "zerolinecolor": "white"
           }
          },
          "shapedefaults": {
           "line": {
            "color": "#2a3f5f"
           }
          },
          "ternary": {
           "aaxis": {
            "gridcolor": "white",
            "linecolor": "white",
            "ticks": ""
           },
           "baxis": {
            "gridcolor": "white",
            "linecolor": "white",
            "ticks": ""
           },
           "bgcolor": "#E5ECF6",
           "caxis": {
            "gridcolor": "white",
            "linecolor": "white",
            "ticks": ""
           }
          },
          "title": {
           "x": 0.05
          },
          "xaxis": {
           "automargin": true,
           "gridcolor": "white",
           "linecolor": "white",
           "ticks": "",
           "title": {
            "standoff": 15
           },
           "zerolinecolor": "white",
           "zerolinewidth": 2
          },
          "yaxis": {
           "automargin": true,
           "gridcolor": "white",
           "linecolor": "white",
           "ticks": "",
           "title": {
            "standoff": 15
           },
           "zerolinecolor": "white",
           "zerolinewidth": 2
          }
         }
        },
        "width": 600,
        "xaxis": {
         "mirror": "allticks",
         "rangemode": "tozero",
         "showgrid": false,
         "showline": true,
         "showticklabels": true,
         "ticks": "outside",
         "type": "linear",
         "zeroline": false
        },
        "yaxis": {
         "mirror": "allticks",
         "rangemode": "tozero",
         "showgrid": false,
         "showline": true,
         "showticklabels": true,
         "tickmode": "array",
         "ticks": "outside",
         "ticktext": [
          "apron",
          "towel",
          "suit",
          "tie",
          "mittens",
          "beanie",
          "scarf",
          "cap",
          "hat",
          "bra",
          "panties",
          "bathing suit",
          "dress",
          "skirt",
          "pyjamas",
          "blouse",
          "shirt",
          "tracksuit",
          "sweater",
          "shorts",
          "top",
          "dungarees",
          "jeans",
          "coat",
          "socks",
          "t-shirt",
          "pants",
          "pullover",
          "belt",
          "boots",
          "shoes",
          "cymbals",
          "triangle",
          "drum",
          "tambourine",
          "pan flute",
          "recorder",
          "harmonica",
          "bassoon",
          "clarinet",
          "flute",
          "saxophone",
          "trombone",
          "trumpet",
          "drum set",
          "synthesizer",
          "accordion",
          "bagpipe",
          "piano",
          "harpsichord",
          "organ",
          "guitar",
          "banjo",
          "bass guitar",
          "cello",
          "double bass",
          "harp",
          "violin",
          "(hot air) balloon",
          "zeppelin",
          "bicycle",
          "go-cart",
          "kick scooter",
          "skateboard",
          "trailer",
          "sled",
          "carriage",
          "cart",
          "boat",
          "car",
          "jeep",
          "motorbike (moto)",
          "scooter (bromfiets)",
          "scooter (brommer)",
          "tractor",
          "airplane",
          "submarine",
          "helicopter",
          "hovercraft",
          "subway train",
          "train",
          "tram",
          "taxi",
          "van",
          "bus",
          "truck (camion)",
          "truck (vrachtwagen)",
          "rocket",
          "tank",
          "pistol",
          "rifle",
          "double-barreled shotgun",
          "bazooka",
          "machine gun",
          "canon",
          "grenade",
          "shield",
          "whip",
          "spear",
          "bow",
          "slingshot",
          "club",
          "stick",
          "knuckle dusters",
          "dagger",
          "sword",
          "knife",
          "lawn mower",
          "drill",
          "grinding disc",
          "paint brush",
          "rope",
          "hammer",
          "pickaxe",
          "shovel",
          "axe",
          "saw",
          "crowbar (breekijzer)",
          "crowbar (koevoet)",
          "oil can",
          "wire brush",
          "clamp",
          "level",
          "nail",
          "filling knife",
          "plane",
          "file",
          "chisel",
          "tongs",
          "screwdriver",
          "screw wrench (engelse sleutel)",
          "wrench",
          "wheelbarrow",
          "anvil",
          "plough",
          "mug",
          "place mat",
          "bowl",
          "plate",
          "bottle",
          "glass",
          "can opener",
          "scissors",
          "teaspoon",
          "fork",
          "spoon",
          "wok",
          "kettle",
          "pan",
          "pot",
          "grater",
          "nutcracker",
          "spatula",
          "whisk",
          "colander",
          "sieve",
          "vacuum cleaner",
          "fridge",
          "oven",
          "stove",
          "scales",
          "mixer",
          "toaster",
          "microwave oven",
          "electric kettle",
          "percolator"
         ],
         "tickvals": [
          -5,
          -15,
          -25,
          -35,
          -45,
          -55,
          -65,
          -75,
          -85,
          -95,
          -105,
          -115,
          -125,
          -135,
          -145,
          -155,
          -165,
          -175,
          -185,
          -195,
          -205,
          -215,
          -225,
          -235,
          -245,
          -255,
          -265,
          -275,
          -285,
          -295,
          -305,
          -315,
          -325,
          -335,
          -345,
          -355,
          -365,
          -375,
          -385,
          -395,
          -405,
          -415,
          -425,
          -435,
          -445,
          -455,
          -465,
          -475,
          -485,
          -495,
          -505,
          -515,
          -525,
          -535,
          -545,
          -555,
          -565,
          -575,
          -585,
          -595,
          -605,
          -615,
          -625,
          -635,
          -645,
          -655,
          -665,
          -675,
          -685,
          -695,
          -705,
          -715,
          -725,
          -735,
          -745,
          -755,
          -765,
          -775,
          -785,
          -795,
          -805,
          -815,
          -825,
          -835,
          -845,
          -855,
          -865,
          -875,
          -885,
          -895,
          -905,
          -915,
          -925,
          -935,
          -945,
          -955,
          -965,
          -975,
          -985,
          -995,
          -1005,
          -1015,
          -1025,
          -1035,
          -1045,
          -1055,
          -1065,
          -1075,
          -1085,
          -1095,
          -1105,
          -1115,
          -1125,
          -1135,
          -1145,
          -1155,
          -1165,
          -1175,
          -1185,
          -1195,
          -1205,
          -1215,
          -1225,
          -1235,
          -1245,
          -1255,
          -1265,
          -1275,
          -1285,
          -1295,
          -1305,
          -1315,
          -1325,
          -1335,
          -1345,
          -1355,
          -1365,
          -1375,
          -1385,
          -1395,
          -1405,
          -1415,
          -1425,
          -1435,
          -1445,
          -1455,
          -1465,
          -1475,
          -1485,
          -1495,
          -1505,
          -1515,
          -1525,
          -1535,
          -1545,
          -1555,
          -1565,
          -1575,
          -1585,
          -1595,
          -1605,
          -1615,
          -1625,
          -1635,
          -1645,
          -1655
         ],
         "type": "linear",
         "zeroline": false
        }
       }
      },
      "text/html": "<div>                            <div id=\"19a5698f-b433-443d-878c-c44a006e7cc4\" class=\"plotly-graph-div\" style=\"height:1000px; width:600px;\"></div>            <script type=\"text/javascript\">                require([\"plotly\"], function(Plotly) {                    window.PLOTLYENV=window.PLOTLYENV || {};                                    if (document.getElementById(\"19a5698f-b433-443d-878c-c44a006e7cc4\")) {                    Plotly.newPlot(                        \"19a5698f-b433-443d-878c-c44a006e7cc4\",                        [{\"hoverinfo\": \"text\", \"marker\": {\"color\": \"rgb(61,153,112)\"}, \"mode\": \"lines\", \"type\": \"scatter\", \"x\": [0.0, 11.0, 11.0, 0.0], \"xaxis\": \"x\", \"y\": [-5.0, -5.0, -15.0, -15.0], \"yaxis\": \"y\"}, {\"hoverinfo\": \"text\", \"marker\": {\"color\": \"rgb(61,153,112)\"}, \"mode\": \"lines\", \"type\": \"scatter\", \"x\": [0.0, 12.206555615733702, 12.206555615733702, 0.0], \"xaxis\": \"x\", \"y\": [-25.0, -25.0, -35.0, -35.0], \"yaxis\": \"y\"}, {\"hoverinfo\": \"text\", \"marker\": {\"color\": \"rgb(61,153,112)\"}, \"mode\": \"lines\", \"type\": \"scatter\", \"x\": [0.0, 8.0, 8.0, 0.0], \"xaxis\": \"x\", \"y\": [-55.0, -55.0, -65.0, -65.0], \"yaxis\": \"y\"}, {\"hoverinfo\": \"text\", \"marker\": {\"color\": \"rgb(61,153,112)\"}, \"mode\": \"lines\", \"type\": \"scatter\", \"x\": [0.0, 8.424268259138973, 8.424268259138973, 8.0], \"xaxis\": \"x\", \"y\": [-45.0, -45.0, -60.0, -60.0], \"yaxis\": \"y\"}, {\"hoverinfo\": \"text\", \"marker\": {\"color\": \"rgb(61,153,112)\"}, \"mode\": \"lines\", \"type\": \"scatter\", \"x\": [0.0, 9.797958971132712, 9.797958971132712, 0.0], \"xaxis\": \"x\", \"y\": [-75.0, -75.0, -85.0, -85.0], \"yaxis\": \"y\"}, {\"hoverinfo\": \"text\", \"marker\": {\"color\": \"rgb(61,153,112)\"}, \"mode\": \"lines\", \"type\": \"scatter\", \"x\": [8.424268259138973, 11.588342019698501, 11.588342019698501, 9.797958971132712], \"xaxis\": \"x\", \"y\": [-52.5, -52.5, -80.0, -80.0], \"yaxis\": \"y\"}, {\"hoverinfo\": \"text\", \"marker\": {\"color\": \"rgb(61,153,112)\"}, \"mode\": \"lines\", \"type\": \"scatter\", \"x\": [0.0, 9.695359714832659, 9.695359714832659, 0.0], \"xaxis\": \"x\", \"y\": [-95.0, -95.0, -105.0, -105.0], \"yaxis\": \"y\"}, {\"hoverinfo\": \"text\", \"marker\": {\"color\": \"rgb(61,153,112)\"}, \"mode\": \"lines\", \"type\": \"scatter\", \"x\": [0.0, 7.0, 7.0, 0.0], \"xaxis\": \"x\", \"y\": [-125.0, -125.0, -135.0, -135.0], \"yaxis\": \"y\"}, {\"hoverinfo\": \"text\", \"marker\": {\"color\": \"rgb(61,153,112)\"}, \"mode\": \"lines\", \"type\": \"scatter\", \"x\": [0.0, 6.708203932499369, 6.708203932499369, 0.0], \"xaxis\": \"x\", \"y\": [-155.0, -155.0, -165.0, -165.0], \"yaxis\": \"y\"}, {\"hoverinfo\": \"text\", \"marker\": {\"color\": \"rgb(61,153,112)\"}, \"mode\": \"lines\", \"type\": \"scatter\", \"x\": [0.0, 8.023873006604681, 8.023873006604681, 6.708203932499369], \"xaxis\": \"x\", \"y\": [-145.0, -145.0, -160.0, -160.0], \"yaxis\": \"y\"}, {\"hoverinfo\": \"text\", \"marker\": {\"color\": \"rgb(61,153,112)\"}, \"mode\": \"lines\", \"type\": \"scatter\", \"x\": [7.0, 8.470821465026267, 8.470821465026267, 8.023873006604681], \"xaxis\": \"x\", \"y\": [-130.0, -130.0, -152.5, -152.5], \"yaxis\": \"y\"}, {\"hoverinfo\": \"text\", \"marker\": {\"color\": \"rgb(61,153,112)\"}, \"mode\": \"lines\", \"type\": \"scatter\", \"x\": [0.0, 6.708203932499369, 6.708203932499369, 0.0], \"xaxis\": \"x\", \"y\": [-195.0, -195.0, -205.0, -205.0], \"yaxis\": \"y\"}, {\"hoverinfo\": \"text\", \"marker\": {\"color\": \"rgb(61,153,112)\"}, \"mode\": \"lines\", \"type\": \"scatter\", \"x\": [0.0, 8.324486130701967, 8.324486130701967, 6.708203932499369], \"xaxis\": \"x\", \"y\": [-185.0, -185.0, -200.0, -200.0], \"yaxis\": \"y\"}, {\"hoverinfo\": \"text\", \"marker\": {\"color\": \"rgb(61,153,112)\"}, \"mode\": \"lines\", \"type\": \"scatter\", \"x\": [0.0, 8.954122143653544, 8.954122143653544, 8.324486130701967], \"xaxis\": \"x\", \"y\": [-175.0, -175.0, -192.5, -192.5], \"yaxis\": \"y\"}, {\"hoverinfo\": \"text\", \"marker\": {\"color\": \"rgb(61,153,112)\"}, \"mode\": \"lines\", \"type\": \"scatter\", \"x\": [0.0, 9.219544457292887, 9.219544457292887, 0.0], \"xaxis\": \"x\", \"y\": [-215.0, -215.0, -225.0, -225.0], \"yaxis\": \"y\"}, {\"hoverinfo\": \"text\", \"marker\": {\"color\": \"rgb(61,153,112)\"}, \"mode\": \"lines\", \"type\": \"scatter\", \"x\": [8.954122143653544, 9.330047611298893, 9.330047611298893, 9.219544457292887], \"xaxis\": \"x\", \"y\": [-183.75, -183.75, -220.0, -220.0], \"yaxis\": \"y\"}, {\"hoverinfo\": \"text\", \"marker\": {\"color\": \"rgb(61,153,112)\"}, \"mode\": \"lines\", \"type\": \"scatter\", \"x\": [8.470821465026267, 9.757892718074388, 9.757892718074388, 9.330047611298893], \"xaxis\": \"x\", \"y\": [-141.25, -141.25, -201.875, -201.875], \"yaxis\": \"y\"}, {\"hoverinfo\": \"text\", \"marker\": {\"color\": \"rgb(61,153,112)\"}, \"mode\": \"lines\", \"type\": \"scatter\", \"x\": [0.0, 7.416198487095663, 7.416198487095663, 0.0], \"xaxis\": \"x\", \"y\": [-265.0, -265.0, -275.0, -275.0], \"yaxis\": \"y\"}, {\"hoverinfo\": \"text\", \"marker\": {\"color\": \"rgb(61,153,112)\"}, \"mode\": \"lines\", \"type\": \"scatter\", \"x\": [0.0, 8.732877854264103, 8.732877854264103, 7.416198487095663], \"xaxis\": \"x\", \"y\": [-255.0, -255.0, -270.0, -270.0], \"yaxis\": \"y\"}, {\"hoverinfo\": \"text\", \"marker\": {\"color\": \"rgb(61,153,112)\"}, \"mode\": \"lines\", \"type\": \"scatter\", \"x\": [0.0, 9.23233218940674, 9.23233218940674, 8.732877854264103], \"xaxis\": \"x\", \"y\": [-245.0, -245.0, -262.5, -262.5], \"yaxis\": \"y\"}, {\"hoverinfo\": \"text\", \"marker\": {\"color\": \"rgb(61,153,112)\"}, \"mode\": \"lines\", \"type\": \"scatter\", \"x\": [0.0, 10.22819380659517, 10.22819380659517, 9.23233218940674], \"xaxis\": \"x\", \"y\": [-235.0, -235.0, -253.75, -253.75], \"yaxis\": \"y\"}, {\"hoverinfo\": \"text\", \"marker\": {\"color\": \"rgb(61,153,112)\"}, \"mode\": \"lines\", \"type\": \"scatter\", \"x\": [9.757892718074388, 10.980357151917556, 10.980357151917556, 10.22819380659517], \"xaxis\": \"x\", \"y\": [-171.5625, -171.5625, -244.375, -244.375], \"yaxis\": \"y\"}, {\"hoverinfo\": \"text\", \"marker\": {\"color\": \"rgb(61,153,112)\"}, \"mode\": \"lines\", \"type\": \"scatter\", \"x\": [0.0, 11.594149120179537, 11.594149120179537, 10.980357151917556], \"xaxis\": \"x\", \"y\": [-115.0, -115.0, -207.96875, -207.96875], \"yaxis\": \"y\"}, {\"hoverinfo\": \"text\", \"marker\": {\"color\": \"rgb(61,153,112)\"}, \"mode\": \"lines\", \"type\": \"scatter\", \"x\": [9.695359714832659, 11.98729439920027, 11.98729439920027, 11.594149120179537], \"xaxis\": \"x\", \"y\": [-100.0, -100.0, -161.484375, -161.484375], \"yaxis\": \"y\"}, {\"hoverinfo\": \"text\", \"marker\": {\"color\": \"rgb(61,153,112)\"}, \"mode\": \"lines\", \"type\": \"scatter\", \"x\": [11.588342019698501, 12.364017285152652, 12.364017285152652, 11.98729439920027], \"xaxis\": \"x\", \"y\": [-66.25, -66.25, -130.7421875, -130.7421875], \"yaxis\": \"y\"}, {\"hoverinfo\": \"text\", \"marker\": {\"color\": \"rgb(61,153,112)\"}, \"mode\": \"lines\", \"type\": \"scatter\", \"x\": [12.206555615733702, 12.916185377578822, 12.916185377578822, 12.364017285152652], \"xaxis\": \"x\", \"y\": [-30.0, -30.0, -98.49609375, -98.49609375], \"yaxis\": \"y\"}, {\"hoverinfo\": \"text\", \"marker\": {\"color\": \"rgb(61,153,112)\"}, \"mode\": \"lines\", \"type\": \"scatter\", \"x\": [0.0, 11.180339887498949, 11.180339887498949, 0.0], \"xaxis\": \"x\", \"y\": [-295.0, -295.0, -305.0, -305.0], \"yaxis\": \"y\"}, {\"hoverinfo\": \"text\", \"marker\": {\"color\": \"rgb(61,153,112)\"}, \"mode\": \"lines\", \"type\": \"scatter\", \"x\": [0.0, 13.057438524302, 13.057438524302, 11.180339887498949], \"xaxis\": \"x\", \"y\": [-285.0, -285.0, -300.0, -300.0], \"yaxis\": \"y\"}, {\"hoverinfo\": \"text\", \"marker\": {\"color\": \"rgb(61,153,112)\"}, \"mode\": \"lines\", \"type\": \"scatter\", \"x\": [12.916185377578822, 15.183991507563048, 15.183991507563048, 13.057438524302], \"xaxis\": \"x\", \"y\": [-64.248046875, -64.248046875, -292.5, -292.5], \"yaxis\": \"y\"}, {\"hoverinfo\": \"text\", \"marker\": {\"color\": \"rgb(61,153,112)\"}, \"mode\": \"lines\", \"type\": \"scatter\", \"x\": [11.0, 19.04035949428176, 19.04035949428176, 15.183991507563048], \"xaxis\": \"x\", \"y\": [-10.0, -10.0, -178.3740234375, -178.3740234375], \"yaxis\": \"y\"}, {\"hoverinfo\": \"text\", \"marker\": {\"color\": \"rgb(255,65,54)\"}, \"mode\": \"lines\", \"type\": \"scatter\", \"x\": [0.0, 7.874007874011811, 7.874007874011811, 0.0], \"xaxis\": \"x\", \"y\": [-315.0, -315.0, -325.0, -325.0], \"yaxis\": \"y\"}, {\"hoverinfo\": \"text\", \"marker\": {\"color\": \"rgb(255,65,54)\"}, \"mode\": \"lines\", \"type\": \"scatter\", \"x\": [0.0, 9.0, 9.0, 0.0], \"xaxis\": \"x\", \"y\": [-335.0, -335.0, -345.0, -345.0], \"yaxis\": \"y\"}, {\"hoverinfo\": \"text\", \"marker\": {\"color\": \"rgb(255,65,54)\"}, \"mode\": \"lines\", \"type\": \"scatter\", \"x\": [7.874007874011811, 11.50612361026731, 11.50612361026731, 9.0], \"xaxis\": \"x\", \"y\": [-320.0, -320.0, -340.0, -340.0], \"yaxis\": \"y\"}, {\"hoverinfo\": \"text\", \"marker\": {\"color\": \"rgb(255,65,54)\"}, \"mode\": \"lines\", \"type\": \"scatter\", \"x\": [0.0, 9.899494936611665, 9.899494936611665, 0.0], \"xaxis\": \"x\", \"y\": [-355.0, -355.0, -365.0, -365.0], \"yaxis\": \"y\"}, {\"hoverinfo\": \"text\", \"marker\": {\"color\": \"rgb(255,65,54)\"}, \"mode\": \"lines\", \"type\": \"scatter\", \"x\": [0.0, 4.358898943540674, 4.358898943540674, 0.0], \"xaxis\": \"x\", \"y\": [-385.0, -385.0, -395.0, -395.0], \"yaxis\": \"y\"}, {\"hoverinfo\": \"text\", \"marker\": {\"color\": \"rgb(255,65,54)\"}, \"mode\": \"lines\", \"type\": \"scatter\", \"x\": [0.0, 3.4641016151377544, 3.4641016151377544, 0.0], \"xaxis\": \"x\", \"y\": [-425.0, -425.0, -435.0, -435.0], \"yaxis\": \"y\"}, {\"hoverinfo\": \"text\", \"marker\": {\"color\": \"rgb(255,65,54)\"}, \"mode\": \"lines\", \"type\": \"scatter\", \"x\": [0.0, 6.23210073777805, 6.23210073777805, 3.4641016151377544], \"xaxis\": \"x\", \"y\": [-415.0, -415.0, -430.0, -430.0], \"yaxis\": \"y\"}, {\"hoverinfo\": \"text\", \"marker\": {\"color\": \"rgb(255,65,54)\"}, \"mode\": \"lines\", \"type\": \"scatter\", \"x\": [0.0, 8.773502691896258, 8.773502691896258, 6.23210073777805], \"xaxis\": \"x\", \"y\": [-405.0, -405.0, -422.5, -422.5], \"yaxis\": \"y\"}, {\"hoverinfo\": \"text\", \"marker\": {\"color\": \"rgb(255,65,54)\"}, \"mode\": \"lines\", \"type\": \"scatter\", \"x\": [4.358898943540674, 9.619284375313285, 9.619284375313285, 8.773502691896258], \"xaxis\": \"x\", \"y\": [-390.0, -390.0, -413.75, -413.75], \"yaxis\": \"y\"}, {\"hoverinfo\": \"text\", \"marker\": {\"color\": \"rgb(255,65,54)\"}, \"mode\": \"lines\", \"type\": \"scatter\", \"x\": [0.0, 11.173727874768177, 11.173727874768177, 9.619284375313285], \"xaxis\": \"x\", \"y\": [-375.0, -375.0, -401.875, -401.875], \"yaxis\": \"y\"}, {\"hoverinfo\": \"text\", \"marker\": {\"color\": \"rgb(255,65,54)\"}, \"mode\": \"lines\", \"type\": \"scatter\", \"x\": [9.899494936611665, 12.080993113599009, 12.080993113599009, 11.173727874768177], \"xaxis\": \"x\", \"y\": [-360.0, -360.0, -388.4375, -388.4375], \"yaxis\": \"y\"}, {\"hoverinfo\": \"text\", \"marker\": {\"color\": \"rgb(255,65,54)\"}, \"mode\": \"lines\", \"type\": \"scatter\", \"x\": [11.50612361026731, 13.327050189848825, 13.327050189848825, 12.080993113599009], \"xaxis\": \"x\", \"y\": [-330.0, -330.0, -374.21875, -374.21875], \"yaxis\": \"y\"}, {\"hoverinfo\": \"text\", \"marker\": {\"color\": \"rgb(255,65,54)\"}, \"mode\": \"lines\", \"type\": \"scatter\", \"x\": [0.0, 10.954451150103322, 10.954451150103322, 0.0], \"xaxis\": \"x\", \"y\": [-445.0, -445.0, -455.0, -455.0], \"yaxis\": \"y\"}, {\"hoverinfo\": \"text\", \"marker\": {\"color\": \"rgb(255,65,54)\"}, \"mode\": \"lines\", \"type\": \"scatter\", \"x\": [0.0, 9.539392014169456, 9.539392014169456, 0.0], \"xaxis\": \"x\", \"y\": [-465.0, -465.0, -475.0, -475.0], \"yaxis\": \"y\"}, {\"hoverinfo\": \"text\", \"marker\": {\"color\": \"rgb(255,65,54)\"}, \"mode\": \"lines\", \"type\": \"scatter\", \"x\": [0.0, 8.94427190999916, 8.94427190999916, 0.0], \"xaxis\": \"x\", \"y\": [-495.0, -495.0, -505.0, -505.0], \"yaxis\": \"y\"}, {\"hoverinfo\": \"text\", \"marker\": {\"color\": \"rgb(255,65,54)\"}, \"mode\": \"lines\", \"type\": \"scatter\", \"x\": [0.0, 9.861902647381804, 9.861902647381804, 8.94427190999916], \"xaxis\": \"x\", \"y\": [-485.0, -485.0, -500.0, -500.0], \"yaxis\": \"y\"}, {\"hoverinfo\": \"text\", \"marker\": {\"color\": \"rgb(255,65,54)\"}, \"mode\": \"lines\", \"type\": \"scatter\", \"x\": [0.0, 8.0, 8.0, 0.0], \"xaxis\": \"x\", \"y\": [-525.0, -525.0, -535.0, -535.0], \"yaxis\": \"y\"}, {\"hoverinfo\": \"text\", \"marker\": {\"color\": \"rgb(255,65,54)\"}, \"mode\": \"lines\", \"type\": \"scatter\", \"x\": [0.0, 8.717043066685237, 8.717043066685237, 8.0], \"xaxis\": \"x\", \"y\": [-515.0, -515.0, -530.0, -530.0], \"yaxis\": \"y\"}, {\"hoverinfo\": \"text\", \"marker\": {\"color\": \"rgb(255,65,54)\"}, \"mode\": \"lines\", \"type\": \"scatter\", \"x\": [0.0, 5.5677643628300215, 5.5677643628300215, 0.0], \"xaxis\": \"x\", \"y\": [-545.0, -545.0, -555.0, -555.0], \"yaxis\": \"y\"}, {\"hoverinfo\": \"text\", \"marker\": {\"color\": \"rgb(255,65,54)\"}, \"mode\": \"lines\", \"type\": \"scatter\", \"x\": [0.0, 8.660254037844387, 8.660254037844387, 0.0], \"xaxis\": \"x\", \"y\": [-565.0, -565.0, -575.0, -575.0], \"yaxis\": \"y\"}, {\"hoverinfo\": \"text\", \"marker\": {\"color\": \"rgb(255,65,54)\"}, \"mode\": \"lines\", \"type\": \"scatter\", \"x\": [5.5677643628300215, 9.175674888682543, 9.175674888682543, 8.660254037844387], \"xaxis\": \"x\", \"y\": [-550.0, -550.0, -570.0, -570.0], \"yaxis\": \"y\"}, {\"hoverinfo\": \"text\", \"marker\": {\"color\": \"rgb(255,65,54)\"}, \"mode\": \"lines\", \"type\": \"scatter\", \"x\": [8.717043066685237, 10.87129270200457, 10.87129270200457, 9.175674888682543], \"xaxis\": \"x\", \"y\": [-522.5, -522.5, -560.0, -560.0], \"yaxis\": \"y\"}, {\"hoverinfo\": \"text\", \"marker\": {\"color\": \"rgb(255,65,54)\"}, \"mode\": \"lines\", \"type\": \"scatter\", \"x\": [9.861902647381804, 11.437516726321453, 11.437516726321453, 10.87129270200457], \"xaxis\": \"x\", \"y\": [-492.5, -492.5, -541.25, -541.25], \"yaxis\": \"y\"}, {\"hoverinfo\": \"text\", \"marker\": {\"color\": \"rgb(255,65,54)\"}, \"mode\": \"lines\", \"type\": \"scatter\", \"x\": [9.539392014169456, 12.409447739670105, 12.409447739670105, 11.437516726321453], \"xaxis\": \"x\", \"y\": [-470.0, -470.0, -516.875, -516.875], \"yaxis\": \"y\"}, {\"hoverinfo\": \"text\", \"marker\": {\"color\": \"rgb(255,65,54)\"}, \"mode\": \"lines\", \"type\": \"scatter\", \"x\": [10.954451150103322, 13.49549513660983, 13.49549513660983, 12.409447739670105], \"xaxis\": \"x\", \"y\": [-450.0, -450.0, -493.4375, -493.4375], \"yaxis\": \"y\"}, {\"hoverinfo\": \"text\", \"marker\": {\"color\": \"rgb(255,65,54)\"}, \"mode\": \"lines\", \"type\": \"scatter\", \"x\": [13.327050189848825, 13.983610600568275, 13.983610600568275, 13.49549513660983], \"xaxis\": \"x\", \"y\": [-352.109375, -352.109375, -471.71875, -471.71875], \"yaxis\": \"y\"}, {\"hoverinfo\": \"text\", \"marker\": {\"color\": \"rgb(35,205,205)\"}, \"mode\": \"lines\", \"type\": \"scatter\", \"x\": [0.0, 11.313708498984761, 11.313708498984761, 0.0], \"xaxis\": \"x\", \"y\": [-585.0, -585.0, -595.0, -595.0], \"yaxis\": \"y\"}, {\"hoverinfo\": \"text\", \"marker\": {\"color\": \"rgb(35,205,205)\"}, \"mode\": \"lines\", \"type\": \"scatter\", \"x\": [0.0, 9.695359714832659, 9.695359714832659, 0.0], \"xaxis\": \"x\", \"y\": [-625.0, -625.0, -635.0, -635.0], \"yaxis\": \"y\"}, {\"hoverinfo\": \"text\", \"marker\": {\"color\": \"rgb(35,205,205)\"}, \"mode\": \"lines\", \"type\": \"scatter\", \"x\": [0.0, 11.151170587945, 11.151170587945, 9.695359714832659], \"xaxis\": \"x\", \"y\": [-615.0, -615.0, -630.0, -630.0], \"yaxis\": \"y\"}, {\"hoverinfo\": \"text\", \"marker\": {\"color\": \"rgb(35,205,205)\"}, \"mode\": \"lines\", \"type\": \"scatter\", \"x\": [0.0, 9.797958971132712, 9.797958971132712, 0.0], \"xaxis\": \"x\", \"y\": [-665.0, -665.0, -675.0, -675.0], \"yaxis\": \"y\"}, {\"hoverinfo\": \"text\", \"marker\": {\"color\": \"rgb(35,205,205)\"}, \"mode\": \"lines\", \"type\": \"scatter\", \"x\": [0.0, 12.487685387636873, 12.487685387636873, 9.797958971132712], \"xaxis\": \"x\", \"y\": [-655.0, -655.0, -670.0, -670.0], \"yaxis\": \"y\"}, {\"hoverinfo\": \"text\", \"marker\": {\"color\": \"rgb(35,205,205)\"}, \"mode\": \"lines\", \"type\": \"scatter\", \"x\": [0.0, 14.0827910480307, 14.0827910480307, 12.487685387636873], \"xaxis\": \"x\", \"y\": [-645.0, -645.0, -662.5, -662.5], \"yaxis\": \"y\"}, {\"hoverinfo\": \"text\", \"marker\": {\"color\": \"rgb(35,205,205)\"}, \"mode\": \"lines\", \"type\": \"scatter\", \"x\": [11.151170587945, 14.432438326376005, 14.432438326376005, 14.0827910480307], \"xaxis\": \"x\", \"y\": [-622.5, -622.5, -653.75, -653.75], \"yaxis\": \"y\"}, {\"hoverinfo\": \"text\", \"marker\": {\"color\": \"rgb(35,205,205)\"}, \"mode\": \"lines\", \"type\": \"scatter\", \"x\": [0.0, 16.283322623473236, 16.283322623473236, 14.432438326376005], \"xaxis\": \"x\", \"y\": [-605.0, -605.0, -638.125, -638.125], \"yaxis\": \"y\"}, {\"hoverinfo\": \"text\", \"marker\": {\"color\": \"rgb(35,205,205)\"}, \"mode\": \"lines\", \"type\": \"scatter\", \"x\": [11.313708498984761, 16.97172451807844, 16.97172451807844, 16.283322623473236], \"xaxis\": \"x\", \"y\": [-590.0, -590.0, -621.5625, -621.5625], \"yaxis\": \"y\"}, {\"hoverinfo\": \"text\", \"marker\": {\"color\": \"rgb(35,205,205)\"}, \"mode\": \"lines\", \"type\": \"scatter\", \"x\": [0.0, 5.656854249492381, 5.656854249492381, 0.0], \"xaxis\": \"x\", \"y\": [-725.0, -725.0, -735.0, -735.0], \"yaxis\": \"y\"}, {\"hoverinfo\": \"text\", \"marker\": {\"color\": \"rgb(35,205,205)\"}, \"mode\": \"lines\", \"type\": \"scatter\", \"x\": [0.0, 9.675507639562209, 9.675507639562209, 5.656854249492381], \"xaxis\": \"x\", \"y\": [-715.0, -715.0, -730.0, -730.0], \"yaxis\": \"y\"}, {\"hoverinfo\": \"text\", \"marker\": {\"color\": \"rgb(35,205,205)\"}, \"mode\": \"lines\", \"type\": \"scatter\", \"x\": [0.0, 11.702239922711295, 11.702239922711295, 9.675507639562209], \"xaxis\": \"x\", \"y\": [-705.0, -705.0, -722.5, -722.5], \"yaxis\": \"y\"}, {\"hoverinfo\": \"text\", \"marker\": {\"color\": \"rgb(35,205,205)\"}, \"mode\": \"lines\", \"type\": \"scatter\", \"x\": [0.0, 12.890848121677989, 12.890848121677989, 11.702239922711295], \"xaxis\": \"x\", \"y\": [-695.0, -695.0, -713.75, -713.75], \"yaxis\": \"y\"}, {\"hoverinfo\": \"text\", \"marker\": {\"color\": \"rgb(35,205,205)\"}, \"mode\": \"lines\", \"type\": \"scatter\", \"x\": [0.0, 7.280109889280518, 7.280109889280518, 0.0], \"xaxis\": \"x\", \"y\": [-775.0, -775.0, -785.0, -785.0], \"yaxis\": \"y\"}, {\"hoverinfo\": \"text\", \"marker\": {\"color\": \"rgb(35,205,205)\"}, \"mode\": \"lines\", \"type\": \"scatter\", \"x\": [0.0, 9.990902608151824, 9.990902608151824, 7.280109889280518], \"xaxis\": \"x\", \"y\": [-765.0, -765.0, -780.0, -780.0], \"yaxis\": \"y\"}, {\"hoverinfo\": \"text\", \"marker\": {\"color\": \"rgb(35,205,205)\"}, \"mode\": \"lines\", \"type\": \"scatter\", \"x\": [0.0, 11.662086814248172, 11.662086814248172, 9.990902608151824], \"xaxis\": \"x\", \"y\": [-755.0, -755.0, -772.5, -772.5], \"yaxis\": \"y\"}, {\"hoverinfo\": \"text\", \"marker\": {\"color\": \"rgb(35,205,205)\"}, \"mode\": \"lines\", \"type\": \"scatter\", \"x\": [0.0, 6.0, 6.0, 0.0], \"xaxis\": \"x\", \"y\": [-805.0, -805.0, -815.0, -815.0], \"yaxis\": \"y\"}, {\"hoverinfo\": \"text\", \"marker\": {\"color\": \"rgb(35,205,205)\"}, \"mode\": \"lines\", \"type\": \"scatter\", \"x\": [0.0, 7.3911649915626345, 7.3911649915626345, 6.0], \"xaxis\": \"x\", \"y\": [-795.0, -795.0, -810.0, -810.0], \"yaxis\": \"y\"}, {\"hoverinfo\": \"text\", \"marker\": {\"color\": \"rgb(35,205,205)\"}, \"mode\": \"lines\", \"type\": \"scatter\", \"x\": [0.0, 4.898979485566356, 4.898979485566356, 0.0], \"xaxis\": \"x\", \"y\": [-855.0, -855.0, -865.0, -865.0], \"yaxis\": \"y\"}, {\"hoverinfo\": \"text\", \"marker\": {\"color\": \"rgb(35,205,205)\"}, \"mode\": \"lines\", \"type\": \"scatter\", \"x\": [0.0, 7.271988168069709, 7.271988168069709, 4.898979485566356], \"xaxis\": \"x\", \"y\": [-845.0, -845.0, -860.0, -860.0], \"yaxis\": \"y\"}, {\"hoverinfo\": \"text\", \"marker\": {\"color\": \"rgb(35,205,205)\"}, \"mode\": \"lines\", \"type\": \"scatter\", \"x\": [0.0, 9.157130830386555, 9.157130830386555, 7.271988168069709], \"xaxis\": \"x\", \"y\": [-835.0, -835.0, -852.5, -852.5], \"yaxis\": \"y\"}, {\"hoverinfo\": \"text\", \"marker\": {\"color\": \"rgb(35,205,205)\"}, \"mode\": \"lines\", \"type\": \"scatter\", \"x\": [0.0, 10.588911660497537, 10.588911660497537, 9.157130830386555], \"xaxis\": \"x\", \"y\": [-825.0, -825.0, -843.75, -843.75], \"yaxis\": \"y\"}, {\"hoverinfo\": \"text\", \"marker\": {\"color\": \"rgb(35,205,205)\"}, \"mode\": \"lines\", \"type\": \"scatter\", \"x\": [7.3911649915626345, 12.366917093596413, 12.366917093596413, 10.588911660497537], \"xaxis\": \"x\", \"y\": [-802.5, -802.5, -834.375, -834.375], \"yaxis\": \"y\"}, {\"hoverinfo\": \"text\", \"marker\": {\"color\": \"rgb(35,205,205)\"}, \"mode\": \"lines\", \"type\": \"scatter\", \"x\": [11.662086814248172, 12.585130712980536, 12.585130712980536, 12.366917093596413], \"xaxis\": \"x\", \"y\": [-763.75, -763.75, -818.4375, -818.4375], \"yaxis\": \"y\"}, {\"hoverinfo\": \"text\", \"marker\": {\"color\": \"rgb(35,205,205)\"}, \"mode\": \"lines\", \"type\": \"scatter\", \"x\": [0.0, 13.568710736732447, 13.568710736732447, 12.585130712980536], \"xaxis\": \"x\", \"y\": [-745.0, -745.0, -791.09375, -791.09375], \"yaxis\": \"y\"}, {\"hoverinfo\": \"text\", \"marker\": {\"color\": \"rgb(35,205,205)\"}, \"mode\": \"lines\", \"type\": \"scatter\", \"x\": [12.890848121677989, 13.996249900516567, 13.996249900516567, 13.568710736732447], \"xaxis\": \"x\", \"y\": [-704.375, -704.375, -768.046875, -768.046875], \"yaxis\": \"y\"}, {\"hoverinfo\": \"text\", \"marker\": {\"color\": \"rgb(35,205,205)\"}, \"mode\": \"lines\", \"type\": \"scatter\", \"x\": [0.0, 14.125961168602869, 14.125961168602869, 13.996249900516567], \"xaxis\": \"x\", \"y\": [-685.0, -685.0, -736.2109375, -736.2109375], \"yaxis\": \"y\"}, {\"hoverinfo\": \"text\", \"marker\": {\"color\": \"rgb(35,205,205)\"}, \"mode\": \"lines\", \"type\": \"scatter\", \"x\": [0.0, 16.46207763315433, 16.46207763315433, 0.0], \"xaxis\": \"x\", \"y\": [-875.0, -875.0, -885.0, -885.0], \"yaxis\": \"y\"}, {\"hoverinfo\": \"text\", \"marker\": {\"color\": \"rgb(35,205,205)\"}, \"mode\": \"lines\", \"type\": \"scatter\", \"x\": [14.125961168602869, 18.143511279732394, 18.143511279732394, 16.46207763315433], \"xaxis\": \"x\", \"y\": [-710.60546875, -710.60546875, -880.0, -880.0], \"yaxis\": \"y\"}, {\"hoverinfo\": \"text\", \"marker\": {\"color\": \"rgb(35,205,205)\"}, \"mode\": \"lines\", \"type\": \"scatter\", \"x\": [16.97172451807844, 19.393000301856482, 19.393000301856482, 18.143511279732394], \"xaxis\": \"x\", \"y\": [-605.78125, -605.78125, -795.302734375, -795.302734375], \"yaxis\": \"y\"}, {\"hoverinfo\": \"text\", \"marker\": {\"color\": \"rgb(133,20,75)\"}, \"mode\": \"lines\", \"type\": \"scatter\", \"x\": [0.0, 7.14142842854285, 7.14142842854285, 0.0], \"xaxis\": \"x\", \"y\": [-895.0, -895.0, -905.0, -905.0], \"yaxis\": \"y\"}, {\"hoverinfo\": \"text\", \"marker\": {\"color\": \"rgb(133,20,75)\"}, \"mode\": \"lines\", \"type\": \"scatter\", \"x\": [0.0, 8.06225774829855, 8.06225774829855, 0.0], \"xaxis\": \"x\", \"y\": [-925.0, -925.0, -935.0, -935.0], \"yaxis\": \"y\"}, {\"hoverinfo\": \"text\", \"marker\": {\"color\": \"rgb(133,20,75)\"}, \"mode\": \"lines\", \"type\": \"scatter\", \"x\": [0.0, 9.13646498486409, 9.13646498486409, 8.06225774829855], \"xaxis\": \"x\", \"y\": [-915.0, -915.0, -930.0, -930.0], \"yaxis\": \"y\"}, {\"hoverinfo\": \"text\", \"marker\": {\"color\": \"rgb(133,20,75)\"}, \"mode\": \"lines\", \"type\": \"scatter\", \"x\": [7.14142842854285, 9.807802703135716, 9.807802703135716, 9.13646498486409], \"xaxis\": \"x\", \"y\": [-900.0, -900.0, -922.5, -922.5], \"yaxis\": \"y\"}, {\"hoverinfo\": \"text\", \"marker\": {\"color\": \"rgb(133,20,75)\"}, \"mode\": \"lines\", \"type\": \"scatter\", \"x\": [0.0, 12.922847983320086, 12.922847983320086, 0.0], \"xaxis\": \"x\", \"y\": [-945.0, -945.0, -955.0, -955.0], \"yaxis\": \"y\"}, {\"hoverinfo\": \"text\", \"marker\": {\"color\": \"rgb(133,20,75)\"}, \"mode\": \"lines\", \"type\": \"scatter\", \"x\": [9.807802703135716, 13.0651696072594, 13.0651696072594, 12.922847983320086], \"xaxis\": \"x\", \"y\": [-911.25, -911.25, -950.0, -950.0], \"yaxis\": \"y\"}, {\"hoverinfo\": \"text\", \"marker\": {\"color\": \"rgb(133,20,75)\"}, \"mode\": \"lines\", \"type\": \"scatter\", \"x\": [0.0, 9.695359714832659, 9.695359714832659, 0.0], \"xaxis\": \"x\", \"y\": [-995.0, -995.0, -1005.0, -1005.0], \"yaxis\": \"y\"}, {\"hoverinfo\": \"text\", \"marker\": {\"color\": \"rgb(133,20,75)\"}, \"mode\": \"lines\", \"type\": \"scatter\", \"x\": [0.0, 10.99237974762487, 10.99237974762487, 9.695359714832659], \"xaxis\": \"x\", \"y\": [-985.0, -985.0, -1000.0, -1000.0], \"yaxis\": \"y\"}, {\"hoverinfo\": \"text\", \"marker\": {\"color\": \"rgb(133,20,75)\"}, \"mode\": \"lines\", \"type\": \"scatter\", \"x\": [0.0, 11.65849574280042, 11.65849574280042, 10.99237974762487], \"xaxis\": \"x\", \"y\": [-975.0, -975.0, -992.5, -992.5], \"yaxis\": \"y\"}, {\"hoverinfo\": \"text\", \"marker\": {\"color\": \"rgb(133,20,75)\"}, \"mode\": \"lines\", \"type\": \"scatter\", \"x\": [0.0, 12.0, 12.0, 0.0], \"xaxis\": \"x\", \"y\": [-1015.0, -1015.0, -1025.0, -1025.0], \"yaxis\": \"y\"}, {\"hoverinfo\": \"text\", \"marker\": {\"color\": \"rgb(133,20,75)\"}, \"mode\": \"lines\", \"type\": \"scatter\", \"x\": [11.65849574280042, 13.32465948419583, 13.32465948419583, 12.0], \"xaxis\": \"x\", \"y\": [-983.75, -983.75, -1020.0, -1020.0], \"yaxis\": \"y\"}, {\"hoverinfo\": \"text\", \"marker\": {\"color\": \"rgb(133,20,75)\"}, \"mode\": \"lines\", \"type\": \"scatter\", \"x\": [0.0, 14.79225888347596, 14.79225888347596, 13.32465948419583], \"xaxis\": \"x\", \"y\": [-965.0, -965.0, -1001.875, -1001.875], \"yaxis\": \"y\"}, {\"hoverinfo\": \"text\", \"marker\": {\"color\": \"rgb(133,20,75)\"}, \"mode\": \"lines\", \"type\": \"scatter\", \"x\": [0.0, 10.44030650891055, 10.44030650891055, 0.0], \"xaxis\": \"x\", \"y\": [-1045.0, -1045.0, -1055.0, -1055.0], \"yaxis\": \"y\"}, {\"hoverinfo\": \"text\", \"marker\": {\"color\": \"rgb(133,20,75)\"}, \"mode\": \"lines\", \"type\": \"scatter\", \"x\": [0.0, 15.079813689287025, 15.079813689287025, 10.44030650891055], \"xaxis\": \"x\", \"y\": [-1035.0, -1035.0, -1050.0, -1050.0], \"yaxis\": \"y\"}, {\"hoverinfo\": \"text\", \"marker\": {\"color\": \"rgb(133,20,75)\"}, \"mode\": \"lines\", \"type\": \"scatter\", \"x\": [14.79225888347596, 16.40150643980584, 16.40150643980584, 15.079813689287025], \"xaxis\": \"x\", \"y\": [-983.4375, -983.4375, -1042.5, -1042.5], \"yaxis\": \"y\"}, {\"hoverinfo\": \"text\", \"marker\": {\"color\": \"rgb(133,20,75)\"}, \"mode\": \"lines\", \"type\": \"scatter\", \"x\": [13.0651696072594, 19.03388297974326, 19.03388297974326, 16.40150643980584], \"xaxis\": \"x\", \"y\": [-930.625, -930.625, -1012.96875, -1012.96875], \"yaxis\": \"y\"}, {\"hoverinfo\": \"text\", \"marker\": {\"color\": \"rgb(255,220,0)\"}, \"mode\": \"lines\", \"type\": \"scatter\", \"x\": [0.0, 10.535653752852738, 10.535653752852738, 0.0], \"xaxis\": \"x\", \"y\": [-1085.0, -1085.0, -1095.0, -1095.0], \"yaxis\": \"y\"}, {\"hoverinfo\": \"text\", \"marker\": {\"color\": \"rgb(255,220,0)\"}, \"mode\": \"lines\", \"type\": \"scatter\", \"x\": [0.0, 14.902078017439525, 14.902078017439525, 10.535653752852738], \"xaxis\": \"x\", \"y\": [-1075.0, -1075.0, -1090.0, -1090.0], \"yaxis\": \"y\"}, {\"hoverinfo\": \"text\", \"marker\": {\"color\": \"rgb(255,220,0)\"}, \"mode\": \"lines\", \"type\": \"scatter\", \"x\": [0.0, 10.908712114635714, 10.908712114635714, 0.0], \"xaxis\": \"x\", \"y\": [-1105.0, -1105.0, -1115.0, -1115.0], \"yaxis\": \"y\"}, {\"hoverinfo\": \"text\", \"marker\": {\"color\": \"rgb(255,220,0)\"}, \"mode\": \"lines\", \"type\": \"scatter\", \"x\": [0.0, 8.306623862918075, 8.306623862918075, 0.0], \"xaxis\": \"x\", \"y\": [-1135.0, -1135.0, -1145.0, -1145.0], \"yaxis\": \"y\"}, {\"hoverinfo\": \"text\", \"marker\": {\"color\": \"rgb(255,220,0)\"}, \"mode\": \"lines\", \"type\": \"scatter\", \"x\": [0.0, 10.0, 10.0, 0.0], \"xaxis\": \"x\", \"y\": [-1155.0, -1155.0, -1165.0, -1165.0], \"yaxis\": \"y\"}, {\"hoverinfo\": \"text\", \"marker\": {\"color\": \"rgb(255,220,0)\"}, \"mode\": \"lines\", \"type\": \"scatter\", \"x\": [8.306623862918075, 10.380336255928002, 10.380336255928002, 10.0], \"xaxis\": \"x\", \"y\": [-1140.0, -1140.0, -1160.0, -1160.0], \"yaxis\": \"y\"}, {\"hoverinfo\": \"text\", \"marker\": {\"color\": \"rgb(255,220,0)\"}, \"mode\": \"lines\", \"type\": \"scatter\", \"x\": [0.0, 12.085025617461955, 12.085025617461955, 10.380336255928002], \"xaxis\": \"x\", \"y\": [-1125.0, -1125.0, -1150.0, -1150.0], \"yaxis\": \"y\"}, {\"hoverinfo\": \"text\", \"marker\": {\"color\": \"rgb(255,220,0)\"}, \"mode\": \"lines\", \"type\": \"scatter\", \"x\": [0.0, 6.4031242374328485, 6.4031242374328485, 0.0], \"xaxis\": \"x\", \"y\": [-1175.0, -1175.0, -1185.0, -1185.0], \"yaxis\": \"y\"}, {\"hoverinfo\": \"text\", \"marker\": {\"color\": \"rgb(255,220,0)\"}, \"mode\": \"lines\", \"type\": \"scatter\", \"x\": [0.0, 8.774964387392123, 8.774964387392123, 0.0], \"xaxis\": \"x\", \"y\": [-1195.0, -1195.0, -1205.0, -1205.0], \"yaxis\": \"y\"}, {\"hoverinfo\": \"text\", \"marker\": {\"color\": \"rgb(255,220,0)\"}, \"mode\": \"lines\", \"type\": \"scatter\", \"x\": [0.0, 9.0, 9.0, 0.0], \"xaxis\": \"x\", \"y\": [-1215.0, -1215.0, -1225.0, -1225.0], \"yaxis\": \"y\"}, {\"hoverinfo\": \"text\", \"marker\": {\"color\": \"rgb(255,220,0)\"}, \"mode\": \"lines\", \"type\": \"scatter\", \"x\": [8.774964387392123, 9.944127554530969, 9.944127554530969, 9.0], \"xaxis\": \"x\", \"y\": [-1200.0, -1200.0, -1220.0, -1220.0], \"yaxis\": \"y\"}, {\"hoverinfo\": \"text\", \"marker\": {\"color\": \"rgb(255,220,0)\"}, \"mode\": \"lines\", \"type\": \"scatter\", \"x\": [0.0, 8.246211251235321, 8.246211251235321, 0.0], \"xaxis\": \"x\", \"y\": [-1245.0, -1245.0, -1255.0, -1255.0], \"yaxis\": \"y\"}, {\"hoverinfo\": \"text\", \"marker\": {\"color\": \"rgb(255,220,0)\"}, \"mode\": \"lines\", \"type\": \"scatter\", \"x\": [0.0, 5.477225575051661, 5.477225575051661, 0.0], \"xaxis\": \"x\", \"y\": [-1305.0, -1305.0, -1315.0, -1315.0], \"yaxis\": \"y\"}, {\"hoverinfo\": \"text\", \"marker\": {\"color\": \"rgb(255,220,0)\"}, \"mode\": \"lines\", \"type\": \"scatter\", \"x\": [0.0, 7.210769158911685, 7.210769158911685, 5.477225575051661], \"xaxis\": \"x\", \"y\": [-1295.0, -1295.0, -1310.0, -1310.0], \"yaxis\": \"y\"}, {\"hoverinfo\": \"text\", \"marker\": {\"color\": \"rgb(255,220,0)\"}, \"mode\": \"lines\", \"type\": \"scatter\", \"x\": [0.0, 7.613346932126075, 7.613346932126075, 7.210769158911685], \"xaxis\": \"x\", \"y\": [-1285.0, -1285.0, -1302.5, -1302.5], \"yaxis\": \"y\"}, {\"hoverinfo\": \"text\", \"marker\": {\"color\": \"rgb(255,220,0)\"}, \"mode\": \"lines\", \"type\": \"scatter\", \"x\": [0.0, 8.787312194356083, 8.787312194356083, 7.613346932126075], \"xaxis\": \"x\", \"y\": [-1275.0, -1275.0, -1293.75, -1293.75], \"yaxis\": \"y\"}, {\"hoverinfo\": \"text\", \"marker\": {\"color\": \"rgb(255,220,0)\"}, \"mode\": \"lines\", \"type\": \"scatter\", \"x\": [0.0, 9.54683960258032, 9.54683960258032, 8.787312194356083], \"xaxis\": \"x\", \"y\": [-1265.0, -1265.0, -1284.375, -1284.375], \"yaxis\": \"y\"}, {\"hoverinfo\": \"text\", \"marker\": {\"color\": \"rgb(255,220,0)\"}, \"mode\": \"lines\", \"type\": \"scatter\", \"x\": [8.246211251235321, 9.744178860698572, 9.744178860698572, 9.54683960258032], \"xaxis\": \"x\", \"y\": [-1250.0, -1250.0, -1274.6875, -1274.6875], \"yaxis\": \"y\"}, {\"hoverinfo\": \"text\", \"marker\": {\"color\": \"rgb(255,220,0)\"}, \"mode\": \"lines\", \"type\": \"scatter\", \"x\": [0.0, 10.368506240530373, 10.368506240530373, 9.744178860698572], \"xaxis\": \"x\", \"y\": [-1235.0, -1235.0, -1262.34375, -1262.34375], \"yaxis\": \"y\"}, {\"hoverinfo\": \"text\", \"marker\": {\"color\": \"rgb(255,220,0)\"}, \"mode\": \"lines\", \"type\": \"scatter\", \"x\": [9.944127554530969, 11.342541463209532, 11.342541463209532, 10.368506240530373], \"xaxis\": \"x\", \"y\": [-1210.0, -1210.0, -1248.671875, -1248.671875], \"yaxis\": \"y\"}, {\"hoverinfo\": \"text\", \"marker\": {\"color\": \"rgb(255,220,0)\"}, \"mode\": \"lines\", \"type\": \"scatter\", \"x\": [6.4031242374328485, 12.411995211494116, 12.411995211494116, 11.342541463209532], \"xaxis\": \"x\", \"y\": [-1180.0, -1180.0, -1229.3359375, -1229.3359375], \"yaxis\": \"y\"}, {\"hoverinfo\": \"text\", \"marker\": {\"color\": \"rgb(255,220,0)\"}, \"mode\": \"lines\", \"type\": \"scatter\", \"x\": [12.085025617461955, 12.904684897528378, 12.904684897528378, 12.411995211494116], \"xaxis\": \"x\", \"y\": [-1137.5, -1137.5, -1204.66796875, -1204.66796875], \"yaxis\": \"y\"}, {\"hoverinfo\": \"text\", \"marker\": {\"color\": \"rgb(255,220,0)\"}, \"mode\": \"lines\", \"type\": \"scatter\", \"x\": [0.0, 12.083045973594572, 12.083045973594572, 0.0], \"xaxis\": \"x\", \"y\": [-1335.0, -1335.0, -1345.0, -1345.0], \"yaxis\": \"y\"}, {\"hoverinfo\": \"text\", \"marker\": {\"color\": \"rgb(255,220,0)\"}, \"mode\": \"lines\", \"type\": \"scatter\", \"x\": [0.0, 13.505389459221778, 13.505389459221778, 12.083045973594572], \"xaxis\": \"x\", \"y\": [-1325.0, -1325.0, -1340.0, -1340.0], \"yaxis\": \"y\"}, {\"hoverinfo\": \"text\", \"marker\": {\"color\": \"rgb(255,220,0)\"}, \"mode\": \"lines\", \"type\": \"scatter\", \"x\": [12.904684897528378, 14.337935312892297, 14.337935312892297, 13.505389459221778], \"xaxis\": \"x\", \"y\": [-1171.083984375, -1171.083984375, -1332.5, -1332.5], \"yaxis\": \"y\"}, {\"hoverinfo\": \"text\", \"marker\": {\"color\": \"rgb(255,220,0)\"}, \"mode\": \"lines\", \"type\": \"scatter\", \"x\": [10.908712114635714, 15.570827202646784, 15.570827202646784, 14.337935312892297], \"xaxis\": \"x\", \"y\": [-1110.0, -1110.0, -1251.7919921875, -1251.7919921875], \"yaxis\": \"y\"}, {\"hoverinfo\": \"text\", \"marker\": {\"color\": \"rgb(255,220,0)\"}, \"mode\": \"lines\", \"type\": \"scatter\", \"x\": [14.902078017439525, 17.424033624749057, 17.424033624749057, 15.570827202646784], \"xaxis\": \"x\", \"y\": [-1082.5, -1082.5, -1180.89599609375, -1180.89599609375], \"yaxis\": \"y\"}, {\"hoverinfo\": \"text\", \"marker\": {\"color\": \"rgb(40,35,35)\"}, \"mode\": \"lines\", \"type\": \"scatter\", \"x\": [0.0, 10.583005244258363, 10.583005244258363, 0.0], \"xaxis\": \"x\", \"y\": [-1355.0, -1355.0, -1365.0, -1365.0], \"yaxis\": \"y\"}, {\"hoverinfo\": \"text\", \"marker\": {\"color\": \"rgb(40,35,35)\"}, \"mode\": \"lines\", \"type\": \"scatter\", \"x\": [0.0, 6.708203932499369, 6.708203932499369, 0.0], \"xaxis\": \"x\", \"y\": [-1375.0, -1375.0, -1385.0, -1385.0], \"yaxis\": \"y\"}, {\"hoverinfo\": \"text\", \"marker\": {\"color\": \"rgb(40,35,35)\"}, \"mode\": \"lines\", \"type\": \"scatter\", \"x\": [0.0, 9.848857801796104, 9.848857801796104, 0.0], \"xaxis\": \"x\", \"y\": [-1395.0, -1395.0, -1405.0, -1405.0], \"yaxis\": \"y\"}, {\"hoverinfo\": \"text\", \"marker\": {\"color\": \"rgb(40,35,35)\"}, \"mode\": \"lines\", \"type\": \"scatter\", \"x\": [6.708203932499369, 10.837625969670238, 10.837625969670238, 9.848857801796104], \"xaxis\": \"x\", \"y\": [-1380.0, -1380.0, -1400.0, -1400.0], \"yaxis\": \"y\"}, {\"hoverinfo\": \"text\", \"marker\": {\"color\": \"rgb(40,35,35)\"}, \"mode\": \"lines\", \"type\": \"scatter\", \"x\": [10.583005244258363, 13.152256352599034, 13.152256352599034, 10.837625969670238], \"xaxis\": \"x\", \"y\": [-1360.0, -1360.0, -1390.0, -1390.0], \"yaxis\": \"y\"}, {\"hoverinfo\": \"text\", \"marker\": {\"color\": \"rgb(40,35,35)\"}, \"mode\": \"lines\", \"type\": \"scatter\", \"x\": [0.0, 13.45362404707371, 13.45362404707371, 0.0], \"xaxis\": \"x\", \"y\": [-1415.0, -1415.0, -1425.0, -1425.0], \"yaxis\": \"y\"}, {\"hoverinfo\": \"text\", \"marker\": {\"color\": \"rgb(40,35,35)\"}, \"mode\": \"lines\", \"type\": \"scatter\", \"x\": [0.0, 7.280109889280518, 7.280109889280518, 0.0], \"xaxis\": \"x\", \"y\": [-1445.0, -1445.0, -1455.0, -1455.0], \"yaxis\": \"y\"}, {\"hoverinfo\": \"text\", \"marker\": {\"color\": \"rgb(40,35,35)\"}, \"mode\": \"lines\", \"type\": \"scatter\", \"x\": [0.0, 8.912702713878033, 8.912702713878033, 7.280109889280518], \"xaxis\": \"x\", \"y\": [-1435.0, -1435.0, -1450.0, -1450.0], \"yaxis\": \"y\"}, {\"hoverinfo\": \"text\", \"marker\": {\"color\": \"rgb(40,35,35)\"}, \"mode\": \"lines\", \"type\": \"scatter\", \"x\": [0.0, 5.656854249492381, 5.656854249492381, 0.0], \"xaxis\": \"x\", \"y\": [-1485.0, -1485.0, -1495.0, -1495.0], \"yaxis\": \"y\"}, {\"hoverinfo\": \"text\", \"marker\": {\"color\": \"rgb(40,35,35)\"}, \"mode\": \"lines\", \"type\": \"scatter\", \"x\": [0.0, 8.887482193696062, 8.887482193696062, 5.656854249492381], \"xaxis\": \"x\", \"y\": [-1475.0, -1475.0, -1490.0, -1490.0], \"yaxis\": \"y\"}, {\"hoverinfo\": \"text\", \"marker\": {\"color\": \"rgb(40,35,35)\"}, \"mode\": \"lines\", \"type\": \"scatter\", \"x\": [0.0, 9.458838060756507, 9.458838060756507, 8.887482193696062], \"xaxis\": \"x\", \"y\": [-1465.0, -1465.0, -1482.5, -1482.5], \"yaxis\": \"y\"}, {\"hoverinfo\": \"text\", \"marker\": {\"color\": \"rgb(40,35,35)\"}, \"mode\": \"lines\", \"type\": \"scatter\", \"x\": [0.0, 10.535653752852738, 10.535653752852738, 0.0], \"xaxis\": \"x\", \"y\": [-1505.0, -1505.0, -1515.0, -1515.0], \"yaxis\": \"y\"}, {\"hoverinfo\": \"text\", \"marker\": {\"color\": \"rgb(40,35,35)\"}, \"mode\": \"lines\", \"type\": \"scatter\", \"x\": [0.0, 8.12403840463596, 8.12403840463596, 0.0], \"xaxis\": \"x\", \"y\": [-1545.0, -1545.0, -1555.0, -1555.0], \"yaxis\": \"y\"}, {\"hoverinfo\": \"text\", \"marker\": {\"color\": \"rgb(40,35,35)\"}, \"mode\": \"lines\", \"type\": \"scatter\", \"x\": [0.0, 9.668288377706212, 9.668288377706212, 8.12403840463596], \"xaxis\": \"x\", \"y\": [-1535.0, -1535.0, -1550.0, -1550.0], \"yaxis\": \"y\"}, {\"hoverinfo\": \"text\", \"marker\": {\"color\": \"rgb(40,35,35)\"}, \"mode\": \"lines\", \"type\": \"scatter\", \"x\": [0.0, 10.783006207848755, 10.783006207848755, 9.668288377706212], \"xaxis\": \"x\", \"y\": [-1525.0, -1525.0, -1542.5, -1542.5], \"yaxis\": \"y\"}, {\"hoverinfo\": \"text\", \"marker\": {\"color\": \"rgb(40,35,35)\"}, \"mode\": \"lines\", \"type\": \"scatter\", \"x\": [10.535653752852738, 11.729388057508018, 11.729388057508018, 10.783006207848755], \"xaxis\": \"x\", \"y\": [-1510.0, -1510.0, -1533.75, -1533.75], \"yaxis\": \"y\"}, {\"hoverinfo\": \"text\", \"marker\": {\"color\": \"rgb(40,35,35)\"}, \"mode\": \"lines\", \"type\": \"scatter\", \"x\": [9.458838060756507, 12.322160954908638, 12.322160954908638, 11.729388057508018], \"xaxis\": \"x\", \"y\": [-1473.75, -1473.75, -1521.875, -1521.875], \"yaxis\": \"y\"}, {\"hoverinfo\": \"text\", \"marker\": {\"color\": \"rgb(40,35,35)\"}, \"mode\": \"lines\", \"type\": \"scatter\", \"x\": [8.912702713878033, 13.555502383625418, 13.555502383625418, 12.322160954908638], \"xaxis\": \"x\", \"y\": [-1442.5, -1442.5, -1497.8125, -1497.8125], \"yaxis\": \"y\"}, {\"hoverinfo\": \"text\", \"marker\": {\"color\": \"rgb(40,35,35)\"}, \"mode\": \"lines\", \"type\": \"scatter\", \"x\": [13.45362404707371, 14.361453755846062, 14.361453755846062, 13.555502383625418], \"xaxis\": \"x\", \"y\": [-1420.0, -1420.0, -1470.15625, -1470.15625], \"yaxis\": \"y\"}, {\"hoverinfo\": \"text\", \"marker\": {\"color\": \"rgb(40,35,35)\"}, \"mode\": \"lines\", \"type\": \"scatter\", \"x\": [13.152256352599034, 15.358635615320543, 15.358635615320543, 14.361453755846062], \"xaxis\": \"x\", \"y\": [-1375.0, -1375.0, -1445.078125, -1445.078125], \"yaxis\": \"y\"}, {\"hoverinfo\": \"text\", \"marker\": {\"color\": \"rgb(40,35,35)\"}, \"mode\": \"lines\", \"type\": \"scatter\", \"x\": [0.0, 8.18535277187245, 8.18535277187245, 0.0], \"xaxis\": \"x\", \"y\": [-1585.0, -1585.0, -1595.0, -1595.0], \"yaxis\": \"y\"}, {\"hoverinfo\": \"text\", \"marker\": {\"color\": \"rgb(40,35,35)\"}, \"mode\": \"lines\", \"type\": \"scatter\", \"x\": [0.0, 8.426149773176359, 8.426149773176359, 0.0], \"xaxis\": \"x\", \"y\": [-1645.0, -1645.0, -1655.0, -1655.0], \"yaxis\": \"y\"}, {\"hoverinfo\": \"text\", \"marker\": {\"color\": \"rgb(40,35,35)\"}, \"mode\": \"lines\", \"type\": \"scatter\", \"x\": [0.0, 9.353188718899013, 9.353188718899013, 8.426149773176359], \"xaxis\": \"x\", \"y\": [-1635.0, -1635.0, -1650.0, -1650.0], \"yaxis\": \"y\"}, {\"hoverinfo\": \"text\", \"marker\": {\"color\": \"rgb(40,35,35)\"}, \"mode\": \"lines\", \"type\": \"scatter\", \"x\": [0.0, 9.887553907612999, 9.887553907612999, 9.353188718899013], \"xaxis\": \"x\", \"y\": [-1625.0, -1625.0, -1642.5, -1642.5], \"yaxis\": \"y\"}, {\"hoverinfo\": \"text\", \"marker\": {\"color\": \"rgb(40,35,35)\"}, \"mode\": \"lines\", \"type\": \"scatter\", \"x\": [0.0, 12.096426389845664, 12.096426389845664, 9.887553907612999], \"xaxis\": \"x\", \"y\": [-1615.0, -1615.0, -1633.75, -1633.75], \"yaxis\": \"y\"}, {\"hoverinfo\": \"text\", \"marker\": {\"color\": \"rgb(40,35,35)\"}, \"mode\": \"lines\", \"type\": \"scatter\", \"x\": [0.0, 13.032647704060826, 13.032647704060826, 12.096426389845664], \"xaxis\": \"x\", \"y\": [-1605.0, -1605.0, -1624.375, -1624.375], \"yaxis\": \"y\"}, {\"hoverinfo\": \"text\", \"marker\": {\"color\": \"rgb(40,35,35)\"}, \"mode\": \"lines\", \"type\": \"scatter\", \"x\": [8.18535277187245, 13.735688876894038, 13.735688876894038, 13.032647704060826], \"xaxis\": \"x\", \"y\": [-1590.0, -1590.0, -1614.6875, -1614.6875], \"yaxis\": \"y\"}, {\"hoverinfo\": \"text\", \"marker\": {\"color\": \"rgb(40,35,35)\"}, \"mode\": \"lines\", \"type\": \"scatter\", \"x\": [0.0, 14.290442934503744, 14.290442934503744, 13.735688876894038], \"xaxis\": \"x\", \"y\": [-1575.0, -1575.0, -1602.34375, -1602.34375], \"yaxis\": \"y\"}, {\"hoverinfo\": \"text\", \"marker\": {\"color\": \"rgb(40,35,35)\"}, \"mode\": \"lines\", \"type\": \"scatter\", \"x\": [0.0, 15.427714619029492, 15.427714619029492, 14.290442934503744], \"xaxis\": \"x\", \"y\": [-1565.0, -1565.0, -1588.671875, -1588.671875], \"yaxis\": \"y\"}, {\"hoverinfo\": \"text\", \"marker\": {\"color\": \"rgb(40,35,35)\"}, \"mode\": \"lines\", \"type\": \"scatter\", \"x\": [15.358635615320543, 17.46683336587329, 17.46683336587329, 15.427714619029492], \"xaxis\": \"x\", \"y\": [-1410.0390625, -1410.0390625, -1576.8359375, -1576.8359375], \"yaxis\": \"y\"}, {\"hoverinfo\": \"text\", \"marker\": {\"color\": \"rgb(0,116,217)\"}, \"mode\": \"lines\", \"type\": \"scatter\", \"x\": [17.424033624749057, 20.227806272017215, 20.227806272017215, 17.46683336587329], \"xaxis\": \"x\", \"y\": [-1131.697998046875, -1131.697998046875, -1493.4375, -1493.4375], \"yaxis\": \"y\"}, {\"hoverinfo\": \"text\", \"marker\": {\"color\": \"rgb(0,116,217)\"}, \"mode\": \"lines\", \"type\": \"scatter\", \"x\": [0.0, 21.087668834677398, 21.087668834677398, 20.227806272017215], \"xaxis\": \"x\", \"y\": [-1065.0, -1065.0, -1312.5677490234375, -1312.5677490234375], \"yaxis\": \"y\"}, {\"hoverinfo\": \"text\", \"marker\": {\"color\": \"rgb(0,116,217)\"}, \"mode\": \"lines\", \"type\": \"scatter\", \"x\": [19.03388297974326, 23.17344608552563, 23.17344608552563, 21.087668834677398], \"xaxis\": \"x\", \"y\": [-971.796875, -971.796875, -1188.7838745117188, -1188.7838745117188], \"yaxis\": \"y\"}, {\"hoverinfo\": \"text\", \"marker\": {\"color\": \"rgb(0,116,217)\"}, \"mode\": \"lines\", \"type\": \"scatter\", \"x\": [19.393000301856482, 24.30427490939802, 24.30427490939802, 23.17344608552563], \"xaxis\": \"x\", \"y\": [-700.5419921875, -700.5419921875, -1080.2903747558594, -1080.2903747558594], \"yaxis\": \"y\"}, {\"hoverinfo\": \"text\", \"marker\": {\"color\": \"rgb(0,116,217)\"}, \"mode\": \"lines\", \"type\": \"scatter\", \"x\": [13.983610600568275, 26.371331194610498, 26.371331194610498, 24.30427490939802], \"xaxis\": \"x\", \"y\": [-411.9140625, -411.9140625, -890.4161834716797, -890.4161834716797], \"yaxis\": \"y\"}, {\"hoverinfo\": \"text\", \"marker\": {\"color\": \"rgb(0,116,217)\"}, \"mode\": \"lines\", \"type\": \"scatter\", \"x\": [19.04035949428176, 27.847859735815764, 27.847859735815764, 26.371331194610498], \"xaxis\": \"x\", \"y\": [-94.18701171875, -94.18701171875, -651.1651229858398, -651.1651229858398], \"yaxis\": \"y\"}],                        {\"autosize\": false, \"height\": 1000, \"hovermode\": \"closest\", \"showlegend\": false, \"template\": {\"data\": {\"bar\": [{\"error_x\": {\"color\": \"#2a3f5f\"}, \"error_y\": {\"color\": \"#2a3f5f\"}, \"marker\": {\"line\": {\"color\": \"#E5ECF6\", \"width\": 0.5}}, \"type\": \"bar\"}], \"barpolar\": [{\"marker\": {\"line\": {\"color\": \"#E5ECF6\", \"width\": 0.5}}, \"type\": \"barpolar\"}], \"carpet\": [{\"aaxis\": {\"endlinecolor\": \"#2a3f5f\", \"gridcolor\": \"white\", \"linecolor\": \"white\", \"minorgridcolor\": \"white\", \"startlinecolor\": \"#2a3f5f\"}, \"baxis\": {\"endlinecolor\": \"#2a3f5f\", \"gridcolor\": \"white\", \"linecolor\": \"white\", \"minorgridcolor\": \"white\", \"startlinecolor\": \"#2a3f5f\"}, \"type\": \"carpet\"}], \"choropleth\": [{\"colorbar\": {\"outlinewidth\": 0, \"ticks\": \"\"}, \"type\": \"choropleth\"}], \"contour\": [{\"colorbar\": {\"outlinewidth\": 0, \"ticks\": \"\"}, \"colorscale\": [[0.0, \"#0d0887\"], [0.1111111111111111, \"#46039f\"], [0.2222222222222222, \"#7201a8\"], [0.3333333333333333, \"#9c179e\"], [0.4444444444444444, \"#bd3786\"], [0.5555555555555556, \"#d8576b\"], [0.6666666666666666, \"#ed7953\"], [0.7777777777777778, \"#fb9f3a\"], [0.8888888888888888, \"#fdca26\"], [1.0, \"#f0f921\"]], \"type\": \"contour\"}], \"contourcarpet\": [{\"colorbar\": {\"outlinewidth\": 0, \"ticks\": \"\"}, \"type\": \"contourcarpet\"}], \"heatmap\": [{\"colorbar\": {\"outlinewidth\": 0, \"ticks\": \"\"}, \"colorscale\": [[0.0, \"#0d0887\"], [0.1111111111111111, \"#46039f\"], [0.2222222222222222, \"#7201a8\"], [0.3333333333333333, \"#9c179e\"], [0.4444444444444444, \"#bd3786\"], [0.5555555555555556, \"#d8576b\"], [0.6666666666666666, \"#ed7953\"], [0.7777777777777778, \"#fb9f3a\"], [0.8888888888888888, \"#fdca26\"], [1.0, \"#f0f921\"]], \"type\": \"heatmap\"}], \"heatmapgl\": [{\"colorbar\": {\"outlinewidth\": 0, \"ticks\": \"\"}, \"colorscale\": [[0.0, \"#0d0887\"], [0.1111111111111111, \"#46039f\"], [0.2222222222222222, \"#7201a8\"], [0.3333333333333333, \"#9c179e\"], [0.4444444444444444, \"#bd3786\"], [0.5555555555555556, \"#d8576b\"], [0.6666666666666666, \"#ed7953\"], [0.7777777777777778, \"#fb9f3a\"], [0.8888888888888888, \"#fdca26\"], [1.0, \"#f0f921\"]], \"type\": \"heatmapgl\"}], \"histogram\": [{\"marker\": {\"colorbar\": {\"outlinewidth\": 0, \"ticks\": \"\"}}, \"type\": \"histogram\"}], \"histogram2d\": [{\"colorbar\": {\"outlinewidth\": 0, \"ticks\": \"\"}, \"colorscale\": [[0.0, \"#0d0887\"], [0.1111111111111111, \"#46039f\"], [0.2222222222222222, \"#7201a8\"], [0.3333333333333333, \"#9c179e\"], [0.4444444444444444, \"#bd3786\"], [0.5555555555555556, \"#d8576b\"], [0.6666666666666666, \"#ed7953\"], [0.7777777777777778, \"#fb9f3a\"], [0.8888888888888888, \"#fdca26\"], [1.0, \"#f0f921\"]], \"type\": \"histogram2d\"}], \"histogram2dcontour\": [{\"colorbar\": {\"outlinewidth\": 0, \"ticks\": \"\"}, \"colorscale\": [[0.0, \"#0d0887\"], [0.1111111111111111, \"#46039f\"], [0.2222222222222222, \"#7201a8\"], [0.3333333333333333, \"#9c179e\"], [0.4444444444444444, \"#bd3786\"], [0.5555555555555556, \"#d8576b\"], [0.6666666666666666, \"#ed7953\"], [0.7777777777777778, \"#fb9f3a\"], [0.8888888888888888, \"#fdca26\"], [1.0, \"#f0f921\"]], \"type\": \"histogram2dcontour\"}], \"mesh3d\": [{\"colorbar\": {\"outlinewidth\": 0, \"ticks\": \"\"}, \"type\": \"mesh3d\"}], \"parcoords\": [{\"line\": {\"colorbar\": {\"outlinewidth\": 0, \"ticks\": \"\"}}, \"type\": \"parcoords\"}], \"pie\": [{\"automargin\": true, \"type\": \"pie\"}], \"scatter\": [{\"marker\": {\"colorbar\": {\"outlinewidth\": 0, \"ticks\": \"\"}}, \"type\": \"scatter\"}], \"scatter3d\": [{\"line\": {\"colorbar\": {\"outlinewidth\": 0, \"ticks\": \"\"}}, \"marker\": {\"colorbar\": {\"outlinewidth\": 0, \"ticks\": \"\"}}, \"type\": \"scatter3d\"}], \"scattercarpet\": [{\"marker\": {\"colorbar\": {\"outlinewidth\": 0, \"ticks\": \"\"}}, \"type\": \"scattercarpet\"}], \"scattergeo\": [{\"marker\": {\"colorbar\": {\"outlinewidth\": 0, \"ticks\": \"\"}}, \"type\": \"scattergeo\"}], \"scattergl\": [{\"marker\": {\"colorbar\": {\"outlinewidth\": 0, \"ticks\": \"\"}}, \"type\": \"scattergl\"}], \"scattermapbox\": [{\"marker\": {\"colorbar\": {\"outlinewidth\": 0, \"ticks\": \"\"}}, \"type\": \"scattermapbox\"}], \"scatterpolar\": [{\"marker\": {\"colorbar\": {\"outlinewidth\": 0, \"ticks\": \"\"}}, \"type\": \"scatterpolar\"}], \"scatterpolargl\": [{\"marker\": {\"colorbar\": {\"outlinewidth\": 0, \"ticks\": \"\"}}, \"type\": \"scatterpolargl\"}], \"scatterternary\": [{\"marker\": {\"colorbar\": {\"outlinewidth\": 0, \"ticks\": \"\"}}, \"type\": \"scatterternary\"}], \"surface\": [{\"colorbar\": {\"outlinewidth\": 0, \"ticks\": \"\"}, \"colorscale\": [[0.0, \"#0d0887\"], [0.1111111111111111, \"#46039f\"], [0.2222222222222222, \"#7201a8\"], [0.3333333333333333, \"#9c179e\"], [0.4444444444444444, \"#bd3786\"], [0.5555555555555556, \"#d8576b\"], [0.6666666666666666, \"#ed7953\"], [0.7777777777777778, \"#fb9f3a\"], [0.8888888888888888, \"#fdca26\"], [1.0, \"#f0f921\"]], \"type\": \"surface\"}], \"table\": [{\"cells\": {\"fill\": {\"color\": \"#EBF0F8\"}, \"line\": {\"color\": \"white\"}}, \"header\": {\"fill\": {\"color\": \"#C8D4E3\"}, \"line\": {\"color\": \"white\"}}, \"type\": \"table\"}]}, \"layout\": {\"annotationdefaults\": {\"arrowcolor\": \"#2a3f5f\", \"arrowhead\": 0, \"arrowwidth\": 1}, \"coloraxis\": {\"colorbar\": {\"outlinewidth\": 0, \"ticks\": \"\"}}, \"colorscale\": {\"diverging\": [[0, \"#8e0152\"], [0.1, \"#c51b7d\"], [0.2, \"#de77ae\"], [0.3, \"#f1b6da\"], [0.4, \"#fde0ef\"], [0.5, \"#f7f7f7\"], [0.6, \"#e6f5d0\"], [0.7, \"#b8e186\"], [0.8, \"#7fbc41\"], [0.9, \"#4d9221\"], [1, \"#276419\"]], \"sequential\": [[0.0, \"#0d0887\"], [0.1111111111111111, \"#46039f\"], [0.2222222222222222, \"#7201a8\"], [0.3333333333333333, \"#9c179e\"], [0.4444444444444444, \"#bd3786\"], [0.5555555555555556, \"#d8576b\"], [0.6666666666666666, \"#ed7953\"], [0.7777777777777778, \"#fb9f3a\"], [0.8888888888888888, \"#fdca26\"], [1.0, \"#f0f921\"]], \"sequentialminus\": [[0.0, \"#0d0887\"], [0.1111111111111111, \"#46039f\"], [0.2222222222222222, \"#7201a8\"], [0.3333333333333333, \"#9c179e\"], [0.4444444444444444, \"#bd3786\"], [0.5555555555555556, \"#d8576b\"], [0.6666666666666666, \"#ed7953\"], [0.7777777777777778, \"#fb9f3a\"], [0.8888888888888888, \"#fdca26\"], [1.0, \"#f0f921\"]]}, \"colorway\": [\"#636efa\", \"#EF553B\", \"#00cc96\", \"#ab63fa\", \"#FFA15A\", \"#19d3f3\", \"#FF6692\", \"#B6E880\", \"#FF97FF\", \"#FECB52\"], \"font\": {\"color\": \"#2a3f5f\"}, \"geo\": {\"bgcolor\": \"white\", \"lakecolor\": \"white\", \"landcolor\": \"#E5ECF6\", \"showlakes\": true, \"showland\": true, \"subunitcolor\": \"white\"}, \"hoverlabel\": {\"align\": \"left\"}, \"hovermode\": \"closest\", \"mapbox\": {\"style\": \"light\"}, \"paper_bgcolor\": \"white\", \"plot_bgcolor\": \"#E5ECF6\", \"polar\": {\"angularaxis\": {\"gridcolor\": \"white\", \"linecolor\": \"white\", \"ticks\": \"\"}, \"bgcolor\": \"#E5ECF6\", \"radialaxis\": {\"gridcolor\": \"white\", \"linecolor\": \"white\", \"ticks\": \"\"}}, \"scene\": {\"xaxis\": {\"backgroundcolor\": \"#E5ECF6\", \"gridcolor\": \"white\", \"gridwidth\": 2, \"linecolor\": \"white\", \"showbackground\": true, \"ticks\": \"\", \"zerolinecolor\": \"white\"}, \"yaxis\": {\"backgroundcolor\": \"#E5ECF6\", \"gridcolor\": \"white\", \"gridwidth\": 2, \"linecolor\": \"white\", \"showbackground\": true, \"ticks\": \"\", \"zerolinecolor\": \"white\"}, \"zaxis\": {\"backgroundcolor\": \"#E5ECF6\", \"gridcolor\": \"white\", \"gridwidth\": 2, \"linecolor\": \"white\", \"showbackground\": true, \"ticks\": \"\", \"zerolinecolor\": \"white\"}}, \"shapedefaults\": {\"line\": {\"color\": \"#2a3f5f\"}}, \"ternary\": {\"aaxis\": {\"gridcolor\": \"white\", \"linecolor\": \"white\", \"ticks\": \"\"}, \"baxis\": {\"gridcolor\": \"white\", \"linecolor\": \"white\", \"ticks\": \"\"}, \"bgcolor\": \"#E5ECF6\", \"caxis\": {\"gridcolor\": \"white\", \"linecolor\": \"white\", \"ticks\": \"\"}}, \"title\": {\"x\": 0.05}, \"xaxis\": {\"automargin\": true, \"gridcolor\": \"white\", \"linecolor\": \"white\", \"ticks\": \"\", \"title\": {\"standoff\": 15}, \"zerolinecolor\": \"white\", \"zerolinewidth\": 2}, \"yaxis\": {\"automargin\": true, \"gridcolor\": \"white\", \"linecolor\": \"white\", \"ticks\": \"\", \"title\": {\"standoff\": 15}, \"zerolinecolor\": \"white\", \"zerolinewidth\": 2}}}, \"width\": 600, \"xaxis\": {\"mirror\": \"allticks\", \"rangemode\": \"tozero\", \"showgrid\": false, \"showline\": true, \"showticklabels\": true, \"ticks\": \"outside\", \"type\": \"linear\", \"zeroline\": false}, \"yaxis\": {\"mirror\": \"allticks\", \"rangemode\": \"tozero\", \"showgrid\": false, \"showline\": true, \"showticklabels\": true, \"tickmode\": \"array\", \"ticks\": \"outside\", \"ticktext\": [\"apron\", \"towel\", \"suit\", \"tie\", \"mittens\", \"beanie\", \"scarf\", \"cap\", \"hat\", \"bra\", \"panties\", \"bathing suit\", \"dress\", \"skirt\", \"pyjamas\", \"blouse\", \"shirt\", \"tracksuit\", \"sweater\", \"shorts\", \"top\", \"dungarees\", \"jeans\", \"coat\", \"socks\", \"t-shirt\", \"pants\", \"pullover\", \"belt\", \"boots\", \"shoes\", \"cymbals\", \"triangle\", \"drum\", \"tambourine\", \"pan flute\", \"recorder\", \"harmonica\", \"bassoon\", \"clarinet\", \"flute\", \"saxophone\", \"trombone\", \"trumpet\", \"drum set\", \"synthesizer\", \"accordion\", \"bagpipe\", \"piano\", \"harpsichord\", \"organ\", \"guitar\", \"banjo\", \"bass guitar\", \"cello\", \"double bass\", \"harp\", \"violin\", \"(hot air) balloon\", \"zeppelin\", \"bicycle\", \"go-cart\", \"kick scooter\", \"skateboard\", \"trailer\", \"sled\", \"carriage\", \"cart\", \"boat\", \"car\", \"jeep\", \"motorbike (moto)\", \"scooter (bromfiets)\", \"scooter (brommer)\", \"tractor\", \"airplane\", \"submarine\", \"helicopter\", \"hovercraft\", \"subway train\", \"train\", \"tram\", \"taxi\", \"van\", \"bus\", \"truck (camion)\", \"truck (vrachtwagen)\", \"rocket\", \"tank\", \"pistol\", \"rifle\", \"double-barreled shotgun\", \"bazooka\", \"machine gun\", \"canon\", \"grenade\", \"shield\", \"whip\", \"spear\", \"bow\", \"slingshot\", \"club\", \"stick\", \"knuckle dusters\", \"dagger\", \"sword\", \"knife\", \"lawn mower\", \"drill\", \"grinding disc\", \"paint brush\", \"rope\", \"hammer\", \"pickaxe\", \"shovel\", \"axe\", \"saw\", \"crowbar (breekijzer)\", \"crowbar (koevoet)\", \"oil can\", \"wire brush\", \"clamp\", \"level\", \"nail\", \"filling knife\", \"plane\", \"file\", \"chisel\", \"tongs\", \"screwdriver\", \"screw wrench (engelse sleutel)\", \"wrench\", \"wheelbarrow\", \"anvil\", \"plough\", \"mug\", \"place mat\", \"bowl\", \"plate\", \"bottle\", \"glass\", \"can opener\", \"scissors\", \"teaspoon\", \"fork\", \"spoon\", \"wok\", \"kettle\", \"pan\", \"pot\", \"grater\", \"nutcracker\", \"spatula\", \"whisk\", \"colander\", \"sieve\", \"vacuum cleaner\", \"fridge\", \"oven\", \"stove\", \"scales\", \"mixer\", \"toaster\", \"microwave oven\", \"electric kettle\", \"percolator\"], \"tickvals\": [-5.0, -15.0, -25.0, -35.0, -45.0, -55.0, -65.0, -75.0, -85.0, -95.0, -105.0, -115.0, -125.0, -135.0, -145.0, -155.0, -165.0, -175.0, -185.0, -195.0, -205.0, -215.0, -225.0, -235.0, -245.0, -255.0, -265.0, -275.0, -285.0, -295.0, -305.0, -315.0, -325.0, -335.0, -345.0, -355.0, -365.0, -375.0, -385.0, -395.0, -405.0, -415.0, -425.0, -435.0, -445.0, -455.0, -465.0, -475.0, -485.0, -495.0, -505.0, -515.0, -525.0, -535.0, -545.0, -555.0, -565.0, -575.0, -585.0, -595.0, -605.0, -615.0, -625.0, -635.0, -645.0, -655.0, -665.0, -675.0, -685.0, -695.0, -705.0, -715.0, -725.0, -735.0, -745.0, -755.0, -765.0, -775.0, -785.0, -795.0, -805.0, -815.0, -825.0, -835.0, -845.0, -855.0, -865.0, -875.0, -885.0, -895.0, -905.0, -915.0, -925.0, -935.0, -945.0, -955.0, -965.0, -975.0, -985.0, -995.0, -1005.0, -1015.0, -1025.0, -1035.0, -1045.0, -1055.0, -1065.0, -1075.0, -1085.0, -1095.0, -1105.0, -1115.0, -1125.0, -1135.0, -1145.0, -1155.0, -1165.0, -1175.0, -1185.0, -1195.0, -1205.0, -1215.0, -1225.0, -1235.0, -1245.0, -1255.0, -1265.0, -1275.0, -1285.0, -1295.0, -1305.0, -1315.0, -1325.0, -1335.0, -1345.0, -1355.0, -1365.0, -1375.0, -1385.0, -1395.0, -1405.0, -1415.0, -1425.0, -1435.0, -1445.0, -1455.0, -1465.0, -1475.0, -1485.0, -1495.0, -1505.0, -1515.0, -1525.0, -1535.0, -1545.0, -1555.0, -1565.0, -1575.0, -1585.0, -1595.0, -1605.0, -1615.0, -1625.0, -1635.0, -1645.0, -1655.0], \"type\": \"linear\", \"zeroline\": false}},                        {\"responsive\": true}                    ).then(function(){\n                            \nvar gd = document.getElementById('19a5698f-b433-443d-878c-c44a006e7cc4');\nvar x = new MutationObserver(function (mutations, observer) {{\n        var display = window.getComputedStyle(gd).display;\n        if (!display || display === 'none') {{\n            console.log([gd, 'removed!']);\n            Plotly.purge(gd);\n            observer.disconnect();\n        }}\n}});\n\n// Listen for the removal of the full notebook cells\nvar notebookContainer = gd.closest('#notebook-container');\nif (notebookContainer) {{\n    x.observe(notebookContainer, {childList: true});\n}}\n\n// Listen for the clearing of the current output cell\nvar outputEl = gd.closest('.output');\nif (outputEl) {{\n    x.observe(outputEl, {childList: true});\n}}\n\n                        })                };                });            </script>        </div>"
     },
     "metadata": {}
    }
   ],
   "source": [
    "fig = ff.create_dendrogram(train_X, orientation='left', labels=train_X.index, linkagefun=lambda x: linkage(train_X, 'average'))\n",
    "fig.update_layout(width=600, height=1000)\n",
    "fig.show()"
   ]
  },
  {
   "source": [
    "## Single linkage"
   ],
   "cell_type": "markdown",
   "metadata": {}
  },
  {
   "cell_type": "code",
   "execution_count": 8,
   "metadata": {},
   "outputs": [
    {
     "output_type": "display_data",
     "data": {
      "application/vnd.plotly.v1+json": {
       "config": {
        "plotlyServerURL": "https://plot.ly"
       },
       "data": [
        {
         "hoverinfo": "text",
         "marker": {
          "color": "rgb(61,153,112)"
         },
         "mode": "lines",
         "type": "scatter",
         "x": [
          0,
          9.539392014169456,
          9.539392014169456,
          0
         ],
         "xaxis": "x",
         "y": [
          -15,
          -15,
          -25,
          -25
         ],
         "yaxis": "y"
        },
        {
         "hoverinfo": "text",
         "marker": {
          "color": "rgb(61,153,112)"
         },
         "mode": "lines",
         "type": "scatter",
         "x": [
          0,
          4.358898943540674,
          4.358898943540674,
          0
         ],
         "xaxis": "x",
         "y": [
          -35,
          -35,
          -45,
          -45
         ],
         "yaxis": "y"
        },
        {
         "hoverinfo": "text",
         "marker": {
          "color": "rgb(61,153,112)"
         },
         "mode": "lines",
         "type": "scatter",
         "x": [
          0,
          3.4641016151377544,
          3.4641016151377544,
          0
         ],
         "xaxis": "x",
         "y": [
          -75,
          -75,
          -85,
          -85
         ],
         "yaxis": "y"
        },
        {
         "hoverinfo": "text",
         "marker": {
          "color": "rgb(61,153,112)"
         },
         "mode": "lines",
         "type": "scatter",
         "x": [
          0,
          5.830951894845301,
          5.830951894845301,
          3.4641016151377544
         ],
         "xaxis": "x",
         "y": [
          -65,
          -65,
          -80,
          -80
         ],
         "yaxis": "y"
        },
        {
         "hoverinfo": "text",
         "marker": {
          "color": "rgb(61,153,112)"
         },
         "mode": "lines",
         "type": "scatter",
         "x": [
          0,
          8.660254037844387,
          8.660254037844387,
          5.830951894845301
         ],
         "xaxis": "x",
         "y": [
          -55,
          -55,
          -72.5,
          -72.5
         ],
         "yaxis": "y"
        },
        {
         "hoverinfo": "text",
         "marker": {
          "color": "rgb(61,153,112)"
         },
         "mode": "lines",
         "type": "scatter",
         "x": [
          4.358898943540674,
          9.055385138137417,
          9.055385138137417,
          8.660254037844387
         ],
         "xaxis": "x",
         "y": [
          -40,
          -40,
          -63.75,
          -63.75
         ],
         "yaxis": "y"
        },
        {
         "hoverinfo": "text",
         "marker": {
          "color": "rgb(61,153,112)"
         },
         "mode": "lines",
         "type": "scatter",
         "x": [
          0,
          8,
          8,
          0
         ],
         "xaxis": "x",
         "y": [
          -105,
          -105,
          -115,
          -115
         ],
         "yaxis": "y"
        },
        {
         "hoverinfo": "text",
         "marker": {
          "color": "rgb(61,153,112)"
         },
         "mode": "lines",
         "type": "scatter",
         "x": [
          0,
          8.602325267042627,
          8.602325267042627,
          8
         ],
         "xaxis": "x",
         "y": [
          -95,
          -95,
          -110,
          -110
         ],
         "yaxis": "y"
        },
        {
         "hoverinfo": "text",
         "marker": {
          "color": "rgb(61,153,112)"
         },
         "mode": "lines",
         "type": "scatter",
         "x": [
          0,
          5.5677643628300215,
          5.5677643628300215,
          0
         ],
         "xaxis": "x",
         "y": [
          -145,
          -145,
          -155,
          -155
         ],
         "yaxis": "y"
        },
        {
         "hoverinfo": "text",
         "marker": {
          "color": "rgb(61,153,112)"
         },
         "mode": "lines",
         "type": "scatter",
         "x": [
          0,
          7.745966692414834,
          7.745966692414834,
          5.5677643628300215
         ],
         "xaxis": "x",
         "y": [
          -135,
          -135,
          -150,
          -150
         ],
         "yaxis": "y"
        },
        {
         "hoverinfo": "text",
         "marker": {
          "color": "rgb(61,153,112)"
         },
         "mode": "lines",
         "type": "scatter",
         "x": [
          0,
          8.660254037844387,
          8.660254037844387,
          7.745966692414834
         ],
         "xaxis": "x",
         "y": [
          -125,
          -125,
          -142.5,
          -142.5
         ],
         "yaxis": "y"
        },
        {
         "hoverinfo": "text",
         "marker": {
          "color": "rgb(61,153,112)"
         },
         "mode": "lines",
         "type": "scatter",
         "x": [
          8.602325267042627,
          8.717797887081348,
          8.717797887081348,
          8.660254037844387
         ],
         "xaxis": "x",
         "y": [
          -102.5,
          -102.5,
          -133.75,
          -133.75
         ],
         "yaxis": "y"
        },
        {
         "hoverinfo": "text",
         "marker": {
          "color": "rgb(61,153,112)"
         },
         "mode": "lines",
         "type": "scatter",
         "x": [
          0,
          8.94427190999916,
          8.94427190999916,
          0
         ],
         "xaxis": "x",
         "y": [
          -175,
          -175,
          -185,
          -185
         ],
         "yaxis": "y"
        },
        {
         "hoverinfo": "text",
         "marker": {
          "color": "rgb(61,153,112)"
         },
         "mode": "lines",
         "type": "scatter",
         "x": [
          0,
          9,
          9,
          8.94427190999916
         ],
         "xaxis": "x",
         "y": [
          -165,
          -165,
          -180,
          -180
         ],
         "yaxis": "y"
        },
        {
         "hoverinfo": "text",
         "marker": {
          "color": "rgb(61,153,112)"
         },
         "mode": "lines",
         "type": "scatter",
         "x": [
          8.717797887081348,
          9.055385138137417,
          9.055385138137417,
          9
         ],
         "xaxis": "x",
         "y": [
          -118.125,
          -118.125,
          -172.5,
          -172.5
         ],
         "yaxis": "y"
        },
        {
         "hoverinfo": "text",
         "marker": {
          "color": "rgb(61,153,112)"
         },
         "mode": "lines",
         "type": "scatter",
         "x": [
          9.055385138137417,
          9.643650760992955,
          9.643650760992955,
          9.055385138137417
         ],
         "xaxis": "x",
         "y": [
          -51.875,
          -51.875,
          -145.3125,
          -145.3125
         ],
         "yaxis": "y"
        },
        {
         "hoverinfo": "text",
         "marker": {
          "color": "rgb(61,153,112)"
         },
         "mode": "lines",
         "type": "scatter",
         "x": [
          9.539392014169456,
          9.797958971132712,
          9.797958971132712,
          9.643650760992955
         ],
         "xaxis": "x",
         "y": [
          -20,
          -20,
          -98.59375,
          -98.59375
         ],
         "yaxis": "y"
        },
        {
         "hoverinfo": "text",
         "marker": {
          "color": "rgb(61,153,112)"
         },
         "mode": "lines",
         "type": "scatter",
         "x": [
          0,
          7.874007874011811,
          7.874007874011811,
          0
         ],
         "xaxis": "x",
         "y": [
          -195,
          -195,
          -205,
          -205
         ],
         "yaxis": "y"
        },
        {
         "hoverinfo": "text",
         "marker": {
          "color": "rgb(61,153,112)"
         },
         "mode": "lines",
         "type": "scatter",
         "x": [
          0,
          9,
          9,
          0
         ],
         "xaxis": "x",
         "y": [
          -215,
          -215,
          -225,
          -225
         ],
         "yaxis": "y"
        },
        {
         "hoverinfo": "text",
         "marker": {
          "color": "rgb(61,153,112)"
         },
         "mode": "lines",
         "type": "scatter",
         "x": [
          0,
          9.899494936611665,
          9.899494936611665,
          0
         ],
         "xaxis": "x",
         "y": [
          -235,
          -235,
          -245,
          -245
         ],
         "yaxis": "y"
        },
        {
         "hoverinfo": "text",
         "marker": {
          "color": "rgb(61,153,112)"
         },
         "mode": "lines",
         "type": "scatter",
         "x": [
          9,
          10,
          10,
          9.899494936611665
         ],
         "xaxis": "x",
         "y": [
          -220,
          -220,
          -240,
          -240
         ],
         "yaxis": "y"
        },
        {
         "hoverinfo": "text",
         "marker": {
          "color": "rgb(61,153,112)"
         },
         "mode": "lines",
         "type": "scatter",
         "x": [
          7.874007874011811,
          10.198039027185569,
          10.198039027185569,
          10
         ],
         "xaxis": "x",
         "y": [
          -200,
          -200,
          -230,
          -230
         ],
         "yaxis": "y"
        },
        {
         "hoverinfo": "text",
         "marker": {
          "color": "rgb(61,153,112)"
         },
         "mode": "lines",
         "type": "scatter",
         "x": [
          9.797958971132712,
          10.488088481701515,
          10.488088481701515,
          10.198039027185569
         ],
         "xaxis": "x",
         "y": [
          -59.296875,
          -59.296875,
          -215,
          -215
         ],
         "yaxis": "y"
        },
        {
         "hoverinfo": "text",
         "marker": {
          "color": "rgb(61,153,112)"
         },
         "mode": "lines",
         "type": "scatter",
         "x": [
          0,
          10.583005244258363,
          10.583005244258363,
          10.488088481701515
         ],
         "xaxis": "x",
         "y": [
          -5,
          -5,
          -137.1484375,
          -137.1484375
         ],
         "yaxis": "y"
        },
        {
         "hoverinfo": "text",
         "marker": {
          "color": "rgb(61,153,112)"
         },
         "mode": "lines",
         "type": "scatter",
         "x": [
          0,
          10.954451150103322,
          10.954451150103322,
          0
         ],
         "xaxis": "x",
         "y": [
          -255,
          -255,
          -265,
          -265
         ],
         "yaxis": "y"
        },
        {
         "hoverinfo": "text",
         "marker": {
          "color": "rgb(61,153,112)"
         },
         "mode": "lines",
         "type": "scatter",
         "x": [
          10.583005244258363,
          11.224972160321824,
          11.224972160321824,
          10.954451150103322
         ],
         "xaxis": "x",
         "y": [
          -71.07421875,
          -71.07421875,
          -260,
          -260
         ],
         "yaxis": "y"
        },
        {
         "hoverinfo": "text",
         "marker": {
          "color": "rgb(255,65,54)"
         },
         "mode": "lines",
         "type": "scatter",
         "x": [
          0,
          11.180339887498949,
          11.180339887498949,
          0
         ],
         "xaxis": "x",
         "y": [
          -275,
          -275,
          -285,
          -285
         ],
         "yaxis": "y"
        },
        {
         "hoverinfo": "text",
         "marker": {
          "color": "rgb(255,65,54)"
         },
         "mode": "lines",
         "type": "scatter",
         "x": [
          0,
          7.416198487095663,
          7.416198487095663,
          0
         ],
         "xaxis": "x",
         "y": [
          -365,
          -365,
          -375,
          -375
         ],
         "yaxis": "y"
        },
        {
         "hoverinfo": "text",
         "marker": {
          "color": "rgb(255,65,54)"
         },
         "mode": "lines",
         "type": "scatter",
         "x": [
          0,
          8.246211251235321,
          8.246211251235321,
          7.416198487095663
         ],
         "xaxis": "x",
         "y": [
          -355,
          -355,
          -370,
          -370
         ],
         "yaxis": "y"
        },
        {
         "hoverinfo": "text",
         "marker": {
          "color": "rgb(255,65,54)"
         },
         "mode": "lines",
         "type": "scatter",
         "x": [
          0,
          6.708203932499369,
          6.708203932499369,
          0
         ],
         "xaxis": "x",
         "y": [
          -435,
          -435,
          -445,
          -445
         ],
         "yaxis": "y"
        },
        {
         "hoverinfo": "text",
         "marker": {
          "color": "rgb(255,65,54)"
         },
         "mode": "lines",
         "type": "scatter",
         "x": [
          0,
          6.708203932499369,
          6.708203932499369,
          0
         ],
         "xaxis": "x",
         "y": [
          -455,
          -455,
          -465,
          -465
         ],
         "yaxis": "y"
        },
        {
         "hoverinfo": "text",
         "marker": {
          "color": "rgb(255,65,54)"
         },
         "mode": "lines",
         "type": "scatter",
         "x": [
          0,
          7,
          7,
          0
         ],
         "xaxis": "x",
         "y": [
          -475,
          -475,
          -485,
          -485
         ],
         "yaxis": "y"
        },
        {
         "hoverinfo": "text",
         "marker": {
          "color": "rgb(255,65,54)"
         },
         "mode": "lines",
         "type": "scatter",
         "x": [
          6.708203932499369,
          7.14142842854285,
          7.14142842854285,
          7
         ],
         "xaxis": "x",
         "y": [
          -460,
          -460,
          -480,
          -480
         ],
         "yaxis": "y"
        },
        {
         "hoverinfo": "text",
         "marker": {
          "color": "rgb(255,65,54)"
         },
         "mode": "lines",
         "type": "scatter",
         "x": [
          6.708203932499369,
          7.483314773547883,
          7.483314773547883,
          7.14142842854285
         ],
         "xaxis": "x",
         "y": [
          -440,
          -440,
          -470,
          -470
         ],
         "yaxis": "y"
        },
        {
         "hoverinfo": "text",
         "marker": {
          "color": "rgb(255,65,54)"
         },
         "mode": "lines",
         "type": "scatter",
         "x": [
          0,
          7.483314773547883,
          7.483314773547883,
          7.483314773547883
         ],
         "xaxis": "x",
         "y": [
          -425,
          -425,
          -455,
          -455
         ],
         "yaxis": "y"
        },
        {
         "hoverinfo": "text",
         "marker": {
          "color": "rgb(255,65,54)"
         },
         "mode": "lines",
         "type": "scatter",
         "x": [
          0,
          7.874007874011811,
          7.874007874011811,
          7.483314773547883
         ],
         "xaxis": "x",
         "y": [
          -415,
          -415,
          -440,
          -440
         ],
         "yaxis": "y"
        },
        {
         "hoverinfo": "text",
         "marker": {
          "color": "rgb(255,65,54)"
         },
         "mode": "lines",
         "type": "scatter",
         "x": [
          0,
          8,
          8,
          7.874007874011811
         ],
         "xaxis": "x",
         "y": [
          -405,
          -405,
          -427.5,
          -427.5
         ],
         "yaxis": "y"
        },
        {
         "hoverinfo": "text",
         "marker": {
          "color": "rgb(255,65,54)"
         },
         "mode": "lines",
         "type": "scatter",
         "x": [
          0,
          8.426149773176359,
          8.426149773176359,
          8
         ],
         "xaxis": "x",
         "y": [
          -395,
          -395,
          -416.25,
          -416.25
         ],
         "yaxis": "y"
        },
        {
         "hoverinfo": "text",
         "marker": {
          "color": "rgb(255,65,54)"
         },
         "mode": "lines",
         "type": "scatter",
         "x": [
          0,
          8.48528137423857,
          8.48528137423857,
          8.426149773176359
         ],
         "xaxis": "x",
         "y": [
          -385,
          -385,
          -405.625,
          -405.625
         ],
         "yaxis": "y"
        },
        {
         "hoverinfo": "text",
         "marker": {
          "color": "rgb(255,65,54)"
         },
         "mode": "lines",
         "type": "scatter",
         "x": [
          8.246211251235321,
          8.54400374531753,
          8.54400374531753,
          8.48528137423857
         ],
         "xaxis": "x",
         "y": [
          -362.5,
          -362.5,
          -395.3125,
          -395.3125
         ],
         "yaxis": "y"
        },
        {
         "hoverinfo": "text",
         "marker": {
          "color": "rgb(255,65,54)"
         },
         "mode": "lines",
         "type": "scatter",
         "x": [
          0,
          8.717797887081348,
          8.717797887081348,
          8.54400374531753
         ],
         "xaxis": "x",
         "y": [
          -345,
          -345,
          -378.90625,
          -378.90625
         ],
         "yaxis": "y"
        },
        {
         "hoverinfo": "text",
         "marker": {
          "color": "rgb(255,65,54)"
         },
         "mode": "lines",
         "type": "scatter",
         "x": [
          0,
          8.888194417315589,
          8.888194417315589,
          8.717797887081348
         ],
         "xaxis": "x",
         "y": [
          -335,
          -335,
          -361.953125,
          -361.953125
         ],
         "yaxis": "y"
        },
        {
         "hoverinfo": "text",
         "marker": {
          "color": "rgb(255,65,54)"
         },
         "mode": "lines",
         "type": "scatter",
         "x": [
          0,
          9.1104335791443,
          9.1104335791443,
          8.888194417315589
         ],
         "xaxis": "x",
         "y": [
          -325,
          -325,
          -348.4765625,
          -348.4765625
         ],
         "yaxis": "y"
        },
        {
         "hoverinfo": "text",
         "marker": {
          "color": "rgb(255,65,54)"
         },
         "mode": "lines",
         "type": "scatter",
         "x": [
          0,
          9.16515138991168,
          9.16515138991168,
          9.1104335791443
         ],
         "xaxis": "x",
         "y": [
          -315,
          -315,
          -336.73828125,
          -336.73828125
         ],
         "yaxis": "y"
        },
        {
         "hoverinfo": "text",
         "marker": {
          "color": "rgb(255,65,54)"
         },
         "mode": "lines",
         "type": "scatter",
         "x": [
          0,
          9.695359714832659,
          9.695359714832659,
          0
         ],
         "xaxis": "x",
         "y": [
          -495,
          -495,
          -505,
          -505
         ],
         "yaxis": "y"
        },
        {
         "hoverinfo": "text",
         "marker": {
          "color": "rgb(255,65,54)"
         },
         "mode": "lines",
         "type": "scatter",
         "x": [
          9.16515138991168,
          9.797958971132712,
          9.797958971132712,
          9.695359714832659
         ],
         "xaxis": "x",
         "y": [
          -325.869140625,
          -325.869140625,
          -500,
          -500
         ],
         "yaxis": "y"
        },
        {
         "hoverinfo": "text",
         "marker": {
          "color": "rgb(255,65,54)"
         },
         "mode": "lines",
         "type": "scatter",
         "x": [
          0,
          8,
          8,
          0
         ],
         "xaxis": "x",
         "y": [
          -545,
          -545,
          -555,
          -555
         ],
         "yaxis": "y"
        },
        {
         "hoverinfo": "text",
         "marker": {
          "color": "rgb(255,65,54)"
         },
         "mode": "lines",
         "type": "scatter",
         "x": [
          0,
          8.246211251235321,
          8.246211251235321,
          8
         ],
         "xaxis": "x",
         "y": [
          -535,
          -535,
          -550,
          -550
         ],
         "yaxis": "y"
        },
        {
         "hoverinfo": "text",
         "marker": {
          "color": "rgb(255,65,54)"
         },
         "mode": "lines",
         "type": "scatter",
         "x": [
          0,
          9.695359714832659,
          9.695359714832659,
          8.246211251235321
         ],
         "xaxis": "x",
         "y": [
          -525,
          -525,
          -542.5,
          -542.5
         ],
         "yaxis": "y"
        },
        {
         "hoverinfo": "text",
         "marker": {
          "color": "rgb(255,65,54)"
         },
         "mode": "lines",
         "type": "scatter",
         "x": [
          0,
          9.797958971132712,
          9.797958971132712,
          9.695359714832659
         ],
         "xaxis": "x",
         "y": [
          -515,
          -515,
          -533.75,
          -533.75
         ],
         "yaxis": "y"
        },
        {
         "hoverinfo": "text",
         "marker": {
          "color": "rgb(255,65,54)"
         },
         "mode": "lines",
         "type": "scatter",
         "x": [
          9.797958971132712,
          9.9498743710662,
          9.9498743710662,
          9.797958971132712
         ],
         "xaxis": "x",
         "y": [
          -412.9345703125,
          -412.9345703125,
          -524.375,
          -524.375
         ],
         "yaxis": "y"
        },
        {
         "hoverinfo": "text",
         "marker": {
          "color": "rgb(255,65,54)"
         },
         "mode": "lines",
         "type": "scatter",
         "x": [
          0,
          11.313708498984761,
          11.313708498984761,
          9.9498743710662
         ],
         "xaxis": "x",
         "y": [
          -305,
          -305,
          -468.65478515625,
          -468.65478515625
         ],
         "yaxis": "y"
        },
        {
         "hoverinfo": "text",
         "marker": {
          "color": "rgb(255,65,54)"
         },
         "mode": "lines",
         "type": "scatter",
         "x": [
          0,
          12.449899597988733,
          12.449899597988733,
          11.313708498984761
         ],
         "xaxis": "x",
         "y": [
          -295,
          -295,
          -386.827392578125,
          -386.827392578125
         ],
         "yaxis": "y"
        },
        {
         "hoverinfo": "text",
         "marker": {
          "color": "rgb(255,65,54)"
         },
         "mode": "lines",
         "type": "scatter",
         "x": [
          11.180339887498949,
          12.569805089976535,
          12.569805089976535,
          12.449899597988733
         ],
         "xaxis": "x",
         "y": [
          -280,
          -280,
          -340.9136962890625,
          -340.9136962890625
         ],
         "yaxis": "y"
        },
        {
         "hoverinfo": "text",
         "marker": {
          "color": "rgb(35,205,205)"
         },
         "mode": "lines",
         "type": "scatter",
         "x": [
          0,
          10.535653752852738,
          10.535653752852738,
          0
         ],
         "xaxis": "x",
         "y": [
          -585,
          -585,
          -595,
          -595
         ],
         "yaxis": "y"
        },
        {
         "hoverinfo": "text",
         "marker": {
          "color": "rgb(35,205,205)"
         },
         "mode": "lines",
         "type": "scatter",
         "x": [
          0,
          6.4031242374328485,
          6.4031242374328485,
          0
         ],
         "xaxis": "x",
         "y": [
          -655,
          -655,
          -665,
          -665
         ],
         "yaxis": "y"
        },
        {
         "hoverinfo": "text",
         "marker": {
          "color": "rgb(35,205,205)"
         },
         "mode": "lines",
         "type": "scatter",
         "x": [
          0,
          8.306623862918075,
          8.306623862918075,
          0
         ],
         "xaxis": "x",
         "y": [
          -695,
          -695,
          -705,
          -705
         ],
         "yaxis": "y"
        },
        {
         "hoverinfo": "text",
         "marker": {
          "color": "rgb(35,205,205)"
         },
         "mode": "lines",
         "type": "scatter",
         "x": [
          0,
          9.273618495495704,
          9.273618495495704,
          8.306623862918075
         ],
         "xaxis": "x",
         "y": [
          -685,
          -685,
          -700,
          -700
         ],
         "yaxis": "y"
        },
        {
         "hoverinfo": "text",
         "marker": {
          "color": "rgb(35,205,205)"
         },
         "mode": "lines",
         "type": "scatter",
         "x": [
          0,
          9.797958971132712,
          9.797958971132712,
          9.273618495495704
         ],
         "xaxis": "x",
         "y": [
          -675,
          -675,
          -692.5,
          -692.5
         ],
         "yaxis": "y"
        },
        {
         "hoverinfo": "text",
         "marker": {
          "color": "rgb(35,205,205)"
         },
         "mode": "lines",
         "type": "scatter",
         "x": [
          6.4031242374328485,
          10.488088481701515,
          10.488088481701515,
          9.797958971132712
         ],
         "xaxis": "x",
         "y": [
          -660,
          -660,
          -683.75,
          -683.75
         ],
         "yaxis": "y"
        },
        {
         "hoverinfo": "text",
         "marker": {
          "color": "rgb(35,205,205)"
         },
         "mode": "lines",
         "type": "scatter",
         "x": [
          0,
          9,
          9,
          0
         ],
         "xaxis": "x",
         "y": [
          -745,
          -745,
          -755,
          -755
         ],
         "yaxis": "y"
        },
        {
         "hoverinfo": "text",
         "marker": {
          "color": "rgb(35,205,205)"
         },
         "mode": "lines",
         "type": "scatter",
         "x": [
          0,
          5.477225575051661,
          5.477225575051661,
          0
         ],
         "xaxis": "x",
         "y": [
          -795,
          -795,
          -805,
          -805
         ],
         "yaxis": "y"
        },
        {
         "hoverinfo": "text",
         "marker": {
          "color": "rgb(35,205,205)"
         },
         "mode": "lines",
         "type": "scatter",
         "x": [
          0,
          7.14142842854285,
          7.14142842854285,
          5.477225575051661
         ],
         "xaxis": "x",
         "y": [
          -785,
          -785,
          -800,
          -800
         ],
         "yaxis": "y"
        },
        {
         "hoverinfo": "text",
         "marker": {
          "color": "rgb(35,205,205)"
         },
         "mode": "lines",
         "type": "scatter",
         "x": [
          0,
          7.416198487095663,
          7.416198487095663,
          7.14142842854285
         ],
         "xaxis": "x",
         "y": [
          -775,
          -775,
          -792.5,
          -792.5
         ],
         "yaxis": "y"
        },
        {
         "hoverinfo": "text",
         "marker": {
          "color": "rgb(35,205,205)"
         },
         "mode": "lines",
         "type": "scatter",
         "x": [
          0,
          8,
          8,
          7.416198487095663
         ],
         "xaxis": "x",
         "y": [
          -765,
          -765,
          -783.75,
          -783.75
         ],
         "yaxis": "y"
        },
        {
         "hoverinfo": "text",
         "marker": {
          "color": "rgb(35,205,205)"
         },
         "mode": "lines",
         "type": "scatter",
         "x": [
          0,
          8.246211251235321,
          8.246211251235321,
          0
         ],
         "xaxis": "x",
         "y": [
          -815,
          -815,
          -825,
          -825
         ],
         "yaxis": "y"
        },
        {
         "hoverinfo": "text",
         "marker": {
          "color": "rgb(35,205,205)"
         },
         "mode": "lines",
         "type": "scatter",
         "x": [
          8,
          8.54400374531753,
          8.54400374531753,
          8.246211251235321
         ],
         "xaxis": "x",
         "y": [
          -774.375,
          -774.375,
          -820,
          -820
         ],
         "yaxis": "y"
        },
        {
         "hoverinfo": "text",
         "marker": {
          "color": "rgb(35,205,205)"
         },
         "mode": "lines",
         "type": "scatter",
         "x": [
          0,
          8.774964387392123,
          8.774964387392123,
          0
         ],
         "xaxis": "x",
         "y": [
          -835,
          -835,
          -845,
          -845
         ],
         "yaxis": "y"
        },
        {
         "hoverinfo": "text",
         "marker": {
          "color": "rgb(35,205,205)"
         },
         "mode": "lines",
         "type": "scatter",
         "x": [
          8.54400374531753,
          9.055385138137417,
          9.055385138137417,
          8.774964387392123
         ],
         "xaxis": "x",
         "y": [
          -797.1875,
          -797.1875,
          -840,
          -840
         ],
         "yaxis": "y"
        },
        {
         "hoverinfo": "text",
         "marker": {
          "color": "rgb(35,205,205)"
         },
         "mode": "lines",
         "type": "scatter",
         "x": [
          9,
          9.16515138991168,
          9.16515138991168,
          9.055385138137417
         ],
         "xaxis": "x",
         "y": [
          -750,
          -750,
          -818.59375,
          -818.59375
         ],
         "yaxis": "y"
        },
        {
         "hoverinfo": "text",
         "marker": {
          "color": "rgb(35,205,205)"
         },
         "mode": "lines",
         "type": "scatter",
         "x": [
          0,
          9.273618495495704,
          9.273618495495704,
          9.16515138991168
         ],
         "xaxis": "x",
         "y": [
          -735,
          -735,
          -784.296875,
          -784.296875
         ],
         "yaxis": "y"
        },
        {
         "hoverinfo": "text",
         "marker": {
          "color": "rgb(35,205,205)"
         },
         "mode": "lines",
         "type": "scatter",
         "x": [
          0,
          9.38083151964686,
          9.38083151964686,
          9.273618495495704
         ],
         "xaxis": "x",
         "y": [
          -725,
          -725,
          -759.6484375,
          -759.6484375
         ],
         "yaxis": "y"
        },
        {
         "hoverinfo": "text",
         "marker": {
          "color": "rgb(35,205,205)"
         },
         "mode": "lines",
         "type": "scatter",
         "x": [
          0,
          10.535653752852738,
          10.535653752852738,
          9.38083151964686
         ],
         "xaxis": "x",
         "y": [
          -715,
          -715,
          -742.32421875,
          -742.32421875
         ],
         "yaxis": "y"
        },
        {
         "hoverinfo": "text",
         "marker": {
          "color": "rgb(35,205,205)"
         },
         "mode": "lines",
         "type": "scatter",
         "x": [
          10.488088481701515,
          10.723805294763608,
          10.723805294763608,
          10.535653752852738
         ],
         "xaxis": "x",
         "y": [
          -671.875,
          -671.875,
          -728.662109375,
          -728.662109375
         ],
         "yaxis": "y"
        },
        {
         "hoverinfo": "text",
         "marker": {
          "color": "rgb(35,205,205)"
         },
         "mode": "lines",
         "type": "scatter",
         "x": [
          0,
          10.908712114635714,
          10.908712114635714,
          10.723805294763608
         ],
         "xaxis": "x",
         "y": [
          -645,
          -645,
          -700.2685546875,
          -700.2685546875
         ],
         "yaxis": "y"
        },
        {
         "hoverinfo": "text",
         "marker": {
          "color": "rgb(35,205,205)"
         },
         "mode": "lines",
         "type": "scatter",
         "x": [
          0,
          10.908712114635714,
          10.908712114635714,
          10.908712114635714
         ],
         "xaxis": "x",
         "y": [
          -635,
          -635,
          -672.63427734375,
          -672.63427734375
         ],
         "yaxis": "y"
        },
        {
         "hoverinfo": "text",
         "marker": {
          "color": "rgb(35,205,205)"
         },
         "mode": "lines",
         "type": "scatter",
         "x": [
          0,
          11.575836902790225,
          11.575836902790225,
          10.908712114635714
         ],
         "xaxis": "x",
         "y": [
          -625,
          -625,
          -653.817138671875,
          -653.817138671875
         ],
         "yaxis": "y"
        },
        {
         "hoverinfo": "text",
         "marker": {
          "color": "rgb(35,205,205)"
         },
         "mode": "lines",
         "type": "scatter",
         "x": [
          0,
          12.041594578792296,
          12.041594578792296,
          11.575836902790225
         ],
         "xaxis": "x",
         "y": [
          -615,
          -615,
          -639.4085693359375,
          -639.4085693359375
         ],
         "yaxis": "y"
        },
        {
         "hoverinfo": "text",
         "marker": {
          "color": "rgb(35,205,205)"
         },
         "mode": "lines",
         "type": "scatter",
         "x": [
          0,
          12.328828005937952,
          12.328828005937952,
          12.041594578792296
         ],
         "xaxis": "x",
         "y": [
          -605,
          -605,
          -627.2042846679688,
          -627.2042846679688
         ],
         "yaxis": "y"
        },
        {
         "hoverinfo": "text",
         "marker": {
          "color": "rgb(35,205,205)"
         },
         "mode": "lines",
         "type": "scatter",
         "x": [
          10.535653752852738,
          12.84523257866513,
          12.84523257866513,
          12.328828005937952
         ],
         "xaxis": "x",
         "y": [
          -590,
          -590,
          -616.1021423339844,
          -616.1021423339844
         ],
         "yaxis": "y"
        },
        {
         "hoverinfo": "text",
         "marker": {
          "color": "rgb(133,20,75)"
         },
         "mode": "lines",
         "type": "scatter",
         "x": [
          0,
          11,
          11,
          0
         ],
         "xaxis": "x",
         "y": [
          -875,
          -875,
          -885,
          -885
         ],
         "yaxis": "y"
        },
        {
         "hoverinfo": "text",
         "marker": {
          "color": "rgb(133,20,75)"
         },
         "mode": "lines",
         "type": "scatter",
         "x": [
          0,
          8.18535277187245,
          8.18535277187245,
          0
         ],
         "xaxis": "x",
         "y": [
          -915,
          -915,
          -925,
          -925
         ],
         "yaxis": "y"
        },
        {
         "hoverinfo": "text",
         "marker": {
          "color": "rgb(133,20,75)"
         },
         "mode": "lines",
         "type": "scatter",
         "x": [
          0,
          8.426149773176359,
          8.426149773176359,
          0
         ],
         "xaxis": "x",
         "y": [
          -955,
          -955,
          -965,
          -965
         ],
         "yaxis": "y"
        },
        {
         "hoverinfo": "text",
         "marker": {
          "color": "rgb(133,20,75)"
         },
         "mode": "lines",
         "type": "scatter",
         "x": [
          0,
          9.219544457292887,
          9.219544457292887,
          8.426149773176359
         ],
         "xaxis": "x",
         "y": [
          -945,
          -945,
          -960,
          -960
         ],
         "yaxis": "y"
        },
        {
         "hoverinfo": "text",
         "marker": {
          "color": "rgb(133,20,75)"
         },
         "mode": "lines",
         "type": "scatter",
         "x": [
          0,
          9.327379053088816,
          9.327379053088816,
          9.219544457292887
         ],
         "xaxis": "x",
         "y": [
          -935,
          -935,
          -952.5,
          -952.5
         ],
         "yaxis": "y"
        },
        {
         "hoverinfo": "text",
         "marker": {
          "color": "rgb(133,20,75)"
         },
         "mode": "lines",
         "type": "scatter",
         "x": [
          8.18535277187245,
          10.535653752852738,
          10.535653752852738,
          9.327379053088816
         ],
         "xaxis": "x",
         "y": [
          -920,
          -920,
          -943.75,
          -943.75
         ],
         "yaxis": "y"
        },
        {
         "hoverinfo": "text",
         "marker": {
          "color": "rgb(133,20,75)"
         },
         "mode": "lines",
         "type": "scatter",
         "x": [
          0,
          11.40175425099138,
          11.40175425099138,
          10.535653752852738
         ],
         "xaxis": "x",
         "y": [
          -905,
          -905,
          -931.875,
          -931.875
         ],
         "yaxis": "y"
        },
        {
         "hoverinfo": "text",
         "marker": {
          "color": "rgb(133,20,75)"
         },
         "mode": "lines",
         "type": "scatter",
         "x": [
          0,
          7.280109889280518,
          7.280109889280518,
          0
         ],
         "xaxis": "x",
         "y": [
          -1005,
          -1005,
          -1015,
          -1015
         ],
         "yaxis": "y"
        },
        {
         "hoverinfo": "text",
         "marker": {
          "color": "rgb(133,20,75)"
         },
         "mode": "lines",
         "type": "scatter",
         "x": [
          0,
          8.660254037844387,
          8.660254037844387,
          7.280109889280518
         ],
         "xaxis": "x",
         "y": [
          -995,
          -995,
          -1010,
          -1010
         ],
         "yaxis": "y"
        },
        {
         "hoverinfo": "text",
         "marker": {
          "color": "rgb(133,20,75)"
         },
         "mode": "lines",
         "type": "scatter",
         "x": [
          0,
          6.708203932499369,
          6.708203932499369,
          0
         ],
         "xaxis": "x",
         "y": [
          -1075,
          -1075,
          -1085,
          -1085
         ],
         "yaxis": "y"
        },
        {
         "hoverinfo": "text",
         "marker": {
          "color": "rgb(133,20,75)"
         },
         "mode": "lines",
         "type": "scatter",
         "x": [
          0,
          8.12403840463596,
          8.12403840463596,
          0
         ],
         "xaxis": "x",
         "y": [
          -1115,
          -1115,
          -1125,
          -1125
         ],
         "yaxis": "y"
        },
        {
         "hoverinfo": "text",
         "marker": {
          "color": "rgb(133,20,75)"
         },
         "mode": "lines",
         "type": "scatter",
         "x": [
          0,
          8.774964387392123,
          8.774964387392123,
          8.12403840463596
         ],
         "xaxis": "x",
         "y": [
          -1105,
          -1105,
          -1120,
          -1120
         ],
         "yaxis": "y"
        },
        {
         "hoverinfo": "text",
         "marker": {
          "color": "rgb(133,20,75)"
         },
         "mode": "lines",
         "type": "scatter",
         "x": [
          0,
          5.656854249492381,
          5.656854249492381,
          0
         ],
         "xaxis": "x",
         "y": [
          -1145,
          -1145,
          -1155,
          -1155
         ],
         "yaxis": "y"
        },
        {
         "hoverinfo": "text",
         "marker": {
          "color": "rgb(133,20,75)"
         },
         "mode": "lines",
         "type": "scatter",
         "x": [
          0,
          8.774964387392123,
          8.774964387392123,
          5.656854249492381
         ],
         "xaxis": "x",
         "y": [
          -1135,
          -1135,
          -1150,
          -1150
         ],
         "yaxis": "y"
        },
        {
         "hoverinfo": "text",
         "marker": {
          "color": "rgb(133,20,75)"
         },
         "mode": "lines",
         "type": "scatter",
         "x": [
          8.774964387392123,
          8.831760866327848,
          8.831760866327848,
          8.774964387392123
         ],
         "xaxis": "x",
         "y": [
          -1112.5,
          -1112.5,
          -1142.5,
          -1142.5
         ],
         "yaxis": "y"
        },
        {
         "hoverinfo": "text",
         "marker": {
          "color": "rgb(133,20,75)"
         },
         "mode": "lines",
         "type": "scatter",
         "x": [
          0,
          8.94427190999916,
          8.94427190999916,
          8.831760866327848
         ],
         "xaxis": "x",
         "y": [
          -1095,
          -1095,
          -1127.5,
          -1127.5
         ],
         "yaxis": "y"
        },
        {
         "hoverinfo": "text",
         "marker": {
          "color": "rgb(133,20,75)"
         },
         "mode": "lines",
         "type": "scatter",
         "x": [
          6.708203932499369,
          9.746794344808963,
          9.746794344808963,
          8.94427190999916
         ],
         "xaxis": "x",
         "y": [
          -1080,
          -1080,
          -1111.25,
          -1111.25
         ],
         "yaxis": "y"
        },
        {
         "hoverinfo": "text",
         "marker": {
          "color": "rgb(133,20,75)"
         },
         "mode": "lines",
         "type": "scatter",
         "x": [
          0,
          9.746794344808963,
          9.746794344808963,
          9.746794344808963
         ],
         "xaxis": "x",
         "y": [
          -1065,
          -1065,
          -1095.625,
          -1095.625
         ],
         "yaxis": "y"
        },
        {
         "hoverinfo": "text",
         "marker": {
          "color": "rgb(133,20,75)"
         },
         "mode": "lines",
         "type": "scatter",
         "x": [
          0,
          9.848857801796104,
          9.848857801796104,
          9.746794344808963
         ],
         "xaxis": "x",
         "y": [
          -1055,
          -1055,
          -1080.3125,
          -1080.3125
         ],
         "yaxis": "y"
        },
        {
         "hoverinfo": "text",
         "marker": {
          "color": "rgb(133,20,75)"
         },
         "mode": "lines",
         "type": "scatter",
         "x": [
          0,
          10.04987562112089,
          10.04987562112089,
          9.848857801796104
         ],
         "xaxis": "x",
         "y": [
          -1045,
          -1045,
          -1067.65625,
          -1067.65625
         ],
         "yaxis": "y"
        },
        {
         "hoverinfo": "text",
         "marker": {
          "color": "rgb(133,20,75)"
         },
         "mode": "lines",
         "type": "scatter",
         "x": [
          0,
          10.44030650891055,
          10.44030650891055,
          10.04987562112089
         ],
         "xaxis": "x",
         "y": [
          -1035,
          -1035,
          -1056.328125,
          -1056.328125
         ],
         "yaxis": "y"
        },
        {
         "hoverinfo": "text",
         "marker": {
          "color": "rgb(133,20,75)"
         },
         "mode": "lines",
         "type": "scatter",
         "x": [
          0,
          10.535653752852738,
          10.535653752852738,
          10.44030650891055
         ],
         "xaxis": "x",
         "y": [
          -1025,
          -1025,
          -1045.6640625,
          -1045.6640625
         ],
         "yaxis": "y"
        },
        {
         "hoverinfo": "text",
         "marker": {
          "color": "rgb(133,20,75)"
         },
         "mode": "lines",
         "type": "scatter",
         "x": [
          0,
          10.583005244258363,
          10.583005244258363,
          0
         ],
         "xaxis": "x",
         "y": [
          -1165,
          -1165,
          -1175,
          -1175
         ],
         "yaxis": "y"
        },
        {
         "hoverinfo": "text",
         "marker": {
          "color": "rgb(133,20,75)"
         },
         "mode": "lines",
         "type": "scatter",
         "x": [
          10.535653752852738,
          10.770329614269007,
          10.770329614269007,
          10.583005244258363
         ],
         "xaxis": "x",
         "y": [
          -1035.33203125,
          -1035.33203125,
          -1170,
          -1170
         ],
         "yaxis": "y"
        },
        {
         "hoverinfo": "text",
         "marker": {
          "color": "rgb(133,20,75)"
         },
         "mode": "lines",
         "type": "scatter",
         "x": [
          8.660254037844387,
          11.180339887498949,
          11.180339887498949,
          10.770329614269007
         ],
         "xaxis": "x",
         "y": [
          -1002.5,
          -1002.5,
          -1102.666015625,
          -1102.666015625
         ],
         "yaxis": "y"
        },
        {
         "hoverinfo": "text",
         "marker": {
          "color": "rgb(133,20,75)"
         },
         "mode": "lines",
         "type": "scatter",
         "x": [
          0,
          11.445523142259598,
          11.445523142259598,
          11.180339887498949
         ],
         "xaxis": "x",
         "y": [
          -985,
          -985,
          -1052.5830078125,
          -1052.5830078125
         ],
         "yaxis": "y"
        },
        {
         "hoverinfo": "text",
         "marker": {
          "color": "rgb(133,20,75)"
         },
         "mode": "lines",
         "type": "scatter",
         "x": [
          0,
          11.704699910719626,
          11.704699910719626,
          11.445523142259598
         ],
         "xaxis": "x",
         "y": [
          -975,
          -975,
          -1018.79150390625,
          -1018.79150390625
         ],
         "yaxis": "y"
        },
        {
         "hoverinfo": "text",
         "marker": {
          "color": "rgb(133,20,75)"
         },
         "mode": "lines",
         "type": "scatter",
         "x": [
          11.40175425099138,
          11.832159566199232,
          11.832159566199232,
          11.704699910719626
         ],
         "xaxis": "x",
         "y": [
          -918.4375,
          -918.4375,
          -996.895751953125,
          -996.895751953125
         ],
         "yaxis": "y"
        },
        {
         "hoverinfo": "text",
         "marker": {
          "color": "rgb(133,20,75)"
         },
         "mode": "lines",
         "type": "scatter",
         "x": [
          0,
          12,
          12,
          11.832159566199232
         ],
         "xaxis": "x",
         "y": [
          -895,
          -895,
          -957.6666259765625,
          -957.6666259765625
         ],
         "yaxis": "y"
        },
        {
         "hoverinfo": "text",
         "marker": {
          "color": "rgb(133,20,75)"
         },
         "mode": "lines",
         "type": "scatter",
         "x": [
          11,
          12.041594578792296,
          12.041594578792296,
          12
         ],
         "xaxis": "x",
         "y": [
          -880,
          -880,
          -926.3333129882812,
          -926.3333129882812
         ],
         "yaxis": "y"
        },
        {
         "hoverinfo": "text",
         "marker": {
          "color": "rgb(133,20,75)"
         },
         "mode": "lines",
         "type": "scatter",
         "x": [
          0,
          12.727922061357855,
          12.727922061357855,
          12.041594578792296
         ],
         "xaxis": "x",
         "y": [
          -865,
          -865,
          -903.1666564941406,
          -903.1666564941406
         ],
         "yaxis": "y"
        },
        {
         "hoverinfo": "text",
         "marker": {
          "color": "rgb(133,20,75)"
         },
         "mode": "lines",
         "type": "scatter",
         "x": [
          0,
          13.152946437965905,
          13.152946437965905,
          12.727922061357855
         ],
         "xaxis": "x",
         "y": [
          -855,
          -855,
          -884.0833282470703,
          -884.0833282470703
         ],
         "yaxis": "y"
        },
        {
         "hoverinfo": "text",
         "marker": {
          "color": "rgb(0,116,217)"
         },
         "mode": "lines",
         "type": "scatter",
         "x": [
          12.84523257866513,
          14.106735979665885,
          14.106735979665885,
          13.152946437965905
         ],
         "xaxis": "x",
         "y": [
          -603.0510711669922,
          -603.0510711669922,
          -869.5416641235352,
          -869.5416641235352
         ],
         "yaxis": "y"
        },
        {
         "hoverinfo": "text",
         "marker": {
          "color": "rgb(0,116,217)"
         },
         "mode": "lines",
         "type": "scatter",
         "x": [
          0,
          14.247806848775006,
          14.247806848775006,
          14.106735979665885
         ],
         "xaxis": "x",
         "y": [
          -575,
          -575,
          -736.2963676452637,
          -736.2963676452637
         ],
         "yaxis": "y"
        },
        {
         "hoverinfo": "text",
         "marker": {
          "color": "rgb(0,116,217)"
         },
         "mode": "lines",
         "type": "scatter",
         "x": [
          0,
          14.491376746189438,
          14.491376746189438,
          14.247806848775006
         ],
         "xaxis": "x",
         "y": [
          -565,
          -565,
          -655.6481838226318,
          -655.6481838226318
         ],
         "yaxis": "y"
        },
        {
         "hoverinfo": "text",
         "marker": {
          "color": "rgb(255,220,0)"
         },
         "mode": "lines",
         "type": "scatter",
         "x": [
          0,
          10.44030650891055,
          10.44030650891055,
          0
         ],
         "xaxis": "x",
         "y": [
          -1185,
          -1185,
          -1195,
          -1195
         ],
         "yaxis": "y"
        },
        {
         "hoverinfo": "text",
         "marker": {
          "color": "rgb(40,35,35)"
         },
         "mode": "lines",
         "type": "scatter",
         "x": [
          0,
          9.695359714832659,
          9.695359714832659,
          0
         ],
         "xaxis": "x",
         "y": [
          -1265,
          -1265,
          -1275,
          -1275
         ],
         "yaxis": "y"
        },
        {
         "hoverinfo": "text",
         "marker": {
          "color": "rgb(40,35,35)"
         },
         "mode": "lines",
         "type": "scatter",
         "x": [
          0,
          10.583005244258363,
          10.583005244258363,
          9.695359714832659
         ],
         "xaxis": "x",
         "y": [
          -1255,
          -1255,
          -1270,
          -1270
         ],
         "yaxis": "y"
        },
        {
         "hoverinfo": "text",
         "marker": {
          "color": "rgb(40,35,35)"
         },
         "mode": "lines",
         "type": "scatter",
         "x": [
          0,
          11,
          11,
          10.583005244258363
         ],
         "xaxis": "x",
         "y": [
          -1245,
          -1245,
          -1262.5,
          -1262.5
         ],
         "yaxis": "y"
        },
        {
         "hoverinfo": "text",
         "marker": {
          "color": "rgb(40,35,35)"
         },
         "mode": "lines",
         "type": "scatter",
         "x": [
          0,
          11.445523142259598,
          11.445523142259598,
          11
         ],
         "xaxis": "x",
         "y": [
          -1235,
          -1235,
          -1253.75,
          -1253.75
         ],
         "yaxis": "y"
        },
        {
         "hoverinfo": "text",
         "marker": {
          "color": "rgb(40,35,35)"
         },
         "mode": "lines",
         "type": "scatter",
         "x": [
          0,
          12,
          12,
          11.445523142259598
         ],
         "xaxis": "x",
         "y": [
          -1225,
          -1225,
          -1244.375,
          -1244.375
         ],
         "yaxis": "y"
        },
        {
         "hoverinfo": "text",
         "marker": {
          "color": "rgb(40,35,35)"
         },
         "mode": "lines",
         "type": "scatter",
         "x": [
          0,
          13.416407864998739,
          13.416407864998739,
          12
         ],
         "xaxis": "x",
         "y": [
          -1215,
          -1215,
          -1234.6875,
          -1234.6875
         ],
         "yaxis": "y"
        },
        {
         "hoverinfo": "text",
         "marker": {
          "color": "rgb(0,116,217)"
         },
         "mode": "lines",
         "type": "scatter",
         "x": [
          0,
          13.92838827718412,
          13.92838827718412,
          13.416407864998739
         ],
         "xaxis": "x",
         "y": [
          -1205,
          -1205,
          -1224.84375,
          -1224.84375
         ],
         "yaxis": "y"
        },
        {
         "hoverinfo": "text",
         "marker": {
          "color": "rgb(0,116,217)"
         },
         "mode": "lines",
         "type": "scatter",
         "x": [
          10.44030650891055,
          14.071247279470288,
          14.071247279470288,
          13.92838827718412
         ],
         "xaxis": "x",
         "y": [
          -1190,
          -1190,
          -1214.921875,
          -1214.921875
         ],
         "yaxis": "y"
        },
        {
         "hoverinfo": "text",
         "marker": {
          "color": "rgb(61,153,112)"
         },
         "mode": "lines",
         "type": "scatter",
         "x": [
          0,
          7.14142842854285,
          7.14142842854285,
          0
         ],
         "xaxis": "x",
         "y": [
          -1315,
          -1315,
          -1325,
          -1325
         ],
         "yaxis": "y"
        },
        {
         "hoverinfo": "text",
         "marker": {
          "color": "rgb(61,153,112)"
         },
         "mode": "lines",
         "type": "scatter",
         "x": [
          0,
          8.06225774829855,
          8.06225774829855,
          0
         ],
         "xaxis": "x",
         "y": [
          -1345,
          -1345,
          -1355,
          -1355
         ],
         "yaxis": "y"
        },
        {
         "hoverinfo": "text",
         "marker": {
          "color": "rgb(61,153,112)"
         },
         "mode": "lines",
         "type": "scatter",
         "x": [
          0,
          8.12403840463596,
          8.12403840463596,
          8.06225774829855
         ],
         "xaxis": "x",
         "y": [
          -1335,
          -1335,
          -1350,
          -1350
         ],
         "yaxis": "y"
        },
        {
         "hoverinfo": "text",
         "marker": {
          "color": "rgb(61,153,112)"
         },
         "mode": "lines",
         "type": "scatter",
         "x": [
          7.14142842854285,
          8.660254037844387,
          8.660254037844387,
          8.12403840463596
         ],
         "xaxis": "x",
         "y": [
          -1320,
          -1320,
          -1342.5,
          -1342.5
         ],
         "yaxis": "y"
        },
        {
         "hoverinfo": "text",
         "marker": {
          "color": "rgb(61,153,112)"
         },
         "mode": "lines",
         "type": "scatter",
         "x": [
          0,
          11.445523142259598,
          11.445523142259598,
          8.660254037844387
         ],
         "xaxis": "x",
         "y": [
          -1305,
          -1305,
          -1331.25,
          -1331.25
         ],
         "yaxis": "y"
        },
        {
         "hoverinfo": "text",
         "marker": {
          "color": "rgb(61,153,112)"
         },
         "mode": "lines",
         "type": "scatter",
         "x": [
          0,
          12.041594578792296,
          12.041594578792296,
          11.445523142259598
         ],
         "xaxis": "x",
         "y": [
          -1295,
          -1295,
          -1318.125,
          -1318.125
         ],
         "yaxis": "y"
        },
        {
         "hoverinfo": "text",
         "marker": {
          "color": "rgb(0,116,217)"
         },
         "mode": "lines",
         "type": "scatter",
         "x": [
          0,
          14.317821063276353,
          14.317821063276353,
          12.041594578792296
         ],
         "xaxis": "x",
         "y": [
          -1285,
          -1285,
          -1306.5625,
          -1306.5625
         ],
         "yaxis": "y"
        },
        {
         "hoverinfo": "text",
         "marker": {
          "color": "rgb(0,116,217)"
         },
         "mode": "lines",
         "type": "scatter",
         "x": [
          14.071247279470288,
          14.422205101855956,
          14.422205101855956,
          14.317821063276353
         ],
         "xaxis": "x",
         "y": [
          -1202.4609375,
          -1202.4609375,
          -1295.78125,
          -1295.78125
         ],
         "yaxis": "y"
        },
        {
         "hoverinfo": "text",
         "marker": {
          "color": "rgb(255,65,54)"
         },
         "mode": "lines",
         "type": "scatter",
         "x": [
          0,
          11.313708498984761,
          11.313708498984761,
          0
         ],
         "xaxis": "x",
         "y": [
          -1385,
          -1385,
          -1395,
          -1395
         ],
         "yaxis": "y"
        },
        {
         "hoverinfo": "text",
         "marker": {
          "color": "rgb(255,65,54)"
         },
         "mode": "lines",
         "type": "scatter",
         "x": [
          0,
          5.656854249492381,
          5.656854249492381,
          0
         ],
         "xaxis": "x",
         "y": [
          -1445,
          -1445,
          -1455,
          -1455
         ],
         "yaxis": "y"
        },
        {
         "hoverinfo": "text",
         "marker": {
          "color": "rgb(255,65,54)"
         },
         "mode": "lines",
         "type": "scatter",
         "x": [
          0,
          9.055385138137417,
          9.055385138137417,
          5.656854249492381
         ],
         "xaxis": "x",
         "y": [
          -1435,
          -1435,
          -1450,
          -1450
         ],
         "yaxis": "y"
        },
        {
         "hoverinfo": "text",
         "marker": {
          "color": "rgb(255,65,54)"
         },
         "mode": "lines",
         "type": "scatter",
         "x": [
          0,
          6,
          6,
          0
         ],
         "xaxis": "x",
         "y": [
          -1485,
          -1485,
          -1495,
          -1495
         ],
         "yaxis": "y"
        },
        {
         "hoverinfo": "text",
         "marker": {
          "color": "rgb(255,65,54)"
         },
         "mode": "lines",
         "type": "scatter",
         "x": [
          0,
          6.782329983125268,
          6.782329983125268,
          6
         ],
         "xaxis": "x",
         "y": [
          -1475,
          -1475,
          -1490,
          -1490
         ],
         "yaxis": "y"
        },
        {
         "hoverinfo": "text",
         "marker": {
          "color": "rgb(255,65,54)"
         },
         "mode": "lines",
         "type": "scatter",
         "x": [
          0,
          4.898979485566356,
          4.898979485566356,
          0
         ],
         "xaxis": "x",
         "y": [
          -1535,
          -1535,
          -1545,
          -1545
         ],
         "yaxis": "y"
        },
        {
         "hoverinfo": "text",
         "marker": {
          "color": "rgb(255,65,54)"
         },
         "mode": "lines",
         "type": "scatter",
         "x": [
          0,
          6.928203230275509,
          6.928203230275509,
          4.898979485566356
         ],
         "xaxis": "x",
         "y": [
          -1525,
          -1525,
          -1540,
          -1540
         ],
         "yaxis": "y"
        },
        {
         "hoverinfo": "text",
         "marker": {
          "color": "rgb(255,65,54)"
         },
         "mode": "lines",
         "type": "scatter",
         "x": [
          0,
          8.831760866327848,
          8.831760866327848,
          6.928203230275509
         ],
         "xaxis": "x",
         "y": [
          -1515,
          -1515,
          -1532.5,
          -1532.5
         ],
         "yaxis": "y"
        },
        {
         "hoverinfo": "text",
         "marker": {
          "color": "rgb(255,65,54)"
         },
         "mode": "lines",
         "type": "scatter",
         "x": [
          0,
          9.848857801796104,
          9.848857801796104,
          8.831760866327848
         ],
         "xaxis": "x",
         "y": [
          -1505,
          -1505,
          -1523.75,
          -1523.75
         ],
         "yaxis": "y"
        },
        {
         "hoverinfo": "text",
         "marker": {
          "color": "rgb(255,65,54)"
         },
         "mode": "lines",
         "type": "scatter",
         "x": [
          6.782329983125268,
          10.246950765959598,
          10.246950765959598,
          9.848857801796104
         ],
         "xaxis": "x",
         "y": [
          -1482.5,
          -1482.5,
          -1514.375,
          -1514.375
         ],
         "yaxis": "y"
        },
        {
         "hoverinfo": "text",
         "marker": {
          "color": "rgb(255,65,54)"
         },
         "mode": "lines",
         "type": "scatter",
         "x": [
          0,
          7.280109889280518,
          7.280109889280518,
          0
         ],
         "xaxis": "x",
         "y": [
          -1575,
          -1575,
          -1585,
          -1585
         ],
         "yaxis": "y"
        },
        {
         "hoverinfo": "text",
         "marker": {
          "color": "rgb(255,65,54)"
         },
         "mode": "lines",
         "type": "scatter",
         "x": [
          0,
          9.16515138991168,
          9.16515138991168,
          7.280109889280518
         ],
         "xaxis": "x",
         "y": [
          -1565,
          -1565,
          -1580,
          -1580
         ],
         "yaxis": "y"
        },
        {
         "hoverinfo": "text",
         "marker": {
          "color": "rgb(255,65,54)"
         },
         "mode": "lines",
         "type": "scatter",
         "x": [
          0,
          10.535653752852738,
          10.535653752852738,
          9.16515138991168
         ],
         "xaxis": "x",
         "y": [
          -1555,
          -1555,
          -1572.5,
          -1572.5
         ],
         "yaxis": "y"
        },
        {
         "hoverinfo": "text",
         "marker": {
          "color": "rgb(255,65,54)"
         },
         "mode": "lines",
         "type": "scatter",
         "x": [
          10.246950765959598,
          11.313708498984761,
          11.313708498984761,
          10.535653752852738
         ],
         "xaxis": "x",
         "y": [
          -1498.4375,
          -1498.4375,
          -1563.75,
          -1563.75
         ],
         "yaxis": "y"
        },
        {
         "hoverinfo": "text",
         "marker": {
          "color": "rgb(255,65,54)"
         },
         "mode": "lines",
         "type": "scatter",
         "x": [
          0,
          11.313708498984761,
          11.313708498984761,
          11.313708498984761
         ],
         "xaxis": "x",
         "y": [
          -1465,
          -1465,
          -1531.09375,
          -1531.09375
         ],
         "yaxis": "y"
        },
        {
         "hoverinfo": "text",
         "marker": {
          "color": "rgb(255,65,54)"
         },
         "mode": "lines",
         "type": "scatter",
         "x": [
          9.055385138137417,
          11.532562594670797,
          11.532562594670797,
          11.313708498984761
         ],
         "xaxis": "x",
         "y": [
          -1442.5,
          -1442.5,
          -1498.046875,
          -1498.046875
         ],
         "yaxis": "y"
        },
        {
         "hoverinfo": "text",
         "marker": {
          "color": "rgb(255,65,54)"
         },
         "mode": "lines",
         "type": "scatter",
         "x": [
          0,
          11.61895003862225,
          11.61895003862225,
          11.532562594670797
         ],
         "xaxis": "x",
         "y": [
          -1425,
          -1425,
          -1470.2734375,
          -1470.2734375
         ],
         "yaxis": "y"
        },
        {
         "hoverinfo": "text",
         "marker": {
          "color": "rgb(255,65,54)"
         },
         "mode": "lines",
         "type": "scatter",
         "x": [
          0,
          11.789826122551595,
          11.789826122551595,
          11.61895003862225
         ],
         "xaxis": "x",
         "y": [
          -1415,
          -1415,
          -1447.63671875,
          -1447.63671875
         ],
         "yaxis": "y"
        },
        {
         "hoverinfo": "text",
         "marker": {
          "color": "rgb(255,65,54)"
         },
         "mode": "lines",
         "type": "scatter",
         "x": [
          0,
          12.24744871391589,
          12.24744871391589,
          11.789826122551595
         ],
         "xaxis": "x",
         "y": [
          -1405,
          -1405,
          -1431.318359375,
          -1431.318359375
         ],
         "yaxis": "y"
        },
        {
         "hoverinfo": "text",
         "marker": {
          "color": "rgb(255,65,54)"
         },
         "mode": "lines",
         "type": "scatter",
         "x": [
          11.313708498984761,
          12.288205727444508,
          12.288205727444508,
          12.24744871391589
         ],
         "xaxis": "x",
         "y": [
          -1390,
          -1390,
          -1418.1591796875,
          -1418.1591796875
         ],
         "yaxis": "y"
        },
        {
         "hoverinfo": "text",
         "marker": {
          "color": "rgb(35,205,205)"
         },
         "mode": "lines",
         "type": "scatter",
         "x": [
          0,
          9.695359714832659,
          9.695359714832659,
          0
         ],
         "xaxis": "x",
         "y": [
          -1615,
          -1615,
          -1625,
          -1625
         ],
         "yaxis": "y"
        },
        {
         "hoverinfo": "text",
         "marker": {
          "color": "rgb(35,205,205)"
         },
         "mode": "lines",
         "type": "scatter",
         "x": [
          0,
          10.344080432788601,
          10.344080432788601,
          9.695359714832659
         ],
         "xaxis": "x",
         "y": [
          -1605,
          -1605,
          -1620,
          -1620
         ],
         "yaxis": "y"
        },
        {
         "hoverinfo": "text",
         "marker": {
          "color": "rgb(35,205,205)"
         },
         "mode": "lines",
         "type": "scatter",
         "x": [
          0,
          9.797958971132712,
          9.797958971132712,
          0
         ],
         "xaxis": "x",
         "y": [
          -1645,
          -1645,
          -1655,
          -1655
         ],
         "yaxis": "y"
        },
        {
         "hoverinfo": "text",
         "marker": {
          "color": "rgb(35,205,205)"
         },
         "mode": "lines",
         "type": "scatter",
         "x": [
          0,
          12.24744871391589,
          12.24744871391589,
          9.797958971132712
         ],
         "xaxis": "x",
         "y": [
          -1635,
          -1635,
          -1650,
          -1650
         ],
         "yaxis": "y"
        },
        {
         "hoverinfo": "text",
         "marker": {
          "color": "rgb(35,205,205)"
         },
         "mode": "lines",
         "type": "scatter",
         "x": [
          10.344080432788601,
          12.922847983320086,
          12.922847983320086,
          12.24744871391589
         ],
         "xaxis": "x",
         "y": [
          -1612.5,
          -1612.5,
          -1642.5,
          -1642.5
         ],
         "yaxis": "y"
        },
        {
         "hoverinfo": "text",
         "marker": {
          "color": "rgb(35,205,205)"
         },
         "mode": "lines",
         "type": "scatter",
         "x": [
          0,
          13,
          13,
          12.922847983320086
         ],
         "xaxis": "x",
         "y": [
          -1595,
          -1595,
          -1627.5,
          -1627.5
         ],
         "yaxis": "y"
        },
        {
         "hoverinfo": "text",
         "marker": {
          "color": "rgb(0,116,217)"
         },
         "mode": "lines",
         "type": "scatter",
         "x": [
          12.288205727444508,
          13.892443989449804,
          13.892443989449804,
          13
         ],
         "xaxis": "x",
         "y": [
          -1404.07958984375,
          -1404.07958984375,
          -1611.25,
          -1611.25
         ],
         "yaxis": "y"
        },
        {
         "hoverinfo": "text",
         "marker": {
          "color": "rgb(0,116,217)"
         },
         "mode": "lines",
         "type": "scatter",
         "x": [
          0,
          14,
          14,
          13.892443989449804
         ],
         "xaxis": "x",
         "y": [
          -1375,
          -1375,
          -1507.664794921875,
          -1507.664794921875
         ],
         "yaxis": "y"
        },
        {
         "hoverinfo": "text",
         "marker": {
          "color": "rgb(0,116,217)"
         },
         "mode": "lines",
         "type": "scatter",
         "x": [
          0,
          15.033296378372908,
          15.033296378372908,
          14
         ],
         "xaxis": "x",
         "y": [
          -1365,
          -1365,
          -1441.3323974609375,
          -1441.3323974609375
         ],
         "yaxis": "y"
        },
        {
         "hoverinfo": "text",
         "marker": {
          "color": "rgb(0,116,217)"
         },
         "mode": "lines",
         "type": "scatter",
         "x": [
          14.422205101855956,
          15.588457268119896,
          15.588457268119896,
          15.033296378372908
         ],
         "xaxis": "x",
         "y": [
          -1249.12109375,
          -1249.12109375,
          -1403.1661987304688,
          -1403.1661987304688
         ],
         "yaxis": "y"
        },
        {
         "hoverinfo": "text",
         "marker": {
          "color": "rgb(0,116,217)"
         },
         "mode": "lines",
         "type": "scatter",
         "x": [
          14.491376746189438,
          15.84297951775486,
          15.84297951775486,
          15.588457268119896
         ],
         "xaxis": "x",
         "y": [
          -610.3240919113159,
          -610.3240919113159,
          -1326.1436462402344,
          -1326.1436462402344
         ],
         "yaxis": "y"
        },
        {
         "hoverinfo": "text",
         "marker": {
          "color": "rgb(0,116,217)"
         },
         "mode": "lines",
         "type": "scatter",
         "x": [
          12.569805089976535,
          15.84297951775486,
          15.84297951775486,
          15.84297951775486
         ],
         "xaxis": "x",
         "y": [
          -310.45684814453125,
          -310.45684814453125,
          -968.2338690757751,
          -968.2338690757751
         ],
         "yaxis": "y"
        },
        {
         "hoverinfo": "text",
         "marker": {
          "color": "rgb(0,116,217)"
         },
         "mode": "lines",
         "type": "scatter",
         "x": [
          11.224972160321824,
          19.748417658131498,
          19.748417658131498,
          15.84297951775486
         ],
         "xaxis": "x",
         "y": [
          -165.537109375,
          -165.537109375,
          -639.3453586101532,
          -639.3453586101532
         ],
         "yaxis": "y"
        }
       ],
       "layout": {
        "autosize": false,
        "height": 1000,
        "hovermode": "closest",
        "showlegend": false,
        "template": {
         "data": {
          "bar": [
           {
            "error_x": {
             "color": "#2a3f5f"
            },
            "error_y": {
             "color": "#2a3f5f"
            },
            "marker": {
             "line": {
              "color": "#E5ECF6",
              "width": 0.5
             }
            },
            "type": "bar"
           }
          ],
          "barpolar": [
           {
            "marker": {
             "line": {
              "color": "#E5ECF6",
              "width": 0.5
             }
            },
            "type": "barpolar"
           }
          ],
          "carpet": [
           {
            "aaxis": {
             "endlinecolor": "#2a3f5f",
             "gridcolor": "white",
             "linecolor": "white",
             "minorgridcolor": "white",
             "startlinecolor": "#2a3f5f"
            },
            "baxis": {
             "endlinecolor": "#2a3f5f",
             "gridcolor": "white",
             "linecolor": "white",
             "minorgridcolor": "white",
             "startlinecolor": "#2a3f5f"
            },
            "type": "carpet"
           }
          ],
          "choropleth": [
           {
            "colorbar": {
             "outlinewidth": 0,
             "ticks": ""
            },
            "type": "choropleth"
           }
          ],
          "contour": [
           {
            "colorbar": {
             "outlinewidth": 0,
             "ticks": ""
            },
            "colorscale": [
             [
              0,
              "#0d0887"
             ],
             [
              0.1111111111111111,
              "#46039f"
             ],
             [
              0.2222222222222222,
              "#7201a8"
             ],
             [
              0.3333333333333333,
              "#9c179e"
             ],
             [
              0.4444444444444444,
              "#bd3786"
             ],
             [
              0.5555555555555556,
              "#d8576b"
             ],
             [
              0.6666666666666666,
              "#ed7953"
             ],
             [
              0.7777777777777778,
              "#fb9f3a"
             ],
             [
              0.8888888888888888,
              "#fdca26"
             ],
             [
              1,
              "#f0f921"
             ]
            ],
            "type": "contour"
           }
          ],
          "contourcarpet": [
           {
            "colorbar": {
             "outlinewidth": 0,
             "ticks": ""
            },
            "type": "contourcarpet"
           }
          ],
          "heatmap": [
           {
            "colorbar": {
             "outlinewidth": 0,
             "ticks": ""
            },
            "colorscale": [
             [
              0,
              "#0d0887"
             ],
             [
              0.1111111111111111,
              "#46039f"
             ],
             [
              0.2222222222222222,
              "#7201a8"
             ],
             [
              0.3333333333333333,
              "#9c179e"
             ],
             [
              0.4444444444444444,
              "#bd3786"
             ],
             [
              0.5555555555555556,
              "#d8576b"
             ],
             [
              0.6666666666666666,
              "#ed7953"
             ],
             [
              0.7777777777777778,
              "#fb9f3a"
             ],
             [
              0.8888888888888888,
              "#fdca26"
             ],
             [
              1,
              "#f0f921"
             ]
            ],
            "type": "heatmap"
           }
          ],
          "heatmapgl": [
           {
            "colorbar": {
             "outlinewidth": 0,
             "ticks": ""
            },
            "colorscale": [
             [
              0,
              "#0d0887"
             ],
             [
              0.1111111111111111,
              "#46039f"
             ],
             [
              0.2222222222222222,
              "#7201a8"
             ],
             [
              0.3333333333333333,
              "#9c179e"
             ],
             [
              0.4444444444444444,
              "#bd3786"
             ],
             [
              0.5555555555555556,
              "#d8576b"
             ],
             [
              0.6666666666666666,
              "#ed7953"
             ],
             [
              0.7777777777777778,
              "#fb9f3a"
             ],
             [
              0.8888888888888888,
              "#fdca26"
             ],
             [
              1,
              "#f0f921"
             ]
            ],
            "type": "heatmapgl"
           }
          ],
          "histogram": [
           {
            "marker": {
             "colorbar": {
              "outlinewidth": 0,
              "ticks": ""
             }
            },
            "type": "histogram"
           }
          ],
          "histogram2d": [
           {
            "colorbar": {
             "outlinewidth": 0,
             "ticks": ""
            },
            "colorscale": [
             [
              0,
              "#0d0887"
             ],
             [
              0.1111111111111111,
              "#46039f"
             ],
             [
              0.2222222222222222,
              "#7201a8"
             ],
             [
              0.3333333333333333,
              "#9c179e"
             ],
             [
              0.4444444444444444,
              "#bd3786"
             ],
             [
              0.5555555555555556,
              "#d8576b"
             ],
             [
              0.6666666666666666,
              "#ed7953"
             ],
             [
              0.7777777777777778,
              "#fb9f3a"
             ],
             [
              0.8888888888888888,
              "#fdca26"
             ],
             [
              1,
              "#f0f921"
             ]
            ],
            "type": "histogram2d"
           }
          ],
          "histogram2dcontour": [
           {
            "colorbar": {
             "outlinewidth": 0,
             "ticks": ""
            },
            "colorscale": [
             [
              0,
              "#0d0887"
             ],
             [
              0.1111111111111111,
              "#46039f"
             ],
             [
              0.2222222222222222,
              "#7201a8"
             ],
             [
              0.3333333333333333,
              "#9c179e"
             ],
             [
              0.4444444444444444,
              "#bd3786"
             ],
             [
              0.5555555555555556,
              "#d8576b"
             ],
             [
              0.6666666666666666,
              "#ed7953"
             ],
             [
              0.7777777777777778,
              "#fb9f3a"
             ],
             [
              0.8888888888888888,
              "#fdca26"
             ],
             [
              1,
              "#f0f921"
             ]
            ],
            "type": "histogram2dcontour"
           }
          ],
          "mesh3d": [
           {
            "colorbar": {
             "outlinewidth": 0,
             "ticks": ""
            },
            "type": "mesh3d"
           }
          ],
          "parcoords": [
           {
            "line": {
             "colorbar": {
              "outlinewidth": 0,
              "ticks": ""
             }
            },
            "type": "parcoords"
           }
          ],
          "pie": [
           {
            "automargin": true,
            "type": "pie"
           }
          ],
          "scatter": [
           {
            "marker": {
             "colorbar": {
              "outlinewidth": 0,
              "ticks": ""
             }
            },
            "type": "scatter"
           }
          ],
          "scatter3d": [
           {
            "line": {
             "colorbar": {
              "outlinewidth": 0,
              "ticks": ""
             }
            },
            "marker": {
             "colorbar": {
              "outlinewidth": 0,
              "ticks": ""
             }
            },
            "type": "scatter3d"
           }
          ],
          "scattercarpet": [
           {
            "marker": {
             "colorbar": {
              "outlinewidth": 0,
              "ticks": ""
             }
            },
            "type": "scattercarpet"
           }
          ],
          "scattergeo": [
           {
            "marker": {
             "colorbar": {
              "outlinewidth": 0,
              "ticks": ""
             }
            },
            "type": "scattergeo"
           }
          ],
          "scattergl": [
           {
            "marker": {
             "colorbar": {
              "outlinewidth": 0,
              "ticks": ""
             }
            },
            "type": "scattergl"
           }
          ],
          "scattermapbox": [
           {
            "marker": {
             "colorbar": {
              "outlinewidth": 0,
              "ticks": ""
             }
            },
            "type": "scattermapbox"
           }
          ],
          "scatterpolar": [
           {
            "marker": {
             "colorbar": {
              "outlinewidth": 0,
              "ticks": ""
             }
            },
            "type": "scatterpolar"
           }
          ],
          "scatterpolargl": [
           {
            "marker": {
             "colorbar": {
              "outlinewidth": 0,
              "ticks": ""
             }
            },
            "type": "scatterpolargl"
           }
          ],
          "scatterternary": [
           {
            "marker": {
             "colorbar": {
              "outlinewidth": 0,
              "ticks": ""
             }
            },
            "type": "scatterternary"
           }
          ],
          "surface": [
           {
            "colorbar": {
             "outlinewidth": 0,
             "ticks": ""
            },
            "colorscale": [
             [
              0,
              "#0d0887"
             ],
             [
              0.1111111111111111,
              "#46039f"
             ],
             [
              0.2222222222222222,
              "#7201a8"
             ],
             [
              0.3333333333333333,
              "#9c179e"
             ],
             [
              0.4444444444444444,
              "#bd3786"
             ],
             [
              0.5555555555555556,
              "#d8576b"
             ],
             [
              0.6666666666666666,
              "#ed7953"
             ],
             [
              0.7777777777777778,
              "#fb9f3a"
             ],
             [
              0.8888888888888888,
              "#fdca26"
             ],
             [
              1,
              "#f0f921"
             ]
            ],
            "type": "surface"
           }
          ],
          "table": [
           {
            "cells": {
             "fill": {
              "color": "#EBF0F8"
             },
             "line": {
              "color": "white"
             }
            },
            "header": {
             "fill": {
              "color": "#C8D4E3"
             },
             "line": {
              "color": "white"
             }
            },
            "type": "table"
           }
          ]
         },
         "layout": {
          "annotationdefaults": {
           "arrowcolor": "#2a3f5f",
           "arrowhead": 0,
           "arrowwidth": 1
          },
          "coloraxis": {
           "colorbar": {
            "outlinewidth": 0,
            "ticks": ""
           }
          },
          "colorscale": {
           "diverging": [
            [
             0,
             "#8e0152"
            ],
            [
             0.1,
             "#c51b7d"
            ],
            [
             0.2,
             "#de77ae"
            ],
            [
             0.3,
             "#f1b6da"
            ],
            [
             0.4,
             "#fde0ef"
            ],
            [
             0.5,
             "#f7f7f7"
            ],
            [
             0.6,
             "#e6f5d0"
            ],
            [
             0.7,
             "#b8e186"
            ],
            [
             0.8,
             "#7fbc41"
            ],
            [
             0.9,
             "#4d9221"
            ],
            [
             1,
             "#276419"
            ]
           ],
           "sequential": [
            [
             0,
             "#0d0887"
            ],
            [
             0.1111111111111111,
             "#46039f"
            ],
            [
             0.2222222222222222,
             "#7201a8"
            ],
            [
             0.3333333333333333,
             "#9c179e"
            ],
            [
             0.4444444444444444,
             "#bd3786"
            ],
            [
             0.5555555555555556,
             "#d8576b"
            ],
            [
             0.6666666666666666,
             "#ed7953"
            ],
            [
             0.7777777777777778,
             "#fb9f3a"
            ],
            [
             0.8888888888888888,
             "#fdca26"
            ],
            [
             1,
             "#f0f921"
            ]
           ],
           "sequentialminus": [
            [
             0,
             "#0d0887"
            ],
            [
             0.1111111111111111,
             "#46039f"
            ],
            [
             0.2222222222222222,
             "#7201a8"
            ],
            [
             0.3333333333333333,
             "#9c179e"
            ],
            [
             0.4444444444444444,
             "#bd3786"
            ],
            [
             0.5555555555555556,
             "#d8576b"
            ],
            [
             0.6666666666666666,
             "#ed7953"
            ],
            [
             0.7777777777777778,
             "#fb9f3a"
            ],
            [
             0.8888888888888888,
             "#fdca26"
            ],
            [
             1,
             "#f0f921"
            ]
           ]
          },
          "colorway": [
           "#636efa",
           "#EF553B",
           "#00cc96",
           "#ab63fa",
           "#FFA15A",
           "#19d3f3",
           "#FF6692",
           "#B6E880",
           "#FF97FF",
           "#FECB52"
          ],
          "font": {
           "color": "#2a3f5f"
          },
          "geo": {
           "bgcolor": "white",
           "lakecolor": "white",
           "landcolor": "#E5ECF6",
           "showlakes": true,
           "showland": true,
           "subunitcolor": "white"
          },
          "hoverlabel": {
           "align": "left"
          },
          "hovermode": "closest",
          "mapbox": {
           "style": "light"
          },
          "paper_bgcolor": "white",
          "plot_bgcolor": "#E5ECF6",
          "polar": {
           "angularaxis": {
            "gridcolor": "white",
            "linecolor": "white",
            "ticks": ""
           },
           "bgcolor": "#E5ECF6",
           "radialaxis": {
            "gridcolor": "white",
            "linecolor": "white",
            "ticks": ""
           }
          },
          "scene": {
           "xaxis": {
            "backgroundcolor": "#E5ECF6",
            "gridcolor": "white",
            "gridwidth": 2,
            "linecolor": "white",
            "showbackground": true,
            "ticks": "",
            "zerolinecolor": "white"
           },
           "yaxis": {
            "backgroundcolor": "#E5ECF6",
            "gridcolor": "white",
            "gridwidth": 2,
            "linecolor": "white",
            "showbackground": true,
            "ticks": "",
            "zerolinecolor": "white"
           },
           "zaxis": {
            "backgroundcolor": "#E5ECF6",
            "gridcolor": "white",
            "gridwidth": 2,
            "linecolor": "white",
            "showbackground": true,
            "ticks": "",
            "zerolinecolor": "white"
           }
          },
          "shapedefaults": {
           "line": {
            "color": "#2a3f5f"
           }
          },
          "ternary": {
           "aaxis": {
            "gridcolor": "white",
            "linecolor": "white",
            "ticks": ""
           },
           "baxis": {
            "gridcolor": "white",
            "linecolor": "white",
            "ticks": ""
           },
           "bgcolor": "#E5ECF6",
           "caxis": {
            "gridcolor": "white",
            "linecolor": "white",
            "ticks": ""
           }
          },
          "title": {
           "x": 0.05
          },
          "xaxis": {
           "automargin": true,
           "gridcolor": "white",
           "linecolor": "white",
           "ticks": "",
           "title": {
            "standoff": 15
           },
           "zerolinecolor": "white",
           "zerolinewidth": 2
          },
          "yaxis": {
           "automargin": true,
           "gridcolor": "white",
           "linecolor": "white",
           "ticks": "",
           "title": {
            "standoff": 15
           },
           "zerolinecolor": "white",
           "zerolinewidth": 2
          }
         }
        },
        "width": 600,
        "xaxis": {
         "mirror": "allticks",
         "rangemode": "tozero",
         "showgrid": false,
         "showline": true,
         "showticklabels": true,
         "ticks": "outside",
         "type": "linear",
         "zeroline": false
        },
        "yaxis": {
         "mirror": "allticks",
         "rangemode": "tozero",
         "showgrid": false,
         "showline": true,
         "showticklabels": true,
         "tickmode": "array",
         "ticks": "outside",
         "ticktext": [
          "harmonica",
          "accordion",
          "bagpipe",
          "bassoon",
          "clarinet",
          "flute",
          "saxophone",
          "trombone",
          "trumpet",
          "guitar",
          "banjo",
          "bass guitar",
          "harp",
          "violin",
          "cello",
          "double bass",
          "piano",
          "harpsichord",
          "organ",
          "cymbals",
          "triangle",
          "drum",
          "tambourine",
          "pan flute",
          "recorder",
          "drum set",
          "synthesizer",
          "boots",
          "shoes",
          "belt",
          "tie",
          "bathing suit",
          "coat",
          "socks",
          "suit",
          "t-shirt",
          "pants",
          "pullover",
          "jeans",
          "tracksuit",
          "dungarees",
          "sweater",
          "pyjamas",
          "blouse",
          "shirt",
          "shorts",
          "top",
          "dress",
          "skirt",
          "bra",
          "panties",
          "hat",
          "cap",
          "mittens",
          "beanie",
          "scarf",
          "knife",
          "lawn mower",
          "drill",
          "grinding disc",
          "wheelbarrow",
          "plough",
          "anvil",
          "rope",
          "paint brush",
          "crowbar (breekijzer)",
          "crowbar (koevoet)",
          "saw",
          "axe",
          "pickaxe",
          "shovel",
          "hammer",
          "nail",
          "file",
          "clamp",
          "level",
          "chisel",
          "tongs",
          "screwdriver",
          "screw wrench (engelse sleutel)",
          "wrench",
          "filling knife",
          "plane",
          "oil can",
          "wire brush",
          "vacuum cleaner",
          "fridge",
          "apron",
          "towel",
          "scissors",
          "mixer",
          "oven",
          "stove",
          "toaster",
          "microwave oven",
          "electric kettle",
          "percolator",
          "scales",
          "can opener",
          "teaspoon",
          "fork",
          "spoon",
          "grater",
          "spatula",
          "nutcracker",
          "bottle",
          "glass",
          "bowl",
          "plate",
          "whisk",
          "wok",
          "colander",
          "sieve",
          "kettle",
          "pan",
          "pot",
          "mug",
          "place mat",
          "dagger",
          "sword",
          "knuckle dusters",
          "shield",
          "stick",
          "club",
          "whip",
          "spear",
          "bow",
          "slingshot",
          "tank",
          "grenade",
          "canon",
          "pistol",
          "rifle",
          "double-barreled shotgun",
          "bazooka",
          "machine gun",
          "rocket",
          "bicycle",
          "(hot air) balloon",
          "zeppelin",
          "boat",
          "tractor",
          "car",
          "motorbike (moto)",
          "scooter (bromfiets)",
          "scooter (brommer)",
          "jeep",
          "subway train",
          "train",
          "tram",
          "taxi",
          "van",
          "bus",
          "truck (camion)",
          "truck (vrachtwagen)",
          "airplane",
          "submarine",
          "helicopter",
          "hovercraft",
          "trailer",
          "go-cart",
          "kick scooter",
          "skateboard",
          "sled",
          "carriage",
          "cart"
         ],
         "tickvals": [
          -5,
          -15,
          -25,
          -35,
          -45,
          -55,
          -65,
          -75,
          -85,
          -95,
          -105,
          -115,
          -125,
          -135,
          -145,
          -155,
          -165,
          -175,
          -185,
          -195,
          -205,
          -215,
          -225,
          -235,
          -245,
          -255,
          -265,
          -275,
          -285,
          -295,
          -305,
          -315,
          -325,
          -335,
          -345,
          -355,
          -365,
          -375,
          -385,
          -395,
          -405,
          -415,
          -425,
          -435,
          -445,
          -455,
          -465,
          -475,
          -485,
          -495,
          -505,
          -515,
          -525,
          -535,
          -545,
          -555,
          -565,
          -575,
          -585,
          -595,
          -605,
          -615,
          -625,
          -635,
          -645,
          -655,
          -665,
          -675,
          -685,
          -695,
          -705,
          -715,
          -725,
          -735,
          -745,
          -755,
          -765,
          -775,
          -785,
          -795,
          -805,
          -815,
          -825,
          -835,
          -845,
          -855,
          -865,
          -875,
          -885,
          -895,
          -905,
          -915,
          -925,
          -935,
          -945,
          -955,
          -965,
          -975,
          -985,
          -995,
          -1005,
          -1015,
          -1025,
          -1035,
          -1045,
          -1055,
          -1065,
          -1075,
          -1085,
          -1095,
          -1105,
          -1115,
          -1125,
          -1135,
          -1145,
          -1155,
          -1165,
          -1175,
          -1185,
          -1195,
          -1205,
          -1215,
          -1225,
          -1235,
          -1245,
          -1255,
          -1265,
          -1275,
          -1285,
          -1295,
          -1305,
          -1315,
          -1325,
          -1335,
          -1345,
          -1355,
          -1365,
          -1375,
          -1385,
          -1395,
          -1405,
          -1415,
          -1425,
          -1435,
          -1445,
          -1455,
          -1465,
          -1475,
          -1485,
          -1495,
          -1505,
          -1515,
          -1525,
          -1535,
          -1545,
          -1555,
          -1565,
          -1575,
          -1585,
          -1595,
          -1605,
          -1615,
          -1625,
          -1635,
          -1645,
          -1655
         ],
         "type": "linear",
         "zeroline": false
        }
       }
      },
      "text/html": "<div>                            <div id=\"53ca4822-d9ae-4377-967e-e189bc6654bf\" class=\"plotly-graph-div\" style=\"height:1000px; width:600px;\"></div>            <script type=\"text/javascript\">                require([\"plotly\"], function(Plotly) {                    window.PLOTLYENV=window.PLOTLYENV || {};                                    if (document.getElementById(\"53ca4822-d9ae-4377-967e-e189bc6654bf\")) {                    Plotly.newPlot(                        \"53ca4822-d9ae-4377-967e-e189bc6654bf\",                        [{\"hoverinfo\": \"text\", \"marker\": {\"color\": \"rgb(61,153,112)\"}, \"mode\": \"lines\", \"type\": \"scatter\", \"x\": [0.0, 9.539392014169456, 9.539392014169456, 0.0], \"xaxis\": \"x\", \"y\": [-15.0, -15.0, -25.0, -25.0], \"yaxis\": \"y\"}, {\"hoverinfo\": \"text\", \"marker\": {\"color\": \"rgb(61,153,112)\"}, \"mode\": \"lines\", \"type\": \"scatter\", \"x\": [0.0, 4.358898943540674, 4.358898943540674, 0.0], \"xaxis\": \"x\", \"y\": [-35.0, -35.0, -45.0, -45.0], \"yaxis\": \"y\"}, {\"hoverinfo\": \"text\", \"marker\": {\"color\": \"rgb(61,153,112)\"}, \"mode\": \"lines\", \"type\": \"scatter\", \"x\": [0.0, 3.4641016151377544, 3.4641016151377544, 0.0], \"xaxis\": \"x\", \"y\": [-75.0, -75.0, -85.0, -85.0], \"yaxis\": \"y\"}, {\"hoverinfo\": \"text\", \"marker\": {\"color\": \"rgb(61,153,112)\"}, \"mode\": \"lines\", \"type\": \"scatter\", \"x\": [0.0, 5.830951894845301, 5.830951894845301, 3.4641016151377544], \"xaxis\": \"x\", \"y\": [-65.0, -65.0, -80.0, -80.0], \"yaxis\": \"y\"}, {\"hoverinfo\": \"text\", \"marker\": {\"color\": \"rgb(61,153,112)\"}, \"mode\": \"lines\", \"type\": \"scatter\", \"x\": [0.0, 8.660254037844387, 8.660254037844387, 5.830951894845301], \"xaxis\": \"x\", \"y\": [-55.0, -55.0, -72.5, -72.5], \"yaxis\": \"y\"}, {\"hoverinfo\": \"text\", \"marker\": {\"color\": \"rgb(61,153,112)\"}, \"mode\": \"lines\", \"type\": \"scatter\", \"x\": [4.358898943540674, 9.055385138137417, 9.055385138137417, 8.660254037844387], \"xaxis\": \"x\", \"y\": [-40.0, -40.0, -63.75, -63.75], \"yaxis\": \"y\"}, {\"hoverinfo\": \"text\", \"marker\": {\"color\": \"rgb(61,153,112)\"}, \"mode\": \"lines\", \"type\": \"scatter\", \"x\": [0.0, 8.0, 8.0, 0.0], \"xaxis\": \"x\", \"y\": [-105.0, -105.0, -115.0, -115.0], \"yaxis\": \"y\"}, {\"hoverinfo\": \"text\", \"marker\": {\"color\": \"rgb(61,153,112)\"}, \"mode\": \"lines\", \"type\": \"scatter\", \"x\": [0.0, 8.602325267042627, 8.602325267042627, 8.0], \"xaxis\": \"x\", \"y\": [-95.0, -95.0, -110.0, -110.0], \"yaxis\": \"y\"}, {\"hoverinfo\": \"text\", \"marker\": {\"color\": \"rgb(61,153,112)\"}, \"mode\": \"lines\", \"type\": \"scatter\", \"x\": [0.0, 5.5677643628300215, 5.5677643628300215, 0.0], \"xaxis\": \"x\", \"y\": [-145.0, -145.0, -155.0, -155.0], \"yaxis\": \"y\"}, {\"hoverinfo\": \"text\", \"marker\": {\"color\": \"rgb(61,153,112)\"}, \"mode\": \"lines\", \"type\": \"scatter\", \"x\": [0.0, 7.745966692414834, 7.745966692414834, 5.5677643628300215], \"xaxis\": \"x\", \"y\": [-135.0, -135.0, -150.0, -150.0], \"yaxis\": \"y\"}, {\"hoverinfo\": \"text\", \"marker\": {\"color\": \"rgb(61,153,112)\"}, \"mode\": \"lines\", \"type\": \"scatter\", \"x\": [0.0, 8.660254037844387, 8.660254037844387, 7.745966692414834], \"xaxis\": \"x\", \"y\": [-125.0, -125.0, -142.5, -142.5], \"yaxis\": \"y\"}, {\"hoverinfo\": \"text\", \"marker\": {\"color\": \"rgb(61,153,112)\"}, \"mode\": \"lines\", \"type\": \"scatter\", \"x\": [8.602325267042627, 8.717797887081348, 8.717797887081348, 8.660254037844387], \"xaxis\": \"x\", \"y\": [-102.5, -102.5, -133.75, -133.75], \"yaxis\": \"y\"}, {\"hoverinfo\": \"text\", \"marker\": {\"color\": \"rgb(61,153,112)\"}, \"mode\": \"lines\", \"type\": \"scatter\", \"x\": [0.0, 8.94427190999916, 8.94427190999916, 0.0], \"xaxis\": \"x\", \"y\": [-175.0, -175.0, -185.0, -185.0], \"yaxis\": \"y\"}, {\"hoverinfo\": \"text\", \"marker\": {\"color\": \"rgb(61,153,112)\"}, \"mode\": \"lines\", \"type\": \"scatter\", \"x\": [0.0, 9.0, 9.0, 8.94427190999916], \"xaxis\": \"x\", \"y\": [-165.0, -165.0, -180.0, -180.0], \"yaxis\": \"y\"}, {\"hoverinfo\": \"text\", \"marker\": {\"color\": \"rgb(61,153,112)\"}, \"mode\": \"lines\", \"type\": \"scatter\", \"x\": [8.717797887081348, 9.055385138137417, 9.055385138137417, 9.0], \"xaxis\": \"x\", \"y\": [-118.125, -118.125, -172.5, -172.5], \"yaxis\": \"y\"}, {\"hoverinfo\": \"text\", \"marker\": {\"color\": \"rgb(61,153,112)\"}, \"mode\": \"lines\", \"type\": \"scatter\", \"x\": [9.055385138137417, 9.643650760992955, 9.643650760992955, 9.055385138137417], \"xaxis\": \"x\", \"y\": [-51.875, -51.875, -145.3125, -145.3125], \"yaxis\": \"y\"}, {\"hoverinfo\": \"text\", \"marker\": {\"color\": \"rgb(61,153,112)\"}, \"mode\": \"lines\", \"type\": \"scatter\", \"x\": [9.539392014169456, 9.797958971132712, 9.797958971132712, 9.643650760992955], \"xaxis\": \"x\", \"y\": [-20.0, -20.0, -98.59375, -98.59375], \"yaxis\": \"y\"}, {\"hoverinfo\": \"text\", \"marker\": {\"color\": \"rgb(61,153,112)\"}, \"mode\": \"lines\", \"type\": \"scatter\", \"x\": [0.0, 7.874007874011811, 7.874007874011811, 0.0], \"xaxis\": \"x\", \"y\": [-195.0, -195.0, -205.0, -205.0], \"yaxis\": \"y\"}, {\"hoverinfo\": \"text\", \"marker\": {\"color\": \"rgb(61,153,112)\"}, \"mode\": \"lines\", \"type\": \"scatter\", \"x\": [0.0, 9.0, 9.0, 0.0], \"xaxis\": \"x\", \"y\": [-215.0, -215.0, -225.0, -225.0], \"yaxis\": \"y\"}, {\"hoverinfo\": \"text\", \"marker\": {\"color\": \"rgb(61,153,112)\"}, \"mode\": \"lines\", \"type\": \"scatter\", \"x\": [0.0, 9.899494936611665, 9.899494936611665, 0.0], \"xaxis\": \"x\", \"y\": [-235.0, -235.0, -245.0, -245.0], \"yaxis\": \"y\"}, {\"hoverinfo\": \"text\", \"marker\": {\"color\": \"rgb(61,153,112)\"}, \"mode\": \"lines\", \"type\": \"scatter\", \"x\": [9.0, 10.0, 10.0, 9.899494936611665], \"xaxis\": \"x\", \"y\": [-220.0, -220.0, -240.0, -240.0], \"yaxis\": \"y\"}, {\"hoverinfo\": \"text\", \"marker\": {\"color\": \"rgb(61,153,112)\"}, \"mode\": \"lines\", \"type\": \"scatter\", \"x\": [7.874007874011811, 10.198039027185569, 10.198039027185569, 10.0], \"xaxis\": \"x\", \"y\": [-200.0, -200.0, -230.0, -230.0], \"yaxis\": \"y\"}, {\"hoverinfo\": \"text\", \"marker\": {\"color\": \"rgb(61,153,112)\"}, \"mode\": \"lines\", \"type\": \"scatter\", \"x\": [9.797958971132712, 10.488088481701515, 10.488088481701515, 10.198039027185569], \"xaxis\": \"x\", \"y\": [-59.296875, -59.296875, -215.0, -215.0], \"yaxis\": \"y\"}, {\"hoverinfo\": \"text\", \"marker\": {\"color\": \"rgb(61,153,112)\"}, \"mode\": \"lines\", \"type\": \"scatter\", \"x\": [0.0, 10.583005244258363, 10.583005244258363, 10.488088481701515], \"xaxis\": \"x\", \"y\": [-5.0, -5.0, -137.1484375, -137.1484375], \"yaxis\": \"y\"}, {\"hoverinfo\": \"text\", \"marker\": {\"color\": \"rgb(61,153,112)\"}, \"mode\": \"lines\", \"type\": \"scatter\", \"x\": [0.0, 10.954451150103322, 10.954451150103322, 0.0], \"xaxis\": \"x\", \"y\": [-255.0, -255.0, -265.0, -265.0], \"yaxis\": \"y\"}, {\"hoverinfo\": \"text\", \"marker\": {\"color\": \"rgb(61,153,112)\"}, \"mode\": \"lines\", \"type\": \"scatter\", \"x\": [10.583005244258363, 11.224972160321824, 11.224972160321824, 10.954451150103322], \"xaxis\": \"x\", \"y\": [-71.07421875, -71.07421875, -260.0, -260.0], \"yaxis\": \"y\"}, {\"hoverinfo\": \"text\", \"marker\": {\"color\": \"rgb(255,65,54)\"}, \"mode\": \"lines\", \"type\": \"scatter\", \"x\": [0.0, 11.180339887498949, 11.180339887498949, 0.0], \"xaxis\": \"x\", \"y\": [-275.0, -275.0, -285.0, -285.0], \"yaxis\": \"y\"}, {\"hoverinfo\": \"text\", \"marker\": {\"color\": \"rgb(255,65,54)\"}, \"mode\": \"lines\", \"type\": \"scatter\", \"x\": [0.0, 7.416198487095663, 7.416198487095663, 0.0], \"xaxis\": \"x\", \"y\": [-365.0, -365.0, -375.0, -375.0], \"yaxis\": \"y\"}, {\"hoverinfo\": \"text\", \"marker\": {\"color\": \"rgb(255,65,54)\"}, \"mode\": \"lines\", \"type\": \"scatter\", \"x\": [0.0, 8.246211251235321, 8.246211251235321, 7.416198487095663], \"xaxis\": \"x\", \"y\": [-355.0, -355.0, -370.0, -370.0], \"yaxis\": \"y\"}, {\"hoverinfo\": \"text\", \"marker\": {\"color\": \"rgb(255,65,54)\"}, \"mode\": \"lines\", \"type\": \"scatter\", \"x\": [0.0, 6.708203932499369, 6.708203932499369, 0.0], \"xaxis\": \"x\", \"y\": [-435.0, -435.0, -445.0, -445.0], \"yaxis\": \"y\"}, {\"hoverinfo\": \"text\", \"marker\": {\"color\": \"rgb(255,65,54)\"}, \"mode\": \"lines\", \"type\": \"scatter\", \"x\": [0.0, 6.708203932499369, 6.708203932499369, 0.0], \"xaxis\": \"x\", \"y\": [-455.0, -455.0, -465.0, -465.0], \"yaxis\": \"y\"}, {\"hoverinfo\": \"text\", \"marker\": {\"color\": \"rgb(255,65,54)\"}, \"mode\": \"lines\", \"type\": \"scatter\", \"x\": [0.0, 7.0, 7.0, 0.0], \"xaxis\": \"x\", \"y\": [-475.0, -475.0, -485.0, -485.0], \"yaxis\": \"y\"}, {\"hoverinfo\": \"text\", \"marker\": {\"color\": \"rgb(255,65,54)\"}, \"mode\": \"lines\", \"type\": \"scatter\", \"x\": [6.708203932499369, 7.14142842854285, 7.14142842854285, 7.0], \"xaxis\": \"x\", \"y\": [-460.0, -460.0, -480.0, -480.0], \"yaxis\": \"y\"}, {\"hoverinfo\": \"text\", \"marker\": {\"color\": \"rgb(255,65,54)\"}, \"mode\": \"lines\", \"type\": \"scatter\", \"x\": [6.708203932499369, 7.483314773547883, 7.483314773547883, 7.14142842854285], \"xaxis\": \"x\", \"y\": [-440.0, -440.0, -470.0, -470.0], \"yaxis\": \"y\"}, {\"hoverinfo\": \"text\", \"marker\": {\"color\": \"rgb(255,65,54)\"}, \"mode\": \"lines\", \"type\": \"scatter\", \"x\": [0.0, 7.483314773547883, 7.483314773547883, 7.483314773547883], \"xaxis\": \"x\", \"y\": [-425.0, -425.0, -455.0, -455.0], \"yaxis\": \"y\"}, {\"hoverinfo\": \"text\", \"marker\": {\"color\": \"rgb(255,65,54)\"}, \"mode\": \"lines\", \"type\": \"scatter\", \"x\": [0.0, 7.874007874011811, 7.874007874011811, 7.483314773547883], \"xaxis\": \"x\", \"y\": [-415.0, -415.0, -440.0, -440.0], \"yaxis\": \"y\"}, {\"hoverinfo\": \"text\", \"marker\": {\"color\": \"rgb(255,65,54)\"}, \"mode\": \"lines\", \"type\": \"scatter\", \"x\": [0.0, 8.0, 8.0, 7.874007874011811], \"xaxis\": \"x\", \"y\": [-405.0, -405.0, -427.5, -427.5], \"yaxis\": \"y\"}, {\"hoverinfo\": \"text\", \"marker\": {\"color\": \"rgb(255,65,54)\"}, \"mode\": \"lines\", \"type\": \"scatter\", \"x\": [0.0, 8.426149773176359, 8.426149773176359, 8.0], \"xaxis\": \"x\", \"y\": [-395.0, -395.0, -416.25, -416.25], \"yaxis\": \"y\"}, {\"hoverinfo\": \"text\", \"marker\": {\"color\": \"rgb(255,65,54)\"}, \"mode\": \"lines\", \"type\": \"scatter\", \"x\": [0.0, 8.48528137423857, 8.48528137423857, 8.426149773176359], \"xaxis\": \"x\", \"y\": [-385.0, -385.0, -405.625, -405.625], \"yaxis\": \"y\"}, {\"hoverinfo\": \"text\", \"marker\": {\"color\": \"rgb(255,65,54)\"}, \"mode\": \"lines\", \"type\": \"scatter\", \"x\": [8.246211251235321, 8.54400374531753, 8.54400374531753, 8.48528137423857], \"xaxis\": \"x\", \"y\": [-362.5, -362.5, -395.3125, -395.3125], \"yaxis\": \"y\"}, {\"hoverinfo\": \"text\", \"marker\": {\"color\": \"rgb(255,65,54)\"}, \"mode\": \"lines\", \"type\": \"scatter\", \"x\": [0.0, 8.717797887081348, 8.717797887081348, 8.54400374531753], \"xaxis\": \"x\", \"y\": [-345.0, -345.0, -378.90625, -378.90625], \"yaxis\": \"y\"}, {\"hoverinfo\": \"text\", \"marker\": {\"color\": \"rgb(255,65,54)\"}, \"mode\": \"lines\", \"type\": \"scatter\", \"x\": [0.0, 8.888194417315589, 8.888194417315589, 8.717797887081348], \"xaxis\": \"x\", \"y\": [-335.0, -335.0, -361.953125, -361.953125], \"yaxis\": \"y\"}, {\"hoverinfo\": \"text\", \"marker\": {\"color\": \"rgb(255,65,54)\"}, \"mode\": \"lines\", \"type\": \"scatter\", \"x\": [0.0, 9.1104335791443, 9.1104335791443, 8.888194417315589], \"xaxis\": \"x\", \"y\": [-325.0, -325.0, -348.4765625, -348.4765625], \"yaxis\": \"y\"}, {\"hoverinfo\": \"text\", \"marker\": {\"color\": \"rgb(255,65,54)\"}, \"mode\": \"lines\", \"type\": \"scatter\", \"x\": [0.0, 9.16515138991168, 9.16515138991168, 9.1104335791443], \"xaxis\": \"x\", \"y\": [-315.0, -315.0, -336.73828125, -336.73828125], \"yaxis\": \"y\"}, {\"hoverinfo\": \"text\", \"marker\": {\"color\": \"rgb(255,65,54)\"}, \"mode\": \"lines\", \"type\": \"scatter\", \"x\": [0.0, 9.695359714832659, 9.695359714832659, 0.0], \"xaxis\": \"x\", \"y\": [-495.0, -495.0, -505.0, -505.0], \"yaxis\": \"y\"}, {\"hoverinfo\": \"text\", \"marker\": {\"color\": \"rgb(255,65,54)\"}, \"mode\": \"lines\", \"type\": \"scatter\", \"x\": [9.16515138991168, 9.797958971132712, 9.797958971132712, 9.695359714832659], \"xaxis\": \"x\", \"y\": [-325.869140625, -325.869140625, -500.0, -500.0], \"yaxis\": \"y\"}, {\"hoverinfo\": \"text\", \"marker\": {\"color\": \"rgb(255,65,54)\"}, \"mode\": \"lines\", \"type\": \"scatter\", \"x\": [0.0, 8.0, 8.0, 0.0], \"xaxis\": \"x\", \"y\": [-545.0, -545.0, -555.0, -555.0], \"yaxis\": \"y\"}, {\"hoverinfo\": \"text\", \"marker\": {\"color\": \"rgb(255,65,54)\"}, \"mode\": \"lines\", \"type\": \"scatter\", \"x\": [0.0, 8.246211251235321, 8.246211251235321, 8.0], \"xaxis\": \"x\", \"y\": [-535.0, -535.0, -550.0, -550.0], \"yaxis\": \"y\"}, {\"hoverinfo\": \"text\", \"marker\": {\"color\": \"rgb(255,65,54)\"}, \"mode\": \"lines\", \"type\": \"scatter\", \"x\": [0.0, 9.695359714832659, 9.695359714832659, 8.246211251235321], \"xaxis\": \"x\", \"y\": [-525.0, -525.0, -542.5, -542.5], \"yaxis\": \"y\"}, {\"hoverinfo\": \"text\", \"marker\": {\"color\": \"rgb(255,65,54)\"}, \"mode\": \"lines\", \"type\": \"scatter\", \"x\": [0.0, 9.797958971132712, 9.797958971132712, 9.695359714832659], \"xaxis\": \"x\", \"y\": [-515.0, -515.0, -533.75, -533.75], \"yaxis\": \"y\"}, {\"hoverinfo\": \"text\", \"marker\": {\"color\": \"rgb(255,65,54)\"}, \"mode\": \"lines\", \"type\": \"scatter\", \"x\": [9.797958971132712, 9.9498743710662, 9.9498743710662, 9.797958971132712], \"xaxis\": \"x\", \"y\": [-412.9345703125, -412.9345703125, -524.375, -524.375], \"yaxis\": \"y\"}, {\"hoverinfo\": \"text\", \"marker\": {\"color\": \"rgb(255,65,54)\"}, \"mode\": \"lines\", \"type\": \"scatter\", \"x\": [0.0, 11.313708498984761, 11.313708498984761, 9.9498743710662], \"xaxis\": \"x\", \"y\": [-305.0, -305.0, -468.65478515625, -468.65478515625], \"yaxis\": \"y\"}, {\"hoverinfo\": \"text\", \"marker\": {\"color\": \"rgb(255,65,54)\"}, \"mode\": \"lines\", \"type\": \"scatter\", \"x\": [0.0, 12.449899597988733, 12.449899597988733, 11.313708498984761], \"xaxis\": \"x\", \"y\": [-295.0, -295.0, -386.827392578125, -386.827392578125], \"yaxis\": \"y\"}, {\"hoverinfo\": \"text\", \"marker\": {\"color\": \"rgb(255,65,54)\"}, \"mode\": \"lines\", \"type\": \"scatter\", \"x\": [11.180339887498949, 12.569805089976535, 12.569805089976535, 12.449899597988733], \"xaxis\": \"x\", \"y\": [-280.0, -280.0, -340.9136962890625, -340.9136962890625], \"yaxis\": \"y\"}, {\"hoverinfo\": \"text\", \"marker\": {\"color\": \"rgb(35,205,205)\"}, \"mode\": \"lines\", \"type\": \"scatter\", \"x\": [0.0, 10.535653752852738, 10.535653752852738, 0.0], \"xaxis\": \"x\", \"y\": [-585.0, -585.0, -595.0, -595.0], \"yaxis\": \"y\"}, {\"hoverinfo\": \"text\", \"marker\": {\"color\": \"rgb(35,205,205)\"}, \"mode\": \"lines\", \"type\": \"scatter\", \"x\": [0.0, 6.4031242374328485, 6.4031242374328485, 0.0], \"xaxis\": \"x\", \"y\": [-655.0, -655.0, -665.0, -665.0], \"yaxis\": \"y\"}, {\"hoverinfo\": \"text\", \"marker\": {\"color\": \"rgb(35,205,205)\"}, \"mode\": \"lines\", \"type\": \"scatter\", \"x\": [0.0, 8.306623862918075, 8.306623862918075, 0.0], \"xaxis\": \"x\", \"y\": [-695.0, -695.0, -705.0, -705.0], \"yaxis\": \"y\"}, {\"hoverinfo\": \"text\", \"marker\": {\"color\": \"rgb(35,205,205)\"}, \"mode\": \"lines\", \"type\": \"scatter\", \"x\": [0.0, 9.273618495495704, 9.273618495495704, 8.306623862918075], \"xaxis\": \"x\", \"y\": [-685.0, -685.0, -700.0, -700.0], \"yaxis\": \"y\"}, {\"hoverinfo\": \"text\", \"marker\": {\"color\": \"rgb(35,205,205)\"}, \"mode\": \"lines\", \"type\": \"scatter\", \"x\": [0.0, 9.797958971132712, 9.797958971132712, 9.273618495495704], \"xaxis\": \"x\", \"y\": [-675.0, -675.0, -692.5, -692.5], \"yaxis\": \"y\"}, {\"hoverinfo\": \"text\", \"marker\": {\"color\": \"rgb(35,205,205)\"}, \"mode\": \"lines\", \"type\": \"scatter\", \"x\": [6.4031242374328485, 10.488088481701515, 10.488088481701515, 9.797958971132712], \"xaxis\": \"x\", \"y\": [-660.0, -660.0, -683.75, -683.75], \"yaxis\": \"y\"}, {\"hoverinfo\": \"text\", \"marker\": {\"color\": \"rgb(35,205,205)\"}, \"mode\": \"lines\", \"type\": \"scatter\", \"x\": [0.0, 9.0, 9.0, 0.0], \"xaxis\": \"x\", \"y\": [-745.0, -745.0, -755.0, -755.0], \"yaxis\": \"y\"}, {\"hoverinfo\": \"text\", \"marker\": {\"color\": \"rgb(35,205,205)\"}, \"mode\": \"lines\", \"type\": \"scatter\", \"x\": [0.0, 5.477225575051661, 5.477225575051661, 0.0], \"xaxis\": \"x\", \"y\": [-795.0, -795.0, -805.0, -805.0], \"yaxis\": \"y\"}, {\"hoverinfo\": \"text\", \"marker\": {\"color\": \"rgb(35,205,205)\"}, \"mode\": \"lines\", \"type\": \"scatter\", \"x\": [0.0, 7.14142842854285, 7.14142842854285, 5.477225575051661], \"xaxis\": \"x\", \"y\": [-785.0, -785.0, -800.0, -800.0], \"yaxis\": \"y\"}, {\"hoverinfo\": \"text\", \"marker\": {\"color\": \"rgb(35,205,205)\"}, \"mode\": \"lines\", \"type\": \"scatter\", \"x\": [0.0, 7.416198487095663, 7.416198487095663, 7.14142842854285], \"xaxis\": \"x\", \"y\": [-775.0, -775.0, -792.5, -792.5], \"yaxis\": \"y\"}, {\"hoverinfo\": \"text\", \"marker\": {\"color\": \"rgb(35,205,205)\"}, \"mode\": \"lines\", \"type\": \"scatter\", \"x\": [0.0, 8.0, 8.0, 7.416198487095663], \"xaxis\": \"x\", \"y\": [-765.0, -765.0, -783.75, -783.75], \"yaxis\": \"y\"}, {\"hoverinfo\": \"text\", \"marker\": {\"color\": \"rgb(35,205,205)\"}, \"mode\": \"lines\", \"type\": \"scatter\", \"x\": [0.0, 8.246211251235321, 8.246211251235321, 0.0], \"xaxis\": \"x\", \"y\": [-815.0, -815.0, -825.0, -825.0], \"yaxis\": \"y\"}, {\"hoverinfo\": \"text\", \"marker\": {\"color\": \"rgb(35,205,205)\"}, \"mode\": \"lines\", \"type\": \"scatter\", \"x\": [8.0, 8.54400374531753, 8.54400374531753, 8.246211251235321], \"xaxis\": \"x\", \"y\": [-774.375, -774.375, -820.0, -820.0], \"yaxis\": \"y\"}, {\"hoverinfo\": \"text\", \"marker\": {\"color\": \"rgb(35,205,205)\"}, \"mode\": \"lines\", \"type\": \"scatter\", \"x\": [0.0, 8.774964387392123, 8.774964387392123, 0.0], \"xaxis\": \"x\", \"y\": [-835.0, -835.0, -845.0, -845.0], \"yaxis\": \"y\"}, {\"hoverinfo\": \"text\", \"marker\": {\"color\": \"rgb(35,205,205)\"}, \"mode\": \"lines\", \"type\": \"scatter\", \"x\": [8.54400374531753, 9.055385138137417, 9.055385138137417, 8.774964387392123], \"xaxis\": \"x\", \"y\": [-797.1875, -797.1875, -840.0, -840.0], \"yaxis\": \"y\"}, {\"hoverinfo\": \"text\", \"marker\": {\"color\": \"rgb(35,205,205)\"}, \"mode\": \"lines\", \"type\": \"scatter\", \"x\": [9.0, 9.16515138991168, 9.16515138991168, 9.055385138137417], \"xaxis\": \"x\", \"y\": [-750.0, -750.0, -818.59375, -818.59375], \"yaxis\": \"y\"}, {\"hoverinfo\": \"text\", \"marker\": {\"color\": \"rgb(35,205,205)\"}, \"mode\": \"lines\", \"type\": \"scatter\", \"x\": [0.0, 9.273618495495704, 9.273618495495704, 9.16515138991168], \"xaxis\": \"x\", \"y\": [-735.0, -735.0, -784.296875, -784.296875], \"yaxis\": \"y\"}, {\"hoverinfo\": \"text\", \"marker\": {\"color\": \"rgb(35,205,205)\"}, \"mode\": \"lines\", \"type\": \"scatter\", \"x\": [0.0, 9.38083151964686, 9.38083151964686, 9.273618495495704], \"xaxis\": \"x\", \"y\": [-725.0, -725.0, -759.6484375, -759.6484375], \"yaxis\": \"y\"}, {\"hoverinfo\": \"text\", \"marker\": {\"color\": \"rgb(35,205,205)\"}, \"mode\": \"lines\", \"type\": \"scatter\", \"x\": [0.0, 10.535653752852738, 10.535653752852738, 9.38083151964686], \"xaxis\": \"x\", \"y\": [-715.0, -715.0, -742.32421875, -742.32421875], \"yaxis\": \"y\"}, {\"hoverinfo\": \"text\", \"marker\": {\"color\": \"rgb(35,205,205)\"}, \"mode\": \"lines\", \"type\": \"scatter\", \"x\": [10.488088481701515, 10.723805294763608, 10.723805294763608, 10.535653752852738], \"xaxis\": \"x\", \"y\": [-671.875, -671.875, -728.662109375, -728.662109375], \"yaxis\": \"y\"}, {\"hoverinfo\": \"text\", \"marker\": {\"color\": \"rgb(35,205,205)\"}, \"mode\": \"lines\", \"type\": \"scatter\", \"x\": [0.0, 10.908712114635714, 10.908712114635714, 10.723805294763608], \"xaxis\": \"x\", \"y\": [-645.0, -645.0, -700.2685546875, -700.2685546875], \"yaxis\": \"y\"}, {\"hoverinfo\": \"text\", \"marker\": {\"color\": \"rgb(35,205,205)\"}, \"mode\": \"lines\", \"type\": \"scatter\", \"x\": [0.0, 10.908712114635714, 10.908712114635714, 10.908712114635714], \"xaxis\": \"x\", \"y\": [-635.0, -635.0, -672.63427734375, -672.63427734375], \"yaxis\": \"y\"}, {\"hoverinfo\": \"text\", \"marker\": {\"color\": \"rgb(35,205,205)\"}, \"mode\": \"lines\", \"type\": \"scatter\", \"x\": [0.0, 11.575836902790225, 11.575836902790225, 10.908712114635714], \"xaxis\": \"x\", \"y\": [-625.0, -625.0, -653.817138671875, -653.817138671875], \"yaxis\": \"y\"}, {\"hoverinfo\": \"text\", \"marker\": {\"color\": \"rgb(35,205,205)\"}, \"mode\": \"lines\", \"type\": \"scatter\", \"x\": [0.0, 12.041594578792296, 12.041594578792296, 11.575836902790225], \"xaxis\": \"x\", \"y\": [-615.0, -615.0, -639.4085693359375, -639.4085693359375], \"yaxis\": \"y\"}, {\"hoverinfo\": \"text\", \"marker\": {\"color\": \"rgb(35,205,205)\"}, \"mode\": \"lines\", \"type\": \"scatter\", \"x\": [0.0, 12.328828005937952, 12.328828005937952, 12.041594578792296], \"xaxis\": \"x\", \"y\": [-605.0, -605.0, -627.2042846679688, -627.2042846679688], \"yaxis\": \"y\"}, {\"hoverinfo\": \"text\", \"marker\": {\"color\": \"rgb(35,205,205)\"}, \"mode\": \"lines\", \"type\": \"scatter\", \"x\": [10.535653752852738, 12.84523257866513, 12.84523257866513, 12.328828005937952], \"xaxis\": \"x\", \"y\": [-590.0, -590.0, -616.1021423339844, -616.1021423339844], \"yaxis\": \"y\"}, {\"hoverinfo\": \"text\", \"marker\": {\"color\": \"rgb(133,20,75)\"}, \"mode\": \"lines\", \"type\": \"scatter\", \"x\": [0.0, 11.0, 11.0, 0.0], \"xaxis\": \"x\", \"y\": [-875.0, -875.0, -885.0, -885.0], \"yaxis\": \"y\"}, {\"hoverinfo\": \"text\", \"marker\": {\"color\": \"rgb(133,20,75)\"}, \"mode\": \"lines\", \"type\": \"scatter\", \"x\": [0.0, 8.18535277187245, 8.18535277187245, 0.0], \"xaxis\": \"x\", \"y\": [-915.0, -915.0, -925.0, -925.0], \"yaxis\": \"y\"}, {\"hoverinfo\": \"text\", \"marker\": {\"color\": \"rgb(133,20,75)\"}, \"mode\": \"lines\", \"type\": \"scatter\", \"x\": [0.0, 8.426149773176359, 8.426149773176359, 0.0], \"xaxis\": \"x\", \"y\": [-955.0, -955.0, -965.0, -965.0], \"yaxis\": \"y\"}, {\"hoverinfo\": \"text\", \"marker\": {\"color\": \"rgb(133,20,75)\"}, \"mode\": \"lines\", \"type\": \"scatter\", \"x\": [0.0, 9.219544457292887, 9.219544457292887, 8.426149773176359], \"xaxis\": \"x\", \"y\": [-945.0, -945.0, -960.0, -960.0], \"yaxis\": \"y\"}, {\"hoverinfo\": \"text\", \"marker\": {\"color\": \"rgb(133,20,75)\"}, \"mode\": \"lines\", \"type\": \"scatter\", \"x\": [0.0, 9.327379053088816, 9.327379053088816, 9.219544457292887], \"xaxis\": \"x\", \"y\": [-935.0, -935.0, -952.5, -952.5], \"yaxis\": \"y\"}, {\"hoverinfo\": \"text\", \"marker\": {\"color\": \"rgb(133,20,75)\"}, \"mode\": \"lines\", \"type\": \"scatter\", \"x\": [8.18535277187245, 10.535653752852738, 10.535653752852738, 9.327379053088816], \"xaxis\": \"x\", \"y\": [-920.0, -920.0, -943.75, -943.75], \"yaxis\": \"y\"}, {\"hoverinfo\": \"text\", \"marker\": {\"color\": \"rgb(133,20,75)\"}, \"mode\": \"lines\", \"type\": \"scatter\", \"x\": [0.0, 11.40175425099138, 11.40175425099138, 10.535653752852738], \"xaxis\": \"x\", \"y\": [-905.0, -905.0, -931.875, -931.875], \"yaxis\": \"y\"}, {\"hoverinfo\": \"text\", \"marker\": {\"color\": \"rgb(133,20,75)\"}, \"mode\": \"lines\", \"type\": \"scatter\", \"x\": [0.0, 7.280109889280518, 7.280109889280518, 0.0], \"xaxis\": \"x\", \"y\": [-1005.0, -1005.0, -1015.0, -1015.0], \"yaxis\": \"y\"}, {\"hoverinfo\": \"text\", \"marker\": {\"color\": \"rgb(133,20,75)\"}, \"mode\": \"lines\", \"type\": \"scatter\", \"x\": [0.0, 8.660254037844387, 8.660254037844387, 7.280109889280518], \"xaxis\": \"x\", \"y\": [-995.0, -995.0, -1010.0, -1010.0], \"yaxis\": \"y\"}, {\"hoverinfo\": \"text\", \"marker\": {\"color\": \"rgb(133,20,75)\"}, \"mode\": \"lines\", \"type\": \"scatter\", \"x\": [0.0, 6.708203932499369, 6.708203932499369, 0.0], \"xaxis\": \"x\", \"y\": [-1075.0, -1075.0, -1085.0, -1085.0], \"yaxis\": \"y\"}, {\"hoverinfo\": \"text\", \"marker\": {\"color\": \"rgb(133,20,75)\"}, \"mode\": \"lines\", \"type\": \"scatter\", \"x\": [0.0, 8.12403840463596, 8.12403840463596, 0.0], \"xaxis\": \"x\", \"y\": [-1115.0, -1115.0, -1125.0, -1125.0], \"yaxis\": \"y\"}, {\"hoverinfo\": \"text\", \"marker\": {\"color\": \"rgb(133,20,75)\"}, \"mode\": \"lines\", \"type\": \"scatter\", \"x\": [0.0, 8.774964387392123, 8.774964387392123, 8.12403840463596], \"xaxis\": \"x\", \"y\": [-1105.0, -1105.0, -1120.0, -1120.0], \"yaxis\": \"y\"}, {\"hoverinfo\": \"text\", \"marker\": {\"color\": \"rgb(133,20,75)\"}, \"mode\": \"lines\", \"type\": \"scatter\", \"x\": [0.0, 5.656854249492381, 5.656854249492381, 0.0], \"xaxis\": \"x\", \"y\": [-1145.0, -1145.0, -1155.0, -1155.0], \"yaxis\": \"y\"}, {\"hoverinfo\": \"text\", \"marker\": {\"color\": \"rgb(133,20,75)\"}, \"mode\": \"lines\", \"type\": \"scatter\", \"x\": [0.0, 8.774964387392123, 8.774964387392123, 5.656854249492381], \"xaxis\": \"x\", \"y\": [-1135.0, -1135.0, -1150.0, -1150.0], \"yaxis\": \"y\"}, {\"hoverinfo\": \"text\", \"marker\": {\"color\": \"rgb(133,20,75)\"}, \"mode\": \"lines\", \"type\": \"scatter\", \"x\": [8.774964387392123, 8.831760866327848, 8.831760866327848, 8.774964387392123], \"xaxis\": \"x\", \"y\": [-1112.5, -1112.5, -1142.5, -1142.5], \"yaxis\": \"y\"}, {\"hoverinfo\": \"text\", \"marker\": {\"color\": \"rgb(133,20,75)\"}, \"mode\": \"lines\", \"type\": \"scatter\", \"x\": [0.0, 8.94427190999916, 8.94427190999916, 8.831760866327848], \"xaxis\": \"x\", \"y\": [-1095.0, -1095.0, -1127.5, -1127.5], \"yaxis\": \"y\"}, {\"hoverinfo\": \"text\", \"marker\": {\"color\": \"rgb(133,20,75)\"}, \"mode\": \"lines\", \"type\": \"scatter\", \"x\": [6.708203932499369, 9.746794344808963, 9.746794344808963, 8.94427190999916], \"xaxis\": \"x\", \"y\": [-1080.0, -1080.0, -1111.25, -1111.25], \"yaxis\": \"y\"}, {\"hoverinfo\": \"text\", \"marker\": {\"color\": \"rgb(133,20,75)\"}, \"mode\": \"lines\", \"type\": \"scatter\", \"x\": [0.0, 9.746794344808963, 9.746794344808963, 9.746794344808963], \"xaxis\": \"x\", \"y\": [-1065.0, -1065.0, -1095.625, -1095.625], \"yaxis\": \"y\"}, {\"hoverinfo\": \"text\", \"marker\": {\"color\": \"rgb(133,20,75)\"}, \"mode\": \"lines\", \"type\": \"scatter\", \"x\": [0.0, 9.848857801796104, 9.848857801796104, 9.746794344808963], \"xaxis\": \"x\", \"y\": [-1055.0, -1055.0, -1080.3125, -1080.3125], \"yaxis\": \"y\"}, {\"hoverinfo\": \"text\", \"marker\": {\"color\": \"rgb(133,20,75)\"}, \"mode\": \"lines\", \"type\": \"scatter\", \"x\": [0.0, 10.04987562112089, 10.04987562112089, 9.848857801796104], \"xaxis\": \"x\", \"y\": [-1045.0, -1045.0, -1067.65625, -1067.65625], \"yaxis\": \"y\"}, {\"hoverinfo\": \"text\", \"marker\": {\"color\": \"rgb(133,20,75)\"}, \"mode\": \"lines\", \"type\": \"scatter\", \"x\": [0.0, 10.44030650891055, 10.44030650891055, 10.04987562112089], \"xaxis\": \"x\", \"y\": [-1035.0, -1035.0, -1056.328125, -1056.328125], \"yaxis\": \"y\"}, {\"hoverinfo\": \"text\", \"marker\": {\"color\": \"rgb(133,20,75)\"}, \"mode\": \"lines\", \"type\": \"scatter\", \"x\": [0.0, 10.535653752852738, 10.535653752852738, 10.44030650891055], \"xaxis\": \"x\", \"y\": [-1025.0, -1025.0, -1045.6640625, -1045.6640625], \"yaxis\": \"y\"}, {\"hoverinfo\": \"text\", \"marker\": {\"color\": \"rgb(133,20,75)\"}, \"mode\": \"lines\", \"type\": \"scatter\", \"x\": [0.0, 10.583005244258363, 10.583005244258363, 0.0], \"xaxis\": \"x\", \"y\": [-1165.0, -1165.0, -1175.0, -1175.0], \"yaxis\": \"y\"}, {\"hoverinfo\": \"text\", \"marker\": {\"color\": \"rgb(133,20,75)\"}, \"mode\": \"lines\", \"type\": \"scatter\", \"x\": [10.535653752852738, 10.770329614269007, 10.770329614269007, 10.583005244258363], \"xaxis\": \"x\", \"y\": [-1035.33203125, -1035.33203125, -1170.0, -1170.0], \"yaxis\": \"y\"}, {\"hoverinfo\": \"text\", \"marker\": {\"color\": \"rgb(133,20,75)\"}, \"mode\": \"lines\", \"type\": \"scatter\", \"x\": [8.660254037844387, 11.180339887498949, 11.180339887498949, 10.770329614269007], \"xaxis\": \"x\", \"y\": [-1002.5, -1002.5, -1102.666015625, -1102.666015625], \"yaxis\": \"y\"}, {\"hoverinfo\": \"text\", \"marker\": {\"color\": \"rgb(133,20,75)\"}, \"mode\": \"lines\", \"type\": \"scatter\", \"x\": [0.0, 11.445523142259598, 11.445523142259598, 11.180339887498949], \"xaxis\": \"x\", \"y\": [-985.0, -985.0, -1052.5830078125, -1052.5830078125], \"yaxis\": \"y\"}, {\"hoverinfo\": \"text\", \"marker\": {\"color\": \"rgb(133,20,75)\"}, \"mode\": \"lines\", \"type\": \"scatter\", \"x\": [0.0, 11.704699910719626, 11.704699910719626, 11.445523142259598], \"xaxis\": \"x\", \"y\": [-975.0, -975.0, -1018.79150390625, -1018.79150390625], \"yaxis\": \"y\"}, {\"hoverinfo\": \"text\", \"marker\": {\"color\": \"rgb(133,20,75)\"}, \"mode\": \"lines\", \"type\": \"scatter\", \"x\": [11.40175425099138, 11.832159566199232, 11.832159566199232, 11.704699910719626], \"xaxis\": \"x\", \"y\": [-918.4375, -918.4375, -996.895751953125, -996.895751953125], \"yaxis\": \"y\"}, {\"hoverinfo\": \"text\", \"marker\": {\"color\": \"rgb(133,20,75)\"}, \"mode\": \"lines\", \"type\": \"scatter\", \"x\": [0.0, 12.0, 12.0, 11.832159566199232], \"xaxis\": \"x\", \"y\": [-895.0, -895.0, -957.6666259765625, -957.6666259765625], \"yaxis\": \"y\"}, {\"hoverinfo\": \"text\", \"marker\": {\"color\": \"rgb(133,20,75)\"}, \"mode\": \"lines\", \"type\": \"scatter\", \"x\": [11.0, 12.041594578792296, 12.041594578792296, 12.0], \"xaxis\": \"x\", \"y\": [-880.0, -880.0, -926.3333129882812, -926.3333129882812], \"yaxis\": \"y\"}, {\"hoverinfo\": \"text\", \"marker\": {\"color\": \"rgb(133,20,75)\"}, \"mode\": \"lines\", \"type\": \"scatter\", \"x\": [0.0, 12.727922061357855, 12.727922061357855, 12.041594578792296], \"xaxis\": \"x\", \"y\": [-865.0, -865.0, -903.1666564941406, -903.1666564941406], \"yaxis\": \"y\"}, {\"hoverinfo\": \"text\", \"marker\": {\"color\": \"rgb(133,20,75)\"}, \"mode\": \"lines\", \"type\": \"scatter\", \"x\": [0.0, 13.152946437965905, 13.152946437965905, 12.727922061357855], \"xaxis\": \"x\", \"y\": [-855.0, -855.0, -884.0833282470703, -884.0833282470703], \"yaxis\": \"y\"}, {\"hoverinfo\": \"text\", \"marker\": {\"color\": \"rgb(0,116,217)\"}, \"mode\": \"lines\", \"type\": \"scatter\", \"x\": [12.84523257866513, 14.106735979665885, 14.106735979665885, 13.152946437965905], \"xaxis\": \"x\", \"y\": [-603.0510711669922, -603.0510711669922, -869.5416641235352, -869.5416641235352], \"yaxis\": \"y\"}, {\"hoverinfo\": \"text\", \"marker\": {\"color\": \"rgb(0,116,217)\"}, \"mode\": \"lines\", \"type\": \"scatter\", \"x\": [0.0, 14.247806848775006, 14.247806848775006, 14.106735979665885], \"xaxis\": \"x\", \"y\": [-575.0, -575.0, -736.2963676452637, -736.2963676452637], \"yaxis\": \"y\"}, {\"hoverinfo\": \"text\", \"marker\": {\"color\": \"rgb(0,116,217)\"}, \"mode\": \"lines\", \"type\": \"scatter\", \"x\": [0.0, 14.491376746189438, 14.491376746189438, 14.247806848775006], \"xaxis\": \"x\", \"y\": [-565.0, -565.0, -655.6481838226318, -655.6481838226318], \"yaxis\": \"y\"}, {\"hoverinfo\": \"text\", \"marker\": {\"color\": \"rgb(255,220,0)\"}, \"mode\": \"lines\", \"type\": \"scatter\", \"x\": [0.0, 10.44030650891055, 10.44030650891055, 0.0], \"xaxis\": \"x\", \"y\": [-1185.0, -1185.0, -1195.0, -1195.0], \"yaxis\": \"y\"}, {\"hoverinfo\": \"text\", \"marker\": {\"color\": \"rgb(40,35,35)\"}, \"mode\": \"lines\", \"type\": \"scatter\", \"x\": [0.0, 9.695359714832659, 9.695359714832659, 0.0], \"xaxis\": \"x\", \"y\": [-1265.0, -1265.0, -1275.0, -1275.0], \"yaxis\": \"y\"}, {\"hoverinfo\": \"text\", \"marker\": {\"color\": \"rgb(40,35,35)\"}, \"mode\": \"lines\", \"type\": \"scatter\", \"x\": [0.0, 10.583005244258363, 10.583005244258363, 9.695359714832659], \"xaxis\": \"x\", \"y\": [-1255.0, -1255.0, -1270.0, -1270.0], \"yaxis\": \"y\"}, {\"hoverinfo\": \"text\", \"marker\": {\"color\": \"rgb(40,35,35)\"}, \"mode\": \"lines\", \"type\": \"scatter\", \"x\": [0.0, 11.0, 11.0, 10.583005244258363], \"xaxis\": \"x\", \"y\": [-1245.0, -1245.0, -1262.5, -1262.5], \"yaxis\": \"y\"}, {\"hoverinfo\": \"text\", \"marker\": {\"color\": \"rgb(40,35,35)\"}, \"mode\": \"lines\", \"type\": \"scatter\", \"x\": [0.0, 11.445523142259598, 11.445523142259598, 11.0], \"xaxis\": \"x\", \"y\": [-1235.0, -1235.0, -1253.75, -1253.75], \"yaxis\": \"y\"}, {\"hoverinfo\": \"text\", \"marker\": {\"color\": \"rgb(40,35,35)\"}, \"mode\": \"lines\", \"type\": \"scatter\", \"x\": [0.0, 12.0, 12.0, 11.445523142259598], \"xaxis\": \"x\", \"y\": [-1225.0, -1225.0, -1244.375, -1244.375], \"yaxis\": \"y\"}, {\"hoverinfo\": \"text\", \"marker\": {\"color\": \"rgb(40,35,35)\"}, \"mode\": \"lines\", \"type\": \"scatter\", \"x\": [0.0, 13.416407864998739, 13.416407864998739, 12.0], \"xaxis\": \"x\", \"y\": [-1215.0, -1215.0, -1234.6875, -1234.6875], \"yaxis\": \"y\"}, {\"hoverinfo\": \"text\", \"marker\": {\"color\": \"rgb(0,116,217)\"}, \"mode\": \"lines\", \"type\": \"scatter\", \"x\": [0.0, 13.92838827718412, 13.92838827718412, 13.416407864998739], \"xaxis\": \"x\", \"y\": [-1205.0, -1205.0, -1224.84375, -1224.84375], \"yaxis\": \"y\"}, {\"hoverinfo\": \"text\", \"marker\": {\"color\": \"rgb(0,116,217)\"}, \"mode\": \"lines\", \"type\": \"scatter\", \"x\": [10.44030650891055, 14.071247279470288, 14.071247279470288, 13.92838827718412], \"xaxis\": \"x\", \"y\": [-1190.0, -1190.0, -1214.921875, -1214.921875], \"yaxis\": \"y\"}, {\"hoverinfo\": \"text\", \"marker\": {\"color\": \"rgb(61,153,112)\"}, \"mode\": \"lines\", \"type\": \"scatter\", \"x\": [0.0, 7.14142842854285, 7.14142842854285, 0.0], \"xaxis\": \"x\", \"y\": [-1315.0, -1315.0, -1325.0, -1325.0], \"yaxis\": \"y\"}, {\"hoverinfo\": \"text\", \"marker\": {\"color\": \"rgb(61,153,112)\"}, \"mode\": \"lines\", \"type\": \"scatter\", \"x\": [0.0, 8.06225774829855, 8.06225774829855, 0.0], \"xaxis\": \"x\", \"y\": [-1345.0, -1345.0, -1355.0, -1355.0], \"yaxis\": \"y\"}, {\"hoverinfo\": \"text\", \"marker\": {\"color\": \"rgb(61,153,112)\"}, \"mode\": \"lines\", \"type\": \"scatter\", \"x\": [0.0, 8.12403840463596, 8.12403840463596, 8.06225774829855], \"xaxis\": \"x\", \"y\": [-1335.0, -1335.0, -1350.0, -1350.0], \"yaxis\": \"y\"}, {\"hoverinfo\": \"text\", \"marker\": {\"color\": \"rgb(61,153,112)\"}, \"mode\": \"lines\", \"type\": \"scatter\", \"x\": [7.14142842854285, 8.660254037844387, 8.660254037844387, 8.12403840463596], \"xaxis\": \"x\", \"y\": [-1320.0, -1320.0, -1342.5, -1342.5], \"yaxis\": \"y\"}, {\"hoverinfo\": \"text\", \"marker\": {\"color\": \"rgb(61,153,112)\"}, \"mode\": \"lines\", \"type\": \"scatter\", \"x\": [0.0, 11.445523142259598, 11.445523142259598, 8.660254037844387], \"xaxis\": \"x\", \"y\": [-1305.0, -1305.0, -1331.25, -1331.25], \"yaxis\": \"y\"}, {\"hoverinfo\": \"text\", \"marker\": {\"color\": \"rgb(61,153,112)\"}, \"mode\": \"lines\", \"type\": \"scatter\", \"x\": [0.0, 12.041594578792296, 12.041594578792296, 11.445523142259598], \"xaxis\": \"x\", \"y\": [-1295.0, -1295.0, -1318.125, -1318.125], \"yaxis\": \"y\"}, {\"hoverinfo\": \"text\", \"marker\": {\"color\": \"rgb(0,116,217)\"}, \"mode\": \"lines\", \"type\": \"scatter\", \"x\": [0.0, 14.317821063276353, 14.317821063276353, 12.041594578792296], \"xaxis\": \"x\", \"y\": [-1285.0, -1285.0, -1306.5625, -1306.5625], \"yaxis\": \"y\"}, {\"hoverinfo\": \"text\", \"marker\": {\"color\": \"rgb(0,116,217)\"}, \"mode\": \"lines\", \"type\": \"scatter\", \"x\": [14.071247279470288, 14.422205101855956, 14.422205101855956, 14.317821063276353], \"xaxis\": \"x\", \"y\": [-1202.4609375, -1202.4609375, -1295.78125, -1295.78125], \"yaxis\": \"y\"}, {\"hoverinfo\": \"text\", \"marker\": {\"color\": \"rgb(255,65,54)\"}, \"mode\": \"lines\", \"type\": \"scatter\", \"x\": [0.0, 11.313708498984761, 11.313708498984761, 0.0], \"xaxis\": \"x\", \"y\": [-1385.0, -1385.0, -1395.0, -1395.0], \"yaxis\": \"y\"}, {\"hoverinfo\": \"text\", \"marker\": {\"color\": \"rgb(255,65,54)\"}, \"mode\": \"lines\", \"type\": \"scatter\", \"x\": [0.0, 5.656854249492381, 5.656854249492381, 0.0], \"xaxis\": \"x\", \"y\": [-1445.0, -1445.0, -1455.0, -1455.0], \"yaxis\": \"y\"}, {\"hoverinfo\": \"text\", \"marker\": {\"color\": \"rgb(255,65,54)\"}, \"mode\": \"lines\", \"type\": \"scatter\", \"x\": [0.0, 9.055385138137417, 9.055385138137417, 5.656854249492381], \"xaxis\": \"x\", \"y\": [-1435.0, -1435.0, -1450.0, -1450.0], \"yaxis\": \"y\"}, {\"hoverinfo\": \"text\", \"marker\": {\"color\": \"rgb(255,65,54)\"}, \"mode\": \"lines\", \"type\": \"scatter\", \"x\": [0.0, 6.0, 6.0, 0.0], \"xaxis\": \"x\", \"y\": [-1485.0, -1485.0, -1495.0, -1495.0], \"yaxis\": \"y\"}, {\"hoverinfo\": \"text\", \"marker\": {\"color\": \"rgb(255,65,54)\"}, \"mode\": \"lines\", \"type\": \"scatter\", \"x\": [0.0, 6.782329983125268, 6.782329983125268, 6.0], \"xaxis\": \"x\", \"y\": [-1475.0, -1475.0, -1490.0, -1490.0], \"yaxis\": \"y\"}, {\"hoverinfo\": \"text\", \"marker\": {\"color\": \"rgb(255,65,54)\"}, \"mode\": \"lines\", \"type\": \"scatter\", \"x\": [0.0, 4.898979485566356, 4.898979485566356, 0.0], \"xaxis\": \"x\", \"y\": [-1535.0, -1535.0, -1545.0, -1545.0], \"yaxis\": \"y\"}, {\"hoverinfo\": \"text\", \"marker\": {\"color\": \"rgb(255,65,54)\"}, \"mode\": \"lines\", \"type\": \"scatter\", \"x\": [0.0, 6.928203230275509, 6.928203230275509, 4.898979485566356], \"xaxis\": \"x\", \"y\": [-1525.0, -1525.0, -1540.0, -1540.0], \"yaxis\": \"y\"}, {\"hoverinfo\": \"text\", \"marker\": {\"color\": \"rgb(255,65,54)\"}, \"mode\": \"lines\", \"type\": \"scatter\", \"x\": [0.0, 8.831760866327848, 8.831760866327848, 6.928203230275509], \"xaxis\": \"x\", \"y\": [-1515.0, -1515.0, -1532.5, -1532.5], \"yaxis\": \"y\"}, {\"hoverinfo\": \"text\", \"marker\": {\"color\": \"rgb(255,65,54)\"}, \"mode\": \"lines\", \"type\": \"scatter\", \"x\": [0.0, 9.848857801796104, 9.848857801796104, 8.831760866327848], \"xaxis\": \"x\", \"y\": [-1505.0, -1505.0, -1523.75, -1523.75], \"yaxis\": \"y\"}, {\"hoverinfo\": \"text\", \"marker\": {\"color\": \"rgb(255,65,54)\"}, \"mode\": \"lines\", \"type\": \"scatter\", \"x\": [6.782329983125268, 10.246950765959598, 10.246950765959598, 9.848857801796104], \"xaxis\": \"x\", \"y\": [-1482.5, -1482.5, -1514.375, -1514.375], \"yaxis\": \"y\"}, {\"hoverinfo\": \"text\", \"marker\": {\"color\": \"rgb(255,65,54)\"}, \"mode\": \"lines\", \"type\": \"scatter\", \"x\": [0.0, 7.280109889280518, 7.280109889280518, 0.0], \"xaxis\": \"x\", \"y\": [-1575.0, -1575.0, -1585.0, -1585.0], \"yaxis\": \"y\"}, {\"hoverinfo\": \"text\", \"marker\": {\"color\": \"rgb(255,65,54)\"}, \"mode\": \"lines\", \"type\": \"scatter\", \"x\": [0.0, 9.16515138991168, 9.16515138991168, 7.280109889280518], \"xaxis\": \"x\", \"y\": [-1565.0, -1565.0, -1580.0, -1580.0], \"yaxis\": \"y\"}, {\"hoverinfo\": \"text\", \"marker\": {\"color\": \"rgb(255,65,54)\"}, \"mode\": \"lines\", \"type\": \"scatter\", \"x\": [0.0, 10.535653752852738, 10.535653752852738, 9.16515138991168], \"xaxis\": \"x\", \"y\": [-1555.0, -1555.0, -1572.5, -1572.5], \"yaxis\": \"y\"}, {\"hoverinfo\": \"text\", \"marker\": {\"color\": \"rgb(255,65,54)\"}, \"mode\": \"lines\", \"type\": \"scatter\", \"x\": [10.246950765959598, 11.313708498984761, 11.313708498984761, 10.535653752852738], \"xaxis\": \"x\", \"y\": [-1498.4375, -1498.4375, -1563.75, -1563.75], \"yaxis\": \"y\"}, {\"hoverinfo\": \"text\", \"marker\": {\"color\": \"rgb(255,65,54)\"}, \"mode\": \"lines\", \"type\": \"scatter\", \"x\": [0.0, 11.313708498984761, 11.313708498984761, 11.313708498984761], \"xaxis\": \"x\", \"y\": [-1465.0, -1465.0, -1531.09375, -1531.09375], \"yaxis\": \"y\"}, {\"hoverinfo\": \"text\", \"marker\": {\"color\": \"rgb(255,65,54)\"}, \"mode\": \"lines\", \"type\": \"scatter\", \"x\": [9.055385138137417, 11.532562594670797, 11.532562594670797, 11.313708498984761], \"xaxis\": \"x\", \"y\": [-1442.5, -1442.5, -1498.046875, -1498.046875], \"yaxis\": \"y\"}, {\"hoverinfo\": \"text\", \"marker\": {\"color\": \"rgb(255,65,54)\"}, \"mode\": \"lines\", \"type\": \"scatter\", \"x\": [0.0, 11.61895003862225, 11.61895003862225, 11.532562594670797], \"xaxis\": \"x\", \"y\": [-1425.0, -1425.0, -1470.2734375, -1470.2734375], \"yaxis\": \"y\"}, {\"hoverinfo\": \"text\", \"marker\": {\"color\": \"rgb(255,65,54)\"}, \"mode\": \"lines\", \"type\": \"scatter\", \"x\": [0.0, 11.789826122551595, 11.789826122551595, 11.61895003862225], \"xaxis\": \"x\", \"y\": [-1415.0, -1415.0, -1447.63671875, -1447.63671875], \"yaxis\": \"y\"}, {\"hoverinfo\": \"text\", \"marker\": {\"color\": \"rgb(255,65,54)\"}, \"mode\": \"lines\", \"type\": \"scatter\", \"x\": [0.0, 12.24744871391589, 12.24744871391589, 11.789826122551595], \"xaxis\": \"x\", \"y\": [-1405.0, -1405.0, -1431.318359375, -1431.318359375], \"yaxis\": \"y\"}, {\"hoverinfo\": \"text\", \"marker\": {\"color\": \"rgb(255,65,54)\"}, \"mode\": \"lines\", \"type\": \"scatter\", \"x\": [11.313708498984761, 12.288205727444508, 12.288205727444508, 12.24744871391589], \"xaxis\": \"x\", \"y\": [-1390.0, -1390.0, -1418.1591796875, -1418.1591796875], \"yaxis\": \"y\"}, {\"hoverinfo\": \"text\", \"marker\": {\"color\": \"rgb(35,205,205)\"}, \"mode\": \"lines\", \"type\": \"scatter\", \"x\": [0.0, 9.695359714832659, 9.695359714832659, 0.0], \"xaxis\": \"x\", \"y\": [-1615.0, -1615.0, -1625.0, -1625.0], \"yaxis\": \"y\"}, {\"hoverinfo\": \"text\", \"marker\": {\"color\": \"rgb(35,205,205)\"}, \"mode\": \"lines\", \"type\": \"scatter\", \"x\": [0.0, 10.344080432788601, 10.344080432788601, 9.695359714832659], \"xaxis\": \"x\", \"y\": [-1605.0, -1605.0, -1620.0, -1620.0], \"yaxis\": \"y\"}, {\"hoverinfo\": \"text\", \"marker\": {\"color\": \"rgb(35,205,205)\"}, \"mode\": \"lines\", \"type\": \"scatter\", \"x\": [0.0, 9.797958971132712, 9.797958971132712, 0.0], \"xaxis\": \"x\", \"y\": [-1645.0, -1645.0, -1655.0, -1655.0], \"yaxis\": \"y\"}, {\"hoverinfo\": \"text\", \"marker\": {\"color\": \"rgb(35,205,205)\"}, \"mode\": \"lines\", \"type\": \"scatter\", \"x\": [0.0, 12.24744871391589, 12.24744871391589, 9.797958971132712], \"xaxis\": \"x\", \"y\": [-1635.0, -1635.0, -1650.0, -1650.0], \"yaxis\": \"y\"}, {\"hoverinfo\": \"text\", \"marker\": {\"color\": \"rgb(35,205,205)\"}, \"mode\": \"lines\", \"type\": \"scatter\", \"x\": [10.344080432788601, 12.922847983320086, 12.922847983320086, 12.24744871391589], \"xaxis\": \"x\", \"y\": [-1612.5, -1612.5, -1642.5, -1642.5], \"yaxis\": \"y\"}, {\"hoverinfo\": \"text\", \"marker\": {\"color\": \"rgb(35,205,205)\"}, \"mode\": \"lines\", \"type\": \"scatter\", \"x\": [0.0, 13.0, 13.0, 12.922847983320086], \"xaxis\": \"x\", \"y\": [-1595.0, -1595.0, -1627.5, -1627.5], \"yaxis\": \"y\"}, {\"hoverinfo\": \"text\", \"marker\": {\"color\": \"rgb(0,116,217)\"}, \"mode\": \"lines\", \"type\": \"scatter\", \"x\": [12.288205727444508, 13.892443989449804, 13.892443989449804, 13.0], \"xaxis\": \"x\", \"y\": [-1404.07958984375, -1404.07958984375, -1611.25, -1611.25], \"yaxis\": \"y\"}, {\"hoverinfo\": \"text\", \"marker\": {\"color\": \"rgb(0,116,217)\"}, \"mode\": \"lines\", \"type\": \"scatter\", \"x\": [0.0, 14.0, 14.0, 13.892443989449804], \"xaxis\": \"x\", \"y\": [-1375.0, -1375.0, -1507.664794921875, -1507.664794921875], \"yaxis\": \"y\"}, {\"hoverinfo\": \"text\", \"marker\": {\"color\": \"rgb(0,116,217)\"}, \"mode\": \"lines\", \"type\": \"scatter\", \"x\": [0.0, 15.033296378372908, 15.033296378372908, 14.0], \"xaxis\": \"x\", \"y\": [-1365.0, -1365.0, -1441.3323974609375, -1441.3323974609375], \"yaxis\": \"y\"}, {\"hoverinfo\": \"text\", \"marker\": {\"color\": \"rgb(0,116,217)\"}, \"mode\": \"lines\", \"type\": \"scatter\", \"x\": [14.422205101855956, 15.588457268119896, 15.588457268119896, 15.033296378372908], \"xaxis\": \"x\", \"y\": [-1249.12109375, -1249.12109375, -1403.1661987304688, -1403.1661987304688], \"yaxis\": \"y\"}, {\"hoverinfo\": \"text\", \"marker\": {\"color\": \"rgb(0,116,217)\"}, \"mode\": \"lines\", \"type\": \"scatter\", \"x\": [14.491376746189438, 15.84297951775486, 15.84297951775486, 15.588457268119896], \"xaxis\": \"x\", \"y\": [-610.3240919113159, -610.3240919113159, -1326.1436462402344, -1326.1436462402344], \"yaxis\": \"y\"}, {\"hoverinfo\": \"text\", \"marker\": {\"color\": \"rgb(0,116,217)\"}, \"mode\": \"lines\", \"type\": \"scatter\", \"x\": [12.569805089976535, 15.84297951775486, 15.84297951775486, 15.84297951775486], \"xaxis\": \"x\", \"y\": [-310.45684814453125, -310.45684814453125, -968.2338690757751, -968.2338690757751], \"yaxis\": \"y\"}, {\"hoverinfo\": \"text\", \"marker\": {\"color\": \"rgb(0,116,217)\"}, \"mode\": \"lines\", \"type\": \"scatter\", \"x\": [11.224972160321824, 19.748417658131498, 19.748417658131498, 15.84297951775486], \"xaxis\": \"x\", \"y\": [-165.537109375, -165.537109375, -639.3453586101532, -639.3453586101532], \"yaxis\": \"y\"}],                        {\"autosize\": false, \"height\": 1000, \"hovermode\": \"closest\", \"showlegend\": false, \"template\": {\"data\": {\"bar\": [{\"error_x\": {\"color\": \"#2a3f5f\"}, \"error_y\": {\"color\": \"#2a3f5f\"}, \"marker\": {\"line\": {\"color\": \"#E5ECF6\", \"width\": 0.5}}, \"type\": \"bar\"}], \"barpolar\": [{\"marker\": {\"line\": {\"color\": \"#E5ECF6\", \"width\": 0.5}}, \"type\": \"barpolar\"}], \"carpet\": [{\"aaxis\": {\"endlinecolor\": \"#2a3f5f\", \"gridcolor\": \"white\", \"linecolor\": \"white\", \"minorgridcolor\": \"white\", \"startlinecolor\": \"#2a3f5f\"}, \"baxis\": {\"endlinecolor\": \"#2a3f5f\", \"gridcolor\": \"white\", \"linecolor\": \"white\", \"minorgridcolor\": \"white\", \"startlinecolor\": \"#2a3f5f\"}, \"type\": \"carpet\"}], \"choropleth\": [{\"colorbar\": {\"outlinewidth\": 0, \"ticks\": \"\"}, \"type\": \"choropleth\"}], \"contour\": [{\"colorbar\": {\"outlinewidth\": 0, \"ticks\": \"\"}, \"colorscale\": [[0.0, \"#0d0887\"], [0.1111111111111111, \"#46039f\"], [0.2222222222222222, \"#7201a8\"], [0.3333333333333333, \"#9c179e\"], [0.4444444444444444, \"#bd3786\"], [0.5555555555555556, \"#d8576b\"], [0.6666666666666666, \"#ed7953\"], [0.7777777777777778, \"#fb9f3a\"], [0.8888888888888888, \"#fdca26\"], [1.0, \"#f0f921\"]], \"type\": \"contour\"}], \"contourcarpet\": [{\"colorbar\": {\"outlinewidth\": 0, \"ticks\": \"\"}, \"type\": \"contourcarpet\"}], \"heatmap\": [{\"colorbar\": {\"outlinewidth\": 0, \"ticks\": \"\"}, \"colorscale\": [[0.0, \"#0d0887\"], [0.1111111111111111, \"#46039f\"], [0.2222222222222222, \"#7201a8\"], [0.3333333333333333, \"#9c179e\"], [0.4444444444444444, \"#bd3786\"], [0.5555555555555556, \"#d8576b\"], [0.6666666666666666, \"#ed7953\"], [0.7777777777777778, \"#fb9f3a\"], [0.8888888888888888, \"#fdca26\"], [1.0, \"#f0f921\"]], \"type\": \"heatmap\"}], \"heatmapgl\": [{\"colorbar\": {\"outlinewidth\": 0, \"ticks\": \"\"}, \"colorscale\": [[0.0, \"#0d0887\"], [0.1111111111111111, \"#46039f\"], [0.2222222222222222, \"#7201a8\"], [0.3333333333333333, \"#9c179e\"], [0.4444444444444444, \"#bd3786\"], [0.5555555555555556, \"#d8576b\"], [0.6666666666666666, \"#ed7953\"], [0.7777777777777778, \"#fb9f3a\"], [0.8888888888888888, \"#fdca26\"], [1.0, \"#f0f921\"]], \"type\": \"heatmapgl\"}], \"histogram\": [{\"marker\": {\"colorbar\": {\"outlinewidth\": 0, \"ticks\": \"\"}}, \"type\": \"histogram\"}], \"histogram2d\": [{\"colorbar\": {\"outlinewidth\": 0, \"ticks\": \"\"}, \"colorscale\": [[0.0, \"#0d0887\"], [0.1111111111111111, \"#46039f\"], [0.2222222222222222, \"#7201a8\"], [0.3333333333333333, \"#9c179e\"], [0.4444444444444444, \"#bd3786\"], [0.5555555555555556, \"#d8576b\"], [0.6666666666666666, \"#ed7953\"], [0.7777777777777778, \"#fb9f3a\"], [0.8888888888888888, \"#fdca26\"], [1.0, \"#f0f921\"]], \"type\": \"histogram2d\"}], \"histogram2dcontour\": [{\"colorbar\": {\"outlinewidth\": 0, \"ticks\": \"\"}, \"colorscale\": [[0.0, \"#0d0887\"], [0.1111111111111111, \"#46039f\"], [0.2222222222222222, \"#7201a8\"], [0.3333333333333333, \"#9c179e\"], [0.4444444444444444, \"#bd3786\"], [0.5555555555555556, \"#d8576b\"], [0.6666666666666666, \"#ed7953\"], [0.7777777777777778, \"#fb9f3a\"], [0.8888888888888888, \"#fdca26\"], [1.0, \"#f0f921\"]], \"type\": \"histogram2dcontour\"}], \"mesh3d\": [{\"colorbar\": {\"outlinewidth\": 0, \"ticks\": \"\"}, \"type\": \"mesh3d\"}], \"parcoords\": [{\"line\": {\"colorbar\": {\"outlinewidth\": 0, \"ticks\": \"\"}}, \"type\": \"parcoords\"}], \"pie\": [{\"automargin\": true, \"type\": \"pie\"}], \"scatter\": [{\"marker\": {\"colorbar\": {\"outlinewidth\": 0, \"ticks\": \"\"}}, \"type\": \"scatter\"}], \"scatter3d\": [{\"line\": {\"colorbar\": {\"outlinewidth\": 0, \"ticks\": \"\"}}, \"marker\": {\"colorbar\": {\"outlinewidth\": 0, \"ticks\": \"\"}}, \"type\": \"scatter3d\"}], \"scattercarpet\": [{\"marker\": {\"colorbar\": {\"outlinewidth\": 0, \"ticks\": \"\"}}, \"type\": \"scattercarpet\"}], \"scattergeo\": [{\"marker\": {\"colorbar\": {\"outlinewidth\": 0, \"ticks\": \"\"}}, \"type\": \"scattergeo\"}], \"scattergl\": [{\"marker\": {\"colorbar\": {\"outlinewidth\": 0, \"ticks\": \"\"}}, \"type\": \"scattergl\"}], \"scattermapbox\": [{\"marker\": {\"colorbar\": {\"outlinewidth\": 0, \"ticks\": \"\"}}, \"type\": \"scattermapbox\"}], \"scatterpolar\": [{\"marker\": {\"colorbar\": {\"outlinewidth\": 0, \"ticks\": \"\"}}, \"type\": \"scatterpolar\"}], \"scatterpolargl\": [{\"marker\": {\"colorbar\": {\"outlinewidth\": 0, \"ticks\": \"\"}}, \"type\": \"scatterpolargl\"}], \"scatterternary\": [{\"marker\": {\"colorbar\": {\"outlinewidth\": 0, \"ticks\": \"\"}}, \"type\": \"scatterternary\"}], \"surface\": [{\"colorbar\": {\"outlinewidth\": 0, \"ticks\": \"\"}, \"colorscale\": [[0.0, \"#0d0887\"], [0.1111111111111111, \"#46039f\"], [0.2222222222222222, \"#7201a8\"], [0.3333333333333333, \"#9c179e\"], [0.4444444444444444, \"#bd3786\"], [0.5555555555555556, \"#d8576b\"], [0.6666666666666666, \"#ed7953\"], [0.7777777777777778, \"#fb9f3a\"], [0.8888888888888888, \"#fdca26\"], [1.0, \"#f0f921\"]], \"type\": \"surface\"}], \"table\": [{\"cells\": {\"fill\": {\"color\": \"#EBF0F8\"}, \"line\": {\"color\": \"white\"}}, \"header\": {\"fill\": {\"color\": \"#C8D4E3\"}, \"line\": {\"color\": \"white\"}}, \"type\": \"table\"}]}, \"layout\": {\"annotationdefaults\": {\"arrowcolor\": \"#2a3f5f\", \"arrowhead\": 0, \"arrowwidth\": 1}, \"coloraxis\": {\"colorbar\": {\"outlinewidth\": 0, \"ticks\": \"\"}}, \"colorscale\": {\"diverging\": [[0, \"#8e0152\"], [0.1, \"#c51b7d\"], [0.2, \"#de77ae\"], [0.3, \"#f1b6da\"], [0.4, \"#fde0ef\"], [0.5, \"#f7f7f7\"], [0.6, \"#e6f5d0\"], [0.7, \"#b8e186\"], [0.8, \"#7fbc41\"], [0.9, \"#4d9221\"], [1, \"#276419\"]], \"sequential\": [[0.0, \"#0d0887\"], [0.1111111111111111, \"#46039f\"], [0.2222222222222222, \"#7201a8\"], [0.3333333333333333, \"#9c179e\"], [0.4444444444444444, \"#bd3786\"], [0.5555555555555556, \"#d8576b\"], [0.6666666666666666, \"#ed7953\"], [0.7777777777777778, \"#fb9f3a\"], [0.8888888888888888, \"#fdca26\"], [1.0, \"#f0f921\"]], \"sequentialminus\": [[0.0, \"#0d0887\"], [0.1111111111111111, \"#46039f\"], [0.2222222222222222, \"#7201a8\"], [0.3333333333333333, \"#9c179e\"], [0.4444444444444444, \"#bd3786\"], [0.5555555555555556, \"#d8576b\"], [0.6666666666666666, \"#ed7953\"], [0.7777777777777778, \"#fb9f3a\"], [0.8888888888888888, \"#fdca26\"], [1.0, \"#f0f921\"]]}, \"colorway\": [\"#636efa\", \"#EF553B\", \"#00cc96\", \"#ab63fa\", \"#FFA15A\", \"#19d3f3\", \"#FF6692\", \"#B6E880\", \"#FF97FF\", \"#FECB52\"], \"font\": {\"color\": \"#2a3f5f\"}, \"geo\": {\"bgcolor\": \"white\", \"lakecolor\": \"white\", \"landcolor\": \"#E5ECF6\", \"showlakes\": true, \"showland\": true, \"subunitcolor\": \"white\"}, \"hoverlabel\": {\"align\": \"left\"}, \"hovermode\": \"closest\", \"mapbox\": {\"style\": \"light\"}, \"paper_bgcolor\": \"white\", \"plot_bgcolor\": \"#E5ECF6\", \"polar\": {\"angularaxis\": {\"gridcolor\": \"white\", \"linecolor\": \"white\", \"ticks\": \"\"}, \"bgcolor\": \"#E5ECF6\", \"radialaxis\": {\"gridcolor\": \"white\", \"linecolor\": \"white\", \"ticks\": \"\"}}, \"scene\": {\"xaxis\": {\"backgroundcolor\": \"#E5ECF6\", \"gridcolor\": \"white\", \"gridwidth\": 2, \"linecolor\": \"white\", \"showbackground\": true, \"ticks\": \"\", \"zerolinecolor\": \"white\"}, \"yaxis\": {\"backgroundcolor\": \"#E5ECF6\", \"gridcolor\": \"white\", \"gridwidth\": 2, \"linecolor\": \"white\", \"showbackground\": true, \"ticks\": \"\", \"zerolinecolor\": \"white\"}, \"zaxis\": {\"backgroundcolor\": \"#E5ECF6\", \"gridcolor\": \"white\", \"gridwidth\": 2, \"linecolor\": \"white\", \"showbackground\": true, \"ticks\": \"\", \"zerolinecolor\": \"white\"}}, \"shapedefaults\": {\"line\": {\"color\": \"#2a3f5f\"}}, \"ternary\": {\"aaxis\": {\"gridcolor\": \"white\", \"linecolor\": \"white\", \"ticks\": \"\"}, \"baxis\": {\"gridcolor\": \"white\", \"linecolor\": \"white\", \"ticks\": \"\"}, \"bgcolor\": \"#E5ECF6\", \"caxis\": {\"gridcolor\": \"white\", \"linecolor\": \"white\", \"ticks\": \"\"}}, \"title\": {\"x\": 0.05}, \"xaxis\": {\"automargin\": true, \"gridcolor\": \"white\", \"linecolor\": \"white\", \"ticks\": \"\", \"title\": {\"standoff\": 15}, \"zerolinecolor\": \"white\", \"zerolinewidth\": 2}, \"yaxis\": {\"automargin\": true, \"gridcolor\": \"white\", \"linecolor\": \"white\", \"ticks\": \"\", \"title\": {\"standoff\": 15}, \"zerolinecolor\": \"white\", \"zerolinewidth\": 2}}}, \"width\": 600, \"xaxis\": {\"mirror\": \"allticks\", \"rangemode\": \"tozero\", \"showgrid\": false, \"showline\": true, \"showticklabels\": true, \"ticks\": \"outside\", \"type\": \"linear\", \"zeroline\": false}, \"yaxis\": {\"mirror\": \"allticks\", \"rangemode\": \"tozero\", \"showgrid\": false, \"showline\": true, \"showticklabels\": true, \"tickmode\": \"array\", \"ticks\": \"outside\", \"ticktext\": [\"harmonica\", \"accordion\", \"bagpipe\", \"bassoon\", \"clarinet\", \"flute\", \"saxophone\", \"trombone\", \"trumpet\", \"guitar\", \"banjo\", \"bass guitar\", \"harp\", \"violin\", \"cello\", \"double bass\", \"piano\", \"harpsichord\", \"organ\", \"cymbals\", \"triangle\", \"drum\", \"tambourine\", \"pan flute\", \"recorder\", \"drum set\", \"synthesizer\", \"boots\", \"shoes\", \"belt\", \"tie\", \"bathing suit\", \"coat\", \"socks\", \"suit\", \"t-shirt\", \"pants\", \"pullover\", \"jeans\", \"tracksuit\", \"dungarees\", \"sweater\", \"pyjamas\", \"blouse\", \"shirt\", \"shorts\", \"top\", \"dress\", \"skirt\", \"bra\", \"panties\", \"hat\", \"cap\", \"mittens\", \"beanie\", \"scarf\", \"knife\", \"lawn mower\", \"drill\", \"grinding disc\", \"wheelbarrow\", \"plough\", \"anvil\", \"rope\", \"paint brush\", \"crowbar (breekijzer)\", \"crowbar (koevoet)\", \"saw\", \"axe\", \"pickaxe\", \"shovel\", \"hammer\", \"nail\", \"file\", \"clamp\", \"level\", \"chisel\", \"tongs\", \"screwdriver\", \"screw wrench (engelse sleutel)\", \"wrench\", \"filling knife\", \"plane\", \"oil can\", \"wire brush\", \"vacuum cleaner\", \"fridge\", \"apron\", \"towel\", \"scissors\", \"mixer\", \"oven\", \"stove\", \"toaster\", \"microwave oven\", \"electric kettle\", \"percolator\", \"scales\", \"can opener\", \"teaspoon\", \"fork\", \"spoon\", \"grater\", \"spatula\", \"nutcracker\", \"bottle\", \"glass\", \"bowl\", \"plate\", \"whisk\", \"wok\", \"colander\", \"sieve\", \"kettle\", \"pan\", \"pot\", \"mug\", \"place mat\", \"dagger\", \"sword\", \"knuckle dusters\", \"shield\", \"stick\", \"club\", \"whip\", \"spear\", \"bow\", \"slingshot\", \"tank\", \"grenade\", \"canon\", \"pistol\", \"rifle\", \"double-barreled shotgun\", \"bazooka\", \"machine gun\", \"rocket\", \"bicycle\", \"(hot air) balloon\", \"zeppelin\", \"boat\", \"tractor\", \"car\", \"motorbike (moto)\", \"scooter (bromfiets)\", \"scooter (brommer)\", \"jeep\", \"subway train\", \"train\", \"tram\", \"taxi\", \"van\", \"bus\", \"truck (camion)\", \"truck (vrachtwagen)\", \"airplane\", \"submarine\", \"helicopter\", \"hovercraft\", \"trailer\", \"go-cart\", \"kick scooter\", \"skateboard\", \"sled\", \"carriage\", \"cart\"], \"tickvals\": [-5.0, -15.0, -25.0, -35.0, -45.0, -55.0, -65.0, -75.0, -85.0, -95.0, -105.0, -115.0, -125.0, -135.0, -145.0, -155.0, -165.0, -175.0, -185.0, -195.0, -205.0, -215.0, -225.0, -235.0, -245.0, -255.0, -265.0, -275.0, -285.0, -295.0, -305.0, -315.0, -325.0, -335.0, -345.0, -355.0, -365.0, -375.0, -385.0, -395.0, -405.0, -415.0, -425.0, -435.0, -445.0, -455.0, -465.0, -475.0, -485.0, -495.0, -505.0, -515.0, -525.0, -535.0, -545.0, -555.0, -565.0, -575.0, -585.0, -595.0, -605.0, -615.0, -625.0, -635.0, -645.0, -655.0, -665.0, -675.0, -685.0, -695.0, -705.0, -715.0, -725.0, -735.0, -745.0, -755.0, -765.0, -775.0, -785.0, -795.0, -805.0, -815.0, -825.0, -835.0, -845.0, -855.0, -865.0, -875.0, -885.0, -895.0, -905.0, -915.0, -925.0, -935.0, -945.0, -955.0, -965.0, -975.0, -985.0, -995.0, -1005.0, -1015.0, -1025.0, -1035.0, -1045.0, -1055.0, -1065.0, -1075.0, -1085.0, -1095.0, -1105.0, -1115.0, -1125.0, -1135.0, -1145.0, -1155.0, -1165.0, -1175.0, -1185.0, -1195.0, -1205.0, -1215.0, -1225.0, -1235.0, -1245.0, -1255.0, -1265.0, -1275.0, -1285.0, -1295.0, -1305.0, -1315.0, -1325.0, -1335.0, -1345.0, -1355.0, -1365.0, -1375.0, -1385.0, -1395.0, -1405.0, -1415.0, -1425.0, -1435.0, -1445.0, -1455.0, -1465.0, -1475.0, -1485.0, -1495.0, -1505.0, -1515.0, -1525.0, -1535.0, -1545.0, -1555.0, -1565.0, -1575.0, -1585.0, -1595.0, -1605.0, -1615.0, -1625.0, -1635.0, -1645.0, -1655.0], \"type\": \"linear\", \"zeroline\": false}},                        {\"responsive\": true}                    ).then(function(){\n                            \nvar gd = document.getElementById('53ca4822-d9ae-4377-967e-e189bc6654bf');\nvar x = new MutationObserver(function (mutations, observer) {{\n        var display = window.getComputedStyle(gd).display;\n        if (!display || display === 'none') {{\n            console.log([gd, 'removed!']);\n            Plotly.purge(gd);\n            observer.disconnect();\n        }}\n}});\n\n// Listen for the removal of the full notebook cells\nvar notebookContainer = gd.closest('#notebook-container');\nif (notebookContainer) {{\n    x.observe(notebookContainer, {childList: true});\n}}\n\n// Listen for the clearing of the current output cell\nvar outputEl = gd.closest('.output');\nif (outputEl) {{\n    x.observe(outputEl, {childList: true});\n}}\n\n                        })                };                });            </script>        </div>"
     },
     "metadata": {}
    }
   ],
   "source": [
    "fig = ff.create_dendrogram(train_X, orientation='left', labels=train_X.index, linkagefun=lambda x: linkage(train_X, 'single'))\n",
    "fig.update_layout(width=600, height=1000)\n",
    "fig.show()"
   ]
  },
  {
   "cell_type": "code",
   "execution_count": null,
   "metadata": {},
   "outputs": [],
   "source": []
  }
 ]
}