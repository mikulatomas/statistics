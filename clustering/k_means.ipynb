{
 "metadata": {
  "language_info": {
   "codemirror_mode": {
    "name": "ipython",
    "version": 3
   },
   "file_extension": ".py",
   "mimetype": "text/x-python",
   "name": "python",
   "nbconvert_exporter": "python",
   "pygments_lexer": "ipython3",
   "version": "3.8.9"
  },
  "orig_nbformat": 2,
  "kernelspec": {
   "name": "python389jvsc74a57bd0082a18f759f8afdec9b7eec773590a36e4c3be1cd97bea91855dea5176a8175a",
   "display_name": "Python 3.8.9 64-bit ('fcapy': virtualenvwrapper)"
  }
 },
 "nbformat": 4,
 "nbformat_minor": 2,
 "cells": [
  {
   "cell_type": "code",
   "execution_count": 75,
   "metadata": {},
   "outputs": [],
   "source": [
    "from datasets import load_dutch\n",
    "from sklearn.cluster import KMeans\n",
    "from sklearn.metrics import adjusted_rand_score\n",
    "from sklearn.preprocessing import MinMaxScaler"
   ]
  },
  {
   "cell_type": "code",
   "execution_count": 76,
   "metadata": {},
   "outputs": [],
   "source": [
    "df = load_dutch()"
   ]
  },
  {
   "cell_type": "code",
   "execution_count": 77,
   "metadata": {},
   "outputs": [],
   "source": [
    "train_X = df.drop('target', axis=1)\n",
    "train_y = df['target']\n",
    "\n",
    "scaler = MinMaxScaler().fit(train_X)\n",
    "train_X = scaler.transform(train_X)"
   ]
  },
  {
   "cell_type": "code",
   "execution_count": 78,
   "metadata": {},
   "outputs": [
    {
     "output_type": "execute_result",
     "data": {
      "text/plain": [
       "array([[0.25, 0.  , 0.75, ..., 0.  , 1.  , 0.  ],\n",
       "       [1.  , 0.25, 0.75, ..., 0.75, 0.75, 0.  ],\n",
       "       [0.25, 0.  , 0.75, ..., 0.  , 0.75, 0.  ],\n",
       "       ...,\n",
       "       [1.  , 0.  , 0.  , ..., 0.  , 0.25, 0.  ],\n",
       "       [1.  , 0.  , 0.75, ..., 0.  , 0.5 , 0.  ],\n",
       "       [0.25, 0.  , 0.75, ..., 0.  , 1.  , 0.  ]])"
      ]
     },
     "metadata": {},
     "execution_count": 78
    }
   ],
   "source": [
    "train_X"
   ]
  },
  {
   "cell_type": "code",
   "execution_count": 79,
   "metadata": {},
   "outputs": [
    {
     "output_type": "execute_result",
     "data": {
      "text/plain": [
       "features            bought in a store  breaks easily  \\\n",
       "target                                                 \n",
       "clothing                           29             29   \n",
       "kitchen utensil                    33             33   \n",
       "musical instrument                 27             27   \n",
       "tool                               29             29   \n",
       "vehicle                            30             30   \n",
       "weapon                             18             18   \n",
       "\n",
       "features            can also be used out of the kitchen  \\\n",
       "target                                                    \n",
       "clothing                                             29   \n",
       "kitchen utensil                                      33   \n",
       "musical instrument                                   27   \n",
       "tool                                                 29   \n",
       "vehicle                                              30   \n",
       "weapon                                               18   \n",
       "\n",
       "features            can be a status symbol  can be automatized  \\\n",
       "target                                                           \n",
       "clothing                                29                  29   \n",
       "kitchen utensil                         33                  33   \n",
       "musical instrument                      27                  27   \n",
       "tool                                    29                  29   \n",
       "vehicle                                 30                  30   \n",
       "weapon                                  18                  18   \n",
       "\n",
       "features            can be carried  can be dangerous  can be dishwashed  \\\n",
       "target                                                                    \n",
       "clothing                        29                29                 29   \n",
       "kitchen utensil                 33                33                 33   \n",
       "musical instrument              27                27                 27   \n",
       "tool                            29                29                 29   \n",
       "vehicle                         30                30                 30   \n",
       "weapon                          18                18                 18   \n",
       "\n",
       "features            can be electronic  can be found in a garage  ...  \\\n",
       "target                                                           ...   \n",
       "clothing                           29                        29  ...   \n",
       "kitchen utensil                    33                        33  ...   \n",
       "musical instrument                 27                        27  ...   \n",
       "tool                               29                        29  ...   \n",
       "vehicle                            30                        30  ...   \n",
       "weapon                             18                        18  ...   \n",
       "\n",
       "features            you can earn money with it  \\\n",
       "target                                           \n",
       "clothing                                    29   \n",
       "kitchen utensil                             33   \n",
       "musical instrument                          27   \n",
       "tool                                        29   \n",
       "vehicle                                     30   \n",
       "weapon                                      18   \n",
       "\n",
       "features            you can injure someone with it  \\\n",
       "target                                               \n",
       "clothing                                        29   \n",
       "kitchen utensil                                 33   \n",
       "musical instrument                              27   \n",
       "tool                                            29   \n",
       "vehicle                                         30   \n",
       "weapon                                          18   \n",
       "\n",
       "features            you can kill someone with it  \\\n",
       "target                                             \n",
       "clothing                                      29   \n",
       "kitchen utensil                               33   \n",
       "musical instrument                            27   \n",
       "tool                                          29   \n",
       "vehicle                                       30   \n",
       "weapon                                        18   \n",
       "\n",
       "features            you can transport things with it  \\\n",
       "target                                                 \n",
       "clothing                                          29   \n",
       "kitchen utensil                                   33   \n",
       "musical instrument                                27   \n",
       "tool                                              29   \n",
       "vehicle                                           30   \n",
       "weapon                                            18   \n",
       "\n",
       "features            you have to be able to read notes for it  \\\n",
       "target                                                         \n",
       "clothing                                                  29   \n",
       "kitchen utensil                                           33   \n",
       "musical instrument                                        27   \n",
       "tool                                                      29   \n",
       "vehicle                                                   30   \n",
       "weapon                                                    18   \n",
       "\n",
       "features            you have to be intelligent to play it  \\\n",
       "target                                                      \n",
       "clothing                                               29   \n",
       "kitchen utensil                                        33   \n",
       "musical instrument                                     27   \n",
       "tool                                                   29   \n",
       "vehicle                                                30   \n",
       "weapon                                                 18   \n",
       "\n",
       "features            you have to blow on it  \\\n",
       "target                                       \n",
       "clothing                                29   \n",
       "kitchen utensil                         33   \n",
       "musical instrument                      27   \n",
       "tool                                    29   \n",
       "vehicle                                 30   \n",
       "weapon                                  18   \n",
       "\n",
       "features            you have to have talent to play it  \\\n",
       "target                                                   \n",
       "clothing                                            29   \n",
       "kitchen utensil                                     33   \n",
       "musical instrument                                  27   \n",
       "tool                                                29   \n",
       "vehicle                                             30   \n",
       "weapon                                              18   \n",
       "\n",
       "features            you have to learn how to use it  \\\n",
       "target                                                \n",
       "clothing                                         29   \n",
       "kitchen utensil                                  33   \n",
       "musical instrument                               27   \n",
       "tool                                             29   \n",
       "vehicle                                          30   \n",
       "weapon                                           18   \n",
       "\n",
       "features            you need a weapon license for it  \n",
       "target                                                \n",
       "clothing                                          29  \n",
       "kitchen utensil                                   33  \n",
       "musical instrument                                27  \n",
       "tool                                              29  \n",
       "vehicle                                           30  \n",
       "weapon                                            18  \n",
       "\n",
       "[6 rows x 301 columns]"
      ],
      "text/html": "<div>\n<style scoped>\n    .dataframe tbody tr th:only-of-type {\n        vertical-align: middle;\n    }\n\n    .dataframe tbody tr th {\n        vertical-align: top;\n    }\n\n    .dataframe thead th {\n        text-align: right;\n    }\n</style>\n<table border=\"1\" class=\"dataframe\">\n  <thead>\n    <tr style=\"text-align: right;\">\n      <th>features</th>\n      <th>bought in a store</th>\n      <th>breaks easily</th>\n      <th>can also be used out of the kitchen</th>\n      <th>can be a status symbol</th>\n      <th>can be automatized</th>\n      <th>can be carried</th>\n      <th>can be dangerous</th>\n      <th>can be dishwashed</th>\n      <th>can be electronic</th>\n      <th>can be found in a garage</th>\n      <th>...</th>\n      <th>you can earn money with it</th>\n      <th>you can injure someone with it</th>\n      <th>you can kill someone with it</th>\n      <th>you can transport things with it</th>\n      <th>you have to be able to read notes for it</th>\n      <th>you have to be intelligent to play it</th>\n      <th>you have to blow on it</th>\n      <th>you have to have talent to play it</th>\n      <th>you have to learn how to use it</th>\n      <th>you need a weapon license for it</th>\n    </tr>\n    <tr>\n      <th>target</th>\n      <th></th>\n      <th></th>\n      <th></th>\n      <th></th>\n      <th></th>\n      <th></th>\n      <th></th>\n      <th></th>\n      <th></th>\n      <th></th>\n      <th></th>\n      <th></th>\n      <th></th>\n      <th></th>\n      <th></th>\n      <th></th>\n      <th></th>\n      <th></th>\n      <th></th>\n      <th></th>\n      <th></th>\n    </tr>\n  </thead>\n  <tbody>\n    <tr>\n      <th>clothing</th>\n      <td>29</td>\n      <td>29</td>\n      <td>29</td>\n      <td>29</td>\n      <td>29</td>\n      <td>29</td>\n      <td>29</td>\n      <td>29</td>\n      <td>29</td>\n      <td>29</td>\n      <td>...</td>\n      <td>29</td>\n      <td>29</td>\n      <td>29</td>\n      <td>29</td>\n      <td>29</td>\n      <td>29</td>\n      <td>29</td>\n      <td>29</td>\n      <td>29</td>\n      <td>29</td>\n    </tr>\n    <tr>\n      <th>kitchen utensil</th>\n      <td>33</td>\n      <td>33</td>\n      <td>33</td>\n      <td>33</td>\n      <td>33</td>\n      <td>33</td>\n      <td>33</td>\n      <td>33</td>\n      <td>33</td>\n      <td>33</td>\n      <td>...</td>\n      <td>33</td>\n      <td>33</td>\n      <td>33</td>\n      <td>33</td>\n      <td>33</td>\n      <td>33</td>\n      <td>33</td>\n      <td>33</td>\n      <td>33</td>\n      <td>33</td>\n    </tr>\n    <tr>\n      <th>musical instrument</th>\n      <td>27</td>\n      <td>27</td>\n      <td>27</td>\n      <td>27</td>\n      <td>27</td>\n      <td>27</td>\n      <td>27</td>\n      <td>27</td>\n      <td>27</td>\n      <td>27</td>\n      <td>...</td>\n      <td>27</td>\n      <td>27</td>\n      <td>27</td>\n      <td>27</td>\n      <td>27</td>\n      <td>27</td>\n      <td>27</td>\n      <td>27</td>\n      <td>27</td>\n      <td>27</td>\n    </tr>\n    <tr>\n      <th>tool</th>\n      <td>29</td>\n      <td>29</td>\n      <td>29</td>\n      <td>29</td>\n      <td>29</td>\n      <td>29</td>\n      <td>29</td>\n      <td>29</td>\n      <td>29</td>\n      <td>29</td>\n      <td>...</td>\n      <td>29</td>\n      <td>29</td>\n      <td>29</td>\n      <td>29</td>\n      <td>29</td>\n      <td>29</td>\n      <td>29</td>\n      <td>29</td>\n      <td>29</td>\n      <td>29</td>\n    </tr>\n    <tr>\n      <th>vehicle</th>\n      <td>30</td>\n      <td>30</td>\n      <td>30</td>\n      <td>30</td>\n      <td>30</td>\n      <td>30</td>\n      <td>30</td>\n      <td>30</td>\n      <td>30</td>\n      <td>30</td>\n      <td>...</td>\n      <td>30</td>\n      <td>30</td>\n      <td>30</td>\n      <td>30</td>\n      <td>30</td>\n      <td>30</td>\n      <td>30</td>\n      <td>30</td>\n      <td>30</td>\n      <td>30</td>\n    </tr>\n    <tr>\n      <th>weapon</th>\n      <td>18</td>\n      <td>18</td>\n      <td>18</td>\n      <td>18</td>\n      <td>18</td>\n      <td>18</td>\n      <td>18</td>\n      <td>18</td>\n      <td>18</td>\n      <td>18</td>\n      <td>...</td>\n      <td>18</td>\n      <td>18</td>\n      <td>18</td>\n      <td>18</td>\n      <td>18</td>\n      <td>18</td>\n      <td>18</td>\n      <td>18</td>\n      <td>18</td>\n      <td>18</td>\n    </tr>\n  </tbody>\n</table>\n<p>6 rows × 301 columns</p>\n</div>"
     },
     "metadata": {},
     "execution_count": 79
    }
   ],
   "source": [
    "df.groupby('target').count()"
   ]
  },
  {
   "cell_type": "code",
   "execution_count": 99,
   "metadata": {},
   "outputs": [],
   "source": [
    "kmeans = KMeans(n_clusters=6, init='random', random_state=0, n_init=50, max_iter=300).fit(train_X)"
   ]
  },
  {
   "cell_type": "code",
   "execution_count": 100,
   "metadata": {},
   "outputs": [],
   "source": [
    "df['clusters'] = kmeans.labels_"
   ]
  },
  {
   "cell_type": "code",
   "execution_count": 101,
   "metadata": {},
   "outputs": [
    {
     "output_type": "execute_result",
     "data": {
      "text/plain": [
       "0.9381388648390155"
      ]
     },
     "metadata": {},
     "execution_count": 101
    }
   ],
   "source": [
    "# The Rand Index computes a similarity measure between two clusterings by considering all pairs of samples and counting pairs that are assigned in the same or different clusters in the predicted and true clusterings.\n",
    "adjusted_rand_score(df['target'], df['clusters'])"
   ]
  },
  {
   "cell_type": "code",
   "execution_count": 102,
   "metadata": {},
   "outputs": [
    {
     "output_type": "execute_result",
     "data": {
      "text/plain": [
       "1433.731973038867"
      ]
     },
     "metadata": {},
     "execution_count": 102
    }
   ],
   "source": [
    "# sum of squared distances to the closest centroid for all observations in the training set\n",
    "kmeans.inertia_"
   ]
  },
  {
   "cell_type": "code",
   "execution_count": 103,
   "metadata": {},
   "outputs": [],
   "source": [
    "from sklearn.decomposition import PCA\n",
    "import pandas as pd\n",
    "import plotly.express as px"
   ]
  },
  {
   "cell_type": "code",
   "execution_count": 104,
   "metadata": {},
   "outputs": [],
   "source": [
    "pca = PCA(n_components=3)\n",
    "pca = pca.fit(train_X)"
   ]
  },
  {
   "cell_type": "code",
   "execution_count": 105,
   "metadata": {},
   "outputs": [],
   "source": [
    "transformed_train_X = pca.transform(train_X)"
   ]
  },
  {
   "cell_type": "code",
   "execution_count": 106,
   "metadata": {},
   "outputs": [],
   "source": [
    "kmeans = KMeans(n_clusters=6, init='k-means++', random_state=0, n_init=10, max_iter=300).fit(transformed_train_X)"
   ]
  },
  {
   "cell_type": "code",
   "execution_count": 107,
   "metadata": {},
   "outputs": [
    {
     "output_type": "display_data",
     "data": {
      "application/vnd.plotly.v1+json": {
       "config": {
        "plotlyServerURL": "https://plot.ly"
       },
       "data": [
        {
         "customdata": [
          [
           "(hot air) balloon"
          ],
          [
           "accordion"
          ],
          [
           "airplane"
          ],
          [
           "anvil"
          ],
          [
           "apron"
          ],
          [
           "axe"
          ],
          [
           "bagpipe"
          ],
          [
           "banjo"
          ],
          [
           "bass guitar"
          ],
          [
           "bassoon"
          ],
          [
           "bathing suit"
          ],
          [
           "bazooka"
          ],
          [
           "beanie"
          ],
          [
           "belt"
          ],
          [
           "bicycle"
          ],
          [
           "blouse"
          ],
          [
           "boat"
          ],
          [
           "boots"
          ],
          [
           "bottle"
          ],
          [
           "bow"
          ],
          [
           "bowl"
          ],
          [
           "bra"
          ],
          [
           "bus"
          ],
          [
           "can opener"
          ],
          [
           "canon"
          ],
          [
           "cap"
          ],
          [
           "car"
          ],
          [
           "carriage"
          ],
          [
           "cart"
          ],
          [
           "cello"
          ],
          [
           "chisel"
          ],
          [
           "clamp"
          ],
          [
           "clarinet"
          ],
          [
           "club"
          ],
          [
           "coat"
          ],
          [
           "colander"
          ],
          [
           "crowbar (breekijzer)"
          ],
          [
           "crowbar (koevoet)"
          ],
          [
           "cymbals"
          ],
          [
           "dagger"
          ],
          [
           "double bass"
          ],
          [
           "double-barreled shotgun"
          ],
          [
           "dress"
          ],
          [
           "drill"
          ],
          [
           "drum"
          ],
          [
           "drum set"
          ],
          [
           "dungarees"
          ],
          [
           "electric kettle"
          ],
          [
           "file"
          ],
          [
           "filling knife"
          ],
          [
           "flute"
          ],
          [
           "fork"
          ],
          [
           "fridge"
          ],
          [
           "glass"
          ],
          [
           "go-cart"
          ],
          [
           "grater"
          ],
          [
           "grenade"
          ],
          [
           "grinding disc"
          ],
          [
           "guitar"
          ],
          [
           "hammer"
          ],
          [
           "harmonica"
          ],
          [
           "harp"
          ],
          [
           "harpsichord"
          ],
          [
           "hat"
          ],
          [
           "helicopter"
          ],
          [
           "hovercraft"
          ],
          [
           "jeans"
          ],
          [
           "jeep"
          ],
          [
           "kettle"
          ],
          [
           "kick scooter"
          ],
          [
           "knife"
          ],
          [
           "knuckle dusters"
          ],
          [
           "lawn mower"
          ],
          [
           "level"
          ],
          [
           "machine gun"
          ],
          [
           "microwave oven"
          ],
          [
           "mittens"
          ],
          [
           "mixer"
          ],
          [
           "motorbike (moto)"
          ],
          [
           "mug"
          ],
          [
           "nail"
          ],
          [
           "nutcracker"
          ],
          [
           "oil can"
          ],
          [
           "organ"
          ],
          [
           "oven"
          ],
          [
           "paint brush"
          ],
          [
           "pan"
          ],
          [
           "pan flute"
          ],
          [
           "panties"
          ],
          [
           "pants"
          ],
          [
           "percolator"
          ],
          [
           "piano"
          ],
          [
           "pickaxe"
          ],
          [
           "pistol"
          ],
          [
           "place mat"
          ],
          [
           "plane"
          ],
          [
           "plate"
          ],
          [
           "plough"
          ],
          [
           "pot"
          ],
          [
           "pullover"
          ],
          [
           "pyjamas"
          ],
          [
           "recorder"
          ],
          [
           "rifle"
          ],
          [
           "rocket"
          ],
          [
           "rope"
          ],
          [
           "saw"
          ],
          [
           "saxophone"
          ],
          [
           "scales"
          ],
          [
           "scarf"
          ],
          [
           "scissors"
          ],
          [
           "scooter (bromfiets)"
          ],
          [
           "scooter (brommer)"
          ],
          [
           "screw wrench (engelse sleutel)"
          ],
          [
           "screwdriver"
          ],
          [
           "shield"
          ],
          [
           "shirt"
          ],
          [
           "shoes"
          ],
          [
           "shorts"
          ],
          [
           "shovel"
          ],
          [
           "sieve"
          ],
          [
           "skateboard"
          ],
          [
           "skirt"
          ],
          [
           "sled"
          ],
          [
           "slingshot"
          ],
          [
           "socks"
          ],
          [
           "spatula"
          ],
          [
           "spear"
          ],
          [
           "spoon"
          ],
          [
           "stick"
          ],
          [
           "stove"
          ],
          [
           "submarine"
          ],
          [
           "subway train"
          ],
          [
           "suit"
          ],
          [
           "sweater"
          ],
          [
           "sword"
          ],
          [
           "synthesizer"
          ],
          [
           "t-shirt"
          ],
          [
           "tambourine"
          ],
          [
           "tank"
          ],
          [
           "taxi"
          ],
          [
           "teaspoon"
          ],
          [
           "tie"
          ],
          [
           "toaster"
          ],
          [
           "tongs"
          ],
          [
           "top"
          ],
          [
           "towel"
          ],
          [
           "tracksuit"
          ],
          [
           "tractor"
          ],
          [
           "trailer"
          ],
          [
           "train"
          ],
          [
           "tram"
          ],
          [
           "triangle"
          ],
          [
           "trombone"
          ],
          [
           "truck (camion)"
          ],
          [
           "truck (vrachtwagen)"
          ],
          [
           "trumpet"
          ],
          [
           "vacuum cleaner"
          ],
          [
           "van"
          ],
          [
           "violin"
          ],
          [
           "wheelbarrow"
          ],
          [
           "whip"
          ],
          [
           "whisk"
          ],
          [
           "wire brush"
          ],
          [
           "wok"
          ],
          [
           "wrench"
          ],
          [
           "zeppelin"
          ]
         ],
         "hovertemplate": "x=%{x}<br>y=%{y}<br>z=%{z}<br>size=%{marker.size}<br>name=%{customdata[0]}<br>clusters=%{marker.color}<extra></extra>",
         "legendgroup": "",
         "marker": {
          "color": [
           3,
           2,
           3,
           1,
           0,
           1,
           2,
           2,
           2,
           2,
           0,
           4,
           0,
           0,
           4,
           0,
           3,
           0,
           5,
           4,
           5,
           0,
           3,
           1,
           4,
           0,
           3,
           4,
           4,
           2,
           1,
           1,
           2,
           4,
           0,
           5,
           1,
           1,
           2,
           4,
           2,
           4,
           0,
           4,
           2,
           2,
           0,
           4,
           1,
           1,
           2,
           5,
           4,
           5,
           3,
           1,
           4,
           4,
           2,
           1,
           2,
           2,
           2,
           0,
           3,
           3,
           0,
           3,
           5,
           4,
           1,
           4,
           4,
           1,
           4,
           4,
           0,
           4,
           3,
           5,
           1,
           1,
           1,
           2,
           4,
           5,
           5,
           2,
           0,
           0,
           4,
           2,
           1,
           4,
           5,
           1,
           5,
           1,
           5,
           0,
           0,
           2,
           4,
           3,
           5,
           1,
           2,
           5,
           0,
           1,
           3,
           3,
           1,
           1,
           4,
           0,
           0,
           0,
           1,
           5,
           4,
           0,
           4,
           4,
           0,
           5,
           4,
           5,
           4,
           4,
           3,
           3,
           0,
           0,
           4,
           2,
           0,
           2,
           3,
           3,
           5,
           0,
           5,
           1,
           0,
           5,
           0,
           3,
           3,
           3,
           3,
           2,
           2,
           3,
           3,
           2,
           4,
           3,
           2,
           1,
           4,
           5,
           1,
           5,
           1,
           3
          ],
          "coloraxis": "coloraxis",
          "size": [
           1,
           1,
           1,
           1,
           1,
           1,
           1,
           1,
           1,
           1,
           1,
           1,
           1,
           1,
           1,
           1,
           1,
           1,
           1,
           1,
           1,
           1,
           1,
           1,
           1,
           1,
           1,
           1,
           1,
           1,
           1,
           1,
           1,
           1,
           1,
           1,
           1,
           1,
           1,
           1,
           1,
           1,
           1,
           1,
           1,
           1,
           1,
           1,
           1,
           1,
           1,
           1,
           1,
           1,
           1,
           1,
           1,
           1,
           1,
           1,
           1,
           1,
           1,
           1,
           1,
           1,
           1,
           1,
           1,
           1,
           1,
           1,
           1,
           1,
           1,
           1,
           1,
           1,
           1,
           1,
           1,
           1,
           1,
           1,
           1,
           1,
           1,
           1,
           1,
           1,
           1,
           1,
           1,
           1,
           1,
           1,
           1,
           1,
           1,
           1,
           1,
           1,
           1,
           1,
           1,
           1,
           1,
           1,
           1,
           1,
           1,
           1,
           1,
           1,
           1,
           1,
           1,
           1,
           1,
           1,
           1,
           1,
           1,
           1,
           1,
           1,
           1,
           1,
           1,
           1,
           1,
           1,
           1,
           1,
           1,
           1,
           1,
           1,
           1,
           1,
           1,
           1,
           1,
           1,
           1,
           1,
           1,
           1,
           1,
           1,
           1,
           1,
           1,
           1,
           1,
           1,
           1,
           1,
           1,
           1,
           1,
           1,
           1,
           1,
           1,
           1
          ],
          "sizemode": "area",
          "sizeref": 0.0044444444444444444,
          "symbol": "circle"
         },
         "mode": "markers",
         "name": "",
         "scene": "scene",
         "showlegend": false,
         "type": "scatter3d",
         "x": [
          -0.362089964446857,
          0.4075842346703833,
          -2.282239839861026,
          -1.755936399594796,
          2.575004001578198,
          -2.044250546469711,
          0.2349916074787844,
          -0.1379045383943441,
          -0.13306486236420959,
          -0.3248739461060768,
          4.374634075624096,
          -2.627578042757783,
          4.318961171393271,
          3.1512000777503557,
          -0.31274988491414735,
          5.164361243768181,
          -1.6657212995097201,
          3.1544291388970747,
          0.15551938685468605,
          -1.08335517504469,
          0.3327451254186529,
          4.60653203308228,
          -2.210813812010369,
          -0.8331470636539376,
          -2.5309719877399055,
          4.237922767412,
          -1.8999425372319854,
          -0.480146701628835,
          -0.7375816536155075,
          -0.2047970885119468,
          -1.657254297842627,
          -1.4400678316183302,
          -0.2860439486282342,
          -1.2406589825899252,
          4.9519785921193264,
          -0.0978296911991259,
          -2.047762317782136,
          -1.9621179807493347,
          -0.47725849342964255,
          -1.5157344443335772,
          -0.3446079230216403,
          -2.3469888363341735,
          5.011066753924165,
          -2.1246761282194746,
          0.1775545873206404,
          -0.4617109648045853,
          4.321818777815318,
          -0.5641417083409456,
          -1.2054162497314633,
          -1.5506817523786123,
          -0.48749551728939516,
          -0.1693209555227144,
          -0.7920316127247531,
          0.30139700497726096,
          -0.8957852330620801,
          -0.8832674224675396,
          -1.9276727600491164,
          -2.2973498307703597,
          0.24957076858163252,
          -1.740158521753064,
          -0.18793903378482898,
          -0.2244269701281896,
          -0.45439871547620125,
          4.162824217391022,
          -2.3641786483840304,
          -2.0827629015518707,
          4.549341806305323,
          -2.0339466500387893,
          -0.44879255750032965,
          -0.40680674615829426,
          -1.5076477498346068,
          -1.1754398289470778,
          -1.7922723422310656,
          -0.9780661441905454,
          -2.4860271072482014,
          -0.9140329836066028,
          4.173715992331031,
          -1.0899791358617588,
          -1.9579329276072426,
          1.019229291834653,
          -1.395660210269061,
          -0.7770562002409547,
          -1.0190485811826242,
          -0.2740073502331001,
          -1.191150673690675,
          -0.09893932264422231,
          -0.23019202215343232,
          0.13109771013638602,
          4.976044853146811,
          5.156226709645264,
          -0.4656063492028127,
          -0.1765137419833588,
          -2.049370988098536,
          -2.2622665400056237,
          1.1422166580713167,
          -1.6345160744316054,
          0.6361227096568074,
          -1.8287564618320573,
          -0.16131375363428763,
          5.239898866817942,
          4.900873070837095,
          0.11027880794050193,
          -2.378246181809146,
          -2.236167597630012,
          0.006431934150826622,
          -2.0470006083485695,
          -0.5002774461587561,
          -0.18756496042657217,
          4.734331717578828,
          -1.0215149855120307,
          -1.7113434325194585,
          -1.6875006572407998,
          -1.6395039856945477,
          -1.4481721448934493,
          -0.6376526630656009,
          5.126938627286274,
          3.614411000787903,
          4.77008091802133,
          -1.574485277762038,
          -0.38138530714271723,
          -0.1952801459427561,
          4.965874576513806,
          -0.2033244981897825,
          -0.937250722582519,
          4.7630453646862385,
          0.1385840415826694,
          -0.9838524105320482,
          0.19723695953355136,
          -0.6052035774867441,
          -1.0047027150499286,
          -2.212970744669212,
          -1.978389405578259,
          4.3287855949463765,
          4.938646602548891,
          -1.7498758071062155,
          -0.38140121422569706,
          5.068396439237838,
          0.19398469786930314,
          -2.808207323917431,
          -1.9254499524607853,
          0.0290347329247784,
          4.104089703231246,
          -0.27961292680003597,
          -1.593968726513503,
          4.7799801088242635,
          2.069283624027033,
          4.502097723714506,
          -2.314756709039175,
          -0.9282090154270808,
          -2.1145488010117743,
          -2.081581222312285,
          -0.3469083844732449,
          -0.652066604339536,
          -2.3486207502527305,
          -2.473529794532893,
          -0.6212718062281171,
          -0.8694340699309189,
          -2.159997641083307,
          -0.172720319289291,
          -1.591597557236713,
          -0.858539877830131,
          -0.4185258919477902,
          -1.0974596390216989,
          -0.25422602994406107,
          -1.5811219031312296,
          -1.2487075133048027
         ],
         "y": [
          1.0723095771948972,
          3.818030989380737,
          0.6175879148231009,
          -1.306209361944242,
          -1.3377843609102296,
          -1.8939913065973286,
          3.985918108457871,
          4.363313878173748,
          4.318744043674724,
          4.272913564352361,
          -0.46327382767932956,
          0.4049366958870346,
          -0.25219834683718023,
          -0.36936897349662545,
          -0.2685753737403559,
          -0.3098421681245338,
          0.5914199321167031,
          -0.4930788098703136,
          -1.6522722173733966,
          0.12138688213298335,
          -1.9698596776445274,
          -0.4185081365329286,
          0.2619410670932619,
          -2.0261259041415567,
          0.025448618376196053,
          -0.42340352528635183,
          0.30465440842425084,
          0.554017835104861,
          -0.4153862500178931,
          4.865206079292036,
          -1.9286762866995835,
          -1.5664896534856294,
          4.147082363217283,
          -0.5245679785634468,
          -0.4636769377506047,
          -2.0460793659152134,
          -1.6646185745093314,
          -1.8175102700113475,
          3.035194171045326,
          -0.8114407615389634,
          4.8764022990500555,
          0.19460490809367778,
          -0.030205460590409516,
          -1.219429433195312,
          3.47688457023363,
          3.9049017832802235,
          -0.257807498043215,
          -0.9499012946153791,
          -2.046718466567763,
          -1.9210278766797069,
          4.046139588439224,
          -2.5001516348596136,
          -1.1067650729392433,
          -1.7042178396614243,
          0.4381913319817423,
          -1.9283634516827028,
          0.09427910893066332,
          -1.1939200518906106,
          4.316056238495912,
          -2.445536086440252,
          3.476633066903981,
          4.557551791745762,
          4.23136326835502,
          -0.017641222957813257,
          0.7582549778771555,
          0.6397131383438976,
          -0.28771236524250404,
          0.555363343312672,
          -1.6639430713929992,
          0.24860785311820424,
          -3.0897619973843513,
          -0.422725361526375,
          -0.7843905262835649,
          -1.6613280858930295,
          0.1564738679005262,
          -1.0363379369459504,
          -0.29562866311600283,
          -1.5057006292576667,
          0.5943934133770914,
          -1.4595528861891118,
          -2.1448068502548794,
          -1.865454749622179,
          -1.2957303459829113,
          4.17034711426075,
          -1.1482423324814106,
          -1.5775174799541969,
          -2.100527884864685,
          3.570583109976493,
          -0.6945236777170537,
          -0.728196939570642,
          -0.8974903653656503,
          4.5387201633357295,
          -1.929294199641247,
          -0.1041028434656186,
          -1.2159833238696154,
          -1.8173883611736,
          -1.9238601764163448,
          -1.526457585088583,
          -2.06479152960423,
          -0.543868101244804,
          -0.0988064139439441,
          3.5220896261800165,
          0.10066318074586567,
          0.7208704861646507,
          -1.4903016219292597,
          -2.301511058177965,
          4.182244465266688,
          -1.4968390544946346,
          -0.3667258570482044,
          -2.6338546348838667,
          0.4403468951259711,
          0.5075449493024586,
          -2.0646515328957458,
          -2.317719469461548,
          -0.5006363429960176,
          -0.3005036399125188,
          -0.42818058673452275,
          -0.3384812556343335,
          -1.8350797276991089,
          -2.169801683118428,
          0.4440633339252927,
          -0.2482791549556908,
          0.23699722499211276,
          0.026835696943584217,
          -0.648948782664883,
          -1.8406815509683354,
          -0.45138953217831856,
          -2.261914536657777,
          -0.30916872811703683,
          -1.6342940078084496,
          0.3639477629075428,
          0.2574162315394336,
          0.021811477497122228,
          -0.3230869544608166,
          -0.6358495475463911,
          3.7819724543229403,
          -0.6206887449688717,
          3.0962045440670503,
          0.5218344061878846,
          0.709359220978825,
          -1.8854069268142646,
          -0.09150591772548106,
          -1.2792142026051583,
          -2.1924848479580135,
          -0.3247983248708336,
          -1.7057909595152179,
          -0.2684245207366038,
          0.27668899585258544,
          0.242094279332299,
          0.3504326857152739,
          0.294972491585589,
          2.6715673631759316,
          4.078256947681096,
          0.17057155907838237,
          0.21961468707747475,
          4.035258544341612,
          -0.8402717962049742,
          0.12167445445145196,
          4.556264161469153,
          -1.4811788999818942,
          -0.05893213840104375,
          -2.0824853889394954,
          -1.5810645396291378,
          -1.8763116357293428,
          -2.1553442683413198,
          1.1133813233849406
         ],
         "z": [
          2.1743829376990234,
          -1.1516843356168123,
          4.032895830424398,
          -1.5092593849094338,
          -0.22508957149153622,
          -1.2625660113766708,
          -1.431626474329067,
          -1.715192526619024,
          -1.3717381801812363,
          -1.7837214308324438,
          0.6289384641461943,
          0.6104796766494976,
          0.562102324760423,
          0.11256416965141286,
          1.6823722152265395,
          0.9163964075350894,
          3.44385395100078,
          0.41167834127426345,
          -1.0828265329746012,
          -0.1846323385401328,
          -1.0028169026803029,
          0.7648427748708437,
          4.0754953535064455,
          -0.9826923046733493,
          0.8371339213809952,
          0.5293290211272753,
          4.340716652287281,
          1.7561748218691986,
          1.5396444990661857,
          -1.6870359526721612,
          -2.0161373642747016,
          -1.6980668859103059,
          -1.797513964481512,
          -0.8064305009258829,
          0.8025094475004487,
          -1.058964323848469,
          -1.6600724327460405,
          -1.7219187239908242,
          -1.850072821229674,
          -0.6933135022540419,
          -1.5887204432364546,
          -0.05350412747735234,
          0.7721418497389088,
          -0.1901412642160139,
          -1.1940151041797291,
          -1.031789626632126,
          0.6993962788009821,
          -0.11760540808056756,
          -2.354954600859566,
          -1.9099429044659133,
          -2.087402318976923,
          -1.3205715863042902,
          0.5235549640119191,
          -0.7811352115344503,
          1.9579702191310329,
          -1.3422602308680416,
          0.3021080916093604,
          -0.3801624496950925,
          -1.2731976156032645,
          -1.6260111615313342,
          -1.6708810430246137,
          -1.6265969464765102,
          -1.5964338448170787,
          0.5629712889936431,
          3.461402538347551,
          3.2995062305347553,
          0.8032992755425046,
          3.749509201017689,
          -0.8699248810790159,
          1.1276639869380358,
          -1.702797904035837,
          -0.7870663420460223,
          1.4225803490919215,
          -1.9056596924274651,
          0.413216429130279,
          0.6837805402191653,
          0.3257446904815685,
          0.18242287719704955,
          3.6293924722218165,
          -0.5894743584292667,
          -1.9966530679754306,
          -1.5505553092428739,
          -1.3066884049641279,
          -0.946392604722001,
          0.2924963146858174,
          -1.1240852921922024,
          -0.8730193418704942,
          -1.698708623343498,
          0.674965187466012,
          0.7902055886764268,
          0.0545936342288558,
          -0.8801091520763278,
          -1.648443525561748,
          0.33232466795486504,
          -0.5819902159796828,
          -1.8967102568194587,
          -0.8684201000434069,
          -0.46440697015244714,
          -0.9841230395956291,
          0.7158075443452425,
          0.7146274883569632,
          -1.4744418305528137,
          0.40667608174028547,
          2.5206836367758996,
          -1.2813633993433775,
          -1.7661238792530214,
          -1.737784457013506,
          -0.7939277191618379,
          0.5935205209778605,
          -1.4116012625799472,
          3.4096351151965303,
          3.4127105763768215,
          -2.2406944995038183,
          -2.147106635601503,
          -0.8317470564580254,
          0.8511310372408358,
          0.6377006644141842,
          0.7584439827100248,
          -1.3610966584242716,
          -1.6181198917172592,
          1.2974691849710078,
          0.7707417047386071,
          0.8051226785460175,
          -0.0509764936195696,
          0.6854103863247065,
          -1.2963138278416864,
          -0.5517287967037227,
          -1.4779044915413089,
          -0.9637615118308638,
          0.22218501212984218,
          2.9176201421605175,
          2.9831138343425163,
          0.8402413874246366,
          0.8500494889877575,
          -0.5102829454381435,
          -0.8374838195366898,
          0.8066513474494019,
          -1.6011559848210657,
          2.3484715531831126,
          3.610503323282633,
          -1.4821778025041255,
          0.5703218843917304,
          -0.010715259763903917,
          -2.065623131328083,
          0.7203949044471187,
          -0.19355964913725665,
          0.8393050100451813,
          3.30066773169586,
          2.398443603885891,
          3.3563795206665983,
          2.9753939319014515,
          -2.003881030552332,
          -1.9029757707766608,
          4.2158684491687,
          4.117870301612806,
          -1.8746090166872555,
          0.03556376343971845,
          3.566059012672033,
          -1.76014370434312,
          -0.6873727498271566,
          -0.4219334541893696,
          -1.459723903024122,
          -1.6751948661345217,
          -0.8862903404400801,
          -2.2843530037236275,
          2.63855398886957
         ]
        },
        {
         "hovertemplate": "x=%{x}<br>y=%{y}<br>z=%{z}<extra></extra>",
         "legendgroup": "",
         "marker": {
          "color": "#636efa",
          "symbol": "circle"
         },
         "mode": "markers",
         "name": "",
         "scene": "scene",
         "showlegend": false,
         "type": "scatter3d",
         "x": [
          4.490783750907209,
          -1.4966074150798325,
          -0.19794912795825054,
          -1.9194157749873588,
          -1.2584877095747382,
          0.15000445682349758
         ],
         "y": [
          -0.38077792303767083,
          -1.9442277997438864,
          3.9961423814139025,
          0.4857831813291815,
          -0.4179765617331962,
          -1.8167047567507855
         ],
         "z": [
          0.6495447630309571,
          -1.6498201365414829,
          -1.5398262453086633,
          3.2774840043184685,
          0.23483169172387516,
          -0.9835203668639442
         ]
        }
       ],
       "layout": {
        "coloraxis": {
         "colorbar": {
          "title": {
           "text": "clusters"
          }
         },
         "colorscale": [
          [
           0,
           "#0d0887"
          ],
          [
           0.1111111111111111,
           "#46039f"
          ],
          [
           0.2222222222222222,
           "#7201a8"
          ],
          [
           0.3333333333333333,
           "#9c179e"
          ],
          [
           0.4444444444444444,
           "#bd3786"
          ],
          [
           0.5555555555555556,
           "#d8576b"
          ],
          [
           0.6666666666666666,
           "#ed7953"
          ],
          [
           0.7777777777777778,
           "#fb9f3a"
          ],
          [
           0.8888888888888888,
           "#fdca26"
          ],
          [
           1,
           "#f0f921"
          ]
         ]
        },
        "legend": {
         "itemsizing": "constant",
         "tracegroupgap": 0
        },
        "margin": {
         "t": 60
        },
        "scene": {
         "domain": {
          "x": [
           0,
           1
          ],
          "y": [
           0,
           1
          ]
         },
         "xaxis": {
          "title": {
           "text": "x"
          }
         },
         "yaxis": {
          "title": {
           "text": "y"
          }
         },
         "zaxis": {
          "title": {
           "text": "z"
          }
         }
        },
        "template": {
         "data": {
          "bar": [
           {
            "error_x": {
             "color": "#2a3f5f"
            },
            "error_y": {
             "color": "#2a3f5f"
            },
            "marker": {
             "line": {
              "color": "#E5ECF6",
              "width": 0.5
             }
            },
            "type": "bar"
           }
          ],
          "barpolar": [
           {
            "marker": {
             "line": {
              "color": "#E5ECF6",
              "width": 0.5
             }
            },
            "type": "barpolar"
           }
          ],
          "carpet": [
           {
            "aaxis": {
             "endlinecolor": "#2a3f5f",
             "gridcolor": "white",
             "linecolor": "white",
             "minorgridcolor": "white",
             "startlinecolor": "#2a3f5f"
            },
            "baxis": {
             "endlinecolor": "#2a3f5f",
             "gridcolor": "white",
             "linecolor": "white",
             "minorgridcolor": "white",
             "startlinecolor": "#2a3f5f"
            },
            "type": "carpet"
           }
          ],
          "choropleth": [
           {
            "colorbar": {
             "outlinewidth": 0,
             "ticks": ""
            },
            "type": "choropleth"
           }
          ],
          "contour": [
           {
            "colorbar": {
             "outlinewidth": 0,
             "ticks": ""
            },
            "colorscale": [
             [
              0,
              "#0d0887"
             ],
             [
              0.1111111111111111,
              "#46039f"
             ],
             [
              0.2222222222222222,
              "#7201a8"
             ],
             [
              0.3333333333333333,
              "#9c179e"
             ],
             [
              0.4444444444444444,
              "#bd3786"
             ],
             [
              0.5555555555555556,
              "#d8576b"
             ],
             [
              0.6666666666666666,
              "#ed7953"
             ],
             [
              0.7777777777777778,
              "#fb9f3a"
             ],
             [
              0.8888888888888888,
              "#fdca26"
             ],
             [
              1,
              "#f0f921"
             ]
            ],
            "type": "contour"
           }
          ],
          "contourcarpet": [
           {
            "colorbar": {
             "outlinewidth": 0,
             "ticks": ""
            },
            "type": "contourcarpet"
           }
          ],
          "heatmap": [
           {
            "colorbar": {
             "outlinewidth": 0,
             "ticks": ""
            },
            "colorscale": [
             [
              0,
              "#0d0887"
             ],
             [
              0.1111111111111111,
              "#46039f"
             ],
             [
              0.2222222222222222,
              "#7201a8"
             ],
             [
              0.3333333333333333,
              "#9c179e"
             ],
             [
              0.4444444444444444,
              "#bd3786"
             ],
             [
              0.5555555555555556,
              "#d8576b"
             ],
             [
              0.6666666666666666,
              "#ed7953"
             ],
             [
              0.7777777777777778,
              "#fb9f3a"
             ],
             [
              0.8888888888888888,
              "#fdca26"
             ],
             [
              1,
              "#f0f921"
             ]
            ],
            "type": "heatmap"
           }
          ],
          "heatmapgl": [
           {
            "colorbar": {
             "outlinewidth": 0,
             "ticks": ""
            },
            "colorscale": [
             [
              0,
              "#0d0887"
             ],
             [
              0.1111111111111111,
              "#46039f"
             ],
             [
              0.2222222222222222,
              "#7201a8"
             ],
             [
              0.3333333333333333,
              "#9c179e"
             ],
             [
              0.4444444444444444,
              "#bd3786"
             ],
             [
              0.5555555555555556,
              "#d8576b"
             ],
             [
              0.6666666666666666,
              "#ed7953"
             ],
             [
              0.7777777777777778,
              "#fb9f3a"
             ],
             [
              0.8888888888888888,
              "#fdca26"
             ],
             [
              1,
              "#f0f921"
             ]
            ],
            "type": "heatmapgl"
           }
          ],
          "histogram": [
           {
            "marker": {
             "colorbar": {
              "outlinewidth": 0,
              "ticks": ""
             }
            },
            "type": "histogram"
           }
          ],
          "histogram2d": [
           {
            "colorbar": {
             "outlinewidth": 0,
             "ticks": ""
            },
            "colorscale": [
             [
              0,
              "#0d0887"
             ],
             [
              0.1111111111111111,
              "#46039f"
             ],
             [
              0.2222222222222222,
              "#7201a8"
             ],
             [
              0.3333333333333333,
              "#9c179e"
             ],
             [
              0.4444444444444444,
              "#bd3786"
             ],
             [
              0.5555555555555556,
              "#d8576b"
             ],
             [
              0.6666666666666666,
              "#ed7953"
             ],
             [
              0.7777777777777778,
              "#fb9f3a"
             ],
             [
              0.8888888888888888,
              "#fdca26"
             ],
             [
              1,
              "#f0f921"
             ]
            ],
            "type": "histogram2d"
           }
          ],
          "histogram2dcontour": [
           {
            "colorbar": {
             "outlinewidth": 0,
             "ticks": ""
            },
            "colorscale": [
             [
              0,
              "#0d0887"
             ],
             [
              0.1111111111111111,
              "#46039f"
             ],
             [
              0.2222222222222222,
              "#7201a8"
             ],
             [
              0.3333333333333333,
              "#9c179e"
             ],
             [
              0.4444444444444444,
              "#bd3786"
             ],
             [
              0.5555555555555556,
              "#d8576b"
             ],
             [
              0.6666666666666666,
              "#ed7953"
             ],
             [
              0.7777777777777778,
              "#fb9f3a"
             ],
             [
              0.8888888888888888,
              "#fdca26"
             ],
             [
              1,
              "#f0f921"
             ]
            ],
            "type": "histogram2dcontour"
           }
          ],
          "mesh3d": [
           {
            "colorbar": {
             "outlinewidth": 0,
             "ticks": ""
            },
            "type": "mesh3d"
           }
          ],
          "parcoords": [
           {
            "line": {
             "colorbar": {
              "outlinewidth": 0,
              "ticks": ""
             }
            },
            "type": "parcoords"
           }
          ],
          "pie": [
           {
            "automargin": true,
            "type": "pie"
           }
          ],
          "scatter": [
           {
            "marker": {
             "colorbar": {
              "outlinewidth": 0,
              "ticks": ""
             }
            },
            "type": "scatter"
           }
          ],
          "scatter3d": [
           {
            "line": {
             "colorbar": {
              "outlinewidth": 0,
              "ticks": ""
             }
            },
            "marker": {
             "colorbar": {
              "outlinewidth": 0,
              "ticks": ""
             }
            },
            "type": "scatter3d"
           }
          ],
          "scattercarpet": [
           {
            "marker": {
             "colorbar": {
              "outlinewidth": 0,
              "ticks": ""
             }
            },
            "type": "scattercarpet"
           }
          ],
          "scattergeo": [
           {
            "marker": {
             "colorbar": {
              "outlinewidth": 0,
              "ticks": ""
             }
            },
            "type": "scattergeo"
           }
          ],
          "scattergl": [
           {
            "marker": {
             "colorbar": {
              "outlinewidth": 0,
              "ticks": ""
             }
            },
            "type": "scattergl"
           }
          ],
          "scattermapbox": [
           {
            "marker": {
             "colorbar": {
              "outlinewidth": 0,
              "ticks": ""
             }
            },
            "type": "scattermapbox"
           }
          ],
          "scatterpolar": [
           {
            "marker": {
             "colorbar": {
              "outlinewidth": 0,
              "ticks": ""
             }
            },
            "type": "scatterpolar"
           }
          ],
          "scatterpolargl": [
           {
            "marker": {
             "colorbar": {
              "outlinewidth": 0,
              "ticks": ""
             }
            },
            "type": "scatterpolargl"
           }
          ],
          "scatterternary": [
           {
            "marker": {
             "colorbar": {
              "outlinewidth": 0,
              "ticks": ""
             }
            },
            "type": "scatterternary"
           }
          ],
          "surface": [
           {
            "colorbar": {
             "outlinewidth": 0,
             "ticks": ""
            },
            "colorscale": [
             [
              0,
              "#0d0887"
             ],
             [
              0.1111111111111111,
              "#46039f"
             ],
             [
              0.2222222222222222,
              "#7201a8"
             ],
             [
              0.3333333333333333,
              "#9c179e"
             ],
             [
              0.4444444444444444,
              "#bd3786"
             ],
             [
              0.5555555555555556,
              "#d8576b"
             ],
             [
              0.6666666666666666,
              "#ed7953"
             ],
             [
              0.7777777777777778,
              "#fb9f3a"
             ],
             [
              0.8888888888888888,
              "#fdca26"
             ],
             [
              1,
              "#f0f921"
             ]
            ],
            "type": "surface"
           }
          ],
          "table": [
           {
            "cells": {
             "fill": {
              "color": "#EBF0F8"
             },
             "line": {
              "color": "white"
             }
            },
            "header": {
             "fill": {
              "color": "#C8D4E3"
             },
             "line": {
              "color": "white"
             }
            },
            "type": "table"
           }
          ]
         },
         "layout": {
          "annotationdefaults": {
           "arrowcolor": "#2a3f5f",
           "arrowhead": 0,
           "arrowwidth": 1
          },
          "coloraxis": {
           "colorbar": {
            "outlinewidth": 0,
            "ticks": ""
           }
          },
          "colorscale": {
           "diverging": [
            [
             0,
             "#8e0152"
            ],
            [
             0.1,
             "#c51b7d"
            ],
            [
             0.2,
             "#de77ae"
            ],
            [
             0.3,
             "#f1b6da"
            ],
            [
             0.4,
             "#fde0ef"
            ],
            [
             0.5,
             "#f7f7f7"
            ],
            [
             0.6,
             "#e6f5d0"
            ],
            [
             0.7,
             "#b8e186"
            ],
            [
             0.8,
             "#7fbc41"
            ],
            [
             0.9,
             "#4d9221"
            ],
            [
             1,
             "#276419"
            ]
           ],
           "sequential": [
            [
             0,
             "#0d0887"
            ],
            [
             0.1111111111111111,
             "#46039f"
            ],
            [
             0.2222222222222222,
             "#7201a8"
            ],
            [
             0.3333333333333333,
             "#9c179e"
            ],
            [
             0.4444444444444444,
             "#bd3786"
            ],
            [
             0.5555555555555556,
             "#d8576b"
            ],
            [
             0.6666666666666666,
             "#ed7953"
            ],
            [
             0.7777777777777778,
             "#fb9f3a"
            ],
            [
             0.8888888888888888,
             "#fdca26"
            ],
            [
             1,
             "#f0f921"
            ]
           ],
           "sequentialminus": [
            [
             0,
             "#0d0887"
            ],
            [
             0.1111111111111111,
             "#46039f"
            ],
            [
             0.2222222222222222,
             "#7201a8"
            ],
            [
             0.3333333333333333,
             "#9c179e"
            ],
            [
             0.4444444444444444,
             "#bd3786"
            ],
            [
             0.5555555555555556,
             "#d8576b"
            ],
            [
             0.6666666666666666,
             "#ed7953"
            ],
            [
             0.7777777777777778,
             "#fb9f3a"
            ],
            [
             0.8888888888888888,
             "#fdca26"
            ],
            [
             1,
             "#f0f921"
            ]
           ]
          },
          "colorway": [
           "#636efa",
           "#EF553B",
           "#00cc96",
           "#ab63fa",
           "#FFA15A",
           "#19d3f3",
           "#FF6692",
           "#B6E880",
           "#FF97FF",
           "#FECB52"
          ],
          "font": {
           "color": "#2a3f5f"
          },
          "geo": {
           "bgcolor": "white",
           "lakecolor": "white",
           "landcolor": "#E5ECF6",
           "showlakes": true,
           "showland": true,
           "subunitcolor": "white"
          },
          "hoverlabel": {
           "align": "left"
          },
          "hovermode": "closest",
          "mapbox": {
           "style": "light"
          },
          "paper_bgcolor": "white",
          "plot_bgcolor": "#E5ECF6",
          "polar": {
           "angularaxis": {
            "gridcolor": "white",
            "linecolor": "white",
            "ticks": ""
           },
           "bgcolor": "#E5ECF6",
           "radialaxis": {
            "gridcolor": "white",
            "linecolor": "white",
            "ticks": ""
           }
          },
          "scene": {
           "xaxis": {
            "backgroundcolor": "#E5ECF6",
            "gridcolor": "white",
            "gridwidth": 2,
            "linecolor": "white",
            "showbackground": true,
            "ticks": "",
            "zerolinecolor": "white"
           },
           "yaxis": {
            "backgroundcolor": "#E5ECF6",
            "gridcolor": "white",
            "gridwidth": 2,
            "linecolor": "white",
            "showbackground": true,
            "ticks": "",
            "zerolinecolor": "white"
           },
           "zaxis": {
            "backgroundcolor": "#E5ECF6",
            "gridcolor": "white",
            "gridwidth": 2,
            "linecolor": "white",
            "showbackground": true,
            "ticks": "",
            "zerolinecolor": "white"
           }
          },
          "shapedefaults": {
           "line": {
            "color": "#2a3f5f"
           }
          },
          "ternary": {
           "aaxis": {
            "gridcolor": "white",
            "linecolor": "white",
            "ticks": ""
           },
           "baxis": {
            "gridcolor": "white",
            "linecolor": "white",
            "ticks": ""
           },
           "bgcolor": "#E5ECF6",
           "caxis": {
            "gridcolor": "white",
            "linecolor": "white",
            "ticks": ""
           }
          },
          "title": {
           "x": 0.05
          },
          "xaxis": {
           "automargin": true,
           "gridcolor": "white",
           "linecolor": "white",
           "ticks": "",
           "title": {
            "standoff": 15
           },
           "zerolinecolor": "white",
           "zerolinewidth": 2
          },
          "yaxis": {
           "automargin": true,
           "gridcolor": "white",
           "linecolor": "white",
           "ticks": "",
           "title": {
            "standoff": 15
           },
           "zerolinecolor": "white",
           "zerolinewidth": 2
          }
         }
        }
       }
      }
     },
     "metadata": {}
    }
   ],
   "source": [
    "transformed_df = pd.DataFrame(transformed_train_X, columns=['x','y','z'])\n",
    "transformed_df['clusters'] = kmeans.labels_\n",
    "transformed_df['target'] = train_y.values\n",
    "transformed_df['name'] = df.index\n",
    "transformed_df['size'] = [1 for i in range(transformed_df.shape[0])]\n",
    "fig = px.scatter_3d(transformed_df, x='x', y='y', z='z',\n",
    "              color='clusters', hover_data=['name'], size='size', size_max=15)\n",
    "fig.add_trace(px.scatter_3d(pd.DataFrame(kmeans.cluster_centers_, columns=['x','y','z']), x='x', y='y', z='z').data[0])"
   ]
  },
  {
   "cell_type": "code",
   "execution_count": 108,
   "metadata": {},
   "outputs": [
    {
     "output_type": "display_data",
     "data": {
      "application/vnd.plotly.v1+json": {
       "config": {
        "plotlyServerURL": "https://plot.ly"
       },
       "data": [
        {
         "customdata": [
          [
           "(hot air) balloon"
          ],
          [
           "airplane"
          ],
          [
           "bicycle"
          ],
          [
           "boat"
          ],
          [
           "bus"
          ],
          [
           "car"
          ],
          [
           "carriage"
          ],
          [
           "cart"
          ],
          [
           "go-cart"
          ],
          [
           "helicopter"
          ],
          [
           "hovercraft"
          ],
          [
           "jeep"
          ],
          [
           "kick scooter"
          ],
          [
           "motorbike (moto)"
          ],
          [
           "rocket"
          ],
          [
           "scooter (bromfiets)"
          ],
          [
           "scooter (brommer)"
          ],
          [
           "skateboard"
          ],
          [
           "sled"
          ],
          [
           "submarine"
          ],
          [
           "subway train"
          ],
          [
           "taxi"
          ],
          [
           "tractor"
          ],
          [
           "trailer"
          ],
          [
           "train"
          ],
          [
           "tram"
          ],
          [
           "truck (camion)"
          ],
          [
           "truck (vrachtwagen)"
          ],
          [
           "van"
          ],
          [
           "zeppelin"
          ]
         ],
         "hovertemplate": "target=vehicle<br>x=%{x}<br>y=%{y}<br>z=%{z}<br>size=%{marker.size}<br>name=%{customdata[0]}<extra></extra>",
         "legendgroup": "vehicle",
         "marker": {
          "color": "#636efa",
          "size": [
           1,
           1,
           1,
           1,
           1,
           1,
           1,
           1,
           1,
           1,
           1,
           1,
           1,
           1,
           1,
           1,
           1,
           1,
           1,
           1,
           1,
           1,
           1,
           1,
           1,
           1,
           1,
           1,
           1,
           1
          ],
          "sizemode": "area",
          "sizeref": 0.0044444444444444444,
          "symbol": "circle"
         },
         "mode": "markers",
         "name": "vehicle",
         "scene": "scene",
         "showlegend": true,
         "type": "scatter3d",
         "x": [
          -0.362089964446857,
          -2.282239839861026,
          -0.31274988491414735,
          -1.6657212995097201,
          -2.210813812010369,
          -1.8999425372319854,
          -0.480146701628835,
          -0.7375816536155075,
          -0.8957852330620801,
          -2.3641786483840304,
          -2.0827629015518707,
          -2.0339466500387893,
          -0.40680674615829426,
          -1.9579329276072426,
          -2.236167597630012,
          -1.7113434325194585,
          -1.6875006572407998,
          -0.1952801459427561,
          -0.2033244981897825,
          -2.212970744669212,
          -1.978389405578259,
          -1.9254499524607853,
          -2.314756709039175,
          -0.9282090154270808,
          -2.1145488010117743,
          -2.081581222312285,
          -2.3486207502527305,
          -2.473529794532893,
          -2.159997641083307,
          -1.2487075133048027
         ],
         "y": [
          1.0723095771948972,
          0.6175879148231009,
          -0.2685753737403559,
          0.5914199321167031,
          0.2619410670932619,
          0.30465440842425084,
          0.554017835104861,
          -0.4153862500178931,
          0.4381913319817423,
          0.7582549778771555,
          0.6397131383438976,
          0.555363343312672,
          0.24860785311820424,
          0.5943934133770914,
          0.7208704861646507,
          0.4403468951259711,
          0.5075449493024586,
          0.4440633339252927,
          0.23699722499211276,
          0.3639477629075428,
          0.2574162315394336,
          0.709359220978825,
          0.27668899585258544,
          0.242094279332299,
          0.3504326857152739,
          0.294972491585589,
          0.17057155907838237,
          0.21961468707747475,
          0.12167445445145196,
          1.1133813233849406
         ],
         "z": [
          2.1743829376990234,
          4.032895830424398,
          1.6823722152265395,
          3.44385395100078,
          4.0754953535064455,
          4.340716652287281,
          1.7561748218691986,
          1.5396444990661857,
          1.9579702191310329,
          3.461402538347551,
          3.2995062305347553,
          3.749509201017689,
          1.1276639869380358,
          3.6293924722218165,
          2.5206836367758996,
          3.4096351151965303,
          3.4127105763768215,
          1.2974691849710078,
          0.8051226785460175,
          2.9176201421605175,
          2.9831138343425163,
          3.610503323282633,
          3.30066773169586,
          2.398443603885891,
          3.3563795206665983,
          2.9753939319014515,
          4.2158684491687,
          4.117870301612806,
          3.566059012672033,
          2.63855398886957
         ]
        },
        {
         "customdata": [
          [
           "accordion"
          ],
          [
           "bagpipe"
          ],
          [
           "banjo"
          ],
          [
           "bass guitar"
          ],
          [
           "bassoon"
          ],
          [
           "cello"
          ],
          [
           "clarinet"
          ],
          [
           "cymbals"
          ],
          [
           "double bass"
          ],
          [
           "drum"
          ],
          [
           "drum set"
          ],
          [
           "flute"
          ],
          [
           "guitar"
          ],
          [
           "harmonica"
          ],
          [
           "harp"
          ],
          [
           "harpsichord"
          ],
          [
           "organ"
          ],
          [
           "pan flute"
          ],
          [
           "piano"
          ],
          [
           "recorder"
          ],
          [
           "saxophone"
          ],
          [
           "synthesizer"
          ],
          [
           "tambourine"
          ],
          [
           "triangle"
          ],
          [
           "trombone"
          ],
          [
           "trumpet"
          ],
          [
           "violin"
          ]
         ],
         "hovertemplate": "target=musical instrument<br>x=%{x}<br>y=%{y}<br>z=%{z}<br>size=%{marker.size}<br>name=%{customdata[0]}<extra></extra>",
         "legendgroup": "musical instrument",
         "marker": {
          "color": "#EF553B",
          "size": [
           1,
           1,
           1,
           1,
           1,
           1,
           1,
           1,
           1,
           1,
           1,
           1,
           1,
           1,
           1,
           1,
           1,
           1,
           1,
           1,
           1,
           1,
           1,
           1,
           1,
           1,
           1
          ],
          "sizemode": "area",
          "sizeref": 0.0044444444444444444,
          "symbol": "circle"
         },
         "mode": "markers",
         "name": "musical instrument",
         "scene": "scene",
         "showlegend": true,
         "type": "scatter3d",
         "x": [
          0.4075842346703833,
          0.2349916074787844,
          -0.1379045383943441,
          -0.13306486236420959,
          -0.3248739461060768,
          -0.2047970885119468,
          -0.2860439486282342,
          -0.47725849342964255,
          -0.3446079230216403,
          0.1775545873206404,
          -0.4617109648045853,
          -0.48749551728939516,
          0.24957076858163252,
          -0.18793903378482898,
          -0.2244269701281896,
          -0.45439871547620125,
          -0.2740073502331001,
          0.13109771013638602,
          -0.1765137419833588,
          0.11027880794050193,
          -0.5002774461587561,
          -0.38140121422569706,
          0.19398469786930314,
          -0.3469083844732449,
          -0.652066604339536,
          -0.6212718062281171,
          -0.172720319289291
         ],
         "y": [
          3.818030989380737,
          3.985918108457871,
          4.363313878173748,
          4.318744043674724,
          4.272913564352361,
          4.865206079292036,
          4.147082363217283,
          3.035194171045326,
          4.8764022990500555,
          3.47688457023363,
          3.9049017832802235,
          4.046139588439224,
          4.316056238495912,
          3.476633066903981,
          4.557551791745762,
          4.23136326835502,
          4.17034711426075,
          3.570583109976493,
          4.5387201633357295,
          3.5220896261800165,
          4.182244465266688,
          3.7819724543229403,
          3.0962045440670503,
          2.6715673631759316,
          4.078256947681096,
          4.035258544341612,
          4.556264161469153
         ],
         "z": [
          -1.1516843356168123,
          -1.431626474329067,
          -1.715192526619024,
          -1.3717381801812363,
          -1.7837214308324438,
          -1.6870359526721612,
          -1.797513964481512,
          -1.850072821229674,
          -1.5887204432364546,
          -1.1940151041797291,
          -1.031789626632126,
          -2.087402318976923,
          -1.2731976156032645,
          -1.6708810430246137,
          -1.6265969464765102,
          -1.5964338448170787,
          -0.946392604722001,
          -1.698708623343498,
          -0.8801091520763278,
          -1.4744418305528137,
          -1.737784457013506,
          -0.8374838195366898,
          -1.6011559848210657,
          -2.003881030552332,
          -1.9029757707766608,
          -1.8746090166872555,
          -1.76014370434312
         ]
        },
        {
         "customdata": [
          [
           "anvil"
          ],
          [
           "axe"
          ],
          [
           "chisel"
          ],
          [
           "clamp"
          ],
          [
           "crowbar (breekijzer)"
          ],
          [
           "crowbar (koevoet)"
          ],
          [
           "drill"
          ],
          [
           "file"
          ],
          [
           "filling knife"
          ],
          [
           "grinding disc"
          ],
          [
           "hammer"
          ],
          [
           "lawn mower"
          ],
          [
           "level"
          ],
          [
           "nail"
          ],
          [
           "oil can"
          ],
          [
           "paint brush"
          ],
          [
           "pickaxe"
          ],
          [
           "plane"
          ],
          [
           "plough"
          ],
          [
           "rope"
          ],
          [
           "saw"
          ],
          [
           "screw wrench (engelse sleutel)"
          ],
          [
           "screwdriver"
          ],
          [
           "shovel"
          ],
          [
           "tongs"
          ],
          [
           "vacuum cleaner"
          ],
          [
           "wheelbarrow"
          ],
          [
           "wire brush"
          ],
          [
           "wrench"
          ]
         ],
         "hovertemplate": "target=tool<br>x=%{x}<br>y=%{y}<br>z=%{z}<br>size=%{marker.size}<br>name=%{customdata[0]}<extra></extra>",
         "legendgroup": "tool",
         "marker": {
          "color": "#00cc96",
          "size": [
           1,
           1,
           1,
           1,
           1,
           1,
           1,
           1,
           1,
           1,
           1,
           1,
           1,
           1,
           1,
           1,
           1,
           1,
           1,
           1,
           1,
           1,
           1,
           1,
           1,
           1,
           1,
           1,
           1
          ],
          "sizemode": "area",
          "sizeref": 0.0044444444444444444,
          "symbol": "circle"
         },
         "mode": "markers",
         "name": "tool",
         "scene": "scene",
         "showlegend": true,
         "type": "scatter3d",
         "x": [
          -1.755936399594796,
          -2.044250546469711,
          -1.657254297842627,
          -1.4400678316183302,
          -2.047762317782136,
          -1.9621179807493347,
          -2.1246761282194746,
          -1.2054162497314633,
          -1.5506817523786123,
          -2.2973498307703597,
          -1.740158521753064,
          -1.7922723422310656,
          -0.9780661441905454,
          -1.395660210269061,
          -1.0190485811826242,
          -0.09893932264422231,
          -2.049370988098536,
          -1.6345160744316054,
          -1.8287564618320573,
          0.006431934150826622,
          -2.0470006083485695,
          -1.6395039856945477,
          -1.4481721448934493,
          -1.574485277762038,
          -1.593968726513503,
          -0.8694340699309189,
          -1.591597557236713,
          -1.0974596390216989,
          -1.5811219031312296
         ],
         "y": [
          -1.306209361944242,
          -1.8939913065973286,
          -1.9286762866995835,
          -1.5664896534856294,
          -1.6646185745093314,
          -1.8175102700113475,
          -1.219429433195312,
          -2.046718466567763,
          -1.9210278766797069,
          -1.1939200518906106,
          -2.445536086440252,
          -0.7843905262835649,
          -1.6613280858930295,
          -2.1448068502548794,
          -1.2957303459829113,
          -1.5775174799541969,
          -1.929294199641247,
          -1.8173883611736,
          -1.526457585088583,
          -1.4903016219292597,
          -2.301511058177965,
          -2.0646515328957458,
          -2.317719469461548,
          -1.8350797276991089,
          -2.1924848479580135,
          -0.8402717962049742,
          -1.4811788999818942,
          -1.5810645396291378,
          -2.1553442683413198
         ],
         "z": [
          -1.5092593849094338,
          -1.2625660113766708,
          -2.0161373642747016,
          -1.6980668859103059,
          -1.6600724327460405,
          -1.7219187239908242,
          -0.1901412642160139,
          -2.354954600859566,
          -1.9099429044659133,
          -0.3801624496950925,
          -1.6260111615313342,
          1.4225803490919215,
          -1.9056596924274651,
          -1.9966530679754306,
          -1.3066884049641279,
          -1.1240852921922024,
          -1.648443525561748,
          -1.8967102568194587,
          -0.46440697015244714,
          -1.2813633993433775,
          -1.7661238792530214,
          -2.2406944995038183,
          -2.147106635601503,
          -1.3610966584242716,
          -2.065623131328083,
          0.03556376343971845,
          -0.6873727498271566,
          -1.6751948661345217,
          -2.2843530037236275
         ]
        },
        {
         "customdata": [
          [
           "apron"
          ],
          [
           "bottle"
          ],
          [
           "bowl"
          ],
          [
           "can opener"
          ],
          [
           "colander"
          ],
          [
           "electric kettle"
          ],
          [
           "fork"
          ],
          [
           "fridge"
          ],
          [
           "glass"
          ],
          [
           "grater"
          ],
          [
           "kettle"
          ],
          [
           "knife"
          ],
          [
           "microwave oven"
          ],
          [
           "mixer"
          ],
          [
           "mug"
          ],
          [
           "nutcracker"
          ],
          [
           "oven"
          ],
          [
           "pan"
          ],
          [
           "percolator"
          ],
          [
           "place mat"
          ],
          [
           "plate"
          ],
          [
           "pot"
          ],
          [
           "scales"
          ],
          [
           "scissors"
          ],
          [
           "sieve"
          ],
          [
           "spatula"
          ],
          [
           "spoon"
          ],
          [
           "stove"
          ],
          [
           "teaspoon"
          ],
          [
           "toaster"
          ],
          [
           "towel"
          ],
          [
           "whisk"
          ],
          [
           "wok"
          ]
         ],
         "hovertemplate": "target=kitchen utensil<br>x=%{x}<br>y=%{y}<br>z=%{z}<br>size=%{marker.size}<br>name=%{customdata[0]}<extra></extra>",
         "legendgroup": "kitchen utensil",
         "marker": {
          "color": "#ab63fa",
          "size": [
           1,
           1,
           1,
           1,
           1,
           1,
           1,
           1,
           1,
           1,
           1,
           1,
           1,
           1,
           1,
           1,
           1,
           1,
           1,
           1,
           1,
           1,
           1,
           1,
           1,
           1,
           1,
           1,
           1,
           1,
           1,
           1,
           1
          ],
          "sizemode": "area",
          "sizeref": 0.0044444444444444444,
          "symbol": "circle"
         },
         "mode": "markers",
         "name": "kitchen utensil",
         "scene": "scene",
         "showlegend": true,
         "type": "scatter3d",
         "x": [
          2.575004001578198,
          0.15551938685468605,
          0.3327451254186529,
          -0.8331470636539376,
          -0.0978296911991259,
          -0.5641417083409456,
          -0.1693209555227144,
          -0.7920316127247531,
          0.30139700497726096,
          -0.8832674224675396,
          -0.44879255750032965,
          -1.5076477498346068,
          -0.9140329836066028,
          -1.0899791358617588,
          1.019229291834653,
          -0.7770562002409547,
          -1.191150673690675,
          -0.23019202215343232,
          -0.4656063492028127,
          1.1422166580713167,
          0.6361227096568074,
          -0.16131375363428763,
          -0.18756496042657217,
          -1.0215149855120307,
          -0.38138530714271723,
          0.1385840415826694,
          0.19723695953355136,
          -1.0047027150499286,
          0.0290347329247784,
          -0.27961292680003597,
          2.069283624027033,
          -0.4185258919477902,
          -0.25422602994406107
         ],
         "y": [
          -1.3377843609102296,
          -1.6522722173733966,
          -1.9698596776445274,
          -2.0261259041415567,
          -2.0460793659152134,
          -0.9499012946153791,
          -2.5001516348596136,
          -1.1067650729392433,
          -1.7042178396614243,
          -1.9283634516827028,
          -1.6639430713929992,
          -3.0897619973843513,
          -1.0363379369459504,
          -1.5057006292576667,
          -1.4595528861891118,
          -1.865454749622179,
          -1.1482423324814106,
          -2.100527884864685,
          -0.8974903653656503,
          -1.2159833238696154,
          -1.9238601764163448,
          -2.06479152960423,
          -1.4968390544946346,
          -2.6338546348838667,
          -2.169801683118428,
          -1.8406815509683354,
          -2.261914536657777,
          -1.6342940078084496,
          -1.8854069268142646,
          -1.2792142026051583,
          -1.7057909595152179,
          -2.0824853889394954,
          -1.8763116357293428
         ],
         "z": [
          -0.22508957149153622,
          -1.0828265329746012,
          -1.0028169026803029,
          -0.9826923046733493,
          -1.058964323848469,
          -0.11760540808056756,
          -1.3205715863042902,
          0.5235549640119191,
          -0.7811352115344503,
          -1.3422602308680416,
          -0.8699248810790159,
          -1.702797904035837,
          0.6837805402191653,
          0.18242287719704955,
          -0.5894743584292667,
          -1.5505553092428739,
          0.2924963146858174,
          -0.8730193418704942,
          0.0545936342288558,
          -0.5819902159796828,
          -0.8684201000434069,
          -0.9841230395956291,
          -0.7939277191618379,
          -1.4116012625799472,
          -1.6181198917172592,
          -1.2963138278416864,
          -1.4779044915413089,
          0.22218501212984218,
          -1.4821778025041255,
          -0.010715259763903917,
          -0.19355964913725665,
          -1.459723903024122,
          -0.8862903404400801
         ]
        },
        {
         "customdata": [
          [
           "bathing suit"
          ],
          [
           "beanie"
          ],
          [
           "belt"
          ],
          [
           "blouse"
          ],
          [
           "boots"
          ],
          [
           "bra"
          ],
          [
           "cap"
          ],
          [
           "coat"
          ],
          [
           "dress"
          ],
          [
           "dungarees"
          ],
          [
           "hat"
          ],
          [
           "jeans"
          ],
          [
           "mittens"
          ],
          [
           "panties"
          ],
          [
           "pants"
          ],
          [
           "pullover"
          ],
          [
           "pyjamas"
          ],
          [
           "scarf"
          ],
          [
           "shirt"
          ],
          [
           "shoes"
          ],
          [
           "shorts"
          ],
          [
           "skirt"
          ],
          [
           "socks"
          ],
          [
           "suit"
          ],
          [
           "sweater"
          ],
          [
           "t-shirt"
          ],
          [
           "tie"
          ],
          [
           "top"
          ],
          [
           "tracksuit"
          ]
         ],
         "hovertemplate": "target=clothing<br>x=%{x}<br>y=%{y}<br>z=%{z}<br>size=%{marker.size}<br>name=%{customdata[0]}<extra></extra>",
         "legendgroup": "clothing",
         "marker": {
          "color": "#FFA15A",
          "size": [
           1,
           1,
           1,
           1,
           1,
           1,
           1,
           1,
           1,
           1,
           1,
           1,
           1,
           1,
           1,
           1,
           1,
           1,
           1,
           1,
           1,
           1,
           1,
           1,
           1,
           1,
           1,
           1,
           1
          ],
          "sizemode": "area",
          "sizeref": 0.0044444444444444444,
          "symbol": "circle"
         },
         "mode": "markers",
         "name": "clothing",
         "scene": "scene",
         "showlegend": true,
         "type": "scatter3d",
         "x": [
          4.374634075624096,
          4.318961171393271,
          3.1512000777503557,
          5.164361243768181,
          3.1544291388970747,
          4.60653203308228,
          4.237922767412,
          4.9519785921193264,
          5.011066753924165,
          4.321818777815318,
          4.162824217391022,
          4.549341806305323,
          4.173715992331031,
          4.976044853146811,
          5.156226709645264,
          5.239898866817942,
          4.900873070837095,
          4.734331717578828,
          5.126938627286274,
          3.614411000787903,
          4.77008091802133,
          4.965874576513806,
          4.7630453646862385,
          4.3287855949463765,
          4.938646602548891,
          5.068396439237838,
          4.104089703231246,
          4.7799801088242635,
          4.502097723714506
         ],
         "y": [
          -0.46327382767932956,
          -0.25219834683718023,
          -0.36936897349662545,
          -0.3098421681245338,
          -0.4930788098703136,
          -0.4185081365329286,
          -0.42340352528635183,
          -0.4636769377506047,
          -0.030205460590409516,
          -0.257807498043215,
          -0.017641222957813257,
          -0.28771236524250404,
          -0.29562866311600283,
          -0.6945236777170537,
          -0.728196939570642,
          -0.543868101244804,
          -0.0988064139439441,
          -0.3667258570482044,
          -0.3005036399125188,
          -0.42818058673452275,
          -0.3384812556343335,
          -0.2482791549556908,
          -0.648948782664883,
          0.021811477497122228,
          -0.3230869544608166,
          -0.6206887449688717,
          -0.09150591772548106,
          -0.3247983248708336,
          -0.2684245207366038
         ],
         "z": [
          0.6289384641461943,
          0.562102324760423,
          0.11256416965141286,
          0.9163964075350894,
          0.41167834127426345,
          0.7648427748708437,
          0.5293290211272753,
          0.8025094475004487,
          0.7721418497389088,
          0.6993962788009821,
          0.5629712889936431,
          0.8032992755425046,
          0.3257446904815685,
          0.674965187466012,
          0.7902055886764268,
          0.7158075443452425,
          0.7146274883569632,
          0.5935205209778605,
          0.8511310372408358,
          0.6377006644141842,
          0.7584439827100248,
          0.7707417047386071,
          0.6854103863247065,
          0.8402413874246366,
          0.8500494889877575,
          0.8066513474494019,
          0.5703218843917304,
          0.7203949044471187,
          0.8393050100451813
         ]
        },
        {
         "customdata": [
          [
           "bazooka"
          ],
          [
           "bow"
          ],
          [
           "canon"
          ],
          [
           "club"
          ],
          [
           "dagger"
          ],
          [
           "double-barreled shotgun"
          ],
          [
           "grenade"
          ],
          [
           "knuckle dusters"
          ],
          [
           "machine gun"
          ],
          [
           "pistol"
          ],
          [
           "rifle"
          ],
          [
           "shield"
          ],
          [
           "slingshot"
          ],
          [
           "spear"
          ],
          [
           "stick"
          ],
          [
           "sword"
          ],
          [
           "tank"
          ],
          [
           "whip"
          ]
         ],
         "hovertemplate": "target=weapon<br>x=%{x}<br>y=%{y}<br>z=%{z}<br>size=%{marker.size}<br>name=%{customdata[0]}<extra></extra>",
         "legendgroup": "weapon",
         "marker": {
          "color": "#19d3f3",
          "size": [
           1,
           1,
           1,
           1,
           1,
           1,
           1,
           1,
           1,
           1,
           1,
           1,
           1,
           1,
           1,
           1,
           1,
           1
          ],
          "sizemode": "area",
          "sizeref": 0.0044444444444444444,
          "symbol": "circle"
         },
         "mode": "markers",
         "name": "weapon",
         "scene": "scene",
         "showlegend": true,
         "type": "scatter3d",
         "x": [
          -2.627578042757783,
          -1.08335517504469,
          -2.5309719877399055,
          -1.2406589825899252,
          -1.5157344443335772,
          -2.3469888363341735,
          -1.9276727600491164,
          -1.1754398289470778,
          -2.4860271072482014,
          -2.2622665400056237,
          -2.378246181809146,
          -0.6376526630656009,
          -0.937250722582519,
          -0.9838524105320482,
          -0.6052035774867441,
          -1.7498758071062155,
          -2.808207323917431,
          -0.858539877830131
         ],
         "y": [
          0.4049366958870346,
          0.12138688213298335,
          0.025448618376196053,
          -0.5245679785634468,
          -0.8114407615389634,
          0.19460490809367778,
          0.09427910893066332,
          -0.422725361526375,
          0.1564738679005262,
          -0.1041028434656186,
          0.10066318074586567,
          -0.5006363429960176,
          0.026835696943584217,
          -0.45138953217831856,
          -0.30916872811703683,
          -0.6358495475463911,
          0.5218344061878846,
          -0.05893213840104375
         ],
         "z": [
          0.6104796766494976,
          -0.1846323385401328,
          0.8371339213809952,
          -0.8064305009258829,
          -0.6933135022540419,
          -0.05350412747735234,
          0.3021080916093604,
          -0.7870663420460223,
          0.413216429130279,
          0.33232466795486504,
          0.40667608174028547,
          -0.8317470564580254,
          -0.0509764936195696,
          -0.5517287967037227,
          -0.9637615118308638,
          -0.5102829454381435,
          2.3484715531831126,
          -0.4219334541893696
         ]
        }
       ],
       "layout": {
        "legend": {
         "itemsizing": "constant",
         "title": {
          "text": "target"
         },
         "tracegroupgap": 0
        },
        "margin": {
         "t": 60
        },
        "scene": {
         "domain": {
          "x": [
           0,
           1
          ],
          "y": [
           0,
           1
          ]
         },
         "xaxis": {
          "title": {
           "text": "x"
          }
         },
         "yaxis": {
          "title": {
           "text": "y"
          }
         },
         "zaxis": {
          "title": {
           "text": "z"
          }
         }
        },
        "template": {
         "data": {
          "bar": [
           {
            "error_x": {
             "color": "#2a3f5f"
            },
            "error_y": {
             "color": "#2a3f5f"
            },
            "marker": {
             "line": {
              "color": "#E5ECF6",
              "width": 0.5
             }
            },
            "type": "bar"
           }
          ],
          "barpolar": [
           {
            "marker": {
             "line": {
              "color": "#E5ECF6",
              "width": 0.5
             }
            },
            "type": "barpolar"
           }
          ],
          "carpet": [
           {
            "aaxis": {
             "endlinecolor": "#2a3f5f",
             "gridcolor": "white",
             "linecolor": "white",
             "minorgridcolor": "white",
             "startlinecolor": "#2a3f5f"
            },
            "baxis": {
             "endlinecolor": "#2a3f5f",
             "gridcolor": "white",
             "linecolor": "white",
             "minorgridcolor": "white",
             "startlinecolor": "#2a3f5f"
            },
            "type": "carpet"
           }
          ],
          "choropleth": [
           {
            "colorbar": {
             "outlinewidth": 0,
             "ticks": ""
            },
            "type": "choropleth"
           }
          ],
          "contour": [
           {
            "colorbar": {
             "outlinewidth": 0,
             "ticks": ""
            },
            "colorscale": [
             [
              0,
              "#0d0887"
             ],
             [
              0.1111111111111111,
              "#46039f"
             ],
             [
              0.2222222222222222,
              "#7201a8"
             ],
             [
              0.3333333333333333,
              "#9c179e"
             ],
             [
              0.4444444444444444,
              "#bd3786"
             ],
             [
              0.5555555555555556,
              "#d8576b"
             ],
             [
              0.6666666666666666,
              "#ed7953"
             ],
             [
              0.7777777777777778,
              "#fb9f3a"
             ],
             [
              0.8888888888888888,
              "#fdca26"
             ],
             [
              1,
              "#f0f921"
             ]
            ],
            "type": "contour"
           }
          ],
          "contourcarpet": [
           {
            "colorbar": {
             "outlinewidth": 0,
             "ticks": ""
            },
            "type": "contourcarpet"
           }
          ],
          "heatmap": [
           {
            "colorbar": {
             "outlinewidth": 0,
             "ticks": ""
            },
            "colorscale": [
             [
              0,
              "#0d0887"
             ],
             [
              0.1111111111111111,
              "#46039f"
             ],
             [
              0.2222222222222222,
              "#7201a8"
             ],
             [
              0.3333333333333333,
              "#9c179e"
             ],
             [
              0.4444444444444444,
              "#bd3786"
             ],
             [
              0.5555555555555556,
              "#d8576b"
             ],
             [
              0.6666666666666666,
              "#ed7953"
             ],
             [
              0.7777777777777778,
              "#fb9f3a"
             ],
             [
              0.8888888888888888,
              "#fdca26"
             ],
             [
              1,
              "#f0f921"
             ]
            ],
            "type": "heatmap"
           }
          ],
          "heatmapgl": [
           {
            "colorbar": {
             "outlinewidth": 0,
             "ticks": ""
            },
            "colorscale": [
             [
              0,
              "#0d0887"
             ],
             [
              0.1111111111111111,
              "#46039f"
             ],
             [
              0.2222222222222222,
              "#7201a8"
             ],
             [
              0.3333333333333333,
              "#9c179e"
             ],
             [
              0.4444444444444444,
              "#bd3786"
             ],
             [
              0.5555555555555556,
              "#d8576b"
             ],
             [
              0.6666666666666666,
              "#ed7953"
             ],
             [
              0.7777777777777778,
              "#fb9f3a"
             ],
             [
              0.8888888888888888,
              "#fdca26"
             ],
             [
              1,
              "#f0f921"
             ]
            ],
            "type": "heatmapgl"
           }
          ],
          "histogram": [
           {
            "marker": {
             "colorbar": {
              "outlinewidth": 0,
              "ticks": ""
             }
            },
            "type": "histogram"
           }
          ],
          "histogram2d": [
           {
            "colorbar": {
             "outlinewidth": 0,
             "ticks": ""
            },
            "colorscale": [
             [
              0,
              "#0d0887"
             ],
             [
              0.1111111111111111,
              "#46039f"
             ],
             [
              0.2222222222222222,
              "#7201a8"
             ],
             [
              0.3333333333333333,
              "#9c179e"
             ],
             [
              0.4444444444444444,
              "#bd3786"
             ],
             [
              0.5555555555555556,
              "#d8576b"
             ],
             [
              0.6666666666666666,
              "#ed7953"
             ],
             [
              0.7777777777777778,
              "#fb9f3a"
             ],
             [
              0.8888888888888888,
              "#fdca26"
             ],
             [
              1,
              "#f0f921"
             ]
            ],
            "type": "histogram2d"
           }
          ],
          "histogram2dcontour": [
           {
            "colorbar": {
             "outlinewidth": 0,
             "ticks": ""
            },
            "colorscale": [
             [
              0,
              "#0d0887"
             ],
             [
              0.1111111111111111,
              "#46039f"
             ],
             [
              0.2222222222222222,
              "#7201a8"
             ],
             [
              0.3333333333333333,
              "#9c179e"
             ],
             [
              0.4444444444444444,
              "#bd3786"
             ],
             [
              0.5555555555555556,
              "#d8576b"
             ],
             [
              0.6666666666666666,
              "#ed7953"
             ],
             [
              0.7777777777777778,
              "#fb9f3a"
             ],
             [
              0.8888888888888888,
              "#fdca26"
             ],
             [
              1,
              "#f0f921"
             ]
            ],
            "type": "histogram2dcontour"
           }
          ],
          "mesh3d": [
           {
            "colorbar": {
             "outlinewidth": 0,
             "ticks": ""
            },
            "type": "mesh3d"
           }
          ],
          "parcoords": [
           {
            "line": {
             "colorbar": {
              "outlinewidth": 0,
              "ticks": ""
             }
            },
            "type": "parcoords"
           }
          ],
          "pie": [
           {
            "automargin": true,
            "type": "pie"
           }
          ],
          "scatter": [
           {
            "marker": {
             "colorbar": {
              "outlinewidth": 0,
              "ticks": ""
             }
            },
            "type": "scatter"
           }
          ],
          "scatter3d": [
           {
            "line": {
             "colorbar": {
              "outlinewidth": 0,
              "ticks": ""
             }
            },
            "marker": {
             "colorbar": {
              "outlinewidth": 0,
              "ticks": ""
             }
            },
            "type": "scatter3d"
           }
          ],
          "scattercarpet": [
           {
            "marker": {
             "colorbar": {
              "outlinewidth": 0,
              "ticks": ""
             }
            },
            "type": "scattercarpet"
           }
          ],
          "scattergeo": [
           {
            "marker": {
             "colorbar": {
              "outlinewidth": 0,
              "ticks": ""
             }
            },
            "type": "scattergeo"
           }
          ],
          "scattergl": [
           {
            "marker": {
             "colorbar": {
              "outlinewidth": 0,
              "ticks": ""
             }
            },
            "type": "scattergl"
           }
          ],
          "scattermapbox": [
           {
            "marker": {
             "colorbar": {
              "outlinewidth": 0,
              "ticks": ""
             }
            },
            "type": "scattermapbox"
           }
          ],
          "scatterpolar": [
           {
            "marker": {
             "colorbar": {
              "outlinewidth": 0,
              "ticks": ""
             }
            },
            "type": "scatterpolar"
           }
          ],
          "scatterpolargl": [
           {
            "marker": {
             "colorbar": {
              "outlinewidth": 0,
              "ticks": ""
             }
            },
            "type": "scatterpolargl"
           }
          ],
          "scatterternary": [
           {
            "marker": {
             "colorbar": {
              "outlinewidth": 0,
              "ticks": ""
             }
            },
            "type": "scatterternary"
           }
          ],
          "surface": [
           {
            "colorbar": {
             "outlinewidth": 0,
             "ticks": ""
            },
            "colorscale": [
             [
              0,
              "#0d0887"
             ],
             [
              0.1111111111111111,
              "#46039f"
             ],
             [
              0.2222222222222222,
              "#7201a8"
             ],
             [
              0.3333333333333333,
              "#9c179e"
             ],
             [
              0.4444444444444444,
              "#bd3786"
             ],
             [
              0.5555555555555556,
              "#d8576b"
             ],
             [
              0.6666666666666666,
              "#ed7953"
             ],
             [
              0.7777777777777778,
              "#fb9f3a"
             ],
             [
              0.8888888888888888,
              "#fdca26"
             ],
             [
              1,
              "#f0f921"
             ]
            ],
            "type": "surface"
           }
          ],
          "table": [
           {
            "cells": {
             "fill": {
              "color": "#EBF0F8"
             },
             "line": {
              "color": "white"
             }
            },
            "header": {
             "fill": {
              "color": "#C8D4E3"
             },
             "line": {
              "color": "white"
             }
            },
            "type": "table"
           }
          ]
         },
         "layout": {
          "annotationdefaults": {
           "arrowcolor": "#2a3f5f",
           "arrowhead": 0,
           "arrowwidth": 1
          },
          "coloraxis": {
           "colorbar": {
            "outlinewidth": 0,
            "ticks": ""
           }
          },
          "colorscale": {
           "diverging": [
            [
             0,
             "#8e0152"
            ],
            [
             0.1,
             "#c51b7d"
            ],
            [
             0.2,
             "#de77ae"
            ],
            [
             0.3,
             "#f1b6da"
            ],
            [
             0.4,
             "#fde0ef"
            ],
            [
             0.5,
             "#f7f7f7"
            ],
            [
             0.6,
             "#e6f5d0"
            ],
            [
             0.7,
             "#b8e186"
            ],
            [
             0.8,
             "#7fbc41"
            ],
            [
             0.9,
             "#4d9221"
            ],
            [
             1,
             "#276419"
            ]
           ],
           "sequential": [
            [
             0,
             "#0d0887"
            ],
            [
             0.1111111111111111,
             "#46039f"
            ],
            [
             0.2222222222222222,
             "#7201a8"
            ],
            [
             0.3333333333333333,
             "#9c179e"
            ],
            [
             0.4444444444444444,
             "#bd3786"
            ],
            [
             0.5555555555555556,
             "#d8576b"
            ],
            [
             0.6666666666666666,
             "#ed7953"
            ],
            [
             0.7777777777777778,
             "#fb9f3a"
            ],
            [
             0.8888888888888888,
             "#fdca26"
            ],
            [
             1,
             "#f0f921"
            ]
           ],
           "sequentialminus": [
            [
             0,
             "#0d0887"
            ],
            [
             0.1111111111111111,
             "#46039f"
            ],
            [
             0.2222222222222222,
             "#7201a8"
            ],
            [
             0.3333333333333333,
             "#9c179e"
            ],
            [
             0.4444444444444444,
             "#bd3786"
            ],
            [
             0.5555555555555556,
             "#d8576b"
            ],
            [
             0.6666666666666666,
             "#ed7953"
            ],
            [
             0.7777777777777778,
             "#fb9f3a"
            ],
            [
             0.8888888888888888,
             "#fdca26"
            ],
            [
             1,
             "#f0f921"
            ]
           ]
          },
          "colorway": [
           "#636efa",
           "#EF553B",
           "#00cc96",
           "#ab63fa",
           "#FFA15A",
           "#19d3f3",
           "#FF6692",
           "#B6E880",
           "#FF97FF",
           "#FECB52"
          ],
          "font": {
           "color": "#2a3f5f"
          },
          "geo": {
           "bgcolor": "white",
           "lakecolor": "white",
           "landcolor": "#E5ECF6",
           "showlakes": true,
           "showland": true,
           "subunitcolor": "white"
          },
          "hoverlabel": {
           "align": "left"
          },
          "hovermode": "closest",
          "mapbox": {
           "style": "light"
          },
          "paper_bgcolor": "white",
          "plot_bgcolor": "#E5ECF6",
          "polar": {
           "angularaxis": {
            "gridcolor": "white",
            "linecolor": "white",
            "ticks": ""
           },
           "bgcolor": "#E5ECF6",
           "radialaxis": {
            "gridcolor": "white",
            "linecolor": "white",
            "ticks": ""
           }
          },
          "scene": {
           "xaxis": {
            "backgroundcolor": "#E5ECF6",
            "gridcolor": "white",
            "gridwidth": 2,
            "linecolor": "white",
            "showbackground": true,
            "ticks": "",
            "zerolinecolor": "white"
           },
           "yaxis": {
            "backgroundcolor": "#E5ECF6",
            "gridcolor": "white",
            "gridwidth": 2,
            "linecolor": "white",
            "showbackground": true,
            "ticks": "",
            "zerolinecolor": "white"
           },
           "zaxis": {
            "backgroundcolor": "#E5ECF6",
            "gridcolor": "white",
            "gridwidth": 2,
            "linecolor": "white",
            "showbackground": true,
            "ticks": "",
            "zerolinecolor": "white"
           }
          },
          "shapedefaults": {
           "line": {
            "color": "#2a3f5f"
           }
          },
          "ternary": {
           "aaxis": {
            "gridcolor": "white",
            "linecolor": "white",
            "ticks": ""
           },
           "baxis": {
            "gridcolor": "white",
            "linecolor": "white",
            "ticks": ""
           },
           "bgcolor": "#E5ECF6",
           "caxis": {
            "gridcolor": "white",
            "linecolor": "white",
            "ticks": ""
           }
          },
          "title": {
           "x": 0.05
          },
          "xaxis": {
           "automargin": true,
           "gridcolor": "white",
           "linecolor": "white",
           "ticks": "",
           "title": {
            "standoff": 15
           },
           "zerolinecolor": "white",
           "zerolinewidth": 2
          },
          "yaxis": {
           "automargin": true,
           "gridcolor": "white",
           "linecolor": "white",
           "ticks": "",
           "title": {
            "standoff": 15
           },
           "zerolinecolor": "white",
           "zerolinewidth": 2
          }
         }
        }
       }
      }
     },
     "metadata": {}
    }
   ],
   "source": [
    "transformed_df = pd.DataFrame(transformed_train_X, columns=['x','y','z'])\n",
    "transformed_df['clusters'] = kmeans.labels_\n",
    "transformed_df['target'] = train_y.values\n",
    "transformed_df['name'] = df.index\n",
    "transformed_df['size'] = [1 for i in range(transformed_df.shape[0])]\n",
    "px.scatter_3d(transformed_df, x='x', y='y', z='z',\n",
    "              color='target', hover_data=['name'],size='size', size_max=15)"
   ]
  },
  {
   "cell_type": "code",
   "execution_count": null,
   "metadata": {},
   "outputs": [],
   "source": []
  }
 ]
}