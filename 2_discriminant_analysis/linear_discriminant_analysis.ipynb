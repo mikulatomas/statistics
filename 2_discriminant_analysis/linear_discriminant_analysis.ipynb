{
 "metadata": {
  "language_info": {
   "codemirror_mode": {
    "name": "ipython",
    "version": 3
   },
   "file_extension": ".py",
   "mimetype": "text/x-python",
   "name": "python",
   "nbconvert_exporter": "python",
   "pygments_lexer": "ipython3",
   "version": "3.8.9"
  },
  "orig_nbformat": 2,
  "kernelspec": {
   "name": "python389jvsc74a57bd0082a18f759f8afdec9b7eec773590a36e4c3be1cd97bea91855dea5176a8175a",
   "display_name": "Python 3.8.9 64-bit ('fcapy': virtualenvwrapper)"
  }
 },
 "nbformat": 4,
 "nbformat_minor": 2,
 "cells": [
  {
   "cell_type": "code",
   "execution_count": 59,
   "metadata": {},
   "outputs": [],
   "source": [
    "import os\n",
    "import pandas as pd\n",
    "import numpy as np\n",
    "import plotly.express as px\n",
    "import seaborn as sns\n",
    "\n",
    "from sklearn.discriminant_analysis import LinearDiscriminantAnalysis\n",
    "from sklearn.metrics import classification_report, confusion_matrix\n",
    "from sklearn.model_selection import train_test_split\n",
    "from sklearn.preprocessing import StandardScaler\n",
    "\n",
    "from statsmodels.stats.outliers_influence import variance_inflation_factor"
   ]
  },
  {
   "source": [
    "# CS:GO Round Winner Classification\n",
    "\n",
    "\n",
    "URL: https://www.kaggle.com/christianlillelund/csgo-round-winner-classification"
   ],
   "cell_type": "markdown",
   "metadata": {}
  },
  {
   "cell_type": "code",
   "execution_count": 60,
   "metadata": {},
   "outputs": [
    {
     "output_type": "execute_result",
     "data": {
      "text/plain": [
       "(122410, 97)"
      ]
     },
     "metadata": {},
     "execution_count": 60
    }
   ],
   "source": [
    "df_cs = pd.read_csv(os.path.join('dataset', 'csgo_round_snapshots.csv'))\n",
    "df_cs.shape"
   ]
  },
  {
   "cell_type": "code",
   "execution_count": 61,
   "metadata": {},
   "outputs": [
    {
     "output_type": "execute_result",
     "data": {
      "text/plain": [
       "   time_left  ct_score  t_score       map  bomb_planted  ct_health  t_health  \\\n",
       "0     175.00       0.0      0.0  de_dust2         False      500.0     500.0   \n",
       "1     156.03       0.0      0.0  de_dust2         False      500.0     500.0   \n",
       "2      96.03       0.0      0.0  de_dust2         False      391.0     400.0   \n",
       "3      76.03       0.0      0.0  de_dust2         False      391.0     400.0   \n",
       "4     174.97       1.0      0.0  de_dust2         False      500.0     500.0   \n",
       "\n",
       "   ct_armor  t_armor  ct_money  ...  t_grenade_flashbang  \\\n",
       "0       0.0      0.0    4000.0  ...                  0.0   \n",
       "1     400.0    300.0     600.0  ...                  0.0   \n",
       "2     294.0    200.0     750.0  ...                  0.0   \n",
       "3     294.0    200.0     750.0  ...                  0.0   \n",
       "4     192.0      0.0   18350.0  ...                  0.0   \n",
       "\n",
       "   ct_grenade_smokegrenade  t_grenade_smokegrenade  \\\n",
       "0                      0.0                     0.0   \n",
       "1                      0.0                     2.0   \n",
       "2                      0.0                     2.0   \n",
       "3                      0.0                     0.0   \n",
       "4                      0.0                     0.0   \n",
       "\n",
       "   ct_grenade_incendiarygrenade  t_grenade_incendiarygrenade  \\\n",
       "0                           0.0                          0.0   \n",
       "1                           0.0                          0.0   \n",
       "2                           0.0                          0.0   \n",
       "3                           0.0                          0.0   \n",
       "4                           0.0                          0.0   \n",
       "\n",
       "   ct_grenade_molotovgrenade  t_grenade_molotovgrenade  \\\n",
       "0                        0.0                       0.0   \n",
       "1                        0.0                       0.0   \n",
       "2                        0.0                       0.0   \n",
       "3                        0.0                       0.0   \n",
       "4                        0.0                       0.0   \n",
       "\n",
       "   ct_grenade_decoygrenade  t_grenade_decoygrenade  round_winner  \n",
       "0                      0.0                     0.0            CT  \n",
       "1                      0.0                     0.0            CT  \n",
       "2                      0.0                     0.0            CT  \n",
       "3                      0.0                     0.0            CT  \n",
       "4                      0.0                     0.0            CT  \n",
       "\n",
       "[5 rows x 97 columns]"
      ],
      "text/html": "<div>\n<style scoped>\n    .dataframe tbody tr th:only-of-type {\n        vertical-align: middle;\n    }\n\n    .dataframe tbody tr th {\n        vertical-align: top;\n    }\n\n    .dataframe thead th {\n        text-align: right;\n    }\n</style>\n<table border=\"1\" class=\"dataframe\">\n  <thead>\n    <tr style=\"text-align: right;\">\n      <th></th>\n      <th>time_left</th>\n      <th>ct_score</th>\n      <th>t_score</th>\n      <th>map</th>\n      <th>bomb_planted</th>\n      <th>ct_health</th>\n      <th>t_health</th>\n      <th>ct_armor</th>\n      <th>t_armor</th>\n      <th>ct_money</th>\n      <th>...</th>\n      <th>t_grenade_flashbang</th>\n      <th>ct_grenade_smokegrenade</th>\n      <th>t_grenade_smokegrenade</th>\n      <th>ct_grenade_incendiarygrenade</th>\n      <th>t_grenade_incendiarygrenade</th>\n      <th>ct_grenade_molotovgrenade</th>\n      <th>t_grenade_molotovgrenade</th>\n      <th>ct_grenade_decoygrenade</th>\n      <th>t_grenade_decoygrenade</th>\n      <th>round_winner</th>\n    </tr>\n  </thead>\n  <tbody>\n    <tr>\n      <th>0</th>\n      <td>175.00</td>\n      <td>0.0</td>\n      <td>0.0</td>\n      <td>de_dust2</td>\n      <td>False</td>\n      <td>500.0</td>\n      <td>500.0</td>\n      <td>0.0</td>\n      <td>0.0</td>\n      <td>4000.0</td>\n      <td>...</td>\n      <td>0.0</td>\n      <td>0.0</td>\n      <td>0.0</td>\n      <td>0.0</td>\n      <td>0.0</td>\n      <td>0.0</td>\n      <td>0.0</td>\n      <td>0.0</td>\n      <td>0.0</td>\n      <td>CT</td>\n    </tr>\n    <tr>\n      <th>1</th>\n      <td>156.03</td>\n      <td>0.0</td>\n      <td>0.0</td>\n      <td>de_dust2</td>\n      <td>False</td>\n      <td>500.0</td>\n      <td>500.0</td>\n      <td>400.0</td>\n      <td>300.0</td>\n      <td>600.0</td>\n      <td>...</td>\n      <td>0.0</td>\n      <td>0.0</td>\n      <td>2.0</td>\n      <td>0.0</td>\n      <td>0.0</td>\n      <td>0.0</td>\n      <td>0.0</td>\n      <td>0.0</td>\n      <td>0.0</td>\n      <td>CT</td>\n    </tr>\n    <tr>\n      <th>2</th>\n      <td>96.03</td>\n      <td>0.0</td>\n      <td>0.0</td>\n      <td>de_dust2</td>\n      <td>False</td>\n      <td>391.0</td>\n      <td>400.0</td>\n      <td>294.0</td>\n      <td>200.0</td>\n      <td>750.0</td>\n      <td>...</td>\n      <td>0.0</td>\n      <td>0.0</td>\n      <td>2.0</td>\n      <td>0.0</td>\n      <td>0.0</td>\n      <td>0.0</td>\n      <td>0.0</td>\n      <td>0.0</td>\n      <td>0.0</td>\n      <td>CT</td>\n    </tr>\n    <tr>\n      <th>3</th>\n      <td>76.03</td>\n      <td>0.0</td>\n      <td>0.0</td>\n      <td>de_dust2</td>\n      <td>False</td>\n      <td>391.0</td>\n      <td>400.0</td>\n      <td>294.0</td>\n      <td>200.0</td>\n      <td>750.0</td>\n      <td>...</td>\n      <td>0.0</td>\n      <td>0.0</td>\n      <td>0.0</td>\n      <td>0.0</td>\n      <td>0.0</td>\n      <td>0.0</td>\n      <td>0.0</td>\n      <td>0.0</td>\n      <td>0.0</td>\n      <td>CT</td>\n    </tr>\n    <tr>\n      <th>4</th>\n      <td>174.97</td>\n      <td>1.0</td>\n      <td>0.0</td>\n      <td>de_dust2</td>\n      <td>False</td>\n      <td>500.0</td>\n      <td>500.0</td>\n      <td>192.0</td>\n      <td>0.0</td>\n      <td>18350.0</td>\n      <td>...</td>\n      <td>0.0</td>\n      <td>0.0</td>\n      <td>0.0</td>\n      <td>0.0</td>\n      <td>0.0</td>\n      <td>0.0</td>\n      <td>0.0</td>\n      <td>0.0</td>\n      <td>0.0</td>\n      <td>CT</td>\n    </tr>\n  </tbody>\n</table>\n<p>5 rows × 97 columns</p>\n</div>"
     },
     "metadata": {},
     "execution_count": 61
    }
   ],
   "source": [
    "df_cs.head()"
   ]
  },
  {
   "cell_type": "code",
   "execution_count": 62,
   "metadata": {},
   "outputs": [
    {
     "output_type": "execute_result",
     "data": {
      "text/plain": [
       "           time_left       ct_score        t_score      ct_health  \\\n",
       "count  122410.000000  122410.000000  122410.000000  122410.000000   \n",
       "mean       97.886922       6.709239       6.780435     412.106568   \n",
       "std        54.465238       4.790362       4.823543     132.293290   \n",
       "min         0.010000       0.000000       0.000000       0.000000   \n",
       "25%        54.920000       3.000000       3.000000     350.000000   \n",
       "50%        94.910000       6.000000       6.000000     500.000000   \n",
       "75%       166.917500      10.000000      10.000000     500.000000   \n",
       "max       175.000000      32.000000      33.000000     500.000000   \n",
       "\n",
       "            t_health       ct_armor        t_armor       ct_money  \\\n",
       "count  122410.000000  122410.000000  122410.000000  122410.000000   \n",
       "mean      402.714500     314.142121     298.444670    9789.023773   \n",
       "std       139.919033     171.029736     174.576545   11215.042286   \n",
       "min         0.000000       0.000000       0.000000       0.000000   \n",
       "25%       322.000000     194.000000     174.000000    1300.000000   \n",
       "50%       500.000000     377.000000     334.000000    5500.000000   \n",
       "75%       500.000000     486.000000     468.000000   14600.000000   \n",
       "max       600.000000     500.000000     500.000000   80000.000000   \n",
       "\n",
       "             t_money     ct_helmets  ...  ct_grenade_flashbang  \\\n",
       "count  122410.000000  122410.000000  ...         122410.000000   \n",
       "mean    11241.036680       2.053901  ...              1.853157   \n",
       "std     12162.806759       1.841470  ...              1.772791   \n",
       "min         0.000000       0.000000  ...              0.000000   \n",
       "25%      1550.000000       0.000000  ...              0.000000   \n",
       "50%      7150.000000       2.000000  ...              1.000000   \n",
       "75%     18000.000000       4.000000  ...              3.000000   \n",
       "max     80000.000000       5.000000  ...              7.000000   \n",
       "\n",
       "       t_grenade_flashbang  ct_grenade_smokegrenade  t_grenade_smokegrenade  \\\n",
       "count        122410.000000            122410.000000           122410.000000   \n",
       "mean              1.858100                 1.540814                1.627146   \n",
       "std               1.794473                 1.737804                1.829147   \n",
       "min               0.000000                 0.000000                0.000000   \n",
       "25%               0.000000                 0.000000                0.000000   \n",
       "50%               1.000000                 1.000000                1.000000   \n",
       "75%               3.000000                 3.000000                3.000000   \n",
       "max               7.000000                 6.000000                9.000000   \n",
       "\n",
       "       ct_grenade_incendiarygrenade  t_grenade_incendiarygrenade  \\\n",
       "count                 122410.000000                122410.000000   \n",
       "mean                       1.001969                     0.019819   \n",
       "std                        1.458084                     0.143933   \n",
       "min                        0.000000                     0.000000   \n",
       "25%                        0.000000                     0.000000   \n",
       "50%                        0.000000                     0.000000   \n",
       "75%                        2.000000                     0.000000   \n",
       "max                        5.000000                     3.000000   \n",
       "\n",
       "       ct_grenade_molotovgrenade  t_grenade_molotovgrenade  \\\n",
       "count              122410.000000             122410.000000   \n",
       "mean                    0.048011                  1.352095   \n",
       "std                     0.227669                  1.663246   \n",
       "min                     0.000000                  0.000000   \n",
       "25%                     0.000000                  0.000000   \n",
       "50%                     0.000000                  1.000000   \n",
       "75%                     0.000000                  2.000000   \n",
       "max                     3.000000                  5.000000   \n",
       "\n",
       "       ct_grenade_decoygrenade  t_grenade_decoygrenade  \n",
       "count            122410.000000           122410.000000  \n",
       "mean                  0.027694                0.025750  \n",
       "std                   0.169531                0.164162  \n",
       "min                   0.000000                0.000000  \n",
       "25%                   0.000000                0.000000  \n",
       "50%                   0.000000                0.000000  \n",
       "75%                   0.000000                0.000000  \n",
       "max                   3.000000                2.000000  \n",
       "\n",
       "[8 rows x 94 columns]"
      ],
      "text/html": "<div>\n<style scoped>\n    .dataframe tbody tr th:only-of-type {\n        vertical-align: middle;\n    }\n\n    .dataframe tbody tr th {\n        vertical-align: top;\n    }\n\n    .dataframe thead th {\n        text-align: right;\n    }\n</style>\n<table border=\"1\" class=\"dataframe\">\n  <thead>\n    <tr style=\"text-align: right;\">\n      <th></th>\n      <th>time_left</th>\n      <th>ct_score</th>\n      <th>t_score</th>\n      <th>ct_health</th>\n      <th>t_health</th>\n      <th>ct_armor</th>\n      <th>t_armor</th>\n      <th>ct_money</th>\n      <th>t_money</th>\n      <th>ct_helmets</th>\n      <th>...</th>\n      <th>ct_grenade_flashbang</th>\n      <th>t_grenade_flashbang</th>\n      <th>ct_grenade_smokegrenade</th>\n      <th>t_grenade_smokegrenade</th>\n      <th>ct_grenade_incendiarygrenade</th>\n      <th>t_grenade_incendiarygrenade</th>\n      <th>ct_grenade_molotovgrenade</th>\n      <th>t_grenade_molotovgrenade</th>\n      <th>ct_grenade_decoygrenade</th>\n      <th>t_grenade_decoygrenade</th>\n    </tr>\n  </thead>\n  <tbody>\n    <tr>\n      <th>count</th>\n      <td>122410.000000</td>\n      <td>122410.000000</td>\n      <td>122410.000000</td>\n      <td>122410.000000</td>\n      <td>122410.000000</td>\n      <td>122410.000000</td>\n      <td>122410.000000</td>\n      <td>122410.000000</td>\n      <td>122410.000000</td>\n      <td>122410.000000</td>\n      <td>...</td>\n      <td>122410.000000</td>\n      <td>122410.000000</td>\n      <td>122410.000000</td>\n      <td>122410.000000</td>\n      <td>122410.000000</td>\n      <td>122410.000000</td>\n      <td>122410.000000</td>\n      <td>122410.000000</td>\n      <td>122410.000000</td>\n      <td>122410.000000</td>\n    </tr>\n    <tr>\n      <th>mean</th>\n      <td>97.886922</td>\n      <td>6.709239</td>\n      <td>6.780435</td>\n      <td>412.106568</td>\n      <td>402.714500</td>\n      <td>314.142121</td>\n      <td>298.444670</td>\n      <td>9789.023773</td>\n      <td>11241.036680</td>\n      <td>2.053901</td>\n      <td>...</td>\n      <td>1.853157</td>\n      <td>1.858100</td>\n      <td>1.540814</td>\n      <td>1.627146</td>\n      <td>1.001969</td>\n      <td>0.019819</td>\n      <td>0.048011</td>\n      <td>1.352095</td>\n      <td>0.027694</td>\n      <td>0.025750</td>\n    </tr>\n    <tr>\n      <th>std</th>\n      <td>54.465238</td>\n      <td>4.790362</td>\n      <td>4.823543</td>\n      <td>132.293290</td>\n      <td>139.919033</td>\n      <td>171.029736</td>\n      <td>174.576545</td>\n      <td>11215.042286</td>\n      <td>12162.806759</td>\n      <td>1.841470</td>\n      <td>...</td>\n      <td>1.772791</td>\n      <td>1.794473</td>\n      <td>1.737804</td>\n      <td>1.829147</td>\n      <td>1.458084</td>\n      <td>0.143933</td>\n      <td>0.227669</td>\n      <td>1.663246</td>\n      <td>0.169531</td>\n      <td>0.164162</td>\n    </tr>\n    <tr>\n      <th>min</th>\n      <td>0.010000</td>\n      <td>0.000000</td>\n      <td>0.000000</td>\n      <td>0.000000</td>\n      <td>0.000000</td>\n      <td>0.000000</td>\n      <td>0.000000</td>\n      <td>0.000000</td>\n      <td>0.000000</td>\n      <td>0.000000</td>\n      <td>...</td>\n      <td>0.000000</td>\n      <td>0.000000</td>\n      <td>0.000000</td>\n      <td>0.000000</td>\n      <td>0.000000</td>\n      <td>0.000000</td>\n      <td>0.000000</td>\n      <td>0.000000</td>\n      <td>0.000000</td>\n      <td>0.000000</td>\n    </tr>\n    <tr>\n      <th>25%</th>\n      <td>54.920000</td>\n      <td>3.000000</td>\n      <td>3.000000</td>\n      <td>350.000000</td>\n      <td>322.000000</td>\n      <td>194.000000</td>\n      <td>174.000000</td>\n      <td>1300.000000</td>\n      <td>1550.000000</td>\n      <td>0.000000</td>\n      <td>...</td>\n      <td>0.000000</td>\n      <td>0.000000</td>\n      <td>0.000000</td>\n      <td>0.000000</td>\n      <td>0.000000</td>\n      <td>0.000000</td>\n      <td>0.000000</td>\n      <td>0.000000</td>\n      <td>0.000000</td>\n      <td>0.000000</td>\n    </tr>\n    <tr>\n      <th>50%</th>\n      <td>94.910000</td>\n      <td>6.000000</td>\n      <td>6.000000</td>\n      <td>500.000000</td>\n      <td>500.000000</td>\n      <td>377.000000</td>\n      <td>334.000000</td>\n      <td>5500.000000</td>\n      <td>7150.000000</td>\n      <td>2.000000</td>\n      <td>...</td>\n      <td>1.000000</td>\n      <td>1.000000</td>\n      <td>1.000000</td>\n      <td>1.000000</td>\n      <td>0.000000</td>\n      <td>0.000000</td>\n      <td>0.000000</td>\n      <td>1.000000</td>\n      <td>0.000000</td>\n      <td>0.000000</td>\n    </tr>\n    <tr>\n      <th>75%</th>\n      <td>166.917500</td>\n      <td>10.000000</td>\n      <td>10.000000</td>\n      <td>500.000000</td>\n      <td>500.000000</td>\n      <td>486.000000</td>\n      <td>468.000000</td>\n      <td>14600.000000</td>\n      <td>18000.000000</td>\n      <td>4.000000</td>\n      <td>...</td>\n      <td>3.000000</td>\n      <td>3.000000</td>\n      <td>3.000000</td>\n      <td>3.000000</td>\n      <td>2.000000</td>\n      <td>0.000000</td>\n      <td>0.000000</td>\n      <td>2.000000</td>\n      <td>0.000000</td>\n      <td>0.000000</td>\n    </tr>\n    <tr>\n      <th>max</th>\n      <td>175.000000</td>\n      <td>32.000000</td>\n      <td>33.000000</td>\n      <td>500.000000</td>\n      <td>600.000000</td>\n      <td>500.000000</td>\n      <td>500.000000</td>\n      <td>80000.000000</td>\n      <td>80000.000000</td>\n      <td>5.000000</td>\n      <td>...</td>\n      <td>7.000000</td>\n      <td>7.000000</td>\n      <td>6.000000</td>\n      <td>9.000000</td>\n      <td>5.000000</td>\n      <td>3.000000</td>\n      <td>3.000000</td>\n      <td>5.000000</td>\n      <td>3.000000</td>\n      <td>2.000000</td>\n    </tr>\n  </tbody>\n</table>\n<p>8 rows × 94 columns</p>\n</div>"
     },
     "metadata": {},
     "execution_count": 62
    }
   ],
   "source": [
    "df_cs.describe()"
   ]
  },
  {
   "cell_type": "code",
   "execution_count": null,
   "metadata": {},
   "outputs": [],
   "source": []
  },
  {
   "cell_type": "code",
   "execution_count": 63,
   "metadata": {},
   "outputs": [],
   "source": [
    "df_cs['round_winner'] = df_cs['round_winner'].map({'CT': 1, 'T': 0})\n",
    "df_cs['bomb_planted'] = df_cs['bomb_planted'].astype(int)"
   ]
  },
  {
   "cell_type": "code",
   "execution_count": 64,
   "metadata": {},
   "outputs": [],
   "source": [
    "# default 0.25 test\n",
    "train, test = train_test_split(df_cs)"
   ]
  },
  {
   "source": [
    "# p = 1"
   ],
   "cell_type": "markdown",
   "metadata": {}
  },
  {
   "cell_type": "code",
   "execution_count": 89,
   "metadata": {},
   "outputs": [],
   "source": [
    "train_input_var = train['time_left'].values.reshape(-1, 1)\n",
    "train_input_target = train['round_winner'].astype(int)\n",
    "\n",
    "test_input_var = test['time_left'].values.reshape(-1, 1)\n",
    "test_input_target = test['round_winner'].astype(int)\n",
    "\n",
    "scaler = StandardScaler()\n",
    "train_input_var = scaler.fit_transform(train_input_var)\n",
    "test_input_var = scaler.transform(test_input_var)"
   ]
  },
  {
   "cell_type": "code",
   "execution_count": 90,
   "metadata": {},
   "outputs": [],
   "source": [
    "model = LinearDiscriminantAnalysis()\n",
    "model = model.fit(train_input_var, train_input_target)"
   ]
  },
  {
   "source": [
    "## Train eval"
   ],
   "cell_type": "markdown",
   "metadata": {}
  },
  {
   "cell_type": "code",
   "execution_count": 91,
   "metadata": {},
   "outputs": [
    {
     "output_type": "execute_result",
     "data": {
      "text/plain": [
       "0.5205049723877264"
      ]
     },
     "metadata": {},
     "execution_count": 91
    }
   ],
   "source": [
    "model.score(train_input_var, train_input_target)"
   ]
  },
  {
   "cell_type": "code",
   "execution_count": 92,
   "metadata": {},
   "outputs": [
    {
     "output_type": "execute_result",
     "data": {
      "text/plain": [
       "array([[29928, 16913],\n",
       "       [27108, 17858]])"
      ]
     },
     "metadata": {},
     "execution_count": 92
    }
   ],
   "source": [
    "confusion_matrix(train_input_target, model.predict(train_input_var).astype(float))"
   ]
  },
  {
   "source": [
    "## Test eval"
   ],
   "cell_type": "markdown",
   "metadata": {}
  },
  {
   "cell_type": "code",
   "execution_count": 93,
   "metadata": {},
   "outputs": [
    {
     "output_type": "execute_result",
     "data": {
      "text/plain": [
       "0.5194915531157076"
      ]
     },
     "metadata": {},
     "execution_count": 93
    }
   ],
   "source": [
    "model.score(test_input_var, test_input_target)"
   ]
  },
  {
   "cell_type": "code",
   "execution_count": 94,
   "metadata": {},
   "outputs": [
    {
     "output_type": "execute_result",
     "data": {
      "text/plain": [
       "array([[10003,  5562],\n",
       "       [ 9143,  5895]])"
      ]
     },
     "metadata": {},
     "execution_count": 94
    }
   ],
   "source": [
    "confusion_matrix(test_input_target, model.predict(test_input_var).astype(float))"
   ]
  },
  {
   "source": [
    "# p > 1"
   ],
   "cell_type": "markdown",
   "metadata": {}
  },
  {
   "cell_type": "code",
   "execution_count": 95,
   "metadata": {},
   "outputs": [],
   "source": [
    "train_input_var = train.drop(['round_winner', 'map'], axis=1)\n",
    "train_input_target = train['round_winner'].astype(int)\n",
    "\n",
    "test_input_var = test.drop(['round_winner', 'map'], axis=1)\n",
    "test_input_target = test['round_winner'].astype(int)\n",
    "\n",
    "scaler = StandardScaler()\n",
    "train_input_var = scaler.fit_transform(train_input_var)\n",
    "test_input_var = scaler.transform(test_input_var)"
   ]
  },
  {
   "cell_type": "code",
   "execution_count": 96,
   "metadata": {
    "tags": []
   },
   "outputs": [],
   "source": [
    "model = LinearDiscriminantAnalysis()\n",
    "model = model.fit(train_input_var, train_input_target)"
   ]
  },
  {
   "cell_type": "code",
   "execution_count": 97,
   "metadata": {},
   "outputs": [
    {
     "output_type": "execute_result",
     "data": {
      "text/plain": [
       "'t_health'"
      ]
     },
     "metadata": {},
     "execution_count": 97
    }
   ],
   "source": [
    "train.columns[np.argmax(model.coef_)]"
   ]
  },
  {
   "source": [
    "## Train eval"
   ],
   "cell_type": "markdown",
   "metadata": {}
  },
  {
   "cell_type": "code",
   "execution_count": 98,
   "metadata": {},
   "outputs": [
    {
     "output_type": "execute_result",
     "data": {
      "text/plain": [
       "0.7491258836472164"
      ]
     },
     "metadata": {},
     "execution_count": 98
    }
   ],
   "source": [
    "model.score(train_input_var, train_input_target)"
   ]
  },
  {
   "cell_type": "code",
   "execution_count": 99,
   "metadata": {},
   "outputs": [
    {
     "output_type": "execute_result",
     "data": {
      "text/plain": [
       "array([[34444, 12397],\n",
       "       [10635, 34331]])"
      ]
     },
     "metadata": {},
     "execution_count": 99
    }
   ],
   "source": [
    "confusion_matrix(train_input_target, model.predict(train_input_var).astype(float))"
   ]
  },
  {
   "source": [
    "## Test eval"
   ],
   "cell_type": "markdown",
   "metadata": {}
  },
  {
   "cell_type": "code",
   "execution_count": 100,
   "metadata": {},
   "outputs": [
    {
     "output_type": "execute_result",
     "data": {
      "text/plain": [
       "0.7465607946933307"
      ]
     },
     "metadata": {},
     "execution_count": 100
    }
   ],
   "source": [
    "model.score(test_input_var, test_input_target)"
   ]
  },
  {
   "cell_type": "code",
   "execution_count": 101,
   "metadata": {},
   "outputs": [
    {
     "output_type": "execute_result",
     "data": {
      "text/plain": [
       "array([[11424,  4141],\n",
       "       [ 3615, 11423]])"
      ]
     },
     "metadata": {},
     "execution_count": 101
    }
   ],
   "source": [
    "confusion_matrix(test_input_target, model.predict(test_input_var).astype(float))"
   ]
  },
  {
   "source": [
    "# p > 1 without collinear"
   ],
   "cell_type": "markdown",
   "metadata": {}
  },
  {
   "cell_type": "code",
   "execution_count": null,
   "metadata": {},
   "outputs": [],
   "source": [
    "vif = pd.DataFrame()\n",
    "drop_for_vif = df_cs.drop(['round_winner', 'map'], axis=1)\n",
    "vif['feature'] = drop_for_vif.columns\n",
    "vif['vif'] = [variance_inflation_factor(drop_for_vif.values, i) for i in range(len(drop_for_vif.columns))]"
   ]
  },
  {
   "cell_type": "code",
   "execution_count": 44,
   "metadata": {},
   "outputs": [
    {
     "output_type": "execute_result",
     "data": {
      "text/plain": [
       "                 feature          vif\n",
       "13      ct_players_alive  1833.947467\n",
       "14       t_players_alive  1488.654508\n",
       "75        ct_weapon_usps  1023.684843\n",
       "34        t_weapon_glock   919.772526\n",
       "4              ct_health   239.392105\n",
       "5               t_health   149.779529\n",
       "71      ct_weapon_deagle    73.775086\n",
       "11             t_helmets    61.813804\n",
       "72       t_weapon_deagle    56.260972\n",
       "7                t_armor    33.977527\n",
       "78         t_weapon_p250    29.932306\n",
       "77        ct_weapon_p250    29.031565\n",
       "6               ct_armor    25.834280\n",
       "0              time_left    21.717110\n",
       "23    ct_weapon_cz75auto    19.179551\n",
       "79       ct_weapon_p2000    18.187131\n",
       "16         t_weapon_ak47    16.650579\n",
       "76         t_weapon_usps    15.277791\n",
       "24     t_weapon_cz75auto    11.680651\n",
       "10            ct_helmets    11.655548\n",
       "85  ct_grenade_flashbang    10.762061\n",
       "64        t_weapon_sg553    10.267468\n",
       "86   t_grenade_flashbang    10.225462"
      ],
      "text/html": "<div>\n<style scoped>\n    .dataframe tbody tr th:only-of-type {\n        vertical-align: middle;\n    }\n\n    .dataframe tbody tr th {\n        vertical-align: top;\n    }\n\n    .dataframe thead th {\n        text-align: right;\n    }\n</style>\n<table border=\"1\" class=\"dataframe\">\n  <thead>\n    <tr style=\"text-align: right;\">\n      <th></th>\n      <th>feature</th>\n      <th>vif</th>\n    </tr>\n  </thead>\n  <tbody>\n    <tr>\n      <th>13</th>\n      <td>ct_players_alive</td>\n      <td>1833.947467</td>\n    </tr>\n    <tr>\n      <th>14</th>\n      <td>t_players_alive</td>\n      <td>1488.654508</td>\n    </tr>\n    <tr>\n      <th>75</th>\n      <td>ct_weapon_usps</td>\n      <td>1023.684843</td>\n    </tr>\n    <tr>\n      <th>34</th>\n      <td>t_weapon_glock</td>\n      <td>919.772526</td>\n    </tr>\n    <tr>\n      <th>4</th>\n      <td>ct_health</td>\n      <td>239.392105</td>\n    </tr>\n    <tr>\n      <th>5</th>\n      <td>t_health</td>\n      <td>149.779529</td>\n    </tr>\n    <tr>\n      <th>71</th>\n      <td>ct_weapon_deagle</td>\n      <td>73.775086</td>\n    </tr>\n    <tr>\n      <th>11</th>\n      <td>t_helmets</td>\n      <td>61.813804</td>\n    </tr>\n    <tr>\n      <th>72</th>\n      <td>t_weapon_deagle</td>\n      <td>56.260972</td>\n    </tr>\n    <tr>\n      <th>7</th>\n      <td>t_armor</td>\n      <td>33.977527</td>\n    </tr>\n    <tr>\n      <th>78</th>\n      <td>t_weapon_p250</td>\n      <td>29.932306</td>\n    </tr>\n    <tr>\n      <th>77</th>\n      <td>ct_weapon_p250</td>\n      <td>29.031565</td>\n    </tr>\n    <tr>\n      <th>6</th>\n      <td>ct_armor</td>\n      <td>25.834280</td>\n    </tr>\n    <tr>\n      <th>0</th>\n      <td>time_left</td>\n      <td>21.717110</td>\n    </tr>\n    <tr>\n      <th>23</th>\n      <td>ct_weapon_cz75auto</td>\n      <td>19.179551</td>\n    </tr>\n    <tr>\n      <th>79</th>\n      <td>ct_weapon_p2000</td>\n      <td>18.187131</td>\n    </tr>\n    <tr>\n      <th>16</th>\n      <td>t_weapon_ak47</td>\n      <td>16.650579</td>\n    </tr>\n    <tr>\n      <th>76</th>\n      <td>t_weapon_usps</td>\n      <td>15.277791</td>\n    </tr>\n    <tr>\n      <th>24</th>\n      <td>t_weapon_cz75auto</td>\n      <td>11.680651</td>\n    </tr>\n    <tr>\n      <th>10</th>\n      <td>ct_helmets</td>\n      <td>11.655548</td>\n    </tr>\n    <tr>\n      <th>85</th>\n      <td>ct_grenade_flashbang</td>\n      <td>10.762061</td>\n    </tr>\n    <tr>\n      <th>64</th>\n      <td>t_weapon_sg553</td>\n      <td>10.267468</td>\n    </tr>\n    <tr>\n      <th>86</th>\n      <td>t_grenade_flashbang</td>\n      <td>10.225462</td>\n    </tr>\n  </tbody>\n</table>\n</div>"
     },
     "metadata": {},
     "execution_count": 44
    }
   ],
   "source": [
    "vif_sorted = vif.sort_values('vif', ascending=False)\n",
    "vif_sorted[vif_sorted['vif'] > 10]"
   ]
  },
  {
   "cell_type": "code",
   "execution_count": 45,
   "metadata": {},
   "outputs": [],
   "source": [
    "df_cs_without_collinear = df_cs.drop(vif_sorted[vif_sorted['vif'] > 10]['feature'], axis=1)\n",
    "# default 0.25 test\n",
    "train, test = train_test_split(df_cs_without_collinear)"
   ]
  },
  {
   "cell_type": "code",
   "execution_count": 46,
   "metadata": {},
   "outputs": [],
   "source": [
    "train_input_var = train.drop(['round_winner', 'map'], axis=1)\n",
    "train_input_target = train['round_winner'].astype(int)\n",
    "\n",
    "test_input_var = test.drop(['round_winner', 'map'], axis=1)\n",
    "test_input_target = test['round_winner'].astype(int)\n",
    "\n",
    "scaler = StandardScaler()\n",
    "train_input_var = scaler.fit_transform(train_input_var)\n",
    "test_input_var = scaler.transform(test_input_var)"
   ]
  },
  {
   "cell_type": "code",
   "execution_count": 47,
   "metadata": {},
   "outputs": [],
   "source": [
    "model = LinearDiscriminantAnalysis()\n",
    "model = model.fit(train_input_var, train_input_target)"
   ]
  },
  {
   "cell_type": "code",
   "execution_count": 57,
   "metadata": {},
   "outputs": [
    {
     "output_type": "execute_result",
     "data": {
      "text/plain": [
       "array([[-2.92673849e-03,  1.01638018e-03, -1.35002344e+00,\n",
       "         1.50412738e-05, -2.22618103e-05, -6.04032069e-03,\n",
       "         4.76920279e-01,  4.93085878e-01, -4.45893511e-01,\n",
       "         5.57316463e-01, -6.37389664e-01,  2.74039000e-16,\n",
       "         1.58483402e-01,  2.74831683e-01, -3.68613949e-01,\n",
       "         4.12717028e-01, -3.82112134e-01, -3.26108287e-17,\n",
       "         1.37662906e-02,  6.06840096e-01, -3.43165344e-01,\n",
       "        -2.15411505e-01, -2.96304191e+00,  6.49580049e-17,\n",
       "         4.40295052e-01, -7.39574646e-01,  4.31627253e-01,\n",
       "        -3.68327048e-01,  2.30573359e-01, -1.83261203e-01,\n",
       "         3.46640146e-01, -1.64291250e+00,  5.64497753e-01,\n",
       "        -4.95189255e-01,  1.19008378e-01,  1.47388517e-01,\n",
       "         3.67880794e-01, -2.71798724e-01, -2.39858586e-17,\n",
       "         1.05876711e+00,  6.58093709e-01,  1.04351067e+00,\n",
       "         1.62573858e+00, -7.55947974e-01,  1.05150073e-17,\n",
       "         8.42477336e-01,  2.49524721e-17, -1.75221550e+00,\n",
       "        -6.50201262e-02,  3.91533818e+00,  5.03325768e-01,\n",
       "         4.05208187e-01, -3.02481251e-01,  3.19802193e-01,\n",
       "        -3.50312822e-01,  2.31958233e-01,  5.58556660e-02,\n",
       "         6.77574957e-03,  3.30144648e-02, -3.13320212e-01,\n",
       "         1.86235171e-01, -1.26319387e-01,  7.81918257e-03,\n",
       "        -2.28106820e-02,  3.81328043e-02, -2.20598769e-01,\n",
       "        -8.63965580e-02, -1.84739728e-01,  1.51086100e-01,\n",
       "        -6.59407459e-02,  1.36762714e-01, -3.72253455e-01]])"
      ]
     },
     "metadata": {},
     "execution_count": 57
    }
   ],
   "source": [
    "train.columns[np.argmax(model.coef_)]"
   ]
  },
  {
   "source": [
    "## Train eval"
   ],
   "cell_type": "markdown",
   "metadata": {}
  },
  {
   "cell_type": "code",
   "execution_count": 48,
   "metadata": {},
   "outputs": [
    {
     "output_type": "execute_result",
     "data": {
      "text/plain": [
       "0.6953282429444377"
      ]
     },
     "metadata": {},
     "execution_count": 48
    }
   ],
   "source": [
    "model.score(train_input_var, train_input_target)"
   ]
  },
  {
   "cell_type": "code",
   "execution_count": 49,
   "metadata": {},
   "outputs": [
    {
     "output_type": "execute_result",
     "data": {
      "text/plain": [
       "array([[33812, 12925],\n",
       "       [15046, 30024]])"
      ]
     },
     "metadata": {},
     "execution_count": 49
    }
   ],
   "source": [
    "confusion_matrix(train_input_target, model.predict(train_input_var).astype(float))"
   ]
  },
  {
   "source": [
    "## Test eval"
   ],
   "cell_type": "markdown",
   "metadata": {}
  },
  {
   "cell_type": "code",
   "execution_count": 50,
   "metadata": {},
   "outputs": [
    {
     "output_type": "execute_result",
     "data": {
      "text/plain": [
       "0.6975459922229846"
      ]
     },
     "metadata": {},
     "execution_count": 50
    }
   ],
   "source": [
    "model.score(test_input_var, test_input_target)"
   ]
  },
  {
   "cell_type": "code",
   "execution_count": 51,
   "metadata": {},
   "outputs": [
    {
     "output_type": "execute_result",
     "data": {
      "text/plain": [
       "array([[11476,  4193],\n",
       "       [ 5063,  9871]])"
      ]
     },
     "metadata": {},
     "execution_count": 51
    }
   ],
   "source": [
    "confusion_matrix(test_input_target, model.predict(test_input_var).astype(float))"
   ]
  },
  {
   "cell_type": "code",
   "execution_count": null,
   "metadata": {},
   "outputs": [],
   "source": []
  }
 ]
}