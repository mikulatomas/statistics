{
 "metadata": {
  "language_info": {
   "codemirror_mode": {
    "name": "ipython",
    "version": 3
   },
   "file_extension": ".py",
   "mimetype": "text/x-python",
   "name": "python",
   "nbconvert_exporter": "python",
   "pygments_lexer": "ipython3",
   "version": "3.8.9"
  },
  "orig_nbformat": 2,
  "kernelspec": {
   "name": "python389jvsc74a57bd0082a18f759f8afdec9b7eec773590a36e4c3be1cd97bea91855dea5176a8175a",
   "display_name": "Python 3.8.9 64-bit ('fcapy': virtualenvwrapper)"
  }
 },
 "nbformat": 4,
 "nbformat_minor": 2,
 "cells": [
  {
   "cell_type": "code",
   "execution_count": 1,
   "metadata": {},
   "outputs": [],
   "source": [
    "import os\n",
    "import pandas as pd\n",
    "import numpy as np\n",
    "import plotly.express as px\n",
    "import seaborn as sns\n",
    "\n",
    "from sklearn.discriminant_analysis import QuadraticDiscriminantAnalysis\n",
    "from sklearn.metrics import classification_report, confusion_matrix\n",
    "from sklearn.model_selection import train_test_split\n",
    "from sklearn.preprocessing import StandardScaler\n",
    "\n",
    "from statsmodels.stats.outliers_influence import variance_inflation_factor"
   ]
  },
  {
   "source": [
    "# CS:GO Round Winner Classification\n",
    "\n",
    "\n",
    "URL: https://www.kaggle.com/christianlillelund/csgo-round-winner-classification"
   ],
   "cell_type": "markdown",
   "metadata": {}
  },
  {
   "cell_type": "code",
   "execution_count": 2,
   "metadata": {},
   "outputs": [
    {
     "output_type": "execute_result",
     "data": {
      "text/plain": [
       "(122410, 97)"
      ]
     },
     "metadata": {},
     "execution_count": 2
    }
   ],
   "source": [
    "df_cs = pd.read_csv(os.path.join('dataset', 'csgo_round_snapshots.csv'))\n",
    "df_cs.shape"
   ]
  },
  {
   "cell_type": "code",
   "execution_count": 3,
   "metadata": {},
   "outputs": [
    {
     "output_type": "execute_result",
     "data": {
      "text/plain": [
       "   time_left  ct_score  t_score       map  bomb_planted  ct_health  t_health  \\\n",
       "0     175.00       0.0      0.0  de_dust2         False      500.0     500.0   \n",
       "1     156.03       0.0      0.0  de_dust2         False      500.0     500.0   \n",
       "2      96.03       0.0      0.0  de_dust2         False      391.0     400.0   \n",
       "3      76.03       0.0      0.0  de_dust2         False      391.0     400.0   \n",
       "4     174.97       1.0      0.0  de_dust2         False      500.0     500.0   \n",
       "\n",
       "   ct_armor  t_armor  ct_money  ...  t_grenade_flashbang  \\\n",
       "0       0.0      0.0    4000.0  ...                  0.0   \n",
       "1     400.0    300.0     600.0  ...                  0.0   \n",
       "2     294.0    200.0     750.0  ...                  0.0   \n",
       "3     294.0    200.0     750.0  ...                  0.0   \n",
       "4     192.0      0.0   18350.0  ...                  0.0   \n",
       "\n",
       "   ct_grenade_smokegrenade  t_grenade_smokegrenade  \\\n",
       "0                      0.0                     0.0   \n",
       "1                      0.0                     2.0   \n",
       "2                      0.0                     2.0   \n",
       "3                      0.0                     0.0   \n",
       "4                      0.0                     0.0   \n",
       "\n",
       "   ct_grenade_incendiarygrenade  t_grenade_incendiarygrenade  \\\n",
       "0                           0.0                          0.0   \n",
       "1                           0.0                          0.0   \n",
       "2                           0.0                          0.0   \n",
       "3                           0.0                          0.0   \n",
       "4                           0.0                          0.0   \n",
       "\n",
       "   ct_grenade_molotovgrenade  t_grenade_molotovgrenade  \\\n",
       "0                        0.0                       0.0   \n",
       "1                        0.0                       0.0   \n",
       "2                        0.0                       0.0   \n",
       "3                        0.0                       0.0   \n",
       "4                        0.0                       0.0   \n",
       "\n",
       "   ct_grenade_decoygrenade  t_grenade_decoygrenade  round_winner  \n",
       "0                      0.0                     0.0            CT  \n",
       "1                      0.0                     0.0            CT  \n",
       "2                      0.0                     0.0            CT  \n",
       "3                      0.0                     0.0            CT  \n",
       "4                      0.0                     0.0            CT  \n",
       "\n",
       "[5 rows x 97 columns]"
      ],
      "text/html": "<div>\n<style scoped>\n    .dataframe tbody tr th:only-of-type {\n        vertical-align: middle;\n    }\n\n    .dataframe tbody tr th {\n        vertical-align: top;\n    }\n\n    .dataframe thead th {\n        text-align: right;\n    }\n</style>\n<table border=\"1\" class=\"dataframe\">\n  <thead>\n    <tr style=\"text-align: right;\">\n      <th></th>\n      <th>time_left</th>\n      <th>ct_score</th>\n      <th>t_score</th>\n      <th>map</th>\n      <th>bomb_planted</th>\n      <th>ct_health</th>\n      <th>t_health</th>\n      <th>ct_armor</th>\n      <th>t_armor</th>\n      <th>ct_money</th>\n      <th>...</th>\n      <th>t_grenade_flashbang</th>\n      <th>ct_grenade_smokegrenade</th>\n      <th>t_grenade_smokegrenade</th>\n      <th>ct_grenade_incendiarygrenade</th>\n      <th>t_grenade_incendiarygrenade</th>\n      <th>ct_grenade_molotovgrenade</th>\n      <th>t_grenade_molotovgrenade</th>\n      <th>ct_grenade_decoygrenade</th>\n      <th>t_grenade_decoygrenade</th>\n      <th>round_winner</th>\n    </tr>\n  </thead>\n  <tbody>\n    <tr>\n      <th>0</th>\n      <td>175.00</td>\n      <td>0.0</td>\n      <td>0.0</td>\n      <td>de_dust2</td>\n      <td>False</td>\n      <td>500.0</td>\n      <td>500.0</td>\n      <td>0.0</td>\n      <td>0.0</td>\n      <td>4000.0</td>\n      <td>...</td>\n      <td>0.0</td>\n      <td>0.0</td>\n      <td>0.0</td>\n      <td>0.0</td>\n      <td>0.0</td>\n      <td>0.0</td>\n      <td>0.0</td>\n      <td>0.0</td>\n      <td>0.0</td>\n      <td>CT</td>\n    </tr>\n    <tr>\n      <th>1</th>\n      <td>156.03</td>\n      <td>0.0</td>\n      <td>0.0</td>\n      <td>de_dust2</td>\n      <td>False</td>\n      <td>500.0</td>\n      <td>500.0</td>\n      <td>400.0</td>\n      <td>300.0</td>\n      <td>600.0</td>\n      <td>...</td>\n      <td>0.0</td>\n      <td>0.0</td>\n      <td>2.0</td>\n      <td>0.0</td>\n      <td>0.0</td>\n      <td>0.0</td>\n      <td>0.0</td>\n      <td>0.0</td>\n      <td>0.0</td>\n      <td>CT</td>\n    </tr>\n    <tr>\n      <th>2</th>\n      <td>96.03</td>\n      <td>0.0</td>\n      <td>0.0</td>\n      <td>de_dust2</td>\n      <td>False</td>\n      <td>391.0</td>\n      <td>400.0</td>\n      <td>294.0</td>\n      <td>200.0</td>\n      <td>750.0</td>\n      <td>...</td>\n      <td>0.0</td>\n      <td>0.0</td>\n      <td>2.0</td>\n      <td>0.0</td>\n      <td>0.0</td>\n      <td>0.0</td>\n      <td>0.0</td>\n      <td>0.0</td>\n      <td>0.0</td>\n      <td>CT</td>\n    </tr>\n    <tr>\n      <th>3</th>\n      <td>76.03</td>\n      <td>0.0</td>\n      <td>0.0</td>\n      <td>de_dust2</td>\n      <td>False</td>\n      <td>391.0</td>\n      <td>400.0</td>\n      <td>294.0</td>\n      <td>200.0</td>\n      <td>750.0</td>\n      <td>...</td>\n      <td>0.0</td>\n      <td>0.0</td>\n      <td>0.0</td>\n      <td>0.0</td>\n      <td>0.0</td>\n      <td>0.0</td>\n      <td>0.0</td>\n      <td>0.0</td>\n      <td>0.0</td>\n      <td>CT</td>\n    </tr>\n    <tr>\n      <th>4</th>\n      <td>174.97</td>\n      <td>1.0</td>\n      <td>0.0</td>\n      <td>de_dust2</td>\n      <td>False</td>\n      <td>500.0</td>\n      <td>500.0</td>\n      <td>192.0</td>\n      <td>0.0</td>\n      <td>18350.0</td>\n      <td>...</td>\n      <td>0.0</td>\n      <td>0.0</td>\n      <td>0.0</td>\n      <td>0.0</td>\n      <td>0.0</td>\n      <td>0.0</td>\n      <td>0.0</td>\n      <td>0.0</td>\n      <td>0.0</td>\n      <td>CT</td>\n    </tr>\n  </tbody>\n</table>\n<p>5 rows × 97 columns</p>\n</div>"
     },
     "metadata": {},
     "execution_count": 3
    }
   ],
   "source": [
    "df_cs.head()"
   ]
  },
  {
   "cell_type": "code",
   "execution_count": 4,
   "metadata": {},
   "outputs": [
    {
     "output_type": "execute_result",
     "data": {
      "text/plain": [
       "           time_left       ct_score        t_score      ct_health  \\\n",
       "count  122410.000000  122410.000000  122410.000000  122410.000000   \n",
       "mean       97.886922       6.709239       6.780435     412.106568   \n",
       "std        54.465238       4.790362       4.823543     132.293290   \n",
       "min         0.010000       0.000000       0.000000       0.000000   \n",
       "25%        54.920000       3.000000       3.000000     350.000000   \n",
       "50%        94.910000       6.000000       6.000000     500.000000   \n",
       "75%       166.917500      10.000000      10.000000     500.000000   \n",
       "max       175.000000      32.000000      33.000000     500.000000   \n",
       "\n",
       "            t_health       ct_armor        t_armor       ct_money  \\\n",
       "count  122410.000000  122410.000000  122410.000000  122410.000000   \n",
       "mean      402.714500     314.142121     298.444670    9789.023773   \n",
       "std       139.919033     171.029736     174.576545   11215.042286   \n",
       "min         0.000000       0.000000       0.000000       0.000000   \n",
       "25%       322.000000     194.000000     174.000000    1300.000000   \n",
       "50%       500.000000     377.000000     334.000000    5500.000000   \n",
       "75%       500.000000     486.000000     468.000000   14600.000000   \n",
       "max       600.000000     500.000000     500.000000   80000.000000   \n",
       "\n",
       "             t_money     ct_helmets  ...  ct_grenade_flashbang  \\\n",
       "count  122410.000000  122410.000000  ...         122410.000000   \n",
       "mean    11241.036680       2.053901  ...              1.853157   \n",
       "std     12162.806759       1.841470  ...              1.772791   \n",
       "min         0.000000       0.000000  ...              0.000000   \n",
       "25%      1550.000000       0.000000  ...              0.000000   \n",
       "50%      7150.000000       2.000000  ...              1.000000   \n",
       "75%     18000.000000       4.000000  ...              3.000000   \n",
       "max     80000.000000       5.000000  ...              7.000000   \n",
       "\n",
       "       t_grenade_flashbang  ct_grenade_smokegrenade  t_grenade_smokegrenade  \\\n",
       "count        122410.000000            122410.000000           122410.000000   \n",
       "mean              1.858100                 1.540814                1.627146   \n",
       "std               1.794473                 1.737804                1.829147   \n",
       "min               0.000000                 0.000000                0.000000   \n",
       "25%               0.000000                 0.000000                0.000000   \n",
       "50%               1.000000                 1.000000                1.000000   \n",
       "75%               3.000000                 3.000000                3.000000   \n",
       "max               7.000000                 6.000000                9.000000   \n",
       "\n",
       "       ct_grenade_incendiarygrenade  t_grenade_incendiarygrenade  \\\n",
       "count                 122410.000000                122410.000000   \n",
       "mean                       1.001969                     0.019819   \n",
       "std                        1.458084                     0.143933   \n",
       "min                        0.000000                     0.000000   \n",
       "25%                        0.000000                     0.000000   \n",
       "50%                        0.000000                     0.000000   \n",
       "75%                        2.000000                     0.000000   \n",
       "max                        5.000000                     3.000000   \n",
       "\n",
       "       ct_grenade_molotovgrenade  t_grenade_molotovgrenade  \\\n",
       "count              122410.000000             122410.000000   \n",
       "mean                    0.048011                  1.352095   \n",
       "std                     0.227669                  1.663246   \n",
       "min                     0.000000                  0.000000   \n",
       "25%                     0.000000                  0.000000   \n",
       "50%                     0.000000                  1.000000   \n",
       "75%                     0.000000                  2.000000   \n",
       "max                     3.000000                  5.000000   \n",
       "\n",
       "       ct_grenade_decoygrenade  t_grenade_decoygrenade  \n",
       "count            122410.000000           122410.000000  \n",
       "mean                  0.027694                0.025750  \n",
       "std                   0.169531                0.164162  \n",
       "min                   0.000000                0.000000  \n",
       "25%                   0.000000                0.000000  \n",
       "50%                   0.000000                0.000000  \n",
       "75%                   0.000000                0.000000  \n",
       "max                   3.000000                2.000000  \n",
       "\n",
       "[8 rows x 94 columns]"
      ],
      "text/html": "<div>\n<style scoped>\n    .dataframe tbody tr th:only-of-type {\n        vertical-align: middle;\n    }\n\n    .dataframe tbody tr th {\n        vertical-align: top;\n    }\n\n    .dataframe thead th {\n        text-align: right;\n    }\n</style>\n<table border=\"1\" class=\"dataframe\">\n  <thead>\n    <tr style=\"text-align: right;\">\n      <th></th>\n      <th>time_left</th>\n      <th>ct_score</th>\n      <th>t_score</th>\n      <th>ct_health</th>\n      <th>t_health</th>\n      <th>ct_armor</th>\n      <th>t_armor</th>\n      <th>ct_money</th>\n      <th>t_money</th>\n      <th>ct_helmets</th>\n      <th>...</th>\n      <th>ct_grenade_flashbang</th>\n      <th>t_grenade_flashbang</th>\n      <th>ct_grenade_smokegrenade</th>\n      <th>t_grenade_smokegrenade</th>\n      <th>ct_grenade_incendiarygrenade</th>\n      <th>t_grenade_incendiarygrenade</th>\n      <th>ct_grenade_molotovgrenade</th>\n      <th>t_grenade_molotovgrenade</th>\n      <th>ct_grenade_decoygrenade</th>\n      <th>t_grenade_decoygrenade</th>\n    </tr>\n  </thead>\n  <tbody>\n    <tr>\n      <th>count</th>\n      <td>122410.000000</td>\n      <td>122410.000000</td>\n      <td>122410.000000</td>\n      <td>122410.000000</td>\n      <td>122410.000000</td>\n      <td>122410.000000</td>\n      <td>122410.000000</td>\n      <td>122410.000000</td>\n      <td>122410.000000</td>\n      <td>122410.000000</td>\n      <td>...</td>\n      <td>122410.000000</td>\n      <td>122410.000000</td>\n      <td>122410.000000</td>\n      <td>122410.000000</td>\n      <td>122410.000000</td>\n      <td>122410.000000</td>\n      <td>122410.000000</td>\n      <td>122410.000000</td>\n      <td>122410.000000</td>\n      <td>122410.000000</td>\n    </tr>\n    <tr>\n      <th>mean</th>\n      <td>97.886922</td>\n      <td>6.709239</td>\n      <td>6.780435</td>\n      <td>412.106568</td>\n      <td>402.714500</td>\n      <td>314.142121</td>\n      <td>298.444670</td>\n      <td>9789.023773</td>\n      <td>11241.036680</td>\n      <td>2.053901</td>\n      <td>...</td>\n      <td>1.853157</td>\n      <td>1.858100</td>\n      <td>1.540814</td>\n      <td>1.627146</td>\n      <td>1.001969</td>\n      <td>0.019819</td>\n      <td>0.048011</td>\n      <td>1.352095</td>\n      <td>0.027694</td>\n      <td>0.025750</td>\n    </tr>\n    <tr>\n      <th>std</th>\n      <td>54.465238</td>\n      <td>4.790362</td>\n      <td>4.823543</td>\n      <td>132.293290</td>\n      <td>139.919033</td>\n      <td>171.029736</td>\n      <td>174.576545</td>\n      <td>11215.042286</td>\n      <td>12162.806759</td>\n      <td>1.841470</td>\n      <td>...</td>\n      <td>1.772791</td>\n      <td>1.794473</td>\n      <td>1.737804</td>\n      <td>1.829147</td>\n      <td>1.458084</td>\n      <td>0.143933</td>\n      <td>0.227669</td>\n      <td>1.663246</td>\n      <td>0.169531</td>\n      <td>0.164162</td>\n    </tr>\n    <tr>\n      <th>min</th>\n      <td>0.010000</td>\n      <td>0.000000</td>\n      <td>0.000000</td>\n      <td>0.000000</td>\n      <td>0.000000</td>\n      <td>0.000000</td>\n      <td>0.000000</td>\n      <td>0.000000</td>\n      <td>0.000000</td>\n      <td>0.000000</td>\n      <td>...</td>\n      <td>0.000000</td>\n      <td>0.000000</td>\n      <td>0.000000</td>\n      <td>0.000000</td>\n      <td>0.000000</td>\n      <td>0.000000</td>\n      <td>0.000000</td>\n      <td>0.000000</td>\n      <td>0.000000</td>\n      <td>0.000000</td>\n    </tr>\n    <tr>\n      <th>25%</th>\n      <td>54.920000</td>\n      <td>3.000000</td>\n      <td>3.000000</td>\n      <td>350.000000</td>\n      <td>322.000000</td>\n      <td>194.000000</td>\n      <td>174.000000</td>\n      <td>1300.000000</td>\n      <td>1550.000000</td>\n      <td>0.000000</td>\n      <td>...</td>\n      <td>0.000000</td>\n      <td>0.000000</td>\n      <td>0.000000</td>\n      <td>0.000000</td>\n      <td>0.000000</td>\n      <td>0.000000</td>\n      <td>0.000000</td>\n      <td>0.000000</td>\n      <td>0.000000</td>\n      <td>0.000000</td>\n    </tr>\n    <tr>\n      <th>50%</th>\n      <td>94.910000</td>\n      <td>6.000000</td>\n      <td>6.000000</td>\n      <td>500.000000</td>\n      <td>500.000000</td>\n      <td>377.000000</td>\n      <td>334.000000</td>\n      <td>5500.000000</td>\n      <td>7150.000000</td>\n      <td>2.000000</td>\n      <td>...</td>\n      <td>1.000000</td>\n      <td>1.000000</td>\n      <td>1.000000</td>\n      <td>1.000000</td>\n      <td>0.000000</td>\n      <td>0.000000</td>\n      <td>0.000000</td>\n      <td>1.000000</td>\n      <td>0.000000</td>\n      <td>0.000000</td>\n    </tr>\n    <tr>\n      <th>75%</th>\n      <td>166.917500</td>\n      <td>10.000000</td>\n      <td>10.000000</td>\n      <td>500.000000</td>\n      <td>500.000000</td>\n      <td>486.000000</td>\n      <td>468.000000</td>\n      <td>14600.000000</td>\n      <td>18000.000000</td>\n      <td>4.000000</td>\n      <td>...</td>\n      <td>3.000000</td>\n      <td>3.000000</td>\n      <td>3.000000</td>\n      <td>3.000000</td>\n      <td>2.000000</td>\n      <td>0.000000</td>\n      <td>0.000000</td>\n      <td>2.000000</td>\n      <td>0.000000</td>\n      <td>0.000000</td>\n    </tr>\n    <tr>\n      <th>max</th>\n      <td>175.000000</td>\n      <td>32.000000</td>\n      <td>33.000000</td>\n      <td>500.000000</td>\n      <td>600.000000</td>\n      <td>500.000000</td>\n      <td>500.000000</td>\n      <td>80000.000000</td>\n      <td>80000.000000</td>\n      <td>5.000000</td>\n      <td>...</td>\n      <td>7.000000</td>\n      <td>7.000000</td>\n      <td>6.000000</td>\n      <td>9.000000</td>\n      <td>5.000000</td>\n      <td>3.000000</td>\n      <td>3.000000</td>\n      <td>5.000000</td>\n      <td>3.000000</td>\n      <td>2.000000</td>\n    </tr>\n  </tbody>\n</table>\n<p>8 rows × 94 columns</p>\n</div>"
     },
     "metadata": {},
     "execution_count": 4
    }
   ],
   "source": [
    "df_cs.describe()"
   ]
  },
  {
   "cell_type": "code",
   "execution_count": 5,
   "metadata": {},
   "outputs": [],
   "source": [
    "df_cs.replace('CT', 1, inplace=True)\n",
    "df_cs.replace('T', 0, inplace=True)\n",
    "df_cs.drop('map', axis=1, inplace=True)\n",
    "df_cs['bomb_planted'] = df_cs['bomb_planted'].astype(int)\n",
    "\n",
    "Y = df_cs['round_winner']\n",
    "scaler = StandardScaler()\n",
    "X = scaler.fit_transform(df_cs.drop('round_winner', axis=1))\n",
    "\n",
    "df_cs_scaled = pd.DataFrame(X, columns=df_cs.drop('round_winner', axis=1).columns)\n",
    "df_cs_scaled['round_winner'] = Y"
   ]
  },
  {
   "cell_type": "code",
   "execution_count": 111,
   "metadata": {},
   "outputs": [
    {
     "output_type": "stream",
     "name": "stderr",
     "text": [
      "/Users/tomasmikula/.virtualenvs/fcapy/lib/python3.8/site-packages/statsmodels/regression/linear_model.py:1717: RuntimeWarning: invalid value encountered in double_scalars\n  return 1 - self.ssr/self.uncentered_tss\n"
     ]
    },
    {
     "output_type": "execute_result",
     "data": {
      "text/plain": [
       "[5.365212886261656,\n",
       " 1.98598384833828,\n",
       " 1.9610539057347693,\n",
       " 1.7940849048534948,\n",
       " 23.628749822841456,\n",
       " 17.910223046417947,\n",
       " 5.94225881210855,\n",
       " 8.701519714841144,\n",
       " 2.6331244239682423,\n",
       " 2.416300678248372,\n",
       " 5.194022800946561,\n",
       " 21.33225212641366,\n",
       " 4.253790165549808,\n",
       " 138.35145708792135,\n",
       " 116.07894300264981,\n",
       " 1.8542577660422255,\n",
       " 9.178838822200774,\n",
       " 1.5215461186661774,\n",
       " 1.0432122023972443,\n",
       " 2.2589875252764116,\n",
       " 2.03372843621299,\n",
       " nan,\n",
       " 1.0100282491362385,\n",
       " 17.18432974373097,\n",
       " 10.836979630941554,\n",
       " 1.3319543821985982,\n",
       " 1.1232670708037682,\n",
       " 1.4190213629565314,\n",
       " 1.0370937650928687,\n",
       " nan,\n",
       " 1.011545398322502,\n",
       " 1.0331216562185002,\n",
       " 1.777145503988405,\n",
       " 1.5906384949649193,\n",
       " 178.75040106926372,\n",
       " 1.000542774995635,\n",
       " nan,\n",
       " 1.1903905118302678,\n",
       " 1.0153727414247868,\n",
       " 4.53812018028911,\n",
       " 1.1945333057613665,\n",
       " 1.030888560162447,\n",
       " 1.9944496284215993,\n",
       " 1.0206584869275028,\n",
       " 1.002365591276979,\n",
       " 1.0125207306683734,\n",
       " 1.0382217176478967,\n",
       " 1.0111609813518019,\n",
       " 1.0203040594744224,\n",
       " 1.7310426348677712,\n",
       " 1.0459991848764765,\n",
       " nan,\n",
       " 1.000373341185153,\n",
       " 1.00824028694973,\n",
       " 1.0037606080171957,\n",
       " 1.0027530791686956,\n",
       " 1.002506264522497,\n",
       " nan,\n",
       " 1.0051055458104126,\n",
       " nan,\n",
       " 1.0015270465048853,\n",
       " 1.0053859586649434,\n",
       " 1.0006728513420136,\n",
       " 1.8658937334130397,\n",
       " 6.811887952146547,\n",
       " 1.2916365988681,\n",
       " 1.1204110463082386,\n",
       " 1.18103821891552,\n",
       " 1.2907254807818414,\n",
       " 1.0303183374587253,\n",
       " 1.0032306760388672,\n",
       " 57.69488761798642,\n",
       " 46.17442568148106,\n",
       " 7.784624234190793,\n",
       " 1.7022791311391554,\n",
       " 204.10324977024794,\n",
       " 14.17989434007083,\n",
       " 24.255713187234974,\n",
       " 23.880927732327006,\n",
       " 15.57716548780767,\n",
       " 1.3976639778083948,\n",
       " 1.7528858631266768,\n",
       " 3.5326916157137864,\n",
       " 2.935500507578589,\n",
       " 1.5316683870250065,\n",
       " 5.15561637922744,\n",
       " 4.940972066593905,\n",
       " 4.881082971818057,\n",
       " 4.797893695563896,\n",
       " 3.8909640132530865,\n",
       " 1.0349009576284007,\n",
       " 1.0869942265542991,\n",
       " 4.195288132209239,\n",
       " 1.041869125614668,\n",
       " 1.0362038717325632]"
      ]
     },
     "metadata": {},
     "execution_count": 111
    }
   ],
   "source": [
    "vif = [variance_inflation_factor(df_cs_scaled.values, i) for i in range(len(df_cs_scaled.columns) - 1)]"
   ]
  },
  {
   "cell_type": "code",
   "execution_count": 161,
   "metadata": {},
   "outputs": [
    {
     "output_type": "execute_result",
     "data": {
      "text/plain": [
       "           vif                      features\n",
       "75  204.103250                ct_weapon_usps\n",
       "34  178.750401                t_weapon_glock\n",
       "13  138.351457              ct_players_alive\n",
       "14  116.078943               t_players_alive\n",
       "71   57.694888              ct_weapon_deagle\n",
       "72   46.174426               t_weapon_deagle\n",
       "77   24.255713                ct_weapon_p250\n",
       "78   23.880928                 t_weapon_p250\n",
       "4    23.628750                     ct_health\n",
       "11   21.332252                     t_helmets\n",
       "5    17.910223                      t_health\n",
       "23   17.184330            ct_weapon_cz75auto\n",
       "79   15.577165               ct_weapon_p2000\n",
       "76   14.179894                 t_weapon_usps\n",
       "24   10.836980             t_weapon_cz75auto\n",
       "16    9.178839                 t_weapon_ak47\n",
       "7     8.701520                       t_armor\n",
       "73    7.784624           ct_weapon_fiveseven\n",
       "64    6.811888                t_weapon_sg553\n",
       "6     5.942259                      ct_armor\n",
       "0     5.365213                     time_left\n",
       "10    5.194023                    ct_helmets\n",
       "85    5.155616          ct_grenade_flashbang\n",
       "86    4.940972           t_grenade_flashbang\n",
       "87    4.881083       ct_grenade_smokegrenade\n",
       "88    4.797894        t_grenade_smokegrenade\n",
       "39    4.538120                ct_weapon_m4a4\n",
       "12    4.253790                ct_defuse_kits\n",
       "92    4.195288      t_grenade_molotovgrenade\n",
       "89    3.890964  ct_grenade_incendiarygrenade\n",
       "82    3.532692                 t_weapon_tec9\n",
       "83    2.935501          ct_grenade_hegrenade\n",
       "8     2.633124                      ct_money\n",
       "9     2.416301                       t_money\n",
       "19    2.258988                 ct_weapon_awp\n",
       "20    2.033728                  t_weapon_awp"
      ],
      "text/html": "<div>\n<style scoped>\n    .dataframe tbody tr th:only-of-type {\n        vertical-align: middle;\n    }\n\n    .dataframe tbody tr th {\n        vertical-align: top;\n    }\n\n    .dataframe thead th {\n        text-align: right;\n    }\n</style>\n<table border=\"1\" class=\"dataframe\">\n  <thead>\n    <tr style=\"text-align: right;\">\n      <th></th>\n      <th>vif</th>\n      <th>features</th>\n    </tr>\n  </thead>\n  <tbody>\n    <tr>\n      <th>75</th>\n      <td>204.103250</td>\n      <td>ct_weapon_usps</td>\n    </tr>\n    <tr>\n      <th>34</th>\n      <td>178.750401</td>\n      <td>t_weapon_glock</td>\n    </tr>\n    <tr>\n      <th>13</th>\n      <td>138.351457</td>\n      <td>ct_players_alive</td>\n    </tr>\n    <tr>\n      <th>14</th>\n      <td>116.078943</td>\n      <td>t_players_alive</td>\n    </tr>\n    <tr>\n      <th>71</th>\n      <td>57.694888</td>\n      <td>ct_weapon_deagle</td>\n    </tr>\n    <tr>\n      <th>72</th>\n      <td>46.174426</td>\n      <td>t_weapon_deagle</td>\n    </tr>\n    <tr>\n      <th>77</th>\n      <td>24.255713</td>\n      <td>ct_weapon_p250</td>\n    </tr>\n    <tr>\n      <th>78</th>\n      <td>23.880928</td>\n      <td>t_weapon_p250</td>\n    </tr>\n    <tr>\n      <th>4</th>\n      <td>23.628750</td>\n      <td>ct_health</td>\n    </tr>\n    <tr>\n      <th>11</th>\n      <td>21.332252</td>\n      <td>t_helmets</td>\n    </tr>\n    <tr>\n      <th>5</th>\n      <td>17.910223</td>\n      <td>t_health</td>\n    </tr>\n    <tr>\n      <th>23</th>\n      <td>17.184330</td>\n      <td>ct_weapon_cz75auto</td>\n    </tr>\n    <tr>\n      <th>79</th>\n      <td>15.577165</td>\n      <td>ct_weapon_p2000</td>\n    </tr>\n    <tr>\n      <th>76</th>\n      <td>14.179894</td>\n      <td>t_weapon_usps</td>\n    </tr>\n    <tr>\n      <th>24</th>\n      <td>10.836980</td>\n      <td>t_weapon_cz75auto</td>\n    </tr>\n    <tr>\n      <th>16</th>\n      <td>9.178839</td>\n      <td>t_weapon_ak47</td>\n    </tr>\n    <tr>\n      <th>7</th>\n      <td>8.701520</td>\n      <td>t_armor</td>\n    </tr>\n    <tr>\n      <th>73</th>\n      <td>7.784624</td>\n      <td>ct_weapon_fiveseven</td>\n    </tr>\n    <tr>\n      <th>64</th>\n      <td>6.811888</td>\n      <td>t_weapon_sg553</td>\n    </tr>\n    <tr>\n      <th>6</th>\n      <td>5.942259</td>\n      <td>ct_armor</td>\n    </tr>\n    <tr>\n      <th>0</th>\n      <td>5.365213</td>\n      <td>time_left</td>\n    </tr>\n    <tr>\n      <th>10</th>\n      <td>5.194023</td>\n      <td>ct_helmets</td>\n    </tr>\n    <tr>\n      <th>85</th>\n      <td>5.155616</td>\n      <td>ct_grenade_flashbang</td>\n    </tr>\n    <tr>\n      <th>86</th>\n      <td>4.940972</td>\n      <td>t_grenade_flashbang</td>\n    </tr>\n    <tr>\n      <th>87</th>\n      <td>4.881083</td>\n      <td>ct_grenade_smokegrenade</td>\n    </tr>\n    <tr>\n      <th>88</th>\n      <td>4.797894</td>\n      <td>t_grenade_smokegrenade</td>\n    </tr>\n    <tr>\n      <th>39</th>\n      <td>4.538120</td>\n      <td>ct_weapon_m4a4</td>\n    </tr>\n    <tr>\n      <th>12</th>\n      <td>4.253790</td>\n      <td>ct_defuse_kits</td>\n    </tr>\n    <tr>\n      <th>92</th>\n      <td>4.195288</td>\n      <td>t_grenade_molotovgrenade</td>\n    </tr>\n    <tr>\n      <th>89</th>\n      <td>3.890964</td>\n      <td>ct_grenade_incendiarygrenade</td>\n    </tr>\n    <tr>\n      <th>82</th>\n      <td>3.532692</td>\n      <td>t_weapon_tec9</td>\n    </tr>\n    <tr>\n      <th>83</th>\n      <td>2.935501</td>\n      <td>ct_grenade_hegrenade</td>\n    </tr>\n    <tr>\n      <th>8</th>\n      <td>2.633124</td>\n      <td>ct_money</td>\n    </tr>\n    <tr>\n      <th>9</th>\n      <td>2.416301</td>\n      <td>t_money</td>\n    </tr>\n    <tr>\n      <th>19</th>\n      <td>2.258988</td>\n      <td>ct_weapon_awp</td>\n    </tr>\n    <tr>\n      <th>20</th>\n      <td>2.033728</td>\n      <td>t_weapon_awp</td>\n    </tr>\n  </tbody>\n</table>\n</div>"
     },
     "metadata": {},
     "execution_count": 161
    }
   ],
   "source": [
    "vif_df = pd.DataFrame(vif, columns=['vif'])\n",
    "vif_df['features'] = df_cs_scaled.columns[:-1]\n",
    "vif_remove = vif_df[vif_df['vif'] > 5].sort_values(['vif'], ascending=False)\n",
    "\n",
    "df_cs_scaled = df_cs_scaled.drop(vif_remove['features'], axis=1)\n",
    "\n",
    "vif_remove"
   ]
  },
  {
   "cell_type": "code",
   "execution_count": 162,
   "metadata": {},
   "outputs": [
    {
     "output_type": "execute_result",
     "data": {
      "text/plain": [
       "        ct_score   t_score  bomb_planted  ct_weapon_ak47  ct_weapon_aug  \\\n",
       "0      -1.400576 -1.405702     -0.354764       -0.470136      -0.292446   \n",
       "1      -1.400576 -1.405702     -0.354764       -0.470136      -0.292446   \n",
       "2      -1.400576 -1.405702     -0.354764       -0.470136      -0.292446   \n",
       "3      -1.400576 -1.405702     -0.354764       -0.470136      -0.292446   \n",
       "4      -1.191823 -1.405702     -0.354764       -0.470136      -0.292446   \n",
       "...          ...       ...           ...             ...            ...   \n",
       "122405  0.895711  1.496741      2.818773       -0.470136      -0.292446   \n",
       "122406  0.895711  1.704058     -0.354764       -0.470136      -0.292446   \n",
       "122407  0.895711  1.704058     -0.354764       -0.470136      -0.292446   \n",
       "122408  0.895711  1.704058     -0.354764       -0.470136      -0.292446   \n",
       "122409  0.895711  1.704058     -0.354764       -0.470136      -0.292446   \n",
       "\n",
       "        t_weapon_aug  ct_weapon_bizon  t_weapon_bizon  ct_weapon_elite  \\\n",
       "0          -0.083519              0.0       -0.009039        -0.063461   \n",
       "1          -0.083519              0.0       -0.009039        -0.063461   \n",
       "2          -0.083519              0.0       -0.009039        -0.063461   \n",
       "3          -0.083519              0.0       -0.009039        -0.063461   \n",
       "4          -0.083519              0.0       -0.009039        -0.063461   \n",
       "...              ...              ...             ...              ...   \n",
       "122405     -0.083519              0.0       -0.009039        -0.063461   \n",
       "122406     -0.083519              0.0       -0.009039        -0.063461   \n",
       "122407     -0.083519              0.0       -0.009039        -0.063461   \n",
       "122408     -0.083519              0.0       -0.009039        -0.063461   \n",
       "122409     -0.083519              0.0       -0.009039        -0.063461   \n",
       "\n",
       "        t_weapon_elite  ...  t_weapon_xm1014  t_weapon_fiveseven  \\\n",
       "0            -0.042141  ...         -0.01617           -0.093784   \n",
       "1            -0.042141  ...         -0.01617           -0.093784   \n",
       "2            -0.042141  ...         -0.01617           -0.093784   \n",
       "3            -0.042141  ...         -0.01617           -0.093784   \n",
       "4            -0.042141  ...         -0.01617           -0.093784   \n",
       "...                ...  ...              ...                 ...   \n",
       "122405       -0.042141  ...         -0.01617           -0.093784   \n",
       "122406       -0.042141  ...         -0.01617           -0.093784   \n",
       "122407       -0.042141  ...         -0.01617           -0.093784   \n",
       "122408       -0.042141  ...         -0.01617           -0.093784   \n",
       "122409       -0.042141  ...         -0.01617           -0.093784   \n",
       "\n",
       "        t_weapon_p2000  ct_weapon_tec9  t_grenade_hegrenade  \\\n",
       "0            -0.065959       -0.085586            -0.542299   \n",
       "1            -0.065959       -0.085586            -0.542299   \n",
       "2            -0.065959       -0.085586            -0.542299   \n",
       "3            13.301747       -0.085586            -0.542299   \n",
       "4            -0.065959       -0.085586            -0.542299   \n",
       "...                ...             ...                  ...   \n",
       "122405       -0.065959       -0.085586            -0.542299   \n",
       "122406       -0.065959       -0.085586            -0.542299   \n",
       "122407       -0.065959       -0.085586            -0.542299   \n",
       "122408       -0.065959       -0.085586            -0.542299   \n",
       "122409       -0.065959       -0.085586            -0.542299   \n",
       "\n",
       "        t_grenade_incendiarygrenade  ct_grenade_molotovgrenade  \\\n",
       "0                         -0.137694                  -0.210881   \n",
       "1                         -0.137694                  -0.210881   \n",
       "2                         -0.137694                  -0.210881   \n",
       "3                         -0.137694                  -0.210881   \n",
       "4                         -0.137694                  -0.210881   \n",
       "...                             ...                        ...   \n",
       "122405                    -0.137694                  -0.210881   \n",
       "122406                    -0.137694                  -0.210881   \n",
       "122407                    -0.137694                  -0.210881   \n",
       "122408                    -0.137694                  -0.210881   \n",
       "122409                    -0.137694                  -0.210881   \n",
       "\n",
       "        ct_grenade_decoygrenade  t_grenade_decoygrenade  round_winner  \n",
       "0                     -0.163356               -0.156855             1  \n",
       "1                     -0.163356               -0.156855             1  \n",
       "2                     -0.163356               -0.156855             1  \n",
       "3                     -0.163356               -0.156855             1  \n",
       "4                     -0.163356               -0.156855             1  \n",
       "...                         ...                     ...           ...  \n",
       "122405                -0.163356               -0.156855             0  \n",
       "122406                -0.163356               -0.156855             0  \n",
       "122407                -0.163356               -0.156855             0  \n",
       "122408                -0.163356               -0.156855             0  \n",
       "122409                -0.163356               -0.156855             0  \n",
       "\n",
       "[122410 rows x 60 columns]"
      ],
      "text/html": "<div>\n<style scoped>\n    .dataframe tbody tr th:only-of-type {\n        vertical-align: middle;\n    }\n\n    .dataframe tbody tr th {\n        vertical-align: top;\n    }\n\n    .dataframe thead th {\n        text-align: right;\n    }\n</style>\n<table border=\"1\" class=\"dataframe\">\n  <thead>\n    <tr style=\"text-align: right;\">\n      <th></th>\n      <th>ct_score</th>\n      <th>t_score</th>\n      <th>bomb_planted</th>\n      <th>ct_weapon_ak47</th>\n      <th>ct_weapon_aug</th>\n      <th>t_weapon_aug</th>\n      <th>ct_weapon_bizon</th>\n      <th>t_weapon_bizon</th>\n      <th>ct_weapon_elite</th>\n      <th>t_weapon_elite</th>\n      <th>...</th>\n      <th>t_weapon_xm1014</th>\n      <th>t_weapon_fiveseven</th>\n      <th>t_weapon_p2000</th>\n      <th>ct_weapon_tec9</th>\n      <th>t_grenade_hegrenade</th>\n      <th>t_grenade_incendiarygrenade</th>\n      <th>ct_grenade_molotovgrenade</th>\n      <th>ct_grenade_decoygrenade</th>\n      <th>t_grenade_decoygrenade</th>\n      <th>round_winner</th>\n    </tr>\n  </thead>\n  <tbody>\n    <tr>\n      <th>0</th>\n      <td>-1.400576</td>\n      <td>-1.405702</td>\n      <td>-0.354764</td>\n      <td>-0.470136</td>\n      <td>-0.292446</td>\n      <td>-0.083519</td>\n      <td>0.0</td>\n      <td>-0.009039</td>\n      <td>-0.063461</td>\n      <td>-0.042141</td>\n      <td>...</td>\n      <td>-0.01617</td>\n      <td>-0.093784</td>\n      <td>-0.065959</td>\n      <td>-0.085586</td>\n      <td>-0.542299</td>\n      <td>-0.137694</td>\n      <td>-0.210881</td>\n      <td>-0.163356</td>\n      <td>-0.156855</td>\n      <td>1</td>\n    </tr>\n    <tr>\n      <th>1</th>\n      <td>-1.400576</td>\n      <td>-1.405702</td>\n      <td>-0.354764</td>\n      <td>-0.470136</td>\n      <td>-0.292446</td>\n      <td>-0.083519</td>\n      <td>0.0</td>\n      <td>-0.009039</td>\n      <td>-0.063461</td>\n      <td>-0.042141</td>\n      <td>...</td>\n      <td>-0.01617</td>\n      <td>-0.093784</td>\n      <td>-0.065959</td>\n      <td>-0.085586</td>\n      <td>-0.542299</td>\n      <td>-0.137694</td>\n      <td>-0.210881</td>\n      <td>-0.163356</td>\n      <td>-0.156855</td>\n      <td>1</td>\n    </tr>\n    <tr>\n      <th>2</th>\n      <td>-1.400576</td>\n      <td>-1.405702</td>\n      <td>-0.354764</td>\n      <td>-0.470136</td>\n      <td>-0.292446</td>\n      <td>-0.083519</td>\n      <td>0.0</td>\n      <td>-0.009039</td>\n      <td>-0.063461</td>\n      <td>-0.042141</td>\n      <td>...</td>\n      <td>-0.01617</td>\n      <td>-0.093784</td>\n      <td>-0.065959</td>\n      <td>-0.085586</td>\n      <td>-0.542299</td>\n      <td>-0.137694</td>\n      <td>-0.210881</td>\n      <td>-0.163356</td>\n      <td>-0.156855</td>\n      <td>1</td>\n    </tr>\n    <tr>\n      <th>3</th>\n      <td>-1.400576</td>\n      <td>-1.405702</td>\n      <td>-0.354764</td>\n      <td>-0.470136</td>\n      <td>-0.292446</td>\n      <td>-0.083519</td>\n      <td>0.0</td>\n      <td>-0.009039</td>\n      <td>-0.063461</td>\n      <td>-0.042141</td>\n      <td>...</td>\n      <td>-0.01617</td>\n      <td>-0.093784</td>\n      <td>13.301747</td>\n      <td>-0.085586</td>\n      <td>-0.542299</td>\n      <td>-0.137694</td>\n      <td>-0.210881</td>\n      <td>-0.163356</td>\n      <td>-0.156855</td>\n      <td>1</td>\n    </tr>\n    <tr>\n      <th>4</th>\n      <td>-1.191823</td>\n      <td>-1.405702</td>\n      <td>-0.354764</td>\n      <td>-0.470136</td>\n      <td>-0.292446</td>\n      <td>-0.083519</td>\n      <td>0.0</td>\n      <td>-0.009039</td>\n      <td>-0.063461</td>\n      <td>-0.042141</td>\n      <td>...</td>\n      <td>-0.01617</td>\n      <td>-0.093784</td>\n      <td>-0.065959</td>\n      <td>-0.085586</td>\n      <td>-0.542299</td>\n      <td>-0.137694</td>\n      <td>-0.210881</td>\n      <td>-0.163356</td>\n      <td>-0.156855</td>\n      <td>1</td>\n    </tr>\n    <tr>\n      <th>...</th>\n      <td>...</td>\n      <td>...</td>\n      <td>...</td>\n      <td>...</td>\n      <td>...</td>\n      <td>...</td>\n      <td>...</td>\n      <td>...</td>\n      <td>...</td>\n      <td>...</td>\n      <td>...</td>\n      <td>...</td>\n      <td>...</td>\n      <td>...</td>\n      <td>...</td>\n      <td>...</td>\n      <td>...</td>\n      <td>...</td>\n      <td>...</td>\n      <td>...</td>\n      <td>...</td>\n    </tr>\n    <tr>\n      <th>122405</th>\n      <td>0.895711</td>\n      <td>1.496741</td>\n      <td>2.818773</td>\n      <td>-0.470136</td>\n      <td>-0.292446</td>\n      <td>-0.083519</td>\n      <td>0.0</td>\n      <td>-0.009039</td>\n      <td>-0.063461</td>\n      <td>-0.042141</td>\n      <td>...</td>\n      <td>-0.01617</td>\n      <td>-0.093784</td>\n      <td>-0.065959</td>\n      <td>-0.085586</td>\n      <td>-0.542299</td>\n      <td>-0.137694</td>\n      <td>-0.210881</td>\n      <td>-0.163356</td>\n      <td>-0.156855</td>\n      <td>0</td>\n    </tr>\n    <tr>\n      <th>122406</th>\n      <td>0.895711</td>\n      <td>1.704058</td>\n      <td>-0.354764</td>\n      <td>-0.470136</td>\n      <td>-0.292446</td>\n      <td>-0.083519</td>\n      <td>0.0</td>\n      <td>-0.009039</td>\n      <td>-0.063461</td>\n      <td>-0.042141</td>\n      <td>...</td>\n      <td>-0.01617</td>\n      <td>-0.093784</td>\n      <td>-0.065959</td>\n      <td>-0.085586</td>\n      <td>-0.542299</td>\n      <td>-0.137694</td>\n      <td>-0.210881</td>\n      <td>-0.163356</td>\n      <td>-0.156855</td>\n      <td>0</td>\n    </tr>\n    <tr>\n      <th>122407</th>\n      <td>0.895711</td>\n      <td>1.704058</td>\n      <td>-0.354764</td>\n      <td>-0.470136</td>\n      <td>-0.292446</td>\n      <td>-0.083519</td>\n      <td>0.0</td>\n      <td>-0.009039</td>\n      <td>-0.063461</td>\n      <td>-0.042141</td>\n      <td>...</td>\n      <td>-0.01617</td>\n      <td>-0.093784</td>\n      <td>-0.065959</td>\n      <td>-0.085586</td>\n      <td>-0.542299</td>\n      <td>-0.137694</td>\n      <td>-0.210881</td>\n      <td>-0.163356</td>\n      <td>-0.156855</td>\n      <td>0</td>\n    </tr>\n    <tr>\n      <th>122408</th>\n      <td>0.895711</td>\n      <td>1.704058</td>\n      <td>-0.354764</td>\n      <td>-0.470136</td>\n      <td>-0.292446</td>\n      <td>-0.083519</td>\n      <td>0.0</td>\n      <td>-0.009039</td>\n      <td>-0.063461</td>\n      <td>-0.042141</td>\n      <td>...</td>\n      <td>-0.01617</td>\n      <td>-0.093784</td>\n      <td>-0.065959</td>\n      <td>-0.085586</td>\n      <td>-0.542299</td>\n      <td>-0.137694</td>\n      <td>-0.210881</td>\n      <td>-0.163356</td>\n      <td>-0.156855</td>\n      <td>0</td>\n    </tr>\n    <tr>\n      <th>122409</th>\n      <td>0.895711</td>\n      <td>1.704058</td>\n      <td>-0.354764</td>\n      <td>-0.470136</td>\n      <td>-0.292446</td>\n      <td>-0.083519</td>\n      <td>0.0</td>\n      <td>-0.009039</td>\n      <td>-0.063461</td>\n      <td>-0.042141</td>\n      <td>...</td>\n      <td>-0.01617</td>\n      <td>-0.093784</td>\n      <td>-0.065959</td>\n      <td>-0.085586</td>\n      <td>-0.542299</td>\n      <td>-0.137694</td>\n      <td>-0.210881</td>\n      <td>-0.163356</td>\n      <td>-0.156855</td>\n      <td>0</td>\n    </tr>\n  </tbody>\n</table>\n<p>122410 rows × 60 columns</p>\n</div>"
     },
     "metadata": {},
     "execution_count": 162
    }
   ],
   "source": [
    "df_cs_scaled"
   ]
  },
  {
   "cell_type": "code",
   "execution_count": 6,
   "metadata": {},
   "outputs": [],
   "source": [
    "# default 0.25 test\n",
    "train, test = train_test_split(df_cs_scaled)"
   ]
  },
  {
   "source": [
    "# p > 1 scaled"
   ],
   "cell_type": "markdown",
   "metadata": {}
  },
  {
   "cell_type": "code",
   "execution_count": 167,
   "metadata": {},
   "outputs": [],
   "source": [
    "train_input_var = train.drop(['round_winner'], axis=1)\n",
    "train_input_target = train['round_winner'].astype(int)\n",
    "\n",
    "test_input_var = test.drop(['round_winner'], axis=1)\n",
    "test_input_target = test['round_winner'].astype(int)"
   ]
  },
  {
   "cell_type": "code",
   "execution_count": 172,
   "metadata": {},
   "outputs": [
    {
     "output_type": "stream",
     "name": "stderr",
     "text": [
      "/Users/tomasmikula/.virtualenvs/fcapy/lib/python3.8/site-packages/sklearn/discriminant_analysis.py:715: UserWarning: Variables are collinear\n  warnings.warn(\"Variables are collinear\")\n"
     ]
    }
   ],
   "source": [
    "model = QuadraticDiscriminantAnalysis()\n",
    "model = model.fit(train_input_var, train_input_target)"
   ]
  },
  {
   "source": [
    "## Train eval"
   ],
   "cell_type": "markdown",
   "metadata": {}
  },
  {
   "cell_type": "code",
   "execution_count": 173,
   "metadata": {},
   "outputs": [
    {
     "output_type": "execute_result",
     "data": {
      "text/plain": [
       "0.5183700589279685"
      ]
     },
     "metadata": {},
     "execution_count": 173
    }
   ],
   "source": [
    "model.score(train_input_var, train_input_target)"
   ]
  },
  {
   "cell_type": "code",
   "execution_count": 174,
   "metadata": {},
   "outputs": [
    {
     "output_type": "execute_result",
     "data": {
      "text/plain": [
       "array([[39717,  7180],\n",
       "       [37037,  7873]])"
      ]
     },
     "metadata": {},
     "execution_count": 174
    }
   ],
   "source": [
    "confusion_matrix(train_input_target, model.predict(train_input_var).astype(float))"
   ]
  },
  {
   "source": [
    "## Test eval"
   ],
   "cell_type": "markdown",
   "metadata": {}
  },
  {
   "cell_type": "code",
   "execution_count": 175,
   "metadata": {},
   "outputs": [
    {
     "output_type": "execute_result",
     "data": {
      "text/plain": [
       "0.511191713230729"
      ]
     },
     "metadata": {},
     "execution_count": 175
    }
   ],
   "source": [
    "model.score(test_input_var, test_input_target)"
   ]
  },
  {
   "cell_type": "code",
   "execution_count": 176,
   "metadata": {},
   "outputs": [
    {
     "output_type": "execute_result",
     "data": {
      "text/plain": [
       "array([[13005,  2504],\n",
       "       [12455,  2639]])"
      ]
     },
     "metadata": {},
     "execution_count": 176
    }
   ],
   "source": [
    "confusion_matrix(test_input_target, model.predict(test_input_var).astype(float))"
   ]
  }
 ]
}