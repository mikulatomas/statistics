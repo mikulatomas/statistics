{
 "metadata": {
  "language_info": {
   "codemirror_mode": {
    "name": "ipython",
    "version": 3
   },
   "file_extension": ".py",
   "mimetype": "text/x-python",
   "name": "python",
   "nbconvert_exporter": "python",
   "pygments_lexer": "ipython3",
   "version": "3.8.9"
  },
  "orig_nbformat": 2,
  "kernelspec": {
   "name": "python389jvsc74a57bd0082a18f759f8afdec9b7eec773590a36e4c3be1cd97bea91855dea5176a8175a",
   "display_name": "Python 3.8.9 64-bit ('fcapy': virtualenvwrapper)"
  }
 },
 "nbformat": 4,
 "nbformat_minor": 2,
 "cells": [
  {
   "cell_type": "code",
   "execution_count": 1,
   "metadata": {},
   "outputs": [],
   "source": [
    "from sklearn.decomposition import FactorAnalysis\n",
    "from datasets import load_dutch, load_titanic\n",
    "import plotly.express as px\n",
    "import pandas as pd\n",
    "from sklearn.preprocessing import MinMaxScaler,StandardScaler"
   ]
  },
  {
   "cell_type": "code",
   "execution_count": 156,
   "metadata": {},
   "outputs": [],
   "source": [
    "df = load_dutch()"
   ]
  },
  {
   "cell_type": "code",
   "execution_count": 157,
   "metadata": {},
   "outputs": [],
   "source": [
    "train_X = df.drop('target', axis=1)\n",
    "train_y = df['target']"
   ]
  },
  {
   "cell_type": "code",
   "execution_count": 158,
   "metadata": {},
   "outputs": [
    {
     "output_type": "execute_result",
     "data": {
      "text/plain": [
       "(166, 301)"
      ]
     },
     "metadata": {},
     "execution_count": 158
    }
   ],
   "source": [
    "train_X.shape"
   ]
  },
  {
   "cell_type": "code",
   "execution_count": 159,
   "metadata": {},
   "outputs": [
    {
     "output_type": "execute_result",
     "data": {
      "text/plain": [
       "True"
      ]
     },
     "metadata": {},
     "execution_count": 159
    }
   ],
   "source": [
    "np.isfinite(train_X.values).all()"
   ]
  },
  {
   "cell_type": "code",
   "execution_count": 46,
   "metadata": {},
   "outputs": [],
   "source": [
    "transformer = FactorAnalysis(n_components=2, random_state=0, rotation='varimax').fit(train_X)\n",
    "transformed_X = transformer.transform(train_X)"
   ]
  },
  {
   "cell_type": "code",
   "execution_count": 47,
   "metadata": {},
   "outputs": [
    {
     "output_type": "display_data",
     "data": {
      "application/vnd.plotly.v1+json": {
       "config": {
        "plotlyServerURL": "https://plot.ly"
       },
       "data": [
        {
         "customdata": [
          [
           "(hot air) balloon"
          ],
          [
           "airplane"
          ],
          [
           "bicycle"
          ],
          [
           "boat"
          ],
          [
           "bus"
          ],
          [
           "car"
          ],
          [
           "carriage"
          ],
          [
           "cart"
          ],
          [
           "go-cart"
          ],
          [
           "helicopter"
          ],
          [
           "hovercraft"
          ],
          [
           "jeep"
          ],
          [
           "kick scooter"
          ],
          [
           "motorbike (moto)"
          ],
          [
           "rocket"
          ],
          [
           "scooter (bromfiets)"
          ],
          [
           "scooter (brommer)"
          ],
          [
           "skateboard"
          ],
          [
           "sled"
          ],
          [
           "submarine"
          ],
          [
           "subway train"
          ],
          [
           "taxi"
          ],
          [
           "tractor"
          ],
          [
           "trailer"
          ],
          [
           "train"
          ],
          [
           "tram"
          ],
          [
           "truck (camion)"
          ],
          [
           "truck (vrachtwagen)"
          ],
          [
           "van"
          ],
          [
           "zeppelin"
          ]
         ],
         "hovertemplate": "target=vehicle<br>x=%{x}<br>y=%{y}<br>size=%{marker.size}<br>name=%{customdata[0]}<extra></extra>",
         "legendgroup": "vehicle",
         "marker": {
          "color": "#636efa",
          "size": [
           1,
           1,
           1,
           1,
           1,
           1,
           1,
           1,
           1,
           1,
           1,
           1,
           1,
           1,
           1,
           1,
           1,
           1,
           1,
           1,
           1,
           1,
           1,
           1,
           1,
           1,
           1,
           1,
           1,
           1
          ],
          "sizemode": "area",
          "sizeref": 0.0044444444444444444,
          "symbol": "circle"
         },
         "mode": "markers",
         "name": "vehicle",
         "orientation": "v",
         "showlegend": true,
         "type": "scatter",
         "x": [
          -0.43156405204240933,
          -0.4964642171867456,
          -0.4721180857066287,
          -0.48305906167927826,
          -0.5048275074269236,
          -0.4946961823485272,
          -0.46735950624172773,
          -0.49904405191095913,
          -0.4757361268629399,
          -0.49509684319628944,
          -0.49390187841126076,
          -0.4928155689717226,
          -0.473920799236137,
          -0.4869394794545768,
          -0.49041197686888716,
          -0.49568488498189617,
          -0.48432111483050755,
          -0.4629101347077034,
          -0.4698724086903511,
          -0.4997566098841477,
          -0.5030247754468016,
          -0.4864236262255697,
          -0.5013286629014697,
          -0.47954001215523984,
          -0.5001382634673024,
          -0.5002007472475616,
          -0.5079765685321469,
          -0.5101446973782389,
          -0.503742390015766,
          -0.4466185070299179
         ],
         "xaxis": "x",
         "y": [
          -0.22802002076608346,
          -0.5742524149273545,
          -0.3527183650149522,
          -0.5204069773589565,
          -0.5800894135671644,
          -0.4858366874724261,
          -0.4575350435608413,
          -0.5113488509751983,
          -0.48415870351472956,
          -0.6019539558649603,
          -0.5791000856065478,
          -0.5342266375371146,
          -0.4676105428330083,
          -0.5060145314871106,
          -0.5729220815885668,
          -0.5263034451794955,
          -0.4874456991121646,
          -0.4323925269107059,
          -0.45306379083216786,
          -0.596974843438846,
          -0.5749538702116083,
          -0.5576264594875614,
          -0.5874229306015879,
          -0.45415783000709214,
          -0.5807680359394782,
          -0.580577854391783,
          -0.5742554157826043,
          -0.5950560969613767,
          -0.5775843971099431,
          -0.3451139848999251
         ],
         "yaxis": "y"
        },
        {
         "customdata": [
          [
           "accordion"
          ],
          [
           "bagpipe"
          ],
          [
           "banjo"
          ],
          [
           "bass guitar"
          ],
          [
           "bassoon"
          ],
          [
           "cello"
          ],
          [
           "clarinet"
          ],
          [
           "cymbals"
          ],
          [
           "double bass"
          ],
          [
           "drum"
          ],
          [
           "drum set"
          ],
          [
           "flute"
          ],
          [
           "guitar"
          ],
          [
           "harmonica"
          ],
          [
           "harp"
          ],
          [
           "harpsichord"
          ],
          [
           "organ"
          ],
          [
           "pan flute"
          ],
          [
           "piano"
          ],
          [
           "recorder"
          ],
          [
           "saxophone"
          ],
          [
           "synthesizer"
          ],
          [
           "tambourine"
          ],
          [
           "triangle"
          ],
          [
           "trombone"
          ],
          [
           "trumpet"
          ],
          [
           "violin"
          ]
         ],
         "hovertemplate": "target=musical instrument<br>x=%{x}<br>y=%{y}<br>size=%{marker.size}<br>name=%{customdata[0]}<extra></extra>",
         "legendgroup": "musical instrument",
         "marker": {
          "color": "#EF553B",
          "size": [
           1,
           1,
           1,
           1,
           1,
           1,
           1,
           1,
           1,
           1,
           1,
           1,
           1,
           1,
           1,
           1,
           1,
           1,
           1,
           1,
           1,
           1,
           1,
           1,
           1,
           1,
           1
          ],
          "sizemode": "area",
          "sizeref": 0.0044444444444444444,
          "symbol": "circle"
         },
         "mode": "markers",
         "name": "musical instrument",
         "orientation": "v",
         "showlegend": true,
         "type": "scatter",
         "x": [
          2.136614603364083,
          2.2920604583683404,
          2.2893995930453817,
          2.3024433377080125,
          2.2901660287125916,
          2.3429956627172928,
          2.2781098974460123,
          2.157508596952585,
          2.336915500282137,
          2.200920194795214,
          2.2832744860237733,
          2.252239050718523,
          2.305324095376454,
          2.1970278445825464,
          2.311128629997242,
          2.2596419594742425,
          2.2191987403577476,
          2.2728582643420707,
          2.30388157390556,
          2.237268564188138,
          2.2999439745104535,
          2.251632221376454,
          2.111991763669164,
          2.1054466156587868,
          2.262395581899361,
          2.26256100096356,
          2.2971301170392433
         ],
         "xaxis": "x",
         "y": [
          -0.1374279866990492,
          -0.035271311738926614,
          -0.21949539528412937,
          -0.2122333648695715,
          -0.24312816140911273,
          -0.22030843783852083,
          -0.2429938393874854,
          -0.27092166305102594,
          -0.2335590121217947,
          -0.21141666108991036,
          -0.2642669099942529,
          -0.2574870699048246,
          -0.18293985431211637,
          -0.2436198972096608,
          -0.23004977817749978,
          -0.2482830851176287,
          -0.24173735997059606,
          -0.2232517750737926,
          -0.22424488798463352,
          -0.21953333651007298,
          -0.2561126913668976,
          -0.26312112624728945,
          -0.2215997670535936,
          -0.27083309737876515,
          -0.26891646665485114,
          -0.2670911659394432,
          -0.23177928371263093
         ],
         "yaxis": "y"
        },
        {
         "customdata": [
          [
           "anvil"
          ],
          [
           "axe"
          ],
          [
           "chisel"
          ],
          [
           "clamp"
          ],
          [
           "crowbar (breekijzer)"
          ],
          [
           "crowbar (koevoet)"
          ],
          [
           "drill"
          ],
          [
           "file"
          ],
          [
           "filling knife"
          ],
          [
           "grinding disc"
          ],
          [
           "hammer"
          ],
          [
           "lawn mower"
          ],
          [
           "level"
          ],
          [
           "nail"
          ],
          [
           "oil can"
          ],
          [
           "paint brush"
          ],
          [
           "pickaxe"
          ],
          [
           "plane"
          ],
          [
           "plough"
          ],
          [
           "rope"
          ],
          [
           "saw"
          ],
          [
           "screw wrench (engelse sleutel)"
          ],
          [
           "screwdriver"
          ],
          [
           "shovel"
          ],
          [
           "tongs"
          ],
          [
           "vacuum cleaner"
          ],
          [
           "wheelbarrow"
          ],
          [
           "wire brush"
          ],
          [
           "wrench"
          ]
         ],
         "hovertemplate": "target=tool<br>x=%{x}<br>y=%{y}<br>size=%{marker.size}<br>name=%{customdata[0]}<extra></extra>",
         "legendgroup": "tool",
         "marker": {
          "color": "#00cc96",
          "size": [
           1,
           1,
           1,
           1,
           1,
           1,
           1,
           1,
           1,
           1,
           1,
           1,
           1,
           1,
           1,
           1,
           1,
           1,
           1,
           1,
           1,
           1,
           1,
           1,
           1,
           1,
           1,
           1,
           1
          ],
          "sizemode": "area",
          "sizeref": 0.0044444444444444444,
          "symbol": "circle"
         },
         "mode": "markers",
         "name": "tool",
         "orientation": "v",
         "showlegend": true,
         "type": "scatter",
         "x": [
          -0.5128203376760608,
          -0.5310643786196176,
          -0.5208976034677045,
          -0.5117067867879964,
          -0.523242493517582,
          -0.5246175581948086,
          -0.5121026298427152,
          -0.4843201687056097,
          -0.5183095640357761,
          -0.514270104857615,
          -0.5350770257337977,
          -0.5108278623516128,
          -0.5059021959692067,
          -0.522479155037008,
          -0.4993239089910095,
          -0.4965993769872844,
          -0.5254396714601282,
          -0.5150543457798382,
          -0.5186395851045492,
          -0.4870475280234252,
          -0.5257043265654495,
          -0.5222278410096616,
          -0.525814469955559,
          -0.5210173582336926,
          -0.5254537145062973,
          -0.4978560925603986,
          -0.5173579749045175,
          -0.507394210880232,
          -0.523342680564832
         ],
         "xaxis": "x",
         "y": [
          -0.5926993471795736,
          -0.6065087870456455,
          -0.5781058054071412,
          -0.5590578561695125,
          -0.6049899190253721,
          -0.6034498425651063,
          -0.5957589135681166,
          -0.5522239770086439,
          -0.5655821984016992,
          -0.6089674439732199,
          -0.6004197722092872,
          -0.5748811814204492,
          -0.5308000916735247,
          -0.5696956512042683,
          -0.5197769064938895,
          -0.44457737891636046,
          -0.6039901583425646,
          -0.5685285076201789,
          -0.5879417961219711,
          -0.3940195457273805,
          -0.603283106560664,
          -0.5874550624968339,
          -0.5762295748523969,
          -0.572460786523433,
          -0.5845774114102268,
          -0.5118175115542474,
          -0.5725184774960317,
          -0.5331410529158342,
          -0.5848603788705208
         ],
         "yaxis": "y"
        },
        {
         "customdata": [
          [
           "apron"
          ],
          [
           "bottle"
          ],
          [
           "bowl"
          ],
          [
           "can opener"
          ],
          [
           "colander"
          ],
          [
           "electric kettle"
          ],
          [
           "fork"
          ],
          [
           "fridge"
          ],
          [
           "glass"
          ],
          [
           "grater"
          ],
          [
           "kettle"
          ],
          [
           "knife"
          ],
          [
           "microwave oven"
          ],
          [
           "mixer"
          ],
          [
           "mug"
          ],
          [
           "nutcracker"
          ],
          [
           "oven"
          ],
          [
           "pan"
          ],
          [
           "percolator"
          ],
          [
           "place mat"
          ],
          [
           "plate"
          ],
          [
           "pot"
          ],
          [
           "scales"
          ],
          [
           "scissors"
          ],
          [
           "sieve"
          ],
          [
           "spatula"
          ],
          [
           "spoon"
          ],
          [
           "stove"
          ],
          [
           "teaspoon"
          ],
          [
           "toaster"
          ],
          [
           "towel"
          ],
          [
           "whisk"
          ],
          [
           "wok"
          ]
         ],
         "hovertemplate": "target=kitchen utensil<br>x=%{x}<br>y=%{y}<br>size=%{marker.size}<br>name=%{customdata[0]}<extra></extra>",
         "legendgroup": "kitchen utensil",
         "marker": {
          "color": "#ab63fa",
          "size": [
           1,
           1,
           1,
           1,
           1,
           1,
           1,
           1,
           1,
           1,
           1,
           1,
           1,
           1,
           1,
           1,
           1,
           1,
           1,
           1,
           1,
           1,
           1,
           1,
           1,
           1,
           1,
           1,
           1,
           1,
           1,
           1,
           1
          ],
          "sizemode": "area",
          "sizeref": 0.0044444444444444444,
          "symbol": "circle"
         },
         "mode": "markers",
         "name": "kitchen utensil",
         "orientation": "v",
         "showlegend": true,
         "type": "scatter",
         "x": [
          -0.3921150348221451,
          -0.3907466718614777,
          -0.4944968266303096,
          -0.5192383752973009,
          -0.5084685311378119,
          -0.4959940434540463,
          -0.5140708295241473,
          -0.507088082627641,
          -0.4829362398946939,
          -0.03706128190838215,
          -0.49842372265630036,
          -0.5399153747805696,
          -0.5027211010096739,
          -0.5146345559410759,
          -0.4773921500861539,
          -0.5116990876970232,
          -0.5068211513848665,
          -0.506431894108959,
          -0.49110385911249543,
          -0.45784657856660177,
          -0.4986239009231679,
          -0.5027419763958629,
          -0.49971451467877254,
          -0.5283926590761725,
          -0.510964186422588,
          -0.5010553101247923,
          -0.4983079275894448,
          -0.5155619916404196,
          -0.49060605857977907,
          -0.49969512652747383,
          -0.3488173388605166,
          -0.5022057707884288,
          -0.5088472397183276
         ],
         "xaxis": "x",
         "y": [
          0.6437932948231619,
          -0.41826960194709023,
          -0.4440964022554961,
          -0.5406323491233032,
          -0.47890381181683184,
          -0.49252832153834125,
          -0.45614655535122617,
          -0.538457996395518,
          -0.41076389941410385,
          -0.4994865700790775,
          -0.5089758241114701,
          -0.6009156695114192,
          -0.5146157727426015,
          -0.5380558740727585,
          -0.29682911502864207,
          -0.5280334014804365,
          -0.5372477998793902,
          -0.5091196146279713,
          -0.4802383643202808,
          -0.11623426949109716,
          -0.4157674663669003,
          -0.49363667566228897,
          -0.48122408287511736,
          -0.5474171917539268,
          -0.5018365261748204,
          -0.4688796404262338,
          -0.4493744457473484,
          -0.5447951662227533,
          -0.4493749384129458,
          -0.47774833309405473,
          0.12198946711715487,
          -0.5037565483544766,
          -0.4963661273565977
         ],
         "yaxis": "y"
        },
        {
         "customdata": [
          [
           "bathing suit"
          ],
          [
           "beanie"
          ],
          [
           "belt"
          ],
          [
           "blouse"
          ],
          [
           "boots"
          ],
          [
           "bra"
          ],
          [
           "cap"
          ],
          [
           "coat"
          ],
          [
           "dress"
          ],
          [
           "dungarees"
          ],
          [
           "hat"
          ],
          [
           "jeans"
          ],
          [
           "mittens"
          ],
          [
           "panties"
          ],
          [
           "pants"
          ],
          [
           "pullover"
          ],
          [
           "pyjamas"
          ],
          [
           "scarf"
          ],
          [
           "shirt"
          ],
          [
           "shoes"
          ],
          [
           "shorts"
          ],
          [
           "skirt"
          ],
          [
           "socks"
          ],
          [
           "suit"
          ],
          [
           "sweater"
          ],
          [
           "t-shirt"
          ],
          [
           "tie"
          ],
          [
           "top"
          ],
          [
           "tracksuit"
          ]
         ],
         "hovertemplate": "target=clothing<br>x=%{x}<br>y=%{y}<br>size=%{marker.size}<br>name=%{customdata[0]}<extra></extra>",
         "legendgroup": "clothing",
         "marker": {
          "color": "#FFA15A",
          "size": [
           1,
           1,
           1,
           1,
           1,
           1,
           1,
           1,
           1,
           1,
           1,
           1,
           1,
           1,
           1,
           1,
           1,
           1,
           1,
           1,
           1,
           1,
           1,
           1,
           1,
           1,
           1,
           1,
           1
          ],
          "sizemode": "area",
          "sizeref": 0.0044444444444444444,
          "symbol": "circle"
         },
         "mode": "markers",
         "name": "clothing",
         "orientation": "v",
         "showlegend": true,
         "type": "scatter",
         "x": [
          -0.24105862786622737,
          -0.24578471076362107,
          -0.2770664579611925,
          -0.21292315273171145,
          -0.29255583628141446,
          -0.22725131328184053,
          -0.24466675826785775,
          -0.22033029927320363,
          -0.11100166583107848,
          -0.24243296864636446,
          -0.2311186804789701,
          -0.22134145078549536,
          -0.24388414024697297,
          -0.22653962113978648,
          -0.2218511401434998,
          -0.21270876785283202,
          -0.21298846374766747,
          -0.23364095719458072,
          -0.20792713249893088,
          -0.27242363303408446,
          -0.23212909962811626,
          -0.21475298370853563,
          -0.23864000996981624,
          -0.22636928779714316,
          -0.21647009167492912,
          -0.22157182374849543,
          -0.23106991602093582,
          -0.22268051795868035,
          -0.23819724592600405
         ],
         "xaxis": "x",
         "y": [
          2.0580826027277768,
          1.9520853857429852,
          1.6169647515962025,
          2.3511117204698757,
          1.473012185241599,
          2.219020943310485,
          2.0551789774897924,
          2.2885739527388433,
          2.2848491607356713,
          2.0730899636860576,
          2.071140270080393,
          2.2397948917028954,
          2.0008922855146065,
          2.2728225549847285,
          2.3501622370822854,
          2.370426191491125,
          2.2763534453187817,
          2.104179355821138,
          2.3700513035805977,
          1.6929617706815767,
          2.1694393013097004,
          2.3067667455973084,
          2.138845055716484,
          2.0816382901461035,
          2.326574712321124,
          2.3093514703396756,
          2.1160314452735514,
          2.248588487708475,
          2.0615844287067295
         ],
         "yaxis": "y"
        },
        {
         "customdata": [
          [
           "bazooka"
          ],
          [
           "bow"
          ],
          [
           "canon"
          ],
          [
           "club"
          ],
          [
           "dagger"
          ],
          [
           "double-barreled shotgun"
          ],
          [
           "grenade"
          ],
          [
           "knuckle dusters"
          ],
          [
           "machine gun"
          ],
          [
           "pistol"
          ],
          [
           "rifle"
          ],
          [
           "shield"
          ],
          [
           "slingshot"
          ],
          [
           "spear"
          ],
          [
           "stick"
          ],
          [
           "sword"
          ],
          [
           "tank"
          ],
          [
           "whip"
          ]
         ],
         "hovertemplate": "target=weapon<br>x=%{x}<br>y=%{y}<br>size=%{marker.size}<br>name=%{customdata[0]}<extra></extra>",
         "legendgroup": "weapon",
         "marker": {
          "color": "#19d3f3",
          "size": [
           1,
           1,
           1,
           1,
           1,
           1,
           1,
           1,
           1,
           1,
           1,
           1,
           1,
           1,
           1,
           1,
           1,
           1
          ],
          "sizemode": "area",
          "sizeref": 0.0044444444444444444,
          "symbol": "circle"
         },
         "mode": "markers",
         "name": "weapon",
         "orientation": "v",
         "showlegend": true,
         "type": "scatter",
         "x": [
          -0.5033541436959942,
          -0.46873493817735684,
          -0.5148048162230626,
          -0.4962759503827121,
          -0.5015909061822065,
          -0.501946630478361,
          -0.4977984272290687,
          -0.4878434422360652,
          -0.507084014950522,
          -0.5115624303592816,
          -0.5114165130404764,
          -0.4804413346491688,
          -0.4826923768784529,
          -0.4891199275081473,
          -0.47262098202353797,
          -0.5036906641232802,
          -0.5101450669064728,
          -0.47728995277973946
         ],
         "xaxis": "x",
         "y": [
          -0.6187326520204164,
          -0.5050438739699367,
          -0.621856566344095,
          -0.5407643699820995,
          -0.5529837172602038,
          -0.6040481898383127,
          -0.5610817589713449,
          -0.4521941664658357,
          -0.6088517150687993,
          -0.6024560147663498,
          -0.6164403364635963,
          -0.4860139829637691,
          -0.5049889694114241,
          -0.5058620773990228,
          -0.5447526428282136,
          -0.5662465480251749,
          -0.6287987582333878,
          -0.47467863161684126
         ],
         "yaxis": "y"
        }
       ],
       "layout": {
        "legend": {
         "itemsizing": "constant",
         "title": {
          "text": "target"
         },
         "tracegroupgap": 0
        },
        "margin": {
         "t": 60
        },
        "template": {
         "data": {
          "bar": [
           {
            "error_x": {
             "color": "#2a3f5f"
            },
            "error_y": {
             "color": "#2a3f5f"
            },
            "marker": {
             "line": {
              "color": "#E5ECF6",
              "width": 0.5
             }
            },
            "type": "bar"
           }
          ],
          "barpolar": [
           {
            "marker": {
             "line": {
              "color": "#E5ECF6",
              "width": 0.5
             }
            },
            "type": "barpolar"
           }
          ],
          "carpet": [
           {
            "aaxis": {
             "endlinecolor": "#2a3f5f",
             "gridcolor": "white",
             "linecolor": "white",
             "minorgridcolor": "white",
             "startlinecolor": "#2a3f5f"
            },
            "baxis": {
             "endlinecolor": "#2a3f5f",
             "gridcolor": "white",
             "linecolor": "white",
             "minorgridcolor": "white",
             "startlinecolor": "#2a3f5f"
            },
            "type": "carpet"
           }
          ],
          "choropleth": [
           {
            "colorbar": {
             "outlinewidth": 0,
             "ticks": ""
            },
            "type": "choropleth"
           }
          ],
          "contour": [
           {
            "colorbar": {
             "outlinewidth": 0,
             "ticks": ""
            },
            "colorscale": [
             [
              0,
              "#0d0887"
             ],
             [
              0.1111111111111111,
              "#46039f"
             ],
             [
              0.2222222222222222,
              "#7201a8"
             ],
             [
              0.3333333333333333,
              "#9c179e"
             ],
             [
              0.4444444444444444,
              "#bd3786"
             ],
             [
              0.5555555555555556,
              "#d8576b"
             ],
             [
              0.6666666666666666,
              "#ed7953"
             ],
             [
              0.7777777777777778,
              "#fb9f3a"
             ],
             [
              0.8888888888888888,
              "#fdca26"
             ],
             [
              1,
              "#f0f921"
             ]
            ],
            "type": "contour"
           }
          ],
          "contourcarpet": [
           {
            "colorbar": {
             "outlinewidth": 0,
             "ticks": ""
            },
            "type": "contourcarpet"
           }
          ],
          "heatmap": [
           {
            "colorbar": {
             "outlinewidth": 0,
             "ticks": ""
            },
            "colorscale": [
             [
              0,
              "#0d0887"
             ],
             [
              0.1111111111111111,
              "#46039f"
             ],
             [
              0.2222222222222222,
              "#7201a8"
             ],
             [
              0.3333333333333333,
              "#9c179e"
             ],
             [
              0.4444444444444444,
              "#bd3786"
             ],
             [
              0.5555555555555556,
              "#d8576b"
             ],
             [
              0.6666666666666666,
              "#ed7953"
             ],
             [
              0.7777777777777778,
              "#fb9f3a"
             ],
             [
              0.8888888888888888,
              "#fdca26"
             ],
             [
              1,
              "#f0f921"
             ]
            ],
            "type": "heatmap"
           }
          ],
          "heatmapgl": [
           {
            "colorbar": {
             "outlinewidth": 0,
             "ticks": ""
            },
            "colorscale": [
             [
              0,
              "#0d0887"
             ],
             [
              0.1111111111111111,
              "#46039f"
             ],
             [
              0.2222222222222222,
              "#7201a8"
             ],
             [
              0.3333333333333333,
              "#9c179e"
             ],
             [
              0.4444444444444444,
              "#bd3786"
             ],
             [
              0.5555555555555556,
              "#d8576b"
             ],
             [
              0.6666666666666666,
              "#ed7953"
             ],
             [
              0.7777777777777778,
              "#fb9f3a"
             ],
             [
              0.8888888888888888,
              "#fdca26"
             ],
             [
              1,
              "#f0f921"
             ]
            ],
            "type": "heatmapgl"
           }
          ],
          "histogram": [
           {
            "marker": {
             "colorbar": {
              "outlinewidth": 0,
              "ticks": ""
             }
            },
            "type": "histogram"
           }
          ],
          "histogram2d": [
           {
            "colorbar": {
             "outlinewidth": 0,
             "ticks": ""
            },
            "colorscale": [
             [
              0,
              "#0d0887"
             ],
             [
              0.1111111111111111,
              "#46039f"
             ],
             [
              0.2222222222222222,
              "#7201a8"
             ],
             [
              0.3333333333333333,
              "#9c179e"
             ],
             [
              0.4444444444444444,
              "#bd3786"
             ],
             [
              0.5555555555555556,
              "#d8576b"
             ],
             [
              0.6666666666666666,
              "#ed7953"
             ],
             [
              0.7777777777777778,
              "#fb9f3a"
             ],
             [
              0.8888888888888888,
              "#fdca26"
             ],
             [
              1,
              "#f0f921"
             ]
            ],
            "type": "histogram2d"
           }
          ],
          "histogram2dcontour": [
           {
            "colorbar": {
             "outlinewidth": 0,
             "ticks": ""
            },
            "colorscale": [
             [
              0,
              "#0d0887"
             ],
             [
              0.1111111111111111,
              "#46039f"
             ],
             [
              0.2222222222222222,
              "#7201a8"
             ],
             [
              0.3333333333333333,
              "#9c179e"
             ],
             [
              0.4444444444444444,
              "#bd3786"
             ],
             [
              0.5555555555555556,
              "#d8576b"
             ],
             [
              0.6666666666666666,
              "#ed7953"
             ],
             [
              0.7777777777777778,
              "#fb9f3a"
             ],
             [
              0.8888888888888888,
              "#fdca26"
             ],
             [
              1,
              "#f0f921"
             ]
            ],
            "type": "histogram2dcontour"
           }
          ],
          "mesh3d": [
           {
            "colorbar": {
             "outlinewidth": 0,
             "ticks": ""
            },
            "type": "mesh3d"
           }
          ],
          "parcoords": [
           {
            "line": {
             "colorbar": {
              "outlinewidth": 0,
              "ticks": ""
             }
            },
            "type": "parcoords"
           }
          ],
          "pie": [
           {
            "automargin": true,
            "type": "pie"
           }
          ],
          "scatter": [
           {
            "marker": {
             "colorbar": {
              "outlinewidth": 0,
              "ticks": ""
             }
            },
            "type": "scatter"
           }
          ],
          "scatter3d": [
           {
            "line": {
             "colorbar": {
              "outlinewidth": 0,
              "ticks": ""
             }
            },
            "marker": {
             "colorbar": {
              "outlinewidth": 0,
              "ticks": ""
             }
            },
            "type": "scatter3d"
           }
          ],
          "scattercarpet": [
           {
            "marker": {
             "colorbar": {
              "outlinewidth": 0,
              "ticks": ""
             }
            },
            "type": "scattercarpet"
           }
          ],
          "scattergeo": [
           {
            "marker": {
             "colorbar": {
              "outlinewidth": 0,
              "ticks": ""
             }
            },
            "type": "scattergeo"
           }
          ],
          "scattergl": [
           {
            "marker": {
             "colorbar": {
              "outlinewidth": 0,
              "ticks": ""
             }
            },
            "type": "scattergl"
           }
          ],
          "scattermapbox": [
           {
            "marker": {
             "colorbar": {
              "outlinewidth": 0,
              "ticks": ""
             }
            },
            "type": "scattermapbox"
           }
          ],
          "scatterpolar": [
           {
            "marker": {
             "colorbar": {
              "outlinewidth": 0,
              "ticks": ""
             }
            },
            "type": "scatterpolar"
           }
          ],
          "scatterpolargl": [
           {
            "marker": {
             "colorbar": {
              "outlinewidth": 0,
              "ticks": ""
             }
            },
            "type": "scatterpolargl"
           }
          ],
          "scatterternary": [
           {
            "marker": {
             "colorbar": {
              "outlinewidth": 0,
              "ticks": ""
             }
            },
            "type": "scatterternary"
           }
          ],
          "surface": [
           {
            "colorbar": {
             "outlinewidth": 0,
             "ticks": ""
            },
            "colorscale": [
             [
              0,
              "#0d0887"
             ],
             [
              0.1111111111111111,
              "#46039f"
             ],
             [
              0.2222222222222222,
              "#7201a8"
             ],
             [
              0.3333333333333333,
              "#9c179e"
             ],
             [
              0.4444444444444444,
              "#bd3786"
             ],
             [
              0.5555555555555556,
              "#d8576b"
             ],
             [
              0.6666666666666666,
              "#ed7953"
             ],
             [
              0.7777777777777778,
              "#fb9f3a"
             ],
             [
              0.8888888888888888,
              "#fdca26"
             ],
             [
              1,
              "#f0f921"
             ]
            ],
            "type": "surface"
           }
          ],
          "table": [
           {
            "cells": {
             "fill": {
              "color": "#EBF0F8"
             },
             "line": {
              "color": "white"
             }
            },
            "header": {
             "fill": {
              "color": "#C8D4E3"
             },
             "line": {
              "color": "white"
             }
            },
            "type": "table"
           }
          ]
         },
         "layout": {
          "annotationdefaults": {
           "arrowcolor": "#2a3f5f",
           "arrowhead": 0,
           "arrowwidth": 1
          },
          "coloraxis": {
           "colorbar": {
            "outlinewidth": 0,
            "ticks": ""
           }
          },
          "colorscale": {
           "diverging": [
            [
             0,
             "#8e0152"
            ],
            [
             0.1,
             "#c51b7d"
            ],
            [
             0.2,
             "#de77ae"
            ],
            [
             0.3,
             "#f1b6da"
            ],
            [
             0.4,
             "#fde0ef"
            ],
            [
             0.5,
             "#f7f7f7"
            ],
            [
             0.6,
             "#e6f5d0"
            ],
            [
             0.7,
             "#b8e186"
            ],
            [
             0.8,
             "#7fbc41"
            ],
            [
             0.9,
             "#4d9221"
            ],
            [
             1,
             "#276419"
            ]
           ],
           "sequential": [
            [
             0,
             "#0d0887"
            ],
            [
             0.1111111111111111,
             "#46039f"
            ],
            [
             0.2222222222222222,
             "#7201a8"
            ],
            [
             0.3333333333333333,
             "#9c179e"
            ],
            [
             0.4444444444444444,
             "#bd3786"
            ],
            [
             0.5555555555555556,
             "#d8576b"
            ],
            [
             0.6666666666666666,
             "#ed7953"
            ],
            [
             0.7777777777777778,
             "#fb9f3a"
            ],
            [
             0.8888888888888888,
             "#fdca26"
            ],
            [
             1,
             "#f0f921"
            ]
           ],
           "sequentialminus": [
            [
             0,
             "#0d0887"
            ],
            [
             0.1111111111111111,
             "#46039f"
            ],
            [
             0.2222222222222222,
             "#7201a8"
            ],
            [
             0.3333333333333333,
             "#9c179e"
            ],
            [
             0.4444444444444444,
             "#bd3786"
            ],
            [
             0.5555555555555556,
             "#d8576b"
            ],
            [
             0.6666666666666666,
             "#ed7953"
            ],
            [
             0.7777777777777778,
             "#fb9f3a"
            ],
            [
             0.8888888888888888,
             "#fdca26"
            ],
            [
             1,
             "#f0f921"
            ]
           ]
          },
          "colorway": [
           "#636efa",
           "#EF553B",
           "#00cc96",
           "#ab63fa",
           "#FFA15A",
           "#19d3f3",
           "#FF6692",
           "#B6E880",
           "#FF97FF",
           "#FECB52"
          ],
          "font": {
           "color": "#2a3f5f"
          },
          "geo": {
           "bgcolor": "white",
           "lakecolor": "white",
           "landcolor": "#E5ECF6",
           "showlakes": true,
           "showland": true,
           "subunitcolor": "white"
          },
          "hoverlabel": {
           "align": "left"
          },
          "hovermode": "closest",
          "mapbox": {
           "style": "light"
          },
          "paper_bgcolor": "white",
          "plot_bgcolor": "#E5ECF6",
          "polar": {
           "angularaxis": {
            "gridcolor": "white",
            "linecolor": "white",
            "ticks": ""
           },
           "bgcolor": "#E5ECF6",
           "radialaxis": {
            "gridcolor": "white",
            "linecolor": "white",
            "ticks": ""
           }
          },
          "scene": {
           "xaxis": {
            "backgroundcolor": "#E5ECF6",
            "gridcolor": "white",
            "gridwidth": 2,
            "linecolor": "white",
            "showbackground": true,
            "ticks": "",
            "zerolinecolor": "white"
           },
           "yaxis": {
            "backgroundcolor": "#E5ECF6",
            "gridcolor": "white",
            "gridwidth": 2,
            "linecolor": "white",
            "showbackground": true,
            "ticks": "",
            "zerolinecolor": "white"
           },
           "zaxis": {
            "backgroundcolor": "#E5ECF6",
            "gridcolor": "white",
            "gridwidth": 2,
            "linecolor": "white",
            "showbackground": true,
            "ticks": "",
            "zerolinecolor": "white"
           }
          },
          "shapedefaults": {
           "line": {
            "color": "#2a3f5f"
           }
          },
          "ternary": {
           "aaxis": {
            "gridcolor": "white",
            "linecolor": "white",
            "ticks": ""
           },
           "baxis": {
            "gridcolor": "white",
            "linecolor": "white",
            "ticks": ""
           },
           "bgcolor": "#E5ECF6",
           "caxis": {
            "gridcolor": "white",
            "linecolor": "white",
            "ticks": ""
           }
          },
          "title": {
           "x": 0.05
          },
          "xaxis": {
           "automargin": true,
           "gridcolor": "white",
           "linecolor": "white",
           "ticks": "",
           "title": {
            "standoff": 15
           },
           "zerolinecolor": "white",
           "zerolinewidth": 2
          },
          "yaxis": {
           "automargin": true,
           "gridcolor": "white",
           "linecolor": "white",
           "ticks": "",
           "title": {
            "standoff": 15
           },
           "zerolinecolor": "white",
           "zerolinewidth": 2
          }
         }
        },
        "xaxis": {
         "anchor": "y",
         "domain": [
          0,
          1
         ],
         "title": {
          "text": "x"
         }
        },
        "yaxis": {
         "anchor": "x",
         "domain": [
          0,
          1
         ],
         "title": {
          "text": "y"
         }
        }
       }
      }
     },
     "metadata": {}
    }
   ],
   "source": [
    "transformed_df = pd.DataFrame(transformed_X, columns=['x','y'])\n",
    "transformed_df['target'] = train_y.values\n",
    "transformed_df['name'] = df.index\n",
    "transformed_df['size'] = [1 for i in range(transformed_df.shape[0])]\n",
    "px.scatter(transformed_df, x='x', y='y',\n",
    "              color='target', hover_data=['name'], size='size', size_max=15)"
   ]
  },
  {
   "cell_type": "code",
   "execution_count": 34,
   "metadata": {},
   "outputs": [],
   "source": [
    "transformer = FactorAnalysis(n_components=3, random_state=0, rotation=None).fit(train_X)"
   ]
  },
  {
   "cell_type": "code",
   "execution_count": 35,
   "metadata": {},
   "outputs": [],
   "source": [
    "transformed_X = transformer.transform(train_X)"
   ]
  },
  {
   "cell_type": "code",
   "execution_count": 36,
   "metadata": {},
   "outputs": [
    {
     "output_type": "display_data",
     "data": {
      "application/vnd.plotly.v1+json": {
       "config": {
        "plotlyServerURL": "https://plot.ly"
       },
       "data": [
        {
         "customdata": [
          [
           "(hot air) balloon"
          ],
          [
           "airplane"
          ],
          [
           "bicycle"
          ],
          [
           "boat"
          ],
          [
           "bus"
          ],
          [
           "car"
          ],
          [
           "carriage"
          ],
          [
           "cart"
          ],
          [
           "go-cart"
          ],
          [
           "helicopter"
          ],
          [
           "hovercraft"
          ],
          [
           "jeep"
          ],
          [
           "kick scooter"
          ],
          [
           "motorbike (moto)"
          ],
          [
           "rocket"
          ],
          [
           "scooter (bromfiets)"
          ],
          [
           "scooter (brommer)"
          ],
          [
           "skateboard"
          ],
          [
           "sled"
          ],
          [
           "submarine"
          ],
          [
           "subway train"
          ],
          [
           "taxi"
          ],
          [
           "tractor"
          ],
          [
           "trailer"
          ],
          [
           "train"
          ],
          [
           "tram"
          ],
          [
           "truck (camion)"
          ],
          [
           "truck (vrachtwagen)"
          ],
          [
           "van"
          ],
          [
           "zeppelin"
          ]
         ],
         "hovertemplate": "target=vehicle<br>x=%{x}<br>y=%{y}<br>z=%{z}<br>size=%{marker.size}<br>name=%{customdata[0]}<extra></extra>",
         "legendgroup": "vehicle",
         "marker": {
          "color": "#636efa",
          "size": [
           1,
           1,
           1,
           1,
           1,
           1,
           1,
           1,
           1,
           1,
           1,
           1,
           1,
           1,
           1,
           1,
           1,
           1,
           1,
           1,
           1,
           1,
           1,
           1,
           1,
           1,
           1,
           1,
           1,
           1
          ],
          "sizemode": "area",
          "sizeref": 0.0044444444444444444,
          "symbol": "circle"
         },
         "mode": "markers",
         "name": "vehicle",
         "scene": "scene",
         "showlegend": true,
         "type": "scatter3d",
         "x": [
          -0.3712976134276337,
          -0.37887048879120244,
          -0.397229421096962,
          -0.3785398032845316,
          -0.39395513858170594,
          -0.39920065374979785,
          -0.37191437226766494,
          -0.405067993843733,
          -0.38117362363238755,
          -0.3707160577739726,
          -0.3782819324139304,
          -0.3897255493464968,
          -0.38178126367369625,
          -0.38464532376044985,
          -0.37236608122430453,
          -0.3938759868994075,
          -0.3863891887239585,
          -0.37101861809319064,
          -0.3760014013575272,
          -0.386489775948781,
          -0.38994042963884895,
          -0.3692290286808171,
          -0.38494441965766724,
          -0.38937449779702915,
          -0.3834346284469306,
          -0.3829251250178441,
          -0.3987327452013805,
          -0.39700850015176453,
          -0.39109929250896514,
          -0.37059131445291343
         ],
         "y": [
          -0.3547143347465936,
          -0.7927887663192942,
          -0.45304925803116763,
          -0.7181146076235467,
          -0.8007945042779613,
          -0.7009815207745219,
          -0.5695239699273753,
          -0.6231088168324646,
          -0.5986386436185708,
          -0.8002800752009922,
          -0.7717244791970913,
          -0.7294368949983709,
          -0.5452848357445614,
          -0.6890390757046282,
          -0.7288670775856539,
          -0.704354304850089,
          -0.6633866583929569,
          -0.502485833483413,
          -0.5157594335675671,
          -0.7839514956641724,
          -0.7483662614121744,
          -0.7581097805479334,
          -0.7834594110501539,
          -0.5738718927326656,
          -0.7757155019136558,
          -0.7582480104867124,
          -0.8006544511947845,
          -0.8180449295518908,
          -0.783816753757482,
          -0.51726094785785
         ],
         "z": [
          1.260876294160935,
          2.5853982522823946,
          0.8911912904555762,
          2.2939130506109864,
          2.5462946429786535,
          2.746786514122821,
          1.009664946310467,
          0.7280262605031769,
          0.9994740673257317,
          2.21180428772748,
          2.096406069070245,
          2.296331806366902,
          0.4657951434207222,
          2.15764303147733,
          1.509232103779567,
          1.9415793141230553,
          1.9839793121752516,
          0.5239007333371932,
          0.2679731445305629,
          1.8875877110897372,
          1.679733696581626,
          2.389423255740496,
          2.0452690585451925,
          1.2374767456615305,
          2.0576285255149553,
          1.765585278277258,
          2.642770226234605,
          2.5511114536710346,
          2.243264303025389,
          1.7733831752458635
         ]
        },
        {
         "customdata": [
          [
           "accordion"
          ],
          [
           "bagpipe"
          ],
          [
           "banjo"
          ],
          [
           "bass guitar"
          ],
          [
           "bassoon"
          ],
          [
           "cello"
          ],
          [
           "clarinet"
          ],
          [
           "cymbals"
          ],
          [
           "double bass"
          ],
          [
           "drum"
          ],
          [
           "drum set"
          ],
          [
           "flute"
          ],
          [
           "guitar"
          ],
          [
           "harmonica"
          ],
          [
           "harp"
          ],
          [
           "harpsichord"
          ],
          [
           "organ"
          ],
          [
           "pan flute"
          ],
          [
           "piano"
          ],
          [
           "recorder"
          ],
          [
           "saxophone"
          ],
          [
           "synthesizer"
          ],
          [
           "tambourine"
          ],
          [
           "triangle"
          ],
          [
           "trombone"
          ],
          [
           "trumpet"
          ],
          [
           "violin"
          ]
         ],
         "hovertemplate": "target=musical instrument<br>x=%{x}<br>y=%{y}<br>z=%{z}<br>size=%{marker.size}<br>name=%{customdata[0]}<extra></extra>",
         "legendgroup": "musical instrument",
         "marker": {
          "color": "#EF553B",
          "size": [
           1,
           1,
           1,
           1,
           1,
           1,
           1,
           1,
           1,
           1,
           1,
           1,
           1,
           1,
           1,
           1,
           1,
           1,
           1,
           1,
           1,
           1,
           1,
           1,
           1,
           1,
           1
          ],
          "sizemode": "area",
          "sizeref": 0.0044444444444444444,
          "symbol": "circle"
         },
         "mode": "markers",
         "name": "musical instrument",
         "scene": "scene",
         "showlegend": true,
         "type": "scatter3d",
         "x": [
          2.1216946561595265,
          2.261700329725902,
          2.2962494790355783,
          2.308602853217833,
          2.301157403847757,
          2.3529133838934526,
          2.2867558327711457,
          2.152949655280045,
          2.348040647327664,
          2.191462869757818,
          2.2975622930769317,
          2.264408987484447,
          2.304811607340893,
          2.2000899810941776,
          2.3210348374829213,
          2.271059589053528,
          2.227452694927067,
          2.2731814907367958,
          2.3119910141068827,
          2.236564458419906,
          2.313670746367481,
          2.2648594316280923,
          2.0958717009443455,
          2.096521178752591,
          2.277974126628941,
          2.2776407260564824,
          2.3083759813407374
         ],
         "y": [
          0.2535325840996197,
          0.37679816689006784,
          0.20149231300134557,
          0.207521849030202,
          0.17670368396450478,
          0.2032302014470062,
          0.17440884710225044,
          0.13611441515049058,
          0.18602137420653145,
          0.20197092723381987,
          0.1402123953317705,
          0.15585958470667652,
          0.24136987057003043,
          0.16631053831234313,
          0.18030813389665207,
          0.1487495960810463,
          0.14177230991292641,
          0.2017180703182013,
          0.17398695045989102,
          0.20061892903778009,
          0.1638813330220196,
          0.13087538943934085,
          0.18025992181022213,
          0.1276935203468674,
          0.14352529312922033,
          0.14642206545666572,
          0.18778587302886587
         ],
         "z": [
          0.06862720906016566,
          0.025599470520976098,
          0.0018624047397604593,
          0.11274188878892158,
          -0.0034525930317132925,
          0.13029959948354466,
          -0.03528290322105112,
          -0.36769374481718176,
          0.16693974652099308,
          -0.1299323671869502,
          0.16936118798654418,
          -0.10323718630574899,
          0.13632849455941468,
          -0.1609940599654087,
          0.10323229893382549,
          0.09067021363571458,
          0.2770271801445979,
          -0.20214712030774373,
          0.3812104274211726,
          -0.12123677220841521,
          0.018681149173058388,
          0.22602961589394188,
          -0.35767096158572564,
          -0.490552629689256,
          -0.021943798577503247,
          -0.036579027644432376,
          0.049572532566121284
         ]
        },
        {
         "customdata": [
          [
           "anvil"
          ],
          [
           "axe"
          ],
          [
           "chisel"
          ],
          [
           "clamp"
          ],
          [
           "crowbar (breekijzer)"
          ],
          [
           "crowbar (koevoet)"
          ],
          [
           "drill"
          ],
          [
           "file"
          ],
          [
           "filling knife"
          ],
          [
           "grinding disc"
          ],
          [
           "hammer"
          ],
          [
           "lawn mower"
          ],
          [
           "level"
          ],
          [
           "nail"
          ],
          [
           "oil can"
          ],
          [
           "paint brush"
          ],
          [
           "pickaxe"
          ],
          [
           "plane"
          ],
          [
           "plough"
          ],
          [
           "rope"
          ],
          [
           "saw"
          ],
          [
           "screw wrench (engelse sleutel)"
          ],
          [
           "screwdriver"
          ],
          [
           "shovel"
          ],
          [
           "tongs"
          ],
          [
           "vacuum cleaner"
          ],
          [
           "wheelbarrow"
          ],
          [
           "wire brush"
          ],
          [
           "wrench"
          ]
         ],
         "hovertemplate": "target=tool<br>x=%{x}<br>y=%{y}<br>z=%{z}<br>size=%{marker.size}<br>name=%{customdata[0]}<extra></extra>",
         "legendgroup": "tool",
         "marker": {
          "color": "#00cc96",
          "size": [
           1,
           1,
           1,
           1,
           1,
           1,
           1,
           1,
           1,
           1,
           1,
           1,
           1,
           1,
           1,
           1,
           1,
           1,
           1,
           1,
           1,
           1,
           1,
           1,
           1,
           1,
           1,
           1,
           1
          ],
          "sizemode": "area",
          "sizeref": 0.0044444444444444444,
          "symbol": "circle"
         },
         "mode": "markers",
         "name": "tool",
         "scene": "scene",
         "showlegend": true,
         "type": "scatter3d",
         "x": [
          -0.39805422547108343,
          -0.41668086797599135,
          -0.41138207934029514,
          -0.4051964392992659,
          -0.4089434150837438,
          -0.41091070123531903,
          -0.39051485378994827,
          -0.37983096447146497,
          -0.4118303566498359,
          -0.39010025452547875,
          -0.42352930028249886,
          -0.39409953917316026,
          -0.40433154550151484,
          -0.4151545651088113,
          -0.39851050481711503,
          -0.41110456192427525,
          -0.4113121953710729,
          -0.4065605035242194,
          -0.40432334799608477,
          -0.41192645501700387,
          -0.4120192787934839,
          -0.4113218779535799,
          -0.41871463827679073,
          -0.41346619093850184,
          -0.4151820845263237,
          -0.3922743846495279,
          -0.4120083634822579,
          -0.4055879605155861,
          -0.412894242884823
         ],
         "y": [
          -0.6561994934654807,
          -0.664199047674,
          -0.6276881009252718,
          -0.6105312279593929,
          -0.6584668068337571,
          -0.655069711748852,
          -0.6862412838640971,
          -0.5880413866323086,
          -0.6139421013617232,
          -0.6922346546821604,
          -0.6547818257236127,
          -0.6919741496639559,
          -0.5695061991640641,
          -0.6098381952755866,
          -0.5562712708439662,
          -0.468188519498354,
          -0.6604440602541655,
          -0.6168937526294768,
          -0.6694639941040511,
          -0.4200805620091062,
          -0.6566841311600012,
          -0.6350282513769762,
          -0.6260576652513354,
          -0.6244865405511181,
          -0.6367390267064909,
          -0.5749879247154143,
          -0.6690988907443918,
          -0.5696783048266526,
          -0.6311435894831681
         ],
         "z": [
          -0.8353518033561091,
          -0.9053792769721708,
          -1.083679777920639,
          -0.9336784314867485,
          -0.9722549953155702,
          -1.018575781923642,
          -0.20778577405696375,
          -1.2505604997104331,
          -1.1019627727602976,
          -0.3659697546010737,
          -1.0644544829217024,
          0.44652554264811456,
          -1.0689992902827912,
          -1.1240346336714861,
          -0.8284234524112252,
          -0.9112919451377488,
          -1.0046402482382044,
          -1.0409779627595095,
          -0.4739348828037746,
          -0.9702539973814583,
          -1.1072000247447074,
          -1.1746744283472654,
          -1.1875749990491924,
          -0.9483133372133363,
          -1.1329977995226261,
          -0.2582003403328841,
          -0.2828194518839109,
          -0.9799322324273643,
          -1.1871743592473636
         ]
        },
        {
         "customdata": [
          [
           "apron"
          ],
          [
           "bottle"
          ],
          [
           "bowl"
          ],
          [
           "can opener"
          ],
          [
           "colander"
          ],
          [
           "electric kettle"
          ],
          [
           "fork"
          ],
          [
           "fridge"
          ],
          [
           "glass"
          ],
          [
           "grater"
          ],
          [
           "kettle"
          ],
          [
           "knife"
          ],
          [
           "microwave oven"
          ],
          [
           "mixer"
          ],
          [
           "mug"
          ],
          [
           "nutcracker"
          ],
          [
           "oven"
          ],
          [
           "pan"
          ],
          [
           "percolator"
          ],
          [
           "place mat"
          ],
          [
           "plate"
          ],
          [
           "pot"
          ],
          [
           "scales"
          ],
          [
           "scissors"
          ],
          [
           "sieve"
          ],
          [
           "spatula"
          ],
          [
           "spoon"
          ],
          [
           "stove"
          ],
          [
           "teaspoon"
          ],
          [
           "toaster"
          ],
          [
           "towel"
          ],
          [
           "whisk"
          ],
          [
           "wok"
          ]
         ],
         "hovertemplate": "target=kitchen utensil<br>x=%{x}<br>y=%{y}<br>z=%{z}<br>size=%{marker.size}<br>name=%{customdata[0]}<extra></extra>",
         "legendgroup": "kitchen utensil",
         "marker": {
          "color": "#ab63fa",
          "size": [
           1,
           1,
           1,
           1,
           1,
           1,
           1,
           1,
           1,
           1,
           1,
           1,
           1,
           1,
           1,
           1,
           1,
           1,
           1,
           1,
           1,
           1,
           1,
           1,
           1,
           1,
           1,
           1,
           1,
           1,
           1,
           1,
           1
          ],
          "sizemode": "area",
          "sizeref": 0.0044444444444444444,
          "symbol": "circle"
         },
         "mode": "markers",
         "name": "kitchen utensil",
         "scene": "scene",
         "showlegend": true,
         "type": "scatter3d",
         "x": [
          -0.5069854211070466,
          -0.3087967025293833,
          -0.4080333891593177,
          -0.41561362160283494,
          -0.41779133123050743,
          -0.39348978626493586,
          -0.4288915018439357,
          -0.39833934342817445,
          -0.40395701486036456,
          0.03372069503689288,
          -0.3983928842423414,
          -0.43038479234843624,
          -0.3967200466227139,
          -0.4072505689284173,
          -0.4184978495963723,
          -0.4114172101248489,
          -0.3963014593077334,
          -0.4090438699011287,
          -0.3889734904444732,
          -0.43118788666853525,
          -0.41866834629251476,
          -0.4079494947156929,
          -0.4049697668740926,
          -0.4258557161371759,
          -0.4153027529185352,
          -0.4124194761907983,
          -0.41260867364865517,
          -0.4053629909160414,
          -0.40399955141381816,
          -0.40505419601178466,
          -0.3683371250911098,
          -0.4065949428741771,
          -0.4134193467439124
         ],
         "y": [
          0.630219391019886,
          -0.42188593296902094,
          -0.45972619256444847,
          -0.593014198420692,
          -0.5045269377732996,
          -0.5343852616879623,
          -0.4848060790638655,
          -0.6091525975885254,
          -0.4307901475566376,
          -0.4656591762952769,
          -0.5399783262515041,
          -0.6498096037756291,
          -0.5724248725695269,
          -0.604041887513621,
          -0.3087987806471778,
          -0.5653006333623459,
          -0.6056705497259994,
          -0.5377317067121603,
          -0.5187455813369456,
          -0.1331632061470218,
          -0.4296641451677746,
          -0.5215234523657859,
          -0.5106046480754894,
          -0.5960748483512337,
          -0.5327894250052246,
          -0.4944178281581262,
          -0.47130695417011986,
          -0.6129059413862582,
          -0.4705504832269322,
          -0.5101499553900875,
          0.119295719988702,
          -0.535376981100548,
          -0.5256256633112966
         ],
         "z": [
          -0.5679047015716607,
          -0.9355021729811422,
          -0.9370589887767687,
          -0.789702213982839,
          -0.9583173856873153,
          -0.4167731073811126,
          -1.1076151380049115,
          -0.17187147970676828,
          -0.8983118907012562,
          -1.0074196006596567,
          -0.8150586424288894,
          -1.2625076233435093,
          -0.175973180721842,
          -0.36690749877963746,
          -0.7611181213684017,
          -1.0063294472361564,
          -0.25910391840320657,
          -0.9265365900431877,
          -0.4093886612350475,
          -0.6878958354533492,
          -0.9128630182994827,
          -0.9494464646540784,
          -0.7354993188225515,
          -1.0535312658930736,
          -1.0952919313020661,
          -1.0152485819145975,
          -1.1301885244885792,
          -0.3762292674183453,
          -1.048590344279291,
          -0.5255973364313498,
          -0.6680205694970622,
          -1.0715580294779878,
          -0.9018650555512759
         ]
        },
        {
         "customdata": [
          [
           "bathing suit"
          ],
          [
           "beanie"
          ],
          [
           "belt"
          ],
          [
           "blouse"
          ],
          [
           "boots"
          ],
          [
           "bra"
          ],
          [
           "cap"
          ],
          [
           "coat"
          ],
          [
           "dress"
          ],
          [
           "dungarees"
          ],
          [
           "hat"
          ],
          [
           "jeans"
          ],
          [
           "mittens"
          ],
          [
           "panties"
          ],
          [
           "pants"
          ],
          [
           "pullover"
          ],
          [
           "pyjamas"
          ],
          [
           "scarf"
          ],
          [
           "shirt"
          ],
          [
           "shoes"
          ],
          [
           "shorts"
          ],
          [
           "skirt"
          ],
          [
           "socks"
          ],
          [
           "suit"
          ],
          [
           "sweater"
          ],
          [
           "t-shirt"
          ],
          [
           "tie"
          ],
          [
           "top"
          ],
          [
           "tracksuit"
          ]
         ],
         "hovertemplate": "target=clothing<br>x=%{x}<br>y=%{y}<br>z=%{z}<br>size=%{marker.size}<br>name=%{customdata[0]}<extra></extra>",
         "legendgroup": "clothing",
         "marker": {
          "color": "#FFA15A",
          "size": [
           1,
           1,
           1,
           1,
           1,
           1,
           1,
           1,
           1,
           1,
           1,
           1,
           1,
           1,
           1,
           1,
           1,
           1,
           1,
           1,
           1,
           1,
           1,
           1,
           1,
           1,
           1,
           1,
           1
          ],
          "sizemode": "area",
          "sizeref": 0.0044444444444444444,
          "symbol": "circle"
         },
         "mode": "markers",
         "name": "clothing",
         "scene": "scene",
         "showlegend": true,
         "type": "scatter3d",
         "x": [
          -0.6089733679684725,
          -0.5931407359579218,
          -0.5638148251080171,
          -0.6335773576580876,
          -0.553561456165059,
          -0.6240644051832497,
          -0.612199812229942,
          -0.6303133968641363,
          -0.5207621174685554,
          -0.6116484567035784,
          -0.6009170326817797,
          -0.6214205225460943,
          -0.6000947203922766,
          -0.6343480266018497,
          -0.6433165888169378,
          -0.6376702185291325,
          -0.6192867754665609,
          -0.6102260808037586,
          -0.6318027612597433,
          -0.5730758165072708,
          -0.6199948620855171,
          -0.6274053762902106,
          -0.6211793917943536,
          -0.5961901103388454,
          -0.6334837976829721,
          -0.6355404337713637,
          -0.6077660392218702,
          -0.6250773253935116,
          -0.6063193896482316
         ],
         "y": [
          1.9767125949348872,
          1.8737489117219983,
          1.554362267054326,
          2.2655565897725953,
          1.4147558174549157,
          2.1320167858456625,
          1.973298739258659,
          2.202426819107251,
          2.2209862586748432,
          1.973352922780868,
          1.9933181411647045,
          2.1512690177891742,
          1.917262575657092,
          2.183901882254236,
          2.262815815779113,
          2.283330540443544,
          2.1884714762297293,
          2.028852866993927,
          2.284858079341838,
          1.6247973564463718,
          2.0858218937675366,
          2.2208481808742517,
          2.049041673376791,
          2.002642276653494,
          2.2389193963696017,
          2.2224979472752295,
          2.0315405933185264,
          2.1630847229973216,
          1.985090249309444
         ],
         "z": [
          0.08330709066515059,
          0.0706270376786944,
          -0.09044764650831655,
          0.20899948521544218,
          -0.013046132124679087,
          0.16017153404582393,
          0.07637545764882848,
          0.1591351768844634,
          0.21076038111218673,
          0.1283670493510903,
          0.1402510762741541,
          0.16668412822967157,
          0.015252328903544827,
          0.1184479715792303,
          0.1192588242330956,
          0.12221809866411107,
          0.18812620775001027,
          0.06657737052903263,
          0.19909050117894642,
          0.12121555828175012,
          0.133406208179172,
          0.16846425373392518,
          0.09771746596102113,
          0.2782326813694462,
          0.17527637580232935,
          0.1316121797943341,
          0.12404772689235874,
          0.12179465386778392,
          0.16505999368045796
         ]
        },
        {
         "customdata": [
          [
           "bazooka"
          ],
          [
           "bow"
          ],
          [
           "canon"
          ],
          [
           "club"
          ],
          [
           "dagger"
          ],
          [
           "double-barreled shotgun"
          ],
          [
           "grenade"
          ],
          [
           "knuckle dusters"
          ],
          [
           "machine gun"
          ],
          [
           "pistol"
          ],
          [
           "rifle"
          ],
          [
           "shield"
          ],
          [
           "slingshot"
          ],
          [
           "spear"
          ],
          [
           "stick"
          ],
          [
           "sword"
          ],
          [
           "tank"
          ],
          [
           "whip"
          ]
         ],
         "hovertemplate": "target=weapon<br>x=%{x}<br>y=%{y}<br>z=%{z}<br>size=%{marker.size}<br>name=%{customdata[0]}<extra></extra>",
         "legendgroup": "weapon",
         "marker": {
          "color": "#19d3f3",
          "size": [
           1,
           1,
           1,
           1,
           1,
           1,
           1,
           1,
           1,
           1,
           1,
           1,
           1,
           1,
           1,
           1,
           1,
           1
          ],
          "sizemode": "area",
          "sizeref": 0.0044444444444444444,
          "symbol": "circle"
         },
         "mode": "markers",
         "name": "weapon",
         "scene": "scene",
         "showlegend": true,
         "type": "scatter3d",
         "x": [
          -0.37312016555829575,
          -0.3645587493200183,
          -0.38743680137512315,
          -0.3917122208826083,
          -0.39543029320107875,
          -0.3765796763546446,
          -0.3823545228476139,
          -0.39795635088817133,
          -0.3817849047214777,
          -0.3885094336918354,
          -0.38419221662177655,
          -0.3838865054162135,
          -0.38130302075577605,
          -0.3898164513684458,
          -0.3658696459106929,
          -0.39304621567176473,
          -0.3902182933815211,
          -0.37917546432508287
         ],
         "y": [
          -0.6971632820041922,
          -0.5481366615907927,
          -0.7169792236679615,
          -0.581715909462785,
          -0.5985402387860528,
          -0.6707038392043391,
          -0.6184910277764842,
          -0.4931410861508129,
          -0.6833382553397603,
          -0.6695875574967224,
          -0.6875967058170424,
          -0.5240932565178258,
          -0.5535842947897083,
          -0.546199579792914,
          -0.5695273388476417,
          -0.6195900779261565,
          -0.8040443843469982,
          -0.5134137272789181
         ],
         "z": [
          0.03979556797158253,
          -0.3830736012615927,
          0.0880734663309733,
          -0.7291874609639357,
          -0.7160027468683233,
          -0.27019352880585723,
          -0.22576372347886697,
          -0.6505322491931603,
          -0.1218119800956567,
          -0.21168517103486315,
          -0.154535294979771,
          -0.680510563724063,
          -0.35684521044163203,
          -0.63722178970068,
          -0.7736202354582199,
          -0.5865544280197691,
          1.4595353656983177,
          -0.534016303753422
         ]
        }
       ],
       "layout": {
        "legend": {
         "itemsizing": "constant",
         "title": {
          "text": "target"
         },
         "tracegroupgap": 0
        },
        "margin": {
         "t": 60
        },
        "scene": {
         "domain": {
          "x": [
           0,
           1
          ],
          "y": [
           0,
           1
          ]
         },
         "xaxis": {
          "title": {
           "text": "x"
          }
         },
         "yaxis": {
          "title": {
           "text": "y"
          }
         },
         "zaxis": {
          "title": {
           "text": "z"
          }
         }
        },
        "template": {
         "data": {
          "bar": [
           {
            "error_x": {
             "color": "#2a3f5f"
            },
            "error_y": {
             "color": "#2a3f5f"
            },
            "marker": {
             "line": {
              "color": "#E5ECF6",
              "width": 0.5
             }
            },
            "type": "bar"
           }
          ],
          "barpolar": [
           {
            "marker": {
             "line": {
              "color": "#E5ECF6",
              "width": 0.5
             }
            },
            "type": "barpolar"
           }
          ],
          "carpet": [
           {
            "aaxis": {
             "endlinecolor": "#2a3f5f",
             "gridcolor": "white",
             "linecolor": "white",
             "minorgridcolor": "white",
             "startlinecolor": "#2a3f5f"
            },
            "baxis": {
             "endlinecolor": "#2a3f5f",
             "gridcolor": "white",
             "linecolor": "white",
             "minorgridcolor": "white",
             "startlinecolor": "#2a3f5f"
            },
            "type": "carpet"
           }
          ],
          "choropleth": [
           {
            "colorbar": {
             "outlinewidth": 0,
             "ticks": ""
            },
            "type": "choropleth"
           }
          ],
          "contour": [
           {
            "colorbar": {
             "outlinewidth": 0,
             "ticks": ""
            },
            "colorscale": [
             [
              0,
              "#0d0887"
             ],
             [
              0.1111111111111111,
              "#46039f"
             ],
             [
              0.2222222222222222,
              "#7201a8"
             ],
             [
              0.3333333333333333,
              "#9c179e"
             ],
             [
              0.4444444444444444,
              "#bd3786"
             ],
             [
              0.5555555555555556,
              "#d8576b"
             ],
             [
              0.6666666666666666,
              "#ed7953"
             ],
             [
              0.7777777777777778,
              "#fb9f3a"
             ],
             [
              0.8888888888888888,
              "#fdca26"
             ],
             [
              1,
              "#f0f921"
             ]
            ],
            "type": "contour"
           }
          ],
          "contourcarpet": [
           {
            "colorbar": {
             "outlinewidth": 0,
             "ticks": ""
            },
            "type": "contourcarpet"
           }
          ],
          "heatmap": [
           {
            "colorbar": {
             "outlinewidth": 0,
             "ticks": ""
            },
            "colorscale": [
             [
              0,
              "#0d0887"
             ],
             [
              0.1111111111111111,
              "#46039f"
             ],
             [
              0.2222222222222222,
              "#7201a8"
             ],
             [
              0.3333333333333333,
              "#9c179e"
             ],
             [
              0.4444444444444444,
              "#bd3786"
             ],
             [
              0.5555555555555556,
              "#d8576b"
             ],
             [
              0.6666666666666666,
              "#ed7953"
             ],
             [
              0.7777777777777778,
              "#fb9f3a"
             ],
             [
              0.8888888888888888,
              "#fdca26"
             ],
             [
              1,
              "#f0f921"
             ]
            ],
            "type": "heatmap"
           }
          ],
          "heatmapgl": [
           {
            "colorbar": {
             "outlinewidth": 0,
             "ticks": ""
            },
            "colorscale": [
             [
              0,
              "#0d0887"
             ],
             [
              0.1111111111111111,
              "#46039f"
             ],
             [
              0.2222222222222222,
              "#7201a8"
             ],
             [
              0.3333333333333333,
              "#9c179e"
             ],
             [
              0.4444444444444444,
              "#bd3786"
             ],
             [
              0.5555555555555556,
              "#d8576b"
             ],
             [
              0.6666666666666666,
              "#ed7953"
             ],
             [
              0.7777777777777778,
              "#fb9f3a"
             ],
             [
              0.8888888888888888,
              "#fdca26"
             ],
             [
              1,
              "#f0f921"
             ]
            ],
            "type": "heatmapgl"
           }
          ],
          "histogram": [
           {
            "marker": {
             "colorbar": {
              "outlinewidth": 0,
              "ticks": ""
             }
            },
            "type": "histogram"
           }
          ],
          "histogram2d": [
           {
            "colorbar": {
             "outlinewidth": 0,
             "ticks": ""
            },
            "colorscale": [
             [
              0,
              "#0d0887"
             ],
             [
              0.1111111111111111,
              "#46039f"
             ],
             [
              0.2222222222222222,
              "#7201a8"
             ],
             [
              0.3333333333333333,
              "#9c179e"
             ],
             [
              0.4444444444444444,
              "#bd3786"
             ],
             [
              0.5555555555555556,
              "#d8576b"
             ],
             [
              0.6666666666666666,
              "#ed7953"
             ],
             [
              0.7777777777777778,
              "#fb9f3a"
             ],
             [
              0.8888888888888888,
              "#fdca26"
             ],
             [
              1,
              "#f0f921"
             ]
            ],
            "type": "histogram2d"
           }
          ],
          "histogram2dcontour": [
           {
            "colorbar": {
             "outlinewidth": 0,
             "ticks": ""
            },
            "colorscale": [
             [
              0,
              "#0d0887"
             ],
             [
              0.1111111111111111,
              "#46039f"
             ],
             [
              0.2222222222222222,
              "#7201a8"
             ],
             [
              0.3333333333333333,
              "#9c179e"
             ],
             [
              0.4444444444444444,
              "#bd3786"
             ],
             [
              0.5555555555555556,
              "#d8576b"
             ],
             [
              0.6666666666666666,
              "#ed7953"
             ],
             [
              0.7777777777777778,
              "#fb9f3a"
             ],
             [
              0.8888888888888888,
              "#fdca26"
             ],
             [
              1,
              "#f0f921"
             ]
            ],
            "type": "histogram2dcontour"
           }
          ],
          "mesh3d": [
           {
            "colorbar": {
             "outlinewidth": 0,
             "ticks": ""
            },
            "type": "mesh3d"
           }
          ],
          "parcoords": [
           {
            "line": {
             "colorbar": {
              "outlinewidth": 0,
              "ticks": ""
             }
            },
            "type": "parcoords"
           }
          ],
          "pie": [
           {
            "automargin": true,
            "type": "pie"
           }
          ],
          "scatter": [
           {
            "marker": {
             "colorbar": {
              "outlinewidth": 0,
              "ticks": ""
             }
            },
            "type": "scatter"
           }
          ],
          "scatter3d": [
           {
            "line": {
             "colorbar": {
              "outlinewidth": 0,
              "ticks": ""
             }
            },
            "marker": {
             "colorbar": {
              "outlinewidth": 0,
              "ticks": ""
             }
            },
            "type": "scatter3d"
           }
          ],
          "scattercarpet": [
           {
            "marker": {
             "colorbar": {
              "outlinewidth": 0,
              "ticks": ""
             }
            },
            "type": "scattercarpet"
           }
          ],
          "scattergeo": [
           {
            "marker": {
             "colorbar": {
              "outlinewidth": 0,
              "ticks": ""
             }
            },
            "type": "scattergeo"
           }
          ],
          "scattergl": [
           {
            "marker": {
             "colorbar": {
              "outlinewidth": 0,
              "ticks": ""
             }
            },
            "type": "scattergl"
           }
          ],
          "scattermapbox": [
           {
            "marker": {
             "colorbar": {
              "outlinewidth": 0,
              "ticks": ""
             }
            },
            "type": "scattermapbox"
           }
          ],
          "scatterpolar": [
           {
            "marker": {
             "colorbar": {
              "outlinewidth": 0,
              "ticks": ""
             }
            },
            "type": "scatterpolar"
           }
          ],
          "scatterpolargl": [
           {
            "marker": {
             "colorbar": {
              "outlinewidth": 0,
              "ticks": ""
             }
            },
            "type": "scatterpolargl"
           }
          ],
          "scatterternary": [
           {
            "marker": {
             "colorbar": {
              "outlinewidth": 0,
              "ticks": ""
             }
            },
            "type": "scatterternary"
           }
          ],
          "surface": [
           {
            "colorbar": {
             "outlinewidth": 0,
             "ticks": ""
            },
            "colorscale": [
             [
              0,
              "#0d0887"
             ],
             [
              0.1111111111111111,
              "#46039f"
             ],
             [
              0.2222222222222222,
              "#7201a8"
             ],
             [
              0.3333333333333333,
              "#9c179e"
             ],
             [
              0.4444444444444444,
              "#bd3786"
             ],
             [
              0.5555555555555556,
              "#d8576b"
             ],
             [
              0.6666666666666666,
              "#ed7953"
             ],
             [
              0.7777777777777778,
              "#fb9f3a"
             ],
             [
              0.8888888888888888,
              "#fdca26"
             ],
             [
              1,
              "#f0f921"
             ]
            ],
            "type": "surface"
           }
          ],
          "table": [
           {
            "cells": {
             "fill": {
              "color": "#EBF0F8"
             },
             "line": {
              "color": "white"
             }
            },
            "header": {
             "fill": {
              "color": "#C8D4E3"
             },
             "line": {
              "color": "white"
             }
            },
            "type": "table"
           }
          ]
         },
         "layout": {
          "annotationdefaults": {
           "arrowcolor": "#2a3f5f",
           "arrowhead": 0,
           "arrowwidth": 1
          },
          "coloraxis": {
           "colorbar": {
            "outlinewidth": 0,
            "ticks": ""
           }
          },
          "colorscale": {
           "diverging": [
            [
             0,
             "#8e0152"
            ],
            [
             0.1,
             "#c51b7d"
            ],
            [
             0.2,
             "#de77ae"
            ],
            [
             0.3,
             "#f1b6da"
            ],
            [
             0.4,
             "#fde0ef"
            ],
            [
             0.5,
             "#f7f7f7"
            ],
            [
             0.6,
             "#e6f5d0"
            ],
            [
             0.7,
             "#b8e186"
            ],
            [
             0.8,
             "#7fbc41"
            ],
            [
             0.9,
             "#4d9221"
            ],
            [
             1,
             "#276419"
            ]
           ],
           "sequential": [
            [
             0,
             "#0d0887"
            ],
            [
             0.1111111111111111,
             "#46039f"
            ],
            [
             0.2222222222222222,
             "#7201a8"
            ],
            [
             0.3333333333333333,
             "#9c179e"
            ],
            [
             0.4444444444444444,
             "#bd3786"
            ],
            [
             0.5555555555555556,
             "#d8576b"
            ],
            [
             0.6666666666666666,
             "#ed7953"
            ],
            [
             0.7777777777777778,
             "#fb9f3a"
            ],
            [
             0.8888888888888888,
             "#fdca26"
            ],
            [
             1,
             "#f0f921"
            ]
           ],
           "sequentialminus": [
            [
             0,
             "#0d0887"
            ],
            [
             0.1111111111111111,
             "#46039f"
            ],
            [
             0.2222222222222222,
             "#7201a8"
            ],
            [
             0.3333333333333333,
             "#9c179e"
            ],
            [
             0.4444444444444444,
             "#bd3786"
            ],
            [
             0.5555555555555556,
             "#d8576b"
            ],
            [
             0.6666666666666666,
             "#ed7953"
            ],
            [
             0.7777777777777778,
             "#fb9f3a"
            ],
            [
             0.8888888888888888,
             "#fdca26"
            ],
            [
             1,
             "#f0f921"
            ]
           ]
          },
          "colorway": [
           "#636efa",
           "#EF553B",
           "#00cc96",
           "#ab63fa",
           "#FFA15A",
           "#19d3f3",
           "#FF6692",
           "#B6E880",
           "#FF97FF",
           "#FECB52"
          ],
          "font": {
           "color": "#2a3f5f"
          },
          "geo": {
           "bgcolor": "white",
           "lakecolor": "white",
           "landcolor": "#E5ECF6",
           "showlakes": true,
           "showland": true,
           "subunitcolor": "white"
          },
          "hoverlabel": {
           "align": "left"
          },
          "hovermode": "closest",
          "mapbox": {
           "style": "light"
          },
          "paper_bgcolor": "white",
          "plot_bgcolor": "#E5ECF6",
          "polar": {
           "angularaxis": {
            "gridcolor": "white",
            "linecolor": "white",
            "ticks": ""
           },
           "bgcolor": "#E5ECF6",
           "radialaxis": {
            "gridcolor": "white",
            "linecolor": "white",
            "ticks": ""
           }
          },
          "scene": {
           "xaxis": {
            "backgroundcolor": "#E5ECF6",
            "gridcolor": "white",
            "gridwidth": 2,
            "linecolor": "white",
            "showbackground": true,
            "ticks": "",
            "zerolinecolor": "white"
           },
           "yaxis": {
            "backgroundcolor": "#E5ECF6",
            "gridcolor": "white",
            "gridwidth": 2,
            "linecolor": "white",
            "showbackground": true,
            "ticks": "",
            "zerolinecolor": "white"
           },
           "zaxis": {
            "backgroundcolor": "#E5ECF6",
            "gridcolor": "white",
            "gridwidth": 2,
            "linecolor": "white",
            "showbackground": true,
            "ticks": "",
            "zerolinecolor": "white"
           }
          },
          "shapedefaults": {
           "line": {
            "color": "#2a3f5f"
           }
          },
          "ternary": {
           "aaxis": {
            "gridcolor": "white",
            "linecolor": "white",
            "ticks": ""
           },
           "baxis": {
            "gridcolor": "white",
            "linecolor": "white",
            "ticks": ""
           },
           "bgcolor": "#E5ECF6",
           "caxis": {
            "gridcolor": "white",
            "linecolor": "white",
            "ticks": ""
           }
          },
          "title": {
           "x": 0.05
          },
          "xaxis": {
           "automargin": true,
           "gridcolor": "white",
           "linecolor": "white",
           "ticks": "",
           "title": {
            "standoff": 15
           },
           "zerolinecolor": "white",
           "zerolinewidth": 2
          },
          "yaxis": {
           "automargin": true,
           "gridcolor": "white",
           "linecolor": "white",
           "ticks": "",
           "title": {
            "standoff": 15
           },
           "zerolinecolor": "white",
           "zerolinewidth": 2
          }
         }
        }
       }
      }
     },
     "metadata": {}
    }
   ],
   "source": [
    "transformed_df = pd.DataFrame(transformed_X, columns=['x','y','z'])\n",
    "transformed_df['target'] = train_y.values\n",
    "transformed_df['name'] = df.index\n",
    "transformed_df['size'] = [1 for i in range(transformed_df.shape[0])]\n",
    "px.scatter_3d(transformed_df, x='x', y='y', z='z',\n",
    "              color='target', hover_data=['name'], size='size', size_max=15)"
   ]
  },
  {
   "cell_type": "code",
   "execution_count": 40,
   "metadata": {},
   "outputs": [],
   "source": [
    "transformer = FactorAnalysis(n_components=3, random_state=0, rotation='quartimax').fit(train_X)"
   ]
  },
  {
   "cell_type": "code",
   "execution_count": 41,
   "metadata": {},
   "outputs": [],
   "source": [
    "transformed_X = transformer.transform(train_X)"
   ]
  },
  {
   "cell_type": "code",
   "execution_count": 42,
   "metadata": {},
   "outputs": [
    {
     "output_type": "display_data",
     "data": {
      "application/vnd.plotly.v1+json": {
       "config": {
        "plotlyServerURL": "https://plot.ly"
       },
       "data": [
        {
         "customdata": [
          [
           "(hot air) balloon"
          ],
          [
           "airplane"
          ],
          [
           "bicycle"
          ],
          [
           "boat"
          ],
          [
           "bus"
          ],
          [
           "car"
          ],
          [
           "carriage"
          ],
          [
           "cart"
          ],
          [
           "go-cart"
          ],
          [
           "helicopter"
          ],
          [
           "hovercraft"
          ],
          [
           "jeep"
          ],
          [
           "kick scooter"
          ],
          [
           "motorbike (moto)"
          ],
          [
           "rocket"
          ],
          [
           "scooter (bromfiets)"
          ],
          [
           "scooter (brommer)"
          ],
          [
           "skateboard"
          ],
          [
           "sled"
          ],
          [
           "submarine"
          ],
          [
           "subway train"
          ],
          [
           "taxi"
          ],
          [
           "tractor"
          ],
          [
           "trailer"
          ],
          [
           "train"
          ],
          [
           "tram"
          ],
          [
           "truck (camion)"
          ],
          [
           "truck (vrachtwagen)"
          ],
          [
           "van"
          ],
          [
           "zeppelin"
          ]
         ],
         "hovertemplate": "target=vehicle<br>x=%{x}<br>y=%{y}<br>z=%{z}<br>size=%{marker.size}<br>name=%{customdata[0]}<extra></extra>",
         "legendgroup": "vehicle",
         "marker": {
          "color": "#636efa",
          "size": [
           1,
           1,
           1,
           1,
           1,
           1,
           1,
           1,
           1,
           1,
           1,
           1,
           1,
           1,
           1,
           1,
           1,
           1,
           1,
           1,
           1,
           1,
           1,
           1,
           1,
           1,
           1,
           1,
           1,
           1
          ],
          "sizemode": "area",
          "sizeref": 0.0044444444444444444,
          "symbol": "circle"
         },
         "mode": "markers",
         "name": "vehicle",
         "scene": "scene",
         "showlegend": true,
         "type": "scatter3d",
         "x": [
          -0.22347642948190352,
          -0.09516938254141763,
          -0.32089965383945845,
          -0.12808268566696393,
          -0.11714595330322497,
          -0.07593739114603937,
          -0.29605636407887437,
          -0.3800398195826081,
          -0.3111785083809833,
          -0.1458298239024867,
          -0.16652733284966292,
          -0.1403836718623095,
          -0.38556390022125225,
          -0.15048429340044275,
          -0.24440319987181425,
          -0.19509764344959102,
          -0.17491177939267125,
          -0.35948171379495053,
          -0.40576357809162983,
          -0.2085489424097994,
          -0.23835824789628826,
          -0.11051675250792208,
          -0.18271475380356897,
          -0.2787343315312866,
          -0.17813862043975084,
          -0.21984328606803852,
          -0.10694940114781573,
          -0.1220624897758422,
          -0.15832670116153966,
          -0.16920051441466602
         ],
         "y": [
          -0.055867391299702106,
          -0.2473008984560571,
          -0.21084727132043762,
          -0.22596218821764774,
          -0.2591360245055632,
          -0.1265962134777302,
          -0.3074877061597814,
          -0.40248258720236074,
          -0.33576301146544785,
          -0.32123042926854006,
          -0.31236114080168914,
          -0.23446798920461107,
          -0.3771554831083991,
          -0.22049725603021275,
          -0.37443162236594313,
          -0.2713518537838155,
          -0.22566258546691464,
          -0.32754730437322827,
          -0.38415388992358057,
          -0.3591481240924557,
          -0.3603577854560486,
          -0.24969007175029306,
          -0.3314336383773109,
          -0.2687695369145418,
          -0.3220561310480113,
          -0.35621130673411683,
          -0.2412965908908341,
          -0.274436144785469,
          -0.2961083898836162,
          -0.12386350156877549
         ],
         "z": [
          1.3418011500383265,
          2.7177428230856067,
          1.0049047714654047,
          2.41941190607235,
          2.6831351521283135,
          2.85898221749413,
          1.1401329292140465,
          0.8808770718798931,
          1.1371196525856937,
          2.3548888456225194,
          2.237917215570861,
          2.425370309714244,
          0.6075786545189323,
          2.2818601538534877,
          1.6576348495305944,
          2.0758826059813402,
          2.108087911303982,
          0.6542969257603372,
          0.4086271661028179,
          2.038249647394706,
          1.829463993479992,
          2.5190960532581834,
          2.191320022024497,
          1.364683206208995,
          2.20162173944037,
          1.9140651781410019,
          2.777518245089407,
          2.691610754926288,
          2.3847042941295142,
          1.8723818295616872
         ]
        },
        {
         "customdata": [
          [
           "accordion"
          ],
          [
           "bagpipe"
          ],
          [
           "banjo"
          ],
          [
           "bass guitar"
          ],
          [
           "bassoon"
          ],
          [
           "cello"
          ],
          [
           "clarinet"
          ],
          [
           "cymbals"
          ],
          [
           "double bass"
          ],
          [
           "drum"
          ],
          [
           "drum set"
          ],
          [
           "flute"
          ],
          [
           "guitar"
          ],
          [
           "harmonica"
          ],
          [
           "harp"
          ],
          [
           "harpsichord"
          ],
          [
           "organ"
          ],
          [
           "pan flute"
          ],
          [
           "piano"
          ],
          [
           "recorder"
          ],
          [
           "saxophone"
          ],
          [
           "synthesizer"
          ],
          [
           "tambourine"
          ],
          [
           "triangle"
          ],
          [
           "trombone"
          ],
          [
           "trumpet"
          ],
          [
           "violin"
          ]
         ],
         "hovertemplate": "target=musical instrument<br>x=%{x}<br>y=%{y}<br>z=%{z}<br>size=%{marker.size}<br>name=%{customdata[0]}<extra></extra>",
         "legendgroup": "musical instrument",
         "marker": {
          "color": "#EF553B",
          "size": [
           1,
           1,
           1,
           1,
           1,
           1,
           1,
           1,
           1,
           1,
           1,
           1,
           1,
           1,
           1,
           1,
           1,
           1,
           1,
           1,
           1,
           1,
           1,
           1,
           1,
           1,
           1
          ],
          "sizemode": "area",
          "sizeref": 0.0044444444444444444,
          "symbol": "circle"
         },
         "mode": "markers",
         "name": "musical instrument",
         "scene": "scene",
         "showlegend": true,
         "type": "scatter3d",
         "x": [
          2.1203324010348257,
          2.2694717371112514,
          2.2723232150654322,
          2.3023661534123683,
          2.27244727278601,
          2.3476399190921557,
          2.2531423213334913,
          2.0655038671233794,
          2.345848536974316,
          2.149874411621685,
          2.289851600745179,
          2.218005465020967,
          2.307548042759404,
          2.147980605626322,
          2.3088109233421545,
          2.2532126785079445,
          2.238236307923454,
          2.218473122508834,
          2.3417546432199736,
          2.1950135294525985,
          2.2860717912025295,
          2.265204688037922,
          2.018199215486613,
          1.9902374045246065,
          2.241830276401938,
          2.2397038410346206,
          2.289366395274946
         ],
         "y": [
          -0.12764218805496472,
          -0.04126048985237897,
          -0.22133138278456538,
          -0.19838683474662205,
          -0.24713970266659957,
          -0.20751629220734757,
          -0.2523024795878831,
          -0.32309664873586885,
          -0.21689219451582767,
          -0.22485537754280263,
          -0.25164369090466326,
          -0.2780588256542912,
          -0.16082477377931712,
          -0.2663534638644774,
          -0.22863942658771155,
          -0.25230571163856835,
          -0.21862256151491435,
          -0.2525310529415659,
          -0.18460305023399745,
          -0.23283003285326448,
          -0.25795682033564654,
          -0.24485614529499147,
          -0.2682669798595818,
          -0.34244867534921125,
          -0.278269872082606,
          -0.27796005862887746,
          -0.22847031156312111
         ],
         "z": [
          -0.24181534266860777,
          -0.3251402457022178,
          -0.3176852467310649,
          -0.2125463352271151,
          -0.31853864660651554,
          -0.20001422765440835,
          -0.34728764235115783,
          -0.6466995999951745,
          -0.1603749658352519,
          -0.4332023297052537,
          -0.1427946699370461,
          -0.40698063343908586,
          -0.19585413112112027,
          -0.45739409435347794,
          -0.21791461714949362,
          -0.21779265435869563,
          -0.029855653143169993,
          -0.5133349783290596,
          0.05479236277011315,
          -0.42996821697945914,
          -0.2959939924298076,
          -0.08184857518052524,
          -0.6387527668184807,
          -0.7576493575358589,
          -0.3271239088685878,
          -0.34189126015284865,
          -0.27004345251291195
         ]
        },
        {
         "customdata": [
          [
           "anvil"
          ],
          [
           "axe"
          ],
          [
           "chisel"
          ],
          [
           "clamp"
          ],
          [
           "crowbar (breekijzer)"
          ],
          [
           "crowbar (koevoet)"
          ],
          [
           "drill"
          ],
          [
           "file"
          ],
          [
           "filling knife"
          ],
          [
           "grinding disc"
          ],
          [
           "hammer"
          ],
          [
           "lawn mower"
          ],
          [
           "level"
          ],
          [
           "nail"
          ],
          [
           "oil can"
          ],
          [
           "paint brush"
          ],
          [
           "pickaxe"
          ],
          [
           "plane"
          ],
          [
           "plough"
          ],
          [
           "rope"
          ],
          [
           "saw"
          ],
          [
           "screw wrench (engelse sleutel)"
          ],
          [
           "screwdriver"
          ],
          [
           "shovel"
          ],
          [
           "tongs"
          ],
          [
           "vacuum cleaner"
          ],
          [
           "wheelbarrow"
          ],
          [
           "wire brush"
          ],
          [
           "wrench"
          ]
         ],
         "hovertemplate": "target=tool<br>x=%{x}<br>y=%{y}<br>z=%{z}<br>size=%{marker.size}<br>name=%{customdata[0]}<extra></extra>",
         "legendgroup": "tool",
         "marker": {
          "color": "#00cc96",
          "size": [
           1,
           1,
           1,
           1,
           1,
           1,
           1,
           1,
           1,
           1,
           1,
           1,
           1,
           1,
           1,
           1,
           1,
           1,
           1,
           1,
           1,
           1,
           1,
           1,
           1,
           1,
           1,
           1,
           1
          ],
          "sizemode": "area",
          "sizeref": 0.0044444444444444444,
          "symbol": "circle"
         },
         "mode": "markers",
         "name": "tool",
         "scene": "scene",
         "showlegend": true,
         "type": "scatter3d",
         "x": [
          -0.6187638038248768,
          -0.6489515903290337,
          -0.6655341608692222,
          -0.6337660986970627,
          -0.6507961227387435,
          -0.659312213709627,
          -0.5195566422206951,
          -0.6542558002606358,
          -0.6666495898639914,
          -0.5444094881540321,
          -0.6786368702059493,
          -0.42331815735419165,
          -0.647364875457613,
          -0.6726508574354307,
          -0.6026319570275837,
          -0.6139931579561444,
          -0.6583951075773348,
          -0.6525864167069336,
          -0.5713581876605474,
          -0.6163952859477917,
          -0.6742741134554557,
          -0.6806088601923709,
          -0.6884144683598677,
          -0.6462529542097213,
          -0.6782318996947396,
          -0.5117573416834991,
          -0.5494092033024732,
          -0.6349200343195152,
          -0.6834625852040066
         ],
         "y": [
          -0.7086219098485682,
          -0.7252052046264453,
          -0.7219488731266366,
          -0.6802886766895047,
          -0.7327327705346078,
          -0.7371720637275039,
          -0.6295408297986134,
          -0.7184283216903279,
          -0.7117550505500717,
          -0.6630227634772853,
          -0.74261056541969,
          -0.5202477253748592,
          -0.6643582855814659,
          -0.7110321435422434,
          -0.6106204278196011,
          -0.5375518618742312,
          -0.739868414311679,
          -0.7049247424675886,
          -0.6572468857650604,
          -0.5011344194123933,
          -0.7540000941971199,
          -0.7449439719231005,
          -0.7371723137775048,
          -0.694848022970351,
          -0.7386257674973313,
          -0.5303500408494198,
          -0.6221454837635929,
          -0.6487528238305251,
          -0.7430806226019799
         ],
         "z": [
          -0.6339116034344042,
          -0.6981648805483256,
          -0.8794563852897559,
          -0.7377233876381505,
          -0.7652843406023503,
          -0.8107683445194609,
          -0.01852343789124895,
          -1.0534590128800996,
          -0.8999078682748468,
          -0.17123087141445037,
          -0.8539093630075507,
          0.6194124415229185,
          -0.8775691303835028,
          -0.9217830058542866,
          -0.6469244030173832,
          -0.7434452620580346,
          -0.7961009477373147,
          -0.8406524491112192,
          -0.27901619096411673,
          -0.8102253066258811,
          -0.8965066128502021,
          -0.9665074433578925,
          -0.9799321540018093,
          -0.7481839747447102,
          -0.9251649750132717,
          -0.08939227915641845,
          -0.09227992142241377,
          -0.7907581605314379,
          -0.9792430385492795
         ]
        },
        {
         "customdata": [
          [
           "apron"
          ],
          [
           "bottle"
          ],
          [
           "bowl"
          ],
          [
           "can opener"
          ],
          [
           "colander"
          ],
          [
           "electric kettle"
          ],
          [
           "fork"
          ],
          [
           "fridge"
          ],
          [
           "glass"
          ],
          [
           "grater"
          ],
          [
           "kettle"
          ],
          [
           "knife"
          ],
          [
           "microwave oven"
          ],
          [
           "mixer"
          ],
          [
           "mug"
          ],
          [
           "nutcracker"
          ],
          [
           "oven"
          ],
          [
           "pan"
          ],
          [
           "percolator"
          ],
          [
           "place mat"
          ],
          [
           "plate"
          ],
          [
           "pot"
          ],
          [
           "scales"
          ],
          [
           "scissors"
          ],
          [
           "sieve"
          ],
          [
           "spatula"
          ],
          [
           "spoon"
          ],
          [
           "stove"
          ],
          [
           "teaspoon"
          ],
          [
           "toaster"
          ],
          [
           "towel"
          ],
          [
           "whisk"
          ],
          [
           "wok"
          ]
         ],
         "hovertemplate": "target=kitchen utensil<br>x=%{x}<br>y=%{y}<br>z=%{z}<br>size=%{marker.size}<br>name=%{customdata[0]}<extra></extra>",
         "legendgroup": "kitchen utensil",
         "marker": {
          "color": "#ab63fa",
          "size": [
           1,
           1,
           1,
           1,
           1,
           1,
           1,
           1,
           1,
           1,
           1,
           1,
           1,
           1,
           1,
           1,
           1,
           1,
           1,
           1,
           1,
           1,
           1,
           1,
           1,
           1,
           1,
           1,
           1,
           1,
           1,
           1,
           1
          ],
          "sizemode": "area",
          "sizeref": 0.0044444444444444444,
          "symbol": "circle"
         },
         "mode": "markers",
         "name": "kitchen utensil",
         "scene": "scene",
         "showlegend": true,
         "type": "scatter3d",
         "x": [
          -0.4842446304160713,
          -0.5106934703592256,
          -0.6136453269084039,
          -0.6190703425401657,
          -0.6333910896227714,
          -0.5310276129743804,
          -0.6641222837756603,
          -0.5097025258699697,
          -0.599216884628405,
          -0.1943081176021129,
          -0.5979326965432384,
          -0.7150134355396622,
          -0.5030520138149258,
          -0.5475996472171465,
          -0.5733709318194692,
          -0.643988507394187,
          -0.5205888431569409,
          -0.625121737472639,
          -0.5230570967446299,
          -0.5472300253375516,
          -0.6156357402756882,
          -0.6250611507553638,
          -0.5875556320941177,
          -0.6701142607418852,
          -0.6564150543258294,
          -0.6353352780527118,
          -0.6496090615725443,
          -0.5485672200316072,
          -0.6285415850211336,
          -0.5552866448898561,
          -0.44365294173829134,
          -0.6446692980999694,
          -0.6237180588159774
         ],
         "y": [
          0.6028024241258849,
          -0.5155298099621483,
          -0.5344162576763904,
          -0.6363188213731208,
          -0.5797134109565544,
          -0.5185088770015249,
          -0.5846691599217506,
          -0.5472476035069834,
          -0.5003897336006089,
          -0.6325946137796106,
          -0.5925411831781084,
          -0.7711189287150889,
          -0.5127125294352814,
          -0.5747223726278844,
          -0.35574607787090157,
          -0.6480652888527579,
          -0.5594713558179043,
          -0.6078894952548101,
          -0.5029037000245477,
          -0.17068626548406968,
          -0.4991700744292397,
          -0.5964001301901236,
          -0.5490354909170769,
          -0.6834660716215272,
          -0.6314220178690372,
          -0.5808403194005322,
          -0.5784989121810111,
          -0.5852702626410776,
          -0.5650883767372661,
          -0.51194788352546,
          0.06570525341325549,
          -0.631364220159785,
          -0.5910737540769095
         ],
         "z": [
          -0.6155183372418093,
          -0.7886245329403861,
          -0.7705567101392494,
          -0.5999003061453476,
          -0.781164085096357,
          -0.2515151318899008,
          -0.9289239550242313,
          0.002078650010846854,
          -0.7391041291627124,
          -0.8915930773542255,
          -0.6371699226083646,
          -1.046680693630768,
          -0.009387439414069524,
          -0.1875354931550288,
          -0.6280831428603061,
          -0.8165892890369123,
          -0.08369922572236149,
          -0.7447385470714956,
          -0.2479830083285661,
          -0.5901369431405361,
          -0.7516882492752012,
          -0.770365843853444,
          -0.5648143727055062,
          -0.8546387836451771,
          -0.9090824355134867,
          -0.8391913393512012,
          -0.955536152760906,
          -0.19507443150745596,
          -0.8773743256438437,
          -0.3607499761826185,
          -0.6284982694964606,
          -0.8865468332757487,
          -0.7226105956643359
         ]
        },
        {
         "customdata": [
          [
           "bathing suit"
          ],
          [
           "beanie"
          ],
          [
           "belt"
          ],
          [
           "blouse"
          ],
          [
           "boots"
          ],
          [
           "bra"
          ],
          [
           "cap"
          ],
          [
           "coat"
          ],
          [
           "dress"
          ],
          [
           "dungarees"
          ],
          [
           "hat"
          ],
          [
           "jeans"
          ],
          [
           "mittens"
          ],
          [
           "panties"
          ],
          [
           "pants"
          ],
          [
           "pullover"
          ],
          [
           "pyjamas"
          ],
          [
           "scarf"
          ],
          [
           "shirt"
          ],
          [
           "shoes"
          ],
          [
           "shorts"
          ],
          [
           "skirt"
          ],
          [
           "socks"
          ],
          [
           "suit"
          ],
          [
           "sweater"
          ],
          [
           "t-shirt"
          ],
          [
           "tie"
          ],
          [
           "top"
          ],
          [
           "tracksuit"
          ]
         ],
         "hovertemplate": "target=clothing<br>x=%{x}<br>y=%{y}<br>z=%{z}<br>size=%{marker.size}<br>name=%{customdata[0]}<extra></extra>",
         "legendgroup": "clothing",
         "marker": {
          "color": "#FFA15A",
          "size": [
           1,
           1,
           1,
           1,
           1,
           1,
           1,
           1,
           1,
           1,
           1,
           1,
           1,
           1,
           1,
           1,
           1,
           1,
           1,
           1,
           1,
           1,
           1,
           1,
           1,
           1,
           1,
           1,
           1
          ],
          "sizemode": "area",
          "sizeref": 0.0044444444444444444,
          "symbol": "circle"
         },
         "mode": "markers",
         "name": "clothing",
         "scene": "scene",
         "showlegend": true,
         "type": "scatter3d",
         "x": [
          -0.2746057032698194,
          -0.27708851298541703,
          -0.32282045877032567,
          -0.23444843421655384,
          -0.3225820335766465,
          -0.2534036350517489,
          -0.27935011769622314,
          -0.24873143799826336,
          -0.1310071447588157,
          -0.270807895807256,
          -0.255409010917236,
          -0.24683359968161625,
          -0.2856360106914067,
          -0.26180142491464287,
          -0.25817895912706784,
          -0.24902948360078003,
          -0.23567900336092587,
          -0.2703074104853247,
          -0.2312445044306773,
          -0.28837255114623817,
          -0.2607193788302173,
          -0.24159947497965203,
          -0.2730731453057611,
          -0.22812878503782652,
          -0.24367822731213962,
          -0.2549493317991937,
          -0.25865125050468274,
          -0.25547145993244175,
          -0.2581426515265297
         ],
         "y": [
          2.0380811085631136,
          1.9333480792163968,
          1.5908167266501192,
          2.3440218425945933,
          1.4673546547965621,
          2.2045357061074484,
          2.03415294350132,
          2.2736308673671446,
          2.280723895843422,
          2.043178946179364,
          2.0626278597707506,
          2.223824671497284,
          1.967057954592984,
          2.249333947625327,
          2.327474947133996,
          2.3468208057906677,
          2.2631837583547054,
          2.085849574420653,
          2.36065030732071,
          1.6976031458750753,
          2.1544192155693227,
          2.2925593309986025,
          2.112810191780826,
          2.094874603457919,
          2.312340272213519,
          2.2892006301107504,
          2.0980341171013777,
          2.228089185702031,
          2.059974924326371
         ],
         "z": [
          -0.2366398526749412,
          -0.2304913357268676,
          -0.32741271298204083,
          -0.16865126015603576,
          -0.2257114507461794,
          -0.19082923125895795,
          -0.2423118840942193,
          -0.20503225848140944,
          -0.17183923128994555,
          -0.191824318720548,
          -0.18553006683356596,
          -0.18863312501510873,
          -0.29212525338235296,
          -0.24044038369504078,
          -0.254201322326001,
          -0.2560768438727967,
          -0.17541284410093935,
          -0.26309281365149484,
          -0.18233020936215424,
          -0.1343889259225219,
          -0.20819958453664858,
          -0.1999643993746482,
          -0.23547498805286912,
          -0.05375699128448073,
          -0.19618098866809944,
          -0.23514218631885817,
          -0.208031135579759,
          -0.23418802918581277,
          -0.15911311790688618
         ]
        },
        {
         "customdata": [
          [
           "bazooka"
          ],
          [
           "bow"
          ],
          [
           "canon"
          ],
          [
           "club"
          ],
          [
           "dagger"
          ],
          [
           "double-barreled shotgun"
          ],
          [
           "grenade"
          ],
          [
           "knuckle dusters"
          ],
          [
           "machine gun"
          ],
          [
           "pistol"
          ],
          [
           "rifle"
          ],
          [
           "shield"
          ],
          [
           "slingshot"
          ],
          [
           "spear"
          ],
          [
           "stick"
          ],
          [
           "sword"
          ],
          [
           "tank"
          ],
          [
           "whip"
          ]
         ],
         "hovertemplate": "target=weapon<br>x=%{x}<br>y=%{y}<br>z=%{z}<br>size=%{marker.size}<br>name=%{customdata[0]}<extra></extra>",
         "legendgroup": "weapon",
         "marker": {
          "color": "#19d3f3",
          "size": [
           1,
           1,
           1,
           1,
           1,
           1,
           1,
           1,
           1,
           1,
           1,
           1,
           1,
           1,
           1,
           1,
           1,
           1
          ],
          "sizemode": "area",
          "sizeref": 0.0044444444444444444,
          "symbol": "circle"
         },
         "mode": "markers",
         "name": "weapon",
         "scene": "scene",
         "showlegend": true,
         "type": "scatter3d",
         "x": [
          -0.4662021975149572,
          -0.4997476569614692,
          -0.475824190545735,
          -0.5846861706517358,
          -0.5888983144907759,
          -0.5131440576460746,
          -0.5038416447170118,
          -0.5649338029859499,
          -0.49736512928808013,
          -0.5156142583405603,
          -0.5054078092061484,
          -0.5606189439925721,
          -0.5128992574045589,
          -0.5631797213977167,
          -0.5644094027336285,
          -0.5699315210736354,
          -0.2811364318750819,
          -0.5318346614973403
         ],
         "y": [
          -0.6000592614289052,
          -0.5311856747080842,
          -0.6082136620266894,
          -0.6191603248302953,
          -0.6324670883215611,
          -0.6279238524950148,
          -0.5685910312234336,
          -0.5185785127743067,
          -0.6133111661755621,
          -0.6144679302512428,
          -0.6227065371514977,
          -0.556318553773696,
          -0.5288421645349497,
          -0.569082048853266,
          -0.6198079678611976,
          -0.630680099401026,
          -0.45262127141227226,
          -0.5212715572252878
         ],
         "z": [
          0.22231369898616304,
          -0.21953661156089554,
          0.2749379906786862,
          -0.5461948283740733,
          -0.5295843890543885,
          -0.08399551860493489,
          -0.05043042417241146,
          -0.48649328837627737,
          0.06345380044901672,
          -0.025860938627677296,
          0.03276524896776029,
          -0.5112272334999082,
          -0.19090936607267947,
          -0.46402228294785575,
          -0.5949708944862463,
          -0.399804905990707,
          1.6263755604261072,
          -0.37144172791566193
         ]
        }
       ],
       "layout": {
        "legend": {
         "itemsizing": "constant",
         "title": {
          "text": "target"
         },
         "tracegroupgap": 0
        },
        "margin": {
         "t": 60
        },
        "scene": {
         "domain": {
          "x": [
           0,
           1
          ],
          "y": [
           0,
           1
          ]
         },
         "xaxis": {
          "title": {
           "text": "x"
          }
         },
         "yaxis": {
          "title": {
           "text": "y"
          }
         },
         "zaxis": {
          "title": {
           "text": "z"
          }
         }
        },
        "template": {
         "data": {
          "bar": [
           {
            "error_x": {
             "color": "#2a3f5f"
            },
            "error_y": {
             "color": "#2a3f5f"
            },
            "marker": {
             "line": {
              "color": "#E5ECF6",
              "width": 0.5
             }
            },
            "type": "bar"
           }
          ],
          "barpolar": [
           {
            "marker": {
             "line": {
              "color": "#E5ECF6",
              "width": 0.5
             }
            },
            "type": "barpolar"
           }
          ],
          "carpet": [
           {
            "aaxis": {
             "endlinecolor": "#2a3f5f",
             "gridcolor": "white",
             "linecolor": "white",
             "minorgridcolor": "white",
             "startlinecolor": "#2a3f5f"
            },
            "baxis": {
             "endlinecolor": "#2a3f5f",
             "gridcolor": "white",
             "linecolor": "white",
             "minorgridcolor": "white",
             "startlinecolor": "#2a3f5f"
            },
            "type": "carpet"
           }
          ],
          "choropleth": [
           {
            "colorbar": {
             "outlinewidth": 0,
             "ticks": ""
            },
            "type": "choropleth"
           }
          ],
          "contour": [
           {
            "colorbar": {
             "outlinewidth": 0,
             "ticks": ""
            },
            "colorscale": [
             [
              0,
              "#0d0887"
             ],
             [
              0.1111111111111111,
              "#46039f"
             ],
             [
              0.2222222222222222,
              "#7201a8"
             ],
             [
              0.3333333333333333,
              "#9c179e"
             ],
             [
              0.4444444444444444,
              "#bd3786"
             ],
             [
              0.5555555555555556,
              "#d8576b"
             ],
             [
              0.6666666666666666,
              "#ed7953"
             ],
             [
              0.7777777777777778,
              "#fb9f3a"
             ],
             [
              0.8888888888888888,
              "#fdca26"
             ],
             [
              1,
              "#f0f921"
             ]
            ],
            "type": "contour"
           }
          ],
          "contourcarpet": [
           {
            "colorbar": {
             "outlinewidth": 0,
             "ticks": ""
            },
            "type": "contourcarpet"
           }
          ],
          "heatmap": [
           {
            "colorbar": {
             "outlinewidth": 0,
             "ticks": ""
            },
            "colorscale": [
             [
              0,
              "#0d0887"
             ],
             [
              0.1111111111111111,
              "#46039f"
             ],
             [
              0.2222222222222222,
              "#7201a8"
             ],
             [
              0.3333333333333333,
              "#9c179e"
             ],
             [
              0.4444444444444444,
              "#bd3786"
             ],
             [
              0.5555555555555556,
              "#d8576b"
             ],
             [
              0.6666666666666666,
              "#ed7953"
             ],
             [
              0.7777777777777778,
              "#fb9f3a"
             ],
             [
              0.8888888888888888,
              "#fdca26"
             ],
             [
              1,
              "#f0f921"
             ]
            ],
            "type": "heatmap"
           }
          ],
          "heatmapgl": [
           {
            "colorbar": {
             "outlinewidth": 0,
             "ticks": ""
            },
            "colorscale": [
             [
              0,
              "#0d0887"
             ],
             [
              0.1111111111111111,
              "#46039f"
             ],
             [
              0.2222222222222222,
              "#7201a8"
             ],
             [
              0.3333333333333333,
              "#9c179e"
             ],
             [
              0.4444444444444444,
              "#bd3786"
             ],
             [
              0.5555555555555556,
              "#d8576b"
             ],
             [
              0.6666666666666666,
              "#ed7953"
             ],
             [
              0.7777777777777778,
              "#fb9f3a"
             ],
             [
              0.8888888888888888,
              "#fdca26"
             ],
             [
              1,
              "#f0f921"
             ]
            ],
            "type": "heatmapgl"
           }
          ],
          "histogram": [
           {
            "marker": {
             "colorbar": {
              "outlinewidth": 0,
              "ticks": ""
             }
            },
            "type": "histogram"
           }
          ],
          "histogram2d": [
           {
            "colorbar": {
             "outlinewidth": 0,
             "ticks": ""
            },
            "colorscale": [
             [
              0,
              "#0d0887"
             ],
             [
              0.1111111111111111,
              "#46039f"
             ],
             [
              0.2222222222222222,
              "#7201a8"
             ],
             [
              0.3333333333333333,
              "#9c179e"
             ],
             [
              0.4444444444444444,
              "#bd3786"
             ],
             [
              0.5555555555555556,
              "#d8576b"
             ],
             [
              0.6666666666666666,
              "#ed7953"
             ],
             [
              0.7777777777777778,
              "#fb9f3a"
             ],
             [
              0.8888888888888888,
              "#fdca26"
             ],
             [
              1,
              "#f0f921"
             ]
            ],
            "type": "histogram2d"
           }
          ],
          "histogram2dcontour": [
           {
            "colorbar": {
             "outlinewidth": 0,
             "ticks": ""
            },
            "colorscale": [
             [
              0,
              "#0d0887"
             ],
             [
              0.1111111111111111,
              "#46039f"
             ],
             [
              0.2222222222222222,
              "#7201a8"
             ],
             [
              0.3333333333333333,
              "#9c179e"
             ],
             [
              0.4444444444444444,
              "#bd3786"
             ],
             [
              0.5555555555555556,
              "#d8576b"
             ],
             [
              0.6666666666666666,
              "#ed7953"
             ],
             [
              0.7777777777777778,
              "#fb9f3a"
             ],
             [
              0.8888888888888888,
              "#fdca26"
             ],
             [
              1,
              "#f0f921"
             ]
            ],
            "type": "histogram2dcontour"
           }
          ],
          "mesh3d": [
           {
            "colorbar": {
             "outlinewidth": 0,
             "ticks": ""
            },
            "type": "mesh3d"
           }
          ],
          "parcoords": [
           {
            "line": {
             "colorbar": {
              "outlinewidth": 0,
              "ticks": ""
             }
            },
            "type": "parcoords"
           }
          ],
          "pie": [
           {
            "automargin": true,
            "type": "pie"
           }
          ],
          "scatter": [
           {
            "marker": {
             "colorbar": {
              "outlinewidth": 0,
              "ticks": ""
             }
            },
            "type": "scatter"
           }
          ],
          "scatter3d": [
           {
            "line": {
             "colorbar": {
              "outlinewidth": 0,
              "ticks": ""
             }
            },
            "marker": {
             "colorbar": {
              "outlinewidth": 0,
              "ticks": ""
             }
            },
            "type": "scatter3d"
           }
          ],
          "scattercarpet": [
           {
            "marker": {
             "colorbar": {
              "outlinewidth": 0,
              "ticks": ""
             }
            },
            "type": "scattercarpet"
           }
          ],
          "scattergeo": [
           {
            "marker": {
             "colorbar": {
              "outlinewidth": 0,
              "ticks": ""
             }
            },
            "type": "scattergeo"
           }
          ],
          "scattergl": [
           {
            "marker": {
             "colorbar": {
              "outlinewidth": 0,
              "ticks": ""
             }
            },
            "type": "scattergl"
           }
          ],
          "scattermapbox": [
           {
            "marker": {
             "colorbar": {
              "outlinewidth": 0,
              "ticks": ""
             }
            },
            "type": "scattermapbox"
           }
          ],
          "scatterpolar": [
           {
            "marker": {
             "colorbar": {
              "outlinewidth": 0,
              "ticks": ""
             }
            },
            "type": "scatterpolar"
           }
          ],
          "scatterpolargl": [
           {
            "marker": {
             "colorbar": {
              "outlinewidth": 0,
              "ticks": ""
             }
            },
            "type": "scatterpolargl"
           }
          ],
          "scatterternary": [
           {
            "marker": {
             "colorbar": {
              "outlinewidth": 0,
              "ticks": ""
             }
            },
            "type": "scatterternary"
           }
          ],
          "surface": [
           {
            "colorbar": {
             "outlinewidth": 0,
             "ticks": ""
            },
            "colorscale": [
             [
              0,
              "#0d0887"
             ],
             [
              0.1111111111111111,
              "#46039f"
             ],
             [
              0.2222222222222222,
              "#7201a8"
             ],
             [
              0.3333333333333333,
              "#9c179e"
             ],
             [
              0.4444444444444444,
              "#bd3786"
             ],
             [
              0.5555555555555556,
              "#d8576b"
             ],
             [
              0.6666666666666666,
              "#ed7953"
             ],
             [
              0.7777777777777778,
              "#fb9f3a"
             ],
             [
              0.8888888888888888,
              "#fdca26"
             ],
             [
              1,
              "#f0f921"
             ]
            ],
            "type": "surface"
           }
          ],
          "table": [
           {
            "cells": {
             "fill": {
              "color": "#EBF0F8"
             },
             "line": {
              "color": "white"
             }
            },
            "header": {
             "fill": {
              "color": "#C8D4E3"
             },
             "line": {
              "color": "white"
             }
            },
            "type": "table"
           }
          ]
         },
         "layout": {
          "annotationdefaults": {
           "arrowcolor": "#2a3f5f",
           "arrowhead": 0,
           "arrowwidth": 1
          },
          "coloraxis": {
           "colorbar": {
            "outlinewidth": 0,
            "ticks": ""
           }
          },
          "colorscale": {
           "diverging": [
            [
             0,
             "#8e0152"
            ],
            [
             0.1,
             "#c51b7d"
            ],
            [
             0.2,
             "#de77ae"
            ],
            [
             0.3,
             "#f1b6da"
            ],
            [
             0.4,
             "#fde0ef"
            ],
            [
             0.5,
             "#f7f7f7"
            ],
            [
             0.6,
             "#e6f5d0"
            ],
            [
             0.7,
             "#b8e186"
            ],
            [
             0.8,
             "#7fbc41"
            ],
            [
             0.9,
             "#4d9221"
            ],
            [
             1,
             "#276419"
            ]
           ],
           "sequential": [
            [
             0,
             "#0d0887"
            ],
            [
             0.1111111111111111,
             "#46039f"
            ],
            [
             0.2222222222222222,
             "#7201a8"
            ],
            [
             0.3333333333333333,
             "#9c179e"
            ],
            [
             0.4444444444444444,
             "#bd3786"
            ],
            [
             0.5555555555555556,
             "#d8576b"
            ],
            [
             0.6666666666666666,
             "#ed7953"
            ],
            [
             0.7777777777777778,
             "#fb9f3a"
            ],
            [
             0.8888888888888888,
             "#fdca26"
            ],
            [
             1,
             "#f0f921"
            ]
           ],
           "sequentialminus": [
            [
             0,
             "#0d0887"
            ],
            [
             0.1111111111111111,
             "#46039f"
            ],
            [
             0.2222222222222222,
             "#7201a8"
            ],
            [
             0.3333333333333333,
             "#9c179e"
            ],
            [
             0.4444444444444444,
             "#bd3786"
            ],
            [
             0.5555555555555556,
             "#d8576b"
            ],
            [
             0.6666666666666666,
             "#ed7953"
            ],
            [
             0.7777777777777778,
             "#fb9f3a"
            ],
            [
             0.8888888888888888,
             "#fdca26"
            ],
            [
             1,
             "#f0f921"
            ]
           ]
          },
          "colorway": [
           "#636efa",
           "#EF553B",
           "#00cc96",
           "#ab63fa",
           "#FFA15A",
           "#19d3f3",
           "#FF6692",
           "#B6E880",
           "#FF97FF",
           "#FECB52"
          ],
          "font": {
           "color": "#2a3f5f"
          },
          "geo": {
           "bgcolor": "white",
           "lakecolor": "white",
           "landcolor": "#E5ECF6",
           "showlakes": true,
           "showland": true,
           "subunitcolor": "white"
          },
          "hoverlabel": {
           "align": "left"
          },
          "hovermode": "closest",
          "mapbox": {
           "style": "light"
          },
          "paper_bgcolor": "white",
          "plot_bgcolor": "#E5ECF6",
          "polar": {
           "angularaxis": {
            "gridcolor": "white",
            "linecolor": "white",
            "ticks": ""
           },
           "bgcolor": "#E5ECF6",
           "radialaxis": {
            "gridcolor": "white",
            "linecolor": "white",
            "ticks": ""
           }
          },
          "scene": {
           "xaxis": {
            "backgroundcolor": "#E5ECF6",
            "gridcolor": "white",
            "gridwidth": 2,
            "linecolor": "white",
            "showbackground": true,
            "ticks": "",
            "zerolinecolor": "white"
           },
           "yaxis": {
            "backgroundcolor": "#E5ECF6",
            "gridcolor": "white",
            "gridwidth": 2,
            "linecolor": "white",
            "showbackground": true,
            "ticks": "",
            "zerolinecolor": "white"
           },
           "zaxis": {
            "backgroundcolor": "#E5ECF6",
            "gridcolor": "white",
            "gridwidth": 2,
            "linecolor": "white",
            "showbackground": true,
            "ticks": "",
            "zerolinecolor": "white"
           }
          },
          "shapedefaults": {
           "line": {
            "color": "#2a3f5f"
           }
          },
          "ternary": {
           "aaxis": {
            "gridcolor": "white",
            "linecolor": "white",
            "ticks": ""
           },
           "baxis": {
            "gridcolor": "white",
            "linecolor": "white",
            "ticks": ""
           },
           "bgcolor": "#E5ECF6",
           "caxis": {
            "gridcolor": "white",
            "linecolor": "white",
            "ticks": ""
           }
          },
          "title": {
           "x": 0.05
          },
          "xaxis": {
           "automargin": true,
           "gridcolor": "white",
           "linecolor": "white",
           "ticks": "",
           "title": {
            "standoff": 15
           },
           "zerolinecolor": "white",
           "zerolinewidth": 2
          },
          "yaxis": {
           "automargin": true,
           "gridcolor": "white",
           "linecolor": "white",
           "ticks": "",
           "title": {
            "standoff": 15
           },
           "zerolinecolor": "white",
           "zerolinewidth": 2
          }
         }
        }
       }
      }
     },
     "metadata": {}
    }
   ],
   "source": [
    "transformed_df = pd.DataFrame(transformed_X, columns=['x','y','z'])\n",
    "transformed_df['target'] = train_y.values\n",
    "transformed_df['name'] = df.index\n",
    "transformed_df['size'] = [1 for i in range(transformed_df.shape[0])]\n",
    "px.scatter_3d(transformed_df, x='x', y='y', z='z',\n",
    "              color='target', hover_data=['name'], size='size', size_max=15)"
   ]
  },
  {
   "cell_type": "code",
   "execution_count": 46,
   "metadata": {},
   "outputs": [
    {
     "output_type": "execute_result",
     "data": {
      "text/plain": [
       "(301,)"
      ]
     },
     "metadata": {},
     "execution_count": 46
    }
   ],
   "source": [
    "transformer.noise_variance_.shape"
   ]
  },
  {
   "cell_type": "code",
   "execution_count": 19,
   "metadata": {},
   "outputs": [
    {
     "output_type": "execute_result",
     "data": {
      "text/plain": [
       "(166, 301)"
      ]
     },
     "metadata": {},
     "execution_count": 19
    }
   ],
   "source": [
    "train_X.shape"
   ]
  },
  {
   "cell_type": "code",
   "execution_count": 24,
   "metadata": {},
   "outputs": [
    {
     "output_type": "execute_result",
     "data": {
      "text/plain": [
       "        0         1         2         3         4         5         6    \\\n",
       "0  0.129790  0.173927  0.142489  0.001553 -0.103736 -0.122075 -0.671182   \n",
       "1  0.115192 -0.121062  0.164274  0.085418 -0.113279  0.817885 -0.760922   \n",
       "2 -0.743581 -0.124324  0.087400  0.332676 -0.030539 -0.414761  0.875923   \n",
       "\n",
       "        7         8         9    ...       291       292       293       294  \\\n",
       "0 -0.113776  0.050203 -0.154396  ...  1.301520 -0.425481 -0.300440 -0.094271   \n",
       "1 -0.513301 -0.058085 -0.159167  ... -0.223131 -0.476983 -0.342773 -0.124396   \n",
       "2 -0.556187 -0.044060  0.193925  ...  0.376341  0.160997  0.328297  0.869233   \n",
       "\n",
       "        295       296       297       298       299       300  \n",
       "0  0.775811  0.653932  0.414020  1.275752  0.839762 -0.072304  \n",
       "1 -0.076256 -0.090484 -0.049783 -0.129535 -0.643410 -0.087718  \n",
       "2 -0.091372  0.130630 -0.073688 -0.155196  0.850736  0.026641  \n",
       "\n",
       "[3 rows x 301 columns]"
      ],
      "text/html": "<div>\n<style scoped>\n    .dataframe tbody tr th:only-of-type {\n        vertical-align: middle;\n    }\n\n    .dataframe tbody tr th {\n        vertical-align: top;\n    }\n\n    .dataframe thead th {\n        text-align: right;\n    }\n</style>\n<table border=\"1\" class=\"dataframe\">\n  <thead>\n    <tr style=\"text-align: right;\">\n      <th></th>\n      <th>0</th>\n      <th>1</th>\n      <th>2</th>\n      <th>3</th>\n      <th>4</th>\n      <th>5</th>\n      <th>6</th>\n      <th>7</th>\n      <th>8</th>\n      <th>9</th>\n      <th>...</th>\n      <th>291</th>\n      <th>292</th>\n      <th>293</th>\n      <th>294</th>\n      <th>295</th>\n      <th>296</th>\n      <th>297</th>\n      <th>298</th>\n      <th>299</th>\n      <th>300</th>\n    </tr>\n  </thead>\n  <tbody>\n    <tr>\n      <th>0</th>\n      <td>0.129790</td>\n      <td>0.173927</td>\n      <td>0.142489</td>\n      <td>0.001553</td>\n      <td>-0.103736</td>\n      <td>-0.122075</td>\n      <td>-0.671182</td>\n      <td>-0.113776</td>\n      <td>0.050203</td>\n      <td>-0.154396</td>\n      <td>...</td>\n      <td>1.301520</td>\n      <td>-0.425481</td>\n      <td>-0.300440</td>\n      <td>-0.094271</td>\n      <td>0.775811</td>\n      <td>0.653932</td>\n      <td>0.414020</td>\n      <td>1.275752</td>\n      <td>0.839762</td>\n      <td>-0.072304</td>\n    </tr>\n    <tr>\n      <th>1</th>\n      <td>0.115192</td>\n      <td>-0.121062</td>\n      <td>0.164274</td>\n      <td>0.085418</td>\n      <td>-0.113279</td>\n      <td>0.817885</td>\n      <td>-0.760922</td>\n      <td>-0.513301</td>\n      <td>-0.058085</td>\n      <td>-0.159167</td>\n      <td>...</td>\n      <td>-0.223131</td>\n      <td>-0.476983</td>\n      <td>-0.342773</td>\n      <td>-0.124396</td>\n      <td>-0.076256</td>\n      <td>-0.090484</td>\n      <td>-0.049783</td>\n      <td>-0.129535</td>\n      <td>-0.643410</td>\n      <td>-0.087718</td>\n    </tr>\n    <tr>\n      <th>2</th>\n      <td>-0.743581</td>\n      <td>-0.124324</td>\n      <td>0.087400</td>\n      <td>0.332676</td>\n      <td>-0.030539</td>\n      <td>-0.414761</td>\n      <td>0.875923</td>\n      <td>-0.556187</td>\n      <td>-0.044060</td>\n      <td>0.193925</td>\n      <td>...</td>\n      <td>0.376341</td>\n      <td>0.160997</td>\n      <td>0.328297</td>\n      <td>0.869233</td>\n      <td>-0.091372</td>\n      <td>0.130630</td>\n      <td>-0.073688</td>\n      <td>-0.155196</td>\n      <td>0.850736</td>\n      <td>0.026641</td>\n    </tr>\n  </tbody>\n</table>\n<p>3 rows × 301 columns</p>\n</div>"
     },
     "metadata": {},
     "execution_count": 24
    }
   ],
   "source": [
    "pd.DataFrame(transformer.components_)"
   ]
  },
  {
   "cell_type": "code",
   "execution_count": 135,
   "metadata": {},
   "outputs": [
    {
     "output_type": "execute_result",
     "data": {
      "text/plain": [
       "array([[-2.43101994, -0.43471912,  0.3243736 , ..., -0.41929203,\n",
       "         1.30236869, -0.24796268],\n",
       "       [ 0.52177989,  1.0380028 ,  0.3243736 , ...,  1.80206364,\n",
       "         0.67933352, -0.24796268],\n",
       "       [-2.43101994, -0.43471912,  0.3243736 , ..., -0.41929203,\n",
       "         0.67933352, -0.24796268],\n",
       "       ...,\n",
       "       [ 0.52177989, -0.43471912, -3.4323253 , ..., -0.41929203,\n",
       "        -0.56673681, -0.24796268],\n",
       "       [ 0.52177989, -0.43471912,  0.3243736 , ..., -0.41929203,\n",
       "         0.05629836, -0.24796268],\n",
       "       [-2.43101994, -0.43471912,  0.3243736 , ..., -0.41929203,\n",
       "         1.30236869, -0.24796268]])"
      ]
     },
     "metadata": {},
     "execution_count": 135
    }
   ],
   "source": [
    "train_X"
   ]
  },
  {
   "cell_type": "code",
   "execution_count": 119,
   "metadata": {},
   "outputs": [],
   "source": [
    "df = pd.DataFrame(train_X).dropna()"
   ]
  },
  {
   "cell_type": "code",
   "execution_count": 160,
   "metadata": {},
   "outputs": [],
   "source": [
    "from factor_analyzer import FactorAnalyzer"
   ]
  },
  {
   "cell_type": "code",
   "execution_count": 161,
   "metadata": {},
   "outputs": [],
   "source": [
    "from scipy.linalg import eigh"
   ]
  },
  {
   "cell_type": "code",
   "execution_count": 162,
   "metadata": {},
   "outputs": [],
   "source": [
    "corr = df.corr()"
   ]
  },
  {
   "cell_type": "code",
   "execution_count": 134,
   "metadata": {},
   "outputs": [
    {
     "output_type": "error",
     "ename": "ValueError",
     "evalue": "array must not contain infs or NaNs",
     "traceback": [
      "\u001b[0;31m---------------------------------------------------------------------------\u001b[0m",
      "\u001b[0;31mValueError\u001b[0m                                Traceback (most recent call last)",
      "\u001b[0;32m<ipython-input-134-94123a1b5b46>\u001b[0m in \u001b[0;36m<module>\u001b[0;34m\u001b[0m\n\u001b[0;32m----> 1\u001b[0;31m \u001b[0meigh\u001b[0m\u001b[0;34m(\u001b[0m\u001b[0mcorr\u001b[0m\u001b[0;34m)\u001b[0m\u001b[0;34m\u001b[0m\u001b[0;34m\u001b[0m\u001b[0m\n\u001b[0m",
      "\u001b[0;32m~/.virtualenvs/fcapy/lib/python3.8/site-packages/scipy/linalg/decomp.py\u001b[0m in \u001b[0;36meigh\u001b[0;34m(a, b, lower, eigvals_only, overwrite_a, overwrite_b, turbo, eigvals, type, check_finite, subset_by_index, subset_by_value, driver)\u001b[0m\n\u001b[1;32m    443\u001b[0m                          ''.format(driver, '\", \"'.join(drv_str[1:])))\n\u001b[1;32m    444\u001b[0m \u001b[0;34m\u001b[0m\u001b[0m\n\u001b[0;32m--> 445\u001b[0;31m     \u001b[0ma1\u001b[0m \u001b[0;34m=\u001b[0m \u001b[0m_asarray_validated\u001b[0m\u001b[0;34m(\u001b[0m\u001b[0ma\u001b[0m\u001b[0;34m,\u001b[0m \u001b[0mcheck_finite\u001b[0m\u001b[0;34m=\u001b[0m\u001b[0mcheck_finite\u001b[0m\u001b[0;34m)\u001b[0m\u001b[0;34m\u001b[0m\u001b[0;34m\u001b[0m\u001b[0m\n\u001b[0m\u001b[1;32m    446\u001b[0m     \u001b[0;32mif\u001b[0m \u001b[0mlen\u001b[0m\u001b[0;34m(\u001b[0m\u001b[0ma1\u001b[0m\u001b[0;34m.\u001b[0m\u001b[0mshape\u001b[0m\u001b[0;34m)\u001b[0m \u001b[0;34m!=\u001b[0m \u001b[0;36m2\u001b[0m \u001b[0;32mor\u001b[0m \u001b[0ma1\u001b[0m\u001b[0;34m.\u001b[0m\u001b[0mshape\u001b[0m\u001b[0;34m[\u001b[0m\u001b[0;36m0\u001b[0m\u001b[0;34m]\u001b[0m \u001b[0;34m!=\u001b[0m \u001b[0ma1\u001b[0m\u001b[0;34m.\u001b[0m\u001b[0mshape\u001b[0m\u001b[0;34m[\u001b[0m\u001b[0;36m1\u001b[0m\u001b[0;34m]\u001b[0m\u001b[0;34m:\u001b[0m\u001b[0;34m\u001b[0m\u001b[0;34m\u001b[0m\u001b[0m\n\u001b[1;32m    447\u001b[0m         \u001b[0;32mraise\u001b[0m \u001b[0mValueError\u001b[0m\u001b[0;34m(\u001b[0m\u001b[0;34m'expected square \"a\" matrix'\u001b[0m\u001b[0;34m)\u001b[0m\u001b[0;34m\u001b[0m\u001b[0;34m\u001b[0m\u001b[0m\n",
      "\u001b[0;32m~/.virtualenvs/fcapy/lib/python3.8/site-packages/scipy/_lib/_util.py\u001b[0m in \u001b[0;36m_asarray_validated\u001b[0;34m(a, check_finite, sparse_ok, objects_ok, mask_ok, as_inexact)\u001b[0m\n\u001b[1;32m    270\u001b[0m             \u001b[0;32mraise\u001b[0m \u001b[0mValueError\u001b[0m\u001b[0;34m(\u001b[0m\u001b[0;34m'masked arrays are not supported'\u001b[0m\u001b[0;34m)\u001b[0m\u001b[0;34m\u001b[0m\u001b[0;34m\u001b[0m\u001b[0m\n\u001b[1;32m    271\u001b[0m     \u001b[0mtoarray\u001b[0m \u001b[0;34m=\u001b[0m \u001b[0mnp\u001b[0m\u001b[0;34m.\u001b[0m\u001b[0masarray_chkfinite\u001b[0m \u001b[0;32mif\u001b[0m \u001b[0mcheck_finite\u001b[0m \u001b[0;32melse\u001b[0m \u001b[0mnp\u001b[0m\u001b[0;34m.\u001b[0m\u001b[0masarray\u001b[0m\u001b[0;34m\u001b[0m\u001b[0;34m\u001b[0m\u001b[0m\n\u001b[0;32m--> 272\u001b[0;31m     \u001b[0ma\u001b[0m \u001b[0;34m=\u001b[0m \u001b[0mtoarray\u001b[0m\u001b[0;34m(\u001b[0m\u001b[0ma\u001b[0m\u001b[0;34m)\u001b[0m\u001b[0;34m\u001b[0m\u001b[0;34m\u001b[0m\u001b[0m\n\u001b[0m\u001b[1;32m    273\u001b[0m     \u001b[0;32mif\u001b[0m \u001b[0;32mnot\u001b[0m \u001b[0mobjects_ok\u001b[0m\u001b[0;34m:\u001b[0m\u001b[0;34m\u001b[0m\u001b[0;34m\u001b[0m\u001b[0m\n\u001b[1;32m    274\u001b[0m         \u001b[0;32mif\u001b[0m \u001b[0ma\u001b[0m\u001b[0;34m.\u001b[0m\u001b[0mdtype\u001b[0m \u001b[0;32mis\u001b[0m \u001b[0mnp\u001b[0m\u001b[0;34m.\u001b[0m\u001b[0mdtype\u001b[0m\u001b[0;34m(\u001b[0m\u001b[0;34m'O'\u001b[0m\u001b[0;34m)\u001b[0m\u001b[0;34m:\u001b[0m\u001b[0;34m\u001b[0m\u001b[0;34m\u001b[0m\u001b[0m\n",
      "\u001b[0;32m~/.virtualenvs/fcapy/lib/python3.8/site-packages/numpy/lib/function_base.py\u001b[0m in \u001b[0;36masarray_chkfinite\u001b[0;34m(a, dtype, order)\u001b[0m\n\u001b[1;32m    483\u001b[0m     \u001b[0ma\u001b[0m \u001b[0;34m=\u001b[0m \u001b[0masarray\u001b[0m\u001b[0;34m(\u001b[0m\u001b[0ma\u001b[0m\u001b[0;34m,\u001b[0m \u001b[0mdtype\u001b[0m\u001b[0;34m=\u001b[0m\u001b[0mdtype\u001b[0m\u001b[0;34m,\u001b[0m \u001b[0morder\u001b[0m\u001b[0;34m=\u001b[0m\u001b[0morder\u001b[0m\u001b[0;34m)\u001b[0m\u001b[0;34m\u001b[0m\u001b[0;34m\u001b[0m\u001b[0m\n\u001b[1;32m    484\u001b[0m     \u001b[0;32mif\u001b[0m \u001b[0ma\u001b[0m\u001b[0;34m.\u001b[0m\u001b[0mdtype\u001b[0m\u001b[0;34m.\u001b[0m\u001b[0mchar\u001b[0m \u001b[0;32min\u001b[0m \u001b[0mtypecodes\u001b[0m\u001b[0;34m[\u001b[0m\u001b[0;34m'AllFloat'\u001b[0m\u001b[0;34m]\u001b[0m \u001b[0;32mand\u001b[0m \u001b[0;32mnot\u001b[0m \u001b[0mnp\u001b[0m\u001b[0;34m.\u001b[0m\u001b[0misfinite\u001b[0m\u001b[0;34m(\u001b[0m\u001b[0ma\u001b[0m\u001b[0;34m)\u001b[0m\u001b[0;34m.\u001b[0m\u001b[0mall\u001b[0m\u001b[0;34m(\u001b[0m\u001b[0;34m)\u001b[0m\u001b[0;34m:\u001b[0m\u001b[0;34m\u001b[0m\u001b[0;34m\u001b[0m\u001b[0m\n\u001b[0;32m--> 485\u001b[0;31m         raise ValueError(\n\u001b[0m\u001b[1;32m    486\u001b[0m             \"array must not contain infs or NaNs\")\n\u001b[1;32m    487\u001b[0m     \u001b[0;32mreturn\u001b[0m \u001b[0ma\u001b[0m\u001b[0;34m\u001b[0m\u001b[0;34m\u001b[0m\u001b[0m\n",
      "\u001b[0;31mValueError\u001b[0m: array must not contain infs or NaNs"
     ]
    }
   ],
   "source": [
    "eigh(corr)"
   ]
  },
  {
   "cell_type": "code",
   "execution_count": 69,
   "metadata": {},
   "outputs": [],
   "source": [
    "fa = FactorAnalyzer(rotation=None)"
   ]
  },
  {
   "cell_type": "code",
   "execution_count": 71,
   "metadata": {},
   "outputs": [
    {
     "output_type": "stream",
     "name": "stderr",
     "text": [
      "/Users/tomasmikula/.virtualenvs/fcapy/lib/python3.8/site-packages/factor_analyzer/utils.py:91: RuntimeWarning:\n\ninvalid value encountered in true_divide\n\n"
     ]
    },
    {
     "output_type": "error",
     "ename": "ValueError",
     "evalue": "array must not contain infs or NaNs",
     "traceback": [
      "\u001b[0;31m---------------------------------------------------------------------------\u001b[0m",
      "\u001b[0;31mValueError\u001b[0m                                Traceback (most recent call last)",
      "\u001b[0;32m<ipython-input-71-e2b92cb87300>\u001b[0m in \u001b[0;36m<module>\u001b[0;34m\u001b[0m\n\u001b[0;32m----> 1\u001b[0;31m \u001b[0mfa\u001b[0m\u001b[0;34m.\u001b[0m\u001b[0mfit\u001b[0m\u001b[0;34m(\u001b[0m\u001b[0mtrain_X\u001b[0m\u001b[0;34m)\u001b[0m\u001b[0;34m\u001b[0m\u001b[0;34m\u001b[0m\u001b[0m\n\u001b[0m",
      "\u001b[0;32m~/.virtualenvs/fcapy/lib/python3.8/site-packages/factor_analyzer/factor_analyzer.py\u001b[0m in \u001b[0;36mfit\u001b[0;34m(self, X, y)\u001b[0m\n\u001b[1;32m    613\u001b[0m             \u001b[0mloadings\u001b[0m \u001b[0;34m=\u001b[0m \u001b[0mself\u001b[0m\u001b[0;34m.\u001b[0m\u001b[0m_fit_principal\u001b[0m\u001b[0;34m(\u001b[0m\u001b[0mX\u001b[0m\u001b[0;34m)\u001b[0m\u001b[0;34m\u001b[0m\u001b[0;34m\u001b[0m\u001b[0m\n\u001b[1;32m    614\u001b[0m         \u001b[0;32melse\u001b[0m\u001b[0;34m:\u001b[0m\u001b[0;34m\u001b[0m\u001b[0;34m\u001b[0m\u001b[0m\n\u001b[0;32m--> 615\u001b[0;31m             \u001b[0mloadings\u001b[0m \u001b[0;34m=\u001b[0m \u001b[0mself\u001b[0m\u001b[0;34m.\u001b[0m\u001b[0m_fit_factor_analysis\u001b[0m\u001b[0;34m(\u001b[0m\u001b[0mcorr_mtx\u001b[0m\u001b[0;34m)\u001b[0m\u001b[0;34m\u001b[0m\u001b[0;34m\u001b[0m\u001b[0m\n\u001b[0m\u001b[1;32m    616\u001b[0m \u001b[0;34m\u001b[0m\u001b[0m\n\u001b[1;32m    617\u001b[0m         \u001b[0;31m# only used if we do an oblique rotations;\u001b[0m\u001b[0;34m\u001b[0m\u001b[0;34m\u001b[0m\u001b[0;34m\u001b[0m\u001b[0m\n",
      "\u001b[0;32m~/.virtualenvs/fcapy/lib/python3.8/site-packages/factor_analyzer/factor_analyzer.py\u001b[0m in \u001b[0;36m_fit_factor_analysis\u001b[0;34m(self, corr_mtx)\u001b[0m\n\u001b[1;32m    526\u001b[0m \u001b[0;34m\u001b[0m\u001b[0m\n\u001b[1;32m    527\u001b[0m         \u001b[0;31m# use scipy to perform the actual minimization\u001b[0m\u001b[0;34m\u001b[0m\u001b[0;34m\u001b[0m\u001b[0;34m\u001b[0m\u001b[0m\n\u001b[0;32m--> 528\u001b[0;31m         res = minimize(objective,\n\u001b[0m\u001b[1;32m    529\u001b[0m                        \u001b[0mstart\u001b[0m\u001b[0;34m,\u001b[0m\u001b[0;34m\u001b[0m\u001b[0;34m\u001b[0m\u001b[0m\n\u001b[1;32m    530\u001b[0m                        \u001b[0mmethod\u001b[0m\u001b[0;34m=\u001b[0m\u001b[0;34m'L-BFGS-B'\u001b[0m\u001b[0;34m,\u001b[0m\u001b[0;34m\u001b[0m\u001b[0;34m\u001b[0m\u001b[0m\n",
      "\u001b[0;32m~/.virtualenvs/fcapy/lib/python3.8/site-packages/scipy/optimize/_minimize.py\u001b[0m in \u001b[0;36mminimize\u001b[0;34m(fun, x0, args, method, jac, hess, hessp, bounds, constraints, tol, callback, options)\u001b[0m\n\u001b[1;32m    615\u001b[0m                                   **options)\n\u001b[1;32m    616\u001b[0m     \u001b[0;32melif\u001b[0m \u001b[0mmeth\u001b[0m \u001b[0;34m==\u001b[0m \u001b[0;34m'l-bfgs-b'\u001b[0m\u001b[0;34m:\u001b[0m\u001b[0;34m\u001b[0m\u001b[0;34m\u001b[0m\u001b[0m\n\u001b[0;32m--> 617\u001b[0;31m         return _minimize_lbfgsb(fun, x0, args, jac, bounds,\n\u001b[0m\u001b[1;32m    618\u001b[0m                                 callback=callback, **options)\n\u001b[1;32m    619\u001b[0m     \u001b[0;32melif\u001b[0m \u001b[0mmeth\u001b[0m \u001b[0;34m==\u001b[0m \u001b[0;34m'tnc'\u001b[0m\u001b[0;34m:\u001b[0m\u001b[0;34m\u001b[0m\u001b[0;34m\u001b[0m\u001b[0m\n",
      "\u001b[0;32m~/.virtualenvs/fcapy/lib/python3.8/site-packages/scipy/optimize/lbfgsb.py\u001b[0m in \u001b[0;36m_minimize_lbfgsb\u001b[0;34m(fun, x0, args, jac, bounds, disp, maxcor, ftol, gtol, eps, maxfun, maxiter, iprint, callback, maxls, finite_diff_rel_step, **unknown_options)\u001b[0m\n\u001b[1;32m    304\u001b[0m             \u001b[0miprint\u001b[0m \u001b[0;34m=\u001b[0m \u001b[0mdisp\u001b[0m\u001b[0;34m\u001b[0m\u001b[0;34m\u001b[0m\u001b[0m\n\u001b[1;32m    305\u001b[0m \u001b[0;34m\u001b[0m\u001b[0m\n\u001b[0;32m--> 306\u001b[0;31m     sf = _prepare_scalar_function(fun, x0, jac=jac, args=args, epsilon=eps,\n\u001b[0m\u001b[1;32m    307\u001b[0m                                   \u001b[0mbounds\u001b[0m\u001b[0;34m=\u001b[0m\u001b[0mnew_bounds\u001b[0m\u001b[0;34m,\u001b[0m\u001b[0;34m\u001b[0m\u001b[0;34m\u001b[0m\u001b[0m\n\u001b[1;32m    308\u001b[0m                                   finite_diff_rel_step=finite_diff_rel_step)\n",
      "\u001b[0;32m~/.virtualenvs/fcapy/lib/python3.8/site-packages/scipy/optimize/optimize.py\u001b[0m in \u001b[0;36m_prepare_scalar_function\u001b[0;34m(fun, x0, jac, args, bounds, epsilon, finite_diff_rel_step, hess)\u001b[0m\n\u001b[1;32m    259\u001b[0m     \u001b[0;31m# ScalarFunction caches. Reuse of fun(x) during grad\u001b[0m\u001b[0;34m\u001b[0m\u001b[0;34m\u001b[0m\u001b[0;34m\u001b[0m\u001b[0m\n\u001b[1;32m    260\u001b[0m     \u001b[0;31m# calculation reduces overall function evaluations.\u001b[0m\u001b[0;34m\u001b[0m\u001b[0;34m\u001b[0m\u001b[0;34m\u001b[0m\u001b[0m\n\u001b[0;32m--> 261\u001b[0;31m     sf = ScalarFunction(fun, x0, args, grad, hess,\n\u001b[0m\u001b[1;32m    262\u001b[0m                         finite_diff_rel_step, bounds, epsilon=epsilon)\n\u001b[1;32m    263\u001b[0m \u001b[0;34m\u001b[0m\u001b[0m\n",
      "\u001b[0;32m~/.virtualenvs/fcapy/lib/python3.8/site-packages/scipy/optimize/_differentiable_functions.py\u001b[0m in \u001b[0;36m__init__\u001b[0;34m(self, fun, x0, args, grad, hess, finite_diff_rel_step, finite_diff_bounds, epsilon)\u001b[0m\n\u001b[1;32m     74\u001b[0m \u001b[0;34m\u001b[0m\u001b[0m\n\u001b[1;32m     75\u001b[0m         \u001b[0mself\u001b[0m\u001b[0;34m.\u001b[0m\u001b[0m_update_fun_impl\u001b[0m \u001b[0;34m=\u001b[0m \u001b[0mupdate_fun\u001b[0m\u001b[0;34m\u001b[0m\u001b[0;34m\u001b[0m\u001b[0m\n\u001b[0;32m---> 76\u001b[0;31m         \u001b[0mself\u001b[0m\u001b[0;34m.\u001b[0m\u001b[0m_update_fun\u001b[0m\u001b[0;34m(\u001b[0m\u001b[0;34m)\u001b[0m\u001b[0;34m\u001b[0m\u001b[0;34m\u001b[0m\u001b[0m\n\u001b[0m\u001b[1;32m     77\u001b[0m \u001b[0;34m\u001b[0m\u001b[0m\n\u001b[1;32m     78\u001b[0m         \u001b[0;31m# Gradient evaluation\u001b[0m\u001b[0;34m\u001b[0m\u001b[0;34m\u001b[0m\u001b[0;34m\u001b[0m\u001b[0m\n",
      "\u001b[0;32m~/.virtualenvs/fcapy/lib/python3.8/site-packages/scipy/optimize/_differentiable_functions.py\u001b[0m in \u001b[0;36m_update_fun\u001b[0;34m(self)\u001b[0m\n\u001b[1;32m    164\u001b[0m     \u001b[0;32mdef\u001b[0m \u001b[0m_update_fun\u001b[0m\u001b[0;34m(\u001b[0m\u001b[0mself\u001b[0m\u001b[0;34m)\u001b[0m\u001b[0;34m:\u001b[0m\u001b[0;34m\u001b[0m\u001b[0;34m\u001b[0m\u001b[0m\n\u001b[1;32m    165\u001b[0m         \u001b[0;32mif\u001b[0m \u001b[0;32mnot\u001b[0m \u001b[0mself\u001b[0m\u001b[0;34m.\u001b[0m\u001b[0mf_updated\u001b[0m\u001b[0;34m:\u001b[0m\u001b[0;34m\u001b[0m\u001b[0;34m\u001b[0m\u001b[0m\n\u001b[0;32m--> 166\u001b[0;31m             \u001b[0mself\u001b[0m\u001b[0;34m.\u001b[0m\u001b[0m_update_fun_impl\u001b[0m\u001b[0;34m(\u001b[0m\u001b[0;34m)\u001b[0m\u001b[0;34m\u001b[0m\u001b[0;34m\u001b[0m\u001b[0m\n\u001b[0m\u001b[1;32m    167\u001b[0m             \u001b[0mself\u001b[0m\u001b[0;34m.\u001b[0m\u001b[0mf_updated\u001b[0m \u001b[0;34m=\u001b[0m \u001b[0;32mTrue\u001b[0m\u001b[0;34m\u001b[0m\u001b[0;34m\u001b[0m\u001b[0m\n\u001b[1;32m    168\u001b[0m \u001b[0;34m\u001b[0m\u001b[0m\n",
      "\u001b[0;32m~/.virtualenvs/fcapy/lib/python3.8/site-packages/scipy/optimize/_differentiable_functions.py\u001b[0m in \u001b[0;36mupdate_fun\u001b[0;34m()\u001b[0m\n\u001b[1;32m     71\u001b[0m \u001b[0;34m\u001b[0m\u001b[0m\n\u001b[1;32m     72\u001b[0m         \u001b[0;32mdef\u001b[0m \u001b[0mupdate_fun\u001b[0m\u001b[0;34m(\u001b[0m\u001b[0;34m)\u001b[0m\u001b[0;34m:\u001b[0m\u001b[0;34m\u001b[0m\u001b[0;34m\u001b[0m\u001b[0m\n\u001b[0;32m---> 73\u001b[0;31m             \u001b[0mself\u001b[0m\u001b[0;34m.\u001b[0m\u001b[0mf\u001b[0m \u001b[0;34m=\u001b[0m \u001b[0mfun_wrapped\u001b[0m\u001b[0;34m(\u001b[0m\u001b[0mself\u001b[0m\u001b[0;34m.\u001b[0m\u001b[0mx\u001b[0m\u001b[0;34m)\u001b[0m\u001b[0;34m\u001b[0m\u001b[0;34m\u001b[0m\u001b[0m\n\u001b[0m\u001b[1;32m     74\u001b[0m \u001b[0;34m\u001b[0m\u001b[0m\n\u001b[1;32m     75\u001b[0m         \u001b[0mself\u001b[0m\u001b[0;34m.\u001b[0m\u001b[0m_update_fun_impl\u001b[0m \u001b[0;34m=\u001b[0m \u001b[0mupdate_fun\u001b[0m\u001b[0;34m\u001b[0m\u001b[0;34m\u001b[0m\u001b[0m\n",
      "\u001b[0;32m~/.virtualenvs/fcapy/lib/python3.8/site-packages/scipy/optimize/_differentiable_functions.py\u001b[0m in \u001b[0;36mfun_wrapped\u001b[0;34m(x)\u001b[0m\n\u001b[1;32m     68\u001b[0m         \u001b[0;32mdef\u001b[0m \u001b[0mfun_wrapped\u001b[0m\u001b[0;34m(\u001b[0m\u001b[0mx\u001b[0m\u001b[0;34m)\u001b[0m\u001b[0;34m:\u001b[0m\u001b[0;34m\u001b[0m\u001b[0;34m\u001b[0m\u001b[0m\n\u001b[1;32m     69\u001b[0m             \u001b[0mself\u001b[0m\u001b[0;34m.\u001b[0m\u001b[0mnfev\u001b[0m \u001b[0;34m+=\u001b[0m \u001b[0;36m1\u001b[0m\u001b[0;34m\u001b[0m\u001b[0;34m\u001b[0m\u001b[0m\n\u001b[0;32m---> 70\u001b[0;31m             \u001b[0;32mreturn\u001b[0m \u001b[0mfun\u001b[0m\u001b[0;34m(\u001b[0m\u001b[0mx\u001b[0m\u001b[0;34m,\u001b[0m \u001b[0;34m*\u001b[0m\u001b[0margs\u001b[0m\u001b[0;34m)\u001b[0m\u001b[0;34m\u001b[0m\u001b[0;34m\u001b[0m\u001b[0m\n\u001b[0m\u001b[1;32m     71\u001b[0m \u001b[0;34m\u001b[0m\u001b[0m\n\u001b[1;32m     72\u001b[0m         \u001b[0;32mdef\u001b[0m \u001b[0mupdate_fun\u001b[0m\u001b[0;34m(\u001b[0m\u001b[0;34m)\u001b[0m\u001b[0;34m:\u001b[0m\u001b[0;34m\u001b[0m\u001b[0;34m\u001b[0m\u001b[0m\n",
      "\u001b[0;32m~/.virtualenvs/fcapy/lib/python3.8/site-packages/factor_analyzer/factor_analyzer.py\u001b[0m in \u001b[0;36m_fit_uls_objective\u001b[0;34m(psi, corr_mtx, n_factors)\u001b[0m\n\u001b[1;32m    313\u001b[0m \u001b[0;34m\u001b[0m\u001b[0m\n\u001b[1;32m    314\u001b[0m         \u001b[0;31m# get the eigen values and vectors for n_factors\u001b[0m\u001b[0;34m\u001b[0m\u001b[0;34m\u001b[0m\u001b[0;34m\u001b[0m\u001b[0m\n\u001b[0;32m--> 315\u001b[0;31m         \u001b[0mvalues\u001b[0m\u001b[0;34m,\u001b[0m \u001b[0mvectors\u001b[0m \u001b[0;34m=\u001b[0m \u001b[0msp\u001b[0m\u001b[0;34m.\u001b[0m\u001b[0mlinalg\u001b[0m\u001b[0;34m.\u001b[0m\u001b[0meigh\u001b[0m\u001b[0;34m(\u001b[0m\u001b[0mcorr_mtx\u001b[0m\u001b[0;34m)\u001b[0m\u001b[0;34m\u001b[0m\u001b[0;34m\u001b[0m\u001b[0m\n\u001b[0m\u001b[1;32m    316\u001b[0m         \u001b[0mvalues\u001b[0m \u001b[0;34m=\u001b[0m \u001b[0mvalues\u001b[0m\u001b[0;34m[\u001b[0m\u001b[0;34m:\u001b[0m\u001b[0;34m:\u001b[0m\u001b[0;34m-\u001b[0m\u001b[0;36m1\u001b[0m\u001b[0;34m]\u001b[0m\u001b[0;34m\u001b[0m\u001b[0;34m\u001b[0m\u001b[0m\n\u001b[1;32m    317\u001b[0m \u001b[0;34m\u001b[0m\u001b[0m\n",
      "\u001b[0;32m~/.virtualenvs/fcapy/lib/python3.8/site-packages/scipy/linalg/decomp.py\u001b[0m in \u001b[0;36meigh\u001b[0;34m(a, b, lower, eigvals_only, overwrite_a, overwrite_b, turbo, eigvals, type, check_finite, subset_by_index, subset_by_value, driver)\u001b[0m\n\u001b[1;32m    443\u001b[0m                          ''.format(driver, '\", \"'.join(drv_str[1:])))\n\u001b[1;32m    444\u001b[0m \u001b[0;34m\u001b[0m\u001b[0m\n\u001b[0;32m--> 445\u001b[0;31m     \u001b[0ma1\u001b[0m \u001b[0;34m=\u001b[0m \u001b[0m_asarray_validated\u001b[0m\u001b[0;34m(\u001b[0m\u001b[0ma\u001b[0m\u001b[0;34m,\u001b[0m \u001b[0mcheck_finite\u001b[0m\u001b[0;34m=\u001b[0m\u001b[0mcheck_finite\u001b[0m\u001b[0;34m)\u001b[0m\u001b[0;34m\u001b[0m\u001b[0;34m\u001b[0m\u001b[0m\n\u001b[0m\u001b[1;32m    446\u001b[0m     \u001b[0;32mif\u001b[0m \u001b[0mlen\u001b[0m\u001b[0;34m(\u001b[0m\u001b[0ma1\u001b[0m\u001b[0;34m.\u001b[0m\u001b[0mshape\u001b[0m\u001b[0;34m)\u001b[0m \u001b[0;34m!=\u001b[0m \u001b[0;36m2\u001b[0m \u001b[0;32mor\u001b[0m \u001b[0ma1\u001b[0m\u001b[0;34m.\u001b[0m\u001b[0mshape\u001b[0m\u001b[0;34m[\u001b[0m\u001b[0;36m0\u001b[0m\u001b[0;34m]\u001b[0m \u001b[0;34m!=\u001b[0m \u001b[0ma1\u001b[0m\u001b[0;34m.\u001b[0m\u001b[0mshape\u001b[0m\u001b[0;34m[\u001b[0m\u001b[0;36m1\u001b[0m\u001b[0;34m]\u001b[0m\u001b[0;34m:\u001b[0m\u001b[0;34m\u001b[0m\u001b[0;34m\u001b[0m\u001b[0m\n\u001b[1;32m    447\u001b[0m         \u001b[0;32mraise\u001b[0m \u001b[0mValueError\u001b[0m\u001b[0;34m(\u001b[0m\u001b[0;34m'expected square \"a\" matrix'\u001b[0m\u001b[0;34m)\u001b[0m\u001b[0;34m\u001b[0m\u001b[0;34m\u001b[0m\u001b[0m\n",
      "\u001b[0;32m~/.virtualenvs/fcapy/lib/python3.8/site-packages/scipy/_lib/_util.py\u001b[0m in \u001b[0;36m_asarray_validated\u001b[0;34m(a, check_finite, sparse_ok, objects_ok, mask_ok, as_inexact)\u001b[0m\n\u001b[1;32m    270\u001b[0m             \u001b[0;32mraise\u001b[0m \u001b[0mValueError\u001b[0m\u001b[0;34m(\u001b[0m\u001b[0;34m'masked arrays are not supported'\u001b[0m\u001b[0;34m)\u001b[0m\u001b[0;34m\u001b[0m\u001b[0;34m\u001b[0m\u001b[0m\n\u001b[1;32m    271\u001b[0m     \u001b[0mtoarray\u001b[0m \u001b[0;34m=\u001b[0m \u001b[0mnp\u001b[0m\u001b[0;34m.\u001b[0m\u001b[0masarray_chkfinite\u001b[0m \u001b[0;32mif\u001b[0m \u001b[0mcheck_finite\u001b[0m \u001b[0;32melse\u001b[0m \u001b[0mnp\u001b[0m\u001b[0;34m.\u001b[0m\u001b[0masarray\u001b[0m\u001b[0;34m\u001b[0m\u001b[0;34m\u001b[0m\u001b[0m\n\u001b[0;32m--> 272\u001b[0;31m     \u001b[0ma\u001b[0m \u001b[0;34m=\u001b[0m \u001b[0mtoarray\u001b[0m\u001b[0;34m(\u001b[0m\u001b[0ma\u001b[0m\u001b[0;34m)\u001b[0m\u001b[0;34m\u001b[0m\u001b[0;34m\u001b[0m\u001b[0m\n\u001b[0m\u001b[1;32m    273\u001b[0m     \u001b[0;32mif\u001b[0m \u001b[0;32mnot\u001b[0m \u001b[0mobjects_ok\u001b[0m\u001b[0;34m:\u001b[0m\u001b[0;34m\u001b[0m\u001b[0;34m\u001b[0m\u001b[0m\n\u001b[1;32m    274\u001b[0m         \u001b[0;32mif\u001b[0m \u001b[0ma\u001b[0m\u001b[0;34m.\u001b[0m\u001b[0mdtype\u001b[0m \u001b[0;32mis\u001b[0m \u001b[0mnp\u001b[0m\u001b[0;34m.\u001b[0m\u001b[0mdtype\u001b[0m\u001b[0;34m(\u001b[0m\u001b[0;34m'O'\u001b[0m\u001b[0;34m)\u001b[0m\u001b[0;34m:\u001b[0m\u001b[0;34m\u001b[0m\u001b[0;34m\u001b[0m\u001b[0m\n",
      "\u001b[0;32m~/.virtualenvs/fcapy/lib/python3.8/site-packages/numpy/lib/function_base.py\u001b[0m in \u001b[0;36masarray_chkfinite\u001b[0;34m(a, dtype, order)\u001b[0m\n\u001b[1;32m    483\u001b[0m     \u001b[0ma\u001b[0m \u001b[0;34m=\u001b[0m \u001b[0masarray\u001b[0m\u001b[0;34m(\u001b[0m\u001b[0ma\u001b[0m\u001b[0;34m,\u001b[0m \u001b[0mdtype\u001b[0m\u001b[0;34m=\u001b[0m\u001b[0mdtype\u001b[0m\u001b[0;34m,\u001b[0m \u001b[0morder\u001b[0m\u001b[0;34m=\u001b[0m\u001b[0morder\u001b[0m\u001b[0;34m)\u001b[0m\u001b[0;34m\u001b[0m\u001b[0;34m\u001b[0m\u001b[0m\n\u001b[1;32m    484\u001b[0m     \u001b[0;32mif\u001b[0m \u001b[0ma\u001b[0m\u001b[0;34m.\u001b[0m\u001b[0mdtype\u001b[0m\u001b[0;34m.\u001b[0m\u001b[0mchar\u001b[0m \u001b[0;32min\u001b[0m \u001b[0mtypecodes\u001b[0m\u001b[0;34m[\u001b[0m\u001b[0;34m'AllFloat'\u001b[0m\u001b[0;34m]\u001b[0m \u001b[0;32mand\u001b[0m \u001b[0;32mnot\u001b[0m \u001b[0mnp\u001b[0m\u001b[0;34m.\u001b[0m\u001b[0misfinite\u001b[0m\u001b[0;34m(\u001b[0m\u001b[0ma\u001b[0m\u001b[0;34m)\u001b[0m\u001b[0;34m.\u001b[0m\u001b[0mall\u001b[0m\u001b[0;34m(\u001b[0m\u001b[0;34m)\u001b[0m\u001b[0;34m:\u001b[0m\u001b[0;34m\u001b[0m\u001b[0;34m\u001b[0m\u001b[0m\n\u001b[0;32m--> 485\u001b[0;31m         raise ValueError(\n\u001b[0m\u001b[1;32m    486\u001b[0m             \"array must not contain infs or NaNs\")\n\u001b[1;32m    487\u001b[0m     \u001b[0;32mreturn\u001b[0m \u001b[0ma\u001b[0m\u001b[0;34m\u001b[0m\u001b[0;34m\u001b[0m\u001b[0m\n",
      "\u001b[0;31mValueError\u001b[0m: array must not contain infs or NaNs"
     ]
    }
   ],
   "source": [
    "fa.fit(train_X)"
   ]
  },
  {
   "cell_type": "code",
   "execution_count": null,
   "metadata": {},
   "outputs": [],
   "source": []
  }
 ]
}