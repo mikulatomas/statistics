{
 "metadata": {
  "language_info": {
   "codemirror_mode": {
    "name": "ipython",
    "version": 3
   },
   "file_extension": ".py",
   "mimetype": "text/x-python",
   "name": "python",
   "nbconvert_exporter": "python",
   "pygments_lexer": "ipython3",
   "version": "3.8.9"
  },
  "orig_nbformat": 2,
  "kernelspec": {
   "name": "python3",
   "display_name": "Python 3.8.9 64-bit ('fcapy': virtualenvwrapper)"
  },
  "interpreter": {
   "hash": "082a18f759f8afdec9b7eec773590a36e4c3be1cd97bea91855dea5176a8175a"
  }
 },
 "nbformat": 4,
 "nbformat_minor": 2,
 "cells": [
  {
   "cell_type": "code",
   "execution_count": 1,
   "metadata": {},
   "outputs": [],
   "source": [
    "from datasets import titanic_data\n",
    "import pandas as pd"
   ]
  },
  {
   "cell_type": "code",
   "execution_count": 2,
   "metadata": {},
   "outputs": [],
   "source": [
    "original_X, original_y, train_X, train_y, test_X, test_y = titanic_data()"
   ]
  },
  {
   "cell_type": "code",
   "execution_count": null,
   "metadata": {},
   "outputs": [],
   "source": [
    "# target - 1 = survived, 0 = died\n",
    "# pclass - ticket class (1,2,3)\n",
    "# sex - male/female\n",
    "# age\n",
    "# sibsp - number of siblings aboard\n",
    "# parch - number of parents aboard\n",
    "# fare - passenger fare (jizdne)\n",
    "# embarked - C = Cherbourg, Q = Queenstown, S = Southampton"
   ]
  },
  {
   "cell_type": "code",
   "execution_count": 5,
   "metadata": {},
   "outputs": [
    {
     "output_type": "execute_result",
     "data": {
      "text/plain": [
       "'survived: 342 died: 549'"
      ]
     },
     "metadata": {},
     "execution_count": 5
    }
   ],
   "source": [
    "f\"survived: {original_y[original_y == 1].count()} died: {original_y[original_y == 0].count()}\""
   ]
  }
 ]
}