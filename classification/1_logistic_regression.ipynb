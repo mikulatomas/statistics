{
 "metadata": {
  "language_info": {
   "codemirror_mode": {
    "name": "ipython",
    "version": 3
   },
   "file_extension": ".py",
   "mimetype": "text/x-python",
   "name": "python",
   "nbconvert_exporter": "python",
   "pygments_lexer": "ipython3",
   "version": "3.8.9"
  },
  "orig_nbformat": 2,
  "kernelspec": {
   "name": "python389jvsc74a57bd0082a18f759f8afdec9b7eec773590a36e4c3be1cd97bea91855dea5176a8175a",
   "display_name": "Python 3.8.9 64-bit ('fcapy': virtualenvwrapper)"
  }
 },
 "nbformat": 4,
 "nbformat_minor": 2,
 "cells": [
  {
   "cell_type": "code",
   "execution_count": 3,
   "metadata": {},
   "outputs": [],
   "source": [
    "from datasets import load_titanic, balance_classes\n",
    "from tools import model_performance, confusion_matrix\n",
    "import pandas as pd\n",
    "import numpy as np\n",
    "from sklearn.metrics import plot_roc_curve\n",
    "from sklearn.linear_model import LogisticRegression\n",
    "from sklearn.preprocessing import OneHotEncoder, StandardScaler\n",
    "import plotly.express as px\n",
    "\n",
    "from sklearn.metrics import classification_report, plot_roc_curve\n",
    "from sklearn.model_selection import cross_val_score"
   ]
  },
  {
   "cell_type": "code",
   "execution_count": 4,
   "metadata": {},
   "outputs": [
    {
     "output_type": "execute_result",
     "data": {
      "text/plain": [
       "Index(['pclass', 'sex', 'age', 'sibsp', 'parch', 'fare', 'embarked', 'target'], dtype='object')"
      ]
     },
     "metadata": {},
     "execution_count": 4
    }
   ],
   "source": [
    "df, df_train, df_test = load_titanic()\n",
    "df_train.columns"
   ]
  },
  {
   "cell_type": "code",
   "execution_count": 5,
   "metadata": {},
   "outputs": [
    {
     "output_type": "execute_result",
     "data": {
      "text/plain": [
       "(712, 8)"
      ]
     },
     "metadata": {},
     "execution_count": 5
    }
   ],
   "source": [
    "df_train.shape"
   ]
  },
  {
   "cell_type": "code",
   "execution_count": 6,
   "metadata": {},
   "outputs": [],
   "source": [
    "original_X = df.drop(['target'], axis=1)\n",
    "original_y = df['target']\n",
    "train_X = df_train.drop(['target'], axis=1)\n",
    "train_y = df_train['target']\n",
    "test_X = df_test.drop(['target'], axis=1)\n",
    "test_y = df_test['target']"
   ]
  },
  {
   "cell_type": "code",
   "execution_count": 7,
   "metadata": {},
   "outputs": [],
   "source": [
    "original_X = pd.get_dummies(original_X)\n",
    "train_X = pd.get_dummies(train_X)\n",
    "test_X = pd.get_dummies(test_X)\n",
    "\n",
    "features = train_X.columns"
   ]
  },
  {
   "cell_type": "code",
   "execution_count": 8,
   "metadata": {},
   "outputs": [
    {
     "output_type": "execute_result",
     "data": {
      "text/plain": [
       "Index(['pclass', 'age', 'sibsp', 'parch', 'fare', 'sex_female', 'sex_male',\n",
       "       'embarked_C', 'embarked_Q', 'embarked_S'],\n",
       "      dtype='object')"
      ]
     },
     "metadata": {},
     "execution_count": 8
    }
   ],
   "source": [
    "features"
   ]
  },
  {
   "cell_type": "code",
   "execution_count": 9,
   "metadata": {},
   "outputs": [],
   "source": [
    "# kvuli konvergenci\n",
    "scaler = StandardScaler().fit(train_X)\n",
    "original_X = scaler.transform(original_X)\n",
    "train_X = scaler.transform(train_X)\n",
    "test_X = scaler.transform(test_X)\n",
    "\n",
    "original_X = pd.DataFrame(original_X, columns=features)\n",
    "train_X = pd.DataFrame(train_X, columns=features)\n",
    "test_X = pd.DataFrame(test_X, columns=features)"
   ]
  },
  {
   "source": [
    "## Simple Logistic Regression"
   ],
   "cell_type": "markdown",
   "metadata": {}
  },
  {
   "cell_type": "code",
   "execution_count": 10,
   "metadata": {},
   "outputs": [],
   "source": [
    "subset_features = ['fare']\n",
    "original_X_subset = np.reshape(original_X[subset_features].values, (-1,len(subset_features)))\n",
    "train_X_subset = np.reshape(train_X[subset_features].values, (-1,len(subset_features)))\n",
    "test_X_subset = np.reshape(test_X[subset_features].values, (-1,len(subset_features)))"
   ]
  },
  {
   "cell_type": "code",
   "execution_count": 11,
   "metadata": {},
   "outputs": [],
   "source": [
    "model = LogisticRegression(penalty='none')"
   ]
  },
  {
   "cell_type": "code",
   "execution_count": 12,
   "metadata": {
    "tags": []
   },
   "outputs": [
    {
     "output_type": "execute_result",
     "data": {
      "text/plain": [
       "0.6645031699202812"
      ]
     },
     "metadata": {},
     "execution_count": 12
    }
   ],
   "source": [
    "# stratified (balanced), 5-fold\n",
    "cross_val_score(model, original_X_subset, original_y).mean()"
   ]
  },
  {
   "cell_type": "code",
   "execution_count": 13,
   "metadata": {},
   "outputs": [],
   "source": [
    "model = model.fit(train_X_subset, train_y)"
   ]
  },
  {
   "cell_type": "code",
   "execution_count": 14,
   "metadata": {},
   "outputs": [
    {
     "output_type": "stream",
     "name": "stdout",
     "text": [
      "Train score\n0.6530898876404494\nTest score\n0.7039106145251397\n"
     ]
    }
   ],
   "source": [
    "model_performance(model, train_X_subset, train_y, test_X_subset, test_y)"
   ]
  },
  {
   "cell_type": "code",
   "execution_count": 15,
   "metadata": {},
   "outputs": [
    {
     "output_type": "stream",
     "name": "stdout",
     "text": [
      "Train\nTN: 409, TP: 56, FN: 217, FP: 30\nTest\nTN: 104, TP: 22, FN: 47, FP: 6\n"
     ]
    }
   ],
   "source": [
    "confusion_matrix(model.predict(train_X_subset), train_y, model.predict(test_X_subset), test_y)"
   ]
  },
  {
   "cell_type": "code",
   "execution_count": 16,
   "metadata": {},
   "outputs": [
    {
     "output_type": "execute_result",
     "data": {
      "text/plain": [
       "<sklearn.metrics._plot.roc_curve.RocCurveDisplay at 0x104b3edf0>"
      ]
     },
     "metadata": {},
     "execution_count": 16
    },
    {
     "output_type": "display_data",
     "data": {
      "text/plain": "<Figure size 432x288 with 1 Axes>",
      "image/svg+xml": "<?xml version=\"1.0\" encoding=\"utf-8\" standalone=\"no\"?>\n<!DOCTYPE svg PUBLIC \"-//W3C//DTD SVG 1.1//EN\"\n  \"http://www.w3.org/Graphics/SVG/1.1/DTD/svg11.dtd\">\n<!-- Created with matplotlib (https://matplotlib.org/) -->\n<svg height=\"262.19625pt\" version=\"1.1\" viewBox=\"0 0 385.78125 262.19625\" width=\"385.78125pt\" xmlns=\"http://www.w3.org/2000/svg\" xmlns:xlink=\"http://www.w3.org/1999/xlink\">\n <metadata>\n  <rdf:RDF xmlns:cc=\"http://creativecommons.org/ns#\" xmlns:dc=\"http://purl.org/dc/elements/1.1/\" xmlns:rdf=\"http://www.w3.org/1999/02/22-rdf-syntax-ns#\">\n   <cc:Work>\n    <dc:type rdf:resource=\"http://purl.org/dc/dcmitype/StillImage\"/>\n    <dc:date>2021-06-07T11:13:20.300610</dc:date>\n    <dc:format>image/svg+xml</dc:format>\n    <dc:creator>\n     <cc:Agent>\n      <dc:title>Matplotlib v3.3.4, https://matplotlib.org/</dc:title>\n     </cc:Agent>\n    </dc:creator>\n   </cc:Work>\n  </rdf:RDF>\n </metadata>\n <defs>\n  <style type=\"text/css\">*{stroke-linecap:butt;stroke-linejoin:round;}</style>\n </defs>\n <g id=\"figure_1\">\n  <g id=\"patch_1\">\n   <path d=\"M 0 262.19625 \nL 385.78125 262.19625 \nL 385.78125 0 \nL 0 0 \nz\n\" style=\"fill:none;\"/>\n  </g>\n  <g id=\"axes_1\">\n   <g id=\"patch_2\">\n    <path d=\"M 43.78125 224.64 \nL 378.58125 224.64 \nL 378.58125 7.2 \nL 43.78125 7.2 \nz\n\" style=\"fill:#ffffff;\"/>\n   </g>\n   <g id=\"matplotlib.axis_1\">\n    <g id=\"xtick_1\">\n     <g id=\"line2d_1\">\n      <defs>\n       <path d=\"M 0 0 \nL 0 3.5 \n\" id=\"me9db0e98b6\" style=\"stroke:#000000;stroke-width:0.8;\"/>\n      </defs>\n      <g>\n       <use style=\"stroke:#000000;stroke-width:0.8;\" x=\"58.999432\" xlink:href=\"#me9db0e98b6\" y=\"224.64\"/>\n      </g>\n     </g>\n     <g id=\"text_1\">\n      <!-- 0.0 -->\n      <g transform=\"translate(51.047869 239.238437)scale(0.1 -0.1)\">\n       <defs>\n        <path d=\"M 31.78125 66.40625 \nQ 24.171875 66.40625 20.328125 58.90625 \nQ 16.5 51.421875 16.5 36.375 \nQ 16.5 21.390625 20.328125 13.890625 \nQ 24.171875 6.390625 31.78125 6.390625 \nQ 39.453125 6.390625 43.28125 13.890625 \nQ 47.125 21.390625 47.125 36.375 \nQ 47.125 51.421875 43.28125 58.90625 \nQ 39.453125 66.40625 31.78125 66.40625 \nz\nM 31.78125 74.21875 \nQ 44.046875 74.21875 50.515625 64.515625 \nQ 56.984375 54.828125 56.984375 36.375 \nQ 56.984375 17.96875 50.515625 8.265625 \nQ 44.046875 -1.421875 31.78125 -1.421875 \nQ 19.53125 -1.421875 13.0625 8.265625 \nQ 6.59375 17.96875 6.59375 36.375 \nQ 6.59375 54.828125 13.0625 64.515625 \nQ 19.53125 74.21875 31.78125 74.21875 \nz\n\" id=\"DejaVuSans-48\"/>\n        <path d=\"M 10.6875 12.40625 \nL 21 12.40625 \nL 21 0 \nL 10.6875 0 \nz\n\" id=\"DejaVuSans-46\"/>\n       </defs>\n       <use xlink:href=\"#DejaVuSans-48\"/>\n       <use x=\"63.623047\" xlink:href=\"#DejaVuSans-46\"/>\n       <use x=\"95.410156\" xlink:href=\"#DejaVuSans-48\"/>\n      </g>\n     </g>\n    </g>\n    <g id=\"xtick_2\">\n     <g id=\"line2d_2\">\n      <g>\n       <use style=\"stroke:#000000;stroke-width:0.8;\" x=\"119.872159\" xlink:href=\"#me9db0e98b6\" y=\"224.64\"/>\n      </g>\n     </g>\n     <g id=\"text_2\">\n      <!-- 0.2 -->\n      <g transform=\"translate(111.920597 239.238437)scale(0.1 -0.1)\">\n       <defs>\n        <path d=\"M 19.1875 8.296875 \nL 53.609375 8.296875 \nL 53.609375 0 \nL 7.328125 0 \nL 7.328125 8.296875 \nQ 12.9375 14.109375 22.625 23.890625 \nQ 32.328125 33.6875 34.8125 36.53125 \nQ 39.546875 41.84375 41.421875 45.53125 \nQ 43.3125 49.21875 43.3125 52.78125 \nQ 43.3125 58.59375 39.234375 62.25 \nQ 35.15625 65.921875 28.609375 65.921875 \nQ 23.96875 65.921875 18.8125 64.3125 \nQ 13.671875 62.703125 7.8125 59.421875 \nL 7.8125 69.390625 \nQ 13.765625 71.78125 18.9375 73 \nQ 24.125 74.21875 28.421875 74.21875 \nQ 39.75 74.21875 46.484375 68.546875 \nQ 53.21875 62.890625 53.21875 53.421875 \nQ 53.21875 48.921875 51.53125 44.890625 \nQ 49.859375 40.875 45.40625 35.40625 \nQ 44.1875 33.984375 37.640625 27.21875 \nQ 31.109375 20.453125 19.1875 8.296875 \nz\n\" id=\"DejaVuSans-50\"/>\n       </defs>\n       <use xlink:href=\"#DejaVuSans-48\"/>\n       <use x=\"63.623047\" xlink:href=\"#DejaVuSans-46\"/>\n       <use x=\"95.410156\" xlink:href=\"#DejaVuSans-50\"/>\n      </g>\n     </g>\n    </g>\n    <g id=\"xtick_3\">\n     <g id=\"line2d_3\">\n      <g>\n       <use style=\"stroke:#000000;stroke-width:0.8;\" x=\"180.744886\" xlink:href=\"#me9db0e98b6\" y=\"224.64\"/>\n      </g>\n     </g>\n     <g id=\"text_3\">\n      <!-- 0.4 -->\n      <g transform=\"translate(172.793324 239.238437)scale(0.1 -0.1)\">\n       <defs>\n        <path d=\"M 37.796875 64.3125 \nL 12.890625 25.390625 \nL 37.796875 25.390625 \nz\nM 35.203125 72.90625 \nL 47.609375 72.90625 \nL 47.609375 25.390625 \nL 58.015625 25.390625 \nL 58.015625 17.1875 \nL 47.609375 17.1875 \nL 47.609375 0 \nL 37.796875 0 \nL 37.796875 17.1875 \nL 4.890625 17.1875 \nL 4.890625 26.703125 \nz\n\" id=\"DejaVuSans-52\"/>\n       </defs>\n       <use xlink:href=\"#DejaVuSans-48\"/>\n       <use x=\"63.623047\" xlink:href=\"#DejaVuSans-46\"/>\n       <use x=\"95.410156\" xlink:href=\"#DejaVuSans-52\"/>\n      </g>\n     </g>\n    </g>\n    <g id=\"xtick_4\">\n     <g id=\"line2d_4\">\n      <g>\n       <use style=\"stroke:#000000;stroke-width:0.8;\" x=\"241.617614\" xlink:href=\"#me9db0e98b6\" y=\"224.64\"/>\n      </g>\n     </g>\n     <g id=\"text_4\">\n      <!-- 0.6 -->\n      <g transform=\"translate(233.666051 239.238437)scale(0.1 -0.1)\">\n       <defs>\n        <path d=\"M 33.015625 40.375 \nQ 26.375 40.375 22.484375 35.828125 \nQ 18.609375 31.296875 18.609375 23.390625 \nQ 18.609375 15.53125 22.484375 10.953125 \nQ 26.375 6.390625 33.015625 6.390625 \nQ 39.65625 6.390625 43.53125 10.953125 \nQ 47.40625 15.53125 47.40625 23.390625 \nQ 47.40625 31.296875 43.53125 35.828125 \nQ 39.65625 40.375 33.015625 40.375 \nz\nM 52.59375 71.296875 \nL 52.59375 62.3125 \nQ 48.875 64.0625 45.09375 64.984375 \nQ 41.3125 65.921875 37.59375 65.921875 \nQ 27.828125 65.921875 22.671875 59.328125 \nQ 17.53125 52.734375 16.796875 39.40625 \nQ 19.671875 43.65625 24.015625 45.921875 \nQ 28.375 48.1875 33.59375 48.1875 \nQ 44.578125 48.1875 50.953125 41.515625 \nQ 57.328125 34.859375 57.328125 23.390625 \nQ 57.328125 12.15625 50.6875 5.359375 \nQ 44.046875 -1.421875 33.015625 -1.421875 \nQ 20.359375 -1.421875 13.671875 8.265625 \nQ 6.984375 17.96875 6.984375 36.375 \nQ 6.984375 53.65625 15.1875 63.9375 \nQ 23.390625 74.21875 37.203125 74.21875 \nQ 40.921875 74.21875 44.703125 73.484375 \nQ 48.484375 72.75 52.59375 71.296875 \nz\n\" id=\"DejaVuSans-54\"/>\n       </defs>\n       <use xlink:href=\"#DejaVuSans-48\"/>\n       <use x=\"63.623047\" xlink:href=\"#DejaVuSans-46\"/>\n       <use x=\"95.410156\" xlink:href=\"#DejaVuSans-54\"/>\n      </g>\n     </g>\n    </g>\n    <g id=\"xtick_5\">\n     <g id=\"line2d_5\">\n      <g>\n       <use style=\"stroke:#000000;stroke-width:0.8;\" x=\"302.490341\" xlink:href=\"#me9db0e98b6\" y=\"224.64\"/>\n      </g>\n     </g>\n     <g id=\"text_5\">\n      <!-- 0.8 -->\n      <g transform=\"translate(294.538778 239.238437)scale(0.1 -0.1)\">\n       <defs>\n        <path d=\"M 31.78125 34.625 \nQ 24.75 34.625 20.71875 30.859375 \nQ 16.703125 27.09375 16.703125 20.515625 \nQ 16.703125 13.921875 20.71875 10.15625 \nQ 24.75 6.390625 31.78125 6.390625 \nQ 38.8125 6.390625 42.859375 10.171875 \nQ 46.921875 13.96875 46.921875 20.515625 \nQ 46.921875 27.09375 42.890625 30.859375 \nQ 38.875 34.625 31.78125 34.625 \nz\nM 21.921875 38.8125 \nQ 15.578125 40.375 12.03125 44.71875 \nQ 8.5 49.078125 8.5 55.328125 \nQ 8.5 64.0625 14.71875 69.140625 \nQ 20.953125 74.21875 31.78125 74.21875 \nQ 42.671875 74.21875 48.875 69.140625 \nQ 55.078125 64.0625 55.078125 55.328125 \nQ 55.078125 49.078125 51.53125 44.71875 \nQ 48 40.375 41.703125 38.8125 \nQ 48.828125 37.15625 52.796875 32.3125 \nQ 56.78125 27.484375 56.78125 20.515625 \nQ 56.78125 9.90625 50.3125 4.234375 \nQ 43.84375 -1.421875 31.78125 -1.421875 \nQ 19.734375 -1.421875 13.25 4.234375 \nQ 6.78125 9.90625 6.78125 20.515625 \nQ 6.78125 27.484375 10.78125 32.3125 \nQ 14.796875 37.15625 21.921875 38.8125 \nz\nM 18.3125 54.390625 \nQ 18.3125 48.734375 21.84375 45.5625 \nQ 25.390625 42.390625 31.78125 42.390625 \nQ 38.140625 42.390625 41.71875 45.5625 \nQ 45.3125 48.734375 45.3125 54.390625 \nQ 45.3125 60.0625 41.71875 63.234375 \nQ 38.140625 66.40625 31.78125 66.40625 \nQ 25.390625 66.40625 21.84375 63.234375 \nQ 18.3125 60.0625 18.3125 54.390625 \nz\n\" id=\"DejaVuSans-56\"/>\n       </defs>\n       <use xlink:href=\"#DejaVuSans-48\"/>\n       <use x=\"63.623047\" xlink:href=\"#DejaVuSans-46\"/>\n       <use x=\"95.410156\" xlink:href=\"#DejaVuSans-56\"/>\n      </g>\n     </g>\n    </g>\n    <g id=\"xtick_6\">\n     <g id=\"line2d_6\">\n      <g>\n       <use style=\"stroke:#000000;stroke-width:0.8;\" x=\"363.363068\" xlink:href=\"#me9db0e98b6\" y=\"224.64\"/>\n      </g>\n     </g>\n     <g id=\"text_6\">\n      <!-- 1.0 -->\n      <g transform=\"translate(355.411506 239.238437)scale(0.1 -0.1)\">\n       <defs>\n        <path d=\"M 12.40625 8.296875 \nL 28.515625 8.296875 \nL 28.515625 63.921875 \nL 10.984375 60.40625 \nL 10.984375 69.390625 \nL 28.421875 72.90625 \nL 38.28125 72.90625 \nL 38.28125 8.296875 \nL 54.390625 8.296875 \nL 54.390625 0 \nL 12.40625 0 \nz\n\" id=\"DejaVuSans-49\"/>\n       </defs>\n       <use xlink:href=\"#DejaVuSans-49\"/>\n       <use x=\"63.623047\" xlink:href=\"#DejaVuSans-46\"/>\n       <use x=\"95.410156\" xlink:href=\"#DejaVuSans-48\"/>\n      </g>\n     </g>\n    </g>\n    <g id=\"text_7\">\n     <!-- False Positive Rate (Positive label: 1) -->\n     <g transform=\"translate(119.815625 252.916562)scale(0.1 -0.1)\">\n      <defs>\n       <path d=\"M 9.8125 72.90625 \nL 51.703125 72.90625 \nL 51.703125 64.59375 \nL 19.671875 64.59375 \nL 19.671875 43.109375 \nL 48.578125 43.109375 \nL 48.578125 34.8125 \nL 19.671875 34.8125 \nL 19.671875 0 \nL 9.8125 0 \nz\n\" id=\"DejaVuSans-70\"/>\n       <path d=\"M 34.28125 27.484375 \nQ 23.390625 27.484375 19.1875 25 \nQ 14.984375 22.515625 14.984375 16.5 \nQ 14.984375 11.71875 18.140625 8.90625 \nQ 21.296875 6.109375 26.703125 6.109375 \nQ 34.1875 6.109375 38.703125 11.40625 \nQ 43.21875 16.703125 43.21875 25.484375 \nL 43.21875 27.484375 \nz\nM 52.203125 31.203125 \nL 52.203125 0 \nL 43.21875 0 \nL 43.21875 8.296875 \nQ 40.140625 3.328125 35.546875 0.953125 \nQ 30.953125 -1.421875 24.3125 -1.421875 \nQ 15.921875 -1.421875 10.953125 3.296875 \nQ 6 8.015625 6 15.921875 \nQ 6 25.140625 12.171875 29.828125 \nQ 18.359375 34.515625 30.609375 34.515625 \nL 43.21875 34.515625 \nL 43.21875 35.40625 \nQ 43.21875 41.609375 39.140625 45 \nQ 35.0625 48.390625 27.6875 48.390625 \nQ 23 48.390625 18.546875 47.265625 \nQ 14.109375 46.140625 10.015625 43.890625 \nL 10.015625 52.203125 \nQ 14.9375 54.109375 19.578125 55.046875 \nQ 24.21875 56 28.609375 56 \nQ 40.484375 56 46.34375 49.84375 \nQ 52.203125 43.703125 52.203125 31.203125 \nz\n\" id=\"DejaVuSans-97\"/>\n       <path d=\"M 9.421875 75.984375 \nL 18.40625 75.984375 \nL 18.40625 0 \nL 9.421875 0 \nz\n\" id=\"DejaVuSans-108\"/>\n       <path d=\"M 44.28125 53.078125 \nL 44.28125 44.578125 \nQ 40.484375 46.53125 36.375 47.5 \nQ 32.28125 48.484375 27.875 48.484375 \nQ 21.1875 48.484375 17.84375 46.4375 \nQ 14.5 44.390625 14.5 40.28125 \nQ 14.5 37.15625 16.890625 35.375 \nQ 19.28125 33.59375 26.515625 31.984375 \nL 29.59375 31.296875 \nQ 39.15625 29.25 43.1875 25.515625 \nQ 47.21875 21.78125 47.21875 15.09375 \nQ 47.21875 7.46875 41.1875 3.015625 \nQ 35.15625 -1.421875 24.609375 -1.421875 \nQ 20.21875 -1.421875 15.453125 -0.5625 \nQ 10.6875 0.296875 5.421875 2 \nL 5.421875 11.28125 \nQ 10.40625 8.6875 15.234375 7.390625 \nQ 20.0625 6.109375 24.8125 6.109375 \nQ 31.15625 6.109375 34.5625 8.28125 \nQ 37.984375 10.453125 37.984375 14.40625 \nQ 37.984375 18.0625 35.515625 20.015625 \nQ 33.0625 21.96875 24.703125 23.78125 \nL 21.578125 24.515625 \nQ 13.234375 26.265625 9.515625 29.90625 \nQ 5.8125 33.546875 5.8125 39.890625 \nQ 5.8125 47.609375 11.28125 51.796875 \nQ 16.75 56 26.8125 56 \nQ 31.78125 56 36.171875 55.265625 \nQ 40.578125 54.546875 44.28125 53.078125 \nz\n\" id=\"DejaVuSans-115\"/>\n       <path d=\"M 56.203125 29.59375 \nL 56.203125 25.203125 \nL 14.890625 25.203125 \nQ 15.484375 15.921875 20.484375 11.0625 \nQ 25.484375 6.203125 34.421875 6.203125 \nQ 39.59375 6.203125 44.453125 7.46875 \nQ 49.3125 8.734375 54.109375 11.28125 \nL 54.109375 2.78125 \nQ 49.265625 0.734375 44.1875 -0.34375 \nQ 39.109375 -1.421875 33.890625 -1.421875 \nQ 20.796875 -1.421875 13.15625 6.1875 \nQ 5.515625 13.8125 5.515625 26.8125 \nQ 5.515625 40.234375 12.765625 48.109375 \nQ 20.015625 56 32.328125 56 \nQ 43.359375 56 49.78125 48.890625 \nQ 56.203125 41.796875 56.203125 29.59375 \nz\nM 47.21875 32.234375 \nQ 47.125 39.59375 43.09375 43.984375 \nQ 39.0625 48.390625 32.421875 48.390625 \nQ 24.90625 48.390625 20.390625 44.140625 \nQ 15.875 39.890625 15.1875 32.171875 \nz\n\" id=\"DejaVuSans-101\"/>\n       <path id=\"DejaVuSans-32\"/>\n       <path d=\"M 19.671875 64.796875 \nL 19.671875 37.40625 \nL 32.078125 37.40625 \nQ 38.96875 37.40625 42.71875 40.96875 \nQ 46.484375 44.53125 46.484375 51.125 \nQ 46.484375 57.671875 42.71875 61.234375 \nQ 38.96875 64.796875 32.078125 64.796875 \nz\nM 9.8125 72.90625 \nL 32.078125 72.90625 \nQ 44.34375 72.90625 50.609375 67.359375 \nQ 56.890625 61.8125 56.890625 51.125 \nQ 56.890625 40.328125 50.609375 34.8125 \nQ 44.34375 29.296875 32.078125 29.296875 \nL 19.671875 29.296875 \nL 19.671875 0 \nL 9.8125 0 \nz\n\" id=\"DejaVuSans-80\"/>\n       <path d=\"M 30.609375 48.390625 \nQ 23.390625 48.390625 19.1875 42.75 \nQ 14.984375 37.109375 14.984375 27.296875 \nQ 14.984375 17.484375 19.15625 11.84375 \nQ 23.34375 6.203125 30.609375 6.203125 \nQ 37.796875 6.203125 41.984375 11.859375 \nQ 46.1875 17.53125 46.1875 27.296875 \nQ 46.1875 37.015625 41.984375 42.703125 \nQ 37.796875 48.390625 30.609375 48.390625 \nz\nM 30.609375 56 \nQ 42.328125 56 49.015625 48.375 \nQ 55.71875 40.765625 55.71875 27.296875 \nQ 55.71875 13.875 49.015625 6.21875 \nQ 42.328125 -1.421875 30.609375 -1.421875 \nQ 18.84375 -1.421875 12.171875 6.21875 \nQ 5.515625 13.875 5.515625 27.296875 \nQ 5.515625 40.765625 12.171875 48.375 \nQ 18.84375 56 30.609375 56 \nz\n\" id=\"DejaVuSans-111\"/>\n       <path d=\"M 9.421875 54.6875 \nL 18.40625 54.6875 \nL 18.40625 0 \nL 9.421875 0 \nz\nM 9.421875 75.984375 \nL 18.40625 75.984375 \nL 18.40625 64.59375 \nL 9.421875 64.59375 \nz\n\" id=\"DejaVuSans-105\"/>\n       <path d=\"M 18.3125 70.21875 \nL 18.3125 54.6875 \nL 36.8125 54.6875 \nL 36.8125 47.703125 \nL 18.3125 47.703125 \nL 18.3125 18.015625 \nQ 18.3125 11.328125 20.140625 9.421875 \nQ 21.96875 7.515625 27.59375 7.515625 \nL 36.8125 7.515625 \nL 36.8125 0 \nL 27.59375 0 \nQ 17.1875 0 13.234375 3.875 \nQ 9.28125 7.765625 9.28125 18.015625 \nL 9.28125 47.703125 \nL 2.6875 47.703125 \nL 2.6875 54.6875 \nL 9.28125 54.6875 \nL 9.28125 70.21875 \nz\n\" id=\"DejaVuSans-116\"/>\n       <path d=\"M 2.984375 54.6875 \nL 12.5 54.6875 \nL 29.59375 8.796875 \nL 46.6875 54.6875 \nL 56.203125 54.6875 \nL 35.6875 0 \nL 23.484375 0 \nz\n\" id=\"DejaVuSans-118\"/>\n       <path d=\"M 44.390625 34.1875 \nQ 47.5625 33.109375 50.5625 29.59375 \nQ 53.5625 26.078125 56.59375 19.921875 \nL 66.609375 0 \nL 56 0 \nL 46.6875 18.703125 \nQ 43.0625 26.03125 39.671875 28.421875 \nQ 36.28125 30.8125 30.421875 30.8125 \nL 19.671875 30.8125 \nL 19.671875 0 \nL 9.8125 0 \nL 9.8125 72.90625 \nL 32.078125 72.90625 \nQ 44.578125 72.90625 50.734375 67.671875 \nQ 56.890625 62.453125 56.890625 51.90625 \nQ 56.890625 45.015625 53.6875 40.46875 \nQ 50.484375 35.9375 44.390625 34.1875 \nz\nM 19.671875 64.796875 \nL 19.671875 38.921875 \nL 32.078125 38.921875 \nQ 39.203125 38.921875 42.84375 42.21875 \nQ 46.484375 45.515625 46.484375 51.90625 \nQ 46.484375 58.296875 42.84375 61.546875 \nQ 39.203125 64.796875 32.078125 64.796875 \nz\n\" id=\"DejaVuSans-82\"/>\n       <path d=\"M 31 75.875 \nQ 24.46875 64.65625 21.28125 53.65625 \nQ 18.109375 42.671875 18.109375 31.390625 \nQ 18.109375 20.125 21.3125 9.0625 \nQ 24.515625 -2 31 -13.1875 \nL 23.1875 -13.1875 \nQ 15.875 -1.703125 12.234375 9.375 \nQ 8.59375 20.453125 8.59375 31.390625 \nQ 8.59375 42.28125 12.203125 53.3125 \nQ 15.828125 64.359375 23.1875 75.875 \nz\n\" id=\"DejaVuSans-40\"/>\n       <path d=\"M 48.6875 27.296875 \nQ 48.6875 37.203125 44.609375 42.84375 \nQ 40.53125 48.484375 33.40625 48.484375 \nQ 26.265625 48.484375 22.1875 42.84375 \nQ 18.109375 37.203125 18.109375 27.296875 \nQ 18.109375 17.390625 22.1875 11.75 \nQ 26.265625 6.109375 33.40625 6.109375 \nQ 40.53125 6.109375 44.609375 11.75 \nQ 48.6875 17.390625 48.6875 27.296875 \nz\nM 18.109375 46.390625 \nQ 20.953125 51.265625 25.265625 53.625 \nQ 29.59375 56 35.59375 56 \nQ 45.5625 56 51.78125 48.09375 \nQ 58.015625 40.1875 58.015625 27.296875 \nQ 58.015625 14.40625 51.78125 6.484375 \nQ 45.5625 -1.421875 35.59375 -1.421875 \nQ 29.59375 -1.421875 25.265625 0.953125 \nQ 20.953125 3.328125 18.109375 8.203125 \nL 18.109375 0 \nL 9.078125 0 \nL 9.078125 75.984375 \nL 18.109375 75.984375 \nz\n\" id=\"DejaVuSans-98\"/>\n       <path d=\"M 11.71875 12.40625 \nL 22.015625 12.40625 \nL 22.015625 0 \nL 11.71875 0 \nz\nM 11.71875 51.703125 \nL 22.015625 51.703125 \nL 22.015625 39.3125 \nL 11.71875 39.3125 \nz\n\" id=\"DejaVuSans-58\"/>\n       <path d=\"M 8.015625 75.875 \nL 15.828125 75.875 \nQ 23.140625 64.359375 26.78125 53.3125 \nQ 30.421875 42.28125 30.421875 31.390625 \nQ 30.421875 20.453125 26.78125 9.375 \nQ 23.140625 -1.703125 15.828125 -13.1875 \nL 8.015625 -13.1875 \nQ 14.5 -2 17.703125 9.0625 \nQ 20.90625 20.125 20.90625 31.390625 \nQ 20.90625 42.671875 17.703125 53.65625 \nQ 14.5 64.65625 8.015625 75.875 \nz\n\" id=\"DejaVuSans-41\"/>\n      </defs>\n      <use xlink:href=\"#DejaVuSans-70\"/>\n      <use x=\"48.394531\" xlink:href=\"#DejaVuSans-97\"/>\n      <use x=\"109.673828\" xlink:href=\"#DejaVuSans-108\"/>\n      <use x=\"137.457031\" xlink:href=\"#DejaVuSans-115\"/>\n      <use x=\"189.556641\" xlink:href=\"#DejaVuSans-101\"/>\n      <use x=\"251.080078\" xlink:href=\"#DejaVuSans-32\"/>\n      <use x=\"282.867188\" xlink:href=\"#DejaVuSans-80\"/>\n      <use x=\"339.544922\" xlink:href=\"#DejaVuSans-111\"/>\n      <use x=\"400.726562\" xlink:href=\"#DejaVuSans-115\"/>\n      <use x=\"452.826172\" xlink:href=\"#DejaVuSans-105\"/>\n      <use x=\"480.609375\" xlink:href=\"#DejaVuSans-116\"/>\n      <use x=\"519.818359\" xlink:href=\"#DejaVuSans-105\"/>\n      <use x=\"547.601562\" xlink:href=\"#DejaVuSans-118\"/>\n      <use x=\"606.78125\" xlink:href=\"#DejaVuSans-101\"/>\n      <use x=\"668.304688\" xlink:href=\"#DejaVuSans-32\"/>\n      <use x=\"700.091797\" xlink:href=\"#DejaVuSans-82\"/>\n      <use x=\"767.324219\" xlink:href=\"#DejaVuSans-97\"/>\n      <use x=\"828.603516\" xlink:href=\"#DejaVuSans-116\"/>\n      <use x=\"867.8125\" xlink:href=\"#DejaVuSans-101\"/>\n      <use x=\"929.335938\" xlink:href=\"#DejaVuSans-32\"/>\n      <use x=\"961.123047\" xlink:href=\"#DejaVuSans-40\"/>\n      <use x=\"1000.136719\" xlink:href=\"#DejaVuSans-80\"/>\n      <use x=\"1056.814453\" xlink:href=\"#DejaVuSans-111\"/>\n      <use x=\"1117.996094\" xlink:href=\"#DejaVuSans-115\"/>\n      <use x=\"1170.095703\" xlink:href=\"#DejaVuSans-105\"/>\n      <use x=\"1197.878906\" xlink:href=\"#DejaVuSans-116\"/>\n      <use x=\"1237.087891\" xlink:href=\"#DejaVuSans-105\"/>\n      <use x=\"1264.871094\" xlink:href=\"#DejaVuSans-118\"/>\n      <use x=\"1324.050781\" xlink:href=\"#DejaVuSans-101\"/>\n      <use x=\"1385.574219\" xlink:href=\"#DejaVuSans-32\"/>\n      <use x=\"1417.361328\" xlink:href=\"#DejaVuSans-108\"/>\n      <use x=\"1445.144531\" xlink:href=\"#DejaVuSans-97\"/>\n      <use x=\"1506.423828\" xlink:href=\"#DejaVuSans-98\"/>\n      <use x=\"1569.900391\" xlink:href=\"#DejaVuSans-101\"/>\n      <use x=\"1631.423828\" xlink:href=\"#DejaVuSans-108\"/>\n      <use x=\"1659.207031\" xlink:href=\"#DejaVuSans-58\"/>\n      <use x=\"1692.898438\" xlink:href=\"#DejaVuSans-32\"/>\n      <use x=\"1724.685547\" xlink:href=\"#DejaVuSans-49\"/>\n      <use x=\"1788.308594\" xlink:href=\"#DejaVuSans-41\"/>\n     </g>\n    </g>\n   </g>\n   <g id=\"matplotlib.axis_2\">\n    <g id=\"ytick_1\">\n     <g id=\"line2d_7\">\n      <defs>\n       <path d=\"M 0 0 \nL -3.5 0 \n\" id=\"mbfec2f14c4\" style=\"stroke:#000000;stroke-width:0.8;\"/>\n      </defs>\n      <g>\n       <use style=\"stroke:#000000;stroke-width:0.8;\" x=\"43.78125\" xlink:href=\"#mbfec2f14c4\" y=\"214.756364\"/>\n      </g>\n     </g>\n     <g id=\"text_8\">\n      <!-- 0.0 -->\n      <g transform=\"translate(20.878125 218.555582)scale(0.1 -0.1)\">\n       <use xlink:href=\"#DejaVuSans-48\"/>\n       <use x=\"63.623047\" xlink:href=\"#DejaVuSans-46\"/>\n       <use x=\"95.410156\" xlink:href=\"#DejaVuSans-48\"/>\n      </g>\n     </g>\n    </g>\n    <g id=\"ytick_2\">\n     <g id=\"line2d_8\">\n      <g>\n       <use style=\"stroke:#000000;stroke-width:0.8;\" x=\"43.78125\" xlink:href=\"#mbfec2f14c4\" y=\"175.221818\"/>\n      </g>\n     </g>\n     <g id=\"text_9\">\n      <!-- 0.2 -->\n      <g transform=\"translate(20.878125 179.021037)scale(0.1 -0.1)\">\n       <use xlink:href=\"#DejaVuSans-48\"/>\n       <use x=\"63.623047\" xlink:href=\"#DejaVuSans-46\"/>\n       <use x=\"95.410156\" xlink:href=\"#DejaVuSans-50\"/>\n      </g>\n     </g>\n    </g>\n    <g id=\"ytick_3\">\n     <g id=\"line2d_9\">\n      <g>\n       <use style=\"stroke:#000000;stroke-width:0.8;\" x=\"43.78125\" xlink:href=\"#mbfec2f14c4\" y=\"135.687273\"/>\n      </g>\n     </g>\n     <g id=\"text_10\">\n      <!-- 0.4 -->\n      <g transform=\"translate(20.878125 139.486491)scale(0.1 -0.1)\">\n       <use xlink:href=\"#DejaVuSans-48\"/>\n       <use x=\"63.623047\" xlink:href=\"#DejaVuSans-46\"/>\n       <use x=\"95.410156\" xlink:href=\"#DejaVuSans-52\"/>\n      </g>\n     </g>\n    </g>\n    <g id=\"ytick_4\">\n     <g id=\"line2d_10\">\n      <g>\n       <use style=\"stroke:#000000;stroke-width:0.8;\" x=\"43.78125\" xlink:href=\"#mbfec2f14c4\" y=\"96.152727\"/>\n      </g>\n     </g>\n     <g id=\"text_11\">\n      <!-- 0.6 -->\n      <g transform=\"translate(20.878125 99.951946)scale(0.1 -0.1)\">\n       <use xlink:href=\"#DejaVuSans-48\"/>\n       <use x=\"63.623047\" xlink:href=\"#DejaVuSans-46\"/>\n       <use x=\"95.410156\" xlink:href=\"#DejaVuSans-54\"/>\n      </g>\n     </g>\n    </g>\n    <g id=\"ytick_5\">\n     <g id=\"line2d_11\">\n      <g>\n       <use style=\"stroke:#000000;stroke-width:0.8;\" x=\"43.78125\" xlink:href=\"#mbfec2f14c4\" y=\"56.618182\"/>\n      </g>\n     </g>\n     <g id=\"text_12\">\n      <!-- 0.8 -->\n      <g transform=\"translate(20.878125 60.417401)scale(0.1 -0.1)\">\n       <use xlink:href=\"#DejaVuSans-48\"/>\n       <use x=\"63.623047\" xlink:href=\"#DejaVuSans-46\"/>\n       <use x=\"95.410156\" xlink:href=\"#DejaVuSans-56\"/>\n      </g>\n     </g>\n    </g>\n    <g id=\"ytick_6\">\n     <g id=\"line2d_12\">\n      <g>\n       <use style=\"stroke:#000000;stroke-width:0.8;\" x=\"43.78125\" xlink:href=\"#mbfec2f14c4\" y=\"17.083636\"/>\n      </g>\n     </g>\n     <g id=\"text_13\">\n      <!-- 1.0 -->\n      <g transform=\"translate(20.878125 20.882855)scale(0.1 -0.1)\">\n       <use xlink:href=\"#DejaVuSans-49\"/>\n       <use x=\"63.623047\" xlink:href=\"#DejaVuSans-46\"/>\n       <use x=\"95.410156\" xlink:href=\"#DejaVuSans-48\"/>\n      </g>\n     </g>\n    </g>\n    <g id=\"text_14\">\n     <!-- True Positive Rate (Positive label: 1) -->\n     <g transform=\"translate(14.798438 205.348906)rotate(-90)scale(0.1 -0.1)\">\n      <defs>\n       <path d=\"M -0.296875 72.90625 \nL 61.375 72.90625 \nL 61.375 64.59375 \nL 35.5 64.59375 \nL 35.5 0 \nL 25.59375 0 \nL 25.59375 64.59375 \nL -0.296875 64.59375 \nz\n\" id=\"DejaVuSans-84\"/>\n       <path d=\"M 41.109375 46.296875 \nQ 39.59375 47.171875 37.8125 47.578125 \nQ 36.03125 48 33.890625 48 \nQ 26.265625 48 22.1875 43.046875 \nQ 18.109375 38.09375 18.109375 28.8125 \nL 18.109375 0 \nL 9.078125 0 \nL 9.078125 54.6875 \nL 18.109375 54.6875 \nL 18.109375 46.1875 \nQ 20.953125 51.171875 25.484375 53.578125 \nQ 30.03125 56 36.53125 56 \nQ 37.453125 56 38.578125 55.875 \nQ 39.703125 55.765625 41.0625 55.515625 \nz\n\" id=\"DejaVuSans-114\"/>\n       <path d=\"M 8.5 21.578125 \nL 8.5 54.6875 \nL 17.484375 54.6875 \nL 17.484375 21.921875 \nQ 17.484375 14.15625 20.5 10.265625 \nQ 23.53125 6.390625 29.59375 6.390625 \nQ 36.859375 6.390625 41.078125 11.03125 \nQ 45.3125 15.671875 45.3125 23.6875 \nL 45.3125 54.6875 \nL 54.296875 54.6875 \nL 54.296875 0 \nL 45.3125 0 \nL 45.3125 8.40625 \nQ 42.046875 3.421875 37.71875 1 \nQ 33.40625 -1.421875 27.6875 -1.421875 \nQ 18.265625 -1.421875 13.375 4.4375 \nQ 8.5 10.296875 8.5 21.578125 \nz\nM 31.109375 56 \nz\n\" id=\"DejaVuSans-117\"/>\n      </defs>\n      <use xlink:href=\"#DejaVuSans-84\"/>\n      <use x=\"46.333984\" xlink:href=\"#DejaVuSans-114\"/>\n      <use x=\"87.447266\" xlink:href=\"#DejaVuSans-117\"/>\n      <use x=\"150.826172\" xlink:href=\"#DejaVuSans-101\"/>\n      <use x=\"212.349609\" xlink:href=\"#DejaVuSans-32\"/>\n      <use x=\"244.136719\" xlink:href=\"#DejaVuSans-80\"/>\n      <use x=\"300.814453\" xlink:href=\"#DejaVuSans-111\"/>\n      <use x=\"361.996094\" xlink:href=\"#DejaVuSans-115\"/>\n      <use x=\"414.095703\" xlink:href=\"#DejaVuSans-105\"/>\n      <use x=\"441.878906\" xlink:href=\"#DejaVuSans-116\"/>\n      <use x=\"481.087891\" xlink:href=\"#DejaVuSans-105\"/>\n      <use x=\"508.871094\" xlink:href=\"#DejaVuSans-118\"/>\n      <use x=\"568.050781\" xlink:href=\"#DejaVuSans-101\"/>\n      <use x=\"629.574219\" xlink:href=\"#DejaVuSans-32\"/>\n      <use x=\"661.361328\" xlink:href=\"#DejaVuSans-82\"/>\n      <use x=\"728.59375\" xlink:href=\"#DejaVuSans-97\"/>\n      <use x=\"789.873047\" xlink:href=\"#DejaVuSans-116\"/>\n      <use x=\"829.082031\" xlink:href=\"#DejaVuSans-101\"/>\n      <use x=\"890.605469\" xlink:href=\"#DejaVuSans-32\"/>\n      <use x=\"922.392578\" xlink:href=\"#DejaVuSans-40\"/>\n      <use x=\"961.40625\" xlink:href=\"#DejaVuSans-80\"/>\n      <use x=\"1018.083984\" xlink:href=\"#DejaVuSans-111\"/>\n      <use x=\"1079.265625\" xlink:href=\"#DejaVuSans-115\"/>\n      <use x=\"1131.365234\" xlink:href=\"#DejaVuSans-105\"/>\n      <use x=\"1159.148438\" xlink:href=\"#DejaVuSans-116\"/>\n      <use x=\"1198.357422\" xlink:href=\"#DejaVuSans-105\"/>\n      <use x=\"1226.140625\" xlink:href=\"#DejaVuSans-118\"/>\n      <use x=\"1285.320312\" xlink:href=\"#DejaVuSans-101\"/>\n      <use x=\"1346.84375\" xlink:href=\"#DejaVuSans-32\"/>\n      <use x=\"1378.630859\" xlink:href=\"#DejaVuSans-108\"/>\n      <use x=\"1406.414062\" xlink:href=\"#DejaVuSans-97\"/>\n      <use x=\"1467.693359\" xlink:href=\"#DejaVuSans-98\"/>\n      <use x=\"1531.169922\" xlink:href=\"#DejaVuSans-101\"/>\n      <use x=\"1592.693359\" xlink:href=\"#DejaVuSans-108\"/>\n      <use x=\"1620.476562\" xlink:href=\"#DejaVuSans-58\"/>\n      <use x=\"1654.167969\" xlink:href=\"#DejaVuSans-32\"/>\n      <use x=\"1685.955078\" xlink:href=\"#DejaVuSans-49\"/>\n      <use x=\"1749.578125\" xlink:href=\"#DejaVuSans-41\"/>\n     </g>\n    </g>\n   </g>\n   <g id=\"line2d_13\">\n    <path clip-path=\"url(#pb1f222b6f0)\" d=\"M 58.999432 214.756364 \nL 58.999432 212.584136 \nL 61.079366 210.411908 \nL 61.772677 208.23968 \nL 62.465988 208.23968 \nL 62.465988 205.343377 \nL 63.159299 203.895225 \nL 64.545922 203.171149 \nL 64.545922 201.722997 \nL 65.239233 200.274845 \nL 65.239233 198.102617 \nL 66.625856 195.206314 \nL 67.319167 194.482238 \nL 68.012478 194.482238 \nL 68.012478 193.034086 \nL 68.705789 190.861858 \nL 68.705789 184.345175 \nL 69.3991 183.621099 \nL 70.785723 182.897023 \nL 70.785723 179.276643 \nL 72.172345 179.276643 \nL 72.172345 177.104416 \nL 74.94559 177.104416 \nL 74.94559 176.38034 \nL 75.638902 175.656264 \nL 79.798769 175.656264 \nL 79.798769 174.208112 \nL 80.49208 173.484036 \nL 80.49208 172.035884 \nL 81.878703 172.035884 \nL 81.878703 168.415504 \nL 83.265325 165.519201 \nL 83.958637 164.795125 \nL 83.958637 162.622897 \nL 85.345259 160.450669 \nL 85.345259 158.278442 \nL 88.118504 156.83029 \nL 88.811815 156.106214 \nL 88.811815 155.382138 \nL 89.505127 155.382138 \nL 90.198438 154.658062 \nL 90.198438 153.933986 \nL 95.051617 153.933986 \nL 95.744928 152.485834 \nL 101.291418 152.485834 \nL 101.291418 151.761758 \nL 101.984729 149.58953 \nL 102.67804 149.58953 \nL 103.371351 148.865455 \nL 103.371351 148.141379 \nL 104.064663 146.693227 \nL 108.917841 146.693227 \nL 109.611153 145.245075 \nL 109.611153 144.520999 \nL 110.304464 144.520999 \nL 110.997775 143.072847 \nL 114.464331 143.072847 \nL 115.157643 142.348771 \nL 115.850954 142.348771 \nL 116.544265 140.176543 \nL 117.237576 139.452468 \nL 117.237576 136.556164 \nL 118.624199 135.832088 \nL 120.704133 135.832088 \nL 120.704133 134.383936 \nL 126.250623 134.383936 \nL 127.637245 132.935784 \nL 130.41049 132.211708 \nL 131.103801 131.487632 \nL 135.263669 126.419101 \nL 135.263669 122.798721 \nL 135.95698 119.902418 \nL 146.356649 111.937582 \nL 146.356649 110.489431 \nL 149.823205 110.489431 \nL 152.59645 109.765355 \nL 153.983072 109.765355 \nL 153.983072 106.144975 \nL 154.676384 106.144975 \nL 154.676384 104.696823 \nL 158.14294 104.696823 \nL 160.222874 103.972747 \nL 160.916185 103.248671 \nL 161.609496 101.800519 \nL 162.302807 101.076444 \nL 163.68943 101.076444 \nL 163.68943 95.283836 \nL 167.155986 95.283836 \nL 167.155986 93.111608 \nL 170.622542 91.663457 \nL 170.622542 89.491229 \nL 172.009165 88.767153 \nL 172.009165 87.319001 \nL 175.475721 85.146773 \nL 176.169032 82.974545 \nL 178.942277 82.974545 \nL 182.408833 82.25047 \nL 188.648635 82.25047 \nL 188.648635 80.802318 \nL 190.728568 80.078242 \nL 205.981416 70.665255 \nL 206.674727 70.665255 \nL 206.674727 69.941179 \nL 207.368038 69.941179 \nL 207.368038 67.768951 \nL 208.061349 67.044875 \nL 208.061349 65.596723 \nL 210.141283 65.596723 \nL 210.141283 61.976344 \nL 210.834594 61.976344 \nL 219.847641 56.183736 \nL 224.007508 56.183736 \nL 229.553998 55.45966 \nL 230.247309 54.735584 \nL 233.713865 54.735584 \nL 233.713865 54.011508 \nL 240.646978 53.287433 \nL 240.646978 52.563357 \nL 244.113534 52.563357 \nL 244.113534 51.839281 \nL 264.21956 48.218901 \nL 264.21956 47.494825 \nL 269.072739 44.598521 \nL 288.485454 43.874446 \nL 288.485454 40.978142 \nL 289.178765 40.978142 \nL 291.95201 38.805914 \nL 292.645321 38.081838 \nL 293.338632 38.081838 \nL 296.111877 37.357762 \nL 303.04499 35.185534 \nL 314.831281 27.944775 \nL 315.524592 27.944775 \nL 316.217904 27.220699 \nL 317.604526 26.496623 \nL 318.991149 26.496623 \nL 321.071082 25.772547 \nL 321.764394 25.772547 \nL 323.151016 25.048472 \nL 323.844327 25.048472 \nL 325.23095 24.324396 \nL 325.924261 24.324396 \nL 332.164062 23.60032 \nL 338.403863 21.428092 \nL 343.257042 19.255864 \nL 343.257042 18.531788 \nL 348.803532 18.531788 \nL 348.803532 17.807712 \nL 355.043333 17.807712 \nL 363.363068 17.083636 \nL 363.363068 17.083636 \n\" style=\"fill:none;stroke:#1f77b4;stroke-linecap:square;stroke-width:1.5;\"/>\n   </g>\n   <g id=\"patch_3\">\n    <path d=\"M 43.78125 224.64 \nL 43.78125 7.2 \n\" style=\"fill:none;stroke:#000000;stroke-linecap:square;stroke-linejoin:miter;stroke-width:0.8;\"/>\n   </g>\n   <g id=\"patch_4\">\n    <path d=\"M 378.58125 224.64 \nL 378.58125 7.2 \n\" style=\"fill:none;stroke:#000000;stroke-linecap:square;stroke-linejoin:miter;stroke-width:0.8;\"/>\n   </g>\n   <g id=\"patch_5\">\n    <path d=\"M 43.78125 224.64 \nL 378.58125 224.64 \n\" style=\"fill:none;stroke:#000000;stroke-linecap:square;stroke-linejoin:miter;stroke-width:0.8;\"/>\n   </g>\n   <g id=\"patch_6\">\n    <path d=\"M 43.78125 7.2 \nL 378.58125 7.2 \n\" style=\"fill:none;stroke:#000000;stroke-linecap:square;stroke-linejoin:miter;stroke-width:0.8;\"/>\n   </g>\n   <g id=\"legend_1\">\n    <g id=\"patch_7\">\n     <path d=\"M 177.715625 219.64 \nL 371.58125 219.64 \nQ 373.58125 219.64 373.58125 217.64 \nL 373.58125 203.961875 \nQ 373.58125 201.961875 371.58125 201.961875 \nL 177.715625 201.961875 \nQ 175.715625 201.961875 175.715625 203.961875 \nL 175.715625 217.64 \nQ 175.715625 219.64 177.715625 219.64 \nz\n\" style=\"fill:#ffffff;opacity:0.8;stroke:#cccccc;stroke-linejoin:miter;\"/>\n    </g>\n    <g id=\"line2d_14\">\n     <path d=\"M 179.715625 210.060312 \nL 199.715625 210.060312 \n\" style=\"fill:none;stroke:#1f77b4;stroke-linecap:square;stroke-width:1.5;\"/>\n    </g>\n    <g id=\"line2d_15\"/>\n    <g id=\"text_15\">\n     <!-- LogisticRegression (AUC = 0.67) -->\n     <g transform=\"translate(207.715625 213.560312)scale(0.1 -0.1)\">\n      <defs>\n       <path d=\"M 9.8125 72.90625 \nL 19.671875 72.90625 \nL 19.671875 8.296875 \nL 55.171875 8.296875 \nL 55.171875 0 \nL 9.8125 0 \nz\n\" id=\"DejaVuSans-76\"/>\n       <path d=\"M 45.40625 27.984375 \nQ 45.40625 37.75 41.375 43.109375 \nQ 37.359375 48.484375 30.078125 48.484375 \nQ 22.859375 48.484375 18.828125 43.109375 \nQ 14.796875 37.75 14.796875 27.984375 \nQ 14.796875 18.265625 18.828125 12.890625 \nQ 22.859375 7.515625 30.078125 7.515625 \nQ 37.359375 7.515625 41.375 12.890625 \nQ 45.40625 18.265625 45.40625 27.984375 \nz\nM 54.390625 6.78125 \nQ 54.390625 -7.171875 48.1875 -13.984375 \nQ 42 -20.796875 29.203125 -20.796875 \nQ 24.46875 -20.796875 20.265625 -20.09375 \nQ 16.0625 -19.390625 12.109375 -17.921875 \nL 12.109375 -9.1875 \nQ 16.0625 -11.328125 19.921875 -12.34375 \nQ 23.78125 -13.375 27.78125 -13.375 \nQ 36.625 -13.375 41.015625 -8.765625 \nQ 45.40625 -4.15625 45.40625 5.171875 \nL 45.40625 9.625 \nQ 42.625 4.78125 38.28125 2.390625 \nQ 33.9375 0 27.875 0 \nQ 17.828125 0 11.671875 7.65625 \nQ 5.515625 15.328125 5.515625 27.984375 \nQ 5.515625 40.671875 11.671875 48.328125 \nQ 17.828125 56 27.875 56 \nQ 33.9375 56 38.28125 53.609375 \nQ 42.625 51.21875 45.40625 46.390625 \nL 45.40625 54.6875 \nL 54.390625 54.6875 \nz\n\" id=\"DejaVuSans-103\"/>\n       <path d=\"M 48.78125 52.59375 \nL 48.78125 44.1875 \nQ 44.96875 46.296875 41.140625 47.34375 \nQ 37.3125 48.390625 33.40625 48.390625 \nQ 24.65625 48.390625 19.8125 42.84375 \nQ 14.984375 37.3125 14.984375 27.296875 \nQ 14.984375 17.28125 19.8125 11.734375 \nQ 24.65625 6.203125 33.40625 6.203125 \nQ 37.3125 6.203125 41.140625 7.25 \nQ 44.96875 8.296875 48.78125 10.40625 \nL 48.78125 2.09375 \nQ 45.015625 0.34375 40.984375 -0.53125 \nQ 36.96875 -1.421875 32.421875 -1.421875 \nQ 20.0625 -1.421875 12.78125 6.34375 \nQ 5.515625 14.109375 5.515625 27.296875 \nQ 5.515625 40.671875 12.859375 48.328125 \nQ 20.21875 56 33.015625 56 \nQ 37.15625 56 41.109375 55.140625 \nQ 45.0625 54.296875 48.78125 52.59375 \nz\n\" id=\"DejaVuSans-99\"/>\n       <path d=\"M 54.890625 33.015625 \nL 54.890625 0 \nL 45.90625 0 \nL 45.90625 32.71875 \nQ 45.90625 40.484375 42.875 44.328125 \nQ 39.84375 48.1875 33.796875 48.1875 \nQ 26.515625 48.1875 22.3125 43.546875 \nQ 18.109375 38.921875 18.109375 30.90625 \nL 18.109375 0 \nL 9.078125 0 \nL 9.078125 54.6875 \nL 18.109375 54.6875 \nL 18.109375 46.1875 \nQ 21.34375 51.125 25.703125 53.5625 \nQ 30.078125 56 35.796875 56 \nQ 45.21875 56 50.046875 50.171875 \nQ 54.890625 44.34375 54.890625 33.015625 \nz\n\" id=\"DejaVuSans-110\"/>\n       <path d=\"M 34.1875 63.1875 \nL 20.796875 26.90625 \nL 47.609375 26.90625 \nz\nM 28.609375 72.90625 \nL 39.796875 72.90625 \nL 67.578125 0 \nL 57.328125 0 \nL 50.6875 18.703125 \nL 17.828125 18.703125 \nL 11.1875 0 \nL 0.78125 0 \nz\n\" id=\"DejaVuSans-65\"/>\n       <path d=\"M 8.6875 72.90625 \nL 18.609375 72.90625 \nL 18.609375 28.609375 \nQ 18.609375 16.890625 22.84375 11.734375 \nQ 27.09375 6.59375 36.625 6.59375 \nQ 46.09375 6.59375 50.34375 11.734375 \nQ 54.59375 16.890625 54.59375 28.609375 \nL 54.59375 72.90625 \nL 64.5 72.90625 \nL 64.5 27.390625 \nQ 64.5 13.140625 57.4375 5.859375 \nQ 50.390625 -1.421875 36.625 -1.421875 \nQ 22.796875 -1.421875 15.734375 5.859375 \nQ 8.6875 13.140625 8.6875 27.390625 \nz\n\" id=\"DejaVuSans-85\"/>\n       <path d=\"M 64.40625 67.28125 \nL 64.40625 56.890625 \nQ 59.421875 61.53125 53.78125 63.8125 \nQ 48.140625 66.109375 41.796875 66.109375 \nQ 29.296875 66.109375 22.65625 58.46875 \nQ 16.015625 50.828125 16.015625 36.375 \nQ 16.015625 21.96875 22.65625 14.328125 \nQ 29.296875 6.6875 41.796875 6.6875 \nQ 48.140625 6.6875 53.78125 8.984375 \nQ 59.421875 11.28125 64.40625 15.921875 \nL 64.40625 5.609375 \nQ 59.234375 2.09375 53.4375 0.328125 \nQ 47.65625 -1.421875 41.21875 -1.421875 \nQ 24.65625 -1.421875 15.125 8.703125 \nQ 5.609375 18.84375 5.609375 36.375 \nQ 5.609375 53.953125 15.125 64.078125 \nQ 24.65625 74.21875 41.21875 74.21875 \nQ 47.75 74.21875 53.53125 72.484375 \nQ 59.328125 70.75 64.40625 67.28125 \nz\n\" id=\"DejaVuSans-67\"/>\n       <path d=\"M 10.59375 45.40625 \nL 73.1875 45.40625 \nL 73.1875 37.203125 \nL 10.59375 37.203125 \nz\nM 10.59375 25.484375 \nL 73.1875 25.484375 \nL 73.1875 17.1875 \nL 10.59375 17.1875 \nz\n\" id=\"DejaVuSans-61\"/>\n       <path d=\"M 8.203125 72.90625 \nL 55.078125 72.90625 \nL 55.078125 68.703125 \nL 28.609375 0 \nL 18.3125 0 \nL 43.21875 64.59375 \nL 8.203125 64.59375 \nz\n\" id=\"DejaVuSans-55\"/>\n      </defs>\n      <use xlink:href=\"#DejaVuSans-76\"/>\n      <use x=\"53.962891\" xlink:href=\"#DejaVuSans-111\"/>\n      <use x=\"115.144531\" xlink:href=\"#DejaVuSans-103\"/>\n      <use x=\"178.621094\" xlink:href=\"#DejaVuSans-105\"/>\n      <use x=\"206.404297\" xlink:href=\"#DejaVuSans-115\"/>\n      <use x=\"258.503906\" xlink:href=\"#DejaVuSans-116\"/>\n      <use x=\"297.712891\" xlink:href=\"#DejaVuSans-105\"/>\n      <use x=\"325.496094\" xlink:href=\"#DejaVuSans-99\"/>\n      <use x=\"380.476562\" xlink:href=\"#DejaVuSans-82\"/>\n      <use x=\"445.458984\" xlink:href=\"#DejaVuSans-101\"/>\n      <use x=\"506.982422\" xlink:href=\"#DejaVuSans-103\"/>\n      <use x=\"570.458984\" xlink:href=\"#DejaVuSans-114\"/>\n      <use x=\"609.322266\" xlink:href=\"#DejaVuSans-101\"/>\n      <use x=\"670.845703\" xlink:href=\"#DejaVuSans-115\"/>\n      <use x=\"722.945312\" xlink:href=\"#DejaVuSans-115\"/>\n      <use x=\"775.044922\" xlink:href=\"#DejaVuSans-105\"/>\n      <use x=\"802.828125\" xlink:href=\"#DejaVuSans-111\"/>\n      <use x=\"864.009766\" xlink:href=\"#DejaVuSans-110\"/>\n      <use x=\"927.388672\" xlink:href=\"#DejaVuSans-32\"/>\n      <use x=\"959.175781\" xlink:href=\"#DejaVuSans-40\"/>\n      <use x=\"998.189453\" xlink:href=\"#DejaVuSans-65\"/>\n      <use x=\"1066.597656\" xlink:href=\"#DejaVuSans-85\"/>\n      <use x=\"1139.791016\" xlink:href=\"#DejaVuSans-67\"/>\n      <use x=\"1209.615234\" xlink:href=\"#DejaVuSans-32\"/>\n      <use x=\"1241.402344\" xlink:href=\"#DejaVuSans-61\"/>\n      <use x=\"1325.191406\" xlink:href=\"#DejaVuSans-32\"/>\n      <use x=\"1356.978516\" xlink:href=\"#DejaVuSans-48\"/>\n      <use x=\"1420.601562\" xlink:href=\"#DejaVuSans-46\"/>\n      <use x=\"1452.388672\" xlink:href=\"#DejaVuSans-54\"/>\n      <use x=\"1516.011719\" xlink:href=\"#DejaVuSans-55\"/>\n      <use x=\"1579.634766\" xlink:href=\"#DejaVuSans-41\"/>\n     </g>\n    </g>\n   </g>\n  </g>\n </g>\n <defs>\n  <clipPath id=\"pb1f222b6f0\">\n   <rect height=\"217.44\" width=\"334.8\" x=\"43.78125\" y=\"7.2\"/>\n  </clipPath>\n </defs>\n</svg>\n",
      "image/png": "[encoded data removed]"
     },
     "metadata": {
      "needs_background": "light"
     }
    },
    {
     "output_type": "display_data",
     "data": {
      "text/plain": "<Figure size 432x288 with 1 Axes>",
      "image/svg+xml": "<?xml version=\"1.0\" encoding=\"utf-8\" standalone=\"no\"?>\n<!DOCTYPE svg PUBLIC \"-//W3C//DTD SVG 1.1//EN\"\n  \"http://www.w3.org/Graphics/SVG/1.1/DTD/svg11.dtd\">\n<!-- Created with matplotlib (https://matplotlib.org/) -->\n<svg height=\"262.19625pt\" version=\"1.1\" viewBox=\"0 0 385.78125 262.19625\" width=\"385.78125pt\" xmlns=\"http://www.w3.org/2000/svg\" xmlns:xlink=\"http://www.w3.org/1999/xlink\">\n <metadata>\n  <rdf:RDF xmlns:cc=\"http://creativecommons.org/ns#\" xmlns:dc=\"http://purl.org/dc/elements/1.1/\" xmlns:rdf=\"http://www.w3.org/1999/02/22-rdf-syntax-ns#\">\n   <cc:Work>\n    <dc:type rdf:resource=\"http://purl.org/dc/dcmitype/StillImage\"/>\n    <dc:date>2021-06-07T11:13:20.653850</dc:date>\n    <dc:format>image/svg+xml</dc:format>\n    <dc:creator>\n     <cc:Agent>\n      <dc:title>Matplotlib v3.3.4, https://matplotlib.org/</dc:title>\n     </cc:Agent>\n    </dc:creator>\n   </cc:Work>\n  </rdf:RDF>\n </metadata>\n <defs>\n  <style type=\"text/css\">*{stroke-linecap:butt;stroke-linejoin:round;}</style>\n </defs>\n <g id=\"figure_1\">\n  <g id=\"patch_1\">\n   <path d=\"M 0 262.19625 \nL 385.78125 262.19625 \nL 385.78125 0 \nL 0 0 \nz\n\" style=\"fill:none;\"/>\n  </g>\n  <g id=\"axes_1\">\n   <g id=\"patch_2\">\n    <path d=\"M 43.78125 224.64 \nL 378.58125 224.64 \nL 378.58125 7.2 \nL 43.78125 7.2 \nz\n\" style=\"fill:#ffffff;\"/>\n   </g>\n   <g id=\"matplotlib.axis_1\">\n    <g id=\"xtick_1\">\n     <g id=\"line2d_1\">\n      <defs>\n       <path d=\"M 0 0 \nL 0 3.5 \n\" id=\"md55a3d8593\" style=\"stroke:#000000;stroke-width:0.8;\"/>\n      </defs>\n      <g>\n       <use style=\"stroke:#000000;stroke-width:0.8;\" x=\"58.999432\" xlink:href=\"#md55a3d8593\" y=\"224.64\"/>\n      </g>\n     </g>\n     <g id=\"text_1\">\n      <!-- 0.0 -->\n      <g transform=\"translate(51.047869 239.238437)scale(0.1 -0.1)\">\n       <defs>\n        <path d=\"M 31.78125 66.40625 \nQ 24.171875 66.40625 20.328125 58.90625 \nQ 16.5 51.421875 16.5 36.375 \nQ 16.5 21.390625 20.328125 13.890625 \nQ 24.171875 6.390625 31.78125 6.390625 \nQ 39.453125 6.390625 43.28125 13.890625 \nQ 47.125 21.390625 47.125 36.375 \nQ 47.125 51.421875 43.28125 58.90625 \nQ 39.453125 66.40625 31.78125 66.40625 \nz\nM 31.78125 74.21875 \nQ 44.046875 74.21875 50.515625 64.515625 \nQ 56.984375 54.828125 56.984375 36.375 \nQ 56.984375 17.96875 50.515625 8.265625 \nQ 44.046875 -1.421875 31.78125 -1.421875 \nQ 19.53125 -1.421875 13.0625 8.265625 \nQ 6.59375 17.96875 6.59375 36.375 \nQ 6.59375 54.828125 13.0625 64.515625 \nQ 19.53125 74.21875 31.78125 74.21875 \nz\n\" id=\"DejaVuSans-48\"/>\n        <path d=\"M 10.6875 12.40625 \nL 21 12.40625 \nL 21 0 \nL 10.6875 0 \nz\n\" id=\"DejaVuSans-46\"/>\n       </defs>\n       <use xlink:href=\"#DejaVuSans-48\"/>\n       <use x=\"63.623047\" xlink:href=\"#DejaVuSans-46\"/>\n       <use x=\"95.410156\" xlink:href=\"#DejaVuSans-48\"/>\n      </g>\n     </g>\n    </g>\n    <g id=\"xtick_2\">\n     <g id=\"line2d_2\">\n      <g>\n       <use style=\"stroke:#000000;stroke-width:0.8;\" x=\"119.872159\" xlink:href=\"#md55a3d8593\" y=\"224.64\"/>\n      </g>\n     </g>\n     <g id=\"text_2\">\n      <!-- 0.2 -->\n      <g transform=\"translate(111.920597 239.238437)scale(0.1 -0.1)\">\n       <defs>\n        <path d=\"M 19.1875 8.296875 \nL 53.609375 8.296875 \nL 53.609375 0 \nL 7.328125 0 \nL 7.328125 8.296875 \nQ 12.9375 14.109375 22.625 23.890625 \nQ 32.328125 33.6875 34.8125 36.53125 \nQ 39.546875 41.84375 41.421875 45.53125 \nQ 43.3125 49.21875 43.3125 52.78125 \nQ 43.3125 58.59375 39.234375 62.25 \nQ 35.15625 65.921875 28.609375 65.921875 \nQ 23.96875 65.921875 18.8125 64.3125 \nQ 13.671875 62.703125 7.8125 59.421875 \nL 7.8125 69.390625 \nQ 13.765625 71.78125 18.9375 73 \nQ 24.125 74.21875 28.421875 74.21875 \nQ 39.75 74.21875 46.484375 68.546875 \nQ 53.21875 62.890625 53.21875 53.421875 \nQ 53.21875 48.921875 51.53125 44.890625 \nQ 49.859375 40.875 45.40625 35.40625 \nQ 44.1875 33.984375 37.640625 27.21875 \nQ 31.109375 20.453125 19.1875 8.296875 \nz\n\" id=\"DejaVuSans-50\"/>\n       </defs>\n       <use xlink:href=\"#DejaVuSans-48\"/>\n       <use x=\"63.623047\" xlink:href=\"#DejaVuSans-46\"/>\n       <use x=\"95.410156\" xlink:href=\"#DejaVuSans-50\"/>\n      </g>\n     </g>\n    </g>\n    <g id=\"xtick_3\">\n     <g id=\"line2d_3\">\n      <g>\n       <use style=\"stroke:#000000;stroke-width:0.8;\" x=\"180.744886\" xlink:href=\"#md55a3d8593\" y=\"224.64\"/>\n      </g>\n     </g>\n     <g id=\"text_3\">\n      <!-- 0.4 -->\n      <g transform=\"translate(172.793324 239.238437)scale(0.1 -0.1)\">\n       <defs>\n        <path d=\"M 37.796875 64.3125 \nL 12.890625 25.390625 \nL 37.796875 25.390625 \nz\nM 35.203125 72.90625 \nL 47.609375 72.90625 \nL 47.609375 25.390625 \nL 58.015625 25.390625 \nL 58.015625 17.1875 \nL 47.609375 17.1875 \nL 47.609375 0 \nL 37.796875 0 \nL 37.796875 17.1875 \nL 4.890625 17.1875 \nL 4.890625 26.703125 \nz\n\" id=\"DejaVuSans-52\"/>\n       </defs>\n       <use xlink:href=\"#DejaVuSans-48\"/>\n       <use x=\"63.623047\" xlink:href=\"#DejaVuSans-46\"/>\n       <use x=\"95.410156\" xlink:href=\"#DejaVuSans-52\"/>\n      </g>\n     </g>\n    </g>\n    <g id=\"xtick_4\">\n     <g id=\"line2d_4\">\n      <g>\n       <use style=\"stroke:#000000;stroke-width:0.8;\" x=\"241.617614\" xlink:href=\"#md55a3d8593\" y=\"224.64\"/>\n      </g>\n     </g>\n     <g id=\"text_4\">\n      <!-- 0.6 -->\n      <g transform=\"translate(233.666051 239.238437)scale(0.1 -0.1)\">\n       <defs>\n        <path d=\"M 33.015625 40.375 \nQ 26.375 40.375 22.484375 35.828125 \nQ 18.609375 31.296875 18.609375 23.390625 \nQ 18.609375 15.53125 22.484375 10.953125 \nQ 26.375 6.390625 33.015625 6.390625 \nQ 39.65625 6.390625 43.53125 10.953125 \nQ 47.40625 15.53125 47.40625 23.390625 \nQ 47.40625 31.296875 43.53125 35.828125 \nQ 39.65625 40.375 33.015625 40.375 \nz\nM 52.59375 71.296875 \nL 52.59375 62.3125 \nQ 48.875 64.0625 45.09375 64.984375 \nQ 41.3125 65.921875 37.59375 65.921875 \nQ 27.828125 65.921875 22.671875 59.328125 \nQ 17.53125 52.734375 16.796875 39.40625 \nQ 19.671875 43.65625 24.015625 45.921875 \nQ 28.375 48.1875 33.59375 48.1875 \nQ 44.578125 48.1875 50.953125 41.515625 \nQ 57.328125 34.859375 57.328125 23.390625 \nQ 57.328125 12.15625 50.6875 5.359375 \nQ 44.046875 -1.421875 33.015625 -1.421875 \nQ 20.359375 -1.421875 13.671875 8.265625 \nQ 6.984375 17.96875 6.984375 36.375 \nQ 6.984375 53.65625 15.1875 63.9375 \nQ 23.390625 74.21875 37.203125 74.21875 \nQ 40.921875 74.21875 44.703125 73.484375 \nQ 48.484375 72.75 52.59375 71.296875 \nz\n\" id=\"DejaVuSans-54\"/>\n       </defs>\n       <use xlink:href=\"#DejaVuSans-48\"/>\n       <use x=\"63.623047\" xlink:href=\"#DejaVuSans-46\"/>\n       <use x=\"95.410156\" xlink:href=\"#DejaVuSans-54\"/>\n      </g>\n     </g>\n    </g>\n    <g id=\"xtick_5\">\n     <g id=\"line2d_5\">\n      <g>\n       <use style=\"stroke:#000000;stroke-width:0.8;\" x=\"302.490341\" xlink:href=\"#md55a3d8593\" y=\"224.64\"/>\n      </g>\n     </g>\n     <g id=\"text_5\">\n      <!-- 0.8 -->\n      <g transform=\"translate(294.538778 239.238437)scale(0.1 -0.1)\">\n       <defs>\n        <path d=\"M 31.78125 34.625 \nQ 24.75 34.625 20.71875 30.859375 \nQ 16.703125 27.09375 16.703125 20.515625 \nQ 16.703125 13.921875 20.71875 10.15625 \nQ 24.75 6.390625 31.78125 6.390625 \nQ 38.8125 6.390625 42.859375 10.171875 \nQ 46.921875 13.96875 46.921875 20.515625 \nQ 46.921875 27.09375 42.890625 30.859375 \nQ 38.875 34.625 31.78125 34.625 \nz\nM 21.921875 38.8125 \nQ 15.578125 40.375 12.03125 44.71875 \nQ 8.5 49.078125 8.5 55.328125 \nQ 8.5 64.0625 14.71875 69.140625 \nQ 20.953125 74.21875 31.78125 74.21875 \nQ 42.671875 74.21875 48.875 69.140625 \nQ 55.078125 64.0625 55.078125 55.328125 \nQ 55.078125 49.078125 51.53125 44.71875 \nQ 48 40.375 41.703125 38.8125 \nQ 48.828125 37.15625 52.796875 32.3125 \nQ 56.78125 27.484375 56.78125 20.515625 \nQ 56.78125 9.90625 50.3125 4.234375 \nQ 43.84375 -1.421875 31.78125 -1.421875 \nQ 19.734375 -1.421875 13.25 4.234375 \nQ 6.78125 9.90625 6.78125 20.515625 \nQ 6.78125 27.484375 10.78125 32.3125 \nQ 14.796875 37.15625 21.921875 38.8125 \nz\nM 18.3125 54.390625 \nQ 18.3125 48.734375 21.84375 45.5625 \nQ 25.390625 42.390625 31.78125 42.390625 \nQ 38.140625 42.390625 41.71875 45.5625 \nQ 45.3125 48.734375 45.3125 54.390625 \nQ 45.3125 60.0625 41.71875 63.234375 \nQ 38.140625 66.40625 31.78125 66.40625 \nQ 25.390625 66.40625 21.84375 63.234375 \nQ 18.3125 60.0625 18.3125 54.390625 \nz\n\" id=\"DejaVuSans-56\"/>\n       </defs>\n       <use xlink:href=\"#DejaVuSans-48\"/>\n       <use x=\"63.623047\" xlink:href=\"#DejaVuSans-46\"/>\n       <use x=\"95.410156\" xlink:href=\"#DejaVuSans-56\"/>\n      </g>\n     </g>\n    </g>\n    <g id=\"xtick_6\">\n     <g id=\"line2d_6\">\n      <g>\n       <use style=\"stroke:#000000;stroke-width:0.8;\" x=\"363.363068\" xlink:href=\"#md55a3d8593\" y=\"224.64\"/>\n      </g>\n     </g>\n     <g id=\"text_6\">\n      <!-- 1.0 -->\n      <g transform=\"translate(355.411506 239.238437)scale(0.1 -0.1)\">\n       <defs>\n        <path d=\"M 12.40625 8.296875 \nL 28.515625 8.296875 \nL 28.515625 63.921875 \nL 10.984375 60.40625 \nL 10.984375 69.390625 \nL 28.421875 72.90625 \nL 38.28125 72.90625 \nL 38.28125 8.296875 \nL 54.390625 8.296875 \nL 54.390625 0 \nL 12.40625 0 \nz\n\" id=\"DejaVuSans-49\"/>\n       </defs>\n       <use xlink:href=\"#DejaVuSans-49\"/>\n       <use x=\"63.623047\" xlink:href=\"#DejaVuSans-46\"/>\n       <use x=\"95.410156\" xlink:href=\"#DejaVuSans-48\"/>\n      </g>\n     </g>\n    </g>\n    <g id=\"text_7\">\n     <!-- False Positive Rate (Positive label: 1) -->\n     <g transform=\"translate(119.815625 252.916562)scale(0.1 -0.1)\">\n      <defs>\n       <path d=\"M 9.8125 72.90625 \nL 51.703125 72.90625 \nL 51.703125 64.59375 \nL 19.671875 64.59375 \nL 19.671875 43.109375 \nL 48.578125 43.109375 \nL 48.578125 34.8125 \nL 19.671875 34.8125 \nL 19.671875 0 \nL 9.8125 0 \nz\n\" id=\"DejaVuSans-70\"/>\n       <path d=\"M 34.28125 27.484375 \nQ 23.390625 27.484375 19.1875 25 \nQ 14.984375 22.515625 14.984375 16.5 \nQ 14.984375 11.71875 18.140625 8.90625 \nQ 21.296875 6.109375 26.703125 6.109375 \nQ 34.1875 6.109375 38.703125 11.40625 \nQ 43.21875 16.703125 43.21875 25.484375 \nL 43.21875 27.484375 \nz\nM 52.203125 31.203125 \nL 52.203125 0 \nL 43.21875 0 \nL 43.21875 8.296875 \nQ 40.140625 3.328125 35.546875 0.953125 \nQ 30.953125 -1.421875 24.3125 -1.421875 \nQ 15.921875 -1.421875 10.953125 3.296875 \nQ 6 8.015625 6 15.921875 \nQ 6 25.140625 12.171875 29.828125 \nQ 18.359375 34.515625 30.609375 34.515625 \nL 43.21875 34.515625 \nL 43.21875 35.40625 \nQ 43.21875 41.609375 39.140625 45 \nQ 35.0625 48.390625 27.6875 48.390625 \nQ 23 48.390625 18.546875 47.265625 \nQ 14.109375 46.140625 10.015625 43.890625 \nL 10.015625 52.203125 \nQ 14.9375 54.109375 19.578125 55.046875 \nQ 24.21875 56 28.609375 56 \nQ 40.484375 56 46.34375 49.84375 \nQ 52.203125 43.703125 52.203125 31.203125 \nz\n\" id=\"DejaVuSans-97\"/>\n       <path d=\"M 9.421875 75.984375 \nL 18.40625 75.984375 \nL 18.40625 0 \nL 9.421875 0 \nz\n\" id=\"DejaVuSans-108\"/>\n       <path d=\"M 44.28125 53.078125 \nL 44.28125 44.578125 \nQ 40.484375 46.53125 36.375 47.5 \nQ 32.28125 48.484375 27.875 48.484375 \nQ 21.1875 48.484375 17.84375 46.4375 \nQ 14.5 44.390625 14.5 40.28125 \nQ 14.5 37.15625 16.890625 35.375 \nQ 19.28125 33.59375 26.515625 31.984375 \nL 29.59375 31.296875 \nQ 39.15625 29.25 43.1875 25.515625 \nQ 47.21875 21.78125 47.21875 15.09375 \nQ 47.21875 7.46875 41.1875 3.015625 \nQ 35.15625 -1.421875 24.609375 -1.421875 \nQ 20.21875 -1.421875 15.453125 -0.5625 \nQ 10.6875 0.296875 5.421875 2 \nL 5.421875 11.28125 \nQ 10.40625 8.6875 15.234375 7.390625 \nQ 20.0625 6.109375 24.8125 6.109375 \nQ 31.15625 6.109375 34.5625 8.28125 \nQ 37.984375 10.453125 37.984375 14.40625 \nQ 37.984375 18.0625 35.515625 20.015625 \nQ 33.0625 21.96875 24.703125 23.78125 \nL 21.578125 24.515625 \nQ 13.234375 26.265625 9.515625 29.90625 \nQ 5.8125 33.546875 5.8125 39.890625 \nQ 5.8125 47.609375 11.28125 51.796875 \nQ 16.75 56 26.8125 56 \nQ 31.78125 56 36.171875 55.265625 \nQ 40.578125 54.546875 44.28125 53.078125 \nz\n\" id=\"DejaVuSans-115\"/>\n       <path d=\"M 56.203125 29.59375 \nL 56.203125 25.203125 \nL 14.890625 25.203125 \nQ 15.484375 15.921875 20.484375 11.0625 \nQ 25.484375 6.203125 34.421875 6.203125 \nQ 39.59375 6.203125 44.453125 7.46875 \nQ 49.3125 8.734375 54.109375 11.28125 \nL 54.109375 2.78125 \nQ 49.265625 0.734375 44.1875 -0.34375 \nQ 39.109375 -1.421875 33.890625 -1.421875 \nQ 20.796875 -1.421875 13.15625 6.1875 \nQ 5.515625 13.8125 5.515625 26.8125 \nQ 5.515625 40.234375 12.765625 48.109375 \nQ 20.015625 56 32.328125 56 \nQ 43.359375 56 49.78125 48.890625 \nQ 56.203125 41.796875 56.203125 29.59375 \nz\nM 47.21875 32.234375 \nQ 47.125 39.59375 43.09375 43.984375 \nQ 39.0625 48.390625 32.421875 48.390625 \nQ 24.90625 48.390625 20.390625 44.140625 \nQ 15.875 39.890625 15.1875 32.171875 \nz\n\" id=\"DejaVuSans-101\"/>\n       <path id=\"DejaVuSans-32\"/>\n       <path d=\"M 19.671875 64.796875 \nL 19.671875 37.40625 \nL 32.078125 37.40625 \nQ 38.96875 37.40625 42.71875 40.96875 \nQ 46.484375 44.53125 46.484375 51.125 \nQ 46.484375 57.671875 42.71875 61.234375 \nQ 38.96875 64.796875 32.078125 64.796875 \nz\nM 9.8125 72.90625 \nL 32.078125 72.90625 \nQ 44.34375 72.90625 50.609375 67.359375 \nQ 56.890625 61.8125 56.890625 51.125 \nQ 56.890625 40.328125 50.609375 34.8125 \nQ 44.34375 29.296875 32.078125 29.296875 \nL 19.671875 29.296875 \nL 19.671875 0 \nL 9.8125 0 \nz\n\" id=\"DejaVuSans-80\"/>\n       <path d=\"M 30.609375 48.390625 \nQ 23.390625 48.390625 19.1875 42.75 \nQ 14.984375 37.109375 14.984375 27.296875 \nQ 14.984375 17.484375 19.15625 11.84375 \nQ 23.34375 6.203125 30.609375 6.203125 \nQ 37.796875 6.203125 41.984375 11.859375 \nQ 46.1875 17.53125 46.1875 27.296875 \nQ 46.1875 37.015625 41.984375 42.703125 \nQ 37.796875 48.390625 30.609375 48.390625 \nz\nM 30.609375 56 \nQ 42.328125 56 49.015625 48.375 \nQ 55.71875 40.765625 55.71875 27.296875 \nQ 55.71875 13.875 49.015625 6.21875 \nQ 42.328125 -1.421875 30.609375 -1.421875 \nQ 18.84375 -1.421875 12.171875 6.21875 \nQ 5.515625 13.875 5.515625 27.296875 \nQ 5.515625 40.765625 12.171875 48.375 \nQ 18.84375 56 30.609375 56 \nz\n\" id=\"DejaVuSans-111\"/>\n       <path d=\"M 9.421875 54.6875 \nL 18.40625 54.6875 \nL 18.40625 0 \nL 9.421875 0 \nz\nM 9.421875 75.984375 \nL 18.40625 75.984375 \nL 18.40625 64.59375 \nL 9.421875 64.59375 \nz\n\" id=\"DejaVuSans-105\"/>\n       <path d=\"M 18.3125 70.21875 \nL 18.3125 54.6875 \nL 36.8125 54.6875 \nL 36.8125 47.703125 \nL 18.3125 47.703125 \nL 18.3125 18.015625 \nQ 18.3125 11.328125 20.140625 9.421875 \nQ 21.96875 7.515625 27.59375 7.515625 \nL 36.8125 7.515625 \nL 36.8125 0 \nL 27.59375 0 \nQ 17.1875 0 13.234375 3.875 \nQ 9.28125 7.765625 9.28125 18.015625 \nL 9.28125 47.703125 \nL 2.6875 47.703125 \nL 2.6875 54.6875 \nL 9.28125 54.6875 \nL 9.28125 70.21875 \nz\n\" id=\"DejaVuSans-116\"/>\n       <path d=\"M 2.984375 54.6875 \nL 12.5 54.6875 \nL 29.59375 8.796875 \nL 46.6875 54.6875 \nL 56.203125 54.6875 \nL 35.6875 0 \nL 23.484375 0 \nz\n\" id=\"DejaVuSans-118\"/>\n       <path d=\"M 44.390625 34.1875 \nQ 47.5625 33.109375 50.5625 29.59375 \nQ 53.5625 26.078125 56.59375 19.921875 \nL 66.609375 0 \nL 56 0 \nL 46.6875 18.703125 \nQ 43.0625 26.03125 39.671875 28.421875 \nQ 36.28125 30.8125 30.421875 30.8125 \nL 19.671875 30.8125 \nL 19.671875 0 \nL 9.8125 0 \nL 9.8125 72.90625 \nL 32.078125 72.90625 \nQ 44.578125 72.90625 50.734375 67.671875 \nQ 56.890625 62.453125 56.890625 51.90625 \nQ 56.890625 45.015625 53.6875 40.46875 \nQ 50.484375 35.9375 44.390625 34.1875 \nz\nM 19.671875 64.796875 \nL 19.671875 38.921875 \nL 32.078125 38.921875 \nQ 39.203125 38.921875 42.84375 42.21875 \nQ 46.484375 45.515625 46.484375 51.90625 \nQ 46.484375 58.296875 42.84375 61.546875 \nQ 39.203125 64.796875 32.078125 64.796875 \nz\n\" id=\"DejaVuSans-82\"/>\n       <path d=\"M 31 75.875 \nQ 24.46875 64.65625 21.28125 53.65625 \nQ 18.109375 42.671875 18.109375 31.390625 \nQ 18.109375 20.125 21.3125 9.0625 \nQ 24.515625 -2 31 -13.1875 \nL 23.1875 -13.1875 \nQ 15.875 -1.703125 12.234375 9.375 \nQ 8.59375 20.453125 8.59375 31.390625 \nQ 8.59375 42.28125 12.203125 53.3125 \nQ 15.828125 64.359375 23.1875 75.875 \nz\n\" id=\"DejaVuSans-40\"/>\n       <path d=\"M 48.6875 27.296875 \nQ 48.6875 37.203125 44.609375 42.84375 \nQ 40.53125 48.484375 33.40625 48.484375 \nQ 26.265625 48.484375 22.1875 42.84375 \nQ 18.109375 37.203125 18.109375 27.296875 \nQ 18.109375 17.390625 22.1875 11.75 \nQ 26.265625 6.109375 33.40625 6.109375 \nQ 40.53125 6.109375 44.609375 11.75 \nQ 48.6875 17.390625 48.6875 27.296875 \nz\nM 18.109375 46.390625 \nQ 20.953125 51.265625 25.265625 53.625 \nQ 29.59375 56 35.59375 56 \nQ 45.5625 56 51.78125 48.09375 \nQ 58.015625 40.1875 58.015625 27.296875 \nQ 58.015625 14.40625 51.78125 6.484375 \nQ 45.5625 -1.421875 35.59375 -1.421875 \nQ 29.59375 -1.421875 25.265625 0.953125 \nQ 20.953125 3.328125 18.109375 8.203125 \nL 18.109375 0 \nL 9.078125 0 \nL 9.078125 75.984375 \nL 18.109375 75.984375 \nz\n\" id=\"DejaVuSans-98\"/>\n       <path d=\"M 11.71875 12.40625 \nL 22.015625 12.40625 \nL 22.015625 0 \nL 11.71875 0 \nz\nM 11.71875 51.703125 \nL 22.015625 51.703125 \nL 22.015625 39.3125 \nL 11.71875 39.3125 \nz\n\" id=\"DejaVuSans-58\"/>\n       <path d=\"M 8.015625 75.875 \nL 15.828125 75.875 \nQ 23.140625 64.359375 26.78125 53.3125 \nQ 30.421875 42.28125 30.421875 31.390625 \nQ 30.421875 20.453125 26.78125 9.375 \nQ 23.140625 -1.703125 15.828125 -13.1875 \nL 8.015625 -13.1875 \nQ 14.5 -2 17.703125 9.0625 \nQ 20.90625 20.125 20.90625 31.390625 \nQ 20.90625 42.671875 17.703125 53.65625 \nQ 14.5 64.65625 8.015625 75.875 \nz\n\" id=\"DejaVuSans-41\"/>\n      </defs>\n      <use xlink:href=\"#DejaVuSans-70\"/>\n      <use x=\"48.394531\" xlink:href=\"#DejaVuSans-97\"/>\n      <use x=\"109.673828\" xlink:href=\"#DejaVuSans-108\"/>\n      <use x=\"137.457031\" xlink:href=\"#DejaVuSans-115\"/>\n      <use x=\"189.556641\" xlink:href=\"#DejaVuSans-101\"/>\n      <use x=\"251.080078\" xlink:href=\"#DejaVuSans-32\"/>\n      <use x=\"282.867188\" xlink:href=\"#DejaVuSans-80\"/>\n      <use x=\"339.544922\" xlink:href=\"#DejaVuSans-111\"/>\n      <use x=\"400.726562\" xlink:href=\"#DejaVuSans-115\"/>\n      <use x=\"452.826172\" xlink:href=\"#DejaVuSans-105\"/>\n      <use x=\"480.609375\" xlink:href=\"#DejaVuSans-116\"/>\n      <use x=\"519.818359\" xlink:href=\"#DejaVuSans-105\"/>\n      <use x=\"547.601562\" xlink:href=\"#DejaVuSans-118\"/>\n      <use x=\"606.78125\" xlink:href=\"#DejaVuSans-101\"/>\n      <use x=\"668.304688\" xlink:href=\"#DejaVuSans-32\"/>\n      <use x=\"700.091797\" xlink:href=\"#DejaVuSans-82\"/>\n      <use x=\"767.324219\" xlink:href=\"#DejaVuSans-97\"/>\n      <use x=\"828.603516\" xlink:href=\"#DejaVuSans-116\"/>\n      <use x=\"867.8125\" xlink:href=\"#DejaVuSans-101\"/>\n      <use x=\"929.335938\" xlink:href=\"#DejaVuSans-32\"/>\n      <use x=\"961.123047\" xlink:href=\"#DejaVuSans-40\"/>\n      <use x=\"1000.136719\" xlink:href=\"#DejaVuSans-80\"/>\n      <use x=\"1056.814453\" xlink:href=\"#DejaVuSans-111\"/>\n      <use x=\"1117.996094\" xlink:href=\"#DejaVuSans-115\"/>\n      <use x=\"1170.095703\" xlink:href=\"#DejaVuSans-105\"/>\n      <use x=\"1197.878906\" xlink:href=\"#DejaVuSans-116\"/>\n      <use x=\"1237.087891\" xlink:href=\"#DejaVuSans-105\"/>\n      <use x=\"1264.871094\" xlink:href=\"#DejaVuSans-118\"/>\n      <use x=\"1324.050781\" xlink:href=\"#DejaVuSans-101\"/>\n      <use x=\"1385.574219\" xlink:href=\"#DejaVuSans-32\"/>\n      <use x=\"1417.361328\" xlink:href=\"#DejaVuSans-108\"/>\n      <use x=\"1445.144531\" xlink:href=\"#DejaVuSans-97\"/>\n      <use x=\"1506.423828\" xlink:href=\"#DejaVuSans-98\"/>\n      <use x=\"1569.900391\" xlink:href=\"#DejaVuSans-101\"/>\n      <use x=\"1631.423828\" xlink:href=\"#DejaVuSans-108\"/>\n      <use x=\"1659.207031\" xlink:href=\"#DejaVuSans-58\"/>\n      <use x=\"1692.898438\" xlink:href=\"#DejaVuSans-32\"/>\n      <use x=\"1724.685547\" xlink:href=\"#DejaVuSans-49\"/>\n      <use x=\"1788.308594\" xlink:href=\"#DejaVuSans-41\"/>\n     </g>\n    </g>\n   </g>\n   <g id=\"matplotlib.axis_2\">\n    <g id=\"ytick_1\">\n     <g id=\"line2d_7\">\n      <defs>\n       <path d=\"M 0 0 \nL -3.5 0 \n\" id=\"m0e518320e0\" style=\"stroke:#000000;stroke-width:0.8;\"/>\n      </defs>\n      <g>\n       <use style=\"stroke:#000000;stroke-width:0.8;\" x=\"43.78125\" xlink:href=\"#m0e518320e0\" y=\"214.756364\"/>\n      </g>\n     </g>\n     <g id=\"text_8\">\n      <!-- 0.0 -->\n      <g transform=\"translate(20.878125 218.555582)scale(0.1 -0.1)\">\n       <use xlink:href=\"#DejaVuSans-48\"/>\n       <use x=\"63.623047\" xlink:href=\"#DejaVuSans-46\"/>\n       <use x=\"95.410156\" xlink:href=\"#DejaVuSans-48\"/>\n      </g>\n     </g>\n    </g>\n    <g id=\"ytick_2\">\n     <g id=\"line2d_8\">\n      <g>\n       <use style=\"stroke:#000000;stroke-width:0.8;\" x=\"43.78125\" xlink:href=\"#m0e518320e0\" y=\"175.221818\"/>\n      </g>\n     </g>\n     <g id=\"text_9\">\n      <!-- 0.2 -->\n      <g transform=\"translate(20.878125 179.021037)scale(0.1 -0.1)\">\n       <use xlink:href=\"#DejaVuSans-48\"/>\n       <use x=\"63.623047\" xlink:href=\"#DejaVuSans-46\"/>\n       <use x=\"95.410156\" xlink:href=\"#DejaVuSans-50\"/>\n      </g>\n     </g>\n    </g>\n    <g id=\"ytick_3\">\n     <g id=\"line2d_9\">\n      <g>\n       <use style=\"stroke:#000000;stroke-width:0.8;\" x=\"43.78125\" xlink:href=\"#m0e518320e0\" y=\"135.687273\"/>\n      </g>\n     </g>\n     <g id=\"text_10\">\n      <!-- 0.4 -->\n      <g transform=\"translate(20.878125 139.486491)scale(0.1 -0.1)\">\n       <use xlink:href=\"#DejaVuSans-48\"/>\n       <use x=\"63.623047\" xlink:href=\"#DejaVuSans-46\"/>\n       <use x=\"95.410156\" xlink:href=\"#DejaVuSans-52\"/>\n      </g>\n     </g>\n    </g>\n    <g id=\"ytick_4\">\n     <g id=\"line2d_10\">\n      <g>\n       <use style=\"stroke:#000000;stroke-width:0.8;\" x=\"43.78125\" xlink:href=\"#m0e518320e0\" y=\"96.152727\"/>\n      </g>\n     </g>\n     <g id=\"text_11\">\n      <!-- 0.6 -->\n      <g transform=\"translate(20.878125 99.951946)scale(0.1 -0.1)\">\n       <use xlink:href=\"#DejaVuSans-48\"/>\n       <use x=\"63.623047\" xlink:href=\"#DejaVuSans-46\"/>\n       <use x=\"95.410156\" xlink:href=\"#DejaVuSans-54\"/>\n      </g>\n     </g>\n    </g>\n    <g id=\"ytick_5\">\n     <g id=\"line2d_11\">\n      <g>\n       <use style=\"stroke:#000000;stroke-width:0.8;\" x=\"43.78125\" xlink:href=\"#m0e518320e0\" y=\"56.618182\"/>\n      </g>\n     </g>\n     <g id=\"text_12\">\n      <!-- 0.8 -->\n      <g transform=\"translate(20.878125 60.417401)scale(0.1 -0.1)\">\n       <use xlink:href=\"#DejaVuSans-48\"/>\n       <use x=\"63.623047\" xlink:href=\"#DejaVuSans-46\"/>\n       <use x=\"95.410156\" xlink:href=\"#DejaVuSans-56\"/>\n      </g>\n     </g>\n    </g>\n    <g id=\"ytick_6\">\n     <g id=\"line2d_12\">\n      <g>\n       <use style=\"stroke:#000000;stroke-width:0.8;\" x=\"43.78125\" xlink:href=\"#m0e518320e0\" y=\"17.083636\"/>\n      </g>\n     </g>\n     <g id=\"text_13\">\n      <!-- 1.0 -->\n      <g transform=\"translate(20.878125 20.882855)scale(0.1 -0.1)\">\n       <use xlink:href=\"#DejaVuSans-49\"/>\n       <use x=\"63.623047\" xlink:href=\"#DejaVuSans-46\"/>\n       <use x=\"95.410156\" xlink:href=\"#DejaVuSans-48\"/>\n      </g>\n     </g>\n    </g>\n    <g id=\"text_14\">\n     <!-- True Positive Rate (Positive label: 1) -->\n     <g transform=\"translate(14.798438 205.348906)rotate(-90)scale(0.1 -0.1)\">\n      <defs>\n       <path d=\"M -0.296875 72.90625 \nL 61.375 72.90625 \nL 61.375 64.59375 \nL 35.5 64.59375 \nL 35.5 0 \nL 25.59375 0 \nL 25.59375 64.59375 \nL -0.296875 64.59375 \nz\n\" id=\"DejaVuSans-84\"/>\n       <path d=\"M 41.109375 46.296875 \nQ 39.59375 47.171875 37.8125 47.578125 \nQ 36.03125 48 33.890625 48 \nQ 26.265625 48 22.1875 43.046875 \nQ 18.109375 38.09375 18.109375 28.8125 \nL 18.109375 0 \nL 9.078125 0 \nL 9.078125 54.6875 \nL 18.109375 54.6875 \nL 18.109375 46.1875 \nQ 20.953125 51.171875 25.484375 53.578125 \nQ 30.03125 56 36.53125 56 \nQ 37.453125 56 38.578125 55.875 \nQ 39.703125 55.765625 41.0625 55.515625 \nz\n\" id=\"DejaVuSans-114\"/>\n       <path d=\"M 8.5 21.578125 \nL 8.5 54.6875 \nL 17.484375 54.6875 \nL 17.484375 21.921875 \nQ 17.484375 14.15625 20.5 10.265625 \nQ 23.53125 6.390625 29.59375 6.390625 \nQ 36.859375 6.390625 41.078125 11.03125 \nQ 45.3125 15.671875 45.3125 23.6875 \nL 45.3125 54.6875 \nL 54.296875 54.6875 \nL 54.296875 0 \nL 45.3125 0 \nL 45.3125 8.40625 \nQ 42.046875 3.421875 37.71875 1 \nQ 33.40625 -1.421875 27.6875 -1.421875 \nQ 18.265625 -1.421875 13.375 4.4375 \nQ 8.5 10.296875 8.5 21.578125 \nz\nM 31.109375 56 \nz\n\" id=\"DejaVuSans-117\"/>\n      </defs>\n      <use xlink:href=\"#DejaVuSans-84\"/>\n      <use x=\"46.333984\" xlink:href=\"#DejaVuSans-114\"/>\n      <use x=\"87.447266\" xlink:href=\"#DejaVuSans-117\"/>\n      <use x=\"150.826172\" xlink:href=\"#DejaVuSans-101\"/>\n      <use x=\"212.349609\" xlink:href=\"#DejaVuSans-32\"/>\n      <use x=\"244.136719\" xlink:href=\"#DejaVuSans-80\"/>\n      <use x=\"300.814453\" xlink:href=\"#DejaVuSans-111\"/>\n      <use x=\"361.996094\" xlink:href=\"#DejaVuSans-115\"/>\n      <use x=\"414.095703\" xlink:href=\"#DejaVuSans-105\"/>\n      <use x=\"441.878906\" xlink:href=\"#DejaVuSans-116\"/>\n      <use x=\"481.087891\" xlink:href=\"#DejaVuSans-105\"/>\n      <use x=\"508.871094\" xlink:href=\"#DejaVuSans-118\"/>\n      <use x=\"568.050781\" xlink:href=\"#DejaVuSans-101\"/>\n      <use x=\"629.574219\" xlink:href=\"#DejaVuSans-32\"/>\n      <use x=\"661.361328\" xlink:href=\"#DejaVuSans-82\"/>\n      <use x=\"728.59375\" xlink:href=\"#DejaVuSans-97\"/>\n      <use x=\"789.873047\" xlink:href=\"#DejaVuSans-116\"/>\n      <use x=\"829.082031\" xlink:href=\"#DejaVuSans-101\"/>\n      <use x=\"890.605469\" xlink:href=\"#DejaVuSans-32\"/>\n      <use x=\"922.392578\" xlink:href=\"#DejaVuSans-40\"/>\n      <use x=\"961.40625\" xlink:href=\"#DejaVuSans-80\"/>\n      <use x=\"1018.083984\" xlink:href=\"#DejaVuSans-111\"/>\n      <use x=\"1079.265625\" xlink:href=\"#DejaVuSans-115\"/>\n      <use x=\"1131.365234\" xlink:href=\"#DejaVuSans-105\"/>\n      <use x=\"1159.148438\" xlink:href=\"#DejaVuSans-116\"/>\n      <use x=\"1198.357422\" xlink:href=\"#DejaVuSans-105\"/>\n      <use x=\"1226.140625\" xlink:href=\"#DejaVuSans-118\"/>\n      <use x=\"1285.320312\" xlink:href=\"#DejaVuSans-101\"/>\n      <use x=\"1346.84375\" xlink:href=\"#DejaVuSans-32\"/>\n      <use x=\"1378.630859\" xlink:href=\"#DejaVuSans-108\"/>\n      <use x=\"1406.414062\" xlink:href=\"#DejaVuSans-97\"/>\n      <use x=\"1467.693359\" xlink:href=\"#DejaVuSans-98\"/>\n      <use x=\"1531.169922\" xlink:href=\"#DejaVuSans-101\"/>\n      <use x=\"1592.693359\" xlink:href=\"#DejaVuSans-108\"/>\n      <use x=\"1620.476562\" xlink:href=\"#DejaVuSans-58\"/>\n      <use x=\"1654.167969\" xlink:href=\"#DejaVuSans-32\"/>\n      <use x=\"1685.955078\" xlink:href=\"#DejaVuSans-49\"/>\n      <use x=\"1749.578125\" xlink:href=\"#DejaVuSans-41\"/>\n     </g>\n    </g>\n   </g>\n   <g id=\"line2d_13\">\n    <path clip-path=\"url(#pb3c9f6a4b2)\" d=\"M 58.999432 214.756364 \nL 58.999432 209.026719 \nL 61.766374 209.026719 \nL 61.766374 203.297075 \nL 61.766374 197.567431 \nL 61.766374 188.972964 \nL 61.766374 177.513676 \nL 61.766374 168.919209 \nL 67.300258 168.919209 \nL 67.300258 160.324743 \nL 70.0672 160.324743 \nL 70.0672 151.730277 \nL 75.601085 151.730277 \nL 75.601085 148.865455 \nL 78.368027 148.865455 \nL 78.368027 137.406166 \nL 83.901911 137.406166 \nL 83.901911 134.541344 \nL 86.668853 134.541344 \nL 86.668853 131.676522 \nL 89.435795 131.676522 \nL 89.435795 128.8117 \nL 94.96968 128.8117 \nL 94.96968 125.946877 \nL 97.736622 125.946877 \nL 97.736622 123.082055 \nL 100.503564 120.217233 \nL 106.037448 120.217233 \nL 108.80439 117.352411 \nL 111.571333 117.352411 \nL 114.338275 105.893123 \nL 117.105217 105.893123 \nL 125.406043 105.893123 \nL 125.406043 103.0283 \nL 128.172986 103.0283 \nL 128.172986 97.298656 \nL 130.939928 94.433834 \nL 136.473812 94.433834 \nL 136.473812 88.70419 \nL 139.240754 88.70419 \nL 144.774638 88.70419 \nL 144.774638 82.974545 \nL 150.308523 82.974545 \nL 150.308523 80.109723 \nL 153.075465 80.109723 \nL 155.842407 77.244901 \nL 161.376291 77.244901 \nL 161.376291 71.515257 \nL 172.44406 62.920791 \nL 172.44406 57.191146 \nL 177.977944 57.191146 \nL 183.511829 54.326324 \nL 186.278771 54.326324 \nL 186.278771 51.461502 \nL 189.045713 51.461502 \nL 189.045713 45.731858 \nL 197.346539 45.731858 \nL 202.880424 45.731858 \nL 211.18125 45.731858 \nL 236.083729 45.731858 \nL 244.384556 34.272569 \nL 272.053977 34.272569 \nL 288.65563 34.272569 \nL 288.65563 28.542925 \nL 296.956457 28.542925 \nL 310.791167 22.813281 \nL 310.791167 19.948458 \nL 313.55811 19.948458 \nL 321.858936 19.948458 \nL 327.39282 17.083636 \nL 332.926705 17.083636 \nL 338.460589 17.083636 \nL 346.761415 17.083636 \nL 357.829184 17.083636 \nL 363.363068 17.083636 \n\" style=\"fill:none;stroke:#1f77b4;stroke-linecap:square;stroke-width:1.5;\"/>\n   </g>\n   <g id=\"patch_3\">\n    <path d=\"M 43.78125 224.64 \nL 43.78125 7.2 \n\" style=\"fill:none;stroke:#000000;stroke-linecap:square;stroke-linejoin:miter;stroke-width:0.8;\"/>\n   </g>\n   <g id=\"patch_4\">\n    <path d=\"M 378.58125 224.64 \nL 378.58125 7.2 \n\" style=\"fill:none;stroke:#000000;stroke-linecap:square;stroke-linejoin:miter;stroke-width:0.8;\"/>\n   </g>\n   <g id=\"patch_5\">\n    <path d=\"M 43.78125 224.64 \nL 378.58125 224.64 \n\" style=\"fill:none;stroke:#000000;stroke-linecap:square;stroke-linejoin:miter;stroke-width:0.8;\"/>\n   </g>\n   <g id=\"patch_6\">\n    <path d=\"M 43.78125 7.2 \nL 378.58125 7.2 \n\" style=\"fill:none;stroke:#000000;stroke-linecap:square;stroke-linejoin:miter;stroke-width:0.8;\"/>\n   </g>\n   <g id=\"legend_1\">\n    <g id=\"patch_7\">\n     <path d=\"M 177.715625 219.64 \nL 371.58125 219.64 \nQ 373.58125 219.64 373.58125 217.64 \nL 373.58125 203.961875 \nQ 373.58125 201.961875 371.58125 201.961875 \nL 177.715625 201.961875 \nQ 175.715625 201.961875 175.715625 203.961875 \nL 175.715625 217.64 \nQ 175.715625 219.64 177.715625 219.64 \nz\n\" style=\"fill:#ffffff;opacity:0.8;stroke:#cccccc;stroke-linejoin:miter;\"/>\n    </g>\n    <g id=\"line2d_14\">\n     <path d=\"M 179.715625 210.060312 \nL 199.715625 210.060312 \n\" style=\"fill:none;stroke:#1f77b4;stroke-linecap:square;stroke-width:1.5;\"/>\n    </g>\n    <g id=\"line2d_15\"/>\n    <g id=\"text_15\">\n     <!-- LogisticRegression (AUC = 0.77) -->\n     <g transform=\"translate(207.715625 213.560312)scale(0.1 -0.1)\">\n      <defs>\n       <path d=\"M 9.8125 72.90625 \nL 19.671875 72.90625 \nL 19.671875 8.296875 \nL 55.171875 8.296875 \nL 55.171875 0 \nL 9.8125 0 \nz\n\" id=\"DejaVuSans-76\"/>\n       <path d=\"M 45.40625 27.984375 \nQ 45.40625 37.75 41.375 43.109375 \nQ 37.359375 48.484375 30.078125 48.484375 \nQ 22.859375 48.484375 18.828125 43.109375 \nQ 14.796875 37.75 14.796875 27.984375 \nQ 14.796875 18.265625 18.828125 12.890625 \nQ 22.859375 7.515625 30.078125 7.515625 \nQ 37.359375 7.515625 41.375 12.890625 \nQ 45.40625 18.265625 45.40625 27.984375 \nz\nM 54.390625 6.78125 \nQ 54.390625 -7.171875 48.1875 -13.984375 \nQ 42 -20.796875 29.203125 -20.796875 \nQ 24.46875 -20.796875 20.265625 -20.09375 \nQ 16.0625 -19.390625 12.109375 -17.921875 \nL 12.109375 -9.1875 \nQ 16.0625 -11.328125 19.921875 -12.34375 \nQ 23.78125 -13.375 27.78125 -13.375 \nQ 36.625 -13.375 41.015625 -8.765625 \nQ 45.40625 -4.15625 45.40625 5.171875 \nL 45.40625 9.625 \nQ 42.625 4.78125 38.28125 2.390625 \nQ 33.9375 0 27.875 0 \nQ 17.828125 0 11.671875 7.65625 \nQ 5.515625 15.328125 5.515625 27.984375 \nQ 5.515625 40.671875 11.671875 48.328125 \nQ 17.828125 56 27.875 56 \nQ 33.9375 56 38.28125 53.609375 \nQ 42.625 51.21875 45.40625 46.390625 \nL 45.40625 54.6875 \nL 54.390625 54.6875 \nz\n\" id=\"DejaVuSans-103\"/>\n       <path d=\"M 48.78125 52.59375 \nL 48.78125 44.1875 \nQ 44.96875 46.296875 41.140625 47.34375 \nQ 37.3125 48.390625 33.40625 48.390625 \nQ 24.65625 48.390625 19.8125 42.84375 \nQ 14.984375 37.3125 14.984375 27.296875 \nQ 14.984375 17.28125 19.8125 11.734375 \nQ 24.65625 6.203125 33.40625 6.203125 \nQ 37.3125 6.203125 41.140625 7.25 \nQ 44.96875 8.296875 48.78125 10.40625 \nL 48.78125 2.09375 \nQ 45.015625 0.34375 40.984375 -0.53125 \nQ 36.96875 -1.421875 32.421875 -1.421875 \nQ 20.0625 -1.421875 12.78125 6.34375 \nQ 5.515625 14.109375 5.515625 27.296875 \nQ 5.515625 40.671875 12.859375 48.328125 \nQ 20.21875 56 33.015625 56 \nQ 37.15625 56 41.109375 55.140625 \nQ 45.0625 54.296875 48.78125 52.59375 \nz\n\" id=\"DejaVuSans-99\"/>\n       <path d=\"M 54.890625 33.015625 \nL 54.890625 0 \nL 45.90625 0 \nL 45.90625 32.71875 \nQ 45.90625 40.484375 42.875 44.328125 \nQ 39.84375 48.1875 33.796875 48.1875 \nQ 26.515625 48.1875 22.3125 43.546875 \nQ 18.109375 38.921875 18.109375 30.90625 \nL 18.109375 0 \nL 9.078125 0 \nL 9.078125 54.6875 \nL 18.109375 54.6875 \nL 18.109375 46.1875 \nQ 21.34375 51.125 25.703125 53.5625 \nQ 30.078125 56 35.796875 56 \nQ 45.21875 56 50.046875 50.171875 \nQ 54.890625 44.34375 54.890625 33.015625 \nz\n\" id=\"DejaVuSans-110\"/>\n       <path d=\"M 34.1875 63.1875 \nL 20.796875 26.90625 \nL 47.609375 26.90625 \nz\nM 28.609375 72.90625 \nL 39.796875 72.90625 \nL 67.578125 0 \nL 57.328125 0 \nL 50.6875 18.703125 \nL 17.828125 18.703125 \nL 11.1875 0 \nL 0.78125 0 \nz\n\" id=\"DejaVuSans-65\"/>\n       <path d=\"M 8.6875 72.90625 \nL 18.609375 72.90625 \nL 18.609375 28.609375 \nQ 18.609375 16.890625 22.84375 11.734375 \nQ 27.09375 6.59375 36.625 6.59375 \nQ 46.09375 6.59375 50.34375 11.734375 \nQ 54.59375 16.890625 54.59375 28.609375 \nL 54.59375 72.90625 \nL 64.5 72.90625 \nL 64.5 27.390625 \nQ 64.5 13.140625 57.4375 5.859375 \nQ 50.390625 -1.421875 36.625 -1.421875 \nQ 22.796875 -1.421875 15.734375 5.859375 \nQ 8.6875 13.140625 8.6875 27.390625 \nz\n\" id=\"DejaVuSans-85\"/>\n       <path d=\"M 64.40625 67.28125 \nL 64.40625 56.890625 \nQ 59.421875 61.53125 53.78125 63.8125 \nQ 48.140625 66.109375 41.796875 66.109375 \nQ 29.296875 66.109375 22.65625 58.46875 \nQ 16.015625 50.828125 16.015625 36.375 \nQ 16.015625 21.96875 22.65625 14.328125 \nQ 29.296875 6.6875 41.796875 6.6875 \nQ 48.140625 6.6875 53.78125 8.984375 \nQ 59.421875 11.28125 64.40625 15.921875 \nL 64.40625 5.609375 \nQ 59.234375 2.09375 53.4375 0.328125 \nQ 47.65625 -1.421875 41.21875 -1.421875 \nQ 24.65625 -1.421875 15.125 8.703125 \nQ 5.609375 18.84375 5.609375 36.375 \nQ 5.609375 53.953125 15.125 64.078125 \nQ 24.65625 74.21875 41.21875 74.21875 \nQ 47.75 74.21875 53.53125 72.484375 \nQ 59.328125 70.75 64.40625 67.28125 \nz\n\" id=\"DejaVuSans-67\"/>\n       <path d=\"M 10.59375 45.40625 \nL 73.1875 45.40625 \nL 73.1875 37.203125 \nL 10.59375 37.203125 \nz\nM 10.59375 25.484375 \nL 73.1875 25.484375 \nL 73.1875 17.1875 \nL 10.59375 17.1875 \nz\n\" id=\"DejaVuSans-61\"/>\n       <path d=\"M 8.203125 72.90625 \nL 55.078125 72.90625 \nL 55.078125 68.703125 \nL 28.609375 0 \nL 18.3125 0 \nL 43.21875 64.59375 \nL 8.203125 64.59375 \nz\n\" id=\"DejaVuSans-55\"/>\n      </defs>\n      <use xlink:href=\"#DejaVuSans-76\"/>\n      <use x=\"53.962891\" xlink:href=\"#DejaVuSans-111\"/>\n      <use x=\"115.144531\" xlink:href=\"#DejaVuSans-103\"/>\n      <use x=\"178.621094\" xlink:href=\"#DejaVuSans-105\"/>\n      <use x=\"206.404297\" xlink:href=\"#DejaVuSans-115\"/>\n      <use x=\"258.503906\" xlink:href=\"#DejaVuSans-116\"/>\n      <use x=\"297.712891\" xlink:href=\"#DejaVuSans-105\"/>\n      <use x=\"325.496094\" xlink:href=\"#DejaVuSans-99\"/>\n      <use x=\"380.476562\" xlink:href=\"#DejaVuSans-82\"/>\n      <use x=\"445.458984\" xlink:href=\"#DejaVuSans-101\"/>\n      <use x=\"506.982422\" xlink:href=\"#DejaVuSans-103\"/>\n      <use x=\"570.458984\" xlink:href=\"#DejaVuSans-114\"/>\n      <use x=\"609.322266\" xlink:href=\"#DejaVuSans-101\"/>\n      <use x=\"670.845703\" xlink:href=\"#DejaVuSans-115\"/>\n      <use x=\"722.945312\" xlink:href=\"#DejaVuSans-115\"/>\n      <use x=\"775.044922\" xlink:href=\"#DejaVuSans-105\"/>\n      <use x=\"802.828125\" xlink:href=\"#DejaVuSans-111\"/>\n      <use x=\"864.009766\" xlink:href=\"#DejaVuSans-110\"/>\n      <use x=\"927.388672\" xlink:href=\"#DejaVuSans-32\"/>\n      <use x=\"959.175781\" xlink:href=\"#DejaVuSans-40\"/>\n      <use x=\"998.189453\" xlink:href=\"#DejaVuSans-65\"/>\n      <use x=\"1066.597656\" xlink:href=\"#DejaVuSans-85\"/>\n      <use x=\"1139.791016\" xlink:href=\"#DejaVuSans-67\"/>\n      <use x=\"1209.615234\" xlink:href=\"#DejaVuSans-32\"/>\n      <use x=\"1241.402344\" xlink:href=\"#DejaVuSans-61\"/>\n      <use x=\"1325.191406\" xlink:href=\"#DejaVuSans-32\"/>\n      <use x=\"1356.978516\" xlink:href=\"#DejaVuSans-48\"/>\n      <use x=\"1420.601562\" xlink:href=\"#DejaVuSans-46\"/>\n      <use x=\"1452.388672\" xlink:href=\"#DejaVuSans-55\"/>\n      <use x=\"1516.011719\" xlink:href=\"#DejaVuSans-55\"/>\n      <use x=\"1579.634766\" xlink:href=\"#DejaVuSans-41\"/>\n     </g>\n    </g>\n   </g>\n  </g>\n </g>\n <defs>\n  <clipPath id=\"pb3c9f6a4b2\">\n   <rect height=\"217.44\" width=\"334.8\" x=\"43.78125\" y=\"7.2\"/>\n  </clipPath>\n </defs>\n</svg>\n",
      "image/png": "[encoded data removed]"
     },
     "metadata": {
      "needs_background": "light"
     }
    }
   ],
   "source": [
    "plot_roc_curve(model, train_X_subset, train_y)\n",
    "plot_roc_curve(model, test_X_subset, test_y)"
   ]
  },
  {
   "cell_type": "code",
   "execution_count": 17,
   "metadata": {},
   "outputs": [
    {
     "output_type": "display_data",
     "data": {
      "application/vnd.plotly.v1+json": {
       "config": {
        "plotlyServerURL": "https://plot.ly"
       },
       "data": [
        {
         "hovertemplate": "fare=%{x}<br>probability of death=%{y}<extra></extra>",
         "legendgroup": "",
         "line": {
          "color": "red"
         },
         "marker": {
          "color": "#636efa",
          "symbol": "circle"
         },
         "mode": "markers",
         "name": "",
         "orientation": "v",
         "showlegend": false,
         "type": "scatter",
         "x": [
          -0.4917143134034448,
          0.7627663203202758,
          -0.4784903435664457,
          0.40653608219123166,
          -0.47604146026329774,
          -0.4680424278418952,
          0.38229213749006663,
          -0.220867820075279,
          -0.41563632515452864,
          -0.044630504727610765,
          -0.30657873568545807,
          -0.11360673139739778,
          -0.47604146026329774,
          -0.02103894253840445,
          -0.47987739106934874,
          -0.3202924821830867,
          -0.06315973535254955,
          -0.379065681458638,
          -0.2811103493327191,
          -0.49220409006407434,
          -0.12438181793124888,
          -0.379065681458638,
          -0.47644895444494156,
          0.061733313107997054,
          -0.220867820075279,
          -0.01883494756557126,
          -0.49220409006407434,
          4.518700924837307,
          -0.47938761440871913,
          -0.47906240270606104,
          -0.09066951082679262,
          2.236749180485041,
          -0.4819187801908529,
          -0.4280433475215975,
          0.9760640560244643,
          0.3849859091235294,
          -0.4921218075850886,
          -0.47604146026329774,
          -0.2811103493327191,
          -0.41351265355403866,
          -0.4481241906074108,
          -0.22233715005716778,
          -0.47906240270606104,
          0.1808313241199743,
          -0.47938761440871913,
          -0.47604146026329774,
          -0.33008801539567856,
          -0.4819187801908529,
          -0.20903089774118291,
          -0.2850285626177559,
          0.14377090376345414,
          -0.4809392268695937,
          0.8694573089651844,
          -0.12438181793124888,
          0.5804890791937234,
          0.061733313107997054,
          -0.4280433475215975,
          -0.4921218075850886,
          -0.09009745168717725,
          0.2850714703550921,
          -0.4921218075850886,
          0.9335357690286753,
          1.0016147248561889,
          -0.08715879172339971,
          -0.09066951082679262,
          -0.3350680644809603,
          -0.4280433475215975,
          -0.47391974776945034,
          -0.4784903435664457,
          -0.46404193207787264,
          -0.4280433475215975,
          0.2850714703550921,
          0.8061938372649807,
          -0.35057635266313575,
          0.47306342555787073,
          -0.4838778868333713,
          -0.47906240270606104,
          -0.47604146026329774,
          -0.06560861865569753,
          -0.38935099133185946,
          -0.45742994715937313,
          -0.4476344139467813,
          -0.48118411519990845,
          0.28898968364012895,
          -0.4280433475215975,
          -0.3232311421468642,
          0.0396933633796653,
          -0.47604146026329774,
          4.518700924837307,
          -0.47604146026329774,
          -0.47604146026329774,
          -0.47987739106934874,
          0.5647339435745906,
          -0.2306633532878709,
          -0.4917143134034448,
          -0.47604146026329774,
          0.04516318912557667,
          0.6075071189006944,
          -0.18315501720680022,
          -0.12438181793124888,
          -0.47906240270606104,
          -0.47906240270606104,
          0.8803950013503642,
          -0.46420453792920174,
          -0.4784903435664457,
          -0.47906240270606104,
          -0.4838778868333713,
          -0.48142900353022333,
          -0.47906240270606104,
          -0.16062529081783888,
          0.3849859091235294,
          -0.35057635266313575,
          -0.47604146026329774,
          -0.44126731735859653,
          -0.3504960292907925,
          -0.4784903435664457,
          -0.4819187801908529,
          -0.22233715005716778,
          4.215446889428603,
          -0.02103894253840445,
          0.8061938372649807,
          -0.47604146026329774,
          -0.044630504727610765,
          -0.379065681458638,
          0.8803950013503642,
          -0.41351265355403866,
          -0.4819187801908529,
          -0.4938360258972922,
          -0.19572660453184065,
          -0.49710185667037027,
          -0.47906240270606104,
          -0.4956325266884815,
          -0.3496790818208624,
          -0.12438181793124888,
          -0.379065681458638,
          -0.33898627776599705,
          -0.1188316688129943,
          0.40653608219123166,
          -0.45318456306503585,
          0.9178629158885283,
          -0.3350680644809603,
          -0.4819187801908529,
          -0.3232311421468642,
          -0.5015098466160367,
          -0.4084522810964137,
          0.08622214613947678,
          -0.48102150934857946,
          0.0396933633796653,
          -0.12438181793124888,
          -0.379065681458638,
          -0.38837143801060037,
          0.6710154789312125,
          -0.47604146026329774,
          -0.3496790818208624,
          -0.4904898717518708,
          0.5687344393386131,
          -0.48224595100015344,
          -0.47604146026329774,
          -0.46404193207787264,
          0.7288091248855048,
          -0.3183333755405683,
          -0.32519024878938263,
          -0.48142900353022333,
          -0.46404193207787264,
          0.14377090376345414,
          -0.2316429066091301,
          0.4437591083990808,
          -0.08715879172339971,
          -0.12585114791313765,
          0.47306342555787073,
          0.02255118025762949,
          -0.06315973535254955,
          -0.41563632515452864,
          -0.4784903435664457,
          -0.0323860882118709,
          -0.47987739106934874,
          -0.1348297336557994,
          -0.0712410502529379,
          -0.379065681458638,
          -0.6337495449860272,
          0.7288091248855048,
          -0.33890399528701126,
          -0.01883494756557126,
          0.13030204559614028,
          -0.20225630697135444,
          0.3458037762731619,
          -0.33008801539567856,
          -0.11360673139739778,
          -0.33008801539567856,
          -0.47906240270606104,
          -0.379065681458638,
          -0.379065681458638,
          -0.47987739106934874,
          -0.12438181793124888,
          -0.09066951082679262,
          2.236749180485041,
          -0.4819187801908529,
          -0.46910230453549767,
          -0.4819187801908529,
          -0.379065681458638,
          -0.4476344139467813,
          0.7288091248855048,
          -0.5064898957013184,
          -0.49220409006407434,
          -0.47604146026329774,
          -0.4287780125125419,
          -0.3232311421468642,
          -0.2656823845228869,
          -0.4819187801908529,
          -0.026426485805329962,
          -0.4956325266884815,
          -0.22233715005716778,
          -0.4917143134034448,
          -0.379065681458638,
          -0.4819187801908529,
          1.5854285043266656,
          -0.4784903435664457,
          -0.1047907515060651,
          0.8608862174041664,
          -0.4280433475215975,
          -0.47604146026329774,
          -0.379065681458638,
          -0.47604146026329774,
          -0.47906240270606104,
          1.1294464332805132,
          -0.4505730739105588,
          -0.4280433475215975,
          -0.4917143134034448,
          -0.379065681458638,
          -0.1348297336557994,
          1.0016147248561889,
          -0.48142900353022333,
          -0.36927014824604615,
          -0.01883494756557126,
          -0.4280433475215975,
          -0.4858369934758896,
          -0.12438181793124888,
          -0.11948405132495292,
          -0.4280433475215975,
          -0.3932692046168963,
          -0.35057635266313575,
          -0.33008801539567856,
          -0.4280433475215975,
          -0.49416319670659276,
          -0.49220409006407434,
          1.1294464332805132,
          -0.48142900353022333,
          -0.3496790818208624,
          0.39584327813636633,
          -0.12438181793124888,
          -0.4917143134034448,
          -0.4287780125125419,
          -0.11360673139739778,
          -0.3183333755405683,
          -0.23776511486700003,
          -0.3350680644809603,
          0.9178629158885283,
          1.06087770079237,
          9.40332584377524,
          -0.12438181793124888,
          -0.4819187801908529,
          -0.01883494756557126,
          0.9266788957798611,
          -0.6337495449860272,
          -0.4819187801908529,
          -0.4280433475215975,
          0.14377090376345414,
          -0.48142900353022333,
          2.372744486288739,
          2.023451444780852,
          -0.026426485805329962,
          -0.6337495449860272,
          -0.25172374969494343,
          -0.05189487215806889,
          -0.4819187801908529,
          0.8935366887083774,
          -0.4819187801908529,
          -0.6337495449860272,
          -0.06315973535254955,
          -0.23703044987605562,
          -0.4819187801908529,
          -0.47987739106934874,
          -0.4476344139467813,
          -0.47604146026329774,
          -0.12438181793124888,
          -0.46404193207787264,
          -0.4476344139467813,
          -0.47906240270606104,
          -0.379065681458638,
          -0.4819187801908529,
          0.9110060426397139,
          1.1505891121665714,
          -0.381514564761786,
          -0.4603686071231507,
          -0.47906240270606104,
          -0.09066951082679262,
          -0.4921218075850886,
          2.335276571750575,
          -0.03622201901792185,
          4.215446889428603,
          -0.4819187801908529,
          -0.17825725060050426,
          -0.6337495449860272,
          -0.3917998746350075,
          -0.47604146026329774,
          2.335276571750575,
          1.5385725507575538,
          1.4997175887164866,
          -0.16356395078161642,
          0.4815541937465454,
          0.9954102341193332,
          4.506456508321567,
          -0.12438181793124888,
          -0.47906240270606104,
          -0.11948405132495292,
          -0.47987739106934874,
          -0.12438181793124888,
          -0.35947461503345424,
          2.59616492601482,
          2.0012488892011913,
          -0.4917143134034448,
          -0.47906240270606104,
          -0.3917998746350075,
          -0.06560861865569753,
          0.7288091248855048,
          2.023451444780852,
          -0.5115502681589433,
          -0.379065681458638,
          -0.2316429066091301,
          0.5021248134929883,
          -0.17825725060050426,
          -0.07540415186828942,
          2.372744486288739,
          -0.2811103493327191,
          1.9845964827397853,
          -0.47906240270606104,
          0.6710154789312125,
          2.0012488892011913,
          -0.47604146026329774,
          0.061733313107997054,
          -0.12438181793124888,
          4.518700924837307,
          -0.379065681458638,
          -0.379065681458638,
          -0.379065681458638,
          -0.379065681458638,
          -0.379065681458638,
          -0.3183333755405683,
          -0.3222515888256051,
          -0.46404193207787264,
          -0.4530219572137068,
          0.05193777989540516,
          -0.4921218075850886,
          -0.2850285626177559,
          -0.49220409006407434,
          -0.4476344139467813,
          0.4437591083990808,
          -0.379065681458638,
          -0.47938761440871913,
          -0.47938761440871913,
          -0.08715879172339971,
          -0.09066951082679262,
          -0.35057635266313575,
          -0.4956325266884815,
          -0.33008801539567856,
          -0.4917143134034448,
          0.8404782035090523,
          -0.4921218075850886,
          -0.4819187801908529,
          0.7239113582792088,
          0.45241248243908444,
          -0.5064898957013184,
          -0.47604146026329774,
          2.023451444780852,
          -0.220867820075279,
          0.9760640560244643,
          -0.4917143134034448,
          3.5097610039403424,
          -0.5551403909549772,
          -0.48142900353022333,
          3.8237078434039127,
          -0.3253528546407116,
          -0.4784903435664457,
          0.3849859091235294,
          -0.47906240270606104,
          0.8061938372649807,
          0.2850714703550921,
          -0.379065681458638,
          -0.48232627437249675,
          -0.3986567478838218,
          1.7171784260360266,
          -0.48102150934857946,
          -0.4784903435664457,
          1.5854285043266656,
          -0.30657873568545807,
          -0.48102150934857946,
          -0.47987739106934874,
          -0.12438181793124888,
          -0.4280433475215975,
          -0.3859225547074524,
          -0.4784903435664457,
          -0.47604146026329774,
          -0.44126731735859653,
          -0.3232311421468642,
          -0.46404193207787264,
          -0.22233715005716778,
          -0.4819187801908529,
          -0.26641704951383127,
          -0.48142900353022333,
          -0.1348297336557994,
          -0.47906240270606104,
          -0.49938813412218924,
          1.1294464332805132,
          -0.6337495449860272,
          -0.4784903435664457,
          -0.47604146026329774,
          0.002960113832445709,
          -0.379065681458638,
          -0.379065681458638,
          -0.16062529081783888,
          -0.47906240270606104,
          -0.48224595100015344,
          -0.4794698968877049,
          -0.35163818846338074,
          -0.23776511486700003,
          -0.4917143134034448,
          -0.12438181793124888,
          -0.12438181793124888,
          -0.4819187801908529,
          -0.47604146026329774,
          -0.11360673139739778,
          -0.3183333755405683,
          -0.12438181793124888,
          -0.49416319670659276,
          0.4613910681817462,
          1.7171784260360266,
          0.0396933633796653,
          -0.26641704951383127,
          4.518700924837307,
          -0.4280433475215975,
          -0.11948405132495292,
          -0.4476344139467813,
          -0.48142900353022333,
          -0.379065681458638,
          -0.47481701861172376,
          0.9699418477665943,
          -0.25172374969494343,
          -0.11360673139739778,
          -0.2564589104499104,
          -0.03622201901792185,
          -0.09009745168717725,
          -0.2425805989943102,
          -0.09009745168717725,
          1.1118967559768336,
          -0.47604146026329774,
          -0.47906240270606104,
          -0.11360673139739778,
          0.38229213749006663,
          -0.4280433475215975,
          -0.4819187801908529,
          -0.11360673139739778,
          -0.47604146026329774,
          0.1205065123835484,
          -0.379065681458638,
          -0.47604146026329774,
          -0.4956325266884815,
          -0.6337495449860272,
          -0.11360673139739778,
          -0.48240855685148243,
          -0.2564589104499104,
          -0.4917143134034448,
          -0.46404193207787264,
          -0.09009745168717725,
          -0.36355543416982006,
          -0.44102242902828176,
          0.3849859091235294,
          -0.22233715005716778,
          -0.4957148091674673,
          -0.486409052615505,
          -0.39302431628658147,
          0.2850714703550921,
          -0.6337495449860272,
          -0.47604146026329774,
          -0.4459201956345777,
          1.1505891121665714,
          -0.1348297336557994,
          1.1294464332805132,
          -0.05189487215806889,
          -0.47604146026329774,
          -0.3222515888256051,
          -0.2425805989943102,
          -0.4917143134034448,
          -0.03622201901792185,
          0.3360905255395557,
          -0.47604146026329774,
          -0.3504960292907925,
          0.8995785735939043,
          -0.33792444196575205,
          2.335276571750575,
          -0.48102150934857946,
          -0.46404193207787264,
          -0.4819187801908529,
          -0.48428538101501506,
          -0.4459201956345777,
          1.06087770079237,
          1.4997175887164866,
          -0.12438181793124888,
          -0.11360673139739778,
          -0.19246077375876253,
          0.47306342555787073,
          -0.4819187801908529,
          -0.47604146026329774,
          -0.1187493863340085,
          0.5299598006698895,
          -0.4868988292761346,
          0.03275420765186523,
          -0.4280433475215975,
          -0.16062529081783888,
          -0.12438181793124888,
          -0.47906240270606104,
          1.1980151657686564,
          -0.47906240270606104,
          -0.49220409006407434,
          0.5021248134929883,
          -0.4921218075850886,
          -0.4819187801908529,
          -0.4280433475215975,
          3.711141493938092,
          -0.4784903435664457,
          -0.4084522810964137,
          -0.12438181793124888,
          -0.4921218075850886,
          -0.4921218075850886,
          -0.19572660453184065,
          -0.46404193207787264,
          -0.11948405132495292,
          -0.11360673139739778,
          1.451229699314157,
          -0.3496790818208624,
          0.33600824306057,
          0.7572161712020213,
          -0.02103894253840445,
          -0.02103894253840445,
          -0.12438181793124888,
          1.451229699314157,
          -0.12438181793124888,
          -0.12438181793124888,
          -0.36216838666691703,
          -0.2316429066091301,
          0.08622214613947678,
          1.5385725507575538,
          -0.12438181793124888,
          -0.48036716772997834,
          -0.49220409006407434,
          -0.48142900353022333,
          -0.11360673139739778,
          0.14205668545125058,
          3.8237078434039127,
          0.9266788957798611,
          -0.29286498918782944,
          -0.4819187801908529,
          -0.47906240270606104,
          -0.36927014824604615,
          -0.47604146026329774,
          -0.47604146026329774,
          -0.16062529081783888,
          -0.47906240270606104,
          -0.220867820075279,
          -0.4921218075850886,
          -0.47987739106934874,
          -0.4280433475215975,
          0.3747828817292937,
          -0.11679027969149017,
          -0.4819187801908529,
          -0.47604146026329774,
          -0.3496790818208624,
          -0.379065681458638,
          0.4613910681817462,
          -0.3504960292907925,
          -0.4784903435664457,
          -0.04601755223051374,
          1.5385725507575538,
          -0.12438181793124888,
          0.15234199532447204,
          -0.46306237875661355,
          0.9266788957798611,
          -0.33988354860827047,
          0.9178629158885283,
          -0.47604146026329774,
          -0.47604146026329774,
          -0.49416319670659276,
          0.8995785735939043,
          -0.4917143134034448,
          -0.4819187801908529,
          -0.12438181793124888,
          -0.16062529081783888,
          0.0127556470450376,
          -0.6337495449860272,
          -0.49220409006407434,
          0.4815541937465454,
          -0.1047907515060651,
          -0.47906240270606104,
          0.1969116714417651,
          -0.47604146026329774,
          -0.11360673139739778,
          -0.32910846207441935,
          -0.47906240270606104,
          -0.03622201901792185,
          0.1808313241199743,
          2.372744486288739,
          -0.02103894253840445,
          -0.4956325266884815,
          -0.33008801539567856,
          -0.4819187801908529,
          -0.47604146026329774,
          0.6396697726509186,
          -0.35163818846338074,
          -0.3183333755405683,
          0.13030204559614028,
          -0.4280433475215975,
          -0.35057635266313575,
          0.39584327813636633,
          -0.3253528546407116,
          -0.47987739106934874,
          -0.3183333755405683,
          -0.0005506052709472555,
          -0.3917998746350075,
          0.8935366887083774,
          -0.47906240270606104,
          -0.48224595100015344,
          -0.04601755223051374,
          -0.4955502442094957,
          -0.03622201901792185,
          -0.6337495449860272,
          -0.08715879172339971,
          -0.379065681458638,
          -0.4784903435664457,
          -0.11948405132495292,
          0.14377090376345414,
          -0.3183333755405683,
          -0.47987739106934874,
          0.7239113582792088,
          -0.08715879172339971,
          0.47306342555787073,
          -0.2564589104499104,
          0.8694573089651844,
          -0.47906240270606104,
          0.061733313107997054,
          -0.4858369934758896,
          -0.4858369934758896,
          -0.47906240270606104,
          -0.18315501720680022,
          -0.4685322045025248,
          -0.48036716772997834,
          -0.5015098466160367,
          0.8061938372649807,
          -0.47906240270606104,
          -0.33008801539567856,
          -0.379065681458638,
          1.5854285043266656,
          1.9845964827397853,
          -0.49220409006407434,
          -0.13246313283163721,
          -0.4868988292761346,
          -0.4784903435664457,
          0.8061938372649807,
          -0.379065681458638,
          -0.48142900353022333,
          -0.47604146026329774,
          0.3849859091235294,
          0.13030204559614028,
          0.3849859091235294,
          -0.4280433475215975,
          -0.379065681458638,
          -0.6337495449860272,
          -0.48142900353022333,
          -0.47604146026329774,
          -0.440940146549296,
          0.2850714703550921,
          9.40332584377524,
          -0.47432724195109416,
          0.8694573089651844,
          -0.4530219572137068,
          0.2850714703550921,
          0.13030204559614028,
          0.1808313241199743,
          0.14377090376345414,
          -0.434492726588768,
          -0.48102150934857946,
          3.50657745564625,
          0.48294124124944837,
          -0.37090208407926395,
          0.47306342555787073,
          -0.49220409006407434,
          -0.11360673139739778,
          -0.36927014824604615,
          -0.47604146026329774,
          -0.48224595100015344,
          1.5385725507575538,
          -0.4838778868333713,
          3.8237078434039127,
          -0.1187493863340085,
          -0.35057635266313575,
          -0.48208138604218187,
          -0.47987739106934874,
          -0.12438181793124888,
          -0.36927014824604615,
          -0.1187493863340085,
          2.335276571750575,
          -0.3350680644809603,
          0.3360905255395557,
          -0.11360673139739778,
          0.3849859091235294,
          -0.44796158475608183,
          -0.379065681458638,
          -0.4838778868333713,
          3.8237078434039127,
          -0.4280433475215975,
          -0.33008801539567856,
          -0.48142900353022333,
          0.0127556470450376,
          -0.4955502442094957,
          -0.379065681458638,
          -0.379065681458638,
          0.40653608219123166,
          -0.46404193207787264,
          -0.22233715005716778,
          -0.48216366852116765,
          -0.12438181793124888,
          -0.4784903435664457,
          3.50657745564625,
          -0.2656823845228869,
          -0.6337495449860272,
          -0.379065681458638,
          -0.379065681458638,
          -0.3183333755405683,
          0.0396933633796653,
          9.40332584377524,
          -0.47906240270606104,
          -0.47906240270606104,
          -0.04601755223051374,
          0.9110060426397139,
          4.506456508321567,
          -0.3183333755405683,
          -0.4784903435664457,
          0.7572161712020213,
          -0.23703044987605562,
          -0.379065681458638,
          0.40653608219123166,
          -0.4819187801908529,
          -0.18315501720680022,
          -0.38935099133185946,
          -0.4476344139467813,
          -0.47906240270606104,
          0.6396697726509186,
          -0.3496790818208624,
          -0.48102150934857946,
          -0.4084522810964137,
          -0.47604146026329774,
          1.06087770079237,
          -0.3496790818208624,
          -0.49416319670659276,
          -0.4921218075850886,
          1.7171784260360266,
          -0.48142900353022333,
          0.8935366887083774,
          0.14205668545125058,
          -0.4819187801908529,
          -0.16062529081783888,
          -0.4699192520054278,
          -0.4476344139467813,
          -0.47987739106934874,
          -0.4280433475215975,
          -0.49220409006407434,
          -0.18315501720680022,
          -0.4819187801908529,
          -0.4819187801908529,
          -0.38935099133185946,
          -0.48216366852116765,
          3.50657745564625,
          -0.4921218075850886,
          0.48294124124944837,
          -0.04601755223051374,
          -0.17433903731546752,
          -0.4956325266884815,
          -0.4917143134034448,
          -0.4868988292761346,
          -0.06315973535254955,
          -0.2306633532878709,
          0.9178629158885283,
          -0.4819187801908529,
          -0.12438181793124888,
          0.7288091248855048,
          -0.0323860882118709,
          -0.47906240270606104,
          -0.379065681458638,
          -0.12576886543415186,
          -0.4636344378962289,
          -0.4921218075850886,
          -0.16062529081783888,
          -0.379065681458638,
          -0.11948405132495292,
          1.7171784260360266,
          -0.4668983095626645,
          -0.49710185667037027,
          -0.48142900353022333,
          -0.6337495449860272,
          -0.48142900353022333,
          -0.379065681458638,
          0.40653608219123166,
          -0.47922500855739014,
          -0.16062529081783888,
          -0.4280433475215975,
          -0.02103894253840445,
          -0.47604146026329774,
          -0.6337495449860272,
          -0.4784903435664457,
          0.09120219522475845,
          -0.5073871665435918,
          -0.08715879172339971,
          1.1980151657686564,
          -0.46404193207787264,
          -0.6337495449860272,
          -0.38935099133185946,
          0.14377090376345414,
          -0.4975916333309999,
          0.47306342555787073,
          0.09120219522475845,
          -0.4819187801908529,
          0.9335357690286753,
          -0.35057635266313575,
          -0.26641704951383127,
          -0.4921218075850886,
          -0.47987739106934874,
          -0.4711436936570018,
          0.9954102341193332,
          -0.46404193207787264,
          -0.47604146026329774,
          0.47306342555787073,
          -0.05189487215806889,
          -0.4784903435664457,
          -0.4280433475215975,
          -0.026426485805329962,
          -0.5076320548739066,
          -0.46404193207787264,
          -0.4858369934758896,
          0.7288091248855048,
          -0.47906240270606104,
          0.0127556470450376,
          1.1118967559768336,
          -0.02103894253840445,
          -0.48142900353022333,
          -0.3350680644809603,
          0.13813847216621378,
          -0.12438181793124888,
          -0.4505730739105588,
          2.59616492601482,
          -0.11360673139739778,
          -0.2564589104499104,
          -0.4921218075850886,
          -0.35735290253960683,
          -0.4084522810964137,
          -0.12576886543415186,
          0.7288091248855048,
          -0.379065681458638,
          -0.379065681458638,
          -0.3622506691459028,
          0.35551702700676807,
          -0.4476344139467813,
          -0.41563632515452864,
          -0.47906240270606104,
          0.39584327813636633,
          -0.5357942128601083,
          -0.45742994715937313,
          -0.16356395078161642,
          -0.49220409006407434,
          -0.4408598231769527,
          -0.47906240270606104,
          -0.47906240270606104,
          0.9954102341193332,
          -0.12438181793124888,
          -0.47906240270606104,
          -0.4277161767122969,
          -0.4280433475215975,
          -0.4956325266884815,
          -0.06315973535254955,
          -0.379065681458638,
          -0.04601755223051374,
          -0.17433903731546752,
          -0.04601755223051374,
          -0.4819187801908529
         ],
         "xaxis": "x",
         "y": [
          null,
          0,
          1,
          1,
          1,
          0,
          0,
          0,
          0,
          1,
          1,
          1,
          1,
          0,
          0,
          0,
          1,
          0,
          1,
          0,
          1,
          0,
          1,
          1,
          1,
          0,
          1,
          0,
          0,
          1,
          0,
          0,
          1,
          1,
          0,
          0,
          0,
          1,
          0,
          0,
          1,
          0,
          0,
          0,
          1,
          1,
          0,
          0,
          1,
          0,
          0,
          0,
          0,
          1,
          1,
          0,
          1,
          1,
          0,
          1,
          0,
          0,
          1,
          0,
          0,
          0,
          1,
          1,
          0,
          1,
          0,
          0,
          0,
          0,
          0,
          1,
          0,
          0,
          0,
          1,
          1,
          0,
          1,
          1,
          0,
          1,
          1,
          0,
          0,
          1,
          0,
          0,
          0,
          0,
          0,
          0,
          0,
          0,
          1,
          1,
          0,
          0,
          0,
          0,
          0,
          0,
          0,
          1,
          1,
          0,
          1,
          0,
          0,
          0,
          0,
          0,
          0,
          0,
          0,
          0,
          0,
          0,
          0,
          0,
          1,
          0,
          1,
          0,
          1,
          1,
          0,
          0,
          0,
          0,
          1,
          0,
          0,
          1,
          0,
          0,
          0,
          0,
          1,
          1,
          0,
          0,
          0,
          1,
          0,
          0,
          0,
          0,
          1,
          0,
          0,
          0,
          0,
          1,
          0,
          0,
          0,
          0,
          1,
          0,
          0,
          0,
          1,
          1,
          0,
          0,
          0,
          0,
          0,
          1,
          0,
          0,
          0,
          0,
          0,
          0,
          0,
          0,
          0,
          0,
          1,
          1,
          0,
          1,
          1,
          0,
          0,
          1,
          0,
          1,
          1,
          1,
          1,
          0,
          0,
          1,
          0,
          0,
          0,
          0,
          0,
          1,
          0,
          0,
          1,
          1,
          1,
          0,
          1,
          0,
          0,
          0,
          1,
          1,
          0,
          1,
          0,
          1,
          0,
          0,
          0,
          1,
          0,
          1,
          0,
          0,
          0,
          1,
          0,
          0,
          1,
          0,
          0,
          0,
          1,
          0,
          0,
          0,
          1,
          0,
          0,
          0,
          0,
          0,
          1,
          1,
          0,
          0,
          0,
          0,
          0,
          0,
          1,
          1,
          1,
          1,
          1,
          0,
          1,
          0,
          0,
          0,
          0,
          0,
          1,
          1,
          1,
          0,
          1,
          1,
          0,
          1,
          1,
          0,
          0,
          0,
          1,
          0,
          0,
          0,
          1,
          0,
          0,
          1,
          0,
          1,
          1,
          1,
          1,
          0,
          0,
          0,
          0,
          0,
          0,
          1,
          1,
          1,
          1,
          0,
          1,
          0,
          1,
          1,
          1,
          0,
          1,
          1,
          1,
          0,
          0,
          0,
          1,
          1,
          0,
          1,
          1,
          0,
          0,
          1,
          1,
          0,
          1,
          0,
          1,
          1,
          1,
          1,
          0,
          0,
          0,
          1,
          0,
          0,
          1,
          1,
          0,
          1,
          1,
          0,
          0,
          0,
          1,
          1,
          1,
          1,
          0,
          0,
          0,
          0,
          0,
          0,
          0,
          1,
          0,
          1,
          1,
          0,
          0,
          0,
          0,
          0,
          0,
          1,
          1,
          1,
          1,
          1,
          0,
          0,
          0,
          0,
          1,
          1,
          0,
          0,
          0,
          1,
          1,
          0,
          1,
          0,
          0,
          0,
          1,
          0,
          1,
          1,
          1,
          0,
          1,
          1,
          0,
          0,
          0,
          0,
          1,
          1,
          0,
          0,
          0,
          0,
          0,
          0,
          1,
          0,
          0,
          0,
          0,
          1,
          0,
          1,
          0,
          1,
          1,
          0,
          0,
          0,
          0,
          0,
          0,
          0,
          0,
          1,
          1,
          0,
          1,
          1,
          1,
          1,
          0,
          0,
          1,
          0,
          1,
          0,
          0,
          1,
          0,
          0,
          1,
          1,
          1,
          1,
          1,
          1,
          1,
          0,
          0,
          0,
          1,
          0,
          1,
          0,
          1,
          1,
          0,
          1,
          0,
          0,
          0,
          0,
          0,
          0,
          0,
          0,
          1,
          0,
          0,
          1,
          1,
          0,
          0,
          0,
          0,
          0,
          1,
          0,
          0,
          0,
          1,
          1,
          0,
          1,
          0,
          0,
          1,
          0,
          0,
          0,
          0,
          0,
          0,
          1,
          0,
          0,
          0,
          0,
          0,
          0,
          0,
          1,
          0,
          1,
          1,
          0,
          1,
          1,
          0,
          1,
          1,
          0,
          0,
          1,
          0,
          1,
          0,
          1,
          0,
          0,
          1,
          0,
          0,
          1,
          0,
          0,
          0,
          1,
          0,
          0,
          1,
          0,
          1,
          0,
          1,
          0,
          1,
          1,
          0,
          0,
          1,
          0,
          0,
          1,
          1,
          0,
          1,
          1,
          0,
          0,
          1,
          1,
          0,
          1,
          0,
          1,
          1,
          0,
          0,
          0,
          0,
          0,
          0,
          0,
          0,
          0,
          1,
          1,
          1,
          1,
          1,
          0,
          0,
          1,
          1,
          0,
          1,
          1,
          1,
          0,
          0,
          0,
          1,
          0,
          1,
          0,
          0,
          0,
          1,
          0,
          0,
          0,
          0,
          1,
          0,
          0,
          1,
          1,
          0,
          0,
          0,
          1,
          0,
          0,
          1,
          1,
          1,
          0,
          0,
          1,
          0,
          0,
          1,
          0,
          0,
          1,
          0,
          0,
          1,
          1,
          0,
          0,
          0,
          0,
          1,
          0,
          0,
          1,
          0,
          1,
          0,
          0,
          1,
          0,
          0,
          0,
          0,
          0,
          1,
          0,
          1,
          1,
          1,
          0,
          1,
          0,
          1,
          0,
          1,
          0,
          1,
          0,
          0,
          0,
          0,
          0,
          0,
          1,
          0,
          0,
          0,
          1,
          0,
          0,
          0,
          0,
          1,
          1,
          0,
          0,
          1,
          0,
          0,
          0,
          1,
          0,
          1,
          0,
          1,
          0,
          0,
          0,
          0,
          0,
          0,
          0,
          1,
          1,
          1,
          1,
          0,
          0,
          0,
          0,
          1,
          0,
          0,
          1,
          1,
          0,
          0,
          0,
          0,
          1,
          1,
          1,
          1,
          1,
          0,
          1,
          0,
          0,
          0,
          1,
          1,
          0,
          0,
          1,
          0,
          0,
          0,
          1,
          0,
          1,
          1,
          0,
          0,
          1,
          0,
          0,
          0,
          0,
          0,
          0,
          1,
          0,
          0,
          1,
          0,
          1,
          0,
          1,
          0,
          0,
          1,
          0,
          0,
          1,
          1,
          0,
          0,
          1,
          1,
          0,
          0,
          0,
          1,
          0,
          0,
          1,
          1,
          0,
          1,
          0,
          0,
          0,
          0,
          0,
          0,
          0,
          0,
          1,
          0,
          0,
          1,
          0,
          1,
          1,
          1,
          0,
          0,
          0,
          0,
          1,
          0,
          1,
          0,
          0,
          0,
          0,
          0,
          0,
          0,
          1,
          1,
          0,
          0,
          0,
          1,
          1,
          1,
          1,
          0,
          0,
          0,
          0,
          1,
          0,
          0,
          0,
          0,
          0,
          0,
          0,
          0,
          0,
          0,
          1,
          1,
          0,
          1,
          0,
          0,
          0,
          1,
          1,
          1,
          1,
          1,
          0,
          0,
          0,
          1,
          0,
          0,
          1,
          1,
          0,
          0,
          1,
          0,
          0,
          0,
          0,
          0,
          0,
          1,
          0,
          0,
          0,
          1,
          0,
          1,
          1,
          1,
          1,
          0,
          0,
          0,
          1,
          0,
          0,
          1,
          1,
          0,
          0,
          1,
          0,
          1,
          0,
          0,
          1,
          1,
          0,
          0,
          0,
          1,
          1,
          0,
          0,
          0,
          0,
          0,
          0,
          1,
          0,
          1
         ],
         "yaxis": "y"
        },
        {
         "hovertemplate": "x=%{x}<br>y=%{y}<extra></extra>",
         "legendgroup": "",
         "line": {
          "color": "red",
          "dash": "solid"
         },
         "mode": "lines",
         "name": "",
         "orientation": "v",
         "showlegend": false,
         "type": "scatter",
         "x": [
          -5,
          -4.747474747474747,
          -4.494949494949495,
          -4.242424242424242,
          -3.9898989898989896,
          -3.737373737373737,
          -3.484848484848485,
          -3.2323232323232323,
          -2.9797979797979797,
          -2.727272727272727,
          -2.4747474747474745,
          -2.222222222222222,
          -1.9696969696969697,
          -1.7171717171717171,
          -1.4646464646464645,
          -1.212121212121212,
          -0.9595959595959593,
          -0.7070707070707067,
          -0.45454545454545414,
          -0.20202020202020154,
          0.05050505050505105,
          0.30303030303030365,
          0.5555555555555562,
          0.8080808080808088,
          1.0606060606060606,
          1.3131313131313131,
          1.5656565656565657,
          1.8181818181818183,
          2.070707070707071,
          2.3232323232323235,
          2.575757575757576,
          2.8282828282828287,
          3.0808080808080813,
          3.333333333333334,
          3.5858585858585865,
          3.838383838383839,
          4.090909090909092,
          4.343434343434344,
          4.595959595959597,
          4.8484848484848495,
          5.101010101010102,
          5.353535353535355,
          5.606060606060607,
          5.85858585858586,
          6.1111111111111125,
          6.363636363636365,
          6.616161616161618,
          6.86868686868687,
          7.121212121212121,
          7.373737373737374,
          7.626262626262626,
          7.878787878787879,
          8.131313131313131,
          8.383838383838384,
          8.636363636363637,
          8.88888888888889,
          9.141414141414142,
          9.393939393939394,
          9.646464646464647,
          9.8989898989899,
          10.151515151515152,
          10.404040404040405,
          10.656565656565657,
          10.90909090909091,
          11.161616161616163,
          11.414141414141415,
          11.666666666666668,
          11.91919191919192,
          12.171717171717173,
          12.424242424242426,
          12.676767676767678,
          12.92929292929293,
          13.181818181818183,
          13.434343434343436,
          13.686868686868689,
          13.939393939393941,
          14.191919191919194,
          14.444444444444446,
          14.696969696969699,
          14.949494949494952,
          15.202020202020204,
          15.454545454545457,
          15.70707070707071,
          15.959595959595962,
          16.212121212121215,
          16.464646464646467,
          16.71717171717172,
          16.969696969696972,
          17.222222222222225,
          17.474747474747478,
          17.72727272727273,
          17.979797979797983,
          18.232323232323235,
          18.484848484848488,
          18.73737373737374,
          18.989898989898993,
          19.242424242424242,
          19.494949494949495,
          19.747474747474747,
          20
         ],
         "xaxis": "x",
         "y": [
          0.02407731325208049,
          0.028239919599627756,
          0.0330977716255215,
          0.03875794563224372,
          0.04534069656176546,
          0.05297985765907737,
          0.061822742165401824,
          0.07202933468653296,
          0.08377051964170137,
          0.09722506315688237,
          0.11257505437021971,
          0.12999953786351534,
          0.14966614947380222,
          0.17172072209734424,
          0.19627507029013352,
          0.22339349331678246,
          0.2530789334753632,
          0.28526013578301745,
          0.31978148779931886,
          0.35639736132947547,
          0.39477261964083393,
          0.4344904256550856,
          0.4750676046627433,
          0.5159767064074026,
          0.5566728013007609,
          0.5966222011087656,
          0.6353299384180521,
          0.6723630696324269,
          0.7073676194142362,
          0.7400780590820254,
          0.7703193423768947,
          0.798002468412849,
          0.8231151523756857,
          0.8457094201905269,
          0.8658878576421977,
          0.8837899431748741,
          0.8995794924230892,
          0.9134338368379107,
          0.9255350104798692,
          0.9360629568536492,
          0.9451905949375673,
          0.9530804884003109,
          0.9598828259108794,
          0.9657344243831695,
          0.9707584946360062,
          0.9750649479490047,
          0.9787510639531324,
          0.9819023800980563,
          0.9845936979155259,
          0.9868901304297789,
          0.9888481383466594,
          0.9905165206276989,
          0.9919373385100215,
          0.9931467618054837,
          0.9941758331875238,
          0.9950511508338993,
          0.9957954728021303,
          0.996428248322357,
          0.9969660821486531,
          0.9974231384790857,
          0.9978114909330398,
          0.9981414248040816,
          0.9984216973893664,
          0.9986597617030495,
          0.9988619583592662,
          0.9990336798915272,
          0.999179511279512,
          0.9993033499927165,
          0.9994085084389948,
          0.9994978013267091,
          0.9995736201115125,
          0.9996379964007148,
          0.9996926559268806,
          0.9997390644745017,
          0.9997784669458506,
          0.9998119205811199,
          0.9998403232005222,
          0.9998644372092224,
          0.999884909997134,
          0.9999022912723688,
          0.9999170477873484,
          0.9999295758484023,
          0.9999402119414892,
          0.9999492417570269,
          0.9999569078545105,
          0.9999634161715613,
          0.9999689415513571,
          0.9999736324362909,
          0.9999776148534862,
          0.9999809957989078,
          0.9999838661107489,
          0.9999863029091169,
          0.9999883716674455,
          0.9999901279711946,
          0.9999916190110298,
          0.9999928848505526,
          0.9999939595026123,
          0.9999948718430949,
          0.9999956463867244,
          0.9999963039457085
         ],
         "yaxis": "y"
        }
       ],
       "layout": {
        "legend": {
         "tracegroupgap": 0
        },
        "margin": {
         "t": 60
        },
        "template": {
         "data": {
          "bar": [
           {
            "error_x": {
             "color": "#2a3f5f"
            },
            "error_y": {
             "color": "#2a3f5f"
            },
            "marker": {
             "line": {
              "color": "#E5ECF6",
              "width": 0.5
             }
            },
            "type": "bar"
           }
          ],
          "barpolar": [
           {
            "marker": {
             "line": {
              "color": "#E5ECF6",
              "width": 0.5
             }
            },
            "type": "barpolar"
           }
          ],
          "carpet": [
           {
            "aaxis": {
             "endlinecolor": "#2a3f5f",
             "gridcolor": "white",
             "linecolor": "white",
             "minorgridcolor": "white",
             "startlinecolor": "#2a3f5f"
            },
            "baxis": {
             "endlinecolor": "#2a3f5f",
             "gridcolor": "white",
             "linecolor": "white",
             "minorgridcolor": "white",
             "startlinecolor": "#2a3f5f"
            },
            "type": "carpet"
           }
          ],
          "choropleth": [
           {
            "colorbar": {
             "outlinewidth": 0,
             "ticks": ""
            },
            "type": "choropleth"
           }
          ],
          "contour": [
           {
            "colorbar": {
             "outlinewidth": 0,
             "ticks": ""
            },
            "colorscale": [
             [
              0,
              "#0d0887"
             ],
             [
              0.1111111111111111,
              "#46039f"
             ],
             [
              0.2222222222222222,
              "#7201a8"
             ],
             [
              0.3333333333333333,
              "#9c179e"
             ],
             [
              0.4444444444444444,
              "#bd3786"
             ],
             [
              0.5555555555555556,
              "#d8576b"
             ],
             [
              0.6666666666666666,
              "#ed7953"
             ],
             [
              0.7777777777777778,
              "#fb9f3a"
             ],
             [
              0.8888888888888888,
              "#fdca26"
             ],
             [
              1,
              "#f0f921"
             ]
            ],
            "type": "contour"
           }
          ],
          "contourcarpet": [
           {
            "colorbar": {
             "outlinewidth": 0,
             "ticks": ""
            },
            "type": "contourcarpet"
           }
          ],
          "heatmap": [
           {
            "colorbar": {
             "outlinewidth": 0,
             "ticks": ""
            },
            "colorscale": [
             [
              0,
              "#0d0887"
             ],
             [
              0.1111111111111111,
              "#46039f"
             ],
             [
              0.2222222222222222,
              "#7201a8"
             ],
             [
              0.3333333333333333,
              "#9c179e"
             ],
             [
              0.4444444444444444,
              "#bd3786"
             ],
             [
              0.5555555555555556,
              "#d8576b"
             ],
             [
              0.6666666666666666,
              "#ed7953"
             ],
             [
              0.7777777777777778,
              "#fb9f3a"
             ],
             [
              0.8888888888888888,
              "#fdca26"
             ],
             [
              1,
              "#f0f921"
             ]
            ],
            "type": "heatmap"
           }
          ],
          "heatmapgl": [
           {
            "colorbar": {
             "outlinewidth": 0,
             "ticks": ""
            },
            "colorscale": [
             [
              0,
              "#0d0887"
             ],
             [
              0.1111111111111111,
              "#46039f"
             ],
             [
              0.2222222222222222,
              "#7201a8"
             ],
             [
              0.3333333333333333,
              "#9c179e"
             ],
             [
              0.4444444444444444,
              "#bd3786"
             ],
             [
              0.5555555555555556,
              "#d8576b"
             ],
             [
              0.6666666666666666,
              "#ed7953"
             ],
             [
              0.7777777777777778,
              "#fb9f3a"
             ],
             [
              0.8888888888888888,
              "#fdca26"
             ],
             [
              1,
              "#f0f921"
             ]
            ],
            "type": "heatmapgl"
           }
          ],
          "histogram": [
           {
            "marker": {
             "colorbar": {
              "outlinewidth": 0,
              "ticks": ""
             }
            },
            "type": "histogram"
           }
          ],
          "histogram2d": [
           {
            "colorbar": {
             "outlinewidth": 0,
             "ticks": ""
            },
            "colorscale": [
             [
              0,
              "#0d0887"
             ],
             [
              0.1111111111111111,
              "#46039f"
             ],
             [
              0.2222222222222222,
              "#7201a8"
             ],
             [
              0.3333333333333333,
              "#9c179e"
             ],
             [
              0.4444444444444444,
              "#bd3786"
             ],
             [
              0.5555555555555556,
              "#d8576b"
             ],
             [
              0.6666666666666666,
              "#ed7953"
             ],
             [
              0.7777777777777778,
              "#fb9f3a"
             ],
             [
              0.8888888888888888,
              "#fdca26"
             ],
             [
              1,
              "#f0f921"
             ]
            ],
            "type": "histogram2d"
           }
          ],
          "histogram2dcontour": [
           {
            "colorbar": {
             "outlinewidth": 0,
             "ticks": ""
            },
            "colorscale": [
             [
              0,
              "#0d0887"
             ],
             [
              0.1111111111111111,
              "#46039f"
             ],
             [
              0.2222222222222222,
              "#7201a8"
             ],
             [
              0.3333333333333333,
              "#9c179e"
             ],
             [
              0.4444444444444444,
              "#bd3786"
             ],
             [
              0.5555555555555556,
              "#d8576b"
             ],
             [
              0.6666666666666666,
              "#ed7953"
             ],
             [
              0.7777777777777778,
              "#fb9f3a"
             ],
             [
              0.8888888888888888,
              "#fdca26"
             ],
             [
              1,
              "#f0f921"
             ]
            ],
            "type": "histogram2dcontour"
           }
          ],
          "mesh3d": [
           {
            "colorbar": {
             "outlinewidth": 0,
             "ticks": ""
            },
            "type": "mesh3d"
           }
          ],
          "parcoords": [
           {
            "line": {
             "colorbar": {
              "outlinewidth": 0,
              "ticks": ""
             }
            },
            "type": "parcoords"
           }
          ],
          "pie": [
           {
            "automargin": true,
            "type": "pie"
           }
          ],
          "scatter": [
           {
            "marker": {
             "colorbar": {
              "outlinewidth": 0,
              "ticks": ""
             }
            },
            "type": "scatter"
           }
          ],
          "scatter3d": [
           {
            "line": {
             "colorbar": {
              "outlinewidth": 0,
              "ticks": ""
             }
            },
            "marker": {
             "colorbar": {
              "outlinewidth": 0,
              "ticks": ""
             }
            },
            "type": "scatter3d"
           }
          ],
          "scattercarpet": [
           {
            "marker": {
             "colorbar": {
              "outlinewidth": 0,
              "ticks": ""
             }
            },
            "type": "scattercarpet"
           }
          ],
          "scattergeo": [
           {
            "marker": {
             "colorbar": {
              "outlinewidth": 0,
              "ticks": ""
             }
            },
            "type": "scattergeo"
           }
          ],
          "scattergl": [
           {
            "marker": {
             "colorbar": {
              "outlinewidth": 0,
              "ticks": ""
             }
            },
            "type": "scattergl"
           }
          ],
          "scattermapbox": [
           {
            "marker": {
             "colorbar": {
              "outlinewidth": 0,
              "ticks": ""
             }
            },
            "type": "scattermapbox"
           }
          ],
          "scatterpolar": [
           {
            "marker": {
             "colorbar": {
              "outlinewidth": 0,
              "ticks": ""
             }
            },
            "type": "scatterpolar"
           }
          ],
          "scatterpolargl": [
           {
            "marker": {
             "colorbar": {
              "outlinewidth": 0,
              "ticks": ""
             }
            },
            "type": "scatterpolargl"
           }
          ],
          "scatterternary": [
           {
            "marker": {
             "colorbar": {
              "outlinewidth": 0,
              "ticks": ""
             }
            },
            "type": "scatterternary"
           }
          ],
          "surface": [
           {
            "colorbar": {
             "outlinewidth": 0,
             "ticks": ""
            },
            "colorscale": [
             [
              0,
              "#0d0887"
             ],
             [
              0.1111111111111111,
              "#46039f"
             ],
             [
              0.2222222222222222,
              "#7201a8"
             ],
             [
              0.3333333333333333,
              "#9c179e"
             ],
             [
              0.4444444444444444,
              "#bd3786"
             ],
             [
              0.5555555555555556,
              "#d8576b"
             ],
             [
              0.6666666666666666,
              "#ed7953"
             ],
             [
              0.7777777777777778,
              "#fb9f3a"
             ],
             [
              0.8888888888888888,
              "#fdca26"
             ],
             [
              1,
              "#f0f921"
             ]
            ],
            "type": "surface"
           }
          ],
          "table": [
           {
            "cells": {
             "fill": {
              "color": "#EBF0F8"
             },
             "line": {
              "color": "white"
             }
            },
            "header": {
             "fill": {
              "color": "#C8D4E3"
             },
             "line": {
              "color": "white"
             }
            },
            "type": "table"
           }
          ]
         },
         "layout": {
          "annotationdefaults": {
           "arrowcolor": "#2a3f5f",
           "arrowhead": 0,
           "arrowwidth": 1
          },
          "coloraxis": {
           "colorbar": {
            "outlinewidth": 0,
            "ticks": ""
           }
          },
          "colorscale": {
           "diverging": [
            [
             0,
             "#8e0152"
            ],
            [
             0.1,
             "#c51b7d"
            ],
            [
             0.2,
             "#de77ae"
            ],
            [
             0.3,
             "#f1b6da"
            ],
            [
             0.4,
             "#fde0ef"
            ],
            [
             0.5,
             "#f7f7f7"
            ],
            [
             0.6,
             "#e6f5d0"
            ],
            [
             0.7,
             "#b8e186"
            ],
            [
             0.8,
             "#7fbc41"
            ],
            [
             0.9,
             "#4d9221"
            ],
            [
             1,
             "#276419"
            ]
           ],
           "sequential": [
            [
             0,
             "#0d0887"
            ],
            [
             0.1111111111111111,
             "#46039f"
            ],
            [
             0.2222222222222222,
             "#7201a8"
            ],
            [
             0.3333333333333333,
             "#9c179e"
            ],
            [
             0.4444444444444444,
             "#bd3786"
            ],
            [
             0.5555555555555556,
             "#d8576b"
            ],
            [
             0.6666666666666666,
             "#ed7953"
            ],
            [
             0.7777777777777778,
             "#fb9f3a"
            ],
            [
             0.8888888888888888,
             "#fdca26"
            ],
            [
             1,
             "#f0f921"
            ]
           ],
           "sequentialminus": [
            [
             0,
             "#0d0887"
            ],
            [
             0.1111111111111111,
             "#46039f"
            ],
            [
             0.2222222222222222,
             "#7201a8"
            ],
            [
             0.3333333333333333,
             "#9c179e"
            ],
            [
             0.4444444444444444,
             "#bd3786"
            ],
            [
             0.5555555555555556,
             "#d8576b"
            ],
            [
             0.6666666666666666,
             "#ed7953"
            ],
            [
             0.7777777777777778,
             "#fb9f3a"
            ],
            [
             0.8888888888888888,
             "#fdca26"
            ],
            [
             1,
             "#f0f921"
            ]
           ]
          },
          "colorway": [
           "#636efa",
           "#EF553B",
           "#00cc96",
           "#ab63fa",
           "#FFA15A",
           "#19d3f3",
           "#FF6692",
           "#B6E880",
           "#FF97FF",
           "#FECB52"
          ],
          "font": {
           "color": "#2a3f5f"
          },
          "geo": {
           "bgcolor": "white",
           "lakecolor": "white",
           "landcolor": "#E5ECF6",
           "showlakes": true,
           "showland": true,
           "subunitcolor": "white"
          },
          "hoverlabel": {
           "align": "left"
          },
          "hovermode": "closest",
          "mapbox": {
           "style": "light"
          },
          "paper_bgcolor": "white",
          "plot_bgcolor": "#E5ECF6",
          "polar": {
           "angularaxis": {
            "gridcolor": "white",
            "linecolor": "white",
            "ticks": ""
           },
           "bgcolor": "#E5ECF6",
           "radialaxis": {
            "gridcolor": "white",
            "linecolor": "white",
            "ticks": ""
           }
          },
          "scene": {
           "xaxis": {
            "backgroundcolor": "#E5ECF6",
            "gridcolor": "white",
            "gridwidth": 2,
            "linecolor": "white",
            "showbackground": true,
            "ticks": "",
            "zerolinecolor": "white"
           },
           "yaxis": {
            "backgroundcolor": "#E5ECF6",
            "gridcolor": "white",
            "gridwidth": 2,
            "linecolor": "white",
            "showbackground": true,
            "ticks": "",
            "zerolinecolor": "white"
           },
           "zaxis": {
            "backgroundcolor": "#E5ECF6",
            "gridcolor": "white",
            "gridwidth": 2,
            "linecolor": "white",
            "showbackground": true,
            "ticks": "",
            "zerolinecolor": "white"
           }
          },
          "shapedefaults": {
           "line": {
            "color": "#2a3f5f"
           }
          },
          "ternary": {
           "aaxis": {
            "gridcolor": "white",
            "linecolor": "white",
            "ticks": ""
           },
           "baxis": {
            "gridcolor": "white",
            "linecolor": "white",
            "ticks": ""
           },
           "bgcolor": "#E5ECF6",
           "caxis": {
            "gridcolor": "white",
            "linecolor": "white",
            "ticks": ""
           }
          },
          "title": {
           "x": 0.05
          },
          "xaxis": {
           "automargin": true,
           "gridcolor": "white",
           "linecolor": "white",
           "ticks": "",
           "title": {
            "standoff": 15
           },
           "zerolinecolor": "white",
           "zerolinewidth": 2
          },
          "yaxis": {
           "automargin": true,
           "gridcolor": "white",
           "linecolor": "white",
           "ticks": "",
           "title": {
            "standoff": 15
           },
           "zerolinecolor": "white",
           "zerolinewidth": 2
          }
         }
        },
        "xaxis": {
         "anchor": "y",
         "domain": [
          0,
          1
         ],
         "title": {
          "text": "fare"
         }
        },
        "yaxis": {
         "anchor": "x",
         "domain": [
          0,
          1
         ],
         "title": {
          "text": "probability of death"
         }
        }
       }
      }
     },
     "metadata": {}
    }
   ],
   "source": [
    "from scipy.special import expit\n",
    "\n",
    "df = pd.DataFrame(original_X_subset.ravel(), columns=['fare'])\n",
    "df['probability of death'] = original_y\n",
    "fig = px.scatter(df, x='fare', y='probability of death')\n",
    "\n",
    "X_test = np.linspace(-5, 20, 100)\n",
    "loss = expit(X_test * model.coef_ + model.intercept_).ravel()\n",
    "fig.add_trace(px.line(pd.DataFrame(zip(X_test, loss), columns=['x','y']), x='x', y='y').data[0])\n",
    "fig.update_traces(line_color='red')"
   ]
  },
  {
   "source": [
    "## Multiple Logistic Regression"
   ],
   "cell_type": "markdown",
   "metadata": {}
  },
  {
   "cell_type": "code",
   "execution_count": 18,
   "metadata": {},
   "outputs": [],
   "source": [
    "model = LogisticRegression(penalty='none')"
   ]
  },
  {
   "cell_type": "code",
   "execution_count": 19,
   "metadata": {},
   "outputs": [
    {
     "output_type": "execute_result",
     "data": {
      "text/plain": [
       "0.78788525516289"
      ]
     },
     "metadata": {},
     "execution_count": 19
    }
   ],
   "source": [
    "# stratified (balanced), 5-fold\n",
    "cross_val_score(model, original_X, original_y).mean()"
   ]
  },
  {
   "cell_type": "code",
   "execution_count": 20,
   "metadata": {},
   "outputs": [],
   "source": [
    "model = model.fit(train_X, train_y)"
   ]
  },
  {
   "cell_type": "code",
   "execution_count": 21,
   "metadata": {},
   "outputs": [
    {
     "output_type": "execute_result",
     "data": {
      "text/plain": [
       "       coef    features\n",
       "0 -0.900413      pclass\n",
       "1 -0.613328         age\n",
       "2 -0.507807       sibsp\n",
       "3 -0.073207       parch\n",
       "4  0.098127        fare\n",
       "5  0.651877  sex_female\n",
       "6 -0.651877    sex_male\n",
       "7  0.086032  embarked_C\n",
       "8  0.011647  embarked_Q\n",
       "9 -0.082323  embarked_S"
      ],
      "text/html": "<div>\n<style scoped>\n    .dataframe tbody tr th:only-of-type {\n        vertical-align: middle;\n    }\n\n    .dataframe tbody tr th {\n        vertical-align: top;\n    }\n\n    .dataframe thead th {\n        text-align: right;\n    }\n</style>\n<table border=\"1\" class=\"dataframe\">\n  <thead>\n    <tr style=\"text-align: right;\">\n      <th></th>\n      <th>coef</th>\n      <th>features</th>\n    </tr>\n  </thead>\n  <tbody>\n    <tr>\n      <th>0</th>\n      <td>-0.900413</td>\n      <td>pclass</td>\n    </tr>\n    <tr>\n      <th>1</th>\n      <td>-0.613328</td>\n      <td>age</td>\n    </tr>\n    <tr>\n      <th>2</th>\n      <td>-0.507807</td>\n      <td>sibsp</td>\n    </tr>\n    <tr>\n      <th>3</th>\n      <td>-0.073207</td>\n      <td>parch</td>\n    </tr>\n    <tr>\n      <th>4</th>\n      <td>0.098127</td>\n      <td>fare</td>\n    </tr>\n    <tr>\n      <th>5</th>\n      <td>0.651877</td>\n      <td>sex_female</td>\n    </tr>\n    <tr>\n      <th>6</th>\n      <td>-0.651877</td>\n      <td>sex_male</td>\n    </tr>\n    <tr>\n      <th>7</th>\n      <td>0.086032</td>\n      <td>embarked_C</td>\n    </tr>\n    <tr>\n      <th>8</th>\n      <td>0.011647</td>\n      <td>embarked_Q</td>\n    </tr>\n    <tr>\n      <th>9</th>\n      <td>-0.082323</td>\n      <td>embarked_S</td>\n    </tr>\n  </tbody>\n</table>\n</div>"
     },
     "metadata": {},
     "execution_count": 21
    }
   ],
   "source": [
    "pd.DataFrame(zip(model.coef_[0], features), columns=['coef', 'features'])"
   ]
  },
  {
   "cell_type": "code",
   "execution_count": 22,
   "metadata": {},
   "outputs": [
    {
     "output_type": "stream",
     "name": "stdout",
     "text": [
      "Train score\n0.800561797752809\nTest score\n0.8156424581005587\n"
     ]
    }
   ],
   "source": [
    "model_performance(model, train_X, train_y, test_X, test_y)"
   ]
  },
  {
   "cell_type": "code",
   "execution_count": 23,
   "metadata": {},
   "outputs": [
    {
     "output_type": "stream",
     "name": "stdout",
     "text": [
      "Train\nTN: 375, TP: 195, FN: 78, FP: 64\nTest\nTN: 95, TP: 51, FN: 18, FP: 15\n"
     ]
    }
   ],
   "source": [
    "confusion_matrix(model.predict(train_X), train_y, model.predict(test_X), test_y)"
   ]
  },
  {
   "cell_type": "code",
   "execution_count": 24,
   "metadata": {},
   "outputs": [
    {
     "output_type": "execute_result",
     "data": {
      "text/plain": [
       "<sklearn.metrics._plot.roc_curve.RocCurveDisplay at 0x125f35be0>"
      ]
     },
     "metadata": {},
     "execution_count": 24
    },
    {
     "output_type": "display_data",
     "data": {
      "text/plain": "<Figure size 432x288 with 1 Axes>",
      "image/svg+xml": "<?xml version=\"1.0\" encoding=\"utf-8\" standalone=\"no\"?>\n<!DOCTYPE svg PUBLIC \"-//W3C//DTD SVG 1.1//EN\"\n  \"http://www.w3.org/Graphics/SVG/1.1/DTD/svg11.dtd\">\n<!-- Created with matplotlib (https://matplotlib.org/) -->\n<svg height=\"262.19625pt\" version=\"1.1\" viewBox=\"0 0 385.78125 262.19625\" width=\"385.78125pt\" xmlns=\"http://www.w3.org/2000/svg\" xmlns:xlink=\"http://www.w3.org/1999/xlink\">\n <metadata>\n  <rdf:RDF xmlns:cc=\"http://creativecommons.org/ns#\" xmlns:dc=\"http://purl.org/dc/elements/1.1/\" xmlns:rdf=\"http://www.w3.org/1999/02/22-rdf-syntax-ns#\">\n   <cc:Work>\n    <dc:type rdf:resource=\"http://purl.org/dc/dcmitype/StillImage\"/>\n    <dc:date>2021-06-07T11:13:22.125402</dc:date>\n    <dc:format>image/svg+xml</dc:format>\n    <dc:creator>\n     <cc:Agent>\n      <dc:title>Matplotlib v3.3.4, https://matplotlib.org/</dc:title>\n     </cc:Agent>\n    </dc:creator>\n   </cc:Work>\n  </rdf:RDF>\n </metadata>\n <defs>\n  <style type=\"text/css\">*{stroke-linecap:butt;stroke-linejoin:round;}</style>\n </defs>\n <g id=\"figure_1\">\n  <g id=\"patch_1\">\n   <path d=\"M 0 262.19625 \nL 385.78125 262.19625 \nL 385.78125 0 \nL 0 0 \nz\n\" style=\"fill:none;\"/>\n  </g>\n  <g id=\"axes_1\">\n   <g id=\"patch_2\">\n    <path d=\"M 43.78125 224.64 \nL 378.58125 224.64 \nL 378.58125 7.2 \nL 43.78125 7.2 \nz\n\" style=\"fill:#ffffff;\"/>\n   </g>\n   <g id=\"matplotlib.axis_1\">\n    <g id=\"xtick_1\">\n     <g id=\"line2d_1\">\n      <defs>\n       <path d=\"M 0 0 \nL 0 3.5 \n\" id=\"m9b963b4f43\" style=\"stroke:#000000;stroke-width:0.8;\"/>\n      </defs>\n      <g>\n       <use style=\"stroke:#000000;stroke-width:0.8;\" x=\"58.999432\" xlink:href=\"#m9b963b4f43\" y=\"224.64\"/>\n      </g>\n     </g>\n     <g id=\"text_1\">\n      <!-- 0.0 -->\n      <g transform=\"translate(51.047869 239.238437)scale(0.1 -0.1)\">\n       <defs>\n        <path d=\"M 31.78125 66.40625 \nQ 24.171875 66.40625 20.328125 58.90625 \nQ 16.5 51.421875 16.5 36.375 \nQ 16.5 21.390625 20.328125 13.890625 \nQ 24.171875 6.390625 31.78125 6.390625 \nQ 39.453125 6.390625 43.28125 13.890625 \nQ 47.125 21.390625 47.125 36.375 \nQ 47.125 51.421875 43.28125 58.90625 \nQ 39.453125 66.40625 31.78125 66.40625 \nz\nM 31.78125 74.21875 \nQ 44.046875 74.21875 50.515625 64.515625 \nQ 56.984375 54.828125 56.984375 36.375 \nQ 56.984375 17.96875 50.515625 8.265625 \nQ 44.046875 -1.421875 31.78125 -1.421875 \nQ 19.53125 -1.421875 13.0625 8.265625 \nQ 6.59375 17.96875 6.59375 36.375 \nQ 6.59375 54.828125 13.0625 64.515625 \nQ 19.53125 74.21875 31.78125 74.21875 \nz\n\" id=\"DejaVuSans-48\"/>\n        <path d=\"M 10.6875 12.40625 \nL 21 12.40625 \nL 21 0 \nL 10.6875 0 \nz\n\" id=\"DejaVuSans-46\"/>\n       </defs>\n       <use xlink:href=\"#DejaVuSans-48\"/>\n       <use x=\"63.623047\" xlink:href=\"#DejaVuSans-46\"/>\n       <use x=\"95.410156\" xlink:href=\"#DejaVuSans-48\"/>\n      </g>\n     </g>\n    </g>\n    <g id=\"xtick_2\">\n     <g id=\"line2d_2\">\n      <g>\n       <use style=\"stroke:#000000;stroke-width:0.8;\" x=\"119.872159\" xlink:href=\"#m9b963b4f43\" y=\"224.64\"/>\n      </g>\n     </g>\n     <g id=\"text_2\">\n      <!-- 0.2 -->\n      <g transform=\"translate(111.920597 239.238437)scale(0.1 -0.1)\">\n       <defs>\n        <path d=\"M 19.1875 8.296875 \nL 53.609375 8.296875 \nL 53.609375 0 \nL 7.328125 0 \nL 7.328125 8.296875 \nQ 12.9375 14.109375 22.625 23.890625 \nQ 32.328125 33.6875 34.8125 36.53125 \nQ 39.546875 41.84375 41.421875 45.53125 \nQ 43.3125 49.21875 43.3125 52.78125 \nQ 43.3125 58.59375 39.234375 62.25 \nQ 35.15625 65.921875 28.609375 65.921875 \nQ 23.96875 65.921875 18.8125 64.3125 \nQ 13.671875 62.703125 7.8125 59.421875 \nL 7.8125 69.390625 \nQ 13.765625 71.78125 18.9375 73 \nQ 24.125 74.21875 28.421875 74.21875 \nQ 39.75 74.21875 46.484375 68.546875 \nQ 53.21875 62.890625 53.21875 53.421875 \nQ 53.21875 48.921875 51.53125 44.890625 \nQ 49.859375 40.875 45.40625 35.40625 \nQ 44.1875 33.984375 37.640625 27.21875 \nQ 31.109375 20.453125 19.1875 8.296875 \nz\n\" id=\"DejaVuSans-50\"/>\n       </defs>\n       <use xlink:href=\"#DejaVuSans-48\"/>\n       <use x=\"63.623047\" xlink:href=\"#DejaVuSans-46\"/>\n       <use x=\"95.410156\" xlink:href=\"#DejaVuSans-50\"/>\n      </g>\n     </g>\n    </g>\n    <g id=\"xtick_3\">\n     <g id=\"line2d_3\">\n      <g>\n       <use style=\"stroke:#000000;stroke-width:0.8;\" x=\"180.744886\" xlink:href=\"#m9b963b4f43\" y=\"224.64\"/>\n      </g>\n     </g>\n     <g id=\"text_3\">\n      <!-- 0.4 -->\n      <g transform=\"translate(172.793324 239.238437)scale(0.1 -0.1)\">\n       <defs>\n        <path d=\"M 37.796875 64.3125 \nL 12.890625 25.390625 \nL 37.796875 25.390625 \nz\nM 35.203125 72.90625 \nL 47.609375 72.90625 \nL 47.609375 25.390625 \nL 58.015625 25.390625 \nL 58.015625 17.1875 \nL 47.609375 17.1875 \nL 47.609375 0 \nL 37.796875 0 \nL 37.796875 17.1875 \nL 4.890625 17.1875 \nL 4.890625 26.703125 \nz\n\" id=\"DejaVuSans-52\"/>\n       </defs>\n       <use xlink:href=\"#DejaVuSans-48\"/>\n       <use x=\"63.623047\" xlink:href=\"#DejaVuSans-46\"/>\n       <use x=\"95.410156\" xlink:href=\"#DejaVuSans-52\"/>\n      </g>\n     </g>\n    </g>\n    <g id=\"xtick_4\">\n     <g id=\"line2d_4\">\n      <g>\n       <use style=\"stroke:#000000;stroke-width:0.8;\" x=\"241.617614\" xlink:href=\"#m9b963b4f43\" y=\"224.64\"/>\n      </g>\n     </g>\n     <g id=\"text_4\">\n      <!-- 0.6 -->\n      <g transform=\"translate(233.666051 239.238437)scale(0.1 -0.1)\">\n       <defs>\n        <path d=\"M 33.015625 40.375 \nQ 26.375 40.375 22.484375 35.828125 \nQ 18.609375 31.296875 18.609375 23.390625 \nQ 18.609375 15.53125 22.484375 10.953125 \nQ 26.375 6.390625 33.015625 6.390625 \nQ 39.65625 6.390625 43.53125 10.953125 \nQ 47.40625 15.53125 47.40625 23.390625 \nQ 47.40625 31.296875 43.53125 35.828125 \nQ 39.65625 40.375 33.015625 40.375 \nz\nM 52.59375 71.296875 \nL 52.59375 62.3125 \nQ 48.875 64.0625 45.09375 64.984375 \nQ 41.3125 65.921875 37.59375 65.921875 \nQ 27.828125 65.921875 22.671875 59.328125 \nQ 17.53125 52.734375 16.796875 39.40625 \nQ 19.671875 43.65625 24.015625 45.921875 \nQ 28.375 48.1875 33.59375 48.1875 \nQ 44.578125 48.1875 50.953125 41.515625 \nQ 57.328125 34.859375 57.328125 23.390625 \nQ 57.328125 12.15625 50.6875 5.359375 \nQ 44.046875 -1.421875 33.015625 -1.421875 \nQ 20.359375 -1.421875 13.671875 8.265625 \nQ 6.984375 17.96875 6.984375 36.375 \nQ 6.984375 53.65625 15.1875 63.9375 \nQ 23.390625 74.21875 37.203125 74.21875 \nQ 40.921875 74.21875 44.703125 73.484375 \nQ 48.484375 72.75 52.59375 71.296875 \nz\n\" id=\"DejaVuSans-54\"/>\n       </defs>\n       <use xlink:href=\"#DejaVuSans-48\"/>\n       <use x=\"63.623047\" xlink:href=\"#DejaVuSans-46\"/>\n       <use x=\"95.410156\" xlink:href=\"#DejaVuSans-54\"/>\n      </g>\n     </g>\n    </g>\n    <g id=\"xtick_5\">\n     <g id=\"line2d_5\">\n      <g>\n       <use style=\"stroke:#000000;stroke-width:0.8;\" x=\"302.490341\" xlink:href=\"#m9b963b4f43\" y=\"224.64\"/>\n      </g>\n     </g>\n     <g id=\"text_5\">\n      <!-- 0.8 -->\n      <g transform=\"translate(294.538778 239.238437)scale(0.1 -0.1)\">\n       <defs>\n        <path d=\"M 31.78125 34.625 \nQ 24.75 34.625 20.71875 30.859375 \nQ 16.703125 27.09375 16.703125 20.515625 \nQ 16.703125 13.921875 20.71875 10.15625 \nQ 24.75 6.390625 31.78125 6.390625 \nQ 38.8125 6.390625 42.859375 10.171875 \nQ 46.921875 13.96875 46.921875 20.515625 \nQ 46.921875 27.09375 42.890625 30.859375 \nQ 38.875 34.625 31.78125 34.625 \nz\nM 21.921875 38.8125 \nQ 15.578125 40.375 12.03125 44.71875 \nQ 8.5 49.078125 8.5 55.328125 \nQ 8.5 64.0625 14.71875 69.140625 \nQ 20.953125 74.21875 31.78125 74.21875 \nQ 42.671875 74.21875 48.875 69.140625 \nQ 55.078125 64.0625 55.078125 55.328125 \nQ 55.078125 49.078125 51.53125 44.71875 \nQ 48 40.375 41.703125 38.8125 \nQ 48.828125 37.15625 52.796875 32.3125 \nQ 56.78125 27.484375 56.78125 20.515625 \nQ 56.78125 9.90625 50.3125 4.234375 \nQ 43.84375 -1.421875 31.78125 -1.421875 \nQ 19.734375 -1.421875 13.25 4.234375 \nQ 6.78125 9.90625 6.78125 20.515625 \nQ 6.78125 27.484375 10.78125 32.3125 \nQ 14.796875 37.15625 21.921875 38.8125 \nz\nM 18.3125 54.390625 \nQ 18.3125 48.734375 21.84375 45.5625 \nQ 25.390625 42.390625 31.78125 42.390625 \nQ 38.140625 42.390625 41.71875 45.5625 \nQ 45.3125 48.734375 45.3125 54.390625 \nQ 45.3125 60.0625 41.71875 63.234375 \nQ 38.140625 66.40625 31.78125 66.40625 \nQ 25.390625 66.40625 21.84375 63.234375 \nQ 18.3125 60.0625 18.3125 54.390625 \nz\n\" id=\"DejaVuSans-56\"/>\n       </defs>\n       <use xlink:href=\"#DejaVuSans-48\"/>\n       <use x=\"63.623047\" xlink:href=\"#DejaVuSans-46\"/>\n       <use x=\"95.410156\" xlink:href=\"#DejaVuSans-56\"/>\n      </g>\n     </g>\n    </g>\n    <g id=\"xtick_6\">\n     <g id=\"line2d_6\">\n      <g>\n       <use style=\"stroke:#000000;stroke-width:0.8;\" x=\"363.363068\" xlink:href=\"#m9b963b4f43\" y=\"224.64\"/>\n      </g>\n     </g>\n     <g id=\"text_6\">\n      <!-- 1.0 -->\n      <g transform=\"translate(355.411506 239.238437)scale(0.1 -0.1)\">\n       <defs>\n        <path d=\"M 12.40625 8.296875 \nL 28.515625 8.296875 \nL 28.515625 63.921875 \nL 10.984375 60.40625 \nL 10.984375 69.390625 \nL 28.421875 72.90625 \nL 38.28125 72.90625 \nL 38.28125 8.296875 \nL 54.390625 8.296875 \nL 54.390625 0 \nL 12.40625 0 \nz\n\" id=\"DejaVuSans-49\"/>\n       </defs>\n       <use xlink:href=\"#DejaVuSans-49\"/>\n       <use x=\"63.623047\" xlink:href=\"#DejaVuSans-46\"/>\n       <use x=\"95.410156\" xlink:href=\"#DejaVuSans-48\"/>\n      </g>\n     </g>\n    </g>\n    <g id=\"text_7\">\n     <!-- False Positive Rate (Positive label: 1) -->\n     <g transform=\"translate(119.815625 252.916562)scale(0.1 -0.1)\">\n      <defs>\n       <path d=\"M 9.8125 72.90625 \nL 51.703125 72.90625 \nL 51.703125 64.59375 \nL 19.671875 64.59375 \nL 19.671875 43.109375 \nL 48.578125 43.109375 \nL 48.578125 34.8125 \nL 19.671875 34.8125 \nL 19.671875 0 \nL 9.8125 0 \nz\n\" id=\"DejaVuSans-70\"/>\n       <path d=\"M 34.28125 27.484375 \nQ 23.390625 27.484375 19.1875 25 \nQ 14.984375 22.515625 14.984375 16.5 \nQ 14.984375 11.71875 18.140625 8.90625 \nQ 21.296875 6.109375 26.703125 6.109375 \nQ 34.1875 6.109375 38.703125 11.40625 \nQ 43.21875 16.703125 43.21875 25.484375 \nL 43.21875 27.484375 \nz\nM 52.203125 31.203125 \nL 52.203125 0 \nL 43.21875 0 \nL 43.21875 8.296875 \nQ 40.140625 3.328125 35.546875 0.953125 \nQ 30.953125 -1.421875 24.3125 -1.421875 \nQ 15.921875 -1.421875 10.953125 3.296875 \nQ 6 8.015625 6 15.921875 \nQ 6 25.140625 12.171875 29.828125 \nQ 18.359375 34.515625 30.609375 34.515625 \nL 43.21875 34.515625 \nL 43.21875 35.40625 \nQ 43.21875 41.609375 39.140625 45 \nQ 35.0625 48.390625 27.6875 48.390625 \nQ 23 48.390625 18.546875 47.265625 \nQ 14.109375 46.140625 10.015625 43.890625 \nL 10.015625 52.203125 \nQ 14.9375 54.109375 19.578125 55.046875 \nQ 24.21875 56 28.609375 56 \nQ 40.484375 56 46.34375 49.84375 \nQ 52.203125 43.703125 52.203125 31.203125 \nz\n\" id=\"DejaVuSans-97\"/>\n       <path d=\"M 9.421875 75.984375 \nL 18.40625 75.984375 \nL 18.40625 0 \nL 9.421875 0 \nz\n\" id=\"DejaVuSans-108\"/>\n       <path d=\"M 44.28125 53.078125 \nL 44.28125 44.578125 \nQ 40.484375 46.53125 36.375 47.5 \nQ 32.28125 48.484375 27.875 48.484375 \nQ 21.1875 48.484375 17.84375 46.4375 \nQ 14.5 44.390625 14.5 40.28125 \nQ 14.5 37.15625 16.890625 35.375 \nQ 19.28125 33.59375 26.515625 31.984375 \nL 29.59375 31.296875 \nQ 39.15625 29.25 43.1875 25.515625 \nQ 47.21875 21.78125 47.21875 15.09375 \nQ 47.21875 7.46875 41.1875 3.015625 \nQ 35.15625 -1.421875 24.609375 -1.421875 \nQ 20.21875 -1.421875 15.453125 -0.5625 \nQ 10.6875 0.296875 5.421875 2 \nL 5.421875 11.28125 \nQ 10.40625 8.6875 15.234375 7.390625 \nQ 20.0625 6.109375 24.8125 6.109375 \nQ 31.15625 6.109375 34.5625 8.28125 \nQ 37.984375 10.453125 37.984375 14.40625 \nQ 37.984375 18.0625 35.515625 20.015625 \nQ 33.0625 21.96875 24.703125 23.78125 \nL 21.578125 24.515625 \nQ 13.234375 26.265625 9.515625 29.90625 \nQ 5.8125 33.546875 5.8125 39.890625 \nQ 5.8125 47.609375 11.28125 51.796875 \nQ 16.75 56 26.8125 56 \nQ 31.78125 56 36.171875 55.265625 \nQ 40.578125 54.546875 44.28125 53.078125 \nz\n\" id=\"DejaVuSans-115\"/>\n       <path d=\"M 56.203125 29.59375 \nL 56.203125 25.203125 \nL 14.890625 25.203125 \nQ 15.484375 15.921875 20.484375 11.0625 \nQ 25.484375 6.203125 34.421875 6.203125 \nQ 39.59375 6.203125 44.453125 7.46875 \nQ 49.3125 8.734375 54.109375 11.28125 \nL 54.109375 2.78125 \nQ 49.265625 0.734375 44.1875 -0.34375 \nQ 39.109375 -1.421875 33.890625 -1.421875 \nQ 20.796875 -1.421875 13.15625 6.1875 \nQ 5.515625 13.8125 5.515625 26.8125 \nQ 5.515625 40.234375 12.765625 48.109375 \nQ 20.015625 56 32.328125 56 \nQ 43.359375 56 49.78125 48.890625 \nQ 56.203125 41.796875 56.203125 29.59375 \nz\nM 47.21875 32.234375 \nQ 47.125 39.59375 43.09375 43.984375 \nQ 39.0625 48.390625 32.421875 48.390625 \nQ 24.90625 48.390625 20.390625 44.140625 \nQ 15.875 39.890625 15.1875 32.171875 \nz\n\" id=\"DejaVuSans-101\"/>\n       <path id=\"DejaVuSans-32\"/>\n       <path d=\"M 19.671875 64.796875 \nL 19.671875 37.40625 \nL 32.078125 37.40625 \nQ 38.96875 37.40625 42.71875 40.96875 \nQ 46.484375 44.53125 46.484375 51.125 \nQ 46.484375 57.671875 42.71875 61.234375 \nQ 38.96875 64.796875 32.078125 64.796875 \nz\nM 9.8125 72.90625 \nL 32.078125 72.90625 \nQ 44.34375 72.90625 50.609375 67.359375 \nQ 56.890625 61.8125 56.890625 51.125 \nQ 56.890625 40.328125 50.609375 34.8125 \nQ 44.34375 29.296875 32.078125 29.296875 \nL 19.671875 29.296875 \nL 19.671875 0 \nL 9.8125 0 \nz\n\" id=\"DejaVuSans-80\"/>\n       <path d=\"M 30.609375 48.390625 \nQ 23.390625 48.390625 19.1875 42.75 \nQ 14.984375 37.109375 14.984375 27.296875 \nQ 14.984375 17.484375 19.15625 11.84375 \nQ 23.34375 6.203125 30.609375 6.203125 \nQ 37.796875 6.203125 41.984375 11.859375 \nQ 46.1875 17.53125 46.1875 27.296875 \nQ 46.1875 37.015625 41.984375 42.703125 \nQ 37.796875 48.390625 30.609375 48.390625 \nz\nM 30.609375 56 \nQ 42.328125 56 49.015625 48.375 \nQ 55.71875 40.765625 55.71875 27.296875 \nQ 55.71875 13.875 49.015625 6.21875 \nQ 42.328125 -1.421875 30.609375 -1.421875 \nQ 18.84375 -1.421875 12.171875 6.21875 \nQ 5.515625 13.875 5.515625 27.296875 \nQ 5.515625 40.765625 12.171875 48.375 \nQ 18.84375 56 30.609375 56 \nz\n\" id=\"DejaVuSans-111\"/>\n       <path d=\"M 9.421875 54.6875 \nL 18.40625 54.6875 \nL 18.40625 0 \nL 9.421875 0 \nz\nM 9.421875 75.984375 \nL 18.40625 75.984375 \nL 18.40625 64.59375 \nL 9.421875 64.59375 \nz\n\" id=\"DejaVuSans-105\"/>\n       <path d=\"M 18.3125 70.21875 \nL 18.3125 54.6875 \nL 36.8125 54.6875 \nL 36.8125 47.703125 \nL 18.3125 47.703125 \nL 18.3125 18.015625 \nQ 18.3125 11.328125 20.140625 9.421875 \nQ 21.96875 7.515625 27.59375 7.515625 \nL 36.8125 7.515625 \nL 36.8125 0 \nL 27.59375 0 \nQ 17.1875 0 13.234375 3.875 \nQ 9.28125 7.765625 9.28125 18.015625 \nL 9.28125 47.703125 \nL 2.6875 47.703125 \nL 2.6875 54.6875 \nL 9.28125 54.6875 \nL 9.28125 70.21875 \nz\n\" id=\"DejaVuSans-116\"/>\n       <path d=\"M 2.984375 54.6875 \nL 12.5 54.6875 \nL 29.59375 8.796875 \nL 46.6875 54.6875 \nL 56.203125 54.6875 \nL 35.6875 0 \nL 23.484375 0 \nz\n\" id=\"DejaVuSans-118\"/>\n       <path d=\"M 44.390625 34.1875 \nQ 47.5625 33.109375 50.5625 29.59375 \nQ 53.5625 26.078125 56.59375 19.921875 \nL 66.609375 0 \nL 56 0 \nL 46.6875 18.703125 \nQ 43.0625 26.03125 39.671875 28.421875 \nQ 36.28125 30.8125 30.421875 30.8125 \nL 19.671875 30.8125 \nL 19.671875 0 \nL 9.8125 0 \nL 9.8125 72.90625 \nL 32.078125 72.90625 \nQ 44.578125 72.90625 50.734375 67.671875 \nQ 56.890625 62.453125 56.890625 51.90625 \nQ 56.890625 45.015625 53.6875 40.46875 \nQ 50.484375 35.9375 44.390625 34.1875 \nz\nM 19.671875 64.796875 \nL 19.671875 38.921875 \nL 32.078125 38.921875 \nQ 39.203125 38.921875 42.84375 42.21875 \nQ 46.484375 45.515625 46.484375 51.90625 \nQ 46.484375 58.296875 42.84375 61.546875 \nQ 39.203125 64.796875 32.078125 64.796875 \nz\n\" id=\"DejaVuSans-82\"/>\n       <path d=\"M 31 75.875 \nQ 24.46875 64.65625 21.28125 53.65625 \nQ 18.109375 42.671875 18.109375 31.390625 \nQ 18.109375 20.125 21.3125 9.0625 \nQ 24.515625 -2 31 -13.1875 \nL 23.1875 -13.1875 \nQ 15.875 -1.703125 12.234375 9.375 \nQ 8.59375 20.453125 8.59375 31.390625 \nQ 8.59375 42.28125 12.203125 53.3125 \nQ 15.828125 64.359375 23.1875 75.875 \nz\n\" id=\"DejaVuSans-40\"/>\n       <path d=\"M 48.6875 27.296875 \nQ 48.6875 37.203125 44.609375 42.84375 \nQ 40.53125 48.484375 33.40625 48.484375 \nQ 26.265625 48.484375 22.1875 42.84375 \nQ 18.109375 37.203125 18.109375 27.296875 \nQ 18.109375 17.390625 22.1875 11.75 \nQ 26.265625 6.109375 33.40625 6.109375 \nQ 40.53125 6.109375 44.609375 11.75 \nQ 48.6875 17.390625 48.6875 27.296875 \nz\nM 18.109375 46.390625 \nQ 20.953125 51.265625 25.265625 53.625 \nQ 29.59375 56 35.59375 56 \nQ 45.5625 56 51.78125 48.09375 \nQ 58.015625 40.1875 58.015625 27.296875 \nQ 58.015625 14.40625 51.78125 6.484375 \nQ 45.5625 -1.421875 35.59375 -1.421875 \nQ 29.59375 -1.421875 25.265625 0.953125 \nQ 20.953125 3.328125 18.109375 8.203125 \nL 18.109375 0 \nL 9.078125 0 \nL 9.078125 75.984375 \nL 18.109375 75.984375 \nz\n\" id=\"DejaVuSans-98\"/>\n       <path d=\"M 11.71875 12.40625 \nL 22.015625 12.40625 \nL 22.015625 0 \nL 11.71875 0 \nz\nM 11.71875 51.703125 \nL 22.015625 51.703125 \nL 22.015625 39.3125 \nL 11.71875 39.3125 \nz\n\" id=\"DejaVuSans-58\"/>\n       <path d=\"M 8.015625 75.875 \nL 15.828125 75.875 \nQ 23.140625 64.359375 26.78125 53.3125 \nQ 30.421875 42.28125 30.421875 31.390625 \nQ 30.421875 20.453125 26.78125 9.375 \nQ 23.140625 -1.703125 15.828125 -13.1875 \nL 8.015625 -13.1875 \nQ 14.5 -2 17.703125 9.0625 \nQ 20.90625 20.125 20.90625 31.390625 \nQ 20.90625 42.671875 17.703125 53.65625 \nQ 14.5 64.65625 8.015625 75.875 \nz\n\" id=\"DejaVuSans-41\"/>\n      </defs>\n      <use xlink:href=\"#DejaVuSans-70\"/>\n      <use x=\"48.394531\" xlink:href=\"#DejaVuSans-97\"/>\n      <use x=\"109.673828\" xlink:href=\"#DejaVuSans-108\"/>\n      <use x=\"137.457031\" xlink:href=\"#DejaVuSans-115\"/>\n      <use x=\"189.556641\" xlink:href=\"#DejaVuSans-101\"/>\n      <use x=\"251.080078\" xlink:href=\"#DejaVuSans-32\"/>\n      <use x=\"282.867188\" xlink:href=\"#DejaVuSans-80\"/>\n      <use x=\"339.544922\" xlink:href=\"#DejaVuSans-111\"/>\n      <use x=\"400.726562\" xlink:href=\"#DejaVuSans-115\"/>\n      <use x=\"452.826172\" xlink:href=\"#DejaVuSans-105\"/>\n      <use x=\"480.609375\" xlink:href=\"#DejaVuSans-116\"/>\n      <use x=\"519.818359\" xlink:href=\"#DejaVuSans-105\"/>\n      <use x=\"547.601562\" xlink:href=\"#DejaVuSans-118\"/>\n      <use x=\"606.78125\" xlink:href=\"#DejaVuSans-101\"/>\n      <use x=\"668.304688\" xlink:href=\"#DejaVuSans-32\"/>\n      <use x=\"700.091797\" xlink:href=\"#DejaVuSans-82\"/>\n      <use x=\"767.324219\" xlink:href=\"#DejaVuSans-97\"/>\n      <use x=\"828.603516\" xlink:href=\"#DejaVuSans-116\"/>\n      <use x=\"867.8125\" xlink:href=\"#DejaVuSans-101\"/>\n      <use x=\"929.335938\" xlink:href=\"#DejaVuSans-32\"/>\n      <use x=\"961.123047\" xlink:href=\"#DejaVuSans-40\"/>\n      <use x=\"1000.136719\" xlink:href=\"#DejaVuSans-80\"/>\n      <use x=\"1056.814453\" xlink:href=\"#DejaVuSans-111\"/>\n      <use x=\"1117.996094\" xlink:href=\"#DejaVuSans-115\"/>\n      <use x=\"1170.095703\" xlink:href=\"#DejaVuSans-105\"/>\n      <use x=\"1197.878906\" xlink:href=\"#DejaVuSans-116\"/>\n      <use x=\"1237.087891\" xlink:href=\"#DejaVuSans-105\"/>\n      <use x=\"1264.871094\" xlink:href=\"#DejaVuSans-118\"/>\n      <use x=\"1324.050781\" xlink:href=\"#DejaVuSans-101\"/>\n      <use x=\"1385.574219\" xlink:href=\"#DejaVuSans-32\"/>\n      <use x=\"1417.361328\" xlink:href=\"#DejaVuSans-108\"/>\n      <use x=\"1445.144531\" xlink:href=\"#DejaVuSans-97\"/>\n      <use x=\"1506.423828\" xlink:href=\"#DejaVuSans-98\"/>\n      <use x=\"1569.900391\" xlink:href=\"#DejaVuSans-101\"/>\n      <use x=\"1631.423828\" xlink:href=\"#DejaVuSans-108\"/>\n      <use x=\"1659.207031\" xlink:href=\"#DejaVuSans-58\"/>\n      <use x=\"1692.898438\" xlink:href=\"#DejaVuSans-32\"/>\n      <use x=\"1724.685547\" xlink:href=\"#DejaVuSans-49\"/>\n      <use x=\"1788.308594\" xlink:href=\"#DejaVuSans-41\"/>\n     </g>\n    </g>\n   </g>\n   <g id=\"matplotlib.axis_2\">\n    <g id=\"ytick_1\">\n     <g id=\"line2d_7\">\n      <defs>\n       <path d=\"M 0 0 \nL -3.5 0 \n\" id=\"m751cfa02d0\" style=\"stroke:#000000;stroke-width:0.8;\"/>\n      </defs>\n      <g>\n       <use style=\"stroke:#000000;stroke-width:0.8;\" x=\"43.78125\" xlink:href=\"#m751cfa02d0\" y=\"214.756364\"/>\n      </g>\n     </g>\n     <g id=\"text_8\">\n      <!-- 0.0 -->\n      <g transform=\"translate(20.878125 218.555582)scale(0.1 -0.1)\">\n       <use xlink:href=\"#DejaVuSans-48\"/>\n       <use x=\"63.623047\" xlink:href=\"#DejaVuSans-46\"/>\n       <use x=\"95.410156\" xlink:href=\"#DejaVuSans-48\"/>\n      </g>\n     </g>\n    </g>\n    <g id=\"ytick_2\">\n     <g id=\"line2d_8\">\n      <g>\n       <use style=\"stroke:#000000;stroke-width:0.8;\" x=\"43.78125\" xlink:href=\"#m751cfa02d0\" y=\"175.221818\"/>\n      </g>\n     </g>\n     <g id=\"text_9\">\n      <!-- 0.2 -->\n      <g transform=\"translate(20.878125 179.021037)scale(0.1 -0.1)\">\n       <use xlink:href=\"#DejaVuSans-48\"/>\n       <use x=\"63.623047\" xlink:href=\"#DejaVuSans-46\"/>\n       <use x=\"95.410156\" xlink:href=\"#DejaVuSans-50\"/>\n      </g>\n     </g>\n    </g>\n    <g id=\"ytick_3\">\n     <g id=\"line2d_9\">\n      <g>\n       <use style=\"stroke:#000000;stroke-width:0.8;\" x=\"43.78125\" xlink:href=\"#m751cfa02d0\" y=\"135.687273\"/>\n      </g>\n     </g>\n     <g id=\"text_10\">\n      <!-- 0.4 -->\n      <g transform=\"translate(20.878125 139.486491)scale(0.1 -0.1)\">\n       <use xlink:href=\"#DejaVuSans-48\"/>\n       <use x=\"63.623047\" xlink:href=\"#DejaVuSans-46\"/>\n       <use x=\"95.410156\" xlink:href=\"#DejaVuSans-52\"/>\n      </g>\n     </g>\n    </g>\n    <g id=\"ytick_4\">\n     <g id=\"line2d_10\">\n      <g>\n       <use style=\"stroke:#000000;stroke-width:0.8;\" x=\"43.78125\" xlink:href=\"#m751cfa02d0\" y=\"96.152727\"/>\n      </g>\n     </g>\n     <g id=\"text_11\">\n      <!-- 0.6 -->\n      <g transform=\"translate(20.878125 99.951946)scale(0.1 -0.1)\">\n       <use xlink:href=\"#DejaVuSans-48\"/>\n       <use x=\"63.623047\" xlink:href=\"#DejaVuSans-46\"/>\n       <use x=\"95.410156\" xlink:href=\"#DejaVuSans-54\"/>\n      </g>\n     </g>\n    </g>\n    <g id=\"ytick_5\">\n     <g id=\"line2d_11\">\n      <g>\n       <use style=\"stroke:#000000;stroke-width:0.8;\" x=\"43.78125\" xlink:href=\"#m751cfa02d0\" y=\"56.618182\"/>\n      </g>\n     </g>\n     <g id=\"text_12\">\n      <!-- 0.8 -->\n      <g transform=\"translate(20.878125 60.417401)scale(0.1 -0.1)\">\n       <use xlink:href=\"#DejaVuSans-48\"/>\n       <use x=\"63.623047\" xlink:href=\"#DejaVuSans-46\"/>\n       <use x=\"95.410156\" xlink:href=\"#DejaVuSans-56\"/>\n      </g>\n     </g>\n    </g>\n    <g id=\"ytick_6\">\n     <g id=\"line2d_12\">\n      <g>\n       <use style=\"stroke:#000000;stroke-width:0.8;\" x=\"43.78125\" xlink:href=\"#m751cfa02d0\" y=\"17.083636\"/>\n      </g>\n     </g>\n     <g id=\"text_13\">\n      <!-- 1.0 -->\n      <g transform=\"translate(20.878125 20.882855)scale(0.1 -0.1)\">\n       <use xlink:href=\"#DejaVuSans-49\"/>\n       <use x=\"63.623047\" xlink:href=\"#DejaVuSans-46\"/>\n       <use x=\"95.410156\" xlink:href=\"#DejaVuSans-48\"/>\n      </g>\n     </g>\n    </g>\n    <g id=\"text_14\">\n     <!-- True Positive Rate (Positive label: 1) -->\n     <g transform=\"translate(14.798438 205.348906)rotate(-90)scale(0.1 -0.1)\">\n      <defs>\n       <path d=\"M -0.296875 72.90625 \nL 61.375 72.90625 \nL 61.375 64.59375 \nL 35.5 64.59375 \nL 35.5 0 \nL 25.59375 0 \nL 25.59375 64.59375 \nL -0.296875 64.59375 \nz\n\" id=\"DejaVuSans-84\"/>\n       <path d=\"M 41.109375 46.296875 \nQ 39.59375 47.171875 37.8125 47.578125 \nQ 36.03125 48 33.890625 48 \nQ 26.265625 48 22.1875 43.046875 \nQ 18.109375 38.09375 18.109375 28.8125 \nL 18.109375 0 \nL 9.078125 0 \nL 9.078125 54.6875 \nL 18.109375 54.6875 \nL 18.109375 46.1875 \nQ 20.953125 51.171875 25.484375 53.578125 \nQ 30.03125 56 36.53125 56 \nQ 37.453125 56 38.578125 55.875 \nQ 39.703125 55.765625 41.0625 55.515625 \nz\n\" id=\"DejaVuSans-114\"/>\n       <path d=\"M 8.5 21.578125 \nL 8.5 54.6875 \nL 17.484375 54.6875 \nL 17.484375 21.921875 \nQ 17.484375 14.15625 20.5 10.265625 \nQ 23.53125 6.390625 29.59375 6.390625 \nQ 36.859375 6.390625 41.078125 11.03125 \nQ 45.3125 15.671875 45.3125 23.6875 \nL 45.3125 54.6875 \nL 54.296875 54.6875 \nL 54.296875 0 \nL 45.3125 0 \nL 45.3125 8.40625 \nQ 42.046875 3.421875 37.71875 1 \nQ 33.40625 -1.421875 27.6875 -1.421875 \nQ 18.265625 -1.421875 13.375 4.4375 \nQ 8.5 10.296875 8.5 21.578125 \nz\nM 31.109375 56 \nz\n\" id=\"DejaVuSans-117\"/>\n      </defs>\n      <use xlink:href=\"#DejaVuSans-84\"/>\n      <use x=\"46.333984\" xlink:href=\"#DejaVuSans-114\"/>\n      <use x=\"87.447266\" xlink:href=\"#DejaVuSans-117\"/>\n      <use x=\"150.826172\" xlink:href=\"#DejaVuSans-101\"/>\n      <use x=\"212.349609\" xlink:href=\"#DejaVuSans-32\"/>\n      <use x=\"244.136719\" xlink:href=\"#DejaVuSans-80\"/>\n      <use x=\"300.814453\" xlink:href=\"#DejaVuSans-111\"/>\n      <use x=\"361.996094\" xlink:href=\"#DejaVuSans-115\"/>\n      <use x=\"414.095703\" xlink:href=\"#DejaVuSans-105\"/>\n      <use x=\"441.878906\" xlink:href=\"#DejaVuSans-116\"/>\n      <use x=\"481.087891\" xlink:href=\"#DejaVuSans-105\"/>\n      <use x=\"508.871094\" xlink:href=\"#DejaVuSans-118\"/>\n      <use x=\"568.050781\" xlink:href=\"#DejaVuSans-101\"/>\n      <use x=\"629.574219\" xlink:href=\"#DejaVuSans-32\"/>\n      <use x=\"661.361328\" xlink:href=\"#DejaVuSans-82\"/>\n      <use x=\"728.59375\" xlink:href=\"#DejaVuSans-97\"/>\n      <use x=\"789.873047\" xlink:href=\"#DejaVuSans-116\"/>\n      <use x=\"829.082031\" xlink:href=\"#DejaVuSans-101\"/>\n      <use x=\"890.605469\" xlink:href=\"#DejaVuSans-32\"/>\n      <use x=\"922.392578\" xlink:href=\"#DejaVuSans-40\"/>\n      <use x=\"961.40625\" xlink:href=\"#DejaVuSans-80\"/>\n      <use x=\"1018.083984\" xlink:href=\"#DejaVuSans-111\"/>\n      <use x=\"1079.265625\" xlink:href=\"#DejaVuSans-115\"/>\n      <use x=\"1131.365234\" xlink:href=\"#DejaVuSans-105\"/>\n      <use x=\"1159.148438\" xlink:href=\"#DejaVuSans-116\"/>\n      <use x=\"1198.357422\" xlink:href=\"#DejaVuSans-105\"/>\n      <use x=\"1226.140625\" xlink:href=\"#DejaVuSans-118\"/>\n      <use x=\"1285.320312\" xlink:href=\"#DejaVuSans-101\"/>\n      <use x=\"1346.84375\" xlink:href=\"#DejaVuSans-32\"/>\n      <use x=\"1378.630859\" xlink:href=\"#DejaVuSans-108\"/>\n      <use x=\"1406.414062\" xlink:href=\"#DejaVuSans-97\"/>\n      <use x=\"1467.693359\" xlink:href=\"#DejaVuSans-98\"/>\n      <use x=\"1531.169922\" xlink:href=\"#DejaVuSans-101\"/>\n      <use x=\"1592.693359\" xlink:href=\"#DejaVuSans-108\"/>\n      <use x=\"1620.476562\" xlink:href=\"#DejaVuSans-58\"/>\n      <use x=\"1654.167969\" xlink:href=\"#DejaVuSans-32\"/>\n      <use x=\"1685.955078\" xlink:href=\"#DejaVuSans-49\"/>\n      <use x=\"1749.578125\" xlink:href=\"#DejaVuSans-41\"/>\n     </g>\n    </g>\n   </g>\n   <g id=\"line2d_13\">\n    <path clip-path=\"url(#p8bd1bdb910)\" d=\"M 58.999432 214.756364 \nL 58.999432 213.308212 \nL 59.692743 213.308212 \nL 59.692743 187.241479 \nL 60.386054 187.241479 \nL 60.386054 174.208112 \nL 61.079366 174.208112 \nL 61.079366 162.622897 \nL 61.772677 161.898821 \nL 61.772677 155.382138 \nL 62.465988 155.382138 \nL 62.465988 140.176543 \nL 63.159299 140.176543 \nL 63.159299 132.935784 \nL 65.239233 132.935784 \nL 65.239233 130.763556 \nL 65.932544 130.763556 \nL 65.932544 129.315405 \nL 67.319167 129.315405 \nL 67.319167 123.522797 \nL 68.012478 123.522797 \nL 68.012478 119.902418 \nL 69.3991 119.902418 \nL 69.3991 116.282038 \nL 70.092412 116.282038 \nL 70.092412 115.557962 \nL 70.785723 115.557962 \nL 70.785723 112.661658 \nL 71.479034 112.661658 \nL 71.479034 111.213506 \nL 72.865657 111.213506 \nL 72.865657 110.489431 \nL 73.558968 110.489431 \nL 73.558968 107.593127 \nL 74.252279 103.248671 \nL 74.252279 102.524595 \nL 74.94559 102.524595 \nL 74.94559 101.800519 \nL 75.638902 101.800519 \nL 75.638902 101.076444 \nL 76.332213 101.076444 \nL 76.332213 100.352368 \nL 77.025524 100.352368 \nL 77.025524 99.628292 \nL 77.718835 99.628292 \nL 77.718835 98.18014 \nL 78.412147 98.18014 \nL 78.412147 96.007912 \nL 79.105458 96.007912 \nL 79.105458 93.835684 \nL 81.878703 93.835684 \nL 81.878703 91.663457 \nL 83.265325 91.663457 \nL 83.265325 90.215305 \nL 85.345259 90.215305 \nL 85.345259 89.491229 \nL 87.425193 89.491229 \nL 87.425193 88.767153 \nL 88.118504 88.767153 \nL 88.118504 88.043077 \nL 89.505127 88.043077 \nL 89.505127 87.319001 \nL 90.198438 87.319001 \nL 90.198438 86.594925 \nL 90.891749 86.594925 \nL 90.891749 83.698621 \nL 91.58506 83.698621 \nL 91.58506 82.974545 \nL 92.971683 82.974545 \nL 92.971683 82.25047 \nL 94.358305 82.25047 \nL 94.358305 80.802318 \nL 95.744928 80.802318 \nL 95.744928 77.906014 \nL 100.598106 77.906014 \nL 100.598106 77.181938 \nL 101.291418 77.181938 \nL 101.291418 76.457862 \nL 101.984729 76.457862 \nL 101.984729 73.561558 \nL 106.837908 73.561558 \nL 106.837908 71.389331 \nL 110.997775 71.389331 \nL 110.997775 69.941179 \nL 111.691086 69.941179 \nL 111.691086 67.768951 \nL 112.384398 67.768951 \nL 112.384398 63.424496 \nL 113.077709 63.424496 \nL 113.077709 62.70042 \nL 117.237576 62.70042 \nL 117.237576 61.976344 \nL 119.31751 61.976344 \nL 119.31751 61.252268 \nL 122.090755 61.252268 \nL 122.090755 60.528192 \nL 123.477378 60.528192 \nL 123.477378 59.804116 \nL 124.170689 59.804116 \nL 124.864 59.08004 \nL 125.557311 59.08004 \nL 125.557311 58.355964 \nL 126.250623 58.355964 \nL 126.250623 57.631888 \nL 126.943934 57.631888 \nL 126.943934 56.907812 \nL 127.637245 56.183736 \nL 127.637245 55.45966 \nL 137.343602 55.45966 \nL 137.343602 54.011508 \nL 138.730225 54.011508 \nL 138.730225 53.287433 \nL 139.423536 53.287433 \nL 139.423536 52.563357 \nL 140.116847 52.563357 \nL 140.116847 51.839281 \nL 142.196781 51.839281 \nL 142.196781 51.115205 \nL 145.663337 51.115205 \nL 145.663337 50.391129 \nL 148.436582 50.391129 \nL 148.436582 49.667053 \nL 149.129894 49.667053 \nL 149.823205 48.942977 \nL 162.996119 48.942977 \nL 162.996119 47.494825 \nL 168.542608 47.494825 \nL 168.542608 46.770749 \nL 169.23592 46.770749 \nL 170.622542 46.046673 \nL 172.009165 46.046673 \nL 172.009165 45.322597 \nL 174.089098 45.322597 \nL 174.089098 43.874446 \nL 176.169032 43.874446 \nL 176.169032 43.15037 \nL 176.862343 43.15037 \nL 176.862343 41.702218 \nL 181.715522 41.702218 \nL 181.715522 40.978142 \nL 186.568701 40.978142 \nL 187.262012 40.254066 \nL 191.42188 40.254066 \nL 191.42188 39.52999 \nL 193.501813 39.52999 \nL 193.501813 38.805914 \nL 195.581747 38.805914 \nL 195.581747 38.081838 \nL 198.354992 38.081838 \nL 199.048303 37.357762 \nL 203.901482 37.357762 \nL 207.368038 36.633686 \nL 214.301151 36.633686 \nL 214.301151 35.90961 \nL 215.687773 35.90961 \nL 215.687773 35.185534 \nL 231.633932 35.185534 \nL 231.633932 34.461459 \nL 236.48711 34.461459 \nL 241.340289 33.737383 \nL 249.660024 33.737383 \nL 249.660024 32.289231 \nL 253.12658 32.289231 \nL 253.12658 31.565155 \nL 257.979759 31.565155 \nL 259.366381 30.841079 \nL 263.526249 30.841079 \nL 263.526249 30.117003 \nL 264.21956 30.117003 \nL 264.21956 28.668851 \nL 272.539295 28.668851 \nL 272.539295 27.944775 \nL 287.792143 27.944775 \nL 288.485454 27.220699 \nL 298.885122 27.220699 \nL 298.885122 26.496623 \nL 301.658367 26.496623 \nL 301.658367 25.048472 \nL 303.738301 25.048472 \nL 303.738301 23.60032 \nL 304.431612 23.60032 \nL 304.431612 22.876244 \nL 306.511546 22.876244 \nL 306.511546 22.152168 \nL 308.59148 22.152168 \nL 308.59148 21.428092 \nL 314.13797 21.428092 \nL 314.13797 20.704016 \nL 315.524592 20.704016 \nL 316.217904 19.97994 \nL 330.084128 19.97994 \nL 330.77744 19.255864 \nL 330.77744 18.531788 \nL 334.937307 18.531788 \nL 334.937307 17.807712 \nL 341.177108 17.807712 \nL 341.177108 17.083636 \nL 363.363068 17.083636 \nL 363.363068 17.083636 \n\" style=\"fill:none;stroke:#1f77b4;stroke-linecap:square;stroke-width:1.5;\"/>\n   </g>\n   <g id=\"patch_3\">\n    <path d=\"M 43.78125 224.64 \nL 43.78125 7.2 \n\" style=\"fill:none;stroke:#000000;stroke-linecap:square;stroke-linejoin:miter;stroke-width:0.8;\"/>\n   </g>\n   <g id=\"patch_4\">\n    <path d=\"M 378.58125 224.64 \nL 378.58125 7.2 \n\" style=\"fill:none;stroke:#000000;stroke-linecap:square;stroke-linejoin:miter;stroke-width:0.8;\"/>\n   </g>\n   <g id=\"patch_5\">\n    <path d=\"M 43.78125 224.64 \nL 378.58125 224.64 \n\" style=\"fill:none;stroke:#000000;stroke-linecap:square;stroke-linejoin:miter;stroke-width:0.8;\"/>\n   </g>\n   <g id=\"patch_6\">\n    <path d=\"M 43.78125 7.2 \nL 378.58125 7.2 \n\" style=\"fill:none;stroke:#000000;stroke-linecap:square;stroke-linejoin:miter;stroke-width:0.8;\"/>\n   </g>\n   <g id=\"legend_1\">\n    <g id=\"patch_7\">\n     <path d=\"M 177.715625 219.64 \nL 371.58125 219.64 \nQ 373.58125 219.64 373.58125 217.64 \nL 373.58125 203.961875 \nQ 373.58125 201.961875 371.58125 201.961875 \nL 177.715625 201.961875 \nQ 175.715625 201.961875 175.715625 203.961875 \nL 175.715625 217.64 \nQ 175.715625 219.64 177.715625 219.64 \nz\n\" style=\"fill:#ffffff;opacity:0.8;stroke:#cccccc;stroke-linejoin:miter;\"/>\n    </g>\n    <g id=\"line2d_14\">\n     <path d=\"M 179.715625 210.060312 \nL 199.715625 210.060312 \n\" style=\"fill:none;stroke:#1f77b4;stroke-linecap:square;stroke-width:1.5;\"/>\n    </g>\n    <g id=\"line2d_15\"/>\n    <g id=\"text_15\">\n     <!-- LogisticRegression (AUC = 0.85) -->\n     <g transform=\"translate(207.715625 213.560312)scale(0.1 -0.1)\">\n      <defs>\n       <path d=\"M 9.8125 72.90625 \nL 19.671875 72.90625 \nL 19.671875 8.296875 \nL 55.171875 8.296875 \nL 55.171875 0 \nL 9.8125 0 \nz\n\" id=\"DejaVuSans-76\"/>\n       <path d=\"M 45.40625 27.984375 \nQ 45.40625 37.75 41.375 43.109375 \nQ 37.359375 48.484375 30.078125 48.484375 \nQ 22.859375 48.484375 18.828125 43.109375 \nQ 14.796875 37.75 14.796875 27.984375 \nQ 14.796875 18.265625 18.828125 12.890625 \nQ 22.859375 7.515625 30.078125 7.515625 \nQ 37.359375 7.515625 41.375 12.890625 \nQ 45.40625 18.265625 45.40625 27.984375 \nz\nM 54.390625 6.78125 \nQ 54.390625 -7.171875 48.1875 -13.984375 \nQ 42 -20.796875 29.203125 -20.796875 \nQ 24.46875 -20.796875 20.265625 -20.09375 \nQ 16.0625 -19.390625 12.109375 -17.921875 \nL 12.109375 -9.1875 \nQ 16.0625 -11.328125 19.921875 -12.34375 \nQ 23.78125 -13.375 27.78125 -13.375 \nQ 36.625 -13.375 41.015625 -8.765625 \nQ 45.40625 -4.15625 45.40625 5.171875 \nL 45.40625 9.625 \nQ 42.625 4.78125 38.28125 2.390625 \nQ 33.9375 0 27.875 0 \nQ 17.828125 0 11.671875 7.65625 \nQ 5.515625 15.328125 5.515625 27.984375 \nQ 5.515625 40.671875 11.671875 48.328125 \nQ 17.828125 56 27.875 56 \nQ 33.9375 56 38.28125 53.609375 \nQ 42.625 51.21875 45.40625 46.390625 \nL 45.40625 54.6875 \nL 54.390625 54.6875 \nz\n\" id=\"DejaVuSans-103\"/>\n       <path d=\"M 48.78125 52.59375 \nL 48.78125 44.1875 \nQ 44.96875 46.296875 41.140625 47.34375 \nQ 37.3125 48.390625 33.40625 48.390625 \nQ 24.65625 48.390625 19.8125 42.84375 \nQ 14.984375 37.3125 14.984375 27.296875 \nQ 14.984375 17.28125 19.8125 11.734375 \nQ 24.65625 6.203125 33.40625 6.203125 \nQ 37.3125 6.203125 41.140625 7.25 \nQ 44.96875 8.296875 48.78125 10.40625 \nL 48.78125 2.09375 \nQ 45.015625 0.34375 40.984375 -0.53125 \nQ 36.96875 -1.421875 32.421875 -1.421875 \nQ 20.0625 -1.421875 12.78125 6.34375 \nQ 5.515625 14.109375 5.515625 27.296875 \nQ 5.515625 40.671875 12.859375 48.328125 \nQ 20.21875 56 33.015625 56 \nQ 37.15625 56 41.109375 55.140625 \nQ 45.0625 54.296875 48.78125 52.59375 \nz\n\" id=\"DejaVuSans-99\"/>\n       <path d=\"M 54.890625 33.015625 \nL 54.890625 0 \nL 45.90625 0 \nL 45.90625 32.71875 \nQ 45.90625 40.484375 42.875 44.328125 \nQ 39.84375 48.1875 33.796875 48.1875 \nQ 26.515625 48.1875 22.3125 43.546875 \nQ 18.109375 38.921875 18.109375 30.90625 \nL 18.109375 0 \nL 9.078125 0 \nL 9.078125 54.6875 \nL 18.109375 54.6875 \nL 18.109375 46.1875 \nQ 21.34375 51.125 25.703125 53.5625 \nQ 30.078125 56 35.796875 56 \nQ 45.21875 56 50.046875 50.171875 \nQ 54.890625 44.34375 54.890625 33.015625 \nz\n\" id=\"DejaVuSans-110\"/>\n       <path d=\"M 34.1875 63.1875 \nL 20.796875 26.90625 \nL 47.609375 26.90625 \nz\nM 28.609375 72.90625 \nL 39.796875 72.90625 \nL 67.578125 0 \nL 57.328125 0 \nL 50.6875 18.703125 \nL 17.828125 18.703125 \nL 11.1875 0 \nL 0.78125 0 \nz\n\" id=\"DejaVuSans-65\"/>\n       <path d=\"M 8.6875 72.90625 \nL 18.609375 72.90625 \nL 18.609375 28.609375 \nQ 18.609375 16.890625 22.84375 11.734375 \nQ 27.09375 6.59375 36.625 6.59375 \nQ 46.09375 6.59375 50.34375 11.734375 \nQ 54.59375 16.890625 54.59375 28.609375 \nL 54.59375 72.90625 \nL 64.5 72.90625 \nL 64.5 27.390625 \nQ 64.5 13.140625 57.4375 5.859375 \nQ 50.390625 -1.421875 36.625 -1.421875 \nQ 22.796875 -1.421875 15.734375 5.859375 \nQ 8.6875 13.140625 8.6875 27.390625 \nz\n\" id=\"DejaVuSans-85\"/>\n       <path d=\"M 64.40625 67.28125 \nL 64.40625 56.890625 \nQ 59.421875 61.53125 53.78125 63.8125 \nQ 48.140625 66.109375 41.796875 66.109375 \nQ 29.296875 66.109375 22.65625 58.46875 \nQ 16.015625 50.828125 16.015625 36.375 \nQ 16.015625 21.96875 22.65625 14.328125 \nQ 29.296875 6.6875 41.796875 6.6875 \nQ 48.140625 6.6875 53.78125 8.984375 \nQ 59.421875 11.28125 64.40625 15.921875 \nL 64.40625 5.609375 \nQ 59.234375 2.09375 53.4375 0.328125 \nQ 47.65625 -1.421875 41.21875 -1.421875 \nQ 24.65625 -1.421875 15.125 8.703125 \nQ 5.609375 18.84375 5.609375 36.375 \nQ 5.609375 53.953125 15.125 64.078125 \nQ 24.65625 74.21875 41.21875 74.21875 \nQ 47.75 74.21875 53.53125 72.484375 \nQ 59.328125 70.75 64.40625 67.28125 \nz\n\" id=\"DejaVuSans-67\"/>\n       <path d=\"M 10.59375 45.40625 \nL 73.1875 45.40625 \nL 73.1875 37.203125 \nL 10.59375 37.203125 \nz\nM 10.59375 25.484375 \nL 73.1875 25.484375 \nL 73.1875 17.1875 \nL 10.59375 17.1875 \nz\n\" id=\"DejaVuSans-61\"/>\n       <path d=\"M 10.796875 72.90625 \nL 49.515625 72.90625 \nL 49.515625 64.59375 \nL 19.828125 64.59375 \nL 19.828125 46.734375 \nQ 21.96875 47.46875 24.109375 47.828125 \nQ 26.265625 48.1875 28.421875 48.1875 \nQ 40.625 48.1875 47.75 41.5 \nQ 54.890625 34.8125 54.890625 23.390625 \nQ 54.890625 11.625 47.5625 5.09375 \nQ 40.234375 -1.421875 26.90625 -1.421875 \nQ 22.3125 -1.421875 17.546875 -0.640625 \nQ 12.796875 0.140625 7.71875 1.703125 \nL 7.71875 11.625 \nQ 12.109375 9.234375 16.796875 8.0625 \nQ 21.484375 6.890625 26.703125 6.890625 \nQ 35.15625 6.890625 40.078125 11.328125 \nQ 45.015625 15.765625 45.015625 23.390625 \nQ 45.015625 31 40.078125 35.4375 \nQ 35.15625 39.890625 26.703125 39.890625 \nQ 22.75 39.890625 18.8125 39.015625 \nQ 14.890625 38.140625 10.796875 36.28125 \nz\n\" id=\"DejaVuSans-53\"/>\n      </defs>\n      <use xlink:href=\"#DejaVuSans-76\"/>\n      <use x=\"53.962891\" xlink:href=\"#DejaVuSans-111\"/>\n      <use x=\"115.144531\" xlink:href=\"#DejaVuSans-103\"/>\n      <use x=\"178.621094\" xlink:href=\"#DejaVuSans-105\"/>\n      <use x=\"206.404297\" xlink:href=\"#DejaVuSans-115\"/>\n      <use x=\"258.503906\" xlink:href=\"#DejaVuSans-116\"/>\n      <use x=\"297.712891\" xlink:href=\"#DejaVuSans-105\"/>\n      <use x=\"325.496094\" xlink:href=\"#DejaVuSans-99\"/>\n      <use x=\"380.476562\" xlink:href=\"#DejaVuSans-82\"/>\n      <use x=\"445.458984\" xlink:href=\"#DejaVuSans-101\"/>\n      <use x=\"506.982422\" xlink:href=\"#DejaVuSans-103\"/>\n      <use x=\"570.458984\" xlink:href=\"#DejaVuSans-114\"/>\n      <use x=\"609.322266\" xlink:href=\"#DejaVuSans-101\"/>\n      <use x=\"670.845703\" xlink:href=\"#DejaVuSans-115\"/>\n      <use x=\"722.945312\" xlink:href=\"#DejaVuSans-115\"/>\n      <use x=\"775.044922\" xlink:href=\"#DejaVuSans-105\"/>\n      <use x=\"802.828125\" xlink:href=\"#DejaVuSans-111\"/>\n      <use x=\"864.009766\" xlink:href=\"#DejaVuSans-110\"/>\n      <use x=\"927.388672\" xlink:href=\"#DejaVuSans-32\"/>\n      <use x=\"959.175781\" xlink:href=\"#DejaVuSans-40\"/>\n      <use x=\"998.189453\" xlink:href=\"#DejaVuSans-65\"/>\n      <use x=\"1066.597656\" xlink:href=\"#DejaVuSans-85\"/>\n      <use x=\"1139.791016\" xlink:href=\"#DejaVuSans-67\"/>\n      <use x=\"1209.615234\" xlink:href=\"#DejaVuSans-32\"/>\n      <use x=\"1241.402344\" xlink:href=\"#DejaVuSans-61\"/>\n      <use x=\"1325.191406\" xlink:href=\"#DejaVuSans-32\"/>\n      <use x=\"1356.978516\" xlink:href=\"#DejaVuSans-48\"/>\n      <use x=\"1420.601562\" xlink:href=\"#DejaVuSans-46\"/>\n      <use x=\"1452.388672\" xlink:href=\"#DejaVuSans-56\"/>\n      <use x=\"1516.011719\" xlink:href=\"#DejaVuSans-53\"/>\n      <use x=\"1579.634766\" xlink:href=\"#DejaVuSans-41\"/>\n     </g>\n    </g>\n   </g>\n  </g>\n </g>\n <defs>\n  <clipPath id=\"p8bd1bdb910\">\n   <rect height=\"217.44\" width=\"334.8\" x=\"43.78125\" y=\"7.2\"/>\n  </clipPath>\n </defs>\n</svg>\n",
      "image/png": "[encoded data removed]"
     },
     "metadata": {
      "needs_background": "light"
     }
    },
    {
     "output_type": "display_data",
     "data": {
      "text/plain": "<Figure size 432x288 with 1 Axes>",
      "image/svg+xml": "<?xml version=\"1.0\" encoding=\"utf-8\" standalone=\"no\"?>\n<!DOCTYPE svg PUBLIC \"-//W3C//DTD SVG 1.1//EN\"\n  \"http://www.w3.org/Graphics/SVG/1.1/DTD/svg11.dtd\">\n<!-- Created with matplotlib (https://matplotlib.org/) -->\n<svg height=\"262.19625pt\" version=\"1.1\" viewBox=\"0 0 385.78125 262.19625\" width=\"385.78125pt\" xmlns=\"http://www.w3.org/2000/svg\" xmlns:xlink=\"http://www.w3.org/1999/xlink\">\n <metadata>\n  <rdf:RDF xmlns:cc=\"http://creativecommons.org/ns#\" xmlns:dc=\"http://purl.org/dc/elements/1.1/\" xmlns:rdf=\"http://www.w3.org/1999/02/22-rdf-syntax-ns#\">\n   <cc:Work>\n    <dc:type rdf:resource=\"http://purl.org/dc/dcmitype/StillImage\"/>\n    <dc:date>2021-06-07T11:13:22.413883</dc:date>\n    <dc:format>image/svg+xml</dc:format>\n    <dc:creator>\n     <cc:Agent>\n      <dc:title>Matplotlib v3.3.4, https://matplotlib.org/</dc:title>\n     </cc:Agent>\n    </dc:creator>\n   </cc:Work>\n  </rdf:RDF>\n </metadata>\n <defs>\n  <style type=\"text/css\">*{stroke-linecap:butt;stroke-linejoin:round;}</style>\n </defs>\n <g id=\"figure_1\">\n  <g id=\"patch_1\">\n   <path d=\"M 0 262.19625 \nL 385.78125 262.19625 \nL 385.78125 0 \nL 0 0 \nz\n\" style=\"fill:none;\"/>\n  </g>\n  <g id=\"axes_1\">\n   <g id=\"patch_2\">\n    <path d=\"M 43.78125 224.64 \nL 378.58125 224.64 \nL 378.58125 7.2 \nL 43.78125 7.2 \nz\n\" style=\"fill:#ffffff;\"/>\n   </g>\n   <g id=\"matplotlib.axis_1\">\n    <g id=\"xtick_1\">\n     <g id=\"line2d_1\">\n      <defs>\n       <path d=\"M 0 0 \nL 0 3.5 \n\" id=\"mf5d0bf1e48\" style=\"stroke:#000000;stroke-width:0.8;\"/>\n      </defs>\n      <g>\n       <use style=\"stroke:#000000;stroke-width:0.8;\" x=\"58.999432\" xlink:href=\"#mf5d0bf1e48\" y=\"224.64\"/>\n      </g>\n     </g>\n     <g id=\"text_1\">\n      <!-- 0.0 -->\n      <g transform=\"translate(51.047869 239.238437)scale(0.1 -0.1)\">\n       <defs>\n        <path d=\"M 31.78125 66.40625 \nQ 24.171875 66.40625 20.328125 58.90625 \nQ 16.5 51.421875 16.5 36.375 \nQ 16.5 21.390625 20.328125 13.890625 \nQ 24.171875 6.390625 31.78125 6.390625 \nQ 39.453125 6.390625 43.28125 13.890625 \nQ 47.125 21.390625 47.125 36.375 \nQ 47.125 51.421875 43.28125 58.90625 \nQ 39.453125 66.40625 31.78125 66.40625 \nz\nM 31.78125 74.21875 \nQ 44.046875 74.21875 50.515625 64.515625 \nQ 56.984375 54.828125 56.984375 36.375 \nQ 56.984375 17.96875 50.515625 8.265625 \nQ 44.046875 -1.421875 31.78125 -1.421875 \nQ 19.53125 -1.421875 13.0625 8.265625 \nQ 6.59375 17.96875 6.59375 36.375 \nQ 6.59375 54.828125 13.0625 64.515625 \nQ 19.53125 74.21875 31.78125 74.21875 \nz\n\" id=\"DejaVuSans-48\"/>\n        <path d=\"M 10.6875 12.40625 \nL 21 12.40625 \nL 21 0 \nL 10.6875 0 \nz\n\" id=\"DejaVuSans-46\"/>\n       </defs>\n       <use xlink:href=\"#DejaVuSans-48\"/>\n       <use x=\"63.623047\" xlink:href=\"#DejaVuSans-46\"/>\n       <use x=\"95.410156\" xlink:href=\"#DejaVuSans-48\"/>\n      </g>\n     </g>\n    </g>\n    <g id=\"xtick_2\">\n     <g id=\"line2d_2\">\n      <g>\n       <use style=\"stroke:#000000;stroke-width:0.8;\" x=\"119.872159\" xlink:href=\"#mf5d0bf1e48\" y=\"224.64\"/>\n      </g>\n     </g>\n     <g id=\"text_2\">\n      <!-- 0.2 -->\n      <g transform=\"translate(111.920597 239.238437)scale(0.1 -0.1)\">\n       <defs>\n        <path d=\"M 19.1875 8.296875 \nL 53.609375 8.296875 \nL 53.609375 0 \nL 7.328125 0 \nL 7.328125 8.296875 \nQ 12.9375 14.109375 22.625 23.890625 \nQ 32.328125 33.6875 34.8125 36.53125 \nQ 39.546875 41.84375 41.421875 45.53125 \nQ 43.3125 49.21875 43.3125 52.78125 \nQ 43.3125 58.59375 39.234375 62.25 \nQ 35.15625 65.921875 28.609375 65.921875 \nQ 23.96875 65.921875 18.8125 64.3125 \nQ 13.671875 62.703125 7.8125 59.421875 \nL 7.8125 69.390625 \nQ 13.765625 71.78125 18.9375 73 \nQ 24.125 74.21875 28.421875 74.21875 \nQ 39.75 74.21875 46.484375 68.546875 \nQ 53.21875 62.890625 53.21875 53.421875 \nQ 53.21875 48.921875 51.53125 44.890625 \nQ 49.859375 40.875 45.40625 35.40625 \nQ 44.1875 33.984375 37.640625 27.21875 \nQ 31.109375 20.453125 19.1875 8.296875 \nz\n\" id=\"DejaVuSans-50\"/>\n       </defs>\n       <use xlink:href=\"#DejaVuSans-48\"/>\n       <use x=\"63.623047\" xlink:href=\"#DejaVuSans-46\"/>\n       <use x=\"95.410156\" xlink:href=\"#DejaVuSans-50\"/>\n      </g>\n     </g>\n    </g>\n    <g id=\"xtick_3\">\n     <g id=\"line2d_3\">\n      <g>\n       <use style=\"stroke:#000000;stroke-width:0.8;\" x=\"180.744886\" xlink:href=\"#mf5d0bf1e48\" y=\"224.64\"/>\n      </g>\n     </g>\n     <g id=\"text_3\">\n      <!-- 0.4 -->\n      <g transform=\"translate(172.793324 239.238437)scale(0.1 -0.1)\">\n       <defs>\n        <path d=\"M 37.796875 64.3125 \nL 12.890625 25.390625 \nL 37.796875 25.390625 \nz\nM 35.203125 72.90625 \nL 47.609375 72.90625 \nL 47.609375 25.390625 \nL 58.015625 25.390625 \nL 58.015625 17.1875 \nL 47.609375 17.1875 \nL 47.609375 0 \nL 37.796875 0 \nL 37.796875 17.1875 \nL 4.890625 17.1875 \nL 4.890625 26.703125 \nz\n\" id=\"DejaVuSans-52\"/>\n       </defs>\n       <use xlink:href=\"#DejaVuSans-48\"/>\n       <use x=\"63.623047\" xlink:href=\"#DejaVuSans-46\"/>\n       <use x=\"95.410156\" xlink:href=\"#DejaVuSans-52\"/>\n      </g>\n     </g>\n    </g>\n    <g id=\"xtick_4\">\n     <g id=\"line2d_4\">\n      <g>\n       <use style=\"stroke:#000000;stroke-width:0.8;\" x=\"241.617614\" xlink:href=\"#mf5d0bf1e48\" y=\"224.64\"/>\n      </g>\n     </g>\n     <g id=\"text_4\">\n      <!-- 0.6 -->\n      <g transform=\"translate(233.666051 239.238437)scale(0.1 -0.1)\">\n       <defs>\n        <path d=\"M 33.015625 40.375 \nQ 26.375 40.375 22.484375 35.828125 \nQ 18.609375 31.296875 18.609375 23.390625 \nQ 18.609375 15.53125 22.484375 10.953125 \nQ 26.375 6.390625 33.015625 6.390625 \nQ 39.65625 6.390625 43.53125 10.953125 \nQ 47.40625 15.53125 47.40625 23.390625 \nQ 47.40625 31.296875 43.53125 35.828125 \nQ 39.65625 40.375 33.015625 40.375 \nz\nM 52.59375 71.296875 \nL 52.59375 62.3125 \nQ 48.875 64.0625 45.09375 64.984375 \nQ 41.3125 65.921875 37.59375 65.921875 \nQ 27.828125 65.921875 22.671875 59.328125 \nQ 17.53125 52.734375 16.796875 39.40625 \nQ 19.671875 43.65625 24.015625 45.921875 \nQ 28.375 48.1875 33.59375 48.1875 \nQ 44.578125 48.1875 50.953125 41.515625 \nQ 57.328125 34.859375 57.328125 23.390625 \nQ 57.328125 12.15625 50.6875 5.359375 \nQ 44.046875 -1.421875 33.015625 -1.421875 \nQ 20.359375 -1.421875 13.671875 8.265625 \nQ 6.984375 17.96875 6.984375 36.375 \nQ 6.984375 53.65625 15.1875 63.9375 \nQ 23.390625 74.21875 37.203125 74.21875 \nQ 40.921875 74.21875 44.703125 73.484375 \nQ 48.484375 72.75 52.59375 71.296875 \nz\n\" id=\"DejaVuSans-54\"/>\n       </defs>\n       <use xlink:href=\"#DejaVuSans-48\"/>\n       <use x=\"63.623047\" xlink:href=\"#DejaVuSans-46\"/>\n       <use x=\"95.410156\" xlink:href=\"#DejaVuSans-54\"/>\n      </g>\n     </g>\n    </g>\n    <g id=\"xtick_5\">\n     <g id=\"line2d_5\">\n      <g>\n       <use style=\"stroke:#000000;stroke-width:0.8;\" x=\"302.490341\" xlink:href=\"#mf5d0bf1e48\" y=\"224.64\"/>\n      </g>\n     </g>\n     <g id=\"text_5\">\n      <!-- 0.8 -->\n      <g transform=\"translate(294.538778 239.238437)scale(0.1 -0.1)\">\n       <defs>\n        <path d=\"M 31.78125 34.625 \nQ 24.75 34.625 20.71875 30.859375 \nQ 16.703125 27.09375 16.703125 20.515625 \nQ 16.703125 13.921875 20.71875 10.15625 \nQ 24.75 6.390625 31.78125 6.390625 \nQ 38.8125 6.390625 42.859375 10.171875 \nQ 46.921875 13.96875 46.921875 20.515625 \nQ 46.921875 27.09375 42.890625 30.859375 \nQ 38.875 34.625 31.78125 34.625 \nz\nM 21.921875 38.8125 \nQ 15.578125 40.375 12.03125 44.71875 \nQ 8.5 49.078125 8.5 55.328125 \nQ 8.5 64.0625 14.71875 69.140625 \nQ 20.953125 74.21875 31.78125 74.21875 \nQ 42.671875 74.21875 48.875 69.140625 \nQ 55.078125 64.0625 55.078125 55.328125 \nQ 55.078125 49.078125 51.53125 44.71875 \nQ 48 40.375 41.703125 38.8125 \nQ 48.828125 37.15625 52.796875 32.3125 \nQ 56.78125 27.484375 56.78125 20.515625 \nQ 56.78125 9.90625 50.3125 4.234375 \nQ 43.84375 -1.421875 31.78125 -1.421875 \nQ 19.734375 -1.421875 13.25 4.234375 \nQ 6.78125 9.90625 6.78125 20.515625 \nQ 6.78125 27.484375 10.78125 32.3125 \nQ 14.796875 37.15625 21.921875 38.8125 \nz\nM 18.3125 54.390625 \nQ 18.3125 48.734375 21.84375 45.5625 \nQ 25.390625 42.390625 31.78125 42.390625 \nQ 38.140625 42.390625 41.71875 45.5625 \nQ 45.3125 48.734375 45.3125 54.390625 \nQ 45.3125 60.0625 41.71875 63.234375 \nQ 38.140625 66.40625 31.78125 66.40625 \nQ 25.390625 66.40625 21.84375 63.234375 \nQ 18.3125 60.0625 18.3125 54.390625 \nz\n\" id=\"DejaVuSans-56\"/>\n       </defs>\n       <use xlink:href=\"#DejaVuSans-48\"/>\n       <use x=\"63.623047\" xlink:href=\"#DejaVuSans-46\"/>\n       <use x=\"95.410156\" xlink:href=\"#DejaVuSans-56\"/>\n      </g>\n     </g>\n    </g>\n    <g id=\"xtick_6\">\n     <g id=\"line2d_6\">\n      <g>\n       <use style=\"stroke:#000000;stroke-width:0.8;\" x=\"363.363068\" xlink:href=\"#mf5d0bf1e48\" y=\"224.64\"/>\n      </g>\n     </g>\n     <g id=\"text_6\">\n      <!-- 1.0 -->\n      <g transform=\"translate(355.411506 239.238437)scale(0.1 -0.1)\">\n       <defs>\n        <path d=\"M 12.40625 8.296875 \nL 28.515625 8.296875 \nL 28.515625 63.921875 \nL 10.984375 60.40625 \nL 10.984375 69.390625 \nL 28.421875 72.90625 \nL 38.28125 72.90625 \nL 38.28125 8.296875 \nL 54.390625 8.296875 \nL 54.390625 0 \nL 12.40625 0 \nz\n\" id=\"DejaVuSans-49\"/>\n       </defs>\n       <use xlink:href=\"#DejaVuSans-49\"/>\n       <use x=\"63.623047\" xlink:href=\"#DejaVuSans-46\"/>\n       <use x=\"95.410156\" xlink:href=\"#DejaVuSans-48\"/>\n      </g>\n     </g>\n    </g>\n    <g id=\"text_7\">\n     <!-- False Positive Rate (Positive label: 1) -->\n     <g transform=\"translate(119.815625 252.916562)scale(0.1 -0.1)\">\n      <defs>\n       <path d=\"M 9.8125 72.90625 \nL 51.703125 72.90625 \nL 51.703125 64.59375 \nL 19.671875 64.59375 \nL 19.671875 43.109375 \nL 48.578125 43.109375 \nL 48.578125 34.8125 \nL 19.671875 34.8125 \nL 19.671875 0 \nL 9.8125 0 \nz\n\" id=\"DejaVuSans-70\"/>\n       <path d=\"M 34.28125 27.484375 \nQ 23.390625 27.484375 19.1875 25 \nQ 14.984375 22.515625 14.984375 16.5 \nQ 14.984375 11.71875 18.140625 8.90625 \nQ 21.296875 6.109375 26.703125 6.109375 \nQ 34.1875 6.109375 38.703125 11.40625 \nQ 43.21875 16.703125 43.21875 25.484375 \nL 43.21875 27.484375 \nz\nM 52.203125 31.203125 \nL 52.203125 0 \nL 43.21875 0 \nL 43.21875 8.296875 \nQ 40.140625 3.328125 35.546875 0.953125 \nQ 30.953125 -1.421875 24.3125 -1.421875 \nQ 15.921875 -1.421875 10.953125 3.296875 \nQ 6 8.015625 6 15.921875 \nQ 6 25.140625 12.171875 29.828125 \nQ 18.359375 34.515625 30.609375 34.515625 \nL 43.21875 34.515625 \nL 43.21875 35.40625 \nQ 43.21875 41.609375 39.140625 45 \nQ 35.0625 48.390625 27.6875 48.390625 \nQ 23 48.390625 18.546875 47.265625 \nQ 14.109375 46.140625 10.015625 43.890625 \nL 10.015625 52.203125 \nQ 14.9375 54.109375 19.578125 55.046875 \nQ 24.21875 56 28.609375 56 \nQ 40.484375 56 46.34375 49.84375 \nQ 52.203125 43.703125 52.203125 31.203125 \nz\n\" id=\"DejaVuSans-97\"/>\n       <path d=\"M 9.421875 75.984375 \nL 18.40625 75.984375 \nL 18.40625 0 \nL 9.421875 0 \nz\n\" id=\"DejaVuSans-108\"/>\n       <path d=\"M 44.28125 53.078125 \nL 44.28125 44.578125 \nQ 40.484375 46.53125 36.375 47.5 \nQ 32.28125 48.484375 27.875 48.484375 \nQ 21.1875 48.484375 17.84375 46.4375 \nQ 14.5 44.390625 14.5 40.28125 \nQ 14.5 37.15625 16.890625 35.375 \nQ 19.28125 33.59375 26.515625 31.984375 \nL 29.59375 31.296875 \nQ 39.15625 29.25 43.1875 25.515625 \nQ 47.21875 21.78125 47.21875 15.09375 \nQ 47.21875 7.46875 41.1875 3.015625 \nQ 35.15625 -1.421875 24.609375 -1.421875 \nQ 20.21875 -1.421875 15.453125 -0.5625 \nQ 10.6875 0.296875 5.421875 2 \nL 5.421875 11.28125 \nQ 10.40625 8.6875 15.234375 7.390625 \nQ 20.0625 6.109375 24.8125 6.109375 \nQ 31.15625 6.109375 34.5625 8.28125 \nQ 37.984375 10.453125 37.984375 14.40625 \nQ 37.984375 18.0625 35.515625 20.015625 \nQ 33.0625 21.96875 24.703125 23.78125 \nL 21.578125 24.515625 \nQ 13.234375 26.265625 9.515625 29.90625 \nQ 5.8125 33.546875 5.8125 39.890625 \nQ 5.8125 47.609375 11.28125 51.796875 \nQ 16.75 56 26.8125 56 \nQ 31.78125 56 36.171875 55.265625 \nQ 40.578125 54.546875 44.28125 53.078125 \nz\n\" id=\"DejaVuSans-115\"/>\n       <path d=\"M 56.203125 29.59375 \nL 56.203125 25.203125 \nL 14.890625 25.203125 \nQ 15.484375 15.921875 20.484375 11.0625 \nQ 25.484375 6.203125 34.421875 6.203125 \nQ 39.59375 6.203125 44.453125 7.46875 \nQ 49.3125 8.734375 54.109375 11.28125 \nL 54.109375 2.78125 \nQ 49.265625 0.734375 44.1875 -0.34375 \nQ 39.109375 -1.421875 33.890625 -1.421875 \nQ 20.796875 -1.421875 13.15625 6.1875 \nQ 5.515625 13.8125 5.515625 26.8125 \nQ 5.515625 40.234375 12.765625 48.109375 \nQ 20.015625 56 32.328125 56 \nQ 43.359375 56 49.78125 48.890625 \nQ 56.203125 41.796875 56.203125 29.59375 \nz\nM 47.21875 32.234375 \nQ 47.125 39.59375 43.09375 43.984375 \nQ 39.0625 48.390625 32.421875 48.390625 \nQ 24.90625 48.390625 20.390625 44.140625 \nQ 15.875 39.890625 15.1875 32.171875 \nz\n\" id=\"DejaVuSans-101\"/>\n       <path id=\"DejaVuSans-32\"/>\n       <path d=\"M 19.671875 64.796875 \nL 19.671875 37.40625 \nL 32.078125 37.40625 \nQ 38.96875 37.40625 42.71875 40.96875 \nQ 46.484375 44.53125 46.484375 51.125 \nQ 46.484375 57.671875 42.71875 61.234375 \nQ 38.96875 64.796875 32.078125 64.796875 \nz\nM 9.8125 72.90625 \nL 32.078125 72.90625 \nQ 44.34375 72.90625 50.609375 67.359375 \nQ 56.890625 61.8125 56.890625 51.125 \nQ 56.890625 40.328125 50.609375 34.8125 \nQ 44.34375 29.296875 32.078125 29.296875 \nL 19.671875 29.296875 \nL 19.671875 0 \nL 9.8125 0 \nz\n\" id=\"DejaVuSans-80\"/>\n       <path d=\"M 30.609375 48.390625 \nQ 23.390625 48.390625 19.1875 42.75 \nQ 14.984375 37.109375 14.984375 27.296875 \nQ 14.984375 17.484375 19.15625 11.84375 \nQ 23.34375 6.203125 30.609375 6.203125 \nQ 37.796875 6.203125 41.984375 11.859375 \nQ 46.1875 17.53125 46.1875 27.296875 \nQ 46.1875 37.015625 41.984375 42.703125 \nQ 37.796875 48.390625 30.609375 48.390625 \nz\nM 30.609375 56 \nQ 42.328125 56 49.015625 48.375 \nQ 55.71875 40.765625 55.71875 27.296875 \nQ 55.71875 13.875 49.015625 6.21875 \nQ 42.328125 -1.421875 30.609375 -1.421875 \nQ 18.84375 -1.421875 12.171875 6.21875 \nQ 5.515625 13.875 5.515625 27.296875 \nQ 5.515625 40.765625 12.171875 48.375 \nQ 18.84375 56 30.609375 56 \nz\n\" id=\"DejaVuSans-111\"/>\n       <path d=\"M 9.421875 54.6875 \nL 18.40625 54.6875 \nL 18.40625 0 \nL 9.421875 0 \nz\nM 9.421875 75.984375 \nL 18.40625 75.984375 \nL 18.40625 64.59375 \nL 9.421875 64.59375 \nz\n\" id=\"DejaVuSans-105\"/>\n       <path d=\"M 18.3125 70.21875 \nL 18.3125 54.6875 \nL 36.8125 54.6875 \nL 36.8125 47.703125 \nL 18.3125 47.703125 \nL 18.3125 18.015625 \nQ 18.3125 11.328125 20.140625 9.421875 \nQ 21.96875 7.515625 27.59375 7.515625 \nL 36.8125 7.515625 \nL 36.8125 0 \nL 27.59375 0 \nQ 17.1875 0 13.234375 3.875 \nQ 9.28125 7.765625 9.28125 18.015625 \nL 9.28125 47.703125 \nL 2.6875 47.703125 \nL 2.6875 54.6875 \nL 9.28125 54.6875 \nL 9.28125 70.21875 \nz\n\" id=\"DejaVuSans-116\"/>\n       <path d=\"M 2.984375 54.6875 \nL 12.5 54.6875 \nL 29.59375 8.796875 \nL 46.6875 54.6875 \nL 56.203125 54.6875 \nL 35.6875 0 \nL 23.484375 0 \nz\n\" id=\"DejaVuSans-118\"/>\n       <path d=\"M 44.390625 34.1875 \nQ 47.5625 33.109375 50.5625 29.59375 \nQ 53.5625 26.078125 56.59375 19.921875 \nL 66.609375 0 \nL 56 0 \nL 46.6875 18.703125 \nQ 43.0625 26.03125 39.671875 28.421875 \nQ 36.28125 30.8125 30.421875 30.8125 \nL 19.671875 30.8125 \nL 19.671875 0 \nL 9.8125 0 \nL 9.8125 72.90625 \nL 32.078125 72.90625 \nQ 44.578125 72.90625 50.734375 67.671875 \nQ 56.890625 62.453125 56.890625 51.90625 \nQ 56.890625 45.015625 53.6875 40.46875 \nQ 50.484375 35.9375 44.390625 34.1875 \nz\nM 19.671875 64.796875 \nL 19.671875 38.921875 \nL 32.078125 38.921875 \nQ 39.203125 38.921875 42.84375 42.21875 \nQ 46.484375 45.515625 46.484375 51.90625 \nQ 46.484375 58.296875 42.84375 61.546875 \nQ 39.203125 64.796875 32.078125 64.796875 \nz\n\" id=\"DejaVuSans-82\"/>\n       <path d=\"M 31 75.875 \nQ 24.46875 64.65625 21.28125 53.65625 \nQ 18.109375 42.671875 18.109375 31.390625 \nQ 18.109375 20.125 21.3125 9.0625 \nQ 24.515625 -2 31 -13.1875 \nL 23.1875 -13.1875 \nQ 15.875 -1.703125 12.234375 9.375 \nQ 8.59375 20.453125 8.59375 31.390625 \nQ 8.59375 42.28125 12.203125 53.3125 \nQ 15.828125 64.359375 23.1875 75.875 \nz\n\" id=\"DejaVuSans-40\"/>\n       <path d=\"M 48.6875 27.296875 \nQ 48.6875 37.203125 44.609375 42.84375 \nQ 40.53125 48.484375 33.40625 48.484375 \nQ 26.265625 48.484375 22.1875 42.84375 \nQ 18.109375 37.203125 18.109375 27.296875 \nQ 18.109375 17.390625 22.1875 11.75 \nQ 26.265625 6.109375 33.40625 6.109375 \nQ 40.53125 6.109375 44.609375 11.75 \nQ 48.6875 17.390625 48.6875 27.296875 \nz\nM 18.109375 46.390625 \nQ 20.953125 51.265625 25.265625 53.625 \nQ 29.59375 56 35.59375 56 \nQ 45.5625 56 51.78125 48.09375 \nQ 58.015625 40.1875 58.015625 27.296875 \nQ 58.015625 14.40625 51.78125 6.484375 \nQ 45.5625 -1.421875 35.59375 -1.421875 \nQ 29.59375 -1.421875 25.265625 0.953125 \nQ 20.953125 3.328125 18.109375 8.203125 \nL 18.109375 0 \nL 9.078125 0 \nL 9.078125 75.984375 \nL 18.109375 75.984375 \nz\n\" id=\"DejaVuSans-98\"/>\n       <path d=\"M 11.71875 12.40625 \nL 22.015625 12.40625 \nL 22.015625 0 \nL 11.71875 0 \nz\nM 11.71875 51.703125 \nL 22.015625 51.703125 \nL 22.015625 39.3125 \nL 11.71875 39.3125 \nz\n\" id=\"DejaVuSans-58\"/>\n       <path d=\"M 8.015625 75.875 \nL 15.828125 75.875 \nQ 23.140625 64.359375 26.78125 53.3125 \nQ 30.421875 42.28125 30.421875 31.390625 \nQ 30.421875 20.453125 26.78125 9.375 \nQ 23.140625 -1.703125 15.828125 -13.1875 \nL 8.015625 -13.1875 \nQ 14.5 -2 17.703125 9.0625 \nQ 20.90625 20.125 20.90625 31.390625 \nQ 20.90625 42.671875 17.703125 53.65625 \nQ 14.5 64.65625 8.015625 75.875 \nz\n\" id=\"DejaVuSans-41\"/>\n      </defs>\n      <use xlink:href=\"#DejaVuSans-70\"/>\n      <use x=\"48.394531\" xlink:href=\"#DejaVuSans-97\"/>\n      <use x=\"109.673828\" xlink:href=\"#DejaVuSans-108\"/>\n      <use x=\"137.457031\" xlink:href=\"#DejaVuSans-115\"/>\n      <use x=\"189.556641\" xlink:href=\"#DejaVuSans-101\"/>\n      <use x=\"251.080078\" xlink:href=\"#DejaVuSans-32\"/>\n      <use x=\"282.867188\" xlink:href=\"#DejaVuSans-80\"/>\n      <use x=\"339.544922\" xlink:href=\"#DejaVuSans-111\"/>\n      <use x=\"400.726562\" xlink:href=\"#DejaVuSans-115\"/>\n      <use x=\"452.826172\" xlink:href=\"#DejaVuSans-105\"/>\n      <use x=\"480.609375\" xlink:href=\"#DejaVuSans-116\"/>\n      <use x=\"519.818359\" xlink:href=\"#DejaVuSans-105\"/>\n      <use x=\"547.601562\" xlink:href=\"#DejaVuSans-118\"/>\n      <use x=\"606.78125\" xlink:href=\"#DejaVuSans-101\"/>\n      <use x=\"668.304688\" xlink:href=\"#DejaVuSans-32\"/>\n      <use x=\"700.091797\" xlink:href=\"#DejaVuSans-82\"/>\n      <use x=\"767.324219\" xlink:href=\"#DejaVuSans-97\"/>\n      <use x=\"828.603516\" xlink:href=\"#DejaVuSans-116\"/>\n      <use x=\"867.8125\" xlink:href=\"#DejaVuSans-101\"/>\n      <use x=\"929.335938\" xlink:href=\"#DejaVuSans-32\"/>\n      <use x=\"961.123047\" xlink:href=\"#DejaVuSans-40\"/>\n      <use x=\"1000.136719\" xlink:href=\"#DejaVuSans-80\"/>\n      <use x=\"1056.814453\" xlink:href=\"#DejaVuSans-111\"/>\n      <use x=\"1117.996094\" xlink:href=\"#DejaVuSans-115\"/>\n      <use x=\"1170.095703\" xlink:href=\"#DejaVuSans-105\"/>\n      <use x=\"1197.878906\" xlink:href=\"#DejaVuSans-116\"/>\n      <use x=\"1237.087891\" xlink:href=\"#DejaVuSans-105\"/>\n      <use x=\"1264.871094\" xlink:href=\"#DejaVuSans-118\"/>\n      <use x=\"1324.050781\" xlink:href=\"#DejaVuSans-101\"/>\n      <use x=\"1385.574219\" xlink:href=\"#DejaVuSans-32\"/>\n      <use x=\"1417.361328\" xlink:href=\"#DejaVuSans-108\"/>\n      <use x=\"1445.144531\" xlink:href=\"#DejaVuSans-97\"/>\n      <use x=\"1506.423828\" xlink:href=\"#DejaVuSans-98\"/>\n      <use x=\"1569.900391\" xlink:href=\"#DejaVuSans-101\"/>\n      <use x=\"1631.423828\" xlink:href=\"#DejaVuSans-108\"/>\n      <use x=\"1659.207031\" xlink:href=\"#DejaVuSans-58\"/>\n      <use x=\"1692.898438\" xlink:href=\"#DejaVuSans-32\"/>\n      <use x=\"1724.685547\" xlink:href=\"#DejaVuSans-49\"/>\n      <use x=\"1788.308594\" xlink:href=\"#DejaVuSans-41\"/>\n     </g>\n    </g>\n   </g>\n   <g id=\"matplotlib.axis_2\">\n    <g id=\"ytick_1\">\n     <g id=\"line2d_7\">\n      <defs>\n       <path d=\"M 0 0 \nL -3.5 0 \n\" id=\"me43c4b89a7\" style=\"stroke:#000000;stroke-width:0.8;\"/>\n      </defs>\n      <g>\n       <use style=\"stroke:#000000;stroke-width:0.8;\" x=\"43.78125\" xlink:href=\"#me43c4b89a7\" y=\"214.756364\"/>\n      </g>\n     </g>\n     <g id=\"text_8\">\n      <!-- 0.0 -->\n      <g transform=\"translate(20.878125 218.555582)scale(0.1 -0.1)\">\n       <use xlink:href=\"#DejaVuSans-48\"/>\n       <use x=\"63.623047\" xlink:href=\"#DejaVuSans-46\"/>\n       <use x=\"95.410156\" xlink:href=\"#DejaVuSans-48\"/>\n      </g>\n     </g>\n    </g>\n    <g id=\"ytick_2\">\n     <g id=\"line2d_8\">\n      <g>\n       <use style=\"stroke:#000000;stroke-width:0.8;\" x=\"43.78125\" xlink:href=\"#me43c4b89a7\" y=\"175.221818\"/>\n      </g>\n     </g>\n     <g id=\"text_9\">\n      <!-- 0.2 -->\n      <g transform=\"translate(20.878125 179.021037)scale(0.1 -0.1)\">\n       <use xlink:href=\"#DejaVuSans-48\"/>\n       <use x=\"63.623047\" xlink:href=\"#DejaVuSans-46\"/>\n       <use x=\"95.410156\" xlink:href=\"#DejaVuSans-50\"/>\n      </g>\n     </g>\n    </g>\n    <g id=\"ytick_3\">\n     <g id=\"line2d_9\">\n      <g>\n       <use style=\"stroke:#000000;stroke-width:0.8;\" x=\"43.78125\" xlink:href=\"#me43c4b89a7\" y=\"135.687273\"/>\n      </g>\n     </g>\n     <g id=\"text_10\">\n      <!-- 0.4 -->\n      <g transform=\"translate(20.878125 139.486491)scale(0.1 -0.1)\">\n       <use xlink:href=\"#DejaVuSans-48\"/>\n       <use x=\"63.623047\" xlink:href=\"#DejaVuSans-46\"/>\n       <use x=\"95.410156\" xlink:href=\"#DejaVuSans-52\"/>\n      </g>\n     </g>\n    </g>\n    <g id=\"ytick_4\">\n     <g id=\"line2d_10\">\n      <g>\n       <use style=\"stroke:#000000;stroke-width:0.8;\" x=\"43.78125\" xlink:href=\"#me43c4b89a7\" y=\"96.152727\"/>\n      </g>\n     </g>\n     <g id=\"text_11\">\n      <!-- 0.6 -->\n      <g transform=\"translate(20.878125 99.951946)scale(0.1 -0.1)\">\n       <use xlink:href=\"#DejaVuSans-48\"/>\n       <use x=\"63.623047\" xlink:href=\"#DejaVuSans-46\"/>\n       <use x=\"95.410156\" xlink:href=\"#DejaVuSans-54\"/>\n      </g>\n     </g>\n    </g>\n    <g id=\"ytick_5\">\n     <g id=\"line2d_11\">\n      <g>\n       <use style=\"stroke:#000000;stroke-width:0.8;\" x=\"43.78125\" xlink:href=\"#me43c4b89a7\" y=\"56.618182\"/>\n      </g>\n     </g>\n     <g id=\"text_12\">\n      <!-- 0.8 -->\n      <g transform=\"translate(20.878125 60.417401)scale(0.1 -0.1)\">\n       <use xlink:href=\"#DejaVuSans-48\"/>\n       <use x=\"63.623047\" xlink:href=\"#DejaVuSans-46\"/>\n       <use x=\"95.410156\" xlink:href=\"#DejaVuSans-56\"/>\n      </g>\n     </g>\n    </g>\n    <g id=\"ytick_6\">\n     <g id=\"line2d_12\">\n      <g>\n       <use style=\"stroke:#000000;stroke-width:0.8;\" x=\"43.78125\" xlink:href=\"#me43c4b89a7\" y=\"17.083636\"/>\n      </g>\n     </g>\n     <g id=\"text_13\">\n      <!-- 1.0 -->\n      <g transform=\"translate(20.878125 20.882855)scale(0.1 -0.1)\">\n       <use xlink:href=\"#DejaVuSans-49\"/>\n       <use x=\"63.623047\" xlink:href=\"#DejaVuSans-46\"/>\n       <use x=\"95.410156\" xlink:href=\"#DejaVuSans-48\"/>\n      </g>\n     </g>\n    </g>\n    <g id=\"text_14\">\n     <!-- True Positive Rate (Positive label: 1) -->\n     <g transform=\"translate(14.798438 205.348906)rotate(-90)scale(0.1 -0.1)\">\n      <defs>\n       <path d=\"M -0.296875 72.90625 \nL 61.375 72.90625 \nL 61.375 64.59375 \nL 35.5 64.59375 \nL 35.5 0 \nL 25.59375 0 \nL 25.59375 64.59375 \nL -0.296875 64.59375 \nz\n\" id=\"DejaVuSans-84\"/>\n       <path d=\"M 41.109375 46.296875 \nQ 39.59375 47.171875 37.8125 47.578125 \nQ 36.03125 48 33.890625 48 \nQ 26.265625 48 22.1875 43.046875 \nQ 18.109375 38.09375 18.109375 28.8125 \nL 18.109375 0 \nL 9.078125 0 \nL 9.078125 54.6875 \nL 18.109375 54.6875 \nL 18.109375 46.1875 \nQ 20.953125 51.171875 25.484375 53.578125 \nQ 30.03125 56 36.53125 56 \nQ 37.453125 56 38.578125 55.875 \nQ 39.703125 55.765625 41.0625 55.515625 \nz\n\" id=\"DejaVuSans-114\"/>\n       <path d=\"M 8.5 21.578125 \nL 8.5 54.6875 \nL 17.484375 54.6875 \nL 17.484375 21.921875 \nQ 17.484375 14.15625 20.5 10.265625 \nQ 23.53125 6.390625 29.59375 6.390625 \nQ 36.859375 6.390625 41.078125 11.03125 \nQ 45.3125 15.671875 45.3125 23.6875 \nL 45.3125 54.6875 \nL 54.296875 54.6875 \nL 54.296875 0 \nL 45.3125 0 \nL 45.3125 8.40625 \nQ 42.046875 3.421875 37.71875 1 \nQ 33.40625 -1.421875 27.6875 -1.421875 \nQ 18.265625 -1.421875 13.375 4.4375 \nQ 8.5 10.296875 8.5 21.578125 \nz\nM 31.109375 56 \nz\n\" id=\"DejaVuSans-117\"/>\n      </defs>\n      <use xlink:href=\"#DejaVuSans-84\"/>\n      <use x=\"46.333984\" xlink:href=\"#DejaVuSans-114\"/>\n      <use x=\"87.447266\" xlink:href=\"#DejaVuSans-117\"/>\n      <use x=\"150.826172\" xlink:href=\"#DejaVuSans-101\"/>\n      <use x=\"212.349609\" xlink:href=\"#DejaVuSans-32\"/>\n      <use x=\"244.136719\" xlink:href=\"#DejaVuSans-80\"/>\n      <use x=\"300.814453\" xlink:href=\"#DejaVuSans-111\"/>\n      <use x=\"361.996094\" xlink:href=\"#DejaVuSans-115\"/>\n      <use x=\"414.095703\" xlink:href=\"#DejaVuSans-105\"/>\n      <use x=\"441.878906\" xlink:href=\"#DejaVuSans-116\"/>\n      <use x=\"481.087891\" xlink:href=\"#DejaVuSans-105\"/>\n      <use x=\"508.871094\" xlink:href=\"#DejaVuSans-118\"/>\n      <use x=\"568.050781\" xlink:href=\"#DejaVuSans-101\"/>\n      <use x=\"629.574219\" xlink:href=\"#DejaVuSans-32\"/>\n      <use x=\"661.361328\" xlink:href=\"#DejaVuSans-82\"/>\n      <use x=\"728.59375\" xlink:href=\"#DejaVuSans-97\"/>\n      <use x=\"789.873047\" xlink:href=\"#DejaVuSans-116\"/>\n      <use x=\"829.082031\" xlink:href=\"#DejaVuSans-101\"/>\n      <use x=\"890.605469\" xlink:href=\"#DejaVuSans-32\"/>\n      <use x=\"922.392578\" xlink:href=\"#DejaVuSans-40\"/>\n      <use x=\"961.40625\" xlink:href=\"#DejaVuSans-80\"/>\n      <use x=\"1018.083984\" xlink:href=\"#DejaVuSans-111\"/>\n      <use x=\"1079.265625\" xlink:href=\"#DejaVuSans-115\"/>\n      <use x=\"1131.365234\" xlink:href=\"#DejaVuSans-105\"/>\n      <use x=\"1159.148438\" xlink:href=\"#DejaVuSans-116\"/>\n      <use x=\"1198.357422\" xlink:href=\"#DejaVuSans-105\"/>\n      <use x=\"1226.140625\" xlink:href=\"#DejaVuSans-118\"/>\n      <use x=\"1285.320312\" xlink:href=\"#DejaVuSans-101\"/>\n      <use x=\"1346.84375\" xlink:href=\"#DejaVuSans-32\"/>\n      <use x=\"1378.630859\" xlink:href=\"#DejaVuSans-108\"/>\n      <use x=\"1406.414062\" xlink:href=\"#DejaVuSans-97\"/>\n      <use x=\"1467.693359\" xlink:href=\"#DejaVuSans-98\"/>\n      <use x=\"1531.169922\" xlink:href=\"#DejaVuSans-101\"/>\n      <use x=\"1592.693359\" xlink:href=\"#DejaVuSans-108\"/>\n      <use x=\"1620.476562\" xlink:href=\"#DejaVuSans-58\"/>\n      <use x=\"1654.167969\" xlink:href=\"#DejaVuSans-32\"/>\n      <use x=\"1685.955078\" xlink:href=\"#DejaVuSans-49\"/>\n      <use x=\"1749.578125\" xlink:href=\"#DejaVuSans-41\"/>\n     </g>\n    </g>\n   </g>\n   <g id=\"line2d_13\">\n    <path clip-path=\"url(#pcf3ad1efe3)\" d=\"M 58.999432 214.756364 \nL 58.999432 211.891542 \nL 58.999432 137.406166 \nL 61.766374 137.406166 \nL 61.766374 131.676522 \nL 64.533316 131.676522 \nL 64.533316 120.217233 \nL 67.300258 120.217233 \nL 67.300258 117.352411 \nL 70.0672 117.352411 \nL 70.0672 103.0283 \nL 72.834143 103.0283 \nL 72.834143 91.569012 \nL 75.601085 91.569012 \nL 75.601085 88.70419 \nL 78.368027 88.70419 \nL 78.368027 82.974545 \nL 81.134969 82.974545 \nL 81.134969 80.109723 \nL 83.901911 80.109723 \nL 83.901911 74.380079 \nL 86.668853 74.380079 \nL 86.668853 71.515257 \nL 92.202738 71.515257 \nL 92.202738 68.650435 \nL 117.105217 68.650435 \nL 117.105217 65.785613 \nL 119.872159 65.785613 \nL 119.872159 62.920791 \nL 128.172986 62.920791 \nL 128.172986 60.055968 \nL 130.939928 60.055968 \nL 130.939928 57.191146 \nL 139.240754 57.191146 \nL 139.240754 54.326324 \nL 142.007696 54.326324 \nL 142.007696 48.59668 \nL 153.075465 48.59668 \nL 153.075465 45.731858 \nL 166.910176 45.731858 \nL 166.910176 42.867036 \nL 169.677118 42.867036 \nL 172.44406 40.002213 \nL 177.977944 40.002213 \nL 191.812655 40.002213 \nL 197.346539 40.002213 \nL 205.647366 40.002213 \nL 205.647366 37.137391 \nL 216.715134 37.137391 \nL 222.249019 37.137391 \nL 222.249019 34.272569 \nL 233.316787 34.272569 \nL 238.850671 34.272569 \nL 241.617614 34.272569 \nL 241.617614 31.407747 \nL 244.384556 31.407747 \nL 249.91844 31.407747 \nL 260.986209 31.407747 \nL 266.520093 31.407747 \nL 266.520093 25.678103 \nL 274.820919 25.678103 \nL 274.820919 22.813281 \nL 327.39282 22.813281 \nL 327.39282 17.083636 \nL 363.363068 17.083636 \n\" style=\"fill:none;stroke:#1f77b4;stroke-linecap:square;stroke-width:1.5;\"/>\n   </g>\n   <g id=\"patch_3\">\n    <path d=\"M 43.78125 224.64 \nL 43.78125 7.2 \n\" style=\"fill:none;stroke:#000000;stroke-linecap:square;stroke-linejoin:miter;stroke-width:0.8;\"/>\n   </g>\n   <g id=\"patch_4\">\n    <path d=\"M 378.58125 224.64 \nL 378.58125 7.2 \n\" style=\"fill:none;stroke:#000000;stroke-linecap:square;stroke-linejoin:miter;stroke-width:0.8;\"/>\n   </g>\n   <g id=\"patch_5\">\n    <path d=\"M 43.78125 224.64 \nL 378.58125 224.64 \n\" style=\"fill:none;stroke:#000000;stroke-linecap:square;stroke-linejoin:miter;stroke-width:0.8;\"/>\n   </g>\n   <g id=\"patch_6\">\n    <path d=\"M 43.78125 7.2 \nL 378.58125 7.2 \n\" style=\"fill:none;stroke:#000000;stroke-linecap:square;stroke-linejoin:miter;stroke-width:0.8;\"/>\n   </g>\n   <g id=\"legend_1\">\n    <g id=\"patch_7\">\n     <path d=\"M 177.715625 219.64 \nL 371.58125 219.64 \nQ 373.58125 219.64 373.58125 217.64 \nL 373.58125 203.961875 \nQ 373.58125 201.961875 371.58125 201.961875 \nL 177.715625 201.961875 \nQ 175.715625 201.961875 175.715625 203.961875 \nL 175.715625 217.64 \nQ 175.715625 219.64 177.715625 219.64 \nz\n\" style=\"fill:#ffffff;opacity:0.8;stroke:#cccccc;stroke-linejoin:miter;\"/>\n    </g>\n    <g id=\"line2d_14\">\n     <path d=\"M 179.715625 210.060312 \nL 199.715625 210.060312 \n\" style=\"fill:none;stroke:#1f77b4;stroke-linecap:square;stroke-width:1.5;\"/>\n    </g>\n    <g id=\"line2d_15\"/>\n    <g id=\"text_15\">\n     <!-- LogisticRegression (AUC = 0.87) -->\n     <g transform=\"translate(207.715625 213.560312)scale(0.1 -0.1)\">\n      <defs>\n       <path d=\"M 9.8125 72.90625 \nL 19.671875 72.90625 \nL 19.671875 8.296875 \nL 55.171875 8.296875 \nL 55.171875 0 \nL 9.8125 0 \nz\n\" id=\"DejaVuSans-76\"/>\n       <path d=\"M 45.40625 27.984375 \nQ 45.40625 37.75 41.375 43.109375 \nQ 37.359375 48.484375 30.078125 48.484375 \nQ 22.859375 48.484375 18.828125 43.109375 \nQ 14.796875 37.75 14.796875 27.984375 \nQ 14.796875 18.265625 18.828125 12.890625 \nQ 22.859375 7.515625 30.078125 7.515625 \nQ 37.359375 7.515625 41.375 12.890625 \nQ 45.40625 18.265625 45.40625 27.984375 \nz\nM 54.390625 6.78125 \nQ 54.390625 -7.171875 48.1875 -13.984375 \nQ 42 -20.796875 29.203125 -20.796875 \nQ 24.46875 -20.796875 20.265625 -20.09375 \nQ 16.0625 -19.390625 12.109375 -17.921875 \nL 12.109375 -9.1875 \nQ 16.0625 -11.328125 19.921875 -12.34375 \nQ 23.78125 -13.375 27.78125 -13.375 \nQ 36.625 -13.375 41.015625 -8.765625 \nQ 45.40625 -4.15625 45.40625 5.171875 \nL 45.40625 9.625 \nQ 42.625 4.78125 38.28125 2.390625 \nQ 33.9375 0 27.875 0 \nQ 17.828125 0 11.671875 7.65625 \nQ 5.515625 15.328125 5.515625 27.984375 \nQ 5.515625 40.671875 11.671875 48.328125 \nQ 17.828125 56 27.875 56 \nQ 33.9375 56 38.28125 53.609375 \nQ 42.625 51.21875 45.40625 46.390625 \nL 45.40625 54.6875 \nL 54.390625 54.6875 \nz\n\" id=\"DejaVuSans-103\"/>\n       <path d=\"M 48.78125 52.59375 \nL 48.78125 44.1875 \nQ 44.96875 46.296875 41.140625 47.34375 \nQ 37.3125 48.390625 33.40625 48.390625 \nQ 24.65625 48.390625 19.8125 42.84375 \nQ 14.984375 37.3125 14.984375 27.296875 \nQ 14.984375 17.28125 19.8125 11.734375 \nQ 24.65625 6.203125 33.40625 6.203125 \nQ 37.3125 6.203125 41.140625 7.25 \nQ 44.96875 8.296875 48.78125 10.40625 \nL 48.78125 2.09375 \nQ 45.015625 0.34375 40.984375 -0.53125 \nQ 36.96875 -1.421875 32.421875 -1.421875 \nQ 20.0625 -1.421875 12.78125 6.34375 \nQ 5.515625 14.109375 5.515625 27.296875 \nQ 5.515625 40.671875 12.859375 48.328125 \nQ 20.21875 56 33.015625 56 \nQ 37.15625 56 41.109375 55.140625 \nQ 45.0625 54.296875 48.78125 52.59375 \nz\n\" id=\"DejaVuSans-99\"/>\n       <path d=\"M 54.890625 33.015625 \nL 54.890625 0 \nL 45.90625 0 \nL 45.90625 32.71875 \nQ 45.90625 40.484375 42.875 44.328125 \nQ 39.84375 48.1875 33.796875 48.1875 \nQ 26.515625 48.1875 22.3125 43.546875 \nQ 18.109375 38.921875 18.109375 30.90625 \nL 18.109375 0 \nL 9.078125 0 \nL 9.078125 54.6875 \nL 18.109375 54.6875 \nL 18.109375 46.1875 \nQ 21.34375 51.125 25.703125 53.5625 \nQ 30.078125 56 35.796875 56 \nQ 45.21875 56 50.046875 50.171875 \nQ 54.890625 44.34375 54.890625 33.015625 \nz\n\" id=\"DejaVuSans-110\"/>\n       <path d=\"M 34.1875 63.1875 \nL 20.796875 26.90625 \nL 47.609375 26.90625 \nz\nM 28.609375 72.90625 \nL 39.796875 72.90625 \nL 67.578125 0 \nL 57.328125 0 \nL 50.6875 18.703125 \nL 17.828125 18.703125 \nL 11.1875 0 \nL 0.78125 0 \nz\n\" id=\"DejaVuSans-65\"/>\n       <path d=\"M 8.6875 72.90625 \nL 18.609375 72.90625 \nL 18.609375 28.609375 \nQ 18.609375 16.890625 22.84375 11.734375 \nQ 27.09375 6.59375 36.625 6.59375 \nQ 46.09375 6.59375 50.34375 11.734375 \nQ 54.59375 16.890625 54.59375 28.609375 \nL 54.59375 72.90625 \nL 64.5 72.90625 \nL 64.5 27.390625 \nQ 64.5 13.140625 57.4375 5.859375 \nQ 50.390625 -1.421875 36.625 -1.421875 \nQ 22.796875 -1.421875 15.734375 5.859375 \nQ 8.6875 13.140625 8.6875 27.390625 \nz\n\" id=\"DejaVuSans-85\"/>\n       <path d=\"M 64.40625 67.28125 \nL 64.40625 56.890625 \nQ 59.421875 61.53125 53.78125 63.8125 \nQ 48.140625 66.109375 41.796875 66.109375 \nQ 29.296875 66.109375 22.65625 58.46875 \nQ 16.015625 50.828125 16.015625 36.375 \nQ 16.015625 21.96875 22.65625 14.328125 \nQ 29.296875 6.6875 41.796875 6.6875 \nQ 48.140625 6.6875 53.78125 8.984375 \nQ 59.421875 11.28125 64.40625 15.921875 \nL 64.40625 5.609375 \nQ 59.234375 2.09375 53.4375 0.328125 \nQ 47.65625 -1.421875 41.21875 -1.421875 \nQ 24.65625 -1.421875 15.125 8.703125 \nQ 5.609375 18.84375 5.609375 36.375 \nQ 5.609375 53.953125 15.125 64.078125 \nQ 24.65625 74.21875 41.21875 74.21875 \nQ 47.75 74.21875 53.53125 72.484375 \nQ 59.328125 70.75 64.40625 67.28125 \nz\n\" id=\"DejaVuSans-67\"/>\n       <path d=\"M 10.59375 45.40625 \nL 73.1875 45.40625 \nL 73.1875 37.203125 \nL 10.59375 37.203125 \nz\nM 10.59375 25.484375 \nL 73.1875 25.484375 \nL 73.1875 17.1875 \nL 10.59375 17.1875 \nz\n\" id=\"DejaVuSans-61\"/>\n       <path d=\"M 8.203125 72.90625 \nL 55.078125 72.90625 \nL 55.078125 68.703125 \nL 28.609375 0 \nL 18.3125 0 \nL 43.21875 64.59375 \nL 8.203125 64.59375 \nz\n\" id=\"DejaVuSans-55\"/>\n      </defs>\n      <use xlink:href=\"#DejaVuSans-76\"/>\n      <use x=\"53.962891\" xlink:href=\"#DejaVuSans-111\"/>\n      <use x=\"115.144531\" xlink:href=\"#DejaVuSans-103\"/>\n      <use x=\"178.621094\" xlink:href=\"#DejaVuSans-105\"/>\n      <use x=\"206.404297\" xlink:href=\"#DejaVuSans-115\"/>\n      <use x=\"258.503906\" xlink:href=\"#DejaVuSans-116\"/>\n      <use x=\"297.712891\" xlink:href=\"#DejaVuSans-105\"/>\n      <use x=\"325.496094\" xlink:href=\"#DejaVuSans-99\"/>\n      <use x=\"380.476562\" xlink:href=\"#DejaVuSans-82\"/>\n      <use x=\"445.458984\" xlink:href=\"#DejaVuSans-101\"/>\n      <use x=\"506.982422\" xlink:href=\"#DejaVuSans-103\"/>\n      <use x=\"570.458984\" xlink:href=\"#DejaVuSans-114\"/>\n      <use x=\"609.322266\" xlink:href=\"#DejaVuSans-101\"/>\n      <use x=\"670.845703\" xlink:href=\"#DejaVuSans-115\"/>\n      <use x=\"722.945312\" xlink:href=\"#DejaVuSans-115\"/>\n      <use x=\"775.044922\" xlink:href=\"#DejaVuSans-105\"/>\n      <use x=\"802.828125\" xlink:href=\"#DejaVuSans-111\"/>\n      <use x=\"864.009766\" xlink:href=\"#DejaVuSans-110\"/>\n      <use x=\"927.388672\" xlink:href=\"#DejaVuSans-32\"/>\n      <use x=\"959.175781\" xlink:href=\"#DejaVuSans-40\"/>\n      <use x=\"998.189453\" xlink:href=\"#DejaVuSans-65\"/>\n      <use x=\"1066.597656\" xlink:href=\"#DejaVuSans-85\"/>\n      <use x=\"1139.791016\" xlink:href=\"#DejaVuSans-67\"/>\n      <use x=\"1209.615234\" xlink:href=\"#DejaVuSans-32\"/>\n      <use x=\"1241.402344\" xlink:href=\"#DejaVuSans-61\"/>\n      <use x=\"1325.191406\" xlink:href=\"#DejaVuSans-32\"/>\n      <use x=\"1356.978516\" xlink:href=\"#DejaVuSans-48\"/>\n      <use x=\"1420.601562\" xlink:href=\"#DejaVuSans-46\"/>\n      <use x=\"1452.388672\" xlink:href=\"#DejaVuSans-56\"/>\n      <use x=\"1516.011719\" xlink:href=\"#DejaVuSans-55\"/>\n      <use x=\"1579.634766\" xlink:href=\"#DejaVuSans-41\"/>\n     </g>\n    </g>\n   </g>\n  </g>\n </g>\n <defs>\n  <clipPath id=\"pcf3ad1efe3\">\n   <rect height=\"217.44\" width=\"334.8\" x=\"43.78125\" y=\"7.2\"/>\n  </clipPath>\n </defs>\n</svg>\n",
      "image/png": "[encoded data removed]"
     },
     "metadata": {
      "needs_background": "light"
     }
    }
   ],
   "source": [
    "plot_roc_curve(model, train_X, train_y)\n",
    "plot_roc_curve(model, test_X, test_y)"
   ]
  },
  {
   "cell_type": "code",
   "execution_count": null,
   "metadata": {},
   "outputs": [],
   "source": []
  },
  {
   "cell_type": "code",
   "execution_count": null,
   "metadata": {},
   "outputs": [],
   "source": []
  }
 ]
}