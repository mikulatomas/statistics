{
 "metadata": {
  "language_info": {
   "codemirror_mode": {
    "name": "ipython",
    "version": 3
   },
   "file_extension": ".py",
   "mimetype": "text/x-python",
   "name": "python",
   "nbconvert_exporter": "python",
   "pygments_lexer": "ipython3",
   "version": "3.8.9"
  },
  "orig_nbformat": 2,
  "kernelspec": {
   "name": "python3",
   "display_name": "Python 3.8.9 64-bit ('fcapy': virtualenvwrapper)"
  },
  "interpreter": {
   "hash": "082a18f759f8afdec9b7eec773590a36e4c3be1cd97bea91855dea5176a8175a"
  }
 },
 "nbformat": 4,
 "nbformat_minor": 2,
 "cells": [
  {
   "cell_type": "code",
   "execution_count": 1,
   "metadata": {},
   "outputs": [
    {
     "output_type": "display_data",
     "data": {
      "text/html": "        <script type=\"text/javascript\">\n        window.PlotlyConfig = {MathJaxConfig: 'local'};\n        if (window.MathJax) {MathJax.Hub.Config({SVG: {font: \"STIX-Web\"}});}\n        if (typeof require !== 'undefined') {\n        require.undef(\"plotly\");\n        requirejs.config({\n            paths: {\n                'plotly': ['https://cdn.plot.ly/plotly-latest.min']\n            }\n        });\n        require(['plotly'], function(Plotly) {\n            window._Plotly = Plotly;\n        });\n        }\n        </script>\n        "
     },
     "metadata": {}
    },
    {
     "output_type": "display_data",
     "data": {
      "text/html": "        <script type=\"text/javascript\">\n        window.PlotlyConfig = {MathJaxConfig: 'local'};\n        if (window.MathJax) {MathJax.Hub.Config({SVG: {font: \"STIX-Web\"}});}\n        if (typeof require !== 'undefined') {\n        require.undef(\"plotly\");\n        requirejs.config({\n            paths: {\n                'plotly': ['https://cdn.plot.ly/plotly-latest.min']\n            }\n        });\n        require(['plotly'], function(Plotly) {\n            window._Plotly = Plotly;\n        });\n        }\n        </script>\n        "
     },
     "metadata": {}
    }
   ],
   "source": [
    "from datasets import titanic_data\n",
    "\n",
    "from sklearn.model_selection import cross_val_score\n",
    "from sklearn.metrics import confusion_matrix\n",
    "import pandas as pd\n",
    "import numpy as np\n",
    "\n",
    "from sklearn.svm import SVC\n",
    "\n",
    "from tools import roc\n",
    "\n",
    "import plotly.express as px\n",
    "from plotly.offline import init_notebook_mode\n",
    "init_notebook_mode(connected=True)"
   ]
  },
  {
   "cell_type": "code",
   "execution_count": 2,
   "metadata": {},
   "outputs": [],
   "source": [
    "original_X, original_y, train_X, train_y, test_X, test_y = titanic_data()"
   ]
  },
  {
   "source": [
    "## Linear kernel"
   ],
   "cell_type": "markdown",
   "metadata": {}
  },
  {
   "source": [
    "### Estimate test error by 5-fold cross validation"
   ],
   "cell_type": "markdown",
   "metadata": {}
  },
  {
   "cell_type": "code",
   "execution_count": 4,
   "metadata": {
    "tags": []
   },
   "outputs": [
    {
     "output_type": "execute_result",
     "data": {
      "text/plain": [
       "0.7878601468834348"
      ]
     },
     "metadata": {},
     "execution_count": 4
    }
   ],
   "source": [
    "model = SVC(kernel='linear', shrinking=False)\n",
    "cross_val_score(model, original_X, original_y).mean()"
   ]
  },
  {
   "source": [
    "## Polynomial kernel"
   ],
   "cell_type": "markdown",
   "metadata": {}
  },
  {
   "source": [
    "### Estimate the polynomial degree"
   ],
   "cell_type": "markdown",
   "metadata": {}
  },
  {
   "cell_type": "code",
   "execution_count": 5,
   "metadata": {},
   "outputs": [
    {
     "output_type": "display_data",
     "data": {
      "application/vnd.plotly.v1+json": {
       "config": {
        "plotlyServerURL": "https://plot.ly"
       },
       "data": [
        {
         "hovertemplate": "degree=%{x}<br>accuracy (mean)=%{y}<extra></extra>",
         "legendgroup": "",
         "line": {
          "color": "#636efa",
          "dash": "solid"
         },
         "mode": "lines",
         "name": "",
         "orientation": "v",
         "showlegend": false,
         "type": "scatter",
         "x": [
          1,
          2,
          3,
          4
         ],
         "xaxis": "x",
         "y": [
          0.7878601468834348,
          0.8058313979034587,
          0.8136840123030569,
          0.7643085807545038
         ],
         "yaxis": "y"
        }
       ],
       "layout": {
        "legend": {
         "tracegroupgap": 0
        },
        "margin": {
         "t": 60
        },
        "template": {
         "data": {
          "bar": [
           {
            "error_x": {
             "color": "#2a3f5f"
            },
            "error_y": {
             "color": "#2a3f5f"
            },
            "marker": {
             "line": {
              "color": "#E5ECF6",
              "width": 0.5
             }
            },
            "type": "bar"
           }
          ],
          "barpolar": [
           {
            "marker": {
             "line": {
              "color": "#E5ECF6",
              "width": 0.5
             }
            },
            "type": "barpolar"
           }
          ],
          "carpet": [
           {
            "aaxis": {
             "endlinecolor": "#2a3f5f",
             "gridcolor": "white",
             "linecolor": "white",
             "minorgridcolor": "white",
             "startlinecolor": "#2a3f5f"
            },
            "baxis": {
             "endlinecolor": "#2a3f5f",
             "gridcolor": "white",
             "linecolor": "white",
             "minorgridcolor": "white",
             "startlinecolor": "#2a3f5f"
            },
            "type": "carpet"
           }
          ],
          "choropleth": [
           {
            "colorbar": {
             "outlinewidth": 0,
             "ticks": ""
            },
            "type": "choropleth"
           }
          ],
          "contour": [
           {
            "colorbar": {
             "outlinewidth": 0,
             "ticks": ""
            },
            "colorscale": [
             [
              0,
              "#0d0887"
             ],
             [
              0.1111111111111111,
              "#46039f"
             ],
             [
              0.2222222222222222,
              "#7201a8"
             ],
             [
              0.3333333333333333,
              "#9c179e"
             ],
             [
              0.4444444444444444,
              "#bd3786"
             ],
             [
              0.5555555555555556,
              "#d8576b"
             ],
             [
              0.6666666666666666,
              "#ed7953"
             ],
             [
              0.7777777777777778,
              "#fb9f3a"
             ],
             [
              0.8888888888888888,
              "#fdca26"
             ],
             [
              1,
              "#f0f921"
             ]
            ],
            "type": "contour"
           }
          ],
          "contourcarpet": [
           {
            "colorbar": {
             "outlinewidth": 0,
             "ticks": ""
            },
            "type": "contourcarpet"
           }
          ],
          "heatmap": [
           {
            "colorbar": {
             "outlinewidth": 0,
             "ticks": ""
            },
            "colorscale": [
             [
              0,
              "#0d0887"
             ],
             [
              0.1111111111111111,
              "#46039f"
             ],
             [
              0.2222222222222222,
              "#7201a8"
             ],
             [
              0.3333333333333333,
              "#9c179e"
             ],
             [
              0.4444444444444444,
              "#bd3786"
             ],
             [
              0.5555555555555556,
              "#d8576b"
             ],
             [
              0.6666666666666666,
              "#ed7953"
             ],
             [
              0.7777777777777778,
              "#fb9f3a"
             ],
             [
              0.8888888888888888,
              "#fdca26"
             ],
             [
              1,
              "#f0f921"
             ]
            ],
            "type": "heatmap"
           }
          ],
          "heatmapgl": [
           {
            "colorbar": {
             "outlinewidth": 0,
             "ticks": ""
            },
            "colorscale": [
             [
              0,
              "#0d0887"
             ],
             [
              0.1111111111111111,
              "#46039f"
             ],
             [
              0.2222222222222222,
              "#7201a8"
             ],
             [
              0.3333333333333333,
              "#9c179e"
             ],
             [
              0.4444444444444444,
              "#bd3786"
             ],
             [
              0.5555555555555556,
              "#d8576b"
             ],
             [
              0.6666666666666666,
              "#ed7953"
             ],
             [
              0.7777777777777778,
              "#fb9f3a"
             ],
             [
              0.8888888888888888,
              "#fdca26"
             ],
             [
              1,
              "#f0f921"
             ]
            ],
            "type": "heatmapgl"
           }
          ],
          "histogram": [
           {
            "marker": {
             "colorbar": {
              "outlinewidth": 0,
              "ticks": ""
             }
            },
            "type": "histogram"
           }
          ],
          "histogram2d": [
           {
            "colorbar": {
             "outlinewidth": 0,
             "ticks": ""
            },
            "colorscale": [
             [
              0,
              "#0d0887"
             ],
             [
              0.1111111111111111,
              "#46039f"
             ],
             [
              0.2222222222222222,
              "#7201a8"
             ],
             [
              0.3333333333333333,
              "#9c179e"
             ],
             [
              0.4444444444444444,
              "#bd3786"
             ],
             [
              0.5555555555555556,
              "#d8576b"
             ],
             [
              0.6666666666666666,
              "#ed7953"
             ],
             [
              0.7777777777777778,
              "#fb9f3a"
             ],
             [
              0.8888888888888888,
              "#fdca26"
             ],
             [
              1,
              "#f0f921"
             ]
            ],
            "type": "histogram2d"
           }
          ],
          "histogram2dcontour": [
           {
            "colorbar": {
             "outlinewidth": 0,
             "ticks": ""
            },
            "colorscale": [
             [
              0,
              "#0d0887"
             ],
             [
              0.1111111111111111,
              "#46039f"
             ],
             [
              0.2222222222222222,
              "#7201a8"
             ],
             [
              0.3333333333333333,
              "#9c179e"
             ],
             [
              0.4444444444444444,
              "#bd3786"
             ],
             [
              0.5555555555555556,
              "#d8576b"
             ],
             [
              0.6666666666666666,
              "#ed7953"
             ],
             [
              0.7777777777777778,
              "#fb9f3a"
             ],
             [
              0.8888888888888888,
              "#fdca26"
             ],
             [
              1,
              "#f0f921"
             ]
            ],
            "type": "histogram2dcontour"
           }
          ],
          "mesh3d": [
           {
            "colorbar": {
             "outlinewidth": 0,
             "ticks": ""
            },
            "type": "mesh3d"
           }
          ],
          "parcoords": [
           {
            "line": {
             "colorbar": {
              "outlinewidth": 0,
              "ticks": ""
             }
            },
            "type": "parcoords"
           }
          ],
          "pie": [
           {
            "automargin": true,
            "type": "pie"
           }
          ],
          "scatter": [
           {
            "marker": {
             "colorbar": {
              "outlinewidth": 0,
              "ticks": ""
             }
            },
            "type": "scatter"
           }
          ],
          "scatter3d": [
           {
            "line": {
             "colorbar": {
              "outlinewidth": 0,
              "ticks": ""
             }
            },
            "marker": {
             "colorbar": {
              "outlinewidth": 0,
              "ticks": ""
             }
            },
            "type": "scatter3d"
           }
          ],
          "scattercarpet": [
           {
            "marker": {
             "colorbar": {
              "outlinewidth": 0,
              "ticks": ""
             }
            },
            "type": "scattercarpet"
           }
          ],
          "scattergeo": [
           {
            "marker": {
             "colorbar": {
              "outlinewidth": 0,
              "ticks": ""
             }
            },
            "type": "scattergeo"
           }
          ],
          "scattergl": [
           {
            "marker": {
             "colorbar": {
              "outlinewidth": 0,
              "ticks": ""
             }
            },
            "type": "scattergl"
           }
          ],
          "scattermapbox": [
           {
            "marker": {
             "colorbar": {
              "outlinewidth": 0,
              "ticks": ""
             }
            },
            "type": "scattermapbox"
           }
          ],
          "scatterpolar": [
           {
            "marker": {
             "colorbar": {
              "outlinewidth": 0,
              "ticks": ""
             }
            },
            "type": "scatterpolar"
           }
          ],
          "scatterpolargl": [
           {
            "marker": {
             "colorbar": {
              "outlinewidth": 0,
              "ticks": ""
             }
            },
            "type": "scatterpolargl"
           }
          ],
          "scatterternary": [
           {
            "marker": {
             "colorbar": {
              "outlinewidth": 0,
              "ticks": ""
             }
            },
            "type": "scatterternary"
           }
          ],
          "surface": [
           {
            "colorbar": {
             "outlinewidth": 0,
             "ticks": ""
            },
            "colorscale": [
             [
              0,
              "#0d0887"
             ],
             [
              0.1111111111111111,
              "#46039f"
             ],
             [
              0.2222222222222222,
              "#7201a8"
             ],
             [
              0.3333333333333333,
              "#9c179e"
             ],
             [
              0.4444444444444444,
              "#bd3786"
             ],
             [
              0.5555555555555556,
              "#d8576b"
             ],
             [
              0.6666666666666666,
              "#ed7953"
             ],
             [
              0.7777777777777778,
              "#fb9f3a"
             ],
             [
              0.8888888888888888,
              "#fdca26"
             ],
             [
              1,
              "#f0f921"
             ]
            ],
            "type": "surface"
           }
          ],
          "table": [
           {
            "cells": {
             "fill": {
              "color": "#EBF0F8"
             },
             "line": {
              "color": "white"
             }
            },
            "header": {
             "fill": {
              "color": "#C8D4E3"
             },
             "line": {
              "color": "white"
             }
            },
            "type": "table"
           }
          ]
         },
         "layout": {
          "annotationdefaults": {
           "arrowcolor": "#2a3f5f",
           "arrowhead": 0,
           "arrowwidth": 1
          },
          "coloraxis": {
           "colorbar": {
            "outlinewidth": 0,
            "ticks": ""
           }
          },
          "colorscale": {
           "diverging": [
            [
             0,
             "#8e0152"
            ],
            [
             0.1,
             "#c51b7d"
            ],
            [
             0.2,
             "#de77ae"
            ],
            [
             0.3,
             "#f1b6da"
            ],
            [
             0.4,
             "#fde0ef"
            ],
            [
             0.5,
             "#f7f7f7"
            ],
            [
             0.6,
             "#e6f5d0"
            ],
            [
             0.7,
             "#b8e186"
            ],
            [
             0.8,
             "#7fbc41"
            ],
            [
             0.9,
             "#4d9221"
            ],
            [
             1,
             "#276419"
            ]
           ],
           "sequential": [
            [
             0,
             "#0d0887"
            ],
            [
             0.1111111111111111,
             "#46039f"
            ],
            [
             0.2222222222222222,
             "#7201a8"
            ],
            [
             0.3333333333333333,
             "#9c179e"
            ],
            [
             0.4444444444444444,
             "#bd3786"
            ],
            [
             0.5555555555555556,
             "#d8576b"
            ],
            [
             0.6666666666666666,
             "#ed7953"
            ],
            [
             0.7777777777777778,
             "#fb9f3a"
            ],
            [
             0.8888888888888888,
             "#fdca26"
            ],
            [
             1,
             "#f0f921"
            ]
           ],
           "sequentialminus": [
            [
             0,
             "#0d0887"
            ],
            [
             0.1111111111111111,
             "#46039f"
            ],
            [
             0.2222222222222222,
             "#7201a8"
            ],
            [
             0.3333333333333333,
             "#9c179e"
            ],
            [
             0.4444444444444444,
             "#bd3786"
            ],
            [
             0.5555555555555556,
             "#d8576b"
            ],
            [
             0.6666666666666666,
             "#ed7953"
            ],
            [
             0.7777777777777778,
             "#fb9f3a"
            ],
            [
             0.8888888888888888,
             "#fdca26"
            ],
            [
             1,
             "#f0f921"
            ]
           ]
          },
          "colorway": [
           "#636efa",
           "#EF553B",
           "#00cc96",
           "#ab63fa",
           "#FFA15A",
           "#19d3f3",
           "#FF6692",
           "#B6E880",
           "#FF97FF",
           "#FECB52"
          ],
          "font": {
           "color": "#2a3f5f"
          },
          "geo": {
           "bgcolor": "white",
           "lakecolor": "white",
           "landcolor": "#E5ECF6",
           "showlakes": true,
           "showland": true,
           "subunitcolor": "white"
          },
          "hoverlabel": {
           "align": "left"
          },
          "hovermode": "closest",
          "mapbox": {
           "style": "light"
          },
          "paper_bgcolor": "white",
          "plot_bgcolor": "#E5ECF6",
          "polar": {
           "angularaxis": {
            "gridcolor": "white",
            "linecolor": "white",
            "ticks": ""
           },
           "bgcolor": "#E5ECF6",
           "radialaxis": {
            "gridcolor": "white",
            "linecolor": "white",
            "ticks": ""
           }
          },
          "scene": {
           "xaxis": {
            "backgroundcolor": "#E5ECF6",
            "gridcolor": "white",
            "gridwidth": 2,
            "linecolor": "white",
            "showbackground": true,
            "ticks": "",
            "zerolinecolor": "white"
           },
           "yaxis": {
            "backgroundcolor": "#E5ECF6",
            "gridcolor": "white",
            "gridwidth": 2,
            "linecolor": "white",
            "showbackground": true,
            "ticks": "",
            "zerolinecolor": "white"
           },
           "zaxis": {
            "backgroundcolor": "#E5ECF6",
            "gridcolor": "white",
            "gridwidth": 2,
            "linecolor": "white",
            "showbackground": true,
            "ticks": "",
            "zerolinecolor": "white"
           }
          },
          "shapedefaults": {
           "line": {
            "color": "#2a3f5f"
           }
          },
          "ternary": {
           "aaxis": {
            "gridcolor": "white",
            "linecolor": "white",
            "ticks": ""
           },
           "baxis": {
            "gridcolor": "white",
            "linecolor": "white",
            "ticks": ""
           },
           "bgcolor": "#E5ECF6",
           "caxis": {
            "gridcolor": "white",
            "linecolor": "white",
            "ticks": ""
           }
          },
          "title": {
           "x": 0.05
          },
          "xaxis": {
           "automargin": true,
           "gridcolor": "white",
           "linecolor": "white",
           "ticks": "",
           "title": {
            "standoff": 15
           },
           "zerolinecolor": "white",
           "zerolinewidth": 2
          },
          "yaxis": {
           "automargin": true,
           "gridcolor": "white",
           "linecolor": "white",
           "ticks": "",
           "title": {
            "standoff": 15
           },
           "zerolinecolor": "white",
           "zerolinewidth": 2
          }
         }
        },
        "xaxis": {
         "anchor": "y",
         "domain": [
          0,
          1
         ],
         "title": {
          "text": "degree"
         }
        },
        "yaxis": {
         "anchor": "x",
         "domain": [
          0,
          1
         ],
         "title": {
          "text": "accuracy (mean)"
         }
        }
       }
      },
      "text/html": "<div>                            <div id=\"e8674c70-7e6b-4263-998f-78e4f00b9389\" class=\"plotly-graph-div\" style=\"height:525px; width:100%;\"></div>            <script type=\"text/javascript\">                require([\"plotly\"], function(Plotly) {                    window.PLOTLYENV=window.PLOTLYENV || {};                                    if (document.getElementById(\"e8674c70-7e6b-4263-998f-78e4f00b9389\")) {                    Plotly.newPlot(                        \"e8674c70-7e6b-4263-998f-78e4f00b9389\",                        [{\"hovertemplate\": \"degree=%{x}<br>accuracy (mean)=%{y}<extra></extra>\", \"legendgroup\": \"\", \"line\": {\"color\": \"#636efa\", \"dash\": \"solid\"}, \"mode\": \"lines\", \"name\": \"\", \"orientation\": \"v\", \"showlegend\": false, \"type\": \"scatter\", \"x\": [1, 2, 3, 4], \"xaxis\": \"x\", \"y\": [0.7878601468834348, 0.8058313979034587, 0.8136840123030569, 0.7643085807545038], \"yaxis\": \"y\"}],                        {\"legend\": {\"tracegroupgap\": 0}, \"margin\": {\"t\": 60}, \"template\": {\"data\": {\"bar\": [{\"error_x\": {\"color\": \"#2a3f5f\"}, \"error_y\": {\"color\": \"#2a3f5f\"}, \"marker\": {\"line\": {\"color\": \"#E5ECF6\", \"width\": 0.5}}, \"type\": \"bar\"}], \"barpolar\": [{\"marker\": {\"line\": {\"color\": \"#E5ECF6\", \"width\": 0.5}}, \"type\": \"barpolar\"}], \"carpet\": [{\"aaxis\": {\"endlinecolor\": \"#2a3f5f\", \"gridcolor\": \"white\", \"linecolor\": \"white\", \"minorgridcolor\": \"white\", \"startlinecolor\": \"#2a3f5f\"}, \"baxis\": {\"endlinecolor\": \"#2a3f5f\", \"gridcolor\": \"white\", \"linecolor\": \"white\", \"minorgridcolor\": \"white\", \"startlinecolor\": \"#2a3f5f\"}, \"type\": \"carpet\"}], \"choropleth\": [{\"colorbar\": {\"outlinewidth\": 0, \"ticks\": \"\"}, \"type\": \"choropleth\"}], \"contour\": [{\"colorbar\": {\"outlinewidth\": 0, \"ticks\": \"\"}, \"colorscale\": [[0.0, \"#0d0887\"], [0.1111111111111111, \"#46039f\"], [0.2222222222222222, \"#7201a8\"], [0.3333333333333333, \"#9c179e\"], [0.4444444444444444, \"#bd3786\"], [0.5555555555555556, \"#d8576b\"], [0.6666666666666666, \"#ed7953\"], [0.7777777777777778, \"#fb9f3a\"], [0.8888888888888888, \"#fdca26\"], [1.0, \"#f0f921\"]], \"type\": \"contour\"}], \"contourcarpet\": [{\"colorbar\": {\"outlinewidth\": 0, \"ticks\": \"\"}, \"type\": \"contourcarpet\"}], \"heatmap\": [{\"colorbar\": {\"outlinewidth\": 0, \"ticks\": \"\"}, \"colorscale\": [[0.0, \"#0d0887\"], [0.1111111111111111, \"#46039f\"], [0.2222222222222222, \"#7201a8\"], [0.3333333333333333, \"#9c179e\"], [0.4444444444444444, \"#bd3786\"], [0.5555555555555556, \"#d8576b\"], [0.6666666666666666, \"#ed7953\"], [0.7777777777777778, \"#fb9f3a\"], [0.8888888888888888, \"#fdca26\"], [1.0, \"#f0f921\"]], \"type\": \"heatmap\"}], \"heatmapgl\": [{\"colorbar\": {\"outlinewidth\": 0, \"ticks\": \"\"}, \"colorscale\": [[0.0, \"#0d0887\"], [0.1111111111111111, \"#46039f\"], [0.2222222222222222, \"#7201a8\"], [0.3333333333333333, \"#9c179e\"], [0.4444444444444444, \"#bd3786\"], [0.5555555555555556, \"#d8576b\"], [0.6666666666666666, \"#ed7953\"], [0.7777777777777778, \"#fb9f3a\"], [0.8888888888888888, \"#fdca26\"], [1.0, \"#f0f921\"]], \"type\": \"heatmapgl\"}], \"histogram\": [{\"marker\": {\"colorbar\": {\"outlinewidth\": 0, \"ticks\": \"\"}}, \"type\": \"histogram\"}], \"histogram2d\": [{\"colorbar\": {\"outlinewidth\": 0, \"ticks\": \"\"}, \"colorscale\": [[0.0, \"#0d0887\"], [0.1111111111111111, \"#46039f\"], [0.2222222222222222, \"#7201a8\"], [0.3333333333333333, \"#9c179e\"], [0.4444444444444444, \"#bd3786\"], [0.5555555555555556, \"#d8576b\"], [0.6666666666666666, \"#ed7953\"], [0.7777777777777778, \"#fb9f3a\"], [0.8888888888888888, \"#fdca26\"], [1.0, \"#f0f921\"]], \"type\": \"histogram2d\"}], \"histogram2dcontour\": [{\"colorbar\": {\"outlinewidth\": 0, \"ticks\": \"\"}, \"colorscale\": [[0.0, \"#0d0887\"], [0.1111111111111111, \"#46039f\"], [0.2222222222222222, \"#7201a8\"], [0.3333333333333333, \"#9c179e\"], [0.4444444444444444, \"#bd3786\"], [0.5555555555555556, \"#d8576b\"], [0.6666666666666666, \"#ed7953\"], [0.7777777777777778, \"#fb9f3a\"], [0.8888888888888888, \"#fdca26\"], [1.0, \"#f0f921\"]], \"type\": \"histogram2dcontour\"}], \"mesh3d\": [{\"colorbar\": {\"outlinewidth\": 0, \"ticks\": \"\"}, \"type\": \"mesh3d\"}], \"parcoords\": [{\"line\": {\"colorbar\": {\"outlinewidth\": 0, \"ticks\": \"\"}}, \"type\": \"parcoords\"}], \"pie\": [{\"automargin\": true, \"type\": \"pie\"}], \"scatter\": [{\"marker\": {\"colorbar\": {\"outlinewidth\": 0, \"ticks\": \"\"}}, \"type\": \"scatter\"}], \"scatter3d\": [{\"line\": {\"colorbar\": {\"outlinewidth\": 0, \"ticks\": \"\"}}, \"marker\": {\"colorbar\": {\"outlinewidth\": 0, \"ticks\": \"\"}}, \"type\": \"scatter3d\"}], \"scattercarpet\": [{\"marker\": {\"colorbar\": {\"outlinewidth\": 0, \"ticks\": \"\"}}, \"type\": \"scattercarpet\"}], \"scattergeo\": [{\"marker\": {\"colorbar\": {\"outlinewidth\": 0, \"ticks\": \"\"}}, \"type\": \"scattergeo\"}], \"scattergl\": [{\"marker\": {\"colorbar\": {\"outlinewidth\": 0, \"ticks\": \"\"}}, \"type\": \"scattergl\"}], \"scattermapbox\": [{\"marker\": {\"colorbar\": {\"outlinewidth\": 0, \"ticks\": \"\"}}, \"type\": \"scattermapbox\"}], \"scatterpolar\": [{\"marker\": {\"colorbar\": {\"outlinewidth\": 0, \"ticks\": \"\"}}, \"type\": \"scatterpolar\"}], \"scatterpolargl\": [{\"marker\": {\"colorbar\": {\"outlinewidth\": 0, \"ticks\": \"\"}}, \"type\": \"scatterpolargl\"}], \"scatterternary\": [{\"marker\": {\"colorbar\": {\"outlinewidth\": 0, \"ticks\": \"\"}}, \"type\": \"scatterternary\"}], \"surface\": [{\"colorbar\": {\"outlinewidth\": 0, \"ticks\": \"\"}, \"colorscale\": [[0.0, \"#0d0887\"], [0.1111111111111111, \"#46039f\"], [0.2222222222222222, \"#7201a8\"], [0.3333333333333333, \"#9c179e\"], [0.4444444444444444, \"#bd3786\"], [0.5555555555555556, \"#d8576b\"], [0.6666666666666666, \"#ed7953\"], [0.7777777777777778, \"#fb9f3a\"], [0.8888888888888888, \"#fdca26\"], [1.0, \"#f0f921\"]], \"type\": \"surface\"}], \"table\": [{\"cells\": {\"fill\": {\"color\": \"#EBF0F8\"}, \"line\": {\"color\": \"white\"}}, \"header\": {\"fill\": {\"color\": \"#C8D4E3\"}, \"line\": {\"color\": \"white\"}}, \"type\": \"table\"}]}, \"layout\": {\"annotationdefaults\": {\"arrowcolor\": \"#2a3f5f\", \"arrowhead\": 0, \"arrowwidth\": 1}, \"coloraxis\": {\"colorbar\": {\"outlinewidth\": 0, \"ticks\": \"\"}}, \"colorscale\": {\"diverging\": [[0, \"#8e0152\"], [0.1, \"#c51b7d\"], [0.2, \"#de77ae\"], [0.3, \"#f1b6da\"], [0.4, \"#fde0ef\"], [0.5, \"#f7f7f7\"], [0.6, \"#e6f5d0\"], [0.7, \"#b8e186\"], [0.8, \"#7fbc41\"], [0.9, \"#4d9221\"], [1, \"#276419\"]], \"sequential\": [[0.0, \"#0d0887\"], [0.1111111111111111, \"#46039f\"], [0.2222222222222222, \"#7201a8\"], [0.3333333333333333, \"#9c179e\"], [0.4444444444444444, \"#bd3786\"], [0.5555555555555556, \"#d8576b\"], [0.6666666666666666, \"#ed7953\"], [0.7777777777777778, \"#fb9f3a\"], [0.8888888888888888, \"#fdca26\"], [1.0, \"#f0f921\"]], \"sequentialminus\": [[0.0, \"#0d0887\"], [0.1111111111111111, \"#46039f\"], [0.2222222222222222, \"#7201a8\"], [0.3333333333333333, \"#9c179e\"], [0.4444444444444444, \"#bd3786\"], [0.5555555555555556, \"#d8576b\"], [0.6666666666666666, \"#ed7953\"], [0.7777777777777778, \"#fb9f3a\"], [0.8888888888888888, \"#fdca26\"], [1.0, \"#f0f921\"]]}, \"colorway\": [\"#636efa\", \"#EF553B\", \"#00cc96\", \"#ab63fa\", \"#FFA15A\", \"#19d3f3\", \"#FF6692\", \"#B6E880\", \"#FF97FF\", \"#FECB52\"], \"font\": {\"color\": \"#2a3f5f\"}, \"geo\": {\"bgcolor\": \"white\", \"lakecolor\": \"white\", \"landcolor\": \"#E5ECF6\", \"showlakes\": true, \"showland\": true, \"subunitcolor\": \"white\"}, \"hoverlabel\": {\"align\": \"left\"}, \"hovermode\": \"closest\", \"mapbox\": {\"style\": \"light\"}, \"paper_bgcolor\": \"white\", \"plot_bgcolor\": \"#E5ECF6\", \"polar\": {\"angularaxis\": {\"gridcolor\": \"white\", \"linecolor\": \"white\", \"ticks\": \"\"}, \"bgcolor\": \"#E5ECF6\", \"radialaxis\": {\"gridcolor\": \"white\", \"linecolor\": \"white\", \"ticks\": \"\"}}, \"scene\": {\"xaxis\": {\"backgroundcolor\": \"#E5ECF6\", \"gridcolor\": \"white\", \"gridwidth\": 2, \"linecolor\": \"white\", \"showbackground\": true, \"ticks\": \"\", \"zerolinecolor\": \"white\"}, \"yaxis\": {\"backgroundcolor\": \"#E5ECF6\", \"gridcolor\": \"white\", \"gridwidth\": 2, \"linecolor\": \"white\", \"showbackground\": true, \"ticks\": \"\", \"zerolinecolor\": \"white\"}, \"zaxis\": {\"backgroundcolor\": \"#E5ECF6\", \"gridcolor\": \"white\", \"gridwidth\": 2, \"linecolor\": \"white\", \"showbackground\": true, \"ticks\": \"\", \"zerolinecolor\": \"white\"}}, \"shapedefaults\": {\"line\": {\"color\": \"#2a3f5f\"}}, \"ternary\": {\"aaxis\": {\"gridcolor\": \"white\", \"linecolor\": \"white\", \"ticks\": \"\"}, \"baxis\": {\"gridcolor\": \"white\", \"linecolor\": \"white\", \"ticks\": \"\"}, \"bgcolor\": \"#E5ECF6\", \"caxis\": {\"gridcolor\": \"white\", \"linecolor\": \"white\", \"ticks\": \"\"}}, \"title\": {\"x\": 0.05}, \"xaxis\": {\"automargin\": true, \"gridcolor\": \"white\", \"linecolor\": \"white\", \"ticks\": \"\", \"title\": {\"standoff\": 15}, \"zerolinecolor\": \"white\", \"zerolinewidth\": 2}, \"yaxis\": {\"automargin\": true, \"gridcolor\": \"white\", \"linecolor\": \"white\", \"ticks\": \"\", \"title\": {\"standoff\": 15}, \"zerolinecolor\": \"white\", \"zerolinewidth\": 2}}}, \"xaxis\": {\"anchor\": \"y\", \"domain\": [0.0, 1.0], \"title\": {\"text\": \"degree\"}}, \"yaxis\": {\"anchor\": \"x\", \"domain\": [0.0, 1.0], \"title\": {\"text\": \"accuracy (mean)\"}}},                        {\"responsive\": true}                    ).then(function(){\n                            \nvar gd = document.getElementById('e8674c70-7e6b-4263-998f-78e4f00b9389');\nvar x = new MutationObserver(function (mutations, observer) {{\n        var display = window.getComputedStyle(gd).display;\n        if (!display || display === 'none') {{\n            console.log([gd, 'removed!']);\n            Plotly.purge(gd);\n            observer.disconnect();\n        }}\n}});\n\n// Listen for the removal of the full notebook cells\nvar notebookContainer = gd.closest('#notebook-container');\nif (notebookContainer) {{\n    x.observe(notebookContainer, {childList: true});\n}}\n\n// Listen for the clearing of the current output cell\nvar outputEl = gd.closest('.output');\nif (outputEl) {{\n    x.observe(outputEl, {childList: true});\n}}\n\n                        })                };                });            </script>        </div>"
     },
     "metadata": {}
    }
   ],
   "source": [
    "degree = []\n",
    "accuracy = []\n",
    "\n",
    "for i in range(1, 5):\n",
    "    model = SVC(kernel='poly', shrinking=False, degree=i)\n",
    "    score = cross_val_score(model, original_X, original_y)\n",
    "    accuracy.append(score.mean())\n",
    "    degree.append(i)\n",
    "\n",
    "result = pd.DataFrame(zip(degree, accuracy), columns=['degree', 'accuracy (mean)'])\n",
    "px.line(result, x='degree', y='accuracy (mean)')"
   ]
  },
  {
   "source": [
    "### Estimate test error by 5-fold cross validation"
   ],
   "cell_type": "markdown",
   "metadata": {}
  },
  {
   "cell_type": "code",
   "execution_count": 7,
   "metadata": {},
   "outputs": [
    {
     "output_type": "execute_result",
     "data": {
      "text/plain": [
       "0.8136840123030569"
      ]
     },
     "metadata": {},
     "execution_count": 7
    }
   ],
   "source": [
    "model = SVC(kernel='poly', shrinking=False, degree=3)\n",
    "cross_val_score(model, original_X, original_y).mean()"
   ]
  },
  {
   "source": [
    "## RBF kernel\n",
    "Radial basis function kernel"
   ],
   "cell_type": "markdown",
   "metadata": {}
  },
  {
   "source": [
    "### Estimate test error by 5-fold cross validation"
   ],
   "cell_type": "markdown",
   "metadata": {}
  },
  {
   "cell_type": "code",
   "execution_count": 9,
   "metadata": {},
   "outputs": [
    {
     "output_type": "execute_result",
     "data": {
      "text/plain": [
       "0.8237775406440274"
      ]
     },
     "metadata": {},
     "execution_count": 9
    }
   ],
   "source": [
    "model = SVC(kernel='rbf', shrinking=False)\n",
    "cross_val_score(model, original_X, original_y).mean()"
   ]
  },
  {
   "source": [
    "## Classification with RBF kernel"
   ],
   "cell_type": "markdown",
   "metadata": {}
  },
  {
   "cell_type": "code",
   "execution_count": 14,
   "metadata": {},
   "outputs": [],
   "source": [
    "model = SVC(kernel='rbf', shrinking=False, probability=True)\n",
    "model = model.fit(original_X, original_y)"
   ]
  },
  {
   "source": [
    "## Confusion matrix and ROC"
   ],
   "cell_type": "markdown",
   "metadata": {}
  },
  {
   "cell_type": "code",
   "execution_count": 15,
   "metadata": {},
   "outputs": [
    {
     "output_type": "execute_result",
     "data": {
      "text/plain": [
       "'TP: 230, TN: 522, FP: 27, FN: 112'"
      ]
     },
     "metadata": {},
     "execution_count": 15
    }
   ],
   "source": [
    "tn, fp, fn, tp = confusion_matrix(original_y, model.predict(original_X).ravel()).ravel()\n",
    "\n",
    "f\"TP: {tp}, TN: {tn}, FP: {fp}, FN: {fn}\""
   ]
  },
  {
   "cell_type": "code",
   "execution_count": 16,
   "metadata": {},
   "outputs": [
    {
     "output_type": "display_data",
     "data": {
      "application/vnd.plotly.v1+json": {
       "config": {
        "plotlyServerURL": "https://plot.ly"
       },
       "data": [
        {
         "hovertemplate": "False Positive Rate=%{x}<br>True Positive Rate=%{y}<extra></extra>",
         "legendgroup": "",
         "line": {
          "color": "#636efa"
         },
         "mode": "lines",
         "name": "",
         "orientation": "v",
         "showlegend": false,
         "stackgroup": "1",
         "type": "scatter",
         "x": [
          0,
          0,
          0,
          0.0018214936247723133,
          0.0018214936247723133,
          0.0036429872495446266,
          0.0036429872495446266,
          0.00546448087431694,
          0.00546448087431694,
          0.007285974499089253,
          0.007285974499089253,
          0.007285974499089253,
          0.007285974499089253,
          0.009107468123861567,
          0.009107468123861567,
          0.01092896174863388,
          0.01092896174863388,
          0.01092896174863388,
          0.01092896174863388,
          0.012750455373406194,
          0.012750455373406194,
          0.012750455373406194,
          0.014571948998178506,
          0.014571948998178506,
          0.01639344262295082,
          0.01639344262295082,
          0.018214936247723135,
          0.018214936247723135,
          0.018214936247723135,
          0.018214936247723135,
          0.018214936247723135,
          0.020036429872495445,
          0.020036429872495445,
          0.020036429872495445,
          0.02185792349726776,
          0.02185792349726776,
          0.02185792349726776,
          0.02185792349726776,
          0.023679417122040074,
          0.023679417122040074,
          0.025500910746812388,
          0.025500910746812388,
          0.0273224043715847,
          0.0273224043715847,
          0.030965391621129327,
          0.030965391621129327,
          0.03278688524590164,
          0.03278688524590164,
          0.03278688524590164,
          0.03278688524590164,
          0.03460837887067395,
          0.03460837887067395,
          0.03642987249544627,
          0.03642987249544627,
          0.03825136612021858,
          0.03825136612021858,
          0.04007285974499089,
          0.04007285974499089,
          0.04371584699453552,
          0.04371584699453552,
          0.04553734061930783,
          0.04553734061930783,
          0.04918032786885246,
          0.04918032786885246,
          0.051001821493624776,
          0.051001821493624776,
          0.052823315118397086,
          0.052823315118397086,
          0.056466302367941715,
          0.056466302367941715,
          0.058287795992714025,
          0.058287795992714025,
          0.060109289617486336,
          0.060109289617486336,
          0.061930783242258654,
          0.061930783242258654,
          0.06557377049180328,
          0.07103825136612021,
          0.07103825136612021,
          0.08743169398907104,
          0.08743169398907104,
          0.0947176684881603,
          0.0947176684881603,
          0.0965391621129326,
          0.0965391621129326,
          0.10200364298724955,
          0.10200364298724955,
          0.10746812386156648,
          0.10746812386156648,
          0.1092896174863388,
          0.1092896174863388,
          0.11839708561020036,
          0.11839708561020036,
          0.12568306010928962,
          0.12568306010928962,
          0.13296903460837886,
          0.13296903460837886,
          0.1384335154826958,
          0.1384335154826958,
          0.14025500910746813,
          0.14025500910746813,
          0.14571948998178508,
          0.14571948998178508,
          0.14754098360655737,
          0.14754098360655737,
          0.15482695810564662,
          0.15482695810564662,
          0.16029143897996356,
          0.16029143897996356,
          0.1621129326047359,
          0.1621129326047359,
          0.1657559198542805,
          0.1657559198542805,
          0.16939890710382513,
          0.16939890710382513,
          0.18579234972677597,
          0.18761384335154827,
          0.1894353369763206,
          0.1930783242258652,
          0.1930783242258652,
          0.19854280510018216,
          0.19854280510018216,
          0.2040072859744991,
          0.2040072859744991,
          0.2058287795992714,
          0.21129326047358835,
          0.2204007285974499,
          0.22404371584699453,
          0.22768670309653916,
          0.22768670309653916,
          0.22950819672131148,
          0.22950819672131148,
          0.23679417122040072,
          0.24043715846994534,
          0.2495446265938069,
          0.2495446265938069,
          0.25318761384335153,
          0.25318761384335153,
          0.2550091074681239,
          0.2550091074681239,
          0.2586520947176685,
          0.2604735883424408,
          0.26229508196721313,
          0.2659380692167577,
          0.2659380692167577,
          0.273224043715847,
          0.273224043715847,
          0.2750455373406193,
          0.2750455373406193,
          0.2768670309653916,
          0.2768670309653916,
          0.302367941712204,
          0.30601092896174864,
          0.3205828779599271,
          0.3205828779599271,
          0.32786885245901637,
          0.33697632058287796,
          0.3460837887067395,
          0.35154826958105645,
          0.3570127504553734,
          0.37340619307832423,
          0.3770491803278688,
          0.3825136612021858,
          0.3879781420765027,
          0.3989071038251366,
          0.4007285974499089,
          0.4098360655737705,
          0.4134790528233151,
          0.41530054644808745,
          0.41530054644808745,
          0.4207650273224044,
          0.4225865209471767,
          0.4225865209471767,
          0.424408014571949,
          0.424408014571949,
          0.4262295081967213,
          0.42805100182149364,
          0.42987249544626593,
          0.43169398907103823,
          0.43169398907103823,
          0.43897996357012753,
          0.4553734061930783,
          0.46083788706739526,
          0.46083788706739526,
          0.4772313296903461,
          0.4772313296903461,
          0.4808743169398907,
          0.4808743169398907,
          0.48633879781420764,
          0.48633879781420764,
          0.4899817850637523,
          0.4918032786885246,
          0.4918032786885246,
          0.49544626593806923,
          0.4972677595628415,
          0.546448087431694,
          0.5537340619307832,
          0.5646630236794171,
          0.5683060109289617,
          0.5683060109289617,
          0.5719489981785064,
          0.575591985428051,
          0.5919854280510018,
          0.599271402550091,
          0.6065573770491803,
          0.6065573770491803,
          0.6211293260473588,
          0.6211293260473588,
          0.6229508196721312,
          0.6265938069216758,
          0.6284153005464481,
          0.6284153005464481,
          0.6320582877959927,
          0.6357012750455373,
          0.6466302367941712,
          0.6502732240437158,
          0.6520947176684881,
          0.6557377049180327,
          0.6575591985428051,
          0.6575591985428051,
          0.6612021857923497,
          0.6648451730418944,
          0.6648451730418944,
          0.6757741347905283,
          0.6757741347905283,
          0.6775956284153005,
          0.6812386156648452,
          0.6848816029143898,
          0.6848816029143898,
          0.697632058287796,
          0.7030965391621129,
          0.7158469945355191,
          0.7158469945355191,
          0.7176684881602914,
          0.7395264116575592,
          0.7668488160291439,
          0.7723132969034608,
          0.7741347905282332,
          0.7741347905282332,
          0.7777777777777778,
          0.7777777777777778,
          0.7814207650273224,
          0.7868852459016393,
          0.7923497267759563,
          0.7923497267759563,
          0.7959927140255009,
          0.7996357012750456,
          0.8069216757741348,
          0.8105646630236795,
          0.8105646630236795,
          0.8142076502732241,
          0.819672131147541,
          0.819672131147541,
          0.825136612021858,
          0.8342440801457195,
          0.8342440801457195,
          0.8415300546448088,
          0.8524590163934426,
          0.8615664845173042,
          0.8633879781420765,
          0.8670309653916212,
          0.8724954462659381,
          0.8834244080145719,
          0.8907103825136612,
          0.8907103825136612,
          0.8943533697632058,
          0.8943533697632058,
          0.8961748633879781,
          0.8961748633879781,
          0.907103825136612,
          0.907103825136612,
          0.9162112932604736,
          0.9162112932604736,
          0.9180327868852459,
          0.9216757741347905,
          0.930783242258652,
          0.930783242258652,
          0.9435336976320583,
          0.9453551912568307,
          0.9471766848816029,
          0.9508196721311475,
          1
         ],
         "xaxis": "x",
         "y": [
          0,
          0.0029239766081871343,
          0.1695906432748538,
          0.1695906432748538,
          0.19005847953216373,
          0.19005847953216373,
          0.195906432748538,
          0.195906432748538,
          0.2046783625730994,
          0.2046783625730994,
          0.2573099415204678,
          0.2631578947368421,
          0.3128654970760234,
          0.3128654970760234,
          0.3157894736842105,
          0.3157894736842105,
          0.3333333333333333,
          0.3391812865497076,
          0.34210526315789475,
          0.34210526315789475,
          0.347953216374269,
          0.3567251461988304,
          0.3567251461988304,
          0.36257309941520466,
          0.3654970760233918,
          0.38011695906432746,
          0.38011695906432746,
          0.3888888888888889,
          0.39766081871345027,
          0.40350877192982454,
          0.4064327485380117,
          0.4269005847953216,
          0.43567251461988304,
          0.4590643274853801,
          0.4590643274853801,
          0.48830409356725146,
          0.49415204678362573,
          0.5409356725146199,
          0.5409356725146199,
          0.543859649122807,
          0.543859649122807,
          0.5497076023391813,
          0.5497076023391813,
          0.5614035087719298,
          0.5614035087719298,
          0.5730994152046783,
          0.5730994152046783,
          0.5818713450292398,
          0.5877192982456141,
          0.5906432748538012,
          0.5906432748538012,
          0.6023391812865497,
          0.6023391812865497,
          0.6081871345029239,
          0.6081871345029239,
          0.6140350877192983,
          0.6140350877192983,
          0.6286549707602339,
          0.6286549707602339,
          0.652046783625731,
          0.652046783625731,
          0.6666666666666666,
          0.6666666666666666,
          0.672514619883041,
          0.672514619883041,
          0.6754385964912281,
          0.6754385964912281,
          0.6783625730994152,
          0.6900584795321637,
          0.6929824561403509,
          0.6929824561403509,
          0.695906432748538,
          0.695906432748538,
          0.6988304093567251,
          0.6988304093567251,
          0.7105263157894737,
          0.7105263157894737,
          0.7105263157894737,
          0.7134502923976608,
          0.7134502923976608,
          0.716374269005848,
          0.716374269005848,
          0.7192982456140351,
          0.7192982456140351,
          0.7251461988304093,
          0.7251461988304093,
          0.7309941520467836,
          0.7309941520467836,
          0.7339181286549707,
          0.7339181286549707,
          0.7397660818713451,
          0.7397660818713451,
          0.7485380116959064,
          0.7485380116959064,
          0.7602339181286549,
          0.7602339181286549,
          0.7660818713450293,
          0.7660818713450293,
          0.7719298245614035,
          0.7719298245614035,
          0.7748538011695907,
          0.7748538011695907,
          0.7807017543859649,
          0.7807017543859649,
          0.783625730994152,
          0.783625730994152,
          0.7894736842105263,
          0.7894736842105263,
          0.7953216374269005,
          0.7953216374269005,
          0.7982456140350878,
          0.804093567251462,
          0.8070175438596491,
          0.8070175438596491,
          0.8099415204678363,
          0.8099415204678363,
          0.8128654970760234,
          0.8128654970760234,
          0.8128654970760234,
          0.8157894736842105,
          0.8157894736842105,
          0.8187134502923976,
          0.8187134502923976,
          0.8216374269005848,
          0.8216374269005848,
          0.8216374269005848,
          0.8216374269005848,
          0.8216374269005848,
          0.8216374269005848,
          0.827485380116959,
          0.827485380116959,
          0.8304093567251462,
          0.8304093567251462,
          0.8304093567251462,
          0.8304093567251462,
          0.8362573099415205,
          0.8362573099415205,
          0.8391812865497076,
          0.8391812865497076,
          0.8421052631578947,
          0.8421052631578947,
          0.8450292397660819,
          0.8508771929824561,
          0.8508771929824561,
          0.8538011695906432,
          0.8538011695906432,
          0.8567251461988304,
          0.8567251461988304,
          0.8596491228070176,
          0.8596491228070176,
          0.8654970760233918,
          0.8654970760233918,
          0.8654970760233918,
          0.8654970760233918,
          0.868421052631579,
          0.868421052631579,
          0.868421052631579,
          0.8713450292397661,
          0.8713450292397661,
          0.8713450292397661,
          0.8713450292397661,
          0.8713450292397661,
          0.8713450292397661,
          0.8713450292397661,
          0.8713450292397661,
          0.8742690058479532,
          0.8742690058479532,
          0.8742690058479532,
          0.8742690058479532,
          0.8801169590643275,
          0.8801169590643275,
          0.8801169590643275,
          0.8830409356725146,
          0.8830409356725146,
          0.8859649122807017,
          0.8859649122807017,
          0.8888888888888888,
          0.8888888888888888,
          0.8918128654970761,
          0.8976608187134503,
          0.8976608187134503,
          0.9005847953216374,
          0.9005847953216374,
          0.9035087719298246,
          0.9035087719298246,
          0.9093567251461988,
          0.9093567251461988,
          0.9152046783625731,
          0.9152046783625731,
          0.9181286549707602,
          0.9181286549707602,
          0.9181286549707602,
          0.9210526315789473,
          0.9210526315789473,
          0.9239766081871345,
          0.9239766081871345,
          0.9239766081871345,
          0.9239766081871345,
          0.9239766081871345,
          0.9269005847953217,
          0.9269005847953217,
          0.9269005847953217,
          0.9269005847953217,
          0.9269005847953217,
          0.9269005847953217,
          0.9298245614035088,
          0.9298245614035088,
          0.9327485380116959,
          0.9327485380116959,
          0.935672514619883,
          0.935672514619883,
          0.9385964912280702,
          0.9385964912280702,
          0.9385964912280702,
          0.9385964912280702,
          0.9385964912280702,
          0.9385964912280702,
          0.9385964912280702,
          0.9385964912280702,
          0.9415204678362573,
          0.9415204678362573,
          0.9415204678362573,
          0.9444444444444444,
          0.9444444444444444,
          0.9473684210526315,
          0.9473684210526315,
          0.9473684210526315,
          0.9473684210526315,
          0.9502923976608187,
          0.9502923976608187,
          0.9502923976608187,
          0.9502923976608187,
          0.9532163742690059,
          0.9532163742690059,
          0.9532163742690059,
          0.9532163742690059,
          0.9532163742690059,
          0.956140350877193,
          0.9590643274853801,
          0.9590643274853801,
          0.9619883040935673,
          0.9619883040935673,
          0.9619883040935673,
          0.9619883040935673,
          0.9649122807017544,
          0.9649122807017544,
          0.9649122807017544,
          0.9649122807017544,
          0.9649122807017544,
          0.9678362573099415,
          0.9707602339181286,
          0.9707602339181286,
          0.9736842105263158,
          0.9736842105263158,
          0.9736842105263158,
          0.9766081871345029,
          0.9766081871345029,
          0.9766081871345029,
          0.9766081871345029,
          0.97953216374269,
          0.97953216374269,
          0.97953216374269,
          0.97953216374269,
          0.97953216374269,
          0.9824561403508771,
          0.9824561403508771,
          0.9853801169590644,
          0.9853801169590644,
          0.9883040935672515,
          0.9883040935672515,
          0.9912280701754386,
          0.9912280701754386,
          0.9941520467836257,
          0.9941520467836257,
          0.9941520467836257,
          0.9941520467836257,
          0.9970760233918129,
          0.9970760233918129,
          1,
          1,
          1,
          1
         ],
         "yaxis": "y"
        }
       ],
       "layout": {
        "height": 500,
        "legend": {
         "tracegroupgap": 0
        },
        "shapes": [
         {
          "line": {
           "dash": "dash"
          },
          "type": "line",
          "x0": 0,
          "x1": 1,
          "y0": 0,
          "y1": 1
         }
        ],
        "template": {
         "data": {
          "bar": [
           {
            "error_x": {
             "color": "#2a3f5f"
            },
            "error_y": {
             "color": "#2a3f5f"
            },
            "marker": {
             "line": {
              "color": "#E5ECF6",
              "width": 0.5
             }
            },
            "type": "bar"
           }
          ],
          "barpolar": [
           {
            "marker": {
             "line": {
              "color": "#E5ECF6",
              "width": 0.5
             }
            },
            "type": "barpolar"
           }
          ],
          "carpet": [
           {
            "aaxis": {
             "endlinecolor": "#2a3f5f",
             "gridcolor": "white",
             "linecolor": "white",
             "minorgridcolor": "white",
             "startlinecolor": "#2a3f5f"
            },
            "baxis": {
             "endlinecolor": "#2a3f5f",
             "gridcolor": "white",
             "linecolor": "white",
             "minorgridcolor": "white",
             "startlinecolor": "#2a3f5f"
            },
            "type": "carpet"
           }
          ],
          "choropleth": [
           {
            "colorbar": {
             "outlinewidth": 0,
             "ticks": ""
            },
            "type": "choropleth"
           }
          ],
          "contour": [
           {
            "colorbar": {
             "outlinewidth": 0,
             "ticks": ""
            },
            "colorscale": [
             [
              0,
              "#0d0887"
             ],
             [
              0.1111111111111111,
              "#46039f"
             ],
             [
              0.2222222222222222,
              "#7201a8"
             ],
             [
              0.3333333333333333,
              "#9c179e"
             ],
             [
              0.4444444444444444,
              "#bd3786"
             ],
             [
              0.5555555555555556,
              "#d8576b"
             ],
             [
              0.6666666666666666,
              "#ed7953"
             ],
             [
              0.7777777777777778,
              "#fb9f3a"
             ],
             [
              0.8888888888888888,
              "#fdca26"
             ],
             [
              1,
              "#f0f921"
             ]
            ],
            "type": "contour"
           }
          ],
          "contourcarpet": [
           {
            "colorbar": {
             "outlinewidth": 0,
             "ticks": ""
            },
            "type": "contourcarpet"
           }
          ],
          "heatmap": [
           {
            "colorbar": {
             "outlinewidth": 0,
             "ticks": ""
            },
            "colorscale": [
             [
              0,
              "#0d0887"
             ],
             [
              0.1111111111111111,
              "#46039f"
             ],
             [
              0.2222222222222222,
              "#7201a8"
             ],
             [
              0.3333333333333333,
              "#9c179e"
             ],
             [
              0.4444444444444444,
              "#bd3786"
             ],
             [
              0.5555555555555556,
              "#d8576b"
             ],
             [
              0.6666666666666666,
              "#ed7953"
             ],
             [
              0.7777777777777778,
              "#fb9f3a"
             ],
             [
              0.8888888888888888,
              "#fdca26"
             ],
             [
              1,
              "#f0f921"
             ]
            ],
            "type": "heatmap"
           }
          ],
          "heatmapgl": [
           {
            "colorbar": {
             "outlinewidth": 0,
             "ticks": ""
            },
            "colorscale": [
             [
              0,
              "#0d0887"
             ],
             [
              0.1111111111111111,
              "#46039f"
             ],
             [
              0.2222222222222222,
              "#7201a8"
             ],
             [
              0.3333333333333333,
              "#9c179e"
             ],
             [
              0.4444444444444444,
              "#bd3786"
             ],
             [
              0.5555555555555556,
              "#d8576b"
             ],
             [
              0.6666666666666666,
              "#ed7953"
             ],
             [
              0.7777777777777778,
              "#fb9f3a"
             ],
             [
              0.8888888888888888,
              "#fdca26"
             ],
             [
              1,
              "#f0f921"
             ]
            ],
            "type": "heatmapgl"
           }
          ],
          "histogram": [
           {
            "marker": {
             "colorbar": {
              "outlinewidth": 0,
              "ticks": ""
             }
            },
            "type": "histogram"
           }
          ],
          "histogram2d": [
           {
            "colorbar": {
             "outlinewidth": 0,
             "ticks": ""
            },
            "colorscale": [
             [
              0,
              "#0d0887"
             ],
             [
              0.1111111111111111,
              "#46039f"
             ],
             [
              0.2222222222222222,
              "#7201a8"
             ],
             [
              0.3333333333333333,
              "#9c179e"
             ],
             [
              0.4444444444444444,
              "#bd3786"
             ],
             [
              0.5555555555555556,
              "#d8576b"
             ],
             [
              0.6666666666666666,
              "#ed7953"
             ],
             [
              0.7777777777777778,
              "#fb9f3a"
             ],
             [
              0.8888888888888888,
              "#fdca26"
             ],
             [
              1,
              "#f0f921"
             ]
            ],
            "type": "histogram2d"
           }
          ],
          "histogram2dcontour": [
           {
            "colorbar": {
             "outlinewidth": 0,
             "ticks": ""
            },
            "colorscale": [
             [
              0,
              "#0d0887"
             ],
             [
              0.1111111111111111,
              "#46039f"
             ],
             [
              0.2222222222222222,
              "#7201a8"
             ],
             [
              0.3333333333333333,
              "#9c179e"
             ],
             [
              0.4444444444444444,
              "#bd3786"
             ],
             [
              0.5555555555555556,
              "#d8576b"
             ],
             [
              0.6666666666666666,
              "#ed7953"
             ],
             [
              0.7777777777777778,
              "#fb9f3a"
             ],
             [
              0.8888888888888888,
              "#fdca26"
             ],
             [
              1,
              "#f0f921"
             ]
            ],
            "type": "histogram2dcontour"
           }
          ],
          "mesh3d": [
           {
            "colorbar": {
             "outlinewidth": 0,
             "ticks": ""
            },
            "type": "mesh3d"
           }
          ],
          "parcoords": [
           {
            "line": {
             "colorbar": {
              "outlinewidth": 0,
              "ticks": ""
             }
            },
            "type": "parcoords"
           }
          ],
          "pie": [
           {
            "automargin": true,
            "type": "pie"
           }
          ],
          "scatter": [
           {
            "marker": {
             "colorbar": {
              "outlinewidth": 0,
              "ticks": ""
             }
            },
            "type": "scatter"
           }
          ],
          "scatter3d": [
           {
            "line": {
             "colorbar": {
              "outlinewidth": 0,
              "ticks": ""
             }
            },
            "marker": {
             "colorbar": {
              "outlinewidth": 0,
              "ticks": ""
             }
            },
            "type": "scatter3d"
           }
          ],
          "scattercarpet": [
           {
            "marker": {
             "colorbar": {
              "outlinewidth": 0,
              "ticks": ""
             }
            },
            "type": "scattercarpet"
           }
          ],
          "scattergeo": [
           {
            "marker": {
             "colorbar": {
              "outlinewidth": 0,
              "ticks": ""
             }
            },
            "type": "scattergeo"
           }
          ],
          "scattergl": [
           {
            "marker": {
             "colorbar": {
              "outlinewidth": 0,
              "ticks": ""
             }
            },
            "type": "scattergl"
           }
          ],
          "scattermapbox": [
           {
            "marker": {
             "colorbar": {
              "outlinewidth": 0,
              "ticks": ""
             }
            },
            "type": "scattermapbox"
           }
          ],
          "scatterpolar": [
           {
            "marker": {
             "colorbar": {
              "outlinewidth": 0,
              "ticks": ""
             }
            },
            "type": "scatterpolar"
           }
          ],
          "scatterpolargl": [
           {
            "marker": {
             "colorbar": {
              "outlinewidth": 0,
              "ticks": ""
             }
            },
            "type": "scatterpolargl"
           }
          ],
          "scatterternary": [
           {
            "marker": {
             "colorbar": {
              "outlinewidth": 0,
              "ticks": ""
             }
            },
            "type": "scatterternary"
           }
          ],
          "surface": [
           {
            "colorbar": {
             "outlinewidth": 0,
             "ticks": ""
            },
            "colorscale": [
             [
              0,
              "#0d0887"
             ],
             [
              0.1111111111111111,
              "#46039f"
             ],
             [
              0.2222222222222222,
              "#7201a8"
             ],
             [
              0.3333333333333333,
              "#9c179e"
             ],
             [
              0.4444444444444444,
              "#bd3786"
             ],
             [
              0.5555555555555556,
              "#d8576b"
             ],
             [
              0.6666666666666666,
              "#ed7953"
             ],
             [
              0.7777777777777778,
              "#fb9f3a"
             ],
             [
              0.8888888888888888,
              "#fdca26"
             ],
             [
              1,
              "#f0f921"
             ]
            ],
            "type": "surface"
           }
          ],
          "table": [
           {
            "cells": {
             "fill": {
              "color": "#EBF0F8"
             },
             "line": {
              "color": "white"
             }
            },
            "header": {
             "fill": {
              "color": "#C8D4E3"
             },
             "line": {
              "color": "white"
             }
            },
            "type": "table"
           }
          ]
         },
         "layout": {
          "annotationdefaults": {
           "arrowcolor": "#2a3f5f",
           "arrowhead": 0,
           "arrowwidth": 1
          },
          "coloraxis": {
           "colorbar": {
            "outlinewidth": 0,
            "ticks": ""
           }
          },
          "colorscale": {
           "diverging": [
            [
             0,
             "#8e0152"
            ],
            [
             0.1,
             "#c51b7d"
            ],
            [
             0.2,
             "#de77ae"
            ],
            [
             0.3,
             "#f1b6da"
            ],
            [
             0.4,
             "#fde0ef"
            ],
            [
             0.5,
             "#f7f7f7"
            ],
            [
             0.6,
             "#e6f5d0"
            ],
            [
             0.7,
             "#b8e186"
            ],
            [
             0.8,
             "#7fbc41"
            ],
            [
             0.9,
             "#4d9221"
            ],
            [
             1,
             "#276419"
            ]
           ],
           "sequential": [
            [
             0,
             "#0d0887"
            ],
            [
             0.1111111111111111,
             "#46039f"
            ],
            [
             0.2222222222222222,
             "#7201a8"
            ],
            [
             0.3333333333333333,
             "#9c179e"
            ],
            [
             0.4444444444444444,
             "#bd3786"
            ],
            [
             0.5555555555555556,
             "#d8576b"
            ],
            [
             0.6666666666666666,
             "#ed7953"
            ],
            [
             0.7777777777777778,
             "#fb9f3a"
            ],
            [
             0.8888888888888888,
             "#fdca26"
            ],
            [
             1,
             "#f0f921"
            ]
           ],
           "sequentialminus": [
            [
             0,
             "#0d0887"
            ],
            [
             0.1111111111111111,
             "#46039f"
            ],
            [
             0.2222222222222222,
             "#7201a8"
            ],
            [
             0.3333333333333333,
             "#9c179e"
            ],
            [
             0.4444444444444444,
             "#bd3786"
            ],
            [
             0.5555555555555556,
             "#d8576b"
            ],
            [
             0.6666666666666666,
             "#ed7953"
            ],
            [
             0.7777777777777778,
             "#fb9f3a"
            ],
            [
             0.8888888888888888,
             "#fdca26"
            ],
            [
             1,
             "#f0f921"
            ]
           ]
          },
          "colorway": [
           "#636efa",
           "#EF553B",
           "#00cc96",
           "#ab63fa",
           "#FFA15A",
           "#19d3f3",
           "#FF6692",
           "#B6E880",
           "#FF97FF",
           "#FECB52"
          ],
          "font": {
           "color": "#2a3f5f"
          },
          "geo": {
           "bgcolor": "white",
           "lakecolor": "white",
           "landcolor": "#E5ECF6",
           "showlakes": true,
           "showland": true,
           "subunitcolor": "white"
          },
          "hoverlabel": {
           "align": "left"
          },
          "hovermode": "closest",
          "mapbox": {
           "style": "light"
          },
          "paper_bgcolor": "white",
          "plot_bgcolor": "#E5ECF6",
          "polar": {
           "angularaxis": {
            "gridcolor": "white",
            "linecolor": "white",
            "ticks": ""
           },
           "bgcolor": "#E5ECF6",
           "radialaxis": {
            "gridcolor": "white",
            "linecolor": "white",
            "ticks": ""
           }
          },
          "scene": {
           "xaxis": {
            "backgroundcolor": "#E5ECF6",
            "gridcolor": "white",
            "gridwidth": 2,
            "linecolor": "white",
            "showbackground": true,
            "ticks": "",
            "zerolinecolor": "white"
           },
           "yaxis": {
            "backgroundcolor": "#E5ECF6",
            "gridcolor": "white",
            "gridwidth": 2,
            "linecolor": "white",
            "showbackground": true,
            "ticks": "",
            "zerolinecolor": "white"
           },
           "zaxis": {
            "backgroundcolor": "#E5ECF6",
            "gridcolor": "white",
            "gridwidth": 2,
            "linecolor": "white",
            "showbackground": true,
            "ticks": "",
            "zerolinecolor": "white"
           }
          },
          "shapedefaults": {
           "line": {
            "color": "#2a3f5f"
           }
          },
          "ternary": {
           "aaxis": {
            "gridcolor": "white",
            "linecolor": "white",
            "ticks": ""
           },
           "baxis": {
            "gridcolor": "white",
            "linecolor": "white",
            "ticks": ""
           },
           "bgcolor": "#E5ECF6",
           "caxis": {
            "gridcolor": "white",
            "linecolor": "white",
            "ticks": ""
           }
          },
          "title": {
           "x": 0.05
          },
          "xaxis": {
           "automargin": true,
           "gridcolor": "white",
           "linecolor": "white",
           "ticks": "",
           "title": {
            "standoff": 15
           },
           "zerolinecolor": "white",
           "zerolinewidth": 2
          },
          "yaxis": {
           "automargin": true,
           "gridcolor": "white",
           "linecolor": "white",
           "ticks": "",
           "title": {
            "standoff": 15
           },
           "zerolinecolor": "white",
           "zerolinewidth": 2
          }
         }
        },
        "title": {
         "text": "ROC Curve (AUC=0.8771)"
        },
        "width": 700,
        "xaxis": {
         "anchor": "y",
         "constrain": "domain",
         "domain": [
          0,
          1
         ],
         "title": {
          "text": "False Positive Rate"
         }
        },
        "yaxis": {
         "anchor": "x",
         "domain": [
          0,
          1
         ],
         "scaleanchor": "x",
         "scaleratio": 1,
         "title": {
          "text": "True Positive Rate"
         }
        }
       }
      },
      "text/html": "<div>                            <div id=\"e9222743-0d52-4110-9a0f-9f5d5b088862\" class=\"plotly-graph-div\" style=\"height:500px; width:700px;\"></div>            <script type=\"text/javascript\">                require([\"plotly\"], function(Plotly) {                    window.PLOTLYENV=window.PLOTLYENV || {};                                    if (document.getElementById(\"e9222743-0d52-4110-9a0f-9f5d5b088862\")) {                    Plotly.newPlot(                        \"e9222743-0d52-4110-9a0f-9f5d5b088862\",                        [{\"hovertemplate\": \"False Positive Rate=%{x}<br>True Positive Rate=%{y}<extra></extra>\", \"legendgroup\": \"\", \"line\": {\"color\": \"#636efa\"}, \"mode\": \"lines\", \"name\": \"\", \"orientation\": \"v\", \"showlegend\": false, \"stackgroup\": \"1\", \"type\": \"scatter\", \"x\": [0.0, 0.0, 0.0, 0.0018214936247723133, 0.0018214936247723133, 0.0036429872495446266, 0.0036429872495446266, 0.00546448087431694, 0.00546448087431694, 0.007285974499089253, 0.007285974499089253, 0.007285974499089253, 0.007285974499089253, 0.009107468123861567, 0.009107468123861567, 0.01092896174863388, 0.01092896174863388, 0.01092896174863388, 0.01092896174863388, 0.012750455373406194, 0.012750455373406194, 0.012750455373406194, 0.014571948998178506, 0.014571948998178506, 0.01639344262295082, 0.01639344262295082, 0.018214936247723135, 0.018214936247723135, 0.018214936247723135, 0.018214936247723135, 0.018214936247723135, 0.020036429872495445, 0.020036429872495445, 0.020036429872495445, 0.02185792349726776, 0.02185792349726776, 0.02185792349726776, 0.02185792349726776, 0.023679417122040074, 0.023679417122040074, 0.025500910746812388, 0.025500910746812388, 0.0273224043715847, 0.0273224043715847, 0.030965391621129327, 0.030965391621129327, 0.03278688524590164, 0.03278688524590164, 0.03278688524590164, 0.03278688524590164, 0.03460837887067395, 0.03460837887067395, 0.03642987249544627, 0.03642987249544627, 0.03825136612021858, 0.03825136612021858, 0.04007285974499089, 0.04007285974499089, 0.04371584699453552, 0.04371584699453552, 0.04553734061930783, 0.04553734061930783, 0.04918032786885246, 0.04918032786885246, 0.051001821493624776, 0.051001821493624776, 0.052823315118397086, 0.052823315118397086, 0.056466302367941715, 0.056466302367941715, 0.058287795992714025, 0.058287795992714025, 0.060109289617486336, 0.060109289617486336, 0.061930783242258654, 0.061930783242258654, 0.06557377049180328, 0.07103825136612021, 0.07103825136612021, 0.08743169398907104, 0.08743169398907104, 0.0947176684881603, 0.0947176684881603, 0.0965391621129326, 0.0965391621129326, 0.10200364298724955, 0.10200364298724955, 0.10746812386156648, 0.10746812386156648, 0.1092896174863388, 0.1092896174863388, 0.11839708561020036, 0.11839708561020036, 0.12568306010928962, 0.12568306010928962, 0.13296903460837886, 0.13296903460837886, 0.1384335154826958, 0.1384335154826958, 0.14025500910746813, 0.14025500910746813, 0.14571948998178508, 0.14571948998178508, 0.14754098360655737, 0.14754098360655737, 0.15482695810564662, 0.15482695810564662, 0.16029143897996356, 0.16029143897996356, 0.1621129326047359, 0.1621129326047359, 0.1657559198542805, 0.1657559198542805, 0.16939890710382513, 0.16939890710382513, 0.18579234972677597, 0.18761384335154827, 0.1894353369763206, 0.1930783242258652, 0.1930783242258652, 0.19854280510018216, 0.19854280510018216, 0.2040072859744991, 0.2040072859744991, 0.2058287795992714, 0.21129326047358835, 0.2204007285974499, 0.22404371584699453, 0.22768670309653916, 0.22768670309653916, 0.22950819672131148, 0.22950819672131148, 0.23679417122040072, 0.24043715846994534, 0.2495446265938069, 0.2495446265938069, 0.25318761384335153, 0.25318761384335153, 0.2550091074681239, 0.2550091074681239, 0.2586520947176685, 0.2604735883424408, 0.26229508196721313, 0.2659380692167577, 0.2659380692167577, 0.273224043715847, 0.273224043715847, 0.2750455373406193, 0.2750455373406193, 0.2768670309653916, 0.2768670309653916, 0.302367941712204, 0.30601092896174864, 0.3205828779599271, 0.3205828779599271, 0.32786885245901637, 0.33697632058287796, 0.3460837887067395, 0.35154826958105645, 0.3570127504553734, 0.37340619307832423, 0.3770491803278688, 0.3825136612021858, 0.3879781420765027, 0.3989071038251366, 0.4007285974499089, 0.4098360655737705, 0.4134790528233151, 0.41530054644808745, 0.41530054644808745, 0.4207650273224044, 0.4225865209471767, 0.4225865209471767, 0.424408014571949, 0.424408014571949, 0.4262295081967213, 0.42805100182149364, 0.42987249544626593, 0.43169398907103823, 0.43169398907103823, 0.43897996357012753, 0.4553734061930783, 0.46083788706739526, 0.46083788706739526, 0.4772313296903461, 0.4772313296903461, 0.4808743169398907, 0.4808743169398907, 0.48633879781420764, 0.48633879781420764, 0.4899817850637523, 0.4918032786885246, 0.4918032786885246, 0.49544626593806923, 0.4972677595628415, 0.546448087431694, 0.5537340619307832, 0.5646630236794171, 0.5683060109289617, 0.5683060109289617, 0.5719489981785064, 0.575591985428051, 0.5919854280510018, 0.599271402550091, 0.6065573770491803, 0.6065573770491803, 0.6211293260473588, 0.6211293260473588, 0.6229508196721312, 0.6265938069216758, 0.6284153005464481, 0.6284153005464481, 0.6320582877959927, 0.6357012750455373, 0.6466302367941712, 0.6502732240437158, 0.6520947176684881, 0.6557377049180327, 0.6575591985428051, 0.6575591985428051, 0.6612021857923497, 0.6648451730418944, 0.6648451730418944, 0.6757741347905283, 0.6757741347905283, 0.6775956284153005, 0.6812386156648452, 0.6848816029143898, 0.6848816029143898, 0.697632058287796, 0.7030965391621129, 0.7158469945355191, 0.7158469945355191, 0.7176684881602914, 0.7395264116575592, 0.7668488160291439, 0.7723132969034608, 0.7741347905282332, 0.7741347905282332, 0.7777777777777778, 0.7777777777777778, 0.7814207650273224, 0.7868852459016393, 0.7923497267759563, 0.7923497267759563, 0.7959927140255009, 0.7996357012750456, 0.8069216757741348, 0.8105646630236795, 0.8105646630236795, 0.8142076502732241, 0.819672131147541, 0.819672131147541, 0.825136612021858, 0.8342440801457195, 0.8342440801457195, 0.8415300546448088, 0.8524590163934426, 0.8615664845173042, 0.8633879781420765, 0.8670309653916212, 0.8724954462659381, 0.8834244080145719, 0.8907103825136612, 0.8907103825136612, 0.8943533697632058, 0.8943533697632058, 0.8961748633879781, 0.8961748633879781, 0.907103825136612, 0.907103825136612, 0.9162112932604736, 0.9162112932604736, 0.9180327868852459, 0.9216757741347905, 0.930783242258652, 0.930783242258652, 0.9435336976320583, 0.9453551912568307, 0.9471766848816029, 0.9508196721311475, 1.0], \"xaxis\": \"x\", \"y\": [0.0, 0.0029239766081871343, 0.1695906432748538, 0.1695906432748538, 0.19005847953216373, 0.19005847953216373, 0.195906432748538, 0.195906432748538, 0.2046783625730994, 0.2046783625730994, 0.2573099415204678, 0.2631578947368421, 0.3128654970760234, 0.3128654970760234, 0.3157894736842105, 0.3157894736842105, 0.3333333333333333, 0.3391812865497076, 0.34210526315789475, 0.34210526315789475, 0.347953216374269, 0.3567251461988304, 0.3567251461988304, 0.36257309941520466, 0.3654970760233918, 0.38011695906432746, 0.38011695906432746, 0.3888888888888889, 0.39766081871345027, 0.40350877192982454, 0.4064327485380117, 0.4269005847953216, 0.43567251461988304, 0.4590643274853801, 0.4590643274853801, 0.48830409356725146, 0.49415204678362573, 0.5409356725146199, 0.5409356725146199, 0.543859649122807, 0.543859649122807, 0.5497076023391813, 0.5497076023391813, 0.5614035087719298, 0.5614035087719298, 0.5730994152046783, 0.5730994152046783, 0.5818713450292398, 0.5877192982456141, 0.5906432748538012, 0.5906432748538012, 0.6023391812865497, 0.6023391812865497, 0.6081871345029239, 0.6081871345029239, 0.6140350877192983, 0.6140350877192983, 0.6286549707602339, 0.6286549707602339, 0.652046783625731, 0.652046783625731, 0.6666666666666666, 0.6666666666666666, 0.672514619883041, 0.672514619883041, 0.6754385964912281, 0.6754385964912281, 0.6783625730994152, 0.6900584795321637, 0.6929824561403509, 0.6929824561403509, 0.695906432748538, 0.695906432748538, 0.6988304093567251, 0.6988304093567251, 0.7105263157894737, 0.7105263157894737, 0.7105263157894737, 0.7134502923976608, 0.7134502923976608, 0.716374269005848, 0.716374269005848, 0.7192982456140351, 0.7192982456140351, 0.7251461988304093, 0.7251461988304093, 0.7309941520467836, 0.7309941520467836, 0.7339181286549707, 0.7339181286549707, 0.7397660818713451, 0.7397660818713451, 0.7485380116959064, 0.7485380116959064, 0.7602339181286549, 0.7602339181286549, 0.7660818713450293, 0.7660818713450293, 0.7719298245614035, 0.7719298245614035, 0.7748538011695907, 0.7748538011695907, 0.7807017543859649, 0.7807017543859649, 0.783625730994152, 0.783625730994152, 0.7894736842105263, 0.7894736842105263, 0.7953216374269005, 0.7953216374269005, 0.7982456140350878, 0.804093567251462, 0.8070175438596491, 0.8070175438596491, 0.8099415204678363, 0.8099415204678363, 0.8128654970760234, 0.8128654970760234, 0.8128654970760234, 0.8157894736842105, 0.8157894736842105, 0.8187134502923976, 0.8187134502923976, 0.8216374269005848, 0.8216374269005848, 0.8216374269005848, 0.8216374269005848, 0.8216374269005848, 0.8216374269005848, 0.827485380116959, 0.827485380116959, 0.8304093567251462, 0.8304093567251462, 0.8304093567251462, 0.8304093567251462, 0.8362573099415205, 0.8362573099415205, 0.8391812865497076, 0.8391812865497076, 0.8421052631578947, 0.8421052631578947, 0.8450292397660819, 0.8508771929824561, 0.8508771929824561, 0.8538011695906432, 0.8538011695906432, 0.8567251461988304, 0.8567251461988304, 0.8596491228070176, 0.8596491228070176, 0.8654970760233918, 0.8654970760233918, 0.8654970760233918, 0.8654970760233918, 0.868421052631579, 0.868421052631579, 0.868421052631579, 0.8713450292397661, 0.8713450292397661, 0.8713450292397661, 0.8713450292397661, 0.8713450292397661, 0.8713450292397661, 0.8713450292397661, 0.8713450292397661, 0.8742690058479532, 0.8742690058479532, 0.8742690058479532, 0.8742690058479532, 0.8801169590643275, 0.8801169590643275, 0.8801169590643275, 0.8830409356725146, 0.8830409356725146, 0.8859649122807017, 0.8859649122807017, 0.8888888888888888, 0.8888888888888888, 0.8918128654970761, 0.8976608187134503, 0.8976608187134503, 0.9005847953216374, 0.9005847953216374, 0.9035087719298246, 0.9035087719298246, 0.9093567251461988, 0.9093567251461988, 0.9152046783625731, 0.9152046783625731, 0.9181286549707602, 0.9181286549707602, 0.9181286549707602, 0.9210526315789473, 0.9210526315789473, 0.9239766081871345, 0.9239766081871345, 0.9239766081871345, 0.9239766081871345, 0.9239766081871345, 0.9269005847953217, 0.9269005847953217, 0.9269005847953217, 0.9269005847953217, 0.9269005847953217, 0.9269005847953217, 0.9298245614035088, 0.9298245614035088, 0.9327485380116959, 0.9327485380116959, 0.935672514619883, 0.935672514619883, 0.9385964912280702, 0.9385964912280702, 0.9385964912280702, 0.9385964912280702, 0.9385964912280702, 0.9385964912280702, 0.9385964912280702, 0.9385964912280702, 0.9415204678362573, 0.9415204678362573, 0.9415204678362573, 0.9444444444444444, 0.9444444444444444, 0.9473684210526315, 0.9473684210526315, 0.9473684210526315, 0.9473684210526315, 0.9502923976608187, 0.9502923976608187, 0.9502923976608187, 0.9502923976608187, 0.9532163742690059, 0.9532163742690059, 0.9532163742690059, 0.9532163742690059, 0.9532163742690059, 0.956140350877193, 0.9590643274853801, 0.9590643274853801, 0.9619883040935673, 0.9619883040935673, 0.9619883040935673, 0.9619883040935673, 0.9649122807017544, 0.9649122807017544, 0.9649122807017544, 0.9649122807017544, 0.9649122807017544, 0.9678362573099415, 0.9707602339181286, 0.9707602339181286, 0.9736842105263158, 0.9736842105263158, 0.9736842105263158, 0.9766081871345029, 0.9766081871345029, 0.9766081871345029, 0.9766081871345029, 0.97953216374269, 0.97953216374269, 0.97953216374269, 0.97953216374269, 0.97953216374269, 0.9824561403508771, 0.9824561403508771, 0.9853801169590644, 0.9853801169590644, 0.9883040935672515, 0.9883040935672515, 0.9912280701754386, 0.9912280701754386, 0.9941520467836257, 0.9941520467836257, 0.9941520467836257, 0.9941520467836257, 0.9970760233918129, 0.9970760233918129, 1.0, 1.0, 1.0, 1.0], \"yaxis\": \"y\"}],                        {\"height\": 500, \"legend\": {\"tracegroupgap\": 0}, \"shapes\": [{\"line\": {\"dash\": \"dash\"}, \"type\": \"line\", \"x0\": 0, \"x1\": 1, \"y0\": 0, \"y1\": 1}], \"template\": {\"data\": {\"bar\": [{\"error_x\": {\"color\": \"#2a3f5f\"}, \"error_y\": {\"color\": \"#2a3f5f\"}, \"marker\": {\"line\": {\"color\": \"#E5ECF6\", \"width\": 0.5}}, \"type\": \"bar\"}], \"barpolar\": [{\"marker\": {\"line\": {\"color\": \"#E5ECF6\", \"width\": 0.5}}, \"type\": \"barpolar\"}], \"carpet\": [{\"aaxis\": {\"endlinecolor\": \"#2a3f5f\", \"gridcolor\": \"white\", \"linecolor\": \"white\", \"minorgridcolor\": \"white\", \"startlinecolor\": \"#2a3f5f\"}, \"baxis\": {\"endlinecolor\": \"#2a3f5f\", \"gridcolor\": \"white\", \"linecolor\": \"white\", \"minorgridcolor\": \"white\", \"startlinecolor\": \"#2a3f5f\"}, \"type\": \"carpet\"}], \"choropleth\": [{\"colorbar\": {\"outlinewidth\": 0, \"ticks\": \"\"}, \"type\": \"choropleth\"}], \"contour\": [{\"colorbar\": {\"outlinewidth\": 0, \"ticks\": \"\"}, \"colorscale\": [[0.0, \"#0d0887\"], [0.1111111111111111, \"#46039f\"], [0.2222222222222222, \"#7201a8\"], [0.3333333333333333, \"#9c179e\"], [0.4444444444444444, \"#bd3786\"], [0.5555555555555556, \"#d8576b\"], [0.6666666666666666, \"#ed7953\"], [0.7777777777777778, \"#fb9f3a\"], [0.8888888888888888, \"#fdca26\"], [1.0, \"#f0f921\"]], \"type\": \"contour\"}], \"contourcarpet\": [{\"colorbar\": {\"outlinewidth\": 0, \"ticks\": \"\"}, \"type\": \"contourcarpet\"}], \"heatmap\": [{\"colorbar\": {\"outlinewidth\": 0, \"ticks\": \"\"}, \"colorscale\": [[0.0, \"#0d0887\"], [0.1111111111111111, \"#46039f\"], [0.2222222222222222, \"#7201a8\"], [0.3333333333333333, \"#9c179e\"], [0.4444444444444444, \"#bd3786\"], [0.5555555555555556, \"#d8576b\"], [0.6666666666666666, \"#ed7953\"], [0.7777777777777778, \"#fb9f3a\"], [0.8888888888888888, \"#fdca26\"], [1.0, \"#f0f921\"]], \"type\": \"heatmap\"}], \"heatmapgl\": [{\"colorbar\": {\"outlinewidth\": 0, \"ticks\": \"\"}, \"colorscale\": [[0.0, \"#0d0887\"], [0.1111111111111111, \"#46039f\"], [0.2222222222222222, \"#7201a8\"], [0.3333333333333333, \"#9c179e\"], [0.4444444444444444, \"#bd3786\"], [0.5555555555555556, \"#d8576b\"], [0.6666666666666666, \"#ed7953\"], [0.7777777777777778, \"#fb9f3a\"], [0.8888888888888888, \"#fdca26\"], [1.0, \"#f0f921\"]], \"type\": \"heatmapgl\"}], \"histogram\": [{\"marker\": {\"colorbar\": {\"outlinewidth\": 0, \"ticks\": \"\"}}, \"type\": \"histogram\"}], \"histogram2d\": [{\"colorbar\": {\"outlinewidth\": 0, \"ticks\": \"\"}, \"colorscale\": [[0.0, \"#0d0887\"], [0.1111111111111111, \"#46039f\"], [0.2222222222222222, \"#7201a8\"], [0.3333333333333333, \"#9c179e\"], [0.4444444444444444, \"#bd3786\"], [0.5555555555555556, \"#d8576b\"], [0.6666666666666666, \"#ed7953\"], [0.7777777777777778, \"#fb9f3a\"], [0.8888888888888888, \"#fdca26\"], [1.0, \"#f0f921\"]], \"type\": \"histogram2d\"}], \"histogram2dcontour\": [{\"colorbar\": {\"outlinewidth\": 0, \"ticks\": \"\"}, \"colorscale\": [[0.0, \"#0d0887\"], [0.1111111111111111, \"#46039f\"], [0.2222222222222222, \"#7201a8\"], [0.3333333333333333, \"#9c179e\"], [0.4444444444444444, \"#bd3786\"], [0.5555555555555556, \"#d8576b\"], [0.6666666666666666, \"#ed7953\"], [0.7777777777777778, \"#fb9f3a\"], [0.8888888888888888, \"#fdca26\"], [1.0, \"#f0f921\"]], \"type\": \"histogram2dcontour\"}], \"mesh3d\": [{\"colorbar\": {\"outlinewidth\": 0, \"ticks\": \"\"}, \"type\": \"mesh3d\"}], \"parcoords\": [{\"line\": {\"colorbar\": {\"outlinewidth\": 0, \"ticks\": \"\"}}, \"type\": \"parcoords\"}], \"pie\": [{\"automargin\": true, \"type\": \"pie\"}], \"scatter\": [{\"marker\": {\"colorbar\": {\"outlinewidth\": 0, \"ticks\": \"\"}}, \"type\": \"scatter\"}], \"scatter3d\": [{\"line\": {\"colorbar\": {\"outlinewidth\": 0, \"ticks\": \"\"}}, \"marker\": {\"colorbar\": {\"outlinewidth\": 0, \"ticks\": \"\"}}, \"type\": \"scatter3d\"}], \"scattercarpet\": [{\"marker\": {\"colorbar\": {\"outlinewidth\": 0, \"ticks\": \"\"}}, \"type\": \"scattercarpet\"}], \"scattergeo\": [{\"marker\": {\"colorbar\": {\"outlinewidth\": 0, \"ticks\": \"\"}}, \"type\": \"scattergeo\"}], \"scattergl\": [{\"marker\": {\"colorbar\": {\"outlinewidth\": 0, \"ticks\": \"\"}}, \"type\": \"scattergl\"}], \"scattermapbox\": [{\"marker\": {\"colorbar\": {\"outlinewidth\": 0, \"ticks\": \"\"}}, \"type\": \"scattermapbox\"}], \"scatterpolar\": [{\"marker\": {\"colorbar\": {\"outlinewidth\": 0, \"ticks\": \"\"}}, \"type\": \"scatterpolar\"}], \"scatterpolargl\": [{\"marker\": {\"colorbar\": {\"outlinewidth\": 0, \"ticks\": \"\"}}, \"type\": \"scatterpolargl\"}], \"scatterternary\": [{\"marker\": {\"colorbar\": {\"outlinewidth\": 0, \"ticks\": \"\"}}, \"type\": \"scatterternary\"}], \"surface\": [{\"colorbar\": {\"outlinewidth\": 0, \"ticks\": \"\"}, \"colorscale\": [[0.0, \"#0d0887\"], [0.1111111111111111, \"#46039f\"], [0.2222222222222222, \"#7201a8\"], [0.3333333333333333, \"#9c179e\"], [0.4444444444444444, \"#bd3786\"], [0.5555555555555556, \"#d8576b\"], [0.6666666666666666, \"#ed7953\"], [0.7777777777777778, \"#fb9f3a\"], [0.8888888888888888, \"#fdca26\"], [1.0, \"#f0f921\"]], \"type\": \"surface\"}], \"table\": [{\"cells\": {\"fill\": {\"color\": \"#EBF0F8\"}, \"line\": {\"color\": \"white\"}}, \"header\": {\"fill\": {\"color\": \"#C8D4E3\"}, \"line\": {\"color\": \"white\"}}, \"type\": \"table\"}]}, \"layout\": {\"annotationdefaults\": {\"arrowcolor\": \"#2a3f5f\", \"arrowhead\": 0, \"arrowwidth\": 1}, \"coloraxis\": {\"colorbar\": {\"outlinewidth\": 0, \"ticks\": \"\"}}, \"colorscale\": {\"diverging\": [[0, \"#8e0152\"], [0.1, \"#c51b7d\"], [0.2, \"#de77ae\"], [0.3, \"#f1b6da\"], [0.4, \"#fde0ef\"], [0.5, \"#f7f7f7\"], [0.6, \"#e6f5d0\"], [0.7, \"#b8e186\"], [0.8, \"#7fbc41\"], [0.9, \"#4d9221\"], [1, \"#276419\"]], \"sequential\": [[0.0, \"#0d0887\"], [0.1111111111111111, \"#46039f\"], [0.2222222222222222, \"#7201a8\"], [0.3333333333333333, \"#9c179e\"], [0.4444444444444444, \"#bd3786\"], [0.5555555555555556, \"#d8576b\"], [0.6666666666666666, \"#ed7953\"], [0.7777777777777778, \"#fb9f3a\"], [0.8888888888888888, \"#fdca26\"], [1.0, \"#f0f921\"]], \"sequentialminus\": [[0.0, \"#0d0887\"], [0.1111111111111111, \"#46039f\"], [0.2222222222222222, \"#7201a8\"], [0.3333333333333333, \"#9c179e\"], [0.4444444444444444, \"#bd3786\"], [0.5555555555555556, \"#d8576b\"], [0.6666666666666666, \"#ed7953\"], [0.7777777777777778, \"#fb9f3a\"], [0.8888888888888888, \"#fdca26\"], [1.0, \"#f0f921\"]]}, \"colorway\": [\"#636efa\", \"#EF553B\", \"#00cc96\", \"#ab63fa\", \"#FFA15A\", \"#19d3f3\", \"#FF6692\", \"#B6E880\", \"#FF97FF\", \"#FECB52\"], \"font\": {\"color\": \"#2a3f5f\"}, \"geo\": {\"bgcolor\": \"white\", \"lakecolor\": \"white\", \"landcolor\": \"#E5ECF6\", \"showlakes\": true, \"showland\": true, \"subunitcolor\": \"white\"}, \"hoverlabel\": {\"align\": \"left\"}, \"hovermode\": \"closest\", \"mapbox\": {\"style\": \"light\"}, \"paper_bgcolor\": \"white\", \"plot_bgcolor\": \"#E5ECF6\", \"polar\": {\"angularaxis\": {\"gridcolor\": \"white\", \"linecolor\": \"white\", \"ticks\": \"\"}, \"bgcolor\": \"#E5ECF6\", \"radialaxis\": {\"gridcolor\": \"white\", \"linecolor\": \"white\", \"ticks\": \"\"}}, \"scene\": {\"xaxis\": {\"backgroundcolor\": \"#E5ECF6\", \"gridcolor\": \"white\", \"gridwidth\": 2, \"linecolor\": \"white\", \"showbackground\": true, \"ticks\": \"\", \"zerolinecolor\": \"white\"}, \"yaxis\": {\"backgroundcolor\": \"#E5ECF6\", \"gridcolor\": \"white\", \"gridwidth\": 2, \"linecolor\": \"white\", \"showbackground\": true, \"ticks\": \"\", \"zerolinecolor\": \"white\"}, \"zaxis\": {\"backgroundcolor\": \"#E5ECF6\", \"gridcolor\": \"white\", \"gridwidth\": 2, \"linecolor\": \"white\", \"showbackground\": true, \"ticks\": \"\", \"zerolinecolor\": \"white\"}}, \"shapedefaults\": {\"line\": {\"color\": \"#2a3f5f\"}}, \"ternary\": {\"aaxis\": {\"gridcolor\": \"white\", \"linecolor\": \"white\", \"ticks\": \"\"}, \"baxis\": {\"gridcolor\": \"white\", \"linecolor\": \"white\", \"ticks\": \"\"}, \"bgcolor\": \"#E5ECF6\", \"caxis\": {\"gridcolor\": \"white\", \"linecolor\": \"white\", \"ticks\": \"\"}}, \"title\": {\"x\": 0.05}, \"xaxis\": {\"automargin\": true, \"gridcolor\": \"white\", \"linecolor\": \"white\", \"ticks\": \"\", \"title\": {\"standoff\": 15}, \"zerolinecolor\": \"white\", \"zerolinewidth\": 2}, \"yaxis\": {\"automargin\": true, \"gridcolor\": \"white\", \"linecolor\": \"white\", \"ticks\": \"\", \"title\": {\"standoff\": 15}, \"zerolinecolor\": \"white\", \"zerolinewidth\": 2}}}, \"title\": {\"text\": \"ROC Curve (AUC=0.8771)\"}, \"width\": 700, \"xaxis\": {\"anchor\": \"y\", \"constrain\": \"domain\", \"domain\": [0.0, 1.0], \"title\": {\"text\": \"False Positive Rate\"}}, \"yaxis\": {\"anchor\": \"x\", \"domain\": [0.0, 1.0], \"scaleanchor\": \"x\", \"scaleratio\": 1, \"title\": {\"text\": \"True Positive Rate\"}}},                        {\"responsive\": true}                    ).then(function(){\n                            \nvar gd = document.getElementById('e9222743-0d52-4110-9a0f-9f5d5b088862');\nvar x = new MutationObserver(function (mutations, observer) {{\n        var display = window.getComputedStyle(gd).display;\n        if (!display || display === 'none') {{\n            console.log([gd, 'removed!']);\n            Plotly.purge(gd);\n            observer.disconnect();\n        }}\n}});\n\n// Listen for the removal of the full notebook cells\nvar notebookContainer = gd.closest('#notebook-container');\nif (notebookContainer) {{\n    x.observe(notebookContainer, {childList: true});\n}}\n\n// Listen for the clearing of the current output cell\nvar outputEl = gd.closest('.output');\nif (outputEl) {{\n    x.observe(outputEl, {childList: true});\n}}\n\n                        })                };                });            </script>        </div>"
     },
     "metadata": {}
    }
   ],
   "source": [
    "roc(model, original_X, original_y).show()"
   ]
  }
 ]
}