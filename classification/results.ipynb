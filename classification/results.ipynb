{
 "metadata": {
  "language_info": {
   "codemirror_mode": {
    "name": "ipython",
    "version": 3
   },
   "file_extension": ".py",
   "mimetype": "text/x-python",
   "name": "python",
   "nbconvert_exporter": "python",
   "pygments_lexer": "ipython3",
   "version": "3.8.9"
  },
  "orig_nbformat": 4,
  "kernelspec": {
   "name": "python3",
   "display_name": "Python 3.8.9 64-bit ('fcapy': virtualenvwrapper)"
  },
  "interpreter": {
   "hash": "082a18f759f8afdec9b7eec773590a36e4c3be1cd97bea91855dea5176a8175a"
  }
 },
 "nbformat": 4,
 "nbformat_minor": 2,
 "cells": [
  {
   "cell_type": "code",
   "execution_count": 33,
   "metadata": {},
   "outputs": [],
   "source": [
    "from datasets import titanic_data\n",
    "\n",
    "from sklearn.linear_model import LogisticRegression\n",
    "from sklearn.discriminant_analysis import LinearDiscriminantAnalysis\n",
    "from sklearn.discriminant_analysis import QuadraticDiscriminantAnalysis\n",
    "from sklearn.neighbors import KNeighborsClassifier\n",
    "from pygam import LogisticGAM, s, f\n",
    "from sklearn.decomposition import PCA\n",
    "from sklearn.svm import SVC\n",
    "\n",
    "import numpy as np\n",
    "import pandas as pd\n",
    "\n",
    "from sklearn.metrics import accuracy_score\n",
    "from sklearn.model_selection import cross_val_score\n",
    "\n",
    "from sklearn.preprocessing import StandardScaler\n",
    "from tools import polynomial_features"
   ]
  },
  {
   "source": [
    "# Data preparation"
   ],
   "cell_type": "markdown",
   "metadata": {}
  },
  {
   "cell_type": "code",
   "execution_count": 34,
   "metadata": {},
   "outputs": [],
   "source": [
    "original_X, original_y, train_X, train_y, test_X, test_y = titanic_data()"
   ]
  },
  {
   "source": [
    "## Polynomial features"
   ],
   "cell_type": "markdown",
   "metadata": {}
  },
  {
   "cell_type": "code",
   "execution_count": 35,
   "metadata": {},
   "outputs": [],
   "source": [
    "original_X_2 = polynomial_features(original_X, 2)\n",
    "train_X_2 = polynomial_features(train_X, 2)\n",
    "test_X_2 = polynomial_features(test_X, 2)\n",
    "\n",
    "scaler = StandardScaler().fit(original_X_2)\n",
    "\n",
    "original_X_2 = scaler.transform(original_X_2)\n",
    "train_X_2 = scaler.transform(train_X_2)\n",
    "test_X_2 = scaler.transform(test_X_2)"
   ]
  },
  {
   "source": [
    "## Colinear features"
   ],
   "cell_type": "markdown",
   "metadata": {}
  },
  {
   "cell_type": "code",
   "execution_count": 36,
   "metadata": {},
   "outputs": [],
   "source": [
    "original_X_coli = original_X.drop(['embarked_C',\n",
    "       'embarked_Q', 'embarked_S'], axis=1)\n",
    "train_X_coli = train_X.drop(['embarked_C',\n",
    "       'embarked_Q', 'embarked_S'], axis=1)\n",
    "test_X_coli = test_X.drop(['embarked_C',\n",
    "       'embarked_Q', 'embarked_S'], axis=1)"
   ]
  },
  {
   "source": [
    "## Feature subset"
   ],
   "cell_type": "markdown",
   "metadata": {}
  },
  {
   "cell_type": "code",
   "execution_count": 37,
   "metadata": {},
   "outputs": [],
   "source": [
    "feature_subset = ['pclass', 'sex', 'age', 'sibsp', 'embarked_S']"
   ]
  },
  {
   "source": [
    "## PCA"
   ],
   "cell_type": "markdown",
   "metadata": {}
  },
  {
   "cell_type": "code",
   "execution_count": 38,
   "metadata": {},
   "outputs": [],
   "source": [
    "pca = PCA(n_components=5)\n",
    "pca = pca.fit(original_X)\n",
    "\n",
    "transformed_train_X = pca.transform(train_X)\n",
    "transformed_test_X = pca.transform(test_X)"
   ]
  },
  {
   "cell_type": "code",
   "execution_count": 39,
   "metadata": {},
   "outputs": [],
   "source": [
    "experiments = {\n",
    "    \"LogisticRegression\": {\n",
    "        \"model\": LogisticRegression(penalty='none'),\n",
    "        \"train_X\": train_X,\n",
    "        \"test_X\": test_X,\n",
    "    },\n",
    "    \"PolynomialLogisticRegression\": {\n",
    "        \"model\": LogisticRegression(penalty='none'),\n",
    "        \"train_X\": train_X_2,\n",
    "        \"test_X\": test_X_2,\n",
    "    },\n",
    "    \"LinearDiscriminantAnalysis\": {\n",
    "        \"model\": LinearDiscriminantAnalysis(),\n",
    "        \"train_X\": train_X,\n",
    "        \"test_X\": test_X,\n",
    "    },\n",
    "    \"QuadraticDiscriminantAnalysis\": {\n",
    "        \"model\": QuadraticDiscriminantAnalysis(),\n",
    "        \"train_X\": train_X_coli,\n",
    "        \"test_X\": test_X_coli,\n",
    "    },\n",
    "    \"KNNClassification\": {\n",
    "        \"model\": KNeighborsClassifier(n_neighbors=12),\n",
    "        \"train_X\": train_X,\n",
    "        \"test_X\": test_X,\n",
    "    },\n",
    "    \"SubsetLogisticRegression\": {\n",
    "        \"model\": LogisticRegression(penalty='none'),\n",
    "        \"train_X\": train_X[feature_subset],\n",
    "        \"test_X\": test_X[feature_subset],\n",
    "    },\n",
    "    \"GeneralAdditiveModel\": {\n",
    "        \"model\": LogisticGAM(s(0) + s(1) + s(2) + s(3) + s(4)),\n",
    "        \"train_X\": train_X[feature_subset],\n",
    "        \"test_X\": test_X[feature_subset],\n",
    "    },\n",
    "    \"PCAClassification\": {\n",
    "        \"model\": LogisticRegression(penalty='none'),\n",
    "        \"train_X\": transformed_train_X,\n",
    "        \"test_X\": transformed_test_X,\n",
    "    },\n",
    "    \"SupportVectorMachinesPoly\": {\n",
    "        \"model\": SVC(kernel='poly', shrinking=False, degree=3, probability=True),\n",
    "        \"train_X\": train_X,\n",
    "        \"test_X\": test_X,\n",
    "    },\n",
    "    \"SupportVectorMachinesLinear\": {\n",
    "        \"model\": SVC(kernel='poly', shrinking=False, degree=3, probability=True),\n",
    "        \"train_X\": train_X,\n",
    "        \"test_X\": test_X,\n",
    "    },\n",
    "    \"SupportVectorMachinesRBF\": {\n",
    "        \"model\": SVC(kernel='rbf', shrinking=False, degree=3, probability=True),\n",
    "        \"train_X\": train_X,\n",
    "        \"test_X\": test_X,\n",
    "    },\n",
    "}"
   ]
  },
  {
   "cell_type": "code",
   "execution_count": 40,
   "metadata": {},
   "outputs": [],
   "source": [
    "columns = ['train_acc', 'test_acc', 'cross_val_acc']\n",
    "model_names = []\n",
    "results = []\n",
    "\n",
    "for model_name, experiment in experiments.items():\n",
    "    train_X = experiment['train_X']\n",
    "    test_X = experiment['test_X']\n",
    "    \n",
    "    model = experiment['model'].fit(train_X, train_y)\n",
    "\n",
    "    train_acc = accuracy_score(train_y, model.predict(train_X))\n",
    "    test_acc = accuracy_score(test_y, model.predict(test_X))\n",
    "\n",
    "    try:\n",
    "        cross_val = cross_val_score(model, train_X, train_y).mean()\n",
    "    except:\n",
    "        cross_val = np.NaN\n",
    "\n",
    "    model_names.append(model_name)\n",
    "    results.append([train_acc, test_acc, cross_val])\n",
    "\n",
    "result_df = pd.DataFrame(results, columns = columns, index=model_names)"
   ]
  },
  {
   "cell_type": "code",
   "execution_count": 43,
   "metadata": {},
   "outputs": [
    {
     "output_type": "execute_result",
     "data": {
      "text/plain": [
       "                               train_acc  test_acc  cross_val_acc\n",
       "SupportVectorMachinesPoly       0.821830  0.839552       0.800852\n",
       "SupportVectorMachinesLinear     0.821830  0.839552       0.800852\n",
       "PolynomialLogisticRegression    0.817014  0.820896       0.817006\n",
       "QuadraticDiscriminantAnalysis   0.799358  0.820896       0.799394\n",
       "SupportVectorMachinesRBF        0.833066  0.809701       0.813768\n",
       "KNNClassification               0.829856  0.805970       0.813806\n",
       "SubsetLogisticRegression        0.791332  0.802239       0.794516\n",
       "GeneralAdditiveModel            0.821830  0.802239            NaN\n",
       "LogisticRegression              0.797753  0.798507       0.796116\n",
       "LinearDiscriminantAnalysis      0.796148  0.798507       0.788116\n",
       "PCAClassification               0.797753  0.798507       0.792916"
      ],
      "text/html": "<div>\n<style scoped>\n    .dataframe tbody tr th:only-of-type {\n        vertical-align: middle;\n    }\n\n    .dataframe tbody tr th {\n        vertical-align: top;\n    }\n\n    .dataframe thead th {\n        text-align: right;\n    }\n</style>\n<table border=\"1\" class=\"dataframe\">\n  <thead>\n    <tr style=\"text-align: right;\">\n      <th></th>\n      <th>train_acc</th>\n      <th>test_acc</th>\n      <th>cross_val_acc</th>\n    </tr>\n  </thead>\n  <tbody>\n    <tr>\n      <th>SupportVectorMachinesPoly</th>\n      <td>0.821830</td>\n      <td>0.839552</td>\n      <td>0.800852</td>\n    </tr>\n    <tr>\n      <th>SupportVectorMachinesLinear</th>\n      <td>0.821830</td>\n      <td>0.839552</td>\n      <td>0.800852</td>\n    </tr>\n    <tr>\n      <th>PolynomialLogisticRegression</th>\n      <td>0.817014</td>\n      <td>0.820896</td>\n      <td>0.817006</td>\n    </tr>\n    <tr>\n      <th>QuadraticDiscriminantAnalysis</th>\n      <td>0.799358</td>\n      <td>0.820896</td>\n      <td>0.799394</td>\n    </tr>\n    <tr>\n      <th>SupportVectorMachinesRBF</th>\n      <td>0.833066</td>\n      <td>0.809701</td>\n      <td>0.813768</td>\n    </tr>\n    <tr>\n      <th>KNNClassification</th>\n      <td>0.829856</td>\n      <td>0.805970</td>\n      <td>0.813806</td>\n    </tr>\n    <tr>\n      <th>SubsetLogisticRegression</th>\n      <td>0.791332</td>\n      <td>0.802239</td>\n      <td>0.794516</td>\n    </tr>\n    <tr>\n      <th>GeneralAdditiveModel</th>\n      <td>0.821830</td>\n      <td>0.802239</td>\n      <td>NaN</td>\n    </tr>\n    <tr>\n      <th>LogisticRegression</th>\n      <td>0.797753</td>\n      <td>0.798507</td>\n      <td>0.796116</td>\n    </tr>\n    <tr>\n      <th>LinearDiscriminantAnalysis</th>\n      <td>0.796148</td>\n      <td>0.798507</td>\n      <td>0.788116</td>\n    </tr>\n    <tr>\n      <th>PCAClassification</th>\n      <td>0.797753</td>\n      <td>0.798507</td>\n      <td>0.792916</td>\n    </tr>\n  </tbody>\n</table>\n</div>"
     },
     "metadata": {},
     "execution_count": 43
    }
   ],
   "source": [
    "result_df.sort_values('test_acc', ascending=False)"
   ]
  },
  {
   "cell_type": "code",
   "execution_count": null,
   "metadata": {},
   "outputs": [],
   "source": []
  }
 ]
}