{
 "metadata": {
  "language_info": {
   "codemirror_mode": {
    "name": "ipython",
    "version": 3
   },
   "file_extension": ".py",
   "mimetype": "text/x-python",
   "name": "python",
   "nbconvert_exporter": "python",
   "pygments_lexer": "ipython3",
   "version": "3.8.9"
  },
  "orig_nbformat": 2,
  "kernelspec": {
   "name": "python389jvsc74a57bd0082a18f759f8afdec9b7eec773590a36e4c3be1cd97bea91855dea5176a8175a",
   "display_name": "Python 3.8.9 64-bit ('fcapy': virtualenvwrapper)"
  }
 },
 "nbformat": 4,
 "nbformat_minor": 2,
 "cells": [
  {
   "cell_type": "code",
   "execution_count": 1,
   "metadata": {},
   "outputs": [],
   "source": [
    "import os\n",
    "import pandas as pd\n",
    "import numpy as np\n",
    "import plotly.express as px\n",
    "import seaborn as sns\n",
    "\n",
    "from sklearn.discriminant_analysis import LinearDiscriminantAnalysis\n",
    "from sklearn.metrics import classification_report, confusion_matrix, plot_roc_curve\n",
    "from sklearn.model_selection import train_test_split\n",
    "from sklearn.preprocessing import StandardScaler\n",
    "\n",
    "from statsmodels.stats.outliers_influence import variance_inflation_factor"
   ]
  },
  {
   "cell_type": "code",
   "execution_count": 2,
   "metadata": {},
   "outputs": [
    {
     "output_type": "execute_result",
     "data": {
      "text/plain": [
       "(122410, 97)"
      ]
     },
     "metadata": {},
     "execution_count": 2
    }
   ],
   "source": [
    "df_cs = pd.read_csv(os.path.join('dataset', 'csgo_round_snapshots.csv'))\n",
    "df_cs.shape"
   ]
  },
  {
   "cell_type": "code",
   "execution_count": 3,
   "metadata": {},
   "outputs": [],
   "source": [
    "df_cs.replace('CT', 1, inplace=True)\n",
    "df_cs.replace('T', 0, inplace=True)\n",
    "df_cs.drop('map', axis=1, inplace=True)\n",
    "df_cs['bomb_planted'] = df_cs['bomb_planted'].astype(int)\n",
    "\n",
    "Y = df_cs['round_winner']\n",
    "scaler = StandardScaler()\n",
    "X = scaler.fit_transform(df_cs.drop('round_winner', axis=1))\n",
    "\n",
    "df_cs_scaled = pd.DataFrame(X, columns=df_cs.drop('round_winner', axis=1).columns)\n",
    "df_cs_scaled['round_winner'] = Y"
   ]
  },
  {
   "cell_type": "code",
   "execution_count": 4,
   "metadata": {},
   "outputs": [],
   "source": [
    "# default 0.25 test\n",
    "train, test = train_test_split(df_cs_scaled)"
   ]
  },
  {
   "cell_type": "code",
   "execution_count": 9,
   "metadata": {},
   "outputs": [],
   "source": [
    "train_input_var = train.drop(['round_winner'], axis=1)\n",
    "train_input_target = train['round_winner'].astype(int)\n",
    "\n",
    "test_input_var = test.drop(['round_winner'], axis=1)\n",
    "test_input_target = test['round_winner'].astype(int)\n",
    "\n",
    "scaler = StandardScaler()\n",
    "train_input_var = scaler.fit_transform(train_input_var)\n",
    "test_input_var = scaler.transform(test_input_var)"
   ]
  },
  {
   "cell_type": "code",
   "execution_count": 10,
   "metadata": {},
   "outputs": [],
   "source": [
    "from sklearn import svm\n"
   ]
  },
  {
   "cell_type": "code",
   "execution_count": 11,
   "metadata": {},
   "outputs": [],
   "source": [
    "model = svm.SVC()"
   ]
  },
  {
   "cell_type": "code",
   "execution_count": 12,
   "metadata": {},
   "outputs": [],
   "source": [
    "model = model.fit(train_input_var, train_input_target)"
   ]
  },
  {
   "cell_type": "code",
   "execution_count": null,
   "metadata": {},
   "outputs": [],
   "source": []
  }
 ]
}